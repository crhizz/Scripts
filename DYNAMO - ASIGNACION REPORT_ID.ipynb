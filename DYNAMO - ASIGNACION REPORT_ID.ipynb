{
 "cells": [
  {
   "cell_type": "code",
   "execution_count": 1,
   "id": "21c1c747",
   "metadata": {},
   "outputs": [],
   "source": [
    "import pandas as pd\n",
    "import numpy as np\n",
    "import glob\n",
    "import os\n",
    "from openpyxl import load_workbook\n",
    "pd.options.display.float_format = '{:,.2f}'.format"
   ]
  },
  {
   "cell_type": "markdown",
   "id": "9df44613",
   "metadata": {},
   "source": [
    "# RUTAS"
   ]
  },
  {
   "cell_type": "markdown",
   "id": "cef36c0e",
   "metadata": {},
   "source": [
    "### SETTLEMENT MASTER LOG"
   ]
  },
  {
   "cell_type": "code",
   "execution_count": null,
   "id": "38321533",
   "metadata": {},
   "outputs": [],
   "source": [
    "sml_files = glob.glob(r'G:\\My Drive\\RESPALDO-PC\\DYNAMO\\2023\\06. JUNIO\\Z. PROVISION\\PROVISIONES - SET*.tsv', recursive=False)\n",
    "sml_files"
   ]
  },
  {
   "cell_type": "code",
   "execution_count": null,
   "id": "7ac8262d",
   "metadata": {},
   "outputs": [],
   "source": [
    "use_cols_sml = ['MVNT_ID','PSP_AMOUNT','GROSS_AMOUNT','FEES','TAXES','NET_AMOUNT','MDR','MSI','NUMBER_MSI','RECEIPT_NO',\n",
    "                'STATUS_CODE']"
   ]
  },
  {
   "cell_type": "markdown",
   "id": "baf7556d",
   "metadata": {},
   "source": [
    "### AP JOURNAL"
   ]
  },
  {
   "cell_type": "code",
   "execution_count": 2,
   "id": "55a8252c",
   "metadata": {},
   "outputs": [
    {
     "data": {
      "text/plain": [
       "['G:\\\\My Drive\\\\RESPALDO-PC\\\\DYNAMO\\\\2023\\\\07. JULIO\\\\AP JOURNAL\\\\AP-JOURNAL_DATE JULIO 2023.tsv']"
      ]
     },
     "execution_count": 2,
     "metadata": {},
     "output_type": "execute_result"
    }
   ],
   "source": [
    "ap_files = glob.glob(r'G:\\My Drive\\RESPALDO-PC\\DYNAMO\\2023\\07. JULIO\\AP JOURNAL\\AP-JOURNAL_DATE*.tsv', recursive=False)\n",
    "ap_files"
   ]
  },
  {
   "cell_type": "markdown",
   "id": "bf9da3cf",
   "metadata": {},
   "source": [
    "# DATA SETTLEMENT MASTER LOG"
   ]
  },
  {
   "cell_type": "code",
   "execution_count": null,
   "id": "27c65ab3",
   "metadata": {},
   "outputs": [],
   "source": [
    "sml = pd.concat([pd.read_csv(f,sep='\\t',usecols=use_cols_sml).assign(file_name=os.path.basename(f)) for f in sml_files])\n",
    "sml.columns = sml.columns.str.strip().str.lower()\n",
    "sml.replace('\"\"','', regex=True, inplace=True)\n",
    "# sml['created_at'] = pd.to_datetime(sml['created_at']).dt.tz_localize(None)\n",
    "# sml['created_at_date'] =  pd.to_datetime(sml['created_at']).dt.date\n",
    "# sml['created_at_date'] =  pd.to_datetime(sml['created_at_date'])\n",
    "# sml['eff_dt'] = pd.to_datetime(sml['eff_dt']).dt.tz_localize(None)\n",
    "# sml['eff_dt_date'] =  pd.to_datetime(sml['eff_dt']).dt.date\n",
    "# sml['eff_dt_date'] =  pd.to_datetime(sml['eff_dt_date'])\n",
    "# sml.rename(columns={'ref_id':'transaction_id'},inplace=True)\n",
    "#sml['PK'] = sml['PK'].replace('M#','',inplace=True)\n",
    "sml.head()"
   ]
  },
  {
   "cell_type": "code",
   "execution_count": null,
   "id": "bb5c429d",
   "metadata": {},
   "outputs": [],
   "source": [
    "sml.shape"
   ]
  },
  {
   "cell_type": "code",
   "execution_count": null,
   "id": "aae153e9",
   "metadata": {},
   "outputs": [],
   "source": [
    "sml.dtypes"
   ]
  },
  {
   "cell_type": "code",
   "execution_count": null,
   "id": "0aee293f",
   "metadata": {},
   "outputs": [],
   "source": [
    "sml_final = sml\n",
    "sml_final.head()"
   ]
  },
  {
   "cell_type": "code",
   "execution_count": null,
   "id": "f0afff80",
   "metadata": {},
   "outputs": [],
   "source": [
    "sml_final.shape"
   ]
  },
  {
   "cell_type": "markdown",
   "id": "05244115",
   "metadata": {},
   "source": [
    "# DATA AP JOURNAL"
   ]
  },
  {
   "cell_type": "code",
   "execution_count": 3,
   "id": "68009c45",
   "metadata": {},
   "outputs": [
    {
     "data": {
      "text/html": [
       "<div>\n",
       "<style scoped>\n",
       "    .dataframe tbody tr th:only-of-type {\n",
       "        vertical-align: middle;\n",
       "    }\n",
       "\n",
       "    .dataframe tbody tr th {\n",
       "        vertical-align: top;\n",
       "    }\n",
       "\n",
       "    .dataframe thead th {\n",
       "        text-align: right;\n",
       "    }\n",
       "</style>\n",
       "<table border=\"1\" class=\"dataframe\">\n",
       "  <thead>\n",
       "    <tr style=\"text-align: right;\">\n",
       "      <th></th>\n",
       "      <th>merchant_id</th>\n",
       "      <th>merchant_name</th>\n",
       "      <th>amount</th>\n",
       "      <th>currency</th>\n",
       "      <th>type_request</th>\n",
       "      <th>mvnt_id</th>\n",
       "      <th>movement_type</th>\n",
       "      <th>source_type</th>\n",
       "      <th>created_at</th>\n",
       "      <th>eff_dt</th>\n",
       "      <th>movement_day</th>\n",
       "      <th>request_effective_date</th>\n",
       "      <th>slot_date</th>\n",
       "      <th>file_name</th>\n",
       "      <th>eff_dt_date</th>\n",
       "      <th>eff_dt_time</th>\n",
       "    </tr>\n",
       "  </thead>\n",
       "  <tbody>\n",
       "    <tr>\n",
       "      <th>8</th>\n",
       "      <td>0000b65a-c2a2-4993-8f4c-05e5b7cbd7c0</td>\n",
       "      <td>RUVALCABA PELETEROS S.A. DE C.V.</td>\n",
       "      <td>-629.87</td>\n",
       "      <td>MXN</td>\n",
       "      <td>AYGFZDQBG</td>\n",
       "      <td>28e07d99-efd8-375b-a0d9-a6be2e284c91</td>\n",
       "      <td>DISB_RQ</td>\n",
       "      <td>DISB</td>\n",
       "      <td>2023-07-06 07:26:37</td>\n",
       "      <td>2023-07-06 07:26:42</td>\n",
       "      <td>2023-07-06 07:26:31</td>\n",
       "      <td>2023-07-06 07:06:11</td>\n",
       "      <td>1969-12-31 18:00:00</td>\n",
       "      <td>AP-JOURNAL_DATE JULIO 2023.tsv</td>\n",
       "      <td>2023-07-06</td>\n",
       "      <td>07:26:42</td>\n",
       "    </tr>\n",
       "    <tr>\n",
       "      <th>7</th>\n",
       "      <td>0000b65a-c2a2-4993-8f4c-05e5b7cbd7c0</td>\n",
       "      <td>RUVALCABA PELETEROS S.A. DE C.V.</td>\n",
       "      <td>110.15</td>\n",
       "      <td>MXN</td>\n",
       "      <td>settlement processor regular payment request</td>\n",
       "      <td>28007408-451e-4670-af8e-f81658e8fb46</td>\n",
       "      <td>REGULAR_PYMT_RQ</td>\n",
       "      <td>SETT</td>\n",
       "      <td>2023-07-05 16:22:46</td>\n",
       "      <td>2023-07-06 04:30:00</td>\n",
       "      <td>2023-07-05 16:22:46</td>\n",
       "      <td>2023-07-06 04:00:00</td>\n",
       "      <td>2023-07-06 04:30:00</td>\n",
       "      <td>AP-JOURNAL_DATE JULIO 2023.tsv</td>\n",
       "      <td>2023-07-06</td>\n",
       "      <td>04:30:00</td>\n",
       "    </tr>\n",
       "    <tr>\n",
       "      <th>6</th>\n",
       "      <td>0000b65a-c2a2-4993-8f4c-05e5b7cbd7c0</td>\n",
       "      <td>RUVALCABA PELETEROS S.A. DE C.V.</td>\n",
       "      <td>519.72</td>\n",
       "      <td>MXN</td>\n",
       "      <td>settlement processor regular payment request</td>\n",
       "      <td>2c97405e-f366-4e86-9d19-ad1fe6f4c46b</td>\n",
       "      <td>REGULAR_PYMT_RQ</td>\n",
       "      <td>SETT</td>\n",
       "      <td>2023-07-05 14:09:51</td>\n",
       "      <td>2023-07-06 04:00:00</td>\n",
       "      <td>2023-07-05 14:09:51</td>\n",
       "      <td>2023-07-06 03:30:00</td>\n",
       "      <td>2023-07-06 04:00:00</td>\n",
       "      <td>AP-JOURNAL_DATE JULIO 2023.tsv</td>\n",
       "      <td>2023-07-06</td>\n",
       "      <td>04:00:00</td>\n",
       "    </tr>\n",
       "    <tr>\n",
       "      <th>5</th>\n",
       "      <td>0000b65a-c2a2-4993-8f4c-05e5b7cbd7c0</td>\n",
       "      <td>RUVALCABA PELETEROS S.A. DE C.V.</td>\n",
       "      <td>-526.71</td>\n",
       "      <td>MXN</td>\n",
       "      <td>AQM6C4NYS</td>\n",
       "      <td>9947c8a0-caf6-30eb-a06e-1af8fd229ed2</td>\n",
       "      <td>DISB_RQ</td>\n",
       "      <td>DISB</td>\n",
       "      <td>2023-07-05 07:25:49</td>\n",
       "      <td>2023-07-05 07:25:54</td>\n",
       "      <td>2023-07-05 07:25:35</td>\n",
       "      <td>2023-07-05 07:06:17</td>\n",
       "      <td>1969-12-31 18:00:00</td>\n",
       "      <td>AP-JOURNAL_DATE JULIO 2023.tsv</td>\n",
       "      <td>2023-07-05</td>\n",
       "      <td>07:25:54</td>\n",
       "    </tr>\n",
       "    <tr>\n",
       "      <th>4</th>\n",
       "      <td>0000b65a-c2a2-4993-8f4c-05e5b7cbd7c0</td>\n",
       "      <td>RUVALCABA PELETEROS S.A. DE C.V.</td>\n",
       "      <td>526.71</td>\n",
       "      <td>MXN</td>\n",
       "      <td>settlement processor regular payment request</td>\n",
       "      <td>45fc0938-1ce8-4b8c-bade-4bae4bdb83be</td>\n",
       "      <td>REGULAR_PYMT_RQ</td>\n",
       "      <td>SETT</td>\n",
       "      <td>2023-07-04 12:35:48</td>\n",
       "      <td>2023-07-05 03:30:00</td>\n",
       "      <td>2023-07-04 12:35:48</td>\n",
       "      <td>2023-07-05 03:00:00</td>\n",
       "      <td>2023-07-05 03:30:00</td>\n",
       "      <td>AP-JOURNAL_DATE JULIO 2023.tsv</td>\n",
       "      <td>2023-07-05</td>\n",
       "      <td>03:30:00</td>\n",
       "    </tr>\n",
       "  </tbody>\n",
       "</table>\n",
       "</div>"
      ],
      "text/plain": [
       "                            merchant_id                     merchant_name  \\\n",
       "8  0000b65a-c2a2-4993-8f4c-05e5b7cbd7c0  RUVALCABA PELETEROS S.A. DE C.V.   \n",
       "7  0000b65a-c2a2-4993-8f4c-05e5b7cbd7c0  RUVALCABA PELETEROS S.A. DE C.V.   \n",
       "6  0000b65a-c2a2-4993-8f4c-05e5b7cbd7c0  RUVALCABA PELETEROS S.A. DE C.V.   \n",
       "5  0000b65a-c2a2-4993-8f4c-05e5b7cbd7c0  RUVALCABA PELETEROS S.A. DE C.V.   \n",
       "4  0000b65a-c2a2-4993-8f4c-05e5b7cbd7c0  RUVALCABA PELETEROS S.A. DE C.V.   \n",
       "\n",
       "   amount currency                                  type_request  \\\n",
       "8 -629.87      MXN                                     AYGFZDQBG   \n",
       "7  110.15      MXN  settlement processor regular payment request   \n",
       "6  519.72      MXN  settlement processor regular payment request   \n",
       "5 -526.71      MXN                                     AQM6C4NYS   \n",
       "4  526.71      MXN  settlement processor regular payment request   \n",
       "\n",
       "                                mvnt_id    movement_type source_type  \\\n",
       "8  28e07d99-efd8-375b-a0d9-a6be2e284c91          DISB_RQ        DISB   \n",
       "7  28007408-451e-4670-af8e-f81658e8fb46  REGULAR_PYMT_RQ        SETT   \n",
       "6  2c97405e-f366-4e86-9d19-ad1fe6f4c46b  REGULAR_PYMT_RQ        SETT   \n",
       "5  9947c8a0-caf6-30eb-a06e-1af8fd229ed2          DISB_RQ        DISB   \n",
       "4  45fc0938-1ce8-4b8c-bade-4bae4bdb83be  REGULAR_PYMT_RQ        SETT   \n",
       "\n",
       "           created_at              eff_dt        movement_day  \\\n",
       "8 2023-07-06 07:26:37 2023-07-06 07:26:42 2023-07-06 07:26:31   \n",
       "7 2023-07-05 16:22:46 2023-07-06 04:30:00 2023-07-05 16:22:46   \n",
       "6 2023-07-05 14:09:51 2023-07-06 04:00:00 2023-07-05 14:09:51   \n",
       "5 2023-07-05 07:25:49 2023-07-05 07:25:54 2023-07-05 07:25:35   \n",
       "4 2023-07-04 12:35:48 2023-07-05 03:30:00 2023-07-04 12:35:48   \n",
       "\n",
       "  request_effective_date           slot_date                       file_name  \\\n",
       "8    2023-07-06 07:06:11 1969-12-31 18:00:00  AP-JOURNAL_DATE JULIO 2023.tsv   \n",
       "7    2023-07-06 04:00:00 2023-07-06 04:30:00  AP-JOURNAL_DATE JULIO 2023.tsv   \n",
       "6    2023-07-06 03:30:00 2023-07-06 04:00:00  AP-JOURNAL_DATE JULIO 2023.tsv   \n",
       "5    2023-07-05 07:06:17 1969-12-31 18:00:00  AP-JOURNAL_DATE JULIO 2023.tsv   \n",
       "4    2023-07-05 03:00:00 2023-07-05 03:30:00  AP-JOURNAL_DATE JULIO 2023.tsv   \n",
       "\n",
       "  eff_dt_date eff_dt_time  \n",
       "8  2023-07-06    07:26:42  \n",
       "7  2023-07-06    04:30:00  \n",
       "6  2023-07-06    04:00:00  \n",
       "5  2023-07-05    07:25:54  \n",
       "4  2023-07-05    03:30:00  "
      ]
     },
     "execution_count": 3,
     "metadata": {},
     "output_type": "execute_result"
    }
   ],
   "source": [
    "ap = pd.concat([pd.read_csv(f, sep='\\t').assign(file_name=os.path.basename(f)) for f in ap_files])\n",
    "ap.columns = ap.columns.str.strip().str.lower()\n",
    "ap.replace('\"\"','', regex=True, inplace=True)\n",
    "ap['eff_dt'] =  pd.to_datetime(ap['eff_dt']).dt.tz_localize(None)\n",
    "ap['eff_dt_date'] =  pd.to_datetime(ap['eff_dt']).dt.date\n",
    "ap['eff_dt_date'] =  pd.to_datetime(ap['eff_dt_date']).dt.tz_localize(None)\n",
    "ap['eff_dt_time'] =  pd.to_datetime(ap['eff_dt']).dt.time\n",
    "ap['movement_day'] = pd.to_datetime(ap['movement_day']).dt.tz_localize(None)\n",
    "ap['created_at'] = pd.to_datetime(ap['created_at']).dt.tz_localize(None)\n",
    "ap['request_effective_date'] = pd.to_datetime(ap['request_effective_date']).dt.tz_localize(None)\n",
    "ap['slot_date'] = pd.to_datetime(ap['slot_date']).dt.tz_localize(None)\n",
    "# ap['identifier'] = ap['source_type'].str[:1].astype(str)\n",
    "# ap['INDEX'] = (ap['eff_dt_date'].astype(str).replace(' ', '',regex=True)+'-'+\n",
    "#                ap['identifier'].astype(str).replace(' ', '',regex=True)+'-'+\n",
    "#                ap['eff_dt_time'].astype(str).replace(' ', '',regex=True))\n",
    "ap.sort_values(by=(['merchant_id','eff_dt']), ascending=[True,False], inplace=True)\n",
    "ap.head()"
   ]
  },
  {
   "cell_type": "code",
   "execution_count": 4,
   "id": "f999693d",
   "metadata": {},
   "outputs": [],
   "source": [
    "ap.reset_index(inplace=True)"
   ]
  },
  {
   "cell_type": "code",
   "execution_count": 5,
   "id": "8319eeeb",
   "metadata": {},
   "outputs": [
    {
     "data": {
      "text/html": [
       "<div>\n",
       "<style scoped>\n",
       "    .dataframe tbody tr th:only-of-type {\n",
       "        vertical-align: middle;\n",
       "    }\n",
       "\n",
       "    .dataframe tbody tr th {\n",
       "        vertical-align: top;\n",
       "    }\n",
       "\n",
       "    .dataframe thead th {\n",
       "        text-align: right;\n",
       "    }\n",
       "</style>\n",
       "<table border=\"1\" class=\"dataframe\">\n",
       "  <thead>\n",
       "    <tr style=\"text-align: right;\">\n",
       "      <th></th>\n",
       "      <th>index</th>\n",
       "      <th>merchant_id</th>\n",
       "      <th>merchant_name</th>\n",
       "      <th>amount</th>\n",
       "      <th>currency</th>\n",
       "      <th>type_request</th>\n",
       "      <th>mvnt_id</th>\n",
       "      <th>movement_type</th>\n",
       "      <th>source_type</th>\n",
       "      <th>created_at</th>\n",
       "      <th>eff_dt</th>\n",
       "      <th>movement_day</th>\n",
       "      <th>request_effective_date</th>\n",
       "      <th>slot_date</th>\n",
       "      <th>file_name</th>\n",
       "      <th>eff_dt_date</th>\n",
       "      <th>eff_dt_time</th>\n",
       "      <th>report_id</th>\n",
       "      <th>eff_dt_date_final</th>\n",
       "    </tr>\n",
       "  </thead>\n",
       "  <tbody>\n",
       "    <tr>\n",
       "      <th>0</th>\n",
       "      <td>8</td>\n",
       "      <td>0000b65a-c2a2-4993-8f4c-05e5b7cbd7c0</td>\n",
       "      <td>RUVALCABA PELETEROS S.A. DE C.V.</td>\n",
       "      <td>-629.87</td>\n",
       "      <td>MXN</td>\n",
       "      <td>AYGFZDQBG</td>\n",
       "      <td>28e07d99-efd8-375b-a0d9-a6be2e284c91</td>\n",
       "      <td>DISB_RQ</td>\n",
       "      <td>DISB</td>\n",
       "      <td>2023-07-06 07:26:37</td>\n",
       "      <td>2023-07-06 07:26:42</td>\n",
       "      <td>2023-07-06 07:26:31</td>\n",
       "      <td>2023-07-06 07:06:11</td>\n",
       "      <td>1969-12-31 18:00:00</td>\n",
       "      <td>AP-JOURNAL_DATE JULIO 2023.tsv</td>\n",
       "      <td>2023-07-06</td>\n",
       "      <td>07:26:42</td>\n",
       "      <td>AYGFZDQBG</td>\n",
       "      <td>2023-07-06</td>\n",
       "    </tr>\n",
       "    <tr>\n",
       "      <th>1</th>\n",
       "      <td>7</td>\n",
       "      <td>0000b65a-c2a2-4993-8f4c-05e5b7cbd7c0</td>\n",
       "      <td>RUVALCABA PELETEROS S.A. DE C.V.</td>\n",
       "      <td>110.15</td>\n",
       "      <td>MXN</td>\n",
       "      <td>settlement processor regular payment request</td>\n",
       "      <td>28007408-451e-4670-af8e-f81658e8fb46</td>\n",
       "      <td>REGULAR_PYMT_RQ</td>\n",
       "      <td>SETT</td>\n",
       "      <td>2023-07-05 16:22:46</td>\n",
       "      <td>2023-07-06 04:30:00</td>\n",
       "      <td>2023-07-05 16:22:46</td>\n",
       "      <td>2023-07-06 04:00:00</td>\n",
       "      <td>2023-07-06 04:30:00</td>\n",
       "      <td>AP-JOURNAL_DATE JULIO 2023.tsv</td>\n",
       "      <td>2023-07-06</td>\n",
       "      <td>04:30:00</td>\n",
       "      <td>AYGFZDQBG</td>\n",
       "      <td>2023-07-06</td>\n",
       "    </tr>\n",
       "    <tr>\n",
       "      <th>2</th>\n",
       "      <td>6</td>\n",
       "      <td>0000b65a-c2a2-4993-8f4c-05e5b7cbd7c0</td>\n",
       "      <td>RUVALCABA PELETEROS S.A. DE C.V.</td>\n",
       "      <td>519.72</td>\n",
       "      <td>MXN</td>\n",
       "      <td>settlement processor regular payment request</td>\n",
       "      <td>2c97405e-f366-4e86-9d19-ad1fe6f4c46b</td>\n",
       "      <td>REGULAR_PYMT_RQ</td>\n",
       "      <td>SETT</td>\n",
       "      <td>2023-07-05 14:09:51</td>\n",
       "      <td>2023-07-06 04:00:00</td>\n",
       "      <td>2023-07-05 14:09:51</td>\n",
       "      <td>2023-07-06 03:30:00</td>\n",
       "      <td>2023-07-06 04:00:00</td>\n",
       "      <td>AP-JOURNAL_DATE JULIO 2023.tsv</td>\n",
       "      <td>2023-07-06</td>\n",
       "      <td>04:00:00</td>\n",
       "      <td>AYGFZDQBG</td>\n",
       "      <td>2023-07-06</td>\n",
       "    </tr>\n",
       "    <tr>\n",
       "      <th>3</th>\n",
       "      <td>5</td>\n",
       "      <td>0000b65a-c2a2-4993-8f4c-05e5b7cbd7c0</td>\n",
       "      <td>RUVALCABA PELETEROS S.A. DE C.V.</td>\n",
       "      <td>-526.71</td>\n",
       "      <td>MXN</td>\n",
       "      <td>AQM6C4NYS</td>\n",
       "      <td>9947c8a0-caf6-30eb-a06e-1af8fd229ed2</td>\n",
       "      <td>DISB_RQ</td>\n",
       "      <td>DISB</td>\n",
       "      <td>2023-07-05 07:25:49</td>\n",
       "      <td>2023-07-05 07:25:54</td>\n",
       "      <td>2023-07-05 07:25:35</td>\n",
       "      <td>2023-07-05 07:06:17</td>\n",
       "      <td>1969-12-31 18:00:00</td>\n",
       "      <td>AP-JOURNAL_DATE JULIO 2023.tsv</td>\n",
       "      <td>2023-07-05</td>\n",
       "      <td>07:25:54</td>\n",
       "      <td>AQM6C4NYS</td>\n",
       "      <td>2023-07-05</td>\n",
       "    </tr>\n",
       "    <tr>\n",
       "      <th>4</th>\n",
       "      <td>4</td>\n",
       "      <td>0000b65a-c2a2-4993-8f4c-05e5b7cbd7c0</td>\n",
       "      <td>RUVALCABA PELETEROS S.A. DE C.V.</td>\n",
       "      <td>526.71</td>\n",
       "      <td>MXN</td>\n",
       "      <td>settlement processor regular payment request</td>\n",
       "      <td>45fc0938-1ce8-4b8c-bade-4bae4bdb83be</td>\n",
       "      <td>REGULAR_PYMT_RQ</td>\n",
       "      <td>SETT</td>\n",
       "      <td>2023-07-04 12:35:48</td>\n",
       "      <td>2023-07-05 03:30:00</td>\n",
       "      <td>2023-07-04 12:35:48</td>\n",
       "      <td>2023-07-05 03:00:00</td>\n",
       "      <td>2023-07-05 03:30:00</td>\n",
       "      <td>AP-JOURNAL_DATE JULIO 2023.tsv</td>\n",
       "      <td>2023-07-05</td>\n",
       "      <td>03:30:00</td>\n",
       "      <td>AQM6C4NYS</td>\n",
       "      <td>2023-07-05</td>\n",
       "    </tr>\n",
       "  </tbody>\n",
       "</table>\n",
       "</div>"
      ],
      "text/plain": [
       "   index                           merchant_id  \\\n",
       "0      8  0000b65a-c2a2-4993-8f4c-05e5b7cbd7c0   \n",
       "1      7  0000b65a-c2a2-4993-8f4c-05e5b7cbd7c0   \n",
       "2      6  0000b65a-c2a2-4993-8f4c-05e5b7cbd7c0   \n",
       "3      5  0000b65a-c2a2-4993-8f4c-05e5b7cbd7c0   \n",
       "4      4  0000b65a-c2a2-4993-8f4c-05e5b7cbd7c0   \n",
       "\n",
       "                      merchant_name  amount currency  \\\n",
       "0  RUVALCABA PELETEROS S.A. DE C.V. -629.87      MXN   \n",
       "1  RUVALCABA PELETEROS S.A. DE C.V.  110.15      MXN   \n",
       "2  RUVALCABA PELETEROS S.A. DE C.V.  519.72      MXN   \n",
       "3  RUVALCABA PELETEROS S.A. DE C.V. -526.71      MXN   \n",
       "4  RUVALCABA PELETEROS S.A. DE C.V.  526.71      MXN   \n",
       "\n",
       "                                   type_request  \\\n",
       "0                                     AYGFZDQBG   \n",
       "1  settlement processor regular payment request   \n",
       "2  settlement processor regular payment request   \n",
       "3                                     AQM6C4NYS   \n",
       "4  settlement processor regular payment request   \n",
       "\n",
       "                                mvnt_id    movement_type source_type  \\\n",
       "0  28e07d99-efd8-375b-a0d9-a6be2e284c91          DISB_RQ        DISB   \n",
       "1  28007408-451e-4670-af8e-f81658e8fb46  REGULAR_PYMT_RQ        SETT   \n",
       "2  2c97405e-f366-4e86-9d19-ad1fe6f4c46b  REGULAR_PYMT_RQ        SETT   \n",
       "3  9947c8a0-caf6-30eb-a06e-1af8fd229ed2          DISB_RQ        DISB   \n",
       "4  45fc0938-1ce8-4b8c-bade-4bae4bdb83be  REGULAR_PYMT_RQ        SETT   \n",
       "\n",
       "           created_at              eff_dt        movement_day  \\\n",
       "0 2023-07-06 07:26:37 2023-07-06 07:26:42 2023-07-06 07:26:31   \n",
       "1 2023-07-05 16:22:46 2023-07-06 04:30:00 2023-07-05 16:22:46   \n",
       "2 2023-07-05 14:09:51 2023-07-06 04:00:00 2023-07-05 14:09:51   \n",
       "3 2023-07-05 07:25:49 2023-07-05 07:25:54 2023-07-05 07:25:35   \n",
       "4 2023-07-04 12:35:48 2023-07-05 03:30:00 2023-07-04 12:35:48   \n",
       "\n",
       "  request_effective_date           slot_date                       file_name  \\\n",
       "0    2023-07-06 07:06:11 1969-12-31 18:00:00  AP-JOURNAL_DATE JULIO 2023.tsv   \n",
       "1    2023-07-06 04:00:00 2023-07-06 04:30:00  AP-JOURNAL_DATE JULIO 2023.tsv   \n",
       "2    2023-07-06 03:30:00 2023-07-06 04:00:00  AP-JOURNAL_DATE JULIO 2023.tsv   \n",
       "3    2023-07-05 07:06:17 1969-12-31 18:00:00  AP-JOURNAL_DATE JULIO 2023.tsv   \n",
       "4    2023-07-05 03:00:00 2023-07-05 03:30:00  AP-JOURNAL_DATE JULIO 2023.tsv   \n",
       "\n",
       "  eff_dt_date eff_dt_time  report_id eff_dt_date_final  \n",
       "0  2023-07-06    07:26:42  AYGFZDQBG        2023-07-06  \n",
       "1  2023-07-06    04:30:00  AYGFZDQBG        2023-07-06  \n",
       "2  2023-07-06    04:00:00  AYGFZDQBG        2023-07-06  \n",
       "3  2023-07-05    07:25:54  AQM6C4NYS        2023-07-05  \n",
       "4  2023-07-05    03:30:00  AQM6C4NYS        2023-07-05  "
      ]
     },
     "execution_count": 5,
     "metadata": {},
     "output_type": "execute_result"
    }
   ],
   "source": [
    "ap.loc[ap['source_type'] == 'DISB', 'report_id'] = ap['type_request']\n",
    "ap['report_id'] = ap['report_id'].groupby(ap['merchant_id']).fillna(method='ffill')\n",
    "ap['eff_dt_date_final'] = ap['eff_dt_date'].groupby(ap['merchant_id']).fillna(method='ffill')\n",
    "ap.head()"
   ]
  },
  {
   "cell_type": "code",
   "execution_count": 6,
   "id": "cfdd51e2",
   "metadata": {},
   "outputs": [
    {
     "data": {
      "text/plain": [
       "(4551963, 19)"
      ]
     },
     "execution_count": 6,
     "metadata": {},
     "output_type": "execute_result"
    }
   ],
   "source": [
    "ap.shape"
   ]
  },
  {
   "cell_type": "code",
   "execution_count": 7,
   "id": "b34aaf44",
   "metadata": {},
   "outputs": [
    {
     "data": {
      "text/plain": [
       "index                              int64\n",
       "merchant_id                       object\n",
       "merchant_name                     object\n",
       "amount                           float64\n",
       "currency                          object\n",
       "type_request                      object\n",
       "mvnt_id                           object\n",
       "movement_type                     object\n",
       "source_type                       object\n",
       "created_at                datetime64[ns]\n",
       "eff_dt                    datetime64[ns]\n",
       "movement_day              datetime64[ns]\n",
       "request_effective_date    datetime64[ns]\n",
       "slot_date                 datetime64[ns]\n",
       "file_name                         object\n",
       "eff_dt_date               datetime64[ns]\n",
       "eff_dt_time                       object\n",
       "report_id                         object\n",
       "eff_dt_date_final         datetime64[ns]\n",
       "dtype: object"
      ]
     },
     "execution_count": 7,
     "metadata": {},
     "output_type": "execute_result"
    }
   ],
   "source": [
    "ap.dtypes"
   ]
  },
  {
   "cell_type": "code",
   "execution_count": 8,
   "id": "533505bb",
   "metadata": {},
   "outputs": [
    {
     "data": {
      "text/plain": [
       "['DISB',\n",
       " 'SETT',\n",
       " 'TOPUPS',\n",
       " 'LOAN',\n",
       " 'PYMT',\n",
       " 'RISK',\n",
       " 'REFUNDS',\n",
       " 'PROMO',\n",
       " 'CAAL',\n",
       " 'BILL_PYMNT']"
      ]
     },
     "execution_count": 8,
     "metadata": {},
     "output_type": "execute_result"
    }
   ],
   "source": [
    "list(ap['source_type'].unique())"
   ]
  },
  {
   "cell_type": "code",
   "execution_count": 9,
   "id": "57a30c53",
   "metadata": {},
   "outputs": [
    {
     "data": {
      "text/plain": [
       "array(['AYGFZDQBG', 'AQM6C4NYS', 'AF5G93PHM', ..., 'A9B47T5DT',\n",
       "       'AYHYZ9LB2', 'A5PFTNHJV'], dtype=object)"
      ]
     },
     "execution_count": 9,
     "metadata": {},
     "output_type": "execute_result"
    }
   ],
   "source": [
    "ap['report_id'].unique()"
   ]
  },
  {
   "cell_type": "code",
   "execution_count": 10,
   "id": "acebd4f7",
   "metadata": {},
   "outputs": [],
   "source": [
    "ap_disb = ap[(ap['source_type'] == 'DISB')]\n",
    "ap_sett = ap[(ap['source_type'] == 'SETT')]\n",
    "ap_topups = ap[(ap['source_type'] == 'TOPUPS')]\n",
    "ap_loan = ap[(ap['source_type'] == 'LOAN')]\n",
    "ap_pymt = ap[(ap['source_type'] == 'PYMT')]\n",
    "ap_risk = ap[(ap['source_type'] == 'RISK')]\n",
    "ap_refunds = ap[(ap['source_type'] == 'REFUNDS')]\n",
    "ap_promo = ap[(ap['source_type'] == 'PROMO')]\n",
    "ap_bill_pymnt = ap[(ap['source_type'] == 'BILL_PYMNT')]\n",
    "ap_sett_adptr = ap[(ap['source_type'] == 'SETT_ADPTR')]\n",
    "ap_taxes = ap[(ap['source_type'] == 'TAXES')]\n",
    "ap_caal = ap[(ap['source_type'] == 'CAAL')]"
   ]
  },
  {
   "cell_type": "code",
   "execution_count": 11,
   "id": "af5cd29d",
   "metadata": {},
   "outputs": [],
   "source": [
    "ap_bill_pymnt.to_excel('AP JOURNAL-BILL_PYMNT.xlsx',index=False)"
   ]
  },
  {
   "cell_type": "code",
   "execution_count": 12,
   "id": "caeb4e79",
   "metadata": {},
   "outputs": [],
   "source": [
    "ap_caal.to_excel('AP JOURNAL-CAAL.xlsx',index=False)"
   ]
  },
  {
   "cell_type": "markdown",
   "id": "1b036e48",
   "metadata": {},
   "source": [
    "# CRUCE 1: AP JOURNAL VS. SETTLEMENT MASTER LOG"
   ]
  },
  {
   "cell_type": "code",
   "execution_count": null,
   "id": "1754a0b8",
   "metadata": {},
   "outputs": [],
   "source": [
    "cruce_1 = ap.merge(sml_final[['mvnt_id','psp_amount','gross_amount','fees','taxes','net_amount','mdr','msi','number_msi',\n",
    "                             'receipt_no','status_code']],on='mvnt_id',how='left')\n",
    "cruce_1['transaction_id'] = cruce_1['mvnt_id']\n",
    "cruce_1.head()"
   ]
  },
  {
   "cell_type": "code",
   "execution_count": null,
   "id": "db61f0bb",
   "metadata": {},
   "outputs": [],
   "source": [
    "cruce_1.shape"
   ]
  },
  {
   "cell_type": "code",
   "execution_count": null,
   "id": "4ab2db38",
   "metadata": {},
   "outputs": [],
   "source": [
    "cruce_1.columns"
   ]
  },
  {
   "cell_type": "code",
   "execution_count": null,
   "id": "90ede6ce",
   "metadata": {},
   "outputs": [],
   "source": [
    "writer = pd.ExcelWriter('Data_final_provision_junio_2023.xlsx',\n",
    "                        engine='xlsxwriter',\n",
    "                        engine_kwargs={'options': {'encoding':'utf-8'}})\n",
    "group_1.to_excel(writer, sheet_name='1', index=False)\n",
    "group_2.to_excel(writer, sheet_name='2', index=False)\n",
    "group_3.to_excel(writer, sheet_name='3', index=False)\n",
    "group_4.to_excel(writer, sheet_name='4', index=False)\n",
    "group_5.to_excel(writer, sheet_name='5', index=False)\n",
    "group_6.to_excel(writer, sheet_name='6', index=False)\n",
    "group_7.to_excel(writer, sheet_name='7', index=False)\n",
    "writer.close()"
   ]
  },
  {
   "cell_type": "code",
   "execution_count": null,
   "id": "3b20b16b",
   "metadata": {},
   "outputs": [],
   "source": []
  }
 ],
 "metadata": {
  "kernelspec": {
   "display_name": "Python 3 (ipykernel)",
   "language": "python",
   "name": "python3"
  },
  "language_info": {
   "codemirror_mode": {
    "name": "ipython",
    "version": 3
   },
   "file_extension": ".py",
   "mimetype": "text/x-python",
   "name": "python",
   "nbconvert_exporter": "python",
   "pygments_lexer": "ipython3",
   "version": "3.9.18"
  }
 },
 "nbformat": 4,
 "nbformat_minor": 5
}
