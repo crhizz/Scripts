{
 "cells": [
  {
   "cell_type": "code",
   "execution_count": 1,
   "metadata": {},
   "outputs": [],
   "source": [
    "import pandas as pd\n",
    "import numpy as np\n",
    "import glob\n",
    "import os\n",
    "from openpyxl import load_workbook\n",
    "pd.options.display.float_format = '{:,.2f}'.format"
   ]
  },
  {
   "cell_type": "code",
   "execution_count": 2,
   "metadata": {},
   "outputs": [],
   "source": [
    "start_date = '2024-01-01'\n",
    "final_date = '2024-01-31'\n",
    "query_error_year = 2024\n",
    "query_error_month = 1"
   ]
  },
  {
   "cell_type": "markdown",
   "metadata": {},
   "source": [
    "# INFORMACION DE  CUBETA ERROR"
   ]
  },
  {
   "cell_type": "code",
   "execution_count": 3,
   "metadata": {},
   "outputs": [
    {
     "data": {
      "text/html": [
       "<div>\n",
       "<style scoped>\n",
       "    .dataframe tbody tr th:only-of-type {\n",
       "        vertical-align: middle;\n",
       "    }\n",
       "\n",
       "    .dataframe tbody tr th {\n",
       "        vertical-align: top;\n",
       "    }\n",
       "\n",
       "    .dataframe thead th {\n",
       "        text-align: right;\n",
       "    }\n",
       "</style>\n",
       "<table border=\"1\" class=\"dataframe\">\n",
       "  <thead>\n",
       "    <tr style=\"text-align: right;\">\n",
       "      <th></th>\n",
       "      <th>Unnamed: 0</th>\n",
       "      <th>merchant_id</th>\n",
       "      <th>merchant_name</th>\n",
       "      <th>report_id</th>\n",
       "      <th>report_date_local</th>\n",
       "      <th>amount</th>\n",
       "      <th>status</th>\n",
       "      <th>error_description</th>\n",
       "      <th>ultimo_mov</th>\n",
       "      <th>month</th>\n",
       "      <th>year</th>\n",
       "      <th>status_cubeta</th>\n",
       "      <th>esquema_query</th>\n",
       "      <th>merchant_id_query</th>\n",
       "      <th>ultimo_mov_date_only</th>\n",
       "      <th>day</th>\n",
       "      <th>mes_cierre</th>\n",
       "    </tr>\n",
       "  </thead>\n",
       "  <tbody>\n",
       "    <tr>\n",
       "      <th>0</th>\n",
       "      <td>0</td>\n",
       "      <td>858342a7-fd31-40a4-8cc1-8e360cb12698</td>\n",
       "      <td>FARMACIA FARMA FA</td>\n",
       "      <td>M289RR3NC</td>\n",
       "      <td>2022-11-06</td>\n",
       "      <td>1.80</td>\n",
       "      <td>ERROR</td>\n",
       "      <td>DEV.SPEICUENTA INEXISTENTE</td>\n",
       "      <td>2022-11-07</td>\n",
       "      <td>11</td>\n",
       "      <td>2022</td>\n",
       "      <td>ERROR</td>\n",
       "      <td>ERROR_USUAL</td>\n",
       "      <td>858342a7-fd31-40a4-8cc1-8e360cb12698</td>\n",
       "      <td>2022-11-07</td>\n",
       "      <td>7</td>\n",
       "      <td>nan</td>\n",
       "    </tr>\n",
       "    <tr>\n",
       "      <th>1</th>\n",
       "      <td>1</td>\n",
       "      <td>da3a4b3a-7b06-49f1-8f59-ae60feececdc</td>\n",
       "      <td>El rincon del cantante</td>\n",
       "      <td>TNDPS2WWB</td>\n",
       "      <td>2022-12-14</td>\n",
       "      <td>0.95</td>\n",
       "      <td>ERROR</td>\n",
       "      <td>Bank account information not available</td>\n",
       "      <td>2022-12-14</td>\n",
       "      <td>12</td>\n",
       "      <td>2022</td>\n",
       "      <td>ERROR</td>\n",
       "      <td>SIN_CLABE</td>\n",
       "      <td>da3a4b3a-7b06-49f1-8f59-ae60feececdc</td>\n",
       "      <td>2022-12-14</td>\n",
       "      <td>14</td>\n",
       "      <td>nan</td>\n",
       "    </tr>\n",
       "    <tr>\n",
       "      <th>2</th>\n",
       "      <td>2</td>\n",
       "      <td>43685a7e-2583-480a-94be-f6aa7cfee8f6</td>\n",
       "      <td>NAILKERY SAN ANGELO</td>\n",
       "      <td>FYMY32LCT</td>\n",
       "      <td>2021-12-26</td>\n",
       "      <td>373.71</td>\n",
       "      <td>ERROR</td>\n",
       "      <td>DEV.SPEIEXCEDE EL LNMITE DE AB</td>\n",
       "      <td>2021-12-28</td>\n",
       "      <td>12</td>\n",
       "      <td>2021</td>\n",
       "      <td>ERROR</td>\n",
       "      <td>ERROR_USUAL</td>\n",
       "      <td>43685a7e-2583-480a-94be-f6aa7cfee8f6</td>\n",
       "      <td>2021-12-28</td>\n",
       "      <td>28</td>\n",
       "      <td>nan</td>\n",
       "    </tr>\n",
       "    <tr>\n",
       "      <th>3</th>\n",
       "      <td>3</td>\n",
       "      <td>3681aa22-8083-43a4-a552-ad7372081221</td>\n",
       "      <td>Bloombelle Lashes</td>\n",
       "      <td>RPB8JVFZD</td>\n",
       "      <td>2018-09-03</td>\n",
       "      <td>47.91</td>\n",
       "      <td>ERROR</td>\n",
       "      <td>failed swap</td>\n",
       "      <td>2018-09-03</td>\n",
       "      <td>9</td>\n",
       "      <td>2018</td>\n",
       "      <td>ERROR</td>\n",
       "      <td>ERROR_USUAL</td>\n",
       "      <td>3681aa22-8083-43a4-a552-ad7372081221</td>\n",
       "      <td>2018-09-03</td>\n",
       "      <td>3</td>\n",
       "      <td>nan</td>\n",
       "    </tr>\n",
       "    <tr>\n",
       "      <th>4</th>\n",
       "      <td>4</td>\n",
       "      <td>2fdcf827-4e1f-4b32-aa66-bdff89af941e</td>\n",
       "      <td>Bros Chicken</td>\n",
       "      <td>B484H8HYR</td>\n",
       "      <td>2021-02-21</td>\n",
       "      <td>362.21</td>\n",
       "      <td>ERROR</td>\n",
       "      <td>DEV.SPEICUENTA NO PERTE A BCO</td>\n",
       "      <td>2021-02-23</td>\n",
       "      <td>2</td>\n",
       "      <td>2021</td>\n",
       "      <td>ERROR</td>\n",
       "      <td>ERROR_USUAL</td>\n",
       "      <td>2fdcf827-4e1f-4b32-aa66-bdff89af941e</td>\n",
       "      <td>2021-02-23</td>\n",
       "      <td>23</td>\n",
       "      <td>nan</td>\n",
       "    </tr>\n",
       "  </tbody>\n",
       "</table>\n",
       "</div>"
      ],
      "text/plain": [
       "   Unnamed: 0                           merchant_id            merchant_name  \\\n",
       "0           0  858342a7-fd31-40a4-8cc1-8e360cb12698       FARMACIA FARMA FA    \n",
       "1           1  da3a4b3a-7b06-49f1-8f59-ae60feececdc  El rincon del cantante    \n",
       "2           2  43685a7e-2583-480a-94be-f6aa7cfee8f6      NAILKERY SAN ANGELO   \n",
       "3           3  3681aa22-8083-43a4-a552-ad7372081221        Bloombelle Lashes   \n",
       "4           4  2fdcf827-4e1f-4b32-aa66-bdff89af941e             Bros Chicken   \n",
       "\n",
       "   report_id report_date_local  amount status  \\\n",
       "0  M289RR3NC        2022-11-06    1.80  ERROR   \n",
       "1  TNDPS2WWB        2022-12-14    0.95  ERROR   \n",
       "2  FYMY32LCT        2021-12-26  373.71  ERROR   \n",
       "3  RPB8JVFZD        2018-09-03   47.91  ERROR   \n",
       "4  B484H8HYR        2021-02-21  362.21  ERROR   \n",
       "\n",
       "                        error_description ultimo_mov  month  year  \\\n",
       "0          DEV.SPEICUENTA INEXISTENTE     2022-11-07     11  2022   \n",
       "1  Bank account information not available 2022-12-14     12  2022   \n",
       "2          DEV.SPEIEXCEDE EL LNMITE DE AB 2021-12-28     12  2021   \n",
       "3                             failed swap 2018-09-03      9  2018   \n",
       "4          DEV.SPEICUENTA NO PERTE A BCO  2021-02-23      2  2021   \n",
       "\n",
       "  status_cubeta esquema_query                     merchant_id_query  \\\n",
       "0         ERROR   ERROR_USUAL  858342a7-fd31-40a4-8cc1-8e360cb12698   \n",
       "1         ERROR     SIN_CLABE  da3a4b3a-7b06-49f1-8f59-ae60feececdc   \n",
       "2         ERROR   ERROR_USUAL  43685a7e-2583-480a-94be-f6aa7cfee8f6   \n",
       "3         ERROR   ERROR_USUAL  3681aa22-8083-43a4-a552-ad7372081221   \n",
       "4         ERROR   ERROR_USUAL  2fdcf827-4e1f-4b32-aa66-bdff89af941e   \n",
       "\n",
       "  ultimo_mov_date_only  day mes_cierre  \n",
       "0           2022-11-07    7        nan  \n",
       "1           2022-12-14   14        nan  \n",
       "2           2021-12-28   28        nan  \n",
       "3           2018-09-03    3        nan  \n",
       "4           2021-02-23   23        nan  "
      ]
     },
     "execution_count": 3,
     "metadata": {},
     "output_type": "execute_result"
    }
   ],
   "source": [
    "query_error = pd.read_csv(r'C:\\Users\\Cristian.Aparicio\\Documents\\POLIZAS\\2024\\01. ENERO\\DATA\\ERROR ENERO 2024.csv',\n",
    "                          dtype={'report_id':object})\n",
    "query_error.rename(columns ={'MAX(report_date_local)':'report_date_local'}, inplace=True)\n",
    "query_error['report_date_local']= pd.to_datetime(query_error['report_date_local'])\n",
    "query_error['ultimo_mov'] = pd.to_datetime(query_error['ultimo_mov'])\n",
    "query_error['merchant_id_query'] = query_error['merchant_id']\n",
    "query_error['ultimo_mov_date_only']= pd.to_datetime(query_error['ultimo_mov']).dt.date\n",
    "query_error['day'] = query_error['ultimo_mov'].dt.day\n",
    "query_error['month'] = query_error['ultimo_mov'].dt.month\n",
    "query_error['year'] = query_error['ultimo_mov'].dt.year\n",
    "# query_error.loc[((query_error['day'] == 30 )\n",
    "#                 & (query_error['month'] == 7)\n",
    "#                 & (query_error['year'] == 2022)), \"mes_cierre\"] = 'Actual'\n",
    "# query_error.loc[(query_error['day'] == 31 )\n",
    "#             & (query_error['month'] == 7 )\n",
    "#             & (query_error['year'] == 2022), \"mes_cierre\"] = 'Actual'\n",
    "query_error.loc[(query_error['month'] == query_error_month )\n",
    "            & (query_error['year'] == query_error_year), \"mes_cierre\"] = 'Actual'\n",
    "query_error.head()"
   ]
  },
  {
   "cell_type": "code",
   "execution_count": 4,
   "metadata": {},
   "outputs": [
    {
     "data": {
      "text/plain": [
       "(157709, 17)"
      ]
     },
     "execution_count": 4,
     "metadata": {},
     "output_type": "execute_result"
    }
   ],
   "source": [
    "query_error.shape"
   ]
  },
  {
   "cell_type": "code",
   "execution_count": 5,
   "metadata": {},
   "outputs": [
    {
     "data": {
      "text/plain": [
       "array(['nan', 'Actual'], dtype=object)"
      ]
     },
     "execution_count": 5,
     "metadata": {},
     "output_type": "execute_result"
    }
   ],
   "source": [
    "query_error['mes_cierre'].unique()"
   ]
  },
  {
   "cell_type": "code",
   "execution_count": 6,
   "metadata": {},
   "outputs": [
    {
     "data": {
      "text/plain": [
       "Unnamed: 0                       int64\n",
       "merchant_id                     object\n",
       "merchant_name                   object\n",
       "report_id                       object\n",
       "report_date_local       datetime64[ns]\n",
       "amount                         float64\n",
       "status                          object\n",
       "error_description               object\n",
       "ultimo_mov              datetime64[ns]\n",
       "month                            int32\n",
       "year                             int32\n",
       "status_cubeta                   object\n",
       "esquema_query                   object\n",
       "merchant_id_query               object\n",
       "ultimo_mov_date_only            object\n",
       "day                              int32\n",
       "mes_cierre                      object\n",
       "dtype: object"
      ]
     },
     "execution_count": 6,
     "metadata": {},
     "output_type": "execute_result"
    }
   ],
   "source": [
    "query_error.dtypes"
   ]
  },
  {
   "cell_type": "code",
   "execution_count": 7,
   "metadata": {},
   "outputs": [
    {
     "data": {
      "text/plain": [
       "array(['ERROR_USUAL', 'SIN_CLABE'], dtype=object)"
      ]
     },
     "execution_count": 7,
     "metadata": {},
     "output_type": "execute_result"
    }
   ],
   "source": [
    "query_error['esquema_query'].unique()"
   ]
  },
  {
   "cell_type": "code",
   "execution_count": 8,
   "metadata": {},
   "outputs": [
    {
     "data": {
      "text/plain": [
       "array(['ERROR', 'NEW'], dtype=object)"
      ]
     },
     "execution_count": 8,
     "metadata": {},
     "output_type": "execute_result"
    }
   ],
   "source": [
    "query_error['status_cubeta'].unique()"
   ]
  },
  {
   "cell_type": "markdown",
   "metadata": {},
   "source": [
    "# FILTRAR INFORMACION DE ACUERDO AL MES EN CURSO "
   ]
  },
  {
   "cell_type": "code",
   "execution_count": 9,
   "metadata": {},
   "outputs": [
    {
     "name": "stderr",
     "output_type": "stream",
     "text": [
      "C:\\Users\\Cristian.Aparicio\\AppData\\Local\\Temp\\ipykernel_15724\\3502651561.py:2: SettingWithCopyWarning: \n",
      "A value is trying to be set on a copy of a slice from a DataFrame\n",
      "\n",
      "See the caveats in the documentation: https://pandas.pydata.org/pandas-docs/stable/user_guide/indexing.html#returning-a-view-versus-a-copy\n",
      "  query_error_current_month.sort_values(by=['day'],inplace=True)\n"
     ]
    },
    {
     "data": {
      "text/html": [
       "<div>\n",
       "<style scoped>\n",
       "    .dataframe tbody tr th:only-of-type {\n",
       "        vertical-align: middle;\n",
       "    }\n",
       "\n",
       "    .dataframe tbody tr th {\n",
       "        vertical-align: top;\n",
       "    }\n",
       "\n",
       "    .dataframe thead th {\n",
       "        text-align: right;\n",
       "    }\n",
       "</style>\n",
       "<table border=\"1\" class=\"dataframe\">\n",
       "  <thead>\n",
       "    <tr style=\"text-align: right;\">\n",
       "      <th></th>\n",
       "      <th>Unnamed: 0</th>\n",
       "      <th>merchant_id</th>\n",
       "      <th>merchant_name</th>\n",
       "      <th>report_id</th>\n",
       "      <th>report_date_local</th>\n",
       "      <th>amount</th>\n",
       "      <th>status</th>\n",
       "      <th>error_description</th>\n",
       "      <th>ultimo_mov</th>\n",
       "      <th>month</th>\n",
       "      <th>year</th>\n",
       "      <th>status_cubeta</th>\n",
       "      <th>esquema_query</th>\n",
       "      <th>merchant_id_query</th>\n",
       "      <th>ultimo_mov_date_only</th>\n",
       "      <th>day</th>\n",
       "      <th>mes_cierre</th>\n",
       "    </tr>\n",
       "  </thead>\n",
       "  <tbody>\n",
       "    <tr>\n",
       "      <th>114059</th>\n",
       "      <td>114059</td>\n",
       "      <td>f19c69bb-2e8b-4688-949d-9cc6a0199829</td>\n",
       "      <td>NaN</td>\n",
       "      <td>A6QVBYZKZ</td>\n",
       "      <td>2023-12-31</td>\n",
       "      <td>3,610.63</td>\n",
       "      <td>ERROR</td>\n",
       "      <td>DEV.SPEIEXCEDE EL LNMITE DE AB</td>\n",
       "      <td>2024-01-01</td>\n",
       "      <td>1</td>\n",
       "      <td>2024</td>\n",
       "      <td>ERROR</td>\n",
       "      <td>ERROR_USUAL</td>\n",
       "      <td>f19c69bb-2e8b-4688-949d-9cc6a0199829</td>\n",
       "      <td>2024-01-01</td>\n",
       "      <td>1</td>\n",
       "      <td>Actual</td>\n",
       "    </tr>\n",
       "    <tr>\n",
       "      <th>77419</th>\n",
       "      <td>77419</td>\n",
       "      <td>66e8c437-729d-4654-95c5-fd2e09a30d99</td>\n",
       "      <td>NaN</td>\n",
       "      <td>AXJRNPLSK</td>\n",
       "      <td>2023-12-31</td>\n",
       "      <td>3,219.69</td>\n",
       "      <td>ERROR</td>\n",
       "      <td>DEV.SPEICUENTA INEXISTENTE</td>\n",
       "      <td>2024-01-01</td>\n",
       "      <td>1</td>\n",
       "      <td>2024</td>\n",
       "      <td>ERROR</td>\n",
       "      <td>ERROR_USUAL</td>\n",
       "      <td>66e8c437-729d-4654-95c5-fd2e09a30d99</td>\n",
       "      <td>2024-01-01</td>\n",
       "      <td>1</td>\n",
       "      <td>Actual</td>\n",
       "    </tr>\n",
       "    <tr>\n",
       "      <th>152146</th>\n",
       "      <td>152146</td>\n",
       "      <td>2c6a9f31-b80b-4a4d-978a-d983341e3a29</td>\n",
       "      <td>NaN</td>\n",
       "      <td>ATPX8HW8K</td>\n",
       "      <td>2024-01-01</td>\n",
       "      <td>348.80</td>\n",
       "      <td>ERROR</td>\n",
       "      <td>Bank account information not available</td>\n",
       "      <td>2024-01-01</td>\n",
       "      <td>1</td>\n",
       "      <td>2024</td>\n",
       "      <td>ERROR</td>\n",
       "      <td>SIN_CLABE</td>\n",
       "      <td>2c6a9f31-b80b-4a4d-978a-d983341e3a29</td>\n",
       "      <td>2024-01-01</td>\n",
       "      <td>1</td>\n",
       "      <td>Actual</td>\n",
       "    </tr>\n",
       "    <tr>\n",
       "      <th>138215</th>\n",
       "      <td>138215</td>\n",
       "      <td>1643e81b-db77-4da1-8c4c-04b78b6e87c7</td>\n",
       "      <td>NaN</td>\n",
       "      <td>ATMMDZD5T</td>\n",
       "      <td>2024-01-01</td>\n",
       "      <td>3.20</td>\n",
       "      <td>ERROR</td>\n",
       "      <td>Bank account information not available</td>\n",
       "      <td>2024-01-01</td>\n",
       "      <td>1</td>\n",
       "      <td>2024</td>\n",
       "      <td>ERROR</td>\n",
       "      <td>SIN_CLABE</td>\n",
       "      <td>1643e81b-db77-4da1-8c4c-04b78b6e87c7</td>\n",
       "      <td>2024-01-01</td>\n",
       "      <td>1</td>\n",
       "      <td>Actual</td>\n",
       "    </tr>\n",
       "    <tr>\n",
       "      <th>32647</th>\n",
       "      <td>32647</td>\n",
       "      <td>87b31f9f-4f79-4f48-9f49-852737d40646</td>\n",
       "      <td>NaN</td>\n",
       "      <td>AF68Q4LXH</td>\n",
       "      <td>2023-12-31</td>\n",
       "      <td>2,364.76</td>\n",
       "      <td>ERROR</td>\n",
       "      <td>DEV.SPEIEXCEDE EL LNMITE DE AB</td>\n",
       "      <td>2024-01-01</td>\n",
       "      <td>1</td>\n",
       "      <td>2024</td>\n",
       "      <td>ERROR</td>\n",
       "      <td>ERROR_USUAL</td>\n",
       "      <td>87b31f9f-4f79-4f48-9f49-852737d40646</td>\n",
       "      <td>2024-01-01</td>\n",
       "      <td>1</td>\n",
       "      <td>Actual</td>\n",
       "    </tr>\n",
       "  </tbody>\n",
       "</table>\n",
       "</div>"
      ],
      "text/plain": [
       "        Unnamed: 0                           merchant_id merchant_name  \\\n",
       "114059      114059  f19c69bb-2e8b-4688-949d-9cc6a0199829           NaN   \n",
       "77419        77419  66e8c437-729d-4654-95c5-fd2e09a30d99           NaN   \n",
       "152146      152146  2c6a9f31-b80b-4a4d-978a-d983341e3a29           NaN   \n",
       "138215      138215  1643e81b-db77-4da1-8c4c-04b78b6e87c7           NaN   \n",
       "32647        32647  87b31f9f-4f79-4f48-9f49-852737d40646           NaN   \n",
       "\n",
       "        report_id report_date_local   amount status  \\\n",
       "114059  A6QVBYZKZ        2023-12-31 3,610.63  ERROR   \n",
       "77419   AXJRNPLSK        2023-12-31 3,219.69  ERROR   \n",
       "152146  ATPX8HW8K        2024-01-01   348.80  ERROR   \n",
       "138215  ATMMDZD5T        2024-01-01     3.20  ERROR   \n",
       "32647   AF68Q4LXH        2023-12-31 2,364.76  ERROR   \n",
       "\n",
       "                             error_description ultimo_mov  month  year  \\\n",
       "114059          DEV.SPEIEXCEDE EL LNMITE DE AB 2024-01-01      1  2024   \n",
       "77419           DEV.SPEICUENTA INEXISTENTE     2024-01-01      1  2024   \n",
       "152146  Bank account information not available 2024-01-01      1  2024   \n",
       "138215  Bank account information not available 2024-01-01      1  2024   \n",
       "32647           DEV.SPEIEXCEDE EL LNMITE DE AB 2024-01-01      1  2024   \n",
       "\n",
       "       status_cubeta esquema_query                     merchant_id_query  \\\n",
       "114059         ERROR   ERROR_USUAL  f19c69bb-2e8b-4688-949d-9cc6a0199829   \n",
       "77419          ERROR   ERROR_USUAL  66e8c437-729d-4654-95c5-fd2e09a30d99   \n",
       "152146         ERROR     SIN_CLABE  2c6a9f31-b80b-4a4d-978a-d983341e3a29   \n",
       "138215         ERROR     SIN_CLABE  1643e81b-db77-4da1-8c4c-04b78b6e87c7   \n",
       "32647          ERROR   ERROR_USUAL  87b31f9f-4f79-4f48-9f49-852737d40646   \n",
       "\n",
       "       ultimo_mov_date_only  day mes_cierre  \n",
       "114059           2024-01-01    1     Actual  \n",
       "77419            2024-01-01    1     Actual  \n",
       "152146           2024-01-01    1     Actual  \n",
       "138215           2024-01-01    1     Actual  \n",
       "32647            2024-01-01    1     Actual  "
      ]
     },
     "execution_count": 9,
     "metadata": {},
     "output_type": "execute_result"
    }
   ],
   "source": [
    "query_error_current_month = query_error[(query_error['mes_cierre'] == 'Actual')]\n",
    "query_error_current_month.sort_values(by=['day'],inplace=True)\n",
    "query_error_current_month.head()"
   ]
  },
  {
   "cell_type": "code",
   "execution_count": 10,
   "metadata": {},
   "outputs": [
    {
     "data": {
      "text/plain": [
       "(10354, 17)"
      ]
     },
     "execution_count": 10,
     "metadata": {},
     "output_type": "execute_result"
    }
   ],
   "source": [
    "query_error_current_month.shape"
   ]
  },
  {
   "cell_type": "code",
   "execution_count": 11,
   "metadata": {},
   "outputs": [
    {
     "data": {
      "text/plain": [
       "Index(['Unnamed: 0', 'merchant_id', 'merchant_name', 'report_id',\n",
       "       'report_date_local', 'amount', 'status', 'error_description',\n",
       "       'ultimo_mov', 'month', 'year', 'status_cubeta', 'esquema_query',\n",
       "       'merchant_id_query', 'ultimo_mov_date_only', 'day', 'mes_cierre'],\n",
       "      dtype='object')"
      ]
     },
     "execution_count": 11,
     "metadata": {},
     "output_type": "execute_result"
    }
   ],
   "source": [
    "query_error_current_month.columns"
   ]
  },
  {
   "cell_type": "code",
   "execution_count": 12,
   "metadata": {},
   "outputs": [
    {
     "data": {
      "text/html": [
       "<div>\n",
       "<style scoped>\n",
       "    .dataframe tbody tr th:only-of-type {\n",
       "        vertical-align: middle;\n",
       "    }\n",
       "\n",
       "    .dataframe tbody tr th {\n",
       "        vertical-align: top;\n",
       "    }\n",
       "\n",
       "    .dataframe thead th {\n",
       "        text-align: right;\n",
       "    }\n",
       "</style>\n",
       "<table border=\"1\" class=\"dataframe\">\n",
       "  <thead>\n",
       "    <tr style=\"text-align: right;\">\n",
       "      <th></th>\n",
       "      <th>Unnamed: 0</th>\n",
       "      <th>merchant_id</th>\n",
       "      <th>merchant_name</th>\n",
       "      <th>report_id</th>\n",
       "      <th>report_date_local</th>\n",
       "      <th>amount</th>\n",
       "      <th>status</th>\n",
       "      <th>error_description</th>\n",
       "      <th>ultimo_mov</th>\n",
       "      <th>month</th>\n",
       "      <th>year</th>\n",
       "      <th>status_cubeta</th>\n",
       "      <th>esquema_query</th>\n",
       "      <th>merchant_id_query</th>\n",
       "      <th>ultimo_mov_date_only</th>\n",
       "      <th>day</th>\n",
       "      <th>mes_cierre</th>\n",
       "    </tr>\n",
       "  </thead>\n",
       "  <tbody>\n",
       "  </tbody>\n",
       "</table>\n",
       "</div>"
      ],
      "text/plain": [
       "Empty DataFrame\n",
       "Columns: [Unnamed: 0, merchant_id, merchant_name, report_id, report_date_local, amount, status, error_description, ultimo_mov, month, year, status_cubeta, esquema_query, merchant_id_query, ultimo_mov_date_only, day, mes_cierre]\n",
       "Index: []"
      ]
     },
     "execution_count": 12,
     "metadata": {},
     "output_type": "execute_result"
    }
   ],
   "source": [
    "duplicates_query_error = query_error_current_month[query_error_current_month.duplicated(['report_id'] , keep=False)]\n",
    "duplicates_query_error.head()"
   ]
  },
  {
   "cell_type": "code",
   "execution_count": 13,
   "metadata": {},
   "outputs": [
    {
     "data": {
      "text/plain": [
       "(0, 17)"
      ]
     },
     "execution_count": 13,
     "metadata": {},
     "output_type": "execute_result"
    }
   ],
   "source": [
    "duplicates_query_error.shape"
   ]
  },
  {
   "cell_type": "markdown",
   "metadata": {},
   "source": [
    "# AGRUPADO POR ESQUEMA"
   ]
  },
  {
   "cell_type": "code",
   "execution_count": 14,
   "metadata": {},
   "outputs": [
    {
     "name": "stderr",
     "output_type": "stream",
     "text": [
      "C:\\Users\\Cristian.Aparicio\\AppData\\Local\\Temp\\ipykernel_15724\\3966531006.py:1: FutureWarning: The provided callable <function sum at 0x000002CFFA9D5AF0> is currently using DataFrameGroupBy.sum. In a future version of pandas, the provided callable will be used directly. To keep current behavior pass the string \"sum\" instead.\n",
      "  group_esquema = pd.pivot_table(query_error_current_month,index=['ultimo_mov_date_only']\n",
      "C:\\Users\\Cristian.Aparicio\\AppData\\Local\\Temp\\ipykernel_15724\\3966531006.py:1: FutureWarning: The provided callable <function sum at 0x000002CFFA9D5AF0> is currently using DataFrameGroupBy.sum. In a future version of pandas, the provided callable will be used directly. To keep current behavior pass the string \"sum\" instead.\n",
      "  group_esquema = pd.pivot_table(query_error_current_month,index=['ultimo_mov_date_only']\n",
      "C:\\Users\\Cristian.Aparicio\\AppData\\Local\\Temp\\ipykernel_15724\\3966531006.py:1: FutureWarning: The provided callable <function sum at 0x000002CFFA9D5AF0> is currently using DataFrameGroupBy.sum. In a future version of pandas, the provided callable will be used directly. To keep current behavior pass the string \"sum\" instead.\n",
      "  group_esquema = pd.pivot_table(query_error_current_month,index=['ultimo_mov_date_only']\n"
     ]
    },
    {
     "data": {
      "text/html": [
       "<div>\n",
       "<style scoped>\n",
       "    .dataframe tbody tr th:only-of-type {\n",
       "        vertical-align: middle;\n",
       "    }\n",
       "\n",
       "    .dataframe tbody tr th {\n",
       "        vertical-align: top;\n",
       "    }\n",
       "\n",
       "    .dataframe thead tr th {\n",
       "        text-align: left;\n",
       "    }\n",
       "</style>\n",
       "<table border=\"1\" class=\"dataframe\">\n",
       "  <thead>\n",
       "    <tr>\n",
       "      <th></th>\n",
       "      <th>ultimo_mov_date_only</th>\n",
       "      <th colspan=\"5\" halign=\"left\">amount</th>\n",
       "    </tr>\n",
       "    <tr>\n",
       "      <th>esquema_query</th>\n",
       "      <th></th>\n",
       "      <th colspan=\"2\" halign=\"left\">ERROR_USUAL</th>\n",
       "      <th colspan=\"2\" halign=\"left\">SIN_CLABE</th>\n",
       "      <th>All</th>\n",
       "    </tr>\n",
       "    <tr>\n",
       "      <th>status_cubeta</th>\n",
       "      <th></th>\n",
       "      <th>ERROR</th>\n",
       "      <th>NEW</th>\n",
       "      <th>ERROR</th>\n",
       "      <th>NEW</th>\n",
       "      <th></th>\n",
       "    </tr>\n",
       "  </thead>\n",
       "  <tbody>\n",
       "    <tr>\n",
       "      <th>0</th>\n",
       "      <td>2024-01-01</td>\n",
       "      <td>180,970.61</td>\n",
       "      <td>0.00</td>\n",
       "      <td>88,170.59</td>\n",
       "      <td>0.00</td>\n",
       "      <td>269,141.20</td>\n",
       "    </tr>\n",
       "    <tr>\n",
       "      <th>1</th>\n",
       "      <td>2024-01-02</td>\n",
       "      <td>56,755.40</td>\n",
       "      <td>126,115.13</td>\n",
       "      <td>0.00</td>\n",
       "      <td>26,289.15</td>\n",
       "      <td>209,159.68</td>\n",
       "    </tr>\n",
       "    <tr>\n",
       "      <th>2</th>\n",
       "      <td>2024-01-03</td>\n",
       "      <td>5,772.67</td>\n",
       "      <td>145,426.65</td>\n",
       "      <td>0.00</td>\n",
       "      <td>70,118.22</td>\n",
       "      <td>221,317.54</td>\n",
       "    </tr>\n",
       "    <tr>\n",
       "      <th>3</th>\n",
       "      <td>2024-01-04</td>\n",
       "      <td>72,299.73</td>\n",
       "      <td>72,118.96</td>\n",
       "      <td>0.00</td>\n",
       "      <td>105,564.98</td>\n",
       "      <td>249,983.67</td>\n",
       "    </tr>\n",
       "    <tr>\n",
       "      <th>4</th>\n",
       "      <td>2024-01-05</td>\n",
       "      <td>50,333.20</td>\n",
       "      <td>111,439.14</td>\n",
       "      <td>0.00</td>\n",
       "      <td>91,584.51</td>\n",
       "      <td>253,356.85</td>\n",
       "    </tr>\n",
       "  </tbody>\n",
       "</table>\n",
       "</div>"
      ],
      "text/plain": [
       "              ultimo_mov_date_only      amount                       \\\n",
       "esquema_query                      ERROR_USUAL            SIN_CLABE   \n",
       "status_cubeta                            ERROR        NEW     ERROR   \n",
       "0                       2024-01-01  180,970.61       0.00 88,170.59   \n",
       "1                       2024-01-02   56,755.40 126,115.13      0.00   \n",
       "2                       2024-01-03    5,772.67 145,426.65      0.00   \n",
       "3                       2024-01-04   72,299.73  72,118.96      0.00   \n",
       "4                       2024-01-05   50,333.20 111,439.14      0.00   \n",
       "\n",
       "                                     \n",
       "esquema_query                   All  \n",
       "status_cubeta        NEW             \n",
       "0                   0.00 269,141.20  \n",
       "1              26,289.15 209,159.68  \n",
       "2              70,118.22 221,317.54  \n",
       "3             105,564.98 249,983.67  \n",
       "4              91,584.51 253,356.85  "
      ]
     },
     "execution_count": 14,
     "metadata": {},
     "output_type": "execute_result"
    }
   ],
   "source": [
    "group_esquema = pd.pivot_table(query_error_current_month,index=['ultimo_mov_date_only']\n",
    "                                              ,columns=['esquema_query','status_cubeta'],values=['amount']\n",
    "                                              ,aggfunc=np.sum,margins=True).reset_index()\n",
    "group_esquema.fillna(0,inplace=True)\n",
    "group_esquema.head()"
   ]
  },
  {
   "cell_type": "code",
   "execution_count": 15,
   "metadata": {},
   "outputs": [
    {
     "data": {
      "text/plain": [
       "(32, 6)"
      ]
     },
     "execution_count": 15,
     "metadata": {},
     "output_type": "execute_result"
    }
   ],
   "source": [
    "group_esquema.shape"
   ]
  },
  {
   "cell_type": "code",
   "execution_count": 16,
   "metadata": {},
   "outputs": [],
   "source": [
    "writer = pd.ExcelWriter('FASE VI. DATA POLIZA ERROR-SIN CLABE ENERO 2024.xlsx',\n",
    "                        engine='xlsxwriter',\n",
    "                        engine_kwargs={'options': {'encoding':'utf-8'}})\n",
    "group_esquema.to_excel(writer, sheet_name='GRUPO ESQUEMA')\n",
    "query_error_current_month.to_excel(writer, sheet_name='DETALLE',index=False)\n",
    "writer.close()"
   ]
  },
  {
   "cell_type": "code",
   "execution_count": null,
   "metadata": {},
   "outputs": [],
   "source": []
  }
 ],
 "metadata": {
  "kernelspec": {
   "display_name": "Python 3 (ipykernel)",
   "language": "python",
   "name": "python3"
  },
  "language_info": {
   "codemirror_mode": {
    "name": "ipython",
    "version": 3
   },
   "file_extension": ".py",
   "mimetype": "text/x-python",
   "name": "python",
   "nbconvert_exporter": "python",
   "pygments_lexer": "ipython3",
   "version": "3.9.18"
  }
 },
 "nbformat": 4,
 "nbformat_minor": 4
}
