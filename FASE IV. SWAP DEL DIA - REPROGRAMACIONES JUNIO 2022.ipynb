{
 "cells": [
  {
   "cell_type": "code",
   "execution_count": 1,
   "metadata": {},
   "outputs": [],
   "source": [
    "import pandas as pd\n",
    "import numpy as np\n",
    "import glob\n",
    "import os\n",
    "from openpyxl import load_workbook\n",
    "pd.options.display.float_format = '{:,.2f}'.format"
   ]
  },
  {
   "cell_type": "markdown",
   "metadata": {},
   "source": [
    "# MES AÑO DE CONCILIACIÓN"
   ]
  },
  {
   "cell_type": "code",
   "execution_count": 2,
   "metadata": {},
   "outputs": [],
   "source": [
    "month_conc = 'June'\n",
    "year_conc = '2022'"
   ]
  },
  {
   "cell_type": "markdown",
   "metadata": {},
   "source": [
    "# RUTAS DE ACCESO"
   ]
  },
  {
   "cell_type": "markdown",
   "metadata": {},
   "source": [
    "### SWAP DEL DIA "
   ]
  },
  {
   "cell_type": "code",
   "execution_count": 3,
   "metadata": {},
   "outputs": [
    {
     "data": {
      "text/plain": [
       "['C:\\\\Users\\\\Cristian.Aparicio\\\\Documents\\\\DISPERSIONES\\\\2022\\\\06. JUNIO\\\\ARCHIVO DISPERSIONES\\\\Dispersión-20220601.xlsx',\n",
       " 'C:\\\\Users\\\\Cristian.Aparicio\\\\Documents\\\\DISPERSIONES\\\\2022\\\\06. JUNIO\\\\ARCHIVO DISPERSIONES\\\\Dispersión-20220602.xlsx',\n",
       " 'C:\\\\Users\\\\Cristian.Aparicio\\\\Documents\\\\DISPERSIONES\\\\2022\\\\06. JUNIO\\\\ARCHIVO DISPERSIONES\\\\Dispersión-20220603.xlsx',\n",
       " 'C:\\\\Users\\\\Cristian.Aparicio\\\\Documents\\\\DISPERSIONES\\\\2022\\\\06. JUNIO\\\\ARCHIVO DISPERSIONES\\\\Dispersión-20220604.xlsx',\n",
       " 'C:\\\\Users\\\\Cristian.Aparicio\\\\Documents\\\\DISPERSIONES\\\\2022\\\\06. JUNIO\\\\ARCHIVO DISPERSIONES\\\\Dispersión-20220605.xlsx',\n",
       " 'C:\\\\Users\\\\Cristian.Aparicio\\\\Documents\\\\DISPERSIONES\\\\2022\\\\06. JUNIO\\\\ARCHIVO DISPERSIONES\\\\Dispersión-20220606.xlsx',\n",
       " 'C:\\\\Users\\\\Cristian.Aparicio\\\\Documents\\\\DISPERSIONES\\\\2022\\\\06. JUNIO\\\\ARCHIVO DISPERSIONES\\\\Dispersión-20220607.xlsx',\n",
       " 'C:\\\\Users\\\\Cristian.Aparicio\\\\Documents\\\\DISPERSIONES\\\\2022\\\\06. JUNIO\\\\ARCHIVO DISPERSIONES\\\\Dispersión-20220608.xlsx',\n",
       " 'C:\\\\Users\\\\Cristian.Aparicio\\\\Documents\\\\DISPERSIONES\\\\2022\\\\06. JUNIO\\\\ARCHIVO DISPERSIONES\\\\Dispersión-20220609.xlsx',\n",
       " 'C:\\\\Users\\\\Cristian.Aparicio\\\\Documents\\\\DISPERSIONES\\\\2022\\\\06. JUNIO\\\\ARCHIVO DISPERSIONES\\\\Dispersión-20220610.xlsx',\n",
       " 'C:\\\\Users\\\\Cristian.Aparicio\\\\Documents\\\\DISPERSIONES\\\\2022\\\\06. JUNIO\\\\ARCHIVO DISPERSIONES\\\\Dispersión-20220611.xlsx',\n",
       " 'C:\\\\Users\\\\Cristian.Aparicio\\\\Documents\\\\DISPERSIONES\\\\2022\\\\06. JUNIO\\\\ARCHIVO DISPERSIONES\\\\Dispersión-20220612.xlsx',\n",
       " 'C:\\\\Users\\\\Cristian.Aparicio\\\\Documents\\\\DISPERSIONES\\\\2022\\\\06. JUNIO\\\\ARCHIVO DISPERSIONES\\\\Dispersión-20220613.xlsx',\n",
       " 'C:\\\\Users\\\\Cristian.Aparicio\\\\Documents\\\\DISPERSIONES\\\\2022\\\\06. JUNIO\\\\ARCHIVO DISPERSIONES\\\\Dispersión-20220614.xlsx',\n",
       " 'C:\\\\Users\\\\Cristian.Aparicio\\\\Documents\\\\DISPERSIONES\\\\2022\\\\06. JUNIO\\\\ARCHIVO DISPERSIONES\\\\Dispersión-20220615.xlsx',\n",
       " 'C:\\\\Users\\\\Cristian.Aparicio\\\\Documents\\\\DISPERSIONES\\\\2022\\\\06. JUNIO\\\\ARCHIVO DISPERSIONES\\\\Dispersión-20220616.xlsx',\n",
       " 'C:\\\\Users\\\\Cristian.Aparicio\\\\Documents\\\\DISPERSIONES\\\\2022\\\\06. JUNIO\\\\ARCHIVO DISPERSIONES\\\\Dispersión-20220617.xlsx',\n",
       " 'C:\\\\Users\\\\Cristian.Aparicio\\\\Documents\\\\DISPERSIONES\\\\2022\\\\06. JUNIO\\\\ARCHIVO DISPERSIONES\\\\Dispersión-20220618.xlsx',\n",
       " 'C:\\\\Users\\\\Cristian.Aparicio\\\\Documents\\\\DISPERSIONES\\\\2022\\\\06. JUNIO\\\\ARCHIVO DISPERSIONES\\\\Dispersión-20220619.xlsx',\n",
       " 'C:\\\\Users\\\\Cristian.Aparicio\\\\Documents\\\\DISPERSIONES\\\\2022\\\\06. JUNIO\\\\ARCHIVO DISPERSIONES\\\\Dispersión-20220620.xlsx',\n",
       " 'C:\\\\Users\\\\Cristian.Aparicio\\\\Documents\\\\DISPERSIONES\\\\2022\\\\06. JUNIO\\\\ARCHIVO DISPERSIONES\\\\Dispersión-20220621.xlsx',\n",
       " 'C:\\\\Users\\\\Cristian.Aparicio\\\\Documents\\\\DISPERSIONES\\\\2022\\\\06. JUNIO\\\\ARCHIVO DISPERSIONES\\\\Dispersión-20220622.xlsx',\n",
       " 'C:\\\\Users\\\\Cristian.Aparicio\\\\Documents\\\\DISPERSIONES\\\\2022\\\\06. JUNIO\\\\ARCHIVO DISPERSIONES\\\\Dispersión-20220623.xlsx',\n",
       " 'C:\\\\Users\\\\Cristian.Aparicio\\\\Documents\\\\DISPERSIONES\\\\2022\\\\06. JUNIO\\\\ARCHIVO DISPERSIONES\\\\Dispersión-20220624.xlsx',\n",
       " 'C:\\\\Users\\\\Cristian.Aparicio\\\\Documents\\\\DISPERSIONES\\\\2022\\\\06. JUNIO\\\\ARCHIVO DISPERSIONES\\\\Dispersión-20220625.xlsx',\n",
       " 'C:\\\\Users\\\\Cristian.Aparicio\\\\Documents\\\\DISPERSIONES\\\\2022\\\\06. JUNIO\\\\ARCHIVO DISPERSIONES\\\\Dispersión-20220626.xlsx',\n",
       " 'C:\\\\Users\\\\Cristian.Aparicio\\\\Documents\\\\DISPERSIONES\\\\2022\\\\06. JUNIO\\\\ARCHIVO DISPERSIONES\\\\Dispersión-20220627.xlsx',\n",
       " 'C:\\\\Users\\\\Cristian.Aparicio\\\\Documents\\\\DISPERSIONES\\\\2022\\\\06. JUNIO\\\\ARCHIVO DISPERSIONES\\\\Dispersión-20220628.xlsx',\n",
       " 'C:\\\\Users\\\\Cristian.Aparicio\\\\Documents\\\\DISPERSIONES\\\\2022\\\\06. JUNIO\\\\ARCHIVO DISPERSIONES\\\\Dispersión-20220629.xlsx',\n",
       " 'C:\\\\Users\\\\Cristian.Aparicio\\\\Documents\\\\DISPERSIONES\\\\2022\\\\06. JUNIO\\\\ARCHIVO DISPERSIONES\\\\Dispersión-20220630.xlsx']"
      ]
     },
     "execution_count": 3,
     "metadata": {},
     "output_type": "execute_result"
    }
   ],
   "source": [
    "allfiles_disp_trad = glob.glob(r'C:\\Users\\Cristian.Aparicio\\Documents\\DISPERSIONES\\2022\\06. JUNIO\\ARCHIVO DISPERSIONES\\Dispersión*.xlsx', recursive=False)\n",
    "allfiles_disp_trad"
   ]
  },
  {
   "cell_type": "markdown",
   "metadata": {},
   "source": [
    "### FAST PAYMENTS"
   ]
  },
  {
   "cell_type": "code",
   "execution_count": 4,
   "metadata": {},
   "outputs": [
    {
     "data": {
      "text/plain": [
       "['C:\\\\Users\\\\Cristian.Aparicio\\\\Documents\\\\FAST PAYMENTS\\\\2022\\\\06. JUNIO\\\\ARCHIVO DISPERSIONES FP\\\\Dispersión-FP 2022-06-01.xlsx',\n",
       " 'C:\\\\Users\\\\Cristian.Aparicio\\\\Documents\\\\FAST PAYMENTS\\\\2022\\\\06. JUNIO\\\\ARCHIVO DISPERSIONES FP\\\\Dispersión-FP 2022-06-02.xlsx',\n",
       " 'C:\\\\Users\\\\Cristian.Aparicio\\\\Documents\\\\FAST PAYMENTS\\\\2022\\\\06. JUNIO\\\\ARCHIVO DISPERSIONES FP\\\\Dispersión-FP 2022-06-03.xlsx',\n",
       " 'C:\\\\Users\\\\Cristian.Aparicio\\\\Documents\\\\FAST PAYMENTS\\\\2022\\\\06. JUNIO\\\\ARCHIVO DISPERSIONES FP\\\\Dispersión-FP 2022-06-04.xlsx',\n",
       " 'C:\\\\Users\\\\Cristian.Aparicio\\\\Documents\\\\FAST PAYMENTS\\\\2022\\\\06. JUNIO\\\\ARCHIVO DISPERSIONES FP\\\\Dispersión-FP 2022-06-05.xlsx',\n",
       " 'C:\\\\Users\\\\Cristian.Aparicio\\\\Documents\\\\FAST PAYMENTS\\\\2022\\\\06. JUNIO\\\\ARCHIVO DISPERSIONES FP\\\\Dispersión-FP 2022-06-06.xlsx',\n",
       " 'C:\\\\Users\\\\Cristian.Aparicio\\\\Documents\\\\FAST PAYMENTS\\\\2022\\\\06. JUNIO\\\\ARCHIVO DISPERSIONES FP\\\\Dispersión-FP 2022-06-07.xlsx',\n",
       " 'C:\\\\Users\\\\Cristian.Aparicio\\\\Documents\\\\FAST PAYMENTS\\\\2022\\\\06. JUNIO\\\\ARCHIVO DISPERSIONES FP\\\\Dispersión-FP 2022-06-08.xlsx',\n",
       " 'C:\\\\Users\\\\Cristian.Aparicio\\\\Documents\\\\FAST PAYMENTS\\\\2022\\\\06. JUNIO\\\\ARCHIVO DISPERSIONES FP\\\\Dispersión-FP 2022-06-09.xlsx',\n",
       " 'C:\\\\Users\\\\Cristian.Aparicio\\\\Documents\\\\FAST PAYMENTS\\\\2022\\\\06. JUNIO\\\\ARCHIVO DISPERSIONES FP\\\\Dispersión-FP 2022-06-10.xlsx',\n",
       " 'C:\\\\Users\\\\Cristian.Aparicio\\\\Documents\\\\FAST PAYMENTS\\\\2022\\\\06. JUNIO\\\\ARCHIVO DISPERSIONES FP\\\\Dispersión-FP 2022-06-11.xlsx',\n",
       " 'C:\\\\Users\\\\Cristian.Aparicio\\\\Documents\\\\FAST PAYMENTS\\\\2022\\\\06. JUNIO\\\\ARCHIVO DISPERSIONES FP\\\\Dispersión-FP 2022-06-12.xlsx',\n",
       " 'C:\\\\Users\\\\Cristian.Aparicio\\\\Documents\\\\FAST PAYMENTS\\\\2022\\\\06. JUNIO\\\\ARCHIVO DISPERSIONES FP\\\\Dispersión-FP 2022-06-13.xlsx',\n",
       " 'C:\\\\Users\\\\Cristian.Aparicio\\\\Documents\\\\FAST PAYMENTS\\\\2022\\\\06. JUNIO\\\\ARCHIVO DISPERSIONES FP\\\\Dispersión-FP 2022-06-14.xlsx',\n",
       " 'C:\\\\Users\\\\Cristian.Aparicio\\\\Documents\\\\FAST PAYMENTS\\\\2022\\\\06. JUNIO\\\\ARCHIVO DISPERSIONES FP\\\\Dispersión-FP 2022-06-15.xlsx',\n",
       " 'C:\\\\Users\\\\Cristian.Aparicio\\\\Documents\\\\FAST PAYMENTS\\\\2022\\\\06. JUNIO\\\\ARCHIVO DISPERSIONES FP\\\\Dispersión-FP 2022-06-16.xlsx',\n",
       " 'C:\\\\Users\\\\Cristian.Aparicio\\\\Documents\\\\FAST PAYMENTS\\\\2022\\\\06. JUNIO\\\\ARCHIVO DISPERSIONES FP\\\\Dispersión-FP 2022-06-17.xlsx',\n",
       " 'C:\\\\Users\\\\Cristian.Aparicio\\\\Documents\\\\FAST PAYMENTS\\\\2022\\\\06. JUNIO\\\\ARCHIVO DISPERSIONES FP\\\\Dispersión-FP 2022-06-18.xlsx',\n",
       " 'C:\\\\Users\\\\Cristian.Aparicio\\\\Documents\\\\FAST PAYMENTS\\\\2022\\\\06. JUNIO\\\\ARCHIVO DISPERSIONES FP\\\\Dispersión-FP 2022-06-19.xlsx',\n",
       " 'C:\\\\Users\\\\Cristian.Aparicio\\\\Documents\\\\FAST PAYMENTS\\\\2022\\\\06. JUNIO\\\\ARCHIVO DISPERSIONES FP\\\\Dispersión-FP 2022-06-20.xlsx',\n",
       " 'C:\\\\Users\\\\Cristian.Aparicio\\\\Documents\\\\FAST PAYMENTS\\\\2022\\\\06. JUNIO\\\\ARCHIVO DISPERSIONES FP\\\\Dispersión-FP 2022-06-21.xlsx',\n",
       " 'C:\\\\Users\\\\Cristian.Aparicio\\\\Documents\\\\FAST PAYMENTS\\\\2022\\\\06. JUNIO\\\\ARCHIVO DISPERSIONES FP\\\\Dispersión-FP 2022-06-22.xlsx',\n",
       " 'C:\\\\Users\\\\Cristian.Aparicio\\\\Documents\\\\FAST PAYMENTS\\\\2022\\\\06. JUNIO\\\\ARCHIVO DISPERSIONES FP\\\\Dispersión-FP 2022-06-23.xlsx',\n",
       " 'C:\\\\Users\\\\Cristian.Aparicio\\\\Documents\\\\FAST PAYMENTS\\\\2022\\\\06. JUNIO\\\\ARCHIVO DISPERSIONES FP\\\\Dispersión-FP 2022-06-24.xlsx',\n",
       " 'C:\\\\Users\\\\Cristian.Aparicio\\\\Documents\\\\FAST PAYMENTS\\\\2022\\\\06. JUNIO\\\\ARCHIVO DISPERSIONES FP\\\\Dispersión-FP 2022-06-25.xlsx',\n",
       " 'C:\\\\Users\\\\Cristian.Aparicio\\\\Documents\\\\FAST PAYMENTS\\\\2022\\\\06. JUNIO\\\\ARCHIVO DISPERSIONES FP\\\\Dispersión-FP 2022-06-26.xlsx',\n",
       " 'C:\\\\Users\\\\Cristian.Aparicio\\\\Documents\\\\FAST PAYMENTS\\\\2022\\\\06. JUNIO\\\\ARCHIVO DISPERSIONES FP\\\\Dispersión-FP 2022-06-27.xlsx',\n",
       " 'C:\\\\Users\\\\Cristian.Aparicio\\\\Documents\\\\FAST PAYMENTS\\\\2022\\\\06. JUNIO\\\\ARCHIVO DISPERSIONES FP\\\\Dispersión-FP 2022-06-28.xlsx',\n",
       " 'C:\\\\Users\\\\Cristian.Aparicio\\\\Documents\\\\FAST PAYMENTS\\\\2022\\\\06. JUNIO\\\\ARCHIVO DISPERSIONES FP\\\\Dispersión-FP 2022-06-29.xlsx',\n",
       " 'C:\\\\Users\\\\Cristian.Aparicio\\\\Documents\\\\FAST PAYMENTS\\\\2022\\\\06. JUNIO\\\\ARCHIVO DISPERSIONES FP\\\\Dispersión-FP 2022-06-30.xlsx']"
      ]
     },
     "execution_count": 4,
     "metadata": {},
     "output_type": "execute_result"
    }
   ],
   "source": [
    "allfiles_fp = glob.glob(r'C:\\Users\\Cristian.Aparicio\\Documents\\FAST PAYMENTS\\2022\\06. JUNIO\\ARCHIVO DISPERSIONES FP\\Dispersión-FP*.xlsx',recursive=False)\n",
    "allfiles_fp"
   ]
  },
  {
   "cell_type": "markdown",
   "metadata": {},
   "source": [
    "# SWAP DEL DIA"
   ]
  },
  {
   "cell_type": "code",
   "execution_count": null,
   "metadata": {},
   "outputs": [],
   "source": [
    "swap_dia_total = pd.concat([pd.read_excel(f,sheet_name = 'Swap del día')\n",
    "                            .assign(file_name=os.path.basename(f)) for f in allfiles_disp_trad])\n",
    "swap_dia_total['Date'] = swap_dia_total[\"file_name\"].str[-13:-5]\n",
    "swap_dia_total['Date']= pd.to_datetime(swap_dia_total['Date'], format='%Y%m%d').dt.date\n",
    "swap_dia_total['Date']= pd.to_datetime(swap_dia_total['Date'])\n",
    "swap_dia_total.sort_values(by=['Date'],ascending=True,inplace=True)\n",
    "swap_dia_total['report_date_local']= pd.to_datetime(swap_dia_total['report_date_local'])\n",
    "swap_dia_total['month_conc'] = month_conc\n",
    "swap_dia_total['year_conc'] = year_conc\n",
    "swap_dia_total['month_report'] = swap_dia_total['report_date_local'].dt.strftime('%B')\n",
    "swap_dia_total['year_report'] = swap_dia_total['report_date_local'].dt.year.astype(str)\n",
    "swap_dia_total.head()"
   ]
  },
  {
   "cell_type": "code",
   "execution_count": null,
   "metadata": {},
   "outputs": [],
   "source": [
    "swap_dia_total.shape"
   ]
  },
  {
   "cell_type": "code",
   "execution_count": null,
   "metadata": {},
   "outputs": [],
   "source": [
    "swap_dia_total.dtypes"
   ]
  },
  {
   "cell_type": "code",
   "execution_count": null,
   "metadata": {},
   "outputs": [],
   "source": [
    "pivot_total = pd.pivot_table(swap_dia_total,index=['Date'],values=['total_due'],aggfunc = ['sum', len],margins=True)\n",
    "pivot_total.reset_index(drop=False, inplace=True)\n",
    "pivot_total.head()"
   ]
  },
  {
   "cell_type": "code",
   "execution_count": null,
   "metadata": {},
   "outputs": [],
   "source": [
    "pivot_parcial = pd.pivot_table(swap_dia_total,index=['tipo','Date'],values=['total_due'],aggfunc = ['sum', len],margins=True)\n",
    "pivot_parcial.reset_index(drop=False, inplace=True)\n",
    "pivot_parcial.head()"
   ]
  },
  {
   "cell_type": "markdown",
   "metadata": {},
   "source": [
    "## CATEGORIZACIÓN DE REPROGRAMACIONES"
   ]
  },
  {
   "cell_type": "code",
   "execution_count": null,
   "metadata": {},
   "outputs": [],
   "source": [
    "swap_dia_total_repro = swap_dia_total[(swap_dia_total['tipo'] == 'Reprogramación')]\n",
    "swap_dia_total_repro.head()"
   ]
  },
  {
   "cell_type": "code",
   "execution_count": null,
   "metadata": {},
   "outputs": [],
   "source": [
    "swap_dia_total_repro.shape"
   ]
  },
  {
   "cell_type": "code",
   "execution_count": null,
   "metadata": {},
   "outputs": [],
   "source": [
    "swap_dia_total_repro.loc[(swap_dia_total_repro['tipo'] == 'Reprogramación')\n",
    "                   & (swap_dia_total_repro['month_report'] == month_conc) \n",
    "                   & (swap_dia_total_repro['year_report'] == year_conc),'tipo_reprogramacion'] = 'repro_mismo_mes'\n",
    "swap_dia_total_repro['tipo_reprogramacion'].fillna('repro_otro_mes',inplace=True)\n",
    "swap_dia_total_repro.head()"
   ]
  },
  {
   "cell_type": "code",
   "execution_count": null,
   "metadata": {},
   "outputs": [],
   "source": [
    "pivot_tipo_repro = pd.pivot_table(swap_dia_total_repro,index=['Date'],\n",
    "                                  columns=['tipo_reprogramacion'],\n",
    "                                  values=['total_due']\n",
    "                                  ,aggfunc = ['sum', len],margins=True)\n",
    "pivot_tipo_repro.reset_index(drop=False, inplace=True)\n",
    "pivot_tipo_repro.head()"
   ]
  },
  {
   "cell_type": "markdown",
   "metadata": {},
   "source": [
    "# FAST PAYMENTS"
   ]
  },
  {
   "cell_type": "code",
   "execution_count": null,
   "metadata": {},
   "outputs": [],
   "source": [
    "fp_dia_total = pd.concat([pd.read_excel(f,sheet_name='FAST PAYMENTS')\n",
    "                          .assign(file_name=os.path.basename(f)) for f in allfiles_fp])\n",
    "fp_dia_total['Date'] = fp_dia_total[\"file_name\"].str[-15:-5]\n",
    "fp_dia_total['Date']= pd.to_datetime(fp_dia_total['Date'])\n",
    "fp_dia_total['report_date_local']= pd.to_datetime(fp_dia_total['report_date_local'])\n",
    "fp_dia_total['month_conc'] = month_conc\n",
    "fp_dia_total['year_conc'] = year_conc\n",
    "fp_dia_total['month_report'] = fp_dia_total['report_date_local'].dt.strftime('%B')\n",
    "fp_dia_total['year_report'] = fp_dia_total['report_date_local'].dt.year.astype(str)\n",
    "fp_dia_total.head()"
   ]
  },
  {
   "cell_type": "code",
   "execution_count": null,
   "metadata": {},
   "outputs": [],
   "source": [
    "fp_dia_total.shape"
   ]
  },
  {
   "cell_type": "code",
   "execution_count": null,
   "metadata": {},
   "outputs": [],
   "source": [
    "fp_dia_total.dtypes"
   ]
  },
  {
   "cell_type": "code",
   "execution_count": null,
   "metadata": {},
   "outputs": [],
   "source": [
    "pivot_fp_total = pd.pivot_table(fp_dia_total,index=['Date'],values=['total_due'],aggfunc = ['sum', len],margins=True)\n",
    "pivot_fp_total.reset_index(drop=False, inplace=True)\n",
    "pivot_fp_total.head()"
   ]
  },
  {
   "cell_type": "code",
   "execution_count": null,
   "metadata": {},
   "outputs": [],
   "source": [
    "pivot_fp_parcial = pd.pivot_table(fp_dia_total,index=['tipo','Date'],values=['total_due'],aggfunc = ['sum', len],margins=True)\n",
    "pivot_fp_parcial.reset_index(drop=False, inplace=True)\n",
    "pivot_fp_parcial.head()"
   ]
  },
  {
   "cell_type": "markdown",
   "metadata": {},
   "source": [
    "## CATEGORIZACIÓN DE REPROGRAMACIONES - FAST PAYMENTS"
   ]
  },
  {
   "cell_type": "code",
   "execution_count": null,
   "metadata": {},
   "outputs": [],
   "source": [
    "fp_dia_total_repro = fp_dia_total[(fp_dia_total['tipo'] == 'Reprogramación')]\n",
    "fp_dia_total_repro.head()"
   ]
  },
  {
   "cell_type": "code",
   "execution_count": null,
   "metadata": {},
   "outputs": [],
   "source": [
    "fp_dia_total_repro.shape"
   ]
  },
  {
   "cell_type": "code",
   "execution_count": null,
   "metadata": {},
   "outputs": [],
   "source": [
    "fp_dia_total_repro.loc[(fp_dia_total_repro['tipo'] == 'Reprogramación')\n",
    "                   & (fp_dia_total_repro['month_report'] == month_conc) \n",
    "                   & (fp_dia_total_repro['year_report'] == year_conc),'tipo_reprogramacion'] = 'repro_mismo_mes'\n",
    "fp_dia_total_repro['tipo_reprogramacion'].fillna('repro_otro_mes',inplace=True)\n",
    "fp_dia_total_repro.head()"
   ]
  },
  {
   "cell_type": "code",
   "execution_count": null,
   "metadata": {},
   "outputs": [],
   "source": [
    "pivot_tipo_repro_fp = pd.pivot_table(fp_dia_total_repro,index=['Date'],\n",
    "                                  columns=['tipo_reprogramacion'],\n",
    "                                  values=['total_due']\n",
    "                                  ,aggfunc = ['sum', len],margins=True)\n",
    "pivot_tipo_repro_fp.reset_index(drop=False, inplace=True)\n",
    "pivot_tipo_repro_fp.head()"
   ]
  },
  {
   "cell_type": "markdown",
   "metadata": {},
   "source": [
    "# EXCEL FINAL"
   ]
  },
  {
   "cell_type": "code",
   "execution_count": null,
   "metadata": {},
   "outputs": [],
   "source": [
    "writer = pd.ExcelWriter('FASE IV. REPROGRAMACIONES JUNIO 2022.xlsx',\n",
    "                        engine='xlsxwriter',\n",
    "                        engine_kwargs={'options': {'encoding':'utf-8'}})\n",
    "pivot_total.to_excel(writer, sheet_name='SWAP DIA TOTAL')\n",
    "pivot_parcial.to_excel(writer, sheet_name='SWAP DIA PARCIAL')\n",
    "pivot_fp_total.to_excel(writer, sheet_name='FP TOTAL')\n",
    "pivot_fp_parcial.to_excel(writer, sheet_name='FP PARCIAL')\n",
    "pivot_tipo_repro.to_excel(writer, sheet_name='CATEGORIZACION REPRO')\n",
    "pivot_tipo_repro_fp.to_excel(writer, sheet_name='CATEGORIZACION FP-REPRO')\n",
    "writer.close()"
   ]
  },
  {
   "cell_type": "code",
   "execution_count": null,
   "metadata": {},
   "outputs": [],
   "source": []
  }
 ],
 "metadata": {
  "kernelspec": {
   "display_name": "Python 3 (ipykernel)",
   "language": "python",
   "name": "python3"
  },
  "language_info": {
   "codemirror_mode": {
    "name": "ipython",
    "version": 3
   },
   "file_extension": ".py",
   "mimetype": "text/x-python",
   "name": "python",
   "nbconvert_exporter": "python",
   "pygments_lexer": "ipython3",
   "version": "3.9.12"
  }
 },
 "nbformat": 4,
 "nbformat_minor": 4
}
