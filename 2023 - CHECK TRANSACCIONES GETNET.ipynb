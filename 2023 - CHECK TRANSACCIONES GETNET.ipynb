{
 "cells": [
  {
   "cell_type": "code",
   "execution_count": 1,
   "metadata": {},
   "outputs": [],
   "source": [
    "import numpy as np\n",
    "import pandas as pd\n",
    "import zipfile\n",
    "from zipfile import ZipFile\n",
    "import glob\n",
    "import os\n",
    "from openpyxl import load_workbook\n",
    "pd.options.display.float_format = '{:,.2f}'.format"
   ]
  },
  {
   "cell_type": "code",
   "execution_count": 2,
   "metadata": {},
   "outputs": [
    {
     "data": {
      "text/plain": [
       "['G:\\\\My Drive\\\\RESPALDO-PC\\\\GETNET\\\\INFO GETNET - DB\\\\GETNET DETALLE_BY_TXN_ID.tsv']"
      ]
     },
     "execution_count": 2,
     "metadata": {},
     "output_type": "execute_result"
    }
   ],
   "source": [
    "getnet_files_transaction = sorted(glob.glob(r'G:\\My Drive\\RESPALDO-PC\\GETNET\\INFO GETNET - DB\\*.tsv', recursive=False))\n",
    "getnet_files_transaction"
   ]
  },
  {
   "cell_type": "code",
   "execution_count": 3,
   "metadata": {},
   "outputs": [
    {
     "data": {
      "text/html": [
       "<div>\n",
       "<style scoped>\n",
       "    .dataframe tbody tr th:only-of-type {\n",
       "        vertical-align: middle;\n",
       "    }\n",
       "\n",
       "    .dataframe tbody tr th {\n",
       "        vertical-align: top;\n",
       "    }\n",
       "\n",
       "    .dataframe thead th {\n",
       "        text-align: right;\n",
       "    }\n",
       "</style>\n",
       "<table border=\"1\" class=\"dataframe\">\n",
       "  <thead>\n",
       "    <tr style=\"text-align: right;\">\n",
       "      <th></th>\n",
       "      <th>chain_id</th>\n",
       "      <th>merchant</th>\n",
       "      <th>merchant_name</th>\n",
       "      <th>seller</th>\n",
       "      <th>seller_name</th>\n",
       "      <th>terminal_id</th>\n",
       "      <th>number_account</th>\n",
       "      <th>arn</th>\n",
       "      <th>app_id</th>\n",
       "      <th>auth_code</th>\n",
       "      <th>...</th>\n",
       "      <th>metadata_bronze_filename</th>\n",
       "      <th>record_id</th>\n",
       "      <th>spark_metadata_app_id</th>\n",
       "      <th>spark_metadata_batch_id</th>\n",
       "      <th>file_name</th>\n",
       "      <th>bin_getnet</th>\n",
       "      <th>last4_getnet</th>\n",
       "      <th>INDEX_AUTH_CODE</th>\n",
       "      <th>INDEX_CUST_FIELD</th>\n",
       "      <th>INDEX_AUTH_CODE_2</th>\n",
       "    </tr>\n",
       "  </thead>\n",
       "  <tbody>\n",
       "    <tr>\n",
       "      <th>0</th>\n",
       "      <td>NaN</td>\n",
       "      <td>BLI120726UF6</td>\n",
       "      <td>PAYCLIP SRL CV</td>\n",
       "      <td>8991118</td>\n",
       "      <td>PAYCLIP*ALIM Y BEBIDAS</td>\n",
       "      <td>PMX1118A</td>\n",
       "      <td>'014180655068329767</td>\n",
       "      <td>'74512983249444392217257</td>\n",
       "      <td>mit</td>\n",
       "      <td>124147</td>\n",
       "      <td>...</td>\n",
       "      <td>202309071154ID100003settransactiongmr.csv</td>\n",
       "      <td>407b32d0-3027-5acc-841e-8d61eb7980ee</td>\n",
       "      <td>e79c4f38-b1c9-40f1-9d06-4f2f53d0c203</td>\n",
       "      <td>41</td>\n",
       "      <td>GETNET DETALLE_BY_TXN_ID.tsv</td>\n",
       "      <td>481588</td>\n",
       "      <td>7479</td>\n",
       "      <td>8991118_481588_7479_124147_385.0</td>\n",
       "      <td>8991118_481588_7479_100001547655_385.0</td>\n",
       "      <td>8991118_7479_124147_385.0</td>\n",
       "    </tr>\n",
       "    <tr>\n",
       "      <th>1</th>\n",
       "      <td>NaN</td>\n",
       "      <td>BLI120726UF6</td>\n",
       "      <td>PAYCLIP SRL CV</td>\n",
       "      <td>8991118</td>\n",
       "      <td>PAYCLIP*ALIM Y BEBIDAS</td>\n",
       "      <td>8991118</td>\n",
       "      <td>'014180655068329767</td>\n",
       "      <td>'75177133249219189911188</td>\n",
       "      <td>by_pass</td>\n",
       "      <td>774620</td>\n",
       "      <td>...</td>\n",
       "      <td>202309071154ID100003settransactiongmr.csv</td>\n",
       "      <td>cc62ae49-88b0-532d-8049-3467776a3785</td>\n",
       "      <td>e79c4f38-b1c9-40f1-9d06-4f2f53d0c203</td>\n",
       "      <td>41</td>\n",
       "      <td>GETNET DETALLE_BY_TXN_ID.tsv</td>\n",
       "      <td>546637</td>\n",
       "      <td>9043</td>\n",
       "      <td>8991118_546637_9043_774620_4197.0</td>\n",
       "      <td>8991118_546637_9043_001547654_4197.0</td>\n",
       "      <td>8991118_9043_774620_4197.0</td>\n",
       "    </tr>\n",
       "    <tr>\n",
       "      <th>2</th>\n",
       "      <td>NaN</td>\n",
       "      <td>BLI120726UF6</td>\n",
       "      <td>PAYCLIP SRL CV</td>\n",
       "      <td>9044851</td>\n",
       "      <td>CLIPMX*NATURAL</td>\n",
       "      <td>9044851</td>\n",
       "      <td>'014180655068329767</td>\n",
       "      <td>'74512983249470190448513</td>\n",
       "      <td>by_pass</td>\n",
       "      <td>311463</td>\n",
       "      <td>...</td>\n",
       "      <td>202309071154ID100003settransactiongmr.csv</td>\n",
       "      <td>e02d07e0-ec86-52c0-8e03-fef395ac76e9</td>\n",
       "      <td>e79c4f38-b1c9-40f1-9d06-4f2f53d0c203</td>\n",
       "      <td>41</td>\n",
       "      <td>GETNET DETALLE_BY_TXN_ID.tsv</td>\n",
       "      <td>415231</td>\n",
       "      <td>4460</td>\n",
       "      <td>9044851_415231_4460_311463_182.0</td>\n",
       "      <td>9044851_415231_4460_001547659_182.0</td>\n",
       "      <td>9044851_4460_311463_182.0</td>\n",
       "    </tr>\n",
       "    <tr>\n",
       "      <th>3</th>\n",
       "      <td>NaN</td>\n",
       "      <td>BLI120726UF6</td>\n",
       "      <td>PAYCLIP SRL CV</td>\n",
       "      <td>8991133</td>\n",
       "      <td>PAYCLIP*TDAS AUT MINISUP</td>\n",
       "      <td>PMX1133A</td>\n",
       "      <td>'014180655068329767</td>\n",
       "      <td>'74512983249443527824920</td>\n",
       "      <td>mit</td>\n",
       "      <td>954075</td>\n",
       "      <td>...</td>\n",
       "      <td>202309071154ID100003settransactiongmr.csv</td>\n",
       "      <td>597c4e61-8f6a-5605-8053-0a1748b292d3</td>\n",
       "      <td>e79c4f38-b1c9-40f1-9d06-4f2f53d0c203</td>\n",
       "      <td>41</td>\n",
       "      <td>GETNET DETALLE_BY_TXN_ID.tsv</td>\n",
       "      <td>401543</td>\n",
       "      <td>9561</td>\n",
       "      <td>8991133_401543_9561_954075_162.24</td>\n",
       "      <td>8991133_401543_9561_100001547652_162.24</td>\n",
       "      <td>8991133_9561_954075_162.24</td>\n",
       "    </tr>\n",
       "    <tr>\n",
       "      <th>4</th>\n",
       "      <td>NaN</td>\n",
       "      <td>BLI120726UF6</td>\n",
       "      <td>PAYCLIP SRL CV</td>\n",
       "      <td>8991118</td>\n",
       "      <td>PAYCLIP*ALIM Y BEBIDAS</td>\n",
       "      <td>8991118</td>\n",
       "      <td>'014180655068329767</td>\n",
       "      <td>'74512983249211989911182</td>\n",
       "      <td>by_pass</td>\n",
       "      <td>01812D</td>\n",
       "      <td>...</td>\n",
       "      <td>202309071154ID100003settransactiongmr.csv</td>\n",
       "      <td>c4f894ec-628d-52b4-b529-8ac46c79abd2</td>\n",
       "      <td>e79c4f38-b1c9-40f1-9d06-4f2f53d0c203</td>\n",
       "      <td>41</td>\n",
       "      <td>GETNET DETALLE_BY_TXN_ID.tsv</td>\n",
       "      <td>440066</td>\n",
       "      <td>5786</td>\n",
       "      <td>8991118_440066_5786_01812D_672.75</td>\n",
       "      <td>8991118_440066_5786_001547658_672.75</td>\n",
       "      <td>8991118_5786_01812D_672.75</td>\n",
       "    </tr>\n",
       "  </tbody>\n",
       "</table>\n",
       "<p>5 rows × 69 columns</p>\n",
       "</div>"
      ],
      "text/plain": [
       "  chain_id      merchant   merchant_name   seller               seller_name  \\\n",
       "0      NaN  BLI120726UF6  PAYCLIP SRL CV  8991118    PAYCLIP*ALIM Y BEBIDAS   \n",
       "1      NaN  BLI120726UF6  PAYCLIP SRL CV  8991118    PAYCLIP*ALIM Y BEBIDAS   \n",
       "2      NaN  BLI120726UF6  PAYCLIP SRL CV  9044851            CLIPMX*NATURAL   \n",
       "3      NaN  BLI120726UF6  PAYCLIP SRL CV  8991133  PAYCLIP*TDAS AUT MINISUP   \n",
       "4      NaN  BLI120726UF6  PAYCLIP SRL CV  8991118    PAYCLIP*ALIM Y BEBIDAS   \n",
       "\n",
       "  terminal_id       number_account                       arn   app_id  \\\n",
       "0    PMX1118A  '014180655068329767  '74512983249444392217257      mit   \n",
       "1     8991118  '014180655068329767  '75177133249219189911188  by_pass   \n",
       "2     9044851  '014180655068329767  '74512983249470190448513  by_pass   \n",
       "3    PMX1133A  '014180655068329767  '74512983249443527824920      mit   \n",
       "4     8991118  '014180655068329767  '74512983249211989911182  by_pass   \n",
       "\n",
       "  auth_code  ...                   metadata_bronze_filename  \\\n",
       "0    124147  ...  202309071154ID100003settransactiongmr.csv   \n",
       "1    774620  ...  202309071154ID100003settransactiongmr.csv   \n",
       "2    311463  ...  202309071154ID100003settransactiongmr.csv   \n",
       "3    954075  ...  202309071154ID100003settransactiongmr.csv   \n",
       "4    01812D  ...  202309071154ID100003settransactiongmr.csv   \n",
       "\n",
       "                              record_id                 spark_metadata_app_id  \\\n",
       "0  407b32d0-3027-5acc-841e-8d61eb7980ee  e79c4f38-b1c9-40f1-9d06-4f2f53d0c203   \n",
       "1  cc62ae49-88b0-532d-8049-3467776a3785  e79c4f38-b1c9-40f1-9d06-4f2f53d0c203   \n",
       "2  e02d07e0-ec86-52c0-8e03-fef395ac76e9  e79c4f38-b1c9-40f1-9d06-4f2f53d0c203   \n",
       "3  597c4e61-8f6a-5605-8053-0a1748b292d3  e79c4f38-b1c9-40f1-9d06-4f2f53d0c203   \n",
       "4  c4f894ec-628d-52b4-b529-8ac46c79abd2  e79c4f38-b1c9-40f1-9d06-4f2f53d0c203   \n",
       "\n",
       "  spark_metadata_batch_id                     file_name bin_getnet  \\\n",
       "0                      41  GETNET DETALLE_BY_TXN_ID.tsv     481588   \n",
       "1                      41  GETNET DETALLE_BY_TXN_ID.tsv     546637   \n",
       "2                      41  GETNET DETALLE_BY_TXN_ID.tsv     415231   \n",
       "3                      41  GETNET DETALLE_BY_TXN_ID.tsv     401543   \n",
       "4                      41  GETNET DETALLE_BY_TXN_ID.tsv     440066   \n",
       "\n",
       "  last4_getnet                    INDEX_AUTH_CODE  \\\n",
       "0         7479   8991118_481588_7479_124147_385.0   \n",
       "1         9043  8991118_546637_9043_774620_4197.0   \n",
       "2         4460   9044851_415231_4460_311463_182.0   \n",
       "3         9561  8991133_401543_9561_954075_162.24   \n",
       "4         5786  8991118_440066_5786_01812D_672.75   \n",
       "\n",
       "                          INDEX_CUST_FIELD           INDEX_AUTH_CODE_2  \n",
       "0   8991118_481588_7479_100001547655_385.0   8991118_7479_124147_385.0  \n",
       "1     8991118_546637_9043_001547654_4197.0  8991118_9043_774620_4197.0  \n",
       "2      9044851_415231_4460_001547659_182.0   9044851_4460_311463_182.0  \n",
       "3  8991133_401543_9561_100001547652_162.24  8991133_9561_954075_162.24  \n",
       "4     8991118_440066_5786_001547658_672.75  8991118_5786_01812D_672.75  \n",
       "\n",
       "[5 rows x 69 columns]"
      ]
     },
     "execution_count": 3,
     "metadata": {},
     "output_type": "execute_result"
    }
   ],
   "source": [
    "getnet_transaction = pd.concat([pd.read_csv(f, sep='\\t',dtype=object)\n",
    "                         .assign(file_name=os.path.basename(f)) for f in getnet_files_transaction])\n",
    "getnet_transaction.columns = getnet_transaction.columns.str.strip().str.lower()\n",
    "getnet_transaction['bin_getnet'] = getnet_transaction['card_number'].str[:7].astype(str)\n",
    "getnet_transaction['bin_getnet'] = getnet_transaction['bin_getnet'].str.replace('-','').astype(str)\n",
    "getnet_transaction['last4_getnet'] = getnet_transaction['card_number'].str[-4:].astype(str)\n",
    "getnet_transaction['transaction_amount'] = getnet_transaction['transaction_amount'].str.replace(',','').astype(float)\n",
    "getnet_transaction['auth_code'] = getnet_transaction['auth_code'].str.replace(\"'\",'').astype(str)\n",
    "getnet_transaction['custom_fields_1'] = getnet_transaction['custom_fields_1'].str.zfill(9)\n",
    "getnet_transaction['INDEX_AUTH_CODE'] = (getnet_transaction['seller'].astype(str).replace(' ', '',regex=True)+'_'\n",
    "                               +getnet_transaction['bin_getnet'].astype(str).replace(' ', '',regex=True)+'_'\n",
    "                               +getnet_transaction['last4_getnet'].astype(str).replace(' ', '',regex=True)+'_'\n",
    "                               +getnet_transaction['auth_code'].astype(str).replace(' ', '',regex=True)+'_'\n",
    "                               +getnet_transaction['transaction_amount'].astype(str).replace(' ', '',regex=True))\n",
    "getnet_transaction['INDEX_CUST_FIELD'] = (getnet_transaction['seller'].astype(str).replace(' ', '',regex=True)+'_'\n",
    "                               +getnet_transaction['bin_getnet'].astype(str).replace(' ', '',regex=True)+'_'\n",
    "                               +getnet_transaction['last4_getnet'].astype(str).replace(' ', '',regex=True)+'_'\n",
    "                               +getnet_transaction['custom_fields_1'].astype(str).replace(' ', '',regex=True)+'_'\n",
    "                               +getnet_transaction['transaction_amount'].astype(str).replace(' ', '',regex=True))\n",
    "getnet_transaction['INDEX_AUTH_CODE_2'] = (getnet_transaction['seller'].astype(str).replace(' ', '',regex=True)+'_'\n",
    "                               +getnet_transaction['last4_getnet'].astype(str).replace(' ', '',regex=True)+'_'\n",
    "                               +getnet_transaction['auth_code'].astype(str).replace(' ', '',regex=True)+'_'\n",
    "                               +getnet_transaction['transaction_amount'].astype(str).replace(' ', '',regex=True))\n",
    "getnet_transaction.head()"
   ]
  },
  {
   "cell_type": "code",
   "execution_count": 4,
   "metadata": {},
   "outputs": [
    {
     "data": {
      "text/plain": [
       "(3087231, 69)"
      ]
     },
     "execution_count": 4,
     "metadata": {},
     "output_type": "execute_result"
    }
   ],
   "source": [
    "getnet_transaction.shape"
   ]
  },
  {
   "cell_type": "code",
   "execution_count": 5,
   "metadata": {},
   "outputs": [
    {
     "data": {
      "text/plain": [
       "chain_id             object\n",
       "merchant             object\n",
       "merchant_name        object\n",
       "seller               object\n",
       "seller_name          object\n",
       "                      ...  \n",
       "bin_getnet           object\n",
       "last4_getnet         object\n",
       "INDEX_AUTH_CODE      object\n",
       "INDEX_CUST_FIELD     object\n",
       "INDEX_AUTH_CODE_2    object\n",
       "Length: 69, dtype: object"
      ]
     },
     "execution_count": 5,
     "metadata": {},
     "output_type": "execute_result"
    }
   ],
   "source": [
    "getnet_transaction.dtypes"
   ]
  },
  {
   "cell_type": "code",
   "execution_count": 6,
   "metadata": {},
   "outputs": [
    {
     "data": {
      "text/plain": [
       "Index(['chain_id', 'merchant', 'merchant_name', 'seller', 'seller_name',\n",
       "       'terminal_id', 'number_account', 'arn', 'app_id', 'auth_code',\n",
       "       'transaction_type', 'transaction_mode', 'pos_entry_mode',\n",
       "       'transaction_channel', 'transaction_date', 'transaction_time',\n",
       "       'time_zone', 'settlement_date', 'movement_number', 'transaction_amount',\n",
       "       'transaction_currency', 'settlement_amount', 'settlement_currency',\n",
       "       'total_commission_amount', 'total_vat_tax_commision_amount',\n",
       "       'mdr_commission_amount', 'commision_rate', 'vat_tax_amount',\n",
       "       'total_commission_dia', 'markup_rate', 'markup_amount',\n",
       "       'transactional_cost_fee_rate', 'transactional_cost_fee_amount',\n",
       "       'interchange_rate', 'total_interchange_amount', 'assessment_rate',\n",
       "       'total_assessment_amount', 'other_cost_incomes_rate',\n",
       "       'other_cost_incomes_amount',\n",
       "       'vat_tax_commission_other_cost_income_amount',\n",
       "       'payment_special_indicator', 'installment_flag_ind',\n",
       "       'installment_payment_deferral', 'dcc_flag_ind', 'dcc_exchange_rate',\n",
       "       'dcc_amount', 'card_number', 'card_product', 'card_type', 'card_scheme',\n",
       "       'card_issuer', 'card_region_issuer', 'card_country', 'custom_fields_1',\n",
       "       'custom_fields_2', 'custom_fields_3', 'custom_fields_4',\n",
       "       'custom_fields_5', 'metadata_bronze_filepath',\n",
       "       'metadata_bronze_filename', 'record_id', 'spark_metadata_app_id',\n",
       "       'spark_metadata_batch_id', 'file_name', 'bin_getnet', 'last4_getnet',\n",
       "       'INDEX_AUTH_CODE', 'INDEX_CUST_FIELD', 'INDEX_AUTH_CODE_2'],\n",
       "      dtype='object')"
      ]
     },
     "execution_count": 6,
     "metadata": {},
     "output_type": "execute_result"
    }
   ],
   "source": [
    "getnet_transaction.columns"
   ]
  },
  {
   "cell_type": "markdown",
   "metadata": {},
   "source": [
    "# CHECKS"
   ]
  },
  {
   "cell_type": "code",
   "execution_count": 7,
   "metadata": {},
   "outputs": [
    {
     "data": {
      "text/html": [
       "<div>\n",
       "<style scoped>\n",
       "    .dataframe tbody tr th:only-of-type {\n",
       "        vertical-align: middle;\n",
       "    }\n",
       "\n",
       "    .dataframe tbody tr th {\n",
       "        vertical-align: top;\n",
       "    }\n",
       "\n",
       "    .dataframe thead th {\n",
       "        text-align: right;\n",
       "    }\n",
       "</style>\n",
       "<table border=\"1\" class=\"dataframe\">\n",
       "  <thead>\n",
       "    <tr style=\"text-align: right;\">\n",
       "      <th></th>\n",
       "      <th>merchant_id</th>\n",
       "      <th>uuid</th>\n",
       "      <th>transaction_id</th>\n",
       "      <th>merchant_name</th>\n",
       "      <th>order_id</th>\n",
       "      <th>affiliation</th>\n",
       "      <th>affiliation_type</th>\n",
       "      <th>sub_affiliation</th>\n",
       "      <th>mcc</th>\n",
       "      <th>date_transaction</th>\n",
       "      <th>...</th>\n",
       "      <th>msi</th>\n",
       "      <th>device_id</th>\n",
       "      <th>clip_reader</th>\n",
       "      <th>status_msg</th>\n",
       "      <th>issuer</th>\n",
       "      <th>brand</th>\n",
       "      <th>INDEX_ORDER_ID</th>\n",
       "      <th>INDEX_CUST_FIELD</th>\n",
       "      <th>INDEX_AUTH_CODE</th>\n",
       "      <th>INDEX_AUTH_CODE_2</th>\n",
       "    </tr>\n",
       "  </thead>\n",
       "  <tbody>\n",
       "    <tr>\n",
       "      <th>0</th>\n",
       "      <td>88646ffe-6ede-47b4-a269-889c4d14b3ff</td>\n",
       "      <td>300d514c-8a8f-456d-b2d1-0adeafccc678</td>\n",
       "      <td>558a3251-1acb-46a8-8300-f3356feb449e</td>\n",
       "      <td>LOS REMEDIOS NATURISTA</td>\n",
       "      <td>252290843369</td>\n",
       "      <td>8991133</td>\n",
       "      <td>CARD_PRESENT</td>\n",
       "      <td>62333351</td>\n",
       "      <td>5912</td>\n",
       "      <td>2023-08-12</td>\n",
       "      <td>...</td>\n",
       "      <td>0.00</td>\n",
       "      <td>PP36812120014028</td>\n",
       "      <td>Clip Pro</td>\n",
       "      <td>Error. Cancel requested on pending payment.</td>\n",
       "      <td>MONZO BANK LIMITED</td>\n",
       "      <td>MASTERCARD</td>\n",
       "      <td>8991133_535522_0499_252290843369_1500.0</td>\n",
       "      <td>8991133_535522_0499_nan_1500.0</td>\n",
       "      <td>8991133_535522_0499_nan_1500.0</td>\n",
       "      <td>8991133_0499_nan_1500.0</td>\n",
       "    </tr>\n",
       "  </tbody>\n",
       "</table>\n",
       "<p>1 rows × 30 columns</p>\n",
       "</div>"
      ],
      "text/plain": [
       "                            merchant_id                                  uuid  \\\n",
       "0  88646ffe-6ede-47b4-a269-889c4d14b3ff  300d514c-8a8f-456d-b2d1-0adeafccc678   \n",
       "\n",
       "                         transaction_id           merchant_name      order_id  \\\n",
       "0  558a3251-1acb-46a8-8300-f3356feb449e  LOS REMEDIOS NATURISTA  252290843369   \n",
       "\n",
       "  affiliation affiliation_type  sub_affiliation   mcc date_transaction  ...  \\\n",
       "0     8991133     CARD_PRESENT         62333351  5912       2023-08-12  ...   \n",
       "\n",
       "   msi         device_id clip_reader  \\\n",
       "0 0.00  PP36812120014028    Clip Pro   \n",
       "\n",
       "                                    status_msg              issuer  \\\n",
       "0  Error. Cancel requested on pending payment.  MONZO BANK LIMITED   \n",
       "\n",
       "        brand                           INDEX_ORDER_ID  \\\n",
       "0  MASTERCARD  8991133_535522_0499_252290843369_1500.0   \n",
       "\n",
       "                 INDEX_CUST_FIELD                 INDEX_AUTH_CODE  \\\n",
       "0  8991133_535522_0499_nan_1500.0  8991133_535522_0499_nan_1500.0   \n",
       "\n",
       "         INDEX_AUTH_CODE_2  \n",
       "0  8991133_0499_nan_1500.0  \n",
       "\n",
       "[1 rows x 30 columns]"
      ]
     },
     "execution_count": 7,
     "metadata": {},
     "output_type": "execute_result"
    }
   ],
   "source": [
    "ticket_zendesk = pd.read_csv('DISPUTAS GETNET 2023.09.08.csv',dtype={'AMOUNT':float,'CLAVE_AUTORIZACION': object,'BIN':object\n",
    "                                                  ,'LAST4':object,'ORDER_ID':object,'AFFILIATION':object})\n",
    "ticket_zendesk.columns = ticket_zendesk.columns.str.strip().str.lower()\n",
    "ticket_zendesk['INDEX_ORDER_ID'] = (ticket_zendesk['affiliation'].astype(str).replace(' ', '',regex=True)+'_'\n",
    "                                     +ticket_zendesk['bin'].astype(str).replace(' ', '',regex=True)+'_'\n",
    "                                     +ticket_zendesk['last4'].astype(str).replace(' ', '',regex=True)+'_'\n",
    "                                     +ticket_zendesk['order_id'].astype(str).replace(' ', '',regex=True)+'_'\n",
    "                                     +ticket_zendesk['amount'].astype(str).replace(' ', '',regex=True))\n",
    "ticket_zendesk['INDEX_CUST_FIELD'] = (ticket_zendesk['affiliation'].astype(str).replace(' ', '',regex=True)+'_'\n",
    "                                     +ticket_zendesk['bin'].astype(str).replace(' ', '',regex=True)+'_'\n",
    "                                     +ticket_zendesk['last4'].astype(str).replace(' ', '',regex=True)+'_'\n",
    "                                     +ticket_zendesk['clave_autorizacion'].astype(str).replace(' ', '',regex=True)+'_'\n",
    "                                     +ticket_zendesk['amount'].astype(str).replace(' ', '',regex=True))\n",
    "ticket_zendesk['INDEX_AUTH_CODE'] = (ticket_zendesk['affiliation'].astype(str).replace(' ', '',regex=True)+'_'\n",
    "                                     +ticket_zendesk['bin'].astype(str).replace(' ', '',regex=True)+'_'\n",
    "                                     +ticket_zendesk['last4'].astype(str).replace(' ', '',regex=True)+'_'\n",
    "                                     +ticket_zendesk['clave_autorizacion'].astype(str).replace(' ', '',regex=True)+'_'\n",
    "                                     +ticket_zendesk['amount'].astype(str).replace(' ', '',regex=True))\n",
    "ticket_zendesk['INDEX_AUTH_CODE_2'] = (ticket_zendesk['affiliation'].astype(str).replace(' ', '',regex=True)+'_'\n",
    "                                     +ticket_zendesk['last4'].astype(str).replace(' ', '',regex=True)+'_'\n",
    "                                     +ticket_zendesk['clave_autorizacion'].astype(str).replace(' ', '',regex=True)+'_'\n",
    "                                     +ticket_zendesk['amount'].astype(str).replace(' ', '',regex=True))\n",
    "ticket_zendesk.head()"
   ]
  },
  {
   "cell_type": "code",
   "execution_count": 8,
   "metadata": {},
   "outputs": [
    {
     "data": {
      "text/plain": [
       "(1, 30)"
      ]
     },
     "execution_count": 8,
     "metadata": {},
     "output_type": "execute_result"
    }
   ],
   "source": [
    "ticket_zendesk.shape"
   ]
  },
  {
   "cell_type": "markdown",
   "metadata": {},
   "source": [
    "# CRUCE_2: DATA CLIP VS GETNET"
   ]
  },
  {
   "cell_type": "code",
   "execution_count": 14,
   "metadata": {},
   "outputs": [
    {
     "data": {
      "text/html": [
       "<div>\n",
       "<style scoped>\n",
       "    .dataframe tbody tr th:only-of-type {\n",
       "        vertical-align: middle;\n",
       "    }\n",
       "\n",
       "    .dataframe tbody tr th {\n",
       "        vertical-align: top;\n",
       "    }\n",
       "\n",
       "    .dataframe thead th {\n",
       "        text-align: right;\n",
       "    }\n",
       "</style>\n",
       "<table border=\"1\" class=\"dataframe\">\n",
       "  <thead>\n",
       "    <tr style=\"text-align: right;\">\n",
       "      <th></th>\n",
       "      <th>merchant_id</th>\n",
       "      <th>uuid</th>\n",
       "      <th>transaction_id</th>\n",
       "      <th>merchant_name</th>\n",
       "      <th>order_id</th>\n",
       "      <th>affiliation</th>\n",
       "      <th>affiliation_type</th>\n",
       "      <th>sub_affiliation</th>\n",
       "      <th>mcc</th>\n",
       "      <th>date_transaction</th>\n",
       "      <th>...</th>\n",
       "      <th>INDEX_AUTH_CODE_2</th>\n",
       "      <th>auth_code</th>\n",
       "      <th>bin_getnet</th>\n",
       "      <th>last4_getnet</th>\n",
       "      <th>arn</th>\n",
       "      <th>transaction_type</th>\n",
       "      <th>transaction_date</th>\n",
       "      <th>settlement_date</th>\n",
       "      <th>seller</th>\n",
       "      <th>transaction_amount</th>\n",
       "    </tr>\n",
       "  </thead>\n",
       "  <tbody>\n",
       "    <tr>\n",
       "      <th>0</th>\n",
       "      <td>88646ffe-6ede-47b4-a269-889c4d14b3ff</td>\n",
       "      <td>300d514c-8a8f-456d-b2d1-0adeafccc678</td>\n",
       "      <td>558a3251-1acb-46a8-8300-f3356feb449e</td>\n",
       "      <td>LOS REMEDIOS NATURISTA</td>\n",
       "      <td>252290843369</td>\n",
       "      <td>8991133</td>\n",
       "      <td>CARD_PRESENT</td>\n",
       "      <td>62333351</td>\n",
       "      <td>5912</td>\n",
       "      <td>2023-08-12</td>\n",
       "      <td>...</td>\n",
       "      <td>8991133_0499_nan_1500.0</td>\n",
       "      <td>NaN</td>\n",
       "      <td>NaN</td>\n",
       "      <td>NaN</td>\n",
       "      <td>NaN</td>\n",
       "      <td>NaN</td>\n",
       "      <td>NaN</td>\n",
       "      <td>NaN</td>\n",
       "      <td>NaN</td>\n",
       "      <td>NaN</td>\n",
       "    </tr>\n",
       "  </tbody>\n",
       "</table>\n",
       "<p>1 rows × 39 columns</p>\n",
       "</div>"
      ],
      "text/plain": [
       "                            merchant_id                                  uuid  \\\n",
       "0  88646ffe-6ede-47b4-a269-889c4d14b3ff  300d514c-8a8f-456d-b2d1-0adeafccc678   \n",
       "\n",
       "                         transaction_id           merchant_name      order_id  \\\n",
       "0  558a3251-1acb-46a8-8300-f3356feb449e  LOS REMEDIOS NATURISTA  252290843369   \n",
       "\n",
       "  affiliation affiliation_type  sub_affiliation   mcc date_transaction  ...  \\\n",
       "0     8991133     CARD_PRESENT         62333351  5912       2023-08-12  ...   \n",
       "\n",
       "         INDEX_AUTH_CODE_2 auth_code bin_getnet  last4_getnet  arn  \\\n",
       "0  8991133_0499_nan_1500.0       NaN        NaN           NaN  NaN   \n",
       "\n",
       "  transaction_type transaction_date settlement_date seller  transaction_amount  \n",
       "0              NaN              NaN             NaN    NaN                 NaN  \n",
       "\n",
       "[1 rows x 39 columns]"
      ]
     },
     "execution_count": 14,
     "metadata": {},
     "output_type": "execute_result"
    }
   ],
   "source": [
    "cruce_1 = ticket_zendesk.merge(getnet_transaction[['INDEX_AUTH_CODE','auth_code','bin_getnet','last4_getnet','arn',\n",
    "                                                   'transaction_type','transaction_date','settlement_date','seller',\n",
    "                                                   'transaction_amount']],on='INDEX_AUTH_CODE',how='left')\n",
    "cruce_1.head()"
   ]
  },
  {
   "cell_type": "code",
   "execution_count": 15,
   "metadata": {},
   "outputs": [
    {
     "data": {
      "text/plain": [
       "(1, 39)"
      ]
     },
     "execution_count": 15,
     "metadata": {},
     "output_type": "execute_result"
    }
   ],
   "source": [
    "cruce_1.shape"
   ]
  },
  {
   "cell_type": "code",
   "execution_count": 16,
   "metadata": {},
   "outputs": [
    {
     "data": {
      "text/html": [
       "<div>\n",
       "<style scoped>\n",
       "    .dataframe tbody tr th:only-of-type {\n",
       "        vertical-align: middle;\n",
       "    }\n",
       "\n",
       "    .dataframe tbody tr th {\n",
       "        vertical-align: top;\n",
       "    }\n",
       "\n",
       "    .dataframe thead th {\n",
       "        text-align: right;\n",
       "    }\n",
       "</style>\n",
       "<table border=\"1\" class=\"dataframe\">\n",
       "  <thead>\n",
       "    <tr style=\"text-align: right;\">\n",
       "      <th></th>\n",
       "      <th>merchant_id</th>\n",
       "      <th>transaction_id</th>\n",
       "      <th>status_code</th>\n",
       "      <th>order_id</th>\n",
       "      <th>arn</th>\n",
       "      <th>auth_code</th>\n",
       "      <th>seller</th>\n",
       "      <th>transaction_date</th>\n",
       "      <th>transaction_type</th>\n",
       "      <th>settlement_date</th>\n",
       "      <th>transaction_amount</th>\n",
       "    </tr>\n",
       "  </thead>\n",
       "  <tbody>\n",
       "    <tr>\n",
       "      <th>0</th>\n",
       "      <td>88646ffe-6ede-47b4-a269-889c4d14b3ff</td>\n",
       "      <td>558a3251-1acb-46a8-8300-f3356feb449e</td>\n",
       "      <td>-5</td>\n",
       "      <td>252290843369</td>\n",
       "      <td>NaN</td>\n",
       "      <td>NaN</td>\n",
       "      <td>NaN</td>\n",
       "      <td>NaN</td>\n",
       "      <td>NaN</td>\n",
       "      <td>NaN</td>\n",
       "      <td>NaN</td>\n",
       "    </tr>\n",
       "  </tbody>\n",
       "</table>\n",
       "</div>"
      ],
      "text/plain": [
       "                            merchant_id                        transaction_id  \\\n",
       "0  88646ffe-6ede-47b4-a269-889c4d14b3ff  558a3251-1acb-46a8-8300-f3356feb449e   \n",
       "\n",
       "   status_code      order_id  arn auth_code seller transaction_date  \\\n",
       "0           -5  252290843369  NaN       NaN    NaN              NaN   \n",
       "\n",
       "  transaction_type settlement_date  transaction_amount  \n",
       "0              NaN             NaN                 NaN  "
      ]
     },
     "execution_count": 16,
     "metadata": {},
     "output_type": "execute_result"
    }
   ],
   "source": [
    "cruce_1_final = cruce_1[['merchant_id','transaction_id','status_code','order_id','arn','auth_code',\n",
    "                          'seller','transaction_date','transaction_type','settlement_date','transaction_amount']]\n",
    "cruce_1_final.head()                 "
   ]
  },
  {
   "cell_type": "code",
   "execution_count": 17,
   "metadata": {},
   "outputs": [
    {
     "data": {
      "text/plain": [
       "(1, 11)"
      ]
     },
     "execution_count": 17,
     "metadata": {},
     "output_type": "execute_result"
    }
   ],
   "source": [
    "cruce_1_final.shape"
   ]
  },
  {
   "cell_type": "code",
   "execution_count": 18,
   "metadata": {},
   "outputs": [],
   "source": [
    "writer = pd.ExcelWriter('DATA FINAL DISPUTAS GETNET-2 2023.09.08.xlsx',\n",
    "                        engine='xlsxwriter',\n",
    "                        engine_kwargs={'options': {'encoding':'utf-8'}})\n",
    "cruce_1_final.to_excel(writer, sheet_name='MATCH_FINAL', index=False)\n",
    "cruce_1.to_excel(writer, sheet_name='MATCH', index=False)\n",
    "writer.close()"
   ]
  },
  {
   "cell_type": "markdown",
   "metadata": {},
   "source": [
    "# CHECKS PUNTUALES"
   ]
  },
  {
   "cell_type": "code",
   "execution_count": 19,
   "metadata": {},
   "outputs": [
    {
     "data": {
      "text/html": [
       "<div>\n",
       "<style scoped>\n",
       "    .dataframe tbody tr th:only-of-type {\n",
       "        vertical-align: middle;\n",
       "    }\n",
       "\n",
       "    .dataframe tbody tr th {\n",
       "        vertical-align: top;\n",
       "    }\n",
       "\n",
       "    .dataframe thead th {\n",
       "        text-align: right;\n",
       "    }\n",
       "</style>\n",
       "<table border=\"1\" class=\"dataframe\">\n",
       "  <thead>\n",
       "    <tr style=\"text-align: right;\">\n",
       "      <th></th>\n",
       "      <th>chain_id</th>\n",
       "      <th>merchant</th>\n",
       "      <th>merchant_name</th>\n",
       "      <th>seller</th>\n",
       "      <th>seller_name</th>\n",
       "      <th>terminal_id</th>\n",
       "      <th>number_account</th>\n",
       "      <th>arn</th>\n",
       "      <th>app_id</th>\n",
       "      <th>auth_code</th>\n",
       "      <th>...</th>\n",
       "      <th>metadata_bronze_filename</th>\n",
       "      <th>record_id</th>\n",
       "      <th>spark_metadata_app_id</th>\n",
       "      <th>spark_metadata_batch_id</th>\n",
       "      <th>file_name</th>\n",
       "      <th>bin_getnet</th>\n",
       "      <th>last4_getnet</th>\n",
       "      <th>INDEX_AUTH_CODE</th>\n",
       "      <th>INDEX_CUST_FIELD</th>\n",
       "      <th>INDEX_AUTH_CODE_2</th>\n",
       "    </tr>\n",
       "  </thead>\n",
       "  <tbody>\n",
       "    <tr>\n",
       "      <th>614646</th>\n",
       "      <td>NaN</td>\n",
       "      <td>BLI120726UF6</td>\n",
       "      <td>PAYCLIP SRL CV</td>\n",
       "      <td>8991133</td>\n",
       "      <td>PAYCLIP*TDAS AUT MINISUP</td>\n",
       "      <td>PMX1133A</td>\n",
       "      <td>'014180655068329767</td>\n",
       "      <td>'75177133224000688966611</td>\n",
       "      <td>mit</td>\n",
       "      <td>AP1RDI</td>\n",
       "      <td>...</td>\n",
       "      <td>202308141100ID100003settransactiongmr.csv</td>\n",
       "      <td>95001bf4-a597-599c-9ed1-56438751856b</td>\n",
       "      <td>c20fb4d7-1f6b-42bd-9919-691bd69aa2b7</td>\n",
       "      <td>23</td>\n",
       "      <td>GETNET DETALLE_BY_TXN_ID.tsv</td>\n",
       "      <td>535522</td>\n",
       "      <td>0499</td>\n",
       "      <td>8991133_535522_0499_AP1RDI_1500.0</td>\n",
       "      <td>8991133_535522_0499_100000848528_1500.0</td>\n",
       "      <td>8991133_0499_AP1RDI_1500.0</td>\n",
       "    </tr>\n",
       "  </tbody>\n",
       "</table>\n",
       "<p>1 rows × 69 columns</p>\n",
       "</div>"
      ],
      "text/plain": [
       "       chain_id      merchant   merchant_name   seller  \\\n",
       "614646      NaN  BLI120726UF6  PAYCLIP SRL CV  8991133   \n",
       "\n",
       "                     seller_name terminal_id       number_account  \\\n",
       "614646  PAYCLIP*TDAS AUT MINISUP    PMX1133A  '014180655068329767   \n",
       "\n",
       "                             arn app_id auth_code  ...  \\\n",
       "614646  '75177133224000688966611    mit    AP1RDI  ...   \n",
       "\n",
       "                         metadata_bronze_filename  \\\n",
       "614646  202308141100ID100003settransactiongmr.csv   \n",
       "\n",
       "                                   record_id  \\\n",
       "614646  95001bf4-a597-599c-9ed1-56438751856b   \n",
       "\n",
       "                       spark_metadata_app_id spark_metadata_batch_id  \\\n",
       "614646  c20fb4d7-1f6b-42bd-9919-691bd69aa2b7                      23   \n",
       "\n",
       "                           file_name bin_getnet last4_getnet  \\\n",
       "614646  GETNET DETALLE_BY_TXN_ID.tsv     535522         0499   \n",
       "\n",
       "                          INDEX_AUTH_CODE  \\\n",
       "614646  8991133_535522_0499_AP1RDI_1500.0   \n",
       "\n",
       "                               INDEX_CUST_FIELD           INDEX_AUTH_CODE_2  \n",
       "614646  8991133_535522_0499_100000848528_1500.0  8991133_0499_AP1RDI_1500.0  \n",
       "\n",
       "[1 rows x 69 columns]"
      ]
     },
     "execution_count": 19,
     "metadata": {},
     "output_type": "execute_result"
    }
   ],
   "source": [
    "# select columns by name\n",
    "check_txn_puntual = getnet_transaction[(getnet_transaction['INDEX_AUTH_CODE_2'].isin([\n",
    "'8991133_0499_AP1RDI_1500.0'\n",
    "]))]\n",
    "check_txn_puntual.head()"
   ]
  },
  {
   "cell_type": "code",
   "execution_count": 20,
   "metadata": {},
   "outputs": [
    {
     "data": {
      "text/plain": [
       "(1, 69)"
      ]
     },
     "execution_count": 20,
     "metadata": {},
     "output_type": "execute_result"
    }
   ],
   "source": [
    "check_txn_puntual.shape"
   ]
  },
  {
   "cell_type": "code",
   "execution_count": 21,
   "metadata": {},
   "outputs": [
    {
     "data": {
      "text/html": [
       "<div>\n",
       "<style scoped>\n",
       "    .dataframe tbody tr th:only-of-type {\n",
       "        vertical-align: middle;\n",
       "    }\n",
       "\n",
       "    .dataframe tbody tr th {\n",
       "        vertical-align: top;\n",
       "    }\n",
       "\n",
       "    .dataframe thead th {\n",
       "        text-align: right;\n",
       "    }\n",
       "</style>\n",
       "<table border=\"1\" class=\"dataframe\">\n",
       "  <thead>\n",
       "    <tr style=\"text-align: right;\">\n",
       "      <th></th>\n",
       "      <th>INDEX_AUTH_CODE</th>\n",
       "      <th>INDEX_CUST_FIELD</th>\n",
       "      <th>INDEX_AUTH_CODE_2</th>\n",
       "      <th>arn</th>\n",
       "      <th>auth_code</th>\n",
       "      <th>seller</th>\n",
       "      <th>transaction_date</th>\n",
       "      <th>transaction_type</th>\n",
       "      <th>settlement_date</th>\n",
       "      <th>transaction_amount</th>\n",
       "    </tr>\n",
       "  </thead>\n",
       "  <tbody>\n",
       "    <tr>\n",
       "      <th>614646</th>\n",
       "      <td>8991133_535522_0499_AP1RDI_1500.0</td>\n",
       "      <td>8991133_535522_0499_100000848528_1500.0</td>\n",
       "      <td>8991133_0499_AP1RDI_1500.0</td>\n",
       "      <td>'75177133224000688966611</td>\n",
       "      <td>AP1RDI</td>\n",
       "      <td>8991133</td>\n",
       "      <td>2023-08-12</td>\n",
       "      <td>Sale</td>\n",
       "      <td>2023-08-14</td>\n",
       "      <td>1,500.00</td>\n",
       "    </tr>\n",
       "  </tbody>\n",
       "</table>\n",
       "</div>"
      ],
      "text/plain": [
       "                          INDEX_AUTH_CODE  \\\n",
       "614646  8991133_535522_0499_AP1RDI_1500.0   \n",
       "\n",
       "                               INDEX_CUST_FIELD           INDEX_AUTH_CODE_2  \\\n",
       "614646  8991133_535522_0499_100000848528_1500.0  8991133_0499_AP1RDI_1500.0   \n",
       "\n",
       "                             arn auth_code   seller transaction_date  \\\n",
       "614646  '75177133224000688966611    AP1RDI  8991133       2023-08-12   \n",
       "\n",
       "       transaction_type settlement_date  transaction_amount  \n",
       "614646             Sale      2023-08-14            1,500.00  "
      ]
     },
     "execution_count": 21,
     "metadata": {},
     "output_type": "execute_result"
    }
   ],
   "source": [
    "check_txn_puntual_final = check_txn_puntual[['INDEX_AUTH_CODE','INDEX_CUST_FIELD','INDEX_AUTH_CODE_2','arn','auth_code',\n",
    "                                             'seller','transaction_date','transaction_type','settlement_date',\n",
    "                                             'transaction_amount']]\n",
    "check_txn_puntual_final.head()"
   ]
  },
  {
   "cell_type": "code",
   "execution_count": 22,
   "metadata": {},
   "outputs": [
    {
     "data": {
      "text/plain": [
       "(1, 10)"
      ]
     },
     "execution_count": 22,
     "metadata": {},
     "output_type": "execute_result"
    }
   ],
   "source": [
    "check_txn_puntual_final.shape"
   ]
  },
  {
   "cell_type": "code",
   "execution_count": 23,
   "metadata": {},
   "outputs": [],
   "source": [
    "writer = pd.ExcelWriter('DATA FINAL PUNT DISPUTAS GETNET 2023.09.08.xlsx',\n",
    "                        engine='xlsxwriter',\n",
    "                        engine_kwargs={'options': {'encoding':'utf-8'}})\n",
    "check_txn_puntual_final.to_excel(writer, sheet_name='MATCH_FINAL', index=False)\n",
    "#check_txn.to_excel(writer, sheet_name='MATCH', index=False)\n",
    "writer.close()"
   ]
  },
  {
   "cell_type": "code",
   "execution_count": null,
   "metadata": {},
   "outputs": [],
   "source": []
  }
 ],
 "metadata": {
  "kernelspec": {
   "display_name": "Python 3 (ipykernel)",
   "language": "python",
   "name": "python3"
  },
  "language_info": {
   "codemirror_mode": {
    "name": "ipython",
    "version": 3
   },
   "file_extension": ".py",
   "mimetype": "text/x-python",
   "name": "python",
   "nbconvert_exporter": "python",
   "pygments_lexer": "ipython3",
   "version": "3.9.17"
  }
 },
 "nbformat": 4,
 "nbformat_minor": 2
}
