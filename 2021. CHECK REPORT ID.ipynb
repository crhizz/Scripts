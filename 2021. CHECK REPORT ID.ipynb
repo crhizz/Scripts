{
 "cells": [
  {
   "cell_type": "code",
   "execution_count": 1,
   "metadata": {},
   "outputs": [],
   "source": [
    "import pandas as pd\n",
    "import numpy as np\n",
    "from openpyxl import load_workbook\n",
    "import glob\n",
    "import os\n",
    "pd.options.display.float_format = '{:,.2f}'.format"
   ]
  },
  {
   "cell_type": "code",
   "execution_count": 2,
   "metadata": {},
   "outputs": [],
   "source": [
    "name_header = ['merchant_id','merchant_name','user_email','report_id','report_date_local','amount','status','bank_name'\n",
    "               ,'payment_date_local','bank_account_owner_name','bank_account_number','swap']"
   ]
  },
  {
   "cell_type": "markdown",
   "metadata": {},
   "source": [
    "### 2021"
   ]
  },
  {
   "cell_type": "markdown",
   "metadata": {},
   "source": [
    "#### DICIEMBRE"
   ]
  },
  {
   "cell_type": "code",
   "execution_count": 3,
   "metadata": {},
   "outputs": [],
   "source": [
    "# TRADICIONAL\n",
    "trad_files_csv_2021_dec = glob.glob(r'G:\\My Drive\\3.-Settlement\\5.-HISTORICO FILES PAGOS\\01. TRADICIONAL\\2021\\12. DECEMBER\\QUERIES\\*.csv', recursive=False)\n",
    "# trad_files_txt_2021_apr = glob.glob(r'G:\\My Drive\\Settlement\\5.-HISTORICO FILES PAGOS\\2021\\04. APRIL\\QUERIES\\*.txt', recursive=False)\n",
    "# FAST PAYMENTS\n",
    "fp_files_csv_2021_dec = glob.glob(r'G:\\My Drive\\3.-Settlement\\5.-HISTORICO FILES PAGOS\\02. FAST PAYMENTS\\2021\\12. DICIEMBRE\\QUERIES\\*.csv', recursive=False)"
   ]
  },
  {
   "cell_type": "code",
   "execution_count": 4,
   "metadata": {},
   "outputs": [],
   "source": [
    "disp_files_csv_2021_dec = pd.concat([pd.read_csv(f,dtype={'bank_account_number':object,'report_id':object})\n",
    "                            .assign(file_name=os.path.basename(f)) for f in trad_files_csv_2021_dec])\n",
    "disp_files_csv_2021_dec['date_query'] = disp_files_csv_2021_dec[\"file_name\"].str[-14:-4]\n",
    "disp_files_csv_2021_dec['date_query']= pd.to_datetime(disp_files_csv_2021_dec['date_query'])"
   ]
  },
  {
   "cell_type": "code",
   "execution_count": 5,
   "metadata": {},
   "outputs": [],
   "source": [
    "fp_disp_files_csv_2021_dec = pd.concat([pd.read_csv(f,dtype={'bank_account_number':object,'report_id':object})\n",
    "                            .assign(file_name=os.path.basename(f)) for f in fp_files_csv_2021_dec])\n",
    "fp_disp_files_csv_2021_dec['date_query'] = fp_disp_files_csv_2021_dec[\"file_name\"].str[-14:-4]\n",
    "fp_disp_files_csv_2021_dec['date_query']= pd.to_datetime(fp_disp_files_csv_2021_dec['date_query']) "
   ]
  },
  {
   "cell_type": "markdown",
   "metadata": {},
   "source": [
    "#### NOVIEMBRE"
   ]
  },
  {
   "cell_type": "code",
   "execution_count": 9,
   "metadata": {},
   "outputs": [],
   "source": [
    "# TRADICIONAL\n",
    "trad_files_csv_2021_nov = glob.glob(r'G:\\My Drive\\3.-Settlement\\5.-HISTORICO FILES PAGOS\\01. TRADICIONAL\\2021\\11. NOVEMBER\\QUERIES\\*.csv', recursive=False)\n",
    "# trad_files_txt_2021_apr = glob.glob(r'G:\\My Drive\\Settlement\\5.-HISTORICO FILES PAGOS\\2021\\04. APRIL\\QUERIES\\*.txt', recursive=False)\n",
    "# FAST PAYMENTS\n",
    "fp_files_csv_2021_nov = glob.glob(r'G:\\My Drive\\3.-Settlement\\5.-HISTORICO FILES PAGOS\\02. FAST PAYMENTS\\2021\\11. NOVIEMBRE\\QUERIES\\*.csv', recursive=False)"
   ]
  },
  {
   "cell_type": "code",
   "execution_count": 10,
   "metadata": {},
   "outputs": [],
   "source": [
    "disp_files_csv_2021_nov = pd.concat([pd.read_csv(f,dtype={'bank_account_number':object,'report_id':object})\n",
    "                            .assign(file_name=os.path.basename(f)) for f in trad_files_csv_2021_nov])\n",
    "disp_files_csv_2021_nov['date_query'] = disp_files_csv_2021_nov[\"file_name\"].str[-14:-4]\n",
    "disp_files_csv_2021_nov['date_query']= pd.to_datetime(disp_files_csv_2021_nov['date_query'])"
   ]
  },
  {
   "cell_type": "code",
   "execution_count": 11,
   "metadata": {},
   "outputs": [],
   "source": [
    "fp_disp_files_csv_2021_nov = pd.concat([pd.read_csv(f,dtype={'bank_account_number':object,'report_id':object})\n",
    "                            .assign(file_name=os.path.basename(f)) for f in fp_files_csv_2021_nov])\n",
    "fp_disp_files_csv_2021_nov['date_query'] = fp_disp_files_csv_2021_nov[\"file_name\"].str[-14:-4]\n",
    "fp_disp_files_csv_2021_nov['date_query']= pd.to_datetime(fp_disp_files_csv_2021_nov['date_query']) "
   ]
  },
  {
   "cell_type": "markdown",
   "metadata": {},
   "source": [
    "#### OCTUBRE"
   ]
  },
  {
   "cell_type": "code",
   "execution_count": 12,
   "metadata": {},
   "outputs": [],
   "source": [
    "# TRADICIONAL\n",
    "trad_files_csv_2021_oct = glob.glob(r'G:\\My Drive\\3.-Settlement\\5.-HISTORICO FILES PAGOS\\01. TRADICIONAL\\2021\\10. OCTOBER\\QUERIES\\*.csv', recursive=False)\n",
    "# trad_files_txt_2021_apr = glob.glob(r'G:\\My Drive\\Settlement\\5.-HISTORICO FILES PAGOS\\2021\\04. APRIL\\QUERIES\\*.txt', recursive=False)\n",
    "# FAST PAYMENTS\n",
    "fp_files_csv_2021_oct = glob.glob(r'G:\\My Drive\\3.-Settlement\\5.-HISTORICO FILES PAGOS\\02. FAST PAYMENTS\\2021\\10. OCTUBRE\\QUERIES\\*.csv', recursive=False)"
   ]
  },
  {
   "cell_type": "code",
   "execution_count": 13,
   "metadata": {},
   "outputs": [],
   "source": [
    "disp_files_csv_2021_oct = pd.concat([pd.read_csv(f,dtype={'bank_account_number':object,'report_id':object})\n",
    "                            .assign(file_name=os.path.basename(f)) for f in trad_files_csv_2021_oct])\n",
    "disp_files_csv_2021_oct['date_query'] = disp_files_csv_2021_oct[\"file_name\"].str[-14:-4]\n",
    "disp_files_csv_2021_oct['date_query']= pd.to_datetime(disp_files_csv_2021_oct['date_query'])"
   ]
  },
  {
   "cell_type": "code",
   "execution_count": 14,
   "metadata": {},
   "outputs": [],
   "source": [
    "fp_disp_files_csv_2021_oct = pd.concat([pd.read_csv(f,dtype={'bank_account_number':object,'report_id':object})\n",
    "                            .assign(file_name=os.path.basename(f)) for f in fp_files_csv_2021_oct])\n",
    "fp_disp_files_csv_2021_oct['date_query'] = fp_disp_files_csv_2021_oct[\"file_name\"].str[-14:-4]\n",
    "fp_disp_files_csv_2021_oct['date_query']= pd.to_datetime(fp_disp_files_csv_2021_oct['date_query']) "
   ]
  },
  {
   "cell_type": "markdown",
   "metadata": {},
   "source": [
    "#### SEPTIEMBRE"
   ]
  },
  {
   "cell_type": "code",
   "execution_count": null,
   "metadata": {},
   "outputs": [],
   "source": [
    "# TRADICIONAL\n",
    "trad_files_csv_2021_sep = glob.glob(r'G:\\My Drive\\Settlement\\5.-HISTORICO FILES PAGOS\\2021\\09. SEPTEMBER\\QUERIES\\*.csv', recursive=False)\n",
    "# trad_files_txt_2021_apr = glob.glob(r'G:\\My Drive\\Settlement\\5.-HISTORICO FILES PAGOS\\2021\\04. APRIL\\QUERIES\\*.txt', recursive=False)\n",
    "# FAST PAYMENTS\n",
    "fp_files_csv_2021_sep = glob.glob(r'G:\\My Drive\\Settlement\\FAST PAYMENTS\\2021\\09. SEPTIEMBRE\\QUERIES\\*.csv', recursive=False)"
   ]
  },
  {
   "cell_type": "code",
   "execution_count": null,
   "metadata": {},
   "outputs": [],
   "source": [
    "disp_files_csv_2021_sep = pd.concat([pd.read_csv(f,dtype={'bank_account_number':object,'report_id':object})\n",
    "                            .assign(file_name=os.path.basename(f)) for f in trad_files_csv_2021_sep])\n",
    "disp_files_csv_2021_sep['date_query'] = disp_files_csv_2021_sep[\"file_name\"].str[-14:-4]\n",
    "disp_files_csv_2021_sep['date_query']= pd.to_datetime(disp_files_csv_2021_sep['date_query'])"
   ]
  },
  {
   "cell_type": "code",
   "execution_count": null,
   "metadata": {},
   "outputs": [],
   "source": [
    "fp_disp_files_csv_2021_sep = pd.concat([pd.read_csv(f,dtype={'bank_account_number':object,'report_id':object})\n",
    "                            .assign(file_name=os.path.basename(f)) for f in fp_files_csv_2021_sep])\n",
    "fp_disp_files_csv_2021_sep['date_query'] = fp_disp_files_csv_2021_sep[\"file_name\"].str[-14:-4]\n",
    "fp_disp_files_csv_2021_sep['date_query']= pd.to_datetime(fp_disp_files_csv_2021_sep['date_query']) "
   ]
  },
  {
   "cell_type": "markdown",
   "metadata": {},
   "source": [
    "#### AGOSTO"
   ]
  },
  {
   "cell_type": "code",
   "execution_count": null,
   "metadata": {},
   "outputs": [],
   "source": [
    "# TRADICIONAL\n",
    "trad_files_csv_2021_aug = glob.glob(r'G:\\My Drive\\Settlement\\5.-HISTORICO FILES PAGOS\\2021\\08. AUGUST\\QUERIES\\*.csv', recursive=False)\n",
    "# trad_files_txt_2021_apr = glob.glob(r'G:\\My Drive\\Settlement\\5.-HISTORICO FILES PAGOS\\2021\\04. APRIL\\QUERIES\\*.txt', recursive=False)\n",
    "# FAST PAYMENTS\n",
    "fp_files_csv_2021_aug = glob.glob(r'G:\\My Drive\\Settlement\\FAST PAYMENTS\\2021\\08. AGOSTO\\QUERIES\\*.csv', recursive=False)"
   ]
  },
  {
   "cell_type": "code",
   "execution_count": null,
   "metadata": {},
   "outputs": [],
   "source": [
    "disp_files_csv_2021_aug = pd.concat([pd.read_csv(f,dtype={'bank_account_number':object,'report_id':object})\n",
    "                            .assign(file_name=os.path.basename(f)) for f in trad_files_csv_2021_aug])\n",
    "disp_files_csv_2021_aug['date_query'] = disp_files_csv_2021_aug[\"file_name\"].str[-14:-4]\n",
    "disp_files_csv_2021_aug['date_query']= pd.to_datetime(disp_files_csv_2021_aug['date_query'])"
   ]
  },
  {
   "cell_type": "code",
   "execution_count": null,
   "metadata": {},
   "outputs": [],
   "source": [
    "fp_disp_files_csv_2021_aug = pd.concat([pd.read_csv(f,dtype={'bank_account_number':object,'report_id':object})\n",
    "                            .assign(file_name=os.path.basename(f)) for f in fp_files_csv_2021_aug])\n",
    "fp_disp_files_csv_2021_aug['date_query'] = fp_disp_files_csv_2021_aug[\"file_name\"].str[-14:-4]\n",
    "fp_disp_files_csv_2021_aug['date_query']= pd.to_datetime(fp_disp_files_csv_2021_aug['date_query']) "
   ]
  },
  {
   "cell_type": "markdown",
   "metadata": {},
   "source": [
    "#### JULIO"
   ]
  },
  {
   "cell_type": "code",
   "execution_count": null,
   "metadata": {},
   "outputs": [],
   "source": [
    "# TRADICIONAL\n",
    "trad_files_csv_2021_jul = glob.glob(r'G:\\My Drive\\Settlement\\5.-HISTORICO FILES PAGOS\\2021\\07. JULY\\QUERIES\\*.csv', recursive=False)\n",
    "# trad_files_txt_2021_apr = glob.glob(r'G:\\My Drive\\Settlement\\5.-HISTORICO FILES PAGOS\\2021\\04. APRIL\\QUERIES\\*.txt', recursive=False)\n",
    "# FAST PAYMENTS\n",
    "fp_files_csv_2021_jul = glob.glob(r'G:\\My Drive\\Settlement\\FAST PAYMENTS\\2021\\07. JULIO\\QUERIES\\*.csv', recursive=False)"
   ]
  },
  {
   "cell_type": "code",
   "execution_count": null,
   "metadata": {},
   "outputs": [],
   "source": [
    "disp_files_csv_2021_jul = pd.concat([pd.read_csv(f,dtype={'bank_account_number':object,'report_id':object})\n",
    "                            .assign(file_name=os.path.basename(f)) for f in trad_files_csv_2021_jul])\n",
    "disp_files_csv_2021_jul['date_query'] = disp_files_csv_2021_jul[\"file_name\"].str[-14:-4]\n",
    "disp_files_csv_2021_jul['date_query']= pd.to_datetime(disp_files_csv_2021_jul['date_query'])"
   ]
  },
  {
   "cell_type": "code",
   "execution_count": null,
   "metadata": {},
   "outputs": [],
   "source": [
    "fp_disp_files_csv_2021_jul = pd.concat([pd.read_csv(f,dtype={'bank_account_number':object,'report_id':object})\n",
    "                            .assign(file_name=os.path.basename(f)) for f in fp_files_csv_2021_jul])\n",
    "fp_disp_files_csv_2021_jul['date_query'] = fp_disp_files_csv_2021_jul[\"file_name\"].str[-14:-4]\n",
    "fp_disp_files_csv_2021_jul['date_query']= pd.to_datetime(fp_disp_files_csv_2021_jul['date_query']) "
   ]
  },
  {
   "cell_type": "markdown",
   "metadata": {},
   "source": [
    "#### JUNIO"
   ]
  },
  {
   "cell_type": "code",
   "execution_count": null,
   "metadata": {},
   "outputs": [],
   "source": [
    "# TRADICIONAL\n",
    "trad_files_csv_2021_jun = glob.glob(r'G:\\My Drive\\Settlement\\5.-HISTORICO FILES PAGOS\\2021\\06. JUNE\\QUERIES\\*.csv', recursive=False)\n",
    "# trad_files_txt_2021_apr = glob.glob(r'G:\\My Drive\\Settlement\\5.-HISTORICO FILES PAGOS\\2021\\04. APRIL\\QUERIES\\*.txt', recursive=False)\n",
    "# FAST PAYMENTS\n",
    "fp_files_csv_2021_jun = glob.glob(r'G:\\My Drive\\Settlement\\FAST PAYMENTS\\2021\\06. JUNIO\\QUERIES\\*.csv', recursive=False)"
   ]
  },
  {
   "cell_type": "code",
   "execution_count": null,
   "metadata": {},
   "outputs": [],
   "source": [
    "disp_files_csv_2021_jun = pd.concat([pd.read_csv(f,dtype={'bank_account_number':object,'report_id':object})\n",
    "                            .assign(file_name=os.path.basename(f)) for f in trad_files_csv_2021_jun])\n",
    "disp_files_csv_2021_jun['date_query'] = disp_files_csv_2021_jun[\"file_name\"].str[-14:-4]\n",
    "disp_files_csv_2021_jun['date_query']= pd.to_datetime(disp_files_csv_2021_jun['date_query'])"
   ]
  },
  {
   "cell_type": "code",
   "execution_count": null,
   "metadata": {},
   "outputs": [],
   "source": [
    "fp_disp_files_csv_2021_jun = pd.concat([pd.read_csv(f,dtype={'bank_account_number':object,'report_id':object})\n",
    "                            .assign(file_name=os.path.basename(f)) for f in fp_files_csv_2021_jun])\n",
    "fp_disp_files_csv_2021_jun['date_query'] = fp_disp_files_csv_2021_jun[\"file_name\"].str[-14:-4]\n",
    "fp_disp_files_csv_2021_jun['date_query']= pd.to_datetime(fp_disp_files_csv_2021_jun['date_query']) "
   ]
  },
  {
   "cell_type": "markdown",
   "metadata": {},
   "source": [
    "#### MAYO"
   ]
  },
  {
   "cell_type": "code",
   "execution_count": null,
   "metadata": {},
   "outputs": [],
   "source": [
    "# TRADICIONAL\n",
    "trad_files_csv_2021_may = glob.glob(r'G:\\My Drive\\Settlement\\5.-HISTORICO FILES PAGOS\\2021\\05. MAY\\QUERIES\\*.csv', recursive=False)\n",
    "# trad_files_txt_2021_apr = glob.glob(r'G:\\My Drive\\Settlement\\5.-HISTORICO FILES PAGOS\\2021\\04. APRIL\\QUERIES\\*.txt', recursive=False)\n",
    "# FAST PAYMENTS\n",
    "fp_files_csv_2021_may = glob.glob(r'G:\\My Drive\\Settlement\\FAST PAYMENTS\\2021\\05. MAYO\\QUERIES\\*.csv', recursive=False)"
   ]
  },
  {
   "cell_type": "code",
   "execution_count": null,
   "metadata": {},
   "outputs": [],
   "source": [
    "disp_files_csv_2021_may = pd.concat([pd.read_csv(f,dtype={'bank_account_number':object,'report_id':object})\n",
    "                            .assign(file_name=os.path.basename(f)) for f in trad_files_csv_2021_may])\n",
    "disp_files_csv_2021_may['date_query'] = disp_files_csv_2021_may[\"file_name\"].str[-14:-4]\n",
    "disp_files_csv_2021_may['date_query']= pd.to_datetime(disp_files_csv_2021_may['date_query'])"
   ]
  },
  {
   "cell_type": "code",
   "execution_count": null,
   "metadata": {},
   "outputs": [],
   "source": [
    "fp_disp_files_csv_2021_may = pd.concat([pd.read_csv(f,dtype={'bank_account_number':object,'report_id':object})\n",
    "                            .assign(file_name=os.path.basename(f)) for f in fp_files_csv_2021_may])\n",
    "fp_disp_files_csv_2021_may['date_query'] = fp_disp_files_csv_2021_may[\"file_name\"].str[-14:-4]\n",
    "fp_disp_files_csv_2021_may['date_query']= pd.to_datetime(fp_disp_files_csv_2021_may['date_query']) "
   ]
  },
  {
   "cell_type": "markdown",
   "metadata": {},
   "source": [
    "#### ABRIL "
   ]
  },
  {
   "cell_type": "code",
   "execution_count": null,
   "metadata": {},
   "outputs": [],
   "source": [
    "# TRADICIONAL\n",
    "trad_files_csv_2021_apr = glob.glob(r'G:\\My Drive\\Settlement\\5.-HISTORICO FILES PAGOS\\2021\\04. APRIL\\QUERIES\\*.csv', recursive=False)\n",
    "# trad_files_txt_2021_apr = glob.glob(r'G:\\My Drive\\Settlement\\5.-HISTORICO FILES PAGOS\\2021\\04. APRIL\\QUERIES\\*.txt', recursive=False)\n",
    "# FAST PAYMENTS\n",
    "fp_files_csv_2021_apr = glob.glob(r'G:\\My Drive\\Settlement\\FAST PAYMENTS\\2021\\04. ABRIL\\QUERIES\\*.csv', recursive=False)"
   ]
  },
  {
   "cell_type": "code",
   "execution_count": null,
   "metadata": {},
   "outputs": [],
   "source": [
    "disp_files_csv_2021_apr = pd.concat([pd.read_csv(f,dtype={'bank_account_number':object,'report_id':object})\n",
    "                            .assign(file_name=os.path.basename(f)) for f in trad_files_csv_2021_apr])\n",
    "disp_files_csv_2021_apr['date_query'] = disp_files_csv_2021_apr[\"file_name\"].str[-14:-4]\n",
    "disp_files_csv_2021_apr['date_query']= pd.to_datetime(disp_files_csv_2021_apr['date_query'])"
   ]
  },
  {
   "cell_type": "code",
   "execution_count": null,
   "metadata": {},
   "outputs": [],
   "source": [
    "# disp_files_txt_2021_apr = pd.concat([pd.read_csv(f,sep='\\t',names=name_header,dtype={'bank_account_number':object,'report_id':object})\n",
    "#                             .assign(file_name=os.path.basename(f)) for f in trad_files_txt_2021_apr])\n",
    "# disp_files_txt_2021_apr['date_query'] = disp_files_txt_2021_apr[\"file_name\"].str[-14:-4]\n",
    "# disp_files_txt_2021_apr['date_query']= pd.to_datetime(disp_files_txt_2021_apr['date_query']) "
   ]
  },
  {
   "cell_type": "code",
   "execution_count": null,
   "metadata": {},
   "outputs": [],
   "source": [
    "fp_disp_files_csv_2021_apr = pd.concat([pd.read_csv(f,dtype={'bank_account_number':object,'report_id':object})\n",
    "                            .assign(file_name=os.path.basename(f)) for f in fp_files_csv_2021_apr])\n",
    "fp_disp_files_csv_2021_apr['date_query'] = fp_disp_files_csv_2021_apr[\"file_name\"].str[-14:-4]\n",
    "fp_disp_files_csv_2021_apr['date_query']= pd.to_datetime(fp_disp_files_csv_2021_apr['date_query']) "
   ]
  },
  {
   "cell_type": "markdown",
   "metadata": {},
   "source": [
    "#### MARZO"
   ]
  },
  {
   "cell_type": "code",
   "execution_count": null,
   "metadata": {},
   "outputs": [],
   "source": [
    "# TRADICIONAL\n",
    "trad_files_csv_2021_mar = glob.glob(r'G:\\My Drive\\Settlement\\5.-HISTORICO FILES PAGOS\\2021\\03. MARCH\\QUERIES\\*.csv', recursive=False)\n",
    "trad_files_txt_2021_mar = glob.glob(r'G:\\My Drive\\Settlement\\5.-HISTORICO FILES PAGOS\\2021\\03. MARCH\\QUERIES\\*.txt', recursive=False)\n",
    "# FAST PAYMENTS\n",
    "fp_files_csv_2021_mar = glob.glob(r'C:\\Users\\Cristian.Aparicio\\Documents\\FAST PAYMENTS\\2021\\03. MARZO\\QUERIES\\*.csv', recursive=False)"
   ]
  },
  {
   "cell_type": "code",
   "execution_count": null,
   "metadata": {},
   "outputs": [],
   "source": [
    "disp_files_csv_2021_mar = pd.concat([pd.read_csv(f,dtype={'bank_account_number':object,'report_id':object})\n",
    "                            .assign(file_name=os.path.basename(f)) for f in trad_files_csv_2021_mar])\n",
    "disp_files_csv_2021_mar['date_query'] = disp_files_csv_2021_mar[\"file_name\"].str[-14:-4]\n",
    "disp_files_csv_2021_mar['date_query']= pd.to_datetime(disp_files_csv_2021_mar['date_query'])"
   ]
  },
  {
   "cell_type": "code",
   "execution_count": null,
   "metadata": {},
   "outputs": [],
   "source": [
    "disp_files_txt_2021_mar = pd.concat([pd.read_csv(f,sep='\\t',names=name_header,dtype={'bank_account_number':object,'report_id':object})\n",
    "                            .assign(file_name=os.path.basename(f)) for f in trad_files_txt_2021_mar])\n",
    "disp_files_txt_2021_mar['date_query'] = disp_files_txt_2021_mar[\"file_name\"].str[-14:-4]\n",
    "disp_files_txt_2021_mar['date_query']= pd.to_datetime(disp_files_txt_2021_mar['date_query']) "
   ]
  },
  {
   "cell_type": "code",
   "execution_count": null,
   "metadata": {},
   "outputs": [],
   "source": [
    "fp_disp_files_csv_2021_mar = pd.concat([pd.read_csv(f,dtype={'bank_account_number':object,'report_id':object})\n",
    "                            .assign(file_name=os.path.basename(f)) for f in fp_files_csv_2021_mar])\n",
    "fp_disp_files_csv_2021_mar['date_query'] = fp_disp_files_csv_2021_mar[\"file_name\"].str[-14:-4]\n",
    "fp_disp_files_csv_2021_mar['date_query']= pd.to_datetime(fp_disp_files_csv_2021_mar['date_query']) "
   ]
  },
  {
   "cell_type": "markdown",
   "metadata": {},
   "source": [
    "#### FEBRERO"
   ]
  },
  {
   "cell_type": "code",
   "execution_count": null,
   "metadata": {},
   "outputs": [],
   "source": [
    "# TRADICIONAL\n",
    "trad_files_csv_2021_feb = glob.glob(r'G:\\My Drive\\Settlement\\5.-HISTORICO FILES PAGOS\\2021\\02. FEBRUARY\\QUERIES\\*.csv', recursive=False)\n",
    "trad_files_txt_2021_feb = glob.glob(r'G:\\My Drive\\Settlement\\5.-HISTORICO FILES PAGOS\\2021\\02. FEBRUARY\\QUERIES\\*.txt', recursive=False)\n",
    "# FAST PAYMENTS\n",
    "fp_files_csv_2021_feb = glob.glob(r'C:\\Users\\Cristian.Aparicio\\Documents\\FAST PAYMENTS\\2021\\02. FEBRERO\\QUERIES\\*.csv', recursive=False)"
   ]
  },
  {
   "cell_type": "code",
   "execution_count": null,
   "metadata": {},
   "outputs": [],
   "source": [
    "disp_files_csv_2021_feb = pd.concat([pd.read_csv(f,dtype={'bank_account_number':object,'report_id':object})\n",
    "                            .assign(file_name=os.path.basename(f)) for f in trad_files_csv_2021_feb])\n",
    "disp_files_csv_2021_feb['date_query'] = disp_files_csv_2021_feb[\"file_name\"].str[-14:-4]\n",
    "disp_files_csv_2021_feb['date_query']= pd.to_datetime(disp_files_csv_2021_feb['date_query'])"
   ]
  },
  {
   "cell_type": "code",
   "execution_count": null,
   "metadata": {},
   "outputs": [],
   "source": [
    "disp_files_txt_2021_feb = pd.concat([pd.read_csv(f,sep='\\t',names=name_header,dtype={'bank_account_number':object,'report_id':object})\n",
    "                            .assign(file_name=os.path.basename(f)) for f in trad_files_txt_2021_feb])\n",
    "disp_files_txt_2021_feb['date_query'] = disp_files_txt_2021_feb[\"file_name\"].str[-14:-4]\n",
    "disp_files_txt_2021_feb['date_query']= pd.to_datetime(disp_files_txt_2021_feb['date_query']) "
   ]
  },
  {
   "cell_type": "code",
   "execution_count": null,
   "metadata": {},
   "outputs": [],
   "source": [
    "fp_disp_files_csv_2021_feb = pd.concat([pd.read_csv(f,dtype={'bank_account_number':object,'report_id':object})\n",
    "                            .assign(file_name=os.path.basename(f)) for f in fp_files_csv_2021_feb])\n",
    "fp_disp_files_csv_2021_feb['date_query'] = fp_disp_files_csv_2021_feb[\"file_name\"].str[-14:-4]\n",
    "fp_disp_files_csv_2021_feb['date_query']= pd.to_datetime(fp_disp_files_csv_2021_feb['date_query']) "
   ]
  },
  {
   "cell_type": "markdown",
   "metadata": {},
   "source": [
    "#### ENERO"
   ]
  },
  {
   "cell_type": "code",
   "execution_count": null,
   "metadata": {},
   "outputs": [],
   "source": [
    "# TRADICIONAL\n",
    "trad_files_csv_2021_jan = glob.glob(r'G:\\My Drive\\Settlement\\5.-HISTORICO FILES PAGOS\\2021\\01. JANUARY\\QUERIES\\*.csv', recursive=False)\n",
    "trad_files_txt_2021_jan = glob.glob(r'G:\\My Drive\\Settlement\\5.-HISTORICO FILES PAGOS\\2021\\01. JANUARY\\QUERIES\\*.txt', recursive=False)\n",
    "# FAST PAYMENTS\n",
    "fp_files_csv_2021_jan = glob.glob(r'C:\\Users\\Cristian.Aparicio\\Documents\\FAST PAYMENTS\\2021\\01. ENERO\\QUERIES\\*.csv', recursive=False)"
   ]
  },
  {
   "cell_type": "code",
   "execution_count": null,
   "metadata": {},
   "outputs": [],
   "source": [
    "disp_files_csv_2021_jan = pd.concat([pd.read_csv(f,dtype={'bank_account_number':object,'report_id':object})\n",
    "                            .assign(file_name=os.path.basename(f)) for f in trad_files_csv_2021_jan])\n",
    "disp_files_csv_2021_jan['date_query'] = disp_files_csv_2021_jan[\"file_name\"].str[-14:-4]\n",
    "disp_files_csv_2021_jan['date_query']= pd.to_datetime(disp_files_csv_2021_jan['date_query'])"
   ]
  },
  {
   "cell_type": "code",
   "execution_count": null,
   "metadata": {},
   "outputs": [],
   "source": [
    "disp_files_txt_2021_jan = pd.concat([pd.read_csv(f,sep='\\t',names=name_header,dtype={'bank_account_number':object,'report_id':object})\n",
    "                            .assign(file_name=os.path.basename(f)) for f in trad_files_txt_2021_jan])\n",
    "disp_files_txt_2021_jan['date_query'] = disp_files_txt_2021_jan[\"file_name\"].str[-14:-4]\n",
    "disp_files_txt_2021_jan['date_query']= pd.to_datetime(disp_files_txt_2021_jan['date_query']) "
   ]
  },
  {
   "cell_type": "code",
   "execution_count": null,
   "metadata": {},
   "outputs": [],
   "source": [
    "fp_disp_files_csv_2021_jan = pd.concat([pd.read_csv(f,dtype={'bank_account_number':object,'report_id':object})\n",
    "                            .assign(file_name=os.path.basename(f)) for f in fp_files_csv_2021_jan])\n",
    "fp_disp_files_csv_2021_jan['date_query'] = fp_disp_files_csv_2021_jan[\"file_name\"].str[-14:-4]\n",
    "fp_disp_files_csv_2021_jan['date_query']= pd.to_datetime(fp_disp_files_csv_2021_jan['date_query']) "
   ]
  },
  {
   "cell_type": "markdown",
   "metadata": {},
   "source": [
    "### 2020"
   ]
  },
  {
   "cell_type": "markdown",
   "metadata": {},
   "source": [
    "#### DICIEMBRE"
   ]
  },
  {
   "cell_type": "code",
   "execution_count": null,
   "metadata": {},
   "outputs": [],
   "source": [
    "# TRADICIONAL\n",
    "trad_files_csv_2020_dec = glob.glob(r'G:\\My Drive\\Settlement\\5.-HISTORICO FILES PAGOS\\2020\\12. DECEMBER\\QUERIES\\*.csv', recursive=False)\n",
    "trad_files_txt_2020_dec = glob.glob(r'G:\\My Drive\\Settlement\\5.-HISTORICO FILES PAGOS\\2020\\12. DECEMBER\\QUERIES\\*.txt', recursive=False)\n",
    "# FAST PAYMENTS\n",
    "fp_files_csv_2020_dec = glob.glob(r'C:\\Users\\Cristian.Aparicio\\Documents\\FAST PAYMENTS\\2020\\12. DICIEMBRE\\QUERIES\\*.csv', recursive=False)"
   ]
  },
  {
   "cell_type": "code",
   "execution_count": null,
   "metadata": {},
   "outputs": [],
   "source": [
    "disp_files_csv_2020_dec = pd.concat([pd.read_csv(f,dtype={'bank_account_number':object,'report_id':object})\n",
    "                            .assign(file_name=os.path.basename(f)) for f in trad_files_csv_2020_dec])\n",
    "disp_files_csv_2020_dec['date_query'] = disp_files_csv_2020_dec[\"file_name\"].str[-14:-4]\n",
    "disp_files_csv_2020_dec['date_query']= pd.to_datetime(disp_files_csv_2020_dec['date_query'])"
   ]
  },
  {
   "cell_type": "code",
   "execution_count": null,
   "metadata": {},
   "outputs": [],
   "source": [
    "disp_files_txt_2020_dec = pd.concat([pd.read_csv(f,sep='\\t',names=name_header,dtype={'bank_account_number':object,'report_id':object})\n",
    "                            .assign(file_name=os.path.basename(f)) for f in trad_files_txt_2020_dec])\n",
    "disp_files_txt_2020_dec['date_query'] = disp_files_txt_2020_dec[\"file_name\"].str[-14:-4]\n",
    "disp_files_txt_2020_dec['date_query']= pd.to_datetime(disp_files_txt_2020_dec['date_query']) "
   ]
  },
  {
   "cell_type": "code",
   "execution_count": null,
   "metadata": {},
   "outputs": [],
   "source": [
    "fp_disp_files_csv_2020_dec = pd.concat([pd.read_csv(f,dtype={'bank_account_number':object,'report_id':object})\n",
    "                            .assign(file_name=os.path.basename(f)) for f in fp_files_csv_2020_dec])\n",
    "fp_disp_files_csv_2020_dec['date_query'] = fp_disp_files_csv_2020_dec[\"file_name\"].str[-14:-4]\n",
    "fp_disp_files_csv_2020_dec['date_query']= pd.to_datetime(fp_disp_files_csv_2020_dec['date_query']) "
   ]
  },
  {
   "cell_type": "markdown",
   "metadata": {},
   "source": [
    "### ALL FILES"
   ]
  },
  {
   "cell_type": "code",
   "execution_count": 15,
   "metadata": {},
   "outputs": [
    {
     "data": {
      "text/html": [
       "<div>\n",
       "<style scoped>\n",
       "    .dataframe tbody tr th:only-of-type {\n",
       "        vertical-align: middle;\n",
       "    }\n",
       "\n",
       "    .dataframe tbody tr th {\n",
       "        vertical-align: top;\n",
       "    }\n",
       "\n",
       "    .dataframe thead th {\n",
       "        text-align: right;\n",
       "    }\n",
       "</style>\n",
       "<table border=\"1\" class=\"dataframe\">\n",
       "  <thead>\n",
       "    <tr style=\"text-align: right;\">\n",
       "      <th></th>\n",
       "      <th>merchant_id</th>\n",
       "      <th>merchant_name</th>\n",
       "      <th>user_email</th>\n",
       "      <th>report_id</th>\n",
       "      <th>report_date_local</th>\n",
       "      <th>amount</th>\n",
       "      <th>bank_name</th>\n",
       "      <th>payment_date_local</th>\n",
       "      <th>bank_account_owner_name</th>\n",
       "      <th>bank_account_number</th>\n",
       "      <th>batch_created_date</th>\n",
       "      <th>swap</th>\n",
       "      <th>file_name</th>\n",
       "      <th>date_query</th>\n",
       "    </tr>\n",
       "  </thead>\n",
       "  <tbody>\n",
       "    <tr>\n",
       "      <th>54063</th>\n",
       "      <td>bd179a02-0ecc-48a4-b492-c20bc8dc5236</td>\n",
       "      <td>Majoyh</td>\n",
       "      <td>majoyh_refaccionaria@hotmail.com</td>\n",
       "      <td>222D4RFP7</td>\n",
       "      <td>2021-10-01 00:00:00</td>\n",
       "      <td>1.80</td>\n",
       "      <td>Banco Nacional de México, S.A.</td>\n",
       "      <td>2021-10-01 08:16:33</td>\n",
       "      <td>Ana Lilia Osorio Ruiz</td>\n",
       "      <td>'002840701672550924</td>\n",
       "      <td>2021-10-01 08:12:16</td>\n",
       "      <td>Ana Lilia Osorio Ruiz ,,1.80,00284070167255092...</td>\n",
       "      <td>SWAP 2021-10-01.csv</td>\n",
       "      <td>2021-10-01</td>\n",
       "    </tr>\n",
       "    <tr>\n",
       "      <th>25564</th>\n",
       "      <td>5a00cb9e-9574-4fa9-a4f8-00754c550fea</td>\n",
       "      <td>Pizza Mexicana</td>\n",
       "      <td>jair.cruz.jc@gmail.com</td>\n",
       "      <td>222K8KJ4N</td>\n",
       "      <td>2021-10-01 00:00:00</td>\n",
       "      <td>191.65</td>\n",
       "      <td>BBVA Bancomer, S.A.</td>\n",
       "      <td>2021-10-01 08:14:56</td>\n",
       "      <td>Alexandra Yocupicio Jaramillo</td>\n",
       "      <td>'012028001966784756</td>\n",
       "      <td>2021-10-01 08:08:09</td>\n",
       "      <td>Alexandra Yocupicio Jaramillo,,191.65,01202800...</td>\n",
       "      <td>SWAP 2021-10-01.csv</td>\n",
       "      <td>2021-10-01</td>\n",
       "    </tr>\n",
       "    <tr>\n",
       "      <th>19112</th>\n",
       "      <td>42de357d-a61b-46fa-9bc3-fee5f8f38bae</td>\n",
       "      <td>Miscelánea Griss</td>\n",
       "      <td>imegarcia6@live.com</td>\n",
       "      <td>222L3CHFB</td>\n",
       "      <td>2021-10-01 00:00:00</td>\n",
       "      <td>347.84</td>\n",
       "      <td>AZTECA</td>\n",
       "      <td>2021-10-01 08:16:33</td>\n",
       "      <td>Imelda garcia andrade</td>\n",
       "      <td>'127180013732274884</td>\n",
       "      <td>2021-10-01 08:06:52</td>\n",
       "      <td>Imelda garcia andrade,,347.84,1271800137322748...</td>\n",
       "      <td>SWAP 2021-10-01.csv</td>\n",
       "      <td>2021-10-01</td>\n",
       "    </tr>\n",
       "    <tr>\n",
       "      <th>25225</th>\n",
       "      <td>589e1581-beb6-4e9f-9840-3c0faab1a911</td>\n",
       "      <td>Gas</td>\n",
       "      <td>manuelvazquez_95@icloud.com</td>\n",
       "      <td>222NRL4YV</td>\n",
       "      <td>2021-10-01 00:00:00</td>\n",
       "      <td>3,224.48</td>\n",
       "      <td>Banco Azteca, S.A.</td>\n",
       "      <td>2021-10-01 08:15:30</td>\n",
       "      <td>Guillermo Estrada Basurto</td>\n",
       "      <td>'127180013932486126</td>\n",
       "      <td>2021-10-01 08:08:06</td>\n",
       "      <td>Guillermo Estrada Basurto,,3224.48,12718001393...</td>\n",
       "      <td>SWAP 2021-10-01.csv</td>\n",
       "      <td>2021-10-01</td>\n",
       "    </tr>\n",
       "    <tr>\n",
       "      <th>50419</th>\n",
       "      <td>b080cfe7-7323-429a-a102-ec73aa935898</td>\n",
       "      <td>PUESTO DE DULCES ANITA</td>\n",
       "      <td>jaguares4981@hotmail.com</td>\n",
       "      <td>222RLGXXV</td>\n",
       "      <td>2021-10-01 00:00:00</td>\n",
       "      <td>176.31</td>\n",
       "      <td>Banco Nacional de México, S.A.</td>\n",
       "      <td>2021-10-01 08:16:02</td>\n",
       "      <td>GREGORIO JIMENEZ MARCOS</td>\n",
       "      <td>'002180700253008640</td>\n",
       "      <td>2021-10-01 08:11:48</td>\n",
       "      <td>GREGORIO JIMENEZ MARCOS,,176.31,00218070025300...</td>\n",
       "      <td>SWAP 2021-10-01.csv</td>\n",
       "      <td>2021-10-01</td>\n",
       "    </tr>\n",
       "  </tbody>\n",
       "</table>\n",
       "</div>"
      ],
      "text/plain": [
       "                                merchant_id           merchant_name  \\\n",
       "54063  bd179a02-0ecc-48a4-b492-c20bc8dc5236                  Majoyh   \n",
       "25564  5a00cb9e-9574-4fa9-a4f8-00754c550fea          Pizza Mexicana   \n",
       "19112  42de357d-a61b-46fa-9bc3-fee5f8f38bae        Miscelánea Griss   \n",
       "25225  589e1581-beb6-4e9f-9840-3c0faab1a911                     Gas   \n",
       "50419  b080cfe7-7323-429a-a102-ec73aa935898  PUESTO DE DULCES ANITA   \n",
       "\n",
       "                             user_email  report_id    report_date_local  \\\n",
       "54063  majoyh_refaccionaria@hotmail.com  222D4RFP7  2021-10-01 00:00:00   \n",
       "25564            jair.cruz.jc@gmail.com  222K8KJ4N  2021-10-01 00:00:00   \n",
       "19112               imegarcia6@live.com  222L3CHFB  2021-10-01 00:00:00   \n",
       "25225       manuelvazquez_95@icloud.com  222NRL4YV  2021-10-01 00:00:00   \n",
       "50419          jaguares4981@hotmail.com  222RLGXXV  2021-10-01 00:00:00   \n",
       "\n",
       "        amount                       bank_name   payment_date_local  \\\n",
       "54063     1.80  Banco Nacional de México, S.A.  2021-10-01 08:16:33   \n",
       "25564   191.65             BBVA Bancomer, S.A.  2021-10-01 08:14:56   \n",
       "19112   347.84                          AZTECA  2021-10-01 08:16:33   \n",
       "25225 3,224.48              Banco Azteca, S.A.  2021-10-01 08:15:30   \n",
       "50419   176.31  Banco Nacional de México, S.A.  2021-10-01 08:16:02   \n",
       "\n",
       "             bank_account_owner_name  bank_account_number  \\\n",
       "54063         Ana Lilia Osorio Ruiz   '002840701672550924   \n",
       "25564  Alexandra Yocupicio Jaramillo  '012028001966784756   \n",
       "19112          Imelda garcia andrade  '127180013732274884   \n",
       "25225      Guillermo Estrada Basurto  '127180013932486126   \n",
       "50419        GREGORIO JIMENEZ MARCOS  '002180700253008640   \n",
       "\n",
       "        batch_created_date                                               swap  \\\n",
       "54063  2021-10-01 08:12:16  Ana Lilia Osorio Ruiz ,,1.80,00284070167255092...   \n",
       "25564  2021-10-01 08:08:09  Alexandra Yocupicio Jaramillo,,191.65,01202800...   \n",
       "19112  2021-10-01 08:06:52  Imelda garcia andrade,,347.84,1271800137322748...   \n",
       "25225  2021-10-01 08:08:06  Guillermo Estrada Basurto,,3224.48,12718001393...   \n",
       "50419  2021-10-01 08:11:48  GREGORIO JIMENEZ MARCOS,,176.31,00218070025300...   \n",
       "\n",
       "                 file_name date_query  \n",
       "54063  SWAP 2021-10-01.csv 2021-10-01  \n",
       "25564  SWAP 2021-10-01.csv 2021-10-01  \n",
       "19112  SWAP 2021-10-01.csv 2021-10-01  \n",
       "25225  SWAP 2021-10-01.csv 2021-10-01  \n",
       "50419  SWAP 2021-10-01.csv 2021-10-01  "
      ]
     },
     "execution_count": 15,
     "metadata": {},
     "output_type": "execute_result"
    }
   ],
   "source": [
    "allfiles = pd.concat([disp_files_csv_2021_oct,fp_disp_files_csv_2021_oct,\n",
    "                     disp_files_csv_2021_nov,fp_disp_files_csv_2021_nov,\n",
    "                     disp_files_csv_2021_dec,fp_disp_files_csv_2021_dec])\n",
    "allfiles.fillna('BLANK',inplace=True)\n",
    "allfiles['date_query']= pd.to_datetime(allfiles['date_query'])\n",
    "allfiles.sort_values(by=['date_query','report_id'],inplace=True)\n",
    "allfiles.drop(['status'],axis=1,inplace=True)\n",
    "allfiles.head()"
   ]
  },
  {
   "cell_type": "code",
   "execution_count": 16,
   "metadata": {},
   "outputs": [
    {
     "data": {
      "text/plain": [
       "(7287317, 14)"
      ]
     },
     "execution_count": 16,
     "metadata": {},
     "output_type": "execute_result"
    }
   ],
   "source": [
    "allfiles.shape"
   ]
  },
  {
   "cell_type": "markdown",
   "metadata": {},
   "source": [
    "### CHECK REPORT_ID"
   ]
  },
  {
   "cell_type": "code",
   "execution_count": 17,
   "metadata": {
    "scrolled": false
   },
   "outputs": [
    {
     "name": "stderr",
     "output_type": "stream",
     "text": [
      "C:\\Users\\Cristian.Aparicio\\AppData\\Local\\Temp\\ipykernel_24592\\2197538678.py:24: SettingWithCopyWarning: \n",
      "A value is trying to be set on a copy of a slice from a DataFrame\n",
      "\n",
      "See the caveats in the documentation: https://pandas.pydata.org/pandas-docs/stable/user_guide/indexing.html#returning-a-view-versus-a-copy\n",
      "  check.sort_values(by=['date_query','report_id'],ascending=False,inplace=True)\n"
     ]
    },
    {
     "data": {
      "text/html": [
       "<div>\n",
       "<style scoped>\n",
       "    .dataframe tbody tr th:only-of-type {\n",
       "        vertical-align: middle;\n",
       "    }\n",
       "\n",
       "    .dataframe tbody tr th {\n",
       "        vertical-align: top;\n",
       "    }\n",
       "\n",
       "    .dataframe thead th {\n",
       "        text-align: right;\n",
       "    }\n",
       "</style>\n",
       "<table border=\"1\" class=\"dataframe\">\n",
       "  <thead>\n",
       "    <tr style=\"text-align: right;\">\n",
       "      <th></th>\n",
       "      <th>merchant_id</th>\n",
       "      <th>merchant_name</th>\n",
       "      <th>user_email</th>\n",
       "      <th>report_id</th>\n",
       "      <th>report_date_local</th>\n",
       "      <th>amount</th>\n",
       "      <th>bank_name</th>\n",
       "      <th>payment_date_local</th>\n",
       "      <th>bank_account_owner_name</th>\n",
       "      <th>bank_account_number</th>\n",
       "      <th>batch_created_date</th>\n",
       "      <th>swap</th>\n",
       "      <th>file_name</th>\n",
       "      <th>date_query</th>\n",
       "    </tr>\n",
       "  </thead>\n",
       "  <tbody>\n",
       "    <tr>\n",
       "      <th>6694</th>\n",
       "      <td>deaac80a-2e9e-428b-a8d6-65ba6265dcc6</td>\n",
       "      <td>La Pasta</td>\n",
       "      <td>bonnymedina8@gmail.com</td>\n",
       "      <td>LG3CPJQHS</td>\n",
       "      <td>2021-10-30 00:00:00</td>\n",
       "      <td>301.85</td>\n",
       "      <td>Opciones Empresariales del Noreste, S.A. de C....</td>\n",
       "      <td>2021-10-30 18:58:10</td>\n",
       "      <td>Esperanza Medina Mexquitic</td>\n",
       "      <td>'659802020000188865</td>\n",
       "      <td>2021-10-30 18:26:36</td>\n",
       "      <td>Esperanza Medina Mexquitic,,301.85,65980202000...</td>\n",
       "      <td>FP-BNTE 2021-10-30.csv</td>\n",
       "      <td>2021-10-30</td>\n",
       "    </tr>\n",
       "    <tr>\n",
       "      <th>6693</th>\n",
       "      <td>deaac80a-2e9e-428b-a8d6-65ba6265dcc6</td>\n",
       "      <td>La Pasta</td>\n",
       "      <td>bonnymedina8@gmail.com</td>\n",
       "      <td>J8S5JB24R</td>\n",
       "      <td>2021-10-30 00:00:00</td>\n",
       "      <td>134.15</td>\n",
       "      <td>Opciones Empresariales del Noreste, S.A. de C....</td>\n",
       "      <td>2021-10-30 16:49:53</td>\n",
       "      <td>Esperanza Medina Mexquitic</td>\n",
       "      <td>'659802020000188865</td>\n",
       "      <td>2021-10-30 16:17:31</td>\n",
       "      <td>Esperanza Medina Mexquitic,,134.15,65980202000...</td>\n",
       "      <td>FP-BNTE 2021-10-30.csv</td>\n",
       "      <td>2021-10-30</td>\n",
       "    </tr>\n",
       "    <tr>\n",
       "      <th>6275</th>\n",
       "      <td>deaac80a-2e9e-428b-a8d6-65ba6265dcc6</td>\n",
       "      <td>La Pasta</td>\n",
       "      <td>bonnymedina8@gmail.com</td>\n",
       "      <td>QBQYZRLGM</td>\n",
       "      <td>2021-10-29 00:00:00</td>\n",
       "      <td>125.76</td>\n",
       "      <td>Opciones Empresariales del Noreste, S.A. de C....</td>\n",
       "      <td>2021-10-29 20:52:53</td>\n",
       "      <td>Esperanza Medina Mexquitic</td>\n",
       "      <td>'659802020000188865</td>\n",
       "      <td>2021-10-29 20:46:01</td>\n",
       "      <td>Esperanza Medina Mexquitic,,125.76,65980202000...</td>\n",
       "      <td>FP-CITI 2021-10-29.csv</td>\n",
       "      <td>2021-10-29</td>\n",
       "    </tr>\n",
       "    <tr>\n",
       "      <th>6274</th>\n",
       "      <td>deaac80a-2e9e-428b-a8d6-65ba6265dcc6</td>\n",
       "      <td>La Pasta</td>\n",
       "      <td>bonnymedina8@gmail.com</td>\n",
       "      <td>8NFGKGY6Z</td>\n",
       "      <td>2021-10-29 00:00:00</td>\n",
       "      <td>913.26</td>\n",
       "      <td>Opciones Empresariales del Noreste, S.A. de C....</td>\n",
       "      <td>2021-10-29 16:24:49</td>\n",
       "      <td>Esperanza Medina Mexquitic</td>\n",
       "      <td>'659802020000188865</td>\n",
       "      <td>2021-10-29 16:15:58</td>\n",
       "      <td>Esperanza Medina Mexquitic,,913.26,65980202000...</td>\n",
       "      <td>FP-CITI 2021-10-29.csv</td>\n",
       "      <td>2021-10-29</td>\n",
       "    </tr>\n",
       "    <tr>\n",
       "      <th>6273</th>\n",
       "      <td>deaac80a-2e9e-428b-a8d6-65ba6265dcc6</td>\n",
       "      <td>La Pasta</td>\n",
       "      <td>bonnymedina8@gmail.com</td>\n",
       "      <td>5MD3W28C9</td>\n",
       "      <td>2021-10-29 00:00:00</td>\n",
       "      <td>738.64</td>\n",
       "      <td>Opciones Empresariales del Noreste, S.A. de C....</td>\n",
       "      <td>2021-10-29 18:33:30</td>\n",
       "      <td>Esperanza Medina Mexquitic</td>\n",
       "      <td>'659802020000188865</td>\n",
       "      <td>2021-10-29 18:26:16</td>\n",
       "      <td>Esperanza Medina Mexquitic,,738.64,65980202000...</td>\n",
       "      <td>FP-CITI 2021-10-29.csv</td>\n",
       "      <td>2021-10-29</td>\n",
       "    </tr>\n",
       "    <tr>\n",
       "      <th>5312</th>\n",
       "      <td>deaac80a-2e9e-428b-a8d6-65ba6265dcc6</td>\n",
       "      <td>La Pasta</td>\n",
       "      <td>bonnymedina8@gmail.com</td>\n",
       "      <td>X93WC9VM2</td>\n",
       "      <td>2021-10-28 00:00:00</td>\n",
       "      <td>114.99</td>\n",
       "      <td>Opciones Empresariales del Noreste, S.A. de C....</td>\n",
       "      <td>2021-10-28 20:53:56</td>\n",
       "      <td>Esperanza Medina Mexquitic</td>\n",
       "      <td>'659802020000188865</td>\n",
       "      <td>2021-10-28 20:46:03</td>\n",
       "      <td>Esperanza Medina Mexquitic,,114.99,65980202000...</td>\n",
       "      <td>FP-CITI 2021-10-28.csv</td>\n",
       "      <td>2021-10-28</td>\n",
       "    </tr>\n",
       "    <tr>\n",
       "      <th>5311</th>\n",
       "      <td>deaac80a-2e9e-428b-a8d6-65ba6265dcc6</td>\n",
       "      <td>La Pasta</td>\n",
       "      <td>bonnymedina8@gmail.com</td>\n",
       "      <td>SMD5YCNBL</td>\n",
       "      <td>2021-10-28 00:00:00</td>\n",
       "      <td>271.23</td>\n",
       "      <td>Opciones Empresariales del Noreste, S.A. de C....</td>\n",
       "      <td>2021-10-28 16:22:46</td>\n",
       "      <td>Esperanza Medina Mexquitic</td>\n",
       "      <td>'659802020000188865</td>\n",
       "      <td>2021-10-28 16:15:58</td>\n",
       "      <td>Esperanza Medina Mexquitic,,271.23,65980202000...</td>\n",
       "      <td>FP-CITI 2021-10-28.csv</td>\n",
       "      <td>2021-10-28</td>\n",
       "    </tr>\n",
       "    <tr>\n",
       "      <th>5310</th>\n",
       "      <td>deaac80a-2e9e-428b-a8d6-65ba6265dcc6</td>\n",
       "      <td>La Pasta</td>\n",
       "      <td>bonnymedina8@gmail.com</td>\n",
       "      <td>5WVZ45Z8X</td>\n",
       "      <td>2021-10-28 00:00:00</td>\n",
       "      <td>487.15</td>\n",
       "      <td>Opciones Empresariales del Noreste, S.A. de C....</td>\n",
       "      <td>2021-10-28 20:25:04</td>\n",
       "      <td>Esperanza Medina Mexquitic</td>\n",
       "      <td>'659802020000188865</td>\n",
       "      <td>2021-10-28 18:26:05</td>\n",
       "      <td>Esperanza Medina Mexquitic,,487.15,65980202000...</td>\n",
       "      <td>FP-CITI 2021-10-28.csv</td>\n",
       "      <td>2021-10-28</td>\n",
       "    </tr>\n",
       "    <tr>\n",
       "      <th>5309</th>\n",
       "      <td>deaac80a-2e9e-428b-a8d6-65ba6265dcc6</td>\n",
       "      <td>La Pasta</td>\n",
       "      <td>bonnymedina8@gmail.com</td>\n",
       "      <td>4CF9NBQZ2</td>\n",
       "      <td>2021-10-28 00:00:00</td>\n",
       "      <td>86.24</td>\n",
       "      <td>Opciones Empresariales del Noreste, S.A. de C....</td>\n",
       "      <td>2021-10-28 14:12:44</td>\n",
       "      <td>Esperanza Medina Mexquitic</td>\n",
       "      <td>'659802020000188865</td>\n",
       "      <td>2021-10-28 14:07:30</td>\n",
       "      <td>Esperanza Medina Mexquitic,,86.24,659802020000...</td>\n",
       "      <td>FP-CITI 2021-10-28.csv</td>\n",
       "      <td>2021-10-28</td>\n",
       "    </tr>\n",
       "    <tr>\n",
       "      <th>5055</th>\n",
       "      <td>deaac80a-2e9e-428b-a8d6-65ba6265dcc6</td>\n",
       "      <td>La Pasta</td>\n",
       "      <td>bonnymedina8@gmail.com</td>\n",
       "      <td>Y5L3FC5YR</td>\n",
       "      <td>2021-10-27 00:00:00</td>\n",
       "      <td>236.01</td>\n",
       "      <td>Opciones Empresariales del Noreste, S.A. de C....</td>\n",
       "      <td>2021-10-27 17:21:39</td>\n",
       "      <td>Esperanza Medina Mexquitic</td>\n",
       "      <td>'659802020000188865</td>\n",
       "      <td>2021-10-27 16:16:03</td>\n",
       "      <td>Esperanza Medina Mexquitic,,236.01,65980202000...</td>\n",
       "      <td>FP-CITI 2021-10-27.csv</td>\n",
       "      <td>2021-10-27</td>\n",
       "    </tr>\n",
       "    <tr>\n",
       "      <th>5054</th>\n",
       "      <td>deaac80a-2e9e-428b-a8d6-65ba6265dcc6</td>\n",
       "      <td>La Pasta</td>\n",
       "      <td>bonnymedina8@gmail.com</td>\n",
       "      <td>CFTKKKTZR</td>\n",
       "      <td>2021-10-27 00:00:00</td>\n",
       "      <td>590.33</td>\n",
       "      <td>Opciones Empresariales del Noreste, S.A. de C....</td>\n",
       "      <td>2021-10-27 18:32:37</td>\n",
       "      <td>Esperanza Medina Mexquitic</td>\n",
       "      <td>'659802020000188865</td>\n",
       "      <td>2021-10-27 18:26:37</td>\n",
       "      <td>Esperanza Medina Mexquitic,,590.33,65980202000...</td>\n",
       "      <td>FP-CITI 2021-10-27.csv</td>\n",
       "      <td>2021-10-27</td>\n",
       "    </tr>\n",
       "    <tr>\n",
       "      <th>56999</th>\n",
       "      <td>deaac80a-2e9e-428b-a8d6-65ba6265dcc6</td>\n",
       "      <td>La Pasta</td>\n",
       "      <td>bonnymedina8@gmail.com</td>\n",
       "      <td>VJJX8KZZB</td>\n",
       "      <td>2021-10-26 00:00:00</td>\n",
       "      <td>4.00</td>\n",
       "      <td>Opciones Empresariales del Noreste, S.A. de C....</td>\n",
       "      <td>2021-10-26 08:14:40</td>\n",
       "      <td>Esperanza Medina Mexquitic</td>\n",
       "      <td>'659802020000188865</td>\n",
       "      <td>2021-10-26 08:12:04</td>\n",
       "      <td>Esperanza Medina Mexquitic,,4.00,6598020200001...</td>\n",
       "      <td>SWAP 2021-10-26.csv</td>\n",
       "      <td>2021-10-26</td>\n",
       "    </tr>\n",
       "    <tr>\n",
       "      <th>4064</th>\n",
       "      <td>deaac80a-2e9e-428b-a8d6-65ba6265dcc6</td>\n",
       "      <td>La Pasta</td>\n",
       "      <td>bonnymedina8@gmail.com</td>\n",
       "      <td>SSGB6QYRV</td>\n",
       "      <td>2021-10-26 00:00:00</td>\n",
       "      <td>869.89</td>\n",
       "      <td>Opciones Empresariales del Noreste, S.A. de C....</td>\n",
       "      <td>2021-10-26 16:22:30</td>\n",
       "      <td>Esperanza Medina Mexquitic</td>\n",
       "      <td>'659802020000188865</td>\n",
       "      <td>2021-10-26 16:16:23</td>\n",
       "      <td>Esperanza Medina Mexquitic,,869.89,65980202000...</td>\n",
       "      <td>FP-CITI 2021-10-26.csv</td>\n",
       "      <td>2021-10-26</td>\n",
       "    </tr>\n",
       "    <tr>\n",
       "      <th>4063</th>\n",
       "      <td>deaac80a-2e9e-428b-a8d6-65ba6265dcc6</td>\n",
       "      <td>La Pasta</td>\n",
       "      <td>bonnymedina8@gmail.com</td>\n",
       "      <td>CTKLX9V5J</td>\n",
       "      <td>2021-10-26 00:00:00</td>\n",
       "      <td>190.68</td>\n",
       "      <td>Opciones Empresariales del Noreste, S.A. de C....</td>\n",
       "      <td>2021-10-26 18:32:56</td>\n",
       "      <td>Esperanza Medina Mexquitic</td>\n",
       "      <td>'659802020000188865</td>\n",
       "      <td>2021-10-26 18:26:09</td>\n",
       "      <td>Esperanza Medina Mexquitic,,190.68,65980202000...</td>\n",
       "      <td>FP-CITI 2021-10-26.csv</td>\n",
       "      <td>2021-10-26</td>\n",
       "    </tr>\n",
       "    <tr>\n",
       "      <th>4908</th>\n",
       "      <td>deaac80a-2e9e-428b-a8d6-65ba6265dcc6</td>\n",
       "      <td>La Pasta</td>\n",
       "      <td>bonnymedina8@gmail.com</td>\n",
       "      <td>WY2FD8359</td>\n",
       "      <td>2021-10-11 00:00:00</td>\n",
       "      <td>286.51</td>\n",
       "      <td>Opciones Empresariales del Noreste, S.A. de C....</td>\n",
       "      <td>2021-10-11 18:33:02</td>\n",
       "      <td>Esperanza Medina Mexquitic</td>\n",
       "      <td>'659802020000188865</td>\n",
       "      <td>2021-10-11 18:26:03</td>\n",
       "      <td>Esperanza Medina Mexquitic,,286.51,65980202000...</td>\n",
       "      <td>FP-CITI 2021-10-11.csv</td>\n",
       "      <td>2021-10-11</td>\n",
       "    </tr>\n",
       "    <tr>\n",
       "      <th>4907</th>\n",
       "      <td>deaac80a-2e9e-428b-a8d6-65ba6265dcc6</td>\n",
       "      <td>La Pasta</td>\n",
       "      <td>bonnymedina8@gmail.com</td>\n",
       "      <td>MRYD7XQ3P</td>\n",
       "      <td>2021-10-11 00:00:00</td>\n",
       "      <td>260.64</td>\n",
       "      <td>Opciones Empresariales del Noreste, S.A. de C....</td>\n",
       "      <td>2021-10-11 16:28:59</td>\n",
       "      <td>Esperanza Medina Mexquitic</td>\n",
       "      <td>'659802020000188865</td>\n",
       "      <td>2021-10-11 16:16:36</td>\n",
       "      <td>Esperanza Medina Mexquitic,,260.64,65980202000...</td>\n",
       "      <td>FP-CITI 2021-10-11.csv</td>\n",
       "      <td>2021-10-11</td>\n",
       "    </tr>\n",
       "    <tr>\n",
       "      <th>6719</th>\n",
       "      <td>deaac80a-2e9e-428b-a8d6-65ba6265dcc6</td>\n",
       "      <td>La Pasta</td>\n",
       "      <td>bonnymedina8@gmail.com</td>\n",
       "      <td>CW79FWDGH</td>\n",
       "      <td>2021-10-09 00:00:00</td>\n",
       "      <td>251.06</td>\n",
       "      <td>Opciones Empresariales del Noreste, S.A. de C....</td>\n",
       "      <td>2021-10-09 18:57:52</td>\n",
       "      <td>Esperanza Medina Mexquitic</td>\n",
       "      <td>'659802020000188865</td>\n",
       "      <td>2021-10-09 18:25:58</td>\n",
       "      <td>Esperanza Medina Mexquitic,,251.06,65980202000...</td>\n",
       "      <td>FP-BNTE 2021-10-09.csv</td>\n",
       "      <td>2021-10-09</td>\n",
       "    </tr>\n",
       "    <tr>\n",
       "      <th>6073</th>\n",
       "      <td>deaac80a-2e9e-428b-a8d6-65ba6265dcc6</td>\n",
       "      <td>La Pasta</td>\n",
       "      <td>bonnymedina8@gmail.com</td>\n",
       "      <td>K8C4JVJVH</td>\n",
       "      <td>2021-10-08 00:00:00</td>\n",
       "      <td>354.55</td>\n",
       "      <td>Opciones Empresariales del Noreste, S.A. de C....</td>\n",
       "      <td>2021-10-08 18:34:27</td>\n",
       "      <td>Esperanza Medina Mexquitic</td>\n",
       "      <td>'659802020000188865</td>\n",
       "      <td>2021-10-08 18:26:24</td>\n",
       "      <td>Esperanza Medina Mexquitic,,354.55,65980202000...</td>\n",
       "      <td>FP-CITI 2021-10-08.csv</td>\n",
       "      <td>2021-10-08</td>\n",
       "    </tr>\n",
       "    <tr>\n",
       "      <th>68483</th>\n",
       "      <td>deaac80a-2e9e-428b-a8d6-65ba6265dcc6</td>\n",
       "      <td>La Pasta</td>\n",
       "      <td>bonnymedina8@gmail.com</td>\n",
       "      <td>WS8SDZJG8</td>\n",
       "      <td>2021-10-02 00:00:00</td>\n",
       "      <td>12.00</td>\n",
       "      <td>Opciones Empresariales del Noreste, S.A. de C....</td>\n",
       "      <td>2021-10-02 11:42:08</td>\n",
       "      <td>Esperanza Medina Mexquitic</td>\n",
       "      <td>'659802020000188865</td>\n",
       "      <td>2021-10-02 08:14:19</td>\n",
       "      <td>Esperanza Medina Mexquitic,,12.00,659802020000...</td>\n",
       "      <td>BNTE 2021-10-02.csv</td>\n",
       "      <td>2021-10-02</td>\n",
       "    </tr>\n",
       "    <tr>\n",
       "      <th>7651</th>\n",
       "      <td>deaac80a-2e9e-428b-a8d6-65ba6265dcc6</td>\n",
       "      <td>La Pasta</td>\n",
       "      <td>bonnymedina8@gmail.com</td>\n",
       "      <td>G7D23C6XX</td>\n",
       "      <td>2021-10-02 00:00:00</td>\n",
       "      <td>699.58</td>\n",
       "      <td>Opciones Empresariales del Noreste, S.A. de C....</td>\n",
       "      <td>2021-10-02 18:58:37</td>\n",
       "      <td>Esperanza Medina Mexquitic</td>\n",
       "      <td>'659802020000188865</td>\n",
       "      <td>2021-10-02 18:26:12</td>\n",
       "      <td>Esperanza Medina Mexquitic,,699.58,65980202000...</td>\n",
       "      <td>FP-BNTE 2021-10-02.csv</td>\n",
       "      <td>2021-10-02</td>\n",
       "    </tr>\n",
       "    <tr>\n",
       "      <th>7650</th>\n",
       "      <td>deaac80a-2e9e-428b-a8d6-65ba6265dcc6</td>\n",
       "      <td>La Pasta</td>\n",
       "      <td>bonnymedina8@gmail.com</td>\n",
       "      <td>4HG5JX8JG</td>\n",
       "      <td>2021-10-02 00:00:00</td>\n",
       "      <td>100.62</td>\n",
       "      <td>Opciones Empresariales del Noreste, S.A. de C....</td>\n",
       "      <td>2021-10-02 16:41:56</td>\n",
       "      <td>Esperanza Medina Mexquitic</td>\n",
       "      <td>'659802020000188865</td>\n",
       "      <td>2021-10-02 16:16:28</td>\n",
       "      <td>Esperanza Medina Mexquitic,,100.62,65980202000...</td>\n",
       "      <td>FP-BNTE 2021-10-02.csv</td>\n",
       "      <td>2021-10-02</td>\n",
       "    </tr>\n",
       "    <tr>\n",
       "      <th>6498</th>\n",
       "      <td>deaac80a-2e9e-428b-a8d6-65ba6265dcc6</td>\n",
       "      <td>La Pasta</td>\n",
       "      <td>bonnymedina8@gmail.com</td>\n",
       "      <td>JTH9ZFYMP</td>\n",
       "      <td>2021-10-01 00:00:00</td>\n",
       "      <td>596.13</td>\n",
       "      <td>Opciones Empresariales del Noreste, S.A. de C....</td>\n",
       "      <td>2021-10-01 18:33:20</td>\n",
       "      <td>Esperanza Medina Mexquitic</td>\n",
       "      <td>'659802020000188865</td>\n",
       "      <td>2021-10-01 18:26:44</td>\n",
       "      <td>Esperanza Medina Mexquitic,,596.13,65980202000...</td>\n",
       "      <td>FP-CITI 2021-10-01.csv</td>\n",
       "      <td>2021-10-01</td>\n",
       "    </tr>\n",
       "    <tr>\n",
       "      <th>6497</th>\n",
       "      <td>deaac80a-2e9e-428b-a8d6-65ba6265dcc6</td>\n",
       "      <td>La Pasta</td>\n",
       "      <td>bonnymedina8@gmail.com</td>\n",
       "      <td>4GZBTKVHD</td>\n",
       "      <td>2021-10-01 00:00:00</td>\n",
       "      <td>364.36</td>\n",
       "      <td>Opciones Empresariales del Noreste, S.A. de C....</td>\n",
       "      <td>2021-10-01 16:22:43</td>\n",
       "      <td>Esperanza Medina Mexquitic</td>\n",
       "      <td>'659802020000188865</td>\n",
       "      <td>2021-10-01 16:16:52</td>\n",
       "      <td>Esperanza Medina Mexquitic,,364.36,65980202000...</td>\n",
       "      <td>FP-CITI 2021-10-01.csv</td>\n",
       "      <td>2021-10-01</td>\n",
       "    </tr>\n",
       "  </tbody>\n",
       "</table>\n",
       "</div>"
      ],
      "text/plain": [
       "                                merchant_id merchant_name  \\\n",
       "6694   deaac80a-2e9e-428b-a8d6-65ba6265dcc6      La Pasta   \n",
       "6693   deaac80a-2e9e-428b-a8d6-65ba6265dcc6      La Pasta   \n",
       "6275   deaac80a-2e9e-428b-a8d6-65ba6265dcc6      La Pasta   \n",
       "6274   deaac80a-2e9e-428b-a8d6-65ba6265dcc6      La Pasta   \n",
       "6273   deaac80a-2e9e-428b-a8d6-65ba6265dcc6      La Pasta   \n",
       "5312   deaac80a-2e9e-428b-a8d6-65ba6265dcc6      La Pasta   \n",
       "5311   deaac80a-2e9e-428b-a8d6-65ba6265dcc6      La Pasta   \n",
       "5310   deaac80a-2e9e-428b-a8d6-65ba6265dcc6      La Pasta   \n",
       "5309   deaac80a-2e9e-428b-a8d6-65ba6265dcc6      La Pasta   \n",
       "5055   deaac80a-2e9e-428b-a8d6-65ba6265dcc6      La Pasta   \n",
       "5054   deaac80a-2e9e-428b-a8d6-65ba6265dcc6      La Pasta   \n",
       "56999  deaac80a-2e9e-428b-a8d6-65ba6265dcc6      La Pasta   \n",
       "4064   deaac80a-2e9e-428b-a8d6-65ba6265dcc6      La Pasta   \n",
       "4063   deaac80a-2e9e-428b-a8d6-65ba6265dcc6      La Pasta   \n",
       "4908   deaac80a-2e9e-428b-a8d6-65ba6265dcc6      La Pasta   \n",
       "4907   deaac80a-2e9e-428b-a8d6-65ba6265dcc6      La Pasta   \n",
       "6719   deaac80a-2e9e-428b-a8d6-65ba6265dcc6      La Pasta   \n",
       "6073   deaac80a-2e9e-428b-a8d6-65ba6265dcc6      La Pasta   \n",
       "68483  deaac80a-2e9e-428b-a8d6-65ba6265dcc6      La Pasta   \n",
       "7651   deaac80a-2e9e-428b-a8d6-65ba6265dcc6      La Pasta   \n",
       "7650   deaac80a-2e9e-428b-a8d6-65ba6265dcc6      La Pasta   \n",
       "6498   deaac80a-2e9e-428b-a8d6-65ba6265dcc6      La Pasta   \n",
       "6497   deaac80a-2e9e-428b-a8d6-65ba6265dcc6      La Pasta   \n",
       "\n",
       "                   user_email  report_id    report_date_local  amount  \\\n",
       "6694   bonnymedina8@gmail.com  LG3CPJQHS  2021-10-30 00:00:00  301.85   \n",
       "6693   bonnymedina8@gmail.com  J8S5JB24R  2021-10-30 00:00:00  134.15   \n",
       "6275   bonnymedina8@gmail.com  QBQYZRLGM  2021-10-29 00:00:00  125.76   \n",
       "6274   bonnymedina8@gmail.com  8NFGKGY6Z  2021-10-29 00:00:00  913.26   \n",
       "6273   bonnymedina8@gmail.com  5MD3W28C9  2021-10-29 00:00:00  738.64   \n",
       "5312   bonnymedina8@gmail.com  X93WC9VM2  2021-10-28 00:00:00  114.99   \n",
       "5311   bonnymedina8@gmail.com  SMD5YCNBL  2021-10-28 00:00:00  271.23   \n",
       "5310   bonnymedina8@gmail.com  5WVZ45Z8X  2021-10-28 00:00:00  487.15   \n",
       "5309   bonnymedina8@gmail.com  4CF9NBQZ2  2021-10-28 00:00:00   86.24   \n",
       "5055   bonnymedina8@gmail.com  Y5L3FC5YR  2021-10-27 00:00:00  236.01   \n",
       "5054   bonnymedina8@gmail.com  CFTKKKTZR  2021-10-27 00:00:00  590.33   \n",
       "56999  bonnymedina8@gmail.com  VJJX8KZZB  2021-10-26 00:00:00    4.00   \n",
       "4064   bonnymedina8@gmail.com  SSGB6QYRV  2021-10-26 00:00:00  869.89   \n",
       "4063   bonnymedina8@gmail.com  CTKLX9V5J  2021-10-26 00:00:00  190.68   \n",
       "4908   bonnymedina8@gmail.com  WY2FD8359  2021-10-11 00:00:00  286.51   \n",
       "4907   bonnymedina8@gmail.com  MRYD7XQ3P  2021-10-11 00:00:00  260.64   \n",
       "6719   bonnymedina8@gmail.com  CW79FWDGH  2021-10-09 00:00:00  251.06   \n",
       "6073   bonnymedina8@gmail.com  K8C4JVJVH  2021-10-08 00:00:00  354.55   \n",
       "68483  bonnymedina8@gmail.com  WS8SDZJG8  2021-10-02 00:00:00   12.00   \n",
       "7651   bonnymedina8@gmail.com  G7D23C6XX  2021-10-02 00:00:00  699.58   \n",
       "7650   bonnymedina8@gmail.com  4HG5JX8JG  2021-10-02 00:00:00  100.62   \n",
       "6498   bonnymedina8@gmail.com  JTH9ZFYMP  2021-10-01 00:00:00  596.13   \n",
       "6497   bonnymedina8@gmail.com  4GZBTKVHD  2021-10-01 00:00:00  364.36   \n",
       "\n",
       "                                               bank_name   payment_date_local  \\\n",
       "6694   Opciones Empresariales del Noreste, S.A. de C....  2021-10-30 18:58:10   \n",
       "6693   Opciones Empresariales del Noreste, S.A. de C....  2021-10-30 16:49:53   \n",
       "6275   Opciones Empresariales del Noreste, S.A. de C....  2021-10-29 20:52:53   \n",
       "6274   Opciones Empresariales del Noreste, S.A. de C....  2021-10-29 16:24:49   \n",
       "6273   Opciones Empresariales del Noreste, S.A. de C....  2021-10-29 18:33:30   \n",
       "5312   Opciones Empresariales del Noreste, S.A. de C....  2021-10-28 20:53:56   \n",
       "5311   Opciones Empresariales del Noreste, S.A. de C....  2021-10-28 16:22:46   \n",
       "5310   Opciones Empresariales del Noreste, S.A. de C....  2021-10-28 20:25:04   \n",
       "5309   Opciones Empresariales del Noreste, S.A. de C....  2021-10-28 14:12:44   \n",
       "5055   Opciones Empresariales del Noreste, S.A. de C....  2021-10-27 17:21:39   \n",
       "5054   Opciones Empresariales del Noreste, S.A. de C....  2021-10-27 18:32:37   \n",
       "56999  Opciones Empresariales del Noreste, S.A. de C....  2021-10-26 08:14:40   \n",
       "4064   Opciones Empresariales del Noreste, S.A. de C....  2021-10-26 16:22:30   \n",
       "4063   Opciones Empresariales del Noreste, S.A. de C....  2021-10-26 18:32:56   \n",
       "4908   Opciones Empresariales del Noreste, S.A. de C....  2021-10-11 18:33:02   \n",
       "4907   Opciones Empresariales del Noreste, S.A. de C....  2021-10-11 16:28:59   \n",
       "6719   Opciones Empresariales del Noreste, S.A. de C....  2021-10-09 18:57:52   \n",
       "6073   Opciones Empresariales del Noreste, S.A. de C....  2021-10-08 18:34:27   \n",
       "68483  Opciones Empresariales del Noreste, S.A. de C....  2021-10-02 11:42:08   \n",
       "7651   Opciones Empresariales del Noreste, S.A. de C....  2021-10-02 18:58:37   \n",
       "7650   Opciones Empresariales del Noreste, S.A. de C....  2021-10-02 16:41:56   \n",
       "6498   Opciones Empresariales del Noreste, S.A. de C....  2021-10-01 18:33:20   \n",
       "6497   Opciones Empresariales del Noreste, S.A. de C....  2021-10-01 16:22:43   \n",
       "\n",
       "          bank_account_owner_name  bank_account_number   batch_created_date  \\\n",
       "6694   Esperanza Medina Mexquitic  '659802020000188865  2021-10-30 18:26:36   \n",
       "6693   Esperanza Medina Mexquitic  '659802020000188865  2021-10-30 16:17:31   \n",
       "6275   Esperanza Medina Mexquitic  '659802020000188865  2021-10-29 20:46:01   \n",
       "6274   Esperanza Medina Mexquitic  '659802020000188865  2021-10-29 16:15:58   \n",
       "6273   Esperanza Medina Mexquitic  '659802020000188865  2021-10-29 18:26:16   \n",
       "5312   Esperanza Medina Mexquitic  '659802020000188865  2021-10-28 20:46:03   \n",
       "5311   Esperanza Medina Mexquitic  '659802020000188865  2021-10-28 16:15:58   \n",
       "5310   Esperanza Medina Mexquitic  '659802020000188865  2021-10-28 18:26:05   \n",
       "5309   Esperanza Medina Mexquitic  '659802020000188865  2021-10-28 14:07:30   \n",
       "5055   Esperanza Medina Mexquitic  '659802020000188865  2021-10-27 16:16:03   \n",
       "5054   Esperanza Medina Mexquitic  '659802020000188865  2021-10-27 18:26:37   \n",
       "56999  Esperanza Medina Mexquitic  '659802020000188865  2021-10-26 08:12:04   \n",
       "4064   Esperanza Medina Mexquitic  '659802020000188865  2021-10-26 16:16:23   \n",
       "4063   Esperanza Medina Mexquitic  '659802020000188865  2021-10-26 18:26:09   \n",
       "4908   Esperanza Medina Mexquitic  '659802020000188865  2021-10-11 18:26:03   \n",
       "4907   Esperanza Medina Mexquitic  '659802020000188865  2021-10-11 16:16:36   \n",
       "6719   Esperanza Medina Mexquitic  '659802020000188865  2021-10-09 18:25:58   \n",
       "6073   Esperanza Medina Mexquitic  '659802020000188865  2021-10-08 18:26:24   \n",
       "68483  Esperanza Medina Mexquitic  '659802020000188865  2021-10-02 08:14:19   \n",
       "7651   Esperanza Medina Mexquitic  '659802020000188865  2021-10-02 18:26:12   \n",
       "7650   Esperanza Medina Mexquitic  '659802020000188865  2021-10-02 16:16:28   \n",
       "6498   Esperanza Medina Mexquitic  '659802020000188865  2021-10-01 18:26:44   \n",
       "6497   Esperanza Medina Mexquitic  '659802020000188865  2021-10-01 16:16:52   \n",
       "\n",
       "                                                    swap  \\\n",
       "6694   Esperanza Medina Mexquitic,,301.85,65980202000...   \n",
       "6693   Esperanza Medina Mexquitic,,134.15,65980202000...   \n",
       "6275   Esperanza Medina Mexquitic,,125.76,65980202000...   \n",
       "6274   Esperanza Medina Mexquitic,,913.26,65980202000...   \n",
       "6273   Esperanza Medina Mexquitic,,738.64,65980202000...   \n",
       "5312   Esperanza Medina Mexquitic,,114.99,65980202000...   \n",
       "5311   Esperanza Medina Mexquitic,,271.23,65980202000...   \n",
       "5310   Esperanza Medina Mexquitic,,487.15,65980202000...   \n",
       "5309   Esperanza Medina Mexquitic,,86.24,659802020000...   \n",
       "5055   Esperanza Medina Mexquitic,,236.01,65980202000...   \n",
       "5054   Esperanza Medina Mexquitic,,590.33,65980202000...   \n",
       "56999  Esperanza Medina Mexquitic,,4.00,6598020200001...   \n",
       "4064   Esperanza Medina Mexquitic,,869.89,65980202000...   \n",
       "4063   Esperanza Medina Mexquitic,,190.68,65980202000...   \n",
       "4908   Esperanza Medina Mexquitic,,286.51,65980202000...   \n",
       "4907   Esperanza Medina Mexquitic,,260.64,65980202000...   \n",
       "6719   Esperanza Medina Mexquitic,,251.06,65980202000...   \n",
       "6073   Esperanza Medina Mexquitic,,354.55,65980202000...   \n",
       "68483  Esperanza Medina Mexquitic,,12.00,659802020000...   \n",
       "7651   Esperanza Medina Mexquitic,,699.58,65980202000...   \n",
       "7650   Esperanza Medina Mexquitic,,100.62,65980202000...   \n",
       "6498   Esperanza Medina Mexquitic,,596.13,65980202000...   \n",
       "6497   Esperanza Medina Mexquitic,,364.36,65980202000...   \n",
       "\n",
       "                    file_name date_query  \n",
       "6694   FP-BNTE 2021-10-30.csv 2021-10-30  \n",
       "6693   FP-BNTE 2021-10-30.csv 2021-10-30  \n",
       "6275   FP-CITI 2021-10-29.csv 2021-10-29  \n",
       "6274   FP-CITI 2021-10-29.csv 2021-10-29  \n",
       "6273   FP-CITI 2021-10-29.csv 2021-10-29  \n",
       "5312   FP-CITI 2021-10-28.csv 2021-10-28  \n",
       "5311   FP-CITI 2021-10-28.csv 2021-10-28  \n",
       "5310   FP-CITI 2021-10-28.csv 2021-10-28  \n",
       "5309   FP-CITI 2021-10-28.csv 2021-10-28  \n",
       "5055   FP-CITI 2021-10-27.csv 2021-10-27  \n",
       "5054   FP-CITI 2021-10-27.csv 2021-10-27  \n",
       "56999     SWAP 2021-10-26.csv 2021-10-26  \n",
       "4064   FP-CITI 2021-10-26.csv 2021-10-26  \n",
       "4063   FP-CITI 2021-10-26.csv 2021-10-26  \n",
       "4908   FP-CITI 2021-10-11.csv 2021-10-11  \n",
       "4907   FP-CITI 2021-10-11.csv 2021-10-11  \n",
       "6719   FP-BNTE 2021-10-09.csv 2021-10-09  \n",
       "6073   FP-CITI 2021-10-08.csv 2021-10-08  \n",
       "68483     BNTE 2021-10-02.csv 2021-10-02  \n",
       "7651   FP-BNTE 2021-10-02.csv 2021-10-02  \n",
       "7650   FP-BNTE 2021-10-02.csv 2021-10-02  \n",
       "6498   FP-CITI 2021-10-01.csv 2021-10-01  \n",
       "6497   FP-CITI 2021-10-01.csv 2021-10-01  "
      ]
     },
     "execution_count": 17,
     "metadata": {},
     "output_type": "execute_result"
    }
   ],
   "source": [
    "check = allfiles[(allfiles['report_id'].isin(['4GZBTKVHD',\n",
    "'JTH9ZFYMP',\n",
    "'4HG5JX8JG',\n",
    "'WS8SDZJG8',\n",
    "'G7D23C6XX',\n",
    "'K8C4JVJVH',\n",
    "'CW79FWDGH',\n",
    "'WY2FD8359',\n",
    "'MRYD7XQ3P',\n",
    "'VJJX8KZZB',\n",
    "'SSGB6QYRV',\n",
    "'CTKLX9V5J',\n",
    "'CFTKKKTZR',\n",
    "'Y5L3FC5YR',\n",
    "'4CF9NBQZ2',\n",
    "'SMD5YCNBL',\n",
    "'5WVZ45Z8X',\n",
    "'X93WC9VM2',\n",
    "'5MD3W28C9',\n",
    "'8NFGKGY6Z',\n",
    "'QBQYZRLGM',\n",
    "'LG3CPJQHS',\n",
    "'J8S5JB24R']))]\n",
    "check.sort_values(by=['date_query','report_id'],ascending=False,inplace=True)\n",
    "# check.drop_duplicates(subset =\"report_id\", keep = 'first', inplace = True)\n",
    "check"
   ]
  },
  {
   "cell_type": "code",
   "execution_count": 18,
   "metadata": {},
   "outputs": [
    {
     "data": {
      "text/plain": [
       "(23, 14)"
      ]
     },
     "execution_count": 18,
     "metadata": {},
     "output_type": "execute_result"
    }
   ],
   "source": [
    "check.shape"
   ]
  },
  {
   "cell_type": "code",
   "execution_count": 19,
   "metadata": {},
   "outputs": [],
   "source": [
    "check.to_csv(r'C:\\Users\\Cristian.Aparicio\\Downloads\\check_2.csv',index=False)"
   ]
  },
  {
   "cell_type": "code",
   "execution_count": null,
   "metadata": {},
   "outputs": [],
   "source": []
  }
 ],
 "metadata": {
  "kernelspec": {
   "display_name": "Python 3 (ipykernel)",
   "language": "python",
   "name": "python3"
  },
  "language_info": {
   "codemirror_mode": {
    "name": "ipython",
    "version": 3
   },
   "file_extension": ".py",
   "mimetype": "text/x-python",
   "name": "python",
   "nbconvert_exporter": "python",
   "pygments_lexer": "ipython3",
   "version": "3.8.13"
  }
 },
 "nbformat": 4,
 "nbformat_minor": 4
}
