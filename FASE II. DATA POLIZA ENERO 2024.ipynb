{
 "cells": [
  {
   "cell_type": "code",
   "execution_count": 1,
   "metadata": {},
   "outputs": [
    {
     "data": {
      "text/plain": [
       "datetime.timedelta(days=1)"
      ]
     },
     "execution_count": 1,
     "metadata": {},
     "output_type": "execute_result"
    }
   ],
   "source": [
    "import pandas as pd\n",
    "import numpy as np\n",
    "from openpyxl import load_workbook\n",
    "import glob\n",
    "import os\n",
    "import datetime\n",
    "pd.options.display.float_format = '{:,.2f}'.format\n",
    "datetime.timedelta(days=1)\n",
    "datetime.timedelta(1)"
   ]
  },
  {
   "cell_type": "code",
   "execution_count": 2,
   "metadata": {},
   "outputs": [
    {
     "data": {
      "text/plain": [
       "['C:\\\\Users\\\\Cristian.Aparicio\\\\Documents\\\\POLIZAS\\\\2024\\\\01. ENERO\\\\DATA\\\\ADJUSTMENTS - TEMPLATE - NULL.csv']"
      ]
     },
     "execution_count": 2,
     "metadata": {},
     "output_type": "execute_result"
    }
   ],
   "source": [
    "allfiles_adj = glob.glob(r'C:\\Users\\Cristian.Aparicio\\Documents\\POLIZAS\\2024\\01. ENERO\\DATA\\ADJ*.csv', recursive=False)\n",
    "allfiles_adj"
   ]
  },
  {
   "cell_type": "code",
   "execution_count": 3,
   "metadata": {},
   "outputs": [
    {
     "data": {
      "text/plain": [
       "['C:\\\\Users\\\\Cristian.Aparicio\\\\Documents\\\\POLIZAS\\\\2024\\\\01. ENERO\\\\DATA\\\\RETENCIONES - TEMPLATE - NULL.csv']"
      ]
     },
     "execution_count": 3,
     "metadata": {},
     "output_type": "execute_result"
    }
   ],
   "source": [
    "allfiles_ret = glob.glob(r'C:\\Users\\Cristian.Aparicio\\Documents\\POLIZAS\\2024\\01. ENERO\\DATA\\RET*.csv', recursive=False)\n",
    "allfiles_ret"
   ]
  },
  {
   "cell_type": "code",
   "execution_count": 4,
   "metadata": {},
   "outputs": [
    {
     "data": {
      "text/plain": [
       "['C:\\\\Users\\\\Cristian.Aparicio\\\\Documents\\\\POLIZAS\\\\2024\\\\01. ENERO\\\\DATA\\\\LIBERACIONES - TEMPLATE - NULL.csv']"
      ]
     },
     "execution_count": 4,
     "metadata": {},
     "output_type": "execute_result"
    }
   ],
   "source": [
    "allfiles_lib = glob.glob(r'C:\\Users\\Cristian.Aparicio\\Documents\\POLIZAS\\2024\\01. ENERO\\DATA\\LIB*.csv', recursive=False)\n",
    "allfiles_lib"
   ]
  },
  {
   "cell_type": "code",
   "execution_count": 5,
   "metadata": {},
   "outputs": [
    {
     "data": {
      "text/plain": [
       "['G:\\\\.shortcut-targets-by-id\\\\1Oe28Mf9uSidMamjllDen2gkNnC59eSUr\\\\3.-Settlement\\\\5.-HISTORICO FILES PAGOS\\\\01. TRADICIONAL\\\\2024\\\\01. JANUARY\\\\MONTOS EMAIL\\\\DIFF MONTOS-BNTE-1 2024-01-01.csv',\n",
       " 'G:\\\\.shortcut-targets-by-id\\\\1Oe28Mf9uSidMamjllDen2gkNnC59eSUr\\\\3.-Settlement\\\\5.-HISTORICO FILES PAGOS\\\\01. TRADICIONAL\\\\2024\\\\01. JANUARY\\\\MONTOS EMAIL\\\\DIFF MONTOS-BNTE-1 2024-01-06.csv',\n",
       " 'G:\\\\.shortcut-targets-by-id\\\\1Oe28Mf9uSidMamjllDen2gkNnC59eSUr\\\\3.-Settlement\\\\5.-HISTORICO FILES PAGOS\\\\01. TRADICIONAL\\\\2024\\\\01. JANUARY\\\\MONTOS EMAIL\\\\DIFF MONTOS-BNTE-1 2024-01-07.csv',\n",
       " 'G:\\\\.shortcut-targets-by-id\\\\1Oe28Mf9uSidMamjllDen2gkNnC59eSUr\\\\3.-Settlement\\\\5.-HISTORICO FILES PAGOS\\\\01. TRADICIONAL\\\\2024\\\\01. JANUARY\\\\MONTOS EMAIL\\\\DIFF MONTOS-BNTE-1 2024-01-13.csv',\n",
       " 'G:\\\\.shortcut-targets-by-id\\\\1Oe28Mf9uSidMamjllDen2gkNnC59eSUr\\\\3.-Settlement\\\\5.-HISTORICO FILES PAGOS\\\\01. TRADICIONAL\\\\2024\\\\01. JANUARY\\\\MONTOS EMAIL\\\\DIFF MONTOS-BNTE-1 2024-01-14.csv',\n",
       " 'G:\\\\.shortcut-targets-by-id\\\\1Oe28Mf9uSidMamjllDen2gkNnC59eSUr\\\\3.-Settlement\\\\5.-HISTORICO FILES PAGOS\\\\01. TRADICIONAL\\\\2024\\\\01. JANUARY\\\\MONTOS EMAIL\\\\DIFF MONTOS-BNTE-1 2024-01-20.csv',\n",
       " 'G:\\\\.shortcut-targets-by-id\\\\1Oe28Mf9uSidMamjllDen2gkNnC59eSUr\\\\3.-Settlement\\\\5.-HISTORICO FILES PAGOS\\\\01. TRADICIONAL\\\\2024\\\\01. JANUARY\\\\MONTOS EMAIL\\\\DIFF MONTOS-BNTE-1 2024-01-21.csv',\n",
       " 'G:\\\\.shortcut-targets-by-id\\\\1Oe28Mf9uSidMamjllDen2gkNnC59eSUr\\\\3.-Settlement\\\\5.-HISTORICO FILES PAGOS\\\\01. TRADICIONAL\\\\2024\\\\01. JANUARY\\\\MONTOS EMAIL\\\\DIFF MONTOS-BNTE-1 2024-01-27.csv',\n",
       " 'G:\\\\.shortcut-targets-by-id\\\\1Oe28Mf9uSidMamjllDen2gkNnC59eSUr\\\\3.-Settlement\\\\5.-HISTORICO FILES PAGOS\\\\01. TRADICIONAL\\\\2024\\\\01. JANUARY\\\\MONTOS EMAIL\\\\DIFF MONTOS-BNTE-1 2024-01-28.csv',\n",
       " 'G:\\\\.shortcut-targets-by-id\\\\1Oe28Mf9uSidMamjllDen2gkNnC59eSUr\\\\3.-Settlement\\\\5.-HISTORICO FILES PAGOS\\\\01. TRADICIONAL\\\\2024\\\\01. JANUARY\\\\MONTOS EMAIL\\\\DIFF MONTOS-BNTE-2 2024-01-01.csv',\n",
       " 'G:\\\\.shortcut-targets-by-id\\\\1Oe28Mf9uSidMamjllDen2gkNnC59eSUr\\\\3.-Settlement\\\\5.-HISTORICO FILES PAGOS\\\\01. TRADICIONAL\\\\2024\\\\01. JANUARY\\\\MONTOS EMAIL\\\\DIFF MONTOS-BNTE-2 2024-01-02.csv',\n",
       " 'G:\\\\.shortcut-targets-by-id\\\\1Oe28Mf9uSidMamjllDen2gkNnC59eSUr\\\\3.-Settlement\\\\5.-HISTORICO FILES PAGOS\\\\01. TRADICIONAL\\\\2024\\\\01. JANUARY\\\\MONTOS EMAIL\\\\DIFF MONTOS-BNTE-2 2024-01-03.csv',\n",
       " 'G:\\\\.shortcut-targets-by-id\\\\1Oe28Mf9uSidMamjllDen2gkNnC59eSUr\\\\3.-Settlement\\\\5.-HISTORICO FILES PAGOS\\\\01. TRADICIONAL\\\\2024\\\\01. JANUARY\\\\MONTOS EMAIL\\\\DIFF MONTOS-BNTE-2 2024-01-06.csv',\n",
       " 'G:\\\\.shortcut-targets-by-id\\\\1Oe28Mf9uSidMamjllDen2gkNnC59eSUr\\\\3.-Settlement\\\\5.-HISTORICO FILES PAGOS\\\\01. TRADICIONAL\\\\2024\\\\01. JANUARY\\\\MONTOS EMAIL\\\\DIFF MONTOS-BNTE-2 2024-01-07.csv',\n",
       " 'G:\\\\.shortcut-targets-by-id\\\\1Oe28Mf9uSidMamjllDen2gkNnC59eSUr\\\\3.-Settlement\\\\5.-HISTORICO FILES PAGOS\\\\01. TRADICIONAL\\\\2024\\\\01. JANUARY\\\\MONTOS EMAIL\\\\DIFF MONTOS-BNTE-2 2024-01-08.csv',\n",
       " 'G:\\\\.shortcut-targets-by-id\\\\1Oe28Mf9uSidMamjllDen2gkNnC59eSUr\\\\3.-Settlement\\\\5.-HISTORICO FILES PAGOS\\\\01. TRADICIONAL\\\\2024\\\\01. JANUARY\\\\MONTOS EMAIL\\\\DIFF MONTOS-BNTE-2 2024-01-09.csv',\n",
       " 'G:\\\\.shortcut-targets-by-id\\\\1Oe28Mf9uSidMamjllDen2gkNnC59eSUr\\\\3.-Settlement\\\\5.-HISTORICO FILES PAGOS\\\\01. TRADICIONAL\\\\2024\\\\01. JANUARY\\\\MONTOS EMAIL\\\\DIFF MONTOS-BNTE-2 2024-01-13.csv',\n",
       " 'G:\\\\.shortcut-targets-by-id\\\\1Oe28Mf9uSidMamjllDen2gkNnC59eSUr\\\\3.-Settlement\\\\5.-HISTORICO FILES PAGOS\\\\01. TRADICIONAL\\\\2024\\\\01. JANUARY\\\\MONTOS EMAIL\\\\DIFF MONTOS-BNTE-2 2024-01-14.csv',\n",
       " 'G:\\\\.shortcut-targets-by-id\\\\1Oe28Mf9uSidMamjllDen2gkNnC59eSUr\\\\3.-Settlement\\\\5.-HISTORICO FILES PAGOS\\\\01. TRADICIONAL\\\\2024\\\\01. JANUARY\\\\MONTOS EMAIL\\\\DIFF MONTOS-BNTE-2 2024-01-15.csv',\n",
       " 'G:\\\\.shortcut-targets-by-id\\\\1Oe28Mf9uSidMamjllDen2gkNnC59eSUr\\\\3.-Settlement\\\\5.-HISTORICO FILES PAGOS\\\\01. TRADICIONAL\\\\2024\\\\01. JANUARY\\\\MONTOS EMAIL\\\\DIFF MONTOS-BNTE-2 2024-01-20.csv',\n",
       " 'G:\\\\.shortcut-targets-by-id\\\\1Oe28Mf9uSidMamjllDen2gkNnC59eSUr\\\\3.-Settlement\\\\5.-HISTORICO FILES PAGOS\\\\01. TRADICIONAL\\\\2024\\\\01. JANUARY\\\\MONTOS EMAIL\\\\DIFF MONTOS-BNTE-2 2024-01-21.csv',\n",
       " 'G:\\\\.shortcut-targets-by-id\\\\1Oe28Mf9uSidMamjllDen2gkNnC59eSUr\\\\3.-Settlement\\\\5.-HISTORICO FILES PAGOS\\\\01. TRADICIONAL\\\\2024\\\\01. JANUARY\\\\MONTOS EMAIL\\\\DIFF MONTOS-BNTE-2 2024-01-22.csv',\n",
       " 'G:\\\\.shortcut-targets-by-id\\\\1Oe28Mf9uSidMamjllDen2gkNnC59eSUr\\\\3.-Settlement\\\\5.-HISTORICO FILES PAGOS\\\\01. TRADICIONAL\\\\2024\\\\01. JANUARY\\\\MONTOS EMAIL\\\\DIFF MONTOS-BNTE-2 2024-01-23.csv',\n",
       " 'G:\\\\.shortcut-targets-by-id\\\\1Oe28Mf9uSidMamjllDen2gkNnC59eSUr\\\\3.-Settlement\\\\5.-HISTORICO FILES PAGOS\\\\01. TRADICIONAL\\\\2024\\\\01. JANUARY\\\\MONTOS EMAIL\\\\DIFF MONTOS-BNTE-2 2024-01-27.csv',\n",
       " 'G:\\\\.shortcut-targets-by-id\\\\1Oe28Mf9uSidMamjllDen2gkNnC59eSUr\\\\3.-Settlement\\\\5.-HISTORICO FILES PAGOS\\\\01. TRADICIONAL\\\\2024\\\\01. JANUARY\\\\MONTOS EMAIL\\\\DIFF MONTOS-BNTE-2 2024-01-28.csv',\n",
       " 'G:\\\\.shortcut-targets-by-id\\\\1Oe28Mf9uSidMamjllDen2gkNnC59eSUr\\\\3.-Settlement\\\\5.-HISTORICO FILES PAGOS\\\\01. TRADICIONAL\\\\2024\\\\01. JANUARY\\\\MONTOS EMAIL\\\\DIFF MONTOS-BNTE-2 2024-01-29.csv',\n",
       " 'G:\\\\.shortcut-targets-by-id\\\\1Oe28Mf9uSidMamjllDen2gkNnC59eSUr\\\\3.-Settlement\\\\5.-HISTORICO FILES PAGOS\\\\01. TRADICIONAL\\\\2024\\\\01. JANUARY\\\\MONTOS EMAIL\\\\DIFF MONTOS-BNTE-3 2024-01-04.csv',\n",
       " 'G:\\\\.shortcut-targets-by-id\\\\1Oe28Mf9uSidMamjllDen2gkNnC59eSUr\\\\3.-Settlement\\\\5.-HISTORICO FILES PAGOS\\\\01. TRADICIONAL\\\\2024\\\\01. JANUARY\\\\MONTOS EMAIL\\\\DIFF MONTOS-BNTE-3 2024-01-05.csv',\n",
       " 'G:\\\\.shortcut-targets-by-id\\\\1Oe28Mf9uSidMamjllDen2gkNnC59eSUr\\\\3.-Settlement\\\\5.-HISTORICO FILES PAGOS\\\\01. TRADICIONAL\\\\2024\\\\01. JANUARY\\\\MONTOS EMAIL\\\\DIFF MONTOS-BNTE-3 2024-01-10.csv',\n",
       " 'G:\\\\.shortcut-targets-by-id\\\\1Oe28Mf9uSidMamjllDen2gkNnC59eSUr\\\\3.-Settlement\\\\5.-HISTORICO FILES PAGOS\\\\01. TRADICIONAL\\\\2024\\\\01. JANUARY\\\\MONTOS EMAIL\\\\DIFF MONTOS-BNTE-3 2024-01-11.csv',\n",
       " 'G:\\\\.shortcut-targets-by-id\\\\1Oe28Mf9uSidMamjllDen2gkNnC59eSUr\\\\3.-Settlement\\\\5.-HISTORICO FILES PAGOS\\\\01. TRADICIONAL\\\\2024\\\\01. JANUARY\\\\MONTOS EMAIL\\\\DIFF MONTOS-BNTE-3 2024-01-12.csv',\n",
       " 'G:\\\\.shortcut-targets-by-id\\\\1Oe28Mf9uSidMamjllDen2gkNnC59eSUr\\\\3.-Settlement\\\\5.-HISTORICO FILES PAGOS\\\\01. TRADICIONAL\\\\2024\\\\01. JANUARY\\\\MONTOS EMAIL\\\\DIFF MONTOS-BNTE-3 2024-01-16.csv',\n",
       " 'G:\\\\.shortcut-targets-by-id\\\\1Oe28Mf9uSidMamjllDen2gkNnC59eSUr\\\\3.-Settlement\\\\5.-HISTORICO FILES PAGOS\\\\01. TRADICIONAL\\\\2024\\\\01. JANUARY\\\\MONTOS EMAIL\\\\DIFF MONTOS-BNTE-3 2024-01-17.csv',\n",
       " 'G:\\\\.shortcut-targets-by-id\\\\1Oe28Mf9uSidMamjllDen2gkNnC59eSUr\\\\3.-Settlement\\\\5.-HISTORICO FILES PAGOS\\\\01. TRADICIONAL\\\\2024\\\\01. JANUARY\\\\MONTOS EMAIL\\\\DIFF MONTOS-BNTE-3 2024-01-18.csv',\n",
       " 'G:\\\\.shortcut-targets-by-id\\\\1Oe28Mf9uSidMamjllDen2gkNnC59eSUr\\\\3.-Settlement\\\\5.-HISTORICO FILES PAGOS\\\\01. TRADICIONAL\\\\2024\\\\01. JANUARY\\\\MONTOS EMAIL\\\\DIFF MONTOS-BNTE-3 2024-01-19.csv',\n",
       " 'G:\\\\.shortcut-targets-by-id\\\\1Oe28Mf9uSidMamjllDen2gkNnC59eSUr\\\\3.-Settlement\\\\5.-HISTORICO FILES PAGOS\\\\01. TRADICIONAL\\\\2024\\\\01. JANUARY\\\\MONTOS EMAIL\\\\DIFF MONTOS-BNTE-3 2024-01-24.csv',\n",
       " 'G:\\\\.shortcut-targets-by-id\\\\1Oe28Mf9uSidMamjllDen2gkNnC59eSUr\\\\3.-Settlement\\\\5.-HISTORICO FILES PAGOS\\\\01. TRADICIONAL\\\\2024\\\\01. JANUARY\\\\MONTOS EMAIL\\\\DIFF MONTOS-BNTE-3 2024-01-25.csv',\n",
       " 'G:\\\\.shortcut-targets-by-id\\\\1Oe28Mf9uSidMamjllDen2gkNnC59eSUr\\\\3.-Settlement\\\\5.-HISTORICO FILES PAGOS\\\\01. TRADICIONAL\\\\2024\\\\01. JANUARY\\\\MONTOS EMAIL\\\\DIFF MONTOS-BNTE-3 2024-01-26.csv',\n",
       " 'G:\\\\.shortcut-targets-by-id\\\\1Oe28Mf9uSidMamjllDen2gkNnC59eSUr\\\\3.-Settlement\\\\5.-HISTORICO FILES PAGOS\\\\01. TRADICIONAL\\\\2024\\\\01. JANUARY\\\\MONTOS EMAIL\\\\DIFF MONTOS-BNTE-3 2024-01-30.csv',\n",
       " 'G:\\\\.shortcut-targets-by-id\\\\1Oe28Mf9uSidMamjllDen2gkNnC59eSUr\\\\3.-Settlement\\\\5.-HISTORICO FILES PAGOS\\\\01. TRADICIONAL\\\\2024\\\\01. JANUARY\\\\MONTOS EMAIL\\\\DIFF MONTOS-BNTE-3 2024-01-31.csv',\n",
       " 'G:\\\\.shortcut-targets-by-id\\\\1Oe28Mf9uSidMamjllDen2gkNnC59eSUr\\\\3.-Settlement\\\\5.-HISTORICO FILES PAGOS\\\\01. TRADICIONAL\\\\2024\\\\01. JANUARY\\\\MONTOS EMAIL\\\\DIFF MONTOS-SANT-1 2024-01-02.csv',\n",
       " 'G:\\\\.shortcut-targets-by-id\\\\1Oe28Mf9uSidMamjllDen2gkNnC59eSUr\\\\3.-Settlement\\\\5.-HISTORICO FILES PAGOS\\\\01. TRADICIONAL\\\\2024\\\\01. JANUARY\\\\MONTOS EMAIL\\\\DIFF MONTOS-SANT-1 2024-01-03.csv',\n",
       " 'G:\\\\.shortcut-targets-by-id\\\\1Oe28Mf9uSidMamjllDen2gkNnC59eSUr\\\\3.-Settlement\\\\5.-HISTORICO FILES PAGOS\\\\01. TRADICIONAL\\\\2024\\\\01. JANUARY\\\\MONTOS EMAIL\\\\DIFF MONTOS-SANT-1 2024-01-04.csv',\n",
       " 'G:\\\\.shortcut-targets-by-id\\\\1Oe28Mf9uSidMamjllDen2gkNnC59eSUr\\\\3.-Settlement\\\\5.-HISTORICO FILES PAGOS\\\\01. TRADICIONAL\\\\2024\\\\01. JANUARY\\\\MONTOS EMAIL\\\\DIFF MONTOS-SANT-1 2024-01-05.csv',\n",
       " 'G:\\\\.shortcut-targets-by-id\\\\1Oe28Mf9uSidMamjllDen2gkNnC59eSUr\\\\3.-Settlement\\\\5.-HISTORICO FILES PAGOS\\\\01. TRADICIONAL\\\\2024\\\\01. JANUARY\\\\MONTOS EMAIL\\\\DIFF MONTOS-SANT-1 2024-01-08.csv',\n",
       " 'G:\\\\.shortcut-targets-by-id\\\\1Oe28Mf9uSidMamjllDen2gkNnC59eSUr\\\\3.-Settlement\\\\5.-HISTORICO FILES PAGOS\\\\01. TRADICIONAL\\\\2024\\\\01. JANUARY\\\\MONTOS EMAIL\\\\DIFF MONTOS-SANT-1 2024-01-09.csv',\n",
       " 'G:\\\\.shortcut-targets-by-id\\\\1Oe28Mf9uSidMamjllDen2gkNnC59eSUr\\\\3.-Settlement\\\\5.-HISTORICO FILES PAGOS\\\\01. TRADICIONAL\\\\2024\\\\01. JANUARY\\\\MONTOS EMAIL\\\\DIFF MONTOS-SANT-1 2024-01-10.csv',\n",
       " 'G:\\\\.shortcut-targets-by-id\\\\1Oe28Mf9uSidMamjllDen2gkNnC59eSUr\\\\3.-Settlement\\\\5.-HISTORICO FILES PAGOS\\\\01. TRADICIONAL\\\\2024\\\\01. JANUARY\\\\MONTOS EMAIL\\\\DIFF MONTOS-SANT-1 2024-01-11.csv',\n",
       " 'G:\\\\.shortcut-targets-by-id\\\\1Oe28Mf9uSidMamjllDen2gkNnC59eSUr\\\\3.-Settlement\\\\5.-HISTORICO FILES PAGOS\\\\01. TRADICIONAL\\\\2024\\\\01. JANUARY\\\\MONTOS EMAIL\\\\DIFF MONTOS-SANT-1 2024-01-12.csv',\n",
       " 'G:\\\\.shortcut-targets-by-id\\\\1Oe28Mf9uSidMamjllDen2gkNnC59eSUr\\\\3.-Settlement\\\\5.-HISTORICO FILES PAGOS\\\\01. TRADICIONAL\\\\2024\\\\01. JANUARY\\\\MONTOS EMAIL\\\\DIFF MONTOS-SANT-1 2024-01-15.csv',\n",
       " 'G:\\\\.shortcut-targets-by-id\\\\1Oe28Mf9uSidMamjllDen2gkNnC59eSUr\\\\3.-Settlement\\\\5.-HISTORICO FILES PAGOS\\\\01. TRADICIONAL\\\\2024\\\\01. JANUARY\\\\MONTOS EMAIL\\\\DIFF MONTOS-SANT-1 2024-01-16.csv',\n",
       " 'G:\\\\.shortcut-targets-by-id\\\\1Oe28Mf9uSidMamjllDen2gkNnC59eSUr\\\\3.-Settlement\\\\5.-HISTORICO FILES PAGOS\\\\01. TRADICIONAL\\\\2024\\\\01. JANUARY\\\\MONTOS EMAIL\\\\DIFF MONTOS-SANT-1 2024-01-17.csv',\n",
       " 'G:\\\\.shortcut-targets-by-id\\\\1Oe28Mf9uSidMamjllDen2gkNnC59eSUr\\\\3.-Settlement\\\\5.-HISTORICO FILES PAGOS\\\\01. TRADICIONAL\\\\2024\\\\01. JANUARY\\\\MONTOS EMAIL\\\\DIFF MONTOS-SANT-1 2024-01-18.csv',\n",
       " 'G:\\\\.shortcut-targets-by-id\\\\1Oe28Mf9uSidMamjllDen2gkNnC59eSUr\\\\3.-Settlement\\\\5.-HISTORICO FILES PAGOS\\\\01. TRADICIONAL\\\\2024\\\\01. JANUARY\\\\MONTOS EMAIL\\\\DIFF MONTOS-SANT-1 2024-01-19.csv',\n",
       " 'G:\\\\.shortcut-targets-by-id\\\\1Oe28Mf9uSidMamjllDen2gkNnC59eSUr\\\\3.-Settlement\\\\5.-HISTORICO FILES PAGOS\\\\01. TRADICIONAL\\\\2024\\\\01. JANUARY\\\\MONTOS EMAIL\\\\DIFF MONTOS-SANT-1 2024-01-22.csv',\n",
       " 'G:\\\\.shortcut-targets-by-id\\\\1Oe28Mf9uSidMamjllDen2gkNnC59eSUr\\\\3.-Settlement\\\\5.-HISTORICO FILES PAGOS\\\\01. TRADICIONAL\\\\2024\\\\01. JANUARY\\\\MONTOS EMAIL\\\\DIFF MONTOS-SANT-1 2024-01-23.csv',\n",
       " 'G:\\\\.shortcut-targets-by-id\\\\1Oe28Mf9uSidMamjllDen2gkNnC59eSUr\\\\3.-Settlement\\\\5.-HISTORICO FILES PAGOS\\\\01. TRADICIONAL\\\\2024\\\\01. JANUARY\\\\MONTOS EMAIL\\\\DIFF MONTOS-SANT-1 2024-01-24.csv',\n",
       " 'G:\\\\.shortcut-targets-by-id\\\\1Oe28Mf9uSidMamjllDen2gkNnC59eSUr\\\\3.-Settlement\\\\5.-HISTORICO FILES PAGOS\\\\01. TRADICIONAL\\\\2024\\\\01. JANUARY\\\\MONTOS EMAIL\\\\DIFF MONTOS-SANT-1 2024-01-25.csv',\n",
       " 'G:\\\\.shortcut-targets-by-id\\\\1Oe28Mf9uSidMamjllDen2gkNnC59eSUr\\\\3.-Settlement\\\\5.-HISTORICO FILES PAGOS\\\\01. TRADICIONAL\\\\2024\\\\01. JANUARY\\\\MONTOS EMAIL\\\\DIFF MONTOS-SANT-1 2024-01-26.csv',\n",
       " 'G:\\\\.shortcut-targets-by-id\\\\1Oe28Mf9uSidMamjllDen2gkNnC59eSUr\\\\3.-Settlement\\\\5.-HISTORICO FILES PAGOS\\\\01. TRADICIONAL\\\\2024\\\\01. JANUARY\\\\MONTOS EMAIL\\\\DIFF MONTOS-SANT-1 2024-01-29.csv',\n",
       " 'G:\\\\.shortcut-targets-by-id\\\\1Oe28Mf9uSidMamjllDen2gkNnC59eSUr\\\\3.-Settlement\\\\5.-HISTORICO FILES PAGOS\\\\01. TRADICIONAL\\\\2024\\\\01. JANUARY\\\\MONTOS EMAIL\\\\DIFF MONTOS-SANT-1 2024-01-30.csv',\n",
       " 'G:\\\\.shortcut-targets-by-id\\\\1Oe28Mf9uSidMamjllDen2gkNnC59eSUr\\\\3.-Settlement\\\\5.-HISTORICO FILES PAGOS\\\\01. TRADICIONAL\\\\2024\\\\01. JANUARY\\\\MONTOS EMAIL\\\\DIFF MONTOS-SANT-1 2024-01-31.csv',\n",
       " 'G:\\\\.shortcut-targets-by-id\\\\1Oe28Mf9uSidMamjllDen2gkNnC59eSUr\\\\3.-Settlement\\\\5.-HISTORICO FILES PAGOS\\\\01. TRADICIONAL\\\\2024\\\\01. JANUARY\\\\MONTOS EMAIL\\\\DIFF MONTOS-SANT-2 2024-01-04.csv',\n",
       " 'G:\\\\.shortcut-targets-by-id\\\\1Oe28Mf9uSidMamjllDen2gkNnC59eSUr\\\\3.-Settlement\\\\5.-HISTORICO FILES PAGOS\\\\01. TRADICIONAL\\\\2024\\\\01. JANUARY\\\\MONTOS EMAIL\\\\DIFF MONTOS-SANT-2 2024-01-05.csv',\n",
       " 'G:\\\\.shortcut-targets-by-id\\\\1Oe28Mf9uSidMamjllDen2gkNnC59eSUr\\\\3.-Settlement\\\\5.-HISTORICO FILES PAGOS\\\\01. TRADICIONAL\\\\2024\\\\01. JANUARY\\\\MONTOS EMAIL\\\\DIFF MONTOS-SANT-2 2024-01-10.csv',\n",
       " 'G:\\\\.shortcut-targets-by-id\\\\1Oe28Mf9uSidMamjllDen2gkNnC59eSUr\\\\3.-Settlement\\\\5.-HISTORICO FILES PAGOS\\\\01. TRADICIONAL\\\\2024\\\\01. JANUARY\\\\MONTOS EMAIL\\\\DIFF MONTOS-SANT-2 2024-01-11.csv',\n",
       " 'G:\\\\.shortcut-targets-by-id\\\\1Oe28Mf9uSidMamjllDen2gkNnC59eSUr\\\\3.-Settlement\\\\5.-HISTORICO FILES PAGOS\\\\01. TRADICIONAL\\\\2024\\\\01. JANUARY\\\\MONTOS EMAIL\\\\DIFF MONTOS-SANT-2 2024-01-12.csv',\n",
       " 'G:\\\\.shortcut-targets-by-id\\\\1Oe28Mf9uSidMamjllDen2gkNnC59eSUr\\\\3.-Settlement\\\\5.-HISTORICO FILES PAGOS\\\\01. TRADICIONAL\\\\2024\\\\01. JANUARY\\\\MONTOS EMAIL\\\\DIFF MONTOS-SANT-2 2024-01-16.csv',\n",
       " 'G:\\\\.shortcut-targets-by-id\\\\1Oe28Mf9uSidMamjllDen2gkNnC59eSUr\\\\3.-Settlement\\\\5.-HISTORICO FILES PAGOS\\\\01. TRADICIONAL\\\\2024\\\\01. JANUARY\\\\MONTOS EMAIL\\\\DIFF MONTOS-SANT-2 2024-01-17.csv',\n",
       " 'G:\\\\.shortcut-targets-by-id\\\\1Oe28Mf9uSidMamjllDen2gkNnC59eSUr\\\\3.-Settlement\\\\5.-HISTORICO FILES PAGOS\\\\01. TRADICIONAL\\\\2024\\\\01. JANUARY\\\\MONTOS EMAIL\\\\DIFF MONTOS-SANT-2 2024-01-18.csv',\n",
       " 'G:\\\\.shortcut-targets-by-id\\\\1Oe28Mf9uSidMamjllDen2gkNnC59eSUr\\\\3.-Settlement\\\\5.-HISTORICO FILES PAGOS\\\\01. TRADICIONAL\\\\2024\\\\01. JANUARY\\\\MONTOS EMAIL\\\\DIFF MONTOS-SANT-2 2024-01-19.csv',\n",
       " 'G:\\\\.shortcut-targets-by-id\\\\1Oe28Mf9uSidMamjllDen2gkNnC59eSUr\\\\3.-Settlement\\\\5.-HISTORICO FILES PAGOS\\\\01. TRADICIONAL\\\\2024\\\\01. JANUARY\\\\MONTOS EMAIL\\\\DIFF MONTOS-SANT-2 2024-01-24.csv',\n",
       " 'G:\\\\.shortcut-targets-by-id\\\\1Oe28Mf9uSidMamjllDen2gkNnC59eSUr\\\\3.-Settlement\\\\5.-HISTORICO FILES PAGOS\\\\01. TRADICIONAL\\\\2024\\\\01. JANUARY\\\\MONTOS EMAIL\\\\DIFF MONTOS-SANT-2 2024-01-25.csv',\n",
       " 'G:\\\\.shortcut-targets-by-id\\\\1Oe28Mf9uSidMamjllDen2gkNnC59eSUr\\\\3.-Settlement\\\\5.-HISTORICO FILES PAGOS\\\\01. TRADICIONAL\\\\2024\\\\01. JANUARY\\\\MONTOS EMAIL\\\\DIFF MONTOS-SANT-2 2024-01-26.csv',\n",
       " 'G:\\\\.shortcut-targets-by-id\\\\1Oe28Mf9uSidMamjllDen2gkNnC59eSUr\\\\3.-Settlement\\\\5.-HISTORICO FILES PAGOS\\\\01. TRADICIONAL\\\\2024\\\\01. JANUARY\\\\MONTOS EMAIL\\\\DIFF MONTOS-SANT-2 2024-01-30.csv',\n",
       " 'G:\\\\.shortcut-targets-by-id\\\\1Oe28Mf9uSidMamjllDen2gkNnC59eSUr\\\\3.-Settlement\\\\5.-HISTORICO FILES PAGOS\\\\01. TRADICIONAL\\\\2024\\\\01. JANUARY\\\\MONTOS EMAIL\\\\DIFF MONTOS-SANT-2 2024-01-31.csv']"
      ]
     },
     "execution_count": 5,
     "metadata": {},
     "output_type": "execute_result"
    }
   ],
   "source": [
    "allfiles_com = sorted(glob.glob(r'G:\\.shortcut-targets-by-id\\1Oe28Mf9uSidMamjllDen2gkNnC59eSUr\\3.-Settlement\\5.-HISTORICO FILES PAGOS\\01. TRADICIONAL\\2024\\01. JANUARY\\MONTOS EMAIL\\*.csv', recursive=False))\n",
    "allfiles_com"
   ]
  },
  {
   "cell_type": "code",
   "execution_count": 6,
   "metadata": {},
   "outputs": [
    {
     "data": {
      "text/plain": [
       "['G:\\\\My Drive\\\\RESPALDO-PC\\\\LENDERS\\\\2024\\\\DB\\\\LENDERS DB ENERO 2024.csv']"
      ]
     },
     "execution_count": 6,
     "metadata": {},
     "output_type": "execute_result"
    }
   ],
   "source": [
    "allfiles_lender = glob.glob(r'G:\\My Drive\\RESPALDO-PC\\LENDERS\\2024\\DB\\LEN*.csv', recursive=False)\n",
    "allfiles_lender"
   ]
  },
  {
   "cell_type": "code",
   "execution_count": 7,
   "metadata": {},
   "outputs": [],
   "source": [
    "start_date = '2024-01-01'\n",
    "final_date = '2024-01-31'"
   ]
  },
  {
   "cell_type": "markdown",
   "metadata": {},
   "source": [
    "# ADJUSTMENTS"
   ]
  },
  {
   "cell_type": "code",
   "execution_count": 8,
   "metadata": {},
   "outputs": [
    {
     "data": {
      "text/html": [
       "<div>\n",
       "<style scoped>\n",
       "    .dataframe tbody tr th:only-of-type {\n",
       "        vertical-align: middle;\n",
       "    }\n",
       "\n",
       "    .dataframe tbody tr th {\n",
       "        vertical-align: top;\n",
       "    }\n",
       "\n",
       "    .dataframe thead th {\n",
       "        text-align: right;\n",
       "    }\n",
       "</style>\n",
       "<table border=\"1\" class=\"dataframe\">\n",
       "  <thead>\n",
       "    <tr style=\"text-align: right;\">\n",
       "      <th></th>\n",
       "      <th>report_id</th>\n",
       "      <th>report_date_local</th>\n",
       "      <th>adjustment_date_local</th>\n",
       "      <th>adjustment_type</th>\n",
       "      <th>adjustment_amount</th>\n",
       "      <th>fees_charged</th>\n",
       "      <th>taxes</th>\n",
       "      <th>amount_due</th>\n",
       "      <th>type</th>\n",
       "      <th>date</th>\n",
       "      <th>file_name</th>\n",
       "    </tr>\n",
       "  </thead>\n",
       "  <tbody>\n",
       "  </tbody>\n",
       "</table>\n",
       "</div>"
      ],
      "text/plain": [
       "Empty DataFrame\n",
       "Columns: [report_id, report_date_local, adjustment_date_local, adjustment_type, adjustment_amount, fees_charged, taxes, amount_due, type, date, file_name]\n",
       "Index: []"
      ]
     },
     "execution_count": 8,
     "metadata": {},
     "output_type": "execute_result"
    }
   ],
   "source": [
    "adj_1 = pd.concat([pd.read_csv(f).assign(file_name=os.path.basename(f)) for f in allfiles_adj])\n",
    "adj_1.head()"
   ]
  },
  {
   "cell_type": "code",
   "execution_count": 9,
   "metadata": {},
   "outputs": [
    {
     "data": {
      "text/plain": [
       "(0, 11)"
      ]
     },
     "execution_count": 9,
     "metadata": {},
     "output_type": "execute_result"
    }
   ],
   "source": [
    "adj_1.shape"
   ]
  },
  {
   "cell_type": "markdown",
   "metadata": {},
   "source": [
    "### CURRENT DATES"
   ]
  },
  {
   "cell_type": "code",
   "execution_count": 10,
   "metadata": {},
   "outputs": [
    {
     "data": {
      "text/html": [
       "<div>\n",
       "<style scoped>\n",
       "    .dataframe tbody tr th:only-of-type {\n",
       "        vertical-align: middle;\n",
       "    }\n",
       "\n",
       "    .dataframe tbody tr th {\n",
       "        vertical-align: top;\n",
       "    }\n",
       "\n",
       "    .dataframe thead th {\n",
       "        text-align: right;\n",
       "    }\n",
       "</style>\n",
       "<table border=\"1\" class=\"dataframe\">\n",
       "  <thead>\n",
       "    <tr style=\"text-align: right;\">\n",
       "      <th></th>\n",
       "      <th>report_id</th>\n",
       "      <th>report_date_local</th>\n",
       "      <th>adjustment_date_local</th>\n",
       "      <th>adjustment_type</th>\n",
       "      <th>adjustment_amount</th>\n",
       "      <th>fees_charged</th>\n",
       "      <th>taxes</th>\n",
       "      <th>amount_due</th>\n",
       "      <th>type</th>\n",
       "      <th>date</th>\n",
       "      <th>file_name</th>\n",
       "    </tr>\n",
       "  </thead>\n",
       "  <tbody>\n",
       "  </tbody>\n",
       "</table>\n",
       "</div>"
      ],
      "text/plain": [
       "Empty DataFrame\n",
       "Columns: [report_id, report_date_local, adjustment_date_local, adjustment_type, adjustment_amount, fees_charged, taxes, amount_due, type, date, file_name]\n",
       "Index: []"
      ]
     },
     "execution_count": 10,
     "metadata": {},
     "output_type": "execute_result"
    }
   ],
   "source": [
    "adj_current_month = adj_1[(adj_1['date'] >= start_date) & (adj_1['date'] <= final_date)]\n",
    "adj_current_month.head()"
   ]
  },
  {
   "cell_type": "code",
   "execution_count": 11,
   "metadata": {},
   "outputs": [
    {
     "data": {
      "text/plain": [
       "(0, 11)"
      ]
     },
     "execution_count": 11,
     "metadata": {},
     "output_type": "execute_result"
    }
   ],
   "source": [
    "adj_current_month.shape"
   ]
  },
  {
   "cell_type": "markdown",
   "metadata": {},
   "source": [
    "### PIVOT"
   ]
  },
  {
   "cell_type": "code",
   "execution_count": 12,
   "metadata": {},
   "outputs": [
    {
     "name": "stderr",
     "output_type": "stream",
     "text": [
      "C:\\Users\\Cristian.Aparicio\\AppData\\Local\\Temp\\ipykernel_5660\\1267365187.py:1: FutureWarning: The provided callable <built-in function sum> is currently using SeriesGroupBy.sum. In a future version of pandas, the provided callable will be used directly. To keep current behavior pass the string \"sum\" instead.\n",
      "  adj_pivot = adj_current_month.groupby(['type','adjustment_type','date']).agg({'adjustment_amount':sum\n",
      "C:\\Users\\Cristian.Aparicio\\AppData\\Local\\Temp\\ipykernel_5660\\1267365187.py:1: FutureWarning: The provided callable <built-in function sum> is currently using SeriesGroupBy.sum. In a future version of pandas, the provided callable will be used directly. To keep current behavior pass the string \"sum\" instead.\n",
      "  adj_pivot = adj_current_month.groupby(['type','adjustment_type','date']).agg({'adjustment_amount':sum\n"
     ]
    },
    {
     "data": {
      "text/html": [
       "<div>\n",
       "<style scoped>\n",
       "    .dataframe tbody tr th:only-of-type {\n",
       "        vertical-align: middle;\n",
       "    }\n",
       "\n",
       "    .dataframe tbody tr th {\n",
       "        vertical-align: top;\n",
       "    }\n",
       "\n",
       "    .dataframe thead th {\n",
       "        text-align: right;\n",
       "    }\n",
       "</style>\n",
       "<table border=\"1\" class=\"dataframe\">\n",
       "  <thead>\n",
       "    <tr style=\"text-align: right;\">\n",
       "      <th></th>\n",
       "      <th>type</th>\n",
       "      <th>adjustment_type</th>\n",
       "      <th>date</th>\n",
       "      <th>adjustment_amount</th>\n",
       "      <th>fees_charged</th>\n",
       "      <th>taxes</th>\n",
       "      <th>amount_due</th>\n",
       "    </tr>\n",
       "  </thead>\n",
       "  <tbody>\n",
       "  </tbody>\n",
       "</table>\n",
       "</div>"
      ],
      "text/plain": [
       "Empty DataFrame\n",
       "Columns: [type, adjustment_type, date, adjustment_amount, fees_charged, taxes, amount_due]\n",
       "Index: []"
      ]
     },
     "execution_count": 12,
     "metadata": {},
     "output_type": "execute_result"
    }
   ],
   "source": [
    "adj_pivot = adj_current_month.groupby(['type','adjustment_type','date']).agg({'adjustment_amount':sum\n",
    "                                                                                ,'fees_charged':sum \n",
    "                                                                                ,'taxes':sum\n",
    "                                                                                ,'amount_due':sum}).reset_index()\n",
    "adj_pivot['adjustment_amount'] = adj_pivot['adjustment_amount']*-1 \n",
    "adj_pivot['fees_charged'] = adj_pivot['fees_charged']*-1\n",
    "adj_pivot['taxes'] = adj_pivot['taxes']*-1 \n",
    "adj_pivot['amount_due'] = adj_pivot['amount_due']*-1 \n",
    "adj_pivot.head()"
   ]
  },
  {
   "cell_type": "code",
   "execution_count": 13,
   "metadata": {},
   "outputs": [
    {
     "name": "stderr",
     "output_type": "stream",
     "text": [
      "C:\\Users\\Cristian.Aparicio\\AppData\\Local\\Temp\\ipykernel_5660\\25903760.py:1: FutureWarning: The provided callable <function sum at 0x000001ADC9717A60> is currently using DataFrameGroupBy.sum. In a future version of pandas, the provided callable will be used directly. To keep current behavior pass the string \"sum\" instead.\n",
      "  adj_pivot_v2 = pd.pivot_table(adj_current_month,index=['type','date']\n",
      "C:\\Users\\Cristian.Aparicio\\AppData\\Local\\Temp\\ipykernel_5660\\25903760.py:1: FutureWarning: The provided callable <function sum at 0x000001ADC9717A60> is currently using DataFrameGroupBy.sum. In a future version of pandas, the provided callable will be used directly. To keep current behavior pass the string \"sum\" instead.\n",
      "  adj_pivot_v2 = pd.pivot_table(adj_current_month,index=['type','date']\n"
     ]
    },
    {
     "data": {
      "text/html": [
       "<div>\n",
       "<style scoped>\n",
       "    .dataframe tbody tr th:only-of-type {\n",
       "        vertical-align: middle;\n",
       "    }\n",
       "\n",
       "    .dataframe tbody tr th {\n",
       "        vertical-align: top;\n",
       "    }\n",
       "\n",
       "    .dataframe thead tr th {\n",
       "        text-align: left;\n",
       "    }\n",
       "\n",
       "    .dataframe thead tr:last-of-type th {\n",
       "        text-align: right;\n",
       "    }\n",
       "</style>\n",
       "<table border=\"1\" class=\"dataframe\">\n",
       "  <thead>\n",
       "    <tr>\n",
       "      <th>type</th>\n",
       "      <th>date</th>\n",
       "    </tr>\n",
       "  </thead>\n",
       "  <tbody>\n",
       "  </tbody>\n",
       "</table>\n",
       "</div>"
      ],
      "text/plain": [
       "Empty DataFrame\n",
       "Columns: []\n",
       "Index: []"
      ]
     },
     "execution_count": 13,
     "metadata": {},
     "output_type": "execute_result"
    }
   ],
   "source": [
    "adj_pivot_v2 = pd.pivot_table(adj_current_month,index=['type','date']\n",
    "                              ,columns=['adjustment_type']\n",
    "                              ,values=['adjustment_amount','fees_charged','taxes','amount_due']\n",
    "                              ,aggfunc=np.sum,margins=True)\n",
    "adj_pivot_v2.head()"
   ]
  },
  {
   "cell_type": "markdown",
   "metadata": {},
   "source": [
    "# LIBERACIONES"
   ]
  },
  {
   "cell_type": "code",
   "execution_count": 14,
   "metadata": {},
   "outputs": [
    {
     "data": {
      "text/html": [
       "<div>\n",
       "<style scoped>\n",
       "    .dataframe tbody tr th:only-of-type {\n",
       "        vertical-align: middle;\n",
       "    }\n",
       "\n",
       "    .dataframe tbody tr th {\n",
       "        vertical-align: top;\n",
       "    }\n",
       "\n",
       "    .dataframe thead th {\n",
       "        text-align: right;\n",
       "    }\n",
       "</style>\n",
       "<table border=\"1\" class=\"dataframe\">\n",
       "  <thead>\n",
       "    <tr style=\"text-align: right;\">\n",
       "      <th></th>\n",
       "      <th>date_release</th>\n",
       "      <th>report_date_local</th>\n",
       "      <th>retained_date_local</th>\n",
       "      <th>report_id</th>\n",
       "      <th>entry_type</th>\n",
       "      <th>amount</th>\n",
       "      <th>type</th>\n",
       "      <th>file_name</th>\n",
       "    </tr>\n",
       "  </thead>\n",
       "  <tbody>\n",
       "  </tbody>\n",
       "</table>\n",
       "</div>"
      ],
      "text/plain": [
       "Empty DataFrame\n",
       "Columns: [date_release, report_date_local, retained_date_local, report_id, entry_type, amount, type, file_name]\n",
       "Index: []"
      ]
     },
     "execution_count": 14,
     "metadata": {},
     "output_type": "execute_result"
    }
   ],
   "source": [
    "lib_1 = pd.concat([pd.read_csv(f).assign(file_name=os.path.basename(f)) for f in allfiles_lib])\n",
    "lib_1.head()"
   ]
  },
  {
   "cell_type": "markdown",
   "metadata": {},
   "source": [
    "### CURRENT DATES"
   ]
  },
  {
   "cell_type": "code",
   "execution_count": 15,
   "metadata": {},
   "outputs": [
    {
     "data": {
      "text/html": [
       "<div>\n",
       "<style scoped>\n",
       "    .dataframe tbody tr th:only-of-type {\n",
       "        vertical-align: middle;\n",
       "    }\n",
       "\n",
       "    .dataframe tbody tr th {\n",
       "        vertical-align: top;\n",
       "    }\n",
       "\n",
       "    .dataframe thead th {\n",
       "        text-align: right;\n",
       "    }\n",
       "</style>\n",
       "<table border=\"1\" class=\"dataframe\">\n",
       "  <thead>\n",
       "    <tr style=\"text-align: right;\">\n",
       "      <th></th>\n",
       "      <th>date_release</th>\n",
       "      <th>report_date_local</th>\n",
       "      <th>retained_date_local</th>\n",
       "      <th>report_id</th>\n",
       "      <th>entry_type</th>\n",
       "      <th>amount</th>\n",
       "      <th>type</th>\n",
       "      <th>file_name</th>\n",
       "    </tr>\n",
       "  </thead>\n",
       "  <tbody>\n",
       "  </tbody>\n",
       "</table>\n",
       "</div>"
      ],
      "text/plain": [
       "Empty DataFrame\n",
       "Columns: [date_release, report_date_local, retained_date_local, report_id, entry_type, amount, type, file_name]\n",
       "Index: []"
      ]
     },
     "execution_count": 15,
     "metadata": {},
     "output_type": "execute_result"
    }
   ],
   "source": [
    "lib_current_month = lib_1[(lib_1['report_date_local'] >= start_date) & (lib_1['report_date_local'] <= final_date)]\n",
    "lib_current_month.head()"
   ]
  },
  {
   "cell_type": "code",
   "execution_count": 16,
   "metadata": {},
   "outputs": [
    {
     "data": {
      "text/plain": [
       "(0, 8)"
      ]
     },
     "execution_count": 16,
     "metadata": {},
     "output_type": "execute_result"
    }
   ],
   "source": [
    "lib_current_month.shape"
   ]
  },
  {
   "cell_type": "markdown",
   "metadata": {},
   "source": [
    "### PIVOT"
   ]
  },
  {
   "cell_type": "code",
   "execution_count": 17,
   "metadata": {},
   "outputs": [
    {
     "name": "stderr",
     "output_type": "stream",
     "text": [
      "C:\\Users\\Cristian.Aparicio\\AppData\\Local\\Temp\\ipykernel_5660\\3698445877.py:1: FutureWarning: The provided callable <built-in function sum> is currently using SeriesGroupBy.sum. In a future version of pandas, the provided callable will be used directly. To keep current behavior pass the string \"sum\" instead.\n",
      "  lib_pivot = lib_current_month.groupby(['type','entry_type','report_date_local']).agg({'amount':sum}).reset_index()\n"
     ]
    },
    {
     "data": {
      "text/html": [
       "<div>\n",
       "<style scoped>\n",
       "    .dataframe tbody tr th:only-of-type {\n",
       "        vertical-align: middle;\n",
       "    }\n",
       "\n",
       "    .dataframe tbody tr th {\n",
       "        vertical-align: top;\n",
       "    }\n",
       "\n",
       "    .dataframe thead th {\n",
       "        text-align: right;\n",
       "    }\n",
       "</style>\n",
       "<table border=\"1\" class=\"dataframe\">\n",
       "  <thead>\n",
       "    <tr style=\"text-align: right;\">\n",
       "      <th></th>\n",
       "      <th>type</th>\n",
       "      <th>entry_type</th>\n",
       "      <th>report_date_local</th>\n",
       "      <th>amount</th>\n",
       "    </tr>\n",
       "  </thead>\n",
       "  <tbody>\n",
       "  </tbody>\n",
       "</table>\n",
       "</div>"
      ],
      "text/plain": [
       "Empty DataFrame\n",
       "Columns: [type, entry_type, report_date_local, amount]\n",
       "Index: []"
      ]
     },
     "execution_count": 17,
     "metadata": {},
     "output_type": "execute_result"
    }
   ],
   "source": [
    "lib_pivot = lib_current_month.groupby(['type','entry_type','report_date_local']).agg({'amount':sum}).reset_index()\n",
    "lib_pivot.head()"
   ]
  },
  {
   "cell_type": "code",
   "execution_count": 18,
   "metadata": {},
   "outputs": [
    {
     "data": {
      "text/plain": [
       "(0, 4)"
      ]
     },
     "execution_count": 18,
     "metadata": {},
     "output_type": "execute_result"
    }
   ],
   "source": [
    "lib_pivot.shape"
   ]
  },
  {
   "cell_type": "code",
   "execution_count": 19,
   "metadata": {},
   "outputs": [
    {
     "name": "stderr",
     "output_type": "stream",
     "text": [
      "C:\\Users\\Cristian.Aparicio\\AppData\\Local\\Temp\\ipykernel_5660\\3827261204.py:1: FutureWarning: The provided callable <function sum at 0x000001ADC9717A60> is currently using DataFrameGroupBy.sum. In a future version of pandas, the provided callable will be used directly. To keep current behavior pass the string \"sum\" instead.\n",
      "  lib_pivot_v2 = pd.pivot_table(lib_current_month,index=['type','report_date_local']\n",
      "C:\\Users\\Cristian.Aparicio\\AppData\\Local\\Temp\\ipykernel_5660\\3827261204.py:1: FutureWarning: The provided callable <function sum at 0x000001ADC9717A60> is currently using DataFrameGroupBy.sum. In a future version of pandas, the provided callable will be used directly. To keep current behavior pass the string \"sum\" instead.\n",
      "  lib_pivot_v2 = pd.pivot_table(lib_current_month,index=['type','report_date_local']\n"
     ]
    },
    {
     "data": {
      "text/html": [
       "<div>\n",
       "<style scoped>\n",
       "    .dataframe tbody tr th:only-of-type {\n",
       "        vertical-align: middle;\n",
       "    }\n",
       "\n",
       "    .dataframe tbody tr th {\n",
       "        vertical-align: top;\n",
       "    }\n",
       "\n",
       "    .dataframe thead tr th {\n",
       "        text-align: left;\n",
       "    }\n",
       "\n",
       "    .dataframe thead tr:last-of-type th {\n",
       "        text-align: right;\n",
       "    }\n",
       "</style>\n",
       "<table border=\"1\" class=\"dataframe\">\n",
       "  <thead>\n",
       "    <tr>\n",
       "      <th>type</th>\n",
       "      <th>report_date_local</th>\n",
       "    </tr>\n",
       "  </thead>\n",
       "  <tbody>\n",
       "  </tbody>\n",
       "</table>\n",
       "</div>"
      ],
      "text/plain": [
       "Empty DataFrame\n",
       "Columns: []\n",
       "Index: []"
      ]
     },
     "execution_count": 19,
     "metadata": {},
     "output_type": "execute_result"
    }
   ],
   "source": [
    "lib_pivot_v2 = pd.pivot_table(lib_current_month,index=['type','report_date_local']\n",
    "                              ,columns=['entry_type']\n",
    "                              ,values=['amount']\n",
    "                              ,aggfunc=np.sum,margins=True)\n",
    "lib_pivot_v2.head()"
   ]
  },
  {
   "cell_type": "code",
   "execution_count": 20,
   "metadata": {},
   "outputs": [
    {
     "data": {
      "text/plain": [
       "(0, 0)"
      ]
     },
     "execution_count": 20,
     "metadata": {},
     "output_type": "execute_result"
    }
   ],
   "source": [
    "lib_pivot_v2.shape"
   ]
  },
  {
   "cell_type": "markdown",
   "metadata": {},
   "source": [
    "# RETENCIONES"
   ]
  },
  {
   "cell_type": "code",
   "execution_count": 21,
   "metadata": {},
   "outputs": [
    {
     "data": {
      "text/html": [
       "<div>\n",
       "<style scoped>\n",
       "    .dataframe tbody tr th:only-of-type {\n",
       "        vertical-align: middle;\n",
       "    }\n",
       "\n",
       "    .dataframe tbody tr th {\n",
       "        vertical-align: top;\n",
       "    }\n",
       "\n",
       "    .dataframe thead th {\n",
       "        text-align: right;\n",
       "    }\n",
       "</style>\n",
       "<table border=\"1\" class=\"dataframe\">\n",
       "  <thead>\n",
       "    <tr style=\"text-align: right;\">\n",
       "      <th></th>\n",
       "      <th>date_retainment</th>\n",
       "      <th>report_date_local</th>\n",
       "      <th>report_id</th>\n",
       "      <th>entry_type</th>\n",
       "      <th>amount</th>\n",
       "      <th>type</th>\n",
       "      <th>file_name</th>\n",
       "    </tr>\n",
       "  </thead>\n",
       "  <tbody>\n",
       "  </tbody>\n",
       "</table>\n",
       "</div>"
      ],
      "text/plain": [
       "Empty DataFrame\n",
       "Columns: [date_retainment, report_date_local, report_id, entry_type, amount, type, file_name]\n",
       "Index: []"
      ]
     },
     "execution_count": 21,
     "metadata": {},
     "output_type": "execute_result"
    }
   ],
   "source": [
    "ret_1 = pd.concat([pd.read_csv(f).assign(file_name=os.path.basename(f)) for f in allfiles_ret])\n",
    "ret_1.head()"
   ]
  },
  {
   "cell_type": "markdown",
   "metadata": {},
   "source": [
    "### CURRENT DATES"
   ]
  },
  {
   "cell_type": "code",
   "execution_count": 22,
   "metadata": {},
   "outputs": [
    {
     "data": {
      "text/html": [
       "<div>\n",
       "<style scoped>\n",
       "    .dataframe tbody tr th:only-of-type {\n",
       "        vertical-align: middle;\n",
       "    }\n",
       "\n",
       "    .dataframe tbody tr th {\n",
       "        vertical-align: top;\n",
       "    }\n",
       "\n",
       "    .dataframe thead th {\n",
       "        text-align: right;\n",
       "    }\n",
       "</style>\n",
       "<table border=\"1\" class=\"dataframe\">\n",
       "  <thead>\n",
       "    <tr style=\"text-align: right;\">\n",
       "      <th></th>\n",
       "      <th>date_retainment</th>\n",
       "      <th>report_date_local</th>\n",
       "      <th>report_id</th>\n",
       "      <th>entry_type</th>\n",
       "      <th>amount</th>\n",
       "      <th>type</th>\n",
       "      <th>file_name</th>\n",
       "    </tr>\n",
       "  </thead>\n",
       "  <tbody>\n",
       "  </tbody>\n",
       "</table>\n",
       "</div>"
      ],
      "text/plain": [
       "Empty DataFrame\n",
       "Columns: [date_retainment, report_date_local, report_id, entry_type, amount, type, file_name]\n",
       "Index: []"
      ]
     },
     "execution_count": 22,
     "metadata": {},
     "output_type": "execute_result"
    }
   ],
   "source": [
    "ret_current_month = ret_1[(ret_1['report_date_local'] >= start_date) & (ret_1['report_date_local'] <= final_date)]\n",
    "ret_current_month.head()"
   ]
  },
  {
   "cell_type": "code",
   "execution_count": 23,
   "metadata": {},
   "outputs": [
    {
     "data": {
      "text/plain": [
       "(0, 7)"
      ]
     },
     "execution_count": 23,
     "metadata": {},
     "output_type": "execute_result"
    }
   ],
   "source": [
    "ret_current_month.shape"
   ]
  },
  {
   "cell_type": "markdown",
   "metadata": {},
   "source": [
    "### PIVOT"
   ]
  },
  {
   "cell_type": "code",
   "execution_count": 24,
   "metadata": {},
   "outputs": [
    {
     "name": "stderr",
     "output_type": "stream",
     "text": [
      "C:\\Users\\Cristian.Aparicio\\AppData\\Local\\Temp\\ipykernel_5660\\1381901728.py:1: FutureWarning: The provided callable <built-in function sum> is currently using SeriesGroupBy.sum. In a future version of pandas, the provided callable will be used directly. To keep current behavior pass the string \"sum\" instead.\n",
      "  ret_pivot = ret_current_month.groupby(['type','entry_type','report_date_local']).agg({'amount':sum}).reset_index()\n"
     ]
    },
    {
     "data": {
      "text/html": [
       "<div>\n",
       "<style scoped>\n",
       "    .dataframe tbody tr th:only-of-type {\n",
       "        vertical-align: middle;\n",
       "    }\n",
       "\n",
       "    .dataframe tbody tr th {\n",
       "        vertical-align: top;\n",
       "    }\n",
       "\n",
       "    .dataframe thead th {\n",
       "        text-align: right;\n",
       "    }\n",
       "</style>\n",
       "<table border=\"1\" class=\"dataframe\">\n",
       "  <thead>\n",
       "    <tr style=\"text-align: right;\">\n",
       "      <th></th>\n",
       "      <th>type</th>\n",
       "      <th>entry_type</th>\n",
       "      <th>report_date_local</th>\n",
       "      <th>amount</th>\n",
       "    </tr>\n",
       "  </thead>\n",
       "  <tbody>\n",
       "  </tbody>\n",
       "</table>\n",
       "</div>"
      ],
      "text/plain": [
       "Empty DataFrame\n",
       "Columns: [type, entry_type, report_date_local, amount]\n",
       "Index: []"
      ]
     },
     "execution_count": 24,
     "metadata": {},
     "output_type": "execute_result"
    }
   ],
   "source": [
    "ret_pivot = ret_current_month.groupby(['type','entry_type','report_date_local']).agg({'amount':sum}).reset_index()\n",
    "ret_pivot.head()"
   ]
  },
  {
   "cell_type": "code",
   "execution_count": 25,
   "metadata": {},
   "outputs": [
    {
     "data": {
      "text/plain": [
       "(0, 4)"
      ]
     },
     "execution_count": 25,
     "metadata": {},
     "output_type": "execute_result"
    }
   ],
   "source": [
    "ret_pivot.shape"
   ]
  },
  {
   "cell_type": "code",
   "execution_count": 26,
   "metadata": {},
   "outputs": [
    {
     "name": "stderr",
     "output_type": "stream",
     "text": [
      "C:\\Users\\Cristian.Aparicio\\AppData\\Local\\Temp\\ipykernel_5660\\19373298.py:1: FutureWarning: The provided callable <function sum at 0x000001ADC9717A60> is currently using DataFrameGroupBy.sum. In a future version of pandas, the provided callable will be used directly. To keep current behavior pass the string \"sum\" instead.\n",
      "  ret_pivot_v2 = pd.pivot_table(ret_current_month,index=['type','report_date_local']\n",
      "C:\\Users\\Cristian.Aparicio\\AppData\\Local\\Temp\\ipykernel_5660\\19373298.py:1: FutureWarning: The provided callable <function sum at 0x000001ADC9717A60> is currently using DataFrameGroupBy.sum. In a future version of pandas, the provided callable will be used directly. To keep current behavior pass the string \"sum\" instead.\n",
      "  ret_pivot_v2 = pd.pivot_table(ret_current_month,index=['type','report_date_local']\n"
     ]
    },
    {
     "data": {
      "text/html": [
       "<div>\n",
       "<style scoped>\n",
       "    .dataframe tbody tr th:only-of-type {\n",
       "        vertical-align: middle;\n",
       "    }\n",
       "\n",
       "    .dataframe tbody tr th {\n",
       "        vertical-align: top;\n",
       "    }\n",
       "\n",
       "    .dataframe thead tr th {\n",
       "        text-align: left;\n",
       "    }\n",
       "\n",
       "    .dataframe thead tr:last-of-type th {\n",
       "        text-align: right;\n",
       "    }\n",
       "</style>\n",
       "<table border=\"1\" class=\"dataframe\">\n",
       "  <thead>\n",
       "    <tr>\n",
       "      <th>type</th>\n",
       "      <th>report_date_local</th>\n",
       "    </tr>\n",
       "  </thead>\n",
       "  <tbody>\n",
       "  </tbody>\n",
       "</table>\n",
       "</div>"
      ],
      "text/plain": [
       "Empty DataFrame\n",
       "Columns: []\n",
       "Index: []"
      ]
     },
     "execution_count": 26,
     "metadata": {},
     "output_type": "execute_result"
    }
   ],
   "source": [
    "ret_pivot_v2 = pd.pivot_table(ret_current_month,index=['type','report_date_local']\n",
    "                              ,columns=['entry_type']\n",
    "                              ,values=['amount']\n",
    "                              ,aggfunc=np.sum,margins=True)\n",
    "ret_pivot_v2.head()"
   ]
  },
  {
   "cell_type": "code",
   "execution_count": 27,
   "metadata": {},
   "outputs": [
    {
     "data": {
      "text/plain": [
       "(0, 0)"
      ]
     },
     "execution_count": 27,
     "metadata": {},
     "output_type": "execute_result"
    }
   ],
   "source": [
    "ret_pivot_v2.shape"
   ]
  },
  {
   "cell_type": "markdown",
   "metadata": {},
   "source": [
    "# COMISIONES SWAP / BNTE"
   ]
  },
  {
   "cell_type": "code",
   "execution_count": 28,
   "metadata": {},
   "outputs": [
    {
     "data": {
      "text/html": [
       "<div>\n",
       "<style scoped>\n",
       "    .dataframe tbody tr th:only-of-type {\n",
       "        vertical-align: middle;\n",
       "    }\n",
       "\n",
       "    .dataframe tbody tr th {\n",
       "        vertical-align: top;\n",
       "    }\n",
       "\n",
       "    .dataframe thead th {\n",
       "        text-align: right;\n",
       "    }\n",
       "</style>\n",
       "<table border=\"1\" class=\"dataframe\">\n",
       "  <thead>\n",
       "    <tr style=\"text-align: right;\">\n",
       "      <th></th>\n",
       "      <th>date_disbursement</th>\n",
       "      <th>amount</th>\n",
       "      <th>payments_number</th>\n",
       "      <th>comision_dsp</th>\n",
       "      <th>iva_dsp</th>\n",
       "      <th>comision + iva</th>\n",
       "      <th>total_fondeo</th>\n",
       "      <th>monto_mail</th>\n",
       "      <th>comision_mail</th>\n",
       "      <th>iva_mail</th>\n",
       "      <th>monto_fondeo_mail</th>\n",
       "      <th>check_monto</th>\n",
       "      <th>check_comision</th>\n",
       "      <th>check_iva</th>\n",
       "      <th>check_fondeo</th>\n",
       "      <th>dsp</th>\n",
       "      <th>file_name</th>\n",
       "    </tr>\n",
       "  </thead>\n",
       "  <tbody>\n",
       "    <tr>\n",
       "      <th>0</th>\n",
       "      <td>2024-01-01</td>\n",
       "      <td>234,089,784.29</td>\n",
       "      <td>72728</td>\n",
       "      <td>126,779.40</td>\n",
       "      <td>20,284.70</td>\n",
       "      <td>147,064.10</td>\n",
       "      <td>234,236,848.39</td>\n",
       "      <td>234,089,784.29</td>\n",
       "      <td>126,779.40</td>\n",
       "      <td>20,284.70</td>\n",
       "      <td>234,236,848.39</td>\n",
       "      <td>0.00</td>\n",
       "      <td>0.00</td>\n",
       "      <td>0.00</td>\n",
       "      <td>0.00</td>\n",
       "      <td>BNTE</td>\n",
       "      <td>DIFF MONTOS-BNTE-1 2024-01-01.csv</td>\n",
       "    </tr>\n",
       "    <tr>\n",
       "      <th>0</th>\n",
       "      <td>2024-01-06</td>\n",
       "      <td>250,395,461.60</td>\n",
       "      <td>94799</td>\n",
       "      <td>164,831.70</td>\n",
       "      <td>26,373.07</td>\n",
       "      <td>191,204.77</td>\n",
       "      <td>250,586,666.37</td>\n",
       "      <td>250,395,461.60</td>\n",
       "      <td>164,831.70</td>\n",
       "      <td>26,373.07</td>\n",
       "      <td>250,586,666.37</td>\n",
       "      <td>0.00</td>\n",
       "      <td>0.00</td>\n",
       "      <td>0.00</td>\n",
       "      <td>0.00</td>\n",
       "      <td>BNTE</td>\n",
       "      <td>DIFF MONTOS-BNTE-1 2024-01-06.csv</td>\n",
       "    </tr>\n",
       "    <tr>\n",
       "      <th>0</th>\n",
       "      <td>2024-01-07</td>\n",
       "      <td>249,046,241.56</td>\n",
       "      <td>94813</td>\n",
       "      <td>164,777.40</td>\n",
       "      <td>26,364.38</td>\n",
       "      <td>191,141.78</td>\n",
       "      <td>249,237,383.34</td>\n",
       "      <td>249,046,241.56</td>\n",
       "      <td>164,777.40</td>\n",
       "      <td>26,364.38</td>\n",
       "      <td>249,237,383.34</td>\n",
       "      <td>0.00</td>\n",
       "      <td>0.00</td>\n",
       "      <td>0.00</td>\n",
       "      <td>0.00</td>\n",
       "      <td>BNTE</td>\n",
       "      <td>DIFF MONTOS-BNTE-1 2024-01-07.csv</td>\n",
       "    </tr>\n",
       "    <tr>\n",
       "      <th>0</th>\n",
       "      <td>2024-01-13</td>\n",
       "      <td>234,155,972.12</td>\n",
       "      <td>94823</td>\n",
       "      <td>164,743.65</td>\n",
       "      <td>26,358.98</td>\n",
       "      <td>191,102.63</td>\n",
       "      <td>234,347,074.75</td>\n",
       "      <td>234,155,972.12</td>\n",
       "      <td>164,743.65</td>\n",
       "      <td>26,358.98</td>\n",
       "      <td>234,347,074.75</td>\n",
       "      <td>0.00</td>\n",
       "      <td>0.00</td>\n",
       "      <td>0.00</td>\n",
       "      <td>0.00</td>\n",
       "      <td>BNTE</td>\n",
       "      <td>DIFF MONTOS-BNTE-1 2024-01-13.csv</td>\n",
       "    </tr>\n",
       "    <tr>\n",
       "      <th>0</th>\n",
       "      <td>2024-01-14</td>\n",
       "      <td>265,720,953.84</td>\n",
       "      <td>94810</td>\n",
       "      <td>164,876.25</td>\n",
       "      <td>26,380.20</td>\n",
       "      <td>191,256.45</td>\n",
       "      <td>265,912,210.29</td>\n",
       "      <td>265,720,953.84</td>\n",
       "      <td>164,876.25</td>\n",
       "      <td>26,380.20</td>\n",
       "      <td>265,912,210.29</td>\n",
       "      <td>0.00</td>\n",
       "      <td>0.00</td>\n",
       "      <td>0.00</td>\n",
       "      <td>0.00</td>\n",
       "      <td>BNTE</td>\n",
       "      <td>DIFF MONTOS-BNTE-1 2024-01-14.csv</td>\n",
       "    </tr>\n",
       "  </tbody>\n",
       "</table>\n",
       "</div>"
      ],
      "text/plain": [
       "  date_disbursement         amount  payments_number  comision_dsp   iva_dsp  \\\n",
       "0        2024-01-01 234,089,784.29            72728    126,779.40 20,284.70   \n",
       "0        2024-01-06 250,395,461.60            94799    164,831.70 26,373.07   \n",
       "0        2024-01-07 249,046,241.56            94813    164,777.40 26,364.38   \n",
       "0        2024-01-13 234,155,972.12            94823    164,743.65 26,358.98   \n",
       "0        2024-01-14 265,720,953.84            94810    164,876.25 26,380.20   \n",
       "\n",
       "   comision + iva   total_fondeo     monto_mail  comision_mail  iva_mail  \\\n",
       "0      147,064.10 234,236,848.39 234,089,784.29     126,779.40 20,284.70   \n",
       "0      191,204.77 250,586,666.37 250,395,461.60     164,831.70 26,373.07   \n",
       "0      191,141.78 249,237,383.34 249,046,241.56     164,777.40 26,364.38   \n",
       "0      191,102.63 234,347,074.75 234,155,972.12     164,743.65 26,358.98   \n",
       "0      191,256.45 265,912,210.29 265,720,953.84     164,876.25 26,380.20   \n",
       "\n",
       "   monto_fondeo_mail  check_monto  check_comision  check_iva  check_fondeo  \\\n",
       "0     234,236,848.39         0.00            0.00       0.00          0.00   \n",
       "0     250,586,666.37         0.00            0.00       0.00          0.00   \n",
       "0     249,237,383.34         0.00            0.00       0.00          0.00   \n",
       "0     234,347,074.75         0.00            0.00       0.00          0.00   \n",
       "0     265,912,210.29         0.00            0.00       0.00          0.00   \n",
       "\n",
       "    dsp                          file_name  \n",
       "0  BNTE  DIFF MONTOS-BNTE-1 2024-01-01.csv  \n",
       "0  BNTE  DIFF MONTOS-BNTE-1 2024-01-06.csv  \n",
       "0  BNTE  DIFF MONTOS-BNTE-1 2024-01-07.csv  \n",
       "0  BNTE  DIFF MONTOS-BNTE-1 2024-01-13.csv  \n",
       "0  BNTE  DIFF MONTOS-BNTE-1 2024-01-14.csv  "
      ]
     },
     "execution_count": 28,
     "metadata": {},
     "output_type": "execute_result"
    }
   ],
   "source": [
    "com_1 = pd.concat([pd.read_csv(f).assign(file_name=os.path.basename(f)) for f in allfiles_com])\n",
    "com_1.head()"
   ]
  },
  {
   "cell_type": "code",
   "execution_count": 29,
   "metadata": {},
   "outputs": [
    {
     "data": {
      "text/plain": [
       "(76, 17)"
      ]
     },
     "execution_count": 29,
     "metadata": {},
     "output_type": "execute_result"
    }
   ],
   "source": [
    "com_1.shape"
   ]
  },
  {
   "cell_type": "markdown",
   "metadata": {},
   "source": [
    "### CURRENT DATES"
   ]
  },
  {
   "cell_type": "code",
   "execution_count": 30,
   "metadata": {},
   "outputs": [
    {
     "data": {
      "text/html": [
       "<div>\n",
       "<style scoped>\n",
       "    .dataframe tbody tr th:only-of-type {\n",
       "        vertical-align: middle;\n",
       "    }\n",
       "\n",
       "    .dataframe tbody tr th {\n",
       "        vertical-align: top;\n",
       "    }\n",
       "\n",
       "    .dataframe thead th {\n",
       "        text-align: right;\n",
       "    }\n",
       "</style>\n",
       "<table border=\"1\" class=\"dataframe\">\n",
       "  <thead>\n",
       "    <tr style=\"text-align: right;\">\n",
       "      <th></th>\n",
       "      <th>date_disbursement</th>\n",
       "      <th>amount</th>\n",
       "      <th>payments_number</th>\n",
       "      <th>comision_dsp</th>\n",
       "      <th>iva_dsp</th>\n",
       "      <th>comision + iva</th>\n",
       "      <th>total_fondeo</th>\n",
       "      <th>monto_mail</th>\n",
       "      <th>comision_mail</th>\n",
       "      <th>iva_mail</th>\n",
       "      <th>monto_fondeo_mail</th>\n",
       "      <th>check_monto</th>\n",
       "      <th>check_comision</th>\n",
       "      <th>check_iva</th>\n",
       "      <th>check_fondeo</th>\n",
       "      <th>dsp</th>\n",
       "      <th>file_name</th>\n",
       "    </tr>\n",
       "  </thead>\n",
       "  <tbody>\n",
       "    <tr>\n",
       "      <th>0</th>\n",
       "      <td>2024-01-01</td>\n",
       "      <td>234,089,784.29</td>\n",
       "      <td>72728</td>\n",
       "      <td>126,779.40</td>\n",
       "      <td>20,284.70</td>\n",
       "      <td>147,064.10</td>\n",
       "      <td>234,236,848.39</td>\n",
       "      <td>234,089,784.29</td>\n",
       "      <td>126,779.40</td>\n",
       "      <td>20,284.70</td>\n",
       "      <td>234,236,848.39</td>\n",
       "      <td>0.00</td>\n",
       "      <td>0.00</td>\n",
       "      <td>0.00</td>\n",
       "      <td>0.00</td>\n",
       "      <td>BNTE</td>\n",
       "      <td>DIFF MONTOS-BNTE-1 2024-01-01.csv</td>\n",
       "    </tr>\n",
       "    <tr>\n",
       "      <th>0</th>\n",
       "      <td>2024-01-06</td>\n",
       "      <td>250,395,461.60</td>\n",
       "      <td>94799</td>\n",
       "      <td>164,831.70</td>\n",
       "      <td>26,373.07</td>\n",
       "      <td>191,204.77</td>\n",
       "      <td>250,586,666.37</td>\n",
       "      <td>250,395,461.60</td>\n",
       "      <td>164,831.70</td>\n",
       "      <td>26,373.07</td>\n",
       "      <td>250,586,666.37</td>\n",
       "      <td>0.00</td>\n",
       "      <td>0.00</td>\n",
       "      <td>0.00</td>\n",
       "      <td>0.00</td>\n",
       "      <td>BNTE</td>\n",
       "      <td>DIFF MONTOS-BNTE-1 2024-01-06.csv</td>\n",
       "    </tr>\n",
       "    <tr>\n",
       "      <th>0</th>\n",
       "      <td>2024-01-07</td>\n",
       "      <td>249,046,241.56</td>\n",
       "      <td>94813</td>\n",
       "      <td>164,777.40</td>\n",
       "      <td>26,364.38</td>\n",
       "      <td>191,141.78</td>\n",
       "      <td>249,237,383.34</td>\n",
       "      <td>249,046,241.56</td>\n",
       "      <td>164,777.40</td>\n",
       "      <td>26,364.38</td>\n",
       "      <td>249,237,383.34</td>\n",
       "      <td>0.00</td>\n",
       "      <td>0.00</td>\n",
       "      <td>0.00</td>\n",
       "      <td>0.00</td>\n",
       "      <td>BNTE</td>\n",
       "      <td>DIFF MONTOS-BNTE-1 2024-01-07.csv</td>\n",
       "    </tr>\n",
       "    <tr>\n",
       "      <th>0</th>\n",
       "      <td>2024-01-13</td>\n",
       "      <td>234,155,972.12</td>\n",
       "      <td>94823</td>\n",
       "      <td>164,743.65</td>\n",
       "      <td>26,358.98</td>\n",
       "      <td>191,102.63</td>\n",
       "      <td>234,347,074.75</td>\n",
       "      <td>234,155,972.12</td>\n",
       "      <td>164,743.65</td>\n",
       "      <td>26,358.98</td>\n",
       "      <td>234,347,074.75</td>\n",
       "      <td>0.00</td>\n",
       "      <td>0.00</td>\n",
       "      <td>0.00</td>\n",
       "      <td>0.00</td>\n",
       "      <td>BNTE</td>\n",
       "      <td>DIFF MONTOS-BNTE-1 2024-01-13.csv</td>\n",
       "    </tr>\n",
       "    <tr>\n",
       "      <th>0</th>\n",
       "      <td>2024-01-14</td>\n",
       "      <td>265,720,953.84</td>\n",
       "      <td>94810</td>\n",
       "      <td>164,876.25</td>\n",
       "      <td>26,380.20</td>\n",
       "      <td>191,256.45</td>\n",
       "      <td>265,912,210.29</td>\n",
       "      <td>265,720,953.84</td>\n",
       "      <td>164,876.25</td>\n",
       "      <td>26,380.20</td>\n",
       "      <td>265,912,210.29</td>\n",
       "      <td>0.00</td>\n",
       "      <td>0.00</td>\n",
       "      <td>0.00</td>\n",
       "      <td>0.00</td>\n",
       "      <td>BNTE</td>\n",
       "      <td>DIFF MONTOS-BNTE-1 2024-01-14.csv</td>\n",
       "    </tr>\n",
       "  </tbody>\n",
       "</table>\n",
       "</div>"
      ],
      "text/plain": [
       "  date_disbursement         amount  payments_number  comision_dsp   iva_dsp  \\\n",
       "0        2024-01-01 234,089,784.29            72728    126,779.40 20,284.70   \n",
       "0        2024-01-06 250,395,461.60            94799    164,831.70 26,373.07   \n",
       "0        2024-01-07 249,046,241.56            94813    164,777.40 26,364.38   \n",
       "0        2024-01-13 234,155,972.12            94823    164,743.65 26,358.98   \n",
       "0        2024-01-14 265,720,953.84            94810    164,876.25 26,380.20   \n",
       "\n",
       "   comision + iva   total_fondeo     monto_mail  comision_mail  iva_mail  \\\n",
       "0      147,064.10 234,236,848.39 234,089,784.29     126,779.40 20,284.70   \n",
       "0      191,204.77 250,586,666.37 250,395,461.60     164,831.70 26,373.07   \n",
       "0      191,141.78 249,237,383.34 249,046,241.56     164,777.40 26,364.38   \n",
       "0      191,102.63 234,347,074.75 234,155,972.12     164,743.65 26,358.98   \n",
       "0      191,256.45 265,912,210.29 265,720,953.84     164,876.25 26,380.20   \n",
       "\n",
       "   monto_fondeo_mail  check_monto  check_comision  check_iva  check_fondeo  \\\n",
       "0     234,236,848.39         0.00            0.00       0.00          0.00   \n",
       "0     250,586,666.37         0.00            0.00       0.00          0.00   \n",
       "0     249,237,383.34         0.00            0.00       0.00          0.00   \n",
       "0     234,347,074.75         0.00            0.00       0.00          0.00   \n",
       "0     265,912,210.29         0.00            0.00       0.00          0.00   \n",
       "\n",
       "    dsp                          file_name  \n",
       "0  BNTE  DIFF MONTOS-BNTE-1 2024-01-01.csv  \n",
       "0  BNTE  DIFF MONTOS-BNTE-1 2024-01-06.csv  \n",
       "0  BNTE  DIFF MONTOS-BNTE-1 2024-01-07.csv  \n",
       "0  BNTE  DIFF MONTOS-BNTE-1 2024-01-13.csv  \n",
       "0  BNTE  DIFF MONTOS-BNTE-1 2024-01-14.csv  "
      ]
     },
     "execution_count": 30,
     "metadata": {},
     "output_type": "execute_result"
    }
   ],
   "source": [
    "com_current_month = com_1[(com_1['date_disbursement'] >= start_date) & (com_1['date_disbursement'] <= final_date)]\n",
    "com_current_month.head()"
   ]
  },
  {
   "cell_type": "code",
   "execution_count": 31,
   "metadata": {},
   "outputs": [
    {
     "data": {
      "text/plain": [
       "(76, 17)"
      ]
     },
     "execution_count": 31,
     "metadata": {},
     "output_type": "execute_result"
    }
   ],
   "source": [
    "com_current_month.shape"
   ]
  },
  {
   "cell_type": "code",
   "execution_count": 32,
   "metadata": {},
   "outputs": [
    {
     "data": {
      "text/plain": [
       "Index(['date_disbursement', 'amount', 'payments_number', 'comision_dsp',\n",
       "       'iva_dsp', 'comision + iva', 'total_fondeo', 'monto_mail',\n",
       "       'comision_mail', 'iva_mail', 'monto_fondeo_mail', 'check_monto',\n",
       "       'check_comision', 'check_iva', 'check_fondeo', 'dsp', 'file_name'],\n",
       "      dtype='object')"
      ]
     },
     "execution_count": 32,
     "metadata": {},
     "output_type": "execute_result"
    }
   ],
   "source": [
    "com_current_month.columns"
   ]
  },
  {
   "cell_type": "code",
   "execution_count": 33,
   "metadata": {},
   "outputs": [
    {
     "name": "stderr",
     "output_type": "stream",
     "text": [
      "C:\\Users\\Cristian.Aparicio\\AppData\\Local\\Temp\\ipykernel_5660\\91613238.py:1: FutureWarning: The provided callable <built-in function sum> is currently using SeriesGroupBy.sum. In a future version of pandas, the provided callable will be used directly. To keep current behavior pass the string \"sum\" instead.\n",
      "  com_final = com_current_month.groupby(['date_disbursement']).agg({'payments_number':sum,'amount':sum,'comision_dsp':sum,\n",
      "C:\\Users\\Cristian.Aparicio\\AppData\\Local\\Temp\\ipykernel_5660\\91613238.py:1: FutureWarning: The provided callable <built-in function sum> is currently using SeriesGroupBy.sum. In a future version of pandas, the provided callable will be used directly. To keep current behavior pass the string \"sum\" instead.\n",
      "  com_final = com_current_month.groupby(['date_disbursement']).agg({'payments_number':sum,'amount':sum,'comision_dsp':sum,\n"
     ]
    },
    {
     "data": {
      "text/html": [
       "<div>\n",
       "<style scoped>\n",
       "    .dataframe tbody tr th:only-of-type {\n",
       "        vertical-align: middle;\n",
       "    }\n",
       "\n",
       "    .dataframe tbody tr th {\n",
       "        vertical-align: top;\n",
       "    }\n",
       "\n",
       "    .dataframe thead th {\n",
       "        text-align: right;\n",
       "    }\n",
       "</style>\n",
       "<table border=\"1\" class=\"dataframe\">\n",
       "  <thead>\n",
       "    <tr style=\"text-align: right;\">\n",
       "      <th></th>\n",
       "      <th>date_disbursement</th>\n",
       "      <th>payments_number</th>\n",
       "      <th>amount</th>\n",
       "      <th>comision_dsp</th>\n",
       "      <th>iva_dsp</th>\n",
       "      <th>comision + iva</th>\n",
       "      <th>total_fondeo</th>\n",
       "      <th>monto_mail</th>\n",
       "      <th>comision_mail</th>\n",
       "      <th>iva_mail</th>\n",
       "      <th>monto_fondeo_mail</th>\n",
       "      <th>check_monto</th>\n",
       "      <th>check_comision</th>\n",
       "      <th>check_iva</th>\n",
       "      <th>check_fondeo</th>\n",
       "    </tr>\n",
       "  </thead>\n",
       "  <tbody>\n",
       "    <tr>\n",
       "      <th>0</th>\n",
       "      <td>2024-01-01</td>\n",
       "      <td>73014</td>\n",
       "      <td>234,559,767.84</td>\n",
       "      <td>127,271.70</td>\n",
       "      <td>20,363.47</td>\n",
       "      <td>147,635.17</td>\n",
       "      <td>234,707,403.01</td>\n",
       "      <td>234,559,767.84</td>\n",
       "      <td>127,271.70</td>\n",
       "      <td>20,363.47</td>\n",
       "      <td>234,707,403.01</td>\n",
       "      <td>0.00</td>\n",
       "      <td>0.00</td>\n",
       "      <td>0.00</td>\n",
       "      <td>0.00</td>\n",
       "    </tr>\n",
       "    <tr>\n",
       "      <th>1</th>\n",
       "      <td>2024-01-02</td>\n",
       "      <td>36243</td>\n",
       "      <td>127,923,371.85</td>\n",
       "      <td>18,970.75</td>\n",
       "      <td>3,035.32</td>\n",
       "      <td>22,006.07</td>\n",
       "      <td>127,945,377.92</td>\n",
       "      <td>127,923,371.85</td>\n",
       "      <td>18,970.75</td>\n",
       "      <td>3,035.32</td>\n",
       "      <td>127,945,377.92</td>\n",
       "      <td>0.00</td>\n",
       "      <td>0.00</td>\n",
       "      <td>0.00</td>\n",
       "      <td>0.00</td>\n",
       "    </tr>\n",
       "    <tr>\n",
       "      <th>2</th>\n",
       "      <td>2024-01-03</td>\n",
       "      <td>89616</td>\n",
       "      <td>233,413,057.92</td>\n",
       "      <td>45,464.65</td>\n",
       "      <td>7,274.34</td>\n",
       "      <td>52,738.99</td>\n",
       "      <td>233,465,796.91</td>\n",
       "      <td>233,413,057.92</td>\n",
       "      <td>45,464.65</td>\n",
       "      <td>7,274.34</td>\n",
       "      <td>233,465,796.91</td>\n",
       "      <td>0.00</td>\n",
       "      <td>0.00</td>\n",
       "      <td>0.00</td>\n",
       "      <td>0.00</td>\n",
       "    </tr>\n",
       "    <tr>\n",
       "      <th>3</th>\n",
       "      <td>2024-01-04</td>\n",
       "      <td>97372</td>\n",
       "      <td>245,110,495.98</td>\n",
       "      <td>49,275.15</td>\n",
       "      <td>7,884.02</td>\n",
       "      <td>57,159.17</td>\n",
       "      <td>245,167,655.15</td>\n",
       "      <td>245,110,495.98</td>\n",
       "      <td>49,275.15</td>\n",
       "      <td>7,884.02</td>\n",
       "      <td>245,167,655.15</td>\n",
       "      <td>0.00</td>\n",
       "      <td>0.00</td>\n",
       "      <td>0.00</td>\n",
       "      <td>0.00</td>\n",
       "    </tr>\n",
       "    <tr>\n",
       "      <th>4</th>\n",
       "      <td>2024-01-05</td>\n",
       "      <td>102299</td>\n",
       "      <td>254,237,668.57</td>\n",
       "      <td>51,831.25</td>\n",
       "      <td>8,293.00</td>\n",
       "      <td>60,124.25</td>\n",
       "      <td>254,297,792.82</td>\n",
       "      <td>254,237,668.57</td>\n",
       "      <td>51,831.25</td>\n",
       "      <td>8,293.00</td>\n",
       "      <td>254,297,792.82</td>\n",
       "      <td>0.00</td>\n",
       "      <td>0.00</td>\n",
       "      <td>0.00</td>\n",
       "      <td>0.00</td>\n",
       "    </tr>\n",
       "  </tbody>\n",
       "</table>\n",
       "</div>"
      ],
      "text/plain": [
       "  date_disbursement  payments_number         amount  comision_dsp   iva_dsp  \\\n",
       "0        2024-01-01            73014 234,559,767.84    127,271.70 20,363.47   \n",
       "1        2024-01-02            36243 127,923,371.85     18,970.75  3,035.32   \n",
       "2        2024-01-03            89616 233,413,057.92     45,464.65  7,274.34   \n",
       "3        2024-01-04            97372 245,110,495.98     49,275.15  7,884.02   \n",
       "4        2024-01-05           102299 254,237,668.57     51,831.25  8,293.00   \n",
       "\n",
       "   comision + iva   total_fondeo     monto_mail  comision_mail  iva_mail  \\\n",
       "0      147,635.17 234,707,403.01 234,559,767.84     127,271.70 20,363.47   \n",
       "1       22,006.07 127,945,377.92 127,923,371.85      18,970.75  3,035.32   \n",
       "2       52,738.99 233,465,796.91 233,413,057.92      45,464.65  7,274.34   \n",
       "3       57,159.17 245,167,655.15 245,110,495.98      49,275.15  7,884.02   \n",
       "4       60,124.25 254,297,792.82 254,237,668.57      51,831.25  8,293.00   \n",
       "\n",
       "   monto_fondeo_mail  check_monto  check_comision  check_iva  check_fondeo  \n",
       "0     234,707,403.01         0.00            0.00       0.00          0.00  \n",
       "1     127,945,377.92         0.00            0.00       0.00          0.00  \n",
       "2     233,465,796.91         0.00            0.00       0.00          0.00  \n",
       "3     245,167,655.15         0.00            0.00       0.00          0.00  \n",
       "4     254,297,792.82         0.00            0.00       0.00          0.00  "
      ]
     },
     "execution_count": 33,
     "metadata": {},
     "output_type": "execute_result"
    }
   ],
   "source": [
    "com_final = com_current_month.groupby(['date_disbursement']).agg({'payments_number':sum,'amount':sum,'comision_dsp':sum,\n",
    "                                                                  'iva_dsp':sum,'comision + iva':sum,'total_fondeo':sum,\n",
    "                                                                 'monto_mail':sum,'comision_mail':sum,'iva_mail':sum,\n",
    "                                                                 'monto_fondeo_mail':sum,'check_monto':sum,'check_comision':sum,\n",
    "                                                                 'check_iva':sum,'check_fondeo':sum}).reset_index()\n",
    "com_final.head()"
   ]
  },
  {
   "cell_type": "markdown",
   "metadata": {},
   "source": [
    "# LENDERS"
   ]
  },
  {
   "cell_type": "code",
   "execution_count": 34,
   "metadata": {},
   "outputs": [
    {
     "data": {
      "text/html": [
       "<div>\n",
       "<style scoped>\n",
       "    .dataframe tbody tr th:only-of-type {\n",
       "        vertical-align: middle;\n",
       "    }\n",
       "\n",
       "    .dataframe tbody tr th {\n",
       "        vertical-align: top;\n",
       "    }\n",
       "\n",
       "    .dataframe thead th {\n",
       "        text-align: right;\n",
       "    }\n",
       "</style>\n",
       "<table border=\"1\" class=\"dataframe\">\n",
       "  <thead>\n",
       "    <tr style=\"text-align: right;\">\n",
       "      <th></th>\n",
       "      <th>collection_date_local</th>\n",
       "      <th>merchant_token</th>\n",
       "      <th>merchant_id</th>\n",
       "      <th>loan_id</th>\n",
       "      <th>provider_code</th>\n",
       "      <th>collection_origin</th>\n",
       "      <th>source</th>\n",
       "      <th>funded_by</th>\n",
       "      <th>amount</th>\n",
       "      <th>capital</th>\n",
       "      <th>interest</th>\n",
       "      <th>tax</th>\n",
       "      <th>file_name</th>\n",
       "    </tr>\n",
       "  </thead>\n",
       "  <tbody>\n",
       "    <tr>\n",
       "      <th>0</th>\n",
       "      <td>2024-01-01</td>\n",
       "      <td>4171ac9e-d2a7-457d-9dad-cbbd2b3049fe</td>\n",
       "      <td>cee63265-299e-4dcb-a0d4-2b0e43653a07</td>\n",
       "      <td>04a5f069-8234-477e-8f44-9547b3d7f6ad</td>\n",
       "      <td>MRP</td>\n",
       "      <td>SETTLEMENT</td>\n",
       "      <td>LEDGER</td>\n",
       "      <td>MRP</td>\n",
       "      <td>21.27</td>\n",
       "      <td>14.52</td>\n",
       "      <td>5.82</td>\n",
       "      <td>0.93</td>\n",
       "      <td>LENDERS DB ENERO 2024.csv</td>\n",
       "    </tr>\n",
       "    <tr>\n",
       "      <th>1</th>\n",
       "      <td>2024-01-01</td>\n",
       "      <td>4a333e93-915a-4083-bcde-647d7fe8cff9</td>\n",
       "      <td>8246a480-c002-48f8-a603-dd9d3b22b6fe</td>\n",
       "      <td>715240cf-f5bc-4be9-ae3a-c8436dc15119</td>\n",
       "      <td>CLIP</td>\n",
       "      <td>SETTLEMENT</td>\n",
       "      <td>LEDGER</td>\n",
       "      <td>CLIP</td>\n",
       "      <td>25.07</td>\n",
       "      <td>19.26</td>\n",
       "      <td>0.00</td>\n",
       "      <td>0.00</td>\n",
       "      <td>LENDERS DB ENERO 2024.csv</td>\n",
       "    </tr>\n",
       "    <tr>\n",
       "      <th>2</th>\n",
       "      <td>2024-01-01</td>\n",
       "      <td>f756fdd9-8624-4903-99ad-363d28f039a5</td>\n",
       "      <td>4bec7abe-dedb-4ef0-8ec4-6e1e1b545b42</td>\n",
       "      <td>c74ce46c-2028-4da2-a680-75dda6255c5f</td>\n",
       "      <td>CLIP</td>\n",
       "      <td>SETTLEMENT</td>\n",
       "      <td>LEDGER</td>\n",
       "      <td>CLIP</td>\n",
       "      <td>5.75</td>\n",
       "      <td>4.42</td>\n",
       "      <td>1.15</td>\n",
       "      <td>0.18</td>\n",
       "      <td>LENDERS DB ENERO 2024.csv</td>\n",
       "    </tr>\n",
       "    <tr>\n",
       "      <th>3</th>\n",
       "      <td>2024-01-01</td>\n",
       "      <td>ab290964-0efb-421e-a8e6-7b33e66e424e</td>\n",
       "      <td>3bcce3f1-9fde-4dc0-a6e3-0963e810ab04</td>\n",
       "      <td>6568a9b3-bd5c-4331-ae22-7350aef84ea7</td>\n",
       "      <td>MRP</td>\n",
       "      <td>SETTLEMENT</td>\n",
       "      <td>LEDGER</td>\n",
       "      <td>CLIP</td>\n",
       "      <td>19.17</td>\n",
       "      <td>13.23</td>\n",
       "      <td>5.12</td>\n",
       "      <td>0.82</td>\n",
       "      <td>LENDERS DB ENERO 2024.csv</td>\n",
       "    </tr>\n",
       "    <tr>\n",
       "      <th>4</th>\n",
       "      <td>2024-01-01</td>\n",
       "      <td>172172e1-89e7-4681-b33a-ac14bfbdc3d3</td>\n",
       "      <td>bcb8ee38-6b43-4667-b429-e629a3e726b6</td>\n",
       "      <td>bc531061-5de2-4d88-94fa-a04963f9df73</td>\n",
       "      <td>MRP</td>\n",
       "      <td>SETTLEMENT</td>\n",
       "      <td>LEDGER</td>\n",
       "      <td>CLIP</td>\n",
       "      <td>13.42</td>\n",
       "      <td>11.17</td>\n",
       "      <td>1.94</td>\n",
       "      <td>0.31</td>\n",
       "      <td>LENDERS DB ENERO 2024.csv</td>\n",
       "    </tr>\n",
       "  </tbody>\n",
       "</table>\n",
       "</div>"
      ],
      "text/plain": [
       "  collection_date_local                        merchant_token  \\\n",
       "0            2024-01-01  4171ac9e-d2a7-457d-9dad-cbbd2b3049fe   \n",
       "1            2024-01-01  4a333e93-915a-4083-bcde-647d7fe8cff9   \n",
       "2            2024-01-01  f756fdd9-8624-4903-99ad-363d28f039a5   \n",
       "3            2024-01-01  ab290964-0efb-421e-a8e6-7b33e66e424e   \n",
       "4            2024-01-01  172172e1-89e7-4681-b33a-ac14bfbdc3d3   \n",
       "\n",
       "                            merchant_id                               loan_id  \\\n",
       "0  cee63265-299e-4dcb-a0d4-2b0e43653a07  04a5f069-8234-477e-8f44-9547b3d7f6ad   \n",
       "1  8246a480-c002-48f8-a603-dd9d3b22b6fe  715240cf-f5bc-4be9-ae3a-c8436dc15119   \n",
       "2  4bec7abe-dedb-4ef0-8ec4-6e1e1b545b42  c74ce46c-2028-4da2-a680-75dda6255c5f   \n",
       "3  3bcce3f1-9fde-4dc0-a6e3-0963e810ab04  6568a9b3-bd5c-4331-ae22-7350aef84ea7   \n",
       "4  bcb8ee38-6b43-4667-b429-e629a3e726b6  bc531061-5de2-4d88-94fa-a04963f9df73   \n",
       "\n",
       "  provider_code collection_origin  source funded_by  amount  capital  \\\n",
       "0           MRP        SETTLEMENT  LEDGER       MRP   21.27    14.52   \n",
       "1          CLIP        SETTLEMENT  LEDGER      CLIP   25.07    19.26   \n",
       "2          CLIP        SETTLEMENT  LEDGER      CLIP    5.75     4.42   \n",
       "3           MRP        SETTLEMENT  LEDGER      CLIP   19.17    13.23   \n",
       "4           MRP        SETTLEMENT  LEDGER      CLIP   13.42    11.17   \n",
       "\n",
       "   interest  tax                  file_name  \n",
       "0      5.82 0.93  LENDERS DB ENERO 2024.csv  \n",
       "1      0.00 0.00  LENDERS DB ENERO 2024.csv  \n",
       "2      1.15 0.18  LENDERS DB ENERO 2024.csv  \n",
       "3      5.12 0.82  LENDERS DB ENERO 2024.csv  \n",
       "4      1.94 0.31  LENDERS DB ENERO 2024.csv  "
      ]
     },
     "execution_count": 34,
     "metadata": {},
     "output_type": "execute_result"
    }
   ],
   "source": [
    "lender_1 = pd.concat([pd.read_csv(f).assign(file_name=os.path.basename(f)) for f in allfiles_lender])\n",
    "lender_1.columns = lender_1.columns.str.strip().str.lower() \n",
    "lender_1.head()"
   ]
  },
  {
   "cell_type": "code",
   "execution_count": 35,
   "metadata": {},
   "outputs": [
    {
     "data": {
      "text/plain": [
       "(1147398, 13)"
      ]
     },
     "execution_count": 35,
     "metadata": {},
     "output_type": "execute_result"
    }
   ],
   "source": [
    "lender_1.shape"
   ]
  },
  {
   "cell_type": "code",
   "execution_count": 36,
   "metadata": {},
   "outputs": [
    {
     "data": {
      "text/plain": [
       "array(['LEDGER'], dtype=object)"
      ]
     },
     "execution_count": 36,
     "metadata": {},
     "output_type": "execute_result"
    }
   ],
   "source": [
    "lender_1['source'].unique()"
   ]
  },
  {
   "cell_type": "markdown",
   "metadata": {},
   "source": [
    "### CURRENT DATES"
   ]
  },
  {
   "cell_type": "code",
   "execution_count": 37,
   "metadata": {},
   "outputs": [
    {
     "data": {
      "text/html": [
       "<div>\n",
       "<style scoped>\n",
       "    .dataframe tbody tr th:only-of-type {\n",
       "        vertical-align: middle;\n",
       "    }\n",
       "\n",
       "    .dataframe tbody tr th {\n",
       "        vertical-align: top;\n",
       "    }\n",
       "\n",
       "    .dataframe thead th {\n",
       "        text-align: right;\n",
       "    }\n",
       "</style>\n",
       "<table border=\"1\" class=\"dataframe\">\n",
       "  <thead>\n",
       "    <tr style=\"text-align: right;\">\n",
       "      <th></th>\n",
       "      <th>collection_date_local</th>\n",
       "      <th>merchant_token</th>\n",
       "      <th>merchant_id</th>\n",
       "      <th>loan_id</th>\n",
       "      <th>provider_code</th>\n",
       "      <th>collection_origin</th>\n",
       "      <th>source</th>\n",
       "      <th>funded_by</th>\n",
       "      <th>amount</th>\n",
       "      <th>capital</th>\n",
       "      <th>interest</th>\n",
       "      <th>tax</th>\n",
       "      <th>file_name</th>\n",
       "    </tr>\n",
       "  </thead>\n",
       "  <tbody>\n",
       "    <tr>\n",
       "      <th>0</th>\n",
       "      <td>2024-01-01</td>\n",
       "      <td>4171ac9e-d2a7-457d-9dad-cbbd2b3049fe</td>\n",
       "      <td>cee63265-299e-4dcb-a0d4-2b0e43653a07</td>\n",
       "      <td>04a5f069-8234-477e-8f44-9547b3d7f6ad</td>\n",
       "      <td>MRP</td>\n",
       "      <td>SETTLEMENT</td>\n",
       "      <td>LEDGER</td>\n",
       "      <td>MRP</td>\n",
       "      <td>21.27</td>\n",
       "      <td>14.52</td>\n",
       "      <td>5.82</td>\n",
       "      <td>0.93</td>\n",
       "      <td>LENDERS DB ENERO 2024.csv</td>\n",
       "    </tr>\n",
       "    <tr>\n",
       "      <th>1</th>\n",
       "      <td>2024-01-01</td>\n",
       "      <td>4a333e93-915a-4083-bcde-647d7fe8cff9</td>\n",
       "      <td>8246a480-c002-48f8-a603-dd9d3b22b6fe</td>\n",
       "      <td>715240cf-f5bc-4be9-ae3a-c8436dc15119</td>\n",
       "      <td>CLIP</td>\n",
       "      <td>SETTLEMENT</td>\n",
       "      <td>LEDGER</td>\n",
       "      <td>CLIP</td>\n",
       "      <td>25.07</td>\n",
       "      <td>19.26</td>\n",
       "      <td>0.00</td>\n",
       "      <td>0.00</td>\n",
       "      <td>LENDERS DB ENERO 2024.csv</td>\n",
       "    </tr>\n",
       "    <tr>\n",
       "      <th>2</th>\n",
       "      <td>2024-01-01</td>\n",
       "      <td>f756fdd9-8624-4903-99ad-363d28f039a5</td>\n",
       "      <td>4bec7abe-dedb-4ef0-8ec4-6e1e1b545b42</td>\n",
       "      <td>c74ce46c-2028-4da2-a680-75dda6255c5f</td>\n",
       "      <td>CLIP</td>\n",
       "      <td>SETTLEMENT</td>\n",
       "      <td>LEDGER</td>\n",
       "      <td>CLIP</td>\n",
       "      <td>5.75</td>\n",
       "      <td>4.42</td>\n",
       "      <td>1.15</td>\n",
       "      <td>0.18</td>\n",
       "      <td>LENDERS DB ENERO 2024.csv</td>\n",
       "    </tr>\n",
       "    <tr>\n",
       "      <th>3</th>\n",
       "      <td>2024-01-01</td>\n",
       "      <td>ab290964-0efb-421e-a8e6-7b33e66e424e</td>\n",
       "      <td>3bcce3f1-9fde-4dc0-a6e3-0963e810ab04</td>\n",
       "      <td>6568a9b3-bd5c-4331-ae22-7350aef84ea7</td>\n",
       "      <td>MRP</td>\n",
       "      <td>SETTLEMENT</td>\n",
       "      <td>LEDGER</td>\n",
       "      <td>CLIP</td>\n",
       "      <td>19.17</td>\n",
       "      <td>13.23</td>\n",
       "      <td>5.12</td>\n",
       "      <td>0.82</td>\n",
       "      <td>LENDERS DB ENERO 2024.csv</td>\n",
       "    </tr>\n",
       "    <tr>\n",
       "      <th>4</th>\n",
       "      <td>2024-01-01</td>\n",
       "      <td>172172e1-89e7-4681-b33a-ac14bfbdc3d3</td>\n",
       "      <td>bcb8ee38-6b43-4667-b429-e629a3e726b6</td>\n",
       "      <td>bc531061-5de2-4d88-94fa-a04963f9df73</td>\n",
       "      <td>MRP</td>\n",
       "      <td>SETTLEMENT</td>\n",
       "      <td>LEDGER</td>\n",
       "      <td>CLIP</td>\n",
       "      <td>13.42</td>\n",
       "      <td>11.17</td>\n",
       "      <td>1.94</td>\n",
       "      <td>0.31</td>\n",
       "      <td>LENDERS DB ENERO 2024.csv</td>\n",
       "    </tr>\n",
       "  </tbody>\n",
       "</table>\n",
       "</div>"
      ],
      "text/plain": [
       "  collection_date_local                        merchant_token  \\\n",
       "0            2024-01-01  4171ac9e-d2a7-457d-9dad-cbbd2b3049fe   \n",
       "1            2024-01-01  4a333e93-915a-4083-bcde-647d7fe8cff9   \n",
       "2            2024-01-01  f756fdd9-8624-4903-99ad-363d28f039a5   \n",
       "3            2024-01-01  ab290964-0efb-421e-a8e6-7b33e66e424e   \n",
       "4            2024-01-01  172172e1-89e7-4681-b33a-ac14bfbdc3d3   \n",
       "\n",
       "                            merchant_id                               loan_id  \\\n",
       "0  cee63265-299e-4dcb-a0d4-2b0e43653a07  04a5f069-8234-477e-8f44-9547b3d7f6ad   \n",
       "1  8246a480-c002-48f8-a603-dd9d3b22b6fe  715240cf-f5bc-4be9-ae3a-c8436dc15119   \n",
       "2  4bec7abe-dedb-4ef0-8ec4-6e1e1b545b42  c74ce46c-2028-4da2-a680-75dda6255c5f   \n",
       "3  3bcce3f1-9fde-4dc0-a6e3-0963e810ab04  6568a9b3-bd5c-4331-ae22-7350aef84ea7   \n",
       "4  bcb8ee38-6b43-4667-b429-e629a3e726b6  bc531061-5de2-4d88-94fa-a04963f9df73   \n",
       "\n",
       "  provider_code collection_origin  source funded_by  amount  capital  \\\n",
       "0           MRP        SETTLEMENT  LEDGER       MRP   21.27    14.52   \n",
       "1          CLIP        SETTLEMENT  LEDGER      CLIP   25.07    19.26   \n",
       "2          CLIP        SETTLEMENT  LEDGER      CLIP    5.75     4.42   \n",
       "3           MRP        SETTLEMENT  LEDGER      CLIP   19.17    13.23   \n",
       "4           MRP        SETTLEMENT  LEDGER      CLIP   13.42    11.17   \n",
       "\n",
       "   interest  tax                  file_name  \n",
       "0      5.82 0.93  LENDERS DB ENERO 2024.csv  \n",
       "1      0.00 0.00  LENDERS DB ENERO 2024.csv  \n",
       "2      1.15 0.18  LENDERS DB ENERO 2024.csv  \n",
       "3      5.12 0.82  LENDERS DB ENERO 2024.csv  \n",
       "4      1.94 0.31  LENDERS DB ENERO 2024.csv  "
      ]
     },
     "execution_count": 37,
     "metadata": {},
     "output_type": "execute_result"
    }
   ],
   "source": [
    "lender_current_month = lender_1[(lender_1['collection_date_local'] >= start_date) &\n",
    "                                (lender_1['collection_date_local'] <= final_date)]\n",
    "lender_current_month.head()"
   ]
  },
  {
   "cell_type": "code",
   "execution_count": 38,
   "metadata": {},
   "outputs": [
    {
     "data": {
      "text/plain": [
       "(1147398, 13)"
      ]
     },
     "execution_count": 38,
     "metadata": {},
     "output_type": "execute_result"
    }
   ],
   "source": [
    "lender_current_month.shape"
   ]
  },
  {
   "cell_type": "code",
   "execution_count": 39,
   "metadata": {},
   "outputs": [
    {
     "data": {
      "text/plain": [
       "array(['MRP', 'CLIP', 'R2', 'CTO', 'APH', 'AVL'], dtype=object)"
      ]
     },
     "execution_count": 39,
     "metadata": {},
     "output_type": "execute_result"
    }
   ],
   "source": [
    "lender_current_month['provider_code'].unique()"
   ]
  },
  {
   "cell_type": "markdown",
   "metadata": {},
   "source": [
    "### PIVOT POR PROVIDER CODE"
   ]
  },
  {
   "cell_type": "code",
   "execution_count": 40,
   "metadata": {},
   "outputs": [
    {
     "name": "stderr",
     "output_type": "stream",
     "text": [
      "C:\\Users\\Cristian.Aparicio\\AppData\\Local\\Temp\\ipykernel_5660\\1428468905.py:1: FutureWarning: The provided callable <built-in function sum> is currently using SeriesGroupBy.sum. In a future version of pandas, the provided callable will be used directly. To keep current behavior pass the string \"sum\" instead.\n",
      "  lender_pivot_provider_code = lender_current_month.groupby(['collection_date_local','provider_code']).agg({'amount':sum,\n",
      "C:\\Users\\Cristian.Aparicio\\AppData\\Local\\Temp\\ipykernel_5660\\1428468905.py:1: FutureWarning: The provided callable <built-in function sum> is currently using SeriesGroupBy.sum. In a future version of pandas, the provided callable will be used directly. To keep current behavior pass the string \"sum\" instead.\n",
      "  lender_pivot_provider_code = lender_current_month.groupby(['collection_date_local','provider_code']).agg({'amount':sum,\n"
     ]
    },
    {
     "data": {
      "text/html": [
       "<div>\n",
       "<style scoped>\n",
       "    .dataframe tbody tr th:only-of-type {\n",
       "        vertical-align: middle;\n",
       "    }\n",
       "\n",
       "    .dataframe tbody tr th {\n",
       "        vertical-align: top;\n",
       "    }\n",
       "\n",
       "    .dataframe thead th {\n",
       "        text-align: right;\n",
       "    }\n",
       "</style>\n",
       "<table border=\"1\" class=\"dataframe\">\n",
       "  <thead>\n",
       "    <tr style=\"text-align: right;\">\n",
       "      <th></th>\n",
       "      <th>collection_date_local</th>\n",
       "      <th>provider_code</th>\n",
       "      <th>amount</th>\n",
       "      <th>capital</th>\n",
       "      <th>interest</th>\n",
       "      <th>tax</th>\n",
       "    </tr>\n",
       "  </thead>\n",
       "  <tbody>\n",
       "    <tr>\n",
       "      <th>0</th>\n",
       "      <td>2024-01-01</td>\n",
       "      <td>APH</td>\n",
       "      <td>15.33</td>\n",
       "      <td>10.07</td>\n",
       "      <td>5.26</td>\n",
       "      <td>0.00</td>\n",
       "    </tr>\n",
       "    <tr>\n",
       "      <th>1</th>\n",
       "      <td>2024-01-01</td>\n",
       "      <td>CLIP</td>\n",
       "      <td>299,291.40</td>\n",
       "      <td>228,643.21</td>\n",
       "      <td>42,109.10</td>\n",
       "      <td>6,737.24</td>\n",
       "    </tr>\n",
       "    <tr>\n",
       "      <th>2</th>\n",
       "      <td>2024-01-01</td>\n",
       "      <td>CTO</td>\n",
       "      <td>1,118.28</td>\n",
       "      <td>676.73</td>\n",
       "      <td>380.64</td>\n",
       "      <td>60.91</td>\n",
       "    </tr>\n",
       "    <tr>\n",
       "      <th>3</th>\n",
       "      <td>2024-01-01</td>\n",
       "      <td>MRP</td>\n",
       "      <td>297,044.55</td>\n",
       "      <td>219,821.47</td>\n",
       "      <td>66,592.45</td>\n",
       "      <td>10,630.63</td>\n",
       "    </tr>\n",
       "    <tr>\n",
       "      <th>4</th>\n",
       "      <td>2024-01-01</td>\n",
       "      <td>R2</td>\n",
       "      <td>323,639.66</td>\n",
       "      <td>241,565.05</td>\n",
       "      <td>70,753.89</td>\n",
       "      <td>11,320.72</td>\n",
       "    </tr>\n",
       "  </tbody>\n",
       "</table>\n",
       "</div>"
      ],
      "text/plain": [
       "  collection_date_local provider_code     amount    capital  interest  \\\n",
       "0            2024-01-01           APH      15.33      10.07      5.26   \n",
       "1            2024-01-01          CLIP 299,291.40 228,643.21 42,109.10   \n",
       "2            2024-01-01           CTO   1,118.28     676.73    380.64   \n",
       "3            2024-01-01           MRP 297,044.55 219,821.47 66,592.45   \n",
       "4            2024-01-01            R2 323,639.66 241,565.05 70,753.89   \n",
       "\n",
       "        tax  \n",
       "0      0.00  \n",
       "1  6,737.24  \n",
       "2     60.91  \n",
       "3 10,630.63  \n",
       "4 11,320.72  "
      ]
     },
     "execution_count": 40,
     "metadata": {},
     "output_type": "execute_result"
    }
   ],
   "source": [
    "lender_pivot_provider_code = lender_current_month.groupby(['collection_date_local','provider_code']).agg({'amount':sum,\n",
    "                                                                                                          'capital':sum,\n",
    "                                                                                                          'interest':sum,\n",
    "                                                                                                          'tax':sum}).reset_index()\n",
    "lender_pivot_provider_code.head()"
   ]
  },
  {
   "cell_type": "code",
   "execution_count": 41,
   "metadata": {},
   "outputs": [
    {
     "data": {
      "text/plain": [
       "(168, 6)"
      ]
     },
     "execution_count": 41,
     "metadata": {},
     "output_type": "execute_result"
    }
   ],
   "source": [
    "lender_pivot_provider_code.shape"
   ]
  },
  {
   "cell_type": "markdown",
   "metadata": {},
   "source": [
    "### PIVOT CLIP"
   ]
  },
  {
   "cell_type": "code",
   "execution_count": 42,
   "metadata": {},
   "outputs": [],
   "source": [
    "lender_clip = lender_current_month[(lender_current_month['provider_code'] == 'CLIP')]"
   ]
  },
  {
   "cell_type": "code",
   "execution_count": 43,
   "metadata": {},
   "outputs": [],
   "source": [
    "# lender_pivot_clip_1 = lender_clip.groupby(['Creation Date','Date']).agg({'Collected today':sum,'Capital today':sum\n",
    "#                                                                        ,'Interests today':sum,'IVA Interests today':sum\n",
    "#                                                                        ,'Overdue Interest today':sum,'Total today':sum\n",
    "#                                                                        ,'CLIP Revenue today':sum}).reset_index()\n",
    "# lender_pivot_clip_1.head()"
   ]
  },
  {
   "cell_type": "code",
   "execution_count": 44,
   "metadata": {},
   "outputs": [],
   "source": [
    "# lender_pivot_clip_1.shape"
   ]
  },
  {
   "cell_type": "code",
   "execution_count": 45,
   "metadata": {},
   "outputs": [
    {
     "name": "stderr",
     "output_type": "stream",
     "text": [
      "C:\\Users\\Cristian.Aparicio\\AppData\\Local\\Temp\\ipykernel_5660\\2945400080.py:1: FutureWarning: The provided callable <built-in function sum> is currently using SeriesGroupBy.sum. In a future version of pandas, the provided callable will be used directly. To keep current behavior pass the string \"sum\" instead.\n",
      "  lender_pivot_clip_2 = lender_clip.groupby(['collection_date_local']).agg({'amount':sum,'capital':sum,'interest':sum\n",
      "C:\\Users\\Cristian.Aparicio\\AppData\\Local\\Temp\\ipykernel_5660\\2945400080.py:1: FutureWarning: The provided callable <built-in function sum> is currently using SeriesGroupBy.sum. In a future version of pandas, the provided callable will be used directly. To keep current behavior pass the string \"sum\" instead.\n",
      "  lender_pivot_clip_2 = lender_clip.groupby(['collection_date_local']).agg({'amount':sum,'capital':sum,'interest':sum\n"
     ]
    },
    {
     "data": {
      "text/html": [
       "<div>\n",
       "<style scoped>\n",
       "    .dataframe tbody tr th:only-of-type {\n",
       "        vertical-align: middle;\n",
       "    }\n",
       "\n",
       "    .dataframe tbody tr th {\n",
       "        vertical-align: top;\n",
       "    }\n",
       "\n",
       "    .dataframe thead th {\n",
       "        text-align: right;\n",
       "    }\n",
       "</style>\n",
       "<table border=\"1\" class=\"dataframe\">\n",
       "  <thead>\n",
       "    <tr style=\"text-align: right;\">\n",
       "      <th></th>\n",
       "      <th>collection_date_local</th>\n",
       "      <th>amount</th>\n",
       "      <th>capital</th>\n",
       "      <th>interest</th>\n",
       "      <th>tax</th>\n",
       "    </tr>\n",
       "  </thead>\n",
       "  <tbody>\n",
       "    <tr>\n",
       "      <th>0</th>\n",
       "      <td>2024-01-01</td>\n",
       "      <td>299,291.40</td>\n",
       "      <td>228,643.21</td>\n",
       "      <td>42,109.10</td>\n",
       "      <td>6,737.24</td>\n",
       "    </tr>\n",
       "    <tr>\n",
       "      <th>1</th>\n",
       "      <td>2024-01-02</td>\n",
       "      <td>665,866.92</td>\n",
       "      <td>504,711.91</td>\n",
       "      <td>94,667.97</td>\n",
       "      <td>15,146.98</td>\n",
       "    </tr>\n",
       "    <tr>\n",
       "      <th>2</th>\n",
       "      <td>2024-01-03</td>\n",
       "      <td>771,325.88</td>\n",
       "      <td>586,811.91</td>\n",
       "      <td>103,266.38</td>\n",
       "      <td>16,521.95</td>\n",
       "    </tr>\n",
       "    <tr>\n",
       "      <th>3</th>\n",
       "      <td>2024-01-04</td>\n",
       "      <td>873,603.58</td>\n",
       "      <td>661,812.06</td>\n",
       "      <td>111,803.61</td>\n",
       "      <td>17,888.67</td>\n",
       "    </tr>\n",
       "    <tr>\n",
       "      <th>4</th>\n",
       "      <td>2024-01-05</td>\n",
       "      <td>1,046,865.36</td>\n",
       "      <td>791,200.72</td>\n",
       "      <td>127,825.32</td>\n",
       "      <td>20,451.76</td>\n",
       "    </tr>\n",
       "  </tbody>\n",
       "</table>\n",
       "</div>"
      ],
      "text/plain": [
       "  collection_date_local       amount    capital   interest       tax\n",
       "0            2024-01-01   299,291.40 228,643.21  42,109.10  6,737.24\n",
       "1            2024-01-02   665,866.92 504,711.91  94,667.97 15,146.98\n",
       "2            2024-01-03   771,325.88 586,811.91 103,266.38 16,521.95\n",
       "3            2024-01-04   873,603.58 661,812.06 111,803.61 17,888.67\n",
       "4            2024-01-05 1,046,865.36 791,200.72 127,825.32 20,451.76"
      ]
     },
     "execution_count": 45,
     "metadata": {},
     "output_type": "execute_result"
    }
   ],
   "source": [
    "lender_pivot_clip_2 = lender_clip.groupby(['collection_date_local']).agg({'amount':sum,'capital':sum,'interest':sum\n",
    "                                                 ,'tax':sum}).reset_index()\n",
    "lender_pivot_clip_2.head()"
   ]
  },
  {
   "cell_type": "code",
   "execution_count": 46,
   "metadata": {},
   "outputs": [
    {
     "data": {
      "text/plain": [
       "(31, 5)"
      ]
     },
     "execution_count": 46,
     "metadata": {},
     "output_type": "execute_result"
    }
   ],
   "source": [
    "lender_pivot_clip_2.shape"
   ]
  },
  {
   "cell_type": "markdown",
   "metadata": {},
   "source": [
    "### PIVOT OTHERS"
   ]
  },
  {
   "cell_type": "code",
   "execution_count": 47,
   "metadata": {},
   "outputs": [],
   "source": [
    "lender_others = lender_current_month[(lender_current_month['provider_code'] != 'CLIP')]"
   ]
  },
  {
   "cell_type": "code",
   "execution_count": 48,
   "metadata": {},
   "outputs": [
    {
     "name": "stderr",
     "output_type": "stream",
     "text": [
      "C:\\Users\\Cristian.Aparicio\\AppData\\Local\\Temp\\ipykernel_5660\\1304906578.py:1: FutureWarning: The provided callable <built-in function sum> is currently using SeriesGroupBy.sum. In a future version of pandas, the provided callable will be used directly. To keep current behavior pass the string \"sum\" instead.\n",
      "  lender_pivot_others = lender_others.groupby(['collection_date_local']).agg({'amount':sum,'capital':sum,'interest':sum\n",
      "C:\\Users\\Cristian.Aparicio\\AppData\\Local\\Temp\\ipykernel_5660\\1304906578.py:1: FutureWarning: The provided callable <built-in function sum> is currently using SeriesGroupBy.sum. In a future version of pandas, the provided callable will be used directly. To keep current behavior pass the string \"sum\" instead.\n",
      "  lender_pivot_others = lender_others.groupby(['collection_date_local']).agg({'amount':sum,'capital':sum,'interest':sum\n"
     ]
    },
    {
     "data": {
      "text/html": [
       "<div>\n",
       "<style scoped>\n",
       "    .dataframe tbody tr th:only-of-type {\n",
       "        vertical-align: middle;\n",
       "    }\n",
       "\n",
       "    .dataframe tbody tr th {\n",
       "        vertical-align: top;\n",
       "    }\n",
       "\n",
       "    .dataframe thead th {\n",
       "        text-align: right;\n",
       "    }\n",
       "</style>\n",
       "<table border=\"1\" class=\"dataframe\">\n",
       "  <thead>\n",
       "    <tr style=\"text-align: right;\">\n",
       "      <th></th>\n",
       "      <th>collection_date_local</th>\n",
       "      <th>amount</th>\n",
       "      <th>capital</th>\n",
       "      <th>interest</th>\n",
       "      <th>tax</th>\n",
       "    </tr>\n",
       "  </thead>\n",
       "  <tbody>\n",
       "    <tr>\n",
       "      <th>0</th>\n",
       "      <td>2024-01-01</td>\n",
       "      <td>621,817.82</td>\n",
       "      <td>462,073.32</td>\n",
       "      <td>137,732.24</td>\n",
       "      <td>22,012.26</td>\n",
       "    </tr>\n",
       "    <tr>\n",
       "      <th>1</th>\n",
       "      <td>2024-01-02</td>\n",
       "      <td>1,295,031.98</td>\n",
       "      <td>953,086.94</td>\n",
       "      <td>294,913.17</td>\n",
       "      <td>47,031.87</td>\n",
       "    </tr>\n",
       "    <tr>\n",
       "      <th>2</th>\n",
       "      <td>2024-01-03</td>\n",
       "      <td>1,372,506.84</td>\n",
       "      <td>1,006,681.01</td>\n",
       "      <td>315,571.80</td>\n",
       "      <td>50,254.03</td>\n",
       "    </tr>\n",
       "    <tr>\n",
       "      <th>3</th>\n",
       "      <td>2024-01-04</td>\n",
       "      <td>1,403,647.60</td>\n",
       "      <td>1,028,600.25</td>\n",
       "      <td>323,538.57</td>\n",
       "      <td>51,508.78</td>\n",
       "    </tr>\n",
       "    <tr>\n",
       "      <th>4</th>\n",
       "      <td>2024-01-05</td>\n",
       "      <td>1,645,623.63</td>\n",
       "      <td>1,209,053.16</td>\n",
       "      <td>376,470.86</td>\n",
       "      <td>60,099.61</td>\n",
       "    </tr>\n",
       "  </tbody>\n",
       "</table>\n",
       "</div>"
      ],
      "text/plain": [
       "  collection_date_local       amount      capital   interest       tax\n",
       "0            2024-01-01   621,817.82   462,073.32 137,732.24 22,012.26\n",
       "1            2024-01-02 1,295,031.98   953,086.94 294,913.17 47,031.87\n",
       "2            2024-01-03 1,372,506.84 1,006,681.01 315,571.80 50,254.03\n",
       "3            2024-01-04 1,403,647.60 1,028,600.25 323,538.57 51,508.78\n",
       "4            2024-01-05 1,645,623.63 1,209,053.16 376,470.86 60,099.61"
      ]
     },
     "execution_count": 48,
     "metadata": {},
     "output_type": "execute_result"
    }
   ],
   "source": [
    "lender_pivot_others = lender_others.groupby(['collection_date_local']).agg({'amount':sum,'capital':sum,'interest':sum\n",
    "                                                 ,'tax':sum}).reset_index()\n",
    "lender_pivot_others.head()"
   ]
  },
  {
   "cell_type": "code",
   "execution_count": 49,
   "metadata": {},
   "outputs": [
    {
     "data": {
      "text/plain": [
       "(31, 5)"
      ]
     },
     "execution_count": 49,
     "metadata": {},
     "output_type": "execute_result"
    }
   ],
   "source": [
    "lender_pivot_others.shape"
   ]
  },
  {
   "cell_type": "markdown",
   "metadata": {},
   "source": [
    "# EXCEL FINAL"
   ]
  },
  {
   "cell_type": "code",
   "execution_count": 50,
   "metadata": {},
   "outputs": [],
   "source": [
    "writer = pd.ExcelWriter('FASE II. DATA POLIZA ENERO 2024.xlsx',\n",
    "                        engine='xlsxwriter',\n",
    "                        engine_kwargs={'options': {'encoding':'utf-8'}})\n",
    "lender_pivot_provider_code.to_excel(writer, sheet_name='DATA LENDER PROVIDER_CODE',index=False)\n",
    "lender_pivot_clip_2.to_excel(writer, sheet_name='DATA LENDER CLIP',index=False)\n",
    "# lender_pivot_clip_1.to_excel(writer, sheet_name='DATA LENDER CLIP CREATION DATE',index=False)\n",
    "lender_pivot_others.to_excel(writer, sheet_name='DATA LENDER OTHERS',index=False)\n",
    "adj_pivot.to_excel(writer, sheet_name='DATA ADJUSTMENTS',index=False)\n",
    "# lib_pivot_v2.to_excel(writer, sheet_name='DATA LIBERACIONES')\n",
    "# ret_pivot_v2.to_excel(writer, sheet_name='DATA RETENCIONES')\n",
    "com_final.to_excel(writer, sheet_name='DATA COMISIONES',index=False)\n",
    "writer.close()"
   ]
  },
  {
   "cell_type": "code",
   "execution_count": null,
   "metadata": {},
   "outputs": [],
   "source": []
  },
  {
   "cell_type": "code",
   "execution_count": null,
   "metadata": {},
   "outputs": [],
   "source": []
  }
 ],
 "metadata": {
  "kernelspec": {
   "display_name": "Python 3 (ipykernel)",
   "language": "python",
   "name": "python3"
  },
  "language_info": {
   "codemirror_mode": {
    "name": "ipython",
    "version": 3
   },
   "file_extension": ".py",
   "mimetype": "text/x-python",
   "name": "python",
   "nbconvert_exporter": "python",
   "pygments_lexer": "ipython3",
   "version": "3.9.18"
  }
 },
 "nbformat": 4,
 "nbformat_minor": 4
}
