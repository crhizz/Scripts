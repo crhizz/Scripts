{
 "cells": [
  {
   "cell_type": "code",
   "execution_count": 1,
   "metadata": {},
   "outputs": [],
   "source": [
    "import pandas as pd\n",
    "import numpy as np\n",
    "import glob\n",
    "import os\n",
    "from openpyxl import load_workbook\n",
    "from functools import reduce\n",
    "pd.options.display.float_format = '{:,.2f}'.format"
   ]
  },
  {
   "cell_type": "markdown",
   "metadata": {},
   "source": [
    "#### ACUMULADO"
   ]
  },
  {
   "cell_type": "code",
   "execution_count": 2,
   "metadata": {},
   "outputs": [
    {
     "data": {
      "text/plain": [
       "['C:\\\\Users\\\\Cristian.Aparicio\\\\Documents\\\\DISPERSIONES\\\\2022\\\\01. ENERO\\\\QUERIES\\\\SETTLEMENT 2022-01-01.csv',\n",
       " 'C:\\\\Users\\\\Cristian.Aparicio\\\\Documents\\\\DISPERSIONES\\\\2022\\\\01. ENERO\\\\QUERIES\\\\SETTLEMENT 2022-01-02.csv',\n",
       " 'C:\\\\Users\\\\Cristian.Aparicio\\\\Documents\\\\DISPERSIONES\\\\2022\\\\01. ENERO\\\\QUERIES\\\\SETTLEMENT 2022-01-03.csv',\n",
       " 'C:\\\\Users\\\\Cristian.Aparicio\\\\Documents\\\\DISPERSIONES\\\\2022\\\\01. ENERO\\\\QUERIES\\\\SETTLEMENT 2022-01-04.csv',\n",
       " 'C:\\\\Users\\\\Cristian.Aparicio\\\\Documents\\\\DISPERSIONES\\\\2022\\\\01. ENERO\\\\QUERIES\\\\SETTLEMENT 2022-01-05.csv',\n",
       " 'C:\\\\Users\\\\Cristian.Aparicio\\\\Documents\\\\DISPERSIONES\\\\2022\\\\01. ENERO\\\\QUERIES\\\\SETTLEMENT 2022-01-06.csv',\n",
       " 'C:\\\\Users\\\\Cristian.Aparicio\\\\Documents\\\\DISPERSIONES\\\\2022\\\\01. ENERO\\\\QUERIES\\\\SETTLEMENT 2022-01-07.csv',\n",
       " 'C:\\\\Users\\\\Cristian.Aparicio\\\\Documents\\\\DISPERSIONES\\\\2022\\\\01. ENERO\\\\QUERIES\\\\SETTLEMENT 2022-01-08.csv',\n",
       " 'C:\\\\Users\\\\Cristian.Aparicio\\\\Documents\\\\DISPERSIONES\\\\2022\\\\01. ENERO\\\\QUERIES\\\\SETTLEMENT 2022-01-09.csv',\n",
       " 'C:\\\\Users\\\\Cristian.Aparicio\\\\Documents\\\\DISPERSIONES\\\\2022\\\\01. ENERO\\\\QUERIES\\\\SETTLEMENT 2022-01-10.csv',\n",
       " 'C:\\\\Users\\\\Cristian.Aparicio\\\\Documents\\\\DISPERSIONES\\\\2022\\\\01. ENERO\\\\QUERIES\\\\SETTLEMENT 2022-01-11.csv',\n",
       " 'C:\\\\Users\\\\Cristian.Aparicio\\\\Documents\\\\DISPERSIONES\\\\2022\\\\01. ENERO\\\\QUERIES\\\\SETTLEMENT 2022-01-12.csv',\n",
       " 'C:\\\\Users\\\\Cristian.Aparicio\\\\Documents\\\\DISPERSIONES\\\\2022\\\\01. ENERO\\\\QUERIES\\\\SETTLEMENT 2022-01-13.csv',\n",
       " 'C:\\\\Users\\\\Cristian.Aparicio\\\\Documents\\\\DISPERSIONES\\\\2022\\\\01. ENERO\\\\QUERIES\\\\SETTLEMENT 2022-01-14.csv',\n",
       " 'C:\\\\Users\\\\Cristian.Aparicio\\\\Documents\\\\DISPERSIONES\\\\2022\\\\01. ENERO\\\\QUERIES\\\\SETTLEMENT 2022-01-15.csv',\n",
       " 'C:\\\\Users\\\\Cristian.Aparicio\\\\Documents\\\\DISPERSIONES\\\\2022\\\\01. ENERO\\\\QUERIES\\\\SETTLEMENT 2022-01-16.csv',\n",
       " 'C:\\\\Users\\\\Cristian.Aparicio\\\\Documents\\\\DISPERSIONES\\\\2022\\\\01. ENERO\\\\QUERIES\\\\SETTLEMENT 2022-01-17.csv',\n",
       " 'C:\\\\Users\\\\Cristian.Aparicio\\\\Documents\\\\DISPERSIONES\\\\2022\\\\01. ENERO\\\\QUERIES\\\\SETTLEMENT 2022-01-18.csv',\n",
       " 'C:\\\\Users\\\\Cristian.Aparicio\\\\Documents\\\\DISPERSIONES\\\\2022\\\\01. ENERO\\\\QUERIES\\\\SETTLEMENT 2022-01-19.csv',\n",
       " 'C:\\\\Users\\\\Cristian.Aparicio\\\\Documents\\\\DISPERSIONES\\\\2022\\\\01. ENERO\\\\QUERIES\\\\SETTLEMENT 2022-01-20.csv',\n",
       " 'C:\\\\Users\\\\Cristian.Aparicio\\\\Documents\\\\DISPERSIONES\\\\2022\\\\01. ENERO\\\\QUERIES\\\\SETTLEMENT 2022-01-21.csv',\n",
       " 'C:\\\\Users\\\\Cristian.Aparicio\\\\Documents\\\\DISPERSIONES\\\\2022\\\\01. ENERO\\\\QUERIES\\\\SETTLEMENT 2022-01-22.csv',\n",
       " 'C:\\\\Users\\\\Cristian.Aparicio\\\\Documents\\\\DISPERSIONES\\\\2022\\\\01. ENERO\\\\QUERIES\\\\SETTLEMENT 2022-01-23.csv',\n",
       " 'C:\\\\Users\\\\Cristian.Aparicio\\\\Documents\\\\DISPERSIONES\\\\2022\\\\01. ENERO\\\\QUERIES\\\\SETTLEMENT 2022-01-24.csv',\n",
       " 'C:\\\\Users\\\\Cristian.Aparicio\\\\Documents\\\\DISPERSIONES\\\\2022\\\\01. ENERO\\\\QUERIES\\\\SETTLEMENT 2022-01-25.csv',\n",
       " 'C:\\\\Users\\\\Cristian.Aparicio\\\\Documents\\\\DISPERSIONES\\\\2022\\\\01. ENERO\\\\QUERIES\\\\SETTLEMENT 2022-01-26.csv',\n",
       " 'C:\\\\Users\\\\Cristian.Aparicio\\\\Documents\\\\DISPERSIONES\\\\2022\\\\01. ENERO\\\\QUERIES\\\\SETTLEMENT 2022-01-27.csv',\n",
       " 'C:\\\\Users\\\\Cristian.Aparicio\\\\Documents\\\\DISPERSIONES\\\\2022\\\\01. ENERO\\\\QUERIES\\\\SETTLEMENT 2022-01-28.csv',\n",
       " 'C:\\\\Users\\\\Cristian.Aparicio\\\\Documents\\\\DISPERSIONES\\\\2022\\\\01. ENERO\\\\QUERIES\\\\SETTLEMENT 2022-01-29.csv',\n",
       " 'C:\\\\Users\\\\Cristian.Aparicio\\\\Documents\\\\DISPERSIONES\\\\2022\\\\01. ENERO\\\\QUERIES\\\\SETTLEMENT 2022-01-30.csv',\n",
       " 'C:\\\\Users\\\\Cristian.Aparicio\\\\Documents\\\\DISPERSIONES\\\\2022\\\\01. ENERO\\\\QUERIES\\\\SETTLEMENT 2022-01-31.csv']"
      ]
     },
     "execution_count": 2,
     "metadata": {},
     "output_type": "execute_result"
    }
   ],
   "source": [
    "cumfiles = glob.glob(r'C:\\Users\\Cristian.Aparicio\\Documents\\DISPERSIONES\\2022\\01. ENERO\\QUERIES\\*.csv', recursive=False)\n",
    "cumfiles"
   ]
  },
  {
   "cell_type": "code",
   "execution_count": 3,
   "metadata": {},
   "outputs": [
    {
     "name": "stderr",
     "output_type": "stream",
     "text": [
      "C:\\Users\\Cristian.Aparicio\\anaconda3\\lib\\site-packages\\IPython\\core\\interactiveshell.py:3254: DtypeWarning: Columns (18) have mixed types.Specify dtype option on import or set low_memory=False.\n",
      "  if (await self.run_code(code, result,  async_=asy)):\n"
     ]
    },
    {
     "data": {
      "text/html": [
       "<div>\n",
       "<style scoped>\n",
       "    .dataframe tbody tr th:only-of-type {\n",
       "        vertical-align: middle;\n",
       "    }\n",
       "\n",
       "    .dataframe tbody tr th {\n",
       "        vertical-align: top;\n",
       "    }\n",
       "\n",
       "    .dataframe thead th {\n",
       "        text-align: right;\n",
       "    }\n",
       "</style>\n",
       "<table border=\"1\" class=\"dataframe\">\n",
       "  <thead>\n",
       "    <tr style=\"text-align: right;\">\n",
       "      <th></th>\n",
       "      <th>merchant_id</th>\n",
       "      <th>merchant_name</th>\n",
       "      <th>user_email</th>\n",
       "      <th>report_id</th>\n",
       "      <th>report_date_local</th>\n",
       "      <th>total_transactions</th>\n",
       "      <th>total_fees_charged</th>\n",
       "      <th>total_taxes</th>\n",
       "      <th>applied_fees_benefits</th>\n",
       "      <th>applied_taxes_benefits</th>\n",
       "      <th>...</th>\n",
       "      <th>total_released</th>\n",
       "      <th>total_retained</th>\n",
       "      <th>tipopago</th>\n",
       "      <th>total_due</th>\n",
       "      <th>type</th>\n",
       "      <th>created_date</th>\n",
       "      <th>created_time</th>\n",
       "      <th>updated_date</th>\n",
       "      <th>updated_time</th>\n",
       "      <th>file_name</th>\n",
       "    </tr>\n",
       "  </thead>\n",
       "  <tbody>\n",
       "    <tr>\n",
       "      <th>0</th>\n",
       "      <td>fd233fcb-7d52-4c3b-8ac6-62824b298336</td>\n",
       "      <td>Sala de Belleza Roman</td>\n",
       "      <td>romanortegazamilpa@hotmail.com</td>\n",
       "      <td>9S86DZXDZ</td>\n",
       "      <td>2022-01-01</td>\n",
       "      <td>280.00</td>\n",
       "      <td>10.08</td>\n",
       "      <td>1.61</td>\n",
       "      <td>0.00</td>\n",
       "      <td>0.00</td>\n",
       "      <td>...</td>\n",
       "      <td>0.00</td>\n",
       "      <td>0.00</td>\n",
       "      <td>NaN</td>\n",
       "      <td>268.31</td>\n",
       "      <td>DAILY</td>\n",
       "      <td>2022-01-01</td>\n",
       "      <td>02:00:23</td>\n",
       "      <td>2022-01-01</td>\n",
       "      <td>02:00:23</td>\n",
       "      <td>SETTLEMENT 2022-01-01.csv</td>\n",
       "    </tr>\n",
       "    <tr>\n",
       "      <th>1</th>\n",
       "      <td>567b732f-6165-4cbd-b402-4ef5d7b00aed</td>\n",
       "      <td>Tlapaleria Raquel</td>\n",
       "      <td>taviralugor@gmail.com</td>\n",
       "      <td>G8NG4QX8F</td>\n",
       "      <td>2022-01-01</td>\n",
       "      <td>2,400.00</td>\n",
       "      <td>86.40</td>\n",
       "      <td>13.82</td>\n",
       "      <td>0.00</td>\n",
       "      <td>0.00</td>\n",
       "      <td>...</td>\n",
       "      <td>0.00</td>\n",
       "      <td>0.00</td>\n",
       "      <td>NaN</td>\n",
       "      <td>2,299.78</td>\n",
       "      <td>DAILY</td>\n",
       "      <td>2022-01-01</td>\n",
       "      <td>02:00:23</td>\n",
       "      <td>2022-01-01</td>\n",
       "      <td>02:00:23</td>\n",
       "      <td>SETTLEMENT 2022-01-01.csv</td>\n",
       "    </tr>\n",
       "    <tr>\n",
       "      <th>2</th>\n",
       "      <td>19059736-b12e-47d7-8363-c2640d0f334c</td>\n",
       "      <td>MonZter GYM</td>\n",
       "      <td>monztergym@gmail.com</td>\n",
       "      <td>JBMY4F9P7</td>\n",
       "      <td>2022-01-01</td>\n",
       "      <td>860.00</td>\n",
       "      <td>30.96</td>\n",
       "      <td>4.96</td>\n",
       "      <td>0.00</td>\n",
       "      <td>0.00</td>\n",
       "      <td>...</td>\n",
       "      <td>0.00</td>\n",
       "      <td>0.00</td>\n",
       "      <td>NaN</td>\n",
       "      <td>824.08</td>\n",
       "      <td>DAILY</td>\n",
       "      <td>2022-01-01</td>\n",
       "      <td>02:00:23</td>\n",
       "      <td>2022-01-01</td>\n",
       "      <td>02:00:23</td>\n",
       "      <td>SETTLEMENT 2022-01-01.csv</td>\n",
       "    </tr>\n",
       "    <tr>\n",
       "      <th>3</th>\n",
       "      <td>a85619da-fb1f-47d9-a5b7-33256a0511fb</td>\n",
       "      <td>Restaurante Los Nietos</td>\n",
       "      <td>guillermo_220596@hotmail.com</td>\n",
       "      <td>MSFD3J83Z</td>\n",
       "      <td>2022-01-01</td>\n",
       "      <td>341.88</td>\n",
       "      <td>12.31</td>\n",
       "      <td>1.97</td>\n",
       "      <td>0.00</td>\n",
       "      <td>0.00</td>\n",
       "      <td>...</td>\n",
       "      <td>0.00</td>\n",
       "      <td>0.00</td>\n",
       "      <td>NaN</td>\n",
       "      <td>327.60</td>\n",
       "      <td>DAILY</td>\n",
       "      <td>2022-01-01</td>\n",
       "      <td>02:00:23</td>\n",
       "      <td>2022-01-01</td>\n",
       "      <td>02:00:23</td>\n",
       "      <td>SETTLEMENT 2022-01-01.csv</td>\n",
       "    </tr>\n",
       "    <tr>\n",
       "      <th>4</th>\n",
       "      <td>9dc0902a-390e-4952-b101-9c762afe2b4d</td>\n",
       "      <td>novedades selecto</td>\n",
       "      <td>elviraleyva296@gmail.com</td>\n",
       "      <td>NDKT5TYMT</td>\n",
       "      <td>2022-01-01</td>\n",
       "      <td>420.00</td>\n",
       "      <td>15.12</td>\n",
       "      <td>2.42</td>\n",
       "      <td>0.00</td>\n",
       "      <td>0.00</td>\n",
       "      <td>...</td>\n",
       "      <td>0.00</td>\n",
       "      <td>0.00</td>\n",
       "      <td>NaN</td>\n",
       "      <td>402.46</td>\n",
       "      <td>DAILY</td>\n",
       "      <td>2022-01-01</td>\n",
       "      <td>02:00:23</td>\n",
       "      <td>2022-01-01</td>\n",
       "      <td>02:00:23</td>\n",
       "      <td>SETTLEMENT 2022-01-01.csv</td>\n",
       "    </tr>\n",
       "  </tbody>\n",
       "</table>\n",
       "<p>5 rows × 26 columns</p>\n",
       "</div>"
      ],
      "text/plain": [
       "                            merchant_id           merchant_name  \\\n",
       "0  fd233fcb-7d52-4c3b-8ac6-62824b298336   Sala de Belleza Roman   \n",
       "1  567b732f-6165-4cbd-b402-4ef5d7b00aed       Tlapaleria Raquel   \n",
       "2  19059736-b12e-47d7-8363-c2640d0f334c             MonZter GYM   \n",
       "3  a85619da-fb1f-47d9-a5b7-33256a0511fb  Restaurante Los Nietos   \n",
       "4  9dc0902a-390e-4952-b101-9c762afe2b4d      novedades selecto    \n",
       "\n",
       "                       user_email  report_id report_date_local  \\\n",
       "0  romanortegazamilpa@hotmail.com  9S86DZXDZ        2022-01-01   \n",
       "1           taviralugor@gmail.com  G8NG4QX8F        2022-01-01   \n",
       "2            monztergym@gmail.com  JBMY4F9P7        2022-01-01   \n",
       "3    guillermo_220596@hotmail.com  MSFD3J83Z        2022-01-01   \n",
       "4        elviraleyva296@gmail.com  NDKT5TYMT        2022-01-01   \n",
       "\n",
       "   total_transactions  total_fees_charged  total_taxes  applied_fees_benefits  \\\n",
       "0              280.00               10.08         1.61                   0.00   \n",
       "1            2,400.00               86.40        13.82                   0.00   \n",
       "2              860.00               30.96         4.96                   0.00   \n",
       "3              341.88               12.31         1.97                   0.00   \n",
       "4              420.00               15.12         2.42                   0.00   \n",
       "\n",
       "   applied_taxes_benefits  ...  total_released  total_retained  tipopago  \\\n",
       "0                    0.00  ...            0.00            0.00       NaN   \n",
       "1                    0.00  ...            0.00            0.00       NaN   \n",
       "2                    0.00  ...            0.00            0.00       NaN   \n",
       "3                    0.00  ...            0.00            0.00       NaN   \n",
       "4                    0.00  ...            0.00            0.00       NaN   \n",
       "\n",
       "   total_due   type  created_date  created_time  updated_date updated_time  \\\n",
       "0     268.31  DAILY    2022-01-01      02:00:23    2022-01-01     02:00:23   \n",
       "1   2,299.78  DAILY    2022-01-01      02:00:23    2022-01-01     02:00:23   \n",
       "2     824.08  DAILY    2022-01-01      02:00:23    2022-01-01     02:00:23   \n",
       "3     327.60  DAILY    2022-01-01      02:00:23    2022-01-01     02:00:23   \n",
       "4     402.46  DAILY    2022-01-01      02:00:23    2022-01-01     02:00:23   \n",
       "\n",
       "                   file_name  \n",
       "0  SETTLEMENT 2022-01-01.csv  \n",
       "1  SETTLEMENT 2022-01-01.csv  \n",
       "2  SETTLEMENT 2022-01-01.csv  \n",
       "3  SETTLEMENT 2022-01-01.csv  \n",
       "4  SETTLEMENT 2022-01-01.csv  \n",
       "\n",
       "[5 rows x 26 columns]"
      ]
     },
     "execution_count": 3,
     "metadata": {},
     "output_type": "execute_result"
    }
   ],
   "source": [
    "cum_1 = pd.concat([pd.read_csv(f).assign(file_name=os.path.basename(f)) for f in cumfiles])\n",
    "cum_1.columns = cum_1.columns.str.strip().str.lower() \n",
    "cum_1['report_date_local']= pd.to_datetime(cum_1['report_date_local']) \n",
    "cum_1.head()"
   ]
  },
  {
   "cell_type": "code",
   "execution_count": 4,
   "metadata": {},
   "outputs": [
    {
     "data": {
      "text/plain": [
       "(2300702, 26)"
      ]
     },
     "execution_count": 4,
     "metadata": {},
     "output_type": "execute_result"
    }
   ],
   "source": [
    "cum_1.shape"
   ]
  },
  {
   "cell_type": "code",
   "execution_count": 5,
   "metadata": {},
   "outputs": [
    {
     "data": {
      "text/html": [
       "<div>\n",
       "<style scoped>\n",
       "    .dataframe tbody tr th:only-of-type {\n",
       "        vertical-align: middle;\n",
       "    }\n",
       "\n",
       "    .dataframe tbody tr th {\n",
       "        vertical-align: top;\n",
       "    }\n",
       "\n",
       "    .dataframe thead th {\n",
       "        text-align: right;\n",
       "    }\n",
       "</style>\n",
       "<table border=\"1\" class=\"dataframe\">\n",
       "  <thead>\n",
       "    <tr style=\"text-align: right;\">\n",
       "      <th></th>\n",
       "      <th>merchant_id</th>\n",
       "      <th>merchant_name</th>\n",
       "      <th>user_email</th>\n",
       "      <th>report_id</th>\n",
       "      <th>report_date_local</th>\n",
       "      <th>total_transactions</th>\n",
       "      <th>total_fees_charged</th>\n",
       "      <th>total_taxes</th>\n",
       "      <th>applied_fees_benefits</th>\n",
       "      <th>applied_taxes_benefits</th>\n",
       "      <th>...</th>\n",
       "      <th>total_released</th>\n",
       "      <th>total_retained</th>\n",
       "      <th>tipopago</th>\n",
       "      <th>total_due</th>\n",
       "      <th>type</th>\n",
       "      <th>created_date</th>\n",
       "      <th>created_time</th>\n",
       "      <th>updated_date</th>\n",
       "      <th>updated_time</th>\n",
       "      <th>file_name</th>\n",
       "    </tr>\n",
       "  </thead>\n",
       "  <tbody>\n",
       "    <tr>\n",
       "      <th>0</th>\n",
       "      <td>fd233fcb-7d52-4c3b-8ac6-62824b298336</td>\n",
       "      <td>Sala de Belleza Roman</td>\n",
       "      <td>romanortegazamilpa@hotmail.com</td>\n",
       "      <td>9S86DZXDZ</td>\n",
       "      <td>2022-01-01</td>\n",
       "      <td>280.00</td>\n",
       "      <td>10.08</td>\n",
       "      <td>1.61</td>\n",
       "      <td>0.00</td>\n",
       "      <td>0.00</td>\n",
       "      <td>...</td>\n",
       "      <td>0.00</td>\n",
       "      <td>0.00</td>\n",
       "      <td>NaN</td>\n",
       "      <td>268.31</td>\n",
       "      <td>DAILY</td>\n",
       "      <td>2022-01-01</td>\n",
       "      <td>02:00:23</td>\n",
       "      <td>2022-01-01</td>\n",
       "      <td>02:00:23</td>\n",
       "      <td>SETTLEMENT 2022-01-01.csv</td>\n",
       "    </tr>\n",
       "    <tr>\n",
       "      <th>1</th>\n",
       "      <td>567b732f-6165-4cbd-b402-4ef5d7b00aed</td>\n",
       "      <td>Tlapaleria Raquel</td>\n",
       "      <td>taviralugor@gmail.com</td>\n",
       "      <td>G8NG4QX8F</td>\n",
       "      <td>2022-01-01</td>\n",
       "      <td>2,400.00</td>\n",
       "      <td>86.40</td>\n",
       "      <td>13.82</td>\n",
       "      <td>0.00</td>\n",
       "      <td>0.00</td>\n",
       "      <td>...</td>\n",
       "      <td>0.00</td>\n",
       "      <td>0.00</td>\n",
       "      <td>NaN</td>\n",
       "      <td>2,299.78</td>\n",
       "      <td>DAILY</td>\n",
       "      <td>2022-01-01</td>\n",
       "      <td>02:00:23</td>\n",
       "      <td>2022-01-01</td>\n",
       "      <td>02:00:23</td>\n",
       "      <td>SETTLEMENT 2022-01-01.csv</td>\n",
       "    </tr>\n",
       "    <tr>\n",
       "      <th>2</th>\n",
       "      <td>19059736-b12e-47d7-8363-c2640d0f334c</td>\n",
       "      <td>MonZter GYM</td>\n",
       "      <td>monztergym@gmail.com</td>\n",
       "      <td>JBMY4F9P7</td>\n",
       "      <td>2022-01-01</td>\n",
       "      <td>860.00</td>\n",
       "      <td>30.96</td>\n",
       "      <td>4.96</td>\n",
       "      <td>0.00</td>\n",
       "      <td>0.00</td>\n",
       "      <td>...</td>\n",
       "      <td>0.00</td>\n",
       "      <td>0.00</td>\n",
       "      <td>NaN</td>\n",
       "      <td>824.08</td>\n",
       "      <td>DAILY</td>\n",
       "      <td>2022-01-01</td>\n",
       "      <td>02:00:23</td>\n",
       "      <td>2022-01-01</td>\n",
       "      <td>02:00:23</td>\n",
       "      <td>SETTLEMENT 2022-01-01.csv</td>\n",
       "    </tr>\n",
       "    <tr>\n",
       "      <th>3</th>\n",
       "      <td>a85619da-fb1f-47d9-a5b7-33256a0511fb</td>\n",
       "      <td>Restaurante Los Nietos</td>\n",
       "      <td>guillermo_220596@hotmail.com</td>\n",
       "      <td>MSFD3J83Z</td>\n",
       "      <td>2022-01-01</td>\n",
       "      <td>341.88</td>\n",
       "      <td>12.31</td>\n",
       "      <td>1.97</td>\n",
       "      <td>0.00</td>\n",
       "      <td>0.00</td>\n",
       "      <td>...</td>\n",
       "      <td>0.00</td>\n",
       "      <td>0.00</td>\n",
       "      <td>NaN</td>\n",
       "      <td>327.60</td>\n",
       "      <td>DAILY</td>\n",
       "      <td>2022-01-01</td>\n",
       "      <td>02:00:23</td>\n",
       "      <td>2022-01-01</td>\n",
       "      <td>02:00:23</td>\n",
       "      <td>SETTLEMENT 2022-01-01.csv</td>\n",
       "    </tr>\n",
       "    <tr>\n",
       "      <th>4</th>\n",
       "      <td>9dc0902a-390e-4952-b101-9c762afe2b4d</td>\n",
       "      <td>novedades selecto</td>\n",
       "      <td>elviraleyva296@gmail.com</td>\n",
       "      <td>NDKT5TYMT</td>\n",
       "      <td>2022-01-01</td>\n",
       "      <td>420.00</td>\n",
       "      <td>15.12</td>\n",
       "      <td>2.42</td>\n",
       "      <td>0.00</td>\n",
       "      <td>0.00</td>\n",
       "      <td>...</td>\n",
       "      <td>0.00</td>\n",
       "      <td>0.00</td>\n",
       "      <td>NaN</td>\n",
       "      <td>402.46</td>\n",
       "      <td>DAILY</td>\n",
       "      <td>2022-01-01</td>\n",
       "      <td>02:00:23</td>\n",
       "      <td>2022-01-01</td>\n",
       "      <td>02:00:23</td>\n",
       "      <td>SETTLEMENT 2022-01-01.csv</td>\n",
       "    </tr>\n",
       "  </tbody>\n",
       "</table>\n",
       "<p>5 rows × 26 columns</p>\n",
       "</div>"
      ],
      "text/plain": [
       "                            merchant_id           merchant_name  \\\n",
       "0  fd233fcb-7d52-4c3b-8ac6-62824b298336   Sala de Belleza Roman   \n",
       "1  567b732f-6165-4cbd-b402-4ef5d7b00aed       Tlapaleria Raquel   \n",
       "2  19059736-b12e-47d7-8363-c2640d0f334c             MonZter GYM   \n",
       "3  a85619da-fb1f-47d9-a5b7-33256a0511fb  Restaurante Los Nietos   \n",
       "4  9dc0902a-390e-4952-b101-9c762afe2b4d      novedades selecto    \n",
       "\n",
       "                       user_email  report_id report_date_local  \\\n",
       "0  romanortegazamilpa@hotmail.com  9S86DZXDZ        2022-01-01   \n",
       "1           taviralugor@gmail.com  G8NG4QX8F        2022-01-01   \n",
       "2            monztergym@gmail.com  JBMY4F9P7        2022-01-01   \n",
       "3    guillermo_220596@hotmail.com  MSFD3J83Z        2022-01-01   \n",
       "4        elviraleyva296@gmail.com  NDKT5TYMT        2022-01-01   \n",
       "\n",
       "   total_transactions  total_fees_charged  total_taxes  applied_fees_benefits  \\\n",
       "0              280.00               10.08         1.61                   0.00   \n",
       "1            2,400.00               86.40        13.82                   0.00   \n",
       "2              860.00               30.96         4.96                   0.00   \n",
       "3              341.88               12.31         1.97                   0.00   \n",
       "4              420.00               15.12         2.42                   0.00   \n",
       "\n",
       "   applied_taxes_benefits  ...  total_released  total_retained  tipopago  \\\n",
       "0                    0.00  ...            0.00            0.00       NaN   \n",
       "1                    0.00  ...            0.00            0.00       NaN   \n",
       "2                    0.00  ...            0.00            0.00       NaN   \n",
       "3                    0.00  ...            0.00            0.00       NaN   \n",
       "4                    0.00  ...            0.00            0.00       NaN   \n",
       "\n",
       "   total_due   type  created_date  created_time  updated_date updated_time  \\\n",
       "0     268.31  DAILY    2022-01-01      02:00:23    2022-01-01     02:00:23   \n",
       "1   2,299.78  DAILY    2022-01-01      02:00:23    2022-01-01     02:00:23   \n",
       "2     824.08  DAILY    2022-01-01      02:00:23    2022-01-01     02:00:23   \n",
       "3     327.60  DAILY    2022-01-01      02:00:23    2022-01-01     02:00:23   \n",
       "4     402.46  DAILY    2022-01-01      02:00:23    2022-01-01     02:00:23   \n",
       "\n",
       "                   file_name  \n",
       "0  SETTLEMENT 2022-01-01.csv  \n",
       "1  SETTLEMENT 2022-01-01.csv  \n",
       "2  SETTLEMENT 2022-01-01.csv  \n",
       "3  SETTLEMENT 2022-01-01.csv  \n",
       "4  SETTLEMENT 2022-01-01.csv  \n",
       "\n",
       "[5 rows x 26 columns]"
      ]
     },
     "execution_count": 5,
     "metadata": {},
     "output_type": "execute_result"
    }
   ],
   "source": [
    "cum_distinct_0 = cum_1[(cum_1['total_due'] != 0)]\n",
    "cum_distinct_0.head()"
   ]
  },
  {
   "cell_type": "code",
   "execution_count": 6,
   "metadata": {},
   "outputs": [
    {
     "data": {
      "text/plain": [
       "(2299841, 26)"
      ]
     },
     "execution_count": 6,
     "metadata": {},
     "output_type": "execute_result"
    }
   ],
   "source": [
    "cum_distinct_0.shape"
   ]
  },
  {
   "cell_type": "markdown",
   "metadata": {},
   "source": [
    "#### PAGOS DE DISPERSIONES"
   ]
  },
  {
   "cell_type": "code",
   "execution_count": 7,
   "metadata": {},
   "outputs": [
    {
     "data": {
      "text/plain": [
       "['G:\\\\My Drive\\\\Settlement\\\\1.-Resultado-dispersión\\\\2022\\\\01.-ENERO\\\\Dispersión-20220102.xlsx',\n",
       " 'G:\\\\My Drive\\\\Settlement\\\\1.-Resultado-dispersión\\\\2022\\\\01.-ENERO\\\\Dispersión-20220101.xlsx',\n",
       " 'G:\\\\My Drive\\\\Settlement\\\\1.-Resultado-dispersión\\\\2022\\\\01.-ENERO\\\\Dispersión-20220103.xlsx',\n",
       " 'G:\\\\My Drive\\\\Settlement\\\\1.-Resultado-dispersión\\\\2022\\\\01.-ENERO\\\\Dispersión-20220104.xlsx',\n",
       " 'G:\\\\My Drive\\\\Settlement\\\\1.-Resultado-dispersión\\\\2022\\\\01.-ENERO\\\\Dispersión-20220105.xlsx',\n",
       " 'G:\\\\My Drive\\\\Settlement\\\\1.-Resultado-dispersión\\\\2022\\\\01.-ENERO\\\\Dispersión-20220106.xlsx',\n",
       " 'G:\\\\My Drive\\\\Settlement\\\\1.-Resultado-dispersión\\\\2022\\\\01.-ENERO\\\\Dispersión-20220107.xlsx',\n",
       " 'G:\\\\My Drive\\\\Settlement\\\\1.-Resultado-dispersión\\\\2022\\\\01.-ENERO\\\\Dispersión-20220108.xlsx',\n",
       " 'G:\\\\My Drive\\\\Settlement\\\\1.-Resultado-dispersión\\\\2022\\\\01.-ENERO\\\\Dispersión-20220109.xlsx',\n",
       " 'G:\\\\My Drive\\\\Settlement\\\\1.-Resultado-dispersión\\\\2022\\\\01.-ENERO\\\\Dispersión-20220110.xlsx',\n",
       " 'G:\\\\My Drive\\\\Settlement\\\\1.-Resultado-dispersión\\\\2022\\\\01.-ENERO\\\\Dispersión-20220111.xlsx',\n",
       " 'G:\\\\My Drive\\\\Settlement\\\\1.-Resultado-dispersión\\\\2022\\\\01.-ENERO\\\\Dispersión-20220112.xlsx',\n",
       " 'G:\\\\My Drive\\\\Settlement\\\\1.-Resultado-dispersión\\\\2022\\\\01.-ENERO\\\\Dispersión-20220113.xlsx',\n",
       " 'G:\\\\My Drive\\\\Settlement\\\\1.-Resultado-dispersión\\\\2022\\\\01.-ENERO\\\\Dispersión-20220114.xlsx',\n",
       " 'G:\\\\My Drive\\\\Settlement\\\\1.-Resultado-dispersión\\\\2022\\\\01.-ENERO\\\\Dispersión-20220115.xlsx',\n",
       " 'G:\\\\My Drive\\\\Settlement\\\\1.-Resultado-dispersión\\\\2022\\\\01.-ENERO\\\\Dispersión-20220116.xlsx',\n",
       " 'G:\\\\My Drive\\\\Settlement\\\\1.-Resultado-dispersión\\\\2022\\\\01.-ENERO\\\\Dispersión-20220117.xlsx',\n",
       " 'G:\\\\My Drive\\\\Settlement\\\\1.-Resultado-dispersión\\\\2022\\\\01.-ENERO\\\\Dispersión-20220118.xlsx',\n",
       " 'G:\\\\My Drive\\\\Settlement\\\\1.-Resultado-dispersión\\\\2022\\\\01.-ENERO\\\\Dispersión-20220119.xlsx',\n",
       " 'G:\\\\My Drive\\\\Settlement\\\\1.-Resultado-dispersión\\\\2022\\\\01.-ENERO\\\\Dispersión-20220120.xlsx',\n",
       " 'G:\\\\My Drive\\\\Settlement\\\\1.-Resultado-dispersión\\\\2022\\\\01.-ENERO\\\\Dispersión-20220121.xlsx',\n",
       " 'G:\\\\My Drive\\\\Settlement\\\\1.-Resultado-dispersión\\\\2022\\\\01.-ENERO\\\\Dispersión-20220122.xlsx',\n",
       " 'G:\\\\My Drive\\\\Settlement\\\\1.-Resultado-dispersión\\\\2022\\\\01.-ENERO\\\\Dispersión-20220123.xlsx',\n",
       " 'G:\\\\My Drive\\\\Settlement\\\\1.-Resultado-dispersión\\\\2022\\\\01.-ENERO\\\\Dispersión-20220124.xlsx',\n",
       " 'G:\\\\My Drive\\\\Settlement\\\\1.-Resultado-dispersión\\\\2022\\\\01.-ENERO\\\\Dispersión-20220125.xlsx',\n",
       " 'G:\\\\My Drive\\\\Settlement\\\\1.-Resultado-dispersión\\\\2022\\\\01.-ENERO\\\\Dispersión-20220126.xlsx',\n",
       " 'G:\\\\My Drive\\\\Settlement\\\\1.-Resultado-dispersión\\\\2022\\\\01.-ENERO\\\\Dispersión-20220127.xlsx',\n",
       " 'G:\\\\My Drive\\\\Settlement\\\\1.-Resultado-dispersión\\\\2022\\\\01.-ENERO\\\\Dispersión-20220128.xlsx',\n",
       " 'G:\\\\My Drive\\\\Settlement\\\\1.-Resultado-dispersión\\\\2022\\\\01.-ENERO\\\\Dispersión-20220130.xlsx',\n",
       " 'G:\\\\My Drive\\\\Settlement\\\\1.-Resultado-dispersión\\\\2022\\\\01.-ENERO\\\\Dispersión-20220129.xlsx',\n",
       " 'G:\\\\My Drive\\\\Settlement\\\\1.-Resultado-dispersión\\\\2022\\\\01.-ENERO\\\\Dispersión-20220131.xlsx']"
      ]
     },
     "execution_count": 7,
     "metadata": {},
     "output_type": "execute_result"
    }
   ],
   "source": [
    "pagos_dia_files_1 = glob.glob(r'G:\\My Drive\\Settlement\\1.-Resultado-dispersión\\2022\\01.-ENERO\\Dispersión-20*.xlsx', recursive=False)\n",
    "pagos_dia_files_1"
   ]
  },
  {
   "cell_type": "code",
   "execution_count": null,
   "metadata": {},
   "outputs": [],
   "source": [
    "pagos_1 = pd.concat([pd.read_excel(f,sheet_name='Swap del día').assign(file_name=os.path.basename(f)) for f in pagos_dia_files_1])\n",
    "pagos_1['date_file'] = pagos_1[\"file_name\"].str[-13:-5]\n",
    "pagos_1['date_file']= pd.to_datetime(pagos_1['date_file'], format='%Y%m%d').dt.date\n",
    "pagos_1['date_file']= pd.to_datetime(pagos_1['date_file'])\n",
    "pagos_1.sort_values(by=['date_file'],ascending=True,inplace=True)\n",
    "pagos_1['report_date_local']= pd.to_datetime(pagos_1['report_date_local']) \n",
    "pagos_1.head()"
   ]
  },
  {
   "cell_type": "code",
   "execution_count": null,
   "metadata": {},
   "outputs": [],
   "source": [
    "pagos_1.shape"
   ]
  },
  {
   "cell_type": "code",
   "execution_count": null,
   "metadata": {},
   "outputs": [],
   "source": [
    "pagos_1['report_date_local'].unique()"
   ]
  },
  {
   "cell_type": "markdown",
   "metadata": {},
   "source": [
    "#### PAGOS DUPLICADOS TRADICIONAL"
   ]
  },
  {
   "cell_type": "code",
   "execution_count": null,
   "metadata": {},
   "outputs": [],
   "source": [
    "duplicates_trad = pagos_1[pagos_1.duplicated(['report_id','date_file'] , keep=False)]\n",
    "duplicates_trad.sort_values(by=['date_file','report_id'],inplace=True)\n",
    "duplicates_trad.head()"
   ]
  },
  {
   "cell_type": "code",
   "execution_count": null,
   "metadata": {},
   "outputs": [],
   "source": [
    "duplicates_trad.shape"
   ]
  },
  {
   "cell_type": "code",
   "execution_count": null,
   "metadata": {},
   "outputs": [],
   "source": [
    "duplicates_trad.drop_duplicates(subset=\"report_id\", keep='last', inplace=True)"
   ]
  },
  {
   "cell_type": "code",
   "execution_count": null,
   "metadata": {},
   "outputs": [],
   "source": [
    "duplicates_trad.head()"
   ]
  },
  {
   "cell_type": "code",
   "execution_count": null,
   "metadata": {},
   "outputs": [],
   "source": [
    "duplicates_trad.shape"
   ]
  },
  {
   "cell_type": "code",
   "execution_count": null,
   "metadata": {},
   "outputs": [],
   "source": [
    "pivot_duplicates_trad = pd.pivot_table(duplicates_trad,index=['tipo','date_file'],\n",
    "                                  values=['total_due']\n",
    "                                  ,aggfunc = ['sum', len],margins=True)\n",
    "pivot_duplicates_trad.reset_index(drop=False, inplace=True)\n",
    "pivot_duplicates_trad.head()"
   ]
  },
  {
   "cell_type": "code",
   "execution_count": null,
   "metadata": {},
   "outputs": [],
   "source": [
    "pivot_duplicates_trad.shape"
   ]
  },
  {
   "cell_type": "markdown",
   "metadata": {},
   "source": [
    "#### FAST PAYMENTS "
   ]
  },
  {
   "cell_type": "code",
   "execution_count": null,
   "metadata": {},
   "outputs": [],
   "source": [
    "fp_files_1 = glob.glob(r'G:\\My Drive\\Settlement\\1.-Resultado-dispersión\\2022\\01.-ENERO\\Dispersión-FP*.xlsx', recursive=False)\n",
    "fp_files_1"
   ]
  },
  {
   "cell_type": "code",
   "execution_count": null,
   "metadata": {},
   "outputs": [],
   "source": [
    "pagos_2 = pd.concat([pd.read_excel(f,sheet_name='FAST PAYMENTS').assign(file_name=os.path.basename(f)) for f in fp_files_1])\n",
    "pagos_2['date_file'] = pagos_2[\"file_name\"].str[-15:-4]\n",
    "pagos_2['date_file']= pd.to_datetime(pagos_2['date_file']) \n",
    "pagos_2.sort_values(by=['date_file'],ascending=True,inplace=True)\n",
    "pagos_2['report_date_local']= pd.to_datetime(pagos_2['report_date_local']) \n",
    "pagos_2.head()"
   ]
  },
  {
   "cell_type": "code",
   "execution_count": null,
   "metadata": {},
   "outputs": [],
   "source": [
    "pagos_2.shape"
   ]
  },
  {
   "cell_type": "markdown",
   "metadata": {},
   "source": [
    "#### PAGOS REPETIDOS FAST PAYMENTS"
   ]
  },
  {
   "cell_type": "code",
   "execution_count": null,
   "metadata": {},
   "outputs": [],
   "source": [
    "duplicates_fp = pagos_2[pagos_2.duplicated(['report_id','date_file'] , keep=False)]\n",
    "duplicates_fp.sort_values(by=['date_file','report_id','Time'],inplace=True)\n",
    "duplicates_fp.head()"
   ]
  },
  {
   "cell_type": "code",
   "execution_count": null,
   "metadata": {},
   "outputs": [],
   "source": [
    "duplicates_fp.shape"
   ]
  },
  {
   "cell_type": "code",
   "execution_count": null,
   "metadata": {},
   "outputs": [],
   "source": [
    "duplicates_fp.drop_duplicates(subset=\"report_id\", keep='last', inplace=True)"
   ]
  },
  {
   "cell_type": "code",
   "execution_count": null,
   "metadata": {},
   "outputs": [],
   "source": [
    "duplicates_fp.head()"
   ]
  },
  {
   "cell_type": "code",
   "execution_count": null,
   "metadata": {},
   "outputs": [],
   "source": [
    "duplicates_fp.shape"
   ]
  },
  {
   "cell_type": "code",
   "execution_count": null,
   "metadata": {},
   "outputs": [],
   "source": [
    "pivot_duplicates_fp = pd.pivot_table(duplicates_fp,index=['tipo','date_file'],\n",
    "                                  values=['total_due']\n",
    "                                  ,aggfunc = ['sum', len],margins=True)\n",
    "pivot_duplicates_fp.reset_index(drop=False, inplace=True)\n",
    "pivot_duplicates_fp.head()"
   ]
  },
  {
   "cell_type": "code",
   "execution_count": null,
   "metadata": {},
   "outputs": [],
   "source": [
    "pivot_duplicates_fp.shape"
   ]
  },
  {
   "cell_type": "code",
   "execution_count": null,
   "metadata": {},
   "outputs": [],
   "source": [
    "# pivot_duplicates_fp.to_excel('DUPLICADOS FP JUNIO 2021.xlsx',index=True)"
   ]
  },
  {
   "cell_type": "markdown",
   "metadata": {},
   "source": [
    "#### ALL PAGOS"
   ]
  },
  {
   "cell_type": "code",
   "execution_count": null,
   "metadata": {},
   "outputs": [],
   "source": [
    "allpagos_nov = pd.concat([pagos_1,pagos_2])\n",
    "allpagos_nov.head()"
   ]
  },
  {
   "cell_type": "code",
   "execution_count": null,
   "metadata": {},
   "outputs": [],
   "source": [
    "allpagos_nov.shape"
   ]
  },
  {
   "cell_type": "code",
   "execution_count": null,
   "metadata": {},
   "outputs": [],
   "source": [
    "allpagos_nov['tipo'].unique()"
   ]
  },
  {
   "cell_type": "code",
   "execution_count": null,
   "metadata": {},
   "outputs": [],
   "source": [
    "group_allpagos = allpagos_nov.groupby(['date_file']).agg({'total_due':sum,'report_id':'count'}).reset_index()\n",
    "group_allpagos.head()"
   ]
  },
  {
   "cell_type": "code",
   "execution_count": null,
   "metadata": {},
   "outputs": [],
   "source": [
    "group_allpagos.shape"
   ]
  },
  {
   "cell_type": "markdown",
   "metadata": {},
   "source": [
    "#### PAGOS DEL DIA"
   ]
  },
  {
   "cell_type": "code",
   "execution_count": null,
   "metadata": {},
   "outputs": [],
   "source": [
    "pagosdia_nov = allpagos_nov[(allpagos_nov['tipo'].isin(['Pago del día']))]\n",
    "pagosdia_nov.head()"
   ]
  },
  {
   "cell_type": "code",
   "execution_count": null,
   "metadata": {},
   "outputs": [],
   "source": [
    "pagosdia_nov.shape"
   ]
  },
  {
   "cell_type": "code",
   "execution_count": null,
   "metadata": {},
   "outputs": [],
   "source": [
    "group_dia = pagosdia_nov.groupby(['date_file']).agg({'total_due':sum,'report_id':'count'}).reset_index()\n",
    "group_dia.head()"
   ]
  },
  {
   "cell_type": "code",
   "execution_count": null,
   "metadata": {},
   "outputs": [],
   "source": [
    "group_dia.shape"
   ]
  },
  {
   "cell_type": "markdown",
   "metadata": {},
   "source": [
    "# PRIMER MATCH (SETTLED VS PAGOS DEL DIA)"
   ]
  },
  {
   "cell_type": "code",
   "execution_count": null,
   "metadata": {},
   "outputs": [],
   "source": [
    "check_1 = cum_1.merge(pagosdia_nov[['report_id','total_due','tipo','file_name']] ,on='report_id', how='left')\n",
    "check_1['total_due_y'].fillna('NO ENCONTRADO')\n",
    "check_1['tipo'].fillna('NO ENCONTRADO',inplace=True)\n",
    "check_1['file_name_y'].fillna('NO ENCONTRADO',inplace=True)\n",
    "# check_1.fillna({'total_due_y':'NO ENCONTRADO', 'tipo':'NO ENCONTRADO', 'file_name_y':'NO ENCONTRADO'}, inplace=True)\n",
    "check_1.head()"
   ]
  },
  {
   "cell_type": "code",
   "execution_count": null,
   "metadata": {},
   "outputs": [],
   "source": [
    "check_1['file_name_y'].unique()"
   ]
  },
  {
   "cell_type": "code",
   "execution_count": null,
   "metadata": {},
   "outputs": [],
   "source": [
    "not_found_1 = check_1[(check_1['file_name_y'] == 'NO ENCONTRADO') & (check_1['total_due_x'] != 0)]\n",
    "not_found_1.head()"
   ]
  },
  {
   "cell_type": "code",
   "execution_count": null,
   "metadata": {},
   "outputs": [],
   "source": [
    "not_found_1.shape"
   ]
  },
  {
   "cell_type": "code",
   "execution_count": null,
   "metadata": {},
   "outputs": [],
   "source": [
    "group_notfound = not_found_1.groupby(['report_date_local']).agg({'total_due_x':sum,'report_id':'count'}).reset_index()\n",
    "group_notfound.rename(columns={'report_date_local':'date_file'},inplace=True)\n",
    "group_notfound.head()"
   ]
  },
  {
   "cell_type": "code",
   "execution_count": null,
   "metadata": {},
   "outputs": [],
   "source": [
    "group_notfound.shape"
   ]
  },
  {
   "cell_type": "markdown",
   "metadata": {},
   "source": [
    "#### REPROGRAMACIONES"
   ]
  },
  {
   "cell_type": "code",
   "execution_count": null,
   "metadata": {},
   "outputs": [],
   "source": [
    "repro_nov = allpagos_nov[(allpagos_nov['tipo'].isin(['Reprogramación']))]\n",
    "repro_nov.head()"
   ]
  },
  {
   "cell_type": "code",
   "execution_count": null,
   "metadata": {},
   "outputs": [],
   "source": [
    "repro_nov.shape"
   ]
  },
  {
   "cell_type": "code",
   "execution_count": null,
   "metadata": {},
   "outputs": [],
   "source": [
    "group_repro = repro_nov.groupby(['date_file']).agg({'total_due':sum,'report_id':'count'}).reset_index()\n",
    "group_repro.head()"
   ]
  },
  {
   "cell_type": "code",
   "execution_count": null,
   "metadata": {},
   "outputs": [],
   "source": [
    "group_repro.shape"
   ]
  },
  {
   "cell_type": "markdown",
   "metadata": {},
   "source": [
    "# SEGUNDO MATCH (IDENTIFICACION DE REPROGRAMACIONES)"
   ]
  },
  {
   "cell_type": "code",
   "execution_count": null,
   "metadata": {},
   "outputs": [],
   "source": [
    "check_2 = not_found_1.merge(repro_nov[['report_id','total_due','tipo','file_name']] ,on='report_id', how='left')\n",
    "check_2.head()"
   ]
  },
  {
   "cell_type": "code",
   "execution_count": null,
   "metadata": {},
   "outputs": [],
   "source": [
    "check_2.shape"
   ]
  },
  {
   "cell_type": "code",
   "execution_count": null,
   "metadata": {},
   "outputs": [],
   "source": [
    "# writer = pd.ExcelWriter('REPROGRAMACIONES JUNIO 2021.xlsx', engine='xlsxwriter', options={'encoding':'utf-8'})\n",
    "# check_2.to_excel(writer, sheet_name='DETAIL REPROGRAMACIONES',index=False)\n",
    "# writer.save()\n",
    "# writer.close()"
   ]
  },
  {
   "cell_type": "markdown",
   "metadata": {},
   "source": [
    "# FECHA DE PAGOS (SETTLED VS PAGOS DEL DIA)"
   ]
  },
  {
   "cell_type": "code",
   "execution_count": null,
   "metadata": {},
   "outputs": [],
   "source": [
    "fecha_pago = not_found_1.merge(repro_nov[['report_id','date_file','tipo','status','file_name']] ,on='report_id', how='left')\n",
    "fecha_pago.sort_values(by=['date_file'],ascending=True,inplace=True)\n",
    "fecha_pago.head()"
   ]
  },
  {
   "cell_type": "code",
   "execution_count": null,
   "metadata": {},
   "outputs": [],
   "source": [
    "fecha_pago.shape"
   ]
  },
  {
   "cell_type": "code",
   "execution_count": null,
   "metadata": {},
   "outputs": [],
   "source": [
    "fecha_pago.drop_duplicates(subset ='report_id',keep='first',inplace=True) "
   ]
  },
  {
   "cell_type": "code",
   "execution_count": null,
   "metadata": {},
   "outputs": [],
   "source": [
    "fecha_pago.head()"
   ]
  },
  {
   "cell_type": "code",
   "execution_count": null,
   "metadata": {},
   "outputs": [],
   "source": [
    "fecha_pago.shape"
   ]
  },
  {
   "cell_type": "markdown",
   "metadata": {},
   "source": [
    "### AGRUPADO POR DÍA"
   ]
  },
  {
   "cell_type": "code",
   "execution_count": 76,
   "metadata": {},
   "outputs": [
    {
     "data": {
      "text/html": [
       "<div>\n",
       "<style scoped>\n",
       "    .dataframe tbody tr th:only-of-type {\n",
       "        vertical-align: middle;\n",
       "    }\n",
       "\n",
       "    .dataframe tbody tr th {\n",
       "        vertical-align: top;\n",
       "    }\n",
       "\n",
       "    .dataframe thead tr th {\n",
       "        text-align: left;\n",
       "    }\n",
       "\n",
       "    .dataframe thead tr:last-of-type th {\n",
       "        text-align: right;\n",
       "    }\n",
       "</style>\n",
       "<table border=\"1\" class=\"dataframe\">\n",
       "  <thead>\n",
       "    <tr>\n",
       "      <th></th>\n",
       "      <th>sum</th>\n",
       "      <th>len</th>\n",
       "    </tr>\n",
       "    <tr>\n",
       "      <th></th>\n",
       "      <th>total_due_x</th>\n",
       "      <th>total_due_x</th>\n",
       "    </tr>\n",
       "    <tr>\n",
       "      <th>report_date_local</th>\n",
       "      <th></th>\n",
       "      <th></th>\n",
       "    </tr>\n",
       "  </thead>\n",
       "  <tbody>\n",
       "    <tr>\n",
       "      <th>2022-01-01 00:00:00</th>\n",
       "      <td>649,642.67</td>\n",
       "      <td>228.00</td>\n",
       "    </tr>\n",
       "    <tr>\n",
       "      <th>2022-01-02 00:00:00</th>\n",
       "      <td>513,171.73</td>\n",
       "      <td>80.00</td>\n",
       "    </tr>\n",
       "    <tr>\n",
       "      <th>2022-01-03 00:00:00</th>\n",
       "      <td>604,708.53</td>\n",
       "      <td>153.00</td>\n",
       "    </tr>\n",
       "    <tr>\n",
       "      <th>2022-01-04 00:00:00</th>\n",
       "      <td>470,943.54</td>\n",
       "      <td>227.00</td>\n",
       "    </tr>\n",
       "    <tr>\n",
       "      <th>2022-01-05 00:00:00</th>\n",
       "      <td>115,249.28</td>\n",
       "      <td>231.00</td>\n",
       "    </tr>\n",
       "  </tbody>\n",
       "</table>\n",
       "</div>"
      ],
      "text/plain": [
       "                            sum         len\n",
       "                    total_due_x total_due_x\n",
       "report_date_local                          \n",
       "2022-01-01 00:00:00  649,642.67      228.00\n",
       "2022-01-02 00:00:00  513,171.73       80.00\n",
       "2022-01-03 00:00:00  604,708.53      153.00\n",
       "2022-01-04 00:00:00  470,943.54      227.00\n",
       "2022-01-05 00:00:00  115,249.28      231.00"
      ]
     },
     "execution_count": 76,
     "metadata": {},
     "output_type": "execute_result"
    }
   ],
   "source": [
    "pivot_fecha_pago = pd.pivot_table(fecha_pago,index=['report_date_local'],\n",
    "                                  values=['total_due_x'],aggfunc = ['sum', len],margins=True)\n",
    "pivot_fecha_pago.head()"
   ]
  },
  {
   "cell_type": "code",
   "execution_count": 77,
   "metadata": {},
   "outputs": [
    {
     "data": {
      "text/plain": [
       "(32, 2)"
      ]
     },
     "execution_count": 77,
     "metadata": {},
     "output_type": "execute_result"
    }
   ],
   "source": [
    "pivot_fecha_pago.shape"
   ]
  },
  {
   "cell_type": "markdown",
   "metadata": {},
   "source": [
    "# PAGOS MANUALES"
   ]
  },
  {
   "cell_type": "code",
   "execution_count": null,
   "metadata": {},
   "outputs": [],
   "source": [
    "file_manual = glob.glob(r'G:\\My Drive\\Settlement\\5.-HISTORICO FILES PAGOS\\2022\\01. JANUARY\\MANUALES\\*.xlsx', recursive=False)\n",
    "file_manual"
   ]
  },
  {
   "cell_type": "code",
   "execution_count": null,
   "metadata": {},
   "outputs": [],
   "source": [
    "manuales_all = pd.concat([pd.read_excel(f,sheet_name='Formato Pago Manual',skiprows=1\n",
    "                                      ,converters={'Cta. CLABE de depósito':str,'report_id':str})\n",
    "                          .assign(file_name=os.path.basename(f)) for f in file_manual])\n",
    "manuales_all['Date'] = manuales_all[\"file_name\"].str[-16:-4]\n",
    "manuales_all['Date']= pd.to_datetime(manuales_all['Date'])  \n",
    "manuales_all['Tipo'] = 'MANUAL'"
   ]
  },
  {
   "cell_type": "code",
   "execution_count": null,
   "metadata": {},
   "outputs": [],
   "source": [
    "manuales_final = manuales_all[['Date','ME NAME',' (mxn)','Banco','Justificación para el pago','Tipo','Report ID']]\n",
    "manuales_final.head()"
   ]
  },
  {
   "cell_type": "code",
   "execution_count": null,
   "metadata": {},
   "outputs": [],
   "source": [
    "manuales_final.shape"
   ]
  },
  {
   "cell_type": "code",
   "execution_count": null,
   "metadata": {},
   "outputs": [],
   "source": [
    "manuales_final.columns"
   ]
  },
  {
   "cell_type": "code",
   "execution_count": null,
   "metadata": {},
   "outputs": [],
   "source": [
    "group_manual = manuales_final.groupby(['Date']).agg({' (mxn)':sum,'Report ID':'count'}).reset_index()\n",
    "group_manual.rename(columns={'Date':'date_file','Report ID':'report_id'},inplace=True)\n",
    "group_manual.head()"
   ]
  },
  {
   "cell_type": "code",
   "execution_count": null,
   "metadata": {},
   "outputs": [],
   "source": [
    "group_manual.shape"
   ]
  },
  {
   "cell_type": "markdown",
   "metadata": {},
   "source": [
    "# ACUMULADOS SETTLEMENT"
   ]
  },
  {
   "cell_type": "code",
   "execution_count": null,
   "metadata": {},
   "outputs": [],
   "source": [
    "conc_disp = cum_distinct_0.groupby(['report_date_local']).agg({'total_due':sum,'report_id':'count'}).reset_index()\n",
    "conc_disp.rename(columns={'report_date_local':'date_file'}, inplace=True)\n",
    "conc_disp.head()"
   ]
  },
  {
   "cell_type": "code",
   "execution_count": null,
   "metadata": {},
   "outputs": [],
   "source": [
    "conc_disp.shape"
   ]
  },
  {
   "cell_type": "markdown",
   "metadata": {},
   "source": [
    "# MERGING ALL DATA FRAMES"
   ]
  },
  {
   "cell_type": "code",
   "execution_count": null,
   "metadata": {},
   "outputs": [],
   "source": [
    "total_1 = conc_disp.merge(group_repro[['date_file','total_due','report_id']],on='date_file',how='left') \\\n",
    ".merge(group_manual,on='date_file',how='left')\n",
    "total_1[' (mxn)'].fillna(0,inplace=True)\n",
    "total_1['report_id'].fillna(0,inplace=True)\n",
    "total_1.head()\n"
   ]
  },
  {
   "cell_type": "code",
   "execution_count": null,
   "metadata": {},
   "outputs": [],
   "source": [
    "total_1['count_total_pago_dia'] = total_1['report_id_x'] + total_1['report_id_y'] + total_1['report_id']\n",
    "total_1['sum_total_pago_dia'] = total_1['total_due_x'] + total_1['total_due_y'] + total_1[' (mxn)']\n"
   ]
  },
  {
   "cell_type": "code",
   "execution_count": null,
   "metadata": {},
   "outputs": [],
   "source": [
    "total_1"
   ]
  },
  {
   "cell_type": "markdown",
   "metadata": {},
   "source": [
    "# ACUMULADOS PAGO DEL DIA"
   ]
  },
  {
   "cell_type": "code",
   "execution_count": null,
   "metadata": {},
   "outputs": [],
   "source": [
    "total_2 = group_allpagos.merge(group_notfound[['date_file','total_due_x','report_id']],on='date_file',how='left')\\\n",
    ".merge(group_manual,on='date_file',how='left')\n",
    "total_2[' (mxn)'].fillna(0,inplace=True)\n",
    "total_2['report_id'].fillna(0,inplace=True)\n",
    "total_2['total_due_x'].fillna(0,inplace=True)\n",
    "total_2['report_id_y'].fillna(0,inplace=True)\n",
    "total_2.head()"
   ]
  },
  {
   "cell_type": "code",
   "execution_count": null,
   "metadata": {},
   "outputs": [],
   "source": [
    "total_2['count_swap_dia'] = total_2['report_id_x'] + total_2['report_id_y'] + total_2['report_id']\n",
    "total_2['sum_swap_dia'] = total_2['total_due'] + total_2['total_due_x'] + total_2[' (mxn)']"
   ]
  },
  {
   "cell_type": "code",
   "execution_count": null,
   "metadata": {},
   "outputs": [],
   "source": [
    "total_2.head()"
   ]
  },
  {
   "cell_type": "code",
   "execution_count": null,
   "metadata": {},
   "outputs": [],
   "source": [
    "total_2.shape"
   ]
  },
  {
   "cell_type": "markdown",
   "metadata": {},
   "source": [
    "# COMPARACION FINAL"
   ]
  },
  {
   "cell_type": "code",
   "execution_count": null,
   "metadata": {},
   "outputs": [],
   "source": [
    "final_comparacion = total_1[['date_file','count_total_pago_dia','sum_total_pago_dia']] \\\n",
    ".merge(total_2[['date_file','count_swap_dia','sum_swap_dia']],on='date_file',how='left')\n",
    "final_comparacion.head()"
   ]
  },
  {
   "cell_type": "code",
   "execution_count": null,
   "metadata": {},
   "outputs": [],
   "source": [
    "final_comparacion['diff_count'] = final_comparacion['count_total_pago_dia'] - final_comparacion['count_swap_dia']\n",
    "final_comparacion['diff_sum'] = final_comparacion['sum_total_pago_dia'] - final_comparacion['sum_swap_dia']"
   ]
  },
  {
   "cell_type": "code",
   "execution_count": null,
   "metadata": {
    "scrolled": true
   },
   "outputs": [],
   "source": [
    "final_comparacion"
   ]
  },
  {
   "cell_type": "code",
   "execution_count": 79,
   "metadata": {},
   "outputs": [],
   "source": [
    "writer = pd.ExcelWriter('FASE III. SETTLED VS PAGO DIA ENERO 2022.xlsx', engine='xlsxwriter', options={'encoding':'utf-8'})\n",
    "pivot_fecha_pago.to_excel(writer, sheet_name='ENVIADOS POSTERIOR')\n",
    "fecha_pago.to_excel(writer, sheet_name='DETAIL NO ENCONTRADO',index=False)\n",
    "pivot_duplicates_trad.to_excel(writer, sheet_name='PAGOS DUPLICADOS')\n",
    "pivot_duplicates_fp.to_excel(writer, sheet_name='FP PAGOS DUPLICADOS')\n",
    "writer.save()\n",
    "writer.close()"
   ]
  },
  {
   "cell_type": "code",
   "execution_count": null,
   "metadata": {},
   "outputs": [],
   "source": []
  }
 ],
 "metadata": {
  "kernelspec": {
   "display_name": "Python 3 (ipykernel)",
   "language": "python",
   "name": "python3"
  },
  "language_info": {
   "codemirror_mode": {
    "name": "ipython",
    "version": 3
   },
   "file_extension": ".py",
   "mimetype": "text/x-python",
   "name": "python",
   "nbconvert_exporter": "python",
   "pygments_lexer": "ipython3",
   "version": "3.8.12"
  }
 },
 "nbformat": 4,
 "nbformat_minor": 4
}
