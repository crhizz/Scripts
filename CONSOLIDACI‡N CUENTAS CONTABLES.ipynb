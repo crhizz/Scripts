{
 "cells": [
  {
   "cell_type": "code",
   "execution_count": 1,
   "id": "18cc9c73",
   "metadata": {},
   "outputs": [],
   "source": [
    "import numpy as np\n",
    "import pandas as pd\n",
    "import zipfile\n",
    "from zipfile import ZipFile\n",
    "import glob\n",
    "import os\n",
    "from openpyxl import load_workbook\n",
    "pd.options.display.float_format = '{:,.2f}'.format"
   ]
  },
  {
   "cell_type": "code",
   "execution_count": 2,
   "id": "fc2740ef",
   "metadata": {},
   "outputs": [],
   "source": [
    "url = r'C:\\Users\\Cristian.Aparicio\\Documents\\POLIZAS NETSUITE\\NETSUITE\\2022\\09. SEPTIEMBRE\\Validacion_NS_Septiembre_2022_VF.xlsx'"
   ]
  },
  {
   "cell_type": "code",
   "execution_count": 3,
   "id": "fe041553",
   "metadata": {},
   "outputs": [
    {
     "data": {
      "text/plain": [
       "<pandas.io.excel._base.ExcelFile at 0x21a6fd52070>"
      ]
     },
     "execution_count": 3,
     "metadata": {},
     "output_type": "execute_result"
    }
   ],
   "source": [
    "poliza_ns_file = pd.ExcelFile(url)\n",
    "poliza_ns_file"
   ]
  },
  {
   "cell_type": "code",
   "execution_count": 4,
   "id": "ba60660e",
   "metadata": {},
   "outputs": [
    {
     "data": {
      "text/plain": [
       "['2022.09.01',\n",
       " '2022.09.02',\n",
       " '2022.09.03',\n",
       " '2022.09.04',\n",
       " '2022.09.05',\n",
       " '2022.09.06',\n",
       " '2022.09.07',\n",
       " '2022.09.08',\n",
       " '2022.09.09',\n",
       " '2022.09.10',\n",
       " '2022.09.11',\n",
       " '2022.09.12',\n",
       " '2022.09.13',\n",
       " '2022.09.14',\n",
       " '2022.09.15',\n",
       " '2022.09.16',\n",
       " '2022.09.17',\n",
       " '2022.09.18',\n",
       " '2022.09.19',\n",
       " '2022.09.20',\n",
       " '2022.09.21',\n",
       " '2022.09.22',\n",
       " '2022.09.23',\n",
       " '2022.09.24',\n",
       " '2022.09.25',\n",
       " '2022.09.26',\n",
       " '2022.09.27',\n",
       " '2022.09.28',\n",
       " '2022.09.29',\n",
       " '2022.09.30']"
      ]
     },
     "execution_count": 4,
     "metadata": {},
     "output_type": "execute_result"
    }
   ],
   "source": [
    "poliza_ns_file.sheet_names"
   ]
  },
  {
   "cell_type": "code",
   "execution_count": 5,
   "id": "0e21a25f",
   "metadata": {},
   "outputs": [],
   "source": [
    "all_sheets = pd.read_excel(url, sheet_name=[0,1,2,3,4,5,6,7,8,9,10,11,12,13,14,15,16,17,18,19,20,21,22,23,24,25,26,27,28,29])"
   ]
  },
  {
   "cell_type": "code",
   "execution_count": 6,
   "id": "a77f6d74",
   "metadata": {},
   "outputs": [
    {
     "data": {
      "text/plain": [
       "dict_keys([0, 1, 2, 3, 4, 5, 6, 7, 8, 9, 10, 11, 12, 13, 14, 15, 16, 17, 18, 19, 20, 21, 22, 23, 24, 25, 26, 27, 28, 29])"
      ]
     },
     "execution_count": 6,
     "metadata": {},
     "output_type": "execute_result"
    }
   ],
   "source": [
    "all_sheets.keys()"
   ]
  },
  {
   "cell_type": "code",
   "execution_count": 7,
   "id": "685af0d9",
   "metadata": {},
   "outputs": [
    {
     "data": {
      "text/html": [
       "<div>\n",
       "<style scoped>\n",
       "    .dataframe tbody tr th:only-of-type {\n",
       "        vertical-align: middle;\n",
       "    }\n",
       "\n",
       "    .dataframe tbody tr th {\n",
       "        vertical-align: top;\n",
       "    }\n",
       "\n",
       "    .dataframe thead th {\n",
       "        text-align: right;\n",
       "    }\n",
       "</style>\n",
       "<table border=\"1\" class=\"dataframe\">\n",
       "  <thead>\n",
       "    <tr style=\"text-align: right;\">\n",
       "      <th></th>\n",
       "      <th>level_0</th>\n",
       "      <th>level_1</th>\n",
       "      <th>CUENTA</th>\n",
       "      <th>DÉBITO</th>\n",
       "      <th>CRÉDITO</th>\n",
       "      <th>NOTA</th>\n",
       "      <th>PBC ACCOUNT TYPE</th>\n",
       "      <th>MANUAL</th>\n",
       "      <th>DIFF</th>\n",
       "      <th>Unnamed: 7</th>\n",
       "    </tr>\n",
       "  </thead>\n",
       "  <tbody>\n",
       "    <tr>\n",
       "      <th>0</th>\n",
       "      <td>0</td>\n",
       "      <td>0</td>\n",
       "      <td>219-05-00 settlement process CXP : CxP Loans T...</td>\n",
       "      <td>0.00</td>\n",
       "      <td>1,384,230.53</td>\n",
       "      <td>Adj Loans Lenders</td>\n",
       "      <td>Cuentas por pagar</td>\n",
       "      <td>-1,384,230.53</td>\n",
       "      <td>0.00</td>\n",
       "      <td>0.00</td>\n",
       "    </tr>\n",
       "    <tr>\n",
       "      <th>1</th>\n",
       "      <td>0</td>\n",
       "      <td>1</td>\n",
       "      <td>219-01-00 settlement process CXP : Depósitos p...</td>\n",
       "      <td>NaN</td>\n",
       "      <td>251.45</td>\n",
       "      <td>Adjustments Cancelaciones</td>\n",
       "      <td>Cuentas por pagar</td>\n",
       "      <td>-251.45</td>\n",
       "      <td>0.00</td>\n",
       "      <td>NaN</td>\n",
       "    </tr>\n",
       "    <tr>\n",
       "      <th>2</th>\n",
       "      <td>0</td>\n",
       "      <td>2</td>\n",
       "      <td>219-01-00 settlement process CXP : Depósitos p...</td>\n",
       "      <td>0.00</td>\n",
       "      <td>0.00</td>\n",
       "      <td>Adjustments Cancelaciones Fees</td>\n",
       "      <td>Cuentas por pagar</td>\n",
       "      <td>0.00</td>\n",
       "      <td>0.00</td>\n",
       "      <td>NaN</td>\n",
       "    </tr>\n",
       "    <tr>\n",
       "      <th>3</th>\n",
       "      <td>0</td>\n",
       "      <td>3</td>\n",
       "      <td>219-01-00 settlement process CXP : Depósitos p...</td>\n",
       "      <td>0.00</td>\n",
       "      <td>0.00</td>\n",
       "      <td>Adjustments Cancelaciones Taxes</td>\n",
       "      <td>Cuentas por pagar</td>\n",
       "      <td>0.00</td>\n",
       "      <td>0.00</td>\n",
       "      <td>NaN</td>\n",
       "    </tr>\n",
       "    <tr>\n",
       "      <th>4</th>\n",
       "      <td>0</td>\n",
       "      <td>4</td>\n",
       "      <td>603-85-01 Gastos de administración : Reserva d...</td>\n",
       "      <td>NaN</td>\n",
       "      <td>9,302.37</td>\n",
       "      <td>Cobranza</td>\n",
       "      <td>Gasto</td>\n",
       "      <td>-9,302.37</td>\n",
       "      <td>0.00</td>\n",
       "      <td>NaN</td>\n",
       "    </tr>\n",
       "  </tbody>\n",
       "</table>\n",
       "</div>"
      ],
      "text/plain": [
       "   level_0  level_1                                             CUENTA  \\\n",
       "0        0        0  219-05-00 settlement process CXP : CxP Loans T...   \n",
       "1        0        1  219-01-00 settlement process CXP : Depósitos p...   \n",
       "2        0        2  219-01-00 settlement process CXP : Depósitos p...   \n",
       "3        0        3  219-01-00 settlement process CXP : Depósitos p...   \n",
       "4        0        4  603-85-01 Gastos de administración : Reserva d...   \n",
       "\n",
       "   DÉBITO      CRÉDITO                             NOTA   PBC ACCOUNT TYPE  \\\n",
       "0    0.00 1,384,230.53                Adj Loans Lenders  Cuentas por pagar   \n",
       "1     NaN       251.45        Adjustments Cancelaciones  Cuentas por pagar   \n",
       "2    0.00         0.00   Adjustments Cancelaciones Fees  Cuentas por pagar   \n",
       "3    0.00         0.00  Adjustments Cancelaciones Taxes  Cuentas por pagar   \n",
       "4     NaN     9,302.37                         Cobranza              Gasto   \n",
       "\n",
       "         MANUAL  DIFF  Unnamed: 7  \n",
       "0 -1,384,230.53  0.00        0.00  \n",
       "1       -251.45  0.00         NaN  \n",
       "2          0.00  0.00         NaN  \n",
       "3          0.00  0.00         NaN  \n",
       "4     -9,302.37  0.00         NaN  "
      ]
     },
     "execution_count": 7,
     "metadata": {},
     "output_type": "execute_result"
    }
   ],
   "source": [
    "poliza_ns = pd.concat(all_sheets).reset_index()\n",
    "poliza_ns.head()"
   ]
  },
  {
   "cell_type": "code",
   "execution_count": 8,
   "id": "b15d97d6",
   "metadata": {},
   "outputs": [
    {
     "data": {
      "text/plain": [
       "array([ 0,  1,  2,  3,  4,  5,  6,  7,  8,  9, 10, 11, 12, 13, 14, 15, 16,\n",
       "       17, 18, 19, 20, 21, 22, 23, 24, 25, 26, 27, 28, 29], dtype=int64)"
      ]
     },
     "execution_count": 8,
     "metadata": {},
     "output_type": "execute_result"
    }
   ],
   "source": [
    "poliza_ns['level_0'].unique()"
   ]
  },
  {
   "cell_type": "code",
   "execution_count": 9,
   "id": "5ac5978b",
   "metadata": {},
   "outputs": [],
   "source": [
    "writer = pd.ExcelWriter('Consolidado_cuentas_NS_septiembre_2022_VF.xlsx',\n",
    "                        engine='xlsxwriter',\n",
    "                        engine_kwargs={'options': {'encoding':'utf-8'}})\n",
    "poliza_ns.to_excel(writer, sheet_name='Detalle', index=False)\n",
    "writer.close()"
   ]
  },
  {
   "cell_type": "code",
   "execution_count": null,
   "id": "c4b7ad7d",
   "metadata": {},
   "outputs": [],
   "source": []
  }
 ],
 "metadata": {
  "kernelspec": {
   "display_name": "Python 3 (ipykernel)",
   "language": "python",
   "name": "python3"
  },
  "language_info": {
   "codemirror_mode": {
    "name": "ipython",
    "version": 3
   },
   "file_extension": ".py",
   "mimetype": "text/x-python",
   "name": "python",
   "nbconvert_exporter": "python",
   "pygments_lexer": "ipython3",
   "version": "3.9.18"
  }
 },
 "nbformat": 4,
 "nbformat_minor": 5
}
