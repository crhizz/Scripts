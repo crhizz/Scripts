{
 "cells": [
  {
   "cell_type": "code",
   "execution_count": 1,
   "metadata": {},
   "outputs": [],
   "source": [
    "import pandas as pd\n",
    "import numpy as np\n",
    "import glob\n",
    "import os\n",
    "from openpyxl import load_workbook\n",
    "from functools import reduce\n",
    "pd.options.display.float_format = '{:,.2f}'.format"
   ]
  },
  {
   "cell_type": "markdown",
   "metadata": {},
   "source": [
    "#### ACUMULADO"
   ]
  },
  {
   "cell_type": "code",
   "execution_count": 2,
   "metadata": {},
   "outputs": [
    {
     "data": {
      "text/plain": [
       "['C:\\\\Users\\\\Cristian.Aparicio\\\\Documents\\\\DISPERSIONES\\\\2023\\\\05. MAYO\\\\QUERIES\\\\SETTLEMENT 2023-05-01.csv',\n",
       " 'C:\\\\Users\\\\Cristian.Aparicio\\\\Documents\\\\DISPERSIONES\\\\2023\\\\05. MAYO\\\\QUERIES\\\\SETTLEMENT 2023-05-02.csv',\n",
       " 'C:\\\\Users\\\\Cristian.Aparicio\\\\Documents\\\\DISPERSIONES\\\\2023\\\\05. MAYO\\\\QUERIES\\\\SETTLEMENT 2023-05-03.csv',\n",
       " 'C:\\\\Users\\\\Cristian.Aparicio\\\\Documents\\\\DISPERSIONES\\\\2023\\\\05. MAYO\\\\QUERIES\\\\SETTLEMENT 2023-05-04.csv',\n",
       " 'C:\\\\Users\\\\Cristian.Aparicio\\\\Documents\\\\DISPERSIONES\\\\2023\\\\05. MAYO\\\\QUERIES\\\\SETTLEMENT 2023-05-05.csv',\n",
       " 'C:\\\\Users\\\\Cristian.Aparicio\\\\Documents\\\\DISPERSIONES\\\\2023\\\\05. MAYO\\\\QUERIES\\\\SETTLEMENT 2023-05-06.csv',\n",
       " 'C:\\\\Users\\\\Cristian.Aparicio\\\\Documents\\\\DISPERSIONES\\\\2023\\\\05. MAYO\\\\QUERIES\\\\SETTLEMENT 2023-05-07.csv',\n",
       " 'C:\\\\Users\\\\Cristian.Aparicio\\\\Documents\\\\DISPERSIONES\\\\2023\\\\05. MAYO\\\\QUERIES\\\\SETTLEMENT 2023-05-08.csv',\n",
       " 'C:\\\\Users\\\\Cristian.Aparicio\\\\Documents\\\\DISPERSIONES\\\\2023\\\\05. MAYO\\\\QUERIES\\\\SETTLEMENT 2023-05-09.csv',\n",
       " 'C:\\\\Users\\\\Cristian.Aparicio\\\\Documents\\\\DISPERSIONES\\\\2023\\\\05. MAYO\\\\QUERIES\\\\SETTLEMENT 2023-05-10.csv',\n",
       " 'C:\\\\Users\\\\Cristian.Aparicio\\\\Documents\\\\DISPERSIONES\\\\2023\\\\05. MAYO\\\\QUERIES\\\\SETTLEMENT 2023-05-11.csv',\n",
       " 'C:\\\\Users\\\\Cristian.Aparicio\\\\Documents\\\\DISPERSIONES\\\\2023\\\\05. MAYO\\\\QUERIES\\\\SETTLEMENT 2023-05-12.csv',\n",
       " 'C:\\\\Users\\\\Cristian.Aparicio\\\\Documents\\\\DISPERSIONES\\\\2023\\\\05. MAYO\\\\QUERIES\\\\SETTLEMENT 2023-05-13.csv',\n",
       " 'C:\\\\Users\\\\Cristian.Aparicio\\\\Documents\\\\DISPERSIONES\\\\2023\\\\05. MAYO\\\\QUERIES\\\\SETTLEMENT 2023-05-14.csv',\n",
       " 'C:\\\\Users\\\\Cristian.Aparicio\\\\Documents\\\\DISPERSIONES\\\\2023\\\\05. MAYO\\\\QUERIES\\\\SETTLEMENT 2023-05-15.csv',\n",
       " 'C:\\\\Users\\\\Cristian.Aparicio\\\\Documents\\\\DISPERSIONES\\\\2023\\\\05. MAYO\\\\QUERIES\\\\SETTLEMENT 2023-05-16.csv',\n",
       " 'C:\\\\Users\\\\Cristian.Aparicio\\\\Documents\\\\DISPERSIONES\\\\2023\\\\05. MAYO\\\\QUERIES\\\\SETTLEMENT 2023-05-17.csv',\n",
       " 'C:\\\\Users\\\\Cristian.Aparicio\\\\Documents\\\\DISPERSIONES\\\\2023\\\\05. MAYO\\\\QUERIES\\\\SETTLEMENT 2023-05-18.csv',\n",
       " 'C:\\\\Users\\\\Cristian.Aparicio\\\\Documents\\\\DISPERSIONES\\\\2023\\\\05. MAYO\\\\QUERIES\\\\SETTLEMENT 2023-05-19.csv',\n",
       " 'C:\\\\Users\\\\Cristian.Aparicio\\\\Documents\\\\DISPERSIONES\\\\2023\\\\05. MAYO\\\\QUERIES\\\\SETTLEMENT 2023-05-20.csv',\n",
       " 'C:\\\\Users\\\\Cristian.Aparicio\\\\Documents\\\\DISPERSIONES\\\\2023\\\\05. MAYO\\\\QUERIES\\\\SETTLEMENT 2023-05-21.csv',\n",
       " 'C:\\\\Users\\\\Cristian.Aparicio\\\\Documents\\\\DISPERSIONES\\\\2023\\\\05. MAYO\\\\QUERIES\\\\SETTLEMENT 2023-05-22.csv',\n",
       " 'C:\\\\Users\\\\Cristian.Aparicio\\\\Documents\\\\DISPERSIONES\\\\2023\\\\05. MAYO\\\\QUERIES\\\\SETTLEMENT 2023-05-23.csv',\n",
       " 'C:\\\\Users\\\\Cristian.Aparicio\\\\Documents\\\\DISPERSIONES\\\\2023\\\\05. MAYO\\\\QUERIES\\\\SETTLEMENT 2023-05-24.csv',\n",
       " 'C:\\\\Users\\\\Cristian.Aparicio\\\\Documents\\\\DISPERSIONES\\\\2023\\\\05. MAYO\\\\QUERIES\\\\SETTLEMENT 2023-05-25.csv',\n",
       " 'C:\\\\Users\\\\Cristian.Aparicio\\\\Documents\\\\DISPERSIONES\\\\2023\\\\05. MAYO\\\\QUERIES\\\\SETTLEMENT 2023-05-26.csv',\n",
       " 'C:\\\\Users\\\\Cristian.Aparicio\\\\Documents\\\\DISPERSIONES\\\\2023\\\\05. MAYO\\\\QUERIES\\\\SETTLEMENT 2023-05-27.csv',\n",
       " 'C:\\\\Users\\\\Cristian.Aparicio\\\\Documents\\\\DISPERSIONES\\\\2023\\\\05. MAYO\\\\QUERIES\\\\SETTLEMENT 2023-05-28.csv',\n",
       " 'C:\\\\Users\\\\Cristian.Aparicio\\\\Documents\\\\DISPERSIONES\\\\2023\\\\05. MAYO\\\\QUERIES\\\\SETTLEMENT 2023-05-29.csv',\n",
       " 'C:\\\\Users\\\\Cristian.Aparicio\\\\Documents\\\\DISPERSIONES\\\\2023\\\\05. MAYO\\\\QUERIES\\\\SETTLEMENT 2023-05-30.csv',\n",
       " 'C:\\\\Users\\\\Cristian.Aparicio\\\\Documents\\\\DISPERSIONES\\\\2023\\\\05. MAYO\\\\QUERIES\\\\SETTLEMENT 2023-05-31.csv']"
      ]
     },
     "execution_count": 2,
     "metadata": {},
     "output_type": "execute_result"
    }
   ],
   "source": [
    "cumfiles = glob.glob(r'C:\\Users\\Cristian.Aparicio\\Documents\\DISPERSIONES\\2023\\05. MAYO\\QUERIES\\*.csv', recursive=False)\n",
    "cumfiles"
   ]
  },
  {
   "cell_type": "code",
   "execution_count": 3,
   "metadata": {},
   "outputs": [
    {
     "data": {
      "text/html": [
       "<div>\n",
       "<style scoped>\n",
       "    .dataframe tbody tr th:only-of-type {\n",
       "        vertical-align: middle;\n",
       "    }\n",
       "\n",
       "    .dataframe tbody tr th {\n",
       "        vertical-align: top;\n",
       "    }\n",
       "\n",
       "    .dataframe thead th {\n",
       "        text-align: right;\n",
       "    }\n",
       "</style>\n",
       "<table border=\"1\" class=\"dataframe\">\n",
       "  <thead>\n",
       "    <tr style=\"text-align: right;\">\n",
       "      <th></th>\n",
       "      <th>merchant_id</th>\n",
       "      <th>merchant_name</th>\n",
       "      <th>user_email</th>\n",
       "      <th>report_id</th>\n",
       "      <th>report_date_local</th>\n",
       "      <th>total_transactions</th>\n",
       "      <th>total_fees_charged</th>\n",
       "      <th>total_taxes</th>\n",
       "      <th>applied_fees_benefits</th>\n",
       "      <th>applied_taxes_benefits</th>\n",
       "      <th>...</th>\n",
       "      <th>total_released</th>\n",
       "      <th>total_retained</th>\n",
       "      <th>tipopago</th>\n",
       "      <th>total_due</th>\n",
       "      <th>type</th>\n",
       "      <th>created_date</th>\n",
       "      <th>created_time</th>\n",
       "      <th>updated_date</th>\n",
       "      <th>updated_time</th>\n",
       "      <th>file_name</th>\n",
       "    </tr>\n",
       "  </thead>\n",
       "  <tbody>\n",
       "    <tr>\n",
       "      <th>0</th>\n",
       "      <td>86891848-99c4-41b3-8c64-2cd863b1d075</td>\n",
       "      <td>RHR Y CC</td>\n",
       "      <td>phisabel1@hotmail.com</td>\n",
       "      <td>JSSPVVNQ8</td>\n",
       "      <td>2023-05-01</td>\n",
       "      <td>0.00</td>\n",
       "      <td>0.00</td>\n",
       "      <td>0.00</td>\n",
       "      <td>0.00</td>\n",
       "      <td>0.00</td>\n",
       "      <td>...</td>\n",
       "      <td>0.00</td>\n",
       "      <td>0.00</td>\n",
       "      <td>NaN</td>\n",
       "      <td>1.20</td>\n",
       "      <td>DAILY</td>\n",
       "      <td>2023-05-01</td>\n",
       "      <td>03:00:41</td>\n",
       "      <td>2023-05-01</td>\n",
       "      <td>03:00:41</td>\n",
       "      <td>SETTLEMENT 2023-05-01.csv</td>\n",
       "    </tr>\n",
       "    <tr>\n",
       "      <th>1</th>\n",
       "      <td>073c8eeb-0b0d-4455-ab60-f1fc26eee7e1</td>\n",
       "      <td>CARNITAS MICHOACAN</td>\n",
       "      <td>fabiola12749@outlook.com</td>\n",
       "      <td>PGSS3JKPW</td>\n",
       "      <td>2023-05-01</td>\n",
       "      <td>0.00</td>\n",
       "      <td>0.00</td>\n",
       "      <td>0.00</td>\n",
       "      <td>0.00</td>\n",
       "      <td>0.00</td>\n",
       "      <td>...</td>\n",
       "      <td>0.00</td>\n",
       "      <td>0.00</td>\n",
       "      <td>NaN</td>\n",
       "      <td>13.00</td>\n",
       "      <td>DAILY</td>\n",
       "      <td>2023-05-01</td>\n",
       "      <td>03:00:41</td>\n",
       "      <td>2023-05-01</td>\n",
       "      <td>03:00:41</td>\n",
       "      <td>SETTLEMENT 2023-05-01.csv</td>\n",
       "    </tr>\n",
       "    <tr>\n",
       "      <th>2</th>\n",
       "      <td>35bab555-82b1-481a-a9b1-950f146410f6</td>\n",
       "      <td>CAFETERIA</td>\n",
       "      <td>alex_fish25@hotmail.com</td>\n",
       "      <td>3V84FFW3T</td>\n",
       "      <td>2023-05-01</td>\n",
       "      <td>0.00</td>\n",
       "      <td>0.00</td>\n",
       "      <td>0.00</td>\n",
       "      <td>0.00</td>\n",
       "      <td>0.00</td>\n",
       "      <td>...</td>\n",
       "      <td>0.00</td>\n",
       "      <td>0.00</td>\n",
       "      <td>NaN</td>\n",
       "      <td>4.00</td>\n",
       "      <td>DAILY</td>\n",
       "      <td>2023-05-01</td>\n",
       "      <td>03:00:47</td>\n",
       "      <td>2023-05-01</td>\n",
       "      <td>03:00:47</td>\n",
       "      <td>SETTLEMENT 2023-05-01.csv</td>\n",
       "    </tr>\n",
       "    <tr>\n",
       "      <th>3</th>\n",
       "      <td>4a799aeb-1ba9-4809-8bc5-02fe66a71d2f</td>\n",
       "      <td>INDEPENDIENTE MDICO</td>\n",
       "      <td>karengpepo@hotmail.com</td>\n",
       "      <td>MXW2MWWJ2</td>\n",
       "      <td>2023-05-01</td>\n",
       "      <td>0.00</td>\n",
       "      <td>0.00</td>\n",
       "      <td>0.00</td>\n",
       "      <td>0.00</td>\n",
       "      <td>0.00</td>\n",
       "      <td>...</td>\n",
       "      <td>0.00</td>\n",
       "      <td>0.00</td>\n",
       "      <td>NaN</td>\n",
       "      <td>2.00</td>\n",
       "      <td>DAILY</td>\n",
       "      <td>2023-05-01</td>\n",
       "      <td>03:00:51</td>\n",
       "      <td>2023-05-01</td>\n",
       "      <td>03:00:51</td>\n",
       "      <td>SETTLEMENT 2023-05-01.csv</td>\n",
       "    </tr>\n",
       "    <tr>\n",
       "      <th>4</th>\n",
       "      <td>1ead08d3-67b1-4625-9a7c-65fd0b65107c</td>\n",
       "      <td>ABARROTES LUPITA</td>\n",
       "      <td>felipemoralesbarrera2605@gmail.com</td>\n",
       "      <td>RKGHW8YTX</td>\n",
       "      <td>2023-05-01</td>\n",
       "      <td>0.00</td>\n",
       "      <td>0.00</td>\n",
       "      <td>0.00</td>\n",
       "      <td>0.00</td>\n",
       "      <td>0.00</td>\n",
       "      <td>...</td>\n",
       "      <td>0.00</td>\n",
       "      <td>0.00</td>\n",
       "      <td>NaN</td>\n",
       "      <td>11.60</td>\n",
       "      <td>DAILY</td>\n",
       "      <td>2023-05-01</td>\n",
       "      <td>03:00:55</td>\n",
       "      <td>2023-05-01</td>\n",
       "      <td>03:00:55</td>\n",
       "      <td>SETTLEMENT 2023-05-01.csv</td>\n",
       "    </tr>\n",
       "  </tbody>\n",
       "</table>\n",
       "<p>5 rows × 26 columns</p>\n",
       "</div>"
      ],
      "text/plain": [
       "                            merchant_id        merchant_name  \\\n",
       "0  86891848-99c4-41b3-8c64-2cd863b1d075             RHR Y CC   \n",
       "1  073c8eeb-0b0d-4455-ab60-f1fc26eee7e1   CARNITAS MICHOACAN   \n",
       "2  35bab555-82b1-481a-a9b1-950f146410f6            CAFETERIA   \n",
       "3  4a799aeb-1ba9-4809-8bc5-02fe66a71d2f  INDEPENDIENTE MDICO   \n",
       "4  1ead08d3-67b1-4625-9a7c-65fd0b65107c     ABARROTES LUPITA   \n",
       "\n",
       "                           user_email  report_id report_date_local  \\\n",
       "0               phisabel1@hotmail.com  JSSPVVNQ8        2023-05-01   \n",
       "1            fabiola12749@outlook.com  PGSS3JKPW        2023-05-01   \n",
       "2             alex_fish25@hotmail.com  3V84FFW3T        2023-05-01   \n",
       "3              karengpepo@hotmail.com  MXW2MWWJ2        2023-05-01   \n",
       "4  felipemoralesbarrera2605@gmail.com  RKGHW8YTX        2023-05-01   \n",
       "\n",
       "   total_transactions  total_fees_charged  total_taxes  applied_fees_benefits  \\\n",
       "0                0.00                0.00         0.00                   0.00   \n",
       "1                0.00                0.00         0.00                   0.00   \n",
       "2                0.00                0.00         0.00                   0.00   \n",
       "3                0.00                0.00         0.00                   0.00   \n",
       "4                0.00                0.00         0.00                   0.00   \n",
       "\n",
       "   applied_taxes_benefits  ...  total_released  total_retained  tipopago  \\\n",
       "0                    0.00  ...            0.00            0.00       NaN   \n",
       "1                    0.00  ...            0.00            0.00       NaN   \n",
       "2                    0.00  ...            0.00            0.00       NaN   \n",
       "3                    0.00  ...            0.00            0.00       NaN   \n",
       "4                    0.00  ...            0.00            0.00       NaN   \n",
       "\n",
       "   total_due   type  created_date  created_time  updated_date  updated_time  \\\n",
       "0       1.20  DAILY    2023-05-01      03:00:41    2023-05-01      03:00:41   \n",
       "1      13.00  DAILY    2023-05-01      03:00:41    2023-05-01      03:00:41   \n",
       "2       4.00  DAILY    2023-05-01      03:00:47    2023-05-01      03:00:47   \n",
       "3       2.00  DAILY    2023-05-01      03:00:51    2023-05-01      03:00:51   \n",
       "4      11.60  DAILY    2023-05-01      03:00:55    2023-05-01      03:00:55   \n",
       "\n",
       "                   file_name  \n",
       "0  SETTLEMENT 2023-05-01.csv  \n",
       "1  SETTLEMENT 2023-05-01.csv  \n",
       "2  SETTLEMENT 2023-05-01.csv  \n",
       "3  SETTLEMENT 2023-05-01.csv  \n",
       "4  SETTLEMENT 2023-05-01.csv  \n",
       "\n",
       "[5 rows x 26 columns]"
      ]
     },
     "execution_count": 3,
     "metadata": {},
     "output_type": "execute_result"
    }
   ],
   "source": [
    "cum_1 = pd.concat([pd.read_csv(f).assign(file_name=os.path.basename(f)) for f in cumfiles])\n",
    "cum_1.columns = cum_1.columns.str.strip().str.lower() \n",
    "cum_1['report_date_local']= pd.to_datetime(cum_1['report_date_local']) \n",
    "cum_1.head()"
   ]
  },
  {
   "cell_type": "code",
   "execution_count": 4,
   "metadata": {},
   "outputs": [
    {
     "data": {
      "text/plain": [
       "(11755, 26)"
      ]
     },
     "execution_count": 4,
     "metadata": {},
     "output_type": "execute_result"
    }
   ],
   "source": [
    "cum_1.shape"
   ]
  },
  {
   "cell_type": "code",
   "execution_count": 5,
   "metadata": {},
   "outputs": [
    {
     "data": {
      "text/html": [
       "<div>\n",
       "<style scoped>\n",
       "    .dataframe tbody tr th:only-of-type {\n",
       "        vertical-align: middle;\n",
       "    }\n",
       "\n",
       "    .dataframe tbody tr th {\n",
       "        vertical-align: top;\n",
       "    }\n",
       "\n",
       "    .dataframe thead th {\n",
       "        text-align: right;\n",
       "    }\n",
       "</style>\n",
       "<table border=\"1\" class=\"dataframe\">\n",
       "  <thead>\n",
       "    <tr style=\"text-align: right;\">\n",
       "      <th></th>\n",
       "      <th>merchant_id</th>\n",
       "      <th>merchant_name</th>\n",
       "      <th>user_email</th>\n",
       "      <th>report_id</th>\n",
       "      <th>report_date_local</th>\n",
       "      <th>total_transactions</th>\n",
       "      <th>total_fees_charged</th>\n",
       "      <th>total_taxes</th>\n",
       "      <th>applied_fees_benefits</th>\n",
       "      <th>applied_taxes_benefits</th>\n",
       "      <th>...</th>\n",
       "      <th>total_released</th>\n",
       "      <th>total_retained</th>\n",
       "      <th>tipopago</th>\n",
       "      <th>total_due</th>\n",
       "      <th>type</th>\n",
       "      <th>created_date</th>\n",
       "      <th>created_time</th>\n",
       "      <th>updated_date</th>\n",
       "      <th>updated_time</th>\n",
       "      <th>file_name</th>\n",
       "    </tr>\n",
       "  </thead>\n",
       "  <tbody>\n",
       "    <tr>\n",
       "      <th>0</th>\n",
       "      <td>86891848-99c4-41b3-8c64-2cd863b1d075</td>\n",
       "      <td>RHR Y CC</td>\n",
       "      <td>phisabel1@hotmail.com</td>\n",
       "      <td>JSSPVVNQ8</td>\n",
       "      <td>2023-05-01</td>\n",
       "      <td>0.00</td>\n",
       "      <td>0.00</td>\n",
       "      <td>0.00</td>\n",
       "      <td>0.00</td>\n",
       "      <td>0.00</td>\n",
       "      <td>...</td>\n",
       "      <td>0.00</td>\n",
       "      <td>0.00</td>\n",
       "      <td>NaN</td>\n",
       "      <td>1.20</td>\n",
       "      <td>DAILY</td>\n",
       "      <td>2023-05-01</td>\n",
       "      <td>03:00:41</td>\n",
       "      <td>2023-05-01</td>\n",
       "      <td>03:00:41</td>\n",
       "      <td>SETTLEMENT 2023-05-01.csv</td>\n",
       "    </tr>\n",
       "    <tr>\n",
       "      <th>1</th>\n",
       "      <td>073c8eeb-0b0d-4455-ab60-f1fc26eee7e1</td>\n",
       "      <td>CARNITAS MICHOACAN</td>\n",
       "      <td>fabiola12749@outlook.com</td>\n",
       "      <td>PGSS3JKPW</td>\n",
       "      <td>2023-05-01</td>\n",
       "      <td>0.00</td>\n",
       "      <td>0.00</td>\n",
       "      <td>0.00</td>\n",
       "      <td>0.00</td>\n",
       "      <td>0.00</td>\n",
       "      <td>...</td>\n",
       "      <td>0.00</td>\n",
       "      <td>0.00</td>\n",
       "      <td>NaN</td>\n",
       "      <td>13.00</td>\n",
       "      <td>DAILY</td>\n",
       "      <td>2023-05-01</td>\n",
       "      <td>03:00:41</td>\n",
       "      <td>2023-05-01</td>\n",
       "      <td>03:00:41</td>\n",
       "      <td>SETTLEMENT 2023-05-01.csv</td>\n",
       "    </tr>\n",
       "    <tr>\n",
       "      <th>2</th>\n",
       "      <td>35bab555-82b1-481a-a9b1-950f146410f6</td>\n",
       "      <td>CAFETERIA</td>\n",
       "      <td>alex_fish25@hotmail.com</td>\n",
       "      <td>3V84FFW3T</td>\n",
       "      <td>2023-05-01</td>\n",
       "      <td>0.00</td>\n",
       "      <td>0.00</td>\n",
       "      <td>0.00</td>\n",
       "      <td>0.00</td>\n",
       "      <td>0.00</td>\n",
       "      <td>...</td>\n",
       "      <td>0.00</td>\n",
       "      <td>0.00</td>\n",
       "      <td>NaN</td>\n",
       "      <td>4.00</td>\n",
       "      <td>DAILY</td>\n",
       "      <td>2023-05-01</td>\n",
       "      <td>03:00:47</td>\n",
       "      <td>2023-05-01</td>\n",
       "      <td>03:00:47</td>\n",
       "      <td>SETTLEMENT 2023-05-01.csv</td>\n",
       "    </tr>\n",
       "    <tr>\n",
       "      <th>3</th>\n",
       "      <td>4a799aeb-1ba9-4809-8bc5-02fe66a71d2f</td>\n",
       "      <td>INDEPENDIENTE MDICO</td>\n",
       "      <td>karengpepo@hotmail.com</td>\n",
       "      <td>MXW2MWWJ2</td>\n",
       "      <td>2023-05-01</td>\n",
       "      <td>0.00</td>\n",
       "      <td>0.00</td>\n",
       "      <td>0.00</td>\n",
       "      <td>0.00</td>\n",
       "      <td>0.00</td>\n",
       "      <td>...</td>\n",
       "      <td>0.00</td>\n",
       "      <td>0.00</td>\n",
       "      <td>NaN</td>\n",
       "      <td>2.00</td>\n",
       "      <td>DAILY</td>\n",
       "      <td>2023-05-01</td>\n",
       "      <td>03:00:51</td>\n",
       "      <td>2023-05-01</td>\n",
       "      <td>03:00:51</td>\n",
       "      <td>SETTLEMENT 2023-05-01.csv</td>\n",
       "    </tr>\n",
       "    <tr>\n",
       "      <th>4</th>\n",
       "      <td>1ead08d3-67b1-4625-9a7c-65fd0b65107c</td>\n",
       "      <td>ABARROTES LUPITA</td>\n",
       "      <td>felipemoralesbarrera2605@gmail.com</td>\n",
       "      <td>RKGHW8YTX</td>\n",
       "      <td>2023-05-01</td>\n",
       "      <td>0.00</td>\n",
       "      <td>0.00</td>\n",
       "      <td>0.00</td>\n",
       "      <td>0.00</td>\n",
       "      <td>0.00</td>\n",
       "      <td>...</td>\n",
       "      <td>0.00</td>\n",
       "      <td>0.00</td>\n",
       "      <td>NaN</td>\n",
       "      <td>11.60</td>\n",
       "      <td>DAILY</td>\n",
       "      <td>2023-05-01</td>\n",
       "      <td>03:00:55</td>\n",
       "      <td>2023-05-01</td>\n",
       "      <td>03:00:55</td>\n",
       "      <td>SETTLEMENT 2023-05-01.csv</td>\n",
       "    </tr>\n",
       "  </tbody>\n",
       "</table>\n",
       "<p>5 rows × 26 columns</p>\n",
       "</div>"
      ],
      "text/plain": [
       "                            merchant_id        merchant_name  \\\n",
       "0  86891848-99c4-41b3-8c64-2cd863b1d075             RHR Y CC   \n",
       "1  073c8eeb-0b0d-4455-ab60-f1fc26eee7e1   CARNITAS MICHOACAN   \n",
       "2  35bab555-82b1-481a-a9b1-950f146410f6            CAFETERIA   \n",
       "3  4a799aeb-1ba9-4809-8bc5-02fe66a71d2f  INDEPENDIENTE MDICO   \n",
       "4  1ead08d3-67b1-4625-9a7c-65fd0b65107c     ABARROTES LUPITA   \n",
       "\n",
       "                           user_email  report_id report_date_local  \\\n",
       "0               phisabel1@hotmail.com  JSSPVVNQ8        2023-05-01   \n",
       "1            fabiola12749@outlook.com  PGSS3JKPW        2023-05-01   \n",
       "2             alex_fish25@hotmail.com  3V84FFW3T        2023-05-01   \n",
       "3              karengpepo@hotmail.com  MXW2MWWJ2        2023-05-01   \n",
       "4  felipemoralesbarrera2605@gmail.com  RKGHW8YTX        2023-05-01   \n",
       "\n",
       "   total_transactions  total_fees_charged  total_taxes  applied_fees_benefits  \\\n",
       "0                0.00                0.00         0.00                   0.00   \n",
       "1                0.00                0.00         0.00                   0.00   \n",
       "2                0.00                0.00         0.00                   0.00   \n",
       "3                0.00                0.00         0.00                   0.00   \n",
       "4                0.00                0.00         0.00                   0.00   \n",
       "\n",
       "   applied_taxes_benefits  ...  total_released  total_retained  tipopago  \\\n",
       "0                    0.00  ...            0.00            0.00       NaN   \n",
       "1                    0.00  ...            0.00            0.00       NaN   \n",
       "2                    0.00  ...            0.00            0.00       NaN   \n",
       "3                    0.00  ...            0.00            0.00       NaN   \n",
       "4                    0.00  ...            0.00            0.00       NaN   \n",
       "\n",
       "   total_due   type  created_date  created_time  updated_date  updated_time  \\\n",
       "0       1.20  DAILY    2023-05-01      03:00:41    2023-05-01      03:00:41   \n",
       "1      13.00  DAILY    2023-05-01      03:00:41    2023-05-01      03:00:41   \n",
       "2       4.00  DAILY    2023-05-01      03:00:47    2023-05-01      03:00:47   \n",
       "3       2.00  DAILY    2023-05-01      03:00:51    2023-05-01      03:00:51   \n",
       "4      11.60  DAILY    2023-05-01      03:00:55    2023-05-01      03:00:55   \n",
       "\n",
       "                   file_name  \n",
       "0  SETTLEMENT 2023-05-01.csv  \n",
       "1  SETTLEMENT 2023-05-01.csv  \n",
       "2  SETTLEMENT 2023-05-01.csv  \n",
       "3  SETTLEMENT 2023-05-01.csv  \n",
       "4  SETTLEMENT 2023-05-01.csv  \n",
       "\n",
       "[5 rows x 26 columns]"
      ]
     },
     "execution_count": 5,
     "metadata": {},
     "output_type": "execute_result"
    }
   ],
   "source": [
    "cum_distinct_0 = cum_1[(cum_1['total_due'] != 0)]\n",
    "cum_distinct_0.head()"
   ]
  },
  {
   "cell_type": "code",
   "execution_count": 6,
   "metadata": {},
   "outputs": [
    {
     "data": {
      "text/plain": [
       "(11746, 26)"
      ]
     },
     "execution_count": 6,
     "metadata": {},
     "output_type": "execute_result"
    }
   ],
   "source": [
    "cum_distinct_0.shape"
   ]
  },
  {
   "cell_type": "markdown",
   "metadata": {},
   "source": [
    "#### PAGOS DE DISPERSIONES"
   ]
  },
  {
   "cell_type": "code",
   "execution_count": 7,
   "metadata": {},
   "outputs": [
    {
     "data": {
      "text/plain": [
       "['C:\\\\Users\\\\Cristian.Aparicio\\\\Documents\\\\DISPERSIONES\\\\2023\\\\05. MAYO\\\\ARCHIVO DISPERSIONES\\\\Dispersión-20230501.xlsx',\n",
       " 'C:\\\\Users\\\\Cristian.Aparicio\\\\Documents\\\\DISPERSIONES\\\\2023\\\\05. MAYO\\\\ARCHIVO DISPERSIONES\\\\Dispersión-20230502.xlsx',\n",
       " 'C:\\\\Users\\\\Cristian.Aparicio\\\\Documents\\\\DISPERSIONES\\\\2023\\\\05. MAYO\\\\ARCHIVO DISPERSIONES\\\\Dispersión-20230503.xlsx',\n",
       " 'C:\\\\Users\\\\Cristian.Aparicio\\\\Documents\\\\DISPERSIONES\\\\2023\\\\05. MAYO\\\\ARCHIVO DISPERSIONES\\\\Dispersión-20230504.xlsx',\n",
       " 'C:\\\\Users\\\\Cristian.Aparicio\\\\Documents\\\\DISPERSIONES\\\\2023\\\\05. MAYO\\\\ARCHIVO DISPERSIONES\\\\Dispersión-20230505.xlsx',\n",
       " 'C:\\\\Users\\\\Cristian.Aparicio\\\\Documents\\\\DISPERSIONES\\\\2023\\\\05. MAYO\\\\ARCHIVO DISPERSIONES\\\\Dispersión-20230506.xlsx',\n",
       " 'C:\\\\Users\\\\Cristian.Aparicio\\\\Documents\\\\DISPERSIONES\\\\2023\\\\05. MAYO\\\\ARCHIVO DISPERSIONES\\\\Dispersión-20230507.xlsx',\n",
       " 'C:\\\\Users\\\\Cristian.Aparicio\\\\Documents\\\\DISPERSIONES\\\\2023\\\\05. MAYO\\\\ARCHIVO DISPERSIONES\\\\Dispersión-20230508.xlsx',\n",
       " 'C:\\\\Users\\\\Cristian.Aparicio\\\\Documents\\\\DISPERSIONES\\\\2023\\\\05. MAYO\\\\ARCHIVO DISPERSIONES\\\\Dispersión-20230509.xlsx',\n",
       " 'C:\\\\Users\\\\Cristian.Aparicio\\\\Documents\\\\DISPERSIONES\\\\2023\\\\05. MAYO\\\\ARCHIVO DISPERSIONES\\\\Dispersión-20230510.xlsx',\n",
       " 'C:\\\\Users\\\\Cristian.Aparicio\\\\Documents\\\\DISPERSIONES\\\\2023\\\\05. MAYO\\\\ARCHIVO DISPERSIONES\\\\Dispersión-20230511.xlsx',\n",
       " 'C:\\\\Users\\\\Cristian.Aparicio\\\\Documents\\\\DISPERSIONES\\\\2023\\\\05. MAYO\\\\ARCHIVO DISPERSIONES\\\\Dispersión-20230512.xlsx',\n",
       " 'C:\\\\Users\\\\Cristian.Aparicio\\\\Documents\\\\DISPERSIONES\\\\2023\\\\05. MAYO\\\\ARCHIVO DISPERSIONES\\\\Dispersión-20230513.xlsx',\n",
       " 'C:\\\\Users\\\\Cristian.Aparicio\\\\Documents\\\\DISPERSIONES\\\\2023\\\\05. MAYO\\\\ARCHIVO DISPERSIONES\\\\Dispersión-20230514.xlsx',\n",
       " 'C:\\\\Users\\\\Cristian.Aparicio\\\\Documents\\\\DISPERSIONES\\\\2023\\\\05. MAYO\\\\ARCHIVO DISPERSIONES\\\\Dispersión-20230515.xlsx',\n",
       " 'C:\\\\Users\\\\Cristian.Aparicio\\\\Documents\\\\DISPERSIONES\\\\2023\\\\05. MAYO\\\\ARCHIVO DISPERSIONES\\\\Dispersión-20230516.xlsx',\n",
       " 'C:\\\\Users\\\\Cristian.Aparicio\\\\Documents\\\\DISPERSIONES\\\\2023\\\\05. MAYO\\\\ARCHIVO DISPERSIONES\\\\Dispersión-20230517.xlsx',\n",
       " 'C:\\\\Users\\\\Cristian.Aparicio\\\\Documents\\\\DISPERSIONES\\\\2023\\\\05. MAYO\\\\ARCHIVO DISPERSIONES\\\\Dispersión-20230518.xlsx',\n",
       " 'C:\\\\Users\\\\Cristian.Aparicio\\\\Documents\\\\DISPERSIONES\\\\2023\\\\05. MAYO\\\\ARCHIVO DISPERSIONES\\\\Dispersión-20230519.xlsx',\n",
       " 'C:\\\\Users\\\\Cristian.Aparicio\\\\Documents\\\\DISPERSIONES\\\\2023\\\\05. MAYO\\\\ARCHIVO DISPERSIONES\\\\Dispersión-20230520.xlsx',\n",
       " 'C:\\\\Users\\\\Cristian.Aparicio\\\\Documents\\\\DISPERSIONES\\\\2023\\\\05. MAYO\\\\ARCHIVO DISPERSIONES\\\\Dispersión-20230521.xlsx',\n",
       " 'C:\\\\Users\\\\Cristian.Aparicio\\\\Documents\\\\DISPERSIONES\\\\2023\\\\05. MAYO\\\\ARCHIVO DISPERSIONES\\\\Dispersión-20230522.xlsx',\n",
       " 'C:\\\\Users\\\\Cristian.Aparicio\\\\Documents\\\\DISPERSIONES\\\\2023\\\\05. MAYO\\\\ARCHIVO DISPERSIONES\\\\Dispersión-20230523.xlsx',\n",
       " 'C:\\\\Users\\\\Cristian.Aparicio\\\\Documents\\\\DISPERSIONES\\\\2023\\\\05. MAYO\\\\ARCHIVO DISPERSIONES\\\\Dispersión-20230524.xlsx',\n",
       " 'C:\\\\Users\\\\Cristian.Aparicio\\\\Documents\\\\DISPERSIONES\\\\2023\\\\05. MAYO\\\\ARCHIVO DISPERSIONES\\\\Dispersión-20230525.xlsx',\n",
       " 'C:\\\\Users\\\\Cristian.Aparicio\\\\Documents\\\\DISPERSIONES\\\\2023\\\\05. MAYO\\\\ARCHIVO DISPERSIONES\\\\Dispersión-20230526.xlsx',\n",
       " 'C:\\\\Users\\\\Cristian.Aparicio\\\\Documents\\\\DISPERSIONES\\\\2023\\\\05. MAYO\\\\ARCHIVO DISPERSIONES\\\\Dispersión-20230527.xlsx',\n",
       " 'C:\\\\Users\\\\Cristian.Aparicio\\\\Documents\\\\DISPERSIONES\\\\2023\\\\05. MAYO\\\\ARCHIVO DISPERSIONES\\\\Dispersión-20230528.xlsx',\n",
       " 'C:\\\\Users\\\\Cristian.Aparicio\\\\Documents\\\\DISPERSIONES\\\\2023\\\\05. MAYO\\\\ARCHIVO DISPERSIONES\\\\Dispersión-20230529.xlsx',\n",
       " 'C:\\\\Users\\\\Cristian.Aparicio\\\\Documents\\\\DISPERSIONES\\\\2023\\\\05. MAYO\\\\ARCHIVO DISPERSIONES\\\\Dispersión-20230530.xlsx',\n",
       " 'C:\\\\Users\\\\Cristian.Aparicio\\\\Documents\\\\DISPERSIONES\\\\2023\\\\05. MAYO\\\\ARCHIVO DISPERSIONES\\\\Dispersión-20230531.xlsx']"
      ]
     },
     "execution_count": 7,
     "metadata": {},
     "output_type": "execute_result"
    }
   ],
   "source": [
    "pagos_dia_files_1 = glob.glob(r'C:\\Users\\Cristian.Aparicio\\Documents\\DISPERSIONES\\2023\\05. MAYO\\ARCHIVO DISPERSIONES\\Dispersión*.xlsx', recursive=False)\n",
    "pagos_dia_files_1"
   ]
  },
  {
   "cell_type": "code",
   "execution_count": null,
   "metadata": {},
   "outputs": [],
   "source": [
    "pagos_1 = pd.concat([pd.read_excel(f,sheet_name='Swap del día').assign(file_name=os.path.basename(f)) for f in pagos_dia_files_1])\n",
    "pagos_1['date_file'] = pagos_1[\"file_name\"].str[-13:-5]\n",
    "pagos_1['date_file']= pd.to_datetime(pagos_1['date_file'], format='%Y%m%d').dt.date\n",
    "pagos_1['date_file']= pd.to_datetime(pagos_1['date_file'])\n",
    "pagos_1.sort_values(by=['date_file'],ascending=True,inplace=True)\n",
    "pagos_1['report_date_local']= pd.to_datetime(pagos_1['report_date_local']) \n",
    "pagos_1.head()"
   ]
  },
  {
   "cell_type": "code",
   "execution_count": null,
   "metadata": {},
   "outputs": [],
   "source": [
    "pagos_1.shape"
   ]
  },
  {
   "cell_type": "code",
   "execution_count": null,
   "metadata": {},
   "outputs": [],
   "source": [
    "pagos_1['report_date_local'].unique()"
   ]
  },
  {
   "cell_type": "markdown",
   "metadata": {},
   "source": [
    "#### PAGOS DUPLICADOS TRADICIONAL"
   ]
  },
  {
   "cell_type": "code",
   "execution_count": null,
   "metadata": {},
   "outputs": [],
   "source": [
    "duplicates_trad = pagos_1[pagos_1.duplicated(['report_id','date_file'] , keep=False)]\n",
    "duplicates_trad['INDEX'] = duplicates_trad['report_id'] + '_' + duplicates_trad['date_file'].astype('str')\n",
    "duplicates_trad.sort_values(by=['date_file','report_id'],inplace=True)\n",
    "duplicates_trad.head()"
   ]
  },
  {
   "cell_type": "code",
   "execution_count": null,
   "metadata": {},
   "outputs": [],
   "source": [
    "duplicates_trad.shape"
   ]
  },
  {
   "cell_type": "code",
   "execution_count": null,
   "metadata": {},
   "outputs": [],
   "source": [
    "duplicates_trad['status'].unique()"
   ]
  },
  {
   "cell_type": "code",
   "execution_count": null,
   "metadata": {},
   "outputs": [],
   "source": [
    "duplicates_trad.drop_duplicates(subset=\"INDEX\", keep='last', inplace=True)"
   ]
  },
  {
   "cell_type": "code",
   "execution_count": null,
   "metadata": {},
   "outputs": [],
   "source": [
    "duplicates_trad.head()"
   ]
  },
  {
   "cell_type": "code",
   "execution_count": null,
   "metadata": {},
   "outputs": [],
   "source": [
    "duplicates_trad.shape"
   ]
  },
  {
   "cell_type": "code",
   "execution_count": null,
   "metadata": {},
   "outputs": [],
   "source": [
    "pivot_duplicates_trad = pd.pivot_table(duplicates_trad,index=['tipo','date_file'],\n",
    "                                       columns=['type'],\n",
    "                                  values=['total_due']\n",
    "                                  ,aggfunc = ['sum', len],margins=True)\n",
    "pivot_duplicates_trad.reset_index(drop=False, inplace=True)\n",
    "pivot_duplicates_trad.head(10)"
   ]
  },
  {
   "cell_type": "code",
   "execution_count": null,
   "metadata": {},
   "outputs": [],
   "source": [
    "pivot_duplicates_trad.shape"
   ]
  },
  {
   "cell_type": "markdown",
   "metadata": {},
   "source": [
    "#### FAST PAYMENTS "
   ]
  },
  {
   "cell_type": "code",
   "execution_count": null,
   "metadata": {},
   "outputs": [],
   "source": [
    "fp_files_1 = glob.glob(r'C:\\Users\\Cristian.Aparicio\\Documents\\FAST PAYMENTS\\2023\\05. MAYO\\ARCHIVO DISPERSIONES FP\\Dispersión-FP*.xlsx', recursive=False)\n",
    "fp_files_1"
   ]
  },
  {
   "cell_type": "code",
   "execution_count": null,
   "metadata": {},
   "outputs": [],
   "source": [
    "pagos_2 = pd.concat([pd.read_excel(f,sheet_name='FAST PAYMENTS').assign(file_name=os.path.basename(f)) for f in fp_files_1])\n",
    "pagos_2['date_file'] = pagos_2[\"file_name\"].str[-15:-4]\n",
    "pagos_2['date_file']= pd.to_datetime(pagos_2['date_file']) \n",
    "pagos_2.sort_values(by=['date_file'],ascending=True,inplace=True)\n",
    "pagos_2['report_date_local']= pd.to_datetime(pagos_2['report_date_local']) \n",
    "pagos_2.head()"
   ]
  },
  {
   "cell_type": "code",
   "execution_count": null,
   "metadata": {},
   "outputs": [],
   "source": [
    "pagos_2.shape"
   ]
  },
  {
   "cell_type": "markdown",
   "metadata": {},
   "source": [
    "#### PAGOS REPETIDOS FAST PAYMENTS"
   ]
  },
  {
   "cell_type": "code",
   "execution_count": null,
   "metadata": {},
   "outputs": [],
   "source": [
    "duplicates_fp = pagos_2[pagos_2.duplicated(['report_id','date_file'] , keep=False)]\n",
    "duplicates_fp['INDEX'] = duplicates_fp['report_id'] + '_' + duplicates_fp['date_file'].astype('str')\n",
    "duplicates_fp.sort_values(by=['date_file','report_id','Batch_time'],inplace=True)\n",
    "duplicates_fp.head()"
   ]
  },
  {
   "cell_type": "code",
   "execution_count": null,
   "metadata": {},
   "outputs": [],
   "source": [
    "duplicates_fp.shape"
   ]
  },
  {
   "cell_type": "code",
   "execution_count": null,
   "metadata": {},
   "outputs": [],
   "source": [
    "duplicates_fp.drop_duplicates(subset=\"INDEX\", keep='last', inplace=True)"
   ]
  },
  {
   "cell_type": "code",
   "execution_count": null,
   "metadata": {},
   "outputs": [],
   "source": [
    "duplicates_fp.head()"
   ]
  },
  {
   "cell_type": "code",
   "execution_count": null,
   "metadata": {},
   "outputs": [],
   "source": [
    "duplicates_fp.shape"
   ]
  },
  {
   "cell_type": "code",
   "execution_count": null,
   "metadata": {},
   "outputs": [],
   "source": [
    "pivot_duplicates_fp = pd.pivot_table(duplicates_fp,index=['tipo','date_file'],\n",
    "                                     columns=['type'],\n",
    "                                  values=['total_due']\n",
    "                                  ,aggfunc = ['sum', len],margins=True)\n",
    "pivot_duplicates_fp.reset_index(drop=False, inplace=True)\n",
    "pivot_duplicates_fp.head()"
   ]
  },
  {
   "cell_type": "code",
   "execution_count": null,
   "metadata": {},
   "outputs": [],
   "source": [
    "pivot_duplicates_fp.shape"
   ]
  },
  {
   "cell_type": "code",
   "execution_count": null,
   "metadata": {},
   "outputs": [],
   "source": [
    "# pivot_duplicates_fp.to_excel('DUPLICADOS FP JUNIO 2021.xlsx',index=True)"
   ]
  },
  {
   "cell_type": "markdown",
   "metadata": {},
   "source": [
    "#### ALL PAGOS"
   ]
  },
  {
   "cell_type": "code",
   "execution_count": null,
   "metadata": {},
   "outputs": [],
   "source": [
    "allpagos = pd.concat([pagos_1,pagos_2])\n",
    "allpagos.head()"
   ]
  },
  {
   "cell_type": "code",
   "execution_count": null,
   "metadata": {},
   "outputs": [],
   "source": [
    "allpagos.shape"
   ]
  },
  {
   "cell_type": "code",
   "execution_count": null,
   "metadata": {},
   "outputs": [],
   "source": [
    "allpagos['tipo'].unique()"
   ]
  },
  {
   "cell_type": "code",
   "execution_count": null,
   "metadata": {},
   "outputs": [],
   "source": [
    "group_allpagos = allpagos.groupby(['date_file']).agg({'total_due':sum,'report_id':'count'}).reset_index()\n",
    "group_allpagos.head()"
   ]
  },
  {
   "cell_type": "code",
   "execution_count": null,
   "metadata": {},
   "outputs": [],
   "source": [
    "group_allpagos.shape"
   ]
  },
  {
   "cell_type": "markdown",
   "metadata": {},
   "source": [
    "#### PAGOS DEL DIA"
   ]
  },
  {
   "cell_type": "code",
   "execution_count": null,
   "metadata": {},
   "outputs": [],
   "source": [
    "pagosdia = allpagos[(allpagos['tipo'].isin(['Pago del día']))]\n",
    "pagosdia.head()"
   ]
  },
  {
   "cell_type": "code",
   "execution_count": null,
   "metadata": {},
   "outputs": [],
   "source": [
    "pagosdia.shape"
   ]
  },
  {
   "cell_type": "code",
   "execution_count": null,
   "metadata": {},
   "outputs": [],
   "source": [
    "group_dia = pagosdia.groupby(['date_file']).agg({'total_due':sum,'report_id':'count'}).reset_index()\n",
    "group_dia.head()"
   ]
  },
  {
   "cell_type": "code",
   "execution_count": null,
   "metadata": {},
   "outputs": [],
   "source": [
    "group_dia.shape"
   ]
  },
  {
   "cell_type": "markdown",
   "metadata": {},
   "source": [
    "# PRIMER MATCH (SETTLED VS PAGOS DEL DIA)"
   ]
  },
  {
   "cell_type": "code",
   "execution_count": null,
   "metadata": {},
   "outputs": [],
   "source": [
    "check_1 = cum_1.merge(pagosdia[['report_id','total_due','tipo','file_name']] ,on='report_id', how='left')\n",
    "check_1['total_due_y'].fillna('NO ENCONTRADO')\n",
    "check_1['tipo'].fillna('NO ENCONTRADO',inplace=True)\n",
    "check_1['file_name_y'].fillna('NO ENCONTRADO',inplace=True)\n",
    "# check_1.fillna({'total_due_y':'NO ENCONTRADO', 'tipo':'NO ENCONTRADO', 'file_name_y':'NO ENCONTRADO'}, inplace=True)\n",
    "check_1.head()"
   ]
  },
  {
   "cell_type": "code",
   "execution_count": null,
   "metadata": {},
   "outputs": [],
   "source": [
    "check_1['file_name_y'].unique()"
   ]
  },
  {
   "cell_type": "code",
   "execution_count": null,
   "metadata": {},
   "outputs": [],
   "source": [
    "not_found_1 = check_1[((check_1['file_name_y'].isnull()) | (check_1['file_name_y'].isin(['NO ENCONTRADO'])))\n",
    "                        & (check_1['total_due_x'] != 0)]\n",
    "not_found_1.head()"
   ]
  },
  {
   "cell_type": "code",
   "execution_count": null,
   "metadata": {},
   "outputs": [],
   "source": [
    "not_found_1.shape"
   ]
  },
  {
   "cell_type": "code",
   "execution_count": null,
   "metadata": {},
   "outputs": [],
   "source": [
    "group_notfound = not_found_1.groupby(['report_date_local']).agg({'total_due_x':sum,'report_id':'count'}).reset_index()\n",
    "group_notfound.rename(columns={'report_date_local':'date_file'},inplace=True)\n",
    "group_notfound.head()"
   ]
  },
  {
   "cell_type": "code",
   "execution_count": null,
   "metadata": {},
   "outputs": [],
   "source": [
    "group_notfound.shape"
   ]
  },
  {
   "cell_type": "markdown",
   "metadata": {},
   "source": [
    "#### REPROGRAMACIONES"
   ]
  },
  {
   "cell_type": "code",
   "execution_count": null,
   "metadata": {},
   "outputs": [],
   "source": [
    "repro = allpagos[(allpagos['tipo'].isin(['Reprogramación']))]\n",
    "repro.head()"
   ]
  },
  {
   "cell_type": "code",
   "execution_count": null,
   "metadata": {},
   "outputs": [],
   "source": [
    "repro.shape"
   ]
  },
  {
   "cell_type": "code",
   "execution_count": null,
   "metadata": {},
   "outputs": [],
   "source": [
    "group_repro = repro.groupby(['date_file']).agg({'total_due':sum,'report_id':'count'}).reset_index()\n",
    "group_repro.head()"
   ]
  },
  {
   "cell_type": "code",
   "execution_count": null,
   "metadata": {},
   "outputs": [],
   "source": [
    "group_repro.shape"
   ]
  },
  {
   "cell_type": "markdown",
   "metadata": {},
   "source": [
    "# SEGUNDO MATCH (IDENTIFICACION DE REPROGRAMACIONES)"
   ]
  },
  {
   "cell_type": "code",
   "execution_count": null,
   "metadata": {},
   "outputs": [],
   "source": [
    "check_2 = not_found_1.merge(repro[['report_id','total_due','tipo','file_name']] ,on='report_id', how='left')\n",
    "check_2.head()"
   ]
  },
  {
   "cell_type": "code",
   "execution_count": null,
   "metadata": {},
   "outputs": [],
   "source": [
    "check_2.shape"
   ]
  },
  {
   "cell_type": "code",
   "execution_count": null,
   "metadata": {},
   "outputs": [],
   "source": [
    "# writer = pd.ExcelWriter('REPROGRAMACIONES JUNIO 2021.xlsx', engine='xlsxwriter', options={'encoding':'utf-8'})\n",
    "# check_2.to_excel(writer, sheet_name='DETAIL REPROGRAMACIONES',index=False)\n",
    "# writer.save()\n",
    "# writer.close()"
   ]
  },
  {
   "cell_type": "markdown",
   "metadata": {},
   "source": [
    "# FECHA DE PAGOS (SETTLED VS PAGOS DEL DIA)"
   ]
  },
  {
   "cell_type": "code",
   "execution_count": null,
   "metadata": {},
   "outputs": [],
   "source": [
    "fecha_pago = not_found_1.merge(repro[['report_id','date_file','tipo','status','file_name']] ,on='report_id', how='left')\n",
    "fecha_pago.sort_values(by=['date_file'],ascending=True,inplace=True)\n",
    "fecha_pago.head()"
   ]
  },
  {
   "cell_type": "code",
   "execution_count": null,
   "metadata": {},
   "outputs": [],
   "source": [
    "fecha_pago.shape"
   ]
  },
  {
   "cell_type": "code",
   "execution_count": null,
   "metadata": {},
   "outputs": [],
   "source": [
    "fecha_pago.drop_duplicates(subset ='report_id',keep='first',inplace=True) "
   ]
  },
  {
   "cell_type": "code",
   "execution_count": null,
   "metadata": {},
   "outputs": [],
   "source": [
    "fecha_pago.head()"
   ]
  },
  {
   "cell_type": "code",
   "execution_count": null,
   "metadata": {},
   "outputs": [],
   "source": [
    "fecha_pago.shape"
   ]
  },
  {
   "cell_type": "markdown",
   "metadata": {},
   "source": [
    "### AGRUPADO POR DÍA"
   ]
  },
  {
   "cell_type": "code",
   "execution_count": null,
   "metadata": {},
   "outputs": [],
   "source": [
    "pivot_fecha_pago = pd.pivot_table(fecha_pago,index=['report_date_local'],\n",
    "                                  values=['total_due_x'],aggfunc = ['sum', len],margins=True)\n",
    "pivot_fecha_pago.head()"
   ]
  },
  {
   "cell_type": "code",
   "execution_count": null,
   "metadata": {},
   "outputs": [],
   "source": [
    "pivot_fecha_pago.shape"
   ]
  },
  {
   "cell_type": "markdown",
   "metadata": {},
   "source": [
    "# PAGOS MANUALES"
   ]
  },
  {
   "cell_type": "code",
   "execution_count": null,
   "metadata": {},
   "outputs": [],
   "source": [
    "file_manual = glob.glob(r'G:\\.shortcut-targets-by-id\\1Oe28Mf9uSidMamjllDen2gkNnC59eSUr\\3.-Settlement\\5.-HISTORICO FILES PAGOS\\01. TRADICIONAL\\2023\\05. MAY\\MANUALES\\*.xlsx', recursive=False)\n",
    "file_manual"
   ]
  },
  {
   "cell_type": "code",
   "execution_count": null,
   "metadata": {},
   "outputs": [],
   "source": [
    "manuales_all = pd.concat([pd.read_excel(f,sheet_name='Formato Pago Manual',skiprows=1\n",
    "                                      ,converters={'Cta. CLABE de depósito':str,'report_id':str})\n",
    "                          .assign(file_name=os.path.basename(f)) for f in file_manual])\n",
    "manuales_all['Date']= pd.to_datetime(manuales_all['Date'])  \n",
    "manuales_all['Tipo'] = 'MANUAL'"
   ]
  },
  {
   "cell_type": "code",
   "execution_count": null,
   "metadata": {},
   "outputs": [],
   "source": [
    "manuales_final = manuales_all[['Date','ME ID','ME NAME',' (mxn)','Banco','Justificación para el pago','Tipo','Report ID']]\n",
    "manuales_final.head()"
   ]
  },
  {
   "cell_type": "code",
   "execution_count": null,
   "metadata": {},
   "outputs": [],
   "source": [
    "manuales_final.shape"
   ]
  },
  {
   "cell_type": "code",
   "execution_count": null,
   "metadata": {},
   "outputs": [],
   "source": [
    "manuales_final.columns"
   ]
  },
  {
   "cell_type": "code",
   "execution_count": null,
   "metadata": {},
   "outputs": [],
   "source": [
    "group_manual = manuales_final.groupby(['Date']).agg({' (mxn)':sum,'Report ID':'count'}).reset_index()\n",
    "group_manual.rename(columns={'Date':'date_file','Report ID':'report_id'},inplace=True)\n",
    "group_manual.head()"
   ]
  },
  {
   "cell_type": "code",
   "execution_count": null,
   "metadata": {},
   "outputs": [],
   "source": [
    "group_manual.shape"
   ]
  },
  {
   "cell_type": "markdown",
   "metadata": {},
   "source": [
    "# ACUMULADOS SETTLEMENT"
   ]
  },
  {
   "cell_type": "code",
   "execution_count": null,
   "metadata": {},
   "outputs": [],
   "source": [
    "conc_disp = cum_distinct_0.groupby(['report_date_local']).agg({'total_due':sum,'report_id':'count'}).reset_index()\n",
    "conc_disp.rename(columns={'report_date_local':'date_file'}, inplace=True)\n",
    "conc_disp.head()"
   ]
  },
  {
   "cell_type": "code",
   "execution_count": null,
   "metadata": {},
   "outputs": [],
   "source": [
    "conc_disp.shape"
   ]
  },
  {
   "cell_type": "markdown",
   "metadata": {},
   "source": [
    "# MERGING ALL DATA FRAMES"
   ]
  },
  {
   "cell_type": "code",
   "execution_count": null,
   "metadata": {},
   "outputs": [],
   "source": [
    "total_1 = conc_disp.merge(group_repro[['date_file','total_due','report_id']],on='date_file',how='left') \\\n",
    ".merge(group_manual,on='date_file',how='left')\n",
    "total_1[' (mxn)'].fillna(0,inplace=True)\n",
    "total_1['report_id'].fillna(0,inplace=True)\n",
    "total_1.head()\n"
   ]
  },
  {
   "cell_type": "code",
   "execution_count": null,
   "metadata": {},
   "outputs": [],
   "source": [
    "total_1['count_total_pago_dia'] = total_1['report_id_x'] + total_1['report_id_y'] + total_1['report_id']\n",
    "total_1['sum_total_pago_dia'] = total_1['total_due_x'] + total_1['total_due_y'] + total_1[' (mxn)']\n"
   ]
  },
  {
   "cell_type": "code",
   "execution_count": null,
   "metadata": {},
   "outputs": [],
   "source": [
    "total_1"
   ]
  },
  {
   "cell_type": "markdown",
   "metadata": {},
   "source": [
    "# ACUMULADOS PAGO DEL DIA"
   ]
  },
  {
   "cell_type": "code",
   "execution_count": null,
   "metadata": {},
   "outputs": [],
   "source": [
    "total_2 = group_allpagos.merge(group_notfound[['date_file','total_due_x','report_id']],on='date_file',how='left')\\\n",
    ".merge(group_manual,on='date_file',how='left')\n",
    "total_2[' (mxn)'].fillna(0,inplace=True)\n",
    "total_2['report_id'].fillna(0,inplace=True)\n",
    "total_2['total_due_x'].fillna(0,inplace=True)\n",
    "total_2['report_id_y'].fillna(0,inplace=True)\n",
    "total_2.head()"
   ]
  },
  {
   "cell_type": "code",
   "execution_count": null,
   "metadata": {},
   "outputs": [],
   "source": [
    "total_2['count_swap_dia'] = total_2['report_id_x'] + total_2['report_id_y'] + total_2['report_id']\n",
    "total_2['sum_swap_dia'] = total_2['total_due'] + total_2['total_due_x'] + total_2[' (mxn)']"
   ]
  },
  {
   "cell_type": "code",
   "execution_count": null,
   "metadata": {},
   "outputs": [],
   "source": [
    "total_2.head()"
   ]
  },
  {
   "cell_type": "code",
   "execution_count": null,
   "metadata": {},
   "outputs": [],
   "source": [
    "total_2.shape"
   ]
  },
  {
   "cell_type": "markdown",
   "metadata": {},
   "source": [
    "# COMPARACION FINAL"
   ]
  },
  {
   "cell_type": "code",
   "execution_count": null,
   "metadata": {},
   "outputs": [],
   "source": [
    "final_comparacion = total_1[['date_file','count_total_pago_dia','sum_total_pago_dia']] \\\n",
    ".merge(total_2[['date_file','count_swap_dia','sum_swap_dia']],on='date_file',how='left')\n",
    "final_comparacion.head()"
   ]
  },
  {
   "cell_type": "code",
   "execution_count": null,
   "metadata": {},
   "outputs": [],
   "source": [
    "final_comparacion['diff_count'] = final_comparacion['count_total_pago_dia'] - final_comparacion['count_swap_dia']\n",
    "final_comparacion['diff_sum'] = final_comparacion['sum_total_pago_dia'] - final_comparacion['sum_swap_dia']"
   ]
  },
  {
   "cell_type": "code",
   "execution_count": null,
   "metadata": {
    "scrolled": true
   },
   "outputs": [],
   "source": [
    "final_comparacion"
   ]
  },
  {
   "cell_type": "code",
   "execution_count": null,
   "metadata": {},
   "outputs": [],
   "source": [
    "writer = pd.ExcelWriter('FASE III. SETTLED VS PAGO DIA MAYO 2023.xlsx',\n",
    "                        engine='xlsxwriter',\n",
    "                        engine_kwargs={'options': {'encoding':'utf-8'}})\n",
    "pivot_fecha_pago.to_excel(writer, sheet_name='ENVIADOS POSTERIOR')\n",
    "fecha_pago.to_excel(writer, sheet_name='DETAIL NO ENCONTRADO',index=False)\n",
    "pivot_duplicates_trad.to_excel(writer, sheet_name='PAGOS DUPLICADOS')\n",
    "pivot_duplicates_fp.to_excel(writer, sheet_name='FP PAGOS DUPLICADOS')\n",
    "group_manual.to_excel(writer, sheet_name='PAGOS MANUALES')\n",
    "writer.close()"
   ]
  },
  {
   "cell_type": "code",
   "execution_count": null,
   "metadata": {},
   "outputs": [],
   "source": []
  }
 ],
 "metadata": {
  "kernelspec": {
   "display_name": "Python 3 (ipykernel)",
   "language": "python",
   "name": "python3"
  },
  "language_info": {
   "codemirror_mode": {
    "name": "ipython",
    "version": 3
   },
   "file_extension": ".py",
   "mimetype": "text/x-python",
   "name": "python",
   "nbconvert_exporter": "python",
   "pygments_lexer": "ipython3",
   "version": "3.9.13"
  }
 },
 "nbformat": 4,
 "nbformat_minor": 4
}
