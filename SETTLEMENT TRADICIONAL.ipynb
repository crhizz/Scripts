{
 "cells": [
  {
   "cell_type": "code",
   "execution_count": 1,
   "metadata": {},
   "outputs": [],
   "source": [
    "import pandas as pd\n",
    "import numpy as np\n",
    "import openpyxl\n",
    "from openpyxl import load_workbook\n",
    "import glob\n",
    "import os\n",
    "pd.options.display.float_format = '{:,.2f}'.format"
   ]
  },
  {
   "cell_type": "markdown",
   "metadata": {},
   "source": [
    "# QUERY SETTLEMENT"
   ]
  },
  {
   "cell_type": "code",
   "execution_count": 2,
   "metadata": {},
   "outputs": [
    {
     "data": {
      "text/plain": [
       "['C:\\\\Users\\\\Cristian.Aparicio\\\\Documents\\\\DISPERSIONES\\\\2024\\\\01. ENERO\\\\SETTLEMENT 2024-01-31.csv']"
      ]
     },
     "execution_count": 2,
     "metadata": {},
     "output_type": "execute_result"
    }
   ],
   "source": [
    "settled = glob.glob(r'C:\\Users\\Cristian.Aparicio\\Documents\\DISPERSIONES\\2024\\01. ENERO\\SETTLEMENT*.csv', recursive=False)\n",
    "settled"
   ]
  },
  {
   "cell_type": "code",
   "execution_count": 3,
   "metadata": {},
   "outputs": [
    {
     "data": {
      "text/html": [
       "<div>\n",
       "<style scoped>\n",
       "    .dataframe tbody tr th:only-of-type {\n",
       "        vertical-align: middle;\n",
       "    }\n",
       "\n",
       "    .dataframe tbody tr th {\n",
       "        vertical-align: top;\n",
       "    }\n",
       "\n",
       "    .dataframe thead th {\n",
       "        text-align: right;\n",
       "    }\n",
       "</style>\n",
       "<table border=\"1\" class=\"dataframe\">\n",
       "  <thead>\n",
       "    <tr style=\"text-align: right;\">\n",
       "      <th></th>\n",
       "      <th>merchant_id</th>\n",
       "      <th>merchant_name</th>\n",
       "      <th>user_email</th>\n",
       "      <th>report_id</th>\n",
       "      <th>report_date_local</th>\n",
       "      <th>total_transactions</th>\n",
       "      <th>total_fees_charged</th>\n",
       "      <th>total_taxes</th>\n",
       "      <th>applied_fees_benefits</th>\n",
       "      <th>applied_taxes_benefits</th>\n",
       "      <th>...</th>\n",
       "      <th>total_released</th>\n",
       "      <th>total_retained</th>\n",
       "      <th>tipopago</th>\n",
       "      <th>total_due</th>\n",
       "      <th>type</th>\n",
       "      <th>created_date</th>\n",
       "      <th>created_time</th>\n",
       "      <th>updated_date</th>\n",
       "      <th>updated_time</th>\n",
       "      <th>file_name</th>\n",
       "    </tr>\n",
       "  </thead>\n",
       "  <tbody>\n",
       "  </tbody>\n",
       "</table>\n",
       "<p>0 rows × 26 columns</p>\n",
       "</div>"
      ],
      "text/plain": [
       "Empty DataFrame\n",
       "Columns: [merchant_id, merchant_name, user_email, report_id, report_date_local, total_transactions, total_fees_charged, total_taxes, applied_fees_benefits, applied_taxes_benefits, fee_direct_deposit, taxes_direct_deposit, total_adjustments, total_adjustment_fees_charged, total_adjustment_taxes, cobranza, total_released, total_retained, tipopago, total_due, type, created_date, created_time, updated_date, updated_time, file_name]\n",
       "Index: []\n",
       "\n",
       "[0 rows x 26 columns]"
      ]
     },
     "execution_count": 3,
     "metadata": {},
     "output_type": "execute_result"
    }
   ],
   "source": [
    "settled_trad = pd.concat([pd.read_csv(f).assign(file_name=os.path.basename(f)) for f in settled])\n",
    "settled_trad.columns = settled_trad.columns.str.strip().str.lower() \n",
    "settled_trad['report_date_local'] = pd.to_datetime(settled_trad['report_date_local'])\n",
    "settled_trad.head()"
   ]
  },
  {
   "cell_type": "code",
   "execution_count": 4,
   "metadata": {},
   "outputs": [
    {
     "data": {
      "text/plain": [
       "(0, 26)"
      ]
     },
     "execution_count": 4,
     "metadata": {},
     "output_type": "execute_result"
    }
   ],
   "source": [
    "settled_trad.shape"
   ]
  },
  {
   "cell_type": "code",
   "execution_count": 5,
   "metadata": {},
   "outputs": [
    {
     "data": {
      "text/plain": [
       "<DatetimeArray>\n",
       "[]\n",
       "Length: 0, dtype: datetime64[ns]"
      ]
     },
     "execution_count": 5,
     "metadata": {},
     "output_type": "execute_result"
    }
   ],
   "source": [
    "settled_trad['report_date_local'].unique()"
   ]
  },
  {
   "cell_type": "code",
   "execution_count": 6,
   "metadata": {},
   "outputs": [
    {
     "data": {
      "text/plain": [
       "array([], dtype=object)"
      ]
     },
     "execution_count": 6,
     "metadata": {},
     "output_type": "execute_result"
    }
   ],
   "source": [
    "settled_trad['type'].unique()"
   ]
  },
  {
   "cell_type": "code",
   "execution_count": 7,
   "metadata": {},
   "outputs": [
    {
     "data": {
      "text/html": [
       "<div>\n",
       "<style scoped>\n",
       "    .dataframe tbody tr th:only-of-type {\n",
       "        vertical-align: middle;\n",
       "    }\n",
       "\n",
       "    .dataframe tbody tr th {\n",
       "        vertical-align: top;\n",
       "    }\n",
       "\n",
       "    .dataframe thead th {\n",
       "        text-align: right;\n",
       "    }\n",
       "</style>\n",
       "<table border=\"1\" class=\"dataframe\">\n",
       "  <thead>\n",
       "    <tr style=\"text-align: right;\">\n",
       "      <th></th>\n",
       "      <th>merchant_id</th>\n",
       "      <th>merchant_name</th>\n",
       "      <th>user_email</th>\n",
       "      <th>report_id</th>\n",
       "      <th>report_date_local</th>\n",
       "      <th>total_transactions</th>\n",
       "      <th>total_fees_charged</th>\n",
       "      <th>total_taxes</th>\n",
       "      <th>applied_fees_benefits</th>\n",
       "      <th>applied_taxes_benefits</th>\n",
       "      <th>...</th>\n",
       "      <th>total_released</th>\n",
       "      <th>total_retained</th>\n",
       "      <th>tipopago</th>\n",
       "      <th>total_due</th>\n",
       "      <th>type</th>\n",
       "      <th>created_date</th>\n",
       "      <th>created_time</th>\n",
       "      <th>updated_date</th>\n",
       "      <th>updated_time</th>\n",
       "      <th>file_name</th>\n",
       "    </tr>\n",
       "  </thead>\n",
       "  <tbody>\n",
       "  </tbody>\n",
       "</table>\n",
       "<p>0 rows × 26 columns</p>\n",
       "</div>"
      ],
      "text/plain": [
       "Empty DataFrame\n",
       "Columns: [merchant_id, merchant_name, user_email, report_id, report_date_local, total_transactions, total_fees_charged, total_taxes, applied_fees_benefits, applied_taxes_benefits, fee_direct_deposit, taxes_direct_deposit, total_adjustments, total_adjustment_fees_charged, total_adjustment_taxes, cobranza, total_released, total_retained, tipopago, total_due, type, created_date, created_time, updated_date, updated_time, file_name]\n",
       "Index: []\n",
       "\n",
       "[0 rows x 26 columns]"
      ]
     },
     "execution_count": 7,
     "metadata": {},
     "output_type": "execute_result"
    }
   ],
   "source": [
    "duplicates_data = settled_trad[settled_trad.duplicated(['report_id'] , keep=False)]\n",
    "duplicates_data.sort_values(by=['tipopago'],ascending=True,inplace=True)\n",
    "duplicates_data.head()"
   ]
  },
  {
   "cell_type": "code",
   "execution_count": 8,
   "metadata": {},
   "outputs": [
    {
     "data": {
      "text/plain": [
       "(0, 26)"
      ]
     },
     "execution_count": 8,
     "metadata": {},
     "output_type": "execute_result"
    }
   ],
   "source": [
    "duplicates_data.shape"
   ]
  },
  {
   "cell_type": "markdown",
   "metadata": {},
   "source": [
    "# VALIDACIÓN SETTLEMENT"
   ]
  },
  {
   "cell_type": "code",
   "execution_count": 9,
   "metadata": {},
   "outputs": [
    {
     "data": {
      "text/html": [
       "<div>\n",
       "<style scoped>\n",
       "    .dataframe tbody tr th:only-of-type {\n",
       "        vertical-align: middle;\n",
       "    }\n",
       "\n",
       "    .dataframe tbody tr th {\n",
       "        vertical-align: top;\n",
       "    }\n",
       "\n",
       "    .dataframe thead th {\n",
       "        text-align: right;\n",
       "    }\n",
       "</style>\n",
       "<table border=\"1\" class=\"dataframe\">\n",
       "  <thead>\n",
       "    <tr style=\"text-align: right;\">\n",
       "      <th></th>\n",
       "      <th>merchant_id</th>\n",
       "      <th>merchant_name</th>\n",
       "      <th>user_email</th>\n",
       "      <th>report_id</th>\n",
       "      <th>report_date_local</th>\n",
       "      <th>total_transactions</th>\n",
       "      <th>total_fees_charged</th>\n",
       "      <th>total_taxes</th>\n",
       "      <th>applied_fees_benefits</th>\n",
       "      <th>applied_taxes_benefits</th>\n",
       "      <th>...</th>\n",
       "      <th>tipopago</th>\n",
       "      <th>total_due</th>\n",
       "      <th>type</th>\n",
       "      <th>created_date</th>\n",
       "      <th>created_time</th>\n",
       "      <th>updated_date</th>\n",
       "      <th>updated_time</th>\n",
       "      <th>file_name</th>\n",
       "      <th>total_due_calculado</th>\n",
       "      <th>diferencias</th>\n",
       "    </tr>\n",
       "  </thead>\n",
       "  <tbody>\n",
       "  </tbody>\n",
       "</table>\n",
       "<p>0 rows × 28 columns</p>\n",
       "</div>"
      ],
      "text/plain": [
       "Empty DataFrame\n",
       "Columns: [merchant_id, merchant_name, user_email, report_id, report_date_local, total_transactions, total_fees_charged, total_taxes, applied_fees_benefits, applied_taxes_benefits, fee_direct_deposit, taxes_direct_deposit, total_adjustments, total_adjustment_fees_charged, total_adjustment_taxes, cobranza, total_released, total_retained, tipopago, total_due, type, created_date, created_time, updated_date, updated_time, file_name, total_due_calculado, diferencias]\n",
       "Index: []\n",
       "\n",
       "[0 rows x 28 columns]"
      ]
     },
     "execution_count": 9,
     "metadata": {},
     "output_type": "execute_result"
    }
   ],
   "source": [
    "settled_trad['total_due_calculado'] = (settled_trad['total_transactions']\n",
    "                                                - settled_trad['total_fees_charged']\n",
    "                                                - settled_trad['total_taxes']\n",
    "                                                + settled_trad['applied_fees_benefits']\n",
    "                                                + settled_trad['applied_taxes_benefits']\n",
    "                                                + settled_trad['fee_direct_deposit']\n",
    "                                                + settled_trad['taxes_direct_deposit']\n",
    "                                                - (-settled_trad['total_adjustments'])\n",
    "                                                + (-settled_trad['total_adjustment_fees_charged'])\n",
    "                                                + (-settled_trad['total_adjustment_taxes'])\n",
    "                                                - settled_trad['cobranza']\n",
    "                                                + settled_trad['total_released']\n",
    "                                                - settled_trad['total_retained'])\n",
    "settled_trad['diferencias'] = settled_trad['total_due_calculado'] - settled_trad['total_due']\n",
    "settled_trad.head()"
   ]
  },
  {
   "cell_type": "code",
   "execution_count": 10,
   "metadata": {},
   "outputs": [
    {
     "data": {
      "text/plain": [
       "(0, 28)"
      ]
     },
     "execution_count": 10,
     "metadata": {},
     "output_type": "execute_result"
    }
   ],
   "source": [
    "settled_trad.shape"
   ]
  },
  {
   "cell_type": "code",
   "execution_count": 11,
   "metadata": {},
   "outputs": [
    {
     "name": "stderr",
     "output_type": "stream",
     "text": [
      "C:\\Users\\Cristian.Aparicio\\AppData\\Local\\Temp\\ipykernel_12312\\3401193542.py:1: FutureWarning: The provided callable <built-in function sum> is currently using SeriesGroupBy.sum. In a future version of pandas, the provided callable will be used directly. To keep current behavior pass the string \"sum\" instead.\n",
      "  validation = settled_trad.groupby(['report_date_local','type']).agg({'total_transactions':sum,'total_fees_charged':sum\n",
      "C:\\Users\\Cristian.Aparicio\\AppData\\Local\\Temp\\ipykernel_12312\\3401193542.py:1: FutureWarning: The provided callable <built-in function sum> is currently using SeriesGroupBy.sum. In a future version of pandas, the provided callable will be used directly. To keep current behavior pass the string \"sum\" instead.\n",
      "  validation = settled_trad.groupby(['report_date_local','type']).agg({'total_transactions':sum,'total_fees_charged':sum\n"
     ]
    },
    {
     "data": {
      "text/html": [
       "<div>\n",
       "<style scoped>\n",
       "    .dataframe tbody tr th:only-of-type {\n",
       "        vertical-align: middle;\n",
       "    }\n",
       "\n",
       "    .dataframe tbody tr th {\n",
       "        vertical-align: top;\n",
       "    }\n",
       "\n",
       "    .dataframe thead th {\n",
       "        text-align: right;\n",
       "    }\n",
       "</style>\n",
       "<table border=\"1\" class=\"dataframe\">\n",
       "  <thead>\n",
       "    <tr style=\"text-align: right;\">\n",
       "      <th></th>\n",
       "      <th>report_date_local</th>\n",
       "      <th>type</th>\n",
       "      <th>total_transactions</th>\n",
       "      <th>total_fees_charged</th>\n",
       "      <th>total_taxes</th>\n",
       "      <th>applied_fees_benefits</th>\n",
       "      <th>applied_taxes_benefits</th>\n",
       "      <th>fee_direct_deposit</th>\n",
       "      <th>taxes_direct_deposit</th>\n",
       "      <th>total_adjustments</th>\n",
       "      <th>total_adjustment_fees_charged</th>\n",
       "      <th>total_adjustment_taxes</th>\n",
       "      <th>cobranza</th>\n",
       "      <th>total_released</th>\n",
       "      <th>total_retained</th>\n",
       "      <th>total_due_calculado</th>\n",
       "      <th>total_due</th>\n",
       "      <th>diferencias</th>\n",
       "    </tr>\n",
       "  </thead>\n",
       "  <tbody>\n",
       "  </tbody>\n",
       "</table>\n",
       "</div>"
      ],
      "text/plain": [
       "Empty DataFrame\n",
       "Columns: [report_date_local, type, total_transactions, total_fees_charged, total_taxes, applied_fees_benefits, applied_taxes_benefits, fee_direct_deposit, taxes_direct_deposit, total_adjustments, total_adjustment_fees_charged, total_adjustment_taxes, cobranza, total_released, total_retained, total_due_calculado, total_due, diferencias]\n",
       "Index: []"
      ]
     },
     "execution_count": 11,
     "metadata": {},
     "output_type": "execute_result"
    }
   ],
   "source": [
    "validation = settled_trad.groupby(['report_date_local','type']).agg({'total_transactions':sum,'total_fees_charged':sum\n",
    "                                                                    ,'total_taxes':sum,'applied_fees_benefits':sum\n",
    "                                                                    ,'applied_taxes_benefits':sum,'fee_direct_deposit':sum\n",
    "                                                                    ,'taxes_direct_deposit':sum,'total_adjustments':sum     \n",
    "                                                                    ,'total_adjustment_fees_charged':sum\n",
    "                                                                    ,'total_adjustment_taxes':sum \n",
    "                                                                    ,'cobranza':sum,'total_released':sum\n",
    "                                                                    ,'total_retained':sum,'total_due_calculado':sum\n",
    "                                                                    ,'total_due':sum\n",
    "                                                                    ,'diferencias':sum}).reset_index()\n",
    "validation['total_adjustments'] = validation['total_adjustments']*-1 \n",
    "validation['total_adjustment_fees_charged'] = validation['total_adjustment_fees_charged']*-1\n",
    "validation['total_adjustment_taxes'] = validation['total_adjustment_taxes']*-1 \n",
    "validation.head()"
   ]
  },
  {
   "cell_type": "code",
   "execution_count": 12,
   "metadata": {},
   "outputs": [
    {
     "data": {
      "text/plain": [
       "(0, 18)"
      ]
     },
     "execution_count": 12,
     "metadata": {},
     "output_type": "execute_result"
    }
   ],
   "source": [
    "validation.shape"
   ]
  },
  {
   "cell_type": "code",
   "execution_count": 13,
   "metadata": {},
   "outputs": [
    {
     "data": {
      "text/plain": [
       "array([], dtype=object)"
      ]
     },
     "execution_count": 13,
     "metadata": {},
     "output_type": "execute_result"
    }
   ],
   "source": [
    "validation['type'].unique()"
   ]
  },
  {
   "cell_type": "code",
   "execution_count": 14,
   "metadata": {},
   "outputs": [],
   "source": [
    "path_file = r'C:\\Users\\Cristian.Aparicio\\Documents\\DISPERSIONES\\2024\\01. ENERO\\Dispersión-20240131.xlsx'\n",
    "book = load_workbook(path_file)\n",
    "writer = pd.ExcelWriter(path_file, engine='openpyxl', mode='a', if_sheet_exists='overlay')\n",
    "writer.workbook = openpyxl.load_workbook(path_file)\n",
    "settled_trad.to_excel(writer, sheet_name='Settlement_All', index=False)\n",
    "validation.to_excel(writer, sheet_name='Validacion_Settlement', index=False)\n",
    "book.save(path_file)\n",
    "writer.close()"
   ]
  },
  {
   "cell_type": "code",
   "execution_count": null,
   "metadata": {},
   "outputs": [],
   "source": []
  }
 ],
 "metadata": {
  "kernelspec": {
   "display_name": "Python 3 (ipykernel)",
   "language": "python",
   "name": "python3"
  },
  "language_info": {
   "codemirror_mode": {
    "name": "ipython",
    "version": 3
   },
   "file_extension": ".py",
   "mimetype": "text/x-python",
   "name": "python",
   "nbconvert_exporter": "python",
   "pygments_lexer": "ipython3",
   "version": "3.9.18"
  }
 },
 "nbformat": 4,
 "nbformat_minor": 4
}
