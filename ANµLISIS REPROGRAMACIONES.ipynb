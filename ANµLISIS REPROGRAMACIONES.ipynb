{
 "cells": [
  {
   "cell_type": "code",
   "execution_count": 1,
   "metadata": {},
   "outputs": [],
   "source": [
    "import pandas as pd\n",
    "import numpy as np\n",
    "import glob\n",
    "import os\n",
    "from openpyxl import load_workbook\n",
    "pd.options.display.float_format = '{:,.2f}'.format"
   ]
  },
  {
   "cell_type": "code",
   "execution_count": 2,
   "metadata": {},
   "outputs": [],
   "source": [
    "start_date = '2022-09-01'\n",
    "final_date = '2022-09-14'"
   ]
  },
  {
   "cell_type": "markdown",
   "metadata": {},
   "source": [
    "# RUTAS DE ACCESO"
   ]
  },
  {
   "cell_type": "markdown",
   "metadata": {},
   "source": [
    "### REPROGRAMACIONES"
   ]
  },
  {
   "cell_type": "code",
   "execution_count": 4,
   "metadata": {},
   "outputs": [
    {
     "data": {
      "text/plain": [
       "['C:\\\\Users\\\\Cristian.Aparicio\\\\Documents\\\\REPROGRAMACIONES\\\\DATA\\\\Reprogramaciones_septiembre_2019.xlsx']"
      ]
     },
     "execution_count": 4,
     "metadata": {},
     "output_type": "execute_result"
    }
   ],
   "source": [
    "allfiles_repro = glob.glob(r'C:\\Users\\Cristian.Aparicio\\Documents\\REPROGRAMACIONES\\DATA\\Reprogramaciones_septiembre_2019*.xlsx', recursive=False)\n",
    "allfiles_repro"
   ]
  },
  {
   "cell_type": "markdown",
   "metadata": {},
   "source": [
    "# REPROGRAMACIONES"
   ]
  },
  {
   "cell_type": "code",
   "execution_count": 5,
   "metadata": {},
   "outputs": [
    {
     "data": {
      "text/html": [
       "<div>\n",
       "<style scoped>\n",
       "    .dataframe tbody tr th:only-of-type {\n",
       "        vertical-align: middle;\n",
       "    }\n",
       "\n",
       "    .dataframe tbody tr th {\n",
       "        vertical-align: top;\n",
       "    }\n",
       "\n",
       "    .dataframe thead th {\n",
       "        text-align: right;\n",
       "    }\n",
       "</style>\n",
       "<table border=\"1\" class=\"dataframe\">\n",
       "  <thead>\n",
       "    <tr style=\"text-align: right;\">\n",
       "      <th></th>\n",
       "      <th>type</th>\n",
       "      <th>merchant_id</th>\n",
       "      <th>merchant_name</th>\n",
       "      <th>user_email</th>\n",
       "      <th>report_id</th>\n",
       "      <th>report_date_local</th>\n",
       "      <th>total_due</th>\n",
       "      <th>tipo</th>\n",
       "      <th>bank</th>\n",
       "      <th>bank_account_owner_name</th>\n",
       "      <th>...</th>\n",
       "      <th>file_name</th>\n",
       "      <th>Date</th>\n",
       "      <th>month_conc</th>\n",
       "      <th>year_conc</th>\n",
       "      <th>month_report</th>\n",
       "      <th>year_report</th>\n",
       "      <th>tipo_reprogramacion</th>\n",
       "      <th>swap</th>\n",
       "      <th>CEP</th>\n",
       "      <th>Time</th>\n",
       "    </tr>\n",
       "  </thead>\n",
       "  <tbody>\n",
       "    <tr>\n",
       "      <th>0</th>\n",
       "      <td>DAILY</td>\n",
       "      <td>001a912c-ec7f-4e8c-911f-c1daf0555f2f</td>\n",
       "      <td>La probadita</td>\n",
       "      <td>marybelcardona38@gmail.com</td>\n",
       "      <td>CZNBW8LGR</td>\n",
       "      <td>2022-08-31</td>\n",
       "      <td>212.98</td>\n",
       "      <td>Reprogramación</td>\n",
       "      <td>AZTECA</td>\n",
       "      <td>Marybel Cardona</td>\n",
       "      <td>...</td>\n",
       "      <td>Reprogramaciones_septiembre_2019.xlsx</td>\n",
       "      <td>2022-09-01</td>\n",
       "      <td>September</td>\n",
       "      <td>2022</td>\n",
       "      <td>August</td>\n",
       "      <td>2022</td>\n",
       "      <td>repro_otro_mes</td>\n",
       "      <td>NaN</td>\n",
       "      <td>NaN</td>\n",
       "      <td>NaN</td>\n",
       "    </tr>\n",
       "    <tr>\n",
       "      <th>668</th>\n",
       "      <td>DAILY</td>\n",
       "      <td>decb7dcf-cf64-4d49-94f4-4b08607624c6</td>\n",
       "      <td>mision coruna</td>\n",
       "      <td>janeth.jvzg@gmail.com</td>\n",
       "      <td>LRQYMGKC2</td>\n",
       "      <td>2022-08-24</td>\n",
       "      <td>619.51</td>\n",
       "      <td>Reprogramación</td>\n",
       "      <td>BBVA BANCOMER</td>\n",
       "      <td>Rogelio Morales Espinosa</td>\n",
       "      <td>...</td>\n",
       "      <td>Reprogramaciones_septiembre_2019.xlsx</td>\n",
       "      <td>2022-09-01</td>\n",
       "      <td>September</td>\n",
       "      <td>2022</td>\n",
       "      <td>August</td>\n",
       "      <td>2022</td>\n",
       "      <td>repro_otro_mes</td>\n",
       "      <td>NaN</td>\n",
       "      <td>NaN</td>\n",
       "      <td>NaN</td>\n",
       "    </tr>\n",
       "    <tr>\n",
       "      <th>669</th>\n",
       "      <td>DAILY</td>\n",
       "      <td>decb7dcf-cf64-4d49-94f4-4b08607624c6</td>\n",
       "      <td>mision coruna</td>\n",
       "      <td>janeth.jvzg@gmail.com</td>\n",
       "      <td>QB8SD7QK9</td>\n",
       "      <td>2022-08-25</td>\n",
       "      <td>442.72</td>\n",
       "      <td>Reprogramación</td>\n",
       "      <td>BBVA BANCOMER</td>\n",
       "      <td>Rogelio Morales Espinosa</td>\n",
       "      <td>...</td>\n",
       "      <td>Reprogramaciones_septiembre_2019.xlsx</td>\n",
       "      <td>2022-09-01</td>\n",
       "      <td>September</td>\n",
       "      <td>2022</td>\n",
       "      <td>August</td>\n",
       "      <td>2022</td>\n",
       "      <td>repro_otro_mes</td>\n",
       "      <td>NaN</td>\n",
       "      <td>NaN</td>\n",
       "      <td>NaN</td>\n",
       "    </tr>\n",
       "    <tr>\n",
       "      <th>670</th>\n",
       "      <td>DAILY</td>\n",
       "      <td>f713c05e-9753-45ff-919c-1bcc270e0177</td>\n",
       "      <td>Ropa Deportiva</td>\n",
       "      <td>erikbvillalba@gmail.com</td>\n",
       "      <td>42NMXDZXQ</td>\n",
       "      <td>2022-08-25</td>\n",
       "      <td>1,051.19</td>\n",
       "      <td>Reprogramación</td>\n",
       "      <td>BBVA BANCOMER</td>\n",
       "      <td>Erik rafael bautista</td>\n",
       "      <td>...</td>\n",
       "      <td>Reprogramaciones_septiembre_2019.xlsx</td>\n",
       "      <td>2022-09-01</td>\n",
       "      <td>September</td>\n",
       "      <td>2022</td>\n",
       "      <td>August</td>\n",
       "      <td>2022</td>\n",
       "      <td>repro_otro_mes</td>\n",
       "      <td>NaN</td>\n",
       "      <td>NaN</td>\n",
       "      <td>NaN</td>\n",
       "    </tr>\n",
       "    <tr>\n",
       "      <th>671</th>\n",
       "      <td>DAILY</td>\n",
       "      <td>decb7dcf-cf64-4d49-94f4-4b08607624c6</td>\n",
       "      <td>mision coruna</td>\n",
       "      <td>janeth.jvzg@gmail.com</td>\n",
       "      <td>RKXNQTWCK</td>\n",
       "      <td>2022-08-26</td>\n",
       "      <td>1,377.44</td>\n",
       "      <td>Reprogramación</td>\n",
       "      <td>BBVA BANCOMER</td>\n",
       "      <td>Rogelio Morales Espinosa</td>\n",
       "      <td>...</td>\n",
       "      <td>Reprogramaciones_septiembre_2019.xlsx</td>\n",
       "      <td>2022-09-01</td>\n",
       "      <td>September</td>\n",
       "      <td>2022</td>\n",
       "      <td>August</td>\n",
       "      <td>2022</td>\n",
       "      <td>repro_otro_mes</td>\n",
       "      <td>NaN</td>\n",
       "      <td>NaN</td>\n",
       "      <td>NaN</td>\n",
       "    </tr>\n",
       "  </tbody>\n",
       "</table>\n",
       "<p>5 rows × 25 columns</p>\n",
       "</div>"
      ],
      "text/plain": [
       "      type                           merchant_id   merchant_name  \\\n",
       "0    DAILY  001a912c-ec7f-4e8c-911f-c1daf0555f2f    La probadita   \n",
       "668  DAILY  decb7dcf-cf64-4d49-94f4-4b08607624c6   mision coruna   \n",
       "669  DAILY  decb7dcf-cf64-4d49-94f4-4b08607624c6   mision coruna   \n",
       "670  DAILY  f713c05e-9753-45ff-919c-1bcc270e0177  Ropa Deportiva   \n",
       "671  DAILY  decb7dcf-cf64-4d49-94f4-4b08607624c6   mision coruna   \n",
       "\n",
       "                     user_email  report_id report_date_local  total_due  \\\n",
       "0    marybelcardona38@gmail.com  CZNBW8LGR        2022-08-31     212.98   \n",
       "668       janeth.jvzg@gmail.com  LRQYMGKC2        2022-08-24     619.51   \n",
       "669       janeth.jvzg@gmail.com  QB8SD7QK9        2022-08-25     442.72   \n",
       "670     erikbvillalba@gmail.com  42NMXDZXQ        2022-08-25   1,051.19   \n",
       "671       janeth.jvzg@gmail.com  RKXNQTWCK        2022-08-26   1,377.44   \n",
       "\n",
       "               tipo           bank   bank_account_owner_name  ...  \\\n",
       "0    Reprogramación         AZTECA           Marybel Cardona  ...   \n",
       "668  Reprogramación  BBVA BANCOMER  Rogelio Morales Espinosa  ...   \n",
       "669  Reprogramación  BBVA BANCOMER  Rogelio Morales Espinosa  ...   \n",
       "670  Reprogramación  BBVA BANCOMER     Erik rafael bautista   ...   \n",
       "671  Reprogramación  BBVA BANCOMER  Rogelio Morales Espinosa  ...   \n",
       "\n",
       "                                 file_name       Date month_conc year_conc  \\\n",
       "0    Reprogramaciones_septiembre_2019.xlsx 2022-09-01  September      2022   \n",
       "668  Reprogramaciones_septiembre_2019.xlsx 2022-09-01  September      2022   \n",
       "669  Reprogramaciones_septiembre_2019.xlsx 2022-09-01  September      2022   \n",
       "670  Reprogramaciones_septiembre_2019.xlsx 2022-09-01  September      2022   \n",
       "671  Reprogramaciones_septiembre_2019.xlsx 2022-09-01  September      2022   \n",
       "\n",
       "    month_report year_report tipo_reprogramacion swap  CEP Time  \n",
       "0         August        2022      repro_otro_mes  NaN  NaN  NaN  \n",
       "668       August        2022      repro_otro_mes  NaN  NaN  NaN  \n",
       "669       August        2022      repro_otro_mes  NaN  NaN  NaN  \n",
       "670       August        2022      repro_otro_mes  NaN  NaN  NaN  \n",
       "671       August        2022      repro_otro_mes  NaN  NaN  NaN  \n",
       "\n",
       "[5 rows x 25 columns]"
      ]
     },
     "execution_count": 5,
     "metadata": {},
     "output_type": "execute_result"
    }
   ],
   "source": [
    "repro = pd.concat([pd.read_excel(f).assign(file_name=os.path.basename(f)) for f in allfiles_repro])\n",
    "repro['Date']= pd.to_datetime(repro['Date'])\n",
    "repro['report_date_local']= pd.to_datetime(repro['report_date_local'])\n",
    "repro.sort_values(by=['Date'],ascending=True,inplace=True)\n",
    "repro.head()"
   ]
  },
  {
   "cell_type": "code",
   "execution_count": 6,
   "metadata": {},
   "outputs": [
    {
     "data": {
      "text/plain": [
       "(12085, 25)"
      ]
     },
     "execution_count": 6,
     "metadata": {},
     "output_type": "execute_result"
    }
   ],
   "source": [
    "repro.shape"
   ]
  },
  {
   "cell_type": "code",
   "execution_count": 8,
   "metadata": {},
   "outputs": [
    {
     "data": {
      "text/plain": [
       "array(['2022-09-01T00:00:00.000000000', '2022-09-02T00:00:00.000000000',\n",
       "       '2022-09-03T00:00:00.000000000', '2022-09-04T00:00:00.000000000',\n",
       "       '2022-09-05T00:00:00.000000000', '2022-09-06T00:00:00.000000000',\n",
       "       '2022-09-07T00:00:00.000000000', '2022-09-08T00:00:00.000000000',\n",
       "       '2022-09-09T00:00:00.000000000', '2022-09-10T00:00:00.000000000',\n",
       "       '2022-09-11T00:00:00.000000000', '2022-09-12T00:00:00.000000000',\n",
       "       '2022-09-13T00:00:00.000000000', '2022-09-14T00:00:00.000000000'],\n",
       "      dtype='datetime64[ns]')"
      ]
     },
     "execution_count": 8,
     "metadata": {},
     "output_type": "execute_result"
    }
   ],
   "source": [
    "repro_final = repro[(repro['Date'] >= start_date) & (repro['Date'] <= final_date)]\n",
    "repro_final['Date'].unique()"
   ]
  },
  {
   "cell_type": "code",
   "execution_count": 9,
   "metadata": {},
   "outputs": [
    {
     "data": {
      "text/html": [
       "<div>\n",
       "<style scoped>\n",
       "    .dataframe tbody tr th:only-of-type {\n",
       "        vertical-align: middle;\n",
       "    }\n",
       "\n",
       "    .dataframe tbody tr th {\n",
       "        vertical-align: top;\n",
       "    }\n",
       "\n",
       "    .dataframe thead th {\n",
       "        text-align: right;\n",
       "    }\n",
       "</style>\n",
       "<table border=\"1\" class=\"dataframe\">\n",
       "  <thead>\n",
       "    <tr style=\"text-align: right;\">\n",
       "      <th></th>\n",
       "      <th>type</th>\n",
       "      <th>merchant_id</th>\n",
       "      <th>merchant_name</th>\n",
       "      <th>user_email</th>\n",
       "      <th>report_id</th>\n",
       "      <th>report_date_local</th>\n",
       "      <th>total_due</th>\n",
       "      <th>tipo</th>\n",
       "      <th>bank</th>\n",
       "      <th>bank_account_owner_name</th>\n",
       "      <th>...</th>\n",
       "      <th>file_name</th>\n",
       "      <th>Date</th>\n",
       "      <th>month_conc</th>\n",
       "      <th>year_conc</th>\n",
       "      <th>month_report</th>\n",
       "      <th>year_report</th>\n",
       "      <th>tipo_reprogramacion</th>\n",
       "      <th>swap</th>\n",
       "      <th>CEP</th>\n",
       "      <th>Time</th>\n",
       "    </tr>\n",
       "  </thead>\n",
       "  <tbody>\n",
       "    <tr>\n",
       "      <th>0</th>\n",
       "      <td>DAILY</td>\n",
       "      <td>001a912c-ec7f-4e8c-911f-c1daf0555f2f</td>\n",
       "      <td>La probadita</td>\n",
       "      <td>marybelcardona38@gmail.com</td>\n",
       "      <td>CZNBW8LGR</td>\n",
       "      <td>2022-08-31</td>\n",
       "      <td>212.98</td>\n",
       "      <td>Reprogramación</td>\n",
       "      <td>AZTECA</td>\n",
       "      <td>Marybel Cardona</td>\n",
       "      <td>...</td>\n",
       "      <td>Reprogramaciones_septiembre_2019.xlsx</td>\n",
       "      <td>2022-09-01</td>\n",
       "      <td>September</td>\n",
       "      <td>2022</td>\n",
       "      <td>August</td>\n",
       "      <td>2022</td>\n",
       "      <td>repro_otro_mes</td>\n",
       "      <td>NaN</td>\n",
       "      <td>NaN</td>\n",
       "      <td>NaN</td>\n",
       "    </tr>\n",
       "    <tr>\n",
       "      <th>668</th>\n",
       "      <td>DAILY</td>\n",
       "      <td>decb7dcf-cf64-4d49-94f4-4b08607624c6</td>\n",
       "      <td>mision coruna</td>\n",
       "      <td>janeth.jvzg@gmail.com</td>\n",
       "      <td>LRQYMGKC2</td>\n",
       "      <td>2022-08-24</td>\n",
       "      <td>619.51</td>\n",
       "      <td>Reprogramación</td>\n",
       "      <td>BBVA BANCOMER</td>\n",
       "      <td>Rogelio Morales Espinosa</td>\n",
       "      <td>...</td>\n",
       "      <td>Reprogramaciones_septiembre_2019.xlsx</td>\n",
       "      <td>2022-09-01</td>\n",
       "      <td>September</td>\n",
       "      <td>2022</td>\n",
       "      <td>August</td>\n",
       "      <td>2022</td>\n",
       "      <td>repro_otro_mes</td>\n",
       "      <td>NaN</td>\n",
       "      <td>NaN</td>\n",
       "      <td>NaN</td>\n",
       "    </tr>\n",
       "    <tr>\n",
       "      <th>669</th>\n",
       "      <td>DAILY</td>\n",
       "      <td>decb7dcf-cf64-4d49-94f4-4b08607624c6</td>\n",
       "      <td>mision coruna</td>\n",
       "      <td>janeth.jvzg@gmail.com</td>\n",
       "      <td>QB8SD7QK9</td>\n",
       "      <td>2022-08-25</td>\n",
       "      <td>442.72</td>\n",
       "      <td>Reprogramación</td>\n",
       "      <td>BBVA BANCOMER</td>\n",
       "      <td>Rogelio Morales Espinosa</td>\n",
       "      <td>...</td>\n",
       "      <td>Reprogramaciones_septiembre_2019.xlsx</td>\n",
       "      <td>2022-09-01</td>\n",
       "      <td>September</td>\n",
       "      <td>2022</td>\n",
       "      <td>August</td>\n",
       "      <td>2022</td>\n",
       "      <td>repro_otro_mes</td>\n",
       "      <td>NaN</td>\n",
       "      <td>NaN</td>\n",
       "      <td>NaN</td>\n",
       "    </tr>\n",
       "    <tr>\n",
       "      <th>670</th>\n",
       "      <td>DAILY</td>\n",
       "      <td>f713c05e-9753-45ff-919c-1bcc270e0177</td>\n",
       "      <td>Ropa Deportiva</td>\n",
       "      <td>erikbvillalba@gmail.com</td>\n",
       "      <td>42NMXDZXQ</td>\n",
       "      <td>2022-08-25</td>\n",
       "      <td>1,051.19</td>\n",
       "      <td>Reprogramación</td>\n",
       "      <td>BBVA BANCOMER</td>\n",
       "      <td>Erik rafael bautista</td>\n",
       "      <td>...</td>\n",
       "      <td>Reprogramaciones_septiembre_2019.xlsx</td>\n",
       "      <td>2022-09-01</td>\n",
       "      <td>September</td>\n",
       "      <td>2022</td>\n",
       "      <td>August</td>\n",
       "      <td>2022</td>\n",
       "      <td>repro_otro_mes</td>\n",
       "      <td>NaN</td>\n",
       "      <td>NaN</td>\n",
       "      <td>NaN</td>\n",
       "    </tr>\n",
       "    <tr>\n",
       "      <th>671</th>\n",
       "      <td>DAILY</td>\n",
       "      <td>decb7dcf-cf64-4d49-94f4-4b08607624c6</td>\n",
       "      <td>mision coruna</td>\n",
       "      <td>janeth.jvzg@gmail.com</td>\n",
       "      <td>RKXNQTWCK</td>\n",
       "      <td>2022-08-26</td>\n",
       "      <td>1,377.44</td>\n",
       "      <td>Reprogramación</td>\n",
       "      <td>BBVA BANCOMER</td>\n",
       "      <td>Rogelio Morales Espinosa</td>\n",
       "      <td>...</td>\n",
       "      <td>Reprogramaciones_septiembre_2019.xlsx</td>\n",
       "      <td>2022-09-01</td>\n",
       "      <td>September</td>\n",
       "      <td>2022</td>\n",
       "      <td>August</td>\n",
       "      <td>2022</td>\n",
       "      <td>repro_otro_mes</td>\n",
       "      <td>NaN</td>\n",
       "      <td>NaN</td>\n",
       "      <td>NaN</td>\n",
       "    </tr>\n",
       "  </tbody>\n",
       "</table>\n",
       "<p>5 rows × 25 columns</p>\n",
       "</div>"
      ],
      "text/plain": [
       "      type                           merchant_id   merchant_name  \\\n",
       "0    DAILY  001a912c-ec7f-4e8c-911f-c1daf0555f2f    La probadita   \n",
       "668  DAILY  decb7dcf-cf64-4d49-94f4-4b08607624c6   mision coruna   \n",
       "669  DAILY  decb7dcf-cf64-4d49-94f4-4b08607624c6   mision coruna   \n",
       "670  DAILY  f713c05e-9753-45ff-919c-1bcc270e0177  Ropa Deportiva   \n",
       "671  DAILY  decb7dcf-cf64-4d49-94f4-4b08607624c6   mision coruna   \n",
       "\n",
       "                     user_email  report_id report_date_local  total_due  \\\n",
       "0    marybelcardona38@gmail.com  CZNBW8LGR        2022-08-31     212.98   \n",
       "668       janeth.jvzg@gmail.com  LRQYMGKC2        2022-08-24     619.51   \n",
       "669       janeth.jvzg@gmail.com  QB8SD7QK9        2022-08-25     442.72   \n",
       "670     erikbvillalba@gmail.com  42NMXDZXQ        2022-08-25   1,051.19   \n",
       "671       janeth.jvzg@gmail.com  RKXNQTWCK        2022-08-26   1,377.44   \n",
       "\n",
       "               tipo           bank   bank_account_owner_name  ...  \\\n",
       "0    Reprogramación         AZTECA           Marybel Cardona  ...   \n",
       "668  Reprogramación  BBVA BANCOMER  Rogelio Morales Espinosa  ...   \n",
       "669  Reprogramación  BBVA BANCOMER  Rogelio Morales Espinosa  ...   \n",
       "670  Reprogramación  BBVA BANCOMER     Erik rafael bautista   ...   \n",
       "671  Reprogramación  BBVA BANCOMER  Rogelio Morales Espinosa  ...   \n",
       "\n",
       "                                 file_name       Date month_conc year_conc  \\\n",
       "0    Reprogramaciones_septiembre_2019.xlsx 2022-09-01  September      2022   \n",
       "668  Reprogramaciones_septiembre_2019.xlsx 2022-09-01  September      2022   \n",
       "669  Reprogramaciones_septiembre_2019.xlsx 2022-09-01  September      2022   \n",
       "670  Reprogramaciones_septiembre_2019.xlsx 2022-09-01  September      2022   \n",
       "671  Reprogramaciones_septiembre_2019.xlsx 2022-09-01  September      2022   \n",
       "\n",
       "    month_report year_report tipo_reprogramacion swap  CEP Time  \n",
       "0         August        2022      repro_otro_mes  NaN  NaN  NaN  \n",
       "668       August        2022      repro_otro_mes  NaN  NaN  NaN  \n",
       "669       August        2022      repro_otro_mes  NaN  NaN  NaN  \n",
       "670       August        2022      repro_otro_mes  NaN  NaN  NaN  \n",
       "671       August        2022      repro_otro_mes  NaN  NaN  NaN  \n",
       "\n",
       "[5 rows x 25 columns]"
      ]
     },
     "execution_count": 9,
     "metadata": {},
     "output_type": "execute_result"
    }
   ],
   "source": [
    "repro_final.head()"
   ]
  },
  {
   "cell_type": "code",
   "execution_count": 10,
   "metadata": {},
   "outputs": [
    {
     "data": {
      "text/plain": [
       "(10499, 25)"
      ]
     },
     "execution_count": 10,
     "metadata": {},
     "output_type": "execute_result"
    }
   ],
   "source": [
    "repro_final.shape"
   ]
  },
  {
   "cell_type": "code",
   "execution_count": 15,
   "metadata": {},
   "outputs": [
    {
     "data": {
      "text/html": [
       "<div>\n",
       "<style scoped>\n",
       "    .dataframe tbody tr th:only-of-type {\n",
       "        vertical-align: middle;\n",
       "    }\n",
       "\n",
       "    .dataframe tbody tr th {\n",
       "        vertical-align: top;\n",
       "    }\n",
       "\n",
       "    .dataframe thead tr th {\n",
       "        text-align: left;\n",
       "    }\n",
       "</style>\n",
       "<table border=\"1\" class=\"dataframe\">\n",
       "  <thead>\n",
       "    <tr>\n",
       "      <th></th>\n",
       "      <th>report_id</th>\n",
       "      <th colspan=\"3\" halign=\"left\">sum</th>\n",
       "      <th colspan=\"3\" halign=\"left\">len</th>\n",
       "    </tr>\n",
       "    <tr>\n",
       "      <th></th>\n",
       "      <th></th>\n",
       "      <th colspan=\"3\" halign=\"left\">total_due</th>\n",
       "      <th colspan=\"3\" halign=\"left\">total_due</th>\n",
       "    </tr>\n",
       "    <tr>\n",
       "      <th>status</th>\n",
       "      <th></th>\n",
       "      <th>ERROR</th>\n",
       "      <th>PAID</th>\n",
       "      <th>All</th>\n",
       "      <th>ERROR</th>\n",
       "      <th>PAID</th>\n",
       "      <th>All</th>\n",
       "    </tr>\n",
       "  </thead>\n",
       "  <tbody>\n",
       "    <tr>\n",
       "      <th>0</th>\n",
       "      <td>2222NCJCZ</td>\n",
       "      <td>0.00</td>\n",
       "      <td>210.81</td>\n",
       "      <td>210.81</td>\n",
       "      <td>0.00</td>\n",
       "      <td>1.00</td>\n",
       "      <td>1</td>\n",
       "    </tr>\n",
       "    <tr>\n",
       "      <th>1</th>\n",
       "      <td>224NJNTQC</td>\n",
       "      <td>0.00</td>\n",
       "      <td>6,799.67</td>\n",
       "      <td>6,799.67</td>\n",
       "      <td>0.00</td>\n",
       "      <td>1.00</td>\n",
       "      <td>1</td>\n",
       "    </tr>\n",
       "    <tr>\n",
       "      <th>2</th>\n",
       "      <td>229F447JT</td>\n",
       "      <td>0.00</td>\n",
       "      <td>105.41</td>\n",
       "      <td>105.41</td>\n",
       "      <td>0.00</td>\n",
       "      <td>1.00</td>\n",
       "      <td>1</td>\n",
       "    </tr>\n",
       "    <tr>\n",
       "      <th>3</th>\n",
       "      <td>22G78ZFPP</td>\n",
       "      <td>0.00</td>\n",
       "      <td>328.69</td>\n",
       "      <td>328.69</td>\n",
       "      <td>0.00</td>\n",
       "      <td>1.00</td>\n",
       "      <td>1</td>\n",
       "    </tr>\n",
       "    <tr>\n",
       "      <th>4</th>\n",
       "      <td>22HBKFQLR</td>\n",
       "      <td>0.00</td>\n",
       "      <td>776.16</td>\n",
       "      <td>776.16</td>\n",
       "      <td>0.00</td>\n",
       "      <td>1.00</td>\n",
       "      <td>1</td>\n",
       "    </tr>\n",
       "  </tbody>\n",
       "</table>\n",
       "</div>"
      ],
      "text/plain": [
       "        report_id       sum                         len         \n",
       "                  total_due                   total_due         \n",
       "status                ERROR     PAID      All     ERROR PAID All\n",
       "0       2222NCJCZ      0.00   210.81   210.81      0.00 1.00   1\n",
       "1       224NJNTQC      0.00 6,799.67 6,799.67      0.00 1.00   1\n",
       "2       229F447JT      0.00   105.41   105.41      0.00 1.00   1\n",
       "3       22G78ZFPP      0.00   328.69   328.69      0.00 1.00   1\n",
       "4       22HBKFQLR      0.00   776.16   776.16      0.00 1.00   1"
      ]
     },
     "execution_count": 15,
     "metadata": {},
     "output_type": "execute_result"
    }
   ],
   "source": [
    "pivot_repro = pd.pivot_table(repro_final,index=['report_id'],\n",
    "                             columns=['status'],\n",
    "                             values=['total_due'],\n",
    "                             aggfunc=['sum', len],margins=True).reset_index()\n",
    "pivot_repro.fillna(0,inplace=True)\n",
    "pivot_repro.head()"
   ]
  },
  {
   "cell_type": "code",
   "execution_count": 16,
   "metadata": {},
   "outputs": [
    {
     "data": {
      "text/plain": [
       "(10343, 7)"
      ]
     },
     "execution_count": 16,
     "metadata": {},
     "output_type": "execute_result"
    }
   ],
   "source": [
    "pivot_repro.shape"
   ]
  },
  {
   "cell_type": "code",
   "execution_count": 26,
   "metadata": {},
   "outputs": [
    {
     "data": {
      "text/html": [
       "<div>\n",
       "<style scoped>\n",
       "    .dataframe tbody tr th:only-of-type {\n",
       "        vertical-align: middle;\n",
       "    }\n",
       "\n",
       "    .dataframe tbody tr th {\n",
       "        vertical-align: top;\n",
       "    }\n",
       "\n",
       "    .dataframe thead tr th {\n",
       "        text-align: left;\n",
       "    }\n",
       "\n",
       "    .dataframe thead tr:last-of-type th {\n",
       "        text-align: right;\n",
       "    }\n",
       "</style>\n",
       "<table border=\"1\" class=\"dataframe\">\n",
       "  <thead>\n",
       "    <tr>\n",
       "      <th></th>\n",
       "      <th>report_id</th>\n",
       "      <th colspan=\"9\" halign=\"left\">sum</th>\n",
       "      <th>...</th>\n",
       "      <th colspan=\"10\" halign=\"left\">len</th>\n",
       "    </tr>\n",
       "    <tr>\n",
       "      <th></th>\n",
       "      <th></th>\n",
       "      <th colspan=\"9\" halign=\"left\">total_due</th>\n",
       "      <th>...</th>\n",
       "      <th colspan=\"10\" halign=\"left\">total_due</th>\n",
       "    </tr>\n",
       "    <tr>\n",
       "      <th>Date</th>\n",
       "      <th></th>\n",
       "      <th>2022-09-01 00:00:00</th>\n",
       "      <th>2022-09-02 00:00:00</th>\n",
       "      <th>2022-09-03 00:00:00</th>\n",
       "      <th>2022-09-04 00:00:00</th>\n",
       "      <th>2022-09-05 00:00:00</th>\n",
       "      <th>2022-09-06 00:00:00</th>\n",
       "      <th>2022-09-07 00:00:00</th>\n",
       "      <th>2022-09-08 00:00:00</th>\n",
       "      <th>2022-09-09 00:00:00</th>\n",
       "      <th>...</th>\n",
       "      <th>2022-09-06 00:00:00</th>\n",
       "      <th>2022-09-07 00:00:00</th>\n",
       "      <th>2022-09-08 00:00:00</th>\n",
       "      <th>2022-09-09 00:00:00</th>\n",
       "      <th>2022-09-10 00:00:00</th>\n",
       "      <th>2022-09-11 00:00:00</th>\n",
       "      <th>2022-09-12 00:00:00</th>\n",
       "      <th>2022-09-13 00:00:00</th>\n",
       "      <th>2022-09-14 00:00:00</th>\n",
       "      <th>All</th>\n",
       "    </tr>\n",
       "    <tr>\n",
       "      <th>status</th>\n",
       "      <th></th>\n",
       "      <th></th>\n",
       "      <th></th>\n",
       "      <th></th>\n",
       "      <th></th>\n",
       "      <th></th>\n",
       "      <th></th>\n",
       "      <th></th>\n",
       "      <th></th>\n",
       "      <th></th>\n",
       "      <th></th>\n",
       "      <th></th>\n",
       "      <th></th>\n",
       "      <th></th>\n",
       "      <th></th>\n",
       "      <th></th>\n",
       "      <th></th>\n",
       "      <th></th>\n",
       "      <th></th>\n",
       "      <th></th>\n",
       "      <th></th>\n",
       "    </tr>\n",
       "  </thead>\n",
       "  <tbody>\n",
       "    <tr>\n",
       "      <th>ERROR</th>\n",
       "      <td>25TVC8P4S</td>\n",
       "      <td>0.00</td>\n",
       "      <td>0.00</td>\n",
       "      <td>0.00</td>\n",
       "      <td>0.00</td>\n",
       "      <td>0.00</td>\n",
       "      <td>0.00</td>\n",
       "      <td>0.00</td>\n",
       "      <td>0.00</td>\n",
       "      <td>0.00</td>\n",
       "      <td>...</td>\n",
       "      <td>0.00</td>\n",
       "      <td>0.00</td>\n",
       "      <td>0.00</td>\n",
       "      <td>0.00</td>\n",
       "      <td>0.00</td>\n",
       "      <td>0.00</td>\n",
       "      <td>0.00</td>\n",
       "      <td>0.00</td>\n",
       "      <td>1.00</td>\n",
       "      <td>1</td>\n",
       "    </tr>\n",
       "    <tr>\n",
       "      <th>ERROR</th>\n",
       "      <td>26RT24GY2</td>\n",
       "      <td>0.00</td>\n",
       "      <td>0.00</td>\n",
       "      <td>0.00</td>\n",
       "      <td>0.00</td>\n",
       "      <td>366.05</td>\n",
       "      <td>0.00</td>\n",
       "      <td>0.00</td>\n",
       "      <td>0.00</td>\n",
       "      <td>0.00</td>\n",
       "      <td>...</td>\n",
       "      <td>0.00</td>\n",
       "      <td>0.00</td>\n",
       "      <td>0.00</td>\n",
       "      <td>0.00</td>\n",
       "      <td>0.00</td>\n",
       "      <td>0.00</td>\n",
       "      <td>0.00</td>\n",
       "      <td>0.00</td>\n",
       "      <td>0.00</td>\n",
       "      <td>1</td>\n",
       "    </tr>\n",
       "    <tr>\n",
       "      <th>ERROR</th>\n",
       "      <td>28383PP6K</td>\n",
       "      <td>0.00</td>\n",
       "      <td>0.00</td>\n",
       "      <td>0.00</td>\n",
       "      <td>0.00</td>\n",
       "      <td>0.00</td>\n",
       "      <td>0.00</td>\n",
       "      <td>0.00</td>\n",
       "      <td>0.00</td>\n",
       "      <td>0.00</td>\n",
       "      <td>...</td>\n",
       "      <td>0.00</td>\n",
       "      <td>0.00</td>\n",
       "      <td>0.00</td>\n",
       "      <td>0.00</td>\n",
       "      <td>0.00</td>\n",
       "      <td>0.00</td>\n",
       "      <td>0.00</td>\n",
       "      <td>0.00</td>\n",
       "      <td>1.00</td>\n",
       "      <td>1</td>\n",
       "    </tr>\n",
       "    <tr>\n",
       "      <th>ERROR</th>\n",
       "      <td>2D3SF44NY</td>\n",
       "      <td>0.00</td>\n",
       "      <td>0.00</td>\n",
       "      <td>344.01</td>\n",
       "      <td>0.00</td>\n",
       "      <td>0.00</td>\n",
       "      <td>0.00</td>\n",
       "      <td>0.00</td>\n",
       "      <td>0.00</td>\n",
       "      <td>0.00</td>\n",
       "      <td>...</td>\n",
       "      <td>0.00</td>\n",
       "      <td>0.00</td>\n",
       "      <td>0.00</td>\n",
       "      <td>0.00</td>\n",
       "      <td>0.00</td>\n",
       "      <td>0.00</td>\n",
       "      <td>0.00</td>\n",
       "      <td>0.00</td>\n",
       "      <td>0.00</td>\n",
       "      <td>1</td>\n",
       "    </tr>\n",
       "    <tr>\n",
       "      <th>ERROR</th>\n",
       "      <td>2L9J3F3DS</td>\n",
       "      <td>0.00</td>\n",
       "      <td>0.00</td>\n",
       "      <td>0.00</td>\n",
       "      <td>0.00</td>\n",
       "      <td>0.00</td>\n",
       "      <td>0.00</td>\n",
       "      <td>0.00</td>\n",
       "      <td>0.00</td>\n",
       "      <td>0.00</td>\n",
       "      <td>...</td>\n",
       "      <td>0.00</td>\n",
       "      <td>0.00</td>\n",
       "      <td>0.00</td>\n",
       "      <td>0.00</td>\n",
       "      <td>1.00</td>\n",
       "      <td>1.00</td>\n",
       "      <td>1.00</td>\n",
       "      <td>0.00</td>\n",
       "      <td>0.00</td>\n",
       "      <td>3</td>\n",
       "    </tr>\n",
       "  </tbody>\n",
       "</table>\n",
       "<p>5 rows × 31 columns</p>\n",
       "</div>"
      ],
      "text/plain": [
       "        report_id                 sum                                          \\\n",
       "                            total_due                                           \n",
       "Date              2022-09-01 00:00:00 2022-09-02 00:00:00 2022-09-03 00:00:00   \n",
       "status                                                                          \n",
       "ERROR   25TVC8P4S                0.00                0.00                0.00   \n",
       "ERROR   26RT24GY2                0.00                0.00                0.00   \n",
       "ERROR   28383PP6K                0.00                0.00                0.00   \n",
       "ERROR   2D3SF44NY                0.00                0.00              344.01   \n",
       "ERROR   2L9J3F3DS                0.00                0.00                0.00   \n",
       "\n",
       "                                                                    \\\n",
       "                                                                     \n",
       "Date   2022-09-04 00:00:00 2022-09-05 00:00:00 2022-09-06 00:00:00   \n",
       "status                                                               \n",
       "ERROR                 0.00                0.00                0.00   \n",
       "ERROR                 0.00              366.05                0.00   \n",
       "ERROR                 0.00                0.00                0.00   \n",
       "ERROR                 0.00                0.00                0.00   \n",
       "ERROR                 0.00                0.00                0.00   \n",
       "\n",
       "                                                                    ...  \\\n",
       "                                                                    ...   \n",
       "Date   2022-09-07 00:00:00 2022-09-08 00:00:00 2022-09-09 00:00:00  ...   \n",
       "status                                                              ...   \n",
       "ERROR                 0.00                0.00                0.00  ...   \n",
       "ERROR                 0.00                0.00                0.00  ...   \n",
       "ERROR                 0.00                0.00                0.00  ...   \n",
       "ERROR                 0.00                0.00                0.00  ...   \n",
       "ERROR                 0.00                0.00                0.00  ...   \n",
       "\n",
       "                       len                                          \\\n",
       "                 total_due                                           \n",
       "Date   2022-09-06 00:00:00 2022-09-07 00:00:00 2022-09-08 00:00:00   \n",
       "status                                                               \n",
       "ERROR                 0.00                0.00                0.00   \n",
       "ERROR                 0.00                0.00                0.00   \n",
       "ERROR                 0.00                0.00                0.00   \n",
       "ERROR                 0.00                0.00                0.00   \n",
       "ERROR                 0.00                0.00                0.00   \n",
       "\n",
       "                                                                    \\\n",
       "                                                                     \n",
       "Date   2022-09-09 00:00:00 2022-09-10 00:00:00 2022-09-11 00:00:00   \n",
       "status                                                               \n",
       "ERROR                 0.00                0.00                0.00   \n",
       "ERROR                 0.00                0.00                0.00   \n",
       "ERROR                 0.00                0.00                0.00   \n",
       "ERROR                 0.00                0.00                0.00   \n",
       "ERROR                 0.00                1.00                1.00   \n",
       "\n",
       "                                                                        \n",
       "                                                                        \n",
       "Date   2022-09-12 00:00:00 2022-09-13 00:00:00 2022-09-14 00:00:00 All  \n",
       "status                                                                  \n",
       "ERROR                 0.00                0.00                1.00   1  \n",
       "ERROR                 0.00                0.00                0.00   1  \n",
       "ERROR                 0.00                0.00                1.00   1  \n",
       "ERROR                 0.00                0.00                0.00   1  \n",
       "ERROR                 1.00                0.00                0.00   3  \n",
       "\n",
       "[5 rows x 31 columns]"
      ]
     },
     "execution_count": 26,
     "metadata": {},
     "output_type": "execute_result"
    }
   ],
   "source": [
    "pivot_repro_date = pd.pivot_table(repro_final,index=['status','report_id'],\n",
    "                             columns=['Date'],\n",
    "                             values=['total_due'],\n",
    "                             aggfunc=['sum', len],margins=True).reset_index(1)\n",
    "pivot_repro_date.fillna(0,inplace=True)\n",
    "pivot_repro_date.head()"
   ]
  },
  {
   "cell_type": "code",
   "execution_count": 27,
   "metadata": {},
   "outputs": [
    {
     "data": {
      "text/plain": [
       "(10411, 31)"
      ]
     },
     "execution_count": 27,
     "metadata": {},
     "output_type": "execute_result"
    }
   ],
   "source": [
    "pivot_repro_date.shape"
   ]
  },
  {
   "cell_type": "code",
   "execution_count": 28,
   "metadata": {},
   "outputs": [],
   "source": [
    "writer = pd.ExcelWriter('REPROGRAMACIONES - SEPT 2022.xlsx',\n",
    "                        engine='xlsxwriter',\n",
    "                        engine_kwargs={'options': {'encoding':'utf-8'}})\n",
    "pivot_repro.to_excel(writer, sheet_name='Repro_status')\n",
    "pivot_repro_date.to_excel(writer, sheet_name='Repro_date')\n",
    "writer.close()"
   ]
  },
  {
   "cell_type": "code",
   "execution_count": null,
   "metadata": {},
   "outputs": [],
   "source": []
  },
  {
   "cell_type": "code",
   "execution_count": null,
   "metadata": {},
   "outputs": [],
   "source": []
  },
  {
   "cell_type": "code",
   "execution_count": null,
   "metadata": {},
   "outputs": [],
   "source": []
  },
  {
   "cell_type": "code",
   "execution_count": null,
   "metadata": {},
   "outputs": [],
   "source": []
  },
  {
   "cell_type": "code",
   "execution_count": null,
   "metadata": {},
   "outputs": [],
   "source": []
  },
  {
   "cell_type": "code",
   "execution_count": null,
   "metadata": {},
   "outputs": [],
   "source": []
  },
  {
   "cell_type": "code",
   "execution_count": null,
   "metadata": {},
   "outputs": [],
   "source": []
  },
  {
   "cell_type": "code",
   "execution_count": null,
   "metadata": {},
   "outputs": [],
   "source": []
  },
  {
   "cell_type": "code",
   "execution_count": null,
   "metadata": {},
   "outputs": [],
   "source": []
  },
  {
   "cell_type": "code",
   "execution_count": null,
   "metadata": {},
   "outputs": [],
   "source": []
  },
  {
   "cell_type": "code",
   "execution_count": null,
   "metadata": {},
   "outputs": [],
   "source": []
  },
  {
   "cell_type": "code",
   "execution_count": null,
   "metadata": {},
   "outputs": [],
   "source": []
  },
  {
   "cell_type": "code",
   "execution_count": null,
   "metadata": {},
   "outputs": [],
   "source": []
  },
  {
   "cell_type": "code",
   "execution_count": null,
   "metadata": {},
   "outputs": [],
   "source": []
  },
  {
   "cell_type": "code",
   "execution_count": null,
   "metadata": {},
   "outputs": [],
   "source": []
  },
  {
   "cell_type": "code",
   "execution_count": null,
   "metadata": {},
   "outputs": [],
   "source": []
  },
  {
   "cell_type": "code",
   "execution_count": null,
   "metadata": {},
   "outputs": [],
   "source": []
  },
  {
   "cell_type": "code",
   "execution_count": null,
   "metadata": {},
   "outputs": [],
   "source": []
  },
  {
   "cell_type": "code",
   "execution_count": null,
   "metadata": {},
   "outputs": [],
   "source": []
  },
  {
   "cell_type": "code",
   "execution_count": null,
   "metadata": {},
   "outputs": [],
   "source": []
  },
  {
   "cell_type": "code",
   "execution_count": null,
   "metadata": {},
   "outputs": [],
   "source": []
  },
  {
   "cell_type": "code",
   "execution_count": null,
   "metadata": {},
   "outputs": [],
   "source": []
  },
  {
   "cell_type": "code",
   "execution_count": null,
   "metadata": {},
   "outputs": [],
   "source": []
  },
  {
   "cell_type": "code",
   "execution_count": null,
   "metadata": {},
   "outputs": [],
   "source": []
  },
  {
   "cell_type": "code",
   "execution_count": null,
   "metadata": {},
   "outputs": [],
   "source": []
  },
  {
   "cell_type": "code",
   "execution_count": null,
   "metadata": {},
   "outputs": [],
   "source": []
  },
  {
   "cell_type": "code",
   "execution_count": null,
   "metadata": {},
   "outputs": [],
   "source": [
    "pivot_total = pd.pivot_table(swap_dia_total,index=['Date'],values=['total_due'],aggfunc = ['sum', len],margins=True)\n",
    "pivot_total.reset_index(drop=False, inplace=True)\n",
    "pivot_total.head()"
   ]
  },
  {
   "cell_type": "code",
   "execution_count": null,
   "metadata": {},
   "outputs": [],
   "source": [
    "pivot_parcial = pd.pivot_table(swap_dia_total,index=['tipo','Date'],values=['total_due'],aggfunc = ['sum', len],margins=True)\n",
    "pivot_parcial.reset_index(drop=False, inplace=True)\n",
    "pivot_parcial.head()"
   ]
  },
  {
   "cell_type": "markdown",
   "metadata": {},
   "source": [
    "## CATEGORIZACIÓN DE REPROGRAMACIONES"
   ]
  },
  {
   "cell_type": "code",
   "execution_count": null,
   "metadata": {},
   "outputs": [],
   "source": [
    "swap_dia_total_repro = swap_dia_total[(swap_dia_total['tipo'] == 'Reprogramación')]\n",
    "swap_dia_total_repro.head()"
   ]
  },
  {
   "cell_type": "code",
   "execution_count": null,
   "metadata": {},
   "outputs": [],
   "source": [
    "swap_dia_total_repro.shape"
   ]
  },
  {
   "cell_type": "code",
   "execution_count": null,
   "metadata": {},
   "outputs": [],
   "source": [
    "swap_dia_total_repro.loc[(swap_dia_total_repro['tipo'] == 'Reprogramación')\n",
    "                   & (swap_dia_total_repro['month_report'] == month_conc) \n",
    "                   & (swap_dia_total_repro['year_report'] == year_conc),'tipo_reprogramacion'] = 'repro_mismo_mes'\n",
    "swap_dia_total_repro['tipo_reprogramacion'].fillna('repro_otro_mes',inplace=True)\n",
    "swap_dia_total_repro.head()"
   ]
  },
  {
   "cell_type": "code",
   "execution_count": null,
   "metadata": {},
   "outputs": [],
   "source": [
    "pivot_tipo_repro = pd.pivot_table(swap_dia_total_repro,index=['Date'],\n",
    "                                  columns=['tipo_reprogramacion'],\n",
    "                                  values=['total_due']\n",
    "                                  ,aggfunc = ['sum', len],margins=True)\n",
    "pivot_tipo_repro.reset_index(drop=False, inplace=True)\n",
    "pivot_tipo_repro.head()"
   ]
  },
  {
   "cell_type": "markdown",
   "metadata": {},
   "source": [
    "# FAST PAYMENTS"
   ]
  },
  {
   "cell_type": "code",
   "execution_count": null,
   "metadata": {},
   "outputs": [],
   "source": [
    "fp_dia_total = pd.concat([pd.read_excel(f,sheet_name='FAST PAYMENTS')\n",
    "                          .assign(file_name=os.path.basename(f)) for f in allfiles_fp])\n",
    "fp_dia_total['Date'] = fp_dia_total[\"file_name\"].str[-15:-5]\n",
    "fp_dia_total['Date']= pd.to_datetime(fp_dia_total['Date'])\n",
    "fp_dia_total['report_date_local']= pd.to_datetime(fp_dia_total['report_date_local'])\n",
    "fp_dia_total['month_conc'] = month_conc\n",
    "fp_dia_total['year_conc'] = year_conc\n",
    "fp_dia_total['month_report'] = fp_dia_total['report_date_local'].dt.strftime('%B')\n",
    "fp_dia_total['year_report'] = fp_dia_total['report_date_local'].dt.year.astype(str)\n",
    "fp_dia_total.head()"
   ]
  },
  {
   "cell_type": "code",
   "execution_count": null,
   "metadata": {},
   "outputs": [],
   "source": [
    "fp_dia_total.shape"
   ]
  },
  {
   "cell_type": "code",
   "execution_count": null,
   "metadata": {},
   "outputs": [],
   "source": [
    "fp_dia_total.dtypes"
   ]
  },
  {
   "cell_type": "code",
   "execution_count": null,
   "metadata": {},
   "outputs": [],
   "source": [
    "pivot_fp_total = pd.pivot_table(fp_dia_total,index=['Date'],values=['total_due'],aggfunc = ['sum', len],margins=True)\n",
    "pivot_fp_total.reset_index(drop=False, inplace=True)\n",
    "pivot_fp_total.head()"
   ]
  },
  {
   "cell_type": "code",
   "execution_count": null,
   "metadata": {},
   "outputs": [],
   "source": [
    "pivot_fp_parcial = pd.pivot_table(fp_dia_total,index=['tipo','Date'],values=['total_due'],aggfunc = ['sum', len],margins=True)\n",
    "pivot_fp_parcial.reset_index(drop=False, inplace=True)\n",
    "pivot_fp_parcial.head()"
   ]
  },
  {
   "cell_type": "markdown",
   "metadata": {},
   "source": [
    "## CATEGORIZACIÓN DE REPROGRAMACIONES - FAST PAYMENTS"
   ]
  },
  {
   "cell_type": "code",
   "execution_count": null,
   "metadata": {},
   "outputs": [],
   "source": [
    "fp_dia_total_repro = fp_dia_total[(fp_dia_total['tipo'] == 'Reprogramación')]\n",
    "fp_dia_total_repro.head()"
   ]
  },
  {
   "cell_type": "code",
   "execution_count": null,
   "metadata": {},
   "outputs": [],
   "source": [
    "fp_dia_total_repro.shape"
   ]
  },
  {
   "cell_type": "code",
   "execution_count": null,
   "metadata": {},
   "outputs": [],
   "source": [
    "fp_dia_total_repro.loc[(fp_dia_total_repro['tipo'] == 'Reprogramación')\n",
    "                   & (fp_dia_total_repro['month_report'] == month_conc) \n",
    "                   & (fp_dia_total_repro['year_report'] == year_conc),'tipo_reprogramacion'] = 'repro_mismo_mes'\n",
    "fp_dia_total_repro['tipo_reprogramacion'].fillna('repro_otro_mes',inplace=True)\n",
    "fp_dia_total_repro.head()"
   ]
  },
  {
   "cell_type": "code",
   "execution_count": null,
   "metadata": {},
   "outputs": [],
   "source": [
    "pivot_tipo_repro_fp = pd.pivot_table(fp_dia_total_repro,index=['Date'],\n",
    "                                  columns=['tipo_reprogramacion'],\n",
    "                                  values=['total_due']\n",
    "                                  ,aggfunc = ['sum', len],margins=True)\n",
    "pivot_tipo_repro_fp.reset_index(drop=False, inplace=True)\n",
    "pivot_tipo_repro_fp.head()"
   ]
  },
  {
   "cell_type": "markdown",
   "metadata": {},
   "source": [
    "# UNION REPROGRAMACIONES"
   ]
  },
  {
   "cell_type": "code",
   "execution_count": null,
   "metadata": {},
   "outputs": [],
   "source": [
    "union_repros = pd.concat([swap_dia_total_repro,fp_dia_total_repro])\n",
    "union_repros.head()"
   ]
  },
  {
   "cell_type": "code",
   "execution_count": null,
   "metadata": {},
   "outputs": [],
   "source": [
    "union_repros.shape"
   ]
  },
  {
   "cell_type": "code",
   "execution_count": null,
   "metadata": {},
   "outputs": [],
   "source": [
    "union_repros.to_excel('Reprogramaciones_septiembre_2019.xlsx')"
   ]
  },
  {
   "cell_type": "markdown",
   "metadata": {},
   "source": [
    "# EXCLUSIÓN DE PAGOS DESFASADOS "
   ]
  },
  {
   "cell_type": "code",
   "execution_count": null,
   "metadata": {},
   "outputs": [],
   "source": [
    "pago_desfasado = pd.read_excel(r'C:\\Users\\Cristian.Aparicio\\Documents\\POLIZAS\\2022\\09. SEPTIEMBRE\\FASE III. SETTLED VS PAGO DIA SEPTIEMBRE 2022.xlsx',\n",
    "                               sheet_name='DETAIL NO ENCONTRADO',\n",
    "                               converters={'report_id':str})\n",
    "pago_desfasado.head()"
   ]
  },
  {
   "cell_type": "code",
   "execution_count": null,
   "metadata": {},
   "outputs": [],
   "source": [
    "pago_desfasado.shape"
   ]
  },
  {
   "cell_type": "code",
   "execution_count": null,
   "metadata": {},
   "outputs": [],
   "source": [
    "repros_2 = union_repros.merge(pago_desfasado[['report_id','report_date_local']] ,on='report_id', how='left')\n",
    "repros_2['report_date_local_y'].fillna('not_found',inplace=True)\n",
    "repros_2.head()"
   ]
  },
  {
   "cell_type": "code",
   "execution_count": null,
   "metadata": {},
   "outputs": [],
   "source": [
    "repros_2.shape"
   ]
  },
  {
   "cell_type": "code",
   "execution_count": null,
   "metadata": {},
   "outputs": [],
   "source": [
    "repros_pago_desfasado = repros_2[(repros_2['report_date_local_y'] != 'not_found')]\n",
    "repros_pago_desfasado.head()"
   ]
  },
  {
   "cell_type": "code",
   "execution_count": null,
   "metadata": {},
   "outputs": [],
   "source": [
    "repros_pago_desfasado.shape"
   ]
  },
  {
   "cell_type": "code",
   "execution_count": null,
   "metadata": {},
   "outputs": [],
   "source": [
    "repros_pago_desfasado_dup = repros_pago_desfasado[repros_pago_desfasado.duplicated(['report_id'] , keep='last')]\n",
    "repros_pago_desfasado_dup.head()"
   ]
  },
  {
   "cell_type": "code",
   "execution_count": null,
   "metadata": {},
   "outputs": [],
   "source": [
    "repros_pago_desfasado_dup.shape"
   ]
  },
  {
   "cell_type": "code",
   "execution_count": null,
   "metadata": {},
   "outputs": [],
   "source": [
    "repros_final = repros_2[(repros_2['report_date_local_y'] == 'not_found')]\n",
    "repros_final.sort_values(by='Date',ascending=True,inplace=True)\n",
    "repros_final.head()"
   ]
  },
  {
   "cell_type": "code",
   "execution_count": null,
   "metadata": {},
   "outputs": [],
   "source": [
    "repros_final.shape"
   ]
  },
  {
   "cell_type": "code",
   "execution_count": null,
   "metadata": {},
   "outputs": [],
   "source": [
    "repros_final_dup = repros_2[repros_2.duplicated(['report_id'] , keep='last')]\n",
    "repros_final_dup.head()"
   ]
  },
  {
   "cell_type": "code",
   "execution_count": null,
   "metadata": {},
   "outputs": [],
   "source": [
    "repros_final_dup.shape"
   ]
  },
  {
   "cell_type": "markdown",
   "metadata": {},
   "source": [
    "# CUBETA ERROR"
   ]
  },
  {
   "cell_type": "code",
   "execution_count": null,
   "metadata": {},
   "outputs": [],
   "source": [
    "excel_error = pd.read_excel(r'C:\\Users\\Cristian.Aparicio\\Documents\\CUBETAS\\2022\\09. SEPTIEMBRE\\CUBETA ERROR SEPTIEMBRE-14 2022.xlsx',sheet_name='Cubeta ErrorLastMonth',converters={'report_id':str})\n",
    "excel_error.head()"
   ]
  },
  {
   "cell_type": "code",
   "execution_count": null,
   "metadata": {},
   "outputs": [],
   "source": [
    "excel_error.shape"
   ]
  },
  {
   "cell_type": "code",
   "execution_count": null,
   "metadata": {},
   "outputs": [],
   "source": [
    "excel_error_salidas = excel_error[(excel_error['status_cubeta'] == 'SALIDA')]\n",
    "excel_error_salidas.head()"
   ]
  },
  {
   "cell_type": "code",
   "execution_count": null,
   "metadata": {},
   "outputs": [],
   "source": [
    "excel_error_salidas.shape"
   ]
  },
  {
   "cell_type": "markdown",
   "metadata": {},
   "source": [
    "# CRUCE 1:  REPROGRAMACIONES VS CUBETA EN ERROR"
   ]
  },
  {
   "cell_type": "code",
   "execution_count": null,
   "metadata": {},
   "outputs": [],
   "source": [
    "cruce_1 = union_repros.merge(excel_error_salidas[['report_id','status_cubeta','esquema final']] ,on='report_id', how='left')\n",
    "cruce_1['status_cubeta'].fillna('not_found',inplace=True)\n",
    "cruce_1['esquema final'].fillna('not_found',inplace=True)\n",
    "cruce_1.head()\n"
   ]
  },
  {
   "cell_type": "code",
   "execution_count": null,
   "metadata": {},
   "outputs": [],
   "source": [
    "cruce_1.shape"
   ]
  },
  {
   "cell_type": "markdown",
   "metadata": {},
   "source": [
    "# CRUCE_2: CUBETA ERROR VS REPROGRAMACIONES"
   ]
  },
  {
   "cell_type": "code",
   "execution_count": null,
   "metadata": {},
   "outputs": [],
   "source": [
    "cruce_2 = excel_error_salidas.merge(union_repros[['report_id','report_date_local','tipo','tipo_reprogramacion',\n",
    "                                         'file_name','status']] ,on='report_id', how='left')\n",
    "cruce_2['tipo_reprogramacion'].fillna('not_found',inplace=True)\n",
    "cruce_2['file_name'].fillna('not_found',inplace=True)\n",
    "cruce_2['status_y'].fillna('not_found',inplace=True)\n",
    "cruce_2.head()"
   ]
  },
  {
   "cell_type": "code",
   "execution_count": null,
   "metadata": {},
   "outputs": [],
   "source": [
    "cruce_2.shape"
   ]
  },
  {
   "cell_type": "markdown",
   "metadata": {},
   "source": [
    "# EXCEL FINAL"
   ]
  },
  {
   "cell_type": "code",
   "execution_count": null,
   "metadata": {},
   "outputs": [],
   "source": [
    "writer = pd.ExcelWriter('VALIDACION SALIDA - CUBETAS.xlsx',\n",
    "                        engine='xlsxwriter',\n",
    "                        engine_kwargs={'options': {'encoding':'utf-8'}})\n",
    "cruce_1.to_excel(writer, sheet_name='DETALLE_1')\n",
    "cruce_2.to_excel(writer, sheet_name='DETALLE_2')\n",
    "writer.close()"
   ]
  },
  {
   "cell_type": "code",
   "execution_count": null,
   "metadata": {},
   "outputs": [],
   "source": []
  }
 ],
 "metadata": {
  "kernelspec": {
   "display_name": "Python 3 (ipykernel)",
   "language": "python",
   "name": "python3"
  },
  "language_info": {
   "codemirror_mode": {
    "name": "ipython",
    "version": 3
   },
   "file_extension": ".py",
   "mimetype": "text/x-python",
   "name": "python",
   "nbconvert_exporter": "python",
   "pygments_lexer": "ipython3",
   "version": "3.9.13"
  }
 },
 "nbformat": 4,
 "nbformat_minor": 4
}
