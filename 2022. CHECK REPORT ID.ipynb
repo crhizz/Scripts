{
 "cells": [
  {
   "cell_type": "code",
   "execution_count": 1,
   "metadata": {},
   "outputs": [],
   "source": [
    "import pandas as pd\n",
    "import numpy as np\n",
    "from openpyxl import load_workbook\n",
    "import glob\n",
    "import os\n",
    "pd.options.display.float_format = '{:,.2f}'.format"
   ]
  },
  {
   "cell_type": "code",
   "execution_count": 2,
   "metadata": {},
   "outputs": [],
   "source": [
    "name_header = ['merchant_id','merchant_name','user_email','report_id','report_date_local','amount','status','bank_name'\n",
    "               ,'payment_date_local','bank_account_owner_name','bank_account_number','swap']"
   ]
  },
  {
   "cell_type": "markdown",
   "metadata": {},
   "source": [
    "### 2022"
   ]
  },
  {
   "cell_type": "markdown",
   "metadata": {},
   "source": [
    "#### MAYO"
   ]
  },
  {
   "cell_type": "code",
   "execution_count": 3,
   "metadata": {},
   "outputs": [],
   "source": [
    "# TRADICIONAL\n",
    "trad_files_csv_2022_may = glob.glob(r'G:\\My Drive\\3.-Settlement\\5.-HISTORICO FILES PAGOS\\01. TRADICIONAL\\2022\\05. MAY\\QUERIES\\*.csv', recursive=False)\n",
    "# trad_files_txt_2021_apr = glob.glob(r'G:\\My Drive\\Settlement\\5.-HISTORICO FILES PAGOS\\2021\\04. APRIL\\QUERIES\\*.txt', recursive=False)\n",
    "# FAST PAYMENTS\n",
    "fp_files_csv_2022_may = glob.glob(r'G:\\My Drive\\3.-Settlement\\5.-HISTORICO FILES PAGOS\\02. FAST PAYMENTS\\2022\\05. MAYO\\QUERIES\\*.csv', recursive=False)"
   ]
  },
  {
   "cell_type": "code",
   "execution_count": 4,
   "metadata": {},
   "outputs": [],
   "source": [
    "disp_files_csv_2022_may = pd.concat([pd.read_csv(f,dtype={'bank_account_number':object,'report_id':object})\n",
    "                            .assign(file_name=os.path.basename(f)) for f in trad_files_csv_2022_may])\n",
    "disp_files_csv_2022_may['date_query'] = disp_files_csv_2022_may[\"file_name\"].str[-14:-4]\n",
    "disp_files_csv_2022_may['date_query']= pd.to_datetime(disp_files_csv_2022_may['date_query'])"
   ]
  },
  {
   "cell_type": "code",
   "execution_count": 5,
   "metadata": {},
   "outputs": [],
   "source": [
    "fp_disp_files_csv_2022_may = pd.concat([pd.read_csv(f,dtype={'bank_account_number':object,'report_id':object})\n",
    "                            .assign(file_name=os.path.basename(f)) for f in fp_files_csv_2022_may])\n",
    "fp_disp_files_csv_2022_may['date_query'] = fp_disp_files_csv_2022_may[\"file_name\"].str[-14:-4]\n",
    "fp_disp_files_csv_2022_may['date_query']= pd.to_datetime(fp_disp_files_csv_2022_may['date_query']) "
   ]
  },
  {
   "cell_type": "markdown",
   "metadata": {},
   "source": [
    "#### ABRIL"
   ]
  },
  {
   "cell_type": "code",
   "execution_count": 6,
   "metadata": {},
   "outputs": [],
   "source": [
    "# TRADICIONAL\n",
    "trad_files_csv_2022_apr = glob.glob(r'G:\\My Drive\\3.-Settlement\\5.-HISTORICO FILES PAGOS\\01. TRADICIONAL\\2022\\04. APRIL\\QUERIES\\*.csv', recursive=False)\n",
    "# trad_files_txt_2021_apr = glob.glob(r'G:\\My Drive\\Settlement\\5.-HISTORICO FILES PAGOS\\2021\\04. APRIL\\QUERIES\\*.txt', recursive=False)\n",
    "# FAST PAYMENTS\n",
    "fp_files_csv_2022_apr = glob.glob(r'G:\\My Drive\\3.-Settlement\\5.-HISTORICO FILES PAGOS\\02. FAST PAYMENTS\\2022\\04. ABRIL\\QUERIES\\*.csv', recursive=False)"
   ]
  },
  {
   "cell_type": "code",
   "execution_count": 7,
   "metadata": {},
   "outputs": [],
   "source": [
    "disp_files_csv_2022_apr = pd.concat([pd.read_csv(f,dtype={'bank_account_number':object,'report_id':object})\n",
    "                            .assign(file_name=os.path.basename(f)) for f in trad_files_csv_2022_apr])\n",
    "disp_files_csv_2022_apr['date_query'] = disp_files_csv_2022_apr[\"file_name\"].str[-14:-4]\n",
    "disp_files_csv_2022_apr['date_query']= pd.to_datetime(disp_files_csv_2022_apr['date_query'])"
   ]
  },
  {
   "cell_type": "code",
   "execution_count": 8,
   "metadata": {},
   "outputs": [],
   "source": [
    "fp_disp_files_csv_2022_apr = pd.concat([pd.read_csv(f,dtype={'bank_account_number':object,'report_id':object})\n",
    "                            .assign(file_name=os.path.basename(f)) for f in fp_files_csv_2022_apr])\n",
    "fp_disp_files_csv_2022_apr['date_query'] = fp_disp_files_csv_2022_apr[\"file_name\"].str[-14:-4]\n",
    "fp_disp_files_csv_2022_apr['date_query']= pd.to_datetime(fp_disp_files_csv_2022_apr['date_query']) "
   ]
  },
  {
   "cell_type": "markdown",
   "metadata": {},
   "source": [
    "#### MARZO"
   ]
  },
  {
   "cell_type": "code",
   "execution_count": 9,
   "metadata": {},
   "outputs": [],
   "source": [
    "# TRADICIONAL\n",
    "trad_files_csv_2022_mar = glob.glob(r'G:\\My Drive\\3.-Settlement\\5.-HISTORICO FILES PAGOS\\01. TRADICIONAL\\2022\\03. MARCH\\QUERIES\\*.csv', recursive=False)\n",
    "# trad_files_txt_2021_apr = glob.glob(r'G:\\My Drive\\Settlement\\5.-HISTORICO FILES PAGOS\\2021\\04. APRIL\\QUERIES\\*.txt', recursive=False)\n",
    "# FAST PAYMENTS\n",
    "fp_files_csv_2022_mar = glob.glob(r'G:\\My Drive\\3.-Settlement\\5.-HISTORICO FILES PAGOS\\02. FAST PAYMENTS\\2022\\03. MARZO\\QUERIES\\*.csv', recursive=False)"
   ]
  },
  {
   "cell_type": "code",
   "execution_count": 10,
   "metadata": {},
   "outputs": [],
   "source": [
    "disp_files_csv_2022_mar = pd.concat([pd.read_csv(f,dtype={'bank_account_number':object,'report_id':object})\n",
    "                            .assign(file_name=os.path.basename(f)) for f in trad_files_csv_2022_mar])\n",
    "disp_files_csv_2022_mar['date_query'] = disp_files_csv_2022_mar[\"file_name\"].str[-14:-4]\n",
    "disp_files_csv_2022_mar['date_query']= pd.to_datetime(disp_files_csv_2022_mar['date_query'])"
   ]
  },
  {
   "cell_type": "code",
   "execution_count": 11,
   "metadata": {},
   "outputs": [],
   "source": [
    "fp_disp_files_csv_2022_mar = pd.concat([pd.read_csv(f,dtype={'bank_account_number':object,'report_id':object})\n",
    "                            .assign(file_name=os.path.basename(f)) for f in fp_files_csv_2022_mar])\n",
    "fp_disp_files_csv_2022_mar['date_query'] = fp_disp_files_csv_2022_mar[\"file_name\"].str[-14:-4]\n",
    "fp_disp_files_csv_2022_mar['date_query']= pd.to_datetime(fp_disp_files_csv_2022_mar['date_query']) "
   ]
  },
  {
   "cell_type": "markdown",
   "metadata": {},
   "source": [
    "#### FEBRERO"
   ]
  },
  {
   "cell_type": "code",
   "execution_count": null,
   "metadata": {},
   "outputs": [],
   "source": [
    "# TRADICIONAL\n",
    "trad_files_csv_2022_feb = glob.glob(r'G:\\My Drive\\3.-Settlement\\5.-HISTORICO FILES PAGOS\\01. TRADICIONAL\\2022\\02. FEBRUARY\\QUERIES\\*.csv', recursive=False)\n",
    "# trad_files_txt_2021_apr = glob.glob(r'G:\\My Drive\\Settlement\\5.-HISTORICO FILES PAGOS\\2021\\04. APRIL\\QUERIES\\*.txt', recursive=False)\n",
    "# FAST PAYMENTS\n",
    "fp_files_csv_2022_feb = glob.glob(r'G:\\My Drive\\3.-Settlement\\5.-HISTORICO FILES PAGOS\\02. FAST PAYMENTS\\2022\\02. FEBRERO\\QUERIES\\*.csv', recursive=False)"
   ]
  },
  {
   "cell_type": "code",
   "execution_count": null,
   "metadata": {},
   "outputs": [],
   "source": [
    "disp_files_csv_2022_feb = pd.concat([pd.read_csv(f,dtype={'bank_account_number':object,'report_id':object})\n",
    "                            .assign(file_name=os.path.basename(f)) for f in trad_files_csv_2022_feb])\n",
    "disp_files_csv_2022_feb['date_query'] = disp_files_csv_2022_feb[\"file_name\"].str[-14:-4]\n",
    "disp_files_csv_2022_feb['date_query']= pd.to_datetime(disp_files_csv_2022_feb['date_query'])"
   ]
  },
  {
   "cell_type": "code",
   "execution_count": null,
   "metadata": {},
   "outputs": [],
   "source": [
    "fp_disp_files_csv_2022_feb = pd.concat([pd.read_csv(f,dtype={'bank_account_number':object,'report_id':object})\n",
    "                            .assign(file_name=os.path.basename(f)) for f in fp_files_csv_2022_feb])\n",
    "fp_disp_files_csv_2022_feb['date_query'] = fp_disp_files_csv_2022_feb[\"file_name\"].str[-14:-4]\n",
    "fp_disp_files_csv_2022_feb['date_query']= pd.to_datetime(fp_disp_files_csv_2022_feb['date_query']) "
   ]
  },
  {
   "cell_type": "markdown",
   "metadata": {},
   "source": [
    "#### ENERO "
   ]
  },
  {
   "cell_type": "code",
   "execution_count": null,
   "metadata": {},
   "outputs": [],
   "source": [
    "# TRADICIONAL\n",
    "trad_files_csv_2022_jan = glob.glob(r'G:\\My Drive\\3.-Settlement\\5.-HISTORICO FILES PAGOS\\01. TRADICIONAL\\2022\\01. JANUARY\\QUERIES\\*.csv', recursive=False)\n",
    "# trad_files_txt_2021_apr = glob.glob(r'G:\\My Drive\\Settlement\\5.-HISTORICO FILES PAGOS\\2021\\04. APRIL\\QUERIES\\*.txt', recursive=False)\n",
    "# FAST PAYMENTS\n",
    "fp_files_csv_2022_jan = glob.glob(r'G:\\My Drive\\3.-Settlement\\5.-HISTORICO FILES PAGOS\\02. FAST PAYMENTS\\2022\\01. ENERO\\QUERIES\\*.csv', recursive=False)"
   ]
  },
  {
   "cell_type": "code",
   "execution_count": null,
   "metadata": {},
   "outputs": [],
   "source": [
    "disp_files_csv_2022_jan = pd.concat([pd.read_csv(f,dtype={'bank_account_number':object,'report_id':object})\n",
    "                            .assign(file_name=os.path.basename(f)) for f in trad_files_csv_2022_jan])\n",
    "disp_files_csv_2022_jan['date_query'] = disp_files_csv_2022_jan[\"file_name\"].str[-14:-4]\n",
    "disp_files_csv_2022_jan['date_query']= pd.to_datetime(disp_files_csv_2022_jan['date_query'])"
   ]
  },
  {
   "cell_type": "code",
   "execution_count": null,
   "metadata": {},
   "outputs": [],
   "source": [
    "fp_disp_files_csv_2022_jan = pd.concat([pd.read_csv(f,dtype={'bank_account_number':object,'report_id':object})\n",
    "                            .assign(file_name=os.path.basename(f)) for f in fp_files_csv_2022_jan])\n",
    "fp_disp_files_csv_2022_jan['date_query'] = fp_disp_files_csv_2022_jan[\"file_name\"].str[-14:-4]\n",
    "fp_disp_files_csv_2022_jan['date_query']= pd.to_datetime(fp_disp_files_csv_2022_jan['date_query']) "
   ]
  },
  {
   "cell_type": "markdown",
   "metadata": {},
   "source": [
    "### 2021"
   ]
  },
  {
   "cell_type": "markdown",
   "metadata": {},
   "source": [
    "#### DICIEMBRE"
   ]
  },
  {
   "cell_type": "code",
   "execution_count": null,
   "metadata": {},
   "outputs": [],
   "source": [
    "# TRADICIONAL\n",
    "trad_files_csv_2021_dec = glob.glob(r'G:\\My Drive\\3.-Settlement\\5.-HISTORICO FILES PAGOS\\01. TRADICIONAL\\2021\\12. DECEMBER\\QUERIES\\*.csv', recursive=False)\n",
    "# trad_files_txt_2021_apr = glob.glob(r'G:\\My Drive\\Settlement\\5.-HISTORICO FILES PAGOS\\2021\\04. APRIL\\QUERIES\\*.txt', recursive=False)\n",
    "# FAST PAYMENTS\n",
    "fp_files_csv_2021_dec = glob.glob(r'G:\\My Drive\\3.-Settlement\\5.-HISTORICO FILES PAGOS\\02. FAST PAYMENTS\\2021\\12. DICIEMBRE\\QUERIES\\*.csv', recursive=False)"
   ]
  },
  {
   "cell_type": "code",
   "execution_count": null,
   "metadata": {},
   "outputs": [],
   "source": [
    "disp_files_csv_2021_dec = pd.concat([pd.read_csv(f,dtype={'bank_account_number':object,'report_id':object})\n",
    "                            .assign(file_name=os.path.basename(f)) for f in trad_files_csv_2021_dec])\n",
    "disp_files_csv_2021_dec['date_query'] = disp_files_csv_2021_dec[\"file_name\"].str[-14:-4]\n",
    "disp_files_csv_2021_dec['date_query']= pd.to_datetime(disp_files_csv_2021_dec['date_query'])"
   ]
  },
  {
   "cell_type": "code",
   "execution_count": null,
   "metadata": {},
   "outputs": [],
   "source": [
    "fp_disp_files_csv_2021_dec = pd.concat([pd.read_csv(f,dtype={'bank_account_number':object,'report_id':object})\n",
    "                            .assign(file_name=os.path.basename(f)) for f in fp_files_csv_2021_dec])\n",
    "fp_disp_files_csv_2021_dec['date_query'] = fp_disp_files_csv_2021_dec[\"file_name\"].str[-14:-4]\n",
    "fp_disp_files_csv_2021_dec['date_query']= pd.to_datetime(fp_disp_files_csv_2021_dec['date_query']) "
   ]
  },
  {
   "cell_type": "markdown",
   "metadata": {},
   "source": [
    "### ALL FILES"
   ]
  },
  {
   "cell_type": "code",
   "execution_count": 12,
   "metadata": {},
   "outputs": [
    {
     "data": {
      "text/html": [
       "<div>\n",
       "<style scoped>\n",
       "    .dataframe tbody tr th:only-of-type {\n",
       "        vertical-align: middle;\n",
       "    }\n",
       "\n",
       "    .dataframe tbody tr th {\n",
       "        vertical-align: top;\n",
       "    }\n",
       "\n",
       "    .dataframe thead th {\n",
       "        text-align: right;\n",
       "    }\n",
       "</style>\n",
       "<table border=\"1\" class=\"dataframe\">\n",
       "  <thead>\n",
       "    <tr style=\"text-align: right;\">\n",
       "      <th></th>\n",
       "      <th>merchant_id</th>\n",
       "      <th>merchant_name</th>\n",
       "      <th>user_email</th>\n",
       "      <th>report_id</th>\n",
       "      <th>report_date_local</th>\n",
       "      <th>amount</th>\n",
       "      <th>bank_name</th>\n",
       "      <th>payment_date_local</th>\n",
       "      <th>bank_account_owner_name</th>\n",
       "      <th>bank_account_number</th>\n",
       "      <th>batch_created_date</th>\n",
       "      <th>swap</th>\n",
       "      <th>file_name</th>\n",
       "      <th>disbursement_method</th>\n",
       "      <th>date_query</th>\n",
       "    </tr>\n",
       "  </thead>\n",
       "  <tbody>\n",
       "    <tr>\n",
       "      <th>52408</th>\n",
       "      <td>aa6be4a8-e90c-46fe-83b3-b33f9cf827b8</td>\n",
       "      <td>BE SKIN</td>\n",
       "      <td>beskin.spa@gmail.com</td>\n",
       "      <td>222G5BF2R</td>\n",
       "      <td>2022-03-01 00:00:00</td>\n",
       "      <td>3,689.22</td>\n",
       "      <td>HSBC México, S.A.</td>\n",
       "      <td>2022-03-01 15:35:07</td>\n",
       "      <td>Carol Diaz Jaime</td>\n",
       "      <td>'021180064477722319</td>\n",
       "      <td>2022-03-01 08:13:04</td>\n",
       "      <td>Carol Diaz Jaime,,3689.22,021180064477722319,C...</td>\n",
       "      <td>SWAP 2022-03-01.csv</td>\n",
       "      <td>BLANK</td>\n",
       "      <td>2022-03-01</td>\n",
       "    </tr>\n",
       "    <tr>\n",
       "      <th>54461</th>\n",
       "      <td>b107ed8d-4187-4a8b-9a35-06426223b256</td>\n",
       "      <td>Regio Gas</td>\n",
       "      <td>sergio.garcia071790@gmail.com</td>\n",
       "      <td>222GSR86P</td>\n",
       "      <td>2022-03-01 00:00:00</td>\n",
       "      <td>6.00</td>\n",
       "      <td>Opciones Empresariales del Noreste, S.A. de C....</td>\n",
       "      <td>2022-03-01 15:47:03</td>\n",
       "      <td>Sergio Garcia Castillo</td>\n",
       "      <td>'659802020000193517</td>\n",
       "      <td>2022-03-01 08:13:22</td>\n",
       "      <td>Sergio Garcia Castillo,,6.00,65980202000019351...</td>\n",
       "      <td>SWAP 2022-03-01.csv</td>\n",
       "      <td>BLANK</td>\n",
       "      <td>2022-03-01</td>\n",
       "    </tr>\n",
       "    <tr>\n",
       "      <th>53540</th>\n",
       "      <td>ae07992d-960c-43b3-9845-d14e05b2aea3</td>\n",
       "      <td>Clínica Dental Del Norte</td>\n",
       "      <td>jreyesmendieta@hotmail.com</td>\n",
       "      <td>222HR59K5</td>\n",
       "      <td>2022-03-01 00:00:00</td>\n",
       "      <td>1,054.06</td>\n",
       "      <td>BANAMEX</td>\n",
       "      <td>2022-03-01 15:11:17</td>\n",
       "      <td>José Reyes Mendieta Valencia</td>\n",
       "      <td>'002180700667091573</td>\n",
       "      <td>2022-03-01 08:13:14</td>\n",
       "      <td>José Reyes Mendieta Valencia,,1054.06,00218070...</td>\n",
       "      <td>SWAP 2022-03-01.csv</td>\n",
       "      <td>BLANK</td>\n",
       "      <td>2022-03-01</td>\n",
       "    </tr>\n",
       "    <tr>\n",
       "      <th>8864</th>\n",
       "      <td>1ce152e9-b5f8-4afa-91e2-dc07efd20460</td>\n",
       "      <td>Rosendo Mora Reyes</td>\n",
       "      <td>morarosendo@hotmail.com</td>\n",
       "      <td>222SV5CYJ</td>\n",
       "      <td>2022-03-01 00:00:00</td>\n",
       "      <td>352.15</td>\n",
       "      <td>SANTANDER</td>\n",
       "      <td>2022-03-01 14:53:06</td>\n",
       "      <td>Rosendo Mora Reyes</td>\n",
       "      <td>'014180570117067327</td>\n",
       "      <td>2022-03-01 08:05:41</td>\n",
       "      <td>Rosendo Mora Reyes,,352.15,014180570117067327,...</td>\n",
       "      <td>SWAP 2022-03-01.csv</td>\n",
       "      <td>BLANK</td>\n",
       "      <td>2022-03-01</td>\n",
       "    </tr>\n",
       "    <tr>\n",
       "      <th>76804</th>\n",
       "      <td>f8b835f2-f969-454d-8d0d-6e9124a158d8</td>\n",
       "      <td>GROMEX</td>\n",
       "      <td>zaid_548@outlook.com</td>\n",
       "      <td>223BFYY2G</td>\n",
       "      <td>2022-03-01 00:00:00</td>\n",
       "      <td>113.07</td>\n",
       "      <td>Banco Azteca, S.A.</td>\n",
       "      <td>2022-03-01 15:04:18</td>\n",
       "      <td>Jorge Diaz Valencia</td>\n",
       "      <td>'127180013372917747</td>\n",
       "      <td>2022-03-01 08:16:48</td>\n",
       "      <td>Jorge Diaz Valencia,,113.07,127180013372917747...</td>\n",
       "      <td>SWAP 2022-03-01.csv</td>\n",
       "      <td>BLANK</td>\n",
       "      <td>2022-03-01</td>\n",
       "    </tr>\n",
       "  </tbody>\n",
       "</table>\n",
       "</div>"
      ],
      "text/plain": [
       "                                merchant_id             merchant_name  \\\n",
       "52408  aa6be4a8-e90c-46fe-83b3-b33f9cf827b8                   BE SKIN   \n",
       "54461  b107ed8d-4187-4a8b-9a35-06426223b256                 Regio Gas   \n",
       "53540  ae07992d-960c-43b3-9845-d14e05b2aea3  Clínica Dental Del Norte   \n",
       "8864   1ce152e9-b5f8-4afa-91e2-dc07efd20460        Rosendo Mora Reyes   \n",
       "76804  f8b835f2-f969-454d-8d0d-6e9124a158d8                    GROMEX   \n",
       "\n",
       "                          user_email  report_id    report_date_local   amount  \\\n",
       "52408           beskin.spa@gmail.com  222G5BF2R  2022-03-01 00:00:00 3,689.22   \n",
       "54461  sergio.garcia071790@gmail.com  222GSR86P  2022-03-01 00:00:00     6.00   \n",
       "53540     jreyesmendieta@hotmail.com  222HR59K5  2022-03-01 00:00:00 1,054.06   \n",
       "8864         morarosendo@hotmail.com  222SV5CYJ  2022-03-01 00:00:00   352.15   \n",
       "76804           zaid_548@outlook.com  223BFYY2G  2022-03-01 00:00:00   113.07   \n",
       "\n",
       "                                               bank_name   payment_date_local  \\\n",
       "52408                                  HSBC México, S.A.  2022-03-01 15:35:07   \n",
       "54461  Opciones Empresariales del Noreste, S.A. de C....  2022-03-01 15:47:03   \n",
       "53540                                            BANAMEX  2022-03-01 15:11:17   \n",
       "8864                                           SANTANDER  2022-03-01 14:53:06   \n",
       "76804                                 Banco Azteca, S.A.  2022-03-01 15:04:18   \n",
       "\n",
       "            bank_account_owner_name  bank_account_number   batch_created_date  \\\n",
       "52408              Carol Diaz Jaime  '021180064477722319  2022-03-01 08:13:04   \n",
       "54461        Sergio Garcia Castillo  '659802020000193517  2022-03-01 08:13:22   \n",
       "53540  José Reyes Mendieta Valencia  '002180700667091573  2022-03-01 08:13:14   \n",
       "8864             Rosendo Mora Reyes  '014180570117067327  2022-03-01 08:05:41   \n",
       "76804           Jorge Diaz Valencia  '127180013372917747  2022-03-01 08:16:48   \n",
       "\n",
       "                                                    swap            file_name  \\\n",
       "52408  Carol Diaz Jaime,,3689.22,021180064477722319,C...  SWAP 2022-03-01.csv   \n",
       "54461  Sergio Garcia Castillo,,6.00,65980202000019351...  SWAP 2022-03-01.csv   \n",
       "53540  José Reyes Mendieta Valencia,,1054.06,00218070...  SWAP 2022-03-01.csv   \n",
       "8864   Rosendo Mora Reyes,,352.15,014180570117067327,...  SWAP 2022-03-01.csv   \n",
       "76804  Jorge Diaz Valencia,,113.07,127180013372917747...  SWAP 2022-03-01.csv   \n",
       "\n",
       "      disbursement_method date_query  \n",
       "52408               BLANK 2022-03-01  \n",
       "54461               BLANK 2022-03-01  \n",
       "53540               BLANK 2022-03-01  \n",
       "8864                BLANK 2022-03-01  \n",
       "76804               BLANK 2022-03-01  "
      ]
     },
     "execution_count": 12,
     "metadata": {},
     "output_type": "execute_result"
    }
   ],
   "source": [
    "allfiles = pd.concat([disp_files_csv_2022_mar,fp_disp_files_csv_2022_mar,\n",
    "                      disp_files_csv_2022_apr,fp_disp_files_csv_2022_apr,\n",
    "                      disp_files_csv_2022_may,fp_disp_files_csv_2022_may])\n",
    "allfiles.fillna('BLANK',inplace=True)\n",
    "allfiles['date_query']= pd.to_datetime(allfiles['date_query'])\n",
    "allfiles.sort_values(by=['date_query','report_id'],inplace=True)\n",
    "allfiles.drop(['status'],axis=1,inplace=True)\n",
    "allfiles.head()"
   ]
  },
  {
   "cell_type": "code",
   "execution_count": 13,
   "metadata": {},
   "outputs": [
    {
     "data": {
      "text/plain": [
       "(5915962, 15)"
      ]
     },
     "execution_count": 13,
     "metadata": {},
     "output_type": "execute_result"
    }
   ],
   "source": [
    "allfiles.shape"
   ]
  },
  {
   "cell_type": "markdown",
   "metadata": {},
   "source": [
    "### CHECK REPORT_ID"
   ]
  },
  {
   "cell_type": "code",
   "execution_count": 14,
   "metadata": {
    "scrolled": false
   },
   "outputs": [
    {
     "name": "stderr",
     "output_type": "stream",
     "text": [
      "C:\\Users\\Cristian.Aparicio\\AppData\\Local\\Temp\\ipykernel_12376\\1311883956.py:2: SettingWithCopyWarning: \n",
      "A value is trying to be set on a copy of a slice from a DataFrame\n",
      "\n",
      "See the caveats in the documentation: https://pandas.pydata.org/pandas-docs/stable/user_guide/indexing.html#returning-a-view-versus-a-copy\n",
      "  check.sort_values(by=['date_query','report_id'],ascending=False,inplace=True)\n",
      "C:\\Users\\Cristian.Aparicio\\AppData\\Local\\Temp\\ipykernel_12376\\1311883956.py:3: SettingWithCopyWarning: \n",
      "A value is trying to be set on a copy of a slice from a DataFrame\n",
      "\n",
      "See the caveats in the documentation: https://pandas.pydata.org/pandas-docs/stable/user_guide/indexing.html#returning-a-view-versus-a-copy\n",
      "  check.drop_duplicates(subset =\"report_id\", keep = 'first', inplace = True)\n"
     ]
    },
    {
     "data": {
      "text/html": [
       "<div>\n",
       "<style scoped>\n",
       "    .dataframe tbody tr th:only-of-type {\n",
       "        vertical-align: middle;\n",
       "    }\n",
       "\n",
       "    .dataframe tbody tr th {\n",
       "        vertical-align: top;\n",
       "    }\n",
       "\n",
       "    .dataframe thead th {\n",
       "        text-align: right;\n",
       "    }\n",
       "</style>\n",
       "<table border=\"1\" class=\"dataframe\">\n",
       "  <thead>\n",
       "    <tr style=\"text-align: right;\">\n",
       "      <th></th>\n",
       "      <th>merchant_id</th>\n",
       "      <th>merchant_name</th>\n",
       "      <th>user_email</th>\n",
       "      <th>report_id</th>\n",
       "      <th>report_date_local</th>\n",
       "      <th>amount</th>\n",
       "      <th>bank_name</th>\n",
       "      <th>payment_date_local</th>\n",
       "      <th>bank_account_owner_name</th>\n",
       "      <th>bank_account_number</th>\n",
       "      <th>batch_created_date</th>\n",
       "      <th>swap</th>\n",
       "      <th>file_name</th>\n",
       "      <th>disbursement_method</th>\n",
       "      <th>date_query</th>\n",
       "    </tr>\n",
       "  </thead>\n",
       "  <tbody>\n",
       "    <tr>\n",
       "      <th>26716</th>\n",
       "      <td>5359fdb1-442e-4958-97e0-ca45b991f0c5</td>\n",
       "      <td>Rentadora Andres</td>\n",
       "      <td>andres_delfines@hotmail.com</td>\n",
       "      <td>VFQYDKHCJ</td>\n",
       "      <td>2022-04-07 00:00:00</td>\n",
       "      <td>14,086.13</td>\n",
       "      <td>BBVA Bancomer, S.A.</td>\n",
       "      <td>2022-04-07 08:14:02</td>\n",
       "      <td>Andres Manuel Cardenas Cahuich</td>\n",
       "      <td>'012180015711070701</td>\n",
       "      <td>2022-04-07 08:06:43</td>\n",
       "      <td>Andres Manuel Cardenas Cahuich,,14086.13,01218...</td>\n",
       "      <td>SWAP 2022-04-07.csv</td>\n",
       "      <td>SWAP</td>\n",
       "      <td>2022-04-07</td>\n",
       "    </tr>\n",
       "  </tbody>\n",
       "</table>\n",
       "</div>"
      ],
      "text/plain": [
       "                                merchant_id     merchant_name  \\\n",
       "26716  5359fdb1-442e-4958-97e0-ca45b991f0c5  Rentadora Andres   \n",
       "\n",
       "                        user_email  report_id    report_date_local    amount  \\\n",
       "26716  andres_delfines@hotmail.com  VFQYDKHCJ  2022-04-07 00:00:00 14,086.13   \n",
       "\n",
       "                 bank_name   payment_date_local  \\\n",
       "26716  BBVA Bancomer, S.A.  2022-04-07 08:14:02   \n",
       "\n",
       "              bank_account_owner_name  bank_account_number  \\\n",
       "26716  Andres Manuel Cardenas Cahuich  '012180015711070701   \n",
       "\n",
       "        batch_created_date                                               swap  \\\n",
       "26716  2022-04-07 08:06:43  Andres Manuel Cardenas Cahuich,,14086.13,01218...   \n",
       "\n",
       "                 file_name disbursement_method date_query  \n",
       "26716  SWAP 2022-04-07.csv                SWAP 2022-04-07  "
      ]
     },
     "execution_count": 14,
     "metadata": {},
     "output_type": "execute_result"
    }
   ],
   "source": [
    "check = allfiles[(allfiles['report_id'].isin(['VFQYDKHCJ']))]\n",
    "check.sort_values(by=['date_query','report_id'],ascending=False,inplace=True)\n",
    "check.drop_duplicates(subset =\"report_id\", keep = 'first', inplace = True)\n",
    "check"
   ]
  },
  {
   "cell_type": "code",
   "execution_count": 15,
   "metadata": {},
   "outputs": [
    {
     "data": {
      "text/plain": [
       "(1, 15)"
      ]
     },
     "execution_count": 15,
     "metadata": {},
     "output_type": "execute_result"
    }
   ],
   "source": [
    "check.shape"
   ]
  },
  {
   "cell_type": "code",
   "execution_count": null,
   "metadata": {},
   "outputs": [],
   "source": [
    "check.to_csv(r'C:\\Users\\Cristian.Aparicio\\Downloads\\Dispersiones_Enero_Abril_2022.csv',index=False)"
   ]
  },
  {
   "cell_type": "code",
   "execution_count": null,
   "metadata": {},
   "outputs": [],
   "source": []
  }
 ],
 "metadata": {
  "kernelspec": {
   "display_name": "Python 3 (ipykernel)",
   "language": "python",
   "name": "python3"
  },
  "language_info": {
   "codemirror_mode": {
    "name": "ipython",
    "version": 3
   },
   "file_extension": ".py",
   "mimetype": "text/x-python",
   "name": "python",
   "nbconvert_exporter": "python",
   "pygments_lexer": "ipython3",
   "version": "3.9.13"
  }
 },
 "nbformat": 4,
 "nbformat_minor": 4
}
