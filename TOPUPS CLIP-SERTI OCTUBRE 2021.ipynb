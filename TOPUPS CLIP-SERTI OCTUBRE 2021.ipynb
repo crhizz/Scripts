{
 "cells": [
  {
   "cell_type": "code",
   "execution_count": null,
   "metadata": {},
   "outputs": [],
   "source": [
    "import pandas as pd\n",
    "import numpy as np\n",
    "from openpyxl import load_workbook\n",
    "import glob\n",
    "import os\n",
    "pd.options.display.float_format = '{:,.2f}'.format\n",
    "import json\n",
    "import csv"
   ]
  },
  {
   "cell_type": "markdown",
   "metadata": {},
   "source": [
    "### SERTI (EXTRAIDO EN EXCEL)"
   ]
  },
  {
   "cell_type": "code",
   "execution_count": null,
   "metadata": {},
   "outputs": [],
   "source": [
    "serti_files = glob.glob(r'G:\\My Drive\\RESPALDO-PC\\TOPUPS\\2021\\10. OCTUBRE\\SERTI\\*.csv',recursive=False)\n",
    "serti_files\n"
   ]
  },
  {
   "cell_type": "code",
   "execution_count": null,
   "metadata": {},
   "outputs": [],
   "source": [
    "serti = pd.concat([pd.read_csv(f,dtype={'bin':object,'panTerminacion':object,'claveRechazo':object,'phone':object\n",
    "                                        ,'transactionId':object,'importe':float})\n",
    "                   .assign(file_name=os.path.basename(f)) for f in serti_files])                     \n",
    "serti['last4_phone_serti'] = serti['phone'].str[-4:]\n",
    "serti['serti_date'] = serti['date'].str[:10]\n",
    "serti['serti_date'] = pd.to_datetime(serti['serti_date'])\n",
    "serti.sort_values(by=['date'],inplace=True)\n",
    "serti['INDEX_TOTAL'] = (serti['transactionId'].astype(str).replace(' ', '',regex=True) + '_'\n",
    "                       + serti['last4_phone_serti'].astype(str).replace(' ', '',regex=True) + '_'\n",
    "                       + serti['panTerminacion'].astype(str).replace(' ', '',regex=True) + '_'\n",
    "                       + serti['importe'].astype(str).replace(' ', '',regex=True))\n",
    "serti.reset_index(inplace=True)\n",
    "serti.head()"
   ]
  },
  {
   "cell_type": "code",
   "execution_count": null,
   "metadata": {},
   "outputs": [],
   "source": [
    "serti.dtypes"
   ]
  },
  {
   "cell_type": "code",
   "execution_count": null,
   "metadata": {},
   "outputs": [],
   "source": [
    "duplicates_serti = serti[serti.duplicated(['transactionId'] , keep=False)]\n",
    "duplicates_serti.head()"
   ]
  },
  {
   "cell_type": "code",
   "execution_count": null,
   "metadata": {},
   "outputs": [],
   "source": [
    "duplicates_serti.shape"
   ]
  },
  {
   "cell_type": "code",
   "execution_count": null,
   "metadata": {},
   "outputs": [],
   "source": [
    "serti.drop_duplicates(subset='INDEX_TOTAL', keep='first', inplace=True)"
   ]
  },
  {
   "cell_type": "code",
   "execution_count": null,
   "metadata": {},
   "outputs": [],
   "source": [
    "serti.shape"
   ]
  },
  {
   "cell_type": "code",
   "execution_count": null,
   "metadata": {},
   "outputs": [],
   "source": [
    "serti.dtypes"
   ]
  },
  {
   "cell_type": "markdown",
   "metadata": {},
   "source": [
    "### DB PRODUCTO"
   ]
  },
  {
   "cell_type": "code",
   "execution_count": null,
   "metadata": {},
   "outputs": [],
   "source": [
    "producto_files_1 = pd.read_csv(r'G:\\My Drive\\RESPALDO-PC\\TOPUPS\\2021\\10. OCTUBRE\\DB\\TOPUPS DB FACTURA 2021.csv',\n",
    "                              dtype={'clip_external_tracking_id':object,'phone_number':object,'last4':object,'amount':float,\n",
    "                                     'status_code':object})\n",
    "# producto_files_2 = pd.read_csv(r'G:\\My Drive\\RESPALDO-PC\\TOPUPS\\2021\\11. NOVIEMBRE\\DB\\TOPUPS NOVIEMBRE 2021.csv',\n",
    "#                               dtype={'clip_external_tracking_id':object,'phone_number':object,'last4':object,'amount':float,\n",
    "#                                      'status_code':object})\n"
   ]
  },
  {
   "cell_type": "code",
   "execution_count": null,
   "metadata": {},
   "outputs": [],
   "source": [
    "# topups_db = pd.concat([pd.read_csv(f,dtype={'clip_external_tracking_id':object,'phone_number':object,\n",
    "#                                             'last4':object,'amount':float,'status_code':object})])\n",
    "topups_db = pd.concat([producto_files_1])\n",
    "topups_db['clip_external_tracking_id'].fillna('sin_order_id_db',inplace=True)\n",
    "topups_db['created_at'] = pd.to_datetime(topups_db['created_at'])\n",
    "topups_db['updated_at'] = pd.to_datetime(topups_db['updated_at'])\n",
    "topups_db['last4_phone'] = topups_db['phone_number'].str[-4:]\n",
    "topups_db['INDEX_TOTAL'] = (topups_db['clip_external_tracking_id'].astype(str).replace(' ', '',regex=True) + '_'\n",
    "                           + topups_db['last4_phone'].astype(str).replace(' ', '',regex=True) + '_'\n",
    "                           + topups_db['last4'].astype(str).replace(' ', '',regex=True) + '_'\n",
    "                           + topups_db['amount'].astype(str).replace(' ', '',regex=True))\n",
    "topups_db.head()"
   ]
  },
  {
   "cell_type": "code",
   "execution_count": null,
   "metadata": {},
   "outputs": [],
   "source": [
    "duplicates = topups_db[topups_db.duplicated(['clip_external_tracking_id'], keep=False)]\n",
    "duplicates.head()"
   ]
  },
  {
   "cell_type": "code",
   "execution_count": null,
   "metadata": {},
   "outputs": [],
   "source": [
    "duplicates.shape"
   ]
  },
  {
   "cell_type": "code",
   "execution_count": null,
   "metadata": {},
   "outputs": [],
   "source": [
    "duplicates['clip_external_tracking_id'].unique()"
   ]
  },
  {
   "cell_type": "code",
   "execution_count": null,
   "metadata": {},
   "outputs": [],
   "source": [
    "topups_db.shape"
   ]
  },
  {
   "cell_type": "code",
   "execution_count": null,
   "metadata": {},
   "outputs": [],
   "source": [
    "topups_db.dtypes"
   ]
  },
  {
   "cell_type": "markdown",
   "metadata": {},
   "source": [
    "### PIVOT DB"
   ]
  },
  {
   "cell_type": "code",
   "execution_count": null,
   "metadata": {},
   "outputs": [],
   "source": [
    "pivot_db = pd.pivot_table(topups_db,index=['updated_at']\n",
    "                            ,columns=['status_code']\n",
    "                            ,values=['amount','clip_external_tracking_id']\n",
    "                            ,aggfunc={'amount':np.sum,\n",
    "                                     'clip_external_tracking_id':len},margins=True).reset_index()\n",
    "pivot_db.fillna(0,inplace=True)\n",
    "pivot_db.head()"
   ]
  },
  {
   "cell_type": "code",
   "execution_count": null,
   "metadata": {},
   "outputs": [],
   "source": [
    "pivot_db.shape"
   ]
  },
  {
   "cell_type": "markdown",
   "metadata": {},
   "source": [
    "### DB VS SERTI"
   ]
  },
  {
   "cell_type": "code",
   "execution_count": null,
   "metadata": {},
   "outputs": [],
   "source": [
    "cruce_1 = topups_db.merge(serti[['INDEX_TOTAL','transactionId','panTerminacion','last4_phone_serti','serti_date','importe'\n",
    "                                 ,'aprobada','carrier']]\n",
    "                      ,on='INDEX_TOTAL',how='left')\n",
    "cruce_1['aprobada'].fillna('Not_found',inplace=True)\n",
    "cruce_1['transactionId'].fillna('Not_found',inplace=True)\n",
    "cruce_1.head()"
   ]
  },
  {
   "cell_type": "code",
   "execution_count": null,
   "metadata": {},
   "outputs": [],
   "source": [
    "cruce_1.shape"
   ]
  },
  {
   "cell_type": "markdown",
   "metadata": {},
   "source": [
    "### STATUS 1 ONLY"
   ]
  },
  {
   "cell_type": "code",
   "execution_count": null,
   "metadata": {},
   "outputs": [],
   "source": [
    "cruce_1_status_1 = cruce_1[(cruce_1['status_code'] == '1')]\n",
    "cruce_1_status_1['importe'].fillna(0,inplace=True)\n",
    "cruce_1_status_1.head()"
   ]
  },
  {
   "cell_type": "code",
   "execution_count": null,
   "metadata": {},
   "outputs": [],
   "source": [
    "cruce_1_status_1.shape"
   ]
  },
  {
   "cell_type": "code",
   "execution_count": null,
   "metadata": {},
   "outputs": [],
   "source": [
    "duplicates_cruce_1_status_1 = cruce_1_status_1[cruce_1_status_1.duplicated(['INDEX_TOTAL'] , keep=False)]\n",
    "duplicates_cruce_1_status_1.head()"
   ]
  },
  {
   "cell_type": "code",
   "execution_count": null,
   "metadata": {},
   "outputs": [],
   "source": [
    "duplicates_cruce_1_status_1.shape"
   ]
  },
  {
   "cell_type": "code",
   "execution_count": null,
   "metadata": {},
   "outputs": [],
   "source": [
    "cruce_1_final = cruce_1_status_1[(cruce_1_status_1['transactionId'] != 'Not_found')]\n",
    "cruce_1_final.head()"
   ]
  },
  {
   "cell_type": "code",
   "execution_count": null,
   "metadata": {},
   "outputs": [],
   "source": [
    "cruce_1_final.shape"
   ]
  },
  {
   "cell_type": "code",
   "execution_count": null,
   "metadata": {},
   "outputs": [],
   "source": [
    "na_cruce_1_final = cruce_1_status_1[(cruce_1_status_1['transactionId'] == 'Not_found')]\n",
    "na_cruce_1_final.head()"
   ]
  },
  {
   "cell_type": "code",
   "execution_count": null,
   "metadata": {},
   "outputs": [],
   "source": [
    "na_cruce_1_final.shape"
   ]
  },
  {
   "cell_type": "code",
   "execution_count": null,
   "metadata": {},
   "outputs": [],
   "source": [
    "cruce_1_status_1.columns"
   ]
  },
  {
   "cell_type": "markdown",
   "metadata": {},
   "source": [
    "### PIVOT STATUS 1 ONLY"
   ]
  },
  {
   "cell_type": "code",
   "execution_count": null,
   "metadata": {},
   "outputs": [],
   "source": [
    "pivot_status_1 = pd.pivot_table(cruce_1_status_1,index=['updated_at']\n",
    "                            ,columns=['aprobada']\n",
    "                            ,values=['importe','amount','transactionId','clip_external_tracking_id']\n",
    "                            ,aggfunc={'importe':np.sum,\n",
    "                                     'amount':np.sum,\n",
    "                                     'transactionId':len,\n",
    "                                     'clip_external_tracking_id':len},margins=True).reset_index()\n",
    "pivot_status_1.fillna(0,inplace=True)\n",
    "pivot_status_1.head()"
   ]
  },
  {
   "cell_type": "code",
   "execution_count": null,
   "metadata": {},
   "outputs": [],
   "source": [
    "pivot_status_1.shape"
   ]
  },
  {
   "cell_type": "markdown",
   "metadata": {},
   "source": [
    "# EXCEL "
   ]
  },
  {
   "cell_type": "code",
   "execution_count": null,
   "metadata": {},
   "outputs": [],
   "source": [
    "writer = pd.ExcelWriter('CLIP-SERTI TOPUPS OCTUBRE 2021.xlsx', engine='openpyxl', options={'encoding':'utf-8'})\n",
    "pivot_db.to_excel(writer, sheet_name='RESUMEN DB')\n",
    "pivot_status_1.to_excel(writer, sheet_name='RESUMEN')\n",
    "cruce_1_status_1.to_excel(writer, sheet_name='DETALLE COMPLETO',index=False)\n",
    "cruce_1_final.to_excel(writer, sheet_name='FOUND',index=False)\n",
    "na_cruce_1_final.to_excel(writer, sheet_name='NOT FOUND',index=False)\n",
    "duplicates_cruce_1_status_1.to_excel(writer, sheet_name='DUPLICADOS_INDEX_TOTAL',index=False)\n",
    "writer.save()\n",
    "writer.close()"
   ]
  },
  {
   "cell_type": "code",
   "execution_count": null,
   "metadata": {},
   "outputs": [],
   "source": []
  }
 ],
 "metadata": {
  "kernelspec": {
   "display_name": "Python 3",
   "language": "python",
   "name": "python3"
  },
  "language_info": {
   "codemirror_mode": {
    "name": "ipython",
    "version": 3
   },
   "file_extension": ".py",
   "mimetype": "text/x-python",
   "name": "python",
   "nbconvert_exporter": "python",
   "pygments_lexer": "ipython3",
   "version": "3.7.6"
  }
 },
 "nbformat": 4,
 "nbformat_minor": 4
}
