{
 "cells": [
  {
   "cell_type": "code",
   "execution_count": 1,
   "metadata": {},
   "outputs": [
    {
     "data": {
      "text/plain": [
       "datetime.timedelta(days=1)"
      ]
     },
     "execution_count": 1,
     "metadata": {},
     "output_type": "execute_result"
    }
   ],
   "source": [
    "import pandas as pd\n",
    "import numpy as np\n",
    "from openpyxl import load_workbook\n",
    "import glob\n",
    "import os\n",
    "import datetime\n",
    "pd.options.display.float_format = '{:,.2f}'.format\n",
    "datetime.timedelta(days=1)\n",
    "datetime.timedelta(1)"
   ]
  },
  {
   "cell_type": "markdown",
   "metadata": {},
   "source": [
    "# SETTLEMENT"
   ]
  },
  {
   "cell_type": "code",
   "execution_count": 2,
   "metadata": {},
   "outputs": [],
   "source": [
    "start_date = '2022-08-31'\n",
    "final_date = '2022-08-31'"
   ]
  },
  {
   "cell_type": "code",
   "execution_count": 3,
   "metadata": {},
   "outputs": [
    {
     "data": {
      "text/plain": [
       "['C:\\\\Users\\\\Cristian.Aparicio\\\\Documents\\\\DISPERSIONES\\\\2022\\\\08. AGOSTO\\\\QUERIES\\\\SETTLEMENT 2022-07-30.csv',\n",
       " 'C:\\\\Users\\\\Cristian.Aparicio\\\\Documents\\\\DISPERSIONES\\\\2022\\\\08. AGOSTO\\\\QUERIES\\\\SETTLEMENT 2022-07-31.csv',\n",
       " 'C:\\\\Users\\\\Cristian.Aparicio\\\\Documents\\\\DISPERSIONES\\\\2022\\\\08. AGOSTO\\\\QUERIES\\\\SETTLEMENT 2022-08-01.csv',\n",
       " 'C:\\\\Users\\\\Cristian.Aparicio\\\\Documents\\\\DISPERSIONES\\\\2022\\\\08. AGOSTO\\\\QUERIES\\\\SETTLEMENT 2022-08-02.csv',\n",
       " 'C:\\\\Users\\\\Cristian.Aparicio\\\\Documents\\\\DISPERSIONES\\\\2022\\\\08. AGOSTO\\\\QUERIES\\\\SETTLEMENT 2022-08-03.csv',\n",
       " 'C:\\\\Users\\\\Cristian.Aparicio\\\\Documents\\\\DISPERSIONES\\\\2022\\\\08. AGOSTO\\\\QUERIES\\\\SETTLEMENT 2022-08-04.csv',\n",
       " 'C:\\\\Users\\\\Cristian.Aparicio\\\\Documents\\\\DISPERSIONES\\\\2022\\\\08. AGOSTO\\\\QUERIES\\\\SETTLEMENT 2022-08-05.csv',\n",
       " 'C:\\\\Users\\\\Cristian.Aparicio\\\\Documents\\\\DISPERSIONES\\\\2022\\\\08. AGOSTO\\\\QUERIES\\\\SETTLEMENT 2022-08-06.csv',\n",
       " 'C:\\\\Users\\\\Cristian.Aparicio\\\\Documents\\\\DISPERSIONES\\\\2022\\\\08. AGOSTO\\\\QUERIES\\\\SETTLEMENT 2022-08-07.csv',\n",
       " 'C:\\\\Users\\\\Cristian.Aparicio\\\\Documents\\\\DISPERSIONES\\\\2022\\\\08. AGOSTO\\\\QUERIES\\\\SETTLEMENT 2022-08-08.csv',\n",
       " 'C:\\\\Users\\\\Cristian.Aparicio\\\\Documents\\\\DISPERSIONES\\\\2022\\\\08. AGOSTO\\\\QUERIES\\\\SETTLEMENT 2022-08-09.csv',\n",
       " 'C:\\\\Users\\\\Cristian.Aparicio\\\\Documents\\\\DISPERSIONES\\\\2022\\\\08. AGOSTO\\\\QUERIES\\\\SETTLEMENT 2022-08-10.csv',\n",
       " 'C:\\\\Users\\\\Cristian.Aparicio\\\\Documents\\\\DISPERSIONES\\\\2022\\\\08. AGOSTO\\\\QUERIES\\\\SETTLEMENT 2022-08-11.csv',\n",
       " 'C:\\\\Users\\\\Cristian.Aparicio\\\\Documents\\\\DISPERSIONES\\\\2022\\\\08. AGOSTO\\\\QUERIES\\\\SETTLEMENT 2022-08-12.csv',\n",
       " 'C:\\\\Users\\\\Cristian.Aparicio\\\\Documents\\\\DISPERSIONES\\\\2022\\\\08. AGOSTO\\\\QUERIES\\\\SETTLEMENT 2022-08-13.csv',\n",
       " 'C:\\\\Users\\\\Cristian.Aparicio\\\\Documents\\\\DISPERSIONES\\\\2022\\\\08. AGOSTO\\\\QUERIES\\\\SETTLEMENT 2022-08-14.csv',\n",
       " 'C:\\\\Users\\\\Cristian.Aparicio\\\\Documents\\\\DISPERSIONES\\\\2022\\\\08. AGOSTO\\\\QUERIES\\\\SETTLEMENT 2022-08-15.csv',\n",
       " 'C:\\\\Users\\\\Cristian.Aparicio\\\\Documents\\\\DISPERSIONES\\\\2022\\\\08. AGOSTO\\\\QUERIES\\\\SETTLEMENT 2022-08-16.csv',\n",
       " 'C:\\\\Users\\\\Cristian.Aparicio\\\\Documents\\\\DISPERSIONES\\\\2022\\\\08. AGOSTO\\\\QUERIES\\\\SETTLEMENT 2022-08-17.csv',\n",
       " 'C:\\\\Users\\\\Cristian.Aparicio\\\\Documents\\\\DISPERSIONES\\\\2022\\\\08. AGOSTO\\\\QUERIES\\\\SETTLEMENT 2022-08-18.csv',\n",
       " 'C:\\\\Users\\\\Cristian.Aparicio\\\\Documents\\\\DISPERSIONES\\\\2022\\\\08. AGOSTO\\\\QUERIES\\\\SETTLEMENT 2022-08-19.csv',\n",
       " 'C:\\\\Users\\\\Cristian.Aparicio\\\\Documents\\\\DISPERSIONES\\\\2022\\\\08. AGOSTO\\\\QUERIES\\\\SETTLEMENT 2022-08-20.csv',\n",
       " 'C:\\\\Users\\\\Cristian.Aparicio\\\\Documents\\\\DISPERSIONES\\\\2022\\\\08. AGOSTO\\\\QUERIES\\\\SETTLEMENT 2022-08-21.csv',\n",
       " 'C:\\\\Users\\\\Cristian.Aparicio\\\\Documents\\\\DISPERSIONES\\\\2022\\\\08. AGOSTO\\\\QUERIES\\\\SETTLEMENT 2022-08-22.csv',\n",
       " 'C:\\\\Users\\\\Cristian.Aparicio\\\\Documents\\\\DISPERSIONES\\\\2022\\\\08. AGOSTO\\\\QUERIES\\\\SETTLEMENT 2022-08-23.csv',\n",
       " 'C:\\\\Users\\\\Cristian.Aparicio\\\\Documents\\\\DISPERSIONES\\\\2022\\\\08. AGOSTO\\\\QUERIES\\\\SETTLEMENT 2022-08-24.csv',\n",
       " 'C:\\\\Users\\\\Cristian.Aparicio\\\\Documents\\\\DISPERSIONES\\\\2022\\\\08. AGOSTO\\\\QUERIES\\\\SETTLEMENT 2022-08-25.csv',\n",
       " 'C:\\\\Users\\\\Cristian.Aparicio\\\\Documents\\\\DISPERSIONES\\\\2022\\\\08. AGOSTO\\\\QUERIES\\\\SETTLEMENT 2022-08-26.csv',\n",
       " 'C:\\\\Users\\\\Cristian.Aparicio\\\\Documents\\\\DISPERSIONES\\\\2022\\\\08. AGOSTO\\\\QUERIES\\\\SETTLEMENT 2022-08-27.csv',\n",
       " 'C:\\\\Users\\\\Cristian.Aparicio\\\\Documents\\\\DISPERSIONES\\\\2022\\\\08. AGOSTO\\\\QUERIES\\\\SETTLEMENT 2022-08-28.csv',\n",
       " 'C:\\\\Users\\\\Cristian.Aparicio\\\\Documents\\\\DISPERSIONES\\\\2022\\\\08. AGOSTO\\\\QUERIES\\\\SETTLEMENT 2022-08-29.csv',\n",
       " 'C:\\\\Users\\\\Cristian.Aparicio\\\\Documents\\\\DISPERSIONES\\\\2022\\\\08. AGOSTO\\\\QUERIES\\\\SETTLEMENT 2022-08-30.csv',\n",
       " 'C:\\\\Users\\\\Cristian.Aparicio\\\\Documents\\\\DISPERSIONES\\\\2022\\\\08. AGOSTO\\\\QUERIES\\\\SETTLEMENT 2022-08-31.csv']"
      ]
     },
     "execution_count": 3,
     "metadata": {},
     "output_type": "execute_result"
    }
   ],
   "source": [
    "allfiles_settled = glob.glob(r'C:\\Users\\Cristian.Aparicio\\Documents\\DISPERSIONES\\2022\\08. AGOSTO\\QUERIES\\*.csv', recursive=False)\n",
    "allfiles_settled"
   ]
  },
  {
   "cell_type": "code",
   "execution_count": 4,
   "metadata": {},
   "outputs": [
    {
     "name": "stderr",
     "output_type": "stream",
     "text": [
      "C:\\Users\\Cristian.Aparicio\\AppData\\Local\\Temp\\ipykernel_17580\\1803293925.py:1: DtypeWarning: Columns (18) have mixed types. Specify dtype option on import or set low_memory=False.\n",
      "  settled = pd.concat([pd.read_csv(f).assign(file_name=os.path.basename(f)) for f in allfiles_settled])\n",
      "C:\\Users\\Cristian.Aparicio\\AppData\\Local\\Temp\\ipykernel_17580\\1803293925.py:1: DtypeWarning: Columns (18) have mixed types. Specify dtype option on import or set low_memory=False.\n",
      "  settled = pd.concat([pd.read_csv(f).assign(file_name=os.path.basename(f)) for f in allfiles_settled])\n",
      "C:\\Users\\Cristian.Aparicio\\AppData\\Local\\Temp\\ipykernel_17580\\1803293925.py:1: DtypeWarning: Columns (18) have mixed types. Specify dtype option on import or set low_memory=False.\n",
      "  settled = pd.concat([pd.read_csv(f).assign(file_name=os.path.basename(f)) for f in allfiles_settled])\n",
      "C:\\Users\\Cristian.Aparicio\\AppData\\Local\\Temp\\ipykernel_17580\\1803293925.py:1: DtypeWarning: Columns (18) have mixed types. Specify dtype option on import or set low_memory=False.\n",
      "  settled = pd.concat([pd.read_csv(f).assign(file_name=os.path.basename(f)) for f in allfiles_settled])\n",
      "C:\\Users\\Cristian.Aparicio\\AppData\\Local\\Temp\\ipykernel_17580\\1803293925.py:1: DtypeWarning: Columns (18) have mixed types. Specify dtype option on import or set low_memory=False.\n",
      "  settled = pd.concat([pd.read_csv(f).assign(file_name=os.path.basename(f)) for f in allfiles_settled])\n",
      "C:\\Users\\Cristian.Aparicio\\AppData\\Local\\Temp\\ipykernel_17580\\1803293925.py:1: DtypeWarning: Columns (18) have mixed types. Specify dtype option on import or set low_memory=False.\n",
      "  settled = pd.concat([pd.read_csv(f).assign(file_name=os.path.basename(f)) for f in allfiles_settled])\n",
      "C:\\Users\\Cristian.Aparicio\\AppData\\Local\\Temp\\ipykernel_17580\\1803293925.py:1: DtypeWarning: Columns (18) have mixed types. Specify dtype option on import or set low_memory=False.\n",
      "  settled = pd.concat([pd.read_csv(f).assign(file_name=os.path.basename(f)) for f in allfiles_settled])\n",
      "C:\\Users\\Cristian.Aparicio\\AppData\\Local\\Temp\\ipykernel_17580\\1803293925.py:1: DtypeWarning: Columns (18) have mixed types. Specify dtype option on import or set low_memory=False.\n",
      "  settled = pd.concat([pd.read_csv(f).assign(file_name=os.path.basename(f)) for f in allfiles_settled])\n",
      "C:\\Users\\Cristian.Aparicio\\AppData\\Local\\Temp\\ipykernel_17580\\1803293925.py:1: DtypeWarning: Columns (18) have mixed types. Specify dtype option on import or set low_memory=False.\n",
      "  settled = pd.concat([pd.read_csv(f).assign(file_name=os.path.basename(f)) for f in allfiles_settled])\n",
      "C:\\Users\\Cristian.Aparicio\\AppData\\Local\\Temp\\ipykernel_17580\\1803293925.py:1: DtypeWarning: Columns (18) have mixed types. Specify dtype option on import or set low_memory=False.\n",
      "  settled = pd.concat([pd.read_csv(f).assign(file_name=os.path.basename(f)) for f in allfiles_settled])\n",
      "C:\\Users\\Cristian.Aparicio\\AppData\\Local\\Temp\\ipykernel_17580\\1803293925.py:1: DtypeWarning: Columns (18) have mixed types. Specify dtype option on import or set low_memory=False.\n",
      "  settled = pd.concat([pd.read_csv(f).assign(file_name=os.path.basename(f)) for f in allfiles_settled])\n"
     ]
    }
   ],
   "source": [
    "settled = pd.concat([pd.read_csv(f).assign(file_name=os.path.basename(f)) for f in allfiles_settled])\n",
    "settled['Date_file'] = settled[\"file_name\"].str[-14:-4]\n",
    "settled['Date_file']= pd.to_datetime(settled['Date_file'])\n",
    "settled['report_date_local']= pd.to_datetime(settled['report_date_local'])"
   ]
  },
  {
   "cell_type": "code",
   "execution_count": 5,
   "metadata": {},
   "outputs": [
    {
     "data": {
      "text/html": [
       "<div>\n",
       "<style scoped>\n",
       "    .dataframe tbody tr th:only-of-type {\n",
       "        vertical-align: middle;\n",
       "    }\n",
       "\n",
       "    .dataframe tbody tr th {\n",
       "        vertical-align: top;\n",
       "    }\n",
       "\n",
       "    .dataframe thead th {\n",
       "        text-align: right;\n",
       "    }\n",
       "</style>\n",
       "<table border=\"1\" class=\"dataframe\">\n",
       "  <thead>\n",
       "    <tr style=\"text-align: right;\">\n",
       "      <th></th>\n",
       "      <th>merchant_id</th>\n",
       "      <th>merchant_name</th>\n",
       "      <th>user_email</th>\n",
       "      <th>report_id</th>\n",
       "      <th>report_date_local</th>\n",
       "      <th>total_transactions</th>\n",
       "      <th>total_fees_charged</th>\n",
       "      <th>total_taxes</th>\n",
       "      <th>applied_fees_benefits</th>\n",
       "      <th>applied_taxes_benefits</th>\n",
       "      <th>...</th>\n",
       "      <th>total_retained</th>\n",
       "      <th>tipopago</th>\n",
       "      <th>total_due</th>\n",
       "      <th>type</th>\n",
       "      <th>created_date</th>\n",
       "      <th>created_time</th>\n",
       "      <th>updated_date</th>\n",
       "      <th>updated_time</th>\n",
       "      <th>file_name</th>\n",
       "      <th>Date_file</th>\n",
       "    </tr>\n",
       "  </thead>\n",
       "  <tbody>\n",
       "    <tr>\n",
       "      <th>0</th>\n",
       "      <td>fb7b00dc-34fd-4315-a707-f2f2cc0af11c</td>\n",
       "      <td>CASA MANCINAS</td>\n",
       "      <td>luis.albertomancinas@gmail.com</td>\n",
       "      <td>6MJRGK858</td>\n",
       "      <td>2022-07-30</td>\n",
       "      <td>15,550.00</td>\n",
       "      <td>559.80</td>\n",
       "      <td>89.56</td>\n",
       "      <td>0.00</td>\n",
       "      <td>0.00</td>\n",
       "      <td>...</td>\n",
       "      <td>0.00</td>\n",
       "      <td>NaN</td>\n",
       "      <td>14,900.64</td>\n",
       "      <td>DAILY</td>\n",
       "      <td>2022-07-30</td>\n",
       "      <td>02:00:34</td>\n",
       "      <td>2022-07-30</td>\n",
       "      <td>02:00:34</td>\n",
       "      <td>SETTLEMENT 2022-07-30.csv</td>\n",
       "      <td>2022-07-30</td>\n",
       "    </tr>\n",
       "    <tr>\n",
       "      <th>1</th>\n",
       "      <td>a09a033a-d358-4edb-8075-6d62f8448349</td>\n",
       "      <td>LA LUPANA</td>\n",
       "      <td>guadalu7@yahoo.com.mx</td>\n",
       "      <td>HQH9P39WX</td>\n",
       "      <td>2022-07-30</td>\n",
       "      <td>60.00</td>\n",
       "      <td>2.16</td>\n",
       "      <td>0.35</td>\n",
       "      <td>0.00</td>\n",
       "      <td>0.00</td>\n",
       "      <td>...</td>\n",
       "      <td>0.00</td>\n",
       "      <td>NaN</td>\n",
       "      <td>57.49</td>\n",
       "      <td>DAILY</td>\n",
       "      <td>2022-07-30</td>\n",
       "      <td>02:00:34</td>\n",
       "      <td>2022-07-30</td>\n",
       "      <td>02:00:34</td>\n",
       "      <td>SETTLEMENT 2022-07-30.csv</td>\n",
       "      <td>2022-07-30</td>\n",
       "    </tr>\n",
       "    <tr>\n",
       "      <th>2</th>\n",
       "      <td>98cfac80-6c04-4478-a933-c54c3efaff52</td>\n",
       "      <td>ABARROTES ABY</td>\n",
       "      <td>samuel041267@gmail.com</td>\n",
       "      <td>JCRY77N79</td>\n",
       "      <td>2022-07-30</td>\n",
       "      <td>210.00</td>\n",
       "      <td>7.56</td>\n",
       "      <td>1.21</td>\n",
       "      <td>0.00</td>\n",
       "      <td>0.00</td>\n",
       "      <td>...</td>\n",
       "      <td>0.00</td>\n",
       "      <td>NaN</td>\n",
       "      <td>201.23</td>\n",
       "      <td>DAILY</td>\n",
       "      <td>2022-07-30</td>\n",
       "      <td>02:00:34</td>\n",
       "      <td>2022-07-30</td>\n",
       "      <td>02:00:34</td>\n",
       "      <td>SETTLEMENT 2022-07-30.csv</td>\n",
       "      <td>2022-07-30</td>\n",
       "    </tr>\n",
       "    <tr>\n",
       "      <th>3</th>\n",
       "      <td>c62a160d-4af9-431b-8244-70ccb4ebb0a5</td>\n",
       "      <td>PISOS LAMINADOS Y MARMOL VR</td>\n",
       "      <td>dorisjanirmaro@gmail.com</td>\n",
       "      <td>MGH595J2N</td>\n",
       "      <td>2022-07-30</td>\n",
       "      <td>784.50</td>\n",
       "      <td>28.24</td>\n",
       "      <td>4.51</td>\n",
       "      <td>0.00</td>\n",
       "      <td>0.00</td>\n",
       "      <td>...</td>\n",
       "      <td>0.00</td>\n",
       "      <td>NaN</td>\n",
       "      <td>751.75</td>\n",
       "      <td>DAILY</td>\n",
       "      <td>2022-07-30</td>\n",
       "      <td>02:00:34</td>\n",
       "      <td>2022-07-30</td>\n",
       "      <td>02:00:34</td>\n",
       "      <td>SETTLEMENT 2022-07-30.csv</td>\n",
       "      <td>2022-07-30</td>\n",
       "    </tr>\n",
       "    <tr>\n",
       "      <th>4</th>\n",
       "      <td>4687b447-e395-4b0e-8d24-509ec18cf7a6</td>\n",
       "      <td>GORDITAS MI TIA ROSI</td>\n",
       "      <td>pam9057.s@gmail.com</td>\n",
       "      <td>Z95VT9Z6D</td>\n",
       "      <td>2022-07-30</td>\n",
       "      <td>427.50</td>\n",
       "      <td>15.39</td>\n",
       "      <td>2.46</td>\n",
       "      <td>0.00</td>\n",
       "      <td>0.00</td>\n",
       "      <td>...</td>\n",
       "      <td>0.00</td>\n",
       "      <td>NaN</td>\n",
       "      <td>409.65</td>\n",
       "      <td>DAILY</td>\n",
       "      <td>2022-07-30</td>\n",
       "      <td>02:00:34</td>\n",
       "      <td>2022-07-30</td>\n",
       "      <td>02:00:34</td>\n",
       "      <td>SETTLEMENT 2022-07-30.csv</td>\n",
       "      <td>2022-07-30</td>\n",
       "    </tr>\n",
       "  </tbody>\n",
       "</table>\n",
       "<p>5 rows × 27 columns</p>\n",
       "</div>"
      ],
      "text/plain": [
       "                            merchant_id                merchant_name  \\\n",
       "0  fb7b00dc-34fd-4315-a707-f2f2cc0af11c                CASA MANCINAS   \n",
       "1  a09a033a-d358-4edb-8075-6d62f8448349                    LA LUPANA   \n",
       "2  98cfac80-6c04-4478-a933-c54c3efaff52                ABARROTES ABY   \n",
       "3  c62a160d-4af9-431b-8244-70ccb4ebb0a5  PISOS LAMINADOS Y MARMOL VR   \n",
       "4  4687b447-e395-4b0e-8d24-509ec18cf7a6         GORDITAS MI TIA ROSI   \n",
       "\n",
       "                       user_email  report_id report_date_local  \\\n",
       "0  luis.albertomancinas@gmail.com  6MJRGK858        2022-07-30   \n",
       "1           guadalu7@yahoo.com.mx  HQH9P39WX        2022-07-30   \n",
       "2          samuel041267@gmail.com  JCRY77N79        2022-07-30   \n",
       "3        dorisjanirmaro@gmail.com  MGH595J2N        2022-07-30   \n",
       "4             pam9057.s@gmail.com  Z95VT9Z6D        2022-07-30   \n",
       "\n",
       "   total_transactions  total_fees_charged  total_taxes  applied_fees_benefits  \\\n",
       "0           15,550.00              559.80        89.56                   0.00   \n",
       "1               60.00                2.16         0.35                   0.00   \n",
       "2              210.00                7.56         1.21                   0.00   \n",
       "3              784.50               28.24         4.51                   0.00   \n",
       "4              427.50               15.39         2.46                   0.00   \n",
       "\n",
       "   applied_taxes_benefits  ...  total_retained  tipopago  total_due   type  \\\n",
       "0                    0.00  ...            0.00       NaN  14,900.64  DAILY   \n",
       "1                    0.00  ...            0.00       NaN      57.49  DAILY   \n",
       "2                    0.00  ...            0.00       NaN     201.23  DAILY   \n",
       "3                    0.00  ...            0.00       NaN     751.75  DAILY   \n",
       "4                    0.00  ...            0.00       NaN     409.65  DAILY   \n",
       "\n",
       "   created_date  created_time  updated_date  updated_time  \\\n",
       "0    2022-07-30      02:00:34    2022-07-30      02:00:34   \n",
       "1    2022-07-30      02:00:34    2022-07-30      02:00:34   \n",
       "2    2022-07-30      02:00:34    2022-07-30      02:00:34   \n",
       "3    2022-07-30      02:00:34    2022-07-30      02:00:34   \n",
       "4    2022-07-30      02:00:34    2022-07-30      02:00:34   \n",
       "\n",
       "                   file_name  Date_file  \n",
       "0  SETTLEMENT 2022-07-30.csv 2022-07-30  \n",
       "1  SETTLEMENT 2022-07-30.csv 2022-07-30  \n",
       "2  SETTLEMENT 2022-07-30.csv 2022-07-30  \n",
       "3  SETTLEMENT 2022-07-30.csv 2022-07-30  \n",
       "4  SETTLEMENT 2022-07-30.csv 2022-07-30  \n",
       "\n",
       "[5 rows x 27 columns]"
      ]
     },
     "execution_count": 5,
     "metadata": {},
     "output_type": "execute_result"
    }
   ],
   "source": [
    "settled.reset_index(inplace=True)\n",
    "settled.drop(['index'],axis=1,inplace=True)\n",
    "settled.head()"
   ]
  },
  {
   "cell_type": "code",
   "execution_count": 6,
   "metadata": {},
   "outputs": [
    {
     "data": {
      "text/plain": [
       "(2965710, 27)"
      ]
     },
     "execution_count": 6,
     "metadata": {},
     "output_type": "execute_result"
    }
   ],
   "source": [
    "settled.shape"
   ]
  },
  {
   "cell_type": "markdown",
   "metadata": {},
   "source": [
    "### CURRENT MONTH"
   ]
  },
  {
   "cell_type": "code",
   "execution_count": 7,
   "metadata": {},
   "outputs": [
    {
     "data": {
      "text/html": [
       "<div>\n",
       "<style scoped>\n",
       "    .dataframe tbody tr th:only-of-type {\n",
       "        vertical-align: middle;\n",
       "    }\n",
       "\n",
       "    .dataframe tbody tr th {\n",
       "        vertical-align: top;\n",
       "    }\n",
       "\n",
       "    .dataframe thead th {\n",
       "        text-align: right;\n",
       "    }\n",
       "</style>\n",
       "<table border=\"1\" class=\"dataframe\">\n",
       "  <thead>\n",
       "    <tr style=\"text-align: right;\">\n",
       "      <th></th>\n",
       "      <th>merchant_id</th>\n",
       "      <th>merchant_name</th>\n",
       "      <th>user_email</th>\n",
       "      <th>report_id</th>\n",
       "      <th>report_date_local</th>\n",
       "      <th>total_transactions</th>\n",
       "      <th>total_fees_charged</th>\n",
       "      <th>total_taxes</th>\n",
       "      <th>applied_fees_benefits</th>\n",
       "      <th>applied_taxes_benefits</th>\n",
       "      <th>...</th>\n",
       "      <th>total_retained</th>\n",
       "      <th>tipopago</th>\n",
       "      <th>total_due</th>\n",
       "      <th>type</th>\n",
       "      <th>created_date</th>\n",
       "      <th>created_time</th>\n",
       "      <th>updated_date</th>\n",
       "      <th>updated_time</th>\n",
       "      <th>file_name</th>\n",
       "      <th>Date_file</th>\n",
       "    </tr>\n",
       "  </thead>\n",
       "  <tbody>\n",
       "    <tr>\n",
       "      <th>2875694</th>\n",
       "      <td>98cfac80-6c04-4478-a933-c54c3efaff52</td>\n",
       "      <td>ABARROTES ABY</td>\n",
       "      <td>samuel041267@gmail.com</td>\n",
       "      <td>494ZK88YK</td>\n",
       "      <td>2022-08-31</td>\n",
       "      <td>268.00</td>\n",
       "      <td>9.65</td>\n",
       "      <td>1.54</td>\n",
       "      <td>0.00</td>\n",
       "      <td>0.00</td>\n",
       "      <td>...</td>\n",
       "      <td>0.00</td>\n",
       "      <td>NaN</td>\n",
       "      <td>256.81</td>\n",
       "      <td>DAILY</td>\n",
       "      <td>2022-08-31</td>\n",
       "      <td>02:00:30</td>\n",
       "      <td>2022-08-31</td>\n",
       "      <td>02:00:30</td>\n",
       "      <td>SETTLEMENT 2022-08-31.csv</td>\n",
       "      <td>2022-08-31</td>\n",
       "    </tr>\n",
       "    <tr>\n",
       "      <th>2875695</th>\n",
       "      <td>82d8f28f-82ce-48fb-ad7d-1a05633356a5</td>\n",
       "      <td>TRAGONA FONDA</td>\n",
       "      <td>j_mizael26@hotmail.com</td>\n",
       "      <td>5L3DDCVNX</td>\n",
       "      <td>2022-08-31</td>\n",
       "      <td>196.00</td>\n",
       "      <td>7.06</td>\n",
       "      <td>1.13</td>\n",
       "      <td>0.00</td>\n",
       "      <td>0.00</td>\n",
       "      <td>...</td>\n",
       "      <td>0.00</td>\n",
       "      <td>NaN</td>\n",
       "      <td>187.81</td>\n",
       "      <td>DAILY</td>\n",
       "      <td>2022-08-31</td>\n",
       "      <td>02:00:30</td>\n",
       "      <td>2022-08-31</td>\n",
       "      <td>02:00:30</td>\n",
       "      <td>SETTLEMENT 2022-08-31.csv</td>\n",
       "      <td>2022-08-31</td>\n",
       "    </tr>\n",
       "    <tr>\n",
       "      <th>2875696</th>\n",
       "      <td>8046ed39-33ab-4222-ae2d-02d20bfade5f</td>\n",
       "      <td>ODONTOLOGIA</td>\n",
       "      <td>odontologyhealth8@gmail.com</td>\n",
       "      <td>6FXC2Q59B</td>\n",
       "      <td>2022-08-31</td>\n",
       "      <td>500.00</td>\n",
       "      <td>18.00</td>\n",
       "      <td>2.88</td>\n",
       "      <td>0.00</td>\n",
       "      <td>0.00</td>\n",
       "      <td>...</td>\n",
       "      <td>0.00</td>\n",
       "      <td>NaN</td>\n",
       "      <td>479.12</td>\n",
       "      <td>DAILY</td>\n",
       "      <td>2022-08-31</td>\n",
       "      <td>02:00:30</td>\n",
       "      <td>2022-08-31</td>\n",
       "      <td>02:00:30</td>\n",
       "      <td>SETTLEMENT 2022-08-31.csv</td>\n",
       "      <td>2022-08-31</td>\n",
       "    </tr>\n",
       "    <tr>\n",
       "      <th>2875697</th>\n",
       "      <td>88a522b1-8d67-45fd-8c68-3531a62bdf58</td>\n",
       "      <td>DISTRIBUIDOR AUTORIZADO ROYAL PRESTIGE</td>\n",
       "      <td>estefanylorenz@gmail.com</td>\n",
       "      <td>8KXFS2LGQ</td>\n",
       "      <td>2022-08-31</td>\n",
       "      <td>48,480.00</td>\n",
       "      <td>7,538.65</td>\n",
       "      <td>1,206.18</td>\n",
       "      <td>0.00</td>\n",
       "      <td>0.00</td>\n",
       "      <td>...</td>\n",
       "      <td>0.00</td>\n",
       "      <td>NaN</td>\n",
       "      <td>39,735.17</td>\n",
       "      <td>DAILY</td>\n",
       "      <td>2022-08-31</td>\n",
       "      <td>02:00:30</td>\n",
       "      <td>2022-08-31</td>\n",
       "      <td>02:00:30</td>\n",
       "      <td>SETTLEMENT 2022-08-31.csv</td>\n",
       "      <td>2022-08-31</td>\n",
       "    </tr>\n",
       "    <tr>\n",
       "      <th>2875698</th>\n",
       "      <td>a09a033a-d358-4edb-8075-6d62f8448349</td>\n",
       "      <td>LA LUPANA</td>\n",
       "      <td>guadalu7@yahoo.com.mx</td>\n",
       "      <td>JT2JL7KP6</td>\n",
       "      <td>2022-08-31</td>\n",
       "      <td>235.00</td>\n",
       "      <td>8.46</td>\n",
       "      <td>1.35</td>\n",
       "      <td>0.00</td>\n",
       "      <td>0.00</td>\n",
       "      <td>...</td>\n",
       "      <td>0.00</td>\n",
       "      <td>NaN</td>\n",
       "      <td>225.19</td>\n",
       "      <td>DAILY</td>\n",
       "      <td>2022-08-31</td>\n",
       "      <td>02:00:30</td>\n",
       "      <td>2022-08-31</td>\n",
       "      <td>02:00:30</td>\n",
       "      <td>SETTLEMENT 2022-08-31.csv</td>\n",
       "      <td>2022-08-31</td>\n",
       "    </tr>\n",
       "  </tbody>\n",
       "</table>\n",
       "<p>5 rows × 27 columns</p>\n",
       "</div>"
      ],
      "text/plain": [
       "                                  merchant_id  \\\n",
       "2875694  98cfac80-6c04-4478-a933-c54c3efaff52   \n",
       "2875695  82d8f28f-82ce-48fb-ad7d-1a05633356a5   \n",
       "2875696  8046ed39-33ab-4222-ae2d-02d20bfade5f   \n",
       "2875697  88a522b1-8d67-45fd-8c68-3531a62bdf58   \n",
       "2875698  a09a033a-d358-4edb-8075-6d62f8448349   \n",
       "\n",
       "                                  merchant_name                   user_email  \\\n",
       "2875694                           ABARROTES ABY       samuel041267@gmail.com   \n",
       "2875695                           TRAGONA FONDA       j_mizael26@hotmail.com   \n",
       "2875696                             ODONTOLOGIA  odontologyhealth8@gmail.com   \n",
       "2875697  DISTRIBUIDOR AUTORIZADO ROYAL PRESTIGE     estefanylorenz@gmail.com   \n",
       "2875698                               LA LUPANA        guadalu7@yahoo.com.mx   \n",
       "\n",
       "         report_id report_date_local  total_transactions  total_fees_charged  \\\n",
       "2875694  494ZK88YK        2022-08-31              268.00                9.65   \n",
       "2875695  5L3DDCVNX        2022-08-31              196.00                7.06   \n",
       "2875696  6FXC2Q59B        2022-08-31              500.00               18.00   \n",
       "2875697  8KXFS2LGQ        2022-08-31           48,480.00            7,538.65   \n",
       "2875698  JT2JL7KP6        2022-08-31              235.00                8.46   \n",
       "\n",
       "         total_taxes  applied_fees_benefits  applied_taxes_benefits  ...  \\\n",
       "2875694         1.54                   0.00                    0.00  ...   \n",
       "2875695         1.13                   0.00                    0.00  ...   \n",
       "2875696         2.88                   0.00                    0.00  ...   \n",
       "2875697     1,206.18                   0.00                    0.00  ...   \n",
       "2875698         1.35                   0.00                    0.00  ...   \n",
       "\n",
       "         total_retained  tipopago  total_due   type  created_date  \\\n",
       "2875694            0.00       NaN     256.81  DAILY    2022-08-31   \n",
       "2875695            0.00       NaN     187.81  DAILY    2022-08-31   \n",
       "2875696            0.00       NaN     479.12  DAILY    2022-08-31   \n",
       "2875697            0.00       NaN  39,735.17  DAILY    2022-08-31   \n",
       "2875698            0.00       NaN     225.19  DAILY    2022-08-31   \n",
       "\n",
       "         created_time  updated_date  updated_time                  file_name  \\\n",
       "2875694      02:00:30    2022-08-31      02:00:30  SETTLEMENT 2022-08-31.csv   \n",
       "2875695      02:00:30    2022-08-31      02:00:30  SETTLEMENT 2022-08-31.csv   \n",
       "2875696      02:00:30    2022-08-31      02:00:30  SETTLEMENT 2022-08-31.csv   \n",
       "2875697      02:00:30    2022-08-31      02:00:30  SETTLEMENT 2022-08-31.csv   \n",
       "2875698      02:00:30    2022-08-31      02:00:30  SETTLEMENT 2022-08-31.csv   \n",
       "\n",
       "         Date_file  \n",
       "2875694 2022-08-31  \n",
       "2875695 2022-08-31  \n",
       "2875696 2022-08-31  \n",
       "2875697 2022-08-31  \n",
       "2875698 2022-08-31  \n",
       "\n",
       "[5 rows x 27 columns]"
      ]
     },
     "execution_count": 7,
     "metadata": {},
     "output_type": "execute_result"
    }
   ],
   "source": [
    "settled_current_month = settled[(settled['report_date_local'] >= start_date) & (settled['report_date_local'] <= final_date)]\n",
    "settled_current_month.head()"
   ]
  },
  {
   "cell_type": "code",
   "execution_count": 8,
   "metadata": {},
   "outputs": [
    {
     "data": {
      "text/plain": [
       "(90016, 27)"
      ]
     },
     "execution_count": 8,
     "metadata": {},
     "output_type": "execute_result"
    }
   ],
   "source": [
    "settled_current_month.shape"
   ]
  },
  {
   "cell_type": "code",
   "execution_count": 9,
   "metadata": {},
   "outputs": [
    {
     "data": {
      "text/plain": [
       "merchant_id                              object\n",
       "merchant_name                            object\n",
       "user_email                               object\n",
       "report_id                                object\n",
       "report_date_local                datetime64[ns]\n",
       "total_transactions                      float64\n",
       "total_fees_charged                      float64\n",
       "total_taxes                             float64\n",
       "applied_fees_benefits                   float64\n",
       "applied_taxes_benefits                  float64\n",
       "fee_direct_deposit                      float64\n",
       "taxes_direct_deposit                    float64\n",
       "total_adjustments                       float64\n",
       "total_adjustment_fees_charged           float64\n",
       "total_adjustment_taxes                  float64\n",
       "cobranza                                float64\n",
       "total_released                          float64\n",
       "total_retained                          float64\n",
       "tipopago                                 object\n",
       "total_due                               float64\n",
       "type                                     object\n",
       "created_date                             object\n",
       "created_time                             object\n",
       "updated_date                             object\n",
       "updated_time                             object\n",
       "file_name                                object\n",
       "Date_file                        datetime64[ns]\n",
       "dtype: object"
      ]
     },
     "execution_count": 9,
     "metadata": {},
     "output_type": "execute_result"
    }
   ],
   "source": [
    "settled_current_month.dtypes"
   ]
  },
  {
   "cell_type": "code",
   "execution_count": 10,
   "metadata": {},
   "outputs": [],
   "source": [
    "# def next_date(settled_current_month):\n",
    "#     if settled_current_month['updated_time'] >= '20:00:00':\n",
    "#         return settled_current_month['report_date_local'] + datetime.timedelta(days=1)\n",
    "#     else:\n",
    "#         return settled_current_month['report_date_local']\n",
    "    \n",
    "# settled_current_month['poliza_date'] = settled_current_month.apply(next_date, axis=1)"
   ]
  },
  {
   "cell_type": "code",
   "execution_count": 11,
   "metadata": {},
   "outputs": [],
   "source": [
    "# settled_current_month.head()"
   ]
  },
  {
   "cell_type": "code",
   "execution_count": 12,
   "metadata": {},
   "outputs": [],
   "source": [
    "# settled_current_month.shape"
   ]
  },
  {
   "cell_type": "code",
   "execution_count": 13,
   "metadata": {},
   "outputs": [],
   "source": [
    "# settled_current_month['poliza_date'].unique()"
   ]
  },
  {
   "cell_type": "markdown",
   "metadata": {},
   "source": [
    "### CANCELACIONES"
   ]
  },
  {
   "cell_type": "code",
   "execution_count": 14,
   "metadata": {},
   "outputs": [
    {
     "name": "stderr",
     "output_type": "stream",
     "text": [
      "C:\\Users\\Cristian.Aparicio\\AppData\\Local\\Temp\\ipykernel_17580\\2387200959.py:1: SettingWithCopyWarning: \n",
      "A value is trying to be set on a copy of a slice from a DataFrame.\n",
      "Try using .loc[row_indexer,col_indexer] = value instead\n",
      "\n",
      "See the caveats in the documentation: https://pandas.pydata.org/pandas-docs/stable/user_guide/indexing.html#returning-a-view-versus-a-copy\n",
      "  settled_current_month.loc[(settled_current_month['total_released'] > 0)\n",
      "C:\\Users\\Cristian.Aparicio\\AppData\\Local\\Temp\\ipykernel_17580\\2387200959.py:3: SettingWithCopyWarning: \n",
      "A value is trying to be set on a copy of a slice from a DataFrame\n",
      "\n",
      "See the caveats in the documentation: https://pandas.pydata.org/pandas-docs/stable/user_guide/indexing.html#returning-a-view-versus-a-copy\n",
      "  settled_current_month['canc_1'].fillna(0,inplace=True)\n"
     ]
    }
   ],
   "source": [
    "settled_current_month.loc[(settled_current_month['total_released'] > 0)\n",
    "                          & (settled_current_month['total_adjustments'] < 0),'canc_1'] = settled_current_month['total_adjustments']\n",
    "settled_current_month['canc_1'].fillna(0,inplace=True)"
   ]
  },
  {
   "cell_type": "code",
   "execution_count": 15,
   "metadata": {},
   "outputs": [
    {
     "name": "stderr",
     "output_type": "stream",
     "text": [
      "C:\\Users\\Cristian.Aparicio\\AppData\\Local\\Temp\\ipykernel_17580\\97313772.py:1: SettingWithCopyWarning: \n",
      "A value is trying to be set on a copy of a slice from a DataFrame.\n",
      "Try using .loc[row_indexer,col_indexer] = value instead\n",
      "\n",
      "See the caveats in the documentation: https://pandas.pydata.org/pandas-docs/stable/user_guide/indexing.html#returning-a-view-versus-a-copy\n",
      "  settled_current_month.loc[(settled_current_month['total_released'] > 0)\n",
      "C:\\Users\\Cristian.Aparicio\\AppData\\Local\\Temp\\ipykernel_17580\\97313772.py:3: SettingWithCopyWarning: \n",
      "A value is trying to be set on a copy of a slice from a DataFrame\n",
      "\n",
      "See the caveats in the documentation: https://pandas.pydata.org/pandas-docs/stable/user_guide/indexing.html#returning-a-view-versus-a-copy\n",
      "  settled_current_month['canc_2'].fillna(0,inplace=True)\n"
     ]
    }
   ],
   "source": [
    "settled_current_month.loc[(settled_current_month['total_released'] > 0)\n",
    "                          & (settled_current_month['total_adjustments'] < 0),'canc_2'] = settled_current_month['total_released']\n",
    "settled_current_month['canc_2'].fillna(0,inplace=True)"
   ]
  },
  {
   "cell_type": "code",
   "execution_count": 16,
   "metadata": {},
   "outputs": [
    {
     "name": "stderr",
     "output_type": "stream",
     "text": [
      "C:\\Users\\Cristian.Aparicio\\AppData\\Local\\Temp\\ipykernel_17580\\715271970.py:1: SettingWithCopyWarning: \n",
      "A value is trying to be set on a copy of a slice from a DataFrame.\n",
      "Try using .loc[row_indexer,col_indexer] = value instead\n",
      "\n",
      "See the caveats in the documentation: https://pandas.pydata.org/pandas-docs/stable/user_guide/indexing.html#returning-a-view-versus-a-copy\n",
      "  settled_current_month['cancelaciones'] = (-settled_current_month['canc_1']) - (settled_current_month['canc_2'])\n"
     ]
    },
    {
     "data": {
      "text/html": [
       "<div>\n",
       "<style scoped>\n",
       "    .dataframe tbody tr th:only-of-type {\n",
       "        vertical-align: middle;\n",
       "    }\n",
       "\n",
       "    .dataframe tbody tr th {\n",
       "        vertical-align: top;\n",
       "    }\n",
       "\n",
       "    .dataframe thead th {\n",
       "        text-align: right;\n",
       "    }\n",
       "</style>\n",
       "<table border=\"1\" class=\"dataframe\">\n",
       "  <thead>\n",
       "    <tr style=\"text-align: right;\">\n",
       "      <th></th>\n",
       "      <th>merchant_id</th>\n",
       "      <th>merchant_name</th>\n",
       "      <th>user_email</th>\n",
       "      <th>report_id</th>\n",
       "      <th>report_date_local</th>\n",
       "      <th>total_transactions</th>\n",
       "      <th>total_fees_charged</th>\n",
       "      <th>total_taxes</th>\n",
       "      <th>applied_fees_benefits</th>\n",
       "      <th>applied_taxes_benefits</th>\n",
       "      <th>...</th>\n",
       "      <th>type</th>\n",
       "      <th>created_date</th>\n",
       "      <th>created_time</th>\n",
       "      <th>updated_date</th>\n",
       "      <th>updated_time</th>\n",
       "      <th>file_name</th>\n",
       "      <th>Date_file</th>\n",
       "      <th>canc_1</th>\n",
       "      <th>canc_2</th>\n",
       "      <th>cancelaciones</th>\n",
       "    </tr>\n",
       "  </thead>\n",
       "  <tbody>\n",
       "    <tr>\n",
       "      <th>2875694</th>\n",
       "      <td>98cfac80-6c04-4478-a933-c54c3efaff52</td>\n",
       "      <td>ABARROTES ABY</td>\n",
       "      <td>samuel041267@gmail.com</td>\n",
       "      <td>494ZK88YK</td>\n",
       "      <td>2022-08-31</td>\n",
       "      <td>268.00</td>\n",
       "      <td>9.65</td>\n",
       "      <td>1.54</td>\n",
       "      <td>0.00</td>\n",
       "      <td>0.00</td>\n",
       "      <td>...</td>\n",
       "      <td>DAILY</td>\n",
       "      <td>2022-08-31</td>\n",
       "      <td>02:00:30</td>\n",
       "      <td>2022-08-31</td>\n",
       "      <td>02:00:30</td>\n",
       "      <td>SETTLEMENT 2022-08-31.csv</td>\n",
       "      <td>2022-08-31</td>\n",
       "      <td>0.00</td>\n",
       "      <td>0.00</td>\n",
       "      <td>-0.00</td>\n",
       "    </tr>\n",
       "    <tr>\n",
       "      <th>2875695</th>\n",
       "      <td>82d8f28f-82ce-48fb-ad7d-1a05633356a5</td>\n",
       "      <td>TRAGONA FONDA</td>\n",
       "      <td>j_mizael26@hotmail.com</td>\n",
       "      <td>5L3DDCVNX</td>\n",
       "      <td>2022-08-31</td>\n",
       "      <td>196.00</td>\n",
       "      <td>7.06</td>\n",
       "      <td>1.13</td>\n",
       "      <td>0.00</td>\n",
       "      <td>0.00</td>\n",
       "      <td>...</td>\n",
       "      <td>DAILY</td>\n",
       "      <td>2022-08-31</td>\n",
       "      <td>02:00:30</td>\n",
       "      <td>2022-08-31</td>\n",
       "      <td>02:00:30</td>\n",
       "      <td>SETTLEMENT 2022-08-31.csv</td>\n",
       "      <td>2022-08-31</td>\n",
       "      <td>0.00</td>\n",
       "      <td>0.00</td>\n",
       "      <td>-0.00</td>\n",
       "    </tr>\n",
       "    <tr>\n",
       "      <th>2875696</th>\n",
       "      <td>8046ed39-33ab-4222-ae2d-02d20bfade5f</td>\n",
       "      <td>ODONTOLOGIA</td>\n",
       "      <td>odontologyhealth8@gmail.com</td>\n",
       "      <td>6FXC2Q59B</td>\n",
       "      <td>2022-08-31</td>\n",
       "      <td>500.00</td>\n",
       "      <td>18.00</td>\n",
       "      <td>2.88</td>\n",
       "      <td>0.00</td>\n",
       "      <td>0.00</td>\n",
       "      <td>...</td>\n",
       "      <td>DAILY</td>\n",
       "      <td>2022-08-31</td>\n",
       "      <td>02:00:30</td>\n",
       "      <td>2022-08-31</td>\n",
       "      <td>02:00:30</td>\n",
       "      <td>SETTLEMENT 2022-08-31.csv</td>\n",
       "      <td>2022-08-31</td>\n",
       "      <td>0.00</td>\n",
       "      <td>0.00</td>\n",
       "      <td>-0.00</td>\n",
       "    </tr>\n",
       "    <tr>\n",
       "      <th>2875697</th>\n",
       "      <td>88a522b1-8d67-45fd-8c68-3531a62bdf58</td>\n",
       "      <td>DISTRIBUIDOR AUTORIZADO ROYAL PRESTIGE</td>\n",
       "      <td>estefanylorenz@gmail.com</td>\n",
       "      <td>8KXFS2LGQ</td>\n",
       "      <td>2022-08-31</td>\n",
       "      <td>48,480.00</td>\n",
       "      <td>7,538.65</td>\n",
       "      <td>1,206.18</td>\n",
       "      <td>0.00</td>\n",
       "      <td>0.00</td>\n",
       "      <td>...</td>\n",
       "      <td>DAILY</td>\n",
       "      <td>2022-08-31</td>\n",
       "      <td>02:00:30</td>\n",
       "      <td>2022-08-31</td>\n",
       "      <td>02:00:30</td>\n",
       "      <td>SETTLEMENT 2022-08-31.csv</td>\n",
       "      <td>2022-08-31</td>\n",
       "      <td>0.00</td>\n",
       "      <td>0.00</td>\n",
       "      <td>-0.00</td>\n",
       "    </tr>\n",
       "    <tr>\n",
       "      <th>2875698</th>\n",
       "      <td>a09a033a-d358-4edb-8075-6d62f8448349</td>\n",
       "      <td>LA LUPANA</td>\n",
       "      <td>guadalu7@yahoo.com.mx</td>\n",
       "      <td>JT2JL7KP6</td>\n",
       "      <td>2022-08-31</td>\n",
       "      <td>235.00</td>\n",
       "      <td>8.46</td>\n",
       "      <td>1.35</td>\n",
       "      <td>0.00</td>\n",
       "      <td>0.00</td>\n",
       "      <td>...</td>\n",
       "      <td>DAILY</td>\n",
       "      <td>2022-08-31</td>\n",
       "      <td>02:00:30</td>\n",
       "      <td>2022-08-31</td>\n",
       "      <td>02:00:30</td>\n",
       "      <td>SETTLEMENT 2022-08-31.csv</td>\n",
       "      <td>2022-08-31</td>\n",
       "      <td>0.00</td>\n",
       "      <td>0.00</td>\n",
       "      <td>-0.00</td>\n",
       "    </tr>\n",
       "  </tbody>\n",
       "</table>\n",
       "<p>5 rows × 30 columns</p>\n",
       "</div>"
      ],
      "text/plain": [
       "                                  merchant_id  \\\n",
       "2875694  98cfac80-6c04-4478-a933-c54c3efaff52   \n",
       "2875695  82d8f28f-82ce-48fb-ad7d-1a05633356a5   \n",
       "2875696  8046ed39-33ab-4222-ae2d-02d20bfade5f   \n",
       "2875697  88a522b1-8d67-45fd-8c68-3531a62bdf58   \n",
       "2875698  a09a033a-d358-4edb-8075-6d62f8448349   \n",
       "\n",
       "                                  merchant_name                   user_email  \\\n",
       "2875694                           ABARROTES ABY       samuel041267@gmail.com   \n",
       "2875695                           TRAGONA FONDA       j_mizael26@hotmail.com   \n",
       "2875696                             ODONTOLOGIA  odontologyhealth8@gmail.com   \n",
       "2875697  DISTRIBUIDOR AUTORIZADO ROYAL PRESTIGE     estefanylorenz@gmail.com   \n",
       "2875698                               LA LUPANA        guadalu7@yahoo.com.mx   \n",
       "\n",
       "         report_id report_date_local  total_transactions  total_fees_charged  \\\n",
       "2875694  494ZK88YK        2022-08-31              268.00                9.65   \n",
       "2875695  5L3DDCVNX        2022-08-31              196.00                7.06   \n",
       "2875696  6FXC2Q59B        2022-08-31              500.00               18.00   \n",
       "2875697  8KXFS2LGQ        2022-08-31           48,480.00            7,538.65   \n",
       "2875698  JT2JL7KP6        2022-08-31              235.00                8.46   \n",
       "\n",
       "         total_taxes  applied_fees_benefits  applied_taxes_benefits  ...  \\\n",
       "2875694         1.54                   0.00                    0.00  ...   \n",
       "2875695         1.13                   0.00                    0.00  ...   \n",
       "2875696         2.88                   0.00                    0.00  ...   \n",
       "2875697     1,206.18                   0.00                    0.00  ...   \n",
       "2875698         1.35                   0.00                    0.00  ...   \n",
       "\n",
       "          type  created_date  created_time  updated_date  updated_time  \\\n",
       "2875694  DAILY    2022-08-31      02:00:30    2022-08-31      02:00:30   \n",
       "2875695  DAILY    2022-08-31      02:00:30    2022-08-31      02:00:30   \n",
       "2875696  DAILY    2022-08-31      02:00:30    2022-08-31      02:00:30   \n",
       "2875697  DAILY    2022-08-31      02:00:30    2022-08-31      02:00:30   \n",
       "2875698  DAILY    2022-08-31      02:00:30    2022-08-31      02:00:30   \n",
       "\n",
       "                         file_name  Date_file  canc_1 canc_2  cancelaciones  \n",
       "2875694  SETTLEMENT 2022-08-31.csv 2022-08-31    0.00   0.00          -0.00  \n",
       "2875695  SETTLEMENT 2022-08-31.csv 2022-08-31    0.00   0.00          -0.00  \n",
       "2875696  SETTLEMENT 2022-08-31.csv 2022-08-31    0.00   0.00          -0.00  \n",
       "2875697  SETTLEMENT 2022-08-31.csv 2022-08-31    0.00   0.00          -0.00  \n",
       "2875698  SETTLEMENT 2022-08-31.csv 2022-08-31    0.00   0.00          -0.00  \n",
       "\n",
       "[5 rows x 30 columns]"
      ]
     },
     "execution_count": 16,
     "metadata": {},
     "output_type": "execute_result"
    }
   ],
   "source": [
    "settled_current_month['cancelaciones'] = (-settled_current_month['canc_1']) - (settled_current_month['canc_2'])\n",
    "settled_current_month.head()"
   ]
  },
  {
   "cell_type": "code",
   "execution_count": 17,
   "metadata": {},
   "outputs": [
    {
     "data": {
      "text/plain": [
       "(90016, 30)"
      ]
     },
     "execution_count": 17,
     "metadata": {},
     "output_type": "execute_result"
    }
   ],
   "source": [
    "settled_current_month.shape"
   ]
  },
  {
   "cell_type": "markdown",
   "metadata": {},
   "source": [
    "### TOTAL DUE CALCULADO"
   ]
  },
  {
   "cell_type": "code",
   "execution_count": 18,
   "metadata": {},
   "outputs": [
    {
     "name": "stderr",
     "output_type": "stream",
     "text": [
      "C:\\Users\\Cristian.Aparicio\\AppData\\Local\\Temp\\ipykernel_17580\\4192761883.py:1: SettingWithCopyWarning: \n",
      "A value is trying to be set on a copy of a slice from a DataFrame.\n",
      "Try using .loc[row_indexer,col_indexer] = value instead\n",
      "\n",
      "See the caveats in the documentation: https://pandas.pydata.org/pandas-docs/stable/user_guide/indexing.html#returning-a-view-versus-a-copy\n",
      "  settled_current_month['total_due_calculado'] = (settled_current_month['total_transactions']\n",
      "C:\\Users\\Cristian.Aparicio\\AppData\\Local\\Temp\\ipykernel_17580\\4192761883.py:14: SettingWithCopyWarning: \n",
      "A value is trying to be set on a copy of a slice from a DataFrame.\n",
      "Try using .loc[row_indexer,col_indexer] = value instead\n",
      "\n",
      "See the caveats in the documentation: https://pandas.pydata.org/pandas-docs/stable/user_guide/indexing.html#returning-a-view-versus-a-copy\n",
      "  settled_current_month['diferencias'] = settled_current_month['total_due_calculado'] - settled_current_month['total_due']\n"
     ]
    },
    {
     "data": {
      "text/html": [
       "<div>\n",
       "<style scoped>\n",
       "    .dataframe tbody tr th:only-of-type {\n",
       "        vertical-align: middle;\n",
       "    }\n",
       "\n",
       "    .dataframe tbody tr th {\n",
       "        vertical-align: top;\n",
       "    }\n",
       "\n",
       "    .dataframe thead th {\n",
       "        text-align: right;\n",
       "    }\n",
       "</style>\n",
       "<table border=\"1\" class=\"dataframe\">\n",
       "  <thead>\n",
       "    <tr style=\"text-align: right;\">\n",
       "      <th></th>\n",
       "      <th>merchant_id</th>\n",
       "      <th>merchant_name</th>\n",
       "      <th>user_email</th>\n",
       "      <th>report_id</th>\n",
       "      <th>report_date_local</th>\n",
       "      <th>total_transactions</th>\n",
       "      <th>total_fees_charged</th>\n",
       "      <th>total_taxes</th>\n",
       "      <th>applied_fees_benefits</th>\n",
       "      <th>applied_taxes_benefits</th>\n",
       "      <th>...</th>\n",
       "      <th>created_time</th>\n",
       "      <th>updated_date</th>\n",
       "      <th>updated_time</th>\n",
       "      <th>file_name</th>\n",
       "      <th>Date_file</th>\n",
       "      <th>canc_1</th>\n",
       "      <th>canc_2</th>\n",
       "      <th>cancelaciones</th>\n",
       "      <th>total_due_calculado</th>\n",
       "      <th>diferencias</th>\n",
       "    </tr>\n",
       "  </thead>\n",
       "  <tbody>\n",
       "    <tr>\n",
       "      <th>2875694</th>\n",
       "      <td>98cfac80-6c04-4478-a933-c54c3efaff52</td>\n",
       "      <td>ABARROTES ABY</td>\n",
       "      <td>samuel041267@gmail.com</td>\n",
       "      <td>494ZK88YK</td>\n",
       "      <td>2022-08-31</td>\n",
       "      <td>268.00</td>\n",
       "      <td>9.65</td>\n",
       "      <td>1.54</td>\n",
       "      <td>0.00</td>\n",
       "      <td>0.00</td>\n",
       "      <td>...</td>\n",
       "      <td>02:00:30</td>\n",
       "      <td>2022-08-31</td>\n",
       "      <td>02:00:30</td>\n",
       "      <td>SETTLEMENT 2022-08-31.csv</td>\n",
       "      <td>2022-08-31</td>\n",
       "      <td>0.00</td>\n",
       "      <td>0.00</td>\n",
       "      <td>-0.00</td>\n",
       "      <td>256.81</td>\n",
       "      <td>0.00</td>\n",
       "    </tr>\n",
       "    <tr>\n",
       "      <th>2875695</th>\n",
       "      <td>82d8f28f-82ce-48fb-ad7d-1a05633356a5</td>\n",
       "      <td>TRAGONA FONDA</td>\n",
       "      <td>j_mizael26@hotmail.com</td>\n",
       "      <td>5L3DDCVNX</td>\n",
       "      <td>2022-08-31</td>\n",
       "      <td>196.00</td>\n",
       "      <td>7.06</td>\n",
       "      <td>1.13</td>\n",
       "      <td>0.00</td>\n",
       "      <td>0.00</td>\n",
       "      <td>...</td>\n",
       "      <td>02:00:30</td>\n",
       "      <td>2022-08-31</td>\n",
       "      <td>02:00:30</td>\n",
       "      <td>SETTLEMENT 2022-08-31.csv</td>\n",
       "      <td>2022-08-31</td>\n",
       "      <td>0.00</td>\n",
       "      <td>0.00</td>\n",
       "      <td>-0.00</td>\n",
       "      <td>187.81</td>\n",
       "      <td>0.00</td>\n",
       "    </tr>\n",
       "    <tr>\n",
       "      <th>2875696</th>\n",
       "      <td>8046ed39-33ab-4222-ae2d-02d20bfade5f</td>\n",
       "      <td>ODONTOLOGIA</td>\n",
       "      <td>odontologyhealth8@gmail.com</td>\n",
       "      <td>6FXC2Q59B</td>\n",
       "      <td>2022-08-31</td>\n",
       "      <td>500.00</td>\n",
       "      <td>18.00</td>\n",
       "      <td>2.88</td>\n",
       "      <td>0.00</td>\n",
       "      <td>0.00</td>\n",
       "      <td>...</td>\n",
       "      <td>02:00:30</td>\n",
       "      <td>2022-08-31</td>\n",
       "      <td>02:00:30</td>\n",
       "      <td>SETTLEMENT 2022-08-31.csv</td>\n",
       "      <td>2022-08-31</td>\n",
       "      <td>0.00</td>\n",
       "      <td>0.00</td>\n",
       "      <td>-0.00</td>\n",
       "      <td>479.12</td>\n",
       "      <td>0.00</td>\n",
       "    </tr>\n",
       "    <tr>\n",
       "      <th>2875697</th>\n",
       "      <td>88a522b1-8d67-45fd-8c68-3531a62bdf58</td>\n",
       "      <td>DISTRIBUIDOR AUTORIZADO ROYAL PRESTIGE</td>\n",
       "      <td>estefanylorenz@gmail.com</td>\n",
       "      <td>8KXFS2LGQ</td>\n",
       "      <td>2022-08-31</td>\n",
       "      <td>48,480.00</td>\n",
       "      <td>7,538.65</td>\n",
       "      <td>1,206.18</td>\n",
       "      <td>0.00</td>\n",
       "      <td>0.00</td>\n",
       "      <td>...</td>\n",
       "      <td>02:00:30</td>\n",
       "      <td>2022-08-31</td>\n",
       "      <td>02:00:30</td>\n",
       "      <td>SETTLEMENT 2022-08-31.csv</td>\n",
       "      <td>2022-08-31</td>\n",
       "      <td>0.00</td>\n",
       "      <td>0.00</td>\n",
       "      <td>-0.00</td>\n",
       "      <td>39,735.17</td>\n",
       "      <td>0.00</td>\n",
       "    </tr>\n",
       "    <tr>\n",
       "      <th>2875698</th>\n",
       "      <td>a09a033a-d358-4edb-8075-6d62f8448349</td>\n",
       "      <td>LA LUPANA</td>\n",
       "      <td>guadalu7@yahoo.com.mx</td>\n",
       "      <td>JT2JL7KP6</td>\n",
       "      <td>2022-08-31</td>\n",
       "      <td>235.00</td>\n",
       "      <td>8.46</td>\n",
       "      <td>1.35</td>\n",
       "      <td>0.00</td>\n",
       "      <td>0.00</td>\n",
       "      <td>...</td>\n",
       "      <td>02:00:30</td>\n",
       "      <td>2022-08-31</td>\n",
       "      <td>02:00:30</td>\n",
       "      <td>SETTLEMENT 2022-08-31.csv</td>\n",
       "      <td>2022-08-31</td>\n",
       "      <td>0.00</td>\n",
       "      <td>0.00</td>\n",
       "      <td>-0.00</td>\n",
       "      <td>225.19</td>\n",
       "      <td>0.00</td>\n",
       "    </tr>\n",
       "  </tbody>\n",
       "</table>\n",
       "<p>5 rows × 32 columns</p>\n",
       "</div>"
      ],
      "text/plain": [
       "                                  merchant_id  \\\n",
       "2875694  98cfac80-6c04-4478-a933-c54c3efaff52   \n",
       "2875695  82d8f28f-82ce-48fb-ad7d-1a05633356a5   \n",
       "2875696  8046ed39-33ab-4222-ae2d-02d20bfade5f   \n",
       "2875697  88a522b1-8d67-45fd-8c68-3531a62bdf58   \n",
       "2875698  a09a033a-d358-4edb-8075-6d62f8448349   \n",
       "\n",
       "                                  merchant_name                   user_email  \\\n",
       "2875694                           ABARROTES ABY       samuel041267@gmail.com   \n",
       "2875695                           TRAGONA FONDA       j_mizael26@hotmail.com   \n",
       "2875696                             ODONTOLOGIA  odontologyhealth8@gmail.com   \n",
       "2875697  DISTRIBUIDOR AUTORIZADO ROYAL PRESTIGE     estefanylorenz@gmail.com   \n",
       "2875698                               LA LUPANA        guadalu7@yahoo.com.mx   \n",
       "\n",
       "         report_id report_date_local  total_transactions  total_fees_charged  \\\n",
       "2875694  494ZK88YK        2022-08-31              268.00                9.65   \n",
       "2875695  5L3DDCVNX        2022-08-31              196.00                7.06   \n",
       "2875696  6FXC2Q59B        2022-08-31              500.00               18.00   \n",
       "2875697  8KXFS2LGQ        2022-08-31           48,480.00            7,538.65   \n",
       "2875698  JT2JL7KP6        2022-08-31              235.00                8.46   \n",
       "\n",
       "         total_taxes  applied_fees_benefits  applied_taxes_benefits  ...  \\\n",
       "2875694         1.54                   0.00                    0.00  ...   \n",
       "2875695         1.13                   0.00                    0.00  ...   \n",
       "2875696         2.88                   0.00                    0.00  ...   \n",
       "2875697     1,206.18                   0.00                    0.00  ...   \n",
       "2875698         1.35                   0.00                    0.00  ...   \n",
       "\n",
       "         created_time  updated_date  updated_time                  file_name  \\\n",
       "2875694      02:00:30    2022-08-31      02:00:30  SETTLEMENT 2022-08-31.csv   \n",
       "2875695      02:00:30    2022-08-31      02:00:30  SETTLEMENT 2022-08-31.csv   \n",
       "2875696      02:00:30    2022-08-31      02:00:30  SETTLEMENT 2022-08-31.csv   \n",
       "2875697      02:00:30    2022-08-31      02:00:30  SETTLEMENT 2022-08-31.csv   \n",
       "2875698      02:00:30    2022-08-31      02:00:30  SETTLEMENT 2022-08-31.csv   \n",
       "\n",
       "         Date_file  canc_1  canc_2  cancelaciones total_due_calculado  \\\n",
       "2875694 2022-08-31    0.00    0.00          -0.00              256.81   \n",
       "2875695 2022-08-31    0.00    0.00          -0.00              187.81   \n",
       "2875696 2022-08-31    0.00    0.00          -0.00              479.12   \n",
       "2875697 2022-08-31    0.00    0.00          -0.00           39,735.17   \n",
       "2875698 2022-08-31    0.00    0.00          -0.00              225.19   \n",
       "\n",
       "         diferencias  \n",
       "2875694         0.00  \n",
       "2875695         0.00  \n",
       "2875696         0.00  \n",
       "2875697         0.00  \n",
       "2875698         0.00  \n",
       "\n",
       "[5 rows x 32 columns]"
      ]
     },
     "execution_count": 18,
     "metadata": {},
     "output_type": "execute_result"
    }
   ],
   "source": [
    "settled_current_month['total_due_calculado'] = (settled_current_month['total_transactions']\n",
    "                                                - settled_current_month['total_fees_charged']\n",
    "                                                - settled_current_month['total_taxes']\n",
    "                                                + settled_current_month['applied_fees_benefits']\n",
    "                                                + settled_current_month['applied_taxes_benefits']\n",
    "                                                + settled_current_month['fee_direct_deposit']\n",
    "                                                + settled_current_month['taxes_direct_deposit']\n",
    "                                                - (-settled_current_month['total_adjustments'])\n",
    "                                                + (-settled_current_month['total_adjustment_fees_charged'])\n",
    "                                                + (-settled_current_month['total_adjustment_taxes'])\n",
    "                                                - settled_current_month['cobranza']\n",
    "                                                + settled_current_month['total_released']\n",
    "                                                - settled_current_month['total_retained'])\n",
    "settled_current_month['diferencias'] = settled_current_month['total_due_calculado'] - settled_current_month['total_due']\n",
    "settled_current_month.head()"
   ]
  },
  {
   "cell_type": "code",
   "execution_count": 19,
   "metadata": {},
   "outputs": [
    {
     "data": {
      "text/plain": [
       "(90016, 32)"
      ]
     },
     "execution_count": 19,
     "metadata": {},
     "output_type": "execute_result"
    }
   ],
   "source": [
    "settled_current_month.shape"
   ]
  },
  {
   "cell_type": "markdown",
   "metadata": {},
   "source": [
    "### CONCILIACION TPV"
   ]
  },
  {
   "cell_type": "code",
   "execution_count": 20,
   "metadata": {},
   "outputs": [
    {
     "data": {
      "text/html": [
       "<div>\n",
       "<style scoped>\n",
       "    .dataframe tbody tr th:only-of-type {\n",
       "        vertical-align: middle;\n",
       "    }\n",
       "\n",
       "    .dataframe tbody tr th {\n",
       "        vertical-align: top;\n",
       "    }\n",
       "\n",
       "    .dataframe thead th {\n",
       "        text-align: right;\n",
       "    }\n",
       "</style>\n",
       "<table border=\"1\" class=\"dataframe\">\n",
       "  <thead>\n",
       "    <tr style=\"text-align: right;\">\n",
       "      <th></th>\n",
       "      <th>report_date_local</th>\n",
       "      <th>total_transactions</th>\n",
       "      <th>total_fees_charged</th>\n",
       "      <th>total_taxes</th>\n",
       "      <th>applied_fees_benefits</th>\n",
       "      <th>applied_taxes_benefits</th>\n",
       "      <th>fee_direct_deposit</th>\n",
       "      <th>taxes_direct_deposit</th>\n",
       "      <th>total_adjustments</th>\n",
       "      <th>total_adjustment_fees_charged</th>\n",
       "      <th>total_adjustment_taxes</th>\n",
       "      <th>cobranza</th>\n",
       "      <th>total_released</th>\n",
       "      <th>total_retained</th>\n",
       "      <th>cancelaciones</th>\n",
       "      <th>total_due_calculado</th>\n",
       "      <th>total_due</th>\n",
       "      <th>diferencias</th>\n",
       "    </tr>\n",
       "  </thead>\n",
       "  <tbody>\n",
       "    <tr>\n",
       "      <th>0</th>\n",
       "      <td>2022-08-31</td>\n",
       "      <td>173,783,252.79</td>\n",
       "      <td>7,240,582.79</td>\n",
       "      <td>1,158,507.11</td>\n",
       "      <td>1,545.48</td>\n",
       "      <td>247.32</td>\n",
       "      <td>22,529.58</td>\n",
       "      <td>3,608.82</td>\n",
       "      <td>1,281,560.14</td>\n",
       "      <td>-0.00</td>\n",
       "      <td>-0.00</td>\n",
       "      <td>62,834.00</td>\n",
       "      <td>792,726.89</td>\n",
       "      <td>973,508.10</td>\n",
       "      <td>0.00</td>\n",
       "      <td>163,886,918.74</td>\n",
       "      <td>163,886,918.74</td>\n",
       "      <td>-0.00</td>\n",
       "    </tr>\n",
       "  </tbody>\n",
       "</table>\n",
       "</div>"
      ],
      "text/plain": [
       "  report_date_local  total_transactions  total_fees_charged  total_taxes  \\\n",
       "0        2022-08-31      173,783,252.79        7,240,582.79 1,158,507.11   \n",
       "\n",
       "   applied_fees_benefits  applied_taxes_benefits  fee_direct_deposit  \\\n",
       "0               1,545.48                  247.32           22,529.58   \n",
       "\n",
       "   taxes_direct_deposit  total_adjustments  total_adjustment_fees_charged  \\\n",
       "0              3,608.82       1,281,560.14                          -0.00   \n",
       "\n",
       "   total_adjustment_taxes  cobranza  total_released  total_retained  \\\n",
       "0                   -0.00 62,834.00      792,726.89      973,508.10   \n",
       "\n",
       "   cancelaciones  total_due_calculado      total_due  diferencias  \n",
       "0           0.00       163,886,918.74 163,886,918.74        -0.00  "
      ]
     },
     "execution_count": 20,
     "metadata": {},
     "output_type": "execute_result"
    }
   ],
   "source": [
    "conc_1 = settled_current_month.groupby(['report_date_local']).agg({'total_transactions':sum,'total_fees_charged':sum\n",
    "                                                                    ,'total_taxes':sum,'applied_fees_benefits':sum\n",
    "                                                                    ,'applied_taxes_benefits':sum,'fee_direct_deposit':sum\n",
    "                                                                    ,'taxes_direct_deposit':sum,'total_adjustments':sum\n",
    "                                                                    ,'total_adjustment_fees_charged':sum\n",
    "                                                                    ,'total_adjustment_taxes':sum \n",
    "                                                                    ,'cobranza':sum,'total_released':sum\n",
    "                                                                    ,'total_retained':sum,'cancelaciones':sum\n",
    "                                                                    ,'total_due_calculado':sum,'total_due':sum\n",
    "                                                                    ,'diferencias':sum}).reset_index()\n",
    "conc_1['total_adjustments'] = conc_1['total_adjustments']*-1 \n",
    "conc_1['total_adjustment_fees_charged'] = conc_1['total_adjustment_fees_charged']*-1\n",
    "conc_1['total_adjustment_taxes'] = conc_1['total_adjustment_taxes']*-1 \n",
    "conc_1.head()"
   ]
  },
  {
   "cell_type": "code",
   "execution_count": 21,
   "metadata": {},
   "outputs": [
    {
     "data": {
      "text/plain": [
       "(1, 18)"
      ]
     },
     "execution_count": 21,
     "metadata": {},
     "output_type": "execute_result"
    }
   ],
   "source": [
    "conc_1.shape"
   ]
  },
  {
   "cell_type": "code",
   "execution_count": 22,
   "metadata": {},
   "outputs": [
    {
     "data": {
      "text/html": [
       "<div>\n",
       "<style scoped>\n",
       "    .dataframe tbody tr th:only-of-type {\n",
       "        vertical-align: middle;\n",
       "    }\n",
       "\n",
       "    .dataframe tbody tr th {\n",
       "        vertical-align: top;\n",
       "    }\n",
       "\n",
       "    .dataframe thead th {\n",
       "        text-align: right;\n",
       "    }\n",
       "</style>\n",
       "<table border=\"1\" class=\"dataframe\">\n",
       "  <thead>\n",
       "    <tr style=\"text-align: right;\">\n",
       "      <th></th>\n",
       "      <th>report_date_local</th>\n",
       "      <th>type</th>\n",
       "      <th>total_transactions</th>\n",
       "      <th>total_fees_charged</th>\n",
       "      <th>total_taxes</th>\n",
       "      <th>applied_fees_benefits</th>\n",
       "      <th>applied_taxes_benefits</th>\n",
       "      <th>fee_direct_deposit</th>\n",
       "      <th>taxes_direct_deposit</th>\n",
       "      <th>total_adjustments</th>\n",
       "      <th>total_adjustment_fees_charged</th>\n",
       "      <th>total_adjustment_taxes</th>\n",
       "      <th>cobranza</th>\n",
       "      <th>total_released</th>\n",
       "      <th>total_retained</th>\n",
       "      <th>cancelaciones</th>\n",
       "      <th>total_due_calculado</th>\n",
       "      <th>total_due</th>\n",
       "      <th>diferencias</th>\n",
       "    </tr>\n",
       "  </thead>\n",
       "  <tbody>\n",
       "    <tr>\n",
       "      <th>0</th>\n",
       "      <td>2022-08-31</td>\n",
       "      <td>DAILY</td>\n",
       "      <td>170,743,684.56</td>\n",
       "      <td>7,118,261.73</td>\n",
       "      <td>1,138,935.66</td>\n",
       "      <td>1,545.48</td>\n",
       "      <td>247.32</td>\n",
       "      <td>22,529.58</td>\n",
       "      <td>3,608.82</td>\n",
       "      <td>1,197,709.87</td>\n",
       "      <td>-0.00</td>\n",
       "      <td>-0.00</td>\n",
       "      <td>62,834.00</td>\n",
       "      <td>792,726.89</td>\n",
       "      <td>973,352.10</td>\n",
       "      <td>0.00</td>\n",
       "      <td>161,073,249.29</td>\n",
       "      <td>161,073,249.29</td>\n",
       "      <td>-0.00</td>\n",
       "    </tr>\n",
       "    <tr>\n",
       "      <th>1</th>\n",
       "      <td>2022-08-31</td>\n",
       "      <td>INSTANT</td>\n",
       "      <td>3,039,568.23</td>\n",
       "      <td>122,321.06</td>\n",
       "      <td>19,571.45</td>\n",
       "      <td>0.00</td>\n",
       "      <td>0.00</td>\n",
       "      <td>0.00</td>\n",
       "      <td>0.00</td>\n",
       "      <td>83,850.27</td>\n",
       "      <td>-0.00</td>\n",
       "      <td>-0.00</td>\n",
       "      <td>0.00</td>\n",
       "      <td>0.00</td>\n",
       "      <td>156.00</td>\n",
       "      <td>0.00</td>\n",
       "      <td>2,813,669.45</td>\n",
       "      <td>2,813,669.45</td>\n",
       "      <td>0.00</td>\n",
       "    </tr>\n",
       "  </tbody>\n",
       "</table>\n",
       "</div>"
      ],
      "text/plain": [
       "  report_date_local     type  total_transactions  total_fees_charged  \\\n",
       "0        2022-08-31    DAILY      170,743,684.56        7,118,261.73   \n",
       "1        2022-08-31  INSTANT        3,039,568.23          122,321.06   \n",
       "\n",
       "   total_taxes  applied_fees_benefits  applied_taxes_benefits  \\\n",
       "0 1,138,935.66               1,545.48                  247.32   \n",
       "1    19,571.45                   0.00                    0.00   \n",
       "\n",
       "   fee_direct_deposit  taxes_direct_deposit  total_adjustments  \\\n",
       "0           22,529.58              3,608.82       1,197,709.87   \n",
       "1                0.00                  0.00          83,850.27   \n",
       "\n",
       "   total_adjustment_fees_charged  total_adjustment_taxes  cobranza  \\\n",
       "0                          -0.00                   -0.00 62,834.00   \n",
       "1                          -0.00                   -0.00      0.00   \n",
       "\n",
       "   total_released  total_retained  cancelaciones  total_due_calculado  \\\n",
       "0      792,726.89      973,352.10           0.00       161,073,249.29   \n",
       "1            0.00          156.00           0.00         2,813,669.45   \n",
       "\n",
       "       total_due  diferencias  \n",
       "0 161,073,249.29        -0.00  \n",
       "1   2,813,669.45         0.00  "
      ]
     },
     "execution_count": 22,
     "metadata": {},
     "output_type": "execute_result"
    }
   ],
   "source": [
    "conc_3 = settled_current_month.groupby(['report_date_local','type']).agg({'total_transactions':sum,'total_fees_charged':sum\n",
    "                                                                    ,'total_taxes':sum,'applied_fees_benefits':sum\n",
    "                                                                    ,'applied_taxes_benefits':sum,'fee_direct_deposit':sum\n",
    "                                                                    ,'taxes_direct_deposit':sum,'total_adjustments':sum     \n",
    "                                                                    ,'total_adjustment_fees_charged':sum\n",
    "                                                                    ,'total_adjustment_taxes':sum \n",
    "                                                                    ,'cobranza':sum,'total_released':sum\n",
    "                                                                    ,'total_retained':sum,'cancelaciones':sum\n",
    "                                                                    ,'total_due_calculado':sum,'total_due':sum\n",
    "                                                                    ,'diferencias':sum}).reset_index()\n",
    "conc_3['total_adjustments'] = conc_3['total_adjustments']*-1 \n",
    "conc_3['total_adjustment_fees_charged'] = conc_3['total_adjustment_fees_charged']*-1\n",
    "conc_3['total_adjustment_taxes'] = conc_3['total_adjustment_taxes']*-1 \n",
    "conc_3.head()"
   ]
  },
  {
   "cell_type": "code",
   "execution_count": 23,
   "metadata": {},
   "outputs": [
    {
     "data": {
      "text/plain": [
       "(2, 19)"
      ]
     },
     "execution_count": 23,
     "metadata": {},
     "output_type": "execute_result"
    }
   ],
   "source": [
    "conc_3.shape"
   ]
  },
  {
   "cell_type": "code",
   "execution_count": 24,
   "metadata": {},
   "outputs": [
    {
     "data": {
      "text/plain": [
       "array(['DAILY', 'INSTANT'], dtype=object)"
      ]
     },
     "execution_count": 24,
     "metadata": {},
     "output_type": "execute_result"
    }
   ],
   "source": [
    "conc_3['type'].unique()"
   ]
  },
  {
   "cell_type": "code",
   "execution_count": 25,
   "metadata": {},
   "outputs": [
    {
     "data": {
      "text/html": [
       "<div>\n",
       "<style scoped>\n",
       "    .dataframe tbody tr th:only-of-type {\n",
       "        vertical-align: middle;\n",
       "    }\n",
       "\n",
       "    .dataframe tbody tr th {\n",
       "        vertical-align: top;\n",
       "    }\n",
       "\n",
       "    .dataframe thead th {\n",
       "        text-align: right;\n",
       "    }\n",
       "</style>\n",
       "<table border=\"1\" class=\"dataframe\">\n",
       "  <thead>\n",
       "    <tr style=\"text-align: right;\">\n",
       "      <th></th>\n",
       "      <th>report_date_local</th>\n",
       "      <th>type</th>\n",
       "      <th>total_transactions</th>\n",
       "      <th>total_fees_charged</th>\n",
       "      <th>total_taxes</th>\n",
       "      <th>applied_fees_benefits</th>\n",
       "      <th>applied_taxes_benefits</th>\n",
       "      <th>fee_direct_deposit</th>\n",
       "      <th>taxes_direct_deposit</th>\n",
       "      <th>total_adjustments</th>\n",
       "      <th>total_adjustment_fees_charged</th>\n",
       "      <th>total_adjustment_taxes</th>\n",
       "      <th>cobranza</th>\n",
       "      <th>total_released</th>\n",
       "      <th>total_retained</th>\n",
       "      <th>cancelaciones</th>\n",
       "      <th>total_due_calculado</th>\n",
       "      <th>total_due</th>\n",
       "      <th>diferencias</th>\n",
       "    </tr>\n",
       "  </thead>\n",
       "  <tbody>\n",
       "    <tr>\n",
       "      <th>0</th>\n",
       "      <td>2022-08-31</td>\n",
       "      <td>DAILY</td>\n",
       "      <td>170,743,684.56</td>\n",
       "      <td>7,118,261.73</td>\n",
       "      <td>1,138,935.66</td>\n",
       "      <td>1,545.48</td>\n",
       "      <td>247.32</td>\n",
       "      <td>22,529.58</td>\n",
       "      <td>3,608.82</td>\n",
       "      <td>1,197,709.87</td>\n",
       "      <td>-0.00</td>\n",
       "      <td>-0.00</td>\n",
       "      <td>62,834.00</td>\n",
       "      <td>792,726.89</td>\n",
       "      <td>973,352.10</td>\n",
       "      <td>0.00</td>\n",
       "      <td>161,073,249.29</td>\n",
       "      <td>161,073,249.29</td>\n",
       "      <td>-0.00</td>\n",
       "    </tr>\n",
       "  </tbody>\n",
       "</table>\n",
       "</div>"
      ],
      "text/plain": [
       "  report_date_local   type  total_transactions  total_fees_charged  \\\n",
       "0        2022-08-31  DAILY      170,743,684.56        7,118,261.73   \n",
       "\n",
       "   total_taxes  applied_fees_benefits  applied_taxes_benefits  \\\n",
       "0 1,138,935.66               1,545.48                  247.32   \n",
       "\n",
       "   fee_direct_deposit  taxes_direct_deposit  total_adjustments  \\\n",
       "0           22,529.58              3,608.82       1,197,709.87   \n",
       "\n",
       "   total_adjustment_fees_charged  total_adjustment_taxes  cobranza  \\\n",
       "0                          -0.00                   -0.00 62,834.00   \n",
       "\n",
       "   total_released  total_retained  cancelaciones  total_due_calculado  \\\n",
       "0      792,726.89      973,352.10           0.00       161,073,249.29   \n",
       "\n",
       "       total_due  diferencias  \n",
       "0 161,073,249.29        -0.00  "
      ]
     },
     "execution_count": 25,
     "metadata": {},
     "output_type": "execute_result"
    }
   ],
   "source": [
    "data_daily = conc_3[(conc_3['type'] == 'DAILY')]\n",
    "data_daily.head()"
   ]
  },
  {
   "cell_type": "code",
   "execution_count": 26,
   "metadata": {},
   "outputs": [
    {
     "data": {
      "text/plain": [
       "(1, 19)"
      ]
     },
     "execution_count": 26,
     "metadata": {},
     "output_type": "execute_result"
    }
   ],
   "source": [
    "data_daily.shape"
   ]
  },
  {
   "cell_type": "code",
   "execution_count": 27,
   "metadata": {},
   "outputs": [
    {
     "data": {
      "text/html": [
       "<div>\n",
       "<style scoped>\n",
       "    .dataframe tbody tr th:only-of-type {\n",
       "        vertical-align: middle;\n",
       "    }\n",
       "\n",
       "    .dataframe tbody tr th {\n",
       "        vertical-align: top;\n",
       "    }\n",
       "\n",
       "    .dataframe thead th {\n",
       "        text-align: right;\n",
       "    }\n",
       "</style>\n",
       "<table border=\"1\" class=\"dataframe\">\n",
       "  <thead>\n",
       "    <tr style=\"text-align: right;\">\n",
       "      <th></th>\n",
       "      <th>report_date_local</th>\n",
       "      <th>type</th>\n",
       "      <th>total_transactions</th>\n",
       "      <th>total_fees_charged</th>\n",
       "      <th>total_taxes</th>\n",
       "      <th>applied_fees_benefits</th>\n",
       "      <th>applied_taxes_benefits</th>\n",
       "      <th>fee_direct_deposit</th>\n",
       "      <th>taxes_direct_deposit</th>\n",
       "      <th>total_adjustments</th>\n",
       "      <th>total_adjustment_fees_charged</th>\n",
       "      <th>total_adjustment_taxes</th>\n",
       "      <th>cobranza</th>\n",
       "      <th>total_released</th>\n",
       "      <th>total_retained</th>\n",
       "      <th>cancelaciones</th>\n",
       "      <th>total_due_calculado</th>\n",
       "      <th>total_due</th>\n",
       "      <th>diferencias</th>\n",
       "    </tr>\n",
       "  </thead>\n",
       "  <tbody>\n",
       "    <tr>\n",
       "      <th>1</th>\n",
       "      <td>2022-08-31</td>\n",
       "      <td>INSTANT</td>\n",
       "      <td>3,039,568.23</td>\n",
       "      <td>122,321.06</td>\n",
       "      <td>19,571.45</td>\n",
       "      <td>0.00</td>\n",
       "      <td>0.00</td>\n",
       "      <td>0.00</td>\n",
       "      <td>0.00</td>\n",
       "      <td>83,850.27</td>\n",
       "      <td>-0.00</td>\n",
       "      <td>-0.00</td>\n",
       "      <td>0.00</td>\n",
       "      <td>0.00</td>\n",
       "      <td>156.00</td>\n",
       "      <td>0.00</td>\n",
       "      <td>2,813,669.45</td>\n",
       "      <td>2,813,669.45</td>\n",
       "      <td>0.00</td>\n",
       "    </tr>\n",
       "  </tbody>\n",
       "</table>\n",
       "</div>"
      ],
      "text/plain": [
       "  report_date_local     type  total_transactions  total_fees_charged  \\\n",
       "1        2022-08-31  INSTANT        3,039,568.23          122,321.06   \n",
       "\n",
       "   total_taxes  applied_fees_benefits  applied_taxes_benefits  \\\n",
       "1    19,571.45                   0.00                    0.00   \n",
       "\n",
       "   fee_direct_deposit  taxes_direct_deposit  total_adjustments  \\\n",
       "1                0.00                  0.00          83,850.27   \n",
       "\n",
       "   total_adjustment_fees_charged  total_adjustment_taxes  cobranza  \\\n",
       "1                          -0.00                   -0.00      0.00   \n",
       "\n",
       "   total_released  total_retained  cancelaciones  total_due_calculado  \\\n",
       "1            0.00          156.00           0.00         2,813,669.45   \n",
       "\n",
       "     total_due  diferencias  \n",
       "1 2,813,669.45         0.00  "
      ]
     },
     "execution_count": 27,
     "metadata": {},
     "output_type": "execute_result"
    }
   ],
   "source": [
    "data_instant = conc_3[(conc_3['type'] == 'INSTANT')]\n",
    "data_instant.head()"
   ]
  },
  {
   "cell_type": "code",
   "execution_count": 28,
   "metadata": {},
   "outputs": [
    {
     "data": {
      "text/plain": [
       "(1, 19)"
      ]
     },
     "execution_count": 28,
     "metadata": {},
     "output_type": "execute_result"
    }
   ],
   "source": [
    "data_instant.shape"
   ]
  },
  {
   "cell_type": "markdown",
   "metadata": {},
   "source": [
    "### RELEASED SIN CLABE"
   ]
  },
  {
   "cell_type": "code",
   "execution_count": 29,
   "metadata": {},
   "outputs": [
    {
     "data": {
      "text/html": [
       "<div>\n",
       "<style scoped>\n",
       "    .dataframe tbody tr th:only-of-type {\n",
       "        vertical-align: middle;\n",
       "    }\n",
       "\n",
       "    .dataframe tbody tr th {\n",
       "        vertical-align: top;\n",
       "    }\n",
       "\n",
       "    .dataframe thead th {\n",
       "        text-align: right;\n",
       "    }\n",
       "</style>\n",
       "<table border=\"1\" class=\"dataframe\">\n",
       "  <thead>\n",
       "    <tr style=\"text-align: right;\">\n",
       "      <th></th>\n",
       "      <th>merchant_id</th>\n",
       "      <th>merchant_name</th>\n",
       "      <th>user_email</th>\n",
       "      <th>report_id</th>\n",
       "      <th>report_date_local</th>\n",
       "      <th>total_transactions</th>\n",
       "      <th>total_fees_charged</th>\n",
       "      <th>total_taxes</th>\n",
       "      <th>applied_fees_benefits</th>\n",
       "      <th>applied_taxes_benefits</th>\n",
       "      <th>...</th>\n",
       "      <th>created_time</th>\n",
       "      <th>updated_date</th>\n",
       "      <th>updated_time</th>\n",
       "      <th>file_name</th>\n",
       "      <th>Date_file</th>\n",
       "      <th>canc_1</th>\n",
       "      <th>canc_2</th>\n",
       "      <th>cancelaciones</th>\n",
       "      <th>total_due_calculado</th>\n",
       "      <th>diferencias</th>\n",
       "    </tr>\n",
       "  </thead>\n",
       "  <tbody>\n",
       "  </tbody>\n",
       "</table>\n",
       "<p>0 rows × 32 columns</p>\n",
       "</div>"
      ],
      "text/plain": [
       "Empty DataFrame\n",
       "Columns: [merchant_id, merchant_name, user_email, report_id, report_date_local, total_transactions, total_fees_charged, total_taxes, applied_fees_benefits, applied_taxes_benefits, fee_direct_deposit, taxes_direct_deposit, total_adjustments, total_adjustment_fees_charged, total_adjustment_taxes, cobranza, total_released, total_retained, tipopago, total_due, type, created_date, created_time, updated_date, updated_time, file_name, Date_file, canc_1, canc_2, cancelaciones, total_due_calculado, diferencias]\n",
       "Index: []\n",
       "\n",
       "[0 rows x 32 columns]"
      ]
     },
     "execution_count": 29,
     "metadata": {},
     "output_type": "execute_result"
    }
   ],
   "source": [
    "released_sinclabe = settled_current_month[(settled_current_month['tipopago'] == 'sin CLABE')]\n",
    "released_sinclabe.head()"
   ]
  },
  {
   "cell_type": "code",
   "execution_count": 30,
   "metadata": {},
   "outputs": [
    {
     "data": {
      "text/plain": [
       "(0, 32)"
      ]
     },
     "execution_count": 30,
     "metadata": {},
     "output_type": "execute_result"
    }
   ],
   "source": [
    "released_sinclabe.shape"
   ]
  },
  {
   "cell_type": "code",
   "execution_count": 31,
   "metadata": {},
   "outputs": [
    {
     "data": {
      "text/html": [
       "<div>\n",
       "<style scoped>\n",
       "    .dataframe tbody tr th:only-of-type {\n",
       "        vertical-align: middle;\n",
       "    }\n",
       "\n",
       "    .dataframe tbody tr th {\n",
       "        vertical-align: top;\n",
       "    }\n",
       "\n",
       "    .dataframe thead th {\n",
       "        text-align: right;\n",
       "    }\n",
       "</style>\n",
       "<table border=\"1\" class=\"dataframe\">\n",
       "  <thead>\n",
       "    <tr style=\"text-align: right;\">\n",
       "      <th></th>\n",
       "      <th>report_date_local</th>\n",
       "      <th>total_released</th>\n",
       "    </tr>\n",
       "  </thead>\n",
       "  <tbody>\n",
       "  </tbody>\n",
       "</table>\n",
       "</div>"
      ],
      "text/plain": [
       "Empty DataFrame\n",
       "Columns: [report_date_local, total_released]\n",
       "Index: []"
      ]
     },
     "execution_count": 31,
     "metadata": {},
     "output_type": "execute_result"
    }
   ],
   "source": [
    "released_1 = released_sinclabe.groupby(['report_date_local']).agg({'total_released':sum}).reset_index()\n",
    "released_1.head()"
   ]
  },
  {
   "cell_type": "code",
   "execution_count": 32,
   "metadata": {},
   "outputs": [
    {
     "data": {
      "text/plain": [
       "(0, 2)"
      ]
     },
     "execution_count": 32,
     "metadata": {},
     "output_type": "execute_result"
    }
   ],
   "source": [
    "released_1.shape"
   ]
  },
  {
   "cell_type": "code",
   "execution_count": 33,
   "metadata": {},
   "outputs": [
    {
     "data": {
      "text/html": [
       "<div>\n",
       "<style scoped>\n",
       "    .dataframe tbody tr th:only-of-type {\n",
       "        vertical-align: middle;\n",
       "    }\n",
       "\n",
       "    .dataframe tbody tr th {\n",
       "        vertical-align: top;\n",
       "    }\n",
       "\n",
       "    .dataframe thead th {\n",
       "        text-align: right;\n",
       "    }\n",
       "</style>\n",
       "<table border=\"1\" class=\"dataframe\">\n",
       "  <thead>\n",
       "    <tr style=\"text-align: right;\">\n",
       "      <th></th>\n",
       "      <th>report_date_local</th>\n",
       "      <th>type</th>\n",
       "      <th>total_released</th>\n",
       "    </tr>\n",
       "  </thead>\n",
       "  <tbody>\n",
       "  </tbody>\n",
       "</table>\n",
       "</div>"
      ],
      "text/plain": [
       "Empty DataFrame\n",
       "Columns: [report_date_local, type, total_released]\n",
       "Index: []"
      ]
     },
     "execution_count": 33,
     "metadata": {},
     "output_type": "execute_result"
    }
   ],
   "source": [
    "released_3 = released_sinclabe.groupby(['report_date_local','type']).agg({'total_released':sum}).reset_index()\n",
    "released_3.head()"
   ]
  },
  {
   "cell_type": "code",
   "execution_count": 34,
   "metadata": {},
   "outputs": [
    {
     "data": {
      "text/plain": [
       "(0, 3)"
      ]
     },
     "execution_count": 34,
     "metadata": {},
     "output_type": "execute_result"
    }
   ],
   "source": [
    "released_3.shape"
   ]
  },
  {
   "cell_type": "code",
   "execution_count": 35,
   "metadata": {},
   "outputs": [
    {
     "data": {
      "text/plain": [
       "array([], dtype=object)"
      ]
     },
     "execution_count": 35,
     "metadata": {},
     "output_type": "execute_result"
    }
   ],
   "source": [
    "released_3['type'].unique()"
   ]
  },
  {
   "cell_type": "code",
   "execution_count": 36,
   "metadata": {},
   "outputs": [
    {
     "data": {
      "text/html": [
       "<div>\n",
       "<style scoped>\n",
       "    .dataframe tbody tr th:only-of-type {\n",
       "        vertical-align: middle;\n",
       "    }\n",
       "\n",
       "    .dataframe tbody tr th {\n",
       "        vertical-align: top;\n",
       "    }\n",
       "\n",
       "    .dataframe thead th {\n",
       "        text-align: right;\n",
       "    }\n",
       "</style>\n",
       "<table border=\"1\" class=\"dataframe\">\n",
       "  <thead>\n",
       "    <tr style=\"text-align: right;\">\n",
       "      <th></th>\n",
       "      <th>report_date_local</th>\n",
       "      <th>type</th>\n",
       "      <th>total_released</th>\n",
       "    </tr>\n",
       "  </thead>\n",
       "  <tbody>\n",
       "  </tbody>\n",
       "</table>\n",
       "</div>"
      ],
      "text/plain": [
       "Empty DataFrame\n",
       "Columns: [report_date_local, type, total_released]\n",
       "Index: []"
      ]
     },
     "execution_count": 36,
     "metadata": {},
     "output_type": "execute_result"
    }
   ],
   "source": [
    "released_daily = released_3[(released_3['type'] == 'DAILY')]\n",
    "released_daily.head()"
   ]
  },
  {
   "cell_type": "code",
   "execution_count": 37,
   "metadata": {},
   "outputs": [
    {
     "data": {
      "text/plain": [
       "(0, 3)"
      ]
     },
     "execution_count": 37,
     "metadata": {},
     "output_type": "execute_result"
    }
   ],
   "source": [
    "released_daily.shape"
   ]
  },
  {
   "cell_type": "code",
   "execution_count": 38,
   "metadata": {},
   "outputs": [
    {
     "data": {
      "text/html": [
       "<div>\n",
       "<style scoped>\n",
       "    .dataframe tbody tr th:only-of-type {\n",
       "        vertical-align: middle;\n",
       "    }\n",
       "\n",
       "    .dataframe tbody tr th {\n",
       "        vertical-align: top;\n",
       "    }\n",
       "\n",
       "    .dataframe thead th {\n",
       "        text-align: right;\n",
       "    }\n",
       "</style>\n",
       "<table border=\"1\" class=\"dataframe\">\n",
       "  <thead>\n",
       "    <tr style=\"text-align: right;\">\n",
       "      <th></th>\n",
       "      <th>report_date_local</th>\n",
       "      <th>type</th>\n",
       "      <th>total_released</th>\n",
       "    </tr>\n",
       "  </thead>\n",
       "  <tbody>\n",
       "  </tbody>\n",
       "</table>\n",
       "</div>"
      ],
      "text/plain": [
       "Empty DataFrame\n",
       "Columns: [report_date_local, type, total_released]\n",
       "Index: []"
      ]
     },
     "execution_count": 38,
     "metadata": {},
     "output_type": "execute_result"
    }
   ],
   "source": [
    "released_instant = released_3[(released_3['type'] == 'INSTANT')]\n",
    "released_instant.head()"
   ]
  },
  {
   "cell_type": "code",
   "execution_count": 39,
   "metadata": {},
   "outputs": [
    {
     "data": {
      "text/plain": [
       "(0, 3)"
      ]
     },
     "execution_count": 39,
     "metadata": {},
     "output_type": "execute_result"
    }
   ],
   "source": [
    "released_instant.shape"
   ]
  },
  {
   "cell_type": "markdown",
   "metadata": {},
   "source": [
    "# EXCEL FINAL"
   ]
  },
  {
   "cell_type": "code",
   "execution_count": 40,
   "metadata": {},
   "outputs": [],
   "source": [
    "writer = pd.ExcelWriter('FASE I. DATA POLIZA AGOSTO 31 2022.xlsx',\n",
    "                        engine='xlsxwriter',\n",
    "                        engine_kwargs={'options': {'encoding':'utf-8'}})\n",
    "conc_1.to_excel(writer, sheet_name='MONTOS REPORT_DATE',index=False)\n",
    "data_daily.to_excel(writer, sheet_name='MONTOS_DAILY',index=False)\n",
    "data_instant.to_excel(writer, sheet_name='MONTOS_INSTANT',index=False)\n",
    "released_1.to_excel(writer, sheet_name='RELEASED REPORT_DATE',index=False)\n",
    "released_daily.to_excel(writer, sheet_name='RELEASED_DAILY',index=False)\n",
    "released_instant.to_excel(writer, sheet_name='RELEASED_INSTANT',index=False)\n",
    "writer.close()"
   ]
  },
  {
   "cell_type": "code",
   "execution_count": null,
   "metadata": {},
   "outputs": [],
   "source": []
  }
 ],
 "metadata": {
  "kernelspec": {
   "display_name": "Python 3 (ipykernel)",
   "language": "python",
   "name": "python3"
  },
  "language_info": {
   "codemirror_mode": {
    "name": "ipython",
    "version": 3
   },
   "file_extension": ".py",
   "mimetype": "text/x-python",
   "name": "python",
   "nbconvert_exporter": "python",
   "pygments_lexer": "ipython3",
   "version": "3.9.13"
  }
 },
 "nbformat": 4,
 "nbformat_minor": 4
}
