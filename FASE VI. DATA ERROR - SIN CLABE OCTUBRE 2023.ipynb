{
 "cells": [
  {
   "cell_type": "code",
   "execution_count": 1,
   "metadata": {},
   "outputs": [],
   "source": [
    "import pandas as pd\n",
    "import numpy as np\n",
    "import glob\n",
    "import os\n",
    "from openpyxl import load_workbook\n",
    "pd.options.display.float_format = '{:,.2f}'.format"
   ]
  },
  {
   "cell_type": "code",
   "execution_count": 2,
   "metadata": {},
   "outputs": [],
   "source": [
    "start_date = '2023-10-01'\n",
    "final_date = '2023-10-31'\n",
    "query_error_year = 2023\n",
    "query_error_month = 10"
   ]
  },
  {
   "cell_type": "markdown",
   "metadata": {},
   "source": [
    "# INFORMACION DE  CUBETA ERROR"
   ]
  },
  {
   "cell_type": "code",
   "execution_count": 3,
   "metadata": {},
   "outputs": [
    {
     "name": "stderr",
     "output_type": "stream",
     "text": [
      "C:\\Users\\Cristian.Aparicio\\AppData\\Local\\Temp\\ipykernel_5380\\1697737663.py:1: DtypeWarning: Columns (2) have mixed types. Specify dtype option on import or set low_memory=False.\n",
      "  query_error = pd.read_csv(r'C:\\Users\\Cristian.Aparicio\\Documents\\POLIZAS\\2023\\10. OCTUBRE\\DATA\\ERROR OCTUBRE 2023.csv',\n"
     ]
    },
    {
     "data": {
      "text/html": [
       "<div>\n",
       "<style scoped>\n",
       "    .dataframe tbody tr th:only-of-type {\n",
       "        vertical-align: middle;\n",
       "    }\n",
       "\n",
       "    .dataframe tbody tr th {\n",
       "        vertical-align: top;\n",
       "    }\n",
       "\n",
       "    .dataframe thead th {\n",
       "        text-align: right;\n",
       "    }\n",
       "</style>\n",
       "<table border=\"1\" class=\"dataframe\">\n",
       "  <thead>\n",
       "    <tr style=\"text-align: right;\">\n",
       "      <th></th>\n",
       "      <th>Unnamed: 0</th>\n",
       "      <th>merchant_id</th>\n",
       "      <th>merchant_name</th>\n",
       "      <th>report_id</th>\n",
       "      <th>report_date_local</th>\n",
       "      <th>amount</th>\n",
       "      <th>status</th>\n",
       "      <th>error_description</th>\n",
       "      <th>ultimo_mov</th>\n",
       "      <th>month</th>\n",
       "      <th>year</th>\n",
       "      <th>status_cubeta</th>\n",
       "      <th>esquema_query</th>\n",
       "      <th>merchant_id_query</th>\n",
       "      <th>ultimo_mov_date_only</th>\n",
       "      <th>day</th>\n",
       "      <th>mes_cierre</th>\n",
       "    </tr>\n",
       "  </thead>\n",
       "  <tbody>\n",
       "    <tr>\n",
       "      <th>0</th>\n",
       "      <td>0</td>\n",
       "      <td>b088c4b4-29dd-42c8-bd29-1eda61f73973</td>\n",
       "      <td>Mscelanea Dulce Maria</td>\n",
       "      <td>GTS92WH86</td>\n",
       "      <td>2015-11-05</td>\n",
       "      <td>734.34</td>\n",
       "      <td>ERROR</td>\n",
       "      <td>swap devuelto</td>\n",
       "      <td>2017-08-15</td>\n",
       "      <td>8</td>\n",
       "      <td>2017</td>\n",
       "      <td>ERROR</td>\n",
       "      <td>ERROR_USUAL</td>\n",
       "      <td>b088c4b4-29dd-42c8-bd29-1eda61f73973</td>\n",
       "      <td>2017-08-15</td>\n",
       "      <td>15</td>\n",
       "      <td>NaN</td>\n",
       "    </tr>\n",
       "    <tr>\n",
       "      <th>1</th>\n",
       "      <td>1</td>\n",
       "      <td>b088c4b4-29dd-42c8-bd29-1eda61f73973</td>\n",
       "      <td>Mscelanea Dulce Maria</td>\n",
       "      <td>8VQRDV39G</td>\n",
       "      <td>2015-11-06</td>\n",
       "      <td>597.26</td>\n",
       "      <td>ERROR</td>\n",
       "      <td>swap devuelto</td>\n",
       "      <td>2017-08-15</td>\n",
       "      <td>8</td>\n",
       "      <td>2017</td>\n",
       "      <td>ERROR</td>\n",
       "      <td>ERROR_USUAL</td>\n",
       "      <td>b088c4b4-29dd-42c8-bd29-1eda61f73973</td>\n",
       "      <td>2017-08-15</td>\n",
       "      <td>15</td>\n",
       "      <td>NaN</td>\n",
       "    </tr>\n",
       "    <tr>\n",
       "      <th>2</th>\n",
       "      <td>2</td>\n",
       "      <td>d1087b80-5383-4b90-8738-bf309a1ce297</td>\n",
       "      <td>Grupo Solutec</td>\n",
       "      <td>82G5CYSR7</td>\n",
       "      <td>2015-12-21</td>\n",
       "      <td>9,160.77</td>\n",
       "      <td>ERROR</td>\n",
       "      <td>failed swap</td>\n",
       "      <td>2017-11-01</td>\n",
       "      <td>11</td>\n",
       "      <td>2017</td>\n",
       "      <td>ERROR</td>\n",
       "      <td>ERROR_USUAL</td>\n",
       "      <td>d1087b80-5383-4b90-8738-bf309a1ce297</td>\n",
       "      <td>2017-11-01</td>\n",
       "      <td>1</td>\n",
       "      <td>NaN</td>\n",
       "    </tr>\n",
       "    <tr>\n",
       "      <th>3</th>\n",
       "      <td>3</td>\n",
       "      <td>8f666f7d-5eb8-4367-9c52-5564d6aca0c5</td>\n",
       "      <td>Ediciones Malinalco S de RL de CV</td>\n",
       "      <td>XWRKLC2ZL</td>\n",
       "      <td>2016-02-08</td>\n",
       "      <td>1,216.98</td>\n",
       "      <td>ERROR</td>\n",
       "      <td>confirmar la cuenta</td>\n",
       "      <td>2017-05-12</td>\n",
       "      <td>5</td>\n",
       "      <td>2017</td>\n",
       "      <td>ERROR</td>\n",
       "      <td>ERROR_USUAL</td>\n",
       "      <td>8f666f7d-5eb8-4367-9c52-5564d6aca0c5</td>\n",
       "      <td>2017-05-12</td>\n",
       "      <td>12</td>\n",
       "      <td>NaN</td>\n",
       "    </tr>\n",
       "    <tr>\n",
       "      <th>4</th>\n",
       "      <td>4</td>\n",
       "      <td>8f666f7d-5eb8-4367-9c52-5564d6aca0c5</td>\n",
       "      <td>Ediciones Malinalco S de RL de CV</td>\n",
       "      <td>D9468C7W4</td>\n",
       "      <td>2016-02-16</td>\n",
       "      <td>1,993.14</td>\n",
       "      <td>ERROR</td>\n",
       "      <td>confirmar la cuenta</td>\n",
       "      <td>2017-05-12</td>\n",
       "      <td>5</td>\n",
       "      <td>2017</td>\n",
       "      <td>ERROR</td>\n",
       "      <td>ERROR_USUAL</td>\n",
       "      <td>8f666f7d-5eb8-4367-9c52-5564d6aca0c5</td>\n",
       "      <td>2017-05-12</td>\n",
       "      <td>12</td>\n",
       "      <td>NaN</td>\n",
       "    </tr>\n",
       "  </tbody>\n",
       "</table>\n",
       "</div>"
      ],
      "text/plain": [
       "   Unnamed: 0                           merchant_id  \\\n",
       "0           0  b088c4b4-29dd-42c8-bd29-1eda61f73973   \n",
       "1           1  b088c4b4-29dd-42c8-bd29-1eda61f73973   \n",
       "2           2  d1087b80-5383-4b90-8738-bf309a1ce297   \n",
       "3           3  8f666f7d-5eb8-4367-9c52-5564d6aca0c5   \n",
       "4           4  8f666f7d-5eb8-4367-9c52-5564d6aca0c5   \n",
       "\n",
       "                       merchant_name  report_id report_date_local   amount  \\\n",
       "0              Mscelanea Dulce Maria  GTS92WH86        2015-11-05   734.34   \n",
       "1              Mscelanea Dulce Maria  8VQRDV39G        2015-11-06   597.26   \n",
       "2                      Grupo Solutec  82G5CYSR7        2015-12-21 9,160.77   \n",
       "3  Ediciones Malinalco S de RL de CV  XWRKLC2ZL        2016-02-08 1,216.98   \n",
       "4  Ediciones Malinalco S de RL de CV  D9468C7W4        2016-02-16 1,993.14   \n",
       "\n",
       "  status    error_description ultimo_mov  month  year status_cubeta  \\\n",
       "0  ERROR        swap devuelto 2017-08-15      8  2017         ERROR   \n",
       "1  ERROR        swap devuelto 2017-08-15      8  2017         ERROR   \n",
       "2  ERROR          failed swap 2017-11-01     11  2017         ERROR   \n",
       "3  ERROR  confirmar la cuenta 2017-05-12      5  2017         ERROR   \n",
       "4  ERROR  confirmar la cuenta 2017-05-12      5  2017         ERROR   \n",
       "\n",
       "  esquema_query                     merchant_id_query ultimo_mov_date_only  \\\n",
       "0   ERROR_USUAL  b088c4b4-29dd-42c8-bd29-1eda61f73973           2017-08-15   \n",
       "1   ERROR_USUAL  b088c4b4-29dd-42c8-bd29-1eda61f73973           2017-08-15   \n",
       "2   ERROR_USUAL  d1087b80-5383-4b90-8738-bf309a1ce297           2017-11-01   \n",
       "3   ERROR_USUAL  8f666f7d-5eb8-4367-9c52-5564d6aca0c5           2017-05-12   \n",
       "4   ERROR_USUAL  8f666f7d-5eb8-4367-9c52-5564d6aca0c5           2017-05-12   \n",
       "\n",
       "   day mes_cierre  \n",
       "0   15        NaN  \n",
       "1   15        NaN  \n",
       "2    1        NaN  \n",
       "3   12        NaN  \n",
       "4   12        NaN  "
      ]
     },
     "execution_count": 3,
     "metadata": {},
     "output_type": "execute_result"
    }
   ],
   "source": [
    "query_error = pd.read_csv(r'C:\\Users\\Cristian.Aparicio\\Documents\\POLIZAS\\2023\\10. OCTUBRE\\DATA\\ERROR OCTUBRE 2023.csv',\n",
    "                          dtype={'report_id':object})\n",
    "query_error.rename(columns ={'MAX(report_date_local)':'report_date_local'}, inplace=True)\n",
    "query_error['report_date_local']= pd.to_datetime(query_error['report_date_local'])\n",
    "query_error['ultimo_mov'] = pd.to_datetime(query_error['ultimo_mov'])\n",
    "query_error['merchant_id_query'] = query_error['merchant_id']\n",
    "query_error['ultimo_mov_date_only']= pd.to_datetime(query_error['ultimo_mov']).dt.date\n",
    "query_error['day'] = query_error['ultimo_mov'].dt.day\n",
    "query_error['month'] = query_error['ultimo_mov'].dt.month\n",
    "query_error['year'] = query_error['ultimo_mov'].dt.year\n",
    "# query_error.loc[((query_error['day'] == 30 )\n",
    "#                 & (query_error['month'] == 7)\n",
    "#                 & (query_error['year'] == 2022)), \"mes_cierre\"] = 'Actual'\n",
    "# query_error.loc[(query_error['day'] == 31 )\n",
    "#             & (query_error['month'] == 7 )\n",
    "#             & (query_error['year'] == 2022), \"mes_cierre\"] = 'Actual'\n",
    "query_error.loc[(query_error['month'] == query_error_month )\n",
    "            & (query_error['year'] == query_error_year), \"mes_cierre\"] = 'Actual'\n",
    "query_error.head()"
   ]
  },
  {
   "cell_type": "code",
   "execution_count": 4,
   "metadata": {},
   "outputs": [
    {
     "data": {
      "text/plain": [
       "(150498, 17)"
      ]
     },
     "execution_count": 4,
     "metadata": {},
     "output_type": "execute_result"
    }
   ],
   "source": [
    "query_error.shape"
   ]
  },
  {
   "cell_type": "code",
   "execution_count": 5,
   "metadata": {},
   "outputs": [
    {
     "data": {
      "text/plain": [
       "array([nan, 'Actual'], dtype=object)"
      ]
     },
     "execution_count": 5,
     "metadata": {},
     "output_type": "execute_result"
    }
   ],
   "source": [
    "query_error['mes_cierre'].unique()"
   ]
  },
  {
   "cell_type": "code",
   "execution_count": 6,
   "metadata": {},
   "outputs": [
    {
     "data": {
      "text/plain": [
       "Unnamed: 0                       int64\n",
       "merchant_id                     object\n",
       "merchant_name                   object\n",
       "report_id                       object\n",
       "report_date_local       datetime64[ns]\n",
       "amount                         float64\n",
       "status                          object\n",
       "error_description               object\n",
       "ultimo_mov              datetime64[ns]\n",
       "month                            int32\n",
       "year                             int32\n",
       "status_cubeta                   object\n",
       "esquema_query                   object\n",
       "merchant_id_query               object\n",
       "ultimo_mov_date_only            object\n",
       "day                              int32\n",
       "mes_cierre                      object\n",
       "dtype: object"
      ]
     },
     "execution_count": 6,
     "metadata": {},
     "output_type": "execute_result"
    }
   ],
   "source": [
    "query_error.dtypes"
   ]
  },
  {
   "cell_type": "code",
   "execution_count": 7,
   "metadata": {},
   "outputs": [
    {
     "data": {
      "text/plain": [
       "array(['ERROR_USUAL', 'SIN_CLABE'], dtype=object)"
      ]
     },
     "execution_count": 7,
     "metadata": {},
     "output_type": "execute_result"
    }
   ],
   "source": [
    "query_error['esquema_query'].unique()"
   ]
  },
  {
   "cell_type": "code",
   "execution_count": 8,
   "metadata": {},
   "outputs": [
    {
     "data": {
      "text/plain": [
       "array(['ERROR', 'NEW'], dtype=object)"
      ]
     },
     "execution_count": 8,
     "metadata": {},
     "output_type": "execute_result"
    }
   ],
   "source": [
    "query_error['status_cubeta'].unique()"
   ]
  },
  {
   "cell_type": "markdown",
   "metadata": {},
   "source": [
    "# FILTRAR INFORMACION DE ACUERDO AL MES EN CURSO "
   ]
  },
  {
   "cell_type": "code",
   "execution_count": 9,
   "metadata": {},
   "outputs": [
    {
     "name": "stderr",
     "output_type": "stream",
     "text": [
      "C:\\Users\\Cristian.Aparicio\\AppData\\Local\\Temp\\ipykernel_5380\\3502651561.py:2: SettingWithCopyWarning: \n",
      "A value is trying to be set on a copy of a slice from a DataFrame\n",
      "\n",
      "See the caveats in the documentation: https://pandas.pydata.org/pandas-docs/stable/user_guide/indexing.html#returning-a-view-versus-a-copy\n",
      "  query_error_current_month.sort_values(by=['day'],inplace=True)\n"
     ]
    },
    {
     "data": {
      "text/html": [
       "<div>\n",
       "<style scoped>\n",
       "    .dataframe tbody tr th:only-of-type {\n",
       "        vertical-align: middle;\n",
       "    }\n",
       "\n",
       "    .dataframe tbody tr th {\n",
       "        vertical-align: top;\n",
       "    }\n",
       "\n",
       "    .dataframe thead th {\n",
       "        text-align: right;\n",
       "    }\n",
       "</style>\n",
       "<table border=\"1\" class=\"dataframe\">\n",
       "  <thead>\n",
       "    <tr style=\"text-align: right;\">\n",
       "      <th></th>\n",
       "      <th>Unnamed: 0</th>\n",
       "      <th>merchant_id</th>\n",
       "      <th>merchant_name</th>\n",
       "      <th>report_id</th>\n",
       "      <th>report_date_local</th>\n",
       "      <th>amount</th>\n",
       "      <th>status</th>\n",
       "      <th>error_description</th>\n",
       "      <th>ultimo_mov</th>\n",
       "      <th>month</th>\n",
       "      <th>year</th>\n",
       "      <th>status_cubeta</th>\n",
       "      <th>esquema_query</th>\n",
       "      <th>merchant_id_query</th>\n",
       "      <th>ultimo_mov_date_only</th>\n",
       "      <th>day</th>\n",
       "      <th>mes_cierre</th>\n",
       "    </tr>\n",
       "  </thead>\n",
       "  <tbody>\n",
       "    <tr>\n",
       "      <th>139442</th>\n",
       "      <td>139442</td>\n",
       "      <td>3718ec56-c655-4122-b559-bcf6f18ea5eb</td>\n",
       "      <td>NaN</td>\n",
       "      <td>AP4HK3FDY</td>\n",
       "      <td>2023-10-01</td>\n",
       "      <td>134.15</td>\n",
       "      <td>ERROR</td>\n",
       "      <td>Bank account information not available</td>\n",
       "      <td>2023-10-01</td>\n",
       "      <td>10</td>\n",
       "      <td>2023</td>\n",
       "      <td>NEW</td>\n",
       "      <td>SIN_CLABE</td>\n",
       "      <td>3718ec56-c655-4122-b559-bcf6f18ea5eb</td>\n",
       "      <td>2023-10-01</td>\n",
       "      <td>1</td>\n",
       "      <td>Actual</td>\n",
       "    </tr>\n",
       "    <tr>\n",
       "      <th>139312</th>\n",
       "      <td>139312</td>\n",
       "      <td>259bc94a-ee94-4a2e-830e-f524ca57544f</td>\n",
       "      <td>NaN</td>\n",
       "      <td>AR7C8922Y</td>\n",
       "      <td>2023-10-01</td>\n",
       "      <td>0.95</td>\n",
       "      <td>ERROR</td>\n",
       "      <td>Bank account information not available</td>\n",
       "      <td>2023-10-01</td>\n",
       "      <td>10</td>\n",
       "      <td>2023</td>\n",
       "      <td>NEW</td>\n",
       "      <td>SIN_CLABE</td>\n",
       "      <td>259bc94a-ee94-4a2e-830e-f524ca57544f</td>\n",
       "      <td>2023-10-01</td>\n",
       "      <td>1</td>\n",
       "      <td>Actual</td>\n",
       "    </tr>\n",
       "    <tr>\n",
       "      <th>139422</th>\n",
       "      <td>139422</td>\n",
       "      <td>6b4cf764-fdbf-4538-9695-a14de77c93d1</td>\n",
       "      <td>NaN</td>\n",
       "      <td>APR86ZNDT</td>\n",
       "      <td>2023-10-01</td>\n",
       "      <td>75.71</td>\n",
       "      <td>ERROR</td>\n",
       "      <td>Bank account information not available</td>\n",
       "      <td>2023-10-01</td>\n",
       "      <td>10</td>\n",
       "      <td>2023</td>\n",
       "      <td>NEW</td>\n",
       "      <td>SIN_CLABE</td>\n",
       "      <td>6b4cf764-fdbf-4538-9695-a14de77c93d1</td>\n",
       "      <td>2023-10-01</td>\n",
       "      <td>1</td>\n",
       "      <td>Actual</td>\n",
       "    </tr>\n",
       "    <tr>\n",
       "      <th>139448</th>\n",
       "      <td>139448</td>\n",
       "      <td>5000090d-1974-4b11-a3a9-afd6d722edf6</td>\n",
       "      <td>NaN</td>\n",
       "      <td>AXLD2T7C8</td>\n",
       "      <td>2023-10-01</td>\n",
       "      <td>397.67</td>\n",
       "      <td>ERROR</td>\n",
       "      <td>Bank account information not available</td>\n",
       "      <td>2023-10-01</td>\n",
       "      <td>10</td>\n",
       "      <td>2023</td>\n",
       "      <td>NEW</td>\n",
       "      <td>SIN_CLABE</td>\n",
       "      <td>5000090d-1974-4b11-a3a9-afd6d722edf6</td>\n",
       "      <td>2023-10-01</td>\n",
       "      <td>1</td>\n",
       "      <td>Actual</td>\n",
       "    </tr>\n",
       "    <tr>\n",
       "      <th>139423</th>\n",
       "      <td>139423</td>\n",
       "      <td>76ff7d54-d0eb-4a0f-ba3f-6ead842d55d4</td>\n",
       "      <td>NaN</td>\n",
       "      <td>AP72KHPLY</td>\n",
       "      <td>2023-10-01</td>\n",
       "      <td>284.62</td>\n",
       "      <td>ERROR</td>\n",
       "      <td>Bank account information not available</td>\n",
       "      <td>2023-10-01</td>\n",
       "      <td>10</td>\n",
       "      <td>2023</td>\n",
       "      <td>NEW</td>\n",
       "      <td>SIN_CLABE</td>\n",
       "      <td>76ff7d54-d0eb-4a0f-ba3f-6ead842d55d4</td>\n",
       "      <td>2023-10-01</td>\n",
       "      <td>1</td>\n",
       "      <td>Actual</td>\n",
       "    </tr>\n",
       "  </tbody>\n",
       "</table>\n",
       "</div>"
      ],
      "text/plain": [
       "        Unnamed: 0                           merchant_id merchant_name  \\\n",
       "139442      139442  3718ec56-c655-4122-b559-bcf6f18ea5eb           NaN   \n",
       "139312      139312  259bc94a-ee94-4a2e-830e-f524ca57544f           NaN   \n",
       "139422      139422  6b4cf764-fdbf-4538-9695-a14de77c93d1           NaN   \n",
       "139448      139448  5000090d-1974-4b11-a3a9-afd6d722edf6           NaN   \n",
       "139423      139423  76ff7d54-d0eb-4a0f-ba3f-6ead842d55d4           NaN   \n",
       "\n",
       "        report_id report_date_local  amount status  \\\n",
       "139442  AP4HK3FDY        2023-10-01  134.15  ERROR   \n",
       "139312  AR7C8922Y        2023-10-01    0.95  ERROR   \n",
       "139422  APR86ZNDT        2023-10-01   75.71  ERROR   \n",
       "139448  AXLD2T7C8        2023-10-01  397.67  ERROR   \n",
       "139423  AP72KHPLY        2023-10-01  284.62  ERROR   \n",
       "\n",
       "                             error_description ultimo_mov  month  year  \\\n",
       "139442  Bank account information not available 2023-10-01     10  2023   \n",
       "139312  Bank account information not available 2023-10-01     10  2023   \n",
       "139422  Bank account information not available 2023-10-01     10  2023   \n",
       "139448  Bank account information not available 2023-10-01     10  2023   \n",
       "139423  Bank account information not available 2023-10-01     10  2023   \n",
       "\n",
       "       status_cubeta esquema_query                     merchant_id_query  \\\n",
       "139442           NEW     SIN_CLABE  3718ec56-c655-4122-b559-bcf6f18ea5eb   \n",
       "139312           NEW     SIN_CLABE  259bc94a-ee94-4a2e-830e-f524ca57544f   \n",
       "139422           NEW     SIN_CLABE  6b4cf764-fdbf-4538-9695-a14de77c93d1   \n",
       "139448           NEW     SIN_CLABE  5000090d-1974-4b11-a3a9-afd6d722edf6   \n",
       "139423           NEW     SIN_CLABE  76ff7d54-d0eb-4a0f-ba3f-6ead842d55d4   \n",
       "\n",
       "       ultimo_mov_date_only  day mes_cierre  \n",
       "139442           2023-10-01    1     Actual  \n",
       "139312           2023-10-01    1     Actual  \n",
       "139422           2023-10-01    1     Actual  \n",
       "139448           2023-10-01    1     Actual  \n",
       "139423           2023-10-01    1     Actual  "
      ]
     },
     "execution_count": 9,
     "metadata": {},
     "output_type": "execute_result"
    }
   ],
   "source": [
    "query_error_current_month = query_error[(query_error['mes_cierre'] == 'Actual')]\n",
    "query_error_current_month.sort_values(by=['day'],inplace=True)\n",
    "query_error_current_month.head()"
   ]
  },
  {
   "cell_type": "code",
   "execution_count": 10,
   "metadata": {},
   "outputs": [
    {
     "data": {
      "text/plain": [
       "(12134, 17)"
      ]
     },
     "execution_count": 10,
     "metadata": {},
     "output_type": "execute_result"
    }
   ],
   "source": [
    "query_error_current_month.shape"
   ]
  },
  {
   "cell_type": "code",
   "execution_count": 11,
   "metadata": {},
   "outputs": [
    {
     "data": {
      "text/plain": [
       "Index(['Unnamed: 0', 'merchant_id', 'merchant_name', 'report_id',\n",
       "       'report_date_local', 'amount', 'status', 'error_description',\n",
       "       'ultimo_mov', 'month', 'year', 'status_cubeta', 'esquema_query',\n",
       "       'merchant_id_query', 'ultimo_mov_date_only', 'day', 'mes_cierre'],\n",
       "      dtype='object')"
      ]
     },
     "execution_count": 11,
     "metadata": {},
     "output_type": "execute_result"
    }
   ],
   "source": [
    "query_error_current_month.columns"
   ]
  },
  {
   "cell_type": "code",
   "execution_count": 12,
   "metadata": {},
   "outputs": [
    {
     "data": {
      "text/html": [
       "<div>\n",
       "<style scoped>\n",
       "    .dataframe tbody tr th:only-of-type {\n",
       "        vertical-align: middle;\n",
       "    }\n",
       "\n",
       "    .dataframe tbody tr th {\n",
       "        vertical-align: top;\n",
       "    }\n",
       "\n",
       "    .dataframe thead th {\n",
       "        text-align: right;\n",
       "    }\n",
       "</style>\n",
       "<table border=\"1\" class=\"dataframe\">\n",
       "  <thead>\n",
       "    <tr style=\"text-align: right;\">\n",
       "      <th></th>\n",
       "      <th>Unnamed: 0</th>\n",
       "      <th>merchant_id</th>\n",
       "      <th>merchant_name</th>\n",
       "      <th>report_id</th>\n",
       "      <th>report_date_local</th>\n",
       "      <th>amount</th>\n",
       "      <th>status</th>\n",
       "      <th>error_description</th>\n",
       "      <th>ultimo_mov</th>\n",
       "      <th>month</th>\n",
       "      <th>year</th>\n",
       "      <th>status_cubeta</th>\n",
       "      <th>esquema_query</th>\n",
       "      <th>merchant_id_query</th>\n",
       "      <th>ultimo_mov_date_only</th>\n",
       "      <th>day</th>\n",
       "      <th>mes_cierre</th>\n",
       "    </tr>\n",
       "  </thead>\n",
       "  <tbody>\n",
       "  </tbody>\n",
       "</table>\n",
       "</div>"
      ],
      "text/plain": [
       "Empty DataFrame\n",
       "Columns: [Unnamed: 0, merchant_id, merchant_name, report_id, report_date_local, amount, status, error_description, ultimo_mov, month, year, status_cubeta, esquema_query, merchant_id_query, ultimo_mov_date_only, day, mes_cierre]\n",
       "Index: []"
      ]
     },
     "execution_count": 12,
     "metadata": {},
     "output_type": "execute_result"
    }
   ],
   "source": [
    "duplicates_query_error = query_error_current_month[query_error_current_month.duplicated(['report_id'] , keep=False)]\n",
    "duplicates_query_error.head()"
   ]
  },
  {
   "cell_type": "code",
   "execution_count": 13,
   "metadata": {},
   "outputs": [
    {
     "data": {
      "text/plain": [
       "(0, 17)"
      ]
     },
     "execution_count": 13,
     "metadata": {},
     "output_type": "execute_result"
    }
   ],
   "source": [
    "duplicates_query_error.shape"
   ]
  },
  {
   "cell_type": "markdown",
   "metadata": {},
   "source": [
    "# AGRUPADO POR ESQUEMA"
   ]
  },
  {
   "cell_type": "code",
   "execution_count": 14,
   "metadata": {},
   "outputs": [
    {
     "data": {
      "text/html": [
       "<div>\n",
       "<style scoped>\n",
       "    .dataframe tbody tr th:only-of-type {\n",
       "        vertical-align: middle;\n",
       "    }\n",
       "\n",
       "    .dataframe tbody tr th {\n",
       "        vertical-align: top;\n",
       "    }\n",
       "\n",
       "    .dataframe thead tr th {\n",
       "        text-align: left;\n",
       "    }\n",
       "</style>\n",
       "<table border=\"1\" class=\"dataframe\">\n",
       "  <thead>\n",
       "    <tr>\n",
       "      <th></th>\n",
       "      <th>ultimo_mov_date_only</th>\n",
       "      <th colspan=\"4\" halign=\"left\">amount</th>\n",
       "    </tr>\n",
       "    <tr>\n",
       "      <th>esquema_query</th>\n",
       "      <th></th>\n",
       "      <th colspan=\"2\" halign=\"left\">ERROR_USUAL</th>\n",
       "      <th>SIN_CLABE</th>\n",
       "      <th>All</th>\n",
       "    </tr>\n",
       "    <tr>\n",
       "      <th>status_cubeta</th>\n",
       "      <th></th>\n",
       "      <th>ERROR</th>\n",
       "      <th>NEW</th>\n",
       "      <th>NEW</th>\n",
       "      <th></th>\n",
       "    </tr>\n",
       "  </thead>\n",
       "  <tbody>\n",
       "    <tr>\n",
       "      <th>0</th>\n",
       "      <td>2023-10-01</td>\n",
       "      <td>0.00</td>\n",
       "      <td>261,163.72</td>\n",
       "      <td>101,710.60</td>\n",
       "      <td>362,874.32</td>\n",
       "    </tr>\n",
       "    <tr>\n",
       "      <th>1</th>\n",
       "      <td>2023-10-02</td>\n",
       "      <td>3,587.86</td>\n",
       "      <td>292,123.10</td>\n",
       "      <td>54,754.46</td>\n",
       "      <td>350,465.42</td>\n",
       "    </tr>\n",
       "    <tr>\n",
       "      <th>2</th>\n",
       "      <td>2023-10-03</td>\n",
       "      <td>36,013.90</td>\n",
       "      <td>60,358.03</td>\n",
       "      <td>54,723.24</td>\n",
       "      <td>151,095.17</td>\n",
       "    </tr>\n",
       "    <tr>\n",
       "      <th>3</th>\n",
       "      <td>2023-10-04</td>\n",
       "      <td>74,751.71</td>\n",
       "      <td>74,756.30</td>\n",
       "      <td>36,549.40</td>\n",
       "      <td>186,057.41</td>\n",
       "    </tr>\n",
       "    <tr>\n",
       "      <th>4</th>\n",
       "      <td>2023-10-05</td>\n",
       "      <td>33,087.02</td>\n",
       "      <td>75,544.45</td>\n",
       "      <td>44,225.63</td>\n",
       "      <td>152,857.10</td>\n",
       "    </tr>\n",
       "  </tbody>\n",
       "</table>\n",
       "</div>"
      ],
      "text/plain": [
       "              ultimo_mov_date_only      amount                        \\\n",
       "esquema_query                      ERROR_USUAL             SIN_CLABE   \n",
       "status_cubeta                            ERROR        NEW        NEW   \n",
       "0                       2023-10-01        0.00 261,163.72 101,710.60   \n",
       "1                       2023-10-02    3,587.86 292,123.10  54,754.46   \n",
       "2                       2023-10-03   36,013.90  60,358.03  54,723.24   \n",
       "3                       2023-10-04   74,751.71  74,756.30  36,549.40   \n",
       "4                       2023-10-05   33,087.02  75,544.45  44,225.63   \n",
       "\n",
       "                          \n",
       "esquema_query        All  \n",
       "status_cubeta             \n",
       "0             362,874.32  \n",
       "1             350,465.42  \n",
       "2             151,095.17  \n",
       "3             186,057.41  \n",
       "4             152,857.10  "
      ]
     },
     "execution_count": 14,
     "metadata": {},
     "output_type": "execute_result"
    }
   ],
   "source": [
    "group_esquema = pd.pivot_table(query_error_current_month,index=['ultimo_mov_date_only']\n",
    "                                              ,columns=['esquema_query','status_cubeta'],values=['amount']\n",
    "                                              ,aggfunc=np.sum,margins=True).reset_index()\n",
    "group_esquema.fillna(0,inplace=True)\n",
    "group_esquema.head()"
   ]
  },
  {
   "cell_type": "code",
   "execution_count": 15,
   "metadata": {},
   "outputs": [
    {
     "data": {
      "text/plain": [
       "(32, 5)"
      ]
     },
     "execution_count": 15,
     "metadata": {},
     "output_type": "execute_result"
    }
   ],
   "source": [
    "group_esquema.shape"
   ]
  },
  {
   "cell_type": "code",
   "execution_count": 16,
   "metadata": {},
   "outputs": [],
   "source": [
    "writer = pd.ExcelWriter('FASE VI. DATA POLIZA ERROR-SIN CLABE OCTUBRE 2023.xlsx',\n",
    "                        engine='xlsxwriter',\n",
    "                        engine_kwargs={'options': {'encoding':'utf-8'}})\n",
    "group_esquema.to_excel(writer, sheet_name='GRUPO ESQUEMA')\n",
    "query_error_current_month.to_excel(writer, sheet_name='DETALLE',index=False)\n",
    "writer.close()"
   ]
  },
  {
   "cell_type": "code",
   "execution_count": null,
   "metadata": {},
   "outputs": [],
   "source": []
  }
 ],
 "metadata": {
  "kernelspec": {
   "display_name": "Python 3 (ipykernel)",
   "language": "python",
   "name": "python3"
  },
  "language_info": {
   "codemirror_mode": {
    "name": "ipython",
    "version": 3
   },
   "file_extension": ".py",
   "mimetype": "text/x-python",
   "name": "python",
   "nbconvert_exporter": "python",
   "pygments_lexer": "ipython3",
   "version": "3.9.18"
  }
 },
 "nbformat": 4,
 "nbformat_minor": 2
}
