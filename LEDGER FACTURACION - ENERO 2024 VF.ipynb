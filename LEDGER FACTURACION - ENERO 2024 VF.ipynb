{
 "cells": [
  {
   "cell_type": "code",
   "execution_count": 1,
   "id": "21c1c747",
   "metadata": {},
   "outputs": [],
   "source": [
    "import pandas as pd\n",
    "import numpy as np\n",
    "import glob\n",
    "import os\n",
    "from openpyxl import load_workbook\n",
    "pd.options.display.float_format = '{:,.2f}'.format\n",
    "import gc"
   ]
  },
  {
   "cell_type": "code",
   "execution_count": 2,
   "id": "bac3cd3f",
   "metadata": {},
   "outputs": [],
   "source": [
    "start_date_fact = '2024-01-01'\n",
    "final_date_fact = '2024-01-31"
   ]
  },
  {
   "cell_type": "markdown",
   "id": "9df44613",
   "metadata": {},
   "source": [
    "# RUTAS"
   ]
  },
  {
   "cell_type": "markdown",
   "id": "b747f563",
   "metadata": {},
   "source": [
    "### EMAIL"
   ]
  },
  {
   "cell_type": "code",
   "execution_count": 3,
   "id": "350aa41e",
   "metadata": {},
   "outputs": [
    {
     "data": {
      "text/plain": [
       "['G:\\\\My Drive\\\\RESPALDO-PC\\\\DATA EMAILS\\\\MERCHANT_INFO.tsv']"
      ]
     },
     "execution_count": 3,
     "metadata": {},
     "output_type": "execute_result"
    }
   ],
   "source": [
    "email_files = glob.glob(r'G:\\My Drive\\RESPALDO-PC\\DATA EMAILS\\*.tsv', recursive=False)\n",
    "email_files"
   ]
  },
  {
   "cell_type": "markdown",
   "id": "cef36c0e",
   "metadata": {},
   "source": [
    "### SETTLEMENT MASTER LOG"
   ]
  },
  {
   "cell_type": "code",
   "execution_count": 4,
   "id": "38321533",
   "metadata": {},
   "outputs": [
    {
     "data": {
      "text/plain": [
       "['G:\\\\My Drive\\\\RESPALDO-PC\\\\DYNAMO\\\\2024\\\\01. ENERO\\\\SETTLEMENT MASTER LOG\\\\SETTLEMENT_MASTER_LOG_MSI_DATE ENERO 31 2024.tsv',\n",
       " 'G:\\\\My Drive\\\\RESPALDO-PC\\\\DYNAMO\\\\2024\\\\01. ENERO\\\\SETTLEMENT MASTER LOG\\\\SETTLEMENT_MASTER_LOG_MSI_DATE ENERO 11-20 2024.tsv',\n",
       " 'G:\\\\My Drive\\\\RESPALDO-PC\\\\DYNAMO\\\\2024\\\\01. ENERO\\\\SETTLEMENT MASTER LOG\\\\SETTLEMENT_MASTER_LOG_MSI_DATE ENERO 01-10 2024.tsv']"
      ]
     },
     "execution_count": 4,
     "metadata": {},
     "output_type": "execute_result"
    }
   ],
   "source": [
    "sml_files = glob.glob(r'G:\\My Drive\\RESPALDO-PC\\DYNAMO\\2024\\01. ENERO\\SETTLEMENT MASTER LOG\\SETTLEMENT*.tsv', recursive=False)\n",
    "sml_files"
   ]
  },
  {
   "cell_type": "code",
   "execution_count": 5,
   "id": "f5e4eca5",
   "metadata": {},
   "outputs": [],
   "source": [
    "use_cols_sml = ['MVNT_ID','PSP_AMOUNT','GROSS_AMOUNT','FEES','TAXES','NET_AMOUNT','MDR','MSI','NUMBER_MSI','RECEIPT_NO',\n",
    "                'STATUS_CODE','DCC_AMOUNT','DCC_RATE','DCC_STATUS','PYMT_PRG']"
   ]
  },
  {
   "cell_type": "markdown",
   "id": "baf7556d",
   "metadata": {},
   "source": [
    "### AP JOURNAL - TRANSACCIONES"
   ]
  },
  {
   "cell_type": "code",
   "execution_count": 6,
   "id": "932c2ffa",
   "metadata": {},
   "outputs": [
    {
     "data": {
      "text/plain": [
       "['G:\\\\My Drive\\\\RESPALDO-PC\\\\DYNAMO\\\\2024\\\\01. ENERO\\\\AP JOURNAL\\\\FACTURACION\\\\AP-JOURNAL-SETT ENERO 31 2024.tsv',\n",
       " 'G:\\\\My Drive\\\\RESPALDO-PC\\\\DYNAMO\\\\2024\\\\01. ENERO\\\\AP JOURNAL\\\\FACTURACION\\\\AP-JOURNAL-SETT ENERO 21-30 2024.tsv',\n",
       " 'G:\\\\My Drive\\\\RESPALDO-PC\\\\DYNAMO\\\\2024\\\\01. ENERO\\\\AP JOURNAL\\\\FACTURACION\\\\AP-JOURNAL-SETT ENERO 11-20 2024.tsv',\n",
       " 'G:\\\\My Drive\\\\RESPALDO-PC\\\\DYNAMO\\\\2024\\\\01. ENERO\\\\AP JOURNAL\\\\FACTURACION\\\\AP-JOURNAL-SETT ENERO 01-10 2024.tsv']"
      ]
     },
     "execution_count": 6,
     "metadata": {},
     "output_type": "execute_result"
    }
   ],
   "source": [
    "ap_files_sett = glob.glob(r'G:\\My Drive\\RESPALDO-PC\\DYNAMO\\2024\\01. ENERO\\AP JOURNAL\\FACTURACION\\AP-JOURNAL-SETT*.tsv', recursive=False)\n",
    "ap_files_sett"
   ]
  },
  {
   "cell_type": "markdown",
   "id": "b7d32e4a",
   "metadata": {},
   "source": [
    "### AP JOURNAL - CANCELACIONES"
   ]
  },
  {
   "cell_type": "code",
   "execution_count": 7,
   "id": "c6a72136",
   "metadata": {},
   "outputs": [
    {
     "data": {
      "text/plain": [
       "['G:\\\\My Drive\\\\RESPALDO-PC\\\\DYNAMO\\\\2024\\\\01. ENERO\\\\AP JOURNAL\\\\FACTURACION\\\\AP-JOURNAL-CANCEL ENERO 2024.tsv']"
      ]
     },
     "execution_count": 7,
     "metadata": {},
     "output_type": "execute_result"
    }
   ],
   "source": [
    "ap_files_canc = glob.glob(r'G:\\My Drive\\RESPALDO-PC\\DYNAMO\\2024\\01. ENERO\\AP JOURNAL\\FACTURACION\\AP-JOURNAL-CANCEL*.tsv', recursive=False)\n",
    "ap_files_canc"
   ]
  },
  {
   "cell_type": "markdown",
   "id": "5f52f47a",
   "metadata": {},
   "source": [
    "### AP JOURNAL - TOPUPS"
   ]
  },
  {
   "cell_type": "code",
   "execution_count": 8,
   "id": "ec28d157",
   "metadata": {},
   "outputs": [
    {
     "data": {
      "text/plain": [
       "['G:\\\\My Drive\\\\RESPALDO-PC\\\\DYNAMO\\\\2024\\\\01. ENERO\\\\AP JOURNAL\\\\FACTURACION\\\\AP-JOURNAL-TOPUPS ENERO 2024.tsv']"
      ]
     },
     "execution_count": 8,
     "metadata": {},
     "output_type": "execute_result"
    }
   ],
   "source": [
    "ap_files_topups = glob.glob(r'G:\\My Drive\\RESPALDO-PC\\DYNAMO\\2024\\01. ENERO\\AP JOURNAL\\FACTURACION\\AP-JOURNAL-TOPUPS*.tsv', recursive=False)\n",
    "ap_files_topups"
   ]
  },
  {
   "cell_type": "markdown",
   "id": "0e54458a",
   "metadata": {},
   "source": [
    "### AP JOURNAL - BILL PAYMENTS"
   ]
  },
  {
   "cell_type": "code",
   "execution_count": 9,
   "id": "22cd5c4e",
   "metadata": {},
   "outputs": [
    {
     "data": {
      "text/plain": [
       "['G:\\\\My Drive\\\\RESPALDO-PC\\\\DYNAMO\\\\2024\\\\01. ENERO\\\\AP JOURNAL\\\\FACTURACION\\\\AP-JOURNAL-BILL_PAYMENTS ENERO 24.tsv']"
      ]
     },
     "execution_count": 9,
     "metadata": {},
     "output_type": "execute_result"
    }
   ],
   "source": [
    "ap_files_bill_payments = glob.glob(r'G:\\My Drive\\RESPALDO-PC\\DYNAMO\\2024\\01. ENERO\\AP JOURNAL\\FACTURACION\\AP-JOURNAL-BILL*.tsv', recursive=False)\n",
    "ap_files_bill_payments"
   ]
  },
  {
   "cell_type": "markdown",
   "id": "67ec9e25",
   "metadata": {},
   "source": [
    "### AP JOURNAL - CASHBACKS"
   ]
  },
  {
   "cell_type": "code",
   "execution_count": 10,
   "id": "1cd04294",
   "metadata": {},
   "outputs": [
    {
     "data": {
      "text/plain": [
       "['G:\\\\My Drive\\\\RESPALDO-PC\\\\DYNAMO\\\\2024\\\\01. ENERO\\\\AP JOURNAL\\\\FACTURACION\\\\AP-JOURNAL-CASHBACKS ENERO 2024.tsv']"
      ]
     },
     "execution_count": 10,
     "metadata": {},
     "output_type": "execute_result"
    }
   ],
   "source": [
    "ap_files_cashbacks = glob.glob(r'G:\\My Drive\\RESPALDO-PC\\DYNAMO\\2024\\01. ENERO\\AP JOURNAL\\FACTURACION\\AP-JOURNAL-CASHBACKS*.tsv', recursive=False)\n",
    "ap_files_cashbacks"
   ]
  },
  {
   "cell_type": "markdown",
   "id": "84f013a5",
   "metadata": {},
   "source": [
    "# DATA EMAILS"
   ]
  },
  {
   "cell_type": "code",
   "execution_count": 11,
   "id": "2678e682",
   "metadata": {},
   "outputs": [
    {
     "name": "stderr",
     "output_type": "stream",
     "text": [
      "C:\\Users\\Cristian.Aparicio\\AppData\\Local\\Temp\\ipykernel_19592\\1850252706.py:1: DtypeWarning: Columns (6) have mixed types. Specify dtype option on import or set low_memory=False.\n",
      "  email = pd.concat([pd.read_csv(f,sep='\\t').assign(file_name=os.path.basename(f)) for f in email_files])\n"
     ]
    },
    {
     "data": {
      "text/html": [
       "<div>\n",
       "<style scoped>\n",
       "    .dataframe tbody tr th:only-of-type {\n",
       "        vertical-align: middle;\n",
       "    }\n",
       "\n",
       "    .dataframe tbody tr th {\n",
       "        vertical-align: top;\n",
       "    }\n",
       "\n",
       "    .dataframe thead th {\n",
       "        text-align: right;\n",
       "    }\n",
       "</style>\n",
       "<table border=\"1\" class=\"dataframe\">\n",
       "  <thead>\n",
       "    <tr style=\"text-align: right;\">\n",
       "      <th></th>\n",
       "      <th>id</th>\n",
       "      <th>merchant_id</th>\n",
       "      <th>email</th>\n",
       "      <th>merchant_name</th>\n",
       "      <th>state</th>\n",
       "      <th>role</th>\n",
       "      <th>updated_at</th>\n",
       "      <th>file_name</th>\n",
       "    </tr>\n",
       "  </thead>\n",
       "  <tbody>\n",
       "    <tr>\n",
       "      <th>771270</th>\n",
       "      <td>3c2a15f2-b165-45a8-9b93-76d876fca089</td>\n",
       "      <td>0000001a-e7e3-4fcc-9093-27cf0733fa93</td>\n",
       "      <td>korysalomon@gmail.com</td>\n",
       "      <td>EL MUNDO DE LOS LENTES</td>\n",
       "      <td>SUSPENDED</td>\n",
       "      <td>ADMIN</td>\n",
       "      <td>2020-11-12</td>\n",
       "      <td>MERCHANT_INFO.tsv</td>\n",
       "    </tr>\n",
       "    <tr>\n",
       "      <th>356634</th>\n",
       "      <td>67080a7a-20e1-4143-9edf-2a13bfb6feff</td>\n",
       "      <td>0000099a-c4d5-48dc-990b-8f06dbee9af8</td>\n",
       "      <td>rcasahonda81@gmail.com</td>\n",
       "      <td>BAGOURMETTE SUBLIMERIAS</td>\n",
       "      <td>ACTIVATED</td>\n",
       "      <td>ADMIN</td>\n",
       "      <td>2019-06-30</td>\n",
       "      <td>MERCHANT_INFO.tsv</td>\n",
       "    </tr>\n",
       "    <tr>\n",
       "      <th>1013547</th>\n",
       "      <td>e15155f9-b2be-4628-a68d-0045e33d3423</td>\n",
       "      <td>00000cad-bc81-43fe-ba48-7449b30d5c37</td>\n",
       "      <td>libnay21@gmail.com</td>\n",
       "      <td>FERRETERAS CRISTO REY</td>\n",
       "      <td>ACTIVATED</td>\n",
       "      <td>ADMIN</td>\n",
       "      <td>2021-08-05</td>\n",
       "      <td>MERCHANT_INFO.tsv</td>\n",
       "    </tr>\n",
       "    <tr>\n",
       "      <th>1164215</th>\n",
       "      <td>537bc0b4-d0f0-476f-9b86-4cfe44040bf5</td>\n",
       "      <td>00001269-1bce-4cc1-ba64-fb8b7fe4db16</td>\n",
       "      <td>ceballoshumberto93@gmail.com</td>\n",
       "      <td>ROYAL PRESTIGE CEBMA</td>\n",
       "      <td>ACTIVATED</td>\n",
       "      <td>ADMIN</td>\n",
       "      <td>2021-12-16</td>\n",
       "      <td>MERCHANT_INFO.tsv</td>\n",
       "    </tr>\n",
       "    <tr>\n",
       "      <th>224098</th>\n",
       "      <td>7ec397a0-532d-4239-ad5b-5618867e3622</td>\n",
       "      <td>000012b6-a453-4285-9f7f-70a7bf46a4fb</td>\n",
       "      <td>myrna.espinosa@bachoco.net</td>\n",
       "      <td>BACHOCO</td>\n",
       "      <td>SUSPENDED</td>\n",
       "      <td>ADMIN</td>\n",
       "      <td>2018-09-18</td>\n",
       "      <td>MERCHANT_INFO.tsv</td>\n",
       "    </tr>\n",
       "  </tbody>\n",
       "</table>\n",
       "</div>"
      ],
      "text/plain": [
       "                                           id  \\\n",
       "771270   3c2a15f2-b165-45a8-9b93-76d876fca089   \n",
       "356634   67080a7a-20e1-4143-9edf-2a13bfb6feff   \n",
       "1013547  e15155f9-b2be-4628-a68d-0045e33d3423   \n",
       "1164215  537bc0b4-d0f0-476f-9b86-4cfe44040bf5   \n",
       "224098   7ec397a0-532d-4239-ad5b-5618867e3622   \n",
       "\n",
       "                                  merchant_id                         email  \\\n",
       "771270   0000001a-e7e3-4fcc-9093-27cf0733fa93         korysalomon@gmail.com   \n",
       "356634   0000099a-c4d5-48dc-990b-8f06dbee9af8        rcasahonda81@gmail.com   \n",
       "1013547  00000cad-bc81-43fe-ba48-7449b30d5c37            libnay21@gmail.com   \n",
       "1164215  00001269-1bce-4cc1-ba64-fb8b7fe4db16  ceballoshumberto93@gmail.com   \n",
       "224098   000012b6-a453-4285-9f7f-70a7bf46a4fb    myrna.espinosa@bachoco.net   \n",
       "\n",
       "                    merchant_name      state   role  updated_at  \\\n",
       "771270     EL MUNDO DE LOS LENTES  SUSPENDED  ADMIN  2020-11-12   \n",
       "356634   BAGOURMETTE SUBLIMERIAS   ACTIVATED  ADMIN  2019-06-30   \n",
       "1013547     FERRETERAS CRISTO REY  ACTIVATED  ADMIN  2021-08-05   \n",
       "1164215      ROYAL PRESTIGE CEBMA  ACTIVATED  ADMIN  2021-12-16   \n",
       "224098                    BACHOCO  SUSPENDED  ADMIN  2018-09-18   \n",
       "\n",
       "                 file_name  \n",
       "771270   MERCHANT_INFO.tsv  \n",
       "356634   MERCHANT_INFO.tsv  \n",
       "1013547  MERCHANT_INFO.tsv  \n",
       "1164215  MERCHANT_INFO.tsv  \n",
       "224098   MERCHANT_INFO.tsv  "
      ]
     },
     "execution_count": 11,
     "metadata": {},
     "output_type": "execute_result"
    }
   ],
   "source": [
    "email = pd.concat([pd.read_csv(f,sep='\\t').assign(file_name=os.path.basename(f)) for f in email_files])\n",
    "email.columns = email.columns.str.strip().str.lower()\n",
    "email['email'] = email['email'].str.lower()\n",
    "email['merchant_name'].fillna('NULL',inplace=True)\n",
    "email.sort_values(by=(['merchant_id','updated_at']), ascending=[True,False], inplace=True)\n",
    "email.head()"
   ]
  },
  {
   "cell_type": "code",
   "execution_count": 12,
   "id": "e67085b7",
   "metadata": {},
   "outputs": [
    {
     "data": {
      "text/plain": [
       "(2405295, 8)"
      ]
     },
     "execution_count": 12,
     "metadata": {},
     "output_type": "execute_result"
    }
   ],
   "source": [
    "email.shape"
   ]
  },
  {
   "cell_type": "code",
   "execution_count": 13,
   "id": "9a5289be",
   "metadata": {},
   "outputs": [
    {
     "data": {
      "text/html": [
       "<div>\n",
       "<style scoped>\n",
       "    .dataframe tbody tr th:only-of-type {\n",
       "        vertical-align: middle;\n",
       "    }\n",
       "\n",
       "    .dataframe tbody tr th {\n",
       "        vertical-align: top;\n",
       "    }\n",
       "\n",
       "    .dataframe thead th {\n",
       "        text-align: right;\n",
       "    }\n",
       "</style>\n",
       "<table border=\"1\" class=\"dataframe\">\n",
       "  <thead>\n",
       "    <tr style=\"text-align: right;\">\n",
       "      <th></th>\n",
       "      <th>id</th>\n",
       "      <th>merchant_id</th>\n",
       "      <th>email</th>\n",
       "      <th>merchant_name</th>\n",
       "      <th>state</th>\n",
       "      <th>role</th>\n",
       "      <th>updated_at</th>\n",
       "      <th>file_name</th>\n",
       "    </tr>\n",
       "  </thead>\n",
       "  <tbody>\n",
       "    <tr>\n",
       "      <th>2314158</th>\n",
       "      <td>3b7d576f-d314-42a1-a401-350dee496741</td>\n",
       "      <td>08c6cd82-668f-4394-9749-5a2a718d4630</td>\n",
       "      <td>teamtaack@gmail.com</td>\n",
       "      <td>TEAMTAACK@GMAIL.COM</td>\n",
       "      <td>VALIDATED</td>\n",
       "      <td>ADMIN</td>\n",
       "      <td>NaN</td>\n",
       "      <td>MERCHANT_INFO.tsv</td>\n",
       "    </tr>\n",
       "    <tr>\n",
       "      <th>2314159</th>\n",
       "      <td>76988280-87bf-4922-bb07-a32b150e92cb</td>\n",
       "      <td>08c6cd82-668f-4394-9749-5a2a718d4630</td>\n",
       "      <td>teamtaack@gmail.com</td>\n",
       "      <td>TEAMTAACK@GMAIL.COM</td>\n",
       "      <td>VALIDATED</td>\n",
       "      <td>ADMIN</td>\n",
       "      <td>NaN</td>\n",
       "      <td>MERCHANT_INFO.tsv</td>\n",
       "    </tr>\n",
       "    <tr>\n",
       "      <th>2316850</th>\n",
       "      <td>748184d5-77d6-4275-984b-b56b05bde583</td>\n",
       "      <td>1bf92d87-6f48-46df-a6ed-c8fb0b0bdbc0</td>\n",
       "      <td>diazderyan@gmail.com</td>\n",
       "      <td>DIAZDERYAN@GMAIL.COM</td>\n",
       "      <td>VALIDATED</td>\n",
       "      <td>ADMIN</td>\n",
       "      <td>NaN</td>\n",
       "      <td>MERCHANT_INFO.tsv</td>\n",
       "    </tr>\n",
       "    <tr>\n",
       "      <th>2316876</th>\n",
       "      <td>b9e46ccc-4665-45af-88f8-0a350fe36d58</td>\n",
       "      <td>1bf92d87-6f48-46df-a6ed-c8fb0b0bdbc0</td>\n",
       "      <td>diazderyan@gmail.com</td>\n",
       "      <td>DIAZDERYAN@GMAIL.COM</td>\n",
       "      <td>VALIDATED</td>\n",
       "      <td>ADMIN</td>\n",
       "      <td>NaN</td>\n",
       "      <td>MERCHANT_INFO.tsv</td>\n",
       "    </tr>\n",
       "    <tr>\n",
       "      <th>2343104</th>\n",
       "      <td>007994df-4d86-465b-85b9-5d39523b048f</td>\n",
       "      <td>209ea42c-8b20-4a5e-978c-7c6ecc9a9487</td>\n",
       "      <td>ivanreyeshernandez2@gmail.com</td>\n",
       "      <td>IVANREYESHERNANDEZ2@GMAIL.COM</td>\n",
       "      <td>VALIDATED</td>\n",
       "      <td>ADMIN</td>\n",
       "      <td>NaN</td>\n",
       "      <td>MERCHANT_INFO.tsv</td>\n",
       "    </tr>\n",
       "  </tbody>\n",
       "</table>\n",
       "</div>"
      ],
      "text/plain": [
       "                                           id  \\\n",
       "2314158  3b7d576f-d314-42a1-a401-350dee496741   \n",
       "2314159  76988280-87bf-4922-bb07-a32b150e92cb   \n",
       "2316850  748184d5-77d6-4275-984b-b56b05bde583   \n",
       "2316876  b9e46ccc-4665-45af-88f8-0a350fe36d58   \n",
       "2343104  007994df-4d86-465b-85b9-5d39523b048f   \n",
       "\n",
       "                                  merchant_id                          email  \\\n",
       "2314158  08c6cd82-668f-4394-9749-5a2a718d4630            teamtaack@gmail.com   \n",
       "2314159  08c6cd82-668f-4394-9749-5a2a718d4630            teamtaack@gmail.com   \n",
       "2316850  1bf92d87-6f48-46df-a6ed-c8fb0b0bdbc0           diazderyan@gmail.com   \n",
       "2316876  1bf92d87-6f48-46df-a6ed-c8fb0b0bdbc0           diazderyan@gmail.com   \n",
       "2343104  209ea42c-8b20-4a5e-978c-7c6ecc9a9487  ivanreyeshernandez2@gmail.com   \n",
       "\n",
       "                         merchant_name      state   role updated_at  \\\n",
       "2314158            TEAMTAACK@GMAIL.COM  VALIDATED  ADMIN        NaN   \n",
       "2314159            TEAMTAACK@GMAIL.COM  VALIDATED  ADMIN        NaN   \n",
       "2316850           DIAZDERYAN@GMAIL.COM  VALIDATED  ADMIN        NaN   \n",
       "2316876           DIAZDERYAN@GMAIL.COM  VALIDATED  ADMIN        NaN   \n",
       "2343104  IVANREYESHERNANDEZ2@GMAIL.COM  VALIDATED  ADMIN        NaN   \n",
       "\n",
       "                 file_name  \n",
       "2314158  MERCHANT_INFO.tsv  \n",
       "2314159  MERCHANT_INFO.tsv  \n",
       "2316850  MERCHANT_INFO.tsv  \n",
       "2316876  MERCHANT_INFO.tsv  \n",
       "2343104  MERCHANT_INFO.tsv  "
      ]
     },
     "execution_count": 13,
     "metadata": {},
     "output_type": "execute_result"
    }
   ],
   "source": [
    "duplicates_email = email[email.duplicated(['merchant_id'] , keep=False)]\n",
    "duplicates_email.head()"
   ]
  },
  {
   "cell_type": "code",
   "execution_count": 14,
   "id": "f8d1f130",
   "metadata": {},
   "outputs": [
    {
     "data": {
      "text/plain": [
       "(25, 8)"
      ]
     },
     "execution_count": 14,
     "metadata": {},
     "output_type": "execute_result"
    }
   ],
   "source": [
    "duplicates_email.shape"
   ]
  },
  {
   "cell_type": "code",
   "execution_count": 15,
   "id": "f530f95a-aa05-4cff-a921-f8c0e945c80e",
   "metadata": {},
   "outputs": [
    {
     "data": {
      "text/plain": [
       "array(['VALIDATED', 'ACTIVATED'], dtype=object)"
      ]
     },
     "execution_count": 15,
     "metadata": {},
     "output_type": "execute_result"
    }
   ],
   "source": [
    "duplicates_email['state'].unique()"
   ]
  },
  {
   "cell_type": "code",
   "execution_count": 16,
   "id": "836a079e",
   "metadata": {},
   "outputs": [],
   "source": [
    "email.drop_duplicates(subset='merchant_id', keep='first', inplace=True)"
   ]
  },
  {
   "cell_type": "code",
   "execution_count": 17,
   "id": "87505cbd",
   "metadata": {},
   "outputs": [
    {
     "data": {
      "text/plain": [
       "(2405282, 8)"
      ]
     },
     "execution_count": 17,
     "metadata": {},
     "output_type": "execute_result"
    }
   ],
   "source": [
    "email.shape"
   ]
  },
  {
   "cell_type": "markdown",
   "id": "bf9da3cf",
   "metadata": {},
   "source": [
    "# DATA SETTLEMENT MASTER LOG"
   ]
  },
  {
   "cell_type": "code",
   "execution_count": 18,
   "id": "27c65ab3",
   "metadata": {},
   "outputs": [
    {
     "data": {
      "text/html": [
       "<div>\n",
       "<style scoped>\n",
       "    .dataframe tbody tr th:only-of-type {\n",
       "        vertical-align: middle;\n",
       "    }\n",
       "\n",
       "    .dataframe tbody tr th {\n",
       "        vertical-align: top;\n",
       "    }\n",
       "\n",
       "    .dataframe thead th {\n",
       "        text-align: right;\n",
       "    }\n",
       "</style>\n",
       "<table border=\"1\" class=\"dataframe\">\n",
       "  <thead>\n",
       "    <tr style=\"text-align: right;\">\n",
       "      <th></th>\n",
       "      <th>mvnt_id</th>\n",
       "      <th>pymt_prg</th>\n",
       "      <th>psp_amount</th>\n",
       "      <th>gross_amount</th>\n",
       "      <th>fees</th>\n",
       "      <th>taxes</th>\n",
       "      <th>net_amount</th>\n",
       "      <th>mdr</th>\n",
       "      <th>msi</th>\n",
       "      <th>number_msi</th>\n",
       "      <th>status_code</th>\n",
       "      <th>receipt_no</th>\n",
       "      <th>dcc_amount</th>\n",
       "      <th>dcc_rate</th>\n",
       "      <th>dcc_status</th>\n",
       "      <th>file_name</th>\n",
       "    </tr>\n",
       "  </thead>\n",
       "  <tbody>\n",
       "    <tr>\n",
       "      <th>0</th>\n",
       "      <td>38034f2f-9e40-4900-88ad-f1df575ba9bd</td>\n",
       "      <td>DIGITAL_ACCOUNT</td>\n",
       "      <td>88.00</td>\n",
       "      <td>88.00</td>\n",
       "      <td>3.17</td>\n",
       "      <td>0.51</td>\n",
       "      <td>84.32</td>\n",
       "      <td>0.04</td>\n",
       "      <td>0.00</td>\n",
       "      <td>0.00</td>\n",
       "      <td>1.00</td>\n",
       "      <td>gqIe5sb</td>\n",
       "      <td>NaN</td>\n",
       "      <td>NaN</td>\n",
       "      <td>NaN</td>\n",
       "      <td>SETTLEMENT_MASTER_LOG_MSI_DATE ENERO 31 2024.tsv</td>\n",
       "    </tr>\n",
       "    <tr>\n",
       "      <th>1</th>\n",
       "      <td>e6d80dd9-db62-4f3a-a424-cc6e2f3b30f9</td>\n",
       "      <td>FAST_PAYMENT</td>\n",
       "      <td>65.00</td>\n",
       "      <td>65.00</td>\n",
       "      <td>2.34</td>\n",
       "      <td>0.37</td>\n",
       "      <td>62.29</td>\n",
       "      <td>0.04</td>\n",
       "      <td>0.00</td>\n",
       "      <td>0.00</td>\n",
       "      <td>1.00</td>\n",
       "      <td>hj8ZGrf</td>\n",
       "      <td>NaN</td>\n",
       "      <td>NaN</td>\n",
       "      <td>NaN</td>\n",
       "      <td>SETTLEMENT_MASTER_LOG_MSI_DATE ENERO 31 2024.tsv</td>\n",
       "    </tr>\n",
       "    <tr>\n",
       "      <th>2</th>\n",
       "      <td>fe6d7494-09ef-4d02-9b92-cec1ebe8210f</td>\n",
       "      <td>FAST_PAYMENT</td>\n",
       "      <td>1,200.00</td>\n",
       "      <td>1,200.00</td>\n",
       "      <td>43.20</td>\n",
       "      <td>6.91</td>\n",
       "      <td>1,149.89</td>\n",
       "      <td>0.04</td>\n",
       "      <td>0.00</td>\n",
       "      <td>0.00</td>\n",
       "      <td>1.00</td>\n",
       "      <td>Omw9oSY</td>\n",
       "      <td>NaN</td>\n",
       "      <td>NaN</td>\n",
       "      <td>NaN</td>\n",
       "      <td>SETTLEMENT_MASTER_LOG_MSI_DATE ENERO 31 2024.tsv</td>\n",
       "    </tr>\n",
       "    <tr>\n",
       "      <th>3</th>\n",
       "      <td>95cf9ee9-9241-44c9-8e95-38865b42f46b</td>\n",
       "      <td>FAST_PAYMENT</td>\n",
       "      <td>3,700.00</td>\n",
       "      <td>3,700.00</td>\n",
       "      <td>133.20</td>\n",
       "      <td>21.31</td>\n",
       "      <td>3,545.49</td>\n",
       "      <td>0.04</td>\n",
       "      <td>0.00</td>\n",
       "      <td>0.00</td>\n",
       "      <td>1.00</td>\n",
       "      <td>5HD3Dsi</td>\n",
       "      <td>NaN</td>\n",
       "      <td>NaN</td>\n",
       "      <td>NaN</td>\n",
       "      <td>SETTLEMENT_MASTER_LOG_MSI_DATE ENERO 31 2024.tsv</td>\n",
       "    </tr>\n",
       "    <tr>\n",
       "      <th>4</th>\n",
       "      <td>0b325a54-ea38-461b-9217-f9cef6f8ff03</td>\n",
       "      <td>REGULAR_PAYMENT</td>\n",
       "      <td>116.50</td>\n",
       "      <td>116.50</td>\n",
       "      <td>4.19</td>\n",
       "      <td>0.67</td>\n",
       "      <td>111.64</td>\n",
       "      <td>0.04</td>\n",
       "      <td>0.00</td>\n",
       "      <td>0.00</td>\n",
       "      <td>1.00</td>\n",
       "      <td>Nadh4wy</td>\n",
       "      <td>NaN</td>\n",
       "      <td>NaN</td>\n",
       "      <td>NaN</td>\n",
       "      <td>SETTLEMENT_MASTER_LOG_MSI_DATE ENERO 31 2024.tsv</td>\n",
       "    </tr>\n",
       "  </tbody>\n",
       "</table>\n",
       "</div>"
      ],
      "text/plain": [
       "                                mvnt_id         pymt_prg  psp_amount  \\\n",
       "0  38034f2f-9e40-4900-88ad-f1df575ba9bd  DIGITAL_ACCOUNT       88.00   \n",
       "1  e6d80dd9-db62-4f3a-a424-cc6e2f3b30f9     FAST_PAYMENT       65.00   \n",
       "2  fe6d7494-09ef-4d02-9b92-cec1ebe8210f     FAST_PAYMENT    1,200.00   \n",
       "3  95cf9ee9-9241-44c9-8e95-38865b42f46b     FAST_PAYMENT    3,700.00   \n",
       "4  0b325a54-ea38-461b-9217-f9cef6f8ff03  REGULAR_PAYMENT      116.50   \n",
       "\n",
       "   gross_amount   fees  taxes  net_amount  mdr  msi  number_msi  status_code  \\\n",
       "0         88.00   3.17   0.51       84.32 0.04 0.00        0.00         1.00   \n",
       "1         65.00   2.34   0.37       62.29 0.04 0.00        0.00         1.00   \n",
       "2      1,200.00  43.20   6.91    1,149.89 0.04 0.00        0.00         1.00   \n",
       "3      3,700.00 133.20  21.31    3,545.49 0.04 0.00        0.00         1.00   \n",
       "4        116.50   4.19   0.67      111.64 0.04 0.00        0.00         1.00   \n",
       "\n",
       "  receipt_no  dcc_amount  dcc_rate dcc_status  \\\n",
       "0    gqIe5sb         NaN       NaN        NaN   \n",
       "1    hj8ZGrf         NaN       NaN        NaN   \n",
       "2    Omw9oSY         NaN       NaN        NaN   \n",
       "3    5HD3Dsi         NaN       NaN        NaN   \n",
       "4    Nadh4wy         NaN       NaN        NaN   \n",
       "\n",
       "                                          file_name  \n",
       "0  SETTLEMENT_MASTER_LOG_MSI_DATE ENERO 31 2024.tsv  \n",
       "1  SETTLEMENT_MASTER_LOG_MSI_DATE ENERO 31 2024.tsv  \n",
       "2  SETTLEMENT_MASTER_LOG_MSI_DATE ENERO 31 2024.tsv  \n",
       "3  SETTLEMENT_MASTER_LOG_MSI_DATE ENERO 31 2024.tsv  \n",
       "4  SETTLEMENT_MASTER_LOG_MSI_DATE ENERO 31 2024.tsv  "
      ]
     },
     "execution_count": 18,
     "metadata": {},
     "output_type": "execute_result"
    }
   ],
   "source": [
    "sml = pd.concat([pd.read_csv(f,sep='\\t',usecols=use_cols_sml).assign(file_name=os.path.basename(f)) for f in sml_files])\n",
    "sml.columns = sml.columns.str.strip().str.lower()\n",
    "sml.replace('\"\"','', regex=True, inplace=True)\n",
    "# sml['created_at'] = pd.to_datetime(sml['created_at']).dt.tz_localize(None)\n",
    "# sml['eff_dt'] = pd.to_datetime(sml['eff_dt']).dt.tz_localize(None)\n",
    "# sml.rename(columns={'ref_id':'transaction_id'},inplace=True)\n",
    "#sml['PK'] = sml['PK'].replace('M#','',inplace=True)\n",
    "sml.head()"
   ]
  },
  {
   "cell_type": "code",
   "execution_count": 19,
   "id": "bb5c429d",
   "metadata": {},
   "outputs": [
    {
     "data": {
      "text/plain": [
       "(15830410, 16)"
      ]
     },
     "execution_count": 19,
     "metadata": {},
     "output_type": "execute_result"
    }
   ],
   "source": [
    "sml.shape"
   ]
  },
  {
   "cell_type": "code",
   "execution_count": 20,
   "id": "aae153e9",
   "metadata": {},
   "outputs": [
    {
     "data": {
      "text/plain": [
       "mvnt_id          object\n",
       "pymt_prg         object\n",
       "psp_amount      float64\n",
       "gross_amount    float64\n",
       "fees            float64\n",
       "taxes           float64\n",
       "net_amount      float64\n",
       "mdr             float64\n",
       "msi             float64\n",
       "number_msi      float64\n",
       "status_code     float64\n",
       "receipt_no       object\n",
       "dcc_amount      float64\n",
       "dcc_rate        float64\n",
       "dcc_status       object\n",
       "file_name        object\n",
       "dtype: object"
      ]
     },
     "execution_count": 20,
     "metadata": {},
     "output_type": "execute_result"
    }
   ],
   "source": [
    "sml.dtypes"
   ]
  },
  {
   "cell_type": "code",
   "execution_count": 21,
   "id": "0aee293f",
   "metadata": {},
   "outputs": [],
   "source": [
    "sml_final = sml"
   ]
  },
  {
   "cell_type": "code",
   "execution_count": 22,
   "id": "f0afff80",
   "metadata": {},
   "outputs": [
    {
     "data": {
      "text/plain": [
       "(15830410, 16)"
      ]
     },
     "execution_count": 22,
     "metadata": {},
     "output_type": "execute_result"
    }
   ],
   "source": [
    "sml_final.shape"
   ]
  },
  {
   "cell_type": "code",
   "execution_count": 23,
   "id": "6726a9eb",
   "metadata": {},
   "outputs": [
    {
     "data": {
      "text/plain": [
       "array([0.    , 0.045 , 0.1195, 0.075 , 0.0685, 0.099 , 0.223 , 0.03  ,\n",
       "       0.0672, 0.044 , 0.177 , 0.1136, 0.0892, 0.042 , 0.095 , 0.07  ,\n",
       "       0.0385, 0.0725, 0.04  , 0.0405, 0.096 , 0.072 , 0.1165, 0.094 ,\n",
       "       0.12  ])"
      ]
     },
     "execution_count": 23,
     "metadata": {},
     "output_type": "execute_result"
    }
   ],
   "source": [
    "sml_final['msi'].unique()"
   ]
  },
  {
   "cell_type": "code",
   "execution_count": 24,
   "id": "3e1b93c2",
   "metadata": {},
   "outputs": [
    {
     "data": {
      "text/plain": [
       "array([0.036 , 0.025 , 0.031 , 0.026 , 0.033 , 0.03  , 0.029 , 0.028 ,\n",
       "       0.032 , 0.023 , 0.016 , 0.024 , 0.022 , 0.027 , 0.0303, 0.035 ,\n",
       "       0.0295, 0.    , 0.0265, 0.034 , 0.0335, 0.0325, 0.012 ])"
      ]
     },
     "execution_count": 24,
     "metadata": {},
     "output_type": "execute_result"
    }
   ],
   "source": [
    "sml_final['mdr'].unique()"
   ]
  },
  {
   "cell_type": "code",
   "execution_count": 25,
   "id": "3a71f873",
   "metadata": {},
   "outputs": [
    {
     "data": {
      "text/html": [
       "<div>\n",
       "<style scoped>\n",
       "    .dataframe tbody tr th:only-of-type {\n",
       "        vertical-align: middle;\n",
       "    }\n",
       "\n",
       "    .dataframe tbody tr th {\n",
       "        vertical-align: top;\n",
       "    }\n",
       "\n",
       "    .dataframe thead th {\n",
       "        text-align: right;\n",
       "    }\n",
       "</style>\n",
       "<table border=\"1\" class=\"dataframe\">\n",
       "  <thead>\n",
       "    <tr style=\"text-align: right;\">\n",
       "      <th></th>\n",
       "      <th>mvnt_id</th>\n",
       "      <th>pymt_prg</th>\n",
       "      <th>psp_amount</th>\n",
       "      <th>gross_amount</th>\n",
       "      <th>fees</th>\n",
       "      <th>taxes</th>\n",
       "      <th>net_amount</th>\n",
       "      <th>mdr</th>\n",
       "      <th>msi</th>\n",
       "      <th>number_msi</th>\n",
       "      <th>status_code</th>\n",
       "      <th>receipt_no</th>\n",
       "      <th>dcc_amount</th>\n",
       "      <th>dcc_rate</th>\n",
       "      <th>dcc_status</th>\n",
       "      <th>file_name</th>\n",
       "    </tr>\n",
       "  </thead>\n",
       "  <tbody>\n",
       "  </tbody>\n",
       "</table>\n",
       "</div>"
      ],
      "text/plain": [
       "Empty DataFrame\n",
       "Columns: [mvnt_id, pymt_prg, psp_amount, gross_amount, fees, taxes, net_amount, mdr, msi, number_msi, status_code, receipt_no, dcc_amount, dcc_rate, dcc_status, file_name]\n",
       "Index: []"
      ]
     },
     "execution_count": 25,
     "metadata": {},
     "output_type": "execute_result"
    }
   ],
   "source": [
    "duplicates_sml_final = sml_final[sml_final.duplicated(['mvnt_id'] , keep=False)]\n",
    "duplicates_sml_final.head()"
   ]
  },
  {
   "cell_type": "code",
   "execution_count": 26,
   "id": "d23b8407",
   "metadata": {},
   "outputs": [
    {
     "data": {
      "text/plain": [
       "(0, 16)"
      ]
     },
     "execution_count": 26,
     "metadata": {},
     "output_type": "execute_result"
    }
   ],
   "source": [
    "duplicates_sml_final.shape"
   ]
  },
  {
   "cell_type": "code",
   "execution_count": 27,
   "id": "2e4d2766",
   "metadata": {},
   "outputs": [],
   "source": [
    "duplicates_sml_final.to_excel('Duplicates_sml.xlsx',index=False)"
   ]
  },
  {
   "cell_type": "code",
   "execution_count": 28,
   "id": "073d5d94",
   "metadata": {},
   "outputs": [
    {
     "data": {
      "text/html": [
       "<div>\n",
       "<style scoped>\n",
       "    .dataframe tbody tr th:only-of-type {\n",
       "        vertical-align: middle;\n",
       "    }\n",
       "\n",
       "    .dataframe tbody tr th {\n",
       "        vertical-align: top;\n",
       "    }\n",
       "\n",
       "    .dataframe thead th {\n",
       "        text-align: right;\n",
       "    }\n",
       "</style>\n",
       "<table border=\"1\" class=\"dataframe\">\n",
       "  <thead>\n",
       "    <tr style=\"text-align: right;\">\n",
       "      <th></th>\n",
       "      <th>mvnt_id</th>\n",
       "      <th>pymt_prg</th>\n",
       "      <th>psp_amount</th>\n",
       "      <th>gross_amount</th>\n",
       "      <th>fees</th>\n",
       "      <th>taxes</th>\n",
       "      <th>net_amount</th>\n",
       "      <th>mdr</th>\n",
       "      <th>msi</th>\n",
       "      <th>number_msi</th>\n",
       "      <th>status_code</th>\n",
       "      <th>receipt_no</th>\n",
       "      <th>dcc_amount</th>\n",
       "      <th>dcc_rate</th>\n",
       "      <th>dcc_status</th>\n",
       "      <th>file_name</th>\n",
       "    </tr>\n",
       "  </thead>\n",
       "  <tbody>\n",
       "    <tr>\n",
       "      <th>0</th>\n",
       "      <td>38034f2f-9e40-4900-88ad-f1df575ba9bd</td>\n",
       "      <td>DIGITAL_ACCOUNT</td>\n",
       "      <td>88.00</td>\n",
       "      <td>88.00</td>\n",
       "      <td>3.17</td>\n",
       "      <td>0.51</td>\n",
       "      <td>84.32</td>\n",
       "      <td>0.04</td>\n",
       "      <td>0.00</td>\n",
       "      <td>0.00</td>\n",
       "      <td>1.00</td>\n",
       "      <td>gqIe5sb</td>\n",
       "      <td>NaN</td>\n",
       "      <td>NaN</td>\n",
       "      <td>NaN</td>\n",
       "      <td>SETTLEMENT_MASTER_LOG_MSI_DATE ENERO 31 2024.tsv</td>\n",
       "    </tr>\n",
       "    <tr>\n",
       "      <th>1</th>\n",
       "      <td>e6d80dd9-db62-4f3a-a424-cc6e2f3b30f9</td>\n",
       "      <td>FAST_PAYMENT</td>\n",
       "      <td>65.00</td>\n",
       "      <td>65.00</td>\n",
       "      <td>2.34</td>\n",
       "      <td>0.37</td>\n",
       "      <td>62.29</td>\n",
       "      <td>0.04</td>\n",
       "      <td>0.00</td>\n",
       "      <td>0.00</td>\n",
       "      <td>1.00</td>\n",
       "      <td>hj8ZGrf</td>\n",
       "      <td>NaN</td>\n",
       "      <td>NaN</td>\n",
       "      <td>NaN</td>\n",
       "      <td>SETTLEMENT_MASTER_LOG_MSI_DATE ENERO 31 2024.tsv</td>\n",
       "    </tr>\n",
       "    <tr>\n",
       "      <th>2</th>\n",
       "      <td>fe6d7494-09ef-4d02-9b92-cec1ebe8210f</td>\n",
       "      <td>FAST_PAYMENT</td>\n",
       "      <td>1,200.00</td>\n",
       "      <td>1,200.00</td>\n",
       "      <td>43.20</td>\n",
       "      <td>6.91</td>\n",
       "      <td>1,149.89</td>\n",
       "      <td>0.04</td>\n",
       "      <td>0.00</td>\n",
       "      <td>0.00</td>\n",
       "      <td>1.00</td>\n",
       "      <td>Omw9oSY</td>\n",
       "      <td>NaN</td>\n",
       "      <td>NaN</td>\n",
       "      <td>NaN</td>\n",
       "      <td>SETTLEMENT_MASTER_LOG_MSI_DATE ENERO 31 2024.tsv</td>\n",
       "    </tr>\n",
       "    <tr>\n",
       "      <th>3</th>\n",
       "      <td>95cf9ee9-9241-44c9-8e95-38865b42f46b</td>\n",
       "      <td>FAST_PAYMENT</td>\n",
       "      <td>3,700.00</td>\n",
       "      <td>3,700.00</td>\n",
       "      <td>133.20</td>\n",
       "      <td>21.31</td>\n",
       "      <td>3,545.49</td>\n",
       "      <td>0.04</td>\n",
       "      <td>0.00</td>\n",
       "      <td>0.00</td>\n",
       "      <td>1.00</td>\n",
       "      <td>5HD3Dsi</td>\n",
       "      <td>NaN</td>\n",
       "      <td>NaN</td>\n",
       "      <td>NaN</td>\n",
       "      <td>SETTLEMENT_MASTER_LOG_MSI_DATE ENERO 31 2024.tsv</td>\n",
       "    </tr>\n",
       "    <tr>\n",
       "      <th>4</th>\n",
       "      <td>0b325a54-ea38-461b-9217-f9cef6f8ff03</td>\n",
       "      <td>REGULAR_PAYMENT</td>\n",
       "      <td>116.50</td>\n",
       "      <td>116.50</td>\n",
       "      <td>4.19</td>\n",
       "      <td>0.67</td>\n",
       "      <td>111.64</td>\n",
       "      <td>0.04</td>\n",
       "      <td>0.00</td>\n",
       "      <td>0.00</td>\n",
       "      <td>1.00</td>\n",
       "      <td>Nadh4wy</td>\n",
       "      <td>NaN</td>\n",
       "      <td>NaN</td>\n",
       "      <td>NaN</td>\n",
       "      <td>SETTLEMENT_MASTER_LOG_MSI_DATE ENERO 31 2024.tsv</td>\n",
       "    </tr>\n",
       "  </tbody>\n",
       "</table>\n",
       "</div>"
      ],
      "text/plain": [
       "                                mvnt_id         pymt_prg  psp_amount  \\\n",
       "0  38034f2f-9e40-4900-88ad-f1df575ba9bd  DIGITAL_ACCOUNT       88.00   \n",
       "1  e6d80dd9-db62-4f3a-a424-cc6e2f3b30f9     FAST_PAYMENT       65.00   \n",
       "2  fe6d7494-09ef-4d02-9b92-cec1ebe8210f     FAST_PAYMENT    1,200.00   \n",
       "3  95cf9ee9-9241-44c9-8e95-38865b42f46b     FAST_PAYMENT    3,700.00   \n",
       "4  0b325a54-ea38-461b-9217-f9cef6f8ff03  REGULAR_PAYMENT      116.50   \n",
       "\n",
       "   gross_amount   fees  taxes  net_amount  mdr  msi  number_msi  status_code  \\\n",
       "0         88.00   3.17   0.51       84.32 0.04 0.00        0.00         1.00   \n",
       "1         65.00   2.34   0.37       62.29 0.04 0.00        0.00         1.00   \n",
       "2      1,200.00  43.20   6.91    1,149.89 0.04 0.00        0.00         1.00   \n",
       "3      3,700.00 133.20  21.31    3,545.49 0.04 0.00        0.00         1.00   \n",
       "4        116.50   4.19   0.67      111.64 0.04 0.00        0.00         1.00   \n",
       "\n",
       "  receipt_no  dcc_amount  dcc_rate dcc_status  \\\n",
       "0    gqIe5sb         NaN       NaN        NaN   \n",
       "1    hj8ZGrf         NaN       NaN        NaN   \n",
       "2    Omw9oSY         NaN       NaN        NaN   \n",
       "3    5HD3Dsi         NaN       NaN        NaN   \n",
       "4    Nadh4wy         NaN       NaN        NaN   \n",
       "\n",
       "                                          file_name  \n",
       "0  SETTLEMENT_MASTER_LOG_MSI_DATE ENERO 31 2024.tsv  \n",
       "1  SETTLEMENT_MASTER_LOG_MSI_DATE ENERO 31 2024.tsv  \n",
       "2  SETTLEMENT_MASTER_LOG_MSI_DATE ENERO 31 2024.tsv  \n",
       "3  SETTLEMENT_MASTER_LOG_MSI_DATE ENERO 31 2024.tsv  \n",
       "4  SETTLEMENT_MASTER_LOG_MSI_DATE ENERO 31 2024.tsv  "
      ]
     },
     "execution_count": 28,
     "metadata": {},
     "output_type": "execute_result"
    }
   ],
   "source": [
    "sml_final.drop_duplicates(subset='mvnt_id', keep='last', inplace=True) \n",
    "sml_final.head()"
   ]
  },
  {
   "cell_type": "code",
   "execution_count": 29,
   "id": "c3df0e83",
   "metadata": {},
   "outputs": [
    {
     "data": {
      "text/plain": [
       "(15830410, 16)"
      ]
     },
     "execution_count": 29,
     "metadata": {},
     "output_type": "execute_result"
    }
   ],
   "source": [
    "sml_final.shape"
   ]
  },
  {
   "cell_type": "markdown",
   "id": "05244115",
   "metadata": {},
   "source": [
    "# DATA AP JOURNAL (PREVIO EMAIL)"
   ]
  },
  {
   "cell_type": "code",
   "execution_count": 30,
   "id": "2ab36c04",
   "metadata": {},
   "outputs": [
    {
     "data": {
      "text/html": [
       "<div>\n",
       "<style scoped>\n",
       "    .dataframe tbody tr th:only-of-type {\n",
       "        vertical-align: middle;\n",
       "    }\n",
       "\n",
       "    .dataframe tbody tr th {\n",
       "        vertical-align: top;\n",
       "    }\n",
       "\n",
       "    .dataframe thead th {\n",
       "        text-align: right;\n",
       "    }\n",
       "</style>\n",
       "<table border=\"1\" class=\"dataframe\">\n",
       "  <thead>\n",
       "    <tr style=\"text-align: right;\">\n",
       "      <th></th>\n",
       "      <th>merchant_id</th>\n",
       "      <th>amount</th>\n",
       "      <th>currency</th>\n",
       "      <th>type_request</th>\n",
       "      <th>mvnt_id</th>\n",
       "      <th>movement_type</th>\n",
       "      <th>source_type</th>\n",
       "      <th>created_at</th>\n",
       "      <th>eff_dt</th>\n",
       "      <th>movement_day</th>\n",
       "      <th>request_effective_date</th>\n",
       "      <th>slot_date</th>\n",
       "      <th>file_name</th>\n",
       "      <th>eff_dt_date</th>\n",
       "      <th>eff_dt_time</th>\n",
       "    </tr>\n",
       "  </thead>\n",
       "  <tbody>\n",
       "    <tr>\n",
       "      <th>0</th>\n",
       "      <td>0000275f-d46b-4a9c-a227-42d6f7ce63bd</td>\n",
       "      <td>2,874.72</td>\n",
       "      <td>MXN</td>\n",
       "      <td>settlement processor regular payment request</td>\n",
       "      <td>54d62474-2e31-42ef-b11a-32abca59c3b6</td>\n",
       "      <td>REGULAR_PYMT_RQ</td>\n",
       "      <td>SETT</td>\n",
       "      <td>2024-01-29 21:09:35</td>\n",
       "      <td>2024-01-30 05:30:00</td>\n",
       "      <td>2024-01-29 21:09:35</td>\n",
       "      <td>2024-01-30 05:00:00</td>\n",
       "      <td>2024-01-30 05:30:00</td>\n",
       "      <td>AP-JOURNAL-SETT ENERO 21-30 2024.tsv</td>\n",
       "      <td>2024-01-30</td>\n",
       "      <td>05:30:00</td>\n",
       "    </tr>\n",
       "    <tr>\n",
       "      <th>0</th>\n",
       "      <td>0000275f-d46b-4a9c-a227-42d6f7ce63bd</td>\n",
       "      <td>2,874.72</td>\n",
       "      <td>MXN</td>\n",
       "      <td>settlement processor regular payment request</td>\n",
       "      <td>98e7c45d-0f1b-4ea9-a211-773b1a746a85</td>\n",
       "      <td>REGULAR_PYMT_RQ</td>\n",
       "      <td>SETT</td>\n",
       "      <td>2024-01-01 03:59:17</td>\n",
       "      <td>2024-01-02 01:00:00</td>\n",
       "      <td>2024-01-01 03:59:17</td>\n",
       "      <td>2024-01-02 00:30:00</td>\n",
       "      <td>2024-01-02 01:00:00</td>\n",
       "      <td>AP-JOURNAL-SETT ENERO 01-10 2024.tsv</td>\n",
       "      <td>2024-01-02</td>\n",
       "      <td>01:00:00</td>\n",
       "    </tr>\n",
       "    <tr>\n",
       "      <th>2</th>\n",
       "      <td>00007725-3116-48dc-9b82-4145699dc290</td>\n",
       "      <td>958.24</td>\n",
       "      <td>MXN</td>\n",
       "      <td>settlement processor regular payment request</td>\n",
       "      <td>b87ada5c-b33d-4c76-b3be-58255c264a38</td>\n",
       "      <td>REGULAR_PYMT_RQ</td>\n",
       "      <td>SETT</td>\n",
       "      <td>2024-01-22 12:09:45</td>\n",
       "      <td>2024-01-23 03:30:00</td>\n",
       "      <td>2024-01-22 12:09:45</td>\n",
       "      <td>2024-01-23 03:00:00</td>\n",
       "      <td>2024-01-23 03:30:00</td>\n",
       "      <td>AP-JOURNAL-SETT ENERO 21-30 2024.tsv</td>\n",
       "      <td>2024-01-23</td>\n",
       "      <td>03:30:00</td>\n",
       "    </tr>\n",
       "    <tr>\n",
       "      <th>1</th>\n",
       "      <td>00007725-3116-48dc-9b82-4145699dc290</td>\n",
       "      <td>958.24</td>\n",
       "      <td>MXN</td>\n",
       "      <td>settlement processor regular payment request</td>\n",
       "      <td>f9429f46-4936-4b74-840d-8cfeaeeaf0ad</td>\n",
       "      <td>REGULAR_PYMT_RQ</td>\n",
       "      <td>SETT</td>\n",
       "      <td>2024-01-20 12:29:55</td>\n",
       "      <td>2024-01-21 03:30:00</td>\n",
       "      <td>2024-01-20 12:29:55</td>\n",
       "      <td>2024-01-21 03:00:00</td>\n",
       "      <td>2024-01-21 03:30:00</td>\n",
       "      <td>AP-JOURNAL-SETT ENERO 21-30 2024.tsv</td>\n",
       "      <td>2024-01-21</td>\n",
       "      <td>03:30:00</td>\n",
       "    </tr>\n",
       "    <tr>\n",
       "      <th>5</th>\n",
       "      <td>00008e01-812f-487e-8f34-a80bcb0ae3e3</td>\n",
       "      <td>19,294.12</td>\n",
       "      <td>MXN</td>\n",
       "      <td>settlement processor regular payment request</td>\n",
       "      <td>b076821b-f2fa-4bd6-8752-e6c12cd19816</td>\n",
       "      <td>REGULAR_PYMT_RQ</td>\n",
       "      <td>SETT</td>\n",
       "      <td>2024-01-16 12:43:04</td>\n",
       "      <td>2024-01-17 03:30:00</td>\n",
       "      <td>2024-01-16 12:43:04</td>\n",
       "      <td>2024-01-17 03:00:00</td>\n",
       "      <td>2024-01-17 03:30:00</td>\n",
       "      <td>AP-JOURNAL-SETT ENERO 11-20 2024.tsv</td>\n",
       "      <td>2024-01-17</td>\n",
       "      <td>03:30:00</td>\n",
       "    </tr>\n",
       "  </tbody>\n",
       "</table>\n",
       "</div>"
      ],
      "text/plain": [
       "                            merchant_id    amount currency  \\\n",
       "0  0000275f-d46b-4a9c-a227-42d6f7ce63bd  2,874.72      MXN   \n",
       "0  0000275f-d46b-4a9c-a227-42d6f7ce63bd  2,874.72      MXN   \n",
       "2  00007725-3116-48dc-9b82-4145699dc290    958.24      MXN   \n",
       "1  00007725-3116-48dc-9b82-4145699dc290    958.24      MXN   \n",
       "5  00008e01-812f-487e-8f34-a80bcb0ae3e3 19,294.12      MXN   \n",
       "\n",
       "                                   type_request  \\\n",
       "0  settlement processor regular payment request   \n",
       "0  settlement processor regular payment request   \n",
       "2  settlement processor regular payment request   \n",
       "1  settlement processor regular payment request   \n",
       "5  settlement processor regular payment request   \n",
       "\n",
       "                                mvnt_id    movement_type source_type  \\\n",
       "0  54d62474-2e31-42ef-b11a-32abca59c3b6  REGULAR_PYMT_RQ        SETT   \n",
       "0  98e7c45d-0f1b-4ea9-a211-773b1a746a85  REGULAR_PYMT_RQ        SETT   \n",
       "2  b87ada5c-b33d-4c76-b3be-58255c264a38  REGULAR_PYMT_RQ        SETT   \n",
       "1  f9429f46-4936-4b74-840d-8cfeaeeaf0ad  REGULAR_PYMT_RQ        SETT   \n",
       "5  b076821b-f2fa-4bd6-8752-e6c12cd19816  REGULAR_PYMT_RQ        SETT   \n",
       "\n",
       "           created_at              eff_dt        movement_day  \\\n",
       "0 2024-01-29 21:09:35 2024-01-30 05:30:00 2024-01-29 21:09:35   \n",
       "0 2024-01-01 03:59:17 2024-01-02 01:00:00 2024-01-01 03:59:17   \n",
       "2 2024-01-22 12:09:45 2024-01-23 03:30:00 2024-01-22 12:09:45   \n",
       "1 2024-01-20 12:29:55 2024-01-21 03:30:00 2024-01-20 12:29:55   \n",
       "5 2024-01-16 12:43:04 2024-01-17 03:30:00 2024-01-16 12:43:04   \n",
       "\n",
       "  request_effective_date           slot_date  \\\n",
       "0    2024-01-30 05:00:00 2024-01-30 05:30:00   \n",
       "0    2024-01-02 00:30:00 2024-01-02 01:00:00   \n",
       "2    2024-01-23 03:00:00 2024-01-23 03:30:00   \n",
       "1    2024-01-21 03:00:00 2024-01-21 03:30:00   \n",
       "5    2024-01-17 03:00:00 2024-01-17 03:30:00   \n",
       "\n",
       "                              file_name eff_dt_date eff_dt_time  \n",
       "0  AP-JOURNAL-SETT ENERO 21-30 2024.tsv  2024-01-30    05:30:00  \n",
       "0  AP-JOURNAL-SETT ENERO 01-10 2024.tsv  2024-01-02    01:00:00  \n",
       "2  AP-JOURNAL-SETT ENERO 21-30 2024.tsv  2024-01-23    03:30:00  \n",
       "1  AP-JOURNAL-SETT ENERO 21-30 2024.tsv  2024-01-21    03:30:00  \n",
       "5  AP-JOURNAL-SETT ENERO 11-20 2024.tsv  2024-01-17    03:30:00  "
      ]
     },
     "execution_count": 30,
     "metadata": {},
     "output_type": "execute_result"
    }
   ],
   "source": [
    "ap_preview = pd.concat([pd.read_csv(f, sep='\\t').assign(file_name=os.path.basename(f)) for f in ap_files_sett])\n",
    "ap_preview.columns = ap_preview.columns.str.strip().str.lower()\n",
    "ap_preview.replace('\"\"','', regex=True, inplace=True)\n",
    "ap_preview['eff_dt'] =  pd.to_datetime(ap_preview['eff_dt']).dt.tz_localize(None)\n",
    "ap_preview['eff_dt_date'] =  pd.to_datetime(ap_preview['eff_dt']).dt.date\n",
    "ap_preview['eff_dt_time'] =  pd.to_datetime(ap_preview['eff_dt']).dt.time\n",
    "ap_preview['eff_dt_date'] =  pd.to_datetime(ap_preview['eff_dt_date']).dt.tz_localize(None)\n",
    "ap_preview['movement_day'] = pd.to_datetime(ap_preview['movement_day']).dt.tz_localize(None)\n",
    "ap_preview['created_at'] = pd.to_datetime(ap_preview['created_at']).dt.tz_localize(None)\n",
    "ap_preview['request_effective_date'] = pd.to_datetime(ap_preview['request_effective_date']).dt.tz_localize(None)\n",
    "ap_preview['slot_date'] = pd.to_datetime(ap_preview['slot_date']).dt.tz_localize(None)\n",
    "# ap_preview['identifier'] = ap_preview['source_type'].str[:1].astype(str)\n",
    "# ap_preview['INDEX'] = (ap_preview['eff_dt_date'].astype(str).replace(' ', '',regex=True)+'-'+\n",
    "#                ap_preview['identifier'].astype(str).replace(' ', '',regex=True)+'-'+\n",
    "#                ap_preview['eff_dt_time'].astype(str).replace(' ', '',regex=True))\n",
    "ap_preview.sort_values(by=(['merchant_id','eff_dt']), ascending=[True,False], inplace=True)\n",
    "ap_preview.head()"
   ]
  },
  {
   "cell_type": "code",
   "execution_count": 31,
   "id": "cfdd51e2",
   "metadata": {},
   "outputs": [
    {
     "data": {
      "text/plain": [
       "(15830410, 15)"
      ]
     },
     "execution_count": 31,
     "metadata": {},
     "output_type": "execute_result"
    }
   ],
   "source": [
    "ap_preview.shape"
   ]
  },
  {
   "cell_type": "code",
   "execution_count": 32,
   "id": "b34aaf44",
   "metadata": {},
   "outputs": [
    {
     "data": {
      "text/plain": [
       "merchant_id                       object\n",
       "amount                           float64\n",
       "currency                          object\n",
       "type_request                      object\n",
       "mvnt_id                           object\n",
       "movement_type                     object\n",
       "source_type                       object\n",
       "created_at                datetime64[ns]\n",
       "eff_dt                    datetime64[ns]\n",
       "movement_day              datetime64[ns]\n",
       "request_effective_date    datetime64[ns]\n",
       "slot_date                 datetime64[ns]\n",
       "file_name                         object\n",
       "eff_dt_date               datetime64[ns]\n",
       "eff_dt_time                       object\n",
       "dtype: object"
      ]
     },
     "execution_count": 32,
     "metadata": {},
     "output_type": "execute_result"
    }
   ],
   "source": [
    "ap_preview.dtypes"
   ]
  },
  {
   "cell_type": "code",
   "execution_count": 33,
   "id": "533505bb",
   "metadata": {},
   "outputs": [
    {
     "data": {
      "text/plain": [
       "array(['SETT'], dtype=object)"
      ]
     },
     "execution_count": 33,
     "metadata": {},
     "output_type": "execute_result"
    }
   ],
   "source": [
    "ap_preview['source_type'].unique()"
   ]
  },
  {
   "cell_type": "markdown",
   "id": "a60f3c32",
   "metadata": {},
   "source": [
    "# DATA AP JOURNAL CANCELACIONES (PREVIO EMAIL)"
   ]
  },
  {
   "cell_type": "code",
   "execution_count": 34,
   "id": "fa72e1fc",
   "metadata": {},
   "outputs": [
    {
     "data": {
      "text/html": [
       "<div>\n",
       "<style scoped>\n",
       "    .dataframe tbody tr th:only-of-type {\n",
       "        vertical-align: middle;\n",
       "    }\n",
       "\n",
       "    .dataframe tbody tr th {\n",
       "        vertical-align: top;\n",
       "    }\n",
       "\n",
       "    .dataframe thead th {\n",
       "        text-align: right;\n",
       "    }\n",
       "</style>\n",
       "<table border=\"1\" class=\"dataframe\">\n",
       "  <thead>\n",
       "    <tr style=\"text-align: right;\">\n",
       "      <th></th>\n",
       "      <th>merchant_id</th>\n",
       "      <th>amount</th>\n",
       "      <th>currency</th>\n",
       "      <th>type_request</th>\n",
       "      <th>mvnt_id</th>\n",
       "      <th>movement_type</th>\n",
       "      <th>source_type</th>\n",
       "      <th>created_at</th>\n",
       "      <th>eff_dt</th>\n",
       "      <th>movement_day</th>\n",
       "      <th>request_effective_date</th>\n",
       "      <th>slot_date</th>\n",
       "      <th>file_name</th>\n",
       "      <th>eff_dt_date</th>\n",
       "      <th>eff_dt_time</th>\n",
       "    </tr>\n",
       "  </thead>\n",
       "  <tbody>\n",
       "    <tr>\n",
       "      <th>0</th>\n",
       "      <td>00008e01-812f-487e-8f34-a80bcb0ae3e3</td>\n",
       "      <td>-47,912.00</td>\n",
       "      <td>MXN</td>\n",
       "      <td>cancel request</td>\n",
       "      <td>89642c1b-ee74-48a9-a7f4-39f9a6e54aec</td>\n",
       "      <td>CANCEL_RQ</td>\n",
       "      <td>PYMT</td>\n",
       "      <td>2024-01-14 19:15:43</td>\n",
       "      <td>2024-01-15 04:30:00</td>\n",
       "      <td>2024-01-14 19:15:43</td>\n",
       "      <td>2024-01-15 04:30:00</td>\n",
       "      <td>1969-12-31 18:00:00</td>\n",
       "      <td>AP-JOURNAL-CANCEL ENERO 2024.tsv</td>\n",
       "      <td>2024-01-15</td>\n",
       "      <td>04:30:00</td>\n",
       "    </tr>\n",
       "    <tr>\n",
       "      <th>2</th>\n",
       "      <td>0000b65a-c2a2-4993-8f4c-05e5b7cbd7c0</td>\n",
       "      <td>-787.68</td>\n",
       "      <td>MXN</td>\n",
       "      <td>cancel request</td>\n",
       "      <td>f6b65fd2-d168-4ecd-b433-97b78808adbb</td>\n",
       "      <td>CANCEL_RQ</td>\n",
       "      <td>PYMT</td>\n",
       "      <td>2023-11-09 14:03:50</td>\n",
       "      <td>2023-11-10 03:30:00</td>\n",
       "      <td>2023-11-09 14:03:50</td>\n",
       "      <td>2023-11-10 03:30:00</td>\n",
       "      <td>1969-12-31 18:00:00</td>\n",
       "      <td>AP-JOURNAL-CANCEL ENERO 2024.tsv</td>\n",
       "      <td>2023-11-10</td>\n",
       "      <td>03:30:00</td>\n",
       "    </tr>\n",
       "    <tr>\n",
       "      <th>1</th>\n",
       "      <td>0000b65a-c2a2-4993-8f4c-05e5b7cbd7c0</td>\n",
       "      <td>-941.28</td>\n",
       "      <td>MXN</td>\n",
       "      <td>cancel request</td>\n",
       "      <td>d739f381-95ed-4f9e-bf7f-691b44004c11</td>\n",
       "      <td>CANCEL_RQ</td>\n",
       "      <td>PYMT</td>\n",
       "      <td>2023-10-19 14:06:46</td>\n",
       "      <td>2023-10-20 03:30:00</td>\n",
       "      <td>2023-10-19 14:06:46</td>\n",
       "      <td>2023-10-20 03:30:00</td>\n",
       "      <td>1969-12-31 18:00:00</td>\n",
       "      <td>AP-JOURNAL-CANCEL ENERO 2024.tsv</td>\n",
       "      <td>2023-10-20</td>\n",
       "      <td>03:30:00</td>\n",
       "    </tr>\n",
       "    <tr>\n",
       "      <th>7</th>\n",
       "      <td>0000bc20-a726-4fe6-b784-1eb97c287ad5</td>\n",
       "      <td>-94.87</td>\n",
       "      <td>MXN</td>\n",
       "      <td>cancel request</td>\n",
       "      <td>62e7e6f0-aa27-45be-894f-545f4f1b0ab6</td>\n",
       "      <td>CANCEL_RQ</td>\n",
       "      <td>PYMT</td>\n",
       "      <td>2023-08-22 01:36:22</td>\n",
       "      <td>2023-08-22 01:36:27</td>\n",
       "      <td>2023-08-22 01:36:22</td>\n",
       "      <td>2023-08-23 00:00:00</td>\n",
       "      <td>1969-12-31 18:00:00</td>\n",
       "      <td>AP-JOURNAL-CANCEL ENERO 2024.tsv</td>\n",
       "      <td>2023-08-22</td>\n",
       "      <td>01:36:27</td>\n",
       "    </tr>\n",
       "    <tr>\n",
       "      <th>6</th>\n",
       "      <td>0000bc20-a726-4fe6-b784-1eb97c287ad5</td>\n",
       "      <td>-86.24</td>\n",
       "      <td>MXN</td>\n",
       "      <td>cancel request</td>\n",
       "      <td>6d5ac39e-d9b4-4027-9334-d160e4f41ede</td>\n",
       "      <td>CANCEL_RQ</td>\n",
       "      <td>PYMT</td>\n",
       "      <td>2023-08-06 20:10:36</td>\n",
       "      <td>2023-08-06 20:10:41</td>\n",
       "      <td>2023-08-06 20:10:36</td>\n",
       "      <td>2023-08-07 05:00:00</td>\n",
       "      <td>1969-12-31 18:00:00</td>\n",
       "      <td>AP-JOURNAL-CANCEL ENERO 2024.tsv</td>\n",
       "      <td>2023-08-06</td>\n",
       "      <td>20:10:41</td>\n",
       "    </tr>\n",
       "  </tbody>\n",
       "</table>\n",
       "</div>"
      ],
      "text/plain": [
       "                            merchant_id     amount currency    type_request  \\\n",
       "0  00008e01-812f-487e-8f34-a80bcb0ae3e3 -47,912.00      MXN  cancel request   \n",
       "2  0000b65a-c2a2-4993-8f4c-05e5b7cbd7c0    -787.68      MXN  cancel request   \n",
       "1  0000b65a-c2a2-4993-8f4c-05e5b7cbd7c0    -941.28      MXN  cancel request   \n",
       "7  0000bc20-a726-4fe6-b784-1eb97c287ad5     -94.87      MXN  cancel request   \n",
       "6  0000bc20-a726-4fe6-b784-1eb97c287ad5     -86.24      MXN  cancel request   \n",
       "\n",
       "                                mvnt_id movement_type source_type  \\\n",
       "0  89642c1b-ee74-48a9-a7f4-39f9a6e54aec     CANCEL_RQ        PYMT   \n",
       "2  f6b65fd2-d168-4ecd-b433-97b78808adbb     CANCEL_RQ        PYMT   \n",
       "1  d739f381-95ed-4f9e-bf7f-691b44004c11     CANCEL_RQ        PYMT   \n",
       "7  62e7e6f0-aa27-45be-894f-545f4f1b0ab6     CANCEL_RQ        PYMT   \n",
       "6  6d5ac39e-d9b4-4027-9334-d160e4f41ede     CANCEL_RQ        PYMT   \n",
       "\n",
       "           created_at              eff_dt        movement_day  \\\n",
       "0 2024-01-14 19:15:43 2024-01-15 04:30:00 2024-01-14 19:15:43   \n",
       "2 2023-11-09 14:03:50 2023-11-10 03:30:00 2023-11-09 14:03:50   \n",
       "1 2023-10-19 14:06:46 2023-10-20 03:30:00 2023-10-19 14:06:46   \n",
       "7 2023-08-22 01:36:22 2023-08-22 01:36:27 2023-08-22 01:36:22   \n",
       "6 2023-08-06 20:10:36 2023-08-06 20:10:41 2023-08-06 20:10:36   \n",
       "\n",
       "  request_effective_date           slot_date  \\\n",
       "0    2024-01-15 04:30:00 1969-12-31 18:00:00   \n",
       "2    2023-11-10 03:30:00 1969-12-31 18:00:00   \n",
       "1    2023-10-20 03:30:00 1969-12-31 18:00:00   \n",
       "7    2023-08-23 00:00:00 1969-12-31 18:00:00   \n",
       "6    2023-08-07 05:00:00 1969-12-31 18:00:00   \n",
       "\n",
       "                          file_name eff_dt_date eff_dt_time  \n",
       "0  AP-JOURNAL-CANCEL ENERO 2024.tsv  2024-01-15    04:30:00  \n",
       "2  AP-JOURNAL-CANCEL ENERO 2024.tsv  2023-11-10    03:30:00  \n",
       "1  AP-JOURNAL-CANCEL ENERO 2024.tsv  2023-10-20    03:30:00  \n",
       "7  AP-JOURNAL-CANCEL ENERO 2024.tsv  2023-08-22    01:36:27  \n",
       "6  AP-JOURNAL-CANCEL ENERO 2024.tsv  2023-08-06    20:10:41  "
      ]
     },
     "execution_count": 34,
     "metadata": {},
     "output_type": "execute_result"
    }
   ],
   "source": [
    "ap_preview_canc = pd.concat([pd.read_csv(f, sep='\\t').assign(file_name=os.path.basename(f)) for f in ap_files_canc])\n",
    "ap_preview_canc.columns = ap_preview_canc.columns.str.strip().str.lower()\n",
    "ap_preview_canc.replace('\"\"','', regex=True, inplace=True)\n",
    "ap_preview_canc['eff_dt'] =  pd.to_datetime(ap_preview_canc['eff_dt']).dt.tz_localize(None)\n",
    "ap_preview_canc['eff_dt_date'] =  pd.to_datetime(ap_preview_canc['eff_dt']).dt.date\n",
    "ap_preview_canc['eff_dt_time'] =  pd.to_datetime(ap_preview_canc['eff_dt']).dt.time\n",
    "ap_preview_canc['eff_dt_date'] =  pd.to_datetime(ap_preview_canc['eff_dt_date']).dt.tz_localize(None)\n",
    "ap_preview_canc['movement_day'] = pd.to_datetime(ap_preview_canc['movement_day']).dt.tz_localize(None)\n",
    "ap_preview_canc['created_at'] = pd.to_datetime(ap_preview_canc['created_at']).dt.tz_localize(None)\n",
    "ap_sett_final['created_at_date'] = pd.to_datetime(ap_sett_final['created_at']).dt.date\n",
    "ap_sett_final['created_at_date'] =  pd.to_datetime(ap_sett_final['created_at_date']).dt.tz_localize(None)\n",
    "ap_preview_canc['request_effective_date'] = pd.to_datetime(ap_preview_canc['request_effective_date']).dt.tz_localize(None)\n",
    "ap_preview_canc['slot_date'] = pd.to_datetime(ap_preview_canc['slot_date']).dt.tz_localize(None)\n",
    "# ap_preview_canc['identifier'] = ap_preview_canc['source_type'].str[:1].astype(str)\n",
    "# ap_preview_canc['INDEX'] = (ap_preview_canc['eff_dt_date'].astype(str).replace(' ', '',regex=True)+'-'+\n",
    "#                ap_preview_canc['identifier'].astype(str).replace(' ', '',regex=True)+'-'+\n",
    "#                ap_preview_canc['eff_dt_time'].astype(str).replace(' ', '',regex=True))\n",
    "ap_preview_canc.sort_values(by=(['merchant_id','eff_dt']), ascending=[True,False], inplace=True)\n",
    "ap_preview_canc.head()"
   ]
  },
  {
   "cell_type": "code",
   "execution_count": 35,
   "id": "50ee1b17",
   "metadata": {},
   "outputs": [
    {
     "data": {
      "text/plain": [
       "(257149, 15)"
      ]
     },
     "execution_count": 35,
     "metadata": {},
     "output_type": "execute_result"
    }
   ],
   "source": [
    "ap_preview_canc.shape"
   ]
  },
  {
   "cell_type": "code",
   "execution_count": 36,
   "id": "37d9d219",
   "metadata": {},
   "outputs": [
    {
     "data": {
      "text/plain": [
       "merchant_id                       object\n",
       "amount                           float64\n",
       "currency                          object\n",
       "type_request                      object\n",
       "mvnt_id                           object\n",
       "movement_type                     object\n",
       "source_type                       object\n",
       "created_at                datetime64[ns]\n",
       "eff_dt                    datetime64[ns]\n",
       "movement_day              datetime64[ns]\n",
       "request_effective_date    datetime64[ns]\n",
       "slot_date                 datetime64[ns]\n",
       "file_name                         object\n",
       "eff_dt_date               datetime64[ns]\n",
       "eff_dt_time                       object\n",
       "dtype: object"
      ]
     },
     "execution_count": 36,
     "metadata": {},
     "output_type": "execute_result"
    }
   ],
   "source": [
    "ap_preview_canc.dtypes"
   ]
  },
  {
   "cell_type": "code",
   "execution_count": 37,
   "id": "e24c1181",
   "metadata": {},
   "outputs": [
    {
     "data": {
      "text/plain": [
       "array(['PYMT', 'RISK'], dtype=object)"
      ]
     },
     "execution_count": 37,
     "metadata": {},
     "output_type": "execute_result"
    }
   ],
   "source": [
    "ap_preview_canc['source_type'].unique()"
   ]
  },
  {
   "cell_type": "markdown",
   "id": "9bf46fc9",
   "metadata": {},
   "source": [
    "# UNION AP JOURNAL CON MAIL"
   ]
  },
  {
   "cell_type": "code",
   "execution_count": 38,
   "id": "509318f7",
   "metadata": {},
   "outputs": [
    {
     "data": {
      "text/plain": [
       "(15830410, 17)"
      ]
     },
     "execution_count": 38,
     "metadata": {},
     "output_type": "execute_result"
    }
   ],
   "source": [
    "ap = ap_preview.merge(email[['merchant_id','email','merchant_name']],on='merchant_id',how='left')\n",
    "ap.shape"
   ]
  },
  {
   "cell_type": "code",
   "execution_count": 39,
   "id": "eaf79f06",
   "metadata": {},
   "outputs": [
    {
     "data": {
      "text/html": [
       "<div>\n",
       "<style scoped>\n",
       "    .dataframe tbody tr th:only-of-type {\n",
       "        vertical-align: middle;\n",
       "    }\n",
       "\n",
       "    .dataframe tbody tr th {\n",
       "        vertical-align: top;\n",
       "    }\n",
       "\n",
       "    .dataframe thead th {\n",
       "        text-align: right;\n",
       "    }\n",
       "</style>\n",
       "<table border=\"1\" class=\"dataframe\">\n",
       "  <thead>\n",
       "    <tr style=\"text-align: right;\">\n",
       "      <th></th>\n",
       "      <th>merchant_id</th>\n",
       "      <th>amount</th>\n",
       "      <th>currency</th>\n",
       "      <th>type_request</th>\n",
       "      <th>mvnt_id</th>\n",
       "      <th>movement_type</th>\n",
       "      <th>source_type</th>\n",
       "      <th>created_at</th>\n",
       "      <th>eff_dt</th>\n",
       "      <th>movement_day</th>\n",
       "      <th>request_effective_date</th>\n",
       "      <th>slot_date</th>\n",
       "      <th>file_name</th>\n",
       "      <th>eff_dt_date</th>\n",
       "      <th>eff_dt_time</th>\n",
       "      <th>email</th>\n",
       "      <th>merchant_name</th>\n",
       "    </tr>\n",
       "  </thead>\n",
       "  <tbody>\n",
       "  </tbody>\n",
       "</table>\n",
       "</div>"
      ],
      "text/plain": [
       "Empty DataFrame\n",
       "Columns: [merchant_id, amount, currency, type_request, mvnt_id, movement_type, source_type, created_at, eff_dt, movement_day, request_effective_date, slot_date, file_name, eff_dt_date, eff_dt_time, email, merchant_name]\n",
       "Index: []"
      ]
     },
     "execution_count": 39,
     "metadata": {},
     "output_type": "execute_result"
    }
   ],
   "source": [
    "duplicates_ap = ap[ap.duplicated(['mvnt_id'] , keep=False)]\n",
    "duplicates_ap.head()"
   ]
  },
  {
   "cell_type": "code",
   "execution_count": 40,
   "id": "a6906eef",
   "metadata": {},
   "outputs": [
    {
     "data": {
      "text/plain": [
       "(0, 17)"
      ]
     },
     "execution_count": 40,
     "metadata": {},
     "output_type": "execute_result"
    }
   ],
   "source": [
    "duplicates_ap.shape"
   ]
  },
  {
   "cell_type": "code",
   "execution_count": 41,
   "id": "6e3fd956",
   "metadata": {},
   "outputs": [],
   "source": [
    "duplicates_ap.to_excel('Duplicates_ap_journal.xlsx',index=False)"
   ]
  },
  {
   "cell_type": "code",
   "execution_count": 42,
   "id": "82c47827",
   "metadata": {},
   "outputs": [
    {
     "data": {
      "text/html": [
       "<div>\n",
       "<style scoped>\n",
       "    .dataframe tbody tr th:only-of-type {\n",
       "        vertical-align: middle;\n",
       "    }\n",
       "\n",
       "    .dataframe tbody tr th {\n",
       "        vertical-align: top;\n",
       "    }\n",
       "\n",
       "    .dataframe thead th {\n",
       "        text-align: right;\n",
       "    }\n",
       "</style>\n",
       "<table border=\"1\" class=\"dataframe\">\n",
       "  <thead>\n",
       "    <tr style=\"text-align: right;\">\n",
       "      <th></th>\n",
       "      <th>merchant_id</th>\n",
       "      <th>amount</th>\n",
       "      <th>currency</th>\n",
       "      <th>type_request</th>\n",
       "      <th>mvnt_id</th>\n",
       "      <th>movement_type</th>\n",
       "      <th>source_type</th>\n",
       "      <th>created_at</th>\n",
       "      <th>eff_dt</th>\n",
       "      <th>movement_day</th>\n",
       "      <th>request_effective_date</th>\n",
       "      <th>slot_date</th>\n",
       "      <th>file_name</th>\n",
       "      <th>eff_dt_date</th>\n",
       "      <th>eff_dt_time</th>\n",
       "      <th>email</th>\n",
       "      <th>merchant_name</th>\n",
       "    </tr>\n",
       "  </thead>\n",
       "  <tbody>\n",
       "    <tr>\n",
       "      <th>0</th>\n",
       "      <td>0000275f-d46b-4a9c-a227-42d6f7ce63bd</td>\n",
       "      <td>2,874.72</td>\n",
       "      <td>MXN</td>\n",
       "      <td>settlement processor regular payment request</td>\n",
       "      <td>54d62474-2e31-42ef-b11a-32abca59c3b6</td>\n",
       "      <td>REGULAR_PYMT_RQ</td>\n",
       "      <td>SETT</td>\n",
       "      <td>2024-01-29 21:09:35</td>\n",
       "      <td>2024-01-30 05:30:00</td>\n",
       "      <td>2024-01-29 21:09:35</td>\n",
       "      <td>2024-01-30 05:00:00</td>\n",
       "      <td>2024-01-30 05:30:00</td>\n",
       "      <td>AP-JOURNAL-SETT ENERO 21-30 2024.tsv</td>\n",
       "      <td>2024-01-30</td>\n",
       "      <td>05:30:00</td>\n",
       "      <td>o2794682@gmail.com</td>\n",
       "      <td>POLLO VELOZ</td>\n",
       "    </tr>\n",
       "    <tr>\n",
       "      <th>1</th>\n",
       "      <td>0000275f-d46b-4a9c-a227-42d6f7ce63bd</td>\n",
       "      <td>2,874.72</td>\n",
       "      <td>MXN</td>\n",
       "      <td>settlement processor regular payment request</td>\n",
       "      <td>98e7c45d-0f1b-4ea9-a211-773b1a746a85</td>\n",
       "      <td>REGULAR_PYMT_RQ</td>\n",
       "      <td>SETT</td>\n",
       "      <td>2024-01-01 03:59:17</td>\n",
       "      <td>2024-01-02 01:00:00</td>\n",
       "      <td>2024-01-01 03:59:17</td>\n",
       "      <td>2024-01-02 00:30:00</td>\n",
       "      <td>2024-01-02 01:00:00</td>\n",
       "      <td>AP-JOURNAL-SETT ENERO 01-10 2024.tsv</td>\n",
       "      <td>2024-01-02</td>\n",
       "      <td>01:00:00</td>\n",
       "      <td>o2794682@gmail.com</td>\n",
       "      <td>POLLO VELOZ</td>\n",
       "    </tr>\n",
       "    <tr>\n",
       "      <th>2</th>\n",
       "      <td>00007725-3116-48dc-9b82-4145699dc290</td>\n",
       "      <td>958.24</td>\n",
       "      <td>MXN</td>\n",
       "      <td>settlement processor regular payment request</td>\n",
       "      <td>b87ada5c-b33d-4c76-b3be-58255c264a38</td>\n",
       "      <td>REGULAR_PYMT_RQ</td>\n",
       "      <td>SETT</td>\n",
       "      <td>2024-01-22 12:09:45</td>\n",
       "      <td>2024-01-23 03:30:00</td>\n",
       "      <td>2024-01-22 12:09:45</td>\n",
       "      <td>2024-01-23 03:00:00</td>\n",
       "      <td>2024-01-23 03:30:00</td>\n",
       "      <td>AP-JOURNAL-SETT ENERO 21-30 2024.tsv</td>\n",
       "      <td>2024-01-23</td>\n",
       "      <td>03:30:00</td>\n",
       "      <td>dr.cesarcamarena.ortopedia@gmail.com</td>\n",
       "      <td>CESAR CAMARENA LPEZ</td>\n",
       "    </tr>\n",
       "    <tr>\n",
       "      <th>3</th>\n",
       "      <td>00007725-3116-48dc-9b82-4145699dc290</td>\n",
       "      <td>958.24</td>\n",
       "      <td>MXN</td>\n",
       "      <td>settlement processor regular payment request</td>\n",
       "      <td>f9429f46-4936-4b74-840d-8cfeaeeaf0ad</td>\n",
       "      <td>REGULAR_PYMT_RQ</td>\n",
       "      <td>SETT</td>\n",
       "      <td>2024-01-20 12:29:55</td>\n",
       "      <td>2024-01-21 03:30:00</td>\n",
       "      <td>2024-01-20 12:29:55</td>\n",
       "      <td>2024-01-21 03:00:00</td>\n",
       "      <td>2024-01-21 03:30:00</td>\n",
       "      <td>AP-JOURNAL-SETT ENERO 21-30 2024.tsv</td>\n",
       "      <td>2024-01-21</td>\n",
       "      <td>03:30:00</td>\n",
       "      <td>dr.cesarcamarena.ortopedia@gmail.com</td>\n",
       "      <td>CESAR CAMARENA LPEZ</td>\n",
       "    </tr>\n",
       "    <tr>\n",
       "      <th>4</th>\n",
       "      <td>00008e01-812f-487e-8f34-a80bcb0ae3e3</td>\n",
       "      <td>19,294.12</td>\n",
       "      <td>MXN</td>\n",
       "      <td>settlement processor regular payment request</td>\n",
       "      <td>b076821b-f2fa-4bd6-8752-e6c12cd19816</td>\n",
       "      <td>REGULAR_PYMT_RQ</td>\n",
       "      <td>SETT</td>\n",
       "      <td>2024-01-16 12:43:04</td>\n",
       "      <td>2024-01-17 03:30:00</td>\n",
       "      <td>2024-01-16 12:43:04</td>\n",
       "      <td>2024-01-17 03:00:00</td>\n",
       "      <td>2024-01-17 03:30:00</td>\n",
       "      <td>AP-JOURNAL-SETT ENERO 11-20 2024.tsv</td>\n",
       "      <td>2024-01-17</td>\n",
       "      <td>03:30:00</td>\n",
       "      <td>pagos@abz.com.mx</td>\n",
       "      <td>ABZ CONSULTING SERVICES SA</td>\n",
       "    </tr>\n",
       "  </tbody>\n",
       "</table>\n",
       "</div>"
      ],
      "text/plain": [
       "                            merchant_id    amount currency  \\\n",
       "0  0000275f-d46b-4a9c-a227-42d6f7ce63bd  2,874.72      MXN   \n",
       "1  0000275f-d46b-4a9c-a227-42d6f7ce63bd  2,874.72      MXN   \n",
       "2  00007725-3116-48dc-9b82-4145699dc290    958.24      MXN   \n",
       "3  00007725-3116-48dc-9b82-4145699dc290    958.24      MXN   \n",
       "4  00008e01-812f-487e-8f34-a80bcb0ae3e3 19,294.12      MXN   \n",
       "\n",
       "                                   type_request  \\\n",
       "0  settlement processor regular payment request   \n",
       "1  settlement processor regular payment request   \n",
       "2  settlement processor regular payment request   \n",
       "3  settlement processor regular payment request   \n",
       "4  settlement processor regular payment request   \n",
       "\n",
       "                                mvnt_id    movement_type source_type  \\\n",
       "0  54d62474-2e31-42ef-b11a-32abca59c3b6  REGULAR_PYMT_RQ        SETT   \n",
       "1  98e7c45d-0f1b-4ea9-a211-773b1a746a85  REGULAR_PYMT_RQ        SETT   \n",
       "2  b87ada5c-b33d-4c76-b3be-58255c264a38  REGULAR_PYMT_RQ        SETT   \n",
       "3  f9429f46-4936-4b74-840d-8cfeaeeaf0ad  REGULAR_PYMT_RQ        SETT   \n",
       "4  b076821b-f2fa-4bd6-8752-e6c12cd19816  REGULAR_PYMT_RQ        SETT   \n",
       "\n",
       "           created_at              eff_dt        movement_day  \\\n",
       "0 2024-01-29 21:09:35 2024-01-30 05:30:00 2024-01-29 21:09:35   \n",
       "1 2024-01-01 03:59:17 2024-01-02 01:00:00 2024-01-01 03:59:17   \n",
       "2 2024-01-22 12:09:45 2024-01-23 03:30:00 2024-01-22 12:09:45   \n",
       "3 2024-01-20 12:29:55 2024-01-21 03:30:00 2024-01-20 12:29:55   \n",
       "4 2024-01-16 12:43:04 2024-01-17 03:30:00 2024-01-16 12:43:04   \n",
       "\n",
       "  request_effective_date           slot_date  \\\n",
       "0    2024-01-30 05:00:00 2024-01-30 05:30:00   \n",
       "1    2024-01-02 00:30:00 2024-01-02 01:00:00   \n",
       "2    2024-01-23 03:00:00 2024-01-23 03:30:00   \n",
       "3    2024-01-21 03:00:00 2024-01-21 03:30:00   \n",
       "4    2024-01-17 03:00:00 2024-01-17 03:30:00   \n",
       "\n",
       "                              file_name eff_dt_date eff_dt_time  \\\n",
       "0  AP-JOURNAL-SETT ENERO 21-30 2024.tsv  2024-01-30    05:30:00   \n",
       "1  AP-JOURNAL-SETT ENERO 01-10 2024.tsv  2024-01-02    01:00:00   \n",
       "2  AP-JOURNAL-SETT ENERO 21-30 2024.tsv  2024-01-23    03:30:00   \n",
       "3  AP-JOURNAL-SETT ENERO 21-30 2024.tsv  2024-01-21    03:30:00   \n",
       "4  AP-JOURNAL-SETT ENERO 11-20 2024.tsv  2024-01-17    03:30:00   \n",
       "\n",
       "                                  email               merchant_name  \n",
       "0                    o2794682@gmail.com                 POLLO VELOZ  \n",
       "1                    o2794682@gmail.com                 POLLO VELOZ  \n",
       "2  dr.cesarcamarena.ortopedia@gmail.com         CESAR CAMARENA LPEZ  \n",
       "3  dr.cesarcamarena.ortopedia@gmail.com         CESAR CAMARENA LPEZ  \n",
       "4                      pagos@abz.com.mx  ABZ CONSULTING SERVICES SA  "
      ]
     },
     "execution_count": 42,
     "metadata": {},
     "output_type": "execute_result"
    }
   ],
   "source": [
    "ap.drop_duplicates(subset='mvnt_id', keep='last', inplace=True) \n",
    "ap.head()"
   ]
  },
  {
   "cell_type": "code",
   "execution_count": 43,
   "id": "a8f9340e",
   "metadata": {},
   "outputs": [
    {
     "data": {
      "text/plain": [
       "(15830410, 17)"
      ]
     },
     "execution_count": 43,
     "metadata": {},
     "output_type": "execute_result"
    }
   ],
   "source": [
    "ap.shape"
   ]
  },
  {
   "cell_type": "markdown",
   "id": "c7e41a05",
   "metadata": {},
   "source": [
    "# UNION AP JOURNAL CANCELACIONES CON MAIL"
   ]
  },
  {
   "cell_type": "code",
   "execution_count": 44,
   "id": "2cc31f11",
   "metadata": {},
   "outputs": [
    {
     "data": {
      "text/html": [
       "<div>\n",
       "<style scoped>\n",
       "    .dataframe tbody tr th:only-of-type {\n",
       "        vertical-align: middle;\n",
       "    }\n",
       "\n",
       "    .dataframe tbody tr th {\n",
       "        vertical-align: top;\n",
       "    }\n",
       "\n",
       "    .dataframe thead th {\n",
       "        text-align: right;\n",
       "    }\n",
       "</style>\n",
       "<table border=\"1\" class=\"dataframe\">\n",
       "  <thead>\n",
       "    <tr style=\"text-align: right;\">\n",
       "      <th></th>\n",
       "      <th>merchant_id</th>\n",
       "      <th>amount</th>\n",
       "      <th>currency</th>\n",
       "      <th>type_request</th>\n",
       "      <th>mvnt_id</th>\n",
       "      <th>movement_type</th>\n",
       "      <th>source_type</th>\n",
       "      <th>created_at</th>\n",
       "      <th>eff_dt</th>\n",
       "      <th>movement_day</th>\n",
       "      <th>request_effective_date</th>\n",
       "      <th>slot_date</th>\n",
       "      <th>file_name</th>\n",
       "      <th>eff_dt_date</th>\n",
       "      <th>eff_dt_time</th>\n",
       "      <th>email</th>\n",
       "      <th>merchant_name</th>\n",
       "    </tr>\n",
       "  </thead>\n",
       "  <tbody>\n",
       "    <tr>\n",
       "      <th>0</th>\n",
       "      <td>00008e01-812f-487e-8f34-a80bcb0ae3e3</td>\n",
       "      <td>-47,912.00</td>\n",
       "      <td>MXN</td>\n",
       "      <td>cancel request</td>\n",
       "      <td>89642c1b-ee74-48a9-a7f4-39f9a6e54aec</td>\n",
       "      <td>CANCEL_RQ</td>\n",
       "      <td>PYMT</td>\n",
       "      <td>2024-01-14 19:15:43</td>\n",
       "      <td>2024-01-15 04:30:00</td>\n",
       "      <td>2024-01-14 19:15:43</td>\n",
       "      <td>2024-01-15 04:30:00</td>\n",
       "      <td>1969-12-31 18:00:00</td>\n",
       "      <td>AP-JOURNAL-CANCEL ENERO 2024.tsv</td>\n",
       "      <td>2024-01-15</td>\n",
       "      <td>04:30:00</td>\n",
       "      <td>pagos@abz.com.mx</td>\n",
       "      <td>ABZ CONSULTING SERVICES SA</td>\n",
       "    </tr>\n",
       "    <tr>\n",
       "      <th>1</th>\n",
       "      <td>0000b65a-c2a2-4993-8f4c-05e5b7cbd7c0</td>\n",
       "      <td>-787.68</td>\n",
       "      <td>MXN</td>\n",
       "      <td>cancel request</td>\n",
       "      <td>f6b65fd2-d168-4ecd-b433-97b78808adbb</td>\n",
       "      <td>CANCEL_RQ</td>\n",
       "      <td>PYMT</td>\n",
       "      <td>2023-11-09 14:03:50</td>\n",
       "      <td>2023-11-10 03:30:00</td>\n",
       "      <td>2023-11-09 14:03:50</td>\n",
       "      <td>2023-11-10 03:30:00</td>\n",
       "      <td>1969-12-31 18:00:00</td>\n",
       "      <td>AP-JOURNAL-CANCEL ENERO 2024.tsv</td>\n",
       "      <td>2023-11-10</td>\n",
       "      <td>03:30:00</td>\n",
       "      <td>ruvalcabapeleteros@hotmail.com</td>\n",
       "      <td>RUVALCABA PELETEROS S.A. DE C.V.</td>\n",
       "    </tr>\n",
       "    <tr>\n",
       "      <th>2</th>\n",
       "      <td>0000b65a-c2a2-4993-8f4c-05e5b7cbd7c0</td>\n",
       "      <td>-941.28</td>\n",
       "      <td>MXN</td>\n",
       "      <td>cancel request</td>\n",
       "      <td>d739f381-95ed-4f9e-bf7f-691b44004c11</td>\n",
       "      <td>CANCEL_RQ</td>\n",
       "      <td>PYMT</td>\n",
       "      <td>2023-10-19 14:06:46</td>\n",
       "      <td>2023-10-20 03:30:00</td>\n",
       "      <td>2023-10-19 14:06:46</td>\n",
       "      <td>2023-10-20 03:30:00</td>\n",
       "      <td>1969-12-31 18:00:00</td>\n",
       "      <td>AP-JOURNAL-CANCEL ENERO 2024.tsv</td>\n",
       "      <td>2023-10-20</td>\n",
       "      <td>03:30:00</td>\n",
       "      <td>ruvalcabapeleteros@hotmail.com</td>\n",
       "      <td>RUVALCABA PELETEROS S.A. DE C.V.</td>\n",
       "    </tr>\n",
       "    <tr>\n",
       "      <th>3</th>\n",
       "      <td>0000bc20-a726-4fe6-b784-1eb97c287ad5</td>\n",
       "      <td>-94.87</td>\n",
       "      <td>MXN</td>\n",
       "      <td>cancel request</td>\n",
       "      <td>62e7e6f0-aa27-45be-894f-545f4f1b0ab6</td>\n",
       "      <td>CANCEL_RQ</td>\n",
       "      <td>PYMT</td>\n",
       "      <td>2023-08-22 01:36:22</td>\n",
       "      <td>2023-08-22 01:36:27</td>\n",
       "      <td>2023-08-22 01:36:22</td>\n",
       "      <td>2023-08-23 00:00:00</td>\n",
       "      <td>1969-12-31 18:00:00</td>\n",
       "      <td>AP-JOURNAL-CANCEL ENERO 2024.tsv</td>\n",
       "      <td>2023-08-22</td>\n",
       "      <td>01:36:27</td>\n",
       "      <td>eberardoburgos6@gmail.com</td>\n",
       "      <td>DOGOS EL WERO</td>\n",
       "    </tr>\n",
       "    <tr>\n",
       "      <th>4</th>\n",
       "      <td>0000bc20-a726-4fe6-b784-1eb97c287ad5</td>\n",
       "      <td>-86.24</td>\n",
       "      <td>MXN</td>\n",
       "      <td>cancel request</td>\n",
       "      <td>6d5ac39e-d9b4-4027-9334-d160e4f41ede</td>\n",
       "      <td>CANCEL_RQ</td>\n",
       "      <td>PYMT</td>\n",
       "      <td>2023-08-06 20:10:36</td>\n",
       "      <td>2023-08-06 20:10:41</td>\n",
       "      <td>2023-08-06 20:10:36</td>\n",
       "      <td>2023-08-07 05:00:00</td>\n",
       "      <td>1969-12-31 18:00:00</td>\n",
       "      <td>AP-JOURNAL-CANCEL ENERO 2024.tsv</td>\n",
       "      <td>2023-08-06</td>\n",
       "      <td>20:10:41</td>\n",
       "      <td>eberardoburgos6@gmail.com</td>\n",
       "      <td>DOGOS EL WERO</td>\n",
       "    </tr>\n",
       "  </tbody>\n",
       "</table>\n",
       "</div>"
      ],
      "text/plain": [
       "                            merchant_id     amount currency    type_request  \\\n",
       "0  00008e01-812f-487e-8f34-a80bcb0ae3e3 -47,912.00      MXN  cancel request   \n",
       "1  0000b65a-c2a2-4993-8f4c-05e5b7cbd7c0    -787.68      MXN  cancel request   \n",
       "2  0000b65a-c2a2-4993-8f4c-05e5b7cbd7c0    -941.28      MXN  cancel request   \n",
       "3  0000bc20-a726-4fe6-b784-1eb97c287ad5     -94.87      MXN  cancel request   \n",
       "4  0000bc20-a726-4fe6-b784-1eb97c287ad5     -86.24      MXN  cancel request   \n",
       "\n",
       "                                mvnt_id movement_type source_type  \\\n",
       "0  89642c1b-ee74-48a9-a7f4-39f9a6e54aec     CANCEL_RQ        PYMT   \n",
       "1  f6b65fd2-d168-4ecd-b433-97b78808adbb     CANCEL_RQ        PYMT   \n",
       "2  d739f381-95ed-4f9e-bf7f-691b44004c11     CANCEL_RQ        PYMT   \n",
       "3  62e7e6f0-aa27-45be-894f-545f4f1b0ab6     CANCEL_RQ        PYMT   \n",
       "4  6d5ac39e-d9b4-4027-9334-d160e4f41ede     CANCEL_RQ        PYMT   \n",
       "\n",
       "           created_at              eff_dt        movement_day  \\\n",
       "0 2024-01-14 19:15:43 2024-01-15 04:30:00 2024-01-14 19:15:43   \n",
       "1 2023-11-09 14:03:50 2023-11-10 03:30:00 2023-11-09 14:03:50   \n",
       "2 2023-10-19 14:06:46 2023-10-20 03:30:00 2023-10-19 14:06:46   \n",
       "3 2023-08-22 01:36:22 2023-08-22 01:36:27 2023-08-22 01:36:22   \n",
       "4 2023-08-06 20:10:36 2023-08-06 20:10:41 2023-08-06 20:10:36   \n",
       "\n",
       "  request_effective_date           slot_date  \\\n",
       "0    2024-01-15 04:30:00 1969-12-31 18:00:00   \n",
       "1    2023-11-10 03:30:00 1969-12-31 18:00:00   \n",
       "2    2023-10-20 03:30:00 1969-12-31 18:00:00   \n",
       "3    2023-08-23 00:00:00 1969-12-31 18:00:00   \n",
       "4    2023-08-07 05:00:00 1969-12-31 18:00:00   \n",
       "\n",
       "                          file_name eff_dt_date eff_dt_time  \\\n",
       "0  AP-JOURNAL-CANCEL ENERO 2024.tsv  2024-01-15    04:30:00   \n",
       "1  AP-JOURNAL-CANCEL ENERO 2024.tsv  2023-11-10    03:30:00   \n",
       "2  AP-JOURNAL-CANCEL ENERO 2024.tsv  2023-10-20    03:30:00   \n",
       "3  AP-JOURNAL-CANCEL ENERO 2024.tsv  2023-08-22    01:36:27   \n",
       "4  AP-JOURNAL-CANCEL ENERO 2024.tsv  2023-08-06    20:10:41   \n",
       "\n",
       "                            email                     merchant_name  \n",
       "0                pagos@abz.com.mx        ABZ CONSULTING SERVICES SA  \n",
       "1  ruvalcabapeleteros@hotmail.com  RUVALCABA PELETEROS S.A. DE C.V.  \n",
       "2  ruvalcabapeleteros@hotmail.com  RUVALCABA PELETEROS S.A. DE C.V.  \n",
       "3       eberardoburgos6@gmail.com                     DOGOS EL WERO  \n",
       "4       eberardoburgos6@gmail.com                     DOGOS EL WERO  "
      ]
     },
     "execution_count": 44,
     "metadata": {},
     "output_type": "execute_result"
    }
   ],
   "source": [
    "ap_canc = ap_preview_canc.merge(email[['merchant_id','email','merchant_name']],on='merchant_id',how='left')\n",
    "ap_canc.head()"
   ]
  },
  {
   "cell_type": "code",
   "execution_count": 45,
   "id": "75982da5",
   "metadata": {},
   "outputs": [
    {
     "data": {
      "text/plain": [
       "(257149, 17)"
      ]
     },
     "execution_count": 45,
     "metadata": {},
     "output_type": "execute_result"
    }
   ],
   "source": [
    "ap_canc.shape"
   ]
  },
  {
   "cell_type": "code",
   "execution_count": 46,
   "id": "cecd7fb1",
   "metadata": {},
   "outputs": [
    {
     "data": {
      "text/html": [
       "<div>\n",
       "<style scoped>\n",
       "    .dataframe tbody tr th:only-of-type {\n",
       "        vertical-align: middle;\n",
       "    }\n",
       "\n",
       "    .dataframe tbody tr th {\n",
       "        vertical-align: top;\n",
       "    }\n",
       "\n",
       "    .dataframe thead th {\n",
       "        text-align: right;\n",
       "    }\n",
       "</style>\n",
       "<table border=\"1\" class=\"dataframe\">\n",
       "  <thead>\n",
       "    <tr style=\"text-align: right;\">\n",
       "      <th></th>\n",
       "      <th>merchant_id</th>\n",
       "      <th>amount</th>\n",
       "      <th>currency</th>\n",
       "      <th>type_request</th>\n",
       "      <th>mvnt_id</th>\n",
       "      <th>movement_type</th>\n",
       "      <th>source_type</th>\n",
       "      <th>created_at</th>\n",
       "      <th>eff_dt</th>\n",
       "      <th>movement_day</th>\n",
       "      <th>request_effective_date</th>\n",
       "      <th>slot_date</th>\n",
       "      <th>file_name</th>\n",
       "      <th>eff_dt_date</th>\n",
       "      <th>eff_dt_time</th>\n",
       "      <th>email</th>\n",
       "      <th>merchant_name</th>\n",
       "    </tr>\n",
       "  </thead>\n",
       "  <tbody>\n",
       "  </tbody>\n",
       "</table>\n",
       "</div>"
      ],
      "text/plain": [
       "Empty DataFrame\n",
       "Columns: [merchant_id, amount, currency, type_request, mvnt_id, movement_type, source_type, created_at, eff_dt, movement_day, request_effective_date, slot_date, file_name, eff_dt_date, eff_dt_time, email, merchant_name]\n",
       "Index: []"
      ]
     },
     "execution_count": 46,
     "metadata": {},
     "output_type": "execute_result"
    }
   ],
   "source": [
    "duplicates_ap_canc = ap_canc[ap_canc.duplicated(['mvnt_id'] , keep=False)]\n",
    "duplicates_ap_canc.head()"
   ]
  },
  {
   "cell_type": "code",
   "execution_count": 47,
   "id": "2c3fc962",
   "metadata": {},
   "outputs": [
    {
     "data": {
      "text/plain": [
       "(0, 17)"
      ]
     },
     "execution_count": 47,
     "metadata": {},
     "output_type": "execute_result"
    }
   ],
   "source": [
    "duplicates_ap_canc.shape"
   ]
  },
  {
   "cell_type": "markdown",
   "id": "c73ecddb",
   "metadata": {},
   "source": [
    "# CRUCE_1: AP JOURNAL VS SETTLEMENT MASTER LOG"
   ]
  },
  {
   "cell_type": "code",
   "execution_count": 48,
   "id": "ac4ff64f",
   "metadata": {},
   "outputs": [
    {
     "data": {
      "text/html": [
       "<div>\n",
       "<style scoped>\n",
       "    .dataframe tbody tr th:only-of-type {\n",
       "        vertical-align: middle;\n",
       "    }\n",
       "\n",
       "    .dataframe tbody tr th {\n",
       "        vertical-align: top;\n",
       "    }\n",
       "\n",
       "    .dataframe thead th {\n",
       "        text-align: right;\n",
       "    }\n",
       "</style>\n",
       "<table border=\"1\" class=\"dataframe\">\n",
       "  <thead>\n",
       "    <tr style=\"text-align: right;\">\n",
       "      <th></th>\n",
       "      <th>merchant_id</th>\n",
       "      <th>amount</th>\n",
       "      <th>currency</th>\n",
       "      <th>type_request</th>\n",
       "      <th>mvnt_id</th>\n",
       "      <th>movement_type</th>\n",
       "      <th>source_type</th>\n",
       "      <th>created_at</th>\n",
       "      <th>eff_dt</th>\n",
       "      <th>movement_day</th>\n",
       "      <th>...</th>\n",
       "      <th>net_amount</th>\n",
       "      <th>mdr</th>\n",
       "      <th>msi</th>\n",
       "      <th>number_msi</th>\n",
       "      <th>receipt_no</th>\n",
       "      <th>status_code</th>\n",
       "      <th>dcc_amount</th>\n",
       "      <th>dcc_rate</th>\n",
       "      <th>dcc_status</th>\n",
       "      <th>pymt_prg</th>\n",
       "    </tr>\n",
       "  </thead>\n",
       "  <tbody>\n",
       "    <tr>\n",
       "      <th>0</th>\n",
       "      <td>0000275f-d46b-4a9c-a227-42d6f7ce63bd</td>\n",
       "      <td>2,874.72</td>\n",
       "      <td>MXN</td>\n",
       "      <td>settlement processor regular payment request</td>\n",
       "      <td>54d62474-2e31-42ef-b11a-32abca59c3b6</td>\n",
       "      <td>REGULAR_PYMT_RQ</td>\n",
       "      <td>SETT</td>\n",
       "      <td>2024-01-29 21:09:35</td>\n",
       "      <td>2024-01-30 05:30:00</td>\n",
       "      <td>2024-01-29 21:09:35</td>\n",
       "      <td>...</td>\n",
       "      <td>2,874.72</td>\n",
       "      <td>0.04</td>\n",
       "      <td>0.00</td>\n",
       "      <td>0.00</td>\n",
       "      <td>Lg96mbl</td>\n",
       "      <td>1.00</td>\n",
       "      <td>NaN</td>\n",
       "      <td>NaN</td>\n",
       "      <td>NaN</td>\n",
       "      <td>REGULAR_PAYMENT</td>\n",
       "    </tr>\n",
       "    <tr>\n",
       "      <th>1</th>\n",
       "      <td>0000275f-d46b-4a9c-a227-42d6f7ce63bd</td>\n",
       "      <td>2,874.72</td>\n",
       "      <td>MXN</td>\n",
       "      <td>settlement processor regular payment request</td>\n",
       "      <td>98e7c45d-0f1b-4ea9-a211-773b1a746a85</td>\n",
       "      <td>REGULAR_PYMT_RQ</td>\n",
       "      <td>SETT</td>\n",
       "      <td>2024-01-01 03:59:17</td>\n",
       "      <td>2024-01-02 01:00:00</td>\n",
       "      <td>2024-01-01 03:59:17</td>\n",
       "      <td>...</td>\n",
       "      <td>2,874.72</td>\n",
       "      <td>0.04</td>\n",
       "      <td>0.00</td>\n",
       "      <td>0.00</td>\n",
       "      <td>G7WmyHD</td>\n",
       "      <td>1.00</td>\n",
       "      <td>NaN</td>\n",
       "      <td>NaN</td>\n",
       "      <td>NaN</td>\n",
       "      <td>REGULAR_PAYMENT</td>\n",
       "    </tr>\n",
       "    <tr>\n",
       "      <th>2</th>\n",
       "      <td>00007725-3116-48dc-9b82-4145699dc290</td>\n",
       "      <td>958.24</td>\n",
       "      <td>MXN</td>\n",
       "      <td>settlement processor regular payment request</td>\n",
       "      <td>b87ada5c-b33d-4c76-b3be-58255c264a38</td>\n",
       "      <td>REGULAR_PYMT_RQ</td>\n",
       "      <td>SETT</td>\n",
       "      <td>2024-01-22 12:09:45</td>\n",
       "      <td>2024-01-23 03:30:00</td>\n",
       "      <td>2024-01-22 12:09:45</td>\n",
       "      <td>...</td>\n",
       "      <td>958.24</td>\n",
       "      <td>0.04</td>\n",
       "      <td>0.00</td>\n",
       "      <td>0.00</td>\n",
       "      <td>7I2LuEv</td>\n",
       "      <td>1.00</td>\n",
       "      <td>NaN</td>\n",
       "      <td>NaN</td>\n",
       "      <td>NaN</td>\n",
       "      <td>REGULAR_PAYMENT</td>\n",
       "    </tr>\n",
       "    <tr>\n",
       "      <th>3</th>\n",
       "      <td>00007725-3116-48dc-9b82-4145699dc290</td>\n",
       "      <td>958.24</td>\n",
       "      <td>MXN</td>\n",
       "      <td>settlement processor regular payment request</td>\n",
       "      <td>f9429f46-4936-4b74-840d-8cfeaeeaf0ad</td>\n",
       "      <td>REGULAR_PYMT_RQ</td>\n",
       "      <td>SETT</td>\n",
       "      <td>2024-01-20 12:29:55</td>\n",
       "      <td>2024-01-21 03:30:00</td>\n",
       "      <td>2024-01-20 12:29:55</td>\n",
       "      <td>...</td>\n",
       "      <td>958.24</td>\n",
       "      <td>0.04</td>\n",
       "      <td>0.00</td>\n",
       "      <td>0.00</td>\n",
       "      <td>NO6igcL</td>\n",
       "      <td>1.00</td>\n",
       "      <td>NaN</td>\n",
       "      <td>NaN</td>\n",
       "      <td>NaN</td>\n",
       "      <td>REGULAR_PAYMENT</td>\n",
       "    </tr>\n",
       "    <tr>\n",
       "      <th>4</th>\n",
       "      <td>00008e01-812f-487e-8f34-a80bcb0ae3e3</td>\n",
       "      <td>19,294.12</td>\n",
       "      <td>MXN</td>\n",
       "      <td>settlement processor regular payment request</td>\n",
       "      <td>b076821b-f2fa-4bd6-8752-e6c12cd19816</td>\n",
       "      <td>REGULAR_PYMT_RQ</td>\n",
       "      <td>SETT</td>\n",
       "      <td>2024-01-16 12:43:04</td>\n",
       "      <td>2024-01-17 03:30:00</td>\n",
       "      <td>2024-01-16 12:43:04</td>\n",
       "      <td>...</td>\n",
       "      <td>19,294.12</td>\n",
       "      <td>0.04</td>\n",
       "      <td>0.04</td>\n",
       "      <td>3.00</td>\n",
       "      <td>H3RgVeA</td>\n",
       "      <td>1.00</td>\n",
       "      <td>NaN</td>\n",
       "      <td>NaN</td>\n",
       "      <td>NaN</td>\n",
       "      <td>REGULAR_PAYMENT</td>\n",
       "    </tr>\n",
       "  </tbody>\n",
       "</table>\n",
       "<p>5 rows × 31 columns</p>\n",
       "</div>"
      ],
      "text/plain": [
       "                            merchant_id    amount currency  \\\n",
       "0  0000275f-d46b-4a9c-a227-42d6f7ce63bd  2,874.72      MXN   \n",
       "1  0000275f-d46b-4a9c-a227-42d6f7ce63bd  2,874.72      MXN   \n",
       "2  00007725-3116-48dc-9b82-4145699dc290    958.24      MXN   \n",
       "3  00007725-3116-48dc-9b82-4145699dc290    958.24      MXN   \n",
       "4  00008e01-812f-487e-8f34-a80bcb0ae3e3 19,294.12      MXN   \n",
       "\n",
       "                                   type_request  \\\n",
       "0  settlement processor regular payment request   \n",
       "1  settlement processor regular payment request   \n",
       "2  settlement processor regular payment request   \n",
       "3  settlement processor regular payment request   \n",
       "4  settlement processor regular payment request   \n",
       "\n",
       "                                mvnt_id    movement_type source_type  \\\n",
       "0  54d62474-2e31-42ef-b11a-32abca59c3b6  REGULAR_PYMT_RQ        SETT   \n",
       "1  98e7c45d-0f1b-4ea9-a211-773b1a746a85  REGULAR_PYMT_RQ        SETT   \n",
       "2  b87ada5c-b33d-4c76-b3be-58255c264a38  REGULAR_PYMT_RQ        SETT   \n",
       "3  f9429f46-4936-4b74-840d-8cfeaeeaf0ad  REGULAR_PYMT_RQ        SETT   \n",
       "4  b076821b-f2fa-4bd6-8752-e6c12cd19816  REGULAR_PYMT_RQ        SETT   \n",
       "\n",
       "           created_at              eff_dt        movement_day  ... net_amount  \\\n",
       "0 2024-01-29 21:09:35 2024-01-30 05:30:00 2024-01-29 21:09:35  ...   2,874.72   \n",
       "1 2024-01-01 03:59:17 2024-01-02 01:00:00 2024-01-01 03:59:17  ...   2,874.72   \n",
       "2 2024-01-22 12:09:45 2024-01-23 03:30:00 2024-01-22 12:09:45  ...     958.24   \n",
       "3 2024-01-20 12:29:55 2024-01-21 03:30:00 2024-01-20 12:29:55  ...     958.24   \n",
       "4 2024-01-16 12:43:04 2024-01-17 03:30:00 2024-01-16 12:43:04  ...  19,294.12   \n",
       "\n",
       "   mdr  msi number_msi receipt_no status_code dcc_amount  dcc_rate  \\\n",
       "0 0.04 0.00       0.00    Lg96mbl        1.00        NaN       NaN   \n",
       "1 0.04 0.00       0.00    G7WmyHD        1.00        NaN       NaN   \n",
       "2 0.04 0.00       0.00    7I2LuEv        1.00        NaN       NaN   \n",
       "3 0.04 0.00       0.00    NO6igcL        1.00        NaN       NaN   \n",
       "4 0.04 0.04       3.00    H3RgVeA        1.00        NaN       NaN   \n",
       "\n",
       "   dcc_status         pymt_prg  \n",
       "0         NaN  REGULAR_PAYMENT  \n",
       "1         NaN  REGULAR_PAYMENT  \n",
       "2         NaN  REGULAR_PAYMENT  \n",
       "3         NaN  REGULAR_PAYMENT  \n",
       "4         NaN  REGULAR_PAYMENT  \n",
       "\n",
       "[5 rows x 31 columns]"
      ]
     },
     "execution_count": 48,
     "metadata": {},
     "output_type": "execute_result"
    }
   ],
   "source": [
    "cruce_1 = ap.merge(sml_final[['mvnt_id','psp_amount','gross_amount','fees','taxes','net_amount','mdr','msi','number_msi',\n",
    "                             'receipt_no','status_code','dcc_amount','dcc_rate','dcc_status','pymt_prg']],on='mvnt_id',\n",
    "                               how='left')\n",
    "cruce_1.head()"
   ]
  },
  {
   "cell_type": "code",
   "execution_count": 49,
   "id": "bab4e167",
   "metadata": {},
   "outputs": [
    {
     "data": {
      "text/plain": [
       "(15830410, 31)"
      ]
     },
     "execution_count": 49,
     "metadata": {},
     "output_type": "execute_result"
    }
   ],
   "source": [
    "cruce_1.shape"
   ]
  },
  {
   "cell_type": "code",
   "execution_count": 50,
   "id": "c03fffe2",
   "metadata": {},
   "outputs": [
    {
     "data": {
      "text/html": [
       "<div>\n",
       "<style scoped>\n",
       "    .dataframe tbody tr th:only-of-type {\n",
       "        vertical-align: middle;\n",
       "    }\n",
       "\n",
       "    .dataframe tbody tr th {\n",
       "        vertical-align: top;\n",
       "    }\n",
       "\n",
       "    .dataframe thead th {\n",
       "        text-align: right;\n",
       "    }\n",
       "</style>\n",
       "<table border=\"1\" class=\"dataframe\">\n",
       "  <thead>\n",
       "    <tr style=\"text-align: right;\">\n",
       "      <th></th>\n",
       "      <th>merchant_id</th>\n",
       "      <th>amount</th>\n",
       "      <th>currency</th>\n",
       "      <th>type_request</th>\n",
       "      <th>mvnt_id</th>\n",
       "      <th>movement_type</th>\n",
       "      <th>source_type</th>\n",
       "      <th>created_at</th>\n",
       "      <th>eff_dt</th>\n",
       "      <th>movement_day</th>\n",
       "      <th>...</th>\n",
       "      <th>net_amount</th>\n",
       "      <th>mdr</th>\n",
       "      <th>msi</th>\n",
       "      <th>number_msi</th>\n",
       "      <th>receipt_no</th>\n",
       "      <th>status_code</th>\n",
       "      <th>dcc_amount</th>\n",
       "      <th>dcc_rate</th>\n",
       "      <th>dcc_status</th>\n",
       "      <th>pymt_prg</th>\n",
       "    </tr>\n",
       "  </thead>\n",
       "  <tbody>\n",
       "  </tbody>\n",
       "</table>\n",
       "<p>0 rows × 31 columns</p>\n",
       "</div>"
      ],
      "text/plain": [
       "Empty DataFrame\n",
       "Columns: [merchant_id, amount, currency, type_request, mvnt_id, movement_type, source_type, created_at, eff_dt, movement_day, request_effective_date, slot_date, file_name, eff_dt_date, eff_dt_time, email, merchant_name, psp_amount, gross_amount, fees, taxes, net_amount, mdr, msi, number_msi, receipt_no, status_code, dcc_amount, dcc_rate, dcc_status, pymt_prg]\n",
       "Index: []\n",
       "\n",
       "[0 rows x 31 columns]"
      ]
     },
     "execution_count": 50,
     "metadata": {},
     "output_type": "execute_result"
    }
   ],
   "source": [
    "cruce_1_email_null = cruce_1[(cruce_1['email'].isnull())]\n",
    "cruce_1_email_null.head()"
   ]
  },
  {
   "cell_type": "code",
   "execution_count": 51,
   "id": "8917fccb",
   "metadata": {},
   "outputs": [
    {
     "data": {
      "text/plain": [
       "(0, 31)"
      ]
     },
     "execution_count": 51,
     "metadata": {},
     "output_type": "execute_result"
    }
   ],
   "source": [
    "cruce_1_email_null.shape"
   ]
  },
  {
   "cell_type": "markdown",
   "id": "d2fbe9b6",
   "metadata": {},
   "source": [
    "# CRUCE_1_CANCELACIONES: AP JOURNAL CANCELACIONES VS SETTLEMENT MASTER LOG"
   ]
  },
  {
   "cell_type": "code",
   "execution_count": 52,
   "id": "f1896491",
   "metadata": {},
   "outputs": [
    {
     "data": {
      "text/html": [
       "<div>\n",
       "<style scoped>\n",
       "    .dataframe tbody tr th:only-of-type {\n",
       "        vertical-align: middle;\n",
       "    }\n",
       "\n",
       "    .dataframe tbody tr th {\n",
       "        vertical-align: top;\n",
       "    }\n",
       "\n",
       "    .dataframe thead th {\n",
       "        text-align: right;\n",
       "    }\n",
       "</style>\n",
       "<table border=\"1\" class=\"dataframe\">\n",
       "  <thead>\n",
       "    <tr style=\"text-align: right;\">\n",
       "      <th></th>\n",
       "      <th>merchant_id</th>\n",
       "      <th>amount</th>\n",
       "      <th>currency</th>\n",
       "      <th>type_request</th>\n",
       "      <th>mvnt_id</th>\n",
       "      <th>movement_type</th>\n",
       "      <th>source_type</th>\n",
       "      <th>created_at</th>\n",
       "      <th>eff_dt</th>\n",
       "      <th>movement_day</th>\n",
       "      <th>...</th>\n",
       "      <th>net_amount_pymt</th>\n",
       "      <th>mdr</th>\n",
       "      <th>msi</th>\n",
       "      <th>number_msi</th>\n",
       "      <th>receipt_no</th>\n",
       "      <th>status_code</th>\n",
       "      <th>dcc_amount</th>\n",
       "      <th>dcc_rate</th>\n",
       "      <th>dcc_status</th>\n",
       "      <th>pymt_prg</th>\n",
       "    </tr>\n",
       "  </thead>\n",
       "  <tbody>\n",
       "    <tr>\n",
       "      <th>0</th>\n",
       "      <td>00008e01-812f-487e-8f34-a80bcb0ae3e3</td>\n",
       "      <td>-47,912.00</td>\n",
       "      <td>MXN</td>\n",
       "      <td>cancel request</td>\n",
       "      <td>89642c1b-ee74-48a9-a7f4-39f9a6e54aec</td>\n",
       "      <td>CANCEL_RQ</td>\n",
       "      <td>PYMT</td>\n",
       "      <td>2024-01-14 19:15:43</td>\n",
       "      <td>2024-01-15 04:30:00</td>\n",
       "      <td>2024-01-14 19:15:43</td>\n",
       "      <td>...</td>\n",
       "      <td>47,912.00</td>\n",
       "      <td>0.04</td>\n",
       "      <td>0.00</td>\n",
       "      <td>9.00</td>\n",
       "      <td>5UfuOTY</td>\n",
       "      <td>3.00</td>\n",
       "      <td>NaN</td>\n",
       "      <td>NaN</td>\n",
       "      <td>NaN</td>\n",
       "      <td>REGULAR_PAYMENT</td>\n",
       "    </tr>\n",
       "    <tr>\n",
       "      <th>1</th>\n",
       "      <td>0000b65a-c2a2-4993-8f4c-05e5b7cbd7c0</td>\n",
       "      <td>-787.68</td>\n",
       "      <td>MXN</td>\n",
       "      <td>cancel request</td>\n",
       "      <td>f6b65fd2-d168-4ecd-b433-97b78808adbb</td>\n",
       "      <td>CANCEL_RQ</td>\n",
       "      <td>PYMT</td>\n",
       "      <td>2023-11-09 14:03:50</td>\n",
       "      <td>2023-11-10 03:30:00</td>\n",
       "      <td>2023-11-09 14:03:50</td>\n",
       "      <td>...</td>\n",
       "      <td>NaN</td>\n",
       "      <td>NaN</td>\n",
       "      <td>NaN</td>\n",
       "      <td>NaN</td>\n",
       "      <td>NaN</td>\n",
       "      <td>NaN</td>\n",
       "      <td>NaN</td>\n",
       "      <td>NaN</td>\n",
       "      <td>NaN</td>\n",
       "      <td>NaN</td>\n",
       "    </tr>\n",
       "    <tr>\n",
       "      <th>2</th>\n",
       "      <td>0000b65a-c2a2-4993-8f4c-05e5b7cbd7c0</td>\n",
       "      <td>-941.28</td>\n",
       "      <td>MXN</td>\n",
       "      <td>cancel request</td>\n",
       "      <td>d739f381-95ed-4f9e-bf7f-691b44004c11</td>\n",
       "      <td>CANCEL_RQ</td>\n",
       "      <td>PYMT</td>\n",
       "      <td>2023-10-19 14:06:46</td>\n",
       "      <td>2023-10-20 03:30:00</td>\n",
       "      <td>2023-10-19 14:06:46</td>\n",
       "      <td>...</td>\n",
       "      <td>NaN</td>\n",
       "      <td>NaN</td>\n",
       "      <td>NaN</td>\n",
       "      <td>NaN</td>\n",
       "      <td>NaN</td>\n",
       "      <td>NaN</td>\n",
       "      <td>NaN</td>\n",
       "      <td>NaN</td>\n",
       "      <td>NaN</td>\n",
       "      <td>NaN</td>\n",
       "    </tr>\n",
       "    <tr>\n",
       "      <th>3</th>\n",
       "      <td>0000bc20-a726-4fe6-b784-1eb97c287ad5</td>\n",
       "      <td>-94.87</td>\n",
       "      <td>MXN</td>\n",
       "      <td>cancel request</td>\n",
       "      <td>62e7e6f0-aa27-45be-894f-545f4f1b0ab6</td>\n",
       "      <td>CANCEL_RQ</td>\n",
       "      <td>PYMT</td>\n",
       "      <td>2023-08-22 01:36:22</td>\n",
       "      <td>2023-08-22 01:36:27</td>\n",
       "      <td>2023-08-22 01:36:22</td>\n",
       "      <td>...</td>\n",
       "      <td>NaN</td>\n",
       "      <td>NaN</td>\n",
       "      <td>NaN</td>\n",
       "      <td>NaN</td>\n",
       "      <td>NaN</td>\n",
       "      <td>NaN</td>\n",
       "      <td>NaN</td>\n",
       "      <td>NaN</td>\n",
       "      <td>NaN</td>\n",
       "      <td>NaN</td>\n",
       "    </tr>\n",
       "    <tr>\n",
       "      <th>4</th>\n",
       "      <td>0000bc20-a726-4fe6-b784-1eb97c287ad5</td>\n",
       "      <td>-86.24</td>\n",
       "      <td>MXN</td>\n",
       "      <td>cancel request</td>\n",
       "      <td>6d5ac39e-d9b4-4027-9334-d160e4f41ede</td>\n",
       "      <td>CANCEL_RQ</td>\n",
       "      <td>PYMT</td>\n",
       "      <td>2023-08-06 20:10:36</td>\n",
       "      <td>2023-08-06 20:10:41</td>\n",
       "      <td>2023-08-06 20:10:36</td>\n",
       "      <td>...</td>\n",
       "      <td>NaN</td>\n",
       "      <td>NaN</td>\n",
       "      <td>NaN</td>\n",
       "      <td>NaN</td>\n",
       "      <td>NaN</td>\n",
       "      <td>NaN</td>\n",
       "      <td>NaN</td>\n",
       "      <td>NaN</td>\n",
       "      <td>NaN</td>\n",
       "      <td>NaN</td>\n",
       "    </tr>\n",
       "  </tbody>\n",
       "</table>\n",
       "<p>5 rows × 31 columns</p>\n",
       "</div>"
      ],
      "text/plain": [
       "                            merchant_id     amount currency    type_request  \\\n",
       "0  00008e01-812f-487e-8f34-a80bcb0ae3e3 -47,912.00      MXN  cancel request   \n",
       "1  0000b65a-c2a2-4993-8f4c-05e5b7cbd7c0    -787.68      MXN  cancel request   \n",
       "2  0000b65a-c2a2-4993-8f4c-05e5b7cbd7c0    -941.28      MXN  cancel request   \n",
       "3  0000bc20-a726-4fe6-b784-1eb97c287ad5     -94.87      MXN  cancel request   \n",
       "4  0000bc20-a726-4fe6-b784-1eb97c287ad5     -86.24      MXN  cancel request   \n",
       "\n",
       "                                mvnt_id movement_type source_type  \\\n",
       "0  89642c1b-ee74-48a9-a7f4-39f9a6e54aec     CANCEL_RQ        PYMT   \n",
       "1  f6b65fd2-d168-4ecd-b433-97b78808adbb     CANCEL_RQ        PYMT   \n",
       "2  d739f381-95ed-4f9e-bf7f-691b44004c11     CANCEL_RQ        PYMT   \n",
       "3  62e7e6f0-aa27-45be-894f-545f4f1b0ab6     CANCEL_RQ        PYMT   \n",
       "4  6d5ac39e-d9b4-4027-9334-d160e4f41ede     CANCEL_RQ        PYMT   \n",
       "\n",
       "           created_at              eff_dt        movement_day  ...  \\\n",
       "0 2024-01-14 19:15:43 2024-01-15 04:30:00 2024-01-14 19:15:43  ...   \n",
       "1 2023-11-09 14:03:50 2023-11-10 03:30:00 2023-11-09 14:03:50  ...   \n",
       "2 2023-10-19 14:06:46 2023-10-20 03:30:00 2023-10-19 14:06:46  ...   \n",
       "3 2023-08-22 01:36:22 2023-08-22 01:36:27 2023-08-22 01:36:22  ...   \n",
       "4 2023-08-06 20:10:36 2023-08-06 20:10:41 2023-08-06 20:10:36  ...   \n",
       "\n",
       "  net_amount_pymt  mdr  msi number_msi receipt_no status_code dcc_amount  \\\n",
       "0       47,912.00 0.04 0.00       9.00    5UfuOTY        3.00        NaN   \n",
       "1             NaN  NaN  NaN        NaN        NaN         NaN        NaN   \n",
       "2             NaN  NaN  NaN        NaN        NaN         NaN        NaN   \n",
       "3             NaN  NaN  NaN        NaN        NaN         NaN        NaN   \n",
       "4             NaN  NaN  NaN        NaN        NaN         NaN        NaN   \n",
       "\n",
       "   dcc_rate  dcc_status         pymt_prg  \n",
       "0       NaN         NaN  REGULAR_PAYMENT  \n",
       "1       NaN         NaN              NaN  \n",
       "2       NaN         NaN              NaN  \n",
       "3       NaN         NaN              NaN  \n",
       "4       NaN         NaN              NaN  \n",
       "\n",
       "[5 rows x 31 columns]"
      ]
     },
     "execution_count": 52,
     "metadata": {},
     "output_type": "execute_result"
    }
   ],
   "source": [
    "cruce_1_canc = ap_canc.merge(sml_final[['mvnt_id','psp_amount','gross_amount','fees','taxes','net_amount','mdr','msi',\n",
    "                                        'number_msi','receipt_no','status_code','dcc_amount','dcc_rate','dcc_status','pymt_prg']],\n",
    "                             on='mvnt_id',how='left')\n",
    "cruce_1_canc.rename(columns={'psp_amount':'psp_amount_pymt','gross_amount':'gross_amount_pymt','fees':'fees_pymt',\n",
    "                             'taxes':'taxes_pymt','net_amount':'net_amount_pymt'},inplace=True)\n",
    "cruce_1_canc.head()"
   ]
  },
  {
   "cell_type": "code",
   "execution_count": 53,
   "id": "67488e80",
   "metadata": {},
   "outputs": [
    {
     "data": {
      "text/plain": [
       "(257149, 31)"
      ]
     },
     "execution_count": 53,
     "metadata": {},
     "output_type": "execute_result"
    }
   ],
   "source": [
    "cruce_1_canc.shape"
   ]
  },
  {
   "cell_type": "code",
   "execution_count": 54,
   "id": "0917f8e7",
   "metadata": {},
   "outputs": [
    {
     "data": {
      "text/html": [
       "<div>\n",
       "<style scoped>\n",
       "    .dataframe tbody tr th:only-of-type {\n",
       "        vertical-align: middle;\n",
       "    }\n",
       "\n",
       "    .dataframe tbody tr th {\n",
       "        vertical-align: top;\n",
       "    }\n",
       "\n",
       "    .dataframe thead th {\n",
       "        text-align: right;\n",
       "    }\n",
       "</style>\n",
       "<table border=\"1\" class=\"dataframe\">\n",
       "  <thead>\n",
       "    <tr style=\"text-align: right;\">\n",
       "      <th></th>\n",
       "      <th>merchant_id</th>\n",
       "      <th>amount</th>\n",
       "      <th>currency</th>\n",
       "      <th>type_request</th>\n",
       "      <th>mvnt_id</th>\n",
       "      <th>movement_type</th>\n",
       "      <th>source_type</th>\n",
       "      <th>created_at</th>\n",
       "      <th>eff_dt</th>\n",
       "      <th>movement_day</th>\n",
       "      <th>...</th>\n",
       "      <th>net_amount_pymt</th>\n",
       "      <th>mdr</th>\n",
       "      <th>msi</th>\n",
       "      <th>number_msi</th>\n",
       "      <th>receipt_no</th>\n",
       "      <th>status_code</th>\n",
       "      <th>dcc_amount</th>\n",
       "      <th>dcc_rate</th>\n",
       "      <th>dcc_status</th>\n",
       "      <th>pymt_prg</th>\n",
       "    </tr>\n",
       "  </thead>\n",
       "  <tbody>\n",
       "    <tr>\n",
       "      <th>166431</th>\n",
       "      <td>a29137b2-414d-428f-8f4a-c4596e48aaf5</td>\n",
       "      <td>-0.60</td>\n",
       "      <td>MXN</td>\n",
       "      <td>NaN</td>\n",
       "      <td>117a1615-c365-4d27-9bef-45c72e506cd3</td>\n",
       "      <td>CANCEL_RQ</td>\n",
       "      <td>PYMT</td>\n",
       "      <td>2022-04-28 16:57:17</td>\n",
       "      <td>2021-12-15 13:51:52</td>\n",
       "      <td>2021-10-15 14:51:52</td>\n",
       "      <td>...</td>\n",
       "      <td>NaN</td>\n",
       "      <td>NaN</td>\n",
       "      <td>NaN</td>\n",
       "      <td>NaN</td>\n",
       "      <td>NaN</td>\n",
       "      <td>NaN</td>\n",
       "      <td>NaN</td>\n",
       "      <td>NaN</td>\n",
       "      <td>NaN</td>\n",
       "      <td>NaN</td>\n",
       "    </tr>\n",
       "  </tbody>\n",
       "</table>\n",
       "<p>1 rows × 31 columns</p>\n",
       "</div>"
      ],
      "text/plain": [
       "                                 merchant_id  amount currency type_request  \\\n",
       "166431  a29137b2-414d-428f-8f4a-c4596e48aaf5   -0.60      MXN          NaN   \n",
       "\n",
       "                                     mvnt_id movement_type source_type  \\\n",
       "166431  117a1615-c365-4d27-9bef-45c72e506cd3     CANCEL_RQ        PYMT   \n",
       "\n",
       "                created_at              eff_dt        movement_day  ...  \\\n",
       "166431 2022-04-28 16:57:17 2021-12-15 13:51:52 2021-10-15 14:51:52  ...   \n",
       "\n",
       "       net_amount_pymt mdr msi number_msi receipt_no status_code dcc_amount  \\\n",
       "166431             NaN NaN NaN        NaN        NaN         NaN        NaN   \n",
       "\n",
       "        dcc_rate  dcc_status  pymt_prg  \n",
       "166431       NaN         NaN       NaN  \n",
       "\n",
       "[1 rows x 31 columns]"
      ]
     },
     "execution_count": 54,
     "metadata": {},
     "output_type": "execute_result"
    }
   ],
   "source": [
    "cruce_1_canc_email_null = cruce_1_canc[(cruce_1_canc['email'].isnull())]\n",
    "cruce_1_canc_email_null.head()"
   ]
  },
  {
   "cell_type": "code",
   "execution_count": 55,
   "id": "f32d0692",
   "metadata": {},
   "outputs": [
    {
     "data": {
      "text/plain": [
       "(1, 31)"
      ]
     },
     "execution_count": 55,
     "metadata": {},
     "output_type": "execute_result"
    }
   ],
   "source": [
    "cruce_1_canc_email_null.shape"
   ]
  },
  {
   "cell_type": "markdown",
   "id": "d53ea140",
   "metadata": {},
   "source": [
    "# PERIODO FACTURACION"
   ]
  },
  {
   "cell_type": "code",
   "execution_count": 56,
   "id": "a8c658d8",
   "metadata": {},
   "outputs": [
    {
     "data": {
      "text/html": [
       "<div>\n",
       "<style scoped>\n",
       "    .dataframe tbody tr th:only-of-type {\n",
       "        vertical-align: middle;\n",
       "    }\n",
       "\n",
       "    .dataframe tbody tr th {\n",
       "        vertical-align: top;\n",
       "    }\n",
       "\n",
       "    .dataframe thead th {\n",
       "        text-align: right;\n",
       "    }\n",
       "</style>\n",
       "<table border=\"1\" class=\"dataframe\">\n",
       "  <thead>\n",
       "    <tr style=\"text-align: right;\">\n",
       "      <th></th>\n",
       "      <th>merchant_id</th>\n",
       "      <th>amount</th>\n",
       "      <th>currency</th>\n",
       "      <th>type_request</th>\n",
       "      <th>mvnt_id</th>\n",
       "      <th>movement_type</th>\n",
       "      <th>source_type</th>\n",
       "      <th>created_at</th>\n",
       "      <th>eff_dt</th>\n",
       "      <th>movement_day</th>\n",
       "      <th>...</th>\n",
       "      <th>net_amount</th>\n",
       "      <th>mdr</th>\n",
       "      <th>msi</th>\n",
       "      <th>number_msi</th>\n",
       "      <th>receipt_no</th>\n",
       "      <th>status_code</th>\n",
       "      <th>dcc_amount</th>\n",
       "      <th>dcc_rate</th>\n",
       "      <th>dcc_status</th>\n",
       "      <th>pymt_prg</th>\n",
       "    </tr>\n",
       "  </thead>\n",
       "  <tbody>\n",
       "    <tr>\n",
       "      <th>0</th>\n",
       "      <td>0000275f-d46b-4a9c-a227-42d6f7ce63bd</td>\n",
       "      <td>2,874.72</td>\n",
       "      <td>MXN</td>\n",
       "      <td>settlement processor regular payment request</td>\n",
       "      <td>54d62474-2e31-42ef-b11a-32abca59c3b6</td>\n",
       "      <td>REGULAR_PYMT_RQ</td>\n",
       "      <td>SETT</td>\n",
       "      <td>2024-01-29 21:09:35</td>\n",
       "      <td>2024-01-30 05:30:00</td>\n",
       "      <td>2024-01-29 21:09:35</td>\n",
       "      <td>...</td>\n",
       "      <td>2,874.72</td>\n",
       "      <td>0.04</td>\n",
       "      <td>0.00</td>\n",
       "      <td>0.00</td>\n",
       "      <td>Lg96mbl</td>\n",
       "      <td>1.00</td>\n",
       "      <td>NaN</td>\n",
       "      <td>NaN</td>\n",
       "      <td>NaN</td>\n",
       "      <td>REGULAR_PAYMENT</td>\n",
       "    </tr>\n",
       "    <tr>\n",
       "      <th>1</th>\n",
       "      <td>0000275f-d46b-4a9c-a227-42d6f7ce63bd</td>\n",
       "      <td>2,874.72</td>\n",
       "      <td>MXN</td>\n",
       "      <td>settlement processor regular payment request</td>\n",
       "      <td>98e7c45d-0f1b-4ea9-a211-773b1a746a85</td>\n",
       "      <td>REGULAR_PYMT_RQ</td>\n",
       "      <td>SETT</td>\n",
       "      <td>2024-01-01 03:59:17</td>\n",
       "      <td>2024-01-02 01:00:00</td>\n",
       "      <td>2024-01-01 03:59:17</td>\n",
       "      <td>...</td>\n",
       "      <td>2,874.72</td>\n",
       "      <td>0.04</td>\n",
       "      <td>0.00</td>\n",
       "      <td>0.00</td>\n",
       "      <td>G7WmyHD</td>\n",
       "      <td>1.00</td>\n",
       "      <td>NaN</td>\n",
       "      <td>NaN</td>\n",
       "      <td>NaN</td>\n",
       "      <td>REGULAR_PAYMENT</td>\n",
       "    </tr>\n",
       "    <tr>\n",
       "      <th>2</th>\n",
       "      <td>00007725-3116-48dc-9b82-4145699dc290</td>\n",
       "      <td>958.24</td>\n",
       "      <td>MXN</td>\n",
       "      <td>settlement processor regular payment request</td>\n",
       "      <td>b87ada5c-b33d-4c76-b3be-58255c264a38</td>\n",
       "      <td>REGULAR_PYMT_RQ</td>\n",
       "      <td>SETT</td>\n",
       "      <td>2024-01-22 12:09:45</td>\n",
       "      <td>2024-01-23 03:30:00</td>\n",
       "      <td>2024-01-22 12:09:45</td>\n",
       "      <td>...</td>\n",
       "      <td>958.24</td>\n",
       "      <td>0.04</td>\n",
       "      <td>0.00</td>\n",
       "      <td>0.00</td>\n",
       "      <td>7I2LuEv</td>\n",
       "      <td>1.00</td>\n",
       "      <td>NaN</td>\n",
       "      <td>NaN</td>\n",
       "      <td>NaN</td>\n",
       "      <td>REGULAR_PAYMENT</td>\n",
       "    </tr>\n",
       "    <tr>\n",
       "      <th>3</th>\n",
       "      <td>00007725-3116-48dc-9b82-4145699dc290</td>\n",
       "      <td>958.24</td>\n",
       "      <td>MXN</td>\n",
       "      <td>settlement processor regular payment request</td>\n",
       "      <td>f9429f46-4936-4b74-840d-8cfeaeeaf0ad</td>\n",
       "      <td>REGULAR_PYMT_RQ</td>\n",
       "      <td>SETT</td>\n",
       "      <td>2024-01-20 12:29:55</td>\n",
       "      <td>2024-01-21 03:30:00</td>\n",
       "      <td>2024-01-20 12:29:55</td>\n",
       "      <td>...</td>\n",
       "      <td>958.24</td>\n",
       "      <td>0.04</td>\n",
       "      <td>0.00</td>\n",
       "      <td>0.00</td>\n",
       "      <td>NO6igcL</td>\n",
       "      <td>1.00</td>\n",
       "      <td>NaN</td>\n",
       "      <td>NaN</td>\n",
       "      <td>NaN</td>\n",
       "      <td>REGULAR_PAYMENT</td>\n",
       "    </tr>\n",
       "    <tr>\n",
       "      <th>4</th>\n",
       "      <td>00008e01-812f-487e-8f34-a80bcb0ae3e3</td>\n",
       "      <td>19,294.12</td>\n",
       "      <td>MXN</td>\n",
       "      <td>settlement processor regular payment request</td>\n",
       "      <td>b076821b-f2fa-4bd6-8752-e6c12cd19816</td>\n",
       "      <td>REGULAR_PYMT_RQ</td>\n",
       "      <td>SETT</td>\n",
       "      <td>2024-01-16 12:43:04</td>\n",
       "      <td>2024-01-17 03:30:00</td>\n",
       "      <td>2024-01-16 12:43:04</td>\n",
       "      <td>...</td>\n",
       "      <td>19,294.12</td>\n",
       "      <td>0.04</td>\n",
       "      <td>0.04</td>\n",
       "      <td>3.00</td>\n",
       "      <td>H3RgVeA</td>\n",
       "      <td>1.00</td>\n",
       "      <td>NaN</td>\n",
       "      <td>NaN</td>\n",
       "      <td>NaN</td>\n",
       "      <td>REGULAR_PAYMENT</td>\n",
       "    </tr>\n",
       "  </tbody>\n",
       "</table>\n",
       "<p>5 rows × 31 columns</p>\n",
       "</div>"
      ],
      "text/plain": [
       "                            merchant_id    amount currency  \\\n",
       "0  0000275f-d46b-4a9c-a227-42d6f7ce63bd  2,874.72      MXN   \n",
       "1  0000275f-d46b-4a9c-a227-42d6f7ce63bd  2,874.72      MXN   \n",
       "2  00007725-3116-48dc-9b82-4145699dc290    958.24      MXN   \n",
       "3  00007725-3116-48dc-9b82-4145699dc290    958.24      MXN   \n",
       "4  00008e01-812f-487e-8f34-a80bcb0ae3e3 19,294.12      MXN   \n",
       "\n",
       "                                   type_request  \\\n",
       "0  settlement processor regular payment request   \n",
       "1  settlement processor regular payment request   \n",
       "2  settlement processor regular payment request   \n",
       "3  settlement processor regular payment request   \n",
       "4  settlement processor regular payment request   \n",
       "\n",
       "                                mvnt_id    movement_type source_type  \\\n",
       "0  54d62474-2e31-42ef-b11a-32abca59c3b6  REGULAR_PYMT_RQ        SETT   \n",
       "1  98e7c45d-0f1b-4ea9-a211-773b1a746a85  REGULAR_PYMT_RQ        SETT   \n",
       "2  b87ada5c-b33d-4c76-b3be-58255c264a38  REGULAR_PYMT_RQ        SETT   \n",
       "3  f9429f46-4936-4b74-840d-8cfeaeeaf0ad  REGULAR_PYMT_RQ        SETT   \n",
       "4  b076821b-f2fa-4bd6-8752-e6c12cd19816  REGULAR_PYMT_RQ        SETT   \n",
       "\n",
       "           created_at              eff_dt        movement_day  ... net_amount  \\\n",
       "0 2024-01-29 21:09:35 2024-01-30 05:30:00 2024-01-29 21:09:35  ...   2,874.72   \n",
       "1 2024-01-01 03:59:17 2024-01-02 01:00:00 2024-01-01 03:59:17  ...   2,874.72   \n",
       "2 2024-01-22 12:09:45 2024-01-23 03:30:00 2024-01-22 12:09:45  ...     958.24   \n",
       "3 2024-01-20 12:29:55 2024-01-21 03:30:00 2024-01-20 12:29:55  ...     958.24   \n",
       "4 2024-01-16 12:43:04 2024-01-17 03:30:00 2024-01-16 12:43:04  ...  19,294.12   \n",
       "\n",
       "   mdr  msi number_msi receipt_no status_code dcc_amount  dcc_rate  \\\n",
       "0 0.04 0.00       0.00    Lg96mbl        1.00        NaN       NaN   \n",
       "1 0.04 0.00       0.00    G7WmyHD        1.00        NaN       NaN   \n",
       "2 0.04 0.00       0.00    7I2LuEv        1.00        NaN       NaN   \n",
       "3 0.04 0.00       0.00    NO6igcL        1.00        NaN       NaN   \n",
       "4 0.04 0.04       3.00    H3RgVeA        1.00        NaN       NaN   \n",
       "\n",
       "   dcc_status         pymt_prg  \n",
       "0         NaN  REGULAR_PAYMENT  \n",
       "1         NaN  REGULAR_PAYMENT  \n",
       "2         NaN  REGULAR_PAYMENT  \n",
       "3         NaN  REGULAR_PAYMENT  \n",
       "4         NaN  REGULAR_PAYMENT  \n",
       "\n",
       "[5 rows x 31 columns]"
      ]
     },
     "execution_count": 56,
     "metadata": {},
     "output_type": "execute_result"
    }
   ],
   "source": [
    "ap_sett = cruce_1[(cruce_1['eff_dt_date'] >= start_date_fact) & (cruce_1['eff_dt_date'] <= final_date_fact)]\n",
    "ap_sett.head()"
   ]
  },
  {
   "cell_type": "code",
   "execution_count": 57,
   "id": "da334c12",
   "metadata": {},
   "outputs": [
    {
     "data": {
      "text/plain": [
       "(15830410, 31)"
      ]
     },
     "execution_count": 57,
     "metadata": {},
     "output_type": "execute_result"
    }
   ],
   "source": [
    "ap_sett.shape"
   ]
  },
  {
   "cell_type": "code",
   "execution_count": 58,
   "id": "91700079",
   "metadata": {},
   "outputs": [
    {
     "data": {
      "text/plain": [
       "[Timestamp('2024-01-01 00:00:00'),\n",
       " Timestamp('2024-01-02 00:00:00'),\n",
       " Timestamp('2024-01-03 00:00:00'),\n",
       " Timestamp('2024-01-04 00:00:00'),\n",
       " Timestamp('2024-01-05 00:00:00'),\n",
       " Timestamp('2024-01-06 00:00:00'),\n",
       " Timestamp('2024-01-07 00:00:00'),\n",
       " Timestamp('2024-01-08 00:00:00'),\n",
       " Timestamp('2024-01-09 00:00:00'),\n",
       " Timestamp('2024-01-10 00:00:00'),\n",
       " Timestamp('2024-01-11 00:00:00'),\n",
       " Timestamp('2024-01-12 00:00:00'),\n",
       " Timestamp('2024-01-13 00:00:00'),\n",
       " Timestamp('2024-01-14 00:00:00'),\n",
       " Timestamp('2024-01-15 00:00:00'),\n",
       " Timestamp('2024-01-16 00:00:00'),\n",
       " Timestamp('2024-01-17 00:00:00'),\n",
       " Timestamp('2024-01-18 00:00:00'),\n",
       " Timestamp('2024-01-19 00:00:00'),\n",
       " Timestamp('2024-01-20 00:00:00'),\n",
       " Timestamp('2024-01-21 00:00:00'),\n",
       " Timestamp('2024-01-22 00:00:00'),\n",
       " Timestamp('2024-01-23 00:00:00'),\n",
       " Timestamp('2024-01-24 00:00:00'),\n",
       " Timestamp('2024-01-25 00:00:00'),\n",
       " Timestamp('2024-01-26 00:00:00'),\n",
       " Timestamp('2024-01-27 00:00:00'),\n",
       " Timestamp('2024-01-28 00:00:00'),\n",
       " Timestamp('2024-01-29 00:00:00'),\n",
       " Timestamp('2024-01-30 00:00:00'),\n",
       " Timestamp('2024-01-31 00:00:00')]"
      ]
     },
     "execution_count": 58,
     "metadata": {},
     "output_type": "execute_result"
    }
   ],
   "source": [
    "sorted(ap_sett['eff_dt_date'].unique())"
   ]
  },
  {
   "cell_type": "code",
   "execution_count": 59,
   "id": "acebd4f7",
   "metadata": {},
   "outputs": [],
   "source": [
    "# ap_disb = cruce_1_period[(cruce_1_period['source_type'] == 'DISB')]\n",
    "# ap_sett = cruce_1_period[(cruce_1_period['source_type'] == 'SETT')]\n",
    "# ap_topups = cruce_1_period[(cruce_1_period['source_type'] == 'TOPUPS')]\n",
    "# ap_loan = cruce_1_period[(cruce_1_period['source_type'] == 'LOAN')]\n",
    "# ap_pymt = cruce_1_period[(cruce_1_period['source_type'] == 'PYMT')]\n",
    "# ap_risk = cruce_1_period[(cruce_1_period['source_type'] == 'RISK')]\n",
    "# ap_refunds = cruce_1_period[(cruce_1_period['source_type'] == 'REFUNDS')]\n",
    "# ap_bill_pymnt = cruce_1_period[(cruce_1_period['source_type'] == 'BILL_PYMNT')]\n",
    "# ap_taxes = cruce_1_period[(cruce_1_period['source_type'] == 'TAXES')]\n",
    "# ap_sett_adptr = cruce_1_period[(cruce_1_period['source_type'] == 'SETT_ADPTR')]"
   ]
  },
  {
   "cell_type": "markdown",
   "id": "33c3b914",
   "metadata": {},
   "source": [
    "# TPV NOT FOUND IN SETTLEMENT MASTER LOG"
   ]
  },
  {
   "cell_type": "markdown",
   "id": "dce914ab",
   "metadata": {},
   "source": [
    "### AP SETTLEMENT "
   ]
  },
  {
   "cell_type": "code",
   "execution_count": null,
   "id": "6d3a45ab",
   "metadata": {},
   "outputs": [],
   "source": [
    "ap_sett['movement_type'].unique()"
   ]
  },
  {
   "cell_type": "code",
   "execution_count": null,
   "id": "762458c6",
   "metadata": {},
   "outputs": [],
   "source": [
    "ap_sett_not_found = ap_sett[(ap_sett['gross_amount'].isnull())]\n",
    "ap_sett_not_found.drop(['gross_amount','fees','taxes','net_amount'],axis=1,inplace=True)\n",
    "ap_sett_not_found.head()"
   ]
  },
  {
   "cell_type": "code",
   "execution_count": null,
   "id": "b82017ac",
   "metadata": {},
   "outputs": [],
   "source": [
    "ap_sett_not_found.shape"
   ]
  },
  {
   "cell_type": "markdown",
   "id": "3e4cfa29",
   "metadata": {},
   "source": [
    "### AP CANCELACIONES"
   ]
  },
  {
   "cell_type": "code",
   "execution_count": null,
   "id": "4a71d868",
   "metadata": {},
   "outputs": [],
   "source": [
    "# ap_pymt['movement_type'].unique()"
   ]
  },
  {
   "cell_type": "code",
   "execution_count": null,
   "id": "5c5ec438",
   "metadata": {},
   "outputs": [],
   "source": [
    "# ap_pymt_not_found = ap_pymt[(ap_pymt['gross_amount'].isnull())]\n",
    "# ap_pymt_not_found.drop(['gross_amount','fees','taxes','net_amount'],axis=1,inplace=True)\n",
    "# ap_pymt_not_found.head()"
   ]
  },
  {
   "cell_type": "code",
   "execution_count": null,
   "id": "4793d80e",
   "metadata": {},
   "outputs": [],
   "source": [
    "# ap_pymt_not_found.shape"
   ]
  },
  {
   "cell_type": "code",
   "execution_count": null,
   "id": "bb20e274",
   "metadata": {},
   "outputs": [],
   "source": [
    "# Buscar estas transacciones en TXN_BY_TRANSACTION_ID\n",
    "writer = pd.ExcelWriter('TPV_ledger_enero_2024_no_encontrado.xlsx',\n",
    "                        engine='xlsxwriter',\n",
    "                        engine_kwargs={'options': {'encoding':'utf-8'}})\n",
    "ap_sett_not_found.to_excel(writer, sheet_name='AP SETTLEMENT',index=False)\n",
    "# ap_pymt_not_found.to_excel(writer, sheet_name='AP CANCELACIONES',index=False)\n",
    "writer.close()"
   ]
  },
  {
   "cell_type": "markdown",
   "id": "ff0b0625",
   "metadata": {},
   "source": [
    "# CRUCE: UNION DE TPV NO ENCONTRADO CON TPV ENCONTRADO"
   ]
  },
  {
   "cell_type": "code",
   "execution_count": null,
   "id": "98b789fc",
   "metadata": {},
   "outputs": [],
   "source": [
    "not_found_files_sett = glob.glob(r'C:\\Users\\Cristian.Aparicio\\Documents\\FACTURACION\\2023\\12. DICIEMBRE\\LEDGER\\TPV NOT FOUND\\TXN_BY_TRANSACTION_ID_SETT*.csv', recursive=False)\n",
    "not_found_files_sett"
   ]
  },
  {
   "cell_type": "code",
   "execution_count": null,
   "id": "478e1128",
   "metadata": {},
   "outputs": [],
   "source": [
    "# not_found_files_pymt = glob.glob(r'C:\\Users\\Cristian.Aparicio\\Documents\\FACTURACION\\2023\\06. JUNIO\\LEDGER\\TPV NOT FOUND\\TXN_BY_TRANSACTION_ID_PYMT*.csv', recursive=False)\n",
    "# not_found_files_pymt"
   ]
  },
  {
   "cell_type": "markdown",
   "id": "d7f85a92",
   "metadata": {},
   "source": [
    "### AP SETTLEMENT"
   ]
  },
  {
   "cell_type": "code",
   "execution_count": null,
   "id": "d8b46370",
   "metadata": {},
   "outputs": [],
   "source": [
    "not_found_sett = pd.concat([pd.read_csv(f).assign(file_name=os.path.basename(f)) for f in not_found_files_sett])\n",
    "not_found_sett.columns = not_found_sett.columns.str.strip().str.lower()\n",
    "not_found_sett.rename(columns={'transaction_id':'mvnt_id','amount':'gross_amount'},inplace=True)\n",
    "not_found_sett['transaction_fee_calculated'] = ''\n",
    "not_found_sett['transaction_fee_tax_calculated'] = ''\n",
    "not_found_sett['net_amount'] = ''\n",
    "not_found_sett.head()"
   ]
  },
  {
   "cell_type": "code",
   "execution_count": null,
   "id": "5e5b9113",
   "metadata": {},
   "outputs": [],
   "source": [
    "not_found_sett.shape"
   ]
  },
  {
   "cell_type": "markdown",
   "id": "4f0eba1b",
   "metadata": {},
   "source": [
    "#### CRUCE SETT NOT FOUND - PAYMENT_FACT"
   ]
  },
  {
   "cell_type": "code",
   "execution_count": null,
   "id": "64ad8c0a",
   "metadata": {},
   "outputs": [],
   "source": [
    "cruce_not_found_sett = ap_sett_not_found.merge(not_found_sett[['mvnt_id','gross_amount','transaction_fee_calculated',\n",
    "                                                               'transaction_fee_tax_calculated','net_amount']],on='mvnt_id',\n",
    "                                               how='left')\n",
    "cruce_not_found_sett.loc[cruce_not_found_sett['mdr'].isnull(), 'transaction_fee_calculated'] = ((cruce_not_found_sett['gross_amount'] - cruce_not_found_sett['amount']) / 1.1600)\n",
    "cruce_not_found_sett.loc[cruce_not_found_sett['mdr'].isnull(), 'transaction_fee_tax_calculated'] = (cruce_not_found_sett['transaction_fee_calculated'] * 0.1600)\n",
    "cruce_not_found_sett.loc[cruce_not_found_sett['mdr'].isnull(), 'net_amount'] = (cruce_not_found_sett['gross_amount'] - cruce_not_found_sett['transaction_fee_calculated'] - cruce_not_found_sett['transaction_fee_tax_calculated'])\n",
    "cruce_not_found_sett.rename(columns ={'transaction_fee_calculated':'fees','transaction_fee_tax_calculated':'taxes'}, inplace=True)\n",
    "cruce_not_found_sett.head()"
   ]
  },
  {
   "cell_type": "code",
   "execution_count": null,
   "id": "46be0d34",
   "metadata": {},
   "outputs": [],
   "source": [
    "cruce_not_found_sett.shape"
   ]
  },
  {
   "cell_type": "markdown",
   "id": "047f677f",
   "metadata": {},
   "source": [
    "### AP CANCELACIONES"
   ]
  },
  {
   "cell_type": "code",
   "execution_count": null,
   "id": "70529529",
   "metadata": {},
   "outputs": [],
   "source": [
    "# not_found_pymt = pd.concat([pd.read_csv(f).assign(file_name=os.path.basename(f)) for f in not_found_files_pymt])\n",
    "# not_found_pymt.columns = not_found_pymt.columns.str.strip().str.lower()\n",
    "# not_found_pymt.rename(columns={'transaction_id':'mvnt_id','amount':'gross_amount'},inplace=True)\n",
    "# not_found_pymt['transaction_fee_calculated'] = ''\n",
    "# not_found_pymt['transaction_fee_tax_calculated'] = ''\n",
    "# not_found_pymt['net_amount'] = ''\n",
    "# not_found_pymt.head()"
   ]
  },
  {
   "cell_type": "code",
   "execution_count": null,
   "id": "27eabdb2",
   "metadata": {},
   "outputs": [],
   "source": [
    "# not_found_pymt.shape"
   ]
  },
  {
   "cell_type": "markdown",
   "id": "3eed6e9a",
   "metadata": {},
   "source": [
    "#### CRUCE PYMT NOT FOUND - PAYMENT_FACT"
   ]
  },
  {
   "cell_type": "code",
   "execution_count": null,
   "id": "88c6c0c9",
   "metadata": {},
   "outputs": [],
   "source": [
    "# cruce_not_found_pymt = ap_pymt_not_found.merge(not_found_pymt[['mvnt_id','gross_amount','transaction_fee_calculated',\n",
    "#                                                                'transaction_fee_tax_calculated','net_amount']],on='mvnt_id',\n",
    "#                                                how='left')\n",
    "# cruce_not_found_pymt.loc[cruce_not_found_pymt['mdr'].isnull(), 'transaction_fee_calculated'] = ((cruce_not_found_pymt['gross_amount'] + cruce_not_found_pymt['amount']) / 1.1600)\n",
    "# cruce_not_found_pymt.loc[cruce_not_found_pymt['mdr'].isnull(), 'transaction_fee_tax_calculated'] = (cruce_not_found_pymt['transaction_fee_calculated'] * 0.1600)\n",
    "# cruce_not_found_pymt.loc[cruce_not_found_pymt['mdr'].isnull(), 'net_amount'] = (cruce_not_found_pymt['gross_amount'] - cruce_not_found_pymt['transaction_fee_calculated'] - cruce_not_found_pymt['transaction_fee_tax_calculated'])\n",
    "# cruce_not_found_pymt.rename(columns ={'transaction_fee_calculated':'fees','transaction_fee_tax_calculated':'taxes'}, inplace=True)\n",
    "# cruce_not_found_pymt.head()"
   ]
  },
  {
   "cell_type": "code",
   "execution_count": null,
   "id": "b7c4b4e6",
   "metadata": {},
   "outputs": [],
   "source": [
    "# cruce_not_found_pymt.shape"
   ]
  },
  {
   "cell_type": "markdown",
   "id": "a6e73ceb",
   "metadata": {},
   "source": [
    "# UNION TPV FINAL"
   ]
  },
  {
   "cell_type": "markdown",
   "id": "8772dd2a",
   "metadata": {},
   "source": [
    "### AP SETTLEMENT"
   ]
  },
  {
   "cell_type": "code",
   "execution_count": 60,
   "id": "670eed82",
   "metadata": {},
   "outputs": [
    {
     "data": {
      "text/html": [
       "<div>\n",
       "<style scoped>\n",
       "    .dataframe tbody tr th:only-of-type {\n",
       "        vertical-align: middle;\n",
       "    }\n",
       "\n",
       "    .dataframe tbody tr th {\n",
       "        vertical-align: top;\n",
       "    }\n",
       "\n",
       "    .dataframe thead th {\n",
       "        text-align: right;\n",
       "    }\n",
       "</style>\n",
       "<table border=\"1\" class=\"dataframe\">\n",
       "  <thead>\n",
       "    <tr style=\"text-align: right;\">\n",
       "      <th></th>\n",
       "      <th>merchant_id</th>\n",
       "      <th>amount</th>\n",
       "      <th>currency</th>\n",
       "      <th>type_request</th>\n",
       "      <th>mvnt_id</th>\n",
       "      <th>movement_type</th>\n",
       "      <th>source_type</th>\n",
       "      <th>created_at</th>\n",
       "      <th>eff_dt</th>\n",
       "      <th>movement_day</th>\n",
       "      <th>...</th>\n",
       "      <th>net_amount</th>\n",
       "      <th>mdr</th>\n",
       "      <th>msi</th>\n",
       "      <th>number_msi</th>\n",
       "      <th>receipt_no</th>\n",
       "      <th>status_code</th>\n",
       "      <th>dcc_amount</th>\n",
       "      <th>dcc_rate</th>\n",
       "      <th>dcc_status</th>\n",
       "      <th>pymt_prg</th>\n",
       "    </tr>\n",
       "  </thead>\n",
       "  <tbody>\n",
       "    <tr>\n",
       "      <th>0</th>\n",
       "      <td>0000275f-d46b-4a9c-a227-42d6f7ce63bd</td>\n",
       "      <td>2,874.72</td>\n",
       "      <td>MXN</td>\n",
       "      <td>settlement processor regular payment request</td>\n",
       "      <td>54d62474-2e31-42ef-b11a-32abca59c3b6</td>\n",
       "      <td>REGULAR_PYMT_RQ</td>\n",
       "      <td>SETT</td>\n",
       "      <td>2024-01-29 21:09:35</td>\n",
       "      <td>2024-01-30 05:30:00</td>\n",
       "      <td>2024-01-29 21:09:35</td>\n",
       "      <td>...</td>\n",
       "      <td>2,874.72</td>\n",
       "      <td>0.04</td>\n",
       "      <td>0.00</td>\n",
       "      <td>0.00</td>\n",
       "      <td>Lg96mbl</td>\n",
       "      <td>1.00</td>\n",
       "      <td>NaN</td>\n",
       "      <td>NaN</td>\n",
       "      <td>NaN</td>\n",
       "      <td>REGULAR_PAYMENT</td>\n",
       "    </tr>\n",
       "    <tr>\n",
       "      <th>1</th>\n",
       "      <td>0000275f-d46b-4a9c-a227-42d6f7ce63bd</td>\n",
       "      <td>2,874.72</td>\n",
       "      <td>MXN</td>\n",
       "      <td>settlement processor regular payment request</td>\n",
       "      <td>98e7c45d-0f1b-4ea9-a211-773b1a746a85</td>\n",
       "      <td>REGULAR_PYMT_RQ</td>\n",
       "      <td>SETT</td>\n",
       "      <td>2024-01-01 03:59:17</td>\n",
       "      <td>2024-01-02 01:00:00</td>\n",
       "      <td>2024-01-01 03:59:17</td>\n",
       "      <td>...</td>\n",
       "      <td>2,874.72</td>\n",
       "      <td>0.04</td>\n",
       "      <td>0.00</td>\n",
       "      <td>0.00</td>\n",
       "      <td>G7WmyHD</td>\n",
       "      <td>1.00</td>\n",
       "      <td>NaN</td>\n",
       "      <td>NaN</td>\n",
       "      <td>NaN</td>\n",
       "      <td>REGULAR_PAYMENT</td>\n",
       "    </tr>\n",
       "    <tr>\n",
       "      <th>2</th>\n",
       "      <td>00007725-3116-48dc-9b82-4145699dc290</td>\n",
       "      <td>958.24</td>\n",
       "      <td>MXN</td>\n",
       "      <td>settlement processor regular payment request</td>\n",
       "      <td>b87ada5c-b33d-4c76-b3be-58255c264a38</td>\n",
       "      <td>REGULAR_PYMT_RQ</td>\n",
       "      <td>SETT</td>\n",
       "      <td>2024-01-22 12:09:45</td>\n",
       "      <td>2024-01-23 03:30:00</td>\n",
       "      <td>2024-01-22 12:09:45</td>\n",
       "      <td>...</td>\n",
       "      <td>958.24</td>\n",
       "      <td>0.04</td>\n",
       "      <td>0.00</td>\n",
       "      <td>0.00</td>\n",
       "      <td>7I2LuEv</td>\n",
       "      <td>1.00</td>\n",
       "      <td>NaN</td>\n",
       "      <td>NaN</td>\n",
       "      <td>NaN</td>\n",
       "      <td>REGULAR_PAYMENT</td>\n",
       "    </tr>\n",
       "    <tr>\n",
       "      <th>3</th>\n",
       "      <td>00007725-3116-48dc-9b82-4145699dc290</td>\n",
       "      <td>958.24</td>\n",
       "      <td>MXN</td>\n",
       "      <td>settlement processor regular payment request</td>\n",
       "      <td>f9429f46-4936-4b74-840d-8cfeaeeaf0ad</td>\n",
       "      <td>REGULAR_PYMT_RQ</td>\n",
       "      <td>SETT</td>\n",
       "      <td>2024-01-20 12:29:55</td>\n",
       "      <td>2024-01-21 03:30:00</td>\n",
       "      <td>2024-01-20 12:29:55</td>\n",
       "      <td>...</td>\n",
       "      <td>958.24</td>\n",
       "      <td>0.04</td>\n",
       "      <td>0.00</td>\n",
       "      <td>0.00</td>\n",
       "      <td>NO6igcL</td>\n",
       "      <td>1.00</td>\n",
       "      <td>NaN</td>\n",
       "      <td>NaN</td>\n",
       "      <td>NaN</td>\n",
       "      <td>REGULAR_PAYMENT</td>\n",
       "    </tr>\n",
       "    <tr>\n",
       "      <th>4</th>\n",
       "      <td>00008e01-812f-487e-8f34-a80bcb0ae3e3</td>\n",
       "      <td>19,294.12</td>\n",
       "      <td>MXN</td>\n",
       "      <td>settlement processor regular payment request</td>\n",
       "      <td>b076821b-f2fa-4bd6-8752-e6c12cd19816</td>\n",
       "      <td>REGULAR_PYMT_RQ</td>\n",
       "      <td>SETT</td>\n",
       "      <td>2024-01-16 12:43:04</td>\n",
       "      <td>2024-01-17 03:30:00</td>\n",
       "      <td>2024-01-16 12:43:04</td>\n",
       "      <td>...</td>\n",
       "      <td>19,294.12</td>\n",
       "      <td>0.04</td>\n",
       "      <td>0.04</td>\n",
       "      <td>3.00</td>\n",
       "      <td>H3RgVeA</td>\n",
       "      <td>1.00</td>\n",
       "      <td>NaN</td>\n",
       "      <td>NaN</td>\n",
       "      <td>NaN</td>\n",
       "      <td>REGULAR_PAYMENT</td>\n",
       "    </tr>\n",
       "  </tbody>\n",
       "</table>\n",
       "<p>5 rows × 31 columns</p>\n",
       "</div>"
      ],
      "text/plain": [
       "                            merchant_id    amount currency  \\\n",
       "0  0000275f-d46b-4a9c-a227-42d6f7ce63bd  2,874.72      MXN   \n",
       "1  0000275f-d46b-4a9c-a227-42d6f7ce63bd  2,874.72      MXN   \n",
       "2  00007725-3116-48dc-9b82-4145699dc290    958.24      MXN   \n",
       "3  00007725-3116-48dc-9b82-4145699dc290    958.24      MXN   \n",
       "4  00008e01-812f-487e-8f34-a80bcb0ae3e3 19,294.12      MXN   \n",
       "\n",
       "                                   type_request  \\\n",
       "0  settlement processor regular payment request   \n",
       "1  settlement processor regular payment request   \n",
       "2  settlement processor regular payment request   \n",
       "3  settlement processor regular payment request   \n",
       "4  settlement processor regular payment request   \n",
       "\n",
       "                                mvnt_id    movement_type source_type  \\\n",
       "0  54d62474-2e31-42ef-b11a-32abca59c3b6  REGULAR_PYMT_RQ        SETT   \n",
       "1  98e7c45d-0f1b-4ea9-a211-773b1a746a85  REGULAR_PYMT_RQ        SETT   \n",
       "2  b87ada5c-b33d-4c76-b3be-58255c264a38  REGULAR_PYMT_RQ        SETT   \n",
       "3  f9429f46-4936-4b74-840d-8cfeaeeaf0ad  REGULAR_PYMT_RQ        SETT   \n",
       "4  b076821b-f2fa-4bd6-8752-e6c12cd19816  REGULAR_PYMT_RQ        SETT   \n",
       "\n",
       "           created_at              eff_dt        movement_day  ... net_amount  \\\n",
       "0 2024-01-29 21:09:35 2024-01-30 05:30:00 2024-01-29 21:09:35  ...   2,874.72   \n",
       "1 2024-01-01 03:59:17 2024-01-02 01:00:00 2024-01-01 03:59:17  ...   2,874.72   \n",
       "2 2024-01-22 12:09:45 2024-01-23 03:30:00 2024-01-22 12:09:45  ...     958.24   \n",
       "3 2024-01-20 12:29:55 2024-01-21 03:30:00 2024-01-20 12:29:55  ...     958.24   \n",
       "4 2024-01-16 12:43:04 2024-01-17 03:30:00 2024-01-16 12:43:04  ...  19,294.12   \n",
       "\n",
       "   mdr  msi number_msi receipt_no status_code dcc_amount  dcc_rate  \\\n",
       "0 0.04 0.00       0.00    Lg96mbl        1.00        NaN       NaN   \n",
       "1 0.04 0.00       0.00    G7WmyHD        1.00        NaN       NaN   \n",
       "2 0.04 0.00       0.00    7I2LuEv        1.00        NaN       NaN   \n",
       "3 0.04 0.00       0.00    NO6igcL        1.00        NaN       NaN   \n",
       "4 0.04 0.04       3.00    H3RgVeA        1.00        NaN       NaN   \n",
       "\n",
       "   dcc_status         pymt_prg  \n",
       "0         NaN  REGULAR_PAYMENT  \n",
       "1         NaN  REGULAR_PAYMENT  \n",
       "2         NaN  REGULAR_PAYMENT  \n",
       "3         NaN  REGULAR_PAYMENT  \n",
       "4         NaN  REGULAR_PAYMENT  \n",
       "\n",
       "[5 rows x 31 columns]"
      ]
     },
     "execution_count": 60,
     "metadata": {},
     "output_type": "execute_result"
    }
   ],
   "source": [
    "ap_sett_found = ap_sett[(ap_sett['gross_amount'].notnull())]\n",
    "ap_sett_found.head()"
   ]
  },
  {
   "cell_type": "code",
   "execution_count": 61,
   "id": "6532ef08",
   "metadata": {},
   "outputs": [
    {
     "data": {
      "text/plain": [
       "(15830410, 31)"
      ]
     },
     "execution_count": 61,
     "metadata": {},
     "output_type": "execute_result"
    }
   ],
   "source": [
    "ap_sett_found.shape"
   ]
  },
  {
   "cell_type": "code",
   "execution_count": 62,
   "id": "410eb606",
   "metadata": {},
   "outputs": [
    {
     "data": {
      "text/html": [
       "<div>\n",
       "<style scoped>\n",
       "    .dataframe tbody tr th:only-of-type {\n",
       "        vertical-align: middle;\n",
       "    }\n",
       "\n",
       "    .dataframe tbody tr th {\n",
       "        vertical-align: top;\n",
       "    }\n",
       "\n",
       "    .dataframe thead th {\n",
       "        text-align: right;\n",
       "    }\n",
       "</style>\n",
       "<table border=\"1\" class=\"dataframe\">\n",
       "  <thead>\n",
       "    <tr style=\"text-align: right;\">\n",
       "      <th></th>\n",
       "      <th>merchant_id</th>\n",
       "      <th>amount</th>\n",
       "      <th>currency</th>\n",
       "      <th>type_request</th>\n",
       "      <th>mvnt_id</th>\n",
       "      <th>movement_type</th>\n",
       "      <th>source_type</th>\n",
       "      <th>created_at</th>\n",
       "      <th>eff_dt</th>\n",
       "      <th>movement_day</th>\n",
       "      <th>...</th>\n",
       "      <th>net_amount_sett</th>\n",
       "      <th>mdr</th>\n",
       "      <th>msi</th>\n",
       "      <th>number_msi</th>\n",
       "      <th>receipt_no</th>\n",
       "      <th>status_code</th>\n",
       "      <th>dcc_amount</th>\n",
       "      <th>dcc_rate</th>\n",
       "      <th>dcc_status</th>\n",
       "      <th>pymt_prg</th>\n",
       "    </tr>\n",
       "  </thead>\n",
       "  <tbody>\n",
       "    <tr>\n",
       "      <th>0</th>\n",
       "      <td>0000275f-d46b-4a9c-a227-42d6f7ce63bd</td>\n",
       "      <td>2,874.72</td>\n",
       "      <td>MXN</td>\n",
       "      <td>settlement processor regular payment request</td>\n",
       "      <td>54d62474-2e31-42ef-b11a-32abca59c3b6</td>\n",
       "      <td>REGULAR_PYMT_RQ</td>\n",
       "      <td>SETT</td>\n",
       "      <td>2024-01-29 21:09:35</td>\n",
       "      <td>2024-01-30 05:30:00</td>\n",
       "      <td>2024-01-29 21:09:35</td>\n",
       "      <td>...</td>\n",
       "      <td>2,874.72</td>\n",
       "      <td>0.04</td>\n",
       "      <td>0.00</td>\n",
       "      <td>0.00</td>\n",
       "      <td>Lg96mbl</td>\n",
       "      <td>1.00</td>\n",
       "      <td>NaN</td>\n",
       "      <td>NaN</td>\n",
       "      <td>NaN</td>\n",
       "      <td>REGULAR_PAYMENT</td>\n",
       "    </tr>\n",
       "    <tr>\n",
       "      <th>1</th>\n",
       "      <td>0000275f-d46b-4a9c-a227-42d6f7ce63bd</td>\n",
       "      <td>2,874.72</td>\n",
       "      <td>MXN</td>\n",
       "      <td>settlement processor regular payment request</td>\n",
       "      <td>98e7c45d-0f1b-4ea9-a211-773b1a746a85</td>\n",
       "      <td>REGULAR_PYMT_RQ</td>\n",
       "      <td>SETT</td>\n",
       "      <td>2024-01-01 03:59:17</td>\n",
       "      <td>2024-01-02 01:00:00</td>\n",
       "      <td>2024-01-01 03:59:17</td>\n",
       "      <td>...</td>\n",
       "      <td>2,874.72</td>\n",
       "      <td>0.04</td>\n",
       "      <td>0.00</td>\n",
       "      <td>0.00</td>\n",
       "      <td>G7WmyHD</td>\n",
       "      <td>1.00</td>\n",
       "      <td>NaN</td>\n",
       "      <td>NaN</td>\n",
       "      <td>NaN</td>\n",
       "      <td>REGULAR_PAYMENT</td>\n",
       "    </tr>\n",
       "    <tr>\n",
       "      <th>2</th>\n",
       "      <td>00007725-3116-48dc-9b82-4145699dc290</td>\n",
       "      <td>958.24</td>\n",
       "      <td>MXN</td>\n",
       "      <td>settlement processor regular payment request</td>\n",
       "      <td>b87ada5c-b33d-4c76-b3be-58255c264a38</td>\n",
       "      <td>REGULAR_PYMT_RQ</td>\n",
       "      <td>SETT</td>\n",
       "      <td>2024-01-22 12:09:45</td>\n",
       "      <td>2024-01-23 03:30:00</td>\n",
       "      <td>2024-01-22 12:09:45</td>\n",
       "      <td>...</td>\n",
       "      <td>958.24</td>\n",
       "      <td>0.04</td>\n",
       "      <td>0.00</td>\n",
       "      <td>0.00</td>\n",
       "      <td>7I2LuEv</td>\n",
       "      <td>1.00</td>\n",
       "      <td>NaN</td>\n",
       "      <td>NaN</td>\n",
       "      <td>NaN</td>\n",
       "      <td>REGULAR_PAYMENT</td>\n",
       "    </tr>\n",
       "    <tr>\n",
       "      <th>3</th>\n",
       "      <td>00007725-3116-48dc-9b82-4145699dc290</td>\n",
       "      <td>958.24</td>\n",
       "      <td>MXN</td>\n",
       "      <td>settlement processor regular payment request</td>\n",
       "      <td>f9429f46-4936-4b74-840d-8cfeaeeaf0ad</td>\n",
       "      <td>REGULAR_PYMT_RQ</td>\n",
       "      <td>SETT</td>\n",
       "      <td>2024-01-20 12:29:55</td>\n",
       "      <td>2024-01-21 03:30:00</td>\n",
       "      <td>2024-01-20 12:29:55</td>\n",
       "      <td>...</td>\n",
       "      <td>958.24</td>\n",
       "      <td>0.04</td>\n",
       "      <td>0.00</td>\n",
       "      <td>0.00</td>\n",
       "      <td>NO6igcL</td>\n",
       "      <td>1.00</td>\n",
       "      <td>NaN</td>\n",
       "      <td>NaN</td>\n",
       "      <td>NaN</td>\n",
       "      <td>REGULAR_PAYMENT</td>\n",
       "    </tr>\n",
       "    <tr>\n",
       "      <th>4</th>\n",
       "      <td>00008e01-812f-487e-8f34-a80bcb0ae3e3</td>\n",
       "      <td>19,294.12</td>\n",
       "      <td>MXN</td>\n",
       "      <td>settlement processor regular payment request</td>\n",
       "      <td>b076821b-f2fa-4bd6-8752-e6c12cd19816</td>\n",
       "      <td>REGULAR_PYMT_RQ</td>\n",
       "      <td>SETT</td>\n",
       "      <td>2024-01-16 12:43:04</td>\n",
       "      <td>2024-01-17 03:30:00</td>\n",
       "      <td>2024-01-16 12:43:04</td>\n",
       "      <td>...</td>\n",
       "      <td>19,294.12</td>\n",
       "      <td>0.04</td>\n",
       "      <td>0.04</td>\n",
       "      <td>3.00</td>\n",
       "      <td>H3RgVeA</td>\n",
       "      <td>1.00</td>\n",
       "      <td>NaN</td>\n",
       "      <td>NaN</td>\n",
       "      <td>NaN</td>\n",
       "      <td>REGULAR_PAYMENT</td>\n",
       "    </tr>\n",
       "  </tbody>\n",
       "</table>\n",
       "<p>5 rows × 31 columns</p>\n",
       "</div>"
      ],
      "text/plain": [
       "                            merchant_id    amount currency  \\\n",
       "0  0000275f-d46b-4a9c-a227-42d6f7ce63bd  2,874.72      MXN   \n",
       "1  0000275f-d46b-4a9c-a227-42d6f7ce63bd  2,874.72      MXN   \n",
       "2  00007725-3116-48dc-9b82-4145699dc290    958.24      MXN   \n",
       "3  00007725-3116-48dc-9b82-4145699dc290    958.24      MXN   \n",
       "4  00008e01-812f-487e-8f34-a80bcb0ae3e3 19,294.12      MXN   \n",
       "\n",
       "                                   type_request  \\\n",
       "0  settlement processor regular payment request   \n",
       "1  settlement processor regular payment request   \n",
       "2  settlement processor regular payment request   \n",
       "3  settlement processor regular payment request   \n",
       "4  settlement processor regular payment request   \n",
       "\n",
       "                                mvnt_id    movement_type source_type  \\\n",
       "0  54d62474-2e31-42ef-b11a-32abca59c3b6  REGULAR_PYMT_RQ        SETT   \n",
       "1  98e7c45d-0f1b-4ea9-a211-773b1a746a85  REGULAR_PYMT_RQ        SETT   \n",
       "2  b87ada5c-b33d-4c76-b3be-58255c264a38  REGULAR_PYMT_RQ        SETT   \n",
       "3  f9429f46-4936-4b74-840d-8cfeaeeaf0ad  REGULAR_PYMT_RQ        SETT   \n",
       "4  b076821b-f2fa-4bd6-8752-e6c12cd19816  REGULAR_PYMT_RQ        SETT   \n",
       "\n",
       "           created_at              eff_dt        movement_day  ...  \\\n",
       "0 2024-01-29 21:09:35 2024-01-30 05:30:00 2024-01-29 21:09:35  ...   \n",
       "1 2024-01-01 03:59:17 2024-01-02 01:00:00 2024-01-01 03:59:17  ...   \n",
       "2 2024-01-22 12:09:45 2024-01-23 03:30:00 2024-01-22 12:09:45  ...   \n",
       "3 2024-01-20 12:29:55 2024-01-21 03:30:00 2024-01-20 12:29:55  ...   \n",
       "4 2024-01-16 12:43:04 2024-01-17 03:30:00 2024-01-16 12:43:04  ...   \n",
       "\n",
       "  net_amount_sett  mdr  msi number_msi receipt_no status_code dcc_amount  \\\n",
       "0        2,874.72 0.04 0.00       0.00    Lg96mbl        1.00        NaN   \n",
       "1        2,874.72 0.04 0.00       0.00    G7WmyHD        1.00        NaN   \n",
       "2          958.24 0.04 0.00       0.00    7I2LuEv        1.00        NaN   \n",
       "3          958.24 0.04 0.00       0.00    NO6igcL        1.00        NaN   \n",
       "4       19,294.12 0.04 0.04       3.00    H3RgVeA        1.00        NaN   \n",
       "\n",
       "   dcc_rate  dcc_status         pymt_prg  \n",
       "0       NaN         NaN  REGULAR_PAYMENT  \n",
       "1       NaN         NaN  REGULAR_PAYMENT  \n",
       "2       NaN         NaN  REGULAR_PAYMENT  \n",
       "3       NaN         NaN  REGULAR_PAYMENT  \n",
       "4       NaN         NaN  REGULAR_PAYMENT  \n",
       "\n",
       "[5 rows x 31 columns]"
      ]
     },
     "execution_count": 62,
     "metadata": {},
     "output_type": "execute_result"
    }
   ],
   "source": [
    "ap_sett_final_1 = pd.concat([ap_sett_found,cruce_not_found_sett])\n",
    "ap_sett_final_1.rename(columns={'psp_amount':'psp_amount_sett','gross_amount':'gross_amount_sett','fees':'fees_sett',\n",
    "                                'taxes':'taxes_sett','net_amount':'net_amount_sett'},inplace=True)\n",
    "ap_sett_final_1.head()"
   ]
  },
  {
   "cell_type": "code",
   "execution_count": 63,
   "id": "8b568b60",
   "metadata": {},
   "outputs": [
    {
     "data": {
      "text/plain": [
       "(15830410, 31)"
      ]
     },
     "execution_count": 63,
     "metadata": {},
     "output_type": "execute_result"
    }
   ],
   "source": [
    "ap_sett_final_1.shape"
   ]
  },
  {
   "cell_type": "markdown",
   "id": "9e167d76",
   "metadata": {},
   "source": [
    "### AP CANCELACIONES"
   ]
  },
  {
   "cell_type": "code",
   "execution_count": null,
   "id": "7eabadd7",
   "metadata": {},
   "outputs": [],
   "source": [
    "# ap_pymt_found = ap_pymt[(ap_pymt['gross_amount'].notnull())]\n",
    "# ap_pymt_found.head()"
   ]
  },
  {
   "cell_type": "code",
   "execution_count": null,
   "id": "5f162b98",
   "metadata": {},
   "outputs": [],
   "source": [
    "# ap_pymt_found.shape"
   ]
  },
  {
   "cell_type": "code",
   "execution_count": null,
   "id": "c4af5f5d",
   "metadata": {},
   "outputs": [],
   "source": [
    "# ap_pymt_final_1 = pd.concat([ap_pymt_found,cruce_not_found_pymt])\n",
    "# ap_pymt_final_1.rename(columns={'gross_amount':'gross_amount_pymt','fees':'fees_pymt','taxes':'taxes_pymt',\n",
    "#                                 'net_amount':'net_amount_pymt'},inplace=True)\n",
    "# ap_pymt_final_1.head()"
   ]
  },
  {
   "cell_type": "code",
   "execution_count": null,
   "id": "bf880d3e",
   "metadata": {},
   "outputs": [],
   "source": [
    "# ap_pymt_final_1.shape"
   ]
  },
  {
   "cell_type": "markdown",
   "id": "d84e893e",
   "metadata": {},
   "source": [
    "# VALIDACIONES (DEBEN ESTAR EN 0)"
   ]
  },
  {
   "cell_type": "code",
   "execution_count": 64,
   "id": "2be6b78c",
   "metadata": {},
   "outputs": [
    {
     "data": {
      "text/html": [
       "<div>\n",
       "<style scoped>\n",
       "    .dataframe tbody tr th:only-of-type {\n",
       "        vertical-align: middle;\n",
       "    }\n",
       "\n",
       "    .dataframe tbody tr th {\n",
       "        vertical-align: top;\n",
       "    }\n",
       "\n",
       "    .dataframe thead th {\n",
       "        text-align: right;\n",
       "    }\n",
       "</style>\n",
       "<table border=\"1\" class=\"dataframe\">\n",
       "  <thead>\n",
       "    <tr style=\"text-align: right;\">\n",
       "      <th></th>\n",
       "      <th>merchant_id</th>\n",
       "      <th>amount</th>\n",
       "      <th>currency</th>\n",
       "      <th>type_request</th>\n",
       "      <th>mvnt_id</th>\n",
       "      <th>movement_type</th>\n",
       "      <th>source_type</th>\n",
       "      <th>created_at</th>\n",
       "      <th>eff_dt</th>\n",
       "      <th>movement_day</th>\n",
       "      <th>...</th>\n",
       "      <th>net_amount_sett</th>\n",
       "      <th>mdr</th>\n",
       "      <th>msi</th>\n",
       "      <th>number_msi</th>\n",
       "      <th>receipt_no</th>\n",
       "      <th>status_code</th>\n",
       "      <th>dcc_amount</th>\n",
       "      <th>dcc_rate</th>\n",
       "      <th>dcc_status</th>\n",
       "      <th>pymt_prg</th>\n",
       "    </tr>\n",
       "  </thead>\n",
       "  <tbody>\n",
       "  </tbody>\n",
       "</table>\n",
       "<p>0 rows × 31 columns</p>\n",
       "</div>"
      ],
      "text/plain": [
       "Empty DataFrame\n",
       "Columns: [merchant_id, amount, currency, type_request, mvnt_id, movement_type, source_type, created_at, eff_dt, movement_day, request_effective_date, slot_date, file_name, eff_dt_date, eff_dt_time, email, merchant_name, psp_amount_sett, gross_amount_sett, fees_sett, taxes_sett, net_amount_sett, mdr, msi, number_msi, receipt_no, status_code, dcc_amount, dcc_rate, dcc_status, pymt_prg]\n",
       "Index: []\n",
       "\n",
       "[0 rows x 31 columns]"
      ]
     },
     "execution_count": 64,
     "metadata": {},
     "output_type": "execute_result"
    }
   ],
   "source": [
    "ap_sett_final_1_found = ap_sett_final_1[(ap_sett_final_1['gross_amount_sett'].isnull())]\n",
    "ap_sett_final_1_found.head()"
   ]
  },
  {
   "cell_type": "code",
   "execution_count": 65,
   "id": "174a873d",
   "metadata": {},
   "outputs": [
    {
     "data": {
      "text/plain": [
       "(0, 31)"
      ]
     },
     "execution_count": 65,
     "metadata": {},
     "output_type": "execute_result"
    }
   ],
   "source": [
    "ap_sett_final_1_found.shape"
   ]
  },
  {
   "cell_type": "code",
   "execution_count": 66,
   "id": "bb17a1df",
   "metadata": {},
   "outputs": [],
   "source": [
    "# ap_pymt_final_1_found = ap_pymt_final_1[(ap_pymt_final_1['gross_amount_pymt'].isnull())]\n",
    "# ap_pymt_final_1_found.head()"
   ]
  },
  {
   "cell_type": "code",
   "execution_count": 67,
   "id": "a5a98678",
   "metadata": {},
   "outputs": [],
   "source": [
    "# ap_pymt_final_1_found.shape"
   ]
  },
  {
   "cell_type": "markdown",
   "id": "9ce911db",
   "metadata": {},
   "source": [
    "# RESTAR CANCELACIONES DE AP SETTLEMENT"
   ]
  },
  {
   "cell_type": "code",
   "execution_count": 68,
   "id": "2560f725",
   "metadata": {},
   "outputs": [
    {
     "data": {
      "text/html": [
       "<div>\n",
       "<style scoped>\n",
       "    .dataframe tbody tr th:only-of-type {\n",
       "        vertical-align: middle;\n",
       "    }\n",
       "\n",
       "    .dataframe tbody tr th {\n",
       "        vertical-align: top;\n",
       "    }\n",
       "\n",
       "    .dataframe thead th {\n",
       "        text-align: right;\n",
       "    }\n",
       "</style>\n",
       "<table border=\"1\" class=\"dataframe\">\n",
       "  <thead>\n",
       "    <tr style=\"text-align: right;\">\n",
       "      <th></th>\n",
       "      <th>merchant_id</th>\n",
       "      <th>amount</th>\n",
       "      <th>currency</th>\n",
       "      <th>type_request</th>\n",
       "      <th>mvnt_id</th>\n",
       "      <th>movement_type</th>\n",
       "      <th>source_type</th>\n",
       "      <th>created_at</th>\n",
       "      <th>eff_dt</th>\n",
       "      <th>movement_day</th>\n",
       "      <th>...</th>\n",
       "      <th>gross_amount_pymt</th>\n",
       "      <th>fees_pymt</th>\n",
       "      <th>taxes_pymt</th>\n",
       "      <th>net_amount_pymt</th>\n",
       "      <th>psp_amount</th>\n",
       "      <th>gross_amount</th>\n",
       "      <th>fees</th>\n",
       "      <th>taxes</th>\n",
       "      <th>net_amount</th>\n",
       "      <th>movement_type_sml</th>\n",
       "    </tr>\n",
       "  </thead>\n",
       "  <tbody>\n",
       "    <tr>\n",
       "      <th>0</th>\n",
       "      <td>0000275f-d46b-4a9c-a227-42d6f7ce63bd</td>\n",
       "      <td>2,874.72</td>\n",
       "      <td>MXN</td>\n",
       "      <td>settlement processor regular payment request</td>\n",
       "      <td>54d62474-2e31-42ef-b11a-32abca59c3b6</td>\n",
       "      <td>REGULAR_PYMT_RQ</td>\n",
       "      <td>SETT</td>\n",
       "      <td>2024-01-29 21:09:35</td>\n",
       "      <td>2024-01-30 05:30:00</td>\n",
       "      <td>2024-01-29 21:09:35</td>\n",
       "      <td>...</td>\n",
       "      <td>0.00</td>\n",
       "      <td>0.00</td>\n",
       "      <td>0.00</td>\n",
       "      <td>0.00</td>\n",
       "      <td>3,000.00</td>\n",
       "      <td>3,000.00</td>\n",
       "      <td>108.00</td>\n",
       "      <td>17.28</td>\n",
       "      <td>2,874.72</td>\n",
       "      <td>0</td>\n",
       "    </tr>\n",
       "    <tr>\n",
       "      <th>1</th>\n",
       "      <td>0000275f-d46b-4a9c-a227-42d6f7ce63bd</td>\n",
       "      <td>2,874.72</td>\n",
       "      <td>MXN</td>\n",
       "      <td>settlement processor regular payment request</td>\n",
       "      <td>98e7c45d-0f1b-4ea9-a211-773b1a746a85</td>\n",
       "      <td>REGULAR_PYMT_RQ</td>\n",
       "      <td>SETT</td>\n",
       "      <td>2024-01-01 03:59:17</td>\n",
       "      <td>2024-01-02 01:00:00</td>\n",
       "      <td>2024-01-01 03:59:17</td>\n",
       "      <td>...</td>\n",
       "      <td>0.00</td>\n",
       "      <td>0.00</td>\n",
       "      <td>0.00</td>\n",
       "      <td>0.00</td>\n",
       "      <td>3,000.00</td>\n",
       "      <td>3,000.00</td>\n",
       "      <td>108.00</td>\n",
       "      <td>17.28</td>\n",
       "      <td>2,874.72</td>\n",
       "      <td>0</td>\n",
       "    </tr>\n",
       "    <tr>\n",
       "      <th>2</th>\n",
       "      <td>00007725-3116-48dc-9b82-4145699dc290</td>\n",
       "      <td>958.24</td>\n",
       "      <td>MXN</td>\n",
       "      <td>settlement processor regular payment request</td>\n",
       "      <td>b87ada5c-b33d-4c76-b3be-58255c264a38</td>\n",
       "      <td>REGULAR_PYMT_RQ</td>\n",
       "      <td>SETT</td>\n",
       "      <td>2024-01-22 12:09:45</td>\n",
       "      <td>2024-01-23 03:30:00</td>\n",
       "      <td>2024-01-22 12:09:45</td>\n",
       "      <td>...</td>\n",
       "      <td>0.00</td>\n",
       "      <td>0.00</td>\n",
       "      <td>0.00</td>\n",
       "      <td>0.00</td>\n",
       "      <td>1,000.00</td>\n",
       "      <td>1,000.00</td>\n",
       "      <td>36.00</td>\n",
       "      <td>5.76</td>\n",
       "      <td>958.24</td>\n",
       "      <td>0</td>\n",
       "    </tr>\n",
       "    <tr>\n",
       "      <th>3</th>\n",
       "      <td>00007725-3116-48dc-9b82-4145699dc290</td>\n",
       "      <td>958.24</td>\n",
       "      <td>MXN</td>\n",
       "      <td>settlement processor regular payment request</td>\n",
       "      <td>f9429f46-4936-4b74-840d-8cfeaeeaf0ad</td>\n",
       "      <td>REGULAR_PYMT_RQ</td>\n",
       "      <td>SETT</td>\n",
       "      <td>2024-01-20 12:29:55</td>\n",
       "      <td>2024-01-21 03:30:00</td>\n",
       "      <td>2024-01-20 12:29:55</td>\n",
       "      <td>...</td>\n",
       "      <td>0.00</td>\n",
       "      <td>0.00</td>\n",
       "      <td>0.00</td>\n",
       "      <td>0.00</td>\n",
       "      <td>1,000.00</td>\n",
       "      <td>1,000.00</td>\n",
       "      <td>36.00</td>\n",
       "      <td>5.76</td>\n",
       "      <td>958.24</td>\n",
       "      <td>0</td>\n",
       "    </tr>\n",
       "    <tr>\n",
       "      <th>4</th>\n",
       "      <td>00008e01-812f-487e-8f34-a80bcb0ae3e3</td>\n",
       "      <td>19,294.12</td>\n",
       "      <td>MXN</td>\n",
       "      <td>settlement processor regular payment request</td>\n",
       "      <td>b076821b-f2fa-4bd6-8752-e6c12cd19816</td>\n",
       "      <td>REGULAR_PYMT_RQ</td>\n",
       "      <td>SETT</td>\n",
       "      <td>2024-01-16 12:43:04</td>\n",
       "      <td>2024-01-17 03:30:00</td>\n",
       "      <td>2024-01-16 12:43:04</td>\n",
       "      <td>...</td>\n",
       "      <td>0.00</td>\n",
       "      <td>0.00</td>\n",
       "      <td>0.00</td>\n",
       "      <td>0.00</td>\n",
       "      <td>21,295.00</td>\n",
       "      <td>21,295.00</td>\n",
       "      <td>1,724.90</td>\n",
       "      <td>275.98</td>\n",
       "      <td>19,294.12</td>\n",
       "      <td>0</td>\n",
       "    </tr>\n",
       "  </tbody>\n",
       "</table>\n",
       "<p>5 rows × 42 columns</p>\n",
       "</div>"
      ],
      "text/plain": [
       "                            merchant_id    amount currency  \\\n",
       "0  0000275f-d46b-4a9c-a227-42d6f7ce63bd  2,874.72      MXN   \n",
       "1  0000275f-d46b-4a9c-a227-42d6f7ce63bd  2,874.72      MXN   \n",
       "2  00007725-3116-48dc-9b82-4145699dc290    958.24      MXN   \n",
       "3  00007725-3116-48dc-9b82-4145699dc290    958.24      MXN   \n",
       "4  00008e01-812f-487e-8f34-a80bcb0ae3e3 19,294.12      MXN   \n",
       "\n",
       "                                   type_request  \\\n",
       "0  settlement processor regular payment request   \n",
       "1  settlement processor regular payment request   \n",
       "2  settlement processor regular payment request   \n",
       "3  settlement processor regular payment request   \n",
       "4  settlement processor regular payment request   \n",
       "\n",
       "                                mvnt_id    movement_type source_type  \\\n",
       "0  54d62474-2e31-42ef-b11a-32abca59c3b6  REGULAR_PYMT_RQ        SETT   \n",
       "1  98e7c45d-0f1b-4ea9-a211-773b1a746a85  REGULAR_PYMT_RQ        SETT   \n",
       "2  b87ada5c-b33d-4c76-b3be-58255c264a38  REGULAR_PYMT_RQ        SETT   \n",
       "3  f9429f46-4936-4b74-840d-8cfeaeeaf0ad  REGULAR_PYMT_RQ        SETT   \n",
       "4  b076821b-f2fa-4bd6-8752-e6c12cd19816  REGULAR_PYMT_RQ        SETT   \n",
       "\n",
       "           created_at              eff_dt        movement_day  ...  \\\n",
       "0 2024-01-29 21:09:35 2024-01-30 05:30:00 2024-01-29 21:09:35  ...   \n",
       "1 2024-01-01 03:59:17 2024-01-02 01:00:00 2024-01-01 03:59:17  ...   \n",
       "2 2024-01-22 12:09:45 2024-01-23 03:30:00 2024-01-22 12:09:45  ...   \n",
       "3 2024-01-20 12:29:55 2024-01-21 03:30:00 2024-01-20 12:29:55  ...   \n",
       "4 2024-01-16 12:43:04 2024-01-17 03:30:00 2024-01-16 12:43:04  ...   \n",
       "\n",
       "  gross_amount_pymt fees_pymt taxes_pymt net_amount_pymt psp_amount  \\\n",
       "0              0.00      0.00       0.00            0.00   3,000.00   \n",
       "1              0.00      0.00       0.00            0.00   3,000.00   \n",
       "2              0.00      0.00       0.00            0.00   1,000.00   \n",
       "3              0.00      0.00       0.00            0.00   1,000.00   \n",
       "4              0.00      0.00       0.00            0.00  21,295.00   \n",
       "\n",
       "  gross_amount     fees  taxes  net_amount  movement_type_sml  \n",
       "0     3,000.00   108.00  17.28    2,874.72                  0  \n",
       "1     3,000.00   108.00  17.28    2,874.72                  0  \n",
       "2     1,000.00    36.00   5.76      958.24                  0  \n",
       "3     1,000.00    36.00   5.76      958.24                  0  \n",
       "4    21,295.00 1,724.90 275.98   19,294.12                  0  \n",
       "\n",
       "[5 rows x 42 columns]"
      ]
     },
     "execution_count": 68,
     "metadata": {},
     "output_type": "execute_result"
    }
   ],
   "source": [
    "ap_sett_final = ap_sett_final_1.merge(cruce_1_canc[['mvnt_id','psp_amount_pymt','gross_amount_pymt','fees_pymt','taxes_pymt',\n",
    "                                                             'net_amount_pymt']],on='mvnt_id',how='left')\n",
    "ap_sett_final.fillna(0,inplace=True)\n",
    "ap_sett_final['psp_amount'] = ap_sett_final['psp_amount_sett'] - ap_sett_final['psp_amount_pymt'] \n",
    "ap_sett_final['gross_amount'] = ap_sett_final['gross_amount_sett'] - ap_sett_final['gross_amount_pymt'] \n",
    "ap_sett_final['fees'] = ap_sett_final['fees_sett'] - ap_sett_final['fees_pymt'] \n",
    "ap_sett_final['taxes'] = ap_sett_final['taxes_sett'] - ap_sett_final['taxes_pymt'] \n",
    "ap_sett_final['net_amount'] = ap_sett_final['net_amount_sett'] - ap_sett_final['net_amount_pymt']\n",
    "ap_sett_final.loc[ap_sett_final['pymt_prg'] == 'DIGITAL_ACCOUNT', 'movement_type_sml'] = ap_sett_final['pymt_prg']\n",
    "ap_sett_final.loc[ap_sett_final['dcc_status'] == 'Tarjeta con DCC', 'movement_type_sml'] = ap_sett_final['dcc_status']\n",
    "ap_sett_final['movement_type_sml'].fillna(0, inplace=True)\n",
    "ap_sett_final.head()"
   ]
  },
  {
   "cell_type": "code",
   "execution_count": 69,
   "id": "5492b635",
   "metadata": {},
   "outputs": [
    {
     "data": {
      "text/plain": [
       "(15830410, 42)"
      ]
     },
     "execution_count": 69,
     "metadata": {},
     "output_type": "execute_result"
    }
   ],
   "source": [
    "ap_sett_final.shape"
   ]
  },
  {
   "cell_type": "code",
   "execution_count": 70,
   "id": "5d959f28",
   "metadata": {},
   "outputs": [
    {
     "data": {
      "text/plain": [
       "array(['REGULAR_PYMT_RQ', 'DEFERRED_REGULAR_PYMNT_RQ', 'FAST_PYMT_RQ',\n",
       "       'DEFERRED_FAST_PYMNT_RQ', 'REVENUE_PYMNT_RQ'], dtype=object)"
      ]
     },
     "execution_count": 70,
     "metadata": {},
     "output_type": "execute_result"
    }
   ],
   "source": [
    "ap_sett_final['movement_type'].unique()"
   ]
  },
  {
   "cell_type": "code",
   "execution_count": 71,
   "id": "508df78f",
   "metadata": {},
   "outputs": [
    {
     "data": {
      "text/plain": [
       "array(['REGULAR_PAYMENT', 'FAST_PAYMENT', 'DIGITAL_ACCOUNT'], dtype=object)"
      ]
     },
     "execution_count": 71,
     "metadata": {},
     "output_type": "execute_result"
    }
   ],
   "source": [
    "ap_sett_final['pymt_prg'].unique()"
   ]
  },
  {
   "cell_type": "code",
   "execution_count": 72,
   "id": "bd663365",
   "metadata": {},
   "outputs": [
    {
     "data": {
      "text/plain": [
       "array([0, 'Tarjeta con DCC'], dtype=object)"
      ]
     },
     "execution_count": 72,
     "metadata": {},
     "output_type": "execute_result"
    }
   ],
   "source": [
    "ap_sett_final['dcc_status'].unique()"
   ]
  },
  {
   "cell_type": "code",
   "execution_count": 73,
   "id": "ec070eed",
   "metadata": {},
   "outputs": [
    {
     "data": {
      "text/plain": [
       "array([0, 'Tarjeta con DCC', 'DIGITAL_ACCOUNT'], dtype=object)"
      ]
     },
     "execution_count": 73,
     "metadata": {},
     "output_type": "execute_result"
    }
   ],
   "source": [
    "ap_sett_final['movement_type_sml'].unique()"
   ]
  },
  {
   "cell_type": "code",
   "execution_count": 92,
   "id": "bba19a0b-0358-4b4a-a645-911a69c79d86",
   "metadata": {},
   "outputs": [
    {
     "data": {
      "text/html": [
       "<div>\n",
       "<style scoped>\n",
       "    .dataframe tbody tr th:only-of-type {\n",
       "        vertical-align: middle;\n",
       "    }\n",
       "\n",
       "    .dataframe tbody tr th {\n",
       "        vertical-align: top;\n",
       "    }\n",
       "\n",
       "    .dataframe thead th {\n",
       "        text-align: right;\n",
       "    }\n",
       "</style>\n",
       "<table border=\"1\" class=\"dataframe\">\n",
       "  <thead>\n",
       "    <tr style=\"text-align: right;\">\n",
       "      <th></th>\n",
       "      <th>merchant_id</th>\n",
       "      <th>amount</th>\n",
       "      <th>currency</th>\n",
       "      <th>type_request</th>\n",
       "      <th>mvnt_id</th>\n",
       "      <th>movement_type</th>\n",
       "      <th>source_type</th>\n",
       "      <th>created_at</th>\n",
       "      <th>eff_dt</th>\n",
       "      <th>movement_day</th>\n",
       "      <th>...</th>\n",
       "      <th>fees_pymt</th>\n",
       "      <th>taxes_pymt</th>\n",
       "      <th>net_amount_pymt</th>\n",
       "      <th>psp_amount</th>\n",
       "      <th>gross_amount</th>\n",
       "      <th>fees</th>\n",
       "      <th>taxes</th>\n",
       "      <th>net_amount</th>\n",
       "      <th>movement_type_sml</th>\n",
       "      <th>created_at_date</th>\n",
       "    </tr>\n",
       "  </thead>\n",
       "  <tbody>\n",
       "    <tr>\n",
       "      <th>24747</th>\n",
       "      <td>0079b7bd-0713-4cf9-9b37-992cbbba9c1e</td>\n",
       "      <td>143.74</td>\n",
       "      <td>MXN</td>\n",
       "      <td>settlement processor fast payment request</td>\n",
       "      <td>222f1e77-1934-4891-8e3c-27788e5eef5e</td>\n",
       "      <td>FAST_PYMT_RQ</td>\n",
       "      <td>SETT</td>\n",
       "      <td>2024-01-31 18:32:28</td>\n",
       "      <td>2024-01-31 20:30:00</td>\n",
       "      <td>2024-01-31 18:32:28</td>\n",
       "      <td>...</td>\n",
       "      <td>0.00</td>\n",
       "      <td>0.00</td>\n",
       "      <td>0.00</td>\n",
       "      <td>150.00</td>\n",
       "      <td>150.00</td>\n",
       "      <td>5.40</td>\n",
       "      <td>0.86</td>\n",
       "      <td>143.74</td>\n",
       "      <td>0</td>\n",
       "      <td>2024-01-31</td>\n",
       "    </tr>\n",
       "    <tr>\n",
       "      <th>24748</th>\n",
       "      <td>0079b7bd-0713-4cf9-9b37-992cbbba9c1e</td>\n",
       "      <td>9.58</td>\n",
       "      <td>MXN</td>\n",
       "      <td>settlement processor fast payment request</td>\n",
       "      <td>0698b0f7-b680-48e7-a5c4-85761d2121fc</td>\n",
       "      <td>FAST_PYMT_RQ</td>\n",
       "      <td>SETT</td>\n",
       "      <td>2024-01-31 16:44:37</td>\n",
       "      <td>2024-01-31 18:00:00</td>\n",
       "      <td>2024-01-31 16:44:37</td>\n",
       "      <td>...</td>\n",
       "      <td>0.00</td>\n",
       "      <td>0.00</td>\n",
       "      <td>0.00</td>\n",
       "      <td>10.00</td>\n",
       "      <td>10.00</td>\n",
       "      <td>0.36</td>\n",
       "      <td>0.06</td>\n",
       "      <td>9.58</td>\n",
       "      <td>0</td>\n",
       "      <td>2024-01-31</td>\n",
       "    </tr>\n",
       "    <tr>\n",
       "      <th>24749</th>\n",
       "      <td>0079b7bd-0713-4cf9-9b37-992cbbba9c1e</td>\n",
       "      <td>104.93</td>\n",
       "      <td>MXN</td>\n",
       "      <td>settlement processor fast payment request</td>\n",
       "      <td>2baf344a-8f11-43d2-9194-77e97ddcbeb3</td>\n",
       "      <td>FAST_PYMT_RQ</td>\n",
       "      <td>SETT</td>\n",
       "      <td>2024-01-31 11:03:24</td>\n",
       "      <td>2024-01-31 11:30:00</td>\n",
       "      <td>2024-01-31 11:03:24</td>\n",
       "      <td>...</td>\n",
       "      <td>0.00</td>\n",
       "      <td>0.00</td>\n",
       "      <td>0.00</td>\n",
       "      <td>109.50</td>\n",
       "      <td>109.50</td>\n",
       "      <td>3.94</td>\n",
       "      <td>0.63</td>\n",
       "      <td>104.93</td>\n",
       "      <td>0</td>\n",
       "      <td>2024-01-31</td>\n",
       "    </tr>\n",
       "    <tr>\n",
       "      <th>32406</th>\n",
       "      <td>0088f97f-8701-4084-837b-c5cf2c0688f7</td>\n",
       "      <td>479.12</td>\n",
       "      <td>MXN</td>\n",
       "      <td>settlement processor fast payment request</td>\n",
       "      <td>f17e065c-e188-4fdd-b906-cce031234e50</td>\n",
       "      <td>FAST_PYMT_RQ</td>\n",
       "      <td>SETT</td>\n",
       "      <td>2024-01-31 15:48:32</td>\n",
       "      <td>2024-01-31 18:00:00</td>\n",
       "      <td>2024-01-31 15:48:32</td>\n",
       "      <td>...</td>\n",
       "      <td>0.00</td>\n",
       "      <td>0.00</td>\n",
       "      <td>0.00</td>\n",
       "      <td>500.00</td>\n",
       "      <td>500.00</td>\n",
       "      <td>18.00</td>\n",
       "      <td>2.88</td>\n",
       "      <td>479.12</td>\n",
       "      <td>0</td>\n",
       "      <td>2024-01-31</td>\n",
       "    </tr>\n",
       "    <tr>\n",
       "      <th>49191</th>\n",
       "      <td>00bf0fb9-405a-4b41-9ace-14dfe8e0b471</td>\n",
       "      <td>335.38</td>\n",
       "      <td>MXN</td>\n",
       "      <td>settlement processor fast payment request</td>\n",
       "      <td>72b03179-0d5c-4885-8f66-48d9d12c5a0b</td>\n",
       "      <td>FAST_PYMT_RQ</td>\n",
       "      <td>SETT</td>\n",
       "      <td>2024-01-31 19:48:27</td>\n",
       "      <td>2024-01-31 20:30:00</td>\n",
       "      <td>2024-01-31 19:48:27</td>\n",
       "      <td>...</td>\n",
       "      <td>0.00</td>\n",
       "      <td>0.00</td>\n",
       "      <td>0.00</td>\n",
       "      <td>350.00</td>\n",
       "      <td>350.00</td>\n",
       "      <td>12.60</td>\n",
       "      <td>2.02</td>\n",
       "      <td>335.38</td>\n",
       "      <td>0</td>\n",
       "      <td>2024-01-31</td>\n",
       "    </tr>\n",
       "  </tbody>\n",
       "</table>\n",
       "<p>5 rows × 43 columns</p>\n",
       "</div>"
      ],
      "text/plain": [
       "                                merchant_id  amount currency  \\\n",
       "24747  0079b7bd-0713-4cf9-9b37-992cbbba9c1e  143.74      MXN   \n",
       "24748  0079b7bd-0713-4cf9-9b37-992cbbba9c1e    9.58      MXN   \n",
       "24749  0079b7bd-0713-4cf9-9b37-992cbbba9c1e  104.93      MXN   \n",
       "32406  0088f97f-8701-4084-837b-c5cf2c0688f7  479.12      MXN   \n",
       "49191  00bf0fb9-405a-4b41-9ace-14dfe8e0b471  335.38      MXN   \n",
       "\n",
       "                                    type_request  \\\n",
       "24747  settlement processor fast payment request   \n",
       "24748  settlement processor fast payment request   \n",
       "24749  settlement processor fast payment request   \n",
       "32406  settlement processor fast payment request   \n",
       "49191  settlement processor fast payment request   \n",
       "\n",
       "                                    mvnt_id movement_type source_type  \\\n",
       "24747  222f1e77-1934-4891-8e3c-27788e5eef5e  FAST_PYMT_RQ        SETT   \n",
       "24748  0698b0f7-b680-48e7-a5c4-85761d2121fc  FAST_PYMT_RQ        SETT   \n",
       "24749  2baf344a-8f11-43d2-9194-77e97ddcbeb3  FAST_PYMT_RQ        SETT   \n",
       "32406  f17e065c-e188-4fdd-b906-cce031234e50  FAST_PYMT_RQ        SETT   \n",
       "49191  72b03179-0d5c-4885-8f66-48d9d12c5a0b  FAST_PYMT_RQ        SETT   \n",
       "\n",
       "               created_at              eff_dt        movement_day  ...  \\\n",
       "24747 2024-01-31 18:32:28 2024-01-31 20:30:00 2024-01-31 18:32:28  ...   \n",
       "24748 2024-01-31 16:44:37 2024-01-31 18:00:00 2024-01-31 16:44:37  ...   \n",
       "24749 2024-01-31 11:03:24 2024-01-31 11:30:00 2024-01-31 11:03:24  ...   \n",
       "32406 2024-01-31 15:48:32 2024-01-31 18:00:00 2024-01-31 15:48:32  ...   \n",
       "49191 2024-01-31 19:48:27 2024-01-31 20:30:00 2024-01-31 19:48:27  ...   \n",
       "\n",
       "      fees_pymt taxes_pymt net_amount_pymt psp_amount gross_amount  fees  \\\n",
       "24747      0.00       0.00            0.00     150.00       150.00  5.40   \n",
       "24748      0.00       0.00            0.00      10.00        10.00  0.36   \n",
       "24749      0.00       0.00            0.00     109.50       109.50  3.94   \n",
       "32406      0.00       0.00            0.00     500.00       500.00 18.00   \n",
       "49191      0.00       0.00            0.00     350.00       350.00 12.60   \n",
       "\n",
       "      taxes  net_amount  movement_type_sml  created_at_date  \n",
       "24747  0.86      143.74                  0       2024-01-31  \n",
       "24748  0.06        9.58                  0       2024-01-31  \n",
       "24749  0.63      104.93                  0       2024-01-31  \n",
       "32406  2.88      479.12                  0       2024-01-31  \n",
       "49191  2.02      335.38                  0       2024-01-31  \n",
       "\n",
       "[5 rows x 43 columns]"
      ]
     },
     "execution_count": 92,
     "metadata": {},
     "output_type": "execute_result"
    }
   ],
   "source": [
    "last_fecha_txn = ap_sett_final[(ap_sett_final['created_at_date'] == final_date_fact)]\n",
    "last_fecha_txn.head()"
   ]
  },
  {
   "cell_type": "code",
   "execution_count": 93,
   "id": "c74b6136-f659-4d78-8b4f-f23864b0105f",
   "metadata": {},
   "outputs": [
    {
     "data": {
      "text/plain": [
       "(4255, 43)"
      ]
     },
     "execution_count": 93,
     "metadata": {},
     "output_type": "execute_result"
    }
   ],
   "source": [
    "fecha_txn.shape"
   ]
  },
  {
   "cell_type": "code",
   "execution_count": 91,
   "id": "331173a8-8880-49ff-8596-013d1310d396",
   "metadata": {},
   "outputs": [],
   "source": [
    "fecha_txn.to_excel('Ultima_fecha_txn.xlsx',index=False)"
   ]
  },
  {
   "cell_type": "markdown",
   "id": "12f76407",
   "metadata": {},
   "source": [
    "# IDENTIFICACION DE PAGOS DCC"
   ]
  },
  {
   "cell_type": "code",
   "execution_count": null,
   "id": "0e25ec5f",
   "metadata": {},
   "outputs": [],
   "source": [
    "ap_sett_dcc = ap_sett_final[(ap_sett_final['dcc_status'] == 'Tarjeta con DCC')]\n",
    "ap_sett_dcc.head()"
   ]
  },
  {
   "cell_type": "code",
   "execution_count": null,
   "id": "eadbbc86",
   "metadata": {},
   "outputs": [],
   "source": [
    "ap_sett_dcc.shape"
   ]
  },
  {
   "cell_type": "code",
   "execution_count": null,
   "id": "e4a2551f",
   "metadata": {},
   "outputs": [],
   "source": [
    "ap_sett_dcc['movement_type'].unique()"
   ]
  },
  {
   "cell_type": "code",
   "execution_count": null,
   "id": "8936705c-8b7e-4b89-9e76-60515ddc20fd",
   "metadata": {},
   "outputs": [],
   "source": [
    "ap_sett_dcc['pymt_prg'].unique()"
   ]
  },
  {
   "cell_type": "code",
   "execution_count": null,
   "id": "9e6d9954-c907-44c3-987d-b1c5458d85e3",
   "metadata": {},
   "outputs": [],
   "source": [
    "ap_sett_dcc['movement_type_sml'].unique()"
   ]
  },
  {
   "cell_type": "markdown",
   "id": "65fba50f",
   "metadata": {},
   "source": [
    "# ONLY REGULAR - FAST PAYMENTS"
   ]
  },
  {
   "cell_type": "code",
   "execution_count": null,
   "id": "4c1e9000",
   "metadata": {},
   "outputs": [],
   "source": [
    "ap_sett_final_regular_fp = ap_sett_final\n",
    "ap_sett_final_regular_fp.loc[ap_sett_final_regular_fp['movement_type'] == 'DEFERRED_REGULAR_PYMNT_RQ', 'gross_amount_dp'] = ap_sett_final_regular_fp['gross_amount']\n",
    "ap_sett_final_regular_fp.loc[ap_sett_final_regular_fp['movement_type'] == 'DEFERRED_REGULAR_PYMNT_RQ', 'gross_amount'] = 0\n",
    "ap_sett_final_regular_fp.loc[ap_sett_final_regular_fp['movement_type'] == 'DEFERRED_FAST_PYMNT_RQ', 'gross_amount_dp'] = ap_sett_final_regular_fp['gross_amount']\n",
    "ap_sett_final_regular_fp.loc[ap_sett_final_regular_fp['movement_type'] == 'DEFERRED_FAST_PYMNT_RQ', 'gross_amount'] = 0\n",
    "ap_sett_final_regular_fp.head()"
   ]
  },
  {
   "cell_type": "code",
   "execution_count": null,
   "id": "370aa139",
   "metadata": {},
   "outputs": [],
   "source": [
    "ap_sett_final_regular_fp.shape"
   ]
  },
  {
   "cell_type": "code",
   "execution_count": null,
   "id": "e7d016b6",
   "metadata": {},
   "outputs": [],
   "source": [
    "ap_sett_final_regular_fp['movement_type'].unique()"
   ]
  },
  {
   "cell_type": "code",
   "execution_count": null,
   "id": "2c9764f7-3abf-4e83-b4d9-a3f072cc8be6",
   "metadata": {},
   "outputs": [],
   "source": [
    "ap_sett_final_regular_fp['pymt_prg'].unique()"
   ]
  },
  {
   "cell_type": "code",
   "execution_count": null,
   "id": "e050869f",
   "metadata": {},
   "outputs": [],
   "source": [
    "ap_sett_final_cancelaciones = ap_sett_final_regular_fp[(ap_sett_final_regular_fp['gross_amount_pymt'] != 0)]\n",
    "ap_sett_final_cancelaciones.head()"
   ]
  },
  {
   "cell_type": "code",
   "execution_count": null,
   "id": "36ef3e3b",
   "metadata": {},
   "outputs": [],
   "source": [
    "ap_sett_final_cancelaciones.shape"
   ]
  },
  {
   "cell_type": "code",
   "execution_count": null,
   "id": "eeb6fa43",
   "metadata": {},
   "outputs": [],
   "source": [
    "ap_sett_final_group_regular_fp = ap_sett_final_regular_fp.groupby(['eff_dt_date','merchant_id',\n",
    "                                                                   'email']).agg({'mvnt_id':'count',\n",
    "                                                                                  'gross_amount_sett':sum,\n",
    "                                                                                  'fees_sett':sum,\n",
    "                                                                                  'taxes_sett':sum,\n",
    "                                                                                  'net_amount_sett':sum,\n",
    "                                                                                  'gross_amount_pymt':sum,\n",
    "                                                                                  'fees_pymt':sum,\n",
    "                                                                                  'taxes_pymt':sum,\n",
    "                                                                                  'net_amount_pymt':sum,\n",
    "                                                                                  'gross_amount':sum,\n",
    "                                                                                  'fees':sum,\n",
    "                                                                                  'taxes':sum,\n",
    "                                                                                  'net_amount':sum,\n",
    "                                                                                  'amount':sum}).reset_index()\n",
    "ap_sett_final_group_regular_fp.head()"
   ]
  },
  {
   "cell_type": "code",
   "execution_count": null,
   "id": "074a0ffd",
   "metadata": {},
   "outputs": [],
   "source": [
    "ap_sett_final_group_regular_fp.shape"
   ]
  },
  {
   "cell_type": "code",
   "execution_count": null,
   "id": "1f8f0c91",
   "metadata": {},
   "outputs": [],
   "source": [
    "ap_sett_final_group_regular_fp_me_only = ap_sett_final_regular_fp.groupby(['merchant_id',\n",
    "                                                                   'email']).agg({'mvnt_id':'count',\n",
    "                                                                                  'gross_amount_sett':sum,\n",
    "                                                                                  'fees_sett':sum,\n",
    "                                                                                  'taxes_sett':sum,\n",
    "                                                                                  'net_amount_sett':sum,\n",
    "                                                                                  'gross_amount_pymt':sum,\n",
    "                                                                                  'fees_pymt':sum,\n",
    "                                                                                  'taxes_pymt':sum,\n",
    "                                                                                  'net_amount_pymt':sum,\n",
    "                                                                                  'gross_amount':sum,\n",
    "                                                                                  'fees':sum,\n",
    "                                                                                  'taxes':sum,\n",
    "                                                                                  'net_amount':sum,\n",
    "                                                                                  'amount':sum}).reset_index()\n",
    "ap_sett_final_group_regular_fp_me_only.head()"
   ]
  },
  {
   "cell_type": "code",
   "execution_count": null,
   "id": "89009331",
   "metadata": {},
   "outputs": [],
   "source": [
    "ap_sett_final_group_regular_fp_me_only.shape"
   ]
  },
  {
   "cell_type": "markdown",
   "id": "3b7c3516",
   "metadata": {},
   "source": [
    "### TPV, FEES, TAXES, NET AMOUNT"
   ]
  },
  {
   "cell_type": "code",
   "execution_count": null,
   "id": "60cda870",
   "metadata": {},
   "outputs": [],
   "source": [
    "cruce_1_group_regular_fp = ap_sett_final_regular_fp.groupby(['eff_dt_date']).agg({'mvnt_id':'count',\n",
    "                                                                                  'gross_amount_sett':sum,\n",
    "                                                                                  'fees_sett':sum,\n",
    "                                                                                  'taxes_sett':sum,\n",
    "                                                                                  'net_amount_sett':sum,\n",
    "                                                                                  'gross_amount_pymt':sum,\n",
    "                                                                                  'fees_pymt':sum,\n",
    "                                                                                  'taxes_pymt':sum,\n",
    "                                                                                  'net_amount_pymt':sum,\n",
    "                                                                                  'gross_amount':sum,\n",
    "                                                                                  'fees':sum,\n",
    "                                                                                  'taxes':sum,\n",
    "                                                                                  'net_amount':sum,\n",
    "                                                                                  'amount':sum}).reset_index()\n",
    "cruce_1_group_regular_fp.head()"
   ]
  },
  {
   "cell_type": "code",
   "execution_count": null,
   "id": "7da4da3f",
   "metadata": {},
   "outputs": [],
   "source": [
    "cruce_1_group_regular_fp.shape"
   ]
  },
  {
   "cell_type": "code",
   "execution_count": null,
   "id": "0cf40650",
   "metadata": {},
   "outputs": [],
   "source": [
    "cruce_1_group_regular_fp.to_excel('Date_tpv_fees_taxes_ledger_enero_2024.xlsx',index=False)"
   ]
  },
  {
   "cell_type": "code",
   "execution_count": null,
   "id": "470ab32c",
   "metadata": {},
   "outputs": [],
   "source": [
    "sorted(cruce_1_group_regular_fp['eff_dt_date'].unique())"
   ]
  },
  {
   "cell_type": "code",
   "execution_count": null,
   "id": "d5070616",
   "metadata": {},
   "outputs": [],
   "source": [
    "cruce_1_group_me_id_regular_fp = ap_sett_final_regular_fp.groupby(['merchant_id','email']).agg({'mvnt_id':'count',\n",
    "                                                                      'gross_amount':sum,\n",
    "                                                                      'fees':sum,\n",
    "                                                                      'taxes':sum,\n",
    "                                                                      'net_amount':sum,\n",
    "                                                                      'amount':sum}).reset_index()\n",
    "cruce_1_group_me_id_regular_fp.head()"
   ]
  },
  {
   "cell_type": "code",
   "execution_count": null,
   "id": "20a57d4a",
   "metadata": {},
   "outputs": [],
   "source": [
    "cruce_1_group_me_id_regular_fp.shape"
   ]
  },
  {
   "cell_type": "markdown",
   "id": "80b0b050",
   "metadata": {},
   "source": [
    "### PIVOT PARA POLIZA CONTABLE"
   ]
  },
  {
   "cell_type": "code",
   "execution_count": null,
   "id": "75e77d36",
   "metadata": {},
   "outputs": [],
   "source": [
    "pivot_poliza_regular_fp = pd.pivot_table(ap_sett_final_regular_fp,index=['movement_type_sml','pymt_prg','eff_dt_date'],\n",
    "                                         columns=['movement_type'],\n",
    "                                         values=['gross_amount','fees','taxes','net_amount','amount'],\n",
    "                                         aggfunc=np.sum,margins=True).reset_index()\n",
    "pivot_poliza_regular_fp.fillna(0,inplace=True)\n",
    "pivot_poliza_regular_fp.head()"
   ]
  },
  {
   "cell_type": "code",
   "execution_count": null,
   "id": "e847d3f7",
   "metadata": {},
   "outputs": [],
   "source": [
    "pivot_poliza_regular_fp.shape"
   ]
  },
  {
   "cell_type": "markdown",
   "id": "1b2c6c2e",
   "metadata": {},
   "source": [
    "### TOPUPS"
   ]
  },
  {
   "cell_type": "code",
   "execution_count": null,
   "id": "5367aa0c",
   "metadata": {},
   "outputs": [],
   "source": [
    "ap_topups_preview = pd.concat([pd.read_csv(f, sep='\\t').assign(file_name=os.path.basename(f)) for f in ap_files_topups])\n",
    "ap_topups_preview.columns = ap_topups_preview.columns.str.strip().str.lower()\n",
    "ap_topups_preview.replace('\"\"','', regex=True, inplace=True)\n",
    "ap_topups_preview['eff_dt'] =  pd.to_datetime(ap_topups_preview['eff_dt']).dt.tz_localize(None)\n",
    "ap_topups_preview['eff_dt_date'] =  pd.to_datetime(ap_topups_preview['eff_dt']).dt.date\n",
    "ap_topups_preview['eff_dt_time'] =  pd.to_datetime(ap_topups_preview['eff_dt']).dt.time\n",
    "ap_topups_preview['eff_dt_date'] =  pd.to_datetime(ap_topups_preview['eff_dt_date']).dt.tz_localize(None)\n",
    "ap_topups_preview['movement_day'] = pd.to_datetime(ap_topups_preview['movement_day']).dt.tz_localize(None)\n",
    "ap_topups_preview['created_at'] = pd.to_datetime(ap_topups_preview['created_at']).dt.tz_localize(None)\n",
    "ap_topups_preview['request_effective_date'] = pd.to_datetime(ap_topups_preview['request_effective_date']).dt.tz_localize(None)\n",
    "ap_topups_preview['slot_date'] = pd.to_datetime(ap_topups_preview['slot_date']).dt.tz_localize(None)\n",
    "# ap_topups_preview['identifier'] = ap_topups_preview['source_type'].str[:1].astype(str)\n",
    "# ap_topups_preview['INDEX'] = (ap_topups_preview['eff_dt_date'].astype(str).replace(' ', '',regex=True)+'-'+\n",
    "#                ap_topups_preview['identifier'].astype(str).replace(' ', '',regex=True)+'-'+\n",
    "#                ap_topups_preview['eff_dt_time'].astype(str).replace(' ', '',regex=True))\n",
    "ap_topups_preview.sort_values(by=(['merchant_id','eff_dt']), ascending=[True,False], inplace=True)\n",
    "ap_topups_preview['fee_direct_deposit'] = ap_topups_preview['amount'] / 1.16\n",
    "ap_topups_preview['taxes_direct_deposit'] = ap_topups_preview['fee_direct_deposit'] * 0.16\n",
    "ap_topups_preview.head()"
   ]
  },
  {
   "cell_type": "code",
   "execution_count": null,
   "id": "e72f5438",
   "metadata": {},
   "outputs": [],
   "source": [
    "ap_topups_preview.shape"
   ]
  },
  {
   "cell_type": "code",
   "execution_count": null,
   "id": "b7c1d7f0",
   "metadata": {},
   "outputs": [],
   "source": [
    "ap_topups = ap_topups_preview.merge(email[['merchant_id','email','merchant_name']],on='merchant_id',how='left')\n",
    "ap_topups.head()"
   ]
  },
  {
   "cell_type": "code",
   "execution_count": null,
   "id": "b84ab72e",
   "metadata": {},
   "outputs": [],
   "source": [
    "ap_topups.shape"
   ]
  },
  {
   "cell_type": "markdown",
   "id": "df93bdcb",
   "metadata": {},
   "source": [
    "### BILL PAYMENTS"
   ]
  },
  {
   "cell_type": "code",
   "execution_count": null,
   "id": "e9fad444",
   "metadata": {},
   "outputs": [],
   "source": [
    "ap_bill_payments_preview = pd.concat([pd.read_csv(f, sep='\\t').assign(file_name=os.path.basename(f)) for f in ap_files_bill_payments])\n",
    "ap_bill_payments_preview.columns = ap_bill_payments_preview.columns.str.strip().str.lower()\n",
    "ap_bill_payments_preview.replace('\"\"','', regex=True, inplace=True)\n",
    "ap_bill_payments_preview['eff_dt'] =  pd.to_datetime(ap_bill_payments_preview['eff_dt']).dt.tz_localize(None)\n",
    "ap_bill_payments_preview['eff_dt_date'] =  pd.to_datetime(ap_bill_payments_preview['eff_dt']).dt.date\n",
    "ap_bill_payments_preview['eff_dt_time'] =  pd.to_datetime(ap_bill_payments_preview['eff_dt']).dt.time\n",
    "ap_bill_payments_preview['eff_dt_date'] =  pd.to_datetime(ap_bill_payments_preview['eff_dt_date']).dt.tz_localize(None)\n",
    "ap_bill_payments_preview['movement_day'] = pd.to_datetime(ap_bill_payments_preview['movement_day']).dt.tz_localize(None)\n",
    "ap_bill_payments_preview['created_at'] = pd.to_datetime(ap_bill_payments_preview['created_at']).dt.tz_localize(None)\n",
    "ap_bill_payments_preview['request_effective_date'] = pd.to_datetime(ap_bill_payments_preview['request_effective_date']).dt.tz_localize(None)\n",
    "ap_bill_payments_preview['slot_date'] = pd.to_datetime(ap_bill_payments_preview['slot_date']).dt.tz_localize(None)\n",
    "# ap_bill_payments_preview['identifier'] = ap_bill_payments_preview['source_type'].str[:1].astype(str)\n",
    "# ap_bill_payments_preview['INDEX'] = (ap_bill_payments_preview['eff_dt_date'].astype(str).replace(' ', '',regex=True)+'-'+\n",
    "#                ap_bill_payments_preview['identifier'].astype(str).replace(' ', '',regex=True)+'-'+\n",
    "#                ap_bill_payments_preview['eff_dt_time'].astype(str).replace(' ', '',regex=True))\n",
    "ap_bill_payments_preview.sort_values(by=(['merchant_id','eff_dt']), ascending=[True,False], inplace=True)\n",
    "ap_bill_payments_preview['merchant_commission_fees'] = ap_bill_payments_preview['merchant_commission'] / 1.16\n",
    "ap_bill_payments_preview['merchant_commission_taxes'] = ap_bill_payments_preview['merchant_commission_fees'] * 0.16\n",
    "ap_bill_payments_preview['frontend_commission_fees'] = ap_bill_payments_preview['frontend_commission'] / 1.16\n",
    "ap_bill_payments_preview['frontend_commission_taxes'] = ap_bill_payments_preview['frontend_commission_fees'] * 0.16\n",
    "ap_bill_payments_preview.head()"
   ]
  },
  {
   "cell_type": "code",
   "execution_count": null,
   "id": "8ee0a76c",
   "metadata": {},
   "outputs": [],
   "source": [
    "ap_bill_payments_preview.shape"
   ]
  },
  {
   "cell_type": "code",
   "execution_count": null,
   "id": "38b09551",
   "metadata": {},
   "outputs": [],
   "source": [
    "ap_bill_payments_preview_journal_completed = ap_bill_payments_preview[(ap_bill_payments_preview['service_billers_status'] == 'journal-completed')]\n",
    "ap_bill_payments_preview_journal_completed.head()"
   ]
  },
  {
   "cell_type": "code",
   "execution_count": null,
   "id": "4d641622",
   "metadata": {},
   "outputs": [],
   "source": [
    "ap_bill_payments_preview_journal_completed.shape"
   ]
  },
  {
   "cell_type": "code",
   "execution_count": null,
   "id": "924e619d",
   "metadata": {},
   "outputs": [],
   "source": [
    "ap_bill_payments_preview_journal_completed['service_billers_status'].unique()"
   ]
  },
  {
   "cell_type": "code",
   "execution_count": null,
   "id": "c3dfd342",
   "metadata": {},
   "outputs": [],
   "source": [
    "ap_bill_payments = ap_bill_payments_preview_journal_completed.merge(email[['merchant_id','email','merchant_name']],\n",
    "                                                                    on='merchant_id',how='left')\n",
    "ap_bill_payments.head()"
   ]
  },
  {
   "cell_type": "code",
   "execution_count": null,
   "id": "5a7cd323",
   "metadata": {},
   "outputs": [],
   "source": [
    "ap_bill_payments.shape"
   ]
  },
  {
   "cell_type": "markdown",
   "id": "a4a1ae47",
   "metadata": {},
   "source": [
    "### CASHBACKS"
   ]
  },
  {
   "cell_type": "code",
   "execution_count": null,
   "id": "fef743a0",
   "metadata": {},
   "outputs": [],
   "source": [
    "ap_cashback_preview = pd.concat([pd.read_csv(f, sep='\\t').assign(file_name=os.path.basename(f)) for f in ap_files_cashbacks])\n",
    "ap_cashback_preview.columns = ap_cashback_preview.columns.str.strip().str.lower()\n",
    "ap_cashback_preview.replace('\"\"','', regex=True, inplace=True)\n",
    "ap_cashback_preview['eff_dt'] =  pd.to_datetime(ap_cashback_preview['eff_dt']).dt.tz_localize(None)\n",
    "ap_cashback_preview['eff_dt_date'] =  pd.to_datetime(ap_cashback_preview['eff_dt']).dt.date\n",
    "ap_cashback_preview['eff_dt_time'] =  pd.to_datetime(ap_cashback_preview['eff_dt']).dt.time\n",
    "ap_cashback_preview['eff_dt_date'] =  pd.to_datetime(ap_cashback_preview['eff_dt_date']).dt.tz_localize(None)\n",
    "ap_cashback_preview['movement_day'] = pd.to_datetime(ap_cashback_preview['movement_day']).dt.tz_localize(None)\n",
    "ap_cashback_preview['created_at'] = pd.to_datetime(ap_cashback_preview['created_at']).dt.tz_localize(None)\n",
    "ap_cashback_preview['request_effective_date'] = pd.to_datetime(ap_cashback_preview['request_effective_date']).dt.tz_localize(None)\n",
    "ap_cashback_preview['slot_date'] = pd.to_datetime(ap_cashback_preview['slot_date']).dt.tz_localize(None)\n",
    "# ap_cashback_preview['identifier'] = ap_cashback_preview['source_type'].str[:1].astype(str)\n",
    "# ap_cashback_preview['INDEX'] = (ap_cashback_preview['eff_dt_date'].astype(str).replace(' ', '',regex=True)+'-'+\n",
    "#                ap_cashback_preview['identifier'].astype(str).replace(' ', '',regex=True)+'-'+\n",
    "#                ap_cashback_preview['eff_dt_time'].astype(str).replace(' ', '',regex=True))\n",
    "ap_cashback_preview.sort_values(by=(['merchant_id','eff_dt']), ascending=[True,False], inplace=True)\n",
    "ap_cashback_preview['fees_cashback'] = ap_cashback_preview['amount'] / 1.16\n",
    "ap_cashback_preview['taxes_cashback'] = ap_cashback_preview['fees_cashback'] * 0.16\n",
    "ap_cashback_preview.head()"
   ]
  },
  {
   "cell_type": "code",
   "execution_count": null,
   "id": "ed5670cd",
   "metadata": {},
   "outputs": [],
   "source": [
    "ap_cashback_preview.shape"
   ]
  },
  {
   "cell_type": "code",
   "execution_count": null,
   "id": "d838c358",
   "metadata": {},
   "outputs": [],
   "source": [
    "ap_cashback = ap_cashback_preview.merge(email[['merchant_id','email','merchant_name']],on='merchant_id',how='left')\n",
    "ap_cashback.head()"
   ]
  },
  {
   "cell_type": "code",
   "execution_count": null,
   "id": "1df78fb6",
   "metadata": {},
   "outputs": [],
   "source": [
    "ap_cashback.shape"
   ]
  },
  {
   "cell_type": "markdown",
   "id": "c9797855",
   "metadata": {},
   "source": [
    "### UNION TOPUPS, BILL PAYMENTS, CASHBACK"
   ]
  },
  {
   "cell_type": "code",
   "execution_count": null,
   "id": "8d89f99e",
   "metadata": {},
   "outputs": [],
   "source": [
    "ap_topups_billpymnt_cashback = pd.concat([ap_topups,ap_bill_payments,ap_cashback])\n",
    "ap_topups_billpymnt_cashback.head()"
   ]
  },
  {
   "cell_type": "code",
   "execution_count": null,
   "id": "472ee4c9",
   "metadata": {},
   "outputs": [],
   "source": [
    "ap_topups_billpymnt_cashback.shape"
   ]
  },
  {
   "cell_type": "code",
   "execution_count": null,
   "id": "7571ca7f",
   "metadata": {},
   "outputs": [],
   "source": [
    "ap_topups_billpymnt_cashback_group = ap_topups_billpymnt_cashback.groupby(['eff_dt_date',\n",
    "                                                                           'merchant_id',\n",
    "                                                                           'email']).agg({'mvnt_id':'count',\n",
    "                                                                                          'fee_direct_deposit':sum,\n",
    "                                                                                          'taxes_direct_deposit':sum,\n",
    "                                                                                          'merchant_commission_fees':sum,\n",
    "                                                                                          'merchant_commission_taxes':sum,\n",
    "                                                                                          'merchant_commission':sum,\n",
    "                                                                                          'frontend_commission_fees':sum,\n",
    "                                                                                          'frontend_commission_taxes':sum,\n",
    "                                                                                          'frontend_commission':sum,\n",
    "                                                                                          'fees_cashback':sum,\n",
    "                                                                                          'taxes_cashback':sum,\n",
    "                                                                                          'amount':sum}).reset_index()\n",
    "ap_topups_billpymnt_cashback_group.head()"
   ]
  },
  {
   "cell_type": "code",
   "execution_count": null,
   "id": "4ad86066",
   "metadata": {},
   "outputs": [],
   "source": [
    "ap_topups_billpymnt_cashback_group.shape"
   ]
  },
  {
   "cell_type": "code",
   "execution_count": null,
   "id": "4516fa4c",
   "metadata": {},
   "outputs": [],
   "source": [
    "ap_topups_billpymnt_cashback_group.to_excel('TOPUPS_BILL_PAYMENTS_CASHBACK_LEDGER_ENERO_2024.xlsx',index=False)"
   ]
  },
  {
   "cell_type": "code",
   "execution_count": null,
   "id": "db1714d7",
   "metadata": {},
   "outputs": [],
   "source": [
    "sorted(ap_topups_billpymnt_cashback_group['eff_dt_date'].unique())"
   ]
  },
  {
   "cell_type": "code",
   "execution_count": null,
   "id": "a2383047",
   "metadata": {},
   "outputs": [],
   "source": [
    "ap_topups_billpymnt_cashback_group_me_id = ap_topups_billpymnt_cashback.groupby(['merchant_id',\n",
    "                                                                                 'email']).agg({'mvnt_id':'count',\n",
    "                                                                                                'fee_direct_deposit':sum,\n",
    "                                                                                                'taxes_direct_deposit':sum,\n",
    "                                                                                                'merchant_commission_fees':sum,\n",
    "                                                                                                'merchant_commission_taxes':sum,\n",
    "                                                                                                'merchant_commission':sum,\n",
    "                                                                                                'frontend_commission_fees':sum,\n",
    "                                                                                                'frontend_commission_taxes':sum,\n",
    "                                                                                                'frontend_commission':sum,\n",
    "                                                                                                'fees_cashback':sum,\n",
    "                                                                                                'taxes_cashback':sum,\n",
    "                                                                                                'amount':sum}).reset_index()\n",
    "ap_topups_billpymnt_cashback_group_me_id.head()"
   ]
  },
  {
   "cell_type": "code",
   "execution_count": null,
   "id": "a18e70d2",
   "metadata": {},
   "outputs": [],
   "source": [
    "ap_topups_billpymnt_cashback_group_me_id.shape"
   ]
  },
  {
   "cell_type": "markdown",
   "id": "0f7a4db6",
   "metadata": {},
   "source": [
    "### TOPUPS/BILL PAYMENTS/CASHBACKS ME NO ENCONTRADOS"
   ]
  },
  {
   "cell_type": "code",
   "execution_count": null,
   "id": "18752b46",
   "metadata": {},
   "outputs": [],
   "source": [
    "topups_billpymnt_cashback_not_found = ap_topups_billpymnt_cashback_group_me_id.merge(cruce_1_group_me_id_regular_fp[['merchant_id',\n",
    "                                                                                                                     'gross_amount',\n",
    "                                                                                                                     'fees',\n",
    "                                                                                                                     'taxes',\n",
    "                                                                                                                     'net_amount',\n",
    "                                                                                                                     'amount']],\n",
    "                                                                                     on='merchant_id',how='left')\n",
    "topups_billpymnt_cashback_not_found.head()"
   ]
  },
  {
   "cell_type": "code",
   "execution_count": null,
   "id": "b6048746",
   "metadata": {},
   "outputs": [],
   "source": [
    "topups_billpymnt_cashback_not_found.shape"
   ]
  },
  {
   "cell_type": "code",
   "execution_count": null,
   "id": "9fa6dea4",
   "metadata": {},
   "outputs": [],
   "source": [
    "topups_billpymnt_cashback_not_found_final = topups_billpymnt_cashback_not_found[(topups_billpymnt_cashback_not_found['gross_amount'].isnull())]\n",
    "topups_billpymnt_cashback_not_found_final.rename(columns={'amount_x':'amount_y','amount_y':'amount_x'},inplace=True)\n",
    "topups_billpymnt_cashback_not_found_final.head()"
   ]
  },
  {
   "cell_type": "code",
   "execution_count": null,
   "id": "52b9f862",
   "metadata": {},
   "outputs": [],
   "source": [
    "topups_billpymnt_cashback_not_found_final.shape"
   ]
  },
  {
   "cell_type": "markdown",
   "id": "7d2cd558",
   "metadata": {},
   "source": [
    "# UNION PREVIA"
   ]
  },
  {
   "cell_type": "code",
   "execution_count": null,
   "id": "f06463fe",
   "metadata": {},
   "outputs": [],
   "source": [
    "union_previa_1 = cruce_1_group_me_id_regular_fp.merge(ap_topups_billpymnt_cashback_group_me_id[['merchant_id',\n",
    "                                                                                        'fee_direct_deposit',\n",
    "                                                                                        'taxes_direct_deposit',\n",
    "                                                                                        'merchant_commission_fees',\n",
    "                                                                                        'merchant_commission_taxes',\n",
    "                                                                                        'merchant_commission',\n",
    "                                                                                        'frontend_commission_fees',\n",
    "                                                                                        'frontend_commission_taxes',\n",
    "                                                                                        'frontend_commission',\n",
    "                                                                                        'fees_cashback',\n",
    "                                                                                        'taxes_cashback',\n",
    "                                                                                        'amount']],on='merchant_id',how='left')\n",
    "union_previa_1.fillna(0,inplace=True)\n",
    "union_previa_1.head()"
   ]
  },
  {
   "cell_type": "code",
   "execution_count": null,
   "id": "7ed25273",
   "metadata": {},
   "outputs": [],
   "source": [
    "union_previa_1.shape"
   ]
  },
  {
   "cell_type": "markdown",
   "id": "95d0d625",
   "metadata": {},
   "source": [
    "# UNION PREVIA CON TOPUPS NO ENCONTRADOS Y BILL PAYMENTS NO ENCONTRADOS"
   ]
  },
  {
   "cell_type": "code",
   "execution_count": null,
   "id": "0d79969b",
   "metadata": {},
   "outputs": [],
   "source": [
    "union_previa_final = pd.concat([union_previa_1,topups_billpymnt_cashback_not_found_final])\n",
    "union_previa_final.fillna(0,inplace=True)\n",
    "union_previa_final.head()"
   ]
  },
  {
   "cell_type": "code",
   "execution_count": null,
   "id": "2b2717ec",
   "metadata": {},
   "outputs": [],
   "source": [
    "union_previa_final.shape"
   ]
  },
  {
   "cell_type": "markdown",
   "id": "5fb8947e",
   "metadata": {},
   "source": [
    "# DEFERRED PAYMENTS"
   ]
  },
  {
   "cell_type": "code",
   "execution_count": null,
   "id": "68c59292",
   "metadata": {},
   "outputs": [],
   "source": [
    "ap_sett_final_deferred = ap_sett_final[((ap_sett_final['movement_type'] == 'DEFERRED_REGULAR_PYMNT_RQ') |\n",
    "                                        (ap_sett_final['movement_type'] == 'DEFERRED_FAST_PYMNT_RQ'))]\n",
    "ap_sett_final_deferred['ingreso_deferred'] = ap_sett_final_deferred['psp_amount'] - ap_sett_final_deferred['gross_amount_dp']\n",
    "ap_sett_final_deferred['fees_deferred'] = ap_sett_final_deferred['ingreso_deferred'] / 1.1600\n",
    "ap_sett_final_deferred['taxes_deferred'] = ap_sett_final_deferred['fees_deferred']  * 0.1600\n",
    "ap_sett_final_deferred.head()"
   ]
  },
  {
   "cell_type": "code",
   "execution_count": null,
   "id": "838c48ae",
   "metadata": {},
   "outputs": [],
   "source": [
    "ap_sett_final_deferred.shape"
   ]
  },
  {
   "cell_type": "code",
   "execution_count": null,
   "id": "f8aa56fc",
   "metadata": {},
   "outputs": [],
   "source": [
    "ap_sett_final_group_deferred = ap_sett_final_deferred.groupby(['eff_dt_date','merchant_id','email']).agg({'mvnt_id':'count',\n",
    "                                                                                'psp_amount_sett':sum,\n",
    "                                                                                'gross_amount_sett':sum,\n",
    "                                                                                'fees_sett':sum,\n",
    "                                                                                'taxes_sett':sum,\n",
    "                                                                                'net_amount_sett':sum,\n",
    "                                                                                'psp_amount_pymt':sum,\n",
    "                                                                                'gross_amount_pymt':sum,\n",
    "                                                                                'fees_pymt':sum,\n",
    "                                                                                'taxes_pymt':sum,\n",
    "                                                                                'net_amount_pymt':sum,\n",
    "                                                                      'gross_amount':sum,\n",
    "                                                                      'fees':sum,\n",
    "                                                                      'taxes':sum,\n",
    "                                                                      'net_amount':sum,\n",
    "                                                                      'amount':sum,\n",
    "                                                                      'psp_amount':sum,\n",
    "                                                                      'gross_amount_dp':sum,\n",
    "                                                                      'fees_deferred':sum,\n",
    "                                                                      'taxes_deferred':sum}).reset_index()\n",
    "ap_sett_final_group_deferred.head()"
   ]
  },
  {
   "cell_type": "code",
   "execution_count": null,
   "id": "ee0f1e15",
   "metadata": {},
   "outputs": [],
   "source": [
    "ap_sett_final_group_deferred.shape"
   ]
  },
  {
   "cell_type": "code",
   "execution_count": null,
   "id": "43eb57d8",
   "metadata": {},
   "outputs": [],
   "source": [
    "date_group_deferred = ap_sett_final_group_deferred.groupby(['eff_dt_date']).agg({'mvnt_id':'count',\n",
    "                                                                      'gross_amount':sum,\n",
    "                                                                      'fees':sum,\n",
    "                                                                      'taxes':sum,\n",
    "                                                                      'net_amount':sum,\n",
    "                                                                      'amount':sum,\n",
    "                                                                                 'psp_amount':sum,\n",
    "                                                                                 'gross_amount_dp':sum,\n",
    "                                                                                'fees_deferred':sum,\n",
    "                                                                                'taxes_deferred':sum}).reset_index()\n",
    "date_group_deferred.head()"
   ]
  },
  {
   "cell_type": "code",
   "execution_count": null,
   "id": "cdbb45ee",
   "metadata": {},
   "outputs": [],
   "source": [
    "date_group_deferred.shape"
   ]
  },
  {
   "cell_type": "code",
   "execution_count": null,
   "id": "6da5aff0",
   "metadata": {},
   "outputs": [],
   "source": [
    "group_me_id_deferred = ap_sett_final_group_deferred.groupby(['merchant_id','email']).agg({'mvnt_id':'count',\n",
    "                                                                      'gross_amount':sum,\n",
    "                                                                      'fees':sum,\n",
    "                                                                      'taxes':sum,\n",
    "                                                                      'net_amount':sum,\n",
    "                                                                      'amount':sum,\n",
    "                                                                        'psp_amount':sum,\n",
    "                                                                        'gross_amount_dp':sum,\n",
    "                                                                        'fees_deferred':sum,\n",
    "                                                                        'taxes_deferred':sum}).reset_index()\n",
    "group_me_id_deferred.head()"
   ]
  },
  {
   "cell_type": "code",
   "execution_count": null,
   "id": "acd79423",
   "metadata": {},
   "outputs": [],
   "source": [
    "group_me_id_deferred.shape"
   ]
  },
  {
   "cell_type": "markdown",
   "id": "c9e66d53",
   "metadata": {},
   "source": [
    "### PIVOT PARA POLIZA CONTABLE"
   ]
  },
  {
   "cell_type": "code",
   "execution_count": null,
   "id": "04222ad9",
   "metadata": {},
   "outputs": [],
   "source": [
    "pivot_poliza_deferred = pd.pivot_table(ap_sett_final_deferred,index=['movement_type_sml','pymt_prg','eff_dt_date'],\n",
    "                                       columns=['movement_type'],\n",
    "                                       values=['psp_amount','gross_amount_dp','ingreso_deferred','fees_deferred','taxes_deferred'],\n",
    "                                       aggfunc=np.sum,margins=True).reset_index()\n",
    "pivot_poliza_deferred.fillna(0,inplace=True)\n",
    "pivot_poliza_deferred.head()"
   ]
  },
  {
   "cell_type": "code",
   "execution_count": null,
   "id": "d8d0e781",
   "metadata": {},
   "outputs": [],
   "source": [
    "pivot_poliza_deferred.shape"
   ]
  },
  {
   "cell_type": "markdown",
   "id": "4efa32bd",
   "metadata": {},
   "source": [
    "# EXCEL PREVIO FACTURACION_DYNAMO"
   ]
  },
  {
   "cell_type": "code",
   "execution_count": null,
   "id": "cca4224f",
   "metadata": {},
   "outputs": [],
   "source": [
    "writer = pd.ExcelWriter('PREVIO FACTURACION-LEDGER ENERO 2024.xlsx',\n",
    "                        engine='xlsxwriter',\n",
    "                        engine_kwargs={'options': {'encoding':'utf-8'}})\n",
    "union_previa_final.to_excel(writer, sheet_name='DETALLE_PREVIO',index=False)\n",
    "ap_sett_final_deferred.to_excel(writer, sheet_name='DETALLE_PREVIO_DEFERRED',index=False)\n",
    "writer.close()"
   ]
  },
  {
   "cell_type": "markdown",
   "id": "0f3a8844",
   "metadata": {},
   "source": [
    "# INFORMACIÓN FINAL LEDGER"
   ]
  },
  {
   "cell_type": "code",
   "execution_count": null,
   "id": "10b1c7cf",
   "metadata": {},
   "outputs": [],
   "source": [
    "union_fact_final = union_previa_final[['merchant_id',\n",
    "                                       'email',\n",
    "                                       'gross_amount',\n",
    "                                       'fees',\n",
    "                                       'taxes',\n",
    "                                       'fee_direct_deposit',\n",
    "                                       'taxes_direct_deposit',\n",
    "                                       'frontend_commission_fees',\n",
    "                                       'frontend_commission_taxes',\n",
    "                                       'merchant_commission_fees',\n",
    "                                       'merchant_commission_taxes',\n",
    "                                       'fees_cashback',\n",
    "                                       'taxes_cashback',\n",
    "                                       'net_amount']]\n",
    "union_fact_final.rename(columns={'email':'user_email','gross_amount':'total_transactions','fees':'total_fees_charged',\n",
    "                                'taxes':'total_taxes','net_amount':'total_due'},inplace=True)\n",
    "union_fact_final.head()"
   ]
  },
  {
   "cell_type": "code",
   "execution_count": null,
   "id": "5336729e",
   "metadata": {},
   "outputs": [],
   "source": [
    "union_fact_final.shape"
   ]
  },
  {
   "cell_type": "code",
   "execution_count": null,
   "id": "6053112b",
   "metadata": {},
   "outputs": [],
   "source": [
    "check_mail = union_fact_final[(union_fact_final['user_email'].isnull())]\n",
    "check_mail.head()"
   ]
  },
  {
   "cell_type": "code",
   "execution_count": null,
   "id": "fafeeb98",
   "metadata": {},
   "outputs": [],
   "source": [
    "check_mail.shape"
   ]
  },
  {
   "cell_type": "code",
   "execution_count": null,
   "id": "3aebd648",
   "metadata": {},
   "outputs": [],
   "source": [
    "union_fact_final.to_csv('ledger_regular_fp_enero_2024.csv',index=False)\n",
    "union_fact_final.to_excel('ledger_regular_fp_enero_2024.xlsx',index=False)\n",
    "ap_sett_final_deferred.to_excel('ledger_deferred_enero_2024.xlsx',index=False)\n",
    "ap_sett_final_deferred.to_csv('ledger_deferred_enero_2024.csv',index=False)"
   ]
  },
  {
   "cell_type": "markdown",
   "id": "2ec58d81",
   "metadata": {},
   "source": [
    "# INFORMACION PARA POLIZA CONTABLE"
   ]
  },
  {
   "cell_type": "code",
   "execution_count": null,
   "id": "6c697a70",
   "metadata": {},
   "outputs": [],
   "source": [
    "writer = pd.ExcelWriter('Data_poliza_contable_tpv_enero_2024.xlsx',\n",
    "                        engine='xlsxwriter',\n",
    "                        engine_kwargs={'options': {'encoding':'utf-8'}})\n",
    "pivot_poliza_regular_fp.to_excel(writer, sheet_name='REGULAR_FP_PAYMENTS')\n",
    "pivot_poliza_deferred.to_excel(writer, sheet_name='DEFERRED_PAYMENTS')\n",
    "writer.close()"
   ]
  },
  {
   "cell_type": "code",
   "execution_count": null,
   "id": "65d69240",
   "metadata": {},
   "outputs": [],
   "source": [
    "writer = pd.ExcelWriter('Data_poliza_contable_not_found_enero_2024.xlsx',\n",
    "                        engine='xlsxwriter',\n",
    "                        engine_kwargs={'options': {'encoding':'utf-8'}})\n",
    "cruce_not_found_sett.to_excel(writer, sheet_name='SETT')\n",
    "#cruce_not_found_pymt.to_excel(writer, sheet_name='PYMT')\n",
    "writer.close()"
   ]
  },
  {
   "cell_type": "markdown",
   "id": "0893aafc",
   "metadata": {},
   "source": [
    "# INFORMACION CANCELACIONES"
   ]
  },
  {
   "cell_type": "code",
   "execution_count": null,
   "id": "d9dc4c62",
   "metadata": {},
   "outputs": [],
   "source": [
    "writer = pd.ExcelWriter('Data_cancelaciones_enero_2024.xlsx',\n",
    "                        engine='xlsxwriter',\n",
    "                        engine_kwargs={'options': {'encoding':'utf-8'}})\n",
    "cruce_1_group_regular_fp.to_excel(writer, sheet_name='BY DATE')\n",
    "ap_sett_final_cancelaciones.to_excel(writer, sheet_name='DETALLE')\n",
    "#cruce_not_found_pymt.to_excel(writer, sheet_name='PYMT')\n",
    "writer.close()"
   ]
  },
  {
   "cell_type": "code",
   "execution_count": null,
   "id": "cb22f7a7",
   "metadata": {},
   "outputs": [],
   "source": []
  }
 ],
 "metadata": {
  "kernelspec": {
   "display_name": "Python 3 (ipykernel)",
   "language": "python",
   "name": "python3"
  },
  "language_info": {
   "codemirror_mode": {
    "name": "ipython",
    "version": 3
   },
   "file_extension": ".py",
   "mimetype": "text/x-python",
   "name": "python",
   "nbconvert_exporter": "python",
   "pygments_lexer": "ipython3",
   "version": "3.9.18"
  }
 },
 "nbformat": 4,
 "nbformat_minor": 5
}
