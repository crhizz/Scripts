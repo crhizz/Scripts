{
 "cells": [
  {
   "cell_type": "code",
   "execution_count": 1,
   "metadata": {},
   "outputs": [],
   "source": [
    "import numpy as np\n",
    "import pandas as pd\n",
    "import zipfile\n",
    "from zipfile import ZipFile\n",
    "import glob\n",
    "import os\n",
    "from openpyxl import load_workbook\n",
    "pd.options.display.float_format = '{:,.2f}'.format"
   ]
  },
  {
   "cell_type": "markdown",
   "metadata": {},
   "source": [
    "# SFTP"
   ]
  },
  {
   "cell_type": "markdown",
   "metadata": {},
   "source": [
    "## HEADERS"
   ]
  },
  {
   "cell_type": "code",
   "execution_count": 2,
   "metadata": {},
   "outputs": [],
   "source": [
    "name_file=['column_type','affiliation_sftp','merchant_reference','card','settled_amount','commisions','transaction_date',\n",
    "           'gross_amount','currency','transaction_type','tax','installments_tax','iva_cashback_paid','iva_cashback_charged',\n",
    "          'cashback_fees_paid','cashback_fees_charged','installments_fees','cashback_amount','number_of_payments',\n",
    "           'initial_deferment','plan_type','auth_code','unknown.1','eci','interbank_reference','empty.1','unknown.2','empty.2',\n",
    "          'payworks_reference','card_type','transaction_source','prosa_reference','acquirer_commision','acquirer_tax',\n",
    "          'unknown.3','unknown.4','unknown.5']\n",
    "dtypes_file={'interbank_reference':object,'affiliation_sftp':object,'card':object,'number_of_payments':object,\n",
    "             'initial_deferment':object,'plan_type':object,'auth_code':object,'payworks_reference':object}"
   ]
  },
  {
   "cell_type": "code",
   "execution_count": 3,
   "metadata": {},
   "outputs": [],
   "source": [
    "use_cols = ['affiliation_sftp','transaction_type','transaction_date','gross_amount','auth_code','interbank_reference',\n",
    "            'payworks_reference','card','commisions','tax','installments_fees','installments_tax','acquirer_commision',\n",
    "            'acquirer_tax']"
   ]
  },
  {
   "cell_type": "markdown",
   "metadata": {},
   "source": [
    "### DICIEMBRE 2021"
   ]
  },
  {
   "cell_type": "code",
   "execution_count": 4,
   "metadata": {},
   "outputs": [
    {
     "data": {
      "text/plain": [
       "['G:\\\\My Drive\\\\2.-CONCILIACIONES Y POLIZA\\\\SFTP BANORTE\\\\2021 SFTP Banorte\\\\12. DICIEMBRE\\\\01122021\\\\PAYCLIP_Settlement_01122021_V1.csv',\n",
       " 'G:\\\\My Drive\\\\2.-CONCILIACIONES Y POLIZA\\\\SFTP BANORTE\\\\2021 SFTP Banorte\\\\12. DICIEMBRE\\\\02122021\\\\PAYCLIP_Settlement_02122021_V1.csv',\n",
       " 'G:\\\\My Drive\\\\2.-CONCILIACIONES Y POLIZA\\\\SFTP BANORTE\\\\2021 SFTP Banorte\\\\12. DICIEMBRE\\\\03122021\\\\PAYCLIP_Settlement_03122021_V1.csv',\n",
       " 'G:\\\\My Drive\\\\2.-CONCILIACIONES Y POLIZA\\\\SFTP BANORTE\\\\2021 SFTP Banorte\\\\12. DICIEMBRE\\\\04122021\\\\PAYCLIP_Settlement_04122021_V1.csv',\n",
       " 'G:\\\\My Drive\\\\2.-CONCILIACIONES Y POLIZA\\\\SFTP BANORTE\\\\2021 SFTP Banorte\\\\12. DICIEMBRE\\\\07122021\\\\PAYCLIP_Settlement_07122021_V1.csv',\n",
       " 'G:\\\\My Drive\\\\2.-CONCILIACIONES Y POLIZA\\\\SFTP BANORTE\\\\2021 SFTP Banorte\\\\12. DICIEMBRE\\\\08122021\\\\PAYCLIP_Settlement_08122021_V1.csv',\n",
       " 'G:\\\\My Drive\\\\2.-CONCILIACIONES Y POLIZA\\\\SFTP BANORTE\\\\2021 SFTP Banorte\\\\12. DICIEMBRE\\\\09122021\\\\PAYCLIP_Settlement_09122021_V1.csv',\n",
       " 'G:\\\\My Drive\\\\2.-CONCILIACIONES Y POLIZA\\\\SFTP BANORTE\\\\2021 SFTP Banorte\\\\12. DICIEMBRE\\\\10122021\\\\PAYCLIP_Settlement_10122021_V1.csv',\n",
       " 'G:\\\\My Drive\\\\2.-CONCILIACIONES Y POLIZA\\\\SFTP BANORTE\\\\2021 SFTP Banorte\\\\12. DICIEMBRE\\\\11122021\\\\PAYCLIP_Settlement_11122021_V1.csv',\n",
       " 'G:\\\\My Drive\\\\2.-CONCILIACIONES Y POLIZA\\\\SFTP BANORTE\\\\2021 SFTP Banorte\\\\12. DICIEMBRE\\\\14122021\\\\PAYCLIP_Settlement_14122021_V1.csv',\n",
       " 'G:\\\\My Drive\\\\2.-CONCILIACIONES Y POLIZA\\\\SFTP BANORTE\\\\2021 SFTP Banorte\\\\12. DICIEMBRE\\\\15122021\\\\PAYCLIP_Settlement_15122021_V1.csv',\n",
       " 'G:\\\\My Drive\\\\2.-CONCILIACIONES Y POLIZA\\\\SFTP BANORTE\\\\2021 SFTP Banorte\\\\12. DICIEMBRE\\\\21122021\\\\PAYCLIP_Settlement_21122021_V1.csv',\n",
       " 'G:\\\\My Drive\\\\2.-CONCILIACIONES Y POLIZA\\\\SFTP BANORTE\\\\2021 SFTP Banorte\\\\12. DICIEMBRE\\\\16122021\\\\PAYCLIP_Settlement_16122021_V1.csv',\n",
       " 'G:\\\\My Drive\\\\2.-CONCILIACIONES Y POLIZA\\\\SFTP BANORTE\\\\2021 SFTP Banorte\\\\12. DICIEMBRE\\\\18122021\\\\PAYCLIP_Settlement_18122021_V1.csv',\n",
       " 'G:\\\\My Drive\\\\2.-CONCILIACIONES Y POLIZA\\\\SFTP BANORTE\\\\2021 SFTP Banorte\\\\12. DICIEMBRE\\\\17122021\\\\PAYCLIP_Settlement_17122021_V1.csv',\n",
       " 'G:\\\\My Drive\\\\2.-CONCILIACIONES Y POLIZA\\\\SFTP BANORTE\\\\2021 SFTP Banorte\\\\12. DICIEMBRE\\\\22122021\\\\PAYCLIP_Settlement_22122021_V1.csv',\n",
       " 'G:\\\\My Drive\\\\2.-CONCILIACIONES Y POLIZA\\\\SFTP BANORTE\\\\2021 SFTP Banorte\\\\12. DICIEMBRE\\\\23122021\\\\PAYCLIP_Settlement_23122021_V1.csv',\n",
       " 'G:\\\\My Drive\\\\2.-CONCILIACIONES Y POLIZA\\\\SFTP BANORTE\\\\2021 SFTP Banorte\\\\12. DICIEMBRE\\\\25122021\\\\PAYCLIP_Settlement_25122021_V1.csv',\n",
       " 'G:\\\\My Drive\\\\2.-CONCILIACIONES Y POLIZA\\\\SFTP BANORTE\\\\2021 SFTP Banorte\\\\12. DICIEMBRE\\\\24122021\\\\PAYCLIP_Settlement_24122021_V1.csv',\n",
       " 'G:\\\\My Drive\\\\2.-CONCILIACIONES Y POLIZA\\\\SFTP BANORTE\\\\2021 SFTP Banorte\\\\12. DICIEMBRE\\\\28122021\\\\PAYCLIP_Settlement_28122021_V1.csv',\n",
       " 'G:\\\\My Drive\\\\2.-CONCILIACIONES Y POLIZA\\\\SFTP BANORTE\\\\2021 SFTP Banorte\\\\12. DICIEMBRE\\\\29122021\\\\PAYCLIP_Settlement_29122021_V1.csv',\n",
       " 'G:\\\\My Drive\\\\2.-CONCILIACIONES Y POLIZA\\\\SFTP BANORTE\\\\2021 SFTP Banorte\\\\12. DICIEMBRE\\\\30122021\\\\PAYCLIP_Settlement_30122021_V1.csv',\n",
       " 'G:\\\\My Drive\\\\2.-CONCILIACIONES Y POLIZA\\\\SFTP BANORTE\\\\2021 SFTP Banorte\\\\12. DICIEMBRE\\\\31122021\\\\PAYCLIP_Settlement_31122021_V1.csv']"
      ]
     },
     "execution_count": 4,
     "metadata": {},
     "output_type": "execute_result"
    }
   ],
   "source": [
    "sftp_dec_1_21 = glob.glob(r'G:\\My Drive\\2.-CONCILIACIONES Y POLIZA\\SFTP BANORTE\\2021 SFTP Banorte\\12. DICIEMBRE\\**\\PAYCLIP_Settlement*.csv', recursive=False)\n",
    "sftp_dec_1_21"
   ]
  },
  {
   "cell_type": "code",
   "execution_count": 5,
   "metadata": {},
   "outputs": [
    {
     "data": {
      "text/html": [
       "<div>\n",
       "<style scoped>\n",
       "    .dataframe tbody tr th:only-of-type {\n",
       "        vertical-align: middle;\n",
       "    }\n",
       "\n",
       "    .dataframe tbody tr th {\n",
       "        vertical-align: top;\n",
       "    }\n",
       "\n",
       "    .dataframe thead th {\n",
       "        text-align: right;\n",
       "    }\n",
       "</style>\n",
       "<table border=\"1\" class=\"dataframe\">\n",
       "  <thead>\n",
       "    <tr style=\"text-align: right;\">\n",
       "      <th></th>\n",
       "      <th>affiliation_sftp</th>\n",
       "      <th>card</th>\n",
       "      <th>commisions</th>\n",
       "      <th>transaction_date</th>\n",
       "      <th>gross_amount</th>\n",
       "      <th>transaction_type</th>\n",
       "      <th>tax</th>\n",
       "      <th>installments_tax</th>\n",
       "      <th>installments_fees</th>\n",
       "      <th>codigo_autorizacion</th>\n",
       "      <th>order_id</th>\n",
       "      <th>order_id_xpay</th>\n",
       "      <th>acquirer_commision</th>\n",
       "      <th>acquirer_tax</th>\n",
       "      <th>file_name</th>\n",
       "      <th>date_file</th>\n",
       "      <th>month</th>\n",
       "    </tr>\n",
       "  </thead>\n",
       "  <tbody>\n",
       "    <tr>\n",
       "      <th>0</th>\n",
       "      <td>MXN</td>\n",
       "      <td>-242036863</td>\n",
       "      <td>244241</td>\n",
       "      <td>3011211</td>\n",
       "      <td>20211130</td>\n",
       "      <td>BANORTE</td>\n",
       "      <td>20211130</td>\n",
       "      <td>3,011,211.00</td>\n",
       "      <td>NaN</td>\n",
       "      <td>NaN</td>\n",
       "      <td>NaN</td>\n",
       "      <td>NaN</td>\n",
       "      <td>NaN</td>\n",
       "      <td>NaN</td>\n",
       "      <td>PAYCLIP_Settlement_01122021_V1.csv</td>\n",
       "      <td>2021-12-01</td>\n",
       "      <td>December</td>\n",
       "    </tr>\n",
       "    <tr>\n",
       "      <th>162821</th>\n",
       "      <td>07927517</td>\n",
       "      <td>4427423593</td>\n",
       "      <td>-486</td>\n",
       "      <td>20211129</td>\n",
       "      <td>24200</td>\n",
       "      <td>SETTLED</td>\n",
       "      <td>-78</td>\n",
       "      <td>0.00</td>\n",
       "      <td>0.00</td>\n",
       "      <td>015301</td>\n",
       "      <td>932698054263</td>\n",
       "      <td>NaN</td>\n",
       "      <td>-486.00</td>\n",
       "      <td>-78.00</td>\n",
       "      <td>PAYCLIP_Settlement_01122021_V1.csv</td>\n",
       "      <td>2021-12-01</td>\n",
       "      <td>December</td>\n",
       "    </tr>\n",
       "    <tr>\n",
       "      <th>162822</th>\n",
       "      <td>07927517</td>\n",
       "      <td>4152316106</td>\n",
       "      <td>-702</td>\n",
       "      <td>20211129</td>\n",
       "      <td>54000</td>\n",
       "      <td>SETTLED</td>\n",
       "      <td>-112</td>\n",
       "      <td>0.00</td>\n",
       "      <td>0.00</td>\n",
       "      <td>809321</td>\n",
       "      <td>612473379508</td>\n",
       "      <td>NaN</td>\n",
       "      <td>-702.00</td>\n",
       "      <td>-112.00</td>\n",
       "      <td>PAYCLIP_Settlement_01122021_V1.csv</td>\n",
       "      <td>2021-12-01</td>\n",
       "      <td>December</td>\n",
       "    </tr>\n",
       "    <tr>\n",
       "      <th>162823</th>\n",
       "      <td>07927517</td>\n",
       "      <td>4741744924</td>\n",
       "      <td>-1</td>\n",
       "      <td>20211129</td>\n",
       "      <td>100</td>\n",
       "      <td>SETTLED</td>\n",
       "      <td>0</td>\n",
       "      <td>0.00</td>\n",
       "      <td>0.00</td>\n",
       "      <td>041948</td>\n",
       "      <td>306159004244</td>\n",
       "      <td>NaN</td>\n",
       "      <td>-1.00</td>\n",
       "      <td>0.00</td>\n",
       "      <td>PAYCLIP_Settlement_01122021_V1.csv</td>\n",
       "      <td>2021-12-01</td>\n",
       "      <td>December</td>\n",
       "    </tr>\n",
       "    <tr>\n",
       "      <th>162824</th>\n",
       "      <td>07927517</td>\n",
       "      <td>5579088285</td>\n",
       "      <td>-933</td>\n",
       "      <td>20211129</td>\n",
       "      <td>71800</td>\n",
       "      <td>SETTLED</td>\n",
       "      <td>-149</td>\n",
       "      <td>0.00</td>\n",
       "      <td>0.00</td>\n",
       "      <td>042255</td>\n",
       "      <td>330501058747</td>\n",
       "      <td>NaN</td>\n",
       "      <td>-933.00</td>\n",
       "      <td>-149.00</td>\n",
       "      <td>PAYCLIP_Settlement_01122021_V1.csv</td>\n",
       "      <td>2021-12-01</td>\n",
       "      <td>December</td>\n",
       "    </tr>\n",
       "  </tbody>\n",
       "</table>\n",
       "</div>"
      ],
      "text/plain": [
       "       affiliation_sftp        card  commisions  transaction_date  \\\n",
       "0                   MXN  -242036863      244241           3011211   \n",
       "162821         07927517  4427423593        -486          20211129   \n",
       "162822         07927517  4152316106        -702          20211129   \n",
       "162823         07927517  4741744924          -1          20211129   \n",
       "162824         07927517  5579088285        -933          20211129   \n",
       "\n",
       "        gross_amount transaction_type       tax  installments_tax  \\\n",
       "0           20211130          BANORTE  20211130      3,011,211.00   \n",
       "162821         24200          SETTLED       -78              0.00   \n",
       "162822         54000          SETTLED      -112              0.00   \n",
       "162823           100          SETTLED         0              0.00   \n",
       "162824         71800          SETTLED      -149              0.00   \n",
       "\n",
       "        installments_fees codigo_autorizacion      order_id order_id_xpay  \\\n",
       "0                     NaN                 NaN           NaN           NaN   \n",
       "162821               0.00              015301  932698054263           NaN   \n",
       "162822               0.00              809321  612473379508           NaN   \n",
       "162823               0.00              041948  306159004244           NaN   \n",
       "162824               0.00              042255  330501058747           NaN   \n",
       "\n",
       "        acquirer_commision  acquirer_tax                           file_name  \\\n",
       "0                      NaN           NaN  PAYCLIP_Settlement_01122021_V1.csv   \n",
       "162821             -486.00        -78.00  PAYCLIP_Settlement_01122021_V1.csv   \n",
       "162822             -702.00       -112.00  PAYCLIP_Settlement_01122021_V1.csv   \n",
       "162823               -1.00          0.00  PAYCLIP_Settlement_01122021_V1.csv   \n",
       "162824             -933.00       -149.00  PAYCLIP_Settlement_01122021_V1.csv   \n",
       "\n",
       "        date_file     month  \n",
       "0      2021-12-01  December  \n",
       "162821 2021-12-01  December  \n",
       "162822 2021-12-01  December  \n",
       "162823 2021-12-01  December  \n",
       "162824 2021-12-01  December  "
      ]
     },
     "execution_count": 5,
     "metadata": {},
     "output_type": "execute_result"
    }
   ],
   "source": [
    "sftp_dec_21 = pd.concat([pd.read_csv(f,names=name_file,dtype=dtypes_file,usecols=use_cols)\n",
    "                         .assign(file_name=os.path.basename(f)) for f in sftp_dec_1_21])\n",
    "sftp_dec_21.rename(columns ={'interbank_reference':'order_id','auth_code':'codigo_autorizacion',\n",
    "                             'payworks_reference':'order_id_xpay'}, inplace=True)\n",
    "sftp_dec_21['date_file'] = sftp_dec_21[\"file_name\"].str[-15:-7]\n",
    "sftp_dec_21['date_file']= pd.to_datetime(sftp_dec_21['date_file'], format='%d%m%Y').dt.date\n",
    "sftp_dec_21['date_file']= pd.to_datetime(sftp_dec_21['date_file'])\n",
    "sftp_dec_21.sort_values(by=['date_file'],ascending=True,inplace=True)\n",
    "sftp_dec_21['month'] = sftp_dec_21['date_file'].dt.strftime('%B')\n",
    "sftp_dec_21.head()"
   ]
  },
  {
   "cell_type": "code",
   "execution_count": 6,
   "metadata": {},
   "outputs": [
    {
     "data": {
      "text/plain": [
       "(8912859, 17)"
      ]
     },
     "execution_count": 6,
     "metadata": {},
     "output_type": "execute_result"
    }
   ],
   "source": [
    "sftp_dec_21.shape"
   ]
  },
  {
   "cell_type": "markdown",
   "metadata": {},
   "source": [
    "### NOVIEMBRE 2021"
   ]
  },
  {
   "cell_type": "code",
   "execution_count": 7,
   "metadata": {
    "scrolled": true
   },
   "outputs": [
    {
     "data": {
      "text/plain": [
       "['G:\\\\My Drive\\\\2.-CONCILIACIONES Y POLIZA\\\\SFTP BANORTE\\\\2021 SFTP Banorte\\\\11. NOVIEMBRE\\\\02112021\\\\PAYCLIP_Settlement_02112021_V1.csv',\n",
       " 'G:\\\\My Drive\\\\2.-CONCILIACIONES Y POLIZA\\\\SFTP BANORTE\\\\2021 SFTP Banorte\\\\11. NOVIEMBRE\\\\04112021\\\\PAYCLIP_Settlement_04112021_V1.csv',\n",
       " 'G:\\\\My Drive\\\\2.-CONCILIACIONES Y POLIZA\\\\SFTP BANORTE\\\\2021 SFTP Banorte\\\\11. NOVIEMBRE\\\\05112021\\\\PAYCLIP_Settlement_05112021_V1.csv',\n",
       " 'G:\\\\My Drive\\\\2.-CONCILIACIONES Y POLIZA\\\\SFTP BANORTE\\\\2021 SFTP Banorte\\\\11. NOVIEMBRE\\\\06112021\\\\PAYCLIP_Settlement_06112021_V1.csv',\n",
       " 'G:\\\\My Drive\\\\2.-CONCILIACIONES Y POLIZA\\\\SFTP BANORTE\\\\2021 SFTP Banorte\\\\11. NOVIEMBRE\\\\09112021\\\\PAYCLIP_Settlement_09112021_V1.csv',\n",
       " 'G:\\\\My Drive\\\\2.-CONCILIACIONES Y POLIZA\\\\SFTP BANORTE\\\\2021 SFTP Banorte\\\\11. NOVIEMBRE\\\\10112021\\\\PAYCLIP_Settlement_10112021_V1.csv',\n",
       " 'G:\\\\My Drive\\\\2.-CONCILIACIONES Y POLIZA\\\\SFTP BANORTE\\\\2021 SFTP Banorte\\\\11. NOVIEMBRE\\\\11112021\\\\PAYCLIP_Settlement_11112021_V1.csv',\n",
       " 'G:\\\\My Drive\\\\2.-CONCILIACIONES Y POLIZA\\\\SFTP BANORTE\\\\2021 SFTP Banorte\\\\11. NOVIEMBRE\\\\12112021\\\\PAYCLIP_Settlement_12112021_V1.csv',\n",
       " 'G:\\\\My Drive\\\\2.-CONCILIACIONES Y POLIZA\\\\SFTP BANORTE\\\\2021 SFTP Banorte\\\\11. NOVIEMBRE\\\\13112021\\\\PAYCLIP_Settlement_13112021_V1.csv',\n",
       " 'G:\\\\My Drive\\\\2.-CONCILIACIONES Y POLIZA\\\\SFTP BANORTE\\\\2021 SFTP Banorte\\\\11. NOVIEMBRE\\\\17112021\\\\PAYCLIP_Settlement_17112021_V1.csv',\n",
       " 'G:\\\\My Drive\\\\2.-CONCILIACIONES Y POLIZA\\\\SFTP BANORTE\\\\2021 SFTP Banorte\\\\11. NOVIEMBRE\\\\18112021\\\\PAYCLIP_Settlement_18112021_V1.csv',\n",
       " 'G:\\\\My Drive\\\\2.-CONCILIACIONES Y POLIZA\\\\SFTP BANORTE\\\\2021 SFTP Banorte\\\\11. NOVIEMBRE\\\\19112021\\\\PAYCLIP_Settlement_19112021_V1.csv',\n",
       " 'G:\\\\My Drive\\\\2.-CONCILIACIONES Y POLIZA\\\\SFTP BANORTE\\\\2021 SFTP Banorte\\\\11. NOVIEMBRE\\\\20112021\\\\PAYCLIP_Settlement_20112021_V1.csv',\n",
       " 'G:\\\\My Drive\\\\2.-CONCILIACIONES Y POLIZA\\\\SFTP BANORTE\\\\2021 SFTP Banorte\\\\11. NOVIEMBRE\\\\23112021\\\\PAYCLIP_Settlement_23112021_V1.csv',\n",
       " 'G:\\\\My Drive\\\\2.-CONCILIACIONES Y POLIZA\\\\SFTP BANORTE\\\\2021 SFTP Banorte\\\\11. NOVIEMBRE\\\\24112021\\\\PAYCLIP_Settlement_24112021_V1.csv',\n",
       " 'G:\\\\My Drive\\\\2.-CONCILIACIONES Y POLIZA\\\\SFTP BANORTE\\\\2021 SFTP Banorte\\\\11. NOVIEMBRE\\\\25112021\\\\PAYCLIP_Settlement_25112021_V1.csv',\n",
       " 'G:\\\\My Drive\\\\2.-CONCILIACIONES Y POLIZA\\\\SFTP BANORTE\\\\2021 SFTP Banorte\\\\11. NOVIEMBRE\\\\26112021\\\\PAYCLIP_Settlement_26112021_V1.csv',\n",
       " 'G:\\\\My Drive\\\\2.-CONCILIACIONES Y POLIZA\\\\SFTP BANORTE\\\\2021 SFTP Banorte\\\\11. NOVIEMBRE\\\\27112021\\\\PAYCLIP_Settlement_27112021_V1.csv',\n",
       " 'G:\\\\My Drive\\\\2.-CONCILIACIONES Y POLIZA\\\\SFTP BANORTE\\\\2021 SFTP Banorte\\\\11. NOVIEMBRE\\\\30112021\\\\PAYCLIP_Settlement_30112021_V1.csv']"
      ]
     },
     "execution_count": 7,
     "metadata": {},
     "output_type": "execute_result"
    }
   ],
   "source": [
    "sftp_nov_1_21 = glob.glob(r'G:\\My Drive\\2.-CONCILIACIONES Y POLIZA\\SFTP BANORTE\\2021 SFTP Banorte\\11. NOVIEMBRE\\**\\PAYCLIP_Settlement*.csv', recursive=False)\n",
    "sftp_nov_1_21"
   ]
  },
  {
   "cell_type": "code",
   "execution_count": 8,
   "metadata": {},
   "outputs": [
    {
     "data": {
      "text/html": [
       "<div>\n",
       "<style scoped>\n",
       "    .dataframe tbody tr th:only-of-type {\n",
       "        vertical-align: middle;\n",
       "    }\n",
       "\n",
       "    .dataframe tbody tr th {\n",
       "        vertical-align: top;\n",
       "    }\n",
       "\n",
       "    .dataframe thead th {\n",
       "        text-align: right;\n",
       "    }\n",
       "</style>\n",
       "<table border=\"1\" class=\"dataframe\">\n",
       "  <thead>\n",
       "    <tr style=\"text-align: right;\">\n",
       "      <th></th>\n",
       "      <th>affiliation_sftp</th>\n",
       "      <th>card</th>\n",
       "      <th>commisions</th>\n",
       "      <th>transaction_date</th>\n",
       "      <th>gross_amount</th>\n",
       "      <th>transaction_type</th>\n",
       "      <th>tax</th>\n",
       "      <th>installments_tax</th>\n",
       "      <th>installments_fees</th>\n",
       "      <th>codigo_autorizacion</th>\n",
       "      <th>order_id</th>\n",
       "      <th>order_id_xpay</th>\n",
       "      <th>acquirer_commision</th>\n",
       "      <th>acquirer_tax</th>\n",
       "      <th>file_name</th>\n",
       "      <th>date_file</th>\n",
       "      <th>month</th>\n",
       "    </tr>\n",
       "  </thead>\n",
       "  <tbody>\n",
       "    <tr>\n",
       "      <th>0</th>\n",
       "      <td>MXN</td>\n",
       "      <td>-807293107</td>\n",
       "      <td>974361</td>\n",
       "      <td>111211</td>\n",
       "      <td>20211101</td>\n",
       "      <td>BANORTE</td>\n",
       "      <td>20211101</td>\n",
       "      <td>111,211.00</td>\n",
       "      <td>NaN</td>\n",
       "      <td>NaN</td>\n",
       "      <td>NaN</td>\n",
       "      <td>NaN</td>\n",
       "      <td>NaN</td>\n",
       "      <td>NaN</td>\n",
       "      <td>PAYCLIP_Settlement_02112021_V1.csv</td>\n",
       "      <td>2021-11-02</td>\n",
       "      <td>November</td>\n",
       "    </tr>\n",
       "    <tr>\n",
       "      <th>115296</th>\n",
       "      <td>07927489</td>\n",
       "      <td>4147098223</td>\n",
       "      <td>-965</td>\n",
       "      <td>20211030</td>\n",
       "      <td>48000</td>\n",
       "      <td>SETTLED</td>\n",
       "      <td>-154</td>\n",
       "      <td>0.00</td>\n",
       "      <td>0.00</td>\n",
       "      <td>08589C</td>\n",
       "      <td>651119372481</td>\n",
       "      <td>NaN</td>\n",
       "      <td>-965.00</td>\n",
       "      <td>-154.00</td>\n",
       "      <td>PAYCLIP_Settlement_02112021_V1.csv</td>\n",
       "      <td>2021-11-02</td>\n",
       "      <td>November</td>\n",
       "    </tr>\n",
       "    <tr>\n",
       "      <th>115297</th>\n",
       "      <td>07927489</td>\n",
       "      <td>5579076076</td>\n",
       "      <td>-1859</td>\n",
       "      <td>20211030</td>\n",
       "      <td>143000</td>\n",
       "      <td>SETTLED</td>\n",
       "      <td>-297</td>\n",
       "      <td>0.00</td>\n",
       "      <td>0.00</td>\n",
       "      <td>095450</td>\n",
       "      <td>430562300562</td>\n",
       "      <td>NaN</td>\n",
       "      <td>-1,859.00</td>\n",
       "      <td>-297.00</td>\n",
       "      <td>PAYCLIP_Settlement_02112021_V1.csv</td>\n",
       "      <td>2021-11-02</td>\n",
       "      <td>November</td>\n",
       "    </tr>\n",
       "    <tr>\n",
       "      <th>115298</th>\n",
       "      <td>07927489</td>\n",
       "      <td>4152314288</td>\n",
       "      <td>-845</td>\n",
       "      <td>20211030</td>\n",
       "      <td>65000</td>\n",
       "      <td>SETTLED</td>\n",
       "      <td>-135</td>\n",
       "      <td>0.00</td>\n",
       "      <td>0.00</td>\n",
       "      <td>176860</td>\n",
       "      <td>083850442059</td>\n",
       "      <td>NaN</td>\n",
       "      <td>-845.00</td>\n",
       "      <td>-135.00</td>\n",
       "      <td>PAYCLIP_Settlement_02112021_V1.csv</td>\n",
       "      <td>2021-11-02</td>\n",
       "      <td>November</td>\n",
       "    </tr>\n",
       "    <tr>\n",
       "      <th>115299</th>\n",
       "      <td>07927489</td>\n",
       "      <td>4152316987</td>\n",
       "      <td>-247</td>\n",
       "      <td>20211030</td>\n",
       "      <td>19000</td>\n",
       "      <td>SETTLED</td>\n",
       "      <td>-40</td>\n",
       "      <td>0.00</td>\n",
       "      <td>0.00</td>\n",
       "      <td>177087</td>\n",
       "      <td>452904791822</td>\n",
       "      <td>NaN</td>\n",
       "      <td>-247.00</td>\n",
       "      <td>-40.00</td>\n",
       "      <td>PAYCLIP_Settlement_02112021_V1.csv</td>\n",
       "      <td>2021-11-02</td>\n",
       "      <td>November</td>\n",
       "    </tr>\n",
       "  </tbody>\n",
       "</table>\n",
       "</div>"
      ],
      "text/plain": [
       "       affiliation_sftp        card  commisions  transaction_date  \\\n",
       "0                   MXN  -807293107      974361            111211   \n",
       "115296         07927489  4147098223        -965          20211030   \n",
       "115297         07927489  5579076076       -1859          20211030   \n",
       "115298         07927489  4152314288        -845          20211030   \n",
       "115299         07927489  4152316987        -247          20211030   \n",
       "\n",
       "        gross_amount transaction_type       tax  installments_tax  \\\n",
       "0           20211101          BANORTE  20211101        111,211.00   \n",
       "115296         48000          SETTLED      -154              0.00   \n",
       "115297        143000          SETTLED      -297              0.00   \n",
       "115298         65000          SETTLED      -135              0.00   \n",
       "115299         19000          SETTLED       -40              0.00   \n",
       "\n",
       "        installments_fees codigo_autorizacion      order_id order_id_xpay  \\\n",
       "0                     NaN                 NaN           NaN           NaN   \n",
       "115296               0.00              08589C  651119372481           NaN   \n",
       "115297               0.00              095450  430562300562           NaN   \n",
       "115298               0.00              176860  083850442059           NaN   \n",
       "115299               0.00              177087  452904791822           NaN   \n",
       "\n",
       "        acquirer_commision  acquirer_tax                           file_name  \\\n",
       "0                      NaN           NaN  PAYCLIP_Settlement_02112021_V1.csv   \n",
       "115296             -965.00       -154.00  PAYCLIP_Settlement_02112021_V1.csv   \n",
       "115297           -1,859.00       -297.00  PAYCLIP_Settlement_02112021_V1.csv   \n",
       "115298             -845.00       -135.00  PAYCLIP_Settlement_02112021_V1.csv   \n",
       "115299             -247.00        -40.00  PAYCLIP_Settlement_02112021_V1.csv   \n",
       "\n",
       "        date_file     month  \n",
       "0      2021-11-02  November  \n",
       "115296 2021-11-02  November  \n",
       "115297 2021-11-02  November  \n",
       "115298 2021-11-02  November  \n",
       "115299 2021-11-02  November  "
      ]
     },
     "execution_count": 8,
     "metadata": {},
     "output_type": "execute_result"
    }
   ],
   "source": [
    "sftp_nov_21 = pd.concat([pd.read_csv(f,names=name_file,dtype=dtypes_file,usecols=use_cols)\n",
    "                         .assign(file_name=os.path.basename(f)) for f in sftp_nov_1_21])\n",
    "sftp_nov_21.rename(columns ={'interbank_reference':'order_id','auth_code':'codigo_autorizacion',\n",
    "                             'payworks_reference':'order_id_xpay'}, inplace=True)\n",
    "sftp_nov_21['date_file'] = sftp_nov_21[\"file_name\"].str[-15:-7]\n",
    "sftp_nov_21['date_file']= pd.to_datetime(sftp_nov_21['date_file'], format='%d%m%Y').dt.date\n",
    "sftp_nov_21['date_file']= pd.to_datetime(sftp_nov_21['date_file'])\n",
    "sftp_nov_21.sort_values(by=['date_file'],ascending=True,inplace=True)\n",
    "sftp_nov_21['month'] = sftp_nov_21['date_file'].dt.strftime('%B')\n",
    "sftp_nov_21.head()"
   ]
  },
  {
   "cell_type": "code",
   "execution_count": 9,
   "metadata": {},
   "outputs": [
    {
     "data": {
      "text/plain": [
       "(7765641, 17)"
      ]
     },
     "execution_count": 9,
     "metadata": {},
     "output_type": "execute_result"
    }
   ],
   "source": [
    "sftp_nov_21.shape"
   ]
  },
  {
   "cell_type": "markdown",
   "metadata": {},
   "source": [
    "### OCTUBRE 2021"
   ]
  },
  {
   "cell_type": "code",
   "execution_count": null,
   "metadata": {},
   "outputs": [],
   "source": [
    "sftp_oct_1_21 = glob.glob(r'G:\\My Drive\\2.-CONCILIACIONES Y POLIZA\\SFTP BANORTE\\2021 SFTP Banorte\\10. OCTUBRE\\**\\PAYCLIP_Settlement*.csv', recursive=False)\n",
    "sftp_oct_1_21"
   ]
  },
  {
   "cell_type": "code",
   "execution_count": null,
   "metadata": {},
   "outputs": [],
   "source": [
    "sftp_oct_21 = pd.concat([pd.read_csv(f,names=name_file,dtype=dtypes_file,usecols=use_cols)\n",
    "                         .assign(file_name=os.path.basename(f)) for f in sftp_oct_1_21])\n",
    "sftp_oct_21.rename(columns ={'interbank_reference':'order_id','auth_code':'codigo_autorizacion',\n",
    "                             'payworks_reference':'order_id_xpay'}, inplace=True)\n",
    "sftp_oct_21['date_file'] = sftp_oct_21[\"file_name\"].str[-15:-7]\n",
    "sftp_oct_21['date_file']= pd.to_datetime(sftp_oct_21['date_file'], format='%d%m%Y').dt.date\n",
    "sftp_oct_21['date_file']= pd.to_datetime(sftp_oct_21['date_file'])\n",
    "sftp_oct_21.sort_values(by=['date_file'],ascending=True,inplace=True)\n",
    "sftp_oct_21['month'] = sftp_oct_21['date_file'].dt.strftime('%B')\n",
    "sftp_oct_21.head()"
   ]
  },
  {
   "cell_type": "code",
   "execution_count": null,
   "metadata": {},
   "outputs": [],
   "source": [
    "sftp_oct_21.shape"
   ]
  },
  {
   "cell_type": "markdown",
   "metadata": {},
   "source": [
    "### SEPTIEMBRE 2021"
   ]
  },
  {
   "cell_type": "code",
   "execution_count": null,
   "metadata": {},
   "outputs": [],
   "source": [
    "sftp_sep_1_21 = glob.glob(r'G:\\My Drive\\2.-CONCILIACIONES Y POLIZA\\SFTP BANORTE\\2021 SFTP Banorte\\09. SEPTIEMBRE\\**\\PAYCLIP_Settlement*.csv', recursive=False)\n",
    "sftp_sep_1_21"
   ]
  },
  {
   "cell_type": "code",
   "execution_count": null,
   "metadata": {},
   "outputs": [],
   "source": [
    "sftp_sep_21 = pd.concat([pd.read_csv(f,names=name_file,dtype=dtypes_file,usecols=use_cols)\n",
    "                         .assign(file_name=os.path.basename(f)) for f in sftp_sep_1_21])\n",
    "sftp_sep_21.rename(columns ={'interbank_reference':'order_id','auth_code':'codigo_autorizacion',\n",
    "                             'payworks_reference':'order_id_xpay'}, inplace=True)\n",
    "sftp_sep_21['date_file'] = sftp_sep_21[\"file_name\"].str[-15:-7]\n",
    "sftp_sep_21['date_file']= pd.to_datetime(sftp_sep_21['date_file'], format='%d%m%Y').dt.date\n",
    "sftp_sep_21['date_file']= pd.to_datetime(sftp_sep_21['date_file'])\n",
    "sftp_sep_21.sort_values(by=['date_file'],ascending=True,inplace=True)\n",
    "sftp_sep_21['month'] = sftp_sep_21['date_file'].dt.strftime('%B')\n",
    "sftp_sep_21.head()"
   ]
  },
  {
   "cell_type": "code",
   "execution_count": null,
   "metadata": {},
   "outputs": [],
   "source": [
    "sftp_sep_21.shape"
   ]
  },
  {
   "cell_type": "markdown",
   "metadata": {},
   "source": [
    "### AGOSTO 2021"
   ]
  },
  {
   "cell_type": "code",
   "execution_count": null,
   "metadata": {},
   "outputs": [],
   "source": [
    "sftp_aug_1_21 = glob.glob(r'G:\\My Drive\\2.-CONCILIACIONES Y POLIZA\\SFTP BANORTE\\2021 SFTP Banorte\\08. AGOSTO\\**\\PAYCLIP_Settlement*.csv', recursive=False)\n",
    "sftp_aug_1_21"
   ]
  },
  {
   "cell_type": "code",
   "execution_count": null,
   "metadata": {},
   "outputs": [],
   "source": [
    "sftp_aug_21 = pd.concat([pd.read_csv(f,names=name_file,dtype=dtypes_file,usecols=use_cols)\n",
    "                         .assign(file_name=os.path.basename(f)) for f in sftp_aug_1_21])\n",
    "sftp_aug_21.rename(columns ={'interbank_reference':'order_id','auth_code':'codigo_autorizacion',\n",
    "                             'payworks_reference':'order_id_xpay'}, inplace=True)\n",
    "sftp_aug_21['date_file'] = sftp_aug_21[\"file_name\"].str[-15:-7]\n",
    "sftp_aug_21['date_file']= pd.to_datetime(sftp_aug_21['date_file'], format='%d%m%Y').dt.date\n",
    "sftp_aug_21['date_file']= pd.to_datetime(sftp_aug_21['date_file'])\n",
    "sftp_aug_21.sort_values(by=['date_file'],ascending=True,inplace=True)\n",
    "sftp_aug_21['month'] = sftp_aug_21['date_file'].dt.strftime('%B')\n",
    "sftp_aug_21.head()"
   ]
  },
  {
   "cell_type": "code",
   "execution_count": null,
   "metadata": {},
   "outputs": [],
   "source": [
    "sftp_aug_21.shape"
   ]
  },
  {
   "cell_type": "markdown",
   "metadata": {},
   "source": [
    "### JULIO 2021"
   ]
  },
  {
   "cell_type": "code",
   "execution_count": null,
   "metadata": {},
   "outputs": [],
   "source": [
    "sftp_jul_1_21 = glob.glob(r'G:\\My Drive\\2.-CONCILIACIONES Y POLIZA\\SFTP BANORTE\\2021 SFTP Banorte\\07. JULIO\\**\\PAYCLIP_Settlement*.csv', recursive=False)\n",
    "sftp_jul_1_21"
   ]
  },
  {
   "cell_type": "code",
   "execution_count": null,
   "metadata": {},
   "outputs": [],
   "source": [
    "sftp_jul_21 = pd.concat([pd.read_csv(f,names=name_file,dtype=dtypes_file,usecols=use_cols)\n",
    "                         .assign(file_name=os.path.basename(f)) for f in sftp_jul_1_21])\n",
    "sftp_jul_21.rename(columns ={'interbank_reference':'order_id','auth_code':'codigo_autorizacion',\n",
    "                             'payworks_reference':'order_id_xpay'}, inplace=True)\n",
    "sftp_jul_21['date_file'] = sftp_jul_21[\"file_name\"].str[-15:-7]\n",
    "sftp_jul_21['date_file']= pd.to_datetime(sftp_jul_21['date_file'], format='%d%m%Y').dt.date\n",
    "sftp_jul_21['date_file']= pd.to_datetime(sftp_jul_21['date_file'])\n",
    "sftp_jul_21.sort_values(by=['date_file'],ascending=True,inplace=True)\n",
    "sftp_jul_21['month'] = sftp_jul_21['date_file'].dt.strftime('%B')\n",
    "sftp_jul_21.head()"
   ]
  },
  {
   "cell_type": "code",
   "execution_count": null,
   "metadata": {},
   "outputs": [],
   "source": [
    "sftp_jul_21.shape"
   ]
  },
  {
   "cell_type": "markdown",
   "metadata": {},
   "source": [
    "### JUNIO 2021"
   ]
  },
  {
   "cell_type": "code",
   "execution_count": null,
   "metadata": {},
   "outputs": [],
   "source": [
    "sftp_jun_1_21 = glob.glob(r'G:\\My Drive\\2.-CONCILIACIONES Y POLIZA\\SFTP BANORTE\\2021 SFTP Banorte\\06. JUNIO\\**\\PAYCLIP_Settlement*.csv', recursive=False)\n",
    "sftp_jun_1_21"
   ]
  },
  {
   "cell_type": "code",
   "execution_count": null,
   "metadata": {},
   "outputs": [],
   "source": [
    "sftp_jun_21 = pd.concat([pd.read_csv(f,names=name_file,dtype=dtypes_file,usecols=use_cols)\n",
    "                         .assign(file_name=os.path.basename(f)) for f in sftp_jun_1_21])\n",
    "sftp_jun_21.rename(columns ={'interbank_reference':'order_id','auth_code':'codigo_autorizacion',\n",
    "                             'payworks_reference':'order_id_xpay'}, inplace=True)\n",
    "sftp_jun_21['date_file'] = sftp_jun_21[\"file_name\"].str[-15:-7]\n",
    "sftp_jun_21['date_file']= pd.to_datetime(sftp_jun_21['date_file'], format='%d%m%Y').dt.date\n",
    "sftp_jun_21['date_file']= pd.to_datetime(sftp_jun_21['date_file'])\n",
    "sftp_jun_21.sort_values(by=['date_file'],ascending=True,inplace=True)\n",
    "sftp_jun_21['month'] = sftp_jun_21['date_file'].dt.strftime('%B')\n",
    "sftp_jun_21.head()"
   ]
  },
  {
   "cell_type": "code",
   "execution_count": null,
   "metadata": {},
   "outputs": [],
   "source": [
    "sftp_jun_21.shape"
   ]
  },
  {
   "cell_type": "markdown",
   "metadata": {},
   "source": [
    "### MAYO 2021"
   ]
  },
  {
   "cell_type": "code",
   "execution_count": null,
   "metadata": {},
   "outputs": [],
   "source": [
    "sftp_may_1_21 = glob.glob(r'G:\\My Drive\\2.-CONCILIACIONES Y POLIZA\\SFTP BANORTE\\2021 SFTP Banorte\\05. MAYO\\**\\PAYCLIP_Settlement*.csv', recursive=False)\n",
    "sftp_may_1_21"
   ]
  },
  {
   "cell_type": "code",
   "execution_count": null,
   "metadata": {},
   "outputs": [],
   "source": [
    "sftp_may_21 = pd.concat([pd.read_csv(f,names=name_file,dtype=dtypes_file,usecols=use_cols)\n",
    "                         .assign(file_name=os.path.basename(f)) for f in sftp_may_1_21])\n",
    "sftp_may_21.rename(columns ={'interbank_reference':'order_id','auth_code':'codigo_autorizacion',\n",
    "                             'payworks_reference':'order_id_xpay'}, inplace=True)\n",
    "sftp_may_21['date_file'] = sftp_may_21[\"file_name\"].str[-15:-7]\n",
    "sftp_may_21['date_file']= pd.to_datetime(sftp_may_21['date_file'], format='%d%m%Y').dt.date\n",
    "sftp_may_21['date_file']= pd.to_datetime(sftp_may_21['date_file'])\n",
    "sftp_may_21.sort_values(by=['date_file'],ascending=True,inplace=True)\n",
    "sftp_may_21['month'] = sftp_may_21['date_file'].dt.strftime('%B')\n",
    "sftp_may_21.head()"
   ]
  },
  {
   "cell_type": "code",
   "execution_count": null,
   "metadata": {},
   "outputs": [],
   "source": [
    "sftp_may_21.shape"
   ]
  },
  {
   "cell_type": "markdown",
   "metadata": {},
   "source": [
    "### ABRIL 2021"
   ]
  },
  {
   "cell_type": "code",
   "execution_count": null,
   "metadata": {},
   "outputs": [],
   "source": [
    "sftp_apr_1_21 = glob.glob(r'G:\\My Drive\\2.-CONCILIACIONES Y POLIZA\\SFTP BANORTE\\2021 SFTP Banorte\\04. ABRIL\\**\\PAYCLIP_Settlement*.csv', recursive=False)\n",
    "sftp_apr_1_21"
   ]
  },
  {
   "cell_type": "code",
   "execution_count": null,
   "metadata": {},
   "outputs": [],
   "source": [
    "sftp_apr_21 = pd.concat([pd.read_csv(f,names=name_file,dtype=dtypes_file,usecols=use_cols)\n",
    "                         .assign(file_name=os.path.basename(f)) for f in sftp_apr_1_21])\n",
    "sftp_apr_21.rename(columns ={'interbank_reference':'order_id','auth_code':'codigo_autorizacion',\n",
    "                             'payworks_reference':'order_id_xpay'}, inplace=True)\n",
    "sftp_apr_21['date_file'] = sftp_apr_21[\"file_name\"].str[-15:-7]\n",
    "sftp_apr_21['date_file']= pd.to_datetime(sftp_apr_21['date_file'], format='%d%m%Y').dt.date\n",
    "sftp_apr_21['date_file']= pd.to_datetime(sftp_apr_21['date_file'])\n",
    "sftp_apr_21.sort_values(by=['date_file'],ascending=True,inplace=True)\n",
    "sftp_apr_21['month'] = sftp_apr_21['date_file'].dt.strftime('%B')\n",
    "sftp_apr_21.head()"
   ]
  },
  {
   "cell_type": "code",
   "execution_count": null,
   "metadata": {},
   "outputs": [],
   "source": [
    "sftp_apr_21.shape"
   ]
  },
  {
   "cell_type": "markdown",
   "metadata": {},
   "source": [
    "### MARZO 2021"
   ]
  },
  {
   "cell_type": "code",
   "execution_count": null,
   "metadata": {},
   "outputs": [],
   "source": [
    "sftp_mar_1_21 = glob.glob(r'G:\\My Drive\\2.-CONCILIACIONES Y POLIZA\\SFTP BANORTE\\2021 SFTP Banorte\\03. MARZO\\**\\PAYCLIP_Settlement*.csv', recursive=False)\n",
    "sftp_mar_1_21"
   ]
  },
  {
   "cell_type": "code",
   "execution_count": null,
   "metadata": {},
   "outputs": [],
   "source": [
    "sftp_mar_21 = pd.concat([pd.read_csv(f,names=name_file,dtype=dtypes_file,usecols=use_cols)\n",
    "                         .assign(file_name=os.path.basename(f)) for f in sftp_mar_1_21])\n",
    "sftp_mar_21.rename(columns ={'interbank_reference':'order_id','auth_code':'codigo_autorizacion',\n",
    "                             'payworks_reference':'order_id_xpay'}, inplace=True)\n",
    "sftp_mar_21['date_file'] = sftp_mar_21[\"file_name\"].str[-15:-7]\n",
    "sftp_mar_21['date_file']= pd.to_datetime(sftp_mar_21['date_file'], format='%d%m%Y').dt.date\n",
    "sftp_mar_21['date_file']= pd.to_datetime(sftp_mar_21['date_file'])\n",
    "sftp_mar_21.sort_values(by=['date_file'],ascending=True,inplace=True)\n",
    "sftp_mar_21['month'] = sftp_mar_21['date_file'].dt.strftime('%B')\n",
    "sftp_mar_21.head()"
   ]
  },
  {
   "cell_type": "code",
   "execution_count": null,
   "metadata": {},
   "outputs": [],
   "source": [
    "sftp_mar_21.shape"
   ]
  },
  {
   "cell_type": "markdown",
   "metadata": {},
   "source": [
    "### FEBRERO 2021"
   ]
  },
  {
   "cell_type": "code",
   "execution_count": null,
   "metadata": {},
   "outputs": [],
   "source": [
    "sftp_feb_1_21 = glob.glob(r'G:\\My Drive\\2.-CONCILIACIONES Y POLIZA\\SFTP BANORTE\\2021 SFTP Banorte\\02. FEBRERO\\**\\PAYCLIP_Settlement*.csv', recursive=False)\n",
    "sftp_feb_1_21"
   ]
  },
  {
   "cell_type": "code",
   "execution_count": null,
   "metadata": {},
   "outputs": [],
   "source": [
    "sftp_feb_21 = pd.concat([pd.read_csv(f,names=name_file,dtype=dtypes_file,usecols=use_cols)\n",
    "                         .assign(file_name=os.path.basename(f)) for f in sftp_feb_1_21])\n",
    "sftp_feb_21.rename(columns ={'interbank_reference':'order_id','auth_code':'codigo_autorizacion',\n",
    "                             'payworks_reference':'order_id_xpay'}, inplace=True)\n",
    "sftp_feb_21['date_file'] = sftp_feb_21[\"file_name\"].str[-15:-7]\n",
    "sftp_feb_21['date_file']= pd.to_datetime(sftp_feb_21['date_file'], format='%d%m%Y').dt.date\n",
    "sftp_feb_21['date_file']= pd.to_datetime(sftp_feb_21['date_file'])\n",
    "sftp_feb_21.sort_values(by=['date_file'],ascending=True,inplace=True)\n",
    "sftp_feb_21['month'] = sftp_feb_21['date_file'].dt.strftime('%B')\n",
    "sftp_feb_21.head()"
   ]
  },
  {
   "cell_type": "code",
   "execution_count": null,
   "metadata": {},
   "outputs": [],
   "source": [
    "sftp_feb_21.shape"
   ]
  },
  {
   "cell_type": "markdown",
   "metadata": {},
   "source": [
    "### ENERO 2021"
   ]
  },
  {
   "cell_type": "code",
   "execution_count": null,
   "metadata": {},
   "outputs": [],
   "source": [
    "sftp_jan_1_21 = glob.glob(r'G:\\My Drive\\2.-CONCILIACIONES Y POLIZA\\SFTP BANORTE\\2021 SFTP Banorte\\01. ENERO\\**\\PAYCLIP_Settlement*.csv', recursive=False)"
   ]
  },
  {
   "cell_type": "code",
   "execution_count": null,
   "metadata": {},
   "outputs": [],
   "source": [
    "sftp_jan_21 = pd.concat([pd.read_csv(f,names=name_file,dtype=dtypes_file,usecols=use_cols)\n",
    "                         .assign(file_name=os.path.basename(f)) for f in sftp_jan_1_21])\n",
    "sftp_jan_21.rename(columns ={'interbank_reference':'order_id','auth_code':'codigo_autorizacion',\n",
    "                             'payworks_reference':'order_id_xpay'}, inplace=True)\n",
    "sftp_jan_21['date_file'] = sftp_jan_21[\"file_name\"].str[-15:-7]\n",
    "sftp_jan_21['date_file']= pd.to_datetime(sftp_jan_21['date_file'], format='%d%m%Y').dt.date\n",
    "sftp_jan_21['date_file']= pd.to_datetime(sftp_jan_21['date_file'])\n",
    "sftp_jan_21.sort_values(by=['date_file'],ascending=True,inplace=True)\n",
    "sftp_jan_21['month'] = sftp_jan_21['date_file'].dt.strftime('%B')\n",
    "sftp_jan_21.head()"
   ]
  },
  {
   "cell_type": "code",
   "execution_count": null,
   "metadata": {},
   "outputs": [],
   "source": [
    "sftp_jan_21.shape"
   ]
  },
  {
   "cell_type": "markdown",
   "metadata": {},
   "source": [
    "### DICIEMBRE"
   ]
  },
  {
   "cell_type": "code",
   "execution_count": null,
   "metadata": {},
   "outputs": [],
   "source": [
    "sftp_dec_1 = glob.glob(r'G:\\My Drive\\2.-CONCILIACIONES Y POLIZA\\SFTP BANORTE\\2020 SFTP Banorte\\12. DICIEMBRE\\**\\PAYCLIP_Settlement*.csv', recursive=False)"
   ]
  },
  {
   "cell_type": "code",
   "execution_count": null,
   "metadata": {},
   "outputs": [],
   "source": [
    "sftp_dec = pd.concat([pd.read_csv(f,names=name_file,dtype=dtypes_file,usecols=use_cols)\n",
    "                         .assign(file_name=os.path.basename(f)) for f in sftp_dec_1])\n",
    "sftp_dec.rename(columns ={'interbank_reference':'order_id','auth_code':'codigo_autorizacion',\n",
    "                             'payworks_reference':'order_id_xpay'}, inplace=True)\n",
    "sftp_dec['date_file'] = sftp_dec[\"file_name\"].str[-15:-7]\n",
    "sftp_dec['date_file']= pd.to_datetime(sftp_dec['date_file'], format='%d%m%Y').dt.date\n",
    "sftp_dec['date_file']= pd.to_datetime(sftp_dec['date_file'])\n",
    "sftp_dec.sort_values(by=['date_file'],ascending=True,inplace=True)\n",
    "sftp_dec['month'] = sftp_dec['date_file'].dt.strftime('%B')\n",
    "sftp_dec.head()"
   ]
  },
  {
   "cell_type": "code",
   "execution_count": null,
   "metadata": {},
   "outputs": [],
   "source": [
    "sftp_dec.shape"
   ]
  },
  {
   "cell_type": "markdown",
   "metadata": {},
   "source": [
    "### NOVIEMBRE"
   ]
  },
  {
   "cell_type": "code",
   "execution_count": null,
   "metadata": {},
   "outputs": [],
   "source": [
    "sftp_nov_1 = glob.glob(r'G:\\My Drive\\2.-CONCILIACIONES Y POLIZA\\SFTP BANORTE\\2020 SFTP Banorte\\11. NOVIEMBRE\\**\\PAYCLIP_Settlement*.csv', recursive=False)"
   ]
  },
  {
   "cell_type": "code",
   "execution_count": null,
   "metadata": {},
   "outputs": [],
   "source": [
    "sftp_nov = pd.concat([pd.read_csv(f,names=name_file,dtype=dtypes_file,usecols=use_cols)\n",
    "                         .assign(file_name=os.path.basename(f)) for f in sftp_nov_1])\n",
    "sftp_nov.rename(columns ={'interbank_reference':'order_id','auth_code':'codigo_autorizacion',\n",
    "                             'payworks_reference':'order_id_xpay'}, inplace=True)\n",
    "sftp_nov['date_file'] = sftp_nov[\"file_name\"].str[-15:-7]\n",
    "sftp_nov['date_file']= pd.to_datetime(sftp_nov['date_file'], format='%d%m%Y').dt.date\n",
    "sftp_nov['date_file']= pd.to_datetime(sftp_nov['date_file'])\n",
    "sftp_nov.sort_values(by=['date_file'],ascending=True,inplace=True)\n",
    "sftp_nov['month'] = sftp_nov['date_file'].dt.strftime('%B')\n",
    "sftp_nov.head()"
   ]
  },
  {
   "cell_type": "code",
   "execution_count": null,
   "metadata": {},
   "outputs": [],
   "source": [
    "sftp_nov.shape"
   ]
  },
  {
   "cell_type": "markdown",
   "metadata": {},
   "source": [
    "### OCTUBRE"
   ]
  },
  {
   "cell_type": "code",
   "execution_count": null,
   "metadata": {},
   "outputs": [],
   "source": [
    "sftp_oct_1 = glob.glob(r'G:\\My Drive\\2.-CONCILIACIONES Y POLIZA\\SFTP BANORTE\\2020 SFTP Banorte\\10. OCTUBRE\\**\\PAYCLIP_Settlement*.csv', recursive=False)"
   ]
  },
  {
   "cell_type": "code",
   "execution_count": null,
   "metadata": {},
   "outputs": [],
   "source": [
    "sftp_oct = pd.concat([pd.read_csv(f,names=name_file,dtype=dtypes_file,usecols=use_cols)\n",
    "                         .assign(file_name=os.path.basename(f)) for f in sftp_oct_1])\n",
    "sftp_oct.rename(columns ={'interbank_reference':'order_id','auth_code':'codigo_autorizacion',\n",
    "                             'payworks_reference':'order_id_xpay'}, inplace=True)\n",
    "sftp_oct['date_file'] = sftp_oct[\"file_name\"].str[-15:-7]\n",
    "sftp_oct['date_file']= pd.to_datetime(sftp_oct['date_file'], format='%d%m%Y').dt.date\n",
    "sftp_oct['date_file']= pd.to_datetime(sftp_oct['date_file'])\n",
    "sftp_oct.sort_values(by=['date_file'],ascending=True,inplace=True)\n",
    "sftp_oct['month'] = sftp_oct['date_file'].dt.strftime('%B')\n",
    "sftp_oct.head()"
   ]
  },
  {
   "cell_type": "code",
   "execution_count": null,
   "metadata": {},
   "outputs": [],
   "source": [
    "sftp_oct.shape"
   ]
  },
  {
   "cell_type": "markdown",
   "metadata": {},
   "source": [
    "### SEPTIEMBRE"
   ]
  },
  {
   "cell_type": "code",
   "execution_count": null,
   "metadata": {},
   "outputs": [],
   "source": [
    "sftp_sep_1 = glob.glob(r'C:\\Users\\Cristian.Aparicio\\Google Drive\\2.-CONCILIACIONES Y POLIZA\\SFTP BANORTE\\2020 SFTP Banorte\\09. SEPTIEMBRE\\**\\PAYCLIP_Settlement*.csv', recursive=False)"
   ]
  },
  {
   "cell_type": "code",
   "execution_count": null,
   "metadata": {},
   "outputs": [],
   "source": [
    "sftp_sep = pd.concat([pd.read_csv(f,names=name_file,dtype=dtypes_file).assign(file_name=os.path.basename(f)) for f in sftp_sep_1])\n",
    "sftp_sep.rename(columns ={'interbank_reference':'order_id','auth_code':'codigo_autorizacion',\n",
    "                             'payworks_reference':'order_id_xpay'}, inplace=True)\n",
    "sftp_sep['date_file'] = sftp_sep[\"file_name\"].str[-15:-7]\n",
    "sftp_sep['date_file']= pd.to_datetime(sftp_sep['date_file'], format='%d%m%Y').dt.date\n",
    "sftp_sep['date_file']= pd.to_datetime(sftp_sep['date_file'])\n",
    "sftp_sep.head()"
   ]
  },
  {
   "cell_type": "code",
   "execution_count": null,
   "metadata": {},
   "outputs": [],
   "source": [
    "sftp_sep.shape"
   ]
  },
  {
   "cell_type": "markdown",
   "metadata": {},
   "source": [
    "### AGOSTO"
   ]
  },
  {
   "cell_type": "code",
   "execution_count": null,
   "metadata": {},
   "outputs": [],
   "source": [
    "sftp_aug_1 = glob.glob(r'C:\\Users\\Cristian.Aparicio\\Google Drive\\2.-CONCILIACIONES Y POLIZA\\SFTP BANORTE\\2020 SFTP Banorte\\08. AGOSTO\\**\\PAYCLIP_Settlement*.csv', recursive=False)"
   ]
  },
  {
   "cell_type": "code",
   "execution_count": null,
   "metadata": {},
   "outputs": [],
   "source": [
    "sftp_aug = pd.concat([pd.read_csv(f,names=name_file,dtype=dtypes_file).assign(file_name=os.path.basename(f)) for f in sftp_aug_1])\n",
    "sftp_aug.rename(columns ={'interbank_reference':'order_id','auth_code':'codigo_autorizacion',\n",
    "                             'payworks_reference':'order_id_xpay'}, inplace=True)\n",
    "sftp_aug['date_file'] = sftp_aug[\"file_name\"].str[-15:-7]\n",
    "sftp_aug['date_file']= pd.to_datetime(sftp_aug['date_file'], format='%d%m%Y').dt.date\n",
    "sftp_aug['date_file']= pd.to_datetime(sftp_aug['date_file'])\n",
    "sftp_aug.head()"
   ]
  },
  {
   "cell_type": "code",
   "execution_count": null,
   "metadata": {},
   "outputs": [],
   "source": [
    "sftp_aug.shape"
   ]
  },
  {
   "cell_type": "markdown",
   "metadata": {},
   "source": [
    "### JULIO"
   ]
  },
  {
   "cell_type": "code",
   "execution_count": null,
   "metadata": {},
   "outputs": [],
   "source": [
    "sftp_jul_1 = glob.glob(r'C:\\Users\\Cristian.Aparicio\\Google Drive\\2.-CONCILIACIONES Y POLIZA\\SFTP BANORTE\\2020 SFTP Banorte\\07. JULIO\\**\\PAYCLIP_Settlement*.csv', recursive=False)"
   ]
  },
  {
   "cell_type": "code",
   "execution_count": null,
   "metadata": {},
   "outputs": [],
   "source": [
    "sftp_jul = pd.concat([pd.read_csv(f,names=name_file,dtype=dtypes_file).assign(file_name=os.path.basename(f)) for f in sftp_jul_1])\n",
    "sftp_jul.rename(columns ={'interbank_reference':'order_id','auth_code':'codigo_autorizacion',\n",
    "                             'payworks_reference':'order_id_xpay'}, inplace=True)\n",
    "sftp_jul['date_file'] = sftp_jul[\"file_name\"].str[-15:-7]\n",
    "sftp_jul['date_file']= pd.to_datetime(sftp_jul['date_file'], format='%d%m%Y').dt.date\n",
    "sftp_jul['date_file']= pd.to_datetime(sftp_jul['date_file'])\n",
    "sftp_jul.head()"
   ]
  },
  {
   "cell_type": "code",
   "execution_count": null,
   "metadata": {},
   "outputs": [],
   "source": [
    "sftp_jul.shape"
   ]
  },
  {
   "cell_type": "markdown",
   "metadata": {},
   "source": [
    "### JUNIO"
   ]
  },
  {
   "cell_type": "code",
   "execution_count": null,
   "metadata": {},
   "outputs": [],
   "source": [
    "sftp_jun_1 = glob.glob(r'C:\\Users\\Cristian.Aparicio\\Google Drive\\2.-CONCILIACIONES Y POLIZA\\SFTP BANORTE\\2020 SFTP Banorte\\06. JUNIO\\**\\PAYCLIP_Settlement*.csv', recursive=False)"
   ]
  },
  {
   "cell_type": "code",
   "execution_count": null,
   "metadata": {},
   "outputs": [],
   "source": [
    "sftp_jun = pd.concat([pd.read_csv(f,names=name_file,dtype=dtypes_file).assign(file_name=os.path.basename(f)) for f in sftp_jun_1])\n",
    "sftp_jun.rename(columns ={'interbank_reference':'order_id','auth_code':'codigo_autorizacion',\n",
    "                             'payworks_reference':'order_id_xpay'}, inplace=True)\n",
    "sftp_jun['date_file'] = sftp_jun[\"file_name\"].str[-15:-7]\n",
    "sftp_jun['date_file']= pd.to_datetime(sftp_jun['date_file'], format='%d%m%Y').dt.date\n",
    "sftp_jun['date_file']= pd.to_datetime(sftp_jun['date_file'])\n",
    "sftp_jun.head()"
   ]
  },
  {
   "cell_type": "code",
   "execution_count": null,
   "metadata": {},
   "outputs": [],
   "source": [
    "sftp_jun.shape"
   ]
  },
  {
   "cell_type": "markdown",
   "metadata": {},
   "source": [
    "# ALL SFTP"
   ]
  },
  {
   "cell_type": "code",
   "execution_count": 10,
   "metadata": {},
   "outputs": [
    {
     "data": {
      "text/html": [
       "<div>\n",
       "<style scoped>\n",
       "    .dataframe tbody tr th:only-of-type {\n",
       "        vertical-align: middle;\n",
       "    }\n",
       "\n",
       "    .dataframe tbody tr th {\n",
       "        vertical-align: top;\n",
       "    }\n",
       "\n",
       "    .dataframe thead th {\n",
       "        text-align: right;\n",
       "    }\n",
       "</style>\n",
       "<table border=\"1\" class=\"dataframe\">\n",
       "  <thead>\n",
       "    <tr style=\"text-align: right;\">\n",
       "      <th></th>\n",
       "      <th>affiliation_sftp</th>\n",
       "      <th>card</th>\n",
       "      <th>commisions</th>\n",
       "      <th>transaction_date</th>\n",
       "      <th>gross_amount</th>\n",
       "      <th>transaction_type</th>\n",
       "      <th>tax</th>\n",
       "      <th>installments_tax</th>\n",
       "      <th>installments_fees</th>\n",
       "      <th>codigo_autorizacion</th>\n",
       "      <th>order_id</th>\n",
       "      <th>order_id_xpay</th>\n",
       "      <th>acquirer_commision</th>\n",
       "      <th>acquirer_tax</th>\n",
       "      <th>file_name</th>\n",
       "      <th>date_file</th>\n",
       "      <th>month</th>\n",
       "    </tr>\n",
       "  </thead>\n",
       "  <tbody>\n",
       "    <tr>\n",
       "      <th>0</th>\n",
       "      <td>MXN</td>\n",
       "      <td>-807293107</td>\n",
       "      <td>974361</td>\n",
       "      <td>111211</td>\n",
       "      <td>20211101</td>\n",
       "      <td>BANORTE</td>\n",
       "      <td>20211101</td>\n",
       "      <td>111,211.00</td>\n",
       "      <td>NaN</td>\n",
       "      <td>NaN</td>\n",
       "      <td>NaN</td>\n",
       "      <td>NaN</td>\n",
       "      <td>NaN</td>\n",
       "      <td>NaN</td>\n",
       "      <td>PAYCLIP_Settlement_02112021_V1.csv</td>\n",
       "      <td>2021-11-02</td>\n",
       "      <td>November</td>\n",
       "    </tr>\n",
       "    <tr>\n",
       "      <th>115296</th>\n",
       "      <td>07927489</td>\n",
       "      <td>4147098223</td>\n",
       "      <td>-965</td>\n",
       "      <td>20211030</td>\n",
       "      <td>48000</td>\n",
       "      <td>SETTLED</td>\n",
       "      <td>-154</td>\n",
       "      <td>0.00</td>\n",
       "      <td>0.00</td>\n",
       "      <td>08589C</td>\n",
       "      <td>651119372481</td>\n",
       "      <td>NaN</td>\n",
       "      <td>-965.00</td>\n",
       "      <td>-154.00</td>\n",
       "      <td>PAYCLIP_Settlement_02112021_V1.csv</td>\n",
       "      <td>2021-11-02</td>\n",
       "      <td>November</td>\n",
       "    </tr>\n",
       "    <tr>\n",
       "      <th>115297</th>\n",
       "      <td>07927489</td>\n",
       "      <td>5579076076</td>\n",
       "      <td>-1859</td>\n",
       "      <td>20211030</td>\n",
       "      <td>143000</td>\n",
       "      <td>SETTLED</td>\n",
       "      <td>-297</td>\n",
       "      <td>0.00</td>\n",
       "      <td>0.00</td>\n",
       "      <td>095450</td>\n",
       "      <td>430562300562</td>\n",
       "      <td>NaN</td>\n",
       "      <td>-1,859.00</td>\n",
       "      <td>-297.00</td>\n",
       "      <td>PAYCLIP_Settlement_02112021_V1.csv</td>\n",
       "      <td>2021-11-02</td>\n",
       "      <td>November</td>\n",
       "    </tr>\n",
       "    <tr>\n",
       "      <th>115298</th>\n",
       "      <td>07927489</td>\n",
       "      <td>4152314288</td>\n",
       "      <td>-845</td>\n",
       "      <td>20211030</td>\n",
       "      <td>65000</td>\n",
       "      <td>SETTLED</td>\n",
       "      <td>-135</td>\n",
       "      <td>0.00</td>\n",
       "      <td>0.00</td>\n",
       "      <td>176860</td>\n",
       "      <td>083850442059</td>\n",
       "      <td>NaN</td>\n",
       "      <td>-845.00</td>\n",
       "      <td>-135.00</td>\n",
       "      <td>PAYCLIP_Settlement_02112021_V1.csv</td>\n",
       "      <td>2021-11-02</td>\n",
       "      <td>November</td>\n",
       "    </tr>\n",
       "    <tr>\n",
       "      <th>115299</th>\n",
       "      <td>07927489</td>\n",
       "      <td>4152316987</td>\n",
       "      <td>-247</td>\n",
       "      <td>20211030</td>\n",
       "      <td>19000</td>\n",
       "      <td>SETTLED</td>\n",
       "      <td>-40</td>\n",
       "      <td>0.00</td>\n",
       "      <td>0.00</td>\n",
       "      <td>177087</td>\n",
       "      <td>452904791822</td>\n",
       "      <td>NaN</td>\n",
       "      <td>-247.00</td>\n",
       "      <td>-40.00</td>\n",
       "      <td>PAYCLIP_Settlement_02112021_V1.csv</td>\n",
       "      <td>2021-11-02</td>\n",
       "      <td>November</td>\n",
       "    </tr>\n",
       "  </tbody>\n",
       "</table>\n",
       "</div>"
      ],
      "text/plain": [
       "       affiliation_sftp        card  commisions  transaction_date  \\\n",
       "0                   MXN  -807293107      974361            111211   \n",
       "115296         07927489  4147098223        -965          20211030   \n",
       "115297         07927489  5579076076       -1859          20211030   \n",
       "115298         07927489  4152314288        -845          20211030   \n",
       "115299         07927489  4152316987        -247          20211030   \n",
       "\n",
       "        gross_amount transaction_type       tax  installments_tax  \\\n",
       "0           20211101          BANORTE  20211101        111,211.00   \n",
       "115296         48000          SETTLED      -154              0.00   \n",
       "115297        143000          SETTLED      -297              0.00   \n",
       "115298         65000          SETTLED      -135              0.00   \n",
       "115299         19000          SETTLED       -40              0.00   \n",
       "\n",
       "        installments_fees codigo_autorizacion      order_id order_id_xpay  \\\n",
       "0                     NaN                 NaN           NaN           NaN   \n",
       "115296               0.00              08589C  651119372481           NaN   \n",
       "115297               0.00              095450  430562300562           NaN   \n",
       "115298               0.00              176860  083850442059           NaN   \n",
       "115299               0.00              177087  452904791822           NaN   \n",
       "\n",
       "        acquirer_commision  acquirer_tax                           file_name  \\\n",
       "0                      NaN           NaN  PAYCLIP_Settlement_02112021_V1.csv   \n",
       "115296             -965.00       -154.00  PAYCLIP_Settlement_02112021_V1.csv   \n",
       "115297           -1,859.00       -297.00  PAYCLIP_Settlement_02112021_V1.csv   \n",
       "115298             -845.00       -135.00  PAYCLIP_Settlement_02112021_V1.csv   \n",
       "115299             -247.00        -40.00  PAYCLIP_Settlement_02112021_V1.csv   \n",
       "\n",
       "        date_file     month  \n",
       "0      2021-11-02  November  \n",
       "115296 2021-11-02  November  \n",
       "115297 2021-11-02  November  \n",
       "115298 2021-11-02  November  \n",
       "115299 2021-11-02  November  "
      ]
     },
     "execution_count": 10,
     "metadata": {},
     "output_type": "execute_result"
    }
   ],
   "source": [
    "sftp = pd.concat([sftp_nov_21,sftp_dec_21])\n",
    "sftp.head()"
   ]
  },
  {
   "cell_type": "code",
   "execution_count": 11,
   "metadata": {},
   "outputs": [
    {
     "data": {
      "text/plain": [
       "(16678500, 17)"
      ]
     },
     "execution_count": 11,
     "metadata": {},
     "output_type": "execute_result"
    }
   ],
   "source": [
    "sftp.shape"
   ]
  },
  {
   "cell_type": "code",
   "execution_count": 12,
   "metadata": {},
   "outputs": [
    {
     "data": {
      "text/html": [
       "<div>\n",
       "<style scoped>\n",
       "    .dataframe tbody tr th:only-of-type {\n",
       "        vertical-align: middle;\n",
       "    }\n",
       "\n",
       "    .dataframe tbody tr th {\n",
       "        vertical-align: top;\n",
       "    }\n",
       "\n",
       "    .dataframe thead th {\n",
       "        text-align: right;\n",
       "    }\n",
       "</style>\n",
       "<table border=\"1\" class=\"dataframe\">\n",
       "  <thead>\n",
       "    <tr style=\"text-align: right;\">\n",
       "      <th></th>\n",
       "      <th>date_file</th>\n",
       "      <th>deposit_date</th>\n",
       "    </tr>\n",
       "  </thead>\n",
       "  <tbody>\n",
       "    <tr>\n",
       "      <th>0</th>\n",
       "      <td>2021-11-02</td>\n",
       "      <td>20211101</td>\n",
       "    </tr>\n",
       "    <tr>\n",
       "      <th>0</th>\n",
       "      <td>2021-11-04</td>\n",
       "      <td>20211103</td>\n",
       "    </tr>\n",
       "    <tr>\n",
       "      <th>0</th>\n",
       "      <td>2021-11-05</td>\n",
       "      <td>20211104</td>\n",
       "    </tr>\n",
       "    <tr>\n",
       "      <th>0</th>\n",
       "      <td>2021-11-06</td>\n",
       "      <td>20211105</td>\n",
       "    </tr>\n",
       "    <tr>\n",
       "      <th>0</th>\n",
       "      <td>2021-11-09</td>\n",
       "      <td>20211108</td>\n",
       "    </tr>\n",
       "  </tbody>\n",
       "</table>\n",
       "</div>"
      ],
      "text/plain": [
       "   date_file  deposit_date\n",
       "0 2021-11-02      20211101\n",
       "0 2021-11-04      20211103\n",
       "0 2021-11-05      20211104\n",
       "0 2021-11-06      20211105\n",
       "0 2021-11-09      20211108"
      ]
     },
     "execution_count": 12,
     "metadata": {},
     "output_type": "execute_result"
    }
   ],
   "source": [
    "sftp_fecha_deposito = sftp[(sftp['transaction_type'] == 'BANORTE')]\n",
    "sftp_fecha_deposito = sftp_fecha_deposito[['date_file', 'gross_amount']]\n",
    "sftp_fecha_deposito.rename(columns ={'gross_amount': 'deposit_date'},inplace=True)\n",
    "sftp_fecha_deposito.head()"
   ]
  },
  {
   "cell_type": "code",
   "execution_count": 13,
   "metadata": {},
   "outputs": [],
   "source": [
    "sftp = sftp[(sftp['transaction_type'] != 'BANORTE')]\n",
    "sftp = sftp.merge(sftp_fecha_deposito[['date_file', 'deposit_date']],on='date_file',how='left')"
   ]
  },
  {
   "cell_type": "code",
   "execution_count": 14,
   "metadata": {},
   "outputs": [],
   "source": [
    "sftp['transaction_date'] = pd.to_datetime(sftp['transaction_date'], format='%Y%m%d').dt.date\n",
    "sftp['deposit_date'] = pd.to_datetime(sftp['deposit_date'], format='%Y%m%d').dt.date"
   ]
  },
  {
   "cell_type": "code",
   "execution_count": 15,
   "metadata": {},
   "outputs": [],
   "source": [
    "sftp['transaction_date'] = pd.to_datetime(sftp['transaction_date'])\n",
    "sftp['deposit_date'] = pd.to_datetime(sftp['deposit_date'])"
   ]
  },
  {
   "cell_type": "code",
   "execution_count": 16,
   "metadata": {},
   "outputs": [
    {
     "data": {
      "text/html": [
       "<div>\n",
       "<style scoped>\n",
       "    .dataframe tbody tr th:only-of-type {\n",
       "        vertical-align: middle;\n",
       "    }\n",
       "\n",
       "    .dataframe tbody tr th {\n",
       "        vertical-align: top;\n",
       "    }\n",
       "\n",
       "    .dataframe thead th {\n",
       "        text-align: right;\n",
       "    }\n",
       "</style>\n",
       "<table border=\"1\" class=\"dataframe\">\n",
       "  <thead>\n",
       "    <tr style=\"text-align: right;\">\n",
       "      <th></th>\n",
       "      <th>affiliation_sftp</th>\n",
       "      <th>card</th>\n",
       "      <th>commisions</th>\n",
       "      <th>transaction_date</th>\n",
       "      <th>gross_amount</th>\n",
       "      <th>transaction_type</th>\n",
       "      <th>tax</th>\n",
       "      <th>installments_tax</th>\n",
       "      <th>installments_fees</th>\n",
       "      <th>codigo_autorizacion</th>\n",
       "      <th>...</th>\n",
       "      <th>acquirer_commision</th>\n",
       "      <th>acquirer_tax</th>\n",
       "      <th>file_name</th>\n",
       "      <th>date_file</th>\n",
       "      <th>month</th>\n",
       "      <th>deposit_date</th>\n",
       "      <th>LAST4_SFTP</th>\n",
       "      <th>BIN_SFTP</th>\n",
       "      <th>INDEX_TOTAL</th>\n",
       "      <th>INDEX_TOTAL_XPAY</th>\n",
       "    </tr>\n",
       "  </thead>\n",
       "  <tbody>\n",
       "    <tr>\n",
       "      <th>0</th>\n",
       "      <td>07927489</td>\n",
       "      <td>4147098223</td>\n",
       "      <td>-9.65</td>\n",
       "      <td>2021-10-30</td>\n",
       "      <td>480.00</td>\n",
       "      <td>SETTLED</td>\n",
       "      <td>-1.54</td>\n",
       "      <td>0.00</td>\n",
       "      <td>0.00</td>\n",
       "      <td>08589C</td>\n",
       "      <td>...</td>\n",
       "      <td>-9.65</td>\n",
       "      <td>-1.54</td>\n",
       "      <td>PAYCLIP_Settlement_02112021_V1.csv</td>\n",
       "      <td>2021-11-02</td>\n",
       "      <td>November</td>\n",
       "      <td>2021-11-01</td>\n",
       "      <td>8223</td>\n",
       "      <td>414709</td>\n",
       "      <td>414709_8223_651119372481_480.0</td>\n",
       "      <td>414709_8223_nan_480.0</td>\n",
       "    </tr>\n",
       "    <tr>\n",
       "      <th>1</th>\n",
       "      <td>07927489</td>\n",
       "      <td>5579076076</td>\n",
       "      <td>-18.59</td>\n",
       "      <td>2021-10-30</td>\n",
       "      <td>1,430.00</td>\n",
       "      <td>SETTLED</td>\n",
       "      <td>-2.97</td>\n",
       "      <td>0.00</td>\n",
       "      <td>0.00</td>\n",
       "      <td>095450</td>\n",
       "      <td>...</td>\n",
       "      <td>-18.59</td>\n",
       "      <td>-2.97</td>\n",
       "      <td>PAYCLIP_Settlement_02112021_V1.csv</td>\n",
       "      <td>2021-11-02</td>\n",
       "      <td>November</td>\n",
       "      <td>2021-11-01</td>\n",
       "      <td>6076</td>\n",
       "      <td>557907</td>\n",
       "      <td>557907_6076_430562300562_1430.0</td>\n",
       "      <td>557907_6076_nan_1430.0</td>\n",
       "    </tr>\n",
       "    <tr>\n",
       "      <th>2</th>\n",
       "      <td>07927489</td>\n",
       "      <td>4152314288</td>\n",
       "      <td>-8.45</td>\n",
       "      <td>2021-10-30</td>\n",
       "      <td>650.00</td>\n",
       "      <td>SETTLED</td>\n",
       "      <td>-1.35</td>\n",
       "      <td>0.00</td>\n",
       "      <td>0.00</td>\n",
       "      <td>176860</td>\n",
       "      <td>...</td>\n",
       "      <td>-8.45</td>\n",
       "      <td>-1.35</td>\n",
       "      <td>PAYCLIP_Settlement_02112021_V1.csv</td>\n",
       "      <td>2021-11-02</td>\n",
       "      <td>November</td>\n",
       "      <td>2021-11-01</td>\n",
       "      <td>4288</td>\n",
       "      <td>415231</td>\n",
       "      <td>415231_4288_083850442059_650.0</td>\n",
       "      <td>415231_4288_nan_650.0</td>\n",
       "    </tr>\n",
       "    <tr>\n",
       "      <th>3</th>\n",
       "      <td>07927489</td>\n",
       "      <td>4152316987</td>\n",
       "      <td>-2.47</td>\n",
       "      <td>2021-10-30</td>\n",
       "      <td>190.00</td>\n",
       "      <td>SETTLED</td>\n",
       "      <td>-0.40</td>\n",
       "      <td>0.00</td>\n",
       "      <td>0.00</td>\n",
       "      <td>177087</td>\n",
       "      <td>...</td>\n",
       "      <td>-2.47</td>\n",
       "      <td>-0.40</td>\n",
       "      <td>PAYCLIP_Settlement_02112021_V1.csv</td>\n",
       "      <td>2021-11-02</td>\n",
       "      <td>November</td>\n",
       "      <td>2021-11-01</td>\n",
       "      <td>6987</td>\n",
       "      <td>415231</td>\n",
       "      <td>415231_6987_452904791822_190.0</td>\n",
       "      <td>415231_6987_nan_190.0</td>\n",
       "    </tr>\n",
       "    <tr>\n",
       "      <th>4</th>\n",
       "      <td>07927489</td>\n",
       "      <td>4915665860</td>\n",
       "      <td>-10.37</td>\n",
       "      <td>2021-10-30</td>\n",
       "      <td>798.00</td>\n",
       "      <td>SETTLED</td>\n",
       "      <td>-1.66</td>\n",
       "      <td>0.00</td>\n",
       "      <td>0.00</td>\n",
       "      <td>000460</td>\n",
       "      <td>...</td>\n",
       "      <td>-10.37</td>\n",
       "      <td>-1.66</td>\n",
       "      <td>PAYCLIP_Settlement_02112021_V1.csv</td>\n",
       "      <td>2021-11-02</td>\n",
       "      <td>November</td>\n",
       "      <td>2021-11-01</td>\n",
       "      <td>5860</td>\n",
       "      <td>491566</td>\n",
       "      <td>491566_5860_439324301768_798.0</td>\n",
       "      <td>491566_5860_nan_798.0</td>\n",
       "    </tr>\n",
       "  </tbody>\n",
       "</table>\n",
       "<p>5 rows × 22 columns</p>\n",
       "</div>"
      ],
      "text/plain": [
       "  affiliation_sftp        card  commisions transaction_date  gross_amount  \\\n",
       "0         07927489  4147098223       -9.65       2021-10-30        480.00   \n",
       "1         07927489  5579076076      -18.59       2021-10-30      1,430.00   \n",
       "2         07927489  4152314288       -8.45       2021-10-30        650.00   \n",
       "3         07927489  4152316987       -2.47       2021-10-30        190.00   \n",
       "4         07927489  4915665860      -10.37       2021-10-30        798.00   \n",
       "\n",
       "  transaction_type   tax  installments_tax  installments_fees  \\\n",
       "0          SETTLED -1.54              0.00               0.00   \n",
       "1          SETTLED -2.97              0.00               0.00   \n",
       "2          SETTLED -1.35              0.00               0.00   \n",
       "3          SETTLED -0.40              0.00               0.00   \n",
       "4          SETTLED -1.66              0.00               0.00   \n",
       "\n",
       "  codigo_autorizacion  ... acquirer_commision acquirer_tax  \\\n",
       "0              08589C  ...              -9.65        -1.54   \n",
       "1              095450  ...             -18.59        -2.97   \n",
       "2              176860  ...              -8.45        -1.35   \n",
       "3              177087  ...              -2.47        -0.40   \n",
       "4              000460  ...             -10.37        -1.66   \n",
       "\n",
       "                            file_name  date_file     month deposit_date  \\\n",
       "0  PAYCLIP_Settlement_02112021_V1.csv 2021-11-02  November   2021-11-01   \n",
       "1  PAYCLIP_Settlement_02112021_V1.csv 2021-11-02  November   2021-11-01   \n",
       "2  PAYCLIP_Settlement_02112021_V1.csv 2021-11-02  November   2021-11-01   \n",
       "3  PAYCLIP_Settlement_02112021_V1.csv 2021-11-02  November   2021-11-01   \n",
       "4  PAYCLIP_Settlement_02112021_V1.csv 2021-11-02  November   2021-11-01   \n",
       "\n",
       "  LAST4_SFTP BIN_SFTP                      INDEX_TOTAL        INDEX_TOTAL_XPAY  \n",
       "0       8223   414709   414709_8223_651119372481_480.0   414709_8223_nan_480.0  \n",
       "1       6076   557907  557907_6076_430562300562_1430.0  557907_6076_nan_1430.0  \n",
       "2       4288   415231   415231_4288_083850442059_650.0   415231_4288_nan_650.0  \n",
       "3       6987   415231   415231_6987_452904791822_190.0   415231_6987_nan_190.0  \n",
       "4       5860   491566   491566_5860_439324301768_798.0   491566_5860_nan_798.0  \n",
       "\n",
       "[5 rows x 22 columns]"
      ]
     },
     "execution_count": 16,
     "metadata": {},
     "output_type": "execute_result"
    }
   ],
   "source": [
    "sftp['gross_amount'] = sftp['gross_amount']/100\n",
    "sftp['commisions'] = sftp['commisions']/100\n",
    "sftp['tax'] = sftp['tax']/100\n",
    "sftp['installments_fees'] = sftp['installments_fees']/100\n",
    "sftp['installments_tax'] = sftp['installments_tax']/100\n",
    "sftp['acquirer_commision'] = sftp['acquirer_commision']/100\n",
    "sftp['acquirer_tax'] = sftp['acquirer_tax']/100\n",
    "sftp.loc[sftp['transaction_type'] != 'SETTLED', 'gross_amount'] = sftp['gross_amount']*-1\n",
    "sftp['LAST4_SFTP'] = sftp['card'].str[-4:].astype(str)\n",
    "sftp['BIN_SFTP'] = sftp['card'].str[:6].astype(str)\n",
    "sftp['INDEX_TOTAL'] = (sftp['BIN_SFTP'].astype(str).replace(' ', '',regex=True)+'_'\n",
    "                       +sftp['LAST4_SFTP'].astype(str).replace(' ', '',regex=True)+'_'\n",
    "                       +sftp['order_id'].astype(str).replace(' ', '',regex=True)+'_'\n",
    "                       +sftp['gross_amount'].astype(str).replace(' ', '',regex=True))\n",
    "sftp['INDEX_TOTAL_XPAY'] = (sftp['BIN_SFTP'].astype(str).replace(' ', '',regex=True)+'_'\n",
    "                       +sftp['LAST4_SFTP'].astype(str).replace(' ', '',regex=True)+'_'\n",
    "                       +sftp['order_id_xpay'].astype(str).replace(' ', '',regex=True)+'_'\n",
    "                       +sftp['gross_amount'].astype(str).replace(' ', '',regex=True))\n",
    "sftp['order_id'].fillna('NO EXISTE EN SFTP',inplace=True)\n",
    "sftp.head()"
   ]
  },
  {
   "cell_type": "code",
   "execution_count": 17,
   "metadata": {},
   "outputs": [
    {
     "data": {
      "text/plain": [
       "(16678458, 22)"
      ]
     },
     "execution_count": 17,
     "metadata": {},
     "output_type": "execute_result"
    }
   ],
   "source": [
    "sftp.shape"
   ]
  },
  {
   "cell_type": "markdown",
   "metadata": {},
   "source": [
    "# DATA POR AFILIACION"
   ]
  },
  {
   "cell_type": "code",
   "execution_count": null,
   "metadata": {},
   "outputs": [],
   "source": [
    "sftp_por_afiliacion = sftp.loc[sftp['affiliation_sftp'].str.contains('8380402')]\n",
    "sftp_por_afiliacion.head()"
   ]
  },
  {
   "cell_type": "code",
   "execution_count": null,
   "metadata": {},
   "outputs": [],
   "source": [
    "sftp_por_afiliacion.shape"
   ]
  },
  {
   "cell_type": "code",
   "execution_count": null,
   "metadata": {},
   "outputs": [],
   "source": [
    "sftp_por_afiliacion.to_excel('MIT.xlsx',index=False)"
   ]
  },
  {
   "cell_type": "markdown",
   "metadata": {},
   "source": [
    "# CHECKS"
   ]
  },
  {
   "cell_type": "code",
   "execution_count": 18,
   "metadata": {},
   "outputs": [
    {
     "data": {
      "text/html": [
       "<div>\n",
       "<style scoped>\n",
       "    .dataframe tbody tr th:only-of-type {\n",
       "        vertical-align: middle;\n",
       "    }\n",
       "\n",
       "    .dataframe tbody tr th {\n",
       "        vertical-align: top;\n",
       "    }\n",
       "\n",
       "    .dataframe thead th {\n",
       "        text-align: right;\n",
       "    }\n",
       "</style>\n",
       "<table border=\"1\" class=\"dataframe\">\n",
       "  <thead>\n",
       "    <tr style=\"text-align: right;\">\n",
       "      <th></th>\n",
       "      <th>merchant_id</th>\n",
       "      <th>uuid</th>\n",
       "      <th>transaction_id</th>\n",
       "      <th>order_id</th>\n",
       "      <th>affiliation</th>\n",
       "      <th>affiliation_type</th>\n",
       "      <th>sub_affiliation</th>\n",
       "      <th>mcc</th>\n",
       "      <th>date_transaction</th>\n",
       "      <th>created_at</th>\n",
       "      <th>...</th>\n",
       "      <th>last4</th>\n",
       "      <th>status_code</th>\n",
       "      <th>msi</th>\n",
       "      <th>device_id</th>\n",
       "      <th>clip_reader</th>\n",
       "      <th>status_msg</th>\n",
       "      <th>issuer</th>\n",
       "      <th>brand</th>\n",
       "      <th>INDEX_TOTAL</th>\n",
       "      <th>INDEX_TOTAL_XPAY</th>\n",
       "    </tr>\n",
       "  </thead>\n",
       "  <tbody>\n",
       "    <tr>\n",
       "      <th>0</th>\n",
       "      <td>d57e8704-b380-41c1-b198-bbe625c481ee</td>\n",
       "      <td>b1c92903-d5e6-42e5-a6e8-a14b04d6edc9</td>\n",
       "      <td>eed85b13-d767-4359-8409-c03ebd521010</td>\n",
       "      <td>823278240578</td>\n",
       "      <td>8672604</td>\n",
       "      <td>ECOMMERCE</td>\n",
       "      <td>1233013</td>\n",
       "      <td>5814</td>\n",
       "      <td>2021-11-05</td>\n",
       "      <td>2021-11-06 00:00:30</td>\n",
       "      <td>...</td>\n",
       "      <td>6396</td>\n",
       "      <td>-6</td>\n",
       "      <td>0</td>\n",
       "      <td>80010001</td>\n",
       "      <td>Clip Classic</td>\n",
       "      <td>Cancel Error</td>\n",
       "      <td>CITIBANAMEX</td>\n",
       "      <td>MASTERCARD</td>\n",
       "      <td>525678_6396_823278240578_292.0</td>\n",
       "      <td>525678_6396_823278240578_292.0</td>\n",
       "    </tr>\n",
       "    <tr>\n",
       "      <th>1</th>\n",
       "      <td>b627f1c2-3c9c-4139-9fef-d3c7b0e0cd2b</td>\n",
       "      <td>d6a015f5-80c3-42f0-9d50-7954aded52f3</td>\n",
       "      <td>cb2db857-12c4-4748-a886-6c30c77e2a4d</td>\n",
       "      <td>395878731662</td>\n",
       "      <td>8672604</td>\n",
       "      <td>ECOMMERCE</td>\n",
       "      <td>1233013</td>\n",
       "      <td>5814</td>\n",
       "      <td>2021-11-06</td>\n",
       "      <td>2021-11-06 18:08:31</td>\n",
       "      <td>...</td>\n",
       "      <td>4700</td>\n",
       "      <td>-6</td>\n",
       "      <td>0</td>\n",
       "      <td>80010001</td>\n",
       "      <td>Clip Classic</td>\n",
       "      <td>Cancel Error</td>\n",
       "      <td>BBVA</td>\n",
       "      <td>VISA</td>\n",
       "      <td>481516_4700_395878731662_105.0</td>\n",
       "      <td>481516_4700_395878731662_105.0</td>\n",
       "    </tr>\n",
       "    <tr>\n",
       "      <th>2</th>\n",
       "      <td>b627f1c2-3c9c-4139-9fef-d3c7b0e0cd2b</td>\n",
       "      <td>45319264-2fb0-48f0-ad5b-3a3474b52adf</td>\n",
       "      <td>8ecc237c-c18b-4fbb-920f-6b066bb26e3e</td>\n",
       "      <td>338092735976</td>\n",
       "      <td>8672604</td>\n",
       "      <td>ECOMMERCE</td>\n",
       "      <td>1233013</td>\n",
       "      <td>5814</td>\n",
       "      <td>2021-11-06</td>\n",
       "      <td>2021-11-06 18:10:10</td>\n",
       "      <td>...</td>\n",
       "      <td>4700</td>\n",
       "      <td>-6</td>\n",
       "      <td>0</td>\n",
       "      <td>80010001</td>\n",
       "      <td>Clip Classic</td>\n",
       "      <td>Cancel Error</td>\n",
       "      <td>BBVA</td>\n",
       "      <td>VISA</td>\n",
       "      <td>481516_4700_338092735976_105.0</td>\n",
       "      <td>481516_4700_338092735976_105.0</td>\n",
       "    </tr>\n",
       "    <tr>\n",
       "      <th>3</th>\n",
       "      <td>e834a637-db99-425c-9ba7-a5401f8615af</td>\n",
       "      <td>4f0a0043-689c-4b87-86de-e3675da8e780</td>\n",
       "      <td>aa174c7f-3bc1-4c44-b8c2-60c847c15444</td>\n",
       "      <td>486187894763</td>\n",
       "      <td>8672604</td>\n",
       "      <td>ECOMMERCE</td>\n",
       "      <td>1233036</td>\n",
       "      <td>7297</td>\n",
       "      <td>2021-11-10</td>\n",
       "      <td>2021-11-10 22:52:12</td>\n",
       "      <td>...</td>\n",
       "      <td>3339</td>\n",
       "      <td>-6</td>\n",
       "      <td>0</td>\n",
       "      <td>80010001</td>\n",
       "      <td>Clip Classic</td>\n",
       "      <td>Cancel Error</td>\n",
       "      <td>BANCOPPEL</td>\n",
       "      <td>VISA</td>\n",
       "      <td>426807_3339_486187894763_3058.0</td>\n",
       "      <td>426807_3339_486187894763_3058.0</td>\n",
       "    </tr>\n",
       "    <tr>\n",
       "      <th>4</th>\n",
       "      <td>e4199d86-a553-4b7d-94c6-9ae4155f037b</td>\n",
       "      <td>963e86fd-344e-48ce-a816-1f49577101f9</td>\n",
       "      <td>1a8dd537-e296-433d-803a-fccff8aa3f19</td>\n",
       "      <td>323931072524</td>\n",
       "      <td>8672604</td>\n",
       "      <td>ECOMMERCE</td>\n",
       "      <td>136052</td>\n",
       "      <td>5812</td>\n",
       "      <td>2021-11-12</td>\n",
       "      <td>2021-11-13 02:17:29</td>\n",
       "      <td>...</td>\n",
       "      <td>7180</td>\n",
       "      <td>-6</td>\n",
       "      <td>0</td>\n",
       "      <td>80010001</td>\n",
       "      <td>Clip Classic</td>\n",
       "      <td>Cancel Error</td>\n",
       "      <td>BBVA</td>\n",
       "      <td>VISA</td>\n",
       "      <td>415231_7180_323931072524_378.0</td>\n",
       "      <td>415231_7180_323931072524_378.0</td>\n",
       "    </tr>\n",
       "  </tbody>\n",
       "</table>\n",
       "<p>5 rows × 26 columns</p>\n",
       "</div>"
      ],
      "text/plain": [
       "                            merchant_id                                  uuid  \\\n",
       "0  d57e8704-b380-41c1-b198-bbe625c481ee  b1c92903-d5e6-42e5-a6e8-a14b04d6edc9   \n",
       "1  b627f1c2-3c9c-4139-9fef-d3c7b0e0cd2b  d6a015f5-80c3-42f0-9d50-7954aded52f3   \n",
       "2  b627f1c2-3c9c-4139-9fef-d3c7b0e0cd2b  45319264-2fb0-48f0-ad5b-3a3474b52adf   \n",
       "3  e834a637-db99-425c-9ba7-a5401f8615af  4f0a0043-689c-4b87-86de-e3675da8e780   \n",
       "4  e4199d86-a553-4b7d-94c6-9ae4155f037b  963e86fd-344e-48ce-a816-1f49577101f9   \n",
       "\n",
       "                         transaction_id      order_id  affiliation  \\\n",
       "0  eed85b13-d767-4359-8409-c03ebd521010  823278240578      8672604   \n",
       "1  cb2db857-12c4-4748-a886-6c30c77e2a4d  395878731662      8672604   \n",
       "2  8ecc237c-c18b-4fbb-920f-6b066bb26e3e  338092735976      8672604   \n",
       "3  aa174c7f-3bc1-4c44-b8c2-60c847c15444  486187894763      8672604   \n",
       "4  1a8dd537-e296-433d-803a-fccff8aa3f19  323931072524      8672604   \n",
       "\n",
       "  affiliation_type  sub_affiliation   mcc date_transaction  \\\n",
       "0        ECOMMERCE          1233013  5814       2021-11-05   \n",
       "1        ECOMMERCE          1233013  5814       2021-11-06   \n",
       "2        ECOMMERCE          1233013  5814       2021-11-06   \n",
       "3        ECOMMERCE          1233036  7297       2021-11-10   \n",
       "4        ECOMMERCE           136052  5812       2021-11-12   \n",
       "\n",
       "            created_at  ... last4 status_code  msi device_id   clip_reader  \\\n",
       "0  2021-11-06 00:00:30  ...  6396          -6    0  80010001  Clip Classic   \n",
       "1  2021-11-06 18:08:31  ...  4700          -6    0  80010001  Clip Classic   \n",
       "2  2021-11-06 18:10:10  ...  4700          -6    0  80010001  Clip Classic   \n",
       "3  2021-11-10 22:52:12  ...  3339          -6    0  80010001  Clip Classic   \n",
       "4  2021-11-13 02:17:29  ...  7180          -6    0  80010001  Clip Classic   \n",
       "\n",
       "     status_msg       issuer       brand                      INDEX_TOTAL  \\\n",
       "0  Cancel Error  CITIBANAMEX  MASTERCARD   525678_6396_823278240578_292.0   \n",
       "1  Cancel Error         BBVA        VISA   481516_4700_395878731662_105.0   \n",
       "2  Cancel Error         BBVA        VISA   481516_4700_338092735976_105.0   \n",
       "3  Cancel Error    BANCOPPEL        VISA  426807_3339_486187894763_3058.0   \n",
       "4  Cancel Error         BBVA        VISA   415231_7180_323931072524_378.0   \n",
       "\n",
       "                  INDEX_TOTAL_XPAY  \n",
       "0   525678_6396_823278240578_292.0  \n",
       "1   481516_4700_395878731662_105.0  \n",
       "2   481516_4700_338092735976_105.0  \n",
       "3  426807_3339_486187894763_3058.0  \n",
       "4   415231_7180_323931072524_378.0  \n",
       "\n",
       "[5 rows x 26 columns]"
      ]
     },
     "execution_count": 18,
     "metadata": {},
     "output_type": "execute_result"
    }
   ],
   "source": [
    "ticket_zendesk = pd.read_csv('DISPUTAS BNTE 2022.04.08.csv',dtype={'amount':float,'clave_autorizacion': object,'bin':object\n",
    "                                                  ,'last4':object,'order_id':object})\n",
    "ticket_zendesk.columns = ticket_zendesk.columns.str.strip().str.lower() \n",
    "ticket_zendesk['INDEX_TOTAL'] = (ticket_zendesk['bin'].astype(str).replace(' ', '',regex=True)+'_'\n",
    "                       +ticket_zendesk['last4'].astype(str).replace(' ', '',regex=True)+'_'\n",
    "                       +ticket_zendesk['order_id'].astype(str).replace(' ', '',regex=True)+'_'\n",
    "                       +ticket_zendesk['amount'].astype(str).replace(' ', '',regex=True))\n",
    "ticket_zendesk['INDEX_TOTAL_XPAY'] = (ticket_zendesk['bin'].astype(str).replace(' ', '',regex=True)+'_'\n",
    "                       +ticket_zendesk['last4'].astype(str).replace(' ', '',regex=True)+'_'\n",
    "                       +ticket_zendesk['order_id'].astype(str).replace(' ', '',regex=True)+'_'\n",
    "                       +ticket_zendesk['amount'].astype(str).replace(' ', '',regex=True))\n",
    "ticket_zendesk.head()"
   ]
  },
  {
   "cell_type": "code",
   "execution_count": 19,
   "metadata": {},
   "outputs": [
    {
     "data": {
      "text/plain": [
       "(9, 26)"
      ]
     },
     "execution_count": 19,
     "metadata": {},
     "output_type": "execute_result"
    }
   ],
   "source": [
    "ticket_zendesk.shape"
   ]
  },
  {
   "cell_type": "code",
   "execution_count": 20,
   "metadata": {},
   "outputs": [
    {
     "data": {
      "text/plain": [
       "array(['PAYWORKS-BANORTE'], dtype=object)"
      ]
     },
     "execution_count": 20,
     "metadata": {},
     "output_type": "execute_result"
    }
   ],
   "source": [
    "ticket_zendesk['psp'].unique() "
   ]
  },
  {
   "cell_type": "code",
   "execution_count": 21,
   "metadata": {},
   "outputs": [
    {
     "data": {
      "text/plain": [
       "array([-6,  8], dtype=int64)"
      ]
     },
     "execution_count": 21,
     "metadata": {},
     "output_type": "execute_result"
    }
   ],
   "source": [
    "ticket_zendesk['status_code'].unique()"
   ]
  },
  {
   "cell_type": "code",
   "execution_count": 22,
   "metadata": {},
   "outputs": [
    {
     "name": "stdout",
     "output_type": "stream",
     "text": [
      "'823278240578',\n",
      "'395878731662',\n",
      "'338092735976',\n",
      "'486187894763',\n",
      "'323931072524',\n",
      "'698861351381',\n",
      "'783957835035',\n",
      "'727527537026',\n",
      "'345329711146',\n"
     ]
    }
   ],
   "source": [
    "ticket_zendesk['order_id_busqueda'] = \"'\"+ticket_zendesk['order_id'].replace(' ', '',regex=True)+\"',\"\n",
    "print (ticket_zendesk['order_id_busqueda'].to_string(index=False))"
   ]
  },
  {
   "cell_type": "markdown",
   "metadata": {},
   "source": [
    "# IMPORTANTE: REVISAR A QUE PSP CORRESPONDE EL ORDER ID (PROSA O XPAY)"
   ]
  },
  {
   "cell_type": "code",
   "execution_count": 23,
   "metadata": {},
   "outputs": [
    {
     "data": {
      "text/html": [
       "<div>\n",
       "<style scoped>\n",
       "    .dataframe tbody tr th:only-of-type {\n",
       "        vertical-align: middle;\n",
       "    }\n",
       "\n",
       "    .dataframe tbody tr th {\n",
       "        vertical-align: top;\n",
       "    }\n",
       "\n",
       "    .dataframe thead th {\n",
       "        text-align: right;\n",
       "    }\n",
       "</style>\n",
       "<table border=\"1\" class=\"dataframe\">\n",
       "  <thead>\n",
       "    <tr style=\"text-align: right;\">\n",
       "      <th></th>\n",
       "      <th>affiliation_sftp</th>\n",
       "      <th>card</th>\n",
       "      <th>commisions</th>\n",
       "      <th>transaction_date</th>\n",
       "      <th>gross_amount</th>\n",
       "      <th>transaction_type</th>\n",
       "      <th>tax</th>\n",
       "      <th>installments_tax</th>\n",
       "      <th>installments_fees</th>\n",
       "      <th>codigo_autorizacion</th>\n",
       "      <th>...</th>\n",
       "      <th>acquirer_commision</th>\n",
       "      <th>acquirer_tax</th>\n",
       "      <th>file_name</th>\n",
       "      <th>date_file</th>\n",
       "      <th>month</th>\n",
       "      <th>deposit_date</th>\n",
       "      <th>LAST4_SFTP</th>\n",
       "      <th>BIN_SFTP</th>\n",
       "      <th>INDEX_TOTAL</th>\n",
       "      <th>INDEX_TOTAL_XPAY</th>\n",
       "    </tr>\n",
       "  </thead>\n",
       "  <tbody>\n",
       "  </tbody>\n",
       "</table>\n",
       "<p>0 rows × 22 columns</p>\n",
       "</div>"
      ],
      "text/plain": [
       "Empty DataFrame\n",
       "Columns: [affiliation_sftp, card, commisions, transaction_date, gross_amount, transaction_type, tax, installments_tax, installments_fees, codigo_autorizacion, order_id, order_id_xpay, acquirer_commision, acquirer_tax, file_name, date_file, month, deposit_date, LAST4_SFTP, BIN_SFTP, INDEX_TOTAL, INDEX_TOTAL_XPAY]\n",
       "Index: []\n",
       "\n",
       "[0 rows x 22 columns]"
      ]
     },
     "execution_count": 23,
     "metadata": {},
     "output_type": "execute_result"
    }
   ],
   "source": [
    "# select columns by name\n",
    "check_txn = sftp[sftp['order_id'].isin(['823278240578',\n",
    "'395878731662',\n",
    "'338092735976',\n",
    "'486187894763',\n",
    "'323931072524',\n",
    "'698861351381',\n",
    "'783957835035',\n",
    "'727527537026',\n",
    "'345329711146']) | sftp.order_id_xpay.isin(['823278240578',\n",
    "'395878731662',\n",
    "'338092735976',\n",
    "'486187894763',\n",
    "'323931072524',\n",
    "'698861351381',\n",
    "'783957835035',\n",
    "'727527537026',\n",
    "'345329711146'])]\n",
    "# check_txn = sftp[sftp['ECI'].isin(['74518990297102774892283'])]\n",
    "# check_txn = sftp[sftp['order_id'] == '082566136893']\n",
    "# check_txn = sftp[sftp['order_id_xpay'].isin(['223432604325'])]\n",
    "# check_txn = sftp[(sftp.order_id == ('470520706509')) | (sftp.order_id ==('684089225828'))]\n",
    "# check_txn = sftp[(sftp.CONCAT_2 == ('4388-2460.0')) | (sftp.CONCAT_2 == ('4388--2460.0'))]\n",
    "# check_txn = sftp[(sftp.CONCAT_3 == ('314771-2718-295.0')) | (sftp.CONCAT_3 == ('314771-2718--295.0'))]\n",
    "# check_txn = sftp[(sftp['LAST4'] == '7206')]\n",
    "# check_txn.sort_values(by=['order_id','Fecha txn'],inplace=True)\n",
    "check_txn.head()"
   ]
  },
  {
   "cell_type": "code",
   "execution_count": 24,
   "metadata": {},
   "outputs": [
    {
     "data": {
      "text/plain": [
       "(0, 22)"
      ]
     },
     "execution_count": 24,
     "metadata": {},
     "output_type": "execute_result"
    }
   ],
   "source": [
    "check_txn.shape"
   ]
  },
  {
   "cell_type": "code",
   "execution_count": 25,
   "metadata": {},
   "outputs": [],
   "source": [
    "# check_txn.to_excel('LAST4_7106.xlsx',index=False)"
   ]
  },
  {
   "cell_type": "code",
   "execution_count": 26,
   "metadata": {},
   "outputs": [],
   "source": [
    "# writer = pd.ExcelWriter('EXAMPLE_SFTP(2).xlsx', engine='openpyxl', options={'encoding':'utf-8'})\n",
    "# check_txn.to_excel(writer, sheet_name='MATCH TXN 1', index=False)\n",
    "# ticket_zendesk.to_excel(writer, sheet_name='TICKET', index=False)\n",
    "# writer.save()\n",
    "# writer.close()"
   ]
  },
  {
   "cell_type": "markdown",
   "metadata": {},
   "source": [
    "# MATCH DEPENDIENDO DEL PSP (INDEX_TOTAL O INDEX_TOTAL_XPAY)"
   ]
  },
  {
   "cell_type": "code",
   "execution_count": 27,
   "metadata": {},
   "outputs": [],
   "source": [
    "match = ticket_zendesk.merge(check_txn[['INDEX_TOTAL','affiliation_sftp','transaction_date','transaction_type','order_id',\n",
    "                                        'order_id_xpay','deposit_date','gross_amount']],on='INDEX_TOTAL',how='left')\n",
    "match_2 = ticket_zendesk.merge(check_txn[['INDEX_TOTAL_XPAY','affiliation_sftp','transaction_date','transaction_type','order_id',\n",
    "                                          'order_id_xpay','deposit_date','gross_amount']],on='INDEX_TOTAL_XPAY',how='left')\n",
    "# match = check_txn.merge(ticket_zendesk[['order_id','ISSUER','BRAND']],on='order_id',how='left')\n",
    "# match['transaction_id'].fillna('NO MATCH',inplace=True)\n",
    "# match['status_code'].fillna('NO MATCH',inplace=True)\n",
    "# match['status_msg'].fillna('NO MATCH',inplace=True)"
   ]
  },
  {
   "cell_type": "code",
   "execution_count": 28,
   "metadata": {},
   "outputs": [
    {
     "data": {
      "text/html": [
       "<div>\n",
       "<style scoped>\n",
       "    .dataframe tbody tr th:only-of-type {\n",
       "        vertical-align: middle;\n",
       "    }\n",
       "\n",
       "    .dataframe tbody tr th {\n",
       "        vertical-align: top;\n",
       "    }\n",
       "\n",
       "    .dataframe thead th {\n",
       "        text-align: right;\n",
       "    }\n",
       "</style>\n",
       "<table border=\"1\" class=\"dataframe\">\n",
       "  <thead>\n",
       "    <tr style=\"text-align: right;\">\n",
       "      <th></th>\n",
       "      <th>merchant_id</th>\n",
       "      <th>uuid</th>\n",
       "      <th>transaction_id</th>\n",
       "      <th>order_id_x</th>\n",
       "      <th>affiliation</th>\n",
       "      <th>affiliation_type</th>\n",
       "      <th>sub_affiliation</th>\n",
       "      <th>mcc</th>\n",
       "      <th>date_transaction</th>\n",
       "      <th>created_at</th>\n",
       "      <th>...</th>\n",
       "      <th>INDEX_TOTAL</th>\n",
       "      <th>INDEX_TOTAL_XPAY</th>\n",
       "      <th>order_id_busqueda</th>\n",
       "      <th>affiliation_sftp</th>\n",
       "      <th>transaction_date</th>\n",
       "      <th>transaction_type</th>\n",
       "      <th>order_id_y</th>\n",
       "      <th>order_id_xpay</th>\n",
       "      <th>deposit_date</th>\n",
       "      <th>gross_amount</th>\n",
       "    </tr>\n",
       "  </thead>\n",
       "  <tbody>\n",
       "    <tr>\n",
       "      <th>0</th>\n",
       "      <td>d57e8704-b380-41c1-b198-bbe625c481ee</td>\n",
       "      <td>b1c92903-d5e6-42e5-a6e8-a14b04d6edc9</td>\n",
       "      <td>eed85b13-d767-4359-8409-c03ebd521010</td>\n",
       "      <td>823278240578</td>\n",
       "      <td>8672604</td>\n",
       "      <td>ECOMMERCE</td>\n",
       "      <td>1233013</td>\n",
       "      <td>5814</td>\n",
       "      <td>2021-11-05</td>\n",
       "      <td>2021-11-06 00:00:30</td>\n",
       "      <td>...</td>\n",
       "      <td>525678_6396_823278240578_292.0</td>\n",
       "      <td>525678_6396_823278240578_292.0</td>\n",
       "      <td>'823278240578',</td>\n",
       "      <td>NaN</td>\n",
       "      <td>NaT</td>\n",
       "      <td>NaN</td>\n",
       "      <td>NaN</td>\n",
       "      <td>NaN</td>\n",
       "      <td>NaT</td>\n",
       "      <td>NaN</td>\n",
       "    </tr>\n",
       "    <tr>\n",
       "      <th>1</th>\n",
       "      <td>b627f1c2-3c9c-4139-9fef-d3c7b0e0cd2b</td>\n",
       "      <td>d6a015f5-80c3-42f0-9d50-7954aded52f3</td>\n",
       "      <td>cb2db857-12c4-4748-a886-6c30c77e2a4d</td>\n",
       "      <td>395878731662</td>\n",
       "      <td>8672604</td>\n",
       "      <td>ECOMMERCE</td>\n",
       "      <td>1233013</td>\n",
       "      <td>5814</td>\n",
       "      <td>2021-11-06</td>\n",
       "      <td>2021-11-06 18:08:31</td>\n",
       "      <td>...</td>\n",
       "      <td>481516_4700_395878731662_105.0</td>\n",
       "      <td>481516_4700_395878731662_105.0</td>\n",
       "      <td>'395878731662',</td>\n",
       "      <td>NaN</td>\n",
       "      <td>NaT</td>\n",
       "      <td>NaN</td>\n",
       "      <td>NaN</td>\n",
       "      <td>NaN</td>\n",
       "      <td>NaT</td>\n",
       "      <td>NaN</td>\n",
       "    </tr>\n",
       "    <tr>\n",
       "      <th>2</th>\n",
       "      <td>b627f1c2-3c9c-4139-9fef-d3c7b0e0cd2b</td>\n",
       "      <td>45319264-2fb0-48f0-ad5b-3a3474b52adf</td>\n",
       "      <td>8ecc237c-c18b-4fbb-920f-6b066bb26e3e</td>\n",
       "      <td>338092735976</td>\n",
       "      <td>8672604</td>\n",
       "      <td>ECOMMERCE</td>\n",
       "      <td>1233013</td>\n",
       "      <td>5814</td>\n",
       "      <td>2021-11-06</td>\n",
       "      <td>2021-11-06 18:10:10</td>\n",
       "      <td>...</td>\n",
       "      <td>481516_4700_338092735976_105.0</td>\n",
       "      <td>481516_4700_338092735976_105.0</td>\n",
       "      <td>'338092735976',</td>\n",
       "      <td>NaN</td>\n",
       "      <td>NaT</td>\n",
       "      <td>NaN</td>\n",
       "      <td>NaN</td>\n",
       "      <td>NaN</td>\n",
       "      <td>NaT</td>\n",
       "      <td>NaN</td>\n",
       "    </tr>\n",
       "    <tr>\n",
       "      <th>3</th>\n",
       "      <td>e834a637-db99-425c-9ba7-a5401f8615af</td>\n",
       "      <td>4f0a0043-689c-4b87-86de-e3675da8e780</td>\n",
       "      <td>aa174c7f-3bc1-4c44-b8c2-60c847c15444</td>\n",
       "      <td>486187894763</td>\n",
       "      <td>8672604</td>\n",
       "      <td>ECOMMERCE</td>\n",
       "      <td>1233036</td>\n",
       "      <td>7297</td>\n",
       "      <td>2021-11-10</td>\n",
       "      <td>2021-11-10 22:52:12</td>\n",
       "      <td>...</td>\n",
       "      <td>426807_3339_486187894763_3058.0</td>\n",
       "      <td>426807_3339_486187894763_3058.0</td>\n",
       "      <td>'486187894763',</td>\n",
       "      <td>NaN</td>\n",
       "      <td>NaT</td>\n",
       "      <td>NaN</td>\n",
       "      <td>NaN</td>\n",
       "      <td>NaN</td>\n",
       "      <td>NaT</td>\n",
       "      <td>NaN</td>\n",
       "    </tr>\n",
       "    <tr>\n",
       "      <th>4</th>\n",
       "      <td>e4199d86-a553-4b7d-94c6-9ae4155f037b</td>\n",
       "      <td>963e86fd-344e-48ce-a816-1f49577101f9</td>\n",
       "      <td>1a8dd537-e296-433d-803a-fccff8aa3f19</td>\n",
       "      <td>323931072524</td>\n",
       "      <td>8672604</td>\n",
       "      <td>ECOMMERCE</td>\n",
       "      <td>136052</td>\n",
       "      <td>5812</td>\n",
       "      <td>2021-11-12</td>\n",
       "      <td>2021-11-13 02:17:29</td>\n",
       "      <td>...</td>\n",
       "      <td>415231_7180_323931072524_378.0</td>\n",
       "      <td>415231_7180_323931072524_378.0</td>\n",
       "      <td>'323931072524',</td>\n",
       "      <td>NaN</td>\n",
       "      <td>NaT</td>\n",
       "      <td>NaN</td>\n",
       "      <td>NaN</td>\n",
       "      <td>NaN</td>\n",
       "      <td>NaT</td>\n",
       "      <td>NaN</td>\n",
       "    </tr>\n",
       "  </tbody>\n",
       "</table>\n",
       "<p>5 rows × 34 columns</p>\n",
       "</div>"
      ],
      "text/plain": [
       "                            merchant_id                                  uuid  \\\n",
       "0  d57e8704-b380-41c1-b198-bbe625c481ee  b1c92903-d5e6-42e5-a6e8-a14b04d6edc9   \n",
       "1  b627f1c2-3c9c-4139-9fef-d3c7b0e0cd2b  d6a015f5-80c3-42f0-9d50-7954aded52f3   \n",
       "2  b627f1c2-3c9c-4139-9fef-d3c7b0e0cd2b  45319264-2fb0-48f0-ad5b-3a3474b52adf   \n",
       "3  e834a637-db99-425c-9ba7-a5401f8615af  4f0a0043-689c-4b87-86de-e3675da8e780   \n",
       "4  e4199d86-a553-4b7d-94c6-9ae4155f037b  963e86fd-344e-48ce-a816-1f49577101f9   \n",
       "\n",
       "                         transaction_id    order_id_x  affiliation  \\\n",
       "0  eed85b13-d767-4359-8409-c03ebd521010  823278240578      8672604   \n",
       "1  cb2db857-12c4-4748-a886-6c30c77e2a4d  395878731662      8672604   \n",
       "2  8ecc237c-c18b-4fbb-920f-6b066bb26e3e  338092735976      8672604   \n",
       "3  aa174c7f-3bc1-4c44-b8c2-60c847c15444  486187894763      8672604   \n",
       "4  1a8dd537-e296-433d-803a-fccff8aa3f19  323931072524      8672604   \n",
       "\n",
       "  affiliation_type  sub_affiliation   mcc date_transaction  \\\n",
       "0        ECOMMERCE          1233013  5814       2021-11-05   \n",
       "1        ECOMMERCE          1233013  5814       2021-11-06   \n",
       "2        ECOMMERCE          1233013  5814       2021-11-06   \n",
       "3        ECOMMERCE          1233036  7297       2021-11-10   \n",
       "4        ECOMMERCE           136052  5812       2021-11-12   \n",
       "\n",
       "            created_at  ...                      INDEX_TOTAL  \\\n",
       "0  2021-11-06 00:00:30  ...   525678_6396_823278240578_292.0   \n",
       "1  2021-11-06 18:08:31  ...   481516_4700_395878731662_105.0   \n",
       "2  2021-11-06 18:10:10  ...   481516_4700_338092735976_105.0   \n",
       "3  2021-11-10 22:52:12  ...  426807_3339_486187894763_3058.0   \n",
       "4  2021-11-13 02:17:29  ...   415231_7180_323931072524_378.0   \n",
       "\n",
       "                  INDEX_TOTAL_XPAY  order_id_busqueda affiliation_sftp  \\\n",
       "0   525678_6396_823278240578_292.0    '823278240578',              NaN   \n",
       "1   481516_4700_395878731662_105.0    '395878731662',              NaN   \n",
       "2   481516_4700_338092735976_105.0    '338092735976',              NaN   \n",
       "3  426807_3339_486187894763_3058.0    '486187894763',              NaN   \n",
       "4   415231_7180_323931072524_378.0    '323931072524',              NaN   \n",
       "\n",
       "  transaction_date transaction_type order_id_y  order_id_xpay  deposit_date  \\\n",
       "0              NaT              NaN        NaN            NaN           NaT   \n",
       "1              NaT              NaN        NaN            NaN           NaT   \n",
       "2              NaT              NaN        NaN            NaN           NaT   \n",
       "3              NaT              NaN        NaN            NaN           NaT   \n",
       "4              NaT              NaN        NaN            NaN           NaT   \n",
       "\n",
       "   gross_amount  \n",
       "0           NaN  \n",
       "1           NaN  \n",
       "2           NaN  \n",
       "3           NaN  \n",
       "4           NaN  \n",
       "\n",
       "[5 rows x 34 columns]"
      ]
     },
     "execution_count": 28,
     "metadata": {},
     "output_type": "execute_result"
    }
   ],
   "source": [
    "match.head()"
   ]
  },
  {
   "cell_type": "code",
   "execution_count": 29,
   "metadata": {},
   "outputs": [
    {
     "data": {
      "text/html": [
       "<div>\n",
       "<style scoped>\n",
       "    .dataframe tbody tr th:only-of-type {\n",
       "        vertical-align: middle;\n",
       "    }\n",
       "\n",
       "    .dataframe tbody tr th {\n",
       "        vertical-align: top;\n",
       "    }\n",
       "\n",
       "    .dataframe thead th {\n",
       "        text-align: right;\n",
       "    }\n",
       "</style>\n",
       "<table border=\"1\" class=\"dataframe\">\n",
       "  <thead>\n",
       "    <tr style=\"text-align: right;\">\n",
       "      <th></th>\n",
       "      <th>merchant_id</th>\n",
       "      <th>uuid</th>\n",
       "      <th>transaction_id</th>\n",
       "      <th>order_id_x</th>\n",
       "      <th>affiliation</th>\n",
       "      <th>affiliation_type</th>\n",
       "      <th>sub_affiliation</th>\n",
       "      <th>mcc</th>\n",
       "      <th>date_transaction</th>\n",
       "      <th>created_at</th>\n",
       "      <th>...</th>\n",
       "      <th>INDEX_TOTAL</th>\n",
       "      <th>INDEX_TOTAL_XPAY</th>\n",
       "      <th>order_id_busqueda</th>\n",
       "      <th>affiliation_sftp</th>\n",
       "      <th>transaction_date</th>\n",
       "      <th>transaction_type</th>\n",
       "      <th>order_id_y</th>\n",
       "      <th>order_id_xpay</th>\n",
       "      <th>deposit_date</th>\n",
       "      <th>gross_amount</th>\n",
       "    </tr>\n",
       "  </thead>\n",
       "  <tbody>\n",
       "    <tr>\n",
       "      <th>0</th>\n",
       "      <td>d57e8704-b380-41c1-b198-bbe625c481ee</td>\n",
       "      <td>b1c92903-d5e6-42e5-a6e8-a14b04d6edc9</td>\n",
       "      <td>eed85b13-d767-4359-8409-c03ebd521010</td>\n",
       "      <td>823278240578</td>\n",
       "      <td>8672604</td>\n",
       "      <td>ECOMMERCE</td>\n",
       "      <td>1233013</td>\n",
       "      <td>5814</td>\n",
       "      <td>2021-11-05</td>\n",
       "      <td>2021-11-06 00:00:30</td>\n",
       "      <td>...</td>\n",
       "      <td>525678_6396_823278240578_292.0</td>\n",
       "      <td>525678_6396_823278240578_292.0</td>\n",
       "      <td>'823278240578',</td>\n",
       "      <td>NaN</td>\n",
       "      <td>NaT</td>\n",
       "      <td>NaN</td>\n",
       "      <td>NaN</td>\n",
       "      <td>NaN</td>\n",
       "      <td>NaT</td>\n",
       "      <td>NaN</td>\n",
       "    </tr>\n",
       "    <tr>\n",
       "      <th>1</th>\n",
       "      <td>b627f1c2-3c9c-4139-9fef-d3c7b0e0cd2b</td>\n",
       "      <td>d6a015f5-80c3-42f0-9d50-7954aded52f3</td>\n",
       "      <td>cb2db857-12c4-4748-a886-6c30c77e2a4d</td>\n",
       "      <td>395878731662</td>\n",
       "      <td>8672604</td>\n",
       "      <td>ECOMMERCE</td>\n",
       "      <td>1233013</td>\n",
       "      <td>5814</td>\n",
       "      <td>2021-11-06</td>\n",
       "      <td>2021-11-06 18:08:31</td>\n",
       "      <td>...</td>\n",
       "      <td>481516_4700_395878731662_105.0</td>\n",
       "      <td>481516_4700_395878731662_105.0</td>\n",
       "      <td>'395878731662',</td>\n",
       "      <td>NaN</td>\n",
       "      <td>NaT</td>\n",
       "      <td>NaN</td>\n",
       "      <td>NaN</td>\n",
       "      <td>NaN</td>\n",
       "      <td>NaT</td>\n",
       "      <td>NaN</td>\n",
       "    </tr>\n",
       "    <tr>\n",
       "      <th>2</th>\n",
       "      <td>b627f1c2-3c9c-4139-9fef-d3c7b0e0cd2b</td>\n",
       "      <td>45319264-2fb0-48f0-ad5b-3a3474b52adf</td>\n",
       "      <td>8ecc237c-c18b-4fbb-920f-6b066bb26e3e</td>\n",
       "      <td>338092735976</td>\n",
       "      <td>8672604</td>\n",
       "      <td>ECOMMERCE</td>\n",
       "      <td>1233013</td>\n",
       "      <td>5814</td>\n",
       "      <td>2021-11-06</td>\n",
       "      <td>2021-11-06 18:10:10</td>\n",
       "      <td>...</td>\n",
       "      <td>481516_4700_338092735976_105.0</td>\n",
       "      <td>481516_4700_338092735976_105.0</td>\n",
       "      <td>'338092735976',</td>\n",
       "      <td>NaN</td>\n",
       "      <td>NaT</td>\n",
       "      <td>NaN</td>\n",
       "      <td>NaN</td>\n",
       "      <td>NaN</td>\n",
       "      <td>NaT</td>\n",
       "      <td>NaN</td>\n",
       "    </tr>\n",
       "    <tr>\n",
       "      <th>3</th>\n",
       "      <td>e834a637-db99-425c-9ba7-a5401f8615af</td>\n",
       "      <td>4f0a0043-689c-4b87-86de-e3675da8e780</td>\n",
       "      <td>aa174c7f-3bc1-4c44-b8c2-60c847c15444</td>\n",
       "      <td>486187894763</td>\n",
       "      <td>8672604</td>\n",
       "      <td>ECOMMERCE</td>\n",
       "      <td>1233036</td>\n",
       "      <td>7297</td>\n",
       "      <td>2021-11-10</td>\n",
       "      <td>2021-11-10 22:52:12</td>\n",
       "      <td>...</td>\n",
       "      <td>426807_3339_486187894763_3058.0</td>\n",
       "      <td>426807_3339_486187894763_3058.0</td>\n",
       "      <td>'486187894763',</td>\n",
       "      <td>NaN</td>\n",
       "      <td>NaT</td>\n",
       "      <td>NaN</td>\n",
       "      <td>NaN</td>\n",
       "      <td>NaN</td>\n",
       "      <td>NaT</td>\n",
       "      <td>NaN</td>\n",
       "    </tr>\n",
       "    <tr>\n",
       "      <th>4</th>\n",
       "      <td>e4199d86-a553-4b7d-94c6-9ae4155f037b</td>\n",
       "      <td>963e86fd-344e-48ce-a816-1f49577101f9</td>\n",
       "      <td>1a8dd537-e296-433d-803a-fccff8aa3f19</td>\n",
       "      <td>323931072524</td>\n",
       "      <td>8672604</td>\n",
       "      <td>ECOMMERCE</td>\n",
       "      <td>136052</td>\n",
       "      <td>5812</td>\n",
       "      <td>2021-11-12</td>\n",
       "      <td>2021-11-13 02:17:29</td>\n",
       "      <td>...</td>\n",
       "      <td>415231_7180_323931072524_378.0</td>\n",
       "      <td>415231_7180_323931072524_378.0</td>\n",
       "      <td>'323931072524',</td>\n",
       "      <td>NaN</td>\n",
       "      <td>NaT</td>\n",
       "      <td>NaN</td>\n",
       "      <td>NaN</td>\n",
       "      <td>NaN</td>\n",
       "      <td>NaT</td>\n",
       "      <td>NaN</td>\n",
       "    </tr>\n",
       "  </tbody>\n",
       "</table>\n",
       "<p>5 rows × 34 columns</p>\n",
       "</div>"
      ],
      "text/plain": [
       "                            merchant_id                                  uuid  \\\n",
       "0  d57e8704-b380-41c1-b198-bbe625c481ee  b1c92903-d5e6-42e5-a6e8-a14b04d6edc9   \n",
       "1  b627f1c2-3c9c-4139-9fef-d3c7b0e0cd2b  d6a015f5-80c3-42f0-9d50-7954aded52f3   \n",
       "2  b627f1c2-3c9c-4139-9fef-d3c7b0e0cd2b  45319264-2fb0-48f0-ad5b-3a3474b52adf   \n",
       "3  e834a637-db99-425c-9ba7-a5401f8615af  4f0a0043-689c-4b87-86de-e3675da8e780   \n",
       "4  e4199d86-a553-4b7d-94c6-9ae4155f037b  963e86fd-344e-48ce-a816-1f49577101f9   \n",
       "\n",
       "                         transaction_id    order_id_x  affiliation  \\\n",
       "0  eed85b13-d767-4359-8409-c03ebd521010  823278240578      8672604   \n",
       "1  cb2db857-12c4-4748-a886-6c30c77e2a4d  395878731662      8672604   \n",
       "2  8ecc237c-c18b-4fbb-920f-6b066bb26e3e  338092735976      8672604   \n",
       "3  aa174c7f-3bc1-4c44-b8c2-60c847c15444  486187894763      8672604   \n",
       "4  1a8dd537-e296-433d-803a-fccff8aa3f19  323931072524      8672604   \n",
       "\n",
       "  affiliation_type  sub_affiliation   mcc date_transaction  \\\n",
       "0        ECOMMERCE          1233013  5814       2021-11-05   \n",
       "1        ECOMMERCE          1233013  5814       2021-11-06   \n",
       "2        ECOMMERCE          1233013  5814       2021-11-06   \n",
       "3        ECOMMERCE          1233036  7297       2021-11-10   \n",
       "4        ECOMMERCE           136052  5812       2021-11-12   \n",
       "\n",
       "            created_at  ...                      INDEX_TOTAL  \\\n",
       "0  2021-11-06 00:00:30  ...   525678_6396_823278240578_292.0   \n",
       "1  2021-11-06 18:08:31  ...   481516_4700_395878731662_105.0   \n",
       "2  2021-11-06 18:10:10  ...   481516_4700_338092735976_105.0   \n",
       "3  2021-11-10 22:52:12  ...  426807_3339_486187894763_3058.0   \n",
       "4  2021-11-13 02:17:29  ...   415231_7180_323931072524_378.0   \n",
       "\n",
       "                  INDEX_TOTAL_XPAY  order_id_busqueda affiliation_sftp  \\\n",
       "0   525678_6396_823278240578_292.0    '823278240578',              NaN   \n",
       "1   481516_4700_395878731662_105.0    '395878731662',              NaN   \n",
       "2   481516_4700_338092735976_105.0    '338092735976',              NaN   \n",
       "3  426807_3339_486187894763_3058.0    '486187894763',              NaN   \n",
       "4   415231_7180_323931072524_378.0    '323931072524',              NaN   \n",
       "\n",
       "  transaction_date transaction_type order_id_y  order_id_xpay  deposit_date  \\\n",
       "0              NaT              NaN        NaN            NaN           NaT   \n",
       "1              NaT              NaN        NaN            NaN           NaT   \n",
       "2              NaT              NaN        NaN            NaN           NaT   \n",
       "3              NaT              NaN        NaN            NaN           NaT   \n",
       "4              NaT              NaN        NaN            NaN           NaT   \n",
       "\n",
       "   gross_amount  \n",
       "0           NaN  \n",
       "1           NaN  \n",
       "2           NaN  \n",
       "3           NaN  \n",
       "4           NaN  \n",
       "\n",
       "[5 rows x 34 columns]"
      ]
     },
     "execution_count": 29,
     "metadata": {},
     "output_type": "execute_result"
    }
   ],
   "source": [
    "match_2.head()"
   ]
  },
  {
   "cell_type": "code",
   "execution_count": 30,
   "metadata": {},
   "outputs": [
    {
     "data": {
      "text/plain": [
       "(9, 34)"
      ]
     },
     "execution_count": 30,
     "metadata": {},
     "output_type": "execute_result"
    }
   ],
   "source": [
    "match.shape"
   ]
  },
  {
   "cell_type": "code",
   "execution_count": 31,
   "metadata": {},
   "outputs": [
    {
     "data": {
      "text/plain": [
       "(9, 34)"
      ]
     },
     "execution_count": 31,
     "metadata": {},
     "output_type": "execute_result"
    }
   ],
   "source": [
    "match_2.shape"
   ]
  },
  {
   "cell_type": "code",
   "execution_count": null,
   "metadata": {},
   "outputs": [],
   "source": [
    "match_final = match[['merchant_id','transaction_id','status_code','order_id_y','order_id_xpay',\n",
    "                     'affiliation_sftp','transaction_date','transaction_type','deposit_date','gross_amount']]"
   ]
  },
  {
   "cell_type": "code",
   "execution_count": null,
   "metadata": {},
   "outputs": [],
   "source": [
    "match_final_2 = match_2[['merchant_id','transaction_id','status_code','order_id_y','order_id_xpay',\n",
    "                     'affiliation_sftp','transaction_date','transaction_type','deposit_date','gross_amount']]"
   ]
  },
  {
   "cell_type": "code",
   "execution_count": null,
   "metadata": {},
   "outputs": [],
   "source": [
    "writer = pd.ExcelWriter('DATA FINAL DISPUTAS 2022.01.31-2.xlsx',\n",
    "                        engine='xlsxwriter',\n",
    "                        engine_kwargs={'options': {'encoding':'utf-8'}})\n",
    "match_final.to_excel(writer, sheet_name='MATCH_FINAL', index=False)\n",
    "match_final_2.to_excel(writer, sheet_name='MATCH_FINAL_2', index=False)\n",
    "match.to_excel(writer, sheet_name='MATCH', index=False)\n",
    "match_2.to_excel(writer, sheet_name='MATCH_2', index=False)\n",
    "writer.close()"
   ]
  },
  {
   "cell_type": "code",
   "execution_count": null,
   "metadata": {},
   "outputs": [],
   "source": []
  }
 ],
 "metadata": {
  "kernelspec": {
   "display_name": "Python 3 (ipykernel)",
   "language": "python",
   "name": "python3"
  },
  "language_info": {
   "codemirror_mode": {
    "name": "ipython",
    "version": 3
   },
   "file_extension": ".py",
   "mimetype": "text/x-python",
   "name": "python",
   "nbconvert_exporter": "python",
   "pygments_lexer": "ipython3",
   "version": "3.8.13"
  }
 },
 "nbformat": 4,
 "nbformat_minor": 2
}
