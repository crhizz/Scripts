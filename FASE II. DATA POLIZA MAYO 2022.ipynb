{
 "cells": [
  {
   "cell_type": "code",
   "execution_count": 1,
   "metadata": {},
   "outputs": [
    {
     "data": {
      "text/plain": [
       "datetime.timedelta(days=1)"
      ]
     },
     "execution_count": 1,
     "metadata": {},
     "output_type": "execute_result"
    }
   ],
   "source": [
    "import pandas as pd\n",
    "import numpy as np\n",
    "from openpyxl import load_workbook\n",
    "import glob\n",
    "import os\n",
    "import datetime\n",
    "pd.options.display.float_format = '{:,.2f}'.format\n",
    "datetime.timedelta(days=1)\n",
    "datetime.timedelta(1)"
   ]
  },
  {
   "cell_type": "code",
   "execution_count": 2,
   "metadata": {},
   "outputs": [
    {
     "data": {
      "text/plain": [
       "['C:\\\\Users\\\\Cristian.Aparicio\\\\Documents\\\\POLIZAS\\\\2022\\\\05. MAYO\\\\DATA\\\\ADJUSTMENTS MAYO 2022.csv']"
      ]
     },
     "execution_count": 2,
     "metadata": {},
     "output_type": "execute_result"
    }
   ],
   "source": [
    "allfiles_adj = glob.glob(r'C:\\Users\\Cristian.Aparicio\\Documents\\POLIZAS\\2022\\05. MAYO\\DATA\\ADJ*.csv', recursive=False)\n",
    "allfiles_adj"
   ]
  },
  {
   "cell_type": "code",
   "execution_count": 3,
   "metadata": {},
   "outputs": [
    {
     "data": {
      "text/plain": [
       "['C:\\\\Users\\\\Cristian.Aparicio\\\\Documents\\\\POLIZAS\\\\2022\\\\05. MAYO\\\\DATA\\\\RETENCIONES MAYO 2022.csv']"
      ]
     },
     "execution_count": 3,
     "metadata": {},
     "output_type": "execute_result"
    }
   ],
   "source": [
    "allfiles_ret = glob.glob(r'C:\\Users\\Cristian.Aparicio\\Documents\\POLIZAS\\2022\\05. MAYO\\DATA\\RET*.csv', recursive=False)\n",
    "allfiles_ret"
   ]
  },
  {
   "cell_type": "code",
   "execution_count": 4,
   "metadata": {},
   "outputs": [
    {
     "data": {
      "text/plain": [
       "['C:\\\\Users\\\\Cristian.Aparicio\\\\Documents\\\\POLIZAS\\\\2022\\\\05. MAYO\\\\DATA\\\\LIBERACIONES MAYO 2022.csv']"
      ]
     },
     "execution_count": 4,
     "metadata": {},
     "output_type": "execute_result"
    }
   ],
   "source": [
    "allfiles_lib = glob.glob(r'C:\\Users\\Cristian.Aparicio\\Documents\\POLIZAS\\2022\\05. MAYO\\DATA\\LIB*.csv', recursive=False)\n",
    "allfiles_lib"
   ]
  },
  {
   "cell_type": "code",
   "execution_count": 5,
   "metadata": {},
   "outputs": [
    {
     "data": {
      "text/plain": [
       "['G:\\\\My Drive\\\\3.-Settlement\\\\5.-HISTORICO FILES PAGOS\\\\01. TRADICIONAL\\\\2022\\\\05. MAY\\\\MONTOS EMAIL\\\\DIFF MONTOS 2022-04-30.csv',\n",
       " 'G:\\\\My Drive\\\\3.-Settlement\\\\5.-HISTORICO FILES PAGOS\\\\01. TRADICIONAL\\\\2022\\\\05. MAY\\\\MONTOS EMAIL\\\\DIFF MONTOS 2022-05-01.csv',\n",
       " 'G:\\\\My Drive\\\\3.-Settlement\\\\5.-HISTORICO FILES PAGOS\\\\01. TRADICIONAL\\\\2022\\\\05. MAY\\\\MONTOS EMAIL\\\\DIFF MONTOS 2022-05-02.csv',\n",
       " 'G:\\\\My Drive\\\\3.-Settlement\\\\5.-HISTORICO FILES PAGOS\\\\01. TRADICIONAL\\\\2022\\\\05. MAY\\\\MONTOS EMAIL\\\\DIFF MONTOS 2022-05-03.csv',\n",
       " 'G:\\\\My Drive\\\\3.-Settlement\\\\5.-HISTORICO FILES PAGOS\\\\01. TRADICIONAL\\\\2022\\\\05. MAY\\\\MONTOS EMAIL\\\\DIFF MONTOS 2022-05-04.csv',\n",
       " 'G:\\\\My Drive\\\\3.-Settlement\\\\5.-HISTORICO FILES PAGOS\\\\01. TRADICIONAL\\\\2022\\\\05. MAY\\\\MONTOS EMAIL\\\\DIFF MONTOS 2022-05-05.csv',\n",
       " 'G:\\\\My Drive\\\\3.-Settlement\\\\5.-HISTORICO FILES PAGOS\\\\01. TRADICIONAL\\\\2022\\\\05. MAY\\\\MONTOS EMAIL\\\\DIFF MONTOS 2022-05-06.csv',\n",
       " 'G:\\\\My Drive\\\\3.-Settlement\\\\5.-HISTORICO FILES PAGOS\\\\01. TRADICIONAL\\\\2022\\\\05. MAY\\\\MONTOS EMAIL\\\\DIFF MONTOS 2022-05-07.csv',\n",
       " 'G:\\\\My Drive\\\\3.-Settlement\\\\5.-HISTORICO FILES PAGOS\\\\01. TRADICIONAL\\\\2022\\\\05. MAY\\\\MONTOS EMAIL\\\\DIFF MONTOS 2022-05-08.csv',\n",
       " 'G:\\\\My Drive\\\\3.-Settlement\\\\5.-HISTORICO FILES PAGOS\\\\01. TRADICIONAL\\\\2022\\\\05. MAY\\\\MONTOS EMAIL\\\\DIFF MONTOS 2022-05-09.csv',\n",
       " 'G:\\\\My Drive\\\\3.-Settlement\\\\5.-HISTORICO FILES PAGOS\\\\01. TRADICIONAL\\\\2022\\\\05. MAY\\\\MONTOS EMAIL\\\\DIFF MONTOS 2022-05-10.csv',\n",
       " 'G:\\\\My Drive\\\\3.-Settlement\\\\5.-HISTORICO FILES PAGOS\\\\01. TRADICIONAL\\\\2022\\\\05. MAY\\\\MONTOS EMAIL\\\\DIFF MONTOS 2022-05-11.csv',\n",
       " 'G:\\\\My Drive\\\\3.-Settlement\\\\5.-HISTORICO FILES PAGOS\\\\01. TRADICIONAL\\\\2022\\\\05. MAY\\\\MONTOS EMAIL\\\\DIFF MONTOS 2022-05-12.csv',\n",
       " 'G:\\\\My Drive\\\\3.-Settlement\\\\5.-HISTORICO FILES PAGOS\\\\01. TRADICIONAL\\\\2022\\\\05. MAY\\\\MONTOS EMAIL\\\\DIFF MONTOS 2022-05-13.csv',\n",
       " 'G:\\\\My Drive\\\\3.-Settlement\\\\5.-HISTORICO FILES PAGOS\\\\01. TRADICIONAL\\\\2022\\\\05. MAY\\\\MONTOS EMAIL\\\\DIFF MONTOS 2022-05-14.csv',\n",
       " 'G:\\\\My Drive\\\\3.-Settlement\\\\5.-HISTORICO FILES PAGOS\\\\01. TRADICIONAL\\\\2022\\\\05. MAY\\\\MONTOS EMAIL\\\\DIFF MONTOS 2022-05-15.csv',\n",
       " 'G:\\\\My Drive\\\\3.-Settlement\\\\5.-HISTORICO FILES PAGOS\\\\01. TRADICIONAL\\\\2022\\\\05. MAY\\\\MONTOS EMAIL\\\\DIFF MONTOS 2022-05-16.csv',\n",
       " 'G:\\\\My Drive\\\\3.-Settlement\\\\5.-HISTORICO FILES PAGOS\\\\01. TRADICIONAL\\\\2022\\\\05. MAY\\\\MONTOS EMAIL\\\\DIFF MONTOS 2022-05-17.csv',\n",
       " 'G:\\\\My Drive\\\\3.-Settlement\\\\5.-HISTORICO FILES PAGOS\\\\01. TRADICIONAL\\\\2022\\\\05. MAY\\\\MONTOS EMAIL\\\\DIFF MONTOS 2022-05-18.csv',\n",
       " 'G:\\\\My Drive\\\\3.-Settlement\\\\5.-HISTORICO FILES PAGOS\\\\01. TRADICIONAL\\\\2022\\\\05. MAY\\\\MONTOS EMAIL\\\\DIFF MONTOS 2022-05-19.csv',\n",
       " 'G:\\\\My Drive\\\\3.-Settlement\\\\5.-HISTORICO FILES PAGOS\\\\01. TRADICIONAL\\\\2022\\\\05. MAY\\\\MONTOS EMAIL\\\\DIFF MONTOS 2022-05-20.csv',\n",
       " 'G:\\\\My Drive\\\\3.-Settlement\\\\5.-HISTORICO FILES PAGOS\\\\01. TRADICIONAL\\\\2022\\\\05. MAY\\\\MONTOS EMAIL\\\\DIFF MONTOS 2022-05-21.csv',\n",
       " 'G:\\\\My Drive\\\\3.-Settlement\\\\5.-HISTORICO FILES PAGOS\\\\01. TRADICIONAL\\\\2022\\\\05. MAY\\\\MONTOS EMAIL\\\\DIFF MONTOS 2022-05-22.csv',\n",
       " 'G:\\\\My Drive\\\\3.-Settlement\\\\5.-HISTORICO FILES PAGOS\\\\01. TRADICIONAL\\\\2022\\\\05. MAY\\\\MONTOS EMAIL\\\\DIFF MONTOS 2022-05-23.csv',\n",
       " 'G:\\\\My Drive\\\\3.-Settlement\\\\5.-HISTORICO FILES PAGOS\\\\01. TRADICIONAL\\\\2022\\\\05. MAY\\\\MONTOS EMAIL\\\\DIFF MONTOS 2022-05-24.csv',\n",
       " 'G:\\\\My Drive\\\\3.-Settlement\\\\5.-HISTORICO FILES PAGOS\\\\01. TRADICIONAL\\\\2022\\\\05. MAY\\\\MONTOS EMAIL\\\\DIFF MONTOS 2022-05-25.csv',\n",
       " 'G:\\\\My Drive\\\\3.-Settlement\\\\5.-HISTORICO FILES PAGOS\\\\01. TRADICIONAL\\\\2022\\\\05. MAY\\\\MONTOS EMAIL\\\\DIFF MONTOS 2022-05-26.csv',\n",
       " 'G:\\\\My Drive\\\\3.-Settlement\\\\5.-HISTORICO FILES PAGOS\\\\01. TRADICIONAL\\\\2022\\\\05. MAY\\\\MONTOS EMAIL\\\\DIFF MONTOS 2022-05-27.csv',\n",
       " 'G:\\\\My Drive\\\\3.-Settlement\\\\5.-HISTORICO FILES PAGOS\\\\01. TRADICIONAL\\\\2022\\\\05. MAY\\\\MONTOS EMAIL\\\\DIFF MONTOS 2022-05-28.csv',\n",
       " 'G:\\\\My Drive\\\\3.-Settlement\\\\5.-HISTORICO FILES PAGOS\\\\01. TRADICIONAL\\\\2022\\\\05. MAY\\\\MONTOS EMAIL\\\\DIFF MONTOS 2022-05-29.csv',\n",
       " 'G:\\\\My Drive\\\\3.-Settlement\\\\5.-HISTORICO FILES PAGOS\\\\01. TRADICIONAL\\\\2022\\\\05. MAY\\\\MONTOS EMAIL\\\\DIFF MONTOS 2022-05-30.csv',\n",
       " 'G:\\\\My Drive\\\\3.-Settlement\\\\5.-HISTORICO FILES PAGOS\\\\01. TRADICIONAL\\\\2022\\\\05. MAY\\\\MONTOS EMAIL\\\\DIFF MONTOS 2022-05-31.csv',\n",
       " 'G:\\\\My Drive\\\\3.-Settlement\\\\5.-HISTORICO FILES PAGOS\\\\01. TRADICIONAL\\\\2022\\\\05. MAY\\\\MONTOS EMAIL\\\\DIFF MONTOS-2 2022-04-30.csv']"
      ]
     },
     "execution_count": 5,
     "metadata": {},
     "output_type": "execute_result"
    }
   ],
   "source": [
    "allfiles_com = sorted(glob.glob(r'G:\\My Drive\\3.-Settlement\\5.-HISTORICO FILES PAGOS\\01. TRADICIONAL\\2022\\05. MAY\\MONTOS EMAIL\\*.csv', recursive=False))\n",
    "allfiles_com"
   ]
  },
  {
   "cell_type": "code",
   "execution_count": 6,
   "metadata": {},
   "outputs": [
    {
     "data": {
      "text/plain": [
       "['G:\\\\My Drive\\\\RESPALDO-PC\\\\LENDERS\\\\2022\\\\DB\\\\LENDERS DB ABRIL 2022.csv',\n",
       " 'G:\\\\My Drive\\\\RESPALDO-PC\\\\LENDERS\\\\2022\\\\DB\\\\LENDERS DB MAYO 2022.csv']"
      ]
     },
     "execution_count": 6,
     "metadata": {},
     "output_type": "execute_result"
    }
   ],
   "source": [
    "allfiles_lender = glob.glob(r'G:\\My Drive\\RESPALDO-PC\\LENDERS\\2022\\DB\\LEN*.csv', recursive=False)\n",
    "allfiles_lender"
   ]
  },
  {
   "cell_type": "code",
   "execution_count": 7,
   "metadata": {},
   "outputs": [],
   "source": [
    "start_date = '2022-05-27'\n",
    "final_date = '2022-05-31'"
   ]
  },
  {
   "cell_type": "markdown",
   "metadata": {},
   "source": [
    "# ADJUSTMENTS"
   ]
  },
  {
   "cell_type": "code",
   "execution_count": 8,
   "metadata": {},
   "outputs": [
    {
     "data": {
      "text/html": [
       "<div>\n",
       "<style scoped>\n",
       "    .dataframe tbody tr th:only-of-type {\n",
       "        vertical-align: middle;\n",
       "    }\n",
       "\n",
       "    .dataframe tbody tr th {\n",
       "        vertical-align: top;\n",
       "    }\n",
       "\n",
       "    .dataframe thead th {\n",
       "        text-align: right;\n",
       "    }\n",
       "</style>\n",
       "<table border=\"1\" class=\"dataframe\">\n",
       "  <thead>\n",
       "    <tr style=\"text-align: right;\">\n",
       "      <th></th>\n",
       "      <th>report_id</th>\n",
       "      <th>report_date_local</th>\n",
       "      <th>adjustment_date_local</th>\n",
       "      <th>adjustment_type</th>\n",
       "      <th>adjustment_amount</th>\n",
       "      <th>fees_charged</th>\n",
       "      <th>taxes</th>\n",
       "      <th>amount_due</th>\n",
       "      <th>type</th>\n",
       "      <th>date</th>\n",
       "      <th>file_name</th>\n",
       "    </tr>\n",
       "  </thead>\n",
       "  <tbody>\n",
       "    <tr>\n",
       "      <th>0</th>\n",
       "      <td>XV2ZGT4DM</td>\n",
       "      <td>2022-04-30</td>\n",
       "      <td>2022-04-30</td>\n",
       "      <td>LOAN</td>\n",
       "      <td>-430.41</td>\n",
       "      <td>0.00</td>\n",
       "      <td>0.00</td>\n",
       "      <td>-430.41</td>\n",
       "      <td>DAILY</td>\n",
       "      <td>2022-04-30</td>\n",
       "      <td>ADJUSTMENTS MAYO 2022.csv</td>\n",
       "    </tr>\n",
       "    <tr>\n",
       "      <th>1</th>\n",
       "      <td>S7LT72KLN</td>\n",
       "      <td>2022-04-30</td>\n",
       "      <td>2022-04-30</td>\n",
       "      <td>LOAN</td>\n",
       "      <td>-1,987.01</td>\n",
       "      <td>0.00</td>\n",
       "      <td>0.00</td>\n",
       "      <td>-1,987.01</td>\n",
       "      <td>DAILY</td>\n",
       "      <td>2022-04-30</td>\n",
       "      <td>ADJUSTMENTS MAYO 2022.csv</td>\n",
       "    </tr>\n",
       "    <tr>\n",
       "      <th>2</th>\n",
       "      <td>TQ46LQ73T</td>\n",
       "      <td>2022-04-30</td>\n",
       "      <td>2022-04-30</td>\n",
       "      <td>LOAN</td>\n",
       "      <td>-114.99</td>\n",
       "      <td>0.00</td>\n",
       "      <td>0.00</td>\n",
       "      <td>-114.99</td>\n",
       "      <td>DAILY</td>\n",
       "      <td>2022-04-30</td>\n",
       "      <td>ADJUSTMENTS MAYO 2022.csv</td>\n",
       "    </tr>\n",
       "    <tr>\n",
       "      <th>3</th>\n",
       "      <td>X6H56MS2L</td>\n",
       "      <td>2022-04-30</td>\n",
       "      <td>2022-04-30</td>\n",
       "      <td>LOAN</td>\n",
       "      <td>-21.47</td>\n",
       "      <td>0.00</td>\n",
       "      <td>0.00</td>\n",
       "      <td>-21.47</td>\n",
       "      <td>DAILY</td>\n",
       "      <td>2022-04-30</td>\n",
       "      <td>ADJUSTMENTS MAYO 2022.csv</td>\n",
       "    </tr>\n",
       "    <tr>\n",
       "      <th>4</th>\n",
       "      <td>YDPRRTL3F</td>\n",
       "      <td>2022-04-30</td>\n",
       "      <td>2022-04-30</td>\n",
       "      <td>LOAN</td>\n",
       "      <td>-3,223.77</td>\n",
       "      <td>0.00</td>\n",
       "      <td>0.00</td>\n",
       "      <td>-3,223.77</td>\n",
       "      <td>DAILY</td>\n",
       "      <td>2022-04-30</td>\n",
       "      <td>ADJUSTMENTS MAYO 2022.csv</td>\n",
       "    </tr>\n",
       "  </tbody>\n",
       "</table>\n",
       "</div>"
      ],
      "text/plain": [
       "   report_id report_date_local adjustment_date_local adjustment_type  \\\n",
       "0  XV2ZGT4DM        2022-04-30            2022-04-30            LOAN   \n",
       "1  S7LT72KLN        2022-04-30            2022-04-30            LOAN   \n",
       "2  TQ46LQ73T        2022-04-30            2022-04-30            LOAN   \n",
       "3  X6H56MS2L        2022-04-30            2022-04-30            LOAN   \n",
       "4  YDPRRTL3F        2022-04-30            2022-04-30            LOAN   \n",
       "\n",
       "   adjustment_amount  fees_charged  taxes  amount_due   type        date  \\\n",
       "0            -430.41          0.00   0.00     -430.41  DAILY  2022-04-30   \n",
       "1          -1,987.01          0.00   0.00   -1,987.01  DAILY  2022-04-30   \n",
       "2            -114.99          0.00   0.00     -114.99  DAILY  2022-04-30   \n",
       "3             -21.47          0.00   0.00      -21.47  DAILY  2022-04-30   \n",
       "4          -3,223.77          0.00   0.00   -3,223.77  DAILY  2022-04-30   \n",
       "\n",
       "                   file_name  \n",
       "0  ADJUSTMENTS MAYO 2022.csv  \n",
       "1  ADJUSTMENTS MAYO 2022.csv  \n",
       "2  ADJUSTMENTS MAYO 2022.csv  \n",
       "3  ADJUSTMENTS MAYO 2022.csv  \n",
       "4  ADJUSTMENTS MAYO 2022.csv  "
      ]
     },
     "execution_count": 8,
     "metadata": {},
     "output_type": "execute_result"
    }
   ],
   "source": [
    "adj_1 = pd.concat([pd.read_csv(f).assign(file_name=os.path.basename(f)) for f in allfiles_adj])\n",
    "adj_1.head()"
   ]
  },
  {
   "cell_type": "code",
   "execution_count": 9,
   "metadata": {},
   "outputs": [
    {
     "data": {
      "text/plain": [
       "(74290, 11)"
      ]
     },
     "execution_count": 9,
     "metadata": {},
     "output_type": "execute_result"
    }
   ],
   "source": [
    "adj_1.shape"
   ]
  },
  {
   "cell_type": "markdown",
   "metadata": {},
   "source": [
    "### CURRENT DATES"
   ]
  },
  {
   "cell_type": "code",
   "execution_count": 10,
   "metadata": {},
   "outputs": [
    {
     "data": {
      "text/html": [
       "<div>\n",
       "<style scoped>\n",
       "    .dataframe tbody tr th:only-of-type {\n",
       "        vertical-align: middle;\n",
       "    }\n",
       "\n",
       "    .dataframe tbody tr th {\n",
       "        vertical-align: top;\n",
       "    }\n",
       "\n",
       "    .dataframe thead th {\n",
       "        text-align: right;\n",
       "    }\n",
       "</style>\n",
       "<table border=\"1\" class=\"dataframe\">\n",
       "  <thead>\n",
       "    <tr style=\"text-align: right;\">\n",
       "      <th></th>\n",
       "      <th>report_id</th>\n",
       "      <th>report_date_local</th>\n",
       "      <th>adjustment_date_local</th>\n",
       "      <th>adjustment_type</th>\n",
       "      <th>adjustment_amount</th>\n",
       "      <th>fees_charged</th>\n",
       "      <th>taxes</th>\n",
       "      <th>amount_due</th>\n",
       "      <th>type</th>\n",
       "      <th>date</th>\n",
       "      <th>file_name</th>\n",
       "    </tr>\n",
       "  </thead>\n",
       "  <tbody>\n",
       "    <tr>\n",
       "      <th>62459</th>\n",
       "      <td>XXBL2KV5D</td>\n",
       "      <td>2022-05-27</td>\n",
       "      <td>2022-05-27</td>\n",
       "      <td>LOAN</td>\n",
       "      <td>-111.68</td>\n",
       "      <td>0.00</td>\n",
       "      <td>0.00</td>\n",
       "      <td>-111.68</td>\n",
       "      <td>DAILY</td>\n",
       "      <td>2022-05-27</td>\n",
       "      <td>ADJUSTMENTS MAYO 2022.csv</td>\n",
       "    </tr>\n",
       "    <tr>\n",
       "      <th>62460</th>\n",
       "      <td>KNLL78VGF</td>\n",
       "      <td>2022-05-27</td>\n",
       "      <td>2022-05-27</td>\n",
       "      <td>LOAN</td>\n",
       "      <td>-211.20</td>\n",
       "      <td>0.00</td>\n",
       "      <td>0.00</td>\n",
       "      <td>-211.20</td>\n",
       "      <td>DAILY</td>\n",
       "      <td>2022-05-27</td>\n",
       "      <td>ADJUSTMENTS MAYO 2022.csv</td>\n",
       "    </tr>\n",
       "    <tr>\n",
       "      <th>62461</th>\n",
       "      <td>3PNN3DTR8</td>\n",
       "      <td>2022-05-27</td>\n",
       "      <td>2022-05-27</td>\n",
       "      <td>LOAN</td>\n",
       "      <td>-687.99</td>\n",
       "      <td>0.00</td>\n",
       "      <td>0.00</td>\n",
       "      <td>-687.99</td>\n",
       "      <td>DAILY</td>\n",
       "      <td>2022-05-27</td>\n",
       "      <td>ADJUSTMENTS MAYO 2022.csv</td>\n",
       "    </tr>\n",
       "    <tr>\n",
       "      <th>62462</th>\n",
       "      <td>GY94R3TDY</td>\n",
       "      <td>2022-05-27</td>\n",
       "      <td>2022-05-27</td>\n",
       "      <td>LOAN</td>\n",
       "      <td>-5.40</td>\n",
       "      <td>0.00</td>\n",
       "      <td>0.00</td>\n",
       "      <td>-5.40</td>\n",
       "      <td>DAILY</td>\n",
       "      <td>2022-05-27</td>\n",
       "      <td>ADJUSTMENTS MAYO 2022.csv</td>\n",
       "    </tr>\n",
       "    <tr>\n",
       "      <th>62463</th>\n",
       "      <td>SGWGFM9TD</td>\n",
       "      <td>2022-05-27</td>\n",
       "      <td>2022-05-27</td>\n",
       "      <td>LOAN</td>\n",
       "      <td>-109.24</td>\n",
       "      <td>0.00</td>\n",
       "      <td>0.00</td>\n",
       "      <td>-109.24</td>\n",
       "      <td>DAILY</td>\n",
       "      <td>2022-05-27</td>\n",
       "      <td>ADJUSTMENTS MAYO 2022.csv</td>\n",
       "    </tr>\n",
       "  </tbody>\n",
       "</table>\n",
       "</div>"
      ],
      "text/plain": [
       "       report_id report_date_local adjustment_date_local adjustment_type  \\\n",
       "62459  XXBL2KV5D        2022-05-27            2022-05-27            LOAN   \n",
       "62460  KNLL78VGF        2022-05-27            2022-05-27            LOAN   \n",
       "62461  3PNN3DTR8        2022-05-27            2022-05-27            LOAN   \n",
       "62462  GY94R3TDY        2022-05-27            2022-05-27            LOAN   \n",
       "62463  SGWGFM9TD        2022-05-27            2022-05-27            LOAN   \n",
       "\n",
       "       adjustment_amount  fees_charged  taxes  amount_due   type        date  \\\n",
       "62459            -111.68          0.00   0.00     -111.68  DAILY  2022-05-27   \n",
       "62460            -211.20          0.00   0.00     -211.20  DAILY  2022-05-27   \n",
       "62461            -687.99          0.00   0.00     -687.99  DAILY  2022-05-27   \n",
       "62462              -5.40          0.00   0.00       -5.40  DAILY  2022-05-27   \n",
       "62463            -109.24          0.00   0.00     -109.24  DAILY  2022-05-27   \n",
       "\n",
       "                       file_name  \n",
       "62459  ADJUSTMENTS MAYO 2022.csv  \n",
       "62460  ADJUSTMENTS MAYO 2022.csv  \n",
       "62461  ADJUSTMENTS MAYO 2022.csv  \n",
       "62462  ADJUSTMENTS MAYO 2022.csv  \n",
       "62463  ADJUSTMENTS MAYO 2022.csv  "
      ]
     },
     "execution_count": 10,
     "metadata": {},
     "output_type": "execute_result"
    }
   ],
   "source": [
    "adj_current_month = adj_1[(adj_1['date'] >= start_date) & (adj_1['date'] <= final_date)]\n",
    "adj_current_month.head()"
   ]
  },
  {
   "cell_type": "code",
   "execution_count": 11,
   "metadata": {},
   "outputs": [
    {
     "data": {
      "text/plain": [
       "(11831, 11)"
      ]
     },
     "execution_count": 11,
     "metadata": {},
     "output_type": "execute_result"
    }
   ],
   "source": [
    "adj_current_month.shape"
   ]
  },
  {
   "cell_type": "markdown",
   "metadata": {},
   "source": [
    "### PIVOT"
   ]
  },
  {
   "cell_type": "code",
   "execution_count": 12,
   "metadata": {},
   "outputs": [
    {
     "data": {
      "text/html": [
       "<div>\n",
       "<style scoped>\n",
       "    .dataframe tbody tr th:only-of-type {\n",
       "        vertical-align: middle;\n",
       "    }\n",
       "\n",
       "    .dataframe tbody tr th {\n",
       "        vertical-align: top;\n",
       "    }\n",
       "\n",
       "    .dataframe thead th {\n",
       "        text-align: right;\n",
       "    }\n",
       "</style>\n",
       "<table border=\"1\" class=\"dataframe\">\n",
       "  <thead>\n",
       "    <tr style=\"text-align: right;\">\n",
       "      <th></th>\n",
       "      <th>type</th>\n",
       "      <th>adjustment_type</th>\n",
       "      <th>date</th>\n",
       "      <th>adjustment_amount</th>\n",
       "      <th>fees_charged</th>\n",
       "      <th>taxes</th>\n",
       "      <th>amount_due</th>\n",
       "    </tr>\n",
       "  </thead>\n",
       "  <tbody>\n",
       "    <tr>\n",
       "      <th>0</th>\n",
       "      <td>DAILY</td>\n",
       "      <td>CANCELED_TRANSACTION</td>\n",
       "      <td>2022-05-27</td>\n",
       "      <td>19,000.00</td>\n",
       "      <td>684.00</td>\n",
       "      <td>109.44</td>\n",
       "      <td>18,206.56</td>\n",
       "    </tr>\n",
       "    <tr>\n",
       "      <th>1</th>\n",
       "      <td>DAILY</td>\n",
       "      <td>CANCELED_TRANSACTION</td>\n",
       "      <td>2022-05-31</td>\n",
       "      <td>108,105.00</td>\n",
       "      <td>3,891.78</td>\n",
       "      <td>622.69</td>\n",
       "      <td>103,590.53</td>\n",
       "    </tr>\n",
       "    <tr>\n",
       "      <th>2</th>\n",
       "      <td>DAILY</td>\n",
       "      <td>LOAN</td>\n",
       "      <td>2022-05-27</td>\n",
       "      <td>1,056,725.58</td>\n",
       "      <td>-0.00</td>\n",
       "      <td>-0.00</td>\n",
       "      <td>1,056,725.58</td>\n",
       "    </tr>\n",
       "    <tr>\n",
       "      <th>3</th>\n",
       "      <td>DAILY</td>\n",
       "      <td>LOAN</td>\n",
       "      <td>2022-05-28</td>\n",
       "      <td>1,428,459.29</td>\n",
       "      <td>-0.00</td>\n",
       "      <td>-0.00</td>\n",
       "      <td>1,428,459.29</td>\n",
       "    </tr>\n",
       "    <tr>\n",
       "      <th>4</th>\n",
       "      <td>DAILY</td>\n",
       "      <td>LOAN</td>\n",
       "      <td>2022-05-29</td>\n",
       "      <td>1,454,805.68</td>\n",
       "      <td>-0.00</td>\n",
       "      <td>-0.00</td>\n",
       "      <td>1,454,805.68</td>\n",
       "    </tr>\n",
       "  </tbody>\n",
       "</table>\n",
       "</div>"
      ],
      "text/plain": [
       "    type       adjustment_type        date  adjustment_amount  fees_charged  \\\n",
       "0  DAILY  CANCELED_TRANSACTION  2022-05-27          19,000.00        684.00   \n",
       "1  DAILY  CANCELED_TRANSACTION  2022-05-31         108,105.00      3,891.78   \n",
       "2  DAILY                  LOAN  2022-05-27       1,056,725.58         -0.00   \n",
       "3  DAILY                  LOAN  2022-05-28       1,428,459.29         -0.00   \n",
       "4  DAILY                  LOAN  2022-05-29       1,454,805.68         -0.00   \n",
       "\n",
       "   taxes   amount_due  \n",
       "0 109.44    18,206.56  \n",
       "1 622.69   103,590.53  \n",
       "2  -0.00 1,056,725.58  \n",
       "3  -0.00 1,428,459.29  \n",
       "4  -0.00 1,454,805.68  "
      ]
     },
     "execution_count": 12,
     "metadata": {},
     "output_type": "execute_result"
    }
   ],
   "source": [
    "adj_pivot = adj_current_month.groupby(['type','adjustment_type','date']).agg({'adjustment_amount':sum\n",
    "                                                                                ,'fees_charged':sum \n",
    "                                                                                ,'taxes':sum\n",
    "                                                                                ,'amount_due':sum}).reset_index()\n",
    "adj_pivot['adjustment_amount'] = adj_pivot['adjustment_amount']*-1 \n",
    "adj_pivot['fees_charged'] = adj_pivot['fees_charged']*-1\n",
    "adj_pivot['taxes'] = adj_pivot['taxes']*-1 \n",
    "adj_pivot['amount_due'] = adj_pivot['amount_due']*-1 \n",
    "adj_pivot.head()"
   ]
  },
  {
   "cell_type": "code",
   "execution_count": 13,
   "metadata": {},
   "outputs": [
    {
     "data": {
      "text/html": [
       "<div>\n",
       "<style scoped>\n",
       "    .dataframe tbody tr th:only-of-type {\n",
       "        vertical-align: middle;\n",
       "    }\n",
       "\n",
       "    .dataframe tbody tr th {\n",
       "        vertical-align: top;\n",
       "    }\n",
       "\n",
       "    .dataframe thead tr th {\n",
       "        text-align: left;\n",
       "    }\n",
       "\n",
       "    .dataframe thead tr:last-of-type th {\n",
       "        text-align: right;\n",
       "    }\n",
       "</style>\n",
       "<table border=\"1\" class=\"dataframe\">\n",
       "  <thead>\n",
       "    <tr>\n",
       "      <th></th>\n",
       "      <th></th>\n",
       "      <th colspan=\"3\" halign=\"left\">adjustment_amount</th>\n",
       "      <th colspan=\"3\" halign=\"left\">amount_due</th>\n",
       "      <th colspan=\"3\" halign=\"left\">fees_charged</th>\n",
       "      <th colspan=\"3\" halign=\"left\">taxes</th>\n",
       "    </tr>\n",
       "    <tr>\n",
       "      <th></th>\n",
       "      <th>adjustment_type</th>\n",
       "      <th>CANCELED_TRANSACTION</th>\n",
       "      <th>LOAN</th>\n",
       "      <th>All</th>\n",
       "      <th>CANCELED_TRANSACTION</th>\n",
       "      <th>LOAN</th>\n",
       "      <th>All</th>\n",
       "      <th>CANCELED_TRANSACTION</th>\n",
       "      <th>LOAN</th>\n",
       "      <th>All</th>\n",
       "      <th>CANCELED_TRANSACTION</th>\n",
       "      <th>LOAN</th>\n",
       "      <th>All</th>\n",
       "    </tr>\n",
       "    <tr>\n",
       "      <th>type</th>\n",
       "      <th>date</th>\n",
       "      <th></th>\n",
       "      <th></th>\n",
       "      <th></th>\n",
       "      <th></th>\n",
       "      <th></th>\n",
       "      <th></th>\n",
       "      <th></th>\n",
       "      <th></th>\n",
       "      <th></th>\n",
       "      <th></th>\n",
       "      <th></th>\n",
       "      <th></th>\n",
       "    </tr>\n",
       "  </thead>\n",
       "  <tbody>\n",
       "    <tr>\n",
       "      <th rowspan=\"5\" valign=\"top\">DAILY</th>\n",
       "      <th>2022-05-27</th>\n",
       "      <td>-19,000.00</td>\n",
       "      <td>-1,056,725.58</td>\n",
       "      <td>-1,075,725.58</td>\n",
       "      <td>-18,206.56</td>\n",
       "      <td>-1,056,725.58</td>\n",
       "      <td>-1,074,932.14</td>\n",
       "      <td>-684.00</td>\n",
       "      <td>0.00</td>\n",
       "      <td>-684.00</td>\n",
       "      <td>-109.44</td>\n",
       "      <td>0.00</td>\n",
       "      <td>-109.44</td>\n",
       "    </tr>\n",
       "    <tr>\n",
       "      <th>2022-05-28</th>\n",
       "      <td>NaN</td>\n",
       "      <td>-1,428,459.29</td>\n",
       "      <td>-1,428,459.29</td>\n",
       "      <td>NaN</td>\n",
       "      <td>-1,428,459.29</td>\n",
       "      <td>-1,428,459.29</td>\n",
       "      <td>NaN</td>\n",
       "      <td>0.00</td>\n",
       "      <td>0.00</td>\n",
       "      <td>NaN</td>\n",
       "      <td>0.00</td>\n",
       "      <td>0.00</td>\n",
       "    </tr>\n",
       "    <tr>\n",
       "      <th>2022-05-29</th>\n",
       "      <td>NaN</td>\n",
       "      <td>-1,454,805.68</td>\n",
       "      <td>-1,454,805.68</td>\n",
       "      <td>NaN</td>\n",
       "      <td>-1,454,805.68</td>\n",
       "      <td>-1,454,805.68</td>\n",
       "      <td>NaN</td>\n",
       "      <td>0.00</td>\n",
       "      <td>0.00</td>\n",
       "      <td>NaN</td>\n",
       "      <td>0.00</td>\n",
       "      <td>0.00</td>\n",
       "    </tr>\n",
       "    <tr>\n",
       "      <th>2022-05-30</th>\n",
       "      <td>NaN</td>\n",
       "      <td>-1,055,233.82</td>\n",
       "      <td>-1,055,233.82</td>\n",
       "      <td>NaN</td>\n",
       "      <td>-1,055,233.82</td>\n",
       "      <td>-1,055,233.82</td>\n",
       "      <td>NaN</td>\n",
       "      <td>0.00</td>\n",
       "      <td>0.00</td>\n",
       "      <td>NaN</td>\n",
       "      <td>0.00</td>\n",
       "      <td>0.00</td>\n",
       "    </tr>\n",
       "    <tr>\n",
       "      <th>2022-05-31</th>\n",
       "      <td>-108,105.00</td>\n",
       "      <td>-885,986.73</td>\n",
       "      <td>-994,091.73</td>\n",
       "      <td>-103,590.53</td>\n",
       "      <td>-885,986.73</td>\n",
       "      <td>-989,577.26</td>\n",
       "      <td>-3,891.78</td>\n",
       "      <td>0.00</td>\n",
       "      <td>-3,891.78</td>\n",
       "      <td>-622.69</td>\n",
       "      <td>0.00</td>\n",
       "      <td>-622.69</td>\n",
       "    </tr>\n",
       "  </tbody>\n",
       "</table>\n",
       "</div>"
      ],
      "text/plain": [
       "                    adjustment_amount                              \\\n",
       "adjustment_type  CANCELED_TRANSACTION          LOAN           All   \n",
       "type  date                                                          \n",
       "DAILY 2022-05-27           -19,000.00 -1,056,725.58 -1,075,725.58   \n",
       "      2022-05-28                  NaN -1,428,459.29 -1,428,459.29   \n",
       "      2022-05-29                  NaN -1,454,805.68 -1,454,805.68   \n",
       "      2022-05-30                  NaN -1,055,233.82 -1,055,233.82   \n",
       "      2022-05-31          -108,105.00   -885,986.73   -994,091.73   \n",
       "\n",
       "                           amount_due                              \\\n",
       "adjustment_type  CANCELED_TRANSACTION          LOAN           All   \n",
       "type  date                                                          \n",
       "DAILY 2022-05-27           -18,206.56 -1,056,725.58 -1,074,932.14   \n",
       "      2022-05-28                  NaN -1,428,459.29 -1,428,459.29   \n",
       "      2022-05-29                  NaN -1,454,805.68 -1,454,805.68   \n",
       "      2022-05-30                  NaN -1,055,233.82 -1,055,233.82   \n",
       "      2022-05-31          -103,590.53   -885,986.73   -989,577.26   \n",
       "\n",
       "                         fees_charged                               taxes  \\\n",
       "adjustment_type  CANCELED_TRANSACTION LOAN       All CANCELED_TRANSACTION   \n",
       "type  date                                                                  \n",
       "DAILY 2022-05-27              -684.00 0.00   -684.00              -109.44   \n",
       "      2022-05-28                  NaN 0.00      0.00                  NaN   \n",
       "      2022-05-29                  NaN 0.00      0.00                  NaN   \n",
       "      2022-05-30                  NaN 0.00      0.00                  NaN   \n",
       "      2022-05-31            -3,891.78 0.00 -3,891.78              -622.69   \n",
       "\n",
       "                               \n",
       "adjustment_type  LOAN     All  \n",
       "type  date                     \n",
       "DAILY 2022-05-27 0.00 -109.44  \n",
       "      2022-05-28 0.00    0.00  \n",
       "      2022-05-29 0.00    0.00  \n",
       "      2022-05-30 0.00    0.00  \n",
       "      2022-05-31 0.00 -622.69  "
      ]
     },
     "execution_count": 13,
     "metadata": {},
     "output_type": "execute_result"
    }
   ],
   "source": [
    "adj_pivot_v2 = pd.pivot_table(adj_current_month,index=['type','date']\n",
    "                              ,columns=['adjustment_type']\n",
    "                              ,values=['adjustment_amount','fees_charged','taxes','amount_due']\n",
    "                              ,aggfunc=np.sum,margins=True)\n",
    "adj_pivot_v2.head()"
   ]
  },
  {
   "cell_type": "markdown",
   "metadata": {},
   "source": [
    "# LIBERACIONES"
   ]
  },
  {
   "cell_type": "code",
   "execution_count": 14,
   "metadata": {},
   "outputs": [
    {
     "data": {
      "text/html": [
       "<div>\n",
       "<style scoped>\n",
       "    .dataframe tbody tr th:only-of-type {\n",
       "        vertical-align: middle;\n",
       "    }\n",
       "\n",
       "    .dataframe tbody tr th {\n",
       "        vertical-align: top;\n",
       "    }\n",
       "\n",
       "    .dataframe thead th {\n",
       "        text-align: right;\n",
       "    }\n",
       "</style>\n",
       "<table border=\"1\" class=\"dataframe\">\n",
       "  <thead>\n",
       "    <tr style=\"text-align: right;\">\n",
       "      <th></th>\n",
       "      <th>date_release</th>\n",
       "      <th>report_date_local</th>\n",
       "      <th>retained_date_local</th>\n",
       "      <th>report_id</th>\n",
       "      <th>entry_type</th>\n",
       "      <th>amount</th>\n",
       "      <th>type</th>\n",
       "      <th>file_name</th>\n",
       "    </tr>\n",
       "  </thead>\n",
       "  <tbody>\n",
       "    <tr>\n",
       "      <th>0</th>\n",
       "      <td>2022-04-30</td>\n",
       "      <td>2022-04-30</td>\n",
       "      <td>2022-04-29</td>\n",
       "      <td>DMFRQ2KZ4</td>\n",
       "      <td>LIEN</td>\n",
       "      <td>102,965.88</td>\n",
       "      <td>DAILY</td>\n",
       "      <td>LIBERACIONES MAYO 2022.csv</td>\n",
       "    </tr>\n",
       "    <tr>\n",
       "      <th>1</th>\n",
       "      <td>2022-04-30</td>\n",
       "      <td>2022-04-30</td>\n",
       "      <td>2022-04-24</td>\n",
       "      <td>7T7DS8CKN</td>\n",
       "      <td>LIEN</td>\n",
       "      <td>1,054.06</td>\n",
       "      <td>DAILY</td>\n",
       "      <td>LIBERACIONES MAYO 2022.csv</td>\n",
       "    </tr>\n",
       "    <tr>\n",
       "      <th>2</th>\n",
       "      <td>2022-04-30</td>\n",
       "      <td>2022-04-30</td>\n",
       "      <td>2022-01-19</td>\n",
       "      <td>K7MGTB3LF</td>\n",
       "      <td>LIEN</td>\n",
       "      <td>1,795.54</td>\n",
       "      <td>DAILY</td>\n",
       "      <td>LIBERACIONES MAYO 2022.csv</td>\n",
       "    </tr>\n",
       "    <tr>\n",
       "      <th>3</th>\n",
       "      <td>2022-04-30</td>\n",
       "      <td>2022-04-30</td>\n",
       "      <td>2022-04-28</td>\n",
       "      <td>PM5ZQ5YWK</td>\n",
       "      <td>LIEN</td>\n",
       "      <td>23,956.00</td>\n",
       "      <td>DAILY</td>\n",
       "      <td>LIBERACIONES MAYO 2022.csv</td>\n",
       "    </tr>\n",
       "    <tr>\n",
       "      <th>4</th>\n",
       "      <td>2022-04-30</td>\n",
       "      <td>2022-04-30</td>\n",
       "      <td>2022-04-29</td>\n",
       "      <td>XKSSDF5V7</td>\n",
       "      <td>LIEN</td>\n",
       "      <td>2,874.72</td>\n",
       "      <td>DAILY</td>\n",
       "      <td>LIBERACIONES MAYO 2022.csv</td>\n",
       "    </tr>\n",
       "  </tbody>\n",
       "</table>\n",
       "</div>"
      ],
      "text/plain": [
       "  date_release report_date_local retained_date_local  report_id entry_type  \\\n",
       "0   2022-04-30        2022-04-30          2022-04-29  DMFRQ2KZ4       LIEN   \n",
       "1   2022-04-30        2022-04-30          2022-04-24  7T7DS8CKN       LIEN   \n",
       "2   2022-04-30        2022-04-30          2022-01-19  K7MGTB3LF       LIEN   \n",
       "3   2022-04-30        2022-04-30          2022-04-28  PM5ZQ5YWK       LIEN   \n",
       "4   2022-04-30        2022-04-30          2022-04-29  XKSSDF5V7       LIEN   \n",
       "\n",
       "      amount   type                   file_name  \n",
       "0 102,965.88  DAILY  LIBERACIONES MAYO 2022.csv  \n",
       "1   1,054.06  DAILY  LIBERACIONES MAYO 2022.csv  \n",
       "2   1,795.54  DAILY  LIBERACIONES MAYO 2022.csv  \n",
       "3  23,956.00  DAILY  LIBERACIONES MAYO 2022.csv  \n",
       "4   2,874.72  DAILY  LIBERACIONES MAYO 2022.csv  "
      ]
     },
     "execution_count": 14,
     "metadata": {},
     "output_type": "execute_result"
    }
   ],
   "source": [
    "lib_1 = pd.concat([pd.read_csv(f).assign(file_name=os.path.basename(f)) for f in allfiles_lib])\n",
    "lib_1.head()"
   ]
  },
  {
   "cell_type": "markdown",
   "metadata": {},
   "source": [
    "### CURRENT DATES"
   ]
  },
  {
   "cell_type": "code",
   "execution_count": 15,
   "metadata": {},
   "outputs": [
    {
     "data": {
      "text/html": [
       "<div>\n",
       "<style scoped>\n",
       "    .dataframe tbody tr th:only-of-type {\n",
       "        vertical-align: middle;\n",
       "    }\n",
       "\n",
       "    .dataframe tbody tr th {\n",
       "        vertical-align: top;\n",
       "    }\n",
       "\n",
       "    .dataframe thead th {\n",
       "        text-align: right;\n",
       "    }\n",
       "</style>\n",
       "<table border=\"1\" class=\"dataframe\">\n",
       "  <thead>\n",
       "    <tr style=\"text-align: right;\">\n",
       "      <th></th>\n",
       "      <th>date_release</th>\n",
       "      <th>report_date_local</th>\n",
       "      <th>retained_date_local</th>\n",
       "      <th>report_id</th>\n",
       "      <th>entry_type</th>\n",
       "      <th>amount</th>\n",
       "      <th>type</th>\n",
       "      <th>file_name</th>\n",
       "    </tr>\n",
       "  </thead>\n",
       "  <tbody>\n",
       "    <tr>\n",
       "      <th>884</th>\n",
       "      <td>2022-05-27</td>\n",
       "      <td>2022-05-27</td>\n",
       "      <td>2022-01-26</td>\n",
       "      <td>QS7JFHS4V</td>\n",
       "      <td>LIEN</td>\n",
       "      <td>1,207.38</td>\n",
       "      <td>DAILY</td>\n",
       "      <td>LIBERACIONES MAYO 2022.csv</td>\n",
       "    </tr>\n",
       "    <tr>\n",
       "      <th>885</th>\n",
       "      <td>2022-05-27</td>\n",
       "      <td>2022-05-27</td>\n",
       "      <td>2022-05-26</td>\n",
       "      <td>SDDR68WMG</td>\n",
       "      <td>LIEN</td>\n",
       "      <td>40,948.28</td>\n",
       "      <td>DAILY</td>\n",
       "      <td>LIBERACIONES MAYO 2022.csv</td>\n",
       "    </tr>\n",
       "    <tr>\n",
       "      <th>886</th>\n",
       "      <td>2022-05-27</td>\n",
       "      <td>2022-05-27</td>\n",
       "      <td>2022-02-11</td>\n",
       "      <td>DHVDMWK7M</td>\n",
       "      <td>LIEN</td>\n",
       "      <td>1,051.19</td>\n",
       "      <td>DAILY</td>\n",
       "      <td>LIBERACIONES MAYO 2022.csv</td>\n",
       "    </tr>\n",
       "    <tr>\n",
       "      <th>887</th>\n",
       "      <td>2022-05-27</td>\n",
       "      <td>2022-05-27</td>\n",
       "      <td>2022-02-15</td>\n",
       "      <td>FRZT87VYD</td>\n",
       "      <td>LIEN</td>\n",
       "      <td>5,279.90</td>\n",
       "      <td>DAILY</td>\n",
       "      <td>LIBERACIONES MAYO 2022.csv</td>\n",
       "    </tr>\n",
       "    <tr>\n",
       "      <th>888</th>\n",
       "      <td>2022-05-27</td>\n",
       "      <td>2022-05-27</td>\n",
       "      <td>2022-02-13</td>\n",
       "      <td>FRZT87VYD</td>\n",
       "      <td>LIEN</td>\n",
       "      <td>3,229.27</td>\n",
       "      <td>DAILY</td>\n",
       "      <td>LIBERACIONES MAYO 2022.csv</td>\n",
       "    </tr>\n",
       "  </tbody>\n",
       "</table>\n",
       "</div>"
      ],
      "text/plain": [
       "    date_release report_date_local retained_date_local  report_id entry_type  \\\n",
       "884   2022-05-27        2022-05-27          2022-01-26  QS7JFHS4V       LIEN   \n",
       "885   2022-05-27        2022-05-27          2022-05-26  SDDR68WMG       LIEN   \n",
       "886   2022-05-27        2022-05-27          2022-02-11  DHVDMWK7M       LIEN   \n",
       "887   2022-05-27        2022-05-27          2022-02-15  FRZT87VYD       LIEN   \n",
       "888   2022-05-27        2022-05-27          2022-02-13  FRZT87VYD       LIEN   \n",
       "\n",
       "       amount   type                   file_name  \n",
       "884  1,207.38  DAILY  LIBERACIONES MAYO 2022.csv  \n",
       "885 40,948.28  DAILY  LIBERACIONES MAYO 2022.csv  \n",
       "886  1,051.19  DAILY  LIBERACIONES MAYO 2022.csv  \n",
       "887  5,279.90  DAILY  LIBERACIONES MAYO 2022.csv  \n",
       "888  3,229.27  DAILY  LIBERACIONES MAYO 2022.csv  "
      ]
     },
     "execution_count": 15,
     "metadata": {},
     "output_type": "execute_result"
    }
   ],
   "source": [
    "lib_current_month = lib_1[(lib_1['report_date_local'] >= start_date) & (lib_1['report_date_local'] <= final_date)]\n",
    "lib_current_month.head()"
   ]
  },
  {
   "cell_type": "code",
   "execution_count": 16,
   "metadata": {},
   "outputs": [
    {
     "data": {
      "text/plain": [
       "(120, 8)"
      ]
     },
     "execution_count": 16,
     "metadata": {},
     "output_type": "execute_result"
    }
   ],
   "source": [
    "lib_current_month.shape"
   ]
  },
  {
   "cell_type": "markdown",
   "metadata": {},
   "source": [
    "### PIVOT"
   ]
  },
  {
   "cell_type": "code",
   "execution_count": 17,
   "metadata": {},
   "outputs": [
    {
     "data": {
      "text/html": [
       "<div>\n",
       "<style scoped>\n",
       "    .dataframe tbody tr th:only-of-type {\n",
       "        vertical-align: middle;\n",
       "    }\n",
       "\n",
       "    .dataframe tbody tr th {\n",
       "        vertical-align: top;\n",
       "    }\n",
       "\n",
       "    .dataframe thead th {\n",
       "        text-align: right;\n",
       "    }\n",
       "</style>\n",
       "<table border=\"1\" class=\"dataframe\">\n",
       "  <thead>\n",
       "    <tr style=\"text-align: right;\">\n",
       "      <th></th>\n",
       "      <th>type</th>\n",
       "      <th>entry_type</th>\n",
       "      <th>report_date_local</th>\n",
       "      <th>amount</th>\n",
       "    </tr>\n",
       "  </thead>\n",
       "  <tbody>\n",
       "    <tr>\n",
       "      <th>0</th>\n",
       "      <td>DAILY</td>\n",
       "      <td>LIEN</td>\n",
       "      <td>2022-05-27</td>\n",
       "      <td>238,100.65</td>\n",
       "    </tr>\n",
       "    <tr>\n",
       "      <th>1</th>\n",
       "      <td>DAILY</td>\n",
       "      <td>LIEN</td>\n",
       "      <td>2022-05-28</td>\n",
       "      <td>264,881.80</td>\n",
       "    </tr>\n",
       "    <tr>\n",
       "      <th>2</th>\n",
       "      <td>DAILY</td>\n",
       "      <td>LIEN</td>\n",
       "      <td>2022-05-29</td>\n",
       "      <td>239,978.35</td>\n",
       "    </tr>\n",
       "    <tr>\n",
       "      <th>3</th>\n",
       "      <td>DAILY</td>\n",
       "      <td>LIEN</td>\n",
       "      <td>2022-05-30</td>\n",
       "      <td>585,636.60</td>\n",
       "    </tr>\n",
       "    <tr>\n",
       "      <th>4</th>\n",
       "      <td>DAILY</td>\n",
       "      <td>LIEN</td>\n",
       "      <td>2022-05-31</td>\n",
       "      <td>506,071.74</td>\n",
       "    </tr>\n",
       "  </tbody>\n",
       "</table>\n",
       "</div>"
      ],
      "text/plain": [
       "    type entry_type report_date_local     amount\n",
       "0  DAILY       LIEN        2022-05-27 238,100.65\n",
       "1  DAILY       LIEN        2022-05-28 264,881.80\n",
       "2  DAILY       LIEN        2022-05-29 239,978.35\n",
       "3  DAILY       LIEN        2022-05-30 585,636.60\n",
       "4  DAILY       LIEN        2022-05-31 506,071.74"
      ]
     },
     "execution_count": 17,
     "metadata": {},
     "output_type": "execute_result"
    }
   ],
   "source": [
    "lib_pivot = lib_current_month.groupby(['type','entry_type','report_date_local']).agg({'amount':sum}).reset_index()\n",
    "lib_pivot.head()"
   ]
  },
  {
   "cell_type": "code",
   "execution_count": 18,
   "metadata": {},
   "outputs": [
    {
     "data": {
      "text/plain": [
       "(5, 4)"
      ]
     },
     "execution_count": 18,
     "metadata": {},
     "output_type": "execute_result"
    }
   ],
   "source": [
    "lib_pivot.shape"
   ]
  },
  {
   "cell_type": "code",
   "execution_count": 19,
   "metadata": {},
   "outputs": [
    {
     "data": {
      "text/html": [
       "<div>\n",
       "<style scoped>\n",
       "    .dataframe tbody tr th:only-of-type {\n",
       "        vertical-align: middle;\n",
       "    }\n",
       "\n",
       "    .dataframe tbody tr th {\n",
       "        vertical-align: top;\n",
       "    }\n",
       "\n",
       "    .dataframe thead tr th {\n",
       "        text-align: left;\n",
       "    }\n",
       "\n",
       "    .dataframe thead tr:last-of-type th {\n",
       "        text-align: right;\n",
       "    }\n",
       "</style>\n",
       "<table border=\"1\" class=\"dataframe\">\n",
       "  <thead>\n",
       "    <tr>\n",
       "      <th></th>\n",
       "      <th></th>\n",
       "      <th colspan=\"2\" halign=\"left\">amount</th>\n",
       "    </tr>\n",
       "    <tr>\n",
       "      <th></th>\n",
       "      <th>entry_type</th>\n",
       "      <th>LIEN</th>\n",
       "      <th>All</th>\n",
       "    </tr>\n",
       "    <tr>\n",
       "      <th>type</th>\n",
       "      <th>report_date_local</th>\n",
       "      <th></th>\n",
       "      <th></th>\n",
       "    </tr>\n",
       "  </thead>\n",
       "  <tbody>\n",
       "    <tr>\n",
       "      <th rowspan=\"5\" valign=\"top\">DAILY</th>\n",
       "      <th>2022-05-27</th>\n",
       "      <td>238,100.65</td>\n",
       "      <td>238,100.65</td>\n",
       "    </tr>\n",
       "    <tr>\n",
       "      <th>2022-05-28</th>\n",
       "      <td>264,881.80</td>\n",
       "      <td>264,881.80</td>\n",
       "    </tr>\n",
       "    <tr>\n",
       "      <th>2022-05-29</th>\n",
       "      <td>239,978.35</td>\n",
       "      <td>239,978.35</td>\n",
       "    </tr>\n",
       "    <tr>\n",
       "      <th>2022-05-30</th>\n",
       "      <td>585,636.60</td>\n",
       "      <td>585,636.60</td>\n",
       "    </tr>\n",
       "    <tr>\n",
       "      <th>2022-05-31</th>\n",
       "      <td>506,071.74</td>\n",
       "      <td>506,071.74</td>\n",
       "    </tr>\n",
       "  </tbody>\n",
       "</table>\n",
       "</div>"
      ],
      "text/plain": [
       "                            amount           \n",
       "entry_type                    LIEN        All\n",
       "type  report_date_local                      \n",
       "DAILY 2022-05-27        238,100.65 238,100.65\n",
       "      2022-05-28        264,881.80 264,881.80\n",
       "      2022-05-29        239,978.35 239,978.35\n",
       "      2022-05-30        585,636.60 585,636.60\n",
       "      2022-05-31        506,071.74 506,071.74"
      ]
     },
     "execution_count": 19,
     "metadata": {},
     "output_type": "execute_result"
    }
   ],
   "source": [
    "lib_pivot_v2 = pd.pivot_table(lib_current_month,index=['type','report_date_local']\n",
    "                              ,columns=['entry_type']\n",
    "                              ,values=['amount']\n",
    "                              ,aggfunc=np.sum,margins=True)\n",
    "lib_pivot_v2.head()"
   ]
  },
  {
   "cell_type": "code",
   "execution_count": 20,
   "metadata": {},
   "outputs": [
    {
     "data": {
      "text/plain": [
       "(6, 2)"
      ]
     },
     "execution_count": 20,
     "metadata": {},
     "output_type": "execute_result"
    }
   ],
   "source": [
    "lib_pivot_v2.shape"
   ]
  },
  {
   "cell_type": "markdown",
   "metadata": {},
   "source": [
    "# RETENCIONES"
   ]
  },
  {
   "cell_type": "code",
   "execution_count": 21,
   "metadata": {},
   "outputs": [
    {
     "data": {
      "text/html": [
       "<div>\n",
       "<style scoped>\n",
       "    .dataframe tbody tr th:only-of-type {\n",
       "        vertical-align: middle;\n",
       "    }\n",
       "\n",
       "    .dataframe tbody tr th {\n",
       "        vertical-align: top;\n",
       "    }\n",
       "\n",
       "    .dataframe thead th {\n",
       "        text-align: right;\n",
       "    }\n",
       "</style>\n",
       "<table border=\"1\" class=\"dataframe\">\n",
       "  <thead>\n",
       "    <tr style=\"text-align: right;\">\n",
       "      <th></th>\n",
       "      <th>date_retainment</th>\n",
       "      <th>report_date_local</th>\n",
       "      <th>report_id</th>\n",
       "      <th>entry_type</th>\n",
       "      <th>amount</th>\n",
       "      <th>type</th>\n",
       "      <th>file_name</th>\n",
       "    </tr>\n",
       "  </thead>\n",
       "  <tbody>\n",
       "    <tr>\n",
       "      <th>0</th>\n",
       "      <td>2022-04-30</td>\n",
       "      <td>2022-04-30</td>\n",
       "      <td>P92ZGQCLC</td>\n",
       "      <td>LIEN</td>\n",
       "      <td>25,033.89</td>\n",
       "      <td>DAILY</td>\n",
       "      <td>RETENCIONES MAYO 2022.csv</td>\n",
       "    </tr>\n",
       "    <tr>\n",
       "      <th>1</th>\n",
       "      <td>2022-04-30</td>\n",
       "      <td>2022-04-30</td>\n",
       "      <td>5HZQ62VS4</td>\n",
       "      <td>LIEN</td>\n",
       "      <td>544.28</td>\n",
       "      <td>DAILY</td>\n",
       "      <td>RETENCIONES MAYO 2022.csv</td>\n",
       "    </tr>\n",
       "    <tr>\n",
       "      <th>2</th>\n",
       "      <td>2022-04-30</td>\n",
       "      <td>2022-04-30</td>\n",
       "      <td>QV2L23BG5</td>\n",
       "      <td>LIEN</td>\n",
       "      <td>1,189.17</td>\n",
       "      <td>DAILY</td>\n",
       "      <td>RETENCIONES MAYO 2022.csv</td>\n",
       "    </tr>\n",
       "    <tr>\n",
       "      <th>3</th>\n",
       "      <td>2022-04-30</td>\n",
       "      <td>2022-04-30</td>\n",
       "      <td>B33MCQYYB</td>\n",
       "      <td>LIEN</td>\n",
       "      <td>47,912.00</td>\n",
       "      <td>DAILY</td>\n",
       "      <td>RETENCIONES MAYO 2022.csv</td>\n",
       "    </tr>\n",
       "    <tr>\n",
       "      <th>4</th>\n",
       "      <td>2022-04-30</td>\n",
       "      <td>2022-04-30</td>\n",
       "      <td>WVTS5FY22</td>\n",
       "      <td>LIEN</td>\n",
       "      <td>71,868.00</td>\n",
       "      <td>DAILY</td>\n",
       "      <td>RETENCIONES MAYO 2022.csv</td>\n",
       "    </tr>\n",
       "  </tbody>\n",
       "</table>\n",
       "</div>"
      ],
      "text/plain": [
       "  date_retainment report_date_local  report_id entry_type    amount   type  \\\n",
       "0      2022-04-30        2022-04-30  P92ZGQCLC       LIEN 25,033.89  DAILY   \n",
       "1      2022-04-30        2022-04-30  5HZQ62VS4       LIEN    544.28  DAILY   \n",
       "2      2022-04-30        2022-04-30  QV2L23BG5       LIEN  1,189.17  DAILY   \n",
       "3      2022-04-30        2022-04-30  B33MCQYYB       LIEN 47,912.00  DAILY   \n",
       "4      2022-04-30        2022-04-30  WVTS5FY22       LIEN 71,868.00  DAILY   \n",
       "\n",
       "                   file_name  \n",
       "0  RETENCIONES MAYO 2022.csv  \n",
       "1  RETENCIONES MAYO 2022.csv  \n",
       "2  RETENCIONES MAYO 2022.csv  \n",
       "3  RETENCIONES MAYO 2022.csv  \n",
       "4  RETENCIONES MAYO 2022.csv  "
      ]
     },
     "execution_count": 21,
     "metadata": {},
     "output_type": "execute_result"
    }
   ],
   "source": [
    "ret_1 = pd.concat([pd.read_csv(f).assign(file_name=os.path.basename(f)) for f in allfiles_ret])\n",
    "ret_1.head()"
   ]
  },
  {
   "cell_type": "markdown",
   "metadata": {},
   "source": [
    "### CURRENT DATES"
   ]
  },
  {
   "cell_type": "code",
   "execution_count": 22,
   "metadata": {},
   "outputs": [
    {
     "data": {
      "text/html": [
       "<div>\n",
       "<style scoped>\n",
       "    .dataframe tbody tr th:only-of-type {\n",
       "        vertical-align: middle;\n",
       "    }\n",
       "\n",
       "    .dataframe tbody tr th {\n",
       "        vertical-align: top;\n",
       "    }\n",
       "\n",
       "    .dataframe thead th {\n",
       "        text-align: right;\n",
       "    }\n",
       "</style>\n",
       "<table border=\"1\" class=\"dataframe\">\n",
       "  <thead>\n",
       "    <tr style=\"text-align: right;\">\n",
       "      <th></th>\n",
       "      <th>date_retainment</th>\n",
       "      <th>report_date_local</th>\n",
       "      <th>report_id</th>\n",
       "      <th>entry_type</th>\n",
       "      <th>amount</th>\n",
       "      <th>type</th>\n",
       "      <th>file_name</th>\n",
       "    </tr>\n",
       "  </thead>\n",
       "  <tbody>\n",
       "    <tr>\n",
       "      <th>645</th>\n",
       "      <td>2022-05-27</td>\n",
       "      <td>2022-05-27</td>\n",
       "      <td>LMFS8Y8BM</td>\n",
       "      <td>LIEN</td>\n",
       "      <td>18,672.05</td>\n",
       "      <td>DAILY</td>\n",
       "      <td>RETENCIONES MAYO 2022.csv</td>\n",
       "    </tr>\n",
       "    <tr>\n",
       "      <th>646</th>\n",
       "      <td>2022-05-27</td>\n",
       "      <td>2022-05-27</td>\n",
       "      <td>PM5YXC2BR</td>\n",
       "      <td>LIEN</td>\n",
       "      <td>5.56</td>\n",
       "      <td>DAILY</td>\n",
       "      <td>RETENCIONES MAYO 2022.csv</td>\n",
       "    </tr>\n",
       "    <tr>\n",
       "      <th>647</th>\n",
       "      <td>2022-05-27</td>\n",
       "      <td>2022-05-27</td>\n",
       "      <td>8SRF2NB9W</td>\n",
       "      <td>LIEN</td>\n",
       "      <td>958.24</td>\n",
       "      <td>DAILY</td>\n",
       "      <td>RETENCIONES MAYO 2022.csv</td>\n",
       "    </tr>\n",
       "    <tr>\n",
       "      <th>648</th>\n",
       "      <td>2022-05-27</td>\n",
       "      <td>2022-05-27</td>\n",
       "      <td>BMVQV8F92</td>\n",
       "      <td>LIEN</td>\n",
       "      <td>3,114.28</td>\n",
       "      <td>DAILY</td>\n",
       "      <td>RETENCIONES MAYO 2022.csv</td>\n",
       "    </tr>\n",
       "    <tr>\n",
       "      <th>649</th>\n",
       "      <td>2022-05-27</td>\n",
       "      <td>2022-05-27</td>\n",
       "      <td>JY2CGCHGK</td>\n",
       "      <td>LIEN</td>\n",
       "      <td>1,264.88</td>\n",
       "      <td>DAILY</td>\n",
       "      <td>RETENCIONES MAYO 2022.csv</td>\n",
       "    </tr>\n",
       "  </tbody>\n",
       "</table>\n",
       "</div>"
      ],
      "text/plain": [
       "    date_retainment report_date_local  report_id entry_type    amount   type  \\\n",
       "645      2022-05-27        2022-05-27  LMFS8Y8BM       LIEN 18,672.05  DAILY   \n",
       "646      2022-05-27        2022-05-27  PM5YXC2BR       LIEN      5.56  DAILY   \n",
       "647      2022-05-27        2022-05-27  8SRF2NB9W       LIEN    958.24  DAILY   \n",
       "648      2022-05-27        2022-05-27  BMVQV8F92       LIEN  3,114.28  DAILY   \n",
       "649      2022-05-27        2022-05-27  JY2CGCHGK       LIEN  1,264.88  DAILY   \n",
       "\n",
       "                     file_name  \n",
       "645  RETENCIONES MAYO 2022.csv  \n",
       "646  RETENCIONES MAYO 2022.csv  \n",
       "647  RETENCIONES MAYO 2022.csv  \n",
       "648  RETENCIONES MAYO 2022.csv  \n",
       "649  RETENCIONES MAYO 2022.csv  "
      ]
     },
     "execution_count": 22,
     "metadata": {},
     "output_type": "execute_result"
    }
   ],
   "source": [
    "ret_current_month = ret_1[(ret_1['report_date_local'] >= start_date) & (ret_1['report_date_local'] <= final_date)]\n",
    "ret_current_month.head()"
   ]
  },
  {
   "cell_type": "code",
   "execution_count": 23,
   "metadata": {},
   "outputs": [
    {
     "data": {
      "text/plain": [
       "(121, 7)"
      ]
     },
     "execution_count": 23,
     "metadata": {},
     "output_type": "execute_result"
    }
   ],
   "source": [
    "ret_current_month.shape"
   ]
  },
  {
   "cell_type": "markdown",
   "metadata": {},
   "source": [
    "### PIVOT"
   ]
  },
  {
   "cell_type": "code",
   "execution_count": 24,
   "metadata": {},
   "outputs": [
    {
     "data": {
      "text/html": [
       "<div>\n",
       "<style scoped>\n",
       "    .dataframe tbody tr th:only-of-type {\n",
       "        vertical-align: middle;\n",
       "    }\n",
       "\n",
       "    .dataframe tbody tr th {\n",
       "        vertical-align: top;\n",
       "    }\n",
       "\n",
       "    .dataframe thead th {\n",
       "        text-align: right;\n",
       "    }\n",
       "</style>\n",
       "<table border=\"1\" class=\"dataframe\">\n",
       "  <thead>\n",
       "    <tr style=\"text-align: right;\">\n",
       "      <th></th>\n",
       "      <th>type</th>\n",
       "      <th>entry_type</th>\n",
       "      <th>report_date_local</th>\n",
       "      <th>amount</th>\n",
       "    </tr>\n",
       "  </thead>\n",
       "  <tbody>\n",
       "    <tr>\n",
       "      <th>0</th>\n",
       "      <td>DAILY</td>\n",
       "      <td>LIEN</td>\n",
       "      <td>2022-05-27</td>\n",
       "      <td>139,724.32</td>\n",
       "    </tr>\n",
       "    <tr>\n",
       "      <th>1</th>\n",
       "      <td>DAILY</td>\n",
       "      <td>LIEN</td>\n",
       "      <td>2022-05-28</td>\n",
       "      <td>335,231.90</td>\n",
       "    </tr>\n",
       "    <tr>\n",
       "      <th>2</th>\n",
       "      <td>DAILY</td>\n",
       "      <td>LIEN</td>\n",
       "      <td>2022-05-29</td>\n",
       "      <td>399,746.82</td>\n",
       "    </tr>\n",
       "    <tr>\n",
       "      <th>3</th>\n",
       "      <td>DAILY</td>\n",
       "      <td>LIEN</td>\n",
       "      <td>2022-05-30</td>\n",
       "      <td>370,427.83</td>\n",
       "    </tr>\n",
       "    <tr>\n",
       "      <th>4</th>\n",
       "      <td>DAILY</td>\n",
       "      <td>LIEN</td>\n",
       "      <td>2022-05-31</td>\n",
       "      <td>1,151,601.94</td>\n",
       "    </tr>\n",
       "  </tbody>\n",
       "</table>\n",
       "</div>"
      ],
      "text/plain": [
       "    type entry_type report_date_local       amount\n",
       "0  DAILY       LIEN        2022-05-27   139,724.32\n",
       "1  DAILY       LIEN        2022-05-28   335,231.90\n",
       "2  DAILY       LIEN        2022-05-29   399,746.82\n",
       "3  DAILY       LIEN        2022-05-30   370,427.83\n",
       "4  DAILY       LIEN        2022-05-31 1,151,601.94"
      ]
     },
     "execution_count": 24,
     "metadata": {},
     "output_type": "execute_result"
    }
   ],
   "source": [
    "ret_pivot = ret_current_month.groupby(['type','entry_type','report_date_local']).agg({'amount':sum}).reset_index()\n",
    "ret_pivot.head()"
   ]
  },
  {
   "cell_type": "code",
   "execution_count": 25,
   "metadata": {},
   "outputs": [
    {
     "data": {
      "text/plain": [
       "(5, 4)"
      ]
     },
     "execution_count": 25,
     "metadata": {},
     "output_type": "execute_result"
    }
   ],
   "source": [
    "ret_pivot.shape"
   ]
  },
  {
   "cell_type": "code",
   "execution_count": 26,
   "metadata": {},
   "outputs": [
    {
     "data": {
      "text/html": [
       "<div>\n",
       "<style scoped>\n",
       "    .dataframe tbody tr th:only-of-type {\n",
       "        vertical-align: middle;\n",
       "    }\n",
       "\n",
       "    .dataframe tbody tr th {\n",
       "        vertical-align: top;\n",
       "    }\n",
       "\n",
       "    .dataframe thead tr th {\n",
       "        text-align: left;\n",
       "    }\n",
       "\n",
       "    .dataframe thead tr:last-of-type th {\n",
       "        text-align: right;\n",
       "    }\n",
       "</style>\n",
       "<table border=\"1\" class=\"dataframe\">\n",
       "  <thead>\n",
       "    <tr>\n",
       "      <th></th>\n",
       "      <th></th>\n",
       "      <th colspan=\"2\" halign=\"left\">amount</th>\n",
       "    </tr>\n",
       "    <tr>\n",
       "      <th></th>\n",
       "      <th>entry_type</th>\n",
       "      <th>LIEN</th>\n",
       "      <th>All</th>\n",
       "    </tr>\n",
       "    <tr>\n",
       "      <th>type</th>\n",
       "      <th>report_date_local</th>\n",
       "      <th></th>\n",
       "      <th></th>\n",
       "    </tr>\n",
       "  </thead>\n",
       "  <tbody>\n",
       "    <tr>\n",
       "      <th rowspan=\"5\" valign=\"top\">DAILY</th>\n",
       "      <th>2022-05-27</th>\n",
       "      <td>139,724.32</td>\n",
       "      <td>139,724.32</td>\n",
       "    </tr>\n",
       "    <tr>\n",
       "      <th>2022-05-28</th>\n",
       "      <td>335,231.90</td>\n",
       "      <td>335,231.90</td>\n",
       "    </tr>\n",
       "    <tr>\n",
       "      <th>2022-05-29</th>\n",
       "      <td>399,746.82</td>\n",
       "      <td>399,746.82</td>\n",
       "    </tr>\n",
       "    <tr>\n",
       "      <th>2022-05-30</th>\n",
       "      <td>370,427.83</td>\n",
       "      <td>370,427.83</td>\n",
       "    </tr>\n",
       "    <tr>\n",
       "      <th>2022-05-31</th>\n",
       "      <td>1,151,601.94</td>\n",
       "      <td>1,151,601.94</td>\n",
       "    </tr>\n",
       "  </tbody>\n",
       "</table>\n",
       "</div>"
      ],
      "text/plain": [
       "                              amount             \n",
       "entry_type                      LIEN          All\n",
       "type  report_date_local                          \n",
       "DAILY 2022-05-27          139,724.32   139,724.32\n",
       "      2022-05-28          335,231.90   335,231.90\n",
       "      2022-05-29          399,746.82   399,746.82\n",
       "      2022-05-30          370,427.83   370,427.83\n",
       "      2022-05-31        1,151,601.94 1,151,601.94"
      ]
     },
     "execution_count": 26,
     "metadata": {},
     "output_type": "execute_result"
    }
   ],
   "source": [
    "ret_pivot_v2 = pd.pivot_table(ret_current_month,index=['type','report_date_local']\n",
    "                              ,columns=['entry_type']\n",
    "                              ,values=['amount']\n",
    "                              ,aggfunc=np.sum,margins=True)\n",
    "ret_pivot_v2.head()"
   ]
  },
  {
   "cell_type": "code",
   "execution_count": 27,
   "metadata": {},
   "outputs": [
    {
     "data": {
      "text/plain": [
       "(6, 2)"
      ]
     },
     "execution_count": 27,
     "metadata": {},
     "output_type": "execute_result"
    }
   ],
   "source": [
    "ret_pivot_v2.shape"
   ]
  },
  {
   "cell_type": "markdown",
   "metadata": {},
   "source": [
    "# COMISIONES SWAP / BNTE"
   ]
  },
  {
   "cell_type": "code",
   "execution_count": 28,
   "metadata": {},
   "outputs": [
    {
     "data": {
      "text/html": [
       "<div>\n",
       "<style scoped>\n",
       "    .dataframe tbody tr th:only-of-type {\n",
       "        vertical-align: middle;\n",
       "    }\n",
       "\n",
       "    .dataframe tbody tr th {\n",
       "        vertical-align: top;\n",
       "    }\n",
       "\n",
       "    .dataframe thead th {\n",
       "        text-align: right;\n",
       "    }\n",
       "</style>\n",
       "<table border=\"1\" class=\"dataframe\">\n",
       "  <thead>\n",
       "    <tr style=\"text-align: right;\">\n",
       "      <th></th>\n",
       "      <th>date_disbursement</th>\n",
       "      <th>amount</th>\n",
       "      <th>payments_number</th>\n",
       "      <th>comision_dsp</th>\n",
       "      <th>iva_dsp</th>\n",
       "      <th>comision + iva</th>\n",
       "      <th>total_fondeo</th>\n",
       "      <th>monto_mail</th>\n",
       "      <th>comision_mail</th>\n",
       "      <th>iva_mail</th>\n",
       "      <th>monto_fondeo_mail</th>\n",
       "      <th>check_monto</th>\n",
       "      <th>check_comision</th>\n",
       "      <th>check_iva</th>\n",
       "      <th>check_fondeo</th>\n",
       "      <th>dsp</th>\n",
       "      <th>file_name</th>\n",
       "    </tr>\n",
       "  </thead>\n",
       "  <tbody>\n",
       "    <tr>\n",
       "      <th>0</th>\n",
       "      <td>2022-04-30</td>\n",
       "      <td>199,729,215.62</td>\n",
       "      <td>94612</td>\n",
       "      <td>164,323.35</td>\n",
       "      <td>26,291.74</td>\n",
       "      <td>190,615.09</td>\n",
       "      <td>199,919,830.71</td>\n",
       "      <td>199,729,215.62</td>\n",
       "      <td>164,323.35</td>\n",
       "      <td>26,291.74</td>\n",
       "      <td>199,919,830.71</td>\n",
       "      <td>0.00</td>\n",
       "      <td>0.00</td>\n",
       "      <td>-0.00</td>\n",
       "      <td>-0.00</td>\n",
       "      <td>BNTE</td>\n",
       "      <td>DIFF MONTOS 2022-04-30.csv</td>\n",
       "    </tr>\n",
       "    <tr>\n",
       "      <th>0</th>\n",
       "      <td>2022-05-01</td>\n",
       "      <td>222,556,997.72</td>\n",
       "      <td>94378</td>\n",
       "      <td>164,109.90</td>\n",
       "      <td>26,257.58</td>\n",
       "      <td>190,367.48</td>\n",
       "      <td>222,747,365.20</td>\n",
       "      <td>222,556,997.72</td>\n",
       "      <td>164,109.90</td>\n",
       "      <td>26,257.58</td>\n",
       "      <td>222,747,365.20</td>\n",
       "      <td>0.00</td>\n",
       "      <td>0.00</td>\n",
       "      <td>0.00</td>\n",
       "      <td>0.00</td>\n",
       "      <td>BNTE</td>\n",
       "      <td>DIFF MONTOS 2022-05-01.csv</td>\n",
       "    </tr>\n",
       "    <tr>\n",
       "      <th>0</th>\n",
       "      <td>2022-05-02</td>\n",
       "      <td>147,218,707.05</td>\n",
       "      <td>64349</td>\n",
       "      <td>32,174.50</td>\n",
       "      <td>5,147.92</td>\n",
       "      <td>37,322.42</td>\n",
       "      <td>147,256,029.47</td>\n",
       "      <td>147,218,707.05</td>\n",
       "      <td>32,174.50</td>\n",
       "      <td>5,147.92</td>\n",
       "      <td>147,256,029.47</td>\n",
       "      <td>0.00</td>\n",
       "      <td>0.00</td>\n",
       "      <td>0.00</td>\n",
       "      <td>0.00</td>\n",
       "      <td>SANT</td>\n",
       "      <td>DIFF MONTOS 2022-05-02.csv</td>\n",
       "    </tr>\n",
       "    <tr>\n",
       "      <th>0</th>\n",
       "      <td>2022-05-03</td>\n",
       "      <td>149,836,961.74</td>\n",
       "      <td>80914</td>\n",
       "      <td>40,457.00</td>\n",
       "      <td>6,473.12</td>\n",
       "      <td>46,930.12</td>\n",
       "      <td>149,883,891.86</td>\n",
       "      <td>149,836,961.74</td>\n",
       "      <td>40,457.00</td>\n",
       "      <td>6,473.12</td>\n",
       "      <td>149,883,891.86</td>\n",
       "      <td>0.00</td>\n",
       "      <td>0.00</td>\n",
       "      <td>0.00</td>\n",
       "      <td>0.00</td>\n",
       "      <td>SANT</td>\n",
       "      <td>DIFF MONTOS 2022-05-03.csv</td>\n",
       "    </tr>\n",
       "    <tr>\n",
       "      <th>0</th>\n",
       "      <td>2022-05-04</td>\n",
       "      <td>146,172,810.30</td>\n",
       "      <td>81722</td>\n",
       "      <td>40,861.00</td>\n",
       "      <td>6,537.76</td>\n",
       "      <td>47,398.76</td>\n",
       "      <td>146,220,209.06</td>\n",
       "      <td>146,172,810.30</td>\n",
       "      <td>40,861.00</td>\n",
       "      <td>6,537.76</td>\n",
       "      <td>146,220,209.06</td>\n",
       "      <td>0.00</td>\n",
       "      <td>0.00</td>\n",
       "      <td>0.00</td>\n",
       "      <td>0.00</td>\n",
       "      <td>SANT</td>\n",
       "      <td>DIFF MONTOS 2022-05-04.csv</td>\n",
       "    </tr>\n",
       "  </tbody>\n",
       "</table>\n",
       "</div>"
      ],
      "text/plain": [
       "  date_disbursement         amount  payments_number  comision_dsp   iva_dsp  \\\n",
       "0        2022-04-30 199,729,215.62            94612    164,323.35 26,291.74   \n",
       "0        2022-05-01 222,556,997.72            94378    164,109.90 26,257.58   \n",
       "0        2022-05-02 147,218,707.05            64349     32,174.50  5,147.92   \n",
       "0        2022-05-03 149,836,961.74            80914     40,457.00  6,473.12   \n",
       "0        2022-05-04 146,172,810.30            81722     40,861.00  6,537.76   \n",
       "\n",
       "   comision + iva   total_fondeo     monto_mail  comision_mail  iva_mail  \\\n",
       "0      190,615.09 199,919,830.71 199,729,215.62     164,323.35 26,291.74   \n",
       "0      190,367.48 222,747,365.20 222,556,997.72     164,109.90 26,257.58   \n",
       "0       37,322.42 147,256,029.47 147,218,707.05      32,174.50  5,147.92   \n",
       "0       46,930.12 149,883,891.86 149,836,961.74      40,457.00  6,473.12   \n",
       "0       47,398.76 146,220,209.06 146,172,810.30      40,861.00  6,537.76   \n",
       "\n",
       "   monto_fondeo_mail  check_monto  check_comision  check_iva  check_fondeo  \\\n",
       "0     199,919,830.71         0.00            0.00      -0.00         -0.00   \n",
       "0     222,747,365.20         0.00            0.00       0.00          0.00   \n",
       "0     147,256,029.47         0.00            0.00       0.00          0.00   \n",
       "0     149,883,891.86         0.00            0.00       0.00          0.00   \n",
       "0     146,220,209.06         0.00            0.00       0.00          0.00   \n",
       "\n",
       "    dsp                   file_name  \n",
       "0  BNTE  DIFF MONTOS 2022-04-30.csv  \n",
       "0  BNTE  DIFF MONTOS 2022-05-01.csv  \n",
       "0  SANT  DIFF MONTOS 2022-05-02.csv  \n",
       "0  SANT  DIFF MONTOS 2022-05-03.csv  \n",
       "0  SANT  DIFF MONTOS 2022-05-04.csv  "
      ]
     },
     "execution_count": 28,
     "metadata": {},
     "output_type": "execute_result"
    }
   ],
   "source": [
    "com_1 = pd.concat([pd.read_csv(f).assign(file_name=os.path.basename(f)) for f in allfiles_com])\n",
    "com_1.head()"
   ]
  },
  {
   "cell_type": "code",
   "execution_count": 29,
   "metadata": {},
   "outputs": [
    {
     "data": {
      "text/plain": [
       "(33, 17)"
      ]
     },
     "execution_count": 29,
     "metadata": {},
     "output_type": "execute_result"
    }
   ],
   "source": [
    "com_1.shape"
   ]
  },
  {
   "cell_type": "markdown",
   "metadata": {},
   "source": [
    "### CURRENT DATES"
   ]
  },
  {
   "cell_type": "code",
   "execution_count": 30,
   "metadata": {},
   "outputs": [
    {
     "data": {
      "text/html": [
       "<div>\n",
       "<style scoped>\n",
       "    .dataframe tbody tr th:only-of-type {\n",
       "        vertical-align: middle;\n",
       "    }\n",
       "\n",
       "    .dataframe tbody tr th {\n",
       "        vertical-align: top;\n",
       "    }\n",
       "\n",
       "    .dataframe thead th {\n",
       "        text-align: right;\n",
       "    }\n",
       "</style>\n",
       "<table border=\"1\" class=\"dataframe\">\n",
       "  <thead>\n",
       "    <tr style=\"text-align: right;\">\n",
       "      <th></th>\n",
       "      <th>date_disbursement</th>\n",
       "      <th>amount</th>\n",
       "      <th>payments_number</th>\n",
       "      <th>comision_dsp</th>\n",
       "      <th>iva_dsp</th>\n",
       "      <th>comision + iva</th>\n",
       "      <th>total_fondeo</th>\n",
       "      <th>monto_mail</th>\n",
       "      <th>comision_mail</th>\n",
       "      <th>iva_mail</th>\n",
       "      <th>monto_fondeo_mail</th>\n",
       "      <th>check_monto</th>\n",
       "      <th>check_comision</th>\n",
       "      <th>check_iva</th>\n",
       "      <th>check_fondeo</th>\n",
       "      <th>dsp</th>\n",
       "      <th>file_name</th>\n",
       "    </tr>\n",
       "  </thead>\n",
       "  <tbody>\n",
       "    <tr>\n",
       "      <th>0</th>\n",
       "      <td>2022-05-27</td>\n",
       "      <td>160,216,617.20</td>\n",
       "      <td>86156</td>\n",
       "      <td>43,078.00</td>\n",
       "      <td>6,892.48</td>\n",
       "      <td>49,970.48</td>\n",
       "      <td>160,266,587.68</td>\n",
       "      <td>160,216,617.20</td>\n",
       "      <td>43,078.00</td>\n",
       "      <td>6,892.48</td>\n",
       "      <td>160,266,587.68</td>\n",
       "      <td>0.00</td>\n",
       "      <td>0.00</td>\n",
       "      <td>0.00</td>\n",
       "      <td>-0.00</td>\n",
       "      <td>SANT</td>\n",
       "      <td>DIFF MONTOS 2022-05-27.csv</td>\n",
       "    </tr>\n",
       "    <tr>\n",
       "      <th>0</th>\n",
       "      <td>2022-05-28</td>\n",
       "      <td>191,121,282.98</td>\n",
       "      <td>92344</td>\n",
       "      <td>160,491.45</td>\n",
       "      <td>25,678.63</td>\n",
       "      <td>186,170.08</td>\n",
       "      <td>191,307,453.06</td>\n",
       "      <td>191,121,282.98</td>\n",
       "      <td>160,491.45</td>\n",
       "      <td>25,678.63</td>\n",
       "      <td>191,307,453.06</td>\n",
       "      <td>0.00</td>\n",
       "      <td>0.00</td>\n",
       "      <td>0.00</td>\n",
       "      <td>0.00</td>\n",
       "      <td>BNTE</td>\n",
       "      <td>DIFF MONTOS 2022-05-28.csv</td>\n",
       "    </tr>\n",
       "    <tr>\n",
       "      <th>0</th>\n",
       "      <td>2022-05-29</td>\n",
       "      <td>208,287,665.30</td>\n",
       "      <td>90925</td>\n",
       "      <td>158,192.25</td>\n",
       "      <td>25,310.76</td>\n",
       "      <td>183,503.01</td>\n",
       "      <td>208,471,168.31</td>\n",
       "      <td>208,287,665.30</td>\n",
       "      <td>158,192.25</td>\n",
       "      <td>25,310.76</td>\n",
       "      <td>208,471,168.31</td>\n",
       "      <td>0.00</td>\n",
       "      <td>0.00</td>\n",
       "      <td>0.00</td>\n",
       "      <td>0.00</td>\n",
       "      <td>BNTE</td>\n",
       "      <td>DIFF MONTOS 2022-05-29.csv</td>\n",
       "    </tr>\n",
       "    <tr>\n",
       "      <th>0</th>\n",
       "      <td>2022-05-30</td>\n",
       "      <td>143,748,406.62</td>\n",
       "      <td>63138</td>\n",
       "      <td>31,569.00</td>\n",
       "      <td>5,051.04</td>\n",
       "      <td>36,620.04</td>\n",
       "      <td>143,785,026.66</td>\n",
       "      <td>143,748,406.62</td>\n",
       "      <td>31,569.00</td>\n",
       "      <td>5,051.04</td>\n",
       "      <td>143,785,026.66</td>\n",
       "      <td>0.00</td>\n",
       "      <td>0.00</td>\n",
       "      <td>0.00</td>\n",
       "      <td>0.00</td>\n",
       "      <td>SANT</td>\n",
       "      <td>DIFF MONTOS 2022-05-30.csv</td>\n",
       "    </tr>\n",
       "    <tr>\n",
       "      <th>0</th>\n",
       "      <td>2022-05-31</td>\n",
       "      <td>143,908,727.66</td>\n",
       "      <td>77314</td>\n",
       "      <td>38,657.00</td>\n",
       "      <td>6,185.12</td>\n",
       "      <td>44,842.12</td>\n",
       "      <td>143,953,569.78</td>\n",
       "      <td>143,908,727.66</td>\n",
       "      <td>38,657.00</td>\n",
       "      <td>6,185.12</td>\n",
       "      <td>143,953,569.78</td>\n",
       "      <td>0.00</td>\n",
       "      <td>0.00</td>\n",
       "      <td>0.00</td>\n",
       "      <td>0.00</td>\n",
       "      <td>SANT</td>\n",
       "      <td>DIFF MONTOS 2022-05-31.csv</td>\n",
       "    </tr>\n",
       "  </tbody>\n",
       "</table>\n",
       "</div>"
      ],
      "text/plain": [
       "  date_disbursement         amount  payments_number  comision_dsp   iva_dsp  \\\n",
       "0        2022-05-27 160,216,617.20            86156     43,078.00  6,892.48   \n",
       "0        2022-05-28 191,121,282.98            92344    160,491.45 25,678.63   \n",
       "0        2022-05-29 208,287,665.30            90925    158,192.25 25,310.76   \n",
       "0        2022-05-30 143,748,406.62            63138     31,569.00  5,051.04   \n",
       "0        2022-05-31 143,908,727.66            77314     38,657.00  6,185.12   \n",
       "\n",
       "   comision + iva   total_fondeo     monto_mail  comision_mail  iva_mail  \\\n",
       "0       49,970.48 160,266,587.68 160,216,617.20      43,078.00  6,892.48   \n",
       "0      186,170.08 191,307,453.06 191,121,282.98     160,491.45 25,678.63   \n",
       "0      183,503.01 208,471,168.31 208,287,665.30     158,192.25 25,310.76   \n",
       "0       36,620.04 143,785,026.66 143,748,406.62      31,569.00  5,051.04   \n",
       "0       44,842.12 143,953,569.78 143,908,727.66      38,657.00  6,185.12   \n",
       "\n",
       "   monto_fondeo_mail  check_monto  check_comision  check_iva  check_fondeo  \\\n",
       "0     160,266,587.68         0.00            0.00       0.00         -0.00   \n",
       "0     191,307,453.06         0.00            0.00       0.00          0.00   \n",
       "0     208,471,168.31         0.00            0.00       0.00          0.00   \n",
       "0     143,785,026.66         0.00            0.00       0.00          0.00   \n",
       "0     143,953,569.78         0.00            0.00       0.00          0.00   \n",
       "\n",
       "    dsp                   file_name  \n",
       "0  SANT  DIFF MONTOS 2022-05-27.csv  \n",
       "0  BNTE  DIFF MONTOS 2022-05-28.csv  \n",
       "0  BNTE  DIFF MONTOS 2022-05-29.csv  \n",
       "0  SANT  DIFF MONTOS 2022-05-30.csv  \n",
       "0  SANT  DIFF MONTOS 2022-05-31.csv  "
      ]
     },
     "execution_count": 30,
     "metadata": {},
     "output_type": "execute_result"
    }
   ],
   "source": [
    "com_current_month = com_1[(com_1['date_disbursement'] >= start_date) & (com_1['date_disbursement'] <= final_date)]\n",
    "com_current_month.head()"
   ]
  },
  {
   "cell_type": "code",
   "execution_count": 31,
   "metadata": {},
   "outputs": [
    {
     "data": {
      "text/plain": [
       "(5, 17)"
      ]
     },
     "execution_count": 31,
     "metadata": {},
     "output_type": "execute_result"
    }
   ],
   "source": [
    "com_current_month.shape"
   ]
  },
  {
   "cell_type": "markdown",
   "metadata": {},
   "source": [
    "# LENDERS"
   ]
  },
  {
   "cell_type": "code",
   "execution_count": 32,
   "metadata": {},
   "outputs": [
    {
     "data": {
      "text/html": [
       "<div>\n",
       "<style scoped>\n",
       "    .dataframe tbody tr th:only-of-type {\n",
       "        vertical-align: middle;\n",
       "    }\n",
       "\n",
       "    .dataframe tbody tr th {\n",
       "        vertical-align: top;\n",
       "    }\n",
       "\n",
       "    .dataframe thead th {\n",
       "        text-align: right;\n",
       "    }\n",
       "</style>\n",
       "<table border=\"1\" class=\"dataframe\">\n",
       "  <thead>\n",
       "    <tr style=\"text-align: right;\">\n",
       "      <th></th>\n",
       "      <th>collection_date_local</th>\n",
       "      <th>merchant_token</th>\n",
       "      <th>merchant_id</th>\n",
       "      <th>loan_id</th>\n",
       "      <th>provider_code</th>\n",
       "      <th>collection_origin</th>\n",
       "      <th>source</th>\n",
       "      <th>amount</th>\n",
       "      <th>capital</th>\n",
       "      <th>interest</th>\n",
       "      <th>tax</th>\n",
       "      <th>file_name</th>\n",
       "    </tr>\n",
       "  </thead>\n",
       "  <tbody>\n",
       "    <tr>\n",
       "      <th>0</th>\n",
       "      <td>2022-04-04</td>\n",
       "      <td>efae470b-8972-433a-93fe-c4a7c547c7ea</td>\n",
       "      <td>1525fe35-5e09-41f0-b2a2-b1af4d5ebd97</td>\n",
       "      <td>012d1432-7ec7-41fd-8395-79c186eec962</td>\n",
       "      <td>R2</td>\n",
       "      <td>SETTLEMENT</td>\n",
       "      <td>FAST_PAYMENT</td>\n",
       "      <td>132.24</td>\n",
       "      <td>94.05</td>\n",
       "      <td>32.92</td>\n",
       "      <td>5.27</td>\n",
       "      <td>LENDERS DB ABRIL 2022.csv</td>\n",
       "    </tr>\n",
       "    <tr>\n",
       "      <th>1</th>\n",
       "      <td>2022-04-21</td>\n",
       "      <td>efae470b-8972-433a-93fe-c4a7c547c7ea</td>\n",
       "      <td>1525fe35-5e09-41f0-b2a2-b1af4d5ebd97</td>\n",
       "      <td>012d1432-7ec7-41fd-8395-79c186eec962</td>\n",
       "      <td>R2</td>\n",
       "      <td>SETTLEMENT</td>\n",
       "      <td>FAST_PAYMENT</td>\n",
       "      <td>64.97</td>\n",
       "      <td>46.21</td>\n",
       "      <td>16.17</td>\n",
       "      <td>2.59</td>\n",
       "      <td>LENDERS DB ABRIL 2022.csv</td>\n",
       "    </tr>\n",
       "    <tr>\n",
       "      <th>2</th>\n",
       "      <td>2022-04-08</td>\n",
       "      <td>cf0f261c-42cd-4e54-8fca-e945f57a74d5</td>\n",
       "      <td>671b2959-0238-4e47-a63f-2d6fd298d552</td>\n",
       "      <td>01b2fa71-4b01-493e-b58c-1e735cfa4ce6</td>\n",
       "      <td>MRP</td>\n",
       "      <td>SETTLEMENT</td>\n",
       "      <td>REGULAR</td>\n",
       "      <td>64.12</td>\n",
       "      <td>56.43</td>\n",
       "      <td>7.69</td>\n",
       "      <td>0.00</td>\n",
       "      <td>LENDERS DB ABRIL 2022.csv</td>\n",
       "    </tr>\n",
       "    <tr>\n",
       "      <th>3</th>\n",
       "      <td>2022-04-05</td>\n",
       "      <td>cf0f261c-42cd-4e54-8fca-e945f57a74d5</td>\n",
       "      <td>671b2959-0238-4e47-a63f-2d6fd298d552</td>\n",
       "      <td>01b2fa71-4b01-493e-b58c-1e735cfa4ce6</td>\n",
       "      <td>MRP</td>\n",
       "      <td>SETTLEMENT</td>\n",
       "      <td>REGULAR</td>\n",
       "      <td>60.10</td>\n",
       "      <td>52.89</td>\n",
       "      <td>7.21</td>\n",
       "      <td>0.00</td>\n",
       "      <td>LENDERS DB ABRIL 2022.csv</td>\n",
       "    </tr>\n",
       "    <tr>\n",
       "      <th>4</th>\n",
       "      <td>2022-04-12</td>\n",
       "      <td>cf0f261c-42cd-4e54-8fca-e945f57a74d5</td>\n",
       "      <td>671b2959-0238-4e47-a63f-2d6fd298d552</td>\n",
       "      <td>01b2fa71-4b01-493e-b58c-1e735cfa4ce6</td>\n",
       "      <td>MRP</td>\n",
       "      <td>SETTLEMENT</td>\n",
       "      <td>REGULAR</td>\n",
       "      <td>32.73</td>\n",
       "      <td>28.80</td>\n",
       "      <td>3.93</td>\n",
       "      <td>0.00</td>\n",
       "      <td>LENDERS DB ABRIL 2022.csv</td>\n",
       "    </tr>\n",
       "  </tbody>\n",
       "</table>\n",
       "</div>"
      ],
      "text/plain": [
       "  collection_date_local                        merchant_token  \\\n",
       "0            2022-04-04  efae470b-8972-433a-93fe-c4a7c547c7ea   \n",
       "1            2022-04-21  efae470b-8972-433a-93fe-c4a7c547c7ea   \n",
       "2            2022-04-08  cf0f261c-42cd-4e54-8fca-e945f57a74d5   \n",
       "3            2022-04-05  cf0f261c-42cd-4e54-8fca-e945f57a74d5   \n",
       "4            2022-04-12  cf0f261c-42cd-4e54-8fca-e945f57a74d5   \n",
       "\n",
       "                            merchant_id                               loan_id  \\\n",
       "0  1525fe35-5e09-41f0-b2a2-b1af4d5ebd97  012d1432-7ec7-41fd-8395-79c186eec962   \n",
       "1  1525fe35-5e09-41f0-b2a2-b1af4d5ebd97  012d1432-7ec7-41fd-8395-79c186eec962   \n",
       "2  671b2959-0238-4e47-a63f-2d6fd298d552  01b2fa71-4b01-493e-b58c-1e735cfa4ce6   \n",
       "3  671b2959-0238-4e47-a63f-2d6fd298d552  01b2fa71-4b01-493e-b58c-1e735cfa4ce6   \n",
       "4  671b2959-0238-4e47-a63f-2d6fd298d552  01b2fa71-4b01-493e-b58c-1e735cfa4ce6   \n",
       "\n",
       "  provider_code collection_origin        source  amount  capital  interest  \\\n",
       "0            R2        SETTLEMENT  FAST_PAYMENT  132.24    94.05     32.92   \n",
       "1            R2        SETTLEMENT  FAST_PAYMENT   64.97    46.21     16.17   \n",
       "2           MRP        SETTLEMENT       REGULAR   64.12    56.43      7.69   \n",
       "3           MRP        SETTLEMENT       REGULAR   60.10    52.89      7.21   \n",
       "4           MRP        SETTLEMENT       REGULAR   32.73    28.80      3.93   \n",
       "\n",
       "   tax                  file_name  \n",
       "0 5.27  LENDERS DB ABRIL 2022.csv  \n",
       "1 2.59  LENDERS DB ABRIL 2022.csv  \n",
       "2 0.00  LENDERS DB ABRIL 2022.csv  \n",
       "3 0.00  LENDERS DB ABRIL 2022.csv  \n",
       "4 0.00  LENDERS DB ABRIL 2022.csv  "
      ]
     },
     "execution_count": 32,
     "metadata": {},
     "output_type": "execute_result"
    }
   ],
   "source": [
    "lender_1 = pd.concat([pd.read_csv(f).assign(file_name=os.path.basename(f)) for f in allfiles_lender])\n",
    "lender_1.columns = lender_1.columns.str.strip().str.lower() \n",
    "lender_1.head()"
   ]
  },
  {
   "cell_type": "code",
   "execution_count": 33,
   "metadata": {},
   "outputs": [
    {
     "data": {
      "text/plain": [
       "(172722, 12)"
      ]
     },
     "execution_count": 33,
     "metadata": {},
     "output_type": "execute_result"
    }
   ],
   "source": [
    "lender_1.shape"
   ]
  },
  {
   "cell_type": "markdown",
   "metadata": {},
   "source": [
    "### CURRENT DATES"
   ]
  },
  {
   "cell_type": "code",
   "execution_count": 34,
   "metadata": {},
   "outputs": [
    {
     "data": {
      "text/html": [
       "<div>\n",
       "<style scoped>\n",
       "    .dataframe tbody tr th:only-of-type {\n",
       "        vertical-align: middle;\n",
       "    }\n",
       "\n",
       "    .dataframe tbody tr th {\n",
       "        vertical-align: top;\n",
       "    }\n",
       "\n",
       "    .dataframe thead th {\n",
       "        text-align: right;\n",
       "    }\n",
       "</style>\n",
       "<table border=\"1\" class=\"dataframe\">\n",
       "  <thead>\n",
       "    <tr style=\"text-align: right;\">\n",
       "      <th></th>\n",
       "      <th>collection_date_local</th>\n",
       "      <th>merchant_token</th>\n",
       "      <th>merchant_id</th>\n",
       "      <th>loan_id</th>\n",
       "      <th>provider_code</th>\n",
       "      <th>collection_origin</th>\n",
       "      <th>source</th>\n",
       "      <th>amount</th>\n",
       "      <th>capital</th>\n",
       "      <th>interest</th>\n",
       "      <th>tax</th>\n",
       "      <th>file_name</th>\n",
       "    </tr>\n",
       "  </thead>\n",
       "  <tbody>\n",
       "    <tr>\n",
       "      <th>80223</th>\n",
       "      <td>2022-05-27</td>\n",
       "      <td>b8e53192-7843-498d-a95c-c9f545cc73da</td>\n",
       "      <td>d4238552-a754-48e0-8acc-254cfcd85cef</td>\n",
       "      <td>23d3a540-2adc-42de-a972-ce123d6f72ca</td>\n",
       "      <td>R2</td>\n",
       "      <td>SETTLEMENT</td>\n",
       "      <td>REGULAR</td>\n",
       "      <td>240.33</td>\n",
       "      <td>170.93</td>\n",
       "      <td>59.83</td>\n",
       "      <td>9.57</td>\n",
       "      <td>LENDERS DB MAYO 2022.csv</td>\n",
       "    </tr>\n",
       "    <tr>\n",
       "      <th>80224</th>\n",
       "      <td>2022-05-27</td>\n",
       "      <td>cce83adc-c1ba-4b7b-b45e-459deccd40e2</td>\n",
       "      <td>ee4eb942-c964-4d8e-90a1-d56f99e3e696</td>\n",
       "      <td>238274f8-1b18-4667-a883-db45b040ae9a</td>\n",
       "      <td>MRP</td>\n",
       "      <td>SETTLEMENT</td>\n",
       "      <td>FAST_PAYMENT</td>\n",
       "      <td>61.58</td>\n",
       "      <td>49.26</td>\n",
       "      <td>12.32</td>\n",
       "      <td>0.00</td>\n",
       "      <td>LENDERS DB MAYO 2022.csv</td>\n",
       "    </tr>\n",
       "    <tr>\n",
       "      <th>80225</th>\n",
       "      <td>2022-05-27</td>\n",
       "      <td>a93f5bf6-c76b-4e2c-81a3-6acfbd5804a8</td>\n",
       "      <td>58249d94-1ad3-4565-ab87-7a4a8f46c170</td>\n",
       "      <td>d750c453-7186-40d0-a37d-6bb683493f89</td>\n",
       "      <td>MRP</td>\n",
       "      <td>SETTLEMENT</td>\n",
       "      <td>FAST_PAYMENT</td>\n",
       "      <td>104.03</td>\n",
       "      <td>78.02</td>\n",
       "      <td>26.01</td>\n",
       "      <td>0.00</td>\n",
       "      <td>LENDERS DB MAYO 2022.csv</td>\n",
       "    </tr>\n",
       "    <tr>\n",
       "      <th>80226</th>\n",
       "      <td>2022-05-27</td>\n",
       "      <td>bb0a13cd-29ca-457f-ab9f-709dd7e4afc6</td>\n",
       "      <td>3fde4288-728e-4b7a-8b0b-5e868d325cb9</td>\n",
       "      <td>3f43c0cb-ee25-4254-bd0c-6bfb61442aa2</td>\n",
       "      <td>MRP</td>\n",
       "      <td>SETTLEMENT</td>\n",
       "      <td>FAST_PAYMENT</td>\n",
       "      <td>10.44</td>\n",
       "      <td>7.73</td>\n",
       "      <td>2.71</td>\n",
       "      <td>0.00</td>\n",
       "      <td>LENDERS DB MAYO 2022.csv</td>\n",
       "    </tr>\n",
       "    <tr>\n",
       "      <th>80227</th>\n",
       "      <td>2022-05-27</td>\n",
       "      <td>961877b4-36f0-460e-975b-a738f6127cb9</td>\n",
       "      <td>88d550d5-0f87-4329-bf3a-71d02024e83e</td>\n",
       "      <td>a56f829f-0345-4dbf-ae01-deecfef6b440</td>\n",
       "      <td>MRP</td>\n",
       "      <td>SETTLEMENT</td>\n",
       "      <td>FAST_PAYMENT</td>\n",
       "      <td>142.01</td>\n",
       "      <td>105.09</td>\n",
       "      <td>36.92</td>\n",
       "      <td>0.00</td>\n",
       "      <td>LENDERS DB MAYO 2022.csv</td>\n",
       "    </tr>\n",
       "  </tbody>\n",
       "</table>\n",
       "</div>"
      ],
      "text/plain": [
       "      collection_date_local                        merchant_token  \\\n",
       "80223            2022-05-27  b8e53192-7843-498d-a95c-c9f545cc73da   \n",
       "80224            2022-05-27  cce83adc-c1ba-4b7b-b45e-459deccd40e2   \n",
       "80225            2022-05-27  a93f5bf6-c76b-4e2c-81a3-6acfbd5804a8   \n",
       "80226            2022-05-27  bb0a13cd-29ca-457f-ab9f-709dd7e4afc6   \n",
       "80227            2022-05-27  961877b4-36f0-460e-975b-a738f6127cb9   \n",
       "\n",
       "                                merchant_id  \\\n",
       "80223  d4238552-a754-48e0-8acc-254cfcd85cef   \n",
       "80224  ee4eb942-c964-4d8e-90a1-d56f99e3e696   \n",
       "80225  58249d94-1ad3-4565-ab87-7a4a8f46c170   \n",
       "80226  3fde4288-728e-4b7a-8b0b-5e868d325cb9   \n",
       "80227  88d550d5-0f87-4329-bf3a-71d02024e83e   \n",
       "\n",
       "                                    loan_id provider_code collection_origin  \\\n",
       "80223  23d3a540-2adc-42de-a972-ce123d6f72ca            R2        SETTLEMENT   \n",
       "80224  238274f8-1b18-4667-a883-db45b040ae9a           MRP        SETTLEMENT   \n",
       "80225  d750c453-7186-40d0-a37d-6bb683493f89           MRP        SETTLEMENT   \n",
       "80226  3f43c0cb-ee25-4254-bd0c-6bfb61442aa2           MRP        SETTLEMENT   \n",
       "80227  a56f829f-0345-4dbf-ae01-deecfef6b440           MRP        SETTLEMENT   \n",
       "\n",
       "             source  amount  capital  interest  tax                 file_name  \n",
       "80223       REGULAR  240.33   170.93     59.83 9.57  LENDERS DB MAYO 2022.csv  \n",
       "80224  FAST_PAYMENT   61.58    49.26     12.32 0.00  LENDERS DB MAYO 2022.csv  \n",
       "80225  FAST_PAYMENT  104.03    78.02     26.01 0.00  LENDERS DB MAYO 2022.csv  \n",
       "80226  FAST_PAYMENT   10.44     7.73      2.71 0.00  LENDERS DB MAYO 2022.csv  \n",
       "80227  FAST_PAYMENT  142.01   105.09     36.92 0.00  LENDERS DB MAYO 2022.csv  "
      ]
     },
     "execution_count": 34,
     "metadata": {},
     "output_type": "execute_result"
    }
   ],
   "source": [
    "lender_current_month = lender_1[(lender_1['collection_date_local'] >= start_date) &\n",
    "                                (lender_1['collection_date_local'] <= final_date)]\n",
    "lender_current_month.head()"
   ]
  },
  {
   "cell_type": "code",
   "execution_count": 35,
   "metadata": {},
   "outputs": [
    {
     "data": {
      "text/plain": [
       "(15005, 12)"
      ]
     },
     "execution_count": 35,
     "metadata": {},
     "output_type": "execute_result"
    }
   ],
   "source": [
    "lender_current_month.shape"
   ]
  },
  {
   "cell_type": "code",
   "execution_count": 36,
   "metadata": {},
   "outputs": [
    {
     "data": {
      "text/plain": [
       "array(['R2', 'MRP', 'CTO', 'MOT', 'APH'], dtype=object)"
      ]
     },
     "execution_count": 36,
     "metadata": {},
     "output_type": "execute_result"
    }
   ],
   "source": [
    "lender_current_month['provider_code'].unique()"
   ]
  },
  {
   "cell_type": "markdown",
   "metadata": {},
   "source": [
    "### PIVOT CLIP"
   ]
  },
  {
   "cell_type": "code",
   "execution_count": 37,
   "metadata": {},
   "outputs": [],
   "source": [
    "lender_clip = lender_current_month[(lender_current_month['provider_code'] == 'CLIP')]"
   ]
  },
  {
   "cell_type": "code",
   "execution_count": 38,
   "metadata": {},
   "outputs": [],
   "source": [
    "# lender_pivot_clip_1 = lender_clip.groupby(['Creation Date','Date']).agg({'Collected today':sum,'Capital today':sum\n",
    "#                                                                        ,'Interests today':sum,'IVA Interests today':sum\n",
    "#                                                                        ,'Overdue Interest today':sum,'Total today':sum\n",
    "#                                                                        ,'CLIP Revenue today':sum}).reset_index()\n",
    "# lender_pivot_clip_1.head()"
   ]
  },
  {
   "cell_type": "code",
   "execution_count": 39,
   "metadata": {},
   "outputs": [],
   "source": [
    "# lender_pivot_clip_1.shape"
   ]
  },
  {
   "cell_type": "code",
   "execution_count": 40,
   "metadata": {},
   "outputs": [
    {
     "data": {
      "text/html": [
       "<div>\n",
       "<style scoped>\n",
       "    .dataframe tbody tr th:only-of-type {\n",
       "        vertical-align: middle;\n",
       "    }\n",
       "\n",
       "    .dataframe tbody tr th {\n",
       "        vertical-align: top;\n",
       "    }\n",
       "\n",
       "    .dataframe thead th {\n",
       "        text-align: right;\n",
       "    }\n",
       "</style>\n",
       "<table border=\"1\" class=\"dataframe\">\n",
       "  <thead>\n",
       "    <tr style=\"text-align: right;\">\n",
       "      <th></th>\n",
       "      <th>collection_date_local</th>\n",
       "      <th>amount</th>\n",
       "      <th>capital</th>\n",
       "      <th>interest</th>\n",
       "      <th>tax</th>\n",
       "    </tr>\n",
       "  </thead>\n",
       "  <tbody>\n",
       "  </tbody>\n",
       "</table>\n",
       "</div>"
      ],
      "text/plain": [
       "Empty DataFrame\n",
       "Columns: [collection_date_local, amount, capital, interest, tax]\n",
       "Index: []"
      ]
     },
     "execution_count": 40,
     "metadata": {},
     "output_type": "execute_result"
    }
   ],
   "source": [
    "lender_pivot_clip_2 = lender_clip.groupby(['collection_date_local']).agg({'amount':sum,'capital':sum,'interest':sum\n",
    "                                                 ,'tax':sum}).reset_index()\n",
    "lender_pivot_clip_2.head()"
   ]
  },
  {
   "cell_type": "code",
   "execution_count": 41,
   "metadata": {},
   "outputs": [
    {
     "data": {
      "text/plain": [
       "(0, 5)"
      ]
     },
     "execution_count": 41,
     "metadata": {},
     "output_type": "execute_result"
    }
   ],
   "source": [
    "lender_pivot_clip_2.shape"
   ]
  },
  {
   "cell_type": "markdown",
   "metadata": {},
   "source": [
    "### PIVOT OTHERS"
   ]
  },
  {
   "cell_type": "code",
   "execution_count": 42,
   "metadata": {},
   "outputs": [],
   "source": [
    "lender_others = lender_current_month[(lender_current_month['provider_code'] != 'CLIP')]"
   ]
  },
  {
   "cell_type": "code",
   "execution_count": 43,
   "metadata": {},
   "outputs": [
    {
     "data": {
      "text/html": [
       "<div>\n",
       "<style scoped>\n",
       "    .dataframe tbody tr th:only-of-type {\n",
       "        vertical-align: middle;\n",
       "    }\n",
       "\n",
       "    .dataframe tbody tr th {\n",
       "        vertical-align: top;\n",
       "    }\n",
       "\n",
       "    .dataframe thead th {\n",
       "        text-align: right;\n",
       "    }\n",
       "</style>\n",
       "<table border=\"1\" class=\"dataframe\">\n",
       "  <thead>\n",
       "    <tr style=\"text-align: right;\">\n",
       "      <th></th>\n",
       "      <th>collection_date_local</th>\n",
       "      <th>amount</th>\n",
       "      <th>capital</th>\n",
       "      <th>interest</th>\n",
       "      <th>tax</th>\n",
       "    </tr>\n",
       "  </thead>\n",
       "  <tbody>\n",
       "    <tr>\n",
       "      <th>0</th>\n",
       "      <td>2022-05-27</td>\n",
       "      <td>1,167,885.05</td>\n",
       "      <td>866,106.26</td>\n",
       "      <td>277,780.83</td>\n",
       "      <td>23,997.96</td>\n",
       "    </tr>\n",
       "    <tr>\n",
       "      <th>1</th>\n",
       "      <td>2022-05-28</td>\n",
       "      <td>1,542,010.55</td>\n",
       "      <td>1,151,047.28</td>\n",
       "      <td>357,923.75</td>\n",
       "      <td>33,039.52</td>\n",
       "    </tr>\n",
       "    <tr>\n",
       "      <th>2</th>\n",
       "      <td>2022-05-29</td>\n",
       "      <td>1,535,858.10</td>\n",
       "      <td>1,139,448.50</td>\n",
       "      <td>362,673.20</td>\n",
       "      <td>33,736.40</td>\n",
       "    </tr>\n",
       "    <tr>\n",
       "      <th>3</th>\n",
       "      <td>2022-05-30</td>\n",
       "      <td>1,134,944.91</td>\n",
       "      <td>845,787.66</td>\n",
       "      <td>265,122.50</td>\n",
       "      <td>24,034.75</td>\n",
       "    </tr>\n",
       "    <tr>\n",
       "      <th>4</th>\n",
       "      <td>2022-05-31</td>\n",
       "      <td>954,343.00</td>\n",
       "      <td>711,364.79</td>\n",
       "      <td>222,896.84</td>\n",
       "      <td>20,081.37</td>\n",
       "    </tr>\n",
       "  </tbody>\n",
       "</table>\n",
       "</div>"
      ],
      "text/plain": [
       "  collection_date_local       amount      capital   interest       tax\n",
       "0            2022-05-27 1,167,885.05   866,106.26 277,780.83 23,997.96\n",
       "1            2022-05-28 1,542,010.55 1,151,047.28 357,923.75 33,039.52\n",
       "2            2022-05-29 1,535,858.10 1,139,448.50 362,673.20 33,736.40\n",
       "3            2022-05-30 1,134,944.91   845,787.66 265,122.50 24,034.75\n",
       "4            2022-05-31   954,343.00   711,364.79 222,896.84 20,081.37"
      ]
     },
     "execution_count": 43,
     "metadata": {},
     "output_type": "execute_result"
    }
   ],
   "source": [
    "lender_pivot_others = lender_others.groupby(['collection_date_local']).agg({'amount':sum,'capital':sum,'interest':sum\n",
    "                                                 ,'tax':sum}).reset_index()\n",
    "lender_pivot_others.head()"
   ]
  },
  {
   "cell_type": "code",
   "execution_count": 44,
   "metadata": {},
   "outputs": [
    {
     "data": {
      "text/plain": [
       "(5, 5)"
      ]
     },
     "execution_count": 44,
     "metadata": {},
     "output_type": "execute_result"
    }
   ],
   "source": [
    "lender_pivot_others.shape"
   ]
  },
  {
   "cell_type": "markdown",
   "metadata": {},
   "source": [
    "# EXCEL FINAL"
   ]
  },
  {
   "cell_type": "code",
   "execution_count": 45,
   "metadata": {},
   "outputs": [],
   "source": [
    "writer = pd.ExcelWriter('FASE II. DATA POLIZA MAYO 27-31 2022.xlsx',\n",
    "                        engine='xlsxwriter',\n",
    "                        engine_kwargs={'options': {'encoding':'utf-8'}})\n",
    "lender_pivot_clip_2.to_excel(writer, sheet_name='DATA LENDER CLIP',index=False)\n",
    "# lender_pivot_clip_1.to_excel(writer, sheet_name='DATA LENDER CLIP CREATION DATE',index=False)\n",
    "lender_pivot_others.to_excel(writer, sheet_name='DATA LENDER OTHERS',index=False)\n",
    "adj_pivot.to_excel(writer, sheet_name='DATA ADJUSTMENTS',index=False)\n",
    "lib_pivot_v2.to_excel(writer, sheet_name='DATA LIBERACIONES')\n",
    "ret_pivot_v2.to_excel(writer, sheet_name='DATA RETENCIONES')\n",
    "com_current_month.to_excel(writer, sheet_name='DATA COMISIONES',index=False)\n",
    "writer.close()"
   ]
  },
  {
   "cell_type": "code",
   "execution_count": null,
   "metadata": {},
   "outputs": [],
   "source": []
  }
 ],
 "metadata": {
  "kernelspec": {
   "display_name": "Python 3 (ipykernel)",
   "language": "python",
   "name": "python3"
  },
  "language_info": {
   "codemirror_mode": {
    "name": "ipython",
    "version": 3
   },
   "file_extension": ".py",
   "mimetype": "text/x-python",
   "name": "python",
   "nbconvert_exporter": "python",
   "pygments_lexer": "ipython3",
   "version": "3.9.12"
  }
 },
 "nbformat": 4,
 "nbformat_minor": 4
}
