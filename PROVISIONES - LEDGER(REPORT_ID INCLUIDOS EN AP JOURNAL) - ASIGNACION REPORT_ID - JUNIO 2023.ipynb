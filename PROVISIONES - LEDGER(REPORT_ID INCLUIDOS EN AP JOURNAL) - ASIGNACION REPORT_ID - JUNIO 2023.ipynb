{
 "cells": [
  {
   "cell_type": "code",
   "execution_count": 1,
   "id": "21c1c747",
   "metadata": {},
   "outputs": [],
   "source": [
    "import pandas as pd\n",
    "import numpy as np\n",
    "import glob\n",
    "import os\n",
    "from openpyxl import load_workbook\n",
    "pd.options.display.float_format = '{:,.2f}'.format"
   ]
  },
  {
   "cell_type": "markdown",
   "id": "9df44613",
   "metadata": {},
   "source": [
    "# RUTAS"
   ]
  },
  {
   "cell_type": "markdown",
   "id": "cef36c0e",
   "metadata": {},
   "source": [
    "### SETTLEMENT MASTER LOG"
   ]
  },
  {
   "cell_type": "code",
   "execution_count": 4,
   "id": "38321533",
   "metadata": {},
   "outputs": [
    {
     "data": {
      "text/plain": [
       "['G:\\\\My Drive\\\\RESPALDO-PC\\\\DYNAMO\\\\2023\\\\06. JUNIO\\\\Z. PROVISION\\\\PROVISIONES - SETTLEMENT_MASTER_LOG_DATE JUNIO 2023.tsv']"
      ]
     },
     "execution_count": 4,
     "metadata": {},
     "output_type": "execute_result"
    }
   ],
   "source": [
    "sml_files = glob.glob(r'G:\\My Drive\\RESPALDO-PC\\DYNAMO\\2023\\06. JUNIO\\Z. PROVISION\\PROVISIONES - SET*.tsv', recursive=False)\n",
    "sml_files"
   ]
  },
  {
   "cell_type": "code",
   "execution_count": 5,
   "id": "7ac8262d",
   "metadata": {},
   "outputs": [],
   "source": [
    "use_cols_sml = ['MVNT_ID','PSP_AMOUNT','GROSS_AMOUNT','FEES','TAXES','NET_AMOUNT','MDR','MSI','NUMBER_MSI','RECEIPT_NO',\n",
    "                'STATUS_CODE']"
   ]
  },
  {
   "cell_type": "markdown",
   "id": "baf7556d",
   "metadata": {},
   "source": [
    "### AP JOURNAL"
   ]
  },
  {
   "cell_type": "code",
   "execution_count": 7,
   "id": "55a8252c",
   "metadata": {},
   "outputs": [
    {
     "data": {
      "text/plain": [
       "['G:\\\\My Drive\\\\RESPALDO-PC\\\\DYNAMO\\\\2023\\\\06. JUNIO\\\\Z. PROVISION\\\\PROVISIONES - LEDGER JUNIO 2023.tsv']"
      ]
     },
     "execution_count": 7,
     "metadata": {},
     "output_type": "execute_result"
    }
   ],
   "source": [
    "ap_provision_files = glob.glob(r'G:\\My Drive\\RESPALDO-PC\\DYNAMO\\2023\\06. JUNIO\\Z. PROVISION\\PROVISIONES - LED*.tsv', recursive=False)\n",
    "ap_provision_files"
   ]
  },
  {
   "cell_type": "code",
   "execution_count": 8,
   "id": "2d3e37fd",
   "metadata": {},
   "outputs": [],
   "source": [
    "use_cols_approv = ['MERCHANT_ID','MVNT_ID','TYPE_REQUEST','MOVEMENT_TYPE','SOURCE_TYPE','CREATED_AT','EFF_DT','REPORT_DATE_LOCAL',\n",
    "                  'PAYMENT_DATE_LOCAL','STATUS']"
   ]
  },
  {
   "cell_type": "markdown",
   "id": "bf9da3cf",
   "metadata": {},
   "source": [
    "# DATA SETTLEMENT MASTER LOG"
   ]
  },
  {
   "cell_type": "code",
   "execution_count": 9,
   "id": "27c65ab3",
   "metadata": {},
   "outputs": [
    {
     "data": {
      "text/html": [
       "<div>\n",
       "<style scoped>\n",
       "    .dataframe tbody tr th:only-of-type {\n",
       "        vertical-align: middle;\n",
       "    }\n",
       "\n",
       "    .dataframe tbody tr th {\n",
       "        vertical-align: top;\n",
       "    }\n",
       "\n",
       "    .dataframe thead th {\n",
       "        text-align: right;\n",
       "    }\n",
       "</style>\n",
       "<table border=\"1\" class=\"dataframe\">\n",
       "  <thead>\n",
       "    <tr style=\"text-align: right;\">\n",
       "      <th></th>\n",
       "      <th>mvnt_id</th>\n",
       "      <th>psp_amount</th>\n",
       "      <th>gross_amount</th>\n",
       "      <th>fees</th>\n",
       "      <th>taxes</th>\n",
       "      <th>net_amount</th>\n",
       "      <th>mdr</th>\n",
       "      <th>msi</th>\n",
       "      <th>number_msi</th>\n",
       "      <th>status_code</th>\n",
       "      <th>receipt_no</th>\n",
       "      <th>file_name</th>\n",
       "    </tr>\n",
       "  </thead>\n",
       "  <tbody>\n",
       "    <tr>\n",
       "      <th>0</th>\n",
       "      <td>dd4a3510-828a-482b-8d40-284ae19866c3</td>\n",
       "      <td>588.50</td>\n",
       "      <td>588.50</td>\n",
       "      <td>21.19</td>\n",
       "      <td>3.39</td>\n",
       "      <td>563.92</td>\n",
       "      <td>0.04</td>\n",
       "      <td>0.00</td>\n",
       "      <td>0.00</td>\n",
       "      <td>1.00</td>\n",
       "      <td>vc3NC1w</td>\n",
       "      <td>PROVISIONES - SETTLEMENT_MASTER_LOG_DATE JUNIO...</td>\n",
       "    </tr>\n",
       "    <tr>\n",
       "      <th>1</th>\n",
       "      <td>0a4e9c23-62bd-4d4f-90e9-5719ef9aa435</td>\n",
       "      <td>22.00</td>\n",
       "      <td>22.00</td>\n",
       "      <td>0.79</td>\n",
       "      <td>0.13</td>\n",
       "      <td>21.08</td>\n",
       "      <td>0.04</td>\n",
       "      <td>0.00</td>\n",
       "      <td>0.00</td>\n",
       "      <td>1.00</td>\n",
       "      <td>Ilch6SM</td>\n",
       "      <td>PROVISIONES - SETTLEMENT_MASTER_LOG_DATE JUNIO...</td>\n",
       "    </tr>\n",
       "    <tr>\n",
       "      <th>2</th>\n",
       "      <td>72be1df0-343d-4c83-8591-b04fda43184d</td>\n",
       "      <td>20.00</td>\n",
       "      <td>20.00</td>\n",
       "      <td>0.72</td>\n",
       "      <td>0.12</td>\n",
       "      <td>19.16</td>\n",
       "      <td>0.04</td>\n",
       "      <td>0.00</td>\n",
       "      <td>0.00</td>\n",
       "      <td>1.00</td>\n",
       "      <td>s83iADG</td>\n",
       "      <td>PROVISIONES - SETTLEMENT_MASTER_LOG_DATE JUNIO...</td>\n",
       "    </tr>\n",
       "    <tr>\n",
       "      <th>3</th>\n",
       "      <td>f3f3912d-6166-4693-8b90-5de9c22b4b04</td>\n",
       "      <td>2,000.00</td>\n",
       "      <td>2,000.00</td>\n",
       "      <td>72.00</td>\n",
       "      <td>11.52</td>\n",
       "      <td>1,916.48</td>\n",
       "      <td>0.04</td>\n",
       "      <td>0.00</td>\n",
       "      <td>0.00</td>\n",
       "      <td>1.00</td>\n",
       "      <td>LsJixw0</td>\n",
       "      <td>PROVISIONES - SETTLEMENT_MASTER_LOG_DATE JUNIO...</td>\n",
       "    </tr>\n",
       "    <tr>\n",
       "      <th>4</th>\n",
       "      <td>37e42a0d-7d29-481a-afcc-e6b5c76fd66a</td>\n",
       "      <td>3,150.00</td>\n",
       "      <td>3,150.00</td>\n",
       "      <td>113.40</td>\n",
       "      <td>18.14</td>\n",
       "      <td>3,018.46</td>\n",
       "      <td>0.04</td>\n",
       "      <td>0.00</td>\n",
       "      <td>0.00</td>\n",
       "      <td>1.00</td>\n",
       "      <td>nDqFmzf</td>\n",
       "      <td>PROVISIONES - SETTLEMENT_MASTER_LOG_DATE JUNIO...</td>\n",
       "    </tr>\n",
       "  </tbody>\n",
       "</table>\n",
       "</div>"
      ],
      "text/plain": [
       "                                mvnt_id  psp_amount  gross_amount   fees  \\\n",
       "0  dd4a3510-828a-482b-8d40-284ae19866c3      588.50        588.50  21.19   \n",
       "1  0a4e9c23-62bd-4d4f-90e9-5719ef9aa435       22.00         22.00   0.79   \n",
       "2  72be1df0-343d-4c83-8591-b04fda43184d       20.00         20.00   0.72   \n",
       "3  f3f3912d-6166-4693-8b90-5de9c22b4b04    2,000.00      2,000.00  72.00   \n",
       "4  37e42a0d-7d29-481a-afcc-e6b5c76fd66a    3,150.00      3,150.00 113.40   \n",
       "\n",
       "   taxes  net_amount  mdr  msi  number_msi  status_code receipt_no  \\\n",
       "0   3.39      563.92 0.04 0.00        0.00         1.00    vc3NC1w   \n",
       "1   0.13       21.08 0.04 0.00        0.00         1.00    Ilch6SM   \n",
       "2   0.12       19.16 0.04 0.00        0.00         1.00    s83iADG   \n",
       "3  11.52    1,916.48 0.04 0.00        0.00         1.00    LsJixw0   \n",
       "4  18.14    3,018.46 0.04 0.00        0.00         1.00    nDqFmzf   \n",
       "\n",
       "                                           file_name  \n",
       "0  PROVISIONES - SETTLEMENT_MASTER_LOG_DATE JUNIO...  \n",
       "1  PROVISIONES - SETTLEMENT_MASTER_LOG_DATE JUNIO...  \n",
       "2  PROVISIONES - SETTLEMENT_MASTER_LOG_DATE JUNIO...  \n",
       "3  PROVISIONES - SETTLEMENT_MASTER_LOG_DATE JUNIO...  \n",
       "4  PROVISIONES - SETTLEMENT_MASTER_LOG_DATE JUNIO...  "
      ]
     },
     "execution_count": 9,
     "metadata": {},
     "output_type": "execute_result"
    }
   ],
   "source": [
    "sml = pd.concat([pd.read_csv(f,sep='\\t',usecols=use_cols_sml).assign(file_name=os.path.basename(f)) for f in sml_files])\n",
    "sml.columns = sml.columns.str.strip().str.lower()\n",
    "sml.replace('\"\"','', regex=True, inplace=True)\n",
    "# sml['created_at'] = pd.to_datetime(sml['created_at']).dt.tz_localize(None)\n",
    "# sml['created_at_date'] =  pd.to_datetime(sml['created_at']).dt.date\n",
    "# sml['created_at_date'] =  pd.to_datetime(sml['created_at_date'])\n",
    "# sml['eff_dt'] = pd.to_datetime(sml['eff_dt']).dt.tz_localize(None)\n",
    "# sml['eff_dt_date'] =  pd.to_datetime(sml['eff_dt']).dt.date\n",
    "# sml['eff_dt_date'] =  pd.to_datetime(sml['eff_dt_date'])\n",
    "# sml.rename(columns={'ref_id':'transaction_id'},inplace=True)\n",
    "#sml['PK'] = sml['PK'].replace('M#','',inplace=True)\n",
    "sml.head()"
   ]
  },
  {
   "cell_type": "code",
   "execution_count": 10,
   "id": "bb5c429d",
   "metadata": {},
   "outputs": [
    {
     "data": {
      "text/plain": [
       "(7271195, 12)"
      ]
     },
     "execution_count": 10,
     "metadata": {},
     "output_type": "execute_result"
    }
   ],
   "source": [
    "sml.shape"
   ]
  },
  {
   "cell_type": "code",
   "execution_count": 11,
   "id": "aae153e9",
   "metadata": {},
   "outputs": [
    {
     "data": {
      "text/plain": [
       "mvnt_id          object\n",
       "psp_amount      float64\n",
       "gross_amount    float64\n",
       "fees            float64\n",
       "taxes           float64\n",
       "net_amount      float64\n",
       "mdr             float64\n",
       "msi             float64\n",
       "number_msi      float64\n",
       "status_code     float64\n",
       "receipt_no       object\n",
       "file_name        object\n",
       "dtype: object"
      ]
     },
     "execution_count": 11,
     "metadata": {},
     "output_type": "execute_result"
    }
   ],
   "source": [
    "sml.dtypes"
   ]
  },
  {
   "cell_type": "code",
   "execution_count": 12,
   "id": "0aee293f",
   "metadata": {},
   "outputs": [
    {
     "data": {
      "text/html": [
       "<div>\n",
       "<style scoped>\n",
       "    .dataframe tbody tr th:only-of-type {\n",
       "        vertical-align: middle;\n",
       "    }\n",
       "\n",
       "    .dataframe tbody tr th {\n",
       "        vertical-align: top;\n",
       "    }\n",
       "\n",
       "    .dataframe thead th {\n",
       "        text-align: right;\n",
       "    }\n",
       "</style>\n",
       "<table border=\"1\" class=\"dataframe\">\n",
       "  <thead>\n",
       "    <tr style=\"text-align: right;\">\n",
       "      <th></th>\n",
       "      <th>mvnt_id</th>\n",
       "      <th>psp_amount</th>\n",
       "      <th>gross_amount</th>\n",
       "      <th>fees</th>\n",
       "      <th>taxes</th>\n",
       "      <th>net_amount</th>\n",
       "      <th>mdr</th>\n",
       "      <th>msi</th>\n",
       "      <th>number_msi</th>\n",
       "      <th>status_code</th>\n",
       "      <th>receipt_no</th>\n",
       "      <th>file_name</th>\n",
       "    </tr>\n",
       "  </thead>\n",
       "  <tbody>\n",
       "    <tr>\n",
       "      <th>0</th>\n",
       "      <td>dd4a3510-828a-482b-8d40-284ae19866c3</td>\n",
       "      <td>588.50</td>\n",
       "      <td>588.50</td>\n",
       "      <td>21.19</td>\n",
       "      <td>3.39</td>\n",
       "      <td>563.92</td>\n",
       "      <td>0.04</td>\n",
       "      <td>0.00</td>\n",
       "      <td>0.00</td>\n",
       "      <td>1.00</td>\n",
       "      <td>vc3NC1w</td>\n",
       "      <td>PROVISIONES - SETTLEMENT_MASTER_LOG_DATE JUNIO...</td>\n",
       "    </tr>\n",
       "    <tr>\n",
       "      <th>1</th>\n",
       "      <td>0a4e9c23-62bd-4d4f-90e9-5719ef9aa435</td>\n",
       "      <td>22.00</td>\n",
       "      <td>22.00</td>\n",
       "      <td>0.79</td>\n",
       "      <td>0.13</td>\n",
       "      <td>21.08</td>\n",
       "      <td>0.04</td>\n",
       "      <td>0.00</td>\n",
       "      <td>0.00</td>\n",
       "      <td>1.00</td>\n",
       "      <td>Ilch6SM</td>\n",
       "      <td>PROVISIONES - SETTLEMENT_MASTER_LOG_DATE JUNIO...</td>\n",
       "    </tr>\n",
       "    <tr>\n",
       "      <th>2</th>\n",
       "      <td>72be1df0-343d-4c83-8591-b04fda43184d</td>\n",
       "      <td>20.00</td>\n",
       "      <td>20.00</td>\n",
       "      <td>0.72</td>\n",
       "      <td>0.12</td>\n",
       "      <td>19.16</td>\n",
       "      <td>0.04</td>\n",
       "      <td>0.00</td>\n",
       "      <td>0.00</td>\n",
       "      <td>1.00</td>\n",
       "      <td>s83iADG</td>\n",
       "      <td>PROVISIONES - SETTLEMENT_MASTER_LOG_DATE JUNIO...</td>\n",
       "    </tr>\n",
       "    <tr>\n",
       "      <th>3</th>\n",
       "      <td>f3f3912d-6166-4693-8b90-5de9c22b4b04</td>\n",
       "      <td>2,000.00</td>\n",
       "      <td>2,000.00</td>\n",
       "      <td>72.00</td>\n",
       "      <td>11.52</td>\n",
       "      <td>1,916.48</td>\n",
       "      <td>0.04</td>\n",
       "      <td>0.00</td>\n",
       "      <td>0.00</td>\n",
       "      <td>1.00</td>\n",
       "      <td>LsJixw0</td>\n",
       "      <td>PROVISIONES - SETTLEMENT_MASTER_LOG_DATE JUNIO...</td>\n",
       "    </tr>\n",
       "    <tr>\n",
       "      <th>4</th>\n",
       "      <td>37e42a0d-7d29-481a-afcc-e6b5c76fd66a</td>\n",
       "      <td>3,150.00</td>\n",
       "      <td>3,150.00</td>\n",
       "      <td>113.40</td>\n",
       "      <td>18.14</td>\n",
       "      <td>3,018.46</td>\n",
       "      <td>0.04</td>\n",
       "      <td>0.00</td>\n",
       "      <td>0.00</td>\n",
       "      <td>1.00</td>\n",
       "      <td>nDqFmzf</td>\n",
       "      <td>PROVISIONES - SETTLEMENT_MASTER_LOG_DATE JUNIO...</td>\n",
       "    </tr>\n",
       "  </tbody>\n",
       "</table>\n",
       "</div>"
      ],
      "text/plain": [
       "                                mvnt_id  psp_amount  gross_amount   fees  \\\n",
       "0  dd4a3510-828a-482b-8d40-284ae19866c3      588.50        588.50  21.19   \n",
       "1  0a4e9c23-62bd-4d4f-90e9-5719ef9aa435       22.00         22.00   0.79   \n",
       "2  72be1df0-343d-4c83-8591-b04fda43184d       20.00         20.00   0.72   \n",
       "3  f3f3912d-6166-4693-8b90-5de9c22b4b04    2,000.00      2,000.00  72.00   \n",
       "4  37e42a0d-7d29-481a-afcc-e6b5c76fd66a    3,150.00      3,150.00 113.40   \n",
       "\n",
       "   taxes  net_amount  mdr  msi  number_msi  status_code receipt_no  \\\n",
       "0   3.39      563.92 0.04 0.00        0.00         1.00    vc3NC1w   \n",
       "1   0.13       21.08 0.04 0.00        0.00         1.00    Ilch6SM   \n",
       "2   0.12       19.16 0.04 0.00        0.00         1.00    s83iADG   \n",
       "3  11.52    1,916.48 0.04 0.00        0.00         1.00    LsJixw0   \n",
       "4  18.14    3,018.46 0.04 0.00        0.00         1.00    nDqFmzf   \n",
       "\n",
       "                                           file_name  \n",
       "0  PROVISIONES - SETTLEMENT_MASTER_LOG_DATE JUNIO...  \n",
       "1  PROVISIONES - SETTLEMENT_MASTER_LOG_DATE JUNIO...  \n",
       "2  PROVISIONES - SETTLEMENT_MASTER_LOG_DATE JUNIO...  \n",
       "3  PROVISIONES - SETTLEMENT_MASTER_LOG_DATE JUNIO...  \n",
       "4  PROVISIONES - SETTLEMENT_MASTER_LOG_DATE JUNIO...  "
      ]
     },
     "execution_count": 12,
     "metadata": {},
     "output_type": "execute_result"
    }
   ],
   "source": [
    "sml_final = sml\n",
    "sml_final.head()"
   ]
  },
  {
   "cell_type": "code",
   "execution_count": 13,
   "id": "f0afff80",
   "metadata": {},
   "outputs": [
    {
     "data": {
      "text/plain": [
       "(7271195, 12)"
      ]
     },
     "execution_count": 13,
     "metadata": {},
     "output_type": "execute_result"
    }
   ],
   "source": [
    "sml_final.shape"
   ]
  },
  {
   "cell_type": "markdown",
   "id": "05244115",
   "metadata": {},
   "source": [
    "# DATA AP JOURNAL"
   ]
  },
  {
   "cell_type": "code",
   "execution_count": 14,
   "id": "2ab36c04",
   "metadata": {},
   "outputs": [
    {
     "name": "stderr",
     "output_type": "stream",
     "text": [
      "C:\\Users\\Cristian.Aparicio\\AppData\\Local\\Temp\\ipykernel_22408\\2391491094.py:1: DtypeWarning: Columns (13,14,15) have mixed types. Specify dtype option on import or set low_memory=False.\n",
      "  ap = pd.concat([pd.read_csv(f, sep='\\t',usecols=use_cols_approv).assign(file_name=os.path.basename(f)) for f in ap_provision_files])\n"
     ]
    }
   ],
   "source": [
    "ap = pd.concat([pd.read_csv(f, sep='\\t',usecols=use_cols_approv).assign(file_name=os.path.basename(f)) for f in ap_provision_files])\n",
    "ap.columns = ap.columns.str.strip().str.lower()\n",
    "ap.replace('\"\"','', regex=True, inplace=True)\n",
    "ap['eff_dt'] =  pd.to_datetime(ap['eff_dt']).dt.tz_localize(None)\n",
    "ap['eff_dt_date'] =  pd.to_datetime(ap['eff_dt']).dt.date\n",
    "ap['eff_dt_date'] =  pd.to_datetime(ap['eff_dt_date'])\n",
    "ap['eff_dt_time'] =  pd.to_datetime(ap['eff_dt']).dt.time\n",
    "# ap['movement_day'] = pd.to_datetime(ap['movement_day']).dt.tz_localize(None)\n",
    "ap['created_at'] = pd.to_datetime(ap['created_at']).dt.tz_localize(None)\n",
    "ap['created_at_date'] =  pd.to_datetime(ap['created_at']).dt.date\n",
    "ap['created_at_date'] =  pd.to_datetime(ap['created_at_date'])\n",
    "ap['payment_date_local'] = pd.to_datetime(ap['payment_date_local']).dt.tz_localize(None)\n",
    "ap['payment_date_local'] =  pd.to_datetime(ap['payment_date_local']).dt.date\n",
    "ap['payment_date_local'] =  pd.to_datetime(ap['payment_date_local'])\n",
    "# ap['request_effective_date'] = pd.to_datetime(ap['request_effective_date']).dt.tz_localize(None)\n",
    "# ap['slot_date'] = pd.to_datetime(ap['slot_date']).dt.tz_localize(None)\n",
    "# ap['identifier'] = ap['source_type'].str[:1].astype(str)\n",
    "# ap['INDEX'] = (ap['eff_dt_date'].astype(str).replace(' ', '',regex=True)+'-'+\n",
    "#                ap['identifier'].astype(str).replace(' ', '',regex=True)+'-'+\n",
    "#                ap['eff_dt_time'].astype(str).replace(' ', '',regex=True))\n",
    "ap.sort_values(by=(['merchant_id','eff_dt']), ascending=[True,False], inplace=True)"
   ]
  },
  {
   "cell_type": "code",
   "execution_count": 15,
   "id": "f999693d",
   "metadata": {},
   "outputs": [],
   "source": [
    "ap.reset_index(inplace=True)"
   ]
  },
  {
   "cell_type": "code",
   "execution_count": 16,
   "id": "8319eeeb",
   "metadata": {},
   "outputs": [
    {
     "data": {
      "text/html": [
       "<div>\n",
       "<style scoped>\n",
       "    .dataframe tbody tr th:only-of-type {\n",
       "        vertical-align: middle;\n",
       "    }\n",
       "\n",
       "    .dataframe tbody tr th {\n",
       "        vertical-align: top;\n",
       "    }\n",
       "\n",
       "    .dataframe thead th {\n",
       "        text-align: right;\n",
       "    }\n",
       "</style>\n",
       "<table border=\"1\" class=\"dataframe\">\n",
       "  <thead>\n",
       "    <tr style=\"text-align: right;\">\n",
       "      <th></th>\n",
       "      <th>index</th>\n",
       "      <th>merchant_id</th>\n",
       "      <th>type_request</th>\n",
       "      <th>mvnt_id</th>\n",
       "      <th>movement_type</th>\n",
       "      <th>source_type</th>\n",
       "      <th>created_at</th>\n",
       "      <th>eff_dt</th>\n",
       "      <th>report_date_local</th>\n",
       "      <th>payment_date_local</th>\n",
       "      <th>status</th>\n",
       "      <th>file_name</th>\n",
       "      <th>eff_dt_date</th>\n",
       "      <th>eff_dt_time</th>\n",
       "      <th>created_at_date</th>\n",
       "      <th>report_id</th>\n",
       "      <th>report_date_local_final</th>\n",
       "      <th>payment_date_local_final</th>\n",
       "      <th>status_final</th>\n",
       "    </tr>\n",
       "  </thead>\n",
       "  <tbody>\n",
       "    <tr>\n",
       "      <th>0</th>\n",
       "      <td>9229544</td>\n",
       "      <td>00007725-3116-48dc-9b82-4145699dc290</td>\n",
       "      <td>AZ64QWZMN</td>\n",
       "      <td>6b613867-9987-34ef-bbff-2749ef706378</td>\n",
       "      <td>DISB_RQ</td>\n",
       "      <td>DISB</td>\n",
       "      <td>2023-06-24 07:26:12</td>\n",
       "      <td>2023-06-24 07:26:17</td>\n",
       "      <td>2023-06-24</td>\n",
       "      <td>2023-06-24</td>\n",
       "      <td>PAID</td>\n",
       "      <td>PROVISIONES - LEDGER JUNIO 2023.tsv</td>\n",
       "      <td>2023-06-24</td>\n",
       "      <td>07:26:17</td>\n",
       "      <td>2023-06-24</td>\n",
       "      <td>AZ64QWZMN</td>\n",
       "      <td>2023-06-24</td>\n",
       "      <td>2023-06-24</td>\n",
       "      <td>PAID</td>\n",
       "    </tr>\n",
       "    <tr>\n",
       "      <th>1</th>\n",
       "      <td>6174503</td>\n",
       "      <td>00007725-3116-48dc-9b82-4145699dc290</td>\n",
       "      <td>settlement processor regular payment request</td>\n",
       "      <td>992be001-3e25-4cd9-9a81-ca117a8f21cb</td>\n",
       "      <td>REGULAR_PYMT_RQ</td>\n",
       "      <td>SETT</td>\n",
       "      <td>2023-06-23 19:16:54</td>\n",
       "      <td>2023-06-24 05:00:00</td>\n",
       "      <td>NaN</td>\n",
       "      <td>NaT</td>\n",
       "      <td>NaN</td>\n",
       "      <td>PROVISIONES - LEDGER JUNIO 2023.tsv</td>\n",
       "      <td>2023-06-24</td>\n",
       "      <td>05:00:00</td>\n",
       "      <td>2023-06-23</td>\n",
       "      <td>AZ64QWZMN</td>\n",
       "      <td>2023-06-24</td>\n",
       "      <td>2023-06-24</td>\n",
       "      <td>PAID</td>\n",
       "    </tr>\n",
       "    <tr>\n",
       "      <th>2</th>\n",
       "      <td>16946</td>\n",
       "      <td>0000b65a-c2a2-4993-8f4c-05e5b7cbd7c0</td>\n",
       "      <td>AF5G93PHM</td>\n",
       "      <td>cfebd966-9177-34ea-85ef-cca350e27c1e</td>\n",
       "      <td>DISB_RQ</td>\n",
       "      <td>DISB</td>\n",
       "      <td>2023-07-02 07:28:21</td>\n",
       "      <td>2023-07-02 07:28:26</td>\n",
       "      <td>2023-07-02</td>\n",
       "      <td>2023-07-02</td>\n",
       "      <td>PAID</td>\n",
       "      <td>PROVISIONES - LEDGER JUNIO 2023.tsv</td>\n",
       "      <td>2023-07-02</td>\n",
       "      <td>07:28:26</td>\n",
       "      <td>2023-07-02</td>\n",
       "      <td>AF5G93PHM</td>\n",
       "      <td>2023-07-02</td>\n",
       "      <td>2023-07-02</td>\n",
       "      <td>PAID</td>\n",
       "    </tr>\n",
       "    <tr>\n",
       "      <th>3</th>\n",
       "      <td>6174517</td>\n",
       "      <td>0000b65a-c2a2-4993-8f4c-05e5b7cbd7c0</td>\n",
       "      <td>settlement processor regular payment request</td>\n",
       "      <td>9c609d00-5ff0-48b5-9e5e-b96353508f96</td>\n",
       "      <td>REGULAR_PYMT_RQ</td>\n",
       "      <td>SETT</td>\n",
       "      <td>2023-07-01 12:00:02</td>\n",
       "      <td>2023-07-02 03:30:00</td>\n",
       "      <td>NaN</td>\n",
       "      <td>NaT</td>\n",
       "      <td>NaN</td>\n",
       "      <td>PROVISIONES - LEDGER JUNIO 2023.tsv</td>\n",
       "      <td>2023-07-02</td>\n",
       "      <td>03:30:00</td>\n",
       "      <td>2023-07-01</td>\n",
       "      <td>AF5G93PHM</td>\n",
       "      <td>2023-07-02</td>\n",
       "      <td>2023-07-02</td>\n",
       "      <td>PAID</td>\n",
       "    </tr>\n",
       "    <tr>\n",
       "      <th>4</th>\n",
       "      <td>6174518</td>\n",
       "      <td>0000b65a-c2a2-4993-8f4c-05e5b7cbd7c0</td>\n",
       "      <td>settlement processor regular payment request</td>\n",
       "      <td>bd6fc7dc-94c5-4309-bbe2-ef2d7ebc38e5</td>\n",
       "      <td>REGULAR_PYMT_RQ</td>\n",
       "      <td>SETT</td>\n",
       "      <td>2023-07-01 12:57:00</td>\n",
       "      <td>2023-07-02 03:30:00</td>\n",
       "      <td>NaN</td>\n",
       "      <td>NaT</td>\n",
       "      <td>NaN</td>\n",
       "      <td>PROVISIONES - LEDGER JUNIO 2023.tsv</td>\n",
       "      <td>2023-07-02</td>\n",
       "      <td>03:30:00</td>\n",
       "      <td>2023-07-01</td>\n",
       "      <td>AF5G93PHM</td>\n",
       "      <td>2023-07-02</td>\n",
       "      <td>2023-07-02</td>\n",
       "      <td>PAID</td>\n",
       "    </tr>\n",
       "  </tbody>\n",
       "</table>\n",
       "</div>"
      ],
      "text/plain": [
       "     index                           merchant_id  \\\n",
       "0  9229544  00007725-3116-48dc-9b82-4145699dc290   \n",
       "1  6174503  00007725-3116-48dc-9b82-4145699dc290   \n",
       "2    16946  0000b65a-c2a2-4993-8f4c-05e5b7cbd7c0   \n",
       "3  6174517  0000b65a-c2a2-4993-8f4c-05e5b7cbd7c0   \n",
       "4  6174518  0000b65a-c2a2-4993-8f4c-05e5b7cbd7c0   \n",
       "\n",
       "                                   type_request  \\\n",
       "0                                     AZ64QWZMN   \n",
       "1  settlement processor regular payment request   \n",
       "2                                     AF5G93PHM   \n",
       "3  settlement processor regular payment request   \n",
       "4  settlement processor regular payment request   \n",
       "\n",
       "                                mvnt_id    movement_type source_type  \\\n",
       "0  6b613867-9987-34ef-bbff-2749ef706378          DISB_RQ        DISB   \n",
       "1  992be001-3e25-4cd9-9a81-ca117a8f21cb  REGULAR_PYMT_RQ        SETT   \n",
       "2  cfebd966-9177-34ea-85ef-cca350e27c1e          DISB_RQ        DISB   \n",
       "3  9c609d00-5ff0-48b5-9e5e-b96353508f96  REGULAR_PYMT_RQ        SETT   \n",
       "4  bd6fc7dc-94c5-4309-bbe2-ef2d7ebc38e5  REGULAR_PYMT_RQ        SETT   \n",
       "\n",
       "           created_at              eff_dt report_date_local  \\\n",
       "0 2023-06-24 07:26:12 2023-06-24 07:26:17        2023-06-24   \n",
       "1 2023-06-23 19:16:54 2023-06-24 05:00:00               NaN   \n",
       "2 2023-07-02 07:28:21 2023-07-02 07:28:26        2023-07-02   \n",
       "3 2023-07-01 12:00:02 2023-07-02 03:30:00               NaN   \n",
       "4 2023-07-01 12:57:00 2023-07-02 03:30:00               NaN   \n",
       "\n",
       "  payment_date_local status                            file_name eff_dt_date  \\\n",
       "0         2023-06-24   PAID  PROVISIONES - LEDGER JUNIO 2023.tsv  2023-06-24   \n",
       "1                NaT    NaN  PROVISIONES - LEDGER JUNIO 2023.tsv  2023-06-24   \n",
       "2         2023-07-02   PAID  PROVISIONES - LEDGER JUNIO 2023.tsv  2023-07-02   \n",
       "3                NaT    NaN  PROVISIONES - LEDGER JUNIO 2023.tsv  2023-07-02   \n",
       "4                NaT    NaN  PROVISIONES - LEDGER JUNIO 2023.tsv  2023-07-02   \n",
       "\n",
       "  eff_dt_time created_at_date  report_id report_date_local_final  \\\n",
       "0    07:26:17      2023-06-24  AZ64QWZMN              2023-06-24   \n",
       "1    05:00:00      2023-06-23  AZ64QWZMN              2023-06-24   \n",
       "2    07:28:26      2023-07-02  AF5G93PHM              2023-07-02   \n",
       "3    03:30:00      2023-07-01  AF5G93PHM              2023-07-02   \n",
       "4    03:30:00      2023-07-01  AF5G93PHM              2023-07-02   \n",
       "\n",
       "  payment_date_local_final status_final  \n",
       "0               2023-06-24         PAID  \n",
       "1               2023-06-24         PAID  \n",
       "2               2023-07-02         PAID  \n",
       "3               2023-07-02         PAID  \n",
       "4               2023-07-02         PAID  "
      ]
     },
     "execution_count": 16,
     "metadata": {},
     "output_type": "execute_result"
    }
   ],
   "source": [
    "ap.loc[ap['source_type'] == 'DISB', 'report_id'] = ap['type_request']\n",
    "ap['report_id'] = ap['report_id'].groupby(ap['merchant_id']).fillna(method='ffill')\n",
    "ap['report_date_local_final'] = ap['report_date_local'].groupby(ap['merchant_id']).fillna(method='ffill')\n",
    "ap['payment_date_local_final'] = ap['payment_date_local'].groupby(ap['merchant_id']).fillna(method='ffill')\n",
    "ap['status_final'] = ap['status'].groupby(ap['merchant_id']).fillna(method='ffill')\n",
    "ap.head()"
   ]
  },
  {
   "cell_type": "code",
   "execution_count": 17,
   "id": "cfdd51e2",
   "metadata": {},
   "outputs": [
    {
     "data": {
      "text/plain": [
       "(9317615, 19)"
      ]
     },
     "execution_count": 17,
     "metadata": {},
     "output_type": "execute_result"
    }
   ],
   "source": [
    "ap.shape"
   ]
  },
  {
   "cell_type": "code",
   "execution_count": 18,
   "id": "b34aaf44",
   "metadata": {},
   "outputs": [
    {
     "data": {
      "text/plain": [
       "index                                int64\n",
       "merchant_id                         object\n",
       "type_request                        object\n",
       "mvnt_id                             object\n",
       "movement_type                       object\n",
       "source_type                         object\n",
       "created_at                  datetime64[ns]\n",
       "eff_dt                      datetime64[ns]\n",
       "report_date_local                   object\n",
       "payment_date_local          datetime64[ns]\n",
       "status                              object\n",
       "file_name                           object\n",
       "eff_dt_date                 datetime64[ns]\n",
       "eff_dt_time                         object\n",
       "created_at_date             datetime64[ns]\n",
       "report_id                           object\n",
       "report_date_local_final             object\n",
       "payment_date_local_final    datetime64[ns]\n",
       "status_final                        object\n",
       "dtype: object"
      ]
     },
     "execution_count": 18,
     "metadata": {},
     "output_type": "execute_result"
    }
   ],
   "source": [
    "ap.dtypes"
   ]
  },
  {
   "cell_type": "code",
   "execution_count": 19,
   "id": "533505bb",
   "metadata": {},
   "outputs": [
    {
     "data": {
      "text/plain": [
       "array(['DISB', 'SETT', 'PYMT', 'TOPUPS', 'RISK', 'LOAN', 'REFUNDS',\n",
       "       'PROMO', 'BILL_PYMNT', 'SETT_ADPTR', 'TAXES'], dtype=object)"
      ]
     },
     "execution_count": 19,
     "metadata": {},
     "output_type": "execute_result"
    }
   ],
   "source": [
    "ap['source_type'].unique()"
   ]
  },
  {
   "cell_type": "code",
   "execution_count": 20,
   "id": "57a30c53",
   "metadata": {},
   "outputs": [
    {
     "data": {
      "text/plain": [
       "array(['AZ64QWZMN', 'AF5G93PHM', 'A65W8RYG8', ..., 'AZ233L377',\n",
       "       'A7BVSHJPH', 'AY8V9CMDL'], dtype=object)"
      ]
     },
     "execution_count": 20,
     "metadata": {},
     "output_type": "execute_result"
    }
   ],
   "source": [
    "ap['report_id'].unique()"
   ]
  },
  {
   "cell_type": "code",
   "execution_count": 21,
   "id": "acebd4f7",
   "metadata": {},
   "outputs": [],
   "source": [
    "ap_disb = ap[(ap['source_type'] == 'DISB')]\n",
    "ap_sett = ap[(ap['source_type'] == 'SETT')]\n",
    "ap_pymt = ap[(ap['source_type'] == 'PYMT')]\n",
    "ap_topups = ap[(ap['source_type'] == 'TOPUPS')]\n",
    "ap_loan = ap[(ap['source_type'] == 'LOAN')]\n",
    "ap_risk = ap[(ap['source_type'] == 'RISK')]\n",
    "ap_refunds = ap[(ap['source_type'] == 'REFUNDS')]\n",
    "ap_promo = ap[(ap['source_type'] == 'PROMO')]\n",
    "ap_bill_pymnt = ap[(ap['source_type'] == 'BILL_PYMNT')]\n",
    "ap_sett_adptr = ap[(ap['source_type'] == 'SETT_ADPTR')]\n",
    "ap_taxes = ap[(ap['source_type'] == 'TAXES')]"
   ]
  },
  {
   "cell_type": "markdown",
   "id": "d101324c",
   "metadata": {},
   "source": [
    "# CRUCE 1: AP JOURNAL VS SETTLEMENT MASTER LOG"
   ]
  },
  {
   "cell_type": "code",
   "execution_count": 22,
   "id": "1754a0b8",
   "metadata": {},
   "outputs": [
    {
     "data": {
      "text/html": [
       "<div>\n",
       "<style scoped>\n",
       "    .dataframe tbody tr th:only-of-type {\n",
       "        vertical-align: middle;\n",
       "    }\n",
       "\n",
       "    .dataframe tbody tr th {\n",
       "        vertical-align: top;\n",
       "    }\n",
       "\n",
       "    .dataframe thead th {\n",
       "        text-align: right;\n",
       "    }\n",
       "</style>\n",
       "<table border=\"1\" class=\"dataframe\">\n",
       "  <thead>\n",
       "    <tr style=\"text-align: right;\">\n",
       "      <th></th>\n",
       "      <th>index</th>\n",
       "      <th>merchant_id</th>\n",
       "      <th>type_request</th>\n",
       "      <th>mvnt_id</th>\n",
       "      <th>movement_type</th>\n",
       "      <th>source_type</th>\n",
       "      <th>created_at</th>\n",
       "      <th>eff_dt</th>\n",
       "      <th>report_date_local</th>\n",
       "      <th>payment_date_local</th>\n",
       "      <th>...</th>\n",
       "      <th>gross_amount</th>\n",
       "      <th>fees</th>\n",
       "      <th>taxes</th>\n",
       "      <th>net_amount</th>\n",
       "      <th>mdr</th>\n",
       "      <th>msi</th>\n",
       "      <th>number_msi</th>\n",
       "      <th>receipt_no</th>\n",
       "      <th>status_code</th>\n",
       "      <th>transaction_id</th>\n",
       "    </tr>\n",
       "  </thead>\n",
       "  <tbody>\n",
       "    <tr>\n",
       "      <th>0</th>\n",
       "      <td>9229544</td>\n",
       "      <td>00007725-3116-48dc-9b82-4145699dc290</td>\n",
       "      <td>AZ64QWZMN</td>\n",
       "      <td>6b613867-9987-34ef-bbff-2749ef706378</td>\n",
       "      <td>DISB_RQ</td>\n",
       "      <td>DISB</td>\n",
       "      <td>2023-06-24 07:26:12</td>\n",
       "      <td>2023-06-24 07:26:17</td>\n",
       "      <td>2023-06-24</td>\n",
       "      <td>2023-06-24</td>\n",
       "      <td>...</td>\n",
       "      <td>NaN</td>\n",
       "      <td>NaN</td>\n",
       "      <td>NaN</td>\n",
       "      <td>NaN</td>\n",
       "      <td>NaN</td>\n",
       "      <td>NaN</td>\n",
       "      <td>NaN</td>\n",
       "      <td>NaN</td>\n",
       "      <td>NaN</td>\n",
       "      <td>6b613867-9987-34ef-bbff-2749ef706378</td>\n",
       "    </tr>\n",
       "    <tr>\n",
       "      <th>1</th>\n",
       "      <td>6174503</td>\n",
       "      <td>00007725-3116-48dc-9b82-4145699dc290</td>\n",
       "      <td>settlement processor regular payment request</td>\n",
       "      <td>992be001-3e25-4cd9-9a81-ca117a8f21cb</td>\n",
       "      <td>REGULAR_PYMT_RQ</td>\n",
       "      <td>SETT</td>\n",
       "      <td>2023-06-23 19:16:54</td>\n",
       "      <td>2023-06-24 05:00:00</td>\n",
       "      <td>NaN</td>\n",
       "      <td>NaT</td>\n",
       "      <td>...</td>\n",
       "      <td>1,000.00</td>\n",
       "      <td>36.00</td>\n",
       "      <td>5.76</td>\n",
       "      <td>958.24</td>\n",
       "      <td>0.04</td>\n",
       "      <td>0.00</td>\n",
       "      <td>0.00</td>\n",
       "      <td>GhJWjWN</td>\n",
       "      <td>1.00</td>\n",
       "      <td>992be001-3e25-4cd9-9a81-ca117a8f21cb</td>\n",
       "    </tr>\n",
       "    <tr>\n",
       "      <th>2</th>\n",
       "      <td>16946</td>\n",
       "      <td>0000b65a-c2a2-4993-8f4c-05e5b7cbd7c0</td>\n",
       "      <td>AF5G93PHM</td>\n",
       "      <td>cfebd966-9177-34ea-85ef-cca350e27c1e</td>\n",
       "      <td>DISB_RQ</td>\n",
       "      <td>DISB</td>\n",
       "      <td>2023-07-02 07:28:21</td>\n",
       "      <td>2023-07-02 07:28:26</td>\n",
       "      <td>2023-07-02</td>\n",
       "      <td>2023-07-02</td>\n",
       "      <td>...</td>\n",
       "      <td>NaN</td>\n",
       "      <td>NaN</td>\n",
       "      <td>NaN</td>\n",
       "      <td>NaN</td>\n",
       "      <td>NaN</td>\n",
       "      <td>NaN</td>\n",
       "      <td>NaN</td>\n",
       "      <td>NaN</td>\n",
       "      <td>NaN</td>\n",
       "      <td>cfebd966-9177-34ea-85ef-cca350e27c1e</td>\n",
       "    </tr>\n",
       "    <tr>\n",
       "      <th>3</th>\n",
       "      <td>6174517</td>\n",
       "      <td>0000b65a-c2a2-4993-8f4c-05e5b7cbd7c0</td>\n",
       "      <td>settlement processor regular payment request</td>\n",
       "      <td>9c609d00-5ff0-48b5-9e5e-b96353508f96</td>\n",
       "      <td>REGULAR_PYMT_RQ</td>\n",
       "      <td>SETT</td>\n",
       "      <td>2023-07-01 12:00:02</td>\n",
       "      <td>2023-07-02 03:30:00</td>\n",
       "      <td>NaN</td>\n",
       "      <td>NaT</td>\n",
       "      <td>...</td>\n",
       "      <td>470.25</td>\n",
       "      <td>16.93</td>\n",
       "      <td>2.71</td>\n",
       "      <td>450.61</td>\n",
       "      <td>0.04</td>\n",
       "      <td>0.00</td>\n",
       "      <td>0.00</td>\n",
       "      <td>vTBKikY</td>\n",
       "      <td>1.00</td>\n",
       "      <td>9c609d00-5ff0-48b5-9e5e-b96353508f96</td>\n",
       "    </tr>\n",
       "    <tr>\n",
       "      <th>4</th>\n",
       "      <td>6174518</td>\n",
       "      <td>0000b65a-c2a2-4993-8f4c-05e5b7cbd7c0</td>\n",
       "      <td>settlement processor regular payment request</td>\n",
       "      <td>bd6fc7dc-94c5-4309-bbe2-ef2d7ebc38e5</td>\n",
       "      <td>REGULAR_PYMT_RQ</td>\n",
       "      <td>SETT</td>\n",
       "      <td>2023-07-01 12:57:00</td>\n",
       "      <td>2023-07-02 03:30:00</td>\n",
       "      <td>NaN</td>\n",
       "      <td>NaT</td>\n",
       "      <td>...</td>\n",
       "      <td>94.05</td>\n",
       "      <td>3.39</td>\n",
       "      <td>0.54</td>\n",
       "      <td>90.12</td>\n",
       "      <td>0.04</td>\n",
       "      <td>0.00</td>\n",
       "      <td>0.00</td>\n",
       "      <td>xmRbRDl</td>\n",
       "      <td>1.00</td>\n",
       "      <td>bd6fc7dc-94c5-4309-bbe2-ef2d7ebc38e5</td>\n",
       "    </tr>\n",
       "  </tbody>\n",
       "</table>\n",
       "<p>5 rows × 30 columns</p>\n",
       "</div>"
      ],
      "text/plain": [
       "     index                           merchant_id  \\\n",
       "0  9229544  00007725-3116-48dc-9b82-4145699dc290   \n",
       "1  6174503  00007725-3116-48dc-9b82-4145699dc290   \n",
       "2    16946  0000b65a-c2a2-4993-8f4c-05e5b7cbd7c0   \n",
       "3  6174517  0000b65a-c2a2-4993-8f4c-05e5b7cbd7c0   \n",
       "4  6174518  0000b65a-c2a2-4993-8f4c-05e5b7cbd7c0   \n",
       "\n",
       "                                   type_request  \\\n",
       "0                                     AZ64QWZMN   \n",
       "1  settlement processor regular payment request   \n",
       "2                                     AF5G93PHM   \n",
       "3  settlement processor regular payment request   \n",
       "4  settlement processor regular payment request   \n",
       "\n",
       "                                mvnt_id    movement_type source_type  \\\n",
       "0  6b613867-9987-34ef-bbff-2749ef706378          DISB_RQ        DISB   \n",
       "1  992be001-3e25-4cd9-9a81-ca117a8f21cb  REGULAR_PYMT_RQ        SETT   \n",
       "2  cfebd966-9177-34ea-85ef-cca350e27c1e          DISB_RQ        DISB   \n",
       "3  9c609d00-5ff0-48b5-9e5e-b96353508f96  REGULAR_PYMT_RQ        SETT   \n",
       "4  bd6fc7dc-94c5-4309-bbe2-ef2d7ebc38e5  REGULAR_PYMT_RQ        SETT   \n",
       "\n",
       "           created_at              eff_dt report_date_local  \\\n",
       "0 2023-06-24 07:26:12 2023-06-24 07:26:17        2023-06-24   \n",
       "1 2023-06-23 19:16:54 2023-06-24 05:00:00               NaN   \n",
       "2 2023-07-02 07:28:21 2023-07-02 07:28:26        2023-07-02   \n",
       "3 2023-07-01 12:00:02 2023-07-02 03:30:00               NaN   \n",
       "4 2023-07-01 12:57:00 2023-07-02 03:30:00               NaN   \n",
       "\n",
       "  payment_date_local  ... gross_amount  fees taxes net_amount  mdr  msi  \\\n",
       "0         2023-06-24  ...          NaN   NaN   NaN        NaN  NaN  NaN   \n",
       "1                NaT  ...     1,000.00 36.00  5.76     958.24 0.04 0.00   \n",
       "2         2023-07-02  ...          NaN   NaN   NaN        NaN  NaN  NaN   \n",
       "3                NaT  ...       470.25 16.93  2.71     450.61 0.04 0.00   \n",
       "4                NaT  ...        94.05  3.39  0.54      90.12 0.04 0.00   \n",
       "\n",
       "  number_msi receipt_no status_code                        transaction_id  \n",
       "0        NaN        NaN         NaN  6b613867-9987-34ef-bbff-2749ef706378  \n",
       "1       0.00    GhJWjWN        1.00  992be001-3e25-4cd9-9a81-ca117a8f21cb  \n",
       "2        NaN        NaN         NaN  cfebd966-9177-34ea-85ef-cca350e27c1e  \n",
       "3       0.00    vTBKikY        1.00  9c609d00-5ff0-48b5-9e5e-b96353508f96  \n",
       "4       0.00    xmRbRDl        1.00  bd6fc7dc-94c5-4309-bbe2-ef2d7ebc38e5  \n",
       "\n",
       "[5 rows x 30 columns]"
      ]
     },
     "execution_count": 22,
     "metadata": {},
     "output_type": "execute_result"
    }
   ],
   "source": [
    "cruce_1 = ap.merge(sml_final[['mvnt_id','psp_amount','gross_amount','fees','taxes','net_amount','mdr','msi','number_msi',\n",
    "                             'receipt_no','status_code']],on='mvnt_id',how='left')\n",
    "cruce_1['transaction_id'] = cruce_1['mvnt_id']\n",
    "cruce_1.head()"
   ]
  },
  {
   "cell_type": "code",
   "execution_count": 23,
   "id": "db61f0bb",
   "metadata": {},
   "outputs": [
    {
     "data": {
      "text/plain": [
       "(9317617, 30)"
      ]
     },
     "execution_count": 23,
     "metadata": {},
     "output_type": "execute_result"
    }
   ],
   "source": [
    "cruce_1.shape"
   ]
  },
  {
   "cell_type": "code",
   "execution_count": 24,
   "id": "4ab2db38",
   "metadata": {},
   "outputs": [
    {
     "data": {
      "text/plain": [
       "Index(['index', 'merchant_id', 'type_request', 'mvnt_id', 'movement_type',\n",
       "       'source_type', 'created_at', 'eff_dt', 'report_date_local',\n",
       "       'payment_date_local', 'status', 'file_name', 'eff_dt_date',\n",
       "       'eff_dt_time', 'created_at_date', 'report_id',\n",
       "       'report_date_local_final', 'payment_date_local_final', 'status_final',\n",
       "       'psp_amount', 'gross_amount', 'fees', 'taxes', 'net_amount', 'mdr',\n",
       "       'msi', 'number_msi', 'receipt_no', 'status_code', 'transaction_id'],\n",
       "      dtype='object')"
      ]
     },
     "execution_count": 24,
     "metadata": {},
     "output_type": "execute_result"
    }
   ],
   "source": [
    "cruce_1.columns"
   ]
  },
  {
   "cell_type": "markdown",
   "id": "052a992b",
   "metadata": {},
   "source": [
    "# DATA PROVISION"
   ]
  },
  {
   "cell_type": "code",
   "execution_count": 25,
   "id": "f328149e",
   "metadata": {},
   "outputs": [],
   "source": [
    "url = r'C:\\Users\\Cristian.Aparicio\\Documents\\PROVISIONES\\2023\\06. JUNIO\\Provision Junio 2023.xlsx'"
   ]
  },
  {
   "cell_type": "code",
   "execution_count": 26,
   "id": "ac57d3a8",
   "metadata": {},
   "outputs": [
    {
     "data": {
      "text/plain": [
       "<pandas.io.excel._base.ExcelFile at 0x129eaf17a30>"
      ]
     },
     "execution_count": 26,
     "metadata": {},
     "output_type": "execute_result"
    }
   ],
   "source": [
    "provision_file = pd.ExcelFile(url)\n",
    "provision_file"
   ]
  },
  {
   "cell_type": "code",
   "execution_count": 27,
   "id": "dfa8ac1b",
   "metadata": {},
   "outputs": [
    {
     "data": {
      "text/plain": [
       "['RESUMEN',\n",
       " 'BANORTE 28 y 29 JUNIO',\n",
       " 'BNTE 30 JUNIO',\n",
       " 'BNTE 01 JULIO ',\n",
       " 'BNTE 02 JULIO ',\n",
       " 'ECOMMERCE',\n",
       " 'GRRCN',\n",
       " 'EPA']"
      ]
     },
     "execution_count": 27,
     "metadata": {},
     "output_type": "execute_result"
    }
   ],
   "source": [
    "provision_file.sheet_names"
   ]
  },
  {
   "cell_type": "code",
   "execution_count": 28,
   "id": "71c2ab8a",
   "metadata": {},
   "outputs": [],
   "source": [
    "all_sheets = pd.read_excel(url, sheet_name=[1,2,3,4,5,6,7],\n",
    "                           converters={'AFFILIATION':str,'SUB_AFFILIATION':str,'ORDER_ID':str,'COD_AUTORIZACION':str,\n",
    "                                       'BIN':str,'ULTIMOS_4':str})"
   ]
  },
  {
   "cell_type": "code",
   "execution_count": 29,
   "id": "31a04b3f",
   "metadata": {},
   "outputs": [
    {
     "data": {
      "text/plain": [
       "dict_keys([1, 2, 3, 4, 5, 6, 7])"
      ]
     },
     "execution_count": 29,
     "metadata": {},
     "output_type": "execute_result"
    }
   ],
   "source": [
    "all_sheets.keys()"
   ]
  },
  {
   "cell_type": "code",
   "execution_count": 30,
   "id": "76866b7e",
   "metadata": {},
   "outputs": [
    {
     "data": {
      "text/html": [
       "<div>\n",
       "<style scoped>\n",
       "    .dataframe tbody tr th:only-of-type {\n",
       "        vertical-align: middle;\n",
       "    }\n",
       "\n",
       "    .dataframe tbody tr th {\n",
       "        vertical-align: top;\n",
       "    }\n",
       "\n",
       "    .dataframe thead th {\n",
       "        text-align: right;\n",
       "    }\n",
       "</style>\n",
       "<table border=\"1\" class=\"dataframe\">\n",
       "  <thead>\n",
       "    <tr style=\"text-align: right;\">\n",
       "      <th></th>\n",
       "      <th>level_0</th>\n",
       "      <th>level_1</th>\n",
       "      <th>tablero</th>\n",
       "      <th>fecha_deposito_clip</th>\n",
       "      <th>fecha_trx_clip</th>\n",
       "      <th>affiliation</th>\n",
       "      <th>sub_affiliation</th>\n",
       "      <th>fecha_recepción</th>\n",
       "      <th>nombre_archivo</th>\n",
       "      <th>order_id</th>\n",
       "      <th>...</th>\n",
       "      <th>status_code</th>\n",
       "      <th>msi</th>\n",
       "      <th>psp</th>\n",
       "      <th>proceso</th>\n",
       "      <th>monto</th>\n",
       "      <th>recuento</th>\n",
       "      <th>adquiriente</th>\n",
       "      <th>transaction_id</th>\n",
       "      <th>tablero</th>\n",
       "      <th>nombre_tablero</th>\n",
       "    </tr>\n",
       "  </thead>\n",
       "  <tbody>\n",
       "    <tr>\n",
       "      <th>0</th>\n",
       "      <td>1</td>\n",
       "      <td>0</td>\n",
       "      <td>CONCILIADA REFUNDED NO CLIP</td>\n",
       "      <td>2023-07-03</td>\n",
       "      <td>2023-06-28</td>\n",
       "      <td>7927518</td>\n",
       "      <td>7927518</td>\n",
       "      <td>2023-07-04</td>\n",
       "      <td>PAYCLIP_Settlement_04072023_V1.csv</td>\n",
       "      <td>483153756111</td>\n",
       "      <td>...</td>\n",
       "      <td>REFUNDED</td>\n",
       "      <td>0</td>\n",
       "      <td>PROSA</td>\n",
       "      <td>AGREGADOR</td>\n",
       "      <td>-250.00</td>\n",
       "      <td>1</td>\n",
       "      <td>BANORTE</td>\n",
       "      <td>NaN</td>\n",
       "      <td>NaN</td>\n",
       "      <td>NaN</td>\n",
       "    </tr>\n",
       "    <tr>\n",
       "      <th>1</th>\n",
       "      <td>1</td>\n",
       "      <td>1</td>\n",
       "      <td>CANCELACION CONCILIADA</td>\n",
       "      <td>2023-07-03</td>\n",
       "      <td>2023-06-28</td>\n",
       "      <td>7927500</td>\n",
       "      <td>7927500</td>\n",
       "      <td>2023-07-04</td>\n",
       "      <td>PAYCLIP_Settlement_04072023_V1.csv</td>\n",
       "      <td>016079204511</td>\n",
       "      <td>...</td>\n",
       "      <td>3</td>\n",
       "      <td>0</td>\n",
       "      <td>PROSA</td>\n",
       "      <td>AGREGADOR</td>\n",
       "      <td>-36.00</td>\n",
       "      <td>1</td>\n",
       "      <td>BANORTE</td>\n",
       "      <td>bd7b89f3-2fdd-48eb-8ea2-714262cdba61</td>\n",
       "      <td>NaN</td>\n",
       "      <td>NaN</td>\n",
       "    </tr>\n",
       "    <tr>\n",
       "      <th>2</th>\n",
       "      <td>1</td>\n",
       "      <td>2</td>\n",
       "      <td>CANCELACION CONCILIADA</td>\n",
       "      <td>2023-07-03</td>\n",
       "      <td>2023-06-28</td>\n",
       "      <td>7927517</td>\n",
       "      <td>7927517</td>\n",
       "      <td>2023-07-04</td>\n",
       "      <td>PAYCLIP_Settlement_04072023_V1.csv</td>\n",
       "      <td>614313540276</td>\n",
       "      <td>...</td>\n",
       "      <td>3</td>\n",
       "      <td>0</td>\n",
       "      <td>PROSA</td>\n",
       "      <td>AGREGADOR</td>\n",
       "      <td>-158.00</td>\n",
       "      <td>1</td>\n",
       "      <td>BANORTE</td>\n",
       "      <td>dd130126-683f-42b9-91c6-edc2cb9cb2f6</td>\n",
       "      <td>NaN</td>\n",
       "      <td>NaN</td>\n",
       "    </tr>\n",
       "    <tr>\n",
       "      <th>3</th>\n",
       "      <td>1</td>\n",
       "      <td>3</td>\n",
       "      <td>CANCELACION CONCILIADA</td>\n",
       "      <td>2023-07-03</td>\n",
       "      <td>2023-06-28</td>\n",
       "      <td>7927517</td>\n",
       "      <td>7927517</td>\n",
       "      <td>2023-07-04</td>\n",
       "      <td>PAYCLIP_Settlement_04072023_V1.csv</td>\n",
       "      <td>671390267920</td>\n",
       "      <td>...</td>\n",
       "      <td>3</td>\n",
       "      <td>0</td>\n",
       "      <td>PROSA</td>\n",
       "      <td>AGREGADOR</td>\n",
       "      <td>-224.00</td>\n",
       "      <td>1</td>\n",
       "      <td>BANORTE</td>\n",
       "      <td>922afdae-d945-4c35-b9a5-4a2a5d56cf89</td>\n",
       "      <td>NaN</td>\n",
       "      <td>NaN</td>\n",
       "    </tr>\n",
       "    <tr>\n",
       "      <th>4</th>\n",
       "      <td>1</td>\n",
       "      <td>4</td>\n",
       "      <td>CANCELACION CONCILIADA</td>\n",
       "      <td>2023-07-03</td>\n",
       "      <td>2023-06-28</td>\n",
       "      <td>7927500</td>\n",
       "      <td>7927500</td>\n",
       "      <td>2023-07-04</td>\n",
       "      <td>PAYCLIP_Settlement_04072023_V1.csv</td>\n",
       "      <td>336039587075</td>\n",
       "      <td>...</td>\n",
       "      <td>3</td>\n",
       "      <td>0</td>\n",
       "      <td>PROSA</td>\n",
       "      <td>AGREGADOR</td>\n",
       "      <td>-29.40</td>\n",
       "      <td>1</td>\n",
       "      <td>BANORTE</td>\n",
       "      <td>24b75f85-3c08-466a-b62b-999a293673c7</td>\n",
       "      <td>NaN</td>\n",
       "      <td>NaN</td>\n",
       "    </tr>\n",
       "  </tbody>\n",
       "</table>\n",
       "<p>5 rows × 23 columns</p>\n",
       "</div>"
      ],
      "text/plain": [
       "   level_0  level_1                      tablero fecha_deposito_clip  \\\n",
       "0        1        0  CONCILIADA REFUNDED NO CLIP          2023-07-03   \n",
       "1        1        1       CANCELACION CONCILIADA          2023-07-03   \n",
       "2        1        2       CANCELACION CONCILIADA          2023-07-03   \n",
       "3        1        3       CANCELACION CONCILIADA          2023-07-03   \n",
       "4        1        4       CANCELACION CONCILIADA          2023-07-03   \n",
       "\n",
       "  fecha_trx_clip affiliation sub_affiliation fecha_recepción  \\\n",
       "0     2023-06-28     7927518         7927518      2023-07-04   \n",
       "1     2023-06-28     7927500         7927500      2023-07-04   \n",
       "2     2023-06-28     7927517         7927517      2023-07-04   \n",
       "3     2023-06-28     7927517         7927517      2023-07-04   \n",
       "4     2023-06-28     7927500         7927500      2023-07-04   \n",
       "\n",
       "                       nombre_archivo      order_id  ... status_code msi  \\\n",
       "0  PAYCLIP_Settlement_04072023_V1.csv  483153756111  ...    REFUNDED   0   \n",
       "1  PAYCLIP_Settlement_04072023_V1.csv  016079204511  ...           3   0   \n",
       "2  PAYCLIP_Settlement_04072023_V1.csv  614313540276  ...           3   0   \n",
       "3  PAYCLIP_Settlement_04072023_V1.csv  671390267920  ...           3   0   \n",
       "4  PAYCLIP_Settlement_04072023_V1.csv  336039587075  ...           3   0   \n",
       "\n",
       "     psp    proceso   monto recuento adquiriente  \\\n",
       "0  PROSA  AGREGADOR -250.00        1     BANORTE   \n",
       "1  PROSA  AGREGADOR  -36.00        1     BANORTE   \n",
       "2  PROSA  AGREGADOR -158.00        1     BANORTE   \n",
       "3  PROSA  AGREGADOR -224.00        1     BANORTE   \n",
       "4  PROSA  AGREGADOR  -29.40        1     BANORTE   \n",
       "\n",
       "                         transaction_id  tablero nombre_tablero  \n",
       "0                                   NaN      NaN            NaN  \n",
       "1  bd7b89f3-2fdd-48eb-8ea2-714262cdba61      NaN            NaN  \n",
       "2  dd130126-683f-42b9-91c6-edc2cb9cb2f6      NaN            NaN  \n",
       "3  922afdae-d945-4c35-b9a5-4a2a5d56cf89      NaN            NaN  \n",
       "4  24b75f85-3c08-466a-b62b-999a293673c7      NaN            NaN  \n",
       "\n",
       "[5 rows x 23 columns]"
      ]
     },
     "execution_count": 30,
     "metadata": {},
     "output_type": "execute_result"
    }
   ],
   "source": [
    "provision = pd.concat(all_sheets).reset_index()\n",
    "provision.columns = provision.columns.str.strip().str.lower() \n",
    "provision.head()"
   ]
  },
  {
   "cell_type": "code",
   "execution_count": 31,
   "id": "f3f765ef",
   "metadata": {},
   "outputs": [
    {
     "data": {
      "text/plain": [
       "(1608183, 23)"
      ]
     },
     "execution_count": 31,
     "metadata": {},
     "output_type": "execute_result"
    }
   ],
   "source": [
    "provision.shape"
   ]
  },
  {
   "cell_type": "markdown",
   "id": "c337bb22",
   "metadata": {},
   "source": [
    "# CRUCE 2: DATA PROVISION VS CRUCE 1"
   ]
  },
  {
   "cell_type": "code",
   "execution_count": 32,
   "id": "55a73310",
   "metadata": {},
   "outputs": [
    {
     "data": {
      "text/html": [
       "<div>\n",
       "<style scoped>\n",
       "    .dataframe tbody tr th:only-of-type {\n",
       "        vertical-align: middle;\n",
       "    }\n",
       "\n",
       "    .dataframe tbody tr th {\n",
       "        vertical-align: top;\n",
       "    }\n",
       "\n",
       "    .dataframe thead th {\n",
       "        text-align: right;\n",
       "    }\n",
       "</style>\n",
       "<table border=\"1\" class=\"dataframe\">\n",
       "  <thead>\n",
       "    <tr style=\"text-align: right;\">\n",
       "      <th></th>\n",
       "      <th>level_0</th>\n",
       "      <th>level_1</th>\n",
       "      <th>tablero</th>\n",
       "      <th>fecha_deposito_clip</th>\n",
       "      <th>fecha_trx_clip</th>\n",
       "      <th>affiliation</th>\n",
       "      <th>sub_affiliation</th>\n",
       "      <th>fecha_recepción</th>\n",
       "      <th>nombre_archivo</th>\n",
       "      <th>order_id</th>\n",
       "      <th>...</th>\n",
       "      <th>mvnt_id</th>\n",
       "      <th>report_id</th>\n",
       "      <th>report_date_local_final</th>\n",
       "      <th>payment_date_local_final</th>\n",
       "      <th>status_final</th>\n",
       "      <th>fees</th>\n",
       "      <th>taxes</th>\n",
       "      <th>eff_dt_date</th>\n",
       "      <th>movement_type</th>\n",
       "      <th>source_type</th>\n",
       "    </tr>\n",
       "  </thead>\n",
       "  <tbody>\n",
       "    <tr>\n",
       "      <th>0</th>\n",
       "      <td>1</td>\n",
       "      <td>0</td>\n",
       "      <td>CONCILIADA REFUNDED NO CLIP</td>\n",
       "      <td>2023-07-03</td>\n",
       "      <td>2023-06-28</td>\n",
       "      <td>7927518</td>\n",
       "      <td>7927518</td>\n",
       "      <td>2023-07-04</td>\n",
       "      <td>PAYCLIP_Settlement_04072023_V1.csv</td>\n",
       "      <td>483153756111</td>\n",
       "      <td>...</td>\n",
       "      <td>NaN</td>\n",
       "      <td>not_found</td>\n",
       "      <td>1990-01-01</td>\n",
       "      <td>1990-01-01</td>\n",
       "      <td>not_found</td>\n",
       "      <td>NaN</td>\n",
       "      <td>NaN</td>\n",
       "      <td>NaT</td>\n",
       "      <td>not_found</td>\n",
       "      <td>not_found</td>\n",
       "    </tr>\n",
       "    <tr>\n",
       "      <th>1</th>\n",
       "      <td>1</td>\n",
       "      <td>1</td>\n",
       "      <td>CANCELACION CONCILIADA</td>\n",
       "      <td>2023-07-03</td>\n",
       "      <td>2023-06-28</td>\n",
       "      <td>7927500</td>\n",
       "      <td>7927500</td>\n",
       "      <td>2023-07-04</td>\n",
       "      <td>PAYCLIP_Settlement_04072023_V1.csv</td>\n",
       "      <td>016079204511</td>\n",
       "      <td>...</td>\n",
       "      <td>NaN</td>\n",
       "      <td>not_found</td>\n",
       "      <td>1990-01-01</td>\n",
       "      <td>1990-01-01</td>\n",
       "      <td>not_found</td>\n",
       "      <td>NaN</td>\n",
       "      <td>NaN</td>\n",
       "      <td>NaT</td>\n",
       "      <td>not_found</td>\n",
       "      <td>not_found</td>\n",
       "    </tr>\n",
       "    <tr>\n",
       "      <th>2</th>\n",
       "      <td>1</td>\n",
       "      <td>2</td>\n",
       "      <td>CANCELACION CONCILIADA</td>\n",
       "      <td>2023-07-03</td>\n",
       "      <td>2023-06-28</td>\n",
       "      <td>7927517</td>\n",
       "      <td>7927517</td>\n",
       "      <td>2023-07-04</td>\n",
       "      <td>PAYCLIP_Settlement_04072023_V1.csv</td>\n",
       "      <td>614313540276</td>\n",
       "      <td>...</td>\n",
       "      <td>NaN</td>\n",
       "      <td>not_found</td>\n",
       "      <td>1990-01-01</td>\n",
       "      <td>1990-01-01</td>\n",
       "      <td>not_found</td>\n",
       "      <td>NaN</td>\n",
       "      <td>NaN</td>\n",
       "      <td>NaT</td>\n",
       "      <td>not_found</td>\n",
       "      <td>not_found</td>\n",
       "    </tr>\n",
       "    <tr>\n",
       "      <th>3</th>\n",
       "      <td>1</td>\n",
       "      <td>3</td>\n",
       "      <td>CANCELACION CONCILIADA</td>\n",
       "      <td>2023-07-03</td>\n",
       "      <td>2023-06-28</td>\n",
       "      <td>7927517</td>\n",
       "      <td>7927517</td>\n",
       "      <td>2023-07-04</td>\n",
       "      <td>PAYCLIP_Settlement_04072023_V1.csv</td>\n",
       "      <td>671390267920</td>\n",
       "      <td>...</td>\n",
       "      <td>NaN</td>\n",
       "      <td>not_found</td>\n",
       "      <td>1990-01-01</td>\n",
       "      <td>1990-01-01</td>\n",
       "      <td>not_found</td>\n",
       "      <td>NaN</td>\n",
       "      <td>NaN</td>\n",
       "      <td>NaT</td>\n",
       "      <td>not_found</td>\n",
       "      <td>not_found</td>\n",
       "    </tr>\n",
       "    <tr>\n",
       "      <th>4</th>\n",
       "      <td>1</td>\n",
       "      <td>4</td>\n",
       "      <td>CANCELACION CONCILIADA</td>\n",
       "      <td>2023-07-03</td>\n",
       "      <td>2023-06-28</td>\n",
       "      <td>7927500</td>\n",
       "      <td>7927500</td>\n",
       "      <td>2023-07-04</td>\n",
       "      <td>PAYCLIP_Settlement_04072023_V1.csv</td>\n",
       "      <td>336039587075</td>\n",
       "      <td>...</td>\n",
       "      <td>NaN</td>\n",
       "      <td>not_found</td>\n",
       "      <td>1990-01-01</td>\n",
       "      <td>1990-01-01</td>\n",
       "      <td>not_found</td>\n",
       "      <td>NaN</td>\n",
       "      <td>NaN</td>\n",
       "      <td>NaT</td>\n",
       "      <td>not_found</td>\n",
       "      <td>not_found</td>\n",
       "    </tr>\n",
       "  </tbody>\n",
       "</table>\n",
       "<p>5 rows × 33 columns</p>\n",
       "</div>"
      ],
      "text/plain": [
       "   level_0  level_1                      tablero fecha_deposito_clip  \\\n",
       "0        1        0  CONCILIADA REFUNDED NO CLIP          2023-07-03   \n",
       "1        1        1       CANCELACION CONCILIADA          2023-07-03   \n",
       "2        1        2       CANCELACION CONCILIADA          2023-07-03   \n",
       "3        1        3       CANCELACION CONCILIADA          2023-07-03   \n",
       "4        1        4       CANCELACION CONCILIADA          2023-07-03   \n",
       "\n",
       "  fecha_trx_clip affiliation sub_affiliation fecha_recepción  \\\n",
       "0     2023-06-28     7927518         7927518      2023-07-04   \n",
       "1     2023-06-28     7927500         7927500      2023-07-04   \n",
       "2     2023-06-28     7927517         7927517      2023-07-04   \n",
       "3     2023-06-28     7927517         7927517      2023-07-04   \n",
       "4     2023-06-28     7927500         7927500      2023-07-04   \n",
       "\n",
       "                       nombre_archivo      order_id  ... mvnt_id  report_id  \\\n",
       "0  PAYCLIP_Settlement_04072023_V1.csv  483153756111  ...     NaN  not_found   \n",
       "1  PAYCLIP_Settlement_04072023_V1.csv  016079204511  ...     NaN  not_found   \n",
       "2  PAYCLIP_Settlement_04072023_V1.csv  614313540276  ...     NaN  not_found   \n",
       "3  PAYCLIP_Settlement_04072023_V1.csv  671390267920  ...     NaN  not_found   \n",
       "4  PAYCLIP_Settlement_04072023_V1.csv  336039587075  ...     NaN  not_found   \n",
       "\n",
       "  report_date_local_final payment_date_local_final  status_final fees taxes  \\\n",
       "0              1990-01-01               1990-01-01     not_found  NaN   NaN   \n",
       "1              1990-01-01               1990-01-01     not_found  NaN   NaN   \n",
       "2              1990-01-01               1990-01-01     not_found  NaN   NaN   \n",
       "3              1990-01-01               1990-01-01     not_found  NaN   NaN   \n",
       "4              1990-01-01               1990-01-01     not_found  NaN   NaN   \n",
       "\n",
       "   eff_dt_date  movement_type source_type  \n",
       "0          NaT      not_found   not_found  \n",
       "1          NaT      not_found   not_found  \n",
       "2          NaT      not_found   not_found  \n",
       "3          NaT      not_found   not_found  \n",
       "4          NaT      not_found   not_found  \n",
       "\n",
       "[5 rows x 33 columns]"
      ]
     },
     "execution_count": 32,
     "metadata": {},
     "output_type": "execute_result"
    }
   ],
   "source": [
    "cruce_2 = provision.merge(cruce_1[['transaction_id','mvnt_id','report_id','report_date_local_final','payment_date_local_final',\n",
    "                                   'status_final','fees','taxes','eff_dt_date','movement_type','source_type']],\n",
    "                          on='transaction_id',how='left')\n",
    "cruce_2['report_id'].fillna('not_found',inplace=True)\n",
    "cruce_2['movement_type'].fillna('not_found',inplace=True)\n",
    "cruce_2['source_type'].fillna('not_found',inplace=True)\n",
    "cruce_2['status_final'].fillna('not_found',inplace=True)\n",
    "cruce_2['report_date_local_final'].fillna('1990-01-01',inplace=True)\n",
    "cruce_2['payment_date_local_final'].fillna('1990-01-01',inplace=True)\n",
    "cruce_2['report_date_local_final'] =  pd.to_datetime(cruce_2['report_date_local_final'])\n",
    "cruce_2['payment_date_local_final'] =  pd.to_datetime(cruce_2['payment_date_local_final'])\n",
    "cruce_2.head()"
   ]
  },
  {
   "cell_type": "code",
   "execution_count": 33,
   "id": "8fdfba12",
   "metadata": {},
   "outputs": [
    {
     "data": {
      "text/plain": [
       "(1608188, 33)"
      ]
     },
     "execution_count": 33,
     "metadata": {},
     "output_type": "execute_result"
    }
   ],
   "source": [
    "cruce_2.shape"
   ]
  },
  {
   "cell_type": "code",
   "execution_count": 34,
   "id": "bafecb0a",
   "metadata": {},
   "outputs": [
    {
     "data": {
      "text/plain": [
       "array(['not_found', 'REGULAR_PYMT_RQ', 'DEFERRED_REGULAR_PYMNT_RQ',\n",
       "       'FAST_PYMT_RQ', 'DEFERRED_FAST_PYMNT_RQ', 'CANCEL_RQ'],\n",
       "      dtype=object)"
      ]
     },
     "execution_count": 34,
     "metadata": {},
     "output_type": "execute_result"
    }
   ],
   "source": [
    "cruce_2['movement_type'].unique()"
   ]
  },
  {
   "cell_type": "code",
   "execution_count": 35,
   "id": "64aeba02",
   "metadata": {},
   "outputs": [
    {
     "data": {
      "text/plain": [
       "array(['not_found', 'SETT', 'PYMT'], dtype=object)"
      ]
     },
     "execution_count": 35,
     "metadata": {},
     "output_type": "execute_result"
    }
   ],
   "source": [
    "cruce_2['source_type'].unique()"
   ]
  },
  {
   "cell_type": "code",
   "execution_count": 36,
   "id": "ceeab129",
   "metadata": {},
   "outputs": [
    {
     "data": {
      "text/plain": [
       "array([1, 2, 3, 4, 5, 6, 7], dtype=int64)"
      ]
     },
     "execution_count": 36,
     "metadata": {},
     "output_type": "execute_result"
    }
   ],
   "source": [
    "cruce_2['level_0'].unique()"
   ]
  },
  {
   "cell_type": "markdown",
   "id": "6a0638a4",
   "metadata": {},
   "source": [
    "# EXCEL FINAL"
   ]
  },
  {
   "cell_type": "code",
   "execution_count": 37,
   "id": "f51e5a8e",
   "metadata": {},
   "outputs": [],
   "source": [
    "grouped = cruce_2.groupby(cruce_2.level_0)"
   ]
  },
  {
   "cell_type": "code",
   "execution_count": 38,
   "id": "e7abd354",
   "metadata": {},
   "outputs": [],
   "source": [
    "group_1 = grouped.get_group(1)\n",
    "group_2 = grouped.get_group(2)\n",
    "group_3 = grouped.get_group(3)\n",
    "group_4 = grouped.get_group(4)\n",
    "group_5 = grouped.get_group(5)\n",
    "group_6 = grouped.get_group(6)\n",
    "group_7 = grouped.get_group(7)"
   ]
  },
  {
   "cell_type": "code",
   "execution_count": 39,
   "id": "dc6029be",
   "metadata": {},
   "outputs": [],
   "source": [
    "group_1.to_csv('1.csv',index=False)\n",
    "group_2.to_csv('2.csv',index=False)\n",
    "group_3.to_csv('3.csv',index=False)\n",
    "group_4.to_csv('4.csv',index=False)\n",
    "group_5.to_csv('5.csv',index=False)\n",
    "group_6.to_csv('6.csv',index=False)\n",
    "group_7.to_csv('7.csv',index=False)"
   ]
  },
  {
   "cell_type": "code",
   "execution_count": 40,
   "id": "90ede6ce",
   "metadata": {},
   "outputs": [],
   "source": [
    "writer = pd.ExcelWriter('Data_final_provision_junio_2023.xlsx',\n",
    "                        engine='xlsxwriter',\n",
    "                        engine_kwargs={'options': {'encoding':'utf-8'}})\n",
    "group_1.to_excel(writer, sheet_name='1', index=False)\n",
    "group_2.to_excel(writer, sheet_name='2', index=False)\n",
    "group_3.to_excel(writer, sheet_name='3', index=False)\n",
    "group_4.to_excel(writer, sheet_name='4', index=False)\n",
    "group_5.to_excel(writer, sheet_name='5', index=False)\n",
    "group_6.to_excel(writer, sheet_name='6', index=False)\n",
    "group_7.to_excel(writer, sheet_name='7', index=False)\n",
    "writer.close()"
   ]
  },
  {
   "cell_type": "code",
   "execution_count": null,
   "id": "3b20b16b",
   "metadata": {},
   "outputs": [],
   "source": []
  }
 ],
 "metadata": {
  "kernelspec": {
   "display_name": "Python 3 (ipykernel)",
   "language": "python",
   "name": "python3"
  },
  "language_info": {
   "codemirror_mode": {
    "name": "ipython",
    "version": 3
   },
   "file_extension": ".py",
   "mimetype": "text/x-python",
   "name": "python",
   "nbconvert_exporter": "python",
   "pygments_lexer": "ipython3",
   "version": "3.9.17"
  }
 },
 "nbformat": 4,
 "nbformat_minor": 5
}
