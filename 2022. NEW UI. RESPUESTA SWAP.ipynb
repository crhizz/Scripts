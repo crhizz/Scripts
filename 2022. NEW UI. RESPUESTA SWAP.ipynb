{
 "cells": [
  {
   "cell_type": "code",
   "execution_count": null,
   "metadata": {},
   "outputs": [],
   "source": [
    "import pandas as pd\n",
    "import numpy as np\n",
    "from openpyxl import load_workbook\n",
    "import xlsxwriter\n",
    "pd.options.display.float_format = '{:,.2f}'.format"
   ]
  },
  {
   "cell_type": "markdown",
   "metadata": {},
   "source": [
    "## READING FILES"
   ]
  },
  {
   "cell_type": "code",
   "execution_count": null,
   "metadata": {},
   "outputs": [],
   "source": [
    "date_respuesta = '2022-02-15'\n",
    "date_respuesta = pd.to_datetime(date_respuesta)"
   ]
  },
  {
   "cell_type": "code",
   "execution_count": null,
   "metadata": {},
   "outputs": [],
   "source": [
    "names_resp = ['report_id','status','report_date_local','amount','disbursement_batch_id','merchant_id','bank_account_number',\n",
    "             'bank_name','bank_account_owner_name','execution_date','aplication_date','disbursement_tracking_key',\n",
    "             'error_description']"
   ]
  },
  {
   "cell_type": "code",
   "execution_count": null,
   "metadata": {},
   "outputs": [],
   "source": [
    "disp = pd.read_csv(r'G:\\My Drive\\Settlement\\5.-HISTORICO FILES PAGOS\\2022\\02. FEBRUARY\\SWAP 2022-02-15.csv')\n",
    "rs1 = pd.read_excel(r'C:\\Users\\Cristian.Aparicio\\Documents\\DISPERSIONES\\2022\\02. FEBRERO\\Respuesta-Swap 2022-02-15.xlsx',\n",
    "                    sheet_name='Report',names=names_resp,\n",
    "                    converters={'bank_account_number':str,'disbursement_tracking_key':str,'report_id':str})\n",
    "bin1 = pd.read_csv(r'C:\\Users\\Cristian.Aparicio\\Documents\\DISPERSIONES\\Catalogo_Bancos.csv'\n",
    "                  ,dtype={'BIN':object,'Clave de la institución':object,'Nombre de la institución':object})\n"
   ]
  },
  {
   "cell_type": "markdown",
   "metadata": {},
   "source": [
    "# BIN"
   ]
  },
  {
   "cell_type": "code",
   "execution_count": null,
   "metadata": {},
   "outputs": [],
   "source": [
    "bin1.head()"
   ]
  },
  {
   "cell_type": "code",
   "execution_count": null,
   "metadata": {},
   "outputs": [],
   "source": [
    "bin1.shape"
   ]
  },
  {
   "cell_type": "markdown",
   "metadata": {},
   "source": [
    "# ARCHIVO RESPUESTA"
   ]
  },
  {
   "cell_type": "code",
   "execution_count": null,
   "metadata": {},
   "outputs": [],
   "source": [
    "rs1['Date_respuesta'] = date_respuesta\n",
    "rs1['BIN'] = rs1['bank_account_number'].str[:3]\n",
    "rs1.rename(columns ={'bank_account_number':'CLABE'}, inplace=True)\n",
    "rs1['Metodo de dispersion'] = 'SWAP'\n",
    "rs1.head()"
   ]
  },
  {
   "cell_type": "code",
   "execution_count": null,
   "metadata": {},
   "outputs": [],
   "source": [
    "rs1.shape"
   ]
  },
  {
   "cell_type": "code",
   "execution_count": null,
   "metadata": {},
   "outputs": [],
   "source": [
    "rs1['report_id'] = rs1['report_id'].str.strip()"
   ]
  },
  {
   "cell_type": "code",
   "execution_count": null,
   "metadata": {},
   "outputs": [],
   "source": [
    "rs2 = rs1.merge(bin1[['BIN','Clave de la institución','Nombre de la institución']] ,on='BIN', how='left')\n",
    "rs2.loc[rs2['disbursement_tracking_key'].str[:4] == \"'085\", \"Banco_emisor\"] = 'BANAMEX'\n",
    "rs2.loc[rs2['disbursement_tracking_key'].str[:4] == 'CLIP', \"Banco_emisor\"] = 'STP'\n",
    "rs2.loc[rs2['disbursement_tracking_key'].str[:4] == '2021', \"Banco_emisor\"] = 'SANTANDER'\n",
    "rs2.loc[rs2['disbursement_tracking_key'].str[:4] == '2022', \"Banco_emisor\"] = 'SANTANDER'\n",
    "rs2.loc[rs2['disbursement_tracking_key'].str[:4] == '#N/D', \"Banco_emisor\"] = 'SANTANDER'\n",
    "rs2.loc[rs2['disbursement_tracking_key'].str[:3] == '178', \"Banco_emisor\"] = 'BANAMEX'\n",
    "rs2.loc[rs2['disbursement_tracking_key'].str[:2] == '17', \"Banco_emisor\"] = 'BANAMEX'\n",
    "rs2.loc[rs2['disbursement_tracking_key'].str[:4] == '1.78', \"Banco_emisor\"] = 'BANAMEX'\n",
    "rs2.loc[rs2['disbursement_tracking_key'].str[:4] == '1.79', \"Banco_emisor\"] = 'BANAMEX'\n",
    "rs2.loc[rs2['disbursement_tracking_key'].str[:4] == '0', \"Banco_emisor\"] = 'SANTANDER - REFERENCIA NUMERICA'\n",
    "rs2.loc[rs2['disbursement_tracking_key'].str[:4] == '#¡REF!', \"Banco_emisor\"] = 'CEP PENDIENTE DE ENVIO'\n",
    "rs2.loc[rs2['Banco_emisor'] == 'BANAMEX', \"Banco emisor\"] = '40002'\n",
    "rs2.loc[rs2['Banco_emisor'] == 'STP', \"Banco emisor\"] = '90646'\n",
    "rs2.loc[rs2['Banco_emisor'] == 'SANTANDER', \"Banco emisor\"] = '40014'\n",
    "rs2['Comision'] = ''\n",
    "rs2['LINEA CEP'] = (rs2['Date_respuesta'].astype(str).replace(' ', '',regex=True)+','\n",
    "                    +rs2['disbursement_tracking_key'].astype(str).replace(' ', '',regex=True)+','\n",
    "                    +rs2['Banco emisor'].astype(str).replace(' ', '',regex=True)+','\n",
    "                    +rs2['Clave de la institución'].astype(str).replace(' ', '',regex=True)+','\n",
    "                    +rs2['CLABE'].astype(str).replace(' ', '',regex=True)+','\n",
    "                    +rs2['amount'].astype(str).replace(' ', '',regex=True))\n",
    "rs2.head()"
   ]
  },
  {
   "cell_type": "code",
   "execution_count": null,
   "metadata": {},
   "outputs": [],
   "source": [
    "rs2.shape"
   ]
  },
  {
   "cell_type": "markdown",
   "metadata": {},
   "source": [
    "# ARCHIVO DISPERSION"
   ]
  },
  {
   "cell_type": "code",
   "execution_count": null,
   "metadata": {},
   "outputs": [],
   "source": [
    "disp['date_disbursement'] = date_respuesta\n",
    "disp['report_id'] = disp['report_id'].str.strip()\n",
    "disp['report_date_local'] = pd.to_datetime(disp['report_date_local'])"
   ]
  },
  {
   "cell_type": "code",
   "execution_count": null,
   "metadata": {},
   "outputs": [],
   "source": [
    "disp.loc[disp['report_date_local'] == date_respuesta, 'tipo'] = 'Pago del día'\n",
    "disp.loc[disp['report_date_local'] != date_respuesta, 'tipo'] = 'Reprogramación'\n",
    "disp.drop(['bank_name','bank_account_number','status','swap','payment_date_local'],axis=1,inplace=True)\n",
    "disp.head()"
   ]
  },
  {
   "cell_type": "code",
   "execution_count": null,
   "metadata": {},
   "outputs": [],
   "source": [
    "disp.shape"
   ]
  },
  {
   "cell_type": "code",
   "execution_count": null,
   "metadata": {},
   "outputs": [],
   "source": [
    "disp_2 = disp.merge(rs2[['report_id','status','Nombre de la institución','CLABE','LINEA CEP','Banco_emisor']]\n",
    "                    ,on='report_id', how='left')\n",
    "disp_2.loc[disp_2['status'] != 'PAID', 'status'] = 'ERROR'\n",
    "disp_2.sort_values(by=['status'])\n",
    "disp_2.head()"
   ]
  },
  {
   "cell_type": "code",
   "execution_count": null,
   "metadata": {},
   "outputs": [],
   "source": [
    "disp_2.loc[(disp_2['Nombre de la institución'] == 'SANTANDER') &\n",
    "           (disp_2['Banco_emisor'] == 'SANTANDER'), 'LINEA CEP'] = 'COMPROBANTE MISMO BANCO SANTANDER'\n",
    "disp_2.loc[(disp_2['Nombre de la institución'] == 'BANAMEX') &\n",
    "           (disp_2['Banco_emisor'] == 'BANAMEX'), 'LINEA CEP'] = 'COMPROBANTE MISMO BANCO BANAMEX'\n",
    "disp_2.loc[(disp_2['Nombre de la institución'] == 'STP') &\n",
    "           (disp_2['Banco_emisor'] == 'STP'), 'LINEA CEP'] = 'COMPROBANTE MISMO BANCO STP'\n",
    "# disp_2['LINEA CEP'] = (np.where(disp_2['Banco_emisor'] == 'SANTANDER - REFERENCIA NUMERICA',\n",
    "#                                 disp_2['Referencia Numerica'], disp_2['LINEA_CEP']))\n",
    "disp_2.loc[disp_2['status'] != 'PAID', 'LINEA CEP'] = ''\n",
    "disp_2.loc[disp_2['status'] != 'PAID', 'Banco_emisor'] = ''\n",
    "disp_2.loc[disp_2['LINEA CEP'] == 'CEP PENDIENTE DE ENVIO', 'Banco_emisor'] = ''"
   ]
  },
  {
   "cell_type": "code",
   "execution_count": null,
   "metadata": {},
   "outputs": [],
   "source": [
    "for col in disp_2.columns: \n",
    "    print(col) "
   ]
  },
  {
   "cell_type": "code",
   "execution_count": null,
   "metadata": {},
   "outputs": [],
   "source": [
    "disp_final = disp_2[['merchant_id','merchant_name','user_email','report_id','report_date_local','amount','tipo'\n",
    "                    ,'Nombre de la institución','bank_account_owner_name','CLABE','status','LINEA CEP','Banco_emisor']]\n",
    "disp_final.rename(columns ={'Nombre de la institución':'bank','amount':'total_due'}, inplace=True)\n",
    "disp_final.sort_values(by=['status'], ascending=True, inplace=True)\n",
    "disp_final.head()"
   ]
  },
  {
   "cell_type": "code",
   "execution_count": null,
   "metadata": {},
   "outputs": [],
   "source": [
    "disp_final.shape"
   ]
  },
  {
   "cell_type": "code",
   "execution_count": null,
   "metadata": {
    "scrolled": true
   },
   "outputs": [],
   "source": [
    "duplicates_disp_final = disp_final[disp_final.duplicated(['report_id'],keep=False)]\n",
    "duplicates_disp_final.head()"
   ]
  },
  {
   "cell_type": "code",
   "execution_count": null,
   "metadata": {},
   "outputs": [],
   "source": [
    "duplicates_disp_final.shape"
   ]
  },
  {
   "cell_type": "markdown",
   "metadata": {},
   "source": [
    "# ERROR"
   ]
  },
  {
   "cell_type": "code",
   "execution_count": null,
   "metadata": {},
   "outputs": [],
   "source": [
    "error = disp_final[(disp_final['status'] != 'PAID')]\n",
    "error.head()"
   ]
  },
  {
   "cell_type": "code",
   "execution_count": null,
   "metadata": {},
   "outputs": [],
   "source": [
    "error.shape"
   ]
  },
  {
   "cell_type": "code",
   "execution_count": null,
   "metadata": {},
   "outputs": [],
   "source": [
    "error.drop(['bank_account_owner_name','CLABE','status','LINEA CEP','Banco_emisor'],axis=1,inplace=True)"
   ]
  },
  {
   "cell_type": "code",
   "execution_count": null,
   "metadata": {},
   "outputs": [],
   "source": [
    "error.loc[error['bank'] == 'SANTANDER', 'Check'] = 'SPEI DEVUELTO MISMO BANCO'\n",
    "error.loc[error['bank'] != 'SANTANDER', 'Check'] = 'SPEI DEVUELTO'"
   ]
  },
  {
   "cell_type": "code",
   "execution_count": null,
   "metadata": {},
   "outputs": [],
   "source": [
    "error_final = error.merge(rs2[['report_id','error_description']] ,on='report_id', how='left')\n",
    "error_final.head()"
   ]
  },
  {
   "cell_type": "code",
   "execution_count": null,
   "metadata": {},
   "outputs": [],
   "source": [
    "error_final.shape"
   ]
  },
  {
   "cell_type": "markdown",
   "metadata": {},
   "source": [
    "# ARCHIVOS FINALES"
   ]
  },
  {
   "cell_type": "markdown",
   "metadata": {},
   "source": [
    "### ARCHIVO DISPERSION"
   ]
  },
  {
   "cell_type": "code",
   "execution_count": null,
   "metadata": {},
   "outputs": [],
   "source": [
    "writer = pd.ExcelWriter('DISPERSION SWAP.xlsx', engine='xlsxwriter', engine_kwargs={'options': {'encoding':'utf-8'}})\n",
    "disp_final.to_excel(writer, sheet_name='SWAP DEL DIA',index=False)\n",
    "error_final.to_excel(writer, sheet_name='ERROR',index=False)\n",
    "writer.close()"
   ]
  },
  {
   "cell_type": "markdown",
   "metadata": {},
   "source": [
    "### ARCHIVO RESPUESTA"
   ]
  },
  {
   "cell_type": "code",
   "execution_count": null,
   "metadata": {},
   "outputs": [],
   "source": [
    "rs2.head()"
   ]
  },
  {
   "cell_type": "code",
   "execution_count": null,
   "metadata": {},
   "outputs": [],
   "source": [
    "rs_final = rs2[['disbursement_tracking_key','bank_account_owner_name','report_id','CLABE',\n",
    "                'Nombre de la institución','amount','Comision','status','error_description','Date_respuesta',\n",
    "                'Metodo de dispersion']]\n",
    "rs_final.rename(columns = {'disbursement_tracking_key':'Rastreo CEP'\n",
    "                           ,'bank_account_owner_name':'Nombre','CLABE':'Cuenta'\n",
    "                           ,'Nombre de la institución':'Banco','amount':'Importe','status':'Estatus'\n",
    "                           ,'error_description':'Mensaje'}, inplace=True)\n",
    "rs_final['Cuenta'] = \"'\"+rs_final['Cuenta']\n",
    "rs_final.sort_values(by=['Estatus'], ascending=True, inplace=True)\n",
    "rs_final.head()"
   ]
  },
  {
   "cell_type": "code",
   "execution_count": null,
   "metadata": {},
   "outputs": [],
   "source": [
    "rs_final.shape"
   ]
  },
  {
   "cell_type": "code",
   "execution_count": null,
   "metadata": {},
   "outputs": [],
   "source": [
    "rs_final.to_csv(r'G:\\My Drive\\Settlement\\Respuestas Swap\\2022\\02. Febrero 2022\\Respuesta 2022-02-09.csv',index=False)"
   ]
  },
  {
   "cell_type": "code",
   "execution_count": null,
   "metadata": {},
   "outputs": [],
   "source": []
  }
 ],
 "metadata": {
  "kernelspec": {
   "display_name": "Python 3 (ipykernel)",
   "language": "python",
   "name": "python3"
  },
  "language_info": {
   "codemirror_mode": {
    "name": "ipython",
    "version": 3
   },
   "file_extension": ".py",
   "mimetype": "text/x-python",
   "name": "python",
   "nbconvert_exporter": "python",
   "pygments_lexer": "ipython3",
   "version": "3.8.13"
  }
 },
 "nbformat": 4,
 "nbformat_minor": 4
}
