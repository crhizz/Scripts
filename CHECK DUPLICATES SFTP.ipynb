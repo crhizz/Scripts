{
 "cells": [
  {
   "cell_type": "code",
   "execution_count": 1,
   "metadata": {},
   "outputs": [],
   "source": [
    "import numpy as np\n",
    "import pandas as pd\n",
    "import zipfile\n",
    "from zipfile import ZipFile\n",
    "import glob\n",
    "import os\n",
    "from openpyxl import load_workbook\n",
    "pd.options.display.float_format = '{:,.2f}'.format"
   ]
  },
  {
   "cell_type": "markdown",
   "metadata": {},
   "source": [
    "# SFTP"
   ]
  },
  {
   "cell_type": "markdown",
   "metadata": {},
   "source": [
    "## HEADERS"
   ]
  },
  {
   "cell_type": "code",
   "execution_count": 2,
   "metadata": {},
   "outputs": [],
   "source": [
    "name_file=[\"Tipo de Columna\",\"Afiliación\",\"Referencia\",\"Tarjeta\",\"Monto depositado\",\"Comisiones\",\"Fecha txn\",\"Importe Bruto\"\n",
    "           ,\"Tipo Moneda\",\"Tipo txn\",\"Iva\",\"Iva por pago diferido\",\"Iva pagado por cashback\",\"Iva cobrado por cashback\"\n",
    "           ,\"Comisión pagada por cashback\",\"Comisión cobrada por cashback\",\"Comisión por pago diferido\",\"Monto del Cashback\"\n",
    "           ,\"Núm Pagos\",\"Diferimiento Inicial\",\"Tipo de Plan\",\"Código de Autorización\",\"Empty\",\"ECI\",\"Ref. Interbancaria\"\n",
    "           ,\"Empty.1\",\"Empty.2\",\"Empty.3\",\"order_id_xpay\",\"Ref. de Payworks\",\"Customer_ref1\",\"Customer_ref2\",\"Customer_ref3\"\n",
    "           ,\"Núm de Control\"]\n",
    "dtypes_file={'Importe Bruto':float,'Ref. Interbancaria': object,'Afiliación':object,'Referencia':object,'Tarjeta':object\n",
    "             ,'Núm Pagos':object,'Diferimiento Inicial':object,'Tipo de Plan':object,'Código de Autorización':object\n",
    "             ,'ECI':object,'order_id_xpay':object}"
   ]
  },
  {
   "cell_type": "code",
   "execution_count": 3,
   "metadata": {},
   "outputs": [],
   "source": [
    "use_cols = ['Afiliación','Tipo txn','Fecha txn','Importe Bruto','Código de Autorización','Ref. Interbancaria','order_id_xpay','Tarjeta']"
   ]
  },
  {
   "cell_type": "markdown",
   "metadata": {},
   "source": [
    "### DICIEMBRE"
   ]
  },
  {
   "cell_type": "code",
   "execution_count": 4,
   "metadata": {},
   "outputs": [],
   "source": [
    "sftp_dec_1 = glob.glob(r'G:\\My Drive\\2.-CONCILIACIONES Y POLIZA\\SFTP BANORTE\\2020 SFTP Banorte\\12. DICIEMBRE\\**\\PAYCLIP_Settlement*.csv', recursive=False)"
   ]
  },
  {
   "cell_type": "code",
   "execution_count": 5,
   "metadata": {},
   "outputs": [
    {
     "data": {
      "text/html": [
       "<div>\n",
       "<style scoped>\n",
       "    .dataframe tbody tr th:only-of-type {\n",
       "        vertical-align: middle;\n",
       "    }\n",
       "\n",
       "    .dataframe tbody tr th {\n",
       "        vertical-align: top;\n",
       "    }\n",
       "\n",
       "    .dataframe thead th {\n",
       "        text-align: right;\n",
       "    }\n",
       "</style>\n",
       "<table border=\"1\" class=\"dataframe\">\n",
       "  <thead>\n",
       "    <tr style=\"text-align: right;\">\n",
       "      <th></th>\n",
       "      <th>Afiliación</th>\n",
       "      <th>Tarjeta</th>\n",
       "      <th>Fecha txn</th>\n",
       "      <th>Importe Bruto</th>\n",
       "      <th>Tipo txn</th>\n",
       "      <th>codigo_autorizacion</th>\n",
       "      <th>order_id</th>\n",
       "      <th>order_id_xpay</th>\n",
       "      <th>file_name</th>\n",
       "      <th>date_file</th>\n",
       "      <th>month</th>\n",
       "    </tr>\n",
       "  </thead>\n",
       "  <tbody>\n",
       "    <tr>\n",
       "      <th>0</th>\n",
       "      <td>MXN</td>\n",
       "      <td>-536038925</td>\n",
       "      <td>3011201</td>\n",
       "      <td>20,201,130.00</td>\n",
       "      <td>BANORTE</td>\n",
       "      <td>NaN</td>\n",
       "      <td>NaN</td>\n",
       "      <td>NaN</td>\n",
       "      <td>PAYCLIP_Settlement_01122020_V1.csv</td>\n",
       "      <td>2020-12-01</td>\n",
       "      <td>December</td>\n",
       "    </tr>\n",
       "    <tr>\n",
       "      <th>367326</th>\n",
       "      <td>07927517</td>\n",
       "      <td>6363182702</td>\n",
       "      <td>20201127</td>\n",
       "      <td>6,000.00</td>\n",
       "      <td>SETTLED</td>\n",
       "      <td>088567</td>\n",
       "      <td>497421556980</td>\n",
       "      <td>NaN</td>\n",
       "      <td>PAYCLIP_Settlement_01122020_V1.csv</td>\n",
       "      <td>2020-12-01</td>\n",
       "      <td>December</td>\n",
       "    </tr>\n",
       "    <tr>\n",
       "      <th>367325</th>\n",
       "      <td>07927517</td>\n",
       "      <td>5579209086</td>\n",
       "      <td>20201127</td>\n",
       "      <td>12,500.00</td>\n",
       "      <td>SETTLED</td>\n",
       "      <td>909494</td>\n",
       "      <td>964050656343</td>\n",
       "      <td>NaN</td>\n",
       "      <td>PAYCLIP_Settlement_01122020_V1.csv</td>\n",
       "      <td>2020-12-01</td>\n",
       "      <td>December</td>\n",
       "    </tr>\n",
       "    <tr>\n",
       "      <th>367324</th>\n",
       "      <td>07927517</td>\n",
       "      <td>4915667903</td>\n",
       "      <td>20201127</td>\n",
       "      <td>10,800.00</td>\n",
       "      <td>SETTLED</td>\n",
       "      <td>000394</td>\n",
       "      <td>804314062067</td>\n",
       "      <td>NaN</td>\n",
       "      <td>PAYCLIP_Settlement_01122020_V1.csv</td>\n",
       "      <td>2020-12-01</td>\n",
       "      <td>December</td>\n",
       "    </tr>\n",
       "    <tr>\n",
       "      <th>367323</th>\n",
       "      <td>07927517</td>\n",
       "      <td>4152314569</td>\n",
       "      <td>20201127</td>\n",
       "      <td>10,420.00</td>\n",
       "      <td>SETTLED</td>\n",
       "      <td>108585</td>\n",
       "      <td>888816593531</td>\n",
       "      <td>NaN</td>\n",
       "      <td>PAYCLIP_Settlement_01122020_V1.csv</td>\n",
       "      <td>2020-12-01</td>\n",
       "      <td>December</td>\n",
       "    </tr>\n",
       "  </tbody>\n",
       "</table>\n",
       "</div>"
      ],
      "text/plain": [
       "       Afiliación     Tarjeta  Fecha txn  Importe Bruto Tipo txn  \\\n",
       "0             MXN  -536038925    3011201  20,201,130.00  BANORTE   \n",
       "367326   07927517  6363182702   20201127       6,000.00  SETTLED   \n",
       "367325   07927517  5579209086   20201127      12,500.00  SETTLED   \n",
       "367324   07927517  4915667903   20201127      10,800.00  SETTLED   \n",
       "367323   07927517  4152314569   20201127      10,420.00  SETTLED   \n",
       "\n",
       "       codigo_autorizacion      order_id order_id_xpay  \\\n",
       "0                      NaN           NaN           NaN   \n",
       "367326              088567  497421556980           NaN   \n",
       "367325              909494  964050656343           NaN   \n",
       "367324              000394  804314062067           NaN   \n",
       "367323              108585  888816593531           NaN   \n",
       "\n",
       "                                 file_name  date_file     month  \n",
       "0       PAYCLIP_Settlement_01122020_V1.csv 2020-12-01  December  \n",
       "367326  PAYCLIP_Settlement_01122020_V1.csv 2020-12-01  December  \n",
       "367325  PAYCLIP_Settlement_01122020_V1.csv 2020-12-01  December  \n",
       "367324  PAYCLIP_Settlement_01122020_V1.csv 2020-12-01  December  \n",
       "367323  PAYCLIP_Settlement_01122020_V1.csv 2020-12-01  December  "
      ]
     },
     "execution_count": 5,
     "metadata": {},
     "output_type": "execute_result"
    }
   ],
   "source": [
    "sftp_dec = pd.concat([pd.read_csv(f,names=name_file,dtype=dtypes_file,usecols=use_cols).assign(file_name=os.path.basename(f)) for f in sftp_dec_1])\n",
    "sftp_dec.rename(columns ={'Ref. Interbancaria':'order_id','Código de Autorización':'codigo_autorizacion'}, inplace=True)\n",
    "sftp_dec['date_file'] = sftp_dec[\"file_name\"].str[-15:-7]\n",
    "sftp_dec['date_file']= pd.to_datetime(sftp_dec['date_file'], format='%d%m%Y').dt.date\n",
    "sftp_dec['date_file']= pd.to_datetime(sftp_dec['date_file'])\n",
    "sftp_dec.sort_values(by=['date_file'],ascending=True,inplace=True)\n",
    "sftp_dec['month'] = sftp_dec['date_file'].dt.strftime('%B')\n",
    "sftp_dec.head()"
   ]
  },
  {
   "cell_type": "code",
   "execution_count": 6,
   "metadata": {},
   "outputs": [
    {
     "data": {
      "text/plain": [
       "(695387, 11)"
      ]
     },
     "execution_count": 6,
     "metadata": {},
     "output_type": "execute_result"
    }
   ],
   "source": [
    "sftp_dec.shape"
   ]
  },
  {
   "cell_type": "markdown",
   "metadata": {},
   "source": [
    "### NOVIEMBRE"
   ]
  },
  {
   "cell_type": "code",
   "execution_count": 7,
   "metadata": {},
   "outputs": [],
   "source": [
    "sftp_nov_1 = glob.glob(r'G:\\My Drive\\2.-CONCILIACIONES Y POLIZA\\SFTP BANORTE\\2020 SFTP Banorte\\11. NOVIEMBRE\\**\\PAYCLIP_Settlement*.csv', recursive=False)"
   ]
  },
  {
   "cell_type": "code",
   "execution_count": 8,
   "metadata": {},
   "outputs": [
    {
     "data": {
      "text/html": [
       "<div>\n",
       "<style scoped>\n",
       "    .dataframe tbody tr th:only-of-type {\n",
       "        vertical-align: middle;\n",
       "    }\n",
       "\n",
       "    .dataframe tbody tr th {\n",
       "        vertical-align: top;\n",
       "    }\n",
       "\n",
       "    .dataframe thead th {\n",
       "        text-align: right;\n",
       "    }\n",
       "</style>\n",
       "<table border=\"1\" class=\"dataframe\">\n",
       "  <thead>\n",
       "    <tr style=\"text-align: right;\">\n",
       "      <th></th>\n",
       "      <th>Afiliación</th>\n",
       "      <th>Tarjeta</th>\n",
       "      <th>Fecha txn</th>\n",
       "      <th>Importe Bruto</th>\n",
       "      <th>Tipo txn</th>\n",
       "      <th>codigo_autorizacion</th>\n",
       "      <th>order_id</th>\n",
       "      <th>order_id_xpay</th>\n",
       "      <th>file_name</th>\n",
       "      <th>date_file</th>\n",
       "      <th>month</th>\n",
       "    </tr>\n",
       "  </thead>\n",
       "  <tbody>\n",
       "    <tr>\n",
       "      <th>0</th>\n",
       "      <td>MXN</td>\n",
       "      <td>-530225705</td>\n",
       "      <td>311201</td>\n",
       "      <td>20,201,103.00</td>\n",
       "      <td>BANORTE</td>\n",
       "      <td>NaN</td>\n",
       "      <td>NaN</td>\n",
       "      <td>NaN</td>\n",
       "      <td>PAYCLIP_Settlement_04112020_V1.csv</td>\n",
       "      <td>2020-11-04</td>\n",
       "      <td>November</td>\n",
       "    </tr>\n",
       "    <tr>\n",
       "      <th>419213</th>\n",
       "      <td>07927517</td>\n",
       "      <td>4772607090</td>\n",
       "      <td>20201030</td>\n",
       "      <td>113,900.00</td>\n",
       "      <td>SETTLED</td>\n",
       "      <td>004355</td>\n",
       "      <td>529416644811</td>\n",
       "      <td>NaN</td>\n",
       "      <td>PAYCLIP_Settlement_04112020_V1.csv</td>\n",
       "      <td>2020-11-04</td>\n",
       "      <td>November</td>\n",
       "    </tr>\n",
       "    <tr>\n",
       "      <th>419214</th>\n",
       "      <td>07927517</td>\n",
       "      <td>4152318159</td>\n",
       "      <td>20201030</td>\n",
       "      <td>9,300.00</td>\n",
       "      <td>SETTLED</td>\n",
       "      <td>861315</td>\n",
       "      <td>750664220622</td>\n",
       "      <td>NaN</td>\n",
       "      <td>PAYCLIP_Settlement_04112020_V1.csv</td>\n",
       "      <td>2020-11-04</td>\n",
       "      <td>November</td>\n",
       "    </tr>\n",
       "    <tr>\n",
       "      <th>419215</th>\n",
       "      <td>07927517</td>\n",
       "      <td>4152318379</td>\n",
       "      <td>20201030</td>\n",
       "      <td>1,300.00</td>\n",
       "      <td>SETTLED</td>\n",
       "      <td>861789</td>\n",
       "      <td>994129559701</td>\n",
       "      <td>NaN</td>\n",
       "      <td>PAYCLIP_Settlement_04112020_V1.csv</td>\n",
       "      <td>2020-11-04</td>\n",
       "      <td>November</td>\n",
       "    </tr>\n",
       "    <tr>\n",
       "      <th>419216</th>\n",
       "      <td>07927517</td>\n",
       "      <td>4213163517</td>\n",
       "      <td>20201030</td>\n",
       "      <td>27,800.00</td>\n",
       "      <td>SETTLED</td>\n",
       "      <td>043119</td>\n",
       "      <td>049865834044</td>\n",
       "      <td>NaN</td>\n",
       "      <td>PAYCLIP_Settlement_04112020_V1.csv</td>\n",
       "      <td>2020-11-04</td>\n",
       "      <td>November</td>\n",
       "    </tr>\n",
       "  </tbody>\n",
       "</table>\n",
       "</div>"
      ],
      "text/plain": [
       "       Afiliación     Tarjeta  Fecha txn  Importe Bruto Tipo txn  \\\n",
       "0             MXN  -530225705     311201  20,201,103.00  BANORTE   \n",
       "419213   07927517  4772607090   20201030     113,900.00  SETTLED   \n",
       "419214   07927517  4152318159   20201030       9,300.00  SETTLED   \n",
       "419215   07927517  4152318379   20201030       1,300.00  SETTLED   \n",
       "419216   07927517  4213163517   20201030      27,800.00  SETTLED   \n",
       "\n",
       "       codigo_autorizacion      order_id order_id_xpay  \\\n",
       "0                      NaN           NaN           NaN   \n",
       "419213              004355  529416644811           NaN   \n",
       "419214              861315  750664220622           NaN   \n",
       "419215              861789  994129559701           NaN   \n",
       "419216              043119  049865834044           NaN   \n",
       "\n",
       "                                 file_name  date_file     month  \n",
       "0       PAYCLIP_Settlement_04112020_V1.csv 2020-11-04  November  \n",
       "419213  PAYCLIP_Settlement_04112020_V1.csv 2020-11-04  November  \n",
       "419214  PAYCLIP_Settlement_04112020_V1.csv 2020-11-04  November  \n",
       "419215  PAYCLIP_Settlement_04112020_V1.csv 2020-11-04  November  \n",
       "419216  PAYCLIP_Settlement_04112020_V1.csv 2020-11-04  November  "
      ]
     },
     "execution_count": 8,
     "metadata": {},
     "output_type": "execute_result"
    }
   ],
   "source": [
    "sftp_nov = pd.concat([pd.read_csv(f,names=name_file,dtype=dtypes_file,usecols=use_cols).assign(file_name=os.path.basename(f)) for f in sftp_nov_1])\n",
    "sftp_nov.rename(columns ={'Ref. Interbancaria':'order_id','Código de Autorización':'codigo_autorizacion'}, inplace=True)\n",
    "sftp_nov['date_file'] = sftp_nov[\"file_name\"].str[-15:-7]\n",
    "sftp_nov['date_file']= pd.to_datetime(sftp_nov['date_file'], format='%d%m%Y').dt.date\n",
    "sftp_nov['date_file']= pd.to_datetime(sftp_nov['date_file'])\n",
    "sftp_nov.sort_values(by=['date_file'],ascending=True,inplace=True)\n",
    "sftp_nov['month'] = sftp_nov['date_file'].dt.strftime('%B')\n",
    "sftp_nov.head()"
   ]
  },
  {
   "cell_type": "code",
   "execution_count": 9,
   "metadata": {},
   "outputs": [
    {
     "data": {
      "text/plain": [
       "(4178137, 11)"
      ]
     },
     "execution_count": 9,
     "metadata": {},
     "output_type": "execute_result"
    }
   ],
   "source": [
    "sftp_nov.shape"
   ]
  },
  {
   "cell_type": "markdown",
   "metadata": {},
   "source": [
    "### OCTUBRE"
   ]
  },
  {
   "cell_type": "code",
   "execution_count": null,
   "metadata": {},
   "outputs": [],
   "source": [
    "sftp_oct_1 = glob.glob(r'G:\\My Drive\\2.-CONCILIACIONES Y POLIZA\\SFTP BANORTE\\2020 SFTP Banorte\\10. OCTUBRE\\**\\PAYCLIP_Settlement*.csv', recursive=False)"
   ]
  },
  {
   "cell_type": "code",
   "execution_count": null,
   "metadata": {},
   "outputs": [],
   "source": [
    "sftp_oct = pd.concat([pd.read_csv(f,names=name_file,dtype=dtypes_file,usecols=use_cols).assign(file_name=os.path.basename(f)) for f in sftp_oct_1])\n",
    "sftp_oct.rename(columns ={'Ref. Interbancaria':'order_id'}, inplace=True)\n",
    "sftp_oct['date_file'] = sftp_oct[\"file_name\"].str[-15:-7]\n",
    "sftp_oct['date_file']= pd.to_datetime(sftp_oct['date_file'], format='%d%m%Y').dt.date\n",
    "sftp_oct['date_file']= pd.to_datetime(sftp_oct['date_file'])\n",
    "sftp_oct.sort_values(by=['date_file'],ascending=True,inplace=True)\n",
    "sftp_oct['month'] = sftp_oct['date_file'].dt.strftime('%B')\n",
    "sftp_oct.head()"
   ]
  },
  {
   "cell_type": "code",
   "execution_count": null,
   "metadata": {},
   "outputs": [],
   "source": [
    "sftp_oct.shape"
   ]
  },
  {
   "cell_type": "markdown",
   "metadata": {},
   "source": [
    "### SEPTIEMBRE"
   ]
  },
  {
   "cell_type": "code",
   "execution_count": null,
   "metadata": {},
   "outputs": [],
   "source": [
    "sftp_sep_1 = glob.glob(r'C:\\Users\\Cristian.Aparicio\\Google Drive\\2.-CONCILIACIONES Y POLIZA\\SFTP BANORTE\\2020 SFTP Banorte\\09. SEPTIEMBRE\\**\\PAYCLIP_Settlement*.csv', recursive=False)"
   ]
  },
  {
   "cell_type": "code",
   "execution_count": null,
   "metadata": {},
   "outputs": [],
   "source": [
    "sftp_sep = pd.concat([pd.read_csv(f,names=name_file,dtype=dtypes_file).assign(file_name=os.path.basename(f)) for f in sftp_sep_1])\n",
    "sftp_sep.rename(columns ={'Ref. Interbancaria':'order_id'}, inplace=True)\n",
    "sftp_sep['date_file'] = sftp_sep[\"file_name\"].str[-15:-7]\n",
    "sftp_sep['date_file']= pd.to_datetime(sftp_sep['date_file'], format='%d%m%Y').dt.date\n",
    "sftp_sep['date_file']= pd.to_datetime(sftp_sep['date_file'])\n",
    "sftp_sep.head()"
   ]
  },
  {
   "cell_type": "code",
   "execution_count": null,
   "metadata": {},
   "outputs": [],
   "source": [
    "sftp_sep.shape"
   ]
  },
  {
   "cell_type": "markdown",
   "metadata": {},
   "source": [
    "### AGOSTO"
   ]
  },
  {
   "cell_type": "code",
   "execution_count": null,
   "metadata": {},
   "outputs": [],
   "source": [
    "sftp_aug_1 = glob.glob(r'C:\\Users\\Cristian.Aparicio\\Google Drive\\2.-CONCILIACIONES Y POLIZA\\SFTP BANORTE\\2020 SFTP Banorte\\08. AGOSTO\\**\\PAYCLIP_Settlement*.csv', recursive=False)"
   ]
  },
  {
   "cell_type": "code",
   "execution_count": null,
   "metadata": {},
   "outputs": [],
   "source": [
    "sftp_aug = pd.concat([pd.read_csv(f,names=name_file,dtype=dtypes_file).assign(file_name=os.path.basename(f)) for f in sftp_aug_1])\n",
    "sftp_aug.rename(columns ={'Ref. Interbancaria':'order_id'}, inplace=True)\n",
    "sftp_aug['date_file'] = sftp_aug[\"file_name\"].str[-15:-7]\n",
    "sftp_aug['date_file']= pd.to_datetime(sftp_aug['date_file'], format='%d%m%Y').dt.date\n",
    "sftp_aug['date_file']= pd.to_datetime(sftp_aug['date_file'])\n",
    "sftp_aug.head()"
   ]
  },
  {
   "cell_type": "code",
   "execution_count": null,
   "metadata": {},
   "outputs": [],
   "source": [
    "sftp_aug.shape"
   ]
  },
  {
   "cell_type": "markdown",
   "metadata": {},
   "source": [
    "### JULIO"
   ]
  },
  {
   "cell_type": "code",
   "execution_count": null,
   "metadata": {},
   "outputs": [],
   "source": [
    "sftp_jul_1 = glob.glob(r'C:\\Users\\Cristian.Aparicio\\Google Drive\\2.-CONCILIACIONES Y POLIZA\\SFTP BANORTE\\2020 SFTP Banorte\\07. JULIO\\**\\PAYCLIP_Settlement*.csv', recursive=False)"
   ]
  },
  {
   "cell_type": "code",
   "execution_count": null,
   "metadata": {},
   "outputs": [],
   "source": [
    "sftp_jul = pd.concat([pd.read_csv(f,names=name_file,dtype=dtypes_file).assign(file_name=os.path.basename(f)) for f in sftp_jul_1])\n",
    "sftp_jul.rename(columns ={'Ref. Interbancaria':'order_id'}, inplace=True)\n",
    "sftp_jul['date_file'] = sftp_jul[\"file_name\"].str[-15:-7]\n",
    "sftp_jul['date_file']= pd.to_datetime(sftp_jul['date_file'], format='%d%m%Y').dt.date\n",
    "sftp_jul['date_file']= pd.to_datetime(sftp_jul['date_file'])\n",
    "sftp_jul.head()"
   ]
  },
  {
   "cell_type": "code",
   "execution_count": null,
   "metadata": {},
   "outputs": [],
   "source": [
    "sftp_jul.shape"
   ]
  },
  {
   "cell_type": "markdown",
   "metadata": {},
   "source": [
    "### JUNIO"
   ]
  },
  {
   "cell_type": "code",
   "execution_count": null,
   "metadata": {},
   "outputs": [],
   "source": [
    "sftp_jun_1 = glob.glob(r'C:\\Users\\Cristian.Aparicio\\Google Drive\\2.-CONCILIACIONES Y POLIZA\\SFTP BANORTE\\2020 SFTP Banorte\\06. JUNIO\\**\\PAYCLIP_Settlement*.csv', recursive=False)"
   ]
  },
  {
   "cell_type": "code",
   "execution_count": null,
   "metadata": {},
   "outputs": [],
   "source": [
    "sftp_jun = pd.concat([pd.read_csv(f,names=name_file,dtype=dtypes_file).assign(file_name=os.path.basename(f)) for f in sftp_jun_1])\n",
    "sftp_jun.rename(columns ={'Ref. Interbancaria':'order_id'}, inplace=True)\n",
    "sftp_jun['date_file'] = sftp_jun[\"file_name\"].str[-15:-7]\n",
    "sftp_jun['date_file']= pd.to_datetime(sftp_jun['date_file'], format='%d%m%Y').dt.date\n",
    "sftp_jun['date_file']= pd.to_datetime(sftp_jun['date_file'])\n",
    "sftp_jun.head()"
   ]
  },
  {
   "cell_type": "code",
   "execution_count": null,
   "metadata": {},
   "outputs": [],
   "source": [
    "sftp_jun.shape"
   ]
  },
  {
   "cell_type": "markdown",
   "metadata": {},
   "source": [
    "# ALL SFTP"
   ]
  },
  {
   "cell_type": "code",
   "execution_count": 10,
   "metadata": {},
   "outputs": [
    {
     "data": {
      "text/html": [
       "<div>\n",
       "<style scoped>\n",
       "    .dataframe tbody tr th:only-of-type {\n",
       "        vertical-align: middle;\n",
       "    }\n",
       "\n",
       "    .dataframe tbody tr th {\n",
       "        vertical-align: top;\n",
       "    }\n",
       "\n",
       "    .dataframe thead th {\n",
       "        text-align: right;\n",
       "    }\n",
       "</style>\n",
       "<table border=\"1\" class=\"dataframe\">\n",
       "  <thead>\n",
       "    <tr style=\"text-align: right;\">\n",
       "      <th></th>\n",
       "      <th>Afiliación</th>\n",
       "      <th>Tarjeta</th>\n",
       "      <th>Fecha txn</th>\n",
       "      <th>Importe Bruto</th>\n",
       "      <th>Tipo txn</th>\n",
       "      <th>codigo_autorizacion</th>\n",
       "      <th>order_id</th>\n",
       "      <th>order_id_xpay</th>\n",
       "      <th>file_name</th>\n",
       "      <th>date_file</th>\n",
       "      <th>month</th>\n",
       "    </tr>\n",
       "  </thead>\n",
       "  <tbody>\n",
       "    <tr>\n",
       "      <th>0</th>\n",
       "      <td>MXN</td>\n",
       "      <td>-530225705</td>\n",
       "      <td>311201</td>\n",
       "      <td>20,201,103.00</td>\n",
       "      <td>BANORTE</td>\n",
       "      <td>NaN</td>\n",
       "      <td>NaN</td>\n",
       "      <td>NaN</td>\n",
       "      <td>PAYCLIP_Settlement_04112020_V1.csv</td>\n",
       "      <td>2020-11-04</td>\n",
       "      <td>November</td>\n",
       "    </tr>\n",
       "    <tr>\n",
       "      <th>419213</th>\n",
       "      <td>07927517</td>\n",
       "      <td>4772607090</td>\n",
       "      <td>20201030</td>\n",
       "      <td>113,900.00</td>\n",
       "      <td>SETTLED</td>\n",
       "      <td>004355</td>\n",
       "      <td>529416644811</td>\n",
       "      <td>NaN</td>\n",
       "      <td>PAYCLIP_Settlement_04112020_V1.csv</td>\n",
       "      <td>2020-11-04</td>\n",
       "      <td>November</td>\n",
       "    </tr>\n",
       "    <tr>\n",
       "      <th>419214</th>\n",
       "      <td>07927517</td>\n",
       "      <td>4152318159</td>\n",
       "      <td>20201030</td>\n",
       "      <td>9,300.00</td>\n",
       "      <td>SETTLED</td>\n",
       "      <td>861315</td>\n",
       "      <td>750664220622</td>\n",
       "      <td>NaN</td>\n",
       "      <td>PAYCLIP_Settlement_04112020_V1.csv</td>\n",
       "      <td>2020-11-04</td>\n",
       "      <td>November</td>\n",
       "    </tr>\n",
       "    <tr>\n",
       "      <th>419215</th>\n",
       "      <td>07927517</td>\n",
       "      <td>4152318379</td>\n",
       "      <td>20201030</td>\n",
       "      <td>1,300.00</td>\n",
       "      <td>SETTLED</td>\n",
       "      <td>861789</td>\n",
       "      <td>994129559701</td>\n",
       "      <td>NaN</td>\n",
       "      <td>PAYCLIP_Settlement_04112020_V1.csv</td>\n",
       "      <td>2020-11-04</td>\n",
       "      <td>November</td>\n",
       "    </tr>\n",
       "    <tr>\n",
       "      <th>419216</th>\n",
       "      <td>07927517</td>\n",
       "      <td>4213163517</td>\n",
       "      <td>20201030</td>\n",
       "      <td>27,800.00</td>\n",
       "      <td>SETTLED</td>\n",
       "      <td>043119</td>\n",
       "      <td>049865834044</td>\n",
       "      <td>NaN</td>\n",
       "      <td>PAYCLIP_Settlement_04112020_V1.csv</td>\n",
       "      <td>2020-11-04</td>\n",
       "      <td>November</td>\n",
       "    </tr>\n",
       "  </tbody>\n",
       "</table>\n",
       "</div>"
      ],
      "text/plain": [
       "       Afiliación     Tarjeta  Fecha txn  Importe Bruto Tipo txn  \\\n",
       "0             MXN  -530225705     311201  20,201,103.00  BANORTE   \n",
       "419213   07927517  4772607090   20201030     113,900.00  SETTLED   \n",
       "419214   07927517  4152318159   20201030       9,300.00  SETTLED   \n",
       "419215   07927517  4152318379   20201030       1,300.00  SETTLED   \n",
       "419216   07927517  4213163517   20201030      27,800.00  SETTLED   \n",
       "\n",
       "       codigo_autorizacion      order_id order_id_xpay  \\\n",
       "0                      NaN           NaN           NaN   \n",
       "419213              004355  529416644811           NaN   \n",
       "419214              861315  750664220622           NaN   \n",
       "419215              861789  994129559701           NaN   \n",
       "419216              043119  049865834044           NaN   \n",
       "\n",
       "                                 file_name  date_file     month  \n",
       "0       PAYCLIP_Settlement_04112020_V1.csv 2020-11-04  November  \n",
       "419213  PAYCLIP_Settlement_04112020_V1.csv 2020-11-04  November  \n",
       "419214  PAYCLIP_Settlement_04112020_V1.csv 2020-11-04  November  \n",
       "419215  PAYCLIP_Settlement_04112020_V1.csv 2020-11-04  November  \n",
       "419216  PAYCLIP_Settlement_04112020_V1.csv 2020-11-04  November  "
      ]
     },
     "execution_count": 10,
     "metadata": {},
     "output_type": "execute_result"
    }
   ],
   "source": [
    "sftp = pd.concat([sftp_nov,sftp_dec])\n",
    "sftp.head()"
   ]
  },
  {
   "cell_type": "code",
   "execution_count": 11,
   "metadata": {},
   "outputs": [
    {
     "data": {
      "text/plain": [
       "(4873524, 11)"
      ]
     },
     "execution_count": 11,
     "metadata": {},
     "output_type": "execute_result"
    }
   ],
   "source": [
    "sftp.shape"
   ]
  },
  {
   "cell_type": "code",
   "execution_count": 12,
   "metadata": {},
   "outputs": [
    {
     "data": {
      "text/html": [
       "<div>\n",
       "<style scoped>\n",
       "    .dataframe tbody tr th:only-of-type {\n",
       "        vertical-align: middle;\n",
       "    }\n",
       "\n",
       "    .dataframe tbody tr th {\n",
       "        vertical-align: top;\n",
       "    }\n",
       "\n",
       "    .dataframe thead th {\n",
       "        text-align: right;\n",
       "    }\n",
       "</style>\n",
       "<table border=\"1\" class=\"dataframe\">\n",
       "  <thead>\n",
       "    <tr style=\"text-align: right;\">\n",
       "      <th></th>\n",
       "      <th>date_file</th>\n",
       "      <th>Fecha_deposito</th>\n",
       "    </tr>\n",
       "  </thead>\n",
       "  <tbody>\n",
       "    <tr>\n",
       "      <th>0</th>\n",
       "      <td>2020-11-04</td>\n",
       "      <td>20,201,103.00</td>\n",
       "    </tr>\n",
       "    <tr>\n",
       "      <th>0</th>\n",
       "      <td>2020-11-05</td>\n",
       "      <td>20,201,104.00</td>\n",
       "    </tr>\n",
       "    <tr>\n",
       "      <th>0</th>\n",
       "      <td>2020-11-06</td>\n",
       "      <td>20,201,105.00</td>\n",
       "    </tr>\n",
       "    <tr>\n",
       "      <th>0</th>\n",
       "      <td>2020-11-07</td>\n",
       "      <td>20,201,106.00</td>\n",
       "    </tr>\n",
       "    <tr>\n",
       "      <th>0</th>\n",
       "      <td>2020-11-10</td>\n",
       "      <td>20,201,109.00</td>\n",
       "    </tr>\n",
       "  </tbody>\n",
       "</table>\n",
       "</div>"
      ],
      "text/plain": [
       "   date_file  Fecha_deposito\n",
       "0 2020-11-04   20,201,103.00\n",
       "0 2020-11-05   20,201,104.00\n",
       "0 2020-11-06   20,201,105.00\n",
       "0 2020-11-07   20,201,106.00\n",
       "0 2020-11-10   20,201,109.00"
      ]
     },
     "execution_count": 12,
     "metadata": {},
     "output_type": "execute_result"
    }
   ],
   "source": [
    "sftp_fecha_deposito = sftp[(sftp['Tipo txn'] == 'BANORTE')]\n",
    "sftp_fecha_deposito = sftp_fecha_deposito[['date_file', 'Importe Bruto']]\n",
    "sftp_fecha_deposito.rename(columns ={'Importe Bruto': 'Fecha_deposito'},inplace=True)\n",
    "sftp_fecha_deposito.head()"
   ]
  },
  {
   "cell_type": "code",
   "execution_count": 13,
   "metadata": {},
   "outputs": [],
   "source": [
    "sftp = sftp[(sftp['Tipo txn'] != 'BANORTE')]\n",
    "sftp = sftp.merge(sftp_fecha_deposito[['date_file', 'Fecha_deposito']],on='date_file',how='left')"
   ]
  },
  {
   "cell_type": "code",
   "execution_count": 14,
   "metadata": {},
   "outputs": [],
   "source": [
    "sftp['Fecha txn'] = pd.to_datetime(sftp['Fecha txn'], format='%Y%m%d').dt.date\n",
    "sftp['Fecha_deposito'] = pd.to_datetime(sftp['Fecha_deposito'], format='%Y%m%d').dt.date"
   ]
  },
  {
   "cell_type": "code",
   "execution_count": 15,
   "metadata": {},
   "outputs": [],
   "source": [
    "sftp['Fecha txn'] = pd.to_datetime(sftp['Fecha txn'])\n",
    "sftp['Fecha_deposito'] = pd.to_datetime(sftp['Fecha_deposito'])"
   ]
  },
  {
   "cell_type": "code",
   "execution_count": 16,
   "metadata": {},
   "outputs": [
    {
     "data": {
      "text/html": [
       "<div>\n",
       "<style scoped>\n",
       "    .dataframe tbody tr th:only-of-type {\n",
       "        vertical-align: middle;\n",
       "    }\n",
       "\n",
       "    .dataframe tbody tr th {\n",
       "        vertical-align: top;\n",
       "    }\n",
       "\n",
       "    .dataframe thead th {\n",
       "        text-align: right;\n",
       "    }\n",
       "</style>\n",
       "<table border=\"1\" class=\"dataframe\">\n",
       "  <thead>\n",
       "    <tr style=\"text-align: right;\">\n",
       "      <th></th>\n",
       "      <th>Afiliación</th>\n",
       "      <th>Tarjeta</th>\n",
       "      <th>Fecha txn</th>\n",
       "      <th>Importe Bruto</th>\n",
       "      <th>Tipo txn</th>\n",
       "      <th>codigo_autorizacion</th>\n",
       "      <th>order_id</th>\n",
       "      <th>order_id_xpay</th>\n",
       "      <th>file_name</th>\n",
       "      <th>date_file</th>\n",
       "      <th>month</th>\n",
       "      <th>Fecha_deposito</th>\n",
       "      <th>Net Amount</th>\n",
       "      <th>LAST4</th>\n",
       "      <th>CONCAT</th>\n",
       "      <th>CONCAT_2</th>\n",
       "      <th>CONCAT_3</th>\n",
       "    </tr>\n",
       "  </thead>\n",
       "  <tbody>\n",
       "    <tr>\n",
       "      <th>0</th>\n",
       "      <td>07927517</td>\n",
       "      <td>4772607090</td>\n",
       "      <td>2020-10-30</td>\n",
       "      <td>113,900.00</td>\n",
       "      <td>SETTLED</td>\n",
       "      <td>004355</td>\n",
       "      <td>529416644811</td>\n",
       "      <td>NaN</td>\n",
       "      <td>PAYCLIP_Settlement_04112020_V1.csv</td>\n",
       "      <td>2020-11-04</td>\n",
       "      <td>November</td>\n",
       "      <td>2020-11-03</td>\n",
       "      <td>1,139.00</td>\n",
       "      <td>7090</td>\n",
       "      <td>529416644811-1139.0-7090</td>\n",
       "      <td>7090-1139.0</td>\n",
       "      <td>004355-7090-1139.0</td>\n",
       "    </tr>\n",
       "    <tr>\n",
       "      <th>1</th>\n",
       "      <td>07927517</td>\n",
       "      <td>4152318159</td>\n",
       "      <td>2020-10-30</td>\n",
       "      <td>9,300.00</td>\n",
       "      <td>SETTLED</td>\n",
       "      <td>861315</td>\n",
       "      <td>750664220622</td>\n",
       "      <td>NaN</td>\n",
       "      <td>PAYCLIP_Settlement_04112020_V1.csv</td>\n",
       "      <td>2020-11-04</td>\n",
       "      <td>November</td>\n",
       "      <td>2020-11-03</td>\n",
       "      <td>93.00</td>\n",
       "      <td>8159</td>\n",
       "      <td>750664220622-93.0-8159</td>\n",
       "      <td>8159-93.0</td>\n",
       "      <td>861315-8159-93.0</td>\n",
       "    </tr>\n",
       "    <tr>\n",
       "      <th>2</th>\n",
       "      <td>07927517</td>\n",
       "      <td>4152318379</td>\n",
       "      <td>2020-10-30</td>\n",
       "      <td>1,300.00</td>\n",
       "      <td>SETTLED</td>\n",
       "      <td>861789</td>\n",
       "      <td>994129559701</td>\n",
       "      <td>NaN</td>\n",
       "      <td>PAYCLIP_Settlement_04112020_V1.csv</td>\n",
       "      <td>2020-11-04</td>\n",
       "      <td>November</td>\n",
       "      <td>2020-11-03</td>\n",
       "      <td>13.00</td>\n",
       "      <td>8379</td>\n",
       "      <td>994129559701-13.0-8379</td>\n",
       "      <td>8379-13.0</td>\n",
       "      <td>861789-8379-13.0</td>\n",
       "    </tr>\n",
       "    <tr>\n",
       "      <th>3</th>\n",
       "      <td>07927517</td>\n",
       "      <td>4213163517</td>\n",
       "      <td>2020-10-30</td>\n",
       "      <td>27,800.00</td>\n",
       "      <td>SETTLED</td>\n",
       "      <td>043119</td>\n",
       "      <td>049865834044</td>\n",
       "      <td>NaN</td>\n",
       "      <td>PAYCLIP_Settlement_04112020_V1.csv</td>\n",
       "      <td>2020-11-04</td>\n",
       "      <td>November</td>\n",
       "      <td>2020-11-03</td>\n",
       "      <td>278.00</td>\n",
       "      <td>3517</td>\n",
       "      <td>049865834044-278.0-3517</td>\n",
       "      <td>3517-278.0</td>\n",
       "      <td>043119-3517-278.0</td>\n",
       "    </tr>\n",
       "    <tr>\n",
       "      <th>4</th>\n",
       "      <td>07927517</td>\n",
       "      <td>4152317859</td>\n",
       "      <td>2020-10-30</td>\n",
       "      <td>13,000.00</td>\n",
       "      <td>SETTLED</td>\n",
       "      <td>862059</td>\n",
       "      <td>489384232445</td>\n",
       "      <td>NaN</td>\n",
       "      <td>PAYCLIP_Settlement_04112020_V1.csv</td>\n",
       "      <td>2020-11-04</td>\n",
       "      <td>November</td>\n",
       "      <td>2020-11-03</td>\n",
       "      <td>130.00</td>\n",
       "      <td>7859</td>\n",
       "      <td>489384232445-130.0-7859</td>\n",
       "      <td>7859-130.0</td>\n",
       "      <td>862059-7859-130.0</td>\n",
       "    </tr>\n",
       "  </tbody>\n",
       "</table>\n",
       "</div>"
      ],
      "text/plain": [
       "  Afiliación     Tarjeta  Fecha txn  Importe Bruto Tipo txn  \\\n",
       "0   07927517  4772607090 2020-10-30     113,900.00  SETTLED   \n",
       "1   07927517  4152318159 2020-10-30       9,300.00  SETTLED   \n",
       "2   07927517  4152318379 2020-10-30       1,300.00  SETTLED   \n",
       "3   07927517  4213163517 2020-10-30      27,800.00  SETTLED   \n",
       "4   07927517  4152317859 2020-10-30      13,000.00  SETTLED   \n",
       "\n",
       "  codigo_autorizacion      order_id order_id_xpay  \\\n",
       "0              004355  529416644811           NaN   \n",
       "1              861315  750664220622           NaN   \n",
       "2              861789  994129559701           NaN   \n",
       "3              043119  049865834044           NaN   \n",
       "4              862059  489384232445           NaN   \n",
       "\n",
       "                            file_name  date_file     month Fecha_deposito  \\\n",
       "0  PAYCLIP_Settlement_04112020_V1.csv 2020-11-04  November     2020-11-03   \n",
       "1  PAYCLIP_Settlement_04112020_V1.csv 2020-11-04  November     2020-11-03   \n",
       "2  PAYCLIP_Settlement_04112020_V1.csv 2020-11-04  November     2020-11-03   \n",
       "3  PAYCLIP_Settlement_04112020_V1.csv 2020-11-04  November     2020-11-03   \n",
       "4  PAYCLIP_Settlement_04112020_V1.csv 2020-11-04  November     2020-11-03   \n",
       "\n",
       "   Net Amount LAST4                    CONCAT     CONCAT_2            CONCAT_3  \n",
       "0    1,139.00  7090  529416644811-1139.0-7090  7090-1139.0  004355-7090-1139.0  \n",
       "1       93.00  8159    750664220622-93.0-8159    8159-93.0    861315-8159-93.0  \n",
       "2       13.00  8379    994129559701-13.0-8379    8379-13.0    861789-8379-13.0  \n",
       "3      278.00  3517   049865834044-278.0-3517   3517-278.0   043119-3517-278.0  \n",
       "4      130.00  7859   489384232445-130.0-7859   7859-130.0   862059-7859-130.0  "
      ]
     },
     "execution_count": 16,
     "metadata": {},
     "output_type": "execute_result"
    }
   ],
   "source": [
    "sftp['Net Amount'] = sftp['Importe Bruto']/100\n",
    "sftp['LAST4'] = sftp['Tarjeta'].str[-4:].astype(str)\n",
    "sftp['CONCAT'] = sftp['order_id'].astype(str).replace(' ', '',regex=True)+'-'+sftp['Net Amount'].apply(np.floor).astype(str).replace(' ', '',regex=True)+'-'+sftp['LAST4'].astype(str).replace(' ', '',regex=True)\n",
    "sftp['CONCAT_2'] = sftp['LAST4'].astype(str).replace(' ', '',regex=True)+'-'+sftp['Net Amount'].astype(str).replace(' ', '',regex=True)\n",
    "sftp['CONCAT_3'] = sftp['codigo_autorizacion'].astype(str).replace(' ', '',regex=True)+'-'+sftp['LAST4'].astype(str).replace(' ', '',regex=True)+'-'+sftp['Net Amount'].astype(str).replace(' ', '',regex=True)\n",
    "sftp['order_id'].fillna('NO EXISTE EN SFTP',inplace=True)\n",
    "sftp.head()"
   ]
  },
  {
   "cell_type": "code",
   "execution_count": 17,
   "metadata": {},
   "outputs": [
    {
     "data": {
      "text/plain": [
       "(4873504, 17)"
      ]
     },
     "execution_count": 17,
     "metadata": {},
     "output_type": "execute_result"
    }
   ],
   "source": [
    "sftp.shape"
   ]
  },
  {
   "cell_type": "code",
   "execution_count": 18,
   "metadata": {},
   "outputs": [],
   "source": [
    "start_check = '2020-11-26'"
   ]
  },
  {
   "cell_type": "code",
   "execution_count": 19,
   "metadata": {},
   "outputs": [],
   "source": [
    "conci = sftp[(sftp['Fecha txn'] >= start_check)]"
   ]
  },
  {
   "cell_type": "code",
   "execution_count": 20,
   "metadata": {},
   "outputs": [
    {
     "data": {
      "text/plain": [
       "array(['2020-11-26T00:00:00.000000000', '2020-11-27T00:00:00.000000000',\n",
       "       '2020-11-29T00:00:00.000000000', '2020-11-28T00:00:00.000000000',\n",
       "       '2020-11-30T00:00:00.000000000'], dtype='datetime64[ns]')"
      ]
     },
     "execution_count": 20,
     "metadata": {},
     "output_type": "execute_result"
    }
   ],
   "source": [
    "conci['Fecha txn'].unique()"
   ]
  },
  {
   "cell_type": "code",
   "execution_count": 21,
   "metadata": {},
   "outputs": [
    {
     "data": {
      "text/plain": [
       "array(['2020-11-27T00:00:00.000000000', '2020-11-30T00:00:00.000000000',\n",
       "       '2020-12-01T00:00:00.000000000'], dtype='datetime64[ns]')"
      ]
     },
     "execution_count": 21,
     "metadata": {},
     "output_type": "execute_result"
    }
   ],
   "source": [
    "conci['Fecha_deposito'].unique()"
   ]
  },
  {
   "cell_type": "code",
   "execution_count": 22,
   "metadata": {},
   "outputs": [
    {
     "data": {
      "text/plain": [
       "array(['2020-11-28T00:00:00.000000000', '2020-12-01T00:00:00.000000000',\n",
       "       '2020-12-02T00:00:00.000000000'], dtype='datetime64[ns]')"
      ]
     },
     "execution_count": 22,
     "metadata": {},
     "output_type": "execute_result"
    }
   ],
   "source": [
    "conci['date_file'].unique()"
   ]
  },
  {
   "cell_type": "code",
   "execution_count": 23,
   "metadata": {},
   "outputs": [
    {
     "data": {
      "text/plain": [
       "(856114, 17)"
      ]
     },
     "execution_count": 23,
     "metadata": {},
     "output_type": "execute_result"
    }
   ],
   "source": [
    "conci.shape"
   ]
  },
  {
   "cell_type": "code",
   "execution_count": 24,
   "metadata": {},
   "outputs": [],
   "source": [
    "writer = pd.ExcelWriter('CONCILIACION 26NOV- 2020.xlsx', engine='openpyxl', options={'encoding':'utf-8'})\n",
    "conci.to_excel(writer, sheet_name='DETAIL', index=False)\n",
    "writer.save()\n",
    "writer.close()"
   ]
  },
  {
   "cell_type": "code",
   "execution_count": null,
   "metadata": {},
   "outputs": [],
   "source": []
  },
  {
   "cell_type": "code",
   "execution_count": null,
   "metadata": {},
   "outputs": [],
   "source": [
    "settled = sftp[(sftp['Tipo txn'] == 'SETTLED')]\n",
    "settled.head()"
   ]
  },
  {
   "cell_type": "code",
   "execution_count": null,
   "metadata": {},
   "outputs": [],
   "source": [
    "settled.shape"
   ]
  },
  {
   "cell_type": "code",
   "execution_count": null,
   "metadata": {},
   "outputs": [],
   "source": [
    "duplicates_settled = settled[settled.duplicated(['order_id'] , keep=False)]\n",
    "duplicates_settled['order_id_count'] = duplicates_settled['order_id']\n",
    "duplicates_settled.head()"
   ]
  },
  {
   "cell_type": "code",
   "execution_count": null,
   "metadata": {},
   "outputs": [],
   "source": [
    "duplicates_settled.shape"
   ]
  },
  {
   "cell_type": "code",
   "execution_count": null,
   "metadata": {},
   "outputs": [],
   "source": [
    "refunded = sftp[(sftp['Tipo txn'] == 'REFUNDED')]\n",
    "refunded.head()"
   ]
  },
  {
   "cell_type": "code",
   "execution_count": null,
   "metadata": {},
   "outputs": [],
   "source": [
    "refunded.shape"
   ]
  },
  {
   "cell_type": "code",
   "execution_count": null,
   "metadata": {},
   "outputs": [],
   "source": [
    "duplicates_refunded = refunded[refunded.duplicated(['order_id'] , keep=False)]\n",
    "duplicates_refunded"
   ]
  },
  {
   "cell_type": "code",
   "execution_count": null,
   "metadata": {},
   "outputs": [],
   "source": [
    "group_duplicates = duplicates_settled.groupby(['order_id']).agg({'order_id_count':'count','Net Amount':sum}).reset_index()\n",
    "group_duplicates.head()"
   ]
  },
  {
   "cell_type": "code",
   "execution_count": null,
   "metadata": {},
   "outputs": [],
   "source": [
    "group_duplicates.shape"
   ]
  },
  {
   "cell_type": "code",
   "execution_count": null,
   "metadata": {},
   "outputs": [],
   "source": [
    "duplicates_settled_2 = settled[settled.duplicated(['order_id'] , keep='first')]\n",
    "duplicates_settled_2.head()"
   ]
  },
  {
   "cell_type": "code",
   "execution_count": null,
   "metadata": {},
   "outputs": [],
   "source": [
    "duplicates_settled_2.shape"
   ]
  },
  {
   "cell_type": "code",
   "execution_count": null,
   "metadata": {},
   "outputs": [],
   "source": [
    "group_duplicates_2 = duplicates_settled_2.groupby(['order_id']).agg({'Net Amount':sum}).reset_index()\n",
    "group_duplicates_2.head()"
   ]
  },
  {
   "cell_type": "code",
   "execution_count": null,
   "metadata": {},
   "outputs": [],
   "source": [
    "match_duplicates = group_duplicates.merge(group_duplicates_2[['order_id','Net Amount']],on='order_id',how='left')\n",
    "match_duplicates.head()\n"
   ]
  },
  {
   "cell_type": "code",
   "execution_count": null,
   "metadata": {},
   "outputs": [],
   "source": [
    "match_duplicates.shape"
   ]
  },
  {
   "cell_type": "code",
   "execution_count": null,
   "metadata": {},
   "outputs": [],
   "source": [
    "writer = pd.ExcelWriter('SFTP DUPLICADOS DICIEMBRE 2020.xlsx', engine='openpyxl', options={'encoding':'utf-8'})\n",
    "match_duplicates.to_excel(writer, sheet_name='RESUMEN DUPLICADOS SETTLED', index=False)\n",
    "duplicates_settled.to_excel(writer, sheet_name='SETTLED DETAIL', index=False)\n",
    "duplicates_refunded.to_excel(writer, sheet_name='REFUNDED DETAIL', index=False)\n",
    "writer.save()\n",
    "writer.close()"
   ]
  },
  {
   "cell_type": "code",
   "execution_count": null,
   "metadata": {},
   "outputs": [],
   "source": []
  }
 ],
 "metadata": {
  "kernelspec": {
   "display_name": "Python 3",
   "language": "python",
   "name": "python3"
  },
  "language_info": {
   "codemirror_mode": {
    "name": "ipython",
    "version": 3
   },
   "file_extension": ".py",
   "mimetype": "text/x-python",
   "name": "python",
   "nbconvert_exporter": "python",
   "pygments_lexer": "ipython3",
   "version": "3.7.6"
  }
 },
 "nbformat": 4,
 "nbformat_minor": 2
}
