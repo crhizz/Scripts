{
 "cells": [
  {
   "cell_type": "code",
   "execution_count": 1,
   "metadata": {},
   "outputs": [],
   "source": [
    "import pandas as pd\n",
    "import numpy as np\n",
    "import glob\n",
    "import os\n",
    "from openpyxl import load_workbook\n",
    "pd.options.display.float_format = '{:,.2f}'.format"
   ]
  },
  {
   "cell_type": "code",
   "execution_count": 2,
   "metadata": {},
   "outputs": [],
   "source": [
    "names_header = ['Cuenta','Fecha_operacion','Fecha_valor','Referencia_bancaria','Descripcion','Tipo_movimiento',\n",
    "                'Credito','Debito','Monto','Moneda','Codigo_ppto']"
   ]
  },
  {
   "cell_type": "markdown",
   "metadata": {},
   "source": [
    "# READING FILES"
   ]
  },
  {
   "cell_type": "code",
   "execution_count": 3,
   "metadata": {},
   "outputs": [
    {
     "data": {
      "text/plain": [
       "[]"
      ]
     },
     "execution_count": 3,
     "metadata": {},
     "output_type": "execute_result"
    }
   ],
   "source": [
    "all_mov_2021 = glob.glob(r'G:\\My Drive\\RESPALDO-PC\\DEVOLUCIONES BANAMEX\\2021\\**\\EDO CTA\\TX-P*.csv', recursive=False)\n",
    "all_mov_2021"
   ]
  },
  {
   "cell_type": "code",
   "execution_count": 4,
   "metadata": {},
   "outputs": [
    {
     "data": {
      "text/plain": [
       "[]"
      ]
     },
     "execution_count": 4,
     "metadata": {},
     "output_type": "execute_result"
    }
   ],
   "source": [
    "all_mov_2021_v1 = glob.glob(r'G:\\My Drive\\RESPALDO-PC\\DEVOLUCIONES BANAMEX\\2021\\06. JUNIO\\EDO CTA\\TX-V1*.csv', recursive=False)\n",
    "all_mov_2021_v1"
   ]
  },
  {
   "cell_type": "markdown",
   "metadata": {},
   "source": [
    "# DATA EDO CTA"
   ]
  },
  {
   "cell_type": "code",
   "execution_count": 5,
   "metadata": {},
   "outputs": [
    {
     "data": {
      "text/html": [
       "<div>\n",
       "<style scoped>\n",
       "    .dataframe tbody tr th:only-of-type {\n",
       "        vertical-align: middle;\n",
       "    }\n",
       "\n",
       "    .dataframe tbody tr th {\n",
       "        vertical-align: top;\n",
       "    }\n",
       "\n",
       "    .dataframe thead th {\n",
       "        text-align: right;\n",
       "    }\n",
       "</style>\n",
       "<table border=\"1\" class=\"dataframe\">\n",
       "  <thead>\n",
       "    <tr style=\"text-align: right;\">\n",
       "      <th></th>\n",
       "      <th>index</th>\n",
       "      <th>Cuenta</th>\n",
       "      <th>Fecha_operacion</th>\n",
       "      <th>Fecha_valor</th>\n",
       "      <th>Referencia_bancaria</th>\n",
       "      <th>Descripcion</th>\n",
       "      <th>Tipo_movimiento</th>\n",
       "      <th>Credito</th>\n",
       "      <th>Debito</th>\n",
       "      <th>Monto</th>\n",
       "      <th>Moneda</th>\n",
       "      <th>Codigo_ppto</th>\n",
       "      <th>file_name</th>\n",
       "    </tr>\n",
       "  </thead>\n",
       "  <tbody>\n",
       "    <tr>\n",
       "      <th>0</th>\n",
       "      <td>0</td>\n",
       "      <td>70047593261</td>\n",
       "      <td>22/07/2021</td>\n",
       "      <td>22/07/2021</td>\n",
       "      <td>17AD13545CF1529C</td>\n",
       "      <td>PW6VWHTN4FR:INTERBANKENDT:20210722TRID:PW6VWHT...</td>\n",
       "      <td>D</td>\n",
       "      <td>0.00</td>\n",
       "      <td>-1,897.32</td>\n",
       "      <td>-1,897.32</td>\n",
       "      <td>MXN</td>\n",
       "      <td>Merchant Outflow</td>\n",
       "      <td>TX-Payclip_3261_22_Julio_2021.csv</td>\n",
       "    </tr>\n",
       "    <tr>\n",
       "      <th>1</th>\n",
       "      <td>1</td>\n",
       "      <td>70047593261</td>\n",
       "      <td>22/07/2021</td>\n",
       "      <td>22/07/2021</td>\n",
       "      <td>17AD135463C0953C</td>\n",
       "      <td>FX5D5MLW6FR:INTERBANKENDT:20210722TRID:FX5D5ML...</td>\n",
       "      <td>D</td>\n",
       "      <td>0.00</td>\n",
       "      <td>-38.81</td>\n",
       "      <td>-38.81</td>\n",
       "      <td>MXN</td>\n",
       "      <td>Merchant Outflow</td>\n",
       "      <td>TX-Payclip_3261_22_Julio_2021.csv</td>\n",
       "    </tr>\n",
       "    <tr>\n",
       "      <th>2</th>\n",
       "      <td>2</td>\n",
       "      <td>70047593261</td>\n",
       "      <td>22/07/2021</td>\n",
       "      <td>22/07/2021</td>\n",
       "      <td>17AD0224244F1787</td>\n",
       "      <td>2MRYCNTVFR:INTERBANKENDT:20210722TRID:2MRYCNTV...</td>\n",
       "      <td>D</td>\n",
       "      <td>0.00</td>\n",
       "      <td>-49.01</td>\n",
       "      <td>-49.01</td>\n",
       "      <td>MXN</td>\n",
       "      <td>Merchant Outflow</td>\n",
       "      <td>TX-Payclip_3261_22_Julio_2021.csv</td>\n",
       "    </tr>\n",
       "    <tr>\n",
       "      <th>3</th>\n",
       "      <td>3</td>\n",
       "      <td>70047593261</td>\n",
       "      <td>22/07/2021</td>\n",
       "      <td>22/07/2021</td>\n",
       "      <td>17AD022450925563</td>\n",
       "      <td>873NL7275FR:INTERBANKENDT:20210722TRID:873NL72...</td>\n",
       "      <td>D</td>\n",
       "      <td>0.00</td>\n",
       "      <td>-126.80</td>\n",
       "      <td>-126.80</td>\n",
       "      <td>MXN</td>\n",
       "      <td>Merchant Outflow</td>\n",
       "      <td>TX-Payclip_3261_22_Julio_2021.csv</td>\n",
       "    </tr>\n",
       "    <tr>\n",
       "      <th>4</th>\n",
       "      <td>4</td>\n",
       "      <td>70047593261</td>\n",
       "      <td>22/07/2021</td>\n",
       "      <td>22/07/2021</td>\n",
       "      <td>17AD13506BD441E8</td>\n",
       "      <td>X8MNDM36GFR:INTERBANKENDT:20210722TRID:X8MNDM3...</td>\n",
       "      <td>D</td>\n",
       "      <td>0.00</td>\n",
       "      <td>-76.47</td>\n",
       "      <td>-76.47</td>\n",
       "      <td>MXN</td>\n",
       "      <td>Merchant Outflow</td>\n",
       "      <td>TX-Payclip_3261_22_Julio_2021.csv</td>\n",
       "    </tr>\n",
       "  </tbody>\n",
       "</table>\n",
       "</div>"
      ],
      "text/plain": [
       "   index       Cuenta Fecha_operacion Fecha_valor Referencia_bancaria  \\\n",
       "0      0  70047593261      22/07/2021  22/07/2021    17AD13545CF1529C   \n",
       "1      1  70047593261      22/07/2021  22/07/2021    17AD135463C0953C   \n",
       "2      2  70047593261      22/07/2021  22/07/2021    17AD0224244F1787   \n",
       "3      3  70047593261      22/07/2021  22/07/2021    17AD022450925563   \n",
       "4      4  70047593261      22/07/2021  22/07/2021    17AD13506BD441E8   \n",
       "\n",
       "                                         Descripcion Tipo_movimiento  Credito  \\\n",
       "0  PW6VWHTN4FR:INTERBANKENDT:20210722TRID:PW6VWHT...               D     0.00   \n",
       "1  FX5D5MLW6FR:INTERBANKENDT:20210722TRID:FX5D5ML...               D     0.00   \n",
       "2  2MRYCNTVFR:INTERBANKENDT:20210722TRID:2MRYCNTV...               D     0.00   \n",
       "3  873NL7275FR:INTERBANKENDT:20210722TRID:873NL72...               D     0.00   \n",
       "4  X8MNDM36GFR:INTERBANKENDT:20210722TRID:X8MNDM3...               D     0.00   \n",
       "\n",
       "     Debito     Monto Moneda       Codigo_ppto  \\\n",
       "0 -1,897.32 -1,897.32    MXN  Merchant Outflow   \n",
       "1    -38.81    -38.81    MXN  Merchant Outflow   \n",
       "2    -49.01    -49.01    MXN  Merchant Outflow   \n",
       "3   -126.80   -126.80    MXN  Merchant Outflow   \n",
       "4    -76.47    -76.47    MXN  Merchant Outflow   \n",
       "\n",
       "                           file_name  \n",
       "0  TX-Payclip_3261_22_Julio_2021.csv  \n",
       "1  TX-Payclip_3261_22_Julio_2021.csv  \n",
       "2  TX-Payclip_3261_22_Julio_2021.csv  \n",
       "3  TX-Payclip_3261_22_Julio_2021.csv  \n",
       "4  TX-Payclip_3261_22_Julio_2021.csv  "
      ]
     },
     "execution_count": 5,
     "metadata": {},
     "output_type": "execute_result"
    }
   ],
   "source": [
    "edo_cta_all = pd.concat([pd.read_csv(f,skiprows=1,names=names_header)\n",
    "                     .assign(file_name=os.path.basename(f)) for f in all_mov_2021])\n",
    "edo_cta_all.reset_index(inplace=True)\n",
    "edo_cta_all.head()"
   ]
  },
  {
   "cell_type": "code",
   "execution_count": 6,
   "metadata": {},
   "outputs": [
    {
     "data": {
      "text/plain": [
       "(252384, 13)"
      ]
     },
     "execution_count": 6,
     "metadata": {},
     "output_type": "execute_result"
    }
   ],
   "source": [
    "edo_cta_all.shape"
   ]
  },
  {
   "cell_type": "code",
   "execution_count": 16,
   "metadata": {},
   "outputs": [
    {
     "data": {
      "text/html": [
       "<div>\n",
       "<style scoped>\n",
       "    .dataframe tbody tr th:only-of-type {\n",
       "        vertical-align: middle;\n",
       "    }\n",
       "\n",
       "    .dataframe tbody tr th {\n",
       "        vertical-align: top;\n",
       "    }\n",
       "\n",
       "    .dataframe thead th {\n",
       "        text-align: right;\n",
       "    }\n",
       "</style>\n",
       "<table border=\"1\" class=\"dataframe\">\n",
       "  <thead>\n",
       "    <tr style=\"text-align: right;\">\n",
       "      <th></th>\n",
       "      <th>index</th>\n",
       "      <th>Cuenta</th>\n",
       "      <th>Fecha_operacion</th>\n",
       "      <th>Fecha_valor</th>\n",
       "      <th>Referencia_bancaria</th>\n",
       "      <th>Descripcion</th>\n",
       "      <th>Tipo_movimiento</th>\n",
       "      <th>Credito</th>\n",
       "      <th>Debito</th>\n",
       "      <th>Monto</th>\n",
       "      <th>Moneda</th>\n",
       "      <th>Codigo_ppto</th>\n",
       "      <th>file_name</th>\n",
       "    </tr>\n",
       "  </thead>\n",
       "  <tbody>\n",
       "    <tr>\n",
       "      <th>35935</th>\n",
       "      <td>967</td>\n",
       "      <td>70047593261</td>\n",
       "      <td>30-07-2021</td>\n",
       "      <td>30-07-2021</td>\n",
       "      <td>17AFAB153889A74E</td>\n",
       "      <td>2RRW62T2KFR:INTERBANKENDT:20210730TRID:2RRW62T...</td>\n",
       "      <td>D</td>\n",
       "      <td>0.00</td>\n",
       "      <td>-1,070.34</td>\n",
       "      <td>-1,070.34</td>\n",
       "      <td>MXN</td>\n",
       "      <td>Merchant Outflow</td>\n",
       "      <td>TX-Payclip_3261_30_Julio_01_Agosto_2021.csv</td>\n",
       "    </tr>\n",
       "  </tbody>\n",
       "</table>\n",
       "</div>"
      ],
      "text/plain": [
       "       index       Cuenta Fecha_operacion Fecha_valor Referencia_bancaria  \\\n",
       "35935    967  70047593261      30-07-2021  30-07-2021    17AFAB153889A74E   \n",
       "\n",
       "                                             Descripcion Tipo_movimiento  \\\n",
       "35935  2RRW62T2KFR:INTERBANKENDT:20210730TRID:2RRW62T...               D   \n",
       "\n",
       "       Credito    Debito     Monto Moneda       Codigo_ppto  \\\n",
       "35935     0.00 -1,070.34 -1,070.34    MXN  Merchant Outflow   \n",
       "\n",
       "                                         file_name  \n",
       "35935  TX-Payclip_3261_30_Julio_01_Agosto_2021.csv  "
      ]
     },
     "execution_count": 16,
     "metadata": {},
     "output_type": "execute_result"
    }
   ],
   "source": [
    "check = edo_cta_all[(edo_cta_all['Referencia_bancaria'].str.contains('17AFAB153889A74E'))]\n",
    "check.head()"
   ]
  },
  {
   "cell_type": "code",
   "execution_count": 17,
   "metadata": {},
   "outputs": [
    {
     "data": {
      "text/html": [
       "<div>\n",
       "<style scoped>\n",
       "    .dataframe tbody tr th:only-of-type {\n",
       "        vertical-align: middle;\n",
       "    }\n",
       "\n",
       "    .dataframe tbody tr th {\n",
       "        vertical-align: top;\n",
       "    }\n",
       "\n",
       "    .dataframe thead th {\n",
       "        text-align: right;\n",
       "    }\n",
       "</style>\n",
       "<table border=\"1\" class=\"dataframe\">\n",
       "  <thead>\n",
       "    <tr style=\"text-align: right;\">\n",
       "      <th></th>\n",
       "      <th>index</th>\n",
       "      <th>Cuenta</th>\n",
       "      <th>Fecha_operacion</th>\n",
       "      <th>Fecha_valor</th>\n",
       "      <th>Referencia_bancaria</th>\n",
       "      <th>Descripcion</th>\n",
       "      <th>Tipo_movimiento</th>\n",
       "      <th>Credito</th>\n",
       "      <th>Debito</th>\n",
       "      <th>Monto</th>\n",
       "      <th>Moneda</th>\n",
       "      <th>Codigo_ppto</th>\n",
       "      <th>file_name</th>\n",
       "    </tr>\n",
       "  </thead>\n",
       "  <tbody>\n",
       "  </tbody>\n",
       "</table>\n",
       "</div>"
      ],
      "text/plain": [
       "Empty DataFrame\n",
       "Columns: [index, Cuenta, Fecha_operacion, Fecha_valor, Referencia_bancaria, Descripcion, Tipo_movimiento, Credito, Debito, Monto, Moneda, Codigo_ppto, file_name]\n",
       "Index: []"
      ]
     },
     "execution_count": 17,
     "metadata": {},
     "output_type": "execute_result"
    }
   ],
   "source": [
    "check = edo_cta_all[(edo_cta_all['Descripcion'].str.contains('17AFAB153889A74E'))]\n",
    "check.head()"
   ]
  },
  {
   "cell_type": "markdown",
   "metadata": {},
   "source": [
    "# DATA SPEI"
   ]
  },
  {
   "cell_type": "code",
   "execution_count": 9,
   "metadata": {},
   "outputs": [
    {
     "data": {
      "text/html": [
       "<div>\n",
       "<style scoped>\n",
       "    .dataframe tbody tr th:only-of-type {\n",
       "        vertical-align: middle;\n",
       "    }\n",
       "\n",
       "    .dataframe tbody tr th {\n",
       "        vertical-align: top;\n",
       "    }\n",
       "\n",
       "    .dataframe thead th {\n",
       "        text-align: right;\n",
       "    }\n",
       "</style>\n",
       "<table border=\"1\" class=\"dataframe\">\n",
       "  <thead>\n",
       "    <tr style=\"text-align: right;\">\n",
       "      <th></th>\n",
       "      <th>index</th>\n",
       "      <th>Cuenta</th>\n",
       "      <th>Fecha_operacion</th>\n",
       "      <th>Fecha_valor</th>\n",
       "      <th>Referencia_bancaria</th>\n",
       "      <th>Descripcion</th>\n",
       "      <th>Tipo_movimiento</th>\n",
       "      <th>Credito</th>\n",
       "      <th>Debito</th>\n",
       "      <th>Monto</th>\n",
       "      <th>Moneda</th>\n",
       "      <th>Codigo_ppto</th>\n",
       "      <th>file_name</th>\n",
       "    </tr>\n",
       "  </thead>\n",
       "  <tbody>\n",
       "  </tbody>\n",
       "</table>\n",
       "</div>"
      ],
      "text/plain": [
       "Empty DataFrame\n",
       "Columns: [index, Cuenta, Fecha_operacion, Fecha_valor, Referencia_bancaria, Descripcion, Tipo_movimiento, Credito, Debito, Monto, Moneda, Codigo_ppto, file_name]\n",
       "Index: []"
      ]
     },
     "execution_count": 9,
     "metadata": {},
     "output_type": "execute_result"
    }
   ],
   "source": [
    "check_spei = edo_cta_all[(edo_cta_all['Descripcion'].str.contains('17C37A7BF6850BD9'))]\n",
    "check_spei.head()"
   ]
  },
  {
   "cell_type": "code",
   "execution_count": null,
   "metadata": {},
   "outputs": [],
   "source": []
  },
  {
   "cell_type": "code",
   "execution_count": null,
   "metadata": {},
   "outputs": [],
   "source": []
  },
  {
   "cell_type": "code",
   "execution_count": null,
   "metadata": {},
   "outputs": [],
   "source": []
  },
  {
   "cell_type": "markdown",
   "metadata": {},
   "source": [
    "# DATA EDO DE CUENTA V1"
   ]
  },
  {
   "cell_type": "code",
   "execution_count": 10,
   "metadata": {},
   "outputs": [
    {
     "data": {
      "text/html": [
       "<div>\n",
       "<style scoped>\n",
       "    .dataframe tbody tr th:only-of-type {\n",
       "        vertical-align: middle;\n",
       "    }\n",
       "\n",
       "    .dataframe tbody tr th {\n",
       "        vertical-align: top;\n",
       "    }\n",
       "\n",
       "    .dataframe thead th {\n",
       "        text-align: right;\n",
       "    }\n",
       "</style>\n",
       "<table border=\"1\" class=\"dataframe\">\n",
       "  <thead>\n",
       "    <tr style=\"text-align: right;\">\n",
       "      <th></th>\n",
       "      <th>index</th>\n",
       "      <th>BTID</th>\n",
       "      <th>Account ID</th>\n",
       "      <th>Account Name</th>\n",
       "      <th>Bank Account Number</th>\n",
       "      <th>IBAN</th>\n",
       "      <th>CCY</th>\n",
       "      <th>Account Type</th>\n",
       "      <th>Bank Group</th>\n",
       "      <th>Bank Country</th>\n",
       "      <th>...</th>\n",
       "      <th>Debit</th>\n",
       "      <th>Bank Reference</th>\n",
       "      <th>Instrument Code</th>\n",
       "      <th>Instrument Type</th>\n",
       "      <th>Budget Code</th>\n",
       "      <th>Customer Reference</th>\n",
       "      <th>Intradays</th>\n",
       "      <th>Description 1</th>\n",
       "      <th>Description 2</th>\n",
       "      <th>file_name</th>\n",
       "    </tr>\n",
       "  </thead>\n",
       "  <tbody>\n",
       "    <tr>\n",
       "      <th>0</th>\n",
       "      <td>0</td>\n",
       "      <td>12651032</td>\n",
       "      <td>PAYCLIPMX_CITI_MXN_2617</td>\n",
       "      <td>PAYCLIPMX_CITI_MXN_2617</td>\n",
       "      <td>70047593261</td>\n",
       "      <td>2180700475932617</td>\n",
       "      <td>MXN</td>\n",
       "      <td>Settlement Account</td>\n",
       "      <td>Citibank</td>\n",
       "      <td>MEXICO</td>\n",
       "      <td>...</td>\n",
       "      <td>-163,613.76</td>\n",
       "      <td>0000085900077309</td>\n",
       "      <td>NaN</td>\n",
       "      <td>NaN</td>\n",
       "      <td>NaN</td>\n",
       "      <td>117500077309</td>\n",
       "      <td>nan</td>\n",
       "      <td>nan</td>\n",
       "      <td>nan</td>\n",
       "      <td>TX-V1-Payclip_3261_24_Junio_2021.csv</td>\n",
       "    </tr>\n",
       "    <tr>\n",
       "      <th>1</th>\n",
       "      <td>1</td>\n",
       "      <td>12651033</td>\n",
       "      <td>PAYCLIPMX_CITI_MXN_2617</td>\n",
       "      <td>PAYCLIPMX_CITI_MXN_2617</td>\n",
       "      <td>70047593261</td>\n",
       "      <td>2180700475932617</td>\n",
       "      <td>MXN</td>\n",
       "      <td>Settlement Account</td>\n",
       "      <td>Citibank</td>\n",
       "      <td>MEXICO</td>\n",
       "      <td>...</td>\n",
       "      <td>-1,022,586.00</td>\n",
       "      <td>0000085900077309</td>\n",
       "      <td>NaN</td>\n",
       "      <td>NaN</td>\n",
       "      <td>NaN</td>\n",
       "      <td>117500077309</td>\n",
       "      <td>nan</td>\n",
       "      <td>nan</td>\n",
       "      <td>nan</td>\n",
       "      <td>TX-V1-Payclip_3261_24_Junio_2021.csv</td>\n",
       "    </tr>\n",
       "    <tr>\n",
       "      <th>2</th>\n",
       "      <td>2</td>\n",
       "      <td>12651034</td>\n",
       "      <td>PAYCLIPMX_CITI_MXN_2617</td>\n",
       "      <td>PAYCLIPMX_CITI_MXN_2617</td>\n",
       "      <td>70047593261</td>\n",
       "      <td>2180700475932617</td>\n",
       "      <td>MXN</td>\n",
       "      <td>Settlement Account</td>\n",
       "      <td>Citibank</td>\n",
       "      <td>MEXICO</td>\n",
       "      <td>...</td>\n",
       "      <td>-171,451.36</td>\n",
       "      <td>0000085900077120</td>\n",
       "      <td>NaN</td>\n",
       "      <td>NaN</td>\n",
       "      <td>NaN</td>\n",
       "      <td>117500077120</td>\n",
       "      <td>nan</td>\n",
       "      <td>nan</td>\n",
       "      <td>nan</td>\n",
       "      <td>TX-V1-Payclip_3261_24_Junio_2021.csv</td>\n",
       "    </tr>\n",
       "    <tr>\n",
       "      <th>3</th>\n",
       "      <td>3</td>\n",
       "      <td>12651035</td>\n",
       "      <td>PAYCLIPMX_CITI_MXN_2617</td>\n",
       "      <td>PAYCLIPMX_CITI_MXN_2617</td>\n",
       "      <td>70047593261</td>\n",
       "      <td>2180700475932617</td>\n",
       "      <td>MXN</td>\n",
       "      <td>Settlement Account</td>\n",
       "      <td>Citibank</td>\n",
       "      <td>MEXICO</td>\n",
       "      <td>...</td>\n",
       "      <td>-1,071,571.00</td>\n",
       "      <td>0000085900077120</td>\n",
       "      <td>NaN</td>\n",
       "      <td>NaN</td>\n",
       "      <td>NaN</td>\n",
       "      <td>117500077120</td>\n",
       "      <td>nan</td>\n",
       "      <td>nan</td>\n",
       "      <td>nan</td>\n",
       "      <td>TX-V1-Payclip_3261_24_Junio_2021.csv</td>\n",
       "    </tr>\n",
       "    <tr>\n",
       "      <th>4</th>\n",
       "      <td>4</td>\n",
       "      <td>12651036</td>\n",
       "      <td>PAYCLIPMX_CITI_MXN_2617</td>\n",
       "      <td>PAYCLIPMX_CITI_MXN_2617</td>\n",
       "      <td>70047593261</td>\n",
       "      <td>2180700475932617</td>\n",
       "      <td>MXN</td>\n",
       "      <td>Settlement Account</td>\n",
       "      <td>Citibank</td>\n",
       "      <td>MEXICO</td>\n",
       "      <td>...</td>\n",
       "      <td>0.00</td>\n",
       "      <td>17A3BDC9DA9C2790</td>\n",
       "      <td>Merchants</td>\n",
       "      <td>Merchants</td>\n",
       "      <td>Merchant payments rejection</td>\n",
       "      <td>606960717414</td>\n",
       "      <td>nan</td>\n",
       "      <td>nan</td>\n",
       "      <td>nan</td>\n",
       "      <td>TX-V1-Payclip_3261_24_Junio_2021.csv</td>\n",
       "    </tr>\n",
       "  </tbody>\n",
       "</table>\n",
       "<p>5 rows × 43 columns</p>\n",
       "</div>"
      ],
      "text/plain": [
       "   index      BTID               Account ID             Account Name  \\\n",
       "0      0  12651032  PAYCLIPMX_CITI_MXN_2617  PAYCLIPMX_CITI_MXN_2617   \n",
       "1      1  12651033  PAYCLIPMX_CITI_MXN_2617  PAYCLIPMX_CITI_MXN_2617   \n",
       "2      2  12651034  PAYCLIPMX_CITI_MXN_2617  PAYCLIPMX_CITI_MXN_2617   \n",
       "3      3  12651035  PAYCLIPMX_CITI_MXN_2617  PAYCLIPMX_CITI_MXN_2617   \n",
       "4      4  12651036  PAYCLIPMX_CITI_MXN_2617  PAYCLIPMX_CITI_MXN_2617   \n",
       "\n",
       "   Bank Account Number              IBAN  CCY        Account Type Bank Group  \\\n",
       "0          70047593261  2180700475932617  MXN  Settlement Account   Citibank   \n",
       "1          70047593261  2180700475932617  MXN  Settlement Account   Citibank   \n",
       "2          70047593261  2180700475932617  MXN  Settlement Account   Citibank   \n",
       "3          70047593261  2180700475932617  MXN  Settlement Account   Citibank   \n",
       "4          70047593261  2180700475932617  MXN  Settlement Account   Citibank   \n",
       "\n",
       "  Bank Country  ...          Debit    Bank Reference Instrument Code  \\\n",
       "0       MEXICO  ...    -163,613.76  0000085900077309             NaN   \n",
       "1       MEXICO  ...  -1,022,586.00  0000085900077309             NaN   \n",
       "2       MEXICO  ...    -171,451.36  0000085900077120             NaN   \n",
       "3       MEXICO  ...  -1,071,571.00  0000085900077120             NaN   \n",
       "4       MEXICO  ...           0.00  17A3BDC9DA9C2790       Merchants   \n",
       "\n",
       "  Instrument Type                  Budget Code Customer Reference Intradays  \\\n",
       "0             NaN                          NaN       117500077309       nan   \n",
       "1             NaN                          NaN       117500077309       nan   \n",
       "2             NaN                          NaN       117500077120       nan   \n",
       "3             NaN                          NaN       117500077120       nan   \n",
       "4       Merchants  Merchant payments rejection       606960717414       nan   \n",
       "\n",
       "   Description 1  Description 2                             file_name  \n",
       "0            nan            nan  TX-V1-Payclip_3261_24_Junio_2021.csv  \n",
       "1            nan            nan  TX-V1-Payclip_3261_24_Junio_2021.csv  \n",
       "2            nan            nan  TX-V1-Payclip_3261_24_Junio_2021.csv  \n",
       "3            nan            nan  TX-V1-Payclip_3261_24_Junio_2021.csv  \n",
       "4            nan            nan  TX-V1-Payclip_3261_24_Junio_2021.csv  \n",
       "\n",
       "[5 rows x 43 columns]"
      ]
     },
     "execution_count": 10,
     "metadata": {},
     "output_type": "execute_result"
    }
   ],
   "source": [
    "edo_cta_all_v1 = pd.concat([pd.read_csv(f)\n",
    "                     .assign(file_name=os.path.basename(f)) for f in all_mov_2021_v1])\n",
    "edo_cta_all_v1.reset_index(inplace=True)\n",
    "edo_cta_all_v1.head()"
   ]
  },
  {
   "cell_type": "code",
   "execution_count": 11,
   "metadata": {},
   "outputs": [
    {
     "data": {
      "text/plain": [
       "(3327, 43)"
      ]
     },
     "execution_count": 11,
     "metadata": {},
     "output_type": "execute_result"
    }
   ],
   "source": [
    "edo_cta_all_v1.shape"
   ]
  },
  {
   "cell_type": "code",
   "execution_count": 12,
   "metadata": {},
   "outputs": [
    {
     "data": {
      "text/html": [
       "<div>\n",
       "<style scoped>\n",
       "    .dataframe tbody tr th:only-of-type {\n",
       "        vertical-align: middle;\n",
       "    }\n",
       "\n",
       "    .dataframe tbody tr th {\n",
       "        vertical-align: top;\n",
       "    }\n",
       "\n",
       "    .dataframe thead th {\n",
       "        text-align: right;\n",
       "    }\n",
       "</style>\n",
       "<table border=\"1\" class=\"dataframe\">\n",
       "  <thead>\n",
       "    <tr style=\"text-align: right;\">\n",
       "      <th></th>\n",
       "      <th>Bank</th>\n",
       "      <th>Description</th>\n",
       "      <th>Operation Date</th>\n",
       "      <th>Value Date</th>\n",
       "      <th>Amount</th>\n",
       "      <th>Credit</th>\n",
       "      <th>Debit</th>\n",
       "      <th>Bank Reference</th>\n",
       "      <th>Customer Reference</th>\n",
       "    </tr>\n",
       "  </thead>\n",
       "  <tbody>\n",
       "    <tr>\n",
       "      <th>0</th>\n",
       "      <td>CitiBanamex</td>\n",
       "      <td>117500077309//0000085900077309 /CTC/937/IVA CO...</td>\n",
       "      <td>24-Jun-2021</td>\n",
       "      <td>24-Jun-2021</td>\n",
       "      <td>-163,613.76</td>\n",
       "      <td>0.00</td>\n",
       "      <td>-163,613.76</td>\n",
       "      <td>0000085900077309</td>\n",
       "      <td>117500077309</td>\n",
       "    </tr>\n",
       "    <tr>\n",
       "      <th>1</th>\n",
       "      <td>CitiBanamex</td>\n",
       "      <td>117500077309//0000085900077309 /CTC/936/COMM S...</td>\n",
       "      <td>24-Jun-2021</td>\n",
       "      <td>24-Jun-2021</td>\n",
       "      <td>-1,022,586.00</td>\n",
       "      <td>0.00</td>\n",
       "      <td>-1,022,586.00</td>\n",
       "      <td>0000085900077309</td>\n",
       "      <td>117500077309</td>\n",
       "    </tr>\n",
       "    <tr>\n",
       "      <th>2</th>\n",
       "      <td>CitiBanamex</td>\n",
       "      <td>117500077120//0000085900077120 /CTC/937/IVA CO...</td>\n",
       "      <td>24-Jun-2021</td>\n",
       "      <td>24-Jun-2021</td>\n",
       "      <td>-171,451.36</td>\n",
       "      <td>0.00</td>\n",
       "      <td>-171,451.36</td>\n",
       "      <td>0000085900077120</td>\n",
       "      <td>117500077120</td>\n",
       "    </tr>\n",
       "    <tr>\n",
       "      <th>3</th>\n",
       "      <td>CitiBanamex</td>\n",
       "      <td>117500077120//0000085900077120 /CTC/936/COMM S...</td>\n",
       "      <td>24-Jun-2021</td>\n",
       "      <td>24-Jun-2021</td>\n",
       "      <td>-1,071,571.00</td>\n",
       "      <td>0.00</td>\n",
       "      <td>-1,071,571.00</td>\n",
       "      <td>0000085900077120</td>\n",
       "      <td>117500077120</td>\n",
       "    </tr>\n",
       "    <tr>\n",
       "      <th>4</th>\n",
       "      <td>CitiBanamex</td>\n",
       "      <td>606960717414//17A3BDC9DA9C2790 /CTC/306/OPERAT...</td>\n",
       "      <td>24-Jun-2021</td>\n",
       "      <td>24-Jun-2021</td>\n",
       "      <td>1,136.47</td>\n",
       "      <td>1,136.47</td>\n",
       "      <td>0.00</td>\n",
       "      <td>17A3BDC9DA9C2790</td>\n",
       "      <td>606960717414</td>\n",
       "    </tr>\n",
       "  </tbody>\n",
       "</table>\n",
       "</div>"
      ],
      "text/plain": [
       "          Bank                                        Description  \\\n",
       "0  CitiBanamex  117500077309//0000085900077309 /CTC/937/IVA CO...   \n",
       "1  CitiBanamex  117500077309//0000085900077309 /CTC/936/COMM S...   \n",
       "2  CitiBanamex  117500077120//0000085900077120 /CTC/937/IVA CO...   \n",
       "3  CitiBanamex  117500077120//0000085900077120 /CTC/936/COMM S...   \n",
       "4  CitiBanamex  606960717414//17A3BDC9DA9C2790 /CTC/306/OPERAT...   \n",
       "\n",
       "  Operation Date   Value Date         Amount    Credit          Debit  \\\n",
       "0    24-Jun-2021  24-Jun-2021    -163,613.76      0.00    -163,613.76   \n",
       "1    24-Jun-2021  24-Jun-2021  -1,022,586.00      0.00  -1,022,586.00   \n",
       "2    24-Jun-2021  24-Jun-2021    -171,451.36      0.00    -171,451.36   \n",
       "3    24-Jun-2021  24-Jun-2021  -1,071,571.00      0.00  -1,071,571.00   \n",
       "4    24-Jun-2021  24-Jun-2021       1,136.47  1,136.47           0.00   \n",
       "\n",
       "     Bank Reference Customer Reference  \n",
       "0  0000085900077309       117500077309  \n",
       "1  0000085900077309       117500077309  \n",
       "2  0000085900077120       117500077120  \n",
       "3  0000085900077120       117500077120  \n",
       "4  17A3BDC9DA9C2790       606960717414  "
      ]
     },
     "execution_count": 12,
     "metadata": {},
     "output_type": "execute_result"
    }
   ],
   "source": [
    "edo_cta_v1 = edo_cta_all_v1[['Bank','Description','Operation Date','Value Date','Amount','Credit','Debit','Bank Reference',\n",
    "                       'Customer Reference']]\n",
    "edo_cta_v1.head()"
   ]
  },
  {
   "cell_type": "code",
   "execution_count": 13,
   "metadata": {},
   "outputs": [
    {
     "data": {
      "text/plain": [
       "(3327, 9)"
      ]
     },
     "execution_count": 13,
     "metadata": {},
     "output_type": "execute_result"
    }
   ],
   "source": [
    "edo_cta_v1.shape"
   ]
  },
  {
   "cell_type": "markdown",
   "metadata": {},
   "source": [
    "### CHECK DEVOLUCIONES V1 (24 DE JUNIO 2021)"
   ]
  },
  {
   "cell_type": "code",
   "execution_count": 15,
   "metadata": {},
   "outputs": [
    {
     "data": {
      "text/html": [
       "<div>\n",
       "<style scoped>\n",
       "    .dataframe tbody tr th:only-of-type {\n",
       "        vertical-align: middle;\n",
       "    }\n",
       "\n",
       "    .dataframe tbody tr th {\n",
       "        vertical-align: top;\n",
       "    }\n",
       "\n",
       "    .dataframe thead th {\n",
       "        text-align: right;\n",
       "    }\n",
       "</style>\n",
       "<table border=\"1\" class=\"dataframe\">\n",
       "  <thead>\n",
       "    <tr style=\"text-align: right;\">\n",
       "      <th></th>\n",
       "      <th>Bank</th>\n",
       "      <th>Description</th>\n",
       "      <th>Operation Date</th>\n",
       "      <th>Value Date</th>\n",
       "      <th>Amount</th>\n",
       "      <th>Credit</th>\n",
       "      <th>Debit</th>\n",
       "      <th>Bank Reference</th>\n",
       "      <th>Customer Reference</th>\n",
       "    </tr>\n",
       "  </thead>\n",
       "  <tbody>\n",
       "  </tbody>\n",
       "</table>\n",
       "</div>"
      ],
      "text/plain": [
       "Empty DataFrame\n",
       "Columns: [Bank, Description, Operation Date, Value Date, Amount, Credit, Debit, Bank Reference, Customer Reference]\n",
       "Index: []"
      ]
     },
     "execution_count": 15,
     "metadata": {},
     "output_type": "execute_result"
    }
   ],
   "source": [
    "check_v1 = edo_cta_v1[(edo_cta_v1['Bank Reference'].str.contains('17AFAB153889A74E'))]\n",
    "check_v1.head()"
   ]
  },
  {
   "cell_type": "code",
   "execution_count": null,
   "metadata": {},
   "outputs": [],
   "source": []
  }
 ],
 "metadata": {
  "kernelspec": {
   "display_name": "Python 3 (ipykernel)",
   "language": "python",
   "name": "python3"
  },
  "language_info": {
   "codemirror_mode": {
    "name": "ipython",
    "version": 3
   },
   "file_extension": ".py",
   "mimetype": "text/x-python",
   "name": "python",
   "nbconvert_exporter": "python",
   "pygments_lexer": "ipython3",
   "version": "3.8.13"
  }
 },
 "nbformat": 4,
 "nbformat_minor": 4
}
