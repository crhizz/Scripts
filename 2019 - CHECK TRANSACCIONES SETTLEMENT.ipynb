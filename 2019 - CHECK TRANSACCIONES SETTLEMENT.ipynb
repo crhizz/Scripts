{
 "cells": [
  {
   "cell_type": "code",
   "execution_count": 1,
   "metadata": {},
   "outputs": [],
   "source": [
    "import numpy as np\n",
    "import pandas as pd\n",
    "import zipfile\n",
    "from zipfile import ZipFile\n",
    "import glob\n",
    "import os\n",
    "from openpyxl import load_workbook\n",
    "pd.options.display.float_format = '{:,.2f}'.format"
   ]
  },
  {
   "cell_type": "markdown",
   "metadata": {},
   "source": [
    "# SFTP"
   ]
  },
  {
   "cell_type": "markdown",
   "metadata": {},
   "source": [
    "## HEADERS"
   ]
  },
  {
   "cell_type": "code",
   "execution_count": 2,
   "metadata": {},
   "outputs": [],
   "source": [
    "name_file=[\"Tipo de Columna\",\"Afiliación\",\"Referencia\",\"Tarjeta\",\"Monto depositado\",\"Comisiones\",\"Fecha txn\",\"Importe Bruto\"\n",
    "           ,\"Tipo Moneda\",\"Tipo txn\",\"Iva\",\"Iva por pago diferido\",\"Iva pagado por cashback\",\"Iva cobrado por cashback\"\n",
    "           ,\"Comisión pagada por cashback\",\"Comisión cobrada por cashback\",\"Comisión por pago diferido\",\"Monto del Cashback\"\n",
    "           ,\"Núm Pagos\",\"Diferimiento Inicial\",\"Tipo de Plan\",\"Código de Autorización\",\"Empty\",\"ECI\",\"Ref. Interbancaria\"\n",
    "           ,\"Empty.1\",\"Empty.2\",\"Empty.3\",\"order_id_xpay\",\"Ref. de Payworks\",\"Customer_ref1\",\"Customer_ref2\",\"Customer_ref3\"\n",
    "           ,\"Núm de Control\"]\n",
    "dtypes_file={'Importe Bruto':float,'Ref. Interbancaria': object,'Afiliación':object,'Referencia':object,'Tarjeta':object\n",
    "             ,'Núm Pagos':object,'Diferimiento Inicial':object,'Tipo de Plan':object,'Código de Autorización':object\n",
    "             ,'ECI':object,'order_id_xpay':object}"
   ]
  },
  {
   "cell_type": "code",
   "execution_count": 3,
   "metadata": {},
   "outputs": [],
   "source": [
    "use_cols = ['Afiliación','Tipo txn','Fecha txn','Importe Bruto','Código de Autorización','Ref. Interbancaria','order_id_xpay','Tarjeta','ECI']"
   ]
  },
  {
   "cell_type": "markdown",
   "metadata": {},
   "source": [
    "### MARZO 2019"
   ]
  },
  {
   "cell_type": "code",
   "execution_count": 4,
   "metadata": {},
   "outputs": [
    {
     "data": {
      "text/plain": [
       "['G:\\\\My Drive\\\\2.-CONCILIACIONES Y POLIZA\\\\SFTP BANORTE\\\\2019 SFTP Banorte\\\\MARZO\\\\01032019\\\\PAYCLIP_Settlement_01032019_V1.csv',\n",
       " 'G:\\\\My Drive\\\\2.-CONCILIACIONES Y POLIZA\\\\SFTP BANORTE\\\\2019 SFTP Banorte\\\\MARZO\\\\02032019\\\\PAYCLIP_Settlement_02032019_V1.csv',\n",
       " 'G:\\\\My Drive\\\\2.-CONCILIACIONES Y POLIZA\\\\SFTP BANORTE\\\\2019 SFTP Banorte\\\\MARZO\\\\08032019\\\\PAYCLIP_Settlement_08032019_V1.csv',\n",
       " 'G:\\\\My Drive\\\\2.-CONCILIACIONES Y POLIZA\\\\SFTP BANORTE\\\\2019 SFTP Banorte\\\\MARZO\\\\12032019\\\\PAYCLIP_Settlement_12032019_V1.csv',\n",
       " 'G:\\\\My Drive\\\\2.-CONCILIACIONES Y POLIZA\\\\SFTP BANORTE\\\\2019 SFTP Banorte\\\\MARZO\\\\13032019\\\\PAYCLIP_Settlement_13032019_V1.csv',\n",
       " 'G:\\\\My Drive\\\\2.-CONCILIACIONES Y POLIZA\\\\SFTP BANORTE\\\\2019 SFTP Banorte\\\\MARZO\\\\14032019\\\\PAYCLIP_Settlement_14032019_V1.csv',\n",
       " 'G:\\\\My Drive\\\\2.-CONCILIACIONES Y POLIZA\\\\SFTP BANORTE\\\\2019 SFTP Banorte\\\\MARZO\\\\15032019\\\\PAYCLIP_Settlement_15032019_V1.csv',\n",
       " 'G:\\\\My Drive\\\\2.-CONCILIACIONES Y POLIZA\\\\SFTP BANORTE\\\\2019 SFTP Banorte\\\\MARZO\\\\20032019\\\\PAYCLIP_Settlement_20032019_V1.csv',\n",
       " 'G:\\\\My Drive\\\\2.-CONCILIACIONES Y POLIZA\\\\SFTP BANORTE\\\\2019 SFTP Banorte\\\\MARZO\\\\16032019\\\\PAYCLIP_Settlement_16032019_V1.csv',\n",
       " 'G:\\\\My Drive\\\\2.-CONCILIACIONES Y POLIZA\\\\SFTP BANORTE\\\\2019 SFTP Banorte\\\\MARZO\\\\21032019\\\\PAYCLIP_Settlement_21032019_V1.csv',\n",
       " 'G:\\\\My Drive\\\\2.-CONCILIACIONES Y POLIZA\\\\SFTP BANORTE\\\\2019 SFTP Banorte\\\\MARZO\\\\22032019\\\\PAYCLIP_Settlement_22032019_V1.csv',\n",
       " 'G:\\\\My Drive\\\\2.-CONCILIACIONES Y POLIZA\\\\SFTP BANORTE\\\\2019 SFTP Banorte\\\\MARZO\\\\26032019\\\\PAYCLIP_Settlement_26032019_V1.csv',\n",
       " 'G:\\\\My Drive\\\\2.-CONCILIACIONES Y POLIZA\\\\SFTP BANORTE\\\\2019 SFTP Banorte\\\\MARZO\\\\27032019\\\\PAYCLIP_Settlement_27032019_V1.csv',\n",
       " 'G:\\\\My Drive\\\\2.-CONCILIACIONES Y POLIZA\\\\SFTP BANORTE\\\\2019 SFTP Banorte\\\\MARZO\\\\28032019\\\\PAYCLIP_Settlement_28032019_V1.csv',\n",
       " 'G:\\\\My Drive\\\\2.-CONCILIACIONES Y POLIZA\\\\SFTP BANORTE\\\\2019 SFTP Banorte\\\\MARZO\\\\23032019\\\\PAYCLIP_Settlement_23032019_V1.csv',\n",
       " 'G:\\\\My Drive\\\\2.-CONCILIACIONES Y POLIZA\\\\SFTP BANORTE\\\\2019 SFTP Banorte\\\\MARZO\\\\29032019\\\\PAYCLIP_Settlement_29032019_V1.csv',\n",
       " 'G:\\\\My Drive\\\\2.-CONCILIACIONES Y POLIZA\\\\SFTP BANORTE\\\\2019 SFTP Banorte\\\\MARZO\\\\30032019\\\\PAYCLIP_Settlement_30032019_V1.csv',\n",
       " 'G:\\\\My Drive\\\\2.-CONCILIACIONES Y POLIZA\\\\SFTP BANORTE\\\\2019 SFTP Banorte\\\\MARZO\\\\05032019\\\\PAYCLIP_Settlement_05032019_V1.csv',\n",
       " 'G:\\\\My Drive\\\\2.-CONCILIACIONES Y POLIZA\\\\SFTP BANORTE\\\\2019 SFTP Banorte\\\\MARZO\\\\06032019\\\\PAYCLIP_Settlement_06032019_V1.csv',\n",
       " 'G:\\\\My Drive\\\\2.-CONCILIACIONES Y POLIZA\\\\SFTP BANORTE\\\\2019 SFTP Banorte\\\\MARZO\\\\07032019\\\\PAYCLIP_Settlement_07032019_V1.csv',\n",
       " 'G:\\\\My Drive\\\\2.-CONCILIACIONES Y POLIZA\\\\SFTP BANORTE\\\\2019 SFTP Banorte\\\\MARZO\\\\09032019\\\\PAYCLIP_Settlement_09032019_V1.csv']"
      ]
     },
     "execution_count": 4,
     "metadata": {},
     "output_type": "execute_result"
    }
   ],
   "source": [
    "sftp_mar_1_19 = glob.glob(r'G:\\My Drive\\2.-CONCILIACIONES Y POLIZA\\SFTP BANORTE\\2019 SFTP Banorte\\MARZO\\**\\PAYCLIP_Settlement*.csv', recursive=False)\n",
    "sftp_mar_1_19"
   ]
  },
  {
   "cell_type": "code",
   "execution_count": 5,
   "metadata": {},
   "outputs": [
    {
     "data": {
      "text/html": [
       "<div>\n",
       "<style scoped>\n",
       "    .dataframe tbody tr th:only-of-type {\n",
       "        vertical-align: middle;\n",
       "    }\n",
       "\n",
       "    .dataframe tbody tr th {\n",
       "        vertical-align: top;\n",
       "    }\n",
       "\n",
       "    .dataframe thead th {\n",
       "        text-align: right;\n",
       "    }\n",
       "</style>\n",
       "<table border=\"1\" class=\"dataframe\">\n",
       "  <thead>\n",
       "    <tr style=\"text-align: right;\">\n",
       "      <th></th>\n",
       "      <th>Afiliación</th>\n",
       "      <th>Tarjeta</th>\n",
       "      <th>Fecha txn</th>\n",
       "      <th>Importe Bruto</th>\n",
       "      <th>Tipo txn</th>\n",
       "      <th>codigo_autorizacion</th>\n",
       "      <th>ECI</th>\n",
       "      <th>order_id</th>\n",
       "      <th>order_id_xpay</th>\n",
       "      <th>file_name</th>\n",
       "      <th>date_file</th>\n",
       "      <th>month</th>\n",
       "    </tr>\n",
       "  </thead>\n",
       "  <tbody>\n",
       "    <tr>\n",
       "      <th>0</th>\n",
       "      <td>MXN</td>\n",
       "      <td>-91703835</td>\n",
       "      <td>2802191</td>\n",
       "      <td>20,190,228.00</td>\n",
       "      <td>BANORTE</td>\n",
       "      <td>NaN</td>\n",
       "      <td>NaN</td>\n",
       "      <td>NaN</td>\n",
       "      <td>NaN</td>\n",
       "      <td>PAYCLIP_Settlement_01032019_V1.csv</td>\n",
       "      <td>2019-03-01</td>\n",
       "      <td>March</td>\n",
       "    </tr>\n",
       "    <tr>\n",
       "      <th>35783</th>\n",
       "      <td>07927517</td>\n",
       "      <td>5063034068</td>\n",
       "      <td>20190227</td>\n",
       "      <td>2,000.00</td>\n",
       "      <td>SETTLED</td>\n",
       "      <td>944399</td>\n",
       "      <td>75445509058896579275170</td>\n",
       "      <td>766904878348</td>\n",
       "      <td>NaN</td>\n",
       "      <td>PAYCLIP_Settlement_01032019_V1.csv</td>\n",
       "      <td>2019-03-01</td>\n",
       "      <td>March</td>\n",
       "    </tr>\n",
       "    <tr>\n",
       "      <th>35784</th>\n",
       "      <td>07927517</td>\n",
       "      <td>5204165796</td>\n",
       "      <td>20190227</td>\n",
       "      <td>6,500.00</td>\n",
       "      <td>SETTLED</td>\n",
       "      <td>025034</td>\n",
       "      <td>75445509058940879275173</td>\n",
       "      <td>100601516038</td>\n",
       "      <td>NaN</td>\n",
       "      <td>PAYCLIP_Settlement_01032019_V1.csv</td>\n",
       "      <td>2019-03-01</td>\n",
       "      <td>March</td>\n",
       "    </tr>\n",
       "    <tr>\n",
       "      <th>35785</th>\n",
       "      <td>07927517</td>\n",
       "      <td>5204164095</td>\n",
       "      <td>20190227</td>\n",
       "      <td>12,000.00</td>\n",
       "      <td>SETTLED</td>\n",
       "      <td>001264</td>\n",
       "      <td>75445509058941279275177</td>\n",
       "      <td>696573308138</td>\n",
       "      <td>NaN</td>\n",
       "      <td>PAYCLIP_Settlement_01032019_V1.csv</td>\n",
       "      <td>2019-03-01</td>\n",
       "      <td>March</td>\n",
       "    </tr>\n",
       "    <tr>\n",
       "      <th>35786</th>\n",
       "      <td>07927517</td>\n",
       "      <td>5359432349</td>\n",
       "      <td>20190227</td>\n",
       "      <td>7,900.00</td>\n",
       "      <td>SETTLED</td>\n",
       "      <td>594196</td>\n",
       "      <td>75445509058027679275171</td>\n",
       "      <td>286806345207</td>\n",
       "      <td>NaN</td>\n",
       "      <td>PAYCLIP_Settlement_01032019_V1.csv</td>\n",
       "      <td>2019-03-01</td>\n",
       "      <td>March</td>\n",
       "    </tr>\n",
       "  </tbody>\n",
       "</table>\n",
       "</div>"
      ],
      "text/plain": [
       "      Afiliación     Tarjeta  Fecha txn  Importe Bruto Tipo txn  \\\n",
       "0            MXN   -91703835    2802191  20,190,228.00  BANORTE   \n",
       "35783   07927517  5063034068   20190227       2,000.00  SETTLED   \n",
       "35784   07927517  5204165796   20190227       6,500.00  SETTLED   \n",
       "35785   07927517  5204164095   20190227      12,000.00  SETTLED   \n",
       "35786   07927517  5359432349   20190227       7,900.00  SETTLED   \n",
       "\n",
       "      codigo_autorizacion                      ECI      order_id  \\\n",
       "0                     NaN                      NaN           NaN   \n",
       "35783              944399  75445509058896579275170  766904878348   \n",
       "35784              025034  75445509058940879275173  100601516038   \n",
       "35785              001264  75445509058941279275177  696573308138   \n",
       "35786              594196  75445509058027679275171  286806345207   \n",
       "\n",
       "      order_id_xpay                           file_name  date_file  month  \n",
       "0               NaN  PAYCLIP_Settlement_01032019_V1.csv 2019-03-01  March  \n",
       "35783           NaN  PAYCLIP_Settlement_01032019_V1.csv 2019-03-01  March  \n",
       "35784           NaN  PAYCLIP_Settlement_01032019_V1.csv 2019-03-01  March  \n",
       "35785           NaN  PAYCLIP_Settlement_01032019_V1.csv 2019-03-01  March  \n",
       "35786           NaN  PAYCLIP_Settlement_01032019_V1.csv 2019-03-01  March  "
      ]
     },
     "execution_count": 5,
     "metadata": {},
     "output_type": "execute_result"
    }
   ],
   "source": [
    "sftp_mar_19 = pd.concat([pd.read_csv(f,names=name_file,dtype=dtypes_file,usecols=use_cols)\n",
    "                         .assign(file_name=os.path.basename(f)) for f in sftp_mar_1_19])\n",
    "sftp_mar_19.rename(columns ={'Ref. Interbancaria':'order_id','Código de Autorización':'codigo_autorizacion'}, inplace=True)\n",
    "sftp_mar_19['date_file'] = sftp_mar_19[\"file_name\"].str[-15:-7]\n",
    "sftp_mar_19['date_file']= pd.to_datetime(sftp_mar_19['date_file'], format='%d%m%Y').dt.date\n",
    "sftp_mar_19['date_file']= pd.to_datetime(sftp_mar_19['date_file'])\n",
    "sftp_mar_19.sort_values(by=['date_file'],ascending=True,inplace=True)\n",
    "sftp_mar_19['month'] = sftp_mar_19['date_file'].dt.strftime('%B')\n",
    "sftp_mar_19.head()"
   ]
  },
  {
   "cell_type": "code",
   "execution_count": 6,
   "metadata": {},
   "outputs": [
    {
     "data": {
      "text/plain": [
       "(1686706, 12)"
      ]
     },
     "execution_count": 6,
     "metadata": {},
     "output_type": "execute_result"
    }
   ],
   "source": [
    "sftp_mar_19.shape"
   ]
  },
  {
   "cell_type": "markdown",
   "metadata": {},
   "source": [
    "### FEBRERO 2019"
   ]
  },
  {
   "cell_type": "code",
   "execution_count": 7,
   "metadata": {},
   "outputs": [
    {
     "data": {
      "text/plain": [
       "['G:\\\\My Drive\\\\2.-CONCILIACIONES Y POLIZA\\\\SFTP BANORTE\\\\2019 SFTP Banorte\\\\FEBRERO\\\\01022019\\\\PAYCLIP_Settlement_01022019_V1.csv',\n",
       " 'G:\\\\My Drive\\\\2.-CONCILIACIONES Y POLIZA\\\\SFTP BANORTE\\\\2019 SFTP Banorte\\\\FEBRERO\\\\02022019\\\\PAYCLIP_Settlement_02022019_V1.csv',\n",
       " 'G:\\\\My Drive\\\\2.-CONCILIACIONES Y POLIZA\\\\SFTP BANORTE\\\\2019 SFTP Banorte\\\\FEBRERO\\\\06022019\\\\PAYCLIP_Settlement_06022019_V1.csv',\n",
       " 'G:\\\\My Drive\\\\2.-CONCILIACIONES Y POLIZA\\\\SFTP BANORTE\\\\2019 SFTP Banorte\\\\FEBRERO\\\\07022019\\\\PAYCLIP_Settlement_07022019_V1.csv',\n",
       " 'G:\\\\My Drive\\\\2.-CONCILIACIONES Y POLIZA\\\\SFTP BANORTE\\\\2019 SFTP Banorte\\\\FEBRERO\\\\08022019\\\\PAYCLIP_Settlement_08022019_V1.csv',\n",
       " 'G:\\\\My Drive\\\\2.-CONCILIACIONES Y POLIZA\\\\SFTP BANORTE\\\\2019 SFTP Banorte\\\\FEBRERO\\\\09022019\\\\PAYCLIP_Settlement_09022019_V1.csv',\n",
       " 'G:\\\\My Drive\\\\2.-CONCILIACIONES Y POLIZA\\\\SFTP BANORTE\\\\2019 SFTP Banorte\\\\FEBRERO\\\\12022019\\\\PAYCLIP_Settlement_12022019_V1.csv',\n",
       " 'G:\\\\My Drive\\\\2.-CONCILIACIONES Y POLIZA\\\\SFTP BANORTE\\\\2019 SFTP Banorte\\\\FEBRERO\\\\13022019\\\\PAYCLIP_Settlement_13022019_V1.csv',\n",
       " 'G:\\\\My Drive\\\\2.-CONCILIACIONES Y POLIZA\\\\SFTP BANORTE\\\\2019 SFTP Banorte\\\\FEBRERO\\\\14022019\\\\PAYCLIP_Settlement_14022019_V1.csv',\n",
       " 'G:\\\\My Drive\\\\2.-CONCILIACIONES Y POLIZA\\\\SFTP BANORTE\\\\2019 SFTP Banorte\\\\FEBRERO\\\\15022019\\\\PAYCLIP_Settlement_15022019_V1.csv',\n",
       " 'G:\\\\My Drive\\\\2.-CONCILIACIONES Y POLIZA\\\\SFTP BANORTE\\\\2019 SFTP Banorte\\\\FEBRERO\\\\19022019\\\\PAYCLIP_Settlement_19022019_V1.csv',\n",
       " 'G:\\\\My Drive\\\\2.-CONCILIACIONES Y POLIZA\\\\SFTP BANORTE\\\\2019 SFTP Banorte\\\\FEBRERO\\\\20022019\\\\PAYCLIP_Settlement_20022019_V1.csv',\n",
       " 'G:\\\\My Drive\\\\2.-CONCILIACIONES Y POLIZA\\\\SFTP BANORTE\\\\2019 SFTP Banorte\\\\FEBRERO\\\\21022019\\\\PAYCLIP_Settlement_21022019_V1.csv',\n",
       " 'G:\\\\My Drive\\\\2.-CONCILIACIONES Y POLIZA\\\\SFTP BANORTE\\\\2019 SFTP Banorte\\\\FEBRERO\\\\22022019\\\\PAYCLIP_Settlement_22022019_V1.csv',\n",
       " 'G:\\\\My Drive\\\\2.-CONCILIACIONES Y POLIZA\\\\SFTP BANORTE\\\\2019 SFTP Banorte\\\\FEBRERO\\\\23022019\\\\PAYCLIP_Settlement_23022019_V1.csv',\n",
       " 'G:\\\\My Drive\\\\2.-CONCILIACIONES Y POLIZA\\\\SFTP BANORTE\\\\2019 SFTP Banorte\\\\FEBRERO\\\\26022019\\\\PAYCLIP_Settlement_26022019_V1.csv',\n",
       " 'G:\\\\My Drive\\\\2.-CONCILIACIONES Y POLIZA\\\\SFTP BANORTE\\\\2019 SFTP Banorte\\\\FEBRERO\\\\27022019\\\\PAYCLIP_Settlement_27022019_V1.csv',\n",
       " 'G:\\\\My Drive\\\\2.-CONCILIACIONES Y POLIZA\\\\SFTP BANORTE\\\\2019 SFTP Banorte\\\\FEBRERO\\\\28022019\\\\PAYCLIP_Settlement_28022019_V1.csv',\n",
       " 'G:\\\\My Drive\\\\2.-CONCILIACIONES Y POLIZA\\\\SFTP BANORTE\\\\2019 SFTP Banorte\\\\FEBRERO\\\\16022019\\\\PAYCLIP_Settlement_16022019_V1.csv']"
      ]
     },
     "execution_count": 7,
     "metadata": {},
     "output_type": "execute_result"
    }
   ],
   "source": [
    "sftp_feb_1_19 = glob.glob(r'G:\\My Drive\\2.-CONCILIACIONES Y POLIZA\\SFTP BANORTE\\2019 SFTP Banorte\\FEBRERO\\**\\PAYCLIP_Settlement*.csv', recursive=False)\n",
    "sftp_feb_1_19"
   ]
  },
  {
   "cell_type": "code",
   "execution_count": 8,
   "metadata": {},
   "outputs": [
    {
     "data": {
      "text/html": [
       "<div>\n",
       "<style scoped>\n",
       "    .dataframe tbody tr th:only-of-type {\n",
       "        vertical-align: middle;\n",
       "    }\n",
       "\n",
       "    .dataframe tbody tr th {\n",
       "        vertical-align: top;\n",
       "    }\n",
       "\n",
       "    .dataframe thead th {\n",
       "        text-align: right;\n",
       "    }\n",
       "</style>\n",
       "<table border=\"1\" class=\"dataframe\">\n",
       "  <thead>\n",
       "    <tr style=\"text-align: right;\">\n",
       "      <th></th>\n",
       "      <th>Afiliación</th>\n",
       "      <th>Tarjeta</th>\n",
       "      <th>Fecha txn</th>\n",
       "      <th>Importe Bruto</th>\n",
       "      <th>Tipo txn</th>\n",
       "      <th>codigo_autorizacion</th>\n",
       "      <th>ECI</th>\n",
       "      <th>order_id</th>\n",
       "      <th>order_id_xpay</th>\n",
       "      <th>file_name</th>\n",
       "      <th>date_file</th>\n",
       "      <th>month</th>\n",
       "    </tr>\n",
       "  </thead>\n",
       "  <tbody>\n",
       "    <tr>\n",
       "      <th>0</th>\n",
       "      <td>MXN</td>\n",
       "      <td>-83590681</td>\n",
       "      <td>3101191</td>\n",
       "      <td>20,190,131.00</td>\n",
       "      <td>BANORTE</td>\n",
       "      <td>NaN</td>\n",
       "      <td>NaN</td>\n",
       "      <td>NaN</td>\n",
       "      <td>NaN</td>\n",
       "      <td>PAYCLIP_Settlement_01022019_V1.csv</td>\n",
       "      <td>2019-02-01</td>\n",
       "      <td>February</td>\n",
       "    </tr>\n",
       "    <tr>\n",
       "      <th>32618</th>\n",
       "      <td>07927517</td>\n",
       "      <td>4152319122</td>\n",
       "      <td>20190130</td>\n",
       "      <td>11,000.00</td>\n",
       "      <td>SETTLED</td>\n",
       "      <td>986848</td>\n",
       "      <td>74518999030661079275174</td>\n",
       "      <td>427366334871</td>\n",
       "      <td>NaN</td>\n",
       "      <td>PAYCLIP_Settlement_01022019_V1.csv</td>\n",
       "      <td>2019-02-01</td>\n",
       "      <td>February</td>\n",
       "    </tr>\n",
       "    <tr>\n",
       "      <th>32619</th>\n",
       "      <td>07927517</td>\n",
       "      <td>5063036267</td>\n",
       "      <td>20190130</td>\n",
       "      <td>1,500.00</td>\n",
       "      <td>SETTLED</td>\n",
       "      <td>759247</td>\n",
       "      <td>75445509030825979275178</td>\n",
       "      <td>088839756435</td>\n",
       "      <td>NaN</td>\n",
       "      <td>PAYCLIP_Settlement_01022019_V1.csv</td>\n",
       "      <td>2019-02-01</td>\n",
       "      <td>February</td>\n",
       "    </tr>\n",
       "    <tr>\n",
       "      <th>32620</th>\n",
       "      <td>07927517</td>\n",
       "      <td>4152312522</td>\n",
       "      <td>20190130</td>\n",
       "      <td>3,300.00</td>\n",
       "      <td>SETTLED</td>\n",
       "      <td>987894</td>\n",
       "      <td>74518999030670579275170</td>\n",
       "      <td>989610538412</td>\n",
       "      <td>NaN</td>\n",
       "      <td>PAYCLIP_Settlement_01022019_V1.csv</td>\n",
       "      <td>2019-02-01</td>\n",
       "      <td>February</td>\n",
       "    </tr>\n",
       "    <tr>\n",
       "      <th>32621</th>\n",
       "      <td>07927517</td>\n",
       "      <td>4152319965</td>\n",
       "      <td>20190130</td>\n",
       "      <td>67,000.00</td>\n",
       "      <td>SETTLED</td>\n",
       "      <td>987973</td>\n",
       "      <td>74518999030694779275178</td>\n",
       "      <td>376335557047</td>\n",
       "      <td>NaN</td>\n",
       "      <td>PAYCLIP_Settlement_01022019_V1.csv</td>\n",
       "      <td>2019-02-01</td>\n",
       "      <td>February</td>\n",
       "    </tr>\n",
       "  </tbody>\n",
       "</table>\n",
       "</div>"
      ],
      "text/plain": [
       "      Afiliación     Tarjeta  Fecha txn  Importe Bruto Tipo txn  \\\n",
       "0            MXN   -83590681    3101191  20,190,131.00  BANORTE   \n",
       "32618   07927517  4152319122   20190130      11,000.00  SETTLED   \n",
       "32619   07927517  5063036267   20190130       1,500.00  SETTLED   \n",
       "32620   07927517  4152312522   20190130       3,300.00  SETTLED   \n",
       "32621   07927517  4152319965   20190130      67,000.00  SETTLED   \n",
       "\n",
       "      codigo_autorizacion                      ECI      order_id  \\\n",
       "0                     NaN                      NaN           NaN   \n",
       "32618              986848  74518999030661079275174  427366334871   \n",
       "32619              759247  75445509030825979275178  088839756435   \n",
       "32620              987894  74518999030670579275170  989610538412   \n",
       "32621              987973  74518999030694779275178  376335557047   \n",
       "\n",
       "      order_id_xpay                           file_name  date_file     month  \n",
       "0               NaN  PAYCLIP_Settlement_01022019_V1.csv 2019-02-01  February  \n",
       "32618           NaN  PAYCLIP_Settlement_01022019_V1.csv 2019-02-01  February  \n",
       "32619           NaN  PAYCLIP_Settlement_01022019_V1.csv 2019-02-01  February  \n",
       "32620           NaN  PAYCLIP_Settlement_01022019_V1.csv 2019-02-01  February  \n",
       "32621           NaN  PAYCLIP_Settlement_01022019_V1.csv 2019-02-01  February  "
      ]
     },
     "execution_count": 8,
     "metadata": {},
     "output_type": "execute_result"
    }
   ],
   "source": [
    "sftp_feb_19 = pd.concat([pd.read_csv(f,names=name_file,dtype=dtypes_file,usecols=use_cols)\n",
    "                         .assign(file_name=os.path.basename(f)) for f in sftp_feb_1_19])\n",
    "sftp_feb_19.rename(columns ={'Ref. Interbancaria':'order_id','Código de Autorización':'codigo_autorizacion'}, inplace=True)\n",
    "sftp_feb_19['date_file'] = sftp_feb_19[\"file_name\"].str[-15:-7]\n",
    "sftp_feb_19['date_file']= pd.to_datetime(sftp_feb_19['date_file'], format='%d%m%Y').dt.date\n",
    "sftp_feb_19['date_file']= pd.to_datetime(sftp_feb_19['date_file'])\n",
    "sftp_feb_19.sort_values(by=['date_file'],ascending=True,inplace=True)\n",
    "sftp_feb_19['month'] = sftp_feb_19['date_file'].dt.strftime('%B')\n",
    "sftp_feb_19.head()"
   ]
  },
  {
   "cell_type": "code",
   "execution_count": 9,
   "metadata": {},
   "outputs": [
    {
     "data": {
      "text/plain": [
       "(1449680, 12)"
      ]
     },
     "execution_count": 9,
     "metadata": {},
     "output_type": "execute_result"
    }
   ],
   "source": [
    "sftp_feb_19.shape"
   ]
  },
  {
   "cell_type": "markdown",
   "metadata": {},
   "source": [
    "# ALL SFTP"
   ]
  },
  {
   "cell_type": "code",
   "execution_count": 10,
   "metadata": {},
   "outputs": [
    {
     "data": {
      "text/html": [
       "<div>\n",
       "<style scoped>\n",
       "    .dataframe tbody tr th:only-of-type {\n",
       "        vertical-align: middle;\n",
       "    }\n",
       "\n",
       "    .dataframe tbody tr th {\n",
       "        vertical-align: top;\n",
       "    }\n",
       "\n",
       "    .dataframe thead th {\n",
       "        text-align: right;\n",
       "    }\n",
       "</style>\n",
       "<table border=\"1\" class=\"dataframe\">\n",
       "  <thead>\n",
       "    <tr style=\"text-align: right;\">\n",
       "      <th></th>\n",
       "      <th>Afiliación</th>\n",
       "      <th>Tarjeta</th>\n",
       "      <th>Fecha txn</th>\n",
       "      <th>Importe Bruto</th>\n",
       "      <th>Tipo txn</th>\n",
       "      <th>codigo_autorizacion</th>\n",
       "      <th>ECI</th>\n",
       "      <th>order_id</th>\n",
       "      <th>order_id_xpay</th>\n",
       "      <th>file_name</th>\n",
       "      <th>date_file</th>\n",
       "      <th>month</th>\n",
       "    </tr>\n",
       "  </thead>\n",
       "  <tbody>\n",
       "    <tr>\n",
       "      <th>0</th>\n",
       "      <td>MXN</td>\n",
       "      <td>-83590681</td>\n",
       "      <td>3101191</td>\n",
       "      <td>20,190,131.00</td>\n",
       "      <td>BANORTE</td>\n",
       "      <td>NaN</td>\n",
       "      <td>NaN</td>\n",
       "      <td>NaN</td>\n",
       "      <td>NaN</td>\n",
       "      <td>PAYCLIP_Settlement_01022019_V1.csv</td>\n",
       "      <td>2019-02-01</td>\n",
       "      <td>February</td>\n",
       "    </tr>\n",
       "    <tr>\n",
       "      <th>32618</th>\n",
       "      <td>07927517</td>\n",
       "      <td>4152319122</td>\n",
       "      <td>20190130</td>\n",
       "      <td>11,000.00</td>\n",
       "      <td>SETTLED</td>\n",
       "      <td>986848</td>\n",
       "      <td>74518999030661079275174</td>\n",
       "      <td>427366334871</td>\n",
       "      <td>NaN</td>\n",
       "      <td>PAYCLIP_Settlement_01022019_V1.csv</td>\n",
       "      <td>2019-02-01</td>\n",
       "      <td>February</td>\n",
       "    </tr>\n",
       "    <tr>\n",
       "      <th>32619</th>\n",
       "      <td>07927517</td>\n",
       "      <td>5063036267</td>\n",
       "      <td>20190130</td>\n",
       "      <td>1,500.00</td>\n",
       "      <td>SETTLED</td>\n",
       "      <td>759247</td>\n",
       "      <td>75445509030825979275178</td>\n",
       "      <td>088839756435</td>\n",
       "      <td>NaN</td>\n",
       "      <td>PAYCLIP_Settlement_01022019_V1.csv</td>\n",
       "      <td>2019-02-01</td>\n",
       "      <td>February</td>\n",
       "    </tr>\n",
       "    <tr>\n",
       "      <th>32620</th>\n",
       "      <td>07927517</td>\n",
       "      <td>4152312522</td>\n",
       "      <td>20190130</td>\n",
       "      <td>3,300.00</td>\n",
       "      <td>SETTLED</td>\n",
       "      <td>987894</td>\n",
       "      <td>74518999030670579275170</td>\n",
       "      <td>989610538412</td>\n",
       "      <td>NaN</td>\n",
       "      <td>PAYCLIP_Settlement_01022019_V1.csv</td>\n",
       "      <td>2019-02-01</td>\n",
       "      <td>February</td>\n",
       "    </tr>\n",
       "    <tr>\n",
       "      <th>32621</th>\n",
       "      <td>07927517</td>\n",
       "      <td>4152319965</td>\n",
       "      <td>20190130</td>\n",
       "      <td>67,000.00</td>\n",
       "      <td>SETTLED</td>\n",
       "      <td>987973</td>\n",
       "      <td>74518999030694779275178</td>\n",
       "      <td>376335557047</td>\n",
       "      <td>NaN</td>\n",
       "      <td>PAYCLIP_Settlement_01022019_V1.csv</td>\n",
       "      <td>2019-02-01</td>\n",
       "      <td>February</td>\n",
       "    </tr>\n",
       "  </tbody>\n",
       "</table>\n",
       "</div>"
      ],
      "text/plain": [
       "      Afiliación     Tarjeta  Fecha txn  Importe Bruto Tipo txn  \\\n",
       "0            MXN   -83590681    3101191  20,190,131.00  BANORTE   \n",
       "32618   07927517  4152319122   20190130      11,000.00  SETTLED   \n",
       "32619   07927517  5063036267   20190130       1,500.00  SETTLED   \n",
       "32620   07927517  4152312522   20190130       3,300.00  SETTLED   \n",
       "32621   07927517  4152319965   20190130      67,000.00  SETTLED   \n",
       "\n",
       "      codigo_autorizacion                      ECI      order_id  \\\n",
       "0                     NaN                      NaN           NaN   \n",
       "32618              986848  74518999030661079275174  427366334871   \n",
       "32619              759247  75445509030825979275178  088839756435   \n",
       "32620              987894  74518999030670579275170  989610538412   \n",
       "32621              987973  74518999030694779275178  376335557047   \n",
       "\n",
       "      order_id_xpay                           file_name  date_file     month  \n",
       "0               NaN  PAYCLIP_Settlement_01022019_V1.csv 2019-02-01  February  \n",
       "32618           NaN  PAYCLIP_Settlement_01022019_V1.csv 2019-02-01  February  \n",
       "32619           NaN  PAYCLIP_Settlement_01022019_V1.csv 2019-02-01  February  \n",
       "32620           NaN  PAYCLIP_Settlement_01022019_V1.csv 2019-02-01  February  \n",
       "32621           NaN  PAYCLIP_Settlement_01022019_V1.csv 2019-02-01  February  "
      ]
     },
     "execution_count": 10,
     "metadata": {},
     "output_type": "execute_result"
    }
   ],
   "source": [
    "sftp = pd.concat([sftp_feb_19,sftp_mar_19])\n",
    "sftp.head()"
   ]
  },
  {
   "cell_type": "code",
   "execution_count": 11,
   "metadata": {},
   "outputs": [
    {
     "data": {
      "text/plain": [
       "(3136386, 12)"
      ]
     },
     "execution_count": 11,
     "metadata": {},
     "output_type": "execute_result"
    }
   ],
   "source": [
    "sftp.shape"
   ]
  },
  {
   "cell_type": "code",
   "execution_count": 12,
   "metadata": {},
   "outputs": [
    {
     "data": {
      "text/html": [
       "<div>\n",
       "<style scoped>\n",
       "    .dataframe tbody tr th:only-of-type {\n",
       "        vertical-align: middle;\n",
       "    }\n",
       "\n",
       "    .dataframe tbody tr th {\n",
       "        vertical-align: top;\n",
       "    }\n",
       "\n",
       "    .dataframe thead th {\n",
       "        text-align: right;\n",
       "    }\n",
       "</style>\n",
       "<table border=\"1\" class=\"dataframe\">\n",
       "  <thead>\n",
       "    <tr style=\"text-align: right;\">\n",
       "      <th></th>\n",
       "      <th>date_file</th>\n",
       "      <th>Fecha_deposito</th>\n",
       "    </tr>\n",
       "  </thead>\n",
       "  <tbody>\n",
       "    <tr>\n",
       "      <th>0</th>\n",
       "      <td>2019-02-01</td>\n",
       "      <td>20,190,131.00</td>\n",
       "    </tr>\n",
       "    <tr>\n",
       "      <th>0</th>\n",
       "      <td>2019-02-02</td>\n",
       "      <td>20,190,201.00</td>\n",
       "    </tr>\n",
       "    <tr>\n",
       "      <th>0</th>\n",
       "      <td>2019-02-06</td>\n",
       "      <td>20,190,205.00</td>\n",
       "    </tr>\n",
       "    <tr>\n",
       "      <th>0</th>\n",
       "      <td>2019-02-07</td>\n",
       "      <td>20,190,206.00</td>\n",
       "    </tr>\n",
       "    <tr>\n",
       "      <th>0</th>\n",
       "      <td>2019-02-08</td>\n",
       "      <td>20,190,207.00</td>\n",
       "    </tr>\n",
       "  </tbody>\n",
       "</table>\n",
       "</div>"
      ],
      "text/plain": [
       "   date_file  Fecha_deposito\n",
       "0 2019-02-01   20,190,131.00\n",
       "0 2019-02-02   20,190,201.00\n",
       "0 2019-02-06   20,190,205.00\n",
       "0 2019-02-07   20,190,206.00\n",
       "0 2019-02-08   20,190,207.00"
      ]
     },
     "execution_count": 12,
     "metadata": {},
     "output_type": "execute_result"
    }
   ],
   "source": [
    "sftp_fecha_deposito = sftp[(sftp['Tipo txn'] == 'BANORTE')]\n",
    "sftp_fecha_deposito = sftp_fecha_deposito[['date_file', 'Importe Bruto']]\n",
    "sftp_fecha_deposito.rename(columns ={'Importe Bruto': 'Fecha_deposito'},inplace=True)\n",
    "sftp_fecha_deposito.head()"
   ]
  },
  {
   "cell_type": "code",
   "execution_count": 13,
   "metadata": {},
   "outputs": [],
   "source": [
    "sftp = sftp[(sftp['Tipo txn'] != 'BANORTE')]\n",
    "sftp = sftp.merge(sftp_fecha_deposito[['date_file', 'Fecha_deposito']],on='date_file',how='left')"
   ]
  },
  {
   "cell_type": "code",
   "execution_count": 14,
   "metadata": {},
   "outputs": [],
   "source": [
    "sftp['Fecha txn'] = pd.to_datetime(sftp['Fecha txn'], format='%Y%m%d').dt.date\n",
    "sftp['Fecha_deposito'] = pd.to_datetime(sftp['Fecha_deposito'], format='%Y%m%d').dt.date"
   ]
  },
  {
   "cell_type": "code",
   "execution_count": 15,
   "metadata": {},
   "outputs": [],
   "source": [
    "sftp['Fecha txn'] = pd.to_datetime(sftp['Fecha txn'])\n",
    "sftp['Fecha_deposito'] = pd.to_datetime(sftp['Fecha_deposito'])"
   ]
  },
  {
   "cell_type": "code",
   "execution_count": 16,
   "metadata": {},
   "outputs": [
    {
     "data": {
      "text/html": [
       "<div>\n",
       "<style scoped>\n",
       "    .dataframe tbody tr th:only-of-type {\n",
       "        vertical-align: middle;\n",
       "    }\n",
       "\n",
       "    .dataframe tbody tr th {\n",
       "        vertical-align: top;\n",
       "    }\n",
       "\n",
       "    .dataframe thead th {\n",
       "        text-align: right;\n",
       "    }\n",
       "</style>\n",
       "<table border=\"1\" class=\"dataframe\">\n",
       "  <thead>\n",
       "    <tr style=\"text-align: right;\">\n",
       "      <th></th>\n",
       "      <th>Afiliación</th>\n",
       "      <th>Tarjeta</th>\n",
       "      <th>Fecha txn</th>\n",
       "      <th>Importe Bruto</th>\n",
       "      <th>Tipo txn</th>\n",
       "      <th>codigo_autorizacion</th>\n",
       "      <th>ECI</th>\n",
       "      <th>order_id</th>\n",
       "      <th>order_id_xpay</th>\n",
       "      <th>file_name</th>\n",
       "      <th>date_file</th>\n",
       "      <th>month</th>\n",
       "      <th>Fecha_deposito</th>\n",
       "      <th>Net Amount</th>\n",
       "      <th>LAST4_SFTP</th>\n",
       "      <th>BIN_SFTP</th>\n",
       "      <th>INDEX_TOTAL</th>\n",
       "      <th>INDEX_TOTAL_XPAY</th>\n",
       "      <th>INDEX_PARCIAL</th>\n",
       "    </tr>\n",
       "  </thead>\n",
       "  <tbody>\n",
       "    <tr>\n",
       "      <th>0</th>\n",
       "      <td>07927517</td>\n",
       "      <td>4152319122</td>\n",
       "      <td>2019-01-30</td>\n",
       "      <td>11,000.00</td>\n",
       "      <td>SETTLED</td>\n",
       "      <td>986848</td>\n",
       "      <td>74518999030661079275174</td>\n",
       "      <td>427366334871</td>\n",
       "      <td>NaN</td>\n",
       "      <td>PAYCLIP_Settlement_01022019_V1.csv</td>\n",
       "      <td>2019-02-01</td>\n",
       "      <td>February</td>\n",
       "      <td>2019-01-31</td>\n",
       "      <td>110.00</td>\n",
       "      <td>9122</td>\n",
       "      <td>415231</td>\n",
       "      <td>415231_9122_427366334871_110.0</td>\n",
       "      <td>415231_9122_nan_110.0</td>\n",
       "      <td>415231_9122_986848_110.0</td>\n",
       "    </tr>\n",
       "    <tr>\n",
       "      <th>1</th>\n",
       "      <td>07927517</td>\n",
       "      <td>5063036267</td>\n",
       "      <td>2019-01-30</td>\n",
       "      <td>1,500.00</td>\n",
       "      <td>SETTLED</td>\n",
       "      <td>759247</td>\n",
       "      <td>75445509030825979275178</td>\n",
       "      <td>088839756435</td>\n",
       "      <td>NaN</td>\n",
       "      <td>PAYCLIP_Settlement_01022019_V1.csv</td>\n",
       "      <td>2019-02-01</td>\n",
       "      <td>February</td>\n",
       "      <td>2019-01-31</td>\n",
       "      <td>15.00</td>\n",
       "      <td>6267</td>\n",
       "      <td>506303</td>\n",
       "      <td>506303_6267_088839756435_15.0</td>\n",
       "      <td>506303_6267_nan_15.0</td>\n",
       "      <td>506303_6267_759247_15.0</td>\n",
       "    </tr>\n",
       "    <tr>\n",
       "      <th>2</th>\n",
       "      <td>07927517</td>\n",
       "      <td>4152312522</td>\n",
       "      <td>2019-01-30</td>\n",
       "      <td>3,300.00</td>\n",
       "      <td>SETTLED</td>\n",
       "      <td>987894</td>\n",
       "      <td>74518999030670579275170</td>\n",
       "      <td>989610538412</td>\n",
       "      <td>NaN</td>\n",
       "      <td>PAYCLIP_Settlement_01022019_V1.csv</td>\n",
       "      <td>2019-02-01</td>\n",
       "      <td>February</td>\n",
       "      <td>2019-01-31</td>\n",
       "      <td>33.00</td>\n",
       "      <td>2522</td>\n",
       "      <td>415231</td>\n",
       "      <td>415231_2522_989610538412_33.0</td>\n",
       "      <td>415231_2522_nan_33.0</td>\n",
       "      <td>415231_2522_987894_33.0</td>\n",
       "    </tr>\n",
       "    <tr>\n",
       "      <th>3</th>\n",
       "      <td>07927517</td>\n",
       "      <td>4152319965</td>\n",
       "      <td>2019-01-30</td>\n",
       "      <td>67,000.00</td>\n",
       "      <td>SETTLED</td>\n",
       "      <td>987973</td>\n",
       "      <td>74518999030694779275178</td>\n",
       "      <td>376335557047</td>\n",
       "      <td>NaN</td>\n",
       "      <td>PAYCLIP_Settlement_01022019_V1.csv</td>\n",
       "      <td>2019-02-01</td>\n",
       "      <td>February</td>\n",
       "      <td>2019-01-31</td>\n",
       "      <td>670.00</td>\n",
       "      <td>9965</td>\n",
       "      <td>415231</td>\n",
       "      <td>415231_9965_376335557047_670.0</td>\n",
       "      <td>415231_9965_nan_670.0</td>\n",
       "      <td>415231_9965_987973_670.0</td>\n",
       "    </tr>\n",
       "    <tr>\n",
       "      <th>4</th>\n",
       "      <td>07927517</td>\n",
       "      <td>4213160488</td>\n",
       "      <td>2019-01-30</td>\n",
       "      <td>6,800.00</td>\n",
       "      <td>SETTLED</td>\n",
       "      <td>003807</td>\n",
       "      <td>74518999030706979275178</td>\n",
       "      <td>124403828831</td>\n",
       "      <td>NaN</td>\n",
       "      <td>PAYCLIP_Settlement_01022019_V1.csv</td>\n",
       "      <td>2019-02-01</td>\n",
       "      <td>February</td>\n",
       "      <td>2019-01-31</td>\n",
       "      <td>68.00</td>\n",
       "      <td>0488</td>\n",
       "      <td>421316</td>\n",
       "      <td>421316_0488_124403828831_68.0</td>\n",
       "      <td>421316_0488_nan_68.0</td>\n",
       "      <td>421316_0488_003807_68.0</td>\n",
       "    </tr>\n",
       "  </tbody>\n",
       "</table>\n",
       "</div>"
      ],
      "text/plain": [
       "  Afiliación     Tarjeta  Fecha txn  Importe Bruto Tipo txn  \\\n",
       "0   07927517  4152319122 2019-01-30      11,000.00  SETTLED   \n",
       "1   07927517  5063036267 2019-01-30       1,500.00  SETTLED   \n",
       "2   07927517  4152312522 2019-01-30       3,300.00  SETTLED   \n",
       "3   07927517  4152319965 2019-01-30      67,000.00  SETTLED   \n",
       "4   07927517  4213160488 2019-01-30       6,800.00  SETTLED   \n",
       "\n",
       "  codigo_autorizacion                      ECI      order_id order_id_xpay  \\\n",
       "0              986848  74518999030661079275174  427366334871           NaN   \n",
       "1              759247  75445509030825979275178  088839756435           NaN   \n",
       "2              987894  74518999030670579275170  989610538412           NaN   \n",
       "3              987973  74518999030694779275178  376335557047           NaN   \n",
       "4              003807  74518999030706979275178  124403828831           NaN   \n",
       "\n",
       "                            file_name  date_file     month Fecha_deposito  \\\n",
       "0  PAYCLIP_Settlement_01022019_V1.csv 2019-02-01  February     2019-01-31   \n",
       "1  PAYCLIP_Settlement_01022019_V1.csv 2019-02-01  February     2019-01-31   \n",
       "2  PAYCLIP_Settlement_01022019_V1.csv 2019-02-01  February     2019-01-31   \n",
       "3  PAYCLIP_Settlement_01022019_V1.csv 2019-02-01  February     2019-01-31   \n",
       "4  PAYCLIP_Settlement_01022019_V1.csv 2019-02-01  February     2019-01-31   \n",
       "\n",
       "   Net Amount LAST4_SFTP BIN_SFTP                     INDEX_TOTAL  \\\n",
       "0      110.00       9122   415231  415231_9122_427366334871_110.0   \n",
       "1       15.00       6267   506303   506303_6267_088839756435_15.0   \n",
       "2       33.00       2522   415231   415231_2522_989610538412_33.0   \n",
       "3      670.00       9965   415231  415231_9965_376335557047_670.0   \n",
       "4       68.00       0488   421316   421316_0488_124403828831_68.0   \n",
       "\n",
       "        INDEX_TOTAL_XPAY             INDEX_PARCIAL  \n",
       "0  415231_9122_nan_110.0  415231_9122_986848_110.0  \n",
       "1   506303_6267_nan_15.0   506303_6267_759247_15.0  \n",
       "2   415231_2522_nan_33.0   415231_2522_987894_33.0  \n",
       "3  415231_9965_nan_670.0  415231_9965_987973_670.0  \n",
       "4   421316_0488_nan_68.0   421316_0488_003807_68.0  "
      ]
     },
     "execution_count": 16,
     "metadata": {},
     "output_type": "execute_result"
    }
   ],
   "source": [
    "sftp['Net Amount'] = sftp['Importe Bruto']/100\n",
    "sftp['LAST4_SFTP'] = sftp['Tarjeta'].str[-4:].astype(str)\n",
    "sftp['BIN_SFTP'] = sftp['Tarjeta'].str[:6].astype(str)\n",
    "sftp['INDEX_TOTAL'] = (sftp['BIN_SFTP'].astype(str).replace(' ', '',regex=True)+'_'\n",
    "                       +sftp['LAST4_SFTP'].astype(str).replace(' ', '',regex=True)+'_'\n",
    "                       +sftp['order_id'].astype(str).replace(' ', '',regex=True)+'_'\n",
    "                       +sftp['Net Amount'].astype(str).replace(' ', '',regex=True))\n",
    "sftp['INDEX_TOTAL_XPAY'] = (sftp['BIN_SFTP'].astype(str).replace(' ', '',regex=True)+'_'\n",
    "                       +sftp['LAST4_SFTP'].astype(str).replace(' ', '',regex=True)+'_'\n",
    "                       +sftp['order_id_xpay'].astype(str).replace(' ', '',regex=True)+'_'\n",
    "                       +sftp['Net Amount'].astype(str).replace(' ', '',regex=True))\n",
    "sftp['INDEX_PARCIAL'] = (sftp['BIN_SFTP'].astype(str).replace(' ', '',regex=True)+'_'\n",
    "                       +sftp['LAST4_SFTP'].astype(str).replace(' ', '',regex=True)+'_'\n",
    "                       +sftp['codigo_autorizacion'].astype(str).replace(' ', '',regex=True)+'_'\n",
    "                       +sftp['Net Amount'].astype(str).replace(' ', '',regex=True))\n",
    "sftp['order_id'].fillna('NO EXISTE EN SFTP',inplace=True)\n",
    "sftp.head()"
   ]
  },
  {
   "cell_type": "code",
   "execution_count": 17,
   "metadata": {},
   "outputs": [
    {
     "data": {
      "text/plain": [
       "(3136346, 19)"
      ]
     },
     "execution_count": 17,
     "metadata": {},
     "output_type": "execute_result"
    }
   ],
   "source": [
    "sftp.shape"
   ]
  },
  {
   "cell_type": "markdown",
   "metadata": {},
   "source": [
    "# DATA POR AFILIACION"
   ]
  },
  {
   "cell_type": "code",
   "execution_count": null,
   "metadata": {},
   "outputs": [],
   "source": [
    "sftp_por_afiliacion = sftp.loc[sftp['Afiliación'].str.contains('8380402')]\n",
    "sftp_por_afiliacion.head()"
   ]
  },
  {
   "cell_type": "code",
   "execution_count": null,
   "metadata": {},
   "outputs": [],
   "source": [
    "sftp_por_afiliacion.shape"
   ]
  },
  {
   "cell_type": "code",
   "execution_count": null,
   "metadata": {},
   "outputs": [],
   "source": [
    "sftp_por_afiliacion.to_excel('MIT.xlsx',index=False)"
   ]
  },
  {
   "cell_type": "markdown",
   "metadata": {},
   "source": [
    "# CHECKS"
   ]
  },
  {
   "cell_type": "code",
   "execution_count": null,
   "metadata": {},
   "outputs": [],
   "source": [
    "# ticket_zendesk = pd.read_csv('EXAMPLE_2.csv',dtype={'AMOUNT':float,'CLAVE_AUTORIZACION': object,'BIN':object,'LAST4':object,'ORDER_ID':object})\n",
    "# ticket_zendesk = pd.read_excel('DATA.xlsx',converters={'ORDER_ID':str})\n",
    "# ticket_zendesk.rename(columns={'ORDER_ID':'order_id'},inplace=True)\n",
    "# ticket_zendesk.sort_values(by=['order_id','Fecha txn'],inplace=True)"
   ]
  },
  {
   "cell_type": "code",
   "execution_count": 18,
   "metadata": {},
   "outputs": [
    {
     "data": {
      "text/html": [
       "<div>\n",
       "<style scoped>\n",
       "    .dataframe tbody tr th:only-of-type {\n",
       "        vertical-align: middle;\n",
       "    }\n",
       "\n",
       "    .dataframe tbody tr th {\n",
       "        vertical-align: top;\n",
       "    }\n",
       "\n",
       "    .dataframe thead th {\n",
       "        text-align: right;\n",
       "    }\n",
       "</style>\n",
       "<table border=\"1\" class=\"dataframe\">\n",
       "  <thead>\n",
       "    <tr style=\"text-align: right;\">\n",
       "      <th></th>\n",
       "      <th>merchant_id</th>\n",
       "      <th>uuid</th>\n",
       "      <th>transaction_id</th>\n",
       "      <th>psp</th>\n",
       "      <th>affiliation_type</th>\n",
       "      <th>order_id</th>\n",
       "      <th>affiliation</th>\n",
       "      <th>sub_affiliation</th>\n",
       "      <th>mcc</th>\n",
       "      <th>date</th>\n",
       "      <th>...</th>\n",
       "      <th>status_code</th>\n",
       "      <th>msi</th>\n",
       "      <th>device_id</th>\n",
       "      <th>clip_reader</th>\n",
       "      <th>status_msg</th>\n",
       "      <th>issuer</th>\n",
       "      <th>brand</th>\n",
       "      <th>INDEX_TOTAL</th>\n",
       "      <th>INDEX_TOTAL_XPAY</th>\n",
       "      <th>INDEX_PARCIAL</th>\n",
       "    </tr>\n",
       "  </thead>\n",
       "  <tbody>\n",
       "    <tr>\n",
       "      <th>0</th>\n",
       "      <td>236e8ab4-c456-48dc-a79a-966b917241a3</td>\n",
       "      <td>c20d3297-d6c7-497d-b6ad-7f7457a8de38</td>\n",
       "      <td>f6f63c4b-23d3-4642-b63c-6859c7178121</td>\n",
       "      <td>PROSA</td>\n",
       "      <td>nan</td>\n",
       "      <td>912958002843</td>\n",
       "      <td>nan</td>\n",
       "      <td>nan</td>\n",
       "      <td>nan</td>\n",
       "      <td>2019-02-03</td>\n",
       "      <td>...</td>\n",
       "      <td>3</td>\n",
       "      <td>0</td>\n",
       "      <td>37303030303834300A270003</td>\n",
       "      <td>Clip Plus</td>\n",
       "      <td>Cancelled. Initiated by Clip risk team.</td>\n",
       "      <td>USALLIANCE F.C.U.</td>\n",
       "      <td>VISA</td>\n",
       "      <td>440881_0516_912958002843_14000.0</td>\n",
       "      <td>440881_0516_912958002843_14000.0</td>\n",
       "      <td>440881_0516_912958002843_14000.0</td>\n",
       "    </tr>\n",
       "  </tbody>\n",
       "</table>\n",
       "<p>1 rows × 28 columns</p>\n",
       "</div>"
      ],
      "text/plain": [
       "                            merchant_id                                  uuid  \\\n",
       "0  236e8ab4-c456-48dc-a79a-966b917241a3  c20d3297-d6c7-497d-b6ad-7f7457a8de38   \n",
       "\n",
       "                         transaction_id    psp  affiliation_type  \\\n",
       "0  f6f63c4b-23d3-4642-b63c-6859c7178121  PROSA               nan   \n",
       "\n",
       "       order_id  affiliation  sub_affiliation  mcc        date  ...  \\\n",
       "0  912958002843          nan              nan  nan  2019-02-03  ...   \n",
       "\n",
       "  status_code msi                 device_id  clip_reader  \\\n",
       "0           3   0  37303030303834300A270003    Clip Plus   \n",
       "\n",
       "                                status_msg             issuer brand  \\\n",
       "0  Cancelled. Initiated by Clip risk team.  USALLIANCE F.C.U.  VISA   \n",
       "\n",
       "                        INDEX_TOTAL                  INDEX_TOTAL_XPAY  \\\n",
       "0  440881_0516_912958002843_14000.0  440881_0516_912958002843_14000.0   \n",
       "\n",
       "                      INDEX_PARCIAL  \n",
       "0  440881_0516_912958002843_14000.0  \n",
       "\n",
       "[1 rows x 28 columns]"
      ]
     },
     "execution_count": 18,
     "metadata": {},
     "output_type": "execute_result"
    }
   ],
   "source": [
    "ticket_zendesk = pd.read_csv('TXN 2019.csv',dtype={'amount':float,'clave_autorizacion': object,'bin':object\n",
    "                                                  ,'last4':object,'order_id':object})\n",
    "ticket_zendesk['INDEX_TOTAL'] = (ticket_zendesk['bin'].astype(str).replace(' ', '',regex=True)+'_'\n",
    "                       +ticket_zendesk['last4'].astype(str).replace(' ', '',regex=True)+'_'\n",
    "                       +ticket_zendesk['order_id'].astype(str).replace(' ', '',regex=True)+'_'\n",
    "                       +ticket_zendesk['amount'].astype(str).replace(' ', '',regex=True))\n",
    "ticket_zendesk['INDEX_TOTAL_XPAY'] = (ticket_zendesk['bin'].astype(str).replace(' ', '',regex=True)+'_'\n",
    "                       +ticket_zendesk['last4'].astype(str).replace(' ', '',regex=True)+'_'\n",
    "                       +ticket_zendesk['order_id'].astype(str).replace(' ', '',regex=True)+'_'\n",
    "                       +ticket_zendesk['amount'].astype(str).replace(' ', '',regex=True))\n",
    "ticket_zendesk['INDEX_PARCIAL'] = (ticket_zendesk['bin'].astype(str).replace(' ', '',regex=True)+'_'\n",
    "                       +ticket_zendesk['last4'].astype(str).replace(' ', '',regex=True)+'_'\n",
    "                       +ticket_zendesk['order_id'].astype(str).replace(' ', '',regex=True)+'_'\n",
    "                       +ticket_zendesk['amount'].astype(str).replace(' ', '',regex=True))\n",
    "ticket_zendesk.head()"
   ]
  },
  {
   "cell_type": "code",
   "execution_count": 19,
   "metadata": {},
   "outputs": [
    {
     "data": {
      "text/plain": [
       "(1, 28)"
      ]
     },
     "execution_count": 19,
     "metadata": {},
     "output_type": "execute_result"
    }
   ],
   "source": [
    "ticket_zendesk.shape"
   ]
  },
  {
   "cell_type": "code",
   "execution_count": 20,
   "metadata": {},
   "outputs": [
    {
     "data": {
      "text/plain": [
       "array(['PROSA'], dtype=object)"
      ]
     },
     "execution_count": 20,
     "metadata": {},
     "output_type": "execute_result"
    }
   ],
   "source": [
    "ticket_zendesk['psp'].unique() "
   ]
  },
  {
   "cell_type": "code",
   "execution_count": 21,
   "metadata": {},
   "outputs": [
    {
     "data": {
      "text/plain": [
       "array([3], dtype=int64)"
      ]
     },
     "execution_count": 21,
     "metadata": {},
     "output_type": "execute_result"
    }
   ],
   "source": [
    "ticket_zendesk['status_code'].unique()"
   ]
  },
  {
   "cell_type": "code",
   "execution_count": 22,
   "metadata": {},
   "outputs": [
    {
     "name": "stdout",
     "output_type": "stream",
     "text": [
      " '912958002843',\n"
     ]
    }
   ],
   "source": [
    "ticket_zendesk['order_id_busqueda'] = \"'\"+ticket_zendesk['order_id'].replace(' ', '',regex=True)+\"',\"\n",
    "print (ticket_zendesk['order_id_busqueda'].to_string(index=False))"
   ]
  },
  {
   "cell_type": "markdown",
   "metadata": {},
   "source": [
    "# IMPORTANTE: REVISAR A QUE PSP CORRESPONDE EL ORDER ID (PROSA O XPAY)"
   ]
  },
  {
   "cell_type": "code",
   "execution_count": 23,
   "metadata": {},
   "outputs": [
    {
     "data": {
      "text/html": [
       "<div>\n",
       "<style scoped>\n",
       "    .dataframe tbody tr th:only-of-type {\n",
       "        vertical-align: middle;\n",
       "    }\n",
       "\n",
       "    .dataframe tbody tr th {\n",
       "        vertical-align: top;\n",
       "    }\n",
       "\n",
       "    .dataframe thead th {\n",
       "        text-align: right;\n",
       "    }\n",
       "</style>\n",
       "<table border=\"1\" class=\"dataframe\">\n",
       "  <thead>\n",
       "    <tr style=\"text-align: right;\">\n",
       "      <th></th>\n",
       "      <th>Afiliación</th>\n",
       "      <th>Tarjeta</th>\n",
       "      <th>Fecha txn</th>\n",
       "      <th>Importe Bruto</th>\n",
       "      <th>Tipo txn</th>\n",
       "      <th>codigo_autorizacion</th>\n",
       "      <th>ECI</th>\n",
       "      <th>order_id</th>\n",
       "      <th>order_id_xpay</th>\n",
       "      <th>file_name</th>\n",
       "      <th>date_file</th>\n",
       "      <th>month</th>\n",
       "      <th>Fecha_deposito</th>\n",
       "      <th>Net Amount</th>\n",
       "      <th>LAST4_SFTP</th>\n",
       "      <th>BIN_SFTP</th>\n",
       "      <th>INDEX_TOTAL</th>\n",
       "      <th>INDEX_TOTAL_XPAY</th>\n",
       "      <th>INDEX_PARCIAL</th>\n",
       "    </tr>\n",
       "  </thead>\n",
       "  <tbody>\n",
       "    <tr>\n",
       "      <th>227790</th>\n",
       "      <td>07668673</td>\n",
       "      <td>4408810516</td>\n",
       "      <td>2019-02-03</td>\n",
       "      <td>1,400,000.00</td>\n",
       "      <td>SETTLED</td>\n",
       "      <td>953897</td>\n",
       "      <td>74518999034105476686738</td>\n",
       "      <td>912958002843</td>\n",
       "      <td>NaN</td>\n",
       "      <td>PAYCLIP_Settlement_06022019_V1.csv</td>\n",
       "      <td>2019-02-06</td>\n",
       "      <td>February</td>\n",
       "      <td>2019-02-05</td>\n",
       "      <td>14,000.00</td>\n",
       "      <td>0516</td>\n",
       "      <td>440881</td>\n",
       "      <td>440881_0516_912958002843_14000.0</td>\n",
       "      <td>440881_0516_nan_14000.0</td>\n",
       "      <td>440881_0516_953897_14000.0</td>\n",
       "    </tr>\n",
       "    <tr>\n",
       "      <th>540173</th>\n",
       "      <td>07668673</td>\n",
       "      <td>4408810516</td>\n",
       "      <td>2019-02-03</td>\n",
       "      <td>-1,400,000.00</td>\n",
       "      <td>REFUNDED</td>\n",
       "      <td>953897</td>\n",
       "      <td>74518999041265876686737</td>\n",
       "      <td>912958002843</td>\n",
       "      <td>NaN</td>\n",
       "      <td>PAYCLIP_Settlement_12022019_V1.csv</td>\n",
       "      <td>2019-02-12</td>\n",
       "      <td>February</td>\n",
       "      <td>2019-02-11</td>\n",
       "      <td>-14,000.00</td>\n",
       "      <td>0516</td>\n",
       "      <td>440881</td>\n",
       "      <td>440881_0516_912958002843_-14000.0</td>\n",
       "      <td>440881_0516_nan_-14000.0</td>\n",
       "      <td>440881_0516_953897_-14000.0</td>\n",
       "    </tr>\n",
       "  </tbody>\n",
       "</table>\n",
       "</div>"
      ],
      "text/plain": [
       "       Afiliación     Tarjeta  Fecha txn  Importe Bruto  Tipo txn  \\\n",
       "227790   07668673  4408810516 2019-02-03   1,400,000.00   SETTLED   \n",
       "540173   07668673  4408810516 2019-02-03  -1,400,000.00  REFUNDED   \n",
       "\n",
       "       codigo_autorizacion                      ECI      order_id  \\\n",
       "227790              953897  74518999034105476686738  912958002843   \n",
       "540173              953897  74518999041265876686737  912958002843   \n",
       "\n",
       "       order_id_xpay                           file_name  date_file     month  \\\n",
       "227790           NaN  PAYCLIP_Settlement_06022019_V1.csv 2019-02-06  February   \n",
       "540173           NaN  PAYCLIP_Settlement_12022019_V1.csv 2019-02-12  February   \n",
       "\n",
       "       Fecha_deposito  Net Amount LAST4_SFTP BIN_SFTP  \\\n",
       "227790     2019-02-05   14,000.00       0516   440881   \n",
       "540173     2019-02-11  -14,000.00       0516   440881   \n",
       "\n",
       "                              INDEX_TOTAL          INDEX_TOTAL_XPAY  \\\n",
       "227790   440881_0516_912958002843_14000.0   440881_0516_nan_14000.0   \n",
       "540173  440881_0516_912958002843_-14000.0  440881_0516_nan_-14000.0   \n",
       "\n",
       "                      INDEX_PARCIAL  \n",
       "227790   440881_0516_953897_14000.0  \n",
       "540173  440881_0516_953897_-14000.0  "
      ]
     },
     "execution_count": 23,
     "metadata": {},
     "output_type": "execute_result"
    }
   ],
   "source": [
    "# select columns by name\n",
    "check_txn = sftp[sftp['order_id'].isin(['912958002843']) | sftp.order_id_xpay.isin(['912958002843'])]\n",
    "# check_txn = sftp[sftp['ECI'].isin(['74518990297102774892283'])]\n",
    "# check_txn = sftp[sftp['order_id'] == '082566136893']\n",
    "# check_txn = sftp[sftp['order_id_xpay'].isin(['223432604325'])]\n",
    "# check_txn = sftp[(sftp.order_id == ('470520706509')) | (sftp.order_id ==('684089225828'))]\n",
    "# check_txn = sftp[(sftp.CONCAT_2 == ('4388-2460.0')) | (sftp.CONCAT_2 == ('4388--2460.0'))]\n",
    "# check_txn = sftp[(sftp.CONCAT_3 == ('314771-2718-295.0')) | (sftp.CONCAT_3 == ('314771-2718--295.0'))]\n",
    "# check_txn = sftp[(sftp['LAST4'] == '7206')]\n",
    "# check_txn.sort_values(by=['order_id','Fecha txn'],inplace=True)\n",
    "check_txn.head()"
   ]
  },
  {
   "cell_type": "code",
   "execution_count": 24,
   "metadata": {},
   "outputs": [
    {
     "data": {
      "text/plain": [
       "(2, 19)"
      ]
     },
     "execution_count": 24,
     "metadata": {},
     "output_type": "execute_result"
    }
   ],
   "source": [
    "check_txn.shape"
   ]
  },
  {
   "cell_type": "code",
   "execution_count": null,
   "metadata": {},
   "outputs": [],
   "source": [
    "# check_txn.to_excel('LAST4_7106.xlsx',index=False)"
   ]
  },
  {
   "cell_type": "code",
   "execution_count": null,
   "metadata": {},
   "outputs": [],
   "source": [
    "# writer = pd.ExcelWriter('EXAMPLE_SFTP(2).xlsx', engine='openpyxl', options={'encoding':'utf-8'})\n",
    "# check_txn.to_excel(writer, sheet_name='MATCH TXN 1', index=False)\n",
    "# ticket_zendesk.to_excel(writer, sheet_name='TICKET', index=False)\n",
    "# writer.save()\n",
    "# writer.close()"
   ]
  },
  {
   "cell_type": "markdown",
   "metadata": {},
   "source": [
    "# MATCH DEPENDIENDO DEL PSP (INDEX_TOTAL O INDEX_TOTAL_XPAY)"
   ]
  },
  {
   "cell_type": "code",
   "execution_count": 25,
   "metadata": {},
   "outputs": [
    {
     "data": {
      "text/html": [
       "<div>\n",
       "<style scoped>\n",
       "    .dataframe tbody tr th:only-of-type {\n",
       "        vertical-align: middle;\n",
       "    }\n",
       "\n",
       "    .dataframe tbody tr th {\n",
       "        vertical-align: top;\n",
       "    }\n",
       "\n",
       "    .dataframe thead th {\n",
       "        text-align: right;\n",
       "    }\n",
       "</style>\n",
       "<table border=\"1\" class=\"dataframe\">\n",
       "  <thead>\n",
       "    <tr style=\"text-align: right;\">\n",
       "      <th></th>\n",
       "      <th>Afiliación</th>\n",
       "      <th>Tarjeta</th>\n",
       "      <th>Fecha txn</th>\n",
       "      <th>Importe Bruto</th>\n",
       "      <th>Tipo txn</th>\n",
       "      <th>codigo_autorizacion</th>\n",
       "      <th>ECI</th>\n",
       "      <th>order_id</th>\n",
       "      <th>order_id_xpay</th>\n",
       "      <th>file_name</th>\n",
       "      <th>...</th>\n",
       "      <th>INDEX_TOTAL</th>\n",
       "      <th>INDEX_TOTAL_XPAY</th>\n",
       "      <th>INDEX_PARCIAL</th>\n",
       "      <th>merchant_id</th>\n",
       "      <th>transaction_id</th>\n",
       "      <th>status_code</th>\n",
       "      <th>status_msg</th>\n",
       "      <th>bin</th>\n",
       "      <th>last4</th>\n",
       "      <th>amount</th>\n",
       "    </tr>\n",
       "  </thead>\n",
       "  <tbody>\n",
       "    <tr>\n",
       "      <th>0</th>\n",
       "      <td>07668673</td>\n",
       "      <td>4408810516</td>\n",
       "      <td>2019-02-03</td>\n",
       "      <td>1,400,000.00</td>\n",
       "      <td>SETTLED</td>\n",
       "      <td>953897</td>\n",
       "      <td>74518999034105476686738</td>\n",
       "      <td>912958002843</td>\n",
       "      <td>NaN</td>\n",
       "      <td>PAYCLIP_Settlement_06022019_V1.csv</td>\n",
       "      <td>...</td>\n",
       "      <td>440881_0516_912958002843_14000.0</td>\n",
       "      <td>440881_0516_nan_14000.0</td>\n",
       "      <td>440881_0516_953897_14000.0</td>\n",
       "      <td>236e8ab4-c456-48dc-a79a-966b917241a3</td>\n",
       "      <td>f6f63c4b-23d3-4642-b63c-6859c7178121</td>\n",
       "      <td>3.00</td>\n",
       "      <td>Cancelled. Initiated by Clip risk team.</td>\n",
       "      <td>440881</td>\n",
       "      <td>0516</td>\n",
       "      <td>14,000.00</td>\n",
       "    </tr>\n",
       "    <tr>\n",
       "      <th>1</th>\n",
       "      <td>07668673</td>\n",
       "      <td>4408810516</td>\n",
       "      <td>2019-02-03</td>\n",
       "      <td>-1,400,000.00</td>\n",
       "      <td>REFUNDED</td>\n",
       "      <td>953897</td>\n",
       "      <td>74518999041265876686737</td>\n",
       "      <td>912958002843</td>\n",
       "      <td>NaN</td>\n",
       "      <td>PAYCLIP_Settlement_12022019_V1.csv</td>\n",
       "      <td>...</td>\n",
       "      <td>440881_0516_912958002843_-14000.0</td>\n",
       "      <td>440881_0516_nan_-14000.0</td>\n",
       "      <td>440881_0516_953897_-14000.0</td>\n",
       "      <td>NaN</td>\n",
       "      <td>NaN</td>\n",
       "      <td>nan</td>\n",
       "      <td>NaN</td>\n",
       "      <td>NaN</td>\n",
       "      <td>NaN</td>\n",
       "      <td>nan</td>\n",
       "    </tr>\n",
       "  </tbody>\n",
       "</table>\n",
       "<p>2 rows × 26 columns</p>\n",
       "</div>"
      ],
      "text/plain": [
       "  Afiliación     Tarjeta  Fecha txn  Importe Bruto  Tipo txn  \\\n",
       "0   07668673  4408810516 2019-02-03   1,400,000.00   SETTLED   \n",
       "1   07668673  4408810516 2019-02-03  -1,400,000.00  REFUNDED   \n",
       "\n",
       "  codigo_autorizacion                      ECI      order_id order_id_xpay  \\\n",
       "0              953897  74518999034105476686738  912958002843           NaN   \n",
       "1              953897  74518999041265876686737  912958002843           NaN   \n",
       "\n",
       "                            file_name  ...                        INDEX_TOTAL  \\\n",
       "0  PAYCLIP_Settlement_06022019_V1.csv  ...   440881_0516_912958002843_14000.0   \n",
       "1  PAYCLIP_Settlement_12022019_V1.csv  ...  440881_0516_912958002843_-14000.0   \n",
       "\n",
       "           INDEX_TOTAL_XPAY                INDEX_PARCIAL  \\\n",
       "0   440881_0516_nan_14000.0   440881_0516_953897_14000.0   \n",
       "1  440881_0516_nan_-14000.0  440881_0516_953897_-14000.0   \n",
       "\n",
       "                            merchant_id                        transaction_id  \\\n",
       "0  236e8ab4-c456-48dc-a79a-966b917241a3  f6f63c4b-23d3-4642-b63c-6859c7178121   \n",
       "1                                   NaN                                   NaN   \n",
       "\n",
       "  status_code                               status_msg     bin last4    amount  \n",
       "0        3.00  Cancelled. Initiated by Clip risk team.  440881  0516 14,000.00  \n",
       "1         nan                                      NaN     NaN   NaN       nan  \n",
       "\n",
       "[2 rows x 26 columns]"
      ]
     },
     "execution_count": 25,
     "metadata": {},
     "output_type": "execute_result"
    }
   ],
   "source": [
    "match = check_txn.merge(ticket_zendesk[['INDEX_TOTAL','merchant_id','transaction_id','status_code','status_msg',\n",
    "                                       'bin','last4','amount']],on='INDEX_TOTAL',how='left')\n",
    "# match = check_txn.merge(ticket_zendesk[['INDEX_TOTAL_XPAY','merchant_id','transaction_id','status_code','status_msg',\n",
    "#                                        'bin','last4','amount']],on='INDEX_TOTAL_XPAY',how='left')\n",
    "# match = check_txn.merge(ticket_zendesk[['order_id','ISSUER','BRAND']],on='order_id',how='left')\n",
    "# match['transaction_id'].fillna('NO MATCH',inplace=True)\n",
    "# match['status_code'].fillna('NO MATCH',inplace=True)\n",
    "# match['status_msg'].fillna('NO MATCH',inplace=True)\n",
    "match.head()"
   ]
  },
  {
   "cell_type": "code",
   "execution_count": 26,
   "metadata": {},
   "outputs": [
    {
     "data": {
      "text/plain": [
       "(2, 26)"
      ]
     },
     "execution_count": 26,
     "metadata": {},
     "output_type": "execute_result"
    }
   ],
   "source": [
    "match.shape"
   ]
  },
  {
   "cell_type": "code",
   "execution_count": 27,
   "metadata": {},
   "outputs": [],
   "source": [
    "match_final = match[['Fecha txn','Tipo txn','order_id','order_id_xpay','Fecha_deposito','Net Amount','merchant_id',\n",
    "                    'transaction_id','status_code','status_msg']]"
   ]
  },
  {
   "cell_type": "code",
   "execution_count": 28,
   "metadata": {},
   "outputs": [],
   "source": [
    "writer = pd.ExcelWriter('DATA FINAL TXN 2019.xlsx', engine='openpyxl', options={'encoding':'utf-8'})\n",
    "match_final.to_excel(writer, sheet_name='MATCH_FINAL', index=False)\n",
    "match.to_excel(writer, sheet_name='MATCH', index=False)\n",
    "writer.save()\n",
    "writer.close()"
   ]
  },
  {
   "cell_type": "code",
   "execution_count": null,
   "metadata": {},
   "outputs": [],
   "source": []
  }
 ],
 "metadata": {
  "kernelspec": {
   "display_name": "Python 3",
   "language": "python",
   "name": "python3"
  },
  "language_info": {
   "codemirror_mode": {
    "name": "ipython",
    "version": 3
   },
   "file_extension": ".py",
   "mimetype": "text/x-python",
   "name": "python",
   "nbconvert_exporter": "python",
   "pygments_lexer": "ipython3",
   "version": "3.7.6"
  }
 },
 "nbformat": 4,
 "nbformat_minor": 2
}
