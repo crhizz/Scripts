{
 "cells": [
  {
   "cell_type": "code",
   "execution_count": 1,
   "metadata": {},
   "outputs": [],
   "source": [
    "import pandas as pd\n",
    "import numpy as np\n",
    "import glob\n",
    "import os\n",
    "from openpyxl import load_workbook\n",
    "pd.options.display.float_format = '{:,.2f}'.format"
   ]
  },
  {
   "cell_type": "code",
   "execution_count": 2,
   "metadata": {},
   "outputs": [],
   "source": [
    "start_date = '2022-03-01'\n",
    "final_date = '2022-03-31'\n",
    "query_error_year = 2022\n",
    "query_error_month = 3"
   ]
  },
  {
   "cell_type": "markdown",
   "metadata": {},
   "source": [
    "# INFORMACION DE  CUBETA ERROR"
   ]
  },
  {
   "cell_type": "code",
   "execution_count": 3,
   "metadata": {},
   "outputs": [
    {
     "data": {
      "text/html": [
       "<div>\n",
       "<style scoped>\n",
       "    .dataframe tbody tr th:only-of-type {\n",
       "        vertical-align: middle;\n",
       "    }\n",
       "\n",
       "    .dataframe tbody tr th {\n",
       "        vertical-align: top;\n",
       "    }\n",
       "\n",
       "    .dataframe thead th {\n",
       "        text-align: right;\n",
       "    }\n",
       "</style>\n",
       "<table border=\"1\" class=\"dataframe\">\n",
       "  <thead>\n",
       "    <tr style=\"text-align: right;\">\n",
       "      <th></th>\n",
       "      <th>Unnamed: 0</th>\n",
       "      <th>merchant_id</th>\n",
       "      <th>merchant_name</th>\n",
       "      <th>report_id</th>\n",
       "      <th>report_date_local</th>\n",
       "      <th>amount</th>\n",
       "      <th>status</th>\n",
       "      <th>error_description</th>\n",
       "      <th>ultimo_mov</th>\n",
       "      <th>month</th>\n",
       "      <th>year</th>\n",
       "      <th>status_cubeta</th>\n",
       "      <th>esquema_query</th>\n",
       "      <th>merchant_id_query</th>\n",
       "      <th>ultimo_mov_date_only</th>\n",
       "      <th>day</th>\n",
       "      <th>mes_cierre</th>\n",
       "    </tr>\n",
       "  </thead>\n",
       "  <tbody>\n",
       "    <tr>\n",
       "      <th>0</th>\n",
       "      <td>0</td>\n",
       "      <td>b088c4b4-29dd-42c8-bd29-1eda61f73973</td>\n",
       "      <td>Mscelanea Dulce Maria</td>\n",
       "      <td>GTS92WH86</td>\n",
       "      <td>2015-11-05</td>\n",
       "      <td>734.34</td>\n",
       "      <td>ERROR</td>\n",
       "      <td>swap devuelto</td>\n",
       "      <td>2017-08-15 22:01:46</td>\n",
       "      <td>8</td>\n",
       "      <td>2017</td>\n",
       "      <td>ERROR</td>\n",
       "      <td>ERROR_USUAL</td>\n",
       "      <td>b088c4b4-29dd-42c8-bd29-1eda61f73973</td>\n",
       "      <td>2017-08-15</td>\n",
       "      <td>15</td>\n",
       "      <td>NaN</td>\n",
       "    </tr>\n",
       "    <tr>\n",
       "      <th>1</th>\n",
       "      <td>1</td>\n",
       "      <td>b088c4b4-29dd-42c8-bd29-1eda61f73973</td>\n",
       "      <td>Mscelanea Dulce Maria</td>\n",
       "      <td>8VQRDV39G</td>\n",
       "      <td>2015-11-06</td>\n",
       "      <td>597.26</td>\n",
       "      <td>ERROR</td>\n",
       "      <td>swap devuelto</td>\n",
       "      <td>2017-08-15 22:02:08</td>\n",
       "      <td>8</td>\n",
       "      <td>2017</td>\n",
       "      <td>ERROR</td>\n",
       "      <td>ERROR_USUAL</td>\n",
       "      <td>b088c4b4-29dd-42c8-bd29-1eda61f73973</td>\n",
       "      <td>2017-08-15</td>\n",
       "      <td>15</td>\n",
       "      <td>NaN</td>\n",
       "    </tr>\n",
       "    <tr>\n",
       "      <th>2</th>\n",
       "      <td>2</td>\n",
       "      <td>d1087b80-5383-4b90-8738-bf309a1ce297</td>\n",
       "      <td>Grupo Solutec</td>\n",
       "      <td>82G5CYSR7</td>\n",
       "      <td>2015-12-21</td>\n",
       "      <td>9,160.77</td>\n",
       "      <td>ERROR</td>\n",
       "      <td>failed swap</td>\n",
       "      <td>2017-11-01 19:53:09</td>\n",
       "      <td>11</td>\n",
       "      <td>2017</td>\n",
       "      <td>ERROR</td>\n",
       "      <td>ERROR_USUAL</td>\n",
       "      <td>d1087b80-5383-4b90-8738-bf309a1ce297</td>\n",
       "      <td>2017-11-01</td>\n",
       "      <td>1</td>\n",
       "      <td>NaN</td>\n",
       "    </tr>\n",
       "    <tr>\n",
       "      <th>3</th>\n",
       "      <td>3</td>\n",
       "      <td>8f666f7d-5eb8-4367-9c52-5564d6aca0c5</td>\n",
       "      <td>Ediciones Malinalco S de RL de CV</td>\n",
       "      <td>XWRKLC2ZL</td>\n",
       "      <td>2016-02-08</td>\n",
       "      <td>1,216.98</td>\n",
       "      <td>ERROR</td>\n",
       "      <td>confirmar la cuenta</td>\n",
       "      <td>2017-05-12 17:07:39</td>\n",
       "      <td>5</td>\n",
       "      <td>2017</td>\n",
       "      <td>ERROR</td>\n",
       "      <td>ERROR_USUAL</td>\n",
       "      <td>8f666f7d-5eb8-4367-9c52-5564d6aca0c5</td>\n",
       "      <td>2017-05-12</td>\n",
       "      <td>12</td>\n",
       "      <td>NaN</td>\n",
       "    </tr>\n",
       "    <tr>\n",
       "      <th>4</th>\n",
       "      <td>4</td>\n",
       "      <td>8f666f7d-5eb8-4367-9c52-5564d6aca0c5</td>\n",
       "      <td>Ediciones Malinalco S de RL de CV</td>\n",
       "      <td>D9468C7W4</td>\n",
       "      <td>2016-02-16</td>\n",
       "      <td>1,993.14</td>\n",
       "      <td>ERROR</td>\n",
       "      <td>confirmar la cuenta</td>\n",
       "      <td>2017-05-12 17:07:25</td>\n",
       "      <td>5</td>\n",
       "      <td>2017</td>\n",
       "      <td>ERROR</td>\n",
       "      <td>ERROR_USUAL</td>\n",
       "      <td>8f666f7d-5eb8-4367-9c52-5564d6aca0c5</td>\n",
       "      <td>2017-05-12</td>\n",
       "      <td>12</td>\n",
       "      <td>NaN</td>\n",
       "    </tr>\n",
       "  </tbody>\n",
       "</table>\n",
       "</div>"
      ],
      "text/plain": [
       "   Unnamed: 0                           merchant_id  \\\n",
       "0           0  b088c4b4-29dd-42c8-bd29-1eda61f73973   \n",
       "1           1  b088c4b4-29dd-42c8-bd29-1eda61f73973   \n",
       "2           2  d1087b80-5383-4b90-8738-bf309a1ce297   \n",
       "3           3  8f666f7d-5eb8-4367-9c52-5564d6aca0c5   \n",
       "4           4  8f666f7d-5eb8-4367-9c52-5564d6aca0c5   \n",
       "\n",
       "                       merchant_name  report_id report_date_local   amount  \\\n",
       "0              Mscelanea Dulce Maria  GTS92WH86        2015-11-05   734.34   \n",
       "1              Mscelanea Dulce Maria  8VQRDV39G        2015-11-06   597.26   \n",
       "2                      Grupo Solutec  82G5CYSR7        2015-12-21 9,160.77   \n",
       "3  Ediciones Malinalco S de RL de CV  XWRKLC2ZL        2016-02-08 1,216.98   \n",
       "4  Ediciones Malinalco S de RL de CV  D9468C7W4        2016-02-16 1,993.14   \n",
       "\n",
       "  status    error_description          ultimo_mov  month  year status_cubeta  \\\n",
       "0  ERROR        swap devuelto 2017-08-15 22:01:46      8  2017         ERROR   \n",
       "1  ERROR        swap devuelto 2017-08-15 22:02:08      8  2017         ERROR   \n",
       "2  ERROR          failed swap 2017-11-01 19:53:09     11  2017         ERROR   \n",
       "3  ERROR  confirmar la cuenta 2017-05-12 17:07:39      5  2017         ERROR   \n",
       "4  ERROR  confirmar la cuenta 2017-05-12 17:07:25      5  2017         ERROR   \n",
       "\n",
       "  esquema_query                     merchant_id_query ultimo_mov_date_only  \\\n",
       "0   ERROR_USUAL  b088c4b4-29dd-42c8-bd29-1eda61f73973           2017-08-15   \n",
       "1   ERROR_USUAL  b088c4b4-29dd-42c8-bd29-1eda61f73973           2017-08-15   \n",
       "2   ERROR_USUAL  d1087b80-5383-4b90-8738-bf309a1ce297           2017-11-01   \n",
       "3   ERROR_USUAL  8f666f7d-5eb8-4367-9c52-5564d6aca0c5           2017-05-12   \n",
       "4   ERROR_USUAL  8f666f7d-5eb8-4367-9c52-5564d6aca0c5           2017-05-12   \n",
       "\n",
       "   day mes_cierre  \n",
       "0   15        NaN  \n",
       "1   15        NaN  \n",
       "2    1        NaN  \n",
       "3   12        NaN  \n",
       "4   12        NaN  "
      ]
     },
     "execution_count": 3,
     "metadata": {},
     "output_type": "execute_result"
    }
   ],
   "source": [
    "query_error = pd.read_csv(r'C:\\Users\\Cristian.Aparicio\\Documents\\POLIZAS\\2022\\03. MARZO\\DATA\\ERROR MARZO 2022.csv',\n",
    "                          dtype={'report_id':object})\n",
    "query_error.rename(columns ={'MAX(report_date_local)':'report_date_local'}, inplace=True)\n",
    "query_error['report_date_local']= pd.to_datetime(query_error['report_date_local'])\n",
    "query_error['ultimo_mov'] = pd.to_datetime(query_error['ultimo_mov'])\n",
    "query_error['merchant_id_query'] = query_error['merchant_id']\n",
    "query_error['ultimo_mov_date_only']= pd.to_datetime(query_error['ultimo_mov']).dt.date\n",
    "query_error['day'] = query_error['ultimo_mov'].dt.day\n",
    "query_error['month'] = query_error['ultimo_mov'].dt.month\n",
    "query_error['year'] = query_error['ultimo_mov'].dt.year\n",
    "# query_error.loc[((query_error['day'] == 30 )\n",
    "#                 & (query_error['month'] == 10)\n",
    "#                 & (query_error['year'] == 2021)), \"mes_cierre\"] = 'Actual'\n",
    "# query_error.loc[(query_error['day'] == 31 )\n",
    "#             & (query_error['month'] == 10 )\n",
    "#             & (query_error['year'] == 2021), \"mes_cierre\"] = 'Actual'\n",
    "query_error.loc[(query_error['month'] == query_error_month )\n",
    "            & (query_error['year'] == query_error_year), \"mes_cierre\"] = 'Actual'\n",
    "query_error.head()"
   ]
  },
  {
   "cell_type": "code",
   "execution_count": 4,
   "metadata": {},
   "outputs": [
    {
     "data": {
      "text/plain": [
       "(76892, 17)"
      ]
     },
     "execution_count": 4,
     "metadata": {},
     "output_type": "execute_result"
    }
   ],
   "source": [
    "query_error.shape"
   ]
  },
  {
   "cell_type": "code",
   "execution_count": 5,
   "metadata": {},
   "outputs": [
    {
     "data": {
      "text/plain": [
       "array([nan, 'Actual'], dtype=object)"
      ]
     },
     "execution_count": 5,
     "metadata": {},
     "output_type": "execute_result"
    }
   ],
   "source": [
    "query_error['mes_cierre'].unique()"
   ]
  },
  {
   "cell_type": "code",
   "execution_count": 6,
   "metadata": {},
   "outputs": [
    {
     "data": {
      "text/plain": [
       "Unnamed: 0                       int64\n",
       "merchant_id                     object\n",
       "merchant_name                   object\n",
       "report_id                       object\n",
       "report_date_local       datetime64[ns]\n",
       "amount                         float64\n",
       "status                          object\n",
       "error_description               object\n",
       "ultimo_mov              datetime64[ns]\n",
       "month                            int64\n",
       "year                             int64\n",
       "status_cubeta                   object\n",
       "esquema_query                   object\n",
       "merchant_id_query               object\n",
       "ultimo_mov_date_only            object\n",
       "day                              int64\n",
       "mes_cierre                      object\n",
       "dtype: object"
      ]
     },
     "execution_count": 6,
     "metadata": {},
     "output_type": "execute_result"
    }
   ],
   "source": [
    "query_error.dtypes"
   ]
  },
  {
   "cell_type": "code",
   "execution_count": 7,
   "metadata": {},
   "outputs": [
    {
     "data": {
      "text/plain": [
       "array(['ERROR_USUAL', 'SIN_CLABE'], dtype=object)"
      ]
     },
     "execution_count": 7,
     "metadata": {},
     "output_type": "execute_result"
    }
   ],
   "source": [
    "query_error['esquema_query'].unique()"
   ]
  },
  {
   "cell_type": "code",
   "execution_count": 8,
   "metadata": {},
   "outputs": [
    {
     "data": {
      "text/plain": [
       "array(['ERROR', 'NEW'], dtype=object)"
      ]
     },
     "execution_count": 8,
     "metadata": {},
     "output_type": "execute_result"
    }
   ],
   "source": [
    "query_error['status_cubeta'].unique()"
   ]
  },
  {
   "cell_type": "markdown",
   "metadata": {},
   "source": [
    "# FILTRAR INFORMACION DE ACUERDO AL MES EN CURSO "
   ]
  },
  {
   "cell_type": "code",
   "execution_count": 9,
   "metadata": {},
   "outputs": [
    {
     "name": "stderr",
     "output_type": "stream",
     "text": [
      "C:\\Users\\Cristian.Aparicio\\AppData\\Local\\Temp\\ipykernel_6252\\3502651561.py:2: SettingWithCopyWarning: \n",
      "A value is trying to be set on a copy of a slice from a DataFrame\n",
      "\n",
      "See the caveats in the documentation: https://pandas.pydata.org/pandas-docs/stable/user_guide/indexing.html#returning-a-view-versus-a-copy\n",
      "  query_error_current_month.sort_values(by=['day'],inplace=True)\n"
     ]
    },
    {
     "data": {
      "text/html": [
       "<div>\n",
       "<style scoped>\n",
       "    .dataframe tbody tr th:only-of-type {\n",
       "        vertical-align: middle;\n",
       "    }\n",
       "\n",
       "    .dataframe tbody tr th {\n",
       "        vertical-align: top;\n",
       "    }\n",
       "\n",
       "    .dataframe thead th {\n",
       "        text-align: right;\n",
       "    }\n",
       "</style>\n",
       "<table border=\"1\" class=\"dataframe\">\n",
       "  <thead>\n",
       "    <tr style=\"text-align: right;\">\n",
       "      <th></th>\n",
       "      <th>Unnamed: 0</th>\n",
       "      <th>merchant_id</th>\n",
       "      <th>merchant_name</th>\n",
       "      <th>report_id</th>\n",
       "      <th>report_date_local</th>\n",
       "      <th>amount</th>\n",
       "      <th>status</th>\n",
       "      <th>error_description</th>\n",
       "      <th>ultimo_mov</th>\n",
       "      <th>month</th>\n",
       "      <th>year</th>\n",
       "      <th>status_cubeta</th>\n",
       "      <th>esquema_query</th>\n",
       "      <th>merchant_id_query</th>\n",
       "      <th>ultimo_mov_date_only</th>\n",
       "      <th>day</th>\n",
       "      <th>mes_cierre</th>\n",
       "    </tr>\n",
       "  </thead>\n",
       "  <tbody>\n",
       "    <tr>\n",
       "      <th>65839</th>\n",
       "      <td>65839</td>\n",
       "      <td>a890a2d0-14d5-4e57-a0cd-0a8616c3dd76</td>\n",
       "      <td>NEPTUNO</td>\n",
       "      <td>SPQYRVHQ5</td>\n",
       "      <td>2022-03-01</td>\n",
       "      <td>128.41</td>\n",
       "      <td>ERROR</td>\n",
       "      <td>Bank account information not available</td>\n",
       "      <td>2022-03-01 08:19:35</td>\n",
       "      <td>3</td>\n",
       "      <td>2022</td>\n",
       "      <td>NEW</td>\n",
       "      <td>SIN_CLABE</td>\n",
       "      <td>a890a2d0-14d5-4e57-a0cd-0a8616c3dd76</td>\n",
       "      <td>2022-03-01</td>\n",
       "      <td>1</td>\n",
       "      <td>Actual</td>\n",
       "    </tr>\n",
       "    <tr>\n",
       "      <th>65314</th>\n",
       "      <td>65314</td>\n",
       "      <td>9eca2c9e-7586-4416-936f-75a768faff41</td>\n",
       "      <td>Cremeria Lety</td>\n",
       "      <td>SBWXML7F8</td>\n",
       "      <td>2022-02-27</td>\n",
       "      <td>64.20</td>\n",
       "      <td>ERROR</td>\n",
       "      <td>DEV.SPEIEXCEDE EL LNMITE DE AB</td>\n",
       "      <td>2022-03-01 17:37:30</td>\n",
       "      <td>3</td>\n",
       "      <td>2022</td>\n",
       "      <td>NEW</td>\n",
       "      <td>ERROR_USUAL</td>\n",
       "      <td>9eca2c9e-7586-4416-936f-75a768faff41</td>\n",
       "      <td>2022-03-01</td>\n",
       "      <td>1</td>\n",
       "      <td>Actual</td>\n",
       "    </tr>\n",
       "    <tr>\n",
       "      <th>65319</th>\n",
       "      <td>65319</td>\n",
       "      <td>3eb75ab3-5471-42d9-b72b-0829d2073bf5</td>\n",
       "      <td>eltrebol dulcerias</td>\n",
       "      <td>MZ367L2W7</td>\n",
       "      <td>2022-02-27</td>\n",
       "      <td>571.57</td>\n",
       "      <td>ERROR</td>\n",
       "      <td>DEV.SPEIEXCEDE EL LNMITE DE SA</td>\n",
       "      <td>2022-03-01 17:37:23</td>\n",
       "      <td>3</td>\n",
       "      <td>2022</td>\n",
       "      <td>NEW</td>\n",
       "      <td>ERROR_USUAL</td>\n",
       "      <td>3eb75ab3-5471-42d9-b72b-0829d2073bf5</td>\n",
       "      <td>2022-03-01</td>\n",
       "      <td>1</td>\n",
       "      <td>Actual</td>\n",
       "    </tr>\n",
       "    <tr>\n",
       "      <th>65321</th>\n",
       "      <td>65321</td>\n",
       "      <td>2dbdd79f-d96d-4a1d-bcdd-c4bf947eb483</td>\n",
       "      <td>Barbacoa Cathy</td>\n",
       "      <td>M78YS9K3X</td>\n",
       "      <td>2022-02-27</td>\n",
       "      <td>292.27</td>\n",
       "      <td>ERROR</td>\n",
       "      <td>DEV.SPEIEXCEDE EL LNMITE DE SA</td>\n",
       "      <td>2022-03-01 17:37:26</td>\n",
       "      <td>3</td>\n",
       "      <td>2022</td>\n",
       "      <td>NEW</td>\n",
       "      <td>ERROR_USUAL</td>\n",
       "      <td>2dbdd79f-d96d-4a1d-bcdd-c4bf947eb483</td>\n",
       "      <td>2022-03-01</td>\n",
       "      <td>1</td>\n",
       "      <td>Actual</td>\n",
       "    </tr>\n",
       "    <tr>\n",
       "      <th>65323</th>\n",
       "      <td>65323</td>\n",
       "      <td>f71d063f-0442-46ce-ac47-76cf1ea70cd4</td>\n",
       "      <td>MENU FELIZ</td>\n",
       "      <td>NT6RSVPSQ</td>\n",
       "      <td>2022-02-27</td>\n",
       "      <td>124.57</td>\n",
       "      <td>ERROR</td>\n",
       "      <td>DEV.SPEIFALTA INFORMAC PARA CO</td>\n",
       "      <td>2022-03-01 17:37:24</td>\n",
       "      <td>3</td>\n",
       "      <td>2022</td>\n",
       "      <td>NEW</td>\n",
       "      <td>ERROR_USUAL</td>\n",
       "      <td>f71d063f-0442-46ce-ac47-76cf1ea70cd4</td>\n",
       "      <td>2022-03-01</td>\n",
       "      <td>1</td>\n",
       "      <td>Actual</td>\n",
       "    </tr>\n",
       "  </tbody>\n",
       "</table>\n",
       "</div>"
      ],
      "text/plain": [
       "       Unnamed: 0                           merchant_id       merchant_name  \\\n",
       "65839       65839  a890a2d0-14d5-4e57-a0cd-0a8616c3dd76             NEPTUNO   \n",
       "65314       65314  9eca2c9e-7586-4416-936f-75a768faff41       Cremeria Lety   \n",
       "65319       65319  3eb75ab3-5471-42d9-b72b-0829d2073bf5  eltrebol dulcerias   \n",
       "65321       65321  2dbdd79f-d96d-4a1d-bcdd-c4bf947eb483      Barbacoa Cathy   \n",
       "65323       65323  f71d063f-0442-46ce-ac47-76cf1ea70cd4          MENU FELIZ   \n",
       "\n",
       "       report_id report_date_local  amount status  \\\n",
       "65839  SPQYRVHQ5        2022-03-01  128.41  ERROR   \n",
       "65314  SBWXML7F8        2022-02-27   64.20  ERROR   \n",
       "65319  MZ367L2W7        2022-02-27  571.57  ERROR   \n",
       "65321  M78YS9K3X        2022-02-27  292.27  ERROR   \n",
       "65323  NT6RSVPSQ        2022-02-27  124.57  ERROR   \n",
       "\n",
       "                            error_description          ultimo_mov  month  \\\n",
       "65839  Bank account information not available 2022-03-01 08:19:35      3   \n",
       "65314          DEV.SPEIEXCEDE EL LNMITE DE AB 2022-03-01 17:37:30      3   \n",
       "65319          DEV.SPEIEXCEDE EL LNMITE DE SA 2022-03-01 17:37:23      3   \n",
       "65321          DEV.SPEIEXCEDE EL LNMITE DE SA 2022-03-01 17:37:26      3   \n",
       "65323          DEV.SPEIFALTA INFORMAC PARA CO 2022-03-01 17:37:24      3   \n",
       "\n",
       "       year status_cubeta esquema_query                     merchant_id_query  \\\n",
       "65839  2022           NEW     SIN_CLABE  a890a2d0-14d5-4e57-a0cd-0a8616c3dd76   \n",
       "65314  2022           NEW   ERROR_USUAL  9eca2c9e-7586-4416-936f-75a768faff41   \n",
       "65319  2022           NEW   ERROR_USUAL  3eb75ab3-5471-42d9-b72b-0829d2073bf5   \n",
       "65321  2022           NEW   ERROR_USUAL  2dbdd79f-d96d-4a1d-bcdd-c4bf947eb483   \n",
       "65323  2022           NEW   ERROR_USUAL  f71d063f-0442-46ce-ac47-76cf1ea70cd4   \n",
       "\n",
       "      ultimo_mov_date_only  day mes_cierre  \n",
       "65839           2022-03-01    1     Actual  \n",
       "65314           2022-03-01    1     Actual  \n",
       "65319           2022-03-01    1     Actual  \n",
       "65321           2022-03-01    1     Actual  \n",
       "65323           2022-03-01    1     Actual  "
      ]
     },
     "execution_count": 9,
     "metadata": {},
     "output_type": "execute_result"
    }
   ],
   "source": [
    "query_error_current_month = query_error[(query_error['mes_cierre'] == 'Actual')]\n",
    "query_error_current_month.sort_values(by=['day'],inplace=True)\n",
    "query_error_current_month.head()"
   ]
  },
  {
   "cell_type": "code",
   "execution_count": 10,
   "metadata": {},
   "outputs": [
    {
     "data": {
      "text/plain": [
       "(11866, 17)"
      ]
     },
     "execution_count": 10,
     "metadata": {},
     "output_type": "execute_result"
    }
   ],
   "source": [
    "query_error_current_month.shape"
   ]
  },
  {
   "cell_type": "code",
   "execution_count": 11,
   "metadata": {},
   "outputs": [
    {
     "data": {
      "text/plain": [
       "Index(['Unnamed: 0', 'merchant_id', 'merchant_name', 'report_id',\n",
       "       'report_date_local', 'amount', 'status', 'error_description',\n",
       "       'ultimo_mov', 'month', 'year', 'status_cubeta', 'esquema_query',\n",
       "       'merchant_id_query', 'ultimo_mov_date_only', 'day', 'mes_cierre'],\n",
       "      dtype='object')"
      ]
     },
     "execution_count": 11,
     "metadata": {},
     "output_type": "execute_result"
    }
   ],
   "source": [
    "query_error_current_month.columns"
   ]
  },
  {
   "cell_type": "code",
   "execution_count": 12,
   "metadata": {},
   "outputs": [
    {
     "data": {
      "text/html": [
       "<div>\n",
       "<style scoped>\n",
       "    .dataframe tbody tr th:only-of-type {\n",
       "        vertical-align: middle;\n",
       "    }\n",
       "\n",
       "    .dataframe tbody tr th {\n",
       "        vertical-align: top;\n",
       "    }\n",
       "\n",
       "    .dataframe thead th {\n",
       "        text-align: right;\n",
       "    }\n",
       "</style>\n",
       "<table border=\"1\" class=\"dataframe\">\n",
       "  <thead>\n",
       "    <tr style=\"text-align: right;\">\n",
       "      <th></th>\n",
       "      <th>Unnamed: 0</th>\n",
       "      <th>merchant_id</th>\n",
       "      <th>merchant_name</th>\n",
       "      <th>report_id</th>\n",
       "      <th>report_date_local</th>\n",
       "      <th>amount</th>\n",
       "      <th>status</th>\n",
       "      <th>error_description</th>\n",
       "      <th>ultimo_mov</th>\n",
       "      <th>month</th>\n",
       "      <th>year</th>\n",
       "      <th>status_cubeta</th>\n",
       "      <th>esquema_query</th>\n",
       "      <th>merchant_id_query</th>\n",
       "      <th>ultimo_mov_date_only</th>\n",
       "      <th>day</th>\n",
       "      <th>mes_cierre</th>\n",
       "    </tr>\n",
       "  </thead>\n",
       "  <tbody>\n",
       "  </tbody>\n",
       "</table>\n",
       "</div>"
      ],
      "text/plain": [
       "Empty DataFrame\n",
       "Columns: [Unnamed: 0, merchant_id, merchant_name, report_id, report_date_local, amount, status, error_description, ultimo_mov, month, year, status_cubeta, esquema_query, merchant_id_query, ultimo_mov_date_only, day, mes_cierre]\n",
       "Index: []"
      ]
     },
     "execution_count": 12,
     "metadata": {},
     "output_type": "execute_result"
    }
   ],
   "source": [
    "duplicates_query_error = query_error_current_month[query_error_current_month.duplicated(['report_id'] , keep=False)]\n",
    "duplicates_query_error.head()"
   ]
  },
  {
   "cell_type": "code",
   "execution_count": 13,
   "metadata": {},
   "outputs": [
    {
     "data": {
      "text/plain": [
       "(0, 17)"
      ]
     },
     "execution_count": 13,
     "metadata": {},
     "output_type": "execute_result"
    }
   ],
   "source": [
    "duplicates_query_error.shape"
   ]
  },
  {
   "cell_type": "markdown",
   "metadata": {},
   "source": [
    "# AGRUPADO POR ESQUEMA"
   ]
  },
  {
   "cell_type": "code",
   "execution_count": 14,
   "metadata": {},
   "outputs": [
    {
     "data": {
      "text/html": [
       "<div>\n",
       "<style scoped>\n",
       "    .dataframe tbody tr th:only-of-type {\n",
       "        vertical-align: middle;\n",
       "    }\n",
       "\n",
       "    .dataframe tbody tr th {\n",
       "        vertical-align: top;\n",
       "    }\n",
       "\n",
       "    .dataframe thead tr th {\n",
       "        text-align: left;\n",
       "    }\n",
       "</style>\n",
       "<table border=\"1\" class=\"dataframe\">\n",
       "  <thead>\n",
       "    <tr>\n",
       "      <th></th>\n",
       "      <th>ultimo_mov_date_only</th>\n",
       "      <th colspan=\"5\" halign=\"left\">amount</th>\n",
       "    </tr>\n",
       "    <tr>\n",
       "      <th>esquema_query</th>\n",
       "      <th></th>\n",
       "      <th colspan=\"2\" halign=\"left\">ERROR_USUAL</th>\n",
       "      <th colspan=\"2\" halign=\"left\">SIN_CLABE</th>\n",
       "      <th>All</th>\n",
       "    </tr>\n",
       "    <tr>\n",
       "      <th>status_cubeta</th>\n",
       "      <th></th>\n",
       "      <th>ERROR</th>\n",
       "      <th>NEW</th>\n",
       "      <th>ERROR</th>\n",
       "      <th>NEW</th>\n",
       "      <th></th>\n",
       "    </tr>\n",
       "  </thead>\n",
       "  <tbody>\n",
       "    <tr>\n",
       "      <th>0</th>\n",
       "      <td>2022-03-01</td>\n",
       "      <td>11,288.07</td>\n",
       "      <td>450,947.01</td>\n",
       "      <td>0.00</td>\n",
       "      <td>57,429.88</td>\n",
       "      <td>519,664.96</td>\n",
       "    </tr>\n",
       "    <tr>\n",
       "      <th>1</th>\n",
       "      <td>2022-03-02</td>\n",
       "      <td>49,856.29</td>\n",
       "      <td>50,128.48</td>\n",
       "      <td>1.80</td>\n",
       "      <td>43,117.46</td>\n",
       "      <td>143,104.03</td>\n",
       "    </tr>\n",
       "    <tr>\n",
       "      <th>2</th>\n",
       "      <td>2022-03-03</td>\n",
       "      <td>1,041.08</td>\n",
       "      <td>52,538.24</td>\n",
       "      <td>0.00</td>\n",
       "      <td>35,915.36</td>\n",
       "      <td>89,494.68</td>\n",
       "    </tr>\n",
       "    <tr>\n",
       "      <th>3</th>\n",
       "      <td>2022-03-04</td>\n",
       "      <td>0.00</td>\n",
       "      <td>2,909.09</td>\n",
       "      <td>0.00</td>\n",
       "      <td>32,860.58</td>\n",
       "      <td>35,769.67</td>\n",
       "    </tr>\n",
       "    <tr>\n",
       "      <th>4</th>\n",
       "      <td>2022-03-05</td>\n",
       "      <td>0.48</td>\n",
       "      <td>59,086.27</td>\n",
       "      <td>0.00</td>\n",
       "      <td>37,370.12</td>\n",
       "      <td>96,456.87</td>\n",
       "    </tr>\n",
       "  </tbody>\n",
       "</table>\n",
       "</div>"
      ],
      "text/plain": [
       "              ultimo_mov_date_only      amount                                 \\\n",
       "esquema_query                      ERROR_USUAL            SIN_CLABE             \n",
       "status_cubeta                            ERROR        NEW     ERROR       NEW   \n",
       "0                       2022-03-01   11,288.07 450,947.01      0.00 57,429.88   \n",
       "1                       2022-03-02   49,856.29  50,128.48      1.80 43,117.46   \n",
       "2                       2022-03-03    1,041.08  52,538.24      0.00 35,915.36   \n",
       "3                       2022-03-04        0.00   2,909.09      0.00 32,860.58   \n",
       "4                       2022-03-05        0.48  59,086.27      0.00 37,370.12   \n",
       "\n",
       "                          \n",
       "esquema_query        All  \n",
       "status_cubeta             \n",
       "0             519,664.96  \n",
       "1             143,104.03  \n",
       "2              89,494.68  \n",
       "3              35,769.67  \n",
       "4              96,456.87  "
      ]
     },
     "execution_count": 14,
     "metadata": {},
     "output_type": "execute_result"
    }
   ],
   "source": [
    "group_esquema = pd.pivot_table(query_error_current_month,index=['ultimo_mov_date_only']\n",
    "                                              ,columns=['esquema_query','status_cubeta'],values=['amount']\n",
    "                                              ,aggfunc=np.sum,margins=True).reset_index()\n",
    "group_esquema.fillna(0,inplace=True)\n",
    "group_esquema.head()"
   ]
  },
  {
   "cell_type": "code",
   "execution_count": 15,
   "metadata": {},
   "outputs": [
    {
     "data": {
      "text/plain": [
       "(32, 6)"
      ]
     },
     "execution_count": 15,
     "metadata": {},
     "output_type": "execute_result"
    }
   ],
   "source": [
    "group_esquema.shape"
   ]
  },
  {
   "cell_type": "code",
   "execution_count": 16,
   "metadata": {},
   "outputs": [],
   "source": [
    "writer = pd.ExcelWriter('FASE VI. DATA POLIZA ERROR-SIN CLABE MARZO 2022.xlsx',\n",
    "                        engine='xlsxwriter',\n",
    "                        engine_kwargs={'options': {'encoding':'utf-8'}})\n",
    "group_esquema.to_excel(writer, sheet_name='GRUPO ESQUEMA')\n",
    "query_error_current_month.to_excel(writer, sheet_name='DETALLE',index=False)\n",
    "writer.close()"
   ]
  },
  {
   "cell_type": "code",
   "execution_count": null,
   "metadata": {},
   "outputs": [],
   "source": []
  }
 ],
 "metadata": {
  "kernelspec": {
   "display_name": "Python 3 (ipykernel)",
   "language": "python",
   "name": "python3"
  },
  "language_info": {
   "codemirror_mode": {
    "name": "ipython",
    "version": 3
   },
   "file_extension": ".py",
   "mimetype": "text/x-python",
   "name": "python",
   "nbconvert_exporter": "python",
   "pygments_lexer": "ipython3",
   "version": "3.8.13"
  }
 },
 "nbformat": 4,
 "nbformat_minor": 2
}
