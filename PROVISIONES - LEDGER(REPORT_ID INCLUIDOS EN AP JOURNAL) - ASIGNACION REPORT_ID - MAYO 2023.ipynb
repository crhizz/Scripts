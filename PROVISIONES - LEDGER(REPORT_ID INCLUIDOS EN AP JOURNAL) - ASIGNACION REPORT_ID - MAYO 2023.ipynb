{
 "cells": [
  {
   "cell_type": "code",
   "execution_count": 1,
   "id": "21c1c747",
   "metadata": {},
   "outputs": [],
   "source": [
    "import pandas as pd\n",
    "import numpy as np\n",
    "import glob\n",
    "import os\n",
    "from openpyxl import load_workbook\n",
    "pd.options.display.float_format = '{:,.2f}'.format"
   ]
  },
  {
   "cell_type": "markdown",
   "id": "9df44613",
   "metadata": {},
   "source": [
    "# RUTAS"
   ]
  },
  {
   "cell_type": "markdown",
   "id": "cef36c0e",
   "metadata": {},
   "source": [
    "### SETTLEMENT MASTER LOG"
   ]
  },
  {
   "cell_type": "code",
   "execution_count": 2,
   "id": "38321533",
   "metadata": {},
   "outputs": [
    {
     "data": {
      "text/plain": [
       "['G:\\\\My Drive\\\\RESPALDO-PC\\\\DYNAMO\\\\2023\\\\05. MAYO\\\\Z. PROVISION\\\\SETTLEMENT_MASTER_LOG_MSI_DATE - PROVISION MAYO 2023.tsv']"
      ]
     },
     "execution_count": 2,
     "metadata": {},
     "output_type": "execute_result"
    }
   ],
   "source": [
    "sml_files = glob.glob(r'G:\\My Drive\\RESPALDO-PC\\DYNAMO\\2023\\05. MAYO\\Z. PROVISION\\SET*.tsv', recursive=False)\n",
    "sml_files"
   ]
  },
  {
   "cell_type": "code",
   "execution_count": 3,
   "id": "7ac8262d",
   "metadata": {},
   "outputs": [],
   "source": [
    "use_cols_sml = ['MVNT_ID','PSP_AMOUNT','GROSS_AMOUNT','FEES','TAXES','NET_AMOUNT','MDR','MSI','NUMBER_MSI','RECEIPT_NO',\n",
    "                'STATUS_CODE']"
   ]
  },
  {
   "cell_type": "markdown",
   "id": "baf7556d",
   "metadata": {},
   "source": [
    "### AP JOURNAL"
   ]
  },
  {
   "cell_type": "code",
   "execution_count": 4,
   "id": "55a8252c",
   "metadata": {},
   "outputs": [
    {
     "data": {
      "text/plain": [
       "['G:\\\\My Drive\\\\RESPALDO-PC\\\\DYNAMO\\\\2023\\\\05. MAYO\\\\Z. PROVISION\\\\PROVISIONES - LEDGER MAYO 2023.tsv']"
      ]
     },
     "execution_count": 4,
     "metadata": {},
     "output_type": "execute_result"
    }
   ],
   "source": [
    "ap_provision_files = glob.glob(r'G:\\My Drive\\RESPALDO-PC\\DYNAMO\\2023\\05. MAYO\\Z. PROVISION\\PROV*.tsv', recursive=False)\n",
    "ap_provision_files"
   ]
  },
  {
   "cell_type": "code",
   "execution_count": 5,
   "id": "2d3e37fd",
   "metadata": {},
   "outputs": [],
   "source": [
    "use_cols_approv = ['MERCHANT_ID','MVNT_ID','TYPE_REQUEST','MOVEMENT_TYPE','SOURCE_TYPE','CREATED_AT','EFF_DT','REPORT_DATE_LOCAL',\n",
    "                  'PAYMENT_DATE_LOCAL','STATUS']"
   ]
  },
  {
   "cell_type": "markdown",
   "id": "bf9da3cf",
   "metadata": {},
   "source": [
    "# DATA SETTLEMENT MASTER LOG"
   ]
  },
  {
   "cell_type": "code",
   "execution_count": 6,
   "id": "27c65ab3",
   "metadata": {},
   "outputs": [
    {
     "name": "stderr",
     "output_type": "stream",
     "text": [
      "C:\\Users\\Cristian.Aparicio\\AppData\\Local\\Temp\\ipykernel_4160\\2554251773.py:1: DtypeWarning: Columns (19) have mixed types. Specify dtype option on import or set low_memory=False.\n",
      "  sml = pd.concat([pd.read_csv(f,sep='\\t',usecols=use_cols_sml).assign(file_name=os.path.basename(f)) for f in sml_files])\n"
     ]
    },
    {
     "data": {
      "text/html": [
       "<div>\n",
       "<style scoped>\n",
       "    .dataframe tbody tr th:only-of-type {\n",
       "        vertical-align: middle;\n",
       "    }\n",
       "\n",
       "    .dataframe tbody tr th {\n",
       "        vertical-align: top;\n",
       "    }\n",
       "\n",
       "    .dataframe thead th {\n",
       "        text-align: right;\n",
       "    }\n",
       "</style>\n",
       "<table border=\"1\" class=\"dataframe\">\n",
       "  <thead>\n",
       "    <tr style=\"text-align: right;\">\n",
       "      <th></th>\n",
       "      <th>mvnt_id</th>\n",
       "      <th>psp_amount</th>\n",
       "      <th>gross_amount</th>\n",
       "      <th>fees</th>\n",
       "      <th>taxes</th>\n",
       "      <th>net_amount</th>\n",
       "      <th>mdr</th>\n",
       "      <th>msi</th>\n",
       "      <th>number_msi</th>\n",
       "      <th>status_code</th>\n",
       "      <th>receipt_no</th>\n",
       "      <th>file_name</th>\n",
       "    </tr>\n",
       "  </thead>\n",
       "  <tbody>\n",
       "    <tr>\n",
       "      <th>0</th>\n",
       "      <td>9859c46e-935f-4c6d-abbc-3c7045f8d2d7</td>\n",
       "      <td>126.00</td>\n",
       "      <td>126.00</td>\n",
       "      <td>4.54</td>\n",
       "      <td>0.73</td>\n",
       "      <td>120.73</td>\n",
       "      <td>0.04</td>\n",
       "      <td>0.00</td>\n",
       "      <td>0.00</td>\n",
       "      <td>1.00</td>\n",
       "      <td>RhqCKXy</td>\n",
       "      <td>SETTLEMENT_MASTER_LOG_MSI_DATE - PROVISION MAY...</td>\n",
       "    </tr>\n",
       "    <tr>\n",
       "      <th>1</th>\n",
       "      <td>732656cf-287c-439c-a277-5bada2487858</td>\n",
       "      <td>900.00</td>\n",
       "      <td>900.00</td>\n",
       "      <td>32.40</td>\n",
       "      <td>5.18</td>\n",
       "      <td>862.42</td>\n",
       "      <td>0.04</td>\n",
       "      <td>0.00</td>\n",
       "      <td>0.00</td>\n",
       "      <td>1.00</td>\n",
       "      <td>JTbITKL</td>\n",
       "      <td>SETTLEMENT_MASTER_LOG_MSI_DATE - PROVISION MAY...</td>\n",
       "    </tr>\n",
       "    <tr>\n",
       "      <th>2</th>\n",
       "      <td>80489684-0034-40e5-b34c-eecd18fa417f</td>\n",
       "      <td>16.00</td>\n",
       "      <td>16.00</td>\n",
       "      <td>0.58</td>\n",
       "      <td>0.09</td>\n",
       "      <td>15.33</td>\n",
       "      <td>0.04</td>\n",
       "      <td>0.00</td>\n",
       "      <td>0.00</td>\n",
       "      <td>1.00</td>\n",
       "      <td>Mgrylxq</td>\n",
       "      <td>SETTLEMENT_MASTER_LOG_MSI_DATE - PROVISION MAY...</td>\n",
       "    </tr>\n",
       "    <tr>\n",
       "      <th>3</th>\n",
       "      <td>7a3c4dd0-8498-4341-ae04-bf48c42129f5</td>\n",
       "      <td>14.56</td>\n",
       "      <td>14.56</td>\n",
       "      <td>0.52</td>\n",
       "      <td>0.08</td>\n",
       "      <td>13.96</td>\n",
       "      <td>0.04</td>\n",
       "      <td>0.00</td>\n",
       "      <td>0.00</td>\n",
       "      <td>1.00</td>\n",
       "      <td>3Eqy5Ct</td>\n",
       "      <td>SETTLEMENT_MASTER_LOG_MSI_DATE - PROVISION MAY...</td>\n",
       "    </tr>\n",
       "    <tr>\n",
       "      <th>4</th>\n",
       "      <td>659bc288-f503-4fbb-8eb5-6a983ff0d389</td>\n",
       "      <td>216.00</td>\n",
       "      <td>216.00</td>\n",
       "      <td>7.78</td>\n",
       "      <td>1.24</td>\n",
       "      <td>206.98</td>\n",
       "      <td>0.04</td>\n",
       "      <td>0.00</td>\n",
       "      <td>0.00</td>\n",
       "      <td>1.00</td>\n",
       "      <td>wMc26mr</td>\n",
       "      <td>SETTLEMENT_MASTER_LOG_MSI_DATE - PROVISION MAY...</td>\n",
       "    </tr>\n",
       "  </tbody>\n",
       "</table>\n",
       "</div>"
      ],
      "text/plain": [
       "                                mvnt_id  psp_amount  gross_amount  fees  \\\n",
       "0  9859c46e-935f-4c6d-abbc-3c7045f8d2d7      126.00        126.00  4.54   \n",
       "1  732656cf-287c-439c-a277-5bada2487858      900.00        900.00 32.40   \n",
       "2  80489684-0034-40e5-b34c-eecd18fa417f       16.00         16.00  0.58   \n",
       "3  7a3c4dd0-8498-4341-ae04-bf48c42129f5       14.56         14.56  0.52   \n",
       "4  659bc288-f503-4fbb-8eb5-6a983ff0d389      216.00        216.00  7.78   \n",
       "\n",
       "   taxes  net_amount  mdr  msi  number_msi  status_code receipt_no  \\\n",
       "0   0.73      120.73 0.04 0.00        0.00         1.00    RhqCKXy   \n",
       "1   5.18      862.42 0.04 0.00        0.00         1.00    JTbITKL   \n",
       "2   0.09       15.33 0.04 0.00        0.00         1.00    Mgrylxq   \n",
       "3   0.08       13.96 0.04 0.00        0.00         1.00    3Eqy5Ct   \n",
       "4   1.24      206.98 0.04 0.00        0.00         1.00    wMc26mr   \n",
       "\n",
       "                                           file_name  \n",
       "0  SETTLEMENT_MASTER_LOG_MSI_DATE - PROVISION MAY...  \n",
       "1  SETTLEMENT_MASTER_LOG_MSI_DATE - PROVISION MAY...  \n",
       "2  SETTLEMENT_MASTER_LOG_MSI_DATE - PROVISION MAY...  \n",
       "3  SETTLEMENT_MASTER_LOG_MSI_DATE - PROVISION MAY...  \n",
       "4  SETTLEMENT_MASTER_LOG_MSI_DATE - PROVISION MAY...  "
      ]
     },
     "execution_count": 6,
     "metadata": {},
     "output_type": "execute_result"
    }
   ],
   "source": [
    "sml = pd.concat([pd.read_csv(f,sep='\\t',usecols=use_cols_sml).assign(file_name=os.path.basename(f)) for f in sml_files])\n",
    "sml.columns = sml.columns.str.strip().str.lower()\n",
    "sml.replace('\"\"','', regex=True, inplace=True)\n",
    "# sml['created_at'] = pd.to_datetime(sml['created_at']).dt.tz_localize(None)\n",
    "# sml['created_at_date'] =  pd.to_datetime(sml['created_at']).dt.date\n",
    "# sml['created_at_date'] =  pd.to_datetime(sml['created_at_date'])\n",
    "# sml['eff_dt'] = pd.to_datetime(sml['eff_dt']).dt.tz_localize(None)\n",
    "# sml['eff_dt_date'] =  pd.to_datetime(sml['eff_dt']).dt.date\n",
    "# sml['eff_dt_date'] =  pd.to_datetime(sml['eff_dt_date'])\n",
    "# sml.rename(columns={'ref_id':'transaction_id'},inplace=True)\n",
    "#sml['PK'] = sml['PK'].replace('M#','',inplace=True)\n",
    "sml.head()"
   ]
  },
  {
   "cell_type": "code",
   "execution_count": 7,
   "id": "bb5c429d",
   "metadata": {},
   "outputs": [
    {
     "data": {
      "text/plain": [
       "(6750993, 12)"
      ]
     },
     "execution_count": 7,
     "metadata": {},
     "output_type": "execute_result"
    }
   ],
   "source": [
    "sml.shape"
   ]
  },
  {
   "cell_type": "code",
   "execution_count": 8,
   "id": "aae153e9",
   "metadata": {},
   "outputs": [
    {
     "data": {
      "text/plain": [
       "mvnt_id          object\n",
       "psp_amount      float64\n",
       "gross_amount    float64\n",
       "fees            float64\n",
       "taxes           float64\n",
       "net_amount      float64\n",
       "mdr             float64\n",
       "msi             float64\n",
       "number_msi      float64\n",
       "status_code     float64\n",
       "receipt_no       object\n",
       "file_name        object\n",
       "dtype: object"
      ]
     },
     "execution_count": 8,
     "metadata": {},
     "output_type": "execute_result"
    }
   ],
   "source": [
    "sml.dtypes"
   ]
  },
  {
   "cell_type": "code",
   "execution_count": 9,
   "id": "0aee293f",
   "metadata": {},
   "outputs": [
    {
     "data": {
      "text/html": [
       "<div>\n",
       "<style scoped>\n",
       "    .dataframe tbody tr th:only-of-type {\n",
       "        vertical-align: middle;\n",
       "    }\n",
       "\n",
       "    .dataframe tbody tr th {\n",
       "        vertical-align: top;\n",
       "    }\n",
       "\n",
       "    .dataframe thead th {\n",
       "        text-align: right;\n",
       "    }\n",
       "</style>\n",
       "<table border=\"1\" class=\"dataframe\">\n",
       "  <thead>\n",
       "    <tr style=\"text-align: right;\">\n",
       "      <th></th>\n",
       "      <th>mvnt_id</th>\n",
       "      <th>psp_amount</th>\n",
       "      <th>gross_amount</th>\n",
       "      <th>fees</th>\n",
       "      <th>taxes</th>\n",
       "      <th>net_amount</th>\n",
       "      <th>mdr</th>\n",
       "      <th>msi</th>\n",
       "      <th>number_msi</th>\n",
       "      <th>status_code</th>\n",
       "      <th>receipt_no</th>\n",
       "      <th>file_name</th>\n",
       "    </tr>\n",
       "  </thead>\n",
       "  <tbody>\n",
       "    <tr>\n",
       "      <th>0</th>\n",
       "      <td>9859c46e-935f-4c6d-abbc-3c7045f8d2d7</td>\n",
       "      <td>126.00</td>\n",
       "      <td>126.00</td>\n",
       "      <td>4.54</td>\n",
       "      <td>0.73</td>\n",
       "      <td>120.73</td>\n",
       "      <td>0.04</td>\n",
       "      <td>0.00</td>\n",
       "      <td>0.00</td>\n",
       "      <td>1.00</td>\n",
       "      <td>RhqCKXy</td>\n",
       "      <td>SETTLEMENT_MASTER_LOG_MSI_DATE - PROVISION MAY...</td>\n",
       "    </tr>\n",
       "    <tr>\n",
       "      <th>1</th>\n",
       "      <td>732656cf-287c-439c-a277-5bada2487858</td>\n",
       "      <td>900.00</td>\n",
       "      <td>900.00</td>\n",
       "      <td>32.40</td>\n",
       "      <td>5.18</td>\n",
       "      <td>862.42</td>\n",
       "      <td>0.04</td>\n",
       "      <td>0.00</td>\n",
       "      <td>0.00</td>\n",
       "      <td>1.00</td>\n",
       "      <td>JTbITKL</td>\n",
       "      <td>SETTLEMENT_MASTER_LOG_MSI_DATE - PROVISION MAY...</td>\n",
       "    </tr>\n",
       "    <tr>\n",
       "      <th>2</th>\n",
       "      <td>80489684-0034-40e5-b34c-eecd18fa417f</td>\n",
       "      <td>16.00</td>\n",
       "      <td>16.00</td>\n",
       "      <td>0.58</td>\n",
       "      <td>0.09</td>\n",
       "      <td>15.33</td>\n",
       "      <td>0.04</td>\n",
       "      <td>0.00</td>\n",
       "      <td>0.00</td>\n",
       "      <td>1.00</td>\n",
       "      <td>Mgrylxq</td>\n",
       "      <td>SETTLEMENT_MASTER_LOG_MSI_DATE - PROVISION MAY...</td>\n",
       "    </tr>\n",
       "    <tr>\n",
       "      <th>3</th>\n",
       "      <td>7a3c4dd0-8498-4341-ae04-bf48c42129f5</td>\n",
       "      <td>14.56</td>\n",
       "      <td>14.56</td>\n",
       "      <td>0.52</td>\n",
       "      <td>0.08</td>\n",
       "      <td>13.96</td>\n",
       "      <td>0.04</td>\n",
       "      <td>0.00</td>\n",
       "      <td>0.00</td>\n",
       "      <td>1.00</td>\n",
       "      <td>3Eqy5Ct</td>\n",
       "      <td>SETTLEMENT_MASTER_LOG_MSI_DATE - PROVISION MAY...</td>\n",
       "    </tr>\n",
       "    <tr>\n",
       "      <th>4</th>\n",
       "      <td>659bc288-f503-4fbb-8eb5-6a983ff0d389</td>\n",
       "      <td>216.00</td>\n",
       "      <td>216.00</td>\n",
       "      <td>7.78</td>\n",
       "      <td>1.24</td>\n",
       "      <td>206.98</td>\n",
       "      <td>0.04</td>\n",
       "      <td>0.00</td>\n",
       "      <td>0.00</td>\n",
       "      <td>1.00</td>\n",
       "      <td>wMc26mr</td>\n",
       "      <td>SETTLEMENT_MASTER_LOG_MSI_DATE - PROVISION MAY...</td>\n",
       "    </tr>\n",
       "  </tbody>\n",
       "</table>\n",
       "</div>"
      ],
      "text/plain": [
       "                                mvnt_id  psp_amount  gross_amount  fees  \\\n",
       "0  9859c46e-935f-4c6d-abbc-3c7045f8d2d7      126.00        126.00  4.54   \n",
       "1  732656cf-287c-439c-a277-5bada2487858      900.00        900.00 32.40   \n",
       "2  80489684-0034-40e5-b34c-eecd18fa417f       16.00         16.00  0.58   \n",
       "3  7a3c4dd0-8498-4341-ae04-bf48c42129f5       14.56         14.56  0.52   \n",
       "4  659bc288-f503-4fbb-8eb5-6a983ff0d389      216.00        216.00  7.78   \n",
       "\n",
       "   taxes  net_amount  mdr  msi  number_msi  status_code receipt_no  \\\n",
       "0   0.73      120.73 0.04 0.00        0.00         1.00    RhqCKXy   \n",
       "1   5.18      862.42 0.04 0.00        0.00         1.00    JTbITKL   \n",
       "2   0.09       15.33 0.04 0.00        0.00         1.00    Mgrylxq   \n",
       "3   0.08       13.96 0.04 0.00        0.00         1.00    3Eqy5Ct   \n",
       "4   1.24      206.98 0.04 0.00        0.00         1.00    wMc26mr   \n",
       "\n",
       "                                           file_name  \n",
       "0  SETTLEMENT_MASTER_LOG_MSI_DATE - PROVISION MAY...  \n",
       "1  SETTLEMENT_MASTER_LOG_MSI_DATE - PROVISION MAY...  \n",
       "2  SETTLEMENT_MASTER_LOG_MSI_DATE - PROVISION MAY...  \n",
       "3  SETTLEMENT_MASTER_LOG_MSI_DATE - PROVISION MAY...  \n",
       "4  SETTLEMENT_MASTER_LOG_MSI_DATE - PROVISION MAY...  "
      ]
     },
     "execution_count": 9,
     "metadata": {},
     "output_type": "execute_result"
    }
   ],
   "source": [
    "sml_final = sml\n",
    "sml_final.head()"
   ]
  },
  {
   "cell_type": "code",
   "execution_count": 10,
   "id": "f0afff80",
   "metadata": {},
   "outputs": [
    {
     "data": {
      "text/plain": [
       "(6750993, 12)"
      ]
     },
     "execution_count": 10,
     "metadata": {},
     "output_type": "execute_result"
    }
   ],
   "source": [
    "sml_final.shape"
   ]
  },
  {
   "cell_type": "markdown",
   "id": "05244115",
   "metadata": {},
   "source": [
    "# DATA AP JOURNAL"
   ]
  },
  {
   "cell_type": "code",
   "execution_count": 11,
   "id": "2ab36c04",
   "metadata": {},
   "outputs": [
    {
     "name": "stderr",
     "output_type": "stream",
     "text": [
      "C:\\Users\\Cristian.Aparicio\\AppData\\Local\\Temp\\ipykernel_4160\\2391491094.py:1: DtypeWarning: Columns (13,14,15) have mixed types. Specify dtype option on import or set low_memory=False.\n",
      "  ap = pd.concat([pd.read_csv(f, sep='\\t',usecols=use_cols_approv).assign(file_name=os.path.basename(f)) for f in ap_provision_files])\n"
     ]
    }
   ],
   "source": [
    "ap = pd.concat([pd.read_csv(f, sep='\\t',usecols=use_cols_approv).assign(file_name=os.path.basename(f)) for f in ap_provision_files])\n",
    "ap.columns = ap.columns.str.strip().str.lower()\n",
    "ap.replace('\"\"','', regex=True, inplace=True)\n",
    "ap['eff_dt'] =  pd.to_datetime(ap['eff_dt']).dt.tz_localize(None)\n",
    "ap['eff_dt_date'] =  pd.to_datetime(ap['eff_dt']).dt.date\n",
    "ap['eff_dt_date'] =  pd.to_datetime(ap['eff_dt_date'])\n",
    "ap['eff_dt_time'] =  pd.to_datetime(ap['eff_dt']).dt.time\n",
    "# ap['movement_day'] = pd.to_datetime(ap['movement_day']).dt.tz_localize(None)\n",
    "ap['created_at'] = pd.to_datetime(ap['created_at']).dt.tz_localize(None)\n",
    "ap['created_at_date'] =  pd.to_datetime(ap['created_at']).dt.date\n",
    "ap['created_at_date'] =  pd.to_datetime(ap['created_at_date'])\n",
    "ap['payment_date_local'] = pd.to_datetime(ap['payment_date_local']).dt.tz_localize(None)\n",
    "ap['payment_date_local'] =  pd.to_datetime(ap['payment_date_local']).dt.date\n",
    "ap['payment_date_local'] =  pd.to_datetime(ap['payment_date_local'])\n",
    "# ap['request_effective_date'] = pd.to_datetime(ap['request_effective_date']).dt.tz_localize(None)\n",
    "# ap['slot_date'] = pd.to_datetime(ap['slot_date']).dt.tz_localize(None)\n",
    "# ap['identifier'] = ap['source_type'].str[:1].astype(str)\n",
    "# ap['INDEX'] = (ap['eff_dt_date'].astype(str).replace(' ', '',regex=True)+'-'+\n",
    "#                ap['identifier'].astype(str).replace(' ', '',regex=True)+'-'+\n",
    "#                ap['eff_dt_time'].astype(str).replace(' ', '',regex=True))\n",
    "ap.sort_values(by=(['merchant_id','eff_dt']), ascending=[True,False], inplace=True)"
   ]
  },
  {
   "cell_type": "code",
   "execution_count": 12,
   "id": "f999693d",
   "metadata": {},
   "outputs": [],
   "source": [
    "ap.reset_index(inplace=True)"
   ]
  },
  {
   "cell_type": "code",
   "execution_count": 13,
   "id": "8319eeeb",
   "metadata": {},
   "outputs": [
    {
     "data": {
      "text/html": [
       "<div>\n",
       "<style scoped>\n",
       "    .dataframe tbody tr th:only-of-type {\n",
       "        vertical-align: middle;\n",
       "    }\n",
       "\n",
       "    .dataframe tbody tr th {\n",
       "        vertical-align: top;\n",
       "    }\n",
       "\n",
       "    .dataframe thead th {\n",
       "        text-align: right;\n",
       "    }\n",
       "</style>\n",
       "<table border=\"1\" class=\"dataframe\">\n",
       "  <thead>\n",
       "    <tr style=\"text-align: right;\">\n",
       "      <th></th>\n",
       "      <th>index</th>\n",
       "      <th>merchant_id</th>\n",
       "      <th>type_request</th>\n",
       "      <th>mvnt_id</th>\n",
       "      <th>movement_type</th>\n",
       "      <th>source_type</th>\n",
       "      <th>created_at</th>\n",
       "      <th>eff_dt</th>\n",
       "      <th>report_date_local</th>\n",
       "      <th>payment_date_local</th>\n",
       "      <th>status</th>\n",
       "      <th>file_name</th>\n",
       "      <th>eff_dt_date</th>\n",
       "      <th>eff_dt_time</th>\n",
       "      <th>created_at_date</th>\n",
       "      <th>report_id</th>\n",
       "      <th>report_date_local_final</th>\n",
       "      <th>payment_date_local_final</th>\n",
       "      <th>status_final</th>\n",
       "    </tr>\n",
       "  </thead>\n",
       "  <tbody>\n",
       "    <tr>\n",
       "      <th>0</th>\n",
       "      <td>528141</td>\n",
       "      <td>0000275f-d46b-4a9c-a227-42d6f7ce63bd</td>\n",
       "      <td>AQ9R84Y7Z</td>\n",
       "      <td>9a6fc934-8fc1-3a09-8fa6-fff4c2225d17</td>\n",
       "      <td>DISB_RQ</td>\n",
       "      <td>DISB</td>\n",
       "      <td>2023-06-01 07:27:03</td>\n",
       "      <td>2023-06-01 07:27:08</td>\n",
       "      <td>2023-06-01</td>\n",
       "      <td>2023-06-01</td>\n",
       "      <td>PAID</td>\n",
       "      <td>PROVISIONES - LEDGER MAYO 2023.tsv</td>\n",
       "      <td>2023-06-01</td>\n",
       "      <td>07:27:08</td>\n",
       "      <td>2023-06-01</td>\n",
       "      <td>AQ9R84Y7Z</td>\n",
       "      <td>2023-06-01</td>\n",
       "      <td>2023-06-01</td>\n",
       "      <td>PAID</td>\n",
       "    </tr>\n",
       "    <tr>\n",
       "      <th>1</th>\n",
       "      <td>6348824</td>\n",
       "      <td>0000275f-d46b-4a9c-a227-42d6f7ce63bd</td>\n",
       "      <td>settlement processor regular payment request</td>\n",
       "      <td>1060d9fe-100a-4730-9d5d-6f2f91517e58</td>\n",
       "      <td>REGULAR_PYMT_RQ</td>\n",
       "      <td>SETT</td>\n",
       "      <td>2023-05-31 09:44:16</td>\n",
       "      <td>2023-06-01 02:30:00</td>\n",
       "      <td>NaN</td>\n",
       "      <td>NaT</td>\n",
       "      <td>NaN</td>\n",
       "      <td>PROVISIONES - LEDGER MAYO 2023.tsv</td>\n",
       "      <td>2023-06-01</td>\n",
       "      <td>02:30:00</td>\n",
       "      <td>2023-05-31</td>\n",
       "      <td>AQ9R84Y7Z</td>\n",
       "      <td>2023-06-01</td>\n",
       "      <td>2023-06-01</td>\n",
       "      <td>PAID</td>\n",
       "    </tr>\n",
       "    <tr>\n",
       "      <th>2</th>\n",
       "      <td>1202320</td>\n",
       "      <td>0000275f-d46b-4a9c-a227-42d6f7ce63bd</td>\n",
       "      <td>AVD7HLR8Y</td>\n",
       "      <td>094ee08e-52fa-3b93-8a4a-9ea122a7d5c9</td>\n",
       "      <td>DISB_RQ</td>\n",
       "      <td>DISB</td>\n",
       "      <td>2023-05-24 07:23:22</td>\n",
       "      <td>2023-05-24 07:23:27</td>\n",
       "      <td>2023-05-24</td>\n",
       "      <td>2023-05-24</td>\n",
       "      <td>PAID</td>\n",
       "      <td>PROVISIONES - LEDGER MAYO 2023.tsv</td>\n",
       "      <td>2023-05-24</td>\n",
       "      <td>07:23:27</td>\n",
       "      <td>2023-05-24</td>\n",
       "      <td>AVD7HLR8Y</td>\n",
       "      <td>2023-05-24</td>\n",
       "      <td>2023-05-24</td>\n",
       "      <td>PAID</td>\n",
       "    </tr>\n",
       "    <tr>\n",
       "      <th>3</th>\n",
       "      <td>6348823</td>\n",
       "      <td>0000275f-d46b-4a9c-a227-42d6f7ce63bd</td>\n",
       "      <td>settlement processor regular payment request</td>\n",
       "      <td>bfcf3d98-2fbb-4c8b-b19d-16bde76965b8</td>\n",
       "      <td>REGULAR_PYMT_RQ</td>\n",
       "      <td>SETT</td>\n",
       "      <td>2023-05-23 13:39:10</td>\n",
       "      <td>2023-05-24 03:30:00</td>\n",
       "      <td>NaN</td>\n",
       "      <td>NaT</td>\n",
       "      <td>NaN</td>\n",
       "      <td>PROVISIONES - LEDGER MAYO 2023.tsv</td>\n",
       "      <td>2023-05-24</td>\n",
       "      <td>03:30:00</td>\n",
       "      <td>2023-05-23</td>\n",
       "      <td>AVD7HLR8Y</td>\n",
       "      <td>2023-05-24</td>\n",
       "      <td>2023-05-24</td>\n",
       "      <td>PAID</td>\n",
       "    </tr>\n",
       "    <tr>\n",
       "      <th>4</th>\n",
       "      <td>197885</td>\n",
       "      <td>00004998-66f3-4c36-9096-4f64f971d19b</td>\n",
       "      <td>AX4JZK6HX</td>\n",
       "      <td>dddc4bf7-4787-3a51-96c5-775f4f180245</td>\n",
       "      <td>DISB_RQ</td>\n",
       "      <td>DISB</td>\n",
       "      <td>2023-05-29 07:19:11</td>\n",
       "      <td>2023-05-29 07:19:16</td>\n",
       "      <td>2023-05-29</td>\n",
       "      <td>2023-05-29</td>\n",
       "      <td>PAID</td>\n",
       "      <td>PROVISIONES - LEDGER MAYO 2023.tsv</td>\n",
       "      <td>2023-05-29</td>\n",
       "      <td>07:19:16</td>\n",
       "      <td>2023-05-29</td>\n",
       "      <td>AX4JZK6HX</td>\n",
       "      <td>2023-05-29</td>\n",
       "      <td>2023-05-29</td>\n",
       "      <td>PAID</td>\n",
       "    </tr>\n",
       "  </tbody>\n",
       "</table>\n",
       "</div>"
      ],
      "text/plain": [
       "     index                           merchant_id  \\\n",
       "0   528141  0000275f-d46b-4a9c-a227-42d6f7ce63bd   \n",
       "1  6348824  0000275f-d46b-4a9c-a227-42d6f7ce63bd   \n",
       "2  1202320  0000275f-d46b-4a9c-a227-42d6f7ce63bd   \n",
       "3  6348823  0000275f-d46b-4a9c-a227-42d6f7ce63bd   \n",
       "4   197885  00004998-66f3-4c36-9096-4f64f971d19b   \n",
       "\n",
       "                                   type_request  \\\n",
       "0                                     AQ9R84Y7Z   \n",
       "1  settlement processor regular payment request   \n",
       "2                                     AVD7HLR8Y   \n",
       "3  settlement processor regular payment request   \n",
       "4                                     AX4JZK6HX   \n",
       "\n",
       "                                mvnt_id    movement_type source_type  \\\n",
       "0  9a6fc934-8fc1-3a09-8fa6-fff4c2225d17          DISB_RQ        DISB   \n",
       "1  1060d9fe-100a-4730-9d5d-6f2f91517e58  REGULAR_PYMT_RQ        SETT   \n",
       "2  094ee08e-52fa-3b93-8a4a-9ea122a7d5c9          DISB_RQ        DISB   \n",
       "3  bfcf3d98-2fbb-4c8b-b19d-16bde76965b8  REGULAR_PYMT_RQ        SETT   \n",
       "4  dddc4bf7-4787-3a51-96c5-775f4f180245          DISB_RQ        DISB   \n",
       "\n",
       "           created_at              eff_dt report_date_local  \\\n",
       "0 2023-06-01 07:27:03 2023-06-01 07:27:08        2023-06-01   \n",
       "1 2023-05-31 09:44:16 2023-06-01 02:30:00               NaN   \n",
       "2 2023-05-24 07:23:22 2023-05-24 07:23:27        2023-05-24   \n",
       "3 2023-05-23 13:39:10 2023-05-24 03:30:00               NaN   \n",
       "4 2023-05-29 07:19:11 2023-05-29 07:19:16        2023-05-29   \n",
       "\n",
       "  payment_date_local status                           file_name eff_dt_date  \\\n",
       "0         2023-06-01   PAID  PROVISIONES - LEDGER MAYO 2023.tsv  2023-06-01   \n",
       "1                NaT    NaN  PROVISIONES - LEDGER MAYO 2023.tsv  2023-06-01   \n",
       "2         2023-05-24   PAID  PROVISIONES - LEDGER MAYO 2023.tsv  2023-05-24   \n",
       "3                NaT    NaN  PROVISIONES - LEDGER MAYO 2023.tsv  2023-05-24   \n",
       "4         2023-05-29   PAID  PROVISIONES - LEDGER MAYO 2023.tsv  2023-05-29   \n",
       "\n",
       "  eff_dt_time created_at_date  report_id report_date_local_final  \\\n",
       "0    07:27:08      2023-06-01  AQ9R84Y7Z              2023-06-01   \n",
       "1    02:30:00      2023-05-31  AQ9R84Y7Z              2023-06-01   \n",
       "2    07:23:27      2023-05-24  AVD7HLR8Y              2023-05-24   \n",
       "3    03:30:00      2023-05-23  AVD7HLR8Y              2023-05-24   \n",
       "4    07:19:16      2023-05-29  AX4JZK6HX              2023-05-29   \n",
       "\n",
       "  payment_date_local_final status_final  \n",
       "0               2023-06-01         PAID  \n",
       "1               2023-06-01         PAID  \n",
       "2               2023-05-24         PAID  \n",
       "3               2023-05-24         PAID  \n",
       "4               2023-05-29         PAID  "
      ]
     },
     "execution_count": 13,
     "metadata": {},
     "output_type": "execute_result"
    }
   ],
   "source": [
    "ap.loc[ap['source_type'] == 'DISB', 'report_id'] = ap['type_request']\n",
    "ap['report_id'] = ap['report_id'].groupby(ap['merchant_id']).fillna(method='ffill')\n",
    "ap['report_date_local_final'] = ap['report_date_local'].groupby(ap['merchant_id']).fillna(method='ffill')\n",
    "ap['payment_date_local_final'] = ap['payment_date_local'].groupby(ap['merchant_id']).fillna(method='ffill')\n",
    "ap['status_final'] = ap['status'].groupby(ap['merchant_id']).fillna(method='ffill')\n",
    "ap.head()"
   ]
  },
  {
   "cell_type": "code",
   "execution_count": 14,
   "id": "cfdd51e2",
   "metadata": {},
   "outputs": [
    {
     "data": {
      "text/plain": [
       "(8647729, 19)"
      ]
     },
     "execution_count": 14,
     "metadata": {},
     "output_type": "execute_result"
    }
   ],
   "source": [
    "ap.shape"
   ]
  },
  {
   "cell_type": "code",
   "execution_count": 15,
   "id": "b34aaf44",
   "metadata": {},
   "outputs": [
    {
     "data": {
      "text/plain": [
       "index                                int64\n",
       "merchant_id                         object\n",
       "type_request                        object\n",
       "mvnt_id                             object\n",
       "movement_type                       object\n",
       "source_type                         object\n",
       "created_at                  datetime64[ns]\n",
       "eff_dt                      datetime64[ns]\n",
       "report_date_local                   object\n",
       "payment_date_local          datetime64[ns]\n",
       "status                              object\n",
       "file_name                           object\n",
       "eff_dt_date                 datetime64[ns]\n",
       "eff_dt_time                         object\n",
       "created_at_date             datetime64[ns]\n",
       "report_id                           object\n",
       "report_date_local_final             object\n",
       "payment_date_local_final    datetime64[ns]\n",
       "status_final                        object\n",
       "dtype: object"
      ]
     },
     "execution_count": 15,
     "metadata": {},
     "output_type": "execute_result"
    }
   ],
   "source": [
    "ap.dtypes"
   ]
  },
  {
   "cell_type": "code",
   "execution_count": 16,
   "id": "533505bb",
   "metadata": {},
   "outputs": [
    {
     "data": {
      "text/plain": [
       "array(['DISB', 'SETT', 'PYMT', 'TOPUPS', 'LOAN', 'RISK', 'REFUNDS',\n",
       "       'BILL_PYMNT', 'TAXES'], dtype=object)"
      ]
     },
     "execution_count": 16,
     "metadata": {},
     "output_type": "execute_result"
    }
   ],
   "source": [
    "ap['source_type'].unique()"
   ]
  },
  {
   "cell_type": "code",
   "execution_count": 17,
   "id": "57a30c53",
   "metadata": {},
   "outputs": [
    {
     "data": {
      "text/plain": [
       "array(['AQ9R84Y7Z', 'AVD7HLR8Y', 'AX4JZK6HX', ..., 'AM8NNZD45',\n",
       "       'AF2K9DKKQ', 'AZH7LL5KZ'], dtype=object)"
      ]
     },
     "execution_count": 17,
     "metadata": {},
     "output_type": "execute_result"
    }
   ],
   "source": [
    "ap['report_id'].unique()"
   ]
  },
  {
   "cell_type": "code",
   "execution_count": 18,
   "id": "acebd4f7",
   "metadata": {},
   "outputs": [],
   "source": [
    "ap_disb = ap[(ap['source_type'] == 'DISB')]\n",
    "ap_sett = ap[(ap['source_type'] == 'SETT')]\n",
    "ap_pymt = ap[(ap['source_type'] == 'PYMT')]\n",
    "ap_topups = ap[(ap['source_type'] == 'TOPUPS')]\n",
    "ap_loan = ap[(ap['source_type'] == 'LOAN')]\n",
    "ap_risk = ap[(ap['source_type'] == 'RISK')]\n",
    "ap_refunds = ap[(ap['source_type'] == 'REFUNDS')]\n",
    "ap_bill_pymnt = ap[(ap['source_type'] == 'BILL_PYMNT')]\n",
    "ap_taxes = ap[(ap['source_type'] == 'TAXES')]\n",
    "ap_sett_adptr = ap[(ap['source_type'] == 'SETT_ADPTR')]"
   ]
  },
  {
   "cell_type": "markdown",
   "id": "d101324c",
   "metadata": {},
   "source": [
    "# CRUCE 1: AP JOURNAL VS SETTLEMENT MASTER LOG"
   ]
  },
  {
   "cell_type": "code",
   "execution_count": 19,
   "id": "1754a0b8",
   "metadata": {},
   "outputs": [
    {
     "data": {
      "text/html": [
       "<div>\n",
       "<style scoped>\n",
       "    .dataframe tbody tr th:only-of-type {\n",
       "        vertical-align: middle;\n",
       "    }\n",
       "\n",
       "    .dataframe tbody tr th {\n",
       "        vertical-align: top;\n",
       "    }\n",
       "\n",
       "    .dataframe thead th {\n",
       "        text-align: right;\n",
       "    }\n",
       "</style>\n",
       "<table border=\"1\" class=\"dataframe\">\n",
       "  <thead>\n",
       "    <tr style=\"text-align: right;\">\n",
       "      <th></th>\n",
       "      <th>index</th>\n",
       "      <th>merchant_id</th>\n",
       "      <th>type_request</th>\n",
       "      <th>mvnt_id</th>\n",
       "      <th>movement_type</th>\n",
       "      <th>source_type</th>\n",
       "      <th>created_at</th>\n",
       "      <th>eff_dt</th>\n",
       "      <th>report_date_local</th>\n",
       "      <th>payment_date_local</th>\n",
       "      <th>...</th>\n",
       "      <th>gross_amount</th>\n",
       "      <th>fees</th>\n",
       "      <th>taxes</th>\n",
       "      <th>net_amount</th>\n",
       "      <th>mdr</th>\n",
       "      <th>msi</th>\n",
       "      <th>number_msi</th>\n",
       "      <th>receipt_no</th>\n",
       "      <th>status_code</th>\n",
       "      <th>transaction_id</th>\n",
       "    </tr>\n",
       "  </thead>\n",
       "  <tbody>\n",
       "    <tr>\n",
       "      <th>0</th>\n",
       "      <td>528141</td>\n",
       "      <td>0000275f-d46b-4a9c-a227-42d6f7ce63bd</td>\n",
       "      <td>AQ9R84Y7Z</td>\n",
       "      <td>9a6fc934-8fc1-3a09-8fa6-fff4c2225d17</td>\n",
       "      <td>DISB_RQ</td>\n",
       "      <td>DISB</td>\n",
       "      <td>2023-06-01 07:27:03</td>\n",
       "      <td>2023-06-01 07:27:08</td>\n",
       "      <td>2023-06-01</td>\n",
       "      <td>2023-06-01</td>\n",
       "      <td>...</td>\n",
       "      <td>NaN</td>\n",
       "      <td>NaN</td>\n",
       "      <td>NaN</td>\n",
       "      <td>NaN</td>\n",
       "      <td>NaN</td>\n",
       "      <td>NaN</td>\n",
       "      <td>NaN</td>\n",
       "      <td>NaN</td>\n",
       "      <td>NaN</td>\n",
       "      <td>9a6fc934-8fc1-3a09-8fa6-fff4c2225d17</td>\n",
       "    </tr>\n",
       "    <tr>\n",
       "      <th>1</th>\n",
       "      <td>6348824</td>\n",
       "      <td>0000275f-d46b-4a9c-a227-42d6f7ce63bd</td>\n",
       "      <td>settlement processor regular payment request</td>\n",
       "      <td>1060d9fe-100a-4730-9d5d-6f2f91517e58</td>\n",
       "      <td>REGULAR_PYMT_RQ</td>\n",
       "      <td>SETT</td>\n",
       "      <td>2023-05-31 09:44:16</td>\n",
       "      <td>2023-06-01 02:30:00</td>\n",
       "      <td>NaN</td>\n",
       "      <td>NaT</td>\n",
       "      <td>...</td>\n",
       "      <td>3,300.00</td>\n",
       "      <td>267.30</td>\n",
       "      <td>42.77</td>\n",
       "      <td>2,989.93</td>\n",
       "      <td>0.04</td>\n",
       "      <td>0.04</td>\n",
       "      <td>3.00</td>\n",
       "      <td>aGPijbT</td>\n",
       "      <td>1.00</td>\n",
       "      <td>1060d9fe-100a-4730-9d5d-6f2f91517e58</td>\n",
       "    </tr>\n",
       "    <tr>\n",
       "      <th>2</th>\n",
       "      <td>1202320</td>\n",
       "      <td>0000275f-d46b-4a9c-a227-42d6f7ce63bd</td>\n",
       "      <td>AVD7HLR8Y</td>\n",
       "      <td>094ee08e-52fa-3b93-8a4a-9ea122a7d5c9</td>\n",
       "      <td>DISB_RQ</td>\n",
       "      <td>DISB</td>\n",
       "      <td>2023-05-24 07:23:22</td>\n",
       "      <td>2023-05-24 07:23:27</td>\n",
       "      <td>2023-05-24</td>\n",
       "      <td>2023-05-24</td>\n",
       "      <td>...</td>\n",
       "      <td>NaN</td>\n",
       "      <td>NaN</td>\n",
       "      <td>NaN</td>\n",
       "      <td>NaN</td>\n",
       "      <td>NaN</td>\n",
       "      <td>NaN</td>\n",
       "      <td>NaN</td>\n",
       "      <td>NaN</td>\n",
       "      <td>NaN</td>\n",
       "      <td>094ee08e-52fa-3b93-8a4a-9ea122a7d5c9</td>\n",
       "    </tr>\n",
       "    <tr>\n",
       "      <th>3</th>\n",
       "      <td>6348823</td>\n",
       "      <td>0000275f-d46b-4a9c-a227-42d6f7ce63bd</td>\n",
       "      <td>settlement processor regular payment request</td>\n",
       "      <td>bfcf3d98-2fbb-4c8b-b19d-16bde76965b8</td>\n",
       "      <td>REGULAR_PYMT_RQ</td>\n",
       "      <td>SETT</td>\n",
       "      <td>2023-05-23 13:39:10</td>\n",
       "      <td>2023-05-24 03:30:00</td>\n",
       "      <td>NaN</td>\n",
       "      <td>NaT</td>\n",
       "      <td>...</td>\n",
       "      <td>139.00</td>\n",
       "      <td>5.00</td>\n",
       "      <td>0.80</td>\n",
       "      <td>133.20</td>\n",
       "      <td>0.04</td>\n",
       "      <td>0.00</td>\n",
       "      <td>0.00</td>\n",
       "      <td>59KFC1n</td>\n",
       "      <td>1.00</td>\n",
       "      <td>bfcf3d98-2fbb-4c8b-b19d-16bde76965b8</td>\n",
       "    </tr>\n",
       "    <tr>\n",
       "      <th>4</th>\n",
       "      <td>197885</td>\n",
       "      <td>00004998-66f3-4c36-9096-4f64f971d19b</td>\n",
       "      <td>AX4JZK6HX</td>\n",
       "      <td>dddc4bf7-4787-3a51-96c5-775f4f180245</td>\n",
       "      <td>DISB_RQ</td>\n",
       "      <td>DISB</td>\n",
       "      <td>2023-05-29 07:19:11</td>\n",
       "      <td>2023-05-29 07:19:16</td>\n",
       "      <td>2023-05-29</td>\n",
       "      <td>2023-05-29</td>\n",
       "      <td>...</td>\n",
       "      <td>NaN</td>\n",
       "      <td>NaN</td>\n",
       "      <td>NaN</td>\n",
       "      <td>NaN</td>\n",
       "      <td>NaN</td>\n",
       "      <td>NaN</td>\n",
       "      <td>NaN</td>\n",
       "      <td>NaN</td>\n",
       "      <td>NaN</td>\n",
       "      <td>dddc4bf7-4787-3a51-96c5-775f4f180245</td>\n",
       "    </tr>\n",
       "  </tbody>\n",
       "</table>\n",
       "<p>5 rows × 30 columns</p>\n",
       "</div>"
      ],
      "text/plain": [
       "     index                           merchant_id  \\\n",
       "0   528141  0000275f-d46b-4a9c-a227-42d6f7ce63bd   \n",
       "1  6348824  0000275f-d46b-4a9c-a227-42d6f7ce63bd   \n",
       "2  1202320  0000275f-d46b-4a9c-a227-42d6f7ce63bd   \n",
       "3  6348823  0000275f-d46b-4a9c-a227-42d6f7ce63bd   \n",
       "4   197885  00004998-66f3-4c36-9096-4f64f971d19b   \n",
       "\n",
       "                                   type_request  \\\n",
       "0                                     AQ9R84Y7Z   \n",
       "1  settlement processor regular payment request   \n",
       "2                                     AVD7HLR8Y   \n",
       "3  settlement processor regular payment request   \n",
       "4                                     AX4JZK6HX   \n",
       "\n",
       "                                mvnt_id    movement_type source_type  \\\n",
       "0  9a6fc934-8fc1-3a09-8fa6-fff4c2225d17          DISB_RQ        DISB   \n",
       "1  1060d9fe-100a-4730-9d5d-6f2f91517e58  REGULAR_PYMT_RQ        SETT   \n",
       "2  094ee08e-52fa-3b93-8a4a-9ea122a7d5c9          DISB_RQ        DISB   \n",
       "3  bfcf3d98-2fbb-4c8b-b19d-16bde76965b8  REGULAR_PYMT_RQ        SETT   \n",
       "4  dddc4bf7-4787-3a51-96c5-775f4f180245          DISB_RQ        DISB   \n",
       "\n",
       "           created_at              eff_dt report_date_local  \\\n",
       "0 2023-06-01 07:27:03 2023-06-01 07:27:08        2023-06-01   \n",
       "1 2023-05-31 09:44:16 2023-06-01 02:30:00               NaN   \n",
       "2 2023-05-24 07:23:22 2023-05-24 07:23:27        2023-05-24   \n",
       "3 2023-05-23 13:39:10 2023-05-24 03:30:00               NaN   \n",
       "4 2023-05-29 07:19:11 2023-05-29 07:19:16        2023-05-29   \n",
       "\n",
       "  payment_date_local  ... gross_amount   fees taxes net_amount  mdr  msi  \\\n",
       "0         2023-06-01  ...          NaN    NaN   NaN        NaN  NaN  NaN   \n",
       "1                NaT  ...     3,300.00 267.30 42.77   2,989.93 0.04 0.04   \n",
       "2         2023-05-24  ...          NaN    NaN   NaN        NaN  NaN  NaN   \n",
       "3                NaT  ...       139.00   5.00  0.80     133.20 0.04 0.00   \n",
       "4         2023-05-29  ...          NaN    NaN   NaN        NaN  NaN  NaN   \n",
       "\n",
       "  number_msi receipt_no status_code                        transaction_id  \n",
       "0        NaN        NaN         NaN  9a6fc934-8fc1-3a09-8fa6-fff4c2225d17  \n",
       "1       3.00    aGPijbT        1.00  1060d9fe-100a-4730-9d5d-6f2f91517e58  \n",
       "2        NaN        NaN         NaN  094ee08e-52fa-3b93-8a4a-9ea122a7d5c9  \n",
       "3       0.00    59KFC1n        1.00  bfcf3d98-2fbb-4c8b-b19d-16bde76965b8  \n",
       "4        NaN        NaN         NaN  dddc4bf7-4787-3a51-96c5-775f4f180245  \n",
       "\n",
       "[5 rows x 30 columns]"
      ]
     },
     "execution_count": 19,
     "metadata": {},
     "output_type": "execute_result"
    }
   ],
   "source": [
    "cruce_1 = ap.merge(sml_final[['mvnt_id','psp_amount','gross_amount','fees','taxes','net_amount','mdr','msi','number_msi',\n",
    "                             'receipt_no','status_code']],on='mvnt_id',how='left')\n",
    "cruce_1['transaction_id'] = cruce_1['mvnt_id']\n",
    "cruce_1.head()"
   ]
  },
  {
   "cell_type": "code",
   "execution_count": 20,
   "id": "db61f0bb",
   "metadata": {},
   "outputs": [
    {
     "data": {
      "text/plain": [
       "(8647729, 30)"
      ]
     },
     "execution_count": 20,
     "metadata": {},
     "output_type": "execute_result"
    }
   ],
   "source": [
    "cruce_1.shape"
   ]
  },
  {
   "cell_type": "code",
   "execution_count": 21,
   "id": "4ab2db38",
   "metadata": {},
   "outputs": [
    {
     "data": {
      "text/plain": [
       "Index(['index', 'merchant_id', 'type_request', 'mvnt_id', 'movement_type',\n",
       "       'source_type', 'created_at', 'eff_dt', 'report_date_local',\n",
       "       'payment_date_local', 'status', 'file_name', 'eff_dt_date',\n",
       "       'eff_dt_time', 'created_at_date', 'report_id',\n",
       "       'report_date_local_final', 'payment_date_local_final', 'status_final',\n",
       "       'psp_amount', 'gross_amount', 'fees', 'taxes', 'net_amount', 'mdr',\n",
       "       'msi', 'number_msi', 'receipt_no', 'status_code', 'transaction_id'],\n",
       "      dtype='object')"
      ]
     },
     "execution_count": 21,
     "metadata": {},
     "output_type": "execute_result"
    }
   ],
   "source": [
    "cruce_1.columns"
   ]
  },
  {
   "cell_type": "markdown",
   "id": "052a992b",
   "metadata": {},
   "source": [
    "# DATA PROVISION"
   ]
  },
  {
   "cell_type": "code",
   "execution_count": 22,
   "id": "f328149e",
   "metadata": {},
   "outputs": [],
   "source": [
    "url = r'C:\\Users\\Cristian.Aparicio\\Documents\\PROVISIONES\\2023\\05. MAYO\\Provision Mayo 2023.xlsx'"
   ]
  },
  {
   "cell_type": "code",
   "execution_count": 23,
   "id": "ac57d3a8",
   "metadata": {},
   "outputs": [
    {
     "data": {
      "text/plain": [
       "<pandas.io.excel._base.ExcelFile at 0x18078d885e0>"
      ]
     },
     "execution_count": 23,
     "metadata": {},
     "output_type": "execute_result"
    }
   ],
   "source": [
    "provision_file = pd.ExcelFile(url)\n",
    "provision_file"
   ]
  },
  {
   "cell_type": "code",
   "execution_count": 24,
   "id": "dfa8ac1b",
   "metadata": {},
   "outputs": [
    {
     "data": {
      "text/plain": [
       "['RESUMEN', 'BANORTE', 'ECOMMERCE', 'GRRCN', 'EPA']"
      ]
     },
     "execution_count": 24,
     "metadata": {},
     "output_type": "execute_result"
    }
   ],
   "source": [
    "provision_file.sheet_names"
   ]
  },
  {
   "cell_type": "code",
   "execution_count": 25,
   "id": "71c2ab8a",
   "metadata": {},
   "outputs": [],
   "source": [
    "all_sheets = pd.read_excel(url, sheet_name=[1,2,3,4],\n",
    "                           converters={'AFFILIATION':str,'SUB_AFFILIATION':str,'ORDER_ID':str,'COD_AUTORIZACION':str,\n",
    "                                       'BIN':str,'ULTIMOS_4':str})"
   ]
  },
  {
   "cell_type": "code",
   "execution_count": 26,
   "id": "31a04b3f",
   "metadata": {},
   "outputs": [
    {
     "data": {
      "text/plain": [
       "dict_keys([1, 2, 3, 4])"
      ]
     },
     "execution_count": 26,
     "metadata": {},
     "output_type": "execute_result"
    }
   ],
   "source": [
    "all_sheets.keys()"
   ]
  },
  {
   "cell_type": "code",
   "execution_count": 27,
   "id": "76866b7e",
   "metadata": {},
   "outputs": [
    {
     "data": {
      "text/html": [
       "<div>\n",
       "<style scoped>\n",
       "    .dataframe tbody tr th:only-of-type {\n",
       "        vertical-align: middle;\n",
       "    }\n",
       "\n",
       "    .dataframe tbody tr th {\n",
       "        vertical-align: top;\n",
       "    }\n",
       "\n",
       "    .dataframe thead th {\n",
       "        text-align: right;\n",
       "    }\n",
       "</style>\n",
       "<table border=\"1\" class=\"dataframe\">\n",
       "  <thead>\n",
       "    <tr style=\"text-align: right;\">\n",
       "      <th></th>\n",
       "      <th>level_0</th>\n",
       "      <th>level_1</th>\n",
       "      <th>tablero</th>\n",
       "      <th>fecha_deposito_clip</th>\n",
       "      <th>fecha_trx_clip</th>\n",
       "      <th>affiliation</th>\n",
       "      <th>sub_affiliation</th>\n",
       "      <th>fecha_recepción</th>\n",
       "      <th>nombre_archivo</th>\n",
       "      <th>order_id</th>\n",
       "      <th>...</th>\n",
       "      <th>ultimos_4</th>\n",
       "      <th>status_code</th>\n",
       "      <th>msi</th>\n",
       "      <th>psp</th>\n",
       "      <th>proceso</th>\n",
       "      <th>monto</th>\n",
       "      <th>recuento</th>\n",
       "      <th>adquiriente</th>\n",
       "      <th>transaction_id</th>\n",
       "      <th>nombre_tablero</th>\n",
       "    </tr>\n",
       "  </thead>\n",
       "  <tbody>\n",
       "    <tr>\n",
       "      <th>0</th>\n",
       "      <td>1</td>\n",
       "      <td>0</td>\n",
       "      <td>PAGOS CONCILIADOS</td>\n",
       "      <td>2023-06-01</td>\n",
       "      <td>2023-05-31</td>\n",
       "      <td>7927515</td>\n",
       "      <td>7927515</td>\n",
       "      <td>2023-06-02</td>\n",
       "      <td>PAYCLIP_Settlement_02062023_V1.csv</td>\n",
       "      <td>728025551222</td>\n",
       "      <td>...</td>\n",
       "      <td>03</td>\n",
       "      <td>1</td>\n",
       "      <td>0</td>\n",
       "      <td>PROSA</td>\n",
       "      <td>AGREGADOR</td>\n",
       "      <td>174.00</td>\n",
       "      <td>1</td>\n",
       "      <td>BANORTE</td>\n",
       "      <td>d823410b-9529-4f97-98ce-fc3dc933c9d8</td>\n",
       "      <td>NaN</td>\n",
       "    </tr>\n",
       "    <tr>\n",
       "      <th>1</th>\n",
       "      <td>1</td>\n",
       "      <td>1</td>\n",
       "      <td>PAGOS CONCILIADOS</td>\n",
       "      <td>2023-06-01</td>\n",
       "      <td>2023-05-31</td>\n",
       "      <td>7927515</td>\n",
       "      <td>7927515</td>\n",
       "      <td>2023-06-02</td>\n",
       "      <td>PAYCLIP_Settlement_02062023_V1.csv</td>\n",
       "      <td>024214343966</td>\n",
       "      <td>...</td>\n",
       "      <td>03</td>\n",
       "      <td>1</td>\n",
       "      <td>0</td>\n",
       "      <td>PROSA</td>\n",
       "      <td>AGREGADOR</td>\n",
       "      <td>39.00</td>\n",
       "      <td>1</td>\n",
       "      <td>BANORTE</td>\n",
       "      <td>df1bd15b-3cf2-4276-8a40-63f561c7d741</td>\n",
       "      <td>NaN</td>\n",
       "    </tr>\n",
       "    <tr>\n",
       "      <th>2</th>\n",
       "      <td>1</td>\n",
       "      <td>2</td>\n",
       "      <td>PAGOS CONCILIADOS</td>\n",
       "      <td>2023-06-01</td>\n",
       "      <td>2023-05-31</td>\n",
       "      <td>7927500</td>\n",
       "      <td>7927500</td>\n",
       "      <td>2023-06-02</td>\n",
       "      <td>PAYCLIP_Settlement_02062023_V1.csv</td>\n",
       "      <td>742701238484</td>\n",
       "      <td>...</td>\n",
       "      <td>33</td>\n",
       "      <td>1</td>\n",
       "      <td>0</td>\n",
       "      <td>PROSA</td>\n",
       "      <td>AGREGADOR</td>\n",
       "      <td>34.00</td>\n",
       "      <td>1</td>\n",
       "      <td>BANORTE</td>\n",
       "      <td>3a179b5a-3c0c-487a-af3c-7e35533fecc6</td>\n",
       "      <td>NaN</td>\n",
       "    </tr>\n",
       "    <tr>\n",
       "      <th>3</th>\n",
       "      <td>1</td>\n",
       "      <td>3</td>\n",
       "      <td>PAGOS CONCILIADOS</td>\n",
       "      <td>2023-06-01</td>\n",
       "      <td>2023-05-31</td>\n",
       "      <td>7927484</td>\n",
       "      <td>7927484</td>\n",
       "      <td>2023-06-02</td>\n",
       "      <td>PAYCLIP_Settlement_02062023_V1.csv</td>\n",
       "      <td>361620245251</td>\n",
       "      <td>...</td>\n",
       "      <td>55</td>\n",
       "      <td>1</td>\n",
       "      <td>0</td>\n",
       "      <td>PROSA</td>\n",
       "      <td>AGREGADOR</td>\n",
       "      <td>1,200.00</td>\n",
       "      <td>1</td>\n",
       "      <td>BANORTE</td>\n",
       "      <td>2468726d-83b6-4404-8bd7-abe6428fe0e1</td>\n",
       "      <td>NaN</td>\n",
       "    </tr>\n",
       "    <tr>\n",
       "      <th>4</th>\n",
       "      <td>1</td>\n",
       "      <td>4</td>\n",
       "      <td>PAGOS CONCILIADOS</td>\n",
       "      <td>2023-06-01</td>\n",
       "      <td>2023-05-31</td>\n",
       "      <td>7927496</td>\n",
       "      <td>7927496</td>\n",
       "      <td>2023-06-02</td>\n",
       "      <td>PAYCLIP_Settlement_02062023_V1.csv</td>\n",
       "      <td>544335324112</td>\n",
       "      <td>...</td>\n",
       "      <td>19</td>\n",
       "      <td>1</td>\n",
       "      <td>0</td>\n",
       "      <td>PROSA</td>\n",
       "      <td>AGREGADOR</td>\n",
       "      <td>35,916.52</td>\n",
       "      <td>1</td>\n",
       "      <td>BANORTE</td>\n",
       "      <td>9ce39fea-b630-4399-860c-3472c3bcf615</td>\n",
       "      <td>NaN</td>\n",
       "    </tr>\n",
       "  </tbody>\n",
       "</table>\n",
       "<p>5 rows × 22 columns</p>\n",
       "</div>"
      ],
      "text/plain": [
       "   level_0  level_1            tablero fecha_deposito_clip fecha_trx_clip  \\\n",
       "0        1        0  PAGOS CONCILIADOS          2023-06-01     2023-05-31   \n",
       "1        1        1  PAGOS CONCILIADOS          2023-06-01     2023-05-31   \n",
       "2        1        2  PAGOS CONCILIADOS          2023-06-01     2023-05-31   \n",
       "3        1        3  PAGOS CONCILIADOS          2023-06-01     2023-05-31   \n",
       "4        1        4  PAGOS CONCILIADOS          2023-06-01     2023-05-31   \n",
       "\n",
       "  affiliation sub_affiliation fecha_recepción  \\\n",
       "0     7927515         7927515      2023-06-02   \n",
       "1     7927515         7927515      2023-06-02   \n",
       "2     7927500         7927500      2023-06-02   \n",
       "3     7927484         7927484      2023-06-02   \n",
       "4     7927496         7927496      2023-06-02   \n",
       "\n",
       "                       nombre_archivo      order_id  ... ultimos_4  \\\n",
       "0  PAYCLIP_Settlement_02062023_V1.csv  728025551222  ...        03   \n",
       "1  PAYCLIP_Settlement_02062023_V1.csv  024214343966  ...        03   \n",
       "2  PAYCLIP_Settlement_02062023_V1.csv  742701238484  ...        33   \n",
       "3  PAYCLIP_Settlement_02062023_V1.csv  361620245251  ...        55   \n",
       "4  PAYCLIP_Settlement_02062023_V1.csv  544335324112  ...        19   \n",
       "\n",
       "  status_code msi    psp    proceso     monto recuento  adquiriente  \\\n",
       "0           1   0  PROSA  AGREGADOR    174.00        1      BANORTE   \n",
       "1           1   0  PROSA  AGREGADOR     39.00        1      BANORTE   \n",
       "2           1   0  PROSA  AGREGADOR     34.00        1      BANORTE   \n",
       "3           1   0  PROSA  AGREGADOR  1,200.00        1      BANORTE   \n",
       "4           1   0  PROSA  AGREGADOR 35,916.52        1      BANORTE   \n",
       "\n",
       "                         transaction_id nombre_tablero  \n",
       "0  d823410b-9529-4f97-98ce-fc3dc933c9d8            NaN  \n",
       "1  df1bd15b-3cf2-4276-8a40-63f561c7d741            NaN  \n",
       "2  3a179b5a-3c0c-487a-af3c-7e35533fecc6            NaN  \n",
       "3  2468726d-83b6-4404-8bd7-abe6428fe0e1            NaN  \n",
       "4  9ce39fea-b630-4399-860c-3472c3bcf615            NaN  \n",
       "\n",
       "[5 rows x 22 columns]"
      ]
     },
     "execution_count": 27,
     "metadata": {},
     "output_type": "execute_result"
    }
   ],
   "source": [
    "provision = pd.concat(all_sheets).reset_index()\n",
    "provision.columns = provision.columns.str.strip().str.lower() \n",
    "provision.head()"
   ]
  },
  {
   "cell_type": "code",
   "execution_count": 28,
   "id": "f3f765ef",
   "metadata": {},
   "outputs": [
    {
     "data": {
      "text/plain": [
       "(458177, 22)"
      ]
     },
     "execution_count": 28,
     "metadata": {},
     "output_type": "execute_result"
    }
   ],
   "source": [
    "provision.shape"
   ]
  },
  {
   "cell_type": "markdown",
   "id": "c337bb22",
   "metadata": {},
   "source": [
    "# CRUCE 2: DATA PROVISION VS CRUCE 1"
   ]
  },
  {
   "cell_type": "code",
   "execution_count": 29,
   "id": "55a73310",
   "metadata": {},
   "outputs": [
    {
     "data": {
      "text/html": [
       "<div>\n",
       "<style scoped>\n",
       "    .dataframe tbody tr th:only-of-type {\n",
       "        vertical-align: middle;\n",
       "    }\n",
       "\n",
       "    .dataframe tbody tr th {\n",
       "        vertical-align: top;\n",
       "    }\n",
       "\n",
       "    .dataframe thead th {\n",
       "        text-align: right;\n",
       "    }\n",
       "</style>\n",
       "<table border=\"1\" class=\"dataframe\">\n",
       "  <thead>\n",
       "    <tr style=\"text-align: right;\">\n",
       "      <th></th>\n",
       "      <th>level_0</th>\n",
       "      <th>level_1</th>\n",
       "      <th>tablero</th>\n",
       "      <th>fecha_deposito_clip</th>\n",
       "      <th>fecha_trx_clip</th>\n",
       "      <th>affiliation</th>\n",
       "      <th>sub_affiliation</th>\n",
       "      <th>fecha_recepción</th>\n",
       "      <th>nombre_archivo</th>\n",
       "      <th>order_id</th>\n",
       "      <th>...</th>\n",
       "      <th>mvnt_id</th>\n",
       "      <th>report_id</th>\n",
       "      <th>report_date_local_final</th>\n",
       "      <th>payment_date_local_final</th>\n",
       "      <th>status_final</th>\n",
       "      <th>fees</th>\n",
       "      <th>taxes</th>\n",
       "      <th>eff_dt_date</th>\n",
       "      <th>movement_type</th>\n",
       "      <th>source_type</th>\n",
       "    </tr>\n",
       "  </thead>\n",
       "  <tbody>\n",
       "    <tr>\n",
       "      <th>0</th>\n",
       "      <td>1</td>\n",
       "      <td>0</td>\n",
       "      <td>PAGOS CONCILIADOS</td>\n",
       "      <td>2023-06-01</td>\n",
       "      <td>2023-05-31</td>\n",
       "      <td>7927515</td>\n",
       "      <td>7927515</td>\n",
       "      <td>2023-06-02</td>\n",
       "      <td>PAYCLIP_Settlement_02062023_V1.csv</td>\n",
       "      <td>728025551222</td>\n",
       "      <td>...</td>\n",
       "      <td>d823410b-9529-4f97-98ce-fc3dc933c9d8</td>\n",
       "      <td>AVPVVTJZP</td>\n",
       "      <td>2023-06-01</td>\n",
       "      <td>2023-06-01</td>\n",
       "      <td>PAID</td>\n",
       "      <td>6.26</td>\n",
       "      <td>1.00</td>\n",
       "      <td>2023-06-01</td>\n",
       "      <td>REGULAR_PYMT_RQ</td>\n",
       "      <td>SETT</td>\n",
       "    </tr>\n",
       "    <tr>\n",
       "      <th>1</th>\n",
       "      <td>1</td>\n",
       "      <td>1</td>\n",
       "      <td>PAGOS CONCILIADOS</td>\n",
       "      <td>2023-06-01</td>\n",
       "      <td>2023-05-31</td>\n",
       "      <td>7927515</td>\n",
       "      <td>7927515</td>\n",
       "      <td>2023-06-02</td>\n",
       "      <td>PAYCLIP_Settlement_02062023_V1.csv</td>\n",
       "      <td>024214343966</td>\n",
       "      <td>...</td>\n",
       "      <td>df1bd15b-3cf2-4276-8a40-63f561c7d741</td>\n",
       "      <td>AHTG8XX5V</td>\n",
       "      <td>2023-06-01</td>\n",
       "      <td>2023-06-01</td>\n",
       "      <td>PAID</td>\n",
       "      <td>1.40</td>\n",
       "      <td>0.22</td>\n",
       "      <td>2023-06-01</td>\n",
       "      <td>REGULAR_PYMT_RQ</td>\n",
       "      <td>SETT</td>\n",
       "    </tr>\n",
       "    <tr>\n",
       "      <th>2</th>\n",
       "      <td>1</td>\n",
       "      <td>2</td>\n",
       "      <td>PAGOS CONCILIADOS</td>\n",
       "      <td>2023-06-01</td>\n",
       "      <td>2023-05-31</td>\n",
       "      <td>7927500</td>\n",
       "      <td>7927500</td>\n",
       "      <td>2023-06-02</td>\n",
       "      <td>PAYCLIP_Settlement_02062023_V1.csv</td>\n",
       "      <td>742701238484</td>\n",
       "      <td>...</td>\n",
       "      <td>3a179b5a-3c0c-487a-af3c-7e35533fecc6</td>\n",
       "      <td>AL2JZ754L</td>\n",
       "      <td>2023-06-01</td>\n",
       "      <td>2023-06-01</td>\n",
       "      <td>PAID</td>\n",
       "      <td>1.22</td>\n",
       "      <td>0.20</td>\n",
       "      <td>2023-06-01</td>\n",
       "      <td>REGULAR_PYMT_RQ</td>\n",
       "      <td>SETT</td>\n",
       "    </tr>\n",
       "    <tr>\n",
       "      <th>3</th>\n",
       "      <td>1</td>\n",
       "      <td>3</td>\n",
       "      <td>PAGOS CONCILIADOS</td>\n",
       "      <td>2023-06-01</td>\n",
       "      <td>2023-05-31</td>\n",
       "      <td>7927484</td>\n",
       "      <td>7927484</td>\n",
       "      <td>2023-06-02</td>\n",
       "      <td>PAYCLIP_Settlement_02062023_V1.csv</td>\n",
       "      <td>361620245251</td>\n",
       "      <td>...</td>\n",
       "      <td>2468726d-83b6-4404-8bd7-abe6428fe0e1</td>\n",
       "      <td>AQRB554HF</td>\n",
       "      <td>2023-06-01</td>\n",
       "      <td>2023-06-01</td>\n",
       "      <td>PAID</td>\n",
       "      <td>43.20</td>\n",
       "      <td>6.91</td>\n",
       "      <td>2023-06-01</td>\n",
       "      <td>REGULAR_PYMT_RQ</td>\n",
       "      <td>SETT</td>\n",
       "    </tr>\n",
       "    <tr>\n",
       "      <th>4</th>\n",
       "      <td>1</td>\n",
       "      <td>4</td>\n",
       "      <td>PAGOS CONCILIADOS</td>\n",
       "      <td>2023-06-01</td>\n",
       "      <td>2023-05-31</td>\n",
       "      <td>7927496</td>\n",
       "      <td>7927496</td>\n",
       "      <td>2023-06-02</td>\n",
       "      <td>PAYCLIP_Settlement_02062023_V1.csv</td>\n",
       "      <td>544335324112</td>\n",
       "      <td>...</td>\n",
       "      <td>9ce39fea-b630-4399-860c-3472c3bcf615</td>\n",
       "      <td>ACT7SF7NH</td>\n",
       "      <td>2023-06-01</td>\n",
       "      <td>2023-06-01</td>\n",
       "      <td>PAID</td>\n",
       "      <td>1,292.99</td>\n",
       "      <td>206.88</td>\n",
       "      <td>2023-06-01</td>\n",
       "      <td>REGULAR_PYMT_RQ</td>\n",
       "      <td>SETT</td>\n",
       "    </tr>\n",
       "  </tbody>\n",
       "</table>\n",
       "<p>5 rows × 32 columns</p>\n",
       "</div>"
      ],
      "text/plain": [
       "   level_0  level_1            tablero fecha_deposito_clip fecha_trx_clip  \\\n",
       "0        1        0  PAGOS CONCILIADOS          2023-06-01     2023-05-31   \n",
       "1        1        1  PAGOS CONCILIADOS          2023-06-01     2023-05-31   \n",
       "2        1        2  PAGOS CONCILIADOS          2023-06-01     2023-05-31   \n",
       "3        1        3  PAGOS CONCILIADOS          2023-06-01     2023-05-31   \n",
       "4        1        4  PAGOS CONCILIADOS          2023-06-01     2023-05-31   \n",
       "\n",
       "  affiliation sub_affiliation fecha_recepción  \\\n",
       "0     7927515         7927515      2023-06-02   \n",
       "1     7927515         7927515      2023-06-02   \n",
       "2     7927500         7927500      2023-06-02   \n",
       "3     7927484         7927484      2023-06-02   \n",
       "4     7927496         7927496      2023-06-02   \n",
       "\n",
       "                       nombre_archivo      order_id  ...  \\\n",
       "0  PAYCLIP_Settlement_02062023_V1.csv  728025551222  ...   \n",
       "1  PAYCLIP_Settlement_02062023_V1.csv  024214343966  ...   \n",
       "2  PAYCLIP_Settlement_02062023_V1.csv  742701238484  ...   \n",
       "3  PAYCLIP_Settlement_02062023_V1.csv  361620245251  ...   \n",
       "4  PAYCLIP_Settlement_02062023_V1.csv  544335324112  ...   \n",
       "\n",
       "                                mvnt_id  report_id report_date_local_final  \\\n",
       "0  d823410b-9529-4f97-98ce-fc3dc933c9d8  AVPVVTJZP              2023-06-01   \n",
       "1  df1bd15b-3cf2-4276-8a40-63f561c7d741  AHTG8XX5V              2023-06-01   \n",
       "2  3a179b5a-3c0c-487a-af3c-7e35533fecc6  AL2JZ754L              2023-06-01   \n",
       "3  2468726d-83b6-4404-8bd7-abe6428fe0e1  AQRB554HF              2023-06-01   \n",
       "4  9ce39fea-b630-4399-860c-3472c3bcf615  ACT7SF7NH              2023-06-01   \n",
       "\n",
       "  payment_date_local_final  status_final     fees  taxes  eff_dt_date  \\\n",
       "0               2023-06-01          PAID     6.26   1.00   2023-06-01   \n",
       "1               2023-06-01          PAID     1.40   0.22   2023-06-01   \n",
       "2               2023-06-01          PAID     1.22   0.20   2023-06-01   \n",
       "3               2023-06-01          PAID    43.20   6.91   2023-06-01   \n",
       "4               2023-06-01          PAID 1,292.99 206.88   2023-06-01   \n",
       "\n",
       "     movement_type source_type  \n",
       "0  REGULAR_PYMT_RQ        SETT  \n",
       "1  REGULAR_PYMT_RQ        SETT  \n",
       "2  REGULAR_PYMT_RQ        SETT  \n",
       "3  REGULAR_PYMT_RQ        SETT  \n",
       "4  REGULAR_PYMT_RQ        SETT  \n",
       "\n",
       "[5 rows x 32 columns]"
      ]
     },
     "execution_count": 29,
     "metadata": {},
     "output_type": "execute_result"
    }
   ],
   "source": [
    "cruce_2 = provision.merge(cruce_1[['transaction_id','mvnt_id','report_id','report_date_local_final','payment_date_local_final',\n",
    "                                   'status_final','fees','taxes','eff_dt_date','movement_type','source_type']],\n",
    "                          on='transaction_id',how='left')\n",
    "cruce_2['report_id'].fillna('not_found',inplace=True)\n",
    "cruce_2['movement_type'].fillna('not_found',inplace=True)\n",
    "cruce_2['source_type'].fillna('not_found',inplace=True)\n",
    "cruce_2['status_final'].fillna('not_found',inplace=True)\n",
    "cruce_2['report_date_local_final'].fillna('1990-01-01',inplace=True)\n",
    "cruce_2['payment_date_local_final'].fillna('1990-01-01',inplace=True)\n",
    "cruce_2['report_date_local_final'] =  pd.to_datetime(cruce_2['report_date_local_final'])\n",
    "cruce_2['payment_date_local_final'] =  pd.to_datetime(cruce_2['payment_date_local_final'])\n",
    "cruce_2.head()"
   ]
  },
  {
   "cell_type": "code",
   "execution_count": 30,
   "id": "8fdfba12",
   "metadata": {},
   "outputs": [
    {
     "data": {
      "text/plain": [
       "(458179, 32)"
      ]
     },
     "execution_count": 30,
     "metadata": {},
     "output_type": "execute_result"
    }
   ],
   "source": [
    "cruce_2.shape"
   ]
  },
  {
   "cell_type": "code",
   "execution_count": 31,
   "id": "bafecb0a",
   "metadata": {},
   "outputs": [
    {
     "data": {
      "text/plain": [
       "array(['REGULAR_PYMT_RQ', 'FAST_PYMT_RQ', 'DEFERRED_REGULAR_PYMNT_RQ',\n",
       "       'not_found', 'DEFERRED_FAST_PYMNT_RQ', 'CANCEL_RQ'], dtype=object)"
      ]
     },
     "execution_count": 31,
     "metadata": {},
     "output_type": "execute_result"
    }
   ],
   "source": [
    "cruce_2['movement_type'].unique()"
   ]
  },
  {
   "cell_type": "code",
   "execution_count": 32,
   "id": "64aeba02",
   "metadata": {},
   "outputs": [
    {
     "data": {
      "text/plain": [
       "array(['SETT', 'not_found', 'PYMT'], dtype=object)"
      ]
     },
     "execution_count": 32,
     "metadata": {},
     "output_type": "execute_result"
    }
   ],
   "source": [
    "cruce_2['source_type'].unique()"
   ]
  },
  {
   "cell_type": "code",
   "execution_count": 33,
   "id": "ceeab129",
   "metadata": {},
   "outputs": [
    {
     "data": {
      "text/plain": [
       "array([1, 2, 3, 4], dtype=int64)"
      ]
     },
     "execution_count": 33,
     "metadata": {},
     "output_type": "execute_result"
    }
   ],
   "source": [
    "cruce_2['level_0'].unique()"
   ]
  },
  {
   "cell_type": "markdown",
   "id": "6a0638a4",
   "metadata": {},
   "source": [
    "# EXCEL FINAL"
   ]
  },
  {
   "cell_type": "code",
   "execution_count": 34,
   "id": "f51e5a8e",
   "metadata": {},
   "outputs": [],
   "source": [
    "grouped = cruce_2.groupby(cruce_2.level_0)"
   ]
  },
  {
   "cell_type": "code",
   "execution_count": 35,
   "id": "e7abd354",
   "metadata": {},
   "outputs": [],
   "source": [
    "group_1 = grouped.get_group(1)\n",
    "group_2 = grouped.get_group(2)\n",
    "group_3 = grouped.get_group(3)\n",
    "group_4 = grouped.get_group(4)\n",
    "# group_5 = grouped.get_group(5)\n",
    "# group_6 = grouped.get_group(6)"
   ]
  },
  {
   "cell_type": "code",
   "execution_count": 36,
   "id": "dc6029be",
   "metadata": {},
   "outputs": [],
   "source": [
    "group_1.to_csv('1.csv',index=False)\n",
    "group_2.to_csv('2.csv',index=False)\n",
    "group_3.to_csv('3.csv',index=False)\n",
    "group_4.to_csv('4.csv',index=False)\n",
    "# group_5.to_csv('5.csv',index=False)\n",
    "# group_6.to_csv('6.csv',index=False)"
   ]
  },
  {
   "cell_type": "code",
   "execution_count": 37,
   "id": "90ede6ce",
   "metadata": {},
   "outputs": [],
   "source": [
    "writer = pd.ExcelWriter('Data_final_provision_mayo_2023.xlsx',\n",
    "                        engine='xlsxwriter',\n",
    "                        engine_kwargs={'options': {'encoding':'utf-8'}})\n",
    "group_1.to_excel(writer, sheet_name='1', index=False)\n",
    "group_2.to_excel(writer, sheet_name='2', index=False)\n",
    "group_3.to_excel(writer, sheet_name='3', index=False)\n",
    "group_4.to_excel(writer, sheet_name='4', index=False)\n",
    "# group_5.to_excel(writer, sheet_name='5', index=False)\n",
    "# group_6.to_excel(writer, sheet_name='6', index=False)\n",
    "writer.close()"
   ]
  },
  {
   "cell_type": "code",
   "execution_count": null,
   "id": "3b20b16b",
   "metadata": {},
   "outputs": [],
   "source": []
  }
 ],
 "metadata": {
  "kernelspec": {
   "display_name": "Python 3 (ipykernel)",
   "language": "python",
   "name": "python3"
  },
  "language_info": {
   "codemirror_mode": {
    "name": "ipython",
    "version": 3
   },
   "file_extension": ".py",
   "mimetype": "text/x-python",
   "name": "python",
   "nbconvert_exporter": "python",
   "pygments_lexer": "ipython3",
   "version": "3.9.13"
  }
 },
 "nbformat": 4,
 "nbformat_minor": 5
}
