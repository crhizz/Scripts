{
 "cells": [
  {
   "cell_type": "code",
   "execution_count": 1,
   "metadata": {},
   "outputs": [],
   "source": [
    "import os\n",
    "import numpy as np\n",
    "import pandas as pd\n",
    "import zipfile\n",
    "from zipfile import ZipFile\n",
    "import fnmatch\n",
    "import glob\n",
    "import os\n",
    "from openpyxl import load_workbook\n",
    "pd.options.display.float_format = '{:,.2f}'.format"
   ]
  },
  {
   "cell_type": "code",
   "execution_count": 2,
   "metadata": {},
   "outputs": [
    {
     "data": {
      "text/plain": [
       "['G:\\\\.shortcut-targets-by-id\\\\1dIw3KdQWk6HAGd7cIi1VZsIyka0tkfYi\\\\2.-CONCILIACIONES Y POLIZA\\\\SFTP BANORTE\\\\2023 SFTP Banorte\\\\09. SEPTIEMBRE\\\\sftp-01092023.zip',\n",
       " 'G:\\\\.shortcut-targets-by-id\\\\1dIw3KdQWk6HAGd7cIi1VZsIyka0tkfYi\\\\2.-CONCILIACIONES Y POLIZA\\\\SFTP BANORTE\\\\2023 SFTP Banorte\\\\09. SEPTIEMBRE\\\\sftp-02092023.zip',\n",
       " 'G:\\\\.shortcut-targets-by-id\\\\1dIw3KdQWk6HAGd7cIi1VZsIyka0tkfYi\\\\2.-CONCILIACIONES Y POLIZA\\\\SFTP BANORTE\\\\2023 SFTP Banorte\\\\09. SEPTIEMBRE\\\\sftp-03092023.zip',\n",
       " 'G:\\\\.shortcut-targets-by-id\\\\1dIw3KdQWk6HAGd7cIi1VZsIyka0tkfYi\\\\2.-CONCILIACIONES Y POLIZA\\\\SFTP BANORTE\\\\2023 SFTP Banorte\\\\09. SEPTIEMBRE\\\\sftp-04092023.zip',\n",
       " 'G:\\\\.shortcut-targets-by-id\\\\1dIw3KdQWk6HAGd7cIi1VZsIyka0tkfYi\\\\2.-CONCILIACIONES Y POLIZA\\\\SFTP BANORTE\\\\2023 SFTP Banorte\\\\09. SEPTIEMBRE\\\\sftp-05092023.zip',\n",
       " 'G:\\\\.shortcut-targets-by-id\\\\1dIw3KdQWk6HAGd7cIi1VZsIyka0tkfYi\\\\2.-CONCILIACIONES Y POLIZA\\\\SFTP BANORTE\\\\2023 SFTP Banorte\\\\09. SEPTIEMBRE\\\\sftp-06092023.zip',\n",
       " 'G:\\\\.shortcut-targets-by-id\\\\1dIw3KdQWk6HAGd7cIi1VZsIyka0tkfYi\\\\2.-CONCILIACIONES Y POLIZA\\\\SFTP BANORTE\\\\2023 SFTP Banorte\\\\09. SEPTIEMBRE\\\\sftp-07092023.zip',\n",
       " 'G:\\\\.shortcut-targets-by-id\\\\1dIw3KdQWk6HAGd7cIi1VZsIyka0tkfYi\\\\2.-CONCILIACIONES Y POLIZA\\\\SFTP BANORTE\\\\2023 SFTP Banorte\\\\09. SEPTIEMBRE\\\\sftp-08092023.zip',\n",
       " 'G:\\\\.shortcut-targets-by-id\\\\1dIw3KdQWk6HAGd7cIi1VZsIyka0tkfYi\\\\2.-CONCILIACIONES Y POLIZA\\\\SFTP BANORTE\\\\2023 SFTP Banorte\\\\09. SEPTIEMBRE\\\\sftp-09092023.zip',\n",
       " 'G:\\\\.shortcut-targets-by-id\\\\1dIw3KdQWk6HAGd7cIi1VZsIyka0tkfYi\\\\2.-CONCILIACIONES Y POLIZA\\\\SFTP BANORTE\\\\2023 SFTP Banorte\\\\09. SEPTIEMBRE\\\\sftp-10092023.zip',\n",
       " 'G:\\\\.shortcut-targets-by-id\\\\1dIw3KdQWk6HAGd7cIi1VZsIyka0tkfYi\\\\2.-CONCILIACIONES Y POLIZA\\\\SFTP BANORTE\\\\2023 SFTP Banorte\\\\09. SEPTIEMBRE\\\\sftp-11092023.zip',\n",
       " 'G:\\\\.shortcut-targets-by-id\\\\1dIw3KdQWk6HAGd7cIi1VZsIyka0tkfYi\\\\2.-CONCILIACIONES Y POLIZA\\\\SFTP BANORTE\\\\2023 SFTP Banorte\\\\09. SEPTIEMBRE\\\\sftp-12092023.zip']"
      ]
     },
     "execution_count": 2,
     "metadata": {},
     "output_type": "execute_result"
    }
   ],
   "source": [
    "backups_sep_23 = sorted(glob.glob(r'G:\\.shortcut-targets-by-id\\1dIw3KdQWk6HAGd7cIi1VZsIyka0tkfYi\\2.-CONCILIACIONES Y POLIZA\\SFTP BANORTE\\2023 SFTP Banorte\\09. SEPTIEMBRE\\*.zip', recursive=False))\n",
    "backups_sep_23"
   ]
  },
  {
   "cell_type": "code",
   "execution_count": null,
   "metadata": {},
   "outputs": [],
   "source": [
    "backups_aug_23 = sorted(glob.glob(r'G:\\.shortcut-targets-by-id\\1dIw3KdQWk6HAGd7cIi1VZsIyka0tkfYi\\2.-CONCILIACIONES Y POLIZA\\SFTP BANORTE\\2023 SFTP Banorte\\08. AGOSTO\\*.zip', recursive=False))\n",
    "backups_aug_23"
   ]
  },
  {
   "cell_type": "code",
   "execution_count": null,
   "metadata": {},
   "outputs": [],
   "source": [
    "backups_jul_23 = sorted(glob.glob(r'G:\\.shortcut-targets-by-id\\1dIw3KdQWk6HAGd7cIi1VZsIyka0tkfYi\\2.-CONCILIACIONES Y POLIZA\\SFTP BANORTE\\2023 SFTP Banorte\\07. JULIO\\*.zip', recursive=False))\n",
    "backups_jul_23"
   ]
  },
  {
   "cell_type": "code",
   "execution_count": null,
   "metadata": {},
   "outputs": [],
   "source": [
    "backups_jun_23 = sorted(glob.glob(r'G:\\.shortcut-targets-by-id\\1dIw3KdQWk6HAGd7cIi1VZsIyka0tkfYi\\2.-CONCILIACIONES Y POLIZA\\SFTP BANORTE\\2023 SFTP Banorte\\06. JUNIO\\*.zip', recursive=False))\n",
    "backups_jun_23"
   ]
  },
  {
   "cell_type": "code",
   "execution_count": null,
   "metadata": {},
   "outputs": [],
   "source": [
    "backups_may_23 = sorted(glob.glob(r'G:\\.shortcut-targets-by-id\\1dIw3KdQWk6HAGd7cIi1VZsIyka0tkfYi\\2.-CONCILIACIONES Y POLIZA\\SFTP BANORTE\\2023 SFTP Banorte\\05. MAYO\\*.zip', recursive=False))\n",
    "backups_may_23"
   ]
  },
  {
   "cell_type": "code",
   "execution_count": null,
   "metadata": {},
   "outputs": [],
   "source": [
    "backups_apr_23 = sorted(glob.glob(r'G:\\.shortcut-targets-by-id\\1dIw3KdQWk6HAGd7cIi1VZsIyka0tkfYi\\2.-CONCILIACIONES Y POLIZA\\SFTP BANORTE\\2023 SFTP Banorte\\04. ABRIL\\*.zip', recursive=False))\n",
    "backups_apr_23"
   ]
  },
  {
   "cell_type": "code",
   "execution_count": null,
   "metadata": {},
   "outputs": [],
   "source": [
    "backups_mar_23 = sorted(glob.glob(r'G:\\.shortcut-targets-by-id\\1dIw3KdQWk6HAGd7cIi1VZsIyka0tkfYi\\2.-CONCILIACIONES Y POLIZA\\SFTP BANORTE\\2023 SFTP Banorte\\03. MARZO\\*.zip', recursive=False))\n",
    "backups_mar_23"
   ]
  },
  {
   "cell_type": "code",
   "execution_count": null,
   "metadata": {},
   "outputs": [],
   "source": [
    "backups_feb_23 = sorted(glob.glob(r'G:\\.shortcut-targets-by-id\\1dIw3KdQWk6HAGd7cIi1VZsIyka0tkfYi\\2.-CONCILIACIONES Y POLIZA\\SFTP BANORTE\\2023 SFTP Banorte\\02. FEBRERO\\*.zip', recursive=False))\n",
    "backups_feb_23"
   ]
  },
  {
   "cell_type": "code",
   "execution_count": null,
   "metadata": {},
   "outputs": [],
   "source": [
    "backups_jan_23 = sorted(glob.glob(r'G:\\.shortcut-targets-by-id\\1dIw3KdQWk6HAGd7cIi1VZsIyka0tkfYi\\2.-CONCILIACIONES Y POLIZA\\SFTP BANORTE\\2023 SFTP Banorte\\01. ENERO\\*.zip', recursive=False))\n",
    "backups_jan_23"
   ]
  },
  {
   "cell_type": "code",
   "execution_count": null,
   "metadata": {},
   "outputs": [],
   "source": [
    "backups_dec_22 = sorted(glob.glob(r'G:\\.shortcut-targets-by-id\\1dIw3KdQWk6HAGd7cIi1VZsIyka0tkfYi\\2.-CONCILIACIONES Y POLIZA\\SFTP BANORTE\\2022 SFTP Banorte\\12. DICIEMBRE\\*.zip', recursive=False))\n",
    "backups_dec_22"
   ]
  },
  {
   "cell_type": "code",
   "execution_count": null,
   "metadata": {},
   "outputs": [],
   "source": [
    "backups_nov_22 = sorted(glob.glob(r'G:\\.shortcut-targets-by-id\\1dIw3KdQWk6HAGd7cIi1VZsIyka0tkfYi\\2.-CONCILIACIONES Y POLIZA\\SFTP BANORTE\\2022 SFTP Banorte\\11. NOVIEMBRE\\*.zip', recursive=False))\n",
    "backups_nov_22"
   ]
  },
  {
   "cell_type": "code",
   "execution_count": null,
   "metadata": {},
   "outputs": [],
   "source": [
    "backups_oct_22 = sorted(glob.glob(r'G:\\.shortcut-targets-by-id\\1dIw3KdQWk6HAGd7cIi1VZsIyka0tkfYi\\2.-CONCILIACIONES Y POLIZA\\SFTP BANORTE\\2022 SFTP Banorte\\10. OCTUBRE\\*.zip', recursive=False))\n",
    "backups_oct_22"
   ]
  },
  {
   "cell_type": "code",
   "execution_count": null,
   "metadata": {},
   "outputs": [],
   "source": [
    "backups_sep_22 = sorted(glob.glob(r'G:\\.shortcut-targets-by-id\\1dIw3KdQWk6HAGd7cIi1VZsIyka0tkfYi\\2.-CONCILIACIONES Y POLIZA\\SFTP BANORTE\\2022 SFTP Banorte\\09. SEPTIEMBRE\\*.zip', recursive=False))\n",
    "backups_sep_22"
   ]
  },
  {
   "cell_type": "code",
   "execution_count": null,
   "metadata": {},
   "outputs": [],
   "source": [
    "backups_aug_22 = sorted(glob.glob(r'G:\\.shortcut-targets-by-id\\1dIw3KdQWk6HAGd7cIi1VZsIyka0tkfYi\\2.-CONCILIACIONES Y POLIZA\\SFTP BANORTE\\2022 SFTP Banorte\\08. AGOSTO\\*.zip', recursive=False))\n",
    "backups_aug_22"
   ]
  },
  {
   "cell_type": "code",
   "execution_count": null,
   "metadata": {},
   "outputs": [],
   "source": [
    "backups_jul_22 = sorted(glob.glob(r'G:\\.shortcut-targets-by-id\\1dIw3KdQWk6HAGd7cIi1VZsIyka0tkfYi\\2.-CONCILIACIONES Y POLIZA\\SFTP BANORTE\\2022 SFTP Banorte\\07. JULIO\\*.zip', recursive=False))\n",
    "backups_jul_22"
   ]
  },
  {
   "cell_type": "code",
   "execution_count": null,
   "metadata": {},
   "outputs": [],
   "source": [
    "backups_jun_22 = sorted(glob.glob(r'G:\\My Drive\\2.-CONCILIACIONES Y POLIZA\\SFTP BANORTE\\2022 SFTP Banorte\\06. JUNIO\\*.zip', recursive=False))\n",
    "backups_jun_22"
   ]
  },
  {
   "cell_type": "code",
   "execution_count": null,
   "metadata": {},
   "outputs": [],
   "source": [
    "backups_may_22 = sorted(glob.glob(r'G:\\My Drive\\2.-CONCILIACIONES Y POLIZA\\SFTP BANORTE\\2022 SFTP Banorte\\05. MAYO\\*.zip', recursive=False))\n",
    "backups_may_22"
   ]
  },
  {
   "cell_type": "code",
   "execution_count": null,
   "metadata": {},
   "outputs": [],
   "source": [
    "backups_apr_22 = glob.glob(r'G:\\My Drive\\2.-CONCILIACIONES Y POLIZA\\SFTP BANORTE\\2022 SFTP Banorte\\04. ABRIL\\*.zip', recursive=False)\n",
    "backups_apr_22"
   ]
  },
  {
   "cell_type": "code",
   "execution_count": null,
   "metadata": {},
   "outputs": [],
   "source": [
    "backups_mar_22 = glob.glob(r'G:\\My Drive\\2.-CONCILIACIONES Y POLIZA\\SFTP BANORTE\\2022 SFTP Banorte\\03. MARZO\\*.zip', recursive=False)\n",
    "backups_mar_22"
   ]
  },
  {
   "cell_type": "code",
   "execution_count": null,
   "metadata": {},
   "outputs": [],
   "source": [
    "backups_feb_22 = glob.glob(r'G:\\My Drive\\2.-CONCILIACIONES Y POLIZA\\SFTP BANORTE\\2022 SFTP Banorte\\02. FEBRERO\\*.zip', recursive=False)\n",
    "backups_feb_22"
   ]
  },
  {
   "cell_type": "code",
   "execution_count": null,
   "metadata": {},
   "outputs": [],
   "source": [
    "backups_jan_22 = glob.glob(r'G:\\My Drive\\2.-CONCILIACIONES Y POLIZA\\SFTP BANORTE\\2022 SFTP Banorte\\01. ENERO\\*.zip', recursive=False)\n",
    "backups_jan_22"
   ]
  },
  {
   "cell_type": "code",
   "execution_count": null,
   "metadata": {},
   "outputs": [],
   "source": [
    "backups_dec_21 = glob.glob(r'G:\\My Drive\\2.-CONCILIACIONES Y POLIZA\\SFTP BANORTE\\2021 SFTP Banorte\\12. DICIEMBRE\\*.zip', recursive=False)\n",
    "backups_dec_21"
   ]
  },
  {
   "cell_type": "code",
   "execution_count": null,
   "metadata": {},
   "outputs": [],
   "source": [
    "backups_nov_21 = glob.glob(r'G:\\My Drive\\2.-CONCILIACIONES Y POLIZA\\SFTP BANORTE\\2021 SFTP Banorte\\11. NOVIEMBRE\\*.zip', recursive=False)\n",
    "backups_nov_21"
   ]
  },
  {
   "cell_type": "code",
   "execution_count": null,
   "metadata": {},
   "outputs": [],
   "source": [
    "backups_oct_21 = glob.glob(r'G:\\My Drive\\2.-CONCILIACIONES Y POLIZA\\SFTP BANORTE\\2021 SFTP Banorte\\10. OCTUBRE\\*.zip', recursive=False)\n",
    "backups_oct_21"
   ]
  },
  {
   "cell_type": "code",
   "execution_count": null,
   "metadata": {},
   "outputs": [],
   "source": [
    "backups_sep_21 = glob.glob(r'G:\\My Drive\\2.-CONCILIACIONES Y POLIZA\\SFTP BANORTE\\2021 SFTP Banorte\\09. SEPTIEMBRE\\*.zip', recursive=False)\n",
    "backups_sep_21"
   ]
  },
  {
   "cell_type": "code",
   "execution_count": null,
   "metadata": {},
   "outputs": [],
   "source": [
    "backups_aug_21 = glob.glob(r'G:\\My Drive\\2.-CONCILIACIONES Y POLIZA\\SFTP BANORTE\\2021 SFTP Banorte\\08. AGOSTO\\*.zip', recursive=False)\n",
    "backups_aug_21"
   ]
  },
  {
   "cell_type": "code",
   "execution_count": null,
   "metadata": {},
   "outputs": [],
   "source": [
    "backups_jul_21 = glob.glob(r'G:\\My Drive\\2.-CONCILIACIONES Y POLIZA\\SFTP BANORTE\\2021 SFTP Banorte\\07. JULIO\\*.zip', recursive=False)\n",
    "backups_jul_21"
   ]
  },
  {
   "cell_type": "code",
   "execution_count": null,
   "metadata": {},
   "outputs": [],
   "source": [
    "backups_jun_21 = glob.glob(r'G:\\My Drive\\2.-CONCILIACIONES Y POLIZA\\SFTP BANORTE\\2021 SFTP Banorte\\06. JUNIO\\*.zip', recursive=False)\n",
    "backups_jun_21"
   ]
  },
  {
   "cell_type": "code",
   "execution_count": null,
   "metadata": {},
   "outputs": [],
   "source": [
    "backups_may_21 = glob.glob(r'G:\\My Drive\\2.-CONCILIACIONES Y POLIZA\\SFTP BANORTE\\2021 SFTP Banorte\\05. MAYO\\*.zip', recursive=False)\n",
    "backups_may_21"
   ]
  },
  {
   "cell_type": "code",
   "execution_count": null,
   "metadata": {},
   "outputs": [],
   "source": [
    "backups_apr_21 = glob.glob(r'G:\\My Drive\\2.-CONCILIACIONES Y POLIZA\\SFTP BANORTE\\2021 SFTP Banorte\\04. ABRIL\\*.zip', recursive=False)"
   ]
  },
  {
   "cell_type": "code",
   "execution_count": null,
   "metadata": {},
   "outputs": [],
   "source": [
    "backups_mar_21 = glob.glob(r'G:\\My Drive\\2.-CONCILIACIONES Y POLIZA\\SFTP BANORTE\\2021 SFTP Banorte\\03. MARZO\\*.zip', recursive=False)\n",
    "backups_mar_21"
   ]
  },
  {
   "cell_type": "code",
   "execution_count": null,
   "metadata": {},
   "outputs": [],
   "source": [
    "backups_feb_21 = glob.glob(r'G:\\My Drive\\2.-CONCILIACIONES Y POLIZA\\SFTP BANORTE\\2021 SFTP Banorte\\02. FEBRERO\\*.zip', recursive=False)"
   ]
  },
  {
   "cell_type": "code",
   "execution_count": null,
   "metadata": {},
   "outputs": [],
   "source": [
    "backups_jan_21 = glob.glob(r'G:\\My Drive\\2.-CONCILIACIONES Y POLIZA\\SFTP BANORTE\\2021 SFTP Banorte\\01. ENERO\\*.zip', recursive=False)"
   ]
  },
  {
   "cell_type": "code",
   "execution_count": null,
   "metadata": {},
   "outputs": [],
   "source": [
    "backups_dec = glob.glob(r'G:\\My Drive\\2.-CONCILIACIONES Y POLIZA\\SFTP BANORTE\\2020 SFTP Banorte\\12. DICIEMBRE\\*.zip', recursive=False)"
   ]
  },
  {
   "cell_type": "code",
   "execution_count": null,
   "metadata": {},
   "outputs": [],
   "source": [
    "backups_nov = glob.glob(r'G:\\My Drive\\2.-CONCILIACIONES Y POLIZA\\SFTP BANORTE\\2020 SFTP Banorte\\11. NOVIEMBRE\\*.zip', recursive=False)"
   ]
  },
  {
   "cell_type": "code",
   "execution_count": null,
   "metadata": {},
   "outputs": [],
   "source": [
    "backups_oct = glob.glob(r'G:\\My Drive\\2.-CONCILIACIONES Y POLIZA\\SFTP BANORTE\\2020 SFTP Banorte\\10. OCTUBRE\\*.zip', recursive=False)"
   ]
  },
  {
   "cell_type": "code",
   "execution_count": null,
   "metadata": {},
   "outputs": [],
   "source": [
    "backups_sep = glob.glob(r'C:\\Users\\Cristian.Aparicio\\Google Drive\\2.-CONCILIACIONES Y POLIZA\\SFTP BANORTE\\2020 SFTP Banorte\\09. SEPTIEMBRE\\*.zip', recursive=False)"
   ]
  },
  {
   "cell_type": "code",
   "execution_count": null,
   "metadata": {},
   "outputs": [],
   "source": [
    "backups_aug = glob.glob(r'C:\\Users\\Cristian.Aparicio\\Google Drive\\2.-CONCILIACIONES Y POLIZA\\SFTP BANORTE\\2020 SFTP Banorte\\08. AGOSTO\\*.zip', recursive=False)"
   ]
  },
  {
   "cell_type": "code",
   "execution_count": null,
   "metadata": {},
   "outputs": [],
   "source": [
    "backups_jul = glob.glob(r'C:\\Users\\Cristian.Aparicio\\Google Drive\\2.-CONCILIACIONES Y POLIZA\\SFTP BANORTE\\2020 SFTP Banorte\\07. JULIO\\*.zip', recursive=False)"
   ]
  },
  {
   "cell_type": "code",
   "execution_count": null,
   "metadata": {},
   "outputs": [],
   "source": [
    "backups_jun = glob.glob(r'C:\\Users\\Cristian.Aparicio\\Google Drive\\2.-CONCILIACIONES Y POLIZA\\SFTP BANORTE\\2020 SFTP Banorte\\06. JUNIO\\*.zip', recursive=False)"
   ]
  },
  {
   "cell_type": "code",
   "execution_count": null,
   "metadata": {},
   "outputs": [],
   "source": [
    "backups_may = glob.glob(r'C:\\Users\\Cristian.Aparicio\\Google Drive\\2.-CONCILIACIONES Y POLIZA\\SFTP BANORTE\\2020 SFTP Banorte\\05. MAYO\\*.zip', recursive=False)"
   ]
  },
  {
   "cell_type": "code",
   "execution_count": null,
   "metadata": {},
   "outputs": [],
   "source": [
    "backups_apr = glob.glob(r'C:\\Users\\Cristian.Aparicio\\Google Drive\\2.-CONCILIACIONES Y POLIZA\\SFTP BANORTE\\2020 SFTP Banorte\\04. ABRIL\\*.zip', recursive=False)"
   ]
  },
  {
   "cell_type": "code",
   "execution_count": null,
   "metadata": {},
   "outputs": [],
   "source": [
    "backups_mar = glob.glob(r'C:\\Users\\Cristian.Aparicio\\Google Drive\\2.-CONCILIACIONES Y POLIZA\\SFTP BANORTE\\2020 SFTP Banorte\\03. MARZO\\*.zip', recursive=False)"
   ]
  },
  {
   "cell_type": "code",
   "execution_count": null,
   "metadata": {},
   "outputs": [],
   "source": [
    "backups_feb = glob.glob(r'C:\\Users\\Cristian.Aparicio\\Google Drive\\2.-CONCILIACIONES Y POLIZA\\SFTP BANORTE\\2020 SFTP Banorte\\02. FEBRERO\\*.zip', recursive=False)"
   ]
  },
  {
   "cell_type": "code",
   "execution_count": null,
   "metadata": {},
   "outputs": [],
   "source": [
    "backups_jan = glob.glob(r'C:\\Users\\Cristian.Aparicio\\Google Drive\\2.-CONCILIACIONES Y POLIZA\\SFTP BANORTE\\2020 SFTP Banorte\\01. ENERO\\*.zip', recursive=False)"
   ]
  },
  {
   "cell_type": "code",
   "execution_count": 3,
   "metadata": {},
   "outputs": [],
   "source": [
    "for x in backups_sep_23:\n",
    "    handle = zipfile.ZipFile(x)\n",
    "    handle.extractall( r'G:\\.shortcut-targets-by-id\\1dIw3KdQWk6HAGd7cIi1VZsIyka0tkfYi\\2.-CONCILIACIONES Y POLIZA\\SFTP BANORTE\\2023 SFTP Banorte\\09. SEPTIEMBRE')"
   ]
  },
  {
   "cell_type": "code",
   "execution_count": null,
   "metadata": {},
   "outputs": [],
   "source": [
    "def scan_folder(parent):\n",
    "    # iterate over all the files in directory 'parent'\n",
    "    for file_name in os.listdir(parent):\n",
    "        if file_name.endswith(\".csv\"):\n",
    "            # if it's a txt file, print its name (or do whatever you want)\n",
    "            print(file_name)\n",
    "        else:\n",
    "            current_path = \"\".join((parent, \"/\", file_name))\n",
    "            if os.path.isdir(current_path):\n",
    "                # if we're checking a sub-directory, recall this method\n",
    "                scan_folder(current_path)\n",
    "\n",
    "scan_folder(r\"G:\\My Drive\\2.-CONCILIACIONES Y POLIZA\\SFTP BANORTE\\2020 SFTP Banorte\\11. NOVIEMBRE\")  # Insert parent direcotry's path"
   ]
  },
  {
   "cell_type": "code",
   "execution_count": null,
   "metadata": {},
   "outputs": [],
   "source": [
    "for path,dirs,files in os.walk(r'C:\\Users\\Cristian.Aparicio\\Google Drive\\2.-CONCILIACIONES Y POLIZA\\SFTP BANORTE\\2020 SFTP Banorte\\11. NOVIEMBRE'):\n",
    "    for file in files:\n",
    "        if fnmatch.fnmatch(file,'*.csv'):\n",
    "            fullname = os.path.join(path,file)\n",
    "            print(fullname)"
   ]
  },
  {
   "cell_type": "code",
   "execution_count": null,
   "metadata": {},
   "outputs": [],
   "source": [
    "# zf_jun_1 = zipfile.ZipFile(r'C:\\Users\\Cristian.Aparicio\\Google Drive\\2.-CONCILIACIONES Y POLIZA\\SFTP BANORTE\\2020 SFTP Banorte\\6. JUNIO\\sftp-01062020.zip') # having First.csv zipped file.\n",
    "# zf_jun_2 = zipfile.ZipFile(r'C:\\Users\\Cristian.Aparicio\\Google Drive\\2.-CONCILIACIONES Y POLIZA\\SFTP BANORTE\\2020 SFTP Banorte\\6. JUNIO\\sftp-02062020.zip') # having First.csv zipped file.\n",
    "# zf_jun_3 = zipfile.ZipFile(r'C:\\Users\\Cristian.Aparicio\\Google Drive\\2.-CONCILIACIONES Y POLIZA\\SFTP BANORTE\\2020 SFTP Banorte\\6. JUNIO\\sftp-03062020.zip') # having First.csv zipped file.\n",
    "# zf_jun_4 = zipfile.ZipFile(r'C:\\Users\\Cristian.Aparicio\\Google Drive\\2.-CONCILIACIONES Y POLIZA\\SFTP BANORTE\\2020 SFTP Banorte\\6. JUNIO\\sftp-04062020.zip') # having First.csv zipped file.\n",
    "# zf_jun_5 = zipfile.ZipFile(r'C:\\Users\\Cristian.Aparicio\\Google Drive\\2.-CONCILIACIONES Y POLIZA\\SFTP BANORTE\\2020 SFTP Banorte\\6. JUNIO\\sftp-05062020.zip') # having First.csv zipped file.\n",
    "# zf_jun_6 = zipfile.ZipFile(r'C:\\Users\\Cristian.Aparicio\\Google Drive\\2.-CONCILIACIONES Y POLIZA\\SFTP BANORTE\\2020 SFTP Banorte\\6. JUNIO\\sftp-06062020.zip') # having First.csv zipped file.\n",
    "# zf_jun_7 = zipfile.ZipFile(r'C:\\Users\\Cristian.Aparicio\\Google Drive\\2.-CONCILIACIONES Y POLIZA\\SFTP BANORTE\\2020 SFTP Banorte\\6. JUNIO\\sftp-07062020.zip') # having First.csv zipped file.\n",
    "# # zf_jun_8 = zipfile.ZipFile(r'C:\\Users\\Cristian.Aparicio\\Google Drive\\2.-CONCILIACIONES Y POLIZA\\SFTP BANORTE\\2020 SFTP Banorte\\6. JUNIO\\sftp-08062020.zip') # having First.csv zipped file.\n",
    "# zf_jun_9 = zipfile.ZipFile(r'C:\\Users\\Cristian.Aparicio\\Google Drive\\2.-CONCILIACIONES Y POLIZA\\SFTP BANORTE\\2020 SFTP Banorte\\6. JUNIO\\sftp-09062020.zip') # having First.csv zipped file.\n",
    "# zf_jun_10 = zipfile.ZipFile(r'C:\\Users\\Cristian.Aparicio\\Google Drive\\2.-CONCILIACIONES Y POLIZA\\SFTP BANORTE\\2020 SFTP Banorte\\6. JUNIO\\sftp-10062020.zip') # having First.csv zipped file.\n",
    "# zf_jun_11 = zipfile.ZipFile(r'C:\\Users\\Cristian.Aparicio\\Google Drive\\2.-CONCILIACIONES Y POLIZA\\SFTP BANORTE\\2020 SFTP Banorte\\6. JUNIO\\sftp-11062020.zip') # having First.csv zipped file.\n",
    "# zf_jun_12 = zipfile.ZipFile(r'C:\\Users\\Cristian.Aparicio\\Google Drive\\2.-CONCILIACIONES Y POLIZA\\SFTP BANORTE\\2020 SFTP Banorte\\6. JUNIO\\sftp-12062020.zip') # having First.csv zipped file.\n",
    "# zf_jun_13 = zipfile.ZipFile(r'C:\\Users\\Cristian.Aparicio\\Google Drive\\2.-CONCILIACIONES Y POLIZA\\SFTP BANORTE\\2020 SFTP Banorte\\6. JUNIO\\sftp-13062020.zip') # having First.csv zipped file.\n",
    "# zf_jun_14 = zipfile.ZipFile(r'C:\\Users\\Cristian.Aparicio\\Google Drive\\2.-CONCILIACIONES Y POLIZA\\SFTP BANORTE\\2020 SFTP Banorte\\6. JUNIO\\sftp-14062020.zip') # having First.csv zipped file.\n",
    "# zf_jun_15 = zipfile.ZipFile(r'C:\\Users\\Cristian.Aparicio\\Google Drive\\2.-CONCILIACIONES Y POLIZA\\SFTP BANORTE\\2020 SFTP Banorte\\6. JUNIO\\sftp-15062020.zip') # having First.csv zipped file.\n",
    "# zf_jun_16 = zipfile.ZipFile(r'C:\\Users\\Cristian.Aparicio\\Google Drive\\2.-CONCILIACIONES Y POLIZA\\SFTP BANORTE\\2020 SFTP Banorte\\6. JUNIO\\sftp-16062020.zip') # having First.csv zipped file.\n",
    "# zf_jun_17 = zipfile.ZipFile(r'C:\\Users\\Cristian.Aparicio\\Google Drive\\2.-CONCILIACIONES Y POLIZA\\SFTP BANORTE\\2020 SFTP Banorte\\6. JUNIO\\sftp-17062020.zip') # having First.csv zipped file.\n",
    "# zf_jun_18 = zipfile.ZipFile(r'C:\\Users\\Cristian.Aparicio\\Google Drive\\2.-CONCILIACIONES Y POLIZA\\SFTP BANORTE\\2020 SFTP Banorte\\6. JUNIO\\sftp-18062020.zip') # having First.csv zipped file.\n",
    "# zf_jun_19 = zipfile.ZipFile(r'C:\\Users\\Cristian.Aparicio\\Google Drive\\2.-CONCILIACIONES Y POLIZA\\SFTP BANORTE\\2020 SFTP Banorte\\6. JUNIO\\sftp-19062020.zip') # having First.csv zipped file.\n",
    "# zf_jun_20 = zipfile.ZipFile(r'C:\\Users\\Cristian.Aparicio\\Google Drive\\2.-CONCILIACIONES Y POLIZA\\SFTP BANORTE\\2020 SFTP Banorte\\6. JUNIO\\sftp-20062020.zip') # having First.csv zipped file.\n",
    "# zf_jun_21 = zipfile.ZipFile(r'C:\\Users\\Cristian.Aparicio\\Google Drive\\2.-CONCILIACIONES Y POLIZA\\SFTP BANORTE\\2020 SFTP Banorte\\6. JUNIO\\sftp-21062020.zip') # having First.csv zipped file.\n",
    "# zf_jun_22 = zipfile.ZipFile(r'C:\\Users\\Cristian.Aparicio\\Google Drive\\2.-CONCILIACIONES Y POLIZA\\SFTP BANORTE\\2020 SFTP Banorte\\6. JUNIO\\sftp-22062020.zip') # having First.csv zipped file.\n",
    "# zf_jun_23 = zipfile.ZipFile(r'C:\\Users\\Cristian.Aparicio\\Google Drive\\2.-CONCILIACIONES Y POLIZA\\SFTP BANORTE\\2020 SFTP Banorte\\6. JUNIO\\sftp-23062020.zip') # having First.csv zipped file.\n",
    "# zf_jun_24 = zipfile.ZipFile(r'C:\\Users\\Cristian.Aparicio\\Google Drive\\2.-CONCILIACIONES Y POLIZA\\SFTP BANORTE\\2020 SFTP Banorte\\6. JUNIO\\sftp-24062020.zip') # having First.csv zipped file.\n",
    "# zf_jun_25 = zipfile.ZipFile(r'C:\\Users\\Cristian.Aparicio\\Google Drive\\2.-CONCILIACIONES Y POLIZA\\SFTP BANORTE\\2020 SFTP Banorte\\6. JUNIO\\sftp-25062020.zip') # having First.csv zipped file.\n",
    "# zf_jun_26 = zipfile.ZipFile(r'C:\\Users\\Cristian.Aparicio\\Google Drive\\2.-CONCILIACIONES Y POLIZA\\SFTP BANORTE\\2020 SFTP Banorte\\6. JUNIO\\sftp-26062020.zip') # having First.csv zipped file.\n",
    "# zf_jun_27 = zipfile.ZipFile(r'C:\\Users\\Cristian.Aparicio\\Google Drive\\2.-CONCILIACIONES Y POLIZA\\SFTP BANORTE\\2020 SFTP Banorte\\6. JUNIO\\sftp-27062020.zip') # having First.csv zipped file.\n",
    "# zf_jun_28 = zipfile.ZipFile(r'C:\\Users\\Cristian.Aparicio\\Google Drive\\2.-CONCILIACIONES Y POLIZA\\SFTP BANORTE\\2020 SFTP Banorte\\6. JUNIO\\sftp-28062020.zip') # having First.csv zipped file.\n",
    "# zf_jun_29 = zipfile.ZipFile(r'C:\\Users\\Cristian.Aparicio\\Google Drive\\2.-CONCILIACIONES Y POLIZA\\SFTP BANORTE\\2020 SFTP Banorte\\6. JUNIO\\sftp-29062020.zip') # having First.csv zipped file.\n",
    "# zf_jun_30 = zipfile.ZipFile(r'C:\\Users\\Cristian.Aparicio\\Google Drive\\2.-CONCILIACIONES Y POLIZA\\SFTP BANORTE\\2020 SFTP Banorte\\6. JUNIO\\sftp-30062020.zip') # having First.csv zipped file."
   ]
  },
  {
   "cell_type": "code",
   "execution_count": null,
   "metadata": {},
   "outputs": [],
   "source": [
    "# jun_1 = pd.read_csv(zf_jun_1.open('02062020/PAYCLIP_Settlement_02062020_V1.csv'),names=[\"Tipo de Columna\",\"Afiliación\",\"Referencia\",\"Tarjeta\",\"Monto depositado\",\"Comisiones\",\"Fecha txn\",\"Importe Bruto\",\"Tipo Moneda\",\"Tipo txn\",\"Iva\",\"Iva por pago diferido\",\"Iva pagado por cashback\",\"Iva cobrado por cashback\",\"Comisión pagada por cashback\",\"Comisión cobrada por cashback\",\"Comisión por pago diferido\",\"Monto del Cashback\",\"Núm Pagos\",\"Diferimiento Inicial\",\"Tipo de Plan\",\"Código de Autorización\",\"Empty\",\"ECI\",\"Ref. Interbancaria\",\"Empty.1\",\"Empty.2\",\"Empty.3\",\"Empty.4\",\"Ref. de Payworks\",\"Customer_ref1\",\"Customer_ref2\",\"Customer_ref3\",\"Núm de Control\"],dtype={'Importe Bruto':float,'Ref. Interbancaria': object,'Afiliación':object,'Referencia':object,'Tarjeta':object,'Núm Pagos':object,'Diferimiento Inicial':object,'Tipo de Plan':object,'Código de Autorización':object,'ECI':object})\n",
    "# jun_2 = pd.read_csv(zf_jun_2.open('03062020/PAYCLIP_Settlement_03062020_V1.csv'),names=[\"Tipo de Columna\",\"Afiliación\",\"Referencia\",\"Tarjeta\",\"Monto depositado\",\"Comisiones\",\"Fecha txn\",\"Importe Bruto\",\"Tipo Moneda\",\"Tipo txn\",\"Iva\",\"Iva por pago diferido\",\"Iva pagado por cashback\",\"Iva cobrado por cashback\",\"Comisión pagada por cashback\",\"Comisión cobrada por cashback\",\"Comisión por pago diferido\",\"Monto del Cashback\",\"Núm Pagos\",\"Diferimiento Inicial\",\"Tipo de Plan\",\"Código de Autorización\",\"Empty\",\"ECI\",\"Ref. Interbancaria\",\"Empty.1\",\"Empty.2\",\"Empty.3\",\"Empty.4\",\"Ref. de Payworks\",\"Customer_ref1\",\"Customer_ref2\",\"Customer_ref3\",\"Núm de Control\"],dtype={'Importe Bruto':float,'Ref. Interbancaria': object,'Afiliación':object,'Referencia':object,'Tarjeta':object,'Núm Pagos':object,'Diferimiento Inicial':object,'Tipo de Plan':object,'Código de Autorización':object,'ECI':object})\n",
    "# jun_3 = pd.read_csv(zf_jun_3.open('04062020/PAYCLIP_Settlement_04062020_V1.csv'),names=[\"Tipo de Columna\",\"Afiliación\",\"Referencia\",\"Tarjeta\",\"Monto depositado\",\"Comisiones\",\"Fecha txn\",\"Importe Bruto\",\"Tipo Moneda\",\"Tipo txn\",\"Iva\",\"Iva por pago diferido\",\"Iva pagado por cashback\",\"Iva cobrado por cashback\",\"Comisión pagada por cashback\",\"Comisión cobrada por cashback\",\"Comisión por pago diferido\",\"Monto del Cashback\",\"Núm Pagos\",\"Diferimiento Inicial\",\"Tipo de Plan\",\"Código de Autorización\",\"Empty\",\"ECI\",\"Ref. Interbancaria\",\"Empty.1\",\"Empty.2\",\"Empty.3\",\"Empty.4\",\"Ref. de Payworks\",\"Customer_ref1\",\"Customer_ref2\",\"Customer_ref3\",\"Núm de Control\"],dtype={'Importe Bruto':float,'Ref. Interbancaria': object,'Afiliación':object,'Referencia':object,'Tarjeta':object,'Núm Pagos':object,'Diferimiento Inicial':object,'Tipo de Plan':object,'Código de Autorización':object,'ECI':object})\n",
    "# jun_4 = pd.read_csv(zf_jun_4.open('05062020/PAYCLIP_Settlement_05062020_V1.csv'),names=[\"Tipo de Columna\",\"Afiliación\",\"Referencia\",\"Tarjeta\",\"Monto depositado\",\"Comisiones\",\"Fecha txn\",\"Importe Bruto\",\"Tipo Moneda\",\"Tipo txn\",\"Iva\",\"Iva por pago diferido\",\"Iva pagado por cashback\",\"Iva cobrado por cashback\",\"Comisión pagada por cashback\",\"Comisión cobrada por cashback\",\"Comisión por pago diferido\",\"Monto del Cashback\",\"Núm Pagos\",\"Diferimiento Inicial\",\"Tipo de Plan\",\"Código de Autorización\",\"Empty\",\"ECI\",\"Ref. Interbancaria\",\"Empty.1\",\"Empty.2\",\"Empty.3\",\"Empty.4\",\"Ref. de Payworks\",\"Customer_ref1\",\"Customer_ref2\",\"Customer_ref3\",\"Núm de Control\"],dtype={'Importe Bruto':float,'Ref. Interbancaria': object,'Afiliación':object,'Referencia':object,'Tarjeta':object,'Núm Pagos':object,'Diferimiento Inicial':object,'Tipo de Plan':object,'Código de Autorización':object,'ECI':object})\n",
    "# jun_5 = pd.read_csv(zf_jun_5.open('06062020/PAYCLIP_Settlement_06062020_V1.csv'),names=[\"Tipo de Columna\",\"Afiliación\",\"Referencia\",\"Tarjeta\",\"Monto depositado\",\"Comisiones\",\"Fecha txn\",\"Importe Bruto\",\"Tipo Moneda\",\"Tipo txn\",\"Iva\",\"Iva por pago diferido\",\"Iva pagado por cashback\",\"Iva cobrado por cashback\",\"Comisión pagada por cashback\",\"Comisión cobrada por cashback\",\"Comisión por pago diferido\",\"Monto del Cashback\",\"Núm Pagos\",\"Diferimiento Inicial\",\"Tipo de Plan\",\"Código de Autorización\",\"Empty\",\"ECI\",\"Ref. Interbancaria\",\"Empty.1\",\"Empty.2\",\"Empty.3\",\"Empty.4\",\"Ref. de Payworks\",\"Customer_ref1\",\"Customer_ref2\",\"Customer_ref3\",\"Núm de Control\"],dtype={'Importe Bruto':float,'Ref. Interbancaria': object,'Afiliación':object,'Referencia':object,'Tarjeta':object,'Núm Pagos':object,'Diferimiento Inicial':object,'Tipo de Plan':object,'Código de Autorización':object,'ECI':object})\n",
    "# jun_6 = pd.read_csv(zf_jun_6.open('09062020/PAYCLIP_Settlement_09062020_V1.csv'),names=[\"Tipo de Columna\",\"Afiliación\",\"Referencia\",\"Tarjeta\",\"Monto depositado\",\"Comisiones\",\"Fecha txn\",\"Importe Bruto\",\"Tipo Moneda\",\"Tipo txn\",\"Iva\",\"Iva por pago diferido\",\"Iva pagado por cashback\",\"Iva cobrado por cashback\",\"Comisión pagada por cashback\",\"Comisión cobrada por cashback\",\"Comisión por pago diferido\",\"Monto del Cashback\",\"Núm Pagos\",\"Diferimiento Inicial\",\"Tipo de Plan\",\"Código de Autorización\",\"Empty\",\"ECI\",\"Ref. Interbancaria\",\"Empty.1\",\"Empty.2\",\"Empty.3\",\"Empty.4\",\"Ref. de Payworks\",\"Customer_ref1\",\"Customer_ref2\",\"Customer_ref3\",\"Núm de Control\"],dtype={'Importe Bruto':float,'Ref. Interbancaria': object,'Afiliación':object,'Referencia':object,'Tarjeta':object,'Núm Pagos':object,'Diferimiento Inicial':object,'Tipo de Plan':object,'Código de Autorización':object,'ECI':object})\n",
    "# jun_7 = pd.read_csv(zf_jun_7.open('10062020/PAYCLIP_Settlement_10062020_V1.csv'),names=[\"Tipo de Columna\",\"Afiliación\",\"Referencia\",\"Tarjeta\",\"Monto depositado\",\"Comisiones\",\"Fecha txn\",\"Importe Bruto\",\"Tipo Moneda\",\"Tipo txn\",\"Iva\",\"Iva por pago diferido\",\"Iva pagado por cashback\",\"Iva cobrado por cashback\",\"Comisión pagada por cashback\",\"Comisión cobrada por cashback\",\"Comisión por pago diferido\",\"Monto del Cashback\",\"Núm Pagos\",\"Diferimiento Inicial\",\"Tipo de Plan\",\"Código de Autorización\",\"Empty\",\"ECI\",\"Ref. Interbancaria\",\"Empty.1\",\"Empty.2\",\"Empty.3\",\"Empty.4\",\"Ref. de Payworks\",\"Customer_ref1\",\"Customer_ref2\",\"Customer_ref3\",\"Núm de Control\"],dtype={'Importe Bruto':float,'Ref. Interbancaria': object,'Afiliación':object,'Referencia':object,'Tarjeta':object,'Núm Pagos':object,'Diferimiento Inicial':object,'Tipo de Plan':object,'Código de Autorización':object,'ECI':object})\n",
    "# jun_8 = pd.read_csv(zf_jun_8.open('11062020/PAYCLIP_Settlement_11062020_V1.csv'),names=[\"Tipo de Columna\",\"Afiliación\",\"Referencia\",\"Tarjeta\",\"Monto depositado\",\"Comisiones\",\"Fecha txn\",\"Importe Bruto\",\"Tipo Moneda\",\"Tipo txn\",\"Iva\",\"Iva por pago diferido\",\"Iva pagado por cashback\",\"Iva cobrado por cashback\",\"Comisión pagada por cashback\",\"Comisión cobrada por cashback\",\"Comisión por pago diferido\",\"Monto del Cashback\",\"Núm Pagos\",\"Diferimiento Inicial\",\"Tipo de Plan\",\"Código de Autorización\",\"Empty\",\"ECI\",\"Ref. Interbancaria\",\"Empty.1\",\"Empty.2\",\"Empty.3\",\"Empty.4\",\"Ref. de Payworks\",\"Customer_ref1\",\"Customer_ref2\",\"Customer_ref3\",\"Núm de Control\"],dtype={'Importe Bruto':float,'Ref. Interbancaria': object,'Afiliación':object,'Referencia':object,'Tarjeta':object,'Núm Pagos':object,'Diferimiento Inicial':object,'Tipo de Plan':object,'Código de Autorización':object,'ECI':object})\n",
    "# jun_9 = pd.read_csv(zf_jun_9.open('12062020/PAYCLIP_Settlement_12062020_V1.csv'),names=[\"Tipo de Columna\",\"Afiliación\",\"Referencia\",\"Tarjeta\",\"Monto depositado\",\"Comisiones\",\"Fecha txn\",\"Importe Bruto\",\"Tipo Moneda\",\"Tipo txn\",\"Iva\",\"Iva por pago diferido\",\"Iva pagado por cashback\",\"Iva cobrado por cashback\",\"Comisión pagada por cashback\",\"Comisión cobrada por cashback\",\"Comisión por pago diferido\",\"Monto del Cashback\",\"Núm Pagos\",\"Diferimiento Inicial\",\"Tipo de Plan\",\"Código de Autorización\",\"Empty\",\"ECI\",\"Ref. Interbancaria\",\"Empty.1\",\"Empty.2\",\"Empty.3\",\"Empty.4\",\"Ref. de Payworks\",\"Customer_ref1\",\"Customer_ref2\",\"Customer_ref3\",\"Núm de Control\"],dtype={'Importe Bruto':float,'Ref. Interbancaria': object,'Afiliación':object,'Referencia':object,'Tarjeta':object,'Núm Pagos':object,'Diferimiento Inicial':object,'Tipo de Plan':object,'Código de Autorización':object,'ECI':object})\n",
    "# jun_10 = pd.read_csv(zf_jun_10.open('13062020/PAYCLIP_Settlement_13062020_V1.csv'),names=[\"Tipo de Columna\",\"Afiliación\",\"Referencia\",\"Tarjeta\",\"Monto depositado\",\"Comisiones\",\"Fecha txn\",\"Importe Bruto\",\"Tipo Moneda\",\"Tipo txn\",\"Iva\",\"Iva por pago diferido\",\"Iva pagado por cashback\",\"Iva cobrado por cashback\",\"Comisión pagada por cashback\",\"Comisión cobrada por cashback\",\"Comisión por pago diferido\",\"Monto del Cashback\",\"Núm Pagos\",\"Diferimiento Inicial\",\"Tipo de Plan\",\"Código de Autorización\",\"Empty\",\"ECI\",\"Ref. Interbancaria\",\"Empty.1\",\"Empty.2\",\"Empty.3\",\"Empty.4\",\"Ref. de Payworks\",\"Customer_ref1\",\"Customer_ref2\",\"Customer_ref3\",\"Núm de Control\"],dtype={'Importe Bruto':float,'Ref. Interbancaria': object,'Afiliación':object,'Referencia':object,'Tarjeta':object,'Núm Pagos':object,'Diferimiento Inicial':object,'Tipo de Plan':object,'Código de Autorización':object,'ECI':object})\n",
    "# jun_11 = pd.read_csv(zf_jun_11.open('16062020/PAYCLIP_Settlement_16062020_V1.csv'),names=[\"Tipo de Columna\",\"Afiliación\",\"Referencia\",\"Tarjeta\",\"Monto depositado\",\"Comisiones\",\"Fecha txn\",\"Importe Bruto\",\"Tipo Moneda\",\"Tipo txn\",\"Iva\",\"Iva por pago diferido\",\"Iva pagado por cashback\",\"Iva cobrado por cashback\",\"Comisión pagada por cashback\",\"Comisión cobrada por cashback\",\"Comisión por pago diferido\",\"Monto del Cashback\",\"Núm Pagos\",\"Diferimiento Inicial\",\"Tipo de Plan\",\"Código de Autorización\",\"Empty\",\"ECI\",\"Ref. Interbancaria\",\"Empty.1\",\"Empty.2\",\"Empty.3\",\"Empty.4\",\"Ref. de Payworks\",\"Customer_ref1\",\"Customer_ref2\",\"Customer_ref3\",\"Núm de Control\"],dtype={'Importe Bruto':float,'Ref. Interbancaria': object,'Afiliación':object,'Referencia':object,'Tarjeta':object,'Núm Pagos':object,'Diferimiento Inicial':object,'Tipo de Plan':object,'Código de Autorización':object,'ECI':object})\n",
    "# jun_12 = pd.read_csv(zf_jun_12.open('17062020/PAYCLIP_Settlement_17062020_V1.csv'),names=[\"Tipo de Columna\",\"Afiliación\",\"Referencia\",\"Tarjeta\",\"Monto depositado\",\"Comisiones\",\"Fecha txn\",\"Importe Bruto\",\"Tipo Moneda\",\"Tipo txn\",\"Iva\",\"Iva por pago diferido\",\"Iva pagado por cashback\",\"Iva cobrado por cashback\",\"Comisión pagada por cashback\",\"Comisión cobrada por cashback\",\"Comisión por pago diferido\",\"Monto del Cashback\",\"Núm Pagos\",\"Diferimiento Inicial\",\"Tipo de Plan\",\"Código de Autorización\",\"Empty\",\"ECI\",\"Ref. Interbancaria\",\"Empty.1\",\"Empty.2\",\"Empty.3\",\"Empty.4\",\"Ref. de Payworks\",\"Customer_ref1\",\"Customer_ref2\",\"Customer_ref3\",\"Núm de Control\"],dtype={'Importe Bruto':float,'Ref. Interbancaria': object,'Afiliación':object,'Referencia':object,'Tarjeta':object,'Núm Pagos':object,'Diferimiento Inicial':object,'Tipo de Plan':object,'Código de Autorización':object,'ECI':object})\n",
    "# jun_13 = pd.read_csv(zf_jun_13.open('18062020/PAYCLIP_Settlement_18062020_V1.csv'),names=[\"Tipo de Columna\",\"Afiliación\",\"Referencia\",\"Tarjeta\",\"Monto depositado\",\"Comisiones\",\"Fecha txn\",\"Importe Bruto\",\"Tipo Moneda\",\"Tipo txn\",\"Iva\",\"Iva por pago diferido\",\"Iva pagado por cashback\",\"Iva cobrado por cashback\",\"Comisión pagada por cashback\",\"Comisión cobrada por cashback\",\"Comisión por pago diferido\",\"Monto del Cashback\",\"Núm Pagos\",\"Diferimiento Inicial\",\"Tipo de Plan\",\"Código de Autorización\",\"Empty\",\"ECI\",\"Ref. Interbancaria\",\"Empty.1\",\"Empty.2\",\"Empty.3\",\"Empty.4\",\"Ref. de Payworks\",\"Customer_ref1\",\"Customer_ref2\",\"Customer_ref3\",\"Núm de Control\"],dtype={'Importe Bruto':float,'Ref. Interbancaria': object,'Afiliación':object,'Referencia':object,'Tarjeta':object,'Núm Pagos':object,'Diferimiento Inicial':object,'Tipo de Plan':object,'Código de Autorización':object,'ECI':object})\n",
    "# jun_14 = pd.read_csv(zf_jun_14.open('19062020/PAYCLIP_Settlement_19062020_V1.csv'),names=[\"Tipo de Columna\",\"Afiliación\",\"Referencia\",\"Tarjeta\",\"Monto depositado\",\"Comisiones\",\"Fecha txn\",\"Importe Bruto\",\"Tipo Moneda\",\"Tipo txn\",\"Iva\",\"Iva por pago diferido\",\"Iva pagado por cashback\",\"Iva cobrado por cashback\",\"Comisión pagada por cashback\",\"Comisión cobrada por cashback\",\"Comisión por pago diferido\",\"Monto del Cashback\",\"Núm Pagos\",\"Diferimiento Inicial\",\"Tipo de Plan\",\"Código de Autorización\",\"Empty\",\"ECI\",\"Ref. Interbancaria\",\"Empty.1\",\"Empty.2\",\"Empty.3\",\"Empty.4\",\"Ref. de Payworks\",\"Customer_ref1\",\"Customer_ref2\",\"Customer_ref3\",\"Núm de Control\"],dtype={'Importe Bruto':float,'Ref. Interbancaria': object,'Afiliación':object,'Referencia':object,'Tarjeta':object,'Núm Pagos':object,'Diferimiento Inicial':object,'Tipo de Plan':object,'Código de Autorización':object,'ECI':object})\n",
    "# jun_15 = pd.read_csv(zf_jun_15.open('20062020/PAYCLIP_Settlement_20062020_V1.csv'),names=[\"Tipo de Columna\",\"Afiliación\",\"Referencia\",\"Tarjeta\",\"Monto depositado\",\"Comisiones\",\"Fecha txn\",\"Importe Bruto\",\"Tipo Moneda\",\"Tipo txn\",\"Iva\",\"Iva por pago diferido\",\"Iva pagado por cashback\",\"Iva cobrado por cashback\",\"Comisión pagada por cashback\",\"Comisión cobrada por cashback\",\"Comisión por pago diferido\",\"Monto del Cashback\",\"Núm Pagos\",\"Diferimiento Inicial\",\"Tipo de Plan\",\"Código de Autorización\",\"Empty\",\"ECI\",\"Ref. Interbancaria\",\"Empty.1\",\"Empty.2\",\"Empty.3\",\"Empty.4\",\"Ref. de Payworks\",\"Customer_ref1\",\"Customer_ref2\",\"Customer_ref3\",\"Núm de Control\"],dtype={'Importe Bruto':float,'Ref. Interbancaria': object,'Afiliación':object,'Referencia':object,'Tarjeta':object,'Núm Pagos':object,'Diferimiento Inicial':object,'Tipo de Plan':object,'Código de Autorización':object,'ECI':object})\n",
    "# jun_16 = pd.read_csv(zf_jun_16.open('23062020/PAYCLIP_Settlement_23062020_V1.csv'),names=[\"Tipo de Columna\",\"Afiliación\",\"Referencia\",\"Tarjeta\",\"Monto depositado\",\"Comisiones\",\"Fecha txn\",\"Importe Bruto\",\"Tipo Moneda\",\"Tipo txn\",\"Iva\",\"Iva por pago diferido\",\"Iva pagado por cashback\",\"Iva cobrado por cashback\",\"Comisión pagada por cashback\",\"Comisión cobrada por cashback\",\"Comisión por pago diferido\",\"Monto del Cashback\",\"Núm Pagos\",\"Diferimiento Inicial\",\"Tipo de Plan\",\"Código de Autorización\",\"Empty\",\"ECI\",\"Ref. Interbancaria\",\"Empty.1\",\"Empty.2\",\"Empty.3\",\"Empty.4\",\"Ref. de Payworks\",\"Customer_ref1\",\"Customer_ref2\",\"Customer_ref3\",\"Núm de Control\"],dtype={'Importe Bruto':float,'Ref. Interbancaria': object,'Afiliación':object,'Referencia':object,'Tarjeta':object,'Núm Pagos':object,'Diferimiento Inicial':object,'Tipo de Plan':object,'Código de Autorización':object,'ECI':object})\n",
    "# jun_17 = pd.read_csv(zf_jun_17.open('24062020/PAYCLIP_Settlement_24062020_V1.csv'),names=[\"Tipo de Columna\",\"Afiliación\",\"Referencia\",\"Tarjeta\",\"Monto depositado\",\"Comisiones\",\"Fecha txn\",\"Importe Bruto\",\"Tipo Moneda\",\"Tipo txn\",\"Iva\",\"Iva por pago diferido\",\"Iva pagado por cashback\",\"Iva cobrado por cashback\",\"Comisión pagada por cashback\",\"Comisión cobrada por cashback\",\"Comisión por pago diferido\",\"Monto del Cashback\",\"Núm Pagos\",\"Diferimiento Inicial\",\"Tipo de Plan\",\"Código de Autorización\",\"Empty\",\"ECI\",\"Ref. Interbancaria\",\"Empty.1\",\"Empty.2\",\"Empty.3\",\"Empty.4\",\"Ref. de Payworks\",\"Customer_ref1\",\"Customer_ref2\",\"Customer_ref3\",\"Núm de Control\"],dtype={'Importe Bruto':float,'Ref. Interbancaria': object,'Afiliación':object,'Referencia':object,'Tarjeta':object,'Núm Pagos':object,'Diferimiento Inicial':object,'Tipo de Plan':object,'Código de Autorización':object,'ECI':object})\n",
    "# jun_18 = pd.read_csv(zf_jun_18.open('25062020/PAYCLIP_Settlement_25062020_V1.csv'),names=[\"Tipo de Columna\",\"Afiliación\",\"Referencia\",\"Tarjeta\",\"Monto depositado\",\"Comisiones\",\"Fecha txn\",\"Importe Bruto\",\"Tipo Moneda\",\"Tipo txn\",\"Iva\",\"Iva por pago diferido\",\"Iva pagado por cashback\",\"Iva cobrado por cashback\",\"Comisión pagada por cashback\",\"Comisión cobrada por cashback\",\"Comisión por pago diferido\",\"Monto del Cashback\",\"Núm Pagos\",\"Diferimiento Inicial\",\"Tipo de Plan\",\"Código de Autorización\",\"Empty\",\"ECI\",\"Ref. Interbancaria\",\"Empty.1\",\"Empty.2\",\"Empty.3\",\"Empty.4\",\"Ref. de Payworks\",\"Customer_ref1\",\"Customer_ref2\",\"Customer_ref3\",\"Núm de Control\"],dtype={'Importe Bruto':float,'Ref. Interbancaria': object,'Afiliación':object,'Referencia':object,'Tarjeta':object,'Núm Pagos':object,'Diferimiento Inicial':object,'Tipo de Plan':object,'Código de Autorización':object,'ECI':object})\n",
    "# jun_19 = pd.read_csv(zf_jun_19.open('26062020/PAYCLIP_Settlement_26062020_V1.csv'),names=[\"Tipo de Columna\",\"Afiliación\",\"Referencia\",\"Tarjeta\",\"Monto depositado\",\"Comisiones\",\"Fecha txn\",\"Importe Bruto\",\"Tipo Moneda\",\"Tipo txn\",\"Iva\",\"Iva por pago diferido\",\"Iva pagado por cashback\",\"Iva cobrado por cashback\",\"Comisión pagada por cashback\",\"Comisión cobrada por cashback\",\"Comisión por pago diferido\",\"Monto del Cashback\",\"Núm Pagos\",\"Diferimiento Inicial\",\"Tipo de Plan\",\"Código de Autorización\",\"Empty\",\"ECI\",\"Ref. Interbancaria\",\"Empty.1\",\"Empty.2\",\"Empty.3\",\"Empty.4\",\"Ref. de Payworks\",\"Customer_ref1\",\"Customer_ref2\",\"Customer_ref3\",\"Núm de Control\"],dtype={'Importe Bruto':float,'Ref. Interbancaria': object,'Afiliación':object,'Referencia':object,'Tarjeta':object,'Núm Pagos':object,'Diferimiento Inicial':object,'Tipo de Plan':object,'Código de Autorización':object,'ECI':object})\n",
    "# jun_20 = pd.read_csv(zf_jun_20.open('27062020/PAYCLIP_Settlement_27062020_V1.csv'),names=[\"Tipo de Columna\",\"Afiliación\",\"Referencia\",\"Tarjeta\",\"Monto depositado\",\"Comisiones\",\"Fecha txn\",\"Importe Bruto\",\"Tipo Moneda\",\"Tipo txn\",\"Iva\",\"Iva por pago diferido\",\"Iva pagado por cashback\",\"Iva cobrado por cashback\",\"Comisión pagada por cashback\",\"Comisión cobrada por cashback\",\"Comisión por pago diferido\",\"Monto del Cashback\",\"Núm Pagos\",\"Diferimiento Inicial\",\"Tipo de Plan\",\"Código de Autorización\",\"Empty\",\"ECI\",\"Ref. Interbancaria\",\"Empty.1\",\"Empty.2\",\"Empty.3\",\"Empty.4\",\"Ref. de Payworks\",\"Customer_ref1\",\"Customer_ref2\",\"Customer_ref3\",\"Núm de Control\"],dtype={'Importe Bruto':float,'Ref. Interbancaria': object,'Afiliación':object,'Referencia':object,'Tarjeta':object,'Núm Pagos':object,'Diferimiento Inicial':object,'Tipo de Plan':object,'Código de Autorización':object,'ECI':object})\n",
    "# jun_21 = pd.read_csv(zf_jun_21.open('30062020/PAYCLIP_Settlement_30062020_V1.csv'),names=[\"Tipo de Columna\",\"Afiliación\",\"Referencia\",\"Tarjeta\",\"Monto depositado\",\"Comisiones\",\"Fecha txn\",\"Importe Bruto\",\"Tipo Moneda\",\"Tipo txn\",\"Iva\",\"Iva por pago diferido\",\"Iva pagado por cashback\",\"Iva cobrado por cashback\",\"Comisión pagada por cashback\",\"Comisión cobrada por cashback\",\"Comisión por pago diferido\",\"Monto del Cashback\",\"Núm Pagos\",\"Diferimiento Inicial\",\"Tipo de Plan\",\"Código de Autorización\",\"Empty\",\"ECI\",\"Ref. Interbancaria\",\"Empty.1\",\"Empty.2\",\"Empty.3\",\"Empty.4\",\"Ref. de Payworks\",\"Customer_ref1\",\"Customer_ref2\",\"Customer_ref3\",\"Núm de Control\"],dtype={'Importe Bruto':float,'Ref. Interbancaria': object,'Afiliación':object,'Referencia':object,'Tarjeta':object,'Núm Pagos':object,'Diferimiento Inicial':object,'Tipo de Plan':object,'Código de Autorización':object,'ECI':object})\n",
    "# jun_22 = pd.read_csv(zf_jun_22.open('17062020/PAYCLIP_Settlement_17062020_V1.csv'),names=[\"Tipo de Columna\",\"Afiliación\",\"Referencia\",\"Tarjeta\",\"Monto depositado\",\"Comisiones\",\"Fecha txn\",\"Importe Bruto\",\"Tipo Moneda\",\"Tipo txn\",\"Iva\",\"Iva por pago diferido\",\"Iva pagado por cashback\",\"Iva cobrado por cashback\",\"Comisión pagada por cashback\",\"Comisión cobrada por cashback\",\"Comisión por pago diferido\",\"Monto del Cashback\",\"Núm Pagos\",\"Diferimiento Inicial\",\"Tipo de Plan\",\"Código de Autorización\",\"Empty\",\"ECI\",\"Ref. Interbancaria\",\"Empty.1\",\"Empty.2\",\"Empty.3\",\"Empty.4\",\"Ref. de Payworks\",\"Customer_ref1\",\"Customer_ref2\",\"Customer_ref3\",\"Núm de Control\"],dtype={'Importe Bruto':float,'Ref. Interbancaria': object,'Afiliación':object,'Referencia':object,'Tarjeta':object,'Núm Pagos':object,'Diferimiento Inicial':object,'Tipo de Plan':object,'Código de Autorización':object,'ECI':object})\n",
    "# jun_23 = pd.read_csv(zf_jun_23.open('18062020/PAYCLIP_Settlement_18062020_V1.csv'),names=[\"Tipo de Columna\",\"Afiliación\",\"Referencia\",\"Tarjeta\",\"Monto depositado\",\"Comisiones\",\"Fecha txn\",\"Importe Bruto\",\"Tipo Moneda\",\"Tipo txn\",\"Iva\",\"Iva por pago diferido\",\"Iva pagado por cashback\",\"Iva cobrado por cashback\",\"Comisión pagada por cashback\",\"Comisión cobrada por cashback\",\"Comisión por pago diferido\",\"Monto del Cashback\",\"Núm Pagos\",\"Diferimiento Inicial\",\"Tipo de Plan\",\"Código de Autorización\",\"Empty\",\"ECI\",\"Ref. Interbancaria\",\"Empty.1\",\"Empty.2\",\"Empty.3\",\"Empty.4\",\"Ref. de Payworks\",\"Customer_ref1\",\"Customer_ref2\",\"Customer_ref3\",\"Núm de Control\"],dtype={'Importe Bruto':float,'Ref. Interbancaria': object,'Afiliación':object,'Referencia':object,'Tarjeta':object,'Núm Pagos':object,'Diferimiento Inicial':object,'Tipo de Plan':object,'Código de Autorización':object,'ECI':object})\n",
    "# jun_24 = pd.read_csv(zf_jun_24.open('19062020/PAYCLIP_Settlement_19062020_V1.csv'),names=[\"Tipo de Columna\",\"Afiliación\",\"Referencia\",\"Tarjeta\",\"Monto depositado\",\"Comisiones\",\"Fecha txn\",\"Importe Bruto\",\"Tipo Moneda\",\"Tipo txn\",\"Iva\",\"Iva por pago diferido\",\"Iva pagado por cashback\",\"Iva cobrado por cashback\",\"Comisión pagada por cashback\",\"Comisión cobrada por cashback\",\"Comisión por pago diferido\",\"Monto del Cashback\",\"Núm Pagos\",\"Diferimiento Inicial\",\"Tipo de Plan\",\"Código de Autorización\",\"Empty\",\"ECI\",\"Ref. Interbancaria\",\"Empty.1\",\"Empty.2\",\"Empty.3\",\"Empty.4\",\"Ref. de Payworks\",\"Customer_ref1\",\"Customer_ref2\",\"Customer_ref3\",\"Núm de Control\"],dtype={'Importe Bruto':float,'Ref. Interbancaria': object,'Afiliación':object,'Referencia':object,'Tarjeta':object,'Núm Pagos':object,'Diferimiento Inicial':object,'Tipo de Plan':object,'Código de Autorización':object,'ECI':object})\n",
    "# jun_25 = pd.read_csv(zf_jun_25.open('20062020/PAYCLIP_Settlement_20062020_V1.csv'),names=[\"Tipo de Columna\",\"Afiliación\",\"Referencia\",\"Tarjeta\",\"Monto depositado\",\"Comisiones\",\"Fecha txn\",\"Importe Bruto\",\"Tipo Moneda\",\"Tipo txn\",\"Iva\",\"Iva por pago diferido\",\"Iva pagado por cashback\",\"Iva cobrado por cashback\",\"Comisión pagada por cashback\",\"Comisión cobrada por cashback\",\"Comisión por pago diferido\",\"Monto del Cashback\",\"Núm Pagos\",\"Diferimiento Inicial\",\"Tipo de Plan\",\"Código de Autorización\",\"Empty\",\"ECI\",\"Ref. Interbancaria\",\"Empty.1\",\"Empty.2\",\"Empty.3\",\"Empty.4\",\"Ref. de Payworks\",\"Customer_ref1\",\"Customer_ref2\",\"Customer_ref3\",\"Núm de Control\"],dtype={'Importe Bruto':float,'Ref. Interbancaria': object,'Afiliación':object,'Referencia':object,'Tarjeta':object,'Núm Pagos':object,'Diferimiento Inicial':object,'Tipo de Plan':object,'Código de Autorización':object,'ECI':object})\n",
    "# jun_26 = pd.read_csv(zf_jun_23.open('23062020/PAYCLIP_Settlement_23062020_V1.csv'),names=[\"Tipo de Columna\",\"Afiliación\",\"Referencia\",\"Tarjeta\",\"Monto depositado\",\"Comisiones\",\"Fecha txn\",\"Importe Bruto\",\"Tipo Moneda\",\"Tipo txn\",\"Iva\",\"Iva por pago diferido\",\"Iva pagado por cashback\",\"Iva cobrado por cashback\",\"Comisión pagada por cashback\",\"Comisión cobrada por cashback\",\"Comisión por pago diferido\",\"Monto del Cashback\",\"Núm Pagos\",\"Diferimiento Inicial\",\"Tipo de Plan\",\"Código de Autorización\",\"Empty\",\"ECI\",\"Ref. Interbancaria\",\"Empty.1\",\"Empty.2\",\"Empty.3\",\"Empty.4\",\"Ref. de Payworks\",\"Customer_ref1\",\"Customer_ref2\",\"Customer_ref3\",\"Núm de Control\"],dtype={'Importe Bruto':float,'Ref. Interbancaria': object,'Afiliación':object,'Referencia':object,'Tarjeta':object,'Núm Pagos':object,'Diferimiento Inicial':object,'Tipo de Plan':object,'Código de Autorización':object,'ECI':object})\n",
    "# jun_27 = pd.read_csv(zf_jun_24.open('24062020/PAYCLIP_Settlement_24062020_V1.csv'),names=[\"Tipo de Columna\",\"Afiliación\",\"Referencia\",\"Tarjeta\",\"Monto depositado\",\"Comisiones\",\"Fecha txn\",\"Importe Bruto\",\"Tipo Moneda\",\"Tipo txn\",\"Iva\",\"Iva por pago diferido\",\"Iva pagado por cashback\",\"Iva cobrado por cashback\",\"Comisión pagada por cashback\",\"Comisión cobrada por cashback\",\"Comisión por pago diferido\",\"Monto del Cashback\",\"Núm Pagos\",\"Diferimiento Inicial\",\"Tipo de Plan\",\"Código de Autorización\",\"Empty\",\"ECI\",\"Ref. Interbancaria\",\"Empty.1\",\"Empty.2\",\"Empty.3\",\"Empty.4\",\"Ref. de Payworks\",\"Customer_ref1\",\"Customer_ref2\",\"Customer_ref3\",\"Núm de Control\"],dtype={'Importe Bruto':float,'Ref. Interbancaria': object,'Afiliación':object,'Referencia':object,'Tarjeta':object,'Núm Pagos':object,'Diferimiento Inicial':object,'Tipo de Plan':object,'Código de Autorización':object,'ECI':object})\n",
    "# jun_28 = pd.read_csv(zf_jun_25.open('25062020/PAYCLIP_Settlement_25062020_V1.csv'),names=[\"Tipo de Columna\",\"Afiliación\",\"Referencia\",\"Tarjeta\",\"Monto depositado\",\"Comisiones\",\"Fecha txn\",\"Importe Bruto\",\"Tipo Moneda\",\"Tipo txn\",\"Iva\",\"Iva por pago diferido\",\"Iva pagado por cashback\",\"Iva cobrado por cashback\",\"Comisión pagada por cashback\",\"Comisión cobrada por cashback\",\"Comisión por pago diferido\",\"Monto del Cashback\",\"Núm Pagos\",\"Diferimiento Inicial\",\"Tipo de Plan\",\"Código de Autorización\",\"Empty\",\"ECI\",\"Ref. Interbancaria\",\"Empty.1\",\"Empty.2\",\"Empty.3\",\"Empty.4\",\"Ref. de Payworks\",\"Customer_ref1\",\"Customer_ref2\",\"Customer_ref3\",\"Núm de Control\"],dtype={'Importe Bruto':float,'Ref. Interbancaria': object,'Afiliación':object,'Referencia':object,'Tarjeta':object,'Núm Pagos':object,'Diferimiento Inicial':object,'Tipo de Plan':object,'Código de Autorización':object,'ECI':object})\n",
    "# jun_29 = pd.read_csv(zf_jun_26.open('26062020/PAYCLIP_Settlement_26062020_V1.csv'),names=[\"Tipo de Columna\",\"Afiliación\",\"Referencia\",\"Tarjeta\",\"Monto depositado\",\"Comisiones\",\"Fecha txn\",\"Importe Bruto\",\"Tipo Moneda\",\"Tipo txn\",\"Iva\",\"Iva por pago diferido\",\"Iva pagado por cashback\",\"Iva cobrado por cashback\",\"Comisión pagada por cashback\",\"Comisión cobrada por cashback\",\"Comisión por pago diferido\",\"Monto del Cashback\",\"Núm Pagos\",\"Diferimiento Inicial\",\"Tipo de Plan\",\"Código de Autorización\",\"Empty\",\"ECI\",\"Ref. Interbancaria\",\"Empty.1\",\"Empty.2\",\"Empty.3\",\"Empty.4\",\"Ref. de Payworks\",\"Customer_ref1\",\"Customer_ref2\",\"Customer_ref3\",\"Núm de Control\"],dtype={'Importe Bruto':float,'Ref. Interbancaria': object,'Afiliación':object,'Referencia':object,'Tarjeta':object,'Núm Pagos':object,'Diferimiento Inicial':object,'Tipo de Plan':object,'Código de Autorización':object,'ECI':object})\n",
    "# jun_30 = pd.read_csv(zf_jun_27.open('27062020/PAYCLIP_Settlement_27062020_V1.csv'),names=[\"Tipo de Columna\",\"Afiliación\",\"Referencia\",\"Tarjeta\",\"Monto depositado\",\"Comisiones\",\"Fecha txn\",\"Importe Bruto\",\"Tipo Moneda\",\"Tipo txn\",\"Iva\",\"Iva por pago diferido\",\"Iva pagado por cashback\",\"Iva cobrado por cashback\",\"Comisión pagada por cashback\",\"Comisión cobrada por cashback\",\"Comisión por pago diferido\",\"Monto del Cashback\",\"Núm Pagos\",\"Diferimiento Inicial\",\"Tipo de Plan\",\"Código de Autorización\",\"Empty\",\"ECI\",\"Ref. Interbancaria\",\"Empty.1\",\"Empty.2\",\"Empty.3\",\"Empty.4\",\"Ref. de Payworks\",\"Customer_ref1\",\"Customer_ref2\",\"Customer_ref3\",\"Núm de Control\"],dtype={'Importe Bruto':float,'Ref. Interbancaria': object,'Afiliación':object,'Referencia':object,'Tarjeta':object,'Núm Pagos':object,'Diferimiento Inicial':object,'Tipo de Plan':object,'Código de Autorización':object,'ECI':object})\n",
    "# jun_31 = pd.read_csv(zf_jun_30.open('30062020/PAYCLIP_Settlement_30062020_V1.csv'),names=[\"Tipo de Columna\",\"Afiliación\",\"Referencia\",\"Tarjeta\",\"Monto depositado\",\"Comisiones\",\"Fecha txn\",\"Importe Bruto\",\"Tipo Moneda\",\"Tipo txn\",\"Iva\",\"Iva por pago diferido\",\"Iva pagado por cashback\",\"Iva cobrado por cashback\",\"Comisión pagada por cashback\",\"Comisión cobrada por cashback\",\"Comisión por pago diferido\",\"Monto del Cashback\",\"Núm Pagos\",\"Diferimiento Inicial\",\"Tipo de Plan\",\"Código de Autorización\",\"Empty\",\"ECI\",\"Ref. Interbancaria\",\"Empty.1\",\"Empty.2\",\"Empty.3\",\"Empty.4\",\"Ref. de Payworks\",\"Customer_ref1\",\"Customer_ref2\",\"Customer_ref3\",\"Núm de Control\"],dtype={'Importe Bruto':float,'Ref. Interbancaria': object,'Afiliación':object,'Referencia':object,'Tarjeta':object,'Núm Pagos':object,'Diferimiento Inicial':object,'Tipo de Plan':object,'Código de Autorización':object,'ECI':object})\n",
    "\n",
    "# jun_1['SFTP'] = '20200602'\n",
    "# jun_2['SFTP'] = '20200603'\n",
    "# jun_3['SFTP'] = '20200604'\n",
    "# jun_4['SFTP'] = '20200605'\n",
    "# jun_5['SFTP'] = '20200606'\n",
    "# jun_6['SFTP'] = '20200609'\n",
    "# jun_7['SFTP'] = '20200610'\n",
    "# jun_8['SFTP'] = '20200611'\n",
    "# jun_9['SFTP'] = '20200612'\n",
    "# jun_10['SFTP'] = '20200613'\n",
    "# jun_11['SFTP'] = '20200616'\n",
    "# jun_12['SFTP'] = '20200617'\n",
    "# jun_13['SFTP'] = '20200618'\n",
    "# jun_14['SFTP'] = '20200619'\n",
    "# jun_15['SFTP'] = '20200620'\n",
    "# jun_16['SFTP'] = '20200623'\n",
    "# jun_17['SFTP'] = '20200624'\n",
    "# jun_18['SFTP'] = '20200625'\n",
    "# jun_19['SFTP'] = '20200626'\n",
    "# jun_20['SFTP'] = '20200627'\n",
    "# jun_21['SFTP'] = '20200630'"
   ]
  },
  {
   "cell_type": "code",
   "execution_count": null,
   "metadata": {},
   "outputs": [],
   "source": []
  },
  {
   "cell_type": "code",
   "execution_count": null,
   "metadata": {},
   "outputs": [],
   "source": []
  }
 ],
 "metadata": {
  "kernelspec": {
   "display_name": "Python 3 (ipykernel)",
   "language": "python",
   "name": "python3"
  },
  "language_info": {
   "codemirror_mode": {
    "name": "ipython",
    "version": 3
   },
   "file_extension": ".py",
   "mimetype": "text/x-python",
   "name": "python",
   "nbconvert_exporter": "python",
   "pygments_lexer": "ipython3",
   "version": "3.9.18"
  }
 },
 "nbformat": 4,
 "nbformat_minor": 2
}
