{
 "cells": [
  {
   "cell_type": "code",
   "execution_count": 1,
   "metadata": {},
   "outputs": [],
   "source": [
    "import numpy as np\n",
    "import pandas as pd\n",
    "import zipfile\n",
    "from zipfile import ZipFile\n",
    "import glob\n",
    "from openpyxl import load_workbook\n",
    "pd.options.display.float_format = '{:,.2f}'.format"
   ]
  },
  {
   "cell_type": "markdown",
   "metadata": {},
   "source": [
    "# PERIODO"
   ]
  },
  {
   "cell_type": "code",
   "execution_count": 2,
   "metadata": {},
   "outputs": [],
   "source": [
    "start_date = '2024-01-01'\n",
    "final_date = '2024-01-31'"
   ]
  },
  {
   "cell_type": "markdown",
   "metadata": {},
   "source": [
    "# PARAMETRÍA COMISIONES"
   ]
  },
  {
   "cell_type": "code",
   "execution_count": 3,
   "metadata": {},
   "outputs": [
    {
     "data": {
      "text/html": [
       "<div>\n",
       "<style scoped>\n",
       "    .dataframe tbody tr th:only-of-type {\n",
       "        vertical-align: middle;\n",
       "    }\n",
       "\n",
       "    .dataframe tbody tr th {\n",
       "        vertical-align: top;\n",
       "    }\n",
       "\n",
       "    .dataframe thead th {\n",
       "        text-align: right;\n",
       "    }\n",
       "</style>\n",
       "<table border=\"1\" class=\"dataframe\">\n",
       "  <thead>\n",
       "    <tr style=\"text-align: right;\">\n",
       "      <th></th>\n",
       "      <th>motivo_del_cambio</th>\n",
       "      <th>naturaleza</th>\n",
       "      <th>status</th>\n",
       "      <th>inicio</th>\n",
       "      <th>fin</th>\n",
       "      <th>adquiriente</th>\n",
       "      <th>procesador</th>\n",
       "      <th>operativa</th>\n",
       "      <th>emisor</th>\n",
       "      <th>fuente</th>\n",
       "      <th>...</th>\n",
       "      <th>comision_monto</th>\n",
       "      <th>proceso</th>\n",
       "      <th>comentario</th>\n",
       "      <th>claves_comision</th>\n",
       "      <th>status_clip</th>\n",
       "      <th>comision_porcentaje_mdr</th>\n",
       "      <th>comision_porcentaje_msi</th>\n",
       "      <th>affiliation_type</th>\n",
       "      <th>comision_porcentaje_final</th>\n",
       "      <th>index_comisiones</th>\n",
       "    </tr>\n",
       "  </thead>\n",
       "  <tbody>\n",
       "    <tr>\n",
       "      <th>0</th>\n",
       "      <td>Null</td>\n",
       "      <td>Fija</td>\n",
       "      <td>VIGENTE</td>\n",
       "      <td>2018-01-01</td>\n",
       "      <td>2999-12-31</td>\n",
       "      <td>AMEX</td>\n",
       "      <td>AMEX</td>\n",
       "      <td>TODAS</td>\n",
       "      <td>AMEX</td>\n",
       "      <td>EPA</td>\n",
       "      <td>...</td>\n",
       "      <td>0.00</td>\n",
       "      <td>Agregador</td>\n",
       "      <td>Costo de txn Amex Agregador General</td>\n",
       "      <td>NaN</td>\n",
       "      <td>1</td>\n",
       "      <td>-0.02</td>\n",
       "      <td>0.00</td>\n",
       "      <td>AGGREGATOR</td>\n",
       "      <td>-0.02</td>\n",
       "      <td>AGGREGATOR_0</td>\n",
       "    </tr>\n",
       "    <tr>\n",
       "      <th>1</th>\n",
       "      <td>NaN</td>\n",
       "      <td>TEMPORAL</td>\n",
       "      <td>TERMINADA</td>\n",
       "      <td>2020-04-15</td>\n",
       "      <td>2020-06-30</td>\n",
       "      <td>AMEX</td>\n",
       "      <td>AMEX</td>\n",
       "      <td>TODAS</td>\n",
       "      <td>AMEX</td>\n",
       "      <td>EPA</td>\n",
       "      <td>...</td>\n",
       "      <td>0.00</td>\n",
       "      <td>Agregador</td>\n",
       "      <td>Costo por Sobre tasa por MSI adicional a la tasa</td>\n",
       "      <td>NaN</td>\n",
       "      <td>1</td>\n",
       "      <td>-0.02</td>\n",
       "      <td>-0.03</td>\n",
       "      <td>AGGREGATOR</td>\n",
       "      <td>-0.05</td>\n",
       "      <td>AGGREGATOR_3</td>\n",
       "    </tr>\n",
       "    <tr>\n",
       "      <th>2</th>\n",
       "      <td>NaN</td>\n",
       "      <td>TEMPORAL</td>\n",
       "      <td>TERMINADA</td>\n",
       "      <td>2020-04-15</td>\n",
       "      <td>2020-06-30</td>\n",
       "      <td>AMEX</td>\n",
       "      <td>AMEX</td>\n",
       "      <td>TODAS</td>\n",
       "      <td>AMEX</td>\n",
       "      <td>EPA</td>\n",
       "      <td>...</td>\n",
       "      <td>0.00</td>\n",
       "      <td>Agregador</td>\n",
       "      <td>Costo por el uso de MSI adicional a la tasa y ...</td>\n",
       "      <td>NaN</td>\n",
       "      <td>1</td>\n",
       "      <td>-0.02</td>\n",
       "      <td>-0.00</td>\n",
       "      <td>AGGREGATOR</td>\n",
       "      <td>-0.03</td>\n",
       "      <td>AGGREGATOR_3</td>\n",
       "    </tr>\n",
       "    <tr>\n",
       "      <th>3</th>\n",
       "      <td>NaN</td>\n",
       "      <td>TEMPORAL</td>\n",
       "      <td>TERMINADA</td>\n",
       "      <td>2020-04-15</td>\n",
       "      <td>2020-06-30</td>\n",
       "      <td>AMEX</td>\n",
       "      <td>AMEX</td>\n",
       "      <td>TODAS</td>\n",
       "      <td>AMEX</td>\n",
       "      <td>EPA</td>\n",
       "      <td>...</td>\n",
       "      <td>0.00</td>\n",
       "      <td>Agregador</td>\n",
       "      <td>Costo por Sobre tasa por MSI adicional a la tasa</td>\n",
       "      <td>NaN</td>\n",
       "      <td>1</td>\n",
       "      <td>-0.02</td>\n",
       "      <td>-0.04</td>\n",
       "      <td>AGGREGATOR</td>\n",
       "      <td>-0.07</td>\n",
       "      <td>AGGREGATOR_6</td>\n",
       "    </tr>\n",
       "    <tr>\n",
       "      <th>4</th>\n",
       "      <td>NaN</td>\n",
       "      <td>TEMPORAL</td>\n",
       "      <td>TERMINADA</td>\n",
       "      <td>2020-04-15</td>\n",
       "      <td>2020-06-30</td>\n",
       "      <td>AMEX</td>\n",
       "      <td>AMEX</td>\n",
       "      <td>TODAS</td>\n",
       "      <td>AMEX</td>\n",
       "      <td>EPA</td>\n",
       "      <td>...</td>\n",
       "      <td>0.00</td>\n",
       "      <td>Agregador</td>\n",
       "      <td>Costo por el uso de MSI adicional a la tasa y ...</td>\n",
       "      <td>NaN</td>\n",
       "      <td>1</td>\n",
       "      <td>-0.02</td>\n",
       "      <td>-0.00</td>\n",
       "      <td>AGGREGATOR</td>\n",
       "      <td>-0.03</td>\n",
       "      <td>AGGREGATOR_6</td>\n",
       "    </tr>\n",
       "  </tbody>\n",
       "</table>\n",
       "<p>5 rows × 29 columns</p>\n",
       "</div>"
      ],
      "text/plain": [
       "  motivo_del_cambio naturaleza     status     inicio         fin adquiriente  \\\n",
       "0              Null       Fija    VIGENTE 2018-01-01  2999-12-31        AMEX   \n",
       "1               NaN   TEMPORAL  TERMINADA 2020-04-15  2020-06-30        AMEX   \n",
       "2               NaN   TEMPORAL  TERMINADA 2020-04-15  2020-06-30        AMEX   \n",
       "3               NaN   TEMPORAL  TERMINADA 2020-04-15  2020-06-30        AMEX   \n",
       "4               NaN   TEMPORAL  TERMINADA 2020-04-15  2020-06-30        AMEX   \n",
       "\n",
       "  procesador operativa emisor fuente  ... comision_monto    proceso  \\\n",
       "0       AMEX     TODAS   AMEX    EPA  ...           0.00  Agregador   \n",
       "1       AMEX     TODAS   AMEX    EPA  ...           0.00  Agregador   \n",
       "2       AMEX     TODAS   AMEX    EPA  ...           0.00  Agregador   \n",
       "3       AMEX     TODAS   AMEX    EPA  ...           0.00  Agregador   \n",
       "4       AMEX     TODAS   AMEX    EPA  ...           0.00  Agregador   \n",
       "\n",
       "                                          comentario claves_comision  \\\n",
       "0                Costo de txn Amex Agregador General             NaN   \n",
       "1   Costo por Sobre tasa por MSI adicional a la tasa             NaN   \n",
       "2  Costo por el uso de MSI adicional a la tasa y ...             NaN   \n",
       "3   Costo por Sobre tasa por MSI adicional a la tasa             NaN   \n",
       "4  Costo por el uso de MSI adicional a la tasa y ...             NaN   \n",
       "\n",
       "  status_clip comision_porcentaje_mdr  comision_porcentaje_msi  \\\n",
       "0           1                   -0.02                     0.00   \n",
       "1           1                   -0.02                    -0.03   \n",
       "2           1                   -0.02                    -0.00   \n",
       "3           1                   -0.02                    -0.04   \n",
       "4           1                   -0.02                    -0.00   \n",
       "\n",
       "   affiliation_type  comision_porcentaje_final  index_comisiones  \n",
       "0        AGGREGATOR                      -0.02      AGGREGATOR_0  \n",
       "1        AGGREGATOR                      -0.05      AGGREGATOR_3  \n",
       "2        AGGREGATOR                      -0.03      AGGREGATOR_3  \n",
       "3        AGGREGATOR                      -0.07      AGGREGATOR_6  \n",
       "4        AGGREGATOR                      -0.03      AGGREGATOR_6  \n",
       "\n",
       "[5 rows x 29 columns]"
      ]
     },
     "execution_count": 3,
     "metadata": {},
     "output_type": "execute_result"
    }
   ],
   "source": [
    "parametria_comisiones = pd.read_csv(r'G:\\My Drive\\RESPALDO-PC\\AMEX\\PARAMETRIA AMEX.csv',dtype={'meses_msi':object,\n",
    "                                                                                              'comision_porcentaje':float})\n",
    "parametria_comisiones['inicio'] = pd.to_datetime(parametria_comisiones['inicio'])\n",
    "#parametria_comisiones['fin'] = pd.to_datetime(parametria_comisiones['fin'])\n",
    "parametria_comisiones['comision_porcentaje_mdr'] = -0.0240\n",
    "parametria_comisiones['comision_porcentaje_msi'] = -parametria_comisiones['comision_porcentaje']/100\n",
    "parametria_comisiones.loc[parametria_comisiones['fuente'].str.contains('EPA'), \"affiliation_type\"] = 'AGGREGATOR'\n",
    "parametria_comisiones.loc[parametria_comisiones['fuente'].str.contains('GRRCN'), \"affiliation_type\"] = 'OPTBLUE'\n",
    "parametria_comisiones.loc[parametria_comisiones['meses_msi'].str.contains('99'),'meses_msi'] = '0'\n",
    "parametria_comisiones.loc[parametria_comisiones['meses_msi'].str.contains('0'),'comision_porcentaje_msi'] = 0\n",
    "parametria_comisiones['comision_porcentaje_final'] = (parametria_comisiones['comision_porcentaje_mdr'] +\n",
    "                                                      parametria_comisiones['comision_porcentaje_msi'])\n",
    "parametria_comisiones['index_comisiones'] = (parametria_comisiones['affiliation_type'].astype(str).replace(' ', '',regex=True)+'_'+\n",
    "                                             parametria_comisiones['meses_msi'].astype(str).replace(' ', '',regex=True))\n",
    "\n",
    "parametria_comisiones.head()"
   ]
  },
  {
   "cell_type": "code",
   "execution_count": 4,
   "metadata": {},
   "outputs": [
    {
     "data": {
      "text/plain": [
       "(55, 29)"
      ]
     },
     "execution_count": 4,
     "metadata": {},
     "output_type": "execute_result"
    }
   ],
   "source": [
    "parametria_comisiones.shape"
   ]
  },
  {
   "cell_type": "code",
   "execution_count": 5,
   "metadata": {},
   "outputs": [
    {
     "data": {
      "text/plain": [
       "array(['EPA', 'GRRCN'], dtype=object)"
      ]
     },
     "execution_count": 5,
     "metadata": {},
     "output_type": "execute_result"
    }
   ],
   "source": [
    "parametria_comisiones['fuente'].unique()"
   ]
  },
  {
   "cell_type": "code",
   "execution_count": 6,
   "metadata": {},
   "outputs": [
    {
     "data": {
      "text/plain": [
       "array(['0', '3', '6', '9', '12', '18', '15'], dtype=object)"
      ]
     },
     "execution_count": 6,
     "metadata": {},
     "output_type": "execute_result"
    }
   ],
   "source": [
    "parametria_comisiones['meses_msi'].unique()"
   ]
  },
  {
   "cell_type": "markdown",
   "metadata": {},
   "source": [
    "# COMISIONES EPA COBRADAS"
   ]
  },
  {
   "cell_type": "code",
   "execution_count": 7,
   "metadata": {},
   "outputs": [
    {
     "data": {
      "text/html": [
       "<div>\n",
       "<style scoped>\n",
       "    .dataframe tbody tr th:only-of-type {\n",
       "        vertical-align: middle;\n",
       "    }\n",
       "\n",
       "    .dataframe tbody tr th {\n",
       "        vertical-align: top;\n",
       "    }\n",
       "\n",
       "    .dataframe thead th {\n",
       "        text-align: right;\n",
       "    }\n",
       "</style>\n",
       "<table border=\"1\" class=\"dataframe\">\n",
       "  <thead>\n",
       "    <tr style=\"text-align: right;\">\n",
       "      <th></th>\n",
       "      <th>motivo_del_cambio</th>\n",
       "      <th>naturaleza</th>\n",
       "      <th>status</th>\n",
       "      <th>inicio</th>\n",
       "      <th>fin</th>\n",
       "      <th>adquiriente</th>\n",
       "      <th>procesador</th>\n",
       "      <th>operativa</th>\n",
       "      <th>emisor</th>\n",
       "      <th>fuente</th>\n",
       "      <th>...</th>\n",
       "      <th>comision_monto</th>\n",
       "      <th>proceso</th>\n",
       "      <th>comentario</th>\n",
       "      <th>claves_comision</th>\n",
       "      <th>status_clip</th>\n",
       "      <th>comision_porcentaje_mdr</th>\n",
       "      <th>comision_porcentaje_msi</th>\n",
       "      <th>affiliation_type</th>\n",
       "      <th>comision_porcentaje_final</th>\n",
       "      <th>index_comisiones</th>\n",
       "    </tr>\n",
       "  </thead>\n",
       "  <tbody>\n",
       "    <tr>\n",
       "      <th>0</th>\n",
       "      <td>Null</td>\n",
       "      <td>Fija</td>\n",
       "      <td>VIGENTE</td>\n",
       "      <td>2018-01-01</td>\n",
       "      <td>2999-12-31</td>\n",
       "      <td>AMEX</td>\n",
       "      <td>AMEX</td>\n",
       "      <td>TODAS</td>\n",
       "      <td>AMEX</td>\n",
       "      <td>EPA</td>\n",
       "      <td>...</td>\n",
       "      <td>0.00</td>\n",
       "      <td>Agregador</td>\n",
       "      <td>Costo de txn Amex Agregador General</td>\n",
       "      <td>NaN</td>\n",
       "      <td>1</td>\n",
       "      <td>-0.02</td>\n",
       "      <td>0.00</td>\n",
       "      <td>AGGREGATOR</td>\n",
       "      <td>-0.02</td>\n",
       "      <td>AGGREGATOR_0</td>\n",
       "    </tr>\n",
       "    <tr>\n",
       "      <th>1</th>\n",
       "      <td>NaN</td>\n",
       "      <td>TEMPORAL</td>\n",
       "      <td>TERMINADA</td>\n",
       "      <td>2020-04-15</td>\n",
       "      <td>2020-06-30</td>\n",
       "      <td>AMEX</td>\n",
       "      <td>AMEX</td>\n",
       "      <td>TODAS</td>\n",
       "      <td>AMEX</td>\n",
       "      <td>EPA</td>\n",
       "      <td>...</td>\n",
       "      <td>0.00</td>\n",
       "      <td>Agregador</td>\n",
       "      <td>Costo por Sobre tasa por MSI adicional a la tasa</td>\n",
       "      <td>NaN</td>\n",
       "      <td>1</td>\n",
       "      <td>-0.02</td>\n",
       "      <td>-0.03</td>\n",
       "      <td>AGGREGATOR</td>\n",
       "      <td>-0.05</td>\n",
       "      <td>AGGREGATOR_3</td>\n",
       "    </tr>\n",
       "    <tr>\n",
       "      <th>3</th>\n",
       "      <td>NaN</td>\n",
       "      <td>TEMPORAL</td>\n",
       "      <td>TERMINADA</td>\n",
       "      <td>2020-04-15</td>\n",
       "      <td>2020-06-30</td>\n",
       "      <td>AMEX</td>\n",
       "      <td>AMEX</td>\n",
       "      <td>TODAS</td>\n",
       "      <td>AMEX</td>\n",
       "      <td>EPA</td>\n",
       "      <td>...</td>\n",
       "      <td>0.00</td>\n",
       "      <td>Agregador</td>\n",
       "      <td>Costo por Sobre tasa por MSI adicional a la tasa</td>\n",
       "      <td>NaN</td>\n",
       "      <td>1</td>\n",
       "      <td>-0.02</td>\n",
       "      <td>-0.04</td>\n",
       "      <td>AGGREGATOR</td>\n",
       "      <td>-0.07</td>\n",
       "      <td>AGGREGATOR_6</td>\n",
       "    </tr>\n",
       "    <tr>\n",
       "      <th>5</th>\n",
       "      <td>NaN</td>\n",
       "      <td>TEMPORAL</td>\n",
       "      <td>TERMINADA</td>\n",
       "      <td>2020-04-15</td>\n",
       "      <td>2020-06-30</td>\n",
       "      <td>AMEX</td>\n",
       "      <td>AMEX</td>\n",
       "      <td>TODAS</td>\n",
       "      <td>AMEX</td>\n",
       "      <td>EPA</td>\n",
       "      <td>...</td>\n",
       "      <td>0.00</td>\n",
       "      <td>Agregador</td>\n",
       "      <td>Costo por Sobre tasa por MSI adicional a la tasa</td>\n",
       "      <td>NaN</td>\n",
       "      <td>1</td>\n",
       "      <td>-0.02</td>\n",
       "      <td>-0.07</td>\n",
       "      <td>AGGREGATOR</td>\n",
       "      <td>-0.09</td>\n",
       "      <td>AGGREGATOR_9</td>\n",
       "    </tr>\n",
       "    <tr>\n",
       "      <th>7</th>\n",
       "      <td>NaN</td>\n",
       "      <td>TEMPORAL</td>\n",
       "      <td>TERMINADA</td>\n",
       "      <td>2020-04-15</td>\n",
       "      <td>2020-06-30</td>\n",
       "      <td>AMEX</td>\n",
       "      <td>AMEX</td>\n",
       "      <td>TODAS</td>\n",
       "      <td>AMEX</td>\n",
       "      <td>EPA</td>\n",
       "      <td>...</td>\n",
       "      <td>0.00</td>\n",
       "      <td>Agregador</td>\n",
       "      <td>Costo por Sobre tasa por MSI adicional a la tasa</td>\n",
       "      <td>NaN</td>\n",
       "      <td>1</td>\n",
       "      <td>-0.02</td>\n",
       "      <td>-0.08</td>\n",
       "      <td>AGGREGATOR</td>\n",
       "      <td>-0.11</td>\n",
       "      <td>AGGREGATOR_12</td>\n",
       "    </tr>\n",
       "    <tr>\n",
       "      <th>9</th>\n",
       "      <td>NaN</td>\n",
       "      <td>TEMPORAL</td>\n",
       "      <td>TERMINADA</td>\n",
       "      <td>2020-04-15</td>\n",
       "      <td>2020-06-30</td>\n",
       "      <td>AMEX</td>\n",
       "      <td>AMEX</td>\n",
       "      <td>TODAS</td>\n",
       "      <td>AMEX</td>\n",
       "      <td>EPA</td>\n",
       "      <td>...</td>\n",
       "      <td>0.00</td>\n",
       "      <td>Agregador</td>\n",
       "      <td>Costo por Sobre tasa por MSI adicional a la tasa</td>\n",
       "      <td>NaN</td>\n",
       "      <td>1</td>\n",
       "      <td>-0.02</td>\n",
       "      <td>-0.12</td>\n",
       "      <td>AGGREGATOR</td>\n",
       "      <td>-0.14</td>\n",
       "      <td>AGGREGATOR_18</td>\n",
       "    </tr>\n",
       "  </tbody>\n",
       "</table>\n",
       "<p>6 rows × 29 columns</p>\n",
       "</div>"
      ],
      "text/plain": [
       "  motivo_del_cambio naturaleza     status     inicio         fin adquiriente  \\\n",
       "0              Null       Fija    VIGENTE 2018-01-01  2999-12-31        AMEX   \n",
       "1               NaN   TEMPORAL  TERMINADA 2020-04-15  2020-06-30        AMEX   \n",
       "3               NaN   TEMPORAL  TERMINADA 2020-04-15  2020-06-30        AMEX   \n",
       "5               NaN   TEMPORAL  TERMINADA 2020-04-15  2020-06-30        AMEX   \n",
       "7               NaN   TEMPORAL  TERMINADA 2020-04-15  2020-06-30        AMEX   \n",
       "9               NaN   TEMPORAL  TERMINADA 2020-04-15  2020-06-30        AMEX   \n",
       "\n",
       "  procesador operativa emisor fuente  ... comision_monto    proceso  \\\n",
       "0       AMEX     TODAS   AMEX    EPA  ...           0.00  Agregador   \n",
       "1       AMEX     TODAS   AMEX    EPA  ...           0.00  Agregador   \n",
       "3       AMEX     TODAS   AMEX    EPA  ...           0.00  Agregador   \n",
       "5       AMEX     TODAS   AMEX    EPA  ...           0.00  Agregador   \n",
       "7       AMEX     TODAS   AMEX    EPA  ...           0.00  Agregador   \n",
       "9       AMEX     TODAS   AMEX    EPA  ...           0.00  Agregador   \n",
       "\n",
       "                                         comentario claves_comision  \\\n",
       "0               Costo de txn Amex Agregador General             NaN   \n",
       "1  Costo por Sobre tasa por MSI adicional a la tasa             NaN   \n",
       "3  Costo por Sobre tasa por MSI adicional a la tasa             NaN   \n",
       "5  Costo por Sobre tasa por MSI adicional a la tasa             NaN   \n",
       "7  Costo por Sobre tasa por MSI adicional a la tasa             NaN   \n",
       "9  Costo por Sobre tasa por MSI adicional a la tasa             NaN   \n",
       "\n",
       "  status_clip comision_porcentaje_mdr  comision_porcentaje_msi  \\\n",
       "0           1                   -0.02                     0.00   \n",
       "1           1                   -0.02                    -0.03   \n",
       "3           1                   -0.02                    -0.04   \n",
       "5           1                   -0.02                    -0.07   \n",
       "7           1                   -0.02                    -0.08   \n",
       "9           1                   -0.02                    -0.12   \n",
       "\n",
       "   affiliation_type  comision_porcentaje_final  index_comisiones  \n",
       "0        AGGREGATOR                      -0.02      AGGREGATOR_0  \n",
       "1        AGGREGATOR                      -0.05      AGGREGATOR_3  \n",
       "3        AGGREGATOR                      -0.07      AGGREGATOR_6  \n",
       "5        AGGREGATOR                      -0.09      AGGREGATOR_9  \n",
       "7        AGGREGATOR                      -0.11     AGGREGATOR_12  \n",
       "9        AGGREGATOR                      -0.14     AGGREGATOR_18  \n",
       "\n",
       "[6 rows x 29 columns]"
      ]
     },
     "execution_count": 7,
     "metadata": {},
     "output_type": "execute_result"
    }
   ],
   "source": [
    "comisiones_epa = parametria_comisiones[(parametria_comisiones['fuente'] == 'EPA') &\n",
    "                                       ((parametria_comisiones['status'].str.contains('TERMINADA')) & (parametria_comisiones['comentario'].str.contains('Sobre tasa'))) |\n",
    "                                       (parametria_comisiones['comentario'].str.contains('Agregador General'))]\n",
    "comisiones_epa"
   ]
  },
  {
   "cell_type": "code",
   "execution_count": 8,
   "metadata": {},
   "outputs": [
    {
     "data": {
      "text/plain": [
       "(6, 29)"
      ]
     },
     "execution_count": 8,
     "metadata": {},
     "output_type": "execute_result"
    }
   ],
   "source": [
    "comisiones_epa.shape"
   ]
  },
  {
   "cell_type": "markdown",
   "metadata": {},
   "source": [
    "# DB"
   ]
  },
  {
   "cell_type": "code",
   "execution_count": 9,
   "metadata": {},
   "outputs": [],
   "source": [
    "# db_1 = pd.read_csv(r'G:\\My Drive\\RESPALDO-PC\\AMEX\\HISTORICO QUERIES\\2021\\AMEX SEPTIEMBRE 2021.csv'\n",
    "#                    ,dtype={'status_code':object,'msi':object,'clave_autorizacion':object,'bin':object\n",
    "#                            ,'last4':object,'order_id':object,'affiliation':object,'sub_affiliation':object\n",
    "#                            ,'mcc':object})\n",
    "# db_2 = pd.read_csv(r'G:\\My Drive\\RESPALDO-PC\\AMEX\\HISTORICO QUERIES\\2021\\AMEX AGOSTO 2021.csv'\n",
    "#                    ,dtype={'status_code':object,'msi':object,'clave_autorizacion':object,'bin':object\n",
    "#                            ,'last4':object,'order_id':object,'affiliation':object,'sub_affiliation':object\n",
    "#                            ,'mcc':object})\n",
    "db_1 = pd.read_csv(r'G:\\My Drive\\RESPALDO-PC\\AMEX\\HISTORICO QUERIES\\2024\\AMEX ENERO 2024.csv'\n",
    "                   ,dtype={'STATUS_CODE':object,'MSI':object,'CLAVE_AUTORIZACION':object,'BIN':object\n",
    "                           ,'LAST4':object,'ORDER_ID':object,'AFFILIATION':object,'SUB_AFFILIATION':object\n",
    "                           ,'MCC':object})\n",
    "# db_2 = pd.read_csv(r'G:\\My Drive\\RESPALDO-PC\\AMEX\\HISTORICO QUERIES\\2021\\QUERIES CONSOLIDADO\\AMEX OCTUBRE 2021.csv'\n",
    "#                    ,dtype={'STATUS_CODE':object,'MSI':object,'CLAVE_AUTORIZACION':object,'BIN':object\n",
    "#                            ,'LAST4':object,'ORDER_ID':object,'AFFILIATION':object,'SUB_AFFILIATION':object\n",
    "#                            ,'MCC':object})\n",
    "# db_3 = pd.read_csv(r'G:\\My Drive\\RESPALDO-PC\\AMEX\\HISTORICO QUERIES\\2021\\QUERIES CONSOLIDADO\\AMEX JUNIO-JULIO 2021.csv'\n",
    "#                    ,dtype={'STATUS_CODE':object,'MSI':object,'CLAVE_AUTORIZACION':object,'BIN':object\n",
    "#                            ,'LAST4':object,'ORDER_ID':object,'AFFILIATION':object,'SUB_AFFILIATION':object\n",
    "#                            ,'MCC':object})\n",
    "# db_4 = pd.read_csv(r'G:\\My Drive\\RESPALDO-PC\\AMEX\\HISTORICO QUERIES\\2021\\QUERIES CONSOLIDADO\\AMEX AGOSTO-SEPTIEMBRE 2021.csv'\n",
    "#                    ,dtype={'STATUS_CODE':object,'MSI':object,'CLAVE_AUTORIZACION':object,'BIN':object\n",
    "#                            ,'LAST4':object,'ORDER_ID':object,'AFFILIATION':object,'SUB_AFFILIATION':object\n",
    "#                            ,'MCC':object})"
   ]
  },
  {
   "cell_type": "code",
   "execution_count": 10,
   "metadata": {},
   "outputs": [
    {
     "data": {
      "text/html": [
       "<div>\n",
       "<style scoped>\n",
       "    .dataframe tbody tr th:only-of-type {\n",
       "        vertical-align: middle;\n",
       "    }\n",
       "\n",
       "    .dataframe tbody tr th {\n",
       "        vertical-align: top;\n",
       "    }\n",
       "\n",
       "    .dataframe thead th {\n",
       "        text-align: right;\n",
       "    }\n",
       "</style>\n",
       "<table border=\"1\" class=\"dataframe\">\n",
       "  <thead>\n",
       "    <tr style=\"text-align: right;\">\n",
       "      <th></th>\n",
       "      <th>merchant_id</th>\n",
       "      <th>transaction_id</th>\n",
       "      <th>order_id</th>\n",
       "      <th>clave_autorizacion</th>\n",
       "      <th>affiliation</th>\n",
       "      <th>affiliation_type</th>\n",
       "      <th>sub_affiliation</th>\n",
       "      <th>mcc</th>\n",
       "      <th>date_transaction</th>\n",
       "      <th>created_at</th>\n",
       "      <th>...</th>\n",
       "      <th>decline_code</th>\n",
       "      <th>msi</th>\n",
       "      <th>device_id</th>\n",
       "      <th>clip_reader</th>\n",
       "      <th>status_msg</th>\n",
       "      <th>issuer</th>\n",
       "      <th>brand</th>\n",
       "      <th>INDEX_TOTAL</th>\n",
       "      <th>INDEX_PARCIAL</th>\n",
       "      <th>index_comisiones</th>\n",
       "    </tr>\n",
       "  </thead>\n",
       "  <tbody>\n",
       "    <tr>\n",
       "      <th>0</th>\n",
       "      <td>c090de31-388f-41c9-9bf0-5ae7adf17975</td>\n",
       "      <td>5725dcb9-4054-4cb0-94ff-a9be5b970b4b</td>\n",
       "      <td>S0CKBKMHDQPP</td>\n",
       "      <td>010339200576064</td>\n",
       "      <td>8138464136</td>\n",
       "      <td>OPTBLUE</td>\n",
       "      <td>710910</td>\n",
       "      <td>5812</td>\n",
       "      <td>2023-12-25</td>\n",
       "      <td>2023-12-25T06:05:50Z</td>\n",
       "      <td>...</td>\n",
       "      <td>NaN</td>\n",
       "      <td>0.00000</td>\n",
       "      <td>P5220314003479</td>\n",
       "      <td>Clip Classic</td>\n",
       "      <td>Paid</td>\n",
       "      <td>AMEX</td>\n",
       "      <td>American Express</td>\n",
       "      <td>379794_1004_S0CKBKMHDQPP_380.0</td>\n",
       "      <td>379794_1004_010339200576064_380.0</td>\n",
       "      <td>OPTBLUE_0</td>\n",
       "    </tr>\n",
       "    <tr>\n",
       "      <th>1</th>\n",
       "      <td>4a9c6399-ae89-4b68-9607-cbd05f43e110</td>\n",
       "      <td>dcac4d6b-cd68-40c6-af7f-1999753fe76c</td>\n",
       "      <td>Z5MDOPDNOIPD</td>\n",
       "      <td>010339208448068</td>\n",
       "      <td>8138464136</td>\n",
       "      <td>OPTBLUE</td>\n",
       "      <td>1908592</td>\n",
       "      <td>5813</td>\n",
       "      <td>2023-12-25</td>\n",
       "      <td>2023-12-25T06:06:06Z</td>\n",
       "      <td>...</td>\n",
       "      <td>NaN</td>\n",
       "      <td>0.00000</td>\n",
       "      <td>N500W4P2184</td>\n",
       "      <td>Clip Total</td>\n",
       "      <td>Paid</td>\n",
       "      <td>AMEX</td>\n",
       "      <td>American Express</td>\n",
       "      <td>371292_3000_Z5MDOPDNOIPD_3210.0</td>\n",
       "      <td>371292_3000_010339208448068_3210.0</td>\n",
       "      <td>OPTBLUE_0</td>\n",
       "    </tr>\n",
       "    <tr>\n",
       "      <th>2</th>\n",
       "      <td>8c22ed4b-9555-4018-8fcb-c05df672c953</td>\n",
       "      <td>54d07a23-3169-44ac-b3a1-44d6b781fe70</td>\n",
       "      <td>HZJNZXXXDMRT</td>\n",
       "      <td>010339220050066</td>\n",
       "      <td>8138464136</td>\n",
       "      <td>OPTBLUE</td>\n",
       "      <td>1658106</td>\n",
       "      <td>5813</td>\n",
       "      <td>2023-12-25</td>\n",
       "      <td>2023-12-25T06:06:58Z</td>\n",
       "      <td>...</td>\n",
       "      <td>NaN</td>\n",
       "      <td>0.00000</td>\n",
       "      <td>N500W4M8642</td>\n",
       "      <td>Clip Total</td>\n",
       "      <td>Paid</td>\n",
       "      <td>AMEX</td>\n",
       "      <td>AMERICAN EXPRESS</td>\n",
       "      <td>376667_2037_HZJNZXXXDMRT_200.0</td>\n",
       "      <td>376667_2037_010339220050066_200.0</td>\n",
       "      <td>OPTBLUE_0</td>\n",
       "    </tr>\n",
       "    <tr>\n",
       "      <th>3</th>\n",
       "      <td>3b5049b8-3217-49ca-86ea-caaaa3ec3308</td>\n",
       "      <td>c90ef4ae-3349-4a07-af68-6fb916b8e67a</td>\n",
       "      <td>5IT5LIBALHVF</td>\n",
       "      <td>010339219163060</td>\n",
       "      <td>8138464136</td>\n",
       "      <td>OPTBLUE</td>\n",
       "      <td>1106905</td>\n",
       "      <td>5813</td>\n",
       "      <td>2023-12-25</td>\n",
       "      <td>2023-12-25T06:07:45Z</td>\n",
       "      <td>...</td>\n",
       "      <td>NaN</td>\n",
       "      <td>0.00000</td>\n",
       "      <td>N500W4E2326</td>\n",
       "      <td>Clip Total</td>\n",
       "      <td>Paid</td>\n",
       "      <td>AMEX</td>\n",
       "      <td>American Express</td>\n",
       "      <td>377978_1006_5IT5LIBALHVF_180.0</td>\n",
       "      <td>377978_1006_010339219163060_180.0</td>\n",
       "      <td>OPTBLUE_0</td>\n",
       "    </tr>\n",
       "    <tr>\n",
       "      <th>4</th>\n",
       "      <td>8c22ed4b-9555-4018-8fcb-c05df672c953</td>\n",
       "      <td>548bd5a9-596a-4803-86c2-6e0d95f7e2cb</td>\n",
       "      <td>MMX2JP07EXV1</td>\n",
       "      <td>010339204880066</td>\n",
       "      <td>8138464136</td>\n",
       "      <td>OPTBLUE</td>\n",
       "      <td>1658106</td>\n",
       "      <td>5813</td>\n",
       "      <td>2023-12-25</td>\n",
       "      <td>2023-12-25T06:08:21Z</td>\n",
       "      <td>...</td>\n",
       "      <td>NaN</td>\n",
       "      <td>0.00000</td>\n",
       "      <td>N500W4M8642</td>\n",
       "      <td>Clip Total</td>\n",
       "      <td>Paid</td>\n",
       "      <td>AMEX</td>\n",
       "      <td>AMERICAN EXPRESS</td>\n",
       "      <td>376718_1042_MMX2JP07EXV1_200.0</td>\n",
       "      <td>376718_1042_010339204880066_200.0</td>\n",
       "      <td>OPTBLUE_0</td>\n",
       "    </tr>\n",
       "  </tbody>\n",
       "</table>\n",
       "<p>5 rows × 27 columns</p>\n",
       "</div>"
      ],
      "text/plain": [
       "                            merchant_id                        transaction_id  \\\n",
       "0  c090de31-388f-41c9-9bf0-5ae7adf17975  5725dcb9-4054-4cb0-94ff-a9be5b970b4b   \n",
       "1  4a9c6399-ae89-4b68-9607-cbd05f43e110  dcac4d6b-cd68-40c6-af7f-1999753fe76c   \n",
       "2  8c22ed4b-9555-4018-8fcb-c05df672c953  54d07a23-3169-44ac-b3a1-44d6b781fe70   \n",
       "3  3b5049b8-3217-49ca-86ea-caaaa3ec3308  c90ef4ae-3349-4a07-af68-6fb916b8e67a   \n",
       "4  8c22ed4b-9555-4018-8fcb-c05df672c953  548bd5a9-596a-4803-86c2-6e0d95f7e2cb   \n",
       "\n",
       "       order_id clave_autorizacion affiliation affiliation_type  \\\n",
       "0  S0CKBKMHDQPP    010339200576064  8138464136          OPTBLUE   \n",
       "1  Z5MDOPDNOIPD    010339208448068  8138464136          OPTBLUE   \n",
       "2  HZJNZXXXDMRT    010339220050066  8138464136          OPTBLUE   \n",
       "3  5IT5LIBALHVF    010339219163060  8138464136          OPTBLUE   \n",
       "4  MMX2JP07EXV1    010339204880066  8138464136          OPTBLUE   \n",
       "\n",
       "  sub_affiliation   mcc date_transaction            created_at  ...  \\\n",
       "0          710910  5812       2023-12-25  2023-12-25T06:05:50Z  ...   \n",
       "1         1908592  5813       2023-12-25  2023-12-25T06:06:06Z  ...   \n",
       "2         1658106  5813       2023-12-25  2023-12-25T06:06:58Z  ...   \n",
       "3         1106905  5813       2023-12-25  2023-12-25T06:07:45Z  ...   \n",
       "4         1658106  5813       2023-12-25  2023-12-25T06:08:21Z  ...   \n",
       "\n",
       "  decline_code      msi       device_id   clip_reader status_msg issuer  \\\n",
       "0          NaN  0.00000  P5220314003479  Clip Classic       Paid   AMEX   \n",
       "1          NaN  0.00000     N500W4P2184    Clip Total       Paid   AMEX   \n",
       "2          NaN  0.00000     N500W4M8642    Clip Total       Paid   AMEX   \n",
       "3          NaN  0.00000     N500W4E2326    Clip Total       Paid   AMEX   \n",
       "4          NaN  0.00000     N500W4M8642    Clip Total       Paid   AMEX   \n",
       "\n",
       "              brand                      INDEX_TOTAL  \\\n",
       "0  American Express   379794_1004_S0CKBKMHDQPP_380.0   \n",
       "1  American Express  371292_3000_Z5MDOPDNOIPD_3210.0   \n",
       "2  AMERICAN EXPRESS   376667_2037_HZJNZXXXDMRT_200.0   \n",
       "3  American Express   377978_1006_5IT5LIBALHVF_180.0   \n",
       "4  AMERICAN EXPRESS   376718_1042_MMX2JP07EXV1_200.0   \n",
       "\n",
       "                        INDEX_PARCIAL index_comisiones  \n",
       "0   379794_1004_010339200576064_380.0        OPTBLUE_0  \n",
       "1  371292_3000_010339208448068_3210.0        OPTBLUE_0  \n",
       "2   376667_2037_010339220050066_200.0        OPTBLUE_0  \n",
       "3   377978_1006_010339219163060_180.0        OPTBLUE_0  \n",
       "4   376718_1042_010339204880066_200.0        OPTBLUE_0  \n",
       "\n",
       "[5 rows x 27 columns]"
      ]
     },
     "execution_count": 10,
     "metadata": {},
     "output_type": "execute_result"
    }
   ],
   "source": [
    "db = pd.concat([db_1])\n",
    "db.columns = db.columns.str.strip().str.lower() \n",
    "db['order_id'] = db['order_id'].str.strip()\n",
    "db['order_id'] = db['order_id'].str.upper()\n",
    "db['date_transaction'] = pd.to_datetime(db['date_transaction'])\n",
    "db['INDEX_TOTAL'] = (db['bin'].astype(str).replace(' ', '',regex=True)+'_'\n",
    "                       +db['last4'].astype(str).replace(' ', '',regex=True)+'_'\n",
    "                       +db['order_id'].astype(str).replace(' ', '',regex=True)+'_'\n",
    "                       +db['amount'].astype(str).replace(' ', '',regex=True))\n",
    "db['INDEX_PARCIAL'] = (db['bin'].astype(str).replace(' ', '',regex=True)+'_'\n",
    "                       +db['last4'].astype(str).replace(' ', '',regex=True)+'_'\n",
    "                       +db['clave_autorizacion'].astype(str).replace(' ', '',regex=True)+'_'\n",
    "                       +db['amount'].astype(str).replace(' ', '',regex=True))\n",
    "db['index_comisiones'] = (db['affiliation_type'].astype(str).replace(' ', '',regex=True)+'_'\n",
    "                       +db['msi'].str[:-6].astype(str).replace(' ', '',regex=True))\n",
    "db['order_id'].fillna('SIN ORDER_ID EN DB',inplace=True)\n",
    "db.head()"
   ]
  },
  {
   "cell_type": "code",
   "execution_count": 11,
   "metadata": {},
   "outputs": [
    {
     "data": {
      "text/plain": [
       "(337597, 27)"
      ]
     },
     "execution_count": 11,
     "metadata": {},
     "output_type": "execute_result"
    }
   ],
   "source": [
    "db.shape"
   ]
  },
  {
   "cell_type": "code",
   "execution_count": 12,
   "metadata": {},
   "outputs": [
    {
     "data": {
      "text/plain": [
       "array(['0.00000', '3.00000', '9.00000', '6.00000', '12.00000', '24.00000',\n",
       "       '18.00000'], dtype=object)"
      ]
     },
     "execution_count": 12,
     "metadata": {},
     "output_type": "execute_result"
    }
   ],
   "source": [
    "db['msi'].unique()"
   ]
  },
  {
   "cell_type": "code",
   "execution_count": 13,
   "metadata": {},
   "outputs": [
    {
     "data": {
      "text/plain": [
       "array(['OPTBLUE_0', 'OPTBLUE_3', 'OPTBLUE_9', 'nan_0', 'OPTBLUE_6',\n",
       "       'nan_3', 'OPTBLUE_12', 'nan_24', 'nan_12', 'nan_6', 'OPTBLUE_18',\n",
       "       'AGGREGATOR_0', 'OPTBLUE_24', 'AGGREGATOR_6', 'nan_9', 'nan_18',\n",
       "       'AGGREGATOR_9', 'CARD_PRESENT_0', 'ECOMMERCE_0'], dtype=object)"
      ]
     },
     "execution_count": 13,
     "metadata": {},
     "output_type": "execute_result"
    }
   ],
   "source": [
    "db['index_comisiones'].unique()"
   ]
  },
  {
   "cell_type": "code",
   "execution_count": 14,
   "metadata": {},
   "outputs": [
    {
     "data": {
      "text/plain": [
       "merchant_id                   object\n",
       "transaction_id                object\n",
       "order_id                      object\n",
       "clave_autorizacion            object\n",
       "affiliation                   object\n",
       "affiliation_type              object\n",
       "sub_affiliation               object\n",
       "mcc                           object\n",
       "date_transaction      datetime64[ns]\n",
       "created_at                    object\n",
       "updated_at                    object\n",
       "psp                           object\n",
       "amount                       float64\n",
       "bin                           object\n",
       "receipt_no                    object\n",
       "last4                         object\n",
       "status_code                   object\n",
       "decline_code                 float64\n",
       "msi                           object\n",
       "device_id                     object\n",
       "clip_reader                   object\n",
       "status_msg                    object\n",
       "issuer                        object\n",
       "brand                         object\n",
       "INDEX_TOTAL                   object\n",
       "INDEX_PARCIAL                 object\n",
       "index_comisiones              object\n",
       "dtype: object"
      ]
     },
     "execution_count": 14,
     "metadata": {},
     "output_type": "execute_result"
    }
   ],
   "source": [
    "db.dtypes"
   ]
  },
  {
   "cell_type": "code",
   "execution_count": 15,
   "metadata": {},
   "outputs": [
    {
     "data": {
      "text/html": [
       "<div>\n",
       "<style scoped>\n",
       "    .dataframe tbody tr th:only-of-type {\n",
       "        vertical-align: middle;\n",
       "    }\n",
       "\n",
       "    .dataframe tbody tr th {\n",
       "        vertical-align: top;\n",
       "    }\n",
       "\n",
       "    .dataframe thead th {\n",
       "        text-align: right;\n",
       "    }\n",
       "</style>\n",
       "<table border=\"1\" class=\"dataframe\">\n",
       "  <thead>\n",
       "    <tr style=\"text-align: right;\">\n",
       "      <th></th>\n",
       "      <th>merchant_id</th>\n",
       "      <th>transaction_id</th>\n",
       "      <th>order_id</th>\n",
       "      <th>clave_autorizacion</th>\n",
       "      <th>affiliation</th>\n",
       "      <th>affiliation_type</th>\n",
       "      <th>sub_affiliation</th>\n",
       "      <th>mcc</th>\n",
       "      <th>date_transaction</th>\n",
       "      <th>created_at</th>\n",
       "      <th>...</th>\n",
       "      <th>decline_code</th>\n",
       "      <th>msi</th>\n",
       "      <th>device_id</th>\n",
       "      <th>clip_reader</th>\n",
       "      <th>status_msg</th>\n",
       "      <th>issuer</th>\n",
       "      <th>brand</th>\n",
       "      <th>INDEX_TOTAL</th>\n",
       "      <th>INDEX_PARCIAL</th>\n",
       "      <th>index_comisiones</th>\n",
       "    </tr>\n",
       "  </thead>\n",
       "  <tbody>\n",
       "    <tr>\n",
       "      <th>321803</th>\n",
       "      <td>62ab9ad3-50e4-4c56-b7fe-4b0d6691b426</td>\n",
       "      <td>40f02f7b-abd8-4a35-bb8a-7dfdf4490405</td>\n",
       "      <td>OC2WO7ERVMNY</td>\n",
       "      <td>NaN</td>\n",
       "      <td>8138464144</td>\n",
       "      <td>OPTBLUE</td>\n",
       "      <td>2015017</td>\n",
       "      <td>7399</td>\n",
       "      <td>2024-01-30</td>\n",
       "      <td>2024-01-30T17:08:54Z</td>\n",
       "      <td>...</td>\n",
       "      <td>NaN</td>\n",
       "      <td>0.00000</td>\n",
       "      <td>80010001</td>\n",
       "      <td>Clip Classic</td>\n",
       "      <td>Deny</td>\n",
       "      <td>AMEX</td>\n",
       "      <td>AMERICAN EXPRESS</td>\n",
       "      <td>371776_2007_OC2WO7ERVMNY_17214.33</td>\n",
       "      <td>371776_2007_nan_17214.33</td>\n",
       "      <td>OPTBLUE_0</td>\n",
       "    </tr>\n",
       "    <tr>\n",
       "      <th>321804</th>\n",
       "      <td>62ab9ad3-50e4-4c56-b7fe-4b0d6691b426</td>\n",
       "      <td>40f02f7b-abd8-4a35-bb8a-7dfdf4490405</td>\n",
       "      <td>OC2WO7ERVMNY</td>\n",
       "      <td>NaN</td>\n",
       "      <td>8138464144</td>\n",
       "      <td>ECOMMERCE</td>\n",
       "      <td>2015017</td>\n",
       "      <td>7399</td>\n",
       "      <td>2024-01-30</td>\n",
       "      <td>2024-01-30T17:08:54Z</td>\n",
       "      <td>...</td>\n",
       "      <td>NaN</td>\n",
       "      <td>0.00000</td>\n",
       "      <td>80010001</td>\n",
       "      <td>Clip Classic</td>\n",
       "      <td>Deny</td>\n",
       "      <td>AMEX</td>\n",
       "      <td>AMERICAN EXPRESS</td>\n",
       "      <td>371776_2007_OC2WO7ERVMNY_17214.33</td>\n",
       "      <td>371776_2007_nan_17214.33</td>\n",
       "      <td>ECOMMERCE_0</td>\n",
       "    </tr>\n",
       "    <tr>\n",
       "      <th>321864</th>\n",
       "      <td>ceb5c5ea-1735-4745-9389-43122cf0b98e</td>\n",
       "      <td>5d6be542-93bf-4498-a05a-9c39f1e4cec0</td>\n",
       "      <td>OLUXGABGTF4U</td>\n",
       "      <td>010901004781065</td>\n",
       "      <td>8138464227</td>\n",
       "      <td>ECOMMERCE</td>\n",
       "      <td>9686</td>\n",
       "      <td>5499</td>\n",
       "      <td>2024-01-30</td>\n",
       "      <td>2024-01-30T17:14:53Z</td>\n",
       "      <td>...</td>\n",
       "      <td>NaN</td>\n",
       "      <td>0.00000</td>\n",
       "      <td>80010001</td>\n",
       "      <td>Clip Classic</td>\n",
       "      <td>Paid</td>\n",
       "      <td>AMEXBANK</td>\n",
       "      <td>AMERICAN EXPRESS</td>\n",
       "      <td>371690_7005_OLUXGABGTF4U_36103.89</td>\n",
       "      <td>371690_7005_010901004781065_36103.89</td>\n",
       "      <td>ECOMMERCE_0</td>\n",
       "    </tr>\n",
       "    <tr>\n",
       "      <th>321865</th>\n",
       "      <td>ceb5c5ea-1735-4745-9389-43122cf0b98e</td>\n",
       "      <td>5d6be542-93bf-4498-a05a-9c39f1e4cec0</td>\n",
       "      <td>OLUXGABGTF4U</td>\n",
       "      <td>010901004781065</td>\n",
       "      <td>8138464227</td>\n",
       "      <td>OPTBLUE</td>\n",
       "      <td>9686</td>\n",
       "      <td>5499</td>\n",
       "      <td>2024-01-30</td>\n",
       "      <td>2024-01-30T17:14:53Z</td>\n",
       "      <td>...</td>\n",
       "      <td>NaN</td>\n",
       "      <td>0.00000</td>\n",
       "      <td>80010001</td>\n",
       "      <td>Clip Classic</td>\n",
       "      <td>Paid</td>\n",
       "      <td>AMEXBANK</td>\n",
       "      <td>AMERICAN EXPRESS</td>\n",
       "      <td>371690_7005_OLUXGABGTF4U_36103.89</td>\n",
       "      <td>371690_7005_010901004781065_36103.89</td>\n",
       "      <td>OPTBLUE_0</td>\n",
       "    </tr>\n",
       "  </tbody>\n",
       "</table>\n",
       "<p>4 rows × 27 columns</p>\n",
       "</div>"
      ],
      "text/plain": [
       "                                 merchant_id  \\\n",
       "321803  62ab9ad3-50e4-4c56-b7fe-4b0d6691b426   \n",
       "321804  62ab9ad3-50e4-4c56-b7fe-4b0d6691b426   \n",
       "321864  ceb5c5ea-1735-4745-9389-43122cf0b98e   \n",
       "321865  ceb5c5ea-1735-4745-9389-43122cf0b98e   \n",
       "\n",
       "                              transaction_id      order_id clave_autorizacion  \\\n",
       "321803  40f02f7b-abd8-4a35-bb8a-7dfdf4490405  OC2WO7ERVMNY                NaN   \n",
       "321804  40f02f7b-abd8-4a35-bb8a-7dfdf4490405  OC2WO7ERVMNY                NaN   \n",
       "321864  5d6be542-93bf-4498-a05a-9c39f1e4cec0  OLUXGABGTF4U    010901004781065   \n",
       "321865  5d6be542-93bf-4498-a05a-9c39f1e4cec0  OLUXGABGTF4U    010901004781065   \n",
       "\n",
       "       affiliation affiliation_type sub_affiliation   mcc date_transaction  \\\n",
       "321803  8138464144          OPTBLUE         2015017  7399       2024-01-30   \n",
       "321804  8138464144        ECOMMERCE         2015017  7399       2024-01-30   \n",
       "321864  8138464227        ECOMMERCE            9686  5499       2024-01-30   \n",
       "321865  8138464227          OPTBLUE            9686  5499       2024-01-30   \n",
       "\n",
       "                  created_at  ... decline_code      msi  device_id  \\\n",
       "321803  2024-01-30T17:08:54Z  ...          NaN  0.00000   80010001   \n",
       "321804  2024-01-30T17:08:54Z  ...          NaN  0.00000   80010001   \n",
       "321864  2024-01-30T17:14:53Z  ...          NaN  0.00000   80010001   \n",
       "321865  2024-01-30T17:14:53Z  ...          NaN  0.00000   80010001   \n",
       "\n",
       "         clip_reader status_msg    issuer             brand  \\\n",
       "321803  Clip Classic       Deny      AMEX  AMERICAN EXPRESS   \n",
       "321804  Clip Classic       Deny      AMEX  AMERICAN EXPRESS   \n",
       "321864  Clip Classic       Paid  AMEXBANK  AMERICAN EXPRESS   \n",
       "321865  Clip Classic       Paid  AMEXBANK  AMERICAN EXPRESS   \n",
       "\n",
       "                              INDEX_TOTAL  \\\n",
       "321803  371776_2007_OC2WO7ERVMNY_17214.33   \n",
       "321804  371776_2007_OC2WO7ERVMNY_17214.33   \n",
       "321864  371690_7005_OLUXGABGTF4U_36103.89   \n",
       "321865  371690_7005_OLUXGABGTF4U_36103.89   \n",
       "\n",
       "                               INDEX_PARCIAL index_comisiones  \n",
       "321803              371776_2007_nan_17214.33        OPTBLUE_0  \n",
       "321804              371776_2007_nan_17214.33      ECOMMERCE_0  \n",
       "321864  371690_7005_010901004781065_36103.89      ECOMMERCE_0  \n",
       "321865  371690_7005_010901004781065_36103.89        OPTBLUE_0  \n",
       "\n",
       "[4 rows x 27 columns]"
      ]
     },
     "execution_count": 15,
     "metadata": {},
     "output_type": "execute_result"
    }
   ],
   "source": [
    "duplicates = db[db.duplicated(['transaction_id'] , keep=False)]\n",
    "duplicates.head()"
   ]
  },
  {
   "cell_type": "code",
   "execution_count": 16,
   "metadata": {},
   "outputs": [
    {
     "data": {
      "text/plain": [
       "(4, 27)"
      ]
     },
     "execution_count": 16,
     "metadata": {},
     "output_type": "execute_result"
    }
   ],
   "source": [
    "duplicates.shape"
   ]
  },
  {
   "cell_type": "markdown",
   "metadata": {},
   "source": [
    "# DB CON COMISIONES"
   ]
  },
  {
   "cell_type": "code",
   "execution_count": 17,
   "metadata": {},
   "outputs": [
    {
     "data": {
      "text/html": [
       "<div>\n",
       "<style scoped>\n",
       "    .dataframe tbody tr th:only-of-type {\n",
       "        vertical-align: middle;\n",
       "    }\n",
       "\n",
       "    .dataframe tbody tr th {\n",
       "        vertical-align: top;\n",
       "    }\n",
       "\n",
       "    .dataframe thead th {\n",
       "        text-align: right;\n",
       "    }\n",
       "</style>\n",
       "<table border=\"1\" class=\"dataframe\">\n",
       "  <thead>\n",
       "    <tr style=\"text-align: right;\">\n",
       "      <th></th>\n",
       "      <th>merchant_id</th>\n",
       "      <th>transaction_id</th>\n",
       "      <th>order_id</th>\n",
       "      <th>clave_autorizacion</th>\n",
       "      <th>affiliation</th>\n",
       "      <th>affiliation_type</th>\n",
       "      <th>sub_affiliation</th>\n",
       "      <th>mcc</th>\n",
       "      <th>date_transaction</th>\n",
       "      <th>created_at</th>\n",
       "      <th>...</th>\n",
       "      <th>INDEX_TOTAL</th>\n",
       "      <th>INDEX_PARCIAL</th>\n",
       "      <th>index_comisiones</th>\n",
       "      <th>comision_porcentaje_mdr</th>\n",
       "      <th>comision_porcentaje_msi</th>\n",
       "      <th>comision_porcentaje_final</th>\n",
       "      <th>comision_mdr_db</th>\n",
       "      <th>iva_comision_mdr_db</th>\n",
       "      <th>comision_msi_db</th>\n",
       "      <th>iva_comision_msi_db</th>\n",
       "    </tr>\n",
       "  </thead>\n",
       "  <tbody>\n",
       "    <tr>\n",
       "      <th>0</th>\n",
       "      <td>c090de31-388f-41c9-9bf0-5ae7adf17975</td>\n",
       "      <td>5725dcb9-4054-4cb0-94ff-a9be5b970b4b</td>\n",
       "      <td>S0CKBKMHDQPP</td>\n",
       "      <td>010339200576064</td>\n",
       "      <td>8138464136</td>\n",
       "      <td>OPTBLUE</td>\n",
       "      <td>710910</td>\n",
       "      <td>5812</td>\n",
       "      <td>2023-12-25</td>\n",
       "      <td>2023-12-25T06:05:50Z</td>\n",
       "      <td>...</td>\n",
       "      <td>379794_1004_S0CKBKMHDQPP_380.0</td>\n",
       "      <td>379794_1004_010339200576064_380.0</td>\n",
       "      <td>OPTBLUE_0</td>\n",
       "      <td>NaN</td>\n",
       "      <td>NaN</td>\n",
       "      <td>0.00</td>\n",
       "      <td>NaN</td>\n",
       "      <td>NaN</td>\n",
       "      <td>NaN</td>\n",
       "      <td>NaN</td>\n",
       "    </tr>\n",
       "    <tr>\n",
       "      <th>1</th>\n",
       "      <td>4a9c6399-ae89-4b68-9607-cbd05f43e110</td>\n",
       "      <td>dcac4d6b-cd68-40c6-af7f-1999753fe76c</td>\n",
       "      <td>Z5MDOPDNOIPD</td>\n",
       "      <td>010339208448068</td>\n",
       "      <td>8138464136</td>\n",
       "      <td>OPTBLUE</td>\n",
       "      <td>1908592</td>\n",
       "      <td>5813</td>\n",
       "      <td>2023-12-25</td>\n",
       "      <td>2023-12-25T06:06:06Z</td>\n",
       "      <td>...</td>\n",
       "      <td>371292_3000_Z5MDOPDNOIPD_3210.0</td>\n",
       "      <td>371292_3000_010339208448068_3210.0</td>\n",
       "      <td>OPTBLUE_0</td>\n",
       "      <td>NaN</td>\n",
       "      <td>NaN</td>\n",
       "      <td>0.00</td>\n",
       "      <td>NaN</td>\n",
       "      <td>NaN</td>\n",
       "      <td>NaN</td>\n",
       "      <td>NaN</td>\n",
       "    </tr>\n",
       "    <tr>\n",
       "      <th>2</th>\n",
       "      <td>8c22ed4b-9555-4018-8fcb-c05df672c953</td>\n",
       "      <td>54d07a23-3169-44ac-b3a1-44d6b781fe70</td>\n",
       "      <td>HZJNZXXXDMRT</td>\n",
       "      <td>010339220050066</td>\n",
       "      <td>8138464136</td>\n",
       "      <td>OPTBLUE</td>\n",
       "      <td>1658106</td>\n",
       "      <td>5813</td>\n",
       "      <td>2023-12-25</td>\n",
       "      <td>2023-12-25T06:06:58Z</td>\n",
       "      <td>...</td>\n",
       "      <td>376667_2037_HZJNZXXXDMRT_200.0</td>\n",
       "      <td>376667_2037_010339220050066_200.0</td>\n",
       "      <td>OPTBLUE_0</td>\n",
       "      <td>NaN</td>\n",
       "      <td>NaN</td>\n",
       "      <td>0.00</td>\n",
       "      <td>NaN</td>\n",
       "      <td>NaN</td>\n",
       "      <td>NaN</td>\n",
       "      <td>NaN</td>\n",
       "    </tr>\n",
       "    <tr>\n",
       "      <th>3</th>\n",
       "      <td>3b5049b8-3217-49ca-86ea-caaaa3ec3308</td>\n",
       "      <td>c90ef4ae-3349-4a07-af68-6fb916b8e67a</td>\n",
       "      <td>5IT5LIBALHVF</td>\n",
       "      <td>010339219163060</td>\n",
       "      <td>8138464136</td>\n",
       "      <td>OPTBLUE</td>\n",
       "      <td>1106905</td>\n",
       "      <td>5813</td>\n",
       "      <td>2023-12-25</td>\n",
       "      <td>2023-12-25T06:07:45Z</td>\n",
       "      <td>...</td>\n",
       "      <td>377978_1006_5IT5LIBALHVF_180.0</td>\n",
       "      <td>377978_1006_010339219163060_180.0</td>\n",
       "      <td>OPTBLUE_0</td>\n",
       "      <td>NaN</td>\n",
       "      <td>NaN</td>\n",
       "      <td>0.00</td>\n",
       "      <td>NaN</td>\n",
       "      <td>NaN</td>\n",
       "      <td>NaN</td>\n",
       "      <td>NaN</td>\n",
       "    </tr>\n",
       "    <tr>\n",
       "      <th>4</th>\n",
       "      <td>8c22ed4b-9555-4018-8fcb-c05df672c953</td>\n",
       "      <td>548bd5a9-596a-4803-86c2-6e0d95f7e2cb</td>\n",
       "      <td>MMX2JP07EXV1</td>\n",
       "      <td>010339204880066</td>\n",
       "      <td>8138464136</td>\n",
       "      <td>OPTBLUE</td>\n",
       "      <td>1658106</td>\n",
       "      <td>5813</td>\n",
       "      <td>2023-12-25</td>\n",
       "      <td>2023-12-25T06:08:21Z</td>\n",
       "      <td>...</td>\n",
       "      <td>376718_1042_MMX2JP07EXV1_200.0</td>\n",
       "      <td>376718_1042_010339204880066_200.0</td>\n",
       "      <td>OPTBLUE_0</td>\n",
       "      <td>NaN</td>\n",
       "      <td>NaN</td>\n",
       "      <td>0.00</td>\n",
       "      <td>NaN</td>\n",
       "      <td>NaN</td>\n",
       "      <td>NaN</td>\n",
       "      <td>NaN</td>\n",
       "    </tr>\n",
       "  </tbody>\n",
       "</table>\n",
       "<p>5 rows × 34 columns</p>\n",
       "</div>"
      ],
      "text/plain": [
       "                            merchant_id                        transaction_id  \\\n",
       "0  c090de31-388f-41c9-9bf0-5ae7adf17975  5725dcb9-4054-4cb0-94ff-a9be5b970b4b   \n",
       "1  4a9c6399-ae89-4b68-9607-cbd05f43e110  dcac4d6b-cd68-40c6-af7f-1999753fe76c   \n",
       "2  8c22ed4b-9555-4018-8fcb-c05df672c953  54d07a23-3169-44ac-b3a1-44d6b781fe70   \n",
       "3  3b5049b8-3217-49ca-86ea-caaaa3ec3308  c90ef4ae-3349-4a07-af68-6fb916b8e67a   \n",
       "4  8c22ed4b-9555-4018-8fcb-c05df672c953  548bd5a9-596a-4803-86c2-6e0d95f7e2cb   \n",
       "\n",
       "       order_id clave_autorizacion affiliation affiliation_type  \\\n",
       "0  S0CKBKMHDQPP    010339200576064  8138464136          OPTBLUE   \n",
       "1  Z5MDOPDNOIPD    010339208448068  8138464136          OPTBLUE   \n",
       "2  HZJNZXXXDMRT    010339220050066  8138464136          OPTBLUE   \n",
       "3  5IT5LIBALHVF    010339219163060  8138464136          OPTBLUE   \n",
       "4  MMX2JP07EXV1    010339204880066  8138464136          OPTBLUE   \n",
       "\n",
       "  sub_affiliation   mcc date_transaction            created_at  ...  \\\n",
       "0          710910  5812       2023-12-25  2023-12-25T06:05:50Z  ...   \n",
       "1         1908592  5813       2023-12-25  2023-12-25T06:06:06Z  ...   \n",
       "2         1658106  5813       2023-12-25  2023-12-25T06:06:58Z  ...   \n",
       "3         1106905  5813       2023-12-25  2023-12-25T06:07:45Z  ...   \n",
       "4         1658106  5813       2023-12-25  2023-12-25T06:08:21Z  ...   \n",
       "\n",
       "                       INDEX_TOTAL                       INDEX_PARCIAL  \\\n",
       "0   379794_1004_S0CKBKMHDQPP_380.0   379794_1004_010339200576064_380.0   \n",
       "1  371292_3000_Z5MDOPDNOIPD_3210.0  371292_3000_010339208448068_3210.0   \n",
       "2   376667_2037_HZJNZXXXDMRT_200.0   376667_2037_010339220050066_200.0   \n",
       "3   377978_1006_5IT5LIBALHVF_180.0   377978_1006_010339219163060_180.0   \n",
       "4   376718_1042_MMX2JP07EXV1_200.0   376718_1042_010339204880066_200.0   \n",
       "\n",
       "   index_comisiones comision_porcentaje_mdr comision_porcentaje_msi  \\\n",
       "0         OPTBLUE_0                     NaN                     NaN   \n",
       "1         OPTBLUE_0                     NaN                     NaN   \n",
       "2         OPTBLUE_0                     NaN                     NaN   \n",
       "3         OPTBLUE_0                     NaN                     NaN   \n",
       "4         OPTBLUE_0                     NaN                     NaN   \n",
       "\n",
       "  comision_porcentaje_final comision_mdr_db  iva_comision_mdr_db  \\\n",
       "0                      0.00             NaN                  NaN   \n",
       "1                      0.00             NaN                  NaN   \n",
       "2                      0.00             NaN                  NaN   \n",
       "3                      0.00             NaN                  NaN   \n",
       "4                      0.00             NaN                  NaN   \n",
       "\n",
       "  comision_msi_db iva_comision_msi_db  \n",
       "0             NaN                 NaN  \n",
       "1             NaN                 NaN  \n",
       "2             NaN                 NaN  \n",
       "3             NaN                 NaN  \n",
       "4             NaN                 NaN  \n",
       "\n",
       "[5 rows x 34 columns]"
      ]
     },
     "execution_count": 17,
     "metadata": {},
     "output_type": "execute_result"
    }
   ],
   "source": [
    "db_final = db.merge(comisiones_epa[['index_comisiones','comision_porcentaje_mdr',\n",
    "                                   'comision_porcentaje_msi','comision_porcentaje_final']],on='index_comisiones',how='left')\n",
    "db_final['comision_porcentaje_final'].fillna(0,inplace=True)\n",
    "db_final['comision_mdr_db'] = db_final['amount'] * db_final['comision_porcentaje_mdr']\n",
    "db_final['iva_comision_mdr_db'] = db_final['comision_mdr_db'] * 0.1600\n",
    "db_final['comision_msi_db'] = db_final['amount'] * db_final['comision_porcentaje_msi']\n",
    "db_final['iva_comision_msi_db'] = db_final['comision_msi_db'] * 0.1600\n",
    "db_final.head()"
   ]
  },
  {
   "cell_type": "code",
   "execution_count": 18,
   "metadata": {},
   "outputs": [
    {
     "data": {
      "text/plain": [
       "(337597, 34)"
      ]
     },
     "execution_count": 18,
     "metadata": {},
     "output_type": "execute_result"
    }
   ],
   "source": [
    "db_final.shape"
   ]
  },
  {
   "cell_type": "markdown",
   "metadata": {},
   "source": [
    "# EPA"
   ]
  },
  {
   "cell_type": "code",
   "execution_count": 19,
   "metadata": {},
   "outputs": [
    {
     "data": {
      "text/plain": [
       "['G:\\\\.shortcut-targets-by-id\\\\1_Ma5aBDa2iehbpuQ3dnO1tUN_wp4Jgka\\\\EPA\\\\EPA files\\\\2024 EPA Amex\\\\01. ENERO\\\\2024-01-15..txt']"
      ]
     },
     "execution_count": 19,
     "metadata": {},
     "output_type": "execute_result"
    }
   ],
   "source": [
    "allfiles = glob.glob(r'G:\\.shortcut-targets-by-id\\1_Ma5aBDa2iehbpuQ3dnO1tUN_wp4Jgka\\EPA\\EPA files\\2024 EPA Amex\\**\\*.txt', recursive=True)\n",
    "allfiles"
   ]
  },
  {
   "cell_type": "code",
   "execution_count": 20,
   "metadata": {},
   "outputs": [],
   "source": [
    "names_header=[\"1\",\"2\",\"3\",\"4\",\"5\",\"6\",\"7\",\"8\",\"9\",\"10\",\"A\",\"12\",\"13\",\"14\",\"15\",\"16\",\"17\",\"18\",\"19\",\"order_id\",\n",
    "              \"21\",\"22\",\"23\",\"24\",\"25\",\"26\",\"27\",\"28\"]"
   ]
  },
  {
   "cell_type": "code",
   "execution_count": 21,
   "metadata": {},
   "outputs": [
    {
     "data": {
      "text/html": [
       "<div>\n",
       "<style scoped>\n",
       "    .dataframe tbody tr th:only-of-type {\n",
       "        vertical-align: middle;\n",
       "    }\n",
       "\n",
       "    .dataframe tbody tr th {\n",
       "        vertical-align: top;\n",
       "    }\n",
       "\n",
       "    .dataframe thead th {\n",
       "        text-align: right;\n",
       "    }\n",
       "</style>\n",
       "<table border=\"1\" class=\"dataframe\">\n",
       "  <thead>\n",
       "    <tr style=\"text-align: right;\">\n",
       "      <th></th>\n",
       "      <th>1</th>\n",
       "      <th>2</th>\n",
       "      <th>3</th>\n",
       "      <th>4</th>\n",
       "      <th>5</th>\n",
       "      <th>6</th>\n",
       "      <th>7</th>\n",
       "      <th>8</th>\n",
       "      <th>9</th>\n",
       "      <th>10</th>\n",
       "      <th>...</th>\n",
       "      <th>19</th>\n",
       "      <th>order_id</th>\n",
       "      <th>21</th>\n",
       "      <th>22</th>\n",
       "      <th>23</th>\n",
       "      <th>24</th>\n",
       "      <th>25</th>\n",
       "      <th>26</th>\n",
       "      <th>27</th>\n",
       "      <th>28</th>\n",
       "    </tr>\n",
       "  </thead>\n",
       "  <tbody>\n",
       "    <tr>\n",
       "      <th>0</th>\n",
       "      <td>9351789434</td>\n",
       "      <td>00010101</td>\n",
       "      <td>000000</td>\n",
       "      <td>0000000000</td>\n",
       "      <td>00000</td>\n",
       "      <td>0</td>\n",
       "      <td>0</td>\n",
       "      <td>20240115</td>\n",
       "      <td>004703</td>\n",
       "      <td>002608</td>\n",
       "      <td>...</td>\n",
       "      <td>NaN</td>\n",
       "      <td>NaN</td>\n",
       "      <td>NaN</td>\n",
       "      <td>NaN</td>\n",
       "      <td>NaN</td>\n",
       "      <td>NaN</td>\n",
       "      <td>NaN</td>\n",
       "      <td>NaN</td>\n",
       "      <td>NaN</td>\n",
       "      <td>NaN</td>\n",
       "    </tr>\n",
       "    <tr>\n",
       "      <th>1</th>\n",
       "      <td>9351789434</td>\n",
       "      <td>20240116</td>\n",
       "      <td>055586</td>\n",
       "      <td>0000000000</td>\n",
       "      <td>00000</td>\n",
       "      <td>1</td>\n",
       "      <td>0</td>\n",
       "      <td>92355</td>\n",
       "      <td>072</td>\n",
       "      <td>000000</td>\n",
       "      <td>...</td>\n",
       "      <td>92355</td>\n",
       "      <td>P</td>\n",
       "      <td>NaN</td>\n",
       "      <td>NaN</td>\n",
       "      <td>NaN</td>\n",
       "      <td>NaN</td>\n",
       "      <td>NaN</td>\n",
       "      <td>NaN</td>\n",
       "      <td>NaN</td>\n",
       "      <td>NaN</td>\n",
       "    </tr>\n",
       "    <tr>\n",
       "      <th>2</th>\n",
       "      <td>9351789434</td>\n",
       "      <td>20240116</td>\n",
       "      <td>055586</td>\n",
       "      <td>9351789434</td>\n",
       "      <td>00001</td>\n",
       "      <td>3</td>\n",
       "      <td>0</td>\n",
       "      <td>20240113</td>\n",
       "      <td>935178943440114</td>\n",
       "      <td>95000</td>\n",
       "      <td>...</td>\n",
       "      <td>0</td>\n",
       "      <td>46687159</td>\n",
       "      <td>20240122</td>\n",
       "      <td>20240112</td>\n",
       "      <td>6</td>\n",
       "      <td>000</td>\n",
       "      <td>92355</td>\n",
       "      <td>95000</td>\n",
       "      <td>000</td>\n",
       "      <td>NaN</td>\n",
       "    </tr>\n",
       "    <tr>\n",
       "      <th>3</th>\n",
       "      <td>9351789434</td>\n",
       "      <td>20240116</td>\n",
       "      <td>055586</td>\n",
       "      <td>9351789434</td>\n",
       "      <td>00001</td>\n",
       "      <td>4</td>\n",
       "      <td>0</td>\n",
       "      <td>20240113</td>\n",
       "      <td>0</td>\n",
       "      <td>805</td>\n",
       "      <td>...</td>\n",
       "      <td>000LMNRTYDPHHMY</td>\n",
       "      <td>LMNRTYDPHHMY</td>\n",
       "      <td>000LMNRTYDPHHMY</td>\n",
       "      <td>000</td>\n",
       "      <td>000</td>\n",
       "      <td>NaN</td>\n",
       "      <td>NaN</td>\n",
       "      <td>NaN</td>\n",
       "      <td>NaN</td>\n",
       "      <td>NaN</td>\n",
       "    </tr>\n",
       "    <tr>\n",
       "      <th>4</th>\n",
       "      <td>9351789434</td>\n",
       "      <td>99991231</td>\n",
       "      <td>999999</td>\n",
       "      <td>9999999999</td>\n",
       "      <td>99999</td>\n",
       "      <td>9</td>\n",
       "      <td>0</td>\n",
       "      <td>20240115</td>\n",
       "      <td>004703</td>\n",
       "      <td>002608</td>\n",
       "      <td>...</td>\n",
       "      <td>NaN</td>\n",
       "      <td>NaN</td>\n",
       "      <td>NaN</td>\n",
       "      <td>NaN</td>\n",
       "      <td>NaN</td>\n",
       "      <td>NaN</td>\n",
       "      <td>NaN</td>\n",
       "      <td>NaN</td>\n",
       "      <td>NaN</td>\n",
       "      <td>NaN</td>\n",
       "    </tr>\n",
       "  </tbody>\n",
       "</table>\n",
       "<p>5 rows × 28 columns</p>\n",
       "</div>"
      ],
      "text/plain": [
       "            1         2       3           4      5  6  7         8  \\\n",
       "0  9351789434  00010101  000000  0000000000  00000  0  0  20240115   \n",
       "1  9351789434  20240116  055586  0000000000  00000  1  0     92355   \n",
       "2  9351789434  20240116  055586  9351789434  00001  3  0  20240113   \n",
       "3  9351789434  20240116  055586  9351789434  00001  4  0  20240113   \n",
       "4  9351789434  99991231  999999  9999999999  99999  9  0  20240115   \n",
       "\n",
       "                 9      10  ...               19      order_id  \\\n",
       "0           004703  002608  ...              NaN           NaN   \n",
       "1              072  000000  ...            92355             P   \n",
       "2  935178943440114   95000  ...                0      46687159   \n",
       "3                0     805  ...  000LMNRTYDPHHMY  LMNRTYDPHHMY   \n",
       "4           004703  002608  ...              NaN           NaN   \n",
       "\n",
       "                21        22   23   24     25     26   27   28  \n",
       "0              NaN       NaN  NaN  NaN    NaN    NaN  NaN  NaN  \n",
       "1              NaN       NaN  NaN  NaN    NaN    NaN  NaN  NaN  \n",
       "2         20240122  20240112    6  000  92355  95000  000  NaN  \n",
       "3  000LMNRTYDPHHMY       000  000  NaN    NaN    NaN  NaN  NaN  \n",
       "4              NaN       NaN  NaN  NaN    NaN    NaN  NaN  NaN  \n",
       "\n",
       "[5 rows x 28 columns]"
      ]
     },
     "execution_count": 21,
     "metadata": {},
     "output_type": "execute_result"
    }
   ],
   "source": [
    "epa = pd.concat([pd.read_csv(f,names=names_header, sep=',',dtype=object) for f in allfiles])\n",
    "epa['order_id'] = epa['order_id'].str.strip()\n",
    "epa.head()"
   ]
  },
  {
   "cell_type": "code",
   "execution_count": 22,
   "metadata": {},
   "outputs": [
    {
     "data": {
      "text/plain": [
       "(5, 28)"
      ]
     },
     "execution_count": 22,
     "metadata": {},
     "output_type": "execute_result"
    }
   ],
   "source": [
    "epa.shape"
   ]
  },
  {
   "cell_type": "code",
   "execution_count": 23,
   "metadata": {},
   "outputs": [
    {
     "data": {
      "text/plain": [
       "array(['0', '1', '3', '4', '9'], dtype=object)"
      ]
     },
     "execution_count": 23,
     "metadata": {},
     "output_type": "execute_result"
    }
   ],
   "source": [
    "epa['6'].unique()"
   ]
  },
  {
   "cell_type": "code",
   "execution_count": 24,
   "metadata": {},
   "outputs": [],
   "source": [
    "epa_0 = epa[(epa['6'] == '0')]\n",
    "epa_1 = epa[(epa['6'] == '1')]\n",
    "epa_3 = epa[(epa['6'] == '3')]\n",
    "epa_4 = epa[(epa['6'] == '4')]\n",
    "epa_5 = epa[(epa['6'] == '5')]\n",
    "epa_9 = epa[(epa['6'] == '9')]"
   ]
  },
  {
   "cell_type": "markdown",
   "metadata": {},
   "source": [
    "## EPA 0"
   ]
  },
  {
   "cell_type": "code",
   "execution_count": 25,
   "metadata": {},
   "outputs": [
    {
     "data": {
      "text/html": [
       "<div>\n",
       "<style scoped>\n",
       "    .dataframe tbody tr th:only-of-type {\n",
       "        vertical-align: middle;\n",
       "    }\n",
       "\n",
       "    .dataframe tbody tr th {\n",
       "        vertical-align: top;\n",
       "    }\n",
       "\n",
       "    .dataframe thead th {\n",
       "        text-align: right;\n",
       "    }\n",
       "</style>\n",
       "<table border=\"1\" class=\"dataframe\">\n",
       "  <thead>\n",
       "    <tr style=\"text-align: right;\">\n",
       "      <th></th>\n",
       "      <th>1</th>\n",
       "      <th>2</th>\n",
       "      <th>3</th>\n",
       "      <th>4</th>\n",
       "      <th>5</th>\n",
       "      <th>6</th>\n",
       "      <th>7</th>\n",
       "      <th>8</th>\n",
       "      <th>9</th>\n",
       "      <th>10</th>\n",
       "      <th>...</th>\n",
       "      <th>19</th>\n",
       "      <th>order_id</th>\n",
       "      <th>21</th>\n",
       "      <th>22</th>\n",
       "      <th>23</th>\n",
       "      <th>24</th>\n",
       "      <th>25</th>\n",
       "      <th>26</th>\n",
       "      <th>27</th>\n",
       "      <th>28</th>\n",
       "    </tr>\n",
       "  </thead>\n",
       "  <tbody>\n",
       "    <tr>\n",
       "      <th>0</th>\n",
       "      <td>9351789434</td>\n",
       "      <td>00010101</td>\n",
       "      <td>000000</td>\n",
       "      <td>0000000000</td>\n",
       "      <td>00000</td>\n",
       "      <td>0</td>\n",
       "      <td>0</td>\n",
       "      <td>20240115</td>\n",
       "      <td>004703</td>\n",
       "      <td>002608</td>\n",
       "      <td>...</td>\n",
       "      <td>NaN</td>\n",
       "      <td>NaN</td>\n",
       "      <td>NaN</td>\n",
       "      <td>NaN</td>\n",
       "      <td>NaN</td>\n",
       "      <td>NaN</td>\n",
       "      <td>NaN</td>\n",
       "      <td>NaN</td>\n",
       "      <td>NaN</td>\n",
       "      <td>NaN</td>\n",
       "    </tr>\n",
       "  </tbody>\n",
       "</table>\n",
       "<p>1 rows × 28 columns</p>\n",
       "</div>"
      ],
      "text/plain": [
       "            1         2       3           4      5  6  7         8       9  \\\n",
       "0  9351789434  00010101  000000  0000000000  00000  0  0  20240115  004703   \n",
       "\n",
       "       10  ...   19 order_id   21   22   23   24   25   26   27   28  \n",
       "0  002608  ...  NaN      NaN  NaN  NaN  NaN  NaN  NaN  NaN  NaN  NaN  \n",
       "\n",
       "[1 rows x 28 columns]"
      ]
     },
     "execution_count": 25,
     "metadata": {},
     "output_type": "execute_result"
    }
   ],
   "source": [
    "epa_0.head()"
   ]
  },
  {
   "cell_type": "code",
   "execution_count": 26,
   "metadata": {},
   "outputs": [
    {
     "data": {
      "text/plain": [
       "(1, 28)"
      ]
     },
     "execution_count": 26,
     "metadata": {},
     "output_type": "execute_result"
    }
   ],
   "source": [
    "epa_0.shape"
   ]
  },
  {
   "cell_type": "markdown",
   "metadata": {},
   "source": [
    "## EPA 1"
   ]
  },
  {
   "cell_type": "code",
   "execution_count": 27,
   "metadata": {},
   "outputs": [
    {
     "name": "stderr",
     "output_type": "stream",
     "text": [
      "C:\\Users\\Cristian.Aparicio\\AppData\\Local\\Temp\\ipykernel_1404\\2201093678.py:1: SettingWithCopyWarning: \n",
      "A value is trying to be set on a copy of a slice from a DataFrame.\n",
      "Try using .loc[row_indexer,col_indexer] = value instead\n",
      "\n",
      "See the caveats in the documentation: https://pandas.pydata.org/pandas-docs/stable/user_guide/indexing.html#returning-a-view-versus-a-copy\n",
      "  epa_1['2'] = pd.to_datetime(epa_1['2'], format='%Y%m%d').dt.date\n",
      "C:\\Users\\Cristian.Aparicio\\AppData\\Local\\Temp\\ipykernel_1404\\2201093678.py:2: SettingWithCopyWarning: \n",
      "A value is trying to be set on a copy of a slice from a DataFrame.\n",
      "Try using .loc[row_indexer,col_indexer] = value instead\n",
      "\n",
      "See the caveats in the documentation: https://pandas.pydata.org/pandas-docs/stable/user_guide/indexing.html#returning-a-view-versus-a-copy\n",
      "  epa_1['2'] = pd.to_datetime(epa_1['2'])\n",
      "C:\\Users\\Cristian.Aparicio\\AppData\\Local\\Temp\\ipykernel_1404\\2201093678.py:3: SettingWithCopyWarning: \n",
      "A value is trying to be set on a copy of a slice from a DataFrame\n",
      "\n",
      "See the caveats in the documentation: https://pandas.pydata.org/pandas-docs/stable/user_guide/indexing.html#returning-a-view-versus-a-copy\n",
      "  epa_1.sort_values(by=['2'],inplace=True)\n"
     ]
    },
    {
     "data": {
      "text/html": [
       "<div>\n",
       "<style scoped>\n",
       "    .dataframe tbody tr th:only-of-type {\n",
       "        vertical-align: middle;\n",
       "    }\n",
       "\n",
       "    .dataframe tbody tr th {\n",
       "        vertical-align: top;\n",
       "    }\n",
       "\n",
       "    .dataframe thead th {\n",
       "        text-align: right;\n",
       "    }\n",
       "</style>\n",
       "<table border=\"1\" class=\"dataframe\">\n",
       "  <thead>\n",
       "    <tr style=\"text-align: right;\">\n",
       "      <th></th>\n",
       "      <th>1</th>\n",
       "      <th>2</th>\n",
       "      <th>3</th>\n",
       "      <th>4</th>\n",
       "      <th>5</th>\n",
       "      <th>6</th>\n",
       "      <th>7</th>\n",
       "      <th>8</th>\n",
       "      <th>9</th>\n",
       "      <th>10</th>\n",
       "      <th>...</th>\n",
       "      <th>19</th>\n",
       "      <th>order_id</th>\n",
       "      <th>21</th>\n",
       "      <th>22</th>\n",
       "      <th>23</th>\n",
       "      <th>24</th>\n",
       "      <th>25</th>\n",
       "      <th>26</th>\n",
       "      <th>27</th>\n",
       "      <th>28</th>\n",
       "    </tr>\n",
       "  </thead>\n",
       "  <tbody>\n",
       "    <tr>\n",
       "      <th>1</th>\n",
       "      <td>9351789434</td>\n",
       "      <td>2024-01-16</td>\n",
       "      <td>055586</td>\n",
       "      <td>0000000000</td>\n",
       "      <td>00000</td>\n",
       "      <td>1</td>\n",
       "      <td>0</td>\n",
       "      <td>92355</td>\n",
       "      <td>072</td>\n",
       "      <td>000000</td>\n",
       "      <td>...</td>\n",
       "      <td>92355</td>\n",
       "      <td>P</td>\n",
       "      <td>NaN</td>\n",
       "      <td>NaN</td>\n",
       "      <td>NaN</td>\n",
       "      <td>NaN</td>\n",
       "      <td>NaN</td>\n",
       "      <td>NaN</td>\n",
       "      <td>NaN</td>\n",
       "      <td>NaN</td>\n",
       "    </tr>\n",
       "  </tbody>\n",
       "</table>\n",
       "<p>1 rows × 28 columns</p>\n",
       "</div>"
      ],
      "text/plain": [
       "            1          2       3           4      5  6  7      8    9      10  \\\n",
       "1  9351789434 2024-01-16  055586  0000000000  00000  1  0  92355  072  000000   \n",
       "\n",
       "   ...     19 order_id   21   22   23   24   25   26   27   28  \n",
       "1  ...  92355        P  NaN  NaN  NaN  NaN  NaN  NaN  NaN  NaN  \n",
       "\n",
       "[1 rows x 28 columns]"
      ]
     },
     "execution_count": 27,
     "metadata": {},
     "output_type": "execute_result"
    }
   ],
   "source": [
    "epa_1['2'] = pd.to_datetime(epa_1['2'], format='%Y%m%d').dt.date\n",
    "epa_1['2'] = pd.to_datetime(epa_1['2'])\n",
    "epa_1.sort_values(by=['2'],inplace=True)\n",
    "epa_1.head()"
   ]
  },
  {
   "cell_type": "code",
   "execution_count": 28,
   "metadata": {},
   "outputs": [
    {
     "data": {
      "text/plain": [
       "(1, 28)"
      ]
     },
     "execution_count": 28,
     "metadata": {},
     "output_type": "execute_result"
    }
   ],
   "source": [
    "epa_1.shape"
   ]
  },
  {
   "cell_type": "code",
   "execution_count": 29,
   "metadata": {},
   "outputs": [
    {
     "data": {
      "text/html": [
       "<div>\n",
       "<style scoped>\n",
       "    .dataframe tbody tr th:only-of-type {\n",
       "        vertical-align: middle;\n",
       "    }\n",
       "\n",
       "    .dataframe tbody tr th {\n",
       "        vertical-align: top;\n",
       "    }\n",
       "\n",
       "    .dataframe thead th {\n",
       "        text-align: right;\n",
       "    }\n",
       "</style>\n",
       "<table border=\"1\" class=\"dataframe\">\n",
       "  <thead>\n",
       "    <tr style=\"text-align: right;\">\n",
       "      <th></th>\n",
       "      <th>6</th>\n",
       "      <th>2</th>\n",
       "      <th>8</th>\n",
       "      <th>15</th>\n",
       "      <th>16</th>\n",
       "      <th>17</th>\n",
       "      <th>18</th>\n",
       "      <th>19</th>\n",
       "    </tr>\n",
       "  </thead>\n",
       "  <tbody>\n",
       "    <tr>\n",
       "      <th>1</th>\n",
       "      <td>1</td>\n",
       "      <td>2024-01-16</td>\n",
       "      <td>92355</td>\n",
       "      <td>95000</td>\n",
       "      <td>-2280</td>\n",
       "      <td>-365</td>\n",
       "      <td>000</td>\n",
       "      <td>92355</td>\n",
       "    </tr>\n",
       "  </tbody>\n",
       "</table>\n",
       "</div>"
      ],
      "text/plain": [
       "   6          2      8     15     16    17   18     19\n",
       "1  1 2024-01-16  92355  95000  -2280  -365  000  92355"
      ]
     },
     "execution_count": 29,
     "metadata": {},
     "output_type": "execute_result"
    }
   ],
   "source": [
    "epa_1_final = epa_1[['6','2','8','15','16','17','18','19']]\n",
    "epa_1_final.head()"
   ]
  },
  {
   "cell_type": "code",
   "execution_count": 30,
   "metadata": {},
   "outputs": [
    {
     "name": "stderr",
     "output_type": "stream",
     "text": [
      "C:\\Users\\Cristian.Aparicio\\AppData\\Local\\Temp\\ipykernel_1404\\127189751.py:1: SettingWithCopyWarning: \n",
      "A value is trying to be set on a copy of a slice from a DataFrame.\n",
      "Try using .loc[row_indexer,col_indexer] = value instead\n",
      "\n",
      "See the caveats in the documentation: https://pandas.pydata.org/pandas-docs/stable/user_guide/indexing.html#returning-a-view-versus-a-copy\n",
      "  epa_1_final['8'] = epa_1_final['8'].astype(float)\n",
      "C:\\Users\\Cristian.Aparicio\\AppData\\Local\\Temp\\ipykernel_1404\\127189751.py:2: SettingWithCopyWarning: \n",
      "A value is trying to be set on a copy of a slice from a DataFrame.\n",
      "Try using .loc[row_indexer,col_indexer] = value instead\n",
      "\n",
      "See the caveats in the documentation: https://pandas.pydata.org/pandas-docs/stable/user_guide/indexing.html#returning-a-view-versus-a-copy\n",
      "  epa_1_final['15'] = epa_1_final['15'].astype(float)\n",
      "C:\\Users\\Cristian.Aparicio\\AppData\\Local\\Temp\\ipykernel_1404\\127189751.py:3: SettingWithCopyWarning: \n",
      "A value is trying to be set on a copy of a slice from a DataFrame.\n",
      "Try using .loc[row_indexer,col_indexer] = value instead\n",
      "\n",
      "See the caveats in the documentation: https://pandas.pydata.org/pandas-docs/stable/user_guide/indexing.html#returning-a-view-versus-a-copy\n",
      "  epa_1_final['16'] = epa_1_final['16'].astype(float)\n",
      "C:\\Users\\Cristian.Aparicio\\AppData\\Local\\Temp\\ipykernel_1404\\127189751.py:4: SettingWithCopyWarning: \n",
      "A value is trying to be set on a copy of a slice from a DataFrame.\n",
      "Try using .loc[row_indexer,col_indexer] = value instead\n",
      "\n",
      "See the caveats in the documentation: https://pandas.pydata.org/pandas-docs/stable/user_guide/indexing.html#returning-a-view-versus-a-copy\n",
      "  epa_1_final['17'] = epa_1_final['17'].astype(float)\n",
      "C:\\Users\\Cristian.Aparicio\\AppData\\Local\\Temp\\ipykernel_1404\\127189751.py:5: SettingWithCopyWarning: \n",
      "A value is trying to be set on a copy of a slice from a DataFrame.\n",
      "Try using .loc[row_indexer,col_indexer] = value instead\n",
      "\n",
      "See the caveats in the documentation: https://pandas.pydata.org/pandas-docs/stable/user_guide/indexing.html#returning-a-view-versus-a-copy\n",
      "  epa_1_final['18'] = epa_1_final['18'].astype(float)\n",
      "C:\\Users\\Cristian.Aparicio\\AppData\\Local\\Temp\\ipykernel_1404\\127189751.py:6: SettingWithCopyWarning: \n",
      "A value is trying to be set on a copy of a slice from a DataFrame.\n",
      "Try using .loc[row_indexer,col_indexer] = value instead\n",
      "\n",
      "See the caveats in the documentation: https://pandas.pydata.org/pandas-docs/stable/user_guide/indexing.html#returning-a-view-versus-a-copy\n",
      "  epa_1_final['19'] = epa_1_final['19'].astype(float)\n"
     ]
    }
   ],
   "source": [
    "epa_1_final['8'] = epa_1_final['8'].astype(float)\n",
    "epa_1_final['15'] = epa_1_final['15'].astype(float)\n",
    "epa_1_final['16'] = epa_1_final['16'].astype(float)\n",
    "epa_1_final['17'] = epa_1_final['17'].astype(float)\n",
    "epa_1_final['18'] = epa_1_final['18'].astype(float)\n",
    "epa_1_final['19'] = epa_1_final['19'].astype(float)"
   ]
  },
  {
   "cell_type": "code",
   "execution_count": 31,
   "metadata": {},
   "outputs": [
    {
     "name": "stderr",
     "output_type": "stream",
     "text": [
      "C:\\Users\\Cristian.Aparicio\\AppData\\Local\\Temp\\ipykernel_1404\\739277314.py:1: SettingWithCopyWarning: \n",
      "A value is trying to be set on a copy of a slice from a DataFrame\n",
      "\n",
      "See the caveats in the documentation: https://pandas.pydata.org/pandas-docs/stable/user_guide/indexing.html#returning-a-view-versus-a-copy\n",
      "  epa_1_final.rename(columns ={'6':'Type','2':'Payment_date'},inplace=True)\n"
     ]
    }
   ],
   "source": [
    "epa_1_final.rename(columns ={'6':'Type','2':'Payment_date'},inplace=True)"
   ]
  },
  {
   "cell_type": "code",
   "execution_count": 32,
   "metadata": {},
   "outputs": [
    {
     "name": "stderr",
     "output_type": "stream",
     "text": [
      "C:\\Users\\Cristian.Aparicio\\AppData\\Local\\Temp\\ipykernel_1404\\2918445751.py:1: SettingWithCopyWarning: \n",
      "A value is trying to be set on a copy of a slice from a DataFrame.\n",
      "Try using .loc[row_indexer,col_indexer] = value instead\n",
      "\n",
      "See the caveats in the documentation: https://pandas.pydata.org/pandas-docs/stable/user_guide/indexing.html#returning-a-view-versus-a-copy\n",
      "  epa_1_final['Payment_amount'] = epa_1_final['8']/100\n",
      "C:\\Users\\Cristian.Aparicio\\AppData\\Local\\Temp\\ipykernel_1404\\2918445751.py:2: SettingWithCopyWarning: \n",
      "A value is trying to be set on a copy of a slice from a DataFrame.\n",
      "Try using .loc[row_indexer,col_indexer] = value instead\n",
      "\n",
      "See the caveats in the documentation: https://pandas.pydata.org/pandas-docs/stable/user_guide/indexing.html#returning-a-view-versus-a-copy\n",
      "  epa_1_final['Gross_amount'] = epa_1_final['15']/100\n",
      "C:\\Users\\Cristian.Aparicio\\AppData\\Local\\Temp\\ipykernel_1404\\2918445751.py:3: SettingWithCopyWarning: \n",
      "A value is trying to be set on a copy of a slice from a DataFrame.\n",
      "Try using .loc[row_indexer,col_indexer] = value instead\n",
      "\n",
      "See the caveats in the documentation: https://pandas.pydata.org/pandas-docs/stable/user_guide/indexing.html#returning-a-view-versus-a-copy\n",
      "  epa_1_final['Discount_amount'] = epa_1_final['16']/100\n",
      "C:\\Users\\Cristian.Aparicio\\AppData\\Local\\Temp\\ipykernel_1404\\2918445751.py:4: SettingWithCopyWarning: \n",
      "A value is trying to be set on a copy of a slice from a DataFrame.\n",
      "Try using .loc[row_indexer,col_indexer] = value instead\n",
      "\n",
      "See the caveats in the documentation: https://pandas.pydata.org/pandas-docs/stable/user_guide/indexing.html#returning-a-view-versus-a-copy\n",
      "  epa_1_final['Taxes_amount'] = epa_1_final['17']/100\n",
      "C:\\Users\\Cristian.Aparicio\\AppData\\Local\\Temp\\ipykernel_1404\\2918445751.py:5: SettingWithCopyWarning: \n",
      "A value is trying to be set on a copy of a slice from a DataFrame.\n",
      "Try using .loc[row_indexer,col_indexer] = value instead\n",
      "\n",
      "See the caveats in the documentation: https://pandas.pydata.org/pandas-docs/stable/user_guide/indexing.html#returning-a-view-versus-a-copy\n",
      "  epa_1_final['Discount_aceleration_amount'] = epa_1_final['18']/100\n",
      "C:\\Users\\Cristian.Aparicio\\AppData\\Local\\Temp\\ipykernel_1404\\2918445751.py:6: SettingWithCopyWarning: \n",
      "A value is trying to be set on a copy of a slice from a DataFrame.\n",
      "Try using .loc[row_indexer,col_indexer] = value instead\n",
      "\n",
      "See the caveats in the documentation: https://pandas.pydata.org/pandas-docs/stable/user_guide/indexing.html#returning-a-view-versus-a-copy\n",
      "  epa_1_final['Net_amount'] = epa_1_final['19']/100\n"
     ]
    },
    {
     "data": {
      "text/html": [
       "<div>\n",
       "<style scoped>\n",
       "    .dataframe tbody tr th:only-of-type {\n",
       "        vertical-align: middle;\n",
       "    }\n",
       "\n",
       "    .dataframe tbody tr th {\n",
       "        vertical-align: top;\n",
       "    }\n",
       "\n",
       "    .dataframe thead th {\n",
       "        text-align: right;\n",
       "    }\n",
       "</style>\n",
       "<table border=\"1\" class=\"dataframe\">\n",
       "  <thead>\n",
       "    <tr style=\"text-align: right;\">\n",
       "      <th></th>\n",
       "      <th>Type</th>\n",
       "      <th>Payment_date</th>\n",
       "      <th>8</th>\n",
       "      <th>15</th>\n",
       "      <th>16</th>\n",
       "      <th>17</th>\n",
       "      <th>18</th>\n",
       "      <th>19</th>\n",
       "      <th>Payment_amount</th>\n",
       "      <th>Gross_amount</th>\n",
       "      <th>Discount_amount</th>\n",
       "      <th>Taxes_amount</th>\n",
       "      <th>Discount_aceleration_amount</th>\n",
       "      <th>Net_amount</th>\n",
       "    </tr>\n",
       "  </thead>\n",
       "  <tbody>\n",
       "    <tr>\n",
       "      <th>1</th>\n",
       "      <td>1</td>\n",
       "      <td>2024-01-16</td>\n",
       "      <td>92,355.00</td>\n",
       "      <td>95,000.00</td>\n",
       "      <td>-2,280.00</td>\n",
       "      <td>-365.00</td>\n",
       "      <td>0.00</td>\n",
       "      <td>92,355.00</td>\n",
       "      <td>923.55</td>\n",
       "      <td>950.00</td>\n",
       "      <td>-22.80</td>\n",
       "      <td>-3.65</td>\n",
       "      <td>0.00</td>\n",
       "      <td>923.55</td>\n",
       "    </tr>\n",
       "  </tbody>\n",
       "</table>\n",
       "</div>"
      ],
      "text/plain": [
       "  Type Payment_date         8        15        16      17   18        19  \\\n",
       "1    1   2024-01-16 92,355.00 95,000.00 -2,280.00 -365.00 0.00 92,355.00   \n",
       "\n",
       "   Payment_amount  Gross_amount  Discount_amount  Taxes_amount  \\\n",
       "1          923.55        950.00           -22.80         -3.65   \n",
       "\n",
       "   Discount_aceleration_amount  Net_amount  \n",
       "1                         0.00      923.55  "
      ]
     },
     "execution_count": 32,
     "metadata": {},
     "output_type": "execute_result"
    }
   ],
   "source": [
    "epa_1_final['Payment_amount'] = epa_1_final['8']/100\n",
    "epa_1_final['Gross_amount'] = epa_1_final['15']/100\n",
    "epa_1_final['Discount_amount'] = epa_1_final['16']/100\n",
    "epa_1_final['Taxes_amount'] = epa_1_final['17']/100\n",
    "epa_1_final['Discount_aceleration_amount'] = epa_1_final['18']/100\n",
    "epa_1_final['Net_amount'] = epa_1_final['19']/100\n",
    "epa_1_final.head()"
   ]
  },
  {
   "cell_type": "code",
   "execution_count": 33,
   "metadata": {},
   "outputs": [],
   "source": [
    "epa_1_excel = epa_1_final[(epa_1_final['Payment_date'] >= start_date) & (epa_1_final['Payment_date'] <= final_date)]"
   ]
  },
  {
   "cell_type": "code",
   "execution_count": 34,
   "metadata": {},
   "outputs": [
    {
     "name": "stderr",
     "output_type": "stream",
     "text": [
      "C:\\Users\\Cristian.Aparicio\\AppData\\Local\\Temp\\ipykernel_1404\\2945002399.py:1: FutureWarning: The provided callable <built-in function sum> is currently using SeriesGroupBy.sum. In a future version of pandas, the provided callable will be used directly. To keep current behavior pass the string \"sum\" instead.\n",
      "  epa_1_excel_final = epa_1_excel.groupby(['Payment_date']).agg({'Payment_amount':sum,'Gross_amount':sum,'Discount_amount':sum\n"
     ]
    },
    {
     "data": {
      "text/html": [
       "<div>\n",
       "<style scoped>\n",
       "    .dataframe tbody tr th:only-of-type {\n",
       "        vertical-align: middle;\n",
       "    }\n",
       "\n",
       "    .dataframe tbody tr th {\n",
       "        vertical-align: top;\n",
       "    }\n",
       "\n",
       "    .dataframe thead th {\n",
       "        text-align: right;\n",
       "    }\n",
       "</style>\n",
       "<table border=\"1\" class=\"dataframe\">\n",
       "  <thead>\n",
       "    <tr style=\"text-align: right;\">\n",
       "      <th></th>\n",
       "      <th>Payment_date</th>\n",
       "      <th>Payment_amount</th>\n",
       "      <th>Gross_amount</th>\n",
       "      <th>Discount_amount</th>\n",
       "      <th>Taxes_amount</th>\n",
       "      <th>Discount_aceleration_amount</th>\n",
       "      <th>Net_amount</th>\n",
       "    </tr>\n",
       "  </thead>\n",
       "  <tbody>\n",
       "    <tr>\n",
       "      <th>0</th>\n",
       "      <td>2024-01-16</td>\n",
       "      <td>923.55</td>\n",
       "      <td>950.00</td>\n",
       "      <td>-22.80</td>\n",
       "      <td>-3.65</td>\n",
       "      <td>0.00</td>\n",
       "      <td>923.55</td>\n",
       "    </tr>\n",
       "  </tbody>\n",
       "</table>\n",
       "</div>"
      ],
      "text/plain": [
       "  Payment_date  Payment_amount  Gross_amount  Discount_amount  Taxes_amount  \\\n",
       "0   2024-01-16          923.55        950.00           -22.80         -3.65   \n",
       "\n",
       "   Discount_aceleration_amount  Net_amount  \n",
       "0                         0.00      923.55  "
      ]
     },
     "execution_count": 34,
     "metadata": {},
     "output_type": "execute_result"
    }
   ],
   "source": [
    "epa_1_excel_final = epa_1_excel.groupby(['Payment_date']).agg({'Payment_amount':sum,'Gross_amount':sum,'Discount_amount':sum\n",
    "                                                        ,'Taxes_amount':sum,'Discount_aceleration_amount':sum\n",
    "                                                        ,'Net_amount':sum}).reset_index()\n",
    "epa_1_excel_final.head()"
   ]
  },
  {
   "cell_type": "code",
   "execution_count": 35,
   "metadata": {},
   "outputs": [
    {
     "data": {
      "text/plain": [
       "(1, 7)"
      ]
     },
     "execution_count": 35,
     "metadata": {},
     "output_type": "execute_result"
    }
   ],
   "source": [
    "epa_1_excel_final.shape"
   ]
  },
  {
   "cell_type": "code",
   "execution_count": 36,
   "metadata": {},
   "outputs": [],
   "source": [
    "epa_1_excel_final.to_excel('EPA_1.xlsx')"
   ]
  },
  {
   "cell_type": "markdown",
   "metadata": {},
   "source": [
    "## EPA 3"
   ]
  },
  {
   "cell_type": "code",
   "execution_count": 37,
   "metadata": {},
   "outputs": [
    {
     "name": "stderr",
     "output_type": "stream",
     "text": [
      "C:\\Users\\Cristian.Aparicio\\AppData\\Local\\Temp\\ipykernel_1404\\1828633791.py:1: SettingWithCopyWarning: \n",
      "A value is trying to be set on a copy of a slice from a DataFrame.\n",
      "Try using .loc[row_indexer,col_indexer] = value instead\n",
      "\n",
      "See the caveats in the documentation: https://pandas.pydata.org/pandas-docs/stable/user_guide/indexing.html#returning-a-view-versus-a-copy\n",
      "  epa_3['2'] = pd.to_datetime(epa_3['2'], format='%Y%m%d').dt.date\n",
      "C:\\Users\\Cristian.Aparicio\\AppData\\Local\\Temp\\ipykernel_1404\\1828633791.py:2: SettingWithCopyWarning: \n",
      "A value is trying to be set on a copy of a slice from a DataFrame.\n",
      "Try using .loc[row_indexer,col_indexer] = value instead\n",
      "\n",
      "See the caveats in the documentation: https://pandas.pydata.org/pandas-docs/stable/user_guide/indexing.html#returning-a-view-versus-a-copy\n",
      "  epa_3['2'] = pd.to_datetime(epa_3['2'])\n",
      "C:\\Users\\Cristian.Aparicio\\AppData\\Local\\Temp\\ipykernel_1404\\1828633791.py:3: SettingWithCopyWarning: \n",
      "A value is trying to be set on a copy of a slice from a DataFrame\n",
      "\n",
      "See the caveats in the documentation: https://pandas.pydata.org/pandas-docs/stable/user_guide/indexing.html#returning-a-view-versus-a-copy\n",
      "  epa_3.sort_values(by=['2'],inplace=True)\n"
     ]
    },
    {
     "data": {
      "text/html": [
       "<div>\n",
       "<style scoped>\n",
       "    .dataframe tbody tr th:only-of-type {\n",
       "        vertical-align: middle;\n",
       "    }\n",
       "\n",
       "    .dataframe tbody tr th {\n",
       "        vertical-align: top;\n",
       "    }\n",
       "\n",
       "    .dataframe thead th {\n",
       "        text-align: right;\n",
       "    }\n",
       "</style>\n",
       "<table border=\"1\" class=\"dataframe\">\n",
       "  <thead>\n",
       "    <tr style=\"text-align: right;\">\n",
       "      <th></th>\n",
       "      <th>1</th>\n",
       "      <th>2</th>\n",
       "      <th>3</th>\n",
       "      <th>4</th>\n",
       "      <th>5</th>\n",
       "      <th>6</th>\n",
       "      <th>7</th>\n",
       "      <th>8</th>\n",
       "      <th>9</th>\n",
       "      <th>10</th>\n",
       "      <th>...</th>\n",
       "      <th>19</th>\n",
       "      <th>order_id</th>\n",
       "      <th>21</th>\n",
       "      <th>22</th>\n",
       "      <th>23</th>\n",
       "      <th>24</th>\n",
       "      <th>25</th>\n",
       "      <th>26</th>\n",
       "      <th>27</th>\n",
       "      <th>28</th>\n",
       "    </tr>\n",
       "  </thead>\n",
       "  <tbody>\n",
       "    <tr>\n",
       "      <th>2</th>\n",
       "      <td>9351789434</td>\n",
       "      <td>2024-01-16</td>\n",
       "      <td>055586</td>\n",
       "      <td>9351789434</td>\n",
       "      <td>00001</td>\n",
       "      <td>3</td>\n",
       "      <td>0</td>\n",
       "      <td>20240113</td>\n",
       "      <td>935178943440114</td>\n",
       "      <td>95000</td>\n",
       "      <td>...</td>\n",
       "      <td>0</td>\n",
       "      <td>46687159</td>\n",
       "      <td>20240122</td>\n",
       "      <td>20240112</td>\n",
       "      <td>6</td>\n",
       "      <td>000</td>\n",
       "      <td>92355</td>\n",
       "      <td>95000</td>\n",
       "      <td>000</td>\n",
       "      <td>NaN</td>\n",
       "    </tr>\n",
       "  </tbody>\n",
       "</table>\n",
       "<p>1 rows × 28 columns</p>\n",
       "</div>"
      ],
      "text/plain": [
       "            1          2       3           4      5  6  7         8  \\\n",
       "2  9351789434 2024-01-16  055586  9351789434  00001  3  0  20240113   \n",
       "\n",
       "                 9     10  ... 19  order_id        21        22 23   24  \\\n",
       "2  935178943440114  95000  ...  0  46687159  20240122  20240112  6  000   \n",
       "\n",
       "      25     26   27   28  \n",
       "2  92355  95000  000  NaN  \n",
       "\n",
       "[1 rows x 28 columns]"
      ]
     },
     "execution_count": 37,
     "metadata": {},
     "output_type": "execute_result"
    }
   ],
   "source": [
    "epa_3['2'] = pd.to_datetime(epa_3['2'], format='%Y%m%d').dt.date\n",
    "epa_3['2'] = pd.to_datetime(epa_3['2'])\n",
    "epa_3.sort_values(by=['2'],inplace=True)\n",
    "epa_3.head()"
   ]
  },
  {
   "cell_type": "code",
   "execution_count": 38,
   "metadata": {},
   "outputs": [
    {
     "data": {
      "text/plain": [
       "(1, 28)"
      ]
     },
     "execution_count": 38,
     "metadata": {},
     "output_type": "execute_result"
    }
   ],
   "source": [
    "epa_3.shape"
   ]
  },
  {
   "cell_type": "code",
   "execution_count": 39,
   "metadata": {},
   "outputs": [],
   "source": [
    "epa_3.to_csv('EPA_3.csv')"
   ]
  },
  {
   "cell_type": "code",
   "execution_count": 40,
   "metadata": {},
   "outputs": [
    {
     "data": {
      "text/html": [
       "<div>\n",
       "<style scoped>\n",
       "    .dataframe tbody tr th:only-of-type {\n",
       "        vertical-align: middle;\n",
       "    }\n",
       "\n",
       "    .dataframe tbody tr th {\n",
       "        vertical-align: top;\n",
       "    }\n",
       "\n",
       "    .dataframe thead th {\n",
       "        text-align: right;\n",
       "    }\n",
       "</style>\n",
       "<table border=\"1\" class=\"dataframe\">\n",
       "  <thead>\n",
       "    <tr style=\"text-align: right;\">\n",
       "      <th></th>\n",
       "      <th>6</th>\n",
       "      <th>2</th>\n",
       "      <th>10</th>\n",
       "      <th>A</th>\n",
       "      <th>12</th>\n",
       "      <th>13</th>\n",
       "      <th>14</th>\n",
       "      <th>15</th>\n",
       "      <th>16</th>\n",
       "      <th>25</th>\n",
       "      <th>26</th>\n",
       "      <th>27</th>\n",
       "      <th>28</th>\n",
       "    </tr>\n",
       "  </thead>\n",
       "  <tbody>\n",
       "    <tr>\n",
       "      <th>0</th>\n",
       "      <td>3</td>\n",
       "      <td>2024-01-16</td>\n",
       "      <td>95000</td>\n",
       "      <td>95000</td>\n",
       "      <td>-2280</td>\n",
       "      <td>-365</td>\n",
       "      <td>000</td>\n",
       "      <td>92355</td>\n",
       "      <td>1</td>\n",
       "      <td>92355</td>\n",
       "      <td>95000</td>\n",
       "      <td>000</td>\n",
       "      <td>NaN</td>\n",
       "    </tr>\n",
       "  </tbody>\n",
       "</table>\n",
       "</div>"
      ],
      "text/plain": [
       "   6          2     10      A     12    13   14     15 16     25     26   27  \\\n",
       "0  3 2024-01-16  95000  95000  -2280  -365  000  92355  1  92355  95000  000   \n",
       "\n",
       "    28  \n",
       "0  NaN  "
      ]
     },
     "execution_count": 40,
     "metadata": {},
     "output_type": "execute_result"
    }
   ],
   "source": [
    "epa_3_final = epa_3[['6','2','10','A','12','13','14','15','16','25','26','27','28']]\n",
    "epa_3_final.reset_index(drop=True, inplace=True)\n",
    "epa_3_final.head()"
   ]
  },
  {
   "cell_type": "code",
   "execution_count": 41,
   "metadata": {},
   "outputs": [
    {
     "name": "stderr",
     "output_type": "stream",
     "text": [
      "C:\\Users\\Cristian.Aparicio\\AppData\\Local\\Temp\\ipykernel_1404\\2821721407.py:1: SettingWithCopyWarning: \n",
      "A value is trying to be set on a copy of a slice from a DataFrame.\n",
      "Try using .loc[row_indexer,col_indexer] = value instead\n",
      "\n",
      "See the caveats in the documentation: https://pandas.pydata.org/pandas-docs/stable/user_guide/indexing.html#returning-a-view-versus-a-copy\n",
      "  epa_3_final['10'] = epa_3_final['10'].astype(float)\n",
      "C:\\Users\\Cristian.Aparicio\\AppData\\Local\\Temp\\ipykernel_1404\\2821721407.py:2: SettingWithCopyWarning: \n",
      "A value is trying to be set on a copy of a slice from a DataFrame.\n",
      "Try using .loc[row_indexer,col_indexer] = value instead\n",
      "\n",
      "See the caveats in the documentation: https://pandas.pydata.org/pandas-docs/stable/user_guide/indexing.html#returning-a-view-versus-a-copy\n",
      "  epa_3_final['A'] = epa_3_final['A'].astype(float)\n",
      "C:\\Users\\Cristian.Aparicio\\AppData\\Local\\Temp\\ipykernel_1404\\2821721407.py:3: SettingWithCopyWarning: \n",
      "A value is trying to be set on a copy of a slice from a DataFrame.\n",
      "Try using .loc[row_indexer,col_indexer] = value instead\n",
      "\n",
      "See the caveats in the documentation: https://pandas.pydata.org/pandas-docs/stable/user_guide/indexing.html#returning-a-view-versus-a-copy\n",
      "  epa_3_final['12'] = epa_3_final['12'].astype(float)\n",
      "C:\\Users\\Cristian.Aparicio\\AppData\\Local\\Temp\\ipykernel_1404\\2821721407.py:4: SettingWithCopyWarning: \n",
      "A value is trying to be set on a copy of a slice from a DataFrame.\n",
      "Try using .loc[row_indexer,col_indexer] = value instead\n",
      "\n",
      "See the caveats in the documentation: https://pandas.pydata.org/pandas-docs/stable/user_guide/indexing.html#returning-a-view-versus-a-copy\n",
      "  epa_3_final['13'] = epa_3_final['13'].astype(float)\n",
      "C:\\Users\\Cristian.Aparicio\\AppData\\Local\\Temp\\ipykernel_1404\\2821721407.py:5: SettingWithCopyWarning: \n",
      "A value is trying to be set on a copy of a slice from a DataFrame.\n",
      "Try using .loc[row_indexer,col_indexer] = value instead\n",
      "\n",
      "See the caveats in the documentation: https://pandas.pydata.org/pandas-docs/stable/user_guide/indexing.html#returning-a-view-versus-a-copy\n",
      "  epa_3_final['14'] = epa_3_final['14'].astype(float)\n",
      "C:\\Users\\Cristian.Aparicio\\AppData\\Local\\Temp\\ipykernel_1404\\2821721407.py:6: SettingWithCopyWarning: \n",
      "A value is trying to be set on a copy of a slice from a DataFrame.\n",
      "Try using .loc[row_indexer,col_indexer] = value instead\n",
      "\n",
      "See the caveats in the documentation: https://pandas.pydata.org/pandas-docs/stable/user_guide/indexing.html#returning-a-view-versus-a-copy\n",
      "  epa_3_final['15'] = epa_3_final['15'].astype(float)\n",
      "C:\\Users\\Cristian.Aparicio\\AppData\\Local\\Temp\\ipykernel_1404\\2821721407.py:7: SettingWithCopyWarning: \n",
      "A value is trying to be set on a copy of a slice from a DataFrame.\n",
      "Try using .loc[row_indexer,col_indexer] = value instead\n",
      "\n",
      "See the caveats in the documentation: https://pandas.pydata.org/pandas-docs/stable/user_guide/indexing.html#returning-a-view-versus-a-copy\n",
      "  epa_3_final['16'] = epa_3_final['16'].astype(float)\n",
      "C:\\Users\\Cristian.Aparicio\\AppData\\Local\\Temp\\ipykernel_1404\\2821721407.py:8: SettingWithCopyWarning: \n",
      "A value is trying to be set on a copy of a slice from a DataFrame.\n",
      "Try using .loc[row_indexer,col_indexer] = value instead\n",
      "\n",
      "See the caveats in the documentation: https://pandas.pydata.org/pandas-docs/stable/user_guide/indexing.html#returning-a-view-versus-a-copy\n",
      "  epa_3_final['25'] = epa_3_final['25'].astype(float)\n",
      "C:\\Users\\Cristian.Aparicio\\AppData\\Local\\Temp\\ipykernel_1404\\2821721407.py:9: SettingWithCopyWarning: \n",
      "A value is trying to be set on a copy of a slice from a DataFrame.\n",
      "Try using .loc[row_indexer,col_indexer] = value instead\n",
      "\n",
      "See the caveats in the documentation: https://pandas.pydata.org/pandas-docs/stable/user_guide/indexing.html#returning-a-view-versus-a-copy\n",
      "  epa_3_final['26'] = epa_3_final['26'].astype(float)\n",
      "C:\\Users\\Cristian.Aparicio\\AppData\\Local\\Temp\\ipykernel_1404\\2821721407.py:10: SettingWithCopyWarning: \n",
      "A value is trying to be set on a copy of a slice from a DataFrame.\n",
      "Try using .loc[row_indexer,col_indexer] = value instead\n",
      "\n",
      "See the caveats in the documentation: https://pandas.pydata.org/pandas-docs/stable/user_guide/indexing.html#returning-a-view-versus-a-copy\n",
      "  epa_3_final['27'] = epa_3_final['27'].astype(float)\n",
      "C:\\Users\\Cristian.Aparicio\\AppData\\Local\\Temp\\ipykernel_1404\\2821721407.py:11: SettingWithCopyWarning: \n",
      "A value is trying to be set on a copy of a slice from a DataFrame.\n",
      "Try using .loc[row_indexer,col_indexer] = value instead\n",
      "\n",
      "See the caveats in the documentation: https://pandas.pydata.org/pandas-docs/stable/user_guide/indexing.html#returning-a-view-versus-a-copy\n",
      "  epa_3_final['28'] = epa_3_final['28'].astype(float)\n"
     ]
    }
   ],
   "source": [
    "epa_3_final['10'] = epa_3_final['10'].astype(float)\n",
    "epa_3_final['A'] = epa_3_final['A'].astype(float)\n",
    "epa_3_final['12'] = epa_3_final['12'].astype(float)\n",
    "epa_3_final['13'] = epa_3_final['13'].astype(float)\n",
    "epa_3_final['14'] = epa_3_final['14'].astype(float)\n",
    "epa_3_final['15'] = epa_3_final['15'].astype(float)\n",
    "epa_3_final['16'] = epa_3_final['16'].astype(float)\n",
    "epa_3_final['25'] = epa_3_final['25'].astype(float)\n",
    "epa_3_final['26'] = epa_3_final['26'].astype(float)\n",
    "epa_3_final['27'] = epa_3_final['27'].astype(float)\n",
    "epa_3_final['28'] = epa_3_final['28'].astype(float)"
   ]
  },
  {
   "cell_type": "code",
   "execution_count": 42,
   "metadata": {},
   "outputs": [
    {
     "name": "stderr",
     "output_type": "stream",
     "text": [
      "C:\\Users\\Cristian.Aparicio\\AppData\\Local\\Temp\\ipykernel_1404\\10605692.py:1: SettingWithCopyWarning: \n",
      "A value is trying to be set on a copy of a slice from a DataFrame\n",
      "\n",
      "See the caveats in the documentation: https://pandas.pydata.org/pandas-docs/stable/user_guide/indexing.html#returning-a-view-versus-a-copy\n",
      "  epa_3_final.rename(columns ={'6':'Type','2':'Payment_date','16':'Register_number'},inplace=True)\n"
     ]
    }
   ],
   "source": [
    "epa_3_final.rename(columns ={'6':'Type','2':'Payment_date','16':'Register_number'},inplace=True)"
   ]
  },
  {
   "cell_type": "code",
   "execution_count": 43,
   "metadata": {},
   "outputs": [
    {
     "name": "stderr",
     "output_type": "stream",
     "text": [
      "C:\\Users\\Cristian.Aparicio\\AppData\\Local\\Temp\\ipykernel_1404\\1787877787.py:1: SettingWithCopyWarning: \n",
      "A value is trying to be set on a copy of a slice from a DataFrame.\n",
      "Try using .loc[row_indexer,col_indexer] = value instead\n",
      "\n",
      "See the caveats in the documentation: https://pandas.pydata.org/pandas-docs/stable/user_guide/indexing.html#returning-a-view-versus-a-copy\n",
      "  epa_3_final['Gross_amount'] = epa_3_final['10']/100\n",
      "C:\\Users\\Cristian.Aparicio\\AppData\\Local\\Temp\\ipykernel_1404\\1787877787.py:2: SettingWithCopyWarning: \n",
      "A value is trying to be set on a copy of a slice from a DataFrame.\n",
      "Try using .loc[row_indexer,col_indexer] = value instead\n",
      "\n",
      "See the caveats in the documentation: https://pandas.pydata.org/pandas-docs/stable/user_guide/indexing.html#returning-a-view-versus-a-copy\n",
      "  epa_3_final['Gross_amount_amex'] = epa_3_final['A']/100\n",
      "C:\\Users\\Cristian.Aparicio\\AppData\\Local\\Temp\\ipykernel_1404\\1787877787.py:3: SettingWithCopyWarning: \n",
      "A value is trying to be set on a copy of a slice from a DataFrame.\n",
      "Try using .loc[row_indexer,col_indexer] = value instead\n",
      "\n",
      "See the caveats in the documentation: https://pandas.pydata.org/pandas-docs/stable/user_guide/indexing.html#returning-a-view-versus-a-copy\n",
      "  epa_3_final['Discount_amount'] = epa_3_final['12']/100\n",
      "C:\\Users\\Cristian.Aparicio\\AppData\\Local\\Temp\\ipykernel_1404\\1787877787.py:4: SettingWithCopyWarning: \n",
      "A value is trying to be set on a copy of a slice from a DataFrame.\n",
      "Try using .loc[row_indexer,col_indexer] = value instead\n",
      "\n",
      "See the caveats in the documentation: https://pandas.pydata.org/pandas-docs/stable/user_guide/indexing.html#returning-a-view-versus-a-copy\n",
      "  epa_3_final['Taxes_amount'] = epa_3_final['13']/100\n",
      "C:\\Users\\Cristian.Aparicio\\AppData\\Local\\Temp\\ipykernel_1404\\1787877787.py:5: SettingWithCopyWarning: \n",
      "A value is trying to be set on a copy of a slice from a DataFrame.\n",
      "Try using .loc[row_indexer,col_indexer] = value instead\n",
      "\n",
      "See the caveats in the documentation: https://pandas.pydata.org/pandas-docs/stable/user_guide/indexing.html#returning-a-view-versus-a-copy\n",
      "  epa_3_final['Discount_aceleration_amount'] = epa_3_final['14']/100\n",
      "C:\\Users\\Cristian.Aparicio\\AppData\\Local\\Temp\\ipykernel_1404\\1787877787.py:6: SettingWithCopyWarning: \n",
      "A value is trying to be set on a copy of a slice from a DataFrame.\n",
      "Try using .loc[row_indexer,col_indexer] = value instead\n",
      "\n",
      "See the caveats in the documentation: https://pandas.pydata.org/pandas-docs/stable/user_guide/indexing.html#returning-a-view-versus-a-copy\n",
      "  epa_3_final['Net_amount'] = epa_3_final['15']/100\n",
      "C:\\Users\\Cristian.Aparicio\\AppData\\Local\\Temp\\ipykernel_1404\\1787877787.py:7: SettingWithCopyWarning: \n",
      "A value is trying to be set on a copy of a slice from a DataFrame.\n",
      "Try using .loc[row_indexer,col_indexer] = value instead\n",
      "\n",
      "See the caveats in the documentation: https://pandas.pydata.org/pandas-docs/stable/user_guide/indexing.html#returning-a-view-versus-a-copy\n",
      "  epa_3_final['Aceleration_net_amount'] = epa_3_final['25']/100\n",
      "C:\\Users\\Cristian.Aparicio\\AppData\\Local\\Temp\\ipykernel_1404\\1787877787.py:8: SettingWithCopyWarning: \n",
      "A value is trying to be set on a copy of a slice from a DataFrame.\n",
      "Try using .loc[row_indexer,col_indexer] = value instead\n",
      "\n",
      "See the caveats in the documentation: https://pandas.pydata.org/pandas-docs/stable/user_guide/indexing.html#returning-a-view-versus-a-copy\n",
      "  epa_3_final['Gross_amount_trans_cambio'] = epa_3_final['26']/100\n",
      "C:\\Users\\Cristian.Aparicio\\AppData\\Local\\Temp\\ipykernel_1404\\1787877787.py:9: SettingWithCopyWarning: \n",
      "A value is trying to be set on a copy of a slice from a DataFrame.\n",
      "Try using .loc[row_indexer,col_indexer] = value instead\n",
      "\n",
      "See the caveats in the documentation: https://pandas.pydata.org/pandas-docs/stable/user_guide/indexing.html#returning-a-view-versus-a-copy\n",
      "  epa_3_final['Credit_gross_amount'] = epa_3_final['27']/100\n",
      "C:\\Users\\Cristian.Aparicio\\AppData\\Local\\Temp\\ipykernel_1404\\1787877787.py:10: SettingWithCopyWarning: \n",
      "A value is trying to be set on a copy of a slice from a DataFrame.\n",
      "Try using .loc[row_indexer,col_indexer] = value instead\n",
      "\n",
      "See the caveats in the documentation: https://pandas.pydata.org/pandas-docs/stable/user_guide/indexing.html#returning-a-view-versus-a-copy\n",
      "  epa_3_final['Unknown'] = epa_3_final['28']/100\n"
     ]
    },
    {
     "data": {
      "text/html": [
       "<div>\n",
       "<style scoped>\n",
       "    .dataframe tbody tr th:only-of-type {\n",
       "        vertical-align: middle;\n",
       "    }\n",
       "\n",
       "    .dataframe tbody tr th {\n",
       "        vertical-align: top;\n",
       "    }\n",
       "\n",
       "    .dataframe thead th {\n",
       "        text-align: right;\n",
       "    }\n",
       "</style>\n",
       "<table border=\"1\" class=\"dataframe\">\n",
       "  <thead>\n",
       "    <tr style=\"text-align: right;\">\n",
       "      <th></th>\n",
       "      <th>Type</th>\n",
       "      <th>Payment_date</th>\n",
       "      <th>10</th>\n",
       "      <th>A</th>\n",
       "      <th>12</th>\n",
       "      <th>13</th>\n",
       "      <th>14</th>\n",
       "      <th>15</th>\n",
       "      <th>Register_number</th>\n",
       "      <th>25</th>\n",
       "      <th>...</th>\n",
       "      <th>Gross_amount</th>\n",
       "      <th>Gross_amount_amex</th>\n",
       "      <th>Discount_amount</th>\n",
       "      <th>Taxes_amount</th>\n",
       "      <th>Discount_aceleration_amount</th>\n",
       "      <th>Net_amount</th>\n",
       "      <th>Aceleration_net_amount</th>\n",
       "      <th>Gross_amount_trans_cambio</th>\n",
       "      <th>Credit_gross_amount</th>\n",
       "      <th>Unknown</th>\n",
       "    </tr>\n",
       "  </thead>\n",
       "  <tbody>\n",
       "    <tr>\n",
       "      <th>0</th>\n",
       "      <td>3</td>\n",
       "      <td>2024-01-16</td>\n",
       "      <td>95,000.00</td>\n",
       "      <td>95,000.00</td>\n",
       "      <td>-2,280.00</td>\n",
       "      <td>-365.00</td>\n",
       "      <td>0.00</td>\n",
       "      <td>92,355.00</td>\n",
       "      <td>1.00</td>\n",
       "      <td>92,355.00</td>\n",
       "      <td>...</td>\n",
       "      <td>950.00</td>\n",
       "      <td>950.00</td>\n",
       "      <td>-22.80</td>\n",
       "      <td>-3.65</td>\n",
       "      <td>0.00</td>\n",
       "      <td>923.55</td>\n",
       "      <td>923.55</td>\n",
       "      <td>950.00</td>\n",
       "      <td>0.00</td>\n",
       "      <td>NaN</td>\n",
       "    </tr>\n",
       "  </tbody>\n",
       "</table>\n",
       "<p>1 rows × 23 columns</p>\n",
       "</div>"
      ],
      "text/plain": [
       "  Type Payment_date        10         A        12      13   14        15  \\\n",
       "0    3   2024-01-16 95,000.00 95,000.00 -2,280.00 -365.00 0.00 92,355.00   \n",
       "\n",
       "   Register_number        25  ...  Gross_amount  Gross_amount_amex  \\\n",
       "0             1.00 92,355.00  ...        950.00             950.00   \n",
       "\n",
       "   Discount_amount  Taxes_amount  Discount_aceleration_amount  Net_amount  \\\n",
       "0           -22.80         -3.65                         0.00      923.55   \n",
       "\n",
       "   Aceleration_net_amount  Gross_amount_trans_cambio  Credit_gross_amount  \\\n",
       "0                  923.55                     950.00                 0.00   \n",
       "\n",
       "   Unknown  \n",
       "0      NaN  \n",
       "\n",
       "[1 rows x 23 columns]"
      ]
     },
     "execution_count": 43,
     "metadata": {},
     "output_type": "execute_result"
    }
   ],
   "source": [
    "epa_3_final['Gross_amount'] = epa_3_final['10']/100\n",
    "epa_3_final['Gross_amount_amex'] = epa_3_final['A']/100\n",
    "epa_3_final['Discount_amount'] = epa_3_final['12']/100\n",
    "epa_3_final['Taxes_amount'] = epa_3_final['13']/100\n",
    "epa_3_final['Discount_aceleration_amount'] = epa_3_final['14']/100\n",
    "epa_3_final['Net_amount'] = epa_3_final['15']/100\n",
    "epa_3_final['Aceleration_net_amount'] = epa_3_final['25']/100\n",
    "epa_3_final['Gross_amount_trans_cambio'] = epa_3_final['26']/100\n",
    "epa_3_final['Credit_gross_amount'] = epa_3_final['27']/100\n",
    "epa_3_final['Unknown'] = epa_3_final['28']/100\n",
    "epa_3_final.head()"
   ]
  },
  {
   "cell_type": "code",
   "execution_count": 44,
   "metadata": {},
   "outputs": [],
   "source": [
    "epa_3_excel = epa_3_final[(epa_3_final['Payment_date'] >= start_date) & (epa_3_final['Payment_date'] <= final_date)]"
   ]
  },
  {
   "cell_type": "code",
   "execution_count": 45,
   "metadata": {},
   "outputs": [
    {
     "name": "stderr",
     "output_type": "stream",
     "text": [
      "C:\\Users\\Cristian.Aparicio\\AppData\\Local\\Temp\\ipykernel_1404\\2673989929.py:1: FutureWarning: The provided callable <built-in function sum> is currently using SeriesGroupBy.sum. In a future version of pandas, the provided callable will be used directly. To keep current behavior pass the string \"sum\" instead.\n",
      "  epa_3_excel_final = epa_3_excel.groupby(['Payment_date']).agg({'Register_number':sum,'Gross_amount':sum,'Gross_amount_amex':sum\n"
     ]
    },
    {
     "data": {
      "text/html": [
       "<div>\n",
       "<style scoped>\n",
       "    .dataframe tbody tr th:only-of-type {\n",
       "        vertical-align: middle;\n",
       "    }\n",
       "\n",
       "    .dataframe tbody tr th {\n",
       "        vertical-align: top;\n",
       "    }\n",
       "\n",
       "    .dataframe thead th {\n",
       "        text-align: right;\n",
       "    }\n",
       "</style>\n",
       "<table border=\"1\" class=\"dataframe\">\n",
       "  <thead>\n",
       "    <tr style=\"text-align: right;\">\n",
       "      <th></th>\n",
       "      <th>Payment_date</th>\n",
       "      <th>Register_number</th>\n",
       "      <th>Gross_amount</th>\n",
       "      <th>Gross_amount_amex</th>\n",
       "      <th>Discount_amount</th>\n",
       "      <th>Taxes_amount</th>\n",
       "      <th>Discount_aceleration_amount</th>\n",
       "      <th>Net_amount</th>\n",
       "      <th>Aceleration_net_amount</th>\n",
       "      <th>Gross_amount_trans_cambio</th>\n",
       "      <th>Credit_gross_amount</th>\n",
       "      <th>Unknown</th>\n",
       "    </tr>\n",
       "  </thead>\n",
       "  <tbody>\n",
       "    <tr>\n",
       "      <th>0</th>\n",
       "      <td>2024-01-16</td>\n",
       "      <td>1.00</td>\n",
       "      <td>950.00</td>\n",
       "      <td>950.00</td>\n",
       "      <td>-22.80</td>\n",
       "      <td>-3.65</td>\n",
       "      <td>0.00</td>\n",
       "      <td>923.55</td>\n",
       "      <td>923.55</td>\n",
       "      <td>950.00</td>\n",
       "      <td>0.00</td>\n",
       "      <td>0.00</td>\n",
       "    </tr>\n",
       "  </tbody>\n",
       "</table>\n",
       "</div>"
      ],
      "text/plain": [
       "  Payment_date  Register_number  Gross_amount  Gross_amount_amex  \\\n",
       "0   2024-01-16             1.00        950.00             950.00   \n",
       "\n",
       "   Discount_amount  Taxes_amount  Discount_aceleration_amount  Net_amount  \\\n",
       "0           -22.80         -3.65                         0.00      923.55   \n",
       "\n",
       "   Aceleration_net_amount  Gross_amount_trans_cambio  Credit_gross_amount  \\\n",
       "0                  923.55                     950.00                 0.00   \n",
       "\n",
       "   Unknown  \n",
       "0     0.00  "
      ]
     },
     "execution_count": 45,
     "metadata": {},
     "output_type": "execute_result"
    }
   ],
   "source": [
    "epa_3_excel_final = epa_3_excel.groupby(['Payment_date']).agg({'Register_number':sum,'Gross_amount':sum,'Gross_amount_amex':sum\n",
    "                                                               ,'Discount_amount':sum,'Taxes_amount':sum\n",
    "                                                               ,'Discount_aceleration_amount':sum,'Net_amount':sum\n",
    "                                                               ,'Aceleration_net_amount':sum\n",
    "                                                               ,'Gross_amount_trans_cambio':sum,'Credit_gross_amount':sum\n",
    "                                                               ,'Unknown':sum}).reset_index()\n",
    "epa_3_excel_final.head()"
   ]
  },
  {
   "cell_type": "code",
   "execution_count": 46,
   "metadata": {},
   "outputs": [
    {
     "data": {
      "text/plain": [
       "(1, 12)"
      ]
     },
     "execution_count": 46,
     "metadata": {},
     "output_type": "execute_result"
    }
   ],
   "source": [
    "epa_3_excel_final.shape"
   ]
  },
  {
   "cell_type": "code",
   "execution_count": 47,
   "metadata": {},
   "outputs": [],
   "source": [
    "epa_3_excel_final.to_csv('EPA_3.csv')"
   ]
  },
  {
   "cell_type": "markdown",
   "metadata": {},
   "source": [
    "## EPA 4"
   ]
  },
  {
   "cell_type": "code",
   "execution_count": 48,
   "metadata": {},
   "outputs": [
    {
     "name": "stderr",
     "output_type": "stream",
     "text": [
      "C:\\Users\\Cristian.Aparicio\\AppData\\Local\\Temp\\ipykernel_1404\\424667492.py:1: SettingWithCopyWarning: \n",
      "A value is trying to be set on a copy of a slice from a DataFrame.\n",
      "Try using .loc[row_indexer,col_indexer] = value instead\n",
      "\n",
      "See the caveats in the documentation: https://pandas.pydata.org/pandas-docs/stable/user_guide/indexing.html#returning-a-view-versus-a-copy\n",
      "  epa_4['8'] = pd.to_datetime(epa_4['8'], format='%Y%m%d').dt.date\n",
      "C:\\Users\\Cristian.Aparicio\\AppData\\Local\\Temp\\ipykernel_1404\\424667492.py:2: SettingWithCopyWarning: \n",
      "A value is trying to be set on a copy of a slice from a DataFrame.\n",
      "Try using .loc[row_indexer,col_indexer] = value instead\n",
      "\n",
      "See the caveats in the documentation: https://pandas.pydata.org/pandas-docs/stable/user_guide/indexing.html#returning-a-view-versus-a-copy\n",
      "  epa_4['2'] = pd.to_datetime(epa_4['2'], format='%Y%m%d').dt.date\n"
     ]
    }
   ],
   "source": [
    "epa_4['8'] = pd.to_datetime(epa_4['8'], format='%Y%m%d').dt.date\n",
    "epa_4['2'] = pd.to_datetime(epa_4['2'], format='%Y%m%d').dt.date"
   ]
  },
  {
   "cell_type": "code",
   "execution_count": 49,
   "metadata": {},
   "outputs": [
    {
     "name": "stderr",
     "output_type": "stream",
     "text": [
      "C:\\Users\\Cristian.Aparicio\\AppData\\Local\\Temp\\ipykernel_1404\\1129604653.py:1: SettingWithCopyWarning: \n",
      "A value is trying to be set on a copy of a slice from a DataFrame.\n",
      "Try using .loc[row_indexer,col_indexer] = value instead\n",
      "\n",
      "See the caveats in the documentation: https://pandas.pydata.org/pandas-docs/stable/user_guide/indexing.html#returning-a-view-versus-a-copy\n",
      "  epa_4['8'] = pd.to_datetime(epa_4['8'])\n",
      "C:\\Users\\Cristian.Aparicio\\AppData\\Local\\Temp\\ipykernel_1404\\1129604653.py:2: SettingWithCopyWarning: \n",
      "A value is trying to be set on a copy of a slice from a DataFrame.\n",
      "Try using .loc[row_indexer,col_indexer] = value instead\n",
      "\n",
      "See the caveats in the documentation: https://pandas.pydata.org/pandas-docs/stable/user_guide/indexing.html#returning-a-view-versus-a-copy\n",
      "  epa_4['2'] = pd.to_datetime(epa_4['2'])\n"
     ]
    }
   ],
   "source": [
    "epa_4['8'] = pd.to_datetime(epa_4['8'])\n",
    "epa_4['2'] = pd.to_datetime(epa_4['2'])"
   ]
  },
  {
   "cell_type": "code",
   "execution_count": 50,
   "metadata": {},
   "outputs": [
    {
     "data": {
      "text/html": [
       "<div>\n",
       "<style scoped>\n",
       "    .dataframe tbody tr th:only-of-type {\n",
       "        vertical-align: middle;\n",
       "    }\n",
       "\n",
       "    .dataframe tbody tr th {\n",
       "        vertical-align: top;\n",
       "    }\n",
       "\n",
       "    .dataframe thead th {\n",
       "        text-align: right;\n",
       "    }\n",
       "</style>\n",
       "<table border=\"1\" class=\"dataframe\">\n",
       "  <thead>\n",
       "    <tr style=\"text-align: right;\">\n",
       "      <th></th>\n",
       "      <th>1</th>\n",
       "      <th>2</th>\n",
       "      <th>3</th>\n",
       "      <th>4</th>\n",
       "      <th>5</th>\n",
       "      <th>6</th>\n",
       "      <th>7</th>\n",
       "      <th>8</th>\n",
       "      <th>9</th>\n",
       "      <th>10</th>\n",
       "      <th>...</th>\n",
       "      <th>19</th>\n",
       "      <th>order_id</th>\n",
       "      <th>21</th>\n",
       "      <th>22</th>\n",
       "      <th>23</th>\n",
       "      <th>24</th>\n",
       "      <th>25</th>\n",
       "      <th>26</th>\n",
       "      <th>27</th>\n",
       "      <th>28</th>\n",
       "    </tr>\n",
       "  </thead>\n",
       "  <tbody>\n",
       "    <tr>\n",
       "      <th>3</th>\n",
       "      <td>9351789434</td>\n",
       "      <td>2024-01-16</td>\n",
       "      <td>055586</td>\n",
       "      <td>9351789434</td>\n",
       "      <td>00001</td>\n",
       "      <td>4</td>\n",
       "      <td>0</td>\n",
       "      <td>2024-01-13</td>\n",
       "      <td>0</td>\n",
       "      <td>805</td>\n",
       "      <td>...</td>\n",
       "      <td>000LMNRTYDPHHMY</td>\n",
       "      <td>LMNRTYDPHHMY</td>\n",
       "      <td>000LMNRTYDPHHMY</td>\n",
       "      <td>000</td>\n",
       "      <td>000</td>\n",
       "      <td>NaN</td>\n",
       "      <td>NaN</td>\n",
       "      <td>NaN</td>\n",
       "      <td>NaN</td>\n",
       "      <td>NaN</td>\n",
       "    </tr>\n",
       "  </tbody>\n",
       "</table>\n",
       "<p>1 rows × 28 columns</p>\n",
       "</div>"
      ],
      "text/plain": [
       "            1          2       3           4      5  6  7          8  9   10  \\\n",
       "3  9351789434 2024-01-16  055586  9351789434  00001  4  0 2024-01-13  0  805   \n",
       "\n",
       "   ...               19      order_id               21   22   23   24   25  \\\n",
       "3  ...  000LMNRTYDPHHMY  LMNRTYDPHHMY  000LMNRTYDPHHMY  000  000  NaN  NaN   \n",
       "\n",
       "    26   27   28  \n",
       "3  NaN  NaN  NaN  \n",
       "\n",
       "[1 rows x 28 columns]"
      ]
     },
     "execution_count": 50,
     "metadata": {},
     "output_type": "execute_result"
    }
   ],
   "source": [
    "epa_4.head()"
   ]
  },
  {
   "cell_type": "code",
   "execution_count": 51,
   "metadata": {},
   "outputs": [
    {
     "data": {
      "text/plain": [
       "(1, 28)"
      ]
     },
     "execution_count": 51,
     "metadata": {},
     "output_type": "execute_result"
    }
   ],
   "source": [
    "epa_4.shape"
   ]
  },
  {
   "cell_type": "code",
   "execution_count": 52,
   "metadata": {},
   "outputs": [],
   "source": [
    "epa_4.to_csv('EPA_4.csv',index=False)"
   ]
  },
  {
   "cell_type": "code",
   "execution_count": 53,
   "metadata": {},
   "outputs": [
    {
     "name": "stderr",
     "output_type": "stream",
     "text": [
      "C:\\Users\\Cristian.Aparicio\\AppData\\Local\\Temp\\ipykernel_1404\\3567835031.py:2: SettingWithCopyWarning: \n",
      "A value is trying to be set on a copy of a slice from a DataFrame.\n",
      "Try using .loc[row_indexer,col_indexer] = value instead\n",
      "\n",
      "See the caveats in the documentation: https://pandas.pydata.org/pandas-docs/stable/user_guide/indexing.html#returning-a-view-versus-a-copy\n",
      "  txn_epa[\"12\"] = txn_epa['12'].astype(float)\n",
      "C:\\Users\\Cristian.Aparicio\\AppData\\Local\\Temp\\ipykernel_1404\\3567835031.py:3: SettingWithCopyWarning: \n",
      "A value is trying to be set on a copy of a slice from a DataFrame.\n",
      "Try using .loc[row_indexer,col_indexer] = value instead\n",
      "\n",
      "See the caveats in the documentation: https://pandas.pydata.org/pandas-docs/stable/user_guide/indexing.html#returning-a-view-versus-a-copy\n",
      "  txn_epa[\"22\"] = txn_epa['22'].astype(float)\n",
      "C:\\Users\\Cristian.Aparicio\\AppData\\Local\\Temp\\ipykernel_1404\\3567835031.py:4: SettingWithCopyWarning: \n",
      "A value is trying to be set on a copy of a slice from a DataFrame.\n",
      "Try using .loc[row_indexer,col_indexer] = value instead\n",
      "\n",
      "See the caveats in the documentation: https://pandas.pydata.org/pandas-docs/stable/user_guide/indexing.html#returning-a-view-versus-a-copy\n",
      "  txn_epa[\"23\"] = txn_epa['23'].astype(float)\n"
     ]
    }
   ],
   "source": [
    "txn_epa = epa_4[['order_id','6','8','A','12','22','23','2','15','17']]\n",
    "txn_epa[\"12\"] = txn_epa['12'].astype(float)\n",
    "txn_epa[\"22\"] = txn_epa['22'].astype(float)\n",
    "txn_epa[\"23\"] = txn_epa['23'].astype(float)\n"
   ]
  },
  {
   "cell_type": "code",
   "execution_count": 54,
   "metadata": {},
   "outputs": [
    {
     "name": "stderr",
     "output_type": "stream",
     "text": [
      "C:\\Users\\Cristian.Aparicio\\AppData\\Local\\Temp\\ipykernel_1404\\1656383301.py:1: SettingWithCopyWarning: \n",
      "A value is trying to be set on a copy of a slice from a DataFrame.\n",
      "Try using .loc[row_indexer,col_indexer] = value instead\n",
      "\n",
      "See the caveats in the documentation: https://pandas.pydata.org/pandas-docs/stable/user_guide/indexing.html#returning-a-view-versus-a-copy\n",
      "  txn_epa['total_amount_bruto'] = txn_epa['12']/100\n",
      "C:\\Users\\Cristian.Aparicio\\AppData\\Local\\Temp\\ipykernel_1404\\1656383301.py:2: SettingWithCopyWarning: \n",
      "A value is trying to be set on a copy of a slice from a DataFrame.\n",
      "Try using .loc[row_indexer,col_indexer] = value instead\n",
      "\n",
      "See the caveats in the documentation: https://pandas.pydata.org/pandas-docs/stable/user_guide/indexing.html#returning-a-view-versus-a-copy\n",
      "  txn_epa['fee_amount_mdr'] = -(txn_epa['total_amount_bruto']*0.0240)\n",
      "C:\\Users\\Cristian.Aparicio\\AppData\\Local\\Temp\\ipykernel_1404\\1656383301.py:3: SettingWithCopyWarning: \n",
      "A value is trying to be set on a copy of a slice from a DataFrame.\n",
      "Try using .loc[row_indexer,col_indexer] = value instead\n",
      "\n",
      "See the caveats in the documentation: https://pandas.pydata.org/pandas-docs/stable/user_guide/indexing.html#returning-a-view-versus-a-copy\n",
      "  txn_epa['fee_amount_msi'] = txn_epa['22']/100\n",
      "C:\\Users\\Cristian.Aparicio\\AppData\\Local\\Temp\\ipykernel_1404\\1656383301.py:4: SettingWithCopyWarning: \n",
      "A value is trying to be set on a copy of a slice from a DataFrame.\n",
      "Try using .loc[row_indexer,col_indexer] = value instead\n",
      "\n",
      "See the caveats in the documentation: https://pandas.pydata.org/pandas-docs/stable/user_guide/indexing.html#returning-a-view-versus-a-copy\n",
      "  txn_epa['iva_msi'] = txn_epa['fee_amount_msi']*0.1600\n",
      "C:\\Users\\Cristian.Aparicio\\AppData\\Local\\Temp\\ipykernel_1404\\1656383301.py:5: SettingWithCopyWarning: \n",
      "A value is trying to be set on a copy of a slice from a DataFrame.\n",
      "Try using .loc[row_indexer,col_indexer] = value instead\n",
      "\n",
      "See the caveats in the documentation: https://pandas.pydata.org/pandas-docs/stable/user_guide/indexing.html#returning-a-view-versus-a-copy\n",
      "  txn_epa['iva_mdr'] = txn_epa['fee_amount_mdr']*0.1600\n",
      "C:\\Users\\Cristian.Aparicio\\AppData\\Local\\Temp\\ipykernel_1404\\1656383301.py:6: SettingWithCopyWarning: \n",
      "A value is trying to be set on a copy of a slice from a DataFrame.\n",
      "Try using .loc[row_indexer,col_indexer] = value instead\n",
      "\n",
      "See the caveats in the documentation: https://pandas.pydata.org/pandas-docs/stable/user_guide/indexing.html#returning-a-view-versus-a-copy\n",
      "  txn_epa['bin_bank'] = txn_epa['A'].str[:6].astype(str)\n",
      "C:\\Users\\Cristian.Aparicio\\AppData\\Local\\Temp\\ipykernel_1404\\1656383301.py:7: SettingWithCopyWarning: \n",
      "A value is trying to be set on a copy of a slice from a DataFrame.\n",
      "Try using .loc[row_indexer,col_indexer] = value instead\n",
      "\n",
      "See the caveats in the documentation: https://pandas.pydata.org/pandas-docs/stable/user_guide/indexing.html#returning-a-view-versus-a-copy\n",
      "  txn_epa['last4_bank'] = txn_epa['A'].str[-8:-4].astype(str)\n"
     ]
    }
   ],
   "source": [
    "txn_epa['total_amount_bruto'] = txn_epa['12']/100\n",
    "txn_epa['fee_amount_mdr'] = -(txn_epa['total_amount_bruto']*0.0240)\n",
    "txn_epa['fee_amount_msi'] = txn_epa['22']/100\n",
    "txn_epa['iva_msi'] = txn_epa['fee_amount_msi']*0.1600\n",
    "txn_epa['iva_mdr'] = txn_epa['fee_amount_mdr']*0.1600\n",
    "txn_epa['bin_bank'] = txn_epa['A'].str[:6].astype(str)\n",
    "txn_epa['last4_bank'] = txn_epa['A'].str[-8:-4].astype(str)"
   ]
  },
  {
   "cell_type": "code",
   "execution_count": 55,
   "metadata": {},
   "outputs": [
    {
     "name": "stderr",
     "output_type": "stream",
     "text": [
      "C:\\Users\\Cristian.Aparicio\\AppData\\Local\\Temp\\ipykernel_1404\\3748546502.py:1: SettingWithCopyWarning: \n",
      "A value is trying to be set on a copy of a slice from a DataFrame\n",
      "\n",
      "See the caveats in the documentation: https://pandas.pydata.org/pandas-docs/stable/user_guide/indexing.html#returning-a-view-versus-a-copy\n",
      "  txn_epa.rename(columns ={'6':'Type','8':'Date_process_roc','12':'Total_amount_charge_roc',\n",
      "C:\\Users\\Cristian.Aparicio\\AppData\\Local\\Temp\\ipykernel_1404\\3748546502.py:4: SettingWithCopyWarning: \n",
      "A value is trying to be set on a copy of a slice from a DataFrame.\n",
      "Try using .loc[row_indexer,col_indexer] = value instead\n",
      "\n",
      "See the caveats in the documentation: https://pandas.pydata.org/pandas-docs/stable/user_guide/indexing.html#returning-a-view-versus-a-copy\n",
      "  txn_epa['INDEX_TOTAL'] = (txn_epa['bin_bank'].astype(str).replace(' ', '',regex=True)+'_'\n",
      "C:\\Users\\Cristian.Aparicio\\AppData\\Local\\Temp\\ipykernel_1404\\3748546502.py:12: SettingWithCopyWarning: \n",
      "A value is trying to be set on a copy of a slice from a DataFrame\n",
      "\n",
      "See the caveats in the documentation: https://pandas.pydata.org/pandas-docs/stable/user_guide/indexing.html#returning-a-view-versus-a-copy\n",
      "  txn_epa.fillna('SIN ORDER_ID EN EPA',inplace=True)\n"
     ]
    },
    {
     "data": {
      "text/html": [
       "<div>\n",
       "<style scoped>\n",
       "    .dataframe tbody tr th:only-of-type {\n",
       "        vertical-align: middle;\n",
       "    }\n",
       "\n",
       "    .dataframe tbody tr th {\n",
       "        vertical-align: top;\n",
       "    }\n",
       "\n",
       "    .dataframe thead th {\n",
       "        text-align: right;\n",
       "    }\n",
       "</style>\n",
       "<table border=\"1\" class=\"dataframe\">\n",
       "  <thead>\n",
       "    <tr style=\"text-align: right;\">\n",
       "      <th></th>\n",
       "      <th>order_id</th>\n",
       "      <th>Type</th>\n",
       "      <th>Date_process_roc</th>\n",
       "      <th>A</th>\n",
       "      <th>Total_amount_charge_roc</th>\n",
       "      <th>Svc_fee_amount_roc</th>\n",
       "      <th>Svc_fee_amount_accel_roc</th>\n",
       "      <th>roc_deposit_date</th>\n",
       "      <th>15</th>\n",
       "      <th>rechazo_amex</th>\n",
       "      <th>total_amount_bruto</th>\n",
       "      <th>fee_amount_mdr</th>\n",
       "      <th>fee_amount_msi</th>\n",
       "      <th>iva_msi</th>\n",
       "      <th>iva_mdr</th>\n",
       "      <th>bin_bank</th>\n",
       "      <th>last4_bank</th>\n",
       "      <th>INDEX_TOTAL</th>\n",
       "    </tr>\n",
       "  </thead>\n",
       "  <tbody>\n",
       "    <tr>\n",
       "      <th>3</th>\n",
       "      <td>LMNRTYDPHHMY</td>\n",
       "      <td>4</td>\n",
       "      <td>2024-01-13</td>\n",
       "      <td>376669*****2016****</td>\n",
       "      <td>95,000.00</td>\n",
       "      <td>0.00</td>\n",
       "      <td>0.00</td>\n",
       "      <td>2024-01-16</td>\n",
       "      <td>0</td>\n",
       "      <td>00</td>\n",
       "      <td>950.00</td>\n",
       "      <td>-22.80</td>\n",
       "      <td>0.00</td>\n",
       "      <td>0.00</td>\n",
       "      <td>-3.65</td>\n",
       "      <td>376669</td>\n",
       "      <td>2016</td>\n",
       "      <td>376669_2016_LMNRTYDPHHMY_950.0</td>\n",
       "    </tr>\n",
       "  </tbody>\n",
       "</table>\n",
       "</div>"
      ],
      "text/plain": [
       "       order_id Type Date_process_roc                    A  \\\n",
       "3  LMNRTYDPHHMY    4       2024-01-13  376669*****2016****   \n",
       "\n",
       "   Total_amount_charge_roc  Svc_fee_amount_roc  Svc_fee_amount_accel_roc  \\\n",
       "3                95,000.00                0.00                      0.00   \n",
       "\n",
       "  roc_deposit_date 15 rechazo_amex  total_amount_bruto  fee_amount_mdr  \\\n",
       "3       2024-01-16  0           00              950.00          -22.80   \n",
       "\n",
       "   fee_amount_msi  iva_msi  iva_mdr bin_bank last4_bank  \\\n",
       "3            0.00     0.00    -3.65   376669       2016   \n",
       "\n",
       "                      INDEX_TOTAL  \n",
       "3  376669_2016_LMNRTYDPHHMY_950.0  "
      ]
     },
     "execution_count": 55,
     "metadata": {},
     "output_type": "execute_result"
    }
   ],
   "source": [
    "txn_epa.rename(columns ={'6':'Type','8':'Date_process_roc','12':'Total_amount_charge_roc',\n",
    "                         '22':'Svc_fee_amount_roc','23':'Svc_fee_amount_accel_roc','2':'roc_deposit_date',\n",
    "                        '17':'rechazo_amex'},inplace=True)\n",
    "txn_epa['INDEX_TOTAL'] = (txn_epa['bin_bank'].astype(str).replace(' ', '',regex=True)+'_'\n",
    "                            +txn_epa['last4_bank'].astype(str).replace(' ', '',regex=True)+'_'\n",
    "                            +txn_epa['order_id'].astype(str).replace(' ', '',regex=True)+'_'\n",
    "                            +txn_epa['total_amount_bruto'].astype(str).replace(' ', '',regex=True))\n",
    "# txn_epa['INDEX_PARCIAL'] = (txn_epa['bin_bank'].astype(str).replace(' ', '',regex=True)+'_'\n",
    "#                             +txn_epa['last4_bank'].astype(str).replace(' ', '',regex=True)+'_'\n",
    "#                             +txn_epa['codigo_aprobacion'].astype(str).replace(' ', '',regex=True)+'_'\n",
    "#                             +txn_epa['total_amount_bruto'].astype(str).replace(' ', '',regex=True))\n",
    "txn_epa.fillna('SIN ORDER_ID EN EPA',inplace=True)\n",
    "txn_epa.head()"
   ]
  },
  {
   "cell_type": "code",
   "execution_count": 56,
   "metadata": {},
   "outputs": [
    {
     "data": {
      "text/plain": [
       "(1, 18)"
      ]
     },
     "execution_count": 56,
     "metadata": {},
     "output_type": "execute_result"
    }
   ],
   "source": [
    "txn_epa.shape"
   ]
  },
  {
   "cell_type": "code",
   "execution_count": 57,
   "metadata": {},
   "outputs": [
    {
     "data": {
      "text/plain": [
       "array(['00'], dtype=object)"
      ]
     },
     "execution_count": 57,
     "metadata": {},
     "output_type": "execute_result"
    }
   ],
   "source": [
    "txn_epa['rechazo_amex'].unique()"
   ]
  },
  {
   "cell_type": "code",
   "execution_count": 58,
   "metadata": {},
   "outputs": [],
   "source": [
    "# txn_epa.to_excel('EPA CONSOLIDADO.xlsx',index=False)"
   ]
  },
  {
   "cell_type": "markdown",
   "metadata": {},
   "source": [
    "### DATA PARA PROVISION"
   ]
  },
  {
   "cell_type": "code",
   "execution_count": 59,
   "metadata": {},
   "outputs": [],
   "source": [
    "start_date_prov = '2023-12-20'"
   ]
  },
  {
   "cell_type": "code",
   "execution_count": 60,
   "metadata": {},
   "outputs": [
    {
     "data": {
      "text/html": [
       "<div>\n",
       "<style scoped>\n",
       "    .dataframe tbody tr th:only-of-type {\n",
       "        vertical-align: middle;\n",
       "    }\n",
       "\n",
       "    .dataframe tbody tr th {\n",
       "        vertical-align: top;\n",
       "    }\n",
       "\n",
       "    .dataframe thead th {\n",
       "        text-align: right;\n",
       "    }\n",
       "</style>\n",
       "<table border=\"1\" class=\"dataframe\">\n",
       "  <thead>\n",
       "    <tr style=\"text-align: right;\">\n",
       "      <th></th>\n",
       "      <th>order_id</th>\n",
       "      <th>Type</th>\n",
       "      <th>Date_process_roc</th>\n",
       "      <th>A</th>\n",
       "      <th>Total_amount_charge_roc</th>\n",
       "      <th>Svc_fee_amount_roc</th>\n",
       "      <th>Svc_fee_amount_accel_roc</th>\n",
       "      <th>roc_deposit_date</th>\n",
       "      <th>15</th>\n",
       "      <th>rechazo_amex</th>\n",
       "      <th>total_amount_bruto</th>\n",
       "      <th>fee_amount_mdr</th>\n",
       "      <th>fee_amount_msi</th>\n",
       "      <th>iva_msi</th>\n",
       "      <th>iva_mdr</th>\n",
       "      <th>bin_bank</th>\n",
       "      <th>last4_bank</th>\n",
       "      <th>INDEX_TOTAL</th>\n",
       "    </tr>\n",
       "  </thead>\n",
       "  <tbody>\n",
       "    <tr>\n",
       "      <th>3</th>\n",
       "      <td>LMNRTYDPHHMY</td>\n",
       "      <td>4</td>\n",
       "      <td>2024-01-13</td>\n",
       "      <td>376669*****2016****</td>\n",
       "      <td>95,000.00</td>\n",
       "      <td>0.00</td>\n",
       "      <td>0.00</td>\n",
       "      <td>2024-01-16</td>\n",
       "      <td>0</td>\n",
       "      <td>00</td>\n",
       "      <td>950.00</td>\n",
       "      <td>-22.80</td>\n",
       "      <td>0.00</td>\n",
       "      <td>0.00</td>\n",
       "      <td>-3.65</td>\n",
       "      <td>376669</td>\n",
       "      <td>2016</td>\n",
       "      <td>376669_2016_LMNRTYDPHHMY_950.0</td>\n",
       "    </tr>\n",
       "  </tbody>\n",
       "</table>\n",
       "</div>"
      ],
      "text/plain": [
       "       order_id Type Date_process_roc                    A  \\\n",
       "3  LMNRTYDPHHMY    4       2024-01-13  376669*****2016****   \n",
       "\n",
       "   Total_amount_charge_roc  Svc_fee_amount_roc  Svc_fee_amount_accel_roc  \\\n",
       "3                95,000.00                0.00                      0.00   \n",
       "\n",
       "  roc_deposit_date 15 rechazo_amex  total_amount_bruto  fee_amount_mdr  \\\n",
       "3       2024-01-16  0           00              950.00          -22.80   \n",
       "\n",
       "   fee_amount_msi  iva_msi  iva_mdr bin_bank last4_bank  \\\n",
       "3            0.00     0.00    -3.65   376669       2016   \n",
       "\n",
       "                      INDEX_TOTAL  \n",
       "3  376669_2016_LMNRTYDPHHMY_950.0  "
      ]
     },
     "execution_count": 60,
     "metadata": {},
     "output_type": "execute_result"
    }
   ],
   "source": [
    "txn_epa_prov = txn_epa[(txn_epa['Date_process_roc'] >= start_date_prov)]\n",
    "txn_epa_prov.head()"
   ]
  },
  {
   "cell_type": "code",
   "execution_count": 61,
   "metadata": {},
   "outputs": [
    {
     "data": {
      "text/plain": [
       "(1, 18)"
      ]
     },
     "execution_count": 61,
     "metadata": {},
     "output_type": "execute_result"
    }
   ],
   "source": [
    "txn_epa_prov.shape"
   ]
  },
  {
   "cell_type": "code",
   "execution_count": 62,
   "metadata": {},
   "outputs": [],
   "source": [
    "txn_epa_prov.to_csv('AMEX PROVISION EPA ENERO 2024.csv',index=False)"
   ]
  },
  {
   "cell_type": "markdown",
   "metadata": {},
   "source": [
    "## EPA 5"
   ]
  },
  {
   "cell_type": "code",
   "execution_count": 63,
   "metadata": {},
   "outputs": [],
   "source": [
    "epa_5['2'] = pd.to_datetime(epa_5['2'], format='%Y%m%d').dt.date"
   ]
  },
  {
   "cell_type": "code",
   "execution_count": 64,
   "metadata": {},
   "outputs": [],
   "source": [
    "epa_5['2'] = pd.to_datetime(epa_5['2'])"
   ]
  },
  {
   "cell_type": "code",
   "execution_count": 65,
   "metadata": {},
   "outputs": [
    {
     "data": {
      "text/html": [
       "<div>\n",
       "<style scoped>\n",
       "    .dataframe tbody tr th:only-of-type {\n",
       "        vertical-align: middle;\n",
       "    }\n",
       "\n",
       "    .dataframe tbody tr th {\n",
       "        vertical-align: top;\n",
       "    }\n",
       "\n",
       "    .dataframe thead th {\n",
       "        text-align: right;\n",
       "    }\n",
       "</style>\n",
       "<table border=\"1\" class=\"dataframe\">\n",
       "  <thead>\n",
       "    <tr style=\"text-align: right;\">\n",
       "      <th></th>\n",
       "      <th>1</th>\n",
       "      <th>2</th>\n",
       "      <th>3</th>\n",
       "      <th>4</th>\n",
       "      <th>5</th>\n",
       "      <th>6</th>\n",
       "      <th>7</th>\n",
       "      <th>8</th>\n",
       "      <th>9</th>\n",
       "      <th>10</th>\n",
       "      <th>...</th>\n",
       "      <th>19</th>\n",
       "      <th>order_id</th>\n",
       "      <th>21</th>\n",
       "      <th>22</th>\n",
       "      <th>23</th>\n",
       "      <th>24</th>\n",
       "      <th>25</th>\n",
       "      <th>26</th>\n",
       "      <th>27</th>\n",
       "      <th>28</th>\n",
       "    </tr>\n",
       "  </thead>\n",
       "  <tbody>\n",
       "  </tbody>\n",
       "</table>\n",
       "<p>0 rows × 28 columns</p>\n",
       "</div>"
      ],
      "text/plain": [
       "Empty DataFrame\n",
       "Columns: [1, 2, 3, 4, 5, 6, 7, 8, 9, 10, A, 12, 13, 14, 15, 16, 17, 18, 19, order_id, 21, 22, 23, 24, 25, 26, 27, 28]\n",
       "Index: []\n",
       "\n",
       "[0 rows x 28 columns]"
      ]
     },
     "execution_count": 65,
     "metadata": {},
     "output_type": "execute_result"
    }
   ],
   "source": [
    "epa_5.head()"
   ]
  },
  {
   "cell_type": "code",
   "execution_count": 66,
   "metadata": {},
   "outputs": [
    {
     "data": {
      "text/plain": [
       "(0, 28)"
      ]
     },
     "execution_count": 66,
     "metadata": {},
     "output_type": "execute_result"
    }
   ],
   "source": [
    "epa_5.shape"
   ]
  },
  {
   "cell_type": "code",
   "execution_count": 67,
   "metadata": {},
   "outputs": [
    {
     "name": "stderr",
     "output_type": "stream",
     "text": [
      "C:\\Users\\Cristian.Aparicio\\AppData\\Local\\Temp\\ipykernel_1404\\4211780772.py:2: SettingWithCopyWarning: \n",
      "A value is trying to be set on a copy of a slice from a DataFrame\n",
      "\n",
      "See the caveats in the documentation: https://pandas.pydata.org/pandas-docs/stable/user_guide/indexing.html#returning-a-view-versus-a-copy\n",
      "  txn_epa_adj.rename(columns ={'2':'roc_deposit_date','8':'clave_autorizacion','14':'no_tarjeta','15':'adj_id','16':'motivo_adj'},inplace=True)\n"
     ]
    }
   ],
   "source": [
    "txn_epa_adj = epa_5[['2','8','9','10','A','12','13','14','15','16','18']]\n",
    "txn_epa_adj.rename(columns ={'2':'roc_deposit_date','8':'clave_autorizacion','14':'no_tarjeta','15':'adj_id','16':'motivo_adj'},inplace=True) \n",
    "txn_epa_adj[\"9\"] = txn_epa_adj['9'].astype(float)\n",
    "txn_epa_adj[\"10\"] = txn_epa_adj['10'].astype(float)\n",
    "txn_epa_adj[\"A\"] = txn_epa_adj['A'].astype(float)\n",
    "txn_epa_adj[\"12\"] = txn_epa_adj['12'].astype(float)\n",
    "txn_epa_adj[\"13\"] = txn_epa_adj['13'].astype(float)\n"
   ]
  },
  {
   "cell_type": "code",
   "execution_count": 68,
   "metadata": {},
   "outputs": [],
   "source": [
    "txn_epa_adj['importe_adj_bruto'] = txn_epa_adj['9']/100\n",
    "txn_epa_adj['tasa_adj'] = txn_epa_adj['10']/100\n",
    "txn_epa_adj['importe_impuesto'] = txn_epa_adj['A']/100\n",
    "txn_epa_adj['tasa_servicio_plan_n'] = txn_epa_adj['12']/100\n",
    "txn_epa_adj['importe_adj_neto'] = txn_epa_adj['13']/100\n",
    "txn_epa_adj['bin_bank'] = txn_epa_adj['no_tarjeta'].str[:6].astype(str)\n",
    "txn_epa_adj['last4_bank'] = txn_epa_adj['no_tarjeta'].str[-8:-4].astype(str)"
   ]
  },
  {
   "cell_type": "code",
   "execution_count": 69,
   "metadata": {},
   "outputs": [
    {
     "data": {
      "text/html": [
       "<div>\n",
       "<style scoped>\n",
       "    .dataframe tbody tr th:only-of-type {\n",
       "        vertical-align: middle;\n",
       "    }\n",
       "\n",
       "    .dataframe tbody tr th {\n",
       "        vertical-align: top;\n",
       "    }\n",
       "\n",
       "    .dataframe thead th {\n",
       "        text-align: right;\n",
       "    }\n",
       "</style>\n",
       "<table border=\"1\" class=\"dataframe\">\n",
       "  <thead>\n",
       "    <tr style=\"text-align: right;\">\n",
       "      <th></th>\n",
       "      <th>roc_deposit_date</th>\n",
       "      <th>clave_autorizacion</th>\n",
       "      <th>9</th>\n",
       "      <th>10</th>\n",
       "      <th>A</th>\n",
       "      <th>12</th>\n",
       "      <th>13</th>\n",
       "      <th>no_tarjeta</th>\n",
       "      <th>adj_id</th>\n",
       "      <th>motivo_adj</th>\n",
       "      <th>18</th>\n",
       "      <th>importe_adj_bruto</th>\n",
       "      <th>tasa_adj</th>\n",
       "      <th>importe_impuesto</th>\n",
       "      <th>tasa_servicio_plan_n</th>\n",
       "      <th>importe_adj_neto</th>\n",
       "      <th>bin_bank</th>\n",
       "      <th>last4_bank</th>\n",
       "    </tr>\n",
       "  </thead>\n",
       "  <tbody>\n",
       "  </tbody>\n",
       "</table>\n",
       "</div>"
      ],
      "text/plain": [
       "Empty DataFrame\n",
       "Columns: [roc_deposit_date, clave_autorizacion, 9, 10, A, 12, 13, no_tarjeta, adj_id, motivo_adj, 18, importe_adj_bruto, tasa_adj, importe_impuesto, tasa_servicio_plan_n, importe_adj_neto, bin_bank, last4_bank]\n",
       "Index: []"
      ]
     },
     "execution_count": 69,
     "metadata": {},
     "output_type": "execute_result"
    }
   ],
   "source": [
    "txn_epa_adj.head()"
   ]
  },
  {
   "cell_type": "code",
   "execution_count": 70,
   "metadata": {},
   "outputs": [
    {
     "data": {
      "text/plain": [
       "(0, 18)"
      ]
     },
     "execution_count": 70,
     "metadata": {},
     "output_type": "execute_result"
    }
   ],
   "source": [
    "txn_epa_adj.shape"
   ]
  },
  {
   "cell_type": "code",
   "execution_count": 71,
   "metadata": {},
   "outputs": [],
   "source": [
    "txn_epa_adj.to_excel(r'ADJ CONSOLIDADO.xlsx',index=False)"
   ]
  },
  {
   "cell_type": "code",
   "execution_count": 72,
   "metadata": {},
   "outputs": [],
   "source": [
    "txn_epa_adj_final = txn_epa_adj[(txn_epa_adj['roc_deposit_date'] >= start_date) & (txn_epa_adj['roc_deposit_date'] <= final_date)]"
   ]
  },
  {
   "cell_type": "markdown",
   "metadata": {},
   "source": [
    "## EPA 9"
   ]
  },
  {
   "cell_type": "code",
   "execution_count": 73,
   "metadata": {},
   "outputs": [
    {
     "data": {
      "text/html": [
       "<div>\n",
       "<style scoped>\n",
       "    .dataframe tbody tr th:only-of-type {\n",
       "        vertical-align: middle;\n",
       "    }\n",
       "\n",
       "    .dataframe tbody tr th {\n",
       "        vertical-align: top;\n",
       "    }\n",
       "\n",
       "    .dataframe thead th {\n",
       "        text-align: right;\n",
       "    }\n",
       "</style>\n",
       "<table border=\"1\" class=\"dataframe\">\n",
       "  <thead>\n",
       "    <tr style=\"text-align: right;\">\n",
       "      <th></th>\n",
       "      <th>1</th>\n",
       "      <th>2</th>\n",
       "      <th>3</th>\n",
       "      <th>4</th>\n",
       "      <th>5</th>\n",
       "      <th>6</th>\n",
       "      <th>7</th>\n",
       "      <th>8</th>\n",
       "      <th>9</th>\n",
       "      <th>10</th>\n",
       "      <th>...</th>\n",
       "      <th>19</th>\n",
       "      <th>order_id</th>\n",
       "      <th>21</th>\n",
       "      <th>22</th>\n",
       "      <th>23</th>\n",
       "      <th>24</th>\n",
       "      <th>25</th>\n",
       "      <th>26</th>\n",
       "      <th>27</th>\n",
       "      <th>28</th>\n",
       "    </tr>\n",
       "  </thead>\n",
       "  <tbody>\n",
       "    <tr>\n",
       "      <th>4</th>\n",
       "      <td>9351789434</td>\n",
       "      <td>99991231</td>\n",
       "      <td>999999</td>\n",
       "      <td>9999999999</td>\n",
       "      <td>99999</td>\n",
       "      <td>9</td>\n",
       "      <td>0</td>\n",
       "      <td>20240115</td>\n",
       "      <td>004703</td>\n",
       "      <td>002608</td>\n",
       "      <td>...</td>\n",
       "      <td>NaN</td>\n",
       "      <td>NaN</td>\n",
       "      <td>NaN</td>\n",
       "      <td>NaN</td>\n",
       "      <td>NaN</td>\n",
       "      <td>NaN</td>\n",
       "      <td>NaN</td>\n",
       "      <td>NaN</td>\n",
       "      <td>NaN</td>\n",
       "      <td>NaN</td>\n",
       "    </tr>\n",
       "  </tbody>\n",
       "</table>\n",
       "<p>1 rows × 28 columns</p>\n",
       "</div>"
      ],
      "text/plain": [
       "            1         2       3           4      5  6  7         8       9  \\\n",
       "4  9351789434  99991231  999999  9999999999  99999  9  0  20240115  004703   \n",
       "\n",
       "       10  ...   19 order_id   21   22   23   24   25   26   27   28  \n",
       "4  002608  ...  NaN      NaN  NaN  NaN  NaN  NaN  NaN  NaN  NaN  NaN  \n",
       "\n",
       "[1 rows x 28 columns]"
      ]
     },
     "execution_count": 73,
     "metadata": {},
     "output_type": "execute_result"
    }
   ],
   "source": [
    "epa_9.head()"
   ]
  },
  {
   "cell_type": "code",
   "execution_count": 74,
   "metadata": {},
   "outputs": [
    {
     "data": {
      "text/plain": [
       "(1, 28)"
      ]
     },
     "execution_count": 74,
     "metadata": {},
     "output_type": "execute_result"
    }
   ],
   "source": [
    "epa_9.shape"
   ]
  },
  {
   "cell_type": "markdown",
   "metadata": {},
   "source": [
    "# CONCILIACION ALL"
   ]
  },
  {
   "cell_type": "code",
   "execution_count": 75,
   "metadata": {},
   "outputs": [
    {
     "name": "stderr",
     "output_type": "stream",
     "text": [
      "C:\\Users\\Cristian.Aparicio\\AppData\\Local\\Temp\\ipykernel_1404\\659014793.py:5: SettingWithCopyWarning: \n",
      "A value is trying to be set on a copy of a slice from a DataFrame\n",
      "\n",
      "See the caveats in the documentation: https://pandas.pydata.org/pandas-docs/stable/user_guide/indexing.html#returning-a-view-versus-a-copy\n",
      "  cruce_1_previo[['transaction_id','status_code','msi']].fillna('NO ENCONTRADO',inplace=True)\n"
     ]
    },
    {
     "data": {
      "text/html": [
       "<div>\n",
       "<style scoped>\n",
       "    .dataframe tbody tr th:only-of-type {\n",
       "        vertical-align: middle;\n",
       "    }\n",
       "\n",
       "    .dataframe tbody tr th {\n",
       "        vertical-align: top;\n",
       "    }\n",
       "\n",
       "    .dataframe thead th {\n",
       "        text-align: right;\n",
       "    }\n",
       "</style>\n",
       "<table border=\"1\" class=\"dataframe\">\n",
       "  <thead>\n",
       "    <tr style=\"text-align: right;\">\n",
       "      <th></th>\n",
       "      <th>order_id</th>\n",
       "      <th>Type</th>\n",
       "      <th>Date_process_roc</th>\n",
       "      <th>A</th>\n",
       "      <th>Total_amount_charge_roc</th>\n",
       "      <th>Svc_fee_amount_roc</th>\n",
       "      <th>Svc_fee_amount_accel_roc</th>\n",
       "      <th>roc_deposit_date</th>\n",
       "      <th>15</th>\n",
       "      <th>rechazo_amex</th>\n",
       "      <th>...</th>\n",
       "      <th>clave_autorizacion</th>\n",
       "      <th>comision_porcentaje_mdr</th>\n",
       "      <th>comision_porcentaje_msi</th>\n",
       "      <th>comision_porcentaje_final</th>\n",
       "      <th>comision_mdr_db</th>\n",
       "      <th>iva_comision_mdr_db</th>\n",
       "      <th>comision_msi_db</th>\n",
       "      <th>iva_comision_msi_db</th>\n",
       "      <th>amount_new</th>\n",
       "      <th>comparison</th>\n",
       "    </tr>\n",
       "  </thead>\n",
       "  <tbody>\n",
       "    <tr>\n",
       "      <th>0</th>\n",
       "      <td>LMNRTYDPHHMY</td>\n",
       "      <td>4</td>\n",
       "      <td>2024-01-13</td>\n",
       "      <td>376669*****2016****</td>\n",
       "      <td>95,000.00</td>\n",
       "      <td>0.00</td>\n",
       "      <td>0.00</td>\n",
       "      <td>2024-01-16</td>\n",
       "      <td>0</td>\n",
       "      <td>00</td>\n",
       "      <td>...</td>\n",
       "      <td>010610892240064</td>\n",
       "      <td>-0.02</td>\n",
       "      <td>0.00</td>\n",
       "      <td>-0.02</td>\n",
       "      <td>-22.80</td>\n",
       "      <td>-3.65</td>\n",
       "      <td>0.00</td>\n",
       "      <td>0.00</td>\n",
       "      <td>950.00</td>\n",
       "      <td>True</td>\n",
       "    </tr>\n",
       "  </tbody>\n",
       "</table>\n",
       "<p>1 rows × 35 columns</p>\n",
       "</div>"
      ],
      "text/plain": [
       "       order_id Type Date_process_roc                    A  \\\n",
       "0  LMNRTYDPHHMY    4       2024-01-13  376669*****2016****   \n",
       "\n",
       "   Total_amount_charge_roc  Svc_fee_amount_roc  Svc_fee_amount_accel_roc  \\\n",
       "0                95,000.00                0.00                      0.00   \n",
       "\n",
       "  roc_deposit_date 15 rechazo_amex  ...  clave_autorizacion  \\\n",
       "0       2024-01-16  0           00  ...     010610892240064   \n",
       "\n",
       "   comision_porcentaje_mdr  comision_porcentaje_msi  \\\n",
       "0                    -0.02                     0.00   \n",
       "\n",
       "   comision_porcentaje_final  comision_mdr_db iva_comision_mdr_db  \\\n",
       "0                      -0.02           -22.80               -3.65   \n",
       "\n",
       "  comision_msi_db iva_comision_msi_db amount_new comparison  \n",
       "0            0.00                0.00     950.00       True  \n",
       "\n",
       "[1 rows x 35 columns]"
      ]
     },
     "execution_count": 75,
     "metadata": {},
     "output_type": "execute_result"
    }
   ],
   "source": [
    "cruce_1_previo = txn_epa.merge(db_final[['order_id','transaction_id','date_transaction','amount','status_code','msi','bin',\n",
    "                                         'last4','clave_autorizacion','comision_porcentaje_mdr','comision_porcentaje_msi',\n",
    "                                         'comision_porcentaje_final','comision_mdr_db','iva_comision_mdr_db',\n",
    "                                         'comision_msi_db','iva_comision_msi_db']],on='order_id',how='left')\n",
    "cruce_1_previo[['transaction_id','status_code','msi']].fillna('NO ENCONTRADO',inplace=True)\n",
    "cruce_1_previo['amount'].fillna(0,inplace=True)\n",
    "cruce_1_previo['status_code'].fillna('NO ENCONTRADO',inplace=True)\n",
    "cruce_1_previo.loc[~cruce_1_previo['status_code'].str.contains('3'),'amount_new'] = cruce_1_previo['amount']\n",
    "cruce_1_previo.loc[cruce_1_previo['status_code'].str.contains('3'),'amount_new'] = cruce_1_previo['amount']*-1\n",
    "cruce_1_previo['comparison'] = cruce_1_previo['total_amount_bruto'] == cruce_1_previo['amount_new']\n",
    "cruce_1_previo.head()"
   ]
  },
  {
   "cell_type": "code",
   "execution_count": 76,
   "metadata": {},
   "outputs": [
    {
     "data": {
      "text/plain": [
       "(1, 35)"
      ]
     },
     "execution_count": 76,
     "metadata": {},
     "output_type": "execute_result"
    }
   ],
   "source": [
    "cruce_1_previo.shape"
   ]
  },
  {
   "cell_type": "code",
   "execution_count": 77,
   "metadata": {},
   "outputs": [
    {
     "data": {
      "text/plain": [
       "array(['1'], dtype=object)"
      ]
     },
     "execution_count": 77,
     "metadata": {},
     "output_type": "execute_result"
    }
   ],
   "source": [
    "cruce_1_previo['status_code'].unique()"
   ]
  },
  {
   "cell_type": "markdown",
   "metadata": {},
   "source": [
    "### FILTRAR LOS RECHAZADOS AMEX"
   ]
  },
  {
   "cell_type": "code",
   "execution_count": 78,
   "metadata": {},
   "outputs": [
    {
     "data": {
      "text/html": [
       "<div>\n",
       "<style scoped>\n",
       "    .dataframe tbody tr th:only-of-type {\n",
       "        vertical-align: middle;\n",
       "    }\n",
       "\n",
       "    .dataframe tbody tr th {\n",
       "        vertical-align: top;\n",
       "    }\n",
       "\n",
       "    .dataframe thead th {\n",
       "        text-align: right;\n",
       "    }\n",
       "</style>\n",
       "<table border=\"1\" class=\"dataframe\">\n",
       "  <thead>\n",
       "    <tr style=\"text-align: right;\">\n",
       "      <th></th>\n",
       "      <th>order_id</th>\n",
       "      <th>Type</th>\n",
       "      <th>Date_process_roc</th>\n",
       "      <th>A</th>\n",
       "      <th>Total_amount_charge_roc</th>\n",
       "      <th>Svc_fee_amount_roc</th>\n",
       "      <th>Svc_fee_amount_accel_roc</th>\n",
       "      <th>roc_deposit_date</th>\n",
       "      <th>15</th>\n",
       "      <th>rechazo_amex</th>\n",
       "      <th>...</th>\n",
       "      <th>clave_autorizacion</th>\n",
       "      <th>comision_porcentaje_mdr</th>\n",
       "      <th>comision_porcentaje_msi</th>\n",
       "      <th>comision_porcentaje_final</th>\n",
       "      <th>comision_mdr_db</th>\n",
       "      <th>iva_comision_mdr_db</th>\n",
       "      <th>comision_msi_db</th>\n",
       "      <th>iva_comision_msi_db</th>\n",
       "      <th>amount_new</th>\n",
       "      <th>comparison</th>\n",
       "    </tr>\n",
       "  </thead>\n",
       "  <tbody>\n",
       "    <tr>\n",
       "      <th>0</th>\n",
       "      <td>LMNRTYDPHHMY</td>\n",
       "      <td>4</td>\n",
       "      <td>2024-01-13</td>\n",
       "      <td>376669*****2016****</td>\n",
       "      <td>95,000.00</td>\n",
       "      <td>0.00</td>\n",
       "      <td>0.00</td>\n",
       "      <td>2024-01-16</td>\n",
       "      <td>0</td>\n",
       "      <td>00</td>\n",
       "      <td>...</td>\n",
       "      <td>010610892240064</td>\n",
       "      <td>-0.02</td>\n",
       "      <td>0.00</td>\n",
       "      <td>-0.02</td>\n",
       "      <td>-22.80</td>\n",
       "      <td>-3.65</td>\n",
       "      <td>0.00</td>\n",
       "      <td>0.00</td>\n",
       "      <td>950.00</td>\n",
       "      <td>True</td>\n",
       "    </tr>\n",
       "  </tbody>\n",
       "</table>\n",
       "<p>1 rows × 35 columns</p>\n",
       "</div>"
      ],
      "text/plain": [
       "       order_id Type Date_process_roc                    A  \\\n",
       "0  LMNRTYDPHHMY    4       2024-01-13  376669*****2016****   \n",
       "\n",
       "   Total_amount_charge_roc  Svc_fee_amount_roc  Svc_fee_amount_accel_roc  \\\n",
       "0                95,000.00                0.00                      0.00   \n",
       "\n",
       "  roc_deposit_date 15 rechazo_amex  ...  clave_autorizacion  \\\n",
       "0       2024-01-16  0           00  ...     010610892240064   \n",
       "\n",
       "   comision_porcentaje_mdr  comision_porcentaje_msi  \\\n",
       "0                    -0.02                     0.00   \n",
       "\n",
       "   comision_porcentaje_final  comision_mdr_db iva_comision_mdr_db  \\\n",
       "0                      -0.02           -22.80               -3.65   \n",
       "\n",
       "  comision_msi_db iva_comision_msi_db amount_new comparison  \n",
       "0            0.00                0.00     950.00       True  \n",
       "\n",
       "[1 rows x 35 columns]"
      ]
     },
     "execution_count": 78,
     "metadata": {},
     "output_type": "execute_result"
    }
   ],
   "source": [
    "cruce_1 = cruce_1_previo[(cruce_1_previo['rechazo_amex'] != '01')]\n",
    "cruce_1.head()"
   ]
  },
  {
   "cell_type": "code",
   "execution_count": 79,
   "metadata": {},
   "outputs": [
    {
     "data": {
      "text/plain": [
       "(1, 35)"
      ]
     },
     "execution_count": 79,
     "metadata": {},
     "output_type": "execute_result"
    }
   ],
   "source": [
    "cruce_1.shape"
   ]
  },
  {
   "cell_type": "markdown",
   "metadata": {},
   "source": [
    "### RECHAZADOS AMEX"
   ]
  },
  {
   "cell_type": "code",
   "execution_count": 80,
   "metadata": {},
   "outputs": [
    {
     "data": {
      "text/html": [
       "<div>\n",
       "<style scoped>\n",
       "    .dataframe tbody tr th:only-of-type {\n",
       "        vertical-align: middle;\n",
       "    }\n",
       "\n",
       "    .dataframe tbody tr th {\n",
       "        vertical-align: top;\n",
       "    }\n",
       "\n",
       "    .dataframe thead th {\n",
       "        text-align: right;\n",
       "    }\n",
       "</style>\n",
       "<table border=\"1\" class=\"dataframe\">\n",
       "  <thead>\n",
       "    <tr style=\"text-align: right;\">\n",
       "      <th></th>\n",
       "      <th>order_id</th>\n",
       "      <th>Type</th>\n",
       "      <th>Date_process_roc</th>\n",
       "      <th>A</th>\n",
       "      <th>Total_amount_charge_roc</th>\n",
       "      <th>Svc_fee_amount_roc</th>\n",
       "      <th>Svc_fee_amount_accel_roc</th>\n",
       "      <th>roc_deposit_date</th>\n",
       "      <th>15</th>\n",
       "      <th>rechazo_amex</th>\n",
       "      <th>...</th>\n",
       "      <th>clave_autorizacion</th>\n",
       "      <th>comision_porcentaje_mdr</th>\n",
       "      <th>comision_porcentaje_msi</th>\n",
       "      <th>comision_porcentaje_final</th>\n",
       "      <th>comision_mdr_db</th>\n",
       "      <th>iva_comision_mdr_db</th>\n",
       "      <th>comision_msi_db</th>\n",
       "      <th>iva_comision_msi_db</th>\n",
       "      <th>amount_new</th>\n",
       "      <th>comparison</th>\n",
       "    </tr>\n",
       "  </thead>\n",
       "  <tbody>\n",
       "  </tbody>\n",
       "</table>\n",
       "<p>0 rows × 35 columns</p>\n",
       "</div>"
      ],
      "text/plain": [
       "Empty DataFrame\n",
       "Columns: [order_id, Type, Date_process_roc, A, Total_amount_charge_roc, Svc_fee_amount_roc, Svc_fee_amount_accel_roc, roc_deposit_date, 15, rechazo_amex, total_amount_bruto, fee_amount_mdr, fee_amount_msi, iva_msi, iva_mdr, bin_bank, last4_bank, INDEX_TOTAL, transaction_id, date_transaction, amount, status_code, msi, bin, last4, clave_autorizacion, comision_porcentaje_mdr, comision_porcentaje_msi, comision_porcentaje_final, comision_mdr_db, iva_comision_mdr_db, comision_msi_db, iva_comision_msi_db, amount_new, comparison]\n",
       "Index: []\n",
       "\n",
       "[0 rows x 35 columns]"
      ]
     },
     "execution_count": 80,
     "metadata": {},
     "output_type": "execute_result"
    }
   ],
   "source": [
    "cruce_1_rej = cruce_1_previo[(cruce_1_previo['rechazo_amex'] == '01')]\n",
    "cruce_1_rej.head()"
   ]
  },
  {
   "cell_type": "code",
   "execution_count": 81,
   "metadata": {},
   "outputs": [
    {
     "data": {
      "text/plain": [
       "(0, 35)"
      ]
     },
     "execution_count": 81,
     "metadata": {},
     "output_type": "execute_result"
    }
   ],
   "source": [
    "cruce_1_rej.shape"
   ]
  },
  {
   "cell_type": "markdown",
   "metadata": {},
   "source": [
    "# PAYMENTS CRUCE AMEX VS CLIP"
   ]
  },
  {
   "cell_type": "code",
   "execution_count": 82,
   "metadata": {},
   "outputs": [
    {
     "data": {
      "text/html": [
       "<div>\n",
       "<style scoped>\n",
       "    .dataframe tbody tr th:only-of-type {\n",
       "        vertical-align: middle;\n",
       "    }\n",
       "\n",
       "    .dataframe tbody tr th {\n",
       "        vertical-align: top;\n",
       "    }\n",
       "\n",
       "    .dataframe thead th {\n",
       "        text-align: right;\n",
       "    }\n",
       "</style>\n",
       "<table border=\"1\" class=\"dataframe\">\n",
       "  <thead>\n",
       "    <tr style=\"text-align: right;\">\n",
       "      <th></th>\n",
       "      <th>order_id</th>\n",
       "      <th>Type</th>\n",
       "      <th>Date_process_roc</th>\n",
       "      <th>A</th>\n",
       "      <th>Total_amount_charge_roc</th>\n",
       "      <th>Svc_fee_amount_roc</th>\n",
       "      <th>Svc_fee_amount_accel_roc</th>\n",
       "      <th>roc_deposit_date</th>\n",
       "      <th>15</th>\n",
       "      <th>rechazo_amex</th>\n",
       "      <th>...</th>\n",
       "      <th>clave_autorizacion</th>\n",
       "      <th>comision_porcentaje_mdr</th>\n",
       "      <th>comision_porcentaje_msi</th>\n",
       "      <th>comision_porcentaje_final</th>\n",
       "      <th>comision_mdr_db</th>\n",
       "      <th>iva_comision_mdr_db</th>\n",
       "      <th>comision_msi_db</th>\n",
       "      <th>iva_comision_msi_db</th>\n",
       "      <th>amount_new</th>\n",
       "      <th>comparison</th>\n",
       "    </tr>\n",
       "  </thead>\n",
       "  <tbody>\n",
       "    <tr>\n",
       "      <th>0</th>\n",
       "      <td>LMNRTYDPHHMY</td>\n",
       "      <td>4</td>\n",
       "      <td>2024-01-13</td>\n",
       "      <td>376669*****2016****</td>\n",
       "      <td>95,000.00</td>\n",
       "      <td>0.00</td>\n",
       "      <td>0.00</td>\n",
       "      <td>2024-01-16</td>\n",
       "      <td>0</td>\n",
       "      <td>00</td>\n",
       "      <td>...</td>\n",
       "      <td>010610892240064</td>\n",
       "      <td>-0.02</td>\n",
       "      <td>0.00</td>\n",
       "      <td>-0.02</td>\n",
       "      <td>-22.80</td>\n",
       "      <td>-3.65</td>\n",
       "      <td>0.00</td>\n",
       "      <td>0.00</td>\n",
       "      <td>950.00</td>\n",
       "      <td>True</td>\n",
       "    </tr>\n",
       "  </tbody>\n",
       "</table>\n",
       "<p>1 rows × 35 columns</p>\n",
       "</div>"
      ],
      "text/plain": [
       "       order_id Type Date_process_roc                    A  \\\n",
       "0  LMNRTYDPHHMY    4       2024-01-13  376669*****2016****   \n",
       "\n",
       "   Total_amount_charge_roc  Svc_fee_amount_roc  Svc_fee_amount_accel_roc  \\\n",
       "0                95,000.00                0.00                      0.00   \n",
       "\n",
       "  roc_deposit_date 15 rechazo_amex  ...  clave_autorizacion  \\\n",
       "0       2024-01-16  0           00  ...     010610892240064   \n",
       "\n",
       "   comision_porcentaje_mdr  comision_porcentaje_msi  \\\n",
       "0                    -0.02                     0.00   \n",
       "\n",
       "   comision_porcentaje_final  comision_mdr_db iva_comision_mdr_db  \\\n",
       "0                      -0.02           -22.80               -3.65   \n",
       "\n",
       "  comision_msi_db iva_comision_msi_db amount_new comparison  \n",
       "0            0.00                0.00     950.00       True  \n",
       "\n",
       "[1 rows x 35 columns]"
      ]
     },
     "execution_count": 82,
     "metadata": {},
     "output_type": "execute_result"
    }
   ],
   "source": [
    "txn_epa_deposit = cruce_1[(cruce_1['roc_deposit_date'] >= start_date) & (cruce_1['roc_deposit_date'] <= final_date)]\n",
    "txn_epa_deposit.head()"
   ]
  },
  {
   "cell_type": "code",
   "execution_count": 83,
   "metadata": {},
   "outputs": [
    {
     "data": {
      "text/plain": [
       "(1, 35)"
      ]
     },
     "execution_count": 83,
     "metadata": {},
     "output_type": "execute_result"
    }
   ],
   "source": [
    "txn_epa_deposit.shape"
   ]
  },
  {
   "cell_type": "code",
   "execution_count": 84,
   "metadata": {},
   "outputs": [
    {
     "data": {
      "text/plain": [
       "<DatetimeArray>\n",
       "['2024-01-16 00:00:00']\n",
       "Length: 1, dtype: datetime64[ns]"
      ]
     },
     "execution_count": 84,
     "metadata": {},
     "output_type": "execute_result"
    }
   ],
   "source": [
    "txn_epa_deposit['roc_deposit_date'].unique()"
   ]
  },
  {
   "cell_type": "code",
   "execution_count": 85,
   "metadata": {},
   "outputs": [
    {
     "name": "stderr",
     "output_type": "stream",
     "text": [
      "C:\\Users\\Cristian.Aparicio\\AppData\\Local\\Temp\\ipykernel_1404\\47295392.py:2: SettingWithCopyWarning: \n",
      "A value is trying to be set on a copy of a slice from a DataFrame\n",
      "\n",
      "See the caveats in the documentation: https://pandas.pydata.org/pandas-docs/stable/user_guide/indexing.html#returning-a-view-versus-a-copy\n",
      "  duplicates_1.sort_values(by=['order_id','Date_process_roc'],inplace=True)\n"
     ]
    },
    {
     "data": {
      "text/html": [
       "<div>\n",
       "<style scoped>\n",
       "    .dataframe tbody tr th:only-of-type {\n",
       "        vertical-align: middle;\n",
       "    }\n",
       "\n",
       "    .dataframe tbody tr th {\n",
       "        vertical-align: top;\n",
       "    }\n",
       "\n",
       "    .dataframe thead th {\n",
       "        text-align: right;\n",
       "    }\n",
       "</style>\n",
       "<table border=\"1\" class=\"dataframe\">\n",
       "  <thead>\n",
       "    <tr style=\"text-align: right;\">\n",
       "      <th></th>\n",
       "      <th>order_id</th>\n",
       "      <th>Type</th>\n",
       "      <th>Date_process_roc</th>\n",
       "      <th>A</th>\n",
       "      <th>Total_amount_charge_roc</th>\n",
       "      <th>Svc_fee_amount_roc</th>\n",
       "      <th>Svc_fee_amount_accel_roc</th>\n",
       "      <th>roc_deposit_date</th>\n",
       "      <th>15</th>\n",
       "      <th>rechazo_amex</th>\n",
       "      <th>...</th>\n",
       "      <th>clave_autorizacion</th>\n",
       "      <th>comision_porcentaje_mdr</th>\n",
       "      <th>comision_porcentaje_msi</th>\n",
       "      <th>comision_porcentaje_final</th>\n",
       "      <th>comision_mdr_db</th>\n",
       "      <th>iva_comision_mdr_db</th>\n",
       "      <th>comision_msi_db</th>\n",
       "      <th>iva_comision_msi_db</th>\n",
       "      <th>amount_new</th>\n",
       "      <th>comparison</th>\n",
       "    </tr>\n",
       "  </thead>\n",
       "  <tbody>\n",
       "  </tbody>\n",
       "</table>\n",
       "<p>0 rows × 35 columns</p>\n",
       "</div>"
      ],
      "text/plain": [
       "Empty DataFrame\n",
       "Columns: [order_id, Type, Date_process_roc, A, Total_amount_charge_roc, Svc_fee_amount_roc, Svc_fee_amount_accel_roc, roc_deposit_date, 15, rechazo_amex, total_amount_bruto, fee_amount_mdr, fee_amount_msi, iva_msi, iva_mdr, bin_bank, last4_bank, INDEX_TOTAL, transaction_id, date_transaction, amount, status_code, msi, bin, last4, clave_autorizacion, comision_porcentaje_mdr, comision_porcentaje_msi, comision_porcentaje_final, comision_mdr_db, iva_comision_mdr_db, comision_msi_db, iva_comision_msi_db, amount_new, comparison]\n",
       "Index: []\n",
       "\n",
       "[0 rows x 35 columns]"
      ]
     },
     "execution_count": 85,
     "metadata": {},
     "output_type": "execute_result"
    }
   ],
   "source": [
    "duplicates_1 = txn_epa_deposit[txn_epa_deposit.duplicated(['order_id'] , keep=False)]\n",
    "duplicates_1.sort_values(by=['order_id','Date_process_roc'],inplace=True)\n",
    "duplicates_1.head()\n"
   ]
  },
  {
   "cell_type": "code",
   "execution_count": 86,
   "metadata": {},
   "outputs": [
    {
     "data": {
      "text/plain": [
       "(0, 35)"
      ]
     },
     "execution_count": 86,
     "metadata": {},
     "output_type": "execute_result"
    }
   ],
   "source": [
    "duplicates_1.shape"
   ]
  },
  {
   "cell_type": "code",
   "execution_count": 87,
   "metadata": {},
   "outputs": [],
   "source": [
    "# txn_epa_deposit.to_csv('EJEMPLO COMISIONES.csv')"
   ]
  },
  {
   "cell_type": "markdown",
   "metadata": {},
   "source": [
    "### COMPARISON"
   ]
  },
  {
   "cell_type": "code",
   "execution_count": 88,
   "metadata": {},
   "outputs": [
    {
     "data": {
      "text/html": [
       "<div>\n",
       "<style scoped>\n",
       "    .dataframe tbody tr th:only-of-type {\n",
       "        vertical-align: middle;\n",
       "    }\n",
       "\n",
       "    .dataframe tbody tr th {\n",
       "        vertical-align: top;\n",
       "    }\n",
       "\n",
       "    .dataframe thead th {\n",
       "        text-align: right;\n",
       "    }\n",
       "</style>\n",
       "<table border=\"1\" class=\"dataframe\">\n",
       "  <thead>\n",
       "    <tr style=\"text-align: right;\">\n",
       "      <th></th>\n",
       "      <th>order_id</th>\n",
       "      <th>Type</th>\n",
       "      <th>Date_process_roc</th>\n",
       "      <th>A</th>\n",
       "      <th>Total_amount_charge_roc</th>\n",
       "      <th>Svc_fee_amount_roc</th>\n",
       "      <th>Svc_fee_amount_accel_roc</th>\n",
       "      <th>roc_deposit_date</th>\n",
       "      <th>15</th>\n",
       "      <th>rechazo_amex</th>\n",
       "      <th>...</th>\n",
       "      <th>clave_autorizacion</th>\n",
       "      <th>comision_porcentaje_mdr</th>\n",
       "      <th>comision_porcentaje_msi</th>\n",
       "      <th>comision_porcentaje_final</th>\n",
       "      <th>comision_mdr_db</th>\n",
       "      <th>iva_comision_mdr_db</th>\n",
       "      <th>comision_msi_db</th>\n",
       "      <th>iva_comision_msi_db</th>\n",
       "      <th>amount_new</th>\n",
       "      <th>comparison</th>\n",
       "    </tr>\n",
       "  </thead>\n",
       "  <tbody>\n",
       "  </tbody>\n",
       "</table>\n",
       "<p>0 rows × 35 columns</p>\n",
       "</div>"
      ],
      "text/plain": [
       "Empty DataFrame\n",
       "Columns: [order_id, Type, Date_process_roc, A, Total_amount_charge_roc, Svc_fee_amount_roc, Svc_fee_amount_accel_roc, roc_deposit_date, 15, rechazo_amex, total_amount_bruto, fee_amount_mdr, fee_amount_msi, iva_msi, iva_mdr, bin_bank, last4_bank, INDEX_TOTAL, transaction_id, date_transaction, amount, status_code, msi, bin, last4, clave_autorizacion, comision_porcentaje_mdr, comision_porcentaje_msi, comision_porcentaje_final, comision_mdr_db, iva_comision_mdr_db, comision_msi_db, iva_comision_msi_db, amount_new, comparison]\n",
       "Index: []\n",
       "\n",
       "[0 rows x 35 columns]"
      ]
     },
     "execution_count": 88,
     "metadata": {},
     "output_type": "execute_result"
    }
   ],
   "source": [
    "comparison_1 = txn_epa_deposit[(txn_epa_deposit['comparison'] == False)]\n",
    "comparison_1.head()"
   ]
  },
  {
   "cell_type": "code",
   "execution_count": 89,
   "metadata": {},
   "outputs": [
    {
     "data": {
      "text/plain": [
       "(0, 35)"
      ]
     },
     "execution_count": 89,
     "metadata": {},
     "output_type": "execute_result"
    }
   ],
   "source": [
    "comparison_1.shape"
   ]
  },
  {
   "cell_type": "markdown",
   "metadata": {},
   "source": [
    "### ADJUSTMENTS"
   ]
  },
  {
   "cell_type": "code",
   "execution_count": 90,
   "metadata": {},
   "outputs": [],
   "source": [
    "txn_epa_adj_trunc = txn_epa_adj[(txn_epa_adj['roc_deposit_date'] >= start_date) &\n",
    "                                (txn_epa_adj['roc_deposit_date'] <= final_date)]"
   ]
  },
  {
   "cell_type": "code",
   "execution_count": 91,
   "metadata": {},
   "outputs": [
    {
     "data": {
      "text/html": [
       "<div>\n",
       "<style scoped>\n",
       "    .dataframe tbody tr th:only-of-type {\n",
       "        vertical-align: middle;\n",
       "    }\n",
       "\n",
       "    .dataframe tbody tr th {\n",
       "        vertical-align: top;\n",
       "    }\n",
       "\n",
       "    .dataframe thead th {\n",
       "        text-align: right;\n",
       "    }\n",
       "</style>\n",
       "<table border=\"1\" class=\"dataframe\">\n",
       "  <thead>\n",
       "    <tr style=\"text-align: right;\">\n",
       "      <th></th>\n",
       "      <th>roc_deposit_date</th>\n",
       "      <th>clave_autorizacion</th>\n",
       "      <th>9</th>\n",
       "      <th>10</th>\n",
       "      <th>A</th>\n",
       "      <th>12</th>\n",
       "      <th>13</th>\n",
       "      <th>no_tarjeta</th>\n",
       "      <th>adj_id</th>\n",
       "      <th>motivo_adj</th>\n",
       "      <th>18</th>\n",
       "      <th>importe_adj_bruto</th>\n",
       "      <th>tasa_adj</th>\n",
       "      <th>importe_impuesto</th>\n",
       "      <th>tasa_servicio_plan_n</th>\n",
       "      <th>importe_adj_neto</th>\n",
       "      <th>bin_bank</th>\n",
       "      <th>last4_bank</th>\n",
       "    </tr>\n",
       "  </thead>\n",
       "  <tbody>\n",
       "  </tbody>\n",
       "</table>\n",
       "</div>"
      ],
      "text/plain": [
       "Empty DataFrame\n",
       "Columns: [roc_deposit_date, clave_autorizacion, 9, 10, A, 12, 13, no_tarjeta, adj_id, motivo_adj, 18, importe_adj_bruto, tasa_adj, importe_impuesto, tasa_servicio_plan_n, importe_adj_neto, bin_bank, last4_bank]\n",
       "Index: []"
      ]
     },
     "execution_count": 91,
     "metadata": {},
     "output_type": "execute_result"
    }
   ],
   "source": [
    "adj_montos = txn_epa_adj_trunc[(txn_epa_adj_trunc['motivo_adj'] != 'MONTO DE SERVICIO')]\n",
    "adj_montos.head()"
   ]
  },
  {
   "cell_type": "code",
   "execution_count": 92,
   "metadata": {},
   "outputs": [
    {
     "data": {
      "text/plain": [
       "(0, 18)"
      ]
     },
     "execution_count": 92,
     "metadata": {},
     "output_type": "execute_result"
    }
   ],
   "source": [
    "adj_montos.shape"
   ]
  },
  {
   "cell_type": "code",
   "execution_count": 93,
   "metadata": {},
   "outputs": [
    {
     "name": "stderr",
     "output_type": "stream",
     "text": [
      "C:\\Users\\Cristian.Aparicio\\AppData\\Local\\Temp\\ipykernel_1404\\1836096113.py:1: FutureWarning: The provided callable <built-in function sum> is currently using SeriesGroupBy.sum. In a future version of pandas, the provided callable will be used directly. To keep current behavior pass the string \"sum\" instead.\n",
      "  deposit_date_adj = adj_montos.groupby(['roc_deposit_date']).agg({'importe_adj_bruto':sum,'tasa_adj':sum\n",
      "C:\\Users\\Cristian.Aparicio\\AppData\\Local\\Temp\\ipykernel_1404\\1836096113.py:1: FutureWarning: The provided callable <built-in function sum> is currently using SeriesGroupBy.sum. In a future version of pandas, the provided callable will be used directly. To keep current behavior pass the string \"sum\" instead.\n",
      "  deposit_date_adj = adj_montos.groupby(['roc_deposit_date']).agg({'importe_adj_bruto':sum,'tasa_adj':sum\n",
      "C:\\Users\\Cristian.Aparicio\\AppData\\Local\\Temp\\ipykernel_1404\\1836096113.py:1: FutureWarning: The provided callable <built-in function sum> is currently using SeriesGroupBy.sum. In a future version of pandas, the provided callable will be used directly. To keep current behavior pass the string \"sum\" instead.\n",
      "  deposit_date_adj = adj_montos.groupby(['roc_deposit_date']).agg({'importe_adj_bruto':sum,'tasa_adj':sum\n",
      "C:\\Users\\Cristian.Aparicio\\AppData\\Local\\Temp\\ipykernel_1404\\1836096113.py:1: FutureWarning: The provided callable <built-in function sum> is currently using SeriesGroupBy.sum. In a future version of pandas, the provided callable will be used directly. To keep current behavior pass the string \"sum\" instead.\n",
      "  deposit_date_adj = adj_montos.groupby(['roc_deposit_date']).agg({'importe_adj_bruto':sum,'tasa_adj':sum\n",
      "C:\\Users\\Cristian.Aparicio\\AppData\\Local\\Temp\\ipykernel_1404\\1836096113.py:1: FutureWarning: The provided callable <built-in function sum> is currently using SeriesGroupBy.sum. In a future version of pandas, the provided callable will be used directly. To keep current behavior pass the string \"sum\" instead.\n",
      "  deposit_date_adj = adj_montos.groupby(['roc_deposit_date']).agg({'importe_adj_bruto':sum,'tasa_adj':sum\n"
     ]
    },
    {
     "data": {
      "text/html": [
       "<div>\n",
       "<style scoped>\n",
       "    .dataframe tbody tr th:only-of-type {\n",
       "        vertical-align: middle;\n",
       "    }\n",
       "\n",
       "    .dataframe tbody tr th {\n",
       "        vertical-align: top;\n",
       "    }\n",
       "\n",
       "    .dataframe thead th {\n",
       "        text-align: right;\n",
       "    }\n",
       "</style>\n",
       "<table border=\"1\" class=\"dataframe\">\n",
       "  <thead>\n",
       "    <tr style=\"text-align: right;\">\n",
       "      <th></th>\n",
       "      <th>roc_deposit_date</th>\n",
       "      <th>importe_adj_bruto</th>\n",
       "      <th>tasa_adj</th>\n",
       "      <th>importe_impuesto</th>\n",
       "      <th>tasa_servicio_plan_n</th>\n",
       "      <th>importe_adj_neto</th>\n",
       "    </tr>\n",
       "  </thead>\n",
       "  <tbody>\n",
       "  </tbody>\n",
       "</table>\n",
       "</div>"
      ],
      "text/plain": [
       "Empty DataFrame\n",
       "Columns: [roc_deposit_date, importe_adj_bruto, tasa_adj, importe_impuesto, tasa_servicio_plan_n, importe_adj_neto]\n",
       "Index: []"
      ]
     },
     "execution_count": 93,
     "metadata": {},
     "output_type": "execute_result"
    }
   ],
   "source": [
    "deposit_date_adj = adj_montos.groupby(['roc_deposit_date']).agg({'importe_adj_bruto':sum,'tasa_adj':sum\n",
    "                                                                 ,'importe_impuesto':sum,'tasa_servicio_plan_n':sum\n",
    "                                                                 ,'importe_adj_neto':sum}).reset_index()\n",
    "deposit_date_adj.head()"
   ]
  },
  {
   "cell_type": "code",
   "execution_count": 94,
   "metadata": {},
   "outputs": [
    {
     "data": {
      "text/plain": [
       "(0, 6)"
      ]
     },
     "execution_count": 94,
     "metadata": {},
     "output_type": "execute_result"
    }
   ],
   "source": [
    "deposit_date_adj.shape"
   ]
  },
  {
   "cell_type": "code",
   "execution_count": 95,
   "metadata": {},
   "outputs": [
    {
     "data": {
      "text/html": [
       "<div>\n",
       "<style scoped>\n",
       "    .dataframe tbody tr th:only-of-type {\n",
       "        vertical-align: middle;\n",
       "    }\n",
       "\n",
       "    .dataframe tbody tr th {\n",
       "        vertical-align: top;\n",
       "    }\n",
       "\n",
       "    .dataframe thead th {\n",
       "        text-align: right;\n",
       "    }\n",
       "</style>\n",
       "<table border=\"1\" class=\"dataframe\">\n",
       "  <thead>\n",
       "    <tr style=\"text-align: right;\">\n",
       "      <th></th>\n",
       "      <th>roc_deposit_date</th>\n",
       "      <th>clave_autorizacion</th>\n",
       "      <th>9</th>\n",
       "      <th>10</th>\n",
       "      <th>A</th>\n",
       "      <th>12</th>\n",
       "      <th>13</th>\n",
       "      <th>no_tarjeta</th>\n",
       "      <th>adj_id</th>\n",
       "      <th>motivo_adj</th>\n",
       "      <th>18</th>\n",
       "      <th>importe_adj_bruto</th>\n",
       "      <th>tasa_adj</th>\n",
       "      <th>importe_impuesto</th>\n",
       "      <th>tasa_servicio_plan_n</th>\n",
       "      <th>importe_adj_neto</th>\n",
       "      <th>bin_bank</th>\n",
       "      <th>last4_bank</th>\n",
       "    </tr>\n",
       "  </thead>\n",
       "  <tbody>\n",
       "  </tbody>\n",
       "</table>\n",
       "</div>"
      ],
      "text/plain": [
       "Empty DataFrame\n",
       "Columns: [roc_deposit_date, clave_autorizacion, 9, 10, A, 12, 13, no_tarjeta, adj_id, motivo_adj, 18, importe_adj_bruto, tasa_adj, importe_impuesto, tasa_servicio_plan_n, importe_adj_neto, bin_bank, last4_bank]\n",
       "Index: []"
      ]
     },
     "execution_count": 95,
     "metadata": {},
     "output_type": "execute_result"
    }
   ],
   "source": [
    "adj_monto_servicio = txn_epa_adj_trunc[(txn_epa_adj_trunc['motivo_adj'] == 'MONTO DE SERVICIO')]\n",
    "adj_monto_servicio.head()"
   ]
  },
  {
   "cell_type": "code",
   "execution_count": 96,
   "metadata": {},
   "outputs": [
    {
     "data": {
      "text/plain": [
       "(0, 18)"
      ]
     },
     "execution_count": 96,
     "metadata": {},
     "output_type": "execute_result"
    }
   ],
   "source": [
    "adj_monto_servicio.shape"
   ]
  },
  {
   "cell_type": "code",
   "execution_count": 97,
   "metadata": {},
   "outputs": [
    {
     "name": "stderr",
     "output_type": "stream",
     "text": [
      "C:\\Users\\Cristian.Aparicio\\AppData\\Local\\Temp\\ipykernel_1404\\2826197730.py:1: FutureWarning: The provided callable <built-in function sum> is currently using SeriesGroupBy.sum. In a future version of pandas, the provided callable will be used directly. To keep current behavior pass the string \"sum\" instead.\n",
      "  pivot_monto_servicio = adj_monto_servicio.groupby(['roc_deposit_date']).agg({'importe_adj_bruto':sum,'tasa_adj':sum\n",
      "C:\\Users\\Cristian.Aparicio\\AppData\\Local\\Temp\\ipykernel_1404\\2826197730.py:1: FutureWarning: The provided callable <built-in function sum> is currently using SeriesGroupBy.sum. In a future version of pandas, the provided callable will be used directly. To keep current behavior pass the string \"sum\" instead.\n",
      "  pivot_monto_servicio = adj_monto_servicio.groupby(['roc_deposit_date']).agg({'importe_adj_bruto':sum,'tasa_adj':sum\n",
      "C:\\Users\\Cristian.Aparicio\\AppData\\Local\\Temp\\ipykernel_1404\\2826197730.py:1: FutureWarning: The provided callable <built-in function sum> is currently using SeriesGroupBy.sum. In a future version of pandas, the provided callable will be used directly. To keep current behavior pass the string \"sum\" instead.\n",
      "  pivot_monto_servicio = adj_monto_servicio.groupby(['roc_deposit_date']).agg({'importe_adj_bruto':sum,'tasa_adj':sum\n",
      "C:\\Users\\Cristian.Aparicio\\AppData\\Local\\Temp\\ipykernel_1404\\2826197730.py:1: FutureWarning: The provided callable <built-in function sum> is currently using SeriesGroupBy.sum. In a future version of pandas, the provided callable will be used directly. To keep current behavior pass the string \"sum\" instead.\n",
      "  pivot_monto_servicio = adj_monto_servicio.groupby(['roc_deposit_date']).agg({'importe_adj_bruto':sum,'tasa_adj':sum\n",
      "C:\\Users\\Cristian.Aparicio\\AppData\\Local\\Temp\\ipykernel_1404\\2826197730.py:1: FutureWarning: The provided callable <built-in function sum> is currently using SeriesGroupBy.sum. In a future version of pandas, the provided callable will be used directly. To keep current behavior pass the string \"sum\" instead.\n",
      "  pivot_monto_servicio = adj_monto_servicio.groupby(['roc_deposit_date']).agg({'importe_adj_bruto':sum,'tasa_adj':sum\n"
     ]
    },
    {
     "data": {
      "text/html": [
       "<div>\n",
       "<style scoped>\n",
       "    .dataframe tbody tr th:only-of-type {\n",
       "        vertical-align: middle;\n",
       "    }\n",
       "\n",
       "    .dataframe tbody tr th {\n",
       "        vertical-align: top;\n",
       "    }\n",
       "\n",
       "    .dataframe thead th {\n",
       "        text-align: right;\n",
       "    }\n",
       "</style>\n",
       "<table border=\"1\" class=\"dataframe\">\n",
       "  <thead>\n",
       "    <tr style=\"text-align: right;\">\n",
       "      <th></th>\n",
       "      <th>roc_deposit_date</th>\n",
       "      <th>importe_adj_bruto</th>\n",
       "      <th>tasa_adj</th>\n",
       "      <th>importe_impuesto</th>\n",
       "      <th>tasa_servicio_plan_n</th>\n",
       "      <th>importe_adj_neto</th>\n",
       "    </tr>\n",
       "  </thead>\n",
       "  <tbody>\n",
       "  </tbody>\n",
       "</table>\n",
       "</div>"
      ],
      "text/plain": [
       "Empty DataFrame\n",
       "Columns: [roc_deposit_date, importe_adj_bruto, tasa_adj, importe_impuesto, tasa_servicio_plan_n, importe_adj_neto]\n",
       "Index: []"
      ]
     },
     "execution_count": 97,
     "metadata": {},
     "output_type": "execute_result"
    }
   ],
   "source": [
    "pivot_monto_servicio = adj_monto_servicio.groupby(['roc_deposit_date']).agg({'importe_adj_bruto':sum,'tasa_adj':sum\n",
    "                                                                 ,'importe_impuesto':sum,'tasa_servicio_plan_n':sum\n",
    "                                                                 ,'importe_adj_neto':sum}).reset_index()\n",
    "pivot_monto_servicio.head()"
   ]
  },
  {
   "cell_type": "code",
   "execution_count": 98,
   "metadata": {},
   "outputs": [
    {
     "data": {
      "text/plain": [
       "(0, 6)"
      ]
     },
     "execution_count": 98,
     "metadata": {},
     "output_type": "execute_result"
    }
   ],
   "source": [
    "pivot_monto_servicio.shape"
   ]
  },
  {
   "cell_type": "markdown",
   "metadata": {},
   "source": [
    "#### ADJUSTMENTS POSITIVOS"
   ]
  },
  {
   "cell_type": "code",
   "execution_count": 99,
   "metadata": {},
   "outputs": [],
   "source": [
    "adj_montos_positivos = adj_montos[(adj_montos['importe_adj_bruto'] >= 0)]"
   ]
  },
  {
   "cell_type": "code",
   "execution_count": 100,
   "metadata": {},
   "outputs": [
    {
     "name": "stderr",
     "output_type": "stream",
     "text": [
      "C:\\Users\\Cristian.Aparicio\\AppData\\Local\\Temp\\ipykernel_1404\\2047788177.py:1: FutureWarning: The provided callable <built-in function sum> is currently using SeriesGroupBy.sum. In a future version of pandas, the provided callable will be used directly. To keep current behavior pass the string \"sum\" instead.\n",
      "  deposit_date_adj_positivos = adj_montos_positivos.groupby(['roc_deposit_date']).agg({'importe_adj_bruto':sum,'tasa_adj':sum\n",
      "C:\\Users\\Cristian.Aparicio\\AppData\\Local\\Temp\\ipykernel_1404\\2047788177.py:1: FutureWarning: The provided callable <built-in function sum> is currently using SeriesGroupBy.sum. In a future version of pandas, the provided callable will be used directly. To keep current behavior pass the string \"sum\" instead.\n",
      "  deposit_date_adj_positivos = adj_montos_positivos.groupby(['roc_deposit_date']).agg({'importe_adj_bruto':sum,'tasa_adj':sum\n",
      "C:\\Users\\Cristian.Aparicio\\AppData\\Local\\Temp\\ipykernel_1404\\2047788177.py:1: FutureWarning: The provided callable <built-in function sum> is currently using SeriesGroupBy.sum. In a future version of pandas, the provided callable will be used directly. To keep current behavior pass the string \"sum\" instead.\n",
      "  deposit_date_adj_positivos = adj_montos_positivos.groupby(['roc_deposit_date']).agg({'importe_adj_bruto':sum,'tasa_adj':sum\n",
      "C:\\Users\\Cristian.Aparicio\\AppData\\Local\\Temp\\ipykernel_1404\\2047788177.py:1: FutureWarning: The provided callable <built-in function sum> is currently using SeriesGroupBy.sum. In a future version of pandas, the provided callable will be used directly. To keep current behavior pass the string \"sum\" instead.\n",
      "  deposit_date_adj_positivos = adj_montos_positivos.groupby(['roc_deposit_date']).agg({'importe_adj_bruto':sum,'tasa_adj':sum\n",
      "C:\\Users\\Cristian.Aparicio\\AppData\\Local\\Temp\\ipykernel_1404\\2047788177.py:1: FutureWarning: The provided callable <built-in function sum> is currently using SeriesGroupBy.sum. In a future version of pandas, the provided callable will be used directly. To keep current behavior pass the string \"sum\" instead.\n",
      "  deposit_date_adj_positivos = adj_montos_positivos.groupby(['roc_deposit_date']).agg({'importe_adj_bruto':sum,'tasa_adj':sum\n"
     ]
    },
    {
     "data": {
      "text/html": [
       "<div>\n",
       "<style scoped>\n",
       "    .dataframe tbody tr th:only-of-type {\n",
       "        vertical-align: middle;\n",
       "    }\n",
       "\n",
       "    .dataframe tbody tr th {\n",
       "        vertical-align: top;\n",
       "    }\n",
       "\n",
       "    .dataframe thead th {\n",
       "        text-align: right;\n",
       "    }\n",
       "</style>\n",
       "<table border=\"1\" class=\"dataframe\">\n",
       "  <thead>\n",
       "    <tr style=\"text-align: right;\">\n",
       "      <th></th>\n",
       "      <th>roc_deposit_date</th>\n",
       "      <th>importe_adj_bruto</th>\n",
       "      <th>tasa_adj</th>\n",
       "      <th>importe_impuesto</th>\n",
       "      <th>tasa_servicio_plan_n</th>\n",
       "      <th>importe_adj_neto</th>\n",
       "    </tr>\n",
       "  </thead>\n",
       "  <tbody>\n",
       "  </tbody>\n",
       "</table>\n",
       "</div>"
      ],
      "text/plain": [
       "Empty DataFrame\n",
       "Columns: [roc_deposit_date, importe_adj_bruto, tasa_adj, importe_impuesto, tasa_servicio_plan_n, importe_adj_neto]\n",
       "Index: []"
      ]
     },
     "execution_count": 100,
     "metadata": {},
     "output_type": "execute_result"
    }
   ],
   "source": [
    "deposit_date_adj_positivos = adj_montos_positivos.groupby(['roc_deposit_date']).agg({'importe_adj_bruto':sum,'tasa_adj':sum\n",
    "                                                                 ,'importe_impuesto':sum,'tasa_servicio_plan_n':sum\n",
    "                                                                 ,'importe_adj_neto':sum}).reset_index()\n",
    "deposit_date_adj_positivos.head()"
   ]
  },
  {
   "cell_type": "code",
   "execution_count": 101,
   "metadata": {},
   "outputs": [
    {
     "data": {
      "text/plain": [
       "(0, 6)"
      ]
     },
     "execution_count": 101,
     "metadata": {},
     "output_type": "execute_result"
    }
   ],
   "source": [
    "deposit_date_adj_positivos.shape"
   ]
  },
  {
   "cell_type": "code",
   "execution_count": 102,
   "metadata": {},
   "outputs": [
    {
     "data": {
      "text/html": [
       "<div>\n",
       "<style scoped>\n",
       "    .dataframe tbody tr th:only-of-type {\n",
       "        vertical-align: middle;\n",
       "    }\n",
       "\n",
       "    .dataframe tbody tr th {\n",
       "        vertical-align: top;\n",
       "    }\n",
       "\n",
       "    .dataframe thead th {\n",
       "        text-align: right;\n",
       "    }\n",
       "</style>\n",
       "<table border=\"1\" class=\"dataframe\">\n",
       "  <thead>\n",
       "    <tr style=\"text-align: right;\">\n",
       "      <th></th>\n",
       "      <th>roc_deposit_date</th>\n",
       "      <th>clave_autorizacion</th>\n",
       "      <th>9</th>\n",
       "      <th>10</th>\n",
       "      <th>A</th>\n",
       "      <th>12</th>\n",
       "      <th>13</th>\n",
       "      <th>no_tarjeta</th>\n",
       "      <th>adj_id</th>\n",
       "      <th>motivo_adj</th>\n",
       "      <th>18</th>\n",
       "      <th>importe_adj_bruto</th>\n",
       "      <th>tasa_adj</th>\n",
       "      <th>importe_impuesto</th>\n",
       "      <th>tasa_servicio_plan_n</th>\n",
       "      <th>importe_adj_neto</th>\n",
       "      <th>bin_bank</th>\n",
       "      <th>last4_bank</th>\n",
       "    </tr>\n",
       "  </thead>\n",
       "  <tbody>\n",
       "  </tbody>\n",
       "</table>\n",
       "</div>"
      ],
      "text/plain": [
       "Empty DataFrame\n",
       "Columns: [roc_deposit_date, clave_autorizacion, 9, 10, A, 12, 13, no_tarjeta, adj_id, motivo_adj, 18, importe_adj_bruto, tasa_adj, importe_impuesto, tasa_servicio_plan_n, importe_adj_neto, bin_bank, last4_bank]\n",
       "Index: []"
      ]
     },
     "execution_count": 102,
     "metadata": {},
     "output_type": "execute_result"
    }
   ],
   "source": [
    "adj_monto_servicio_positivos = adj_monto_servicio[(adj_monto_servicio['importe_adj_neto'] >= 0)]\n",
    "adj_monto_servicio_positivos.head()"
   ]
  },
  {
   "cell_type": "code",
   "execution_count": 103,
   "metadata": {},
   "outputs": [
    {
     "data": {
      "text/plain": [
       "(0, 18)"
      ]
     },
     "execution_count": 103,
     "metadata": {},
     "output_type": "execute_result"
    }
   ],
   "source": [
    "adj_monto_servicio_positivos.shape"
   ]
  },
  {
   "cell_type": "code",
   "execution_count": 104,
   "metadata": {},
   "outputs": [
    {
     "name": "stderr",
     "output_type": "stream",
     "text": [
      "C:\\Users\\Cristian.Aparicio\\AppData\\Local\\Temp\\ipykernel_1404\\670131712.py:1: FutureWarning: The provided callable <built-in function sum> is currently using SeriesGroupBy.sum. In a future version of pandas, the provided callable will be used directly. To keep current behavior pass the string \"sum\" instead.\n",
      "  pivot_monto_servicio_positivos = adj_monto_servicio_positivos.groupby(['roc_deposit_date']).agg({'importe_adj_bruto':sum,\n",
      "C:\\Users\\Cristian.Aparicio\\AppData\\Local\\Temp\\ipykernel_1404\\670131712.py:1: FutureWarning: The provided callable <built-in function sum> is currently using SeriesGroupBy.sum. In a future version of pandas, the provided callable will be used directly. To keep current behavior pass the string \"sum\" instead.\n",
      "  pivot_monto_servicio_positivos = adj_monto_servicio_positivos.groupby(['roc_deposit_date']).agg({'importe_adj_bruto':sum,\n",
      "C:\\Users\\Cristian.Aparicio\\AppData\\Local\\Temp\\ipykernel_1404\\670131712.py:1: FutureWarning: The provided callable <built-in function sum> is currently using SeriesGroupBy.sum. In a future version of pandas, the provided callable will be used directly. To keep current behavior pass the string \"sum\" instead.\n",
      "  pivot_monto_servicio_positivos = adj_monto_servicio_positivos.groupby(['roc_deposit_date']).agg({'importe_adj_bruto':sum,\n",
      "C:\\Users\\Cristian.Aparicio\\AppData\\Local\\Temp\\ipykernel_1404\\670131712.py:1: FutureWarning: The provided callable <built-in function sum> is currently using SeriesGroupBy.sum. In a future version of pandas, the provided callable will be used directly. To keep current behavior pass the string \"sum\" instead.\n",
      "  pivot_monto_servicio_positivos = adj_monto_servicio_positivos.groupby(['roc_deposit_date']).agg({'importe_adj_bruto':sum,\n",
      "C:\\Users\\Cristian.Aparicio\\AppData\\Local\\Temp\\ipykernel_1404\\670131712.py:1: FutureWarning: The provided callable <built-in function sum> is currently using SeriesGroupBy.sum. In a future version of pandas, the provided callable will be used directly. To keep current behavior pass the string \"sum\" instead.\n",
      "  pivot_monto_servicio_positivos = adj_monto_servicio_positivos.groupby(['roc_deposit_date']).agg({'importe_adj_bruto':sum,\n"
     ]
    },
    {
     "data": {
      "text/html": [
       "<div>\n",
       "<style scoped>\n",
       "    .dataframe tbody tr th:only-of-type {\n",
       "        vertical-align: middle;\n",
       "    }\n",
       "\n",
       "    .dataframe tbody tr th {\n",
       "        vertical-align: top;\n",
       "    }\n",
       "\n",
       "    .dataframe thead th {\n",
       "        text-align: right;\n",
       "    }\n",
       "</style>\n",
       "<table border=\"1\" class=\"dataframe\">\n",
       "  <thead>\n",
       "    <tr style=\"text-align: right;\">\n",
       "      <th></th>\n",
       "      <th>roc_deposit_date</th>\n",
       "      <th>importe_adj_bruto</th>\n",
       "      <th>tasa_adj</th>\n",
       "      <th>importe_impuesto</th>\n",
       "      <th>tasa_servicio_plan_n</th>\n",
       "      <th>importe_adj_neto</th>\n",
       "    </tr>\n",
       "  </thead>\n",
       "  <tbody>\n",
       "  </tbody>\n",
       "</table>\n",
       "</div>"
      ],
      "text/plain": [
       "Empty DataFrame\n",
       "Columns: [roc_deposit_date, importe_adj_bruto, tasa_adj, importe_impuesto, tasa_servicio_plan_n, importe_adj_neto]\n",
       "Index: []"
      ]
     },
     "execution_count": 104,
     "metadata": {},
     "output_type": "execute_result"
    }
   ],
   "source": [
    "pivot_monto_servicio_positivos = adj_monto_servicio_positivos.groupby(['roc_deposit_date']).agg({'importe_adj_bruto':sum,\n",
    "                                                                                                 'tasa_adj':sum,\n",
    "                                                                                                 'importe_impuesto':sum,\n",
    "                                                                                                 'tasa_servicio_plan_n':sum,\n",
    "                                                                                                 'importe_adj_neto':sum}).reset_index()\n",
    "pivot_monto_servicio_positivos.head()"
   ]
  },
  {
   "cell_type": "code",
   "execution_count": 105,
   "metadata": {},
   "outputs": [
    {
     "data": {
      "text/plain": [
       "(0, 6)"
      ]
     },
     "execution_count": 105,
     "metadata": {},
     "output_type": "execute_result"
    }
   ],
   "source": [
    "pivot_monto_servicio_positivos.shape"
   ]
  },
  {
   "cell_type": "markdown",
   "metadata": {},
   "source": [
    "#### ADJUSTMENTS NEGATIVOS"
   ]
  },
  {
   "cell_type": "code",
   "execution_count": 106,
   "metadata": {},
   "outputs": [],
   "source": [
    "adj_montos_negativos = adj_montos[(adj_montos['importe_adj_bruto'] < 0)]"
   ]
  },
  {
   "cell_type": "code",
   "execution_count": 107,
   "metadata": {},
   "outputs": [
    {
     "name": "stderr",
     "output_type": "stream",
     "text": [
      "C:\\Users\\Cristian.Aparicio\\AppData\\Local\\Temp\\ipykernel_1404\\3747470715.py:1: FutureWarning: The provided callable <built-in function sum> is currently using SeriesGroupBy.sum. In a future version of pandas, the provided callable will be used directly. To keep current behavior pass the string \"sum\" instead.\n",
      "  deposit_date_adj_negativos = adj_montos_negativos.groupby(['roc_deposit_date']).agg({'importe_adj_bruto':sum,\n",
      "C:\\Users\\Cristian.Aparicio\\AppData\\Local\\Temp\\ipykernel_1404\\3747470715.py:1: FutureWarning: The provided callable <built-in function sum> is currently using SeriesGroupBy.sum. In a future version of pandas, the provided callable will be used directly. To keep current behavior pass the string \"sum\" instead.\n",
      "  deposit_date_adj_negativos = adj_montos_negativos.groupby(['roc_deposit_date']).agg({'importe_adj_bruto':sum,\n",
      "C:\\Users\\Cristian.Aparicio\\AppData\\Local\\Temp\\ipykernel_1404\\3747470715.py:1: FutureWarning: The provided callable <built-in function sum> is currently using SeriesGroupBy.sum. In a future version of pandas, the provided callable will be used directly. To keep current behavior pass the string \"sum\" instead.\n",
      "  deposit_date_adj_negativos = adj_montos_negativos.groupby(['roc_deposit_date']).agg({'importe_adj_bruto':sum,\n",
      "C:\\Users\\Cristian.Aparicio\\AppData\\Local\\Temp\\ipykernel_1404\\3747470715.py:1: FutureWarning: The provided callable <built-in function sum> is currently using SeriesGroupBy.sum. In a future version of pandas, the provided callable will be used directly. To keep current behavior pass the string \"sum\" instead.\n",
      "  deposit_date_adj_negativos = adj_montos_negativos.groupby(['roc_deposit_date']).agg({'importe_adj_bruto':sum,\n",
      "C:\\Users\\Cristian.Aparicio\\AppData\\Local\\Temp\\ipykernel_1404\\3747470715.py:1: FutureWarning: The provided callable <built-in function sum> is currently using SeriesGroupBy.sum. In a future version of pandas, the provided callable will be used directly. To keep current behavior pass the string \"sum\" instead.\n",
      "  deposit_date_adj_negativos = adj_montos_negativos.groupby(['roc_deposit_date']).agg({'importe_adj_bruto':sum,\n"
     ]
    },
    {
     "data": {
      "text/html": [
       "<div>\n",
       "<style scoped>\n",
       "    .dataframe tbody tr th:only-of-type {\n",
       "        vertical-align: middle;\n",
       "    }\n",
       "\n",
       "    .dataframe tbody tr th {\n",
       "        vertical-align: top;\n",
       "    }\n",
       "\n",
       "    .dataframe thead th {\n",
       "        text-align: right;\n",
       "    }\n",
       "</style>\n",
       "<table border=\"1\" class=\"dataframe\">\n",
       "  <thead>\n",
       "    <tr style=\"text-align: right;\">\n",
       "      <th></th>\n",
       "      <th>roc_deposit_date</th>\n",
       "      <th>importe_adj_bruto</th>\n",
       "      <th>tasa_adj</th>\n",
       "      <th>importe_impuesto</th>\n",
       "      <th>tasa_servicio_plan_n</th>\n",
       "      <th>importe_adj_neto</th>\n",
       "    </tr>\n",
       "  </thead>\n",
       "  <tbody>\n",
       "  </tbody>\n",
       "</table>\n",
       "</div>"
      ],
      "text/plain": [
       "Empty DataFrame\n",
       "Columns: [roc_deposit_date, importe_adj_bruto, tasa_adj, importe_impuesto, tasa_servicio_plan_n, importe_adj_neto]\n",
       "Index: []"
      ]
     },
     "execution_count": 107,
     "metadata": {},
     "output_type": "execute_result"
    }
   ],
   "source": [
    "deposit_date_adj_negativos = adj_montos_negativos.groupby(['roc_deposit_date']).agg({'importe_adj_bruto':sum,\n",
    "                                                                                     'tasa_adj':sum,\n",
    "                                                                                     'importe_impuesto':sum,\n",
    "                                                                                     'tasa_servicio_plan_n':sum,\n",
    "                                                                                     'importe_adj_neto':sum}).reset_index()\n",
    "deposit_date_adj_negativos.head()"
   ]
  },
  {
   "cell_type": "code",
   "execution_count": 108,
   "metadata": {},
   "outputs": [
    {
     "data": {
      "text/plain": [
       "(0, 6)"
      ]
     },
     "execution_count": 108,
     "metadata": {},
     "output_type": "execute_result"
    }
   ],
   "source": [
    "deposit_date_adj_negativos.shape"
   ]
  },
  {
   "cell_type": "code",
   "execution_count": 109,
   "metadata": {},
   "outputs": [
    {
     "data": {
      "text/html": [
       "<div>\n",
       "<style scoped>\n",
       "    .dataframe tbody tr th:only-of-type {\n",
       "        vertical-align: middle;\n",
       "    }\n",
       "\n",
       "    .dataframe tbody tr th {\n",
       "        vertical-align: top;\n",
       "    }\n",
       "\n",
       "    .dataframe thead th {\n",
       "        text-align: right;\n",
       "    }\n",
       "</style>\n",
       "<table border=\"1\" class=\"dataframe\">\n",
       "  <thead>\n",
       "    <tr style=\"text-align: right;\">\n",
       "      <th></th>\n",
       "      <th>roc_deposit_date</th>\n",
       "      <th>clave_autorizacion</th>\n",
       "      <th>9</th>\n",
       "      <th>10</th>\n",
       "      <th>A</th>\n",
       "      <th>12</th>\n",
       "      <th>13</th>\n",
       "      <th>no_tarjeta</th>\n",
       "      <th>adj_id</th>\n",
       "      <th>motivo_adj</th>\n",
       "      <th>18</th>\n",
       "      <th>importe_adj_bruto</th>\n",
       "      <th>tasa_adj</th>\n",
       "      <th>importe_impuesto</th>\n",
       "      <th>tasa_servicio_plan_n</th>\n",
       "      <th>importe_adj_neto</th>\n",
       "      <th>bin_bank</th>\n",
       "      <th>last4_bank</th>\n",
       "    </tr>\n",
       "  </thead>\n",
       "  <tbody>\n",
       "  </tbody>\n",
       "</table>\n",
       "</div>"
      ],
      "text/plain": [
       "Empty DataFrame\n",
       "Columns: [roc_deposit_date, clave_autorizacion, 9, 10, A, 12, 13, no_tarjeta, adj_id, motivo_adj, 18, importe_adj_bruto, tasa_adj, importe_impuesto, tasa_servicio_plan_n, importe_adj_neto, bin_bank, last4_bank]\n",
       "Index: []"
      ]
     },
     "execution_count": 109,
     "metadata": {},
     "output_type": "execute_result"
    }
   ],
   "source": [
    "adj_monto_servicio_negativos = adj_monto_servicio[(adj_monto_servicio['importe_adj_neto'] < 0)]\n",
    "adj_monto_servicio_negativos.head()"
   ]
  },
  {
   "cell_type": "code",
   "execution_count": 110,
   "metadata": {},
   "outputs": [
    {
     "data": {
      "text/plain": [
       "(0, 18)"
      ]
     },
     "execution_count": 110,
     "metadata": {},
     "output_type": "execute_result"
    }
   ],
   "source": [
    "adj_monto_servicio_negativos.shape"
   ]
  },
  {
   "cell_type": "code",
   "execution_count": 111,
   "metadata": {},
   "outputs": [
    {
     "name": "stderr",
     "output_type": "stream",
     "text": [
      "C:\\Users\\Cristian.Aparicio\\AppData\\Local\\Temp\\ipykernel_1404\\1581277042.py:1: FutureWarning: The provided callable <built-in function sum> is currently using SeriesGroupBy.sum. In a future version of pandas, the provided callable will be used directly. To keep current behavior pass the string \"sum\" instead.\n",
      "  pivot_monto_servicio_negativos = adj_monto_servicio_negativos.groupby(['roc_deposit_date']).agg({'importe_adj_bruto':sum,\n",
      "C:\\Users\\Cristian.Aparicio\\AppData\\Local\\Temp\\ipykernel_1404\\1581277042.py:1: FutureWarning: The provided callable <built-in function sum> is currently using SeriesGroupBy.sum. In a future version of pandas, the provided callable will be used directly. To keep current behavior pass the string \"sum\" instead.\n",
      "  pivot_monto_servicio_negativos = adj_monto_servicio_negativos.groupby(['roc_deposit_date']).agg({'importe_adj_bruto':sum,\n",
      "C:\\Users\\Cristian.Aparicio\\AppData\\Local\\Temp\\ipykernel_1404\\1581277042.py:1: FutureWarning: The provided callable <built-in function sum> is currently using SeriesGroupBy.sum. In a future version of pandas, the provided callable will be used directly. To keep current behavior pass the string \"sum\" instead.\n",
      "  pivot_monto_servicio_negativos = adj_monto_servicio_negativos.groupby(['roc_deposit_date']).agg({'importe_adj_bruto':sum,\n",
      "C:\\Users\\Cristian.Aparicio\\AppData\\Local\\Temp\\ipykernel_1404\\1581277042.py:1: FutureWarning: The provided callable <built-in function sum> is currently using SeriesGroupBy.sum. In a future version of pandas, the provided callable will be used directly. To keep current behavior pass the string \"sum\" instead.\n",
      "  pivot_monto_servicio_negativos = adj_monto_servicio_negativos.groupby(['roc_deposit_date']).agg({'importe_adj_bruto':sum,\n",
      "C:\\Users\\Cristian.Aparicio\\AppData\\Local\\Temp\\ipykernel_1404\\1581277042.py:1: FutureWarning: The provided callable <built-in function sum> is currently using SeriesGroupBy.sum. In a future version of pandas, the provided callable will be used directly. To keep current behavior pass the string \"sum\" instead.\n",
      "  pivot_monto_servicio_negativos = adj_monto_servicio_negativos.groupby(['roc_deposit_date']).agg({'importe_adj_bruto':sum,\n"
     ]
    },
    {
     "data": {
      "text/html": [
       "<div>\n",
       "<style scoped>\n",
       "    .dataframe tbody tr th:only-of-type {\n",
       "        vertical-align: middle;\n",
       "    }\n",
       "\n",
       "    .dataframe tbody tr th {\n",
       "        vertical-align: top;\n",
       "    }\n",
       "\n",
       "    .dataframe thead th {\n",
       "        text-align: right;\n",
       "    }\n",
       "</style>\n",
       "<table border=\"1\" class=\"dataframe\">\n",
       "  <thead>\n",
       "    <tr style=\"text-align: right;\">\n",
       "      <th></th>\n",
       "      <th>roc_deposit_date</th>\n",
       "      <th>importe_adj_bruto</th>\n",
       "      <th>tasa_adj</th>\n",
       "      <th>importe_impuesto</th>\n",
       "      <th>tasa_servicio_plan_n</th>\n",
       "      <th>importe_adj_neto</th>\n",
       "    </tr>\n",
       "  </thead>\n",
       "  <tbody>\n",
       "  </tbody>\n",
       "</table>\n",
       "</div>"
      ],
      "text/plain": [
       "Empty DataFrame\n",
       "Columns: [roc_deposit_date, importe_adj_bruto, tasa_adj, importe_impuesto, tasa_servicio_plan_n, importe_adj_neto]\n",
       "Index: []"
      ]
     },
     "execution_count": 111,
     "metadata": {},
     "output_type": "execute_result"
    }
   ],
   "source": [
    "pivot_monto_servicio_negativos = adj_monto_servicio_negativos.groupby(['roc_deposit_date']).agg({'importe_adj_bruto':sum,\n",
    "                                                                                                 'tasa_adj':sum,\n",
    "                                                                                                 'importe_impuesto':sum,\n",
    "                                                                                                 'tasa_servicio_plan_n':sum,\n",
    "                                                                                                 'importe_adj_neto':sum}).reset_index()\n",
    "pivot_monto_servicio_negativos.head()"
   ]
  },
  {
   "cell_type": "code",
   "execution_count": 112,
   "metadata": {},
   "outputs": [
    {
     "data": {
      "text/plain": [
       "(0, 6)"
      ]
     },
     "execution_count": 112,
     "metadata": {},
     "output_type": "execute_result"
    }
   ],
   "source": [
    "pivot_monto_servicio_negativos.shape"
   ]
  },
  {
   "cell_type": "markdown",
   "metadata": {},
   "source": [
    "### TRANSACCIONES POSITIVAS"
   ]
  },
  {
   "cell_type": "code",
   "execution_count": 113,
   "metadata": {},
   "outputs": [],
   "source": [
    "deposit_success_txn = txn_epa_deposit[(txn_epa_deposit['total_amount_bruto'] >= 0)]"
   ]
  },
  {
   "cell_type": "code",
   "execution_count": 114,
   "metadata": {},
   "outputs": [
    {
     "name": "stderr",
     "output_type": "stream",
     "text": [
      "C:\\Users\\Cristian.Aparicio\\AppData\\Local\\Temp\\ipykernel_1404\\2701766675.py:1: FutureWarning: The provided callable <built-in function sum> is currently using SeriesGroupBy.sum. In a future version of pandas, the provided callable will be used directly. To keep current behavior pass the string \"sum\" instead.\n",
      "  deposit_success_cruce_1 = deposit_success_txn.groupby(['roc_deposit_date']).agg({'total_amount_bruto':sum,\n"
     ]
    },
    {
     "data": {
      "text/html": [
       "<div>\n",
       "<style scoped>\n",
       "    .dataframe tbody tr th:only-of-type {\n",
       "        vertical-align: middle;\n",
       "    }\n",
       "\n",
       "    .dataframe tbody tr th {\n",
       "        vertical-align: top;\n",
       "    }\n",
       "\n",
       "    .dataframe thead th {\n",
       "        text-align: right;\n",
       "    }\n",
       "</style>\n",
       "<table border=\"1\" class=\"dataframe\">\n",
       "  <thead>\n",
       "    <tr style=\"text-align: right;\">\n",
       "      <th></th>\n",
       "      <th>roc_deposit_date</th>\n",
       "      <th>total_amount_bruto</th>\n",
       "      <th>fee_amount_mdr</th>\n",
       "      <th>fee_amount_msi</th>\n",
       "      <th>iva_mdr</th>\n",
       "      <th>iva_msi</th>\n",
       "      <th>comision_mdr_db</th>\n",
       "      <th>iva_comision_mdr_db</th>\n",
       "      <th>comision_msi_db</th>\n",
       "      <th>iva_comision_msi_db</th>\n",
       "    </tr>\n",
       "  </thead>\n",
       "  <tbody>\n",
       "    <tr>\n",
       "      <th>0</th>\n",
       "      <td>2024-01-16</td>\n",
       "      <td>950.00</td>\n",
       "      <td>-22.80</td>\n",
       "      <td>0.00</td>\n",
       "      <td>-3.65</td>\n",
       "      <td>0.00</td>\n",
       "      <td>-22.80</td>\n",
       "      <td>-3.65</td>\n",
       "      <td>0.00</td>\n",
       "      <td>0.00</td>\n",
       "    </tr>\n",
       "  </tbody>\n",
       "</table>\n",
       "</div>"
      ],
      "text/plain": [
       "  roc_deposit_date  total_amount_bruto  fee_amount_mdr  fee_amount_msi  \\\n",
       "0       2024-01-16              950.00          -22.80            0.00   \n",
       "\n",
       "   iva_mdr  iva_msi  comision_mdr_db  iva_comision_mdr_db  comision_msi_db  \\\n",
       "0    -3.65     0.00           -22.80                -3.65             0.00   \n",
       "\n",
       "   iva_comision_msi_db  \n",
       "0                 0.00  "
      ]
     },
     "execution_count": 114,
     "metadata": {},
     "output_type": "execute_result"
    }
   ],
   "source": [
    "deposit_success_cruce_1 = deposit_success_txn.groupby(['roc_deposit_date']).agg({'total_amount_bruto':sum,\n",
    "                                                                                 'fee_amount_mdr':sum,\n",
    "                                                                                 'fee_amount_msi':sum,\n",
    "                                                                                 'iva_mdr':sum,\n",
    "                                                                                 'iva_msi':sum,'comision_mdr_db':sum,\n",
    "                                                                                 'iva_comision_mdr_db':sum,\n",
    "                                                                                 'comision_msi_db':sum,\n",
    "                                                                                 'iva_comision_msi_db':sum}).reset_index()\n",
    "deposit_success_cruce_1.head()"
   ]
  },
  {
   "cell_type": "code",
   "execution_count": 115,
   "metadata": {},
   "outputs": [
    {
     "data": {
      "text/plain": [
       "(1, 10)"
      ]
     },
     "execution_count": 115,
     "metadata": {},
     "output_type": "execute_result"
    }
   ],
   "source": [
    "deposit_success_cruce_1.shape"
   ]
  },
  {
   "cell_type": "code",
   "execution_count": 116,
   "metadata": {},
   "outputs": [
    {
     "data": {
      "text/html": [
       "<div>\n",
       "<style scoped>\n",
       "    .dataframe tbody tr th:only-of-type {\n",
       "        vertical-align: middle;\n",
       "    }\n",
       "\n",
       "    .dataframe tbody tr th {\n",
       "        vertical-align: top;\n",
       "    }\n",
       "\n",
       "    .dataframe thead th {\n",
       "        text-align: right;\n",
       "    }\n",
       "</style>\n",
       "<table border=\"1\" class=\"dataframe\">\n",
       "  <thead>\n",
       "    <tr style=\"text-align: right;\">\n",
       "      <th></th>\n",
       "      <th>roc_deposit_date</th>\n",
       "      <th>total_amount_bruto</th>\n",
       "      <th>fee_amount_mdr</th>\n",
       "      <th>fee_amount_msi</th>\n",
       "      <th>iva_mdr</th>\n",
       "      <th>iva_msi</th>\n",
       "      <th>comision_mdr_db</th>\n",
       "      <th>iva_comision_mdr_db</th>\n",
       "      <th>comision_msi_db</th>\n",
       "      <th>iva_comision_msi_db</th>\n",
       "      <th>importe_adj_bruto</th>\n",
       "      <th>tasa_adj</th>\n",
       "      <th>importe_impuesto</th>\n",
       "      <th>tasa_servicio_plan_n</th>\n",
       "      <th>importe_adj_neto</th>\n",
       "      <th>deposit_amount</th>\n",
       "    </tr>\n",
       "  </thead>\n",
       "  <tbody>\n",
       "    <tr>\n",
       "      <th>0</th>\n",
       "      <td>2024-01-16</td>\n",
       "      <td>950.00</td>\n",
       "      <td>-22.80</td>\n",
       "      <td>0.00</td>\n",
       "      <td>-3.65</td>\n",
       "      <td>0.00</td>\n",
       "      <td>-22.80</td>\n",
       "      <td>-3.65</td>\n",
       "      <td>0.00</td>\n",
       "      <td>0.00</td>\n",
       "      <td>0.00</td>\n",
       "      <td>0.00</td>\n",
       "      <td>0.00</td>\n",
       "      <td>0.00</td>\n",
       "      <td>0.00</td>\n",
       "      <td>923.55</td>\n",
       "    </tr>\n",
       "  </tbody>\n",
       "</table>\n",
       "</div>"
      ],
      "text/plain": [
       "  roc_deposit_date  total_amount_bruto  fee_amount_mdr  fee_amount_msi  \\\n",
       "0       2024-01-16              950.00          -22.80            0.00   \n",
       "\n",
       "   iva_mdr  iva_msi  comision_mdr_db  iva_comision_mdr_db  comision_msi_db  \\\n",
       "0    -3.65     0.00           -22.80                -3.65             0.00   \n",
       "\n",
       "   iva_comision_msi_db  importe_adj_bruto  tasa_adj  importe_impuesto  \\\n",
       "0                 0.00               0.00      0.00              0.00   \n",
       "\n",
       "   tasa_servicio_plan_n  importe_adj_neto  deposit_amount  \n",
       "0                  0.00              0.00          923.55  "
      ]
     },
     "execution_count": 116,
     "metadata": {},
     "output_type": "execute_result"
    }
   ],
   "source": [
    "deposit_success_cruce_2 = deposit_success_cruce_1.merge(deposit_date_adj_positivos[['roc_deposit_date','importe_adj_bruto',\n",
    "                                                                                    'tasa_adj','importe_impuesto',\n",
    "                                                                                    'tasa_servicio_plan_n','importe_adj_neto']]\n",
    "                                                  ,on='roc_deposit_date',how='left')\n",
    "deposit_success_cruce_2['importe_adj_bruto'].fillna(0,inplace=True)\n",
    "deposit_success_cruce_2['tasa_adj'].fillna(0,inplace=True)\n",
    "deposit_success_cruce_2['importe_impuesto'].fillna(0,inplace=True)\n",
    "deposit_success_cruce_2['tasa_servicio_plan_n'].fillna(0,inplace=True)\n",
    "deposit_success_cruce_2['importe_adj_neto'].fillna(0,inplace=True)\n",
    "deposit_success_cruce_2['deposit_amount'] = (deposit_success_cruce_2['total_amount_bruto']\n",
    "                                             + deposit_success_cruce_2['fee_amount_mdr']\n",
    "                                             + deposit_success_cruce_2['fee_amount_msi']\n",
    "                                             + deposit_success_cruce_2['iva_mdr']\n",
    "                                             + deposit_success_cruce_2['iva_msi']\n",
    "                                             + deposit_success_cruce_2['importe_adj_bruto']\n",
    "                                             + deposit_success_cruce_2['tasa_adj']\n",
    "                                             + deposit_success_cruce_2['importe_impuesto']\n",
    "                                             + deposit_success_cruce_2['tasa_servicio_plan_n'])\n",
    "    \n",
    "deposit_success_cruce_2.head()"
   ]
  },
  {
   "cell_type": "code",
   "execution_count": 117,
   "metadata": {},
   "outputs": [
    {
     "data": {
      "text/plain": [
       "(1, 16)"
      ]
     },
     "execution_count": 117,
     "metadata": {},
     "output_type": "execute_result"
    }
   ],
   "source": [
    "deposit_success_cruce_2.shape"
   ]
  },
  {
   "cell_type": "code",
   "execution_count": 118,
   "metadata": {},
   "outputs": [
    {
     "data": {
      "text/html": [
       "<div>\n",
       "<style scoped>\n",
       "    .dataframe tbody tr th:only-of-type {\n",
       "        vertical-align: middle;\n",
       "    }\n",
       "\n",
       "    .dataframe tbody tr th {\n",
       "        vertical-align: top;\n",
       "    }\n",
       "\n",
       "    .dataframe thead th {\n",
       "        text-align: right;\n",
       "    }\n",
       "</style>\n",
       "<table border=\"1\" class=\"dataframe\">\n",
       "  <thead>\n",
       "    <tr style=\"text-align: right;\">\n",
       "      <th></th>\n",
       "      <th>roc_deposit_date</th>\n",
       "      <th>total_amount_bruto</th>\n",
       "      <th>fee_amount_mdr</th>\n",
       "      <th>fee_amount_msi</th>\n",
       "      <th>iva_mdr</th>\n",
       "      <th>iva_msi</th>\n",
       "      <th>comision_mdr_db</th>\n",
       "      <th>iva_comision_mdr_db</th>\n",
       "      <th>comision_msi_db</th>\n",
       "      <th>iva_comision_msi_db</th>\n",
       "      <th>importe_adj_bruto</th>\n",
       "      <th>tasa_adj</th>\n",
       "      <th>importe_impuesto</th>\n",
       "      <th>tasa_servicio_plan_n</th>\n",
       "      <th>deposit_amount</th>\n",
       "    </tr>\n",
       "  </thead>\n",
       "  <tbody>\n",
       "    <tr>\n",
       "      <th>0</th>\n",
       "      <td>2024-01-16</td>\n",
       "      <td>950.00</td>\n",
       "      <td>-22.80</td>\n",
       "      <td>0.00</td>\n",
       "      <td>-3.65</td>\n",
       "      <td>0.00</td>\n",
       "      <td>-22.80</td>\n",
       "      <td>-3.65</td>\n",
       "      <td>0.00</td>\n",
       "      <td>0.00</td>\n",
       "      <td>0.00</td>\n",
       "      <td>0.00</td>\n",
       "      <td>0.00</td>\n",
       "      <td>0.00</td>\n",
       "      <td>923.55</td>\n",
       "    </tr>\n",
       "  </tbody>\n",
       "</table>\n",
       "</div>"
      ],
      "text/plain": [
       "  roc_deposit_date  total_amount_bruto  fee_amount_mdr  fee_amount_msi  \\\n",
       "0       2024-01-16              950.00          -22.80            0.00   \n",
       "\n",
       "   iva_mdr  iva_msi  comision_mdr_db  iva_comision_mdr_db  comision_msi_db  \\\n",
       "0    -3.65     0.00           -22.80                -3.65             0.00   \n",
       "\n",
       "   iva_comision_msi_db  importe_adj_bruto  tasa_adj  importe_impuesto  \\\n",
       "0                 0.00               0.00      0.00              0.00   \n",
       "\n",
       "   tasa_servicio_plan_n  deposit_amount  \n",
       "0                  0.00          923.55  "
      ]
     },
     "execution_count": 118,
     "metadata": {},
     "output_type": "execute_result"
    }
   ],
   "source": [
    "deposit_success_cruce_final = deposit_success_cruce_2[['roc_deposit_date','total_amount_bruto','fee_amount_mdr',\n",
    "                                                       'fee_amount_msi','iva_mdr','iva_msi','comision_mdr_db',\n",
    "                                                       'iva_comision_mdr_db','comision_msi_db','iva_comision_msi_db',\n",
    "                                                       'importe_adj_bruto','tasa_adj','importe_impuesto','tasa_servicio_plan_n',\n",
    "                                                       'deposit_amount']]\n",
    "deposit_success_cruce_final.head()"
   ]
  },
  {
   "cell_type": "code",
   "execution_count": 119,
   "metadata": {},
   "outputs": [
    {
     "data": {
      "text/plain": [
       "(1, 15)"
      ]
     },
     "execution_count": 119,
     "metadata": {},
     "output_type": "execute_result"
    }
   ],
   "source": [
    "deposit_success_cruce_final.shape"
   ]
  },
  {
   "cell_type": "code",
   "execution_count": 120,
   "metadata": {},
   "outputs": [],
   "source": [
    "deposit_success_cruce_final.to_excel('DEPOSITOS POSITIVOS.xlsx')"
   ]
  },
  {
   "cell_type": "markdown",
   "metadata": {},
   "source": [
    "### CANCELACIONES"
   ]
  },
  {
   "cell_type": "code",
   "execution_count": 121,
   "metadata": {},
   "outputs": [],
   "source": [
    "deposit_refunded_txn = txn_epa_deposit[(txn_epa_deposit['total_amount_bruto'] < 0)]"
   ]
  },
  {
   "cell_type": "code",
   "execution_count": 122,
   "metadata": {},
   "outputs": [
    {
     "name": "stderr",
     "output_type": "stream",
     "text": [
      "C:\\Users\\Cristian.Aparicio\\AppData\\Local\\Temp\\ipykernel_1404\\3762504625.py:1: FutureWarning: The provided callable <built-in function sum> is currently using SeriesGroupBy.sum. In a future version of pandas, the provided callable will be used directly. To keep current behavior pass the string \"sum\" instead.\n",
      "  deposit_refunded_cruce_1 = deposit_refunded_txn.groupby(['roc_deposit_date']).agg({'total_amount_bruto':sum,\n",
      "C:\\Users\\Cristian.Aparicio\\AppData\\Local\\Temp\\ipykernel_1404\\3762504625.py:1: FutureWarning: The provided callable <built-in function sum> is currently using SeriesGroupBy.sum. In a future version of pandas, the provided callable will be used directly. To keep current behavior pass the string \"sum\" instead.\n",
      "  deposit_refunded_cruce_1 = deposit_refunded_txn.groupby(['roc_deposit_date']).agg({'total_amount_bruto':sum,\n",
      "C:\\Users\\Cristian.Aparicio\\AppData\\Local\\Temp\\ipykernel_1404\\3762504625.py:1: FutureWarning: The provided callable <built-in function sum> is currently using SeriesGroupBy.sum. In a future version of pandas, the provided callable will be used directly. To keep current behavior pass the string \"sum\" instead.\n",
      "  deposit_refunded_cruce_1 = deposit_refunded_txn.groupby(['roc_deposit_date']).agg({'total_amount_bruto':sum,\n",
      "C:\\Users\\Cristian.Aparicio\\AppData\\Local\\Temp\\ipykernel_1404\\3762504625.py:1: FutureWarning: The provided callable <built-in function sum> is currently using SeriesGroupBy.sum. In a future version of pandas, the provided callable will be used directly. To keep current behavior pass the string \"sum\" instead.\n",
      "  deposit_refunded_cruce_1 = deposit_refunded_txn.groupby(['roc_deposit_date']).agg({'total_amount_bruto':sum,\n",
      "C:\\Users\\Cristian.Aparicio\\AppData\\Local\\Temp\\ipykernel_1404\\3762504625.py:1: FutureWarning: The provided callable <built-in function sum> is currently using SeriesGroupBy.sum. In a future version of pandas, the provided callable will be used directly. To keep current behavior pass the string \"sum\" instead.\n",
      "  deposit_refunded_cruce_1 = deposit_refunded_txn.groupby(['roc_deposit_date']).agg({'total_amount_bruto':sum,\n",
      "C:\\Users\\Cristian.Aparicio\\AppData\\Local\\Temp\\ipykernel_1404\\3762504625.py:1: FutureWarning: The provided callable <built-in function sum> is currently using SeriesGroupBy.sum. In a future version of pandas, the provided callable will be used directly. To keep current behavior pass the string \"sum\" instead.\n",
      "  deposit_refunded_cruce_1 = deposit_refunded_txn.groupby(['roc_deposit_date']).agg({'total_amount_bruto':sum,\n",
      "C:\\Users\\Cristian.Aparicio\\AppData\\Local\\Temp\\ipykernel_1404\\3762504625.py:1: FutureWarning: The provided callable <built-in function sum> is currently using SeriesGroupBy.sum. In a future version of pandas, the provided callable will be used directly. To keep current behavior pass the string \"sum\" instead.\n",
      "  deposit_refunded_cruce_1 = deposit_refunded_txn.groupby(['roc_deposit_date']).agg({'total_amount_bruto':sum,\n",
      "C:\\Users\\Cristian.Aparicio\\AppData\\Local\\Temp\\ipykernel_1404\\3762504625.py:1: FutureWarning: The provided callable <built-in function sum> is currently using SeriesGroupBy.sum. In a future version of pandas, the provided callable will be used directly. To keep current behavior pass the string \"sum\" instead.\n",
      "  deposit_refunded_cruce_1 = deposit_refunded_txn.groupby(['roc_deposit_date']).agg({'total_amount_bruto':sum,\n",
      "C:\\Users\\Cristian.Aparicio\\AppData\\Local\\Temp\\ipykernel_1404\\3762504625.py:1: FutureWarning: The provided callable <built-in function sum> is currently using SeriesGroupBy.sum. In a future version of pandas, the provided callable will be used directly. To keep current behavior pass the string \"sum\" instead.\n",
      "  deposit_refunded_cruce_1 = deposit_refunded_txn.groupby(['roc_deposit_date']).agg({'total_amount_bruto':sum,\n"
     ]
    },
    {
     "data": {
      "text/html": [
       "<div>\n",
       "<style scoped>\n",
       "    .dataframe tbody tr th:only-of-type {\n",
       "        vertical-align: middle;\n",
       "    }\n",
       "\n",
       "    .dataframe tbody tr th {\n",
       "        vertical-align: top;\n",
       "    }\n",
       "\n",
       "    .dataframe thead th {\n",
       "        text-align: right;\n",
       "    }\n",
       "</style>\n",
       "<table border=\"1\" class=\"dataframe\">\n",
       "  <thead>\n",
       "    <tr style=\"text-align: right;\">\n",
       "      <th></th>\n",
       "      <th>roc_deposit_date</th>\n",
       "      <th>total_amount_bruto</th>\n",
       "      <th>fee_amount_mdr</th>\n",
       "      <th>fee_amount_msi</th>\n",
       "      <th>iva_mdr</th>\n",
       "      <th>iva_msi</th>\n",
       "      <th>comision_mdr_db</th>\n",
       "      <th>iva_comision_mdr_db</th>\n",
       "      <th>comision_msi_db</th>\n",
       "      <th>iva_comision_msi_db</th>\n",
       "    </tr>\n",
       "  </thead>\n",
       "  <tbody>\n",
       "  </tbody>\n",
       "</table>\n",
       "</div>"
      ],
      "text/plain": [
       "Empty DataFrame\n",
       "Columns: [roc_deposit_date, total_amount_bruto, fee_amount_mdr, fee_amount_msi, iva_mdr, iva_msi, comision_mdr_db, iva_comision_mdr_db, comision_msi_db, iva_comision_msi_db]\n",
       "Index: []"
      ]
     },
     "execution_count": 122,
     "metadata": {},
     "output_type": "execute_result"
    }
   ],
   "source": [
    "deposit_refunded_cruce_1 = deposit_refunded_txn.groupby(['roc_deposit_date']).agg({'total_amount_bruto':sum,\n",
    "                                                                                   'fee_amount_mdr':sum,\n",
    "                                                                                   'fee_amount_msi':sum,\n",
    "                                                                                   'iva_mdr':sum,\n",
    "                                                                                   'iva_msi':sum,'comision_mdr_db':sum,\n",
    "                                                                                   'iva_comision_mdr_db':sum,\n",
    "                                                                                   'comision_msi_db':sum,\n",
    "                                                                                   'iva_comision_msi_db':sum}).reset_index()\n",
    "deposit_refunded_cruce_1.head()"
   ]
  },
  {
   "cell_type": "code",
   "execution_count": 123,
   "metadata": {},
   "outputs": [
    {
     "data": {
      "text/plain": [
       "(0, 10)"
      ]
     },
     "execution_count": 123,
     "metadata": {},
     "output_type": "execute_result"
    }
   ],
   "source": [
    "deposit_refunded_cruce_1.shape"
   ]
  },
  {
   "cell_type": "code",
   "execution_count": 124,
   "metadata": {},
   "outputs": [
    {
     "data": {
      "text/html": [
       "<div>\n",
       "<style scoped>\n",
       "    .dataframe tbody tr th:only-of-type {\n",
       "        vertical-align: middle;\n",
       "    }\n",
       "\n",
       "    .dataframe tbody tr th {\n",
       "        vertical-align: top;\n",
       "    }\n",
       "\n",
       "    .dataframe thead th {\n",
       "        text-align: right;\n",
       "    }\n",
       "</style>\n",
       "<table border=\"1\" class=\"dataframe\">\n",
       "  <thead>\n",
       "    <tr style=\"text-align: right;\">\n",
       "      <th></th>\n",
       "      <th>total_amount_bruto</th>\n",
       "      <th>fee_amount_mdr</th>\n",
       "      <th>fee_amount_msi</th>\n",
       "      <th>iva_mdr</th>\n",
       "      <th>iva_msi</th>\n",
       "      <th>comision_mdr_db</th>\n",
       "      <th>iva_comision_mdr_db</th>\n",
       "      <th>comision_msi_db</th>\n",
       "      <th>iva_comision_msi_db</th>\n",
       "      <th>roc_deposit_date</th>\n",
       "      <th>importe_adj_bruto</th>\n",
       "      <th>tasa_adj</th>\n",
       "      <th>importe_impuesto</th>\n",
       "      <th>tasa_servicio_plan_n</th>\n",
       "      <th>importe_adj_neto</th>\n",
       "      <th>deposit_amount</th>\n",
       "    </tr>\n",
       "  </thead>\n",
       "  <tbody>\n",
       "  </tbody>\n",
       "</table>\n",
       "</div>"
      ],
      "text/plain": [
       "Empty DataFrame\n",
       "Columns: [total_amount_bruto, fee_amount_mdr, fee_amount_msi, iva_mdr, iva_msi, comision_mdr_db, iva_comision_mdr_db, comision_msi_db, iva_comision_msi_db, roc_deposit_date, importe_adj_bruto, tasa_adj, importe_impuesto, tasa_servicio_plan_n, importe_adj_neto, deposit_amount]\n",
       "Index: []"
      ]
     },
     "execution_count": 124,
     "metadata": {},
     "output_type": "execute_result"
    }
   ],
   "source": [
    "deposit_refunded_cruce_2 = deposit_refunded_cruce_1.merge(deposit_date_adj_negativos[['roc_deposit_date','importe_adj_bruto',\n",
    "                                                                                      'tasa_adj','importe_impuesto',\n",
    "                                                                                      'tasa_servicio_plan_n',\n",
    "                                                                                      'importe_adj_neto']],\n",
    "                                                          on='roc_deposit_date',how='right')\n",
    "deposit_refunded_cruce_2.sort_values(by=['roc_deposit_date'],inplace=True)\n",
    "deposit_refunded_cruce_2['total_amount_bruto'].fillna(0,inplace=True)\n",
    "deposit_refunded_cruce_2['fee_amount_mdr'].fillna(0,inplace=True)\n",
    "deposit_refunded_cruce_2['fee_amount_msi'].fillna(0,inplace=True)\n",
    "deposit_refunded_cruce_2['iva_mdr'].fillna(0,inplace=True)\n",
    "deposit_refunded_cruce_2['iva_msi'].fillna(0,inplace=True)\n",
    "deposit_refunded_cruce_2['importe_adj_bruto'].fillna(0,inplace=True)\n",
    "deposit_refunded_cruce_2['tasa_adj'].fillna(0,inplace=True)\n",
    "deposit_refunded_cruce_2['importe_impuesto'].fillna(0,inplace=True)\n",
    "deposit_refunded_cruce_2['tasa_servicio_plan_n'].fillna(0,inplace=True)\n",
    "deposit_refunded_cruce_2['importe_adj_neto'].fillna(0,inplace=True)\n",
    "deposit_refunded_cruce_2['comision_mdr_db'].fillna(0,inplace=True)\n",
    "deposit_refunded_cruce_2['iva_comision_mdr_db'].fillna(0,inplace=True)\n",
    "deposit_refunded_cruce_2['comision_msi_db'].fillna(0,inplace=True)\n",
    "deposit_refunded_cruce_2['iva_comision_mdr_db'].fillna(0,inplace=True)\n",
    "deposit_refunded_cruce_2['deposit_amount'] = (deposit_refunded_cruce_2['total_amount_bruto']\n",
    "                                             + deposit_refunded_cruce_2['fee_amount_mdr']\n",
    "                                             + deposit_refunded_cruce_2['fee_amount_msi']\n",
    "                                             + deposit_refunded_cruce_2['iva_mdr']\n",
    "                                             + deposit_refunded_cruce_2['iva_msi']\n",
    "                                             + deposit_refunded_cruce_2['importe_adj_bruto']\n",
    "                                             + deposit_refunded_cruce_2['tasa_adj']\n",
    "                                             + deposit_refunded_cruce_2['importe_impuesto']\n",
    "                                             + deposit_refunded_cruce_2['tasa_servicio_plan_n'])\n",
    "    \n",
    "deposit_refunded_cruce_2.head()"
   ]
  },
  {
   "cell_type": "code",
   "execution_count": 125,
   "metadata": {},
   "outputs": [
    {
     "data": {
      "text/plain": [
       "(0, 16)"
      ]
     },
     "execution_count": 125,
     "metadata": {},
     "output_type": "execute_result"
    }
   ],
   "source": [
    "deposit_refunded_cruce_2.shape"
   ]
  },
  {
   "cell_type": "code",
   "execution_count": 126,
   "metadata": {},
   "outputs": [
    {
     "data": {
      "text/html": [
       "<div>\n",
       "<style scoped>\n",
       "    .dataframe tbody tr th:only-of-type {\n",
       "        vertical-align: middle;\n",
       "    }\n",
       "\n",
       "    .dataframe tbody tr th {\n",
       "        vertical-align: top;\n",
       "    }\n",
       "\n",
       "    .dataframe thead th {\n",
       "        text-align: right;\n",
       "    }\n",
       "</style>\n",
       "<table border=\"1\" class=\"dataframe\">\n",
       "  <thead>\n",
       "    <tr style=\"text-align: right;\">\n",
       "      <th></th>\n",
       "      <th>roc_deposit_date</th>\n",
       "      <th>total_amount_bruto</th>\n",
       "      <th>fee_amount_mdr</th>\n",
       "      <th>fee_amount_msi</th>\n",
       "      <th>iva_mdr</th>\n",
       "      <th>iva_msi</th>\n",
       "      <th>comision_mdr_db</th>\n",
       "      <th>iva_comision_mdr_db</th>\n",
       "      <th>comision_msi_db</th>\n",
       "      <th>iva_comision_msi_db</th>\n",
       "      <th>importe_adj_bruto</th>\n",
       "      <th>tasa_adj</th>\n",
       "      <th>importe_impuesto</th>\n",
       "      <th>tasa_servicio_plan_n</th>\n",
       "      <th>deposit_amount</th>\n",
       "    </tr>\n",
       "  </thead>\n",
       "  <tbody>\n",
       "  </tbody>\n",
       "</table>\n",
       "</div>"
      ],
      "text/plain": [
       "Empty DataFrame\n",
       "Columns: [roc_deposit_date, total_amount_bruto, fee_amount_mdr, fee_amount_msi, iva_mdr, iva_msi, comision_mdr_db, iva_comision_mdr_db, comision_msi_db, iva_comision_msi_db, importe_adj_bruto, tasa_adj, importe_impuesto, tasa_servicio_plan_n, deposit_amount]\n",
       "Index: []"
      ]
     },
     "execution_count": 126,
     "metadata": {},
     "output_type": "execute_result"
    }
   ],
   "source": [
    "deposit_refunded_cruce_final = deposit_refunded_cruce_2[['roc_deposit_date','total_amount_bruto','fee_amount_mdr',\n",
    "                                                         'fee_amount_msi','iva_mdr','iva_msi','comision_mdr_db',\n",
    "                                                         'iva_comision_mdr_db','comision_msi_db','iva_comision_msi_db',\n",
    "                                                         'importe_adj_bruto','tasa_adj','importe_impuesto',\n",
    "                                                         'tasa_servicio_plan_n','deposit_amount']]\n",
    "deposit_refunded_cruce_final.head()"
   ]
  },
  {
   "cell_type": "code",
   "execution_count": 127,
   "metadata": {},
   "outputs": [
    {
     "data": {
      "text/plain": [
       "(0, 15)"
      ]
     },
     "execution_count": 127,
     "metadata": {},
     "output_type": "execute_result"
    }
   ],
   "source": [
    "deposit_refunded_cruce_final.shape"
   ]
  },
  {
   "cell_type": "code",
   "execution_count": 128,
   "metadata": {},
   "outputs": [],
   "source": [
    "deposit_refunded_cruce_final.to_excel('DEPOSITOS NEGATIVOS.xlsx')"
   ]
  },
  {
   "cell_type": "markdown",
   "metadata": {},
   "source": [
    "### DEPOSITOS FINALES"
   ]
  },
  {
   "cell_type": "code",
   "execution_count": 129,
   "metadata": {},
   "outputs": [
    {
     "name": "stderr",
     "output_type": "stream",
     "text": [
      "C:\\Users\\Cristian.Aparicio\\AppData\\Local\\Temp\\ipykernel_1404\\3481331134.py:1: FutureWarning: The provided callable <built-in function sum> is currently using SeriesGroupBy.sum. In a future version of pandas, the provided callable will be used directly. To keep current behavior pass the string \"sum\" instead.\n",
      "  deposit_date_cruce_1 = txn_epa_deposit.groupby(['roc_deposit_date']).agg({'total_amount_bruto':sum,\n"
     ]
    },
    {
     "data": {
      "text/html": [
       "<div>\n",
       "<style scoped>\n",
       "    .dataframe tbody tr th:only-of-type {\n",
       "        vertical-align: middle;\n",
       "    }\n",
       "\n",
       "    .dataframe tbody tr th {\n",
       "        vertical-align: top;\n",
       "    }\n",
       "\n",
       "    .dataframe thead th {\n",
       "        text-align: right;\n",
       "    }\n",
       "</style>\n",
       "<table border=\"1\" class=\"dataframe\">\n",
       "  <thead>\n",
       "    <tr style=\"text-align: right;\">\n",
       "      <th></th>\n",
       "      <th>roc_deposit_date</th>\n",
       "      <th>total_amount_bruto</th>\n",
       "      <th>fee_amount_mdr</th>\n",
       "      <th>fee_amount_msi</th>\n",
       "      <th>iva_mdr</th>\n",
       "      <th>iva_msi</th>\n",
       "      <th>comision_mdr_db</th>\n",
       "      <th>iva_comision_mdr_db</th>\n",
       "      <th>comision_msi_db</th>\n",
       "      <th>iva_comision_msi_db</th>\n",
       "    </tr>\n",
       "  </thead>\n",
       "  <tbody>\n",
       "    <tr>\n",
       "      <th>0</th>\n",
       "      <td>2024-01-16</td>\n",
       "      <td>950.00</td>\n",
       "      <td>-22.80</td>\n",
       "      <td>0.00</td>\n",
       "      <td>-3.65</td>\n",
       "      <td>0.00</td>\n",
       "      <td>-22.80</td>\n",
       "      <td>-3.65</td>\n",
       "      <td>0.00</td>\n",
       "      <td>0.00</td>\n",
       "    </tr>\n",
       "  </tbody>\n",
       "</table>\n",
       "</div>"
      ],
      "text/plain": [
       "  roc_deposit_date  total_amount_bruto  fee_amount_mdr  fee_amount_msi  \\\n",
       "0       2024-01-16              950.00          -22.80            0.00   \n",
       "\n",
       "   iva_mdr  iva_msi  comision_mdr_db  iva_comision_mdr_db  comision_msi_db  \\\n",
       "0    -3.65     0.00           -22.80                -3.65             0.00   \n",
       "\n",
       "   iva_comision_msi_db  \n",
       "0                 0.00  "
      ]
     },
     "execution_count": 129,
     "metadata": {},
     "output_type": "execute_result"
    }
   ],
   "source": [
    "deposit_date_cruce_1 = txn_epa_deposit.groupby(['roc_deposit_date']).agg({'total_amount_bruto':sum,\n",
    "                                                                          'fee_amount_mdr':sum,\n",
    "                                                                          'fee_amount_msi':sum,\n",
    "                                                                          'iva_mdr':sum,\n",
    "                                                                          'iva_msi':sum,\n",
    "                                                                          'comision_mdr_db':sum,\n",
    "                                                                          'iva_comision_mdr_db':sum,\n",
    "                                                                          'comision_msi_db':sum,\n",
    "                                                                          'iva_comision_msi_db':sum}).reset_index()\n",
    "deposit_date_cruce_1.head()"
   ]
  },
  {
   "cell_type": "code",
   "execution_count": 130,
   "metadata": {},
   "outputs": [
    {
     "data": {
      "text/plain": [
       "(1, 10)"
      ]
     },
     "execution_count": 130,
     "metadata": {},
     "output_type": "execute_result"
    }
   ],
   "source": [
    "deposit_date_cruce_1.shape"
   ]
  },
  {
   "cell_type": "code",
   "execution_count": 131,
   "metadata": {},
   "outputs": [
    {
     "data": {
      "text/html": [
       "<div>\n",
       "<style scoped>\n",
       "    .dataframe tbody tr th:only-of-type {\n",
       "        vertical-align: middle;\n",
       "    }\n",
       "\n",
       "    .dataframe tbody tr th {\n",
       "        vertical-align: top;\n",
       "    }\n",
       "\n",
       "    .dataframe thead th {\n",
       "        text-align: right;\n",
       "    }\n",
       "</style>\n",
       "<table border=\"1\" class=\"dataframe\">\n",
       "  <thead>\n",
       "    <tr style=\"text-align: right;\">\n",
       "      <th></th>\n",
       "      <th>roc_deposit_date</th>\n",
       "      <th>total_amount_bruto</th>\n",
       "      <th>fee_amount_mdr</th>\n",
       "      <th>fee_amount_msi</th>\n",
       "      <th>iva_mdr</th>\n",
       "      <th>iva_msi</th>\n",
       "      <th>comision_mdr_db</th>\n",
       "      <th>iva_comision_mdr_db</th>\n",
       "      <th>comision_msi_db</th>\n",
       "      <th>iva_comision_msi_db</th>\n",
       "      <th>importe_adj_bruto</th>\n",
       "      <th>tasa_adj</th>\n",
       "      <th>importe_impuesto</th>\n",
       "      <th>tasa_servicio_plan_n</th>\n",
       "      <th>importe_adj_neto</th>\n",
       "      <th>deposit_amount</th>\n",
       "    </tr>\n",
       "  </thead>\n",
       "  <tbody>\n",
       "    <tr>\n",
       "      <th>0</th>\n",
       "      <td>2024-01-16</td>\n",
       "      <td>950.00</td>\n",
       "      <td>-22.80</td>\n",
       "      <td>0.00</td>\n",
       "      <td>-3.65</td>\n",
       "      <td>0.00</td>\n",
       "      <td>-22.80</td>\n",
       "      <td>-3.65</td>\n",
       "      <td>0.00</td>\n",
       "      <td>0.00</td>\n",
       "      <td>0.00</td>\n",
       "      <td>0.00</td>\n",
       "      <td>0.00</td>\n",
       "      <td>0.00</td>\n",
       "      <td>0.00</td>\n",
       "      <td>923.55</td>\n",
       "    </tr>\n",
       "  </tbody>\n",
       "</table>\n",
       "</div>"
      ],
      "text/plain": [
       "  roc_deposit_date  total_amount_bruto  fee_amount_mdr  fee_amount_msi  \\\n",
       "0       2024-01-16              950.00          -22.80            0.00   \n",
       "\n",
       "   iva_mdr  iva_msi  comision_mdr_db  iva_comision_mdr_db  comision_msi_db  \\\n",
       "0    -3.65     0.00           -22.80                -3.65             0.00   \n",
       "\n",
       "   iva_comision_msi_db  importe_adj_bruto  tasa_adj  importe_impuesto  \\\n",
       "0                 0.00               0.00      0.00              0.00   \n",
       "\n",
       "   tasa_servicio_plan_n  importe_adj_neto  deposit_amount  \n",
       "0                  0.00              0.00          923.55  "
      ]
     },
     "execution_count": 131,
     "metadata": {},
     "output_type": "execute_result"
    }
   ],
   "source": [
    "deposit_date_cruce_2 = deposit_date_cruce_1.merge(deposit_date_adj[['roc_deposit_date','importe_adj_bruto','tasa_adj',\n",
    "                                                                    'importe_impuesto','tasa_servicio_plan_n',\n",
    "                                                                    'importe_adj_neto']],\n",
    "                                                  on='roc_deposit_date',how='left')\n",
    "deposit_date_cruce_2['importe_adj_bruto'].fillna(0,inplace=True)\n",
    "deposit_date_cruce_2['tasa_adj'].fillna(0,inplace=True)\n",
    "deposit_date_cruce_2['importe_impuesto'].fillna(0,inplace=True)\n",
    "deposit_date_cruce_2['tasa_servicio_plan_n'].fillna(0,inplace=True)\n",
    "deposit_date_cruce_2['importe_adj_neto'].fillna(0,inplace=True)\n",
    "deposit_date_cruce_2['deposit_amount'] = (deposit_date_cruce_2['total_amount_bruto'] + deposit_date_cruce_2['fee_amount_mdr']\n",
    "                                          + deposit_date_cruce_2['fee_amount_msi'] + deposit_date_cruce_2['iva_mdr']\n",
    "                                          + deposit_date_cruce_2['iva_msi'] + deposit_date_cruce_2['importe_adj_bruto']\n",
    "                                          + deposit_date_cruce_2['tasa_adj'] + deposit_date_cruce_2['importe_impuesto']\n",
    "                                          + deposit_date_cruce_2['tasa_servicio_plan_n'])\n",
    "    \n",
    "deposit_date_cruce_2.head()"
   ]
  },
  {
   "cell_type": "code",
   "execution_count": 132,
   "metadata": {},
   "outputs": [
    {
     "data": {
      "text/html": [
       "<div>\n",
       "<style scoped>\n",
       "    .dataframe tbody tr th:only-of-type {\n",
       "        vertical-align: middle;\n",
       "    }\n",
       "\n",
       "    .dataframe tbody tr th {\n",
       "        vertical-align: top;\n",
       "    }\n",
       "\n",
       "    .dataframe thead th {\n",
       "        text-align: right;\n",
       "    }\n",
       "</style>\n",
       "<table border=\"1\" class=\"dataframe\">\n",
       "  <thead>\n",
       "    <tr style=\"text-align: right;\">\n",
       "      <th></th>\n",
       "      <th>roc_deposit_date</th>\n",
       "      <th>total_amount_bruto</th>\n",
       "      <th>fee_amount_mdr</th>\n",
       "      <th>fee_amount_msi</th>\n",
       "      <th>iva_mdr</th>\n",
       "      <th>iva_msi</th>\n",
       "      <th>comision_mdr_db</th>\n",
       "      <th>iva_comision_mdr_db</th>\n",
       "      <th>comision_msi_db</th>\n",
       "      <th>iva_comision_msi_db</th>\n",
       "      <th>importe_adj_bruto</th>\n",
       "      <th>tasa_adj</th>\n",
       "      <th>importe_impuesto</th>\n",
       "      <th>tasa_servicio_plan_n</th>\n",
       "      <th>deposit_amount</th>\n",
       "    </tr>\n",
       "  </thead>\n",
       "  <tbody>\n",
       "    <tr>\n",
       "      <th>0</th>\n",
       "      <td>2024-01-16</td>\n",
       "      <td>950.00</td>\n",
       "      <td>-22.80</td>\n",
       "      <td>0.00</td>\n",
       "      <td>-3.65</td>\n",
       "      <td>0.00</td>\n",
       "      <td>-22.80</td>\n",
       "      <td>-3.65</td>\n",
       "      <td>0.00</td>\n",
       "      <td>0.00</td>\n",
       "      <td>0.00</td>\n",
       "      <td>0.00</td>\n",
       "      <td>0.00</td>\n",
       "      <td>0.00</td>\n",
       "      <td>923.55</td>\n",
       "    </tr>\n",
       "  </tbody>\n",
       "</table>\n",
       "</div>"
      ],
      "text/plain": [
       "  roc_deposit_date  total_amount_bruto  fee_amount_mdr  fee_amount_msi  \\\n",
       "0       2024-01-16              950.00          -22.80            0.00   \n",
       "\n",
       "   iva_mdr  iva_msi  comision_mdr_db  iva_comision_mdr_db  comision_msi_db  \\\n",
       "0    -3.65     0.00           -22.80                -3.65             0.00   \n",
       "\n",
       "   iva_comision_msi_db  importe_adj_bruto  tasa_adj  importe_impuesto  \\\n",
       "0                 0.00               0.00      0.00              0.00   \n",
       "\n",
       "   tasa_servicio_plan_n  deposit_amount  \n",
       "0                  0.00          923.55  "
      ]
     },
     "execution_count": 132,
     "metadata": {},
     "output_type": "execute_result"
    }
   ],
   "source": [
    "deposit_date_cruce_final = deposit_date_cruce_2[['roc_deposit_date','total_amount_bruto','fee_amount_mdr','fee_amount_msi',\n",
    "                                                 'iva_mdr','iva_msi','comision_mdr_db','iva_comision_mdr_db','comision_msi_db',\n",
    "                                                 'iva_comision_msi_db','importe_adj_bruto','tasa_adj','importe_impuesto',\n",
    "                                                 'tasa_servicio_plan_n','deposit_amount']]\n",
    "deposit_date_cruce_final.head()"
   ]
  },
  {
   "cell_type": "code",
   "execution_count": 133,
   "metadata": {},
   "outputs": [
    {
     "data": {
      "text/plain": [
       "(1, 15)"
      ]
     },
     "execution_count": 133,
     "metadata": {},
     "output_type": "execute_result"
    }
   ],
   "source": [
    "deposit_date_cruce_final.shape"
   ]
  },
  {
   "cell_type": "markdown",
   "metadata": {},
   "source": [
    "# TRANSACTIONS AMEX - CLIP"
   ]
  },
  {
   "cell_type": "code",
   "execution_count": 134,
   "metadata": {},
   "outputs": [
    {
     "data": {
      "text/html": [
       "<div>\n",
       "<style scoped>\n",
       "    .dataframe tbody tr th:only-of-type {\n",
       "        vertical-align: middle;\n",
       "    }\n",
       "\n",
       "    .dataframe tbody tr th {\n",
       "        vertical-align: top;\n",
       "    }\n",
       "\n",
       "    .dataframe thead th {\n",
       "        text-align: right;\n",
       "    }\n",
       "</style>\n",
       "<table border=\"1\" class=\"dataframe\">\n",
       "  <thead>\n",
       "    <tr style=\"text-align: right;\">\n",
       "      <th></th>\n",
       "      <th>order_id</th>\n",
       "      <th>Type</th>\n",
       "      <th>Date_process_roc</th>\n",
       "      <th>A</th>\n",
       "      <th>Total_amount_charge_roc</th>\n",
       "      <th>Svc_fee_amount_roc</th>\n",
       "      <th>Svc_fee_amount_accel_roc</th>\n",
       "      <th>roc_deposit_date</th>\n",
       "      <th>15</th>\n",
       "      <th>rechazo_amex</th>\n",
       "      <th>...</th>\n",
       "      <th>clave_autorizacion</th>\n",
       "      <th>comision_porcentaje_mdr</th>\n",
       "      <th>comision_porcentaje_msi</th>\n",
       "      <th>comision_porcentaje_final</th>\n",
       "      <th>comision_mdr_db</th>\n",
       "      <th>iva_comision_mdr_db</th>\n",
       "      <th>comision_msi_db</th>\n",
       "      <th>iva_comision_msi_db</th>\n",
       "      <th>amount_new</th>\n",
       "      <th>comparison</th>\n",
       "    </tr>\n",
       "  </thead>\n",
       "  <tbody>\n",
       "    <tr>\n",
       "      <th>0</th>\n",
       "      <td>LMNRTYDPHHMY</td>\n",
       "      <td>4</td>\n",
       "      <td>2024-01-13</td>\n",
       "      <td>376669*****2016****</td>\n",
       "      <td>95,000.00</td>\n",
       "      <td>0.00</td>\n",
       "      <td>0.00</td>\n",
       "      <td>2024-01-16</td>\n",
       "      <td>0</td>\n",
       "      <td>00</td>\n",
       "      <td>...</td>\n",
       "      <td>010610892240064</td>\n",
       "      <td>-0.02</td>\n",
       "      <td>0.00</td>\n",
       "      <td>-0.02</td>\n",
       "      <td>-22.80</td>\n",
       "      <td>-3.65</td>\n",
       "      <td>0.00</td>\n",
       "      <td>0.00</td>\n",
       "      <td>950.00</td>\n",
       "      <td>True</td>\n",
       "    </tr>\n",
       "  </tbody>\n",
       "</table>\n",
       "<p>1 rows × 35 columns</p>\n",
       "</div>"
      ],
      "text/plain": [
       "       order_id Type Date_process_roc                    A  \\\n",
       "0  LMNRTYDPHHMY    4       2024-01-13  376669*****2016****   \n",
       "\n",
       "   Total_amount_charge_roc  Svc_fee_amount_roc  Svc_fee_amount_accel_roc  \\\n",
       "0                95,000.00                0.00                      0.00   \n",
       "\n",
       "  roc_deposit_date 15 rechazo_amex  ...  clave_autorizacion  \\\n",
       "0       2024-01-16  0           00  ...     010610892240064   \n",
       "\n",
       "   comision_porcentaje_mdr  comision_porcentaje_msi  \\\n",
       "0                    -0.02                     0.00   \n",
       "\n",
       "   comision_porcentaje_final  comision_mdr_db iva_comision_mdr_db  \\\n",
       "0                      -0.02           -22.80               -3.65   \n",
       "\n",
       "  comision_msi_db iva_comision_msi_db amount_new comparison  \n",
       "0            0.00                0.00     950.00       True  \n",
       "\n",
       "[1 rows x 35 columns]"
      ]
     },
     "execution_count": 134,
     "metadata": {},
     "output_type": "execute_result"
    }
   ],
   "source": [
    "txn_epa_txn = cruce_1[(cruce_1['Date_process_roc'] >= start_date) & (cruce_1['Date_process_roc'] <= final_date)]\n",
    "txn_epa_txn.sort_values(by=['Date_process_roc','order_id'],inplace=True)\n",
    "txn_epa_txn.head()"
   ]
  },
  {
   "cell_type": "code",
   "execution_count": 135,
   "metadata": {},
   "outputs": [
    {
     "data": {
      "text/plain": [
       "(1, 35)"
      ]
     },
     "execution_count": 135,
     "metadata": {},
     "output_type": "execute_result"
    }
   ],
   "source": [
    "txn_epa_txn.shape"
   ]
  },
  {
   "cell_type": "code",
   "execution_count": 136,
   "metadata": {},
   "outputs": [
    {
     "name": "stderr",
     "output_type": "stream",
     "text": [
      "C:\\Users\\Cristian.Aparicio\\AppData\\Local\\Temp\\ipykernel_1404\\1014910255.py:2: SettingWithCopyWarning: \n",
      "A value is trying to be set on a copy of a slice from a DataFrame\n",
      "\n",
      "See the caveats in the documentation: https://pandas.pydata.org/pandas-docs/stable/user_guide/indexing.html#returning-a-view-versus-a-copy\n",
      "  duplicates_2.sort_values(by=['order_id','Date_process_roc'],inplace=True)\n"
     ]
    },
    {
     "data": {
      "text/html": [
       "<div>\n",
       "<style scoped>\n",
       "    .dataframe tbody tr th:only-of-type {\n",
       "        vertical-align: middle;\n",
       "    }\n",
       "\n",
       "    .dataframe tbody tr th {\n",
       "        vertical-align: top;\n",
       "    }\n",
       "\n",
       "    .dataframe thead th {\n",
       "        text-align: right;\n",
       "    }\n",
       "</style>\n",
       "<table border=\"1\" class=\"dataframe\">\n",
       "  <thead>\n",
       "    <tr style=\"text-align: right;\">\n",
       "      <th></th>\n",
       "      <th>order_id</th>\n",
       "      <th>Type</th>\n",
       "      <th>Date_process_roc</th>\n",
       "      <th>A</th>\n",
       "      <th>Total_amount_charge_roc</th>\n",
       "      <th>Svc_fee_amount_roc</th>\n",
       "      <th>Svc_fee_amount_accel_roc</th>\n",
       "      <th>roc_deposit_date</th>\n",
       "      <th>15</th>\n",
       "      <th>rechazo_amex</th>\n",
       "      <th>...</th>\n",
       "      <th>clave_autorizacion</th>\n",
       "      <th>comision_porcentaje_mdr</th>\n",
       "      <th>comision_porcentaje_msi</th>\n",
       "      <th>comision_porcentaje_final</th>\n",
       "      <th>comision_mdr_db</th>\n",
       "      <th>iva_comision_mdr_db</th>\n",
       "      <th>comision_msi_db</th>\n",
       "      <th>iva_comision_msi_db</th>\n",
       "      <th>amount_new</th>\n",
       "      <th>comparison</th>\n",
       "    </tr>\n",
       "  </thead>\n",
       "  <tbody>\n",
       "  </tbody>\n",
       "</table>\n",
       "<p>0 rows × 35 columns</p>\n",
       "</div>"
      ],
      "text/plain": [
       "Empty DataFrame\n",
       "Columns: [order_id, Type, Date_process_roc, A, Total_amount_charge_roc, Svc_fee_amount_roc, Svc_fee_amount_accel_roc, roc_deposit_date, 15, rechazo_amex, total_amount_bruto, fee_amount_mdr, fee_amount_msi, iva_msi, iva_mdr, bin_bank, last4_bank, INDEX_TOTAL, transaction_id, date_transaction, amount, status_code, msi, bin, last4, clave_autorizacion, comision_porcentaje_mdr, comision_porcentaje_msi, comision_porcentaje_final, comision_mdr_db, iva_comision_mdr_db, comision_msi_db, iva_comision_msi_db, amount_new, comparison]\n",
       "Index: []\n",
       "\n",
       "[0 rows x 35 columns]"
      ]
     },
     "execution_count": 136,
     "metadata": {},
     "output_type": "execute_result"
    }
   ],
   "source": [
    "duplicates_2 = txn_epa_txn[txn_epa_txn.duplicated(['order_id'] , keep=False)]\n",
    "duplicates_2.sort_values(by=['order_id','Date_process_roc'],inplace=True)\n",
    "duplicates_2.head()\n"
   ]
  },
  {
   "cell_type": "code",
   "execution_count": 137,
   "metadata": {},
   "outputs": [
    {
     "data": {
      "text/plain": [
       "(0, 35)"
      ]
     },
     "execution_count": 137,
     "metadata": {},
     "output_type": "execute_result"
    }
   ],
   "source": [
    "duplicates_2.shape"
   ]
  },
  {
   "cell_type": "code",
   "execution_count": 138,
   "metadata": {},
   "outputs": [
    {
     "data": {
      "text/plain": [
       "(1, 35)"
      ]
     },
     "execution_count": 138,
     "metadata": {},
     "output_type": "execute_result"
    }
   ],
   "source": [
    "txn_epa_txn.drop_duplicates(subset ='order_id', keep='last', inplace=True)\n",
    "txn_epa_txn.shape"
   ]
  },
  {
   "cell_type": "code",
   "execution_count": 139,
   "metadata": {},
   "outputs": [
    {
     "data": {
      "text/html": [
       "<div>\n",
       "<style scoped>\n",
       "    .dataframe tbody tr th:only-of-type {\n",
       "        vertical-align: middle;\n",
       "    }\n",
       "\n",
       "    .dataframe tbody tr th {\n",
       "        vertical-align: top;\n",
       "    }\n",
       "\n",
       "    .dataframe thead th {\n",
       "        text-align: right;\n",
       "    }\n",
       "</style>\n",
       "<table border=\"1\" class=\"dataframe\">\n",
       "  <thead>\n",
       "    <tr style=\"text-align: right;\">\n",
       "      <th></th>\n",
       "      <th>order_id</th>\n",
       "      <th>Type</th>\n",
       "      <th>Date_process_roc</th>\n",
       "      <th>A</th>\n",
       "      <th>Total_amount_charge_roc</th>\n",
       "      <th>Svc_fee_amount_roc</th>\n",
       "      <th>Svc_fee_amount_accel_roc</th>\n",
       "      <th>roc_deposit_date</th>\n",
       "      <th>15</th>\n",
       "      <th>rechazo_amex</th>\n",
       "      <th>...</th>\n",
       "      <th>clave_autorizacion</th>\n",
       "      <th>comision_porcentaje_mdr</th>\n",
       "      <th>comision_porcentaje_msi</th>\n",
       "      <th>comision_porcentaje_final</th>\n",
       "      <th>comision_mdr_db</th>\n",
       "      <th>iva_comision_mdr_db</th>\n",
       "      <th>comision_msi_db</th>\n",
       "      <th>iva_comision_msi_db</th>\n",
       "      <th>amount_new</th>\n",
       "      <th>comparison</th>\n",
       "    </tr>\n",
       "  </thead>\n",
       "  <tbody>\n",
       "  </tbody>\n",
       "</table>\n",
       "<p>0 rows × 35 columns</p>\n",
       "</div>"
      ],
      "text/plain": [
       "Empty DataFrame\n",
       "Columns: [order_id, Type, Date_process_roc, A, Total_amount_charge_roc, Svc_fee_amount_roc, Svc_fee_amount_accel_roc, roc_deposit_date, 15, rechazo_amex, total_amount_bruto, fee_amount_mdr, fee_amount_msi, iva_msi, iva_mdr, bin_bank, last4_bank, INDEX_TOTAL, transaction_id, date_transaction, amount, status_code, msi, bin, last4, clave_autorizacion, comision_porcentaje_mdr, comision_porcentaje_msi, comision_porcentaje_final, comision_mdr_db, iva_comision_mdr_db, comision_msi_db, iva_comision_msi_db, amount_new, comparison]\n",
       "Index: []\n",
       "\n",
       "[0 rows x 35 columns]"
      ]
     },
     "execution_count": 139,
     "metadata": {},
     "output_type": "execute_result"
    }
   ],
   "source": [
    "comparison_2 = txn_epa_txn[(txn_epa_txn['comparison'] == False)]\n",
    "comparison_2.head()"
   ]
  },
  {
   "cell_type": "code",
   "execution_count": 140,
   "metadata": {},
   "outputs": [
    {
     "data": {
      "text/plain": [
       "(0, 35)"
      ]
     },
     "execution_count": 140,
     "metadata": {},
     "output_type": "execute_result"
    }
   ],
   "source": [
    "comparison_2.shape"
   ]
  },
  {
   "cell_type": "markdown",
   "metadata": {},
   "source": [
    "# GROUP BY TRANSACTION DATE"
   ]
  },
  {
   "cell_type": "code",
   "execution_count": 141,
   "metadata": {},
   "outputs": [
    {
     "name": "stderr",
     "output_type": "stream",
     "text": [
      "C:\\Users\\Cristian.Aparicio\\AppData\\Local\\Temp\\ipykernel_1404\\3380768711.py:1: FutureWarning: The provided callable <built-in function sum> is currently using SeriesGroupBy.sum. In a future version of pandas, the provided callable will be used directly. To keep current behavior pass the string \"sum\" instead.\n",
      "  txn_txn_date_cruce_1 = txn_epa_txn.groupby(['Date_process_roc']).agg({'total_amount_bruto':sum,                                                                      'fee_amount_mdr':sum,\n"
     ]
    },
    {
     "data": {
      "text/html": [
       "<div>\n",
       "<style scoped>\n",
       "    .dataframe tbody tr th:only-of-type {\n",
       "        vertical-align: middle;\n",
       "    }\n",
       "\n",
       "    .dataframe tbody tr th {\n",
       "        vertical-align: top;\n",
       "    }\n",
       "\n",
       "    .dataframe thead th {\n",
       "        text-align: right;\n",
       "    }\n",
       "</style>\n",
       "<table border=\"1\" class=\"dataframe\">\n",
       "  <thead>\n",
       "    <tr style=\"text-align: right;\">\n",
       "      <th></th>\n",
       "      <th>Date_process_roc</th>\n",
       "      <th>total_amount_bruto</th>\n",
       "      <th>fee_amount_mdr</th>\n",
       "      <th>fee_amount_msi</th>\n",
       "      <th>iva_mdr</th>\n",
       "      <th>iva_msi</th>\n",
       "      <th>comision_mdr_db</th>\n",
       "      <th>iva_comision_mdr_db</th>\n",
       "      <th>comision_msi_db</th>\n",
       "      <th>iva_comision_msi_db</th>\n",
       "      <th>amount_new</th>\n",
       "      <th>order_id</th>\n",
       "    </tr>\n",
       "  </thead>\n",
       "  <tbody>\n",
       "    <tr>\n",
       "      <th>0</th>\n",
       "      <td>2024-01-13</td>\n",
       "      <td>950.00</td>\n",
       "      <td>-22.80</td>\n",
       "      <td>0.00</td>\n",
       "      <td>-3.65</td>\n",
       "      <td>0.00</td>\n",
       "      <td>-22.80</td>\n",
       "      <td>-3.65</td>\n",
       "      <td>0.00</td>\n",
       "      <td>0.00</td>\n",
       "      <td>950.00</td>\n",
       "      <td>1</td>\n",
       "    </tr>\n",
       "  </tbody>\n",
       "</table>\n",
       "</div>"
      ],
      "text/plain": [
       "  Date_process_roc  total_amount_bruto  fee_amount_mdr  fee_amount_msi  \\\n",
       "0       2024-01-13              950.00          -22.80            0.00   \n",
       "\n",
       "   iva_mdr  iva_msi  comision_mdr_db  iva_comision_mdr_db  comision_msi_db  \\\n",
       "0    -3.65     0.00           -22.80                -3.65             0.00   \n",
       "\n",
       "   iva_comision_msi_db  amount_new  order_id  \n",
       "0                 0.00      950.00         1  "
      ]
     },
     "execution_count": 141,
     "metadata": {},
     "output_type": "execute_result"
    }
   ],
   "source": [
    "txn_txn_date_cruce_1 = txn_epa_txn.groupby(['Date_process_roc']).agg({'total_amount_bruto':sum,                                                                      'fee_amount_mdr':sum,\n",
    "                                                                      'fee_amount_msi':sum,\n",
    "                                                                      'iva_mdr':sum,\n",
    "                                                                      'iva_msi':sum,\n",
    "                                                                      'comision_mdr_db':sum,\n",
    "                                                                      'iva_comision_mdr_db':sum,\n",
    "                                                                      'comision_msi_db':sum,\n",
    "                                                                      'iva_comision_msi_db':sum,\n",
    "                                                                      'amount_new':sum,\n",
    "                                                                      'order_id':'count'\n",
    "}).reset_index()\n",
    "# txn_txn_date_cruce_1.rename(columns ={'order_id':'number_transactions'}, inplace=True)\n",
    "# txn_txn_date_cruce_1['diff'] = txn_txn_date_cruce_1['total_amount_bruto'] - txn_txn_date_cruce_1['amount_new']\n",
    "txn_txn_date_cruce_1.head()\n"
   ]
  },
  {
   "cell_type": "code",
   "execution_count": 142,
   "metadata": {},
   "outputs": [
    {
     "data": {
      "text/plain": [
       "(1, 12)"
      ]
     },
     "execution_count": 142,
     "metadata": {},
     "output_type": "execute_result"
    }
   ],
   "source": [
    "txn_txn_date_cruce_1.shape"
   ]
  },
  {
   "cell_type": "markdown",
   "metadata": {},
   "source": [
    "# GROUP BY TRANSACTION DATE AND STATUS CODE"
   ]
  },
  {
   "cell_type": "code",
   "execution_count": 143,
   "metadata": {},
   "outputs": [
    {
     "name": "stderr",
     "output_type": "stream",
     "text": [
      "C:\\Users\\Cristian.Aparicio\\AppData\\Local\\Temp\\ipykernel_1404\\1814311225.py:1: FutureWarning: The provided callable <built-in function sum> is currently using SeriesGroupBy.sum. In a future version of pandas, the provided callable will be used directly. To keep current behavior pass the string \"sum\" instead.\n",
      "  txn_txn_status_cruce_1 = txn_epa_txn.groupby(['Date_process_roc','status_code']).agg({'total_amount_bruto':sum,\n",
      "C:\\Users\\Cristian.Aparicio\\AppData\\Local\\Temp\\ipykernel_1404\\1814311225.py:1: FutureWarning: The provided callable <built-in function sum> is currently using SeriesGroupBy.sum. In a future version of pandas, the provided callable will be used directly. To keep current behavior pass the string \"sum\" instead.\n",
      "  txn_txn_status_cruce_1 = txn_epa_txn.groupby(['Date_process_roc','status_code']).agg({'total_amount_bruto':sum,\n"
     ]
    },
    {
     "data": {
      "text/html": [
       "<div>\n",
       "<style scoped>\n",
       "    .dataframe tbody tr th:only-of-type {\n",
       "        vertical-align: middle;\n",
       "    }\n",
       "\n",
       "    .dataframe tbody tr th {\n",
       "        vertical-align: top;\n",
       "    }\n",
       "\n",
       "    .dataframe thead th {\n",
       "        text-align: right;\n",
       "    }\n",
       "</style>\n",
       "<table border=\"1\" class=\"dataframe\">\n",
       "  <thead>\n",
       "    <tr style=\"text-align: right;\">\n",
       "      <th></th>\n",
       "      <th>Date_process_roc</th>\n",
       "      <th>status_code</th>\n",
       "      <th>total_amount_bruto</th>\n",
       "      <th>fee_amount_mdr</th>\n",
       "      <th>fee_amount_msi</th>\n",
       "      <th>iva_mdr</th>\n",
       "      <th>iva_msi</th>\n",
       "      <th>comision_mdr_db</th>\n",
       "      <th>iva_comision_mdr_db</th>\n",
       "      <th>comision_msi_db</th>\n",
       "      <th>iva_comision_msi_db</th>\n",
       "      <th>amount_new</th>\n",
       "      <th>number_transactions</th>\n",
       "      <th>diff</th>\n",
       "    </tr>\n",
       "  </thead>\n",
       "  <tbody>\n",
       "    <tr>\n",
       "      <th>0</th>\n",
       "      <td>2024-01-13</td>\n",
       "      <td>1</td>\n",
       "      <td>950.00</td>\n",
       "      <td>-22.80</td>\n",
       "      <td>0.00</td>\n",
       "      <td>-3.65</td>\n",
       "      <td>0.00</td>\n",
       "      <td>-22.80</td>\n",
       "      <td>-3.65</td>\n",
       "      <td>0.00</td>\n",
       "      <td>0.00</td>\n",
       "      <td>950.00</td>\n",
       "      <td>1</td>\n",
       "      <td>0.00</td>\n",
       "    </tr>\n",
       "  </tbody>\n",
       "</table>\n",
       "</div>"
      ],
      "text/plain": [
       "  Date_process_roc status_code  total_amount_bruto  fee_amount_mdr  \\\n",
       "0       2024-01-13           1              950.00          -22.80   \n",
       "\n",
       "   fee_amount_msi  iva_mdr  iva_msi  comision_mdr_db  iva_comision_mdr_db  \\\n",
       "0            0.00    -3.65     0.00           -22.80                -3.65   \n",
       "\n",
       "   comision_msi_db  iva_comision_msi_db  amount_new  number_transactions  diff  \n",
       "0             0.00                 0.00      950.00                    1  0.00  "
      ]
     },
     "execution_count": 143,
     "metadata": {},
     "output_type": "execute_result"
    }
   ],
   "source": [
    "txn_txn_status_cruce_1 = txn_epa_txn.groupby(['Date_process_roc','status_code']).agg({'total_amount_bruto':sum,\n",
    "                                                                                      'fee_amount_mdr':sum,\n",
    "                                                                                      'fee_amount_msi':sum,\n",
    "                                                                                      'iva_mdr':sum,\n",
    "                                                                                      'iva_msi':sum,\n",
    "                                                                                      'comision_mdr_db':sum,\n",
    "                                                                                      'iva_comision_mdr_db':sum,\n",
    "                                                                                      'comision_msi_db':sum,\n",
    "                                                                                      'iva_comision_msi_db':sum,\n",
    "                                                                                      'amount_new':sum,\n",
    "                                                                                      'order_id':'count'}).reset_index()\n",
    "txn_txn_status_cruce_1.rename(columns ={'order_id':'number_transactions'}, inplace=True)\n",
    "txn_txn_status_cruce_1['diff'] = txn_txn_status_cruce_1['total_amount_bruto'] - txn_txn_status_cruce_1['amount_new']\n",
    "txn_txn_status_cruce_1.head()\n"
   ]
  },
  {
   "cell_type": "code",
   "execution_count": 144,
   "metadata": {},
   "outputs": [
    {
     "data": {
      "text/plain": [
       "Date_process_roc       datetime64[ns]\n",
       "status_code                    object\n",
       "total_amount_bruto            float64\n",
       "fee_amount_mdr                float64\n",
       "fee_amount_msi                float64\n",
       "iva_mdr                       float64\n",
       "iva_msi                       float64\n",
       "comision_mdr_db               float64\n",
       "iva_comision_mdr_db           float64\n",
       "comision_msi_db               float64\n",
       "iva_comision_msi_db           float64\n",
       "amount_new                    float64\n",
       "number_transactions             int64\n",
       "diff                          float64\n",
       "dtype: object"
      ]
     },
     "execution_count": 144,
     "metadata": {},
     "output_type": "execute_result"
    }
   ],
   "source": [
    "txn_txn_status_cruce_1.dtypes"
   ]
  },
  {
   "cell_type": "code",
   "execution_count": 145,
   "metadata": {},
   "outputs": [
    {
     "data": {
      "text/plain": [
       "(1, 14)"
      ]
     },
     "execution_count": 145,
     "metadata": {},
     "output_type": "execute_result"
    }
   ],
   "source": [
    "txn_txn_status_cruce_1.shape"
   ]
  },
  {
   "cell_type": "markdown",
   "metadata": {},
   "source": [
    "### STATUS 1"
   ]
  },
  {
   "cell_type": "code",
   "execution_count": 146,
   "metadata": {},
   "outputs": [
    {
     "data": {
      "text/html": [
       "<div>\n",
       "<style scoped>\n",
       "    .dataframe tbody tr th:only-of-type {\n",
       "        vertical-align: middle;\n",
       "    }\n",
       "\n",
       "    .dataframe tbody tr th {\n",
       "        vertical-align: top;\n",
       "    }\n",
       "\n",
       "    .dataframe thead th {\n",
       "        text-align: right;\n",
       "    }\n",
       "</style>\n",
       "<table border=\"1\" class=\"dataframe\">\n",
       "  <thead>\n",
       "    <tr style=\"text-align: right;\">\n",
       "      <th></th>\n",
       "      <th>Date_process_roc</th>\n",
       "      <th>status_code</th>\n",
       "      <th>total_amount_bruto</th>\n",
       "      <th>fee_amount_mdr</th>\n",
       "      <th>fee_amount_msi</th>\n",
       "      <th>iva_mdr</th>\n",
       "      <th>iva_msi</th>\n",
       "      <th>comision_mdr_db</th>\n",
       "      <th>iva_comision_mdr_db</th>\n",
       "      <th>comision_msi_db</th>\n",
       "      <th>iva_comision_msi_db</th>\n",
       "      <th>amount_new</th>\n",
       "      <th>number_transactions</th>\n",
       "      <th>diff</th>\n",
       "    </tr>\n",
       "  </thead>\n",
       "  <tbody>\n",
       "    <tr>\n",
       "      <th>0</th>\n",
       "      <td>2024-01-13</td>\n",
       "      <td>1</td>\n",
       "      <td>950.00</td>\n",
       "      <td>-22.80</td>\n",
       "      <td>0.00</td>\n",
       "      <td>-3.65</td>\n",
       "      <td>0.00</td>\n",
       "      <td>-22.80</td>\n",
       "      <td>-3.65</td>\n",
       "      <td>0.00</td>\n",
       "      <td>0.00</td>\n",
       "      <td>950.00</td>\n",
       "      <td>1</td>\n",
       "      <td>0.00</td>\n",
       "    </tr>\n",
       "  </tbody>\n",
       "</table>\n",
       "</div>"
      ],
      "text/plain": [
       "  Date_process_roc status_code  total_amount_bruto  fee_amount_mdr  \\\n",
       "0       2024-01-13           1              950.00          -22.80   \n",
       "\n",
       "   fee_amount_msi  iva_mdr  iva_msi  comision_mdr_db  iva_comision_mdr_db  \\\n",
       "0            0.00    -3.65     0.00           -22.80                -3.65   \n",
       "\n",
       "   comision_msi_db  iva_comision_msi_db  amount_new  number_transactions  diff  \n",
       "0             0.00                 0.00      950.00                    1  0.00  "
      ]
     },
     "execution_count": 146,
     "metadata": {},
     "output_type": "execute_result"
    }
   ],
   "source": [
    "txn_txn_status_cruce_1_status_1 = txn_txn_status_cruce_1[(txn_txn_status_cruce_1['status_code'] == '1')]\n",
    "txn_txn_status_cruce_1_status_1.head()"
   ]
  },
  {
   "cell_type": "code",
   "execution_count": 147,
   "metadata": {},
   "outputs": [
    {
     "data": {
      "text/plain": [
       "(1, 14)"
      ]
     },
     "execution_count": 147,
     "metadata": {},
     "output_type": "execute_result"
    }
   ],
   "source": [
    "txn_txn_status_cruce_1_status_1.shape"
   ]
  },
  {
   "cell_type": "markdown",
   "metadata": {},
   "source": [
    "### STATUS 3"
   ]
  },
  {
   "cell_type": "code",
   "execution_count": 148,
   "metadata": {},
   "outputs": [
    {
     "data": {
      "text/html": [
       "<div>\n",
       "<style scoped>\n",
       "    .dataframe tbody tr th:only-of-type {\n",
       "        vertical-align: middle;\n",
       "    }\n",
       "\n",
       "    .dataframe tbody tr th {\n",
       "        vertical-align: top;\n",
       "    }\n",
       "\n",
       "    .dataframe thead th {\n",
       "        text-align: right;\n",
       "    }\n",
       "</style>\n",
       "<table border=\"1\" class=\"dataframe\">\n",
       "  <thead>\n",
       "    <tr style=\"text-align: right;\">\n",
       "      <th></th>\n",
       "      <th>Date_process_roc</th>\n",
       "      <th>status_code</th>\n",
       "      <th>total_amount_bruto</th>\n",
       "      <th>fee_amount_mdr</th>\n",
       "      <th>fee_amount_msi</th>\n",
       "      <th>iva_mdr</th>\n",
       "      <th>iva_msi</th>\n",
       "      <th>comision_mdr_db</th>\n",
       "      <th>iva_comision_mdr_db</th>\n",
       "      <th>comision_msi_db</th>\n",
       "      <th>iva_comision_msi_db</th>\n",
       "      <th>amount_new</th>\n",
       "      <th>number_transactions</th>\n",
       "      <th>diff</th>\n",
       "    </tr>\n",
       "  </thead>\n",
       "  <tbody>\n",
       "  </tbody>\n",
       "</table>\n",
       "</div>"
      ],
      "text/plain": [
       "Empty DataFrame\n",
       "Columns: [Date_process_roc, status_code, total_amount_bruto, fee_amount_mdr, fee_amount_msi, iva_mdr, iva_msi, comision_mdr_db, iva_comision_mdr_db, comision_msi_db, iva_comision_msi_db, amount_new, number_transactions, diff]\n",
       "Index: []"
      ]
     },
     "execution_count": 148,
     "metadata": {},
     "output_type": "execute_result"
    }
   ],
   "source": [
    "txn_txn_status_cruce_1_status_3 = txn_txn_status_cruce_1[(txn_txn_status_cruce_1['status_code'] == '3')]\n",
    "txn_txn_status_cruce_1_status_3.head()"
   ]
  },
  {
   "cell_type": "code",
   "execution_count": 149,
   "metadata": {},
   "outputs": [
    {
     "data": {
      "text/plain": [
       "(0, 14)"
      ]
     },
     "execution_count": 149,
     "metadata": {},
     "output_type": "execute_result"
    }
   ],
   "source": [
    "txn_txn_status_cruce_1_status_3.shape"
   ]
  },
  {
   "cell_type": "markdown",
   "metadata": {},
   "source": [
    "# POSIBLES DISPUTAS"
   ]
  },
  {
   "cell_type": "code",
   "execution_count": 150,
   "metadata": {},
   "outputs": [
    {
     "data": {
      "text/html": [
       "<div>\n",
       "<style scoped>\n",
       "    .dataframe tbody tr th:only-of-type {\n",
       "        vertical-align: middle;\n",
       "    }\n",
       "\n",
       "    .dataframe tbody tr th {\n",
       "        vertical-align: top;\n",
       "    }\n",
       "\n",
       "    .dataframe thead th {\n",
       "        text-align: right;\n",
       "    }\n",
       "</style>\n",
       "<table border=\"1\" class=\"dataframe\">\n",
       "  <thead>\n",
       "    <tr style=\"text-align: right;\">\n",
       "      <th></th>\n",
       "      <th>order_id</th>\n",
       "      <th>Type</th>\n",
       "      <th>Date_process_roc</th>\n",
       "      <th>A</th>\n",
       "      <th>Total_amount_charge_roc</th>\n",
       "      <th>Svc_fee_amount_roc</th>\n",
       "      <th>Svc_fee_amount_accel_roc</th>\n",
       "      <th>roc_deposit_date</th>\n",
       "      <th>15</th>\n",
       "      <th>rechazo_amex</th>\n",
       "      <th>...</th>\n",
       "      <th>clave_autorizacion</th>\n",
       "      <th>comision_porcentaje_mdr</th>\n",
       "      <th>comision_porcentaje_msi</th>\n",
       "      <th>comision_porcentaje_final</th>\n",
       "      <th>comision_mdr_db</th>\n",
       "      <th>iva_comision_mdr_db</th>\n",
       "      <th>comision_msi_db</th>\n",
       "      <th>iva_comision_msi_db</th>\n",
       "      <th>amount_new</th>\n",
       "      <th>comparison</th>\n",
       "    </tr>\n",
       "  </thead>\n",
       "  <tbody>\n",
       "  </tbody>\n",
       "</table>\n",
       "<p>0 rows × 35 columns</p>\n",
       "</div>"
      ],
      "text/plain": [
       "Empty DataFrame\n",
       "Columns: [order_id, Type, Date_process_roc, A, Total_amount_charge_roc, Svc_fee_amount_roc, Svc_fee_amount_accel_roc, roc_deposit_date, 15, rechazo_amex, total_amount_bruto, fee_amount_mdr, fee_amount_msi, iva_msi, iva_mdr, bin_bank, last4_bank, INDEX_TOTAL, transaction_id, date_transaction, amount, status_code, msi, bin, last4, clave_autorizacion, comision_porcentaje_mdr, comision_porcentaje_msi, comision_porcentaje_final, comision_mdr_db, iva_comision_mdr_db, comision_msi_db, iva_comision_msi_db, amount_new, comparison]\n",
       "Index: []\n",
       "\n",
       "[0 rows x 35 columns]"
      ]
     },
     "execution_count": 150,
     "metadata": {},
     "output_type": "execute_result"
    }
   ],
   "source": [
    "posibles_disputas = txn_epa_txn[(txn_epa_txn['status_code'] != '1') & (txn_epa_txn['status_code'] != '3')]\n",
    "posibles_disputas.head()\n"
   ]
  },
  {
   "cell_type": "code",
   "execution_count": 151,
   "metadata": {},
   "outputs": [
    {
     "data": {
      "text/plain": [
       "(0, 35)"
      ]
     },
     "execution_count": 151,
     "metadata": {},
     "output_type": "execute_result"
    }
   ],
   "source": [
    "posibles_disputas.shape"
   ]
  },
  {
   "cell_type": "markdown",
   "metadata": {},
   "source": [
    "### POSIBLES DISPUTAS BY DATE"
   ]
  },
  {
   "cell_type": "code",
   "execution_count": 152,
   "metadata": {},
   "outputs": [
    {
     "name": "stderr",
     "output_type": "stream",
     "text": [
      "C:\\Users\\Cristian.Aparicio\\AppData\\Local\\Temp\\ipykernel_1404\\3403979889.py:1: FutureWarning: The provided callable <built-in function sum> is currently using SeriesGroupBy.sum. In a future version of pandas, the provided callable will be used directly. To keep current behavior pass the string \"sum\" instead.\n",
      "  txn_txn_status_cruce_1_posibles_disputas = posibles_disputas.groupby(['Date_process_roc']).agg({'total_amount_bruto':sum,\n",
      "C:\\Users\\Cristian.Aparicio\\AppData\\Local\\Temp\\ipykernel_1404\\3403979889.py:1: FutureWarning: The provided callable <built-in function sum> is currently using SeriesGroupBy.sum. In a future version of pandas, the provided callable will be used directly. To keep current behavior pass the string \"sum\" instead.\n",
      "  txn_txn_status_cruce_1_posibles_disputas = posibles_disputas.groupby(['Date_process_roc']).agg({'total_amount_bruto':sum,\n",
      "C:\\Users\\Cristian.Aparicio\\AppData\\Local\\Temp\\ipykernel_1404\\3403979889.py:1: FutureWarning: The provided callable <built-in function sum> is currently using SeriesGroupBy.sum. In a future version of pandas, the provided callable will be used directly. To keep current behavior pass the string \"sum\" instead.\n",
      "  txn_txn_status_cruce_1_posibles_disputas = posibles_disputas.groupby(['Date_process_roc']).agg({'total_amount_bruto':sum,\n",
      "C:\\Users\\Cristian.Aparicio\\AppData\\Local\\Temp\\ipykernel_1404\\3403979889.py:1: FutureWarning: The provided callable <built-in function sum> is currently using SeriesGroupBy.sum. In a future version of pandas, the provided callable will be used directly. To keep current behavior pass the string \"sum\" instead.\n",
      "  txn_txn_status_cruce_1_posibles_disputas = posibles_disputas.groupby(['Date_process_roc']).agg({'total_amount_bruto':sum,\n",
      "C:\\Users\\Cristian.Aparicio\\AppData\\Local\\Temp\\ipykernel_1404\\3403979889.py:1: FutureWarning: The provided callable <built-in function sum> is currently using SeriesGroupBy.sum. In a future version of pandas, the provided callable will be used directly. To keep current behavior pass the string \"sum\" instead.\n",
      "  txn_txn_status_cruce_1_posibles_disputas = posibles_disputas.groupby(['Date_process_roc']).agg({'total_amount_bruto':sum,\n",
      "C:\\Users\\Cristian.Aparicio\\AppData\\Local\\Temp\\ipykernel_1404\\3403979889.py:1: FutureWarning: The provided callable <built-in function sum> is currently using SeriesGroupBy.sum. In a future version of pandas, the provided callable will be used directly. To keep current behavior pass the string \"sum\" instead.\n",
      "  txn_txn_status_cruce_1_posibles_disputas = posibles_disputas.groupby(['Date_process_roc']).agg({'total_amount_bruto':sum,\n",
      "C:\\Users\\Cristian.Aparicio\\AppData\\Local\\Temp\\ipykernel_1404\\3403979889.py:1: FutureWarning: The provided callable <built-in function sum> is currently using SeriesGroupBy.sum. In a future version of pandas, the provided callable will be used directly. To keep current behavior pass the string \"sum\" instead.\n",
      "  txn_txn_status_cruce_1_posibles_disputas = posibles_disputas.groupby(['Date_process_roc']).agg({'total_amount_bruto':sum,\n",
      "C:\\Users\\Cristian.Aparicio\\AppData\\Local\\Temp\\ipykernel_1404\\3403979889.py:1: FutureWarning: The provided callable <built-in function sum> is currently using SeriesGroupBy.sum. In a future version of pandas, the provided callable will be used directly. To keep current behavior pass the string \"sum\" instead.\n",
      "  txn_txn_status_cruce_1_posibles_disputas = posibles_disputas.groupby(['Date_process_roc']).agg({'total_amount_bruto':sum,\n",
      "C:\\Users\\Cristian.Aparicio\\AppData\\Local\\Temp\\ipykernel_1404\\3403979889.py:1: FutureWarning: The provided callable <built-in function sum> is currently using SeriesGroupBy.sum. In a future version of pandas, the provided callable will be used directly. To keep current behavior pass the string \"sum\" instead.\n",
      "  txn_txn_status_cruce_1_posibles_disputas = posibles_disputas.groupby(['Date_process_roc']).agg({'total_amount_bruto':sum,\n",
      "C:\\Users\\Cristian.Aparicio\\AppData\\Local\\Temp\\ipykernel_1404\\3403979889.py:1: FutureWarning: The provided callable <built-in function sum> is currently using SeriesGroupBy.sum. In a future version of pandas, the provided callable will be used directly. To keep current behavior pass the string \"sum\" instead.\n",
      "  txn_txn_status_cruce_1_posibles_disputas = posibles_disputas.groupby(['Date_process_roc']).agg({'total_amount_bruto':sum,\n"
     ]
    },
    {
     "data": {
      "text/html": [
       "<div>\n",
       "<style scoped>\n",
       "    .dataframe tbody tr th:only-of-type {\n",
       "        vertical-align: middle;\n",
       "    }\n",
       "\n",
       "    .dataframe tbody tr th {\n",
       "        vertical-align: top;\n",
       "    }\n",
       "\n",
       "    .dataframe thead th {\n",
       "        text-align: right;\n",
       "    }\n",
       "</style>\n",
       "<table border=\"1\" class=\"dataframe\">\n",
       "  <thead>\n",
       "    <tr style=\"text-align: right;\">\n",
       "      <th></th>\n",
       "      <th>Date_process_roc</th>\n",
       "      <th>total_amount_bruto</th>\n",
       "      <th>fee_amount_mdr</th>\n",
       "      <th>fee_amount_msi</th>\n",
       "      <th>iva_mdr</th>\n",
       "      <th>iva_msi</th>\n",
       "      <th>amount_new</th>\n",
       "      <th>comision_mdr_db</th>\n",
       "      <th>iva_comision_mdr_db</th>\n",
       "      <th>comision_msi_db</th>\n",
       "      <th>iva_comision_msi_db</th>\n",
       "      <th>order_id</th>\n",
       "    </tr>\n",
       "  </thead>\n",
       "  <tbody>\n",
       "  </tbody>\n",
       "</table>\n",
       "</div>"
      ],
      "text/plain": [
       "Empty DataFrame\n",
       "Columns: [Date_process_roc, total_amount_bruto, fee_amount_mdr, fee_amount_msi, iva_mdr, iva_msi, amount_new, comision_mdr_db, iva_comision_mdr_db, comision_msi_db, iva_comision_msi_db, order_id]\n",
       "Index: []"
      ]
     },
     "execution_count": 152,
     "metadata": {},
     "output_type": "execute_result"
    }
   ],
   "source": [
    "txn_txn_status_cruce_1_posibles_disputas = posibles_disputas.groupby(['Date_process_roc']).agg({'total_amount_bruto':sum,\n",
    "                                                                                                'fee_amount_mdr':sum,\n",
    "                                                                                                'fee_amount_msi':sum,\n",
    "                                                                                                'iva_mdr':sum,'iva_msi':sum,\n",
    "                                                                                                'amount_new':sum,\n",
    "                                                                                                'comision_mdr_db':sum,\n",
    "                                                                                                'iva_comision_mdr_db':sum,\n",
    "                                                                                                'comision_msi_db':sum,\n",
    "                                                                                                'iva_comision_msi_db':sum,\n",
    "                                                                                                'order_id':'count'}).reset_index()\n",
    "txn_txn_status_cruce_1_posibles_disputas.head()"
   ]
  },
  {
   "cell_type": "code",
   "execution_count": 153,
   "metadata": {},
   "outputs": [
    {
     "data": {
      "text/plain": [
       "(0, 12)"
      ]
     },
     "execution_count": 153,
     "metadata": {},
     "output_type": "execute_result"
    }
   ],
   "source": [
    "txn_txn_status_cruce_1_posibles_disputas.shape"
   ]
  },
  {
   "cell_type": "markdown",
   "metadata": {},
   "source": [
    "# EXCEL"
   ]
  },
  {
   "cell_type": "markdown",
   "metadata": {},
   "source": [
    "## PAYOUTS"
   ]
  },
  {
   "cell_type": "code",
   "execution_count": 154,
   "metadata": {},
   "outputs": [],
   "source": [
    "writer = pd.ExcelWriter('EPA PAYOUTS ENERO CON COMISIONES 2024.xlsx',\n",
    "                        engine='xlsxwriter',\n",
    "                        engine_kwargs={'options': {'encoding':'utf-8'}})\n",
    "deposit_date_cruce_final.to_excel(writer, sheet_name='PAYOUTS',index=False)\n",
    "deposit_success_cruce_1.to_excel(writer, sheet_name='PAYOUTS SUCCESS TXN',index=False)\n",
    "deposit_refunded_cruce_1.to_excel(writer, sheet_name='PAYOUTS REFUNDED TXN',index=False)\n",
    "epa_1_excel_final.to_excel(writer, sheet_name='EPA PAYMENT RECORD',index=False)\n",
    "epa_3_excel_final.to_excel(writer, sheet_name='EPA SUM OF CHARGE',index=False)\n",
    "txn_epa_deposit.to_excel(writer, sheet_name='PAYOUTS DETAIL',index=False)\n",
    "cruce_1_rej.to_excel(writer, sheet_name='RECHAZOS AMEX',index=False)\n",
    "duplicates_1.to_excel(writer, sheet_name='PAYOUTS DUPLICATES',index=False)\n",
    "comparison_1.to_excel(writer, sheet_name='PAYOUTS COMPARISON',index=False)\n",
    "txn_epa_adj_final.to_excel(writer, sheet_name='ADJUSTMENS DETAIL',index=False)\n",
    "deposit_date_adj_positivos.to_excel(writer, sheet_name='ADJUSTMENTS POSITIVOS',index=False)\n",
    "pivot_monto_servicio_positivos.to_excel(writer, sheet_name='MONTO SERVICIO POSIVOS',index=False)\n",
    "deposit_date_adj_negativos.to_excel(writer, sheet_name='ADJUSTMENTS NEGATIVOS',index=False)\n",
    "pivot_monto_servicio_negativos.to_excel(writer, sheet_name='MONTO SERVICIO NEGATIVOS',index=False)\n",
    "writer.close()"
   ]
  },
  {
   "cell_type": "markdown",
   "metadata": {},
   "source": [
    "## TRANSACCIONES"
   ]
  },
  {
   "cell_type": "code",
   "execution_count": 155,
   "metadata": {},
   "outputs": [],
   "source": [
    "writer = pd.ExcelWriter('EPA TRANSACCIONES CON COMISIONES ENERO 2024.xlsx',\n",
    "                        engine='xlsxwriter',\n",
    "                        engine_kwargs={'options': {'encoding':'utf-8'}})\n",
    "txn_epa_txn.to_excel(writer, sheet_name='TRANSACTIONS DETAIL',index=False)\n",
    "cruce_1_rej.to_excel(writer, sheet_name='RECHAZOS AMEX',index=False)\n",
    "duplicates_2.to_excel(writer, sheet_name='TRANSACTIONS DUPLICATES',index=False)\n",
    "comparison_2.to_excel(writer, sheet_name='TRANSACTIONS COMPARISON',index=False)\n",
    "txn_txn_date_cruce_1.to_excel(writer, sheet_name='TXN DATE',index=False)\n",
    "txn_txn_status_cruce_1.to_excel(writer, sheet_name='TXN DATE AND STATUS',index=False)\n",
    "txn_txn_status_cruce_1_status_1.to_excel(writer, sheet_name='STATUS 1',index=False)\n",
    "txn_txn_status_cruce_1_status_3.to_excel(writer, sheet_name='STATUS 3',index=False)\n",
    "txn_txn_status_cruce_1_posibles_disputas.to_excel(writer, sheet_name='POSIBLES DISPUTAS BY DATE',index=False)\n",
    "posibles_disputas.to_excel(writer, sheet_name='POSIBLES DISPUTAS',index=False)\n",
    "writer.close()"
   ]
  },
  {
   "cell_type": "code",
   "execution_count": null,
   "metadata": {},
   "outputs": [],
   "source": []
  }
 ],
 "metadata": {
  "kernelspec": {
   "display_name": "Python 3 (ipykernel)",
   "language": "python",
   "name": "python3"
  },
  "language_info": {
   "codemirror_mode": {
    "name": "ipython",
    "version": 3
   },
   "file_extension": ".py",
   "mimetype": "text/x-python",
   "name": "python",
   "nbconvert_exporter": "python",
   "pygments_lexer": "ipython3",
   "version": "3.9.18"
  }
 },
 "nbformat": 4,
 "nbformat_minor": 4
}
