{
 "cells": [
  {
   "cell_type": "code",
   "execution_count": 1,
   "id": "21c1c747",
   "metadata": {},
   "outputs": [],
   "source": [
    "import pandas as pd\n",
    "import numpy as np\n",
    "import glob\n",
    "import os\n",
    "from openpyxl import load_workbook\n",
    "pd.options.display.float_format = '{:,.2f}'.format"
   ]
  },
  {
   "cell_type": "code",
   "execution_count": 2,
   "id": "e9787e6a",
   "metadata": {},
   "outputs": [],
   "source": [
    "start_date = '2024-01-01'\n",
    "final_date = '2024-01-31'"
   ]
  },
  {
   "cell_type": "markdown",
   "id": "9df44613",
   "metadata": {},
   "source": [
    "# RUTAS"
   ]
  },
  {
   "cell_type": "code",
   "execution_count": null,
   "id": "bfee8237-590e-4824-9351-7f21258c62c5",
   "metadata": {},
   "outputs": [],
   "source": [
    "email_files = glob.glob(r'G:\\My Drive\\RESPALDO-PC\\DATA EMAILS\\*.tsv', recursive=False)\n",
    "email_files"
   ]
  },
  {
   "cell_type": "markdown",
   "id": "cef36c0e",
   "metadata": {},
   "source": [
    "### DIGITAL ACCOUNT SML"
   ]
  },
  {
   "cell_type": "code",
   "execution_count": 3,
   "id": "38321533",
   "metadata": {},
   "outputs": [
    {
     "data": {
      "text/plain": [
       "['G:\\\\My Drive\\\\RESPALDO-PC\\\\DYNAMO\\\\2024\\\\01. ENERO\\\\SETTLEMENT MASTER LOG\\\\SETTLEMENT_MASTER_LOG_MSI_DATE ENERO 2024.tsv']"
      ]
     },
     "execution_count": 3,
     "metadata": {},
     "output_type": "execute_result"
    }
   ],
   "source": [
    "sml_files = glob.glob(r'G:\\My Drive\\RESPALDO-PC\\DYNAMO\\2024\\01. ENERO\\SETTLEMENT MASTER LOG\\*.tsv', recursive=False)\n",
    "sml_files"
   ]
  },
  {
   "cell_type": "markdown",
   "id": "baf7556d",
   "metadata": {},
   "source": [
    "### DIGITAL ACCOUNT AP JOURNAL"
   ]
  },
  {
   "cell_type": "code",
   "execution_count": 4,
   "id": "932c2ffa",
   "metadata": {},
   "outputs": [
    {
     "data": {
      "text/plain": [
       "['G:\\\\My Drive\\\\RESPALDO-PC\\\\DYNAMO\\\\2024\\\\01. ENERO\\\\AP JOURNAL\\\\AP-JOURNAL_DATE ENERO 2024.tsv']"
      ]
     },
     "execution_count": 4,
     "metadata": {},
     "output_type": "execute_result"
    }
   ],
   "source": [
    "ap_files = glob.glob(r'G:\\My Drive\\RESPALDO-PC\\DYNAMO\\2024\\01. ENERO\\AP JOURNAL\\AP-JOURNAL_DATE*.tsv', recursive=False)\n",
    "ap_files"
   ]
  },
  {
   "cell_type": "markdown",
   "id": "b8732505",
   "metadata": {},
   "source": [
    "### DIGITAL ACCOUNT AP JOURNAL FONDEO"
   ]
  },
  {
   "cell_type": "code",
   "execution_count": null,
   "id": "095a8ed8",
   "metadata": {},
   "outputs": [],
   "source": [
    "ap_fondeo_files = glob.glob(r'C:\\Users\\Cristian.Aparicio\\Documents\\DIGITAL ACCOUNTS\\2024\\01. ENERO\\QUERIES\\AP-JOURNAL-DATA*.csv', recursive=False)\n",
    "ap_fondeo_files"
   ]
  },
  {
   "cell_type": "markdown",
   "id": "9e3e3742",
   "metadata": {},
   "source": [
    "### DIGITAL ACCOUNT AP-PAYOUTS"
   ]
  },
  {
   "cell_type": "code",
   "execution_count": null,
   "id": "ba1e1711",
   "metadata": {},
   "outputs": [],
   "source": [
    "ap_payouts_files = glob.glob(r'C:\\Users\\Cristian.Aparicio\\Documents\\DIGITAL ACCOUNTS\\2024\\01. ENERO\\QUERIES\\DIGITAL_ACCOUNT_AP_PAY*.csv', recursive=False)\n",
    "ap_payouts_files"
   ]
  },
  {
   "cell_type": "markdown",
   "id": "0591203c",
   "metadata": {},
   "source": [
    "### DIGITAL ACCOUNT MERCHANT ATTRIBUTES"
   ]
  },
  {
   "cell_type": "code",
   "execution_count": null,
   "id": "521d7069",
   "metadata": {},
   "outputs": [],
   "source": [
    "me_att_files = glob.glob(r'C:\\Users\\Cristian.Aparicio\\Documents\\DIGITAL ACCOUNTS\\2024\\01. ENERO\\QUERIES\\DIGITAL_ACCOUNT_ME*.csv', recursive=False)\n",
    "me_att_files"
   ]
  },
  {
   "cell_type": "markdown",
   "id": "bf9da3cf",
   "metadata": {},
   "source": [
    "# DATA SETTLEMENT MASTER LOG"
   ]
  },
  {
   "cell_type": "code",
   "execution_count": 5,
   "id": "27c65ab3",
   "metadata": {},
   "outputs": [
    {
     "data": {
      "text/html": [
       "<div>\n",
       "<style scoped>\n",
       "    .dataframe tbody tr th:only-of-type {\n",
       "        vertical-align: middle;\n",
       "    }\n",
       "\n",
       "    .dataframe tbody tr th {\n",
       "        vertical-align: top;\n",
       "    }\n",
       "\n",
       "    .dataframe thead th {\n",
       "        text-align: right;\n",
       "    }\n",
       "</style>\n",
       "<table border=\"1\" class=\"dataframe\">\n",
       "  <thead>\n",
       "    <tr style=\"text-align: right;\">\n",
       "      <th></th>\n",
       "      <th>record_uuid</th>\n",
       "      <th>merchant_id</th>\n",
       "      <th>transaction_id</th>\n",
       "      <th>mvnt_id</th>\n",
       "      <th>mvnt_type</th>\n",
       "      <th>pymt_prg</th>\n",
       "      <th>created_at</th>\n",
       "      <th>eff_dt</th>\n",
       "      <th>psp_amount</th>\n",
       "      <th>gross_amount</th>\n",
       "      <th>...</th>\n",
       "      <th>status_code</th>\n",
       "      <th>status_msg</th>\n",
       "      <th>receipt_no</th>\n",
       "      <th>type</th>\n",
       "      <th>dcc_amount</th>\n",
       "      <th>dcc_rate</th>\n",
       "      <th>dcc_status</th>\n",
       "      <th>cc_nb_currency_code</th>\n",
       "      <th>nu_markup</th>\n",
       "      <th>file_name</th>\n",
       "    </tr>\n",
       "  </thead>\n",
       "  <tbody>\n",
       "    <tr>\n",
       "      <th>0</th>\n",
       "      <td>492eb020-eb61-5694-af70-e018f7a3e56e</td>\n",
       "      <td>73961c21-32ad-4449-b1e4-52c4a3c982cc</td>\n",
       "      <td>459bbc73-853a-4d25-8409-ff087c01deaa</td>\n",
       "      <td>459bbc73-853a-4d25-8409-ff087c01deaa</td>\n",
       "      <td>STL_PCS_RQ</td>\n",
       "      <td>REGULAR_PAYMENT</td>\n",
       "      <td>2024-01-10T23:31:08Z</td>\n",
       "      <td>2024-01-11T05:30:00Z</td>\n",
       "      <td>2,568.00</td>\n",
       "      <td>2,568.00</td>\n",
       "      <td>...</td>\n",
       "      <td>1.00</td>\n",
       "      <td>Paid</td>\n",
       "      <td>XFXVG19</td>\n",
       "      <td>PAYMENT</td>\n",
       "      <td>NaN</td>\n",
       "      <td>NaN</td>\n",
       "      <td>NaN</td>\n",
       "      <td>NaN</td>\n",
       "      <td>NaN</td>\n",
       "      <td>SETTLEMENT_MASTER_LOG_MSI_DATE ENERO 2024.tsv</td>\n",
       "    </tr>\n",
       "    <tr>\n",
       "      <th>1</th>\n",
       "      <td>5167cef9-35f3-5ad5-a1db-bc3ffa38ff8b</td>\n",
       "      <td>dc1c1ba2-0bff-40c6-82e1-405f9f0ee8d8</td>\n",
       "      <td>5b323756-df36-4906-9227-c6eb9f01ef36</td>\n",
       "      <td>5b323756-df36-4906-9227-c6eb9f01ef36</td>\n",
       "      <td>STL_PCS_RQ</td>\n",
       "      <td>REGULAR_PAYMENT</td>\n",
       "      <td>2024-01-10T23:08:40Z</td>\n",
       "      <td>2024-01-11T05:30:00Z</td>\n",
       "      <td>600.00</td>\n",
       "      <td>600.00</td>\n",
       "      <td>...</td>\n",
       "      <td>1.00</td>\n",
       "      <td>Paid</td>\n",
       "      <td>Szk0GRc</td>\n",
       "      <td>PAYMENT</td>\n",
       "      <td>NaN</td>\n",
       "      <td>NaN</td>\n",
       "      <td>NaN</td>\n",
       "      <td>NaN</td>\n",
       "      <td>NaN</td>\n",
       "      <td>SETTLEMENT_MASTER_LOG_MSI_DATE ENERO 2024.tsv</td>\n",
       "    </tr>\n",
       "    <tr>\n",
       "      <th>2</th>\n",
       "      <td>516406aa-da43-5ae4-931e-6df42978ee05</td>\n",
       "      <td>1eb96f55-a658-4cc0-b391-d125632888ac</td>\n",
       "      <td>6a97f2b3-c24f-4ea7-8120-63d964769415</td>\n",
       "      <td>6a97f2b3-c24f-4ea7-8120-63d964769415</td>\n",
       "      <td>STL_PCS_RQ</td>\n",
       "      <td>REGULAR_PAYMENT</td>\n",
       "      <td>2024-01-10T23:42:50Z</td>\n",
       "      <td>2024-01-11T05:30:00Z</td>\n",
       "      <td>354.00</td>\n",
       "      <td>354.00</td>\n",
       "      <td>...</td>\n",
       "      <td>1.00</td>\n",
       "      <td>Paid</td>\n",
       "      <td>pyyalb4</td>\n",
       "      <td>PAYMENT</td>\n",
       "      <td>NaN</td>\n",
       "      <td>NaN</td>\n",
       "      <td>NaN</td>\n",
       "      <td>NaN</td>\n",
       "      <td>NaN</td>\n",
       "      <td>SETTLEMENT_MASTER_LOG_MSI_DATE ENERO 2024.tsv</td>\n",
       "    </tr>\n",
       "    <tr>\n",
       "      <th>3</th>\n",
       "      <td>4fa926ad-7739-5b5b-b856-560d97513aba</td>\n",
       "      <td>a8328d17-4ce6-4020-a25a-aa31634d2e2e</td>\n",
       "      <td>f35541b5-549a-4a94-92c7-f16485ccc44b</td>\n",
       "      <td>f35541b5-549a-4a94-92c7-f16485ccc44b</td>\n",
       "      <td>STL_PCS_RQ</td>\n",
       "      <td>REGULAR_PAYMENT</td>\n",
       "      <td>2024-01-10T23:34:29Z</td>\n",
       "      <td>2024-01-11T05:30:00Z</td>\n",
       "      <td>83.00</td>\n",
       "      <td>83.00</td>\n",
       "      <td>...</td>\n",
       "      <td>1.00</td>\n",
       "      <td>Paid</td>\n",
       "      <td>8rT0oCt</td>\n",
       "      <td>PAYMENT</td>\n",
       "      <td>NaN</td>\n",
       "      <td>NaN</td>\n",
       "      <td>NaN</td>\n",
       "      <td>NaN</td>\n",
       "      <td>NaN</td>\n",
       "      <td>SETTLEMENT_MASTER_LOG_MSI_DATE ENERO 2024.tsv</td>\n",
       "    </tr>\n",
       "    <tr>\n",
       "      <th>4</th>\n",
       "      <td>06551abf-c44e-55b6-8d77-1b760567ee05</td>\n",
       "      <td>28429aef-15c3-4131-b9f8-3cd3b203526c</td>\n",
       "      <td>7458b587-6279-4c80-ba12-7d466702ba03</td>\n",
       "      <td>7458b587-6279-4c80-ba12-7d466702ba03</td>\n",
       "      <td>STL_PCS_RQ</td>\n",
       "      <td>REGULAR_PAYMENT</td>\n",
       "      <td>2024-01-10T23:58:47Z</td>\n",
       "      <td>2024-01-11T05:30:00Z</td>\n",
       "      <td>48.00</td>\n",
       "      <td>48.00</td>\n",
       "      <td>...</td>\n",
       "      <td>1.00</td>\n",
       "      <td>Paid</td>\n",
       "      <td>HHaZ9bF</td>\n",
       "      <td>PAYMENT</td>\n",
       "      <td>NaN</td>\n",
       "      <td>NaN</td>\n",
       "      <td>NaN</td>\n",
       "      <td>NaN</td>\n",
       "      <td>NaN</td>\n",
       "      <td>SETTLEMENT_MASTER_LOG_MSI_DATE ENERO 2024.tsv</td>\n",
       "    </tr>\n",
       "  </tbody>\n",
       "</table>\n",
       "<p>5 rows × 26 columns</p>\n",
       "</div>"
      ],
      "text/plain": [
       "                            record_uuid                           merchant_id  \\\n",
       "0  492eb020-eb61-5694-af70-e018f7a3e56e  73961c21-32ad-4449-b1e4-52c4a3c982cc   \n",
       "1  5167cef9-35f3-5ad5-a1db-bc3ffa38ff8b  dc1c1ba2-0bff-40c6-82e1-405f9f0ee8d8   \n",
       "2  516406aa-da43-5ae4-931e-6df42978ee05  1eb96f55-a658-4cc0-b391-d125632888ac   \n",
       "3  4fa926ad-7739-5b5b-b856-560d97513aba  a8328d17-4ce6-4020-a25a-aa31634d2e2e   \n",
       "4  06551abf-c44e-55b6-8d77-1b760567ee05  28429aef-15c3-4131-b9f8-3cd3b203526c   \n",
       "\n",
       "                         transaction_id                               mvnt_id  \\\n",
       "0  459bbc73-853a-4d25-8409-ff087c01deaa  459bbc73-853a-4d25-8409-ff087c01deaa   \n",
       "1  5b323756-df36-4906-9227-c6eb9f01ef36  5b323756-df36-4906-9227-c6eb9f01ef36   \n",
       "2  6a97f2b3-c24f-4ea7-8120-63d964769415  6a97f2b3-c24f-4ea7-8120-63d964769415   \n",
       "3  f35541b5-549a-4a94-92c7-f16485ccc44b  f35541b5-549a-4a94-92c7-f16485ccc44b   \n",
       "4  7458b587-6279-4c80-ba12-7d466702ba03  7458b587-6279-4c80-ba12-7d466702ba03   \n",
       "\n",
       "    mvnt_type         pymt_prg            created_at                eff_dt  \\\n",
       "0  STL_PCS_RQ  REGULAR_PAYMENT  2024-01-10T23:31:08Z  2024-01-11T05:30:00Z   \n",
       "1  STL_PCS_RQ  REGULAR_PAYMENT  2024-01-10T23:08:40Z  2024-01-11T05:30:00Z   \n",
       "2  STL_PCS_RQ  REGULAR_PAYMENT  2024-01-10T23:42:50Z  2024-01-11T05:30:00Z   \n",
       "3  STL_PCS_RQ  REGULAR_PAYMENT  2024-01-10T23:34:29Z  2024-01-11T05:30:00Z   \n",
       "4  STL_PCS_RQ  REGULAR_PAYMENT  2024-01-10T23:58:47Z  2024-01-11T05:30:00Z   \n",
       "\n",
       "   psp_amount  gross_amount  ...  status_code  status_msg  receipt_no  \\\n",
       "0    2,568.00      2,568.00  ...         1.00        Paid     XFXVG19   \n",
       "1      600.00        600.00  ...         1.00        Paid     Szk0GRc   \n",
       "2      354.00        354.00  ...         1.00        Paid     pyyalb4   \n",
       "3       83.00         83.00  ...         1.00        Paid     8rT0oCt   \n",
       "4       48.00         48.00  ...         1.00        Paid     HHaZ9bF   \n",
       "\n",
       "      type  dcc_amount  dcc_rate  dcc_status cc_nb_currency_code nu_markup  \\\n",
       "0  PAYMENT         NaN       NaN         NaN                 NaN       NaN   \n",
       "1  PAYMENT         NaN       NaN         NaN                 NaN       NaN   \n",
       "2  PAYMENT         NaN       NaN         NaN                 NaN       NaN   \n",
       "3  PAYMENT         NaN       NaN         NaN                 NaN       NaN   \n",
       "4  PAYMENT         NaN       NaN         NaN                 NaN       NaN   \n",
       "\n",
       "                                       file_name  \n",
       "0  SETTLEMENT_MASTER_LOG_MSI_DATE ENERO 2024.tsv  \n",
       "1  SETTLEMENT_MASTER_LOG_MSI_DATE ENERO 2024.tsv  \n",
       "2  SETTLEMENT_MASTER_LOG_MSI_DATE ENERO 2024.tsv  \n",
       "3  SETTLEMENT_MASTER_LOG_MSI_DATE ENERO 2024.tsv  \n",
       "4  SETTLEMENT_MASTER_LOG_MSI_DATE ENERO 2024.tsv  \n",
       "\n",
       "[5 rows x 26 columns]"
      ]
     },
     "execution_count": 5,
     "metadata": {},
     "output_type": "execute_result"
    }
   ],
   "source": [
    "sml = pd.concat([pd.read_csv(f,sep='\\t').assign(file_name=os.path.basename(f)) for f in sml_files])\n",
    "sml.columns = sml.columns.str.strip().str.lower()\n",
    "sml.replace('\"\"','', regex=True, inplace=True)\n",
    "# sml['created_at'] = pd.to_datetime(sml['created_at']).dt.tz_localize(None)\n",
    "# sml['eff_dt'] = pd.to_datetime(sml['eff_dt']).dt.tz_localize(None)\n",
    "# sml.rename(columns={'ref_id':'transaction_id'},inplace=True)\n",
    "#sml['PK'] = sml['PK'].replace('M#','',inplace=True)\n",
    "sml.head()"
   ]
  },
  {
   "cell_type": "code",
   "execution_count": 6,
   "id": "bb5c429d",
   "metadata": {},
   "outputs": [
    {
     "data": {
      "text/plain": [
       "(9998453, 26)"
      ]
     },
     "execution_count": 6,
     "metadata": {},
     "output_type": "execute_result"
    }
   ],
   "source": [
    "sml.shape"
   ]
  },
  {
   "cell_type": "code",
   "execution_count": 7,
   "id": "aae153e9",
   "metadata": {},
   "outputs": [
    {
     "data": {
      "text/plain": [
       "record_uuid             object\n",
       "merchant_id             object\n",
       "transaction_id          object\n",
       "mvnt_id                 object\n",
       "mvnt_type               object\n",
       "pymt_prg                object\n",
       "created_at              object\n",
       "eff_dt                  object\n",
       "psp_amount             float64\n",
       "gross_amount           float64\n",
       "fees                   float64\n",
       "taxes                  float64\n",
       "net_amount             float64\n",
       "mdr                    float64\n",
       "msi                    float64\n",
       "number_msi             float64\n",
       "status_code            float64\n",
       "status_msg              object\n",
       "receipt_no              object\n",
       "type                    object\n",
       "dcc_amount             float64\n",
       "dcc_rate               float64\n",
       "dcc_status              object\n",
       "cc_nb_currency_code     object\n",
       "nu_markup              float64\n",
       "file_name               object\n",
       "dtype: object"
      ]
     },
     "execution_count": 7,
     "metadata": {},
     "output_type": "execute_result"
    }
   ],
   "source": [
    "sml.dtypes"
   ]
  },
  {
   "cell_type": "code",
   "execution_count": 8,
   "id": "0aee293f",
   "metadata": {},
   "outputs": [
    {
     "data": {
      "text/html": [
       "<div>\n",
       "<style scoped>\n",
       "    .dataframe tbody tr th:only-of-type {\n",
       "        vertical-align: middle;\n",
       "    }\n",
       "\n",
       "    .dataframe tbody tr th {\n",
       "        vertical-align: top;\n",
       "    }\n",
       "\n",
       "    .dataframe thead th {\n",
       "        text-align: right;\n",
       "    }\n",
       "</style>\n",
       "<table border=\"1\" class=\"dataframe\">\n",
       "  <thead>\n",
       "    <tr style=\"text-align: right;\">\n",
       "      <th></th>\n",
       "      <th>record_uuid</th>\n",
       "      <th>merchant_id</th>\n",
       "      <th>transaction_id</th>\n",
       "      <th>mvnt_id</th>\n",
       "      <th>mvnt_type</th>\n",
       "      <th>pymt_prg</th>\n",
       "      <th>created_at</th>\n",
       "      <th>eff_dt</th>\n",
       "      <th>psp_amount</th>\n",
       "      <th>gross_amount</th>\n",
       "      <th>...</th>\n",
       "      <th>status_code</th>\n",
       "      <th>status_msg</th>\n",
       "      <th>receipt_no</th>\n",
       "      <th>type</th>\n",
       "      <th>dcc_amount</th>\n",
       "      <th>dcc_rate</th>\n",
       "      <th>dcc_status</th>\n",
       "      <th>cc_nb_currency_code</th>\n",
       "      <th>nu_markup</th>\n",
       "      <th>file_name</th>\n",
       "    </tr>\n",
       "  </thead>\n",
       "  <tbody>\n",
       "    <tr>\n",
       "      <th>0</th>\n",
       "      <td>492eb020-eb61-5694-af70-e018f7a3e56e</td>\n",
       "      <td>73961c21-32ad-4449-b1e4-52c4a3c982cc</td>\n",
       "      <td>459bbc73-853a-4d25-8409-ff087c01deaa</td>\n",
       "      <td>459bbc73-853a-4d25-8409-ff087c01deaa</td>\n",
       "      <td>STL_PCS_RQ</td>\n",
       "      <td>REGULAR_PAYMENT</td>\n",
       "      <td>2024-01-10T23:31:08Z</td>\n",
       "      <td>2024-01-11T05:30:00Z</td>\n",
       "      <td>2,568.00</td>\n",
       "      <td>2,568.00</td>\n",
       "      <td>...</td>\n",
       "      <td>1.00</td>\n",
       "      <td>Paid</td>\n",
       "      <td>XFXVG19</td>\n",
       "      <td>PAYMENT</td>\n",
       "      <td>NaN</td>\n",
       "      <td>NaN</td>\n",
       "      <td>NaN</td>\n",
       "      <td>NaN</td>\n",
       "      <td>NaN</td>\n",
       "      <td>SETTLEMENT_MASTER_LOG_MSI_DATE ENERO 2024.tsv</td>\n",
       "    </tr>\n",
       "    <tr>\n",
       "      <th>1</th>\n",
       "      <td>5167cef9-35f3-5ad5-a1db-bc3ffa38ff8b</td>\n",
       "      <td>dc1c1ba2-0bff-40c6-82e1-405f9f0ee8d8</td>\n",
       "      <td>5b323756-df36-4906-9227-c6eb9f01ef36</td>\n",
       "      <td>5b323756-df36-4906-9227-c6eb9f01ef36</td>\n",
       "      <td>STL_PCS_RQ</td>\n",
       "      <td>REGULAR_PAYMENT</td>\n",
       "      <td>2024-01-10T23:08:40Z</td>\n",
       "      <td>2024-01-11T05:30:00Z</td>\n",
       "      <td>600.00</td>\n",
       "      <td>600.00</td>\n",
       "      <td>...</td>\n",
       "      <td>1.00</td>\n",
       "      <td>Paid</td>\n",
       "      <td>Szk0GRc</td>\n",
       "      <td>PAYMENT</td>\n",
       "      <td>NaN</td>\n",
       "      <td>NaN</td>\n",
       "      <td>NaN</td>\n",
       "      <td>NaN</td>\n",
       "      <td>NaN</td>\n",
       "      <td>SETTLEMENT_MASTER_LOG_MSI_DATE ENERO 2024.tsv</td>\n",
       "    </tr>\n",
       "    <tr>\n",
       "      <th>2</th>\n",
       "      <td>516406aa-da43-5ae4-931e-6df42978ee05</td>\n",
       "      <td>1eb96f55-a658-4cc0-b391-d125632888ac</td>\n",
       "      <td>6a97f2b3-c24f-4ea7-8120-63d964769415</td>\n",
       "      <td>6a97f2b3-c24f-4ea7-8120-63d964769415</td>\n",
       "      <td>STL_PCS_RQ</td>\n",
       "      <td>REGULAR_PAYMENT</td>\n",
       "      <td>2024-01-10T23:42:50Z</td>\n",
       "      <td>2024-01-11T05:30:00Z</td>\n",
       "      <td>354.00</td>\n",
       "      <td>354.00</td>\n",
       "      <td>...</td>\n",
       "      <td>1.00</td>\n",
       "      <td>Paid</td>\n",
       "      <td>pyyalb4</td>\n",
       "      <td>PAYMENT</td>\n",
       "      <td>NaN</td>\n",
       "      <td>NaN</td>\n",
       "      <td>NaN</td>\n",
       "      <td>NaN</td>\n",
       "      <td>NaN</td>\n",
       "      <td>SETTLEMENT_MASTER_LOG_MSI_DATE ENERO 2024.tsv</td>\n",
       "    </tr>\n",
       "    <tr>\n",
       "      <th>3</th>\n",
       "      <td>4fa926ad-7739-5b5b-b856-560d97513aba</td>\n",
       "      <td>a8328d17-4ce6-4020-a25a-aa31634d2e2e</td>\n",
       "      <td>f35541b5-549a-4a94-92c7-f16485ccc44b</td>\n",
       "      <td>f35541b5-549a-4a94-92c7-f16485ccc44b</td>\n",
       "      <td>STL_PCS_RQ</td>\n",
       "      <td>REGULAR_PAYMENT</td>\n",
       "      <td>2024-01-10T23:34:29Z</td>\n",
       "      <td>2024-01-11T05:30:00Z</td>\n",
       "      <td>83.00</td>\n",
       "      <td>83.00</td>\n",
       "      <td>...</td>\n",
       "      <td>1.00</td>\n",
       "      <td>Paid</td>\n",
       "      <td>8rT0oCt</td>\n",
       "      <td>PAYMENT</td>\n",
       "      <td>NaN</td>\n",
       "      <td>NaN</td>\n",
       "      <td>NaN</td>\n",
       "      <td>NaN</td>\n",
       "      <td>NaN</td>\n",
       "      <td>SETTLEMENT_MASTER_LOG_MSI_DATE ENERO 2024.tsv</td>\n",
       "    </tr>\n",
       "    <tr>\n",
       "      <th>4</th>\n",
       "      <td>06551abf-c44e-55b6-8d77-1b760567ee05</td>\n",
       "      <td>28429aef-15c3-4131-b9f8-3cd3b203526c</td>\n",
       "      <td>7458b587-6279-4c80-ba12-7d466702ba03</td>\n",
       "      <td>7458b587-6279-4c80-ba12-7d466702ba03</td>\n",
       "      <td>STL_PCS_RQ</td>\n",
       "      <td>REGULAR_PAYMENT</td>\n",
       "      <td>2024-01-10T23:58:47Z</td>\n",
       "      <td>2024-01-11T05:30:00Z</td>\n",
       "      <td>48.00</td>\n",
       "      <td>48.00</td>\n",
       "      <td>...</td>\n",
       "      <td>1.00</td>\n",
       "      <td>Paid</td>\n",
       "      <td>HHaZ9bF</td>\n",
       "      <td>PAYMENT</td>\n",
       "      <td>NaN</td>\n",
       "      <td>NaN</td>\n",
       "      <td>NaN</td>\n",
       "      <td>NaN</td>\n",
       "      <td>NaN</td>\n",
       "      <td>SETTLEMENT_MASTER_LOG_MSI_DATE ENERO 2024.tsv</td>\n",
       "    </tr>\n",
       "  </tbody>\n",
       "</table>\n",
       "<p>5 rows × 26 columns</p>\n",
       "</div>"
      ],
      "text/plain": [
       "                            record_uuid                           merchant_id  \\\n",
       "0  492eb020-eb61-5694-af70-e018f7a3e56e  73961c21-32ad-4449-b1e4-52c4a3c982cc   \n",
       "1  5167cef9-35f3-5ad5-a1db-bc3ffa38ff8b  dc1c1ba2-0bff-40c6-82e1-405f9f0ee8d8   \n",
       "2  516406aa-da43-5ae4-931e-6df42978ee05  1eb96f55-a658-4cc0-b391-d125632888ac   \n",
       "3  4fa926ad-7739-5b5b-b856-560d97513aba  a8328d17-4ce6-4020-a25a-aa31634d2e2e   \n",
       "4  06551abf-c44e-55b6-8d77-1b760567ee05  28429aef-15c3-4131-b9f8-3cd3b203526c   \n",
       "\n",
       "                         transaction_id                               mvnt_id  \\\n",
       "0  459bbc73-853a-4d25-8409-ff087c01deaa  459bbc73-853a-4d25-8409-ff087c01deaa   \n",
       "1  5b323756-df36-4906-9227-c6eb9f01ef36  5b323756-df36-4906-9227-c6eb9f01ef36   \n",
       "2  6a97f2b3-c24f-4ea7-8120-63d964769415  6a97f2b3-c24f-4ea7-8120-63d964769415   \n",
       "3  f35541b5-549a-4a94-92c7-f16485ccc44b  f35541b5-549a-4a94-92c7-f16485ccc44b   \n",
       "4  7458b587-6279-4c80-ba12-7d466702ba03  7458b587-6279-4c80-ba12-7d466702ba03   \n",
       "\n",
       "    mvnt_type         pymt_prg            created_at                eff_dt  \\\n",
       "0  STL_PCS_RQ  REGULAR_PAYMENT  2024-01-10T23:31:08Z  2024-01-11T05:30:00Z   \n",
       "1  STL_PCS_RQ  REGULAR_PAYMENT  2024-01-10T23:08:40Z  2024-01-11T05:30:00Z   \n",
       "2  STL_PCS_RQ  REGULAR_PAYMENT  2024-01-10T23:42:50Z  2024-01-11T05:30:00Z   \n",
       "3  STL_PCS_RQ  REGULAR_PAYMENT  2024-01-10T23:34:29Z  2024-01-11T05:30:00Z   \n",
       "4  STL_PCS_RQ  REGULAR_PAYMENT  2024-01-10T23:58:47Z  2024-01-11T05:30:00Z   \n",
       "\n",
       "   psp_amount  gross_amount  ...  status_code  status_msg  receipt_no  \\\n",
       "0    2,568.00      2,568.00  ...         1.00        Paid     XFXVG19   \n",
       "1      600.00        600.00  ...         1.00        Paid     Szk0GRc   \n",
       "2      354.00        354.00  ...         1.00        Paid     pyyalb4   \n",
       "3       83.00         83.00  ...         1.00        Paid     8rT0oCt   \n",
       "4       48.00         48.00  ...         1.00        Paid     HHaZ9bF   \n",
       "\n",
       "      type  dcc_amount  dcc_rate  dcc_status cc_nb_currency_code nu_markup  \\\n",
       "0  PAYMENT         NaN       NaN         NaN                 NaN       NaN   \n",
       "1  PAYMENT         NaN       NaN         NaN                 NaN       NaN   \n",
       "2  PAYMENT         NaN       NaN         NaN                 NaN       NaN   \n",
       "3  PAYMENT         NaN       NaN         NaN                 NaN       NaN   \n",
       "4  PAYMENT         NaN       NaN         NaN                 NaN       NaN   \n",
       "\n",
       "                                       file_name  \n",
       "0  SETTLEMENT_MASTER_LOG_MSI_DATE ENERO 2024.tsv  \n",
       "1  SETTLEMENT_MASTER_LOG_MSI_DATE ENERO 2024.tsv  \n",
       "2  SETTLEMENT_MASTER_LOG_MSI_DATE ENERO 2024.tsv  \n",
       "3  SETTLEMENT_MASTER_LOG_MSI_DATE ENERO 2024.tsv  \n",
       "4  SETTLEMENT_MASTER_LOG_MSI_DATE ENERO 2024.tsv  \n",
       "\n",
       "[5 rows x 26 columns]"
      ]
     },
     "execution_count": 8,
     "metadata": {},
     "output_type": "execute_result"
    }
   ],
   "source": [
    "sml_final = sml[(sml['mvnt_type'] == 'STL_PCS_RQ')]\n",
    "sml_final.head()"
   ]
  },
  {
   "cell_type": "code",
   "execution_count": 9,
   "id": "f0afff80",
   "metadata": {},
   "outputs": [
    {
     "data": {
      "text/plain": [
       "(9998453, 26)"
      ]
     },
     "execution_count": 9,
     "metadata": {},
     "output_type": "execute_result"
    }
   ],
   "source": [
    "sml_final.shape"
   ]
  },
  {
   "cell_type": "code",
   "execution_count": 10,
   "id": "b1ab3119",
   "metadata": {},
   "outputs": [
    {
     "data": {
      "text/html": [
       "<div>\n",
       "<style scoped>\n",
       "    .dataframe tbody tr th:only-of-type {\n",
       "        vertical-align: middle;\n",
       "    }\n",
       "\n",
       "    .dataframe tbody tr th {\n",
       "        vertical-align: top;\n",
       "    }\n",
       "\n",
       "    .dataframe thead th {\n",
       "        text-align: right;\n",
       "    }\n",
       "</style>\n",
       "<table border=\"1\" class=\"dataframe\">\n",
       "  <thead>\n",
       "    <tr style=\"text-align: right;\">\n",
       "      <th></th>\n",
       "      <th>record_uuid</th>\n",
       "      <th>merchant_id</th>\n",
       "      <th>transaction_id</th>\n",
       "      <th>mvnt_id</th>\n",
       "      <th>mvnt_type</th>\n",
       "      <th>pymt_prg</th>\n",
       "      <th>created_at</th>\n",
       "      <th>eff_dt</th>\n",
       "      <th>psp_amount</th>\n",
       "      <th>gross_amount</th>\n",
       "      <th>...</th>\n",
       "      <th>status_code</th>\n",
       "      <th>status_msg</th>\n",
       "      <th>receipt_no</th>\n",
       "      <th>type</th>\n",
       "      <th>dcc_amount</th>\n",
       "      <th>dcc_rate</th>\n",
       "      <th>dcc_status</th>\n",
       "      <th>cc_nb_currency_code</th>\n",
       "      <th>nu_markup</th>\n",
       "      <th>file_name</th>\n",
       "    </tr>\n",
       "  </thead>\n",
       "  <tbody>\n",
       "  </tbody>\n",
       "</table>\n",
       "<p>0 rows × 26 columns</p>\n",
       "</div>"
      ],
      "text/plain": [
       "Empty DataFrame\n",
       "Columns: [record_uuid, merchant_id, transaction_id, mvnt_id, mvnt_type, pymt_prg, created_at, eff_dt, psp_amount, gross_amount, fees, taxes, net_amount, mdr, msi, number_msi, status_code, status_msg, receipt_no, type, dcc_amount, dcc_rate, dcc_status, cc_nb_currency_code, nu_markup, file_name]\n",
       "Index: []\n",
       "\n",
       "[0 rows x 26 columns]"
      ]
     },
     "execution_count": 10,
     "metadata": {},
     "output_type": "execute_result"
    }
   ],
   "source": [
    "duplicates_sml = sml_final[sml_final.duplicated(['mvnt_id'] , keep=False)]\n",
    "duplicates_sml.head()"
   ]
  },
  {
   "cell_type": "code",
   "execution_count": 11,
   "id": "cd377d18",
   "metadata": {},
   "outputs": [
    {
     "data": {
      "text/plain": [
       "(0, 26)"
      ]
     },
     "execution_count": 11,
     "metadata": {},
     "output_type": "execute_result"
    }
   ],
   "source": [
    "duplicates_sml.shape"
   ]
  },
  {
   "cell_type": "code",
   "execution_count": 12,
   "id": "782e226f",
   "metadata": {},
   "outputs": [
    {
     "data": {
      "text/plain": [
       "['DIGITAL_ACCOUNT', 'FAST_PAYMENT', 'REGULAR_PAYMENT']"
      ]
     },
     "execution_count": 12,
     "metadata": {},
     "output_type": "execute_result"
    }
   ],
   "source": [
    "sorted(list(sml_final['pymt_prg'].unique()))"
   ]
  },
  {
   "cell_type": "code",
   "execution_count": 13,
   "id": "9fe9716a-f44e-4fc5-a1df-b6436cf887e8",
   "metadata": {},
   "outputs": [
    {
     "data": {
      "text/html": [
       "<div>\n",
       "<style scoped>\n",
       "    .dataframe tbody tr th:only-of-type {\n",
       "        vertical-align: middle;\n",
       "    }\n",
       "\n",
       "    .dataframe tbody tr th {\n",
       "        vertical-align: top;\n",
       "    }\n",
       "\n",
       "    .dataframe thead th {\n",
       "        text-align: right;\n",
       "    }\n",
       "</style>\n",
       "<table border=\"1\" class=\"dataframe\">\n",
       "  <thead>\n",
       "    <tr style=\"text-align: right;\">\n",
       "      <th></th>\n",
       "      <th>record_uuid</th>\n",
       "      <th>merchant_id</th>\n",
       "      <th>transaction_id</th>\n",
       "      <th>mvnt_id</th>\n",
       "      <th>mvnt_type</th>\n",
       "      <th>pymt_prg</th>\n",
       "      <th>created_at</th>\n",
       "      <th>eff_dt</th>\n",
       "      <th>psp_amount</th>\n",
       "      <th>gross_amount</th>\n",
       "      <th>...</th>\n",
       "      <th>status_code</th>\n",
       "      <th>status_msg</th>\n",
       "      <th>receipt_no</th>\n",
       "      <th>type</th>\n",
       "      <th>dcc_amount</th>\n",
       "      <th>dcc_rate</th>\n",
       "      <th>dcc_status</th>\n",
       "      <th>cc_nb_currency_code</th>\n",
       "      <th>nu_markup</th>\n",
       "      <th>file_name</th>\n",
       "    </tr>\n",
       "  </thead>\n",
       "  <tbody>\n",
       "    <tr>\n",
       "      <th>42304</th>\n",
       "      <td>bba156b3-9e40-5a5f-a84c-fe5f0d012b75</td>\n",
       "      <td>11055d4d-be9c-4308-be06-da7501ec94bb</td>\n",
       "      <td>63271f54-0a59-47b0-945d-3d87d3581ff9</td>\n",
       "      <td>63271f54-0a59-47b0-945d-3d87d3581ff9</td>\n",
       "      <td>STL_PCS_RQ</td>\n",
       "      <td>DIGITAL_ACCOUNT</td>\n",
       "      <td>2024-01-05T18:42:13Z</td>\n",
       "      <td>2024-01-06T18:00:00Z</td>\n",
       "      <td>280.00</td>\n",
       "      <td>280.00</td>\n",
       "      <td>...</td>\n",
       "      <td>1.00</td>\n",
       "      <td>Paid</td>\n",
       "      <td>vsSgX35</td>\n",
       "      <td>PAYMENT</td>\n",
       "      <td>NaN</td>\n",
       "      <td>NaN</td>\n",
       "      <td>NaN</td>\n",
       "      <td>NaN</td>\n",
       "      <td>NaN</td>\n",
       "      <td>SETTLEMENT_MASTER_LOG_MSI_DATE ENERO 2024.tsv</td>\n",
       "    </tr>\n",
       "    <tr>\n",
       "      <th>49699</th>\n",
       "      <td>41f41f34-a671-52f9-b024-1fa0a23f6acc</td>\n",
       "      <td>13e050a4-91a1-43d1-9eb7-df35c63e7418</td>\n",
       "      <td>c2176a5a-554d-4537-ae7c-8912eeed8a15</td>\n",
       "      <td>c2176a5a-554d-4537-ae7c-8912eeed8a15</td>\n",
       "      <td>STL_PCS_RQ</td>\n",
       "      <td>DIGITAL_ACCOUNT</td>\n",
       "      <td>2024-01-05T12:55:48Z</td>\n",
       "      <td>2024-01-05T12:55:48Z</td>\n",
       "      <td>191.00</td>\n",
       "      <td>191.00</td>\n",
       "      <td>...</td>\n",
       "      <td>1.00</td>\n",
       "      <td>Paid</td>\n",
       "      <td>p5MUfW8</td>\n",
       "      <td>PAYMENT</td>\n",
       "      <td>NaN</td>\n",
       "      <td>NaN</td>\n",
       "      <td>NaN</td>\n",
       "      <td>NaN</td>\n",
       "      <td>NaN</td>\n",
       "      <td>SETTLEMENT_MASTER_LOG_MSI_DATE ENERO 2024.tsv</td>\n",
       "    </tr>\n",
       "    <tr>\n",
       "      <th>88800</th>\n",
       "      <td>b1dde906-40f5-5cc4-90c8-aaca78b6cbbe</td>\n",
       "      <td>99d2f794-ec17-4ba4-925b-75db3299f4bb</td>\n",
       "      <td>a3cac821-71b5-4a7b-9467-de3160139b8a</td>\n",
       "      <td>a3cac821-71b5-4a7b-9467-de3160139b8a</td>\n",
       "      <td>STL_PCS_RQ</td>\n",
       "      <td>DIGITAL_ACCOUNT</td>\n",
       "      <td>2024-01-10T12:27:45Z</td>\n",
       "      <td>2024-01-10T12:27:44Z</td>\n",
       "      <td>100.00</td>\n",
       "      <td>100.00</td>\n",
       "      <td>...</td>\n",
       "      <td>1.00</td>\n",
       "      <td>Paid</td>\n",
       "      <td>deAueN2</td>\n",
       "      <td>PAYMENT</td>\n",
       "      <td>NaN</td>\n",
       "      <td>NaN</td>\n",
       "      <td>NaN</td>\n",
       "      <td>NaN</td>\n",
       "      <td>NaN</td>\n",
       "      <td>SETTLEMENT_MASTER_LOG_MSI_DATE ENERO 2024.tsv</td>\n",
       "    </tr>\n",
       "    <tr>\n",
       "      <th>92814</th>\n",
       "      <td>f5a1b5c5-bc06-55da-ac9f-4e1b19f09887</td>\n",
       "      <td>0fba7360-6523-456f-84b5-69d1134d5e05</td>\n",
       "      <td>59cd82c3-ea34-4d92-9f9e-295ffa33fece</td>\n",
       "      <td>59cd82c3-ea34-4d92-9f9e-295ffa33fece</td>\n",
       "      <td>STL_PCS_RQ</td>\n",
       "      <td>DIGITAL_ACCOUNT</td>\n",
       "      <td>2024-01-03T21:48:17Z</td>\n",
       "      <td>2024-01-03T21:48:17Z</td>\n",
       "      <td>10,000.00</td>\n",
       "      <td>10,000.00</td>\n",
       "      <td>...</td>\n",
       "      <td>1.00</td>\n",
       "      <td>Paid</td>\n",
       "      <td>7c75Tav</td>\n",
       "      <td>PAYMENT</td>\n",
       "      <td>NaN</td>\n",
       "      <td>NaN</td>\n",
       "      <td>NaN</td>\n",
       "      <td>NaN</td>\n",
       "      <td>NaN</td>\n",
       "      <td>SETTLEMENT_MASTER_LOG_MSI_DATE ENERO 2024.tsv</td>\n",
       "    </tr>\n",
       "    <tr>\n",
       "      <th>118181</th>\n",
       "      <td>7be136d2-896a-5924-97af-e065a544ceb5</td>\n",
       "      <td>e55b709a-f1fc-400f-934d-f0c97763571c</td>\n",
       "      <td>a5395555-74d0-4fa9-9088-46fb34fc758f</td>\n",
       "      <td>a5395555-74d0-4fa9-9088-46fb34fc758f</td>\n",
       "      <td>STL_PCS_RQ</td>\n",
       "      <td>DIGITAL_ACCOUNT</td>\n",
       "      <td>2024-01-08T16:51:02Z</td>\n",
       "      <td>2024-01-08T16:51:01Z</td>\n",
       "      <td>950.00</td>\n",
       "      <td>950.00</td>\n",
       "      <td>...</td>\n",
       "      <td>1.00</td>\n",
       "      <td>Paid</td>\n",
       "      <td>GUk0fKS</td>\n",
       "      <td>PAYMENT</td>\n",
       "      <td>NaN</td>\n",
       "      <td>NaN</td>\n",
       "      <td>NaN</td>\n",
       "      <td>NaN</td>\n",
       "      <td>NaN</td>\n",
       "      <td>SETTLEMENT_MASTER_LOG_MSI_DATE ENERO 2024.tsv</td>\n",
       "    </tr>\n",
       "  </tbody>\n",
       "</table>\n",
       "<p>5 rows × 26 columns</p>\n",
       "</div>"
      ],
      "text/plain": [
       "                                 record_uuid  \\\n",
       "42304   bba156b3-9e40-5a5f-a84c-fe5f0d012b75   \n",
       "49699   41f41f34-a671-52f9-b024-1fa0a23f6acc   \n",
       "88800   b1dde906-40f5-5cc4-90c8-aaca78b6cbbe   \n",
       "92814   f5a1b5c5-bc06-55da-ac9f-4e1b19f09887   \n",
       "118181  7be136d2-896a-5924-97af-e065a544ceb5   \n",
       "\n",
       "                                 merchant_id  \\\n",
       "42304   11055d4d-be9c-4308-be06-da7501ec94bb   \n",
       "49699   13e050a4-91a1-43d1-9eb7-df35c63e7418   \n",
       "88800   99d2f794-ec17-4ba4-925b-75db3299f4bb   \n",
       "92814   0fba7360-6523-456f-84b5-69d1134d5e05   \n",
       "118181  e55b709a-f1fc-400f-934d-f0c97763571c   \n",
       "\n",
       "                              transaction_id  \\\n",
       "42304   63271f54-0a59-47b0-945d-3d87d3581ff9   \n",
       "49699   c2176a5a-554d-4537-ae7c-8912eeed8a15   \n",
       "88800   a3cac821-71b5-4a7b-9467-de3160139b8a   \n",
       "92814   59cd82c3-ea34-4d92-9f9e-295ffa33fece   \n",
       "118181  a5395555-74d0-4fa9-9088-46fb34fc758f   \n",
       "\n",
       "                                     mvnt_id   mvnt_type         pymt_prg  \\\n",
       "42304   63271f54-0a59-47b0-945d-3d87d3581ff9  STL_PCS_RQ  DIGITAL_ACCOUNT   \n",
       "49699   c2176a5a-554d-4537-ae7c-8912eeed8a15  STL_PCS_RQ  DIGITAL_ACCOUNT   \n",
       "88800   a3cac821-71b5-4a7b-9467-de3160139b8a  STL_PCS_RQ  DIGITAL_ACCOUNT   \n",
       "92814   59cd82c3-ea34-4d92-9f9e-295ffa33fece  STL_PCS_RQ  DIGITAL_ACCOUNT   \n",
       "118181  a5395555-74d0-4fa9-9088-46fb34fc758f  STL_PCS_RQ  DIGITAL_ACCOUNT   \n",
       "\n",
       "                  created_at                eff_dt  psp_amount  gross_amount  \\\n",
       "42304   2024-01-05T18:42:13Z  2024-01-06T18:00:00Z      280.00        280.00   \n",
       "49699   2024-01-05T12:55:48Z  2024-01-05T12:55:48Z      191.00        191.00   \n",
       "88800   2024-01-10T12:27:45Z  2024-01-10T12:27:44Z      100.00        100.00   \n",
       "92814   2024-01-03T21:48:17Z  2024-01-03T21:48:17Z   10,000.00     10,000.00   \n",
       "118181  2024-01-08T16:51:02Z  2024-01-08T16:51:01Z      950.00        950.00   \n",
       "\n",
       "        ...  status_code  status_msg  receipt_no     type  dcc_amount  \\\n",
       "42304   ...         1.00        Paid     vsSgX35  PAYMENT         NaN   \n",
       "49699   ...         1.00        Paid     p5MUfW8  PAYMENT         NaN   \n",
       "88800   ...         1.00        Paid     deAueN2  PAYMENT         NaN   \n",
       "92814   ...         1.00        Paid     7c75Tav  PAYMENT         NaN   \n",
       "118181  ...         1.00        Paid     GUk0fKS  PAYMENT         NaN   \n",
       "\n",
       "        dcc_rate  dcc_status cc_nb_currency_code nu_markup  \\\n",
       "42304        NaN         NaN                 NaN       NaN   \n",
       "49699        NaN         NaN                 NaN       NaN   \n",
       "88800        NaN         NaN                 NaN       NaN   \n",
       "92814        NaN         NaN                 NaN       NaN   \n",
       "118181       NaN         NaN                 NaN       NaN   \n",
       "\n",
       "                                            file_name  \n",
       "42304   SETTLEMENT_MASTER_LOG_MSI_DATE ENERO 2024.tsv  \n",
       "49699   SETTLEMENT_MASTER_LOG_MSI_DATE ENERO 2024.tsv  \n",
       "88800   SETTLEMENT_MASTER_LOG_MSI_DATE ENERO 2024.tsv  \n",
       "92814   SETTLEMENT_MASTER_LOG_MSI_DATE ENERO 2024.tsv  \n",
       "118181  SETTLEMENT_MASTER_LOG_MSI_DATE ENERO 2024.tsv  \n",
       "\n",
       "[5 rows x 26 columns]"
      ]
     },
     "execution_count": 13,
     "metadata": {},
     "output_type": "execute_result"
    }
   ],
   "source": [
    "sml_dig_acc_final = sml[(sml['pymt_prg'] == 'DIGITAL_ACCOUNT')]\n",
    "sml_dig_acc_final.head()"
   ]
  },
  {
   "cell_type": "code",
   "execution_count": 14,
   "id": "0c6108c3-d8e6-4a86-bd6d-9399a0f5f685",
   "metadata": {},
   "outputs": [
    {
     "data": {
      "text/plain": [
       "(1760, 26)"
      ]
     },
     "execution_count": 14,
     "metadata": {},
     "output_type": "execute_result"
    }
   ],
   "source": [
    "sml_dig_acc_final.shape"
   ]
  },
  {
   "cell_type": "markdown",
   "id": "05244115",
   "metadata": {},
   "source": [
    "# DATA AP JOURNAL"
   ]
  },
  {
   "cell_type": "code",
   "execution_count": 15,
   "id": "2ab36c04",
   "metadata": {},
   "outputs": [
    {
     "data": {
      "text/html": [
       "<div>\n",
       "<style scoped>\n",
       "    .dataframe tbody tr th:only-of-type {\n",
       "        vertical-align: middle;\n",
       "    }\n",
       "\n",
       "    .dataframe tbody tr th {\n",
       "        vertical-align: top;\n",
       "    }\n",
       "\n",
       "    .dataframe thead th {\n",
       "        text-align: right;\n",
       "    }\n",
       "</style>\n",
       "<table border=\"1\" class=\"dataframe\">\n",
       "  <thead>\n",
       "    <tr style=\"text-align: right;\">\n",
       "      <th></th>\n",
       "      <th>merchant_id</th>\n",
       "      <th>amount</th>\n",
       "      <th>currency</th>\n",
       "      <th>type_request</th>\n",
       "      <th>mvnt_id</th>\n",
       "      <th>movement_type</th>\n",
       "      <th>source_type</th>\n",
       "      <th>created_at</th>\n",
       "      <th>eff_dt</th>\n",
       "      <th>movement_day</th>\n",
       "      <th>request_effective_date</th>\n",
       "      <th>slot_date</th>\n",
       "      <th>file_name</th>\n",
       "      <th>eff_dt_date</th>\n",
       "      <th>eff_dt_time</th>\n",
       "    </tr>\n",
       "  </thead>\n",
       "  <tbody>\n",
       "    <tr>\n",
       "      <th>1</th>\n",
       "      <td>0000275f-d46b-4a9c-a227-42d6f7ce63bd</td>\n",
       "      <td>-2,874.72</td>\n",
       "      <td>MXN</td>\n",
       "      <td>ALH6V3JL8</td>\n",
       "      <td>b86a1190-e950-32e2-a35e-f2a73f39c970</td>\n",
       "      <td>DISB_RQ</td>\n",
       "      <td>DISB</td>\n",
       "      <td>2024-01-02 07:13:11</td>\n",
       "      <td>2024-01-02 07:13:16</td>\n",
       "      <td>2024-01-02 07:13:09</td>\n",
       "      <td>2024-01-02 07:05:30</td>\n",
       "      <td>1969-12-31 18:00:00</td>\n",
       "      <td>AP-JOURNAL_DATE ENERO 2024.tsv</td>\n",
       "      <td>2024-01-02</td>\n",
       "      <td>07:13:16</td>\n",
       "    </tr>\n",
       "    <tr>\n",
       "      <th>0</th>\n",
       "      <td>0000275f-d46b-4a9c-a227-42d6f7ce63bd</td>\n",
       "      <td>2,874.72</td>\n",
       "      <td>MXN</td>\n",
       "      <td>settlement processor regular payment request</td>\n",
       "      <td>98e7c45d-0f1b-4ea9-a211-773b1a746a85</td>\n",
       "      <td>REGULAR_PYMT_RQ</td>\n",
       "      <td>SETT</td>\n",
       "      <td>2024-01-01 03:59:17</td>\n",
       "      <td>2024-01-02 01:00:00</td>\n",
       "      <td>2024-01-01 03:59:17</td>\n",
       "      <td>2024-01-02 00:30:00</td>\n",
       "      <td>2024-01-02 01:00:00</td>\n",
       "      <td>AP-JOURNAL_DATE ENERO 2024.tsv</td>\n",
       "      <td>2024-01-02</td>\n",
       "      <td>01:00:00</td>\n",
       "    </tr>\n",
       "    <tr>\n",
       "      <th>12</th>\n",
       "      <td>00008e01-812f-487e-8f34-a80bcb0ae3e3</td>\n",
       "      <td>-19,294.12</td>\n",
       "      <td>MXN</td>\n",
       "      <td>A2RVSXTZY</td>\n",
       "      <td>a89a4027-94e4-3b49-88b3-6c6572eb692f</td>\n",
       "      <td>DISB_RQ</td>\n",
       "      <td>DISB</td>\n",
       "      <td>2024-01-17 06:33:04</td>\n",
       "      <td>2024-01-17 06:33:09</td>\n",
       "      <td>2024-01-17 06:32:56</td>\n",
       "      <td>2024-01-17 06:06:57</td>\n",
       "      <td>1969-12-31 18:00:00</td>\n",
       "      <td>AP-JOURNAL_DATE ENERO 2024.tsv</td>\n",
       "      <td>2024-01-17</td>\n",
       "      <td>06:33:09</td>\n",
       "    </tr>\n",
       "    <tr>\n",
       "      <th>11</th>\n",
       "      <td>00008e01-812f-487e-8f34-a80bcb0ae3e3</td>\n",
       "      <td>19,294.12</td>\n",
       "      <td>MXN</td>\n",
       "      <td>settlement processor regular payment request</td>\n",
       "      <td>b076821b-f2fa-4bd6-8752-e6c12cd19816</td>\n",
       "      <td>REGULAR_PYMT_RQ</td>\n",
       "      <td>SETT</td>\n",
       "      <td>2024-01-16 12:43:04</td>\n",
       "      <td>2024-01-17 03:30:00</td>\n",
       "      <td>2024-01-16 12:43:04</td>\n",
       "      <td>2024-01-17 03:00:00</td>\n",
       "      <td>2024-01-17 03:30:00</td>\n",
       "      <td>AP-JOURNAL_DATE ENERO 2024.tsv</td>\n",
       "      <td>2024-01-17</td>\n",
       "      <td>03:30:00</td>\n",
       "    </tr>\n",
       "    <tr>\n",
       "      <th>10</th>\n",
       "      <td>00008e01-812f-487e-8f34-a80bcb0ae3e3</td>\n",
       "      <td>-157,345.82</td>\n",
       "      <td>MXN</td>\n",
       "      <td>AJY6HGG8N</td>\n",
       "      <td>877a8e4a-a78e-33c9-917b-d68200ce8f88</td>\n",
       "      <td>DISB_RQ</td>\n",
       "      <td>DISB</td>\n",
       "      <td>2024-01-15 06:23:01</td>\n",
       "      <td>2024-01-15 06:23:06</td>\n",
       "      <td>2024-01-15 06:22:47</td>\n",
       "      <td>2024-01-15 06:06:36</td>\n",
       "      <td>1969-12-31 18:00:00</td>\n",
       "      <td>AP-JOURNAL_DATE ENERO 2024.tsv</td>\n",
       "      <td>2024-01-15</td>\n",
       "      <td>06:23:06</td>\n",
       "    </tr>\n",
       "  </tbody>\n",
       "</table>\n",
       "</div>"
      ],
      "text/plain": [
       "                             merchant_id      amount currency  \\\n",
       "1   0000275f-d46b-4a9c-a227-42d6f7ce63bd   -2,874.72      MXN   \n",
       "0   0000275f-d46b-4a9c-a227-42d6f7ce63bd    2,874.72      MXN   \n",
       "12  00008e01-812f-487e-8f34-a80bcb0ae3e3  -19,294.12      MXN   \n",
       "11  00008e01-812f-487e-8f34-a80bcb0ae3e3   19,294.12      MXN   \n",
       "10  00008e01-812f-487e-8f34-a80bcb0ae3e3 -157,345.82      MXN   \n",
       "\n",
       "                                    type_request  \\\n",
       "1                                      ALH6V3JL8   \n",
       "0   settlement processor regular payment request   \n",
       "12                                     A2RVSXTZY   \n",
       "11  settlement processor regular payment request   \n",
       "10                                     AJY6HGG8N   \n",
       "\n",
       "                                 mvnt_id    movement_type source_type  \\\n",
       "1   b86a1190-e950-32e2-a35e-f2a73f39c970          DISB_RQ        DISB   \n",
       "0   98e7c45d-0f1b-4ea9-a211-773b1a746a85  REGULAR_PYMT_RQ        SETT   \n",
       "12  a89a4027-94e4-3b49-88b3-6c6572eb692f          DISB_RQ        DISB   \n",
       "11  b076821b-f2fa-4bd6-8752-e6c12cd19816  REGULAR_PYMT_RQ        SETT   \n",
       "10  877a8e4a-a78e-33c9-917b-d68200ce8f88          DISB_RQ        DISB   \n",
       "\n",
       "            created_at              eff_dt        movement_day  \\\n",
       "1  2024-01-02 07:13:11 2024-01-02 07:13:16 2024-01-02 07:13:09   \n",
       "0  2024-01-01 03:59:17 2024-01-02 01:00:00 2024-01-01 03:59:17   \n",
       "12 2024-01-17 06:33:04 2024-01-17 06:33:09 2024-01-17 06:32:56   \n",
       "11 2024-01-16 12:43:04 2024-01-17 03:30:00 2024-01-16 12:43:04   \n",
       "10 2024-01-15 06:23:01 2024-01-15 06:23:06 2024-01-15 06:22:47   \n",
       "\n",
       "   request_effective_date           slot_date                       file_name  \\\n",
       "1     2024-01-02 07:05:30 1969-12-31 18:00:00  AP-JOURNAL_DATE ENERO 2024.tsv   \n",
       "0     2024-01-02 00:30:00 2024-01-02 01:00:00  AP-JOURNAL_DATE ENERO 2024.tsv   \n",
       "12    2024-01-17 06:06:57 1969-12-31 18:00:00  AP-JOURNAL_DATE ENERO 2024.tsv   \n",
       "11    2024-01-17 03:00:00 2024-01-17 03:30:00  AP-JOURNAL_DATE ENERO 2024.tsv   \n",
       "10    2024-01-15 06:06:36 1969-12-31 18:00:00  AP-JOURNAL_DATE ENERO 2024.tsv   \n",
       "\n",
       "   eff_dt_date eff_dt_time  \n",
       "1   2024-01-02    07:13:16  \n",
       "0   2024-01-02    01:00:00  \n",
       "12  2024-01-17    06:33:09  \n",
       "11  2024-01-17    03:30:00  \n",
       "10  2024-01-15    06:23:06  "
      ]
     },
     "execution_count": 15,
     "metadata": {},
     "output_type": "execute_result"
    }
   ],
   "source": [
    "ap = pd.concat([pd.read_csv(f, sep='\\t').assign(file_name=os.path.basename(f)) for f in ap_files])\n",
    "ap.columns = ap.columns.str.strip().str.lower()\n",
    "ap.replace('\"\"','', regex=True, inplace=True)\n",
    "ap['eff_dt'] =  pd.to_datetime(ap['eff_dt']).dt.tz_localize(None)\n",
    "ap['eff_dt_date'] =  pd.to_datetime(ap['eff_dt']).dt.date\n",
    "ap['eff_dt_time'] =  pd.to_datetime(ap['eff_dt']).dt.time\n",
    "ap['eff_dt_date'] =  pd.to_datetime(ap['eff_dt_date']).dt.tz_localize(None)\n",
    "ap['movement_day'] = pd.to_datetime(ap['movement_day']).dt.tz_localize(None)\n",
    "ap['created_at'] = pd.to_datetime(ap['created_at']).dt.tz_localize(None)\n",
    "ap['request_effective_date'] = pd.to_datetime(ap['request_effective_date']).dt.tz_localize(None)\n",
    "ap['slot_date'] = pd.to_datetime(ap['slot_date']).dt.tz_localize(None)\n",
    "# ap['INDEX'] = (ap['eff_dt_date'].astype(str).replace(' ', '',regex=True)+'-'+\n",
    "#                ap['identifier'].astype(str).replace(' ', '',regex=True)+'-'+\n",
    "#                ap['eff_dt_time'].astype(str).replace(' ', '',regex=True))\n",
    "ap.sort_values(by=(['merchant_id','eff_dt']), ascending=[True,False], inplace=True)\n",
    "ap.head()"
   ]
  },
  {
   "cell_type": "code",
   "execution_count": 16,
   "id": "6ea8b44f-183c-45bd-93e5-01228958604e",
   "metadata": {},
   "outputs": [],
   "source": [
    "# for i in range(1, len(ap_dig_acc_movs)):\n",
    "#     ap_dig_acc_movs.loc[i, 'previous_source_type'] = ap_dig_acc_movs.loc[i+1, 'source_type']"
   ]
  },
  {
   "cell_type": "code",
   "execution_count": 17,
   "id": "cfdd51e2",
   "metadata": {},
   "outputs": [
    {
     "data": {
      "text/plain": [
       "(12840992, 15)"
      ]
     },
     "execution_count": 17,
     "metadata": {},
     "output_type": "execute_result"
    }
   ],
   "source": [
    "ap.shape"
   ]
  },
  {
   "cell_type": "code",
   "execution_count": 18,
   "id": "cdc577ee",
   "metadata": {},
   "outputs": [
    {
     "data": {
      "text/plain": [
       "merchant_id                       object\n",
       "amount                           float64\n",
       "currency                          object\n",
       "type_request                      object\n",
       "mvnt_id                           object\n",
       "movement_type                     object\n",
       "source_type                       object\n",
       "created_at                datetime64[ns]\n",
       "eff_dt                    datetime64[ns]\n",
       "movement_day              datetime64[ns]\n",
       "request_effective_date    datetime64[ns]\n",
       "slot_date                 datetime64[ns]\n",
       "file_name                         object\n",
       "eff_dt_date               datetime64[ns]\n",
       "eff_dt_time                       object\n",
       "dtype: object"
      ]
     },
     "execution_count": 18,
     "metadata": {},
     "output_type": "execute_result"
    }
   ],
   "source": [
    "ap.dtypes"
   ]
  },
  {
   "cell_type": "code",
   "execution_count": 19,
   "id": "6bc01cf1-2d50-45d6-a437-94a9440227c1",
   "metadata": {},
   "outputs": [
    {
     "data": {
      "text/plain": [
       "array(['DISB_RQ', 'REGULAR_PYMT_RQ', 'DEFERRED_REGULAR_PYMNT_RQ',\n",
       "       'CANCEL_RQ', 'DIRECT_DEPOSIT_RQ', 'COLLTN_RQ',\n",
       "       'DISPUTE_ADJUSTMENT_RQ', 'CHRBCK_RQ', 'FAST_PYMT_RQ',\n",
       "       'CASHBACK_RQ', 'REVIEW_RQ', 'BILL_PYMNT_RQ', 'LENDER_RQ',\n",
       "       'DWN_PAYMENT_DA_RQ', 'DISPUTE_RQ', 'IT_PYMT_RQ', 'VAT_PYMT_RQ',\n",
       "       'REFUND_PYMT_RQ', 'RELEASE_RQ', 'DEFERRED_FAST_PYMNT_RQ',\n",
       "       'PYMNT_DA_RQ', 'RETURN_LENDER_RQ', 'FUNDING_RQ'], dtype=object)"
      ]
     },
     "execution_count": 19,
     "metadata": {},
     "output_type": "execute_result"
    }
   ],
   "source": [
    "ap['movement_type'].unique()"
   ]
  },
  {
   "cell_type": "code",
   "execution_count": 20,
   "id": "56f6d26e-2781-4de8-82b9-6b512a1fc15a",
   "metadata": {},
   "outputs": [],
   "source": [
    "ap.reset_index(drop=True,inplace=True)"
   ]
  },
  {
   "cell_type": "code",
   "execution_count": 21,
   "id": "8d4ef068-c0bd-4578-8de2-4718b72fed03",
   "metadata": {},
   "outputs": [
    {
     "data": {
      "text/html": [
       "<div>\n",
       "<style scoped>\n",
       "    .dataframe tbody tr th:only-of-type {\n",
       "        vertical-align: middle;\n",
       "    }\n",
       "\n",
       "    .dataframe tbody tr th {\n",
       "        vertical-align: top;\n",
       "    }\n",
       "\n",
       "    .dataframe thead th {\n",
       "        text-align: right;\n",
       "    }\n",
       "</style>\n",
       "<table border=\"1\" class=\"dataframe\">\n",
       "  <thead>\n",
       "    <tr style=\"text-align: right;\">\n",
       "      <th></th>\n",
       "      <th>merchant_id</th>\n",
       "      <th>amount</th>\n",
       "      <th>currency</th>\n",
       "      <th>type_request</th>\n",
       "      <th>mvnt_id</th>\n",
       "      <th>movement_type</th>\n",
       "      <th>source_type</th>\n",
       "      <th>created_at</th>\n",
       "      <th>eff_dt</th>\n",
       "      <th>movement_day</th>\n",
       "      <th>request_effective_date</th>\n",
       "      <th>slot_date</th>\n",
       "      <th>file_name</th>\n",
       "      <th>eff_dt_date</th>\n",
       "      <th>eff_dt_time</th>\n",
       "      <th>report_id</th>\n",
       "    </tr>\n",
       "  </thead>\n",
       "  <tbody>\n",
       "    <tr>\n",
       "      <th>0</th>\n",
       "      <td>0000275f-d46b-4a9c-a227-42d6f7ce63bd</td>\n",
       "      <td>-2,874.72</td>\n",
       "      <td>MXN</td>\n",
       "      <td>ALH6V3JL8</td>\n",
       "      <td>b86a1190-e950-32e2-a35e-f2a73f39c970</td>\n",
       "      <td>DISB_RQ</td>\n",
       "      <td>DISB</td>\n",
       "      <td>2024-01-02 07:13:11</td>\n",
       "      <td>2024-01-02 07:13:16</td>\n",
       "      <td>2024-01-02 07:13:09</td>\n",
       "      <td>2024-01-02 07:05:30</td>\n",
       "      <td>1969-12-31 18:00:00</td>\n",
       "      <td>AP-JOURNAL_DATE ENERO 2024.tsv</td>\n",
       "      <td>2024-01-02</td>\n",
       "      <td>07:13:16</td>\n",
       "      <td>ALH6V3JL8</td>\n",
       "    </tr>\n",
       "    <tr>\n",
       "      <th>1</th>\n",
       "      <td>0000275f-d46b-4a9c-a227-42d6f7ce63bd</td>\n",
       "      <td>2,874.72</td>\n",
       "      <td>MXN</td>\n",
       "      <td>settlement processor regular payment request</td>\n",
       "      <td>98e7c45d-0f1b-4ea9-a211-773b1a746a85</td>\n",
       "      <td>REGULAR_PYMT_RQ</td>\n",
       "      <td>SETT</td>\n",
       "      <td>2024-01-01 03:59:17</td>\n",
       "      <td>2024-01-02 01:00:00</td>\n",
       "      <td>2024-01-01 03:59:17</td>\n",
       "      <td>2024-01-02 00:30:00</td>\n",
       "      <td>2024-01-02 01:00:00</td>\n",
       "      <td>AP-JOURNAL_DATE ENERO 2024.tsv</td>\n",
       "      <td>2024-01-02</td>\n",
       "      <td>01:00:00</td>\n",
       "      <td>ALH6V3JL8</td>\n",
       "    </tr>\n",
       "    <tr>\n",
       "      <th>2</th>\n",
       "      <td>00008e01-812f-487e-8f34-a80bcb0ae3e3</td>\n",
       "      <td>-19,294.12</td>\n",
       "      <td>MXN</td>\n",
       "      <td>A2RVSXTZY</td>\n",
       "      <td>a89a4027-94e4-3b49-88b3-6c6572eb692f</td>\n",
       "      <td>DISB_RQ</td>\n",
       "      <td>DISB</td>\n",
       "      <td>2024-01-17 06:33:04</td>\n",
       "      <td>2024-01-17 06:33:09</td>\n",
       "      <td>2024-01-17 06:32:56</td>\n",
       "      <td>2024-01-17 06:06:57</td>\n",
       "      <td>1969-12-31 18:00:00</td>\n",
       "      <td>AP-JOURNAL_DATE ENERO 2024.tsv</td>\n",
       "      <td>2024-01-17</td>\n",
       "      <td>06:33:09</td>\n",
       "      <td>A2RVSXTZY</td>\n",
       "    </tr>\n",
       "    <tr>\n",
       "      <th>3</th>\n",
       "      <td>00008e01-812f-487e-8f34-a80bcb0ae3e3</td>\n",
       "      <td>19,294.12</td>\n",
       "      <td>MXN</td>\n",
       "      <td>settlement processor regular payment request</td>\n",
       "      <td>b076821b-f2fa-4bd6-8752-e6c12cd19816</td>\n",
       "      <td>REGULAR_PYMT_RQ</td>\n",
       "      <td>SETT</td>\n",
       "      <td>2024-01-16 12:43:04</td>\n",
       "      <td>2024-01-17 03:30:00</td>\n",
       "      <td>2024-01-16 12:43:04</td>\n",
       "      <td>2024-01-17 03:00:00</td>\n",
       "      <td>2024-01-17 03:30:00</td>\n",
       "      <td>AP-JOURNAL_DATE ENERO 2024.tsv</td>\n",
       "      <td>2024-01-17</td>\n",
       "      <td>03:30:00</td>\n",
       "      <td>A2RVSXTZY</td>\n",
       "    </tr>\n",
       "    <tr>\n",
       "      <th>4</th>\n",
       "      <td>00008e01-812f-487e-8f34-a80bcb0ae3e3</td>\n",
       "      <td>-157,345.82</td>\n",
       "      <td>MXN</td>\n",
       "      <td>AJY6HGG8N</td>\n",
       "      <td>877a8e4a-a78e-33c9-917b-d68200ce8f88</td>\n",
       "      <td>DISB_RQ</td>\n",
       "      <td>DISB</td>\n",
       "      <td>2024-01-15 06:23:01</td>\n",
       "      <td>2024-01-15 06:23:06</td>\n",
       "      <td>2024-01-15 06:22:47</td>\n",
       "      <td>2024-01-15 06:06:36</td>\n",
       "      <td>1969-12-31 18:00:00</td>\n",
       "      <td>AP-JOURNAL_DATE ENERO 2024.tsv</td>\n",
       "      <td>2024-01-15</td>\n",
       "      <td>06:23:06</td>\n",
       "      <td>AJY6HGG8N</td>\n",
       "    </tr>\n",
       "  </tbody>\n",
       "</table>\n",
       "</div>"
      ],
      "text/plain": [
       "                            merchant_id      amount currency  \\\n",
       "0  0000275f-d46b-4a9c-a227-42d6f7ce63bd   -2,874.72      MXN   \n",
       "1  0000275f-d46b-4a9c-a227-42d6f7ce63bd    2,874.72      MXN   \n",
       "2  00008e01-812f-487e-8f34-a80bcb0ae3e3  -19,294.12      MXN   \n",
       "3  00008e01-812f-487e-8f34-a80bcb0ae3e3   19,294.12      MXN   \n",
       "4  00008e01-812f-487e-8f34-a80bcb0ae3e3 -157,345.82      MXN   \n",
       "\n",
       "                                   type_request  \\\n",
       "0                                     ALH6V3JL8   \n",
       "1  settlement processor regular payment request   \n",
       "2                                     A2RVSXTZY   \n",
       "3  settlement processor regular payment request   \n",
       "4                                     AJY6HGG8N   \n",
       "\n",
       "                                mvnt_id    movement_type source_type  \\\n",
       "0  b86a1190-e950-32e2-a35e-f2a73f39c970          DISB_RQ        DISB   \n",
       "1  98e7c45d-0f1b-4ea9-a211-773b1a746a85  REGULAR_PYMT_RQ        SETT   \n",
       "2  a89a4027-94e4-3b49-88b3-6c6572eb692f          DISB_RQ        DISB   \n",
       "3  b076821b-f2fa-4bd6-8752-e6c12cd19816  REGULAR_PYMT_RQ        SETT   \n",
       "4  877a8e4a-a78e-33c9-917b-d68200ce8f88          DISB_RQ        DISB   \n",
       "\n",
       "           created_at              eff_dt        movement_day  \\\n",
       "0 2024-01-02 07:13:11 2024-01-02 07:13:16 2024-01-02 07:13:09   \n",
       "1 2024-01-01 03:59:17 2024-01-02 01:00:00 2024-01-01 03:59:17   \n",
       "2 2024-01-17 06:33:04 2024-01-17 06:33:09 2024-01-17 06:32:56   \n",
       "3 2024-01-16 12:43:04 2024-01-17 03:30:00 2024-01-16 12:43:04   \n",
       "4 2024-01-15 06:23:01 2024-01-15 06:23:06 2024-01-15 06:22:47   \n",
       "\n",
       "  request_effective_date           slot_date                       file_name  \\\n",
       "0    2024-01-02 07:05:30 1969-12-31 18:00:00  AP-JOURNAL_DATE ENERO 2024.tsv   \n",
       "1    2024-01-02 00:30:00 2024-01-02 01:00:00  AP-JOURNAL_DATE ENERO 2024.tsv   \n",
       "2    2024-01-17 06:06:57 1969-12-31 18:00:00  AP-JOURNAL_DATE ENERO 2024.tsv   \n",
       "3    2024-01-17 03:00:00 2024-01-17 03:30:00  AP-JOURNAL_DATE ENERO 2024.tsv   \n",
       "4    2024-01-15 06:06:36 1969-12-31 18:00:00  AP-JOURNAL_DATE ENERO 2024.tsv   \n",
       "\n",
       "  eff_dt_date eff_dt_time  report_id  \n",
       "0  2024-01-02    07:13:16  ALH6V3JL8  \n",
       "1  2024-01-02    01:00:00  ALH6V3JL8  \n",
       "2  2024-01-17    06:33:09  A2RVSXTZY  \n",
       "3  2024-01-17    03:30:00  A2RVSXTZY  \n",
       "4  2024-01-15    06:23:06  AJY6HGG8N  "
      ]
     },
     "execution_count": 21,
     "metadata": {},
     "output_type": "execute_result"
    }
   ],
   "source": [
    "ap.loc[ap['source_type'] == 'DISB', 'report_id'] = ap['type_request']\n",
    "ap['report_id'] = ap['report_id'].groupby(ap['merchant_id']).ffill()\n",
    "#ap['report_date_local_final'] = ap['report_date_local'].groupby(ap['merchant_id']).ffill()\n",
    "#ap['payment_date_local_final'] = ap['payment_date_local'].groupby(ap['merchant_id']).ffill()\n",
    "#ap['status_final'] = ap['status'].groupby(ap['merchant_id']).ffill()\n",
    "ap.head()"
   ]
  },
  {
   "cell_type": "code",
   "execution_count": 22,
   "id": "dabd12b7-f4a0-4d72-8556-82b67d864d50",
   "metadata": {},
   "outputs": [
    {
     "data": {
      "text/plain": [
       "(12840992, 16)"
      ]
     },
     "execution_count": 22,
     "metadata": {},
     "output_type": "execute_result"
    }
   ],
   "source": [
    "ap.shape"
   ]
  },
  {
   "cell_type": "code",
   "execution_count": 23,
   "id": "ffb0945d-823a-448d-ae61-86d2fb74db2c",
   "metadata": {},
   "outputs": [
    {
     "data": {
      "text/html": [
       "<div>\n",
       "<style scoped>\n",
       "    .dataframe tbody tr th:only-of-type {\n",
       "        vertical-align: middle;\n",
       "    }\n",
       "\n",
       "    .dataframe tbody tr th {\n",
       "        vertical-align: top;\n",
       "    }\n",
       "\n",
       "    .dataframe thead th {\n",
       "        text-align: right;\n",
       "    }\n",
       "</style>\n",
       "<table border=\"1\" class=\"dataframe\">\n",
       "  <thead>\n",
       "    <tr style=\"text-align: right;\">\n",
       "      <th></th>\n",
       "      <th>merchant_id</th>\n",
       "      <th>amount</th>\n",
       "      <th>currency</th>\n",
       "      <th>type_request</th>\n",
       "      <th>mvnt_id</th>\n",
       "      <th>movement_type</th>\n",
       "      <th>source_type</th>\n",
       "      <th>created_at</th>\n",
       "      <th>eff_dt</th>\n",
       "      <th>movement_day</th>\n",
       "      <th>request_effective_date</th>\n",
       "      <th>slot_date</th>\n",
       "      <th>file_name</th>\n",
       "      <th>eff_dt_date</th>\n",
       "      <th>eff_dt_time</th>\n",
       "      <th>report_id</th>\n",
       "    </tr>\n",
       "  </thead>\n",
       "  <tbody>\n",
       "    <tr>\n",
       "      <th>0</th>\n",
       "      <td>0000275f-d46b-4a9c-a227-42d6f7ce63bd</td>\n",
       "      <td>-2,874.72</td>\n",
       "      <td>MXN</td>\n",
       "      <td>ALH6V3JL8</td>\n",
       "      <td>b86a1190-e950-32e2-a35e-f2a73f39c970</td>\n",
       "      <td>DISB_RQ</td>\n",
       "      <td>DISB</td>\n",
       "      <td>2024-01-02 07:13:11</td>\n",
       "      <td>2024-01-02 07:13:16</td>\n",
       "      <td>2024-01-02 07:13:09</td>\n",
       "      <td>2024-01-02 07:05:30</td>\n",
       "      <td>1969-12-31 18:00:00</td>\n",
       "      <td>AP-JOURNAL_DATE ENERO 2024.tsv</td>\n",
       "      <td>2024-01-02</td>\n",
       "      <td>07:13:16</td>\n",
       "      <td>ALH6V3JL8</td>\n",
       "    </tr>\n",
       "    <tr>\n",
       "      <th>1</th>\n",
       "      <td>0000275f-d46b-4a9c-a227-42d6f7ce63bd</td>\n",
       "      <td>2,874.72</td>\n",
       "      <td>MXN</td>\n",
       "      <td>settlement processor regular payment request</td>\n",
       "      <td>98e7c45d-0f1b-4ea9-a211-773b1a746a85</td>\n",
       "      <td>REGULAR_PYMT_RQ</td>\n",
       "      <td>SETT</td>\n",
       "      <td>2024-01-01 03:59:17</td>\n",
       "      <td>2024-01-02 01:00:00</td>\n",
       "      <td>2024-01-01 03:59:17</td>\n",
       "      <td>2024-01-02 00:30:00</td>\n",
       "      <td>2024-01-02 01:00:00</td>\n",
       "      <td>AP-JOURNAL_DATE ENERO 2024.tsv</td>\n",
       "      <td>2024-01-02</td>\n",
       "      <td>01:00:00</td>\n",
       "      <td>ALH6V3JL8</td>\n",
       "    </tr>\n",
       "    <tr>\n",
       "      <th>2</th>\n",
       "      <td>00008e01-812f-487e-8f34-a80bcb0ae3e3</td>\n",
       "      <td>-19,294.12</td>\n",
       "      <td>MXN</td>\n",
       "      <td>A2RVSXTZY</td>\n",
       "      <td>a89a4027-94e4-3b49-88b3-6c6572eb692f</td>\n",
       "      <td>DISB_RQ</td>\n",
       "      <td>DISB</td>\n",
       "      <td>2024-01-17 06:33:04</td>\n",
       "      <td>2024-01-17 06:33:09</td>\n",
       "      <td>2024-01-17 06:32:56</td>\n",
       "      <td>2024-01-17 06:06:57</td>\n",
       "      <td>1969-12-31 18:00:00</td>\n",
       "      <td>AP-JOURNAL_DATE ENERO 2024.tsv</td>\n",
       "      <td>2024-01-17</td>\n",
       "      <td>06:33:09</td>\n",
       "      <td>A2RVSXTZY</td>\n",
       "    </tr>\n",
       "    <tr>\n",
       "      <th>3</th>\n",
       "      <td>00008e01-812f-487e-8f34-a80bcb0ae3e3</td>\n",
       "      <td>19,294.12</td>\n",
       "      <td>MXN</td>\n",
       "      <td>settlement processor regular payment request</td>\n",
       "      <td>b076821b-f2fa-4bd6-8752-e6c12cd19816</td>\n",
       "      <td>REGULAR_PYMT_RQ</td>\n",
       "      <td>SETT</td>\n",
       "      <td>2024-01-16 12:43:04</td>\n",
       "      <td>2024-01-17 03:30:00</td>\n",
       "      <td>2024-01-16 12:43:04</td>\n",
       "      <td>2024-01-17 03:00:00</td>\n",
       "      <td>2024-01-17 03:30:00</td>\n",
       "      <td>AP-JOURNAL_DATE ENERO 2024.tsv</td>\n",
       "      <td>2024-01-17</td>\n",
       "      <td>03:30:00</td>\n",
       "      <td>A2RVSXTZY</td>\n",
       "    </tr>\n",
       "    <tr>\n",
       "      <th>4</th>\n",
       "      <td>00008e01-812f-487e-8f34-a80bcb0ae3e3</td>\n",
       "      <td>-157,345.82</td>\n",
       "      <td>MXN</td>\n",
       "      <td>AJY6HGG8N</td>\n",
       "      <td>877a8e4a-a78e-33c9-917b-d68200ce8f88</td>\n",
       "      <td>DISB_RQ</td>\n",
       "      <td>DISB</td>\n",
       "      <td>2024-01-15 06:23:01</td>\n",
       "      <td>2024-01-15 06:23:06</td>\n",
       "      <td>2024-01-15 06:22:47</td>\n",
       "      <td>2024-01-15 06:06:36</td>\n",
       "      <td>1969-12-31 18:00:00</td>\n",
       "      <td>AP-JOURNAL_DATE ENERO 2024.tsv</td>\n",
       "      <td>2024-01-15</td>\n",
       "      <td>06:23:06</td>\n",
       "      <td>AJY6HGG8N</td>\n",
       "    </tr>\n",
       "  </tbody>\n",
       "</table>\n",
       "</div>"
      ],
      "text/plain": [
       "                            merchant_id      amount currency  \\\n",
       "0  0000275f-d46b-4a9c-a227-42d6f7ce63bd   -2,874.72      MXN   \n",
       "1  0000275f-d46b-4a9c-a227-42d6f7ce63bd    2,874.72      MXN   \n",
       "2  00008e01-812f-487e-8f34-a80bcb0ae3e3  -19,294.12      MXN   \n",
       "3  00008e01-812f-487e-8f34-a80bcb0ae3e3   19,294.12      MXN   \n",
       "4  00008e01-812f-487e-8f34-a80bcb0ae3e3 -157,345.82      MXN   \n",
       "\n",
       "                                   type_request  \\\n",
       "0                                     ALH6V3JL8   \n",
       "1  settlement processor regular payment request   \n",
       "2                                     A2RVSXTZY   \n",
       "3  settlement processor regular payment request   \n",
       "4                                     AJY6HGG8N   \n",
       "\n",
       "                                mvnt_id    movement_type source_type  \\\n",
       "0  b86a1190-e950-32e2-a35e-f2a73f39c970          DISB_RQ        DISB   \n",
       "1  98e7c45d-0f1b-4ea9-a211-773b1a746a85  REGULAR_PYMT_RQ        SETT   \n",
       "2  a89a4027-94e4-3b49-88b3-6c6572eb692f          DISB_RQ        DISB   \n",
       "3  b076821b-f2fa-4bd6-8752-e6c12cd19816  REGULAR_PYMT_RQ        SETT   \n",
       "4  877a8e4a-a78e-33c9-917b-d68200ce8f88          DISB_RQ        DISB   \n",
       "\n",
       "           created_at              eff_dt        movement_day  \\\n",
       "0 2024-01-02 07:13:11 2024-01-02 07:13:16 2024-01-02 07:13:09   \n",
       "1 2024-01-01 03:59:17 2024-01-02 01:00:00 2024-01-01 03:59:17   \n",
       "2 2024-01-17 06:33:04 2024-01-17 06:33:09 2024-01-17 06:32:56   \n",
       "3 2024-01-16 12:43:04 2024-01-17 03:30:00 2024-01-16 12:43:04   \n",
       "4 2024-01-15 06:23:01 2024-01-15 06:23:06 2024-01-15 06:22:47   \n",
       "\n",
       "  request_effective_date           slot_date                       file_name  \\\n",
       "0    2024-01-02 07:05:30 1969-12-31 18:00:00  AP-JOURNAL_DATE ENERO 2024.tsv   \n",
       "1    2024-01-02 00:30:00 2024-01-02 01:00:00  AP-JOURNAL_DATE ENERO 2024.tsv   \n",
       "2    2024-01-17 06:06:57 1969-12-31 18:00:00  AP-JOURNAL_DATE ENERO 2024.tsv   \n",
       "3    2024-01-17 03:00:00 2024-01-17 03:30:00  AP-JOURNAL_DATE ENERO 2024.tsv   \n",
       "4    2024-01-15 06:06:36 1969-12-31 18:00:00  AP-JOURNAL_DATE ENERO 2024.tsv   \n",
       "\n",
       "  eff_dt_date eff_dt_time  report_id  \n",
       "0  2024-01-02    07:13:16  ALH6V3JL8  \n",
       "1  2024-01-02    01:00:00  ALH6V3JL8  \n",
       "2  2024-01-17    06:33:09  A2RVSXTZY  \n",
       "3  2024-01-17    03:30:00  A2RVSXTZY  \n",
       "4  2024-01-15    06:23:06  AJY6HGG8N  "
      ]
     },
     "execution_count": 23,
     "metadata": {},
     "output_type": "execute_result"
    }
   ],
   "source": [
    "ap_dig_acc_movs = ap\n",
    "ap_dig_acc_movs.head()"
   ]
  },
  {
   "cell_type": "code",
   "execution_count": 24,
   "id": "0a18957c-a7c6-40d6-9ca2-908937ded696",
   "metadata": {},
   "outputs": [
    {
     "data": {
      "text/plain": [
       "(12840992, 16)"
      ]
     },
     "execution_count": 24,
     "metadata": {},
     "output_type": "execute_result"
    }
   ],
   "source": [
    "ap_dig_acc_movs.shape"
   ]
  },
  {
   "cell_type": "code",
   "execution_count": null,
   "id": "9ae44d49-2d7d-42d8-b6ce-c7a592190c14",
   "metadata": {},
   "outputs": [],
   "source": [
    "cond1 = ap_dig_acc_movs.groupby('merchant_id')['source_type'].shift(-1).eq('DISB')  & ap_dig_acc_movs['source_type'].eq('DIG_ACC')\n",
    "cond2 = ap_dig_acc_movs.groupby('merchant_id')['source_type'].shift().eq('DIG_ACC')  & ap_dig_acc_movs['source_type'].eq('DISB')\n",
    "ap_dig_acc_movs[cond1|cond2].head()"
   ]
  },
  {
   "cell_type": "code",
   "execution_count": null,
   "id": "3cc742b9-b0fe-43da-975c-cff5764ed38a",
   "metadata": {},
   "outputs": [],
   "source": [
    "ap_dig_acc_movs[cond1|cond2].shape"
   ]
  },
  {
   "cell_type": "code",
   "execution_count": null,
   "id": "4cdf5d8e-d662-4826-a8e0-9729d681009f",
   "metadata": {},
   "outputs": [],
   "source": [
    "ap_dig_acc_movs.loc[ap_dig_acc_movs['source_type'] == 'DISB','identifier'] = 0\n",
    "ap_dig_acc_movs.loc[ap_dig_acc_movs.groupby('merchant_id')['source_type'].shift(-1).eq('DISB') & ap_dig_acc_movs['source_type'].eq('DIG_ACC'),'identifier'] = 1\n",
    "ap_dig_acc_movs.loc[ap_dig_acc_movs.groupby('merchant_id')['source_type'].shift().eq('DIG_ACC') & ap_dig_acc_movs['source_type'].eq('DISB'),'identifier'] = 1"
   ]
  },
  {
   "cell_type": "code",
   "execution_count": null,
   "id": "a74891dd-2539-4208-9c2f-885996653d2d",
   "metadata": {},
   "outputs": [],
   "source": [
    "ap_dig_acc_movs['identifier_final'] = ap_dig_acc_movs['identifier'].groupby(ap_dig_acc_movs['merchant_id']).ffill()"
   ]
  },
  {
   "cell_type": "code",
   "execution_count": null,
   "id": "387f9d43-df26-49f9-9fd1-ab2bc66a09f6",
   "metadata": {},
   "outputs": [],
   "source": [
    "ap_dig_acc_movs.shape"
   ]
  },
  {
   "cell_type": "code",
   "execution_count": null,
   "id": "c052c7ee-ae16-42ae-89df-05e1c47ef629",
   "metadata": {},
   "outputs": [],
   "source": [
    "ap_dig_acc_movs_dig_acct = ap_dig_acc_movs[(ap_dig_acc_movs['identifier_final'] == 1)]\n",
    "ap_dig_acc_movs_dig_acct.head()"
   ]
  },
  {
   "cell_type": "code",
   "execution_count": null,
   "id": "a8dddd2f-db13-4c7d-b5dd-b43bc58bf6a1",
   "metadata": {},
   "outputs": [],
   "source": [
    "ap_dig_acc_movs_dig_acct.shape"
   ]
  },
  {
   "cell_type": "code",
   "execution_count": null,
   "id": "511386aa-2ac4-4f6e-ad4f-d4d419d0e01f",
   "metadata": {},
   "outputs": [],
   "source": [
    "ap_dig_acc_movs_dig_acct.loc[ap_dig_acc_movs_dig_acct['movement_type'] == 'DWN_PAYMENT_DA_RQ', 'report_id_digital_account'] = ap_dig_acc_movs_dig_acct['type_request']\n",
    "ap_dig_acc_movs_dig_acct['report_id_digital_account'] = ap_dig_acc_movs_dig_acct['report_id_digital_account'].groupby(ap_dig_acc_movs_dig_acct['merchant_id']).ffill()\n",
    "ap_dig_acc_movs_dig_acct.head()"
   ]
  },
  {
   "cell_type": "code",
   "execution_count": null,
   "id": "533505bb",
   "metadata": {},
   "outputs": [],
   "source": [
    "sorted(list(ap_dig_acc_movs['source_type'].unique()))"
   ]
  },
  {
   "cell_type": "code",
   "execution_count": null,
   "id": "ecd83e91-c441-4f06-a760-9bbbd463a734",
   "metadata": {},
   "outputs": [],
   "source": [
    "sorted(list(ap_dig_acc_movs['movement_type'].unique()))"
   ]
  },
  {
   "cell_type": "code",
   "execution_count": null,
   "id": "f04ecb7a-0c28-4eb3-8d98-1a7ccf144736",
   "metadata": {},
   "outputs": [],
   "source": [
    "ap_dig_acc_movs['identifier_final'].unique()"
   ]
  },
  {
   "cell_type": "code",
   "execution_count": 25,
   "id": "acebd4f7",
   "metadata": {},
   "outputs": [],
   "source": [
    "ap_bill_pymnt = ap_dig_acc_movs[(ap_dig_acc_movs['source_type'] == 'BILL_PYMNT')]\n",
    "ap_caal = ap_dig_acc_movs[(ap_dig_acc_movs['source_type'] == 'CAAL')]\n",
    "ap_data = ap_dig_acc_movs[(ap_dig_acc_movs['source_type'] == 'DATA')]\n",
    "ap_dig_acc = ap_dig_acc_movs[(ap_dig_acc_movs['source_type'] == 'DIG_ACC')]\n",
    "ap_disb = ap_dig_acc_movs[(ap_dig_acc_movs['source_type'] == 'DISB')]\n",
    "ap_fee_refunds = ap_dig_acc_movs[(ap_dig_acc_movs['source_type'] == 'FEE_REFUNDS')]\n",
    "ap_loan = ap_dig_acc_movs[(ap_dig_acc_movs['source_type'] == 'LOAN')]\n",
    "ap_promo = ap_dig_acc_movs[(ap_dig_acc_movs['source_type'] == 'PROMO')]\n",
    "ap_pymt = ap_dig_acc_movs[(ap_dig_acc_movs['source_type'] == 'PYMT')]\n",
    "ap_refunds = ap_dig_acc_movs[(ap_dig_acc_movs['source_type'] == 'REFUNDS')]\n",
    "ap_risk = ap_dig_acc_movs[(ap_dig_acc_movs['source_type'] == 'RISK')]\n",
    "ap_sett = ap_dig_acc_movs[(ap_dig_acc_movs['source_type'] == 'SETT')]\n",
    "ap_sett_adptr = ap_dig_acc_movs[(ap_dig_acc_movs['source_type'] == 'SETT_ADPTR')]\n",
    "ap_taxes = ap_dig_acc_movs[(ap_dig_acc_movs['source_type'] == 'TAXES')]\n",
    "ap_topups = ap_dig_acc_movs[(ap_dig_acc_movs['source_type'] == 'TOPUPS')]"
   ]
  },
  {
   "cell_type": "markdown",
   "id": "9dbfd1fe",
   "metadata": {},
   "source": [
    "# CRUCE_1: DATA SETTLEMENT MASTER LOG VS AP_JOURNAL"
   ]
  },
  {
   "cell_type": "code",
   "execution_count": 26,
   "id": "5ac42fe6-619b-4c4b-b143-3a826eb5b7a9",
   "metadata": {},
   "outputs": [
    {
     "data": {
      "text/html": [
       "<div>\n",
       "<style scoped>\n",
       "    .dataframe tbody tr th:only-of-type {\n",
       "        vertical-align: middle;\n",
       "    }\n",
       "\n",
       "    .dataframe tbody tr th {\n",
       "        vertical-align: top;\n",
       "    }\n",
       "\n",
       "    .dataframe thead th {\n",
       "        text-align: right;\n",
       "    }\n",
       "</style>\n",
       "<table border=\"1\" class=\"dataframe\">\n",
       "  <thead>\n",
       "    <tr style=\"text-align: right;\">\n",
       "      <th></th>\n",
       "      <th>merchant_id</th>\n",
       "      <th>amount</th>\n",
       "      <th>currency</th>\n",
       "      <th>type_request</th>\n",
       "      <th>mvnt_id</th>\n",
       "      <th>movement_type</th>\n",
       "      <th>source_type</th>\n",
       "      <th>created_at</th>\n",
       "      <th>eff_dt</th>\n",
       "      <th>movement_day</th>\n",
       "      <th>request_effective_date</th>\n",
       "      <th>slot_date</th>\n",
       "      <th>file_name</th>\n",
       "      <th>eff_dt_date</th>\n",
       "      <th>eff_dt_time</th>\n",
       "      <th>report_id</th>\n",
       "    </tr>\n",
       "  </thead>\n",
       "  <tbody>\n",
       "    <tr>\n",
       "      <th>1</th>\n",
       "      <td>0000275f-d46b-4a9c-a227-42d6f7ce63bd</td>\n",
       "      <td>2,874.72</td>\n",
       "      <td>MXN</td>\n",
       "      <td>settlement processor regular payment request</td>\n",
       "      <td>98e7c45d-0f1b-4ea9-a211-773b1a746a85</td>\n",
       "      <td>REGULAR_PYMT_RQ</td>\n",
       "      <td>SETT</td>\n",
       "      <td>2024-01-01 03:59:17</td>\n",
       "      <td>2024-01-02 01:00:00</td>\n",
       "      <td>2024-01-01 03:59:17</td>\n",
       "      <td>2024-01-02 00:30:00</td>\n",
       "      <td>2024-01-02 01:00:00</td>\n",
       "      <td>AP-JOURNAL_DATE ENERO 2024.tsv</td>\n",
       "      <td>2024-01-02</td>\n",
       "      <td>01:00:00</td>\n",
       "      <td>ALH6V3JL8</td>\n",
       "    </tr>\n",
       "    <tr>\n",
       "      <th>3</th>\n",
       "      <td>00008e01-812f-487e-8f34-a80bcb0ae3e3</td>\n",
       "      <td>19,294.12</td>\n",
       "      <td>MXN</td>\n",
       "      <td>settlement processor regular payment request</td>\n",
       "      <td>b076821b-f2fa-4bd6-8752-e6c12cd19816</td>\n",
       "      <td>REGULAR_PYMT_RQ</td>\n",
       "      <td>SETT</td>\n",
       "      <td>2024-01-16 12:43:04</td>\n",
       "      <td>2024-01-17 03:30:00</td>\n",
       "      <td>2024-01-16 12:43:04</td>\n",
       "      <td>2024-01-17 03:00:00</td>\n",
       "      <td>2024-01-17 03:30:00</td>\n",
       "      <td>AP-JOURNAL_DATE ENERO 2024.tsv</td>\n",
       "      <td>2024-01-17</td>\n",
       "      <td>03:30:00</td>\n",
       "      <td>A2RVSXTZY</td>\n",
       "    </tr>\n",
       "    <tr>\n",
       "      <th>5</th>\n",
       "      <td>00008e01-812f-487e-8f34-a80bcb0ae3e3</td>\n",
       "      <td>47,912.00</td>\n",
       "      <td>MXN</td>\n",
       "      <td>deferred regular payment request</td>\n",
       "      <td>89642c1b-ee74-48a9-a7f4-39f9a6e54aec</td>\n",
       "      <td>DEFERRED_REGULAR_PYMNT_RQ</td>\n",
       "      <td>SETT</td>\n",
       "      <td>2024-01-14 19:06:32</td>\n",
       "      <td>2024-01-15 05:00:00</td>\n",
       "      <td>2024-01-14 19:06:32</td>\n",
       "      <td>2024-01-15 04:30:00</td>\n",
       "      <td>2024-01-15 05:00:00</td>\n",
       "      <td>AP-JOURNAL_DATE ENERO 2024.tsv</td>\n",
       "      <td>2024-01-15</td>\n",
       "      <td>05:00:00</td>\n",
       "      <td>AJY6HGG8N</td>\n",
       "    </tr>\n",
       "    <tr>\n",
       "      <th>6</th>\n",
       "      <td>00008e01-812f-487e-8f34-a80bcb0ae3e3</td>\n",
       "      <td>47,918.20</td>\n",
       "      <td>MXN</td>\n",
       "      <td>settlement processor regular payment request</td>\n",
       "      <td>01f11b11-12e9-451a-9455-6c1a946acd71</td>\n",
       "      <td>REGULAR_PYMT_RQ</td>\n",
       "      <td>SETT</td>\n",
       "      <td>2024-01-14 19:13:59</td>\n",
       "      <td>2024-01-15 05:00:00</td>\n",
       "      <td>2024-01-14 19:13:59</td>\n",
       "      <td>2024-01-15 04:30:00</td>\n",
       "      <td>2024-01-15 05:00:00</td>\n",
       "      <td>AP-JOURNAL_DATE ENERO 2024.tsv</td>\n",
       "      <td>2024-01-15</td>\n",
       "      <td>05:00:00</td>\n",
       "      <td>AJY6HGG8N</td>\n",
       "    </tr>\n",
       "    <tr>\n",
       "      <th>7</th>\n",
       "      <td>00008e01-812f-487e-8f34-a80bcb0ae3e3</td>\n",
       "      <td>47,230.40</td>\n",
       "      <td>MXN</td>\n",
       "      <td>settlement processor regular payment request</td>\n",
       "      <td>bc7fa476-4d6b-476e-99a6-bfe0a7156843</td>\n",
       "      <td>REGULAR_PYMT_RQ</td>\n",
       "      <td>SETT</td>\n",
       "      <td>2024-01-14 19:15:00</td>\n",
       "      <td>2024-01-15 05:00:00</td>\n",
       "      <td>2024-01-14 19:15:00</td>\n",
       "      <td>2024-01-15 04:30:00</td>\n",
       "      <td>2024-01-15 05:00:00</td>\n",
       "      <td>AP-JOURNAL_DATE ENERO 2024.tsv</td>\n",
       "      <td>2024-01-15</td>\n",
       "      <td>05:00:00</td>\n",
       "      <td>AJY6HGG8N</td>\n",
       "    </tr>\n",
       "  </tbody>\n",
       "</table>\n",
       "</div>"
      ],
      "text/plain": [
       "                            merchant_id    amount currency  \\\n",
       "1  0000275f-d46b-4a9c-a227-42d6f7ce63bd  2,874.72      MXN   \n",
       "3  00008e01-812f-487e-8f34-a80bcb0ae3e3 19,294.12      MXN   \n",
       "5  00008e01-812f-487e-8f34-a80bcb0ae3e3 47,912.00      MXN   \n",
       "6  00008e01-812f-487e-8f34-a80bcb0ae3e3 47,918.20      MXN   \n",
       "7  00008e01-812f-487e-8f34-a80bcb0ae3e3 47,230.40      MXN   \n",
       "\n",
       "                                   type_request  \\\n",
       "1  settlement processor regular payment request   \n",
       "3  settlement processor regular payment request   \n",
       "5              deferred regular payment request   \n",
       "6  settlement processor regular payment request   \n",
       "7  settlement processor regular payment request   \n",
       "\n",
       "                                mvnt_id              movement_type  \\\n",
       "1  98e7c45d-0f1b-4ea9-a211-773b1a746a85            REGULAR_PYMT_RQ   \n",
       "3  b076821b-f2fa-4bd6-8752-e6c12cd19816            REGULAR_PYMT_RQ   \n",
       "5  89642c1b-ee74-48a9-a7f4-39f9a6e54aec  DEFERRED_REGULAR_PYMNT_RQ   \n",
       "6  01f11b11-12e9-451a-9455-6c1a946acd71            REGULAR_PYMT_RQ   \n",
       "7  bc7fa476-4d6b-476e-99a6-bfe0a7156843            REGULAR_PYMT_RQ   \n",
       "\n",
       "  source_type          created_at              eff_dt        movement_day  \\\n",
       "1        SETT 2024-01-01 03:59:17 2024-01-02 01:00:00 2024-01-01 03:59:17   \n",
       "3        SETT 2024-01-16 12:43:04 2024-01-17 03:30:00 2024-01-16 12:43:04   \n",
       "5        SETT 2024-01-14 19:06:32 2024-01-15 05:00:00 2024-01-14 19:06:32   \n",
       "6        SETT 2024-01-14 19:13:59 2024-01-15 05:00:00 2024-01-14 19:13:59   \n",
       "7        SETT 2024-01-14 19:15:00 2024-01-15 05:00:00 2024-01-14 19:15:00   \n",
       "\n",
       "  request_effective_date           slot_date                       file_name  \\\n",
       "1    2024-01-02 00:30:00 2024-01-02 01:00:00  AP-JOURNAL_DATE ENERO 2024.tsv   \n",
       "3    2024-01-17 03:00:00 2024-01-17 03:30:00  AP-JOURNAL_DATE ENERO 2024.tsv   \n",
       "5    2024-01-15 04:30:00 2024-01-15 05:00:00  AP-JOURNAL_DATE ENERO 2024.tsv   \n",
       "6    2024-01-15 04:30:00 2024-01-15 05:00:00  AP-JOURNAL_DATE ENERO 2024.tsv   \n",
       "7    2024-01-15 04:30:00 2024-01-15 05:00:00  AP-JOURNAL_DATE ENERO 2024.tsv   \n",
       "\n",
       "  eff_dt_date eff_dt_time  report_id  \n",
       "1  2024-01-02    01:00:00  ALH6V3JL8  \n",
       "3  2024-01-17    03:30:00  A2RVSXTZY  \n",
       "5  2024-01-15    05:00:00  AJY6HGG8N  \n",
       "6  2024-01-15    05:00:00  AJY6HGG8N  \n",
       "7  2024-01-15    05:00:00  AJY6HGG8N  "
      ]
     },
     "execution_count": 26,
     "metadata": {},
     "output_type": "execute_result"
    }
   ],
   "source": [
    "ap_sett.head()"
   ]
  },
  {
   "cell_type": "code",
   "execution_count": 27,
   "id": "d7deea99-d33b-4424-82bd-241c979ada67",
   "metadata": {},
   "outputs": [
    {
     "data": {
      "text/plain": [
       "(9998453, 16)"
      ]
     },
     "execution_count": 27,
     "metadata": {},
     "output_type": "execute_result"
    }
   ],
   "source": [
    "ap_sett.shape"
   ]
  },
  {
   "cell_type": "code",
   "execution_count": 28,
   "id": "d0927411",
   "metadata": {},
   "outputs": [
    {
     "data": {
      "text/plain": [
       "array(['REGULAR_PYMT_RQ', 'DEFERRED_REGULAR_PYMNT_RQ', 'FAST_PYMT_RQ',\n",
       "       'DEFERRED_FAST_PYMNT_RQ'], dtype=object)"
      ]
     },
     "execution_count": 28,
     "metadata": {},
     "output_type": "execute_result"
    }
   ],
   "source": [
    "ap_sett['movement_type'].unique()"
   ]
  },
  {
   "cell_type": "code",
   "execution_count": 29,
   "id": "5cde7cd5",
   "metadata": {},
   "outputs": [
    {
     "data": {
      "text/html": [
       "<div>\n",
       "<style scoped>\n",
       "    .dataframe tbody tr th:only-of-type {\n",
       "        vertical-align: middle;\n",
       "    }\n",
       "\n",
       "    .dataframe tbody tr th {\n",
       "        vertical-align: top;\n",
       "    }\n",
       "\n",
       "    .dataframe thead th {\n",
       "        text-align: right;\n",
       "    }\n",
       "</style>\n",
       "<table border=\"1\" class=\"dataframe\">\n",
       "  <thead>\n",
       "    <tr style=\"text-align: right;\">\n",
       "      <th></th>\n",
       "      <th>merchant_id</th>\n",
       "      <th>amount</th>\n",
       "      <th>currency</th>\n",
       "      <th>type_request</th>\n",
       "      <th>mvnt_id</th>\n",
       "      <th>movement_type</th>\n",
       "      <th>source_type</th>\n",
       "      <th>created_at</th>\n",
       "      <th>eff_dt</th>\n",
       "      <th>movement_day</th>\n",
       "      <th>request_effective_date</th>\n",
       "      <th>slot_date</th>\n",
       "      <th>file_name</th>\n",
       "      <th>eff_dt_date</th>\n",
       "      <th>eff_dt_time</th>\n",
       "      <th>report_id</th>\n",
       "    </tr>\n",
       "  </thead>\n",
       "  <tbody>\n",
       "    <tr>\n",
       "      <th>1</th>\n",
       "      <td>0000275f-d46b-4a9c-a227-42d6f7ce63bd</td>\n",
       "      <td>2,874.72</td>\n",
       "      <td>MXN</td>\n",
       "      <td>settlement processor regular payment request</td>\n",
       "      <td>98e7c45d-0f1b-4ea9-a211-773b1a746a85</td>\n",
       "      <td>REGULAR_PYMT_RQ</td>\n",
       "      <td>SETT</td>\n",
       "      <td>2024-01-01 03:59:17</td>\n",
       "      <td>2024-01-02 01:00:00</td>\n",
       "      <td>2024-01-01 03:59:17</td>\n",
       "      <td>2024-01-02 00:30:00</td>\n",
       "      <td>2024-01-02 01:00:00</td>\n",
       "      <td>AP-JOURNAL_DATE ENERO 2024.tsv</td>\n",
       "      <td>2024-01-02</td>\n",
       "      <td>01:00:00</td>\n",
       "      <td>ALH6V3JL8</td>\n",
       "    </tr>\n",
       "    <tr>\n",
       "      <th>3</th>\n",
       "      <td>00008e01-812f-487e-8f34-a80bcb0ae3e3</td>\n",
       "      <td>19,294.12</td>\n",
       "      <td>MXN</td>\n",
       "      <td>settlement processor regular payment request</td>\n",
       "      <td>b076821b-f2fa-4bd6-8752-e6c12cd19816</td>\n",
       "      <td>REGULAR_PYMT_RQ</td>\n",
       "      <td>SETT</td>\n",
       "      <td>2024-01-16 12:43:04</td>\n",
       "      <td>2024-01-17 03:30:00</td>\n",
       "      <td>2024-01-16 12:43:04</td>\n",
       "      <td>2024-01-17 03:00:00</td>\n",
       "      <td>2024-01-17 03:30:00</td>\n",
       "      <td>AP-JOURNAL_DATE ENERO 2024.tsv</td>\n",
       "      <td>2024-01-17</td>\n",
       "      <td>03:30:00</td>\n",
       "      <td>A2RVSXTZY</td>\n",
       "    </tr>\n",
       "    <tr>\n",
       "      <th>5</th>\n",
       "      <td>00008e01-812f-487e-8f34-a80bcb0ae3e3</td>\n",
       "      <td>47,912.00</td>\n",
       "      <td>MXN</td>\n",
       "      <td>deferred regular payment request</td>\n",
       "      <td>89642c1b-ee74-48a9-a7f4-39f9a6e54aec</td>\n",
       "      <td>DEFERRED_REGULAR_PYMNT_RQ</td>\n",
       "      <td>SETT</td>\n",
       "      <td>2024-01-14 19:06:32</td>\n",
       "      <td>2024-01-15 05:00:00</td>\n",
       "      <td>2024-01-14 19:06:32</td>\n",
       "      <td>2024-01-15 04:30:00</td>\n",
       "      <td>2024-01-15 05:00:00</td>\n",
       "      <td>AP-JOURNAL_DATE ENERO 2024.tsv</td>\n",
       "      <td>2024-01-15</td>\n",
       "      <td>05:00:00</td>\n",
       "      <td>AJY6HGG8N</td>\n",
       "    </tr>\n",
       "    <tr>\n",
       "      <th>6</th>\n",
       "      <td>00008e01-812f-487e-8f34-a80bcb0ae3e3</td>\n",
       "      <td>47,918.20</td>\n",
       "      <td>MXN</td>\n",
       "      <td>settlement processor regular payment request</td>\n",
       "      <td>01f11b11-12e9-451a-9455-6c1a946acd71</td>\n",
       "      <td>REGULAR_PYMT_RQ</td>\n",
       "      <td>SETT</td>\n",
       "      <td>2024-01-14 19:13:59</td>\n",
       "      <td>2024-01-15 05:00:00</td>\n",
       "      <td>2024-01-14 19:13:59</td>\n",
       "      <td>2024-01-15 04:30:00</td>\n",
       "      <td>2024-01-15 05:00:00</td>\n",
       "      <td>AP-JOURNAL_DATE ENERO 2024.tsv</td>\n",
       "      <td>2024-01-15</td>\n",
       "      <td>05:00:00</td>\n",
       "      <td>AJY6HGG8N</td>\n",
       "    </tr>\n",
       "    <tr>\n",
       "      <th>7</th>\n",
       "      <td>00008e01-812f-487e-8f34-a80bcb0ae3e3</td>\n",
       "      <td>47,230.40</td>\n",
       "      <td>MXN</td>\n",
       "      <td>settlement processor regular payment request</td>\n",
       "      <td>bc7fa476-4d6b-476e-99a6-bfe0a7156843</td>\n",
       "      <td>REGULAR_PYMT_RQ</td>\n",
       "      <td>SETT</td>\n",
       "      <td>2024-01-14 19:15:00</td>\n",
       "      <td>2024-01-15 05:00:00</td>\n",
       "      <td>2024-01-14 19:15:00</td>\n",
       "      <td>2024-01-15 04:30:00</td>\n",
       "      <td>2024-01-15 05:00:00</td>\n",
       "      <td>AP-JOURNAL_DATE ENERO 2024.tsv</td>\n",
       "      <td>2024-01-15</td>\n",
       "      <td>05:00:00</td>\n",
       "      <td>AJY6HGG8N</td>\n",
       "    </tr>\n",
       "  </tbody>\n",
       "</table>\n",
       "</div>"
      ],
      "text/plain": [
       "                            merchant_id    amount currency  \\\n",
       "1  0000275f-d46b-4a9c-a227-42d6f7ce63bd  2,874.72      MXN   \n",
       "3  00008e01-812f-487e-8f34-a80bcb0ae3e3 19,294.12      MXN   \n",
       "5  00008e01-812f-487e-8f34-a80bcb0ae3e3 47,912.00      MXN   \n",
       "6  00008e01-812f-487e-8f34-a80bcb0ae3e3 47,918.20      MXN   \n",
       "7  00008e01-812f-487e-8f34-a80bcb0ae3e3 47,230.40      MXN   \n",
       "\n",
       "                                   type_request  \\\n",
       "1  settlement processor regular payment request   \n",
       "3  settlement processor regular payment request   \n",
       "5              deferred regular payment request   \n",
       "6  settlement processor regular payment request   \n",
       "7  settlement processor regular payment request   \n",
       "\n",
       "                                mvnt_id              movement_type  \\\n",
       "1  98e7c45d-0f1b-4ea9-a211-773b1a746a85            REGULAR_PYMT_RQ   \n",
       "3  b076821b-f2fa-4bd6-8752-e6c12cd19816            REGULAR_PYMT_RQ   \n",
       "5  89642c1b-ee74-48a9-a7f4-39f9a6e54aec  DEFERRED_REGULAR_PYMNT_RQ   \n",
       "6  01f11b11-12e9-451a-9455-6c1a946acd71            REGULAR_PYMT_RQ   \n",
       "7  bc7fa476-4d6b-476e-99a6-bfe0a7156843            REGULAR_PYMT_RQ   \n",
       "\n",
       "  source_type          created_at              eff_dt        movement_day  \\\n",
       "1        SETT 2024-01-01 03:59:17 2024-01-02 01:00:00 2024-01-01 03:59:17   \n",
       "3        SETT 2024-01-16 12:43:04 2024-01-17 03:30:00 2024-01-16 12:43:04   \n",
       "5        SETT 2024-01-14 19:06:32 2024-01-15 05:00:00 2024-01-14 19:06:32   \n",
       "6        SETT 2024-01-14 19:13:59 2024-01-15 05:00:00 2024-01-14 19:13:59   \n",
       "7        SETT 2024-01-14 19:15:00 2024-01-15 05:00:00 2024-01-14 19:15:00   \n",
       "\n",
       "  request_effective_date           slot_date                       file_name  \\\n",
       "1    2024-01-02 00:30:00 2024-01-02 01:00:00  AP-JOURNAL_DATE ENERO 2024.tsv   \n",
       "3    2024-01-17 03:00:00 2024-01-17 03:30:00  AP-JOURNAL_DATE ENERO 2024.tsv   \n",
       "5    2024-01-15 04:30:00 2024-01-15 05:00:00  AP-JOURNAL_DATE ENERO 2024.tsv   \n",
       "6    2024-01-15 04:30:00 2024-01-15 05:00:00  AP-JOURNAL_DATE ENERO 2024.tsv   \n",
       "7    2024-01-15 04:30:00 2024-01-15 05:00:00  AP-JOURNAL_DATE ENERO 2024.tsv   \n",
       "\n",
       "  eff_dt_date eff_dt_time  report_id  \n",
       "1  2024-01-02    01:00:00  ALH6V3JL8  \n",
       "3  2024-01-17    03:30:00  A2RVSXTZY  \n",
       "5  2024-01-15    05:00:00  AJY6HGG8N  \n",
       "6  2024-01-15    05:00:00  AJY6HGG8N  \n",
       "7  2024-01-15    05:00:00  AJY6HGG8N  "
      ]
     },
     "execution_count": 29,
     "metadata": {},
     "output_type": "execute_result"
    }
   ],
   "source": [
    "ap_sett.head()"
   ]
  },
  {
   "cell_type": "code",
   "execution_count": 30,
   "id": "97484b76",
   "metadata": {},
   "outputs": [
    {
     "data": {
      "text/plain": [
       "(9998453, 16)"
      ]
     },
     "execution_count": 30,
     "metadata": {},
     "output_type": "execute_result"
    }
   ],
   "source": [
    "ap_sett.shape"
   ]
  },
  {
   "cell_type": "code",
   "execution_count": 33,
   "id": "97623558",
   "metadata": {},
   "outputs": [
    {
     "data": {
      "text/html": [
       "<div>\n",
       "<style scoped>\n",
       "    .dataframe tbody tr th:only-of-type {\n",
       "        vertical-align: middle;\n",
       "    }\n",
       "\n",
       "    .dataframe tbody tr th {\n",
       "        vertical-align: top;\n",
       "    }\n",
       "\n",
       "    .dataframe thead th {\n",
       "        text-align: right;\n",
       "    }\n",
       "</style>\n",
       "<table border=\"1\" class=\"dataframe\">\n",
       "  <thead>\n",
       "    <tr style=\"text-align: right;\">\n",
       "      <th></th>\n",
       "      <th>record_uuid</th>\n",
       "      <th>merchant_id</th>\n",
       "      <th>transaction_id</th>\n",
       "      <th>mvnt_id</th>\n",
       "      <th>mvnt_type</th>\n",
       "      <th>pymt_prg</th>\n",
       "      <th>created_at</th>\n",
       "      <th>eff_dt</th>\n",
       "      <th>psp_amount</th>\n",
       "      <th>gross_amount</th>\n",
       "      <th>...</th>\n",
       "      <th>dcc_amount</th>\n",
       "      <th>dcc_rate</th>\n",
       "      <th>dcc_status</th>\n",
       "      <th>cc_nb_currency_code</th>\n",
       "      <th>nu_markup</th>\n",
       "      <th>file_name</th>\n",
       "      <th>amount</th>\n",
       "      <th>movement_type</th>\n",
       "      <th>source_type</th>\n",
       "      <th>report_id</th>\n",
       "    </tr>\n",
       "  </thead>\n",
       "  <tbody>\n",
       "    <tr>\n",
       "      <th>0</th>\n",
       "      <td>bba156b3-9e40-5a5f-a84c-fe5f0d012b75</td>\n",
       "      <td>11055d4d-be9c-4308-be06-da7501ec94bb</td>\n",
       "      <td>63271f54-0a59-47b0-945d-3d87d3581ff9</td>\n",
       "      <td>63271f54-0a59-47b0-945d-3d87d3581ff9</td>\n",
       "      <td>STL_PCS_RQ</td>\n",
       "      <td>DIGITAL_ACCOUNT</td>\n",
       "      <td>2024-01-05T18:42:13Z</td>\n",
       "      <td>2024-01-06T18:00:00Z</td>\n",
       "      <td>280.00</td>\n",
       "      <td>280.00</td>\n",
       "      <td>...</td>\n",
       "      <td>NaN</td>\n",
       "      <td>NaN</td>\n",
       "      <td>NaN</td>\n",
       "      <td>NaN</td>\n",
       "      <td>NaN</td>\n",
       "      <td>SETTLEMENT_MASTER_LOG_MSI_DATE ENERO 2024.tsv</td>\n",
       "      <td>268.31</td>\n",
       "      <td>REGULAR_PYMT_RQ</td>\n",
       "      <td>SETT</td>\n",
       "      <td>NaN</td>\n",
       "    </tr>\n",
       "    <tr>\n",
       "      <th>1</th>\n",
       "      <td>41f41f34-a671-52f9-b024-1fa0a23f6acc</td>\n",
       "      <td>13e050a4-91a1-43d1-9eb7-df35c63e7418</td>\n",
       "      <td>c2176a5a-554d-4537-ae7c-8912eeed8a15</td>\n",
       "      <td>c2176a5a-554d-4537-ae7c-8912eeed8a15</td>\n",
       "      <td>STL_PCS_RQ</td>\n",
       "      <td>DIGITAL_ACCOUNT</td>\n",
       "      <td>2024-01-05T12:55:48Z</td>\n",
       "      <td>2024-01-05T12:55:48Z</td>\n",
       "      <td>191.00</td>\n",
       "      <td>191.00</td>\n",
       "      <td>...</td>\n",
       "      <td>NaN</td>\n",
       "      <td>NaN</td>\n",
       "      <td>NaN</td>\n",
       "      <td>NaN</td>\n",
       "      <td>NaN</td>\n",
       "      <td>SETTLEMENT_MASTER_LOG_MSI_DATE ENERO 2024.tsv</td>\n",
       "      <td>183.02</td>\n",
       "      <td>REGULAR_PYMT_RQ</td>\n",
       "      <td>SETT</td>\n",
       "      <td>NaN</td>\n",
       "    </tr>\n",
       "    <tr>\n",
       "      <th>2</th>\n",
       "      <td>b1dde906-40f5-5cc4-90c8-aaca78b6cbbe</td>\n",
       "      <td>99d2f794-ec17-4ba4-925b-75db3299f4bb</td>\n",
       "      <td>a3cac821-71b5-4a7b-9467-de3160139b8a</td>\n",
       "      <td>a3cac821-71b5-4a7b-9467-de3160139b8a</td>\n",
       "      <td>STL_PCS_RQ</td>\n",
       "      <td>DIGITAL_ACCOUNT</td>\n",
       "      <td>2024-01-10T12:27:45Z</td>\n",
       "      <td>2024-01-10T12:27:44Z</td>\n",
       "      <td>100.00</td>\n",
       "      <td>100.00</td>\n",
       "      <td>...</td>\n",
       "      <td>NaN</td>\n",
       "      <td>NaN</td>\n",
       "      <td>NaN</td>\n",
       "      <td>NaN</td>\n",
       "      <td>NaN</td>\n",
       "      <td>SETTLEMENT_MASTER_LOG_MSI_DATE ENERO 2024.tsv</td>\n",
       "      <td>95.82</td>\n",
       "      <td>REGULAR_PYMT_RQ</td>\n",
       "      <td>SETT</td>\n",
       "      <td>NaN</td>\n",
       "    </tr>\n",
       "    <tr>\n",
       "      <th>3</th>\n",
       "      <td>f5a1b5c5-bc06-55da-ac9f-4e1b19f09887</td>\n",
       "      <td>0fba7360-6523-456f-84b5-69d1134d5e05</td>\n",
       "      <td>59cd82c3-ea34-4d92-9f9e-295ffa33fece</td>\n",
       "      <td>59cd82c3-ea34-4d92-9f9e-295ffa33fece</td>\n",
       "      <td>STL_PCS_RQ</td>\n",
       "      <td>DIGITAL_ACCOUNT</td>\n",
       "      <td>2024-01-03T21:48:17Z</td>\n",
       "      <td>2024-01-03T21:48:17Z</td>\n",
       "      <td>10,000.00</td>\n",
       "      <td>10,000.00</td>\n",
       "      <td>...</td>\n",
       "      <td>NaN</td>\n",
       "      <td>NaN</td>\n",
       "      <td>NaN</td>\n",
       "      <td>NaN</td>\n",
       "      <td>NaN</td>\n",
       "      <td>SETTLEMENT_MASTER_LOG_MSI_DATE ENERO 2024.tsv</td>\n",
       "      <td>9,582.40</td>\n",
       "      <td>REGULAR_PYMT_RQ</td>\n",
       "      <td>SETT</td>\n",
       "      <td>NaN</td>\n",
       "    </tr>\n",
       "    <tr>\n",
       "      <th>4</th>\n",
       "      <td>7be136d2-896a-5924-97af-e065a544ceb5</td>\n",
       "      <td>e55b709a-f1fc-400f-934d-f0c97763571c</td>\n",
       "      <td>a5395555-74d0-4fa9-9088-46fb34fc758f</td>\n",
       "      <td>a5395555-74d0-4fa9-9088-46fb34fc758f</td>\n",
       "      <td>STL_PCS_RQ</td>\n",
       "      <td>DIGITAL_ACCOUNT</td>\n",
       "      <td>2024-01-08T16:51:02Z</td>\n",
       "      <td>2024-01-08T16:51:01Z</td>\n",
       "      <td>950.00</td>\n",
       "      <td>950.00</td>\n",
       "      <td>...</td>\n",
       "      <td>NaN</td>\n",
       "      <td>NaN</td>\n",
       "      <td>NaN</td>\n",
       "      <td>NaN</td>\n",
       "      <td>NaN</td>\n",
       "      <td>SETTLEMENT_MASTER_LOG_MSI_DATE ENERO 2024.tsv</td>\n",
       "      <td>910.33</td>\n",
       "      <td>REGULAR_PYMT_RQ</td>\n",
       "      <td>SETT</td>\n",
       "      <td>NaN</td>\n",
       "    </tr>\n",
       "  </tbody>\n",
       "</table>\n",
       "<p>5 rows × 30 columns</p>\n",
       "</div>"
      ],
      "text/plain": [
       "                            record_uuid                           merchant_id  \\\n",
       "0  bba156b3-9e40-5a5f-a84c-fe5f0d012b75  11055d4d-be9c-4308-be06-da7501ec94bb   \n",
       "1  41f41f34-a671-52f9-b024-1fa0a23f6acc  13e050a4-91a1-43d1-9eb7-df35c63e7418   \n",
       "2  b1dde906-40f5-5cc4-90c8-aaca78b6cbbe  99d2f794-ec17-4ba4-925b-75db3299f4bb   \n",
       "3  f5a1b5c5-bc06-55da-ac9f-4e1b19f09887  0fba7360-6523-456f-84b5-69d1134d5e05   \n",
       "4  7be136d2-896a-5924-97af-e065a544ceb5  e55b709a-f1fc-400f-934d-f0c97763571c   \n",
       "\n",
       "                         transaction_id                               mvnt_id  \\\n",
       "0  63271f54-0a59-47b0-945d-3d87d3581ff9  63271f54-0a59-47b0-945d-3d87d3581ff9   \n",
       "1  c2176a5a-554d-4537-ae7c-8912eeed8a15  c2176a5a-554d-4537-ae7c-8912eeed8a15   \n",
       "2  a3cac821-71b5-4a7b-9467-de3160139b8a  a3cac821-71b5-4a7b-9467-de3160139b8a   \n",
       "3  59cd82c3-ea34-4d92-9f9e-295ffa33fece  59cd82c3-ea34-4d92-9f9e-295ffa33fece   \n",
       "4  a5395555-74d0-4fa9-9088-46fb34fc758f  a5395555-74d0-4fa9-9088-46fb34fc758f   \n",
       "\n",
       "    mvnt_type         pymt_prg            created_at                eff_dt  \\\n",
       "0  STL_PCS_RQ  DIGITAL_ACCOUNT  2024-01-05T18:42:13Z  2024-01-06T18:00:00Z   \n",
       "1  STL_PCS_RQ  DIGITAL_ACCOUNT  2024-01-05T12:55:48Z  2024-01-05T12:55:48Z   \n",
       "2  STL_PCS_RQ  DIGITAL_ACCOUNT  2024-01-10T12:27:45Z  2024-01-10T12:27:44Z   \n",
       "3  STL_PCS_RQ  DIGITAL_ACCOUNT  2024-01-03T21:48:17Z  2024-01-03T21:48:17Z   \n",
       "4  STL_PCS_RQ  DIGITAL_ACCOUNT  2024-01-08T16:51:02Z  2024-01-08T16:51:01Z   \n",
       "\n",
       "   psp_amount  gross_amount  ...  dcc_amount  dcc_rate  dcc_status  \\\n",
       "0      280.00        280.00  ...         NaN       NaN         NaN   \n",
       "1      191.00        191.00  ...         NaN       NaN         NaN   \n",
       "2      100.00        100.00  ...         NaN       NaN         NaN   \n",
       "3   10,000.00     10,000.00  ...         NaN       NaN         NaN   \n",
       "4      950.00        950.00  ...         NaN       NaN         NaN   \n",
       "\n",
       "   cc_nb_currency_code  nu_markup  \\\n",
       "0                  NaN        NaN   \n",
       "1                  NaN        NaN   \n",
       "2                  NaN        NaN   \n",
       "3                  NaN        NaN   \n",
       "4                  NaN        NaN   \n",
       "\n",
       "                                       file_name   amount    movement_type  \\\n",
       "0  SETTLEMENT_MASTER_LOG_MSI_DATE ENERO 2024.tsv   268.31  REGULAR_PYMT_RQ   \n",
       "1  SETTLEMENT_MASTER_LOG_MSI_DATE ENERO 2024.tsv   183.02  REGULAR_PYMT_RQ   \n",
       "2  SETTLEMENT_MASTER_LOG_MSI_DATE ENERO 2024.tsv    95.82  REGULAR_PYMT_RQ   \n",
       "3  SETTLEMENT_MASTER_LOG_MSI_DATE ENERO 2024.tsv 9,582.40  REGULAR_PYMT_RQ   \n",
       "4  SETTLEMENT_MASTER_LOG_MSI_DATE ENERO 2024.tsv   910.33  REGULAR_PYMT_RQ   \n",
       "\n",
       "  source_type report_id  \n",
       "0        SETT       NaN  \n",
       "1        SETT       NaN  \n",
       "2        SETT       NaN  \n",
       "3        SETT       NaN  \n",
       "4        SETT       NaN  \n",
       "\n",
       "[5 rows x 30 columns]"
      ]
     },
     "execution_count": 33,
     "metadata": {},
     "output_type": "execute_result"
    }
   ],
   "source": [
    "cruce_1 = sml_dig_acc_final.merge(ap_sett[['mvnt_id','amount','movement_type','source_type','report_id']],on='mvnt_id',how='left')\n",
    "cruce_1.head()"
   ]
  },
  {
   "cell_type": "code",
   "execution_count": 34,
   "id": "976c9a63",
   "metadata": {},
   "outputs": [
    {
     "data": {
      "text/plain": [
       "(1760, 30)"
      ]
     },
     "execution_count": 34,
     "metadata": {},
     "output_type": "execute_result"
    }
   ],
   "source": [
    "cruce_1.shape"
   ]
  },
  {
   "cell_type": "code",
   "execution_count": 35,
   "id": "3092ca0d",
   "metadata": {},
   "outputs": [
    {
     "data": {
      "text/html": [
       "<div>\n",
       "<style scoped>\n",
       "    .dataframe tbody tr th:only-of-type {\n",
       "        vertical-align: middle;\n",
       "    }\n",
       "\n",
       "    .dataframe tbody tr th {\n",
       "        vertical-align: top;\n",
       "    }\n",
       "\n",
       "    .dataframe thead th {\n",
       "        text-align: right;\n",
       "    }\n",
       "</style>\n",
       "<table border=\"1\" class=\"dataframe\">\n",
       "  <thead>\n",
       "    <tr style=\"text-align: right;\">\n",
       "      <th></th>\n",
       "      <th>record_uuid</th>\n",
       "      <th>merchant_id</th>\n",
       "      <th>transaction_id</th>\n",
       "      <th>mvnt_id</th>\n",
       "      <th>mvnt_type</th>\n",
       "      <th>pymt_prg</th>\n",
       "      <th>created_at</th>\n",
       "      <th>eff_dt</th>\n",
       "      <th>psp_amount</th>\n",
       "      <th>gross_amount</th>\n",
       "      <th>...</th>\n",
       "      <th>dcc_amount</th>\n",
       "      <th>dcc_rate</th>\n",
       "      <th>dcc_status</th>\n",
       "      <th>cc_nb_currency_code</th>\n",
       "      <th>nu_markup</th>\n",
       "      <th>file_name</th>\n",
       "      <th>amount</th>\n",
       "      <th>movement_type</th>\n",
       "      <th>source_type</th>\n",
       "      <th>report_id</th>\n",
       "    </tr>\n",
       "  </thead>\n",
       "  <tbody>\n",
       "    <tr>\n",
       "      <th>0</th>\n",
       "      <td>bba156b3-9e40-5a5f-a84c-fe5f0d012b75</td>\n",
       "      <td>11055d4d-be9c-4308-be06-da7501ec94bb</td>\n",
       "      <td>63271f54-0a59-47b0-945d-3d87d3581ff9</td>\n",
       "      <td>63271f54-0a59-47b0-945d-3d87d3581ff9</td>\n",
       "      <td>STL_PCS_RQ</td>\n",
       "      <td>DIGITAL_ACCOUNT</td>\n",
       "      <td>2024-01-05T18:42:13Z</td>\n",
       "      <td>2024-01-06T18:00:00Z</td>\n",
       "      <td>280.00</td>\n",
       "      <td>280.00</td>\n",
       "      <td>...</td>\n",
       "      <td>NaN</td>\n",
       "      <td>NaN</td>\n",
       "      <td>NaN</td>\n",
       "      <td>NaN</td>\n",
       "      <td>NaN</td>\n",
       "      <td>SETTLEMENT_MASTER_LOG_MSI_DATE ENERO 2024.tsv</td>\n",
       "      <td>268.31</td>\n",
       "      <td>REGULAR_PYMT_RQ</td>\n",
       "      <td>SETT</td>\n",
       "      <td>NaN</td>\n",
       "    </tr>\n",
       "    <tr>\n",
       "      <th>1</th>\n",
       "      <td>41f41f34-a671-52f9-b024-1fa0a23f6acc</td>\n",
       "      <td>13e050a4-91a1-43d1-9eb7-df35c63e7418</td>\n",
       "      <td>c2176a5a-554d-4537-ae7c-8912eeed8a15</td>\n",
       "      <td>c2176a5a-554d-4537-ae7c-8912eeed8a15</td>\n",
       "      <td>STL_PCS_RQ</td>\n",
       "      <td>DIGITAL_ACCOUNT</td>\n",
       "      <td>2024-01-05T12:55:48Z</td>\n",
       "      <td>2024-01-05T12:55:48Z</td>\n",
       "      <td>191.00</td>\n",
       "      <td>191.00</td>\n",
       "      <td>...</td>\n",
       "      <td>NaN</td>\n",
       "      <td>NaN</td>\n",
       "      <td>NaN</td>\n",
       "      <td>NaN</td>\n",
       "      <td>NaN</td>\n",
       "      <td>SETTLEMENT_MASTER_LOG_MSI_DATE ENERO 2024.tsv</td>\n",
       "      <td>183.02</td>\n",
       "      <td>REGULAR_PYMT_RQ</td>\n",
       "      <td>SETT</td>\n",
       "      <td>NaN</td>\n",
       "    </tr>\n",
       "    <tr>\n",
       "      <th>2</th>\n",
       "      <td>b1dde906-40f5-5cc4-90c8-aaca78b6cbbe</td>\n",
       "      <td>99d2f794-ec17-4ba4-925b-75db3299f4bb</td>\n",
       "      <td>a3cac821-71b5-4a7b-9467-de3160139b8a</td>\n",
       "      <td>a3cac821-71b5-4a7b-9467-de3160139b8a</td>\n",
       "      <td>STL_PCS_RQ</td>\n",
       "      <td>DIGITAL_ACCOUNT</td>\n",
       "      <td>2024-01-10T12:27:45Z</td>\n",
       "      <td>2024-01-10T12:27:44Z</td>\n",
       "      <td>100.00</td>\n",
       "      <td>100.00</td>\n",
       "      <td>...</td>\n",
       "      <td>NaN</td>\n",
       "      <td>NaN</td>\n",
       "      <td>NaN</td>\n",
       "      <td>NaN</td>\n",
       "      <td>NaN</td>\n",
       "      <td>SETTLEMENT_MASTER_LOG_MSI_DATE ENERO 2024.tsv</td>\n",
       "      <td>95.82</td>\n",
       "      <td>REGULAR_PYMT_RQ</td>\n",
       "      <td>SETT</td>\n",
       "      <td>NaN</td>\n",
       "    </tr>\n",
       "    <tr>\n",
       "      <th>3</th>\n",
       "      <td>f5a1b5c5-bc06-55da-ac9f-4e1b19f09887</td>\n",
       "      <td>0fba7360-6523-456f-84b5-69d1134d5e05</td>\n",
       "      <td>59cd82c3-ea34-4d92-9f9e-295ffa33fece</td>\n",
       "      <td>59cd82c3-ea34-4d92-9f9e-295ffa33fece</td>\n",
       "      <td>STL_PCS_RQ</td>\n",
       "      <td>DIGITAL_ACCOUNT</td>\n",
       "      <td>2024-01-03T21:48:17Z</td>\n",
       "      <td>2024-01-03T21:48:17Z</td>\n",
       "      <td>10,000.00</td>\n",
       "      <td>10,000.00</td>\n",
       "      <td>...</td>\n",
       "      <td>NaN</td>\n",
       "      <td>NaN</td>\n",
       "      <td>NaN</td>\n",
       "      <td>NaN</td>\n",
       "      <td>NaN</td>\n",
       "      <td>SETTLEMENT_MASTER_LOG_MSI_DATE ENERO 2024.tsv</td>\n",
       "      <td>9,582.40</td>\n",
       "      <td>REGULAR_PYMT_RQ</td>\n",
       "      <td>SETT</td>\n",
       "      <td>NaN</td>\n",
       "    </tr>\n",
       "    <tr>\n",
       "      <th>4</th>\n",
       "      <td>7be136d2-896a-5924-97af-e065a544ceb5</td>\n",
       "      <td>e55b709a-f1fc-400f-934d-f0c97763571c</td>\n",
       "      <td>a5395555-74d0-4fa9-9088-46fb34fc758f</td>\n",
       "      <td>a5395555-74d0-4fa9-9088-46fb34fc758f</td>\n",
       "      <td>STL_PCS_RQ</td>\n",
       "      <td>DIGITAL_ACCOUNT</td>\n",
       "      <td>2024-01-08T16:51:02Z</td>\n",
       "      <td>2024-01-08T16:51:01Z</td>\n",
       "      <td>950.00</td>\n",
       "      <td>950.00</td>\n",
       "      <td>...</td>\n",
       "      <td>NaN</td>\n",
       "      <td>NaN</td>\n",
       "      <td>NaN</td>\n",
       "      <td>NaN</td>\n",
       "      <td>NaN</td>\n",
       "      <td>SETTLEMENT_MASTER_LOG_MSI_DATE ENERO 2024.tsv</td>\n",
       "      <td>910.33</td>\n",
       "      <td>REGULAR_PYMT_RQ</td>\n",
       "      <td>SETT</td>\n",
       "      <td>NaN</td>\n",
       "    </tr>\n",
       "  </tbody>\n",
       "</table>\n",
       "<p>5 rows × 30 columns</p>\n",
       "</div>"
      ],
      "text/plain": [
       "                            record_uuid                           merchant_id  \\\n",
       "0  bba156b3-9e40-5a5f-a84c-fe5f0d012b75  11055d4d-be9c-4308-be06-da7501ec94bb   \n",
       "1  41f41f34-a671-52f9-b024-1fa0a23f6acc  13e050a4-91a1-43d1-9eb7-df35c63e7418   \n",
       "2  b1dde906-40f5-5cc4-90c8-aaca78b6cbbe  99d2f794-ec17-4ba4-925b-75db3299f4bb   \n",
       "3  f5a1b5c5-bc06-55da-ac9f-4e1b19f09887  0fba7360-6523-456f-84b5-69d1134d5e05   \n",
       "4  7be136d2-896a-5924-97af-e065a544ceb5  e55b709a-f1fc-400f-934d-f0c97763571c   \n",
       "\n",
       "                         transaction_id                               mvnt_id  \\\n",
       "0  63271f54-0a59-47b0-945d-3d87d3581ff9  63271f54-0a59-47b0-945d-3d87d3581ff9   \n",
       "1  c2176a5a-554d-4537-ae7c-8912eeed8a15  c2176a5a-554d-4537-ae7c-8912eeed8a15   \n",
       "2  a3cac821-71b5-4a7b-9467-de3160139b8a  a3cac821-71b5-4a7b-9467-de3160139b8a   \n",
       "3  59cd82c3-ea34-4d92-9f9e-295ffa33fece  59cd82c3-ea34-4d92-9f9e-295ffa33fece   \n",
       "4  a5395555-74d0-4fa9-9088-46fb34fc758f  a5395555-74d0-4fa9-9088-46fb34fc758f   \n",
       "\n",
       "    mvnt_type         pymt_prg            created_at                eff_dt  \\\n",
       "0  STL_PCS_RQ  DIGITAL_ACCOUNT  2024-01-05T18:42:13Z  2024-01-06T18:00:00Z   \n",
       "1  STL_PCS_RQ  DIGITAL_ACCOUNT  2024-01-05T12:55:48Z  2024-01-05T12:55:48Z   \n",
       "2  STL_PCS_RQ  DIGITAL_ACCOUNT  2024-01-10T12:27:45Z  2024-01-10T12:27:44Z   \n",
       "3  STL_PCS_RQ  DIGITAL_ACCOUNT  2024-01-03T21:48:17Z  2024-01-03T21:48:17Z   \n",
       "4  STL_PCS_RQ  DIGITAL_ACCOUNT  2024-01-08T16:51:02Z  2024-01-08T16:51:01Z   \n",
       "\n",
       "   psp_amount  gross_amount  ...  dcc_amount  dcc_rate  dcc_status  \\\n",
       "0      280.00        280.00  ...         NaN       NaN         NaN   \n",
       "1      191.00        191.00  ...         NaN       NaN         NaN   \n",
       "2      100.00        100.00  ...         NaN       NaN         NaN   \n",
       "3   10,000.00     10,000.00  ...         NaN       NaN         NaN   \n",
       "4      950.00        950.00  ...         NaN       NaN         NaN   \n",
       "\n",
       "   cc_nb_currency_code  nu_markup  \\\n",
       "0                  NaN        NaN   \n",
       "1                  NaN        NaN   \n",
       "2                  NaN        NaN   \n",
       "3                  NaN        NaN   \n",
       "4                  NaN        NaN   \n",
       "\n",
       "                                       file_name   amount    movement_type  \\\n",
       "0  SETTLEMENT_MASTER_LOG_MSI_DATE ENERO 2024.tsv   268.31  REGULAR_PYMT_RQ   \n",
       "1  SETTLEMENT_MASTER_LOG_MSI_DATE ENERO 2024.tsv   183.02  REGULAR_PYMT_RQ   \n",
       "2  SETTLEMENT_MASTER_LOG_MSI_DATE ENERO 2024.tsv    95.82  REGULAR_PYMT_RQ   \n",
       "3  SETTLEMENT_MASTER_LOG_MSI_DATE ENERO 2024.tsv 9,582.40  REGULAR_PYMT_RQ   \n",
       "4  SETTLEMENT_MASTER_LOG_MSI_DATE ENERO 2024.tsv   910.33  REGULAR_PYMT_RQ   \n",
       "\n",
       "  source_type report_id  \n",
       "0        SETT       NaN  \n",
       "1        SETT       NaN  \n",
       "2        SETT       NaN  \n",
       "3        SETT       NaN  \n",
       "4        SETT       NaN  \n",
       "\n",
       "[5 rows x 30 columns]"
      ]
     },
     "execution_count": 35,
     "metadata": {},
     "output_type": "execute_result"
    }
   ],
   "source": [
    "cruce_1_dig_acc = cruce_1[(cruce_1['pymt_prg'] == 'DIGITAL_ACCOUNT')]\n",
    "cruce_1_dig_acc.head()"
   ]
  },
  {
   "cell_type": "code",
   "execution_count": 36,
   "id": "fc7e1a95-0228-46d9-a894-8d01271fc034",
   "metadata": {},
   "outputs": [
    {
     "data": {
      "text/plain": [
       "(1760, 30)"
      ]
     },
     "execution_count": 36,
     "metadata": {},
     "output_type": "execute_result"
    }
   ],
   "source": [
    "cruce_1_dig_acc.shape"
   ]
  },
  {
   "cell_type": "code",
   "execution_count": 37,
   "id": "353d547d-6a9f-4393-b7f2-110c21aebfe0",
   "metadata": {},
   "outputs": [],
   "source": [
    "writer = pd.ExcelWriter('Digital_account_review ENERO 2024 V5.xlsx',\n",
    "                        engine='xlsxwriter',\n",
    "                        engine_kwargs={'options': {'encoding':'utf-8'}})\n",
    "cruce_1_dig_acc.to_excel(writer, sheet_name='SML DIG_ACC',index=False)\n",
    "#ap_dig_acc_movs_dig_acct.to_excel(writer, sheet_name='AP_JOURNAL DIG_ACC',index=False)\n",
    "writer.close()"
   ]
  },
  {
   "cell_type": "code",
   "execution_count": null,
   "id": "4bfb1d94-d24a-410f-a7f7-01637f8f03eb",
   "metadata": {},
   "outputs": [],
   "source": []
  },
  {
   "cell_type": "code",
   "execution_count": null,
   "id": "b96261f8-398d-43db-b17d-3b2ac9f53371",
   "metadata": {},
   "outputs": [],
   "source": []
  },
  {
   "cell_type": "code",
   "execution_count": null,
   "id": "98bdd9fa-2fce-4fd5-99c9-b3b85bc1d8a7",
   "metadata": {},
   "outputs": [],
   "source": []
  },
  {
   "cell_type": "code",
   "execution_count": null,
   "id": "ac8d79f6-5e08-42bf-9da3-db1e852d39b3",
   "metadata": {},
   "outputs": [],
   "source": []
  },
  {
   "cell_type": "code",
   "execution_count": null,
   "id": "bdceb1fa-7767-4da9-b1cf-24788b4ec3e4",
   "metadata": {},
   "outputs": [],
   "source": []
  },
  {
   "cell_type": "code",
   "execution_count": null,
   "id": "76aa4bec-242c-43b3-81ee-ca668e35cc4a",
   "metadata": {},
   "outputs": [],
   "source": []
  },
  {
   "cell_type": "code",
   "execution_count": null,
   "id": "8672dffe-2105-4622-9e2b-0862c13c2edb",
   "metadata": {},
   "outputs": [],
   "source": []
  },
  {
   "cell_type": "code",
   "execution_count": null,
   "id": "8e6792f6-627b-4a81-a8a7-04762943f3ba",
   "metadata": {},
   "outputs": [],
   "source": []
  },
  {
   "cell_type": "code",
   "execution_count": null,
   "id": "947b437e-e828-4032-880e-315e28363993",
   "metadata": {},
   "outputs": [],
   "source": []
  },
  {
   "cell_type": "code",
   "execution_count": null,
   "id": "2604dbd8-aed4-4b98-bd4e-6414fcd56d55",
   "metadata": {},
   "outputs": [],
   "source": []
  },
  {
   "cell_type": "code",
   "execution_count": null,
   "id": "901ffdac-3393-45dc-995a-8497daa09d10",
   "metadata": {},
   "outputs": [],
   "source": []
  },
  {
   "cell_type": "code",
   "execution_count": null,
   "id": "04e29042-3d12-4ff8-b4de-bbdb04b5c836",
   "metadata": {},
   "outputs": [],
   "source": []
  },
  {
   "cell_type": "code",
   "execution_count": null,
   "id": "e1a7c263-bc5f-46d9-8c51-1d21f94fbca3",
   "metadata": {},
   "outputs": [],
   "source": []
  },
  {
   "cell_type": "code",
   "execution_count": null,
   "id": "f4e79a39-1e12-488e-b81c-c7b0e491f7df",
   "metadata": {},
   "outputs": [],
   "source": []
  },
  {
   "cell_type": "code",
   "execution_count": null,
   "id": "d4e4119a-9429-447b-89a5-34f3860b8c0c",
   "metadata": {},
   "outputs": [],
   "source": []
  },
  {
   "cell_type": "code",
   "execution_count": null,
   "id": "74a149e5-bd64-4b53-b528-735375d20cec",
   "metadata": {},
   "outputs": [],
   "source": []
  },
  {
   "cell_type": "code",
   "execution_count": null,
   "id": "0855eb64-bcff-4bdd-9e88-79aa8b6229ff",
   "metadata": {},
   "outputs": [],
   "source": []
  },
  {
   "cell_type": "code",
   "execution_count": null,
   "id": "c3e19b6b-9cbf-44a6-9e05-670293d4ec0e",
   "metadata": {},
   "outputs": [],
   "source": []
  },
  {
   "cell_type": "code",
   "execution_count": null,
   "id": "98b157c6-e09e-426d-9382-1dcd8880a4a5",
   "metadata": {},
   "outputs": [],
   "source": []
  },
  {
   "cell_type": "code",
   "execution_count": null,
   "id": "0fa50d51",
   "metadata": {},
   "outputs": [],
   "source": [
    "cruce_1_not_found.shape"
   ]
  },
  {
   "cell_type": "code",
   "execution_count": null,
   "id": "60cda870",
   "metadata": {},
   "outputs": [],
   "source": [
    "cruce_1_group = cruce_1.groupby(['EFF_DT_DATE','MOVEMENT_TYPE']).agg({'MVNT_ID':'count',\n",
    "                                                                      'GROSS_AMOUNT':sum,\n",
    "                                                                      'FEES':sum,\n",
    "                                                                      'TAXES':sum,\n",
    "                                                                      'NET_AMOUNT':sum,\n",
    "                                                                      'AMOUNT':sum,\n",
    "                                                                     'PSP_AMOUNT':sum,\n",
    "                                                                     'FEES_DEFERRED':sum,\n",
    "                                                                     'TAXES_DEFERRED':sum}).reset_index()\n",
    "cruce_1_group.head()"
   ]
  },
  {
   "cell_type": "code",
   "execution_count": null,
   "id": "7da4da3f",
   "metadata": {},
   "outputs": [],
   "source": [
    "cruce_1_group.shape"
   ]
  },
  {
   "cell_type": "markdown",
   "id": "e3d351fa",
   "metadata": {},
   "source": [
    "# CRUCE_2: DATA AP(PYMT) VS. SETTLEMENT MASTER LOG"
   ]
  },
  {
   "cell_type": "code",
   "execution_count": null,
   "id": "360a3f4f",
   "metadata": {},
   "outputs": [],
   "source": [
    "ap_pymt.head()"
   ]
  },
  {
   "cell_type": "code",
   "execution_count": null,
   "id": "4283dee3",
   "metadata": {},
   "outputs": [],
   "source": [
    "ap_pymt.shape"
   ]
  },
  {
   "cell_type": "code",
   "execution_count": null,
   "id": "62ae225f",
   "metadata": {},
   "outputs": [],
   "source": [
    "cruce_2 = ap_pymt.merge(sml_final[['MVNT_ID','GROSS_AMOUNT','FEES','TAXES','NET_AMOUNT','MDR','MSI','PSP_AMOUNT',\n",
    "                                  'FEES_DEFERRED','TAXES_DEFERRED']],\n",
    "                            on='MVNT_ID',how='left')\n",
    "cruce_2.head()"
   ]
  },
  {
   "cell_type": "code",
   "execution_count": null,
   "id": "d670204d",
   "metadata": {},
   "outputs": [],
   "source": [
    "cruce_2.shape"
   ]
  },
  {
   "cell_type": "code",
   "execution_count": null,
   "id": "dfd07caa",
   "metadata": {},
   "outputs": [],
   "source": [
    "cruce_3 = cruce_2.merge(ap_sett[['MVNT_ID','MOVEMENT_TYPE']],on='MVNT_ID',how='left')\n",
    "cruce_3.rename(columns={'MOVEMENT_TYPE_x':'MOVEMENT_TYPE','MOVEMENT_TYPE_y':'MOVEMENT_TYPE_SETT'},inplace=True)\n",
    "cruce_3.head()"
   ]
  },
  {
   "cell_type": "code",
   "execution_count": null,
   "id": "730967bd",
   "metadata": {},
   "outputs": [],
   "source": [
    "cruce_3.shape"
   ]
  },
  {
   "cell_type": "code",
   "execution_count": null,
   "id": "015e50a5",
   "metadata": {},
   "outputs": [],
   "source": [
    "cruce_3_not_found = cruce_3[(cruce_3['MDR'].isnull())]\n",
    "cruce_3_not_found.head()"
   ]
  },
  {
   "cell_type": "code",
   "execution_count": null,
   "id": "3bad0bb2",
   "metadata": {},
   "outputs": [],
   "source": [
    "cruce_3_not_found.shape"
   ]
  },
  {
   "cell_type": "code",
   "execution_count": null,
   "id": "ae8e1778",
   "metadata": {},
   "outputs": [],
   "source": [
    "cruce_3_group = cruce_3.groupby(['EFF_DT_DATE','MOVEMENT_TYPE','MOVEMENT_TYPE_SETT']).agg({'MVNT_ID':'count',\n",
    "                                                 'GROSS_AMOUNT':sum,\n",
    "                                                 'FEES':sum,\n",
    "                                                 'TAXES':sum,\n",
    "                                                 'NET_AMOUNT':sum,\n",
    "                                                 'AMOUNT':sum,\n",
    "                                                 'PSP_AMOUNT':sum,\n",
    "                                                 'FEES_DEFERRED':sum,\n",
    "                                                 'TAXES_DEFERRED':sum}).reset_index()\n",
    "cruce_3_group.head()"
   ]
  },
  {
   "cell_type": "code",
   "execution_count": null,
   "id": "e0408761",
   "metadata": {},
   "outputs": [],
   "source": [
    "cruce_3_group.shape"
   ]
  },
  {
   "cell_type": "markdown",
   "id": "1dfa318d",
   "metadata": {},
   "source": [
    "# PIVOTS AP JOURNAL"
   ]
  },
  {
   "cell_type": "markdown",
   "id": "1b2c6c2e",
   "metadata": {},
   "source": [
    "### TOPUPS"
   ]
  },
  {
   "cell_type": "code",
   "execution_count": null,
   "id": "7b4fe220",
   "metadata": {},
   "outputs": [],
   "source": [
    "ap_topups['TOPUPS_LEDGER'] = ap_topups['AMOUNT'] / 1.16\n",
    "ap_topups['IVA_TOPUPS_LEDGER'] = ap_topups['TOPUPS_LEDGER'] * 0.16\n",
    "ap_topups.head()"
   ]
  },
  {
   "cell_type": "code",
   "execution_count": null,
   "id": "e72f5438",
   "metadata": {},
   "outputs": [],
   "source": [
    "ap_topups.shape"
   ]
  },
  {
   "cell_type": "code",
   "execution_count": null,
   "id": "7571ca7f",
   "metadata": {},
   "outputs": [],
   "source": [
    "ap_topups_group = ap_topups.groupby(['EFF_DT_DATE']).agg({'MVNT_ID':'count',\n",
    "                                                     'TOPUPS_LEDGER':sum,\n",
    "                                                     'IVA_TOPUPS_LEDGER':sum,\n",
    "                                                     'AMOUNT':sum}).reset_index()\n",
    "ap_topups_group.head()"
   ]
  },
  {
   "cell_type": "code",
   "execution_count": null,
   "id": "4ad86066",
   "metadata": {},
   "outputs": [],
   "source": [
    "ap_topups_group.shape"
   ]
  },
  {
   "cell_type": "markdown",
   "id": "d2b75027",
   "metadata": {},
   "source": [
    "### LOANS"
   ]
  },
  {
   "cell_type": "code",
   "execution_count": null,
   "id": "805e3fd8",
   "metadata": {},
   "outputs": [],
   "source": [
    "ap_loan.head()"
   ]
  },
  {
   "cell_type": "code",
   "execution_count": null,
   "id": "cb14b6da",
   "metadata": {},
   "outputs": [],
   "source": [
    "ap_loan.shape"
   ]
  },
  {
   "cell_type": "code",
   "execution_count": null,
   "id": "dbd82881-0f11-4e76-b228-787f90c8cbc1",
   "metadata": {},
   "outputs": [],
   "source": [
    "ap_loan_1 = ap_loan[(ap_loan['EFF_DT_DATE'] >= start_date) & (ap_loan['EFF_DT_DATE'] <= final_date_1)]\n",
    "ap_loan_2 = ap_loan[(ap_loan['EFF_DT_DATE'] >= start_date_1) & (ap_loan['EFF_DT_DATE'] <= final_date)]"
   ]
  },
  {
   "cell_type": "code",
   "execution_count": null,
   "id": "1d2fd2bb",
   "metadata": {},
   "outputs": [],
   "source": [
    "ap_loan_group = ap_loan.groupby(['EFF_DT_DATE']).agg({'MVNT_ID':'count',\n",
    "                                                     'AMOUNT':sum}).reset_index()\n",
    "ap_loan_group.head()"
   ]
  },
  {
   "cell_type": "code",
   "execution_count": null,
   "id": "15f295be",
   "metadata": {},
   "outputs": [],
   "source": [
    "ap_loan_group.shape"
   ]
  },
  {
   "cell_type": "markdown",
   "id": "ff4fa18a",
   "metadata": {},
   "source": [
    "### RIESGO "
   ]
  },
  {
   "cell_type": "code",
   "execution_count": null,
   "id": "f8743b64",
   "metadata": {},
   "outputs": [],
   "source": [
    "ap_risk.head()"
   ]
  },
  {
   "cell_type": "code",
   "execution_count": null,
   "id": "5d4096af",
   "metadata": {},
   "outputs": [],
   "source": [
    "ap_risk.shape"
   ]
  },
  {
   "cell_type": "code",
   "execution_count": null,
   "id": "8a7b008d",
   "metadata": {},
   "outputs": [],
   "source": [
    "ap_risk['MOVEMENT_TYPE'].unique()"
   ]
  },
  {
   "cell_type": "code",
   "execution_count": null,
   "id": "d2962a95",
   "metadata": {},
   "outputs": [],
   "source": [
    "ap_risk_group = pd.pivot_table(ap_risk,index=['EFF_DT_DATE'],\n",
    "                                  columns=['MOVEMENT_TYPE'],\n",
    "                                  values=['AMOUNT'],\n",
    "                               aggfunc = ['sum'],margins=True).reset_index()\n",
    "ap_risk_group.fillna(0,inplace=True)\n",
    "#ap_risk_group.drop(columns=['B', 'C'])\n",
    "ap_risk_group.head()"
   ]
  },
  {
   "cell_type": "code",
   "execution_count": null,
   "id": "96fb6a96",
   "metadata": {},
   "outputs": [],
   "source": [
    "ap_risk_group.shape"
   ]
  },
  {
   "cell_type": "markdown",
   "id": "9580e6b9",
   "metadata": {},
   "source": [
    "### RIESGO CON TIPO DE PAGO"
   ]
  },
  {
   "cell_type": "code",
   "execution_count": null,
   "id": "245aa199",
   "metadata": {},
   "outputs": [],
   "source": [
    "ap_risk_final = pd.concat([pd.read_csv(f).assign(file_name=os.path.basename(f)) for f in ap_risk_files]).reset_index(drop=True)\n",
    "ap_risk_final.replace('\"\"','', regex=True, inplace=True)\n",
    "ap_risk_final['EFF_DT'] =  pd.to_datetime(ap_risk_final['EFF_DT']).dt.tz_localize(None)\n",
    "ap_risk_final['EFF_DT_DATE'] =  pd.to_datetime(ap_risk_final['EFF_DT']).dt.date\n",
    "ap_risk_final['EFF_DT_DATE'] =  pd.to_datetime(ap_risk_final['EFF_DT_DATE']).dt.tz_localize(None)\n",
    "ap_risk_final['EFF_DT_TIME'] =  pd.to_datetime(ap_risk_final['EFF_DT']).dt.time\n",
    "ap_risk_final['MOVEMENT_DAY'] = pd.to_datetime(ap_risk_final['MOVEMENT_DAY']).dt.tz_localize(None)\n",
    "ap_risk_final['CREATED_AT'] = pd.to_datetime(ap_risk_final['CREATED_AT']).dt.tz_localize(None)\n",
    "ap_risk_final['REQUEST_EFFECTIVE_DATE'] = pd.to_datetime(ap_risk_final['REQUEST_EFFECTIVE_DATE']).dt.tz_localize(None)\n",
    "ap_risk_final['SLOT_DATE'] = pd.to_datetime(ap_risk_final['SLOT_DATE']).dt.tz_localize(None)\n",
    "ap_risk_final['IDENTIFIER'] = ap_risk_final['SOURCE_TYPE'].str[:1].astype(str)\n",
    "ap_risk_final['PYMT_PRG'].fillna('NOT_FOUND',inplace=True)\n",
    "ap_risk_final['INDEX'] = (ap_risk_final['EFF_DT_DATE'].astype(str).replace(' ', '',regex=True)+'-'+\n",
    "               ap_risk_final['IDENTIFIER'].astype(str).replace(' ', '',regex=True)+'-'+\n",
    "               ap_risk_final['EFF_DT_TIME'].astype(str).replace(' ', '',regex=True))\n",
    "ap_risk_final.sort_values(by=(['MERCHANT_ID','EFF_DT']), ascending=[True,False], inplace=True)\n",
    "ap_risk_final.head()"
   ]
  },
  {
   "cell_type": "code",
   "execution_count": null,
   "id": "ebd8b49a",
   "metadata": {},
   "outputs": [],
   "source": [
    "ap_risk_final.shape"
   ]
  },
  {
   "cell_type": "code",
   "execution_count": null,
   "id": "10f4ffd8",
   "metadata": {},
   "outputs": [],
   "source": [
    "ap_risk_final_dup = ap_risk_final[ap_risk_final.duplicated(['MVNT_ID'] , keep=False)]\n",
    "ap_risk_final_dup.head()"
   ]
  },
  {
   "cell_type": "code",
   "execution_count": null,
   "id": "a7b6c843",
   "metadata": {},
   "outputs": [],
   "source": [
    "ap_risk_final_dup.shape"
   ]
  },
  {
   "cell_type": "code",
   "execution_count": null,
   "id": "d1f18540",
   "metadata": {},
   "outputs": [],
   "source": [
    "ap_risk_final['MOVEMENT_TYPE'].unique()"
   ]
  },
  {
   "cell_type": "code",
   "execution_count": null,
   "id": "77fe1a9c",
   "metadata": {},
   "outputs": [],
   "source": [
    "ap_risk_final_group = pd.pivot_table(ap_risk_final,index=['EFF_DT_DATE'],\n",
    "                                  columns=['PYMT_PRG','MOVEMENT_TYPE'],\n",
    "                                  values=['AMOUNT'],\n",
    "                                     aggfunc = ['sum'],margins=True).reset_index()\n",
    "ap_risk_final_group.fillna(0,inplace=True)\n",
    "#ap_risk_group.drop(columns=['B', 'C'])\n",
    "ap_risk_final_group.head()"
   ]
  },
  {
   "cell_type": "code",
   "execution_count": null,
   "id": "f8e538e3",
   "metadata": {},
   "outputs": [],
   "source": [
    "ap_risk_final_group.shape"
   ]
  },
  {
   "cell_type": "markdown",
   "id": "4e4040f9",
   "metadata": {},
   "source": [
    "### DISBURSEMENT"
   ]
  },
  {
   "cell_type": "code",
   "execution_count": null,
   "id": "643939bd",
   "metadata": {},
   "outputs": [],
   "source": [
    "ap_disb.head()"
   ]
  },
  {
   "cell_type": "code",
   "execution_count": null,
   "id": "8fdec47f",
   "metadata": {},
   "outputs": [],
   "source": [
    "ap_disb.shape"
   ]
  },
  {
   "cell_type": "code",
   "execution_count": null,
   "id": "1f9aa63f",
   "metadata": {},
   "outputs": [],
   "source": [
    "ap_disb_group = ap_disb.groupby(['EFF_DT_DATE','MOVEMENT_TYPE']).agg({'MVNT_ID':'count',\n",
    "                                                     'AMOUNT':sum}).reset_index()\n",
    "ap_disb_group.head()"
   ]
  },
  {
   "cell_type": "code",
   "execution_count": null,
   "id": "d8cdda98",
   "metadata": {},
   "outputs": [],
   "source": [
    "ap_disb_group.shape"
   ]
  },
  {
   "cell_type": "markdown",
   "id": "52a93975",
   "metadata": {},
   "source": [
    "### SETT ADPTR"
   ]
  },
  {
   "cell_type": "code",
   "execution_count": null,
   "id": "3ed95266",
   "metadata": {},
   "outputs": [],
   "source": [
    "ap_sett_adptr.head()"
   ]
  },
  {
   "cell_type": "code",
   "execution_count": null,
   "id": "4d013695",
   "metadata": {},
   "outputs": [],
   "source": [
    "ap_sett_adptr.shape"
   ]
  },
  {
   "cell_type": "code",
   "execution_count": null,
   "id": "f6f330f6",
   "metadata": {},
   "outputs": [],
   "source": [
    "ap_sett_adptr_group = ap_sett_adptr.groupby(['EFF_DT_DATE','MOVEMENT_TYPE']).agg({'MVNT_ID':'count',\n",
    "                                                     'AMOUNT':sum}).reset_index()\n",
    "ap_sett_adptr_group.head()"
   ]
  },
  {
   "cell_type": "code",
   "execution_count": null,
   "id": "7429827f",
   "metadata": {},
   "outputs": [],
   "source": [
    "ap_sett_adptr_group.shape"
   ]
  },
  {
   "cell_type": "markdown",
   "id": "d4d55f41",
   "metadata": {},
   "source": [
    "### TAXES"
   ]
  },
  {
   "cell_type": "code",
   "execution_count": null,
   "id": "c18da878",
   "metadata": {},
   "outputs": [],
   "source": [
    "ap_taxes.head()"
   ]
  },
  {
   "cell_type": "code",
   "execution_count": null,
   "id": "ea00b32f",
   "metadata": {},
   "outputs": [],
   "source": [
    "ap_taxes.shape"
   ]
  },
  {
   "cell_type": "code",
   "execution_count": null,
   "id": "fab5528c",
   "metadata": {},
   "outputs": [],
   "source": [
    "ap_taxes_group = ap_taxes.groupby(['EFF_DT_DATE','MOVEMENT_TYPE','SOURCE_TYPE']).agg({'MVNT_ID':'count',\n",
    "                                                     'AMOUNT':sum}).reset_index()\n",
    "ap_taxes_group.head()"
   ]
  },
  {
   "cell_type": "code",
   "execution_count": null,
   "id": "08cbb13f",
   "metadata": {},
   "outputs": [],
   "source": [
    "ap_taxes_group.shape"
   ]
  },
  {
   "cell_type": "markdown",
   "id": "1ccf3619",
   "metadata": {},
   "source": [
    "### REFUNDS"
   ]
  },
  {
   "cell_type": "code",
   "execution_count": null,
   "id": "1a29568e",
   "metadata": {},
   "outputs": [],
   "source": [
    "ap_refunds.head()"
   ]
  },
  {
   "cell_type": "code",
   "execution_count": null,
   "id": "e645f569",
   "metadata": {},
   "outputs": [],
   "source": [
    "ap_refunds.shape"
   ]
  },
  {
   "cell_type": "code",
   "execution_count": null,
   "id": "b9f3bf4a",
   "metadata": {},
   "outputs": [],
   "source": [
    "ap_refunds.to_excel('REFUNDS_NOVIEMBRE_2023.xlsx',index=False)"
   ]
  },
  {
   "cell_type": "code",
   "execution_count": null,
   "id": "e677f4ff",
   "metadata": {},
   "outputs": [],
   "source": [
    "ap_refunds_group = ap_refunds.groupby(['EFF_DT_DATE','MOVEMENT_TYPE','SOURCE_TYPE']).agg({'MVNT_ID':'count',\n",
    "                                                     'AMOUNT':sum}).reset_index()\n",
    "ap_refunds_group.head()"
   ]
  },
  {
   "cell_type": "code",
   "execution_count": null,
   "id": "5757f69c",
   "metadata": {},
   "outputs": [],
   "source": [
    "ap_refunds_group.shape"
   ]
  },
  {
   "cell_type": "markdown",
   "id": "2cdb3b77",
   "metadata": {},
   "source": [
    "### REFUNDS CON FEES Y TAXES"
   ]
  },
  {
   "cell_type": "code",
   "execution_count": null,
   "id": "4145af94",
   "metadata": {},
   "outputs": [],
   "source": [
    "ap_refunds_fees_taxes = pd.concat([pd.read_csv(f).assign(file_name=os.path.basename(f)) for f in ap_refunds_files]).reset_index(drop=True)\n",
    "ap_refunds_fees_taxes.replace('\"\"','', regex=True, inplace=True)\n",
    "ap_refunds_fees_taxes['EFF_DT'] =  pd.to_datetime(ap_refunds_fees_taxes['EFF_DT']).dt.tz_localize(None)\n",
    "ap_refunds_fees_taxes['EFF_DT_DATE'] =  pd.to_datetime(ap_refunds_fees_taxes['EFF_DT']).dt.date\n",
    "ap_refunds_fees_taxes['EFF_DT_DATE'] =  pd.to_datetime(ap_refunds_fees_taxes['EFF_DT_DATE']).dt.tz_localize(None)\n",
    "ap_refunds_fees_taxes['EFF_DT_TIME'] =  pd.to_datetime(ap_refunds_fees_taxes['EFF_DT']).dt.time\n",
    "ap_refunds_fees_taxes['MOVEMENT_DAY'] = pd.to_datetime(ap_refunds_fees_taxes['MOVEMENT_DAY']).dt.tz_localize(None)\n",
    "ap_refunds_fees_taxes['CREATED_AT'] = pd.to_datetime(ap_refunds_fees_taxes['CREATED_AT']).dt.tz_localize(None)\n",
    "ap_refunds_fees_taxes['REQUEST_EFFECTIVE_DATE'] = pd.to_datetime(ap_refunds_fees_taxes['REQUEST_EFFECTIVE_DATE']).dt.tz_localize(None)\n",
    "ap_refunds_fees_taxes['SLOT_DATE'] = pd.to_datetime(ap_refunds_fees_taxes['SLOT_DATE']).dt.tz_localize(None)\n",
    "ap_refunds_fees_taxes.sort_values(by=(['MERCHANT_ID','EFF_DT']), ascending=[True,False], inplace=True)\n",
    "ap_refunds_fees_taxes['FEES_REFUNDS'] = (ap_refunds_fees_taxes['GROSS_AMOUNT'] + ap_refunds_fees_taxes['NET_AMOUNT']) / 1.1600\n",
    "ap_refunds_fees_taxes['TAXES_REFUNDS'] = ap_refunds_fees_taxes['FEES_REFUNDS'] * 0.1600 \n",
    "ap_refunds_fees_taxes.head()"
   ]
  },
  {
   "cell_type": "code",
   "execution_count": null,
   "id": "2c48233e",
   "metadata": {},
   "outputs": [],
   "source": [
    "ap_refunds_fees_taxes.shape"
   ]
  },
  {
   "cell_type": "code",
   "execution_count": null,
   "id": "2d1452fd",
   "metadata": {},
   "outputs": [],
   "source": [
    "ap_refunds_fees_taxes_group = ap_refunds_fees_taxes.groupby(['EFF_DT_DATE','MOVEMENT_TYPE','SOURCE_TYPE']).agg({'MVNT_ID':'count',\n",
    "                                                     'GROSS_AMOUNT':sum,'FEES_REFUNDS':sum,'TAXES_REFUNDS':sum}).reset_index()\n",
    "ap_refunds_fees_taxes_group.head()"
   ]
  },
  {
   "cell_type": "code",
   "execution_count": null,
   "id": "29212864",
   "metadata": {},
   "outputs": [],
   "source": [
    "ap_refunds_fees_taxes_group.shape"
   ]
  },
  {
   "cell_type": "markdown",
   "id": "e22afcd1",
   "metadata": {},
   "source": [
    "### BILL PAYMENTS"
   ]
  },
  {
   "cell_type": "code",
   "execution_count": null,
   "id": "f3068bce",
   "metadata": {},
   "outputs": [],
   "source": [
    "ap_bill_pymnt.head()"
   ]
  },
  {
   "cell_type": "code",
   "execution_count": null,
   "id": "e90ce157",
   "metadata": {},
   "outputs": [],
   "source": [
    "ap_bill_pymnt.shape"
   ]
  },
  {
   "cell_type": "code",
   "execution_count": null,
   "id": "0cd43b1a",
   "metadata": {},
   "outputs": [],
   "source": [
    "ap_bill_pymnt_group = ap_bill_pymnt.groupby(['EFF_DT_DATE','MOVEMENT_TYPE','SOURCE_TYPE']).agg({'MVNT_ID':'count',\n",
    "                                                     'AMOUNT':sum}).reset_index()\n",
    "ap_bill_pymnt_group.head()"
   ]
  },
  {
   "cell_type": "code",
   "execution_count": null,
   "id": "98bb64b9",
   "metadata": {},
   "outputs": [],
   "source": [
    "ap_bill_pymnt_group.shape"
   ]
  },
  {
   "cell_type": "markdown",
   "id": "99cb8ee0",
   "metadata": {},
   "source": [
    "### BILL PAYMENTS CON FEES"
   ]
  },
  {
   "cell_type": "code",
   "execution_count": null,
   "id": "f753b0ed",
   "metadata": {},
   "outputs": [],
   "source": [
    "ap_bill_pymnt_fees_taxes = pd.concat([pd.read_csv(f).assign(file_name=os.path.basename(f)) for f in ap_bill_pymnt_files]).reset_index(drop=True)\n",
    "ap_bill_pymnt_fees_taxes.replace('\"\"','', regex=True, inplace=True)\n",
    "ap_bill_pymnt_fees_taxes['EFF_DT'] =  pd.to_datetime(ap_bill_pymnt_fees_taxes['EFF_DT']).dt.tz_localize(None)\n",
    "ap_bill_pymnt_fees_taxes['EFF_DT_DATE'] =  pd.to_datetime(ap_bill_pymnt_fees_taxes['EFF_DT']).dt.date\n",
    "ap_bill_pymnt_fees_taxes['EFF_DT_DATE'] =  pd.to_datetime(ap_bill_pymnt_fees_taxes['EFF_DT_DATE']).dt.tz_localize(None)\n",
    "ap_bill_pymnt_fees_taxes['EFF_DT_TIME'] =  pd.to_datetime(ap_bill_pymnt_fees_taxes['EFF_DT']).dt.time\n",
    "ap_bill_pymnt_fees_taxes['MOVEMENT_DAY'] = pd.to_datetime(ap_bill_pymnt_fees_taxes['MOVEMENT_DAY']).dt.tz_localize(None)\n",
    "ap_bill_pymnt_fees_taxes['CREATED_AT'] = pd.to_datetime(ap_bill_pymnt_fees_taxes['CREATED_AT']).dt.tz_localize(None)\n",
    "ap_bill_pymnt_fees_taxes['REQUEST_EFFECTIVE_DATE'] = pd.to_datetime(ap_bill_pymnt_fees_taxes['REQUEST_EFFECTIVE_DATE']).dt.tz_localize(None)\n",
    "ap_bill_pymnt_fees_taxes['SLOT_DATE'] = pd.to_datetime(ap_bill_pymnt_fees_taxes['SLOT_DATE']).dt.tz_localize(None)\n",
    "ap_bill_pymnt_fees_taxes['FEES_FRONTEND_COMMISSION'] = ap_bill_pymnt_fees_taxes['FRONTEND_COMMISSION']/1.1600\n",
    "ap_bill_pymnt_fees_taxes['TAXES_FRONTEND_COMMISSION'] = ap_bill_pymnt_fees_taxes['FEES_FRONTEND_COMMISSION']*0.1600\n",
    "ap_bill_pymnt_fees_taxes['FEES_MERCHANT_COMMISSION'] = ap_bill_pymnt_fees_taxes['MERCHANT_COMMISSION']/1.1600\n",
    "ap_bill_pymnt_fees_taxes['TAXES_MERCHANT_COMMISSION'] = ap_bill_pymnt_fees_taxes['FEES_MERCHANT_COMMISSION']*0.1600\n",
    "ap_bill_pymnt_fees_taxes['FEES_NET_AMOUNT'] = ap_bill_pymnt_fees_taxes['AMOUNT']/1.1600\n",
    "ap_bill_pymnt_fees_taxes['TAXES_NET_AMOUNT'] = ap_bill_pymnt_fees_taxes['FEES_NET_AMOUNT']*0.1600\n",
    "ap_bill_pymnt_fees_taxes.sort_values(by=(['MERCHANT_ID','EFF_DT']), ascending=[True,False], inplace=True)\n",
    "ap_bill_pymnt_fees_taxes.head()"
   ]
  },
  {
   "cell_type": "code",
   "execution_count": null,
   "id": "f8a6e6b5",
   "metadata": {},
   "outputs": [],
   "source": [
    "ap_bill_pymnt_fees_taxes.shape"
   ]
  },
  {
   "cell_type": "code",
   "execution_count": null,
   "id": "987170a7",
   "metadata": {},
   "outputs": [],
   "source": [
    "ap_bill_pymnt_fees_taxes['SERVICE_BILLERS_STATUS'].unique()"
   ]
  },
  {
   "cell_type": "code",
   "execution_count": null,
   "id": "346de27e",
   "metadata": {},
   "outputs": [],
   "source": [
    "ap_bill_pymnt_fees_taxes_group = ap_bill_pymnt_fees_taxes.groupby(['EFF_DT_DATE','MOVEMENT_TYPE','SOURCE_TYPE','SERVICE_BILLERS_STATUS']).agg({'MVNT_ID':'count',\n",
    "                                                                                                                      'GROSS_AMOUNT':sum,\n",
    "                                                                                                                     'AMOUNT_PAID':sum,\n",
    "                                                                                                                     'FRONTEND_COMMISSION':sum,\n",
    "                                                                                                                     'FEES_FRONTEND_COMMISSION':sum,   \n",
    "                                                                                                                     'TAXES_FRONTEND_COMMISSION':sum,   \n",
    "                                                                                                                     'MERCHANT_COMMISSION':sum,\n",
    "                                                                                                                     'FEES_MERCHANT_COMMISSION':sum,\n",
    "                                                                                                                     'TAXES_MERCHANT_COMMISSION':sum,\n",
    "                                                                                                                     'AMOUNT':sum,\n",
    "                                                                                                                     'FEES_NET_AMOUNT':sum,\n",
    "                                                                                                                     'TAXES_NET_AMOUNT':sum}).reset_index()\n",
    "ap_bill_pymnt_fees_taxes_group.head()"
   ]
  },
  {
   "cell_type": "code",
   "execution_count": null,
   "id": "e2b5ffad",
   "metadata": {},
   "outputs": [],
   "source": [
    "ap_bill_pymnt_fees_taxes_group.shape"
   ]
  },
  {
   "cell_type": "markdown",
   "id": "6af7e5df",
   "metadata": {},
   "source": [
    "### PROMO"
   ]
  },
  {
   "cell_type": "code",
   "execution_count": null,
   "id": "580a6be5",
   "metadata": {},
   "outputs": [],
   "source": [
    "ap_promo.head()"
   ]
  },
  {
   "cell_type": "code",
   "execution_count": null,
   "id": "90781e05",
   "metadata": {},
   "outputs": [],
   "source": [
    "ap_promo.shape"
   ]
  },
  {
   "cell_type": "code",
   "execution_count": null,
   "id": "30cc133f",
   "metadata": {},
   "outputs": [],
   "source": [
    "ap_promo_group = ap_promo.groupby(['EFF_DT_DATE','MOVEMENT_TYPE','SOURCE_TYPE']).agg({'MVNT_ID':'count',\n",
    "                                                     'AMOUNT':sum}).reset_index()\n",
    "ap_promo_group.head()"
   ]
  },
  {
   "cell_type": "code",
   "execution_count": null,
   "id": "d19eada0",
   "metadata": {},
   "outputs": [],
   "source": [
    "ap_promo_group.shape"
   ]
  },
  {
   "cell_type": "markdown",
   "id": "a9b72685",
   "metadata": {},
   "source": [
    "### CAAL - AP JOURNAL"
   ]
  },
  {
   "cell_type": "markdown",
   "id": "0b743308",
   "metadata": {},
   "source": [
    "#### CAAL - QUERY"
   ]
  },
  {
   "cell_type": "code",
   "execution_count": null,
   "id": "b5d7fb3c",
   "metadata": {},
   "outputs": [],
   "source": [
    "caal = pd.concat([pd.read_csv(f).assign(file_name=os.path.basename(f)) for f in caal_files]).reset_index(drop=True)\n",
    "caal['COLLECTION_DATE_LOCAL'] =  pd.to_datetime(caal['COLLECTION_DATE_LOCAL'])\n",
    "caal.head()"
   ]
  },
  {
   "cell_type": "code",
   "execution_count": null,
   "id": "eefcab03",
   "metadata": {},
   "outputs": [],
   "source": [
    "caal.shape"
   ]
  },
  {
   "cell_type": "code",
   "execution_count": null,
   "id": "61f5ce65",
   "metadata": {},
   "outputs": [],
   "source": [
    "caal_final = caal[(caal['COLLECTION_DATE_LOCAL'] >= start_date) & (caal['COLLECTION_DATE_LOCAL'] <= final_date)]\n",
    "caal_final.head()"
   ]
  },
  {
   "cell_type": "code",
   "execution_count": null,
   "id": "1c5d8fcd",
   "metadata": {},
   "outputs": [],
   "source": [
    "caal_final.shape"
   ]
  },
  {
   "cell_type": "code",
   "execution_count": null,
   "id": "fa305daf",
   "metadata": {},
   "outputs": [],
   "source": [
    "caal_final_group = caal_final.groupby(['COLLECTION_DATE_LOCAL','PROVIDER_CODE','COLLECTION_ORIGIN','FUNDED_BY',\n",
    "                                      'SOURCE']).agg({'LOAN_ID':'count','AMOUNT':sum,'CAPITAL':sum,'INTEREST':sum,\n",
    "                                                      'TAX':sum}).reset_index()\n",
    "caal_final_group.head()"
   ]
  },
  {
   "cell_type": "code",
   "execution_count": null,
   "id": "bbb2a5bd",
   "metadata": {},
   "outputs": [],
   "source": [
    "caal_final_group.shape"
   ]
  },
  {
   "cell_type": "markdown",
   "id": "3ebfc914",
   "metadata": {},
   "source": [
    "#### AP JOURNAL"
   ]
  },
  {
   "cell_type": "code",
   "execution_count": null,
   "id": "eb3a792b",
   "metadata": {},
   "outputs": [],
   "source": [
    "# ap_caal.rename(columns ={'AMOUNT':'LOAN_AMOUNT'},inplace=True)\n",
    "# ap_caal['LOAN_ID'] = ap_caal['MVNT_ID']\n",
    "ap_caal.head()"
   ]
  },
  {
   "cell_type": "code",
   "execution_count": null,
   "id": "3b7be03c",
   "metadata": {},
   "outputs": [],
   "source": [
    "ap_caal.shape"
   ]
  },
  {
   "cell_type": "code",
   "execution_count": null,
   "id": "029c2205",
   "metadata": {},
   "outputs": [],
   "source": [
    "ap_caal_group = ap_caal.groupby(['EFF_DT_DATE','MOVEMENT_TYPE','SOURCE_TYPE']).agg({'MVNT_ID':'count',\n",
    "                                                     'AMOUNT':sum}).reset_index()\n",
    "ap_caal_group.head()"
   ]
  },
  {
   "cell_type": "code",
   "execution_count": null,
   "id": "0ce598a2",
   "metadata": {},
   "outputs": [],
   "source": [
    "ap_caal_group.shape"
   ]
  },
  {
   "cell_type": "markdown",
   "id": "608885fd",
   "metadata": {},
   "source": [
    "### FEE_REFUNDS"
   ]
  },
  {
   "cell_type": "code",
   "execution_count": null,
   "id": "55025c4e",
   "metadata": {},
   "outputs": [],
   "source": [
    "ap_fee_refunds.head()"
   ]
  },
  {
   "cell_type": "code",
   "execution_count": null,
   "id": "57f8418d",
   "metadata": {},
   "outputs": [],
   "source": [
    "ap_fee_refunds.shape"
   ]
  },
  {
   "cell_type": "code",
   "execution_count": null,
   "id": "a9a76731",
   "metadata": {},
   "outputs": [],
   "source": [
    "ap_fee_refunds_group = ap_fee_refunds.groupby(['EFF_DT_DATE','MOVEMENT_TYPE','SOURCE_TYPE']).agg({'MVNT_ID':'count',\n",
    "                                                     'AMOUNT':sum}).reset_index()\n",
    "ap_fee_refunds_group.head()"
   ]
  },
  {
   "cell_type": "code",
   "execution_count": null,
   "id": "9080e3a1",
   "metadata": {},
   "outputs": [],
   "source": [
    "ap_fee_refunds_group.shape"
   ]
  },
  {
   "cell_type": "code",
   "execution_count": null,
   "id": "85f4f07d",
   "metadata": {},
   "outputs": [],
   "source": [
    "sorted(list(ap['SOURCE_TYPE'].unique()))"
   ]
  },
  {
   "cell_type": "markdown",
   "id": "7dd6ab95",
   "metadata": {},
   "source": [
    "### DIGITAL ACCOUNTS"
   ]
  },
  {
   "cell_type": "code",
   "execution_count": null,
   "id": "2a1b0c44",
   "metadata": {},
   "outputs": [],
   "source": [
    "ap_dig_acc.head()"
   ]
  },
  {
   "cell_type": "code",
   "execution_count": null,
   "id": "3632bb77",
   "metadata": {},
   "outputs": [],
   "source": [
    "ap_dig_acc.shape"
   ]
  },
  {
   "cell_type": "code",
   "execution_count": null,
   "id": "8f5d1b3f",
   "metadata": {},
   "outputs": [],
   "source": [
    "ap_dig_acc_group = ap_dig_acc.groupby(['EFF_DT_DATE','MOVEMENT_TYPE','SOURCE_TYPE']).agg({'MVNT_ID':'count',\n",
    "                                                     'AMOUNT':sum}).reset_index()\n",
    "ap_dig_acc_group.head()"
   ]
  },
  {
   "cell_type": "code",
   "execution_count": null,
   "id": "a0bcbe71",
   "metadata": {},
   "outputs": [],
   "source": [
    "ap_dig_acc_group.shape"
   ]
  },
  {
   "cell_type": "markdown",
   "id": "462710a4",
   "metadata": {},
   "source": [
    "### DATA"
   ]
  },
  {
   "cell_type": "code",
   "execution_count": null,
   "id": "c255a074",
   "metadata": {},
   "outputs": [],
   "source": [
    "ap_data.head()"
   ]
  },
  {
   "cell_type": "code",
   "execution_count": null,
   "id": "8ff28843",
   "metadata": {},
   "outputs": [],
   "source": [
    "ap_data.shape"
   ]
  },
  {
   "cell_type": "code",
   "execution_count": null,
   "id": "46a97331",
   "metadata": {},
   "outputs": [],
   "source": [
    "ap_data_group = ap_data.groupby(['EFF_DT_DATE','MOVEMENT_TYPE','SOURCE_TYPE']).agg({'MVNT_ID':'count',\n",
    "                                                     'AMOUNT':sum}).reset_index()\n",
    "ap_data_group.head()"
   ]
  },
  {
   "cell_type": "code",
   "execution_count": null,
   "id": "69fdb835",
   "metadata": {},
   "outputs": [],
   "source": [
    "ap_data_group.shape"
   ]
  },
  {
   "cell_type": "markdown",
   "id": "8a8b8212",
   "metadata": {},
   "source": [
    "# EXCEL PIVOT DYNAMO"
   ]
  },
  {
   "cell_type": "code",
   "execution_count": null,
   "id": "7ed96783",
   "metadata": {},
   "outputs": [],
   "source": [
    "writer = pd.ExcelWriter('AGRUPACION-FECHA DYNAMO ENERO 2024.xlsx',\n",
    "                        engine='xlsxwriter',\n",
    "                        engine_kwargs={'options': {'encoding':'utf-8'}})\n",
    "ap_bill_pymnt_group.to_excel(writer, sheet_name='BILL_PYMNT',index=False)\n",
    "ap_bill_pymnt_fees_taxes_group.to_excel(writer, sheet_name='BILL_PYMNT_FEES_TAXES',index=False)\n",
    "ap_caal_group.to_excel(writer, sheet_name='CAAL - AP_JOURNAL',index=False)\n",
    "caal_final_group.to_excel(writer, sheet_name='CAAL - REGISTRO CONTABLE',index=False)\n",
    "ap_data_group.to_excel(writer, sheet_name='DATA',index=False)\n",
    "ap_dig_acc_group.to_excel(writer, sheet_name='DIG_ACC',index=False)\n",
    "ap_disb_group.to_excel(writer, sheet_name='DISB',index=False)\n",
    "ap_fee_refunds_group.to_excel(writer, sheet_name='FEE_REFUNDS',index=False)\n",
    "ap_loan_group.to_excel(writer, sheet_name='LOANS',index=False)\n",
    "ap_promo_group.to_excel(writer, sheet_name='PROMO',index=False)\n",
    "cruce_3_group.to_excel(writer, sheet_name='PYMT',index=False)\n",
    "ap_refunds_group.to_excel(writer, sheet_name='REFUNDS',index=False)\n",
    "ap_refunds_fees_taxes_group.to_excel(writer, sheet_name='REFUNDS_FEES_TAXES',index=False)\n",
    "ap_risk_group.to_excel(writer, sheet_name='RISK')\n",
    "ap_risk_final_group.to_excel(writer, sheet_name='RISK_TIPO_PAGO')\n",
    "cruce_1_group.to_excel(writer, sheet_name='SETT',index=False)\n",
    "ap_sett_adptr_group.to_excel(writer, sheet_name='SETT_ADPTR',index=False)\n",
    "ap_taxes_group.to_excel(writer, sheet_name='TAXES',index=False)\n",
    "ap_topups_group.to_excel(writer, sheet_name='TOPUPS',index=False)\n",
    "writer.close()"
   ]
  },
  {
   "cell_type": "code",
   "execution_count": null,
   "id": "e2c2da3d",
   "metadata": {},
   "outputs": [],
   "source": [
    "writer = pd.ExcelWriter('AP-JOURNAL DYNAMO ENERO 2024.xlsx',\n",
    "                        engine='xlsxwriter',\n",
    "                        engine_kwargs={'options': {'encoding':'utf-8'}})\n",
    "ap_bill_pymnt.to_excel(writer, sheet_name='BILL_PYMNT',index=False)\n",
    "ap_bill_pymnt_fees_taxes.to_excel(writer, sheet_name='BILL_PYMNT_FEES_TAXES',index=False)\n",
    "ap_caal.to_excel(writer, sheet_name='CAAL - AP_JOURNAL',index=False)\n",
    "caal_final.to_excel(writer, sheet_name='CAAL - REGISTRO CONTABLE',index=False)\n",
    "ap_data.to_excel(writer, sheet_name='DATA',index=False)\n",
    "ap_dig_acc.to_excel(writer, sheet_name='DIG_ACC',index=False)\n",
    "#ap_disb.to_excel(writer, sheet_name='DISB',index=False)\n",
    "ap_fee_refunds.to_excel(writer, sheet_name='FEE_REFUNDS',index=False)\n",
    "ap_loan_1.to_excel(writer, sheet_name='LOANS-1',index=False)\n",
    "ap_loan_2.to_excel(writer, sheet_name='LOANS-2',index=False)\n",
    "ap_promo.to_excel(writer, sheet_name='PROMO',index=False)\n",
    "#cruce_3_group.to_excel(writer, sheet_name='PYMT',index=False)\n",
    "ap_refunds.to_excel(writer, sheet_name='REFUNDS',index=False)\n",
    "ap_refunds_fees_taxes.to_excel(writer, sheet_name='REFUNDS_FEES_TAXES',index=False)\n",
    "ap_risk.to_excel(writer, sheet_name='RISK',index=False)\n",
    "ap_risk_final.to_excel(writer, sheet_name='RISK_TIPO_PAGO',index=False)\n",
    "#cruce_1_group.to_excel(writer, sheet_name='SETT',index=False)\n",
    "ap_sett_adptr.to_excel(writer, sheet_name='SETT_ADPTR',index=False)\n",
    "ap_taxes.to_excel(writer, sheet_name='TAXES',index=False)\n",
    "ap_topups.to_excel(writer, sheet_name='TOPUPS',index=False)\n",
    "writer.close()"
   ]
  },
  {
   "cell_type": "code",
   "execution_count": null,
   "id": "dc185d48",
   "metadata": {},
   "outputs": [],
   "source": [
    "writer = pd.ExcelWriter('DYNAMO NOT FOUND ENERO 2024.xlsx',\n",
    "                        engine='xlsxwriter',\n",
    "                        engine_kwargs={'options': {'encoding':'utf-8'}})\n",
    "cruce_1_not_found.to_excel(writer, sheet_name='NOT_FOUND_SETTLED',index=False)\n",
    "cruce_3_not_found.to_excel(writer, sheet_name='NOT_FOUND_PAYMENT',index=False)\n",
    "writer.close()"
   ]
  },
  {
   "cell_type": "markdown",
   "id": "ec0a40f0",
   "metadata": {},
   "source": [
    "# EXCEL DETALLE DYNAMO"
   ]
  },
  {
   "cell_type": "code",
   "execution_count": null,
   "id": "7debfecd",
   "metadata": {},
   "outputs": [],
   "source": [
    "# writer = pd.ExcelWriter('DETALLE DYNAMO MARZO 2023.xlsx',\n",
    "#                         engine='xlsxwriter',\n",
    "#                         engine_kwargs={'options': {'encoding':'utf-8'}})\n",
    "# cruce_1_range.to_excel(writer, sheet_name='SETT_1',index=False)\n",
    "# cruce_2_range.to_excel(writer, sheet_name='SETT_2',index=False)\n",
    "# cruce_3_range.to_excel(writer, sheet_name='SETT_3',index=False)\n",
    "# ap_topups.to_excel(writer, sheet_name='TOPUPS',index=False)\n",
    "# ap_disb.to_excel(writer, sheet_name='DISB',index=False)\n",
    "# ap_loan.to_excel(writer, sheet_name='LOANS',index=False)\n",
    "# cruce_2.to_excel(writer, sheet_name='PYMT',index=False)\n",
    "# ap_risk.to_excel(writer, sheet_name='RISK',index=False)\n",
    "# writer.close()"
   ]
  },
  {
   "cell_type": "markdown",
   "id": "4efa32bd",
   "metadata": {},
   "source": [
    "# EXCEL AP-JOURNAL"
   ]
  },
  {
   "cell_type": "code",
   "execution_count": null,
   "id": "cca4224f",
   "metadata": {},
   "outputs": [],
   "source": [
    "# writer = pd.ExcelWriter('DETALLE AP-JOURNAL MARZO 2023.xlsx',\n",
    "#                         engine='xlsxwriter',\n",
    "#                         engine_kwargs={'options': {'encoding':'utf-8'}})\n",
    "# ap_range_1.to_excel(writer, sheet_name='2023.03.01 - 2023.03.10',index=False)\n",
    "# ap_range_2.to_excel(writer, sheet_name='2023.03.11 - 2023.03.20',index=False)\n",
    "# ap_range_3.to_excel(writer, sheet_name='2023.03.21 - 2023.03.30',index=False)\n",
    "# ap_range_4.to_excel(writer, sheet_name='2023.03.31',index=False)\n",
    "# writer.close()"
   ]
  },
  {
   "cell_type": "code",
   "execution_count": null,
   "id": "a3b7f8be",
   "metadata": {},
   "outputs": [],
   "source": []
  }
 ],
 "metadata": {
  "kernelspec": {
   "display_name": "Python 3 (ipykernel)",
   "language": "python",
   "name": "python3"
  },
  "language_info": {
   "codemirror_mode": {
    "name": "ipython",
    "version": 3
   },
   "file_extension": ".py",
   "mimetype": "text/x-python",
   "name": "python",
   "nbconvert_exporter": "python",
   "pygments_lexer": "ipython3",
   "version": "3.9.18"
  }
 },
 "nbformat": 4,
 "nbformat_minor": 5
}
