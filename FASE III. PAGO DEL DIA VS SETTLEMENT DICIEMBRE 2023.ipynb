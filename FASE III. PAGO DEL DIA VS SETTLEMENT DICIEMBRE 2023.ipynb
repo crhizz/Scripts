{
 "cells": [
  {
   "cell_type": "code",
   "execution_count": 1,
   "metadata": {},
   "outputs": [],
   "source": [
    "import pandas as pd\n",
    "import numpy as np\n",
    "import glob\n",
    "import os\n",
    "from openpyxl import load_workbook\n",
    "from functools import reduce\n",
    "pd.options.display.float_format = '{:,.2f}'.format"
   ]
  },
  {
   "cell_type": "markdown",
   "metadata": {},
   "source": [
    "#### ACUMULADO"
   ]
  },
  {
   "cell_type": "code",
   "execution_count": 2,
   "metadata": {},
   "outputs": [
    {
     "data": {
      "text/plain": [
       "['C:\\\\Users\\\\Cristian.Aparicio\\\\Documents\\\\DISPERSIONES\\\\2023\\\\12. DICIEMBRE\\\\QUERIES\\\\SETTLEMENT 2023-12-01.csv',\n",
       " 'C:\\\\Users\\\\Cristian.Aparicio\\\\Documents\\\\DISPERSIONES\\\\2023\\\\12. DICIEMBRE\\\\QUERIES\\\\SETTLEMENT 2023-12-02.csv',\n",
       " 'C:\\\\Users\\\\Cristian.Aparicio\\\\Documents\\\\DISPERSIONES\\\\2023\\\\12. DICIEMBRE\\\\QUERIES\\\\SETTLEMENT 2023-12-03.csv',\n",
       " 'C:\\\\Users\\\\Cristian.Aparicio\\\\Documents\\\\DISPERSIONES\\\\2023\\\\12. DICIEMBRE\\\\QUERIES\\\\SETTLEMENT 2023-12-04.csv',\n",
       " 'C:\\\\Users\\\\Cristian.Aparicio\\\\Documents\\\\DISPERSIONES\\\\2023\\\\12. DICIEMBRE\\\\QUERIES\\\\SETTLEMENT 2023-12-05.csv',\n",
       " 'C:\\\\Users\\\\Cristian.Aparicio\\\\Documents\\\\DISPERSIONES\\\\2023\\\\12. DICIEMBRE\\\\QUERIES\\\\SETTLEMENT 2023-12-06.csv',\n",
       " 'C:\\\\Users\\\\Cristian.Aparicio\\\\Documents\\\\DISPERSIONES\\\\2023\\\\12. DICIEMBRE\\\\QUERIES\\\\SETTLEMENT 2023-12-07.csv',\n",
       " 'C:\\\\Users\\\\Cristian.Aparicio\\\\Documents\\\\DISPERSIONES\\\\2023\\\\12. DICIEMBRE\\\\QUERIES\\\\SETTLEMENT 2023-12-08.csv',\n",
       " 'C:\\\\Users\\\\Cristian.Aparicio\\\\Documents\\\\DISPERSIONES\\\\2023\\\\12. DICIEMBRE\\\\QUERIES\\\\SETTLEMENT 2023-12-09.csv',\n",
       " 'C:\\\\Users\\\\Cristian.Aparicio\\\\Documents\\\\DISPERSIONES\\\\2023\\\\12. DICIEMBRE\\\\QUERIES\\\\SETTLEMENT 2023-12-10.csv',\n",
       " 'C:\\\\Users\\\\Cristian.Aparicio\\\\Documents\\\\DISPERSIONES\\\\2023\\\\12. DICIEMBRE\\\\QUERIES\\\\SETTLEMENT 2023-12-11.csv',\n",
       " 'C:\\\\Users\\\\Cristian.Aparicio\\\\Documents\\\\DISPERSIONES\\\\2023\\\\12. DICIEMBRE\\\\QUERIES\\\\SETTLEMENT 2023-12-12.csv',\n",
       " 'C:\\\\Users\\\\Cristian.Aparicio\\\\Documents\\\\DISPERSIONES\\\\2023\\\\12. DICIEMBRE\\\\QUERIES\\\\SETTLEMENT 2023-12-13.csv',\n",
       " 'C:\\\\Users\\\\Cristian.Aparicio\\\\Documents\\\\DISPERSIONES\\\\2023\\\\12. DICIEMBRE\\\\QUERIES\\\\SETTLEMENT 2023-12-14.csv',\n",
       " 'C:\\\\Users\\\\Cristian.Aparicio\\\\Documents\\\\DISPERSIONES\\\\2023\\\\12. DICIEMBRE\\\\QUERIES\\\\SETTLEMENT 2023-12-15.csv',\n",
       " 'C:\\\\Users\\\\Cristian.Aparicio\\\\Documents\\\\DISPERSIONES\\\\2023\\\\12. DICIEMBRE\\\\QUERIES\\\\SETTLEMENT 2023-12-16.csv',\n",
       " 'C:\\\\Users\\\\Cristian.Aparicio\\\\Documents\\\\DISPERSIONES\\\\2023\\\\12. DICIEMBRE\\\\QUERIES\\\\SETTLEMENT 2023-12-17.csv',\n",
       " 'C:\\\\Users\\\\Cristian.Aparicio\\\\Documents\\\\DISPERSIONES\\\\2023\\\\12. DICIEMBRE\\\\QUERIES\\\\SETTLEMENT 2023-12-18.csv',\n",
       " 'C:\\\\Users\\\\Cristian.Aparicio\\\\Documents\\\\DISPERSIONES\\\\2023\\\\12. DICIEMBRE\\\\QUERIES\\\\SETTLEMENT 2023-12-19.csv',\n",
       " 'C:\\\\Users\\\\Cristian.Aparicio\\\\Documents\\\\DISPERSIONES\\\\2023\\\\12. DICIEMBRE\\\\QUERIES\\\\SETTLEMENT 2023-12-20.csv',\n",
       " 'C:\\\\Users\\\\Cristian.Aparicio\\\\Documents\\\\DISPERSIONES\\\\2023\\\\12. DICIEMBRE\\\\QUERIES\\\\SETTLEMENT 2023-12-21.csv',\n",
       " 'C:\\\\Users\\\\Cristian.Aparicio\\\\Documents\\\\DISPERSIONES\\\\2023\\\\12. DICIEMBRE\\\\QUERIES\\\\SETTLEMENT 2023-12-22.csv',\n",
       " 'C:\\\\Users\\\\Cristian.Aparicio\\\\Documents\\\\DISPERSIONES\\\\2023\\\\12. DICIEMBRE\\\\QUERIES\\\\SETTLEMENT 2023-12-23.csv',\n",
       " 'C:\\\\Users\\\\Cristian.Aparicio\\\\Documents\\\\DISPERSIONES\\\\2023\\\\12. DICIEMBRE\\\\QUERIES\\\\SETTLEMENT 2023-12-24.csv',\n",
       " 'C:\\\\Users\\\\Cristian.Aparicio\\\\Documents\\\\DISPERSIONES\\\\2023\\\\12. DICIEMBRE\\\\QUERIES\\\\SETTLEMENT 2023-12-25.csv',\n",
       " 'C:\\\\Users\\\\Cristian.Aparicio\\\\Documents\\\\DISPERSIONES\\\\2023\\\\12. DICIEMBRE\\\\QUERIES\\\\SETTLEMENT 2023-12-26.csv',\n",
       " 'C:\\\\Users\\\\Cristian.Aparicio\\\\Documents\\\\DISPERSIONES\\\\2023\\\\12. DICIEMBRE\\\\QUERIES\\\\SETTLEMENT 2023-12-27.csv',\n",
       " 'C:\\\\Users\\\\Cristian.Aparicio\\\\Documents\\\\DISPERSIONES\\\\2023\\\\12. DICIEMBRE\\\\QUERIES\\\\SETTLEMENT 2023-12-28.csv',\n",
       " 'C:\\\\Users\\\\Cristian.Aparicio\\\\Documents\\\\DISPERSIONES\\\\2023\\\\12. DICIEMBRE\\\\QUERIES\\\\SETTLEMENT 2023-12-29.csv',\n",
       " 'C:\\\\Users\\\\Cristian.Aparicio\\\\Documents\\\\DISPERSIONES\\\\2023\\\\12. DICIEMBRE\\\\QUERIES\\\\SETTLEMENT 2023-12-30.csv',\n",
       " 'C:\\\\Users\\\\Cristian.Aparicio\\\\Documents\\\\DISPERSIONES\\\\2023\\\\12. DICIEMBRE\\\\QUERIES\\\\SETTLEMENT 2023-12-31.csv']"
      ]
     },
     "execution_count": 2,
     "metadata": {},
     "output_type": "execute_result"
    }
   ],
   "source": [
    "cumfiles = glob.glob(r'C:\\Users\\Cristian.Aparicio\\Documents\\DISPERSIONES\\2023\\12. DICIEMBRE\\QUERIES\\*.csv', recursive=False)\n",
    "cumfiles"
   ]
  },
  {
   "cell_type": "code",
   "execution_count": 3,
   "metadata": {},
   "outputs": [
    {
     "data": {
      "text/html": [
       "<div>\n",
       "<style scoped>\n",
       "    .dataframe tbody tr th:only-of-type {\n",
       "        vertical-align: middle;\n",
       "    }\n",
       "\n",
       "    .dataframe tbody tr th {\n",
       "        vertical-align: top;\n",
       "    }\n",
       "\n",
       "    .dataframe thead th {\n",
       "        text-align: right;\n",
       "    }\n",
       "</style>\n",
       "<table border=\"1\" class=\"dataframe\">\n",
       "  <thead>\n",
       "    <tr style=\"text-align: right;\">\n",
       "      <th></th>\n",
       "      <th>merchant_id</th>\n",
       "      <th>merchant_name</th>\n",
       "      <th>user_email</th>\n",
       "      <th>report_id</th>\n",
       "      <th>report_date_local</th>\n",
       "      <th>total_transactions</th>\n",
       "      <th>total_fees_charged</th>\n",
       "      <th>total_taxes</th>\n",
       "      <th>applied_fees_benefits</th>\n",
       "      <th>applied_taxes_benefits</th>\n",
       "      <th>...</th>\n",
       "      <th>total_released</th>\n",
       "      <th>total_retained</th>\n",
       "      <th>tipopago</th>\n",
       "      <th>total_due</th>\n",
       "      <th>type</th>\n",
       "      <th>created_date</th>\n",
       "      <th>created_time</th>\n",
       "      <th>updated_date</th>\n",
       "      <th>updated_time</th>\n",
       "      <th>file_name</th>\n",
       "    </tr>\n",
       "  </thead>\n",
       "  <tbody>\n",
       "  </tbody>\n",
       "</table>\n",
       "<p>0 rows × 26 columns</p>\n",
       "</div>"
      ],
      "text/plain": [
       "Empty DataFrame\n",
       "Columns: [merchant_id, merchant_name, user_email, report_id, report_date_local, total_transactions, total_fees_charged, total_taxes, applied_fees_benefits, applied_taxes_benefits, fee_direct_deposit, taxes_direct_deposit, total_adjustments, total_adjustment_fees_charged, total_adjustment_taxes, cobranza, total_released, total_retained, tipopago, total_due, type, created_date, created_time, updated_date, updated_time, file_name]\n",
       "Index: []\n",
       "\n",
       "[0 rows x 26 columns]"
      ]
     },
     "execution_count": 3,
     "metadata": {},
     "output_type": "execute_result"
    }
   ],
   "source": [
    "cum_1 = pd.concat([pd.read_csv(f).assign(file_name=os.path.basename(f)) for f in cumfiles])\n",
    "cum_1.columns = cum_1.columns.str.strip().str.lower() \n",
    "cum_1['report_date_local']= pd.to_datetime(cum_1['report_date_local']) \n",
    "cum_1.head()"
   ]
  },
  {
   "cell_type": "code",
   "execution_count": 4,
   "metadata": {},
   "outputs": [
    {
     "data": {
      "text/plain": [
       "(0, 26)"
      ]
     },
     "execution_count": 4,
     "metadata": {},
     "output_type": "execute_result"
    }
   ],
   "source": [
    "cum_1.shape"
   ]
  },
  {
   "cell_type": "code",
   "execution_count": 5,
   "metadata": {},
   "outputs": [
    {
     "data": {
      "text/html": [
       "<div>\n",
       "<style scoped>\n",
       "    .dataframe tbody tr th:only-of-type {\n",
       "        vertical-align: middle;\n",
       "    }\n",
       "\n",
       "    .dataframe tbody tr th {\n",
       "        vertical-align: top;\n",
       "    }\n",
       "\n",
       "    .dataframe thead th {\n",
       "        text-align: right;\n",
       "    }\n",
       "</style>\n",
       "<table border=\"1\" class=\"dataframe\">\n",
       "  <thead>\n",
       "    <tr style=\"text-align: right;\">\n",
       "      <th></th>\n",
       "      <th>merchant_id</th>\n",
       "      <th>merchant_name</th>\n",
       "      <th>user_email</th>\n",
       "      <th>report_id</th>\n",
       "      <th>report_date_local</th>\n",
       "      <th>total_transactions</th>\n",
       "      <th>total_fees_charged</th>\n",
       "      <th>total_taxes</th>\n",
       "      <th>applied_fees_benefits</th>\n",
       "      <th>applied_taxes_benefits</th>\n",
       "      <th>...</th>\n",
       "      <th>total_released</th>\n",
       "      <th>total_retained</th>\n",
       "      <th>tipopago</th>\n",
       "      <th>total_due</th>\n",
       "      <th>type</th>\n",
       "      <th>created_date</th>\n",
       "      <th>created_time</th>\n",
       "      <th>updated_date</th>\n",
       "      <th>updated_time</th>\n",
       "      <th>file_name</th>\n",
       "    </tr>\n",
       "  </thead>\n",
       "  <tbody>\n",
       "  </tbody>\n",
       "</table>\n",
       "<p>0 rows × 26 columns</p>\n",
       "</div>"
      ],
      "text/plain": [
       "Empty DataFrame\n",
       "Columns: [merchant_id, merchant_name, user_email, report_id, report_date_local, total_transactions, total_fees_charged, total_taxes, applied_fees_benefits, applied_taxes_benefits, fee_direct_deposit, taxes_direct_deposit, total_adjustments, total_adjustment_fees_charged, total_adjustment_taxes, cobranza, total_released, total_retained, tipopago, total_due, type, created_date, created_time, updated_date, updated_time, file_name]\n",
       "Index: []\n",
       "\n",
       "[0 rows x 26 columns]"
      ]
     },
     "execution_count": 5,
     "metadata": {},
     "output_type": "execute_result"
    }
   ],
   "source": [
    "cum_distinct_0 = cum_1[(cum_1['total_due'] != 0)]\n",
    "cum_distinct_0.head()"
   ]
  },
  {
   "cell_type": "code",
   "execution_count": 6,
   "metadata": {},
   "outputs": [
    {
     "data": {
      "text/plain": [
       "(0, 26)"
      ]
     },
     "execution_count": 6,
     "metadata": {},
     "output_type": "execute_result"
    }
   ],
   "source": [
    "cum_distinct_0.shape"
   ]
  },
  {
   "cell_type": "markdown",
   "metadata": {},
   "source": [
    "#### PAGOS DE DISPERSIONES"
   ]
  },
  {
   "cell_type": "code",
   "execution_count": 7,
   "metadata": {},
   "outputs": [
    {
     "data": {
      "text/plain": [
       "['C:\\\\Users\\\\Cristian.Aparicio\\\\Documents\\\\DISPERSIONES\\\\2023\\\\12. DICIEMBRE\\\\ARCHIVO DISPERSIONES\\\\Dispersión-20231201.xlsx',\n",
       " 'C:\\\\Users\\\\Cristian.Aparicio\\\\Documents\\\\DISPERSIONES\\\\2023\\\\12. DICIEMBRE\\\\ARCHIVO DISPERSIONES\\\\Dispersión-20231202.xlsx',\n",
       " 'C:\\\\Users\\\\Cristian.Aparicio\\\\Documents\\\\DISPERSIONES\\\\2023\\\\12. DICIEMBRE\\\\ARCHIVO DISPERSIONES\\\\Dispersión-20231203.xlsx',\n",
       " 'C:\\\\Users\\\\Cristian.Aparicio\\\\Documents\\\\DISPERSIONES\\\\2023\\\\12. DICIEMBRE\\\\ARCHIVO DISPERSIONES\\\\Dispersión-20231204.xlsx',\n",
       " 'C:\\\\Users\\\\Cristian.Aparicio\\\\Documents\\\\DISPERSIONES\\\\2023\\\\12. DICIEMBRE\\\\ARCHIVO DISPERSIONES\\\\Dispersión-20231205.xlsx',\n",
       " 'C:\\\\Users\\\\Cristian.Aparicio\\\\Documents\\\\DISPERSIONES\\\\2023\\\\12. DICIEMBRE\\\\ARCHIVO DISPERSIONES\\\\Dispersión-20231206.xlsx',\n",
       " 'C:\\\\Users\\\\Cristian.Aparicio\\\\Documents\\\\DISPERSIONES\\\\2023\\\\12. DICIEMBRE\\\\ARCHIVO DISPERSIONES\\\\Dispersión-20231207.xlsx',\n",
       " 'C:\\\\Users\\\\Cristian.Aparicio\\\\Documents\\\\DISPERSIONES\\\\2023\\\\12. DICIEMBRE\\\\ARCHIVO DISPERSIONES\\\\Dispersión-20231208.xlsx',\n",
       " 'C:\\\\Users\\\\Cristian.Aparicio\\\\Documents\\\\DISPERSIONES\\\\2023\\\\12. DICIEMBRE\\\\ARCHIVO DISPERSIONES\\\\Dispersión-20231209.xlsx',\n",
       " 'C:\\\\Users\\\\Cristian.Aparicio\\\\Documents\\\\DISPERSIONES\\\\2023\\\\12. DICIEMBRE\\\\ARCHIVO DISPERSIONES\\\\Dispersión-20231210.xlsx',\n",
       " 'C:\\\\Users\\\\Cristian.Aparicio\\\\Documents\\\\DISPERSIONES\\\\2023\\\\12. DICIEMBRE\\\\ARCHIVO DISPERSIONES\\\\Dispersión-20231211.xlsx',\n",
       " 'C:\\\\Users\\\\Cristian.Aparicio\\\\Documents\\\\DISPERSIONES\\\\2023\\\\12. DICIEMBRE\\\\ARCHIVO DISPERSIONES\\\\Dispersión-20231212.xlsx',\n",
       " 'C:\\\\Users\\\\Cristian.Aparicio\\\\Documents\\\\DISPERSIONES\\\\2023\\\\12. DICIEMBRE\\\\ARCHIVO DISPERSIONES\\\\Dispersión-20231213.xlsx',\n",
       " 'C:\\\\Users\\\\Cristian.Aparicio\\\\Documents\\\\DISPERSIONES\\\\2023\\\\12. DICIEMBRE\\\\ARCHIVO DISPERSIONES\\\\Dispersión-20231214.xlsx',\n",
       " 'C:\\\\Users\\\\Cristian.Aparicio\\\\Documents\\\\DISPERSIONES\\\\2023\\\\12. DICIEMBRE\\\\ARCHIVO DISPERSIONES\\\\Dispersión-20231215.xlsx',\n",
       " 'C:\\\\Users\\\\Cristian.Aparicio\\\\Documents\\\\DISPERSIONES\\\\2023\\\\12. DICIEMBRE\\\\ARCHIVO DISPERSIONES\\\\Dispersión-20231216.xlsx',\n",
       " 'C:\\\\Users\\\\Cristian.Aparicio\\\\Documents\\\\DISPERSIONES\\\\2023\\\\12. DICIEMBRE\\\\ARCHIVO DISPERSIONES\\\\Dispersión-20231217.xlsx',\n",
       " 'C:\\\\Users\\\\Cristian.Aparicio\\\\Documents\\\\DISPERSIONES\\\\2023\\\\12. DICIEMBRE\\\\ARCHIVO DISPERSIONES\\\\Dispersión-20231218.xlsx',\n",
       " 'C:\\\\Users\\\\Cristian.Aparicio\\\\Documents\\\\DISPERSIONES\\\\2023\\\\12. DICIEMBRE\\\\ARCHIVO DISPERSIONES\\\\Dispersión-20231219.xlsx',\n",
       " 'C:\\\\Users\\\\Cristian.Aparicio\\\\Documents\\\\DISPERSIONES\\\\2023\\\\12. DICIEMBRE\\\\ARCHIVO DISPERSIONES\\\\Dispersión-20231220.xlsx',\n",
       " 'C:\\\\Users\\\\Cristian.Aparicio\\\\Documents\\\\DISPERSIONES\\\\2023\\\\12. DICIEMBRE\\\\ARCHIVO DISPERSIONES\\\\Dispersión-20231221.xlsx',\n",
       " 'C:\\\\Users\\\\Cristian.Aparicio\\\\Documents\\\\DISPERSIONES\\\\2023\\\\12. DICIEMBRE\\\\ARCHIVO DISPERSIONES\\\\Dispersión-20231222.xlsx',\n",
       " 'C:\\\\Users\\\\Cristian.Aparicio\\\\Documents\\\\DISPERSIONES\\\\2023\\\\12. DICIEMBRE\\\\ARCHIVO DISPERSIONES\\\\Dispersión-20231223.xlsx',\n",
       " 'C:\\\\Users\\\\Cristian.Aparicio\\\\Documents\\\\DISPERSIONES\\\\2023\\\\12. DICIEMBRE\\\\ARCHIVO DISPERSIONES\\\\Dispersión-20231224.xlsx',\n",
       " 'C:\\\\Users\\\\Cristian.Aparicio\\\\Documents\\\\DISPERSIONES\\\\2023\\\\12. DICIEMBRE\\\\ARCHIVO DISPERSIONES\\\\Dispersión-20231225.xlsx',\n",
       " 'C:\\\\Users\\\\Cristian.Aparicio\\\\Documents\\\\DISPERSIONES\\\\2023\\\\12. DICIEMBRE\\\\ARCHIVO DISPERSIONES\\\\Dispersión-20231226.xlsx',\n",
       " 'C:\\\\Users\\\\Cristian.Aparicio\\\\Documents\\\\DISPERSIONES\\\\2023\\\\12. DICIEMBRE\\\\ARCHIVO DISPERSIONES\\\\Dispersión-20231227.xlsx',\n",
       " 'C:\\\\Users\\\\Cristian.Aparicio\\\\Documents\\\\DISPERSIONES\\\\2023\\\\12. DICIEMBRE\\\\ARCHIVO DISPERSIONES\\\\Dispersión-20231228.xlsx',\n",
       " 'C:\\\\Users\\\\Cristian.Aparicio\\\\Documents\\\\DISPERSIONES\\\\2023\\\\12. DICIEMBRE\\\\ARCHIVO DISPERSIONES\\\\Dispersión-20231229.xlsx',\n",
       " 'C:\\\\Users\\\\Cristian.Aparicio\\\\Documents\\\\DISPERSIONES\\\\2023\\\\12. DICIEMBRE\\\\ARCHIVO DISPERSIONES\\\\Dispersión-20231230.xlsx',\n",
       " 'C:\\\\Users\\\\Cristian.Aparicio\\\\Documents\\\\DISPERSIONES\\\\2023\\\\12. DICIEMBRE\\\\ARCHIVO DISPERSIONES\\\\Dispersión-20231231.xlsx']"
      ]
     },
     "execution_count": 7,
     "metadata": {},
     "output_type": "execute_result"
    }
   ],
   "source": [
    "pagos_dia_files_1 = glob.glob(r'C:\\Users\\Cristian.Aparicio\\Documents\\DISPERSIONES\\2023\\12. DICIEMBRE\\ARCHIVO DISPERSIONES\\Dispersión*.xlsx', recursive=False)\n",
    "pagos_dia_files_1"
   ]
  },
  {
   "cell_type": "code",
   "execution_count": 8,
   "metadata": {},
   "outputs": [
    {
     "data": {
      "text/html": [
       "<div>\n",
       "<style scoped>\n",
       "    .dataframe tbody tr th:only-of-type {\n",
       "        vertical-align: middle;\n",
       "    }\n",
       "\n",
       "    .dataframe tbody tr th {\n",
       "        vertical-align: top;\n",
       "    }\n",
       "\n",
       "    .dataframe thead th {\n",
       "        text-align: right;\n",
       "    }\n",
       "</style>\n",
       "<table border=\"1\" class=\"dataframe\">\n",
       "  <thead>\n",
       "    <tr style=\"text-align: right;\">\n",
       "      <th></th>\n",
       "      <th>type</th>\n",
       "      <th>merchant_id</th>\n",
       "      <th>merchant_name</th>\n",
       "      <th>user_email</th>\n",
       "      <th>report_id</th>\n",
       "      <th>report_date_local</th>\n",
       "      <th>total_due</th>\n",
       "      <th>tipo</th>\n",
       "      <th>bank</th>\n",
       "      <th>bank_account_owner_name</th>\n",
       "      <th>CLABE</th>\n",
       "      <th>status</th>\n",
       "      <th>LINEA CEP</th>\n",
       "      <th>Batch_time</th>\n",
       "      <th>Banco_emisor</th>\n",
       "      <th>file_name</th>\n",
       "      <th>date_file</th>\n",
       "    </tr>\n",
       "  </thead>\n",
       "  <tbody>\n",
       "    <tr>\n",
       "      <th>0</th>\n",
       "      <td>LEDGER_TRAD</td>\n",
       "      <td>0123ce92-b626-43a6-8900-c144eb979883</td>\n",
       "      <td>NaN</td>\n",
       "      <td>NaN</td>\n",
       "      <td>A6294Z6NF</td>\n",
       "      <td>2023-12-01</td>\n",
       "      <td>233.82</td>\n",
       "      <td>Pago del día</td>\n",
       "      <td>AFIRME</td>\n",
       "      <td>Enrique Valenzuela Moreno</td>\n",
       "      <td>62320163110132313</td>\n",
       "      <td>ERROR</td>\n",
       "      <td>NaN</td>\n",
       "      <td>01. First_batch</td>\n",
       "      <td>SANTANDER</td>\n",
       "      <td>Dispersión-20231201.xlsx</td>\n",
       "      <td>2023-12-01</td>\n",
       "    </tr>\n",
       "    <tr>\n",
       "      <th>76373</th>\n",
       "      <td>LEDGER_TRAD</td>\n",
       "      <td>ab714c20-8f6b-4987-8a18-728a37cf6f8d</td>\n",
       "      <td>NaN</td>\n",
       "      <td>NaN</td>\n",
       "      <td>A7FXCRHWD</td>\n",
       "      <td>2023-12-01</td>\n",
       "      <td>958.24</td>\n",
       "      <td>Pago del día</td>\n",
       "      <td>BANCOPPEL</td>\n",
       "      <td>Carlos Armando Mandujano Estrada</td>\n",
       "      <td>137320104112623031</td>\n",
       "      <td>PAID</td>\n",
       "      <td>2023-12-01,20231201400140HDH0001430023110,4001...</td>\n",
       "      <td>01. First_batch</td>\n",
       "      <td>SANTANDER</td>\n",
       "      <td>Dispersión-20231201.xlsx</td>\n",
       "      <td>2023-12-01</td>\n",
       "    </tr>\n",
       "    <tr>\n",
       "      <th>76372</th>\n",
       "      <td>LEDGER_TRAD</td>\n",
       "      <td>ab71293b-eebb-429a-9299-e394fc59627a</td>\n",
       "      <td>NaN</td>\n",
       "      <td>NaN</td>\n",
       "      <td>APQYNTKGK</td>\n",
       "      <td>2023-12-01</td>\n",
       "      <td>91.99</td>\n",
       "      <td>Pago del día</td>\n",
       "      <td>BBVA BANCOMER</td>\n",
       "      <td>Esthela Martinez</td>\n",
       "      <td>12420015551093174</td>\n",
       "      <td>PAID</td>\n",
       "      <td>2023-12-01,20231201400140HDH0001430023000,4001...</td>\n",
       "      <td>01. First_batch</td>\n",
       "      <td>SANTANDER</td>\n",
       "      <td>Dispersión-20231201.xlsx</td>\n",
       "      <td>2023-12-01</td>\n",
       "    </tr>\n",
       "    <tr>\n",
       "      <th>76371</th>\n",
       "      <td>LEDGER_TRAD</td>\n",
       "      <td>ab70e31a-f5fb-4d8a-96f9-dd60a1962824</td>\n",
       "      <td>NaN</td>\n",
       "      <td>NaN</td>\n",
       "      <td>AX4CDBZ58</td>\n",
       "      <td>2023-12-01</td>\n",
       "      <td>306.64</td>\n",
       "      <td>Pago del día</td>\n",
       "      <td>BBVA BANCOMER</td>\n",
       "      <td>Javier Diaz Flores</td>\n",
       "      <td>12720011474709168</td>\n",
       "      <td>PAID</td>\n",
       "      <td>2023-12-01,20231201400140HDH0001430022940,4001...</td>\n",
       "      <td>01. First_batch</td>\n",
       "      <td>SANTANDER</td>\n",
       "      <td>Dispersión-20231201.xlsx</td>\n",
       "      <td>2023-12-01</td>\n",
       "    </tr>\n",
       "    <tr>\n",
       "      <th>76370</th>\n",
       "      <td>LEDGER_TRAD</td>\n",
       "      <td>ab70bb3f-158e-4514-99b0-c4bdd2ad83b0</td>\n",
       "      <td>NaN</td>\n",
       "      <td>NaN</td>\n",
       "      <td>A72L9YVFF</td>\n",
       "      <td>2023-12-01</td>\n",
       "      <td>2,462.68</td>\n",
       "      <td>Pago del día</td>\n",
       "      <td>BANCOPPEL</td>\n",
       "      <td>Cipriano Mendoza Cruz</td>\n",
       "      <td>137610103560408519</td>\n",
       "      <td>PAID</td>\n",
       "      <td>2023-12-01,20231201400140HDH0001430022850,4001...</td>\n",
       "      <td>01. First_batch</td>\n",
       "      <td>SANTANDER</td>\n",
       "      <td>Dispersión-20231201.xlsx</td>\n",
       "      <td>2023-12-01</td>\n",
       "    </tr>\n",
       "  </tbody>\n",
       "</table>\n",
       "</div>"
      ],
      "text/plain": [
       "              type                           merchant_id merchant_name  \\\n",
       "0      LEDGER_TRAD  0123ce92-b626-43a6-8900-c144eb979883           NaN   \n",
       "76373  LEDGER_TRAD  ab714c20-8f6b-4987-8a18-728a37cf6f8d           NaN   \n",
       "76372  LEDGER_TRAD  ab71293b-eebb-429a-9299-e394fc59627a           NaN   \n",
       "76371  LEDGER_TRAD  ab70e31a-f5fb-4d8a-96f9-dd60a1962824           NaN   \n",
       "76370  LEDGER_TRAD  ab70bb3f-158e-4514-99b0-c4bdd2ad83b0           NaN   \n",
       "\n",
       "      user_email  report_id report_date_local  total_due          tipo  \\\n",
       "0            NaN  A6294Z6NF        2023-12-01     233.82  Pago del día   \n",
       "76373        NaN  A7FXCRHWD        2023-12-01     958.24  Pago del día   \n",
       "76372        NaN  APQYNTKGK        2023-12-01      91.99  Pago del día   \n",
       "76371        NaN  AX4CDBZ58        2023-12-01     306.64  Pago del día   \n",
       "76370        NaN  A72L9YVFF        2023-12-01   2,462.68  Pago del día   \n",
       "\n",
       "                bank           bank_account_owner_name               CLABE  \\\n",
       "0             AFIRME        Enrique Valenzuela Moreno    62320163110132313   \n",
       "76373      BANCOPPEL  Carlos Armando Mandujano Estrada  137320104112623031   \n",
       "76372  BBVA BANCOMER                  Esthela Martinez   12420015551093174   \n",
       "76371  BBVA BANCOMER                Javier Diaz Flores   12720011474709168   \n",
       "76370      BANCOPPEL             Cipriano Mendoza Cruz  137610103560408519   \n",
       "\n",
       "      status                                          LINEA CEP  \\\n",
       "0      ERROR                                                NaN   \n",
       "76373   PAID  2023-12-01,20231201400140HDH0001430023110,4001...   \n",
       "76372   PAID  2023-12-01,20231201400140HDH0001430023000,4001...   \n",
       "76371   PAID  2023-12-01,20231201400140HDH0001430022940,4001...   \n",
       "76370   PAID  2023-12-01,20231201400140HDH0001430022850,4001...   \n",
       "\n",
       "            Batch_time Banco_emisor                 file_name  date_file  \n",
       "0      01. First_batch    SANTANDER  Dispersión-20231201.xlsx 2023-12-01  \n",
       "76373  01. First_batch    SANTANDER  Dispersión-20231201.xlsx 2023-12-01  \n",
       "76372  01. First_batch    SANTANDER  Dispersión-20231201.xlsx 2023-12-01  \n",
       "76371  01. First_batch    SANTANDER  Dispersión-20231201.xlsx 2023-12-01  \n",
       "76370  01. First_batch    SANTANDER  Dispersión-20231201.xlsx 2023-12-01  "
      ]
     },
     "execution_count": 8,
     "metadata": {},
     "output_type": "execute_result"
    }
   ],
   "source": [
    "pagos_1 = pd.concat([pd.read_excel(f,sheet_name='Swap del día').assign(file_name=os.path.basename(f)) for f in pagos_dia_files_1])\n",
    "pagos_1['date_file'] = pagos_1[\"file_name\"].str[-13:-5]\n",
    "pagos_1['date_file']= pd.to_datetime(pagos_1['date_file'], format='%Y%m%d').dt.date\n",
    "pagos_1['date_file']= pd.to_datetime(pagos_1['date_file'])\n",
    "pagos_1.sort_values(by=['date_file'],ascending=True,inplace=True)\n",
    "pagos_1['report_date_local']= pd.to_datetime(pagos_1['report_date_local']) \n",
    "pagos_1.head()"
   ]
  },
  {
   "cell_type": "code",
   "execution_count": 9,
   "metadata": {},
   "outputs": [
    {
     "data": {
      "text/plain": [
       "(3210268, 17)"
      ]
     },
     "execution_count": 9,
     "metadata": {},
     "output_type": "execute_result"
    }
   ],
   "source": [
    "pagos_1.shape"
   ]
  },
  {
   "cell_type": "code",
   "execution_count": 10,
   "metadata": {},
   "outputs": [
    {
     "data": {
      "text/plain": [
       "<DatetimeArray>\n",
       "['2023-12-01 00:00:00', '2023-11-28 00:00:00', '2022-10-26 00:00:00',\n",
       " '2023-11-23 00:00:00', '2023-11-22 00:00:00', '2023-11-30 00:00:00',\n",
       " '2023-11-27 00:00:00', '2023-11-08 00:00:00', '2023-11-06 00:00:00',\n",
       " '2023-11-21 00:00:00',\n",
       " ...\n",
       " '2023-07-07 00:00:00', '2020-02-14 00:00:00', '2023-12-30 00:00:00',\n",
       " '2022-05-09 00:00:00', '2023-05-07 00:00:00', '2022-04-20 00:00:00',\n",
       " '2023-03-22 00:00:00', '2023-12-31 00:00:00', '2023-02-22 00:00:00',\n",
       " '2022-12-09 00:00:00']\n",
       "Length: 668, dtype: datetime64[ns]"
      ]
     },
     "execution_count": 10,
     "metadata": {},
     "output_type": "execute_result"
    }
   ],
   "source": [
    "pagos_1['report_date_local'].unique()"
   ]
  },
  {
   "cell_type": "markdown",
   "metadata": {},
   "source": [
    "#### PAGOS DUPLICADOS TRADICIONAL"
   ]
  },
  {
   "cell_type": "code",
   "execution_count": 11,
   "metadata": {},
   "outputs": [
    {
     "name": "stderr",
     "output_type": "stream",
     "text": [
      "C:\\Users\\Cristian.Aparicio\\AppData\\Local\\Temp\\ipykernel_23404\\1112391532.py:2: SettingWithCopyWarning: \n",
      "A value is trying to be set on a copy of a slice from a DataFrame.\n",
      "Try using .loc[row_indexer,col_indexer] = value instead\n",
      "\n",
      "See the caveats in the documentation: https://pandas.pydata.org/pandas-docs/stable/user_guide/indexing.html#returning-a-view-versus-a-copy\n",
      "  duplicates_trad['INDEX'] = duplicates_trad['report_id'] + '_' + duplicates_trad['date_file'].astype('str')\n",
      "C:\\Users\\Cristian.Aparicio\\AppData\\Local\\Temp\\ipykernel_23404\\1112391532.py:3: SettingWithCopyWarning: \n",
      "A value is trying to be set on a copy of a slice from a DataFrame\n",
      "\n",
      "See the caveats in the documentation: https://pandas.pydata.org/pandas-docs/stable/user_guide/indexing.html#returning-a-view-versus-a-copy\n",
      "  duplicates_trad.sort_values(by=['date_file','report_id'],inplace=True)\n"
     ]
    },
    {
     "data": {
      "text/html": [
       "<div>\n",
       "<style scoped>\n",
       "    .dataframe tbody tr th:only-of-type {\n",
       "        vertical-align: middle;\n",
       "    }\n",
       "\n",
       "    .dataframe tbody tr th {\n",
       "        vertical-align: top;\n",
       "    }\n",
       "\n",
       "    .dataframe thead th {\n",
       "        text-align: right;\n",
       "    }\n",
       "</style>\n",
       "<table border=\"1\" class=\"dataframe\">\n",
       "  <thead>\n",
       "    <tr style=\"text-align: right;\">\n",
       "      <th></th>\n",
       "      <th>type</th>\n",
       "      <th>merchant_id</th>\n",
       "      <th>merchant_name</th>\n",
       "      <th>user_email</th>\n",
       "      <th>report_id</th>\n",
       "      <th>report_date_local</th>\n",
       "      <th>total_due</th>\n",
       "      <th>tipo</th>\n",
       "      <th>bank</th>\n",
       "      <th>bank_account_owner_name</th>\n",
       "      <th>CLABE</th>\n",
       "      <th>status</th>\n",
       "      <th>LINEA CEP</th>\n",
       "      <th>Batch_time</th>\n",
       "      <th>Banco_emisor</th>\n",
       "      <th>file_name</th>\n",
       "      <th>date_file</th>\n",
       "      <th>INDEX</th>\n",
       "    </tr>\n",
       "  </thead>\n",
       "  <tbody>\n",
       "    <tr>\n",
       "      <th>40</th>\n",
       "      <td>LEDGER_TRAD</td>\n",
       "      <td>6bf68a1a-4f91-4059-847c-854a40e0b350</td>\n",
       "      <td>NaN</td>\n",
       "      <td>NaN</td>\n",
       "      <td>AFJLJGNS3</td>\n",
       "      <td>2023-12-05</td>\n",
       "      <td>14,350.02</td>\n",
       "      <td>Pago del día</td>\n",
       "      <td>AKALA</td>\n",
       "      <td>Gerardo Ahumada</td>\n",
       "      <td>638180010171290762</td>\n",
       "      <td>ERROR</td>\n",
       "      <td>NaN</td>\n",
       "      <td>01. First_batch</td>\n",
       "      <td>SANTANDER</td>\n",
       "      <td>Dispersión-20231205.xlsx</td>\n",
       "      <td>2023-12-05</td>\n",
       "      <td>AFJLJGNS3_2023-12-05</td>\n",
       "    </tr>\n",
       "    <tr>\n",
       "      <th>104</th>\n",
       "      <td>LEDGER_TRAD</td>\n",
       "      <td>6bf68a1a-4f91-4059-847c-854a40e0b350</td>\n",
       "      <td>NaN</td>\n",
       "      <td>NaN</td>\n",
       "      <td>AFJLJGNS3</td>\n",
       "      <td>2023-12-05</td>\n",
       "      <td>14,350.02</td>\n",
       "      <td>Pago del día</td>\n",
       "      <td>AKALA</td>\n",
       "      <td>Gerardo Ahumada</td>\n",
       "      <td>638180010171290762</td>\n",
       "      <td>ERROR</td>\n",
       "      <td>NaN</td>\n",
       "      <td>03. Third_batch</td>\n",
       "      <td>BANORTE</td>\n",
       "      <td>Dispersión-20231205.xlsx</td>\n",
       "      <td>2023-12-05</td>\n",
       "      <td>AFJLJGNS3_2023-12-05</td>\n",
       "    </tr>\n",
       "    <tr>\n",
       "      <th>101330</th>\n",
       "      <td>LEDGER_TRAD</td>\n",
       "      <td>74d37594-1feb-49e0-ac7f-27c3e9b64f72</td>\n",
       "      <td>NaN</td>\n",
       "      <td>NaN</td>\n",
       "      <td>AHZH6Z7WL</td>\n",
       "      <td>2023-12-04</td>\n",
       "      <td>6,228.56</td>\n",
       "      <td>Reprogramación</td>\n",
       "      <td>SANTANDER</td>\n",
       "      <td>Monica Aranzazu Jimnez Jasso</td>\n",
       "      <td>14975500780366902</td>\n",
       "      <td>PAID</td>\n",
       "      <td>2023-12-05,42644264202312052698256321,40072,40...</td>\n",
       "      <td>03. Third_batch</td>\n",
       "      <td>BANORTE</td>\n",
       "      <td>Dispersión-20231205.xlsx</td>\n",
       "      <td>2023-12-05</td>\n",
       "      <td>AHZH6Z7WL_2023-12-05</td>\n",
       "    </tr>\n",
       "    <tr>\n",
       "      <th>43372</th>\n",
       "      <td>LEDGER_TRAD</td>\n",
       "      <td>74d37594-1feb-49e0-ac7f-27c3e9b64f72</td>\n",
       "      <td>NaN</td>\n",
       "      <td>NaN</td>\n",
       "      <td>AHZH6Z7WL</td>\n",
       "      <td>2023-12-04</td>\n",
       "      <td>6,228.56</td>\n",
       "      <td>Reprogramación</td>\n",
       "      <td>SANTANDER</td>\n",
       "      <td>Monica Aranzazu Jimnez Jasso</td>\n",
       "      <td>14975500780366902</td>\n",
       "      <td>PAID</td>\n",
       "      <td>COMPROBANTE MISMO BANCO SANTANDER</td>\n",
       "      <td>01. First_batch</td>\n",
       "      <td>SANTANDER</td>\n",
       "      <td>Dispersión-20231205.xlsx</td>\n",
       "      <td>2023-12-05</td>\n",
       "      <td>AHZH6Z7WL_2023-12-05</td>\n",
       "    </tr>\n",
       "    <tr>\n",
       "      <th>92</th>\n",
       "      <td>LEDGER_TRAD</td>\n",
       "      <td>fe7c49d9-1832-4e90-a47d-f769ff517ec6</td>\n",
       "      <td>NaN</td>\n",
       "      <td>NaN</td>\n",
       "      <td>AW5JG5LS6</td>\n",
       "      <td>2023-12-05</td>\n",
       "      <td>24,399.21</td>\n",
       "      <td>Pago del día</td>\n",
       "      <td>AZTECA</td>\n",
       "      <td>Berenice</td>\n",
       "      <td>127180016142627303</td>\n",
       "      <td>ERROR</td>\n",
       "      <td>NaN</td>\n",
       "      <td>01. First_batch</td>\n",
       "      <td>SANTANDER</td>\n",
       "      <td>Dispersión-20231205.xlsx</td>\n",
       "      <td>2023-12-05</td>\n",
       "      <td>AW5JG5LS6_2023-12-05</td>\n",
       "    </tr>\n",
       "  </tbody>\n",
       "</table>\n",
       "</div>"
      ],
      "text/plain": [
       "               type                           merchant_id merchant_name  \\\n",
       "40      LEDGER_TRAD  6bf68a1a-4f91-4059-847c-854a40e0b350           NaN   \n",
       "104     LEDGER_TRAD  6bf68a1a-4f91-4059-847c-854a40e0b350           NaN   \n",
       "101330  LEDGER_TRAD  74d37594-1feb-49e0-ac7f-27c3e9b64f72           NaN   \n",
       "43372   LEDGER_TRAD  74d37594-1feb-49e0-ac7f-27c3e9b64f72           NaN   \n",
       "92      LEDGER_TRAD  fe7c49d9-1832-4e90-a47d-f769ff517ec6           NaN   \n",
       "\n",
       "       user_email  report_id report_date_local  total_due            tipo  \\\n",
       "40            NaN  AFJLJGNS3        2023-12-05  14,350.02    Pago del día   \n",
       "104           NaN  AFJLJGNS3        2023-12-05  14,350.02    Pago del día   \n",
       "101330        NaN  AHZH6Z7WL        2023-12-04   6,228.56  Reprogramación   \n",
       "43372         NaN  AHZH6Z7WL        2023-12-04   6,228.56  Reprogramación   \n",
       "92            NaN  AW5JG5LS6        2023-12-05  24,399.21    Pago del día   \n",
       "\n",
       "             bank       bank_account_owner_name               CLABE status  \\\n",
       "40          AKALA               Gerardo Ahumada  638180010171290762  ERROR   \n",
       "104         AKALA               Gerardo Ahumada  638180010171290762  ERROR   \n",
       "101330  SANTANDER  Monica Aranzazu Jimnez Jasso   14975500780366902   PAID   \n",
       "43372   SANTANDER  Monica Aranzazu Jimnez Jasso   14975500780366902   PAID   \n",
       "92         AZTECA                      Berenice  127180016142627303  ERROR   \n",
       "\n",
       "                                                LINEA CEP       Batch_time  \\\n",
       "40                                                    NaN  01. First_batch   \n",
       "104                                                   NaN  03. Third_batch   \n",
       "101330  2023-12-05,42644264202312052698256321,40072,40...  03. Third_batch   \n",
       "43372                   COMPROBANTE MISMO BANCO SANTANDER  01. First_batch   \n",
       "92                                                    NaN  01. First_batch   \n",
       "\n",
       "       Banco_emisor                 file_name  date_file                 INDEX  \n",
       "40        SANTANDER  Dispersión-20231205.xlsx 2023-12-05  AFJLJGNS3_2023-12-05  \n",
       "104         BANORTE  Dispersión-20231205.xlsx 2023-12-05  AFJLJGNS3_2023-12-05  \n",
       "101330      BANORTE  Dispersión-20231205.xlsx 2023-12-05  AHZH6Z7WL_2023-12-05  \n",
       "43372     SANTANDER  Dispersión-20231205.xlsx 2023-12-05  AHZH6Z7WL_2023-12-05  \n",
       "92        SANTANDER  Dispersión-20231205.xlsx 2023-12-05  AW5JG5LS6_2023-12-05  "
      ]
     },
     "execution_count": 11,
     "metadata": {},
     "output_type": "execute_result"
    }
   ],
   "source": [
    "duplicates_trad = pagos_1[pagos_1.duplicated(['report_id','date_file'] , keep=False)]\n",
    "duplicates_trad['INDEX'] = duplicates_trad['report_id'] + '_' + duplicates_trad['date_file'].astype('str')\n",
    "duplicates_trad.sort_values(by=['date_file','report_id'],inplace=True)\n",
    "duplicates_trad.head()"
   ]
  },
  {
   "cell_type": "code",
   "execution_count": 12,
   "metadata": {},
   "outputs": [
    {
     "data": {
      "text/plain": [
       "(178, 18)"
      ]
     },
     "execution_count": 12,
     "metadata": {},
     "output_type": "execute_result"
    }
   ],
   "source": [
    "duplicates_trad.shape"
   ]
  },
  {
   "cell_type": "code",
   "execution_count": 13,
   "metadata": {},
   "outputs": [
    {
     "data": {
      "text/plain": [
       "array(['ERROR', 'PAID'], dtype=object)"
      ]
     },
     "execution_count": 13,
     "metadata": {},
     "output_type": "execute_result"
    }
   ],
   "source": [
    "duplicates_trad['status'].unique()"
   ]
  },
  {
   "cell_type": "code",
   "execution_count": 14,
   "metadata": {},
   "outputs": [
    {
     "name": "stderr",
     "output_type": "stream",
     "text": [
      "C:\\Users\\Cristian.Aparicio\\AppData\\Local\\Temp\\ipykernel_23404\\494774456.py:1: SettingWithCopyWarning: \n",
      "A value is trying to be set on a copy of a slice from a DataFrame\n",
      "\n",
      "See the caveats in the documentation: https://pandas.pydata.org/pandas-docs/stable/user_guide/indexing.html#returning-a-view-versus-a-copy\n",
      "  duplicates_trad.drop_duplicates(subset=\"INDEX\", keep='last', inplace=True)\n"
     ]
    }
   ],
   "source": [
    "duplicates_trad.drop_duplicates(subset=\"INDEX\", keep='last', inplace=True)"
   ]
  },
  {
   "cell_type": "code",
   "execution_count": 15,
   "metadata": {},
   "outputs": [
    {
     "data": {
      "text/html": [
       "<div>\n",
       "<style scoped>\n",
       "    .dataframe tbody tr th:only-of-type {\n",
       "        vertical-align: middle;\n",
       "    }\n",
       "\n",
       "    .dataframe tbody tr th {\n",
       "        vertical-align: top;\n",
       "    }\n",
       "\n",
       "    .dataframe thead th {\n",
       "        text-align: right;\n",
       "    }\n",
       "</style>\n",
       "<table border=\"1\" class=\"dataframe\">\n",
       "  <thead>\n",
       "    <tr style=\"text-align: right;\">\n",
       "      <th></th>\n",
       "      <th>type</th>\n",
       "      <th>merchant_id</th>\n",
       "      <th>merchant_name</th>\n",
       "      <th>user_email</th>\n",
       "      <th>report_id</th>\n",
       "      <th>report_date_local</th>\n",
       "      <th>total_due</th>\n",
       "      <th>tipo</th>\n",
       "      <th>bank</th>\n",
       "      <th>bank_account_owner_name</th>\n",
       "      <th>CLABE</th>\n",
       "      <th>status</th>\n",
       "      <th>LINEA CEP</th>\n",
       "      <th>Batch_time</th>\n",
       "      <th>Banco_emisor</th>\n",
       "      <th>file_name</th>\n",
       "      <th>date_file</th>\n",
       "      <th>INDEX</th>\n",
       "    </tr>\n",
       "  </thead>\n",
       "  <tbody>\n",
       "    <tr>\n",
       "      <th>104</th>\n",
       "      <td>LEDGER_TRAD</td>\n",
       "      <td>6bf68a1a-4f91-4059-847c-854a40e0b350</td>\n",
       "      <td>NaN</td>\n",
       "      <td>NaN</td>\n",
       "      <td>AFJLJGNS3</td>\n",
       "      <td>2023-12-05</td>\n",
       "      <td>14,350.02</td>\n",
       "      <td>Pago del día</td>\n",
       "      <td>AKALA</td>\n",
       "      <td>Gerardo Ahumada</td>\n",
       "      <td>638180010171290762</td>\n",
       "      <td>ERROR</td>\n",
       "      <td>NaN</td>\n",
       "      <td>03. Third_batch</td>\n",
       "      <td>BANORTE</td>\n",
       "      <td>Dispersión-20231205.xlsx</td>\n",
       "      <td>2023-12-05</td>\n",
       "      <td>AFJLJGNS3_2023-12-05</td>\n",
       "    </tr>\n",
       "    <tr>\n",
       "      <th>43372</th>\n",
       "      <td>LEDGER_TRAD</td>\n",
       "      <td>74d37594-1feb-49e0-ac7f-27c3e9b64f72</td>\n",
       "      <td>NaN</td>\n",
       "      <td>NaN</td>\n",
       "      <td>AHZH6Z7WL</td>\n",
       "      <td>2023-12-04</td>\n",
       "      <td>6,228.56</td>\n",
       "      <td>Reprogramación</td>\n",
       "      <td>SANTANDER</td>\n",
       "      <td>Monica Aranzazu Jimnez Jasso</td>\n",
       "      <td>14975500780366902</td>\n",
       "      <td>PAID</td>\n",
       "      <td>COMPROBANTE MISMO BANCO SANTANDER</td>\n",
       "      <td>01. First_batch</td>\n",
       "      <td>SANTANDER</td>\n",
       "      <td>Dispersión-20231205.xlsx</td>\n",
       "      <td>2023-12-05</td>\n",
       "      <td>AHZH6Z7WL_2023-12-05</td>\n",
       "    </tr>\n",
       "    <tr>\n",
       "      <th>105</th>\n",
       "      <td>LEDGER_TRAD</td>\n",
       "      <td>fe7c49d9-1832-4e90-a47d-f769ff517ec6</td>\n",
       "      <td>NaN</td>\n",
       "      <td>NaN</td>\n",
       "      <td>AW5JG5LS6</td>\n",
       "      <td>2023-12-05</td>\n",
       "      <td>24,399.21</td>\n",
       "      <td>Pago del día</td>\n",
       "      <td>AZTECA</td>\n",
       "      <td>Berenice</td>\n",
       "      <td>127180016142627303</td>\n",
       "      <td>ERROR</td>\n",
       "      <td>NaN</td>\n",
       "      <td>03. Third_batch</td>\n",
       "      <td>BANORTE</td>\n",
       "      <td>Dispersión-20231205.xlsx</td>\n",
       "      <td>2023-12-05</td>\n",
       "      <td>AW5JG5LS6_2023-12-05</td>\n",
       "    </tr>\n",
       "    <tr>\n",
       "      <th>101</th>\n",
       "      <td>LEDGER_TRAD</td>\n",
       "      <td>3e1f38fc-c9c4-483f-b8a0-654c70c96b30</td>\n",
       "      <td>NaN</td>\n",
       "      <td>NaN</td>\n",
       "      <td>A3P2VQ7KS</td>\n",
       "      <td>2023-12-06</td>\n",
       "      <td>19.16</td>\n",
       "      <td>Pago del día</td>\n",
       "      <td>BBVA BANCOMER</td>\n",
       "      <td>Deyanira Rojas Villar</td>\n",
       "      <td>12180004780522631</td>\n",
       "      <td>ERROR</td>\n",
       "      <td>NaN</td>\n",
       "      <td>03. Third_batch</td>\n",
       "      <td>BANORTE</td>\n",
       "      <td>Dispersión-20231206.xlsx</td>\n",
       "      <td>2023-12-06</td>\n",
       "      <td>A3P2VQ7KS_2023-12-06</td>\n",
       "    </tr>\n",
       "    <tr>\n",
       "      <th>104337</th>\n",
       "      <td>LEDGER_TRAD</td>\n",
       "      <td>93c4d5c2-6c62-429a-ad41-692d1cb3f3eb</td>\n",
       "      <td>NaN</td>\n",
       "      <td>NaN</td>\n",
       "      <td>AHB677Q2Z</td>\n",
       "      <td>2023-12-06</td>\n",
       "      <td>1,644.34</td>\n",
       "      <td>Pago del día</td>\n",
       "      <td>SANTANDER</td>\n",
       "      <td>Jessica Del Carmen Castaneda Alvarez</td>\n",
       "      <td>14854605899806463</td>\n",
       "      <td>PAID</td>\n",
       "      <td>2023-12-06,42644264202312062700408895,40072,40...</td>\n",
       "      <td>03. Third_batch</td>\n",
       "      <td>BANORTE</td>\n",
       "      <td>Dispersión-20231206.xlsx</td>\n",
       "      <td>2023-12-06</td>\n",
       "      <td>AHB677Q2Z_2023-12-06</td>\n",
       "    </tr>\n",
       "  </tbody>\n",
       "</table>\n",
       "</div>"
      ],
      "text/plain": [
       "               type                           merchant_id merchant_name  \\\n",
       "104     LEDGER_TRAD  6bf68a1a-4f91-4059-847c-854a40e0b350           NaN   \n",
       "43372   LEDGER_TRAD  74d37594-1feb-49e0-ac7f-27c3e9b64f72           NaN   \n",
       "105     LEDGER_TRAD  fe7c49d9-1832-4e90-a47d-f769ff517ec6           NaN   \n",
       "101     LEDGER_TRAD  3e1f38fc-c9c4-483f-b8a0-654c70c96b30           NaN   \n",
       "104337  LEDGER_TRAD  93c4d5c2-6c62-429a-ad41-692d1cb3f3eb           NaN   \n",
       "\n",
       "       user_email  report_id report_date_local  total_due            tipo  \\\n",
       "104           NaN  AFJLJGNS3        2023-12-05  14,350.02    Pago del día   \n",
       "43372         NaN  AHZH6Z7WL        2023-12-04   6,228.56  Reprogramación   \n",
       "105           NaN  AW5JG5LS6        2023-12-05  24,399.21    Pago del día   \n",
       "101           NaN  A3P2VQ7KS        2023-12-06      19.16    Pago del día   \n",
       "104337        NaN  AHB677Q2Z        2023-12-06   1,644.34    Pago del día   \n",
       "\n",
       "                 bank               bank_account_owner_name  \\\n",
       "104             AKALA                       Gerardo Ahumada   \n",
       "43372       SANTANDER          Monica Aranzazu Jimnez Jasso   \n",
       "105            AZTECA                              Berenice   \n",
       "101     BBVA BANCOMER                 Deyanira Rojas Villar   \n",
       "104337      SANTANDER  Jessica Del Carmen Castaneda Alvarez   \n",
       "\n",
       "                     CLABE status  \\\n",
       "104     638180010171290762  ERROR   \n",
       "43372    14975500780366902   PAID   \n",
       "105     127180016142627303  ERROR   \n",
       "101      12180004780522631  ERROR   \n",
       "104337   14854605899806463   PAID   \n",
       "\n",
       "                                                LINEA CEP       Batch_time  \\\n",
       "104                                                   NaN  03. Third_batch   \n",
       "43372                   COMPROBANTE MISMO BANCO SANTANDER  01. First_batch   \n",
       "105                                                   NaN  03. Third_batch   \n",
       "101                                                   NaN  03. Third_batch   \n",
       "104337  2023-12-06,42644264202312062700408895,40072,40...  03. Third_batch   \n",
       "\n",
       "       Banco_emisor                 file_name  date_file                 INDEX  \n",
       "104         BANORTE  Dispersión-20231205.xlsx 2023-12-05  AFJLJGNS3_2023-12-05  \n",
       "43372     SANTANDER  Dispersión-20231205.xlsx 2023-12-05  AHZH6Z7WL_2023-12-05  \n",
       "105         BANORTE  Dispersión-20231205.xlsx 2023-12-05  AW5JG5LS6_2023-12-05  \n",
       "101         BANORTE  Dispersión-20231206.xlsx 2023-12-06  A3P2VQ7KS_2023-12-06  \n",
       "104337      BANORTE  Dispersión-20231206.xlsx 2023-12-06  AHB677Q2Z_2023-12-06  "
      ]
     },
     "execution_count": 15,
     "metadata": {},
     "output_type": "execute_result"
    }
   ],
   "source": [
    "duplicates_trad.head()"
   ]
  },
  {
   "cell_type": "code",
   "execution_count": 16,
   "metadata": {},
   "outputs": [
    {
     "data": {
      "text/plain": [
       "(89, 18)"
      ]
     },
     "execution_count": 16,
     "metadata": {},
     "output_type": "execute_result"
    }
   ],
   "source": [
    "duplicates_trad.shape"
   ]
  },
  {
   "cell_type": "code",
   "execution_count": 17,
   "metadata": {},
   "outputs": [
    {
     "data": {
      "text/html": [
       "<div>\n",
       "<style scoped>\n",
       "    .dataframe tbody tr th:only-of-type {\n",
       "        vertical-align: middle;\n",
       "    }\n",
       "\n",
       "    .dataframe tbody tr th {\n",
       "        vertical-align: top;\n",
       "    }\n",
       "\n",
       "    .dataframe thead tr th {\n",
       "        text-align: left;\n",
       "    }\n",
       "</style>\n",
       "<table border=\"1\" class=\"dataframe\">\n",
       "  <thead>\n",
       "    <tr>\n",
       "      <th></th>\n",
       "      <th>tipo</th>\n",
       "      <th>date_file</th>\n",
       "      <th colspan=\"2\" halign=\"left\">sum</th>\n",
       "      <th colspan=\"2\" halign=\"left\">len</th>\n",
       "    </tr>\n",
       "    <tr>\n",
       "      <th></th>\n",
       "      <th></th>\n",
       "      <th></th>\n",
       "      <th colspan=\"2\" halign=\"left\">total_due</th>\n",
       "      <th colspan=\"2\" halign=\"left\">total_due</th>\n",
       "    </tr>\n",
       "    <tr>\n",
       "      <th>type</th>\n",
       "      <th></th>\n",
       "      <th></th>\n",
       "      <th>LEDGER_TRAD</th>\n",
       "      <th>All</th>\n",
       "      <th>LEDGER_TRAD</th>\n",
       "      <th>All</th>\n",
       "    </tr>\n",
       "  </thead>\n",
       "  <tbody>\n",
       "    <tr>\n",
       "      <th>0</th>\n",
       "      <td>Pago del día</td>\n",
       "      <td>2023-12-05 00:00:00</td>\n",
       "      <td>38,749.23</td>\n",
       "      <td>38,749.23</td>\n",
       "      <td>2</td>\n",
       "      <td>2</td>\n",
       "    </tr>\n",
       "    <tr>\n",
       "      <th>1</th>\n",
       "      <td>Pago del día</td>\n",
       "      <td>2023-12-06 00:00:00</td>\n",
       "      <td>1,663.50</td>\n",
       "      <td>1,663.50</td>\n",
       "      <td>2</td>\n",
       "      <td>2</td>\n",
       "    </tr>\n",
       "    <tr>\n",
       "      <th>2</th>\n",
       "      <td>Pago del día</td>\n",
       "      <td>2023-12-07 00:00:00</td>\n",
       "      <td>93,054.24</td>\n",
       "      <td>93,054.24</td>\n",
       "      <td>3</td>\n",
       "      <td>3</td>\n",
       "    </tr>\n",
       "    <tr>\n",
       "      <th>3</th>\n",
       "      <td>Pago del día</td>\n",
       "      <td>2023-12-08 00:00:00</td>\n",
       "      <td>16,090.85</td>\n",
       "      <td>16,090.85</td>\n",
       "      <td>1</td>\n",
       "      <td>1</td>\n",
       "    </tr>\n",
       "    <tr>\n",
       "      <th>4</th>\n",
       "      <td>Pago del día</td>\n",
       "      <td>2023-12-11 00:00:00</td>\n",
       "      <td>5,391.04</td>\n",
       "      <td>5,391.04</td>\n",
       "      <td>1</td>\n",
       "      <td>1</td>\n",
       "    </tr>\n",
       "    <tr>\n",
       "      <th>5</th>\n",
       "      <td>Pago del día</td>\n",
       "      <td>2023-12-12 00:00:00</td>\n",
       "      <td>61,951.96</td>\n",
       "      <td>61,951.96</td>\n",
       "      <td>20</td>\n",
       "      <td>20</td>\n",
       "    </tr>\n",
       "    <tr>\n",
       "      <th>6</th>\n",
       "      <td>Pago del día</td>\n",
       "      <td>2023-12-13 00:00:00</td>\n",
       "      <td>16,908.15</td>\n",
       "      <td>16,908.15</td>\n",
       "      <td>2</td>\n",
       "      <td>2</td>\n",
       "    </tr>\n",
       "    <tr>\n",
       "      <th>7</th>\n",
       "      <td>Pago del día</td>\n",
       "      <td>2023-12-15 00:00:00</td>\n",
       "      <td>18,671.64</td>\n",
       "      <td>18,671.64</td>\n",
       "      <td>3</td>\n",
       "      <td>3</td>\n",
       "    </tr>\n",
       "    <tr>\n",
       "      <th>8</th>\n",
       "      <td>Pago del día</td>\n",
       "      <td>2023-12-18 00:00:00</td>\n",
       "      <td>838.46</td>\n",
       "      <td>838.46</td>\n",
       "      <td>1</td>\n",
       "      <td>1</td>\n",
       "    </tr>\n",
       "    <tr>\n",
       "      <th>9</th>\n",
       "      <td>Pago del día</td>\n",
       "      <td>2023-12-19 00:00:00</td>\n",
       "      <td>46,010.85</td>\n",
       "      <td>46,010.85</td>\n",
       "      <td>4</td>\n",
       "      <td>4</td>\n",
       "    </tr>\n",
       "  </tbody>\n",
       "</table>\n",
       "</div>"
      ],
      "text/plain": [
       "              tipo            date_file         sum                   len    \n",
       "                                          total_due             total_due    \n",
       "type                                    LEDGER_TRAD       All LEDGER_TRAD All\n",
       "0     Pago del día  2023-12-05 00:00:00   38,749.23 38,749.23           2   2\n",
       "1     Pago del día  2023-12-06 00:00:00    1,663.50  1,663.50           2   2\n",
       "2     Pago del día  2023-12-07 00:00:00   93,054.24 93,054.24           3   3\n",
       "3     Pago del día  2023-12-08 00:00:00   16,090.85 16,090.85           1   1\n",
       "4     Pago del día  2023-12-11 00:00:00    5,391.04  5,391.04           1   1\n",
       "5     Pago del día  2023-12-12 00:00:00   61,951.96 61,951.96          20  20\n",
       "6     Pago del día  2023-12-13 00:00:00   16,908.15 16,908.15           2   2\n",
       "7     Pago del día  2023-12-15 00:00:00   18,671.64 18,671.64           3   3\n",
       "8     Pago del día  2023-12-18 00:00:00      838.46    838.46           1   1\n",
       "9     Pago del día  2023-12-19 00:00:00   46,010.85 46,010.85           4   4"
      ]
     },
     "execution_count": 17,
     "metadata": {},
     "output_type": "execute_result"
    }
   ],
   "source": [
    "pivot_duplicates_trad = pd.pivot_table(duplicates_trad,index=['tipo','date_file'],\n",
    "                                       columns=['type'],\n",
    "                                  values=['total_due']\n",
    "                                  ,aggfunc = ['sum', len],margins=True)\n",
    "pivot_duplicates_trad.reset_index(drop=False, inplace=True)\n",
    "pivot_duplicates_trad.head(10)"
   ]
  },
  {
   "cell_type": "code",
   "execution_count": 18,
   "metadata": {},
   "outputs": [
    {
     "data": {
      "text/plain": [
       "(23, 6)"
      ]
     },
     "execution_count": 18,
     "metadata": {},
     "output_type": "execute_result"
    }
   ],
   "source": [
    "pivot_duplicates_trad.shape"
   ]
  },
  {
   "cell_type": "markdown",
   "metadata": {},
   "source": [
    "#### FAST PAYMENTS "
   ]
  },
  {
   "cell_type": "code",
   "execution_count": 19,
   "metadata": {},
   "outputs": [
    {
     "data": {
      "text/plain": [
       "['C:\\\\Users\\\\Cristian.Aparicio\\\\Documents\\\\FAST PAYMENTS\\\\2023\\\\12. DICIEMBRE\\\\ARCHIVO DISPERSIONES FP\\\\Dispersión-FP 2023-12-01.xlsx',\n",
       " 'C:\\\\Users\\\\Cristian.Aparicio\\\\Documents\\\\FAST PAYMENTS\\\\2023\\\\12. DICIEMBRE\\\\ARCHIVO DISPERSIONES FP\\\\Dispersión-FP 2023-12-02.xlsx',\n",
       " 'C:\\\\Users\\\\Cristian.Aparicio\\\\Documents\\\\FAST PAYMENTS\\\\2023\\\\12. DICIEMBRE\\\\ARCHIVO DISPERSIONES FP\\\\Dispersión-FP 2023-12-03.xlsx',\n",
       " 'C:\\\\Users\\\\Cristian.Aparicio\\\\Documents\\\\FAST PAYMENTS\\\\2023\\\\12. DICIEMBRE\\\\ARCHIVO DISPERSIONES FP\\\\Dispersión-FP 2023-12-04.xlsx',\n",
       " 'C:\\\\Users\\\\Cristian.Aparicio\\\\Documents\\\\FAST PAYMENTS\\\\2023\\\\12. DICIEMBRE\\\\ARCHIVO DISPERSIONES FP\\\\Dispersión-FP 2023-12-05.xlsx',\n",
       " 'C:\\\\Users\\\\Cristian.Aparicio\\\\Documents\\\\FAST PAYMENTS\\\\2023\\\\12. DICIEMBRE\\\\ARCHIVO DISPERSIONES FP\\\\Dispersión-FP 2023-12-06.xlsx',\n",
       " 'C:\\\\Users\\\\Cristian.Aparicio\\\\Documents\\\\FAST PAYMENTS\\\\2023\\\\12. DICIEMBRE\\\\ARCHIVO DISPERSIONES FP\\\\Dispersión-FP 2023-12-07.xlsx',\n",
       " 'C:\\\\Users\\\\Cristian.Aparicio\\\\Documents\\\\FAST PAYMENTS\\\\2023\\\\12. DICIEMBRE\\\\ARCHIVO DISPERSIONES FP\\\\Dispersión-FP 2023-12-08.xlsx',\n",
       " 'C:\\\\Users\\\\Cristian.Aparicio\\\\Documents\\\\FAST PAYMENTS\\\\2023\\\\12. DICIEMBRE\\\\ARCHIVO DISPERSIONES FP\\\\Dispersión-FP 2023-12-09.xlsx',\n",
       " 'C:\\\\Users\\\\Cristian.Aparicio\\\\Documents\\\\FAST PAYMENTS\\\\2023\\\\12. DICIEMBRE\\\\ARCHIVO DISPERSIONES FP\\\\Dispersión-FP 2023-12-10.xlsx',\n",
       " 'C:\\\\Users\\\\Cristian.Aparicio\\\\Documents\\\\FAST PAYMENTS\\\\2023\\\\12. DICIEMBRE\\\\ARCHIVO DISPERSIONES FP\\\\Dispersión-FP 2023-12-11.xlsx',\n",
       " 'C:\\\\Users\\\\Cristian.Aparicio\\\\Documents\\\\FAST PAYMENTS\\\\2023\\\\12. DICIEMBRE\\\\ARCHIVO DISPERSIONES FP\\\\Dispersión-FP 2023-12-12.xlsx',\n",
       " 'C:\\\\Users\\\\Cristian.Aparicio\\\\Documents\\\\FAST PAYMENTS\\\\2023\\\\12. DICIEMBRE\\\\ARCHIVO DISPERSIONES FP\\\\Dispersión-FP 2023-12-13.xlsx',\n",
       " 'C:\\\\Users\\\\Cristian.Aparicio\\\\Documents\\\\FAST PAYMENTS\\\\2023\\\\12. DICIEMBRE\\\\ARCHIVO DISPERSIONES FP\\\\Dispersión-FP 2023-12-14.xlsx',\n",
       " 'C:\\\\Users\\\\Cristian.Aparicio\\\\Documents\\\\FAST PAYMENTS\\\\2023\\\\12. DICIEMBRE\\\\ARCHIVO DISPERSIONES FP\\\\Dispersión-FP 2023-12-15.xlsx',\n",
       " 'C:\\\\Users\\\\Cristian.Aparicio\\\\Documents\\\\FAST PAYMENTS\\\\2023\\\\12. DICIEMBRE\\\\ARCHIVO DISPERSIONES FP\\\\Dispersión-FP 2023-12-16.xlsx',\n",
       " 'C:\\\\Users\\\\Cristian.Aparicio\\\\Documents\\\\FAST PAYMENTS\\\\2023\\\\12. DICIEMBRE\\\\ARCHIVO DISPERSIONES FP\\\\Dispersión-FP 2023-12-17.xlsx',\n",
       " 'C:\\\\Users\\\\Cristian.Aparicio\\\\Documents\\\\FAST PAYMENTS\\\\2023\\\\12. DICIEMBRE\\\\ARCHIVO DISPERSIONES FP\\\\Dispersión-FP 2023-12-18.xlsx',\n",
       " 'C:\\\\Users\\\\Cristian.Aparicio\\\\Documents\\\\FAST PAYMENTS\\\\2023\\\\12. DICIEMBRE\\\\ARCHIVO DISPERSIONES FP\\\\Dispersión-FP 2023-12-19.xlsx',\n",
       " 'C:\\\\Users\\\\Cristian.Aparicio\\\\Documents\\\\FAST PAYMENTS\\\\2023\\\\12. DICIEMBRE\\\\ARCHIVO DISPERSIONES FP\\\\Dispersión-FP 2023-12-20.xlsx',\n",
       " 'C:\\\\Users\\\\Cristian.Aparicio\\\\Documents\\\\FAST PAYMENTS\\\\2023\\\\12. DICIEMBRE\\\\ARCHIVO DISPERSIONES FP\\\\Dispersión-FP 2023-12-21.xlsx',\n",
       " 'C:\\\\Users\\\\Cristian.Aparicio\\\\Documents\\\\FAST PAYMENTS\\\\2023\\\\12. DICIEMBRE\\\\ARCHIVO DISPERSIONES FP\\\\Dispersión-FP 2023-12-22.xlsx',\n",
       " 'C:\\\\Users\\\\Cristian.Aparicio\\\\Documents\\\\FAST PAYMENTS\\\\2023\\\\12. DICIEMBRE\\\\ARCHIVO DISPERSIONES FP\\\\Dispersión-FP 2023-12-23.xlsx',\n",
       " 'C:\\\\Users\\\\Cristian.Aparicio\\\\Documents\\\\FAST PAYMENTS\\\\2023\\\\12. DICIEMBRE\\\\ARCHIVO DISPERSIONES FP\\\\Dispersión-FP 2023-12-24.xlsx',\n",
       " 'C:\\\\Users\\\\Cristian.Aparicio\\\\Documents\\\\FAST PAYMENTS\\\\2023\\\\12. DICIEMBRE\\\\ARCHIVO DISPERSIONES FP\\\\Dispersión-FP 2023-12-25.xlsx',\n",
       " 'C:\\\\Users\\\\Cristian.Aparicio\\\\Documents\\\\FAST PAYMENTS\\\\2023\\\\12. DICIEMBRE\\\\ARCHIVO DISPERSIONES FP\\\\Dispersión-FP 2023-12-26.xlsx',\n",
       " 'C:\\\\Users\\\\Cristian.Aparicio\\\\Documents\\\\FAST PAYMENTS\\\\2023\\\\12. DICIEMBRE\\\\ARCHIVO DISPERSIONES FP\\\\Dispersión-FP 2023-12-27.xlsx',\n",
       " 'C:\\\\Users\\\\Cristian.Aparicio\\\\Documents\\\\FAST PAYMENTS\\\\2023\\\\12. DICIEMBRE\\\\ARCHIVO DISPERSIONES FP\\\\Dispersión-FP 2023-12-28.xlsx',\n",
       " 'C:\\\\Users\\\\Cristian.Aparicio\\\\Documents\\\\FAST PAYMENTS\\\\2023\\\\12. DICIEMBRE\\\\ARCHIVO DISPERSIONES FP\\\\Dispersión-FP 2023-12-29.xlsx',\n",
       " 'C:\\\\Users\\\\Cristian.Aparicio\\\\Documents\\\\FAST PAYMENTS\\\\2023\\\\12. DICIEMBRE\\\\ARCHIVO DISPERSIONES FP\\\\Dispersión-FP 2023-12-30.xlsx',\n",
       " 'C:\\\\Users\\\\Cristian.Aparicio\\\\Documents\\\\FAST PAYMENTS\\\\2023\\\\12. DICIEMBRE\\\\ARCHIVO DISPERSIONES FP\\\\Dispersión-FP 2023-12-31.xlsx']"
      ]
     },
     "execution_count": 19,
     "metadata": {},
     "output_type": "execute_result"
    }
   ],
   "source": [
    "fp_files_1 = glob.glob(r'C:\\Users\\Cristian.Aparicio\\Documents\\FAST PAYMENTS\\2023\\12. DICIEMBRE\\ARCHIVO DISPERSIONES FP\\Dispersión-FP*.xlsx', recursive=False)\n",
    "fp_files_1"
   ]
  },
  {
   "cell_type": "code",
   "execution_count": 20,
   "metadata": {},
   "outputs": [
    {
     "data": {
      "text/html": [
       "<div>\n",
       "<style scoped>\n",
       "    .dataframe tbody tr th:only-of-type {\n",
       "        vertical-align: middle;\n",
       "    }\n",
       "\n",
       "    .dataframe tbody tr th {\n",
       "        vertical-align: top;\n",
       "    }\n",
       "\n",
       "    .dataframe thead th {\n",
       "        text-align: right;\n",
       "    }\n",
       "</style>\n",
       "<table border=\"1\" class=\"dataframe\">\n",
       "  <thead>\n",
       "    <tr style=\"text-align: right;\">\n",
       "      <th></th>\n",
       "      <th>type</th>\n",
       "      <th>merchant_id</th>\n",
       "      <th>merchant_name</th>\n",
       "      <th>user_email</th>\n",
       "      <th>report_id</th>\n",
       "      <th>report_date_local</th>\n",
       "      <th>total_due</th>\n",
       "      <th>tipo</th>\n",
       "      <th>bank</th>\n",
       "      <th>swap</th>\n",
       "      <th>CLABE</th>\n",
       "      <th>status</th>\n",
       "      <th>LINEA CEP</th>\n",
       "      <th>Batch_time</th>\n",
       "      <th>Banco_emisor</th>\n",
       "      <th>file_name</th>\n",
       "      <th>date_file</th>\n",
       "    </tr>\n",
       "  </thead>\n",
       "  <tbody>\n",
       "    <tr>\n",
       "      <th>0</th>\n",
       "      <td>LEDGER_FP</td>\n",
       "      <td>0612643c-8614-47d7-b487-026de81587c5</td>\n",
       "      <td>NaN</td>\n",
       "      <td>NaN</td>\n",
       "      <td>A6KGKJBR6</td>\n",
       "      <td>2023-12-01</td>\n",
       "      <td>402.46</td>\n",
       "      <td>Pago del día</td>\n",
       "      <td>ASP INTEGRA OPC</td>\n",
       "      <td>Blanca Estela Del Carmen Nava</td>\n",
       "      <td>659802020000203601</td>\n",
       "      <td>ERROR</td>\n",
       "      <td>NaN</td>\n",
       "      <td>02. Second_batch</td>\n",
       "      <td>SANTANDER</td>\n",
       "      <td>Dispersión-FP 2023-12-01.xlsx</td>\n",
       "      <td>2023-12-01</td>\n",
       "    </tr>\n",
       "    <tr>\n",
       "      <th>2619</th>\n",
       "      <td>LEDGER_FP</td>\n",
       "      <td>6ba30ed1-b705-4682-b740-bfcad4840267</td>\n",
       "      <td>NaN</td>\n",
       "      <td>NaN</td>\n",
       "      <td>AK2C5JS22</td>\n",
       "      <td>2023-11-16</td>\n",
       "      <td>852.84</td>\n",
       "      <td>Reprogramación</td>\n",
       "      <td>BANAMEX</td>\n",
       "      <td>Bryceidee</td>\n",
       "      <td>2730701743730330</td>\n",
       "      <td>PAID</td>\n",
       "      <td>COMPROBANTE MISMO BANCO BANAMEX</td>\n",
       "      <td>05. Fifth_batch</td>\n",
       "      <td>BANAMEX</td>\n",
       "      <td>Dispersión-FP 2023-12-01.xlsx</td>\n",
       "      <td>2023-12-01</td>\n",
       "    </tr>\n",
       "    <tr>\n",
       "      <th>2620</th>\n",
       "      <td>LEDGER_FP</td>\n",
       "      <td>6ba30ed1-b705-4682-b740-bfcad4840267</td>\n",
       "      <td>NaN</td>\n",
       "      <td>NaN</td>\n",
       "      <td>ACPST4QCD</td>\n",
       "      <td>2023-11-17</td>\n",
       "      <td>1,801.50</td>\n",
       "      <td>Reprogramación</td>\n",
       "      <td>BANAMEX</td>\n",
       "      <td>Bryceidee</td>\n",
       "      <td>2730701743730330</td>\n",
       "      <td>PAID</td>\n",
       "      <td>COMPROBANTE MISMO BANCO BANAMEX</td>\n",
       "      <td>05. Fifth_batch</td>\n",
       "      <td>BANAMEX</td>\n",
       "      <td>Dispersión-FP 2023-12-01.xlsx</td>\n",
       "      <td>2023-12-01</td>\n",
       "    </tr>\n",
       "    <tr>\n",
       "      <th>2621</th>\n",
       "      <td>LEDGER_FP</td>\n",
       "      <td>6ba30ed1-b705-4682-b740-bfcad4840267</td>\n",
       "      <td>NaN</td>\n",
       "      <td>NaN</td>\n",
       "      <td>A598KWZ6H</td>\n",
       "      <td>2023-11-18</td>\n",
       "      <td>1,303.20</td>\n",
       "      <td>Reprogramación</td>\n",
       "      <td>BANAMEX</td>\n",
       "      <td>Bryceidee</td>\n",
       "      <td>2730701743730330</td>\n",
       "      <td>PAID</td>\n",
       "      <td>COMPROBANTE MISMO BANCO BANAMEX</td>\n",
       "      <td>05. Fifth_batch</td>\n",
       "      <td>BANAMEX</td>\n",
       "      <td>Dispersión-FP 2023-12-01.xlsx</td>\n",
       "      <td>2023-12-01</td>\n",
       "    </tr>\n",
       "    <tr>\n",
       "      <th>2622</th>\n",
       "      <td>LEDGER_FP</td>\n",
       "      <td>6ba30ed1-b705-4682-b740-bfcad4840267</td>\n",
       "      <td>NaN</td>\n",
       "      <td>NaN</td>\n",
       "      <td>ALQPVTK7D</td>\n",
       "      <td>2023-11-19</td>\n",
       "      <td>1,327.15</td>\n",
       "      <td>Reprogramación</td>\n",
       "      <td>BANAMEX</td>\n",
       "      <td>Bryceidee</td>\n",
       "      <td>2730701743730330</td>\n",
       "      <td>PAID</td>\n",
       "      <td>COMPROBANTE MISMO BANCO BANAMEX</td>\n",
       "      <td>05. Fifth_batch</td>\n",
       "      <td>BANAMEX</td>\n",
       "      <td>Dispersión-FP 2023-12-01.xlsx</td>\n",
       "      <td>2023-12-01</td>\n",
       "    </tr>\n",
       "  </tbody>\n",
       "</table>\n",
       "</div>"
      ],
      "text/plain": [
       "           type                           merchant_id merchant_name  \\\n",
       "0     LEDGER_FP  0612643c-8614-47d7-b487-026de81587c5           NaN   \n",
       "2619  LEDGER_FP  6ba30ed1-b705-4682-b740-bfcad4840267           NaN   \n",
       "2620  LEDGER_FP  6ba30ed1-b705-4682-b740-bfcad4840267           NaN   \n",
       "2621  LEDGER_FP  6ba30ed1-b705-4682-b740-bfcad4840267           NaN   \n",
       "2622  LEDGER_FP  6ba30ed1-b705-4682-b740-bfcad4840267           NaN   \n",
       "\n",
       "     user_email  report_id report_date_local  total_due            tipo  \\\n",
       "0           NaN  A6KGKJBR6        2023-12-01     402.46    Pago del día   \n",
       "2619        NaN  AK2C5JS22        2023-11-16     852.84  Reprogramación   \n",
       "2620        NaN  ACPST4QCD        2023-11-17   1,801.50  Reprogramación   \n",
       "2621        NaN  A598KWZ6H        2023-11-18   1,303.20  Reprogramación   \n",
       "2622        NaN  ALQPVTK7D        2023-11-19   1,327.15  Reprogramación   \n",
       "\n",
       "                 bank                           swap               CLABE  \\\n",
       "0     ASP INTEGRA OPC  Blanca Estela Del Carmen Nava  659802020000203601   \n",
       "2619          BANAMEX                      Bryceidee    2730701743730330   \n",
       "2620          BANAMEX                      Bryceidee    2730701743730330   \n",
       "2621          BANAMEX                      Bryceidee    2730701743730330   \n",
       "2622          BANAMEX                      Bryceidee    2730701743730330   \n",
       "\n",
       "     status                        LINEA CEP        Batch_time Banco_emisor  \\\n",
       "0     ERROR                              NaN  02. Second_batch    SANTANDER   \n",
       "2619   PAID  COMPROBANTE MISMO BANCO BANAMEX   05. Fifth_batch      BANAMEX   \n",
       "2620   PAID  COMPROBANTE MISMO BANCO BANAMEX   05. Fifth_batch      BANAMEX   \n",
       "2621   PAID  COMPROBANTE MISMO BANCO BANAMEX   05. Fifth_batch      BANAMEX   \n",
       "2622   PAID  COMPROBANTE MISMO BANCO BANAMEX   05. Fifth_batch      BANAMEX   \n",
       "\n",
       "                          file_name  date_file  \n",
       "0     Dispersión-FP 2023-12-01.xlsx 2023-12-01  \n",
       "2619  Dispersión-FP 2023-12-01.xlsx 2023-12-01  \n",
       "2620  Dispersión-FP 2023-12-01.xlsx 2023-12-01  \n",
       "2621  Dispersión-FP 2023-12-01.xlsx 2023-12-01  \n",
       "2622  Dispersión-FP 2023-12-01.xlsx 2023-12-01  "
      ]
     },
     "execution_count": 20,
     "metadata": {},
     "output_type": "execute_result"
    }
   ],
   "source": [
    "pagos_2 = pd.concat([pd.read_excel(f,sheet_name='FAST PAYMENTS').assign(file_name=os.path.basename(f)) for f in fp_files_1])\n",
    "pagos_2['date_file'] = pagos_2[\"file_name\"].str[-15:-4]\n",
    "pagos_2['date_file']= pd.to_datetime(pagos_2['date_file']) \n",
    "pagos_2.sort_values(by=['date_file'],ascending=True,inplace=True)\n",
    "pagos_2['report_date_local']= pd.to_datetime(pagos_2['report_date_local']) \n",
    "pagos_2.head()"
   ]
  },
  {
   "cell_type": "code",
   "execution_count": 21,
   "metadata": {},
   "outputs": [
    {
     "data": {
      "text/plain": [
       "(82269, 17)"
      ]
     },
     "execution_count": 21,
     "metadata": {},
     "output_type": "execute_result"
    }
   ],
   "source": [
    "pagos_2.shape"
   ]
  },
  {
   "cell_type": "markdown",
   "metadata": {},
   "source": [
    "#### PAGOS REPETIDOS FAST PAYMENTS"
   ]
  },
  {
   "cell_type": "code",
   "execution_count": 22,
   "metadata": {},
   "outputs": [
    {
     "name": "stderr",
     "output_type": "stream",
     "text": [
      "C:\\Users\\Cristian.Aparicio\\AppData\\Local\\Temp\\ipykernel_23404\\3928666323.py:2: SettingWithCopyWarning: \n",
      "A value is trying to be set on a copy of a slice from a DataFrame.\n",
      "Try using .loc[row_indexer,col_indexer] = value instead\n",
      "\n",
      "See the caveats in the documentation: https://pandas.pydata.org/pandas-docs/stable/user_guide/indexing.html#returning-a-view-versus-a-copy\n",
      "  duplicates_fp['INDEX'] = duplicates_fp['report_id'] + '_' + duplicates_fp['date_file'].astype('str')\n",
      "C:\\Users\\Cristian.Aparicio\\AppData\\Local\\Temp\\ipykernel_23404\\3928666323.py:3: SettingWithCopyWarning: \n",
      "A value is trying to be set on a copy of a slice from a DataFrame\n",
      "\n",
      "See the caveats in the documentation: https://pandas.pydata.org/pandas-docs/stable/user_guide/indexing.html#returning-a-view-versus-a-copy\n",
      "  duplicates_fp.sort_values(by=['date_file','report_id','Batch_time'],inplace=True)\n"
     ]
    },
    {
     "data": {
      "text/html": [
       "<div>\n",
       "<style scoped>\n",
       "    .dataframe tbody tr th:only-of-type {\n",
       "        vertical-align: middle;\n",
       "    }\n",
       "\n",
       "    .dataframe tbody tr th {\n",
       "        vertical-align: top;\n",
       "    }\n",
       "\n",
       "    .dataframe thead th {\n",
       "        text-align: right;\n",
       "    }\n",
       "</style>\n",
       "<table border=\"1\" class=\"dataframe\">\n",
       "  <thead>\n",
       "    <tr style=\"text-align: right;\">\n",
       "      <th></th>\n",
       "      <th>type</th>\n",
       "      <th>merchant_id</th>\n",
       "      <th>merchant_name</th>\n",
       "      <th>user_email</th>\n",
       "      <th>report_id</th>\n",
       "      <th>report_date_local</th>\n",
       "      <th>total_due</th>\n",
       "      <th>tipo</th>\n",
       "      <th>bank</th>\n",
       "      <th>swap</th>\n",
       "      <th>CLABE</th>\n",
       "      <th>status</th>\n",
       "      <th>LINEA CEP</th>\n",
       "      <th>Batch_time</th>\n",
       "      <th>Banco_emisor</th>\n",
       "      <th>file_name</th>\n",
       "      <th>date_file</th>\n",
       "      <th>INDEX</th>\n",
       "    </tr>\n",
       "  </thead>\n",
       "  <tbody>\n",
       "    <tr>\n",
       "      <th>0</th>\n",
       "      <td>LEDGER_FP</td>\n",
       "      <td>0612643c-8614-47d7-b487-026de81587c5</td>\n",
       "      <td>NaN</td>\n",
       "      <td>NaN</td>\n",
       "      <td>A6KGKJBR6</td>\n",
       "      <td>2023-12-01</td>\n",
       "      <td>402.46</td>\n",
       "      <td>Pago del día</td>\n",
       "      <td>ASP INTEGRA OPC</td>\n",
       "      <td>Blanca Estela Del Carmen Nava</td>\n",
       "      <td>659802020000203601</td>\n",
       "      <td>ERROR</td>\n",
       "      <td>NaN</td>\n",
       "      <td>02. Second_batch</td>\n",
       "      <td>SANTANDER</td>\n",
       "      <td>Dispersión-FP 2023-12-01.xlsx</td>\n",
       "      <td>2023-12-01</td>\n",
       "      <td>A6KGKJBR6_2023-12-01</td>\n",
       "    </tr>\n",
       "    <tr>\n",
       "      <th>85</th>\n",
       "      <td>LEDGER_FP</td>\n",
       "      <td>0612643c-8614-47d7-b487-026de81587c5</td>\n",
       "      <td>NaN</td>\n",
       "      <td>NaN</td>\n",
       "      <td>A6KGKJBR6</td>\n",
       "      <td>2023-12-01</td>\n",
       "      <td>402.46</td>\n",
       "      <td>Pago del día</td>\n",
       "      <td>ASP INTEGRA OPC</td>\n",
       "      <td>Blanca Estela Del Carmen Nava</td>\n",
       "      <td>659802020000203601</td>\n",
       "      <td>ERROR</td>\n",
       "      <td>NaN</td>\n",
       "      <td>06. Sixth_batch</td>\n",
       "      <td>BANAMEX</td>\n",
       "      <td>Dispersión-FP 2023-12-01.xlsx</td>\n",
       "      <td>2023-12-01</td>\n",
       "      <td>A6KGKJBR6_2023-12-01</td>\n",
       "    </tr>\n",
       "    <tr>\n",
       "      <th>44</th>\n",
       "      <td>LEDGER_FP</td>\n",
       "      <td>63844713-ba04-4b73-b005-b70a529cb0e7</td>\n",
       "      <td>NaN</td>\n",
       "      <td>NaN</td>\n",
       "      <td>AC7CPJMLQ</td>\n",
       "      <td>2023-11-30</td>\n",
       "      <td>28,747.20</td>\n",
       "      <td>Reprogramación</td>\n",
       "      <td>ASP INTEGRA OPC</td>\n",
       "      <td>Manuel Gustavo Sainos Vega</td>\n",
       "      <td>659802020000493864</td>\n",
       "      <td>ERROR</td>\n",
       "      <td>NaN</td>\n",
       "      <td>02. Second_batch</td>\n",
       "      <td>SANTANDER</td>\n",
       "      <td>Dispersión-FP 2023-12-01.xlsx</td>\n",
       "      <td>2023-12-01</td>\n",
       "      <td>AC7CPJMLQ_2023-12-01</td>\n",
       "    </tr>\n",
       "    <tr>\n",
       "      <th>96</th>\n",
       "      <td>LEDGER_FP</td>\n",
       "      <td>63844713-ba04-4b73-b005-b70a529cb0e7</td>\n",
       "      <td>NaN</td>\n",
       "      <td>NaN</td>\n",
       "      <td>AC7CPJMLQ</td>\n",
       "      <td>2023-11-30</td>\n",
       "      <td>28,747.20</td>\n",
       "      <td>Reprogramación</td>\n",
       "      <td>ASP INTEGRA OPC</td>\n",
       "      <td>Manuel Gustavo Sainos Vega</td>\n",
       "      <td>659802020000493864</td>\n",
       "      <td>ERROR</td>\n",
       "      <td>NaN</td>\n",
       "      <td>06. Sixth_batch</td>\n",
       "      <td>BANAMEX</td>\n",
       "      <td>Dispersión-FP 2023-12-01.xlsx</td>\n",
       "      <td>2023-12-01</td>\n",
       "      <td>AC7CPJMLQ_2023-12-01</td>\n",
       "    </tr>\n",
       "    <tr>\n",
       "      <th>45</th>\n",
       "      <td>LEDGER_FP</td>\n",
       "      <td>c69135cd-3373-4eae-b428-8357a03ea90b</td>\n",
       "      <td>NaN</td>\n",
       "      <td>NaN</td>\n",
       "      <td>ADW2HVH85</td>\n",
       "      <td>2023-12-01</td>\n",
       "      <td>4.00</td>\n",
       "      <td>Pago del día</td>\n",
       "      <td>ASP INTEGRA OPC</td>\n",
       "      <td>Maria Fernanda Ramirez Maya</td>\n",
       "      <td>659802020000082534</td>\n",
       "      <td>ERROR</td>\n",
       "      <td>NaN</td>\n",
       "      <td>02. Second_batch</td>\n",
       "      <td>SANTANDER</td>\n",
       "      <td>Dispersión-FP 2023-12-01.xlsx</td>\n",
       "      <td>2023-12-01</td>\n",
       "      <td>ADW2HVH85_2023-12-01</td>\n",
       "    </tr>\n",
       "  </tbody>\n",
       "</table>\n",
       "</div>"
      ],
      "text/plain": [
       "         type                           merchant_id merchant_name user_email  \\\n",
       "0   LEDGER_FP  0612643c-8614-47d7-b487-026de81587c5           NaN        NaN   \n",
       "85  LEDGER_FP  0612643c-8614-47d7-b487-026de81587c5           NaN        NaN   \n",
       "44  LEDGER_FP  63844713-ba04-4b73-b005-b70a529cb0e7           NaN        NaN   \n",
       "96  LEDGER_FP  63844713-ba04-4b73-b005-b70a529cb0e7           NaN        NaN   \n",
       "45  LEDGER_FP  c69135cd-3373-4eae-b428-8357a03ea90b           NaN        NaN   \n",
       "\n",
       "    report_id report_date_local  total_due            tipo             bank  \\\n",
       "0   A6KGKJBR6        2023-12-01     402.46    Pago del día  ASP INTEGRA OPC   \n",
       "85  A6KGKJBR6        2023-12-01     402.46    Pago del día  ASP INTEGRA OPC   \n",
       "44  AC7CPJMLQ        2023-11-30  28,747.20  Reprogramación  ASP INTEGRA OPC   \n",
       "96  AC7CPJMLQ        2023-11-30  28,747.20  Reprogramación  ASP INTEGRA OPC   \n",
       "45  ADW2HVH85        2023-12-01       4.00    Pago del día  ASP INTEGRA OPC   \n",
       "\n",
       "                             swap               CLABE status LINEA CEP  \\\n",
       "0   Blanca Estela Del Carmen Nava  659802020000203601  ERROR       NaN   \n",
       "85  Blanca Estela Del Carmen Nava  659802020000203601  ERROR       NaN   \n",
       "44     Manuel Gustavo Sainos Vega  659802020000493864  ERROR       NaN   \n",
       "96     Manuel Gustavo Sainos Vega  659802020000493864  ERROR       NaN   \n",
       "45    Maria Fernanda Ramirez Maya  659802020000082534  ERROR       NaN   \n",
       "\n",
       "          Batch_time Banco_emisor                      file_name  date_file  \\\n",
       "0   02. Second_batch    SANTANDER  Dispersión-FP 2023-12-01.xlsx 2023-12-01   \n",
       "85   06. Sixth_batch      BANAMEX  Dispersión-FP 2023-12-01.xlsx 2023-12-01   \n",
       "44  02. Second_batch    SANTANDER  Dispersión-FP 2023-12-01.xlsx 2023-12-01   \n",
       "96   06. Sixth_batch      BANAMEX  Dispersión-FP 2023-12-01.xlsx 2023-12-01   \n",
       "45  02. Second_batch    SANTANDER  Dispersión-FP 2023-12-01.xlsx 2023-12-01   \n",
       "\n",
       "                   INDEX  \n",
       "0   A6KGKJBR6_2023-12-01  \n",
       "85  A6KGKJBR6_2023-12-01  \n",
       "44  AC7CPJMLQ_2023-12-01  \n",
       "96  AC7CPJMLQ_2023-12-01  \n",
       "45  ADW2HVH85_2023-12-01  "
      ]
     },
     "execution_count": 22,
     "metadata": {},
     "output_type": "execute_result"
    }
   ],
   "source": [
    "duplicates_fp = pagos_2[pagos_2.duplicated(['report_id','date_file'] , keep=False)]\n",
    "duplicates_fp['INDEX'] = duplicates_fp['report_id'] + '_' + duplicates_fp['date_file'].astype('str')\n",
    "duplicates_fp.sort_values(by=['date_file','report_id','Batch_time'],inplace=True)\n",
    "duplicates_fp.head()"
   ]
  },
  {
   "cell_type": "code",
   "execution_count": 23,
   "metadata": {},
   "outputs": [
    {
     "data": {
      "text/plain": [
       "(2539, 18)"
      ]
     },
     "execution_count": 23,
     "metadata": {},
     "output_type": "execute_result"
    }
   ],
   "source": [
    "duplicates_fp.shape"
   ]
  },
  {
   "cell_type": "code",
   "execution_count": 24,
   "metadata": {},
   "outputs": [
    {
     "name": "stderr",
     "output_type": "stream",
     "text": [
      "C:\\Users\\Cristian.Aparicio\\AppData\\Local\\Temp\\ipykernel_23404\\2218390481.py:1: SettingWithCopyWarning: \n",
      "A value is trying to be set on a copy of a slice from a DataFrame\n",
      "\n",
      "See the caveats in the documentation: https://pandas.pydata.org/pandas-docs/stable/user_guide/indexing.html#returning-a-view-versus-a-copy\n",
      "  duplicates_fp.drop_duplicates(subset=\"INDEX\", keep='last', inplace=True)\n"
     ]
    }
   ],
   "source": [
    "duplicates_fp.drop_duplicates(subset=\"INDEX\", keep='last', inplace=True)"
   ]
  },
  {
   "cell_type": "code",
   "execution_count": 25,
   "metadata": {},
   "outputs": [
    {
     "data": {
      "text/html": [
       "<div>\n",
       "<style scoped>\n",
       "    .dataframe tbody tr th:only-of-type {\n",
       "        vertical-align: middle;\n",
       "    }\n",
       "\n",
       "    .dataframe tbody tr th {\n",
       "        vertical-align: top;\n",
       "    }\n",
       "\n",
       "    .dataframe thead th {\n",
       "        text-align: right;\n",
       "    }\n",
       "</style>\n",
       "<table border=\"1\" class=\"dataframe\">\n",
       "  <thead>\n",
       "    <tr style=\"text-align: right;\">\n",
       "      <th></th>\n",
       "      <th>type</th>\n",
       "      <th>merchant_id</th>\n",
       "      <th>merchant_name</th>\n",
       "      <th>user_email</th>\n",
       "      <th>report_id</th>\n",
       "      <th>report_date_local</th>\n",
       "      <th>total_due</th>\n",
       "      <th>tipo</th>\n",
       "      <th>bank</th>\n",
       "      <th>swap</th>\n",
       "      <th>CLABE</th>\n",
       "      <th>status</th>\n",
       "      <th>LINEA CEP</th>\n",
       "      <th>Batch_time</th>\n",
       "      <th>Banco_emisor</th>\n",
       "      <th>file_name</th>\n",
       "      <th>date_file</th>\n",
       "      <th>INDEX</th>\n",
       "    </tr>\n",
       "  </thead>\n",
       "  <tbody>\n",
       "    <tr>\n",
       "      <th>85</th>\n",
       "      <td>LEDGER_FP</td>\n",
       "      <td>0612643c-8614-47d7-b487-026de81587c5</td>\n",
       "      <td>NaN</td>\n",
       "      <td>NaN</td>\n",
       "      <td>A6KGKJBR6</td>\n",
       "      <td>2023-12-01</td>\n",
       "      <td>402.46</td>\n",
       "      <td>Pago del día</td>\n",
       "      <td>ASP INTEGRA OPC</td>\n",
       "      <td>Blanca Estela Del Carmen Nava</td>\n",
       "      <td>659802020000203601</td>\n",
       "      <td>ERROR</td>\n",
       "      <td>NaN</td>\n",
       "      <td>06. Sixth_batch</td>\n",
       "      <td>BANAMEX</td>\n",
       "      <td>Dispersión-FP 2023-12-01.xlsx</td>\n",
       "      <td>2023-12-01</td>\n",
       "      <td>A6KGKJBR6_2023-12-01</td>\n",
       "    </tr>\n",
       "    <tr>\n",
       "      <th>96</th>\n",
       "      <td>LEDGER_FP</td>\n",
       "      <td>63844713-ba04-4b73-b005-b70a529cb0e7</td>\n",
       "      <td>NaN</td>\n",
       "      <td>NaN</td>\n",
       "      <td>AC7CPJMLQ</td>\n",
       "      <td>2023-11-30</td>\n",
       "      <td>28,747.20</td>\n",
       "      <td>Reprogramación</td>\n",
       "      <td>ASP INTEGRA OPC</td>\n",
       "      <td>Manuel Gustavo Sainos Vega</td>\n",
       "      <td>659802020000493864</td>\n",
       "      <td>ERROR</td>\n",
       "      <td>NaN</td>\n",
       "      <td>06. Sixth_batch</td>\n",
       "      <td>BANAMEX</td>\n",
       "      <td>Dispersión-FP 2023-12-01.xlsx</td>\n",
       "      <td>2023-12-01</td>\n",
       "      <td>AC7CPJMLQ_2023-12-01</td>\n",
       "    </tr>\n",
       "    <tr>\n",
       "      <th>107</th>\n",
       "      <td>LEDGER_FP</td>\n",
       "      <td>c69135cd-3373-4eae-b428-8357a03ea90b</td>\n",
       "      <td>NaN</td>\n",
       "      <td>NaN</td>\n",
       "      <td>ADW2HVH85</td>\n",
       "      <td>2023-12-01</td>\n",
       "      <td>4.00</td>\n",
       "      <td>Pago del día</td>\n",
       "      <td>ASP INTEGRA OPC</td>\n",
       "      <td>Maria Fernanda Ramirez Maya</td>\n",
       "      <td>659802020000082534</td>\n",
       "      <td>ERROR</td>\n",
       "      <td>NaN</td>\n",
       "      <td>06. Sixth_batch</td>\n",
       "      <td>BANAMEX</td>\n",
       "      <td>Dispersión-FP 2023-12-01.xlsx</td>\n",
       "      <td>2023-12-01</td>\n",
       "      <td>ADW2HVH85_2023-12-01</td>\n",
       "    </tr>\n",
       "    <tr>\n",
       "      <th>3787</th>\n",
       "      <td>LEDGER_FP</td>\n",
       "      <td>cb38f27d-bd05-4f19-8ad9-157f71303a52</td>\n",
       "      <td>NaN</td>\n",
       "      <td>NaN</td>\n",
       "      <td>ASJGLJCZ7</td>\n",
       "      <td>2023-11-27</td>\n",
       "      <td>9,965.70</td>\n",
       "      <td>Reprogramación</td>\n",
       "      <td>BANREGIO</td>\n",
       "      <td>Juana Martínez Valdéz</td>\n",
       "      <td>58597000022320249</td>\n",
       "      <td>PAID</td>\n",
       "      <td>2023-12-01,18C2870671257000,40002,40058,058597...</td>\n",
       "      <td>06. Sixth_batch</td>\n",
       "      <td>BANAMEX</td>\n",
       "      <td>Dispersión-FP 2023-12-01.xlsx</td>\n",
       "      <td>2023-12-01</td>\n",
       "      <td>ASJGLJCZ7_2023-12-01</td>\n",
       "    </tr>\n",
       "    <tr>\n",
       "      <th>3177</th>\n",
       "      <td>LEDGER_FP</td>\n",
       "      <td>21e07a4c-62dc-4f9b-bdc8-cb50158551da</td>\n",
       "      <td>NaN</td>\n",
       "      <td>NaN</td>\n",
       "      <td>AWJFVD4PD</td>\n",
       "      <td>2023-11-28</td>\n",
       "      <td>958.24</td>\n",
       "      <td>Reprogramación</td>\n",
       "      <td>BBVA BANCOMER</td>\n",
       "      <td>Diego Ramírez Santiago</td>\n",
       "      <td>12320029941444733</td>\n",
       "      <td>PAID</td>\n",
       "      <td>2023-12-01,18C28707EE5248D2,40002,40012,012320...</td>\n",
       "      <td>06. Sixth_batch</td>\n",
       "      <td>BANAMEX</td>\n",
       "      <td>Dispersión-FP 2023-12-01.xlsx</td>\n",
       "      <td>2023-12-01</td>\n",
       "      <td>AWJFVD4PD_2023-12-01</td>\n",
       "    </tr>\n",
       "  </tbody>\n",
       "</table>\n",
       "</div>"
      ],
      "text/plain": [
       "           type                           merchant_id merchant_name  \\\n",
       "85    LEDGER_FP  0612643c-8614-47d7-b487-026de81587c5           NaN   \n",
       "96    LEDGER_FP  63844713-ba04-4b73-b005-b70a529cb0e7           NaN   \n",
       "107   LEDGER_FP  c69135cd-3373-4eae-b428-8357a03ea90b           NaN   \n",
       "3787  LEDGER_FP  cb38f27d-bd05-4f19-8ad9-157f71303a52           NaN   \n",
       "3177  LEDGER_FP  21e07a4c-62dc-4f9b-bdc8-cb50158551da           NaN   \n",
       "\n",
       "     user_email  report_id report_date_local  total_due            tipo  \\\n",
       "85          NaN  A6KGKJBR6        2023-12-01     402.46    Pago del día   \n",
       "96          NaN  AC7CPJMLQ        2023-11-30  28,747.20  Reprogramación   \n",
       "107         NaN  ADW2HVH85        2023-12-01       4.00    Pago del día   \n",
       "3787        NaN  ASJGLJCZ7        2023-11-27   9,965.70  Reprogramación   \n",
       "3177        NaN  AWJFVD4PD        2023-11-28     958.24  Reprogramación   \n",
       "\n",
       "                 bank                           swap               CLABE  \\\n",
       "85    ASP INTEGRA OPC  Blanca Estela Del Carmen Nava  659802020000203601   \n",
       "96    ASP INTEGRA OPC     Manuel Gustavo Sainos Vega  659802020000493864   \n",
       "107   ASP INTEGRA OPC    Maria Fernanda Ramirez Maya  659802020000082534   \n",
       "3787         BANREGIO          Juana Martínez Valdéz   58597000022320249   \n",
       "3177    BBVA BANCOMER         Diego Ramírez Santiago   12320029941444733   \n",
       "\n",
       "     status                                          LINEA CEP  \\\n",
       "85    ERROR                                                NaN   \n",
       "96    ERROR                                                NaN   \n",
       "107   ERROR                                                NaN   \n",
       "3787   PAID  2023-12-01,18C2870671257000,40002,40058,058597...   \n",
       "3177   PAID  2023-12-01,18C28707EE5248D2,40002,40012,012320...   \n",
       "\n",
       "           Batch_time Banco_emisor                      file_name  date_file  \\\n",
       "85    06. Sixth_batch      BANAMEX  Dispersión-FP 2023-12-01.xlsx 2023-12-01   \n",
       "96    06. Sixth_batch      BANAMEX  Dispersión-FP 2023-12-01.xlsx 2023-12-01   \n",
       "107   06. Sixth_batch      BANAMEX  Dispersión-FP 2023-12-01.xlsx 2023-12-01   \n",
       "3787  06. Sixth_batch      BANAMEX  Dispersión-FP 2023-12-01.xlsx 2023-12-01   \n",
       "3177  06. Sixth_batch      BANAMEX  Dispersión-FP 2023-12-01.xlsx 2023-12-01   \n",
       "\n",
       "                     INDEX  \n",
       "85    A6KGKJBR6_2023-12-01  \n",
       "96    AC7CPJMLQ_2023-12-01  \n",
       "107   ADW2HVH85_2023-12-01  \n",
       "3787  ASJGLJCZ7_2023-12-01  \n",
       "3177  AWJFVD4PD_2023-12-01  "
      ]
     },
     "execution_count": 25,
     "metadata": {},
     "output_type": "execute_result"
    }
   ],
   "source": [
    "duplicates_fp.head()"
   ]
  },
  {
   "cell_type": "code",
   "execution_count": 26,
   "metadata": {},
   "outputs": [
    {
     "data": {
      "text/plain": [
       "(1138, 18)"
      ]
     },
     "execution_count": 26,
     "metadata": {},
     "output_type": "execute_result"
    }
   ],
   "source": [
    "duplicates_fp.shape"
   ]
  },
  {
   "cell_type": "code",
   "execution_count": 27,
   "metadata": {},
   "outputs": [
    {
     "data": {
      "text/html": [
       "<div>\n",
       "<style scoped>\n",
       "    .dataframe tbody tr th:only-of-type {\n",
       "        vertical-align: middle;\n",
       "    }\n",
       "\n",
       "    .dataframe tbody tr th {\n",
       "        vertical-align: top;\n",
       "    }\n",
       "\n",
       "    .dataframe thead tr th {\n",
       "        text-align: left;\n",
       "    }\n",
       "</style>\n",
       "<table border=\"1\" class=\"dataframe\">\n",
       "  <thead>\n",
       "    <tr>\n",
       "      <th></th>\n",
       "      <th>tipo</th>\n",
       "      <th>date_file</th>\n",
       "      <th colspan=\"2\" halign=\"left\">sum</th>\n",
       "      <th colspan=\"2\" halign=\"left\">len</th>\n",
       "    </tr>\n",
       "    <tr>\n",
       "      <th></th>\n",
       "      <th></th>\n",
       "      <th></th>\n",
       "      <th colspan=\"2\" halign=\"left\">total_due</th>\n",
       "      <th colspan=\"2\" halign=\"left\">total_due</th>\n",
       "    </tr>\n",
       "    <tr>\n",
       "      <th>type</th>\n",
       "      <th></th>\n",
       "      <th></th>\n",
       "      <th>LEDGER_FP</th>\n",
       "      <th>All</th>\n",
       "      <th>LEDGER_FP</th>\n",
       "      <th>All</th>\n",
       "    </tr>\n",
       "  </thead>\n",
       "  <tbody>\n",
       "    <tr>\n",
       "      <th>0</th>\n",
       "      <td>Pago del día</td>\n",
       "      <td>2023-12-01 00:00:00</td>\n",
       "      <td>406.46</td>\n",
       "      <td>406.46</td>\n",
       "      <td>2</td>\n",
       "      <td>2</td>\n",
       "    </tr>\n",
       "    <tr>\n",
       "      <th>1</th>\n",
       "      <td>Pago del día</td>\n",
       "      <td>2023-12-02 00:00:00</td>\n",
       "      <td>80,536.74</td>\n",
       "      <td>80,536.74</td>\n",
       "      <td>21</td>\n",
       "      <td>21</td>\n",
       "    </tr>\n",
       "    <tr>\n",
       "      <th>2</th>\n",
       "      <td>Pago del día</td>\n",
       "      <td>2023-12-03 00:00:00</td>\n",
       "      <td>111,900.23</td>\n",
       "      <td>111,900.23</td>\n",
       "      <td>21</td>\n",
       "      <td>21</td>\n",
       "    </tr>\n",
       "    <tr>\n",
       "      <th>3</th>\n",
       "      <td>Pago del día</td>\n",
       "      <td>2023-12-04 00:00:00</td>\n",
       "      <td>6,782.38</td>\n",
       "      <td>6,782.38</td>\n",
       "      <td>3</td>\n",
       "      <td>3</td>\n",
       "    </tr>\n",
       "    <tr>\n",
       "      <th>4</th>\n",
       "      <td>Pago del día</td>\n",
       "      <td>2023-12-05 00:00:00</td>\n",
       "      <td>6,106.86</td>\n",
       "      <td>6,106.86</td>\n",
       "      <td>4</td>\n",
       "      <td>4</td>\n",
       "    </tr>\n",
       "  </tbody>\n",
       "</table>\n",
       "</div>"
      ],
      "text/plain": [
       "              tipo            date_file        sum                  len    \n",
       "                                         total_due            total_due    \n",
       "type                                     LEDGER_FP        All LEDGER_FP All\n",
       "0     Pago del día  2023-12-01 00:00:00     406.46     406.46         2   2\n",
       "1     Pago del día  2023-12-02 00:00:00  80,536.74  80,536.74        21  21\n",
       "2     Pago del día  2023-12-03 00:00:00 111,900.23 111,900.23        21  21\n",
       "3     Pago del día  2023-12-04 00:00:00   6,782.38   6,782.38         3   3\n",
       "4     Pago del día  2023-12-05 00:00:00   6,106.86   6,106.86         4   4"
      ]
     },
     "execution_count": 27,
     "metadata": {},
     "output_type": "execute_result"
    }
   ],
   "source": [
    "pivot_duplicates_fp = pd.pivot_table(duplicates_fp,index=['tipo','date_file'],\n",
    "                                     columns=['type'],\n",
    "                                  values=['total_due']\n",
    "                                  ,aggfunc = ['sum', len],margins=True)\n",
    "pivot_duplicates_fp.reset_index(drop=False, inplace=True)\n",
    "pivot_duplicates_fp.head()"
   ]
  },
  {
   "cell_type": "code",
   "execution_count": 28,
   "metadata": {},
   "outputs": [
    {
     "data": {
      "text/plain": [
       "(46, 6)"
      ]
     },
     "execution_count": 28,
     "metadata": {},
     "output_type": "execute_result"
    }
   ],
   "source": [
    "pivot_duplicates_fp.shape"
   ]
  },
  {
   "cell_type": "code",
   "execution_count": 29,
   "metadata": {},
   "outputs": [],
   "source": [
    "# pivot_duplicates_fp.to_excel('DUPLICADOS FP JUNIO 2021.xlsx',index=True)"
   ]
  },
  {
   "cell_type": "markdown",
   "metadata": {},
   "source": [
    "#### ALL PAGOS"
   ]
  },
  {
   "cell_type": "code",
   "execution_count": 30,
   "metadata": {},
   "outputs": [
    {
     "data": {
      "text/html": [
       "<div>\n",
       "<style scoped>\n",
       "    .dataframe tbody tr th:only-of-type {\n",
       "        vertical-align: middle;\n",
       "    }\n",
       "\n",
       "    .dataframe tbody tr th {\n",
       "        vertical-align: top;\n",
       "    }\n",
       "\n",
       "    .dataframe thead th {\n",
       "        text-align: right;\n",
       "    }\n",
       "</style>\n",
       "<table border=\"1\" class=\"dataframe\">\n",
       "  <thead>\n",
       "    <tr style=\"text-align: right;\">\n",
       "      <th></th>\n",
       "      <th>type</th>\n",
       "      <th>merchant_id</th>\n",
       "      <th>merchant_name</th>\n",
       "      <th>user_email</th>\n",
       "      <th>report_id</th>\n",
       "      <th>report_date_local</th>\n",
       "      <th>total_due</th>\n",
       "      <th>tipo</th>\n",
       "      <th>bank</th>\n",
       "      <th>bank_account_owner_name</th>\n",
       "      <th>CLABE</th>\n",
       "      <th>status</th>\n",
       "      <th>LINEA CEP</th>\n",
       "      <th>Batch_time</th>\n",
       "      <th>Banco_emisor</th>\n",
       "      <th>file_name</th>\n",
       "      <th>date_file</th>\n",
       "      <th>swap</th>\n",
       "    </tr>\n",
       "  </thead>\n",
       "  <tbody>\n",
       "    <tr>\n",
       "      <th>0</th>\n",
       "      <td>LEDGER_TRAD</td>\n",
       "      <td>0123ce92-b626-43a6-8900-c144eb979883</td>\n",
       "      <td>NaN</td>\n",
       "      <td>NaN</td>\n",
       "      <td>A6294Z6NF</td>\n",
       "      <td>2023-12-01</td>\n",
       "      <td>233.82</td>\n",
       "      <td>Pago del día</td>\n",
       "      <td>AFIRME</td>\n",
       "      <td>Enrique Valenzuela Moreno</td>\n",
       "      <td>62320163110132313</td>\n",
       "      <td>ERROR</td>\n",
       "      <td>NaN</td>\n",
       "      <td>01. First_batch</td>\n",
       "      <td>SANTANDER</td>\n",
       "      <td>Dispersión-20231201.xlsx</td>\n",
       "      <td>2023-12-01</td>\n",
       "      <td>NaN</td>\n",
       "    </tr>\n",
       "    <tr>\n",
       "      <th>76373</th>\n",
       "      <td>LEDGER_TRAD</td>\n",
       "      <td>ab714c20-8f6b-4987-8a18-728a37cf6f8d</td>\n",
       "      <td>NaN</td>\n",
       "      <td>NaN</td>\n",
       "      <td>A7FXCRHWD</td>\n",
       "      <td>2023-12-01</td>\n",
       "      <td>958.24</td>\n",
       "      <td>Pago del día</td>\n",
       "      <td>BANCOPPEL</td>\n",
       "      <td>Carlos Armando Mandujano Estrada</td>\n",
       "      <td>137320104112623031</td>\n",
       "      <td>PAID</td>\n",
       "      <td>2023-12-01,20231201400140HDH0001430023110,4001...</td>\n",
       "      <td>01. First_batch</td>\n",
       "      <td>SANTANDER</td>\n",
       "      <td>Dispersión-20231201.xlsx</td>\n",
       "      <td>2023-12-01</td>\n",
       "      <td>NaN</td>\n",
       "    </tr>\n",
       "    <tr>\n",
       "      <th>76372</th>\n",
       "      <td>LEDGER_TRAD</td>\n",
       "      <td>ab71293b-eebb-429a-9299-e394fc59627a</td>\n",
       "      <td>NaN</td>\n",
       "      <td>NaN</td>\n",
       "      <td>APQYNTKGK</td>\n",
       "      <td>2023-12-01</td>\n",
       "      <td>91.99</td>\n",
       "      <td>Pago del día</td>\n",
       "      <td>BBVA BANCOMER</td>\n",
       "      <td>Esthela Martinez</td>\n",
       "      <td>12420015551093174</td>\n",
       "      <td>PAID</td>\n",
       "      <td>2023-12-01,20231201400140HDH0001430023000,4001...</td>\n",
       "      <td>01. First_batch</td>\n",
       "      <td>SANTANDER</td>\n",
       "      <td>Dispersión-20231201.xlsx</td>\n",
       "      <td>2023-12-01</td>\n",
       "      <td>NaN</td>\n",
       "    </tr>\n",
       "    <tr>\n",
       "      <th>76371</th>\n",
       "      <td>LEDGER_TRAD</td>\n",
       "      <td>ab70e31a-f5fb-4d8a-96f9-dd60a1962824</td>\n",
       "      <td>NaN</td>\n",
       "      <td>NaN</td>\n",
       "      <td>AX4CDBZ58</td>\n",
       "      <td>2023-12-01</td>\n",
       "      <td>306.64</td>\n",
       "      <td>Pago del día</td>\n",
       "      <td>BBVA BANCOMER</td>\n",
       "      <td>Javier Diaz Flores</td>\n",
       "      <td>12720011474709168</td>\n",
       "      <td>PAID</td>\n",
       "      <td>2023-12-01,20231201400140HDH0001430022940,4001...</td>\n",
       "      <td>01. First_batch</td>\n",
       "      <td>SANTANDER</td>\n",
       "      <td>Dispersión-20231201.xlsx</td>\n",
       "      <td>2023-12-01</td>\n",
       "      <td>NaN</td>\n",
       "    </tr>\n",
       "    <tr>\n",
       "      <th>76370</th>\n",
       "      <td>LEDGER_TRAD</td>\n",
       "      <td>ab70bb3f-158e-4514-99b0-c4bdd2ad83b0</td>\n",
       "      <td>NaN</td>\n",
       "      <td>NaN</td>\n",
       "      <td>A72L9YVFF</td>\n",
       "      <td>2023-12-01</td>\n",
       "      <td>2,462.68</td>\n",
       "      <td>Pago del día</td>\n",
       "      <td>BANCOPPEL</td>\n",
       "      <td>Cipriano Mendoza Cruz</td>\n",
       "      <td>137610103560408519</td>\n",
       "      <td>PAID</td>\n",
       "      <td>2023-12-01,20231201400140HDH0001430022850,4001...</td>\n",
       "      <td>01. First_batch</td>\n",
       "      <td>SANTANDER</td>\n",
       "      <td>Dispersión-20231201.xlsx</td>\n",
       "      <td>2023-12-01</td>\n",
       "      <td>NaN</td>\n",
       "    </tr>\n",
       "  </tbody>\n",
       "</table>\n",
       "</div>"
      ],
      "text/plain": [
       "              type                           merchant_id merchant_name  \\\n",
       "0      LEDGER_TRAD  0123ce92-b626-43a6-8900-c144eb979883           NaN   \n",
       "76373  LEDGER_TRAD  ab714c20-8f6b-4987-8a18-728a37cf6f8d           NaN   \n",
       "76372  LEDGER_TRAD  ab71293b-eebb-429a-9299-e394fc59627a           NaN   \n",
       "76371  LEDGER_TRAD  ab70e31a-f5fb-4d8a-96f9-dd60a1962824           NaN   \n",
       "76370  LEDGER_TRAD  ab70bb3f-158e-4514-99b0-c4bdd2ad83b0           NaN   \n",
       "\n",
       "      user_email  report_id report_date_local  total_due          tipo  \\\n",
       "0            NaN  A6294Z6NF        2023-12-01     233.82  Pago del día   \n",
       "76373        NaN  A7FXCRHWD        2023-12-01     958.24  Pago del día   \n",
       "76372        NaN  APQYNTKGK        2023-12-01      91.99  Pago del día   \n",
       "76371        NaN  AX4CDBZ58        2023-12-01     306.64  Pago del día   \n",
       "76370        NaN  A72L9YVFF        2023-12-01   2,462.68  Pago del día   \n",
       "\n",
       "                bank           bank_account_owner_name               CLABE  \\\n",
       "0             AFIRME        Enrique Valenzuela Moreno    62320163110132313   \n",
       "76373      BANCOPPEL  Carlos Armando Mandujano Estrada  137320104112623031   \n",
       "76372  BBVA BANCOMER                  Esthela Martinez   12420015551093174   \n",
       "76371  BBVA BANCOMER                Javier Diaz Flores   12720011474709168   \n",
       "76370      BANCOPPEL             Cipriano Mendoza Cruz  137610103560408519   \n",
       "\n",
       "      status                                          LINEA CEP  \\\n",
       "0      ERROR                                                NaN   \n",
       "76373   PAID  2023-12-01,20231201400140HDH0001430023110,4001...   \n",
       "76372   PAID  2023-12-01,20231201400140HDH0001430023000,4001...   \n",
       "76371   PAID  2023-12-01,20231201400140HDH0001430022940,4001...   \n",
       "76370   PAID  2023-12-01,20231201400140HDH0001430022850,4001...   \n",
       "\n",
       "            Batch_time Banco_emisor                 file_name  date_file swap  \n",
       "0      01. First_batch    SANTANDER  Dispersión-20231201.xlsx 2023-12-01  NaN  \n",
       "76373  01. First_batch    SANTANDER  Dispersión-20231201.xlsx 2023-12-01  NaN  \n",
       "76372  01. First_batch    SANTANDER  Dispersión-20231201.xlsx 2023-12-01  NaN  \n",
       "76371  01. First_batch    SANTANDER  Dispersión-20231201.xlsx 2023-12-01  NaN  \n",
       "76370  01. First_batch    SANTANDER  Dispersión-20231201.xlsx 2023-12-01  NaN  "
      ]
     },
     "execution_count": 30,
     "metadata": {},
     "output_type": "execute_result"
    }
   ],
   "source": [
    "allpagos = pd.concat([pagos_1,pagos_2])\n",
    "allpagos.head()"
   ]
  },
  {
   "cell_type": "code",
   "execution_count": 31,
   "metadata": {},
   "outputs": [
    {
     "data": {
      "text/plain": [
       "(3292537, 18)"
      ]
     },
     "execution_count": 31,
     "metadata": {},
     "output_type": "execute_result"
    }
   ],
   "source": [
    "allpagos.shape"
   ]
  },
  {
   "cell_type": "code",
   "execution_count": 32,
   "metadata": {},
   "outputs": [
    {
     "data": {
      "text/plain": [
       "array(['Pago del día', 'Reprogramación'], dtype=object)"
      ]
     },
     "execution_count": 32,
     "metadata": {},
     "output_type": "execute_result"
    }
   ],
   "source": [
    "allpagos['tipo'].unique()"
   ]
  },
  {
   "cell_type": "code",
   "execution_count": 33,
   "metadata": {},
   "outputs": [
    {
     "name": "stderr",
     "output_type": "stream",
     "text": [
      "C:\\Users\\Cristian.Aparicio\\AppData\\Local\\Temp\\ipykernel_23404\\3072073980.py:1: FutureWarning: The provided callable <built-in function sum> is currently using SeriesGroupBy.sum. In a future version of pandas, the provided callable will be used directly. To keep current behavior pass the string \"sum\" instead.\n",
      "  group_allpagos = allpagos.groupby(['date_file']).agg({'total_due':sum,'report_id':'count'}).reset_index()\n"
     ]
    },
    {
     "data": {
      "text/html": [
       "<div>\n",
       "<style scoped>\n",
       "    .dataframe tbody tr th:only-of-type {\n",
       "        vertical-align: middle;\n",
       "    }\n",
       "\n",
       "    .dataframe tbody tr th {\n",
       "        vertical-align: top;\n",
       "    }\n",
       "\n",
       "    .dataframe thead th {\n",
       "        text-align: right;\n",
       "    }\n",
       "</style>\n",
       "<table border=\"1\" class=\"dataframe\">\n",
       "  <thead>\n",
       "    <tr style=\"text-align: right;\">\n",
       "      <th></th>\n",
       "      <th>date_file</th>\n",
       "      <th>total_due</th>\n",
       "      <th>report_id</th>\n",
       "    </tr>\n",
       "  </thead>\n",
       "  <tbody>\n",
       "    <tr>\n",
       "      <th>0</th>\n",
       "      <td>2023-12-01</td>\n",
       "      <td>285,415,114.92</td>\n",
       "      <td>118490</td>\n",
       "    </tr>\n",
       "    <tr>\n",
       "      <th>1</th>\n",
       "      <td>2023-12-02</td>\n",
       "      <td>303,149,485.89</td>\n",
       "      <td>122518</td>\n",
       "    </tr>\n",
       "    <tr>\n",
       "      <th>2</th>\n",
       "      <td>2023-12-03</td>\n",
       "      <td>319,456,101.30</td>\n",
       "      <td>119380</td>\n",
       "    </tr>\n",
       "    <tr>\n",
       "      <th>3</th>\n",
       "      <td>2023-12-04</td>\n",
       "      <td>229,004,765.97</td>\n",
       "      <td>86347</td>\n",
       "    </tr>\n",
       "    <tr>\n",
       "      <th>4</th>\n",
       "      <td>2023-12-05</td>\n",
       "      <td>230,836,818.64</td>\n",
       "      <td>104103</td>\n",
       "    </tr>\n",
       "  </tbody>\n",
       "</table>\n",
       "</div>"
      ],
      "text/plain": [
       "   date_file      total_due  report_id\n",
       "0 2023-12-01 285,415,114.92     118490\n",
       "1 2023-12-02 303,149,485.89     122518\n",
       "2 2023-12-03 319,456,101.30     119380\n",
       "3 2023-12-04 229,004,765.97      86347\n",
       "4 2023-12-05 230,836,818.64     104103"
      ]
     },
     "execution_count": 33,
     "metadata": {},
     "output_type": "execute_result"
    }
   ],
   "source": [
    "group_allpagos = allpagos.groupby(['date_file']).agg({'total_due':sum,'report_id':'count'}).reset_index()\n",
    "group_allpagos.head()"
   ]
  },
  {
   "cell_type": "code",
   "execution_count": 34,
   "metadata": {},
   "outputs": [
    {
     "data": {
      "text/plain": [
       "(31, 3)"
      ]
     },
     "execution_count": 34,
     "metadata": {},
     "output_type": "execute_result"
    }
   ],
   "source": [
    "group_allpagos.shape"
   ]
  },
  {
   "cell_type": "markdown",
   "metadata": {},
   "source": [
    "#### PAGOS DEL DIA"
   ]
  },
  {
   "cell_type": "code",
   "execution_count": 35,
   "metadata": {},
   "outputs": [
    {
     "data": {
      "text/html": [
       "<div>\n",
       "<style scoped>\n",
       "    .dataframe tbody tr th:only-of-type {\n",
       "        vertical-align: middle;\n",
       "    }\n",
       "\n",
       "    .dataframe tbody tr th {\n",
       "        vertical-align: top;\n",
       "    }\n",
       "\n",
       "    .dataframe thead th {\n",
       "        text-align: right;\n",
       "    }\n",
       "</style>\n",
       "<table border=\"1\" class=\"dataframe\">\n",
       "  <thead>\n",
       "    <tr style=\"text-align: right;\">\n",
       "      <th></th>\n",
       "      <th>type</th>\n",
       "      <th>merchant_id</th>\n",
       "      <th>merchant_name</th>\n",
       "      <th>user_email</th>\n",
       "      <th>report_id</th>\n",
       "      <th>report_date_local</th>\n",
       "      <th>total_due</th>\n",
       "      <th>tipo</th>\n",
       "      <th>bank</th>\n",
       "      <th>bank_account_owner_name</th>\n",
       "      <th>CLABE</th>\n",
       "      <th>status</th>\n",
       "      <th>LINEA CEP</th>\n",
       "      <th>Batch_time</th>\n",
       "      <th>Banco_emisor</th>\n",
       "      <th>file_name</th>\n",
       "      <th>date_file</th>\n",
       "      <th>swap</th>\n",
       "    </tr>\n",
       "  </thead>\n",
       "  <tbody>\n",
       "    <tr>\n",
       "      <th>0</th>\n",
       "      <td>LEDGER_TRAD</td>\n",
       "      <td>0123ce92-b626-43a6-8900-c144eb979883</td>\n",
       "      <td>NaN</td>\n",
       "      <td>NaN</td>\n",
       "      <td>A6294Z6NF</td>\n",
       "      <td>2023-12-01</td>\n",
       "      <td>233.82</td>\n",
       "      <td>Pago del día</td>\n",
       "      <td>AFIRME</td>\n",
       "      <td>Enrique Valenzuela Moreno</td>\n",
       "      <td>62320163110132313</td>\n",
       "      <td>ERROR</td>\n",
       "      <td>NaN</td>\n",
       "      <td>01. First_batch</td>\n",
       "      <td>SANTANDER</td>\n",
       "      <td>Dispersión-20231201.xlsx</td>\n",
       "      <td>2023-12-01</td>\n",
       "      <td>NaN</td>\n",
       "    </tr>\n",
       "    <tr>\n",
       "      <th>76373</th>\n",
       "      <td>LEDGER_TRAD</td>\n",
       "      <td>ab714c20-8f6b-4987-8a18-728a37cf6f8d</td>\n",
       "      <td>NaN</td>\n",
       "      <td>NaN</td>\n",
       "      <td>A7FXCRHWD</td>\n",
       "      <td>2023-12-01</td>\n",
       "      <td>958.24</td>\n",
       "      <td>Pago del día</td>\n",
       "      <td>BANCOPPEL</td>\n",
       "      <td>Carlos Armando Mandujano Estrada</td>\n",
       "      <td>137320104112623031</td>\n",
       "      <td>PAID</td>\n",
       "      <td>2023-12-01,20231201400140HDH0001430023110,4001...</td>\n",
       "      <td>01. First_batch</td>\n",
       "      <td>SANTANDER</td>\n",
       "      <td>Dispersión-20231201.xlsx</td>\n",
       "      <td>2023-12-01</td>\n",
       "      <td>NaN</td>\n",
       "    </tr>\n",
       "    <tr>\n",
       "      <th>76372</th>\n",
       "      <td>LEDGER_TRAD</td>\n",
       "      <td>ab71293b-eebb-429a-9299-e394fc59627a</td>\n",
       "      <td>NaN</td>\n",
       "      <td>NaN</td>\n",
       "      <td>APQYNTKGK</td>\n",
       "      <td>2023-12-01</td>\n",
       "      <td>91.99</td>\n",
       "      <td>Pago del día</td>\n",
       "      <td>BBVA BANCOMER</td>\n",
       "      <td>Esthela Martinez</td>\n",
       "      <td>12420015551093174</td>\n",
       "      <td>PAID</td>\n",
       "      <td>2023-12-01,20231201400140HDH0001430023000,4001...</td>\n",
       "      <td>01. First_batch</td>\n",
       "      <td>SANTANDER</td>\n",
       "      <td>Dispersión-20231201.xlsx</td>\n",
       "      <td>2023-12-01</td>\n",
       "      <td>NaN</td>\n",
       "    </tr>\n",
       "    <tr>\n",
       "      <th>76371</th>\n",
       "      <td>LEDGER_TRAD</td>\n",
       "      <td>ab70e31a-f5fb-4d8a-96f9-dd60a1962824</td>\n",
       "      <td>NaN</td>\n",
       "      <td>NaN</td>\n",
       "      <td>AX4CDBZ58</td>\n",
       "      <td>2023-12-01</td>\n",
       "      <td>306.64</td>\n",
       "      <td>Pago del día</td>\n",
       "      <td>BBVA BANCOMER</td>\n",
       "      <td>Javier Diaz Flores</td>\n",
       "      <td>12720011474709168</td>\n",
       "      <td>PAID</td>\n",
       "      <td>2023-12-01,20231201400140HDH0001430022940,4001...</td>\n",
       "      <td>01. First_batch</td>\n",
       "      <td>SANTANDER</td>\n",
       "      <td>Dispersión-20231201.xlsx</td>\n",
       "      <td>2023-12-01</td>\n",
       "      <td>NaN</td>\n",
       "    </tr>\n",
       "    <tr>\n",
       "      <th>76370</th>\n",
       "      <td>LEDGER_TRAD</td>\n",
       "      <td>ab70bb3f-158e-4514-99b0-c4bdd2ad83b0</td>\n",
       "      <td>NaN</td>\n",
       "      <td>NaN</td>\n",
       "      <td>A72L9YVFF</td>\n",
       "      <td>2023-12-01</td>\n",
       "      <td>2,462.68</td>\n",
       "      <td>Pago del día</td>\n",
       "      <td>BANCOPPEL</td>\n",
       "      <td>Cipriano Mendoza Cruz</td>\n",
       "      <td>137610103560408519</td>\n",
       "      <td>PAID</td>\n",
       "      <td>2023-12-01,20231201400140HDH0001430022850,4001...</td>\n",
       "      <td>01. First_batch</td>\n",
       "      <td>SANTANDER</td>\n",
       "      <td>Dispersión-20231201.xlsx</td>\n",
       "      <td>2023-12-01</td>\n",
       "      <td>NaN</td>\n",
       "    </tr>\n",
       "  </tbody>\n",
       "</table>\n",
       "</div>"
      ],
      "text/plain": [
       "              type                           merchant_id merchant_name  \\\n",
       "0      LEDGER_TRAD  0123ce92-b626-43a6-8900-c144eb979883           NaN   \n",
       "76373  LEDGER_TRAD  ab714c20-8f6b-4987-8a18-728a37cf6f8d           NaN   \n",
       "76372  LEDGER_TRAD  ab71293b-eebb-429a-9299-e394fc59627a           NaN   \n",
       "76371  LEDGER_TRAD  ab70e31a-f5fb-4d8a-96f9-dd60a1962824           NaN   \n",
       "76370  LEDGER_TRAD  ab70bb3f-158e-4514-99b0-c4bdd2ad83b0           NaN   \n",
       "\n",
       "      user_email  report_id report_date_local  total_due          tipo  \\\n",
       "0            NaN  A6294Z6NF        2023-12-01     233.82  Pago del día   \n",
       "76373        NaN  A7FXCRHWD        2023-12-01     958.24  Pago del día   \n",
       "76372        NaN  APQYNTKGK        2023-12-01      91.99  Pago del día   \n",
       "76371        NaN  AX4CDBZ58        2023-12-01     306.64  Pago del día   \n",
       "76370        NaN  A72L9YVFF        2023-12-01   2,462.68  Pago del día   \n",
       "\n",
       "                bank           bank_account_owner_name               CLABE  \\\n",
       "0             AFIRME        Enrique Valenzuela Moreno    62320163110132313   \n",
       "76373      BANCOPPEL  Carlos Armando Mandujano Estrada  137320104112623031   \n",
       "76372  BBVA BANCOMER                  Esthela Martinez   12420015551093174   \n",
       "76371  BBVA BANCOMER                Javier Diaz Flores   12720011474709168   \n",
       "76370      BANCOPPEL             Cipriano Mendoza Cruz  137610103560408519   \n",
       "\n",
       "      status                                          LINEA CEP  \\\n",
       "0      ERROR                                                NaN   \n",
       "76373   PAID  2023-12-01,20231201400140HDH0001430023110,4001...   \n",
       "76372   PAID  2023-12-01,20231201400140HDH0001430023000,4001...   \n",
       "76371   PAID  2023-12-01,20231201400140HDH0001430022940,4001...   \n",
       "76370   PAID  2023-12-01,20231201400140HDH0001430022850,4001...   \n",
       "\n",
       "            Batch_time Banco_emisor                 file_name  date_file swap  \n",
       "0      01. First_batch    SANTANDER  Dispersión-20231201.xlsx 2023-12-01  NaN  \n",
       "76373  01. First_batch    SANTANDER  Dispersión-20231201.xlsx 2023-12-01  NaN  \n",
       "76372  01. First_batch    SANTANDER  Dispersión-20231201.xlsx 2023-12-01  NaN  \n",
       "76371  01. First_batch    SANTANDER  Dispersión-20231201.xlsx 2023-12-01  NaN  \n",
       "76370  01. First_batch    SANTANDER  Dispersión-20231201.xlsx 2023-12-01  NaN  "
      ]
     },
     "execution_count": 35,
     "metadata": {},
     "output_type": "execute_result"
    }
   ],
   "source": [
    "pagosdia = allpagos[(allpagos['tipo'].isin(['Pago del día']))]\n",
    "pagosdia.head()"
   ]
  },
  {
   "cell_type": "code",
   "execution_count": 36,
   "metadata": {},
   "outputs": [
    {
     "data": {
      "text/plain": [
       "(3277069, 18)"
      ]
     },
     "execution_count": 36,
     "metadata": {},
     "output_type": "execute_result"
    }
   ],
   "source": [
    "pagosdia.shape"
   ]
  },
  {
   "cell_type": "code",
   "execution_count": 37,
   "metadata": {},
   "outputs": [
    {
     "name": "stderr",
     "output_type": "stream",
     "text": [
      "C:\\Users\\Cristian.Aparicio\\AppData\\Local\\Temp\\ipykernel_23404\\1000930482.py:1: FutureWarning: The provided callable <built-in function sum> is currently using SeriesGroupBy.sum. In a future version of pandas, the provided callable will be used directly. To keep current behavior pass the string \"sum\" instead.\n",
      "  group_dia = pagosdia.groupby(['date_file']).agg({'total_due':sum,'report_id':'count'}).reset_index()\n"
     ]
    },
    {
     "data": {
      "text/html": [
       "<div>\n",
       "<style scoped>\n",
       "    .dataframe tbody tr th:only-of-type {\n",
       "        vertical-align: middle;\n",
       "    }\n",
       "\n",
       "    .dataframe tbody tr th {\n",
       "        vertical-align: top;\n",
       "    }\n",
       "\n",
       "    .dataframe thead th {\n",
       "        text-align: right;\n",
       "    }\n",
       "</style>\n",
       "<table border=\"1\" class=\"dataframe\">\n",
       "  <thead>\n",
       "    <tr style=\"text-align: right;\">\n",
       "      <th></th>\n",
       "      <th>date_file</th>\n",
       "      <th>total_due</th>\n",
       "      <th>report_id</th>\n",
       "    </tr>\n",
       "  </thead>\n",
       "  <tbody>\n",
       "    <tr>\n",
       "      <th>0</th>\n",
       "      <td>2023-12-01</td>\n",
       "      <td>281,873,858.06</td>\n",
       "      <td>116642</td>\n",
       "    </tr>\n",
       "    <tr>\n",
       "      <th>1</th>\n",
       "      <td>2023-12-02</td>\n",
       "      <td>301,242,732.14</td>\n",
       "      <td>121635</td>\n",
       "    </tr>\n",
       "    <tr>\n",
       "      <th>2</th>\n",
       "      <td>2023-12-03</td>\n",
       "      <td>318,864,809.41</td>\n",
       "      <td>118997</td>\n",
       "    </tr>\n",
       "    <tr>\n",
       "      <th>3</th>\n",
       "      <td>2023-12-04</td>\n",
       "      <td>227,985,715.28</td>\n",
       "      <td>85689</td>\n",
       "    </tr>\n",
       "    <tr>\n",
       "      <th>4</th>\n",
       "      <td>2023-12-05</td>\n",
       "      <td>229,541,869.34</td>\n",
       "      <td>103492</td>\n",
       "    </tr>\n",
       "  </tbody>\n",
       "</table>\n",
       "</div>"
      ],
      "text/plain": [
       "   date_file      total_due  report_id\n",
       "0 2023-12-01 281,873,858.06     116642\n",
       "1 2023-12-02 301,242,732.14     121635\n",
       "2 2023-12-03 318,864,809.41     118997\n",
       "3 2023-12-04 227,985,715.28      85689\n",
       "4 2023-12-05 229,541,869.34     103492"
      ]
     },
     "execution_count": 37,
     "metadata": {},
     "output_type": "execute_result"
    }
   ],
   "source": [
    "group_dia = pagosdia.groupby(['date_file']).agg({'total_due':sum,'report_id':'count'}).reset_index()\n",
    "group_dia.head()"
   ]
  },
  {
   "cell_type": "code",
   "execution_count": 38,
   "metadata": {},
   "outputs": [
    {
     "data": {
      "text/plain": [
       "(31, 3)"
      ]
     },
     "execution_count": 38,
     "metadata": {},
     "output_type": "execute_result"
    }
   ],
   "source": [
    "group_dia.shape"
   ]
  },
  {
   "cell_type": "markdown",
   "metadata": {},
   "source": [
    "# PRIMER MATCH (SETTLED VS PAGOS DEL DIA)"
   ]
  },
  {
   "cell_type": "code",
   "execution_count": 39,
   "metadata": {},
   "outputs": [
    {
     "data": {
      "text/html": [
       "<div>\n",
       "<style scoped>\n",
       "    .dataframe tbody tr th:only-of-type {\n",
       "        vertical-align: middle;\n",
       "    }\n",
       "\n",
       "    .dataframe tbody tr th {\n",
       "        vertical-align: top;\n",
       "    }\n",
       "\n",
       "    .dataframe thead th {\n",
       "        text-align: right;\n",
       "    }\n",
       "</style>\n",
       "<table border=\"1\" class=\"dataframe\">\n",
       "  <thead>\n",
       "    <tr style=\"text-align: right;\">\n",
       "      <th></th>\n",
       "      <th>merchant_id</th>\n",
       "      <th>merchant_name</th>\n",
       "      <th>user_email</th>\n",
       "      <th>report_date_local</th>\n",
       "      <th>total_transactions</th>\n",
       "      <th>total_fees_charged</th>\n",
       "      <th>total_taxes</th>\n",
       "      <th>applied_fees_benefits</th>\n",
       "      <th>applied_taxes_benefits</th>\n",
       "      <th>fee_direct_deposit</th>\n",
       "      <th>...</th>\n",
       "      <th>type</th>\n",
       "      <th>created_date</th>\n",
       "      <th>created_time</th>\n",
       "      <th>updated_date</th>\n",
       "      <th>updated_time</th>\n",
       "      <th>file_name_x</th>\n",
       "      <th>report_id</th>\n",
       "      <th>total_due_y</th>\n",
       "      <th>tipo</th>\n",
       "      <th>file_name_y</th>\n",
       "    </tr>\n",
       "  </thead>\n",
       "  <tbody>\n",
       "  </tbody>\n",
       "</table>\n",
       "<p>0 rows × 29 columns</p>\n",
       "</div>"
      ],
      "text/plain": [
       "Empty DataFrame\n",
       "Columns: [merchant_id, merchant_name, user_email, report_date_local, total_transactions, total_fees_charged, total_taxes, applied_fees_benefits, applied_taxes_benefits, fee_direct_deposit, taxes_direct_deposit, total_adjustments, total_adjustment_fees_charged, total_adjustment_taxes, cobranza, total_released, total_retained, tipopago, total_due_x, type, created_date, created_time, updated_date, updated_time, file_name_x, report_id, total_due_y, tipo, file_name_y]\n",
       "Index: []\n",
       "\n",
       "[0 rows x 29 columns]"
      ]
     },
     "execution_count": 39,
     "metadata": {},
     "output_type": "execute_result"
    }
   ],
   "source": [
    "check_1 = cum_1.merge(pagosdia[['report_id','total_due','tipo','file_name']] ,on='report_id', how='left')\n",
    "check_1['total_due_y'].fillna('NO ENCONTRADO')\n",
    "check_1['tipo'].fillna('NO ENCONTRADO',inplace=True)\n",
    "check_1['file_name_y'].fillna('NO ENCONTRADO',inplace=True)\n",
    "# check_1.fillna({'total_due_y':'NO ENCONTRADO', 'tipo':'NO ENCONTRADO', 'file_name_y':'NO ENCONTRADO'}, inplace=True)\n",
    "check_1.head()"
   ]
  },
  {
   "cell_type": "code",
   "execution_count": 40,
   "metadata": {},
   "outputs": [
    {
     "data": {
      "text/plain": [
       "array([], dtype=object)"
      ]
     },
     "execution_count": 40,
     "metadata": {},
     "output_type": "execute_result"
    }
   ],
   "source": [
    "check_1['file_name_y'].unique()"
   ]
  },
  {
   "cell_type": "code",
   "execution_count": 41,
   "metadata": {},
   "outputs": [
    {
     "data": {
      "text/html": [
       "<div>\n",
       "<style scoped>\n",
       "    .dataframe tbody tr th:only-of-type {\n",
       "        vertical-align: middle;\n",
       "    }\n",
       "\n",
       "    .dataframe tbody tr th {\n",
       "        vertical-align: top;\n",
       "    }\n",
       "\n",
       "    .dataframe thead th {\n",
       "        text-align: right;\n",
       "    }\n",
       "</style>\n",
       "<table border=\"1\" class=\"dataframe\">\n",
       "  <thead>\n",
       "    <tr style=\"text-align: right;\">\n",
       "      <th></th>\n",
       "      <th>merchant_id</th>\n",
       "      <th>merchant_name</th>\n",
       "      <th>user_email</th>\n",
       "      <th>report_date_local</th>\n",
       "      <th>total_transactions</th>\n",
       "      <th>total_fees_charged</th>\n",
       "      <th>total_taxes</th>\n",
       "      <th>applied_fees_benefits</th>\n",
       "      <th>applied_taxes_benefits</th>\n",
       "      <th>fee_direct_deposit</th>\n",
       "      <th>...</th>\n",
       "      <th>type</th>\n",
       "      <th>created_date</th>\n",
       "      <th>created_time</th>\n",
       "      <th>updated_date</th>\n",
       "      <th>updated_time</th>\n",
       "      <th>file_name_x</th>\n",
       "      <th>report_id</th>\n",
       "      <th>total_due_y</th>\n",
       "      <th>tipo</th>\n",
       "      <th>file_name_y</th>\n",
       "    </tr>\n",
       "  </thead>\n",
       "  <tbody>\n",
       "  </tbody>\n",
       "</table>\n",
       "<p>0 rows × 29 columns</p>\n",
       "</div>"
      ],
      "text/plain": [
       "Empty DataFrame\n",
       "Columns: [merchant_id, merchant_name, user_email, report_date_local, total_transactions, total_fees_charged, total_taxes, applied_fees_benefits, applied_taxes_benefits, fee_direct_deposit, taxes_direct_deposit, total_adjustments, total_adjustment_fees_charged, total_adjustment_taxes, cobranza, total_released, total_retained, tipopago, total_due_x, type, created_date, created_time, updated_date, updated_time, file_name_x, report_id, total_due_y, tipo, file_name_y]\n",
       "Index: []\n",
       "\n",
       "[0 rows x 29 columns]"
      ]
     },
     "execution_count": 41,
     "metadata": {},
     "output_type": "execute_result"
    }
   ],
   "source": [
    "not_found_1 = check_1[((check_1['file_name_y'].isnull()) | (check_1['file_name_y'].isin(['NO ENCONTRADO'])))\n",
    "                        & (check_1['total_due_x'] != 0)]\n",
    "not_found_1.head()"
   ]
  },
  {
   "cell_type": "code",
   "execution_count": 42,
   "metadata": {},
   "outputs": [
    {
     "data": {
      "text/plain": [
       "(0, 29)"
      ]
     },
     "execution_count": 42,
     "metadata": {},
     "output_type": "execute_result"
    }
   ],
   "source": [
    "not_found_1.shape"
   ]
  },
  {
   "cell_type": "code",
   "execution_count": 43,
   "metadata": {},
   "outputs": [
    {
     "name": "stderr",
     "output_type": "stream",
     "text": [
      "C:\\Users\\Cristian.Aparicio\\AppData\\Local\\Temp\\ipykernel_23404\\212403241.py:1: FutureWarning: The provided callable <built-in function sum> is currently using SeriesGroupBy.sum. In a future version of pandas, the provided callable will be used directly. To keep current behavior pass the string \"sum\" instead.\n",
      "  group_notfound = not_found_1.groupby(['report_date_local']).agg({'total_due_x':sum,'report_id':'count'}).reset_index()\n"
     ]
    },
    {
     "data": {
      "text/html": [
       "<div>\n",
       "<style scoped>\n",
       "    .dataframe tbody tr th:only-of-type {\n",
       "        vertical-align: middle;\n",
       "    }\n",
       "\n",
       "    .dataframe tbody tr th {\n",
       "        vertical-align: top;\n",
       "    }\n",
       "\n",
       "    .dataframe thead th {\n",
       "        text-align: right;\n",
       "    }\n",
       "</style>\n",
       "<table border=\"1\" class=\"dataframe\">\n",
       "  <thead>\n",
       "    <tr style=\"text-align: right;\">\n",
       "      <th></th>\n",
       "      <th>date_file</th>\n",
       "      <th>total_due_x</th>\n",
       "      <th>report_id</th>\n",
       "    </tr>\n",
       "  </thead>\n",
       "  <tbody>\n",
       "  </tbody>\n",
       "</table>\n",
       "</div>"
      ],
      "text/plain": [
       "Empty DataFrame\n",
       "Columns: [date_file, total_due_x, report_id]\n",
       "Index: []"
      ]
     },
     "execution_count": 43,
     "metadata": {},
     "output_type": "execute_result"
    }
   ],
   "source": [
    "group_notfound = not_found_1.groupby(['report_date_local']).agg({'total_due_x':sum,'report_id':'count'}).reset_index()\n",
    "group_notfound.rename(columns={'report_date_local':'date_file'},inplace=True)\n",
    "group_notfound.head()"
   ]
  },
  {
   "cell_type": "code",
   "execution_count": 44,
   "metadata": {},
   "outputs": [
    {
     "data": {
      "text/plain": [
       "(0, 3)"
      ]
     },
     "execution_count": 44,
     "metadata": {},
     "output_type": "execute_result"
    }
   ],
   "source": [
    "group_notfound.shape"
   ]
  },
  {
   "cell_type": "markdown",
   "metadata": {},
   "source": [
    "#### REPROGRAMACIONES"
   ]
  },
  {
   "cell_type": "code",
   "execution_count": 45,
   "metadata": {},
   "outputs": [
    {
     "data": {
      "text/html": [
       "<div>\n",
       "<style scoped>\n",
       "    .dataframe tbody tr th:only-of-type {\n",
       "        vertical-align: middle;\n",
       "    }\n",
       "\n",
       "    .dataframe tbody tr th {\n",
       "        vertical-align: top;\n",
       "    }\n",
       "\n",
       "    .dataframe thead th {\n",
       "        text-align: right;\n",
       "    }\n",
       "</style>\n",
       "<table border=\"1\" class=\"dataframe\">\n",
       "  <thead>\n",
       "    <tr style=\"text-align: right;\">\n",
       "      <th></th>\n",
       "      <th>type</th>\n",
       "      <th>merchant_id</th>\n",
       "      <th>merchant_name</th>\n",
       "      <th>user_email</th>\n",
       "      <th>report_id</th>\n",
       "      <th>report_date_local</th>\n",
       "      <th>total_due</th>\n",
       "      <th>tipo</th>\n",
       "      <th>bank</th>\n",
       "      <th>bank_account_owner_name</th>\n",
       "      <th>CLABE</th>\n",
       "      <th>status</th>\n",
       "      <th>LINEA CEP</th>\n",
       "      <th>Batch_time</th>\n",
       "      <th>Banco_emisor</th>\n",
       "      <th>file_name</th>\n",
       "      <th>date_file</th>\n",
       "      <th>swap</th>\n",
       "    </tr>\n",
       "  </thead>\n",
       "  <tbody>\n",
       "    <tr>\n",
       "      <th>76361</th>\n",
       "      <td>LEDGER_TRAD</td>\n",
       "      <td>ab6c6074-681f-433d-8390-6af45fb29a08</td>\n",
       "      <td>NaN</td>\n",
       "      <td>NaN</td>\n",
       "      <td>AR6RK6W6B</td>\n",
       "      <td>2023-11-28</td>\n",
       "      <td>4,051.44</td>\n",
       "      <td>Reprogramación</td>\n",
       "      <td>BANORTE/IXE</td>\n",
       "      <td>Susan Rose Chamberlin</td>\n",
       "      <td>72240010639316147</td>\n",
       "      <td>PAID</td>\n",
       "      <td>2023-12-01,20231201400140HDH0001430022180,4001...</td>\n",
       "      <td>01. First_batch</td>\n",
       "      <td>SANTANDER</td>\n",
       "      <td>Dispersión-20231201.xlsx</td>\n",
       "      <td>2023-12-01</td>\n",
       "      <td>NaN</td>\n",
       "    </tr>\n",
       "    <tr>\n",
       "      <th>76565</th>\n",
       "      <td>DAILY</td>\n",
       "      <td>abdb620d-d861-455a-8092-a1ca1e50e1b8</td>\n",
       "      <td>Bámbola</td>\n",
       "      <td>perso81@hotmail.com</td>\n",
       "      <td>ZMXSQ39F8</td>\n",
       "      <td>2022-10-26</td>\n",
       "      <td>583.56</td>\n",
       "      <td>Reprogramación</td>\n",
       "      <td>HSBC</td>\n",
       "      <td>Paola Patrizia Pane Lammoglia</td>\n",
       "      <td>21180064231586296</td>\n",
       "      <td>PAID</td>\n",
       "      <td>2023-12-01,20231201400140HDH0001430042360,4001...</td>\n",
       "      <td>01. First_batch</td>\n",
       "      <td>SANTANDER</td>\n",
       "      <td>Dispersión-20231201.xlsx</td>\n",
       "      <td>2023-12-01</td>\n",
       "      <td>NaN</td>\n",
       "    </tr>\n",
       "    <tr>\n",
       "      <th>75803</th>\n",
       "      <td>LEDGER_TRAD</td>\n",
       "      <td>aa380039-8921-43e5-9086-58e081f7e2ad</td>\n",
       "      <td>NaN</td>\n",
       "      <td>NaN</td>\n",
       "      <td>A5ZJQVKCX</td>\n",
       "      <td>2023-11-23</td>\n",
       "      <td>9.58</td>\n",
       "      <td>Reprogramación</td>\n",
       "      <td>BANORTE/IXE</td>\n",
       "      <td>Aldo Leonel Sorzano Morales</td>\n",
       "      <td>72949011351573393</td>\n",
       "      <td>PAID</td>\n",
       "      <td>2023-12-01,20231201400140HDH0001429959790,4001...</td>\n",
       "      <td>01. First_batch</td>\n",
       "      <td>SANTANDER</td>\n",
       "      <td>Dispersión-20231201.xlsx</td>\n",
       "      <td>2023-12-01</td>\n",
       "      <td>NaN</td>\n",
       "    </tr>\n",
       "    <tr>\n",
       "      <th>78084</th>\n",
       "      <td>LEDGER_TRAD</td>\n",
       "      <td>af684b65-3b7a-49f7-afa4-f2d609a4de29</td>\n",
       "      <td>NaN</td>\n",
       "      <td>NaN</td>\n",
       "      <td>AJHVD9V62</td>\n",
       "      <td>2023-11-22</td>\n",
       "      <td>1,360.70</td>\n",
       "      <td>Reprogramación</td>\n",
       "      <td>BBVA BANCOMER</td>\n",
       "      <td>Gricelda Garcia De la Mora</td>\n",
       "      <td>12090011946825213</td>\n",
       "      <td>PAID</td>\n",
       "      <td>2023-12-01,20231201400140HDH0001430190420,4001...</td>\n",
       "      <td>01. First_batch</td>\n",
       "      <td>SANTANDER</td>\n",
       "      <td>Dispersión-20231201.xlsx</td>\n",
       "      <td>2023-12-01</td>\n",
       "      <td>NaN</td>\n",
       "    </tr>\n",
       "    <tr>\n",
       "      <th>78302</th>\n",
       "      <td>LEDGER_TRAD</td>\n",
       "      <td>affced4b-dc76-4bae-942c-ec676752e9f9</td>\n",
       "      <td>NaN</td>\n",
       "      <td>NaN</td>\n",
       "      <td>AQFHR49GK</td>\n",
       "      <td>2023-11-30</td>\n",
       "      <td>0.95</td>\n",
       "      <td>Reprogramación</td>\n",
       "      <td>BBVA BANCOMER</td>\n",
       "      <td>Luis Alberto Estrada</td>\n",
       "      <td>12744028889641738</td>\n",
       "      <td>PAID</td>\n",
       "      <td>2023-12-01,20231201400140HDH0001430218850,4001...</td>\n",
       "      <td>01. First_batch</td>\n",
       "      <td>SANTANDER</td>\n",
       "      <td>Dispersión-20231201.xlsx</td>\n",
       "      <td>2023-12-01</td>\n",
       "      <td>NaN</td>\n",
       "    </tr>\n",
       "  </tbody>\n",
       "</table>\n",
       "</div>"
      ],
      "text/plain": [
       "              type                           merchant_id merchant_name  \\\n",
       "76361  LEDGER_TRAD  ab6c6074-681f-433d-8390-6af45fb29a08           NaN   \n",
       "76565        DAILY  abdb620d-d861-455a-8092-a1ca1e50e1b8       Bámbola   \n",
       "75803  LEDGER_TRAD  aa380039-8921-43e5-9086-58e081f7e2ad           NaN   \n",
       "78084  LEDGER_TRAD  af684b65-3b7a-49f7-afa4-f2d609a4de29           NaN   \n",
       "78302  LEDGER_TRAD  affced4b-dc76-4bae-942c-ec676752e9f9           NaN   \n",
       "\n",
       "                user_email  report_id report_date_local  total_due  \\\n",
       "76361                  NaN  AR6RK6W6B        2023-11-28   4,051.44   \n",
       "76565  perso81@hotmail.com  ZMXSQ39F8        2022-10-26     583.56   \n",
       "75803                  NaN  A5ZJQVKCX        2023-11-23       9.58   \n",
       "78084                  NaN  AJHVD9V62        2023-11-22   1,360.70   \n",
       "78302                  NaN  AQFHR49GK        2023-11-30       0.95   \n",
       "\n",
       "                 tipo           bank        bank_account_owner_name  \\\n",
       "76361  Reprogramación    BANORTE/IXE          Susan Rose Chamberlin   \n",
       "76565  Reprogramación           HSBC  Paola Patrizia Pane Lammoglia   \n",
       "75803  Reprogramación    BANORTE/IXE    Aldo Leonel Sorzano Morales   \n",
       "78084  Reprogramación  BBVA BANCOMER     Gricelda Garcia De la Mora   \n",
       "78302  Reprogramación  BBVA BANCOMER           Luis Alberto Estrada   \n",
       "\n",
       "                   CLABE status  \\\n",
       "76361  72240010639316147   PAID   \n",
       "76565  21180064231586296   PAID   \n",
       "75803  72949011351573393   PAID   \n",
       "78084  12090011946825213   PAID   \n",
       "78302  12744028889641738   PAID   \n",
       "\n",
       "                                               LINEA CEP       Batch_time  \\\n",
       "76361  2023-12-01,20231201400140HDH0001430022180,4001...  01. First_batch   \n",
       "76565  2023-12-01,20231201400140HDH0001430042360,4001...  01. First_batch   \n",
       "75803  2023-12-01,20231201400140HDH0001429959790,4001...  01. First_batch   \n",
       "78084  2023-12-01,20231201400140HDH0001430190420,4001...  01. First_batch   \n",
       "78302  2023-12-01,20231201400140HDH0001430218850,4001...  01. First_batch   \n",
       "\n",
       "      Banco_emisor                 file_name  date_file swap  \n",
       "76361    SANTANDER  Dispersión-20231201.xlsx 2023-12-01  NaN  \n",
       "76565    SANTANDER  Dispersión-20231201.xlsx 2023-12-01  NaN  \n",
       "75803    SANTANDER  Dispersión-20231201.xlsx 2023-12-01  NaN  \n",
       "78084    SANTANDER  Dispersión-20231201.xlsx 2023-12-01  NaN  \n",
       "78302    SANTANDER  Dispersión-20231201.xlsx 2023-12-01  NaN  "
      ]
     },
     "execution_count": 45,
     "metadata": {},
     "output_type": "execute_result"
    }
   ],
   "source": [
    "repro = allpagos[(allpagos['tipo'].isin(['Reprogramación']))]\n",
    "repro.head()"
   ]
  },
  {
   "cell_type": "code",
   "execution_count": 46,
   "metadata": {},
   "outputs": [
    {
     "data": {
      "text/plain": [
       "(15468, 18)"
      ]
     },
     "execution_count": 46,
     "metadata": {},
     "output_type": "execute_result"
    }
   ],
   "source": [
    "repro.shape"
   ]
  },
  {
   "cell_type": "code",
   "execution_count": 47,
   "metadata": {},
   "outputs": [
    {
     "name": "stderr",
     "output_type": "stream",
     "text": [
      "C:\\Users\\Cristian.Aparicio\\AppData\\Local\\Temp\\ipykernel_23404\\257574048.py:1: FutureWarning: The provided callable <built-in function sum> is currently using SeriesGroupBy.sum. In a future version of pandas, the provided callable will be used directly. To keep current behavior pass the string \"sum\" instead.\n",
      "  group_repro = repro.groupby(['date_file']).agg({'total_due':sum,'report_id':'count'}).reset_index()\n"
     ]
    },
    {
     "data": {
      "text/html": [
       "<div>\n",
       "<style scoped>\n",
       "    .dataframe tbody tr th:only-of-type {\n",
       "        vertical-align: middle;\n",
       "    }\n",
       "\n",
       "    .dataframe tbody tr th {\n",
       "        vertical-align: top;\n",
       "    }\n",
       "\n",
       "    .dataframe thead th {\n",
       "        text-align: right;\n",
       "    }\n",
       "</style>\n",
       "<table border=\"1\" class=\"dataframe\">\n",
       "  <thead>\n",
       "    <tr style=\"text-align: right;\">\n",
       "      <th></th>\n",
       "      <th>date_file</th>\n",
       "      <th>total_due</th>\n",
       "      <th>report_id</th>\n",
       "    </tr>\n",
       "  </thead>\n",
       "  <tbody>\n",
       "    <tr>\n",
       "      <th>0</th>\n",
       "      <td>2023-12-01</td>\n",
       "      <td>3,541,256.86</td>\n",
       "      <td>1848</td>\n",
       "    </tr>\n",
       "    <tr>\n",
       "      <th>1</th>\n",
       "      <td>2023-12-02</td>\n",
       "      <td>1,906,753.75</td>\n",
       "      <td>883</td>\n",
       "    </tr>\n",
       "    <tr>\n",
       "      <th>2</th>\n",
       "      <td>2023-12-03</td>\n",
       "      <td>591,291.89</td>\n",
       "      <td>383</td>\n",
       "    </tr>\n",
       "    <tr>\n",
       "      <th>3</th>\n",
       "      <td>2023-12-04</td>\n",
       "      <td>1,019,050.69</td>\n",
       "      <td>658</td>\n",
       "    </tr>\n",
       "    <tr>\n",
       "      <th>4</th>\n",
       "      <td>2023-12-05</td>\n",
       "      <td>1,294,949.30</td>\n",
       "      <td>611</td>\n",
       "    </tr>\n",
       "  </tbody>\n",
       "</table>\n",
       "</div>"
      ],
      "text/plain": [
       "   date_file    total_due  report_id\n",
       "0 2023-12-01 3,541,256.86       1848\n",
       "1 2023-12-02 1,906,753.75        883\n",
       "2 2023-12-03   591,291.89        383\n",
       "3 2023-12-04 1,019,050.69        658\n",
       "4 2023-12-05 1,294,949.30        611"
      ]
     },
     "execution_count": 47,
     "metadata": {},
     "output_type": "execute_result"
    }
   ],
   "source": [
    "group_repro = repro.groupby(['date_file']).agg({'total_due':sum,'report_id':'count'}).reset_index()\n",
    "group_repro.head()"
   ]
  },
  {
   "cell_type": "code",
   "execution_count": 48,
   "metadata": {},
   "outputs": [
    {
     "data": {
      "text/plain": [
       "(31, 3)"
      ]
     },
     "execution_count": 48,
     "metadata": {},
     "output_type": "execute_result"
    }
   ],
   "source": [
    "group_repro.shape"
   ]
  },
  {
   "cell_type": "markdown",
   "metadata": {},
   "source": [
    "# SEGUNDO MATCH (IDENTIFICACION DE REPROGRAMACIONES)"
   ]
  },
  {
   "cell_type": "code",
   "execution_count": 49,
   "metadata": {},
   "outputs": [
    {
     "data": {
      "text/html": [
       "<div>\n",
       "<style scoped>\n",
       "    .dataframe tbody tr th:only-of-type {\n",
       "        vertical-align: middle;\n",
       "    }\n",
       "\n",
       "    .dataframe tbody tr th {\n",
       "        vertical-align: top;\n",
       "    }\n",
       "\n",
       "    .dataframe thead th {\n",
       "        text-align: right;\n",
       "    }\n",
       "</style>\n",
       "<table border=\"1\" class=\"dataframe\">\n",
       "  <thead>\n",
       "    <tr style=\"text-align: right;\">\n",
       "      <th></th>\n",
       "      <th>merchant_id</th>\n",
       "      <th>merchant_name</th>\n",
       "      <th>user_email</th>\n",
       "      <th>report_date_local</th>\n",
       "      <th>total_transactions</th>\n",
       "      <th>total_fees_charged</th>\n",
       "      <th>total_taxes</th>\n",
       "      <th>applied_fees_benefits</th>\n",
       "      <th>applied_taxes_benefits</th>\n",
       "      <th>fee_direct_deposit</th>\n",
       "      <th>...</th>\n",
       "      <th>updated_date</th>\n",
       "      <th>updated_time</th>\n",
       "      <th>file_name_x</th>\n",
       "      <th>total_due_y</th>\n",
       "      <th>tipo_x</th>\n",
       "      <th>file_name_y</th>\n",
       "      <th>report_id</th>\n",
       "      <th>total_due</th>\n",
       "      <th>tipo_y</th>\n",
       "      <th>file_name</th>\n",
       "    </tr>\n",
       "  </thead>\n",
       "  <tbody>\n",
       "  </tbody>\n",
       "</table>\n",
       "<p>0 rows × 32 columns</p>\n",
       "</div>"
      ],
      "text/plain": [
       "Empty DataFrame\n",
       "Columns: [merchant_id, merchant_name, user_email, report_date_local, total_transactions, total_fees_charged, total_taxes, applied_fees_benefits, applied_taxes_benefits, fee_direct_deposit, taxes_direct_deposit, total_adjustments, total_adjustment_fees_charged, total_adjustment_taxes, cobranza, total_released, total_retained, tipopago, total_due_x, type, created_date, created_time, updated_date, updated_time, file_name_x, total_due_y, tipo_x, file_name_y, report_id, total_due, tipo_y, file_name]\n",
       "Index: []\n",
       "\n",
       "[0 rows x 32 columns]"
      ]
     },
     "execution_count": 49,
     "metadata": {},
     "output_type": "execute_result"
    }
   ],
   "source": [
    "check_2 = not_found_1.merge(repro[['report_id','total_due','tipo','file_name']] ,on='report_id', how='left')\n",
    "check_2.head()"
   ]
  },
  {
   "cell_type": "code",
   "execution_count": 50,
   "metadata": {},
   "outputs": [
    {
     "data": {
      "text/plain": [
       "(0, 32)"
      ]
     },
     "execution_count": 50,
     "metadata": {},
     "output_type": "execute_result"
    }
   ],
   "source": [
    "check_2.shape"
   ]
  },
  {
   "cell_type": "code",
   "execution_count": 51,
   "metadata": {},
   "outputs": [],
   "source": [
    "# writer = pd.ExcelWriter('REPROGRAMACIONES JUNIO 2021.xlsx', engine='xlsxwriter', options={'encoding':'utf-8'})\n",
    "# check_2.to_excel(writer, sheet_name='DETAIL REPROGRAMACIONES',index=False)\n",
    "# writer.save()\n",
    "# writer.close()"
   ]
  },
  {
   "cell_type": "markdown",
   "metadata": {},
   "source": [
    "# FECHA DE PAGOS (SETTLED VS PAGOS DEL DIA)"
   ]
  },
  {
   "cell_type": "code",
   "execution_count": 52,
   "metadata": {},
   "outputs": [
    {
     "data": {
      "text/html": [
       "<div>\n",
       "<style scoped>\n",
       "    .dataframe tbody tr th:only-of-type {\n",
       "        vertical-align: middle;\n",
       "    }\n",
       "\n",
       "    .dataframe tbody tr th {\n",
       "        vertical-align: top;\n",
       "    }\n",
       "\n",
       "    .dataframe thead th {\n",
       "        text-align: right;\n",
       "    }\n",
       "</style>\n",
       "<table border=\"1\" class=\"dataframe\">\n",
       "  <thead>\n",
       "    <tr style=\"text-align: right;\">\n",
       "      <th></th>\n",
       "      <th>merchant_id</th>\n",
       "      <th>merchant_name</th>\n",
       "      <th>user_email</th>\n",
       "      <th>report_date_local</th>\n",
       "      <th>total_transactions</th>\n",
       "      <th>total_fees_charged</th>\n",
       "      <th>total_taxes</th>\n",
       "      <th>applied_fees_benefits</th>\n",
       "      <th>applied_taxes_benefits</th>\n",
       "      <th>fee_direct_deposit</th>\n",
       "      <th>...</th>\n",
       "      <th>updated_time</th>\n",
       "      <th>file_name_x</th>\n",
       "      <th>total_due_y</th>\n",
       "      <th>tipo_x</th>\n",
       "      <th>file_name_y</th>\n",
       "      <th>report_id</th>\n",
       "      <th>date_file</th>\n",
       "      <th>tipo_y</th>\n",
       "      <th>status</th>\n",
       "      <th>file_name</th>\n",
       "    </tr>\n",
       "  </thead>\n",
       "  <tbody>\n",
       "  </tbody>\n",
       "</table>\n",
       "<p>0 rows × 33 columns</p>\n",
       "</div>"
      ],
      "text/plain": [
       "Empty DataFrame\n",
       "Columns: [merchant_id, merchant_name, user_email, report_date_local, total_transactions, total_fees_charged, total_taxes, applied_fees_benefits, applied_taxes_benefits, fee_direct_deposit, taxes_direct_deposit, total_adjustments, total_adjustment_fees_charged, total_adjustment_taxes, cobranza, total_released, total_retained, tipopago, total_due_x, type, created_date, created_time, updated_date, updated_time, file_name_x, total_due_y, tipo_x, file_name_y, report_id, date_file, tipo_y, status, file_name]\n",
       "Index: []\n",
       "\n",
       "[0 rows x 33 columns]"
      ]
     },
     "execution_count": 52,
     "metadata": {},
     "output_type": "execute_result"
    }
   ],
   "source": [
    "fecha_pago = not_found_1.merge(repro[['report_id','date_file','tipo','status','file_name']] ,on='report_id', how='left')\n",
    "fecha_pago.sort_values(by=['date_file'],ascending=True,inplace=True)\n",
    "fecha_pago.head()"
   ]
  },
  {
   "cell_type": "code",
   "execution_count": 53,
   "metadata": {},
   "outputs": [
    {
     "data": {
      "text/plain": [
       "(0, 33)"
      ]
     },
     "execution_count": 53,
     "metadata": {},
     "output_type": "execute_result"
    }
   ],
   "source": [
    "fecha_pago.shape"
   ]
  },
  {
   "cell_type": "code",
   "execution_count": 54,
   "metadata": {},
   "outputs": [
    {
     "data": {
      "text/html": [
       "<div>\n",
       "<style scoped>\n",
       "    .dataframe tbody tr th:only-of-type {\n",
       "        vertical-align: middle;\n",
       "    }\n",
       "\n",
       "    .dataframe tbody tr th {\n",
       "        vertical-align: top;\n",
       "    }\n",
       "\n",
       "    .dataframe thead th {\n",
       "        text-align: right;\n",
       "    }\n",
       "</style>\n",
       "<table border=\"1\" class=\"dataframe\">\n",
       "  <thead>\n",
       "    <tr style=\"text-align: right;\">\n",
       "      <th></th>\n",
       "      <th>merchant_id</th>\n",
       "      <th>merchant_name</th>\n",
       "      <th>user_email</th>\n",
       "      <th>report_date_local</th>\n",
       "      <th>total_transactions</th>\n",
       "      <th>total_fees_charged</th>\n",
       "      <th>total_taxes</th>\n",
       "      <th>applied_fees_benefits</th>\n",
       "      <th>applied_taxes_benefits</th>\n",
       "      <th>fee_direct_deposit</th>\n",
       "      <th>...</th>\n",
       "      <th>updated_time</th>\n",
       "      <th>file_name_x</th>\n",
       "      <th>total_due_y</th>\n",
       "      <th>tipo_x</th>\n",
       "      <th>file_name_y</th>\n",
       "      <th>report_id</th>\n",
       "      <th>date_file</th>\n",
       "      <th>tipo_y</th>\n",
       "      <th>status</th>\n",
       "      <th>file_name</th>\n",
       "    </tr>\n",
       "  </thead>\n",
       "  <tbody>\n",
       "  </tbody>\n",
       "</table>\n",
       "<p>0 rows × 33 columns</p>\n",
       "</div>"
      ],
      "text/plain": [
       "Empty DataFrame\n",
       "Columns: [merchant_id, merchant_name, user_email, report_date_local, total_transactions, total_fees_charged, total_taxes, applied_fees_benefits, applied_taxes_benefits, fee_direct_deposit, taxes_direct_deposit, total_adjustments, total_adjustment_fees_charged, total_adjustment_taxes, cobranza, total_released, total_retained, tipopago, total_due_x, type, created_date, created_time, updated_date, updated_time, file_name_x, total_due_y, tipo_x, file_name_y, report_id, date_file, tipo_y, status, file_name]\n",
       "Index: []\n",
       "\n",
       "[0 rows x 33 columns]"
      ]
     },
     "execution_count": 54,
     "metadata": {},
     "output_type": "execute_result"
    }
   ],
   "source": [
    "fecha_pago.drop_duplicates(subset ='report_id',keep='first',inplace=True) "
   ]
  },
  {
   "cell_type": "code",
   "execution_count": 55,
   "metadata": {},
   "outputs": [
    {
     "data": {
      "text/html": [
       "<div>\n",
       "<style scoped>\n",
       "    .dataframe tbody tr th:only-of-type {\n",
       "        vertical-align: middle;\n",
       "    }\n",
       "\n",
       "    .dataframe tbody tr th {\n",
       "        vertical-align: top;\n",
       "    }\n",
       "\n",
       "    .dataframe thead th {\n",
       "        text-align: right;\n",
       "    }\n",
       "</style>\n",
       "<table border=\"1\" class=\"dataframe\">\n",
       "  <thead>\n",
       "    <tr style=\"text-align: right;\">\n",
       "      <th></th>\n",
       "      <th>merchant_id</th>\n",
       "      <th>merchant_name</th>\n",
       "      <th>user_email</th>\n",
       "      <th>report_date_local</th>\n",
       "      <th>total_transactions</th>\n",
       "      <th>total_fees_charged</th>\n",
       "      <th>total_taxes</th>\n",
       "      <th>applied_fees_benefits</th>\n",
       "      <th>applied_taxes_benefits</th>\n",
       "      <th>fee_direct_deposit</th>\n",
       "      <th>...</th>\n",
       "      <th>updated_time</th>\n",
       "      <th>file_name_x</th>\n",
       "      <th>total_due_y</th>\n",
       "      <th>tipo_x</th>\n",
       "      <th>file_name_y</th>\n",
       "      <th>report_id</th>\n",
       "      <th>date_file</th>\n",
       "      <th>tipo_y</th>\n",
       "      <th>status</th>\n",
       "      <th>file_name</th>\n",
       "    </tr>\n",
       "  </thead>\n",
       "  <tbody>\n",
       "  </tbody>\n",
       "</table>\n",
       "<p>0 rows × 33 columns</p>\n",
       "</div>"
      ],
      "text/plain": [
       "Empty DataFrame\n",
       "Columns: [merchant_id, merchant_name, user_email, report_date_local, total_transactions, total_fees_charged, total_taxes, applied_fees_benefits, applied_taxes_benefits, fee_direct_deposit, taxes_direct_deposit, total_adjustments, total_adjustment_fees_charged, total_adjustment_taxes, cobranza, total_released, total_retained, tipopago, total_due_x, type, created_date, created_time, updated_date, updated_time, file_name_x, total_due_y, tipo_x, file_name_y, report_id, date_file, tipo_y, status, file_name]\n",
       "Index: []\n",
       "\n",
       "[0 rows x 33 columns]"
      ]
     },
     "execution_count": 55,
     "metadata": {},
     "output_type": "execute_result"
    }
   ],
   "source": [
    "fecha_pago.head()"
   ]
  },
  {
   "cell_type": "code",
   "execution_count": 56,
   "metadata": {},
   "outputs": [
    {
     "data": {
      "text/plain": [
       "(0, 33)"
      ]
     },
     "execution_count": 56,
     "metadata": {},
     "output_type": "execute_result"
    }
   ],
   "source": [
    "fecha_pago.shape"
   ]
  },
  {
   "cell_type": "markdown",
   "metadata": {},
   "source": [
    "### AGRUPADO POR DÍA"
   ]
  },
  {
   "cell_type": "code",
   "execution_count": 57,
   "metadata": {},
   "outputs": [
    {
     "name": "stderr",
     "output_type": "stream",
     "text": [
      "C:\\Users\\Cristian.Aparicio\\AppData\\Local\\Temp\\ipykernel_23404\\898092038.py:1: FutureWarning: The behavior of DataFrame concatenation with empty or all-NA entries is deprecated. In a future version, this will no longer exclude empty or all-NA columns when determining the result dtypes. To retain the old behavior, exclude the relevant entries before the concat operation.\n",
      "  pivot_fecha_pago = pd.pivot_table(fecha_pago,index=['report_date_local'],\n",
      "C:\\Users\\Cristian.Aparicio\\AppData\\Local\\Temp\\ipykernel_23404\\898092038.py:1: FutureWarning: The behavior of DataFrame concatenation with empty or all-NA entries is deprecated. In a future version, this will no longer exclude empty or all-NA columns when determining the result dtypes. To retain the old behavior, exclude the relevant entries before the concat operation.\n",
      "  pivot_fecha_pago = pd.pivot_table(fecha_pago,index=['report_date_local'],\n"
     ]
    },
    {
     "data": {
      "text/html": [
       "<div>\n",
       "<style scoped>\n",
       "    .dataframe tbody tr th:only-of-type {\n",
       "        vertical-align: middle;\n",
       "    }\n",
       "\n",
       "    .dataframe tbody tr th {\n",
       "        vertical-align: top;\n",
       "    }\n",
       "\n",
       "    .dataframe thead tr th {\n",
       "        text-align: left;\n",
       "    }\n",
       "\n",
       "    .dataframe thead tr:last-of-type th {\n",
       "        text-align: right;\n",
       "    }\n",
       "</style>\n",
       "<table border=\"1\" class=\"dataframe\">\n",
       "  <thead>\n",
       "    <tr>\n",
       "      <th></th>\n",
       "      <th>sum</th>\n",
       "      <th>len</th>\n",
       "    </tr>\n",
       "    <tr>\n",
       "      <th></th>\n",
       "      <th>total_due_x</th>\n",
       "      <th>total_due_x</th>\n",
       "    </tr>\n",
       "    <tr>\n",
       "      <th>report_date_local</th>\n",
       "      <th></th>\n",
       "      <th></th>\n",
       "    </tr>\n",
       "  </thead>\n",
       "  <tbody>\n",
       "    <tr>\n",
       "      <th>All</th>\n",
       "      <td>0.00</td>\n",
       "      <td>0.00</td>\n",
       "    </tr>\n",
       "  </tbody>\n",
       "</table>\n",
       "</div>"
      ],
      "text/plain": [
       "                          sum         len\n",
       "                  total_due_x total_due_x\n",
       "report_date_local                        \n",
       "All                      0.00        0.00"
      ]
     },
     "execution_count": 57,
     "metadata": {},
     "output_type": "execute_result"
    }
   ],
   "source": [
    "pivot_fecha_pago = pd.pivot_table(fecha_pago,index=['report_date_local'],\n",
    "                                  values=['total_due_x'],aggfunc = ['sum', len],margins=True)\n",
    "pivot_fecha_pago.head()"
   ]
  },
  {
   "cell_type": "code",
   "execution_count": 58,
   "metadata": {},
   "outputs": [
    {
     "data": {
      "text/plain": [
       "(1, 2)"
      ]
     },
     "execution_count": 58,
     "metadata": {},
     "output_type": "execute_result"
    }
   ],
   "source": [
    "pivot_fecha_pago.shape"
   ]
  },
  {
   "cell_type": "markdown",
   "metadata": {},
   "source": [
    "# PAGOS MANUALES"
   ]
  },
  {
   "cell_type": "code",
   "execution_count": 59,
   "metadata": {},
   "outputs": [
    {
     "data": {
      "text/plain": [
       "['G:\\\\.shortcut-targets-by-id\\\\1Oe28Mf9uSidMamjllDen2gkNnC59eSUr\\\\3.-Settlement\\\\5.-HISTORICO FILES PAGOS\\\\01. TRADICIONAL\\\\2023\\\\12. DECEMBER\\\\MANUALES\\\\Manuales 2023.12.01 - 2023.12.25.xlsx',\n",
       " 'G:\\\\.shortcut-targets-by-id\\\\1Oe28Mf9uSidMamjllDen2gkNnC59eSUr\\\\3.-Settlement\\\\5.-HISTORICO FILES PAGOS\\\\01. TRADICIONAL\\\\2023\\\\12. DECEMBER\\\\MANUALES\\\\Manuales 2023.12.26 - 2023.12.31.xlsx']"
      ]
     },
     "execution_count": 59,
     "metadata": {},
     "output_type": "execute_result"
    }
   ],
   "source": [
    "file_manual = glob.glob(r'G:\\.shortcut-targets-by-id\\1Oe28Mf9uSidMamjllDen2gkNnC59eSUr\\3.-Settlement\\5.-HISTORICO FILES PAGOS\\01. TRADICIONAL\\2023\\12. DECEMBER\\MANUALES\\*.xlsx', recursive=False)\n",
    "file_manual"
   ]
  },
  {
   "cell_type": "code",
   "execution_count": 60,
   "metadata": {},
   "outputs": [],
   "source": [
    "manuales_all = pd.concat([pd.read_excel(f,sheet_name='Formato Pago Manual',skiprows=1\n",
    "                                      ,converters={'Cta. CLABE de depósito':str,'report_id':str})\n",
    "                          .assign(file_name=os.path.basename(f)) for f in file_manual])\n",
    "manuales_all['Date']= pd.to_datetime(manuales_all['Date'])  \n",
    "manuales_all['Tipo'] = 'MANUAL'"
   ]
  },
  {
   "cell_type": "code",
   "execution_count": 61,
   "metadata": {},
   "outputs": [
    {
     "data": {
      "text/html": [
       "<div>\n",
       "<style scoped>\n",
       "    .dataframe tbody tr th:only-of-type {\n",
       "        vertical-align: middle;\n",
       "    }\n",
       "\n",
       "    .dataframe tbody tr th {\n",
       "        vertical-align: top;\n",
       "    }\n",
       "\n",
       "    .dataframe thead th {\n",
       "        text-align: right;\n",
       "    }\n",
       "</style>\n",
       "<table border=\"1\" class=\"dataframe\">\n",
       "  <thead>\n",
       "    <tr style=\"text-align: right;\">\n",
       "      <th></th>\n",
       "      <th>Date</th>\n",
       "      <th>ME ID</th>\n",
       "      <th>ME NAME</th>\n",
       "      <th>(mxn)</th>\n",
       "      <th>Banco</th>\n",
       "      <th>Justificación para el pago</th>\n",
       "      <th>Tipo</th>\n",
       "      <th>Report ID</th>\n",
       "    </tr>\n",
       "  </thead>\n",
       "  <tbody>\n",
       "    <tr>\n",
       "      <th>0</th>\n",
       "      <td>2023-12-06</td>\n",
       "      <td>2bfa78ce-9730-476e-9801-81505662cdde</td>\n",
       "      <td>NaN</td>\n",
       "      <td>2,587.25</td>\n",
       "      <td>Banco Nacional de Mexico, S.A.</td>\n",
       "      <td>Fwd: Apoyo en VoBo para abono manual</td>\n",
       "      <td>MANUAL</td>\n",
       "      <td>na</td>\n",
       "    </tr>\n",
       "    <tr>\n",
       "      <th>1</th>\n",
       "      <td>2023-12-06</td>\n",
       "      <td>58f7e468-4f1f-4180-92ad-c0e0611649fa</td>\n",
       "      <td>NaN</td>\n",
       "      <td>1,115.00</td>\n",
       "      <td>BBVA Bancomer, S.A.</td>\n",
       "      <td>Pago manual</td>\n",
       "      <td>MANUAL</td>\n",
       "      <td>na</td>\n",
       "    </tr>\n",
       "    <tr>\n",
       "      <th>2</th>\n",
       "      <td>2023-12-14</td>\n",
       "      <td>579a14ac-5cc0-479f-b6e5-9be77d4947be</td>\n",
       "      <td>NaN</td>\n",
       "      <td>7,423.49</td>\n",
       "      <td>BBVA Bancomer, S.A.</td>\n",
       "      <td>Pago por info incorrecta cambio clabe</td>\n",
       "      <td>MANUAL</td>\n",
       "      <td>na</td>\n",
       "    </tr>\n",
       "    <tr>\n",
       "      <th>3</th>\n",
       "      <td>2023-12-15</td>\n",
       "      <td>77f93f88-0bf7-4057-82c9-0f17289c12ba</td>\n",
       "      <td>NaN</td>\n",
       "      <td>4,664.52</td>\n",
       "      <td>Kuspit Casa de Bolsa, S.A. de C.V.</td>\n",
       "      <td>URGENTE || SOP-14997 || Apoyo con VoBo para pa...</td>\n",
       "      <td>MANUAL</td>\n",
       "      <td>na</td>\n",
       "    </tr>\n",
       "    <tr>\n",
       "      <th>4</th>\n",
       "      <td>2023-12-19</td>\n",
       "      <td>3ccf710a-d568-4fc0-b515-84a678e8dc7a</td>\n",
       "      <td>NaN</td>\n",
       "      <td>1,898.00</td>\n",
       "      <td>Banco Nacional de Mexico, S.A.</td>\n",
       "      <td>Solicitud de reembolso manual</td>\n",
       "      <td>MANUAL</td>\n",
       "      <td>na</td>\n",
       "    </tr>\n",
       "  </tbody>\n",
       "</table>\n",
       "</div>"
      ],
      "text/plain": [
       "        Date                                 ME ID  ME NAME    (mxn)  \\\n",
       "0 2023-12-06  2bfa78ce-9730-476e-9801-81505662cdde      NaN 2,587.25   \n",
       "1 2023-12-06  58f7e468-4f1f-4180-92ad-c0e0611649fa      NaN 1,115.00   \n",
       "2 2023-12-14  579a14ac-5cc0-479f-b6e5-9be77d4947be      NaN 7,423.49   \n",
       "3 2023-12-15  77f93f88-0bf7-4057-82c9-0f17289c12ba      NaN 4,664.52   \n",
       "4 2023-12-19  3ccf710a-d568-4fc0-b515-84a678e8dc7a      NaN 1,898.00   \n",
       "\n",
       "                                Banco  \\\n",
       "0      Banco Nacional de Mexico, S.A.   \n",
       "1                 BBVA Bancomer, S.A.   \n",
       "2                 BBVA Bancomer, S.A.   \n",
       "3  Kuspit Casa de Bolsa, S.A. de C.V.   \n",
       "4      Banco Nacional de Mexico, S.A.   \n",
       "\n",
       "                          Justificación para el pago    Tipo Report ID  \n",
       "0               Fwd: Apoyo en VoBo para abono manual  MANUAL        na  \n",
       "1                                        Pago manual  MANUAL        na  \n",
       "2              Pago por info incorrecta cambio clabe  MANUAL        na  \n",
       "3  URGENTE || SOP-14997 || Apoyo con VoBo para pa...  MANUAL        na  \n",
       "4                      Solicitud de reembolso manual  MANUAL        na  "
      ]
     },
     "execution_count": 61,
     "metadata": {},
     "output_type": "execute_result"
    }
   ],
   "source": [
    "manuales_final = manuales_all[['Date','ME ID','ME NAME',' (mxn)','Banco','Justificación para el pago','Tipo','Report ID']]\n",
    "manuales_final.head()"
   ]
  },
  {
   "cell_type": "code",
   "execution_count": 62,
   "metadata": {},
   "outputs": [
    {
     "data": {
      "text/plain": [
       "(9, 8)"
      ]
     },
     "execution_count": 62,
     "metadata": {},
     "output_type": "execute_result"
    }
   ],
   "source": [
    "manuales_final.shape"
   ]
  },
  {
   "cell_type": "code",
   "execution_count": 63,
   "metadata": {},
   "outputs": [
    {
     "data": {
      "text/plain": [
       "Index(['Date', 'ME ID', 'ME NAME', ' (mxn)', 'Banco',\n",
       "       'Justificación para el pago', 'Tipo', 'Report ID'],\n",
       "      dtype='object')"
      ]
     },
     "execution_count": 63,
     "metadata": {},
     "output_type": "execute_result"
    }
   ],
   "source": [
    "manuales_final.columns"
   ]
  },
  {
   "cell_type": "code",
   "execution_count": 64,
   "metadata": {},
   "outputs": [
    {
     "name": "stderr",
     "output_type": "stream",
     "text": [
      "C:\\Users\\Cristian.Aparicio\\AppData\\Local\\Temp\\ipykernel_23404\\3325178319.py:1: FutureWarning: The provided callable <built-in function sum> is currently using SeriesGroupBy.sum. In a future version of pandas, the provided callable will be used directly. To keep current behavior pass the string \"sum\" instead.\n",
      "  group_manual = manuales_final.groupby(['Date']).agg({' (mxn)':sum,'Report ID':'count'}).reset_index()\n"
     ]
    },
    {
     "data": {
      "text/html": [
       "<div>\n",
       "<style scoped>\n",
       "    .dataframe tbody tr th:only-of-type {\n",
       "        vertical-align: middle;\n",
       "    }\n",
       "\n",
       "    .dataframe tbody tr th {\n",
       "        vertical-align: top;\n",
       "    }\n",
       "\n",
       "    .dataframe thead th {\n",
       "        text-align: right;\n",
       "    }\n",
       "</style>\n",
       "<table border=\"1\" class=\"dataframe\">\n",
       "  <thead>\n",
       "    <tr style=\"text-align: right;\">\n",
       "      <th></th>\n",
       "      <th>date_file</th>\n",
       "      <th>(mxn)</th>\n",
       "      <th>report_id</th>\n",
       "    </tr>\n",
       "  </thead>\n",
       "  <tbody>\n",
       "    <tr>\n",
       "      <th>0</th>\n",
       "      <td>2023-12-06</td>\n",
       "      <td>3,702.25</td>\n",
       "      <td>2</td>\n",
       "    </tr>\n",
       "    <tr>\n",
       "      <th>1</th>\n",
       "      <td>2023-12-14</td>\n",
       "      <td>7,423.49</td>\n",
       "      <td>1</td>\n",
       "    </tr>\n",
       "    <tr>\n",
       "      <th>2</th>\n",
       "      <td>2023-12-15</td>\n",
       "      <td>4,664.52</td>\n",
       "      <td>1</td>\n",
       "    </tr>\n",
       "    <tr>\n",
       "      <th>3</th>\n",
       "      <td>2023-12-19</td>\n",
       "      <td>4,064.12</td>\n",
       "      <td>2</td>\n",
       "    </tr>\n",
       "    <tr>\n",
       "      <th>4</th>\n",
       "      <td>2023-12-28</td>\n",
       "      <td>4,601.95</td>\n",
       "      <td>3</td>\n",
       "    </tr>\n",
       "  </tbody>\n",
       "</table>\n",
       "</div>"
      ],
      "text/plain": [
       "   date_file    (mxn)  report_id\n",
       "0 2023-12-06 3,702.25          2\n",
       "1 2023-12-14 7,423.49          1\n",
       "2 2023-12-15 4,664.52          1\n",
       "3 2023-12-19 4,064.12          2\n",
       "4 2023-12-28 4,601.95          3"
      ]
     },
     "execution_count": 64,
     "metadata": {},
     "output_type": "execute_result"
    }
   ],
   "source": [
    "group_manual = manuales_final.groupby(['Date']).agg({' (mxn)':sum,'Report ID':'count'}).reset_index()\n",
    "group_manual.rename(columns={'Date':'date_file','Report ID':'report_id'},inplace=True)\n",
    "group_manual.head()"
   ]
  },
  {
   "cell_type": "code",
   "execution_count": 65,
   "metadata": {},
   "outputs": [
    {
     "data": {
      "text/plain": [
       "(5, 3)"
      ]
     },
     "execution_count": 65,
     "metadata": {},
     "output_type": "execute_result"
    }
   ],
   "source": [
    "group_manual.shape"
   ]
  },
  {
   "cell_type": "markdown",
   "metadata": {},
   "source": [
    "# ACUMULADOS SETTLEMENT"
   ]
  },
  {
   "cell_type": "code",
   "execution_count": 66,
   "metadata": {},
   "outputs": [
    {
     "name": "stderr",
     "output_type": "stream",
     "text": [
      "C:\\Users\\Cristian.Aparicio\\AppData\\Local\\Temp\\ipykernel_23404\\691643010.py:1: FutureWarning: The provided callable <built-in function sum> is currently using SeriesGroupBy.sum. In a future version of pandas, the provided callable will be used directly. To keep current behavior pass the string \"sum\" instead.\n",
      "  conc_disp = cum_distinct_0.groupby(['report_date_local']).agg({'total_due':sum,'report_id':'count'}).reset_index()\n"
     ]
    },
    {
     "data": {
      "text/html": [
       "<div>\n",
       "<style scoped>\n",
       "    .dataframe tbody tr th:only-of-type {\n",
       "        vertical-align: middle;\n",
       "    }\n",
       "\n",
       "    .dataframe tbody tr th {\n",
       "        vertical-align: top;\n",
       "    }\n",
       "\n",
       "    .dataframe thead th {\n",
       "        text-align: right;\n",
       "    }\n",
       "</style>\n",
       "<table border=\"1\" class=\"dataframe\">\n",
       "  <thead>\n",
       "    <tr style=\"text-align: right;\">\n",
       "      <th></th>\n",
       "      <th>date_file</th>\n",
       "      <th>total_due</th>\n",
       "      <th>report_id</th>\n",
       "    </tr>\n",
       "  </thead>\n",
       "  <tbody>\n",
       "  </tbody>\n",
       "</table>\n",
       "</div>"
      ],
      "text/plain": [
       "Empty DataFrame\n",
       "Columns: [date_file, total_due, report_id]\n",
       "Index: []"
      ]
     },
     "execution_count": 66,
     "metadata": {},
     "output_type": "execute_result"
    }
   ],
   "source": [
    "conc_disp = cum_distinct_0.groupby(['report_date_local']).agg({'total_due':sum,'report_id':'count'}).reset_index()\n",
    "conc_disp.rename(columns={'report_date_local':'date_file'}, inplace=True)\n",
    "conc_disp.head()"
   ]
  },
  {
   "cell_type": "code",
   "execution_count": 67,
   "metadata": {},
   "outputs": [
    {
     "data": {
      "text/plain": [
       "(0, 3)"
      ]
     },
     "execution_count": 67,
     "metadata": {},
     "output_type": "execute_result"
    }
   ],
   "source": [
    "conc_disp.shape"
   ]
  },
  {
   "cell_type": "markdown",
   "metadata": {},
   "source": [
    "# MERGING ALL DATA FRAMES"
   ]
  },
  {
   "cell_type": "code",
   "execution_count": 68,
   "metadata": {},
   "outputs": [
    {
     "data": {
      "text/html": [
       "<div>\n",
       "<style scoped>\n",
       "    .dataframe tbody tr th:only-of-type {\n",
       "        vertical-align: middle;\n",
       "    }\n",
       "\n",
       "    .dataframe tbody tr th {\n",
       "        vertical-align: top;\n",
       "    }\n",
       "\n",
       "    .dataframe thead th {\n",
       "        text-align: right;\n",
       "    }\n",
       "</style>\n",
       "<table border=\"1\" class=\"dataframe\">\n",
       "  <thead>\n",
       "    <tr style=\"text-align: right;\">\n",
       "      <th></th>\n",
       "      <th>total_due_x</th>\n",
       "      <th>report_id_x</th>\n",
       "      <th>total_due_y</th>\n",
       "      <th>report_id_y</th>\n",
       "      <th>date_file</th>\n",
       "      <th>(mxn)</th>\n",
       "      <th>report_id</th>\n",
       "    </tr>\n",
       "  </thead>\n",
       "  <tbody>\n",
       "  </tbody>\n",
       "</table>\n",
       "</div>"
      ],
      "text/plain": [
       "Empty DataFrame\n",
       "Columns: [total_due_x, report_id_x, total_due_y, report_id_y, date_file,  (mxn), report_id]\n",
       "Index: []"
      ]
     },
     "execution_count": 68,
     "metadata": {},
     "output_type": "execute_result"
    }
   ],
   "source": [
    "total_1 = conc_disp.merge(group_repro[['date_file','total_due','report_id']],on='date_file',how='left') \\\n",
    ".merge(group_manual,on='date_file',how='left')\n",
    "total_1[' (mxn)'].fillna(0,inplace=True)\n",
    "total_1['report_id'].fillna(0,inplace=True)\n",
    "total_1.head()\n"
   ]
  },
  {
   "cell_type": "code",
   "execution_count": 69,
   "metadata": {},
   "outputs": [],
   "source": [
    "total_1['count_total_pago_dia'] = total_1['report_id_x'] + total_1['report_id_y'] + total_1['report_id']\n",
    "total_1['sum_total_pago_dia'] = total_1['total_due_x'] + total_1['total_due_y'] + total_1[' (mxn)']\n"
   ]
  },
  {
   "cell_type": "code",
   "execution_count": 70,
   "metadata": {},
   "outputs": [
    {
     "data": {
      "text/html": [
       "<div>\n",
       "<style scoped>\n",
       "    .dataframe tbody tr th:only-of-type {\n",
       "        vertical-align: middle;\n",
       "    }\n",
       "\n",
       "    .dataframe tbody tr th {\n",
       "        vertical-align: top;\n",
       "    }\n",
       "\n",
       "    .dataframe thead th {\n",
       "        text-align: right;\n",
       "    }\n",
       "</style>\n",
       "<table border=\"1\" class=\"dataframe\">\n",
       "  <thead>\n",
       "    <tr style=\"text-align: right;\">\n",
       "      <th></th>\n",
       "      <th>total_due_x</th>\n",
       "      <th>report_id_x</th>\n",
       "      <th>total_due_y</th>\n",
       "      <th>report_id_y</th>\n",
       "      <th>date_file</th>\n",
       "      <th>(mxn)</th>\n",
       "      <th>report_id</th>\n",
       "      <th>count_total_pago_dia</th>\n",
       "      <th>sum_total_pago_dia</th>\n",
       "    </tr>\n",
       "  </thead>\n",
       "  <tbody>\n",
       "  </tbody>\n",
       "</table>\n",
       "</div>"
      ],
      "text/plain": [
       "Empty DataFrame\n",
       "Columns: [total_due_x, report_id_x, total_due_y, report_id_y, date_file,  (mxn), report_id, count_total_pago_dia, sum_total_pago_dia]\n",
       "Index: []"
      ]
     },
     "execution_count": 70,
     "metadata": {},
     "output_type": "execute_result"
    }
   ],
   "source": [
    "total_1"
   ]
  },
  {
   "cell_type": "markdown",
   "metadata": {},
   "source": [
    "# ACUMULADOS PAGO DEL DIA"
   ]
  },
  {
   "cell_type": "code",
   "execution_count": 71,
   "metadata": {},
   "outputs": [
    {
     "data": {
      "text/html": [
       "<div>\n",
       "<style scoped>\n",
       "    .dataframe tbody tr th:only-of-type {\n",
       "        vertical-align: middle;\n",
       "    }\n",
       "\n",
       "    .dataframe tbody tr th {\n",
       "        vertical-align: top;\n",
       "    }\n",
       "\n",
       "    .dataframe thead th {\n",
       "        text-align: right;\n",
       "    }\n",
       "</style>\n",
       "<table border=\"1\" class=\"dataframe\">\n",
       "  <thead>\n",
       "    <tr style=\"text-align: right;\">\n",
       "      <th></th>\n",
       "      <th>date_file</th>\n",
       "      <th>total_due</th>\n",
       "      <th>report_id_x</th>\n",
       "      <th>total_due_x</th>\n",
       "      <th>report_id_y</th>\n",
       "      <th>(mxn)</th>\n",
       "      <th>report_id</th>\n",
       "    </tr>\n",
       "  </thead>\n",
       "  <tbody>\n",
       "    <tr>\n",
       "      <th>0</th>\n",
       "      <td>2023-12-01</td>\n",
       "      <td>285,415,114.92</td>\n",
       "      <td>118490</td>\n",
       "      <td>0</td>\n",
       "      <td>0.00</td>\n",
       "      <td>0.00</td>\n",
       "      <td>0.00</td>\n",
       "    </tr>\n",
       "    <tr>\n",
       "      <th>1</th>\n",
       "      <td>2023-12-02</td>\n",
       "      <td>303,149,485.89</td>\n",
       "      <td>122518</td>\n",
       "      <td>0</td>\n",
       "      <td>0.00</td>\n",
       "      <td>0.00</td>\n",
       "      <td>0.00</td>\n",
       "    </tr>\n",
       "    <tr>\n",
       "      <th>2</th>\n",
       "      <td>2023-12-03</td>\n",
       "      <td>319,456,101.30</td>\n",
       "      <td>119380</td>\n",
       "      <td>0</td>\n",
       "      <td>0.00</td>\n",
       "      <td>0.00</td>\n",
       "      <td>0.00</td>\n",
       "    </tr>\n",
       "    <tr>\n",
       "      <th>3</th>\n",
       "      <td>2023-12-04</td>\n",
       "      <td>229,004,765.97</td>\n",
       "      <td>86347</td>\n",
       "      <td>0</td>\n",
       "      <td>0.00</td>\n",
       "      <td>0.00</td>\n",
       "      <td>0.00</td>\n",
       "    </tr>\n",
       "    <tr>\n",
       "      <th>4</th>\n",
       "      <td>2023-12-05</td>\n",
       "      <td>230,836,818.64</td>\n",
       "      <td>104103</td>\n",
       "      <td>0</td>\n",
       "      <td>0.00</td>\n",
       "      <td>0.00</td>\n",
       "      <td>0.00</td>\n",
       "    </tr>\n",
       "  </tbody>\n",
       "</table>\n",
       "</div>"
      ],
      "text/plain": [
       "   date_file      total_due  report_id_x  total_due_x  report_id_y   (mxn)  \\\n",
       "0 2023-12-01 285,415,114.92       118490            0         0.00    0.00   \n",
       "1 2023-12-02 303,149,485.89       122518            0         0.00    0.00   \n",
       "2 2023-12-03 319,456,101.30       119380            0         0.00    0.00   \n",
       "3 2023-12-04 229,004,765.97        86347            0         0.00    0.00   \n",
       "4 2023-12-05 230,836,818.64       104103            0         0.00    0.00   \n",
       "\n",
       "   report_id  \n",
       "0       0.00  \n",
       "1       0.00  \n",
       "2       0.00  \n",
       "3       0.00  \n",
       "4       0.00  "
      ]
     },
     "execution_count": 71,
     "metadata": {},
     "output_type": "execute_result"
    }
   ],
   "source": [
    "total_2 = group_allpagos.merge(group_notfound[['date_file','total_due_x','report_id']],on='date_file',how='left')\\\n",
    ".merge(group_manual,on='date_file',how='left')\n",
    "total_2[' (mxn)'].fillna(0,inplace=True)\n",
    "total_2['report_id'].fillna(0,inplace=True)\n",
    "total_2['total_due_x'].fillna(0,inplace=True)\n",
    "total_2['report_id_y'].fillna(0,inplace=True)\n",
    "total_2.head()"
   ]
  },
  {
   "cell_type": "code",
   "execution_count": 72,
   "metadata": {},
   "outputs": [],
   "source": [
    "total_2['count_swap_dia'] = total_2['report_id_x'] + total_2['report_id_y'] + total_2['report_id']\n",
    "total_2['sum_swap_dia'] = total_2['total_due'] + total_2['total_due_x'] + total_2[' (mxn)']"
   ]
  },
  {
   "cell_type": "code",
   "execution_count": 73,
   "metadata": {},
   "outputs": [
    {
     "data": {
      "text/html": [
       "<div>\n",
       "<style scoped>\n",
       "    .dataframe tbody tr th:only-of-type {\n",
       "        vertical-align: middle;\n",
       "    }\n",
       "\n",
       "    .dataframe tbody tr th {\n",
       "        vertical-align: top;\n",
       "    }\n",
       "\n",
       "    .dataframe thead th {\n",
       "        text-align: right;\n",
       "    }\n",
       "</style>\n",
       "<table border=\"1\" class=\"dataframe\">\n",
       "  <thead>\n",
       "    <tr style=\"text-align: right;\">\n",
       "      <th></th>\n",
       "      <th>date_file</th>\n",
       "      <th>total_due</th>\n",
       "      <th>report_id_x</th>\n",
       "      <th>total_due_x</th>\n",
       "      <th>report_id_y</th>\n",
       "      <th>(mxn)</th>\n",
       "      <th>report_id</th>\n",
       "      <th>count_swap_dia</th>\n",
       "      <th>sum_swap_dia</th>\n",
       "    </tr>\n",
       "  </thead>\n",
       "  <tbody>\n",
       "    <tr>\n",
       "      <th>0</th>\n",
       "      <td>2023-12-01</td>\n",
       "      <td>285,415,114.92</td>\n",
       "      <td>118490</td>\n",
       "      <td>0</td>\n",
       "      <td>0.00</td>\n",
       "      <td>0.00</td>\n",
       "      <td>0.00</td>\n",
       "      <td>118,490.00</td>\n",
       "      <td>285,415,114.92</td>\n",
       "    </tr>\n",
       "    <tr>\n",
       "      <th>1</th>\n",
       "      <td>2023-12-02</td>\n",
       "      <td>303,149,485.89</td>\n",
       "      <td>122518</td>\n",
       "      <td>0</td>\n",
       "      <td>0.00</td>\n",
       "      <td>0.00</td>\n",
       "      <td>0.00</td>\n",
       "      <td>122,518.00</td>\n",
       "      <td>303,149,485.89</td>\n",
       "    </tr>\n",
       "    <tr>\n",
       "      <th>2</th>\n",
       "      <td>2023-12-03</td>\n",
       "      <td>319,456,101.30</td>\n",
       "      <td>119380</td>\n",
       "      <td>0</td>\n",
       "      <td>0.00</td>\n",
       "      <td>0.00</td>\n",
       "      <td>0.00</td>\n",
       "      <td>119,380.00</td>\n",
       "      <td>319,456,101.30</td>\n",
       "    </tr>\n",
       "    <tr>\n",
       "      <th>3</th>\n",
       "      <td>2023-12-04</td>\n",
       "      <td>229,004,765.97</td>\n",
       "      <td>86347</td>\n",
       "      <td>0</td>\n",
       "      <td>0.00</td>\n",
       "      <td>0.00</td>\n",
       "      <td>0.00</td>\n",
       "      <td>86,347.00</td>\n",
       "      <td>229,004,765.97</td>\n",
       "    </tr>\n",
       "    <tr>\n",
       "      <th>4</th>\n",
       "      <td>2023-12-05</td>\n",
       "      <td>230,836,818.64</td>\n",
       "      <td>104103</td>\n",
       "      <td>0</td>\n",
       "      <td>0.00</td>\n",
       "      <td>0.00</td>\n",
       "      <td>0.00</td>\n",
       "      <td>104,103.00</td>\n",
       "      <td>230,836,818.64</td>\n",
       "    </tr>\n",
       "  </tbody>\n",
       "</table>\n",
       "</div>"
      ],
      "text/plain": [
       "   date_file      total_due  report_id_x  total_due_x  report_id_y   (mxn)  \\\n",
       "0 2023-12-01 285,415,114.92       118490            0         0.00    0.00   \n",
       "1 2023-12-02 303,149,485.89       122518            0         0.00    0.00   \n",
       "2 2023-12-03 319,456,101.30       119380            0         0.00    0.00   \n",
       "3 2023-12-04 229,004,765.97        86347            0         0.00    0.00   \n",
       "4 2023-12-05 230,836,818.64       104103            0         0.00    0.00   \n",
       "\n",
       "   report_id  count_swap_dia   sum_swap_dia  \n",
       "0       0.00      118,490.00 285,415,114.92  \n",
       "1       0.00      122,518.00 303,149,485.89  \n",
       "2       0.00      119,380.00 319,456,101.30  \n",
       "3       0.00       86,347.00 229,004,765.97  \n",
       "4       0.00      104,103.00 230,836,818.64  "
      ]
     },
     "execution_count": 73,
     "metadata": {},
     "output_type": "execute_result"
    }
   ],
   "source": [
    "total_2.head()"
   ]
  },
  {
   "cell_type": "code",
   "execution_count": 74,
   "metadata": {},
   "outputs": [
    {
     "data": {
      "text/plain": [
       "(31, 9)"
      ]
     },
     "execution_count": 74,
     "metadata": {},
     "output_type": "execute_result"
    }
   ],
   "source": [
    "total_2.shape"
   ]
  },
  {
   "cell_type": "markdown",
   "metadata": {},
   "source": [
    "# COMPARACION FINAL"
   ]
  },
  {
   "cell_type": "code",
   "execution_count": 75,
   "metadata": {},
   "outputs": [
    {
     "data": {
      "text/html": [
       "<div>\n",
       "<style scoped>\n",
       "    .dataframe tbody tr th:only-of-type {\n",
       "        vertical-align: middle;\n",
       "    }\n",
       "\n",
       "    .dataframe tbody tr th {\n",
       "        vertical-align: top;\n",
       "    }\n",
       "\n",
       "    .dataframe thead th {\n",
       "        text-align: right;\n",
       "    }\n",
       "</style>\n",
       "<table border=\"1\" class=\"dataframe\">\n",
       "  <thead>\n",
       "    <tr style=\"text-align: right;\">\n",
       "      <th></th>\n",
       "      <th>count_total_pago_dia</th>\n",
       "      <th>sum_total_pago_dia</th>\n",
       "      <th>date_file</th>\n",
       "      <th>count_swap_dia</th>\n",
       "      <th>sum_swap_dia</th>\n",
       "    </tr>\n",
       "  </thead>\n",
       "  <tbody>\n",
       "  </tbody>\n",
       "</table>\n",
       "</div>"
      ],
      "text/plain": [
       "Empty DataFrame\n",
       "Columns: [count_total_pago_dia, sum_total_pago_dia, date_file, count_swap_dia, sum_swap_dia]\n",
       "Index: []"
      ]
     },
     "execution_count": 75,
     "metadata": {},
     "output_type": "execute_result"
    }
   ],
   "source": [
    "final_comparacion = total_1[['date_file','count_total_pago_dia','sum_total_pago_dia']] \\\n",
    ".merge(total_2[['date_file','count_swap_dia','sum_swap_dia']],on='date_file',how='left')\n",
    "final_comparacion.head()"
   ]
  },
  {
   "cell_type": "code",
   "execution_count": 76,
   "metadata": {},
   "outputs": [],
   "source": [
    "final_comparacion['diff_count'] = final_comparacion['count_total_pago_dia'] - final_comparacion['count_swap_dia']\n",
    "final_comparacion['diff_sum'] = final_comparacion['sum_total_pago_dia'] - final_comparacion['sum_swap_dia']"
   ]
  },
  {
   "cell_type": "code",
   "execution_count": 77,
   "metadata": {
    "scrolled": true
   },
   "outputs": [
    {
     "data": {
      "text/html": [
       "<div>\n",
       "<style scoped>\n",
       "    .dataframe tbody tr th:only-of-type {\n",
       "        vertical-align: middle;\n",
       "    }\n",
       "\n",
       "    .dataframe tbody tr th {\n",
       "        vertical-align: top;\n",
       "    }\n",
       "\n",
       "    .dataframe thead th {\n",
       "        text-align: right;\n",
       "    }\n",
       "</style>\n",
       "<table border=\"1\" class=\"dataframe\">\n",
       "  <thead>\n",
       "    <tr style=\"text-align: right;\">\n",
       "      <th></th>\n",
       "      <th>count_total_pago_dia</th>\n",
       "      <th>sum_total_pago_dia</th>\n",
       "      <th>date_file</th>\n",
       "      <th>count_swap_dia</th>\n",
       "      <th>sum_swap_dia</th>\n",
       "      <th>diff_count</th>\n",
       "      <th>diff_sum</th>\n",
       "    </tr>\n",
       "  </thead>\n",
       "  <tbody>\n",
       "  </tbody>\n",
       "</table>\n",
       "</div>"
      ],
      "text/plain": [
       "Empty DataFrame\n",
       "Columns: [count_total_pago_dia, sum_total_pago_dia, date_file, count_swap_dia, sum_swap_dia, diff_count, diff_sum]\n",
       "Index: []"
      ]
     },
     "execution_count": 77,
     "metadata": {},
     "output_type": "execute_result"
    }
   ],
   "source": [
    "final_comparacion"
   ]
  },
  {
   "cell_type": "code",
   "execution_count": 78,
   "metadata": {},
   "outputs": [],
   "source": [
    "writer = pd.ExcelWriter('FASE III. SETTLED VS PAGO DIA DICIEMBRE 2023.xlsx',\n",
    "                        engine='xlsxwriter',\n",
    "                        engine_kwargs={'options': {'encoding':'utf-8'}})\n",
    "pivot_fecha_pago.to_excel(writer, sheet_name='ENVIADOS POSTERIOR')\n",
    "fecha_pago.to_excel(writer, sheet_name='DETAIL NO ENCONTRADO',index=False)\n",
    "pivot_duplicates_trad.to_excel(writer, sheet_name='PAGOS DUPLICADOS')\n",
    "pivot_duplicates_fp.to_excel(writer, sheet_name='FP PAGOS DUPLICADOS')\n",
    "group_manual.to_excel(writer, sheet_name='PAGOS MANUALES')\n",
    "writer.close()"
   ]
  },
  {
   "cell_type": "code",
   "execution_count": null,
   "metadata": {},
   "outputs": [],
   "source": []
  }
 ],
 "metadata": {
  "kernelspec": {
   "display_name": "Python 3 (ipykernel)",
   "language": "python",
   "name": "python3"
  },
  "language_info": {
   "codemirror_mode": {
    "name": "ipython",
    "version": 3
   },
   "file_extension": ".py",
   "mimetype": "text/x-python",
   "name": "python",
   "nbconvert_exporter": "python",
   "pygments_lexer": "ipython3",
   "version": "3.9.18"
  }
 },
 "nbformat": 4,
 "nbformat_minor": 4
}
