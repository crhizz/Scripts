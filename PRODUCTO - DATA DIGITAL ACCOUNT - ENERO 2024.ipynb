{
 "cells": [
  {
   "cell_type": "code",
   "execution_count": 1,
   "id": "21c1c747",
   "metadata": {},
   "outputs": [],
   "source": [
    "import pandas as pd\n",
    "import numpy as np\n",
    "import glob\n",
    "import os\n",
    "from openpyxl import load_workbook\n",
    "pd.options.display.float_format = '{:,.2f}'.format"
   ]
  },
  {
   "cell_type": "code",
   "execution_count": 2,
   "id": "e9787e6a",
   "metadata": {},
   "outputs": [],
   "source": [
    "start_date = '2024-01-01'\n",
    "final_date = '2024-01-31'"
   ]
  },
  {
   "cell_type": "markdown",
   "id": "9df44613",
   "metadata": {},
   "source": [
    "# RUTAS"
   ]
  },
  {
   "cell_type": "code",
   "execution_count": null,
   "id": "bfee8237-590e-4824-9351-7f21258c62c5",
   "metadata": {},
   "outputs": [],
   "source": [
    "email_files = glob.glob(r'G:\\My Drive\\RESPALDO-PC\\DATA EMAILS\\*.tsv', recursive=False)\n",
    "email_files"
   ]
  },
  {
   "cell_type": "markdown",
   "id": "cef36c0e",
   "metadata": {},
   "source": [
    "### DIGITAL ACCOUNT SML"
   ]
  },
  {
   "cell_type": "code",
   "execution_count": null,
   "id": "38321533",
   "metadata": {},
   "outputs": [],
   "source": [
    "sml_files = glob.glob(r'G:\\My Drive\\RESPALDO-PC\\DYNAMO\\2024\\01. ENERO\\SETTLEMENT MASTER LOG\\*.tsv', recursive=False)\n",
    "sml_files"
   ]
  },
  {
   "cell_type": "markdown",
   "id": "baf7556d",
   "metadata": {},
   "source": [
    "### DIGITAL ACCOUNT AP JOURNAL"
   ]
  },
  {
   "cell_type": "code",
   "execution_count": 3,
   "id": "932c2ffa",
   "metadata": {},
   "outputs": [
    {
     "data": {
      "text/plain": [
       "['C:\\\\Users\\\\Cristian.Aparicio\\\\Documents\\\\DIGITAL ACCOUNTS\\\\2024\\\\01. ENERO\\\\QUERIES\\\\AP_JOURNAL_DIG_ACC_ATTRIBUTES.tsv']"
      ]
     },
     "execution_count": 3,
     "metadata": {},
     "output_type": "execute_result"
    }
   ],
   "source": [
    "ap_files = glob.glob(r'C:\\Users\\Cristian.Aparicio\\Documents\\DIGITAL ACCOUNTS\\2024\\01. ENERO\\QUERIES\\AP_JOURNAL_DIG_ACC_ATTRIBUTES.tsv', recursive=False)\n",
    "ap_files"
   ]
  },
  {
   "cell_type": "markdown",
   "id": "b8732505",
   "metadata": {},
   "source": [
    "### DIGITAL ACCOUNT AP JOURNAL FONDEO"
   ]
  },
  {
   "cell_type": "code",
   "execution_count": null,
   "id": "095a8ed8",
   "metadata": {},
   "outputs": [],
   "source": [
    "ap_fondeo_files = glob.glob(r'C:\\Users\\Cristian.Aparicio\\Documents\\DIGITAL ACCOUNTS\\2024\\01. ENERO\\QUERIES\\AP-JOURNAL-DATA*.csv', recursive=False)\n",
    "ap_fondeo_files"
   ]
  },
  {
   "cell_type": "markdown",
   "id": "9e3e3742",
   "metadata": {},
   "source": [
    "### DIGITAL ACCOUNT AP-PAYOUTS"
   ]
  },
  {
   "cell_type": "code",
   "execution_count": null,
   "id": "ba1e1711",
   "metadata": {},
   "outputs": [],
   "source": [
    "ap_payouts_files = glob.glob(r'C:\\Users\\Cristian.Aparicio\\Documents\\DIGITAL ACCOUNTS\\2024\\01. ENERO\\QUERIES\\DIGITAL_ACCOUNT_AP_PAY*.csv', recursive=False)\n",
    "ap_payouts_files"
   ]
  },
  {
   "cell_type": "markdown",
   "id": "0591203c",
   "metadata": {},
   "source": [
    "### DIGITAL ACCOUNT MERCHANT ATTRIBUTES"
   ]
  },
  {
   "cell_type": "code",
   "execution_count": null,
   "id": "521d7069",
   "metadata": {},
   "outputs": [],
   "source": [
    "me_att_files = glob.glob(r'C:\\Users\\Cristian.Aparicio\\Documents\\DIGITAL ACCOUNTS\\2024\\01. ENERO\\QUERIES\\DIGITAL_ACCOUNT_ME*.csv', recursive=False)\n",
    "me_att_files"
   ]
  },
  {
   "cell_type": "markdown",
   "id": "bf9da3cf",
   "metadata": {},
   "source": [
    "# DATA SETTLEMENT MASTER LOG"
   ]
  },
  {
   "cell_type": "code",
   "execution_count": null,
   "id": "27c65ab3",
   "metadata": {},
   "outputs": [],
   "source": [
    "sml = pd.concat([pd.read_csv(f,sep='\\t').assign(file_name=os.path.basename(f)) for f in sml_files])\n",
    "sml.columns = sml.columns.str.strip().str.lower()\n",
    "sml.replace('\"\"','', regex=True, inplace=True)\n",
    "# sml['created_at'] = pd.to_datetime(sml['created_at']).dt.tz_localize(None)\n",
    "# sml['eff_dt'] = pd.to_datetime(sml['eff_dt']).dt.tz_localize(None)\n",
    "# sml.rename(columns={'ref_id':'transaction_id'},inplace=True)\n",
    "#sml['PK'] = sml['PK'].replace('M#','',inplace=True)\n",
    "sml.head()"
   ]
  },
  {
   "cell_type": "code",
   "execution_count": null,
   "id": "bb5c429d",
   "metadata": {},
   "outputs": [],
   "source": [
    "sml.shape"
   ]
  },
  {
   "cell_type": "code",
   "execution_count": null,
   "id": "aae153e9",
   "metadata": {},
   "outputs": [],
   "source": [
    "sml.dtypes"
   ]
  },
  {
   "cell_type": "code",
   "execution_count": null,
   "id": "0aee293f",
   "metadata": {},
   "outputs": [],
   "source": [
    "sml_final = sml[(sml['mvnt_type'] == 'STL_PCS_RQ')]\n",
    "sml_final.head()"
   ]
  },
  {
   "cell_type": "code",
   "execution_count": null,
   "id": "f0afff80",
   "metadata": {},
   "outputs": [],
   "source": [
    "sml_final.shape"
   ]
  },
  {
   "cell_type": "code",
   "execution_count": null,
   "id": "b1ab3119",
   "metadata": {},
   "outputs": [],
   "source": [
    "duplicates_sml = sml_final[sml_final.duplicated(['mvnt_id'] , keep=False)]\n",
    "duplicates_sml.head()"
   ]
  },
  {
   "cell_type": "code",
   "execution_count": null,
   "id": "cd377d18",
   "metadata": {},
   "outputs": [],
   "source": [
    "duplicates_sml.shape"
   ]
  },
  {
   "cell_type": "code",
   "execution_count": null,
   "id": "782e226f",
   "metadata": {},
   "outputs": [],
   "source": [
    "sorted(list(sml_final['pymt_prg'].unique()))"
   ]
  },
  {
   "cell_type": "code",
   "execution_count": null,
   "id": "9fe9716a-f44e-4fc5-a1df-b6436cf887e8",
   "metadata": {},
   "outputs": [],
   "source": [
    "sml_dig_acc_final = sml[(sml['pymt_prg'] == 'DIGITAL_ACCOUNT')]\n",
    "sml_dig_acc_final.head()"
   ]
  },
  {
   "cell_type": "code",
   "execution_count": null,
   "id": "0c6108c3-d8e6-4a86-bd6d-9399a0f5f685",
   "metadata": {},
   "outputs": [],
   "source": [
    "sml_dig_acc_final.shape"
   ]
  },
  {
   "cell_type": "markdown",
   "id": "05244115",
   "metadata": {},
   "source": [
    "# DATA AP JOURNAL"
   ]
  },
  {
   "cell_type": "code",
   "execution_count": 4,
   "id": "2ab36c04",
   "metadata": {},
   "outputs": [
    {
     "data": {
      "text/html": [
       "<div>\n",
       "<style scoped>\n",
       "    .dataframe tbody tr th:only-of-type {\n",
       "        vertical-align: middle;\n",
       "    }\n",
       "\n",
       "    .dataframe tbody tr th {\n",
       "        vertical-align: top;\n",
       "    }\n",
       "\n",
       "    .dataframe thead th {\n",
       "        text-align: right;\n",
       "    }\n",
       "</style>\n",
       "<table border=\"1\" class=\"dataframe\">\n",
       "  <thead>\n",
       "    <tr style=\"text-align: right;\">\n",
       "      <th></th>\n",
       "      <th>start_timestamp_inferred</th>\n",
       "      <th>merchant_id</th>\n",
       "      <th>date_key</th>\n",
       "      <th>acct_id</th>\n",
       "      <th>amount</th>\n",
       "      <th>currency</th>\n",
       "      <th>type_request</th>\n",
       "      <th>mvnt_id</th>\n",
       "      <th>movement_type</th>\n",
       "      <th>source_type</th>\n",
       "      <th>...</th>\n",
       "      <th>created_at_cdmx</th>\n",
       "      <th>created_at</th>\n",
       "      <th>eff_dt_cdmx</th>\n",
       "      <th>eff_dt</th>\n",
       "      <th>movement_day</th>\n",
       "      <th>request_effective_date</th>\n",
       "      <th>slot_date</th>\n",
       "      <th>file_name</th>\n",
       "      <th>eff_dt_date</th>\n",
       "      <th>eff_dt_time</th>\n",
       "    </tr>\n",
       "  </thead>\n",
       "  <tbody>\n",
       "    <tr>\n",
       "      <th>2755</th>\n",
       "      <td>2024-01-18 02:04:29</td>\n",
       "      <td>00582129-7c7d-46b0-b36c-f1a70e2daeb7</td>\n",
       "      <td>2024-01-18</td>\n",
       "      <td>M#00582129-7c7d-46b0-b36c-f1a70e2daeb7</td>\n",
       "      <td>0.01</td>\n",
       "      <td>MXN</td>\n",
       "      <td>CLIP CUENTA REGISTRADA</td>\n",
       "      <td>c8115df9-794d-42a5-b616-03709a09dcd9</td>\n",
       "      <td>DWN_PAYMENT_DA_RQ</td>\n",
       "      <td>DIG_ACC</td>\n",
       "      <td>...</td>\n",
       "      <td>2024-01-17T20:04:24Z</td>\n",
       "      <td>2024-01-18 02:04:24</td>\n",
       "      <td>2024-01-17T20:04:29Z</td>\n",
       "      <td>2024-01-18 02:04:29</td>\n",
       "      <td>2024-01-17T20:04:23Z</td>\n",
       "      <td>2024-01-17T20:04:23Z</td>\n",
       "      <td>1969-12-31T18:00:00Z</td>\n",
       "      <td>AP_JOURNAL_DIG_ACC_ATTRIBUTES.tsv</td>\n",
       "      <td>2024-01-18</td>\n",
       "      <td>02:04:29</td>\n",
       "    </tr>\n",
       "    <tr>\n",
       "      <th>686</th>\n",
       "      <td>2024-01-24 17:59:03</td>\n",
       "      <td>00cae684-a15a-4fe7-a5aa-50bd3cd9882b</td>\n",
       "      <td>2024-01-24</td>\n",
       "      <td>M#00cae684-a15a-4fe7-a5aa-50bd3cd9882b</td>\n",
       "      <td>-9.58</td>\n",
       "      <td>MXN</td>\n",
       "      <td>prueba</td>\n",
       "      <td>6adec0ae-92f3-4cda-bd3f-415c949042a8</td>\n",
       "      <td>PYMNT_DA_RQ</td>\n",
       "      <td>DIG_ACC</td>\n",
       "      <td>...</td>\n",
       "      <td>2024-01-24T12:13:09Z</td>\n",
       "      <td>2024-01-24 18:13:09</td>\n",
       "      <td>2024-01-24T12:13:14Z</td>\n",
       "      <td>2024-01-24 18:13:14</td>\n",
       "      <td>2024-01-24T12:13:01Z</td>\n",
       "      <td>2024-01-24T12:13:08Z</td>\n",
       "      <td>1969-12-31T18:00:00Z</td>\n",
       "      <td>AP_JOURNAL_DIG_ACC_ATTRIBUTES.tsv</td>\n",
       "      <td>2024-01-24</td>\n",
       "      <td>18:13:14</td>\n",
       "    </tr>\n",
       "    <tr>\n",
       "      <th>4235</th>\n",
       "      <td>2024-01-24 17:59:03</td>\n",
       "      <td>00cae684-a15a-4fe7-a5aa-50bd3cd9882b</td>\n",
       "      <td>2024-01-24</td>\n",
       "      <td>M#00cae684-a15a-4fe7-a5aa-50bd3cd9882b</td>\n",
       "      <td>9.58</td>\n",
       "      <td>MXN</td>\n",
       "      <td>settlement processor regular payment request</td>\n",
       "      <td>231412b7-9cd7-451c-90e9-4085724a49ea</td>\n",
       "      <td>REGULAR_PYMT_RQ</td>\n",
       "      <td>SETT</td>\n",
       "      <td>...</td>\n",
       "      <td>2024-01-24T11:58:58Z</td>\n",
       "      <td>2024-01-24 17:58:58</td>\n",
       "      <td>2024-01-24T11:59:03Z</td>\n",
       "      <td>2024-01-24 17:59:03</td>\n",
       "      <td>2024-01-24T11:58:58Z</td>\n",
       "      <td>2024-01-24T11:58:58Z</td>\n",
       "      <td>1969-12-31T18:00:00Z</td>\n",
       "      <td>AP_JOURNAL_DIG_ACC_ATTRIBUTES.tsv</td>\n",
       "      <td>2024-01-24</td>\n",
       "      <td>17:59:03</td>\n",
       "    </tr>\n",
       "    <tr>\n",
       "      <th>1645</th>\n",
       "      <td>2024-01-15 02:15:53</td>\n",
       "      <td>0123ca46-36c0-4ff6-a76b-950419d81b77</td>\n",
       "      <td>2024-01-15</td>\n",
       "      <td>M#0123ca46-36c0-4ff6-a76b-950419d81b77</td>\n",
       "      <td>0.01</td>\n",
       "      <td>MXN</td>\n",
       "      <td>CLIP CUENTA REGISTRADA</td>\n",
       "      <td>2e4c28aa-625d-4b0a-b4bd-37ba7bc07095</td>\n",
       "      <td>DWN_PAYMENT_DA_RQ</td>\n",
       "      <td>DIG_ACC</td>\n",
       "      <td>...</td>\n",
       "      <td>2024-01-14T20:15:48Z</td>\n",
       "      <td>2024-01-15 02:15:48</td>\n",
       "      <td>2024-01-14T20:15:53Z</td>\n",
       "      <td>2024-01-15 02:15:53</td>\n",
       "      <td>2024-01-14T20:15:47Z</td>\n",
       "      <td>2024-01-14T20:15:47Z</td>\n",
       "      <td>1969-12-31T18:00:00Z</td>\n",
       "      <td>AP_JOURNAL_DIG_ACC_ATTRIBUTES.tsv</td>\n",
       "      <td>2024-01-15</td>\n",
       "      <td>02:15:53</td>\n",
       "    </tr>\n",
       "    <tr>\n",
       "      <th>5547</th>\n",
       "      <td>2024-01-21 15:36:35</td>\n",
       "      <td>01717e35-d689-4abe-b578-374b5b085db4</td>\n",
       "      <td>2024-01-21</td>\n",
       "      <td>M#01717e35-d689-4abe-b578-374b5b085db4</td>\n",
       "      <td>0.01</td>\n",
       "      <td>MXN</td>\n",
       "      <td>CLIP CUENTA REGISTRADA</td>\n",
       "      <td>52882271-4dfa-4912-b17c-cc77f87f32a1</td>\n",
       "      <td>DWN_PAYMENT_DA_RQ</td>\n",
       "      <td>DIG_ACC</td>\n",
       "      <td>...</td>\n",
       "      <td>2024-01-21T09:36:30Z</td>\n",
       "      <td>2024-01-21 15:36:30</td>\n",
       "      <td>2024-01-21T09:36:35Z</td>\n",
       "      <td>2024-01-21 15:36:35</td>\n",
       "      <td>2024-01-21T09:36:29Z</td>\n",
       "      <td>2024-01-21T09:36:29Z</td>\n",
       "      <td>1969-12-31T18:00:00Z</td>\n",
       "      <td>AP_JOURNAL_DIG_ACC_ATTRIBUTES.tsv</td>\n",
       "      <td>2024-01-21</td>\n",
       "      <td>15:36:35</td>\n",
       "    </tr>\n",
       "  </tbody>\n",
       "</table>\n",
       "<p>5 rows × 21 columns</p>\n",
       "</div>"
      ],
      "text/plain": [
       "     start_timestamp_inferred                           merchant_id  \\\n",
       "2755      2024-01-18 02:04:29  00582129-7c7d-46b0-b36c-f1a70e2daeb7   \n",
       "686       2024-01-24 17:59:03  00cae684-a15a-4fe7-a5aa-50bd3cd9882b   \n",
       "4235      2024-01-24 17:59:03  00cae684-a15a-4fe7-a5aa-50bd3cd9882b   \n",
       "1645      2024-01-15 02:15:53  0123ca46-36c0-4ff6-a76b-950419d81b77   \n",
       "5547      2024-01-21 15:36:35  01717e35-d689-4abe-b578-374b5b085db4   \n",
       "\n",
       "        date_key                                 acct_id  amount currency  \\\n",
       "2755  2024-01-18  M#00582129-7c7d-46b0-b36c-f1a70e2daeb7    0.01      MXN   \n",
       "686   2024-01-24  M#00cae684-a15a-4fe7-a5aa-50bd3cd9882b   -9.58      MXN   \n",
       "4235  2024-01-24  M#00cae684-a15a-4fe7-a5aa-50bd3cd9882b    9.58      MXN   \n",
       "1645  2024-01-15  M#0123ca46-36c0-4ff6-a76b-950419d81b77    0.01      MXN   \n",
       "5547  2024-01-21  M#01717e35-d689-4abe-b578-374b5b085db4    0.01      MXN   \n",
       "\n",
       "                                      type_request  \\\n",
       "2755                        CLIP CUENTA REGISTRADA   \n",
       "686                                         prueba   \n",
       "4235  settlement processor regular payment request   \n",
       "1645                        CLIP CUENTA REGISTRADA   \n",
       "5547                        CLIP CUENTA REGISTRADA   \n",
       "\n",
       "                                   mvnt_id      movement_type source_type  \\\n",
       "2755  c8115df9-794d-42a5-b616-03709a09dcd9  DWN_PAYMENT_DA_RQ     DIG_ACC   \n",
       "686   6adec0ae-92f3-4cda-bd3f-415c949042a8        PYMNT_DA_RQ     DIG_ACC   \n",
       "4235  231412b7-9cd7-451c-90e9-4085724a49ea    REGULAR_PYMT_RQ        SETT   \n",
       "1645  2e4c28aa-625d-4b0a-b4bd-37ba7bc07095  DWN_PAYMENT_DA_RQ     DIG_ACC   \n",
       "5547  52882271-4dfa-4912-b17c-cc77f87f32a1  DWN_PAYMENT_DA_RQ     DIG_ACC   \n",
       "\n",
       "      ...       created_at_cdmx          created_at           eff_dt_cdmx  \\\n",
       "2755  ...  2024-01-17T20:04:24Z 2024-01-18 02:04:24  2024-01-17T20:04:29Z   \n",
       "686   ...  2024-01-24T12:13:09Z 2024-01-24 18:13:09  2024-01-24T12:13:14Z   \n",
       "4235  ...  2024-01-24T11:58:58Z 2024-01-24 17:58:58  2024-01-24T11:59:03Z   \n",
       "1645  ...  2024-01-14T20:15:48Z 2024-01-15 02:15:48  2024-01-14T20:15:53Z   \n",
       "5547  ...  2024-01-21T09:36:30Z 2024-01-21 15:36:30  2024-01-21T09:36:35Z   \n",
       "\n",
       "                  eff_dt          movement_day request_effective_date  \\\n",
       "2755 2024-01-18 02:04:29  2024-01-17T20:04:23Z   2024-01-17T20:04:23Z   \n",
       "686  2024-01-24 18:13:14  2024-01-24T12:13:01Z   2024-01-24T12:13:08Z   \n",
       "4235 2024-01-24 17:59:03  2024-01-24T11:58:58Z   2024-01-24T11:58:58Z   \n",
       "1645 2024-01-15 02:15:53  2024-01-14T20:15:47Z   2024-01-14T20:15:47Z   \n",
       "5547 2024-01-21 15:36:35  2024-01-21T09:36:29Z   2024-01-21T09:36:29Z   \n",
       "\n",
       "                 slot_date                          file_name eff_dt_date  \\\n",
       "2755  1969-12-31T18:00:00Z  AP_JOURNAL_DIG_ACC_ATTRIBUTES.tsv  2024-01-18   \n",
       "686   1969-12-31T18:00:00Z  AP_JOURNAL_DIG_ACC_ATTRIBUTES.tsv  2024-01-24   \n",
       "4235  1969-12-31T18:00:00Z  AP_JOURNAL_DIG_ACC_ATTRIBUTES.tsv  2024-01-24   \n",
       "1645  1969-12-31T18:00:00Z  AP_JOURNAL_DIG_ACC_ATTRIBUTES.tsv  2024-01-15   \n",
       "5547  1969-12-31T18:00:00Z  AP_JOURNAL_DIG_ACC_ATTRIBUTES.tsv  2024-01-21   \n",
       "\n",
       "     eff_dt_time  \n",
       "2755    02:04:29  \n",
       "686     18:13:14  \n",
       "4235    17:59:03  \n",
       "1645    02:15:53  \n",
       "5547    15:36:35  \n",
       "\n",
       "[5 rows x 21 columns]"
      ]
     },
     "execution_count": 4,
     "metadata": {},
     "output_type": "execute_result"
    }
   ],
   "source": [
    "ap = pd.concat([pd.read_csv(f, sep='\\t').assign(file_name=os.path.basename(f)) for f in ap_files])\n",
    "ap.columns = ap.columns.str.strip().str.lower()\n",
    "ap.replace('\"\"','', regex=True, inplace=True)\n",
    "ap['eff_dt'] =  pd.to_datetime(ap['eff_dt']).dt.tz_localize(None)\n",
    "ap['eff_dt_date'] =  pd.to_datetime(ap['eff_dt']).dt.date\n",
    "ap['eff_dt_time'] =  pd.to_datetime(ap['eff_dt']).dt.time\n",
    "#ap['eff_dt_date'] =  pd.to_datetime(ap['eff_dt_date']).dt.tz_localize(None)\n",
    "#ap['movement_day'] = pd.to_datetime(ap['movement_day']).dt.tz_localize(None)\n",
    "ap['created_at'] = pd.to_datetime(ap['created_at']).dt.tz_localize(None)\n",
    "#ap['request_effective_date'] = pd.to_datetime(ap['request_effective_date']).dt.tz_localize(None)\n",
    "#ap['slot_date'] = pd.to_datetime(ap['slot_date']).dt.tz_localize(None)\n",
    "# ap['identifier'] = ap['source_type'].str[:1].astype(str)\n",
    "# ap['INDEX'] = (ap['eff_dt_date'].astype(str).replace(' ', '',regex=True)+'-'+\n",
    "#                ap['identifier'].astype(str).replace(' ', '',regex=True)+'-'+\n",
    "#                ap['eff_dt_time'].astype(str).replace(' ', '',regex=True))\n",
    "ap.sort_values(by=(['merchant_id','eff_dt']), ascending=[True,False], inplace=True)\n",
    "ap.head()"
   ]
  },
  {
   "cell_type": "code",
   "execution_count": 5,
   "id": "cfdd51e2",
   "metadata": {},
   "outputs": [
    {
     "data": {
      "text/plain": [
       "(6050, 21)"
      ]
     },
     "execution_count": 5,
     "metadata": {},
     "output_type": "execute_result"
    }
   ],
   "source": [
    "ap.shape"
   ]
  },
  {
   "cell_type": "code",
   "execution_count": 6,
   "id": "cdc577ee",
   "metadata": {},
   "outputs": [
    {
     "data": {
      "text/plain": [
       "start_timestamp_inferred            object\n",
       "merchant_id                         object\n",
       "date_key                            object\n",
       "acct_id                             object\n",
       "amount                             float64\n",
       "currency                            object\n",
       "type_request                        object\n",
       "mvnt_id                             object\n",
       "movement_type                       object\n",
       "source_type                         object\n",
       "merchant_attribute                  object\n",
       "created_at_cdmx                     object\n",
       "created_at                  datetime64[ns]\n",
       "eff_dt_cdmx                         object\n",
       "eff_dt                      datetime64[ns]\n",
       "movement_day                        object\n",
       "request_effective_date              object\n",
       "slot_date                           object\n",
       "file_name                           object\n",
       "eff_dt_date                         object\n",
       "eff_dt_time                         object\n",
       "dtype: object"
      ]
     },
     "execution_count": 6,
     "metadata": {},
     "output_type": "execute_result"
    }
   ],
   "source": [
    "ap.dtypes"
   ]
  },
  {
   "cell_type": "code",
   "execution_count": 7,
   "id": "56f6d26e-2781-4de8-82b9-6b512a1fc15a",
   "metadata": {},
   "outputs": [],
   "source": [
    "ap.reset_index(drop=True,inplace=True)"
   ]
  },
  {
   "cell_type": "code",
   "execution_count": 8,
   "id": "8d4ef068-c0bd-4578-8de2-4718b72fed03",
   "metadata": {},
   "outputs": [
    {
     "data": {
      "text/html": [
       "<div>\n",
       "<style scoped>\n",
       "    .dataframe tbody tr th:only-of-type {\n",
       "        vertical-align: middle;\n",
       "    }\n",
       "\n",
       "    .dataframe tbody tr th {\n",
       "        vertical-align: top;\n",
       "    }\n",
       "\n",
       "    .dataframe thead th {\n",
       "        text-align: right;\n",
       "    }\n",
       "</style>\n",
       "<table border=\"1\" class=\"dataframe\">\n",
       "  <thead>\n",
       "    <tr style=\"text-align: right;\">\n",
       "      <th></th>\n",
       "      <th>start_timestamp_inferred</th>\n",
       "      <th>merchant_id</th>\n",
       "      <th>date_key</th>\n",
       "      <th>acct_id</th>\n",
       "      <th>amount</th>\n",
       "      <th>currency</th>\n",
       "      <th>type_request</th>\n",
       "      <th>mvnt_id</th>\n",
       "      <th>movement_type</th>\n",
       "      <th>source_type</th>\n",
       "      <th>...</th>\n",
       "      <th>eff_dt_cdmx</th>\n",
       "      <th>eff_dt</th>\n",
       "      <th>movement_day</th>\n",
       "      <th>request_effective_date</th>\n",
       "      <th>slot_date</th>\n",
       "      <th>file_name</th>\n",
       "      <th>eff_dt_date</th>\n",
       "      <th>eff_dt_time</th>\n",
       "      <th>report_id</th>\n",
       "      <th>report_id_final</th>\n",
       "    </tr>\n",
       "  </thead>\n",
       "  <tbody>\n",
       "    <tr>\n",
       "      <th>0</th>\n",
       "      <td>2024-01-18 02:04:29</td>\n",
       "      <td>00582129-7c7d-46b0-b36c-f1a70e2daeb7</td>\n",
       "      <td>2024-01-18</td>\n",
       "      <td>M#00582129-7c7d-46b0-b36c-f1a70e2daeb7</td>\n",
       "      <td>0.01</td>\n",
       "      <td>MXN</td>\n",
       "      <td>CLIP CUENTA REGISTRADA</td>\n",
       "      <td>c8115df9-794d-42a5-b616-03709a09dcd9</td>\n",
       "      <td>DWN_PAYMENT_DA_RQ</td>\n",
       "      <td>DIG_ACC</td>\n",
       "      <td>...</td>\n",
       "      <td>2024-01-17T20:04:29Z</td>\n",
       "      <td>2024-01-18 02:04:29</td>\n",
       "      <td>2024-01-17T20:04:23Z</td>\n",
       "      <td>2024-01-17T20:04:23Z</td>\n",
       "      <td>1969-12-31T18:00:00Z</td>\n",
       "      <td>AP_JOURNAL_DIG_ACC_ATTRIBUTES.tsv</td>\n",
       "      <td>2024-01-18</td>\n",
       "      <td>02:04:29</td>\n",
       "      <td>CLIP CUENTA REGISTRADA</td>\n",
       "      <td>CLIP CUENTA REGISTRADA</td>\n",
       "    </tr>\n",
       "    <tr>\n",
       "      <th>1</th>\n",
       "      <td>2024-01-24 17:59:03</td>\n",
       "      <td>00cae684-a15a-4fe7-a5aa-50bd3cd9882b</td>\n",
       "      <td>2024-01-24</td>\n",
       "      <td>M#00cae684-a15a-4fe7-a5aa-50bd3cd9882b</td>\n",
       "      <td>-9.58</td>\n",
       "      <td>MXN</td>\n",
       "      <td>prueba</td>\n",
       "      <td>6adec0ae-92f3-4cda-bd3f-415c949042a8</td>\n",
       "      <td>PYMNT_DA_RQ</td>\n",
       "      <td>DIG_ACC</td>\n",
       "      <td>...</td>\n",
       "      <td>2024-01-24T12:13:14Z</td>\n",
       "      <td>2024-01-24 18:13:14</td>\n",
       "      <td>2024-01-24T12:13:01Z</td>\n",
       "      <td>2024-01-24T12:13:08Z</td>\n",
       "      <td>1969-12-31T18:00:00Z</td>\n",
       "      <td>AP_JOURNAL_DIG_ACC_ATTRIBUTES.tsv</td>\n",
       "      <td>2024-01-24</td>\n",
       "      <td>18:13:14</td>\n",
       "      <td>NaN</td>\n",
       "      <td>NaN</td>\n",
       "    </tr>\n",
       "    <tr>\n",
       "      <th>2</th>\n",
       "      <td>2024-01-24 17:59:03</td>\n",
       "      <td>00cae684-a15a-4fe7-a5aa-50bd3cd9882b</td>\n",
       "      <td>2024-01-24</td>\n",
       "      <td>M#00cae684-a15a-4fe7-a5aa-50bd3cd9882b</td>\n",
       "      <td>9.58</td>\n",
       "      <td>MXN</td>\n",
       "      <td>settlement processor regular payment request</td>\n",
       "      <td>231412b7-9cd7-451c-90e9-4085724a49ea</td>\n",
       "      <td>REGULAR_PYMT_RQ</td>\n",
       "      <td>SETT</td>\n",
       "      <td>...</td>\n",
       "      <td>2024-01-24T11:59:03Z</td>\n",
       "      <td>2024-01-24 17:59:03</td>\n",
       "      <td>2024-01-24T11:58:58Z</td>\n",
       "      <td>2024-01-24T11:58:58Z</td>\n",
       "      <td>1969-12-31T18:00:00Z</td>\n",
       "      <td>AP_JOURNAL_DIG_ACC_ATTRIBUTES.tsv</td>\n",
       "      <td>2024-01-24</td>\n",
       "      <td>17:59:03</td>\n",
       "      <td>NaN</td>\n",
       "      <td>NaN</td>\n",
       "    </tr>\n",
       "    <tr>\n",
       "      <th>3</th>\n",
       "      <td>2024-01-15 02:15:53</td>\n",
       "      <td>0123ca46-36c0-4ff6-a76b-950419d81b77</td>\n",
       "      <td>2024-01-15</td>\n",
       "      <td>M#0123ca46-36c0-4ff6-a76b-950419d81b77</td>\n",
       "      <td>0.01</td>\n",
       "      <td>MXN</td>\n",
       "      <td>CLIP CUENTA REGISTRADA</td>\n",
       "      <td>2e4c28aa-625d-4b0a-b4bd-37ba7bc07095</td>\n",
       "      <td>DWN_PAYMENT_DA_RQ</td>\n",
       "      <td>DIG_ACC</td>\n",
       "      <td>...</td>\n",
       "      <td>2024-01-14T20:15:53Z</td>\n",
       "      <td>2024-01-15 02:15:53</td>\n",
       "      <td>2024-01-14T20:15:47Z</td>\n",
       "      <td>2024-01-14T20:15:47Z</td>\n",
       "      <td>1969-12-31T18:00:00Z</td>\n",
       "      <td>AP_JOURNAL_DIG_ACC_ATTRIBUTES.tsv</td>\n",
       "      <td>2024-01-15</td>\n",
       "      <td>02:15:53</td>\n",
       "      <td>CLIP CUENTA REGISTRADA</td>\n",
       "      <td>CLIP CUENTA REGISTRADA</td>\n",
       "    </tr>\n",
       "    <tr>\n",
       "      <th>4</th>\n",
       "      <td>2024-01-21 15:36:35</td>\n",
       "      <td>01717e35-d689-4abe-b578-374b5b085db4</td>\n",
       "      <td>2024-01-21</td>\n",
       "      <td>M#01717e35-d689-4abe-b578-374b5b085db4</td>\n",
       "      <td>0.01</td>\n",
       "      <td>MXN</td>\n",
       "      <td>CLIP CUENTA REGISTRADA</td>\n",
       "      <td>52882271-4dfa-4912-b17c-cc77f87f32a1</td>\n",
       "      <td>DWN_PAYMENT_DA_RQ</td>\n",
       "      <td>DIG_ACC</td>\n",
       "      <td>...</td>\n",
       "      <td>2024-01-21T09:36:35Z</td>\n",
       "      <td>2024-01-21 15:36:35</td>\n",
       "      <td>2024-01-21T09:36:29Z</td>\n",
       "      <td>2024-01-21T09:36:29Z</td>\n",
       "      <td>1969-12-31T18:00:00Z</td>\n",
       "      <td>AP_JOURNAL_DIG_ACC_ATTRIBUTES.tsv</td>\n",
       "      <td>2024-01-21</td>\n",
       "      <td>15:36:35</td>\n",
       "      <td>CLIP CUENTA REGISTRADA</td>\n",
       "      <td>CLIP CUENTA REGISTRADA</td>\n",
       "    </tr>\n",
       "  </tbody>\n",
       "</table>\n",
       "<p>5 rows × 23 columns</p>\n",
       "</div>"
      ],
      "text/plain": [
       "  start_timestamp_inferred                           merchant_id    date_key  \\\n",
       "0      2024-01-18 02:04:29  00582129-7c7d-46b0-b36c-f1a70e2daeb7  2024-01-18   \n",
       "1      2024-01-24 17:59:03  00cae684-a15a-4fe7-a5aa-50bd3cd9882b  2024-01-24   \n",
       "2      2024-01-24 17:59:03  00cae684-a15a-4fe7-a5aa-50bd3cd9882b  2024-01-24   \n",
       "3      2024-01-15 02:15:53  0123ca46-36c0-4ff6-a76b-950419d81b77  2024-01-15   \n",
       "4      2024-01-21 15:36:35  01717e35-d689-4abe-b578-374b5b085db4  2024-01-21   \n",
       "\n",
       "                                  acct_id  amount currency  \\\n",
       "0  M#00582129-7c7d-46b0-b36c-f1a70e2daeb7    0.01      MXN   \n",
       "1  M#00cae684-a15a-4fe7-a5aa-50bd3cd9882b   -9.58      MXN   \n",
       "2  M#00cae684-a15a-4fe7-a5aa-50bd3cd9882b    9.58      MXN   \n",
       "3  M#0123ca46-36c0-4ff6-a76b-950419d81b77    0.01      MXN   \n",
       "4  M#01717e35-d689-4abe-b578-374b5b085db4    0.01      MXN   \n",
       "\n",
       "                                   type_request  \\\n",
       "0                        CLIP CUENTA REGISTRADA   \n",
       "1                                        prueba   \n",
       "2  settlement processor regular payment request   \n",
       "3                        CLIP CUENTA REGISTRADA   \n",
       "4                        CLIP CUENTA REGISTRADA   \n",
       "\n",
       "                                mvnt_id      movement_type source_type  ...  \\\n",
       "0  c8115df9-794d-42a5-b616-03709a09dcd9  DWN_PAYMENT_DA_RQ     DIG_ACC  ...   \n",
       "1  6adec0ae-92f3-4cda-bd3f-415c949042a8        PYMNT_DA_RQ     DIG_ACC  ...   \n",
       "2  231412b7-9cd7-451c-90e9-4085724a49ea    REGULAR_PYMT_RQ        SETT  ...   \n",
       "3  2e4c28aa-625d-4b0a-b4bd-37ba7bc07095  DWN_PAYMENT_DA_RQ     DIG_ACC  ...   \n",
       "4  52882271-4dfa-4912-b17c-cc77f87f32a1  DWN_PAYMENT_DA_RQ     DIG_ACC  ...   \n",
       "\n",
       "            eff_dt_cdmx              eff_dt          movement_day  \\\n",
       "0  2024-01-17T20:04:29Z 2024-01-18 02:04:29  2024-01-17T20:04:23Z   \n",
       "1  2024-01-24T12:13:14Z 2024-01-24 18:13:14  2024-01-24T12:13:01Z   \n",
       "2  2024-01-24T11:59:03Z 2024-01-24 17:59:03  2024-01-24T11:58:58Z   \n",
       "3  2024-01-14T20:15:53Z 2024-01-15 02:15:53  2024-01-14T20:15:47Z   \n",
       "4  2024-01-21T09:36:35Z 2024-01-21 15:36:35  2024-01-21T09:36:29Z   \n",
       "\n",
       "  request_effective_date             slot_date  \\\n",
       "0   2024-01-17T20:04:23Z  1969-12-31T18:00:00Z   \n",
       "1   2024-01-24T12:13:08Z  1969-12-31T18:00:00Z   \n",
       "2   2024-01-24T11:58:58Z  1969-12-31T18:00:00Z   \n",
       "3   2024-01-14T20:15:47Z  1969-12-31T18:00:00Z   \n",
       "4   2024-01-21T09:36:29Z  1969-12-31T18:00:00Z   \n",
       "\n",
       "                           file_name eff_dt_date eff_dt_time  \\\n",
       "0  AP_JOURNAL_DIG_ACC_ATTRIBUTES.tsv  2024-01-18    02:04:29   \n",
       "1  AP_JOURNAL_DIG_ACC_ATTRIBUTES.tsv  2024-01-24    18:13:14   \n",
       "2  AP_JOURNAL_DIG_ACC_ATTRIBUTES.tsv  2024-01-24    17:59:03   \n",
       "3  AP_JOURNAL_DIG_ACC_ATTRIBUTES.tsv  2024-01-15    02:15:53   \n",
       "4  AP_JOURNAL_DIG_ACC_ATTRIBUTES.tsv  2024-01-21    15:36:35   \n",
       "\n",
       "                report_id         report_id_final  \n",
       "0  CLIP CUENTA REGISTRADA  CLIP CUENTA REGISTRADA  \n",
       "1                     NaN                     NaN  \n",
       "2                     NaN                     NaN  \n",
       "3  CLIP CUENTA REGISTRADA  CLIP CUENTA REGISTRADA  \n",
       "4  CLIP CUENTA REGISTRADA  CLIP CUENTA REGISTRADA  \n",
       "\n",
       "[5 rows x 23 columns]"
      ]
     },
     "execution_count": 8,
     "metadata": {},
     "output_type": "execute_result"
    }
   ],
   "source": [
    "ap.loc[ap['movement_type'] == 'DWN_PAYMENT_DA_RQ', 'report_id'] = ap['type_request']\n",
    "ap['report_id_final'] = ap['report_id'].groupby(ap['merchant_id']).ffill()\n",
    "#ap['report_date_local_final'] = ap['report_date_local'].groupby(ap['merchant_id']).ffill()\n",
    "#ap['payment_date_local_final'] = ap['payment_date_local'].groupby(ap['merchant_id']).ffill()\n",
    "#ap['status_final'] = ap['status'].groupby(ap['merchant_id']).ffill()\n",
    "ap.head()"
   ]
  },
  {
   "cell_type": "code",
   "execution_count": 9,
   "id": "dabd12b7-f4a0-4d72-8556-82b67d864d50",
   "metadata": {},
   "outputs": [
    {
     "data": {
      "text/plain": [
       "(6050, 23)"
      ]
     },
     "execution_count": 9,
     "metadata": {},
     "output_type": "execute_result"
    }
   ],
   "source": [
    "ap.shape"
   ]
  },
  {
   "cell_type": "code",
   "execution_count": 10,
   "id": "d05e9f4d-aab7-4a89-bda0-bf62b941e1a6",
   "metadata": {},
   "outputs": [],
   "source": [
    "ap.to_excel('Producto_digital_account ENERO 2024.xlsx',index=False)"
   ]
  },
  {
   "cell_type": "code",
   "execution_count": null,
   "id": "6bc01cf1-2d50-45d6-a437-94a9440227c1",
   "metadata": {},
   "outputs": [],
   "source": [
    "ap['movement_type'].unique()"
   ]
  },
  {
   "cell_type": "code",
   "execution_count": null,
   "id": "ffb0945d-823a-448d-ae61-86d2fb74db2c",
   "metadata": {},
   "outputs": [],
   "source": [
    "ap_dig_acc_movs = ap[(ap['movement_type'] != 'PYMNT_DA_RQ')]\n",
    "ap_dig_acc_movs.head()"
   ]
  },
  {
   "cell_type": "code",
   "execution_count": null,
   "id": "0a18957c-a7c6-40d6-9ca2-908937ded696",
   "metadata": {},
   "outputs": [],
   "source": [
    "ap_dig_acc_movs.shape"
   ]
  },
  {
   "cell_type": "code",
   "execution_count": null,
   "id": "a74891dd-2539-4208-9c2f-885996653d2d",
   "metadata": {},
   "outputs": [],
   "source": [
    "ap_dig_acc_movs.loc[ap_dig_acc_movs['source_type'] == 'DIG_ACC', 'report_id_digital_account'] = ap_dig_acc_movs['type_request']\n",
    "ap_dig_acc_movs['report_id_digital_account'] = ap_dig_acc_movs['report_id_digital_account'].groupby(ap_dig_acc_movs['merchant_id']).ffill()\n",
    "ap_dig_acc_movs.head()"
   ]
  },
  {
   "cell_type": "code",
   "execution_count": null,
   "id": "387f9d43-df26-49f9-9fd1-ab2bc66a09f6",
   "metadata": {},
   "outputs": [],
   "source": [
    "ap_dig_acc_movs.shape"
   ]
  },
  {
   "cell_type": "code",
   "execution_count": null,
   "id": "c052c7ee-ae16-42ae-89df-05e1c47ef629",
   "metadata": {},
   "outputs": [],
   "source": [
    "ap_dig_acc_movs_dig_acct = ap_dig_acc_movs[(ap_dig_acc_movs['report_id_digital_account'].notnull())]\n",
    "ap_dig_acc_movs_dig_acct.head()"
   ]
  },
  {
   "cell_type": "code",
   "execution_count": null,
   "id": "a8dddd2f-db13-4c7d-b5dd-b43bc58bf6a1",
   "metadata": {},
   "outputs": [],
   "source": [
    "ap_dig_acc_movs_dig_acct.shape"
   ]
  },
  {
   "cell_type": "code",
   "execution_count": null,
   "id": "ba446ccb-7809-4ba9-8887-83d9241679e7",
   "metadata": {},
   "outputs": [],
   "source": [
    "ap_dig_acc_movs_dig_acct.to_csv('2.csv')"
   ]
  },
  {
   "cell_type": "code",
   "execution_count": null,
   "id": "533505bb",
   "metadata": {},
   "outputs": [],
   "source": [
    "sorted(list(ap_dig_acc_movs['source_type'].unique()))"
   ]
  },
  {
   "cell_type": "code",
   "execution_count": null,
   "id": "ecd83e91-c441-4f06-a760-9bbbd463a734",
   "metadata": {},
   "outputs": [],
   "source": [
    "sorted(list(ap_dig_acc_movs['movement_type'].unique()))"
   ]
  },
  {
   "cell_type": "code",
   "execution_count": null,
   "id": "f04ecb7a-0c28-4eb3-8d98-1a7ccf144736",
   "metadata": {},
   "outputs": [],
   "source": [
    "ap_dig_acc_movs['report_id_digital_account'].unique()"
   ]
  },
  {
   "cell_type": "code",
   "execution_count": null,
   "id": "acebd4f7",
   "metadata": {},
   "outputs": [],
   "source": [
    "ap_bill_pymnt = ap_dig_acc_movs[(ap_dig_acc_movs['source_type'] == 'BILL_PYMNT')]\n",
    "ap_caal = ap_dig_acc_movs[(ap_dig_acc_movs['source_type'] == 'CAAL')]\n",
    "ap_data = ap_dig_acc_movs[(ap_dig_acc_movs['source_type'] == 'DATA')]\n",
    "ap_dig_acc = ap_dig_acc_movs[(ap_dig_acc_movs['source_type'] == 'DIG_ACC')]\n",
    "ap_disb = ap_dig_acc_movs[(ap_dig_acc_movs['source_type'] == 'DISB')]\n",
    "ap_fee_refunds = ap_dig_acc_movs[(ap_dig_acc_movs['source_type'] == 'FEE_REFUNDS')]\n",
    "ap_loan = ap_dig_acc_movs[(ap_dig_acc_movs['source_type'] == 'LOAN')]\n",
    "ap_promo = ap_dig_acc_movs[(ap_dig_acc_movs['source_type'] == 'PROMO')]\n",
    "ap_pymt = ap_dig_acc_movs[(ap_dig_acc_movs['source_type'] == 'PYMT')]\n",
    "ap_refunds = ap_dig_acc_movs[(ap_dig_acc_movs['source_type'] == 'REFUNDS')]\n",
    "ap_risk = ap_dig_acc_movs[(ap_dig_acc_movs['source_type'] == 'RISK')]\n",
    "ap_sett = ap_dig_acc_movs[(ap_dig_acc_movs['source_type'] == 'SETT')]\n",
    "ap_sett_adptr = ap_dig_acc_movs[(ap_dig_acc_movs['source_type'] == 'SETT_ADPTR')]\n",
    "ap_taxes = ap_dig_acc_movs[(ap_dig_acc_movs['source_type'] == 'TAXES')]\n",
    "ap_topups = ap_dig_acc_movs[(ap_dig_acc_movs['source_type'] == 'TOPUPS')]"
   ]
  },
  {
   "cell_type": "markdown",
   "id": "9dbfd1fe",
   "metadata": {},
   "source": [
    "# CRUCE_1: DATA AP(SETT) VS. DATA SETTLEMENT MASTER LOG"
   ]
  },
  {
   "cell_type": "code",
   "execution_count": null,
   "id": "5ac42fe6-619b-4c4b-b143-3a826eb5b7a9",
   "metadata": {},
   "outputs": [],
   "source": [
    "ap_sett.head()"
   ]
  },
  {
   "cell_type": "code",
   "execution_count": null,
   "id": "d7deea99-d33b-4424-82bd-241c979ada67",
   "metadata": {},
   "outputs": [],
   "source": [
    "ap_sett.shape"
   ]
  },
  {
   "cell_type": "code",
   "execution_count": null,
   "id": "d0927411",
   "metadata": {},
   "outputs": [],
   "source": [
    "ap_sett['movement_type'].unique()"
   ]
  },
  {
   "cell_type": "code",
   "execution_count": null,
   "id": "5cde7cd5",
   "metadata": {},
   "outputs": [],
   "source": [
    "ap_sett.head()"
   ]
  },
  {
   "cell_type": "code",
   "execution_count": null,
   "id": "97484b76",
   "metadata": {},
   "outputs": [],
   "source": [
    "ap_sett.shape"
   ]
  },
  {
   "cell_type": "code",
   "execution_count": null,
   "id": "97623558",
   "metadata": {},
   "outputs": [],
   "source": [
    "cruce_1 = ap_sett.merge(sml_final[['mvnt_id','gross_amount','fees','taxes','net_amount','type','pymt_prg']],on='mvnt_id',how='left')\n",
    "cruce_1.head()"
   ]
  },
  {
   "cell_type": "code",
   "execution_count": null,
   "id": "976c9a63",
   "metadata": {},
   "outputs": [],
   "source": [
    "cruce_1.shape"
   ]
  },
  {
   "cell_type": "code",
   "execution_count": null,
   "id": "3092ca0d",
   "metadata": {},
   "outputs": [],
   "source": [
    "cruce_1_dig_acc = cruce_1[(cruce_1['pymt_prg'] == 'DIGITAL_ACCOUNT')]\n",
    "cruce_1_dig_acc.head()"
   ]
  },
  {
   "cell_type": "code",
   "execution_count": null,
   "id": "fc7e1a95-0228-46d9-a894-8d01271fc034",
   "metadata": {},
   "outputs": [],
   "source": [
    "cruce_1_dig_acc.shape"
   ]
  },
  {
   "cell_type": "code",
   "execution_count": null,
   "id": "353d547d-6a9f-4393-b7f2-110c21aebfe0",
   "metadata": {},
   "outputs": [],
   "source": [
    "cruce_1_dig_acc.to_csv('1.csv')"
   ]
  },
  {
   "cell_type": "code",
   "execution_count": null,
   "id": "4bfb1d94-d24a-410f-a7f7-01637f8f03eb",
   "metadata": {},
   "outputs": [],
   "source": []
  },
  {
   "cell_type": "code",
   "execution_count": null,
   "id": "b96261f8-398d-43db-b17d-3b2ac9f53371",
   "metadata": {},
   "outputs": [],
   "source": []
  },
  {
   "cell_type": "code",
   "execution_count": null,
   "id": "98bdd9fa-2fce-4fd5-99c9-b3b85bc1d8a7",
   "metadata": {},
   "outputs": [],
   "source": []
  },
  {
   "cell_type": "code",
   "execution_count": null,
   "id": "ac8d79f6-5e08-42bf-9da3-db1e852d39b3",
   "metadata": {},
   "outputs": [],
   "source": []
  },
  {
   "cell_type": "code",
   "execution_count": null,
   "id": "bdceb1fa-7767-4da9-b1cf-24788b4ec3e4",
   "metadata": {},
   "outputs": [],
   "source": []
  },
  {
   "cell_type": "code",
   "execution_count": null,
   "id": "76aa4bec-242c-43b3-81ee-ca668e35cc4a",
   "metadata": {},
   "outputs": [],
   "source": []
  },
  {
   "cell_type": "code",
   "execution_count": null,
   "id": "8672dffe-2105-4622-9e2b-0862c13c2edb",
   "metadata": {},
   "outputs": [],
   "source": []
  },
  {
   "cell_type": "code",
   "execution_count": null,
   "id": "8e6792f6-627b-4a81-a8a7-04762943f3ba",
   "metadata": {},
   "outputs": [],
   "source": []
  },
  {
   "cell_type": "code",
   "execution_count": null,
   "id": "947b437e-e828-4032-880e-315e28363993",
   "metadata": {},
   "outputs": [],
   "source": []
  },
  {
   "cell_type": "code",
   "execution_count": null,
   "id": "2604dbd8-aed4-4b98-bd4e-6414fcd56d55",
   "metadata": {},
   "outputs": [],
   "source": []
  },
  {
   "cell_type": "code",
   "execution_count": null,
   "id": "901ffdac-3393-45dc-995a-8497daa09d10",
   "metadata": {},
   "outputs": [],
   "source": []
  },
  {
   "cell_type": "code",
   "execution_count": null,
   "id": "04e29042-3d12-4ff8-b4de-bbdb04b5c836",
   "metadata": {},
   "outputs": [],
   "source": []
  },
  {
   "cell_type": "code",
   "execution_count": null,
   "id": "e1a7c263-bc5f-46d9-8c51-1d21f94fbca3",
   "metadata": {},
   "outputs": [],
   "source": []
  },
  {
   "cell_type": "code",
   "execution_count": null,
   "id": "f4e79a39-1e12-488e-b81c-c7b0e491f7df",
   "metadata": {},
   "outputs": [],
   "source": []
  },
  {
   "cell_type": "code",
   "execution_count": null,
   "id": "d4e4119a-9429-447b-89a5-34f3860b8c0c",
   "metadata": {},
   "outputs": [],
   "source": []
  },
  {
   "cell_type": "code",
   "execution_count": null,
   "id": "74a149e5-bd64-4b53-b528-735375d20cec",
   "metadata": {},
   "outputs": [],
   "source": []
  },
  {
   "cell_type": "code",
   "execution_count": null,
   "id": "0855eb64-bcff-4bdd-9e88-79aa8b6229ff",
   "metadata": {},
   "outputs": [],
   "source": []
  },
  {
   "cell_type": "code",
   "execution_count": null,
   "id": "c3e19b6b-9cbf-44a6-9e05-670293d4ec0e",
   "metadata": {},
   "outputs": [],
   "source": []
  },
  {
   "cell_type": "code",
   "execution_count": null,
   "id": "98b157c6-e09e-426d-9382-1dcd8880a4a5",
   "metadata": {},
   "outputs": [],
   "source": []
  },
  {
   "cell_type": "code",
   "execution_count": null,
   "id": "0fa50d51",
   "metadata": {},
   "outputs": [],
   "source": [
    "cruce_1_not_found.shape"
   ]
  },
  {
   "cell_type": "code",
   "execution_count": null,
   "id": "60cda870",
   "metadata": {},
   "outputs": [],
   "source": [
    "cruce_1_group = cruce_1.groupby(['EFF_DT_DATE','MOVEMENT_TYPE']).agg({'MVNT_ID':'count',\n",
    "                                                                      'GROSS_AMOUNT':sum,\n",
    "                                                                      'FEES':sum,\n",
    "                                                                      'TAXES':sum,\n",
    "                                                                      'NET_AMOUNT':sum,\n",
    "                                                                      'AMOUNT':sum,\n",
    "                                                                     'PSP_AMOUNT':sum,\n",
    "                                                                     'FEES_DEFERRED':sum,\n",
    "                                                                     'TAXES_DEFERRED':sum}).reset_index()\n",
    "cruce_1_group.head()"
   ]
  },
  {
   "cell_type": "code",
   "execution_count": null,
   "id": "7da4da3f",
   "metadata": {},
   "outputs": [],
   "source": [
    "cruce_1_group.shape"
   ]
  },
  {
   "cell_type": "markdown",
   "id": "e3d351fa",
   "metadata": {},
   "source": [
    "# CRUCE_2: DATA AP(PYMT) VS. SETTLEMENT MASTER LOG"
   ]
  },
  {
   "cell_type": "code",
   "execution_count": null,
   "id": "360a3f4f",
   "metadata": {},
   "outputs": [],
   "source": [
    "ap_pymt.head()"
   ]
  },
  {
   "cell_type": "code",
   "execution_count": null,
   "id": "4283dee3",
   "metadata": {},
   "outputs": [],
   "source": [
    "ap_pymt.shape"
   ]
  },
  {
   "cell_type": "code",
   "execution_count": null,
   "id": "62ae225f",
   "metadata": {},
   "outputs": [],
   "source": [
    "cruce_2 = ap_pymt.merge(sml_final[['MVNT_ID','GROSS_AMOUNT','FEES','TAXES','NET_AMOUNT','MDR','MSI','PSP_AMOUNT',\n",
    "                                  'FEES_DEFERRED','TAXES_DEFERRED']],\n",
    "                            on='MVNT_ID',how='left')\n",
    "cruce_2.head()"
   ]
  },
  {
   "cell_type": "code",
   "execution_count": null,
   "id": "d670204d",
   "metadata": {},
   "outputs": [],
   "source": [
    "cruce_2.shape"
   ]
  },
  {
   "cell_type": "code",
   "execution_count": null,
   "id": "dfd07caa",
   "metadata": {},
   "outputs": [],
   "source": [
    "cruce_3 = cruce_2.merge(ap_sett[['MVNT_ID','MOVEMENT_TYPE']],on='MVNT_ID',how='left')\n",
    "cruce_3.rename(columns={'MOVEMENT_TYPE_x':'MOVEMENT_TYPE','MOVEMENT_TYPE_y':'MOVEMENT_TYPE_SETT'},inplace=True)\n",
    "cruce_3.head()"
   ]
  },
  {
   "cell_type": "code",
   "execution_count": null,
   "id": "730967bd",
   "metadata": {},
   "outputs": [],
   "source": [
    "cruce_3.shape"
   ]
  },
  {
   "cell_type": "code",
   "execution_count": null,
   "id": "015e50a5",
   "metadata": {},
   "outputs": [],
   "source": [
    "cruce_3_not_found = cruce_3[(cruce_3['MDR'].isnull())]\n",
    "cruce_3_not_found.head()"
   ]
  },
  {
   "cell_type": "code",
   "execution_count": null,
   "id": "3bad0bb2",
   "metadata": {},
   "outputs": [],
   "source": [
    "cruce_3_not_found.shape"
   ]
  },
  {
   "cell_type": "code",
   "execution_count": null,
   "id": "ae8e1778",
   "metadata": {},
   "outputs": [],
   "source": [
    "cruce_3_group = cruce_3.groupby(['EFF_DT_DATE','MOVEMENT_TYPE','MOVEMENT_TYPE_SETT']).agg({'MVNT_ID':'count',\n",
    "                                                 'GROSS_AMOUNT':sum,\n",
    "                                                 'FEES':sum,\n",
    "                                                 'TAXES':sum,\n",
    "                                                 'NET_AMOUNT':sum,\n",
    "                                                 'AMOUNT':sum,\n",
    "                                                 'PSP_AMOUNT':sum,\n",
    "                                                 'FEES_DEFERRED':sum,\n",
    "                                                 'TAXES_DEFERRED':sum}).reset_index()\n",
    "cruce_3_group.head()"
   ]
  },
  {
   "cell_type": "code",
   "execution_count": null,
   "id": "e0408761",
   "metadata": {},
   "outputs": [],
   "source": [
    "cruce_3_group.shape"
   ]
  },
  {
   "cell_type": "markdown",
   "id": "1dfa318d",
   "metadata": {},
   "source": [
    "# PIVOTS AP JOURNAL"
   ]
  },
  {
   "cell_type": "markdown",
   "id": "1b2c6c2e",
   "metadata": {},
   "source": [
    "### TOPUPS"
   ]
  },
  {
   "cell_type": "code",
   "execution_count": null,
   "id": "7b4fe220",
   "metadata": {},
   "outputs": [],
   "source": [
    "ap_topups['TOPUPS_LEDGER'] = ap_topups['AMOUNT'] / 1.16\n",
    "ap_topups['IVA_TOPUPS_LEDGER'] = ap_topups['TOPUPS_LEDGER'] * 0.16\n",
    "ap_topups.head()"
   ]
  },
  {
   "cell_type": "code",
   "execution_count": null,
   "id": "e72f5438",
   "metadata": {},
   "outputs": [],
   "source": [
    "ap_topups.shape"
   ]
  },
  {
   "cell_type": "code",
   "execution_count": null,
   "id": "7571ca7f",
   "metadata": {},
   "outputs": [],
   "source": [
    "ap_topups_group = ap_topups.groupby(['EFF_DT_DATE']).agg({'MVNT_ID':'count',\n",
    "                                                     'TOPUPS_LEDGER':sum,\n",
    "                                                     'IVA_TOPUPS_LEDGER':sum,\n",
    "                                                     'AMOUNT':sum}).reset_index()\n",
    "ap_topups_group.head()"
   ]
  },
  {
   "cell_type": "code",
   "execution_count": null,
   "id": "4ad86066",
   "metadata": {},
   "outputs": [],
   "source": [
    "ap_topups_group.shape"
   ]
  },
  {
   "cell_type": "markdown",
   "id": "d2b75027",
   "metadata": {},
   "source": [
    "### LOANS"
   ]
  },
  {
   "cell_type": "code",
   "execution_count": null,
   "id": "805e3fd8",
   "metadata": {},
   "outputs": [],
   "source": [
    "ap_loan.head()"
   ]
  },
  {
   "cell_type": "code",
   "execution_count": null,
   "id": "cb14b6da",
   "metadata": {},
   "outputs": [],
   "source": [
    "ap_loan.shape"
   ]
  },
  {
   "cell_type": "code",
   "execution_count": null,
   "id": "dbd82881-0f11-4e76-b228-787f90c8cbc1",
   "metadata": {},
   "outputs": [],
   "source": [
    "ap_loan_1 = ap_loan[(ap_loan['EFF_DT_DATE'] >= start_date) & (ap_loan['EFF_DT_DATE'] <= final_date_1)]\n",
    "ap_loan_2 = ap_loan[(ap_loan['EFF_DT_DATE'] >= start_date_1) & (ap_loan['EFF_DT_DATE'] <= final_date)]"
   ]
  },
  {
   "cell_type": "code",
   "execution_count": null,
   "id": "1d2fd2bb",
   "metadata": {},
   "outputs": [],
   "source": [
    "ap_loan_group = ap_loan.groupby(['EFF_DT_DATE']).agg({'MVNT_ID':'count',\n",
    "                                                     'AMOUNT':sum}).reset_index()\n",
    "ap_loan_group.head()"
   ]
  },
  {
   "cell_type": "code",
   "execution_count": null,
   "id": "15f295be",
   "metadata": {},
   "outputs": [],
   "source": [
    "ap_loan_group.shape"
   ]
  },
  {
   "cell_type": "markdown",
   "id": "ff4fa18a",
   "metadata": {},
   "source": [
    "### RIESGO "
   ]
  },
  {
   "cell_type": "code",
   "execution_count": null,
   "id": "f8743b64",
   "metadata": {},
   "outputs": [],
   "source": [
    "ap_risk.head()"
   ]
  },
  {
   "cell_type": "code",
   "execution_count": null,
   "id": "5d4096af",
   "metadata": {},
   "outputs": [],
   "source": [
    "ap_risk.shape"
   ]
  },
  {
   "cell_type": "code",
   "execution_count": null,
   "id": "8a7b008d",
   "metadata": {},
   "outputs": [],
   "source": [
    "ap_risk['MOVEMENT_TYPE'].unique()"
   ]
  },
  {
   "cell_type": "code",
   "execution_count": null,
   "id": "d2962a95",
   "metadata": {},
   "outputs": [],
   "source": [
    "ap_risk_group = pd.pivot_table(ap_risk,index=['EFF_DT_DATE'],\n",
    "                                  columns=['MOVEMENT_TYPE'],\n",
    "                                  values=['AMOUNT'],\n",
    "                               aggfunc = ['sum'],margins=True).reset_index()\n",
    "ap_risk_group.fillna(0,inplace=True)\n",
    "#ap_risk_group.drop(columns=['B', 'C'])\n",
    "ap_risk_group.head()"
   ]
  },
  {
   "cell_type": "code",
   "execution_count": null,
   "id": "96fb6a96",
   "metadata": {},
   "outputs": [],
   "source": [
    "ap_risk_group.shape"
   ]
  },
  {
   "cell_type": "markdown",
   "id": "9580e6b9",
   "metadata": {},
   "source": [
    "### RIESGO CON TIPO DE PAGO"
   ]
  },
  {
   "cell_type": "code",
   "execution_count": null,
   "id": "245aa199",
   "metadata": {},
   "outputs": [],
   "source": [
    "ap_risk_final = pd.concat([pd.read_csv(f).assign(file_name=os.path.basename(f)) for f in ap_risk_files]).reset_index(drop=True)\n",
    "ap_risk_final.replace('\"\"','', regex=True, inplace=True)\n",
    "ap_risk_final['EFF_DT'] =  pd.to_datetime(ap_risk_final['EFF_DT']).dt.tz_localize(None)\n",
    "ap_risk_final['EFF_DT_DATE'] =  pd.to_datetime(ap_risk_final['EFF_DT']).dt.date\n",
    "ap_risk_final['EFF_DT_DATE'] =  pd.to_datetime(ap_risk_final['EFF_DT_DATE']).dt.tz_localize(None)\n",
    "ap_risk_final['EFF_DT_TIME'] =  pd.to_datetime(ap_risk_final['EFF_DT']).dt.time\n",
    "ap_risk_final['MOVEMENT_DAY'] = pd.to_datetime(ap_risk_final['MOVEMENT_DAY']).dt.tz_localize(None)\n",
    "ap_risk_final['CREATED_AT'] = pd.to_datetime(ap_risk_final['CREATED_AT']).dt.tz_localize(None)\n",
    "ap_risk_final['REQUEST_EFFECTIVE_DATE'] = pd.to_datetime(ap_risk_final['REQUEST_EFFECTIVE_DATE']).dt.tz_localize(None)\n",
    "ap_risk_final['SLOT_DATE'] = pd.to_datetime(ap_risk_final['SLOT_DATE']).dt.tz_localize(None)\n",
    "ap_risk_final['IDENTIFIER'] = ap_risk_final['SOURCE_TYPE'].str[:1].astype(str)\n",
    "ap_risk_final['PYMT_PRG'].fillna('NOT_FOUND',inplace=True)\n",
    "ap_risk_final['INDEX'] = (ap_risk_final['EFF_DT_DATE'].astype(str).replace(' ', '',regex=True)+'-'+\n",
    "               ap_risk_final['IDENTIFIER'].astype(str).replace(' ', '',regex=True)+'-'+\n",
    "               ap_risk_final['EFF_DT_TIME'].astype(str).replace(' ', '',regex=True))\n",
    "ap_risk_final.sort_values(by=(['MERCHANT_ID','EFF_DT']), ascending=[True,False], inplace=True)\n",
    "ap_risk_final.head()"
   ]
  },
  {
   "cell_type": "code",
   "execution_count": null,
   "id": "ebd8b49a",
   "metadata": {},
   "outputs": [],
   "source": [
    "ap_risk_final.shape"
   ]
  },
  {
   "cell_type": "code",
   "execution_count": null,
   "id": "10f4ffd8",
   "metadata": {},
   "outputs": [],
   "source": [
    "ap_risk_final_dup = ap_risk_final[ap_risk_final.duplicated(['MVNT_ID'] , keep=False)]\n",
    "ap_risk_final_dup.head()"
   ]
  },
  {
   "cell_type": "code",
   "execution_count": null,
   "id": "a7b6c843",
   "metadata": {},
   "outputs": [],
   "source": [
    "ap_risk_final_dup.shape"
   ]
  },
  {
   "cell_type": "code",
   "execution_count": null,
   "id": "d1f18540",
   "metadata": {},
   "outputs": [],
   "source": [
    "ap_risk_final['MOVEMENT_TYPE'].unique()"
   ]
  },
  {
   "cell_type": "code",
   "execution_count": null,
   "id": "77fe1a9c",
   "metadata": {},
   "outputs": [],
   "source": [
    "ap_risk_final_group = pd.pivot_table(ap_risk_final,index=['EFF_DT_DATE'],\n",
    "                                  columns=['PYMT_PRG','MOVEMENT_TYPE'],\n",
    "                                  values=['AMOUNT'],\n",
    "                                     aggfunc = ['sum'],margins=True).reset_index()\n",
    "ap_risk_final_group.fillna(0,inplace=True)\n",
    "#ap_risk_group.drop(columns=['B', 'C'])\n",
    "ap_risk_final_group.head()"
   ]
  },
  {
   "cell_type": "code",
   "execution_count": null,
   "id": "f8e538e3",
   "metadata": {},
   "outputs": [],
   "source": [
    "ap_risk_final_group.shape"
   ]
  },
  {
   "cell_type": "markdown",
   "id": "4e4040f9",
   "metadata": {},
   "source": [
    "### DISBURSEMENT"
   ]
  },
  {
   "cell_type": "code",
   "execution_count": null,
   "id": "643939bd",
   "metadata": {},
   "outputs": [],
   "source": [
    "ap_disb.head()"
   ]
  },
  {
   "cell_type": "code",
   "execution_count": null,
   "id": "8fdec47f",
   "metadata": {},
   "outputs": [],
   "source": [
    "ap_disb.shape"
   ]
  },
  {
   "cell_type": "code",
   "execution_count": null,
   "id": "1f9aa63f",
   "metadata": {},
   "outputs": [],
   "source": [
    "ap_disb_group = ap_disb.groupby(['EFF_DT_DATE','MOVEMENT_TYPE']).agg({'MVNT_ID':'count',\n",
    "                                                     'AMOUNT':sum}).reset_index()\n",
    "ap_disb_group.head()"
   ]
  },
  {
   "cell_type": "code",
   "execution_count": null,
   "id": "d8cdda98",
   "metadata": {},
   "outputs": [],
   "source": [
    "ap_disb_group.shape"
   ]
  },
  {
   "cell_type": "markdown",
   "id": "52a93975",
   "metadata": {},
   "source": [
    "### SETT ADPTR"
   ]
  },
  {
   "cell_type": "code",
   "execution_count": null,
   "id": "3ed95266",
   "metadata": {},
   "outputs": [],
   "source": [
    "ap_sett_adptr.head()"
   ]
  },
  {
   "cell_type": "code",
   "execution_count": null,
   "id": "4d013695",
   "metadata": {},
   "outputs": [],
   "source": [
    "ap_sett_adptr.shape"
   ]
  },
  {
   "cell_type": "code",
   "execution_count": null,
   "id": "f6f330f6",
   "metadata": {},
   "outputs": [],
   "source": [
    "ap_sett_adptr_group = ap_sett_adptr.groupby(['EFF_DT_DATE','MOVEMENT_TYPE']).agg({'MVNT_ID':'count',\n",
    "                                                     'AMOUNT':sum}).reset_index()\n",
    "ap_sett_adptr_group.head()"
   ]
  },
  {
   "cell_type": "code",
   "execution_count": null,
   "id": "7429827f",
   "metadata": {},
   "outputs": [],
   "source": [
    "ap_sett_adptr_group.shape"
   ]
  },
  {
   "cell_type": "markdown",
   "id": "d4d55f41",
   "metadata": {},
   "source": [
    "### TAXES"
   ]
  },
  {
   "cell_type": "code",
   "execution_count": null,
   "id": "c18da878",
   "metadata": {},
   "outputs": [],
   "source": [
    "ap_taxes.head()"
   ]
  },
  {
   "cell_type": "code",
   "execution_count": null,
   "id": "ea00b32f",
   "metadata": {},
   "outputs": [],
   "source": [
    "ap_taxes.shape"
   ]
  },
  {
   "cell_type": "code",
   "execution_count": null,
   "id": "fab5528c",
   "metadata": {},
   "outputs": [],
   "source": [
    "ap_taxes_group = ap_taxes.groupby(['EFF_DT_DATE','MOVEMENT_TYPE','SOURCE_TYPE']).agg({'MVNT_ID':'count',\n",
    "                                                     'AMOUNT':sum}).reset_index()\n",
    "ap_taxes_group.head()"
   ]
  },
  {
   "cell_type": "code",
   "execution_count": null,
   "id": "08cbb13f",
   "metadata": {},
   "outputs": [],
   "source": [
    "ap_taxes_group.shape"
   ]
  },
  {
   "cell_type": "markdown",
   "id": "1ccf3619",
   "metadata": {},
   "source": [
    "### REFUNDS"
   ]
  },
  {
   "cell_type": "code",
   "execution_count": null,
   "id": "1a29568e",
   "metadata": {},
   "outputs": [],
   "source": [
    "ap_refunds.head()"
   ]
  },
  {
   "cell_type": "code",
   "execution_count": null,
   "id": "e645f569",
   "metadata": {},
   "outputs": [],
   "source": [
    "ap_refunds.shape"
   ]
  },
  {
   "cell_type": "code",
   "execution_count": null,
   "id": "b9f3bf4a",
   "metadata": {},
   "outputs": [],
   "source": [
    "ap_refunds.to_excel('REFUNDS_NOVIEMBRE_2023.xlsx',index=False)"
   ]
  },
  {
   "cell_type": "code",
   "execution_count": null,
   "id": "e677f4ff",
   "metadata": {},
   "outputs": [],
   "source": [
    "ap_refunds_group = ap_refunds.groupby(['EFF_DT_DATE','MOVEMENT_TYPE','SOURCE_TYPE']).agg({'MVNT_ID':'count',\n",
    "                                                     'AMOUNT':sum}).reset_index()\n",
    "ap_refunds_group.head()"
   ]
  },
  {
   "cell_type": "code",
   "execution_count": null,
   "id": "5757f69c",
   "metadata": {},
   "outputs": [],
   "source": [
    "ap_refunds_group.shape"
   ]
  },
  {
   "cell_type": "markdown",
   "id": "2cdb3b77",
   "metadata": {},
   "source": [
    "### REFUNDS CON FEES Y TAXES"
   ]
  },
  {
   "cell_type": "code",
   "execution_count": null,
   "id": "4145af94",
   "metadata": {},
   "outputs": [],
   "source": [
    "ap_refunds_fees_taxes = pd.concat([pd.read_csv(f).assign(file_name=os.path.basename(f)) for f in ap_refunds_files]).reset_index(drop=True)\n",
    "ap_refunds_fees_taxes.replace('\"\"','', regex=True, inplace=True)\n",
    "ap_refunds_fees_taxes['EFF_DT'] =  pd.to_datetime(ap_refunds_fees_taxes['EFF_DT']).dt.tz_localize(None)\n",
    "ap_refunds_fees_taxes['EFF_DT_DATE'] =  pd.to_datetime(ap_refunds_fees_taxes['EFF_DT']).dt.date\n",
    "ap_refunds_fees_taxes['EFF_DT_DATE'] =  pd.to_datetime(ap_refunds_fees_taxes['EFF_DT_DATE']).dt.tz_localize(None)\n",
    "ap_refunds_fees_taxes['EFF_DT_TIME'] =  pd.to_datetime(ap_refunds_fees_taxes['EFF_DT']).dt.time\n",
    "ap_refunds_fees_taxes['MOVEMENT_DAY'] = pd.to_datetime(ap_refunds_fees_taxes['MOVEMENT_DAY']).dt.tz_localize(None)\n",
    "ap_refunds_fees_taxes['CREATED_AT'] = pd.to_datetime(ap_refunds_fees_taxes['CREATED_AT']).dt.tz_localize(None)\n",
    "ap_refunds_fees_taxes['REQUEST_EFFECTIVE_DATE'] = pd.to_datetime(ap_refunds_fees_taxes['REQUEST_EFFECTIVE_DATE']).dt.tz_localize(None)\n",
    "ap_refunds_fees_taxes['SLOT_DATE'] = pd.to_datetime(ap_refunds_fees_taxes['SLOT_DATE']).dt.tz_localize(None)\n",
    "ap_refunds_fees_taxes.sort_values(by=(['MERCHANT_ID','EFF_DT']), ascending=[True,False], inplace=True)\n",
    "ap_refunds_fees_taxes['FEES_REFUNDS'] = (ap_refunds_fees_taxes['GROSS_AMOUNT'] + ap_refunds_fees_taxes['NET_AMOUNT']) / 1.1600\n",
    "ap_refunds_fees_taxes['TAXES_REFUNDS'] = ap_refunds_fees_taxes['FEES_REFUNDS'] * 0.1600 \n",
    "ap_refunds_fees_taxes.head()"
   ]
  },
  {
   "cell_type": "code",
   "execution_count": null,
   "id": "2c48233e",
   "metadata": {},
   "outputs": [],
   "source": [
    "ap_refunds_fees_taxes.shape"
   ]
  },
  {
   "cell_type": "code",
   "execution_count": null,
   "id": "2d1452fd",
   "metadata": {},
   "outputs": [],
   "source": [
    "ap_refunds_fees_taxes_group = ap_refunds_fees_taxes.groupby(['EFF_DT_DATE','MOVEMENT_TYPE','SOURCE_TYPE']).agg({'MVNT_ID':'count',\n",
    "                                                     'GROSS_AMOUNT':sum,'FEES_REFUNDS':sum,'TAXES_REFUNDS':sum}).reset_index()\n",
    "ap_refunds_fees_taxes_group.head()"
   ]
  },
  {
   "cell_type": "code",
   "execution_count": null,
   "id": "29212864",
   "metadata": {},
   "outputs": [],
   "source": [
    "ap_refunds_fees_taxes_group.shape"
   ]
  },
  {
   "cell_type": "markdown",
   "id": "e22afcd1",
   "metadata": {},
   "source": [
    "### BILL PAYMENTS"
   ]
  },
  {
   "cell_type": "code",
   "execution_count": null,
   "id": "f3068bce",
   "metadata": {},
   "outputs": [],
   "source": [
    "ap_bill_pymnt.head()"
   ]
  },
  {
   "cell_type": "code",
   "execution_count": null,
   "id": "e90ce157",
   "metadata": {},
   "outputs": [],
   "source": [
    "ap_bill_pymnt.shape"
   ]
  },
  {
   "cell_type": "code",
   "execution_count": null,
   "id": "0cd43b1a",
   "metadata": {},
   "outputs": [],
   "source": [
    "ap_bill_pymnt_group = ap_bill_pymnt.groupby(['EFF_DT_DATE','MOVEMENT_TYPE','SOURCE_TYPE']).agg({'MVNT_ID':'count',\n",
    "                                                     'AMOUNT':sum}).reset_index()\n",
    "ap_bill_pymnt_group.head()"
   ]
  },
  {
   "cell_type": "code",
   "execution_count": null,
   "id": "98bb64b9",
   "metadata": {},
   "outputs": [],
   "source": [
    "ap_bill_pymnt_group.shape"
   ]
  },
  {
   "cell_type": "markdown",
   "id": "99cb8ee0",
   "metadata": {},
   "source": [
    "### BILL PAYMENTS CON FEES"
   ]
  },
  {
   "cell_type": "code",
   "execution_count": null,
   "id": "f753b0ed",
   "metadata": {},
   "outputs": [],
   "source": [
    "ap_bill_pymnt_fees_taxes = pd.concat([pd.read_csv(f).assign(file_name=os.path.basename(f)) for f in ap_bill_pymnt_files]).reset_index(drop=True)\n",
    "ap_bill_pymnt_fees_taxes.replace('\"\"','', regex=True, inplace=True)\n",
    "ap_bill_pymnt_fees_taxes['EFF_DT'] =  pd.to_datetime(ap_bill_pymnt_fees_taxes['EFF_DT']).dt.tz_localize(None)\n",
    "ap_bill_pymnt_fees_taxes['EFF_DT_DATE'] =  pd.to_datetime(ap_bill_pymnt_fees_taxes['EFF_DT']).dt.date\n",
    "ap_bill_pymnt_fees_taxes['EFF_DT_DATE'] =  pd.to_datetime(ap_bill_pymnt_fees_taxes['EFF_DT_DATE']).dt.tz_localize(None)\n",
    "ap_bill_pymnt_fees_taxes['EFF_DT_TIME'] =  pd.to_datetime(ap_bill_pymnt_fees_taxes['EFF_DT']).dt.time\n",
    "ap_bill_pymnt_fees_taxes['MOVEMENT_DAY'] = pd.to_datetime(ap_bill_pymnt_fees_taxes['MOVEMENT_DAY']).dt.tz_localize(None)\n",
    "ap_bill_pymnt_fees_taxes['CREATED_AT'] = pd.to_datetime(ap_bill_pymnt_fees_taxes['CREATED_AT']).dt.tz_localize(None)\n",
    "ap_bill_pymnt_fees_taxes['REQUEST_EFFECTIVE_DATE'] = pd.to_datetime(ap_bill_pymnt_fees_taxes['REQUEST_EFFECTIVE_DATE']).dt.tz_localize(None)\n",
    "ap_bill_pymnt_fees_taxes['SLOT_DATE'] = pd.to_datetime(ap_bill_pymnt_fees_taxes['SLOT_DATE']).dt.tz_localize(None)\n",
    "ap_bill_pymnt_fees_taxes['FEES_FRONTEND_COMMISSION'] = ap_bill_pymnt_fees_taxes['FRONTEND_COMMISSION']/1.1600\n",
    "ap_bill_pymnt_fees_taxes['TAXES_FRONTEND_COMMISSION'] = ap_bill_pymnt_fees_taxes['FEES_FRONTEND_COMMISSION']*0.1600\n",
    "ap_bill_pymnt_fees_taxes['FEES_MERCHANT_COMMISSION'] = ap_bill_pymnt_fees_taxes['MERCHANT_COMMISSION']/1.1600\n",
    "ap_bill_pymnt_fees_taxes['TAXES_MERCHANT_COMMISSION'] = ap_bill_pymnt_fees_taxes['FEES_MERCHANT_COMMISSION']*0.1600\n",
    "ap_bill_pymnt_fees_taxes['FEES_NET_AMOUNT'] = ap_bill_pymnt_fees_taxes['AMOUNT']/1.1600\n",
    "ap_bill_pymnt_fees_taxes['TAXES_NET_AMOUNT'] = ap_bill_pymnt_fees_taxes['FEES_NET_AMOUNT']*0.1600\n",
    "ap_bill_pymnt_fees_taxes.sort_values(by=(['MERCHANT_ID','EFF_DT']), ascending=[True,False], inplace=True)\n",
    "ap_bill_pymnt_fees_taxes.head()"
   ]
  },
  {
   "cell_type": "code",
   "execution_count": null,
   "id": "f8a6e6b5",
   "metadata": {},
   "outputs": [],
   "source": [
    "ap_bill_pymnt_fees_taxes.shape"
   ]
  },
  {
   "cell_type": "code",
   "execution_count": null,
   "id": "987170a7",
   "metadata": {},
   "outputs": [],
   "source": [
    "ap_bill_pymnt_fees_taxes['SERVICE_BILLERS_STATUS'].unique()"
   ]
  },
  {
   "cell_type": "code",
   "execution_count": null,
   "id": "346de27e",
   "metadata": {},
   "outputs": [],
   "source": [
    "ap_bill_pymnt_fees_taxes_group = ap_bill_pymnt_fees_taxes.groupby(['EFF_DT_DATE','MOVEMENT_TYPE','SOURCE_TYPE','SERVICE_BILLERS_STATUS']).agg({'MVNT_ID':'count',\n",
    "                                                                                                                      'GROSS_AMOUNT':sum,\n",
    "                                                                                                                     'AMOUNT_PAID':sum,\n",
    "                                                                                                                     'FRONTEND_COMMISSION':sum,\n",
    "                                                                                                                     'FEES_FRONTEND_COMMISSION':sum,   \n",
    "                                                                                                                     'TAXES_FRONTEND_COMMISSION':sum,   \n",
    "                                                                                                                     'MERCHANT_COMMISSION':sum,\n",
    "                                                                                                                     'FEES_MERCHANT_COMMISSION':sum,\n",
    "                                                                                                                     'TAXES_MERCHANT_COMMISSION':sum,\n",
    "                                                                                                                     'AMOUNT':sum,\n",
    "                                                                                                                     'FEES_NET_AMOUNT':sum,\n",
    "                                                                                                                     'TAXES_NET_AMOUNT':sum}).reset_index()\n",
    "ap_bill_pymnt_fees_taxes_group.head()"
   ]
  },
  {
   "cell_type": "code",
   "execution_count": null,
   "id": "e2b5ffad",
   "metadata": {},
   "outputs": [],
   "source": [
    "ap_bill_pymnt_fees_taxes_group.shape"
   ]
  },
  {
   "cell_type": "markdown",
   "id": "6af7e5df",
   "metadata": {},
   "source": [
    "### PROMO"
   ]
  },
  {
   "cell_type": "code",
   "execution_count": null,
   "id": "580a6be5",
   "metadata": {},
   "outputs": [],
   "source": [
    "ap_promo.head()"
   ]
  },
  {
   "cell_type": "code",
   "execution_count": null,
   "id": "90781e05",
   "metadata": {},
   "outputs": [],
   "source": [
    "ap_promo.shape"
   ]
  },
  {
   "cell_type": "code",
   "execution_count": null,
   "id": "30cc133f",
   "metadata": {},
   "outputs": [],
   "source": [
    "ap_promo_group = ap_promo.groupby(['EFF_DT_DATE','MOVEMENT_TYPE','SOURCE_TYPE']).agg({'MVNT_ID':'count',\n",
    "                                                     'AMOUNT':sum}).reset_index()\n",
    "ap_promo_group.head()"
   ]
  },
  {
   "cell_type": "code",
   "execution_count": null,
   "id": "d19eada0",
   "metadata": {},
   "outputs": [],
   "source": [
    "ap_promo_group.shape"
   ]
  },
  {
   "cell_type": "markdown",
   "id": "a9b72685",
   "metadata": {},
   "source": [
    "### CAAL - AP JOURNAL"
   ]
  },
  {
   "cell_type": "markdown",
   "id": "0b743308",
   "metadata": {},
   "source": [
    "#### CAAL - QUERY"
   ]
  },
  {
   "cell_type": "code",
   "execution_count": null,
   "id": "b5d7fb3c",
   "metadata": {},
   "outputs": [],
   "source": [
    "caal = pd.concat([pd.read_csv(f).assign(file_name=os.path.basename(f)) for f in caal_files]).reset_index(drop=True)\n",
    "caal['COLLECTION_DATE_LOCAL'] =  pd.to_datetime(caal['COLLECTION_DATE_LOCAL'])\n",
    "caal.head()"
   ]
  },
  {
   "cell_type": "code",
   "execution_count": null,
   "id": "eefcab03",
   "metadata": {},
   "outputs": [],
   "source": [
    "caal.shape"
   ]
  },
  {
   "cell_type": "code",
   "execution_count": null,
   "id": "61f5ce65",
   "metadata": {},
   "outputs": [],
   "source": [
    "caal_final = caal[(caal['COLLECTION_DATE_LOCAL'] >= start_date) & (caal['COLLECTION_DATE_LOCAL'] <= final_date)]\n",
    "caal_final.head()"
   ]
  },
  {
   "cell_type": "code",
   "execution_count": null,
   "id": "1c5d8fcd",
   "metadata": {},
   "outputs": [],
   "source": [
    "caal_final.shape"
   ]
  },
  {
   "cell_type": "code",
   "execution_count": null,
   "id": "fa305daf",
   "metadata": {},
   "outputs": [],
   "source": [
    "caal_final_group = caal_final.groupby(['COLLECTION_DATE_LOCAL','PROVIDER_CODE','COLLECTION_ORIGIN','FUNDED_BY',\n",
    "                                      'SOURCE']).agg({'LOAN_ID':'count','AMOUNT':sum,'CAPITAL':sum,'INTEREST':sum,\n",
    "                                                      'TAX':sum}).reset_index()\n",
    "caal_final_group.head()"
   ]
  },
  {
   "cell_type": "code",
   "execution_count": null,
   "id": "bbb2a5bd",
   "metadata": {},
   "outputs": [],
   "source": [
    "caal_final_group.shape"
   ]
  },
  {
   "cell_type": "markdown",
   "id": "3ebfc914",
   "metadata": {},
   "source": [
    "#### AP JOURNAL"
   ]
  },
  {
   "cell_type": "code",
   "execution_count": null,
   "id": "eb3a792b",
   "metadata": {},
   "outputs": [],
   "source": [
    "# ap_caal.rename(columns ={'AMOUNT':'LOAN_AMOUNT'},inplace=True)\n",
    "# ap_caal['LOAN_ID'] = ap_caal['MVNT_ID']\n",
    "ap_caal.head()"
   ]
  },
  {
   "cell_type": "code",
   "execution_count": null,
   "id": "3b7be03c",
   "metadata": {},
   "outputs": [],
   "source": [
    "ap_caal.shape"
   ]
  },
  {
   "cell_type": "code",
   "execution_count": null,
   "id": "029c2205",
   "metadata": {},
   "outputs": [],
   "source": [
    "ap_caal_group = ap_caal.groupby(['EFF_DT_DATE','MOVEMENT_TYPE','SOURCE_TYPE']).agg({'MVNT_ID':'count',\n",
    "                                                     'AMOUNT':sum}).reset_index()\n",
    "ap_caal_group.head()"
   ]
  },
  {
   "cell_type": "code",
   "execution_count": null,
   "id": "0ce598a2",
   "metadata": {},
   "outputs": [],
   "source": [
    "ap_caal_group.shape"
   ]
  },
  {
   "cell_type": "markdown",
   "id": "608885fd",
   "metadata": {},
   "source": [
    "### FEE_REFUNDS"
   ]
  },
  {
   "cell_type": "code",
   "execution_count": null,
   "id": "55025c4e",
   "metadata": {},
   "outputs": [],
   "source": [
    "ap_fee_refunds.head()"
   ]
  },
  {
   "cell_type": "code",
   "execution_count": null,
   "id": "57f8418d",
   "metadata": {},
   "outputs": [],
   "source": [
    "ap_fee_refunds.shape"
   ]
  },
  {
   "cell_type": "code",
   "execution_count": null,
   "id": "a9a76731",
   "metadata": {},
   "outputs": [],
   "source": [
    "ap_fee_refunds_group = ap_fee_refunds.groupby(['EFF_DT_DATE','MOVEMENT_TYPE','SOURCE_TYPE']).agg({'MVNT_ID':'count',\n",
    "                                                     'AMOUNT':sum}).reset_index()\n",
    "ap_fee_refunds_group.head()"
   ]
  },
  {
   "cell_type": "code",
   "execution_count": null,
   "id": "9080e3a1",
   "metadata": {},
   "outputs": [],
   "source": [
    "ap_fee_refunds_group.shape"
   ]
  },
  {
   "cell_type": "code",
   "execution_count": null,
   "id": "85f4f07d",
   "metadata": {},
   "outputs": [],
   "source": [
    "sorted(list(ap['SOURCE_TYPE'].unique()))"
   ]
  },
  {
   "cell_type": "markdown",
   "id": "7dd6ab95",
   "metadata": {},
   "source": [
    "### DIGITAL ACCOUNTS"
   ]
  },
  {
   "cell_type": "code",
   "execution_count": null,
   "id": "2a1b0c44",
   "metadata": {},
   "outputs": [],
   "source": [
    "ap_dig_acc.head()"
   ]
  },
  {
   "cell_type": "code",
   "execution_count": null,
   "id": "3632bb77",
   "metadata": {},
   "outputs": [],
   "source": [
    "ap_dig_acc.shape"
   ]
  },
  {
   "cell_type": "code",
   "execution_count": null,
   "id": "8f5d1b3f",
   "metadata": {},
   "outputs": [],
   "source": [
    "ap_dig_acc_group = ap_dig_acc.groupby(['EFF_DT_DATE','MOVEMENT_TYPE','SOURCE_TYPE']).agg({'MVNT_ID':'count',\n",
    "                                                     'AMOUNT':sum}).reset_index()\n",
    "ap_dig_acc_group.head()"
   ]
  },
  {
   "cell_type": "code",
   "execution_count": null,
   "id": "a0bcbe71",
   "metadata": {},
   "outputs": [],
   "source": [
    "ap_dig_acc_group.shape"
   ]
  },
  {
   "cell_type": "markdown",
   "id": "462710a4",
   "metadata": {},
   "source": [
    "### DATA"
   ]
  },
  {
   "cell_type": "code",
   "execution_count": null,
   "id": "c255a074",
   "metadata": {},
   "outputs": [],
   "source": [
    "ap_data.head()"
   ]
  },
  {
   "cell_type": "code",
   "execution_count": null,
   "id": "8ff28843",
   "metadata": {},
   "outputs": [],
   "source": [
    "ap_data.shape"
   ]
  },
  {
   "cell_type": "code",
   "execution_count": null,
   "id": "46a97331",
   "metadata": {},
   "outputs": [],
   "source": [
    "ap_data_group = ap_data.groupby(['EFF_DT_DATE','MOVEMENT_TYPE','SOURCE_TYPE']).agg({'MVNT_ID':'count',\n",
    "                                                     'AMOUNT':sum}).reset_index()\n",
    "ap_data_group.head()"
   ]
  },
  {
   "cell_type": "code",
   "execution_count": null,
   "id": "69fdb835",
   "metadata": {},
   "outputs": [],
   "source": [
    "ap_data_group.shape"
   ]
  },
  {
   "cell_type": "markdown",
   "id": "8a8b8212",
   "metadata": {},
   "source": [
    "# EXCEL PIVOT DYNAMO"
   ]
  },
  {
   "cell_type": "code",
   "execution_count": null,
   "id": "7ed96783",
   "metadata": {},
   "outputs": [],
   "source": [
    "writer = pd.ExcelWriter('AGRUPACION-FECHA DYNAMO ENERO 2024.xlsx',\n",
    "                        engine='xlsxwriter',\n",
    "                        engine_kwargs={'options': {'encoding':'utf-8'}})\n",
    "ap_bill_pymnt_group.to_excel(writer, sheet_name='BILL_PYMNT',index=False)\n",
    "ap_bill_pymnt_fees_taxes_group.to_excel(writer, sheet_name='BILL_PYMNT_FEES_TAXES',index=False)\n",
    "ap_caal_group.to_excel(writer, sheet_name='CAAL - AP_JOURNAL',index=False)\n",
    "caal_final_group.to_excel(writer, sheet_name='CAAL - REGISTRO CONTABLE',index=False)\n",
    "ap_data_group.to_excel(writer, sheet_name='DATA',index=False)\n",
    "ap_dig_acc_group.to_excel(writer, sheet_name='DIG_ACC',index=False)\n",
    "ap_disb_group.to_excel(writer, sheet_name='DISB',index=False)\n",
    "ap_fee_refunds_group.to_excel(writer, sheet_name='FEE_REFUNDS',index=False)\n",
    "ap_loan_group.to_excel(writer, sheet_name='LOANS',index=False)\n",
    "ap_promo_group.to_excel(writer, sheet_name='PROMO',index=False)\n",
    "cruce_3_group.to_excel(writer, sheet_name='PYMT',index=False)\n",
    "ap_refunds_group.to_excel(writer, sheet_name='REFUNDS',index=False)\n",
    "ap_refunds_fees_taxes_group.to_excel(writer, sheet_name='REFUNDS_FEES_TAXES',index=False)\n",
    "ap_risk_group.to_excel(writer, sheet_name='RISK')\n",
    "ap_risk_final_group.to_excel(writer, sheet_name='RISK_TIPO_PAGO')\n",
    "cruce_1_group.to_excel(writer, sheet_name='SETT',index=False)\n",
    "ap_sett_adptr_group.to_excel(writer, sheet_name='SETT_ADPTR',index=False)\n",
    "ap_taxes_group.to_excel(writer, sheet_name='TAXES',index=False)\n",
    "ap_topups_group.to_excel(writer, sheet_name='TOPUPS',index=False)\n",
    "writer.close()"
   ]
  },
  {
   "cell_type": "code",
   "execution_count": null,
   "id": "e2c2da3d",
   "metadata": {},
   "outputs": [],
   "source": [
    "writer = pd.ExcelWriter('AP-JOURNAL DYNAMO ENERO 2024.xlsx',\n",
    "                        engine='xlsxwriter',\n",
    "                        engine_kwargs={'options': {'encoding':'utf-8'}})\n",
    "ap_bill_pymnt.to_excel(writer, sheet_name='BILL_PYMNT',index=False)\n",
    "ap_bill_pymnt_fees_taxes.to_excel(writer, sheet_name='BILL_PYMNT_FEES_TAXES',index=False)\n",
    "ap_caal.to_excel(writer, sheet_name='CAAL - AP_JOURNAL',index=False)\n",
    "caal_final.to_excel(writer, sheet_name='CAAL - REGISTRO CONTABLE',index=False)\n",
    "ap_data.to_excel(writer, sheet_name='DATA',index=False)\n",
    "ap_dig_acc.to_excel(writer, sheet_name='DIG_ACC',index=False)\n",
    "#ap_disb.to_excel(writer, sheet_name='DISB',index=False)\n",
    "ap_fee_refunds.to_excel(writer, sheet_name='FEE_REFUNDS',index=False)\n",
    "ap_loan_1.to_excel(writer, sheet_name='LOANS-1',index=False)\n",
    "ap_loan_2.to_excel(writer, sheet_name='LOANS-2',index=False)\n",
    "ap_promo.to_excel(writer, sheet_name='PROMO',index=False)\n",
    "#cruce_3_group.to_excel(writer, sheet_name='PYMT',index=False)\n",
    "ap_refunds.to_excel(writer, sheet_name='REFUNDS',index=False)\n",
    "ap_refunds_fees_taxes.to_excel(writer, sheet_name='REFUNDS_FEES_TAXES',index=False)\n",
    "ap_risk.to_excel(writer, sheet_name='RISK',index=False)\n",
    "ap_risk_final.to_excel(writer, sheet_name='RISK_TIPO_PAGO',index=False)\n",
    "#cruce_1_group.to_excel(writer, sheet_name='SETT',index=False)\n",
    "ap_sett_adptr.to_excel(writer, sheet_name='SETT_ADPTR',index=False)\n",
    "ap_taxes.to_excel(writer, sheet_name='TAXES',index=False)\n",
    "ap_topups.to_excel(writer, sheet_name='TOPUPS',index=False)\n",
    "writer.close()"
   ]
  },
  {
   "cell_type": "code",
   "execution_count": null,
   "id": "dc185d48",
   "metadata": {},
   "outputs": [],
   "source": [
    "writer = pd.ExcelWriter('DYNAMO NOT FOUND ENERO 2024.xlsx',\n",
    "                        engine='xlsxwriter',\n",
    "                        engine_kwargs={'options': {'encoding':'utf-8'}})\n",
    "cruce_1_not_found.to_excel(writer, sheet_name='NOT_FOUND_SETTLED',index=False)\n",
    "cruce_3_not_found.to_excel(writer, sheet_name='NOT_FOUND_PAYMENT',index=False)\n",
    "writer.close()"
   ]
  },
  {
   "cell_type": "markdown",
   "id": "ec0a40f0",
   "metadata": {},
   "source": [
    "# EXCEL DETALLE DYNAMO"
   ]
  },
  {
   "cell_type": "code",
   "execution_count": null,
   "id": "7debfecd",
   "metadata": {},
   "outputs": [],
   "source": [
    "# writer = pd.ExcelWriter('DETALLE DYNAMO MARZO 2023.xlsx',\n",
    "#                         engine='xlsxwriter',\n",
    "#                         engine_kwargs={'options': {'encoding':'utf-8'}})\n",
    "# cruce_1_range.to_excel(writer, sheet_name='SETT_1',index=False)\n",
    "# cruce_2_range.to_excel(writer, sheet_name='SETT_2',index=False)\n",
    "# cruce_3_range.to_excel(writer, sheet_name='SETT_3',index=False)\n",
    "# ap_topups.to_excel(writer, sheet_name='TOPUPS',index=False)\n",
    "# ap_disb.to_excel(writer, sheet_name='DISB',index=False)\n",
    "# ap_loan.to_excel(writer, sheet_name='LOANS',index=False)\n",
    "# cruce_2.to_excel(writer, sheet_name='PYMT',index=False)\n",
    "# ap_risk.to_excel(writer, sheet_name='RISK',index=False)\n",
    "# writer.close()"
   ]
  },
  {
   "cell_type": "markdown",
   "id": "4efa32bd",
   "metadata": {},
   "source": [
    "# EXCEL AP-JOURNAL"
   ]
  },
  {
   "cell_type": "code",
   "execution_count": null,
   "id": "cca4224f",
   "metadata": {},
   "outputs": [],
   "source": [
    "# writer = pd.ExcelWriter('DETALLE AP-JOURNAL MARZO 2023.xlsx',\n",
    "#                         engine='xlsxwriter',\n",
    "#                         engine_kwargs={'options': {'encoding':'utf-8'}})\n",
    "# ap_range_1.to_excel(writer, sheet_name='2023.03.01 - 2023.03.10',index=False)\n",
    "# ap_range_2.to_excel(writer, sheet_name='2023.03.11 - 2023.03.20',index=False)\n",
    "# ap_range_3.to_excel(writer, sheet_name='2023.03.21 - 2023.03.30',index=False)\n",
    "# ap_range_4.to_excel(writer, sheet_name='2023.03.31',index=False)\n",
    "# writer.close()"
   ]
  },
  {
   "cell_type": "code",
   "execution_count": null,
   "id": "a3b7f8be",
   "metadata": {},
   "outputs": [],
   "source": []
  }
 ],
 "metadata": {
  "kernelspec": {
   "display_name": "Python 3 (ipykernel)",
   "language": "python",
   "name": "python3"
  },
  "language_info": {
   "codemirror_mode": {
    "name": "ipython",
    "version": 3
   },
   "file_extension": ".py",
   "mimetype": "text/x-python",
   "name": "python",
   "nbconvert_exporter": "python",
   "pygments_lexer": "ipython3",
   "version": "3.9.18"
  }
 },
 "nbformat": 4,
 "nbformat_minor": 5
}
