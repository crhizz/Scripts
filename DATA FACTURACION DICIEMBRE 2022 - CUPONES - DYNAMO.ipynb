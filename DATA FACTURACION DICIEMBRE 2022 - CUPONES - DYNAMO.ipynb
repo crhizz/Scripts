{
 "cells": [
  {
   "cell_type": "code",
   "execution_count": 1,
   "metadata": {},
   "outputs": [],
   "source": [
    "import pandas as pd\n",
    "import numpy as np\n",
    "from openpyxl import load_workbook\n",
    "import glob\n",
    "import os\n",
    "pd.options.display.float_format = '{:,.2f}'.format"
   ]
  },
  {
   "cell_type": "markdown",
   "metadata": {},
   "source": [
    "### MES ACTUAL"
   ]
  },
  {
   "cell_type": "code",
   "execution_count": 2,
   "metadata": {},
   "outputs": [],
   "source": [
    "start_date_fact = '2022-12-01'\n",
    "# final_date_mes = '2020-10-26'"
   ]
  },
  {
   "cell_type": "code",
   "execution_count": 3,
   "metadata": {},
   "outputs": [
    {
     "data": {
      "text/plain": [
       "['C:\\\\Users\\\\Cristian.Aparicio\\\\Documents\\\\DISPERSIONES\\\\2022\\\\12. DICIEMBRE\\\\QUERIES\\\\SETTLEMENT 2022-12-01.csv',\n",
       " 'C:\\\\Users\\\\Cristian.Aparicio\\\\Documents\\\\DISPERSIONES\\\\2022\\\\12. DICIEMBRE\\\\QUERIES\\\\SETTLEMENT 2022-12-02.csv',\n",
       " 'C:\\\\Users\\\\Cristian.Aparicio\\\\Documents\\\\DISPERSIONES\\\\2022\\\\12. DICIEMBRE\\\\QUERIES\\\\SETTLEMENT 2022-12-03.csv',\n",
       " 'C:\\\\Users\\\\Cristian.Aparicio\\\\Documents\\\\DISPERSIONES\\\\2022\\\\12. DICIEMBRE\\\\QUERIES\\\\SETTLEMENT 2022-12-04.csv',\n",
       " 'C:\\\\Users\\\\Cristian.Aparicio\\\\Documents\\\\DISPERSIONES\\\\2022\\\\12. DICIEMBRE\\\\QUERIES\\\\SETTLEMENT 2022-12-05.csv',\n",
       " 'C:\\\\Users\\\\Cristian.Aparicio\\\\Documents\\\\DISPERSIONES\\\\2022\\\\12. DICIEMBRE\\\\QUERIES\\\\SETTLEMENT 2022-12-06.csv',\n",
       " 'C:\\\\Users\\\\Cristian.Aparicio\\\\Documents\\\\DISPERSIONES\\\\2022\\\\12. DICIEMBRE\\\\QUERIES\\\\SETTLEMENT 2022-12-07.csv',\n",
       " 'C:\\\\Users\\\\Cristian.Aparicio\\\\Documents\\\\DISPERSIONES\\\\2022\\\\12. DICIEMBRE\\\\QUERIES\\\\SETTLEMENT 2022-12-08.csv',\n",
       " 'C:\\\\Users\\\\Cristian.Aparicio\\\\Documents\\\\DISPERSIONES\\\\2022\\\\12. DICIEMBRE\\\\QUERIES\\\\SETTLEMENT 2022-12-09.csv',\n",
       " 'C:\\\\Users\\\\Cristian.Aparicio\\\\Documents\\\\DISPERSIONES\\\\2022\\\\12. DICIEMBRE\\\\QUERIES\\\\SETTLEMENT 2022-12-10.csv',\n",
       " 'C:\\\\Users\\\\Cristian.Aparicio\\\\Documents\\\\DISPERSIONES\\\\2022\\\\12. DICIEMBRE\\\\QUERIES\\\\SETTLEMENT 2022-12-11.csv',\n",
       " 'C:\\\\Users\\\\Cristian.Aparicio\\\\Documents\\\\DISPERSIONES\\\\2022\\\\12. DICIEMBRE\\\\QUERIES\\\\SETTLEMENT 2022-12-12.csv',\n",
       " 'C:\\\\Users\\\\Cristian.Aparicio\\\\Documents\\\\DISPERSIONES\\\\2022\\\\12. DICIEMBRE\\\\QUERIES\\\\SETTLEMENT 2022-12-13.csv',\n",
       " 'C:\\\\Users\\\\Cristian.Aparicio\\\\Documents\\\\DISPERSIONES\\\\2022\\\\12. DICIEMBRE\\\\QUERIES\\\\SETTLEMENT 2022-12-14.csv',\n",
       " 'C:\\\\Users\\\\Cristian.Aparicio\\\\Documents\\\\DISPERSIONES\\\\2022\\\\12. DICIEMBRE\\\\QUERIES\\\\SETTLEMENT 2022-12-15.csv',\n",
       " 'C:\\\\Users\\\\Cristian.Aparicio\\\\Documents\\\\DISPERSIONES\\\\2022\\\\12. DICIEMBRE\\\\QUERIES\\\\SETTLEMENT 2022-12-16.csv',\n",
       " 'C:\\\\Users\\\\Cristian.Aparicio\\\\Documents\\\\DISPERSIONES\\\\2022\\\\12. DICIEMBRE\\\\QUERIES\\\\SETTLEMENT 2022-12-17.csv',\n",
       " 'C:\\\\Users\\\\Cristian.Aparicio\\\\Documents\\\\DISPERSIONES\\\\2022\\\\12. DICIEMBRE\\\\QUERIES\\\\SETTLEMENT 2022-12-18.csv',\n",
       " 'C:\\\\Users\\\\Cristian.Aparicio\\\\Documents\\\\DISPERSIONES\\\\2022\\\\12. DICIEMBRE\\\\QUERIES\\\\SETTLEMENT 2022-12-19.csv',\n",
       " 'C:\\\\Users\\\\Cristian.Aparicio\\\\Documents\\\\DISPERSIONES\\\\2022\\\\12. DICIEMBRE\\\\QUERIES\\\\SETTLEMENT 2022-12-20.csv',\n",
       " 'C:\\\\Users\\\\Cristian.Aparicio\\\\Documents\\\\DISPERSIONES\\\\2022\\\\12. DICIEMBRE\\\\QUERIES\\\\SETTLEMENT 2022-12-21.csv',\n",
       " 'C:\\\\Users\\\\Cristian.Aparicio\\\\Documents\\\\DISPERSIONES\\\\2022\\\\12. DICIEMBRE\\\\QUERIES\\\\SETTLEMENT 2022-12-22.csv',\n",
       " 'C:\\\\Users\\\\Cristian.Aparicio\\\\Documents\\\\DISPERSIONES\\\\2022\\\\12. DICIEMBRE\\\\QUERIES\\\\SETTLEMENT 2022-12-23.csv',\n",
       " 'C:\\\\Users\\\\Cristian.Aparicio\\\\Documents\\\\DISPERSIONES\\\\2022\\\\12. DICIEMBRE\\\\QUERIES\\\\SETTLEMENT 2022-12-24.csv',\n",
       " 'C:\\\\Users\\\\Cristian.Aparicio\\\\Documents\\\\DISPERSIONES\\\\2022\\\\12. DICIEMBRE\\\\QUERIES\\\\SETTLEMENT 2022-12-25.csv',\n",
       " 'C:\\\\Users\\\\Cristian.Aparicio\\\\Documents\\\\DISPERSIONES\\\\2022\\\\12. DICIEMBRE\\\\QUERIES\\\\SETTLEMENT 2022-12-26.csv',\n",
       " 'C:\\\\Users\\\\Cristian.Aparicio\\\\Documents\\\\DISPERSIONES\\\\2022\\\\12. DICIEMBRE\\\\QUERIES\\\\SETTLEMENT 2022-12-27.csv',\n",
       " 'C:\\\\Users\\\\Cristian.Aparicio\\\\Documents\\\\DISPERSIONES\\\\2022\\\\12. DICIEMBRE\\\\QUERIES\\\\SETTLEMENT 2022-12-28.csv',\n",
       " 'C:\\\\Users\\\\Cristian.Aparicio\\\\Documents\\\\DISPERSIONES\\\\2022\\\\12. DICIEMBRE\\\\QUERIES\\\\SETTLEMENT 2022-12-29.csv',\n",
       " 'C:\\\\Users\\\\Cristian.Aparicio\\\\Documents\\\\DISPERSIONES\\\\2022\\\\12. DICIEMBRE\\\\QUERIES\\\\SETTLEMENT 2022-12-30.csv',\n",
       " 'C:\\\\Users\\\\Cristian.Aparicio\\\\Documents\\\\DISPERSIONES\\\\2022\\\\12. DICIEMBRE\\\\QUERIES\\\\SETTLEMENT 2022-12-31.csv']"
      ]
     },
     "execution_count": 3,
     "metadata": {},
     "output_type": "execute_result"
    }
   ],
   "source": [
    "allfiles_fact = glob.glob(r'C:\\Users\\Cristian.Aparicio\\Documents\\DISPERSIONES\\2022\\12. DICIEMBRE\\QUERIES\\*.csv', recursive=False)\n",
    "allfiles_fact"
   ]
  },
  {
   "cell_type": "code",
   "execution_count": 4,
   "metadata": {},
   "outputs": [
    {
     "name": "stderr",
     "output_type": "stream",
     "text": [
      "C:\\Users\\Cristian.Aparicio\\AppData\\Local\\Temp\\ipykernel_16688\\3093704898.py:1: DtypeWarning: Columns (18) have mixed types. Specify dtype option on import or set low_memory=False.\n",
      "  fact_current_month = pd.concat([pd.read_csv(f).assign(file_name=os.path.basename(f)) for f in allfiles_fact])\n",
      "C:\\Users\\Cristian.Aparicio\\AppData\\Local\\Temp\\ipykernel_16688\\3093704898.py:1: DtypeWarning: Columns (18) have mixed types. Specify dtype option on import or set low_memory=False.\n",
      "  fact_current_month = pd.concat([pd.read_csv(f).assign(file_name=os.path.basename(f)) for f in allfiles_fact])\n",
      "C:\\Users\\Cristian.Aparicio\\AppData\\Local\\Temp\\ipykernel_16688\\3093704898.py:1: DtypeWarning: Columns (18) have mixed types. Specify dtype option on import or set low_memory=False.\n",
      "  fact_current_month = pd.concat([pd.read_csv(f).assign(file_name=os.path.basename(f)) for f in allfiles_fact])\n",
      "C:\\Users\\Cristian.Aparicio\\AppData\\Local\\Temp\\ipykernel_16688\\3093704898.py:1: DtypeWarning: Columns (18) have mixed types. Specify dtype option on import or set low_memory=False.\n",
      "  fact_current_month = pd.concat([pd.read_csv(f).assign(file_name=os.path.basename(f)) for f in allfiles_fact])\n",
      "C:\\Users\\Cristian.Aparicio\\AppData\\Local\\Temp\\ipykernel_16688\\3093704898.py:1: DtypeWarning: Columns (18) have mixed types. Specify dtype option on import or set low_memory=False.\n",
      "  fact_current_month = pd.concat([pd.read_csv(f).assign(file_name=os.path.basename(f)) for f in allfiles_fact])\n",
      "C:\\Users\\Cristian.Aparicio\\AppData\\Local\\Temp\\ipykernel_16688\\3093704898.py:1: DtypeWarning: Columns (18) have mixed types. Specify dtype option on import or set low_memory=False.\n",
      "  fact_current_month = pd.concat([pd.read_csv(f).assign(file_name=os.path.basename(f)) for f in allfiles_fact])\n",
      "C:\\Users\\Cristian.Aparicio\\AppData\\Local\\Temp\\ipykernel_16688\\3093704898.py:1: DtypeWarning: Columns (18) have mixed types. Specify dtype option on import or set low_memory=False.\n",
      "  fact_current_month = pd.concat([pd.read_csv(f).assign(file_name=os.path.basename(f)) for f in allfiles_fact])\n"
     ]
    },
    {
     "data": {
      "text/html": [
       "<div>\n",
       "<style scoped>\n",
       "    .dataframe tbody tr th:only-of-type {\n",
       "        vertical-align: middle;\n",
       "    }\n",
       "\n",
       "    .dataframe tbody tr th {\n",
       "        vertical-align: top;\n",
       "    }\n",
       "\n",
       "    .dataframe thead th {\n",
       "        text-align: right;\n",
       "    }\n",
       "</style>\n",
       "<table border=\"1\" class=\"dataframe\">\n",
       "  <thead>\n",
       "    <tr style=\"text-align: right;\">\n",
       "      <th></th>\n",
       "      <th>merchant_id</th>\n",
       "      <th>merchant_name</th>\n",
       "      <th>user_email</th>\n",
       "      <th>report_id</th>\n",
       "      <th>report_date_local</th>\n",
       "      <th>total_transactions</th>\n",
       "      <th>total_fees_charged</th>\n",
       "      <th>total_taxes</th>\n",
       "      <th>applied_fees_benefits</th>\n",
       "      <th>applied_taxes_benefits</th>\n",
       "      <th>...</th>\n",
       "      <th>total_retained</th>\n",
       "      <th>tipopago</th>\n",
       "      <th>total_due</th>\n",
       "      <th>type</th>\n",
       "      <th>created_date</th>\n",
       "      <th>created_time</th>\n",
       "      <th>updated_date</th>\n",
       "      <th>updated_time</th>\n",
       "      <th>file_name</th>\n",
       "      <th>Date</th>\n",
       "    </tr>\n",
       "  </thead>\n",
       "  <tbody>\n",
       "    <tr>\n",
       "      <th>0</th>\n",
       "      <td>1b103437-7cd3-4774-817f-d68bfc6ebb05</td>\n",
       "      <td>FRUTAS Y VERDURAS DE LA ESQUINA</td>\n",
       "      <td>juanluis1890@icloud.com</td>\n",
       "      <td>Y46DFXQNS</td>\n",
       "      <td>2022-12-01</td>\n",
       "      <td>155.65</td>\n",
       "      <td>5.61</td>\n",
       "      <td>0.90</td>\n",
       "      <td>0.00</td>\n",
       "      <td>0.00</td>\n",
       "      <td>...</td>\n",
       "      <td>0.00</td>\n",
       "      <td>NaN</td>\n",
       "      <td>149.14</td>\n",
       "      <td>DAILY</td>\n",
       "      <td>2022-12-01</td>\n",
       "      <td>02:00:30</td>\n",
       "      <td>2022-12-01</td>\n",
       "      <td>02:00:30</td>\n",
       "      <td>SETTLEMENT 2022-12-01.csv</td>\n",
       "      <td>2022-12-01</td>\n",
       "    </tr>\n",
       "    <tr>\n",
       "      <th>1</th>\n",
       "      <td>682fa1f6-5459-420e-8f2a-ad3f52306ef6</td>\n",
       "      <td>CONSULTORIO</td>\n",
       "      <td>katun7@gmail.com</td>\n",
       "      <td>57MPWP22S</td>\n",
       "      <td>2022-12-01</td>\n",
       "      <td>1,400.00</td>\n",
       "      <td>50.40</td>\n",
       "      <td>8.06</td>\n",
       "      <td>0.00</td>\n",
       "      <td>0.00</td>\n",
       "      <td>...</td>\n",
       "      <td>0.00</td>\n",
       "      <td>NaN</td>\n",
       "      <td>1,341.54</td>\n",
       "      <td>DAILY</td>\n",
       "      <td>2022-12-01</td>\n",
       "      <td>02:00:31</td>\n",
       "      <td>2022-12-01</td>\n",
       "      <td>02:00:31</td>\n",
       "      <td>SETTLEMENT 2022-12-01.csv</td>\n",
       "      <td>2022-12-01</td>\n",
       "    </tr>\n",
       "    <tr>\n",
       "      <th>2</th>\n",
       "      <td>b753f531-bf73-421d-9b78-8b50491dbe14</td>\n",
       "      <td>TAXI ACUATICO</td>\n",
       "      <td>luismiguelgonzalezvirgen4@gmail.com</td>\n",
       "      <td>97RHCS4Y8</td>\n",
       "      <td>2022-12-01</td>\n",
       "      <td>1,500.00</td>\n",
       "      <td>54.00</td>\n",
       "      <td>8.64</td>\n",
       "      <td>0.00</td>\n",
       "      <td>0.00</td>\n",
       "      <td>...</td>\n",
       "      <td>0.00</td>\n",
       "      <td>NaN</td>\n",
       "      <td>1,437.36</td>\n",
       "      <td>DAILY</td>\n",
       "      <td>2022-12-01</td>\n",
       "      <td>02:00:31</td>\n",
       "      <td>2022-12-01</td>\n",
       "      <td>02:00:31</td>\n",
       "      <td>SETTLEMENT 2022-12-01.csv</td>\n",
       "      <td>2022-12-01</td>\n",
       "    </tr>\n",
       "    <tr>\n",
       "      <th>3</th>\n",
       "      <td>d8bc09a9-52e8-4160-994c-8e302b3c52a2</td>\n",
       "      <td>TUCANDELABAR</td>\n",
       "      <td>Jai-mehdez@hotmail.com</td>\n",
       "      <td>DL8PLM5JB</td>\n",
       "      <td>2022-12-01</td>\n",
       "      <td>4,509.00</td>\n",
       "      <td>162.32</td>\n",
       "      <td>25.97</td>\n",
       "      <td>0.00</td>\n",
       "      <td>0.00</td>\n",
       "      <td>...</td>\n",
       "      <td>0.00</td>\n",
       "      <td>NaN</td>\n",
       "      <td>4,320.71</td>\n",
       "      <td>DAILY</td>\n",
       "      <td>2022-12-01</td>\n",
       "      <td>02:00:31</td>\n",
       "      <td>2022-12-01</td>\n",
       "      <td>02:00:31</td>\n",
       "      <td>SETTLEMENT 2022-12-01.csv</td>\n",
       "      <td>2022-12-01</td>\n",
       "    </tr>\n",
       "    <tr>\n",
       "      <th>4</th>\n",
       "      <td>b5e67fd0-9cf2-4cb3-9e91-e7cd51242f3a</td>\n",
       "      <td>LES AMIGOS</td>\n",
       "      <td>les3amigosplayadelcarmen@gmail.com</td>\n",
       "      <td>HWVC6WN8F</td>\n",
       "      <td>2022-12-01</td>\n",
       "      <td>1,943.00</td>\n",
       "      <td>69.95</td>\n",
       "      <td>11.19</td>\n",
       "      <td>0.00</td>\n",
       "      <td>0.00</td>\n",
       "      <td>...</td>\n",
       "      <td>0.00</td>\n",
       "      <td>NaN</td>\n",
       "      <td>1,861.86</td>\n",
       "      <td>DAILY</td>\n",
       "      <td>2022-12-01</td>\n",
       "      <td>02:00:31</td>\n",
       "      <td>2022-12-01</td>\n",
       "      <td>02:00:31</td>\n",
       "      <td>SETTLEMENT 2022-12-01.csv</td>\n",
       "      <td>2022-12-01</td>\n",
       "    </tr>\n",
       "  </tbody>\n",
       "</table>\n",
       "<p>5 rows × 27 columns</p>\n",
       "</div>"
      ],
      "text/plain": [
       "                            merchant_id                     merchant_name  \\\n",
       "0  1b103437-7cd3-4774-817f-d68bfc6ebb05  FRUTAS Y VERDURAS DE LA ESQUINA    \n",
       "1  682fa1f6-5459-420e-8f2a-ad3f52306ef6                       CONSULTORIO   \n",
       "2  b753f531-bf73-421d-9b78-8b50491dbe14                     TAXI ACUATICO   \n",
       "3  d8bc09a9-52e8-4160-994c-8e302b3c52a2                      TUCANDELABAR   \n",
       "4  b5e67fd0-9cf2-4cb3-9e91-e7cd51242f3a                        LES AMIGOS   \n",
       "\n",
       "                            user_email  report_id report_date_local  \\\n",
       "0              juanluis1890@icloud.com  Y46DFXQNS        2022-12-01   \n",
       "1                     katun7@gmail.com  57MPWP22S        2022-12-01   \n",
       "2  luismiguelgonzalezvirgen4@gmail.com  97RHCS4Y8        2022-12-01   \n",
       "3               Jai-mehdez@hotmail.com  DL8PLM5JB        2022-12-01   \n",
       "4   les3amigosplayadelcarmen@gmail.com  HWVC6WN8F        2022-12-01   \n",
       "\n",
       "   total_transactions  total_fees_charged  total_taxes  applied_fees_benefits  \\\n",
       "0              155.65                5.61         0.90                   0.00   \n",
       "1            1,400.00               50.40         8.06                   0.00   \n",
       "2            1,500.00               54.00         8.64                   0.00   \n",
       "3            4,509.00              162.32        25.97                   0.00   \n",
       "4            1,943.00               69.95        11.19                   0.00   \n",
       "\n",
       "   applied_taxes_benefits  ...  total_retained  tipopago  total_due   type  \\\n",
       "0                    0.00  ...            0.00       NaN     149.14  DAILY   \n",
       "1                    0.00  ...            0.00       NaN   1,341.54  DAILY   \n",
       "2                    0.00  ...            0.00       NaN   1,437.36  DAILY   \n",
       "3                    0.00  ...            0.00       NaN   4,320.71  DAILY   \n",
       "4                    0.00  ...            0.00       NaN   1,861.86  DAILY   \n",
       "\n",
       "   created_date  created_time  updated_date  updated_time  \\\n",
       "0    2022-12-01      02:00:30    2022-12-01      02:00:30   \n",
       "1    2022-12-01      02:00:31    2022-12-01      02:00:31   \n",
       "2    2022-12-01      02:00:31    2022-12-01      02:00:31   \n",
       "3    2022-12-01      02:00:31    2022-12-01      02:00:31   \n",
       "4    2022-12-01      02:00:31    2022-12-01      02:00:31   \n",
       "\n",
       "                   file_name       Date  \n",
       "0  SETTLEMENT 2022-12-01.csv 2022-12-01  \n",
       "1  SETTLEMENT 2022-12-01.csv 2022-12-01  \n",
       "2  SETTLEMENT 2022-12-01.csv 2022-12-01  \n",
       "3  SETTLEMENT 2022-12-01.csv 2022-12-01  \n",
       "4  SETTLEMENT 2022-12-01.csv 2022-12-01  \n",
       "\n",
       "[5 rows x 27 columns]"
      ]
     },
     "execution_count": 4,
     "metadata": {},
     "output_type": "execute_result"
    }
   ],
   "source": [
    "fact_current_month = pd.concat([pd.read_csv(f).assign(file_name=os.path.basename(f)) for f in allfiles_fact])\n",
    "fact_current_month['Date'] = fact_current_month[\"file_name\"].str[-14:-4]\n",
    "fact_current_month['Date']= pd.to_datetime(fact_current_month['Date'])\n",
    "fact_current_month['total_transactions'] = fact_current_month['total_transactions'].astype(float)\n",
    "fact_current_month.head()"
   ]
  },
  {
   "cell_type": "code",
   "execution_count": 5,
   "metadata": {},
   "outputs": [
    {
     "data": {
      "text/plain": [
       "(2876286, 27)"
      ]
     },
     "execution_count": 5,
     "metadata": {},
     "output_type": "execute_result"
    }
   ],
   "source": [
    "fact_current_month.shape"
   ]
  },
  {
   "cell_type": "code",
   "execution_count": 6,
   "metadata": {},
   "outputs": [
    {
     "data": {
      "text/html": [
       "<div>\n",
       "<style scoped>\n",
       "    .dataframe tbody tr th:only-of-type {\n",
       "        vertical-align: middle;\n",
       "    }\n",
       "\n",
       "    .dataframe tbody tr th {\n",
       "        vertical-align: top;\n",
       "    }\n",
       "\n",
       "    .dataframe thead th {\n",
       "        text-align: right;\n",
       "    }\n",
       "</style>\n",
       "<table border=\"1\" class=\"dataframe\">\n",
       "  <thead>\n",
       "    <tr style=\"text-align: right;\">\n",
       "      <th></th>\n",
       "      <th>merchant_id</th>\n",
       "      <th>merchant_name</th>\n",
       "      <th>user_email</th>\n",
       "      <th>report_id</th>\n",
       "      <th>report_date_local</th>\n",
       "      <th>total_transactions</th>\n",
       "      <th>total_fees_charged</th>\n",
       "      <th>total_taxes</th>\n",
       "      <th>applied_fees_benefits</th>\n",
       "      <th>applied_taxes_benefits</th>\n",
       "      <th>...</th>\n",
       "      <th>total_retained</th>\n",
       "      <th>tipopago</th>\n",
       "      <th>total_due</th>\n",
       "      <th>type</th>\n",
       "      <th>created_date</th>\n",
       "      <th>created_time</th>\n",
       "      <th>updated_date</th>\n",
       "      <th>updated_time</th>\n",
       "      <th>file_name</th>\n",
       "      <th>Date</th>\n",
       "    </tr>\n",
       "  </thead>\n",
       "  <tbody>\n",
       "    <tr>\n",
       "      <th>0</th>\n",
       "      <td>1b103437-7cd3-4774-817f-d68bfc6ebb05</td>\n",
       "      <td>FRUTAS Y VERDURAS DE LA ESQUINA</td>\n",
       "      <td>juanluis1890@icloud.com</td>\n",
       "      <td>Y46DFXQNS</td>\n",
       "      <td>2022-12-01</td>\n",
       "      <td>155.65</td>\n",
       "      <td>5.61</td>\n",
       "      <td>0.90</td>\n",
       "      <td>0.00</td>\n",
       "      <td>0.00</td>\n",
       "      <td>...</td>\n",
       "      <td>0.00</td>\n",
       "      <td>NaN</td>\n",
       "      <td>149.14</td>\n",
       "      <td>DAILY</td>\n",
       "      <td>2022-12-01</td>\n",
       "      <td>02:00:30</td>\n",
       "      <td>2022-12-01</td>\n",
       "      <td>02:00:30</td>\n",
       "      <td>SETTLEMENT 2022-12-01.csv</td>\n",
       "      <td>2022-12-01</td>\n",
       "    </tr>\n",
       "    <tr>\n",
       "      <th>1</th>\n",
       "      <td>682fa1f6-5459-420e-8f2a-ad3f52306ef6</td>\n",
       "      <td>CONSULTORIO</td>\n",
       "      <td>katun7@gmail.com</td>\n",
       "      <td>57MPWP22S</td>\n",
       "      <td>2022-12-01</td>\n",
       "      <td>1,400.00</td>\n",
       "      <td>50.40</td>\n",
       "      <td>8.06</td>\n",
       "      <td>0.00</td>\n",
       "      <td>0.00</td>\n",
       "      <td>...</td>\n",
       "      <td>0.00</td>\n",
       "      <td>NaN</td>\n",
       "      <td>1,341.54</td>\n",
       "      <td>DAILY</td>\n",
       "      <td>2022-12-01</td>\n",
       "      <td>02:00:31</td>\n",
       "      <td>2022-12-01</td>\n",
       "      <td>02:00:31</td>\n",
       "      <td>SETTLEMENT 2022-12-01.csv</td>\n",
       "      <td>2022-12-01</td>\n",
       "    </tr>\n",
       "    <tr>\n",
       "      <th>2</th>\n",
       "      <td>b753f531-bf73-421d-9b78-8b50491dbe14</td>\n",
       "      <td>TAXI ACUATICO</td>\n",
       "      <td>luismiguelgonzalezvirgen4@gmail.com</td>\n",
       "      <td>97RHCS4Y8</td>\n",
       "      <td>2022-12-01</td>\n",
       "      <td>1,500.00</td>\n",
       "      <td>54.00</td>\n",
       "      <td>8.64</td>\n",
       "      <td>0.00</td>\n",
       "      <td>0.00</td>\n",
       "      <td>...</td>\n",
       "      <td>0.00</td>\n",
       "      <td>NaN</td>\n",
       "      <td>1,437.36</td>\n",
       "      <td>DAILY</td>\n",
       "      <td>2022-12-01</td>\n",
       "      <td>02:00:31</td>\n",
       "      <td>2022-12-01</td>\n",
       "      <td>02:00:31</td>\n",
       "      <td>SETTLEMENT 2022-12-01.csv</td>\n",
       "      <td>2022-12-01</td>\n",
       "    </tr>\n",
       "    <tr>\n",
       "      <th>3</th>\n",
       "      <td>d8bc09a9-52e8-4160-994c-8e302b3c52a2</td>\n",
       "      <td>TUCANDELABAR</td>\n",
       "      <td>Jai-mehdez@hotmail.com</td>\n",
       "      <td>DL8PLM5JB</td>\n",
       "      <td>2022-12-01</td>\n",
       "      <td>4,509.00</td>\n",
       "      <td>162.32</td>\n",
       "      <td>25.97</td>\n",
       "      <td>0.00</td>\n",
       "      <td>0.00</td>\n",
       "      <td>...</td>\n",
       "      <td>0.00</td>\n",
       "      <td>NaN</td>\n",
       "      <td>4,320.71</td>\n",
       "      <td>DAILY</td>\n",
       "      <td>2022-12-01</td>\n",
       "      <td>02:00:31</td>\n",
       "      <td>2022-12-01</td>\n",
       "      <td>02:00:31</td>\n",
       "      <td>SETTLEMENT 2022-12-01.csv</td>\n",
       "      <td>2022-12-01</td>\n",
       "    </tr>\n",
       "    <tr>\n",
       "      <th>4</th>\n",
       "      <td>b5e67fd0-9cf2-4cb3-9e91-e7cd51242f3a</td>\n",
       "      <td>LES AMIGOS</td>\n",
       "      <td>les3amigosplayadelcarmen@gmail.com</td>\n",
       "      <td>HWVC6WN8F</td>\n",
       "      <td>2022-12-01</td>\n",
       "      <td>1,943.00</td>\n",
       "      <td>69.95</td>\n",
       "      <td>11.19</td>\n",
       "      <td>0.00</td>\n",
       "      <td>0.00</td>\n",
       "      <td>...</td>\n",
       "      <td>0.00</td>\n",
       "      <td>NaN</td>\n",
       "      <td>1,861.86</td>\n",
       "      <td>DAILY</td>\n",
       "      <td>2022-12-01</td>\n",
       "      <td>02:00:31</td>\n",
       "      <td>2022-12-01</td>\n",
       "      <td>02:00:31</td>\n",
       "      <td>SETTLEMENT 2022-12-01.csv</td>\n",
       "      <td>2022-12-01</td>\n",
       "    </tr>\n",
       "  </tbody>\n",
       "</table>\n",
       "<p>5 rows × 27 columns</p>\n",
       "</div>"
      ],
      "text/plain": [
       "                            merchant_id                     merchant_name  \\\n",
       "0  1b103437-7cd3-4774-817f-d68bfc6ebb05  FRUTAS Y VERDURAS DE LA ESQUINA    \n",
       "1  682fa1f6-5459-420e-8f2a-ad3f52306ef6                       CONSULTORIO   \n",
       "2  b753f531-bf73-421d-9b78-8b50491dbe14                     TAXI ACUATICO   \n",
       "3  d8bc09a9-52e8-4160-994c-8e302b3c52a2                      TUCANDELABAR   \n",
       "4  b5e67fd0-9cf2-4cb3-9e91-e7cd51242f3a                        LES AMIGOS   \n",
       "\n",
       "                            user_email  report_id report_date_local  \\\n",
       "0              juanluis1890@icloud.com  Y46DFXQNS        2022-12-01   \n",
       "1                     katun7@gmail.com  57MPWP22S        2022-12-01   \n",
       "2  luismiguelgonzalezvirgen4@gmail.com  97RHCS4Y8        2022-12-01   \n",
       "3               Jai-mehdez@hotmail.com  DL8PLM5JB        2022-12-01   \n",
       "4   les3amigosplayadelcarmen@gmail.com  HWVC6WN8F        2022-12-01   \n",
       "\n",
       "   total_transactions  total_fees_charged  total_taxes  applied_fees_benefits  \\\n",
       "0              155.65                5.61         0.90                   0.00   \n",
       "1            1,400.00               50.40         8.06                   0.00   \n",
       "2            1,500.00               54.00         8.64                   0.00   \n",
       "3            4,509.00              162.32        25.97                   0.00   \n",
       "4            1,943.00               69.95        11.19                   0.00   \n",
       "\n",
       "   applied_taxes_benefits  ...  total_retained  tipopago  total_due   type  \\\n",
       "0                    0.00  ...            0.00       NaN     149.14  DAILY   \n",
       "1                    0.00  ...            0.00       NaN   1,341.54  DAILY   \n",
       "2                    0.00  ...            0.00       NaN   1,437.36  DAILY   \n",
       "3                    0.00  ...            0.00       NaN   4,320.71  DAILY   \n",
       "4                    0.00  ...            0.00       NaN   1,861.86  DAILY   \n",
       "\n",
       "   created_date  created_time  updated_date  updated_time  \\\n",
       "0    2022-12-01      02:00:30    2022-12-01      02:00:30   \n",
       "1    2022-12-01      02:00:31    2022-12-01      02:00:31   \n",
       "2    2022-12-01      02:00:31    2022-12-01      02:00:31   \n",
       "3    2022-12-01      02:00:31    2022-12-01      02:00:31   \n",
       "4    2022-12-01      02:00:31    2022-12-01      02:00:31   \n",
       "\n",
       "                   file_name       Date  \n",
       "0  SETTLEMENT 2022-12-01.csv 2022-12-01  \n",
       "1  SETTLEMENT 2022-12-01.csv 2022-12-01  \n",
       "2  SETTLEMENT 2022-12-01.csv 2022-12-01  \n",
       "3  SETTLEMENT 2022-12-01.csv 2022-12-01  \n",
       "4  SETTLEMENT 2022-12-01.csv 2022-12-01  \n",
       "\n",
       "[5 rows x 27 columns]"
      ]
     },
     "execution_count": 6,
     "metadata": {},
     "output_type": "execute_result"
    }
   ],
   "source": [
    "fact_current_month_final = fact_current_month[(fact_current_month['Date'] >= start_date_fact)]\n",
    "fact_current_month_final.head()"
   ]
  },
  {
   "cell_type": "code",
   "execution_count": 7,
   "metadata": {},
   "outputs": [
    {
     "data": {
      "text/plain": [
       "(2876286, 27)"
      ]
     },
     "execution_count": 7,
     "metadata": {},
     "output_type": "execute_result"
    }
   ],
   "source": [
    "fact_current_month_final.shape"
   ]
  },
  {
   "cell_type": "code",
   "execution_count": 8,
   "metadata": {},
   "outputs": [
    {
     "data": {
      "text/html": [
       "<div>\n",
       "<style scoped>\n",
       "    .dataframe tbody tr th:only-of-type {\n",
       "        vertical-align: middle;\n",
       "    }\n",
       "\n",
       "    .dataframe tbody tr th {\n",
       "        vertical-align: top;\n",
       "    }\n",
       "\n",
       "    .dataframe thead th {\n",
       "        text-align: right;\n",
       "    }\n",
       "</style>\n",
       "<table border=\"1\" class=\"dataframe\">\n",
       "  <thead>\n",
       "    <tr style=\"text-align: right;\">\n",
       "      <th></th>\n",
       "      <th>merchant_id</th>\n",
       "      <th>merchant_name</th>\n",
       "      <th>user_email</th>\n",
       "      <th>report_id</th>\n",
       "      <th>report_date_local</th>\n",
       "      <th>total_transactions</th>\n",
       "      <th>total_fees_charged</th>\n",
       "      <th>total_taxes</th>\n",
       "      <th>applied_fees_benefits</th>\n",
       "      <th>applied_taxes_benefits</th>\n",
       "      <th>...</th>\n",
       "      <th>total_retained</th>\n",
       "      <th>tipopago</th>\n",
       "      <th>total_due</th>\n",
       "      <th>type</th>\n",
       "      <th>created_date</th>\n",
       "      <th>created_time</th>\n",
       "      <th>updated_date</th>\n",
       "      <th>updated_time</th>\n",
       "      <th>file_name</th>\n",
       "      <th>Date</th>\n",
       "    </tr>\n",
       "  </thead>\n",
       "  <tbody>\n",
       "    <tr>\n",
       "      <th>0</th>\n",
       "      <td>1b103437-7cd3-4774-817f-d68bfc6ebb05</td>\n",
       "      <td>FRUTAS Y VERDURAS DE LA ESQUINA</td>\n",
       "      <td>juanluis1890@icloud.com</td>\n",
       "      <td>Y46DFXQNS</td>\n",
       "      <td>2022-12-01</td>\n",
       "      <td>155.65</td>\n",
       "      <td>5.61</td>\n",
       "      <td>0.90</td>\n",
       "      <td>0.00</td>\n",
       "      <td>0.00</td>\n",
       "      <td>...</td>\n",
       "      <td>0.00</td>\n",
       "      <td>NaN</td>\n",
       "      <td>149.14</td>\n",
       "      <td>DAILY</td>\n",
       "      <td>2022-12-01</td>\n",
       "      <td>02:00:30</td>\n",
       "      <td>2022-12-01</td>\n",
       "      <td>02:00:30</td>\n",
       "      <td>SETTLEMENT 2022-12-01.csv</td>\n",
       "      <td>2022-12-01</td>\n",
       "    </tr>\n",
       "    <tr>\n",
       "      <th>1</th>\n",
       "      <td>682fa1f6-5459-420e-8f2a-ad3f52306ef6</td>\n",
       "      <td>CONSULTORIO</td>\n",
       "      <td>katun7@gmail.com</td>\n",
       "      <td>57MPWP22S</td>\n",
       "      <td>2022-12-01</td>\n",
       "      <td>1,400.00</td>\n",
       "      <td>50.40</td>\n",
       "      <td>8.06</td>\n",
       "      <td>0.00</td>\n",
       "      <td>0.00</td>\n",
       "      <td>...</td>\n",
       "      <td>0.00</td>\n",
       "      <td>NaN</td>\n",
       "      <td>1,341.54</td>\n",
       "      <td>DAILY</td>\n",
       "      <td>2022-12-01</td>\n",
       "      <td>02:00:31</td>\n",
       "      <td>2022-12-01</td>\n",
       "      <td>02:00:31</td>\n",
       "      <td>SETTLEMENT 2022-12-01.csv</td>\n",
       "      <td>2022-12-01</td>\n",
       "    </tr>\n",
       "    <tr>\n",
       "      <th>2</th>\n",
       "      <td>b753f531-bf73-421d-9b78-8b50491dbe14</td>\n",
       "      <td>TAXI ACUATICO</td>\n",
       "      <td>luismiguelgonzalezvirgen4@gmail.com</td>\n",
       "      <td>97RHCS4Y8</td>\n",
       "      <td>2022-12-01</td>\n",
       "      <td>1,500.00</td>\n",
       "      <td>54.00</td>\n",
       "      <td>8.64</td>\n",
       "      <td>0.00</td>\n",
       "      <td>0.00</td>\n",
       "      <td>...</td>\n",
       "      <td>0.00</td>\n",
       "      <td>NaN</td>\n",
       "      <td>1,437.36</td>\n",
       "      <td>DAILY</td>\n",
       "      <td>2022-12-01</td>\n",
       "      <td>02:00:31</td>\n",
       "      <td>2022-12-01</td>\n",
       "      <td>02:00:31</td>\n",
       "      <td>SETTLEMENT 2022-12-01.csv</td>\n",
       "      <td>2022-12-01</td>\n",
       "    </tr>\n",
       "    <tr>\n",
       "      <th>3</th>\n",
       "      <td>d8bc09a9-52e8-4160-994c-8e302b3c52a2</td>\n",
       "      <td>TUCANDELABAR</td>\n",
       "      <td>Jai-mehdez@hotmail.com</td>\n",
       "      <td>DL8PLM5JB</td>\n",
       "      <td>2022-12-01</td>\n",
       "      <td>4,509.00</td>\n",
       "      <td>162.32</td>\n",
       "      <td>25.97</td>\n",
       "      <td>0.00</td>\n",
       "      <td>0.00</td>\n",
       "      <td>...</td>\n",
       "      <td>0.00</td>\n",
       "      <td>NaN</td>\n",
       "      <td>4,320.71</td>\n",
       "      <td>DAILY</td>\n",
       "      <td>2022-12-01</td>\n",
       "      <td>02:00:31</td>\n",
       "      <td>2022-12-01</td>\n",
       "      <td>02:00:31</td>\n",
       "      <td>SETTLEMENT 2022-12-01.csv</td>\n",
       "      <td>2022-12-01</td>\n",
       "    </tr>\n",
       "    <tr>\n",
       "      <th>4</th>\n",
       "      <td>b5e67fd0-9cf2-4cb3-9e91-e7cd51242f3a</td>\n",
       "      <td>LES AMIGOS</td>\n",
       "      <td>les3amigosplayadelcarmen@gmail.com</td>\n",
       "      <td>HWVC6WN8F</td>\n",
       "      <td>2022-12-01</td>\n",
       "      <td>1,943.00</td>\n",
       "      <td>69.95</td>\n",
       "      <td>11.19</td>\n",
       "      <td>0.00</td>\n",
       "      <td>0.00</td>\n",
       "      <td>...</td>\n",
       "      <td>0.00</td>\n",
       "      <td>NaN</td>\n",
       "      <td>1,861.86</td>\n",
       "      <td>DAILY</td>\n",
       "      <td>2022-12-01</td>\n",
       "      <td>02:00:31</td>\n",
       "      <td>2022-12-01</td>\n",
       "      <td>02:00:31</td>\n",
       "      <td>SETTLEMENT 2022-12-01.csv</td>\n",
       "      <td>2022-12-01</td>\n",
       "    </tr>\n",
       "  </tbody>\n",
       "</table>\n",
       "<p>5 rows × 27 columns</p>\n",
       "</div>"
      ],
      "text/plain": [
       "                            merchant_id                     merchant_name  \\\n",
       "0  1b103437-7cd3-4774-817f-d68bfc6ebb05  FRUTAS Y VERDURAS DE LA ESQUINA    \n",
       "1  682fa1f6-5459-420e-8f2a-ad3f52306ef6                       CONSULTORIO   \n",
       "2  b753f531-bf73-421d-9b78-8b50491dbe14                     TAXI ACUATICO   \n",
       "3  d8bc09a9-52e8-4160-994c-8e302b3c52a2                      TUCANDELABAR   \n",
       "4  b5e67fd0-9cf2-4cb3-9e91-e7cd51242f3a                        LES AMIGOS   \n",
       "\n",
       "                            user_email  report_id report_date_local  \\\n",
       "0              juanluis1890@icloud.com  Y46DFXQNS        2022-12-01   \n",
       "1                     katun7@gmail.com  57MPWP22S        2022-12-01   \n",
       "2  luismiguelgonzalezvirgen4@gmail.com  97RHCS4Y8        2022-12-01   \n",
       "3               Jai-mehdez@hotmail.com  DL8PLM5JB        2022-12-01   \n",
       "4   les3amigosplayadelcarmen@gmail.com  HWVC6WN8F        2022-12-01   \n",
       "\n",
       "   total_transactions  total_fees_charged  total_taxes  applied_fees_benefits  \\\n",
       "0              155.65                5.61         0.90                   0.00   \n",
       "1            1,400.00               50.40         8.06                   0.00   \n",
       "2            1,500.00               54.00         8.64                   0.00   \n",
       "3            4,509.00              162.32        25.97                   0.00   \n",
       "4            1,943.00               69.95        11.19                   0.00   \n",
       "\n",
       "   applied_taxes_benefits  ...  total_retained  tipopago  total_due   type  \\\n",
       "0                    0.00  ...            0.00       NaN     149.14  DAILY   \n",
       "1                    0.00  ...            0.00       NaN   1,341.54  DAILY   \n",
       "2                    0.00  ...            0.00       NaN   1,437.36  DAILY   \n",
       "3                    0.00  ...            0.00       NaN   4,320.71  DAILY   \n",
       "4                    0.00  ...            0.00       NaN   1,861.86  DAILY   \n",
       "\n",
       "   created_date  created_time  updated_date  updated_time  \\\n",
       "0    2022-12-01      02:00:30    2022-12-01      02:00:30   \n",
       "1    2022-12-01      02:00:31    2022-12-01      02:00:31   \n",
       "2    2022-12-01      02:00:31    2022-12-01      02:00:31   \n",
       "3    2022-12-01      02:00:31    2022-12-01      02:00:31   \n",
       "4    2022-12-01      02:00:31    2022-12-01      02:00:31   \n",
       "\n",
       "                   file_name       Date  \n",
       "0  SETTLEMENT 2022-12-01.csv 2022-12-01  \n",
       "1  SETTLEMENT 2022-12-01.csv 2022-12-01  \n",
       "2  SETTLEMENT 2022-12-01.csv 2022-12-01  \n",
       "3  SETTLEMENT 2022-12-01.csv 2022-12-01  \n",
       "4  SETTLEMENT 2022-12-01.csv 2022-12-01  \n",
       "\n",
       "[5 rows x 27 columns]"
      ]
     },
     "execution_count": 8,
     "metadata": {},
     "output_type": "execute_result"
    }
   ],
   "source": [
    "fact_antes_cupones = pd.concat([fact_current_month_final])\n",
    "fact_antes_cupones.head()"
   ]
  },
  {
   "cell_type": "code",
   "execution_count": 9,
   "metadata": {},
   "outputs": [
    {
     "data": {
      "text/plain": [
       "(2876286, 27)"
      ]
     },
     "execution_count": 9,
     "metadata": {},
     "output_type": "execute_result"
    }
   ],
   "source": [
    "fact_antes_cupones.shape"
   ]
  },
  {
   "cell_type": "code",
   "execution_count": 10,
   "metadata": {},
   "outputs": [
    {
     "data": {
      "text/plain": [
       "array(['2022-12-01T00:00:00.000000000', '2022-12-02T00:00:00.000000000',\n",
       "       '2022-12-03T00:00:00.000000000', '2022-12-04T00:00:00.000000000',\n",
       "       '2022-12-05T00:00:00.000000000', '2022-12-06T00:00:00.000000000',\n",
       "       '2022-12-07T00:00:00.000000000', '2022-12-08T00:00:00.000000000',\n",
       "       '2022-12-09T00:00:00.000000000', '2022-12-10T00:00:00.000000000',\n",
       "       '2022-12-11T00:00:00.000000000', '2022-12-12T00:00:00.000000000',\n",
       "       '2022-12-13T00:00:00.000000000', '2022-12-14T00:00:00.000000000',\n",
       "       '2022-12-15T00:00:00.000000000', '2022-12-16T00:00:00.000000000',\n",
       "       '2022-12-17T00:00:00.000000000', '2022-12-18T00:00:00.000000000',\n",
       "       '2022-12-19T00:00:00.000000000', '2022-12-20T00:00:00.000000000',\n",
       "       '2022-12-21T00:00:00.000000000', '2022-12-22T00:00:00.000000000',\n",
       "       '2022-12-23T00:00:00.000000000', '2022-12-24T00:00:00.000000000',\n",
       "       '2022-12-25T00:00:00.000000000', '2022-12-26T00:00:00.000000000',\n",
       "       '2022-12-27T00:00:00.000000000', '2022-12-28T00:00:00.000000000',\n",
       "       '2022-12-29T00:00:00.000000000', '2022-12-30T00:00:00.000000000',\n",
       "       '2022-12-31T00:00:00.000000000'], dtype='datetime64[ns]')"
      ]
     },
     "execution_count": 10,
     "metadata": {},
     "output_type": "execute_result"
    }
   ],
   "source": [
    "fact_antes_cupones['Date'].unique()"
   ]
  },
  {
   "cell_type": "code",
   "execution_count": 11,
   "metadata": {},
   "outputs": [
    {
     "data": {
      "text/plain": [
       "array(['float'], dtype=object)"
      ]
     },
     "execution_count": 11,
     "metadata": {},
     "output_type": "execute_result"
    }
   ],
   "source": [
    "fact_antes_cupones['type_data'] = fact_antes_cupones['total_transactions'].apply(lambda x: type(x).__name__)\n",
    "fact_antes_cupones['type_data'].unique()"
   ]
  },
  {
   "cell_type": "code",
   "execution_count": 12,
   "metadata": {},
   "outputs": [
    {
     "data": {
      "text/html": [
       "<div>\n",
       "<style scoped>\n",
       "    .dataframe tbody tr th:only-of-type {\n",
       "        vertical-align: middle;\n",
       "    }\n",
       "\n",
       "    .dataframe tbody tr th {\n",
       "        vertical-align: top;\n",
       "    }\n",
       "\n",
       "    .dataframe thead th {\n",
       "        text-align: right;\n",
       "    }\n",
       "</style>\n",
       "<table border=\"1\" class=\"dataframe\">\n",
       "  <thead>\n",
       "    <tr style=\"text-align: right;\">\n",
       "      <th></th>\n",
       "      <th>merchant_id</th>\n",
       "      <th>merchant_name</th>\n",
       "      <th>user_email</th>\n",
       "      <th>report_id</th>\n",
       "      <th>report_date_local</th>\n",
       "      <th>total_transactions</th>\n",
       "      <th>total_fees_charged</th>\n",
       "      <th>total_taxes</th>\n",
       "      <th>applied_fees_benefits</th>\n",
       "      <th>applied_taxes_benefits</th>\n",
       "      <th>...</th>\n",
       "      <th>tipopago</th>\n",
       "      <th>total_due</th>\n",
       "      <th>type</th>\n",
       "      <th>created_date</th>\n",
       "      <th>created_time</th>\n",
       "      <th>updated_date</th>\n",
       "      <th>updated_time</th>\n",
       "      <th>file_name</th>\n",
       "      <th>Date</th>\n",
       "      <th>type_data</th>\n",
       "    </tr>\n",
       "  </thead>\n",
       "  <tbody>\n",
       "  </tbody>\n",
       "</table>\n",
       "<p>0 rows × 28 columns</p>\n",
       "</div>"
      ],
      "text/plain": [
       "Empty DataFrame\n",
       "Columns: [merchant_id, merchant_name, user_email, report_id, report_date_local, total_transactions, total_fees_charged, total_taxes, applied_fees_benefits, applied_taxes_benefits, fee_direct_deposit, taxes_direct_deposit, total_adjustments, total_adjustment_fees_charged, total_adjustment_taxes, cobranza, total_released, total_retained, tipopago, total_due, type, created_date, created_time, updated_date, updated_time, file_name, Date, type_data]\n",
       "Index: []\n",
       "\n",
       "[0 rows x 28 columns]"
      ]
     },
     "execution_count": 12,
     "metadata": {},
     "output_type": "execute_result"
    }
   ],
   "source": [
    "fact_antes_cupones[fact_antes_cupones.type_data == 'datetime']"
   ]
  },
  {
   "cell_type": "code",
   "execution_count": 13,
   "metadata": {},
   "outputs": [
    {
     "data": {
      "text/plain": [
       "merchant_id                              object\n",
       "merchant_name                            object\n",
       "user_email                               object\n",
       "report_id                                object\n",
       "report_date_local                        object\n",
       "total_transactions                      float64\n",
       "total_fees_charged                      float64\n",
       "total_taxes                             float64\n",
       "applied_fees_benefits                   float64\n",
       "applied_taxes_benefits                  float64\n",
       "fee_direct_deposit                      float64\n",
       "taxes_direct_deposit                    float64\n",
       "total_adjustments                       float64\n",
       "total_adjustment_fees_charged           float64\n",
       "total_adjustment_taxes                  float64\n",
       "cobranza                                float64\n",
       "total_released                          float64\n",
       "total_retained                          float64\n",
       "tipopago                                 object\n",
       "total_due                               float64\n",
       "type                                     object\n",
       "created_date                             object\n",
       "created_time                             object\n",
       "updated_date                             object\n",
       "updated_time                             object\n",
       "file_name                                object\n",
       "Date                             datetime64[ns]\n",
       "type_data                                object\n",
       "dtype: object"
      ]
     },
     "execution_count": 13,
     "metadata": {},
     "output_type": "execute_result"
    }
   ],
   "source": [
    "fact_antes_cupones.dtypes"
   ]
  },
  {
   "cell_type": "code",
   "execution_count": 14,
   "metadata": {},
   "outputs": [
    {
     "data": {
      "text/plain": [
       "(2876286, 28)"
      ]
     },
     "execution_count": 14,
     "metadata": {},
     "output_type": "execute_result"
    }
   ],
   "source": [
    "fact_antes_cupones.shape"
   ]
  },
  {
   "cell_type": "markdown",
   "metadata": {},
   "source": [
    "# CUPONES"
   ]
  },
  {
   "cell_type": "code",
   "execution_count": 15,
   "metadata": {},
   "outputs": [
    {
     "data": {
      "text/plain": [
       "['C:\\\\Users\\\\Cristian.Aparicio\\\\Documents\\\\FACTURACION\\\\2022\\\\12. DICIEMBRE\\\\Cupones_mm.csv']"
      ]
     },
     "execution_count": 15,
     "metadata": {},
     "output_type": "execute_result"
    }
   ],
   "source": [
    "allcupon_fact = glob.glob(r'C:\\Users\\Cristian.Aparicio\\Documents\\FACTURACION\\2022\\12. DICIEMBRE\\Cupones*.csv', recursive=False)\n",
    "allcupon_fact"
   ]
  },
  {
   "cell_type": "code",
   "execution_count": 16,
   "metadata": {},
   "outputs": [
    {
     "data": {
      "text/html": [
       "<div>\n",
       "<style scoped>\n",
       "    .dataframe tbody tr th:only-of-type {\n",
       "        vertical-align: middle;\n",
       "    }\n",
       "\n",
       "    .dataframe tbody tr th {\n",
       "        vertical-align: top;\n",
       "    }\n",
       "\n",
       "    .dataframe thead th {\n",
       "        text-align: right;\n",
       "    }\n",
       "</style>\n",
       "<table border=\"1\" class=\"dataframe\">\n",
       "  <thead>\n",
       "    <tr style=\"text-align: right;\">\n",
       "      <th></th>\n",
       "      <th>merchant_id</th>\n",
       "      <th>merchant_token</th>\n",
       "      <th>fee_refund_id</th>\n",
       "      <th>report_id</th>\n",
       "      <th>number_transactions</th>\n",
       "      <th>total_refunded</th>\n",
       "      <th>amount</th>\n",
       "      <th>pending</th>\n",
       "      <th>source</th>\n",
       "      <th>created_at</th>\n",
       "      <th>file_name</th>\n",
       "    </tr>\n",
       "  </thead>\n",
       "  <tbody>\n",
       "    <tr>\n",
       "      <th>0</th>\n",
       "      <td>40dda9f3-518e-423f-8b04-1572ba44a0d7</td>\n",
       "      <td>fbafce7d-82d6-470f-b76a-151332042ddd</td>\n",
       "      <td>5ac1dd9f-221b-4943-bd46-ec4aa4ae749b</td>\n",
       "      <td>228LCKGVL</td>\n",
       "      <td>2</td>\n",
       "      <td>76.42</td>\n",
       "      <td>108.00</td>\n",
       "      <td>31.58</td>\n",
       "      <td>LOYALTY</td>\n",
       "      <td>2022-10-06 11:39:28</td>\n",
       "      <td>Cupones_mm.csv</td>\n",
       "    </tr>\n",
       "    <tr>\n",
       "      <th>1</th>\n",
       "      <td>a2760683-129f-4de4-98e3-7e7a08d44e30</td>\n",
       "      <td>95e02cc8-864b-4249-83c6-6a41b7d39b0f</td>\n",
       "      <td>f7acbad2-452a-4fca-a143-b790ca5df741</td>\n",
       "      <td>228TQD63W</td>\n",
       "      <td>1</td>\n",
       "      <td>1.67</td>\n",
       "      <td>108.00</td>\n",
       "      <td>106.33</td>\n",
       "      <td>LOYALTY</td>\n",
       "      <td>2022-11-30 10:43:51</td>\n",
       "      <td>Cupones_mm.csv</td>\n",
       "    </tr>\n",
       "    <tr>\n",
       "      <th>2</th>\n",
       "      <td>9f7384ad-a017-4e15-81f9-1a77eee62f5d</td>\n",
       "      <td>b4c82681-754a-4932-9d1e-11c116df2bb4</td>\n",
       "      <td>8ba3cd55-d8ac-46a8-939f-0fe124c2d08a</td>\n",
       "      <td>22BZKF2BX</td>\n",
       "      <td>2</td>\n",
       "      <td>141.40</td>\n",
       "      <td>292.00</td>\n",
       "      <td>150.60</td>\n",
       "      <td>LOYALTY</td>\n",
       "      <td>2021-11-13 11:05:44</td>\n",
       "      <td>Cupones_mm.csv</td>\n",
       "    </tr>\n",
       "    <tr>\n",
       "      <th>3</th>\n",
       "      <td>6856f295-75c8-4a35-8728-531630c3e0a2</td>\n",
       "      <td>5d5bff5a-e49a-4a09-95b0-0b6a19bfaf6f</td>\n",
       "      <td>31a3d5f0-b8b1-417d-83eb-03715535ebf9</td>\n",
       "      <td>22G2FKHG7</td>\n",
       "      <td>1</td>\n",
       "      <td>108.00</td>\n",
       "      <td>108.00</td>\n",
       "      <td>0.00</td>\n",
       "      <td>LOYALTY</td>\n",
       "      <td>2022-12-16 10:22:56</td>\n",
       "      <td>Cupones_mm.csv</td>\n",
       "    </tr>\n",
       "    <tr>\n",
       "      <th>4</th>\n",
       "      <td>738de109-77df-4182-9643-e436bb893a38</td>\n",
       "      <td>343c2a67-5c80-4779-8ede-c2e51ddd8436</td>\n",
       "      <td>0714eca4-db00-42a5-8208-c383324b096d</td>\n",
       "      <td>22R67MKYL</td>\n",
       "      <td>1</td>\n",
       "      <td>108.00</td>\n",
       "      <td>108.00</td>\n",
       "      <td>0.00</td>\n",
       "      <td>LOYALTY</td>\n",
       "      <td>2022-07-21 07:56:43</td>\n",
       "      <td>Cupones_mm.csv</td>\n",
       "    </tr>\n",
       "  </tbody>\n",
       "</table>\n",
       "</div>"
      ],
      "text/plain": [
       "                            merchant_id                        merchant_token  \\\n",
       "0  40dda9f3-518e-423f-8b04-1572ba44a0d7  fbafce7d-82d6-470f-b76a-151332042ddd   \n",
       "1  a2760683-129f-4de4-98e3-7e7a08d44e30  95e02cc8-864b-4249-83c6-6a41b7d39b0f   \n",
       "2  9f7384ad-a017-4e15-81f9-1a77eee62f5d  b4c82681-754a-4932-9d1e-11c116df2bb4   \n",
       "3  6856f295-75c8-4a35-8728-531630c3e0a2  5d5bff5a-e49a-4a09-95b0-0b6a19bfaf6f   \n",
       "4  738de109-77df-4182-9643-e436bb893a38  343c2a67-5c80-4779-8ede-c2e51ddd8436   \n",
       "\n",
       "                          fee_refund_id  report_id  number_transactions  \\\n",
       "0  5ac1dd9f-221b-4943-bd46-ec4aa4ae749b  228LCKGVL                    2   \n",
       "1  f7acbad2-452a-4fca-a143-b790ca5df741  228TQD63W                    1   \n",
       "2  8ba3cd55-d8ac-46a8-939f-0fe124c2d08a  22BZKF2BX                    2   \n",
       "3  31a3d5f0-b8b1-417d-83eb-03715535ebf9  22G2FKHG7                    1   \n",
       "4  0714eca4-db00-42a5-8208-c383324b096d  22R67MKYL                    1   \n",
       "\n",
       "   total_refunded  amount  pending   source           created_at  \\\n",
       "0           76.42  108.00    31.58  LOYALTY  2022-10-06 11:39:28   \n",
       "1            1.67  108.00   106.33  LOYALTY  2022-11-30 10:43:51   \n",
       "2          141.40  292.00   150.60  LOYALTY  2021-11-13 11:05:44   \n",
       "3          108.00  108.00     0.00  LOYALTY  2022-12-16 10:22:56   \n",
       "4          108.00  108.00     0.00  LOYALTY  2022-07-21 07:56:43   \n",
       "\n",
       "        file_name  \n",
       "0  Cupones_mm.csv  \n",
       "1  Cupones_mm.csv  \n",
       "2  Cupones_mm.csv  \n",
       "3  Cupones_mm.csv  \n",
       "4  Cupones_mm.csv  "
      ]
     },
     "execution_count": 16,
     "metadata": {},
     "output_type": "execute_result"
    }
   ],
   "source": [
    "cupon_current_month = pd.concat([pd.read_csv(f,dtype={'report_id':object})\n",
    "                                 .assign(file_name=os.path.basename(f)) for f in allcupon_fact])\n",
    "cupon_current_month.head()"
   ]
  },
  {
   "cell_type": "code",
   "execution_count": 17,
   "metadata": {},
   "outputs": [
    {
     "data": {
      "text/plain": [
       "(2866, 11)"
      ]
     },
     "execution_count": 17,
     "metadata": {},
     "output_type": "execute_result"
    }
   ],
   "source": [
    "cupon_current_month.shape"
   ]
  },
  {
   "cell_type": "markdown",
   "metadata": {},
   "source": [
    "# IDENTIFICACION DE CUPONES"
   ]
  },
  {
   "cell_type": "code",
   "execution_count": 18,
   "metadata": {},
   "outputs": [
    {
     "data": {
      "text/html": [
       "<div>\n",
       "<style scoped>\n",
       "    .dataframe tbody tr th:only-of-type {\n",
       "        vertical-align: middle;\n",
       "    }\n",
       "\n",
       "    .dataframe tbody tr th {\n",
       "        vertical-align: top;\n",
       "    }\n",
       "\n",
       "    .dataframe thead th {\n",
       "        text-align: right;\n",
       "    }\n",
       "</style>\n",
       "<table border=\"1\" class=\"dataframe\">\n",
       "  <thead>\n",
       "    <tr style=\"text-align: right;\">\n",
       "      <th></th>\n",
       "      <th>merchant_id</th>\n",
       "      <th>merchant_name</th>\n",
       "      <th>user_email</th>\n",
       "      <th>report_id</th>\n",
       "      <th>report_date_local</th>\n",
       "      <th>total_transactions</th>\n",
       "      <th>total_fees_charged</th>\n",
       "      <th>total_taxes</th>\n",
       "      <th>applied_fees_benefits</th>\n",
       "      <th>applied_taxes_benefits</th>\n",
       "      <th>...</th>\n",
       "      <th>updated_date</th>\n",
       "      <th>updated_time</th>\n",
       "      <th>file_name</th>\n",
       "      <th>Date</th>\n",
       "      <th>type_data</th>\n",
       "      <th>total_refunded</th>\n",
       "      <th>pending</th>\n",
       "      <th>amount</th>\n",
       "      <th>source</th>\n",
       "      <th>total_benefits</th>\n",
       "    </tr>\n",
       "  </thead>\n",
       "  <tbody>\n",
       "    <tr>\n",
       "      <th>0</th>\n",
       "      <td>1b103437-7cd3-4774-817f-d68bfc6ebb05</td>\n",
       "      <td>FRUTAS Y VERDURAS DE LA ESQUINA</td>\n",
       "      <td>juanluis1890@icloud.com</td>\n",
       "      <td>Y46DFXQNS</td>\n",
       "      <td>2022-12-01</td>\n",
       "      <td>155.65</td>\n",
       "      <td>5.61</td>\n",
       "      <td>0.90</td>\n",
       "      <td>0.00</td>\n",
       "      <td>0.00</td>\n",
       "      <td>...</td>\n",
       "      <td>2022-12-01</td>\n",
       "      <td>02:00:30</td>\n",
       "      <td>SETTLEMENT 2022-12-01.csv</td>\n",
       "      <td>2022-12-01</td>\n",
       "      <td>float</td>\n",
       "      <td>NaN</td>\n",
       "      <td>NaN</td>\n",
       "      <td>NaN</td>\n",
       "      <td>NaN</td>\n",
       "      <td>0.00</td>\n",
       "    </tr>\n",
       "    <tr>\n",
       "      <th>1</th>\n",
       "      <td>682fa1f6-5459-420e-8f2a-ad3f52306ef6</td>\n",
       "      <td>CONSULTORIO</td>\n",
       "      <td>katun7@gmail.com</td>\n",
       "      <td>57MPWP22S</td>\n",
       "      <td>2022-12-01</td>\n",
       "      <td>1,400.00</td>\n",
       "      <td>50.40</td>\n",
       "      <td>8.06</td>\n",
       "      <td>0.00</td>\n",
       "      <td>0.00</td>\n",
       "      <td>...</td>\n",
       "      <td>2022-12-01</td>\n",
       "      <td>02:00:31</td>\n",
       "      <td>SETTLEMENT 2022-12-01.csv</td>\n",
       "      <td>2022-12-01</td>\n",
       "      <td>float</td>\n",
       "      <td>NaN</td>\n",
       "      <td>NaN</td>\n",
       "      <td>NaN</td>\n",
       "      <td>NaN</td>\n",
       "      <td>0.00</td>\n",
       "    </tr>\n",
       "    <tr>\n",
       "      <th>2</th>\n",
       "      <td>b753f531-bf73-421d-9b78-8b50491dbe14</td>\n",
       "      <td>TAXI ACUATICO</td>\n",
       "      <td>luismiguelgonzalezvirgen4@gmail.com</td>\n",
       "      <td>97RHCS4Y8</td>\n",
       "      <td>2022-12-01</td>\n",
       "      <td>1,500.00</td>\n",
       "      <td>54.00</td>\n",
       "      <td>8.64</td>\n",
       "      <td>0.00</td>\n",
       "      <td>0.00</td>\n",
       "      <td>...</td>\n",
       "      <td>2022-12-01</td>\n",
       "      <td>02:00:31</td>\n",
       "      <td>SETTLEMENT 2022-12-01.csv</td>\n",
       "      <td>2022-12-01</td>\n",
       "      <td>float</td>\n",
       "      <td>NaN</td>\n",
       "      <td>NaN</td>\n",
       "      <td>NaN</td>\n",
       "      <td>NaN</td>\n",
       "      <td>0.00</td>\n",
       "    </tr>\n",
       "    <tr>\n",
       "      <th>3</th>\n",
       "      <td>d8bc09a9-52e8-4160-994c-8e302b3c52a2</td>\n",
       "      <td>TUCANDELABAR</td>\n",
       "      <td>Jai-mehdez@hotmail.com</td>\n",
       "      <td>DL8PLM5JB</td>\n",
       "      <td>2022-12-01</td>\n",
       "      <td>4,509.00</td>\n",
       "      <td>162.32</td>\n",
       "      <td>25.97</td>\n",
       "      <td>0.00</td>\n",
       "      <td>0.00</td>\n",
       "      <td>...</td>\n",
       "      <td>2022-12-01</td>\n",
       "      <td>02:00:31</td>\n",
       "      <td>SETTLEMENT 2022-12-01.csv</td>\n",
       "      <td>2022-12-01</td>\n",
       "      <td>float</td>\n",
       "      <td>NaN</td>\n",
       "      <td>NaN</td>\n",
       "      <td>NaN</td>\n",
       "      <td>NaN</td>\n",
       "      <td>0.00</td>\n",
       "    </tr>\n",
       "    <tr>\n",
       "      <th>4</th>\n",
       "      <td>b5e67fd0-9cf2-4cb3-9e91-e7cd51242f3a</td>\n",
       "      <td>LES AMIGOS</td>\n",
       "      <td>les3amigosplayadelcarmen@gmail.com</td>\n",
       "      <td>HWVC6WN8F</td>\n",
       "      <td>2022-12-01</td>\n",
       "      <td>1,943.00</td>\n",
       "      <td>69.95</td>\n",
       "      <td>11.19</td>\n",
       "      <td>0.00</td>\n",
       "      <td>0.00</td>\n",
       "      <td>...</td>\n",
       "      <td>2022-12-01</td>\n",
       "      <td>02:00:31</td>\n",
       "      <td>SETTLEMENT 2022-12-01.csv</td>\n",
       "      <td>2022-12-01</td>\n",
       "      <td>float</td>\n",
       "      <td>NaN</td>\n",
       "      <td>NaN</td>\n",
       "      <td>NaN</td>\n",
       "      <td>NaN</td>\n",
       "      <td>0.00</td>\n",
       "    </tr>\n",
       "  </tbody>\n",
       "</table>\n",
       "<p>5 rows × 33 columns</p>\n",
       "</div>"
      ],
      "text/plain": [
       "                            merchant_id                     merchant_name  \\\n",
       "0  1b103437-7cd3-4774-817f-d68bfc6ebb05  FRUTAS Y VERDURAS DE LA ESQUINA    \n",
       "1  682fa1f6-5459-420e-8f2a-ad3f52306ef6                       CONSULTORIO   \n",
       "2  b753f531-bf73-421d-9b78-8b50491dbe14                     TAXI ACUATICO   \n",
       "3  d8bc09a9-52e8-4160-994c-8e302b3c52a2                      TUCANDELABAR   \n",
       "4  b5e67fd0-9cf2-4cb3-9e91-e7cd51242f3a                        LES AMIGOS   \n",
       "\n",
       "                            user_email  report_id report_date_local  \\\n",
       "0              juanluis1890@icloud.com  Y46DFXQNS        2022-12-01   \n",
       "1                     katun7@gmail.com  57MPWP22S        2022-12-01   \n",
       "2  luismiguelgonzalezvirgen4@gmail.com  97RHCS4Y8        2022-12-01   \n",
       "3               Jai-mehdez@hotmail.com  DL8PLM5JB        2022-12-01   \n",
       "4   les3amigosplayadelcarmen@gmail.com  HWVC6WN8F        2022-12-01   \n",
       "\n",
       "   total_transactions  total_fees_charged  total_taxes  applied_fees_benefits  \\\n",
       "0              155.65                5.61         0.90                   0.00   \n",
       "1            1,400.00               50.40         8.06                   0.00   \n",
       "2            1,500.00               54.00         8.64                   0.00   \n",
       "3            4,509.00              162.32        25.97                   0.00   \n",
       "4            1,943.00               69.95        11.19                   0.00   \n",
       "\n",
       "   applied_taxes_benefits  ...  updated_date  updated_time  \\\n",
       "0                    0.00  ...    2022-12-01      02:00:30   \n",
       "1                    0.00  ...    2022-12-01      02:00:31   \n",
       "2                    0.00  ...    2022-12-01      02:00:31   \n",
       "3                    0.00  ...    2022-12-01      02:00:31   \n",
       "4                    0.00  ...    2022-12-01      02:00:31   \n",
       "\n",
       "                   file_name       Date  type_data  total_refunded  pending  \\\n",
       "0  SETTLEMENT 2022-12-01.csv 2022-12-01      float             NaN      NaN   \n",
       "1  SETTLEMENT 2022-12-01.csv 2022-12-01      float             NaN      NaN   \n",
       "2  SETTLEMENT 2022-12-01.csv 2022-12-01      float             NaN      NaN   \n",
       "3  SETTLEMENT 2022-12-01.csv 2022-12-01      float             NaN      NaN   \n",
       "4  SETTLEMENT 2022-12-01.csv 2022-12-01      float             NaN      NaN   \n",
       "\n",
       "   amount source  total_benefits  \n",
       "0     NaN    NaN            0.00  \n",
       "1     NaN    NaN            0.00  \n",
       "2     NaN    NaN            0.00  \n",
       "3     NaN    NaN            0.00  \n",
       "4     NaN    NaN            0.00  \n",
       "\n",
       "[5 rows x 33 columns]"
      ]
     },
     "execution_count": 18,
     "metadata": {},
     "output_type": "execute_result"
    }
   ],
   "source": [
    "fact_cupones = fact_antes_cupones.merge(cupon_current_month[['report_id','total_refunded','pending','amount',\n",
    "                                              'source']] ,on='report_id', how='left')\n",
    "fact_cupones['total_benefits'] = fact_cupones['applied_fees_benefits'] + fact_cupones['applied_taxes_benefits']\n",
    "fact_cupones.loc[(fact_cupones['applied_fees_benefits'] != 0) & (fact_cupones['source']!= 'LOYALTY'), 'source'] = 'TOP_UPS'\n",
    "fact_cupones.head()"
   ]
  },
  {
   "cell_type": "code",
   "execution_count": 19,
   "metadata": {},
   "outputs": [
    {
     "data": {
      "text/plain": [
       "array([nan, 'TOP_UPS', 'LOYALTY'], dtype=object)"
      ]
     },
     "execution_count": 19,
     "metadata": {},
     "output_type": "execute_result"
    }
   ],
   "source": [
    "fact_cupones['source'].unique()"
   ]
  },
  {
   "cell_type": "code",
   "execution_count": 20,
   "metadata": {},
   "outputs": [
    {
     "data": {
      "text/plain": [
       "(2876286, 33)"
      ]
     },
     "execution_count": 20,
     "metadata": {},
     "output_type": "execute_result"
    }
   ],
   "source": [
    "fact_cupones.shape"
   ]
  },
  {
   "cell_type": "markdown",
   "metadata": {},
   "source": [
    "# SEPARACION DE TOPUPS Y CUPON LOYALTY"
   ]
  },
  {
   "cell_type": "markdown",
   "metadata": {},
   "source": [
    "### TOPUPS"
   ]
  },
  {
   "cell_type": "code",
   "execution_count": 21,
   "metadata": {},
   "outputs": [
    {
     "data": {
      "text/html": [
       "<div>\n",
       "<style scoped>\n",
       "    .dataframe tbody tr th:only-of-type {\n",
       "        vertical-align: middle;\n",
       "    }\n",
       "\n",
       "    .dataframe tbody tr th {\n",
       "        vertical-align: top;\n",
       "    }\n",
       "\n",
       "    .dataframe thead th {\n",
       "        text-align: right;\n",
       "    }\n",
       "</style>\n",
       "<table border=\"1\" class=\"dataframe\">\n",
       "  <thead>\n",
       "    <tr style=\"text-align: right;\">\n",
       "      <th></th>\n",
       "      <th>merchant_id</th>\n",
       "      <th>merchant_name</th>\n",
       "      <th>user_email</th>\n",
       "      <th>report_id</th>\n",
       "      <th>report_date_local</th>\n",
       "      <th>total_transactions</th>\n",
       "      <th>total_fees_charged</th>\n",
       "      <th>total_taxes</th>\n",
       "      <th>applied_fees_benefits</th>\n",
       "      <th>applied_taxes_benefits</th>\n",
       "      <th>...</th>\n",
       "      <th>updated_date</th>\n",
       "      <th>updated_time</th>\n",
       "      <th>file_name</th>\n",
       "      <th>Date</th>\n",
       "      <th>type_data</th>\n",
       "      <th>total_refunded</th>\n",
       "      <th>pending</th>\n",
       "      <th>amount</th>\n",
       "      <th>source</th>\n",
       "      <th>total_benefits</th>\n",
       "    </tr>\n",
       "  </thead>\n",
       "  <tbody>\n",
       "    <tr>\n",
       "      <th>196</th>\n",
       "      <td>b82c0459-0627-4f26-a808-c49844141c6a</td>\n",
       "      <td>DEPOSITO DENTAL RADENT</td>\n",
       "      <td>deposito_radent@hotmail.com</td>\n",
       "      <td>J3RNVL567</td>\n",
       "      <td>2022-12-01</td>\n",
       "      <td>1,133.00</td>\n",
       "      <td>40.79</td>\n",
       "      <td>6.53</td>\n",
       "      <td>1.72</td>\n",
       "      <td>0.28</td>\n",
       "      <td>...</td>\n",
       "      <td>2022-12-01</td>\n",
       "      <td>02:01:05</td>\n",
       "      <td>SETTLEMENT 2022-12-01.csv</td>\n",
       "      <td>2022-12-01</td>\n",
       "      <td>float</td>\n",
       "      <td>NaN</td>\n",
       "      <td>NaN</td>\n",
       "      <td>NaN</td>\n",
       "      <td>TOP_UPS</td>\n",
       "      <td>2.00</td>\n",
       "    </tr>\n",
       "    <tr>\n",
       "      <th>1280</th>\n",
       "      <td>6eda7d2d-f8b1-496c-a167-0e15734da100</td>\n",
       "      <td>AEROTRANSPORTES2</td>\n",
       "      <td>mykypulido@gmail.com</td>\n",
       "      <td>X2B79P7BX</td>\n",
       "      <td>2022-12-01</td>\n",
       "      <td>420.00</td>\n",
       "      <td>15.12</td>\n",
       "      <td>2.42</td>\n",
       "      <td>3.82</td>\n",
       "      <td>0.61</td>\n",
       "      <td>...</td>\n",
       "      <td>2022-12-01</td>\n",
       "      <td>02:04:48</td>\n",
       "      <td>SETTLEMENT 2022-12-01.csv</td>\n",
       "      <td>2022-12-01</td>\n",
       "      <td>float</td>\n",
       "      <td>NaN</td>\n",
       "      <td>NaN</td>\n",
       "      <td>NaN</td>\n",
       "      <td>TOP_UPS</td>\n",
       "      <td>4.43</td>\n",
       "    </tr>\n",
       "    <tr>\n",
       "      <th>3250</th>\n",
       "      <td>877d6b55-f50f-4e4e-acfc-a0a2177dac10</td>\n",
       "      <td>PAPELERIA Y HOBBY</td>\n",
       "      <td>oash91@hotmail.com</td>\n",
       "      <td>NR9VS688R</td>\n",
       "      <td>2022-12-01</td>\n",
       "      <td>24.00</td>\n",
       "      <td>0.86</td>\n",
       "      <td>0.14</td>\n",
       "      <td>0.86</td>\n",
       "      <td>0.14</td>\n",
       "      <td>...</td>\n",
       "      <td>2022-12-01</td>\n",
       "      <td>02:11:15</td>\n",
       "      <td>SETTLEMENT 2022-12-01.csv</td>\n",
       "      <td>2022-12-01</td>\n",
       "      <td>float</td>\n",
       "      <td>NaN</td>\n",
       "      <td>NaN</td>\n",
       "      <td>NaN</td>\n",
       "      <td>TOP_UPS</td>\n",
       "      <td>1.00</td>\n",
       "    </tr>\n",
       "    <tr>\n",
       "      <th>3312</th>\n",
       "      <td>0db363ff-e04a-4070-a37a-67ea3735170a</td>\n",
       "      <td>LA NUEVA</td>\n",
       "      <td>teregaytanlanueva@gmail.com</td>\n",
       "      <td>GJ2PLNSMQ</td>\n",
       "      <td>2022-12-01</td>\n",
       "      <td>567.00</td>\n",
       "      <td>20.41</td>\n",
       "      <td>3.26</td>\n",
       "      <td>6.90</td>\n",
       "      <td>1.10</td>\n",
       "      <td>...</td>\n",
       "      <td>2022-12-01</td>\n",
       "      <td>02:11:26</td>\n",
       "      <td>SETTLEMENT 2022-12-01.csv</td>\n",
       "      <td>2022-12-01</td>\n",
       "      <td>float</td>\n",
       "      <td>NaN</td>\n",
       "      <td>NaN</td>\n",
       "      <td>NaN</td>\n",
       "      <td>TOP_UPS</td>\n",
       "      <td>8.00</td>\n",
       "    </tr>\n",
       "    <tr>\n",
       "      <th>3657</th>\n",
       "      <td>7f038772-e651-4716-b51d-dce601b5815f</td>\n",
       "      <td>LA MICHOACANA</td>\n",
       "      <td>yari.lizeth@outlook.com</td>\n",
       "      <td>VJFMF86R9</td>\n",
       "      <td>2022-12-01</td>\n",
       "      <td>70.00</td>\n",
       "      <td>2.52</td>\n",
       "      <td>0.40</td>\n",
       "      <td>2.25</td>\n",
       "      <td>0.36</td>\n",
       "      <td>...</td>\n",
       "      <td>2022-12-01</td>\n",
       "      <td>02:12:32</td>\n",
       "      <td>SETTLEMENT 2022-12-01.csv</td>\n",
       "      <td>2022-12-01</td>\n",
       "      <td>float</td>\n",
       "      <td>NaN</td>\n",
       "      <td>NaN</td>\n",
       "      <td>NaN</td>\n",
       "      <td>TOP_UPS</td>\n",
       "      <td>2.61</td>\n",
       "    </tr>\n",
       "  </tbody>\n",
       "</table>\n",
       "<p>5 rows × 33 columns</p>\n",
       "</div>"
      ],
      "text/plain": [
       "                               merchant_id           merchant_name  \\\n",
       "196   b82c0459-0627-4f26-a808-c49844141c6a  DEPOSITO DENTAL RADENT   \n",
       "1280  6eda7d2d-f8b1-496c-a167-0e15734da100        AEROTRANSPORTES2   \n",
       "3250  877d6b55-f50f-4e4e-acfc-a0a2177dac10       PAPELERIA Y HOBBY   \n",
       "3312  0db363ff-e04a-4070-a37a-67ea3735170a                LA NUEVA   \n",
       "3657  7f038772-e651-4716-b51d-dce601b5815f           LA MICHOACANA   \n",
       "\n",
       "                       user_email  report_id report_date_local  \\\n",
       "196   deposito_radent@hotmail.com  J3RNVL567        2022-12-01   \n",
       "1280         mykypulido@gmail.com  X2B79P7BX        2022-12-01   \n",
       "3250           oash91@hotmail.com  NR9VS688R        2022-12-01   \n",
       "3312  teregaytanlanueva@gmail.com  GJ2PLNSMQ        2022-12-01   \n",
       "3657      yari.lizeth@outlook.com  VJFMF86R9        2022-12-01   \n",
       "\n",
       "      total_transactions  total_fees_charged  total_taxes  \\\n",
       "196             1,133.00               40.79         6.53   \n",
       "1280              420.00               15.12         2.42   \n",
       "3250               24.00                0.86         0.14   \n",
       "3312              567.00               20.41         3.26   \n",
       "3657               70.00                2.52         0.40   \n",
       "\n",
       "      applied_fees_benefits  applied_taxes_benefits  ...  updated_date  \\\n",
       "196                    1.72                    0.28  ...    2022-12-01   \n",
       "1280                   3.82                    0.61  ...    2022-12-01   \n",
       "3250                   0.86                    0.14  ...    2022-12-01   \n",
       "3312                   6.90                    1.10  ...    2022-12-01   \n",
       "3657                   2.25                    0.36  ...    2022-12-01   \n",
       "\n",
       "      updated_time                  file_name       Date  type_data  \\\n",
       "196       02:01:05  SETTLEMENT 2022-12-01.csv 2022-12-01      float   \n",
       "1280      02:04:48  SETTLEMENT 2022-12-01.csv 2022-12-01      float   \n",
       "3250      02:11:15  SETTLEMENT 2022-12-01.csv 2022-12-01      float   \n",
       "3312      02:11:26  SETTLEMENT 2022-12-01.csv 2022-12-01      float   \n",
       "3657      02:12:32  SETTLEMENT 2022-12-01.csv 2022-12-01      float   \n",
       "\n",
       "      total_refunded  pending  amount   source  total_benefits  \n",
       "196              NaN      NaN     NaN  TOP_UPS            2.00  \n",
       "1280             NaN      NaN     NaN  TOP_UPS            4.43  \n",
       "3250             NaN      NaN     NaN  TOP_UPS            1.00  \n",
       "3312             NaN      NaN     NaN  TOP_UPS            8.00  \n",
       "3657             NaN      NaN     NaN  TOP_UPS            2.61  \n",
       "\n",
       "[5 rows x 33 columns]"
      ]
     },
     "execution_count": 21,
     "metadata": {},
     "output_type": "execute_result"
    }
   ],
   "source": [
    "fact_topups_benefits = fact_cupones[(fact_cupones['source'] == 'TOP_UPS')]\n",
    "fact_topups_benefits.head()"
   ]
  },
  {
   "cell_type": "code",
   "execution_count": 22,
   "metadata": {},
   "outputs": [
    {
     "data": {
      "text/plain": [
       "(2053, 33)"
      ]
     },
     "execution_count": 22,
     "metadata": {},
     "output_type": "execute_result"
    }
   ],
   "source": [
    "fact_topups_benefits.shape"
   ]
  },
  {
   "cell_type": "code",
   "execution_count": 23,
   "metadata": {},
   "outputs": [],
   "source": [
    "fact_topups_benefits.to_excel('top_ups_esquema_comision.xlsx')"
   ]
  },
  {
   "cell_type": "code",
   "execution_count": 24,
   "metadata": {},
   "outputs": [
    {
     "data": {
      "text/html": [
       "<div>\n",
       "<style scoped>\n",
       "    .dataframe tbody tr th:only-of-type {\n",
       "        vertical-align: middle;\n",
       "    }\n",
       "\n",
       "    .dataframe tbody tr th {\n",
       "        vertical-align: top;\n",
       "    }\n",
       "\n",
       "    .dataframe thead th {\n",
       "        text-align: right;\n",
       "    }\n",
       "</style>\n",
       "<table border=\"1\" class=\"dataframe\">\n",
       "  <thead>\n",
       "    <tr style=\"text-align: right;\">\n",
       "      <th></th>\n",
       "      <th>report_id</th>\n",
       "      <th>applied_fees_benefits_topups</th>\n",
       "      <th>applied_taxes_benefits_topups</th>\n",
       "    </tr>\n",
       "  </thead>\n",
       "  <tbody>\n",
       "    <tr>\n",
       "      <th>0</th>\n",
       "      <td>22598LFJN</td>\n",
       "      <td>4.43</td>\n",
       "      <td>0.71</td>\n",
       "    </tr>\n",
       "    <tr>\n",
       "      <th>1</th>\n",
       "      <td>22CPWFHCM</td>\n",
       "      <td>1.72</td>\n",
       "      <td>0.28</td>\n",
       "    </tr>\n",
       "    <tr>\n",
       "      <th>2</th>\n",
       "      <td>23B2FBGJM</td>\n",
       "      <td>1.72</td>\n",
       "      <td>0.28</td>\n",
       "    </tr>\n",
       "    <tr>\n",
       "      <th>3</th>\n",
       "      <td>24B7KDKYD</td>\n",
       "      <td>0.09</td>\n",
       "      <td>0.01</td>\n",
       "    </tr>\n",
       "    <tr>\n",
       "      <th>4</th>\n",
       "      <td>25HYJPHS6</td>\n",
       "      <td>0.86</td>\n",
       "      <td>0.14</td>\n",
       "    </tr>\n",
       "  </tbody>\n",
       "</table>\n",
       "</div>"
      ],
      "text/plain": [
       "   report_id  applied_fees_benefits_topups  applied_taxes_benefits_topups\n",
       "0  22598LFJN                          4.43                           0.71\n",
       "1  22CPWFHCM                          1.72                           0.28\n",
       "2  23B2FBGJM                          1.72                           0.28\n",
       "3  24B7KDKYD                          0.09                           0.01\n",
       "4  25HYJPHS6                          0.86                           0.14"
      ]
     },
     "execution_count": 24,
     "metadata": {},
     "output_type": "execute_result"
    }
   ],
   "source": [
    "pivot_topups_benefits = pd.pivot_table(fact_topups_benefits,index=['report_id'],values=['applied_fees_benefits',\n",
    "                                                                                        'applied_taxes_benefits'],\n",
    "                                       aggfunc=np.sum,margins=False).reset_index()\n",
    "pivot_topups_benefits.rename(columns ={'applied_fees_benefits':'applied_fees_benefits_topups',\n",
    "                                      'applied_taxes_benefits':'applied_taxes_benefits_topups'},inplace=True)\n",
    "pivot_topups_benefits.head()"
   ]
  },
  {
   "cell_type": "code",
   "execution_count": 25,
   "metadata": {},
   "outputs": [
    {
     "data": {
      "text/plain": [
       "(2053, 3)"
      ]
     },
     "execution_count": 25,
     "metadata": {},
     "output_type": "execute_result"
    }
   ],
   "source": [
    "pivot_topups_benefits.shape"
   ]
  },
  {
   "cell_type": "markdown",
   "metadata": {},
   "source": [
    "### CUPONES"
   ]
  },
  {
   "cell_type": "code",
   "execution_count": 26,
   "metadata": {},
   "outputs": [
    {
     "data": {
      "text/html": [
       "<div>\n",
       "<style scoped>\n",
       "    .dataframe tbody tr th:only-of-type {\n",
       "        vertical-align: middle;\n",
       "    }\n",
       "\n",
       "    .dataframe tbody tr th {\n",
       "        vertical-align: top;\n",
       "    }\n",
       "\n",
       "    .dataframe thead th {\n",
       "        text-align: right;\n",
       "    }\n",
       "</style>\n",
       "<table border=\"1\" class=\"dataframe\">\n",
       "  <thead>\n",
       "    <tr style=\"text-align: right;\">\n",
       "      <th></th>\n",
       "      <th>merchant_id</th>\n",
       "      <th>merchant_name</th>\n",
       "      <th>user_email</th>\n",
       "      <th>report_id</th>\n",
       "      <th>report_date_local</th>\n",
       "      <th>total_transactions</th>\n",
       "      <th>total_fees_charged</th>\n",
       "      <th>total_taxes</th>\n",
       "      <th>applied_fees_benefits</th>\n",
       "      <th>applied_taxes_benefits</th>\n",
       "      <th>...</th>\n",
       "      <th>updated_date</th>\n",
       "      <th>updated_time</th>\n",
       "      <th>file_name</th>\n",
       "      <th>Date</th>\n",
       "      <th>type_data</th>\n",
       "      <th>total_refunded</th>\n",
       "      <th>pending</th>\n",
       "      <th>amount</th>\n",
       "      <th>source</th>\n",
       "      <th>total_benefits</th>\n",
       "    </tr>\n",
       "  </thead>\n",
       "  <tbody>\n",
       "    <tr>\n",
       "      <th>156018</th>\n",
       "      <td>d834ac6e-c7cf-42ce-a6fd-4c04d6511555</td>\n",
       "      <td>LA FONDITA</td>\n",
       "      <td>limon03082007@gmail.com</td>\n",
       "      <td>W249KJ56Y</td>\n",
       "      <td>2022-12-02</td>\n",
       "      <td>6,242.57</td>\n",
       "      <td>224.73</td>\n",
       "      <td>35.96</td>\n",
       "      <td>93.10</td>\n",
       "      <td>14.90</td>\n",
       "      <td>...</td>\n",
       "      <td>2022-12-02</td>\n",
       "      <td>05:41:17</td>\n",
       "      <td>SETTLEMENT 2022-12-02.csv</td>\n",
       "      <td>2022-12-02</td>\n",
       "      <td>float</td>\n",
       "      <td>108.00</td>\n",
       "      <td>0.00</td>\n",
       "      <td>108.00</td>\n",
       "      <td>LOYALTY</td>\n",
       "      <td>108.00</td>\n",
       "    </tr>\n",
       "    <tr>\n",
       "      <th>189327</th>\n",
       "      <td>13d739de-8fb2-41f6-a5a4-fce715246593</td>\n",
       "      <td>SUPLEMENTOS DEPORTIVOS</td>\n",
       "      <td>ferlopeznava4980@gmail.com</td>\n",
       "      <td>5VCVDFFYY</td>\n",
       "      <td>2022-12-02</td>\n",
       "      <td>500.00</td>\n",
       "      <td>18.00</td>\n",
       "      <td>2.88</td>\n",
       "      <td>18.00</td>\n",
       "      <td>2.88</td>\n",
       "      <td>...</td>\n",
       "      <td>2022-12-02</td>\n",
       "      <td>07:20:07</td>\n",
       "      <td>SETTLEMENT 2022-12-02.csv</td>\n",
       "      <td>2022-12-02</td>\n",
       "      <td>float</td>\n",
       "      <td>20.88</td>\n",
       "      <td>87.12</td>\n",
       "      <td>108.00</td>\n",
       "      <td>LOYALTY</td>\n",
       "      <td>20.88</td>\n",
       "    </tr>\n",
       "    <tr>\n",
       "      <th>260566</th>\n",
       "      <td>92dbe299-bbff-4f38-be6d-4c235e67abe9</td>\n",
       "      <td>DONATELO</td>\n",
       "      <td>mx.donatelo@gmail.com</td>\n",
       "      <td>4RK273RBX</td>\n",
       "      <td>2022-12-03</td>\n",
       "      <td>101.00</td>\n",
       "      <td>3.64</td>\n",
       "      <td>0.59</td>\n",
       "      <td>3.65</td>\n",
       "      <td>0.58</td>\n",
       "      <td>...</td>\n",
       "      <td>2022-12-03</td>\n",
       "      <td>04:36:33</td>\n",
       "      <td>SETTLEMENT 2022-12-03.csv</td>\n",
       "      <td>2022-12-03</td>\n",
       "      <td>float</td>\n",
       "      <td>4.23</td>\n",
       "      <td>103.77</td>\n",
       "      <td>108.00</td>\n",
       "      <td>LOYALTY</td>\n",
       "      <td>4.23</td>\n",
       "    </tr>\n",
       "    <tr>\n",
       "      <th>376638</th>\n",
       "      <td>da1c8b30-1b4f-457c-8da1-c303f3611270</td>\n",
       "      <td>GOCJ</td>\n",
       "      <td>yikzac1207gonzalez@gmail.com</td>\n",
       "      <td>96VDJ72VJ</td>\n",
       "      <td>2022-12-04</td>\n",
       "      <td>4,500.00</td>\n",
       "      <td>162.00</td>\n",
       "      <td>25.92</td>\n",
       "      <td>93.10</td>\n",
       "      <td>14.90</td>\n",
       "      <td>...</td>\n",
       "      <td>2022-12-04</td>\n",
       "      <td>04:51:58</td>\n",
       "      <td>SETTLEMENT 2022-12-04.csv</td>\n",
       "      <td>2022-12-04</td>\n",
       "      <td>float</td>\n",
       "      <td>108.00</td>\n",
       "      <td>0.00</td>\n",
       "      <td>108.00</td>\n",
       "      <td>LOYALTY</td>\n",
       "      <td>108.00</td>\n",
       "    </tr>\n",
       "    <tr>\n",
       "      <th>412552</th>\n",
       "      <td>30be514c-e410-4ea8-8824-00612d0bb266</td>\n",
       "      <td>PHOTOMAGNETIC</td>\n",
       "      <td>franciscoyrena@gmail.com</td>\n",
       "      <td>XZFPCDYST</td>\n",
       "      <td>2022-12-04</td>\n",
       "      <td>50.00</td>\n",
       "      <td>1.80</td>\n",
       "      <td>0.29</td>\n",
       "      <td>1.80</td>\n",
       "      <td>0.29</td>\n",
       "      <td>...</td>\n",
       "      <td>2022-12-04</td>\n",
       "      <td>06:40:44</td>\n",
       "      <td>SETTLEMENT 2022-12-04.csv</td>\n",
       "      <td>2022-12-04</td>\n",
       "      <td>float</td>\n",
       "      <td>2.09</td>\n",
       "      <td>105.91</td>\n",
       "      <td>108.00</td>\n",
       "      <td>LOYALTY</td>\n",
       "      <td>2.09</td>\n",
       "    </tr>\n",
       "  </tbody>\n",
       "</table>\n",
       "<p>5 rows × 33 columns</p>\n",
       "</div>"
      ],
      "text/plain": [
       "                                 merchant_id            merchant_name  \\\n",
       "156018  d834ac6e-c7cf-42ce-a6fd-4c04d6511555               LA FONDITA   \n",
       "189327  13d739de-8fb2-41f6-a5a4-fce715246593  SUPLEMENTOS DEPORTIVOS    \n",
       "260566  92dbe299-bbff-4f38-be6d-4c235e67abe9                 DONATELO   \n",
       "376638  da1c8b30-1b4f-457c-8da1-c303f3611270                     GOCJ   \n",
       "412552  30be514c-e410-4ea8-8824-00612d0bb266            PHOTOMAGNETIC   \n",
       "\n",
       "                          user_email  report_id report_date_local  \\\n",
       "156018       limon03082007@gmail.com  W249KJ56Y        2022-12-02   \n",
       "189327    ferlopeznava4980@gmail.com  5VCVDFFYY        2022-12-02   \n",
       "260566         mx.donatelo@gmail.com  4RK273RBX        2022-12-03   \n",
       "376638  yikzac1207gonzalez@gmail.com  96VDJ72VJ        2022-12-04   \n",
       "412552      franciscoyrena@gmail.com  XZFPCDYST        2022-12-04   \n",
       "\n",
       "        total_transactions  total_fees_charged  total_taxes  \\\n",
       "156018            6,242.57              224.73        35.96   \n",
       "189327              500.00               18.00         2.88   \n",
       "260566              101.00                3.64         0.59   \n",
       "376638            4,500.00              162.00        25.92   \n",
       "412552               50.00                1.80         0.29   \n",
       "\n",
       "        applied_fees_benefits  applied_taxes_benefits  ...  updated_date  \\\n",
       "156018                  93.10                   14.90  ...    2022-12-02   \n",
       "189327                  18.00                    2.88  ...    2022-12-02   \n",
       "260566                   3.65                    0.58  ...    2022-12-03   \n",
       "376638                  93.10                   14.90  ...    2022-12-04   \n",
       "412552                   1.80                    0.29  ...    2022-12-04   \n",
       "\n",
       "        updated_time                  file_name       Date  type_data  \\\n",
       "156018      05:41:17  SETTLEMENT 2022-12-02.csv 2022-12-02      float   \n",
       "189327      07:20:07  SETTLEMENT 2022-12-02.csv 2022-12-02      float   \n",
       "260566      04:36:33  SETTLEMENT 2022-12-03.csv 2022-12-03      float   \n",
       "376638      04:51:58  SETTLEMENT 2022-12-04.csv 2022-12-04      float   \n",
       "412552      06:40:44  SETTLEMENT 2022-12-04.csv 2022-12-04      float   \n",
       "\n",
       "        total_refunded  pending  amount   source  total_benefits  \n",
       "156018          108.00     0.00  108.00  LOYALTY          108.00  \n",
       "189327           20.88    87.12  108.00  LOYALTY           20.88  \n",
       "260566            4.23   103.77  108.00  LOYALTY            4.23  \n",
       "376638          108.00     0.00  108.00  LOYALTY          108.00  \n",
       "412552            2.09   105.91  108.00  LOYALTY            2.09  \n",
       "\n",
       "[5 rows x 33 columns]"
      ]
     },
     "execution_count": 26,
     "metadata": {},
     "output_type": "execute_result"
    }
   ],
   "source": [
    "fact_coupons_benefits = fact_cupones[(fact_cupones['source'] == 'LOYALTY')]\n",
    "fact_coupons_benefits.head()"
   ]
  },
  {
   "cell_type": "code",
   "execution_count": 27,
   "metadata": {},
   "outputs": [
    {
     "data": {
      "text/plain": [
       "(51, 33)"
      ]
     },
     "execution_count": 27,
     "metadata": {},
     "output_type": "execute_result"
    }
   ],
   "source": [
    "fact_coupons_benefits.shape"
   ]
  },
  {
   "cell_type": "code",
   "execution_count": 28,
   "metadata": {},
   "outputs": [
    {
     "data": {
      "text/html": [
       "<div>\n",
       "<style scoped>\n",
       "    .dataframe tbody tr th:only-of-type {\n",
       "        vertical-align: middle;\n",
       "    }\n",
       "\n",
       "    .dataframe tbody tr th {\n",
       "        vertical-align: top;\n",
       "    }\n",
       "\n",
       "    .dataframe thead th {\n",
       "        text-align: right;\n",
       "    }\n",
       "</style>\n",
       "<table border=\"1\" class=\"dataframe\">\n",
       "  <thead>\n",
       "    <tr style=\"text-align: right;\">\n",
       "      <th></th>\n",
       "      <th>report_id</th>\n",
       "      <th>applied_fees_benefits_coupons</th>\n",
       "      <th>applied_taxes_benefits_coupons</th>\n",
       "    </tr>\n",
       "  </thead>\n",
       "  <tbody>\n",
       "    <tr>\n",
       "      <th>0</th>\n",
       "      <td>22G2FKHG7</td>\n",
       "      <td>93.10</td>\n",
       "      <td>14.90</td>\n",
       "    </tr>\n",
       "    <tr>\n",
       "      <th>1</th>\n",
       "      <td>24JDH6KHH</td>\n",
       "      <td>44.71</td>\n",
       "      <td>7.15</td>\n",
       "    </tr>\n",
       "    <tr>\n",
       "      <th>2</th>\n",
       "      <td>2BGSHNMFF</td>\n",
       "      <td>93.10</td>\n",
       "      <td>14.90</td>\n",
       "    </tr>\n",
       "    <tr>\n",
       "      <th>3</th>\n",
       "      <td>3GXMCDWVW</td>\n",
       "      <td>0.02</td>\n",
       "      <td>0.00</td>\n",
       "    </tr>\n",
       "    <tr>\n",
       "      <th>4</th>\n",
       "      <td>3XLJQN5G9</td>\n",
       "      <td>8.10</td>\n",
       "      <td>1.30</td>\n",
       "    </tr>\n",
       "  </tbody>\n",
       "</table>\n",
       "</div>"
      ],
      "text/plain": [
       "   report_id  applied_fees_benefits_coupons  applied_taxes_benefits_coupons\n",
       "0  22G2FKHG7                          93.10                           14.90\n",
       "1  24JDH6KHH                          44.71                            7.15\n",
       "2  2BGSHNMFF                          93.10                           14.90\n",
       "3  3GXMCDWVW                           0.02                            0.00\n",
       "4  3XLJQN5G9                           8.10                            1.30"
      ]
     },
     "execution_count": 28,
     "metadata": {},
     "output_type": "execute_result"
    }
   ],
   "source": [
    "pivot_coupons_benefits = pd.pivot_table(fact_coupons_benefits,index=['report_id'],values=['applied_fees_benefits',\n",
    "                                                                                        'applied_taxes_benefits'],\n",
    "                                       aggfunc=np.sum,margins=False).reset_index()\n",
    "pivot_coupons_benefits.rename(columns ={'applied_fees_benefits':'applied_fees_benefits_coupons',\n",
    "                                      'applied_taxes_benefits':'applied_taxes_benefits_coupons'},inplace=True)\n",
    "pivot_coupons_benefits.head()"
   ]
  },
  {
   "cell_type": "code",
   "execution_count": 29,
   "metadata": {},
   "outputs": [
    {
     "data": {
      "text/plain": [
       "(51, 3)"
      ]
     },
     "execution_count": 29,
     "metadata": {},
     "output_type": "execute_result"
    }
   ],
   "source": [
    "pivot_coupons_benefits.shape"
   ]
  },
  {
   "cell_type": "markdown",
   "metadata": {},
   "source": [
    "# UNION FACTURACIÓN & CUPONES"
   ]
  },
  {
   "cell_type": "code",
   "execution_count": 30,
   "metadata": {},
   "outputs": [],
   "source": [
    "fact_cupones_1 = fact_antes_cupones.merge(pivot_topups_benefits[['report_id','applied_fees_benefits_topups',\n",
    "                                                                  'applied_taxes_benefits_topups']] ,on='report_id', how='left')\n",
    "fact_cupones_2 = fact_cupones_1.merge(pivot_coupons_benefits[['report_id','applied_fees_benefits_coupons',\n",
    "                                                                  'applied_taxes_benefits_coupons']] ,on='report_id', how='left')\n",
    "fact_cupones_2.fillna(0,inplace=True)"
   ]
  },
  {
   "cell_type": "code",
   "execution_count": 31,
   "metadata": {},
   "outputs": [
    {
     "data": {
      "text/html": [
       "<div>\n",
       "<style scoped>\n",
       "    .dataframe tbody tr th:only-of-type {\n",
       "        vertical-align: middle;\n",
       "    }\n",
       "\n",
       "    .dataframe tbody tr th {\n",
       "        vertical-align: top;\n",
       "    }\n",
       "\n",
       "    .dataframe thead th {\n",
       "        text-align: right;\n",
       "    }\n",
       "</style>\n",
       "<table border=\"1\" class=\"dataframe\">\n",
       "  <thead>\n",
       "    <tr style=\"text-align: right;\">\n",
       "      <th></th>\n",
       "      <th>merchant_id</th>\n",
       "      <th>merchant_name</th>\n",
       "      <th>user_email</th>\n",
       "      <th>report_id</th>\n",
       "      <th>report_date_local</th>\n",
       "      <th>total_transactions</th>\n",
       "      <th>total_fees_charged</th>\n",
       "      <th>total_taxes</th>\n",
       "      <th>applied_fees_benefits</th>\n",
       "      <th>applied_taxes_benefits</th>\n",
       "      <th>...</th>\n",
       "      <th>created_time</th>\n",
       "      <th>updated_date</th>\n",
       "      <th>updated_time</th>\n",
       "      <th>file_name</th>\n",
       "      <th>Date</th>\n",
       "      <th>type_data</th>\n",
       "      <th>applied_fees_benefits_topups</th>\n",
       "      <th>applied_taxes_benefits_topups</th>\n",
       "      <th>applied_fees_benefits_coupons</th>\n",
       "      <th>applied_taxes_benefits_coupons</th>\n",
       "    </tr>\n",
       "  </thead>\n",
       "  <tbody>\n",
       "    <tr>\n",
       "      <th>0</th>\n",
       "      <td>1b103437-7cd3-4774-817f-d68bfc6ebb05</td>\n",
       "      <td>FRUTAS Y VERDURAS DE LA ESQUINA</td>\n",
       "      <td>juanluis1890@icloud.com</td>\n",
       "      <td>Y46DFXQNS</td>\n",
       "      <td>2022-12-01</td>\n",
       "      <td>155.65</td>\n",
       "      <td>5.61</td>\n",
       "      <td>0.90</td>\n",
       "      <td>0.00</td>\n",
       "      <td>0.00</td>\n",
       "      <td>...</td>\n",
       "      <td>02:00:30</td>\n",
       "      <td>2022-12-01</td>\n",
       "      <td>02:00:30</td>\n",
       "      <td>SETTLEMENT 2022-12-01.csv</td>\n",
       "      <td>2022-12-01</td>\n",
       "      <td>float</td>\n",
       "      <td>0.00</td>\n",
       "      <td>0.00</td>\n",
       "      <td>0.00</td>\n",
       "      <td>0.00</td>\n",
       "    </tr>\n",
       "    <tr>\n",
       "      <th>1</th>\n",
       "      <td>682fa1f6-5459-420e-8f2a-ad3f52306ef6</td>\n",
       "      <td>CONSULTORIO</td>\n",
       "      <td>katun7@gmail.com</td>\n",
       "      <td>57MPWP22S</td>\n",
       "      <td>2022-12-01</td>\n",
       "      <td>1,400.00</td>\n",
       "      <td>50.40</td>\n",
       "      <td>8.06</td>\n",
       "      <td>0.00</td>\n",
       "      <td>0.00</td>\n",
       "      <td>...</td>\n",
       "      <td>02:00:31</td>\n",
       "      <td>2022-12-01</td>\n",
       "      <td>02:00:31</td>\n",
       "      <td>SETTLEMENT 2022-12-01.csv</td>\n",
       "      <td>2022-12-01</td>\n",
       "      <td>float</td>\n",
       "      <td>0.00</td>\n",
       "      <td>0.00</td>\n",
       "      <td>0.00</td>\n",
       "      <td>0.00</td>\n",
       "    </tr>\n",
       "    <tr>\n",
       "      <th>2</th>\n",
       "      <td>b753f531-bf73-421d-9b78-8b50491dbe14</td>\n",
       "      <td>TAXI ACUATICO</td>\n",
       "      <td>luismiguelgonzalezvirgen4@gmail.com</td>\n",
       "      <td>97RHCS4Y8</td>\n",
       "      <td>2022-12-01</td>\n",
       "      <td>1,500.00</td>\n",
       "      <td>54.00</td>\n",
       "      <td>8.64</td>\n",
       "      <td>0.00</td>\n",
       "      <td>0.00</td>\n",
       "      <td>...</td>\n",
       "      <td>02:00:31</td>\n",
       "      <td>2022-12-01</td>\n",
       "      <td>02:00:31</td>\n",
       "      <td>SETTLEMENT 2022-12-01.csv</td>\n",
       "      <td>2022-12-01</td>\n",
       "      <td>float</td>\n",
       "      <td>0.00</td>\n",
       "      <td>0.00</td>\n",
       "      <td>0.00</td>\n",
       "      <td>0.00</td>\n",
       "    </tr>\n",
       "    <tr>\n",
       "      <th>3</th>\n",
       "      <td>d8bc09a9-52e8-4160-994c-8e302b3c52a2</td>\n",
       "      <td>TUCANDELABAR</td>\n",
       "      <td>Jai-mehdez@hotmail.com</td>\n",
       "      <td>DL8PLM5JB</td>\n",
       "      <td>2022-12-01</td>\n",
       "      <td>4,509.00</td>\n",
       "      <td>162.32</td>\n",
       "      <td>25.97</td>\n",
       "      <td>0.00</td>\n",
       "      <td>0.00</td>\n",
       "      <td>...</td>\n",
       "      <td>02:00:31</td>\n",
       "      <td>2022-12-01</td>\n",
       "      <td>02:00:31</td>\n",
       "      <td>SETTLEMENT 2022-12-01.csv</td>\n",
       "      <td>2022-12-01</td>\n",
       "      <td>float</td>\n",
       "      <td>0.00</td>\n",
       "      <td>0.00</td>\n",
       "      <td>0.00</td>\n",
       "      <td>0.00</td>\n",
       "    </tr>\n",
       "    <tr>\n",
       "      <th>4</th>\n",
       "      <td>b5e67fd0-9cf2-4cb3-9e91-e7cd51242f3a</td>\n",
       "      <td>LES AMIGOS</td>\n",
       "      <td>les3amigosplayadelcarmen@gmail.com</td>\n",
       "      <td>HWVC6WN8F</td>\n",
       "      <td>2022-12-01</td>\n",
       "      <td>1,943.00</td>\n",
       "      <td>69.95</td>\n",
       "      <td>11.19</td>\n",
       "      <td>0.00</td>\n",
       "      <td>0.00</td>\n",
       "      <td>...</td>\n",
       "      <td>02:00:31</td>\n",
       "      <td>2022-12-01</td>\n",
       "      <td>02:00:31</td>\n",
       "      <td>SETTLEMENT 2022-12-01.csv</td>\n",
       "      <td>2022-12-01</td>\n",
       "      <td>float</td>\n",
       "      <td>0.00</td>\n",
       "      <td>0.00</td>\n",
       "      <td>0.00</td>\n",
       "      <td>0.00</td>\n",
       "    </tr>\n",
       "  </tbody>\n",
       "</table>\n",
       "<p>5 rows × 32 columns</p>\n",
       "</div>"
      ],
      "text/plain": [
       "                            merchant_id                     merchant_name  \\\n",
       "0  1b103437-7cd3-4774-817f-d68bfc6ebb05  FRUTAS Y VERDURAS DE LA ESQUINA    \n",
       "1  682fa1f6-5459-420e-8f2a-ad3f52306ef6                       CONSULTORIO   \n",
       "2  b753f531-bf73-421d-9b78-8b50491dbe14                     TAXI ACUATICO   \n",
       "3  d8bc09a9-52e8-4160-994c-8e302b3c52a2                      TUCANDELABAR   \n",
       "4  b5e67fd0-9cf2-4cb3-9e91-e7cd51242f3a                        LES AMIGOS   \n",
       "\n",
       "                            user_email  report_id report_date_local  \\\n",
       "0              juanluis1890@icloud.com  Y46DFXQNS        2022-12-01   \n",
       "1                     katun7@gmail.com  57MPWP22S        2022-12-01   \n",
       "2  luismiguelgonzalezvirgen4@gmail.com  97RHCS4Y8        2022-12-01   \n",
       "3               Jai-mehdez@hotmail.com  DL8PLM5JB        2022-12-01   \n",
       "4   les3amigosplayadelcarmen@gmail.com  HWVC6WN8F        2022-12-01   \n",
       "\n",
       "   total_transactions  total_fees_charged  total_taxes  applied_fees_benefits  \\\n",
       "0              155.65                5.61         0.90                   0.00   \n",
       "1            1,400.00               50.40         8.06                   0.00   \n",
       "2            1,500.00               54.00         8.64                   0.00   \n",
       "3            4,509.00              162.32        25.97                   0.00   \n",
       "4            1,943.00               69.95        11.19                   0.00   \n",
       "\n",
       "   applied_taxes_benefits  ...  created_time  updated_date  updated_time  \\\n",
       "0                    0.00  ...      02:00:30    2022-12-01      02:00:30   \n",
       "1                    0.00  ...      02:00:31    2022-12-01      02:00:31   \n",
       "2                    0.00  ...      02:00:31    2022-12-01      02:00:31   \n",
       "3                    0.00  ...      02:00:31    2022-12-01      02:00:31   \n",
       "4                    0.00  ...      02:00:31    2022-12-01      02:00:31   \n",
       "\n",
       "                   file_name       Date  type_data  \\\n",
       "0  SETTLEMENT 2022-12-01.csv 2022-12-01      float   \n",
       "1  SETTLEMENT 2022-12-01.csv 2022-12-01      float   \n",
       "2  SETTLEMENT 2022-12-01.csv 2022-12-01      float   \n",
       "3  SETTLEMENT 2022-12-01.csv 2022-12-01      float   \n",
       "4  SETTLEMENT 2022-12-01.csv 2022-12-01      float   \n",
       "\n",
       "   applied_fees_benefits_topups  applied_taxes_benefits_topups  \\\n",
       "0                          0.00                           0.00   \n",
       "1                          0.00                           0.00   \n",
       "2                          0.00                           0.00   \n",
       "3                          0.00                           0.00   \n",
       "4                          0.00                           0.00   \n",
       "\n",
       "  applied_fees_benefits_coupons  applied_taxes_benefits_coupons  \n",
       "0                          0.00                            0.00  \n",
       "1                          0.00                            0.00  \n",
       "2                          0.00                            0.00  \n",
       "3                          0.00                            0.00  \n",
       "4                          0.00                            0.00  \n",
       "\n",
       "[5 rows x 32 columns]"
      ]
     },
     "execution_count": 31,
     "metadata": {},
     "output_type": "execute_result"
    }
   ],
   "source": [
    "fact_cupones_2.head()"
   ]
  },
  {
   "cell_type": "code",
   "execution_count": 32,
   "metadata": {},
   "outputs": [
    {
     "data": {
      "text/plain": [
       "(2876286, 32)"
      ]
     },
     "execution_count": 32,
     "metadata": {},
     "output_type": "execute_result"
    }
   ],
   "source": [
    "fact_cupones_2.shape"
   ]
  },
  {
   "cell_type": "code",
   "execution_count": 33,
   "metadata": {},
   "outputs": [
    {
     "data": {
      "text/plain": [
       "Index(['merchant_id', 'merchant_name', 'user_email', 'report_id',\n",
       "       'report_date_local', 'total_transactions', 'total_fees_charged',\n",
       "       'total_taxes', 'applied_fees_benefits', 'applied_taxes_benefits',\n",
       "       'fee_direct_deposit', 'taxes_direct_deposit', 'total_adjustments',\n",
       "       'total_adjustment_fees_charged', 'total_adjustment_taxes', 'cobranza',\n",
       "       'total_released', 'total_retained', 'tipopago', 'total_due', 'type',\n",
       "       'created_date', 'created_time', 'updated_date', 'updated_time',\n",
       "       'file_name', 'Date', 'type_data', 'applied_fees_benefits_topups',\n",
       "       'applied_taxes_benefits_topups', 'applied_fees_benefits_coupons',\n",
       "       'applied_taxes_benefits_coupons'],\n",
       "      dtype='object')"
      ]
     },
     "execution_count": 33,
     "metadata": {},
     "output_type": "execute_result"
    }
   ],
   "source": [
    "fact_cupones_2.columns"
   ]
  },
  {
   "cell_type": "markdown",
   "metadata": {},
   "source": [
    "# FACTURACION PREVIO FINAL"
   ]
  },
  {
   "cell_type": "code",
   "execution_count": 34,
   "metadata": {},
   "outputs": [
    {
     "data": {
      "text/html": [
       "<div>\n",
       "<style scoped>\n",
       "    .dataframe tbody tr th:only-of-type {\n",
       "        vertical-align: middle;\n",
       "    }\n",
       "\n",
       "    .dataframe tbody tr th {\n",
       "        vertical-align: top;\n",
       "    }\n",
       "\n",
       "    .dataframe thead th {\n",
       "        text-align: right;\n",
       "    }\n",
       "</style>\n",
       "<table border=\"1\" class=\"dataframe\">\n",
       "  <thead>\n",
       "    <tr style=\"text-align: right;\">\n",
       "      <th></th>\n",
       "      <th>merchant_id</th>\n",
       "      <th>merchant_name</th>\n",
       "      <th>user_email</th>\n",
       "      <th>report_id</th>\n",
       "      <th>report_date_local</th>\n",
       "      <th>total_transactions</th>\n",
       "      <th>total_fees_charged</th>\n",
       "      <th>total_taxes</th>\n",
       "      <th>applied_fees_benefits</th>\n",
       "      <th>applied_taxes_benefits</th>\n",
       "      <th>...</th>\n",
       "      <th>type</th>\n",
       "      <th>created_date</th>\n",
       "      <th>created_time</th>\n",
       "      <th>updated_date</th>\n",
       "      <th>updated_time</th>\n",
       "      <th>file_name</th>\n",
       "      <th>Date</th>\n",
       "      <th>comision_topups_all</th>\n",
       "      <th>iva_comision_topups_all</th>\n",
       "      <th>topups_all</th>\n",
       "    </tr>\n",
       "  </thead>\n",
       "  <tbody>\n",
       "    <tr>\n",
       "      <th>0</th>\n",
       "      <td>1b103437-7cd3-4774-817f-d68bfc6ebb05</td>\n",
       "      <td>FRUTAS Y VERDURAS DE LA ESQUINA</td>\n",
       "      <td>juanluis1890@icloud.com</td>\n",
       "      <td>Y46DFXQNS</td>\n",
       "      <td>2022-12-01</td>\n",
       "      <td>155.65</td>\n",
       "      <td>5.61</td>\n",
       "      <td>0.90</td>\n",
       "      <td>0.00</td>\n",
       "      <td>0.00</td>\n",
       "      <td>...</td>\n",
       "      <td>DAILY</td>\n",
       "      <td>2022-12-01</td>\n",
       "      <td>02:00:30</td>\n",
       "      <td>2022-12-01</td>\n",
       "      <td>02:00:30</td>\n",
       "      <td>SETTLEMENT 2022-12-01.csv</td>\n",
       "      <td>2022-12-01</td>\n",
       "      <td>0.00</td>\n",
       "      <td>0.00</td>\n",
       "      <td>0.00</td>\n",
       "    </tr>\n",
       "    <tr>\n",
       "      <th>1</th>\n",
       "      <td>682fa1f6-5459-420e-8f2a-ad3f52306ef6</td>\n",
       "      <td>CONSULTORIO</td>\n",
       "      <td>katun7@gmail.com</td>\n",
       "      <td>57MPWP22S</td>\n",
       "      <td>2022-12-01</td>\n",
       "      <td>1,400.00</td>\n",
       "      <td>50.40</td>\n",
       "      <td>8.06</td>\n",
       "      <td>0.00</td>\n",
       "      <td>0.00</td>\n",
       "      <td>...</td>\n",
       "      <td>DAILY</td>\n",
       "      <td>2022-12-01</td>\n",
       "      <td>02:00:31</td>\n",
       "      <td>2022-12-01</td>\n",
       "      <td>02:00:31</td>\n",
       "      <td>SETTLEMENT 2022-12-01.csv</td>\n",
       "      <td>2022-12-01</td>\n",
       "      <td>0.00</td>\n",
       "      <td>0.00</td>\n",
       "      <td>0.00</td>\n",
       "    </tr>\n",
       "    <tr>\n",
       "      <th>2</th>\n",
       "      <td>b753f531-bf73-421d-9b78-8b50491dbe14</td>\n",
       "      <td>TAXI ACUATICO</td>\n",
       "      <td>luismiguelgonzalezvirgen4@gmail.com</td>\n",
       "      <td>97RHCS4Y8</td>\n",
       "      <td>2022-12-01</td>\n",
       "      <td>1,500.00</td>\n",
       "      <td>54.00</td>\n",
       "      <td>8.64</td>\n",
       "      <td>0.00</td>\n",
       "      <td>0.00</td>\n",
       "      <td>...</td>\n",
       "      <td>DAILY</td>\n",
       "      <td>2022-12-01</td>\n",
       "      <td>02:00:31</td>\n",
       "      <td>2022-12-01</td>\n",
       "      <td>02:00:31</td>\n",
       "      <td>SETTLEMENT 2022-12-01.csv</td>\n",
       "      <td>2022-12-01</td>\n",
       "      <td>0.00</td>\n",
       "      <td>0.00</td>\n",
       "      <td>0.00</td>\n",
       "    </tr>\n",
       "    <tr>\n",
       "      <th>3</th>\n",
       "      <td>d8bc09a9-52e8-4160-994c-8e302b3c52a2</td>\n",
       "      <td>TUCANDELABAR</td>\n",
       "      <td>Jai-mehdez@hotmail.com</td>\n",
       "      <td>DL8PLM5JB</td>\n",
       "      <td>2022-12-01</td>\n",
       "      <td>4,509.00</td>\n",
       "      <td>162.32</td>\n",
       "      <td>25.97</td>\n",
       "      <td>0.00</td>\n",
       "      <td>0.00</td>\n",
       "      <td>...</td>\n",
       "      <td>DAILY</td>\n",
       "      <td>2022-12-01</td>\n",
       "      <td>02:00:31</td>\n",
       "      <td>2022-12-01</td>\n",
       "      <td>02:00:31</td>\n",
       "      <td>SETTLEMENT 2022-12-01.csv</td>\n",
       "      <td>2022-12-01</td>\n",
       "      <td>0.00</td>\n",
       "      <td>0.00</td>\n",
       "      <td>0.00</td>\n",
       "    </tr>\n",
       "    <tr>\n",
       "      <th>4</th>\n",
       "      <td>b5e67fd0-9cf2-4cb3-9e91-e7cd51242f3a</td>\n",
       "      <td>LES AMIGOS</td>\n",
       "      <td>les3amigosplayadelcarmen@gmail.com</td>\n",
       "      <td>HWVC6WN8F</td>\n",
       "      <td>2022-12-01</td>\n",
       "      <td>1,943.00</td>\n",
       "      <td>69.95</td>\n",
       "      <td>11.19</td>\n",
       "      <td>0.00</td>\n",
       "      <td>0.00</td>\n",
       "      <td>...</td>\n",
       "      <td>DAILY</td>\n",
       "      <td>2022-12-01</td>\n",
       "      <td>02:00:31</td>\n",
       "      <td>2022-12-01</td>\n",
       "      <td>02:00:31</td>\n",
       "      <td>SETTLEMENT 2022-12-01.csv</td>\n",
       "      <td>2022-12-01</td>\n",
       "      <td>0.00</td>\n",
       "      <td>0.00</td>\n",
       "      <td>0.00</td>\n",
       "    </tr>\n",
       "  </tbody>\n",
       "</table>\n",
       "<p>5 rows × 34 columns</p>\n",
       "</div>"
      ],
      "text/plain": [
       "                            merchant_id                     merchant_name  \\\n",
       "0  1b103437-7cd3-4774-817f-d68bfc6ebb05  FRUTAS Y VERDURAS DE LA ESQUINA    \n",
       "1  682fa1f6-5459-420e-8f2a-ad3f52306ef6                       CONSULTORIO   \n",
       "2  b753f531-bf73-421d-9b78-8b50491dbe14                     TAXI ACUATICO   \n",
       "3  d8bc09a9-52e8-4160-994c-8e302b3c52a2                      TUCANDELABAR   \n",
       "4  b5e67fd0-9cf2-4cb3-9e91-e7cd51242f3a                        LES AMIGOS   \n",
       "\n",
       "                            user_email  report_id report_date_local  \\\n",
       "0              juanluis1890@icloud.com  Y46DFXQNS        2022-12-01   \n",
       "1                     katun7@gmail.com  57MPWP22S        2022-12-01   \n",
       "2  luismiguelgonzalezvirgen4@gmail.com  97RHCS4Y8        2022-12-01   \n",
       "3               Jai-mehdez@hotmail.com  DL8PLM5JB        2022-12-01   \n",
       "4   les3amigosplayadelcarmen@gmail.com  HWVC6WN8F        2022-12-01   \n",
       "\n",
       "   total_transactions  total_fees_charged  total_taxes  applied_fees_benefits  \\\n",
       "0              155.65                5.61         0.90                   0.00   \n",
       "1            1,400.00               50.40         8.06                   0.00   \n",
       "2            1,500.00               54.00         8.64                   0.00   \n",
       "3            4,509.00              162.32        25.97                   0.00   \n",
       "4            1,943.00               69.95        11.19                   0.00   \n",
       "\n",
       "   applied_taxes_benefits  ...   type  created_date  created_time  \\\n",
       "0                    0.00  ...  DAILY    2022-12-01      02:00:30   \n",
       "1                    0.00  ...  DAILY    2022-12-01      02:00:31   \n",
       "2                    0.00  ...  DAILY    2022-12-01      02:00:31   \n",
       "3                    0.00  ...  DAILY    2022-12-01      02:00:31   \n",
       "4                    0.00  ...  DAILY    2022-12-01      02:00:31   \n",
       "\n",
       "   updated_date  updated_time                  file_name       Date  \\\n",
       "0    2022-12-01      02:00:30  SETTLEMENT 2022-12-01.csv 2022-12-01   \n",
       "1    2022-12-01      02:00:31  SETTLEMENT 2022-12-01.csv 2022-12-01   \n",
       "2    2022-12-01      02:00:31  SETTLEMENT 2022-12-01.csv 2022-12-01   \n",
       "3    2022-12-01      02:00:31  SETTLEMENT 2022-12-01.csv 2022-12-01   \n",
       "4    2022-12-01      02:00:31  SETTLEMENT 2022-12-01.csv 2022-12-01   \n",
       "\n",
       "   comision_topups_all  iva_comision_topups_all  topups_all  \n",
       "0                 0.00                     0.00        0.00  \n",
       "1                 0.00                     0.00        0.00  \n",
       "2                 0.00                     0.00        0.00  \n",
       "3                 0.00                     0.00        0.00  \n",
       "4                 0.00                     0.00        0.00  \n",
       "\n",
       "[5 rows x 34 columns]"
      ]
     },
     "execution_count": 34,
     "metadata": {},
     "output_type": "execute_result"
    }
   ],
   "source": [
    "fact = fact_cupones_2[['merchant_id','merchant_name','user_email','report_id','report_date_local','total_transactions',\n",
    "                       'total_fees_charged','total_taxes','applied_fees_benefits','applied_taxes_benefits',\n",
    "                       'applied_fees_benefits_topups','applied_taxes_benefits_topups','applied_fees_benefits_coupons',\n",
    "                       'applied_taxes_benefits_coupons','fee_direct_deposit','taxes_direct_deposit',\n",
    "                       'total_adjustments','total_adjustment_fees_charged','total_adjustment_taxes','cobranza','total_released',\n",
    "                       'total_retained','tipopago','total_due','type','created_date','created_time','updated_date','updated_time',\n",
    "                       'file_name', 'Date']]\n",
    "fact['comision_topups_all'] = fact['applied_fees_benefits_topups'] + fact['fee_direct_deposit']\n",
    "fact['iva_comision_topups_all'] = fact['applied_taxes_benefits_topups'] + fact['taxes_direct_deposit']\n",
    "fact['topups_all'] = fact['comision_topups_all'] + fact['iva_comision_topups_all']\n",
    "fact.head()"
   ]
  },
  {
   "cell_type": "code",
   "execution_count": 35,
   "metadata": {},
   "outputs": [
    {
     "data": {
      "text/plain": [
       "(2876286, 34)"
      ]
     },
     "execution_count": 35,
     "metadata": {},
     "output_type": "execute_result"
    }
   ],
   "source": [
    "fact.shape"
   ]
  },
  {
   "cell_type": "code",
   "execution_count": 36,
   "metadata": {},
   "outputs": [
    {
     "data": {
      "text/html": [
       "<div>\n",
       "<style scoped>\n",
       "    .dataframe tbody tr th:only-of-type {\n",
       "        vertical-align: middle;\n",
       "    }\n",
       "\n",
       "    .dataframe tbody tr th {\n",
       "        vertical-align: top;\n",
       "    }\n",
       "\n",
       "    .dataframe thead th {\n",
       "        text-align: right;\n",
       "    }\n",
       "</style>\n",
       "<table border=\"1\" class=\"dataframe\">\n",
       "  <thead>\n",
       "    <tr style=\"text-align: right;\">\n",
       "      <th></th>\n",
       "      <th>merchant_id</th>\n",
       "      <th>merchant_name</th>\n",
       "      <th>user_email</th>\n",
       "      <th>report_id</th>\n",
       "      <th>report_date_local</th>\n",
       "      <th>total_transactions</th>\n",
       "      <th>total_fees_charged</th>\n",
       "      <th>total_taxes</th>\n",
       "      <th>applied_fees_benefits</th>\n",
       "      <th>applied_taxes_benefits</th>\n",
       "      <th>...</th>\n",
       "      <th>type</th>\n",
       "      <th>created_date</th>\n",
       "      <th>created_time</th>\n",
       "      <th>updated_date</th>\n",
       "      <th>updated_time</th>\n",
       "      <th>file_name</th>\n",
       "      <th>Date</th>\n",
       "      <th>comision_topups_all</th>\n",
       "      <th>iva_comision_topups_all</th>\n",
       "      <th>topups_all</th>\n",
       "    </tr>\n",
       "  </thead>\n",
       "  <tbody>\n",
       "    <tr>\n",
       "      <th>23</th>\n",
       "      <td>78ae15db-6b21-4cb5-8f25-e2ea06ea5590</td>\n",
       "      <td>MULTISERVISIOS RODRGUEZ</td>\n",
       "      <td>manuelgperdz94@gmail.com</td>\n",
       "      <td>HHTCZTKYB</td>\n",
       "      <td>2022-12-01</td>\n",
       "      <td>0.00</td>\n",
       "      <td>0.00</td>\n",
       "      <td>0.00</td>\n",
       "      <td>0.00</td>\n",
       "      <td>0.00</td>\n",
       "      <td>...</td>\n",
       "      <td>DAILY</td>\n",
       "      <td>2022-12-01</td>\n",
       "      <td>02:00:34</td>\n",
       "      <td>2022-12-01</td>\n",
       "      <td>02:00:34</td>\n",
       "      <td>SETTLEMENT 2022-12-01.csv</td>\n",
       "      <td>2022-12-01</td>\n",
       "      <td>3.45</td>\n",
       "      <td>0.55</td>\n",
       "      <td>4.00</td>\n",
       "    </tr>\n",
       "    <tr>\n",
       "      <th>63</th>\n",
       "      <td>8cd32107-7118-4461-acb4-1957f89cb9b3</td>\n",
       "      <td>VADE LAVANDERIA</td>\n",
       "      <td>viruss1945@hotmail.com</td>\n",
       "      <td>DP7JCJZSD</td>\n",
       "      <td>2022-12-01</td>\n",
       "      <td>335.00</td>\n",
       "      <td>12.06</td>\n",
       "      <td>1.93</td>\n",
       "      <td>0.00</td>\n",
       "      <td>0.00</td>\n",
       "      <td>...</td>\n",
       "      <td>DAILY</td>\n",
       "      <td>2022-12-01</td>\n",
       "      <td>02:00:41</td>\n",
       "      <td>2022-12-01</td>\n",
       "      <td>02:00:41</td>\n",
       "      <td>SETTLEMENT 2022-12-01.csv</td>\n",
       "      <td>2022-12-01</td>\n",
       "      <td>1.72</td>\n",
       "      <td>0.28</td>\n",
       "      <td>2.00</td>\n",
       "    </tr>\n",
       "    <tr>\n",
       "      <th>77</th>\n",
       "      <td>e48f42d3-6de6-4857-816b-61be3751ea26</td>\n",
       "      <td>LACHES BY JISSEL</td>\n",
       "      <td>jisselyteto@outlook.com</td>\n",
       "      <td>HGVWKZ32R</td>\n",
       "      <td>2022-12-01</td>\n",
       "      <td>0.00</td>\n",
       "      <td>0.00</td>\n",
       "      <td>0.00</td>\n",
       "      <td>0.00</td>\n",
       "      <td>0.00</td>\n",
       "      <td>...</td>\n",
       "      <td>DAILY</td>\n",
       "      <td>2022-12-01</td>\n",
       "      <td>02:00:43</td>\n",
       "      <td>2022-12-01</td>\n",
       "      <td>02:00:43</td>\n",
       "      <td>SETTLEMENT 2022-12-01.csv</td>\n",
       "      <td>2022-12-01</td>\n",
       "      <td>3.45</td>\n",
       "      <td>0.55</td>\n",
       "      <td>4.00</td>\n",
       "    </tr>\n",
       "    <tr>\n",
       "      <th>82</th>\n",
       "      <td>98d664bc-675f-4a44-82c0-14a2e019b8f8</td>\n",
       "      <td>JJ SHOP</td>\n",
       "      <td>josue.dom.mar@gmail.com</td>\n",
       "      <td>FYZ37B4YW</td>\n",
       "      <td>2022-12-01</td>\n",
       "      <td>0.00</td>\n",
       "      <td>0.00</td>\n",
       "      <td>0.00</td>\n",
       "      <td>0.00</td>\n",
       "      <td>0.00</td>\n",
       "      <td>...</td>\n",
       "      <td>DAILY</td>\n",
       "      <td>2022-12-01</td>\n",
       "      <td>02:00:44</td>\n",
       "      <td>2022-12-01</td>\n",
       "      <td>02:00:44</td>\n",
       "      <td>SETTLEMENT 2022-12-01.csv</td>\n",
       "      <td>2022-12-01</td>\n",
       "      <td>0.52</td>\n",
       "      <td>0.08</td>\n",
       "      <td>0.60</td>\n",
       "    </tr>\n",
       "    <tr>\n",
       "      <th>91</th>\n",
       "      <td>28552808-b15c-4fbd-b53a-6d72bc9cdb5c</td>\n",
       "      <td>LAS ADICTIVAS</td>\n",
       "      <td>alvarezhernandezpatricia14@gmail.com</td>\n",
       "      <td>YLPR982FM</td>\n",
       "      <td>2022-12-01</td>\n",
       "      <td>0.00</td>\n",
       "      <td>0.00</td>\n",
       "      <td>0.00</td>\n",
       "      <td>0.00</td>\n",
       "      <td>0.00</td>\n",
       "      <td>...</td>\n",
       "      <td>DAILY</td>\n",
       "      <td>2022-12-01</td>\n",
       "      <td>02:00:45</td>\n",
       "      <td>2022-12-01</td>\n",
       "      <td>02:00:45</td>\n",
       "      <td>SETTLEMENT 2022-12-01.csv</td>\n",
       "      <td>2022-12-01</td>\n",
       "      <td>1.03</td>\n",
       "      <td>0.17</td>\n",
       "      <td>1.20</td>\n",
       "    </tr>\n",
       "  </tbody>\n",
       "</table>\n",
       "<p>5 rows × 34 columns</p>\n",
       "</div>"
      ],
      "text/plain": [
       "                             merchant_id            merchant_name  \\\n",
       "23  78ae15db-6b21-4cb5-8f25-e2ea06ea5590  MULTISERVISIOS RODRGUEZ   \n",
       "63  8cd32107-7118-4461-acb4-1957f89cb9b3          VADE LAVANDERIA   \n",
       "77  e48f42d3-6de6-4857-816b-61be3751ea26         LACHES BY JISSEL   \n",
       "82  98d664bc-675f-4a44-82c0-14a2e019b8f8                  JJ SHOP   \n",
       "91  28552808-b15c-4fbd-b53a-6d72bc9cdb5c            LAS ADICTIVAS   \n",
       "\n",
       "                              user_email  report_id report_date_local  \\\n",
       "23              manuelgperdz94@gmail.com  HHTCZTKYB        2022-12-01   \n",
       "63                viruss1945@hotmail.com  DP7JCJZSD        2022-12-01   \n",
       "77               jisselyteto@outlook.com  HGVWKZ32R        2022-12-01   \n",
       "82               josue.dom.mar@gmail.com  FYZ37B4YW        2022-12-01   \n",
       "91  alvarezhernandezpatricia14@gmail.com  YLPR982FM        2022-12-01   \n",
       "\n",
       "    total_transactions  total_fees_charged  total_taxes  \\\n",
       "23                0.00                0.00         0.00   \n",
       "63              335.00               12.06         1.93   \n",
       "77                0.00                0.00         0.00   \n",
       "82                0.00                0.00         0.00   \n",
       "91                0.00                0.00         0.00   \n",
       "\n",
       "    applied_fees_benefits  applied_taxes_benefits  ...   type  created_date  \\\n",
       "23                   0.00                    0.00  ...  DAILY    2022-12-01   \n",
       "63                   0.00                    0.00  ...  DAILY    2022-12-01   \n",
       "77                   0.00                    0.00  ...  DAILY    2022-12-01   \n",
       "82                   0.00                    0.00  ...  DAILY    2022-12-01   \n",
       "91                   0.00                    0.00  ...  DAILY    2022-12-01   \n",
       "\n",
       "    created_time  updated_date  updated_time                  file_name  \\\n",
       "23      02:00:34    2022-12-01      02:00:34  SETTLEMENT 2022-12-01.csv   \n",
       "63      02:00:41    2022-12-01      02:00:41  SETTLEMENT 2022-12-01.csv   \n",
       "77      02:00:43    2022-12-01      02:00:43  SETTLEMENT 2022-12-01.csv   \n",
       "82      02:00:44    2022-12-01      02:00:44  SETTLEMENT 2022-12-01.csv   \n",
       "91      02:00:45    2022-12-01      02:00:45  SETTLEMENT 2022-12-01.csv   \n",
       "\n",
       "         Date  comision_topups_all  iva_comision_topups_all  topups_all  \n",
       "23 2022-12-01                 3.45                     0.55        4.00  \n",
       "63 2022-12-01                 1.72                     0.28        2.00  \n",
       "77 2022-12-01                 3.45                     0.55        4.00  \n",
       "82 2022-12-01                 0.52                     0.08        0.60  \n",
       "91 2022-12-01                 1.03                     0.17        1.20  \n",
       "\n",
       "[5 rows x 34 columns]"
      ]
     },
     "execution_count": 36,
     "metadata": {},
     "output_type": "execute_result"
    }
   ],
   "source": [
    "fact_topups = fact[(fact['topups_all'] != 0)]\n",
    "fact_topups.head()"
   ]
  },
  {
   "cell_type": "code",
   "execution_count": 37,
   "metadata": {},
   "outputs": [
    {
     "data": {
      "text/plain": [
       "(151773, 34)"
      ]
     },
     "execution_count": 37,
     "metadata": {},
     "output_type": "execute_result"
    }
   ],
   "source": [
    "fact_topups.shape"
   ]
  },
  {
   "cell_type": "code",
   "execution_count": 38,
   "metadata": {},
   "outputs": [
    {
     "data": {
      "text/html": [
       "<div>\n",
       "<style scoped>\n",
       "    .dataframe tbody tr th:only-of-type {\n",
       "        vertical-align: middle;\n",
       "    }\n",
       "\n",
       "    .dataframe tbody tr th {\n",
       "        vertical-align: top;\n",
       "    }\n",
       "\n",
       "    .dataframe thead th {\n",
       "        text-align: right;\n",
       "    }\n",
       "</style>\n",
       "<table border=\"1\" class=\"dataframe\">\n",
       "  <thead>\n",
       "    <tr style=\"text-align: right;\">\n",
       "      <th></th>\n",
       "      <th>merchant_id</th>\n",
       "      <th>applied_fees_benefits_topups</th>\n",
       "      <th>applied_taxes_benefits_topups</th>\n",
       "      <th>fee_direct_deposit</th>\n",
       "      <th>taxes_direct_deposit</th>\n",
       "      <th>topups_all</th>\n",
       "    </tr>\n",
       "  </thead>\n",
       "  <tbody>\n",
       "    <tr>\n",
       "      <th>0</th>\n",
       "      <td>00023bd5-6149-4ef9-95be-edb61d22588d</td>\n",
       "      <td>0.00</td>\n",
       "      <td>0.00</td>\n",
       "      <td>7.76</td>\n",
       "      <td>1.24</td>\n",
       "      <td>9.00</td>\n",
       "    </tr>\n",
       "    <tr>\n",
       "      <th>1</th>\n",
       "      <td>0003a589-425d-4027-86db-48c941b45f78</td>\n",
       "      <td>9.00</td>\n",
       "      <td>1.44</td>\n",
       "      <td>0.00</td>\n",
       "      <td>0.00</td>\n",
       "      <td>10.44</td>\n",
       "    </tr>\n",
       "    <tr>\n",
       "      <th>2</th>\n",
       "      <td>0003f6d6-1ced-46b6-b25b-c3ce3f289214</td>\n",
       "      <td>0.00</td>\n",
       "      <td>0.00</td>\n",
       "      <td>10.51</td>\n",
       "      <td>1.69</td>\n",
       "      <td>12.20</td>\n",
       "    </tr>\n",
       "    <tr>\n",
       "      <th>3</th>\n",
       "      <td>00042cab-f6df-4657-ac84-8bb4ac688601</td>\n",
       "      <td>0.00</td>\n",
       "      <td>0.00</td>\n",
       "      <td>20.87</td>\n",
       "      <td>3.33</td>\n",
       "      <td>24.20</td>\n",
       "    </tr>\n",
       "    <tr>\n",
       "      <th>4</th>\n",
       "      <td>000d6381-e54a-4bfc-9856-3ed55d33408b</td>\n",
       "      <td>0.00</td>\n",
       "      <td>0.00</td>\n",
       "      <td>1.72</td>\n",
       "      <td>0.28</td>\n",
       "      <td>2.00</td>\n",
       "    </tr>\n",
       "  </tbody>\n",
       "</table>\n",
       "</div>"
      ],
      "text/plain": [
       "                            merchant_id  applied_fees_benefits_topups  \\\n",
       "0  00023bd5-6149-4ef9-95be-edb61d22588d                          0.00   \n",
       "1  0003a589-425d-4027-86db-48c941b45f78                          9.00   \n",
       "2  0003f6d6-1ced-46b6-b25b-c3ce3f289214                          0.00   \n",
       "3  00042cab-f6df-4657-ac84-8bb4ac688601                          0.00   \n",
       "4  000d6381-e54a-4bfc-9856-3ed55d33408b                          0.00   \n",
       "\n",
       "   applied_taxes_benefits_topups  fee_direct_deposit  taxes_direct_deposit  \\\n",
       "0                           0.00                7.76                  1.24   \n",
       "1                           1.44                0.00                  0.00   \n",
       "2                           0.00               10.51                  1.69   \n",
       "3                           0.00               20.87                  3.33   \n",
       "4                           0.00                1.72                  0.28   \n",
       "\n",
       "   topups_all  \n",
       "0        9.00  \n",
       "1       10.44  \n",
       "2       12.20  \n",
       "3       24.20  \n",
       "4        2.00  "
      ]
     },
     "execution_count": 38,
     "metadata": {},
     "output_type": "execute_result"
    }
   ],
   "source": [
    "pivot_fact_topups = pd.pivot_table(fact_topups,index=['merchant_id'],values=['applied_fees_benefits_topups',\n",
    "                                                                             'applied_taxes_benefits_topups',\n",
    "                                                                            'fee_direct_deposit',\n",
    "                                                                            'taxes_direct_deposit',\n",
    "                                                                            'topups_all'],\n",
    "                                  aggfunc=np.sum,margins=False).reset_index()\n",
    "pivot_fact_topups.head()"
   ]
  },
  {
   "cell_type": "code",
   "execution_count": 39,
   "metadata": {},
   "outputs": [
    {
     "data": {
      "text/plain": [
       "(42723, 6)"
      ]
     },
     "execution_count": 39,
     "metadata": {},
     "output_type": "execute_result"
    }
   ],
   "source": [
    "pivot_fact_topups.shape"
   ]
  },
  {
   "cell_type": "code",
   "execution_count": null,
   "metadata": {},
   "outputs": [],
   "source": []
  },
  {
   "cell_type": "markdown",
   "metadata": {},
   "source": [
    "# DETALLE TOPUPS"
   ]
  },
  {
   "cell_type": "code",
   "execution_count": 40,
   "metadata": {},
   "outputs": [],
   "source": [
    "start_date_mes = '2022-12-01'\n",
    "# final_date_mes = '2020-10-26'"
   ]
  },
  {
   "cell_type": "code",
   "execution_count": 41,
   "metadata": {},
   "outputs": [
    {
     "data": {
      "text/plain": [
       "['C:\\\\Users\\\\Cristian.Aparicio\\\\Documents\\\\TOPUPS\\\\SETTLEMENT\\\\2022\\\\12. DICIEMBRE\\\\Topups_settlement_diciembre_2022.csv']"
      ]
     },
     "execution_count": 41,
     "metadata": {},
     "output_type": "execute_result"
    }
   ],
   "source": [
    "alltopups_files = glob.glob(r'C:\\Users\\Cristian.Aparicio\\Documents\\TOPUPS\\SETTLEMENT\\2022\\12. DICIEMBRE\\*.csv', recursive=False)\n",
    "alltopups_files"
   ]
  },
  {
   "cell_type": "code",
   "execution_count": 42,
   "metadata": {},
   "outputs": [
    {
     "data": {
      "text/html": [
       "<div>\n",
       "<style scoped>\n",
       "    .dataframe tbody tr th:only-of-type {\n",
       "        vertical-align: middle;\n",
       "    }\n",
       "\n",
       "    .dataframe tbody tr th {\n",
       "        vertical-align: top;\n",
       "    }\n",
       "\n",
       "    .dataframe thead th {\n",
       "        text-align: right;\n",
       "    }\n",
       "</style>\n",
       "<table border=\"1\" class=\"dataframe\">\n",
       "  <thead>\n",
       "    <tr style=\"text-align: right;\">\n",
       "      <th></th>\n",
       "      <th>topups_id</th>\n",
       "      <th>merchant_id</th>\n",
       "      <th>amount</th>\n",
       "      <th>commission_amount</th>\n",
       "      <th>carrier</th>\n",
       "      <th>receipt_no</th>\n",
       "      <th>topup_created_at</th>\n",
       "      <th>created_at</th>\n",
       "      <th>updated_at</th>\n",
       "      <th>processed_date_local</th>\n",
       "      <th>file_name</th>\n",
       "    </tr>\n",
       "  </thead>\n",
       "  <tbody>\n",
       "    <tr>\n",
       "      <th>0</th>\n",
       "      <td>fec7dae2-d611-4f4d-a238-5c0f3cda80ab</td>\n",
       "      <td>402e3afe-57a5-4ac5-b21d-3b177e03bef9</td>\n",
       "      <td>50</td>\n",
       "      <td>2.00</td>\n",
       "      <td>TELCEL</td>\n",
       "      <td>TU-Zpo4K2B</td>\n",
       "      <td>2019-04-08</td>\n",
       "      <td>2019-04-08</td>\n",
       "      <td>2022-12-01</td>\n",
       "      <td>2022-12-01</td>\n",
       "      <td>Topups_settlement_diciembre_2022.csv</td>\n",
       "    </tr>\n",
       "    <tr>\n",
       "      <th>1</th>\n",
       "      <td>23999bc8-840e-4e38-a394-942a2fa4ce48</td>\n",
       "      <td>5853b035-49bb-449d-a203-e9b60fc1e952</td>\n",
       "      <td>100</td>\n",
       "      <td>4.00</td>\n",
       "      <td>TELCEL</td>\n",
       "      <td>TU-GGEdtq4</td>\n",
       "      <td>2021-10-06</td>\n",
       "      <td>2021-10-06</td>\n",
       "      <td>2022-12-01</td>\n",
       "      <td>2022-12-01</td>\n",
       "      <td>Topups_settlement_diciembre_2022.csv</td>\n",
       "    </tr>\n",
       "    <tr>\n",
       "      <th>2</th>\n",
       "      <td>2f19290c-551a-4b33-9251-84ce20200a85</td>\n",
       "      <td>36061039-4319-4c14-b0a5-ca7ebf5b6389</td>\n",
       "      <td>100</td>\n",
       "      <td>4.00</td>\n",
       "      <td>TELCEL</td>\n",
       "      <td>TU-DFCC0qq</td>\n",
       "      <td>2022-04-02</td>\n",
       "      <td>2022-04-02</td>\n",
       "      <td>2022-12-01</td>\n",
       "      <td>2022-12-01</td>\n",
       "      <td>Topups_settlement_diciembre_2022.csv</td>\n",
       "    </tr>\n",
       "    <tr>\n",
       "      <th>3</th>\n",
       "      <td>ad5143e8-c2f5-40d3-931c-07cfa94c09f3</td>\n",
       "      <td>e839018e-1225-4045-9367-a949c2fef9ab</td>\n",
       "      <td>200</td>\n",
       "      <td>8.00</td>\n",
       "      <td>TELCEL</td>\n",
       "      <td>TU-cKoi5JR</td>\n",
       "      <td>2022-04-11</td>\n",
       "      <td>2022-04-11</td>\n",
       "      <td>2022-12-01</td>\n",
       "      <td>2022-12-01</td>\n",
       "      <td>Topups_settlement_diciembre_2022.csv</td>\n",
       "    </tr>\n",
       "    <tr>\n",
       "      <th>4</th>\n",
       "      <td>2cce82d2-308b-44d5-8d3f-24b5937d862c</td>\n",
       "      <td>5853b035-49bb-449d-a203-e9b60fc1e952</td>\n",
       "      <td>50</td>\n",
       "      <td>2.00</td>\n",
       "      <td>TELCEL</td>\n",
       "      <td>TU-SUX8BPa</td>\n",
       "      <td>2022-04-19</td>\n",
       "      <td>2022-04-19</td>\n",
       "      <td>2022-12-01</td>\n",
       "      <td>2022-12-01</td>\n",
       "      <td>Topups_settlement_diciembre_2022.csv</td>\n",
       "    </tr>\n",
       "  </tbody>\n",
       "</table>\n",
       "</div>"
      ],
      "text/plain": [
       "                              topups_id                           merchant_id  \\\n",
       "0  fec7dae2-d611-4f4d-a238-5c0f3cda80ab  402e3afe-57a5-4ac5-b21d-3b177e03bef9   \n",
       "1  23999bc8-840e-4e38-a394-942a2fa4ce48  5853b035-49bb-449d-a203-e9b60fc1e952   \n",
       "2  2f19290c-551a-4b33-9251-84ce20200a85  36061039-4319-4c14-b0a5-ca7ebf5b6389   \n",
       "3  ad5143e8-c2f5-40d3-931c-07cfa94c09f3  e839018e-1225-4045-9367-a949c2fef9ab   \n",
       "4  2cce82d2-308b-44d5-8d3f-24b5937d862c  5853b035-49bb-449d-a203-e9b60fc1e952   \n",
       "\n",
       "   amount  commission_amount carrier  receipt_no topup_created_at created_at  \\\n",
       "0      50               2.00  TELCEL  TU-Zpo4K2B       2019-04-08 2019-04-08   \n",
       "1     100               4.00  TELCEL  TU-GGEdtq4       2021-10-06 2021-10-06   \n",
       "2     100               4.00  TELCEL  TU-DFCC0qq       2022-04-02 2022-04-02   \n",
       "3     200               8.00  TELCEL  TU-cKoi5JR       2022-04-11 2022-04-11   \n",
       "4      50               2.00  TELCEL  TU-SUX8BPa       2022-04-19 2022-04-19   \n",
       "\n",
       "  updated_at processed_date_local                             file_name  \n",
       "0 2022-12-01           2022-12-01  Topups_settlement_diciembre_2022.csv  \n",
       "1 2022-12-01           2022-12-01  Topups_settlement_diciembre_2022.csv  \n",
       "2 2022-12-01           2022-12-01  Topups_settlement_diciembre_2022.csv  \n",
       "3 2022-12-01           2022-12-01  Topups_settlement_diciembre_2022.csv  \n",
       "4 2022-12-01           2022-12-01  Topups_settlement_diciembre_2022.csv  "
      ]
     },
     "execution_count": 42,
     "metadata": {},
     "output_type": "execute_result"
    }
   ],
   "source": [
    "topups_all = pd.concat([pd.read_csv(f).assign(file_name=os.path.basename(f)) for f in alltopups_files])\n",
    "topups_all.columns = topups_all.columns.str.strip().str.lower()\n",
    "topups_all['topup_created_at'] = pd.to_datetime(topups_all['topup_created_at'])\n",
    "topups_all['created_at'] = pd.to_datetime(topups_all['created_at'])\n",
    "topups_all['updated_at'] = pd.to_datetime(topups_all['updated_at'])\n",
    "topups_all.head()"
   ]
  },
  {
   "cell_type": "code",
   "execution_count": 43,
   "metadata": {},
   "outputs": [
    {
     "data": {
      "text/plain": [
       "(253158, 11)"
      ]
     },
     "execution_count": 43,
     "metadata": {},
     "output_type": "execute_result"
    }
   ],
   "source": [
    "topups_all.shape"
   ]
  },
  {
   "cell_type": "code",
   "execution_count": 44,
   "metadata": {},
   "outputs": [
    {
     "data": {
      "text/html": [
       "<div>\n",
       "<style scoped>\n",
       "    .dataframe tbody tr th:only-of-type {\n",
       "        vertical-align: middle;\n",
       "    }\n",
       "\n",
       "    .dataframe tbody tr th {\n",
       "        vertical-align: top;\n",
       "    }\n",
       "\n",
       "    .dataframe thead th {\n",
       "        text-align: right;\n",
       "    }\n",
       "</style>\n",
       "<table border=\"1\" class=\"dataframe\">\n",
       "  <thead>\n",
       "    <tr style=\"text-align: right;\">\n",
       "      <th></th>\n",
       "      <th>merchant_id</th>\n",
       "      <th>amount</th>\n",
       "      <th>commission_amount</th>\n",
       "    </tr>\n",
       "  </thead>\n",
       "  <tbody>\n",
       "    <tr>\n",
       "      <th>0</th>\n",
       "      <td>00023bd5-6149-4ef9-95be-edb61d22588d</td>\n",
       "      <td>150</td>\n",
       "      <td>9.00</td>\n",
       "    </tr>\n",
       "    <tr>\n",
       "      <th>1</th>\n",
       "      <td>0003f6d6-1ced-46b6-b25b-c3ce3f289214</td>\n",
       "      <td>230</td>\n",
       "      <td>12.20</td>\n",
       "    </tr>\n",
       "    <tr>\n",
       "      <th>2</th>\n",
       "      <td>00042cab-f6df-4657-ac84-8bb4ac688601</td>\n",
       "      <td>450</td>\n",
       "      <td>24.20</td>\n",
       "    </tr>\n",
       "    <tr>\n",
       "      <th>3</th>\n",
       "      <td>000d6381-e54a-4bfc-9856-3ed55d33408b</td>\n",
       "      <td>50</td>\n",
       "      <td>2.00</td>\n",
       "    </tr>\n",
       "    <tr>\n",
       "      <th>4</th>\n",
       "      <td>000e5198-a19b-41c8-8391-fe6ac3f6f70c</td>\n",
       "      <td>600</td>\n",
       "      <td>24.00</td>\n",
       "    </tr>\n",
       "  </tbody>\n",
       "</table>\n",
       "</div>"
      ],
      "text/plain": [
       "                            merchant_id  amount  commission_amount\n",
       "0  00023bd5-6149-4ef9-95be-edb61d22588d     150               9.00\n",
       "1  0003f6d6-1ced-46b6-b25b-c3ce3f289214     230              12.20\n",
       "2  00042cab-f6df-4657-ac84-8bb4ac688601     450              24.20\n",
       "3  000d6381-e54a-4bfc-9856-3ed55d33408b      50               2.00\n",
       "4  000e5198-a19b-41c8-8391-fe6ac3f6f70c     600              24.00"
      ]
     },
     "execution_count": 44,
     "metadata": {},
     "output_type": "execute_result"
    }
   ],
   "source": [
    "topups_all_me_id = pd.pivot_table(topups_all,index=['merchant_id'],values=['amount','commission_amount'],\n",
    "                                  aggfunc=np.sum,margins=False).reset_index()\n",
    "topups_all_me_id.head()"
   ]
  },
  {
   "cell_type": "code",
   "execution_count": 45,
   "metadata": {},
   "outputs": [
    {
     "data": {
      "text/plain": [
       "(42511, 3)"
      ]
     },
     "execution_count": 45,
     "metadata": {},
     "output_type": "execute_result"
    }
   ],
   "source": [
    "topups_all_me_id.shape"
   ]
  },
  {
   "cell_type": "code",
   "execution_count": 47,
   "metadata": {},
   "outputs": [
    {
     "data": {
      "text/html": [
       "<div>\n",
       "<style scoped>\n",
       "    .dataframe tbody tr th:only-of-type {\n",
       "        vertical-align: middle;\n",
       "    }\n",
       "\n",
       "    .dataframe tbody tr th {\n",
       "        vertical-align: top;\n",
       "    }\n",
       "\n",
       "    .dataframe thead th {\n",
       "        text-align: right;\n",
       "    }\n",
       "</style>\n",
       "<table border=\"1\" class=\"dataframe\">\n",
       "  <thead>\n",
       "    <tr style=\"text-align: right;\">\n",
       "      <th></th>\n",
       "      <th>merchant_id</th>\n",
       "      <th>topups_id</th>\n",
       "      <th>created_at</th>\n",
       "      <th>processed_date_local</th>\n",
       "      <th>amount</th>\n",
       "      <th>commission_amount</th>\n",
       "    </tr>\n",
       "  </thead>\n",
       "  <tbody>\n",
       "    <tr>\n",
       "      <th>0</th>\n",
       "      <td>00023bd5-6149-4ef9-95be-edb61d22588d</td>\n",
       "      <td>a6ed62ba-ceb5-42b6-8bcb-a79a7566d046</td>\n",
       "      <td>2022-12-17</td>\n",
       "      <td>2022-12-18</td>\n",
       "      <td>50</td>\n",
       "      <td>3.00</td>\n",
       "    </tr>\n",
       "    <tr>\n",
       "      <th>1</th>\n",
       "      <td>00023bd5-6149-4ef9-95be-edb61d22588d</td>\n",
       "      <td>ad9156f4-e681-4c62-98c2-c13c13de0533</td>\n",
       "      <td>2022-12-17</td>\n",
       "      <td>2022-12-18</td>\n",
       "      <td>50</td>\n",
       "      <td>3.00</td>\n",
       "    </tr>\n",
       "    <tr>\n",
       "      <th>2</th>\n",
       "      <td>00023bd5-6149-4ef9-95be-edb61d22588d</td>\n",
       "      <td>cea5e900-addd-4f31-b42e-133d4c040a7e</td>\n",
       "      <td>2022-12-17</td>\n",
       "      <td>2022-12-18</td>\n",
       "      <td>20</td>\n",
       "      <td>1.20</td>\n",
       "    </tr>\n",
       "    <tr>\n",
       "      <th>3</th>\n",
       "      <td>00023bd5-6149-4ef9-95be-edb61d22588d</td>\n",
       "      <td>d884734a-3256-45d6-8812-48eb6a18a0f1</td>\n",
       "      <td>2022-12-25</td>\n",
       "      <td>2022-12-26</td>\n",
       "      <td>30</td>\n",
       "      <td>1.80</td>\n",
       "    </tr>\n",
       "    <tr>\n",
       "      <th>7</th>\n",
       "      <td>0003f6d6-1ced-46b6-b25b-c3ce3f289214</td>\n",
       "      <td>f147f876-8075-4b26-bb6f-8929cf91cd5e</td>\n",
       "      <td>2022-12-02</td>\n",
       "      <td>2022-12-03</td>\n",
       "      <td>30</td>\n",
       "      <td>1.20</td>\n",
       "    </tr>\n",
       "  </tbody>\n",
       "</table>\n",
       "</div>"
      ],
      "text/plain": [
       "                            merchant_id                             topups_id  \\\n",
       "0  00023bd5-6149-4ef9-95be-edb61d22588d  a6ed62ba-ceb5-42b6-8bcb-a79a7566d046   \n",
       "1  00023bd5-6149-4ef9-95be-edb61d22588d  ad9156f4-e681-4c62-98c2-c13c13de0533   \n",
       "2  00023bd5-6149-4ef9-95be-edb61d22588d  cea5e900-addd-4f31-b42e-133d4c040a7e   \n",
       "3  00023bd5-6149-4ef9-95be-edb61d22588d  d884734a-3256-45d6-8812-48eb6a18a0f1   \n",
       "7  0003f6d6-1ced-46b6-b25b-c3ce3f289214  f147f876-8075-4b26-bb6f-8929cf91cd5e   \n",
       "\n",
       "  created_at processed_date_local  amount  commission_amount  \n",
       "0 2022-12-17           2022-12-18      50               3.00  \n",
       "1 2022-12-17           2022-12-18      50               3.00  \n",
       "2 2022-12-17           2022-12-18      20               1.20  \n",
       "3 2022-12-25           2022-12-26      30               1.80  \n",
       "7 2022-12-02           2022-12-03      30               1.20  "
      ]
     },
     "execution_count": 47,
     "metadata": {},
     "output_type": "execute_result"
    }
   ],
   "source": [
    "topups_all_group_by = topups_all.groupby(['merchant_id','topups_id','created_at','processed_date_local']).agg({'amount':sum\n",
    "                                                                                ,'commission_amount':sum}).reset_index()\n",
    "topups_all_group_by.sort_values(by=['merchant_id','processed_date_local','created_at'],inplace=True)\n",
    "topups_all_group_by.head()"
   ]
  },
  {
   "cell_type": "code",
   "execution_count": 48,
   "metadata": {},
   "outputs": [
    {
     "data": {
      "text/plain": [
       "(253158, 6)"
      ]
     },
     "execution_count": 48,
     "metadata": {},
     "output_type": "execute_result"
    }
   ],
   "source": [
    "topups_all_group_by.shape"
   ]
  },
  {
   "cell_type": "code",
   "execution_count": 63,
   "metadata": {},
   "outputs": [
    {
     "data": {
      "text/plain": [
       "DatetimeIndex(['2022-01-01', '2022-01-02', '2022-01-03', '2022-01-04',\n",
       "               '2022-01-05', '2022-01-06', '2022-01-07', '2022-01-08',\n",
       "               '2022-01-09', '2022-01-10', '2022-01-11', '2022-01-12',\n",
       "               '2022-01-13', '2022-01-14', '2022-01-15', '2022-01-16',\n",
       "               '2022-01-17', '2022-01-18', '2022-01-19', '2022-01-20',\n",
       "               '2022-01-21', '2022-01-22', '2022-01-23', '2022-01-24',\n",
       "               '2022-01-25', '2022-01-26', '2022-01-27', '2022-01-28',\n",
       "               '2022-01-29', '2022-01-30', '2022-01-31'],\n",
       "              dtype='datetime64[ns]', freq='D')"
      ]
     },
     "execution_count": 63,
     "metadata": {},
     "output_type": "execute_result"
    }
   ],
   "source": [
    "i = pd.date_range('2022-01-01', periods=31, freq='1D')\n",
    "i"
   ]
  },
  {
   "cell_type": "code",
   "execution_count": 75,
   "metadata": {},
   "outputs": [
    {
     "data": {
      "text/html": [
       "<div>\n",
       "<style scoped>\n",
       "    .dataframe tbody tr th:only-of-type {\n",
       "        vertical-align: middle;\n",
       "    }\n",
       "\n",
       "    .dataframe tbody tr th {\n",
       "        vertical-align: top;\n",
       "    }\n",
       "\n",
       "    .dataframe thead th {\n",
       "        text-align: right;\n",
       "    }\n",
       "</style>\n",
       "<table border=\"1\" class=\"dataframe\">\n",
       "  <thead>\n",
       "    <tr style=\"text-align: right;\">\n",
       "      <th></th>\n",
       "      <th>merchant_id</th>\n",
       "      <th>topups_id</th>\n",
       "      <th>created_at</th>\n",
       "      <th>amount</th>\n",
       "      <th>commission_amount</th>\n",
       "      <th>limit</th>\n",
       "      <th>cumsum</th>\n",
       "      <th>cumcount</th>\n",
       "    </tr>\n",
       "    <tr>\n",
       "      <th>processed_date_local</th>\n",
       "      <th></th>\n",
       "      <th></th>\n",
       "      <th></th>\n",
       "      <th></th>\n",
       "      <th></th>\n",
       "      <th></th>\n",
       "      <th></th>\n",
       "      <th></th>\n",
       "    </tr>\n",
       "  </thead>\n",
       "  <tbody>\n",
       "    <tr>\n",
       "      <th>2022-12-18</th>\n",
       "      <td>00023bd5-6149-4ef9-95be-edb61d22588d</td>\n",
       "      <td>a6ed62ba-ceb5-42b6-8bcb-a79a7566d046</td>\n",
       "      <td>2022-12-17</td>\n",
       "      <td>50</td>\n",
       "      <td>3.00</td>\n",
       "      <td>00023bd5-6149-4ef9-95be-edb61d22588d</td>\n",
       "      <td>3.00</td>\n",
       "      <td>0</td>\n",
       "    </tr>\n",
       "    <tr>\n",
       "      <th>2022-12-18</th>\n",
       "      <td>00023bd5-6149-4ef9-95be-edb61d22588d</td>\n",
       "      <td>ad9156f4-e681-4c62-98c2-c13c13de0533</td>\n",
       "      <td>2022-12-17</td>\n",
       "      <td>50</td>\n",
       "      <td>3.00</td>\n",
       "      <td>00023bd5-6149-4ef9-95be-edb61d22588d</td>\n",
       "      <td>6.00</td>\n",
       "      <td>1</td>\n",
       "    </tr>\n",
       "    <tr>\n",
       "      <th>2022-12-18</th>\n",
       "      <td>00023bd5-6149-4ef9-95be-edb61d22588d</td>\n",
       "      <td>cea5e900-addd-4f31-b42e-133d4c040a7e</td>\n",
       "      <td>2022-12-17</td>\n",
       "      <td>20</td>\n",
       "      <td>1.20</td>\n",
       "      <td>00023bd5-6149-4ef9-95be-edb61d22588d</td>\n",
       "      <td>7.20</td>\n",
       "      <td>2</td>\n",
       "    </tr>\n",
       "    <tr>\n",
       "      <th>2022-12-26</th>\n",
       "      <td>00023bd5-6149-4ef9-95be-edb61d22588d</td>\n",
       "      <td>d884734a-3256-45d6-8812-48eb6a18a0f1</td>\n",
       "      <td>2022-12-25</td>\n",
       "      <td>30</td>\n",
       "      <td>1.80</td>\n",
       "      <td>LIMIT</td>\n",
       "      <td>1.80</td>\n",
       "      <td>0</td>\n",
       "    </tr>\n",
       "    <tr>\n",
       "      <th>2022-12-03</th>\n",
       "      <td>0003f6d6-1ced-46b6-b25b-c3ce3f289214</td>\n",
       "      <td>f147f876-8075-4b26-bb6f-8929cf91cd5e</td>\n",
       "      <td>2022-12-02</td>\n",
       "      <td>30</td>\n",
       "      <td>1.20</td>\n",
       "      <td>0003f6d6-1ced-46b6-b25b-c3ce3f289214</td>\n",
       "      <td>1.20</td>\n",
       "      <td>0</td>\n",
       "    </tr>\n",
       "  </tbody>\n",
       "</table>\n",
       "</div>"
      ],
      "text/plain": [
       "                                               merchant_id  \\\n",
       "processed_date_local                                         \n",
       "2022-12-18            00023bd5-6149-4ef9-95be-edb61d22588d   \n",
       "2022-12-18            00023bd5-6149-4ef9-95be-edb61d22588d   \n",
       "2022-12-18            00023bd5-6149-4ef9-95be-edb61d22588d   \n",
       "2022-12-26            00023bd5-6149-4ef9-95be-edb61d22588d   \n",
       "2022-12-03            0003f6d6-1ced-46b6-b25b-c3ce3f289214   \n",
       "\n",
       "                                                 topups_id created_at  amount  \\\n",
       "processed_date_local                                                            \n",
       "2022-12-18            a6ed62ba-ceb5-42b6-8bcb-a79a7566d046 2022-12-17      50   \n",
       "2022-12-18            ad9156f4-e681-4c62-98c2-c13c13de0533 2022-12-17      50   \n",
       "2022-12-18            cea5e900-addd-4f31-b42e-133d4c040a7e 2022-12-17      20   \n",
       "2022-12-26            d884734a-3256-45d6-8812-48eb6a18a0f1 2022-12-25      30   \n",
       "2022-12-03            f147f876-8075-4b26-bb6f-8929cf91cd5e 2022-12-02      30   \n",
       "\n",
       "                      commission_amount                                 limit  \\\n",
       "processed_date_local                                                            \n",
       "2022-12-18                         3.00  00023bd5-6149-4ef9-95be-edb61d22588d   \n",
       "2022-12-18                         3.00  00023bd5-6149-4ef9-95be-edb61d22588d   \n",
       "2022-12-18                         1.20  00023bd5-6149-4ef9-95be-edb61d22588d   \n",
       "2022-12-26                         1.80                                 LIMIT   \n",
       "2022-12-03                         1.20  0003f6d6-1ced-46b6-b25b-c3ce3f289214   \n",
       "\n",
       "                      cumsum  cumcount  \n",
       "processed_date_local                    \n",
       "2022-12-18              3.00         0  \n",
       "2022-12-18              6.00         1  \n",
       "2022-12-18              7.20         2  \n",
       "2022-12-26              1.80         0  \n",
       "2022-12-03              1.20         0  "
      ]
     },
     "execution_count": 75,
     "metadata": {},
     "output_type": "execute_result"
    }
   ],
   "source": [
    "topups_all_group_by['limit'] = topups_all_group_by.groupby('merchant_id')['merchant_id'].shift(-1)\n",
    "topups_all_group_by['limit'].fillna('LIMIT',inplace=True)\n",
    "topups_all_group_by['cumsum'] = topups_all_group_by.groupby(['merchant_id','created_at'])['commission_amount'].cumsum()\n",
    "topups_all_group_by['cumcount'] = topups_all_group_by.groupby(['merchant_id','created_at'])['commission_amount'].cumcount()\n",
    "#topups_all_group_by.set_index('processed_date_local',inplace=True)\n",
    "topups_all_group_by.head()"
   ]
  },
  {
   "cell_type": "code",
   "execution_count": 76,
   "metadata": {},
   "outputs": [
    {
     "data": {
      "text/plain": [
       "(253158, 8)"
      ]
     },
     "execution_count": 76,
     "metadata": {},
     "output_type": "execute_result"
    }
   ],
   "source": [
    "topups_all_group_by.shape"
   ]
  },
  {
   "cell_type": "code",
   "execution_count": 82,
   "metadata": {},
   "outputs": [
    {
     "name": "stderr",
     "output_type": "stream",
     "text": [
      "C:\\Users\\Cristian.Aparicio\\AppData\\Local\\Temp\\ipykernel_16688\\726784298.py:2: SettingWithCopyWarning: \n",
      "A value is trying to be set on a copy of a slice from a DataFrame\n",
      "\n",
      "See the caveats in the documentation: https://pandas.pydata.org/pandas-docs/stable/user_guide/indexing.html#returning-a-view-versus-a-copy\n",
      "  last_rows.rename(columns={'cumcount':'last_counts'},inplace=True)\n"
     ]
    },
    {
     "data": {
      "text/html": [
       "<div>\n",
       "<style scoped>\n",
       "    .dataframe tbody tr th:only-of-type {\n",
       "        vertical-align: middle;\n",
       "    }\n",
       "\n",
       "    .dataframe tbody tr th {\n",
       "        vertical-align: top;\n",
       "    }\n",
       "\n",
       "    .dataframe thead th {\n",
       "        text-align: right;\n",
       "    }\n",
       "</style>\n",
       "<table border=\"1\" class=\"dataframe\">\n",
       "  <thead>\n",
       "    <tr style=\"text-align: right;\">\n",
       "      <th></th>\n",
       "      <th>merchant_id</th>\n",
       "      <th>topups_id</th>\n",
       "      <th>created_at</th>\n",
       "      <th>amount</th>\n",
       "      <th>commission_amount</th>\n",
       "      <th>limit</th>\n",
       "      <th>cumsum</th>\n",
       "      <th>last_counts</th>\n",
       "    </tr>\n",
       "    <tr>\n",
       "      <th>processed_date_local</th>\n",
       "      <th></th>\n",
       "      <th></th>\n",
       "      <th></th>\n",
       "      <th></th>\n",
       "      <th></th>\n",
       "      <th></th>\n",
       "      <th></th>\n",
       "      <th></th>\n",
       "    </tr>\n",
       "  </thead>\n",
       "  <tbody>\n",
       "    <tr>\n",
       "      <th>2022-12-26</th>\n",
       "      <td>00023bd5-6149-4ef9-95be-edb61d22588d</td>\n",
       "      <td>d884734a-3256-45d6-8812-48eb6a18a0f1</td>\n",
       "      <td>2022-12-25</td>\n",
       "      <td>30</td>\n",
       "      <td>1.80</td>\n",
       "      <td>LIMIT</td>\n",
       "      <td>1.80</td>\n",
       "      <td>0</td>\n",
       "    </tr>\n",
       "    <tr>\n",
       "      <th>2022-12-22</th>\n",
       "      <td>0003f6d6-1ced-46b6-b25b-c3ce3f289214</td>\n",
       "      <td>6ad6f255-bf94-4297-a09f-8f9111b57c43</td>\n",
       "      <td>2022-12-21</td>\n",
       "      <td>50</td>\n",
       "      <td>3.00</td>\n",
       "      <td>LIMIT</td>\n",
       "      <td>3.00</td>\n",
       "      <td>0</td>\n",
       "    </tr>\n",
       "    <tr>\n",
       "      <th>2022-12-27</th>\n",
       "      <td>00042cab-f6df-4657-ac84-8bb4ac688601</td>\n",
       "      <td>1f44e84a-64fc-4913-926c-e5930322b6e7</td>\n",
       "      <td>2022-12-26</td>\n",
       "      <td>100</td>\n",
       "      <td>4.00</td>\n",
       "      <td>LIMIT</td>\n",
       "      <td>4.00</td>\n",
       "      <td>0</td>\n",
       "    </tr>\n",
       "    <tr>\n",
       "      <th>2022-12-17</th>\n",
       "      <td>000d6381-e54a-4bfc-9856-3ed55d33408b</td>\n",
       "      <td>36df0456-f098-4b18-88c6-0c96940fc8b7</td>\n",
       "      <td>2022-12-16</td>\n",
       "      <td>50</td>\n",
       "      <td>2.00</td>\n",
       "      <td>LIMIT</td>\n",
       "      <td>2.00</td>\n",
       "      <td>0</td>\n",
       "    </tr>\n",
       "    <tr>\n",
       "      <th>2022-12-29</th>\n",
       "      <td>000e5198-a19b-41c8-8391-fe6ac3f6f70c</td>\n",
       "      <td>acc0b559-6427-47fa-9daf-9ca00d863a63</td>\n",
       "      <td>2022-12-28</td>\n",
       "      <td>100</td>\n",
       "      <td>4.00</td>\n",
       "      <td>LIMIT</td>\n",
       "      <td>4.00</td>\n",
       "      <td>0</td>\n",
       "    </tr>\n",
       "  </tbody>\n",
       "</table>\n",
       "</div>"
      ],
      "text/plain": [
       "                                               merchant_id  \\\n",
       "processed_date_local                                         \n",
       "2022-12-26            00023bd5-6149-4ef9-95be-edb61d22588d   \n",
       "2022-12-22            0003f6d6-1ced-46b6-b25b-c3ce3f289214   \n",
       "2022-12-27            00042cab-f6df-4657-ac84-8bb4ac688601   \n",
       "2022-12-17            000d6381-e54a-4bfc-9856-3ed55d33408b   \n",
       "2022-12-29            000e5198-a19b-41c8-8391-fe6ac3f6f70c   \n",
       "\n",
       "                                                 topups_id created_at  amount  \\\n",
       "processed_date_local                                                            \n",
       "2022-12-26            d884734a-3256-45d6-8812-48eb6a18a0f1 2022-12-25      30   \n",
       "2022-12-22            6ad6f255-bf94-4297-a09f-8f9111b57c43 2022-12-21      50   \n",
       "2022-12-27            1f44e84a-64fc-4913-926c-e5930322b6e7 2022-12-26     100   \n",
       "2022-12-17            36df0456-f098-4b18-88c6-0c96940fc8b7 2022-12-16      50   \n",
       "2022-12-29            acc0b559-6427-47fa-9daf-9ca00d863a63 2022-12-28     100   \n",
       "\n",
       "                      commission_amount  limit  cumsum  last_counts  \n",
       "processed_date_local                                                 \n",
       "2022-12-26                         1.80  LIMIT    1.80            0  \n",
       "2022-12-22                         3.00  LIMIT    3.00            0  \n",
       "2022-12-27                         4.00  LIMIT    4.00            0  \n",
       "2022-12-17                         2.00  LIMIT    2.00            0  \n",
       "2022-12-29                         4.00  LIMIT    4.00            0  "
      ]
     },
     "execution_count": 82,
     "metadata": {},
     "output_type": "execute_result"
    }
   ],
   "source": [
    "last_rows = topups_all_group_by[(topups_all_group_by['limit'] == 'LIMIT')]\n",
    "last_rows.rename(columns={'cumcount':'last_counts'},inplace=True)\n",
    "last_rows.head()"
   ]
  },
  {
   "cell_type": "code",
   "execution_count": 83,
   "metadata": {},
   "outputs": [
    {
     "data": {
      "text/plain": [
       "(42511, 8)"
      ]
     },
     "execution_count": 83,
     "metadata": {},
     "output_type": "execute_result"
    }
   ],
   "source": [
    "last_rows.shape"
   ]
  },
  {
   "cell_type": "markdown",
   "metadata": {},
   "source": [
    "# IDENTIFICADOR"
   ]
  },
  {
   "cell_type": "code",
   "execution_count": 84,
   "metadata": {},
   "outputs": [
    {
     "data": {
      "text/html": [
       "<div>\n",
       "<style scoped>\n",
       "    .dataframe tbody tr th:only-of-type {\n",
       "        vertical-align: middle;\n",
       "    }\n",
       "\n",
       "    .dataframe tbody tr th {\n",
       "        vertical-align: top;\n",
       "    }\n",
       "\n",
       "    .dataframe thead th {\n",
       "        text-align: right;\n",
       "    }\n",
       "</style>\n",
       "<table border=\"1\" class=\"dataframe\">\n",
       "  <thead>\n",
       "    <tr style=\"text-align: right;\">\n",
       "      <th></th>\n",
       "      <th>merchant_id</th>\n",
       "      <th>topups_id</th>\n",
       "      <th>created_at</th>\n",
       "      <th>amount</th>\n",
       "      <th>commission_amount</th>\n",
       "      <th>limit</th>\n",
       "      <th>cumsum</th>\n",
       "      <th>cumcount</th>\n",
       "      <th>last_counts</th>\n",
       "    </tr>\n",
       "  </thead>\n",
       "  <tbody>\n",
       "    <tr>\n",
       "      <th>0</th>\n",
       "      <td>00023bd5-6149-4ef9-95be-edb61d22588d</td>\n",
       "      <td>a6ed62ba-ceb5-42b6-8bcb-a79a7566d046</td>\n",
       "      <td>2022-12-17</td>\n",
       "      <td>50</td>\n",
       "      <td>3.00</td>\n",
       "      <td>00023bd5-6149-4ef9-95be-edb61d22588d</td>\n",
       "      <td>3.00</td>\n",
       "      <td>0</td>\n",
       "      <td>0</td>\n",
       "    </tr>\n",
       "    <tr>\n",
       "      <th>1</th>\n",
       "      <td>00023bd5-6149-4ef9-95be-edb61d22588d</td>\n",
       "      <td>ad9156f4-e681-4c62-98c2-c13c13de0533</td>\n",
       "      <td>2022-12-17</td>\n",
       "      <td>50</td>\n",
       "      <td>3.00</td>\n",
       "      <td>00023bd5-6149-4ef9-95be-edb61d22588d</td>\n",
       "      <td>6.00</td>\n",
       "      <td>1</td>\n",
       "      <td>0</td>\n",
       "    </tr>\n",
       "    <tr>\n",
       "      <th>2</th>\n",
       "      <td>00023bd5-6149-4ef9-95be-edb61d22588d</td>\n",
       "      <td>cea5e900-addd-4f31-b42e-133d4c040a7e</td>\n",
       "      <td>2022-12-17</td>\n",
       "      <td>20</td>\n",
       "      <td>1.20</td>\n",
       "      <td>00023bd5-6149-4ef9-95be-edb61d22588d</td>\n",
       "      <td>7.20</td>\n",
       "      <td>2</td>\n",
       "      <td>0</td>\n",
       "    </tr>\n",
       "    <tr>\n",
       "      <th>3</th>\n",
       "      <td>00023bd5-6149-4ef9-95be-edb61d22588d</td>\n",
       "      <td>d884734a-3256-45d6-8812-48eb6a18a0f1</td>\n",
       "      <td>2022-12-25</td>\n",
       "      <td>30</td>\n",
       "      <td>1.80</td>\n",
       "      <td>LIMIT</td>\n",
       "      <td>1.80</td>\n",
       "      <td>0</td>\n",
       "      <td>0</td>\n",
       "    </tr>\n",
       "    <tr>\n",
       "      <th>4</th>\n",
       "      <td>0003f6d6-1ced-46b6-b25b-c3ce3f289214</td>\n",
       "      <td>f147f876-8075-4b26-bb6f-8929cf91cd5e</td>\n",
       "      <td>2022-12-02</td>\n",
       "      <td>30</td>\n",
       "      <td>1.20</td>\n",
       "      <td>0003f6d6-1ced-46b6-b25b-c3ce3f289214</td>\n",
       "      <td>1.20</td>\n",
       "      <td>0</td>\n",
       "      <td>0</td>\n",
       "    </tr>\n",
       "  </tbody>\n",
       "</table>\n",
       "</div>"
      ],
      "text/plain": [
       "                            merchant_id                             topups_id  \\\n",
       "0  00023bd5-6149-4ef9-95be-edb61d22588d  a6ed62ba-ceb5-42b6-8bcb-a79a7566d046   \n",
       "1  00023bd5-6149-4ef9-95be-edb61d22588d  ad9156f4-e681-4c62-98c2-c13c13de0533   \n",
       "2  00023bd5-6149-4ef9-95be-edb61d22588d  cea5e900-addd-4f31-b42e-133d4c040a7e   \n",
       "3  00023bd5-6149-4ef9-95be-edb61d22588d  d884734a-3256-45d6-8812-48eb6a18a0f1   \n",
       "4  0003f6d6-1ced-46b6-b25b-c3ce3f289214  f147f876-8075-4b26-bb6f-8929cf91cd5e   \n",
       "\n",
       "  created_at  amount  commission_amount                                 limit  \\\n",
       "0 2022-12-17      50               3.00  00023bd5-6149-4ef9-95be-edb61d22588d   \n",
       "1 2022-12-17      50               3.00  00023bd5-6149-4ef9-95be-edb61d22588d   \n",
       "2 2022-12-17      20               1.20  00023bd5-6149-4ef9-95be-edb61d22588d   \n",
       "3 2022-12-25      30               1.80                                 LIMIT   \n",
       "4 2022-12-02      30               1.20  0003f6d6-1ced-46b6-b25b-c3ce3f289214   \n",
       "\n",
       "   cumsum  cumcount  last_counts  \n",
       "0    3.00         0            0  \n",
       "1    6.00         1            0  \n",
       "2    7.20         2            0  \n",
       "3    1.80         0            0  \n",
       "4    1.20         0            0  "
      ]
     },
     "execution_count": 84,
     "metadata": {},
     "output_type": "execute_result"
    }
   ],
   "source": [
    "ident_1 = topups_all_group_by.merge(last_rows[['merchant_id','last_counts']] ,on='merchant_id', how='left')\n",
    "ident_1.head()"
   ]
  },
  {
   "cell_type": "code",
   "execution_count": 87,
   "metadata": {},
   "outputs": [],
   "source": [
    "def numer_topups_last_rows(ident_1):\n",
    "    if ((ident_1['limit'] == 'LIMIT') & (ident_1['cumcount'] == (ident_1['last_counts']))):\n",
    "        return 'TRUE'\n",
    "    else:\n",
    "        return 'FALSE'\n",
    "ident_1['validation_last_counts'] = ident_1.apply(numer_topups_last_rows, axis=1)"
   ]
  },
  {
   "cell_type": "code",
   "execution_count": 88,
   "metadata": {},
   "outputs": [
    {
     "data": {
      "text/html": [
       "<div>\n",
       "<style scoped>\n",
       "    .dataframe tbody tr th:only-of-type {\n",
       "        vertical-align: middle;\n",
       "    }\n",
       "\n",
       "    .dataframe tbody tr th {\n",
       "        vertical-align: top;\n",
       "    }\n",
       "\n",
       "    .dataframe thead th {\n",
       "        text-align: right;\n",
       "    }\n",
       "</style>\n",
       "<table border=\"1\" class=\"dataframe\">\n",
       "  <thead>\n",
       "    <tr style=\"text-align: right;\">\n",
       "      <th></th>\n",
       "      <th>merchant_id</th>\n",
       "      <th>topups_id</th>\n",
       "      <th>created_at</th>\n",
       "      <th>amount</th>\n",
       "      <th>commission_amount</th>\n",
       "      <th>limit</th>\n",
       "      <th>cumsum</th>\n",
       "      <th>cumcount</th>\n",
       "      <th>last_counts</th>\n",
       "      <th>validation_last_counts</th>\n",
       "    </tr>\n",
       "  </thead>\n",
       "  <tbody>\n",
       "    <tr>\n",
       "      <th>0</th>\n",
       "      <td>00023bd5-6149-4ef9-95be-edb61d22588d</td>\n",
       "      <td>a6ed62ba-ceb5-42b6-8bcb-a79a7566d046</td>\n",
       "      <td>2022-12-17</td>\n",
       "      <td>50</td>\n",
       "      <td>3.00</td>\n",
       "      <td>00023bd5-6149-4ef9-95be-edb61d22588d</td>\n",
       "      <td>3.00</td>\n",
       "      <td>0</td>\n",
       "      <td>0</td>\n",
       "      <td>FALSE</td>\n",
       "    </tr>\n",
       "    <tr>\n",
       "      <th>1</th>\n",
       "      <td>00023bd5-6149-4ef9-95be-edb61d22588d</td>\n",
       "      <td>ad9156f4-e681-4c62-98c2-c13c13de0533</td>\n",
       "      <td>2022-12-17</td>\n",
       "      <td>50</td>\n",
       "      <td>3.00</td>\n",
       "      <td>00023bd5-6149-4ef9-95be-edb61d22588d</td>\n",
       "      <td>6.00</td>\n",
       "      <td>1</td>\n",
       "      <td>0</td>\n",
       "      <td>FALSE</td>\n",
       "    </tr>\n",
       "    <tr>\n",
       "      <th>2</th>\n",
       "      <td>00023bd5-6149-4ef9-95be-edb61d22588d</td>\n",
       "      <td>cea5e900-addd-4f31-b42e-133d4c040a7e</td>\n",
       "      <td>2022-12-17</td>\n",
       "      <td>20</td>\n",
       "      <td>1.20</td>\n",
       "      <td>00023bd5-6149-4ef9-95be-edb61d22588d</td>\n",
       "      <td>7.20</td>\n",
       "      <td>2</td>\n",
       "      <td>0</td>\n",
       "      <td>FALSE</td>\n",
       "    </tr>\n",
       "    <tr>\n",
       "      <th>3</th>\n",
       "      <td>00023bd5-6149-4ef9-95be-edb61d22588d</td>\n",
       "      <td>d884734a-3256-45d6-8812-48eb6a18a0f1</td>\n",
       "      <td>2022-12-25</td>\n",
       "      <td>30</td>\n",
       "      <td>1.80</td>\n",
       "      <td>LIMIT</td>\n",
       "      <td>1.80</td>\n",
       "      <td>0</td>\n",
       "      <td>0</td>\n",
       "      <td>TRUE</td>\n",
       "    </tr>\n",
       "    <tr>\n",
       "      <th>4</th>\n",
       "      <td>0003f6d6-1ced-46b6-b25b-c3ce3f289214</td>\n",
       "      <td>f147f876-8075-4b26-bb6f-8929cf91cd5e</td>\n",
       "      <td>2022-12-02</td>\n",
       "      <td>30</td>\n",
       "      <td>1.20</td>\n",
       "      <td>0003f6d6-1ced-46b6-b25b-c3ce3f289214</td>\n",
       "      <td>1.20</td>\n",
       "      <td>0</td>\n",
       "      <td>0</td>\n",
       "      <td>FALSE</td>\n",
       "    </tr>\n",
       "  </tbody>\n",
       "</table>\n",
       "</div>"
      ],
      "text/plain": [
       "                            merchant_id                             topups_id  \\\n",
       "0  00023bd5-6149-4ef9-95be-edb61d22588d  a6ed62ba-ceb5-42b6-8bcb-a79a7566d046   \n",
       "1  00023bd5-6149-4ef9-95be-edb61d22588d  ad9156f4-e681-4c62-98c2-c13c13de0533   \n",
       "2  00023bd5-6149-4ef9-95be-edb61d22588d  cea5e900-addd-4f31-b42e-133d4c040a7e   \n",
       "3  00023bd5-6149-4ef9-95be-edb61d22588d  d884734a-3256-45d6-8812-48eb6a18a0f1   \n",
       "4  0003f6d6-1ced-46b6-b25b-c3ce3f289214  f147f876-8075-4b26-bb6f-8929cf91cd5e   \n",
       "\n",
       "  created_at  amount  commission_amount                                 limit  \\\n",
       "0 2022-12-17      50               3.00  00023bd5-6149-4ef9-95be-edb61d22588d   \n",
       "1 2022-12-17      50               3.00  00023bd5-6149-4ef9-95be-edb61d22588d   \n",
       "2 2022-12-17      20               1.20  00023bd5-6149-4ef9-95be-edb61d22588d   \n",
       "3 2022-12-25      30               1.80                                 LIMIT   \n",
       "4 2022-12-02      30               1.20  0003f6d6-1ced-46b6-b25b-c3ce3f289214   \n",
       "\n",
       "   cumsum  cumcount  last_counts validation_last_counts  \n",
       "0    3.00         0            0                  FALSE  \n",
       "1    6.00         1            0                  FALSE  \n",
       "2    7.20         2            0                  FALSE  \n",
       "3    1.80         0            0                   TRUE  \n",
       "4    1.20         0            0                  FALSE  "
      ]
     },
     "execution_count": 88,
     "metadata": {},
     "output_type": "execute_result"
    }
   ],
   "source": [
    "ident_1.head()"
   ]
  },
  {
   "cell_type": "code",
   "execution_count": 89,
   "metadata": {},
   "outputs": [],
   "source": [
    "ident_1.to_csv('1.csv')"
   ]
  },
  {
   "cell_type": "code",
   "execution_count": null,
   "metadata": {},
   "outputs": [],
   "source": []
  },
  {
   "cell_type": "code",
   "execution_count": null,
   "metadata": {},
   "outputs": [],
   "source": []
  },
  {
   "cell_type": "code",
   "execution_count": null,
   "metadata": {},
   "outputs": [],
   "source": []
  },
  {
   "cell_type": "code",
   "execution_count": 74,
   "metadata": {},
   "outputs": [],
   "source": [
    "topups_all_group_by.to_excel('validacion_topups_settlement.xlsx')"
   ]
  },
  {
   "cell_type": "markdown",
   "metadata": {},
   "source": [
    "# VALIDACION_TOPUPS"
   ]
  },
  {
   "cell_type": "code",
   "execution_count": 55,
   "metadata": {},
   "outputs": [
    {
     "data": {
      "text/html": [
       "<div>\n",
       "<style scoped>\n",
       "    .dataframe tbody tr th:only-of-type {\n",
       "        vertical-align: middle;\n",
       "    }\n",
       "\n",
       "    .dataframe tbody tr th {\n",
       "        vertical-align: top;\n",
       "    }\n",
       "\n",
       "    .dataframe thead th {\n",
       "        text-align: right;\n",
       "    }\n",
       "</style>\n",
       "<table border=\"1\" class=\"dataframe\">\n",
       "  <thead>\n",
       "    <tr style=\"text-align: right;\">\n",
       "      <th></th>\n",
       "      <th>merchant_id</th>\n",
       "      <th>applied_fees_benefits_topups</th>\n",
       "      <th>applied_taxes_benefits_topups</th>\n",
       "      <th>fee_direct_deposit</th>\n",
       "      <th>taxes_direct_deposit</th>\n",
       "      <th>topups_all</th>\n",
       "      <th>amount</th>\n",
       "      <th>commission_amount</th>\n",
       "      <th>diff</th>\n",
       "    </tr>\n",
       "  </thead>\n",
       "  <tbody>\n",
       "    <tr>\n",
       "      <th>0</th>\n",
       "      <td>00023bd5-6149-4ef9-95be-edb61d22588d</td>\n",
       "      <td>0.00</td>\n",
       "      <td>0.00</td>\n",
       "      <td>7.76</td>\n",
       "      <td>1.24</td>\n",
       "      <td>9.00</td>\n",
       "      <td>150.00</td>\n",
       "      <td>9.00</td>\n",
       "      <td>0.00</td>\n",
       "    </tr>\n",
       "    <tr>\n",
       "      <th>1</th>\n",
       "      <td>0003a589-425d-4027-86db-48c941b45f78</td>\n",
       "      <td>9.00</td>\n",
       "      <td>1.44</td>\n",
       "      <td>0.00</td>\n",
       "      <td>0.00</td>\n",
       "      <td>10.44</td>\n",
       "      <td>0.00</td>\n",
       "      <td>0.00</td>\n",
       "      <td>10.44</td>\n",
       "    </tr>\n",
       "    <tr>\n",
       "      <th>2</th>\n",
       "      <td>0003f6d6-1ced-46b6-b25b-c3ce3f289214</td>\n",
       "      <td>0.00</td>\n",
       "      <td>0.00</td>\n",
       "      <td>10.51</td>\n",
       "      <td>1.69</td>\n",
       "      <td>12.20</td>\n",
       "      <td>230.00</td>\n",
       "      <td>12.20</td>\n",
       "      <td>0.00</td>\n",
       "    </tr>\n",
       "    <tr>\n",
       "      <th>3</th>\n",
       "      <td>00042cab-f6df-4657-ac84-8bb4ac688601</td>\n",
       "      <td>0.00</td>\n",
       "      <td>0.00</td>\n",
       "      <td>20.87</td>\n",
       "      <td>3.33</td>\n",
       "      <td>24.20</td>\n",
       "      <td>450.00</td>\n",
       "      <td>24.20</td>\n",
       "      <td>0.00</td>\n",
       "    </tr>\n",
       "    <tr>\n",
       "      <th>4</th>\n",
       "      <td>000d6381-e54a-4bfc-9856-3ed55d33408b</td>\n",
       "      <td>0.00</td>\n",
       "      <td>0.00</td>\n",
       "      <td>1.72</td>\n",
       "      <td>0.28</td>\n",
       "      <td>2.00</td>\n",
       "      <td>50.00</td>\n",
       "      <td>2.00</td>\n",
       "      <td>0.00</td>\n",
       "    </tr>\n",
       "  </tbody>\n",
       "</table>\n",
       "</div>"
      ],
      "text/plain": [
       "                            merchant_id  applied_fees_benefits_topups  \\\n",
       "0  00023bd5-6149-4ef9-95be-edb61d22588d                          0.00   \n",
       "1  0003a589-425d-4027-86db-48c941b45f78                          9.00   \n",
       "2  0003f6d6-1ced-46b6-b25b-c3ce3f289214                          0.00   \n",
       "3  00042cab-f6df-4657-ac84-8bb4ac688601                          0.00   \n",
       "4  000d6381-e54a-4bfc-9856-3ed55d33408b                          0.00   \n",
       "\n",
       "   applied_taxes_benefits_topups  fee_direct_deposit  taxes_direct_deposit  \\\n",
       "0                           0.00                7.76                  1.24   \n",
       "1                           1.44                0.00                  0.00   \n",
       "2                           0.00               10.51                  1.69   \n",
       "3                           0.00               20.87                  3.33   \n",
       "4                           0.00                1.72                  0.28   \n",
       "\n",
       "   topups_all  amount  commission_amount  diff  \n",
       "0        9.00  150.00               9.00  0.00  \n",
       "1       10.44    0.00               0.00 10.44  \n",
       "2       12.20  230.00              12.20  0.00  \n",
       "3       24.20  450.00              24.20  0.00  \n",
       "4        2.00   50.00               2.00  0.00  "
      ]
     },
     "execution_count": 55,
     "metadata": {},
     "output_type": "execute_result"
    }
   ],
   "source": [
    "valid_1 = pivot_fact_topups.merge(topups_all_me_id[['merchant_id','amount','commission_amount']] ,on='merchant_id', how='left')\n",
    "valid_1.fillna(0,inplace=True)\n",
    "valid_1['diff'] = valid_1['topups_all'] - valid_1['commission_amount']\n",
    "valid_1.head()"
   ]
  },
  {
   "cell_type": "code",
   "execution_count": 56,
   "metadata": {},
   "outputs": [
    {
     "data": {
      "text/plain": [
       "(42723, 9)"
      ]
     },
     "execution_count": 56,
     "metadata": {},
     "output_type": "execute_result"
    }
   ],
   "source": [
    "valid_1.shape"
   ]
  },
  {
   "cell_type": "code",
   "execution_count": 57,
   "metadata": {},
   "outputs": [],
   "source": [
    "valid_1.to_excel('Topups_detalle.xlsx',index=False)"
   ]
  },
  {
   "cell_type": "code",
   "execution_count": 62,
   "metadata": {},
   "outputs": [
    {
     "data": {
      "text/plain": [
       "DatetimeIndex(['2022-01-01', '2022-01-02', '2022-01-03', '2022-01-04',\n",
       "               '2022-01-05', '2022-01-06', '2022-01-07', '2022-01-08',\n",
       "               '2022-01-09', '2022-01-10', '2022-01-11', '2022-01-12',\n",
       "               '2022-01-13', '2022-01-14', '2022-01-15', '2022-01-16',\n",
       "               '2022-01-17', '2022-01-18', '2022-01-19', '2022-01-20',\n",
       "               '2022-01-21', '2022-01-22', '2022-01-23', '2022-01-24',\n",
       "               '2022-01-25', '2022-01-26', '2022-01-27', '2022-01-28',\n",
       "               '2022-01-29', '2022-01-30', '2022-01-31'],\n",
       "              dtype='datetime64[ns]', freq='D')"
      ]
     },
     "execution_count": 62,
     "metadata": {},
     "output_type": "execute_result"
    }
   ],
   "source": []
  },
  {
   "cell_type": "code",
   "execution_count": null,
   "metadata": {},
   "outputs": [],
   "source": [
    "ts.last('3D')"
   ]
  },
  {
   "cell_type": "code",
   "execution_count": null,
   "metadata": {},
   "outputs": [],
   "source": []
  },
  {
   "cell_type": "code",
   "execution_count": null,
   "metadata": {},
   "outputs": [],
   "source": []
  },
  {
   "cell_type": "code",
   "execution_count": null,
   "metadata": {},
   "outputs": [],
   "source": []
  },
  {
   "cell_type": "code",
   "execution_count": null,
   "metadata": {},
   "outputs": [],
   "source": []
  },
  {
   "cell_type": "code",
   "execution_count": null,
   "metadata": {},
   "outputs": [],
   "source": []
  },
  {
   "cell_type": "code",
   "execution_count": null,
   "metadata": {},
   "outputs": [],
   "source": []
  },
  {
   "cell_type": "code",
   "execution_count": null,
   "metadata": {},
   "outputs": [],
   "source": []
  },
  {
   "cell_type": "code",
   "execution_count": null,
   "metadata": {},
   "outputs": [],
   "source": []
  },
  {
   "cell_type": "code",
   "execution_count": null,
   "metadata": {},
   "outputs": [],
   "source": []
  },
  {
   "cell_type": "code",
   "execution_count": null,
   "metadata": {},
   "outputs": [],
   "source": []
  },
  {
   "cell_type": "code",
   "execution_count": null,
   "metadata": {},
   "outputs": [],
   "source": []
  },
  {
   "cell_type": "code",
   "execution_count": null,
   "metadata": {},
   "outputs": [],
   "source": []
  },
  {
   "cell_type": "code",
   "execution_count": null,
   "metadata": {},
   "outputs": [],
   "source": []
  },
  {
   "cell_type": "code",
   "execution_count": null,
   "metadata": {},
   "outputs": [],
   "source": []
  },
  {
   "cell_type": "code",
   "execution_count": null,
   "metadata": {},
   "outputs": [],
   "source": []
  },
  {
   "cell_type": "code",
   "execution_count": null,
   "metadata": {},
   "outputs": [],
   "source": [
    "lender = lender_all[(lender_all['collection_date_local'] >= start_date_mes)]"
   ]
  },
  {
   "cell_type": "code",
   "execution_count": null,
   "metadata": {},
   "outputs": [],
   "source": [
    "lender['provider_code'].unique()"
   ]
  },
  {
   "cell_type": "code",
   "execution_count": null,
   "metadata": {},
   "outputs": [],
   "source": [
    "sorted(lender['Date'].unique())"
   ]
  },
  {
   "cell_type": "markdown",
   "metadata": {},
   "source": [
    "## AMOUNT BY DATE"
   ]
  },
  {
   "cell_type": "code",
   "execution_count": null,
   "metadata": {},
   "outputs": [],
   "source": [
    "lender_amount_date = pd.pivot_table(lender,index=[\"Date\", \"provider_code\"],values=['amount','capital',\n",
    "                                                   'interest','tax'],aggfunc=np.sum,margins=False)\n",
    "lender_amount_date = lender_amount_date.reset_index(1)\n",
    "lender_amount_date.head()"
   ]
  },
  {
   "cell_type": "code",
   "execution_count": null,
   "metadata": {},
   "outputs": [],
   "source": [
    "lender_amount_date.loc['ALL'] = lender_amount_date.sum(numeric_only=True)\n",
    "# lender_amount_date.to_csv('LENDER AMOUNT DATE ABRIL 2021.csv')"
   ]
  },
  {
   "cell_type": "code",
   "execution_count": null,
   "metadata": {},
   "outputs": [],
   "source": [
    "lender_amount_date.shape"
   ]
  },
  {
   "cell_type": "markdown",
   "metadata": {},
   "source": [
    "##### MRP"
   ]
  },
  {
   "cell_type": "code",
   "execution_count": null,
   "metadata": {},
   "outputs": [],
   "source": [
    "lender_amount_date_mrp = lender_amount_date[(lender_amount_date['provider_code'] == 'MRP')]\n",
    "lender_amount_date_mrp.head()"
   ]
  },
  {
   "cell_type": "code",
   "execution_count": null,
   "metadata": {},
   "outputs": [],
   "source": [
    "lender_amount_date_mrp.loc['ALL'] = lender_amount_date_mrp.sum(numeric_only=True)\n",
    "lender_amount_date_mrp.reset_index(inplace=True)"
   ]
  },
  {
   "cell_type": "code",
   "execution_count": null,
   "metadata": {},
   "outputs": [],
   "source": [
    "lender_amount_date_mrp.shape"
   ]
  },
  {
   "cell_type": "markdown",
   "metadata": {},
   "source": [
    "##### CLIP"
   ]
  },
  {
   "cell_type": "code",
   "execution_count": null,
   "metadata": {},
   "outputs": [],
   "source": [
    "lender_amount_date_clip = lender_amount_date[(lender_amount_date['provider_code'] == 'CLIP')]\n",
    "lender_amount_date_clip.head()"
   ]
  },
  {
   "cell_type": "code",
   "execution_count": null,
   "metadata": {},
   "outputs": [],
   "source": [
    "lender_amount_date_clip.loc['ALL'] = lender_amount_date_clip.sum(numeric_only=True)\n",
    "lender_amount_date_clip.reset_index(inplace=True)"
   ]
  },
  {
   "cell_type": "code",
   "execution_count": null,
   "metadata": {},
   "outputs": [],
   "source": [
    "lender_amount_date_clip.shape"
   ]
  },
  {
   "cell_type": "markdown",
   "metadata": {},
   "source": [
    "##### MOT"
   ]
  },
  {
   "cell_type": "code",
   "execution_count": null,
   "metadata": {},
   "outputs": [],
   "source": [
    "lender_amount_date_mot = lender_amount_date[(lender_amount_date['provider_code'] == 'MOT')]\n",
    "lender_amount_date_mot.head()"
   ]
  },
  {
   "cell_type": "code",
   "execution_count": null,
   "metadata": {},
   "outputs": [],
   "source": [
    "lender_amount_date_mot.loc['ALL'] = lender_amount_date_mot.sum(numeric_only=True)\n",
    "lender_amount_date_mot.reset_index(inplace=True)"
   ]
  },
  {
   "cell_type": "code",
   "execution_count": null,
   "metadata": {},
   "outputs": [],
   "source": [
    "lender_amount_date_mot.shape"
   ]
  },
  {
   "cell_type": "markdown",
   "metadata": {},
   "source": [
    "##### APH"
   ]
  },
  {
   "cell_type": "code",
   "execution_count": null,
   "metadata": {},
   "outputs": [],
   "source": [
    "lender_amount_date_aph = lender_amount_date[(lender_amount_date['provider_code'] == 'APH')]\n",
    "lender_amount_date_aph.head()"
   ]
  },
  {
   "cell_type": "code",
   "execution_count": null,
   "metadata": {},
   "outputs": [],
   "source": [
    "lender_amount_date_aph.loc['ALL'] = lender_amount_date_aph.sum(numeric_only=True)\n",
    "lender_amount_date_aph.reset_index(inplace=True)"
   ]
  },
  {
   "cell_type": "code",
   "execution_count": null,
   "metadata": {},
   "outputs": [],
   "source": [
    "lender_amount_date_aph.shape"
   ]
  },
  {
   "cell_type": "markdown",
   "metadata": {},
   "source": [
    "##### HCS"
   ]
  },
  {
   "cell_type": "code",
   "execution_count": null,
   "metadata": {},
   "outputs": [],
   "source": [
    "lender_amount_date_hcs = lender_amount_date[(lender_amount_date['provider_code'] == 'HCS')]\n",
    "lender_amount_date_hcs.head()"
   ]
  },
  {
   "cell_type": "code",
   "execution_count": null,
   "metadata": {},
   "outputs": [],
   "source": [
    "lender_amount_date_hcs.loc['ALL'] = lender_amount_date_hcs.sum(numeric_only=True)\n",
    "lender_amount_date_hcs.reset_index(inplace=True)"
   ]
  },
  {
   "cell_type": "code",
   "execution_count": null,
   "metadata": {},
   "outputs": [],
   "source": [
    "lender_amount_date_hcs.shape"
   ]
  },
  {
   "cell_type": "markdown",
   "metadata": {},
   "source": [
    "##### R2"
   ]
  },
  {
   "cell_type": "code",
   "execution_count": null,
   "metadata": {},
   "outputs": [],
   "source": [
    "lender_amount_date_r2 = lender_amount_date[(lender_amount_date['provider_code'] == 'R2')]\n",
    "lender_amount_date_r2.head()"
   ]
  },
  {
   "cell_type": "code",
   "execution_count": null,
   "metadata": {},
   "outputs": [],
   "source": [
    "lender_amount_date_r2.loc['ALL'] = lender_amount_date_r2.sum(numeric_only=True)\n",
    "lender_amount_date_r2.reset_index(inplace=True)"
   ]
  },
  {
   "cell_type": "code",
   "execution_count": null,
   "metadata": {},
   "outputs": [],
   "source": [
    "lender_amount_date_r2.shape"
   ]
  },
  {
   "cell_type": "markdown",
   "metadata": {},
   "source": [
    "##### CTO"
   ]
  },
  {
   "cell_type": "code",
   "execution_count": null,
   "metadata": {},
   "outputs": [],
   "source": [
    "lender_amount_date_cto = lender_amount_date[(lender_amount_date['provider_code'] == 'CTO')]\n",
    "lender_amount_date_cto.head()"
   ]
  },
  {
   "cell_type": "code",
   "execution_count": null,
   "metadata": {},
   "outputs": [],
   "source": [
    "lender_amount_date_cto.loc['ALL'] = lender_amount_date_cto.sum(numeric_only=True)\n",
    "lender_amount_date_cto.reset_index(inplace=True)"
   ]
  },
  {
   "cell_type": "code",
   "execution_count": null,
   "metadata": {},
   "outputs": [],
   "source": [
    "lender_amount_date_cto.shape"
   ]
  },
  {
   "cell_type": "markdown",
   "metadata": {},
   "source": [
    "## AMOUNT BY EMAIL"
   ]
  },
  {
   "cell_type": "code",
   "execution_count": null,
   "metadata": {},
   "outputs": [],
   "source": [
    "lender_amount_email = pd.pivot_table(lender,index=[\"merchant_id\",'provider_code'],values=['amount','capital',\n",
    "                                                   'interest','tax'],aggfunc=np.sum,margins=True)\n",
    "lender_amount_email = lender_amount_email.reset_index(drop=False)\n",
    "# lender_amount_email.to_csv('LENDER AMOUNT EMAIL ABRIL 2021.csv', index=None)\n",
    "lender_amount_email.head()"
   ]
  },
  {
   "cell_type": "code",
   "execution_count": null,
   "metadata": {},
   "outputs": [],
   "source": [
    "lender_amount_email.shape"
   ]
  },
  {
   "cell_type": "code",
   "execution_count": null,
   "metadata": {},
   "outputs": [],
   "source": [
    "duplicates = lender_amount_email[lender_amount_email.duplicated(['merchant_id'] , keep=False)]\n",
    "duplicates"
   ]
  },
  {
   "cell_type": "code",
   "execution_count": null,
   "metadata": {},
   "outputs": [],
   "source": [
    "lender_amount_email.drop_duplicates(subset=\"merchant_id\",keep=\"first\",inplace=True)"
   ]
  },
  {
   "cell_type": "code",
   "execution_count": null,
   "metadata": {},
   "outputs": [],
   "source": [
    "lender_amount_email.shape"
   ]
  },
  {
   "cell_type": "markdown",
   "metadata": {},
   "source": [
    "# DYNAMO INFO"
   ]
  },
  {
   "cell_type": "code",
   "execution_count": null,
   "metadata": {},
   "outputs": [],
   "source": [
    "dynamo_files = glob.glob(r'C:\\Users\\Cristian.Aparicio\\Documents\\FACTURACION\\2022\\12. DICIEMBRE\\dynamo*.csv', recursive=False)\n",
    "dynamo_files"
   ]
  },
  {
   "cell_type": "code",
   "execution_count": null,
   "metadata": {},
   "outputs": [],
   "source": [
    "dynamo = pd.concat([pd.read_csv(f).assign(file_name=os.path.basename(f)) for f in dynamo_files])\n",
    "dynamo.columns = dynamo.columns.str.strip().str.lower()\n",
    "dynamo.head()"
   ]
  },
  {
   "cell_type": "code",
   "execution_count": null,
   "metadata": {},
   "outputs": [],
   "source": [
    "dynamo.shape"
   ]
  },
  {
   "cell_type": "markdown",
   "metadata": {},
   "source": [
    "# FILE FACURACION BY EMAIL"
   ]
  },
  {
   "cell_type": "code",
   "execution_count": null,
   "metadata": {},
   "outputs": [],
   "source": [
    "facturacion = fact.merge(lender_amount_email[['merchant_id','provider_code']] ,on='merchant_id', how='left')\n",
    "facturacion['provider_code'].fillna('SIN LENDER',inplace=True)\n",
    "facturacion.head()"
   ]
  },
  {
   "cell_type": "code",
   "execution_count": null,
   "metadata": {},
   "outputs": [],
   "source": [
    "fact_total = facturacion[['merchant_id','user_email','report_id','report_date_local','total_transactions','total_fees_charged'\n",
    "                          ,'total_taxes','applied_fees_benefits','applied_taxes_benefits','applied_fees_benefits_topups',\n",
    "                          'applied_taxes_benefits_topups','applied_fees_benefits_coupons','applied_taxes_benefits_coupons',\n",
    "                          'fee_direct_deposit','taxes_direct_deposit','total_adjustments','total_adjustment_fees_charged'\n",
    "                          ,'total_adjustment_taxes','cobranza','total_released','total_retained','tipopago'\n",
    "                          ,'total_due','Date','type','provider_code']]\n",
    "fact_total.head()"
   ]
  },
  {
   "cell_type": "code",
   "execution_count": null,
   "metadata": {},
   "outputs": [],
   "source": [
    "fact_total.shape"
   ]
  },
  {
   "cell_type": "code",
   "execution_count": null,
   "metadata": {},
   "outputs": [],
   "source": [
    "# fact_total.loc['All'] = fact_total.sum(numeric_only=True)\n",
    "# fact_total['merchant_id'].fillna('ALL',inplace=True)"
   ]
  },
  {
   "cell_type": "code",
   "execution_count": null,
   "metadata": {},
   "outputs": [],
   "source": [
    "# fact_total.shape"
   ]
  },
  {
   "cell_type": "code",
   "execution_count": null,
   "metadata": {},
   "outputs": [],
   "source": [
    "# fact_total.tail()"
   ]
  },
  {
   "cell_type": "code",
   "execution_count": null,
   "metadata": {},
   "outputs": [],
   "source": [
    "# facturacion_by_date.drop(facturacion_by_date.tail(1).index,inplace=True)"
   ]
  },
  {
   "cell_type": "code",
   "execution_count": null,
   "metadata": {},
   "outputs": [],
   "source": [
    "pt_1 = pd.pivot_table(fact_total,index=['merchant_id',\"user_email\"],values=[\"total_due\",'total_transactions',\n",
    "                                                                          \"total_fees_charged\",'total_taxes',\n",
    "                                                                          \"applied_fees_benefits\",'applied_taxes_benefits',\n",
    "                                                                          'applied_fees_benefits_topups',\n",
    "                                                                          'applied_taxes_benefits_topups',\n",
    "                                                                          'applied_fees_benefits_coupons',\n",
    "                                                                          'applied_taxes_benefits_coupons',\n",
    "                                                                          'fee_direct_deposit','taxes_direct_deposit']\n",
    "                    ,aggfunc=np.sum,margins=False)\n",
    "pt_1 = pt_1.reset_index(drop=False)\n",
    "# pt.to_csv('PIVOT BY EMAIL ABRIL.csv')\n",
    "pt_1.head()"
   ]
  },
  {
   "cell_type": "code",
   "execution_count": null,
   "metadata": {},
   "outputs": [],
   "source": [
    "pt_1.shape"
   ]
  },
  {
   "cell_type": "markdown",
   "metadata": {},
   "source": [
    "# UNION CON DYNAMO"
   ]
  },
  {
   "cell_type": "code",
   "execution_count": null,
   "metadata": {},
   "outputs": [],
   "source": [
    "union_dynamo = pd.concat([pt_1, dynamo])\n",
    "union_dynamo.fillna(0,inplace=True)\n",
    "union_dynamo.head()"
   ]
  },
  {
   "cell_type": "code",
   "execution_count": null,
   "metadata": {},
   "outputs": [],
   "source": [
    "union_dynamo.shape"
   ]
  },
  {
   "cell_type": "markdown",
   "metadata": {},
   "source": [
    "# PIVOT FINAL CON INCLUSION DYNAMO"
   ]
  },
  {
   "cell_type": "code",
   "execution_count": null,
   "metadata": {},
   "outputs": [],
   "source": [
    "pt = pd.pivot_table(union_dynamo,index=['merchant_id',\"user_email\"],values=[\"total_due\",'total_transactions',\n",
    "                                                                          \"total_fees_charged\",'total_taxes',\n",
    "                                                                          \"applied_fees_benefits\",'applied_taxes_benefits',\n",
    "                                                                          'applied_fees_benefits_topups',\n",
    "                                                                          'applied_taxes_benefits_topups',\n",
    "                                                                          'applied_fees_benefits_coupons',\n",
    "                                                                          'applied_taxes_benefits_coupons',\n",
    "                                                                          'fee_direct_deposit','taxes_direct_deposit']\n",
    "                    ,aggfunc=np.sum,margins=True)\n",
    "pt = pt.reset_index(drop=False)\n",
    "# pt.to_csv('PIVOT BY EMAIL ABRIL.csv')\n",
    "pt.head()"
   ]
  },
  {
   "cell_type": "code",
   "execution_count": null,
   "metadata": {},
   "outputs": [],
   "source": [
    "pt.shape"
   ]
  },
  {
   "cell_type": "code",
   "execution_count": null,
   "metadata": {},
   "outputs": [],
   "source": [
    "facturacion_total = pt.merge(lender_amount_email[['merchant_id','provider_code','amount','capital',\n",
    "                                                   'interest','tax']] ,on='merchant_id', how='left')\n",
    "facturacion_total[\"amount\"].fillna(0,inplace=True)\n",
    "facturacion_total[\"capital\"].fillna(0,inplace=True)\n",
    "facturacion_total[\"interest\"].fillna(0,inplace=True)\n",
    "facturacion_total[\"tax\"].fillna(0,inplace=True)\n",
    "facturacion_total[\"provider_code\"].fillna(\"SIN LENDER\",inplace=True)\n",
    "facturacion_total.head()"
   ]
  },
  {
   "cell_type": "code",
   "execution_count": null,
   "metadata": {},
   "outputs": [],
   "source": [
    "facturacion_total.shape"
   ]
  },
  {
   "cell_type": "code",
   "execution_count": null,
   "metadata": {},
   "outputs": [],
   "source": [
    "duplicates = facturacion_total[facturacion_total.duplicated(['user_email'] , keep=False)]\n",
    "duplicates.head()"
   ]
  },
  {
   "cell_type": "code",
   "execution_count": null,
   "metadata": {},
   "outputs": [],
   "source": [
    "duplicates.shape"
   ]
  },
  {
   "cell_type": "code",
   "execution_count": null,
   "metadata": {},
   "outputs": [],
   "source": [
    "def lender_amount(facturacion_total):\n",
    "    if facturacion_total['provider_code'] == 'MRP':\n",
    "        return facturacion_total['interest']*0\n",
    "    elif facturacion_total['provider_code'] == 'MOT':\n",
    "        return facturacion_total['interest']*0\n",
    "    elif facturacion_total['provider_code'] == 'APH':\n",
    "        return facturacion_total['interest']*0\n",
    "    elif facturacion_total['provider_code'] == 'HCS':\n",
    "        return facturacion_total['interest']*0\n",
    "    elif facturacion_total['provider_code'] == 'R2':\n",
    "        return facturacion_total['interest']*0\n",
    "    elif facturacion_total['provider_code'] == 'CTO':\n",
    "        return facturacion_total['interest']*0\n",
    "    else:\n",
    "        return facturacion_total['interest']\n",
    "    \n",
    "facturacion_total['interest'] = facturacion_total.apply(lender_amount, axis=1)"
   ]
  },
  {
   "cell_type": "code",
   "execution_count": null,
   "metadata": {},
   "outputs": [],
   "source": [
    "facturacion_total['Net fee'] = (facturacion_total['total_fees_charged'] -\n",
    "                                facturacion_total['applied_fees_benefits_topups'] -\n",
    "                                facturacion_total['applied_fees_benefits_coupons'] -\n",
    "                                facturacion_total['fee_direct_deposit'] +\n",
    "                                facturacion_total['interest'])\n",
    "facturacion_total['Global taxes'] = facturacion_total['Net fee'] * 0.16\n",
    "facturacion_total.head()"
   ]
  },
  {
   "cell_type": "code",
   "execution_count": null,
   "metadata": {},
   "outputs": [],
   "source": [
    "facturacion_final =  facturacion_total[['merchant_id',\"user_email\",'total_transactions',\"total_fees_charged\",\n",
    "                                        'applied_fees_benefits_topups',\"fee_direct_deposit\",\n",
    "                                        'applied_fees_benefits_coupons',\"interest\",\"Net fee\",\"Global taxes\",\"total_due\"]]\n",
    "facturacion_final.rename(columns ={'total_due': 'Total due (payment)','total_fees_charged': 'Txns fee'\n",
    "                                   ,'applied_fees_benefits_topups': 'TopUps fee','applied_fees_benefits_coupons':'Coupons'\n",
    "                                   ,'fee_direct_deposit': 'TopUps fee_2'\n",
    "                                   ,'interest': 'Loans fee'},inplace=True)\n"
   ]
  },
  {
   "cell_type": "code",
   "execution_count": null,
   "metadata": {},
   "outputs": [],
   "source": [
    "facturacion_final.head()"
   ]
  },
  {
   "cell_type": "code",
   "execution_count": null,
   "metadata": {},
   "outputs": [],
   "source": [
    "facturacion_final = facturacion_final[['merchant_id','user_email','Total due (payment)','total_transactions','Txns fee'\n",
    "                                       ,'TopUps fee','TopUps fee_2','Coupons','Loans fee','Net fee','Global taxes']]\n",
    "# facturacion_final.to_csv('PIVOT DATA FINAL ABRIL.csv')\n",
    "facturacion_final.tail()"
   ]
  },
  {
   "cell_type": "code",
   "execution_count": null,
   "metadata": {},
   "outputs": [],
   "source": [
    "facturacion_final.shape"
   ]
  },
  {
   "cell_type": "code",
   "execution_count": null,
   "metadata": {},
   "outputs": [],
   "source": [
    "facturacion_final.drop(facturacion_final.tail(1).index,inplace=True) # drop last n rows"
   ]
  },
  {
   "cell_type": "code",
   "execution_count": null,
   "metadata": {},
   "outputs": [],
   "source": [
    "facturacion_final.loc['All'] = facturacion_final.sum(numeric_only=True)\n",
    "facturacion_final['user_email'].fillna('ALL',inplace=True)"
   ]
  },
  {
   "cell_type": "code",
   "execution_count": null,
   "metadata": {},
   "outputs": [],
   "source": [
    "facturacion_final.shape"
   ]
  },
  {
   "cell_type": "code",
   "execution_count": null,
   "metadata": {},
   "outputs": [],
   "source": [
    "facturacion_final_dup = facturacion_final[facturacion_final.duplicated(['merchant_id'] , keep=False)]\n",
    "facturacion_final_dup.head()"
   ]
  },
  {
   "cell_type": "code",
   "execution_count": null,
   "metadata": {},
   "outputs": [],
   "source": [
    "facturacion_final_dup.shape"
   ]
  },
  {
   "cell_type": "code",
   "execution_count": null,
   "metadata": {},
   "outputs": [],
   "source": [
    "facturacion_final_dup_email = facturacion_final[facturacion_final.duplicated(['user_email'] , keep=False)]\n",
    "facturacion_final_dup_email.head()"
   ]
  },
  {
   "cell_type": "code",
   "execution_count": null,
   "metadata": {},
   "outputs": [],
   "source": [
    "facturacion_final.shape"
   ]
  },
  {
   "cell_type": "code",
   "execution_count": null,
   "metadata": {},
   "outputs": [],
   "source": [
    "#facturacion_final.to_csv('fact_septiembre_2022.csv',index=False)"
   ]
  },
  {
   "cell_type": "markdown",
   "metadata": {},
   "source": [
    "# FILE FACTURACION BY DATE"
   ]
  },
  {
   "cell_type": "code",
   "execution_count": null,
   "metadata": {},
   "outputs": [],
   "source": [
    "facturacion_by_date = pd.pivot_table(fact_total,index=[\"Date\"],values=[\"total_due\",'total_transactions',\"total_fees_charged\",\n",
    "                                                                       'applied_fees_benefits_topups',\"fee_direct_deposit\",\n",
    "                                                                       'applied_fees_benefits_coupons'],\n",
    "                                     aggfunc=np.sum,margins=True)"
   ]
  },
  {
   "cell_type": "code",
   "execution_count": null,
   "metadata": {},
   "outputs": [],
   "source": [
    "facturacion_by_date.rename(columns ={'total_due': 'Total due (payment)','total_fees_charged': 'Txns fee',\n",
    "                                     'applied_fees_benefits_topups': 'TopUps fee',\n",
    "                                     'applied_fees_benefits_coupons':'Coupons',\n",
    "                                     'fee_direct_deposit': 'TopUps fee_2'},inplace=True)"
   ]
  },
  {
   "cell_type": "code",
   "execution_count": null,
   "metadata": {},
   "outputs": [],
   "source": [
    "facturacion_by_date = facturacion_by_date[['Total due (payment)','total_transactions','Txns fee','TopUps fee','TopUps fee_2',\n",
    "                                          'Coupons']]\n",
    "facturacion_by_date = facturacion_by_date.reset_index(drop=False)\n",
    "# facturacion_by_date.to_csv('PIVOT BY DATE ABRIL 2021.csv')\n",
    "facturacion_by_date.tail()"
   ]
  },
  {
   "cell_type": "code",
   "execution_count": null,
   "metadata": {},
   "outputs": [],
   "source": [
    "facturacion_by_date.shape"
   ]
  },
  {
   "cell_type": "code",
   "execution_count": null,
   "metadata": {},
   "outputs": [],
   "source": [
    "facturacion_by_date.drop(facturacion_by_date.tail(1).index,inplace=True) # drop last n rows"
   ]
  },
  {
   "cell_type": "code",
   "execution_count": null,
   "metadata": {},
   "outputs": [],
   "source": [
    "facturacion_by_date.loc['All'] = facturacion_by_date.sum(numeric_only=True)\n",
    "facturacion_by_date['Date'].fillna('ALL',inplace=True)"
   ]
  },
  {
   "cell_type": "code",
   "execution_count": null,
   "metadata": {},
   "outputs": [],
   "source": [
    "facturacion_by_date.shape"
   ]
  },
  {
   "cell_type": "code",
   "execution_count": null,
   "metadata": {},
   "outputs": [],
   "source": [
    "facturacion_by_date_total = facturacion_by_date.merge(lender_amount_date_clip[['Date','amount','capital',\n",
    "                                                                               'interest','tax',\"provider_code\"]] ,\n",
    "                                                      on='Date', how='left')\n",
    "facturacion_by_date_total['amount'].fillna(0,inplace=True)\n",
    "facturacion_by_date_total['capital'].fillna(0,inplace=True)\n",
    "facturacion_by_date_total['interest'].fillna(0,inplace=True)\n",
    "facturacion_by_date_total['tax'].fillna(0,inplace=True)\n",
    "facturacion_by_date_total.head()"
   ]
  },
  {
   "cell_type": "code",
   "execution_count": null,
   "metadata": {},
   "outputs": [],
   "source": [
    "facturacion_by_date_total['Net fee'] = facturacion_by_date_total['Txns fee'] - facturacion_by_date_total['TopUps fee'] - facturacion_by_date_total['TopUps fee_2'] + facturacion_by_date_total['interest']\n",
    "facturacion_by_date_total['Global taxes'] = facturacion_by_date_total['Net fee'] * 0.16\n",
    "facturacion_by_date_total.head()\n"
   ]
  },
  {
   "cell_type": "code",
   "execution_count": null,
   "metadata": {},
   "outputs": [],
   "source": [
    "facturacion_by_date_total.shape"
   ]
  },
  {
   "cell_type": "code",
   "execution_count": null,
   "metadata": {},
   "outputs": [],
   "source": [
    "facturacion_by_date_final = facturacion_by_date_total[['Date','Total due (payment)','total_transactions','Txns fee'\n",
    "                                                       ,'TopUps fee','TopUps fee_2','Coupons','interest','Net fee',\n",
    "                                                       'Global taxes']]"
   ]
  },
  {
   "cell_type": "code",
   "execution_count": null,
   "metadata": {},
   "outputs": [],
   "source": [
    "facturacion_by_date_final.rename(columns ={'Interests today': 'Loans fee'},inplace=True)"
   ]
  },
  {
   "cell_type": "code",
   "execution_count": null,
   "metadata": {},
   "outputs": [],
   "source": [
    "facturacion_by_date_final.head()"
   ]
  },
  {
   "cell_type": "code",
   "execution_count": null,
   "metadata": {},
   "outputs": [],
   "source": [
    "facturacion_by_date_final.drop(facturacion_by_date_final.tail(1).index,inplace=True) # drop last n rows"
   ]
  },
  {
   "cell_type": "code",
   "execution_count": null,
   "metadata": {},
   "outputs": [],
   "source": [
    "facturacion_by_date_final.loc['All'] = facturacion_by_date_final.sum(numeric_only=True)\n",
    "facturacion_by_date_final['Date'].fillna('ALL',inplace=True)"
   ]
  },
  {
   "cell_type": "code",
   "execution_count": null,
   "metadata": {},
   "outputs": [],
   "source": [
    "facturacion_by_date_final.shape"
   ]
  },
  {
   "cell_type": "markdown",
   "metadata": {},
   "source": [
    "# SPLIT DATAFRAME DE FACT_TOTAL EN 3 SHEETS DE EXCEL"
   ]
  },
  {
   "cell_type": "code",
   "execution_count": null,
   "metadata": {},
   "outputs": [],
   "source": [
    "start_date_1 = '2022-11-30'\n",
    "final_date_1 = '2022-12-09'"
   ]
  },
  {
   "cell_type": "code",
   "execution_count": null,
   "metadata": {},
   "outputs": [],
   "source": [
    "fact_total_1 = fact_total[(fact_total['Date'] >= start_date_1) & (fact_total['Date'] <= final_date_1)]\n",
    "fact_total_1.head()"
   ]
  },
  {
   "cell_type": "code",
   "execution_count": null,
   "metadata": {},
   "outputs": [],
   "source": [
    "fact_total_1.shape"
   ]
  },
  {
   "cell_type": "code",
   "execution_count": null,
   "metadata": {},
   "outputs": [],
   "source": [
    "start_date_2 = '2022-12-10'\n",
    "final_date_2 = '2022-12-19'"
   ]
  },
  {
   "cell_type": "code",
   "execution_count": null,
   "metadata": {},
   "outputs": [],
   "source": [
    "fact_total_2 = fact_total[(fact_total['Date'] >= start_date_2) & (fact_total['Date'] <= final_date_2)]\n",
    "fact_total_2.head()"
   ]
  },
  {
   "cell_type": "code",
   "execution_count": null,
   "metadata": {},
   "outputs": [],
   "source": [
    "fact_total_2.shape"
   ]
  },
  {
   "cell_type": "code",
   "execution_count": null,
   "metadata": {},
   "outputs": [],
   "source": [
    "start_date_3 = '2022-12-20'\n",
    "final_date_3 = '2022-12-29'"
   ]
  },
  {
   "cell_type": "code",
   "execution_count": null,
   "metadata": {},
   "outputs": [],
   "source": [
    "fact_total_3 = fact_total[(fact_total['Date'] >= start_date_3) & (fact_total['Date'] <= final_date_3)]\n",
    "fact_total_3.head()"
   ]
  },
  {
   "cell_type": "code",
   "execution_count": null,
   "metadata": {},
   "outputs": [],
   "source": [
    "fact_total_3.shape"
   ]
  },
  {
   "cell_type": "code",
   "execution_count": null,
   "metadata": {},
   "outputs": [],
   "source": [
    "start_date_4 = '2022-12-30'\n",
    "final_date_4 = '2022-12-31'"
   ]
  },
  {
   "cell_type": "code",
   "execution_count": null,
   "metadata": {},
   "outputs": [],
   "source": [
    "fact_total_4 = fact_total[(fact_total['Date'] >= start_date_4) & (fact_total['Date'] <= final_date_4)]\n",
    "fact_total_4.head()"
   ]
  },
  {
   "cell_type": "code",
   "execution_count": null,
   "metadata": {},
   "outputs": [],
   "source": [
    "fact_total_4.shape"
   ]
  },
  {
   "cell_type": "markdown",
   "metadata": {},
   "source": [
    "# ULTIMO DIA FACTURACION"
   ]
  },
  {
   "cell_type": "code",
   "execution_count": null,
   "metadata": {},
   "outputs": [],
   "source": [
    "start_date_last_day = '2022-12-31'"
   ]
  },
  {
   "cell_type": "code",
   "execution_count": null,
   "metadata": {},
   "outputs": [],
   "source": [
    "fact_total_last_day = fact_total[(fact_total['Date'] == start_date_last_day)]\n",
    "fact_total_last_day.head()"
   ]
  },
  {
   "cell_type": "code",
   "execution_count": null,
   "metadata": {},
   "outputs": [],
   "source": [
    "fact_total_last_day.shape"
   ]
  },
  {
   "cell_type": "markdown",
   "metadata": {},
   "source": [
    "# EXCEL FINAL"
   ]
  },
  {
   "cell_type": "code",
   "execution_count": null,
   "metadata": {},
   "outputs": [],
   "source": [
    "writer = pd.ExcelWriter('IngresoDiarioSettlement-DICIEMBRE 2022-CUPON.xlsx',\n",
    "                        engine='xlsxwriter',\n",
    "                        engine_kwargs={'options': {'encoding':'utf-8'}})\n",
    "fact_total_1.to_excel(writer, sheet_name='DICIEMBRE 30-09',index=False)\n",
    "fact_total_2.to_excel(writer, sheet_name='DICIEMBRE 10-19',index=False)\n",
    "fact_total_3.to_excel(writer, sheet_name='DICIEMBRE 20-29',index=False)\n",
    "fact_total_4.to_excel(writer, sheet_name='DICIEMBRE 30-31',index=False)\n",
    "dynamo.to_excel(writer, sheet_name='Info dynamo',index=False)\n",
    "facturacion_by_date.to_excel(writer, sheet_name='Resumen by date',index=False)\n",
    "lender_amount_date_mrp.to_excel(writer, sheet_name='MRP by date',index=False)\n",
    "lender_amount_date_mot.to_excel(writer, sheet_name='MOT by date',index=False)\n",
    "lender_amount_date_aph.to_excel(writer, sheet_name='APH by date',index=False)\n",
    "lender_amount_date_clip.to_excel(writer, sheet_name='CLIP by date',index=False)\n",
    "lender_amount_date_hcs.to_excel(writer, sheet_name='HCS by date',index=False)\n",
    "lender_amount_date_r2.to_excel(writer, sheet_name='R2 by date',index=False)\n",
    "lender_amount_date_cto.to_excel(writer, sheet_name='CTO by date',index=False)\n",
    "facturacion_final.to_excel(writer, sheet_name='Resumen',index=False)\n",
    "facturacion_by_date_final.to_excel(writer,sheet_name='DICIEMBRE by date',index=False)\n",
    "writer.close()"
   ]
  },
  {
   "cell_type": "markdown",
   "metadata": {},
   "source": [
    "# CSV ULTIMO DIA FACTURACION Y TPV FACTURADO"
   ]
  },
  {
   "cell_type": "code",
   "execution_count": null,
   "metadata": {},
   "outputs": [],
   "source": [
    "fact_total_last_day.to_csv('LAST DAY FACT DICIEMBRE 31 2022.csv',index=False)\n",
    "facturacion_by_date_final.to_csv('TPV FACTURADO DICIEMBRE 31 2022.csv',index=False)"
   ]
  },
  {
   "cell_type": "markdown",
   "metadata": {},
   "source": [
    "# PIVOT LENDER BY DATE"
   ]
  },
  {
   "cell_type": "code",
   "execution_count": null,
   "metadata": {},
   "outputs": [],
   "source": [
    "# #facturacion_total_2 = pt.merge(lender_total_date[['date','Capital today', 'Interests today',\n",
    "#                                                    'IVA Interests today',\"tipo_loan\"]] ,on='date', how='left')\n",
    "#facturacion_total_2[\"Capital today\"].fillna(0,inplace=True)\n",
    "#facturacion_total_2[\"Interests today\"].fillna(0,inplace=True)\n",
    "#facturacion_total_2[\"IVA Interests today\"].fillna(0,inplace=True)\n",
    "#facturacion_total_2[\"tipo_loan\"].fillna(\"N/A\",inplace=True)\n",
    "#facturacion_total_2.head()"
   ]
  },
  {
   "cell_type": "code",
   "execution_count": null,
   "metadata": {},
   "outputs": [],
   "source": [
    "#facturacion_total_2.shape"
   ]
  },
  {
   "cell_type": "code",
   "execution_count": null,
   "metadata": {},
   "outputs": [],
   "source": []
  }
 ],
 "metadata": {
  "kernelspec": {
   "display_name": "Python 3 (ipykernel)",
   "language": "python",
   "name": "python3"
  },
  "language_info": {
   "codemirror_mode": {
    "name": "ipython",
    "version": 3
   },
   "file_extension": ".py",
   "mimetype": "text/x-python",
   "name": "python",
   "nbconvert_exporter": "python",
   "pygments_lexer": "ipython3",
   "version": "3.9.13"
  }
 },
 "nbformat": 4,
 "nbformat_minor": 2
}
