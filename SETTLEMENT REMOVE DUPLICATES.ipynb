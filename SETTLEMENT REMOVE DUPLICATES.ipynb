{
 "cells": [
  {
   "cell_type": "code",
   "execution_count": 1,
   "metadata": {},
   "outputs": [],
   "source": [
    "import pandas as pd\n",
    "import numpy as np\n",
    "from openpyxl import load_workbook\n",
    "pd.options.display.float_format = '{:,.2f}'.format"
   ]
  },
  {
   "cell_type": "code",
   "execution_count": 2,
   "metadata": {},
   "outputs": [],
   "source": [
    "headers = ['merchant_id','merchant_name','report_id','report_date_local','total_transactions','total_fees_charged',\n",
    "           'total_taxes','applied_fees_benefits','applied_taxes_benefits','fee_direct_deposit','taxes_direct_deposit',\n",
    "           'total_adjustments','total_adjustment_fees_charged','total_adjustment_taxes','cobranza','total_released',\n",
    "           'total_retained','tipopago','total_due','type','created_date','created_time','updated_date','updated_time']"
   ]
  },
  {
   "cell_type": "code",
   "execution_count": 3,
   "metadata": {},
   "outputs": [
    {
     "data": {
      "text/html": [
       "<div>\n",
       "<style scoped>\n",
       "    .dataframe tbody tr th:only-of-type {\n",
       "        vertical-align: middle;\n",
       "    }\n",
       "\n",
       "    .dataframe tbody tr th {\n",
       "        vertical-align: top;\n",
       "    }\n",
       "\n",
       "    .dataframe thead th {\n",
       "        text-align: right;\n",
       "    }\n",
       "</style>\n",
       "<table border=\"1\" class=\"dataframe\">\n",
       "  <thead>\n",
       "    <tr style=\"text-align: right;\">\n",
       "      <th></th>\n",
       "      <th>merchant_id</th>\n",
       "      <th>merchant_name</th>\n",
       "      <th>user_email</th>\n",
       "      <th>report_id</th>\n",
       "      <th>report_date_local</th>\n",
       "      <th>total_transactions</th>\n",
       "      <th>total_fees_charged</th>\n",
       "      <th>total_taxes</th>\n",
       "      <th>applied_fees_benefits</th>\n",
       "      <th>applied_taxes_benefits</th>\n",
       "      <th>...</th>\n",
       "      <th>cobranza</th>\n",
       "      <th>total_released</th>\n",
       "      <th>total_retained</th>\n",
       "      <th>tipopago</th>\n",
       "      <th>total_due</th>\n",
       "      <th>type</th>\n",
       "      <th>created_date</th>\n",
       "      <th>created_time</th>\n",
       "      <th>updated_date</th>\n",
       "      <th>updated_time</th>\n",
       "    </tr>\n",
       "  </thead>\n",
       "  <tbody>\n",
       "  </tbody>\n",
       "</table>\n",
       "<p>0 rows × 25 columns</p>\n",
       "</div>"
      ],
      "text/plain": [
       "Empty DataFrame\n",
       "Columns: [merchant_id, merchant_name, user_email, report_id, report_date_local, total_transactions, total_fees_charged, total_taxes, applied_fees_benefits, applied_taxes_benefits, fee_direct_deposit, taxes_direct_deposit, total_adjustments, total_adjustment_fees_charged, total_adjustment_taxes, cobranza, total_released, total_retained, tipopago, total_due, type, created_date, created_time, updated_date, updated_time]\n",
       "Index: []\n",
       "\n",
       "[0 rows x 25 columns]"
      ]
     },
     "execution_count": 3,
     "metadata": {},
     "output_type": "execute_result"
    }
   ],
   "source": [
    "settled= pd.read_csv(r'C:\\Users\\Cristian.Aparicio\\Documents\\DISPERSIONES\\2024\\01. ENERO\\SETTLEMENT 2024-01-31.csv')\n",
    "settled.columns = settled.columns.str.strip().str.lower() \n",
    "settled['report_date_local'] = pd.to_datetime(settled['report_date_local'])\n",
    "settled.head()"
   ]
  },
  {
   "cell_type": "code",
   "execution_count": 4,
   "metadata": {},
   "outputs": [
    {
     "data": {
      "text/plain": [
       "(0, 25)"
      ]
     },
     "execution_count": 4,
     "metadata": {},
     "output_type": "execute_result"
    }
   ],
   "source": [
    "settled.shape"
   ]
  },
  {
   "cell_type": "code",
   "execution_count": 5,
   "metadata": {},
   "outputs": [
    {
     "data": {
      "text/html": [
       "<div>\n",
       "<style scoped>\n",
       "    .dataframe tbody tr th:only-of-type {\n",
       "        vertical-align: middle;\n",
       "    }\n",
       "\n",
       "    .dataframe tbody tr th {\n",
       "        vertical-align: top;\n",
       "    }\n",
       "\n",
       "    .dataframe thead th {\n",
       "        text-align: right;\n",
       "    }\n",
       "</style>\n",
       "<table border=\"1\" class=\"dataframe\">\n",
       "  <thead>\n",
       "    <tr style=\"text-align: right;\">\n",
       "      <th></th>\n",
       "      <th>merchant_id</th>\n",
       "      <th>merchant_name</th>\n",
       "      <th>user_email</th>\n",
       "      <th>report_id</th>\n",
       "      <th>report_date_local</th>\n",
       "      <th>total_transactions</th>\n",
       "      <th>total_fees_charged</th>\n",
       "      <th>total_taxes</th>\n",
       "      <th>applied_fees_benefits</th>\n",
       "      <th>applied_taxes_benefits</th>\n",
       "      <th>...</th>\n",
       "      <th>cobranza</th>\n",
       "      <th>total_released</th>\n",
       "      <th>total_retained</th>\n",
       "      <th>tipopago</th>\n",
       "      <th>total_due</th>\n",
       "      <th>type</th>\n",
       "      <th>created_date</th>\n",
       "      <th>created_time</th>\n",
       "      <th>updated_date</th>\n",
       "      <th>updated_time</th>\n",
       "    </tr>\n",
       "  </thead>\n",
       "  <tbody>\n",
       "  </tbody>\n",
       "</table>\n",
       "<p>0 rows × 25 columns</p>\n",
       "</div>"
      ],
      "text/plain": [
       "Empty DataFrame\n",
       "Columns: [merchant_id, merchant_name, user_email, report_id, report_date_local, total_transactions, total_fees_charged, total_taxes, applied_fees_benefits, applied_taxes_benefits, fee_direct_deposit, taxes_direct_deposit, total_adjustments, total_adjustment_fees_charged, total_adjustment_taxes, cobranza, total_released, total_retained, tipopago, total_due, type, created_date, created_time, updated_date, updated_time]\n",
       "Index: []\n",
       "\n",
       "[0 rows x 25 columns]"
      ]
     },
     "execution_count": 5,
     "metadata": {},
     "output_type": "execute_result"
    }
   ],
   "source": [
    "duplicates = settled[settled.duplicated(['report_id'] , keep=False)]\n",
    "duplicates.head()"
   ]
  },
  {
   "cell_type": "code",
   "execution_count": 6,
   "metadata": {},
   "outputs": [
    {
     "data": {
      "text/plain": [
       "(0, 25)"
      ]
     },
     "execution_count": 6,
     "metadata": {},
     "output_type": "execute_result"
    }
   ],
   "source": [
    "duplicates.shape"
   ]
  },
  {
   "cell_type": "code",
   "execution_count": 7,
   "metadata": {},
   "outputs": [
    {
     "data": {
      "text/html": [
       "<div>\n",
       "<style scoped>\n",
       "    .dataframe tbody tr th:only-of-type {\n",
       "        vertical-align: middle;\n",
       "    }\n",
       "\n",
       "    .dataframe tbody tr th {\n",
       "        vertical-align: top;\n",
       "    }\n",
       "\n",
       "    .dataframe thead th {\n",
       "        text-align: right;\n",
       "    }\n",
       "</style>\n",
       "<table border=\"1\" class=\"dataframe\">\n",
       "  <thead>\n",
       "    <tr style=\"text-align: right;\">\n",
       "      <th></th>\n",
       "      <th>merchant_id</th>\n",
       "      <th>merchant_name</th>\n",
       "      <th>user_email</th>\n",
       "      <th>report_id</th>\n",
       "      <th>report_date_local</th>\n",
       "      <th>total_transactions</th>\n",
       "      <th>total_fees_charged</th>\n",
       "      <th>total_taxes</th>\n",
       "      <th>applied_fees_benefits</th>\n",
       "      <th>applied_taxes_benefits</th>\n",
       "      <th>...</th>\n",
       "      <th>cobranza</th>\n",
       "      <th>total_released</th>\n",
       "      <th>total_retained</th>\n",
       "      <th>tipopago</th>\n",
       "      <th>total_due</th>\n",
       "      <th>type</th>\n",
       "      <th>created_date</th>\n",
       "      <th>created_time</th>\n",
       "      <th>updated_date</th>\n",
       "      <th>updated_time</th>\n",
       "    </tr>\n",
       "  </thead>\n",
       "  <tbody>\n",
       "  </tbody>\n",
       "</table>\n",
       "<p>0 rows × 25 columns</p>\n",
       "</div>"
      ],
      "text/plain": [
       "Empty DataFrame\n",
       "Columns: [merchant_id, merchant_name, user_email, report_id, report_date_local, total_transactions, total_fees_charged, total_taxes, applied_fees_benefits, applied_taxes_benefits, fee_direct_deposit, taxes_direct_deposit, total_adjustments, total_adjustment_fees_charged, total_adjustment_taxes, cobranza, total_released, total_retained, tipopago, total_due, type, created_date, created_time, updated_date, updated_time]\n",
       "Index: []\n",
       "\n",
       "[0 rows x 25 columns]"
      ]
     },
     "execution_count": 7,
     "metadata": {},
     "output_type": "execute_result"
    }
   ],
   "source": [
    "settled.sort_values(by=['updated_time','tipopago','type'],ascending=True,inplace=True)\n",
    "settled.drop_duplicates(subset='report_id', keep='first', inplace=True)\n",
    "settled.head()"
   ]
  },
  {
   "cell_type": "code",
   "execution_count": 8,
   "metadata": {},
   "outputs": [
    {
     "data": {
      "text/plain": [
       "(0, 25)"
      ]
     },
     "execution_count": 8,
     "metadata": {},
     "output_type": "execute_result"
    }
   ],
   "source": [
    "settled.shape"
   ]
  },
  {
   "cell_type": "code",
   "execution_count": 9,
   "metadata": {},
   "outputs": [
    {
     "data": {
      "text/plain": [
       "<DatetimeArray>\n",
       "[]\n",
       "Length: 0, dtype: datetime64[ns]"
      ]
     },
     "execution_count": 9,
     "metadata": {},
     "output_type": "execute_result"
    }
   ],
   "source": [
    "settled['report_date_local'].unique()"
   ]
  },
  {
   "cell_type": "code",
   "execution_count": 10,
   "metadata": {},
   "outputs": [],
   "source": [
    "settled.to_csv('SETTLEMENT 2024-01-31.csv',index=False)"
   ]
  },
  {
   "cell_type": "code",
   "execution_count": null,
   "metadata": {},
   "outputs": [],
   "source": []
  }
 ],
 "metadata": {
  "kernelspec": {
   "display_name": "Python 3 (ipykernel)",
   "language": "python",
   "name": "python3"
  },
  "language_info": {
   "codemirror_mode": {
    "name": "ipython",
    "version": 3
   },
   "file_extension": ".py",
   "mimetype": "text/x-python",
   "name": "python",
   "nbconvert_exporter": "python",
   "pygments_lexer": "ipython3",
   "version": "3.9.18"
  }
 },
 "nbformat": 4,
 "nbformat_minor": 4
}
