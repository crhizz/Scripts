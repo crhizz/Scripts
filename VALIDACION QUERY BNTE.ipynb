{
 "cells": [
  {
   "cell_type": "code",
   "execution_count": 1,
   "metadata": {},
   "outputs": [],
   "source": [
    "import pandas as pd\n",
    "import numpy as np\n",
    "from openpyxl import load_workbook\n",
    "import glob\n",
    "import os\n",
    "pd.options.display.float_format = '{:,.2f}'.format"
   ]
  },
  {
   "cell_type": "markdown",
   "metadata": {},
   "source": [
    "# READING FILES"
   ]
  },
  {
   "cell_type": "markdown",
   "metadata": {},
   "source": [
    "## BNTE"
   ]
  },
  {
   "cell_type": "code",
   "execution_count": 2,
   "metadata": {},
   "outputs": [],
   "source": [
    "name_header = ['merchant_id','merchant_name','user_email','report_id','report_date_local','amount','status','bank_name'\n",
    "               ,'payment_date_local','bank_account_owner_name','bank_account_number','swap']"
   ]
  },
  {
   "cell_type": "code",
   "execution_count": 3,
   "metadata": {},
   "outputs": [
    {
     "data": {
      "text/plain": [
       "['G:\\\\My Drive\\\\Settlement\\\\5.-HISTORICO FILES PAGOS\\\\2022\\\\01. JANUARY\\\\BNTE 2022-01-30.csv']"
      ]
     },
     "execution_count": 3,
     "metadata": {},
     "output_type": "execute_result"
    }
   ],
   "source": [
    "query_1 = glob.glob(r'G:\\My Drive\\Settlement\\5.-HISTORICO FILES PAGOS\\2022\\01. JANUARY\\BNTE 20*.csv', recursive=False)\n",
    "# query_1 = glob.glob(r'G:\\My Drive\\Settlement\\5.-HISTORICO FILES PAGOS\\2021\\03. MARCH\\BNTE 20*.txt', recursive=False)\n",
    "query_1"
   ]
  },
  {
   "cell_type": "code",
   "execution_count": 4,
   "metadata": {},
   "outputs": [
    {
     "data": {
      "text/html": [
       "<div>\n",
       "<style scoped>\n",
       "    .dataframe tbody tr th:only-of-type {\n",
       "        vertical-align: middle;\n",
       "    }\n",
       "\n",
       "    .dataframe tbody tr th {\n",
       "        vertical-align: top;\n",
       "    }\n",
       "\n",
       "    .dataframe thead th {\n",
       "        text-align: right;\n",
       "    }\n",
       "</style>\n",
       "<table border=\"1\" class=\"dataframe\">\n",
       "  <thead>\n",
       "    <tr style=\"text-align: right;\">\n",
       "      <th></th>\n",
       "      <th>merchant_id</th>\n",
       "      <th>merchant_name</th>\n",
       "      <th>user_email</th>\n",
       "      <th>report_id</th>\n",
       "      <th>report_date_local</th>\n",
       "      <th>amount</th>\n",
       "      <th>status</th>\n",
       "      <th>bank_name</th>\n",
       "      <th>payment_date_local</th>\n",
       "      <th>bank_account_owner_name</th>\n",
       "      <th>bank_account_number</th>\n",
       "      <th>batch_created_date</th>\n",
       "      <th>swap</th>\n",
       "      <th>file_name</th>\n",
       "    </tr>\n",
       "  </thead>\n",
       "  <tbody>\n",
       "    <tr>\n",
       "      <th>0</th>\n",
       "      <td>00008884-ca93-4758-8aa7-b10f57145850</td>\n",
       "      <td>Dra Abryl</td>\n",
       "      <td>maah25@hotmail.com</td>\n",
       "      <td>HHSMNMGY3</td>\n",
       "      <td>2022-01-30 00:00:00</td>\n",
       "      <td>1,437.36</td>\n",
       "      <td>PAID</td>\n",
       "      <td>SANTANDER</td>\n",
       "      <td>2022-01-30 10:20:46</td>\n",
       "      <td>Abryl Mariana Avitia Herrera</td>\n",
       "      <td>'014078567364065679</td>\n",
       "      <td>2022-01-30 08:03:41</td>\n",
       "      <td>Abryl Mariana Avitia Herrera,,1437.36,01407856...</td>\n",
       "      <td>BNTE 2022-01-30.csv</td>\n",
       "    </tr>\n",
       "    <tr>\n",
       "      <th>1</th>\n",
       "      <td>0000d758-84b4-4cb0-a165-4f0d3c44864d</td>\n",
       "      <td>MAHARISHI PANTJALI SA DE CV</td>\n",
       "      <td>maharishiclip@gmail.com</td>\n",
       "      <td>NR5VVJJHM</td>\n",
       "      <td>2022-01-30 00:00:00</td>\n",
       "      <td>41,501.02</td>\n",
       "      <td>PAID</td>\n",
       "      <td>Banco Regional de Monterrey, S.A.</td>\n",
       "      <td>2022-01-30 10:41:41</td>\n",
       "      <td>MAHARISHI PANTJALI S.A. DE C.V.</td>\n",
       "      <td>'058375000003160831</td>\n",
       "      <td>2022-01-30 08:03:41</td>\n",
       "      <td>MAHARISHI PANTJALI S.A. DE C.V.,,41501.02,0583...</td>\n",
       "      <td>BNTE 2022-01-30.csv</td>\n",
       "    </tr>\n",
       "    <tr>\n",
       "      <th>2</th>\n",
       "      <td>0000e262-e3ed-4f48-94ee-a8f0d1418a0d</td>\n",
       "      <td>Geishas S</td>\n",
       "      <td>kartf89@gmail.com</td>\n",
       "      <td>SV96SLXTH</td>\n",
       "      <td>2022-01-30 00:00:00</td>\n",
       "      <td>1,705.67</td>\n",
       "      <td>PAID</td>\n",
       "      <td>Banco Azteca, S.A.</td>\n",
       "      <td>2022-01-30 10:34:03</td>\n",
       "      <td>Karla Anahi Torres Fuentes</td>\n",
       "      <td>'127290013929071395</td>\n",
       "      <td>2022-01-30 08:03:41</td>\n",
       "      <td>Karla Anahi Torres Fuentes,,1705.67,1272900139...</td>\n",
       "      <td>BNTE 2022-01-30.csv</td>\n",
       "    </tr>\n",
       "    <tr>\n",
       "      <th>3</th>\n",
       "      <td>0000e953-6b2c-44d0-a798-9dac1abf24ea</td>\n",
       "      <td>Super Kandy</td>\n",
       "      <td>yanellysegovia18@gmail.com</td>\n",
       "      <td>LCLJGXR5N</td>\n",
       "      <td>2022-01-30 00:00:00</td>\n",
       "      <td>4,489.13</td>\n",
       "      <td>PAID</td>\n",
       "      <td>Banco Nacional de México, S.A.</td>\n",
       "      <td>2022-01-30 10:45:04</td>\n",
       "      <td>Ana Yanelly Puente Gutierrez</td>\n",
       "      <td>'002580701334955664</td>\n",
       "      <td>2022-01-30 08:03:41</td>\n",
       "      <td>Ana Yanelly Puente Gutierrez,,4489.13,00258070...</td>\n",
       "      <td>BNTE 2022-01-30.csv</td>\n",
       "    </tr>\n",
       "    <tr>\n",
       "      <th>4</th>\n",
       "      <td>00023bd5-6149-4ef9-95be-edb61d22588d</td>\n",
       "      <td>LAS PEKES</td>\n",
       "      <td>alebarradas1@hotmail.com</td>\n",
       "      <td>KXB3JJYHW</td>\n",
       "      <td>2022-01-30 00:00:00</td>\n",
       "      <td>250.11</td>\n",
       "      <td>PAID</td>\n",
       "      <td>BanCoppel, S.A.</td>\n",
       "      <td>2022-01-30 10:37:29</td>\n",
       "      <td>Virginia Alejandra Barradas Prez</td>\n",
       "      <td>'137463103868892825</td>\n",
       "      <td>2022-01-30 08:03:41</td>\n",
       "      <td>Virginia Alejandra Barradas Prez,,250.11,13746...</td>\n",
       "      <td>BNTE 2022-01-30.csv</td>\n",
       "    </tr>\n",
       "  </tbody>\n",
       "</table>\n",
       "</div>"
      ],
      "text/plain": [
       "                            merchant_id                merchant_name  \\\n",
       "0  00008884-ca93-4758-8aa7-b10f57145850                    Dra Abryl   \n",
       "1  0000d758-84b4-4cb0-a165-4f0d3c44864d  MAHARISHI PANTJALI SA DE CV   \n",
       "2  0000e262-e3ed-4f48-94ee-a8f0d1418a0d                    Geishas S   \n",
       "3  0000e953-6b2c-44d0-a798-9dac1abf24ea                  Super Kandy   \n",
       "4  00023bd5-6149-4ef9-95be-edb61d22588d                    LAS PEKES   \n",
       "\n",
       "                   user_email  report_id    report_date_local    amount  \\\n",
       "0          maah25@hotmail.com  HHSMNMGY3  2022-01-30 00:00:00  1,437.36   \n",
       "1     maharishiclip@gmail.com  NR5VVJJHM  2022-01-30 00:00:00 41,501.02   \n",
       "2           kartf89@gmail.com  SV96SLXTH  2022-01-30 00:00:00  1,705.67   \n",
       "3  yanellysegovia18@gmail.com  LCLJGXR5N  2022-01-30 00:00:00  4,489.13   \n",
       "4    alebarradas1@hotmail.com  KXB3JJYHW  2022-01-30 00:00:00    250.11   \n",
       "\n",
       "  status                          bank_name   payment_date_local  \\\n",
       "0   PAID                          SANTANDER  2022-01-30 10:20:46   \n",
       "1   PAID  Banco Regional de Monterrey, S.A.  2022-01-30 10:41:41   \n",
       "2   PAID                 Banco Azteca, S.A.  2022-01-30 10:34:03   \n",
       "3   PAID     Banco Nacional de México, S.A.  2022-01-30 10:45:04   \n",
       "4   PAID                    BanCoppel, S.A.  2022-01-30 10:37:29   \n",
       "\n",
       "            bank_account_owner_name  bank_account_number   batch_created_date  \\\n",
       "0      Abryl Mariana Avitia Herrera  '014078567364065679  2022-01-30 08:03:41   \n",
       "1   MAHARISHI PANTJALI S.A. DE C.V.  '058375000003160831  2022-01-30 08:03:41   \n",
       "2        Karla Anahi Torres Fuentes  '127290013929071395  2022-01-30 08:03:41   \n",
       "3      Ana Yanelly Puente Gutierrez  '002580701334955664  2022-01-30 08:03:41   \n",
       "4  Virginia Alejandra Barradas Prez  '137463103868892825  2022-01-30 08:03:41   \n",
       "\n",
       "                                                swap            file_name  \n",
       "0  Abryl Mariana Avitia Herrera,,1437.36,01407856...  BNTE 2022-01-30.csv  \n",
       "1  MAHARISHI PANTJALI S.A. DE C.V.,,41501.02,0583...  BNTE 2022-01-30.csv  \n",
       "2  Karla Anahi Torres Fuentes,,1705.67,1272900139...  BNTE 2022-01-30.csv  \n",
       "3  Ana Yanelly Puente Gutierrez,,4489.13,00258070...  BNTE 2022-01-30.csv  \n",
       "4  Virginia Alejandra Barradas Prez,,250.11,13746...  BNTE 2022-01-30.csv  "
      ]
     },
     "execution_count": 4,
     "metadata": {},
     "output_type": "execute_result"
    }
   ],
   "source": [
    "query = pd.concat([pd.read_csv(f,dtype={'bank_account_number':object,'report_id':object})\n",
    "                   .assign(file_name=os.path.basename(f)) for f in query_1])\n",
    "# query = pd.concat([pd.read_csv(f,sep='\\t',names=name_header,dtype={'bank_account_number':object,'report_id':object})\n",
    "#                    .assign(file_name=os.path.basename(f)) for f in query_1])\n",
    "query.head()"
   ]
  },
  {
   "cell_type": "code",
   "execution_count": 5,
   "metadata": {},
   "outputs": [
    {
     "data": {
      "text/html": [
       "<div>\n",
       "<style scoped>\n",
       "    .dataframe tbody tr th:only-of-type {\n",
       "        vertical-align: middle;\n",
       "    }\n",
       "\n",
       "    .dataframe tbody tr th {\n",
       "        vertical-align: top;\n",
       "    }\n",
       "\n",
       "    .dataframe thead th {\n",
       "        text-align: right;\n",
       "    }\n",
       "</style>\n",
       "<table border=\"1\" class=\"dataframe\">\n",
       "  <thead>\n",
       "    <tr style=\"text-align: right;\">\n",
       "      <th></th>\n",
       "      <th>Nombre_download</th>\n",
       "      <th>Blank</th>\n",
       "      <th>amount_download</th>\n",
       "      <th>CLABE_download</th>\n",
       "      <th>report_id</th>\n",
       "    </tr>\n",
       "  </thead>\n",
       "  <tbody>\n",
       "    <tr>\n",
       "      <th>0</th>\n",
       "      <td>Abryl Mariana Avitia Herrera</td>\n",
       "      <td>nan</td>\n",
       "      <td>1,437.36</td>\n",
       "      <td>014078567364065679</td>\n",
       "      <td>HHSMNMGY3</td>\n",
       "    </tr>\n",
       "    <tr>\n",
       "      <th>1</th>\n",
       "      <td>MAHARISHI PANTJALI  S A  DE C V</td>\n",
       "      <td>nan</td>\n",
       "      <td>41,501.02</td>\n",
       "      <td>058375000003160831</td>\n",
       "      <td>NR5VVJJHM</td>\n",
       "    </tr>\n",
       "    <tr>\n",
       "      <th>2</th>\n",
       "      <td>Karla Anahi Torres Fuentes</td>\n",
       "      <td>nan</td>\n",
       "      <td>1,705.67</td>\n",
       "      <td>127290013929071395</td>\n",
       "      <td>SV96SLXTH</td>\n",
       "    </tr>\n",
       "    <tr>\n",
       "      <th>3</th>\n",
       "      <td>Ana Yanelly Puente Gutierrez</td>\n",
       "      <td>nan</td>\n",
       "      <td>4,489.13</td>\n",
       "      <td>002580701334955664</td>\n",
       "      <td>LCLJGXR5N</td>\n",
       "    </tr>\n",
       "    <tr>\n",
       "      <th>4</th>\n",
       "      <td>Virginia Alejandra Barradas Prez</td>\n",
       "      <td>nan</td>\n",
       "      <td>250.11</td>\n",
       "      <td>137463103868892825</td>\n",
       "      <td>KXB3JJYHW</td>\n",
       "    </tr>\n",
       "  </tbody>\n",
       "</table>\n",
       "</div>"
      ],
      "text/plain": [
       "                    Nombre_download  Blank  amount_download  \\\n",
       "0      Abryl Mariana Avitia Herrera    nan         1,437.36   \n",
       "1  MAHARISHI PANTJALI  S A  DE C V     nan        41,501.02   \n",
       "2        Karla Anahi Torres Fuentes    nan         1,705.67   \n",
       "3      Ana Yanelly Puente Gutierrez    nan         4,489.13   \n",
       "4  Virginia Alejandra Barradas Prez    nan           250.11   \n",
       "\n",
       "       CLABE_download  report_id  \n",
       "0  014078567364065679  HHSMNMGY3  \n",
       "1  058375000003160831  NR5VVJJHM  \n",
       "2  127290013929071395  SV96SLXTH  \n",
       "3  002580701334955664  LCLJGXR5N  \n",
       "4  137463103868892825  KXB3JJYHW  "
      ]
     },
     "execution_count": 5,
     "metadata": {},
     "output_type": "execute_result"
    }
   ],
   "source": [
    "ae = pd.read_csv(r'G:\\My Drive\\Settlement\\5.-HISTORICO FILES PAGOS\\2022\\01. JANUARY\\BnteDOWNLOAD 2022-01-30.csv'\n",
    "                 ,names=['Nombre_download','Blank','amount_download','CLABE_download','report_id']\n",
    "                 ,dtype={'CLABE_download':object,'report_id':object},skiprows=[0])\n",
    "ae['report_id'] = ae['report_id'].str[5:].replace(' ', '',regex=True)\n",
    "ae['report_id'] = ae['report_id'].replace(' ', '',regex=True)\n",
    "ae.head()"
   ]
  },
  {
   "cell_type": "code",
   "execution_count": 6,
   "metadata": {},
   "outputs": [
    {
     "data": {
      "text/plain": [
       "(84324, 14)"
      ]
     },
     "execution_count": 6,
     "metadata": {},
     "output_type": "execute_result"
    }
   ],
   "source": [
    "query.shape"
   ]
  },
  {
   "cell_type": "code",
   "execution_count": 7,
   "metadata": {},
   "outputs": [
    {
     "data": {
      "text/plain": [
       "(84324, 5)"
      ]
     },
     "execution_count": 7,
     "metadata": {},
     "output_type": "execute_result"
    }
   ],
   "source": [
    "ae.shape"
   ]
  },
  {
   "cell_type": "markdown",
   "metadata": {},
   "source": [
    "# VALIDACION REGISTROS"
   ]
  },
  {
   "cell_type": "code",
   "execution_count": 8,
   "metadata": {},
   "outputs": [
    {
     "data": {
      "text/html": [
       "<div>\n",
       "<style scoped>\n",
       "    .dataframe tbody tr th:only-of-type {\n",
       "        vertical-align: middle;\n",
       "    }\n",
       "\n",
       "    .dataframe tbody tr th {\n",
       "        vertical-align: top;\n",
       "    }\n",
       "\n",
       "    .dataframe thead th {\n",
       "        text-align: right;\n",
       "    }\n",
       "</style>\n",
       "<table border=\"1\" class=\"dataframe\">\n",
       "  <thead>\n",
       "    <tr style=\"text-align: right;\">\n",
       "      <th></th>\n",
       "      <th>merchant_id</th>\n",
       "      <th>merchant_name</th>\n",
       "      <th>user_email</th>\n",
       "      <th>report_id</th>\n",
       "      <th>report_date_local</th>\n",
       "      <th>amount</th>\n",
       "      <th>status</th>\n",
       "      <th>bank_name</th>\n",
       "      <th>payment_date_local</th>\n",
       "      <th>bank_account_owner_name</th>\n",
       "      <th>bank_account_number</th>\n",
       "      <th>batch_created_date</th>\n",
       "      <th>swap</th>\n",
       "      <th>file_name</th>\n",
       "    </tr>\n",
       "  </thead>\n",
       "  <tbody>\n",
       "  </tbody>\n",
       "</table>\n",
       "</div>"
      ],
      "text/plain": [
       "Empty DataFrame\n",
       "Columns: [merchant_id, merchant_name, user_email, report_id, report_date_local, amount, status, bank_name, payment_date_local, bank_account_owner_name, bank_account_number, batch_created_date, swap, file_name]\n",
       "Index: []"
      ]
     },
     "execution_count": 8,
     "metadata": {},
     "output_type": "execute_result"
    }
   ],
   "source": [
    "duplicates_query = query[query.duplicated(['report_id'],keep=False)]\n",
    "duplicates_query.head()"
   ]
  },
  {
   "cell_type": "code",
   "execution_count": 9,
   "metadata": {},
   "outputs": [
    {
     "data": {
      "text/html": [
       "<div>\n",
       "<style scoped>\n",
       "    .dataframe tbody tr th:only-of-type {\n",
       "        vertical-align: middle;\n",
       "    }\n",
       "\n",
       "    .dataframe tbody tr th {\n",
       "        vertical-align: top;\n",
       "    }\n",
       "\n",
       "    .dataframe thead th {\n",
       "        text-align: right;\n",
       "    }\n",
       "</style>\n",
       "<table border=\"1\" class=\"dataframe\">\n",
       "  <thead>\n",
       "    <tr style=\"text-align: right;\">\n",
       "      <th></th>\n",
       "      <th>Nombre_download</th>\n",
       "      <th>Blank</th>\n",
       "      <th>amount_download</th>\n",
       "      <th>CLABE_download</th>\n",
       "      <th>report_id</th>\n",
       "    </tr>\n",
       "  </thead>\n",
       "  <tbody>\n",
       "  </tbody>\n",
       "</table>\n",
       "</div>"
      ],
      "text/plain": [
       "Empty DataFrame\n",
       "Columns: [Nombre_download, Blank, amount_download, CLABE_download, report_id]\n",
       "Index: []"
      ]
     },
     "execution_count": 9,
     "metadata": {},
     "output_type": "execute_result"
    }
   ],
   "source": [
    "duplicates_file_sent = ae[ae.duplicated(['report_id'],keep=False)]\n",
    "duplicates_file_sent.head()"
   ]
  },
  {
   "cell_type": "code",
   "execution_count": null,
   "metadata": {},
   "outputs": [],
   "source": []
  }
 ],
 "metadata": {
  "kernelspec": {
   "display_name": "Python 3",
   "language": "python",
   "name": "python3"
  },
  "language_info": {
   "codemirror_mode": {
    "name": "ipython",
    "version": 3
   },
   "file_extension": ".py",
   "mimetype": "text/x-python",
   "name": "python",
   "nbconvert_exporter": "python",
   "pygments_lexer": "ipython3",
   "version": "3.7.6"
  }
 },
 "nbformat": 4,
 "nbformat_minor": 4
}
