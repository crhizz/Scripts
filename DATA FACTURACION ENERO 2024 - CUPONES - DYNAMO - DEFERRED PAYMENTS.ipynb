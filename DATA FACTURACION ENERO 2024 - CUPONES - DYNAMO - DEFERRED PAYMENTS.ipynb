{
 "cells": [
  {
   "cell_type": "markdown",
   "metadata": {},
   "source": [
    "# ARCHIVOS SETTLEMENT A PARTIR DE:\n",
    "# - FAST PAYMENTS DEL 01 DE ENERO 2024\n",
    "# - NOT FOUND (DYNAMO) DEL 01 DE ENERO 2024\n",
    "# - 01 DE ENERO 2024\n",
    "\n",
    "\n",
    "# ARCHIVOS LENDER A PARTIR DEL 01 ENERO 2024\n",
    "\n"
   ]
  },
  {
   "cell_type": "code",
   "execution_count": 1,
   "metadata": {},
   "outputs": [],
   "source": [
    "import pandas as pd\n",
    "import numpy as np\n",
    "from openpyxl import load_workbook\n",
    "import glob\n",
    "import os\n",
    "pd.options.display.float_format = '{:,.2f}'.format"
   ]
  },
  {
   "cell_type": "markdown",
   "metadata": {},
   "source": [
    "### DIFERENCIA FAST PAYMENTS"
   ]
  },
  {
   "cell_type": "code",
   "execution_count": 2,
   "metadata": {},
   "outputs": [],
   "source": [
    "# df0 = pd.read_excel(r'C:\\Users\\Cristian.Aparicio\\Documents\\FACTURACION\\2022\\05. MAYO\\DIFERENCIA MAYO 2022.xlsx', sheet_name='Sheet1')\n",
    "# df0['Date'] = '2022-04-29'\n",
    "# df0['Date'] = pd.to_datetime(df0['Date'])\n",
    "# df0.head()"
   ]
  },
  {
   "cell_type": "code",
   "execution_count": 3,
   "metadata": {},
   "outputs": [],
   "source": [
    "# df0.shape"
   ]
  },
  {
   "cell_type": "code",
   "execution_count": 4,
   "metadata": {},
   "outputs": [],
   "source": [
    "# df0.columns"
   ]
  },
  {
   "cell_type": "code",
   "execution_count": 5,
   "metadata": {},
   "outputs": [],
   "source": [
    "# df0['total_transactions'] = df0['total_transactions'].astype(float)\n",
    "# df0['total_fees_charged'] = df0['total_fees_charged'].astype(float)\n",
    "# df0['total_taxes'] = df0['total_taxes'].astype(float)\n",
    "# df0['applied_fees_benefits'] = df0['applied_fees_benefits'].astype(float)\n",
    "# df0['applied_taxes_benefits'] = df0['applied_taxes_benefits'].astype(float)\n",
    "# df0['fee_direct_deposit'] = df0['fee_direct_deposit'].astype(float)\n",
    "# df0['taxes_direct_deposit'] = df0['taxes_direct_deposit'].astype(float)\n",
    "# df0['total_adjustments'] = df0['total_adjustments'].astype(float)\n",
    "# df0['total_adjustment_fees_charged'] = df0['total_adjustment_fees_charged'].astype(float)\n",
    "# df0['total_adjustment_taxes'] = df0['total_adjustment_taxes'].astype(float)\n",
    "# df0['cobranza'] = df0['cobranza'].astype(float)\n",
    "# df0['total_released'] = df0['total_released'].astype(float)\n",
    "# df0['total_retained'] = df0['total_retained'].astype(float)\n",
    "# df0['total_due'] = df0['total_due'].astype(float)\n",
    "\n"
   ]
  },
  {
   "cell_type": "code",
   "execution_count": 6,
   "metadata": {},
   "outputs": [],
   "source": [
    "# df0.dtypes"
   ]
  },
  {
   "cell_type": "markdown",
   "metadata": {},
   "source": [
    "### MES ACTUAL"
   ]
  },
  {
   "cell_type": "code",
   "execution_count": 7,
   "metadata": {},
   "outputs": [],
   "source": [
    "start_date_fact = '2024-01-01'\n",
    "# final_date_mes = '2020-10-26'"
   ]
  },
  {
   "cell_type": "code",
   "execution_count": 8,
   "metadata": {},
   "outputs": [
    {
     "data": {
      "text/plain": [
       "['C:\\\\Users\\\\Cristian.Aparicio\\\\Documents\\\\DISPERSIONES\\\\2024\\\\01. ENERO\\\\QUERIES\\\\SETTLEMENT 2024-01-01.csv',\n",
       " 'C:\\\\Users\\\\Cristian.Aparicio\\\\Documents\\\\DISPERSIONES\\\\2024\\\\01. ENERO\\\\QUERIES\\\\SETTLEMENT 2024-01-02.csv',\n",
       " 'C:\\\\Users\\\\Cristian.Aparicio\\\\Documents\\\\DISPERSIONES\\\\2024\\\\01. ENERO\\\\QUERIES\\\\SETTLEMENT 2024-01-03.csv',\n",
       " 'C:\\\\Users\\\\Cristian.Aparicio\\\\Documents\\\\DISPERSIONES\\\\2024\\\\01. ENERO\\\\QUERIES\\\\SETTLEMENT 2024-01-04.csv',\n",
       " 'C:\\\\Users\\\\Cristian.Aparicio\\\\Documents\\\\DISPERSIONES\\\\2024\\\\01. ENERO\\\\QUERIES\\\\SETTLEMENT 2024-01-05.csv',\n",
       " 'C:\\\\Users\\\\Cristian.Aparicio\\\\Documents\\\\DISPERSIONES\\\\2024\\\\01. ENERO\\\\QUERIES\\\\SETTLEMENT 2024-01-06.csv',\n",
       " 'C:\\\\Users\\\\Cristian.Aparicio\\\\Documents\\\\DISPERSIONES\\\\2024\\\\01. ENERO\\\\QUERIES\\\\SETTLEMENT 2024-01-07.csv',\n",
       " 'C:\\\\Users\\\\Cristian.Aparicio\\\\Documents\\\\DISPERSIONES\\\\2024\\\\01. ENERO\\\\QUERIES\\\\SETTLEMENT 2024-01-08.csv',\n",
       " 'C:\\\\Users\\\\Cristian.Aparicio\\\\Documents\\\\DISPERSIONES\\\\2024\\\\01. ENERO\\\\QUERIES\\\\SETTLEMENT 2024-01-09.csv',\n",
       " 'C:\\\\Users\\\\Cristian.Aparicio\\\\Documents\\\\DISPERSIONES\\\\2024\\\\01. ENERO\\\\QUERIES\\\\SETTLEMENT 2024-01-10.csv',\n",
       " 'C:\\\\Users\\\\Cristian.Aparicio\\\\Documents\\\\DISPERSIONES\\\\2024\\\\01. ENERO\\\\QUERIES\\\\SETTLEMENT 2024-01-11.csv',\n",
       " 'C:\\\\Users\\\\Cristian.Aparicio\\\\Documents\\\\DISPERSIONES\\\\2024\\\\01. ENERO\\\\QUERIES\\\\SETTLEMENT 2024-01-12.csv',\n",
       " 'C:\\\\Users\\\\Cristian.Aparicio\\\\Documents\\\\DISPERSIONES\\\\2024\\\\01. ENERO\\\\QUERIES\\\\SETTLEMENT 2024-01-13.csv',\n",
       " 'C:\\\\Users\\\\Cristian.Aparicio\\\\Documents\\\\DISPERSIONES\\\\2024\\\\01. ENERO\\\\QUERIES\\\\SETTLEMENT 2024-01-14.csv',\n",
       " 'C:\\\\Users\\\\Cristian.Aparicio\\\\Documents\\\\DISPERSIONES\\\\2024\\\\01. ENERO\\\\QUERIES\\\\SETTLEMENT 2024-01-15.csv',\n",
       " 'C:\\\\Users\\\\Cristian.Aparicio\\\\Documents\\\\DISPERSIONES\\\\2024\\\\01. ENERO\\\\QUERIES\\\\SETTLEMENT 2024-01-16.csv',\n",
       " 'C:\\\\Users\\\\Cristian.Aparicio\\\\Documents\\\\DISPERSIONES\\\\2024\\\\01. ENERO\\\\QUERIES\\\\SETTLEMENT 2024-01-17.csv',\n",
       " 'C:\\\\Users\\\\Cristian.Aparicio\\\\Documents\\\\DISPERSIONES\\\\2024\\\\01. ENERO\\\\QUERIES\\\\SETTLEMENT 2024-01-18.csv',\n",
       " 'C:\\\\Users\\\\Cristian.Aparicio\\\\Documents\\\\DISPERSIONES\\\\2024\\\\01. ENERO\\\\QUERIES\\\\SETTLEMENT 2024-01-19.csv',\n",
       " 'C:\\\\Users\\\\Cristian.Aparicio\\\\Documents\\\\DISPERSIONES\\\\2024\\\\01. ENERO\\\\QUERIES\\\\SETTLEMENT 2024-01-20.csv',\n",
       " 'C:\\\\Users\\\\Cristian.Aparicio\\\\Documents\\\\DISPERSIONES\\\\2024\\\\01. ENERO\\\\QUERIES\\\\SETTLEMENT 2024-01-21.csv',\n",
       " 'C:\\\\Users\\\\Cristian.Aparicio\\\\Documents\\\\DISPERSIONES\\\\2024\\\\01. ENERO\\\\QUERIES\\\\SETTLEMENT 2024-01-22.csv',\n",
       " 'C:\\\\Users\\\\Cristian.Aparicio\\\\Documents\\\\DISPERSIONES\\\\2024\\\\01. ENERO\\\\QUERIES\\\\SETTLEMENT 2024-01-23.csv',\n",
       " 'C:\\\\Users\\\\Cristian.Aparicio\\\\Documents\\\\DISPERSIONES\\\\2024\\\\01. ENERO\\\\QUERIES\\\\SETTLEMENT 2024-01-24.csv',\n",
       " 'C:\\\\Users\\\\Cristian.Aparicio\\\\Documents\\\\DISPERSIONES\\\\2024\\\\01. ENERO\\\\QUERIES\\\\SETTLEMENT 2024-01-25.csv',\n",
       " 'C:\\\\Users\\\\Cristian.Aparicio\\\\Documents\\\\DISPERSIONES\\\\2024\\\\01. ENERO\\\\QUERIES\\\\SETTLEMENT 2024-01-26.csv',\n",
       " 'C:\\\\Users\\\\Cristian.Aparicio\\\\Documents\\\\DISPERSIONES\\\\2024\\\\01. ENERO\\\\QUERIES\\\\SETTLEMENT 2024-01-27.csv',\n",
       " 'C:\\\\Users\\\\Cristian.Aparicio\\\\Documents\\\\DISPERSIONES\\\\2024\\\\01. ENERO\\\\QUERIES\\\\SETTLEMENT 2024-01-28.csv',\n",
       " 'C:\\\\Users\\\\Cristian.Aparicio\\\\Documents\\\\DISPERSIONES\\\\2024\\\\01. ENERO\\\\QUERIES\\\\SETTLEMENT 2024-01-29.csv',\n",
       " 'C:\\\\Users\\\\Cristian.Aparicio\\\\Documents\\\\DISPERSIONES\\\\2024\\\\01. ENERO\\\\QUERIES\\\\SETTLEMENT 2024-01-30.csv',\n",
       " 'C:\\\\Users\\\\Cristian.Aparicio\\\\Documents\\\\DISPERSIONES\\\\2024\\\\01. ENERO\\\\QUERIES\\\\SETTLEMENT 2024-01-31.csv']"
      ]
     },
     "execution_count": 8,
     "metadata": {},
     "output_type": "execute_result"
    }
   ],
   "source": [
    "allfiles_fact = glob.glob(r'C:\\Users\\Cristian.Aparicio\\Documents\\DISPERSIONES\\2024\\01. ENERO\\QUERIES\\*.csv', recursive=False)\n",
    "allfiles_fact"
   ]
  },
  {
   "cell_type": "code",
   "execution_count": 9,
   "metadata": {},
   "outputs": [
    {
     "data": {
      "text/html": [
       "<div>\n",
       "<style scoped>\n",
       "    .dataframe tbody tr th:only-of-type {\n",
       "        vertical-align: middle;\n",
       "    }\n",
       "\n",
       "    .dataframe tbody tr th {\n",
       "        vertical-align: top;\n",
       "    }\n",
       "\n",
       "    .dataframe thead th {\n",
       "        text-align: right;\n",
       "    }\n",
       "</style>\n",
       "<table border=\"1\" class=\"dataframe\">\n",
       "  <thead>\n",
       "    <tr style=\"text-align: right;\">\n",
       "      <th></th>\n",
       "      <th>merchant_id</th>\n",
       "      <th>merchant_name</th>\n",
       "      <th>user_email</th>\n",
       "      <th>report_id</th>\n",
       "      <th>report_date_local</th>\n",
       "      <th>total_transactions</th>\n",
       "      <th>total_fees_charged</th>\n",
       "      <th>total_taxes</th>\n",
       "      <th>applied_fees_benefits</th>\n",
       "      <th>applied_taxes_benefits</th>\n",
       "      <th>...</th>\n",
       "      <th>total_retained</th>\n",
       "      <th>tipopago</th>\n",
       "      <th>total_due</th>\n",
       "      <th>type</th>\n",
       "      <th>created_date</th>\n",
       "      <th>created_time</th>\n",
       "      <th>updated_date</th>\n",
       "      <th>updated_time</th>\n",
       "      <th>file_name</th>\n",
       "      <th>Date</th>\n",
       "    </tr>\n",
       "  </thead>\n",
       "  <tbody>\n",
       "  </tbody>\n",
       "</table>\n",
       "<p>0 rows × 27 columns</p>\n",
       "</div>"
      ],
      "text/plain": [
       "Empty DataFrame\n",
       "Columns: [merchant_id, merchant_name, user_email, report_id, report_date_local, total_transactions, total_fees_charged, total_taxes, applied_fees_benefits, applied_taxes_benefits, fee_direct_deposit, taxes_direct_deposit, total_adjustments, total_adjustment_fees_charged, total_adjustment_taxes, cobranza, total_released, total_retained, tipopago, total_due, type, created_date, created_time, updated_date, updated_time, file_name, Date]\n",
       "Index: []\n",
       "\n",
       "[0 rows x 27 columns]"
      ]
     },
     "execution_count": 9,
     "metadata": {},
     "output_type": "execute_result"
    }
   ],
   "source": [
    "fact_current_month = pd.concat([pd.read_csv(f).assign(file_name=os.path.basename(f)) for f in allfiles_fact])\n",
    "fact_current_month['user_email'] = fact_current_month['user_email'].str.lower()\n",
    "fact_current_month['Date'] = fact_current_month[\"file_name\"].str[-14:-4]\n",
    "fact_current_month['Date']= pd.to_datetime(fact_current_month['Date'])\n",
    "fact_current_month['total_transactions'] = fact_current_month['total_transactions'].astype(float)\n",
    "fact_current_month.head()"
   ]
  },
  {
   "cell_type": "code",
   "execution_count": 10,
   "metadata": {},
   "outputs": [
    {
     "data": {
      "text/plain": [
       "(0, 27)"
      ]
     },
     "execution_count": 10,
     "metadata": {},
     "output_type": "execute_result"
    }
   ],
   "source": [
    "fact_current_month.shape"
   ]
  },
  {
   "cell_type": "code",
   "execution_count": 11,
   "metadata": {},
   "outputs": [
    {
     "data": {
      "text/html": [
       "<div>\n",
       "<style scoped>\n",
       "    .dataframe tbody tr th:only-of-type {\n",
       "        vertical-align: middle;\n",
       "    }\n",
       "\n",
       "    .dataframe tbody tr th {\n",
       "        vertical-align: top;\n",
       "    }\n",
       "\n",
       "    .dataframe thead th {\n",
       "        text-align: right;\n",
       "    }\n",
       "</style>\n",
       "<table border=\"1\" class=\"dataframe\">\n",
       "  <thead>\n",
       "    <tr style=\"text-align: right;\">\n",
       "      <th></th>\n",
       "      <th>merchant_id</th>\n",
       "      <th>merchant_name</th>\n",
       "      <th>user_email</th>\n",
       "      <th>report_id</th>\n",
       "      <th>report_date_local</th>\n",
       "      <th>total_transactions</th>\n",
       "      <th>total_fees_charged</th>\n",
       "      <th>total_taxes</th>\n",
       "      <th>applied_fees_benefits</th>\n",
       "      <th>applied_taxes_benefits</th>\n",
       "      <th>...</th>\n",
       "      <th>total_retained</th>\n",
       "      <th>tipopago</th>\n",
       "      <th>total_due</th>\n",
       "      <th>type</th>\n",
       "      <th>created_date</th>\n",
       "      <th>created_time</th>\n",
       "      <th>updated_date</th>\n",
       "      <th>updated_time</th>\n",
       "      <th>file_name</th>\n",
       "      <th>Date</th>\n",
       "    </tr>\n",
       "  </thead>\n",
       "  <tbody>\n",
       "  </tbody>\n",
       "</table>\n",
       "<p>0 rows × 27 columns</p>\n",
       "</div>"
      ],
      "text/plain": [
       "Empty DataFrame\n",
       "Columns: [merchant_id, merchant_name, user_email, report_id, report_date_local, total_transactions, total_fees_charged, total_taxes, applied_fees_benefits, applied_taxes_benefits, fee_direct_deposit, taxes_direct_deposit, total_adjustments, total_adjustment_fees_charged, total_adjustment_taxes, cobranza, total_released, total_retained, tipopago, total_due, type, created_date, created_time, updated_date, updated_time, file_name, Date]\n",
       "Index: []\n",
       "\n",
       "[0 rows x 27 columns]"
      ]
     },
     "execution_count": 11,
     "metadata": {},
     "output_type": "execute_result"
    }
   ],
   "source": [
    "fact_current_month_final = fact_current_month[(fact_current_month['Date'] >= start_date_fact)]\n",
    "fact_current_month_final.head()"
   ]
  },
  {
   "cell_type": "code",
   "execution_count": 12,
   "metadata": {},
   "outputs": [
    {
     "data": {
      "text/plain": [
       "(0, 27)"
      ]
     },
     "execution_count": 12,
     "metadata": {},
     "output_type": "execute_result"
    }
   ],
   "source": [
    "fact_current_month_final.shape"
   ]
  },
  {
   "cell_type": "code",
   "execution_count": 13,
   "metadata": {},
   "outputs": [
    {
     "data": {
      "text/html": [
       "<div>\n",
       "<style scoped>\n",
       "    .dataframe tbody tr th:only-of-type {\n",
       "        vertical-align: middle;\n",
       "    }\n",
       "\n",
       "    .dataframe tbody tr th {\n",
       "        vertical-align: top;\n",
       "    }\n",
       "\n",
       "    .dataframe thead th {\n",
       "        text-align: right;\n",
       "    }\n",
       "</style>\n",
       "<table border=\"1\" class=\"dataframe\">\n",
       "  <thead>\n",
       "    <tr style=\"text-align: right;\">\n",
       "      <th></th>\n",
       "      <th>merchant_id</th>\n",
       "      <th>merchant_name</th>\n",
       "      <th>user_email</th>\n",
       "      <th>report_id</th>\n",
       "      <th>report_date_local</th>\n",
       "      <th>total_transactions</th>\n",
       "      <th>total_fees_charged</th>\n",
       "      <th>total_taxes</th>\n",
       "      <th>applied_fees_benefits</th>\n",
       "      <th>applied_taxes_benefits</th>\n",
       "      <th>...</th>\n",
       "      <th>total_retained</th>\n",
       "      <th>tipopago</th>\n",
       "      <th>total_due</th>\n",
       "      <th>type</th>\n",
       "      <th>created_date</th>\n",
       "      <th>created_time</th>\n",
       "      <th>updated_date</th>\n",
       "      <th>updated_time</th>\n",
       "      <th>file_name</th>\n",
       "      <th>Date</th>\n",
       "    </tr>\n",
       "  </thead>\n",
       "  <tbody>\n",
       "  </tbody>\n",
       "</table>\n",
       "<p>0 rows × 27 columns</p>\n",
       "</div>"
      ],
      "text/plain": [
       "Empty DataFrame\n",
       "Columns: [merchant_id, merchant_name, user_email, report_id, report_date_local, total_transactions, total_fees_charged, total_taxes, applied_fees_benefits, applied_taxes_benefits, fee_direct_deposit, taxes_direct_deposit, total_adjustments, total_adjustment_fees_charged, total_adjustment_taxes, cobranza, total_released, total_retained, tipopago, total_due, type, created_date, created_time, updated_date, updated_time, file_name, Date]\n",
       "Index: []\n",
       "\n",
       "[0 rows x 27 columns]"
      ]
     },
     "execution_count": 13,
     "metadata": {},
     "output_type": "execute_result"
    }
   ],
   "source": [
    "fact_antes_cupones_deferred = pd.concat([fact_current_month_final])\n",
    "fact_antes_cupones_deferred.head()"
   ]
  },
  {
   "cell_type": "code",
   "execution_count": 14,
   "metadata": {},
   "outputs": [
    {
     "data": {
      "text/plain": [
       "(0, 27)"
      ]
     },
     "execution_count": 14,
     "metadata": {},
     "output_type": "execute_result"
    }
   ],
   "source": [
    "fact_antes_cupones_deferred.shape"
   ]
  },
  {
   "cell_type": "code",
   "execution_count": 15,
   "metadata": {},
   "outputs": [
    {
     "data": {
      "text/plain": [
       "<DatetimeArray>\n",
       "[]\n",
       "Length: 0, dtype: datetime64[ns]"
      ]
     },
     "execution_count": 15,
     "metadata": {},
     "output_type": "execute_result"
    }
   ],
   "source": [
    "fact_antes_cupones_deferred['Date'].unique()"
   ]
  },
  {
   "cell_type": "code",
   "execution_count": 16,
   "metadata": {},
   "outputs": [
    {
     "data": {
      "text/plain": [
       "array([], dtype=float64)"
      ]
     },
     "execution_count": 16,
     "metadata": {},
     "output_type": "execute_result"
    }
   ],
   "source": [
    "fact_antes_cupones_deferred['type_data'] = fact_antes_cupones_deferred['total_transactions'].apply(lambda x: type(x).__name__)\n",
    "fact_antes_cupones_deferred['type_data'].unique()"
   ]
  },
  {
   "cell_type": "code",
   "execution_count": 17,
   "metadata": {},
   "outputs": [
    {
     "data": {
      "text/html": [
       "<div>\n",
       "<style scoped>\n",
       "    .dataframe tbody tr th:only-of-type {\n",
       "        vertical-align: middle;\n",
       "    }\n",
       "\n",
       "    .dataframe tbody tr th {\n",
       "        vertical-align: top;\n",
       "    }\n",
       "\n",
       "    .dataframe thead th {\n",
       "        text-align: right;\n",
       "    }\n",
       "</style>\n",
       "<table border=\"1\" class=\"dataframe\">\n",
       "  <thead>\n",
       "    <tr style=\"text-align: right;\">\n",
       "      <th></th>\n",
       "      <th>merchant_id</th>\n",
       "      <th>merchant_name</th>\n",
       "      <th>user_email</th>\n",
       "      <th>report_id</th>\n",
       "      <th>report_date_local</th>\n",
       "      <th>total_transactions</th>\n",
       "      <th>total_fees_charged</th>\n",
       "      <th>total_taxes</th>\n",
       "      <th>applied_fees_benefits</th>\n",
       "      <th>applied_taxes_benefits</th>\n",
       "      <th>...</th>\n",
       "      <th>tipopago</th>\n",
       "      <th>total_due</th>\n",
       "      <th>type</th>\n",
       "      <th>created_date</th>\n",
       "      <th>created_time</th>\n",
       "      <th>updated_date</th>\n",
       "      <th>updated_time</th>\n",
       "      <th>file_name</th>\n",
       "      <th>Date</th>\n",
       "      <th>type_data</th>\n",
       "    </tr>\n",
       "  </thead>\n",
       "  <tbody>\n",
       "  </tbody>\n",
       "</table>\n",
       "<p>0 rows × 28 columns</p>\n",
       "</div>"
      ],
      "text/plain": [
       "Empty DataFrame\n",
       "Columns: [merchant_id, merchant_name, user_email, report_id, report_date_local, total_transactions, total_fees_charged, total_taxes, applied_fees_benefits, applied_taxes_benefits, fee_direct_deposit, taxes_direct_deposit, total_adjustments, total_adjustment_fees_charged, total_adjustment_taxes, cobranza, total_released, total_retained, tipopago, total_due, type, created_date, created_time, updated_date, updated_time, file_name, Date, type_data]\n",
       "Index: []\n",
       "\n",
       "[0 rows x 28 columns]"
      ]
     },
     "execution_count": 17,
     "metadata": {},
     "output_type": "execute_result"
    }
   ],
   "source": [
    "fact_antes_cupones_deferred[fact_antes_cupones_deferred.type_data == 'datetime']"
   ]
  },
  {
   "cell_type": "code",
   "execution_count": 18,
   "metadata": {},
   "outputs": [
    {
     "data": {
      "text/plain": [
       "merchant_id                              object\n",
       "merchant_name                            object\n",
       "user_email                               object\n",
       "report_id                                object\n",
       "report_date_local                        object\n",
       "total_transactions                      float64\n",
       "total_fees_charged                       object\n",
       "total_taxes                              object\n",
       "applied_fees_benefits                    object\n",
       "applied_taxes_benefits                   object\n",
       "fee_direct_deposit                       object\n",
       "taxes_direct_deposit                     object\n",
       "total_adjustments                        object\n",
       "total_adjustment_fees_charged            object\n",
       "total_adjustment_taxes                   object\n",
       "cobranza                                 object\n",
       "total_released                           object\n",
       "total_retained                           object\n",
       "tipopago                                 object\n",
       "total_due                                object\n",
       "type                                     object\n",
       "created_date                             object\n",
       "created_time                             object\n",
       "updated_date                             object\n",
       "updated_time                             object\n",
       "file_name                                object\n",
       "Date                             datetime64[ns]\n",
       "type_data                               float64\n",
       "dtype: object"
      ]
     },
     "execution_count": 18,
     "metadata": {},
     "output_type": "execute_result"
    }
   ],
   "source": [
    "fact_antes_cupones_deferred.dtypes"
   ]
  },
  {
   "cell_type": "code",
   "execution_count": 19,
   "metadata": {},
   "outputs": [
    {
     "data": {
      "text/plain": [
       "(0, 28)"
      ]
     },
     "execution_count": 19,
     "metadata": {},
     "output_type": "execute_result"
    }
   ],
   "source": [
    "fact_antes_cupones_deferred.shape"
   ]
  },
  {
   "cell_type": "markdown",
   "metadata": {},
   "source": [
    "# CUPONES"
   ]
  },
  {
   "cell_type": "code",
   "execution_count": 20,
   "metadata": {},
   "outputs": [
    {
     "data": {
      "text/plain": [
       "['C:\\\\Users\\\\Cristian.Aparicio\\\\Documents\\\\FACTURACION\\\\2024\\\\01. ENERO\\\\CUPONES_MM.csv']"
      ]
     },
     "execution_count": 20,
     "metadata": {},
     "output_type": "execute_result"
    }
   ],
   "source": [
    "allcupon_fact = glob.glob(r'C:\\Users\\Cristian.Aparicio\\Documents\\FACTURACION\\2024\\01. ENERO\\CUPONES*.csv', recursive=False)\n",
    "allcupon_fact"
   ]
  },
  {
   "cell_type": "code",
   "execution_count": 21,
   "metadata": {},
   "outputs": [
    {
     "data": {
      "text/html": [
       "<div>\n",
       "<style scoped>\n",
       "    .dataframe tbody tr th:only-of-type {\n",
       "        vertical-align: middle;\n",
       "    }\n",
       "\n",
       "    .dataframe tbody tr th {\n",
       "        vertical-align: top;\n",
       "    }\n",
       "\n",
       "    .dataframe thead th {\n",
       "        text-align: right;\n",
       "    }\n",
       "</style>\n",
       "<table border=\"1\" class=\"dataframe\">\n",
       "  <thead>\n",
       "    <tr style=\"text-align: right;\">\n",
       "      <th></th>\n",
       "      <th>total_refunded</th>\n",
       "      <th>pending</th>\n",
       "      <th>number_transactions</th>\n",
       "      <th>merchant_token</th>\n",
       "      <th>fee_refund_id</th>\n",
       "      <th>created_at</th>\n",
       "      <th>source</th>\n",
       "      <th>amount</th>\n",
       "      <th>report_id</th>\n",
       "      <th>file_name</th>\n",
       "    </tr>\n",
       "  </thead>\n",
       "  <tbody>\n",
       "    <tr>\n",
       "      <th>0</th>\n",
       "      <td>108.00</td>\n",
       "      <td>0.00</td>\n",
       "      <td>1</td>\n",
       "      <td>42378c70-e988-4f79-92be-a6f463ac71c6</td>\n",
       "      <td>c86928f6-1f33-41b3-8f17-641277b03f40</td>\n",
       "      <td>2022-08-02T09:09:19Z</td>\n",
       "      <td>LOYALTY</td>\n",
       "      <td>108.00</td>\n",
       "      <td>9K2YDTBBR</td>\n",
       "      <td>CUPONES_MM.csv</td>\n",
       "    </tr>\n",
       "    <tr>\n",
       "      <th>1</th>\n",
       "      <td>169.13</td>\n",
       "      <td>122.87</td>\n",
       "      <td>1</td>\n",
       "      <td>0f2dd322-f3af-4681-aab2-13a2fb17028c</td>\n",
       "      <td>ef10ea37-3296-43f5-a654-fa20d9713806</td>\n",
       "      <td>2021-11-10T08:11:59Z</td>\n",
       "      <td>LOYALTY</td>\n",
       "      <td>292.00</td>\n",
       "      <td>27JDTXYSQ</td>\n",
       "      <td>CUPONES_MM.csv</td>\n",
       "    </tr>\n",
       "    <tr>\n",
       "      <th>2</th>\n",
       "      <td>20.88</td>\n",
       "      <td>87.12</td>\n",
       "      <td>1</td>\n",
       "      <td>764289ae-5d12-4f9a-93bd-42c3fe882329</td>\n",
       "      <td>36cd5fc9-2e33-49cc-9b95-c509e49a9ee7</td>\n",
       "      <td>2022-07-17T09:21:33Z</td>\n",
       "      <td>LOYALTY</td>\n",
       "      <td>108.00</td>\n",
       "      <td>D4884FK6T</td>\n",
       "      <td>CUPONES_MM.csv</td>\n",
       "    </tr>\n",
       "    <tr>\n",
       "      <th>3</th>\n",
       "      <td>20.88</td>\n",
       "      <td>271.12</td>\n",
       "      <td>1</td>\n",
       "      <td>0722e81b-a023-4f39-86e2-85effb35de53</td>\n",
       "      <td>71ce72ab-ef80-436f-9f8f-e34cbda29706</td>\n",
       "      <td>2021-12-19T08:08:04Z</td>\n",
       "      <td>LOYALTY</td>\n",
       "      <td>292.00</td>\n",
       "      <td>FK9S988HN</td>\n",
       "      <td>CUPONES_MM.csv</td>\n",
       "    </tr>\n",
       "    <tr>\n",
       "      <th>4</th>\n",
       "      <td>96.05</td>\n",
       "      <td>11.95</td>\n",
       "      <td>1</td>\n",
       "      <td>520b2712-9304-4729-84f1-01fbfdc0c57f</td>\n",
       "      <td>8e35c7df-dd74-4afe-a4a9-c29847b5e266</td>\n",
       "      <td>2022-07-27T08:27:14Z</td>\n",
       "      <td>LOYALTY</td>\n",
       "      <td>108.00</td>\n",
       "      <td>6MR92D5QG</td>\n",
       "      <td>CUPONES_MM.csv</td>\n",
       "    </tr>\n",
       "  </tbody>\n",
       "</table>\n",
       "</div>"
      ],
      "text/plain": [
       "   total_refunded  pending  number_transactions  \\\n",
       "0          108.00     0.00                    1   \n",
       "1          169.13   122.87                    1   \n",
       "2           20.88    87.12                    1   \n",
       "3           20.88   271.12                    1   \n",
       "4           96.05    11.95                    1   \n",
       "\n",
       "                         merchant_token                         fee_refund_id  \\\n",
       "0  42378c70-e988-4f79-92be-a6f463ac71c6  c86928f6-1f33-41b3-8f17-641277b03f40   \n",
       "1  0f2dd322-f3af-4681-aab2-13a2fb17028c  ef10ea37-3296-43f5-a654-fa20d9713806   \n",
       "2  764289ae-5d12-4f9a-93bd-42c3fe882329  36cd5fc9-2e33-49cc-9b95-c509e49a9ee7   \n",
       "3  0722e81b-a023-4f39-86e2-85effb35de53  71ce72ab-ef80-436f-9f8f-e34cbda29706   \n",
       "4  520b2712-9304-4729-84f1-01fbfdc0c57f  8e35c7df-dd74-4afe-a4a9-c29847b5e266   \n",
       "\n",
       "             created_at   source  amount  report_id       file_name  \n",
       "0  2022-08-02T09:09:19Z  LOYALTY  108.00  9K2YDTBBR  CUPONES_MM.csv  \n",
       "1  2021-11-10T08:11:59Z  LOYALTY  292.00  27JDTXYSQ  CUPONES_MM.csv  \n",
       "2  2022-07-17T09:21:33Z  LOYALTY  108.00  D4884FK6T  CUPONES_MM.csv  \n",
       "3  2021-12-19T08:08:04Z  LOYALTY  292.00  FK9S988HN  CUPONES_MM.csv  \n",
       "4  2022-07-27T08:27:14Z  LOYALTY  108.00  6MR92D5QG  CUPONES_MM.csv  "
      ]
     },
     "execution_count": 21,
     "metadata": {},
     "output_type": "execute_result"
    }
   ],
   "source": [
    "cupon_current_month = pd.concat([pd.read_csv(f,dtype={'report_id':object})\n",
    "                                 .assign(file_name=os.path.basename(f)) for f in allcupon_fact])\n",
    "cupon_current_month.columns = cupon_current_month.columns.str.strip().str.lower()\n",
    "cupon_current_month.head()"
   ]
  },
  {
   "cell_type": "code",
   "execution_count": 22,
   "metadata": {},
   "outputs": [
    {
     "data": {
      "text/plain": [
       "(2927, 10)"
      ]
     },
     "execution_count": 22,
     "metadata": {},
     "output_type": "execute_result"
    }
   ],
   "source": [
    "cupon_current_month.shape"
   ]
  },
  {
   "cell_type": "markdown",
   "metadata": {},
   "source": [
    "# IDENTIFICACION DE CUPONES"
   ]
  },
  {
   "cell_type": "code",
   "execution_count": 23,
   "metadata": {},
   "outputs": [
    {
     "data": {
      "text/html": [
       "<div>\n",
       "<style scoped>\n",
       "    .dataframe tbody tr th:only-of-type {\n",
       "        vertical-align: middle;\n",
       "    }\n",
       "\n",
       "    .dataframe tbody tr th {\n",
       "        vertical-align: top;\n",
       "    }\n",
       "\n",
       "    .dataframe thead th {\n",
       "        text-align: right;\n",
       "    }\n",
       "</style>\n",
       "<table border=\"1\" class=\"dataframe\">\n",
       "  <thead>\n",
       "    <tr style=\"text-align: right;\">\n",
       "      <th></th>\n",
       "      <th>merchant_id</th>\n",
       "      <th>merchant_name</th>\n",
       "      <th>user_email</th>\n",
       "      <th>report_date_local</th>\n",
       "      <th>total_transactions</th>\n",
       "      <th>total_fees_charged</th>\n",
       "      <th>total_taxes</th>\n",
       "      <th>applied_fees_benefits</th>\n",
       "      <th>applied_taxes_benefits</th>\n",
       "      <th>fee_direct_deposit</th>\n",
       "      <th>...</th>\n",
       "      <th>updated_time</th>\n",
       "      <th>file_name</th>\n",
       "      <th>Date</th>\n",
       "      <th>type_data</th>\n",
       "      <th>report_id</th>\n",
       "      <th>total_refunded</th>\n",
       "      <th>pending</th>\n",
       "      <th>amount</th>\n",
       "      <th>source</th>\n",
       "      <th>total_benefits</th>\n",
       "    </tr>\n",
       "  </thead>\n",
       "  <tbody>\n",
       "  </tbody>\n",
       "</table>\n",
       "<p>0 rows × 33 columns</p>\n",
       "</div>"
      ],
      "text/plain": [
       "Empty DataFrame\n",
       "Columns: [merchant_id, merchant_name, user_email, report_date_local, total_transactions, total_fees_charged, total_taxes, applied_fees_benefits, applied_taxes_benefits, fee_direct_deposit, taxes_direct_deposit, total_adjustments, total_adjustment_fees_charged, total_adjustment_taxes, cobranza, total_released, total_retained, tipopago, total_due, type, created_date, created_time, updated_date, updated_time, file_name, Date, type_data, report_id, total_refunded, pending, amount, source, total_benefits]\n",
       "Index: []\n",
       "\n",
       "[0 rows x 33 columns]"
      ]
     },
     "execution_count": 23,
     "metadata": {},
     "output_type": "execute_result"
    }
   ],
   "source": [
    "fact_cupones = fact_antes_cupones_deferred.merge(cupon_current_month[['report_id','total_refunded','pending','amount',\n",
    "                                              'source']] ,on='report_id', how='left')\n",
    "fact_cupones['total_benefits'] = fact_cupones['applied_fees_benefits'] + fact_cupones['applied_taxes_benefits']\n",
    "fact_cupones.loc[(fact_cupones['applied_fees_benefits'] != 0) & (fact_cupones['source']!= 'LOYALTY'), 'source'] = 'TOP_UPS'\n",
    "fact_cupones.head()"
   ]
  },
  {
   "cell_type": "code",
   "execution_count": 24,
   "metadata": {},
   "outputs": [
    {
     "data": {
      "text/plain": [
       "array([], dtype=object)"
      ]
     },
     "execution_count": 24,
     "metadata": {},
     "output_type": "execute_result"
    }
   ],
   "source": [
    "fact_cupones['source'].unique()"
   ]
  },
  {
   "cell_type": "code",
   "execution_count": 25,
   "metadata": {},
   "outputs": [
    {
     "data": {
      "text/plain": [
       "(0, 33)"
      ]
     },
     "execution_count": 25,
     "metadata": {},
     "output_type": "execute_result"
    }
   ],
   "source": [
    "fact_cupones.shape"
   ]
  },
  {
   "cell_type": "markdown",
   "metadata": {},
   "source": [
    "# SEPARACION DE TOPUPS Y CUPON LOYALTY"
   ]
  },
  {
   "cell_type": "markdown",
   "metadata": {},
   "source": [
    "### TOPUPS"
   ]
  },
  {
   "cell_type": "code",
   "execution_count": 26,
   "metadata": {},
   "outputs": [
    {
     "data": {
      "text/html": [
       "<div>\n",
       "<style scoped>\n",
       "    .dataframe tbody tr th:only-of-type {\n",
       "        vertical-align: middle;\n",
       "    }\n",
       "\n",
       "    .dataframe tbody tr th {\n",
       "        vertical-align: top;\n",
       "    }\n",
       "\n",
       "    .dataframe thead th {\n",
       "        text-align: right;\n",
       "    }\n",
       "</style>\n",
       "<table border=\"1\" class=\"dataframe\">\n",
       "  <thead>\n",
       "    <tr style=\"text-align: right;\">\n",
       "      <th></th>\n",
       "      <th>merchant_id</th>\n",
       "      <th>merchant_name</th>\n",
       "      <th>user_email</th>\n",
       "      <th>report_date_local</th>\n",
       "      <th>total_transactions</th>\n",
       "      <th>total_fees_charged</th>\n",
       "      <th>total_taxes</th>\n",
       "      <th>applied_fees_benefits</th>\n",
       "      <th>applied_taxes_benefits</th>\n",
       "      <th>fee_direct_deposit</th>\n",
       "      <th>...</th>\n",
       "      <th>updated_time</th>\n",
       "      <th>file_name</th>\n",
       "      <th>Date</th>\n",
       "      <th>type_data</th>\n",
       "      <th>report_id</th>\n",
       "      <th>total_refunded</th>\n",
       "      <th>pending</th>\n",
       "      <th>amount</th>\n",
       "      <th>source</th>\n",
       "      <th>total_benefits</th>\n",
       "    </tr>\n",
       "  </thead>\n",
       "  <tbody>\n",
       "  </tbody>\n",
       "</table>\n",
       "<p>0 rows × 33 columns</p>\n",
       "</div>"
      ],
      "text/plain": [
       "Empty DataFrame\n",
       "Columns: [merchant_id, merchant_name, user_email, report_date_local, total_transactions, total_fees_charged, total_taxes, applied_fees_benefits, applied_taxes_benefits, fee_direct_deposit, taxes_direct_deposit, total_adjustments, total_adjustment_fees_charged, total_adjustment_taxes, cobranza, total_released, total_retained, tipopago, total_due, type, created_date, created_time, updated_date, updated_time, file_name, Date, type_data, report_id, total_refunded, pending, amount, source, total_benefits]\n",
       "Index: []\n",
       "\n",
       "[0 rows x 33 columns]"
      ]
     },
     "execution_count": 26,
     "metadata": {},
     "output_type": "execute_result"
    }
   ],
   "source": [
    "fact_topups_benefits = fact_cupones[(fact_cupones['source'] == 'TOP_UPS')]\n",
    "fact_topups_benefits.head()"
   ]
  },
  {
   "cell_type": "code",
   "execution_count": 27,
   "metadata": {},
   "outputs": [
    {
     "data": {
      "text/plain": [
       "(0, 33)"
      ]
     },
     "execution_count": 27,
     "metadata": {},
     "output_type": "execute_result"
    }
   ],
   "source": [
    "fact_topups_benefits.shape"
   ]
  },
  {
   "cell_type": "code",
   "execution_count": 28,
   "metadata": {},
   "outputs": [],
   "source": [
    "fact_topups_benefits.to_excel('top_ups_esquema_comision.xlsx')"
   ]
  },
  {
   "cell_type": "code",
   "execution_count": 29,
   "metadata": {},
   "outputs": [
    {
     "name": "stderr",
     "output_type": "stream",
     "text": [
      "C:\\Users\\Cristian.Aparicio\\AppData\\Local\\Temp\\ipykernel_16640\\2659983397.py:1: FutureWarning: The provided callable <function sum at 0x0000012B6DC7EAF0> is currently using DataFrameGroupBy.sum. In a future version of pandas, the provided callable will be used directly. To keep current behavior pass the string \"sum\" instead.\n",
      "  pivot_topups_benefits = pd.pivot_table(fact_topups_benefits,index=['report_id'],values=['applied_fees_benefits',\n"
     ]
    },
    {
     "data": {
      "text/html": [
       "<div>\n",
       "<style scoped>\n",
       "    .dataframe tbody tr th:only-of-type {\n",
       "        vertical-align: middle;\n",
       "    }\n",
       "\n",
       "    .dataframe tbody tr th {\n",
       "        vertical-align: top;\n",
       "    }\n",
       "\n",
       "    .dataframe thead th {\n",
       "        text-align: right;\n",
       "    }\n",
       "</style>\n",
       "<table border=\"1\" class=\"dataframe\">\n",
       "  <thead>\n",
       "    <tr style=\"text-align: right;\">\n",
       "      <th></th>\n",
       "      <th>report_id</th>\n",
       "    </tr>\n",
       "  </thead>\n",
       "  <tbody>\n",
       "  </tbody>\n",
       "</table>\n",
       "</div>"
      ],
      "text/plain": [
       "Empty DataFrame\n",
       "Columns: [report_id]\n",
       "Index: []"
      ]
     },
     "execution_count": 29,
     "metadata": {},
     "output_type": "execute_result"
    }
   ],
   "source": [
    "pivot_topups_benefits = pd.pivot_table(fact_topups_benefits,index=['report_id'],values=['applied_fees_benefits',\n",
    "                                                                                        'applied_taxes_benefits'],\n",
    "                                       aggfunc=np.sum,margins=False).reset_index()\n",
    "pivot_topups_benefits.rename(columns ={'applied_fees_benefits':'applied_fees_benefits_topups',\n",
    "                                      'applied_taxes_benefits':'applied_taxes_benefits_topups'},inplace=True)\n",
    "pivot_topups_benefits.head()"
   ]
  },
  {
   "cell_type": "code",
   "execution_count": 30,
   "metadata": {},
   "outputs": [
    {
     "data": {
      "text/plain": [
       "(0, 1)"
      ]
     },
     "execution_count": 30,
     "metadata": {},
     "output_type": "execute_result"
    }
   ],
   "source": [
    "pivot_topups_benefits.shape"
   ]
  },
  {
   "cell_type": "markdown",
   "metadata": {},
   "source": [
    "### CUPONES"
   ]
  },
  {
   "cell_type": "code",
   "execution_count": 31,
   "metadata": {},
   "outputs": [
    {
     "data": {
      "text/html": [
       "<div>\n",
       "<style scoped>\n",
       "    .dataframe tbody tr th:only-of-type {\n",
       "        vertical-align: middle;\n",
       "    }\n",
       "\n",
       "    .dataframe tbody tr th {\n",
       "        vertical-align: top;\n",
       "    }\n",
       "\n",
       "    .dataframe thead th {\n",
       "        text-align: right;\n",
       "    }\n",
       "</style>\n",
       "<table border=\"1\" class=\"dataframe\">\n",
       "  <thead>\n",
       "    <tr style=\"text-align: right;\">\n",
       "      <th></th>\n",
       "      <th>merchant_id</th>\n",
       "      <th>merchant_name</th>\n",
       "      <th>user_email</th>\n",
       "      <th>report_date_local</th>\n",
       "      <th>total_transactions</th>\n",
       "      <th>total_fees_charged</th>\n",
       "      <th>total_taxes</th>\n",
       "      <th>applied_fees_benefits</th>\n",
       "      <th>applied_taxes_benefits</th>\n",
       "      <th>fee_direct_deposit</th>\n",
       "      <th>...</th>\n",
       "      <th>updated_time</th>\n",
       "      <th>file_name</th>\n",
       "      <th>Date</th>\n",
       "      <th>type_data</th>\n",
       "      <th>report_id</th>\n",
       "      <th>total_refunded</th>\n",
       "      <th>pending</th>\n",
       "      <th>amount</th>\n",
       "      <th>source</th>\n",
       "      <th>total_benefits</th>\n",
       "    </tr>\n",
       "  </thead>\n",
       "  <tbody>\n",
       "  </tbody>\n",
       "</table>\n",
       "<p>0 rows × 33 columns</p>\n",
       "</div>"
      ],
      "text/plain": [
       "Empty DataFrame\n",
       "Columns: [merchant_id, merchant_name, user_email, report_date_local, total_transactions, total_fees_charged, total_taxes, applied_fees_benefits, applied_taxes_benefits, fee_direct_deposit, taxes_direct_deposit, total_adjustments, total_adjustment_fees_charged, total_adjustment_taxes, cobranza, total_released, total_retained, tipopago, total_due, type, created_date, created_time, updated_date, updated_time, file_name, Date, type_data, report_id, total_refunded, pending, amount, source, total_benefits]\n",
       "Index: []\n",
       "\n",
       "[0 rows x 33 columns]"
      ]
     },
     "execution_count": 31,
     "metadata": {},
     "output_type": "execute_result"
    }
   ],
   "source": [
    "fact_coupons_benefits = fact_cupones[(fact_cupones['source'] == 'LOYALTY')]\n",
    "fact_coupons_benefits.head()"
   ]
  },
  {
   "cell_type": "code",
   "execution_count": 32,
   "metadata": {},
   "outputs": [
    {
     "data": {
      "text/plain": [
       "(0, 33)"
      ]
     },
     "execution_count": 32,
     "metadata": {},
     "output_type": "execute_result"
    }
   ],
   "source": [
    "fact_coupons_benefits.shape"
   ]
  },
  {
   "cell_type": "code",
   "execution_count": 33,
   "metadata": {},
   "outputs": [
    {
     "name": "stderr",
     "output_type": "stream",
     "text": [
      "C:\\Users\\Cristian.Aparicio\\AppData\\Local\\Temp\\ipykernel_16640\\177961379.py:1: FutureWarning: The provided callable <function sum at 0x0000012B6DC7EAF0> is currently using DataFrameGroupBy.sum. In a future version of pandas, the provided callable will be used directly. To keep current behavior pass the string \"sum\" instead.\n",
      "  pivot_coupons_benefits = pd.pivot_table(fact_coupons_benefits,index=['report_id'],values=['applied_fees_benefits',\n"
     ]
    },
    {
     "data": {
      "text/html": [
       "<div>\n",
       "<style scoped>\n",
       "    .dataframe tbody tr th:only-of-type {\n",
       "        vertical-align: middle;\n",
       "    }\n",
       "\n",
       "    .dataframe tbody tr th {\n",
       "        vertical-align: top;\n",
       "    }\n",
       "\n",
       "    .dataframe thead th {\n",
       "        text-align: right;\n",
       "    }\n",
       "</style>\n",
       "<table border=\"1\" class=\"dataframe\">\n",
       "  <thead>\n",
       "    <tr style=\"text-align: right;\">\n",
       "      <th></th>\n",
       "      <th>report_id</th>\n",
       "    </tr>\n",
       "  </thead>\n",
       "  <tbody>\n",
       "  </tbody>\n",
       "</table>\n",
       "</div>"
      ],
      "text/plain": [
       "Empty DataFrame\n",
       "Columns: [report_id]\n",
       "Index: []"
      ]
     },
     "execution_count": 33,
     "metadata": {},
     "output_type": "execute_result"
    }
   ],
   "source": [
    "pivot_coupons_benefits = pd.pivot_table(fact_coupons_benefits,index=['report_id'],values=['applied_fees_benefits',\n",
    "                                                                                        'applied_taxes_benefits'],\n",
    "                                       aggfunc=np.sum,margins=False).reset_index()\n",
    "pivot_coupons_benefits.rename(columns ={'applied_fees_benefits':'applied_fees_benefits_coupons',\n",
    "                                      'applied_taxes_benefits':'applied_taxes_benefits_coupons'},inplace=True)\n",
    "pivot_coupons_benefits.head()"
   ]
  },
  {
   "cell_type": "code",
   "execution_count": 34,
   "metadata": {},
   "outputs": [
    {
     "data": {
      "text/plain": [
       "(0, 1)"
      ]
     },
     "execution_count": 34,
     "metadata": {},
     "output_type": "execute_result"
    }
   ],
   "source": [
    "pivot_coupons_benefits.shape"
   ]
  },
  {
   "cell_type": "markdown",
   "metadata": {},
   "source": [
    "# UNION FACTURACIÓN & CUPONES"
   ]
  },
  {
   "cell_type": "code",
   "execution_count": 35,
   "metadata": {},
   "outputs": [],
   "source": [
    "# fact_cupones_1 = fact_antes_cupones_deferred.merge(pivot_topups_benefits[['report_id','applied_fees_benefits_topups',\n",
    "#                                                                   'applied_taxes_benefits_topups']] ,on='report_id', how='left')\n",
    "# fact_cupones_2 = fact_cupones_1.merge(pivot_coupons_benefits[['report_id','applied_fees_benefits_coupons',\n",
    "#                                                                   'applied_taxes_benefits_coupons']] ,on='report_id', how='left')\n",
    "# fact_cupones_2.fillna(0,inplace=True)"
   ]
  },
  {
   "cell_type": "code",
   "execution_count": 36,
   "metadata": {},
   "outputs": [],
   "source": [
    "# fact_cupones_2.head()"
   ]
  },
  {
   "cell_type": "code",
   "execution_count": 37,
   "metadata": {},
   "outputs": [],
   "source": [
    "# fact_cupones_2.shape"
   ]
  },
  {
   "cell_type": "code",
   "execution_count": 38,
   "metadata": {},
   "outputs": [],
   "source": [
    "# fact_cupones_2.columns"
   ]
  },
  {
   "cell_type": "code",
   "execution_count": 39,
   "metadata": {},
   "outputs": [],
   "source": [
    "fact_cupones_2 = fact_antes_cupones_deferred\n",
    "fact_cupones_2['applied_fees_benefits'] = 0\n",
    "fact_cupones_2['applied_taxes_benefits'] = 0\n",
    "fact_cupones_2['applied_fees_benefits_topups'] = 0\n",
    "fact_cupones_2['applied_taxes_benefits_topups'] = 0\n",
    "fact_cupones_2['applied_fees_benefits_coupons'] = 0\n",
    "fact_cupones_2['applied_taxes_benefits_coupons'] = 0"
   ]
  },
  {
   "cell_type": "markdown",
   "metadata": {},
   "source": [
    "# FACTURACION PREVIO FINAL"
   ]
  },
  {
   "cell_type": "code",
   "execution_count": 40,
   "metadata": {},
   "outputs": [
    {
     "data": {
      "text/html": [
       "<div>\n",
       "<style scoped>\n",
       "    .dataframe tbody tr th:only-of-type {\n",
       "        vertical-align: middle;\n",
       "    }\n",
       "\n",
       "    .dataframe tbody tr th {\n",
       "        vertical-align: top;\n",
       "    }\n",
       "\n",
       "    .dataframe thead th {\n",
       "        text-align: right;\n",
       "    }\n",
       "</style>\n",
       "<table border=\"1\" class=\"dataframe\">\n",
       "  <thead>\n",
       "    <tr style=\"text-align: right;\">\n",
       "      <th></th>\n",
       "      <th>merchant_id</th>\n",
       "      <th>user_email</th>\n",
       "      <th>report_id</th>\n",
       "      <th>report_date_local</th>\n",
       "      <th>total_transactions</th>\n",
       "      <th>total_fees_charged</th>\n",
       "      <th>total_taxes</th>\n",
       "      <th>applied_fees_benefits</th>\n",
       "      <th>applied_taxes_benefits</th>\n",
       "      <th>applied_fees_benefits_topups</th>\n",
       "      <th>...</th>\n",
       "      <th>total_retained</th>\n",
       "      <th>tipopago</th>\n",
       "      <th>total_due</th>\n",
       "      <th>type</th>\n",
       "      <th>created_date</th>\n",
       "      <th>created_time</th>\n",
       "      <th>updated_date</th>\n",
       "      <th>updated_time</th>\n",
       "      <th>file_name</th>\n",
       "      <th>Date</th>\n",
       "    </tr>\n",
       "  </thead>\n",
       "  <tbody>\n",
       "  </tbody>\n",
       "</table>\n",
       "<p>0 rows × 30 columns</p>\n",
       "</div>"
      ],
      "text/plain": [
       "Empty DataFrame\n",
       "Columns: [merchant_id, user_email, report_id, report_date_local, total_transactions, total_fees_charged, total_taxes, applied_fees_benefits, applied_taxes_benefits, applied_fees_benefits_topups, applied_taxes_benefits_topups, applied_fees_benefits_coupons, applied_taxes_benefits_coupons, fee_direct_deposit, taxes_direct_deposit, total_adjustments, total_adjustment_fees_charged, total_adjustment_taxes, cobranza, total_released, total_retained, tipopago, total_due, type, created_date, created_time, updated_date, updated_time, file_name, Date]\n",
       "Index: []\n",
       "\n",
       "[0 rows x 30 columns]"
      ]
     },
     "execution_count": 40,
     "metadata": {},
     "output_type": "execute_result"
    }
   ],
   "source": [
    "fact = fact_antes_cupones_deferred[['merchant_id','user_email','report_id','report_date_local',\n",
    "                                    'total_transactions','total_fees_charged','total_taxes','applied_fees_benefits',\n",
    "                                    'applied_taxes_benefits','applied_fees_benefits_topups','applied_taxes_benefits_topups',\n",
    "                                    'applied_fees_benefits_coupons','applied_taxes_benefits_coupons','fee_direct_deposit',\n",
    "                                    'taxes_direct_deposit','total_adjustments','total_adjustment_fees_charged',\n",
    "                                    'total_adjustment_taxes','cobranza','total_released','total_retained','tipopago',\n",
    "                                    'total_due','type','created_date','created_time','updated_date','updated_time','file_name',\n",
    "                                    'Date']]\n",
    "fact.head()"
   ]
  },
  {
   "cell_type": "code",
   "execution_count": 41,
   "metadata": {},
   "outputs": [
    {
     "data": {
      "text/plain": [
       "(0, 30)"
      ]
     },
     "execution_count": 41,
     "metadata": {},
     "output_type": "execute_result"
    }
   ],
   "source": [
    "fact.shape"
   ]
  },
  {
   "cell_type": "markdown",
   "metadata": {},
   "source": [
    "# LENDERS"
   ]
  },
  {
   "cell_type": "code",
   "execution_count": 42,
   "metadata": {},
   "outputs": [],
   "source": [
    "start_date_mes = '2024-01-01'\n",
    "# final_date_mes = '2020-10-26'"
   ]
  },
  {
   "cell_type": "code",
   "execution_count": 43,
   "metadata": {},
   "outputs": [
    {
     "data": {
      "text/plain": [
       "['G:\\\\My Drive\\\\RESPALDO-PC\\\\LENDERS\\\\2024\\\\DB\\\\LENDERS DB ENERO 2024.csv']"
      ]
     },
     "execution_count": 43,
     "metadata": {},
     "output_type": "execute_result"
    }
   ],
   "source": [
    "allfiles_lend = glob.glob(r'G:\\My Drive\\RESPALDO-PC\\LENDERS\\2024\\DB\\*.csv', recursive=False)\n",
    "allfiles_lend"
   ]
  },
  {
   "cell_type": "code",
   "execution_count": 44,
   "metadata": {},
   "outputs": [
    {
     "data": {
      "text/html": [
       "<div>\n",
       "<style scoped>\n",
       "    .dataframe tbody tr th:only-of-type {\n",
       "        vertical-align: middle;\n",
       "    }\n",
       "\n",
       "    .dataframe tbody tr th {\n",
       "        vertical-align: top;\n",
       "    }\n",
       "\n",
       "    .dataframe thead th {\n",
       "        text-align: right;\n",
       "    }\n",
       "</style>\n",
       "<table border=\"1\" class=\"dataframe\">\n",
       "  <thead>\n",
       "    <tr style=\"text-align: right;\">\n",
       "      <th></th>\n",
       "      <th>collection_date_local</th>\n",
       "      <th>merchant_token</th>\n",
       "      <th>merchant_id</th>\n",
       "      <th>loan_id</th>\n",
       "      <th>provider_code</th>\n",
       "      <th>collection_origin</th>\n",
       "      <th>source</th>\n",
       "      <th>funded_by</th>\n",
       "      <th>amount</th>\n",
       "      <th>capital</th>\n",
       "      <th>interest</th>\n",
       "      <th>tax</th>\n",
       "      <th>file_name</th>\n",
       "      <th>Date</th>\n",
       "    </tr>\n",
       "  </thead>\n",
       "  <tbody>\n",
       "    <tr>\n",
       "      <th>0</th>\n",
       "      <td>2024-01-01</td>\n",
       "      <td>f58b5759-fe1e-4873-960b-fc24826e5806</td>\n",
       "      <td>db8e1932-f947-4ed5-902f-c95bf38ecb78</td>\n",
       "      <td>d548b161-1470-4f1e-9911-fcbd021fdc31</td>\n",
       "      <td>CLIP</td>\n",
       "      <td>SETTLEMENT</td>\n",
       "      <td>LEDGER</td>\n",
       "      <td>CLIP</td>\n",
       "      <td>3.96</td>\n",
       "      <td>3.04</td>\n",
       "      <td>0.79</td>\n",
       "      <td>0.13</td>\n",
       "      <td>LENDERS DB ENERO 2024.csv</td>\n",
       "      <td>2024-01-01</td>\n",
       "    </tr>\n",
       "    <tr>\n",
       "      <th>1</th>\n",
       "      <td>2024-01-01</td>\n",
       "      <td>8bf626d0-3e8c-474e-9989-881a6032a6e5</td>\n",
       "      <td>5d7c5deb-eed2-4929-9676-5045ceed4b9c</td>\n",
       "      <td>fb60a8d1-26eb-4a41-a29b-0fcea55507d7</td>\n",
       "      <td>CLIP</td>\n",
       "      <td>SETTLEMENT</td>\n",
       "      <td>LEDGER</td>\n",
       "      <td>CLIP</td>\n",
       "      <td>10.06</td>\n",
       "      <td>7.38</td>\n",
       "      <td>2.31</td>\n",
       "      <td>0.37</td>\n",
       "      <td>LENDERS DB ENERO 2024.csv</td>\n",
       "      <td>2024-01-01</td>\n",
       "    </tr>\n",
       "    <tr>\n",
       "      <th>2</th>\n",
       "      <td>2024-01-01</td>\n",
       "      <td>10a8b03d-7dc5-423c-bf8c-d8bd65a58099</td>\n",
       "      <td>56c2d837-a615-4edb-bbd3-8df8ed27fed1</td>\n",
       "      <td>f3038b12-593c-4d5b-a0f1-4c452f4c237b</td>\n",
       "      <td>CLIP</td>\n",
       "      <td>SETTLEMENT</td>\n",
       "      <td>LEDGER</td>\n",
       "      <td>CLIP</td>\n",
       "      <td>22.04</td>\n",
       "      <td>16.94</td>\n",
       "      <td>4.40</td>\n",
       "      <td>0.70</td>\n",
       "      <td>LENDERS DB ENERO 2024.csv</td>\n",
       "      <td>2024-01-01</td>\n",
       "    </tr>\n",
       "    <tr>\n",
       "      <th>3</th>\n",
       "      <td>2024-01-01</td>\n",
       "      <td>9a3ff5ee-a553-452c-bc23-84e6d23dc348</td>\n",
       "      <td>6686286d-00f2-4029-80c7-e53293bcc7cb</td>\n",
       "      <td>d30b8418-508d-4b12-9bca-2718bcff559f</td>\n",
       "      <td>MRP</td>\n",
       "      <td>SETTLEMENT</td>\n",
       "      <td>LEDGER</td>\n",
       "      <td>MRP</td>\n",
       "      <td>7.78</td>\n",
       "      <td>6.98</td>\n",
       "      <td>0.69</td>\n",
       "      <td>0.11</td>\n",
       "      <td>LENDERS DB ENERO 2024.csv</td>\n",
       "      <td>2024-01-01</td>\n",
       "    </tr>\n",
       "    <tr>\n",
       "      <th>4</th>\n",
       "      <td>2024-01-01</td>\n",
       "      <td>bc59619b-5312-40a7-8f17-62d608e3a66d</td>\n",
       "      <td>f646987d-c2a7-4666-8b35-05bbb9323890</td>\n",
       "      <td>afce611c-b1d3-4ceb-9b3a-56323e73db26</td>\n",
       "      <td>R2</td>\n",
       "      <td>SETTLEMENT</td>\n",
       "      <td>LEDGER</td>\n",
       "      <td>R2</td>\n",
       "      <td>5.82</td>\n",
       "      <td>4.17</td>\n",
       "      <td>1.42</td>\n",
       "      <td>0.23</td>\n",
       "      <td>LENDERS DB ENERO 2024.csv</td>\n",
       "      <td>2024-01-01</td>\n",
       "    </tr>\n",
       "  </tbody>\n",
       "</table>\n",
       "</div>"
      ],
      "text/plain": [
       "  collection_date_local                        merchant_token  \\\n",
       "0            2024-01-01  f58b5759-fe1e-4873-960b-fc24826e5806   \n",
       "1            2024-01-01  8bf626d0-3e8c-474e-9989-881a6032a6e5   \n",
       "2            2024-01-01  10a8b03d-7dc5-423c-bf8c-d8bd65a58099   \n",
       "3            2024-01-01  9a3ff5ee-a553-452c-bc23-84e6d23dc348   \n",
       "4            2024-01-01  bc59619b-5312-40a7-8f17-62d608e3a66d   \n",
       "\n",
       "                            merchant_id                               loan_id  \\\n",
       "0  db8e1932-f947-4ed5-902f-c95bf38ecb78  d548b161-1470-4f1e-9911-fcbd021fdc31   \n",
       "1  5d7c5deb-eed2-4929-9676-5045ceed4b9c  fb60a8d1-26eb-4a41-a29b-0fcea55507d7   \n",
       "2  56c2d837-a615-4edb-bbd3-8df8ed27fed1  f3038b12-593c-4d5b-a0f1-4c452f4c237b   \n",
       "3  6686286d-00f2-4029-80c7-e53293bcc7cb  d30b8418-508d-4b12-9bca-2718bcff559f   \n",
       "4  f646987d-c2a7-4666-8b35-05bbb9323890  afce611c-b1d3-4ceb-9b3a-56323e73db26   \n",
       "\n",
       "  provider_code collection_origin  source funded_by  amount  capital  \\\n",
       "0          CLIP        SETTLEMENT  LEDGER      CLIP    3.96     3.04   \n",
       "1          CLIP        SETTLEMENT  LEDGER      CLIP   10.06     7.38   \n",
       "2          CLIP        SETTLEMENT  LEDGER      CLIP   22.04    16.94   \n",
       "3           MRP        SETTLEMENT  LEDGER       MRP    7.78     6.98   \n",
       "4            R2        SETTLEMENT  LEDGER        R2    5.82     4.17   \n",
       "\n",
       "   interest  tax                  file_name        Date  \n",
       "0      0.79 0.13  LENDERS DB ENERO 2024.csv  2024-01-01  \n",
       "1      2.31 0.37  LENDERS DB ENERO 2024.csv  2024-01-01  \n",
       "2      4.40 0.70  LENDERS DB ENERO 2024.csv  2024-01-01  \n",
       "3      0.69 0.11  LENDERS DB ENERO 2024.csv  2024-01-01  \n",
       "4      1.42 0.23  LENDERS DB ENERO 2024.csv  2024-01-01  "
      ]
     },
     "execution_count": 44,
     "metadata": {},
     "output_type": "execute_result"
    }
   ],
   "source": [
    "lender_all = pd.concat([pd.read_csv(f).assign(file_name=os.path.basename(f)) for f in allfiles_lend])\n",
    "lender_all.columns = lender_all.columns.str.strip().str.lower()\n",
    "#lender_all['collection_date_local'] = pd.to_datetime(lender_all['collection_date_local'])\n",
    "lender_all['Date'] = lender_all['collection_date_local']\n",
    "lender_all['funded_by'].fillna('NULL',inplace=True)\n",
    "lender_all.head()"
   ]
  },
  {
   "cell_type": "code",
   "execution_count": 45,
   "metadata": {},
   "outputs": [
    {
     "data": {
      "text/plain": [
       "(1145362, 14)"
      ]
     },
     "execution_count": 45,
     "metadata": {},
     "output_type": "execute_result"
    }
   ],
   "source": [
    "lender_all.shape"
   ]
  },
  {
   "cell_type": "code",
   "execution_count": 46,
   "metadata": {},
   "outputs": [],
   "source": [
    "lender = lender_all[(lender_all['collection_date_local'] >= start_date_mes)]"
   ]
  },
  {
   "cell_type": "code",
   "execution_count": 47,
   "metadata": {},
   "outputs": [
    {
     "data": {
      "text/plain": [
       "['APH', 'AVL', 'CLIP', 'CTO', 'MRP', 'R2']"
      ]
     },
     "execution_count": 47,
     "metadata": {},
     "output_type": "execute_result"
    }
   ],
   "source": [
    "list(sorted(lender['provider_code'].unique()))"
   ]
  },
  {
   "cell_type": "code",
   "execution_count": 48,
   "metadata": {},
   "outputs": [
    {
     "data": {
      "text/plain": [
       "['AVL', 'CLIP', 'CTO', 'MRP', 'NULL', 'R2']"
      ]
     },
     "execution_count": 48,
     "metadata": {},
     "output_type": "execute_result"
    }
   ],
   "source": [
    "list(sorted(lender['funded_by'].unique()))"
   ]
  },
  {
   "cell_type": "code",
   "execution_count": 49,
   "metadata": {},
   "outputs": [
    {
     "data": {
      "text/plain": [
       "['2024-01-01',\n",
       " '2024-01-02',\n",
       " '2024-01-03',\n",
       " '2024-01-04',\n",
       " '2024-01-05',\n",
       " '2024-01-06',\n",
       " '2024-01-07',\n",
       " '2024-01-08',\n",
       " '2024-01-09',\n",
       " '2024-01-10',\n",
       " '2024-01-11',\n",
       " '2024-01-12',\n",
       " '2024-01-13',\n",
       " '2024-01-14',\n",
       " '2024-01-15',\n",
       " '2024-01-16',\n",
       " '2024-01-17',\n",
       " '2024-01-18',\n",
       " '2024-01-19',\n",
       " '2024-01-20',\n",
       " '2024-01-21',\n",
       " '2024-01-22',\n",
       " '2024-01-23',\n",
       " '2024-01-24',\n",
       " '2024-01-25',\n",
       " '2024-01-26',\n",
       " '2024-01-27',\n",
       " '2024-01-28',\n",
       " '2024-01-29',\n",
       " '2024-01-30',\n",
       " '2024-01-31']"
      ]
     },
     "execution_count": 49,
     "metadata": {},
     "output_type": "execute_result"
    }
   ],
   "source": [
    "sorted(lender['Date'].unique())"
   ]
  },
  {
   "cell_type": "markdown",
   "metadata": {},
   "source": [
    "## AMOUNT BY DATE"
   ]
  },
  {
   "cell_type": "code",
   "execution_count": 50,
   "metadata": {},
   "outputs": [
    {
     "name": "stderr",
     "output_type": "stream",
     "text": [
      "C:\\Users\\Cristian.Aparicio\\AppData\\Local\\Temp\\ipykernel_16640\\4083362258.py:1: FutureWarning: The provided callable <function sum at 0x0000012B6DC7EAF0> is currently using DataFrameGroupBy.sum. In a future version of pandas, the provided callable will be used directly. To keep current behavior pass the string \"sum\" instead.\n",
      "  lender_amount_date = pd.pivot_table(lender,index=[\"Date\", \"provider_code\",'funded_by'],values=['amount','capital',\n"
     ]
    },
    {
     "data": {
      "text/html": [
       "<div>\n",
       "<style scoped>\n",
       "    .dataframe tbody tr th:only-of-type {\n",
       "        vertical-align: middle;\n",
       "    }\n",
       "\n",
       "    .dataframe tbody tr th {\n",
       "        vertical-align: top;\n",
       "    }\n",
       "\n",
       "    .dataframe thead th {\n",
       "        text-align: right;\n",
       "    }\n",
       "</style>\n",
       "<table border=\"1\" class=\"dataframe\">\n",
       "  <thead>\n",
       "    <tr style=\"text-align: right;\">\n",
       "      <th></th>\n",
       "      <th>Date</th>\n",
       "      <th>provider_code</th>\n",
       "      <th>funded_by</th>\n",
       "      <th>amount</th>\n",
       "      <th>capital</th>\n",
       "      <th>interest</th>\n",
       "      <th>tax</th>\n",
       "    </tr>\n",
       "  </thead>\n",
       "  <tbody>\n",
       "    <tr>\n",
       "      <th>0</th>\n",
       "      <td>2024-01-01</td>\n",
       "      <td>APH</td>\n",
       "      <td>NULL</td>\n",
       "      <td>15.33</td>\n",
       "      <td>10.07</td>\n",
       "      <td>5.26</td>\n",
       "      <td>0.00</td>\n",
       "    </tr>\n",
       "    <tr>\n",
       "      <th>1</th>\n",
       "      <td>2024-01-01</td>\n",
       "      <td>CLIP</td>\n",
       "      <td>CLIP</td>\n",
       "      <td>299,291.40</td>\n",
       "      <td>228,643.21</td>\n",
       "      <td>42,109.10</td>\n",
       "      <td>6,737.24</td>\n",
       "    </tr>\n",
       "    <tr>\n",
       "      <th>2</th>\n",
       "      <td>2024-01-01</td>\n",
       "      <td>CTO</td>\n",
       "      <td>CTO</td>\n",
       "      <td>1,118.28</td>\n",
       "      <td>676.73</td>\n",
       "      <td>380.64</td>\n",
       "      <td>60.91</td>\n",
       "    </tr>\n",
       "    <tr>\n",
       "      <th>3</th>\n",
       "      <td>2024-01-01</td>\n",
       "      <td>MRP</td>\n",
       "      <td>CLIP</td>\n",
       "      <td>73,261.82</td>\n",
       "      <td>53,181.10</td>\n",
       "      <td>17,311.09</td>\n",
       "      <td>2,769.63</td>\n",
       "    </tr>\n",
       "    <tr>\n",
       "      <th>4</th>\n",
       "      <td>2024-01-01</td>\n",
       "      <td>MRP</td>\n",
       "      <td>MRP</td>\n",
       "      <td>216,106.71</td>\n",
       "      <td>160,932.97</td>\n",
       "      <td>47,563.50</td>\n",
       "      <td>7,610.24</td>\n",
       "    </tr>\n",
       "  </tbody>\n",
       "</table>\n",
       "</div>"
      ],
      "text/plain": [
       "         Date provider_code funded_by     amount    capital  interest      tax\n",
       "0  2024-01-01           APH      NULL      15.33      10.07      5.26     0.00\n",
       "1  2024-01-01          CLIP      CLIP 299,291.40 228,643.21 42,109.10 6,737.24\n",
       "2  2024-01-01           CTO       CTO   1,118.28     676.73    380.64    60.91\n",
       "3  2024-01-01           MRP      CLIP  73,261.82  53,181.10 17,311.09 2,769.63\n",
       "4  2024-01-01           MRP       MRP 216,106.71 160,932.97 47,563.50 7,610.24"
      ]
     },
     "execution_count": 50,
     "metadata": {},
     "output_type": "execute_result"
    }
   ],
   "source": [
    "lender_amount_date = pd.pivot_table(lender,index=[\"Date\", \"provider_code\",'funded_by'],values=['amount','capital',\n",
    "                                                   'interest','tax'],aggfunc=np.sum,margins=False)\n",
    "lender_amount_date = lender_amount_date.reset_index()\n",
    "lender_amount_date.head()"
   ]
  },
  {
   "cell_type": "code",
   "execution_count": 51,
   "metadata": {},
   "outputs": [],
   "source": [
    "lender_amount_date.loc['ALL'] = lender_amount_date.sum(numeric_only=True)\n",
    "# lender_amount_date.to_csv('LENDER AMOUNT DATE ABRIL 2021.csv')"
   ]
  },
  {
   "cell_type": "code",
   "execution_count": 52,
   "metadata": {},
   "outputs": [
    {
     "data": {
      "text/plain": [
       "(259, 7)"
      ]
     },
     "execution_count": 52,
     "metadata": {},
     "output_type": "execute_result"
    }
   ],
   "source": [
    "lender_amount_date.shape"
   ]
  },
  {
   "cell_type": "code",
   "execution_count": 53,
   "metadata": {},
   "outputs": [],
   "source": [
    "lender_amount_date.to_excel('LENDERS ENERO 2024.xlsx')"
   ]
  },
  {
   "cell_type": "markdown",
   "metadata": {},
   "source": [
    "##### APH"
   ]
  },
  {
   "cell_type": "code",
   "execution_count": 54,
   "metadata": {},
   "outputs": [
    {
     "data": {
      "text/html": [
       "<div>\n",
       "<style scoped>\n",
       "    .dataframe tbody tr th:only-of-type {\n",
       "        vertical-align: middle;\n",
       "    }\n",
       "\n",
       "    .dataframe tbody tr th {\n",
       "        vertical-align: top;\n",
       "    }\n",
       "\n",
       "    .dataframe thead th {\n",
       "        text-align: right;\n",
       "    }\n",
       "</style>\n",
       "<table border=\"1\" class=\"dataframe\">\n",
       "  <thead>\n",
       "    <tr style=\"text-align: right;\">\n",
       "      <th></th>\n",
       "      <th>Date</th>\n",
       "      <th>provider_code</th>\n",
       "      <th>funded_by</th>\n",
       "      <th>amount</th>\n",
       "      <th>capital</th>\n",
       "      <th>interest</th>\n",
       "      <th>tax</th>\n",
       "    </tr>\n",
       "  </thead>\n",
       "  <tbody>\n",
       "    <tr>\n",
       "      <th>0</th>\n",
       "      <td>2024-01-01</td>\n",
       "      <td>APH</td>\n",
       "      <td>NULL</td>\n",
       "      <td>15.33</td>\n",
       "      <td>10.07</td>\n",
       "      <td>5.26</td>\n",
       "      <td>0.00</td>\n",
       "    </tr>\n",
       "    <tr>\n",
       "      <th>8</th>\n",
       "      <td>2024-01-02</td>\n",
       "      <td>APH</td>\n",
       "      <td>NULL</td>\n",
       "      <td>21.08</td>\n",
       "      <td>14.87</td>\n",
       "      <td>6.21</td>\n",
       "      <td>0.00</td>\n",
       "    </tr>\n",
       "    <tr>\n",
       "      <th>17</th>\n",
       "      <td>2024-01-03</td>\n",
       "      <td>APH</td>\n",
       "      <td>NULL</td>\n",
       "      <td>80.49</td>\n",
       "      <td>53.90</td>\n",
       "      <td>26.59</td>\n",
       "      <td>0.00</td>\n",
       "    </tr>\n",
       "    <tr>\n",
       "      <th>25</th>\n",
       "      <td>2024-01-04</td>\n",
       "      <td>APH</td>\n",
       "      <td>NULL</td>\n",
       "      <td>123.03</td>\n",
       "      <td>81.61</td>\n",
       "      <td>41.42</td>\n",
       "      <td>0.00</td>\n",
       "    </tr>\n",
       "    <tr>\n",
       "      <th>33</th>\n",
       "      <td>2024-01-05</td>\n",
       "      <td>APH</td>\n",
       "      <td>NULL</td>\n",
       "      <td>132.23</td>\n",
       "      <td>86.87</td>\n",
       "      <td>45.36</td>\n",
       "      <td>0.00</td>\n",
       "    </tr>\n",
       "  </tbody>\n",
       "</table>\n",
       "</div>"
      ],
      "text/plain": [
       "          Date provider_code funded_by  amount  capital  interest  tax\n",
       "0   2024-01-01           APH      NULL   15.33    10.07      5.26 0.00\n",
       "8   2024-01-02           APH      NULL   21.08    14.87      6.21 0.00\n",
       "17  2024-01-03           APH      NULL   80.49    53.90     26.59 0.00\n",
       "25  2024-01-04           APH      NULL  123.03    81.61     41.42 0.00\n",
       "33  2024-01-05           APH      NULL  132.23    86.87     45.36 0.00"
      ]
     },
     "execution_count": 54,
     "metadata": {},
     "output_type": "execute_result"
    }
   ],
   "source": [
    "lender_amount_date_aph = lender_amount_date[(lender_amount_date['provider_code'] == 'APH')]\n",
    "lender_amount_date_aph.head()"
   ]
  },
  {
   "cell_type": "code",
   "execution_count": 55,
   "metadata": {},
   "outputs": [
    {
     "name": "stderr",
     "output_type": "stream",
     "text": [
      "C:\\Users\\Cristian.Aparicio\\AppData\\Local\\Temp\\ipykernel_16640\\630616902.py:1: SettingWithCopyWarning: \n",
      "A value is trying to be set on a copy of a slice from a DataFrame\n",
      "\n",
      "See the caveats in the documentation: https://pandas.pydata.org/pandas-docs/stable/user_guide/indexing.html#returning-a-view-versus-a-copy\n",
      "  lender_amount_date_aph.loc['ALL'] = lender_amount_date_aph.sum(numeric_only=True)\n"
     ]
    }
   ],
   "source": [
    "lender_amount_date_aph.loc['ALL'] = lender_amount_date_aph.sum(numeric_only=True)\n",
    "lender_amount_date_aph.reset_index(inplace=True)"
   ]
  },
  {
   "cell_type": "code",
   "execution_count": 56,
   "metadata": {},
   "outputs": [
    {
     "data": {
      "text/plain": [
       "(30, 8)"
      ]
     },
     "execution_count": 56,
     "metadata": {},
     "output_type": "execute_result"
    }
   ],
   "source": [
    "lender_amount_date_aph.shape"
   ]
  },
  {
   "cell_type": "markdown",
   "metadata": {},
   "source": [
    "##### AVL"
   ]
  },
  {
   "cell_type": "code",
   "execution_count": 57,
   "metadata": {},
   "outputs": [
    {
     "data": {
      "text/html": [
       "<div>\n",
       "<style scoped>\n",
       "    .dataframe tbody tr th:only-of-type {\n",
       "        vertical-align: middle;\n",
       "    }\n",
       "\n",
       "    .dataframe tbody tr th {\n",
       "        vertical-align: top;\n",
       "    }\n",
       "\n",
       "    .dataframe thead th {\n",
       "        text-align: right;\n",
       "    }\n",
       "</style>\n",
       "<table border=\"1\" class=\"dataframe\">\n",
       "  <thead>\n",
       "    <tr style=\"text-align: right;\">\n",
       "      <th></th>\n",
       "      <th>Date</th>\n",
       "      <th>provider_code</th>\n",
       "      <th>funded_by</th>\n",
       "      <th>amount</th>\n",
       "      <th>capital</th>\n",
       "      <th>interest</th>\n",
       "      <th>tax</th>\n",
       "    </tr>\n",
       "  </thead>\n",
       "  <tbody>\n",
       "    <tr>\n",
       "      <th>9</th>\n",
       "      <td>2024-01-02</td>\n",
       "      <td>AVL</td>\n",
       "      <td>AVL</td>\n",
       "      <td>15.33</td>\n",
       "      <td>11.68</td>\n",
       "      <td>3.15</td>\n",
       "      <td>0.50</td>\n",
       "    </tr>\n",
       "    <tr>\n",
       "      <th>34</th>\n",
       "      <td>2024-01-05</td>\n",
       "      <td>AVL</td>\n",
       "      <td>AVL</td>\n",
       "      <td>882.81</td>\n",
       "      <td>672.26</td>\n",
       "      <td>181.51</td>\n",
       "      <td>29.04</td>\n",
       "    </tr>\n",
       "    <tr>\n",
       "      <th>43</th>\n",
       "      <td>2024-01-06</td>\n",
       "      <td>AVL</td>\n",
       "      <td>AVL</td>\n",
       "      <td>43.51</td>\n",
       "      <td>33.42</td>\n",
       "      <td>8.70</td>\n",
       "      <td>1.39</td>\n",
       "    </tr>\n",
       "    <tr>\n",
       "      <th>59</th>\n",
       "      <td>2024-01-08</td>\n",
       "      <td>AVL</td>\n",
       "      <td>AVL</td>\n",
       "      <td>193.56</td>\n",
       "      <td>148.71</td>\n",
       "      <td>38.66</td>\n",
       "      <td>6.19</td>\n",
       "    </tr>\n",
       "    <tr>\n",
       "      <th>75</th>\n",
       "      <td>2024-01-10</td>\n",
       "      <td>AVL</td>\n",
       "      <td>AVL</td>\n",
       "      <td>80.12</td>\n",
       "      <td>61.56</td>\n",
       "      <td>16.00</td>\n",
       "      <td>2.56</td>\n",
       "    </tr>\n",
       "  </tbody>\n",
       "</table>\n",
       "</div>"
      ],
      "text/plain": [
       "          Date provider_code funded_by  amount  capital  interest   tax\n",
       "9   2024-01-02           AVL       AVL   15.33    11.68      3.15  0.50\n",
       "34  2024-01-05           AVL       AVL  882.81   672.26    181.51 29.04\n",
       "43  2024-01-06           AVL       AVL   43.51    33.42      8.70  1.39\n",
       "59  2024-01-08           AVL       AVL  193.56   148.71     38.66  6.19\n",
       "75  2024-01-10           AVL       AVL   80.12    61.56     16.00  2.56"
      ]
     },
     "execution_count": 57,
     "metadata": {},
     "output_type": "execute_result"
    }
   ],
   "source": [
    "lender_amount_date_avl = lender_amount_date[(lender_amount_date['provider_code'] == 'AVL')]\n",
    "lender_amount_date_avl.head()"
   ]
  },
  {
   "cell_type": "code",
   "execution_count": 58,
   "metadata": {},
   "outputs": [
    {
     "name": "stderr",
     "output_type": "stream",
     "text": [
      "C:\\Users\\Cristian.Aparicio\\AppData\\Local\\Temp\\ipykernel_16640\\2554313735.py:1: SettingWithCopyWarning: \n",
      "A value is trying to be set on a copy of a slice from a DataFrame\n",
      "\n",
      "See the caveats in the documentation: https://pandas.pydata.org/pandas-docs/stable/user_guide/indexing.html#returning-a-view-versus-a-copy\n",
      "  lender_amount_date_avl.loc['ALL'] = lender_amount_date_avl.sum(numeric_only=True)\n"
     ]
    }
   ],
   "source": [
    "lender_amount_date_avl.loc['ALL'] = lender_amount_date_avl.sum(numeric_only=True)\n",
    "lender_amount_date_avl.reset_index(inplace=True)"
   ]
  },
  {
   "cell_type": "code",
   "execution_count": 59,
   "metadata": {},
   "outputs": [
    {
     "data": {
      "text/plain": [
       "(16, 8)"
      ]
     },
     "execution_count": 59,
     "metadata": {},
     "output_type": "execute_result"
    }
   ],
   "source": [
    "lender_amount_date_avl.shape"
   ]
  },
  {
   "cell_type": "markdown",
   "metadata": {},
   "source": [
    "##### CLIP"
   ]
  },
  {
   "cell_type": "code",
   "execution_count": 60,
   "metadata": {},
   "outputs": [
    {
     "data": {
      "text/html": [
       "<div>\n",
       "<style scoped>\n",
       "    .dataframe tbody tr th:only-of-type {\n",
       "        vertical-align: middle;\n",
       "    }\n",
       "\n",
       "    .dataframe tbody tr th {\n",
       "        vertical-align: top;\n",
       "    }\n",
       "\n",
       "    .dataframe thead th {\n",
       "        text-align: right;\n",
       "    }\n",
       "</style>\n",
       "<table border=\"1\" class=\"dataframe\">\n",
       "  <thead>\n",
       "    <tr style=\"text-align: right;\">\n",
       "      <th></th>\n",
       "      <th>Date</th>\n",
       "      <th>provider_code</th>\n",
       "      <th>funded_by</th>\n",
       "      <th>amount</th>\n",
       "      <th>capital</th>\n",
       "      <th>interest</th>\n",
       "      <th>tax</th>\n",
       "    </tr>\n",
       "  </thead>\n",
       "  <tbody>\n",
       "    <tr>\n",
       "      <th>1</th>\n",
       "      <td>2024-01-01</td>\n",
       "      <td>CLIP</td>\n",
       "      <td>CLIP</td>\n",
       "      <td>299,291.40</td>\n",
       "      <td>228,643.21</td>\n",
       "      <td>42,109.10</td>\n",
       "      <td>6,737.24</td>\n",
       "    </tr>\n",
       "    <tr>\n",
       "      <th>10</th>\n",
       "      <td>2024-01-02</td>\n",
       "      <td>CLIP</td>\n",
       "      <td>CLIP</td>\n",
       "      <td>665,866.92</td>\n",
       "      <td>504,711.91</td>\n",
       "      <td>94,667.97</td>\n",
       "      <td>15,146.98</td>\n",
       "    </tr>\n",
       "    <tr>\n",
       "      <th>18</th>\n",
       "      <td>2024-01-03</td>\n",
       "      <td>CLIP</td>\n",
       "      <td>CLIP</td>\n",
       "      <td>771,325.88</td>\n",
       "      <td>586,811.91</td>\n",
       "      <td>103,266.38</td>\n",
       "      <td>16,521.95</td>\n",
       "    </tr>\n",
       "    <tr>\n",
       "      <th>26</th>\n",
       "      <td>2024-01-04</td>\n",
       "      <td>CLIP</td>\n",
       "      <td>CLIP</td>\n",
       "      <td>873,603.58</td>\n",
       "      <td>661,812.06</td>\n",
       "      <td>111,803.61</td>\n",
       "      <td>17,888.67</td>\n",
       "    </tr>\n",
       "    <tr>\n",
       "      <th>35</th>\n",
       "      <td>2024-01-05</td>\n",
       "      <td>CLIP</td>\n",
       "      <td>CLIP</td>\n",
       "      <td>1,046,865.36</td>\n",
       "      <td>791,200.72</td>\n",
       "      <td>127,825.32</td>\n",
       "      <td>20,451.76</td>\n",
       "    </tr>\n",
       "  </tbody>\n",
       "</table>\n",
       "</div>"
      ],
      "text/plain": [
       "          Date provider_code funded_by       amount    capital   interest  \\\n",
       "1   2024-01-01          CLIP      CLIP   299,291.40 228,643.21  42,109.10   \n",
       "10  2024-01-02          CLIP      CLIP   665,866.92 504,711.91  94,667.97   \n",
       "18  2024-01-03          CLIP      CLIP   771,325.88 586,811.91 103,266.38   \n",
       "26  2024-01-04          CLIP      CLIP   873,603.58 661,812.06 111,803.61   \n",
       "35  2024-01-05          CLIP      CLIP 1,046,865.36 791,200.72 127,825.32   \n",
       "\n",
       "         tax  \n",
       "1   6,737.24  \n",
       "10 15,146.98  \n",
       "18 16,521.95  \n",
       "26 17,888.67  \n",
       "35 20,451.76  "
      ]
     },
     "execution_count": 60,
     "metadata": {},
     "output_type": "execute_result"
    }
   ],
   "source": [
    "lender_amount_date_clip = lender_amount_date[(lender_amount_date['provider_code'] == 'CLIP')]\n",
    "lender_amount_date_clip.head()"
   ]
  },
  {
   "cell_type": "code",
   "execution_count": 61,
   "metadata": {},
   "outputs": [
    {
     "name": "stderr",
     "output_type": "stream",
     "text": [
      "C:\\Users\\Cristian.Aparicio\\AppData\\Local\\Temp\\ipykernel_16640\\2072568486.py:1: SettingWithCopyWarning: \n",
      "A value is trying to be set on a copy of a slice from a DataFrame\n",
      "\n",
      "See the caveats in the documentation: https://pandas.pydata.org/pandas-docs/stable/user_guide/indexing.html#returning-a-view-versus-a-copy\n",
      "  lender_amount_date_clip.loc['ALL'] = lender_amount_date_clip.sum(numeric_only=True)\n"
     ]
    }
   ],
   "source": [
    "lender_amount_date_clip.loc['ALL'] = lender_amount_date_clip.sum(numeric_only=True)\n",
    "lender_amount_date_clip.reset_index(inplace=True)"
   ]
  },
  {
   "cell_type": "code",
   "execution_count": 62,
   "metadata": {},
   "outputs": [
    {
     "data": {
      "text/plain": [
       "(32, 8)"
      ]
     },
     "execution_count": 62,
     "metadata": {},
     "output_type": "execute_result"
    }
   ],
   "source": [
    "lender_amount_date_clip.shape"
   ]
  },
  {
   "cell_type": "markdown",
   "metadata": {},
   "source": [
    "##### CTO "
   ]
  },
  {
   "cell_type": "code",
   "execution_count": 63,
   "metadata": {},
   "outputs": [
    {
     "data": {
      "text/html": [
       "<div>\n",
       "<style scoped>\n",
       "    .dataframe tbody tr th:only-of-type {\n",
       "        vertical-align: middle;\n",
       "    }\n",
       "\n",
       "    .dataframe tbody tr th {\n",
       "        vertical-align: top;\n",
       "    }\n",
       "\n",
       "    .dataframe thead th {\n",
       "        text-align: right;\n",
       "    }\n",
       "</style>\n",
       "<table border=\"1\" class=\"dataframe\">\n",
       "  <thead>\n",
       "    <tr style=\"text-align: right;\">\n",
       "      <th></th>\n",
       "      <th>Date</th>\n",
       "      <th>provider_code</th>\n",
       "      <th>funded_by</th>\n",
       "      <th>amount</th>\n",
       "      <th>capital</th>\n",
       "      <th>interest</th>\n",
       "      <th>tax</th>\n",
       "    </tr>\n",
       "  </thead>\n",
       "  <tbody>\n",
       "    <tr>\n",
       "      <th>2</th>\n",
       "      <td>2024-01-01</td>\n",
       "      <td>CTO</td>\n",
       "      <td>CTO</td>\n",
       "      <td>1,118.28</td>\n",
       "      <td>676.73</td>\n",
       "      <td>380.64</td>\n",
       "      <td>60.91</td>\n",
       "    </tr>\n",
       "    <tr>\n",
       "      <th>11</th>\n",
       "      <td>2024-01-02</td>\n",
       "      <td>CTO</td>\n",
       "      <td>CTO</td>\n",
       "      <td>4,254.84</td>\n",
       "      <td>2,676.45</td>\n",
       "      <td>1,360.71</td>\n",
       "      <td>217.68</td>\n",
       "    </tr>\n",
       "    <tr>\n",
       "      <th>19</th>\n",
       "      <td>2024-01-03</td>\n",
       "      <td>CTO</td>\n",
       "      <td>CTO</td>\n",
       "      <td>7,194.25</td>\n",
       "      <td>4,412.71</td>\n",
       "      <td>2,397.92</td>\n",
       "      <td>383.62</td>\n",
       "    </tr>\n",
       "    <tr>\n",
       "      <th>27</th>\n",
       "      <td>2024-01-04</td>\n",
       "      <td>CTO</td>\n",
       "      <td>CTO</td>\n",
       "      <td>9,366.81</td>\n",
       "      <td>5,798.46</td>\n",
       "      <td>3,076.17</td>\n",
       "      <td>492.18</td>\n",
       "    </tr>\n",
       "    <tr>\n",
       "      <th>36</th>\n",
       "      <td>2024-01-05</td>\n",
       "      <td>CTO</td>\n",
       "      <td>CTO</td>\n",
       "      <td>4,979.01</td>\n",
       "      <td>3,149.67</td>\n",
       "      <td>1,577.05</td>\n",
       "      <td>252.29</td>\n",
       "    </tr>\n",
       "  </tbody>\n",
       "</table>\n",
       "</div>"
      ],
      "text/plain": [
       "          Date provider_code funded_by   amount  capital  interest    tax\n",
       "2   2024-01-01           CTO       CTO 1,118.28   676.73    380.64  60.91\n",
       "11  2024-01-02           CTO       CTO 4,254.84 2,676.45  1,360.71 217.68\n",
       "19  2024-01-03           CTO       CTO 7,194.25 4,412.71  2,397.92 383.62\n",
       "27  2024-01-04           CTO       CTO 9,366.81 5,798.46  3,076.17 492.18\n",
       "36  2024-01-05           CTO       CTO 4,979.01 3,149.67  1,577.05 252.29"
      ]
     },
     "execution_count": 63,
     "metadata": {},
     "output_type": "execute_result"
    }
   ],
   "source": [
    "lender_amount_date_cto = lender_amount_date[(lender_amount_date['provider_code'] == 'CTO')]\n",
    "lender_amount_date_cto.head()"
   ]
  },
  {
   "cell_type": "code",
   "execution_count": 64,
   "metadata": {},
   "outputs": [
    {
     "name": "stderr",
     "output_type": "stream",
     "text": [
      "C:\\Users\\Cristian.Aparicio\\AppData\\Local\\Temp\\ipykernel_16640\\4084987167.py:1: SettingWithCopyWarning: \n",
      "A value is trying to be set on a copy of a slice from a DataFrame\n",
      "\n",
      "See the caveats in the documentation: https://pandas.pydata.org/pandas-docs/stable/user_guide/indexing.html#returning-a-view-versus-a-copy\n",
      "  lender_amount_date_cto.loc['ALL'] = lender_amount_date_cto.sum(numeric_only=True)\n"
     ]
    }
   ],
   "source": [
    "lender_amount_date_cto.loc['ALL'] = lender_amount_date_cto.sum(numeric_only=True)\n",
    "lender_amount_date_cto.reset_index(inplace=True)"
   ]
  },
  {
   "cell_type": "code",
   "execution_count": 65,
   "metadata": {},
   "outputs": [
    {
     "data": {
      "text/plain": [
       "(32, 8)"
      ]
     },
     "execution_count": 65,
     "metadata": {},
     "output_type": "execute_result"
    }
   ],
   "source": [
    "lender_amount_date_cto.shape"
   ]
  },
  {
   "cell_type": "markdown",
   "metadata": {},
   "source": [
    "##### MRP"
   ]
  },
  {
   "cell_type": "code",
   "execution_count": 66,
   "metadata": {},
   "outputs": [
    {
     "data": {
      "text/html": [
       "<div>\n",
       "<style scoped>\n",
       "    .dataframe tbody tr th:only-of-type {\n",
       "        vertical-align: middle;\n",
       "    }\n",
       "\n",
       "    .dataframe tbody tr th {\n",
       "        vertical-align: top;\n",
       "    }\n",
       "\n",
       "    .dataframe thead th {\n",
       "        text-align: right;\n",
       "    }\n",
       "</style>\n",
       "<table border=\"1\" class=\"dataframe\">\n",
       "  <thead>\n",
       "    <tr style=\"text-align: right;\">\n",
       "      <th></th>\n",
       "      <th>Date</th>\n",
       "      <th>provider_code</th>\n",
       "      <th>funded_by</th>\n",
       "      <th>amount</th>\n",
       "      <th>capital</th>\n",
       "      <th>interest</th>\n",
       "      <th>tax</th>\n",
       "    </tr>\n",
       "  </thead>\n",
       "  <tbody>\n",
       "    <tr>\n",
       "      <th>3</th>\n",
       "      <td>2024-01-01</td>\n",
       "      <td>MRP</td>\n",
       "      <td>CLIP</td>\n",
       "      <td>73,261.82</td>\n",
       "      <td>53,181.10</td>\n",
       "      <td>17,311.09</td>\n",
       "      <td>2,769.63</td>\n",
       "    </tr>\n",
       "    <tr>\n",
       "      <th>4</th>\n",
       "      <td>2024-01-01</td>\n",
       "      <td>MRP</td>\n",
       "      <td>MRP</td>\n",
       "      <td>216,106.71</td>\n",
       "      <td>160,932.97</td>\n",
       "      <td>47,563.50</td>\n",
       "      <td>7,610.24</td>\n",
       "    </tr>\n",
       "    <tr>\n",
       "      <th>5</th>\n",
       "      <td>2024-01-01</td>\n",
       "      <td>MRP</td>\n",
       "      <td>NULL</td>\n",
       "      <td>7,676.02</td>\n",
       "      <td>5,707.40</td>\n",
       "      <td>1,717.86</td>\n",
       "      <td>250.76</td>\n",
       "    </tr>\n",
       "    <tr>\n",
       "      <th>12</th>\n",
       "      <td>2024-01-02</td>\n",
       "      <td>MRP</td>\n",
       "      <td>CLIP</td>\n",
       "      <td>182,812.47</td>\n",
       "      <td>132,160.97</td>\n",
       "      <td>43,665.20</td>\n",
       "      <td>6,986.30</td>\n",
       "    </tr>\n",
       "    <tr>\n",
       "      <th>13</th>\n",
       "      <td>2024-01-02</td>\n",
       "      <td>MRP</td>\n",
       "      <td>MRP</td>\n",
       "      <td>455,257.08</td>\n",
       "      <td>331,276.70</td>\n",
       "      <td>106,902.96</td>\n",
       "      <td>17,077.42</td>\n",
       "    </tr>\n",
       "  </tbody>\n",
       "</table>\n",
       "</div>"
      ],
      "text/plain": [
       "          Date provider_code funded_by     amount    capital   interest  \\\n",
       "3   2024-01-01           MRP      CLIP  73,261.82  53,181.10  17,311.09   \n",
       "4   2024-01-01           MRP       MRP 216,106.71 160,932.97  47,563.50   \n",
       "5   2024-01-01           MRP      NULL   7,676.02   5,707.40   1,717.86   \n",
       "12  2024-01-02           MRP      CLIP 182,812.47 132,160.97  43,665.20   \n",
       "13  2024-01-02           MRP       MRP 455,257.08 331,276.70 106,902.96   \n",
       "\n",
       "         tax  \n",
       "3   2,769.63  \n",
       "4   7,610.24  \n",
       "5     250.76  \n",
       "12  6,986.30  \n",
       "13 17,077.42  "
      ]
     },
     "execution_count": 66,
     "metadata": {},
     "output_type": "execute_result"
    }
   ],
   "source": [
    "lender_amount_date_mrp = lender_amount_date[(lender_amount_date['provider_code'] == 'MRP')]\n",
    "lender_amount_date_mrp.head()"
   ]
  },
  {
   "cell_type": "code",
   "execution_count": 67,
   "metadata": {},
   "outputs": [
    {
     "name": "stderr",
     "output_type": "stream",
     "text": [
      "C:\\Users\\Cristian.Aparicio\\AppData\\Local\\Temp\\ipykernel_16640\\638768743.py:1: SettingWithCopyWarning: \n",
      "A value is trying to be set on a copy of a slice from a DataFrame\n",
      "\n",
      "See the caveats in the documentation: https://pandas.pydata.org/pandas-docs/stable/user_guide/indexing.html#returning-a-view-versus-a-copy\n",
      "  lender_amount_date_mrp.loc['ALL'] = lender_amount_date_mrp.sum(numeric_only=True)\n"
     ]
    }
   ],
   "source": [
    "lender_amount_date_mrp.loc['ALL'] = lender_amount_date_mrp.sum(numeric_only=True)\n",
    "lender_amount_date_mrp.reset_index(inplace=True)"
   ]
  },
  {
   "cell_type": "code",
   "execution_count": 68,
   "metadata": {},
   "outputs": [
    {
     "data": {
      "text/plain": [
       "(94, 8)"
      ]
     },
     "execution_count": 68,
     "metadata": {},
     "output_type": "execute_result"
    }
   ],
   "source": [
    "lender_amount_date_mrp.shape"
   ]
  },
  {
   "cell_type": "markdown",
   "metadata": {},
   "source": [
    "##### R2"
   ]
  },
  {
   "cell_type": "code",
   "execution_count": 69,
   "metadata": {},
   "outputs": [
    {
     "data": {
      "text/html": [
       "<div>\n",
       "<style scoped>\n",
       "    .dataframe tbody tr th:only-of-type {\n",
       "        vertical-align: middle;\n",
       "    }\n",
       "\n",
       "    .dataframe tbody tr th {\n",
       "        vertical-align: top;\n",
       "    }\n",
       "\n",
       "    .dataframe thead th {\n",
       "        text-align: right;\n",
       "    }\n",
       "</style>\n",
       "<table border=\"1\" class=\"dataframe\">\n",
       "  <thead>\n",
       "    <tr style=\"text-align: right;\">\n",
       "      <th></th>\n",
       "      <th>Date</th>\n",
       "      <th>provider_code</th>\n",
       "      <th>funded_by</th>\n",
       "      <th>amount</th>\n",
       "      <th>capital</th>\n",
       "      <th>interest</th>\n",
       "      <th>tax</th>\n",
       "    </tr>\n",
       "  </thead>\n",
       "  <tbody>\n",
       "    <tr>\n",
       "      <th>6</th>\n",
       "      <td>2024-01-01</td>\n",
       "      <td>R2</td>\n",
       "      <td>NULL</td>\n",
       "      <td>390.96</td>\n",
       "      <td>278.07</td>\n",
       "      <td>97.32</td>\n",
       "      <td>15.57</td>\n",
       "    </tr>\n",
       "    <tr>\n",
       "      <th>7</th>\n",
       "      <td>2024-01-01</td>\n",
       "      <td>R2</td>\n",
       "      <td>R2</td>\n",
       "      <td>323,248.70</td>\n",
       "      <td>241,286.98</td>\n",
       "      <td>70,656.57</td>\n",
       "      <td>11,305.15</td>\n",
       "    </tr>\n",
       "    <tr>\n",
       "      <th>15</th>\n",
       "      <td>2024-01-02</td>\n",
       "      <td>R2</td>\n",
       "      <td>NULL</td>\n",
       "      <td>1,268.98</td>\n",
       "      <td>902.53</td>\n",
       "      <td>315.90</td>\n",
       "      <td>50.55</td>\n",
       "    </tr>\n",
       "    <tr>\n",
       "      <th>16</th>\n",
       "      <td>2024-01-02</td>\n",
       "      <td>R2</td>\n",
       "      <td>R2</td>\n",
       "      <td>637,557.65</td>\n",
       "      <td>475,972.23</td>\n",
       "      <td>139,297.40</td>\n",
       "      <td>22,288.02</td>\n",
       "    </tr>\n",
       "    <tr>\n",
       "      <th>23</th>\n",
       "      <td>2024-01-03</td>\n",
       "      <td>R2</td>\n",
       "      <td>NULL</td>\n",
       "      <td>904.12</td>\n",
       "      <td>643.04</td>\n",
       "      <td>225.06</td>\n",
       "      <td>36.02</td>\n",
       "    </tr>\n",
       "  </tbody>\n",
       "</table>\n",
       "</div>"
      ],
      "text/plain": [
       "          Date provider_code funded_by     amount    capital   interest  \\\n",
       "6   2024-01-01            R2      NULL     390.96     278.07      97.32   \n",
       "7   2024-01-01            R2        R2 323,248.70 241,286.98  70,656.57   \n",
       "15  2024-01-02            R2      NULL   1,268.98     902.53     315.90   \n",
       "16  2024-01-02            R2        R2 637,557.65 475,972.23 139,297.40   \n",
       "23  2024-01-03            R2      NULL     904.12     643.04     225.06   \n",
       "\n",
       "         tax  \n",
       "6      15.57  \n",
       "7  11,305.15  \n",
       "15     50.55  \n",
       "16 22,288.02  \n",
       "23     36.02  "
      ]
     },
     "execution_count": 69,
     "metadata": {},
     "output_type": "execute_result"
    }
   ],
   "source": [
    "lender_amount_date_r2 = lender_amount_date[(lender_amount_date['provider_code'] == 'R2')]\n",
    "lender_amount_date_r2.head()"
   ]
  },
  {
   "cell_type": "code",
   "execution_count": 70,
   "metadata": {},
   "outputs": [
    {
     "name": "stderr",
     "output_type": "stream",
     "text": [
      "C:\\Users\\Cristian.Aparicio\\AppData\\Local\\Temp\\ipykernel_16640\\416543063.py:1: SettingWithCopyWarning: \n",
      "A value is trying to be set on a copy of a slice from a DataFrame\n",
      "\n",
      "See the caveats in the documentation: https://pandas.pydata.org/pandas-docs/stable/user_guide/indexing.html#returning-a-view-versus-a-copy\n",
      "  lender_amount_date_r2.loc['ALL'] = lender_amount_date_r2.sum(numeric_only=True)\n"
     ]
    }
   ],
   "source": [
    "lender_amount_date_r2.loc['ALL'] = lender_amount_date_r2.sum(numeric_only=True)\n",
    "lender_amount_date_r2.reset_index(inplace=True)"
   ]
  },
  {
   "cell_type": "code",
   "execution_count": 71,
   "metadata": {},
   "outputs": [
    {
     "data": {
      "text/plain": [
       "(60, 8)"
      ]
     },
     "execution_count": 71,
     "metadata": {},
     "output_type": "execute_result"
    }
   ],
   "source": [
    "lender_amount_date_r2.shape"
   ]
  },
  {
   "cell_type": "markdown",
   "metadata": {},
   "source": [
    "##### MOT"
   ]
  },
  {
   "cell_type": "code",
   "execution_count": 72,
   "metadata": {},
   "outputs": [
    {
     "data": {
      "text/html": [
       "<div>\n",
       "<style scoped>\n",
       "    .dataframe tbody tr th:only-of-type {\n",
       "        vertical-align: middle;\n",
       "    }\n",
       "\n",
       "    .dataframe tbody tr th {\n",
       "        vertical-align: top;\n",
       "    }\n",
       "\n",
       "    .dataframe thead th {\n",
       "        text-align: right;\n",
       "    }\n",
       "</style>\n",
       "<table border=\"1\" class=\"dataframe\">\n",
       "  <thead>\n",
       "    <tr style=\"text-align: right;\">\n",
       "      <th></th>\n",
       "      <th>Date</th>\n",
       "      <th>provider_code</th>\n",
       "      <th>funded_by</th>\n",
       "      <th>amount</th>\n",
       "      <th>capital</th>\n",
       "      <th>interest</th>\n",
       "      <th>tax</th>\n",
       "    </tr>\n",
       "  </thead>\n",
       "  <tbody>\n",
       "  </tbody>\n",
       "</table>\n",
       "</div>"
      ],
      "text/plain": [
       "Empty DataFrame\n",
       "Columns: [Date, provider_code, funded_by, amount, capital, interest, tax]\n",
       "Index: []"
      ]
     },
     "execution_count": 72,
     "metadata": {},
     "output_type": "execute_result"
    }
   ],
   "source": [
    "lender_amount_date_mot = lender_amount_date[(lender_amount_date['provider_code'] == 'MOT')]\n",
    "lender_amount_date_mot.head()"
   ]
  },
  {
   "cell_type": "code",
   "execution_count": 73,
   "metadata": {},
   "outputs": [
    {
     "name": "stderr",
     "output_type": "stream",
     "text": [
      "C:\\Users\\Cristian.Aparicio\\AppData\\Local\\Temp\\ipykernel_16640\\1512697895.py:1: SettingWithCopyWarning: \n",
      "A value is trying to be set on a copy of a slice from a DataFrame\n",
      "\n",
      "See the caveats in the documentation: https://pandas.pydata.org/pandas-docs/stable/user_guide/indexing.html#returning-a-view-versus-a-copy\n",
      "  lender_amount_date_mot.loc['ALL'] = lender_amount_date_mot.sum(numeric_only=True)\n"
     ]
    }
   ],
   "source": [
    "lender_amount_date_mot.loc['ALL'] = lender_amount_date_mot.sum(numeric_only=True)\n",
    "lender_amount_date_mot.reset_index(inplace=True)"
   ]
  },
  {
   "cell_type": "code",
   "execution_count": 74,
   "metadata": {},
   "outputs": [
    {
     "data": {
      "text/plain": [
       "(1, 8)"
      ]
     },
     "execution_count": 74,
     "metadata": {},
     "output_type": "execute_result"
    }
   ],
   "source": [
    "lender_amount_date_mot.shape"
   ]
  },
  {
   "cell_type": "markdown",
   "metadata": {},
   "source": [
    "##### HCS"
   ]
  },
  {
   "cell_type": "code",
   "execution_count": 75,
   "metadata": {},
   "outputs": [
    {
     "data": {
      "text/html": [
       "<div>\n",
       "<style scoped>\n",
       "    .dataframe tbody tr th:only-of-type {\n",
       "        vertical-align: middle;\n",
       "    }\n",
       "\n",
       "    .dataframe tbody tr th {\n",
       "        vertical-align: top;\n",
       "    }\n",
       "\n",
       "    .dataframe thead th {\n",
       "        text-align: right;\n",
       "    }\n",
       "</style>\n",
       "<table border=\"1\" class=\"dataframe\">\n",
       "  <thead>\n",
       "    <tr style=\"text-align: right;\">\n",
       "      <th></th>\n",
       "      <th>Date</th>\n",
       "      <th>provider_code</th>\n",
       "      <th>funded_by</th>\n",
       "      <th>amount</th>\n",
       "      <th>capital</th>\n",
       "      <th>interest</th>\n",
       "      <th>tax</th>\n",
       "    </tr>\n",
       "  </thead>\n",
       "  <tbody>\n",
       "  </tbody>\n",
       "</table>\n",
       "</div>"
      ],
      "text/plain": [
       "Empty DataFrame\n",
       "Columns: [Date, provider_code, funded_by, amount, capital, interest, tax]\n",
       "Index: []"
      ]
     },
     "execution_count": 75,
     "metadata": {},
     "output_type": "execute_result"
    }
   ],
   "source": [
    "lender_amount_date_hcs = lender_amount_date[(lender_amount_date['provider_code'] == 'HCS')]\n",
    "lender_amount_date_hcs.head()"
   ]
  },
  {
   "cell_type": "code",
   "execution_count": 76,
   "metadata": {},
   "outputs": [
    {
     "name": "stderr",
     "output_type": "stream",
     "text": [
      "C:\\Users\\Cristian.Aparicio\\AppData\\Local\\Temp\\ipykernel_16640\\2094493219.py:1: SettingWithCopyWarning: \n",
      "A value is trying to be set on a copy of a slice from a DataFrame\n",
      "\n",
      "See the caveats in the documentation: https://pandas.pydata.org/pandas-docs/stable/user_guide/indexing.html#returning-a-view-versus-a-copy\n",
      "  lender_amount_date_hcs.loc['ALL'] = lender_amount_date_hcs.sum(numeric_only=True)\n"
     ]
    }
   ],
   "source": [
    "lender_amount_date_hcs.loc['ALL'] = lender_amount_date_hcs.sum(numeric_only=True)\n",
    "lender_amount_date_hcs.reset_index(inplace=True)"
   ]
  },
  {
   "cell_type": "code",
   "execution_count": 77,
   "metadata": {},
   "outputs": [
    {
     "data": {
      "text/plain": [
       "(1, 8)"
      ]
     },
     "execution_count": 77,
     "metadata": {},
     "output_type": "execute_result"
    }
   ],
   "source": [
    "lender_amount_date_hcs.shape"
   ]
  },
  {
   "cell_type": "markdown",
   "metadata": {},
   "source": [
    "## AMOUNT BY EMAIL"
   ]
  },
  {
   "cell_type": "code",
   "execution_count": 78,
   "metadata": {},
   "outputs": [
    {
     "name": "stderr",
     "output_type": "stream",
     "text": [
      "C:\\Users\\Cristian.Aparicio\\AppData\\Local\\Temp\\ipykernel_16640\\3972625955.py:1: FutureWarning: The provided callable <function sum at 0x0000012B6DC7EAF0> is currently using DataFrameGroupBy.sum. In a future version of pandas, the provided callable will be used directly. To keep current behavior pass the string \"sum\" instead.\n",
      "  lender_amount_email = pd.pivot_table(lender,index=[\"merchant_id\",'provider_code'],values=['amount','capital',\n"
     ]
    },
    {
     "data": {
      "text/html": [
       "<div>\n",
       "<style scoped>\n",
       "    .dataframe tbody tr th:only-of-type {\n",
       "        vertical-align: middle;\n",
       "    }\n",
       "\n",
       "    .dataframe tbody tr th {\n",
       "        vertical-align: top;\n",
       "    }\n",
       "\n",
       "    .dataframe thead th {\n",
       "        text-align: right;\n",
       "    }\n",
       "</style>\n",
       "<table border=\"1\" class=\"dataframe\">\n",
       "  <thead>\n",
       "    <tr style=\"text-align: right;\">\n",
       "      <th></th>\n",
       "      <th>merchant_id</th>\n",
       "      <th>provider_code</th>\n",
       "      <th>amount</th>\n",
       "      <th>capital</th>\n",
       "      <th>interest</th>\n",
       "      <th>tax</th>\n",
       "    </tr>\n",
       "  </thead>\n",
       "  <tbody>\n",
       "    <tr>\n",
       "      <th>0</th>\n",
       "      <td>00016126-0052-402d-ba8a-95e5e1a1c673</td>\n",
       "      <td>CLIP</td>\n",
       "      <td>10,007.51</td>\n",
       "      <td>7,687.90</td>\n",
       "      <td>1,999.68</td>\n",
       "      <td>319.93</td>\n",
       "    </tr>\n",
       "    <tr>\n",
       "      <th>1</th>\n",
       "      <td>000e5198-a19b-41c8-8391-fe6ac3f6f70c</td>\n",
       "      <td>CLIP</td>\n",
       "      <td>7,286.53</td>\n",
       "      <td>5,344.67</td>\n",
       "      <td>1,674.01</td>\n",
       "      <td>267.85</td>\n",
       "    </tr>\n",
       "    <tr>\n",
       "      <th>2</th>\n",
       "      <td>000f9c5a-3aa0-451b-a862-f8b46d266a86</td>\n",
       "      <td>CLIP</td>\n",
       "      <td>5,518.86</td>\n",
       "      <td>4,800.52</td>\n",
       "      <td>619.23</td>\n",
       "      <td>99.11</td>\n",
       "    </tr>\n",
       "    <tr>\n",
       "      <th>3</th>\n",
       "      <td>00289512-dcb7-4e46-98aa-96b287f6c234</td>\n",
       "      <td>CLIP</td>\n",
       "      <td>1,290.12</td>\n",
       "      <td>983.32</td>\n",
       "      <td>264.47</td>\n",
       "      <td>42.33</td>\n",
       "    </tr>\n",
       "    <tr>\n",
       "      <th>4</th>\n",
       "      <td>00305d8a-7a5f-4c09-ac22-0ed11a028f11</td>\n",
       "      <td>CLIP</td>\n",
       "      <td>30,647.77</td>\n",
       "      <td>22,480.36</td>\n",
       "      <td>7,040.87</td>\n",
       "      <td>1,126.54</td>\n",
       "    </tr>\n",
       "  </tbody>\n",
       "</table>\n",
       "</div>"
      ],
      "text/plain": [
       "                            merchant_id provider_code    amount   capital  \\\n",
       "0  00016126-0052-402d-ba8a-95e5e1a1c673          CLIP 10,007.51  7,687.90   \n",
       "1  000e5198-a19b-41c8-8391-fe6ac3f6f70c          CLIP  7,286.53  5,344.67   \n",
       "2  000f9c5a-3aa0-451b-a862-f8b46d266a86          CLIP  5,518.86  4,800.52   \n",
       "3  00289512-dcb7-4e46-98aa-96b287f6c234          CLIP  1,290.12    983.32   \n",
       "4  00305d8a-7a5f-4c09-ac22-0ed11a028f11          CLIP 30,647.77 22,480.36   \n",
       "\n",
       "   interest      tax  \n",
       "0  1,999.68   319.93  \n",
       "1  1,674.01   267.85  \n",
       "2    619.23    99.11  \n",
       "3    264.47    42.33  \n",
       "4  7,040.87 1,126.54  "
      ]
     },
     "execution_count": 78,
     "metadata": {},
     "output_type": "execute_result"
    }
   ],
   "source": [
    "lender_amount_email = pd.pivot_table(lender,index=[\"merchant_id\",'provider_code'],values=['amount','capital',\n",
    "                                                   'interest','tax'],aggfunc=np.sum,margins=True)\n",
    "lender_amount_email = lender_amount_email.reset_index(drop=False)\n",
    "# lender_amount_email.to_csv('LENDER AMOUNT EMAIL ABRIL 2021.csv', index=None)\n",
    "lender_amount_email.head()"
   ]
  },
  {
   "cell_type": "code",
   "execution_count": 79,
   "metadata": {},
   "outputs": [
    {
     "data": {
      "text/plain": [
       "(14282, 6)"
      ]
     },
     "execution_count": 79,
     "metadata": {},
     "output_type": "execute_result"
    }
   ],
   "source": [
    "lender_amount_email.shape"
   ]
  },
  {
   "cell_type": "code",
   "execution_count": 80,
   "metadata": {},
   "outputs": [
    {
     "data": {
      "text/html": [
       "<div>\n",
       "<style scoped>\n",
       "    .dataframe tbody tr th:only-of-type {\n",
       "        vertical-align: middle;\n",
       "    }\n",
       "\n",
       "    .dataframe tbody tr th {\n",
       "        vertical-align: top;\n",
       "    }\n",
       "\n",
       "    .dataframe thead th {\n",
       "        text-align: right;\n",
       "    }\n",
       "</style>\n",
       "<table border=\"1\" class=\"dataframe\">\n",
       "  <thead>\n",
       "    <tr style=\"text-align: right;\">\n",
       "      <th></th>\n",
       "      <th>merchant_id</th>\n",
       "      <th>provider_code</th>\n",
       "      <th>amount</th>\n",
       "      <th>capital</th>\n",
       "      <th>interest</th>\n",
       "      <th>tax</th>\n",
       "    </tr>\n",
       "  </thead>\n",
       "  <tbody>\n",
       "    <tr>\n",
       "      <th>164</th>\n",
       "      <td>0326540d-b9c9-4bb8-adde-f728241d856b</td>\n",
       "      <td>CLIP</td>\n",
       "      <td>5,866.37</td>\n",
       "      <td>4,506.72</td>\n",
       "      <td>0.00</td>\n",
       "      <td>0.00</td>\n",
       "    </tr>\n",
       "    <tr>\n",
       "      <th>165</th>\n",
       "      <td>0326540d-b9c9-4bb8-adde-f728241d856b</td>\n",
       "      <td>MRP</td>\n",
       "      <td>16.14</td>\n",
       "      <td>11.59</td>\n",
       "      <td>3.92</td>\n",
       "      <td>0.63</td>\n",
       "    </tr>\n",
       "    <tr>\n",
       "      <th>242</th>\n",
       "      <td>0490c7ad-b985-4d65-b78c-5c7c1b58e977</td>\n",
       "      <td>CLIP</td>\n",
       "      <td>9,224.98</td>\n",
       "      <td>6,766.60</td>\n",
       "      <td>0.00</td>\n",
       "      <td>0.00</td>\n",
       "    </tr>\n",
       "    <tr>\n",
       "      <th>243</th>\n",
       "      <td>0490c7ad-b985-4d65-b78c-5c7c1b58e977</td>\n",
       "      <td>MRP</td>\n",
       "      <td>4,843.97</td>\n",
       "      <td>3,728.18</td>\n",
       "      <td>961.96</td>\n",
       "      <td>153.83</td>\n",
       "    </tr>\n",
       "    <tr>\n",
       "      <th>359</th>\n",
       "      <td>06aa4aed-9bf2-4055-b0dc-0467754eb378</td>\n",
       "      <td>CLIP</td>\n",
       "      <td>2,611.22</td>\n",
       "      <td>1,915.33</td>\n",
       "      <td>0.00</td>\n",
       "      <td>0.00</td>\n",
       "    </tr>\n",
       "    <tr>\n",
       "      <th>...</th>\n",
       "      <td>...</td>\n",
       "      <td>...</td>\n",
       "      <td>...</td>\n",
       "      <td>...</td>\n",
       "      <td>...</td>\n",
       "      <td>...</td>\n",
       "    </tr>\n",
       "    <tr>\n",
       "      <th>13314</th>\n",
       "      <td>ee64f1ab-0f25-40d7-b3c4-9e135a748dfd</td>\n",
       "      <td>MRP</td>\n",
       "      <td>4,443.45</td>\n",
       "      <td>3,190.11</td>\n",
       "      <td>1,080.46</td>\n",
       "      <td>172.88</td>\n",
       "    </tr>\n",
       "    <tr>\n",
       "      <th>13767</th>\n",
       "      <td>f6a4f0e5-ae5b-4e93-ba6b-d226239e333d</td>\n",
       "      <td>CLIP</td>\n",
       "      <td>269.52</td>\n",
       "      <td>224.39</td>\n",
       "      <td>0.00</td>\n",
       "      <td>0.00</td>\n",
       "    </tr>\n",
       "    <tr>\n",
       "      <th>13768</th>\n",
       "      <td>f6a4f0e5-ae5b-4e93-ba6b-d226239e333d</td>\n",
       "      <td>MRP</td>\n",
       "      <td>122.17</td>\n",
       "      <td>101.70</td>\n",
       "      <td>17.64</td>\n",
       "      <td>2.83</td>\n",
       "    </tr>\n",
       "    <tr>\n",
       "      <th>14268</th>\n",
       "      <td>ffc899c0-87d0-4bca-ab18-0542b3f4db96</td>\n",
       "      <td>CLIP</td>\n",
       "      <td>450.63</td>\n",
       "      <td>330.54</td>\n",
       "      <td>0.00</td>\n",
       "      <td>0.00</td>\n",
       "    </tr>\n",
       "    <tr>\n",
       "      <th>14269</th>\n",
       "      <td>ffc899c0-87d0-4bca-ab18-0542b3f4db96</td>\n",
       "      <td>MRP</td>\n",
       "      <td>2,941.88</td>\n",
       "      <td>1,914.50</td>\n",
       "      <td>885.68</td>\n",
       "      <td>141.70</td>\n",
       "    </tr>\n",
       "  </tbody>\n",
       "</table>\n",
       "<p>106 rows × 6 columns</p>\n",
       "</div>"
      ],
      "text/plain": [
       "                                merchant_id provider_code   amount  capital  \\\n",
       "164    0326540d-b9c9-4bb8-adde-f728241d856b          CLIP 5,866.37 4,506.72   \n",
       "165    0326540d-b9c9-4bb8-adde-f728241d856b           MRP    16.14    11.59   \n",
       "242    0490c7ad-b985-4d65-b78c-5c7c1b58e977          CLIP 9,224.98 6,766.60   \n",
       "243    0490c7ad-b985-4d65-b78c-5c7c1b58e977           MRP 4,843.97 3,728.18   \n",
       "359    06aa4aed-9bf2-4055-b0dc-0467754eb378          CLIP 2,611.22 1,915.33   \n",
       "...                                     ...           ...      ...      ...   \n",
       "13314  ee64f1ab-0f25-40d7-b3c4-9e135a748dfd           MRP 4,443.45 3,190.11   \n",
       "13767  f6a4f0e5-ae5b-4e93-ba6b-d226239e333d          CLIP   269.52   224.39   \n",
       "13768  f6a4f0e5-ae5b-4e93-ba6b-d226239e333d           MRP   122.17   101.70   \n",
       "14268  ffc899c0-87d0-4bca-ab18-0542b3f4db96          CLIP   450.63   330.54   \n",
       "14269  ffc899c0-87d0-4bca-ab18-0542b3f4db96           MRP 2,941.88 1,914.50   \n",
       "\n",
       "       interest    tax  \n",
       "164        0.00   0.00  \n",
       "165        3.92   0.63  \n",
       "242        0.00   0.00  \n",
       "243      961.96 153.83  \n",
       "359        0.00   0.00  \n",
       "...         ...    ...  \n",
       "13314  1,080.46 172.88  \n",
       "13767      0.00   0.00  \n",
       "13768     17.64   2.83  \n",
       "14268      0.00   0.00  \n",
       "14269    885.68 141.70  \n",
       "\n",
       "[106 rows x 6 columns]"
      ]
     },
     "execution_count": 80,
     "metadata": {},
     "output_type": "execute_result"
    }
   ],
   "source": [
    "duplicates = lender_amount_email[lender_amount_email.duplicated(['merchant_id'] , keep=False)]\n",
    "duplicates"
   ]
  },
  {
   "cell_type": "code",
   "execution_count": 81,
   "metadata": {},
   "outputs": [],
   "source": [
    "lender_amount_email.drop_duplicates(subset=\"merchant_id\",keep=\"first\",inplace=True)"
   ]
  },
  {
   "cell_type": "code",
   "execution_count": 82,
   "metadata": {},
   "outputs": [
    {
     "data": {
      "text/plain": [
       "(14229, 6)"
      ]
     },
     "execution_count": 82,
     "metadata": {},
     "output_type": "execute_result"
    }
   ],
   "source": [
    "lender_amount_email.shape"
   ]
  },
  {
   "cell_type": "markdown",
   "metadata": {},
   "source": [
    "# LEDGER INFO"
   ]
  },
  {
   "cell_type": "code",
   "execution_count": 83,
   "metadata": {},
   "outputs": [
    {
     "data": {
      "text/plain": [
       "['C:\\\\Users\\\\Cristian.Aparicio\\\\Documents\\\\FACTURACION\\\\2024\\\\01. ENERO\\\\LEDGER\\\\ledger_regular_fp_enero_2024.csv']"
      ]
     },
     "execution_count": 83,
     "metadata": {},
     "output_type": "execute_result"
    }
   ],
   "source": [
    "dynamo_files = glob.glob(r'C:\\Users\\Cristian.Aparicio\\Documents\\FACTURACION\\2024\\01. ENERO\\LEDGER\\ledger_regular*.csv', recursive=False)\n",
    "dynamo_files"
   ]
  },
  {
   "cell_type": "code",
   "execution_count": 84,
   "metadata": {},
   "outputs": [
    {
     "data": {
      "text/plain": [
       "['C:\\\\Users\\\\Cristian.Aparicio\\\\Documents\\\\FACTURACION\\\\2024\\\\01. ENERO\\\\LEDGER\\\\ledger_deferred_enero_2024.csv']"
      ]
     },
     "execution_count": 84,
     "metadata": {},
     "output_type": "execute_result"
    }
   ],
   "source": [
    "allfiles_deferred_payments = glob.glob(r'C:\\Users\\Cristian.Aparicio\\Documents\\FACTURACION\\2024\\01. ENERO\\LEDGER\\ledger_deferred*.csv', recursive=False)\n",
    "allfiles_deferred_payments"
   ]
  },
  {
   "cell_type": "code",
   "execution_count": 85,
   "metadata": {},
   "outputs": [
    {
     "data": {
      "text/plain": [
       "['C:\\\\Users\\\\Cristian.Aparicio\\\\Documents\\\\FACTURACION\\\\2024\\\\01. ENERO\\\\LEDGER\\\\Date_tpv_fees_taxes_ledger_enero_2024.xlsx']"
      ]
     },
     "execution_count": 85,
     "metadata": {},
     "output_type": "execute_result"
    }
   ],
   "source": [
    "dynamo_files_date = glob.glob(r'C:\\Users\\Cristian.Aparicio\\Documents\\FACTURACION\\2024\\01. ENERO\\LEDGER\\Date*.xlsx', recursive=False)\n",
    "dynamo_files_date"
   ]
  },
  {
   "cell_type": "code",
   "execution_count": 86,
   "metadata": {},
   "outputs": [
    {
     "data": {
      "text/plain": [
       "['C:\\\\Users\\\\Cristian.Aparicio\\\\Documents\\\\FACTURACION\\\\2024\\\\01. ENERO\\\\LEDGER\\\\TOPUPS_BILL_PAYMENTS_CASHBACK_LEDGER_ENERO_2024.xlsx']"
      ]
     },
     "execution_count": 86,
     "metadata": {},
     "output_type": "execute_result"
    }
   ],
   "source": [
    "dynamo_topups_billpymnt_cashback_files = glob.glob(r'C:\\Users\\Cristian.Aparicio\\Documents\\FACTURACION\\2024\\01. ENERO\\LEDGER\\TOPUPS*.xlsx', recursive=False)\n",
    "dynamo_topups_billpymnt_cashback_files"
   ]
  },
  {
   "cell_type": "markdown",
   "metadata": {},
   "source": [
    "### DETALLE LEDGER"
   ]
  },
  {
   "cell_type": "code",
   "execution_count": 87,
   "metadata": {},
   "outputs": [
    {
     "data": {
      "text/html": [
       "<div>\n",
       "<style scoped>\n",
       "    .dataframe tbody tr th:only-of-type {\n",
       "        vertical-align: middle;\n",
       "    }\n",
       "\n",
       "    .dataframe tbody tr th {\n",
       "        vertical-align: top;\n",
       "    }\n",
       "\n",
       "    .dataframe thead th {\n",
       "        text-align: right;\n",
       "    }\n",
       "</style>\n",
       "<table border=\"1\" class=\"dataframe\">\n",
       "  <thead>\n",
       "    <tr style=\"text-align: right;\">\n",
       "      <th></th>\n",
       "      <th>merchant_id</th>\n",
       "      <th>user_email</th>\n",
       "      <th>total_transactions</th>\n",
       "      <th>total_fees_charged</th>\n",
       "      <th>total_taxes</th>\n",
       "      <th>fee_direct_deposit</th>\n",
       "      <th>taxes_direct_deposit</th>\n",
       "      <th>frontend_commission_fees</th>\n",
       "      <th>frontend_commission_taxes</th>\n",
       "      <th>merchant_commission_fees</th>\n",
       "      <th>merchant_commission_taxes</th>\n",
       "      <th>fees_cashback</th>\n",
       "      <th>taxes_cashback</th>\n",
       "      <th>total_due</th>\n",
       "      <th>file_name</th>\n",
       "    </tr>\n",
       "  </thead>\n",
       "  <tbody>\n",
       "    <tr>\n",
       "      <th>0</th>\n",
       "      <td>0000275f-d46b-4a9c-a227-42d6f7ce63bd</td>\n",
       "      <td>o2794682@gmail.com</td>\n",
       "      <td>6,000.00</td>\n",
       "      <td>216.00</td>\n",
       "      <td>34.56</td>\n",
       "      <td>0.00</td>\n",
       "      <td>0.00</td>\n",
       "      <td>0.00</td>\n",
       "      <td>0.00</td>\n",
       "      <td>0.00</td>\n",
       "      <td>0.00</td>\n",
       "      <td>0.00</td>\n",
       "      <td>0.00</td>\n",
       "      <td>5,749.44</td>\n",
       "      <td>ledger_regular_fp_enero_2024.csv</td>\n",
       "    </tr>\n",
       "    <tr>\n",
       "      <th>1</th>\n",
       "      <td>00007725-3116-48dc-9b82-4145699dc290</td>\n",
       "      <td>dr.cesarcamarena.ortopedia@gmail.com</td>\n",
       "      <td>2,000.00</td>\n",
       "      <td>72.00</td>\n",
       "      <td>11.52</td>\n",
       "      <td>0.00</td>\n",
       "      <td>0.00</td>\n",
       "      <td>0.00</td>\n",
       "      <td>0.00</td>\n",
       "      <td>0.00</td>\n",
       "      <td>0.00</td>\n",
       "      <td>0.00</td>\n",
       "      <td>0.00</td>\n",
       "      <td>1,916.48</td>\n",
       "      <td>ledger_regular_fp_enero_2024.csv</td>\n",
       "    </tr>\n",
       "    <tr>\n",
       "      <th>2</th>\n",
       "      <td>00008e01-812f-487e-8f34-a80bcb0ae3e3</td>\n",
       "      <td>pagos@abz.com.mx</td>\n",
       "      <td>218,695.00</td>\n",
       "      <td>23,450.30</td>\n",
       "      <td>3,752.04</td>\n",
       "      <td>0.00</td>\n",
       "      <td>0.00</td>\n",
       "      <td>0.00</td>\n",
       "      <td>0.00</td>\n",
       "      <td>0.00</td>\n",
       "      <td>0.00</td>\n",
       "      <td>0.00</td>\n",
       "      <td>0.00</td>\n",
       "      <td>191,492.66</td>\n",
       "      <td>ledger_regular_fp_enero_2024.csv</td>\n",
       "    </tr>\n",
       "    <tr>\n",
       "      <th>3</th>\n",
       "      <td>000096e6-5d2f-47e9-a924-4b413eca6a43</td>\n",
       "      <td>hazel_ara88@hotmail.com</td>\n",
       "      <td>3,015.00</td>\n",
       "      <td>108.54</td>\n",
       "      <td>17.37</td>\n",
       "      <td>0.00</td>\n",
       "      <td>0.00</td>\n",
       "      <td>0.00</td>\n",
       "      <td>0.00</td>\n",
       "      <td>0.00</td>\n",
       "      <td>0.00</td>\n",
       "      <td>0.00</td>\n",
       "      <td>0.00</td>\n",
       "      <td>2,889.09</td>\n",
       "      <td>ledger_regular_fp_enero_2024.csv</td>\n",
       "    </tr>\n",
       "    <tr>\n",
       "      <th>4</th>\n",
       "      <td>0000b65a-c2a2-4993-8f4c-05e5b7cbd7c0</td>\n",
       "      <td>ruvalcabapeleteros@hotmail.com</td>\n",
       "      <td>25,177.97</td>\n",
       "      <td>906.42</td>\n",
       "      <td>145.03</td>\n",
       "      <td>0.00</td>\n",
       "      <td>0.00</td>\n",
       "      <td>0.00</td>\n",
       "      <td>0.00</td>\n",
       "      <td>0.00</td>\n",
       "      <td>0.00</td>\n",
       "      <td>0.00</td>\n",
       "      <td>0.00</td>\n",
       "      <td>24,126.52</td>\n",
       "      <td>ledger_regular_fp_enero_2024.csv</td>\n",
       "    </tr>\n",
       "  </tbody>\n",
       "</table>\n",
       "</div>"
      ],
      "text/plain": [
       "                            merchant_id                            user_email  \\\n",
       "0  0000275f-d46b-4a9c-a227-42d6f7ce63bd                    o2794682@gmail.com   \n",
       "1  00007725-3116-48dc-9b82-4145699dc290  dr.cesarcamarena.ortopedia@gmail.com   \n",
       "2  00008e01-812f-487e-8f34-a80bcb0ae3e3                      pagos@abz.com.mx   \n",
       "3  000096e6-5d2f-47e9-a924-4b413eca6a43               hazel_ara88@hotmail.com   \n",
       "4  0000b65a-c2a2-4993-8f4c-05e5b7cbd7c0        ruvalcabapeleteros@hotmail.com   \n",
       "\n",
       "   total_transactions  total_fees_charged  total_taxes  fee_direct_deposit  \\\n",
       "0            6,000.00              216.00        34.56                0.00   \n",
       "1            2,000.00               72.00        11.52                0.00   \n",
       "2          218,695.00           23,450.30     3,752.04                0.00   \n",
       "3            3,015.00              108.54        17.37                0.00   \n",
       "4           25,177.97              906.42       145.03                0.00   \n",
       "\n",
       "   taxes_direct_deposit  frontend_commission_fees  frontend_commission_taxes  \\\n",
       "0                  0.00                      0.00                       0.00   \n",
       "1                  0.00                      0.00                       0.00   \n",
       "2                  0.00                      0.00                       0.00   \n",
       "3                  0.00                      0.00                       0.00   \n",
       "4                  0.00                      0.00                       0.00   \n",
       "\n",
       "   merchant_commission_fees  merchant_commission_taxes  fees_cashback  \\\n",
       "0                      0.00                       0.00           0.00   \n",
       "1                      0.00                       0.00           0.00   \n",
       "2                      0.00                       0.00           0.00   \n",
       "3                      0.00                       0.00           0.00   \n",
       "4                      0.00                       0.00           0.00   \n",
       "\n",
       "   taxes_cashback  total_due                         file_name  \n",
       "0            0.00   5,749.44  ledger_regular_fp_enero_2024.csv  \n",
       "1            0.00   1,916.48  ledger_regular_fp_enero_2024.csv  \n",
       "2            0.00 191,492.66  ledger_regular_fp_enero_2024.csv  \n",
       "3            0.00   2,889.09  ledger_regular_fp_enero_2024.csv  \n",
       "4            0.00  24,126.52  ledger_regular_fp_enero_2024.csv  "
      ]
     },
     "execution_count": 87,
     "metadata": {},
     "output_type": "execute_result"
    }
   ],
   "source": [
    "dynamo = pd.concat([pd.read_csv(f).assign(file_name=os.path.basename(f)) for f in dynamo_files])\n",
    "dynamo.columns = dynamo.columns.str.strip().str.lower()\n",
    "dynamo.head()"
   ]
  },
  {
   "cell_type": "code",
   "execution_count": 88,
   "metadata": {},
   "outputs": [
    {
     "data": {
      "text/plain": [
       "(353615, 15)"
      ]
     },
     "execution_count": 88,
     "metadata": {},
     "output_type": "execute_result"
    }
   ],
   "source": [
    "dynamo.shape"
   ]
  },
  {
   "cell_type": "markdown",
   "metadata": {},
   "source": [
    "### DETALLE POR FECHA LEDGER"
   ]
  },
  {
   "cell_type": "code",
   "execution_count": 89,
   "metadata": {},
   "outputs": [
    {
     "data": {
      "text/html": [
       "<div>\n",
       "<style scoped>\n",
       "    .dataframe tbody tr th:only-of-type {\n",
       "        vertical-align: middle;\n",
       "    }\n",
       "\n",
       "    .dataframe tbody tr th {\n",
       "        vertical-align: top;\n",
       "    }\n",
       "\n",
       "    .dataframe thead th {\n",
       "        text-align: right;\n",
       "    }\n",
       "</style>\n",
       "<table border=\"1\" class=\"dataframe\">\n",
       "  <thead>\n",
       "    <tr style=\"text-align: right;\">\n",
       "      <th></th>\n",
       "      <th>eff_dt_date</th>\n",
       "      <th>mvnt_id</th>\n",
       "      <th>gross_amount_sett</th>\n",
       "      <th>fees_sett</th>\n",
       "      <th>taxes_sett</th>\n",
       "      <th>net_amount_sett</th>\n",
       "      <th>gross_amount_pymt</th>\n",
       "      <th>fees_pymt</th>\n",
       "      <th>taxes_pymt</th>\n",
       "      <th>net_amount_pymt</th>\n",
       "      <th>gross_amount</th>\n",
       "      <th>fees</th>\n",
       "      <th>taxes</th>\n",
       "      <th>net_amount</th>\n",
       "      <th>amount</th>\n",
       "      <th>file_name</th>\n",
       "    </tr>\n",
       "  </thead>\n",
       "  <tbody>\n",
       "    <tr>\n",
       "      <th>0</th>\n",
       "      <td>2024-01-01</td>\n",
       "      <td>499170</td>\n",
       "      <td>250,028,698.61</td>\n",
       "      <td>9,348,418.45</td>\n",
       "      <td>1,495,752.33</td>\n",
       "      <td>239,184,527.83</td>\n",
       "      <td>1,700,534.87</td>\n",
       "      <td>62,348.44</td>\n",
       "      <td>9,975.84</td>\n",
       "      <td>1,628,210.59</td>\n",
       "      <td>247,192,414.17</td>\n",
       "      <td>9,286,070.01</td>\n",
       "      <td>1,485,776.49</td>\n",
       "      <td>237,556,317.24</td>\n",
       "      <td>239,184,527.83</td>\n",
       "      <td>Date_tpv_fees_taxes_ledger_enero_2024.xlsx</td>\n",
       "    </tr>\n",
       "    <tr>\n",
       "      <th>1</th>\n",
       "      <td>2024-01-02</td>\n",
       "      <td>225339</td>\n",
       "      <td>136,026,094.33</td>\n",
       "      <td>5,107,101.76</td>\n",
       "      <td>817,140.19</td>\n",
       "      <td>130,101,852.38</td>\n",
       "      <td>830,610.04</td>\n",
       "      <td>38,045.40</td>\n",
       "      <td>6,087.13</td>\n",
       "      <td>786,477.51</td>\n",
       "      <td>134,332,483.25</td>\n",
       "      <td>5,069,056.36</td>\n",
       "      <td>811,053.06</td>\n",
       "      <td>129,315,374.87</td>\n",
       "      <td>130,101,852.38</td>\n",
       "      <td>Date_tpv_fees_taxes_ledger_enero_2024.xlsx</td>\n",
       "    </tr>\n",
       "    <tr>\n",
       "      <th>2</th>\n",
       "      <td>2024-01-03</td>\n",
       "      <td>437661</td>\n",
       "      <td>248,604,532.43</td>\n",
       "      <td>9,898,617.92</td>\n",
       "      <td>1,583,789.04</td>\n",
       "      <td>237,122,125.47</td>\n",
       "      <td>1,214,442.01</td>\n",
       "      <td>56,721.46</td>\n",
       "      <td>9,075.63</td>\n",
       "      <td>1,148,644.92</td>\n",
       "      <td>245,556,658.35</td>\n",
       "      <td>9,841,896.46</td>\n",
       "      <td>1,574,713.41</td>\n",
       "      <td>235,973,480.55</td>\n",
       "      <td>237,122,125.47</td>\n",
       "      <td>Date_tpv_fees_taxes_ledger_enero_2024.xlsx</td>\n",
       "    </tr>\n",
       "    <tr>\n",
       "      <th>3</th>\n",
       "      <td>2024-01-04</td>\n",
       "      <td>465679</td>\n",
       "      <td>262,997,720.77</td>\n",
       "      <td>10,499,019.18</td>\n",
       "      <td>1,679,852.83</td>\n",
       "      <td>250,818,848.76</td>\n",
       "      <td>1,305,251.60</td>\n",
       "      <td>57,637.01</td>\n",
       "      <td>9,222.02</td>\n",
       "      <td>1,238,392.57</td>\n",
       "      <td>259,877,049.39</td>\n",
       "      <td>10,441,382.17</td>\n",
       "      <td>1,670,630.81</td>\n",
       "      <td>249,580,456.19</td>\n",
       "      <td>250,818,848.76</td>\n",
       "      <td>Date_tpv_fees_taxes_ledger_enero_2024.xlsx</td>\n",
       "    </tr>\n",
       "    <tr>\n",
       "      <th>4</th>\n",
       "      <td>2024-01-05</td>\n",
       "      <td>496779</td>\n",
       "      <td>271,640,122.45</td>\n",
       "      <td>10,904,523.30</td>\n",
       "      <td>1,744,737.67</td>\n",
       "      <td>258,990,861.48</td>\n",
       "      <td>1,537,810.02</td>\n",
       "      <td>65,730.65</td>\n",
       "      <td>10,516.95</td>\n",
       "      <td>1,461,562.42</td>\n",
       "      <td>267,905,414.57</td>\n",
       "      <td>10,838,792.65</td>\n",
       "      <td>1,734,220.72</td>\n",
       "      <td>257,529,299.06</td>\n",
       "      <td>258,990,861.48</td>\n",
       "      <td>Date_tpv_fees_taxes_ledger_enero_2024.xlsx</td>\n",
       "    </tr>\n",
       "  </tbody>\n",
       "</table>\n",
       "</div>"
      ],
      "text/plain": [
       "  eff_dt_date  mvnt_id  gross_amount_sett     fees_sett   taxes_sett  \\\n",
       "0  2024-01-01   499170     250,028,698.61  9,348,418.45 1,495,752.33   \n",
       "1  2024-01-02   225339     136,026,094.33  5,107,101.76   817,140.19   \n",
       "2  2024-01-03   437661     248,604,532.43  9,898,617.92 1,583,789.04   \n",
       "3  2024-01-04   465679     262,997,720.77 10,499,019.18 1,679,852.83   \n",
       "4  2024-01-05   496779     271,640,122.45 10,904,523.30 1,744,737.67   \n",
       "\n",
       "   net_amount_sett  gross_amount_pymt  fees_pymt  taxes_pymt  net_amount_pymt  \\\n",
       "0   239,184,527.83       1,700,534.87  62,348.44    9,975.84     1,628,210.59   \n",
       "1   130,101,852.38         830,610.04  38,045.40    6,087.13       786,477.51   \n",
       "2   237,122,125.47       1,214,442.01  56,721.46    9,075.63     1,148,644.92   \n",
       "3   250,818,848.76       1,305,251.60  57,637.01    9,222.02     1,238,392.57   \n",
       "4   258,990,861.48       1,537,810.02  65,730.65   10,516.95     1,461,562.42   \n",
       "\n",
       "    gross_amount          fees        taxes     net_amount         amount  \\\n",
       "0 247,192,414.17  9,286,070.01 1,485,776.49 237,556,317.24 239,184,527.83   \n",
       "1 134,332,483.25  5,069,056.36   811,053.06 129,315,374.87 130,101,852.38   \n",
       "2 245,556,658.35  9,841,896.46 1,574,713.41 235,973,480.55 237,122,125.47   \n",
       "3 259,877,049.39 10,441,382.17 1,670,630.81 249,580,456.19 250,818,848.76   \n",
       "4 267,905,414.57 10,838,792.65 1,734,220.72 257,529,299.06 258,990,861.48   \n",
       "\n",
       "                                    file_name  \n",
       "0  Date_tpv_fees_taxes_ledger_enero_2024.xlsx  \n",
       "1  Date_tpv_fees_taxes_ledger_enero_2024.xlsx  \n",
       "2  Date_tpv_fees_taxes_ledger_enero_2024.xlsx  \n",
       "3  Date_tpv_fees_taxes_ledger_enero_2024.xlsx  \n",
       "4  Date_tpv_fees_taxes_ledger_enero_2024.xlsx  "
      ]
     },
     "execution_count": 89,
     "metadata": {},
     "output_type": "execute_result"
    }
   ],
   "source": [
    "dynamo_date = pd.concat([pd.read_excel(f).assign(file_name=os.path.basename(f)) for f in dynamo_files_date])\n",
    "dynamo_date.columns = dynamo_date.columns.str.strip().str.lower()\n",
    "dynamo_date['eff_dt_date']= pd.to_datetime(dynamo_date['eff_dt_date'])\n",
    "dynamo_date.head()"
   ]
  },
  {
   "cell_type": "code",
   "execution_count": 90,
   "metadata": {},
   "outputs": [
    {
     "data": {
      "text/plain": [
       "(31, 16)"
      ]
     },
     "execution_count": 90,
     "metadata": {},
     "output_type": "execute_result"
    }
   ],
   "source": [
    "dynamo_date.shape"
   ]
  },
  {
   "cell_type": "markdown",
   "metadata": {},
   "source": [
    "### DETALLE LEDGER - DEFERRED PAYMENTS"
   ]
  },
  {
   "cell_type": "code",
   "execution_count": 91,
   "metadata": {},
   "outputs": [
    {
     "data": {
      "text/html": [
       "<div>\n",
       "<style scoped>\n",
       "    .dataframe tbody tr th:only-of-type {\n",
       "        vertical-align: middle;\n",
       "    }\n",
       "\n",
       "    .dataframe tbody tr th {\n",
       "        vertical-align: top;\n",
       "    }\n",
       "\n",
       "    .dataframe thead th {\n",
       "        text-align: right;\n",
       "    }\n",
       "</style>\n",
       "<table border=\"1\" class=\"dataframe\">\n",
       "  <thead>\n",
       "    <tr style=\"text-align: right;\">\n",
       "      <th></th>\n",
       "      <th>merchant_id</th>\n",
       "      <th>amount</th>\n",
       "      <th>currency</th>\n",
       "      <th>type_request</th>\n",
       "      <th>mvnt_id</th>\n",
       "      <th>movement_type</th>\n",
       "      <th>source_type</th>\n",
       "      <th>created_at</th>\n",
       "      <th>eff_dt</th>\n",
       "      <th>movement_day</th>\n",
       "      <th>...</th>\n",
       "      <th>psp_amount</th>\n",
       "      <th>gross_amount</th>\n",
       "      <th>fees</th>\n",
       "      <th>taxes</th>\n",
       "      <th>net_amount</th>\n",
       "      <th>movement_type_sml</th>\n",
       "      <th>gross_amount_dp</th>\n",
       "      <th>ingreso_deferred</th>\n",
       "      <th>fees_deferred</th>\n",
       "      <th>taxes_deferred</th>\n",
       "    </tr>\n",
       "  </thead>\n",
       "  <tbody>\n",
       "    <tr>\n",
       "      <th>0</th>\n",
       "      <td>00008e01-812f-487e-8f34-a80bcb0ae3e3</td>\n",
       "      <td>47,912.00</td>\n",
       "      <td>MXN</td>\n",
       "      <td>deferred regular payment request</td>\n",
       "      <td>89642c1b-ee74-48a9-a7f4-39f9a6e54aec</td>\n",
       "      <td>DEFERRED_REGULAR_PYMNT_RQ</td>\n",
       "      <td>SETT</td>\n",
       "      <td>2024-01-14 19:06:32</td>\n",
       "      <td>2024-01-15 05:00:00</td>\n",
       "      <td>2024-01-14 19:06:32</td>\n",
       "      <td>...</td>\n",
       "      <td>0.00</td>\n",
       "      <td>0.00</td>\n",
       "      <td>0.00</td>\n",
       "      <td>0.00</td>\n",
       "      <td>0.00</td>\n",
       "      <td>0</td>\n",
       "      <td>0.00</td>\n",
       "      <td>0.00</td>\n",
       "      <td>0.00</td>\n",
       "      <td>0.00</td>\n",
       "    </tr>\n",
       "    <tr>\n",
       "      <th>1</th>\n",
       "      <td>000d3241-c56d-4f94-acef-864f0b9e3f82</td>\n",
       "      <td>1,581.10</td>\n",
       "      <td>MXN</td>\n",
       "      <td>deferred regular payment request</td>\n",
       "      <td>fbfdcba3-c098-42ab-ac37-4dc4c21ff24b</td>\n",
       "      <td>DEFERRED_REGULAR_PYMNT_RQ</td>\n",
       "      <td>SETT</td>\n",
       "      <td>2024-01-22 20:31:25</td>\n",
       "      <td>2024-01-23 05:30:00</td>\n",
       "      <td>2024-01-22 20:31:25</td>\n",
       "      <td>...</td>\n",
       "      <td>1,779.20</td>\n",
       "      <td>0.00</td>\n",
       "      <td>59.40</td>\n",
       "      <td>9.50</td>\n",
       "      <td>1,581.10</td>\n",
       "      <td>0</td>\n",
       "      <td>1,650.00</td>\n",
       "      <td>129.20</td>\n",
       "      <td>111.38</td>\n",
       "      <td>17.82</td>\n",
       "    </tr>\n",
       "    <tr>\n",
       "      <th>2</th>\n",
       "      <td>000f9c5a-3aa0-451b-a862-f8b46d266a86</td>\n",
       "      <td>527.03</td>\n",
       "      <td>MXN</td>\n",
       "      <td>deferred regular payment request</td>\n",
       "      <td>4fd92dc2-1b65-44df-be03-1439b928a029</td>\n",
       "      <td>DEFERRED_REGULAR_PYMNT_RQ</td>\n",
       "      <td>SETT</td>\n",
       "      <td>2024-01-04 22:43:00</td>\n",
       "      <td>2024-01-05 06:00:00</td>\n",
       "      <td>2024-01-04 22:43:00</td>\n",
       "      <td>...</td>\n",
       "      <td>593.07</td>\n",
       "      <td>0.00</td>\n",
       "      <td>19.80</td>\n",
       "      <td>3.17</td>\n",
       "      <td>527.03</td>\n",
       "      <td>0</td>\n",
       "      <td>550.00</td>\n",
       "      <td>43.07</td>\n",
       "      <td>37.13</td>\n",
       "      <td>5.94</td>\n",
       "    </tr>\n",
       "    <tr>\n",
       "      <th>3</th>\n",
       "      <td>0012c361-20dd-41d0-bab7-562c785cc07b</td>\n",
       "      <td>344.97</td>\n",
       "      <td>MXN</td>\n",
       "      <td>deferred regular payment request</td>\n",
       "      <td>f8f7ca4f-765b-4f05-afa5-26e188b1097b</td>\n",
       "      <td>DEFERRED_REGULAR_PYMNT_RQ</td>\n",
       "      <td>SETT</td>\n",
       "      <td>2024-01-20 13:25:45</td>\n",
       "      <td>2024-01-21 03:30:00</td>\n",
       "      <td>2024-01-20 13:25:45</td>\n",
       "      <td>...</td>\n",
       "      <td>388.19</td>\n",
       "      <td>0.00</td>\n",
       "      <td>12.96</td>\n",
       "      <td>2.07</td>\n",
       "      <td>344.97</td>\n",
       "      <td>0</td>\n",
       "      <td>360.00</td>\n",
       "      <td>28.19</td>\n",
       "      <td>24.30</td>\n",
       "      <td>3.89</td>\n",
       "    </tr>\n",
       "    <tr>\n",
       "      <th>4</th>\n",
       "      <td>00143c00-bd17-412c-b71c-a1b97d6cc866</td>\n",
       "      <td>22,039.52</td>\n",
       "      <td>MXN</td>\n",
       "      <td>deferred regular payment request</td>\n",
       "      <td>75f3671b-61ff-4917-96c4-f01d5270ba4b</td>\n",
       "      <td>DEFERRED_REGULAR_PYMNT_RQ</td>\n",
       "      <td>SETT</td>\n",
       "      <td>2024-01-17 08:42:50</td>\n",
       "      <td>2024-01-18 02:30:00</td>\n",
       "      <td>2024-01-17 08:42:50</td>\n",
       "      <td>...</td>\n",
       "      <td>25,812.90</td>\n",
       "      <td>0.00</td>\n",
       "      <td>828.00</td>\n",
       "      <td>132.48</td>\n",
       "      <td>22,039.52</td>\n",
       "      <td>0</td>\n",
       "      <td>23,000.00</td>\n",
       "      <td>2,812.90</td>\n",
       "      <td>2,424.91</td>\n",
       "      <td>387.99</td>\n",
       "    </tr>\n",
       "  </tbody>\n",
       "</table>\n",
       "<p>5 rows × 46 columns</p>\n",
       "</div>"
      ],
      "text/plain": [
       "                            merchant_id    amount currency  \\\n",
       "0  00008e01-812f-487e-8f34-a80bcb0ae3e3 47,912.00      MXN   \n",
       "1  000d3241-c56d-4f94-acef-864f0b9e3f82  1,581.10      MXN   \n",
       "2  000f9c5a-3aa0-451b-a862-f8b46d266a86    527.03      MXN   \n",
       "3  0012c361-20dd-41d0-bab7-562c785cc07b    344.97      MXN   \n",
       "4  00143c00-bd17-412c-b71c-a1b97d6cc866 22,039.52      MXN   \n",
       "\n",
       "                       type_request                               mvnt_id  \\\n",
       "0  deferred regular payment request  89642c1b-ee74-48a9-a7f4-39f9a6e54aec   \n",
       "1  deferred regular payment request  fbfdcba3-c098-42ab-ac37-4dc4c21ff24b   \n",
       "2  deferred regular payment request  4fd92dc2-1b65-44df-be03-1439b928a029   \n",
       "3  deferred regular payment request  f8f7ca4f-765b-4f05-afa5-26e188b1097b   \n",
       "4  deferred regular payment request  75f3671b-61ff-4917-96c4-f01d5270ba4b   \n",
       "\n",
       "               movement_type source_type          created_at  \\\n",
       "0  DEFERRED_REGULAR_PYMNT_RQ        SETT 2024-01-14 19:06:32   \n",
       "1  DEFERRED_REGULAR_PYMNT_RQ        SETT 2024-01-22 20:31:25   \n",
       "2  DEFERRED_REGULAR_PYMNT_RQ        SETT 2024-01-04 22:43:00   \n",
       "3  DEFERRED_REGULAR_PYMNT_RQ        SETT 2024-01-20 13:25:45   \n",
       "4  DEFERRED_REGULAR_PYMNT_RQ        SETT 2024-01-17 08:42:50   \n",
       "\n",
       "               eff_dt        movement_day  ... psp_amount gross_amount   fees  \\\n",
       "0 2024-01-15 05:00:00 2024-01-14 19:06:32  ...       0.00         0.00   0.00   \n",
       "1 2024-01-23 05:30:00 2024-01-22 20:31:25  ...   1,779.20         0.00  59.40   \n",
       "2 2024-01-05 06:00:00 2024-01-04 22:43:00  ...     593.07         0.00  19.80   \n",
       "3 2024-01-21 03:30:00 2024-01-20 13:25:45  ...     388.19         0.00  12.96   \n",
       "4 2024-01-18 02:30:00 2024-01-17 08:42:50  ...  25,812.90         0.00 828.00   \n",
       "\n",
       "   taxes net_amount movement_type_sml gross_amount_dp  ingreso_deferred  \\\n",
       "0   0.00       0.00                 0            0.00              0.00   \n",
       "1   9.50   1,581.10                 0        1,650.00            129.20   \n",
       "2   3.17     527.03                 0          550.00             43.07   \n",
       "3   2.07     344.97                 0          360.00             28.19   \n",
       "4 132.48  22,039.52                 0       23,000.00          2,812.90   \n",
       "\n",
       "   fees_deferred  taxes_deferred  \n",
       "0           0.00            0.00  \n",
       "1         111.38           17.82  \n",
       "2          37.13            5.94  \n",
       "3          24.30            3.89  \n",
       "4       2,424.91          387.99  \n",
       "\n",
       "[5 rows x 46 columns]"
      ]
     },
     "execution_count": 91,
     "metadata": {},
     "output_type": "execute_result"
    }
   ],
   "source": [
    "deferred_payments = pd.concat([pd.read_csv(f).assign(file_name=os.path.basename(f)) for f in allfiles_deferred_payments])\n",
    "deferred_payments.columns = deferred_payments.columns.str.strip().str.lower()\n",
    "deferred_payments['created_at']= pd.to_datetime(deferred_payments['created_at'])\n",
    "deferred_payments['eff_dt']= pd.to_datetime(deferred_payments['eff_dt'])\n",
    "deferred_payments['movement_day']= pd.to_datetime(deferred_payments['movement_day'])\n",
    "deferred_payments['request_effective_date']= pd.to_datetime(deferred_payments['request_effective_date'])\n",
    "deferred_payments['slot_date']= pd.to_datetime(deferred_payments['slot_date'])\n",
    "deferred_payments['eff_dt_date']= pd.to_datetime(deferred_payments['eff_dt_date'])\n",
    "deferred_payments.rename(columns={'email':'user_email'},inplace=True)\n",
    "deferred_payments.head()"
   ]
  },
  {
   "cell_type": "code",
   "execution_count": 92,
   "metadata": {},
   "outputs": [
    {
     "data": {
      "text/plain": [
       "(19893, 46)"
      ]
     },
     "execution_count": 92,
     "metadata": {},
     "output_type": "execute_result"
    }
   ],
   "source": [
    "deferred_payments.shape"
   ]
  },
  {
   "cell_type": "code",
   "execution_count": 93,
   "metadata": {},
   "outputs": [
    {
     "name": "stderr",
     "output_type": "stream",
     "text": [
      "C:\\Users\\Cristian.Aparicio\\AppData\\Local\\Temp\\ipykernel_16640\\797568100.py:4: SettingWithCopyWarning: \n",
      "A value is trying to be set on a copy of a slice from a DataFrame.\n",
      "Try using .loc[row_indexer,col_indexer] = value instead\n",
      "\n",
      "See the caveats in the documentation: https://pandas.pydata.org/pandas-docs/stable/user_guide/indexing.html#returning-a-view-versus-a-copy\n",
      "  deferred_payments_status_1_fact['eff_dt_date']= pd.to_datetime(deferred_payments_status_1_fact['eff_dt_date'])\n"
     ]
    },
    {
     "data": {
      "text/html": [
       "<div>\n",
       "<style scoped>\n",
       "    .dataframe tbody tr th:only-of-type {\n",
       "        vertical-align: middle;\n",
       "    }\n",
       "\n",
       "    .dataframe tbody tr th {\n",
       "        vertical-align: top;\n",
       "    }\n",
       "\n",
       "    .dataframe thead th {\n",
       "        text-align: right;\n",
       "    }\n",
       "</style>\n",
       "<table border=\"1\" class=\"dataframe\">\n",
       "  <thead>\n",
       "    <tr style=\"text-align: right;\">\n",
       "      <th></th>\n",
       "      <th>merchant_id</th>\n",
       "      <th>user_email</th>\n",
       "      <th>eff_dt_date</th>\n",
       "      <th>receipt_no</th>\n",
       "      <th>psp_amount</th>\n",
       "      <th>gross_amount_dp</th>\n",
       "      <th>ingreso_deferred</th>\n",
       "      <th>fees_deferred</th>\n",
       "      <th>taxes_deferred</th>\n",
       "    </tr>\n",
       "  </thead>\n",
       "  <tbody>\n",
       "    <tr>\n",
       "      <th>0</th>\n",
       "      <td>00008e01-812f-487e-8f34-a80bcb0ae3e3</td>\n",
       "      <td>pagos@abz.com.mx</td>\n",
       "      <td>2024-01-15</td>\n",
       "      <td>5UfuOTY</td>\n",
       "      <td>0.00</td>\n",
       "      <td>0.00</td>\n",
       "      <td>0.00</td>\n",
       "      <td>0.00</td>\n",
       "      <td>0.00</td>\n",
       "    </tr>\n",
       "    <tr>\n",
       "      <th>1</th>\n",
       "      <td>000d3241-c56d-4f94-acef-864f0b9e3f82</td>\n",
       "      <td>logisticnava@gmail.com</td>\n",
       "      <td>2024-01-23</td>\n",
       "      <td>i2jxPvb</td>\n",
       "      <td>1,779.20</td>\n",
       "      <td>1,650.00</td>\n",
       "      <td>129.20</td>\n",
       "      <td>111.38</td>\n",
       "      <td>17.82</td>\n",
       "    </tr>\n",
       "    <tr>\n",
       "      <th>2</th>\n",
       "      <td>000f9c5a-3aa0-451b-a862-f8b46d266a86</td>\n",
       "      <td>cobros.sups@gmail.com</td>\n",
       "      <td>2024-01-05</td>\n",
       "      <td>s0ALCPa</td>\n",
       "      <td>593.07</td>\n",
       "      <td>550.00</td>\n",
       "      <td>43.07</td>\n",
       "      <td>37.13</td>\n",
       "      <td>5.94</td>\n",
       "    </tr>\n",
       "    <tr>\n",
       "      <th>3</th>\n",
       "      <td>0012c361-20dd-41d0-bab7-562c785cc07b</td>\n",
       "      <td>ms691048@gmail.com</td>\n",
       "      <td>2024-01-21</td>\n",
       "      <td>TsrAR10</td>\n",
       "      <td>388.19</td>\n",
       "      <td>360.00</td>\n",
       "      <td>28.19</td>\n",
       "      <td>24.30</td>\n",
       "      <td>3.89</td>\n",
       "    </tr>\n",
       "    <tr>\n",
       "      <th>4</th>\n",
       "      <td>00143c00-bd17-412c-b71c-a1b97d6cc866</td>\n",
       "      <td>cb_negocios@hotmail.com</td>\n",
       "      <td>2024-01-18</td>\n",
       "      <td>RGSMfwa</td>\n",
       "      <td>25,812.90</td>\n",
       "      <td>23,000.00</td>\n",
       "      <td>2,812.90</td>\n",
       "      <td>2,424.91</td>\n",
       "      <td>387.99</td>\n",
       "    </tr>\n",
       "  </tbody>\n",
       "</table>\n",
       "</div>"
      ],
      "text/plain": [
       "                            merchant_id               user_email eff_dt_date  \\\n",
       "0  00008e01-812f-487e-8f34-a80bcb0ae3e3         pagos@abz.com.mx  2024-01-15   \n",
       "1  000d3241-c56d-4f94-acef-864f0b9e3f82   logisticnava@gmail.com  2024-01-23   \n",
       "2  000f9c5a-3aa0-451b-a862-f8b46d266a86    cobros.sups@gmail.com  2024-01-05   \n",
       "3  0012c361-20dd-41d0-bab7-562c785cc07b       ms691048@gmail.com  2024-01-21   \n",
       "4  00143c00-bd17-412c-b71c-a1b97d6cc866  cb_negocios@hotmail.com  2024-01-18   \n",
       "\n",
       "  receipt_no  psp_amount  gross_amount_dp  ingreso_deferred  fees_deferred  \\\n",
       "0    5UfuOTY        0.00             0.00              0.00           0.00   \n",
       "1    i2jxPvb    1,779.20         1,650.00            129.20         111.38   \n",
       "2    s0ALCPa      593.07           550.00             43.07          37.13   \n",
       "3    TsrAR10      388.19           360.00             28.19          24.30   \n",
       "4    RGSMfwa   25,812.90        23,000.00          2,812.90       2,424.91   \n",
       "\n",
       "   taxes_deferred  \n",
       "0            0.00  \n",
       "1           17.82  \n",
       "2            5.94  \n",
       "3            3.89  \n",
       "4          387.99  "
      ]
     },
     "execution_count": 93,
     "metadata": {},
     "output_type": "execute_result"
    }
   ],
   "source": [
    "deferred_payments_status_1_fact = deferred_payments[['merchant_id','user_email','eff_dt_date','receipt_no',\n",
    "                                                     'psp_amount','gross_amount_dp','ingreso_deferred','fees_deferred',\n",
    "                                                     'taxes_deferred']]\n",
    "deferred_payments_status_1_fact['eff_dt_date']= pd.to_datetime(deferred_payments_status_1_fact['eff_dt_date'])\n",
    "deferred_payments_status_1_fact.head()"
   ]
  },
  {
   "cell_type": "code",
   "execution_count": 94,
   "metadata": {},
   "outputs": [
    {
     "data": {
      "text/plain": [
       "(19893, 9)"
      ]
     },
     "execution_count": 94,
     "metadata": {},
     "output_type": "execute_result"
    }
   ],
   "source": [
    "deferred_payments_status_1_fact.shape"
   ]
  },
  {
   "cell_type": "markdown",
   "metadata": {},
   "source": [
    "### DETALLE POR FECHA LEDGER - DEFERRED PAYMENTS"
   ]
  },
  {
   "cell_type": "code",
   "execution_count": 95,
   "metadata": {},
   "outputs": [
    {
     "name": "stderr",
     "output_type": "stream",
     "text": [
      "C:\\Users\\Cristian.Aparicio\\AppData\\Local\\Temp\\ipykernel_16640\\2540733072.py:1: FutureWarning: The provided callable <function sum at 0x0000012B6DC7EAF0> is currently using DataFrameGroupBy.sum. In a future version of pandas, the provided callable will be used directly. To keep current behavior pass the string \"sum\" instead.\n",
      "  group_deferred_payments_status_1_fact = pd.pivot_table(deferred_payments_status_1_fact,index=[\"eff_dt_date\"],\n"
     ]
    },
    {
     "data": {
      "text/html": [
       "<div>\n",
       "<style scoped>\n",
       "    .dataframe tbody tr th:only-of-type {\n",
       "        vertical-align: middle;\n",
       "    }\n",
       "\n",
       "    .dataframe tbody tr th {\n",
       "        vertical-align: top;\n",
       "    }\n",
       "\n",
       "    .dataframe thead th {\n",
       "        text-align: right;\n",
       "    }\n",
       "</style>\n",
       "<table border=\"1\" class=\"dataframe\">\n",
       "  <thead>\n",
       "    <tr style=\"text-align: right;\">\n",
       "      <th></th>\n",
       "      <th>eff_dt_date</th>\n",
       "      <th>fees_deferred</th>\n",
       "      <th>gross_amount_dp</th>\n",
       "      <th>ingreso_deferred</th>\n",
       "      <th>psp_amount</th>\n",
       "      <th>taxes_deferred</th>\n",
       "    </tr>\n",
       "  </thead>\n",
       "  <tbody>\n",
       "    <tr>\n",
       "      <th>0</th>\n",
       "      <td>2024-01-01</td>\n",
       "      <td>112,602.19</td>\n",
       "      <td>1,135,749.57</td>\n",
       "      <td>130,618.54</td>\n",
       "      <td>1,266,368.11</td>\n",
       "      <td>18,016.35</td>\n",
       "    </tr>\n",
       "    <tr>\n",
       "      <th>1</th>\n",
       "      <td>2024-01-02</td>\n",
       "      <td>102,945.30</td>\n",
       "      <td>863,001.04</td>\n",
       "      <td>119,416.55</td>\n",
       "      <td>982,417.59</td>\n",
       "      <td>16,471.25</td>\n",
       "    </tr>\n",
       "    <tr>\n",
       "      <th>2</th>\n",
       "      <td>2024-01-03</td>\n",
       "      <td>212,450.60</td>\n",
       "      <td>1,833,432.07</td>\n",
       "      <td>246,442.70</td>\n",
       "      <td>2,079,874.77</td>\n",
       "      <td>33,992.10</td>\n",
       "    </tr>\n",
       "    <tr>\n",
       "      <th>3</th>\n",
       "      <td>2024-01-04</td>\n",
       "      <td>215,647.90</td>\n",
       "      <td>1,815,419.78</td>\n",
       "      <td>250,151.56</td>\n",
       "      <td>2,065,571.34</td>\n",
       "      <td>34,503.66</td>\n",
       "    </tr>\n",
       "    <tr>\n",
       "      <th>4</th>\n",
       "      <td>2024-01-05</td>\n",
       "      <td>250,311.04</td>\n",
       "      <td>2,196,897.86</td>\n",
       "      <td>290,360.81</td>\n",
       "      <td>2,487,258.67</td>\n",
       "      <td>40,049.77</td>\n",
       "    </tr>\n",
       "  </tbody>\n",
       "</table>\n",
       "</div>"
      ],
      "text/plain": [
       "  eff_dt_date  fees_deferred  gross_amount_dp  ingreso_deferred   psp_amount  \\\n",
       "0  2024-01-01     112,602.19     1,135,749.57        130,618.54 1,266,368.11   \n",
       "1  2024-01-02     102,945.30       863,001.04        119,416.55   982,417.59   \n",
       "2  2024-01-03     212,450.60     1,833,432.07        246,442.70 2,079,874.77   \n",
       "3  2024-01-04     215,647.90     1,815,419.78        250,151.56 2,065,571.34   \n",
       "4  2024-01-05     250,311.04     2,196,897.86        290,360.81 2,487,258.67   \n",
       "\n",
       "   taxes_deferred  \n",
       "0       18,016.35  \n",
       "1       16,471.25  \n",
       "2       33,992.10  \n",
       "3       34,503.66  \n",
       "4       40,049.77  "
      ]
     },
     "execution_count": 95,
     "metadata": {},
     "output_type": "execute_result"
    }
   ],
   "source": [
    "group_deferred_payments_status_1_fact = pd.pivot_table(deferred_payments_status_1_fact,index=[\"eff_dt_date\"],\n",
    "                                                       values=[\"psp_amount\",'gross_amount_dp',\"ingreso_deferred\",\n",
    "                                                                       'fees_deferred',\"taxes_deferred\"],\n",
    "                                     aggfunc=np.sum,margins=False).reset_index()\n",
    "group_deferred_payments_status_1_fact.head()"
   ]
  },
  {
   "cell_type": "code",
   "execution_count": 96,
   "metadata": {},
   "outputs": [
    {
     "data": {
      "text/html": [
       "<div>\n",
       "<style scoped>\n",
       "    .dataframe tbody tr th:only-of-type {\n",
       "        vertical-align: middle;\n",
       "    }\n",
       "\n",
       "    .dataframe tbody tr th {\n",
       "        vertical-align: top;\n",
       "    }\n",
       "\n",
       "    .dataframe thead th {\n",
       "        text-align: right;\n",
       "    }\n",
       "</style>\n",
       "<table border=\"1\" class=\"dataframe\">\n",
       "  <thead>\n",
       "    <tr style=\"text-align: right;\">\n",
       "      <th></th>\n",
       "      <th>eff_dt_date</th>\n",
       "      <th>psp_amount</th>\n",
       "      <th>gross_amount_dp</th>\n",
       "      <th>ingreso_deferred</th>\n",
       "      <th>fees_deferred</th>\n",
       "      <th>taxes_deferred</th>\n",
       "    </tr>\n",
       "  </thead>\n",
       "  <tbody>\n",
       "    <tr>\n",
       "      <th>0</th>\n",
       "      <td>2024-01-01</td>\n",
       "      <td>1,266,368.11</td>\n",
       "      <td>1,135,749.57</td>\n",
       "      <td>130,618.54</td>\n",
       "      <td>112,602.19</td>\n",
       "      <td>18,016.35</td>\n",
       "    </tr>\n",
       "    <tr>\n",
       "      <th>1</th>\n",
       "      <td>2024-01-02</td>\n",
       "      <td>982,417.59</td>\n",
       "      <td>863,001.04</td>\n",
       "      <td>119,416.55</td>\n",
       "      <td>102,945.30</td>\n",
       "      <td>16,471.25</td>\n",
       "    </tr>\n",
       "    <tr>\n",
       "      <th>2</th>\n",
       "      <td>2024-01-03</td>\n",
       "      <td>2,079,874.77</td>\n",
       "      <td>1,833,432.07</td>\n",
       "      <td>246,442.70</td>\n",
       "      <td>212,450.60</td>\n",
       "      <td>33,992.10</td>\n",
       "    </tr>\n",
       "    <tr>\n",
       "      <th>3</th>\n",
       "      <td>2024-01-04</td>\n",
       "      <td>2,065,571.34</td>\n",
       "      <td>1,815,419.78</td>\n",
       "      <td>250,151.56</td>\n",
       "      <td>215,647.90</td>\n",
       "      <td>34,503.66</td>\n",
       "    </tr>\n",
       "    <tr>\n",
       "      <th>4</th>\n",
       "      <td>2024-01-05</td>\n",
       "      <td>2,487,258.67</td>\n",
       "      <td>2,196,897.86</td>\n",
       "      <td>290,360.81</td>\n",
       "      <td>250,311.04</td>\n",
       "      <td>40,049.77</td>\n",
       "    </tr>\n",
       "  </tbody>\n",
       "</table>\n",
       "</div>"
      ],
      "text/plain": [
       "  eff_dt_date   psp_amount  gross_amount_dp  ingreso_deferred  fees_deferred  \\\n",
       "0  2024-01-01 1,266,368.11     1,135,749.57        130,618.54     112,602.19   \n",
       "1  2024-01-02   982,417.59       863,001.04        119,416.55     102,945.30   \n",
       "2  2024-01-03 2,079,874.77     1,833,432.07        246,442.70     212,450.60   \n",
       "3  2024-01-04 2,065,571.34     1,815,419.78        250,151.56     215,647.90   \n",
       "4  2024-01-05 2,487,258.67     2,196,897.86        290,360.81     250,311.04   \n",
       "\n",
       "   taxes_deferred  \n",
       "0       18,016.35  \n",
       "1       16,471.25  \n",
       "2       33,992.10  \n",
       "3       34,503.66  \n",
       "4       40,049.77  "
      ]
     },
     "execution_count": 96,
     "metadata": {},
     "output_type": "execute_result"
    }
   ],
   "source": [
    "group_deferred_payments_status_1_fact_final = group_deferred_payments_status_1_fact[['eff_dt_date','psp_amount',\n",
    "                                                                                     'gross_amount_dp','ingreso_deferred',\n",
    "                                                                                     'fees_deferred','taxes_deferred']]\n",
    "group_deferred_payments_status_1_fact_final.head()"
   ]
  },
  {
   "cell_type": "code",
   "execution_count": 97,
   "metadata": {},
   "outputs": [
    {
     "data": {
      "text/plain": [
       "(31, 6)"
      ]
     },
     "execution_count": 97,
     "metadata": {},
     "output_type": "execute_result"
    }
   ],
   "source": [
    "group_deferred_payments_status_1_fact_final.shape"
   ]
  },
  {
   "cell_type": "markdown",
   "metadata": {},
   "source": [
    "### DETALLE TOPUPS"
   ]
  },
  {
   "cell_type": "code",
   "execution_count": 98,
   "metadata": {},
   "outputs": [
    {
     "data": {
      "text/html": [
       "<div>\n",
       "<style scoped>\n",
       "    .dataframe tbody tr th:only-of-type {\n",
       "        vertical-align: middle;\n",
       "    }\n",
       "\n",
       "    .dataframe tbody tr th {\n",
       "        vertical-align: top;\n",
       "    }\n",
       "\n",
       "    .dataframe thead th {\n",
       "        text-align: right;\n",
       "    }\n",
       "</style>\n",
       "<table border=\"1\" class=\"dataframe\">\n",
       "  <thead>\n",
       "    <tr style=\"text-align: right;\">\n",
       "      <th></th>\n",
       "      <th>eff_dt_date</th>\n",
       "      <th>merchant_id</th>\n",
       "      <th>email</th>\n",
       "      <th>mvnt_id</th>\n",
       "      <th>fee_direct_deposit</th>\n",
       "      <th>taxes_direct_deposit</th>\n",
       "      <th>merchant_commission_fees</th>\n",
       "      <th>merchant_commission_taxes</th>\n",
       "      <th>merchant_commission</th>\n",
       "      <th>frontend_commission_fees</th>\n",
       "      <th>frontend_commission_taxes</th>\n",
       "      <th>frontend_commission</th>\n",
       "      <th>fees_cashback</th>\n",
       "      <th>taxes_cashback</th>\n",
       "      <th>amount</th>\n",
       "      <th>file_name</th>\n",
       "    </tr>\n",
       "  </thead>\n",
       "  <tbody>\n",
       "    <tr>\n",
       "      <th>0</th>\n",
       "      <td>2024-01-01</td>\n",
       "      <td>000d3241-c56d-4f94-acef-864f0b9e3f82</td>\n",
       "      <td>logisticnava@gmail.com</td>\n",
       "      <td>2</td>\n",
       "      <td>4.14</td>\n",
       "      <td>0.66</td>\n",
       "      <td>0.00</td>\n",
       "      <td>0.00</td>\n",
       "      <td>0</td>\n",
       "      <td>0.00</td>\n",
       "      <td>0.00</td>\n",
       "      <td>0</td>\n",
       "      <td>0.00</td>\n",
       "      <td>0.00</td>\n",
       "      <td>4.80</td>\n",
       "      <td>TOPUPS_BILL_PAYMENTS_CASHBACK_LEDGER_ENERO_202...</td>\n",
       "    </tr>\n",
       "    <tr>\n",
       "      <th>1</th>\n",
       "      <td>2024-01-01</td>\n",
       "      <td>0021fcb0-73d4-44f0-8a66-c922820ad913</td>\n",
       "      <td>marimendoza43@hotmail.com</td>\n",
       "      <td>1</td>\n",
       "      <td>2.59</td>\n",
       "      <td>0.41</td>\n",
       "      <td>0.00</td>\n",
       "      <td>0.00</td>\n",
       "      <td>0</td>\n",
       "      <td>0.00</td>\n",
       "      <td>0.00</td>\n",
       "      <td>0</td>\n",
       "      <td>0.00</td>\n",
       "      <td>0.00</td>\n",
       "      <td>3.00</td>\n",
       "      <td>TOPUPS_BILL_PAYMENTS_CASHBACK_LEDGER_ENERO_202...</td>\n",
       "    </tr>\n",
       "    <tr>\n",
       "      <th>2</th>\n",
       "      <td>2024-01-01</td>\n",
       "      <td>0022badd-5f2c-47a9-b6f5-c1acdb4c6cb0</td>\n",
       "      <td>daniel.aspin@hotmail.com</td>\n",
       "      <td>1</td>\n",
       "      <td>0.00</td>\n",
       "      <td>0.00</td>\n",
       "      <td>2.59</td>\n",
       "      <td>0.41</td>\n",
       "      <td>3</td>\n",
       "      <td>12.93</td>\n",
       "      <td>2.07</td>\n",
       "      <td>15</td>\n",
       "      <td>0.00</td>\n",
       "      <td>0.00</td>\n",
       "      <td>3.00</td>\n",
       "      <td>TOPUPS_BILL_PAYMENTS_CASHBACK_LEDGER_ENERO_202...</td>\n",
       "    </tr>\n",
       "    <tr>\n",
       "      <th>3</th>\n",
       "      <td>2024-01-01</td>\n",
       "      <td>00498621-66d7-4a7d-9999-a9635388d06b</td>\n",
       "      <td>polovazquez74@gmail.com</td>\n",
       "      <td>1</td>\n",
       "      <td>0.52</td>\n",
       "      <td>0.08</td>\n",
       "      <td>0.00</td>\n",
       "      <td>0.00</td>\n",
       "      <td>0</td>\n",
       "      <td>0.00</td>\n",
       "      <td>0.00</td>\n",
       "      <td>0</td>\n",
       "      <td>0.00</td>\n",
       "      <td>0.00</td>\n",
       "      <td>0.60</td>\n",
       "      <td>TOPUPS_BILL_PAYMENTS_CASHBACK_LEDGER_ENERO_202...</td>\n",
       "    </tr>\n",
       "    <tr>\n",
       "      <th>4</th>\n",
       "      <td>2024-01-01</td>\n",
       "      <td>0054006c-08f9-41cc-a75a-156a28d1d613</td>\n",
       "      <td>karlamichel567@gmail.com</td>\n",
       "      <td>1</td>\n",
       "      <td>1.03</td>\n",
       "      <td>0.17</td>\n",
       "      <td>0.00</td>\n",
       "      <td>0.00</td>\n",
       "      <td>0</td>\n",
       "      <td>0.00</td>\n",
       "      <td>0.00</td>\n",
       "      <td>0</td>\n",
       "      <td>0.00</td>\n",
       "      <td>0.00</td>\n",
       "      <td>1.20</td>\n",
       "      <td>TOPUPS_BILL_PAYMENTS_CASHBACK_LEDGER_ENERO_202...</td>\n",
       "    </tr>\n",
       "  </tbody>\n",
       "</table>\n",
       "</div>"
      ],
      "text/plain": [
       "  eff_dt_date                           merchant_id  \\\n",
       "0  2024-01-01  000d3241-c56d-4f94-acef-864f0b9e3f82   \n",
       "1  2024-01-01  0021fcb0-73d4-44f0-8a66-c922820ad913   \n",
       "2  2024-01-01  0022badd-5f2c-47a9-b6f5-c1acdb4c6cb0   \n",
       "3  2024-01-01  00498621-66d7-4a7d-9999-a9635388d06b   \n",
       "4  2024-01-01  0054006c-08f9-41cc-a75a-156a28d1d613   \n",
       "\n",
       "                       email  mvnt_id  fee_direct_deposit  \\\n",
       "0     logisticnava@gmail.com        2                4.14   \n",
       "1  marimendoza43@hotmail.com        1                2.59   \n",
       "2   daniel.aspin@hotmail.com        1                0.00   \n",
       "3    polovazquez74@gmail.com        1                0.52   \n",
       "4   karlamichel567@gmail.com        1                1.03   \n",
       "\n",
       "   taxes_direct_deposit  merchant_commission_fees  merchant_commission_taxes  \\\n",
       "0                  0.66                      0.00                       0.00   \n",
       "1                  0.41                      0.00                       0.00   \n",
       "2                  0.00                      2.59                       0.41   \n",
       "3                  0.08                      0.00                       0.00   \n",
       "4                  0.17                      0.00                       0.00   \n",
       "\n",
       "   merchant_commission  frontend_commission_fees  frontend_commission_taxes  \\\n",
       "0                    0                      0.00                       0.00   \n",
       "1                    0                      0.00                       0.00   \n",
       "2                    3                     12.93                       2.07   \n",
       "3                    0                      0.00                       0.00   \n",
       "4                    0                      0.00                       0.00   \n",
       "\n",
       "   frontend_commission  fees_cashback  taxes_cashback  amount  \\\n",
       "0                    0           0.00            0.00    4.80   \n",
       "1                    0           0.00            0.00    3.00   \n",
       "2                   15           0.00            0.00    3.00   \n",
       "3                    0           0.00            0.00    0.60   \n",
       "4                    0           0.00            0.00    1.20   \n",
       "\n",
       "                                           file_name  \n",
       "0  TOPUPS_BILL_PAYMENTS_CASHBACK_LEDGER_ENERO_202...  \n",
       "1  TOPUPS_BILL_PAYMENTS_CASHBACK_LEDGER_ENERO_202...  \n",
       "2  TOPUPS_BILL_PAYMENTS_CASHBACK_LEDGER_ENERO_202...  \n",
       "3  TOPUPS_BILL_PAYMENTS_CASHBACK_LEDGER_ENERO_202...  \n",
       "4  TOPUPS_BILL_PAYMENTS_CASHBACK_LEDGER_ENERO_202...  "
      ]
     },
     "execution_count": 98,
     "metadata": {},
     "output_type": "execute_result"
    }
   ],
   "source": [
    "dynamo_topups_billpymnt_cashback = pd.concat([pd.read_excel(f).assign(file_name=os.path.basename(f)) for f in dynamo_topups_billpymnt_cashback_files])\n",
    "dynamo_topups_billpymnt_cashback.columns = dynamo_topups_billpymnt_cashback.columns.str.strip().str.lower()\n",
    "dynamo_topups_billpymnt_cashback['eff_dt_date']= pd.to_datetime(dynamo_topups_billpymnt_cashback['eff_dt_date'])\n",
    "dynamo_topups_billpymnt_cashback.head()"
   ]
  },
  {
   "cell_type": "code",
   "execution_count": 99,
   "metadata": {},
   "outputs": [
    {
     "data": {
      "text/plain": [
       "(146025, 16)"
      ]
     },
     "execution_count": 99,
     "metadata": {},
     "output_type": "execute_result"
    }
   ],
   "source": [
    "dynamo_topups_billpymnt_cashback.shape"
   ]
  },
  {
   "cell_type": "markdown",
   "metadata": {},
   "source": [
    "### DETALLE POR FECHA TOPUPS, BILL PAYMENTS Y CASHBACK LEDGER"
   ]
  },
  {
   "cell_type": "code",
   "execution_count": 100,
   "metadata": {},
   "outputs": [
    {
     "name": "stderr",
     "output_type": "stream",
     "text": [
      "C:\\Users\\Cristian.Aparicio\\AppData\\Local\\Temp\\ipykernel_16640\\1301566186.py:1: FutureWarning: The provided callable <function sum at 0x0000012B6DC7EAF0> is currently using DataFrameGroupBy.sum. In a future version of pandas, the provided callable will be used directly. To keep current behavior pass the string \"sum\" instead.\n",
      "  dynamo_topups_billpymnt_cashback_date = pd.pivot_table(dynamo_topups_billpymnt_cashback,index=['eff_dt_date'],\n"
     ]
    },
    {
     "data": {
      "text/html": [
       "<div>\n",
       "<style scoped>\n",
       "    .dataframe tbody tr th:only-of-type {\n",
       "        vertical-align: middle;\n",
       "    }\n",
       "\n",
       "    .dataframe tbody tr th {\n",
       "        vertical-align: top;\n",
       "    }\n",
       "\n",
       "    .dataframe thead th {\n",
       "        text-align: right;\n",
       "    }\n",
       "</style>\n",
       "<table border=\"1\" class=\"dataframe\">\n",
       "  <thead>\n",
       "    <tr style=\"text-align: right;\">\n",
       "      <th></th>\n",
       "      <th>eff_dt_date</th>\n",
       "      <th>amount</th>\n",
       "      <th>fee_direct_deposit</th>\n",
       "      <th>fees_cashback</th>\n",
       "      <th>frontend_commission</th>\n",
       "      <th>frontend_commission_fees</th>\n",
       "      <th>frontend_commission_taxes</th>\n",
       "      <th>merchant_commission</th>\n",
       "      <th>merchant_commission_fees</th>\n",
       "      <th>merchant_commission_taxes</th>\n",
       "      <th>taxes_cashback</th>\n",
       "      <th>taxes_direct_deposit</th>\n",
       "    </tr>\n",
       "  </thead>\n",
       "  <tbody>\n",
       "    <tr>\n",
       "      <th>0</th>\n",
       "      <td>2024-01-01</td>\n",
       "      <td>11,865.40</td>\n",
       "      <td>9,791.72</td>\n",
       "      <td>0.00</td>\n",
       "      <td>2535</td>\n",
       "      <td>2,185.34</td>\n",
       "      <td>349.66</td>\n",
       "      <td>507</td>\n",
       "      <td>437.07</td>\n",
       "      <td>69.93</td>\n",
       "      <td>0.00</td>\n",
       "      <td>1,566.68</td>\n",
       "    </tr>\n",
       "    <tr>\n",
       "      <th>1</th>\n",
       "      <td>2024-01-02</td>\n",
       "      <td>24,634.20</td>\n",
       "      <td>20,176.03</td>\n",
       "      <td>0.00</td>\n",
       "      <td>6150</td>\n",
       "      <td>5,301.72</td>\n",
       "      <td>848.28</td>\n",
       "      <td>1230</td>\n",
       "      <td>1,060.34</td>\n",
       "      <td>169.66</td>\n",
       "      <td>0.00</td>\n",
       "      <td>3,228.17</td>\n",
       "    </tr>\n",
       "    <tr>\n",
       "      <th>2</th>\n",
       "      <td>2024-01-03</td>\n",
       "      <td>24,115.20</td>\n",
       "      <td>19,956.21</td>\n",
       "      <td>0.00</td>\n",
       "      <td>4830</td>\n",
       "      <td>4,163.79</td>\n",
       "      <td>666.21</td>\n",
       "      <td>966</td>\n",
       "      <td>832.76</td>\n",
       "      <td>133.24</td>\n",
       "      <td>0.00</td>\n",
       "      <td>3,192.99</td>\n",
       "    </tr>\n",
       "    <tr>\n",
       "      <th>3</th>\n",
       "      <td>2024-01-04</td>\n",
       "      <td>22,046.80</td>\n",
       "      <td>18,211.90</td>\n",
       "      <td>0.00</td>\n",
       "      <td>4605</td>\n",
       "      <td>3,969.83</td>\n",
       "      <td>635.17</td>\n",
       "      <td>921</td>\n",
       "      <td>793.97</td>\n",
       "      <td>127.03</td>\n",
       "      <td>0.00</td>\n",
       "      <td>2,913.90</td>\n",
       "    </tr>\n",
       "    <tr>\n",
       "      <th>4</th>\n",
       "      <td>2024-01-05</td>\n",
       "      <td>24,337.80</td>\n",
       "      <td>20,499.83</td>\n",
       "      <td>0.00</td>\n",
       "      <td>2790</td>\n",
       "      <td>2,405.17</td>\n",
       "      <td>384.83</td>\n",
       "      <td>558</td>\n",
       "      <td>481.03</td>\n",
       "      <td>76.97</td>\n",
       "      <td>0.00</td>\n",
       "      <td>3,279.97</td>\n",
       "    </tr>\n",
       "  </tbody>\n",
       "</table>\n",
       "</div>"
      ],
      "text/plain": [
       "  eff_dt_date    amount  fee_direct_deposit  fees_cashback  \\\n",
       "0  2024-01-01 11,865.40            9,791.72           0.00   \n",
       "1  2024-01-02 24,634.20           20,176.03           0.00   \n",
       "2  2024-01-03 24,115.20           19,956.21           0.00   \n",
       "3  2024-01-04 22,046.80           18,211.90           0.00   \n",
       "4  2024-01-05 24,337.80           20,499.83           0.00   \n",
       "\n",
       "   frontend_commission  frontend_commission_fees  frontend_commission_taxes  \\\n",
       "0                 2535                  2,185.34                     349.66   \n",
       "1                 6150                  5,301.72                     848.28   \n",
       "2                 4830                  4,163.79                     666.21   \n",
       "3                 4605                  3,969.83                     635.17   \n",
       "4                 2790                  2,405.17                     384.83   \n",
       "\n",
       "   merchant_commission  merchant_commission_fees  merchant_commission_taxes  \\\n",
       "0                  507                    437.07                      69.93   \n",
       "1                 1230                  1,060.34                     169.66   \n",
       "2                  966                    832.76                     133.24   \n",
       "3                  921                    793.97                     127.03   \n",
       "4                  558                    481.03                      76.97   \n",
       "\n",
       "   taxes_cashback  taxes_direct_deposit  \n",
       "0            0.00              1,566.68  \n",
       "1            0.00              3,228.17  \n",
       "2            0.00              3,192.99  \n",
       "3            0.00              2,913.90  \n",
       "4            0.00              3,279.97  "
      ]
     },
     "execution_count": 100,
     "metadata": {},
     "output_type": "execute_result"
    }
   ],
   "source": [
    "dynamo_topups_billpymnt_cashback_date = pd.pivot_table(dynamo_topups_billpymnt_cashback,index=['eff_dt_date'],\n",
    "                                              values=[\"fee_direct_deposit\",\n",
    "                                                      'taxes_direct_deposit',\n",
    "                                                      'frontend_commission_fees',\n",
    "                                                      'frontend_commission_taxes',\n",
    "                                                      'frontend_commission',\n",
    "                                                      'merchant_commission_fees',\n",
    "                                                      'merchant_commission_taxes',\n",
    "                                                      'merchant_commission',\n",
    "                                                      'fees_cashback',\n",
    "                                                      'taxes_cashback',\n",
    "                                                      \"amount\"],aggfunc=np.sum,margins=False).reset_index()\n",
    "dynamo_topups_billpymnt_cashback_date.head()"
   ]
  },
  {
   "cell_type": "code",
   "execution_count": 101,
   "metadata": {},
   "outputs": [
    {
     "data": {
      "text/plain": [
       "(31, 12)"
      ]
     },
     "execution_count": 101,
     "metadata": {},
     "output_type": "execute_result"
    }
   ],
   "source": [
    "dynamo_topups_billpymnt_cashback_date.shape"
   ]
  },
  {
   "cell_type": "markdown",
   "metadata": {},
   "source": [
    "### UNION FECHA LEDGER CON LEDGER DEFERRED PAYMENTS"
   ]
  },
  {
   "cell_type": "code",
   "execution_count": 102,
   "metadata": {},
   "outputs": [
    {
     "data": {
      "text/html": [
       "<div>\n",
       "<style scoped>\n",
       "    .dataframe tbody tr th:only-of-type {\n",
       "        vertical-align: middle;\n",
       "    }\n",
       "\n",
       "    .dataframe tbody tr th {\n",
       "        vertical-align: top;\n",
       "    }\n",
       "\n",
       "    .dataframe thead th {\n",
       "        text-align: right;\n",
       "    }\n",
       "</style>\n",
       "<table border=\"1\" class=\"dataframe\">\n",
       "  <thead>\n",
       "    <tr style=\"text-align: right;\">\n",
       "      <th></th>\n",
       "      <th>eff_dt_date</th>\n",
       "      <th>mvnt_id</th>\n",
       "      <th>gross_amount_sett</th>\n",
       "      <th>fees_sett</th>\n",
       "      <th>taxes_sett</th>\n",
       "      <th>net_amount_sett</th>\n",
       "      <th>gross_amount_pymt</th>\n",
       "      <th>fees_pymt</th>\n",
       "      <th>taxes_pymt</th>\n",
       "      <th>net_amount_pymt</th>\n",
       "      <th>...</th>\n",
       "      <th>fees</th>\n",
       "      <th>taxes</th>\n",
       "      <th>net_amount</th>\n",
       "      <th>amount</th>\n",
       "      <th>file_name</th>\n",
       "      <th>psp_amount</th>\n",
       "      <th>gross_amount_dp</th>\n",
       "      <th>ingreso_deferred</th>\n",
       "      <th>fees_deferred</th>\n",
       "      <th>taxes_deferred</th>\n",
       "    </tr>\n",
       "  </thead>\n",
       "  <tbody>\n",
       "    <tr>\n",
       "      <th>0</th>\n",
       "      <td>2024-01-01</td>\n",
       "      <td>499170</td>\n",
       "      <td>250,028,698.61</td>\n",
       "      <td>9,348,418.45</td>\n",
       "      <td>1,495,752.33</td>\n",
       "      <td>239,184,527.83</td>\n",
       "      <td>1,700,534.87</td>\n",
       "      <td>62,348.44</td>\n",
       "      <td>9,975.84</td>\n",
       "      <td>1,628,210.59</td>\n",
       "      <td>...</td>\n",
       "      <td>9,286,070.01</td>\n",
       "      <td>1,485,776.49</td>\n",
       "      <td>237,556,317.24</td>\n",
       "      <td>239,184,527.83</td>\n",
       "      <td>Date_tpv_fees_taxes_ledger_enero_2024.xlsx</td>\n",
       "      <td>1,266,368.11</td>\n",
       "      <td>1,135,749.57</td>\n",
       "      <td>130,618.54</td>\n",
       "      <td>112,602.19</td>\n",
       "      <td>18,016.35</td>\n",
       "    </tr>\n",
       "    <tr>\n",
       "      <th>1</th>\n",
       "      <td>2024-01-02</td>\n",
       "      <td>225339</td>\n",
       "      <td>136,026,094.33</td>\n",
       "      <td>5,107,101.76</td>\n",
       "      <td>817,140.19</td>\n",
       "      <td>130,101,852.38</td>\n",
       "      <td>830,610.04</td>\n",
       "      <td>38,045.40</td>\n",
       "      <td>6,087.13</td>\n",
       "      <td>786,477.51</td>\n",
       "      <td>...</td>\n",
       "      <td>5,069,056.36</td>\n",
       "      <td>811,053.06</td>\n",
       "      <td>129,315,374.87</td>\n",
       "      <td>130,101,852.38</td>\n",
       "      <td>Date_tpv_fees_taxes_ledger_enero_2024.xlsx</td>\n",
       "      <td>982,417.59</td>\n",
       "      <td>863,001.04</td>\n",
       "      <td>119,416.55</td>\n",
       "      <td>102,945.30</td>\n",
       "      <td>16,471.25</td>\n",
       "    </tr>\n",
       "    <tr>\n",
       "      <th>2</th>\n",
       "      <td>2024-01-03</td>\n",
       "      <td>437661</td>\n",
       "      <td>248,604,532.43</td>\n",
       "      <td>9,898,617.92</td>\n",
       "      <td>1,583,789.04</td>\n",
       "      <td>237,122,125.47</td>\n",
       "      <td>1,214,442.01</td>\n",
       "      <td>56,721.46</td>\n",
       "      <td>9,075.63</td>\n",
       "      <td>1,148,644.92</td>\n",
       "      <td>...</td>\n",
       "      <td>9,841,896.46</td>\n",
       "      <td>1,574,713.41</td>\n",
       "      <td>235,973,480.55</td>\n",
       "      <td>237,122,125.47</td>\n",
       "      <td>Date_tpv_fees_taxes_ledger_enero_2024.xlsx</td>\n",
       "      <td>2,079,874.77</td>\n",
       "      <td>1,833,432.07</td>\n",
       "      <td>246,442.70</td>\n",
       "      <td>212,450.60</td>\n",
       "      <td>33,992.10</td>\n",
       "    </tr>\n",
       "    <tr>\n",
       "      <th>3</th>\n",
       "      <td>2024-01-04</td>\n",
       "      <td>465679</td>\n",
       "      <td>262,997,720.77</td>\n",
       "      <td>10,499,019.18</td>\n",
       "      <td>1,679,852.83</td>\n",
       "      <td>250,818,848.76</td>\n",
       "      <td>1,305,251.60</td>\n",
       "      <td>57,637.01</td>\n",
       "      <td>9,222.02</td>\n",
       "      <td>1,238,392.57</td>\n",
       "      <td>...</td>\n",
       "      <td>10,441,382.17</td>\n",
       "      <td>1,670,630.81</td>\n",
       "      <td>249,580,456.19</td>\n",
       "      <td>250,818,848.76</td>\n",
       "      <td>Date_tpv_fees_taxes_ledger_enero_2024.xlsx</td>\n",
       "      <td>2,065,571.34</td>\n",
       "      <td>1,815,419.78</td>\n",
       "      <td>250,151.56</td>\n",
       "      <td>215,647.90</td>\n",
       "      <td>34,503.66</td>\n",
       "    </tr>\n",
       "    <tr>\n",
       "      <th>4</th>\n",
       "      <td>2024-01-05</td>\n",
       "      <td>496779</td>\n",
       "      <td>271,640,122.45</td>\n",
       "      <td>10,904,523.30</td>\n",
       "      <td>1,744,737.67</td>\n",
       "      <td>258,990,861.48</td>\n",
       "      <td>1,537,810.02</td>\n",
       "      <td>65,730.65</td>\n",
       "      <td>10,516.95</td>\n",
       "      <td>1,461,562.42</td>\n",
       "      <td>...</td>\n",
       "      <td>10,838,792.65</td>\n",
       "      <td>1,734,220.72</td>\n",
       "      <td>257,529,299.06</td>\n",
       "      <td>258,990,861.48</td>\n",
       "      <td>Date_tpv_fees_taxes_ledger_enero_2024.xlsx</td>\n",
       "      <td>2,487,258.67</td>\n",
       "      <td>2,196,897.86</td>\n",
       "      <td>290,360.81</td>\n",
       "      <td>250,311.04</td>\n",
       "      <td>40,049.77</td>\n",
       "    </tr>\n",
       "  </tbody>\n",
       "</table>\n",
       "<p>5 rows × 21 columns</p>\n",
       "</div>"
      ],
      "text/plain": [
       "  eff_dt_date  mvnt_id  gross_amount_sett     fees_sett   taxes_sett  \\\n",
       "0  2024-01-01   499170     250,028,698.61  9,348,418.45 1,495,752.33   \n",
       "1  2024-01-02   225339     136,026,094.33  5,107,101.76   817,140.19   \n",
       "2  2024-01-03   437661     248,604,532.43  9,898,617.92 1,583,789.04   \n",
       "3  2024-01-04   465679     262,997,720.77 10,499,019.18 1,679,852.83   \n",
       "4  2024-01-05   496779     271,640,122.45 10,904,523.30 1,744,737.67   \n",
       "\n",
       "   net_amount_sett  gross_amount_pymt  fees_pymt  taxes_pymt  net_amount_pymt  \\\n",
       "0   239,184,527.83       1,700,534.87  62,348.44    9,975.84     1,628,210.59   \n",
       "1   130,101,852.38         830,610.04  38,045.40    6,087.13       786,477.51   \n",
       "2   237,122,125.47       1,214,442.01  56,721.46    9,075.63     1,148,644.92   \n",
       "3   250,818,848.76       1,305,251.60  57,637.01    9,222.02     1,238,392.57   \n",
       "4   258,990,861.48       1,537,810.02  65,730.65   10,516.95     1,461,562.42   \n",
       "\n",
       "   ...          fees        taxes     net_amount         amount  \\\n",
       "0  ...  9,286,070.01 1,485,776.49 237,556,317.24 239,184,527.83   \n",
       "1  ...  5,069,056.36   811,053.06 129,315,374.87 130,101,852.38   \n",
       "2  ...  9,841,896.46 1,574,713.41 235,973,480.55 237,122,125.47   \n",
       "3  ... 10,441,382.17 1,670,630.81 249,580,456.19 250,818,848.76   \n",
       "4  ... 10,838,792.65 1,734,220.72 257,529,299.06 258,990,861.48   \n",
       "\n",
       "                                    file_name   psp_amount  gross_amount_dp  \\\n",
       "0  Date_tpv_fees_taxes_ledger_enero_2024.xlsx 1,266,368.11     1,135,749.57   \n",
       "1  Date_tpv_fees_taxes_ledger_enero_2024.xlsx   982,417.59       863,001.04   \n",
       "2  Date_tpv_fees_taxes_ledger_enero_2024.xlsx 2,079,874.77     1,833,432.07   \n",
       "3  Date_tpv_fees_taxes_ledger_enero_2024.xlsx 2,065,571.34     1,815,419.78   \n",
       "4  Date_tpv_fees_taxes_ledger_enero_2024.xlsx 2,487,258.67     2,196,897.86   \n",
       "\n",
       "   ingreso_deferred  fees_deferred  taxes_deferred  \n",
       "0        130,618.54     112,602.19       18,016.35  \n",
       "1        119,416.55     102,945.30       16,471.25  \n",
       "2        246,442.70     212,450.60       33,992.10  \n",
       "3        250,151.56     215,647.90       34,503.66  \n",
       "4        290,360.81     250,311.04       40,049.77  \n",
       "\n",
       "[5 rows x 21 columns]"
      ]
     },
     "execution_count": 102,
     "metadata": {},
     "output_type": "execute_result"
    }
   ],
   "source": [
    "union_dynamo_date_0 = dynamo_date.merge(group_deferred_payments_status_1_fact_final[['eff_dt_date','psp_amount',\n",
    "                                                                                     'gross_amount_dp','ingreso_deferred',\n",
    "                                                                                    'fees_deferred','taxes_deferred']],\n",
    "                                        on='eff_dt_date', how='left')\n",
    "union_dynamo_date_0.fillna(0,inplace=True)\n",
    "union_dynamo_date_0.head()"
   ]
  },
  {
   "cell_type": "code",
   "execution_count": 103,
   "metadata": {},
   "outputs": [
    {
     "data": {
      "text/plain": [
       "(31, 21)"
      ]
     },
     "execution_count": 103,
     "metadata": {},
     "output_type": "execute_result"
    }
   ],
   "source": [
    "union_dynamo_date_0.shape"
   ]
  },
  {
   "cell_type": "markdown",
   "metadata": {},
   "source": [
    "### UNION FECHA LEDGER CON TOPUPS Y BILL PAYMENTS LEDGER"
   ]
  },
  {
   "cell_type": "code",
   "execution_count": 104,
   "metadata": {},
   "outputs": [
    {
     "data": {
      "text/html": [
       "<div>\n",
       "<style scoped>\n",
       "    .dataframe tbody tr th:only-of-type {\n",
       "        vertical-align: middle;\n",
       "    }\n",
       "\n",
       "    .dataframe tbody tr th {\n",
       "        vertical-align: top;\n",
       "    }\n",
       "\n",
       "    .dataframe thead th {\n",
       "        text-align: right;\n",
       "    }\n",
       "</style>\n",
       "<table border=\"1\" class=\"dataframe\">\n",
       "  <thead>\n",
       "    <tr style=\"text-align: right;\">\n",
       "      <th></th>\n",
       "      <th>eff_dt_date</th>\n",
       "      <th>mvnt_id</th>\n",
       "      <th>gross_amount_sett</th>\n",
       "      <th>fees_sett</th>\n",
       "      <th>taxes_sett</th>\n",
       "      <th>net_amount_sett</th>\n",
       "      <th>gross_amount_pymt</th>\n",
       "      <th>fees_pymt</th>\n",
       "      <th>taxes_pymt</th>\n",
       "      <th>net_amount_pymt</th>\n",
       "      <th>...</th>\n",
       "      <th>fees_deferred</th>\n",
       "      <th>taxes_deferred</th>\n",
       "      <th>fee_direct_deposit</th>\n",
       "      <th>taxes_direct_deposit</th>\n",
       "      <th>frontend_commission_fees</th>\n",
       "      <th>frontend_commission_taxes</th>\n",
       "      <th>merchant_commission_fees</th>\n",
       "      <th>merchant_commission_taxes</th>\n",
       "      <th>fees_cashback</th>\n",
       "      <th>taxes_cashback</th>\n",
       "    </tr>\n",
       "  </thead>\n",
       "  <tbody>\n",
       "    <tr>\n",
       "      <th>26</th>\n",
       "      <td>2024-01-27</td>\n",
       "      <td>636291</td>\n",
       "      <td>299,639,572.00</td>\n",
       "      <td>12,044,577.25</td>\n",
       "      <td>1,927,152.58</td>\n",
       "      <td>285,667,842.17</td>\n",
       "      <td>1,173,746.84</td>\n",
       "      <td>49,066.03</td>\n",
       "      <td>7,850.65</td>\n",
       "      <td>1,116,830.16</td>\n",
       "      <td>...</td>\n",
       "      <td>285,799.24</td>\n",
       "      <td>45,727.88</td>\n",
       "      <td>19,998.10</td>\n",
       "      <td>3,199.70</td>\n",
       "      <td>2,560.34</td>\n",
       "      <td>409.66</td>\n",
       "      <td>512.07</td>\n",
       "      <td>81.93</td>\n",
       "      <td>0.00</td>\n",
       "      <td>0.00</td>\n",
       "    </tr>\n",
       "    <tr>\n",
       "      <th>27</th>\n",
       "      <td>2024-01-28</td>\n",
       "      <td>640884</td>\n",
       "      <td>320,500,443.03</td>\n",
       "      <td>12,949,773.75</td>\n",
       "      <td>2,071,978.58</td>\n",
       "      <td>305,478,690.70</td>\n",
       "      <td>1,630,533.53</td>\n",
       "      <td>64,920.23</td>\n",
       "      <td>10,387.26</td>\n",
       "      <td>1,555,226.04</td>\n",
       "      <td>...</td>\n",
       "      <td>226,958.06</td>\n",
       "      <td>36,313.29</td>\n",
       "      <td>15,114.83</td>\n",
       "      <td>2,418.37</td>\n",
       "      <td>2,288.79</td>\n",
       "      <td>366.21</td>\n",
       "      <td>457.76</td>\n",
       "      <td>73.24</td>\n",
       "      <td>0.00</td>\n",
       "      <td>0.00</td>\n",
       "    </tr>\n",
       "    <tr>\n",
       "      <th>28</th>\n",
       "      <td>2024-01-29</td>\n",
       "      <td>506987</td>\n",
       "      <td>220,363,018.50</td>\n",
       "      <td>8,724,129.57</td>\n",
       "      <td>1,395,869.94</td>\n",
       "      <td>210,243,018.99</td>\n",
       "      <td>633,041.03</td>\n",
       "      <td>32,516.15</td>\n",
       "      <td>5,202.60</td>\n",
       "      <td>595,322.28</td>\n",
       "      <td>...</td>\n",
       "      <td>146,253.91</td>\n",
       "      <td>23,400.63</td>\n",
       "      <td>24,653.45</td>\n",
       "      <td>3,944.55</td>\n",
       "      <td>3,956.90</td>\n",
       "      <td>633.10</td>\n",
       "      <td>791.38</td>\n",
       "      <td>126.62</td>\n",
       "      <td>6.98</td>\n",
       "      <td>1.12</td>\n",
       "    </tr>\n",
       "    <tr>\n",
       "      <th>29</th>\n",
       "      <td>2024-01-30</td>\n",
       "      <td>481497</td>\n",
       "      <td>235,540,732.89</td>\n",
       "      <td>9,891,556.10</td>\n",
       "      <td>1,582,668.16</td>\n",
       "      <td>224,066,508.63</td>\n",
       "      <td>1,545,584.09</td>\n",
       "      <td>115,505.45</td>\n",
       "      <td>18,480.94</td>\n",
       "      <td>1,411,597.70</td>\n",
       "      <td>...</td>\n",
       "      <td>190,231.03</td>\n",
       "      <td>30,436.97</td>\n",
       "      <td>20,402.59</td>\n",
       "      <td>3,264.41</td>\n",
       "      <td>3,193.97</td>\n",
       "      <td>511.03</td>\n",
       "      <td>638.79</td>\n",
       "      <td>102.21</td>\n",
       "      <td>658.04</td>\n",
       "      <td>105.29</td>\n",
       "    </tr>\n",
       "    <tr>\n",
       "      <th>30</th>\n",
       "      <td>2024-01-31</td>\n",
       "      <td>514195</td>\n",
       "      <td>254,341,155.28</td>\n",
       "      <td>10,636,239.68</td>\n",
       "      <td>1,701,819.16</td>\n",
       "      <td>242,003,096.44</td>\n",
       "      <td>1,443,488.23</td>\n",
       "      <td>99,177.24</td>\n",
       "      <td>15,868.56</td>\n",
       "      <td>1,328,442.43</td>\n",
       "      <td>...</td>\n",
       "      <td>247,625.83</td>\n",
       "      <td>39,620.13</td>\n",
       "      <td>20,667.76</td>\n",
       "      <td>3,306.84</td>\n",
       "      <td>4,047.41</td>\n",
       "      <td>647.59</td>\n",
       "      <td>809.48</td>\n",
       "      <td>129.52</td>\n",
       "      <td>0.13</td>\n",
       "      <td>0.02</td>\n",
       "    </tr>\n",
       "  </tbody>\n",
       "</table>\n",
       "<p>5 rows × 29 columns</p>\n",
       "</div>"
      ],
      "text/plain": [
       "   eff_dt_date  mvnt_id  gross_amount_sett     fees_sett   taxes_sett  \\\n",
       "26  2024-01-27   636291     299,639,572.00 12,044,577.25 1,927,152.58   \n",
       "27  2024-01-28   640884     320,500,443.03 12,949,773.75 2,071,978.58   \n",
       "28  2024-01-29   506987     220,363,018.50  8,724,129.57 1,395,869.94   \n",
       "29  2024-01-30   481497     235,540,732.89  9,891,556.10 1,582,668.16   \n",
       "30  2024-01-31   514195     254,341,155.28 10,636,239.68 1,701,819.16   \n",
       "\n",
       "    net_amount_sett  gross_amount_pymt  fees_pymt  taxes_pymt  \\\n",
       "26   285,667,842.17       1,173,746.84  49,066.03    7,850.65   \n",
       "27   305,478,690.70       1,630,533.53  64,920.23   10,387.26   \n",
       "28   210,243,018.99         633,041.03  32,516.15    5,202.60   \n",
       "29   224,066,508.63       1,545,584.09 115,505.45   18,480.94   \n",
       "30   242,003,096.44       1,443,488.23  99,177.24   15,868.56   \n",
       "\n",
       "    net_amount_pymt  ...  fees_deferred  taxes_deferred  fee_direct_deposit  \\\n",
       "26     1,116,830.16  ...     285,799.24       45,727.88           19,998.10   \n",
       "27     1,555,226.04  ...     226,958.06       36,313.29           15,114.83   \n",
       "28       595,322.28  ...     146,253.91       23,400.63           24,653.45   \n",
       "29     1,411,597.70  ...     190,231.03       30,436.97           20,402.59   \n",
       "30     1,328,442.43  ...     247,625.83       39,620.13           20,667.76   \n",
       "\n",
       "    taxes_direct_deposit  frontend_commission_fees frontend_commission_taxes  \\\n",
       "26              3,199.70                  2,560.34                    409.66   \n",
       "27              2,418.37                  2,288.79                    366.21   \n",
       "28              3,944.55                  3,956.90                    633.10   \n",
       "29              3,264.41                  3,193.97                    511.03   \n",
       "30              3,306.84                  4,047.41                    647.59   \n",
       "\n",
       "    merchant_commission_fees  merchant_commission_taxes  fees_cashback  \\\n",
       "26                    512.07                      81.93           0.00   \n",
       "27                    457.76                      73.24           0.00   \n",
       "28                    791.38                     126.62           6.98   \n",
       "29                    638.79                     102.21         658.04   \n",
       "30                    809.48                     129.52           0.13   \n",
       "\n",
       "    taxes_cashback  \n",
       "26            0.00  \n",
       "27            0.00  \n",
       "28            1.12  \n",
       "29          105.29  \n",
       "30            0.02  \n",
       "\n",
       "[5 rows x 29 columns]"
      ]
     },
     "execution_count": 104,
     "metadata": {},
     "output_type": "execute_result"
    }
   ],
   "source": [
    "union_dynamo_date = union_dynamo_date_0.merge(dynamo_topups_billpymnt_cashback_date[['eff_dt_date','fee_direct_deposit',\n",
    "                                                                                    'taxes_direct_deposit',\n",
    "                                                                                    'frontend_commission_fees',\n",
    "                                                                                    'frontend_commission_taxes',\n",
    "                                                                                    'merchant_commission_fees',\n",
    "                                                                                    'merchant_commission_taxes',\n",
    "                                                                                    'fees_cashback',\n",
    "                                                                                    'taxes_cashback']],\n",
    "                                              on='eff_dt_date', how='left')\n",
    "union_dynamo_date.fillna(0,inplace=True)\n",
    "union_dynamo_date.tail()"
   ]
  },
  {
   "cell_type": "code",
   "execution_count": 105,
   "metadata": {},
   "outputs": [
    {
     "data": {
      "text/plain": [
       "(31, 29)"
      ]
     },
     "execution_count": 105,
     "metadata": {},
     "output_type": "execute_result"
    }
   ],
   "source": [
    "union_dynamo_date.shape"
   ]
  },
  {
   "cell_type": "code",
   "execution_count": 106,
   "metadata": {},
   "outputs": [
    {
     "name": "stderr",
     "output_type": "stream",
     "text": [
      "C:\\Users\\Cristian.Aparicio\\AppData\\Local\\Temp\\ipykernel_16640\\2276750821.py:12: SettingWithCopyWarning: \n",
      "A value is trying to be set on a copy of a slice from a DataFrame\n",
      "\n",
      "See the caveats in the documentation: https://pandas.pydata.org/pandas-docs/stable/user_guide/indexing.html#returning-a-view-versus-a-copy\n",
      "  dynamo_date_total.rename(columns={'eff_dt_date':'Date','gross_amount':'total_transactions','fees':'Txns fees',\n"
     ]
    },
    {
     "data": {
      "text/html": [
       "<div>\n",
       "<style scoped>\n",
       "    .dataframe tbody tr th:only-of-type {\n",
       "        vertical-align: middle;\n",
       "    }\n",
       "\n",
       "    .dataframe tbody tr th {\n",
       "        vertical-align: top;\n",
       "    }\n",
       "\n",
       "    .dataframe thead th {\n",
       "        text-align: right;\n",
       "    }\n",
       "</style>\n",
       "<table border=\"1\" class=\"dataframe\">\n",
       "  <thead>\n",
       "    <tr style=\"text-align: right;\">\n",
       "      <th></th>\n",
       "      <th>Date</th>\n",
       "      <th>total_transactions</th>\n",
       "      <th>Total due (payment)</th>\n",
       "      <th>Txns fees</th>\n",
       "      <th>TopUps fees_2</th>\n",
       "      <th>frontend_commission_fees</th>\n",
       "      <th>merchant_commission_fees</th>\n",
       "      <th>fees_cashback</th>\n",
       "      <th>gross_amount_dp</th>\n",
       "      <th>fees_deferred</th>\n",
       "      <th>taxes_deferred</th>\n",
       "    </tr>\n",
       "  </thead>\n",
       "  <tbody>\n",
       "    <tr>\n",
       "      <th>0</th>\n",
       "      <td>2024-01-01</td>\n",
       "      <td>247,192,414.17</td>\n",
       "      <td>237,556,317.24</td>\n",
       "      <td>9,286,070.01</td>\n",
       "      <td>9,791.72</td>\n",
       "      <td>2,185.34</td>\n",
       "      <td>437.07</td>\n",
       "      <td>0.00</td>\n",
       "      <td>1,135,749.57</td>\n",
       "      <td>112,602.19</td>\n",
       "      <td>18,016.35</td>\n",
       "    </tr>\n",
       "    <tr>\n",
       "      <th>1</th>\n",
       "      <td>2024-01-02</td>\n",
       "      <td>134,332,483.25</td>\n",
       "      <td>129,315,374.87</td>\n",
       "      <td>5,069,056.36</td>\n",
       "      <td>20,176.03</td>\n",
       "      <td>5,301.72</td>\n",
       "      <td>1,060.34</td>\n",
       "      <td>0.00</td>\n",
       "      <td>863,001.04</td>\n",
       "      <td>102,945.30</td>\n",
       "      <td>16,471.25</td>\n",
       "    </tr>\n",
       "    <tr>\n",
       "      <th>2</th>\n",
       "      <td>2024-01-03</td>\n",
       "      <td>245,556,658.35</td>\n",
       "      <td>235,973,480.55</td>\n",
       "      <td>9,841,896.46</td>\n",
       "      <td>19,956.21</td>\n",
       "      <td>4,163.79</td>\n",
       "      <td>832.76</td>\n",
       "      <td>0.00</td>\n",
       "      <td>1,833,432.07</td>\n",
       "      <td>212,450.60</td>\n",
       "      <td>33,992.10</td>\n",
       "    </tr>\n",
       "    <tr>\n",
       "      <th>3</th>\n",
       "      <td>2024-01-04</td>\n",
       "      <td>259,877,049.39</td>\n",
       "      <td>249,580,456.19</td>\n",
       "      <td>10,441,382.17</td>\n",
       "      <td>18,211.90</td>\n",
       "      <td>3,969.83</td>\n",
       "      <td>793.97</td>\n",
       "      <td>0.00</td>\n",
       "      <td>1,815,419.78</td>\n",
       "      <td>215,647.90</td>\n",
       "      <td>34,503.66</td>\n",
       "    </tr>\n",
       "    <tr>\n",
       "      <th>4</th>\n",
       "      <td>2024-01-05</td>\n",
       "      <td>267,905,414.57</td>\n",
       "      <td>257,529,299.06</td>\n",
       "      <td>10,838,792.65</td>\n",
       "      <td>20,499.83</td>\n",
       "      <td>2,405.17</td>\n",
       "      <td>481.03</td>\n",
       "      <td>0.00</td>\n",
       "      <td>2,196,897.86</td>\n",
       "      <td>250,311.04</td>\n",
       "      <td>40,049.77</td>\n",
       "    </tr>\n",
       "  </tbody>\n",
       "</table>\n",
       "</div>"
      ],
      "text/plain": [
       "        Date  total_transactions  Total due (payment)     Txns fees  \\\n",
       "0 2024-01-01      247,192,414.17       237,556,317.24  9,286,070.01   \n",
       "1 2024-01-02      134,332,483.25       129,315,374.87  5,069,056.36   \n",
       "2 2024-01-03      245,556,658.35       235,973,480.55  9,841,896.46   \n",
       "3 2024-01-04      259,877,049.39       249,580,456.19 10,441,382.17   \n",
       "4 2024-01-05      267,905,414.57       257,529,299.06 10,838,792.65   \n",
       "\n",
       "   TopUps fees_2  frontend_commission_fees  merchant_commission_fees  \\\n",
       "0       9,791.72                  2,185.34                    437.07   \n",
       "1      20,176.03                  5,301.72                  1,060.34   \n",
       "2      19,956.21                  4,163.79                    832.76   \n",
       "3      18,211.90                  3,969.83                    793.97   \n",
       "4      20,499.83                  2,405.17                    481.03   \n",
       "\n",
       "   fees_cashback  gross_amount_dp  fees_deferred  taxes_deferred  \n",
       "0           0.00     1,135,749.57     112,602.19       18,016.35  \n",
       "1           0.00       863,001.04     102,945.30       16,471.25  \n",
       "2           0.00     1,833,432.07     212,450.60       33,992.10  \n",
       "3           0.00     1,815,419.78     215,647.90       34,503.66  \n",
       "4           0.00     2,196,897.86     250,311.04       40,049.77  "
      ]
     },
     "execution_count": 106,
     "metadata": {},
     "output_type": "execute_result"
    }
   ],
   "source": [
    "dynamo_date_total = union_dynamo_date[['eff_dt_date',\n",
    "                                       'gross_amount',\n",
    "                                       'net_amount',\n",
    "                                       'fees',\n",
    "                                       'fee_direct_deposit',\n",
    "                                       'frontend_commission_fees',\n",
    "                                       'merchant_commission_fees',\n",
    "                                       'fees_cashback',\n",
    "                                       'gross_amount_dp',\n",
    "                                       'fees_deferred',\n",
    "                                       'taxes_deferred']]\n",
    "dynamo_date_total.rename(columns={'eff_dt_date':'Date','gross_amount':'total_transactions','fees':'Txns fees',\n",
    "                                 'fee_direct_deposit':'TopUps fees_2','net_amount':'Total due (payment)'},inplace=True)\n",
    "dynamo_date_total.head()"
   ]
  },
  {
   "cell_type": "code",
   "execution_count": 107,
   "metadata": {},
   "outputs": [
    {
     "data": {
      "text/plain": [
       "(31, 11)"
      ]
     },
     "execution_count": 107,
     "metadata": {},
     "output_type": "execute_result"
    }
   ],
   "source": [
    "dynamo_date_total.shape"
   ]
  },
  {
   "cell_type": "markdown",
   "metadata": {},
   "source": [
    "### UNION LEDGER CON LEDGER DEFERRED PAYMENTS"
   ]
  },
  {
   "cell_type": "code",
   "execution_count": 108,
   "metadata": {},
   "outputs": [
    {
     "name": "stderr",
     "output_type": "stream",
     "text": [
      "C:\\Users\\Cristian.Aparicio\\AppData\\Local\\Temp\\ipykernel_16640\\583671273.py:2: FutureWarning: Setting an item of incompatible dtype is deprecated and will raise in a future error of pandas. Value '0' has dtype incompatible with datetime64[ns], please explicitly cast to a compatible dtype first.\n",
      "  union_dynamo.fillna(0,inplace=True)\n"
     ]
    },
    {
     "data": {
      "text/html": [
       "<div>\n",
       "<style scoped>\n",
       "    .dataframe tbody tr th:only-of-type {\n",
       "        vertical-align: middle;\n",
       "    }\n",
       "\n",
       "    .dataframe tbody tr th {\n",
       "        vertical-align: top;\n",
       "    }\n",
       "\n",
       "    .dataframe thead th {\n",
       "        text-align: right;\n",
       "    }\n",
       "</style>\n",
       "<table border=\"1\" class=\"dataframe\">\n",
       "  <thead>\n",
       "    <tr style=\"text-align: right;\">\n",
       "      <th></th>\n",
       "      <th>merchant_id</th>\n",
       "      <th>user_email</th>\n",
       "      <th>total_transactions</th>\n",
       "      <th>total_fees_charged</th>\n",
       "      <th>total_taxes</th>\n",
       "      <th>fee_direct_deposit</th>\n",
       "      <th>taxes_direct_deposit</th>\n",
       "      <th>frontend_commission_fees</th>\n",
       "      <th>frontend_commission_taxes</th>\n",
       "      <th>merchant_commission_fees</th>\n",
       "      <th>...</th>\n",
       "      <th>psp_amount</th>\n",
       "      <th>gross_amount</th>\n",
       "      <th>fees</th>\n",
       "      <th>taxes</th>\n",
       "      <th>net_amount</th>\n",
       "      <th>movement_type_sml</th>\n",
       "      <th>gross_amount_dp</th>\n",
       "      <th>ingreso_deferred</th>\n",
       "      <th>fees_deferred</th>\n",
       "      <th>taxes_deferred</th>\n",
       "    </tr>\n",
       "  </thead>\n",
       "  <tbody>\n",
       "    <tr>\n",
       "      <th>0</th>\n",
       "      <td>0000275f-d46b-4a9c-a227-42d6f7ce63bd</td>\n",
       "      <td>o2794682@gmail.com</td>\n",
       "      <td>6,000.00</td>\n",
       "      <td>216.00</td>\n",
       "      <td>34.56</td>\n",
       "      <td>0.00</td>\n",
       "      <td>0.00</td>\n",
       "      <td>0.00</td>\n",
       "      <td>0.00</td>\n",
       "      <td>0.00</td>\n",
       "      <td>...</td>\n",
       "      <td>0.00</td>\n",
       "      <td>0.00</td>\n",
       "      <td>0.00</td>\n",
       "      <td>0.00</td>\n",
       "      <td>0.00</td>\n",
       "      <td>0</td>\n",
       "      <td>0.00</td>\n",
       "      <td>0.00</td>\n",
       "      <td>0.00</td>\n",
       "      <td>0.00</td>\n",
       "    </tr>\n",
       "    <tr>\n",
       "      <th>1</th>\n",
       "      <td>00007725-3116-48dc-9b82-4145699dc290</td>\n",
       "      <td>dr.cesarcamarena.ortopedia@gmail.com</td>\n",
       "      <td>2,000.00</td>\n",
       "      <td>72.00</td>\n",
       "      <td>11.52</td>\n",
       "      <td>0.00</td>\n",
       "      <td>0.00</td>\n",
       "      <td>0.00</td>\n",
       "      <td>0.00</td>\n",
       "      <td>0.00</td>\n",
       "      <td>...</td>\n",
       "      <td>0.00</td>\n",
       "      <td>0.00</td>\n",
       "      <td>0.00</td>\n",
       "      <td>0.00</td>\n",
       "      <td>0.00</td>\n",
       "      <td>0</td>\n",
       "      <td>0.00</td>\n",
       "      <td>0.00</td>\n",
       "      <td>0.00</td>\n",
       "      <td>0.00</td>\n",
       "    </tr>\n",
       "    <tr>\n",
       "      <th>2</th>\n",
       "      <td>00008e01-812f-487e-8f34-a80bcb0ae3e3</td>\n",
       "      <td>pagos@abz.com.mx</td>\n",
       "      <td>218,695.00</td>\n",
       "      <td>23,450.30</td>\n",
       "      <td>3,752.04</td>\n",
       "      <td>0.00</td>\n",
       "      <td>0.00</td>\n",
       "      <td>0.00</td>\n",
       "      <td>0.00</td>\n",
       "      <td>0.00</td>\n",
       "      <td>...</td>\n",
       "      <td>0.00</td>\n",
       "      <td>0.00</td>\n",
       "      <td>0.00</td>\n",
       "      <td>0.00</td>\n",
       "      <td>0.00</td>\n",
       "      <td>0</td>\n",
       "      <td>0.00</td>\n",
       "      <td>0.00</td>\n",
       "      <td>0.00</td>\n",
       "      <td>0.00</td>\n",
       "    </tr>\n",
       "    <tr>\n",
       "      <th>3</th>\n",
       "      <td>000096e6-5d2f-47e9-a924-4b413eca6a43</td>\n",
       "      <td>hazel_ara88@hotmail.com</td>\n",
       "      <td>3,015.00</td>\n",
       "      <td>108.54</td>\n",
       "      <td>17.37</td>\n",
       "      <td>0.00</td>\n",
       "      <td>0.00</td>\n",
       "      <td>0.00</td>\n",
       "      <td>0.00</td>\n",
       "      <td>0.00</td>\n",
       "      <td>...</td>\n",
       "      <td>0.00</td>\n",
       "      <td>0.00</td>\n",
       "      <td>0.00</td>\n",
       "      <td>0.00</td>\n",
       "      <td>0.00</td>\n",
       "      <td>0</td>\n",
       "      <td>0.00</td>\n",
       "      <td>0.00</td>\n",
       "      <td>0.00</td>\n",
       "      <td>0.00</td>\n",
       "    </tr>\n",
       "    <tr>\n",
       "      <th>4</th>\n",
       "      <td>0000b65a-c2a2-4993-8f4c-05e5b7cbd7c0</td>\n",
       "      <td>ruvalcabapeleteros@hotmail.com</td>\n",
       "      <td>25,177.97</td>\n",
       "      <td>906.42</td>\n",
       "      <td>145.03</td>\n",
       "      <td>0.00</td>\n",
       "      <td>0.00</td>\n",
       "      <td>0.00</td>\n",
       "      <td>0.00</td>\n",
       "      <td>0.00</td>\n",
       "      <td>...</td>\n",
       "      <td>0.00</td>\n",
       "      <td>0.00</td>\n",
       "      <td>0.00</td>\n",
       "      <td>0.00</td>\n",
       "      <td>0.00</td>\n",
       "      <td>0</td>\n",
       "      <td>0.00</td>\n",
       "      <td>0.00</td>\n",
       "      <td>0.00</td>\n",
       "      <td>0.00</td>\n",
       "    </tr>\n",
       "  </tbody>\n",
       "</table>\n",
       "<p>5 rows × 58 columns</p>\n",
       "</div>"
      ],
      "text/plain": [
       "                            merchant_id                            user_email  \\\n",
       "0  0000275f-d46b-4a9c-a227-42d6f7ce63bd                    o2794682@gmail.com   \n",
       "1  00007725-3116-48dc-9b82-4145699dc290  dr.cesarcamarena.ortopedia@gmail.com   \n",
       "2  00008e01-812f-487e-8f34-a80bcb0ae3e3                      pagos@abz.com.mx   \n",
       "3  000096e6-5d2f-47e9-a924-4b413eca6a43               hazel_ara88@hotmail.com   \n",
       "4  0000b65a-c2a2-4993-8f4c-05e5b7cbd7c0        ruvalcabapeleteros@hotmail.com   \n",
       "\n",
       "   total_transactions  total_fees_charged  total_taxes  fee_direct_deposit  \\\n",
       "0            6,000.00              216.00        34.56                0.00   \n",
       "1            2,000.00               72.00        11.52                0.00   \n",
       "2          218,695.00           23,450.30     3,752.04                0.00   \n",
       "3            3,015.00              108.54        17.37                0.00   \n",
       "4           25,177.97              906.42       145.03                0.00   \n",
       "\n",
       "   taxes_direct_deposit  frontend_commission_fees  frontend_commission_taxes  \\\n",
       "0                  0.00                      0.00                       0.00   \n",
       "1                  0.00                      0.00                       0.00   \n",
       "2                  0.00                      0.00                       0.00   \n",
       "3                  0.00                      0.00                       0.00   \n",
       "4                  0.00                      0.00                       0.00   \n",
       "\n",
       "   merchant_commission_fees  ...  psp_amount  gross_amount  fees  taxes  \\\n",
       "0                      0.00  ...        0.00          0.00  0.00   0.00   \n",
       "1                      0.00  ...        0.00          0.00  0.00   0.00   \n",
       "2                      0.00  ...        0.00          0.00  0.00   0.00   \n",
       "3                      0.00  ...        0.00          0.00  0.00   0.00   \n",
       "4                      0.00  ...        0.00          0.00  0.00   0.00   \n",
       "\n",
       "  net_amount  movement_type_sml gross_amount_dp ingreso_deferred  \\\n",
       "0       0.00                  0            0.00             0.00   \n",
       "1       0.00                  0            0.00             0.00   \n",
       "2       0.00                  0            0.00             0.00   \n",
       "3       0.00                  0            0.00             0.00   \n",
       "4       0.00                  0            0.00             0.00   \n",
       "\n",
       "  fees_deferred taxes_deferred  \n",
       "0          0.00           0.00  \n",
       "1          0.00           0.00  \n",
       "2          0.00           0.00  \n",
       "3          0.00           0.00  \n",
       "4          0.00           0.00  \n",
       "\n",
       "[5 rows x 58 columns]"
      ]
     },
     "execution_count": 108,
     "metadata": {},
     "output_type": "execute_result"
    }
   ],
   "source": [
    "union_dynamo = pd.concat([dynamo,deferred_payments])\n",
    "union_dynamo.fillna(0,inplace=True)\n",
    "union_dynamo.head()"
   ]
  },
  {
   "cell_type": "code",
   "execution_count": 109,
   "metadata": {},
   "outputs": [
    {
     "data": {
      "text/plain": [
       "(373508, 58)"
      ]
     },
     "execution_count": 109,
     "metadata": {},
     "output_type": "execute_result"
    }
   ],
   "source": [
    "union_dynamo.shape"
   ]
  },
  {
   "cell_type": "markdown",
   "metadata": {},
   "source": [
    "# FILE FACURACION BY EMAIL"
   ]
  },
  {
   "cell_type": "code",
   "execution_count": 110,
   "metadata": {},
   "outputs": [
    {
     "data": {
      "text/html": [
       "<div>\n",
       "<style scoped>\n",
       "    .dataframe tbody tr th:only-of-type {\n",
       "        vertical-align: middle;\n",
       "    }\n",
       "\n",
       "    .dataframe tbody tr th {\n",
       "        vertical-align: top;\n",
       "    }\n",
       "\n",
       "    .dataframe thead th {\n",
       "        text-align: right;\n",
       "    }\n",
       "</style>\n",
       "<table border=\"1\" class=\"dataframe\">\n",
       "  <thead>\n",
       "    <tr style=\"text-align: right;\">\n",
       "      <th></th>\n",
       "      <th>user_email</th>\n",
       "      <th>report_id</th>\n",
       "      <th>report_date_local</th>\n",
       "      <th>total_transactions</th>\n",
       "      <th>total_fees_charged</th>\n",
       "      <th>total_taxes</th>\n",
       "      <th>applied_fees_benefits</th>\n",
       "      <th>applied_taxes_benefits</th>\n",
       "      <th>applied_fees_benefits_topups</th>\n",
       "      <th>applied_taxes_benefits_topups</th>\n",
       "      <th>...</th>\n",
       "      <th>total_due</th>\n",
       "      <th>type</th>\n",
       "      <th>created_date</th>\n",
       "      <th>created_time</th>\n",
       "      <th>updated_date</th>\n",
       "      <th>updated_time</th>\n",
       "      <th>file_name</th>\n",
       "      <th>Date</th>\n",
       "      <th>merchant_id</th>\n",
       "      <th>provider_code</th>\n",
       "    </tr>\n",
       "  </thead>\n",
       "  <tbody>\n",
       "  </tbody>\n",
       "</table>\n",
       "<p>0 rows × 31 columns</p>\n",
       "</div>"
      ],
      "text/plain": [
       "Empty DataFrame\n",
       "Columns: [user_email, report_id, report_date_local, total_transactions, total_fees_charged, total_taxes, applied_fees_benefits, applied_taxes_benefits, applied_fees_benefits_topups, applied_taxes_benefits_topups, applied_fees_benefits_coupons, applied_taxes_benefits_coupons, fee_direct_deposit, taxes_direct_deposit, total_adjustments, total_adjustment_fees_charged, total_adjustment_taxes, cobranza, total_released, total_retained, tipopago, total_due, type, created_date, created_time, updated_date, updated_time, file_name, Date, merchant_id, provider_code]\n",
       "Index: []\n",
       "\n",
       "[0 rows x 31 columns]"
      ]
     },
     "execution_count": 110,
     "metadata": {},
     "output_type": "execute_result"
    }
   ],
   "source": [
    "facturacion = fact.merge(lender_amount_email[['merchant_id','provider_code']] ,on='merchant_id', how='left')\n",
    "facturacion['provider_code'].fillna('SIN LENDER',inplace=True)\n",
    "facturacion.head()"
   ]
  },
  {
   "cell_type": "code",
   "execution_count": 111,
   "metadata": {},
   "outputs": [
    {
     "data": {
      "text/html": [
       "<div>\n",
       "<style scoped>\n",
       "    .dataframe tbody tr th:only-of-type {\n",
       "        vertical-align: middle;\n",
       "    }\n",
       "\n",
       "    .dataframe tbody tr th {\n",
       "        vertical-align: top;\n",
       "    }\n",
       "\n",
       "    .dataframe thead th {\n",
       "        text-align: right;\n",
       "    }\n",
       "</style>\n",
       "<table border=\"1\" class=\"dataframe\">\n",
       "  <thead>\n",
       "    <tr style=\"text-align: right;\">\n",
       "      <th></th>\n",
       "      <th>merchant_id</th>\n",
       "      <th>user_email</th>\n",
       "      <th>report_id</th>\n",
       "      <th>report_date_local</th>\n",
       "      <th>total_transactions</th>\n",
       "      <th>total_fees_charged</th>\n",
       "      <th>total_taxes</th>\n",
       "      <th>applied_fees_benefits</th>\n",
       "      <th>applied_taxes_benefits</th>\n",
       "      <th>applied_fees_benefits_topups</th>\n",
       "      <th>...</th>\n",
       "      <th>total_adjustment_fees_charged</th>\n",
       "      <th>total_adjustment_taxes</th>\n",
       "      <th>cobranza</th>\n",
       "      <th>total_released</th>\n",
       "      <th>total_retained</th>\n",
       "      <th>tipopago</th>\n",
       "      <th>total_due</th>\n",
       "      <th>Date</th>\n",
       "      <th>type</th>\n",
       "      <th>provider_code</th>\n",
       "    </tr>\n",
       "  </thead>\n",
       "  <tbody>\n",
       "  </tbody>\n",
       "</table>\n",
       "<p>0 rows × 26 columns</p>\n",
       "</div>"
      ],
      "text/plain": [
       "Empty DataFrame\n",
       "Columns: [merchant_id, user_email, report_id, report_date_local, total_transactions, total_fees_charged, total_taxes, applied_fees_benefits, applied_taxes_benefits, applied_fees_benefits_topups, applied_taxes_benefits_topups, applied_fees_benefits_coupons, applied_taxes_benefits_coupons, fee_direct_deposit, taxes_direct_deposit, total_adjustments, total_adjustment_fees_charged, total_adjustment_taxes, cobranza, total_released, total_retained, tipopago, total_due, Date, type, provider_code]\n",
       "Index: []\n",
       "\n",
       "[0 rows x 26 columns]"
      ]
     },
     "execution_count": 111,
     "metadata": {},
     "output_type": "execute_result"
    }
   ],
   "source": [
    "fact_total = facturacion[['merchant_id','user_email','report_id','report_date_local','total_transactions','total_fees_charged'\n",
    "                          ,'total_taxes','applied_fees_benefits','applied_taxes_benefits','applied_fees_benefits_topups',\n",
    "                          'applied_taxes_benefits_topups','applied_fees_benefits_coupons','applied_taxes_benefits_coupons',\n",
    "                          'fee_direct_deposit','taxes_direct_deposit','total_adjustments','total_adjustment_fees_charged'\n",
    "                          ,'total_adjustment_taxes','cobranza','total_released','total_retained','tipopago'\n",
    "                          ,'total_due','Date','type','provider_code']]\n",
    "fact_total.head()"
   ]
  },
  {
   "cell_type": "code",
   "execution_count": 112,
   "metadata": {},
   "outputs": [
    {
     "data": {
      "text/plain": [
       "(0, 26)"
      ]
     },
     "execution_count": 112,
     "metadata": {},
     "output_type": "execute_result"
    }
   ],
   "source": [
    "fact_total.shape"
   ]
  },
  {
   "cell_type": "code",
   "execution_count": 113,
   "metadata": {},
   "outputs": [],
   "source": [
    "# fact_total.loc['All'] = fact_total.sum(numeric_only=True)\n",
    "# fact_total['merchant_id'].fillna('ALL',inplace=True)"
   ]
  },
  {
   "cell_type": "code",
   "execution_count": 114,
   "metadata": {},
   "outputs": [],
   "source": [
    "# fact_total.shape"
   ]
  },
  {
   "cell_type": "code",
   "execution_count": 115,
   "metadata": {},
   "outputs": [],
   "source": [
    "# fact_total.tail()"
   ]
  },
  {
   "cell_type": "code",
   "execution_count": 116,
   "metadata": {},
   "outputs": [],
   "source": [
    "# facturacion_by_date.drop(facturacion_by_date.tail(1).index,inplace=True)"
   ]
  },
  {
   "cell_type": "code",
   "execution_count": 117,
   "metadata": {},
   "outputs": [
    {
     "name": "stderr",
     "output_type": "stream",
     "text": [
      "C:\\Users\\Cristian.Aparicio\\AppData\\Local\\Temp\\ipykernel_16640\\3817383449.py:1: FutureWarning: The provided callable <function sum at 0x0000012B6DC7EAF0> is currently using DataFrameGroupBy.sum. In a future version of pandas, the provided callable will be used directly. To keep current behavior pass the string \"sum\" instead.\n",
      "  pt_1 = pd.pivot_table(fact_total,index=['merchant_id',\"user_email\"],values=[\"total_due\",'total_transactions',\n"
     ]
    },
    {
     "data": {
      "text/html": [
       "<div>\n",
       "<style scoped>\n",
       "    .dataframe tbody tr th:only-of-type {\n",
       "        vertical-align: middle;\n",
       "    }\n",
       "\n",
       "    .dataframe tbody tr th {\n",
       "        vertical-align: top;\n",
       "    }\n",
       "\n",
       "    .dataframe thead th {\n",
       "        text-align: right;\n",
       "    }\n",
       "</style>\n",
       "<table border=\"1\" class=\"dataframe\">\n",
       "  <thead>\n",
       "    <tr style=\"text-align: right;\">\n",
       "      <th></th>\n",
       "      <th>merchant_id</th>\n",
       "      <th>user_email</th>\n",
       "    </tr>\n",
       "  </thead>\n",
       "  <tbody>\n",
       "  </tbody>\n",
       "</table>\n",
       "</div>"
      ],
      "text/plain": [
       "Empty DataFrame\n",
       "Columns: [merchant_id, user_email]\n",
       "Index: []"
      ]
     },
     "execution_count": 117,
     "metadata": {},
     "output_type": "execute_result"
    }
   ],
   "source": [
    "pt_1 = pd.pivot_table(fact_total,index=['merchant_id',\"user_email\"],values=[\"total_due\",'total_transactions',\n",
    "                                                                          \"total_fees_charged\",'total_taxes',\n",
    "                                                                          \"applied_fees_benefits\",'applied_taxes_benefits',\n",
    "                                                                          'applied_fees_benefits_topups',\n",
    "                                                                          'applied_taxes_benefits_topups',\n",
    "                                                                          'applied_fees_benefits_coupons',\n",
    "                                                                          'applied_taxes_benefits_coupons',\n",
    "                                                                          'fee_direct_deposit','taxes_direct_deposit']\n",
    "                    ,aggfunc=np.sum,margins=False)\n",
    "pt_1 = pt_1.reset_index(drop=False)\n",
    "# pt.to_csv('PIVOT BY EMAIL ABRIL.csv')\n",
    "pt_1.head()"
   ]
  },
  {
   "cell_type": "code",
   "execution_count": 118,
   "metadata": {},
   "outputs": [
    {
     "data": {
      "text/plain": [
       "(0, 2)"
      ]
     },
     "execution_count": 118,
     "metadata": {},
     "output_type": "execute_result"
    }
   ],
   "source": [
    "pt_1.shape"
   ]
  },
  {
   "cell_type": "markdown",
   "metadata": {},
   "source": [
    "# UNION CON DYNAMO"
   ]
  },
  {
   "cell_type": "code",
   "execution_count": 119,
   "metadata": {},
   "outputs": [
    {
     "data": {
      "text/html": [
       "<div>\n",
       "<style scoped>\n",
       "    .dataframe tbody tr th:only-of-type {\n",
       "        vertical-align: middle;\n",
       "    }\n",
       "\n",
       "    .dataframe tbody tr th {\n",
       "        vertical-align: top;\n",
       "    }\n",
       "\n",
       "    .dataframe thead th {\n",
       "        text-align: right;\n",
       "    }\n",
       "</style>\n",
       "<table border=\"1\" class=\"dataframe\">\n",
       "  <thead>\n",
       "    <tr style=\"text-align: right;\">\n",
       "      <th></th>\n",
       "      <th>merchant_id</th>\n",
       "      <th>user_email</th>\n",
       "      <th>total_transactions</th>\n",
       "      <th>total_fees_charged</th>\n",
       "      <th>total_taxes</th>\n",
       "      <th>fee_direct_deposit</th>\n",
       "      <th>taxes_direct_deposit</th>\n",
       "      <th>frontend_commission_fees</th>\n",
       "      <th>frontend_commission_taxes</th>\n",
       "      <th>merchant_commission_fees</th>\n",
       "      <th>...</th>\n",
       "      <th>psp_amount</th>\n",
       "      <th>gross_amount</th>\n",
       "      <th>fees</th>\n",
       "      <th>taxes</th>\n",
       "      <th>net_amount</th>\n",
       "      <th>movement_type_sml</th>\n",
       "      <th>gross_amount_dp</th>\n",
       "      <th>ingreso_deferred</th>\n",
       "      <th>fees_deferred</th>\n",
       "      <th>taxes_deferred</th>\n",
       "    </tr>\n",
       "  </thead>\n",
       "  <tbody>\n",
       "    <tr>\n",
       "      <th>0</th>\n",
       "      <td>0000275f-d46b-4a9c-a227-42d6f7ce63bd</td>\n",
       "      <td>o2794682@gmail.com</td>\n",
       "      <td>6,000.00</td>\n",
       "      <td>216.00</td>\n",
       "      <td>34.56</td>\n",
       "      <td>0.00</td>\n",
       "      <td>0.00</td>\n",
       "      <td>0.00</td>\n",
       "      <td>0.00</td>\n",
       "      <td>0.00</td>\n",
       "      <td>...</td>\n",
       "      <td>0.00</td>\n",
       "      <td>0.00</td>\n",
       "      <td>0.00</td>\n",
       "      <td>0.00</td>\n",
       "      <td>0.00</td>\n",
       "      <td>0</td>\n",
       "      <td>0.00</td>\n",
       "      <td>0.00</td>\n",
       "      <td>0.00</td>\n",
       "      <td>0.00</td>\n",
       "    </tr>\n",
       "    <tr>\n",
       "      <th>1</th>\n",
       "      <td>00007725-3116-48dc-9b82-4145699dc290</td>\n",
       "      <td>dr.cesarcamarena.ortopedia@gmail.com</td>\n",
       "      <td>2,000.00</td>\n",
       "      <td>72.00</td>\n",
       "      <td>11.52</td>\n",
       "      <td>0.00</td>\n",
       "      <td>0.00</td>\n",
       "      <td>0.00</td>\n",
       "      <td>0.00</td>\n",
       "      <td>0.00</td>\n",
       "      <td>...</td>\n",
       "      <td>0.00</td>\n",
       "      <td>0.00</td>\n",
       "      <td>0.00</td>\n",
       "      <td>0.00</td>\n",
       "      <td>0.00</td>\n",
       "      <td>0</td>\n",
       "      <td>0.00</td>\n",
       "      <td>0.00</td>\n",
       "      <td>0.00</td>\n",
       "      <td>0.00</td>\n",
       "    </tr>\n",
       "    <tr>\n",
       "      <th>2</th>\n",
       "      <td>00008e01-812f-487e-8f34-a80bcb0ae3e3</td>\n",
       "      <td>pagos@abz.com.mx</td>\n",
       "      <td>218,695.00</td>\n",
       "      <td>23,450.30</td>\n",
       "      <td>3,752.04</td>\n",
       "      <td>0.00</td>\n",
       "      <td>0.00</td>\n",
       "      <td>0.00</td>\n",
       "      <td>0.00</td>\n",
       "      <td>0.00</td>\n",
       "      <td>...</td>\n",
       "      <td>0.00</td>\n",
       "      <td>0.00</td>\n",
       "      <td>0.00</td>\n",
       "      <td>0.00</td>\n",
       "      <td>0.00</td>\n",
       "      <td>0</td>\n",
       "      <td>0.00</td>\n",
       "      <td>0.00</td>\n",
       "      <td>0.00</td>\n",
       "      <td>0.00</td>\n",
       "    </tr>\n",
       "    <tr>\n",
       "      <th>3</th>\n",
       "      <td>000096e6-5d2f-47e9-a924-4b413eca6a43</td>\n",
       "      <td>hazel_ara88@hotmail.com</td>\n",
       "      <td>3,015.00</td>\n",
       "      <td>108.54</td>\n",
       "      <td>17.37</td>\n",
       "      <td>0.00</td>\n",
       "      <td>0.00</td>\n",
       "      <td>0.00</td>\n",
       "      <td>0.00</td>\n",
       "      <td>0.00</td>\n",
       "      <td>...</td>\n",
       "      <td>0.00</td>\n",
       "      <td>0.00</td>\n",
       "      <td>0.00</td>\n",
       "      <td>0.00</td>\n",
       "      <td>0.00</td>\n",
       "      <td>0</td>\n",
       "      <td>0.00</td>\n",
       "      <td>0.00</td>\n",
       "      <td>0.00</td>\n",
       "      <td>0.00</td>\n",
       "    </tr>\n",
       "    <tr>\n",
       "      <th>4</th>\n",
       "      <td>0000b65a-c2a2-4993-8f4c-05e5b7cbd7c0</td>\n",
       "      <td>ruvalcabapeleteros@hotmail.com</td>\n",
       "      <td>25,177.97</td>\n",
       "      <td>906.42</td>\n",
       "      <td>145.03</td>\n",
       "      <td>0.00</td>\n",
       "      <td>0.00</td>\n",
       "      <td>0.00</td>\n",
       "      <td>0.00</td>\n",
       "      <td>0.00</td>\n",
       "      <td>...</td>\n",
       "      <td>0.00</td>\n",
       "      <td>0.00</td>\n",
       "      <td>0.00</td>\n",
       "      <td>0.00</td>\n",
       "      <td>0.00</td>\n",
       "      <td>0</td>\n",
       "      <td>0.00</td>\n",
       "      <td>0.00</td>\n",
       "      <td>0.00</td>\n",
       "      <td>0.00</td>\n",
       "    </tr>\n",
       "  </tbody>\n",
       "</table>\n",
       "<p>5 rows × 58 columns</p>\n",
       "</div>"
      ],
      "text/plain": [
       "                            merchant_id                            user_email  \\\n",
       "0  0000275f-d46b-4a9c-a227-42d6f7ce63bd                    o2794682@gmail.com   \n",
       "1  00007725-3116-48dc-9b82-4145699dc290  dr.cesarcamarena.ortopedia@gmail.com   \n",
       "2  00008e01-812f-487e-8f34-a80bcb0ae3e3                      pagos@abz.com.mx   \n",
       "3  000096e6-5d2f-47e9-a924-4b413eca6a43               hazel_ara88@hotmail.com   \n",
       "4  0000b65a-c2a2-4993-8f4c-05e5b7cbd7c0        ruvalcabapeleteros@hotmail.com   \n",
       "\n",
       "   total_transactions  total_fees_charged  total_taxes  fee_direct_deposit  \\\n",
       "0            6,000.00              216.00        34.56                0.00   \n",
       "1            2,000.00               72.00        11.52                0.00   \n",
       "2          218,695.00           23,450.30     3,752.04                0.00   \n",
       "3            3,015.00              108.54        17.37                0.00   \n",
       "4           25,177.97              906.42       145.03                0.00   \n",
       "\n",
       "   taxes_direct_deposit  frontend_commission_fees  frontend_commission_taxes  \\\n",
       "0                  0.00                      0.00                       0.00   \n",
       "1                  0.00                      0.00                       0.00   \n",
       "2                  0.00                      0.00                       0.00   \n",
       "3                  0.00                      0.00                       0.00   \n",
       "4                  0.00                      0.00                       0.00   \n",
       "\n",
       "   merchant_commission_fees  ...  psp_amount  gross_amount  fees  taxes  \\\n",
       "0                      0.00  ...        0.00          0.00  0.00   0.00   \n",
       "1                      0.00  ...        0.00          0.00  0.00   0.00   \n",
       "2                      0.00  ...        0.00          0.00  0.00   0.00   \n",
       "3                      0.00  ...        0.00          0.00  0.00   0.00   \n",
       "4                      0.00  ...        0.00          0.00  0.00   0.00   \n",
       "\n",
       "  net_amount  movement_type_sml gross_amount_dp ingreso_deferred  \\\n",
       "0       0.00                  0            0.00             0.00   \n",
       "1       0.00                  0            0.00             0.00   \n",
       "2       0.00                  0            0.00             0.00   \n",
       "3       0.00                  0            0.00             0.00   \n",
       "4       0.00                  0            0.00             0.00   \n",
       "\n",
       "  fees_deferred taxes_deferred  \n",
       "0          0.00           0.00  \n",
       "1          0.00           0.00  \n",
       "2          0.00           0.00  \n",
       "3          0.00           0.00  \n",
       "4          0.00           0.00  \n",
       "\n",
       "[5 rows x 58 columns]"
      ]
     },
     "execution_count": 119,
     "metadata": {},
     "output_type": "execute_result"
    }
   ],
   "source": [
    "union_dynamo_final = pd.concat([pt_1, union_dynamo])\n",
    "union_dynamo_final.fillna(0,inplace=True)\n",
    "union_dynamo_final.head()"
   ]
  },
  {
   "cell_type": "code",
   "execution_count": 120,
   "metadata": {},
   "outputs": [
    {
     "data": {
      "text/plain": [
       "(373508, 58)"
      ]
     },
     "execution_count": 120,
     "metadata": {},
     "output_type": "execute_result"
    }
   ],
   "source": [
    "union_dynamo_final.shape"
   ]
  },
  {
   "cell_type": "code",
   "execution_count": 121,
   "metadata": {},
   "outputs": [
    {
     "data": {
      "text/plain": [
       "Index(['merchant_id', 'user_email', 'total_transactions', 'total_fees_charged',\n",
       "       'total_taxes', 'fee_direct_deposit', 'taxes_direct_deposit',\n",
       "       'frontend_commission_fees', 'frontend_commission_taxes',\n",
       "       'merchant_commission_fees', 'merchant_commission_taxes',\n",
       "       'fees_cashback', 'taxes_cashback', 'total_due', 'file_name', 'amount',\n",
       "       'currency', 'type_request', 'mvnt_id', 'movement_type', 'source_type',\n",
       "       'created_at', 'eff_dt', 'movement_day', 'request_effective_date',\n",
       "       'slot_date', 'eff_dt_date', 'eff_dt_time', 'merchant_name',\n",
       "       'psp_amount_sett', 'gross_amount_sett', 'fees_sett', 'taxes_sett',\n",
       "       'net_amount_sett', 'mdr', 'msi', 'number_msi', 'receipt_no',\n",
       "       'status_code', 'dcc_amount', 'dcc_rate', 'dcc_status', 'pymt_prg',\n",
       "       'psp_amount_pymt', 'gross_amount_pymt', 'fees_pymt', 'taxes_pymt',\n",
       "       'net_amount_pymt', 'psp_amount', 'gross_amount', 'fees', 'taxes',\n",
       "       'net_amount', 'movement_type_sml', 'gross_amount_dp',\n",
       "       'ingreso_deferred', 'fees_deferred', 'taxes_deferred'],\n",
       "      dtype='object')"
      ]
     },
     "execution_count": 121,
     "metadata": {},
     "output_type": "execute_result"
    }
   ],
   "source": [
    "union_dynamo_final.columns"
   ]
  },
  {
   "cell_type": "markdown",
   "metadata": {},
   "source": [
    "# PIVOT FINAL CON INCLUSION DYNAMO"
   ]
  },
  {
   "cell_type": "code",
   "execution_count": 122,
   "metadata": {},
   "outputs": [
    {
     "name": "stderr",
     "output_type": "stream",
     "text": [
      "C:\\Users\\Cristian.Aparicio\\AppData\\Local\\Temp\\ipykernel_16640\\2637501315.py:1: FutureWarning: The provided callable <function sum at 0x0000012B6DC7EAF0> is currently using DataFrameGroupBy.sum. In a future version of pandas, the provided callable will be used directly. To keep current behavior pass the string \"sum\" instead.\n",
      "  pt = pd.pivot_table(union_dynamo_final,index=['merchant_id',\"user_email\"],\n"
     ]
    },
    {
     "data": {
      "text/html": [
       "<div>\n",
       "<style scoped>\n",
       "    .dataframe tbody tr th:only-of-type {\n",
       "        vertical-align: middle;\n",
       "    }\n",
       "\n",
       "    .dataframe tbody tr th {\n",
       "        vertical-align: top;\n",
       "    }\n",
       "\n",
       "    .dataframe thead th {\n",
       "        text-align: right;\n",
       "    }\n",
       "</style>\n",
       "<table border=\"1\" class=\"dataframe\">\n",
       "  <thead>\n",
       "    <tr style=\"text-align: right;\">\n",
       "      <th></th>\n",
       "      <th>merchant_id</th>\n",
       "      <th>user_email</th>\n",
       "      <th>fee_direct_deposit</th>\n",
       "      <th>fees_cashback</th>\n",
       "      <th>fees_deferred</th>\n",
       "      <th>frontend_commission_fees</th>\n",
       "      <th>frontend_commission_taxes</th>\n",
       "      <th>gross_amount_dp</th>\n",
       "      <th>merchant_commission_fees</th>\n",
       "      <th>merchant_commission_taxes</th>\n",
       "      <th>taxes_cashback</th>\n",
       "      <th>taxes_deferred</th>\n",
       "      <th>taxes_direct_deposit</th>\n",
       "      <th>total_due</th>\n",
       "      <th>total_fees_charged</th>\n",
       "      <th>total_taxes</th>\n",
       "      <th>total_transactions</th>\n",
       "    </tr>\n",
       "  </thead>\n",
       "  <tbody>\n",
       "    <tr>\n",
       "      <th>0</th>\n",
       "      <td>0000275f-d46b-4a9c-a227-42d6f7ce63bd</td>\n",
       "      <td>o2794682@gmail.com</td>\n",
       "      <td>0.00</td>\n",
       "      <td>0.00</td>\n",
       "      <td>0.00</td>\n",
       "      <td>0.00</td>\n",
       "      <td>0.00</td>\n",
       "      <td>0.00</td>\n",
       "      <td>0.00</td>\n",
       "      <td>0.00</td>\n",
       "      <td>0.00</td>\n",
       "      <td>0.00</td>\n",
       "      <td>0.00</td>\n",
       "      <td>5,749.44</td>\n",
       "      <td>216.00</td>\n",
       "      <td>34.56</td>\n",
       "      <td>6,000.00</td>\n",
       "    </tr>\n",
       "    <tr>\n",
       "      <th>1</th>\n",
       "      <td>00007725-3116-48dc-9b82-4145699dc290</td>\n",
       "      <td>dr.cesarcamarena.ortopedia@gmail.com</td>\n",
       "      <td>0.00</td>\n",
       "      <td>0.00</td>\n",
       "      <td>0.00</td>\n",
       "      <td>0.00</td>\n",
       "      <td>0.00</td>\n",
       "      <td>0.00</td>\n",
       "      <td>0.00</td>\n",
       "      <td>0.00</td>\n",
       "      <td>0.00</td>\n",
       "      <td>0.00</td>\n",
       "      <td>0.00</td>\n",
       "      <td>1,916.48</td>\n",
       "      <td>72.00</td>\n",
       "      <td>11.52</td>\n",
       "      <td>2,000.00</td>\n",
       "    </tr>\n",
       "    <tr>\n",
       "      <th>2</th>\n",
       "      <td>00008e01-812f-487e-8f34-a80bcb0ae3e3</td>\n",
       "      <td>pagos@abz.com.mx</td>\n",
       "      <td>0.00</td>\n",
       "      <td>0.00</td>\n",
       "      <td>0.00</td>\n",
       "      <td>0.00</td>\n",
       "      <td>0.00</td>\n",
       "      <td>0.00</td>\n",
       "      <td>0.00</td>\n",
       "      <td>0.00</td>\n",
       "      <td>0.00</td>\n",
       "      <td>0.00</td>\n",
       "      <td>0.00</td>\n",
       "      <td>191,492.66</td>\n",
       "      <td>23,450.30</td>\n",
       "      <td>3,752.04</td>\n",
       "      <td>218,695.00</td>\n",
       "    </tr>\n",
       "    <tr>\n",
       "      <th>3</th>\n",
       "      <td>000096e6-5d2f-47e9-a924-4b413eca6a43</td>\n",
       "      <td>hazel_ara88@hotmail.com</td>\n",
       "      <td>0.00</td>\n",
       "      <td>0.00</td>\n",
       "      <td>0.00</td>\n",
       "      <td>0.00</td>\n",
       "      <td>0.00</td>\n",
       "      <td>0.00</td>\n",
       "      <td>0.00</td>\n",
       "      <td>0.00</td>\n",
       "      <td>0.00</td>\n",
       "      <td>0.00</td>\n",
       "      <td>0.00</td>\n",
       "      <td>2,889.09</td>\n",
       "      <td>108.54</td>\n",
       "      <td>17.37</td>\n",
       "      <td>3,015.00</td>\n",
       "    </tr>\n",
       "    <tr>\n",
       "      <th>4</th>\n",
       "      <td>0000b65a-c2a2-4993-8f4c-05e5b7cbd7c0</td>\n",
       "      <td>ruvalcabapeleteros@hotmail.com</td>\n",
       "      <td>0.00</td>\n",
       "      <td>0.00</td>\n",
       "      <td>0.00</td>\n",
       "      <td>0.00</td>\n",
       "      <td>0.00</td>\n",
       "      <td>0.00</td>\n",
       "      <td>0.00</td>\n",
       "      <td>0.00</td>\n",
       "      <td>0.00</td>\n",
       "      <td>0.00</td>\n",
       "      <td>0.00</td>\n",
       "      <td>24,126.52</td>\n",
       "      <td>906.42</td>\n",
       "      <td>145.03</td>\n",
       "      <td>25,177.97</td>\n",
       "    </tr>\n",
       "  </tbody>\n",
       "</table>\n",
       "</div>"
      ],
      "text/plain": [
       "                            merchant_id                            user_email  \\\n",
       "0  0000275f-d46b-4a9c-a227-42d6f7ce63bd                    o2794682@gmail.com   \n",
       "1  00007725-3116-48dc-9b82-4145699dc290  dr.cesarcamarena.ortopedia@gmail.com   \n",
       "2  00008e01-812f-487e-8f34-a80bcb0ae3e3                      pagos@abz.com.mx   \n",
       "3  000096e6-5d2f-47e9-a924-4b413eca6a43               hazel_ara88@hotmail.com   \n",
       "4  0000b65a-c2a2-4993-8f4c-05e5b7cbd7c0        ruvalcabapeleteros@hotmail.com   \n",
       "\n",
       "   fee_direct_deposit  fees_cashback  fees_deferred  frontend_commission_fees  \\\n",
       "0                0.00           0.00           0.00                      0.00   \n",
       "1                0.00           0.00           0.00                      0.00   \n",
       "2                0.00           0.00           0.00                      0.00   \n",
       "3                0.00           0.00           0.00                      0.00   \n",
       "4                0.00           0.00           0.00                      0.00   \n",
       "\n",
       "   frontend_commission_taxes  gross_amount_dp  merchant_commission_fees  \\\n",
       "0                       0.00             0.00                      0.00   \n",
       "1                       0.00             0.00                      0.00   \n",
       "2                       0.00             0.00                      0.00   \n",
       "3                       0.00             0.00                      0.00   \n",
       "4                       0.00             0.00                      0.00   \n",
       "\n",
       "   merchant_commission_taxes  taxes_cashback  taxes_deferred  \\\n",
       "0                       0.00            0.00            0.00   \n",
       "1                       0.00            0.00            0.00   \n",
       "2                       0.00            0.00            0.00   \n",
       "3                       0.00            0.00            0.00   \n",
       "4                       0.00            0.00            0.00   \n",
       "\n",
       "   taxes_direct_deposit  total_due  total_fees_charged  total_taxes  \\\n",
       "0                  0.00   5,749.44              216.00        34.56   \n",
       "1                  0.00   1,916.48               72.00        11.52   \n",
       "2                  0.00 191,492.66           23,450.30     3,752.04   \n",
       "3                  0.00   2,889.09              108.54        17.37   \n",
       "4                  0.00  24,126.52              906.42       145.03   \n",
       "\n",
       "   total_transactions  \n",
       "0            6,000.00  \n",
       "1            2,000.00  \n",
       "2          218,695.00  \n",
       "3            3,015.00  \n",
       "4           25,177.97  "
      ]
     },
     "execution_count": 122,
     "metadata": {},
     "output_type": "execute_result"
    }
   ],
   "source": [
    "pt = pd.pivot_table(union_dynamo_final,index=['merchant_id',\"user_email\"],\n",
    "                    values=[\"total_due\",\n",
    "                            'total_transactions',\n",
    "                            \"total_fees_charged\",\n",
    "                            'total_taxes',\n",
    "                            #\"applied_fees_benefits\",\n",
    "                            #'applied_taxes_benefits',\n",
    "                            #'applied_fees_benefits_topups',\n",
    "                            #'applied_taxes_benefits_topups',\n",
    "                            #'applied_fees_benefits_coupons',\n",
    "                            #'applied_taxes_benefits_coupons',\n",
    "                            'fee_direct_deposit','taxes_direct_deposit',\n",
    "                            'frontend_commission_fees',\n",
    "                            'frontend_commission_taxes',\n",
    "                            'merchant_commission_fees',\n",
    "                            'merchant_commission_taxes',\n",
    "                            'fees_cashback',\n",
    "                            'taxes_cashback',\n",
    "                            'gross_amount_dp',\n",
    "                            'fees_deferred',\n",
    "                            'taxes_deferred']\n",
    "                    ,aggfunc=np.sum,margins=True)\n",
    "pt = pt.reset_index(drop=False)\n",
    "# pt.to_csv('PIVOT BY EMAIL ABRIL.csv')\n",
    "pt.head()"
   ]
  },
  {
   "cell_type": "code",
   "execution_count": 123,
   "metadata": {},
   "outputs": [
    {
     "data": {
      "text/plain": [
       "(353616, 17)"
      ]
     },
     "execution_count": 123,
     "metadata": {},
     "output_type": "execute_result"
    }
   ],
   "source": [
    "pt.shape"
   ]
  },
  {
   "cell_type": "code",
   "execution_count": 124,
   "metadata": {},
   "outputs": [
    {
     "data": {
      "text/html": [
       "<div>\n",
       "<style scoped>\n",
       "    .dataframe tbody tr th:only-of-type {\n",
       "        vertical-align: middle;\n",
       "    }\n",
       "\n",
       "    .dataframe tbody tr th {\n",
       "        vertical-align: top;\n",
       "    }\n",
       "\n",
       "    .dataframe thead th {\n",
       "        text-align: right;\n",
       "    }\n",
       "</style>\n",
       "<table border=\"1\" class=\"dataframe\">\n",
       "  <thead>\n",
       "    <tr style=\"text-align: right;\">\n",
       "      <th></th>\n",
       "      <th>merchant_id</th>\n",
       "      <th>user_email</th>\n",
       "      <th>fee_direct_deposit</th>\n",
       "      <th>fees_cashback</th>\n",
       "      <th>fees_deferred</th>\n",
       "      <th>frontend_commission_fees</th>\n",
       "      <th>frontend_commission_taxes</th>\n",
       "      <th>gross_amount_dp</th>\n",
       "      <th>merchant_commission_fees</th>\n",
       "      <th>merchant_commission_taxes</th>\n",
       "      <th>...</th>\n",
       "      <th>taxes_direct_deposit</th>\n",
       "      <th>total_due</th>\n",
       "      <th>total_fees_charged</th>\n",
       "      <th>total_taxes</th>\n",
       "      <th>total_transactions</th>\n",
       "      <th>provider_code</th>\n",
       "      <th>amount</th>\n",
       "      <th>capital</th>\n",
       "      <th>interest</th>\n",
       "      <th>tax</th>\n",
       "    </tr>\n",
       "  </thead>\n",
       "  <tbody>\n",
       "    <tr>\n",
       "      <th>0</th>\n",
       "      <td>0000275f-d46b-4a9c-a227-42d6f7ce63bd</td>\n",
       "      <td>o2794682@gmail.com</td>\n",
       "      <td>0.00</td>\n",
       "      <td>0.00</td>\n",
       "      <td>0.00</td>\n",
       "      <td>0.00</td>\n",
       "      <td>0.00</td>\n",
       "      <td>0.00</td>\n",
       "      <td>0.00</td>\n",
       "      <td>0.00</td>\n",
       "      <td>...</td>\n",
       "      <td>0.00</td>\n",
       "      <td>5,749.44</td>\n",
       "      <td>216.00</td>\n",
       "      <td>34.56</td>\n",
       "      <td>6,000.00</td>\n",
       "      <td>SIN LENDER</td>\n",
       "      <td>0.00</td>\n",
       "      <td>0.00</td>\n",
       "      <td>0.00</td>\n",
       "      <td>0.00</td>\n",
       "    </tr>\n",
       "    <tr>\n",
       "      <th>1</th>\n",
       "      <td>00007725-3116-48dc-9b82-4145699dc290</td>\n",
       "      <td>dr.cesarcamarena.ortopedia@gmail.com</td>\n",
       "      <td>0.00</td>\n",
       "      <td>0.00</td>\n",
       "      <td>0.00</td>\n",
       "      <td>0.00</td>\n",
       "      <td>0.00</td>\n",
       "      <td>0.00</td>\n",
       "      <td>0.00</td>\n",
       "      <td>0.00</td>\n",
       "      <td>...</td>\n",
       "      <td>0.00</td>\n",
       "      <td>1,916.48</td>\n",
       "      <td>72.00</td>\n",
       "      <td>11.52</td>\n",
       "      <td>2,000.00</td>\n",
       "      <td>SIN LENDER</td>\n",
       "      <td>0.00</td>\n",
       "      <td>0.00</td>\n",
       "      <td>0.00</td>\n",
       "      <td>0.00</td>\n",
       "    </tr>\n",
       "    <tr>\n",
       "      <th>2</th>\n",
       "      <td>00008e01-812f-487e-8f34-a80bcb0ae3e3</td>\n",
       "      <td>pagos@abz.com.mx</td>\n",
       "      <td>0.00</td>\n",
       "      <td>0.00</td>\n",
       "      <td>0.00</td>\n",
       "      <td>0.00</td>\n",
       "      <td>0.00</td>\n",
       "      <td>0.00</td>\n",
       "      <td>0.00</td>\n",
       "      <td>0.00</td>\n",
       "      <td>...</td>\n",
       "      <td>0.00</td>\n",
       "      <td>191,492.66</td>\n",
       "      <td>23,450.30</td>\n",
       "      <td>3,752.04</td>\n",
       "      <td>218,695.00</td>\n",
       "      <td>SIN LENDER</td>\n",
       "      <td>0.00</td>\n",
       "      <td>0.00</td>\n",
       "      <td>0.00</td>\n",
       "      <td>0.00</td>\n",
       "    </tr>\n",
       "    <tr>\n",
       "      <th>3</th>\n",
       "      <td>000096e6-5d2f-47e9-a924-4b413eca6a43</td>\n",
       "      <td>hazel_ara88@hotmail.com</td>\n",
       "      <td>0.00</td>\n",
       "      <td>0.00</td>\n",
       "      <td>0.00</td>\n",
       "      <td>0.00</td>\n",
       "      <td>0.00</td>\n",
       "      <td>0.00</td>\n",
       "      <td>0.00</td>\n",
       "      <td>0.00</td>\n",
       "      <td>...</td>\n",
       "      <td>0.00</td>\n",
       "      <td>2,889.09</td>\n",
       "      <td>108.54</td>\n",
       "      <td>17.37</td>\n",
       "      <td>3,015.00</td>\n",
       "      <td>SIN LENDER</td>\n",
       "      <td>0.00</td>\n",
       "      <td>0.00</td>\n",
       "      <td>0.00</td>\n",
       "      <td>0.00</td>\n",
       "    </tr>\n",
       "    <tr>\n",
       "      <th>4</th>\n",
       "      <td>0000b65a-c2a2-4993-8f4c-05e5b7cbd7c0</td>\n",
       "      <td>ruvalcabapeleteros@hotmail.com</td>\n",
       "      <td>0.00</td>\n",
       "      <td>0.00</td>\n",
       "      <td>0.00</td>\n",
       "      <td>0.00</td>\n",
       "      <td>0.00</td>\n",
       "      <td>0.00</td>\n",
       "      <td>0.00</td>\n",
       "      <td>0.00</td>\n",
       "      <td>...</td>\n",
       "      <td>0.00</td>\n",
       "      <td>24,126.52</td>\n",
       "      <td>906.42</td>\n",
       "      <td>145.03</td>\n",
       "      <td>25,177.97</td>\n",
       "      <td>SIN LENDER</td>\n",
       "      <td>0.00</td>\n",
       "      <td>0.00</td>\n",
       "      <td>0.00</td>\n",
       "      <td>0.00</td>\n",
       "    </tr>\n",
       "  </tbody>\n",
       "</table>\n",
       "<p>5 rows × 22 columns</p>\n",
       "</div>"
      ],
      "text/plain": [
       "                            merchant_id                            user_email  \\\n",
       "0  0000275f-d46b-4a9c-a227-42d6f7ce63bd                    o2794682@gmail.com   \n",
       "1  00007725-3116-48dc-9b82-4145699dc290  dr.cesarcamarena.ortopedia@gmail.com   \n",
       "2  00008e01-812f-487e-8f34-a80bcb0ae3e3                      pagos@abz.com.mx   \n",
       "3  000096e6-5d2f-47e9-a924-4b413eca6a43               hazel_ara88@hotmail.com   \n",
       "4  0000b65a-c2a2-4993-8f4c-05e5b7cbd7c0        ruvalcabapeleteros@hotmail.com   \n",
       "\n",
       "   fee_direct_deposit  fees_cashback  fees_deferred  frontend_commission_fees  \\\n",
       "0                0.00           0.00           0.00                      0.00   \n",
       "1                0.00           0.00           0.00                      0.00   \n",
       "2                0.00           0.00           0.00                      0.00   \n",
       "3                0.00           0.00           0.00                      0.00   \n",
       "4                0.00           0.00           0.00                      0.00   \n",
       "\n",
       "   frontend_commission_taxes  gross_amount_dp  merchant_commission_fees  \\\n",
       "0                       0.00             0.00                      0.00   \n",
       "1                       0.00             0.00                      0.00   \n",
       "2                       0.00             0.00                      0.00   \n",
       "3                       0.00             0.00                      0.00   \n",
       "4                       0.00             0.00                      0.00   \n",
       "\n",
       "   merchant_commission_taxes  ...  taxes_direct_deposit  total_due  \\\n",
       "0                       0.00  ...                  0.00   5,749.44   \n",
       "1                       0.00  ...                  0.00   1,916.48   \n",
       "2                       0.00  ...                  0.00 191,492.66   \n",
       "3                       0.00  ...                  0.00   2,889.09   \n",
       "4                       0.00  ...                  0.00  24,126.52   \n",
       "\n",
       "   total_fees_charged  total_taxes  total_transactions  provider_code  amount  \\\n",
       "0              216.00        34.56            6,000.00     SIN LENDER    0.00   \n",
       "1               72.00        11.52            2,000.00     SIN LENDER    0.00   \n",
       "2           23,450.30     3,752.04          218,695.00     SIN LENDER    0.00   \n",
       "3              108.54        17.37            3,015.00     SIN LENDER    0.00   \n",
       "4              906.42       145.03           25,177.97     SIN LENDER    0.00   \n",
       "\n",
       "  capital  interest  tax  \n",
       "0    0.00      0.00 0.00  \n",
       "1    0.00      0.00 0.00  \n",
       "2    0.00      0.00 0.00  \n",
       "3    0.00      0.00 0.00  \n",
       "4    0.00      0.00 0.00  \n",
       "\n",
       "[5 rows x 22 columns]"
      ]
     },
     "execution_count": 124,
     "metadata": {},
     "output_type": "execute_result"
    }
   ],
   "source": [
    "facturacion_total = pt.merge(lender_amount_email[['merchant_id','provider_code','amount','capital',\n",
    "                                                   'interest','tax']] ,on='merchant_id', how='left')\n",
    "facturacion_total[\"amount\"].fillna(0,inplace=True)\n",
    "facturacion_total[\"capital\"].fillna(0,inplace=True)\n",
    "facturacion_total[\"interest\"].fillna(0,inplace=True)\n",
    "facturacion_total[\"tax\"].fillna(0,inplace=True)\n",
    "facturacion_total[\"provider_code\"].fillna(\"SIN LENDER\",inplace=True)\n",
    "facturacion_total.head()"
   ]
  },
  {
   "cell_type": "code",
   "execution_count": 125,
   "metadata": {},
   "outputs": [
    {
     "data": {
      "text/plain": [
       "(353616, 22)"
      ]
     },
     "execution_count": 125,
     "metadata": {},
     "output_type": "execute_result"
    }
   ],
   "source": [
    "facturacion_total.shape"
   ]
  },
  {
   "cell_type": "code",
   "execution_count": 126,
   "metadata": {},
   "outputs": [
    {
     "data": {
      "text/html": [
       "<div>\n",
       "<style scoped>\n",
       "    .dataframe tbody tr th:only-of-type {\n",
       "        vertical-align: middle;\n",
       "    }\n",
       "\n",
       "    .dataframe tbody tr th {\n",
       "        vertical-align: top;\n",
       "    }\n",
       "\n",
       "    .dataframe thead th {\n",
       "        text-align: right;\n",
       "    }\n",
       "</style>\n",
       "<table border=\"1\" class=\"dataframe\">\n",
       "  <thead>\n",
       "    <tr style=\"text-align: right;\">\n",
       "      <th></th>\n",
       "      <th>merchant_id</th>\n",
       "      <th>user_email</th>\n",
       "      <th>fee_direct_deposit</th>\n",
       "      <th>fees_cashback</th>\n",
       "      <th>fees_deferred</th>\n",
       "      <th>frontend_commission_fees</th>\n",
       "      <th>frontend_commission_taxes</th>\n",
       "      <th>gross_amount_dp</th>\n",
       "      <th>merchant_commission_fees</th>\n",
       "      <th>merchant_commission_taxes</th>\n",
       "      <th>...</th>\n",
       "      <th>taxes_direct_deposit</th>\n",
       "      <th>total_due</th>\n",
       "      <th>total_fees_charged</th>\n",
       "      <th>total_taxes</th>\n",
       "      <th>total_transactions</th>\n",
       "      <th>provider_code</th>\n",
       "      <th>amount</th>\n",
       "      <th>capital</th>\n",
       "      <th>interest</th>\n",
       "      <th>tax</th>\n",
       "    </tr>\n",
       "  </thead>\n",
       "  <tbody>\n",
       "  </tbody>\n",
       "</table>\n",
       "<p>0 rows × 22 columns</p>\n",
       "</div>"
      ],
      "text/plain": [
       "Empty DataFrame\n",
       "Columns: [merchant_id, user_email, fee_direct_deposit, fees_cashback, fees_deferred, frontend_commission_fees, frontend_commission_taxes, gross_amount_dp, merchant_commission_fees, merchant_commission_taxes, taxes_cashback, taxes_deferred, taxes_direct_deposit, total_due, total_fees_charged, total_taxes, total_transactions, provider_code, amount, capital, interest, tax]\n",
       "Index: []\n",
       "\n",
       "[0 rows x 22 columns]"
      ]
     },
     "execution_count": 126,
     "metadata": {},
     "output_type": "execute_result"
    }
   ],
   "source": [
    "duplicates = facturacion_total[facturacion_total.duplicated(['user_email'] , keep=False)]\n",
    "duplicates.head()"
   ]
  },
  {
   "cell_type": "code",
   "execution_count": 127,
   "metadata": {},
   "outputs": [
    {
     "data": {
      "text/plain": [
       "(0, 22)"
      ]
     },
     "execution_count": 127,
     "metadata": {},
     "output_type": "execute_result"
    }
   ],
   "source": [
    "duplicates.shape"
   ]
  },
  {
   "cell_type": "code",
   "execution_count": 128,
   "metadata": {},
   "outputs": [],
   "source": [
    "def lender_amount(facturacion_total):\n",
    "    if facturacion_total['provider_code'] == 'MRP':\n",
    "        return facturacion_total['interest']*0\n",
    "    elif facturacion_total['provider_code'] == 'MOT':\n",
    "        return facturacion_total['interest']*0\n",
    "    elif facturacion_total['provider_code'] == 'APH':\n",
    "        return facturacion_total['interest']*0\n",
    "    elif facturacion_total['provider_code'] == 'HCS':\n",
    "        return facturacion_total['interest']*0\n",
    "    elif facturacion_total['provider_code'] == 'R2':\n",
    "        return facturacion_total['interest']*0\n",
    "    elif facturacion_total['provider_code'] == 'CTO':\n",
    "        return facturacion_total['interest']*0\n",
    "    elif facturacion_total['provider_code'] == 'AVL':\n",
    "        return facturacion_total['interest']*0\n",
    "    elif facturacion_total['provider_code'] == 'CLIP':\n",
    "        return facturacion_total['interest']*0\n",
    "    else:\n",
    "        return facturacion_total['interest']\n",
    "    \n",
    "facturacion_total['interest'] = facturacion_total.apply(lender_amount, axis=1)"
   ]
  },
  {
   "cell_type": "code",
   "execution_count": 129,
   "metadata": {},
   "outputs": [
    {
     "data": {
      "text/html": [
       "<div>\n",
       "<style scoped>\n",
       "    .dataframe tbody tr th:only-of-type {\n",
       "        vertical-align: middle;\n",
       "    }\n",
       "\n",
       "    .dataframe tbody tr th {\n",
       "        vertical-align: top;\n",
       "    }\n",
       "\n",
       "    .dataframe thead th {\n",
       "        text-align: right;\n",
       "    }\n",
       "</style>\n",
       "<table border=\"1\" class=\"dataframe\">\n",
       "  <thead>\n",
       "    <tr style=\"text-align: right;\">\n",
       "      <th></th>\n",
       "      <th>merchant_id</th>\n",
       "      <th>user_email</th>\n",
       "      <th>fee_direct_deposit</th>\n",
       "      <th>fees_cashback</th>\n",
       "      <th>fees_deferred</th>\n",
       "      <th>frontend_commission_fees</th>\n",
       "      <th>frontend_commission_taxes</th>\n",
       "      <th>gross_amount_dp</th>\n",
       "      <th>merchant_commission_fees</th>\n",
       "      <th>merchant_commission_taxes</th>\n",
       "      <th>...</th>\n",
       "      <th>total_fees_charged</th>\n",
       "      <th>total_taxes</th>\n",
       "      <th>total_transactions</th>\n",
       "      <th>provider_code</th>\n",
       "      <th>amount</th>\n",
       "      <th>capital</th>\n",
       "      <th>interest</th>\n",
       "      <th>tax</th>\n",
       "      <th>Net fees</th>\n",
       "      <th>Global taxes</th>\n",
       "    </tr>\n",
       "  </thead>\n",
       "  <tbody>\n",
       "    <tr>\n",
       "      <th>0</th>\n",
       "      <td>0000275f-d46b-4a9c-a227-42d6f7ce63bd</td>\n",
       "      <td>o2794682@gmail.com</td>\n",
       "      <td>0.00</td>\n",
       "      <td>0.00</td>\n",
       "      <td>0.00</td>\n",
       "      <td>0.00</td>\n",
       "      <td>0.00</td>\n",
       "      <td>0.00</td>\n",
       "      <td>0.00</td>\n",
       "      <td>0.00</td>\n",
       "      <td>...</td>\n",
       "      <td>216.00</td>\n",
       "      <td>34.56</td>\n",
       "      <td>6,000.00</td>\n",
       "      <td>SIN LENDER</td>\n",
       "      <td>0.00</td>\n",
       "      <td>0.00</td>\n",
       "      <td>0.00</td>\n",
       "      <td>0.00</td>\n",
       "      <td>216.00</td>\n",
       "      <td>34.56</td>\n",
       "    </tr>\n",
       "    <tr>\n",
       "      <th>1</th>\n",
       "      <td>00007725-3116-48dc-9b82-4145699dc290</td>\n",
       "      <td>dr.cesarcamarena.ortopedia@gmail.com</td>\n",
       "      <td>0.00</td>\n",
       "      <td>0.00</td>\n",
       "      <td>0.00</td>\n",
       "      <td>0.00</td>\n",
       "      <td>0.00</td>\n",
       "      <td>0.00</td>\n",
       "      <td>0.00</td>\n",
       "      <td>0.00</td>\n",
       "      <td>...</td>\n",
       "      <td>72.00</td>\n",
       "      <td>11.52</td>\n",
       "      <td>2,000.00</td>\n",
       "      <td>SIN LENDER</td>\n",
       "      <td>0.00</td>\n",
       "      <td>0.00</td>\n",
       "      <td>0.00</td>\n",
       "      <td>0.00</td>\n",
       "      <td>72.00</td>\n",
       "      <td>11.52</td>\n",
       "    </tr>\n",
       "    <tr>\n",
       "      <th>2</th>\n",
       "      <td>00008e01-812f-487e-8f34-a80bcb0ae3e3</td>\n",
       "      <td>pagos@abz.com.mx</td>\n",
       "      <td>0.00</td>\n",
       "      <td>0.00</td>\n",
       "      <td>0.00</td>\n",
       "      <td>0.00</td>\n",
       "      <td>0.00</td>\n",
       "      <td>0.00</td>\n",
       "      <td>0.00</td>\n",
       "      <td>0.00</td>\n",
       "      <td>...</td>\n",
       "      <td>23,450.30</td>\n",
       "      <td>3,752.04</td>\n",
       "      <td>218,695.00</td>\n",
       "      <td>SIN LENDER</td>\n",
       "      <td>0.00</td>\n",
       "      <td>0.00</td>\n",
       "      <td>0.00</td>\n",
       "      <td>0.00</td>\n",
       "      <td>23,450.30</td>\n",
       "      <td>3,752.05</td>\n",
       "    </tr>\n",
       "    <tr>\n",
       "      <th>3</th>\n",
       "      <td>000096e6-5d2f-47e9-a924-4b413eca6a43</td>\n",
       "      <td>hazel_ara88@hotmail.com</td>\n",
       "      <td>0.00</td>\n",
       "      <td>0.00</td>\n",
       "      <td>0.00</td>\n",
       "      <td>0.00</td>\n",
       "      <td>0.00</td>\n",
       "      <td>0.00</td>\n",
       "      <td>0.00</td>\n",
       "      <td>0.00</td>\n",
       "      <td>...</td>\n",
       "      <td>108.54</td>\n",
       "      <td>17.37</td>\n",
       "      <td>3,015.00</td>\n",
       "      <td>SIN LENDER</td>\n",
       "      <td>0.00</td>\n",
       "      <td>0.00</td>\n",
       "      <td>0.00</td>\n",
       "      <td>0.00</td>\n",
       "      <td>108.54</td>\n",
       "      <td>17.37</td>\n",
       "    </tr>\n",
       "    <tr>\n",
       "      <th>4</th>\n",
       "      <td>0000b65a-c2a2-4993-8f4c-05e5b7cbd7c0</td>\n",
       "      <td>ruvalcabapeleteros@hotmail.com</td>\n",
       "      <td>0.00</td>\n",
       "      <td>0.00</td>\n",
       "      <td>0.00</td>\n",
       "      <td>0.00</td>\n",
       "      <td>0.00</td>\n",
       "      <td>0.00</td>\n",
       "      <td>0.00</td>\n",
       "      <td>0.00</td>\n",
       "      <td>...</td>\n",
       "      <td>906.42</td>\n",
       "      <td>145.03</td>\n",
       "      <td>25,177.97</td>\n",
       "      <td>SIN LENDER</td>\n",
       "      <td>0.00</td>\n",
       "      <td>0.00</td>\n",
       "      <td>0.00</td>\n",
       "      <td>0.00</td>\n",
       "      <td>906.42</td>\n",
       "      <td>145.03</td>\n",
       "    </tr>\n",
       "  </tbody>\n",
       "</table>\n",
       "<p>5 rows × 24 columns</p>\n",
       "</div>"
      ],
      "text/plain": [
       "                            merchant_id                            user_email  \\\n",
       "0  0000275f-d46b-4a9c-a227-42d6f7ce63bd                    o2794682@gmail.com   \n",
       "1  00007725-3116-48dc-9b82-4145699dc290  dr.cesarcamarena.ortopedia@gmail.com   \n",
       "2  00008e01-812f-487e-8f34-a80bcb0ae3e3                      pagos@abz.com.mx   \n",
       "3  000096e6-5d2f-47e9-a924-4b413eca6a43               hazel_ara88@hotmail.com   \n",
       "4  0000b65a-c2a2-4993-8f4c-05e5b7cbd7c0        ruvalcabapeleteros@hotmail.com   \n",
       "\n",
       "   fee_direct_deposit  fees_cashback  fees_deferred  frontend_commission_fees  \\\n",
       "0                0.00           0.00           0.00                      0.00   \n",
       "1                0.00           0.00           0.00                      0.00   \n",
       "2                0.00           0.00           0.00                      0.00   \n",
       "3                0.00           0.00           0.00                      0.00   \n",
       "4                0.00           0.00           0.00                      0.00   \n",
       "\n",
       "   frontend_commission_taxes  gross_amount_dp  merchant_commission_fees  \\\n",
       "0                       0.00             0.00                      0.00   \n",
       "1                       0.00             0.00                      0.00   \n",
       "2                       0.00             0.00                      0.00   \n",
       "3                       0.00             0.00                      0.00   \n",
       "4                       0.00             0.00                      0.00   \n",
       "\n",
       "   merchant_commission_taxes  ...  total_fees_charged  total_taxes  \\\n",
       "0                       0.00  ...              216.00        34.56   \n",
       "1                       0.00  ...               72.00        11.52   \n",
       "2                       0.00  ...           23,450.30     3,752.04   \n",
       "3                       0.00  ...              108.54        17.37   \n",
       "4                       0.00  ...              906.42       145.03   \n",
       "\n",
       "   total_transactions  provider_code  amount  capital  interest  tax  \\\n",
       "0            6,000.00     SIN LENDER    0.00     0.00      0.00 0.00   \n",
       "1            2,000.00     SIN LENDER    0.00     0.00      0.00 0.00   \n",
       "2          218,695.00     SIN LENDER    0.00     0.00      0.00 0.00   \n",
       "3            3,015.00     SIN LENDER    0.00     0.00      0.00 0.00   \n",
       "4           25,177.97     SIN LENDER    0.00     0.00      0.00 0.00   \n",
       "\n",
       "   Net fees  Global taxes  \n",
       "0    216.00         34.56  \n",
       "1     72.00         11.52  \n",
       "2 23,450.30      3,752.05  \n",
       "3    108.54         17.37  \n",
       "4    906.42        145.03  \n",
       "\n",
       "[5 rows x 24 columns]"
      ]
     },
     "execution_count": 129,
     "metadata": {},
     "output_type": "execute_result"
    }
   ],
   "source": [
    "facturacion_total['Net fees'] = (facturacion_total['total_fees_charged'] +\n",
    "                                facturacion_total['frontend_commission_fees'] -\n",
    "                                # facturacion_total['applied_fees_benefits_topups'] -\n",
    "                                # facturacion_total['applied_fees_benefits_coupons'] -\n",
    "                                facturacion_total['fee_direct_deposit'] -\n",
    "                                facturacion_total['fees_cashback'] -\n",
    "                                facturacion_total['merchant_commission_fees'] +\n",
    "                                facturacion_total['interest'])\n",
    "facturacion_total['Global taxes'] = facturacion_total['Net fees'] * 0.16\n",
    "facturacion_total.head()"
   ]
  },
  {
   "cell_type": "code",
   "execution_count": 130,
   "metadata": {},
   "outputs": [
    {
     "name": "stderr",
     "output_type": "stream",
     "text": [
      "C:\\Users\\Cristian.Aparicio\\AppData\\Local\\Temp\\ipykernel_16640\\2367814319.py:18: SettingWithCopyWarning: \n",
      "A value is trying to be set on a copy of a slice from a DataFrame\n",
      "\n",
      "See the caveats in the documentation: https://pandas.pydata.org/pandas-docs/stable/user_guide/indexing.html#returning-a-view-versus-a-copy\n",
      "  facturacion_final.rename(columns ={'total_due':'Total due (payment)',\n"
     ]
    }
   ],
   "source": [
    "facturacion_final =  facturacion_total[['merchant_id',\n",
    "                                        \"user_email\",\n",
    "                                        'total_transactions',\n",
    "                                        \"total_fees_charged\",\n",
    "                                        # 'applied_fees_benefits_topups',\n",
    "                                        \"fee_direct_deposit\",\n",
    "                                        # 'applied_fees_benefits_coupons',\n",
    "                                        'frontend_commission_fees',\n",
    "                                        'merchant_commission_fees',\n",
    "                                        'fees_cashback',\n",
    "                                        \"interest\",\n",
    "                                        \"Net fees\",\n",
    "                                        \"Global taxes\",\n",
    "                                        \"total_due\",\n",
    "                                        'gross_amount_dp',\n",
    "                                        'fees_deferred',\n",
    "                                        'taxes_deferred']]\n",
    "facturacion_final.rename(columns ={'total_due':'Total due (payment)',\n",
    "                                   'total_fees_charged':'Txns fees',\n",
    "                                   # 'applied_fees_benefits_topups':'TopUps fees',\n",
    "                                   # 'applied_fees_benefits_coupons':'Coupons',\n",
    "                                   'fee_direct_deposit':'TopUps fees_2',\n",
    "                                   'interest':'Loans fees',\n",
    "                                   'merchant_commission_fees':'Fees bonificación bill payments',\n",
    "                                   'frontend_commission_fees':'Fees ingreso bill payments',\n",
    "                                  'fees_cashback':'Fees bonificación cashback'},inplace=True)"
   ]
  },
  {
   "cell_type": "code",
   "execution_count": 131,
   "metadata": {},
   "outputs": [
    {
     "data": {
      "text/html": [
       "<div>\n",
       "<style scoped>\n",
       "    .dataframe tbody tr th:only-of-type {\n",
       "        vertical-align: middle;\n",
       "    }\n",
       "\n",
       "    .dataframe tbody tr th {\n",
       "        vertical-align: top;\n",
       "    }\n",
       "\n",
       "    .dataframe thead th {\n",
       "        text-align: right;\n",
       "    }\n",
       "</style>\n",
       "<table border=\"1\" class=\"dataframe\">\n",
       "  <thead>\n",
       "    <tr style=\"text-align: right;\">\n",
       "      <th></th>\n",
       "      <th>merchant_id</th>\n",
       "      <th>user_email</th>\n",
       "      <th>total_transactions</th>\n",
       "      <th>Txns fees</th>\n",
       "      <th>TopUps fees_2</th>\n",
       "      <th>Fees ingreso bill payments</th>\n",
       "      <th>Fees bonificación bill payments</th>\n",
       "      <th>Fees bonificación cashback</th>\n",
       "      <th>Loans fees</th>\n",
       "      <th>Net fees</th>\n",
       "      <th>Global taxes</th>\n",
       "      <th>Total due (payment)</th>\n",
       "      <th>gross_amount_dp</th>\n",
       "      <th>fees_deferred</th>\n",
       "      <th>taxes_deferred</th>\n",
       "    </tr>\n",
       "  </thead>\n",
       "  <tbody>\n",
       "    <tr>\n",
       "      <th>0</th>\n",
       "      <td>0000275f-d46b-4a9c-a227-42d6f7ce63bd</td>\n",
       "      <td>o2794682@gmail.com</td>\n",
       "      <td>6,000.00</td>\n",
       "      <td>216.00</td>\n",
       "      <td>0.00</td>\n",
       "      <td>0.00</td>\n",
       "      <td>0.00</td>\n",
       "      <td>0.00</td>\n",
       "      <td>0.00</td>\n",
       "      <td>216.00</td>\n",
       "      <td>34.56</td>\n",
       "      <td>5,749.44</td>\n",
       "      <td>0.00</td>\n",
       "      <td>0.00</td>\n",
       "      <td>0.00</td>\n",
       "    </tr>\n",
       "    <tr>\n",
       "      <th>1</th>\n",
       "      <td>00007725-3116-48dc-9b82-4145699dc290</td>\n",
       "      <td>dr.cesarcamarena.ortopedia@gmail.com</td>\n",
       "      <td>2,000.00</td>\n",
       "      <td>72.00</td>\n",
       "      <td>0.00</td>\n",
       "      <td>0.00</td>\n",
       "      <td>0.00</td>\n",
       "      <td>0.00</td>\n",
       "      <td>0.00</td>\n",
       "      <td>72.00</td>\n",
       "      <td>11.52</td>\n",
       "      <td>1,916.48</td>\n",
       "      <td>0.00</td>\n",
       "      <td>0.00</td>\n",
       "      <td>0.00</td>\n",
       "    </tr>\n",
       "    <tr>\n",
       "      <th>2</th>\n",
       "      <td>00008e01-812f-487e-8f34-a80bcb0ae3e3</td>\n",
       "      <td>pagos@abz.com.mx</td>\n",
       "      <td>218,695.00</td>\n",
       "      <td>23,450.30</td>\n",
       "      <td>0.00</td>\n",
       "      <td>0.00</td>\n",
       "      <td>0.00</td>\n",
       "      <td>0.00</td>\n",
       "      <td>0.00</td>\n",
       "      <td>23,450.30</td>\n",
       "      <td>3,752.05</td>\n",
       "      <td>191,492.66</td>\n",
       "      <td>0.00</td>\n",
       "      <td>0.00</td>\n",
       "      <td>0.00</td>\n",
       "    </tr>\n",
       "    <tr>\n",
       "      <th>3</th>\n",
       "      <td>000096e6-5d2f-47e9-a924-4b413eca6a43</td>\n",
       "      <td>hazel_ara88@hotmail.com</td>\n",
       "      <td>3,015.00</td>\n",
       "      <td>108.54</td>\n",
       "      <td>0.00</td>\n",
       "      <td>0.00</td>\n",
       "      <td>0.00</td>\n",
       "      <td>0.00</td>\n",
       "      <td>0.00</td>\n",
       "      <td>108.54</td>\n",
       "      <td>17.37</td>\n",
       "      <td>2,889.09</td>\n",
       "      <td>0.00</td>\n",
       "      <td>0.00</td>\n",
       "      <td>0.00</td>\n",
       "    </tr>\n",
       "    <tr>\n",
       "      <th>4</th>\n",
       "      <td>0000b65a-c2a2-4993-8f4c-05e5b7cbd7c0</td>\n",
       "      <td>ruvalcabapeleteros@hotmail.com</td>\n",
       "      <td>25,177.97</td>\n",
       "      <td>906.42</td>\n",
       "      <td>0.00</td>\n",
       "      <td>0.00</td>\n",
       "      <td>0.00</td>\n",
       "      <td>0.00</td>\n",
       "      <td>0.00</td>\n",
       "      <td>906.42</td>\n",
       "      <td>145.03</td>\n",
       "      <td>24,126.52</td>\n",
       "      <td>0.00</td>\n",
       "      <td>0.00</td>\n",
       "      <td>0.00</td>\n",
       "    </tr>\n",
       "  </tbody>\n",
       "</table>\n",
       "</div>"
      ],
      "text/plain": [
       "                            merchant_id                            user_email  \\\n",
       "0  0000275f-d46b-4a9c-a227-42d6f7ce63bd                    o2794682@gmail.com   \n",
       "1  00007725-3116-48dc-9b82-4145699dc290  dr.cesarcamarena.ortopedia@gmail.com   \n",
       "2  00008e01-812f-487e-8f34-a80bcb0ae3e3                      pagos@abz.com.mx   \n",
       "3  000096e6-5d2f-47e9-a924-4b413eca6a43               hazel_ara88@hotmail.com   \n",
       "4  0000b65a-c2a2-4993-8f4c-05e5b7cbd7c0        ruvalcabapeleteros@hotmail.com   \n",
       "\n",
       "   total_transactions  Txns fees  TopUps fees_2  Fees ingreso bill payments  \\\n",
       "0            6,000.00     216.00           0.00                        0.00   \n",
       "1            2,000.00      72.00           0.00                        0.00   \n",
       "2          218,695.00  23,450.30           0.00                        0.00   \n",
       "3            3,015.00     108.54           0.00                        0.00   \n",
       "4           25,177.97     906.42           0.00                        0.00   \n",
       "\n",
       "   Fees bonificación bill payments  Fees bonificación cashback  Loans fees  \\\n",
       "0                             0.00                        0.00        0.00   \n",
       "1                             0.00                        0.00        0.00   \n",
       "2                             0.00                        0.00        0.00   \n",
       "3                             0.00                        0.00        0.00   \n",
       "4                             0.00                        0.00        0.00   \n",
       "\n",
       "   Net fees  Global taxes  Total due (payment)  gross_amount_dp  \\\n",
       "0    216.00         34.56             5,749.44             0.00   \n",
       "1     72.00         11.52             1,916.48             0.00   \n",
       "2 23,450.30      3,752.05           191,492.66             0.00   \n",
       "3    108.54         17.37             2,889.09             0.00   \n",
       "4    906.42        145.03            24,126.52             0.00   \n",
       "\n",
       "   fees_deferred  taxes_deferred  \n",
       "0           0.00            0.00  \n",
       "1           0.00            0.00  \n",
       "2           0.00            0.00  \n",
       "3           0.00            0.00  \n",
       "4           0.00            0.00  "
      ]
     },
     "execution_count": 131,
     "metadata": {},
     "output_type": "execute_result"
    }
   ],
   "source": [
    "facturacion_final.head()"
   ]
  },
  {
   "cell_type": "code",
   "execution_count": 132,
   "metadata": {},
   "outputs": [
    {
     "data": {
      "text/html": [
       "<div>\n",
       "<style scoped>\n",
       "    .dataframe tbody tr th:only-of-type {\n",
       "        vertical-align: middle;\n",
       "    }\n",
       "\n",
       "    .dataframe tbody tr th {\n",
       "        vertical-align: top;\n",
       "    }\n",
       "\n",
       "    .dataframe thead th {\n",
       "        text-align: right;\n",
       "    }\n",
       "</style>\n",
       "<table border=\"1\" class=\"dataframe\">\n",
       "  <thead>\n",
       "    <tr style=\"text-align: right;\">\n",
       "      <th></th>\n",
       "      <th>merchant_id</th>\n",
       "      <th>user_email</th>\n",
       "      <th>Total due (payment)</th>\n",
       "      <th>total_transactions</th>\n",
       "      <th>Txns fees</th>\n",
       "      <th>TopUps fees_2</th>\n",
       "      <th>Fees ingreso bill payments</th>\n",
       "      <th>Fees bonificación bill payments</th>\n",
       "      <th>Fees bonificación cashback</th>\n",
       "      <th>Loans fees</th>\n",
       "      <th>Net fees</th>\n",
       "      <th>Global taxes</th>\n",
       "      <th>gross_amount_dp</th>\n",
       "      <th>fees_deferred</th>\n",
       "      <th>taxes_deferred</th>\n",
       "    </tr>\n",
       "  </thead>\n",
       "  <tbody>\n",
       "    <tr>\n",
       "      <th>353611</th>\n",
       "      <td>ffff52d6-20ef-4857-a891-af7eea153052</td>\n",
       "      <td>antonioaguirre2812@gmail.com</td>\n",
       "      <td>4,307.30</td>\n",
       "      <td>4,495.00</td>\n",
       "      <td>161.82</td>\n",
       "      <td>0.00</td>\n",
       "      <td>0.00</td>\n",
       "      <td>0.00</td>\n",
       "      <td>0.00</td>\n",
       "      <td>0.00</td>\n",
       "      <td>161.82</td>\n",
       "      <td>25.89</td>\n",
       "      <td>0.00</td>\n",
       "      <td>0.00</td>\n",
       "      <td>0.00</td>\n",
       "    </tr>\n",
       "    <tr>\n",
       "      <th>353612</th>\n",
       "      <td>ffff5cfb-e301-42a2-bc2f-2f08d9c1bd1d</td>\n",
       "      <td>velvettnovedadesparati@gmail.com</td>\n",
       "      <td>1,495.81</td>\n",
       "      <td>1,561.00</td>\n",
       "      <td>56.20</td>\n",
       "      <td>0.00</td>\n",
       "      <td>0.00</td>\n",
       "      <td>0.00</td>\n",
       "      <td>0.00</td>\n",
       "      <td>0.00</td>\n",
       "      <td>56.20</td>\n",
       "      <td>8.99</td>\n",
       "      <td>0.00</td>\n",
       "      <td>0.00</td>\n",
       "      <td>0.00</td>\n",
       "    </tr>\n",
       "    <tr>\n",
       "      <th>353613</th>\n",
       "      <td>ffff62dc-fba2-4dd8-be17-4aa766ae6fca</td>\n",
       "      <td>menny077@hotmail.com</td>\n",
       "      <td>11,427.01</td>\n",
       "      <td>11,925.00</td>\n",
       "      <td>429.28</td>\n",
       "      <td>0.00</td>\n",
       "      <td>0.00</td>\n",
       "      <td>0.00</td>\n",
       "      <td>0.00</td>\n",
       "      <td>0.00</td>\n",
       "      <td>429.28</td>\n",
       "      <td>68.68</td>\n",
       "      <td>0.00</td>\n",
       "      <td>0.00</td>\n",
       "      <td>0.00</td>\n",
       "    </tr>\n",
       "    <tr>\n",
       "      <th>353614</th>\n",
       "      <td>ffff80f1-d0bf-41d4-af98-1885c65ca45e</td>\n",
       "      <td>curso_ingreso@hotmail.com</td>\n",
       "      <td>11,319.40</td>\n",
       "      <td>12,640.00</td>\n",
       "      <td>1,138.44</td>\n",
       "      <td>0.00</td>\n",
       "      <td>0.00</td>\n",
       "      <td>0.00</td>\n",
       "      <td>0.00</td>\n",
       "      <td>0.00</td>\n",
       "      <td>1,138.44</td>\n",
       "      <td>182.15</td>\n",
       "      <td>0.00</td>\n",
       "      <td>0.00</td>\n",
       "      <td>0.00</td>\n",
       "    </tr>\n",
       "    <tr>\n",
       "      <th>353615</th>\n",
       "      <td>All</td>\n",
       "      <td></td>\n",
       "      <td>7,455,892,608.15</td>\n",
       "      <td>7,763,785,087.61</td>\n",
       "      <td>313,895,827.58</td>\n",
       "      <td>600,809.31</td>\n",
       "      <td>107,715.52</td>\n",
       "      <td>21,543.10</td>\n",
       "      <td>47,414.18</td>\n",
       "      <td>13,557,668.87</td>\n",
       "      <td>326,891,445.37</td>\n",
       "      <td>52,302,631.26</td>\n",
       "      <td>56,227,090.18</td>\n",
       "      <td>6,176,882.34</td>\n",
       "      <td>988,301.17</td>\n",
       "    </tr>\n",
       "  </tbody>\n",
       "</table>\n",
       "</div>"
      ],
      "text/plain": [
       "                                 merchant_id  \\\n",
       "353611  ffff52d6-20ef-4857-a891-af7eea153052   \n",
       "353612  ffff5cfb-e301-42a2-bc2f-2f08d9c1bd1d   \n",
       "353613  ffff62dc-fba2-4dd8-be17-4aa766ae6fca   \n",
       "353614  ffff80f1-d0bf-41d4-af98-1885c65ca45e   \n",
       "353615                                   All   \n",
       "\n",
       "                              user_email  Total due (payment)  \\\n",
       "353611      antonioaguirre2812@gmail.com             4,307.30   \n",
       "353612  velvettnovedadesparati@gmail.com             1,495.81   \n",
       "353613              menny077@hotmail.com            11,427.01   \n",
       "353614         curso_ingreso@hotmail.com            11,319.40   \n",
       "353615                                       7,455,892,608.15   \n",
       "\n",
       "        total_transactions      Txns fees  TopUps fees_2  \\\n",
       "353611            4,495.00         161.82           0.00   \n",
       "353612            1,561.00          56.20           0.00   \n",
       "353613           11,925.00         429.28           0.00   \n",
       "353614           12,640.00       1,138.44           0.00   \n",
       "353615    7,763,785,087.61 313,895,827.58     600,809.31   \n",
       "\n",
       "        Fees ingreso bill payments  Fees bonificación bill payments  \\\n",
       "353611                        0.00                             0.00   \n",
       "353612                        0.00                             0.00   \n",
       "353613                        0.00                             0.00   \n",
       "353614                        0.00                             0.00   \n",
       "353615                  107,715.52                        21,543.10   \n",
       "\n",
       "        Fees bonificación cashback    Loans fees       Net fees  Global taxes  \\\n",
       "353611                        0.00          0.00         161.82         25.89   \n",
       "353612                        0.00          0.00          56.20          8.99   \n",
       "353613                        0.00          0.00         429.28         68.68   \n",
       "353614                        0.00          0.00       1,138.44        182.15   \n",
       "353615                   47,414.18 13,557,668.87 326,891,445.37 52,302,631.26   \n",
       "\n",
       "        gross_amount_dp  fees_deferred  taxes_deferred  \n",
       "353611             0.00           0.00            0.00  \n",
       "353612             0.00           0.00            0.00  \n",
       "353613             0.00           0.00            0.00  \n",
       "353614             0.00           0.00            0.00  \n",
       "353615    56,227,090.18   6,176,882.34      988,301.17  "
      ]
     },
     "execution_count": 132,
     "metadata": {},
     "output_type": "execute_result"
    }
   ],
   "source": [
    "facturacion_final = facturacion_final[['merchant_id',\n",
    "                                       'user_email',\n",
    "                                       'Total due (payment)',\n",
    "                                       'total_transactions',\n",
    "                                       'Txns fees',\n",
    "                                       # 'TopUps fees',\n",
    "                                       'TopUps fees_2',\n",
    "                                       # 'Coupons',\n",
    "                                       'Fees ingreso bill payments',\n",
    "                                       'Fees bonificación bill payments',\n",
    "                                       'Fees bonificación cashback',\n",
    "                                       'Loans fees',\n",
    "                                       'Net fees',\n",
    "                                       'Global taxes',\n",
    "                                       'gross_amount_dp',\n",
    "                                       'fees_deferred',\n",
    "                                       'taxes_deferred']]\n",
    "# facturacion_final.to_csv('PIVOT DATA FINAL ABRIL.csv')\n",
    "facturacion_final.tail()"
   ]
  },
  {
   "cell_type": "code",
   "execution_count": 133,
   "metadata": {},
   "outputs": [
    {
     "data": {
      "text/plain": [
       "(353616, 15)"
      ]
     },
     "execution_count": 133,
     "metadata": {},
     "output_type": "execute_result"
    }
   ],
   "source": [
    "facturacion_final.shape"
   ]
  },
  {
   "cell_type": "code",
   "execution_count": 134,
   "metadata": {},
   "outputs": [],
   "source": [
    "facturacion_final.drop(facturacion_final.tail(1).index,inplace=True) # drop last n rows"
   ]
  },
  {
   "cell_type": "code",
   "execution_count": 135,
   "metadata": {},
   "outputs": [],
   "source": [
    "facturacion_final.loc['All'] = facturacion_final.sum(numeric_only=True)\n",
    "facturacion_final['user_email'].fillna('ALL',inplace=True)"
   ]
  },
  {
   "cell_type": "code",
   "execution_count": 136,
   "metadata": {},
   "outputs": [
    {
     "data": {
      "text/plain": [
       "(353616, 15)"
      ]
     },
     "execution_count": 136,
     "metadata": {},
     "output_type": "execute_result"
    }
   ],
   "source": [
    "facturacion_final.shape"
   ]
  },
  {
   "cell_type": "code",
   "execution_count": 137,
   "metadata": {},
   "outputs": [
    {
     "data": {
      "text/html": [
       "<div>\n",
       "<style scoped>\n",
       "    .dataframe tbody tr th:only-of-type {\n",
       "        vertical-align: middle;\n",
       "    }\n",
       "\n",
       "    .dataframe tbody tr th {\n",
       "        vertical-align: top;\n",
       "    }\n",
       "\n",
       "    .dataframe thead th {\n",
       "        text-align: right;\n",
       "    }\n",
       "</style>\n",
       "<table border=\"1\" class=\"dataframe\">\n",
       "  <thead>\n",
       "    <tr style=\"text-align: right;\">\n",
       "      <th></th>\n",
       "      <th>merchant_id</th>\n",
       "      <th>user_email</th>\n",
       "      <th>Total due (payment)</th>\n",
       "      <th>total_transactions</th>\n",
       "      <th>Txns fees</th>\n",
       "      <th>TopUps fees_2</th>\n",
       "      <th>Fees ingreso bill payments</th>\n",
       "      <th>Fees bonificación bill payments</th>\n",
       "      <th>Fees bonificación cashback</th>\n",
       "      <th>Loans fees</th>\n",
       "      <th>Net fees</th>\n",
       "      <th>Global taxes</th>\n",
       "      <th>gross_amount_dp</th>\n",
       "      <th>fees_deferred</th>\n",
       "      <th>taxes_deferred</th>\n",
       "    </tr>\n",
       "  </thead>\n",
       "  <tbody>\n",
       "  </tbody>\n",
       "</table>\n",
       "</div>"
      ],
      "text/plain": [
       "Empty DataFrame\n",
       "Columns: [merchant_id, user_email, Total due (payment), total_transactions, Txns fees, TopUps fees_2, Fees ingreso bill payments, Fees bonificación bill payments, Fees bonificación cashback, Loans fees, Net fees, Global taxes, gross_amount_dp, fees_deferred, taxes_deferred]\n",
       "Index: []"
      ]
     },
     "execution_count": 137,
     "metadata": {},
     "output_type": "execute_result"
    }
   ],
   "source": [
    "facturacion_final_dup = facturacion_final[facturacion_final.duplicated(['merchant_id'] , keep=False)]\n",
    "facturacion_final_dup.head()"
   ]
  },
  {
   "cell_type": "code",
   "execution_count": 138,
   "metadata": {},
   "outputs": [
    {
     "data": {
      "text/plain": [
       "(0, 15)"
      ]
     },
     "execution_count": 138,
     "metadata": {},
     "output_type": "execute_result"
    }
   ],
   "source": [
    "facturacion_final_dup.shape"
   ]
  },
  {
   "cell_type": "code",
   "execution_count": 139,
   "metadata": {},
   "outputs": [
    {
     "data": {
      "text/html": [
       "<div>\n",
       "<style scoped>\n",
       "    .dataframe tbody tr th:only-of-type {\n",
       "        vertical-align: middle;\n",
       "    }\n",
       "\n",
       "    .dataframe tbody tr th {\n",
       "        vertical-align: top;\n",
       "    }\n",
       "\n",
       "    .dataframe thead th {\n",
       "        text-align: right;\n",
       "    }\n",
       "</style>\n",
       "<table border=\"1\" class=\"dataframe\">\n",
       "  <thead>\n",
       "    <tr style=\"text-align: right;\">\n",
       "      <th></th>\n",
       "      <th>merchant_id</th>\n",
       "      <th>user_email</th>\n",
       "      <th>Total due (payment)</th>\n",
       "      <th>total_transactions</th>\n",
       "      <th>Txns fees</th>\n",
       "      <th>TopUps fees_2</th>\n",
       "      <th>Fees ingreso bill payments</th>\n",
       "      <th>Fees bonificación bill payments</th>\n",
       "      <th>Fees bonificación cashback</th>\n",
       "      <th>Loans fees</th>\n",
       "      <th>Net fees</th>\n",
       "      <th>Global taxes</th>\n",
       "      <th>gross_amount_dp</th>\n",
       "      <th>fees_deferred</th>\n",
       "      <th>taxes_deferred</th>\n",
       "    </tr>\n",
       "  </thead>\n",
       "  <tbody>\n",
       "  </tbody>\n",
       "</table>\n",
       "</div>"
      ],
      "text/plain": [
       "Empty DataFrame\n",
       "Columns: [merchant_id, user_email, Total due (payment), total_transactions, Txns fees, TopUps fees_2, Fees ingreso bill payments, Fees bonificación bill payments, Fees bonificación cashback, Loans fees, Net fees, Global taxes, gross_amount_dp, fees_deferred, taxes_deferred]\n",
       "Index: []"
      ]
     },
     "execution_count": 139,
     "metadata": {},
     "output_type": "execute_result"
    }
   ],
   "source": [
    "facturacion_final_dup_email = facturacion_final[facturacion_final.duplicated(['user_email'] , keep=False)]\n",
    "facturacion_final_dup_email.head()"
   ]
  },
  {
   "cell_type": "code",
   "execution_count": 140,
   "metadata": {},
   "outputs": [
    {
     "data": {
      "text/plain": [
       "(0, 15)"
      ]
     },
     "execution_count": 140,
     "metadata": {},
     "output_type": "execute_result"
    }
   ],
   "source": [
    "facturacion_final_dup_email.shape"
   ]
  },
  {
   "cell_type": "code",
   "execution_count": 141,
   "metadata": {},
   "outputs": [],
   "source": [
    "#facturacion_final.to_csv('fact_septiembre_2022.csv',index=False)"
   ]
  },
  {
   "cell_type": "markdown",
   "metadata": {},
   "source": [
    "# FILE FACTURACION BY DATE"
   ]
  },
  {
   "cell_type": "code",
   "execution_count": 142,
   "metadata": {},
   "outputs": [
    {
     "name": "stderr",
     "output_type": "stream",
     "text": [
      "C:\\Users\\Cristian.Aparicio\\AppData\\Local\\Temp\\ipykernel_16640\\4283076972.py:1: FutureWarning: The provided callable <function sum at 0x0000012B6DC7EAF0> is currently using DataFrameGroupBy.sum. In a future version of pandas, the provided callable will be used directly. To keep current behavior pass the string \"sum\" instead.\n",
      "  facturacion_by_date = pd.pivot_table(fact_total,index=[\"Date\"],values=[\"total_due\",\n"
     ]
    }
   ],
   "source": [
    "facturacion_by_date = pd.pivot_table(fact_total,index=[\"Date\"],values=[\"total_due\",\n",
    "                                                                       'total_transactions',\n",
    "                                                                       \"total_fees_charged\",\n",
    "                                                                       'applied_fees_benefits_topups',\n",
    "                                                                       \"fee_direct_deposit\",\n",
    "                                                                       'applied_fees_benefits_coupons'],\n",
    "                                     aggfunc=np.sum,margins=False)"
   ]
  },
  {
   "cell_type": "code",
   "execution_count": 143,
   "metadata": {},
   "outputs": [],
   "source": [
    "facturacion_by_date.rename(columns ={'total_due':'Total due (payment)',\n",
    "                                     'total_fees_charged':'Txns fees',\n",
    "                                     'applied_fees_benefits_topups':'TopUps fees',\n",
    "                                     'applied_fees_benefits_coupons':'Coupons',\n",
    "                                     'fee_direct_deposit':'TopUps fees_2'},inplace=True)"
   ]
  },
  {
   "cell_type": "code",
   "execution_count": 144,
   "metadata": {},
   "outputs": [
    {
     "data": {
      "text/html": [
       "<div>\n",
       "<style scoped>\n",
       "    .dataframe tbody tr th:only-of-type {\n",
       "        vertical-align: middle;\n",
       "    }\n",
       "\n",
       "    .dataframe tbody tr th {\n",
       "        vertical-align: top;\n",
       "    }\n",
       "\n",
       "    .dataframe thead th {\n",
       "        text-align: right;\n",
       "    }\n",
       "</style>\n",
       "<table border=\"1\" class=\"dataframe\">\n",
       "  <thead>\n",
       "    <tr style=\"text-align: right;\">\n",
       "      <th></th>\n",
       "    </tr>\n",
       "    <tr>\n",
       "      <th>Date</th>\n",
       "    </tr>\n",
       "  </thead>\n",
       "  <tbody>\n",
       "  </tbody>\n",
       "</table>\n",
       "</div>"
      ],
      "text/plain": [
       "Empty DataFrame\n",
       "Columns: []\n",
       "Index: []"
      ]
     },
     "execution_count": 144,
     "metadata": {},
     "output_type": "execute_result"
    }
   ],
   "source": [
    "facturacion_by_date.head()"
   ]
  },
  {
   "cell_type": "code",
   "execution_count": 145,
   "metadata": {},
   "outputs": [
    {
     "data": {
      "text/plain": [
       "(0, 0)"
      ]
     },
     "execution_count": 145,
     "metadata": {},
     "output_type": "execute_result"
    }
   ],
   "source": [
    "facturacion_by_date.shape"
   ]
  },
  {
   "cell_type": "code",
   "execution_count": 146,
   "metadata": {},
   "outputs": [],
   "source": [
    "# facturacion_by_date = facturacion_by_date[['Total due (payment)',\n",
    "#                                            'total_transactions',\n",
    "#                                            'Txns fees',\n",
    "#                                            'TopUps fees',\n",
    "#                                            'TopUps fees_2',\n",
    "#                                            'Coupons']]\n",
    "# facturacion_by_date = facturacion_by_date.reset_index(drop=False)\n",
    "# facturacion_by_date.tail()"
   ]
  },
  {
   "cell_type": "code",
   "execution_count": 147,
   "metadata": {},
   "outputs": [],
   "source": [
    "# facturacion_by_date.shape"
   ]
  },
  {
   "cell_type": "markdown",
   "metadata": {},
   "source": [
    "# UNION CON LEDGER BY DATE"
   ]
  },
  {
   "cell_type": "code",
   "execution_count": 148,
   "metadata": {},
   "outputs": [
    {
     "data": {
      "text/html": [
       "<div>\n",
       "<style scoped>\n",
       "    .dataframe tbody tr th:only-of-type {\n",
       "        vertical-align: middle;\n",
       "    }\n",
       "\n",
       "    .dataframe tbody tr th {\n",
       "        vertical-align: top;\n",
       "    }\n",
       "\n",
       "    .dataframe thead th {\n",
       "        text-align: right;\n",
       "    }\n",
       "</style>\n",
       "<table border=\"1\" class=\"dataframe\">\n",
       "  <thead>\n",
       "    <tr style=\"text-align: right;\">\n",
       "      <th></th>\n",
       "      <th>Date</th>\n",
       "      <th>total_transactions</th>\n",
       "      <th>Total due (payment)</th>\n",
       "      <th>Txns fees</th>\n",
       "      <th>TopUps fees_2</th>\n",
       "      <th>frontend_commission_fees</th>\n",
       "      <th>merchant_commission_fees</th>\n",
       "      <th>fees_cashback</th>\n",
       "      <th>gross_amount_dp</th>\n",
       "      <th>fees_deferred</th>\n",
       "      <th>taxes_deferred</th>\n",
       "    </tr>\n",
       "  </thead>\n",
       "  <tbody>\n",
       "    <tr>\n",
       "      <th>26</th>\n",
       "      <td>2024-01-27</td>\n",
       "      <td>296,107,656.05</td>\n",
       "      <td>284,551,012.01</td>\n",
       "      <td>11,995,511.22</td>\n",
       "      <td>19,998.10</td>\n",
       "      <td>2,560.34</td>\n",
       "      <td>512.07</td>\n",
       "      <td>0.00</td>\n",
       "      <td>2,358,169.11</td>\n",
       "      <td>285,799.24</td>\n",
       "      <td>45,727.88</td>\n",
       "    </tr>\n",
       "    <tr>\n",
       "      <th>27</th>\n",
       "      <td>2024-01-28</td>\n",
       "      <td>316,700,331.93</td>\n",
       "      <td>303,923,464.66</td>\n",
       "      <td>12,884,853.52</td>\n",
       "      <td>15,114.83</td>\n",
       "      <td>2,288.79</td>\n",
       "      <td>457.76</td>\n",
       "      <td>0.00</td>\n",
       "      <td>2,169,577.57</td>\n",
       "      <td>226,958.06</td>\n",
       "      <td>36,313.29</td>\n",
       "    </tr>\n",
       "    <tr>\n",
       "      <th>28</th>\n",
       "      <td>2024-01-29</td>\n",
       "      <td>218,350,108.61</td>\n",
       "      <td>209,647,696.71</td>\n",
       "      <td>8,691,613.42</td>\n",
       "      <td>24,653.45</td>\n",
       "      <td>3,956.90</td>\n",
       "      <td>791.38</td>\n",
       "      <td>6.98</td>\n",
       "      <td>1,379,868.86</td>\n",
       "      <td>146,253.91</td>\n",
       "      <td>23,400.63</td>\n",
       "    </tr>\n",
       "    <tr>\n",
       "      <th>29</th>\n",
       "      <td>2024-01-30</td>\n",
       "      <td>232,229,669.34</td>\n",
       "      <td>222,654,910.93</td>\n",
       "      <td>9,776,050.65</td>\n",
       "      <td>20,402.59</td>\n",
       "      <td>3,193.97</td>\n",
       "      <td>638.79</td>\n",
       "      <td>658.04</td>\n",
       "      <td>1,765,479.46</td>\n",
       "      <td>190,231.03</td>\n",
       "      <td>30,436.97</td>\n",
       "    </tr>\n",
       "    <tr>\n",
       "      <th>30</th>\n",
       "      <td>2024-01-31</td>\n",
       "      <td>250,481,235.95</td>\n",
       "      <td>240,674,654.01</td>\n",
       "      <td>10,537,062.44</td>\n",
       "      <td>20,667.76</td>\n",
       "      <td>4,047.41</td>\n",
       "      <td>809.48</td>\n",
       "      <td>0.13</td>\n",
       "      <td>2,416,431.10</td>\n",
       "      <td>247,625.83</td>\n",
       "      <td>39,620.13</td>\n",
       "    </tr>\n",
       "  </tbody>\n",
       "</table>\n",
       "</div>"
      ],
      "text/plain": [
       "         Date  total_transactions  Total due (payment)     Txns fees  \\\n",
       "26 2024-01-27      296,107,656.05       284,551,012.01 11,995,511.22   \n",
       "27 2024-01-28      316,700,331.93       303,923,464.66 12,884,853.52   \n",
       "28 2024-01-29      218,350,108.61       209,647,696.71  8,691,613.42   \n",
       "29 2024-01-30      232,229,669.34       222,654,910.93  9,776,050.65   \n",
       "30 2024-01-31      250,481,235.95       240,674,654.01 10,537,062.44   \n",
       "\n",
       "    TopUps fees_2  frontend_commission_fees  merchant_commission_fees  \\\n",
       "26      19,998.10                  2,560.34                    512.07   \n",
       "27      15,114.83                  2,288.79                    457.76   \n",
       "28      24,653.45                  3,956.90                    791.38   \n",
       "29      20,402.59                  3,193.97                    638.79   \n",
       "30      20,667.76                  4,047.41                    809.48   \n",
       "\n",
       "    fees_cashback  gross_amount_dp  fees_deferred  taxes_deferred  \n",
       "26           0.00     2,358,169.11     285,799.24       45,727.88  \n",
       "27           0.00     2,169,577.57     226,958.06       36,313.29  \n",
       "28           6.98     1,379,868.86     146,253.91       23,400.63  \n",
       "29         658.04     1,765,479.46     190,231.03       30,436.97  \n",
       "30           0.13     2,416,431.10     247,625.83       39,620.13  "
      ]
     },
     "execution_count": 148,
     "metadata": {},
     "output_type": "execute_result"
    }
   ],
   "source": [
    "union_facturacion_ledger_date = pd.concat([facturacion_by_date,dynamo_date_total])\n",
    "union_facturacion_ledger_date.fillna(0,inplace=True)\n",
    "union_facturacion_ledger_date.tail()"
   ]
  },
  {
   "cell_type": "code",
   "execution_count": 149,
   "metadata": {},
   "outputs": [
    {
     "data": {
      "text/plain": [
       "(31, 11)"
      ]
     },
     "execution_count": 149,
     "metadata": {},
     "output_type": "execute_result"
    }
   ],
   "source": [
    "union_facturacion_ledger_date.shape"
   ]
  },
  {
   "cell_type": "code",
   "execution_count": 150,
   "metadata": {},
   "outputs": [
    {
     "name": "stderr",
     "output_type": "stream",
     "text": [
      "C:\\Users\\Cristian.Aparicio\\AppData\\Local\\Temp\\ipykernel_16640\\93829535.py:1: FutureWarning: The provided callable <function sum at 0x0000012B6DC7EAF0> is currently using DataFrameGroupBy.sum. In a future version of pandas, the provided callable will be used directly. To keep current behavior pass the string \"sum\" instead.\n",
      "  union_facturacion_ledger_date_total = pd.pivot_table(union_facturacion_ledger_date,index=[\"Date\"],\n"
     ]
    },
    {
     "data": {
      "text/html": [
       "<div>\n",
       "<style scoped>\n",
       "    .dataframe tbody tr th:only-of-type {\n",
       "        vertical-align: middle;\n",
       "    }\n",
       "\n",
       "    .dataframe tbody tr th {\n",
       "        vertical-align: top;\n",
       "    }\n",
       "\n",
       "    .dataframe thead th {\n",
       "        text-align: right;\n",
       "    }\n",
       "</style>\n",
       "<table border=\"1\" class=\"dataframe\">\n",
       "  <thead>\n",
       "    <tr style=\"text-align: right;\">\n",
       "      <th></th>\n",
       "      <th>Date</th>\n",
       "      <th>TopUps fees_2</th>\n",
       "      <th>Total due (payment)</th>\n",
       "      <th>Txns fees</th>\n",
       "      <th>fees_cashback</th>\n",
       "      <th>fees_deferred</th>\n",
       "      <th>frontend_commission_fees</th>\n",
       "      <th>gross_amount_dp</th>\n",
       "      <th>merchant_commission_fees</th>\n",
       "      <th>taxes_deferred</th>\n",
       "      <th>total_transactions</th>\n",
       "    </tr>\n",
       "  </thead>\n",
       "  <tbody>\n",
       "    <tr>\n",
       "      <th>0</th>\n",
       "      <td>2024-01-01</td>\n",
       "      <td>9,791.72</td>\n",
       "      <td>237,556,317.24</td>\n",
       "      <td>9,286,070.01</td>\n",
       "      <td>0.00</td>\n",
       "      <td>112,602.19</td>\n",
       "      <td>2,185.34</td>\n",
       "      <td>1,135,749.57</td>\n",
       "      <td>437.07</td>\n",
       "      <td>18,016.35</td>\n",
       "      <td>247,192,414.17</td>\n",
       "    </tr>\n",
       "    <tr>\n",
       "      <th>1</th>\n",
       "      <td>2024-01-02</td>\n",
       "      <td>20,176.03</td>\n",
       "      <td>129,315,374.87</td>\n",
       "      <td>5,069,056.36</td>\n",
       "      <td>0.00</td>\n",
       "      <td>102,945.30</td>\n",
       "      <td>5,301.72</td>\n",
       "      <td>863,001.04</td>\n",
       "      <td>1,060.34</td>\n",
       "      <td>16,471.25</td>\n",
       "      <td>134,332,483.25</td>\n",
       "    </tr>\n",
       "    <tr>\n",
       "      <th>2</th>\n",
       "      <td>2024-01-03</td>\n",
       "      <td>19,956.21</td>\n",
       "      <td>235,973,480.55</td>\n",
       "      <td>9,841,896.46</td>\n",
       "      <td>0.00</td>\n",
       "      <td>212,450.60</td>\n",
       "      <td>4,163.79</td>\n",
       "      <td>1,833,432.07</td>\n",
       "      <td>832.76</td>\n",
       "      <td>33,992.10</td>\n",
       "      <td>245,556,658.35</td>\n",
       "    </tr>\n",
       "    <tr>\n",
       "      <th>3</th>\n",
       "      <td>2024-01-04</td>\n",
       "      <td>18,211.90</td>\n",
       "      <td>249,580,456.19</td>\n",
       "      <td>10,441,382.17</td>\n",
       "      <td>0.00</td>\n",
       "      <td>215,647.90</td>\n",
       "      <td>3,969.83</td>\n",
       "      <td>1,815,419.78</td>\n",
       "      <td>793.97</td>\n",
       "      <td>34,503.66</td>\n",
       "      <td>259,877,049.39</td>\n",
       "    </tr>\n",
       "    <tr>\n",
       "      <th>4</th>\n",
       "      <td>2024-01-05</td>\n",
       "      <td>20,499.83</td>\n",
       "      <td>257,529,299.06</td>\n",
       "      <td>10,838,792.65</td>\n",
       "      <td>0.00</td>\n",
       "      <td>250,311.04</td>\n",
       "      <td>2,405.17</td>\n",
       "      <td>2,196,897.86</td>\n",
       "      <td>481.03</td>\n",
       "      <td>40,049.77</td>\n",
       "      <td>267,905,414.57</td>\n",
       "    </tr>\n",
       "  </tbody>\n",
       "</table>\n",
       "</div>"
      ],
      "text/plain": [
       "        Date  TopUps fees_2  Total due (payment)     Txns fees  fees_cashback  \\\n",
       "0 2024-01-01       9,791.72       237,556,317.24  9,286,070.01           0.00   \n",
       "1 2024-01-02      20,176.03       129,315,374.87  5,069,056.36           0.00   \n",
       "2 2024-01-03      19,956.21       235,973,480.55  9,841,896.46           0.00   \n",
       "3 2024-01-04      18,211.90       249,580,456.19 10,441,382.17           0.00   \n",
       "4 2024-01-05      20,499.83       257,529,299.06 10,838,792.65           0.00   \n",
       "\n",
       "   fees_deferred  frontend_commission_fees  gross_amount_dp  \\\n",
       "0     112,602.19                  2,185.34     1,135,749.57   \n",
       "1     102,945.30                  5,301.72       863,001.04   \n",
       "2     212,450.60                  4,163.79     1,833,432.07   \n",
       "3     215,647.90                  3,969.83     1,815,419.78   \n",
       "4     250,311.04                  2,405.17     2,196,897.86   \n",
       "\n",
       "   merchant_commission_fees  taxes_deferred  total_transactions  \n",
       "0                    437.07       18,016.35      247,192,414.17  \n",
       "1                  1,060.34       16,471.25      134,332,483.25  \n",
       "2                    832.76       33,992.10      245,556,658.35  \n",
       "3                    793.97       34,503.66      259,877,049.39  \n",
       "4                    481.03       40,049.77      267,905,414.57  "
      ]
     },
     "execution_count": 150,
     "metadata": {},
     "output_type": "execute_result"
    }
   ],
   "source": [
    "union_facturacion_ledger_date_total = pd.pivot_table(union_facturacion_ledger_date,index=[\"Date\"],\n",
    "                                                     values=['Total due (payment)',\n",
    "                                                             'total_transactions',\n",
    "                                                             'Txns fees',\n",
    "                                                             # 'TopUps fees',\n",
    "                                                             'TopUps fees_2',\n",
    "                                                             # 'Coupons',\n",
    "                                                             'frontend_commission_fees',\n",
    "                                                             'merchant_commission_fees',\n",
    "                                                             'fees_cashback',\n",
    "                                                             'gross_amount_dp',\n",
    "                                                             'fees_deferred',\n",
    "                                                             'taxes_deferred'],\n",
    "                                                     aggfunc=np.sum,margins=False).reset_index()\n",
    "union_facturacion_ledger_date_total.head()"
   ]
  },
  {
   "cell_type": "code",
   "execution_count": 151,
   "metadata": {},
   "outputs": [
    {
     "data": {
      "text/plain": [
       "(31, 11)"
      ]
     },
     "execution_count": 151,
     "metadata": {},
     "output_type": "execute_result"
    }
   ],
   "source": [
    "union_facturacion_ledger_date_total.shape"
   ]
  },
  {
   "cell_type": "code",
   "execution_count": 152,
   "metadata": {},
   "outputs": [
    {
     "data": {
      "text/html": [
       "<div>\n",
       "<style scoped>\n",
       "    .dataframe tbody tr th:only-of-type {\n",
       "        vertical-align: middle;\n",
       "    }\n",
       "\n",
       "    .dataframe tbody tr th {\n",
       "        vertical-align: top;\n",
       "    }\n",
       "\n",
       "    .dataframe thead th {\n",
       "        text-align: right;\n",
       "    }\n",
       "</style>\n",
       "<table border=\"1\" class=\"dataframe\">\n",
       "  <thead>\n",
       "    <tr style=\"text-align: right;\">\n",
       "      <th></th>\n",
       "      <th>Date</th>\n",
       "      <th>Total due (payment)</th>\n",
       "      <th>total_transactions</th>\n",
       "      <th>Txns fees</th>\n",
       "      <th>TopUps fees_2</th>\n",
       "      <th>frontend_commission_fees</th>\n",
       "      <th>merchant_commission_fees</th>\n",
       "      <th>fees_cashback</th>\n",
       "      <th>gross_amount_dp</th>\n",
       "      <th>fees_deferred</th>\n",
       "      <th>taxes_deferred</th>\n",
       "    </tr>\n",
       "  </thead>\n",
       "  <tbody>\n",
       "    <tr>\n",
       "      <th>0</th>\n",
       "      <td>2024-01-01</td>\n",
       "      <td>237,556,317.24</td>\n",
       "      <td>247,192,414.17</td>\n",
       "      <td>9,286,070.01</td>\n",
       "      <td>9,791.72</td>\n",
       "      <td>2,185.34</td>\n",
       "      <td>437.07</td>\n",
       "      <td>0.00</td>\n",
       "      <td>1,135,749.57</td>\n",
       "      <td>112,602.19</td>\n",
       "      <td>18,016.35</td>\n",
       "    </tr>\n",
       "    <tr>\n",
       "      <th>1</th>\n",
       "      <td>2024-01-02</td>\n",
       "      <td>129,315,374.87</td>\n",
       "      <td>134,332,483.25</td>\n",
       "      <td>5,069,056.36</td>\n",
       "      <td>20,176.03</td>\n",
       "      <td>5,301.72</td>\n",
       "      <td>1,060.34</td>\n",
       "      <td>0.00</td>\n",
       "      <td>863,001.04</td>\n",
       "      <td>102,945.30</td>\n",
       "      <td>16,471.25</td>\n",
       "    </tr>\n",
       "    <tr>\n",
       "      <th>2</th>\n",
       "      <td>2024-01-03</td>\n",
       "      <td>235,973,480.55</td>\n",
       "      <td>245,556,658.35</td>\n",
       "      <td>9,841,896.46</td>\n",
       "      <td>19,956.21</td>\n",
       "      <td>4,163.79</td>\n",
       "      <td>832.76</td>\n",
       "      <td>0.00</td>\n",
       "      <td>1,833,432.07</td>\n",
       "      <td>212,450.60</td>\n",
       "      <td>33,992.10</td>\n",
       "    </tr>\n",
       "    <tr>\n",
       "      <th>3</th>\n",
       "      <td>2024-01-04</td>\n",
       "      <td>249,580,456.19</td>\n",
       "      <td>259,877,049.39</td>\n",
       "      <td>10,441,382.17</td>\n",
       "      <td>18,211.90</td>\n",
       "      <td>3,969.83</td>\n",
       "      <td>793.97</td>\n",
       "      <td>0.00</td>\n",
       "      <td>1,815,419.78</td>\n",
       "      <td>215,647.90</td>\n",
       "      <td>34,503.66</td>\n",
       "    </tr>\n",
       "    <tr>\n",
       "      <th>4</th>\n",
       "      <td>2024-01-05</td>\n",
       "      <td>257,529,299.06</td>\n",
       "      <td>267,905,414.57</td>\n",
       "      <td>10,838,792.65</td>\n",
       "      <td>20,499.83</td>\n",
       "      <td>2,405.17</td>\n",
       "      <td>481.03</td>\n",
       "      <td>0.00</td>\n",
       "      <td>2,196,897.86</td>\n",
       "      <td>250,311.04</td>\n",
       "      <td>40,049.77</td>\n",
       "    </tr>\n",
       "  </tbody>\n",
       "</table>\n",
       "</div>"
      ],
      "text/plain": [
       "        Date  Total due (payment)  total_transactions     Txns fees  \\\n",
       "0 2024-01-01       237,556,317.24      247,192,414.17  9,286,070.01   \n",
       "1 2024-01-02       129,315,374.87      134,332,483.25  5,069,056.36   \n",
       "2 2024-01-03       235,973,480.55      245,556,658.35  9,841,896.46   \n",
       "3 2024-01-04       249,580,456.19      259,877,049.39 10,441,382.17   \n",
       "4 2024-01-05       257,529,299.06      267,905,414.57 10,838,792.65   \n",
       "\n",
       "   TopUps fees_2  frontend_commission_fees  merchant_commission_fees  \\\n",
       "0       9,791.72                  2,185.34                    437.07   \n",
       "1      20,176.03                  5,301.72                  1,060.34   \n",
       "2      19,956.21                  4,163.79                    832.76   \n",
       "3      18,211.90                  3,969.83                    793.97   \n",
       "4      20,499.83                  2,405.17                    481.03   \n",
       "\n",
       "   fees_cashback  gross_amount_dp  fees_deferred  taxes_deferred  \n",
       "0           0.00     1,135,749.57     112,602.19       18,016.35  \n",
       "1           0.00       863,001.04     102,945.30       16,471.25  \n",
       "2           0.00     1,833,432.07     212,450.60       33,992.10  \n",
       "3           0.00     1,815,419.78     215,647.90       34,503.66  \n",
       "4           0.00     2,196,897.86     250,311.04       40,049.77  "
      ]
     },
     "execution_count": 152,
     "metadata": {},
     "output_type": "execute_result"
    }
   ],
   "source": [
    "union_facturacion_ledger_date_final = union_facturacion_ledger_date_total[['Date',\n",
    "                                                                           'Total due (payment)',\n",
    "                                                                           'total_transactions',\n",
    "                                                                           'Txns fees',\n",
    "                                                                           # 'TopUps fees',\n",
    "                                                                           'TopUps fees_2',\n",
    "                                                                           # 'Coupons',\n",
    "                                                                           'frontend_commission_fees',\n",
    "                                                                           'merchant_commission_fees',\n",
    "                                                                           'fees_cashback',\n",
    "                                                                           'gross_amount_dp',\n",
    "                                                                           'fees_deferred',\n",
    "                                                                           'taxes_deferred']]\n",
    "union_facturacion_ledger_date_final.head()"
   ]
  },
  {
   "cell_type": "code",
   "execution_count": 153,
   "metadata": {},
   "outputs": [
    {
     "data": {
      "text/plain": [
       "(31, 11)"
      ]
     },
     "execution_count": 153,
     "metadata": {},
     "output_type": "execute_result"
    }
   ],
   "source": [
    "union_facturacion_ledger_date_final.shape"
   ]
  },
  {
   "cell_type": "code",
   "execution_count": 155,
   "metadata": {},
   "outputs": [
    {
     "name": "stderr",
     "output_type": "stream",
     "text": [
      "C:\\Users\\Cristian.Aparicio\\AppData\\Local\\Temp\\ipykernel_16640\\2854952279.py:1: FutureWarning: The behavior of DataFrame concatenation with empty or all-NA entries is deprecated. In a future version, this will no longer exclude empty or all-NA columns when determining the result dtypes. To retain the old behavior, exclude the relevant entries before the concat operation.\n",
      "  union_facturacion_ledger_date_final.loc['All'] = union_facturacion_ledger_date_final.sum(numeric_only=True)\n",
      "C:\\Users\\Cristian.Aparicio\\AppData\\Local\\Temp\\ipykernel_16640\\2854952279.py:2: FutureWarning: Setting an item of incompatible dtype is deprecated and will raise in a future error of pandas. Value 'ALL' has dtype incompatible with datetime64[ns], please explicitly cast to a compatible dtype first.\n",
      "  union_facturacion_ledger_date_final['Date'].fillna('ALL',inplace=True)\n"
     ]
    }
   ],
   "source": [
    "union_facturacion_ledger_date_final.loc['All'] = union_facturacion_ledger_date_final.sum(numeric_only=True)\n",
    "union_facturacion_ledger_date_final['Date'].fillna('ALL',inplace=True)"
   ]
  },
  {
   "cell_type": "code",
   "execution_count": 156,
   "metadata": {},
   "outputs": [
    {
     "data": {
      "text/plain": [
       "(32, 11)"
      ]
     },
     "execution_count": 156,
     "metadata": {},
     "output_type": "execute_result"
    }
   ],
   "source": [
    "union_facturacion_ledger_date_final.shape"
   ]
  },
  {
   "cell_type": "code",
   "execution_count": 157,
   "metadata": {},
   "outputs": [
    {
     "data": {
      "text/html": [
       "<div>\n",
       "<style scoped>\n",
       "    .dataframe tbody tr th:only-of-type {\n",
       "        vertical-align: middle;\n",
       "    }\n",
       "\n",
       "    .dataframe tbody tr th {\n",
       "        vertical-align: top;\n",
       "    }\n",
       "\n",
       "    .dataframe thead th {\n",
       "        text-align: right;\n",
       "    }\n",
       "</style>\n",
       "<table border=\"1\" class=\"dataframe\">\n",
       "  <thead>\n",
       "    <tr style=\"text-align: right;\">\n",
       "      <th></th>\n",
       "      <th>Date</th>\n",
       "      <th>Total due (payment)</th>\n",
       "      <th>total_transactions</th>\n",
       "      <th>Txns fees</th>\n",
       "      <th>TopUps fees_2</th>\n",
       "      <th>frontend_commission_fees</th>\n",
       "      <th>merchant_commission_fees</th>\n",
       "      <th>fees_cashback</th>\n",
       "      <th>gross_amount_dp</th>\n",
       "      <th>fees_deferred</th>\n",
       "      <th>taxes_deferred</th>\n",
       "      <th>amount</th>\n",
       "      <th>capital</th>\n",
       "      <th>interest</th>\n",
       "      <th>tax</th>\n",
       "      <th>provider_code</th>\n",
       "    </tr>\n",
       "  </thead>\n",
       "  <tbody>\n",
       "    <tr>\n",
       "      <th>0</th>\n",
       "      <td>2024-01-01 00:00:00</td>\n",
       "      <td>237,556,317.24</td>\n",
       "      <td>247,192,414.17</td>\n",
       "      <td>9,286,070.01</td>\n",
       "      <td>9,791.72</td>\n",
       "      <td>2,185.34</td>\n",
       "      <td>437.07</td>\n",
       "      <td>0.00</td>\n",
       "      <td>1,135,749.57</td>\n",
       "      <td>112,602.19</td>\n",
       "      <td>18,016.35</td>\n",
       "      <td>0.00</td>\n",
       "      <td>0.00</td>\n",
       "      <td>0</td>\n",
       "      <td>0.00</td>\n",
       "      <td>NaN</td>\n",
       "    </tr>\n",
       "    <tr>\n",
       "      <th>1</th>\n",
       "      <td>2024-01-02 00:00:00</td>\n",
       "      <td>129,315,374.87</td>\n",
       "      <td>134,332,483.25</td>\n",
       "      <td>5,069,056.36</td>\n",
       "      <td>20,176.03</td>\n",
       "      <td>5,301.72</td>\n",
       "      <td>1,060.34</td>\n",
       "      <td>0.00</td>\n",
       "      <td>863,001.04</td>\n",
       "      <td>102,945.30</td>\n",
       "      <td>16,471.25</td>\n",
       "      <td>0.00</td>\n",
       "      <td>0.00</td>\n",
       "      <td>0</td>\n",
       "      <td>0.00</td>\n",
       "      <td>NaN</td>\n",
       "    </tr>\n",
       "    <tr>\n",
       "      <th>2</th>\n",
       "      <td>2024-01-03 00:00:00</td>\n",
       "      <td>235,973,480.55</td>\n",
       "      <td>245,556,658.35</td>\n",
       "      <td>9,841,896.46</td>\n",
       "      <td>19,956.21</td>\n",
       "      <td>4,163.79</td>\n",
       "      <td>832.76</td>\n",
       "      <td>0.00</td>\n",
       "      <td>1,833,432.07</td>\n",
       "      <td>212,450.60</td>\n",
       "      <td>33,992.10</td>\n",
       "      <td>0.00</td>\n",
       "      <td>0.00</td>\n",
       "      <td>0</td>\n",
       "      <td>0.00</td>\n",
       "      <td>NaN</td>\n",
       "    </tr>\n",
       "    <tr>\n",
       "      <th>3</th>\n",
       "      <td>2024-01-04 00:00:00</td>\n",
       "      <td>249,580,456.19</td>\n",
       "      <td>259,877,049.39</td>\n",
       "      <td>10,441,382.17</td>\n",
       "      <td>18,211.90</td>\n",
       "      <td>3,969.83</td>\n",
       "      <td>793.97</td>\n",
       "      <td>0.00</td>\n",
       "      <td>1,815,419.78</td>\n",
       "      <td>215,647.90</td>\n",
       "      <td>34,503.66</td>\n",
       "      <td>0.00</td>\n",
       "      <td>0.00</td>\n",
       "      <td>0</td>\n",
       "      <td>0.00</td>\n",
       "      <td>NaN</td>\n",
       "    </tr>\n",
       "    <tr>\n",
       "      <th>4</th>\n",
       "      <td>2024-01-05 00:00:00</td>\n",
       "      <td>257,529,299.06</td>\n",
       "      <td>267,905,414.57</td>\n",
       "      <td>10,838,792.65</td>\n",
       "      <td>20,499.83</td>\n",
       "      <td>2,405.17</td>\n",
       "      <td>481.03</td>\n",
       "      <td>0.00</td>\n",
       "      <td>2,196,897.86</td>\n",
       "      <td>250,311.04</td>\n",
       "      <td>40,049.77</td>\n",
       "      <td>0.00</td>\n",
       "      <td>0.00</td>\n",
       "      <td>0</td>\n",
       "      <td>0.00</td>\n",
       "      <td>NaN</td>\n",
       "    </tr>\n",
       "  </tbody>\n",
       "</table>\n",
       "</div>"
      ],
      "text/plain": [
       "                  Date  Total due (payment)  total_transactions     Txns fees  \\\n",
       "0  2024-01-01 00:00:00       237,556,317.24      247,192,414.17  9,286,070.01   \n",
       "1  2024-01-02 00:00:00       129,315,374.87      134,332,483.25  5,069,056.36   \n",
       "2  2024-01-03 00:00:00       235,973,480.55      245,556,658.35  9,841,896.46   \n",
       "3  2024-01-04 00:00:00       249,580,456.19      259,877,049.39 10,441,382.17   \n",
       "4  2024-01-05 00:00:00       257,529,299.06      267,905,414.57 10,838,792.65   \n",
       "\n",
       "   TopUps fees_2  frontend_commission_fees  merchant_commission_fees  \\\n",
       "0       9,791.72                  2,185.34                    437.07   \n",
       "1      20,176.03                  5,301.72                  1,060.34   \n",
       "2      19,956.21                  4,163.79                    832.76   \n",
       "3      18,211.90                  3,969.83                    793.97   \n",
       "4      20,499.83                  2,405.17                    481.03   \n",
       "\n",
       "   fees_cashback  gross_amount_dp  fees_deferred  taxes_deferred  amount  \\\n",
       "0           0.00     1,135,749.57     112,602.19       18,016.35    0.00   \n",
       "1           0.00       863,001.04     102,945.30       16,471.25    0.00   \n",
       "2           0.00     1,833,432.07     212,450.60       33,992.10    0.00   \n",
       "3           0.00     1,815,419.78     215,647.90       34,503.66    0.00   \n",
       "4           0.00     2,196,897.86     250,311.04       40,049.77    0.00   \n",
       "\n",
       "   capital  interest  tax provider_code  \n",
       "0     0.00         0 0.00           NaN  \n",
       "1     0.00         0 0.00           NaN  \n",
       "2     0.00         0 0.00           NaN  \n",
       "3     0.00         0 0.00           NaN  \n",
       "4     0.00         0 0.00           NaN  "
      ]
     },
     "execution_count": 157,
     "metadata": {},
     "output_type": "execute_result"
    }
   ],
   "source": [
    "facturacion_by_date_total = union_facturacion_ledger_date_final.merge(lender_amount_date_clip[['Date',\n",
    "                                                                                               'amount',\n",
    "                                                                                               'capital',\n",
    "                                                                                               'interest',\n",
    "                                                                                               'tax',\n",
    "                                                                                               \"provider_code\"]] ,\n",
    "                                                                      on='Date', how='left')\n",
    "facturacion_by_date_total['interest'] = 0\n",
    "facturacion_by_date_total['amount'].fillna(0,inplace=True)\n",
    "facturacion_by_date_total['capital'].fillna(0,inplace=True)\n",
    "facturacion_by_date_total['interest'].fillna(0,inplace=True)\n",
    "facturacion_by_date_total['tax'].fillna(0,inplace=True)\n",
    "facturacion_by_date_total.head()"
   ]
  },
  {
   "cell_type": "code",
   "execution_count": 158,
   "metadata": {},
   "outputs": [
    {
     "data": {
      "text/html": [
       "<div>\n",
       "<style scoped>\n",
       "    .dataframe tbody tr th:only-of-type {\n",
       "        vertical-align: middle;\n",
       "    }\n",
       "\n",
       "    .dataframe tbody tr th {\n",
       "        vertical-align: top;\n",
       "    }\n",
       "\n",
       "    .dataframe thead th {\n",
       "        text-align: right;\n",
       "    }\n",
       "</style>\n",
       "<table border=\"1\" class=\"dataframe\">\n",
       "  <thead>\n",
       "    <tr style=\"text-align: right;\">\n",
       "      <th></th>\n",
       "      <th>Date</th>\n",
       "      <th>Total due (payment)</th>\n",
       "      <th>total_transactions</th>\n",
       "      <th>Txns fees</th>\n",
       "      <th>TopUps fees_2</th>\n",
       "      <th>frontend_commission_fees</th>\n",
       "      <th>merchant_commission_fees</th>\n",
       "      <th>fees_cashback</th>\n",
       "      <th>gross_amount_dp</th>\n",
       "      <th>fees_deferred</th>\n",
       "      <th>taxes_deferred</th>\n",
       "      <th>amount</th>\n",
       "      <th>capital</th>\n",
       "      <th>interest</th>\n",
       "      <th>tax</th>\n",
       "      <th>provider_code</th>\n",
       "      <th>Net fees</th>\n",
       "      <th>Global taxes</th>\n",
       "    </tr>\n",
       "  </thead>\n",
       "  <tbody>\n",
       "    <tr>\n",
       "      <th>0</th>\n",
       "      <td>2024-01-01 00:00:00</td>\n",
       "      <td>237,556,317.24</td>\n",
       "      <td>247,192,414.17</td>\n",
       "      <td>9,286,070.01</td>\n",
       "      <td>9,791.72</td>\n",
       "      <td>2,185.34</td>\n",
       "      <td>437.07</td>\n",
       "      <td>0.00</td>\n",
       "      <td>1,135,749.57</td>\n",
       "      <td>112,602.19</td>\n",
       "      <td>18,016.35</td>\n",
       "      <td>0.00</td>\n",
       "      <td>0.00</td>\n",
       "      <td>0</td>\n",
       "      <td>0.00</td>\n",
       "      <td>NaN</td>\n",
       "      <td>9,278,026.56</td>\n",
       "      <td>1,484,484.25</td>\n",
       "    </tr>\n",
       "    <tr>\n",
       "      <th>1</th>\n",
       "      <td>2024-01-02 00:00:00</td>\n",
       "      <td>129,315,374.87</td>\n",
       "      <td>134,332,483.25</td>\n",
       "      <td>5,069,056.36</td>\n",
       "      <td>20,176.03</td>\n",
       "      <td>5,301.72</td>\n",
       "      <td>1,060.34</td>\n",
       "      <td>0.00</td>\n",
       "      <td>863,001.04</td>\n",
       "      <td>102,945.30</td>\n",
       "      <td>16,471.25</td>\n",
       "      <td>0.00</td>\n",
       "      <td>0.00</td>\n",
       "      <td>0</td>\n",
       "      <td>0.00</td>\n",
       "      <td>NaN</td>\n",
       "      <td>5,053,121.70</td>\n",
       "      <td>808,499.47</td>\n",
       "    </tr>\n",
       "    <tr>\n",
       "      <th>2</th>\n",
       "      <td>2024-01-03 00:00:00</td>\n",
       "      <td>235,973,480.55</td>\n",
       "      <td>245,556,658.35</td>\n",
       "      <td>9,841,896.46</td>\n",
       "      <td>19,956.21</td>\n",
       "      <td>4,163.79</td>\n",
       "      <td>832.76</td>\n",
       "      <td>0.00</td>\n",
       "      <td>1,833,432.07</td>\n",
       "      <td>212,450.60</td>\n",
       "      <td>33,992.10</td>\n",
       "      <td>0.00</td>\n",
       "      <td>0.00</td>\n",
       "      <td>0</td>\n",
       "      <td>0.00</td>\n",
       "      <td>NaN</td>\n",
       "      <td>9,825,271.29</td>\n",
       "      <td>1,572,043.41</td>\n",
       "    </tr>\n",
       "    <tr>\n",
       "      <th>3</th>\n",
       "      <td>2024-01-04 00:00:00</td>\n",
       "      <td>249,580,456.19</td>\n",
       "      <td>259,877,049.39</td>\n",
       "      <td>10,441,382.17</td>\n",
       "      <td>18,211.90</td>\n",
       "      <td>3,969.83</td>\n",
       "      <td>793.97</td>\n",
       "      <td>0.00</td>\n",
       "      <td>1,815,419.78</td>\n",
       "      <td>215,647.90</td>\n",
       "      <td>34,503.66</td>\n",
       "      <td>0.00</td>\n",
       "      <td>0.00</td>\n",
       "      <td>0</td>\n",
       "      <td>0.00</td>\n",
       "      <td>NaN</td>\n",
       "      <td>10,426,346.14</td>\n",
       "      <td>1,668,215.38</td>\n",
       "    </tr>\n",
       "    <tr>\n",
       "      <th>4</th>\n",
       "      <td>2024-01-05 00:00:00</td>\n",
       "      <td>257,529,299.06</td>\n",
       "      <td>267,905,414.57</td>\n",
       "      <td>10,838,792.65</td>\n",
       "      <td>20,499.83</td>\n",
       "      <td>2,405.17</td>\n",
       "      <td>481.03</td>\n",
       "      <td>0.00</td>\n",
       "      <td>2,196,897.86</td>\n",
       "      <td>250,311.04</td>\n",
       "      <td>40,049.77</td>\n",
       "      <td>0.00</td>\n",
       "      <td>0.00</td>\n",
       "      <td>0</td>\n",
       "      <td>0.00</td>\n",
       "      <td>NaN</td>\n",
       "      <td>10,820,216.96</td>\n",
       "      <td>1,731,234.71</td>\n",
       "    </tr>\n",
       "  </tbody>\n",
       "</table>\n",
       "</div>"
      ],
      "text/plain": [
       "                  Date  Total due (payment)  total_transactions     Txns fees  \\\n",
       "0  2024-01-01 00:00:00       237,556,317.24      247,192,414.17  9,286,070.01   \n",
       "1  2024-01-02 00:00:00       129,315,374.87      134,332,483.25  5,069,056.36   \n",
       "2  2024-01-03 00:00:00       235,973,480.55      245,556,658.35  9,841,896.46   \n",
       "3  2024-01-04 00:00:00       249,580,456.19      259,877,049.39 10,441,382.17   \n",
       "4  2024-01-05 00:00:00       257,529,299.06      267,905,414.57 10,838,792.65   \n",
       "\n",
       "   TopUps fees_2  frontend_commission_fees  merchant_commission_fees  \\\n",
       "0       9,791.72                  2,185.34                    437.07   \n",
       "1      20,176.03                  5,301.72                  1,060.34   \n",
       "2      19,956.21                  4,163.79                    832.76   \n",
       "3      18,211.90                  3,969.83                    793.97   \n",
       "4      20,499.83                  2,405.17                    481.03   \n",
       "\n",
       "   fees_cashback  gross_amount_dp  fees_deferred  taxes_deferred  amount  \\\n",
       "0           0.00     1,135,749.57     112,602.19       18,016.35    0.00   \n",
       "1           0.00       863,001.04     102,945.30       16,471.25    0.00   \n",
       "2           0.00     1,833,432.07     212,450.60       33,992.10    0.00   \n",
       "3           0.00     1,815,419.78     215,647.90       34,503.66    0.00   \n",
       "4           0.00     2,196,897.86     250,311.04       40,049.77    0.00   \n",
       "\n",
       "   capital  interest  tax provider_code      Net fees  Global taxes  \n",
       "0     0.00         0 0.00           NaN  9,278,026.56  1,484,484.25  \n",
       "1     0.00         0 0.00           NaN  5,053,121.70    808,499.47  \n",
       "2     0.00         0 0.00           NaN  9,825,271.29  1,572,043.41  \n",
       "3     0.00         0 0.00           NaN 10,426,346.14  1,668,215.38  \n",
       "4     0.00         0 0.00           NaN 10,820,216.96  1,731,234.71  "
      ]
     },
     "execution_count": 158,
     "metadata": {},
     "output_type": "execute_result"
    }
   ],
   "source": [
    "facturacion_by_date_total['Net fees'] = (facturacion_by_date_total['Txns fees'] +\n",
    "                                         facturacion_by_date_total['frontend_commission_fees'] -\n",
    "                                         # facturacion_by_date_total['TopUps fees'] -\n",
    "                                         # facturacion_by_date_total['Coupons'] -\n",
    "                                         facturacion_by_date_total['TopUps fees_2'] -\n",
    "                                         facturacion_by_date_total['merchant_commission_fees'] -\n",
    "                                         facturacion_by_date_total['fees_cashback'] +\n",
    "                                         facturacion_by_date_total['interest'])\n",
    "facturacion_by_date_total['Global taxes'] = facturacion_by_date_total['Net fees'] * 0.16\n",
    "facturacion_by_date_total.head()"
   ]
  },
  {
   "cell_type": "code",
   "execution_count": 159,
   "metadata": {},
   "outputs": [
    {
     "data": {
      "text/plain": [
       "(32, 18)"
      ]
     },
     "execution_count": 159,
     "metadata": {},
     "output_type": "execute_result"
    }
   ],
   "source": [
    "facturacion_by_date_total.shape"
   ]
  },
  {
   "cell_type": "code",
   "execution_count": 160,
   "metadata": {},
   "outputs": [],
   "source": [
    "facturacion_by_date_final = facturacion_by_date_total[['Date',\n",
    "                                                       'Total due (payment)',\n",
    "                                                       'total_transactions',\n",
    "                                                       'Txns fees',\n",
    "                                                       # 'TopUps fees',\n",
    "                                                       'TopUps fees_2',\n",
    "                                                       # 'Coupons',\n",
    "                                                       'frontend_commission_fees',\n",
    "                                                       'merchant_commission_fees',\n",
    "                                                       'fees_cashback',\n",
    "                                                       'interest',\n",
    "                                                       'Net fees',\n",
    "                                                       'Global taxes',\n",
    "                                                       'gross_amount_dp',\n",
    "                                                       'fees_deferred',\n",
    "                                                       'taxes_deferred']]"
   ]
  },
  {
   "cell_type": "code",
   "execution_count": 161,
   "metadata": {},
   "outputs": [
    {
     "name": "stderr",
     "output_type": "stream",
     "text": [
      "C:\\Users\\Cristian.Aparicio\\AppData\\Local\\Temp\\ipykernel_16640\\4124834818.py:1: SettingWithCopyWarning: \n",
      "A value is trying to be set on a copy of a slice from a DataFrame\n",
      "\n",
      "See the caveats in the documentation: https://pandas.pydata.org/pandas-docs/stable/user_guide/indexing.html#returning-a-view-versus-a-copy\n",
      "  facturacion_by_date_final.rename(columns ={'Interests today': 'Loans fee'},inplace=True)\n"
     ]
    }
   ],
   "source": [
    "facturacion_by_date_final.rename(columns ={'Interests today': 'Loans fee'},inplace=True)"
   ]
  },
  {
   "cell_type": "code",
   "execution_count": 162,
   "metadata": {},
   "outputs": [
    {
     "data": {
      "text/html": [
       "<div>\n",
       "<style scoped>\n",
       "    .dataframe tbody tr th:only-of-type {\n",
       "        vertical-align: middle;\n",
       "    }\n",
       "\n",
       "    .dataframe tbody tr th {\n",
       "        vertical-align: top;\n",
       "    }\n",
       "\n",
       "    .dataframe thead th {\n",
       "        text-align: right;\n",
       "    }\n",
       "</style>\n",
       "<table border=\"1\" class=\"dataframe\">\n",
       "  <thead>\n",
       "    <tr style=\"text-align: right;\">\n",
       "      <th></th>\n",
       "      <th>Date</th>\n",
       "      <th>Total due (payment)</th>\n",
       "      <th>total_transactions</th>\n",
       "      <th>Txns fees</th>\n",
       "      <th>TopUps fees_2</th>\n",
       "      <th>frontend_commission_fees</th>\n",
       "      <th>merchant_commission_fees</th>\n",
       "      <th>fees_cashback</th>\n",
       "      <th>interest</th>\n",
       "      <th>Net fees</th>\n",
       "      <th>Global taxes</th>\n",
       "      <th>gross_amount_dp</th>\n",
       "      <th>fees_deferred</th>\n",
       "      <th>taxes_deferred</th>\n",
       "    </tr>\n",
       "  </thead>\n",
       "  <tbody>\n",
       "    <tr>\n",
       "      <th>0</th>\n",
       "      <td>2024-01-01 00:00:00</td>\n",
       "      <td>237,556,317.24</td>\n",
       "      <td>247,192,414.17</td>\n",
       "      <td>9,286,070.01</td>\n",
       "      <td>9,791.72</td>\n",
       "      <td>2,185.34</td>\n",
       "      <td>437.07</td>\n",
       "      <td>0.00</td>\n",
       "      <td>0</td>\n",
       "      <td>9,278,026.56</td>\n",
       "      <td>1,484,484.25</td>\n",
       "      <td>1,135,749.57</td>\n",
       "      <td>112,602.19</td>\n",
       "      <td>18,016.35</td>\n",
       "    </tr>\n",
       "    <tr>\n",
       "      <th>1</th>\n",
       "      <td>2024-01-02 00:00:00</td>\n",
       "      <td>129,315,374.87</td>\n",
       "      <td>134,332,483.25</td>\n",
       "      <td>5,069,056.36</td>\n",
       "      <td>20,176.03</td>\n",
       "      <td>5,301.72</td>\n",
       "      <td>1,060.34</td>\n",
       "      <td>0.00</td>\n",
       "      <td>0</td>\n",
       "      <td>5,053,121.70</td>\n",
       "      <td>808,499.47</td>\n",
       "      <td>863,001.04</td>\n",
       "      <td>102,945.30</td>\n",
       "      <td>16,471.25</td>\n",
       "    </tr>\n",
       "    <tr>\n",
       "      <th>2</th>\n",
       "      <td>2024-01-03 00:00:00</td>\n",
       "      <td>235,973,480.55</td>\n",
       "      <td>245,556,658.35</td>\n",
       "      <td>9,841,896.46</td>\n",
       "      <td>19,956.21</td>\n",
       "      <td>4,163.79</td>\n",
       "      <td>832.76</td>\n",
       "      <td>0.00</td>\n",
       "      <td>0</td>\n",
       "      <td>9,825,271.29</td>\n",
       "      <td>1,572,043.41</td>\n",
       "      <td>1,833,432.07</td>\n",
       "      <td>212,450.60</td>\n",
       "      <td>33,992.10</td>\n",
       "    </tr>\n",
       "    <tr>\n",
       "      <th>3</th>\n",
       "      <td>2024-01-04 00:00:00</td>\n",
       "      <td>249,580,456.19</td>\n",
       "      <td>259,877,049.39</td>\n",
       "      <td>10,441,382.17</td>\n",
       "      <td>18,211.90</td>\n",
       "      <td>3,969.83</td>\n",
       "      <td>793.97</td>\n",
       "      <td>0.00</td>\n",
       "      <td>0</td>\n",
       "      <td>10,426,346.14</td>\n",
       "      <td>1,668,215.38</td>\n",
       "      <td>1,815,419.78</td>\n",
       "      <td>215,647.90</td>\n",
       "      <td>34,503.66</td>\n",
       "    </tr>\n",
       "    <tr>\n",
       "      <th>4</th>\n",
       "      <td>2024-01-05 00:00:00</td>\n",
       "      <td>257,529,299.06</td>\n",
       "      <td>267,905,414.57</td>\n",
       "      <td>10,838,792.65</td>\n",
       "      <td>20,499.83</td>\n",
       "      <td>2,405.17</td>\n",
       "      <td>481.03</td>\n",
       "      <td>0.00</td>\n",
       "      <td>0</td>\n",
       "      <td>10,820,216.96</td>\n",
       "      <td>1,731,234.71</td>\n",
       "      <td>2,196,897.86</td>\n",
       "      <td>250,311.04</td>\n",
       "      <td>40,049.77</td>\n",
       "    </tr>\n",
       "  </tbody>\n",
       "</table>\n",
       "</div>"
      ],
      "text/plain": [
       "                  Date  Total due (payment)  total_transactions     Txns fees  \\\n",
       "0  2024-01-01 00:00:00       237,556,317.24      247,192,414.17  9,286,070.01   \n",
       "1  2024-01-02 00:00:00       129,315,374.87      134,332,483.25  5,069,056.36   \n",
       "2  2024-01-03 00:00:00       235,973,480.55      245,556,658.35  9,841,896.46   \n",
       "3  2024-01-04 00:00:00       249,580,456.19      259,877,049.39 10,441,382.17   \n",
       "4  2024-01-05 00:00:00       257,529,299.06      267,905,414.57 10,838,792.65   \n",
       "\n",
       "   TopUps fees_2  frontend_commission_fees  merchant_commission_fees  \\\n",
       "0       9,791.72                  2,185.34                    437.07   \n",
       "1      20,176.03                  5,301.72                  1,060.34   \n",
       "2      19,956.21                  4,163.79                    832.76   \n",
       "3      18,211.90                  3,969.83                    793.97   \n",
       "4      20,499.83                  2,405.17                    481.03   \n",
       "\n",
       "   fees_cashback  interest      Net fees  Global taxes  gross_amount_dp  \\\n",
       "0           0.00         0  9,278,026.56  1,484,484.25     1,135,749.57   \n",
       "1           0.00         0  5,053,121.70    808,499.47       863,001.04   \n",
       "2           0.00         0  9,825,271.29  1,572,043.41     1,833,432.07   \n",
       "3           0.00         0 10,426,346.14  1,668,215.38     1,815,419.78   \n",
       "4           0.00         0 10,820,216.96  1,731,234.71     2,196,897.86   \n",
       "\n",
       "   fees_deferred  taxes_deferred  \n",
       "0     112,602.19       18,016.35  \n",
       "1     102,945.30       16,471.25  \n",
       "2     212,450.60       33,992.10  \n",
       "3     215,647.90       34,503.66  \n",
       "4     250,311.04       40,049.77  "
      ]
     },
     "execution_count": 162,
     "metadata": {},
     "output_type": "execute_result"
    }
   ],
   "source": [
    "facturacion_by_date_final.head()"
   ]
  },
  {
   "cell_type": "code",
   "execution_count": 163,
   "metadata": {},
   "outputs": [
    {
     "name": "stderr",
     "output_type": "stream",
     "text": [
      "C:\\Users\\Cristian.Aparicio\\AppData\\Local\\Temp\\ipykernel_16640\\1925696703.py:1: SettingWithCopyWarning: \n",
      "A value is trying to be set on a copy of a slice from a DataFrame\n",
      "\n",
      "See the caveats in the documentation: https://pandas.pydata.org/pandas-docs/stable/user_guide/indexing.html#returning-a-view-versus-a-copy\n",
      "  facturacion_by_date_final.drop(facturacion_by_date_final.tail(1).index,inplace=True) # drop last n rows\n"
     ]
    }
   ],
   "source": [
    "facturacion_by_date_final.drop(facturacion_by_date_final.tail(1).index,inplace=True) # drop last n rows"
   ]
  },
  {
   "cell_type": "code",
   "execution_count": 164,
   "metadata": {},
   "outputs": [
    {
     "name": "stderr",
     "output_type": "stream",
     "text": [
      "C:\\Users\\Cristian.Aparicio\\AppData\\Local\\Temp\\ipykernel_16640\\830611324.py:1: SettingWithCopyWarning: \n",
      "A value is trying to be set on a copy of a slice from a DataFrame\n",
      "\n",
      "See the caveats in the documentation: https://pandas.pydata.org/pandas-docs/stable/user_guide/indexing.html#returning-a-view-versus-a-copy\n",
      "  facturacion_by_date_final.loc['All'] = facturacion_by_date_final.sum(numeric_only=True)\n",
      "C:\\Users\\Cristian.Aparicio\\AppData\\Local\\Temp\\ipykernel_16640\\830611324.py:2: SettingWithCopyWarning: \n",
      "A value is trying to be set on a copy of a slice from a DataFrame\n",
      "\n",
      "See the caveats in the documentation: https://pandas.pydata.org/pandas-docs/stable/user_guide/indexing.html#returning-a-view-versus-a-copy\n",
      "  facturacion_by_date_final['Date'].fillna('ALL',inplace=True)\n"
     ]
    }
   ],
   "source": [
    "facturacion_by_date_final.loc['All'] = facturacion_by_date_final.sum(numeric_only=True)\n",
    "facturacion_by_date_final['Date'].fillna('ALL',inplace=True)"
   ]
  },
  {
   "cell_type": "code",
   "execution_count": 165,
   "metadata": {},
   "outputs": [
    {
     "data": {
      "text/plain": [
       "(32, 14)"
      ]
     },
     "execution_count": 165,
     "metadata": {},
     "output_type": "execute_result"
    }
   ],
   "source": [
    "facturacion_by_date_final.shape"
   ]
  },
  {
   "cell_type": "markdown",
   "metadata": {},
   "source": [
    "# SPLIT DATAFRAME DE FACT_TOTAL EN 4 SHEETS DE EXCEL (DADO QUE LA MAYORÍA DE LA FACTURACIÓN SE VA POR LEDGER, SE CONSOLIDA LA INFO EN UNA SOLA PESTAÑA)"
   ]
  },
  {
   "cell_type": "code",
   "execution_count": 166,
   "metadata": {},
   "outputs": [],
   "source": [
    "start_date_1 = '2024-01-01'\n",
    "final_date_1 = '2024-01-31'"
   ]
  },
  {
   "cell_type": "code",
   "execution_count": 167,
   "metadata": {},
   "outputs": [
    {
     "data": {
      "text/html": [
       "<div>\n",
       "<style scoped>\n",
       "    .dataframe tbody tr th:only-of-type {\n",
       "        vertical-align: middle;\n",
       "    }\n",
       "\n",
       "    .dataframe tbody tr th {\n",
       "        vertical-align: top;\n",
       "    }\n",
       "\n",
       "    .dataframe thead th {\n",
       "        text-align: right;\n",
       "    }\n",
       "</style>\n",
       "<table border=\"1\" class=\"dataframe\">\n",
       "  <thead>\n",
       "    <tr style=\"text-align: right;\">\n",
       "      <th></th>\n",
       "      <th>merchant_id</th>\n",
       "      <th>user_email</th>\n",
       "      <th>report_id</th>\n",
       "      <th>report_date_local</th>\n",
       "      <th>total_transactions</th>\n",
       "      <th>total_fees_charged</th>\n",
       "      <th>total_taxes</th>\n",
       "      <th>applied_fees_benefits</th>\n",
       "      <th>applied_taxes_benefits</th>\n",
       "      <th>applied_fees_benefits_topups</th>\n",
       "      <th>...</th>\n",
       "      <th>total_adjustment_fees_charged</th>\n",
       "      <th>total_adjustment_taxes</th>\n",
       "      <th>cobranza</th>\n",
       "      <th>total_released</th>\n",
       "      <th>total_retained</th>\n",
       "      <th>tipopago</th>\n",
       "      <th>total_due</th>\n",
       "      <th>Date</th>\n",
       "      <th>type</th>\n",
       "      <th>provider_code</th>\n",
       "    </tr>\n",
       "  </thead>\n",
       "  <tbody>\n",
       "  </tbody>\n",
       "</table>\n",
       "<p>0 rows × 26 columns</p>\n",
       "</div>"
      ],
      "text/plain": [
       "Empty DataFrame\n",
       "Columns: [merchant_id, user_email, report_id, report_date_local, total_transactions, total_fees_charged, total_taxes, applied_fees_benefits, applied_taxes_benefits, applied_fees_benefits_topups, applied_taxes_benefits_topups, applied_fees_benefits_coupons, applied_taxes_benefits_coupons, fee_direct_deposit, taxes_direct_deposit, total_adjustments, total_adjustment_fees_charged, total_adjustment_taxes, cobranza, total_released, total_retained, tipopago, total_due, Date, type, provider_code]\n",
       "Index: []\n",
       "\n",
       "[0 rows x 26 columns]"
      ]
     },
     "execution_count": 167,
     "metadata": {},
     "output_type": "execute_result"
    }
   ],
   "source": [
    "fact_total_1 = fact_total[(fact_total['Date'] >= start_date_1) & (fact_total['Date'] <= final_date_1)]\n",
    "fact_total_1.head()"
   ]
  },
  {
   "cell_type": "code",
   "execution_count": 168,
   "metadata": {},
   "outputs": [
    {
     "data": {
      "text/plain": [
       "(0, 26)"
      ]
     },
     "execution_count": 168,
     "metadata": {},
     "output_type": "execute_result"
    }
   ],
   "source": [
    "fact_total_1.shape"
   ]
  },
  {
   "cell_type": "code",
   "execution_count": 169,
   "metadata": {},
   "outputs": [],
   "source": [
    "# start_date_2 = '2023-04-11'\n",
    "# final_date_2 = '2023-04-20'"
   ]
  },
  {
   "cell_type": "code",
   "execution_count": 170,
   "metadata": {},
   "outputs": [],
   "source": [
    "# fact_total_2 = fact_total[(fact_total['Date'] >= start_date_2) & (fact_total['Date'] <= final_date_2)]\n",
    "# fact_total_2.head()"
   ]
  },
  {
   "cell_type": "code",
   "execution_count": 171,
   "metadata": {},
   "outputs": [],
   "source": [
    "# fact_total_2.shape"
   ]
  },
  {
   "cell_type": "code",
   "execution_count": 172,
   "metadata": {},
   "outputs": [],
   "source": [
    "# start_date_3 = '2023-04-21'\n",
    "# final_date_3 = '2023-04-30'"
   ]
  },
  {
   "cell_type": "code",
   "execution_count": 173,
   "metadata": {},
   "outputs": [],
   "source": [
    "# fact_total_3 = fact_total[(fact_total['Date'] >= start_date_3) & (fact_total['Date'] <= final_date_3)]\n",
    "# fact_total_3.head()"
   ]
  },
  {
   "cell_type": "code",
   "execution_count": 174,
   "metadata": {},
   "outputs": [],
   "source": [
    "# fact_total_3.shape"
   ]
  },
  {
   "cell_type": "code",
   "execution_count": 175,
   "metadata": {},
   "outputs": [],
   "source": [
    "# start_date_4 = '2023-03-31'\n",
    "# final_date_4 = '2023-03-31'"
   ]
  },
  {
   "cell_type": "code",
   "execution_count": 176,
   "metadata": {},
   "outputs": [],
   "source": [
    "# fact_total_4 = fact_total[(fact_total['Date'] >= start_date_4) & (fact_total['Date'] <= final_date_4)]\n",
    "# fact_total_4.head()"
   ]
  },
  {
   "cell_type": "code",
   "execution_count": 177,
   "metadata": {},
   "outputs": [],
   "source": [
    "# fact_total_4.shape"
   ]
  },
  {
   "cell_type": "markdown",
   "metadata": {},
   "source": [
    "# ULTIMO DIA FACTURACION"
   ]
  },
  {
   "cell_type": "code",
   "execution_count": 178,
   "metadata": {},
   "outputs": [],
   "source": [
    "start_date_last_day = '2024-01-31'"
   ]
  },
  {
   "cell_type": "code",
   "execution_count": 179,
   "metadata": {},
   "outputs": [
    {
     "data": {
      "text/html": [
       "<div>\n",
       "<style scoped>\n",
       "    .dataframe tbody tr th:only-of-type {\n",
       "        vertical-align: middle;\n",
       "    }\n",
       "\n",
       "    .dataframe tbody tr th {\n",
       "        vertical-align: top;\n",
       "    }\n",
       "\n",
       "    .dataframe thead th {\n",
       "        text-align: right;\n",
       "    }\n",
       "</style>\n",
       "<table border=\"1\" class=\"dataframe\">\n",
       "  <thead>\n",
       "    <tr style=\"text-align: right;\">\n",
       "      <th></th>\n",
       "      <th>merchant_id</th>\n",
       "      <th>user_email</th>\n",
       "      <th>report_id</th>\n",
       "      <th>report_date_local</th>\n",
       "      <th>total_transactions</th>\n",
       "      <th>total_fees_charged</th>\n",
       "      <th>total_taxes</th>\n",
       "      <th>applied_fees_benefits</th>\n",
       "      <th>applied_taxes_benefits</th>\n",
       "      <th>applied_fees_benefits_topups</th>\n",
       "      <th>...</th>\n",
       "      <th>total_adjustment_fees_charged</th>\n",
       "      <th>total_adjustment_taxes</th>\n",
       "      <th>cobranza</th>\n",
       "      <th>total_released</th>\n",
       "      <th>total_retained</th>\n",
       "      <th>tipopago</th>\n",
       "      <th>total_due</th>\n",
       "      <th>Date</th>\n",
       "      <th>type</th>\n",
       "      <th>provider_code</th>\n",
       "    </tr>\n",
       "  </thead>\n",
       "  <tbody>\n",
       "  </tbody>\n",
       "</table>\n",
       "<p>0 rows × 26 columns</p>\n",
       "</div>"
      ],
      "text/plain": [
       "Empty DataFrame\n",
       "Columns: [merchant_id, user_email, report_id, report_date_local, total_transactions, total_fees_charged, total_taxes, applied_fees_benefits, applied_taxes_benefits, applied_fees_benefits_topups, applied_taxes_benefits_topups, applied_fees_benefits_coupons, applied_taxes_benefits_coupons, fee_direct_deposit, taxes_direct_deposit, total_adjustments, total_adjustment_fees_charged, total_adjustment_taxes, cobranza, total_released, total_retained, tipopago, total_due, Date, type, provider_code]\n",
       "Index: []\n",
       "\n",
       "[0 rows x 26 columns]"
      ]
     },
     "execution_count": 179,
     "metadata": {},
     "output_type": "execute_result"
    }
   ],
   "source": [
    "fact_total_last_day = fact_total[(fact_total['Date'] == start_date_last_day)]\n",
    "fact_total_last_day.head()"
   ]
  },
  {
   "cell_type": "code",
   "execution_count": 180,
   "metadata": {},
   "outputs": [
    {
     "data": {
      "text/plain": [
       "(0, 26)"
      ]
     },
     "execution_count": 180,
     "metadata": {},
     "output_type": "execute_result"
    }
   ],
   "source": [
    "fact_total_last_day.shape"
   ]
  },
  {
   "cell_type": "markdown",
   "metadata": {},
   "source": [
    "# EXCEL FINAL"
   ]
  },
  {
   "cell_type": "code",
   "execution_count": 181,
   "metadata": {},
   "outputs": [],
   "source": [
    "writer = pd.ExcelWriter('IngresoDiarioSettlement-ENERO 2024-CUPON.xlsx',\n",
    "                        engine='xlsxwriter',\n",
    "                        engine_kwargs={'options': {'encoding':'utf-8'}})\n",
    "fact_total_1.to_excel(writer, sheet_name='ENERO 01-31',index=False)\n",
    "# fact_total_2.to_excel(writer, sheet_name='ABRIL 11-20',index=False)\n",
    "# fact_total_3.to_excel(writer, sheet_name='ABRIL 21-30',index=False)\n",
    "# fact_total_4.to_excel(writer, sheet_name='MARZO 31',index=False)\n",
    "facturacion_by_date.to_excel(writer, sheet_name='Resumen by date',index=False)\n",
    "lender_amount_date_aph.to_excel(writer, sheet_name='APH by date',index=False)\n",
    "lender_amount_date_avl.to_excel(writer, sheet_name='AVL by date',index=False)\n",
    "lender_amount_date_clip.to_excel(writer, sheet_name='CLIP by date',index=False)\n",
    "lender_amount_date_cto.to_excel(writer, sheet_name='CTO by date',index=False)\n",
    "lender_amount_date_mrp.to_excel(writer, sheet_name='MRP by date',index=False)\n",
    "lender_amount_date_r2.to_excel(writer, sheet_name='R2 by date',index=False)\n",
    "lender_amount_date_mot.to_excel(writer, sheet_name='MOT by date',index=False)\n",
    "lender_amount_date_hcs.to_excel(writer, sheet_name='HCS by date',index=False)\n",
    "group_deferred_payments_status_1_fact_final.to_excel(writer, sheet_name='Deferred payments by date',index=False)\n",
    "union_dynamo_date.to_excel(writer, sheet_name='Ledger by date',index=False)\n",
    "deferred_payments_status_1_fact.to_excel(writer, sheet_name='Info deferred payments',index=False)\n",
    "dynamo.to_excel(writer, sheet_name='Ledger',index=False)\n",
    "facturacion_final.to_excel(writer, sheet_name='Resumen',index=False)\n",
    "facturacion_by_date_final.to_excel(writer,sheet_name='ENERO by date',index=False)\n",
    "writer.close()"
   ]
  },
  {
   "cell_type": "markdown",
   "metadata": {},
   "source": [
    "# CSV ULTIMO DIA FACTURACION Y TPV FACTURADO"
   ]
  },
  {
   "cell_type": "code",
   "execution_count": 182,
   "metadata": {},
   "outputs": [],
   "source": [
    "fact_total_last_day.to_csv('LAST DAY FACT ENERO 31 2024.csv',index=False)\n",
    "facturacion_by_date_final.to_csv('TPV FACTURADO ENERO 31 2024.csv',index=False)"
   ]
  },
  {
   "cell_type": "markdown",
   "metadata": {},
   "source": [
    "# PIVOT LENDER BY DATE"
   ]
  },
  {
   "cell_type": "code",
   "execution_count": 183,
   "metadata": {},
   "outputs": [],
   "source": [
    "# #facturacion_total_2 = pt.merge(lender_total_date[['date','Capital today', 'Interests today',\n",
    "#                                                    'IVA Interests today',\"tipo_loan\"]] ,on='date', how='left')\n",
    "#facturacion_total_2[\"Capital today\"].fillna(0,inplace=True)\n",
    "#facturacion_total_2[\"Interests today\"].fillna(0,inplace=True)\n",
    "#facturacion_total_2[\"IVA Interests today\"].fillna(0,inplace=True)\n",
    "#facturacion_total_2[\"tipo_loan\"].fillna(\"N/A\",inplace=True)\n",
    "#facturacion_total_2.head()"
   ]
  },
  {
   "cell_type": "code",
   "execution_count": 184,
   "metadata": {},
   "outputs": [],
   "source": [
    "#facturacion_total_2.shape"
   ]
  },
  {
   "cell_type": "code",
   "execution_count": null,
   "metadata": {},
   "outputs": [],
   "source": []
  }
 ],
 "metadata": {
  "kernelspec": {
   "display_name": "Python 3 (ipykernel)",
   "language": "python",
   "name": "python3"
  },
  "language_info": {
   "codemirror_mode": {
    "name": "ipython",
    "version": 3
   },
   "file_extension": ".py",
   "mimetype": "text/x-python",
   "name": "python",
   "nbconvert_exporter": "python",
   "pygments_lexer": "ipython3",
   "version": "3.9.18"
  }
 },
 "nbformat": 4,
 "nbformat_minor": 4
}
