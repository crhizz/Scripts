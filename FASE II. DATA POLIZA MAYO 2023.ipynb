{
 "cells": [
  {
   "cell_type": "code",
   "execution_count": 1,
   "metadata": {},
   "outputs": [
    {
     "data": {
      "text/plain": [
       "datetime.timedelta(days=1)"
      ]
     },
     "execution_count": 1,
     "metadata": {},
     "output_type": "execute_result"
    }
   ],
   "source": [
    "import pandas as pd\n",
    "import numpy as np\n",
    "from openpyxl import load_workbook\n",
    "import glob\n",
    "import os\n",
    "import datetime\n",
    "pd.options.display.float_format = '{:,.2f}'.format\n",
    "datetime.timedelta(days=1)\n",
    "datetime.timedelta(1)"
   ]
  },
  {
   "cell_type": "code",
   "execution_count": 2,
   "metadata": {},
   "outputs": [
    {
     "data": {
      "text/plain": [
       "['C:\\\\Users\\\\Cristian.Aparicio\\\\Documents\\\\POLIZAS\\\\2023\\\\05. MAYO\\\\DATA\\\\ADJUSTMENTS MAYO 2023.csv']"
      ]
     },
     "execution_count": 2,
     "metadata": {},
     "output_type": "execute_result"
    }
   ],
   "source": [
    "allfiles_adj = glob.glob(r'C:\\Users\\Cristian.Aparicio\\Documents\\POLIZAS\\2023\\05. MAYO\\DATA\\ADJ*.csv', recursive=False)\n",
    "allfiles_adj"
   ]
  },
  {
   "cell_type": "code",
   "execution_count": 3,
   "metadata": {},
   "outputs": [
    {
     "data": {
      "text/plain": [
       "['C:\\\\Users\\\\Cristian.Aparicio\\\\Documents\\\\POLIZAS\\\\2023\\\\05. MAYO\\\\DATA\\\\RETENCIONES MAYO 2023.csv']"
      ]
     },
     "execution_count": 3,
     "metadata": {},
     "output_type": "execute_result"
    }
   ],
   "source": [
    "allfiles_ret = glob.glob(r'C:\\Users\\Cristian.Aparicio\\Documents\\POLIZAS\\2023\\05. MAYO\\DATA\\RET*.csv', recursive=False)\n",
    "allfiles_ret"
   ]
  },
  {
   "cell_type": "code",
   "execution_count": 4,
   "metadata": {},
   "outputs": [
    {
     "data": {
      "text/plain": [
       "['C:\\\\Users\\\\Cristian.Aparicio\\\\Documents\\\\POLIZAS\\\\2023\\\\05. MAYO\\\\DATA\\\\LIBERACIONES MAYO 2023.csv']"
      ]
     },
     "execution_count": 4,
     "metadata": {},
     "output_type": "execute_result"
    }
   ],
   "source": [
    "allfiles_lib = glob.glob(r'C:\\Users\\Cristian.Aparicio\\Documents\\POLIZAS\\2023\\05. MAYO\\DATA\\LIB*.csv', recursive=False)\n",
    "allfiles_lib"
   ]
  },
  {
   "cell_type": "code",
   "execution_count": 5,
   "metadata": {},
   "outputs": [
    {
     "data": {
      "text/plain": [
       "['G:\\\\.shortcut-targets-by-id\\\\1Oe28Mf9uSidMamjllDen2gkNnC59eSUr\\\\3.-Settlement\\\\5.-HISTORICO FILES PAGOS\\\\01. TRADICIONAL\\\\2023\\\\05. MAY\\\\MONTOS EMAIL\\\\DIFF MONTOS-BNTE-1 2023-05-01.csv',\n",
       " 'G:\\\\.shortcut-targets-by-id\\\\1Oe28Mf9uSidMamjllDen2gkNnC59eSUr\\\\3.-Settlement\\\\5.-HISTORICO FILES PAGOS\\\\01. TRADICIONAL\\\\2023\\\\05. MAY\\\\MONTOS EMAIL\\\\DIFF MONTOS-BNTE-1 2023-05-06.csv',\n",
       " 'G:\\\\.shortcut-targets-by-id\\\\1Oe28Mf9uSidMamjllDen2gkNnC59eSUr\\\\3.-Settlement\\\\5.-HISTORICO FILES PAGOS\\\\01. TRADICIONAL\\\\2023\\\\05. MAY\\\\MONTOS EMAIL\\\\DIFF MONTOS-BNTE-1 2023-05-07.csv',\n",
       " 'G:\\\\.shortcut-targets-by-id\\\\1Oe28Mf9uSidMamjllDen2gkNnC59eSUr\\\\3.-Settlement\\\\5.-HISTORICO FILES PAGOS\\\\01. TRADICIONAL\\\\2023\\\\05. MAY\\\\MONTOS EMAIL\\\\DIFF MONTOS-BNTE-1 2023-05-13.csv',\n",
       " 'G:\\\\.shortcut-targets-by-id\\\\1Oe28Mf9uSidMamjllDen2gkNnC59eSUr\\\\3.-Settlement\\\\5.-HISTORICO FILES PAGOS\\\\01. TRADICIONAL\\\\2023\\\\05. MAY\\\\MONTOS EMAIL\\\\DIFF MONTOS-BNTE-1 2023-05-14.csv',\n",
       " 'G:\\\\.shortcut-targets-by-id\\\\1Oe28Mf9uSidMamjllDen2gkNnC59eSUr\\\\3.-Settlement\\\\5.-HISTORICO FILES PAGOS\\\\01. TRADICIONAL\\\\2023\\\\05. MAY\\\\MONTOS EMAIL\\\\DIFF MONTOS-BNTE-1 2023-05-20.csv',\n",
       " 'G:\\\\.shortcut-targets-by-id\\\\1Oe28Mf9uSidMamjllDen2gkNnC59eSUr\\\\3.-Settlement\\\\5.-HISTORICO FILES PAGOS\\\\01. TRADICIONAL\\\\2023\\\\05. MAY\\\\MONTOS EMAIL\\\\DIFF MONTOS-BNTE-1 2023-05-21.csv',\n",
       " 'G:\\\\.shortcut-targets-by-id\\\\1Oe28Mf9uSidMamjllDen2gkNnC59eSUr\\\\3.-Settlement\\\\5.-HISTORICO FILES PAGOS\\\\01. TRADICIONAL\\\\2023\\\\05. MAY\\\\MONTOS EMAIL\\\\DIFF MONTOS-BNTE-1 2023-05-27.csv',\n",
       " 'G:\\\\.shortcut-targets-by-id\\\\1Oe28Mf9uSidMamjllDen2gkNnC59eSUr\\\\3.-Settlement\\\\5.-HISTORICO FILES PAGOS\\\\01. TRADICIONAL\\\\2023\\\\05. MAY\\\\MONTOS EMAIL\\\\DIFF MONTOS-BNTE-1 2023-05-28.csv',\n",
       " 'G:\\\\.shortcut-targets-by-id\\\\1Oe28Mf9uSidMamjllDen2gkNnC59eSUr\\\\3.-Settlement\\\\5.-HISTORICO FILES PAGOS\\\\01. TRADICIONAL\\\\2023\\\\05. MAY\\\\MONTOS EMAIL\\\\DIFF MONTOS-BNTE-2 2023-05-01.csv',\n",
       " 'G:\\\\.shortcut-targets-by-id\\\\1Oe28Mf9uSidMamjllDen2gkNnC59eSUr\\\\3.-Settlement\\\\5.-HISTORICO FILES PAGOS\\\\01. TRADICIONAL\\\\2023\\\\05. MAY\\\\MONTOS EMAIL\\\\DIFF MONTOS-BNTE-2 2023-05-02.csv',\n",
       " 'G:\\\\.shortcut-targets-by-id\\\\1Oe28Mf9uSidMamjllDen2gkNnC59eSUr\\\\3.-Settlement\\\\5.-HISTORICO FILES PAGOS\\\\01. TRADICIONAL\\\\2023\\\\05. MAY\\\\MONTOS EMAIL\\\\DIFF MONTOS-BNTE-2 2023-05-06.csv',\n",
       " 'G:\\\\.shortcut-targets-by-id\\\\1Oe28Mf9uSidMamjllDen2gkNnC59eSUr\\\\3.-Settlement\\\\5.-HISTORICO FILES PAGOS\\\\01. TRADICIONAL\\\\2023\\\\05. MAY\\\\MONTOS EMAIL\\\\DIFF MONTOS-BNTE-2 2023-05-07.csv',\n",
       " 'G:\\\\.shortcut-targets-by-id\\\\1Oe28Mf9uSidMamjllDen2gkNnC59eSUr\\\\3.-Settlement\\\\5.-HISTORICO FILES PAGOS\\\\01. TRADICIONAL\\\\2023\\\\05. MAY\\\\MONTOS EMAIL\\\\DIFF MONTOS-BNTE-2 2023-05-08.csv',\n",
       " 'G:\\\\.shortcut-targets-by-id\\\\1Oe28Mf9uSidMamjllDen2gkNnC59eSUr\\\\3.-Settlement\\\\5.-HISTORICO FILES PAGOS\\\\01. TRADICIONAL\\\\2023\\\\05. MAY\\\\MONTOS EMAIL\\\\DIFF MONTOS-BNTE-2 2023-05-13.csv',\n",
       " 'G:\\\\.shortcut-targets-by-id\\\\1Oe28Mf9uSidMamjllDen2gkNnC59eSUr\\\\3.-Settlement\\\\5.-HISTORICO FILES PAGOS\\\\01. TRADICIONAL\\\\2023\\\\05. MAY\\\\MONTOS EMAIL\\\\DIFF MONTOS-BNTE-2 2023-05-14.csv',\n",
       " 'G:\\\\.shortcut-targets-by-id\\\\1Oe28Mf9uSidMamjllDen2gkNnC59eSUr\\\\3.-Settlement\\\\5.-HISTORICO FILES PAGOS\\\\01. TRADICIONAL\\\\2023\\\\05. MAY\\\\MONTOS EMAIL\\\\DIFF MONTOS-BNTE-2 2023-05-15.csv',\n",
       " 'G:\\\\.shortcut-targets-by-id\\\\1Oe28Mf9uSidMamjllDen2gkNnC59eSUr\\\\3.-Settlement\\\\5.-HISTORICO FILES PAGOS\\\\01. TRADICIONAL\\\\2023\\\\05. MAY\\\\MONTOS EMAIL\\\\DIFF MONTOS-BNTE-2 2023-05-20.csv',\n",
       " 'G:\\\\.shortcut-targets-by-id\\\\1Oe28Mf9uSidMamjllDen2gkNnC59eSUr\\\\3.-Settlement\\\\5.-HISTORICO FILES PAGOS\\\\01. TRADICIONAL\\\\2023\\\\05. MAY\\\\MONTOS EMAIL\\\\DIFF MONTOS-BNTE-2 2023-05-21.csv',\n",
       " 'G:\\\\.shortcut-targets-by-id\\\\1Oe28Mf9uSidMamjllDen2gkNnC59eSUr\\\\3.-Settlement\\\\5.-HISTORICO FILES PAGOS\\\\01. TRADICIONAL\\\\2023\\\\05. MAY\\\\MONTOS EMAIL\\\\DIFF MONTOS-BNTE-2 2023-05-22.csv',\n",
       " 'G:\\\\.shortcut-targets-by-id\\\\1Oe28Mf9uSidMamjllDen2gkNnC59eSUr\\\\3.-Settlement\\\\5.-HISTORICO FILES PAGOS\\\\01. TRADICIONAL\\\\2023\\\\05. MAY\\\\MONTOS EMAIL\\\\DIFF MONTOS-BNTE-2 2023-05-23.csv',\n",
       " 'G:\\\\.shortcut-targets-by-id\\\\1Oe28Mf9uSidMamjllDen2gkNnC59eSUr\\\\3.-Settlement\\\\5.-HISTORICO FILES PAGOS\\\\01. TRADICIONAL\\\\2023\\\\05. MAY\\\\MONTOS EMAIL\\\\DIFF MONTOS-BNTE-2 2023-05-24.csv',\n",
       " 'G:\\\\.shortcut-targets-by-id\\\\1Oe28Mf9uSidMamjllDen2gkNnC59eSUr\\\\3.-Settlement\\\\5.-HISTORICO FILES PAGOS\\\\01. TRADICIONAL\\\\2023\\\\05. MAY\\\\MONTOS EMAIL\\\\DIFF MONTOS-BNTE-2 2023-05-25.csv',\n",
       " 'G:\\\\.shortcut-targets-by-id\\\\1Oe28Mf9uSidMamjllDen2gkNnC59eSUr\\\\3.-Settlement\\\\5.-HISTORICO FILES PAGOS\\\\01. TRADICIONAL\\\\2023\\\\05. MAY\\\\MONTOS EMAIL\\\\DIFF MONTOS-BNTE-2 2023-05-27.csv',\n",
       " 'G:\\\\.shortcut-targets-by-id\\\\1Oe28Mf9uSidMamjllDen2gkNnC59eSUr\\\\3.-Settlement\\\\5.-HISTORICO FILES PAGOS\\\\01. TRADICIONAL\\\\2023\\\\05. MAY\\\\MONTOS EMAIL\\\\DIFF MONTOS-BNTE-2 2023-05-28.csv',\n",
       " 'G:\\\\.shortcut-targets-by-id\\\\1Oe28Mf9uSidMamjllDen2gkNnC59eSUr\\\\3.-Settlement\\\\5.-HISTORICO FILES PAGOS\\\\01. TRADICIONAL\\\\2023\\\\05. MAY\\\\MONTOS EMAIL\\\\DIFF MONTOS-BNTE-2 2023-05-29.csv',\n",
       " 'G:\\\\.shortcut-targets-by-id\\\\1Oe28Mf9uSidMamjllDen2gkNnC59eSUr\\\\3.-Settlement\\\\5.-HISTORICO FILES PAGOS\\\\01. TRADICIONAL\\\\2023\\\\05. MAY\\\\MONTOS EMAIL\\\\DIFF MONTOS-BNTE-2 2023-05-30.csv',\n",
       " 'G:\\\\.shortcut-targets-by-id\\\\1Oe28Mf9uSidMamjllDen2gkNnC59eSUr\\\\3.-Settlement\\\\5.-HISTORICO FILES PAGOS\\\\01. TRADICIONAL\\\\2023\\\\05. MAY\\\\MONTOS EMAIL\\\\DIFF MONTOS-BNTE-3 2023-05-03.csv',\n",
       " 'G:\\\\.shortcut-targets-by-id\\\\1Oe28Mf9uSidMamjllDen2gkNnC59eSUr\\\\3.-Settlement\\\\5.-HISTORICO FILES PAGOS\\\\01. TRADICIONAL\\\\2023\\\\05. MAY\\\\MONTOS EMAIL\\\\DIFF MONTOS-BNTE-3 2023-05-04.csv',\n",
       " 'G:\\\\.shortcut-targets-by-id\\\\1Oe28Mf9uSidMamjllDen2gkNnC59eSUr\\\\3.-Settlement\\\\5.-HISTORICO FILES PAGOS\\\\01. TRADICIONAL\\\\2023\\\\05. MAY\\\\MONTOS EMAIL\\\\DIFF MONTOS-BNTE-3 2023-05-05.csv',\n",
       " 'G:\\\\.shortcut-targets-by-id\\\\1Oe28Mf9uSidMamjllDen2gkNnC59eSUr\\\\3.-Settlement\\\\5.-HISTORICO FILES PAGOS\\\\01. TRADICIONAL\\\\2023\\\\05. MAY\\\\MONTOS EMAIL\\\\DIFF MONTOS-BNTE-3 2023-05-09.csv',\n",
       " 'G:\\\\.shortcut-targets-by-id\\\\1Oe28Mf9uSidMamjllDen2gkNnC59eSUr\\\\3.-Settlement\\\\5.-HISTORICO FILES PAGOS\\\\01. TRADICIONAL\\\\2023\\\\05. MAY\\\\MONTOS EMAIL\\\\DIFF MONTOS-BNTE-3 2023-05-10.csv',\n",
       " 'G:\\\\.shortcut-targets-by-id\\\\1Oe28Mf9uSidMamjllDen2gkNnC59eSUr\\\\3.-Settlement\\\\5.-HISTORICO FILES PAGOS\\\\01. TRADICIONAL\\\\2023\\\\05. MAY\\\\MONTOS EMAIL\\\\DIFF MONTOS-BNTE-3 2023-05-12.csv',\n",
       " 'G:\\\\.shortcut-targets-by-id\\\\1Oe28Mf9uSidMamjllDen2gkNnC59eSUr\\\\3.-Settlement\\\\5.-HISTORICO FILES PAGOS\\\\01. TRADICIONAL\\\\2023\\\\05. MAY\\\\MONTOS EMAIL\\\\DIFF MONTOS-BNTE-3 2023-05-16.csv',\n",
       " 'G:\\\\.shortcut-targets-by-id\\\\1Oe28Mf9uSidMamjllDen2gkNnC59eSUr\\\\3.-Settlement\\\\5.-HISTORICO FILES PAGOS\\\\01. TRADICIONAL\\\\2023\\\\05. MAY\\\\MONTOS EMAIL\\\\DIFF MONTOS-BNTE-3 2023-05-17.csv',\n",
       " 'G:\\\\.shortcut-targets-by-id\\\\1Oe28Mf9uSidMamjllDen2gkNnC59eSUr\\\\3.-Settlement\\\\5.-HISTORICO FILES PAGOS\\\\01. TRADICIONAL\\\\2023\\\\05. MAY\\\\MONTOS EMAIL\\\\DIFF MONTOS-BNTE-3 2023-05-18.csv',\n",
       " 'G:\\\\.shortcut-targets-by-id\\\\1Oe28Mf9uSidMamjllDen2gkNnC59eSUr\\\\3.-Settlement\\\\5.-HISTORICO FILES PAGOS\\\\01. TRADICIONAL\\\\2023\\\\05. MAY\\\\MONTOS EMAIL\\\\DIFF MONTOS-BNTE-3 2023-05-19.csv',\n",
       " 'G:\\\\.shortcut-targets-by-id\\\\1Oe28Mf9uSidMamjllDen2gkNnC59eSUr\\\\3.-Settlement\\\\5.-HISTORICO FILES PAGOS\\\\01. TRADICIONAL\\\\2023\\\\05. MAY\\\\MONTOS EMAIL\\\\DIFF MONTOS-BNTE-3 2023-05-26.csv',\n",
       " 'G:\\\\.shortcut-targets-by-id\\\\1Oe28Mf9uSidMamjllDen2gkNnC59eSUr\\\\3.-Settlement\\\\5.-HISTORICO FILES PAGOS\\\\01. TRADICIONAL\\\\2023\\\\05. MAY\\\\MONTOS EMAIL\\\\DIFF MONTOS-BNTE-3 2023-05-31.csv',\n",
       " 'G:\\\\.shortcut-targets-by-id\\\\1Oe28Mf9uSidMamjllDen2gkNnC59eSUr\\\\3.-Settlement\\\\5.-HISTORICO FILES PAGOS\\\\01. TRADICIONAL\\\\2023\\\\05. MAY\\\\MONTOS EMAIL\\\\DIFF MONTOS-SANT-1 2023-05-02.csv',\n",
       " 'G:\\\\.shortcut-targets-by-id\\\\1Oe28Mf9uSidMamjllDen2gkNnC59eSUr\\\\3.-Settlement\\\\5.-HISTORICO FILES PAGOS\\\\01. TRADICIONAL\\\\2023\\\\05. MAY\\\\MONTOS EMAIL\\\\DIFF MONTOS-SANT-1 2023-05-03.csv',\n",
       " 'G:\\\\.shortcut-targets-by-id\\\\1Oe28Mf9uSidMamjllDen2gkNnC59eSUr\\\\3.-Settlement\\\\5.-HISTORICO FILES PAGOS\\\\01. TRADICIONAL\\\\2023\\\\05. MAY\\\\MONTOS EMAIL\\\\DIFF MONTOS-SANT-1 2023-05-04.csv',\n",
       " 'G:\\\\.shortcut-targets-by-id\\\\1Oe28Mf9uSidMamjllDen2gkNnC59eSUr\\\\3.-Settlement\\\\5.-HISTORICO FILES PAGOS\\\\01. TRADICIONAL\\\\2023\\\\05. MAY\\\\MONTOS EMAIL\\\\DIFF MONTOS-SANT-1 2023-05-05.csv',\n",
       " 'G:\\\\.shortcut-targets-by-id\\\\1Oe28Mf9uSidMamjllDen2gkNnC59eSUr\\\\3.-Settlement\\\\5.-HISTORICO FILES PAGOS\\\\01. TRADICIONAL\\\\2023\\\\05. MAY\\\\MONTOS EMAIL\\\\DIFF MONTOS-SANT-1 2023-05-08.csv',\n",
       " 'G:\\\\.shortcut-targets-by-id\\\\1Oe28Mf9uSidMamjllDen2gkNnC59eSUr\\\\3.-Settlement\\\\5.-HISTORICO FILES PAGOS\\\\01. TRADICIONAL\\\\2023\\\\05. MAY\\\\MONTOS EMAIL\\\\DIFF MONTOS-SANT-1 2023-05-09.csv',\n",
       " 'G:\\\\.shortcut-targets-by-id\\\\1Oe28Mf9uSidMamjllDen2gkNnC59eSUr\\\\3.-Settlement\\\\5.-HISTORICO FILES PAGOS\\\\01. TRADICIONAL\\\\2023\\\\05. MAY\\\\MONTOS EMAIL\\\\DIFF MONTOS-SANT-1 2023-05-10.csv',\n",
       " 'G:\\\\.shortcut-targets-by-id\\\\1Oe28Mf9uSidMamjllDen2gkNnC59eSUr\\\\3.-Settlement\\\\5.-HISTORICO FILES PAGOS\\\\01. TRADICIONAL\\\\2023\\\\05. MAY\\\\MONTOS EMAIL\\\\DIFF MONTOS-SANT-1 2023-05-11.csv',\n",
       " 'G:\\\\.shortcut-targets-by-id\\\\1Oe28Mf9uSidMamjllDen2gkNnC59eSUr\\\\3.-Settlement\\\\5.-HISTORICO FILES PAGOS\\\\01. TRADICIONAL\\\\2023\\\\05. MAY\\\\MONTOS EMAIL\\\\DIFF MONTOS-SANT-1 2023-05-12.csv',\n",
       " 'G:\\\\.shortcut-targets-by-id\\\\1Oe28Mf9uSidMamjllDen2gkNnC59eSUr\\\\3.-Settlement\\\\5.-HISTORICO FILES PAGOS\\\\01. TRADICIONAL\\\\2023\\\\05. MAY\\\\MONTOS EMAIL\\\\DIFF MONTOS-SANT-1 2023-05-15.csv',\n",
       " 'G:\\\\.shortcut-targets-by-id\\\\1Oe28Mf9uSidMamjllDen2gkNnC59eSUr\\\\3.-Settlement\\\\5.-HISTORICO FILES PAGOS\\\\01. TRADICIONAL\\\\2023\\\\05. MAY\\\\MONTOS EMAIL\\\\DIFF MONTOS-SANT-1 2023-05-16.csv',\n",
       " 'G:\\\\.shortcut-targets-by-id\\\\1Oe28Mf9uSidMamjllDen2gkNnC59eSUr\\\\3.-Settlement\\\\5.-HISTORICO FILES PAGOS\\\\01. TRADICIONAL\\\\2023\\\\05. MAY\\\\MONTOS EMAIL\\\\DIFF MONTOS-SANT-1 2023-05-17.csv',\n",
       " 'G:\\\\.shortcut-targets-by-id\\\\1Oe28Mf9uSidMamjllDen2gkNnC59eSUr\\\\3.-Settlement\\\\5.-HISTORICO FILES PAGOS\\\\01. TRADICIONAL\\\\2023\\\\05. MAY\\\\MONTOS EMAIL\\\\DIFF MONTOS-SANT-1 2023-05-18.csv',\n",
       " 'G:\\\\.shortcut-targets-by-id\\\\1Oe28Mf9uSidMamjllDen2gkNnC59eSUr\\\\3.-Settlement\\\\5.-HISTORICO FILES PAGOS\\\\01. TRADICIONAL\\\\2023\\\\05. MAY\\\\MONTOS EMAIL\\\\DIFF MONTOS-SANT-1 2023-05-19.csv',\n",
       " 'G:\\\\.shortcut-targets-by-id\\\\1Oe28Mf9uSidMamjllDen2gkNnC59eSUr\\\\3.-Settlement\\\\5.-HISTORICO FILES PAGOS\\\\01. TRADICIONAL\\\\2023\\\\05. MAY\\\\MONTOS EMAIL\\\\DIFF MONTOS-SANT-1 2023-05-22.csv',\n",
       " 'G:\\\\.shortcut-targets-by-id\\\\1Oe28Mf9uSidMamjllDen2gkNnC59eSUr\\\\3.-Settlement\\\\5.-HISTORICO FILES PAGOS\\\\01. TRADICIONAL\\\\2023\\\\05. MAY\\\\MONTOS EMAIL\\\\DIFF MONTOS-SANT-1 2023-05-23.csv',\n",
       " 'G:\\\\.shortcut-targets-by-id\\\\1Oe28Mf9uSidMamjllDen2gkNnC59eSUr\\\\3.-Settlement\\\\5.-HISTORICO FILES PAGOS\\\\01. TRADICIONAL\\\\2023\\\\05. MAY\\\\MONTOS EMAIL\\\\DIFF MONTOS-SANT-1 2023-05-24.csv',\n",
       " 'G:\\\\.shortcut-targets-by-id\\\\1Oe28Mf9uSidMamjllDen2gkNnC59eSUr\\\\3.-Settlement\\\\5.-HISTORICO FILES PAGOS\\\\01. TRADICIONAL\\\\2023\\\\05. MAY\\\\MONTOS EMAIL\\\\DIFF MONTOS-SANT-1 2023-05-25.csv',\n",
       " 'G:\\\\.shortcut-targets-by-id\\\\1Oe28Mf9uSidMamjllDen2gkNnC59eSUr\\\\3.-Settlement\\\\5.-HISTORICO FILES PAGOS\\\\01. TRADICIONAL\\\\2023\\\\05. MAY\\\\MONTOS EMAIL\\\\DIFF MONTOS-SANT-1 2023-05-26.csv',\n",
       " 'G:\\\\.shortcut-targets-by-id\\\\1Oe28Mf9uSidMamjllDen2gkNnC59eSUr\\\\3.-Settlement\\\\5.-HISTORICO FILES PAGOS\\\\01. TRADICIONAL\\\\2023\\\\05. MAY\\\\MONTOS EMAIL\\\\DIFF MONTOS-SANT-1 2023-05-29.csv',\n",
       " 'G:\\\\.shortcut-targets-by-id\\\\1Oe28Mf9uSidMamjllDen2gkNnC59eSUr\\\\3.-Settlement\\\\5.-HISTORICO FILES PAGOS\\\\01. TRADICIONAL\\\\2023\\\\05. MAY\\\\MONTOS EMAIL\\\\DIFF MONTOS-SANT-1 2023-05-30.csv',\n",
       " 'G:\\\\.shortcut-targets-by-id\\\\1Oe28Mf9uSidMamjllDen2gkNnC59eSUr\\\\3.-Settlement\\\\5.-HISTORICO FILES PAGOS\\\\01. TRADICIONAL\\\\2023\\\\05. MAY\\\\MONTOS EMAIL\\\\DIFF MONTOS-SANT-1 2023-05-31.csv',\n",
       " 'G:\\\\.shortcut-targets-by-id\\\\1Oe28Mf9uSidMamjllDen2gkNnC59eSUr\\\\3.-Settlement\\\\5.-HISTORICO FILES PAGOS\\\\01. TRADICIONAL\\\\2023\\\\05. MAY\\\\MONTOS EMAIL\\\\DIFF MONTOS-SANT-2 2023-05-03.csv',\n",
       " 'G:\\\\.shortcut-targets-by-id\\\\1Oe28Mf9uSidMamjllDen2gkNnC59eSUr\\\\3.-Settlement\\\\5.-HISTORICO FILES PAGOS\\\\01. TRADICIONAL\\\\2023\\\\05. MAY\\\\MONTOS EMAIL\\\\DIFF MONTOS-SANT-2 2023-05-04.csv',\n",
       " 'G:\\\\.shortcut-targets-by-id\\\\1Oe28Mf9uSidMamjllDen2gkNnC59eSUr\\\\3.-Settlement\\\\5.-HISTORICO FILES PAGOS\\\\01. TRADICIONAL\\\\2023\\\\05. MAY\\\\MONTOS EMAIL\\\\DIFF MONTOS-SANT-2 2023-05-05.csv',\n",
       " 'G:\\\\.shortcut-targets-by-id\\\\1Oe28Mf9uSidMamjllDen2gkNnC59eSUr\\\\3.-Settlement\\\\5.-HISTORICO FILES PAGOS\\\\01. TRADICIONAL\\\\2023\\\\05. MAY\\\\MONTOS EMAIL\\\\DIFF MONTOS-SANT-2 2023-05-09.csv',\n",
       " 'G:\\\\.shortcut-targets-by-id\\\\1Oe28Mf9uSidMamjllDen2gkNnC59eSUr\\\\3.-Settlement\\\\5.-HISTORICO FILES PAGOS\\\\01. TRADICIONAL\\\\2023\\\\05. MAY\\\\MONTOS EMAIL\\\\DIFF MONTOS-SANT-2 2023-05-10.csv',\n",
       " 'G:\\\\.shortcut-targets-by-id\\\\1Oe28Mf9uSidMamjllDen2gkNnC59eSUr\\\\3.-Settlement\\\\5.-HISTORICO FILES PAGOS\\\\01. TRADICIONAL\\\\2023\\\\05. MAY\\\\MONTOS EMAIL\\\\DIFF MONTOS-SANT-2 2023-05-12.csv',\n",
       " 'G:\\\\.shortcut-targets-by-id\\\\1Oe28Mf9uSidMamjllDen2gkNnC59eSUr\\\\3.-Settlement\\\\5.-HISTORICO FILES PAGOS\\\\01. TRADICIONAL\\\\2023\\\\05. MAY\\\\MONTOS EMAIL\\\\DIFF MONTOS-SANT-2 2023-05-16.csv',\n",
       " 'G:\\\\.shortcut-targets-by-id\\\\1Oe28Mf9uSidMamjllDen2gkNnC59eSUr\\\\3.-Settlement\\\\5.-HISTORICO FILES PAGOS\\\\01. TRADICIONAL\\\\2023\\\\05. MAY\\\\MONTOS EMAIL\\\\DIFF MONTOS-SANT-2 2023-05-17.csv',\n",
       " 'G:\\\\.shortcut-targets-by-id\\\\1Oe28Mf9uSidMamjllDen2gkNnC59eSUr\\\\3.-Settlement\\\\5.-HISTORICO FILES PAGOS\\\\01. TRADICIONAL\\\\2023\\\\05. MAY\\\\MONTOS EMAIL\\\\DIFF MONTOS-SANT-2 2023-05-18.csv',\n",
       " 'G:\\\\.shortcut-targets-by-id\\\\1Oe28Mf9uSidMamjllDen2gkNnC59eSUr\\\\3.-Settlement\\\\5.-HISTORICO FILES PAGOS\\\\01. TRADICIONAL\\\\2023\\\\05. MAY\\\\MONTOS EMAIL\\\\DIFF MONTOS-SANT-2 2023-05-19.csv',\n",
       " 'G:\\\\.shortcut-targets-by-id\\\\1Oe28Mf9uSidMamjllDen2gkNnC59eSUr\\\\3.-Settlement\\\\5.-HISTORICO FILES PAGOS\\\\01. TRADICIONAL\\\\2023\\\\05. MAY\\\\MONTOS EMAIL\\\\DIFF MONTOS-SANT-2 2023-05-26.csv',\n",
       " 'G:\\\\.shortcut-targets-by-id\\\\1Oe28Mf9uSidMamjllDen2gkNnC59eSUr\\\\3.-Settlement\\\\5.-HISTORICO FILES PAGOS\\\\01. TRADICIONAL\\\\2023\\\\05. MAY\\\\MONTOS EMAIL\\\\DIFF MONTOS-SANT-2 2023-05-31.csv']"
      ]
     },
     "execution_count": 5,
     "metadata": {},
     "output_type": "execute_result"
    }
   ],
   "source": [
    "allfiles_com = sorted(glob.glob(r'G:\\.shortcut-targets-by-id\\1Oe28Mf9uSidMamjllDen2gkNnC59eSUr\\3.-Settlement\\5.-HISTORICO FILES PAGOS\\01. TRADICIONAL\\2023\\05. MAY\\MONTOS EMAIL\\*.csv', recursive=False))\n",
    "allfiles_com"
   ]
  },
  {
   "cell_type": "code",
   "execution_count": 6,
   "metadata": {},
   "outputs": [
    {
     "data": {
      "text/plain": [
       "['G:\\\\My Drive\\\\RESPALDO-PC\\\\LENDERS\\\\2023\\\\DB\\\\LENDERS DB ENERO 2023.csv',\n",
       " 'G:\\\\My Drive\\\\RESPALDO-PC\\\\LENDERS\\\\2023\\\\DB\\\\LENDERS DB FEBRERO 2023.csv',\n",
       " 'G:\\\\My Drive\\\\RESPALDO-PC\\\\LENDERS\\\\2023\\\\DB\\\\LENDERS DB MARZO 2023.csv',\n",
       " 'G:\\\\My Drive\\\\RESPALDO-PC\\\\LENDERS\\\\2023\\\\DB\\\\LENDERS DB ABRIL 2023.csv',\n",
       " 'G:\\\\My Drive\\\\RESPALDO-PC\\\\LENDERS\\\\2023\\\\DB\\\\LENDERS DB MAYO 2023.csv']"
      ]
     },
     "execution_count": 6,
     "metadata": {},
     "output_type": "execute_result"
    }
   ],
   "source": [
    "allfiles_lender = glob.glob(r'G:\\My Drive\\RESPALDO-PC\\LENDERS\\2023\\DB\\LEN*.csv', recursive=False)\n",
    "allfiles_lender"
   ]
  },
  {
   "cell_type": "code",
   "execution_count": 7,
   "metadata": {},
   "outputs": [],
   "source": [
    "start_date = '2023-05-01'\n",
    "final_date = '2023-05-31'"
   ]
  },
  {
   "cell_type": "markdown",
   "metadata": {},
   "source": [
    "# ADJUSTMENTS"
   ]
  },
  {
   "cell_type": "code",
   "execution_count": 8,
   "metadata": {},
   "outputs": [
    {
     "data": {
      "text/html": [
       "<div>\n",
       "<style scoped>\n",
       "    .dataframe tbody tr th:only-of-type {\n",
       "        vertical-align: middle;\n",
       "    }\n",
       "\n",
       "    .dataframe tbody tr th {\n",
       "        vertical-align: top;\n",
       "    }\n",
       "\n",
       "    .dataframe thead th {\n",
       "        text-align: right;\n",
       "    }\n",
       "</style>\n",
       "<table border=\"1\" class=\"dataframe\">\n",
       "  <thead>\n",
       "    <tr style=\"text-align: right;\">\n",
       "      <th></th>\n",
       "      <th>report_id</th>\n",
       "      <th>report_date_local</th>\n",
       "      <th>adjustment_date_local</th>\n",
       "      <th>adjustment_type</th>\n",
       "      <th>adjustment_amount</th>\n",
       "      <th>fees_charged</th>\n",
       "      <th>taxes</th>\n",
       "      <th>amount_due</th>\n",
       "      <th>type</th>\n",
       "      <th>date</th>\n",
       "      <th>file_name</th>\n",
       "    </tr>\n",
       "  </thead>\n",
       "  <tbody>\n",
       "    <tr>\n",
       "      <th>0</th>\n",
       "      <td>NLKYXP39J</td>\n",
       "      <td>2023-05-01</td>\n",
       "      <td>2023-05-01</td>\n",
       "      <td>LOAN</td>\n",
       "      <td>-1.22</td>\n",
       "      <td>0.00</td>\n",
       "      <td>0.00</td>\n",
       "      <td>-1.22</td>\n",
       "      <td>DAILY</td>\n",
       "      <td>2023-05-01</td>\n",
       "      <td>ADJUSTMENTS MAYO 2023.csv</td>\n",
       "    </tr>\n",
       "    <tr>\n",
       "      <th>1</th>\n",
       "      <td>FW7FTZ4NZ</td>\n",
       "      <td>2023-05-01</td>\n",
       "      <td>2023-05-01</td>\n",
       "      <td>LOAN</td>\n",
       "      <td>-4.02</td>\n",
       "      <td>0.00</td>\n",
       "      <td>0.00</td>\n",
       "      <td>-4.02</td>\n",
       "      <td>DAILY</td>\n",
       "      <td>2023-05-01</td>\n",
       "      <td>ADJUSTMENTS MAYO 2023.csv</td>\n",
       "    </tr>\n",
       "    <tr>\n",
       "      <th>2</th>\n",
       "      <td>NCDVLQS6T</td>\n",
       "      <td>2023-05-01</td>\n",
       "      <td>2023-05-01</td>\n",
       "      <td>LOAN</td>\n",
       "      <td>-0.20</td>\n",
       "      <td>0.00</td>\n",
       "      <td>0.00</td>\n",
       "      <td>-0.20</td>\n",
       "      <td>DAILY</td>\n",
       "      <td>2023-05-01</td>\n",
       "      <td>ADJUSTMENTS MAYO 2023.csv</td>\n",
       "    </tr>\n",
       "    <tr>\n",
       "      <th>3</th>\n",
       "      <td>KQM7GHR6W</td>\n",
       "      <td>2023-05-01</td>\n",
       "      <td>2023-05-01</td>\n",
       "      <td>LOAN</td>\n",
       "      <td>-0.36</td>\n",
       "      <td>0.00</td>\n",
       "      <td>0.00</td>\n",
       "      <td>-0.36</td>\n",
       "      <td>DAILY</td>\n",
       "      <td>2023-05-01</td>\n",
       "      <td>ADJUSTMENTS MAYO 2023.csv</td>\n",
       "    </tr>\n",
       "    <tr>\n",
       "      <th>4</th>\n",
       "      <td>JYZW4NLSV</td>\n",
       "      <td>2023-05-01</td>\n",
       "      <td>2023-05-01</td>\n",
       "      <td>LOAN</td>\n",
       "      <td>-3.20</td>\n",
       "      <td>0.00</td>\n",
       "      <td>0.00</td>\n",
       "      <td>-3.20</td>\n",
       "      <td>DAILY</td>\n",
       "      <td>2023-05-01</td>\n",
       "      <td>ADJUSTMENTS MAYO 2023.csv</td>\n",
       "    </tr>\n",
       "  </tbody>\n",
       "</table>\n",
       "</div>"
      ],
      "text/plain": [
       "   report_id report_date_local adjustment_date_local adjustment_type  \\\n",
       "0  NLKYXP39J        2023-05-01            2023-05-01            LOAN   \n",
       "1  FW7FTZ4NZ        2023-05-01            2023-05-01            LOAN   \n",
       "2  NCDVLQS6T        2023-05-01            2023-05-01            LOAN   \n",
       "3  KQM7GHR6W        2023-05-01            2023-05-01            LOAN   \n",
       "4  JYZW4NLSV        2023-05-01            2023-05-01            LOAN   \n",
       "\n",
       "   adjustment_amount  fees_charged  taxes  amount_due   type        date  \\\n",
       "0              -1.22          0.00   0.00       -1.22  DAILY  2023-05-01   \n",
       "1              -4.02          0.00   0.00       -4.02  DAILY  2023-05-01   \n",
       "2              -0.20          0.00   0.00       -0.20  DAILY  2023-05-01   \n",
       "3              -0.36          0.00   0.00       -0.36  DAILY  2023-05-01   \n",
       "4              -3.20          0.00   0.00       -3.20  DAILY  2023-05-01   \n",
       "\n",
       "                   file_name  \n",
       "0  ADJUSTMENTS MAYO 2023.csv  \n",
       "1  ADJUSTMENTS MAYO 2023.csv  \n",
       "2  ADJUSTMENTS MAYO 2023.csv  \n",
       "3  ADJUSTMENTS MAYO 2023.csv  \n",
       "4  ADJUSTMENTS MAYO 2023.csv  "
      ]
     },
     "execution_count": 8,
     "metadata": {},
     "output_type": "execute_result"
    }
   ],
   "source": [
    "adj_1 = pd.concat([pd.read_csv(f).assign(file_name=os.path.basename(f)) for f in allfiles_adj])\n",
    "adj_1.head()"
   ]
  },
  {
   "cell_type": "code",
   "execution_count": 9,
   "metadata": {},
   "outputs": [
    {
     "data": {
      "text/plain": [
       "(248, 11)"
      ]
     },
     "execution_count": 9,
     "metadata": {},
     "output_type": "execute_result"
    }
   ],
   "source": [
    "adj_1.shape"
   ]
  },
  {
   "cell_type": "markdown",
   "metadata": {},
   "source": [
    "### CURRENT DATES"
   ]
  },
  {
   "cell_type": "code",
   "execution_count": 10,
   "metadata": {},
   "outputs": [
    {
     "data": {
      "text/html": [
       "<div>\n",
       "<style scoped>\n",
       "    .dataframe tbody tr th:only-of-type {\n",
       "        vertical-align: middle;\n",
       "    }\n",
       "\n",
       "    .dataframe tbody tr th {\n",
       "        vertical-align: top;\n",
       "    }\n",
       "\n",
       "    .dataframe thead th {\n",
       "        text-align: right;\n",
       "    }\n",
       "</style>\n",
       "<table border=\"1\" class=\"dataframe\">\n",
       "  <thead>\n",
       "    <tr style=\"text-align: right;\">\n",
       "      <th></th>\n",
       "      <th>report_id</th>\n",
       "      <th>report_date_local</th>\n",
       "      <th>adjustment_date_local</th>\n",
       "      <th>adjustment_type</th>\n",
       "      <th>adjustment_amount</th>\n",
       "      <th>fees_charged</th>\n",
       "      <th>taxes</th>\n",
       "      <th>amount_due</th>\n",
       "      <th>type</th>\n",
       "      <th>date</th>\n",
       "      <th>file_name</th>\n",
       "    </tr>\n",
       "  </thead>\n",
       "  <tbody>\n",
       "    <tr>\n",
       "      <th>0</th>\n",
       "      <td>NLKYXP39J</td>\n",
       "      <td>2023-05-01</td>\n",
       "      <td>2023-05-01</td>\n",
       "      <td>LOAN</td>\n",
       "      <td>-1.22</td>\n",
       "      <td>0.00</td>\n",
       "      <td>0.00</td>\n",
       "      <td>-1.22</td>\n",
       "      <td>DAILY</td>\n",
       "      <td>2023-05-01</td>\n",
       "      <td>ADJUSTMENTS MAYO 2023.csv</td>\n",
       "    </tr>\n",
       "    <tr>\n",
       "      <th>1</th>\n",
       "      <td>FW7FTZ4NZ</td>\n",
       "      <td>2023-05-01</td>\n",
       "      <td>2023-05-01</td>\n",
       "      <td>LOAN</td>\n",
       "      <td>-4.02</td>\n",
       "      <td>0.00</td>\n",
       "      <td>0.00</td>\n",
       "      <td>-4.02</td>\n",
       "      <td>DAILY</td>\n",
       "      <td>2023-05-01</td>\n",
       "      <td>ADJUSTMENTS MAYO 2023.csv</td>\n",
       "    </tr>\n",
       "    <tr>\n",
       "      <th>2</th>\n",
       "      <td>NCDVLQS6T</td>\n",
       "      <td>2023-05-01</td>\n",
       "      <td>2023-05-01</td>\n",
       "      <td>LOAN</td>\n",
       "      <td>-0.20</td>\n",
       "      <td>0.00</td>\n",
       "      <td>0.00</td>\n",
       "      <td>-0.20</td>\n",
       "      <td>DAILY</td>\n",
       "      <td>2023-05-01</td>\n",
       "      <td>ADJUSTMENTS MAYO 2023.csv</td>\n",
       "    </tr>\n",
       "    <tr>\n",
       "      <th>3</th>\n",
       "      <td>KQM7GHR6W</td>\n",
       "      <td>2023-05-01</td>\n",
       "      <td>2023-05-01</td>\n",
       "      <td>LOAN</td>\n",
       "      <td>-0.36</td>\n",
       "      <td>0.00</td>\n",
       "      <td>0.00</td>\n",
       "      <td>-0.36</td>\n",
       "      <td>DAILY</td>\n",
       "      <td>2023-05-01</td>\n",
       "      <td>ADJUSTMENTS MAYO 2023.csv</td>\n",
       "    </tr>\n",
       "    <tr>\n",
       "      <th>4</th>\n",
       "      <td>JYZW4NLSV</td>\n",
       "      <td>2023-05-01</td>\n",
       "      <td>2023-05-01</td>\n",
       "      <td>LOAN</td>\n",
       "      <td>-3.20</td>\n",
       "      <td>0.00</td>\n",
       "      <td>0.00</td>\n",
       "      <td>-3.20</td>\n",
       "      <td>DAILY</td>\n",
       "      <td>2023-05-01</td>\n",
       "      <td>ADJUSTMENTS MAYO 2023.csv</td>\n",
       "    </tr>\n",
       "  </tbody>\n",
       "</table>\n",
       "</div>"
      ],
      "text/plain": [
       "   report_id report_date_local adjustment_date_local adjustment_type  \\\n",
       "0  NLKYXP39J        2023-05-01            2023-05-01            LOAN   \n",
       "1  FW7FTZ4NZ        2023-05-01            2023-05-01            LOAN   \n",
       "2  NCDVLQS6T        2023-05-01            2023-05-01            LOAN   \n",
       "3  KQM7GHR6W        2023-05-01            2023-05-01            LOAN   \n",
       "4  JYZW4NLSV        2023-05-01            2023-05-01            LOAN   \n",
       "\n",
       "   adjustment_amount  fees_charged  taxes  amount_due   type        date  \\\n",
       "0              -1.22          0.00   0.00       -1.22  DAILY  2023-05-01   \n",
       "1              -4.02          0.00   0.00       -4.02  DAILY  2023-05-01   \n",
       "2              -0.20          0.00   0.00       -0.20  DAILY  2023-05-01   \n",
       "3              -0.36          0.00   0.00       -0.36  DAILY  2023-05-01   \n",
       "4              -3.20          0.00   0.00       -3.20  DAILY  2023-05-01   \n",
       "\n",
       "                   file_name  \n",
       "0  ADJUSTMENTS MAYO 2023.csv  \n",
       "1  ADJUSTMENTS MAYO 2023.csv  \n",
       "2  ADJUSTMENTS MAYO 2023.csv  \n",
       "3  ADJUSTMENTS MAYO 2023.csv  \n",
       "4  ADJUSTMENTS MAYO 2023.csv  "
      ]
     },
     "execution_count": 10,
     "metadata": {},
     "output_type": "execute_result"
    }
   ],
   "source": [
    "adj_current_month = adj_1[(adj_1['date'] >= start_date) & (adj_1['date'] <= final_date)]\n",
    "adj_current_month.head()"
   ]
  },
  {
   "cell_type": "code",
   "execution_count": 11,
   "metadata": {},
   "outputs": [
    {
     "data": {
      "text/plain": [
       "(248, 11)"
      ]
     },
     "execution_count": 11,
     "metadata": {},
     "output_type": "execute_result"
    }
   ],
   "source": [
    "adj_current_month.shape"
   ]
  },
  {
   "cell_type": "markdown",
   "metadata": {},
   "source": [
    "### PIVOT"
   ]
  },
  {
   "cell_type": "code",
   "execution_count": 12,
   "metadata": {},
   "outputs": [
    {
     "data": {
      "text/html": [
       "<div>\n",
       "<style scoped>\n",
       "    .dataframe tbody tr th:only-of-type {\n",
       "        vertical-align: middle;\n",
       "    }\n",
       "\n",
       "    .dataframe tbody tr th {\n",
       "        vertical-align: top;\n",
       "    }\n",
       "\n",
       "    .dataframe thead th {\n",
       "        text-align: right;\n",
       "    }\n",
       "</style>\n",
       "<table border=\"1\" class=\"dataframe\">\n",
       "  <thead>\n",
       "    <tr style=\"text-align: right;\">\n",
       "      <th></th>\n",
       "      <th>type</th>\n",
       "      <th>adjustment_type</th>\n",
       "      <th>date</th>\n",
       "      <th>adjustment_amount</th>\n",
       "      <th>fees_charged</th>\n",
       "      <th>taxes</th>\n",
       "      <th>amount_due</th>\n",
       "    </tr>\n",
       "  </thead>\n",
       "  <tbody>\n",
       "    <tr>\n",
       "      <th>0</th>\n",
       "      <td>DAILY</td>\n",
       "      <td>LOAN</td>\n",
       "      <td>2023-05-01</td>\n",
       "      <td>35.98</td>\n",
       "      <td>-0.00</td>\n",
       "      <td>-0.00</td>\n",
       "      <td>35.98</td>\n",
       "    </tr>\n",
       "    <tr>\n",
       "      <th>1</th>\n",
       "      <td>DAILY</td>\n",
       "      <td>LOAN</td>\n",
       "      <td>2023-05-02</td>\n",
       "      <td>26.88</td>\n",
       "      <td>-0.00</td>\n",
       "      <td>-0.00</td>\n",
       "      <td>26.88</td>\n",
       "    </tr>\n",
       "    <tr>\n",
       "      <th>2</th>\n",
       "      <td>DAILY</td>\n",
       "      <td>LOAN</td>\n",
       "      <td>2023-05-03</td>\n",
       "      <td>53.13</td>\n",
       "      <td>-0.00</td>\n",
       "      <td>-0.00</td>\n",
       "      <td>53.13</td>\n",
       "    </tr>\n",
       "    <tr>\n",
       "      <th>3</th>\n",
       "      <td>DAILY</td>\n",
       "      <td>LOAN</td>\n",
       "      <td>2023-05-04</td>\n",
       "      <td>34.96</td>\n",
       "      <td>-0.00</td>\n",
       "      <td>-0.00</td>\n",
       "      <td>34.96</td>\n",
       "    </tr>\n",
       "    <tr>\n",
       "      <th>4</th>\n",
       "      <td>DAILY</td>\n",
       "      <td>LOAN</td>\n",
       "      <td>2023-05-05</td>\n",
       "      <td>41.44</td>\n",
       "      <td>-0.00</td>\n",
       "      <td>-0.00</td>\n",
       "      <td>41.44</td>\n",
       "    </tr>\n",
       "  </tbody>\n",
       "</table>\n",
       "</div>"
      ],
      "text/plain": [
       "    type adjustment_type        date  adjustment_amount  fees_charged  taxes  \\\n",
       "0  DAILY            LOAN  2023-05-01              35.98         -0.00  -0.00   \n",
       "1  DAILY            LOAN  2023-05-02              26.88         -0.00  -0.00   \n",
       "2  DAILY            LOAN  2023-05-03              53.13         -0.00  -0.00   \n",
       "3  DAILY            LOAN  2023-05-04              34.96         -0.00  -0.00   \n",
       "4  DAILY            LOAN  2023-05-05              41.44         -0.00  -0.00   \n",
       "\n",
       "   amount_due  \n",
       "0       35.98  \n",
       "1       26.88  \n",
       "2       53.13  \n",
       "3       34.96  \n",
       "4       41.44  "
      ]
     },
     "execution_count": 12,
     "metadata": {},
     "output_type": "execute_result"
    }
   ],
   "source": [
    "adj_pivot = adj_current_month.groupby(['type','adjustment_type','date']).agg({'adjustment_amount':sum\n",
    "                                                                                ,'fees_charged':sum \n",
    "                                                                                ,'taxes':sum\n",
    "                                                                                ,'amount_due':sum}).reset_index()\n",
    "adj_pivot['adjustment_amount'] = adj_pivot['adjustment_amount']*-1 \n",
    "adj_pivot['fees_charged'] = adj_pivot['fees_charged']*-1\n",
    "adj_pivot['taxes'] = adj_pivot['taxes']*-1 \n",
    "adj_pivot['amount_due'] = adj_pivot['amount_due']*-1 \n",
    "adj_pivot.head()"
   ]
  },
  {
   "cell_type": "code",
   "execution_count": 13,
   "metadata": {},
   "outputs": [
    {
     "data": {
      "text/html": [
       "<div>\n",
       "<style scoped>\n",
       "    .dataframe tbody tr th:only-of-type {\n",
       "        vertical-align: middle;\n",
       "    }\n",
       "\n",
       "    .dataframe tbody tr th {\n",
       "        vertical-align: top;\n",
       "    }\n",
       "\n",
       "    .dataframe thead tr th {\n",
       "        text-align: left;\n",
       "    }\n",
       "\n",
       "    .dataframe thead tr:last-of-type th {\n",
       "        text-align: right;\n",
       "    }\n",
       "</style>\n",
       "<table border=\"1\" class=\"dataframe\">\n",
       "  <thead>\n",
       "    <tr>\n",
       "      <th></th>\n",
       "      <th></th>\n",
       "      <th colspan=\"2\" halign=\"left\">adjustment_amount</th>\n",
       "      <th colspan=\"2\" halign=\"left\">amount_due</th>\n",
       "      <th colspan=\"2\" halign=\"left\">fees_charged</th>\n",
       "      <th colspan=\"2\" halign=\"left\">taxes</th>\n",
       "    </tr>\n",
       "    <tr>\n",
       "      <th></th>\n",
       "      <th>adjustment_type</th>\n",
       "      <th>LOAN</th>\n",
       "      <th>All</th>\n",
       "      <th>LOAN</th>\n",
       "      <th>All</th>\n",
       "      <th>LOAN</th>\n",
       "      <th>All</th>\n",
       "      <th>LOAN</th>\n",
       "      <th>All</th>\n",
       "    </tr>\n",
       "    <tr>\n",
       "      <th>type</th>\n",
       "      <th>date</th>\n",
       "      <th></th>\n",
       "      <th></th>\n",
       "      <th></th>\n",
       "      <th></th>\n",
       "      <th></th>\n",
       "      <th></th>\n",
       "      <th></th>\n",
       "      <th></th>\n",
       "    </tr>\n",
       "  </thead>\n",
       "  <tbody>\n",
       "    <tr>\n",
       "      <th rowspan=\"5\" valign=\"top\">DAILY</th>\n",
       "      <th>2023-05-01</th>\n",
       "      <td>-35.98</td>\n",
       "      <td>-35.98</td>\n",
       "      <td>-35.98</td>\n",
       "      <td>-35.98</td>\n",
       "      <td>0.00</td>\n",
       "      <td>0.00</td>\n",
       "      <td>0.00</td>\n",
       "      <td>0.00</td>\n",
       "    </tr>\n",
       "    <tr>\n",
       "      <th>2023-05-02</th>\n",
       "      <td>-26.88</td>\n",
       "      <td>-26.88</td>\n",
       "      <td>-26.88</td>\n",
       "      <td>-26.88</td>\n",
       "      <td>0.00</td>\n",
       "      <td>0.00</td>\n",
       "      <td>0.00</td>\n",
       "      <td>0.00</td>\n",
       "    </tr>\n",
       "    <tr>\n",
       "      <th>2023-05-03</th>\n",
       "      <td>-53.13</td>\n",
       "      <td>-53.13</td>\n",
       "      <td>-53.13</td>\n",
       "      <td>-53.13</td>\n",
       "      <td>0.00</td>\n",
       "      <td>0.00</td>\n",
       "      <td>0.00</td>\n",
       "      <td>0.00</td>\n",
       "    </tr>\n",
       "    <tr>\n",
       "      <th>2023-05-04</th>\n",
       "      <td>-34.96</td>\n",
       "      <td>-34.96</td>\n",
       "      <td>-34.96</td>\n",
       "      <td>-34.96</td>\n",
       "      <td>0.00</td>\n",
       "      <td>0.00</td>\n",
       "      <td>0.00</td>\n",
       "      <td>0.00</td>\n",
       "    </tr>\n",
       "    <tr>\n",
       "      <th>2023-05-05</th>\n",
       "      <td>-41.44</td>\n",
       "      <td>-41.44</td>\n",
       "      <td>-41.44</td>\n",
       "      <td>-41.44</td>\n",
       "      <td>0.00</td>\n",
       "      <td>0.00</td>\n",
       "      <td>0.00</td>\n",
       "      <td>0.00</td>\n",
       "    </tr>\n",
       "  </tbody>\n",
       "</table>\n",
       "</div>"
      ],
      "text/plain": [
       "                 adjustment_amount        amount_due        fees_charged       \\\n",
       "adjustment_type               LOAN    All       LOAN    All         LOAN  All   \n",
       "type  date                                                                      \n",
       "DAILY 2023-05-01            -35.98 -35.98     -35.98 -35.98         0.00 0.00   \n",
       "      2023-05-02            -26.88 -26.88     -26.88 -26.88         0.00 0.00   \n",
       "      2023-05-03            -53.13 -53.13     -53.13 -53.13         0.00 0.00   \n",
       "      2023-05-04            -34.96 -34.96     -34.96 -34.96         0.00 0.00   \n",
       "      2023-05-05            -41.44 -41.44     -41.44 -41.44         0.00 0.00   \n",
       "\n",
       "                 taxes       \n",
       "adjustment_type   LOAN  All  \n",
       "type  date                   \n",
       "DAILY 2023-05-01  0.00 0.00  \n",
       "      2023-05-02  0.00 0.00  \n",
       "      2023-05-03  0.00 0.00  \n",
       "      2023-05-04  0.00 0.00  \n",
       "      2023-05-05  0.00 0.00  "
      ]
     },
     "execution_count": 13,
     "metadata": {},
     "output_type": "execute_result"
    }
   ],
   "source": [
    "adj_pivot_v2 = pd.pivot_table(adj_current_month,index=['type','date']\n",
    "                              ,columns=['adjustment_type']\n",
    "                              ,values=['adjustment_amount','fees_charged','taxes','amount_due']\n",
    "                              ,aggfunc=np.sum,margins=True)\n",
    "adj_pivot_v2.head()"
   ]
  },
  {
   "cell_type": "markdown",
   "metadata": {},
   "source": [
    "# LIBERACIONES"
   ]
  },
  {
   "cell_type": "code",
   "execution_count": 14,
   "metadata": {},
   "outputs": [
    {
     "data": {
      "text/html": [
       "<div>\n",
       "<style scoped>\n",
       "    .dataframe tbody tr th:only-of-type {\n",
       "        vertical-align: middle;\n",
       "    }\n",
       "\n",
       "    .dataframe tbody tr th {\n",
       "        vertical-align: top;\n",
       "    }\n",
       "\n",
       "    .dataframe thead th {\n",
       "        text-align: right;\n",
       "    }\n",
       "</style>\n",
       "<table border=\"1\" class=\"dataframe\">\n",
       "  <thead>\n",
       "    <tr style=\"text-align: right;\">\n",
       "      <th></th>\n",
       "      <th>date_release</th>\n",
       "      <th>report_date_local</th>\n",
       "      <th>retained_date_local</th>\n",
       "      <th>report_id</th>\n",
       "      <th>entry_type</th>\n",
       "      <th>amount</th>\n",
       "      <th>type</th>\n",
       "      <th>file_name</th>\n",
       "    </tr>\n",
       "  </thead>\n",
       "  <tbody>\n",
       "    <tr>\n",
       "      <th>0</th>\n",
       "      <td>2023-05-01</td>\n",
       "      <td>2023-05-01</td>\n",
       "      <td>2022-12-30</td>\n",
       "      <td>2HQRTTZR9</td>\n",
       "      <td>LIEN</td>\n",
       "      <td>499.24</td>\n",
       "      <td>DAILY</td>\n",
       "      <td>LIBERACIONES MAYO 2023.csv</td>\n",
       "    </tr>\n",
       "    <tr>\n",
       "      <th>1</th>\n",
       "      <td>2023-05-01</td>\n",
       "      <td>2023-05-01</td>\n",
       "      <td>2022-12-30</td>\n",
       "      <td>LNST3CJB9</td>\n",
       "      <td>LIEN</td>\n",
       "      <td>4,311.13</td>\n",
       "      <td>DAILY</td>\n",
       "      <td>LIBERACIONES MAYO 2023.csv</td>\n",
       "    </tr>\n",
       "    <tr>\n",
       "      <th>2</th>\n",
       "      <td>2023-05-01</td>\n",
       "      <td>2023-05-01</td>\n",
       "      <td>2022-12-31</td>\n",
       "      <td>TJB3HCK2Q</td>\n",
       "      <td>LIEN</td>\n",
       "      <td>43,599.92</td>\n",
       "      <td>DAILY</td>\n",
       "      <td>LIBERACIONES MAYO 2023.csv</td>\n",
       "    </tr>\n",
       "    <tr>\n",
       "      <th>3</th>\n",
       "      <td>2023-05-01</td>\n",
       "      <td>2023-05-01</td>\n",
       "      <td>2022-12-30</td>\n",
       "      <td>XTSKS782G</td>\n",
       "      <td>LIEN</td>\n",
       "      <td>7,061.28</td>\n",
       "      <td>DAILY</td>\n",
       "      <td>LIBERACIONES MAYO 2023.csv</td>\n",
       "    </tr>\n",
       "    <tr>\n",
       "      <th>4</th>\n",
       "      <td>2023-05-01</td>\n",
       "      <td>2023-05-01</td>\n",
       "      <td>2022-12-30</td>\n",
       "      <td>SW9QNQ2MP</td>\n",
       "      <td>LIEN</td>\n",
       "      <td>23,956.00</td>\n",
       "      <td>DAILY</td>\n",
       "      <td>LIBERACIONES MAYO 2023.csv</td>\n",
       "    </tr>\n",
       "  </tbody>\n",
       "</table>\n",
       "</div>"
      ],
      "text/plain": [
       "  date_release report_date_local retained_date_local  report_id entry_type  \\\n",
       "0   2023-05-01        2023-05-01          2022-12-30  2HQRTTZR9       LIEN   \n",
       "1   2023-05-01        2023-05-01          2022-12-30  LNST3CJB9       LIEN   \n",
       "2   2023-05-01        2023-05-01          2022-12-31  TJB3HCK2Q       LIEN   \n",
       "3   2023-05-01        2023-05-01          2022-12-30  XTSKS782G       LIEN   \n",
       "4   2023-05-01        2023-05-01          2022-12-30  SW9QNQ2MP       LIEN   \n",
       "\n",
       "     amount   type                   file_name  \n",
       "0    499.24  DAILY  LIBERACIONES MAYO 2023.csv  \n",
       "1  4,311.13  DAILY  LIBERACIONES MAYO 2023.csv  \n",
       "2 43,599.92  DAILY  LIBERACIONES MAYO 2023.csv  \n",
       "3  7,061.28  DAILY  LIBERACIONES MAYO 2023.csv  \n",
       "4 23,956.00  DAILY  LIBERACIONES MAYO 2023.csv  "
      ]
     },
     "execution_count": 14,
     "metadata": {},
     "output_type": "execute_result"
    }
   ],
   "source": [
    "lib_1 = pd.concat([pd.read_csv(f).assign(file_name=os.path.basename(f)) for f in allfiles_lib])\n",
    "lib_1.head()"
   ]
  },
  {
   "cell_type": "markdown",
   "metadata": {},
   "source": [
    "### CURRENT DATES"
   ]
  },
  {
   "cell_type": "code",
   "execution_count": 15,
   "metadata": {},
   "outputs": [
    {
     "data": {
      "text/html": [
       "<div>\n",
       "<style scoped>\n",
       "    .dataframe tbody tr th:only-of-type {\n",
       "        vertical-align: middle;\n",
       "    }\n",
       "\n",
       "    .dataframe tbody tr th {\n",
       "        vertical-align: top;\n",
       "    }\n",
       "\n",
       "    .dataframe thead th {\n",
       "        text-align: right;\n",
       "    }\n",
       "</style>\n",
       "<table border=\"1\" class=\"dataframe\">\n",
       "  <thead>\n",
       "    <tr style=\"text-align: right;\">\n",
       "      <th></th>\n",
       "      <th>date_release</th>\n",
       "      <th>report_date_local</th>\n",
       "      <th>retained_date_local</th>\n",
       "      <th>report_id</th>\n",
       "      <th>entry_type</th>\n",
       "      <th>amount</th>\n",
       "      <th>type</th>\n",
       "      <th>file_name</th>\n",
       "    </tr>\n",
       "  </thead>\n",
       "  <tbody>\n",
       "    <tr>\n",
       "      <th>0</th>\n",
       "      <td>2023-05-01</td>\n",
       "      <td>2023-05-01</td>\n",
       "      <td>2022-12-30</td>\n",
       "      <td>2HQRTTZR9</td>\n",
       "      <td>LIEN</td>\n",
       "      <td>499.24</td>\n",
       "      <td>DAILY</td>\n",
       "      <td>LIBERACIONES MAYO 2023.csv</td>\n",
       "    </tr>\n",
       "    <tr>\n",
       "      <th>1</th>\n",
       "      <td>2023-05-01</td>\n",
       "      <td>2023-05-01</td>\n",
       "      <td>2022-12-30</td>\n",
       "      <td>LNST3CJB9</td>\n",
       "      <td>LIEN</td>\n",
       "      <td>4,311.13</td>\n",
       "      <td>DAILY</td>\n",
       "      <td>LIBERACIONES MAYO 2023.csv</td>\n",
       "    </tr>\n",
       "    <tr>\n",
       "      <th>2</th>\n",
       "      <td>2023-05-01</td>\n",
       "      <td>2023-05-01</td>\n",
       "      <td>2022-12-31</td>\n",
       "      <td>TJB3HCK2Q</td>\n",
       "      <td>LIEN</td>\n",
       "      <td>43,599.92</td>\n",
       "      <td>DAILY</td>\n",
       "      <td>LIBERACIONES MAYO 2023.csv</td>\n",
       "    </tr>\n",
       "    <tr>\n",
       "      <th>3</th>\n",
       "      <td>2023-05-01</td>\n",
       "      <td>2023-05-01</td>\n",
       "      <td>2022-12-30</td>\n",
       "      <td>XTSKS782G</td>\n",
       "      <td>LIEN</td>\n",
       "      <td>7,061.28</td>\n",
       "      <td>DAILY</td>\n",
       "      <td>LIBERACIONES MAYO 2023.csv</td>\n",
       "    </tr>\n",
       "    <tr>\n",
       "      <th>4</th>\n",
       "      <td>2023-05-01</td>\n",
       "      <td>2023-05-01</td>\n",
       "      <td>2022-12-30</td>\n",
       "      <td>SW9QNQ2MP</td>\n",
       "      <td>LIEN</td>\n",
       "      <td>23,956.00</td>\n",
       "      <td>DAILY</td>\n",
       "      <td>LIBERACIONES MAYO 2023.csv</td>\n",
       "    </tr>\n",
       "  </tbody>\n",
       "</table>\n",
       "</div>"
      ],
      "text/plain": [
       "  date_release report_date_local retained_date_local  report_id entry_type  \\\n",
       "0   2023-05-01        2023-05-01          2022-12-30  2HQRTTZR9       LIEN   \n",
       "1   2023-05-01        2023-05-01          2022-12-30  LNST3CJB9       LIEN   \n",
       "2   2023-05-01        2023-05-01          2022-12-31  TJB3HCK2Q       LIEN   \n",
       "3   2023-05-01        2023-05-01          2022-12-30  XTSKS782G       LIEN   \n",
       "4   2023-05-01        2023-05-01          2022-12-30  SW9QNQ2MP       LIEN   \n",
       "\n",
       "     amount   type                   file_name  \n",
       "0    499.24  DAILY  LIBERACIONES MAYO 2023.csv  \n",
       "1  4,311.13  DAILY  LIBERACIONES MAYO 2023.csv  \n",
       "2 43,599.92  DAILY  LIBERACIONES MAYO 2023.csv  \n",
       "3  7,061.28  DAILY  LIBERACIONES MAYO 2023.csv  \n",
       "4 23,956.00  DAILY  LIBERACIONES MAYO 2023.csv  "
      ]
     },
     "execution_count": 15,
     "metadata": {},
     "output_type": "execute_result"
    }
   ],
   "source": [
    "lib_current_month = lib_1[(lib_1['report_date_local'] >= start_date) & (lib_1['report_date_local'] <= final_date)]\n",
    "lib_current_month.head()"
   ]
  },
  {
   "cell_type": "code",
   "execution_count": 16,
   "metadata": {},
   "outputs": [
    {
     "data": {
      "text/plain": [
       "(268, 8)"
      ]
     },
     "execution_count": 16,
     "metadata": {},
     "output_type": "execute_result"
    }
   ],
   "source": [
    "lib_current_month.shape"
   ]
  },
  {
   "cell_type": "markdown",
   "metadata": {},
   "source": [
    "### PIVOT"
   ]
  },
  {
   "cell_type": "code",
   "execution_count": 17,
   "metadata": {},
   "outputs": [
    {
     "data": {
      "text/html": [
       "<div>\n",
       "<style scoped>\n",
       "    .dataframe tbody tr th:only-of-type {\n",
       "        vertical-align: middle;\n",
       "    }\n",
       "\n",
       "    .dataframe tbody tr th {\n",
       "        vertical-align: top;\n",
       "    }\n",
       "\n",
       "    .dataframe thead th {\n",
       "        text-align: right;\n",
       "    }\n",
       "</style>\n",
       "<table border=\"1\" class=\"dataframe\">\n",
       "  <thead>\n",
       "    <tr style=\"text-align: right;\">\n",
       "      <th></th>\n",
       "      <th>type</th>\n",
       "      <th>entry_type</th>\n",
       "      <th>report_date_local</th>\n",
       "      <th>amount</th>\n",
       "    </tr>\n",
       "  </thead>\n",
       "  <tbody>\n",
       "    <tr>\n",
       "      <th>0</th>\n",
       "      <td>DAILY</td>\n",
       "      <td>LIEN</td>\n",
       "      <td>2023-05-01</td>\n",
       "      <td>79,427.57</td>\n",
       "    </tr>\n",
       "    <tr>\n",
       "      <th>1</th>\n",
       "      <td>DAILY</td>\n",
       "      <td>LIEN</td>\n",
       "      <td>2023-05-02</td>\n",
       "      <td>69,081.44</td>\n",
       "    </tr>\n",
       "    <tr>\n",
       "      <th>2</th>\n",
       "      <td>DAILY</td>\n",
       "      <td>LIEN</td>\n",
       "      <td>2023-05-03</td>\n",
       "      <td>74,009.69</td>\n",
       "    </tr>\n",
       "    <tr>\n",
       "      <th>3</th>\n",
       "      <td>DAILY</td>\n",
       "      <td>LIEN</td>\n",
       "      <td>2023-05-04</td>\n",
       "      <td>84,832.99</td>\n",
       "    </tr>\n",
       "    <tr>\n",
       "      <th>4</th>\n",
       "      <td>DAILY</td>\n",
       "      <td>LIEN</td>\n",
       "      <td>2023-05-05</td>\n",
       "      <td>194,109.54</td>\n",
       "    </tr>\n",
       "  </tbody>\n",
       "</table>\n",
       "</div>"
      ],
      "text/plain": [
       "    type entry_type report_date_local     amount\n",
       "0  DAILY       LIEN        2023-05-01  79,427.57\n",
       "1  DAILY       LIEN        2023-05-02  69,081.44\n",
       "2  DAILY       LIEN        2023-05-03  74,009.69\n",
       "3  DAILY       LIEN        2023-05-04  84,832.99\n",
       "4  DAILY       LIEN        2023-05-05 194,109.54"
      ]
     },
     "execution_count": 17,
     "metadata": {},
     "output_type": "execute_result"
    }
   ],
   "source": [
    "lib_pivot = lib_current_month.groupby(['type','entry_type','report_date_local']).agg({'amount':sum}).reset_index()\n",
    "lib_pivot.head()"
   ]
  },
  {
   "cell_type": "code",
   "execution_count": 18,
   "metadata": {},
   "outputs": [
    {
     "data": {
      "text/plain": [
       "(31, 4)"
      ]
     },
     "execution_count": 18,
     "metadata": {},
     "output_type": "execute_result"
    }
   ],
   "source": [
    "lib_pivot.shape"
   ]
  },
  {
   "cell_type": "code",
   "execution_count": 19,
   "metadata": {},
   "outputs": [
    {
     "data": {
      "text/html": [
       "<div>\n",
       "<style scoped>\n",
       "    .dataframe tbody tr th:only-of-type {\n",
       "        vertical-align: middle;\n",
       "    }\n",
       "\n",
       "    .dataframe tbody tr th {\n",
       "        vertical-align: top;\n",
       "    }\n",
       "\n",
       "    .dataframe thead tr th {\n",
       "        text-align: left;\n",
       "    }\n",
       "\n",
       "    .dataframe thead tr:last-of-type th {\n",
       "        text-align: right;\n",
       "    }\n",
       "</style>\n",
       "<table border=\"1\" class=\"dataframe\">\n",
       "  <thead>\n",
       "    <tr>\n",
       "      <th></th>\n",
       "      <th></th>\n",
       "      <th colspan=\"2\" halign=\"left\">amount</th>\n",
       "    </tr>\n",
       "    <tr>\n",
       "      <th></th>\n",
       "      <th>entry_type</th>\n",
       "      <th>LIEN</th>\n",
       "      <th>All</th>\n",
       "    </tr>\n",
       "    <tr>\n",
       "      <th>type</th>\n",
       "      <th>report_date_local</th>\n",
       "      <th></th>\n",
       "      <th></th>\n",
       "    </tr>\n",
       "  </thead>\n",
       "  <tbody>\n",
       "    <tr>\n",
       "      <th rowspan=\"5\" valign=\"top\">DAILY</th>\n",
       "      <th>2023-05-01</th>\n",
       "      <td>79,427.57</td>\n",
       "      <td>79,427.57</td>\n",
       "    </tr>\n",
       "    <tr>\n",
       "      <th>2023-05-02</th>\n",
       "      <td>69,081.44</td>\n",
       "      <td>69,081.44</td>\n",
       "    </tr>\n",
       "    <tr>\n",
       "      <th>2023-05-03</th>\n",
       "      <td>74,009.69</td>\n",
       "      <td>74,009.69</td>\n",
       "    </tr>\n",
       "    <tr>\n",
       "      <th>2023-05-04</th>\n",
       "      <td>84,832.99</td>\n",
       "      <td>84,832.99</td>\n",
       "    </tr>\n",
       "    <tr>\n",
       "      <th>2023-05-05</th>\n",
       "      <td>194,109.54</td>\n",
       "      <td>194,109.54</td>\n",
       "    </tr>\n",
       "  </tbody>\n",
       "</table>\n",
       "</div>"
      ],
      "text/plain": [
       "                            amount           \n",
       "entry_type                    LIEN        All\n",
       "type  report_date_local                      \n",
       "DAILY 2023-05-01         79,427.57  79,427.57\n",
       "      2023-05-02         69,081.44  69,081.44\n",
       "      2023-05-03         74,009.69  74,009.69\n",
       "      2023-05-04         84,832.99  84,832.99\n",
       "      2023-05-05        194,109.54 194,109.54"
      ]
     },
     "execution_count": 19,
     "metadata": {},
     "output_type": "execute_result"
    }
   ],
   "source": [
    "lib_pivot_v2 = pd.pivot_table(lib_current_month,index=['type','report_date_local']\n",
    "                              ,columns=['entry_type']\n",
    "                              ,values=['amount']\n",
    "                              ,aggfunc=np.sum,margins=True)\n",
    "lib_pivot_v2.head()"
   ]
  },
  {
   "cell_type": "code",
   "execution_count": 20,
   "metadata": {},
   "outputs": [
    {
     "data": {
      "text/plain": [
       "(32, 2)"
      ]
     },
     "execution_count": 20,
     "metadata": {},
     "output_type": "execute_result"
    }
   ],
   "source": [
    "lib_pivot_v2.shape"
   ]
  },
  {
   "cell_type": "markdown",
   "metadata": {},
   "source": [
    "# RETENCIONES"
   ]
  },
  {
   "cell_type": "code",
   "execution_count": 21,
   "metadata": {},
   "outputs": [
    {
     "data": {
      "text/html": [
       "<div>\n",
       "<style scoped>\n",
       "    .dataframe tbody tr th:only-of-type {\n",
       "        vertical-align: middle;\n",
       "    }\n",
       "\n",
       "    .dataframe tbody tr th {\n",
       "        vertical-align: top;\n",
       "    }\n",
       "\n",
       "    .dataframe thead th {\n",
       "        text-align: right;\n",
       "    }\n",
       "</style>\n",
       "<table border=\"1\" class=\"dataframe\">\n",
       "  <thead>\n",
       "    <tr style=\"text-align: right;\">\n",
       "      <th></th>\n",
       "      <th>date_retainment</th>\n",
       "      <th>report_date_local</th>\n",
       "      <th>report_id</th>\n",
       "      <th>entry_type</th>\n",
       "      <th>amount</th>\n",
       "      <th>type</th>\n",
       "      <th>file_name</th>\n",
       "    </tr>\n",
       "  </thead>\n",
       "  <tbody>\n",
       "  </tbody>\n",
       "</table>\n",
       "</div>"
      ],
      "text/plain": [
       "Empty DataFrame\n",
       "Columns: [date_retainment, report_date_local, report_id, entry_type, amount, type, file_name]\n",
       "Index: []"
      ]
     },
     "execution_count": 21,
     "metadata": {},
     "output_type": "execute_result"
    }
   ],
   "source": [
    "ret_1 = pd.concat([pd.read_csv(f).assign(file_name=os.path.basename(f)) for f in allfiles_ret])\n",
    "ret_1.head()"
   ]
  },
  {
   "cell_type": "markdown",
   "metadata": {},
   "source": [
    "### CURRENT DATES"
   ]
  },
  {
   "cell_type": "code",
   "execution_count": 22,
   "metadata": {},
   "outputs": [
    {
     "data": {
      "text/html": [
       "<div>\n",
       "<style scoped>\n",
       "    .dataframe tbody tr th:only-of-type {\n",
       "        vertical-align: middle;\n",
       "    }\n",
       "\n",
       "    .dataframe tbody tr th {\n",
       "        vertical-align: top;\n",
       "    }\n",
       "\n",
       "    .dataframe thead th {\n",
       "        text-align: right;\n",
       "    }\n",
       "</style>\n",
       "<table border=\"1\" class=\"dataframe\">\n",
       "  <thead>\n",
       "    <tr style=\"text-align: right;\">\n",
       "      <th></th>\n",
       "      <th>date_retainment</th>\n",
       "      <th>report_date_local</th>\n",
       "      <th>report_id</th>\n",
       "      <th>entry_type</th>\n",
       "      <th>amount</th>\n",
       "      <th>type</th>\n",
       "      <th>file_name</th>\n",
       "    </tr>\n",
       "  </thead>\n",
       "  <tbody>\n",
       "  </tbody>\n",
       "</table>\n",
       "</div>"
      ],
      "text/plain": [
       "Empty DataFrame\n",
       "Columns: [date_retainment, report_date_local, report_id, entry_type, amount, type, file_name]\n",
       "Index: []"
      ]
     },
     "execution_count": 22,
     "metadata": {},
     "output_type": "execute_result"
    }
   ],
   "source": [
    "ret_current_month = ret_1[(ret_1['report_date_local'] >= start_date) & (ret_1['report_date_local'] <= final_date)]\n",
    "ret_current_month.head()"
   ]
  },
  {
   "cell_type": "code",
   "execution_count": 23,
   "metadata": {},
   "outputs": [
    {
     "data": {
      "text/plain": [
       "(0, 7)"
      ]
     },
     "execution_count": 23,
     "metadata": {},
     "output_type": "execute_result"
    }
   ],
   "source": [
    "ret_current_month.shape"
   ]
  },
  {
   "cell_type": "markdown",
   "metadata": {},
   "source": [
    "### PIVOT"
   ]
  },
  {
   "cell_type": "code",
   "execution_count": 24,
   "metadata": {},
   "outputs": [
    {
     "data": {
      "text/html": [
       "<div>\n",
       "<style scoped>\n",
       "    .dataframe tbody tr th:only-of-type {\n",
       "        vertical-align: middle;\n",
       "    }\n",
       "\n",
       "    .dataframe tbody tr th {\n",
       "        vertical-align: top;\n",
       "    }\n",
       "\n",
       "    .dataframe thead th {\n",
       "        text-align: right;\n",
       "    }\n",
       "</style>\n",
       "<table border=\"1\" class=\"dataframe\">\n",
       "  <thead>\n",
       "    <tr style=\"text-align: right;\">\n",
       "      <th></th>\n",
       "      <th>type</th>\n",
       "      <th>entry_type</th>\n",
       "      <th>report_date_local</th>\n",
       "      <th>amount</th>\n",
       "    </tr>\n",
       "  </thead>\n",
       "  <tbody>\n",
       "  </tbody>\n",
       "</table>\n",
       "</div>"
      ],
      "text/plain": [
       "Empty DataFrame\n",
       "Columns: [type, entry_type, report_date_local, amount]\n",
       "Index: []"
      ]
     },
     "execution_count": 24,
     "metadata": {},
     "output_type": "execute_result"
    }
   ],
   "source": [
    "ret_pivot = ret_current_month.groupby(['type','entry_type','report_date_local']).agg({'amount':sum}).reset_index()\n",
    "ret_pivot.head()"
   ]
  },
  {
   "cell_type": "code",
   "execution_count": 25,
   "metadata": {},
   "outputs": [
    {
     "data": {
      "text/plain": [
       "(0, 4)"
      ]
     },
     "execution_count": 25,
     "metadata": {},
     "output_type": "execute_result"
    }
   ],
   "source": [
    "ret_pivot.shape"
   ]
  },
  {
   "cell_type": "code",
   "execution_count": 26,
   "metadata": {},
   "outputs": [
    {
     "ename": "ValueError",
     "evalue": "No objects to concatenate",
     "output_type": "error",
     "traceback": [
      "\u001b[1;31m---------------------------------------------------------------------------\u001b[0m",
      "\u001b[1;31mValueError\u001b[0m                                Traceback (most recent call last)",
      "Cell \u001b[1;32mIn [26], line 1\u001b[0m\n\u001b[1;32m----> 1\u001b[0m ret_pivot_v2 \u001b[38;5;241m=\u001b[39m \u001b[43mpd\u001b[49m\u001b[38;5;241;43m.\u001b[39;49m\u001b[43mpivot_table\u001b[49m\u001b[43m(\u001b[49m\u001b[43mret_current_month\u001b[49m\u001b[43m,\u001b[49m\u001b[43mindex\u001b[49m\u001b[38;5;241;43m=\u001b[39;49m\u001b[43m[\u001b[49m\u001b[38;5;124;43m'\u001b[39;49m\u001b[38;5;124;43mtype\u001b[39;49m\u001b[38;5;124;43m'\u001b[39;49m\u001b[43m,\u001b[49m\u001b[38;5;124;43m'\u001b[39;49m\u001b[38;5;124;43mreport_date_local\u001b[39;49m\u001b[38;5;124;43m'\u001b[39;49m\u001b[43m]\u001b[49m\n\u001b[0;32m      2\u001b[0m \u001b[43m                              \u001b[49m\u001b[43m,\u001b[49m\u001b[43mcolumns\u001b[49m\u001b[38;5;241;43m=\u001b[39;49m\u001b[43m[\u001b[49m\u001b[38;5;124;43m'\u001b[39;49m\u001b[38;5;124;43mentry_type\u001b[39;49m\u001b[38;5;124;43m'\u001b[39;49m\u001b[43m]\u001b[49m\n\u001b[0;32m      3\u001b[0m \u001b[43m                              \u001b[49m\u001b[43m,\u001b[49m\u001b[43mvalues\u001b[49m\u001b[38;5;241;43m=\u001b[39;49m\u001b[43m[\u001b[49m\u001b[38;5;124;43m'\u001b[39;49m\u001b[38;5;124;43mamount\u001b[39;49m\u001b[38;5;124;43m'\u001b[39;49m\u001b[43m]\u001b[49m\n\u001b[0;32m      4\u001b[0m \u001b[43m                              \u001b[49m\u001b[43m,\u001b[49m\u001b[43maggfunc\u001b[49m\u001b[38;5;241;43m=\u001b[39;49m\u001b[43mnp\u001b[49m\u001b[38;5;241;43m.\u001b[39;49m\u001b[43msum\u001b[49m\u001b[43m,\u001b[49m\u001b[43mmargins\u001b[49m\u001b[38;5;241;43m=\u001b[39;49m\u001b[38;5;28;43;01mTrue\u001b[39;49;00m\u001b[43m)\u001b[49m\n\u001b[0;32m      5\u001b[0m ret_pivot_v2\u001b[38;5;241m.\u001b[39mhead()\n",
      "File \u001b[1;32m~\\anaconda3\\lib\\site-packages\\pandas\\core\\reshape\\pivot.py:95\u001b[0m, in \u001b[0;36mpivot_table\u001b[1;34m(data, values, index, columns, aggfunc, fill_value, margins, dropna, margins_name, observed, sort)\u001b[0m\n\u001b[0;32m     92\u001b[0m     table \u001b[38;5;241m=\u001b[39m concat(pieces, keys\u001b[38;5;241m=\u001b[39mkeys, axis\u001b[38;5;241m=\u001b[39m\u001b[38;5;241m1\u001b[39m)\n\u001b[0;32m     93\u001b[0m     \u001b[38;5;28;01mreturn\u001b[39;00m table\u001b[38;5;241m.\u001b[39m__finalize__(data, method\u001b[38;5;241m=\u001b[39m\u001b[38;5;124m\"\u001b[39m\u001b[38;5;124mpivot_table\u001b[39m\u001b[38;5;124m\"\u001b[39m)\n\u001b[1;32m---> 95\u001b[0m table \u001b[38;5;241m=\u001b[39m \u001b[43m__internal_pivot_table\u001b[49m\u001b[43m(\u001b[49m\n\u001b[0;32m     96\u001b[0m \u001b[43m    \u001b[49m\u001b[43mdata\u001b[49m\u001b[43m,\u001b[49m\n\u001b[0;32m     97\u001b[0m \u001b[43m    \u001b[49m\u001b[43mvalues\u001b[49m\u001b[43m,\u001b[49m\n\u001b[0;32m     98\u001b[0m \u001b[43m    \u001b[49m\u001b[43mindex\u001b[49m\u001b[43m,\u001b[49m\n\u001b[0;32m     99\u001b[0m \u001b[43m    \u001b[49m\u001b[43mcolumns\u001b[49m\u001b[43m,\u001b[49m\n\u001b[0;32m    100\u001b[0m \u001b[43m    \u001b[49m\u001b[43maggfunc\u001b[49m\u001b[43m,\u001b[49m\n\u001b[0;32m    101\u001b[0m \u001b[43m    \u001b[49m\u001b[43mfill_value\u001b[49m\u001b[43m,\u001b[49m\n\u001b[0;32m    102\u001b[0m \u001b[43m    \u001b[49m\u001b[43mmargins\u001b[49m\u001b[43m,\u001b[49m\n\u001b[0;32m    103\u001b[0m \u001b[43m    \u001b[49m\u001b[43mdropna\u001b[49m\u001b[43m,\u001b[49m\n\u001b[0;32m    104\u001b[0m \u001b[43m    \u001b[49m\u001b[43mmargins_name\u001b[49m\u001b[43m,\u001b[49m\n\u001b[0;32m    105\u001b[0m \u001b[43m    \u001b[49m\u001b[43mobserved\u001b[49m\u001b[43m,\u001b[49m\n\u001b[0;32m    106\u001b[0m \u001b[43m    \u001b[49m\u001b[43msort\u001b[49m\u001b[43m,\u001b[49m\n\u001b[0;32m    107\u001b[0m \u001b[43m\u001b[49m\u001b[43m)\u001b[49m\n\u001b[0;32m    108\u001b[0m \u001b[38;5;28;01mreturn\u001b[39;00m table\u001b[38;5;241m.\u001b[39m__finalize__(data, method\u001b[38;5;241m=\u001b[39m\u001b[38;5;124m\"\u001b[39m\u001b[38;5;124mpivot_table\u001b[39m\u001b[38;5;124m\"\u001b[39m)\n",
      "File \u001b[1;32m~\\anaconda3\\lib\\site-packages\\pandas\\core\\reshape\\pivot.py:228\u001b[0m, in \u001b[0;36m__internal_pivot_table\u001b[1;34m(data, values, index, columns, aggfunc, fill_value, margins, dropna, margins_name, observed, sort)\u001b[0m\n\u001b[0;32m    226\u001b[0m     \u001b[38;5;28;01mif\u001b[39;00m dropna:\n\u001b[0;32m    227\u001b[0m         data \u001b[38;5;241m=\u001b[39m data[data\u001b[38;5;241m.\u001b[39mnotna()\u001b[38;5;241m.\u001b[39mall(axis\u001b[38;5;241m=\u001b[39m\u001b[38;5;241m1\u001b[39m)]\n\u001b[1;32m--> 228\u001b[0m     table \u001b[38;5;241m=\u001b[39m \u001b[43m_add_margins\u001b[49m\u001b[43m(\u001b[49m\n\u001b[0;32m    229\u001b[0m \u001b[43m        \u001b[49m\u001b[43mtable\u001b[49m\u001b[43m,\u001b[49m\n\u001b[0;32m    230\u001b[0m \u001b[43m        \u001b[49m\u001b[43mdata\u001b[49m\u001b[43m,\u001b[49m\n\u001b[0;32m    231\u001b[0m \u001b[43m        \u001b[49m\u001b[43mvalues\u001b[49m\u001b[43m,\u001b[49m\n\u001b[0;32m    232\u001b[0m \u001b[43m        \u001b[49m\u001b[43mrows\u001b[49m\u001b[38;5;241;43m=\u001b[39;49m\u001b[43mindex\u001b[49m\u001b[43m,\u001b[49m\n\u001b[0;32m    233\u001b[0m \u001b[43m        \u001b[49m\u001b[43mcols\u001b[49m\u001b[38;5;241;43m=\u001b[39;49m\u001b[43mcolumns\u001b[49m\u001b[43m,\u001b[49m\n\u001b[0;32m    234\u001b[0m \u001b[43m        \u001b[49m\u001b[43maggfunc\u001b[49m\u001b[38;5;241;43m=\u001b[39;49m\u001b[43maggfunc\u001b[49m\u001b[43m,\u001b[49m\n\u001b[0;32m    235\u001b[0m \u001b[43m        \u001b[49m\u001b[43mobserved\u001b[49m\u001b[38;5;241;43m=\u001b[39;49m\u001b[43mdropna\u001b[49m\u001b[43m,\u001b[49m\n\u001b[0;32m    236\u001b[0m \u001b[43m        \u001b[49m\u001b[43mmargins_name\u001b[49m\u001b[38;5;241;43m=\u001b[39;49m\u001b[43mmargins_name\u001b[49m\u001b[43m,\u001b[49m\n\u001b[0;32m    237\u001b[0m \u001b[43m        \u001b[49m\u001b[43mfill_value\u001b[49m\u001b[38;5;241;43m=\u001b[39;49m\u001b[43mfill_value\u001b[49m\u001b[43m,\u001b[49m\n\u001b[0;32m    238\u001b[0m \u001b[43m    \u001b[49m\u001b[43m)\u001b[49m\n\u001b[0;32m    240\u001b[0m \u001b[38;5;66;03m# discard the top level\u001b[39;00m\n\u001b[0;32m    241\u001b[0m \u001b[38;5;28;01mif\u001b[39;00m values_passed \u001b[38;5;129;01mand\u001b[39;00m \u001b[38;5;129;01mnot\u001b[39;00m values_multi \u001b[38;5;129;01mand\u001b[39;00m table\u001b[38;5;241m.\u001b[39mcolumns\u001b[38;5;241m.\u001b[39mnlevels \u001b[38;5;241m>\u001b[39m \u001b[38;5;241m1\u001b[39m:\n",
      "File \u001b[1;32m~\\anaconda3\\lib\\site-packages\\pandas\\core\\reshape\\pivot.py:292\u001b[0m, in \u001b[0;36m_add_margins\u001b[1;34m(table, data, values, rows, cols, aggfunc, observed, margins_name, fill_value)\u001b[0m\n\u001b[0;32m    289\u001b[0m     \u001b[38;5;28;01mreturn\u001b[39;00m table\u001b[38;5;241m.\u001b[39m_append(Series({key: grand_margin[margins_name]}))\n\u001b[0;32m    291\u001b[0m \u001b[38;5;28;01melif\u001b[39;00m values:\n\u001b[1;32m--> 292\u001b[0m     marginal_result_set \u001b[38;5;241m=\u001b[39m \u001b[43m_generate_marginal_results\u001b[49m\u001b[43m(\u001b[49m\n\u001b[0;32m    293\u001b[0m \u001b[43m        \u001b[49m\u001b[43mtable\u001b[49m\u001b[43m,\u001b[49m\u001b[43m \u001b[49m\u001b[43mdata\u001b[49m\u001b[43m,\u001b[49m\u001b[43m \u001b[49m\u001b[43mvalues\u001b[49m\u001b[43m,\u001b[49m\u001b[43m \u001b[49m\u001b[43mrows\u001b[49m\u001b[43m,\u001b[49m\u001b[43m \u001b[49m\u001b[43mcols\u001b[49m\u001b[43m,\u001b[49m\u001b[43m \u001b[49m\u001b[43maggfunc\u001b[49m\u001b[43m,\u001b[49m\u001b[43m \u001b[49m\u001b[43mobserved\u001b[49m\u001b[43m,\u001b[49m\u001b[43m \u001b[49m\u001b[43mmargins_name\u001b[49m\n\u001b[0;32m    294\u001b[0m \u001b[43m    \u001b[49m\u001b[43m)\u001b[49m\n\u001b[0;32m    295\u001b[0m     \u001b[38;5;28;01mif\u001b[39;00m \u001b[38;5;129;01mnot\u001b[39;00m \u001b[38;5;28misinstance\u001b[39m(marginal_result_set, \u001b[38;5;28mtuple\u001b[39m):\n\u001b[0;32m    296\u001b[0m         \u001b[38;5;28;01mreturn\u001b[39;00m marginal_result_set\n",
      "File \u001b[1;32m~\\anaconda3\\lib\\site-packages\\pandas\\core\\reshape\\pivot.py:398\u001b[0m, in \u001b[0;36m_generate_marginal_results\u001b[1;34m(table, data, values, rows, cols, aggfunc, observed, margins_name)\u001b[0m\n\u001b[0;32m    395\u001b[0m         table_pieces\u001b[38;5;241m.\u001b[39mappend(transformed_piece)\n\u001b[0;32m    396\u001b[0m         margin_keys\u001b[38;5;241m.\u001b[39mappend(all_key)\n\u001b[1;32m--> 398\u001b[0m result \u001b[38;5;241m=\u001b[39m \u001b[43mconcat\u001b[49m\u001b[43m(\u001b[49m\u001b[43mtable_pieces\u001b[49m\u001b[43m,\u001b[49m\u001b[43m \u001b[49m\u001b[43maxis\u001b[49m\u001b[38;5;241;43m=\u001b[39;49m\u001b[43mcat_axis\u001b[49m\u001b[43m)\u001b[49m\n\u001b[0;32m    400\u001b[0m \u001b[38;5;28;01mif\u001b[39;00m \u001b[38;5;28mlen\u001b[39m(rows) \u001b[38;5;241m==\u001b[39m \u001b[38;5;241m0\u001b[39m:\n\u001b[0;32m    401\u001b[0m     \u001b[38;5;28;01mreturn\u001b[39;00m result\n",
      "File \u001b[1;32m~\\anaconda3\\lib\\site-packages\\pandas\\util\\_decorators.py:311\u001b[0m, in \u001b[0;36mdeprecate_nonkeyword_arguments.<locals>.decorate.<locals>.wrapper\u001b[1;34m(*args, **kwargs)\u001b[0m\n\u001b[0;32m    305\u001b[0m \u001b[38;5;28;01mif\u001b[39;00m \u001b[38;5;28mlen\u001b[39m(args) \u001b[38;5;241m>\u001b[39m num_allow_args:\n\u001b[0;32m    306\u001b[0m     warnings\u001b[38;5;241m.\u001b[39mwarn(\n\u001b[0;32m    307\u001b[0m         msg\u001b[38;5;241m.\u001b[39mformat(arguments\u001b[38;5;241m=\u001b[39marguments),\n\u001b[0;32m    308\u001b[0m         \u001b[38;5;167;01mFutureWarning\u001b[39;00m,\n\u001b[0;32m    309\u001b[0m         stacklevel\u001b[38;5;241m=\u001b[39mstacklevel,\n\u001b[0;32m    310\u001b[0m     )\n\u001b[1;32m--> 311\u001b[0m \u001b[38;5;28;01mreturn\u001b[39;00m func(\u001b[38;5;241m*\u001b[39margs, \u001b[38;5;241m*\u001b[39m\u001b[38;5;241m*\u001b[39mkwargs)\n",
      "File \u001b[1;32m~\\anaconda3\\lib\\site-packages\\pandas\\core\\reshape\\concat.py:347\u001b[0m, in \u001b[0;36mconcat\u001b[1;34m(objs, axis, join, ignore_index, keys, levels, names, verify_integrity, sort, copy)\u001b[0m\n\u001b[0;32m    143\u001b[0m \u001b[38;5;129m@deprecate_nonkeyword_arguments\u001b[39m(version\u001b[38;5;241m=\u001b[39m\u001b[38;5;28;01mNone\u001b[39;00m, allowed_args\u001b[38;5;241m=\u001b[39m[\u001b[38;5;124m\"\u001b[39m\u001b[38;5;124mobjs\u001b[39m\u001b[38;5;124m\"\u001b[39m])\n\u001b[0;32m    144\u001b[0m \u001b[38;5;28;01mdef\u001b[39;00m \u001b[38;5;21mconcat\u001b[39m(\n\u001b[0;32m    145\u001b[0m     objs: Iterable[NDFrame] \u001b[38;5;241m|\u001b[39m Mapping[Hashable, NDFrame],\n\u001b[1;32m   (...)\u001b[0m\n\u001b[0;32m    154\u001b[0m     copy: \u001b[38;5;28mbool\u001b[39m \u001b[38;5;241m=\u001b[39m \u001b[38;5;28;01mTrue\u001b[39;00m,\n\u001b[0;32m    155\u001b[0m ) \u001b[38;5;241m-\u001b[39m\u001b[38;5;241m>\u001b[39m DataFrame \u001b[38;5;241m|\u001b[39m Series:\n\u001b[0;32m    156\u001b[0m     \u001b[38;5;124;03m\"\"\"\u001b[39;00m\n\u001b[0;32m    157\u001b[0m \u001b[38;5;124;03m    Concatenate pandas objects along a particular axis with optional set logic\u001b[39;00m\n\u001b[0;32m    158\u001b[0m \u001b[38;5;124;03m    along the other axes.\u001b[39;00m\n\u001b[1;32m   (...)\u001b[0m\n\u001b[0;32m    345\u001b[0m \u001b[38;5;124;03m    ValueError: Indexes have overlapping values: ['a']\u001b[39;00m\n\u001b[0;32m    346\u001b[0m \u001b[38;5;124;03m    \"\"\"\u001b[39;00m\n\u001b[1;32m--> 347\u001b[0m     op \u001b[38;5;241m=\u001b[39m \u001b[43m_Concatenator\u001b[49m\u001b[43m(\u001b[49m\n\u001b[0;32m    348\u001b[0m \u001b[43m        \u001b[49m\u001b[43mobjs\u001b[49m\u001b[43m,\u001b[49m\n\u001b[0;32m    349\u001b[0m \u001b[43m        \u001b[49m\u001b[43maxis\u001b[49m\u001b[38;5;241;43m=\u001b[39;49m\u001b[43maxis\u001b[49m\u001b[43m,\u001b[49m\n\u001b[0;32m    350\u001b[0m \u001b[43m        \u001b[49m\u001b[43mignore_index\u001b[49m\u001b[38;5;241;43m=\u001b[39;49m\u001b[43mignore_index\u001b[49m\u001b[43m,\u001b[49m\n\u001b[0;32m    351\u001b[0m \u001b[43m        \u001b[49m\u001b[43mjoin\u001b[49m\u001b[38;5;241;43m=\u001b[39;49m\u001b[43mjoin\u001b[49m\u001b[43m,\u001b[49m\n\u001b[0;32m    352\u001b[0m \u001b[43m        \u001b[49m\u001b[43mkeys\u001b[49m\u001b[38;5;241;43m=\u001b[39;49m\u001b[43mkeys\u001b[49m\u001b[43m,\u001b[49m\n\u001b[0;32m    353\u001b[0m \u001b[43m        \u001b[49m\u001b[43mlevels\u001b[49m\u001b[38;5;241;43m=\u001b[39;49m\u001b[43mlevels\u001b[49m\u001b[43m,\u001b[49m\n\u001b[0;32m    354\u001b[0m \u001b[43m        \u001b[49m\u001b[43mnames\u001b[49m\u001b[38;5;241;43m=\u001b[39;49m\u001b[43mnames\u001b[49m\u001b[43m,\u001b[49m\n\u001b[0;32m    355\u001b[0m \u001b[43m        \u001b[49m\u001b[43mverify_integrity\u001b[49m\u001b[38;5;241;43m=\u001b[39;49m\u001b[43mverify_integrity\u001b[49m\u001b[43m,\u001b[49m\n\u001b[0;32m    356\u001b[0m \u001b[43m        \u001b[49m\u001b[43mcopy\u001b[49m\u001b[38;5;241;43m=\u001b[39;49m\u001b[43mcopy\u001b[49m\u001b[43m,\u001b[49m\n\u001b[0;32m    357\u001b[0m \u001b[43m        \u001b[49m\u001b[43msort\u001b[49m\u001b[38;5;241;43m=\u001b[39;49m\u001b[43msort\u001b[49m\u001b[43m,\u001b[49m\n\u001b[0;32m    358\u001b[0m \u001b[43m    \u001b[49m\u001b[43m)\u001b[49m\n\u001b[0;32m    360\u001b[0m     \u001b[38;5;28;01mreturn\u001b[39;00m op\u001b[38;5;241m.\u001b[39mget_result()\n",
      "File \u001b[1;32m~\\anaconda3\\lib\\site-packages\\pandas\\core\\reshape\\concat.py:404\u001b[0m, in \u001b[0;36m_Concatenator.__init__\u001b[1;34m(self, objs, axis, join, keys, levels, names, ignore_index, verify_integrity, copy, sort)\u001b[0m\n\u001b[0;32m    401\u001b[0m     objs \u001b[38;5;241m=\u001b[39m \u001b[38;5;28mlist\u001b[39m(objs)\n\u001b[0;32m    403\u001b[0m \u001b[38;5;28;01mif\u001b[39;00m \u001b[38;5;28mlen\u001b[39m(objs) \u001b[38;5;241m==\u001b[39m \u001b[38;5;241m0\u001b[39m:\n\u001b[1;32m--> 404\u001b[0m     \u001b[38;5;28;01mraise\u001b[39;00m \u001b[38;5;167;01mValueError\u001b[39;00m(\u001b[38;5;124m\"\u001b[39m\u001b[38;5;124mNo objects to concatenate\u001b[39m\u001b[38;5;124m\"\u001b[39m)\n\u001b[0;32m    406\u001b[0m \u001b[38;5;28;01mif\u001b[39;00m keys \u001b[38;5;129;01mis\u001b[39;00m \u001b[38;5;28;01mNone\u001b[39;00m:\n\u001b[0;32m    407\u001b[0m     objs \u001b[38;5;241m=\u001b[39m \u001b[38;5;28mlist\u001b[39m(com\u001b[38;5;241m.\u001b[39mnot_none(\u001b[38;5;241m*\u001b[39mobjs))\n",
      "\u001b[1;31mValueError\u001b[0m: No objects to concatenate"
     ]
    }
   ],
   "source": [
    "ret_pivot_v2 = pd.pivot_table(ret_current_month,index=['type','report_date_local']\n",
    "                              ,columns=['entry_type']\n",
    "                              ,values=['amount']\n",
    "                              ,aggfunc=np.sum,margins=True)\n",
    "ret_pivot_v2.head()"
   ]
  },
  {
   "cell_type": "code",
   "execution_count": null,
   "metadata": {},
   "outputs": [],
   "source": [
    "ret_pivot_v2.shape"
   ]
  },
  {
   "cell_type": "markdown",
   "metadata": {},
   "source": [
    "# COMISIONES SWAP / BNTE"
   ]
  },
  {
   "cell_type": "code",
   "execution_count": 27,
   "metadata": {},
   "outputs": [
    {
     "data": {
      "text/html": [
       "<div>\n",
       "<style scoped>\n",
       "    .dataframe tbody tr th:only-of-type {\n",
       "        vertical-align: middle;\n",
       "    }\n",
       "\n",
       "    .dataframe tbody tr th {\n",
       "        vertical-align: top;\n",
       "    }\n",
       "\n",
       "    .dataframe thead th {\n",
       "        text-align: right;\n",
       "    }\n",
       "</style>\n",
       "<table border=\"1\" class=\"dataframe\">\n",
       "  <thead>\n",
       "    <tr style=\"text-align: right;\">\n",
       "      <th></th>\n",
       "      <th>date_disbursement</th>\n",
       "      <th>amount</th>\n",
       "      <th>payments_number</th>\n",
       "      <th>comision_dsp</th>\n",
       "      <th>iva_dsp</th>\n",
       "      <th>comision + iva</th>\n",
       "      <th>total_fondeo</th>\n",
       "      <th>monto_mail</th>\n",
       "      <th>comision_mail</th>\n",
       "      <th>iva_mail</th>\n",
       "      <th>monto_fondeo_mail</th>\n",
       "      <th>check_monto</th>\n",
       "      <th>check_comision</th>\n",
       "      <th>check_iva</th>\n",
       "      <th>check_fondeo</th>\n",
       "      <th>dsp</th>\n",
       "      <th>file_name</th>\n",
       "    </tr>\n",
       "  </thead>\n",
       "  <tbody>\n",
       "    <tr>\n",
       "      <th>0</th>\n",
       "      <td>2023-05-01</td>\n",
       "      <td>230,585,913.41</td>\n",
       "      <td>81315</td>\n",
       "      <td>141,886.50</td>\n",
       "      <td>22,701.84</td>\n",
       "      <td>164,588.34</td>\n",
       "      <td>230,750,501.75</td>\n",
       "      <td>230,585,913.41</td>\n",
       "      <td>141,886.50</td>\n",
       "      <td>22,701.84</td>\n",
       "      <td>230,750,501.75</td>\n",
       "      <td>0.00</td>\n",
       "      <td>0.00</td>\n",
       "      <td>0.00</td>\n",
       "      <td>0.00</td>\n",
       "      <td>BNTE</td>\n",
       "      <td>DIFF MONTOS-BNTE-1 2023-05-01.csv</td>\n",
       "    </tr>\n",
       "    <tr>\n",
       "      <th>0</th>\n",
       "      <td>2023-05-06</td>\n",
       "      <td>211,893,977.16</td>\n",
       "      <td>94680</td>\n",
       "      <td>164,674.50</td>\n",
       "      <td>26,347.92</td>\n",
       "      <td>191,022.42</td>\n",
       "      <td>212,084,999.58</td>\n",
       "      <td>211,893,977.16</td>\n",
       "      <td>164,674.50</td>\n",
       "      <td>26,347.92</td>\n",
       "      <td>212,084,999.58</td>\n",
       "      <td>0.00</td>\n",
       "      <td>0.00</td>\n",
       "      <td>0.00</td>\n",
       "      <td>-0.00</td>\n",
       "      <td>BNTE</td>\n",
       "      <td>DIFF MONTOS-BNTE-1 2023-05-06.csv</td>\n",
       "    </tr>\n",
       "    <tr>\n",
       "      <th>0</th>\n",
       "      <td>2023-05-07</td>\n",
       "      <td>226,444,982.25</td>\n",
       "      <td>94707</td>\n",
       "      <td>164,834.10</td>\n",
       "      <td>26,373.46</td>\n",
       "      <td>191,207.56</td>\n",
       "      <td>226,636,189.81</td>\n",
       "      <td>226,444,982.25</td>\n",
       "      <td>164,834.10</td>\n",
       "      <td>26,373.46</td>\n",
       "      <td>226,636,189.81</td>\n",
       "      <td>0.00</td>\n",
       "      <td>0.00</td>\n",
       "      <td>-0.00</td>\n",
       "      <td>-0.00</td>\n",
       "      <td>BNTE</td>\n",
       "      <td>DIFF MONTOS-BNTE-1 2023-05-07.csv</td>\n",
       "    </tr>\n",
       "    <tr>\n",
       "      <th>0</th>\n",
       "      <td>2023-05-13</td>\n",
       "      <td>203,156,366.64</td>\n",
       "      <td>95000</td>\n",
       "      <td>165,165.00</td>\n",
       "      <td>26,426.40</td>\n",
       "      <td>191,591.40</td>\n",
       "      <td>203,347,958.04</td>\n",
       "      <td>203,156,366.64</td>\n",
       "      <td>165,165.00</td>\n",
       "      <td>26,426.40</td>\n",
       "      <td>203,347,958.04</td>\n",
       "      <td>0.00</td>\n",
       "      <td>0.00</td>\n",
       "      <td>0.00</td>\n",
       "      <td>0.00</td>\n",
       "      <td>BNTE</td>\n",
       "      <td>DIFF MONTOS-BNTE-1 2023-05-13.csv</td>\n",
       "    </tr>\n",
       "    <tr>\n",
       "      <th>0</th>\n",
       "      <td>2023-05-14</td>\n",
       "      <td>232,789,716.32</td>\n",
       "      <td>94720</td>\n",
       "      <td>164,793.75</td>\n",
       "      <td>26,367.00</td>\n",
       "      <td>191,160.75</td>\n",
       "      <td>232,980,877.07</td>\n",
       "      <td>232,789,716.32</td>\n",
       "      <td>164,793.75</td>\n",
       "      <td>26,367.00</td>\n",
       "      <td>232,980,877.07</td>\n",
       "      <td>0.00</td>\n",
       "      <td>0.00</td>\n",
       "      <td>0.00</td>\n",
       "      <td>0.00</td>\n",
       "      <td>BNTE</td>\n",
       "      <td>DIFF MONTOS-BNTE-1 2023-05-14.csv</td>\n",
       "    </tr>\n",
       "  </tbody>\n",
       "</table>\n",
       "</div>"
      ],
      "text/plain": [
       "  date_disbursement         amount  payments_number  comision_dsp   iva_dsp  \\\n",
       "0        2023-05-01 230,585,913.41            81315    141,886.50 22,701.84   \n",
       "0        2023-05-06 211,893,977.16            94680    164,674.50 26,347.92   \n",
       "0        2023-05-07 226,444,982.25            94707    164,834.10 26,373.46   \n",
       "0        2023-05-13 203,156,366.64            95000    165,165.00 26,426.40   \n",
       "0        2023-05-14 232,789,716.32            94720    164,793.75 26,367.00   \n",
       "\n",
       "   comision + iva   total_fondeo     monto_mail  comision_mail  iva_mail  \\\n",
       "0      164,588.34 230,750,501.75 230,585,913.41     141,886.50 22,701.84   \n",
       "0      191,022.42 212,084,999.58 211,893,977.16     164,674.50 26,347.92   \n",
       "0      191,207.56 226,636,189.81 226,444,982.25     164,834.10 26,373.46   \n",
       "0      191,591.40 203,347,958.04 203,156,366.64     165,165.00 26,426.40   \n",
       "0      191,160.75 232,980,877.07 232,789,716.32     164,793.75 26,367.00   \n",
       "\n",
       "   monto_fondeo_mail  check_monto  check_comision  check_iva  check_fondeo  \\\n",
       "0     230,750,501.75         0.00            0.00       0.00          0.00   \n",
       "0     212,084,999.58         0.00            0.00       0.00         -0.00   \n",
       "0     226,636,189.81         0.00            0.00      -0.00         -0.00   \n",
       "0     203,347,958.04         0.00            0.00       0.00          0.00   \n",
       "0     232,980,877.07         0.00            0.00       0.00          0.00   \n",
       "\n",
       "    dsp                          file_name  \n",
       "0  BNTE  DIFF MONTOS-BNTE-1 2023-05-01.csv  \n",
       "0  BNTE  DIFF MONTOS-BNTE-1 2023-05-06.csv  \n",
       "0  BNTE  DIFF MONTOS-BNTE-1 2023-05-07.csv  \n",
       "0  BNTE  DIFF MONTOS-BNTE-1 2023-05-13.csv  \n",
       "0  BNTE  DIFF MONTOS-BNTE-1 2023-05-14.csv  "
      ]
     },
     "execution_count": 27,
     "metadata": {},
     "output_type": "execute_result"
    }
   ],
   "source": [
    "com_1 = pd.concat([pd.read_csv(f).assign(file_name=os.path.basename(f)) for f in allfiles_com])\n",
    "com_1.head()"
   ]
  },
  {
   "cell_type": "code",
   "execution_count": 28,
   "metadata": {},
   "outputs": [
    {
     "data": {
      "text/plain": [
       "(73, 17)"
      ]
     },
     "execution_count": 28,
     "metadata": {},
     "output_type": "execute_result"
    }
   ],
   "source": [
    "com_1.shape"
   ]
  },
  {
   "cell_type": "markdown",
   "metadata": {},
   "source": [
    "### CURRENT DATES"
   ]
  },
  {
   "cell_type": "code",
   "execution_count": 29,
   "metadata": {},
   "outputs": [
    {
     "data": {
      "text/html": [
       "<div>\n",
       "<style scoped>\n",
       "    .dataframe tbody tr th:only-of-type {\n",
       "        vertical-align: middle;\n",
       "    }\n",
       "\n",
       "    .dataframe tbody tr th {\n",
       "        vertical-align: top;\n",
       "    }\n",
       "\n",
       "    .dataframe thead th {\n",
       "        text-align: right;\n",
       "    }\n",
       "</style>\n",
       "<table border=\"1\" class=\"dataframe\">\n",
       "  <thead>\n",
       "    <tr style=\"text-align: right;\">\n",
       "      <th></th>\n",
       "      <th>date_disbursement</th>\n",
       "      <th>amount</th>\n",
       "      <th>payments_number</th>\n",
       "      <th>comision_dsp</th>\n",
       "      <th>iva_dsp</th>\n",
       "      <th>comision + iva</th>\n",
       "      <th>total_fondeo</th>\n",
       "      <th>monto_mail</th>\n",
       "      <th>comision_mail</th>\n",
       "      <th>iva_mail</th>\n",
       "      <th>monto_fondeo_mail</th>\n",
       "      <th>check_monto</th>\n",
       "      <th>check_comision</th>\n",
       "      <th>check_iva</th>\n",
       "      <th>check_fondeo</th>\n",
       "      <th>dsp</th>\n",
       "      <th>file_name</th>\n",
       "    </tr>\n",
       "  </thead>\n",
       "  <tbody>\n",
       "    <tr>\n",
       "      <th>0</th>\n",
       "      <td>2023-05-01</td>\n",
       "      <td>230,585,913.41</td>\n",
       "      <td>81315</td>\n",
       "      <td>141,886.50</td>\n",
       "      <td>22,701.84</td>\n",
       "      <td>164,588.34</td>\n",
       "      <td>230,750,501.75</td>\n",
       "      <td>230,585,913.41</td>\n",
       "      <td>141,886.50</td>\n",
       "      <td>22,701.84</td>\n",
       "      <td>230,750,501.75</td>\n",
       "      <td>0.00</td>\n",
       "      <td>0.00</td>\n",
       "      <td>0.00</td>\n",
       "      <td>0.00</td>\n",
       "      <td>BNTE</td>\n",
       "      <td>DIFF MONTOS-BNTE-1 2023-05-01.csv</td>\n",
       "    </tr>\n",
       "    <tr>\n",
       "      <th>0</th>\n",
       "      <td>2023-05-06</td>\n",
       "      <td>211,893,977.16</td>\n",
       "      <td>94680</td>\n",
       "      <td>164,674.50</td>\n",
       "      <td>26,347.92</td>\n",
       "      <td>191,022.42</td>\n",
       "      <td>212,084,999.58</td>\n",
       "      <td>211,893,977.16</td>\n",
       "      <td>164,674.50</td>\n",
       "      <td>26,347.92</td>\n",
       "      <td>212,084,999.58</td>\n",
       "      <td>0.00</td>\n",
       "      <td>0.00</td>\n",
       "      <td>0.00</td>\n",
       "      <td>-0.00</td>\n",
       "      <td>BNTE</td>\n",
       "      <td>DIFF MONTOS-BNTE-1 2023-05-06.csv</td>\n",
       "    </tr>\n",
       "    <tr>\n",
       "      <th>0</th>\n",
       "      <td>2023-05-07</td>\n",
       "      <td>226,444,982.25</td>\n",
       "      <td>94707</td>\n",
       "      <td>164,834.10</td>\n",
       "      <td>26,373.46</td>\n",
       "      <td>191,207.56</td>\n",
       "      <td>226,636,189.81</td>\n",
       "      <td>226,444,982.25</td>\n",
       "      <td>164,834.10</td>\n",
       "      <td>26,373.46</td>\n",
       "      <td>226,636,189.81</td>\n",
       "      <td>0.00</td>\n",
       "      <td>0.00</td>\n",
       "      <td>-0.00</td>\n",
       "      <td>-0.00</td>\n",
       "      <td>BNTE</td>\n",
       "      <td>DIFF MONTOS-BNTE-1 2023-05-07.csv</td>\n",
       "    </tr>\n",
       "    <tr>\n",
       "      <th>0</th>\n",
       "      <td>2023-05-13</td>\n",
       "      <td>203,156,366.64</td>\n",
       "      <td>95000</td>\n",
       "      <td>165,165.00</td>\n",
       "      <td>26,426.40</td>\n",
       "      <td>191,591.40</td>\n",
       "      <td>203,347,958.04</td>\n",
       "      <td>203,156,366.64</td>\n",
       "      <td>165,165.00</td>\n",
       "      <td>26,426.40</td>\n",
       "      <td>203,347,958.04</td>\n",
       "      <td>0.00</td>\n",
       "      <td>0.00</td>\n",
       "      <td>0.00</td>\n",
       "      <td>0.00</td>\n",
       "      <td>BNTE</td>\n",
       "      <td>DIFF MONTOS-BNTE-1 2023-05-13.csv</td>\n",
       "    </tr>\n",
       "    <tr>\n",
       "      <th>0</th>\n",
       "      <td>2023-05-14</td>\n",
       "      <td>232,789,716.32</td>\n",
       "      <td>94720</td>\n",
       "      <td>164,793.75</td>\n",
       "      <td>26,367.00</td>\n",
       "      <td>191,160.75</td>\n",
       "      <td>232,980,877.07</td>\n",
       "      <td>232,789,716.32</td>\n",
       "      <td>164,793.75</td>\n",
       "      <td>26,367.00</td>\n",
       "      <td>232,980,877.07</td>\n",
       "      <td>0.00</td>\n",
       "      <td>0.00</td>\n",
       "      <td>0.00</td>\n",
       "      <td>0.00</td>\n",
       "      <td>BNTE</td>\n",
       "      <td>DIFF MONTOS-BNTE-1 2023-05-14.csv</td>\n",
       "    </tr>\n",
       "  </tbody>\n",
       "</table>\n",
       "</div>"
      ],
      "text/plain": [
       "  date_disbursement         amount  payments_number  comision_dsp   iva_dsp  \\\n",
       "0        2023-05-01 230,585,913.41            81315    141,886.50 22,701.84   \n",
       "0        2023-05-06 211,893,977.16            94680    164,674.50 26,347.92   \n",
       "0        2023-05-07 226,444,982.25            94707    164,834.10 26,373.46   \n",
       "0        2023-05-13 203,156,366.64            95000    165,165.00 26,426.40   \n",
       "0        2023-05-14 232,789,716.32            94720    164,793.75 26,367.00   \n",
       "\n",
       "   comision + iva   total_fondeo     monto_mail  comision_mail  iva_mail  \\\n",
       "0      164,588.34 230,750,501.75 230,585,913.41     141,886.50 22,701.84   \n",
       "0      191,022.42 212,084,999.58 211,893,977.16     164,674.50 26,347.92   \n",
       "0      191,207.56 226,636,189.81 226,444,982.25     164,834.10 26,373.46   \n",
       "0      191,591.40 203,347,958.04 203,156,366.64     165,165.00 26,426.40   \n",
       "0      191,160.75 232,980,877.07 232,789,716.32     164,793.75 26,367.00   \n",
       "\n",
       "   monto_fondeo_mail  check_monto  check_comision  check_iva  check_fondeo  \\\n",
       "0     230,750,501.75         0.00            0.00       0.00          0.00   \n",
       "0     212,084,999.58         0.00            0.00       0.00         -0.00   \n",
       "0     226,636,189.81         0.00            0.00      -0.00         -0.00   \n",
       "0     203,347,958.04         0.00            0.00       0.00          0.00   \n",
       "0     232,980,877.07         0.00            0.00       0.00          0.00   \n",
       "\n",
       "    dsp                          file_name  \n",
       "0  BNTE  DIFF MONTOS-BNTE-1 2023-05-01.csv  \n",
       "0  BNTE  DIFF MONTOS-BNTE-1 2023-05-06.csv  \n",
       "0  BNTE  DIFF MONTOS-BNTE-1 2023-05-07.csv  \n",
       "0  BNTE  DIFF MONTOS-BNTE-1 2023-05-13.csv  \n",
       "0  BNTE  DIFF MONTOS-BNTE-1 2023-05-14.csv  "
      ]
     },
     "execution_count": 29,
     "metadata": {},
     "output_type": "execute_result"
    }
   ],
   "source": [
    "com_current_month = com_1[(com_1['date_disbursement'] >= start_date) & (com_1['date_disbursement'] <= final_date)]\n",
    "com_current_month.head()"
   ]
  },
  {
   "cell_type": "code",
   "execution_count": 30,
   "metadata": {},
   "outputs": [
    {
     "data": {
      "text/plain": [
       "(73, 17)"
      ]
     },
     "execution_count": 30,
     "metadata": {},
     "output_type": "execute_result"
    }
   ],
   "source": [
    "com_current_month.shape"
   ]
  },
  {
   "cell_type": "code",
   "execution_count": 31,
   "metadata": {},
   "outputs": [
    {
     "data": {
      "text/plain": [
       "Index(['date_disbursement', 'amount', 'payments_number', 'comision_dsp',\n",
       "       'iva_dsp', 'comision + iva', 'total_fondeo', 'monto_mail',\n",
       "       'comision_mail', 'iva_mail', 'monto_fondeo_mail', 'check_monto',\n",
       "       'check_comision', 'check_iva', 'check_fondeo', 'dsp', 'file_name'],\n",
       "      dtype='object')"
      ]
     },
     "execution_count": 31,
     "metadata": {},
     "output_type": "execute_result"
    }
   ],
   "source": [
    "com_current_month.columns"
   ]
  },
  {
   "cell_type": "code",
   "execution_count": 32,
   "metadata": {},
   "outputs": [
    {
     "data": {
      "text/html": [
       "<div>\n",
       "<style scoped>\n",
       "    .dataframe tbody tr th:only-of-type {\n",
       "        vertical-align: middle;\n",
       "    }\n",
       "\n",
       "    .dataframe tbody tr th {\n",
       "        vertical-align: top;\n",
       "    }\n",
       "\n",
       "    .dataframe thead th {\n",
       "        text-align: right;\n",
       "    }\n",
       "</style>\n",
       "<table border=\"1\" class=\"dataframe\">\n",
       "  <thead>\n",
       "    <tr style=\"text-align: right;\">\n",
       "      <th></th>\n",
       "      <th>date_disbursement</th>\n",
       "      <th>payments_number</th>\n",
       "      <th>amount</th>\n",
       "      <th>comision_dsp</th>\n",
       "      <th>iva_dsp</th>\n",
       "      <th>comision + iva</th>\n",
       "      <th>total_fondeo</th>\n",
       "      <th>monto_mail</th>\n",
       "      <th>comision_mail</th>\n",
       "      <th>iva_mail</th>\n",
       "      <th>monto_fondeo_mail</th>\n",
       "      <th>check_monto</th>\n",
       "      <th>check_comision</th>\n",
       "      <th>check_iva</th>\n",
       "      <th>check_fondeo</th>\n",
       "    </tr>\n",
       "  </thead>\n",
       "  <tbody>\n",
       "    <tr>\n",
       "      <th>0</th>\n",
       "      <td>2023-05-01</td>\n",
       "      <td>81366</td>\n",
       "      <td>230,716,415.62</td>\n",
       "      <td>141,978.30</td>\n",
       "      <td>22,716.53</td>\n",
       "      <td>164,694.83</td>\n",
       "      <td>230,881,110.45</td>\n",
       "      <td>230,716,415.62</td>\n",
       "      <td>141,978.30</td>\n",
       "      <td>22,716.53</td>\n",
       "      <td>230,881,110.45</td>\n",
       "      <td>0.00</td>\n",
       "      <td>0.00</td>\n",
       "      <td>-0.00</td>\n",
       "      <td>-0.00</td>\n",
       "    </tr>\n",
       "    <tr>\n",
       "      <th>1</th>\n",
       "      <td>2023-05-02</td>\n",
       "      <td>77319</td>\n",
       "      <td>169,828,564.81</td>\n",
       "      <td>38,709.85</td>\n",
       "      <td>6,193.58</td>\n",
       "      <td>44,903.43</td>\n",
       "      <td>169,873,468.24</td>\n",
       "      <td>169,828,564.81</td>\n",
       "      <td>38,709.85</td>\n",
       "      <td>6,193.58</td>\n",
       "      <td>169,873,468.24</td>\n",
       "      <td>0.00</td>\n",
       "      <td>0.00</td>\n",
       "      <td>-0.00</td>\n",
       "      <td>-0.00</td>\n",
       "    </tr>\n",
       "    <tr>\n",
       "      <th>2</th>\n",
       "      <td>2023-05-03</td>\n",
       "      <td>100089</td>\n",
       "      <td>196,610,270.15</td>\n",
       "      <td>50,075.70</td>\n",
       "      <td>8,012.11</td>\n",
       "      <td>58,087.81</td>\n",
       "      <td>196,668,357.96</td>\n",
       "      <td>196,610,270.15</td>\n",
       "      <td>50,075.70</td>\n",
       "      <td>8,012.11</td>\n",
       "      <td>196,668,357.96</td>\n",
       "      <td>0.00</td>\n",
       "      <td>0.00</td>\n",
       "      <td>0.00</td>\n",
       "      <td>0.00</td>\n",
       "    </tr>\n",
       "    <tr>\n",
       "      <th>3</th>\n",
       "      <td>2023-05-04</td>\n",
       "      <td>100659</td>\n",
       "      <td>194,263,474.41</td>\n",
       "      <td>50,408.20</td>\n",
       "      <td>8,065.31</td>\n",
       "      <td>58,473.51</td>\n",
       "      <td>194,321,947.92</td>\n",
       "      <td>194,263,474.41</td>\n",
       "      <td>50,408.20</td>\n",
       "      <td>8,065.31</td>\n",
       "      <td>194,321,947.92</td>\n",
       "      <td>0.00</td>\n",
       "      <td>0.00</td>\n",
       "      <td>0.00</td>\n",
       "      <td>0.00</td>\n",
       "    </tr>\n",
       "    <tr>\n",
       "      <th>4</th>\n",
       "      <td>2023-05-05</td>\n",
       "      <td>105052</td>\n",
       "      <td>212,285,773.95</td>\n",
       "      <td>52,535.10</td>\n",
       "      <td>8,405.62</td>\n",
       "      <td>60,940.72</td>\n",
       "      <td>212,346,714.67</td>\n",
       "      <td>212,285,773.95</td>\n",
       "      <td>52,535.10</td>\n",
       "      <td>8,405.62</td>\n",
       "      <td>212,346,714.67</td>\n",
       "      <td>0.00</td>\n",
       "      <td>0.00</td>\n",
       "      <td>-0.00</td>\n",
       "      <td>-0.00</td>\n",
       "    </tr>\n",
       "  </tbody>\n",
       "</table>\n",
       "</div>"
      ],
      "text/plain": [
       "  date_disbursement  payments_number         amount  comision_dsp   iva_dsp  \\\n",
       "0        2023-05-01            81366 230,716,415.62    141,978.30 22,716.53   \n",
       "1        2023-05-02            77319 169,828,564.81     38,709.85  6,193.58   \n",
       "2        2023-05-03           100089 196,610,270.15     50,075.70  8,012.11   \n",
       "3        2023-05-04           100659 194,263,474.41     50,408.20  8,065.31   \n",
       "4        2023-05-05           105052 212,285,773.95     52,535.10  8,405.62   \n",
       "\n",
       "   comision + iva   total_fondeo     monto_mail  comision_mail  iva_mail  \\\n",
       "0      164,694.83 230,881,110.45 230,716,415.62     141,978.30 22,716.53   \n",
       "1       44,903.43 169,873,468.24 169,828,564.81      38,709.85  6,193.58   \n",
       "2       58,087.81 196,668,357.96 196,610,270.15      50,075.70  8,012.11   \n",
       "3       58,473.51 194,321,947.92 194,263,474.41      50,408.20  8,065.31   \n",
       "4       60,940.72 212,346,714.67 212,285,773.95      52,535.10  8,405.62   \n",
       "\n",
       "   monto_fondeo_mail  check_monto  check_comision  check_iva  check_fondeo  \n",
       "0     230,881,110.45         0.00            0.00      -0.00         -0.00  \n",
       "1     169,873,468.24         0.00            0.00      -0.00         -0.00  \n",
       "2     196,668,357.96         0.00            0.00       0.00          0.00  \n",
       "3     194,321,947.92         0.00            0.00       0.00          0.00  \n",
       "4     212,346,714.67         0.00            0.00      -0.00         -0.00  "
      ]
     },
     "execution_count": 32,
     "metadata": {},
     "output_type": "execute_result"
    }
   ],
   "source": [
    "com_final = com_current_month.groupby(['date_disbursement']).agg({'payments_number':sum,'amount':sum,'comision_dsp':sum,\n",
    "                                                                  'iva_dsp':sum,'comision + iva':sum,'total_fondeo':sum,\n",
    "                                                                 'monto_mail':sum,'comision_mail':sum,'iva_mail':sum,\n",
    "                                                                 'monto_fondeo_mail':sum,'check_monto':sum,'check_comision':sum,\n",
    "                                                                 'check_iva':sum,'check_fondeo':sum}).reset_index()\n",
    "com_final.head()"
   ]
  },
  {
   "cell_type": "markdown",
   "metadata": {},
   "source": [
    "# LENDERS"
   ]
  },
  {
   "cell_type": "code",
   "execution_count": 33,
   "metadata": {},
   "outputs": [
    {
     "data": {
      "text/html": [
       "<div>\n",
       "<style scoped>\n",
       "    .dataframe tbody tr th:only-of-type {\n",
       "        vertical-align: middle;\n",
       "    }\n",
       "\n",
       "    .dataframe tbody tr th {\n",
       "        vertical-align: top;\n",
       "    }\n",
       "\n",
       "    .dataframe thead th {\n",
       "        text-align: right;\n",
       "    }\n",
       "</style>\n",
       "<table border=\"1\" class=\"dataframe\">\n",
       "  <thead>\n",
       "    <tr style=\"text-align: right;\">\n",
       "      <th></th>\n",
       "      <th>collection_date_local</th>\n",
       "      <th>merchant_token</th>\n",
       "      <th>merchant_id</th>\n",
       "      <th>loan_id</th>\n",
       "      <th>provider_code</th>\n",
       "      <th>collection_origin</th>\n",
       "      <th>source</th>\n",
       "      <th>amount</th>\n",
       "      <th>capital</th>\n",
       "      <th>interest</th>\n",
       "      <th>tax</th>\n",
       "      <th>file_name</th>\n",
       "    </tr>\n",
       "  </thead>\n",
       "  <tbody>\n",
       "    <tr>\n",
       "      <th>0</th>\n",
       "      <td>2023-01-01</td>\n",
       "      <td>d8d8f9b2-0585-48e0-8d1f-e3bbf4766fbe</td>\n",
       "      <td>30a435af-3c57-4063-bf36-735f5731b179</td>\n",
       "      <td>df0ca1c8-0193-426c-8a32-c164b5ca715e</td>\n",
       "      <td>MRP</td>\n",
       "      <td>SETTLEMENT</td>\n",
       "      <td>LEDGER</td>\n",
       "      <td>23.05</td>\n",
       "      <td>16.60</td>\n",
       "      <td>6.45</td>\n",
       "      <td>0.00</td>\n",
       "      <td>LENDERS DB ENERO 2023.csv</td>\n",
       "    </tr>\n",
       "    <tr>\n",
       "      <th>1</th>\n",
       "      <td>2023-01-01</td>\n",
       "      <td>c4bad384-1718-4f7f-980e-910738bf4c79</td>\n",
       "      <td>0ace4fbe-6ab7-4e7f-a6b0-2a1bb8d6171a</td>\n",
       "      <td>45e17b07-8134-4e21-8aa8-2f90b4df9f37</td>\n",
       "      <td>CTO</td>\n",
       "      <td>SETTLEMENT</td>\n",
       "      <td>LEDGER</td>\n",
       "      <td>18.66</td>\n",
       "      <td>12.74</td>\n",
       "      <td>5.10</td>\n",
       "      <td>0.82</td>\n",
       "      <td>LENDERS DB ENERO 2023.csv</td>\n",
       "    </tr>\n",
       "    <tr>\n",
       "      <th>2</th>\n",
       "      <td>2023-01-01</td>\n",
       "      <td>1592f594-8416-447e-a316-ffc57ea7596f</td>\n",
       "      <td>0614af35-a0b4-4774-ae6f-4eef4238b915</td>\n",
       "      <td>2df0924e-4f58-46c5-8ec1-32a1beec4d49</td>\n",
       "      <td>MRP</td>\n",
       "      <td>SETTLEMENT</td>\n",
       "      <td>LEDGER</td>\n",
       "      <td>98.65</td>\n",
       "      <td>71.03</td>\n",
       "      <td>27.62</td>\n",
       "      <td>0.00</td>\n",
       "      <td>LENDERS DB ENERO 2023.csv</td>\n",
       "    </tr>\n",
       "    <tr>\n",
       "      <th>3</th>\n",
       "      <td>2023-01-01</td>\n",
       "      <td>fa8ee41a-394c-4506-b450-9f8a048a3cfc</td>\n",
       "      <td>789ef894-8d9d-48cb-a20a-0860a44d4a1e</td>\n",
       "      <td>935289b5-6689-4a98-af7f-d91e1a399533</td>\n",
       "      <td>MRP</td>\n",
       "      <td>SETTLEMENT</td>\n",
       "      <td>LEDGER</td>\n",
       "      <td>55.43</td>\n",
       "      <td>41.57</td>\n",
       "      <td>13.86</td>\n",
       "      <td>0.00</td>\n",
       "      <td>LENDERS DB ENERO 2023.csv</td>\n",
       "    </tr>\n",
       "    <tr>\n",
       "      <th>4</th>\n",
       "      <td>2023-01-01</td>\n",
       "      <td>41d8b68d-d496-48bd-9d2e-d3bfe8a4628e</td>\n",
       "      <td>5fab90f8-faf0-48a8-9065-e67b2cde2abe</td>\n",
       "      <td>d4ee526d-2a99-406b-95d3-309ee8d7f84b</td>\n",
       "      <td>MRP</td>\n",
       "      <td>SETTLEMENT</td>\n",
       "      <td>LEDGER</td>\n",
       "      <td>16.44</td>\n",
       "      <td>13.48</td>\n",
       "      <td>2.96</td>\n",
       "      <td>0.00</td>\n",
       "      <td>LENDERS DB ENERO 2023.csv</td>\n",
       "    </tr>\n",
       "  </tbody>\n",
       "</table>\n",
       "</div>"
      ],
      "text/plain": [
       "  collection_date_local                        merchant_token  \\\n",
       "0            2023-01-01  d8d8f9b2-0585-48e0-8d1f-e3bbf4766fbe   \n",
       "1            2023-01-01  c4bad384-1718-4f7f-980e-910738bf4c79   \n",
       "2            2023-01-01  1592f594-8416-447e-a316-ffc57ea7596f   \n",
       "3            2023-01-01  fa8ee41a-394c-4506-b450-9f8a048a3cfc   \n",
       "4            2023-01-01  41d8b68d-d496-48bd-9d2e-d3bfe8a4628e   \n",
       "\n",
       "                            merchant_id                               loan_id  \\\n",
       "0  30a435af-3c57-4063-bf36-735f5731b179  df0ca1c8-0193-426c-8a32-c164b5ca715e   \n",
       "1  0ace4fbe-6ab7-4e7f-a6b0-2a1bb8d6171a  45e17b07-8134-4e21-8aa8-2f90b4df9f37   \n",
       "2  0614af35-a0b4-4774-ae6f-4eef4238b915  2df0924e-4f58-46c5-8ec1-32a1beec4d49   \n",
       "3  789ef894-8d9d-48cb-a20a-0860a44d4a1e  935289b5-6689-4a98-af7f-d91e1a399533   \n",
       "4  5fab90f8-faf0-48a8-9065-e67b2cde2abe  d4ee526d-2a99-406b-95d3-309ee8d7f84b   \n",
       "\n",
       "  provider_code collection_origin  source  amount  capital  interest  tax  \\\n",
       "0           MRP        SETTLEMENT  LEDGER   23.05    16.60      6.45 0.00   \n",
       "1           CTO        SETTLEMENT  LEDGER   18.66    12.74      5.10 0.82   \n",
       "2           MRP        SETTLEMENT  LEDGER   98.65    71.03     27.62 0.00   \n",
       "3           MRP        SETTLEMENT  LEDGER   55.43    41.57     13.86 0.00   \n",
       "4           MRP        SETTLEMENT  LEDGER   16.44    13.48      2.96 0.00   \n",
       "\n",
       "                   file_name  \n",
       "0  LENDERS DB ENERO 2023.csv  \n",
       "1  LENDERS DB ENERO 2023.csv  \n",
       "2  LENDERS DB ENERO 2023.csv  \n",
       "3  LENDERS DB ENERO 2023.csv  \n",
       "4  LENDERS DB ENERO 2023.csv  "
      ]
     },
     "execution_count": 33,
     "metadata": {},
     "output_type": "execute_result"
    }
   ],
   "source": [
    "lender_1 = pd.concat([pd.read_csv(f).assign(file_name=os.path.basename(f)) for f in allfiles_lender])\n",
    "lender_1.columns = lender_1.columns.str.strip().str.lower() \n",
    "lender_1.head()"
   ]
  },
  {
   "cell_type": "code",
   "execution_count": 34,
   "metadata": {},
   "outputs": [
    {
     "data": {
      "text/plain": [
       "(2829249, 12)"
      ]
     },
     "execution_count": 34,
     "metadata": {},
     "output_type": "execute_result"
    }
   ],
   "source": [
    "lender_1.shape"
   ]
  },
  {
   "cell_type": "code",
   "execution_count": 35,
   "metadata": {},
   "outputs": [
    {
     "data": {
      "text/plain": [
       "array(['LEDGER', 'REGULAR', 'FAST_PAYMENT'], dtype=object)"
      ]
     },
     "execution_count": 35,
     "metadata": {},
     "output_type": "execute_result"
    }
   ],
   "source": [
    "lender_1['source'].unique()"
   ]
  },
  {
   "cell_type": "markdown",
   "metadata": {},
   "source": [
    "### CURRENT DATES"
   ]
  },
  {
   "cell_type": "code",
   "execution_count": 36,
   "metadata": {},
   "outputs": [
    {
     "data": {
      "text/html": [
       "<div>\n",
       "<style scoped>\n",
       "    .dataframe tbody tr th:only-of-type {\n",
       "        vertical-align: middle;\n",
       "    }\n",
       "\n",
       "    .dataframe tbody tr th {\n",
       "        vertical-align: top;\n",
       "    }\n",
       "\n",
       "    .dataframe thead th {\n",
       "        text-align: right;\n",
       "    }\n",
       "</style>\n",
       "<table border=\"1\" class=\"dataframe\">\n",
       "  <thead>\n",
       "    <tr style=\"text-align: right;\">\n",
       "      <th></th>\n",
       "      <th>collection_date_local</th>\n",
       "      <th>merchant_token</th>\n",
       "      <th>merchant_id</th>\n",
       "      <th>loan_id</th>\n",
       "      <th>provider_code</th>\n",
       "      <th>collection_origin</th>\n",
       "      <th>source</th>\n",
       "      <th>amount</th>\n",
       "      <th>capital</th>\n",
       "      <th>interest</th>\n",
       "      <th>tax</th>\n",
       "      <th>file_name</th>\n",
       "    </tr>\n",
       "  </thead>\n",
       "  <tbody>\n",
       "    <tr>\n",
       "      <th>0</th>\n",
       "      <td>2023-05-01</td>\n",
       "      <td>0a91672a-a43a-4f0b-8775-d0ff1f1b908d</td>\n",
       "      <td>44fba00b-19f7-4063-9a07-d40594259183</td>\n",
       "      <td>f3562f75-f8fe-4a95-bc9f-00b192e233bf</td>\n",
       "      <td>MRP</td>\n",
       "      <td>SETTLEMENT</td>\n",
       "      <td>LEDGER</td>\n",
       "      <td>77.04</td>\n",
       "      <td>65.90</td>\n",
       "      <td>9.60</td>\n",
       "      <td>1.54</td>\n",
       "      <td>LENDERS DB MAYO 2023.csv</td>\n",
       "    </tr>\n",
       "    <tr>\n",
       "      <th>1</th>\n",
       "      <td>2023-05-01</td>\n",
       "      <td>b75130a4-350b-4478-9842-8a07acf4f746</td>\n",
       "      <td>ec257ba3-3dcd-4298-ac7f-8033657e31ee</td>\n",
       "      <td>7ed62b0c-0e0b-48a9-8997-137fddadcf0f</td>\n",
       "      <td>MRP</td>\n",
       "      <td>SETTLEMENT</td>\n",
       "      <td>LEDGER</td>\n",
       "      <td>48.13</td>\n",
       "      <td>36.10</td>\n",
       "      <td>12.03</td>\n",
       "      <td>0.00</td>\n",
       "      <td>LENDERS DB MAYO 2023.csv</td>\n",
       "    </tr>\n",
       "    <tr>\n",
       "      <th>2</th>\n",
       "      <td>2023-05-01</td>\n",
       "      <td>84078b2f-bd92-4278-814b-402df1114dff</td>\n",
       "      <td>0e6ce766-7779-4eaa-af05-ad8688277464</td>\n",
       "      <td>61824e58-439c-4e77-a48a-0fe56e0c704f</td>\n",
       "      <td>MRP</td>\n",
       "      <td>SETTLEMENT</td>\n",
       "      <td>LEDGER</td>\n",
       "      <td>75.99</td>\n",
       "      <td>62.90</td>\n",
       "      <td>11.28</td>\n",
       "      <td>1.81</td>\n",
       "      <td>LENDERS DB MAYO 2023.csv</td>\n",
       "    </tr>\n",
       "    <tr>\n",
       "      <th>3</th>\n",
       "      <td>2023-05-01</td>\n",
       "      <td>c4b3aa2d-f17a-453a-a179-ec4a75baf1c8</td>\n",
       "      <td>20a730e3-02ee-4d3e-9838-2ed815232963</td>\n",
       "      <td>df2b3af0-581f-4bde-a5f2-d2af67507c82</td>\n",
       "      <td>MRP</td>\n",
       "      <td>SETTLEMENT</td>\n",
       "      <td>LEDGER</td>\n",
       "      <td>287.47</td>\n",
       "      <td>205.03</td>\n",
       "      <td>71.07</td>\n",
       "      <td>11.37</td>\n",
       "      <td>LENDERS DB MAYO 2023.csv</td>\n",
       "    </tr>\n",
       "    <tr>\n",
       "      <th>4</th>\n",
       "      <td>2023-05-01</td>\n",
       "      <td>a2319744-0304-407a-bb20-48d0613174d4</td>\n",
       "      <td>35f0a0bf-a295-421c-9b70-153af7244541</td>\n",
       "      <td>e554af63-b467-4aa2-91fd-dea8faa1ecbd</td>\n",
       "      <td>MRP</td>\n",
       "      <td>SETTLEMENT</td>\n",
       "      <td>LEDGER</td>\n",
       "      <td>6.44</td>\n",
       "      <td>5.33</td>\n",
       "      <td>0.96</td>\n",
       "      <td>0.15</td>\n",
       "      <td>LENDERS DB MAYO 2023.csv</td>\n",
       "    </tr>\n",
       "  </tbody>\n",
       "</table>\n",
       "</div>"
      ],
      "text/plain": [
       "  collection_date_local                        merchant_token  \\\n",
       "0            2023-05-01  0a91672a-a43a-4f0b-8775-d0ff1f1b908d   \n",
       "1            2023-05-01  b75130a4-350b-4478-9842-8a07acf4f746   \n",
       "2            2023-05-01  84078b2f-bd92-4278-814b-402df1114dff   \n",
       "3            2023-05-01  c4b3aa2d-f17a-453a-a179-ec4a75baf1c8   \n",
       "4            2023-05-01  a2319744-0304-407a-bb20-48d0613174d4   \n",
       "\n",
       "                            merchant_id                               loan_id  \\\n",
       "0  44fba00b-19f7-4063-9a07-d40594259183  f3562f75-f8fe-4a95-bc9f-00b192e233bf   \n",
       "1  ec257ba3-3dcd-4298-ac7f-8033657e31ee  7ed62b0c-0e0b-48a9-8997-137fddadcf0f   \n",
       "2  0e6ce766-7779-4eaa-af05-ad8688277464  61824e58-439c-4e77-a48a-0fe56e0c704f   \n",
       "3  20a730e3-02ee-4d3e-9838-2ed815232963  df2b3af0-581f-4bde-a5f2-d2af67507c82   \n",
       "4  35f0a0bf-a295-421c-9b70-153af7244541  e554af63-b467-4aa2-91fd-dea8faa1ecbd   \n",
       "\n",
       "  provider_code collection_origin  source  amount  capital  interest   tax  \\\n",
       "0           MRP        SETTLEMENT  LEDGER   77.04    65.90      9.60  1.54   \n",
       "1           MRP        SETTLEMENT  LEDGER   48.13    36.10     12.03  0.00   \n",
       "2           MRP        SETTLEMENT  LEDGER   75.99    62.90     11.28  1.81   \n",
       "3           MRP        SETTLEMENT  LEDGER  287.47   205.03     71.07 11.37   \n",
       "4           MRP        SETTLEMENT  LEDGER    6.44     5.33      0.96  0.15   \n",
       "\n",
       "                  file_name  \n",
       "0  LENDERS DB MAYO 2023.csv  \n",
       "1  LENDERS DB MAYO 2023.csv  \n",
       "2  LENDERS DB MAYO 2023.csv  \n",
       "3  LENDERS DB MAYO 2023.csv  \n",
       "4  LENDERS DB MAYO 2023.csv  "
      ]
     },
     "execution_count": 36,
     "metadata": {},
     "output_type": "execute_result"
    }
   ],
   "source": [
    "lender_current_month = lender_1[(lender_1['collection_date_local'] >= start_date) &\n",
    "                                (lender_1['collection_date_local'] <= final_date)]\n",
    "lender_current_month.head()"
   ]
  },
  {
   "cell_type": "code",
   "execution_count": 37,
   "metadata": {},
   "outputs": [
    {
     "data": {
      "text/plain": [
       "(861411, 12)"
      ]
     },
     "execution_count": 37,
     "metadata": {},
     "output_type": "execute_result"
    }
   ],
   "source": [
    "lender_current_month.shape"
   ]
  },
  {
   "cell_type": "code",
   "execution_count": 38,
   "metadata": {},
   "outputs": [
    {
     "data": {
      "text/plain": [
       "array(['MRP', 'R2', 'CTO', 'AVL', 'APH'], dtype=object)"
      ]
     },
     "execution_count": 38,
     "metadata": {},
     "output_type": "execute_result"
    }
   ],
   "source": [
    "lender_current_month['provider_code'].unique()"
   ]
  },
  {
   "cell_type": "markdown",
   "metadata": {},
   "source": [
    "### PIVOT CLIP"
   ]
  },
  {
   "cell_type": "code",
   "execution_count": 39,
   "metadata": {},
   "outputs": [],
   "source": [
    "lender_clip = lender_current_month[(lender_current_month['provider_code'] == 'CLIP')]"
   ]
  },
  {
   "cell_type": "code",
   "execution_count": 40,
   "metadata": {},
   "outputs": [],
   "source": [
    "# lender_pivot_clip_1 = lender_clip.groupby(['Creation Date','Date']).agg({'Collected today':sum,'Capital today':sum\n",
    "#                                                                        ,'Interests today':sum,'IVA Interests today':sum\n",
    "#                                                                        ,'Overdue Interest today':sum,'Total today':sum\n",
    "#                                                                        ,'CLIP Revenue today':sum}).reset_index()\n",
    "# lender_pivot_clip_1.head()"
   ]
  },
  {
   "cell_type": "code",
   "execution_count": 41,
   "metadata": {},
   "outputs": [],
   "source": [
    "# lender_pivot_clip_1.shape"
   ]
  },
  {
   "cell_type": "code",
   "execution_count": 42,
   "metadata": {},
   "outputs": [
    {
     "data": {
      "text/html": [
       "<div>\n",
       "<style scoped>\n",
       "    .dataframe tbody tr th:only-of-type {\n",
       "        vertical-align: middle;\n",
       "    }\n",
       "\n",
       "    .dataframe tbody tr th {\n",
       "        vertical-align: top;\n",
       "    }\n",
       "\n",
       "    .dataframe thead th {\n",
       "        text-align: right;\n",
       "    }\n",
       "</style>\n",
       "<table border=\"1\" class=\"dataframe\">\n",
       "  <thead>\n",
       "    <tr style=\"text-align: right;\">\n",
       "      <th></th>\n",
       "      <th>collection_date_local</th>\n",
       "      <th>amount</th>\n",
       "      <th>capital</th>\n",
       "      <th>interest</th>\n",
       "      <th>tax</th>\n",
       "    </tr>\n",
       "  </thead>\n",
       "  <tbody>\n",
       "  </tbody>\n",
       "</table>\n",
       "</div>"
      ],
      "text/plain": [
       "Empty DataFrame\n",
       "Columns: [collection_date_local, amount, capital, interest, tax]\n",
       "Index: []"
      ]
     },
     "execution_count": 42,
     "metadata": {},
     "output_type": "execute_result"
    }
   ],
   "source": [
    "lender_pivot_clip_2 = lender_clip.groupby(['collection_date_local']).agg({'amount':sum,'capital':sum,'interest':sum\n",
    "                                                 ,'tax':sum}).reset_index()\n",
    "lender_pivot_clip_2.head()"
   ]
  },
  {
   "cell_type": "code",
   "execution_count": 43,
   "metadata": {},
   "outputs": [
    {
     "data": {
      "text/plain": [
       "(0, 5)"
      ]
     },
     "execution_count": 43,
     "metadata": {},
     "output_type": "execute_result"
    }
   ],
   "source": [
    "lender_pivot_clip_2.shape"
   ]
  },
  {
   "cell_type": "markdown",
   "metadata": {},
   "source": [
    "### PIVOT OTHERS"
   ]
  },
  {
   "cell_type": "code",
   "execution_count": 44,
   "metadata": {},
   "outputs": [],
   "source": [
    "lender_others = lender_current_month[(lender_current_month['provider_code'] != 'CLIP')]"
   ]
  },
  {
   "cell_type": "code",
   "execution_count": 45,
   "metadata": {},
   "outputs": [
    {
     "data": {
      "text/html": [
       "<div>\n",
       "<style scoped>\n",
       "    .dataframe tbody tr th:only-of-type {\n",
       "        vertical-align: middle;\n",
       "    }\n",
       "\n",
       "    .dataframe tbody tr th {\n",
       "        vertical-align: top;\n",
       "    }\n",
       "\n",
       "    .dataframe thead th {\n",
       "        text-align: right;\n",
       "    }\n",
       "</style>\n",
       "<table border=\"1\" class=\"dataframe\">\n",
       "  <thead>\n",
       "    <tr style=\"text-align: right;\">\n",
       "      <th></th>\n",
       "      <th>collection_date_local</th>\n",
       "      <th>amount</th>\n",
       "      <th>capital</th>\n",
       "      <th>interest</th>\n",
       "      <th>tax</th>\n",
       "    </tr>\n",
       "  </thead>\n",
       "  <tbody>\n",
       "    <tr>\n",
       "      <th>0</th>\n",
       "      <td>2023-05-01</td>\n",
       "      <td>1,343,236.13</td>\n",
       "      <td>990,055.59</td>\n",
       "      <td>307,218.18</td>\n",
       "      <td>45,962.36</td>\n",
       "    </tr>\n",
       "    <tr>\n",
       "      <th>1</th>\n",
       "      <td>2023-05-02</td>\n",
       "      <td>1,370,841.53</td>\n",
       "      <td>1,006,226.60</td>\n",
       "      <td>317,308.85</td>\n",
       "      <td>47,306.08</td>\n",
       "    </tr>\n",
       "    <tr>\n",
       "      <th>2</th>\n",
       "      <td>2023-05-03</td>\n",
       "      <td>1,525,572.76</td>\n",
       "      <td>1,124,379.87</td>\n",
       "      <td>348,783.83</td>\n",
       "      <td>52,409.06</td>\n",
       "    </tr>\n",
       "    <tr>\n",
       "      <th>3</th>\n",
       "      <td>2023-05-04</td>\n",
       "      <td>1,678,511.99</td>\n",
       "      <td>1,230,687.41</td>\n",
       "      <td>389,343.71</td>\n",
       "      <td>58,480.87</td>\n",
       "    </tr>\n",
       "    <tr>\n",
       "      <th>4</th>\n",
       "      <td>2023-05-05</td>\n",
       "      <td>2,201,595.79</td>\n",
       "      <td>1,624,695.59</td>\n",
       "      <td>501,080.31</td>\n",
       "      <td>75,819.89</td>\n",
       "    </tr>\n",
       "  </tbody>\n",
       "</table>\n",
       "</div>"
      ],
      "text/plain": [
       "  collection_date_local       amount      capital   interest       tax\n",
       "0            2023-05-01 1,343,236.13   990,055.59 307,218.18 45,962.36\n",
       "1            2023-05-02 1,370,841.53 1,006,226.60 317,308.85 47,306.08\n",
       "2            2023-05-03 1,525,572.76 1,124,379.87 348,783.83 52,409.06\n",
       "3            2023-05-04 1,678,511.99 1,230,687.41 389,343.71 58,480.87\n",
       "4            2023-05-05 2,201,595.79 1,624,695.59 501,080.31 75,819.89"
      ]
     },
     "execution_count": 45,
     "metadata": {},
     "output_type": "execute_result"
    }
   ],
   "source": [
    "lender_pivot_others = lender_others.groupby(['collection_date_local']).agg({'amount':sum,'capital':sum,'interest':sum\n",
    "                                                 ,'tax':sum}).reset_index()\n",
    "lender_pivot_others.head()"
   ]
  },
  {
   "cell_type": "code",
   "execution_count": 46,
   "metadata": {},
   "outputs": [
    {
     "data": {
      "text/plain": [
       "(31, 5)"
      ]
     },
     "execution_count": 46,
     "metadata": {},
     "output_type": "execute_result"
    }
   ],
   "source": [
    "lender_pivot_others.shape"
   ]
  },
  {
   "cell_type": "markdown",
   "metadata": {},
   "source": [
    "# EXCEL FINAL"
   ]
  },
  {
   "cell_type": "code",
   "execution_count": 47,
   "metadata": {},
   "outputs": [],
   "source": [
    "writer = pd.ExcelWriter('FASE II. DATA POLIZA MAYO 2023.xlsx',\n",
    "                        engine='xlsxwriter',\n",
    "                        engine_kwargs={'options': {'encoding':'utf-8'}})\n",
    "lender_pivot_clip_2.to_excel(writer, sheet_name='DATA LENDER CLIP',index=False)\n",
    "# lender_pivot_clip_1.to_excel(writer, sheet_name='DATA LENDER CLIP CREATION DATE',index=False)\n",
    "lender_pivot_others.to_excel(writer, sheet_name='DATA LENDER OTHERS',index=False)\n",
    "adj_pivot.to_excel(writer, sheet_name='DATA ADJUSTMENTS',index=False)\n",
    "lib_pivot_v2.to_excel(writer, sheet_name='DATA LIBERACIONES')\n",
    "ret_pivot_v2.to_excel(writer, sheet_name='DATA RETENCIONES')\n",
    "com_final.to_excel(writer, sheet_name='DATA COMISIONES',index=False)\n",
    "writer.close()"
   ]
  },
  {
   "cell_type": "code",
   "execution_count": null,
   "metadata": {},
   "outputs": [],
   "source": []
  }
 ],
 "metadata": {
  "kernelspec": {
   "display_name": "Python 3 (ipykernel)",
   "language": "python",
   "name": "python3"
  },
  "language_info": {
   "codemirror_mode": {
    "name": "ipython",
    "version": 3
   },
   "file_extension": ".py",
   "mimetype": "text/x-python",
   "name": "python",
   "nbconvert_exporter": "python",
   "pygments_lexer": "ipython3",
   "version": "3.9.13"
  }
 },
 "nbformat": 4,
 "nbformat_minor": 4
}
