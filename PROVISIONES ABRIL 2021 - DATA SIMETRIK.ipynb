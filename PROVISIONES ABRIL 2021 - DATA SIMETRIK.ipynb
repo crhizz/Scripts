{
 "cells": [
  {
   "cell_type": "code",
   "execution_count": null,
   "metadata": {},
   "outputs": [],
   "source": [
    "import pandas as pd\n",
    "import numpy as np\n",
    "from openpyxl import load_workbook\n",
    "import glob\n",
    "import os\n",
    "pd.options.display.float_format = '{:,.2f}'.format"
   ]
  },
  {
   "cell_type": "markdown",
   "metadata": {},
   "source": [
    "# DATA QUERIES"
   ]
  },
  {
   "cell_type": "code",
   "execution_count": null,
   "metadata": {},
   "outputs": [],
   "source": [
    "allfiles_sim = glob.glob(r'G:\\My Drive\\DOCUMENTS\\PROVISIONES\\2021\\04. ABRIL\\*.csv', recursive=True)"
   ]
  },
  {
   "cell_type": "code",
   "execution_count": null,
   "metadata": {},
   "outputs": [],
   "source": [
    "sim_all = pd.concat([pd.read_csv(f,dtype={'AMOUNT':float,'CLAVE_AUTORIZACION': object,'BIN':object,'LAST4':object,'ORDER_ID':object,'DEVICE_ID':object})\n",
    "                              .assign(file_name_tableros=os.path.basename(f)) for f in allfiles_sim])\n",
    "sim_all.columns = sim_all.columns.str.strip().str.lower()\n",
    "sim_all['msi'].fillna(0,inplace=True)\n",
    "sim_all.head()"
   ]
  },
  {
   "cell_type": "code",
   "execution_count": null,
   "metadata": {},
   "outputs": [],
   "source": [
    "sim_all.shape"
   ]
  },
  {
   "cell_type": "code",
   "execution_count": null,
   "metadata": {},
   "outputs": [],
   "source": [
    "all_provisiones = sim_all[(sim_all['status_code'] == 1)]\n",
    "all_provisiones.head()"
   ]
  },
  {
   "cell_type": "code",
   "execution_count": null,
   "metadata": {},
   "outputs": [],
   "source": [
    "all_provisiones.shape"
   ]
  },
  {
   "cell_type": "code",
   "execution_count": null,
   "metadata": {},
   "outputs": [],
   "source": [
    "all_provisiones['psp'].unique()"
   ]
  },
  {
   "cell_type": "code",
   "execution_count": null,
   "metadata": {},
   "outputs": [],
   "source": [
    "all_provisiones.dtypes"
   ]
  },
  {
   "cell_type": "markdown",
   "metadata": {},
   "source": [
    "# PROVISIONES BANORTE"
   ]
  },
  {
   "cell_type": "code",
   "execution_count": null,
   "metadata": {},
   "outputs": [],
   "source": [
    "provision_bnte = all_provisiones[(all_provisiones['psp'] == 'PROSA')]\n",
    "provision_bnte['CONCAT'] = provision_bnte['order_id'].astype(str).replace(' ', '',regex=True)+'-'+provision_bnte['amount'].apply(np.floor).astype(str).replace(' ', '',regex=True)+'-'+provision_bnte['last4'].astype(str).replace(' ', '',regex=True)\n",
    "provision_bnte.head()"
   ]
  },
  {
   "cell_type": "code",
   "execution_count": null,
   "metadata": {},
   "outputs": [],
   "source": [
    "provision_bnte.shape"
   ]
  },
  {
   "cell_type": "markdown",
   "metadata": {},
   "source": [
    "### MAYO 2021"
   ]
  },
  {
   "cell_type": "code",
   "execution_count": null,
   "metadata": {},
   "outputs": [],
   "source": [
    "name_file=[\"Tipo de Columna\",\"Afiliación\",\"Referencia\",\"Tarjeta\",\"Monto depositado\",\"Comisiones\",\"Fecha txn\",\"Importe Bruto\"\n",
    "           ,\"Tipo Moneda\",\"Tipo txn\",\"Iva\",\"Iva por pago diferido\",\"Iva pagado por cashback\",\"Iva cobrado por cashback\"\n",
    "           ,\"Comisión pagada por cashback\",\"Comisión cobrada por cashback\",\"Comisión por pago diferido\",\"Monto del Cashback\"\n",
    "           ,\"Núm Pagos\",\"Diferimiento Inicial\",\"Tipo de Plan\",\"Código de Autorización\",\"Empty\",\"ECI\",\"Ref. Interbancaria\"\n",
    "           ,\"Empty.1\",\"Empty.2\",\"Empty.3\",\"order_id_xpay\",\"Ref. de Payworks\",\"Customer_ref1\",\"Customer_ref2\",\"Customer_ref3\"\n",
    "           ,\"Núm de Control\"]\n",
    "dtypes_file={'Importe Bruto':float,'Ref. Interbancaria': object,'Afiliación':object,'Referencia':object,'Tarjeta':object\n",
    "             ,'Núm Pagos':object,'Diferimiento Inicial':object,'Tipo de Plan':object,'Código de Autorización':object\n",
    "             ,'ECI':object,'order_id_xpay':object}"
   ]
  },
  {
   "cell_type": "code",
   "execution_count": null,
   "metadata": {},
   "outputs": [],
   "source": [
    "use_cols = ['Afiliación','Tipo txn','Fecha txn','Importe Bruto','Código de Autorización','Ref. Interbancaria','order_id_xpay','Tarjeta']"
   ]
  },
  {
   "cell_type": "code",
   "execution_count": null,
   "metadata": {},
   "outputs": [],
   "source": [
    "sftp_may_1_21 = glob.glob(r'G:\\My Drive\\2.-CONCILIACIONES Y POLIZA\\SFTP BANORTE\\2021 SFTP Banorte\\05. MAYO\\**\\PAYCLIP_Settlement*.csv', recursive=False)\n",
    "sftp_may_1_21"
   ]
  },
  {
   "cell_type": "code",
   "execution_count": null,
   "metadata": {},
   "outputs": [],
   "source": [
    "sftp_may_21 = pd.concat([pd.read_csv(f,names=name_file,dtype=dtypes_file,usecols=use_cols)\n",
    "                         .assign(file_name=os.path.basename(f)) for f in sftp_may_1_21])\n",
    "sftp_may_21.rename(columns ={'Ref. Interbancaria':'order_id','Código de Autorización':'codigo_autorizacion'}, inplace=True)\n",
    "sftp_may_21['date_file'] = sftp_may_21[\"file_name\"].str[-15:-7]\n",
    "sftp_may_21['date_file']= pd.to_datetime(sftp_may_21['date_file'], format='%d%m%Y').dt.date\n",
    "sftp_may_21['date_file']= pd.to_datetime(sftp_may_21['date_file'])\n",
    "sftp_may_21.sort_values(by=['date_file'],ascending=True,inplace=True)\n",
    "sftp_may_21['month'] = sftp_may_21['date_file'].dt.strftime('%B')\n",
    "sftp_may_21.head()"
   ]
  },
  {
   "cell_type": "code",
   "execution_count": null,
   "metadata": {},
   "outputs": [],
   "source": [
    "sftp_may_21.shape"
   ]
  },
  {
   "cell_type": "markdown",
   "metadata": {},
   "source": [
    "### ABRIL 2021"
   ]
  },
  {
   "cell_type": "code",
   "execution_count": null,
   "metadata": {},
   "outputs": [],
   "source": [
    "sftp_apr_1_21 = glob.glob(r'G:\\My Drive\\2.-CONCILIACIONES Y POLIZA\\SFTP BANORTE\\2021 SFTP Banorte\\04. ABRIL\\**\\PAYCLIP_Settlement*.csv', recursive=False)\n",
    "sftp_apr_1_21"
   ]
  },
  {
   "cell_type": "code",
   "execution_count": null,
   "metadata": {},
   "outputs": [],
   "source": [
    "sftp_apr_21 = pd.concat([pd.read_csv(f,names=name_file,dtype=dtypes_file,usecols=use_cols)\n",
    "                         .assign(file_name=os.path.basename(f)) for f in sftp_apr_1_21])\n",
    "sftp_apr_21.rename(columns ={'Ref. Interbancaria':'order_id','Código de Autorización':'codigo_autorizacion'}, inplace=True)\n",
    "sftp_apr_21['date_file'] = sftp_apr_21[\"file_name\"].str[-15:-7]\n",
    "sftp_apr_21['date_file']= pd.to_datetime(sftp_apr_21['date_file'], format='%d%m%Y').dt.date\n",
    "sftp_apr_21['date_file']= pd.to_datetime(sftp_apr_21['date_file'])\n",
    "sftp_apr_21.sort_values(by=['date_file'],ascending=True,inplace=True)\n",
    "sftp_apr_21['month'] = sftp_apr_21['date_file'].dt.strftime('%B')\n",
    "sftp_apr_21.head()"
   ]
  },
  {
   "cell_type": "code",
   "execution_count": null,
   "metadata": {},
   "outputs": [],
   "source": [
    "sftp_apr_21.shape"
   ]
  },
  {
   "cell_type": "markdown",
   "metadata": {},
   "source": [
    "### SFTP CONCAT"
   ]
  },
  {
   "cell_type": "code",
   "execution_count": null,
   "metadata": {},
   "outputs": [],
   "source": [
    "sftp = pd.concat([sftp_apr_21,sftp_may_21])\n",
    "sftp.head()"
   ]
  },
  {
   "cell_type": "code",
   "execution_count": null,
   "metadata": {},
   "outputs": [],
   "source": [
    "# sftp.drop(['Empty','Empty.1','Empty.2','Empty.3','Empty.4'],axis=1,inplace=True)\n",
    "sftp.rename(columns ={'Ref. Interbancaria':'order_id'}, inplace=True)\n",
    "sftp.head()"
   ]
  },
  {
   "cell_type": "code",
   "execution_count": null,
   "metadata": {},
   "outputs": [],
   "source": [
    "sftp.shape"
   ]
  },
  {
   "cell_type": "code",
   "execution_count": null,
   "metadata": {},
   "outputs": [],
   "source": [
    "sftp_fecha_deposito = sftp[(sftp['Tipo txn'] == 'BANORTE')]\n",
    "sftp_fecha_deposito = sftp_fecha_deposito[['date_file', 'Importe Bruto']]\n",
    "sftp_fecha_deposito.rename(columns ={'Importe Bruto': 'Fecha_deposito'},inplace=True)                                                \n",
    "sftp_fecha_deposito.head()"
   ]
  },
  {
   "cell_type": "code",
   "execution_count": null,
   "metadata": {},
   "outputs": [],
   "source": [
    "sftp = sftp[(sftp['Tipo txn'] == 'SETTLED')]\n",
    "sftp = sftp.merge(sftp_fecha_deposito[['date_file', 'Fecha_deposito']],on='date_file',how='left')"
   ]
  },
  {
   "cell_type": "code",
   "execution_count": null,
   "metadata": {},
   "outputs": [],
   "source": [
    "sftp['Fecha txn'] = pd.to_datetime(sftp['Fecha txn'], format='%Y%m%d').dt.date\n",
    "sftp['date_file'] = pd.to_datetime(sftp['date_file'], format='%Y%m%d').dt.date\n",
    "sftp['Fecha_deposito'] = pd.to_datetime(sftp['Fecha_deposito'], format='%Y%m%d').dt.date"
   ]
  },
  {
   "cell_type": "code",
   "execution_count": null,
   "metadata": {},
   "outputs": [],
   "source": [
    "sftp['Net Amount'] = sftp['Importe Bruto']/100\n",
    "sftp['LAST4'] = sftp['Tarjeta'].str[-4:].astype(str)\n",
    "sftp['CONCAT'] = sftp['order_id'].astype(str).replace(' ', '',regex=True)+'-'+sftp['Net Amount'].apply(np.floor).astype(str).replace(' ', '',regex=True)+'-'+sftp['LAST4'].astype(str).replace(' ', '',regex=True)\n",
    "sftp['order_id'].fillna('NO EXISTE EN SFTP',inplace=True)\n",
    "sftp.head()"
   ]
  },
  {
   "cell_type": "code",
   "execution_count": null,
   "metadata": {},
   "outputs": [],
   "source": [
    "sftp.shape"
   ]
  },
  {
   "cell_type": "code",
   "execution_count": null,
   "metadata": {},
   "outputs": [],
   "source": [
    "data_status_1 = provision_bnte.merge(sftp[['order_id','date_file', 'Fecha txn', 'Fecha_deposito']],on='order_id',how='left')\n",
    "data_status_1['date_file'].fillna('NO ENCONTRADO EN SFTP',inplace=True)\n",
    "data_status_1['Fecha txn'].fillna('NO ENCONTRADO EN SFTP',inplace=True)\n",
    "data_status_1['Fecha_deposito'].fillna('NO ENCONTRADO EN SFTP',inplace=True)\n",
    "data_status_1.drop_duplicates(subset =\"CONCAT\", keep = 'last', inplace = True) \n",
    "data_status_1.head()"
   ]
  },
  {
   "cell_type": "code",
   "execution_count": null,
   "metadata": {},
   "outputs": [],
   "source": [
    "data_status_1.shape"
   ]
  },
  {
   "cell_type": "code",
   "execution_count": null,
   "metadata": {},
   "outputs": [],
   "source": [
    "duplicates_status_1 = data_status_1[data_status_1.duplicated(['CONCAT'] , keep=False)]\n",
    "duplicates_status_1.head()"
   ]
  },
  {
   "cell_type": "code",
   "execution_count": null,
   "metadata": {},
   "outputs": [],
   "source": [
    "duplicates_status_1.shape"
   ]
  },
  {
   "cell_type": "code",
   "execution_count": null,
   "metadata": {},
   "outputs": [],
   "source": [
    "results_status_1 = data_status_1[(data_status_1['Fecha txn'] != 'NO ENCONTRADO EN SFTP')]\n",
    "results_status_1.head()"
   ]
  },
  {
   "cell_type": "code",
   "execution_count": null,
   "metadata": {},
   "outputs": [],
   "source": [
    "results_status_1.shape"
   ]
  },
  {
   "cell_type": "code",
   "execution_count": null,
   "metadata": {},
   "outputs": [],
   "source": [
    "NA_status_1 = data_status_1[(data_status_1['Fecha txn'] == 'NO ENCONTRADO EN SFTP')]\n",
    "NA_status_1.head()"
   ]
  },
  {
   "cell_type": "code",
   "execution_count": null,
   "metadata": {},
   "outputs": [],
   "source": [
    "NA_status_1.shape"
   ]
  },
  {
   "cell_type": "markdown",
   "metadata": {},
   "source": [
    "### INDEX USANDO CLAVE_AUTORIZACION"
   ]
  },
  {
   "cell_type": "code",
   "execution_count": null,
   "metadata": {},
   "outputs": [],
   "source": [
    "sinref = NA_status_1\n",
    "sinref.drop(['Fecha txn','date_file','Fecha_deposito','CONCAT'],axis=1,inplace=True)\n",
    "sinref['CONCAT'] = sinref['clave_autorizacion'].astype(str).replace(' ', '',regex=True)+'-'+sinref['amount'].apply(np.floor).astype(str).replace(' ', '',regex=True)+'-'+sinref['last4'].astype(str).replace(' ', '',regex=True)\n",
    "sinref.sort_values(by=('created_at'), ascending=True, inplace=True)\n",
    "sinref.head()"
   ]
  },
  {
   "cell_type": "code",
   "execution_count": null,
   "metadata": {},
   "outputs": [],
   "source": [
    "sinref.shape"
   ]
  },
  {
   "cell_type": "code",
   "execution_count": null,
   "metadata": {},
   "outputs": [],
   "source": [
    "sftp_clave_autorizacion = pd.concat([sftp_apr_21,sftp_may_21])\n",
    "# sftp_clave_autorizacion.drop(['Empty','Empty.1','Empty.2','Empty.3','Empty.4'],axis=1,inplace=True)\n",
    "sftp_clave_autorizacion.rename(columns ={'Ref. Interbancaria':'order_id'}, inplace=True)"
   ]
  },
  {
   "cell_type": "code",
   "execution_count": null,
   "metadata": {},
   "outputs": [],
   "source": [
    "sftp_fecha_deposito_clave_autorizacion = sftp_clave_autorizacion[(sftp_clave_autorizacion['Tipo txn'] == 'BANORTE')]\n",
    "sftp_fecha_deposito_clave_autorizacion = sftp_fecha_deposito_clave_autorizacion[['date_file', 'Importe Bruto']]\n",
    "sftp_fecha_deposito_clave_autorizacion.rename(columns ={'Importe Bruto': 'Fecha_deposito'},inplace=True)\n",
    "sftp_fecha_deposito_clave_autorizacion.head()"
   ]
  },
  {
   "cell_type": "code",
   "execution_count": null,
   "metadata": {},
   "outputs": [],
   "source": [
    "sftp_clave_autorizacion = sftp_clave_autorizacion[(sftp_clave_autorizacion['Tipo txn'] == 'SETTLED')]\n",
    "sftp_clave_autorizacion = sftp_clave_autorizacion.merge(sftp_fecha_deposito_clave_autorizacion[['date_file', 'Fecha_deposito']],on='date_file',how='left')"
   ]
  },
  {
   "cell_type": "code",
   "execution_count": null,
   "metadata": {},
   "outputs": [],
   "source": [
    "sftp_clave_autorizacion['Fecha txn'] = pd.to_datetime(sftp_clave_autorizacion['Fecha txn'], format='%Y%m%d').dt.date\n",
    "sftp_clave_autorizacion['date_file'] = pd.to_datetime(sftp_clave_autorizacion['date_file'], format='%Y%m%d').dt.date\n",
    "sftp_clave_autorizacion['Fecha_deposito'] = pd.to_datetime(sftp_clave_autorizacion['Fecha_deposito'], format='%Y%m%d').dt.date"
   ]
  },
  {
   "cell_type": "code",
   "execution_count": null,
   "metadata": {},
   "outputs": [],
   "source": [
    "sftp_clave_autorizacion['Net Amount'] = sftp_clave_autorizacion['Importe Bruto']/100\n",
    "sftp_clave_autorizacion['last4'] = sftp_clave_autorizacion['Tarjeta'].str[-4:].astype(str)\n",
    "sftp_clave_autorizacion['CONCAT'] = sftp_clave_autorizacion['Código de Autorización'].astype(str).replace(' ', '',regex=True)+'-'+sftp_clave_autorizacion['Net Amount'].apply(np.floor).astype(str).replace(' ', '',regex=True)+'-'+sftp_clave_autorizacion['last4'].astype(str).replace(' ', '',regex=True)\n",
    "sftp_clave_autorizacion['order_id'].fillna('NO EXISTE EN SFTP',inplace=True)\n",
    "sftp_clave_autorizacion.head()"
   ]
  },
  {
   "cell_type": "code",
   "execution_count": null,
   "metadata": {},
   "outputs": [],
   "source": [
    "sftp_clave_autorizacion.shape"
   ]
  },
  {
   "cell_type": "code",
   "execution_count": null,
   "metadata": {},
   "outputs": [],
   "source": [
    "results2 = sinref.merge(sftp_clave_autorizacion[['CONCAT','SFTP', 'Fecha txn', 'Fecha_deposito']],on='CONCAT',how='left')\n",
    "results2['Fecha txn'].fillna('NO ENCONTRADO EN SFTP',inplace=True)\n",
    "results2['Fecha_deposito'].fillna('NO ENCONTRADO EN SFTP',inplace=True)\n",
    "results2.drop_duplicates(subset =\"CONCAT\", keep = 'last', inplace = True)\n",
    "results2.head()"
   ]
  },
  {
   "cell_type": "code",
   "execution_count": null,
   "metadata": {},
   "outputs": [],
   "source": [
    "results2.shape"
   ]
  },
  {
   "cell_type": "code",
   "execution_count": null,
   "metadata": {},
   "outputs": [],
   "source": [
    "results2_status_1 = results2[(results2['Fecha txn'] != 'NO ENCONTRADO EN SFTP')]\n",
    "results2_status_1.head()"
   ]
  },
  {
   "cell_type": "code",
   "execution_count": null,
   "metadata": {},
   "outputs": [],
   "source": [
    "results2_status_1.shape"
   ]
  },
  {
   "cell_type": "code",
   "execution_count": null,
   "metadata": {},
   "outputs": [],
   "source": [
    "NA2 = results2[(results2['Fecha txn'] == 'NO ENCONTRADO EN SFTP')]\n",
    "NA2.head()"
   ]
  },
  {
   "cell_type": "code",
   "execution_count": null,
   "metadata": {},
   "outputs": [],
   "source": [
    "NA2.shape"
   ]
  },
  {
   "cell_type": "code",
   "execution_count": null,
   "metadata": {},
   "outputs": [],
   "source": [
    "duplicates = results2[results2.duplicated(['CONCAT'] , keep=False)]\n",
    "duplicates.head()"
   ]
  },
  {
   "cell_type": "code",
   "execution_count": null,
   "metadata": {},
   "outputs": [],
   "source": [
    "duplicates.shape"
   ]
  },
  {
   "cell_type": "markdown",
   "metadata": {},
   "source": [
    "### DATA FINAL"
   ]
  },
  {
   "cell_type": "code",
   "execution_count": null,
   "metadata": {},
   "outputs": [],
   "source": [
    "provision_prosa_final = pd.concat([results_status_1,NA_status_1])\n",
    "provision_prosa_final.drop(['SFTP'],axis=1,inplace=True)\n",
    "provision_prosa_final['status'].fillna('RETAINED',inplace=True)\n",
    "provision_prosa_final['report_date_local'].fillna('NO ENCONTRADO',inplace=True)\n",
    "provision_prosa_final.head()"
   ]
  },
  {
   "cell_type": "code",
   "execution_count": null,
   "metadata": {},
   "outputs": [],
   "source": [
    "provision_prosa_final.shape"
   ]
  },
  {
   "cell_type": "markdown",
   "metadata": {},
   "source": [
    "### PIVOT"
   ]
  },
  {
   "cell_type": "markdown",
   "metadata": {},
   "source": [
    "#### REPORT_DATE_LOCAL"
   ]
  },
  {
   "cell_type": "code",
   "execution_count": null,
   "metadata": {},
   "outputs": [],
   "source": [
    "pivot_bnte_report_date_local = pd.pivot_table(provision_prosa_final,index=['date_transaction','clip_reader']\n",
    "                                              ,columns=['report_date_local'],values=['amount']\n",
    "                                              ,aggfunc=np.sum,margins=True).reset_index(1)\n",
    "pivot_bnte_report_date_local.fillna(0,inplace=True)\n",
    "pivot_bnte_report_date_local.head()"
   ]
  },
  {
   "cell_type": "code",
   "execution_count": null,
   "metadata": {},
   "outputs": [],
   "source": [
    "pivot_bnte_report_date_local.shape"
   ]
  },
  {
   "cell_type": "markdown",
   "metadata": {},
   "source": [
    "#### FECHA_DEPOSITO"
   ]
  },
  {
   "cell_type": "code",
   "execution_count": null,
   "metadata": {},
   "outputs": [],
   "source": [
    "pivot_bnte_fecha_deposito = pd.pivot_table(provision_prosa_final,index=['date_transaction','clip_reader']\n",
    "                                              ,columns=['Fecha_deposito'],values=['amount']\n",
    "                                              ,aggfunc=np.sum,margins=True).reset_index(1)\n",
    "pivot_bnte_fecha_deposito.fillna(0,inplace=True)\n",
    "pivot_bnte_fecha_deposito.head()"
   ]
  },
  {
   "cell_type": "code",
   "execution_count": null,
   "metadata": {},
   "outputs": [],
   "source": [
    "pivot_bnte_fecha_deposito.shape"
   ]
  },
  {
   "cell_type": "code",
   "execution_count": null,
   "metadata": {},
   "outputs": [],
   "source": [
    "# writer = pd.ExcelWriter('SF PROVISIONES SEPTIEMBRE 2020.xlsx', engine='xlsxwriter', options={'encoding':'utf-8'})\n",
    "# provision_prosa_final.to_excel(writer, sheet_name='SEPTIEMBRE BNTE', index=False)\n",
    "# pivot_bnte_report_date_local.to_excel(writer, sheet_name='PIVOT BNTE')\n",
    "# writer.save()"
   ]
  },
  {
   "cell_type": "markdown",
   "metadata": {},
   "source": [
    "# PROVISIONES AMEX"
   ]
  },
  {
   "cell_type": "markdown",
   "metadata": {},
   "source": [
    "## DATA EPA"
   ]
  },
  {
   "cell_type": "code",
   "execution_count": null,
   "metadata": {},
   "outputs": [],
   "source": [
    "allfiles = glob.glob(r'G:\\My Drive\\EPA\\EPA files\\20**\\**\\*.txt', recursive=True)"
   ]
  },
  {
   "cell_type": "code",
   "execution_count": null,
   "metadata": {},
   "outputs": [],
   "source": [
    "names_header=[\"1\",\"2\",\"3\",\"4\",\"5\",\"6\",\"7\",\"8\",\"9\",\"10\",\"A\",\"12\",\"13\",\"14\",\"15\",\"16\",\"17\",\"18\",\"19\",\"order_id\",\"21\",\"22\",\"23\",\"24\",\"25\",\"26\",\"27\",\"28\"]"
   ]
  },
  {
   "cell_type": "code",
   "execution_count": null,
   "metadata": {},
   "outputs": [],
   "source": [
    "epa = pd.concat([pd.read_csv(f,names=names_header, sep=',',dtype=object) for f in allfiles])\n",
    "epa['order_id'] = epa['order_id'].str.strip()\n",
    "epa.head()"
   ]
  },
  {
   "cell_type": "code",
   "execution_count": null,
   "metadata": {},
   "outputs": [],
   "source": [
    "epa.shape"
   ]
  },
  {
   "cell_type": "code",
   "execution_count": null,
   "metadata": {},
   "outputs": [],
   "source": [
    "epa['6'].unique()"
   ]
  },
  {
   "cell_type": "code",
   "execution_count": null,
   "metadata": {},
   "outputs": [],
   "source": [
    "epa_0 = epa[(epa['6'] == '0')]\n",
    "epa_1 = epa[(epa['6'] == '1')]\n",
    "epa_3 = epa[(epa['6'] == '3')]\n",
    "epa_4 = epa[(epa['6'] == '4')]\n",
    "epa_5 = epa[(epa['6'] == '5')]\n",
    "epa_9 = epa[(epa['6'] == '9')]"
   ]
  },
  {
   "cell_type": "markdown",
   "metadata": {},
   "source": [
    "### EPA 4"
   ]
  },
  {
   "cell_type": "code",
   "execution_count": null,
   "metadata": {},
   "outputs": [],
   "source": [
    "epa_4['8'] = pd.to_datetime(epa_4['8'], format='%Y%m%d').dt.date\n",
    "epa_4['2'] = pd.to_datetime(epa_4['2'], format='%Y%m%d').dt.date"
   ]
  },
  {
   "cell_type": "code",
   "execution_count": null,
   "metadata": {},
   "outputs": [],
   "source": [
    "epa_4['8'] = pd.to_datetime(epa_4['8'])\n",
    "epa_4['2'] = pd.to_datetime(epa_4['2'])"
   ]
  },
  {
   "cell_type": "code",
   "execution_count": null,
   "metadata": {},
   "outputs": [],
   "source": [
    "epa_4.head()"
   ]
  },
  {
   "cell_type": "code",
   "execution_count": null,
   "metadata": {},
   "outputs": [],
   "source": [
    "epa_4.shape"
   ]
  },
  {
   "cell_type": "code",
   "execution_count": null,
   "metadata": {},
   "outputs": [],
   "source": [
    "txn_epa = epa_4[['order_id','6','8','A','12','22','23','2','15']]\n",
    "txn_epa[\"12\"] = txn_epa['12'].astype(float)\n",
    "txn_epa[\"22\"] = txn_epa['22'].astype(float)\n",
    "txn_epa[\"23\"] = txn_epa['23'].astype(float)\n"
   ]
  },
  {
   "cell_type": "code",
   "execution_count": null,
   "metadata": {},
   "outputs": [],
   "source": [
    "txn_epa['total_amount_bruto'] = txn_epa['12']/100\n",
    "txn_epa['fee_amount_mdr'] = -(txn_epa['total_amount_bruto']*0.0240)\n",
    "txn_epa['fee_amount_msi'] = txn_epa['22']/100\n",
    "txn_epa['iva_msi'] = txn_epa['fee_amount_msi']*0.1600\n",
    "txn_epa['iva_mdr'] = txn_epa['fee_amount_mdr']*0.1600\n",
    "txn_epa['bin_bank'] = txn_epa['A'].str[:6].astype(str)\n",
    "txn_epa['last4_bank'] = txn_epa['A'].str[-8:-4].astype(str)"
   ]
  },
  {
   "cell_type": "code",
   "execution_count": null,
   "metadata": {},
   "outputs": [],
   "source": [
    "txn_epa.rename(columns ={'6':'Type','8':'Date_process_roc','12':'Total_amount_charge_roc',\n",
    "                         '22':'Svc_fee_amount_roc','23':'Svc_fee_amount_accel_roc','2':'roc_deposit_date'},inplace=True)\n",
    "txn_epa['INDEX_TOTAL'] = (txn_epa['bin_bank'].astype(str).replace(' ', '',regex=True)+'_'\n",
    "                            +txn_epa['last4_bank'].astype(str).replace(' ', '',regex=True)+'_'\n",
    "                            +txn_epa['order_id'].astype(str).replace(' ', '',regex=True)+'_'\n",
    "                            +txn_epa['total_amount_bruto'].astype(str).replace(' ', '',regex=True))\n",
    "# txn_epa['INDEX_PARCIAL'] = (txn_epa['bin_bank'].astype(str).replace(' ', '',regex=True)+'_'\n",
    "#                             +txn_epa['last4_bank'].astype(str).replace(' ', '',regex=True)+'_'\n",
    "#                             +txn_epa['codigo_aprobacion'].astype(str).replace(' ', '',regex=True)+'_'\n",
    "#                             +txn_epa['total_amount_bruto'].astype(str).replace(' ', '',regex=True))\n",
    "txn_epa.fillna('SIN ORDER_ID EN EPA',inplace=True)\n",
    "txn_epa.head()"
   ]
  },
  {
   "cell_type": "code",
   "execution_count": null,
   "metadata": {},
   "outputs": [],
   "source": [
    "txn_epa.shape"
   ]
  },
  {
   "cell_type": "markdown",
   "metadata": {},
   "source": [
    "## CRUCE INFORMACION"
   ]
  },
  {
   "cell_type": "markdown",
   "metadata": {},
   "source": [
    "### DATA FINAL"
   ]
  },
  {
   "cell_type": "code",
   "execution_count": null,
   "metadata": {},
   "outputs": [],
   "source": [
    "provision_amex_1 = sim_amex.merge(txn_epa[['order_id','Date_process_roc','roc_deposit_date']]\n",
    "                                        ,on='order_id',how='left')\n",
    "#provision_amex_final.fillna('RETAINED',inplace=True)\n",
    "provision_amex_1.rename(columns ={'Date_process_roc': 'date_process','roc_deposit_date': 'deposit_date'},inplace=True)\n",
    "provision_amex_1['date_process'].fillna('NO ENCONTRADO EN EPA',inplace=True)\n",
    "provision_amex_1['deposit_date'].fillna('NO ENCONTRADO EN EPA',inplace=True)\n",
    "provision_amex_1.head()"
   ]
  },
  {
   "cell_type": "code",
   "execution_count": null,
   "metadata": {},
   "outputs": [],
   "source": [
    "provision_amex_1.shape"
   ]
  },
  {
   "cell_type": "code",
   "execution_count": null,
   "metadata": {},
   "outputs": [],
   "source": [
    "results_amex_final = provision_amex_1[(provision_amex_1['deposit_date'] != 'NO ENCONTRADO EN EPA')]\n",
    "results_amex_final.head()"
   ]
  },
  {
   "cell_type": "code",
   "execution_count": null,
   "metadata": {},
   "outputs": [],
   "source": [
    "results_amex_final.shape"
   ]
  },
  {
   "cell_type": "code",
   "execution_count": null,
   "metadata": {},
   "outputs": [],
   "source": [
    "results_amex_final['date_process'] = pd.to_datetime(results_amex_final['date_process'])\n",
    "results_amex_final['deposit_date'] = pd.to_datetime(results_amex_final['deposit_date'])"
   ]
  },
  {
   "cell_type": "code",
   "execution_count": null,
   "metadata": {},
   "outputs": [],
   "source": [
    "results_amex_final.head()"
   ]
  },
  {
   "cell_type": "code",
   "execution_count": null,
   "metadata": {},
   "outputs": [],
   "source": [
    "results_amex_final.shape"
   ]
  },
  {
   "cell_type": "markdown",
   "metadata": {},
   "source": [
    "### PIVOT"
   ]
  },
  {
   "cell_type": "markdown",
   "metadata": {},
   "source": [
    "#### REPORT_DATE_LOCAL"
   ]
  },
  {
   "cell_type": "code",
   "execution_count": null,
   "metadata": {},
   "outputs": [],
   "source": [
    "pivot_amex_report_date_local = pd.pivot_table(results_amex_final,index=['date_transaction','clip_reader']\n",
    "                                              ,columns=['report_date_local'],values=['amount']\n",
    "                                              ,aggfunc=np.sum,margins=True).reset_index(1)\n",
    "pivot_amex_report_date_local.fillna(0,inplace=True)\n",
    "pivot_amex_report_date_local.head()"
   ]
  },
  {
   "cell_type": "code",
   "execution_count": null,
   "metadata": {},
   "outputs": [],
   "source": [
    "pivot_amex_report_date_local.shape"
   ]
  },
  {
   "cell_type": "markdown",
   "metadata": {},
   "source": [
    "#### FECHA_DEPOSITO"
   ]
  },
  {
   "cell_type": "code",
   "execution_count": null,
   "metadata": {},
   "outputs": [],
   "source": [
    "pivot_amex_fecha_deposito = pd.pivot_table(results_amex_final,index=['date_transaction','clip_reader']\n",
    "                                              ,columns=['deposit_date'],values=['amount']\n",
    "                                              ,aggfunc=np.sum,margins=True).reset_index(1)\n",
    "pivot_amex_fecha_deposito.fillna(0,inplace=True)\n",
    "pivot_amex_fecha_deposito.head()"
   ]
  },
  {
   "cell_type": "code",
   "execution_count": null,
   "metadata": {},
   "outputs": [],
   "source": [
    "pivot_amex_fecha_deposito.shape"
   ]
  },
  {
   "cell_type": "code",
   "execution_count": null,
   "metadata": {},
   "outputs": [],
   "source": [
    "# book = load_workbook('SF PROVISIONES SEPTIEMBRE 2020.xlsx')\n",
    "# writer = pd.ExcelWriter('SF PROVISIONES SEPTIEMBRE 2020.xlsx', engine='openpyxl', options={'encoding':'utf-8'})\n",
    "# writer.book = book\n",
    "# provision_amex_final.to_excel(writer, sheet_name='SEPTIEMBRE AMEX', index=False)\n",
    "# writer.save()\n",
    "# writer.close()"
   ]
  },
  {
   "cell_type": "markdown",
   "metadata": {},
   "source": [
    "# PROVISIONES OPTBLUE"
   ]
  },
  {
   "cell_type": "code",
   "execution_count": null,
   "metadata": {},
   "outputs": [],
   "source": [
    "provision_optb = provision_amex_1[(provision_amex_1['deposit_date'] == 'NO ENCONTRADO EN EPA')]\n",
    "provision_optb['order_id'] = provision_optb['order_id'].str.upper() \n",
    "provision_optb['CONCAT'] = provision_optb['order_id'].astype(str).replace(' ', '',regex=True)+'-'+provision_optb['amount'].apply(np.floor).astype(str).replace(' ', '',regex=True)+'-'+provision_optb['last4'].astype(str).replace(' ', '',regex=True)\n",
    "provision_optb.drop(['date_process','deposit_date'],axis=1,inplace=True)\n",
    "provision_optb.head()"
   ]
  },
  {
   "cell_type": "code",
   "execution_count": null,
   "metadata": {},
   "outputs": [],
   "source": [
    "provision_optb.shape"
   ]
  },
  {
   "cell_type": "code",
   "execution_count": null,
   "metadata": {},
   "outputs": [],
   "source": [
    "opt = pd.read_csv(r'C:\\Users\\Cristian.Aparicio\\Documents\\PROVISIONES\\2021\\03. MARZO\\SFTP\\AMEX PROVISION OPTBLUE MARZO 2021.csv')   \n",
    "opt.head()\n"
   ]
  },
  {
   "cell_type": "code",
   "execution_count": null,
   "metadata": {},
   "outputs": [],
   "source": [
    "opt.shape"
   ]
  },
  {
   "cell_type": "code",
   "execution_count": null,
   "metadata": {},
   "outputs": [],
   "source": [
    "opt.columns"
   ]
  },
  {
   "cell_type": "markdown",
   "metadata": {},
   "source": [
    "### DATA FINAL"
   ]
  },
  {
   "cell_type": "code",
   "execution_count": null,
   "metadata": {},
   "outputs": [],
   "source": [
    "provision_optb_final = provision_optb.merge(opt[['order_id','fecha_pago','fecha_transaccion']]\n",
    "                                        ,on='order_id',how='left')\n",
    "#provision_amex_final.fillna('RETAINED',inplace=True)\n",
    "provision_optb_final.rename(columns ={'Date_process_roc': 'date_process','roc_deposit_date': 'deposit_date'},inplace=True)\n",
    "provision_optb_final.head()"
   ]
  },
  {
   "cell_type": "code",
   "execution_count": null,
   "metadata": {},
   "outputs": [],
   "source": [
    "provision_optb_final['fecha_pago'] = pd.to_datetime(provision_optb_final['fecha_pago'])\n",
    "provision_optb_final['fecha_transaccion'] = pd.to_datetime(provision_optb_final['fecha_transaccion'])"
   ]
  },
  {
   "cell_type": "code",
   "execution_count": null,
   "metadata": {},
   "outputs": [],
   "source": [
    "provision_optb_final.head()"
   ]
  },
  {
   "cell_type": "code",
   "execution_count": null,
   "metadata": {},
   "outputs": [],
   "source": [
    "provision_optb_final.shape"
   ]
  },
  {
   "cell_type": "code",
   "execution_count": null,
   "metadata": {},
   "outputs": [],
   "source": [
    "optb_not_found = provision_optb_final[(provision_optb_final['fecha_pago'] == 'NO ENCONTRADO EN EPA')]\n",
    "optb_not_found.head()"
   ]
  },
  {
   "cell_type": "code",
   "execution_count": null,
   "metadata": {},
   "outputs": [],
   "source": [
    "optb_not_found.shape"
   ]
  },
  {
   "cell_type": "markdown",
   "metadata": {},
   "source": [
    "### PIVOT "
   ]
  },
  {
   "cell_type": "markdown",
   "metadata": {},
   "source": [
    "#### REPORT DATE LOCAL"
   ]
  },
  {
   "cell_type": "code",
   "execution_count": null,
   "metadata": {},
   "outputs": [],
   "source": [
    "pivot_optb_report_date_local = pd.pivot_table(provision_optb_final,index=['date_transaction','clip_reader']\n",
    "                                              ,columns=['report_date_local'],values=['amount']\n",
    "                                              ,aggfunc=np.sum,margins=True).reset_index(1)\n",
    "pivot_optb_report_date_local.fillna(0,inplace=True)\n",
    "pivot_optb_report_date_local.head()"
   ]
  },
  {
   "cell_type": "code",
   "execution_count": null,
   "metadata": {},
   "outputs": [],
   "source": [
    "pivot_optb_report_date_local.shape"
   ]
  },
  {
   "cell_type": "markdown",
   "metadata": {},
   "source": [
    "#### FECHA DEPOSITO"
   ]
  },
  {
   "cell_type": "code",
   "execution_count": null,
   "metadata": {},
   "outputs": [],
   "source": [
    "pivot_optb_fecha_deposito = pd.pivot_table(provision_optb_final,index=['date_transaction','clip_reader']\n",
    "                                              ,columns=['fecha_pago'],values=['amount']\n",
    "                                              ,aggfunc=np.sum,margins=True).reset_index(1)\n",
    "pivot_optb_fecha_deposito.fillna(0,inplace=True)\n",
    "pivot_optb_fecha_deposito.head()"
   ]
  },
  {
   "cell_type": "code",
   "execution_count": null,
   "metadata": {},
   "outputs": [],
   "source": [
    "pivot_optb_fecha_deposito.shape"
   ]
  },
  {
   "cell_type": "markdown",
   "metadata": {},
   "source": [
    "# PROVISIONES ECOMMERCE"
   ]
  },
  {
   "cell_type": "code",
   "execution_count": null,
   "metadata": {},
   "outputs": [],
   "source": [
    "provision_ecommerce = all_provisiones[(all_provisiones['psp'] == 'PAYWORKS-BANORTE')]\n",
    "provision_ecommerce.rename(columns ={'order_id':'order_id_payworks'}, inplace=True)\n",
    "provision_ecommerce['CONCAT'] = provision_ecommerce['order_id_payworks'].astype(str).replace(' ', '',regex=True)+'-'+provision_ecommerce['amount'].apply(np.floor).astype(str).replace(' ', '',regex=True)+'-'+provision_ecommerce['last4'].astype(str).replace(' ', '',regex=True)\n",
    "provision_ecommerce.head()"
   ]
  },
  {
   "cell_type": "code",
   "execution_count": null,
   "metadata": {},
   "outputs": [],
   "source": [
    "provision_ecommerce.shape"
   ]
  },
  {
   "cell_type": "code",
   "execution_count": null,
   "metadata": {},
   "outputs": [],
   "source": [
    "data_status_ecom_1 = provision_ecommerce.merge(sftp[['order_id_payworks','order_id','SFTP', 'Fecha txn', 'Fecha_deposito']],on='order_id_payworks',how='left')\n",
    "data_status_ecom_1['SFTP'].fillna('NO ENCONTRADO EN SFTP',inplace=True)\n",
    "data_status_ecom_1['Fecha txn'].fillna('NO ENCONTRADO EN SFTP',inplace=True)\n",
    "data_status_ecom_1['Fecha_deposito'].fillna('NO ENCONTRADO EN SFTP',inplace=True)\n",
    "data_status_ecom_1.drop_duplicates(subset =\"CONCAT\", keep = 'last', inplace = True) \n",
    "data_status_ecom_1.head()"
   ]
  },
  {
   "cell_type": "code",
   "execution_count": null,
   "metadata": {},
   "outputs": [],
   "source": [
    "data_status_ecom_1.shape"
   ]
  },
  {
   "cell_type": "code",
   "execution_count": null,
   "metadata": {},
   "outputs": [],
   "source": [
    "duplicates_status_ecom_1 = data_status_ecom_1[data_status_ecom_1.duplicated(['CONCAT'] , keep=False)]\n",
    "duplicates_status_ecom_1.head()"
   ]
  },
  {
   "cell_type": "code",
   "execution_count": null,
   "metadata": {},
   "outputs": [],
   "source": [
    "duplicates_status_ecom_1.shape"
   ]
  },
  {
   "cell_type": "code",
   "execution_count": null,
   "metadata": {},
   "outputs": [],
   "source": [
    "results_status_ecom_1 = data_status_ecom_1[(data_status_ecom_1['Fecha txn'] != 'NO ENCONTRADO EN SFTP')]\n",
    "results_status_ecom_1.head()"
   ]
  },
  {
   "cell_type": "code",
   "execution_count": null,
   "metadata": {},
   "outputs": [],
   "source": [
    "results_status_ecom_1.shape"
   ]
  },
  {
   "cell_type": "code",
   "execution_count": null,
   "metadata": {},
   "outputs": [],
   "source": [
    "NA_status_ecom_1 = data_status_ecom_1[(data_status_ecom_1['Fecha txn'] == 'NO ENCONTRADO EN SFTP')]\n",
    "NA_status_ecom_1.head()"
   ]
  },
  {
   "cell_type": "code",
   "execution_count": null,
   "metadata": {},
   "outputs": [],
   "source": [
    "NA_status_ecom_1.shape"
   ]
  },
  {
   "cell_type": "markdown",
   "metadata": {},
   "source": [
    "### INDEX USANDO CLAVE_AUTORIZACION"
   ]
  },
  {
   "cell_type": "code",
   "execution_count": null,
   "metadata": {},
   "outputs": [],
   "source": [
    "sinref_ecom = NA_status_ecom_1\n",
    "sinref_ecom.drop(['Fecha txn','SFTP','Fecha_deposito','CONCAT'],axis=1,inplace=True)\n",
    "sinref_ecom['CONCAT'] = sinref_ecom['clave_autorizacion'].astype(str).replace(' ', '',regex=True)+'-'+sinref_ecom['amount'].apply(np.floor).astype(str).replace(' ', '',regex=True)+'-'+sinref_ecom['last4'].astype(str).replace(' ', '',regex=True)\n",
    "sinref_ecom.sort_values(by=('created_at'), ascending=True, inplace=True)\n",
    "sinref_ecom.head()"
   ]
  },
  {
   "cell_type": "code",
   "execution_count": null,
   "metadata": {},
   "outputs": [],
   "source": [
    "sinref_ecom.shape"
   ]
  },
  {
   "cell_type": "code",
   "execution_count": null,
   "metadata": {},
   "outputs": [],
   "source": [
    "sftp_clave_autorizacion_ecom = pd.concat([df1,df2,df3,df4,df5])\n",
    "# sftp_clave_autorizacion.drop(['Empty','Empty.1','Empty.2','Empty.3','Empty.4'],axis=1,inplace=True)\n",
    "sftp_clave_autorizacion_ecom.rename(columns ={'Ref. Interbancaria':'order_id'}, inplace=True)"
   ]
  },
  {
   "cell_type": "code",
   "execution_count": null,
   "metadata": {},
   "outputs": [],
   "source": [
    "sftp_fecha_deposito_clave_autorizacion_ecom = sftp_clave_autorizacion_ecom[(sftp_clave_autorizacion_ecom['Tipo txn'] == 'BANORTE')]\n",
    "sftp_fecha_deposito_clave_autorizacion_ecom = sftp_fecha_deposito_clave_autorizacion_ecom[['SFTP', 'Importe Bruto']]\n",
    "sftp_fecha_deposito_clave_autorizacion_ecom.rename(columns ={'Importe Bruto': 'Fecha_deposito'},inplace=True)\n",
    "sftp_fecha_deposito_clave_autorizacion_ecom.head()"
   ]
  },
  {
   "cell_type": "code",
   "execution_count": null,
   "metadata": {},
   "outputs": [],
   "source": [
    "sftp_clave_autorizacion_ecom = sftp_clave_autorizacion_ecom[(sftp_clave_autorizacion_ecom['Tipo txn'] == 'SETTLED')]\n",
    "sftp_clave_autorizacion_ecom = sftp_clave_autorizacion_ecom.merge(sftp_fecha_deposito_clave_autorizacion_ecom[['SFTP', 'Fecha_deposito']],on='SFTP',how='left')"
   ]
  },
  {
   "cell_type": "code",
   "execution_count": null,
   "metadata": {},
   "outputs": [],
   "source": [
    "sftp_clave_autorizacion_ecom['Fecha txn'] = pd.to_datetime(sftp_clave_autorizacion_ecom['Fecha txn'], format='%Y%m%d').dt.date\n",
    "sftp_clave_autorizacion_ecom['SFTP'] = pd.to_datetime(sftp_clave_autorizacion_ecom['SFTP'], format='%Y%m%d').dt.date\n",
    "sftp_clave_autorizacion_ecom['Fecha_deposito'] = pd.to_datetime(sftp_clave_autorizacion_ecom['Fecha_deposito'], format='%Y%m%d').dt.date"
   ]
  },
  {
   "cell_type": "code",
   "execution_count": null,
   "metadata": {},
   "outputs": [],
   "source": [
    "sftp_clave_autorizacion_ecom['Net Amount'] = sftp_clave_autorizacion_ecom['Importe Bruto']/100\n",
    "sftp_clave_autorizacion_ecom['last4'] = sftp_clave_autorizacion_ecom['Tarjeta'].str[-4:].astype(str)\n",
    "sftp_clave_autorizacion_ecom['CONCAT'] = sftp_clave_autorizacion_ecom['Código de Autorización'].astype(str).replace(' ', '',regex=True)+'-'+sftp_clave_autorizacion_ecom['Net Amount'].apply(np.floor).astype(str).replace(' ', '',regex=True)+'-'+sftp_clave_autorizacion_ecom['last4'].astype(str).replace(' ', '',regex=True)\n",
    "sftp_clave_autorizacion_ecom['order_id'].fillna('NO EXISTE EN SFTP',inplace=True)\n",
    "sftp_clave_autorizacion_ecom.head()"
   ]
  },
  {
   "cell_type": "code",
   "execution_count": null,
   "metadata": {},
   "outputs": [],
   "source": [
    "sftp_clave_autorizacion_ecom.shape"
   ]
  },
  {
   "cell_type": "code",
   "execution_count": null,
   "metadata": {},
   "outputs": [],
   "source": [
    "results2_ecom = sinref_ecom.merge(sftp_clave_autorizacion_ecom[['CONCAT','SFTP', 'Fecha txn', 'Fecha_deposito']],on='CONCAT',how='left')\n",
    "results2_ecom['Fecha txn'].fillna('NO ENCONTRADO EN SFTP',inplace=True)\n",
    "results2_ecom['Fecha_deposito'].fillna('NO ENCONTRADO EN SFTP',inplace=True)\n",
    "results2_ecom.drop_duplicates(subset =\"CONCAT\", keep = 'last', inplace = True)\n",
    "results2_ecom.head()"
   ]
  },
  {
   "cell_type": "code",
   "execution_count": null,
   "metadata": {},
   "outputs": [],
   "source": [
    "results2_ecom.shape"
   ]
  },
  {
   "cell_type": "code",
   "execution_count": null,
   "metadata": {},
   "outputs": [],
   "source": [
    "results2_status_1_ecom = results2_ecom[(results2_ecom['Fecha txn'] != 'NO ENCONTRADO EN SFTP')]\n",
    "results2_status_1_ecom.head()"
   ]
  },
  {
   "cell_type": "code",
   "execution_count": null,
   "metadata": {},
   "outputs": [],
   "source": [
    "results2_status_1_ecom.shape"
   ]
  },
  {
   "cell_type": "code",
   "execution_count": null,
   "metadata": {},
   "outputs": [],
   "source": [
    "NA2_ecom = results2_ecom[(results2_ecom['Fecha txn'] == 'NO ENCONTRADO EN SFTP')]\n",
    "NA2_ecom.head()"
   ]
  },
  {
   "cell_type": "code",
   "execution_count": null,
   "metadata": {},
   "outputs": [],
   "source": [
    "NA2_ecom.shape"
   ]
  },
  {
   "cell_type": "code",
   "execution_count": null,
   "metadata": {},
   "outputs": [],
   "source": [
    "duplicates_ecom = results2_ecom[results2_ecom.duplicated(['CONCAT'] , keep=False)]\n",
    "duplicates_ecom.head()"
   ]
  },
  {
   "cell_type": "code",
   "execution_count": null,
   "metadata": {},
   "outputs": [],
   "source": [
    "duplicates_ecom.shape"
   ]
  },
  {
   "cell_type": "markdown",
   "metadata": {},
   "source": [
    "### DATA FINAL"
   ]
  },
  {
   "cell_type": "code",
   "execution_count": null,
   "metadata": {},
   "outputs": [],
   "source": [
    "provision_xpay_final = pd.concat([results_status_ecom_1,results2_status_1_ecom,NA2_ecom])\n",
    "provision_xpay_final.drop(['SFTP'],axis=1,inplace=True)\n",
    "provision_xpay_final['status'].fillna('RETAINED',inplace=True)\n",
    "provision_xpay_final['report_date_local'].fillna('NO ENCONTRADO',inplace=True)\n",
    "provision_xpay_final.head()"
   ]
  },
  {
   "cell_type": "code",
   "execution_count": null,
   "metadata": {},
   "outputs": [],
   "source": [
    "provision_xpay_final.shape"
   ]
  },
  {
   "cell_type": "markdown",
   "metadata": {},
   "source": [
    "### PIVOT"
   ]
  },
  {
   "cell_type": "markdown",
   "metadata": {},
   "source": [
    "#### REPORT_DATE_LOCAL"
   ]
  },
  {
   "cell_type": "code",
   "execution_count": null,
   "metadata": {},
   "outputs": [],
   "source": [
    "pivot_xpay_report_date_local = pd.pivot_table(provision_xpay_final,index=['date_transaction','clip_reader']\n",
    "                                              ,columns=['report_date_local'],values=['amount']\n",
    "                                              ,aggfunc=np.sum,margins=True).reset_index(1)\n",
    "pivot_xpay_report_date_local.fillna(0,inplace=True)\n",
    "pivot_xpay_report_date_local.head()"
   ]
  },
  {
   "cell_type": "code",
   "execution_count": null,
   "metadata": {},
   "outputs": [],
   "source": [
    "pivot_xpay_report_date_local.shape"
   ]
  },
  {
   "cell_type": "markdown",
   "metadata": {},
   "source": [
    "#### FECHA_DEPOSITO"
   ]
  },
  {
   "cell_type": "code",
   "execution_count": null,
   "metadata": {},
   "outputs": [],
   "source": [
    "pivot_xpay_fecha_deposito = pd.pivot_table(provision_xpay_final,index=['date_transaction','clip_reader']\n",
    "                                              ,columns=['Fecha_deposito'],values=['amount']\n",
    "                                              ,aggfunc=np.sum,margins=True).reset_index(1)\n",
    "pivot_xpay_fecha_deposito.fillna(0,inplace=True)\n",
    "pivot_xpay_fecha_deposito.head()"
   ]
  },
  {
   "cell_type": "code",
   "execution_count": null,
   "metadata": {},
   "outputs": [],
   "source": [
    "pivot_xpay_fecha_deposito.shape"
   ]
  },
  {
   "cell_type": "code",
   "execution_count": null,
   "metadata": {},
   "outputs": [],
   "source": [
    "# book = load_workbook('PROVISIONES SEPTIEMBRE 2020.xlsx')\n",
    "# writer = pd.ExcelWriter('PROVISIONES SEPTIEMBRE 2020.xlsx', engine='openpyxl', options={'encoding':'utf-8'})\n",
    "# writer.book = book\n",
    "# provision_ecommerce_total.to_excel(writer, sheet_name='SEPTIEMBRE XPAY', index=False)\n",
    "# writer.save()\n",
    "# writer.close()"
   ]
  },
  {
   "cell_type": "markdown",
   "metadata": {},
   "source": [
    "# PROVISIONES MIT-3DS"
   ]
  },
  {
   "cell_type": "code",
   "execution_count": null,
   "metadata": {},
   "outputs": [],
   "source": [
    "provision_mit = all_provisiones[(all_provisiones['psp'] == 'MIT-3DS')]\n",
    "provision_mit['CONCAT'] = provision_mit['order_id'].astype(str).replace(' ', '',regex=True)+'-'+provision_mit['amount'].apply(np.floor).astype(str).replace(' ', '',regex=True)+'-'+provision_mit['last4'].astype(str).replace(' ', '',regex=True)\n",
    "provision_mit.head()"
   ]
  },
  {
   "cell_type": "code",
   "execution_count": null,
   "metadata": {},
   "outputs": [],
   "source": [
    "provision_mit.shape"
   ]
  },
  {
   "cell_type": "code",
   "execution_count": null,
   "metadata": {},
   "outputs": [],
   "source": [
    "data_status_mit = provision_mit.merge(sftp[['order_id','SFTP', 'Fecha txn', 'Fecha_deposito']],on='order_id',how='left')\n",
    "data_status_mit['SFTP'].fillna('NO ENCONTRADO EN SFTP',inplace=True)\n",
    "data_status_mit['Fecha txn'].fillna('NO ENCONTRADO EN SFTP',inplace=True)\n",
    "data_status_mit['Fecha_deposito'].fillna('NO ENCONTRADO EN SFTP',inplace=True)\n",
    "data_status_mit.drop_duplicates(subset =\"CONCAT\", keep = 'last', inplace = True) \n",
    "data_status_mit.head()"
   ]
  },
  {
   "cell_type": "code",
   "execution_count": null,
   "metadata": {},
   "outputs": [],
   "source": [
    "data_status_mit.shape"
   ]
  },
  {
   "cell_type": "code",
   "execution_count": null,
   "metadata": {},
   "outputs": [],
   "source": [
    "duplicates_status_mit = data_status_mit[data_status_mit.duplicated(['CONCAT'] , keep=False)]\n",
    "duplicates_status_mit.head()"
   ]
  },
  {
   "cell_type": "code",
   "execution_count": null,
   "metadata": {},
   "outputs": [],
   "source": [
    "duplicates_status_mit.shape"
   ]
  },
  {
   "cell_type": "code",
   "execution_count": null,
   "metadata": {},
   "outputs": [],
   "source": [
    "results_status_mit = data_status_mit[(data_status_mit['Fecha txn'] != 'NO ENCONTRADO EN SFTP')]\n",
    "results_status_mit.head()"
   ]
  },
  {
   "cell_type": "code",
   "execution_count": null,
   "metadata": {},
   "outputs": [],
   "source": [
    "results_status_mit.shape"
   ]
  },
  {
   "cell_type": "code",
   "execution_count": null,
   "metadata": {},
   "outputs": [],
   "source": [
    "NA_status_mit = data_status_mit[(data_status_mit['Fecha txn'] == 'NO ENCONTRADO EN SFTP')]\n",
    "NA_status_mit.head()"
   ]
  },
  {
   "cell_type": "code",
   "execution_count": null,
   "metadata": {},
   "outputs": [],
   "source": [
    "NA_status_mit.shape"
   ]
  },
  {
   "cell_type": "markdown",
   "metadata": {},
   "source": [
    "### INDEX USANDO CLAVE AUTORIZACION"
   ]
  },
  {
   "cell_type": "code",
   "execution_count": null,
   "metadata": {},
   "outputs": [],
   "source": [
    "sinref_mit = NA_status_mit\n",
    "sinref_mit.drop(['Fecha txn','SFTP','Fecha_deposito','CONCAT'],axis=1,inplace=True)\n",
    "sinref_mit['CONCAT'] = sinref_mit['clave_autorizacion'].astype(str).replace(' ', '',regex=True)+'-'+sinref_mit['amount'].apply(np.floor).astype(str).replace(' ', '',regex=True)+'-'+sinref_mit['last4'].astype(str).replace(' ', '',regex=True)\n",
    "sinref_mit.sort_values(by=('created_at'), ascending=True, inplace=True)\n",
    "sinref_mit.head()"
   ]
  },
  {
   "cell_type": "code",
   "execution_count": null,
   "metadata": {},
   "outputs": [],
   "source": [
    "sinref_mit.shape"
   ]
  },
  {
   "cell_type": "code",
   "execution_count": null,
   "metadata": {},
   "outputs": [],
   "source": [
    "sftp_clave_autorizacion_mit = pd.concat([df1,df2,df3,df4,df5])\n",
    "# sftp_clave_autorizacion.drop(['Empty','Empty.1','Empty.2','Empty.3','Empty.4'],axis=1,inplace=True)\n",
    "sftp_clave_autorizacion_mit.rename(columns ={'Ref. Interbancaria':'order_id'}, inplace=True)"
   ]
  },
  {
   "cell_type": "code",
   "execution_count": null,
   "metadata": {},
   "outputs": [],
   "source": [
    "sftp_fecha_deposito_clave_autorizacion_mit = sftp_clave_autorizacion_mit[(sftp_clave_autorizacion_mit['Tipo txn'] == 'BANORTE')]\n",
    "sftp_fecha_deposito_clave_autorizacion_mit = sftp_fecha_deposito_clave_autorizacion_mit[['SFTP', 'Importe Bruto']]\n",
    "sftp_fecha_deposito_clave_autorizacion_mit.rename(columns ={'Importe Bruto': 'Fecha_deposito'},inplace=True)\n",
    "sftp_fecha_deposito_clave_autorizacion_mit.head()"
   ]
  },
  {
   "cell_type": "code",
   "execution_count": null,
   "metadata": {},
   "outputs": [],
   "source": [
    "sftp_clave_autorizacion_mit = sftp_clave_autorizacion_mit[(sftp_clave_autorizacion_mit['Tipo txn'] == 'SETTLED')]\n",
    "sftp_clave_autorizacion_mit = sftp_clave_autorizacion_mit.merge(sftp_fecha_deposito_clave_autorizacion_mit[['SFTP', 'Fecha_deposito']],on='SFTP',how='left')"
   ]
  },
  {
   "cell_type": "code",
   "execution_count": null,
   "metadata": {},
   "outputs": [],
   "source": [
    "sftp_clave_autorizacion_mit['Fecha txn'] = pd.to_datetime(sftp_clave_autorizacion_mit['Fecha txn'], format='%Y%m%d').dt.date\n",
    "sftp_clave_autorizacion_mit['SFTP'] = pd.to_datetime(sftp_clave_autorizacion_mit['SFTP'], format='%Y%m%d').dt.date\n",
    "sftp_clave_autorizacion_mit['Fecha_deposito'] = pd.to_datetime(sftp_clave_autorizacion_mit['Fecha_deposito'], format='%Y%m%d').dt.date"
   ]
  },
  {
   "cell_type": "code",
   "execution_count": null,
   "metadata": {},
   "outputs": [],
   "source": [
    "sftp_clave_autorizacion_mit['Net Amount'] = sftp_clave_autorizacion_mit['Importe Bruto']/100\n",
    "sftp_clave_autorizacion_mit['last4'] = sftp_clave_autorizacion_mit['Tarjeta'].str[-4:].astype(str)\n",
    "sftp_clave_autorizacion_mit['CONCAT'] = sftp_clave_autorizacion_mit['Código de Autorización'].astype(str).replace(' ', '',regex=True)+'-'+sftp_clave_autorizacion_mit['Net Amount'].apply(np.floor).astype(str).replace(' ', '',regex=True)+'-'+sftp_clave_autorizacion_mit['last4'].astype(str).replace(' ', '',regex=True)\n",
    "sftp_clave_autorizacion_mit['order_id'].fillna('NO EXISTE EN SFTP',inplace=True)\n",
    "sftp_clave_autorizacion_mit.head()"
   ]
  },
  {
   "cell_type": "code",
   "execution_count": null,
   "metadata": {},
   "outputs": [],
   "source": [
    "sftp_clave_autorizacion_mit.shape"
   ]
  },
  {
   "cell_type": "code",
   "execution_count": null,
   "metadata": {},
   "outputs": [],
   "source": [
    "results2_mit = sinref_mit.merge(sftp_clave_autorizacion_mit[['CONCAT','SFTP', 'Fecha txn', 'Fecha_deposito']],on='CONCAT',how='left')\n",
    "results2_mit['Fecha txn'].fillna('NO ENCONTRADO EN SFTP',inplace=True)\n",
    "results2_mit['Fecha_deposito'].fillna('NO ENCONTRADO EN SFTP',inplace=True)\n",
    "results2_mit.drop_duplicates(subset =\"CONCAT\", keep = 'last', inplace = True)\n",
    "results2_mit.head()"
   ]
  },
  {
   "cell_type": "code",
   "execution_count": null,
   "metadata": {},
   "outputs": [],
   "source": [
    "results2_mit.shape"
   ]
  },
  {
   "cell_type": "code",
   "execution_count": null,
   "metadata": {},
   "outputs": [],
   "source": [
    "results2_status_1_mit = results2_mit[(results2_mit['Fecha txn'] != 'NO ENCONTRADO EN SFTP')]\n",
    "results2_status_1_mit.head()"
   ]
  },
  {
   "cell_type": "code",
   "execution_count": null,
   "metadata": {},
   "outputs": [],
   "source": [
    "results2_status_1_mit.shape"
   ]
  },
  {
   "cell_type": "code",
   "execution_count": null,
   "metadata": {},
   "outputs": [],
   "source": [
    "NA2_mit = results2_mit[(results2_mit['Fecha txn'] == 'NO ENCONTRADO EN SFTP')]\n",
    "NA2_mit.head()"
   ]
  },
  {
   "cell_type": "code",
   "execution_count": null,
   "metadata": {},
   "outputs": [],
   "source": [
    "NA2_mit.shape"
   ]
  },
  {
   "cell_type": "code",
   "execution_count": null,
   "metadata": {},
   "outputs": [],
   "source": [
    "duplicates_mit = results2_mit[results2_mit.duplicated(['CONCAT'] , keep=False)]\n",
    "duplicates_mit.head()"
   ]
  },
  {
   "cell_type": "code",
   "execution_count": null,
   "metadata": {},
   "outputs": [],
   "source": [
    "duplicates_mit.shape"
   ]
  },
  {
   "cell_type": "markdown",
   "metadata": {},
   "source": [
    "### DATA FINAL"
   ]
  },
  {
   "cell_type": "code",
   "execution_count": null,
   "metadata": {},
   "outputs": [],
   "source": [
    "provision_mit_final = pd.concat([results_status_mit,results2_status_1_mit,NA2_mit])\n",
    "provision_mit_final['status'].fillna('RETAINED',inplace=True)\n",
    "provision_mit_final['report_date_local'].fillna('NO ENCONTRADO',inplace=True)\n",
    "provision_mit_final.head()"
   ]
  },
  {
   "cell_type": "code",
   "execution_count": null,
   "metadata": {},
   "outputs": [],
   "source": [
    "provision_mit_final.shape"
   ]
  },
  {
   "cell_type": "markdown",
   "metadata": {},
   "source": [
    "### PIVOT "
   ]
  },
  {
   "cell_type": "markdown",
   "metadata": {},
   "source": [
    "#### REPORT_DATE_LOCAL"
   ]
  },
  {
   "cell_type": "code",
   "execution_count": null,
   "metadata": {},
   "outputs": [],
   "source": [
    "pivot_mit_report_date_local = pd.pivot_table(provision_mit_final,index=['date_transaction','clip_reader']\n",
    "                                              ,columns=['report_date_local'],values=['amount']\n",
    "                                              ,aggfunc=np.sum,margins=True).reset_index(1)\n",
    "pivot_mit_report_date_local.fillna(0,inplace=True)\n",
    "pivot_mit_report_date_local.head()"
   ]
  },
  {
   "cell_type": "code",
   "execution_count": null,
   "metadata": {},
   "outputs": [],
   "source": [
    "pivot_mit_report_date_local.shape"
   ]
  },
  {
   "cell_type": "markdown",
   "metadata": {},
   "source": [
    "#### FECHA_DEPOSITO"
   ]
  },
  {
   "cell_type": "code",
   "execution_count": null,
   "metadata": {},
   "outputs": [],
   "source": [
    "pivot_mit_fecha_deposito = pd.pivot_table(provision_mit_final,index=['date_transaction','clip_reader']\n",
    "                                              ,columns=['Fecha_deposito'],values=['amount']\n",
    "                                              ,aggfunc=np.sum,margins=True).reset_index(1)\n",
    "pivot_mit_fecha_deposito.fillna(0,inplace=True)\n",
    "pivot_mit_fecha_deposito.head()"
   ]
  },
  {
   "cell_type": "code",
   "execution_count": null,
   "metadata": {},
   "outputs": [],
   "source": [
    "pivot_mit_fecha_deposito.shape"
   ]
  },
  {
   "cell_type": "code",
   "execution_count": null,
   "metadata": {},
   "outputs": [],
   "source": [
    "# book = load_workbook('PROVISIONES SEPTIEMBRE 2020.xlsx')\n",
    "# writer = pd.ExcelWriter('PROVISIONES SEPTIEMBRE 2020.xlsx', engine='openpyxl', options={'encoding':'utf-8'})\n",
    "# writer.book = book\n",
    "# provision_mit_total.to_excel(writer, sheet_name='SEPTIEMBRE OPENPAY', index=False)\n",
    "# writer.save()\n",
    "# writer.close()"
   ]
  },
  {
   "cell_type": "markdown",
   "metadata": {},
   "source": [
    "# PROVISIONES OPEN PAY "
   ]
  },
  {
   "cell_type": "code",
   "execution_count": null,
   "metadata": {},
   "outputs": [],
   "source": [
    "provision_openpay = all_provisiones[(all_provisiones['psp'] == 'OPENPAY')]\n",
    "provision_openpay['CONCAT'] = provision_openpay['order_id'].astype(str).replace(' ', '',regex=True)+'-'+provision_openpay['amount'].apply(np.floor).astype(str).replace(' ', '',regex=True)+'-'+provision_openpay['last4'].astype(str).replace(' ', '',regex=True)\n",
    "provision_openpay.head()"
   ]
  },
  {
   "cell_type": "code",
   "execution_count": null,
   "metadata": {},
   "outputs": [],
   "source": [
    "provision_openpay.shape"
   ]
  },
  {
   "cell_type": "markdown",
   "metadata": {},
   "source": [
    "### DATA FINAL"
   ]
  },
  {
   "cell_type": "code",
   "execution_count": null,
   "metadata": {},
   "outputs": [],
   "source": [
    "provision_openpay_final = pd.concat([provision_openpay])\n",
    "provision_openpay_final.fillna('RETAINED',inplace=True)\n",
    "provision_openpay_final.head()"
   ]
  },
  {
   "cell_type": "code",
   "execution_count": null,
   "metadata": {},
   "outputs": [],
   "source": [
    "provision_openpay_final.shape"
   ]
  },
  {
   "cell_type": "markdown",
   "metadata": {},
   "source": [
    "### PIVOT "
   ]
  },
  {
   "cell_type": "markdown",
   "metadata": {},
   "source": [
    "#### REPORT_DATE_LOCAL"
   ]
  },
  {
   "cell_type": "code",
   "execution_count": null,
   "metadata": {},
   "outputs": [],
   "source": [
    "pivot_openpay_report_date_local = pd.pivot_table(provision_openpay_final,index=['date_transaction','clip_reader']\n",
    "                                              ,columns=['report_date_local'],values=['amount']\n",
    "                                              ,aggfunc=np.sum,margins=True).reset_index(1)\n",
    "pivot_openpay_report_date_local.fillna(0,inplace=True)\n",
    "pivot_openpay_report_date_local.head()"
   ]
  },
  {
   "cell_type": "code",
   "execution_count": null,
   "metadata": {},
   "outputs": [],
   "source": [
    "pivot_openpay_report_date_local.shape"
   ]
  },
  {
   "cell_type": "code",
   "execution_count": null,
   "metadata": {},
   "outputs": [],
   "source": [
    "# book = load_workbook('PROVISIONES SEPTIEMBRE 2020.xlsx')\n",
    "# writer = pd.ExcelWriter('PROVISIONES SEPTIEMBRE 2020.xlsx', engine='openpyxl', options={'encoding':'utf-8'})\n",
    "# writer.book = book\n",
    "# provision_openpay_final.to_excel(writer, sheet_name='SEPTIEMBRE OPENPAY', index=False)\n",
    "# writer.save()\n",
    "# writer.close()"
   ]
  },
  {
   "cell_type": "markdown",
   "metadata": {},
   "source": [
    "# EXCEL FINAL "
   ]
  },
  {
   "cell_type": "code",
   "execution_count": null,
   "metadata": {},
   "outputs": [],
   "source": [
    "# Creating Excel Writer Object from Pandas  \n",
    "writer = pd.ExcelWriter('DATA PROVISIONES MARZO 2021.xlsx', engine='xlsxwriter', options={'encoding':'utf-8'})   \n",
    "workbook=writer.book\n",
    "\n",
    "# BNTE\n",
    "worksheet=workbook.add_worksheet('MARZO BNTE')\n",
    "writer.sheets['MARZO BNTE'] = worksheet\n",
    "provision_prosa_final.to_excel(writer,sheet_name='MARZO BNTE',startrow=0 , startcol=0, index=False)   \n",
    "pivot_bnte_report_date_local.to_excel(writer,sheet_name='MARZO BNTE',startrow=1, startcol=21)\n",
    "pivot_bnte_fecha_deposito.to_excel(writer,sheet_name='MARZO BNTE',startrow=12, startcol=21)\n",
    "\n",
    "# AMEX\n",
    "worksheet=workbook.add_worksheet('MARZO AMEX')\n",
    "writer.sheets['MARZO AMEX'] = worksheet\n",
    "results_amex_final.to_excel(writer,sheet_name='MARZO AMEX',startrow=0 , startcol=0, index=False)  \n",
    "pivot_amex_report_date_local.to_excel(writer,sheet_name='MARZO AMEX',startrow=1, startcol=21)\n",
    "pivot_amex_fecha_deposito.to_excel(writer,sheet_name='MARZO AMEX',startrow=12, startcol=21)\n",
    "\n",
    "#OPTBLUE\n",
    "worksheet=workbook.add_worksheet('MARZO OPTBLUE')\n",
    "writer.sheets['MARZO OPTBLUE'] = worksheet\n",
    "provision_optb_final.to_excel(writer,sheet_name='MARZO OPTBLUE',startrow=0 , startcol=0, index=False)  \n",
    "pivot_optb_report_date_local.to_excel(writer,sheet_name='MARZO OPTBLUE',startrow=1, startcol=21)\n",
    "pivot_optb_fecha_deposito.to_excel(writer,sheet_name='MARZO OPTBLUE',startrow=12, startcol=21)\n",
    "\n",
    "# XPAY\n",
    "worksheet=workbook.add_worksheet('MARZO XPAY')\n",
    "writer.sheets['MARZO XPAY'] = worksheet\n",
    "provision_xpay_final.to_excel(writer,sheet_name='MARZO XPAY',startrow=0 , startcol=0, index=False)  \n",
    "pivot_xpay_report_date_local.to_excel(writer,sheet_name='MARZO XPAY',startrow=1, startcol=22)\n",
    "pivot_xpay_fecha_deposito.to_excel(writer,sheet_name='MARZO XPAY',startrow=12, startcol=22)\n",
    "\n",
    "# MIT\n",
    "worksheet=workbook.add_worksheet('MARZO MIT')\n",
    "writer.sheets['MARZO MIT'] = worksheet\n",
    "provision_mit_final.to_excel(writer,sheet_name='MARZO MIT',startrow=0 , startcol=0, index=False)  \n",
    "pivot_mit_report_date_local.to_excel(writer,sheet_name='MARZO MIT',startrow=1, startcol=22)\n",
    "pivot_mit_fecha_deposito.to_excel(writer,sheet_name='MARZO MIT',startrow=12, startcol=22)\n",
    "\n",
    "# OPENPAY\n",
    "worksheet=workbook.add_worksheet('MARZO OPENPAY')\n",
    "writer.sheets['MARZO OPENPAY'] = worksheet\n",
    "provision_openpay_final.to_excel(writer,sheet_name='MARZO OPENPAY',startrow=0 , startcol=0, index=False)  \n",
    "pivot_openpay_report_date_local.to_excel(writer,sheet_name='MARZO OPENPAY',startrow=1, startcol=21)\n",
    "\n",
    "writer.save()\n",
    "writer.close()"
   ]
  },
  {
   "cell_type": "code",
   "execution_count": null,
   "metadata": {},
   "outputs": [],
   "source": []
  }
 ],
 "metadata": {
  "kernelspec": {
   "display_name": "Python 3",
   "language": "python",
   "name": "python3"
  },
  "language_info": {
   "codemirror_mode": {
    "name": "ipython",
    "version": 3
   },
   "file_extension": ".py",
   "mimetype": "text/x-python",
   "name": "python",
   "nbconvert_exporter": "python",
   "pygments_lexer": "ipython3",
   "version": "3.7.6"
  }
 },
 "nbformat": 4,
 "nbformat_minor": 2
}
