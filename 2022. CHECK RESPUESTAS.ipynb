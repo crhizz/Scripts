{
 "cells": [
  {
   "cell_type": "code",
   "execution_count": null,
   "metadata": {},
   "outputs": [],
   "source": [
    "import pandas as pd\n",
    "import numpy as np\n",
    "from openpyxl import load_workbook\n",
    "import glob\n",
    "import os\n",
    "pd.options.display.float_format = '{:,.2f}'.format"
   ]
  },
  {
   "cell_type": "code",
   "execution_count": null,
   "metadata": {},
   "outputs": [],
   "source": [
    "name_header = ['merchant_id','merchant_name','user_email','report_id','report_date_local','amount','status','bank_name'\n",
    "               ,'payment_date_local','bank_account_owner_name','bank_account_number','swap']"
   ]
  },
  {
   "cell_type": "markdown",
   "metadata": {},
   "source": [
    "### 2022"
   ]
  },
  {
   "cell_type": "markdown",
   "metadata": {},
   "source": [
    "### RESPUESTAS FAST PAYMENTS"
   ]
  },
  {
   "cell_type": "code",
   "execution_count": null,
   "metadata": {},
   "outputs": [],
   "source": [
    "allfiles_fp_backup = glob.glob(r'G:\\My Drive\\RESPALDO-PC\\FAST PAYMENTS\\2021\\**\\ARCHIVO RESPUESTAS FINALES\\*.csv',recursive=False)\n",
    "allfiles_fp_backup"
   ]
  },
  {
   "cell_type": "code",
   "execution_count": null,
   "metadata": {},
   "outputs": [],
   "source": [
    "allfiles_fp = glob.glob(r'C:\\Users\\Cristian.Aparicio\\Documents\\FAST PAYMENTS\\2022\\**\\ARCHIVO RESPUESTAS FINALES\\*.csv',recursive=False)\n",
    "allfiles_fp"
   ]
  },
  {
   "cell_type": "markdown",
   "metadata": {},
   "source": [
    "### RESPUESTAS TRADICIONAL"
   ]
  },
  {
   "cell_type": "code",
   "execution_count": null,
   "metadata": {},
   "outputs": [],
   "source": [
    "allfiles_disp_trad = glob.glob(r'G:\\My Drive\\3.-Settlement\\Respuestas Swap\\2022\\**\\*.csv', recursive=False)\n",
    "allfiles_disp_trad"
   ]
  },
  {
   "cell_type": "markdown",
   "metadata": {},
   "source": [
    "### CONSOLIDADO RESPUESTAS FAST PAYMENTS"
   ]
  },
  {
   "cell_type": "code",
   "execution_count": null,
   "metadata": {},
   "outputs": [],
   "source": [
    "fp_resp_files = pd.concat([pd.read_csv(f,dtype={'bank_account_number':object,'CLABE':object,'report_id':object})\n",
    "                            .assign(file_name=os.path.basename(f)) for f in allfiles_fp])\n",
    "#fp_resp_files['date_query'] = fp_resp_files[\"file_name\"].str[-14:-4]\n",
    "#fp_resp_files['date_query']= pd.to_datetime(fp_resp_files['date_query'])\n",
    "fp_resp_files.head()"
   ]
  },
  {
   "cell_type": "code",
   "execution_count": null,
   "metadata": {},
   "outputs": [],
   "source": [
    "fp_resp_files.shape"
   ]
  },
  {
   "cell_type": "code",
   "execution_count": null,
   "metadata": {},
   "outputs": [],
   "source": [
    "fp_resp_files_backup = pd.concat([pd.read_csv(f,dtype={'bank_account_number':object,'CLABE':object,'report_id':object})\n",
    "                            .assign(file_name=os.path.basename(f)) for f in allfiles_fp_backup])\n",
    "#fp_resp_files['date_query'] = fp_resp_files[\"file_name\"].str[-14:-4]\n",
    "#fp_resp_files['date_query']= pd.to_datetime(fp_resp_files['date_query'])\n",
    "fp_resp_files_backup.head()"
   ]
  },
  {
   "cell_type": "code",
   "execution_count": null,
   "metadata": {},
   "outputs": [],
   "source": [
    "fp_resp_files_backup.shape"
   ]
  },
  {
   "cell_type": "markdown",
   "metadata": {},
   "source": [
    "### CONSOLIDADO TRADICIONAL "
   ]
  },
  {
   "cell_type": "code",
   "execution_count": null,
   "metadata": {},
   "outputs": [],
   "source": [
    "trad_resp_files = pd.concat([pd.read_csv(f,dtype={'Cuenta':object,'report_id':object})\n",
    "                            .assign(file_name=os.path.basename(f)) for f in allfiles_disp_trad])\n",
    "trad_resp_files['date_query'] = trad_resp_files[\"file_name\"].str[-14:-4]\n",
    "trad_resp_files['date_query']= pd.to_datetime(trad_resp_files['date_query'])\n",
    "trad_resp_files.head()"
   ]
  },
  {
   "cell_type": "code",
   "execution_count": null,
   "metadata": {},
   "outputs": [],
   "source": [
    "trad_resp_files.shape"
   ]
  },
  {
   "cell_type": "markdown",
   "metadata": {},
   "source": [
    "### ALL FILES"
   ]
  },
  {
   "cell_type": "code",
   "execution_count": null,
   "metadata": {},
   "outputs": [],
   "source": [
    "allfiles = pd.concat([fp_resp_files])\n",
    "allfiles.fillna('BLANK',inplace=True)\n",
    "allfiles['Date_respuesta']= pd.to_datetime(allfiles['Date_respuesta'])\n",
    "allfiles.sort_values(by=['Date_respuesta'],inplace=True)\n",
    "allfiles.head()"
   ]
  },
  {
   "cell_type": "code",
   "execution_count": null,
   "metadata": {},
   "outputs": [],
   "source": [
    "allfiles.shape"
   ]
  },
  {
   "cell_type": "code",
   "execution_count": null,
   "metadata": {},
   "outputs": [],
   "source": [
    "allfiles.dtypes"
   ]
  },
  {
   "cell_type": "code",
   "execution_count": null,
   "metadata": {},
   "outputs": [],
   "source": [
    "allfiles['Date_respuesta'].unique()"
   ]
  },
  {
   "cell_type": "markdown",
   "metadata": {},
   "source": [
    "### CHECK REPORT_ID"
   ]
  },
  {
   "cell_type": "code",
   "execution_count": null,
   "metadata": {},
   "outputs": [],
   "source": [
    "ticket_1 = pd.read_csv(r'TICKET ZENDESK.csv',dtype={'report_id':object})\n",
    "ticket_1.head()"
   ]
  },
  {
   "cell_type": "code",
   "execution_count": null,
   "metadata": {},
   "outputs": [],
   "source": [
    "ticket_1.shape"
   ]
  },
  {
   "cell_type": "code",
   "execution_count": null,
   "metadata": {},
   "outputs": [],
   "source": [
    "cruce_1 = ticket_1.merge(allfiles[['report_id','Date_respuesta','bank_account_number','disbursement_tracking_key']],\n",
    "                         on='report_id', how='left')\n",
    "cruce_1.head()"
   ]
  },
  {
   "cell_type": "code",
   "execution_count": null,
   "metadata": {},
   "outputs": [],
   "source": [
    "cruce_1.shape"
   ]
  },
  {
   "cell_type": "code",
   "execution_count": null,
   "metadata": {},
   "outputs": [],
   "source": [
    "cruce_1.to_excel('CHECK CLAVES.xlsx')"
   ]
  },
  {
   "cell_type": "code",
   "execution_count": null,
   "metadata": {
    "scrolled": true
   },
   "outputs": [],
   "source": [
    "check = allfiles[(allfiles['report_id'].isin(['GMCQFKYFP',\n",
    "'LNTY48R54',\n",
    "'CJNW8ZPDQ',\n",
    "'9Q9KF8LG9',\n",
    "'KQWNWCH2S',\n",
    "'BVWBNY92N',\n",
    "'Z2WP4WZ4V',\n",
    "'C3TG4LT55',\n",
    "'L2LJJQZ3N',\n",
    "'CL62LZQDZ',\n",
    "'R5CP78NTW',\n",
    "'4YSRZV8JR',\n",
    "'BHRXZPHT7',\n",
    "'HR3VXLL5X',\n",
    "'TP4DDJDSZ',\n",
    "'YPWWCSS57',\n",
    "'3YXXVP2VK',\n",
    "'7LXCPB442',\n",
    "'56QPCJY25',\n",
    "'3GM87WZ8S',\n",
    "'FDMT7JMQF',\n",
    "'5TZ9GK25P',\n",
    "'3LW8NKBKK',\n",
    "'BTTTLLYZN',\n",
    "'9LFTH3GVW',\n",
    "'YNQ5LXY92',\n",
    "'FZSD5Z9GD',\n",
    "'VNKT8CS8N',\n",
    "'47ZJBK8TP',\n",
    "'DJP4RXRNZ',\n",
    "'JFPXLW6GH',\n",
    "'SFWLMHXK7',\n",
    "'R5BQCXD9M',\n",
    "'CQGYSM4WL',\n",
    "'V8WC6KFKH',\n",
    "'9G6RWMYQQ',\n",
    "'79RFX9X6G',\n",
    "'JY6WKW45R',\n",
    "'BFX9RJXS8',\n",
    "'W7YPCBCJT',\n",
    "'ND43WDXNG',\n",
    "'ZQG2JCMKW',\n",
    "'GZ5R4W37M',\n",
    "'3FDJL5CV8',\n",
    "'GG6CGCLZ7',\n",
    "'HCWRRRSVY',\n",
    "'PN65VGYDM',\n",
    "'4S3NJTR7Z',\n",
    "'6HKFKRTGR',\n",
    "'VG8WXB9GK',\n",
    "'45X63WV35',\n",
    "'8MVGQVCP4',\n",
    "'XNSBVRL79',\n",
    "'NQG7SDFM5',\n",
    "'HVMV7KCW9',\n",
    "'MDCNYVQYZ',\n",
    "'P9D93DWM4',\n",
    "'J45VZSWKZ',\n",
    "'QY2PF3WF5',\n",
    "'S6BR9C7GN',\n",
    "'YHFL4LSDR',\n",
    "'39742G5ZT',\n",
    "'TRTV63J83',\n",
    "'CGSLS8L7Y',\n",
    "'R38DQR4R8',\n",
    "'YYBXGKT46',\n",
    "'2J5X5Y8Q7',\n",
    "'S9LYPTXTK',\n",
    "'8YWVCMLC6',\n",
    "'C7HTH7BLH',\n",
    "'BSKSV5WLF',\n",
    "'6ZVWL9NQG',\n",
    "'6RDDJ4LFC',\n",
    "'XBSWZXSN6',\n",
    "'6VD9GTFKD',\n",
    "'92VH2XG83',\n",
    "'Z385WNSK9',\n",
    "'DX9GRH3PP',\n",
    "'KBH37TMRJ',\n",
    "'FTKZJ74Q7',\n",
    "'86633LCRH',\n",
    "'VQM8XMBH7',\n",
    "'MLVNFYBWW',\n",
    "'P79YPB2R7',\n",
    "'BY7JDGG6W',\n",
    "'4TBZ9BHGF',\n",
    "'NC3B2YPB7',\n",
    "'9XRJQQP2Y',\n",
    "'FZQMK946B',\n",
    "'WJRG4G4C8',\n",
    "'9ZJTVYQLT']))]\n",
    "check.sort_values(by=['Date_respuesta','report_id'],ascending=False,inplace=True)\n",
    "# check.drop_duplicates(subset =\"report_id\", keep = 'first', inplace = True)\n",
    "check.head()"
   ]
  },
  {
   "cell_type": "code",
   "execution_count": null,
   "metadata": {},
   "outputs": [],
   "source": [
    "check.shape"
   ]
  },
  {
   "cell_type": "code",
   "execution_count": null,
   "metadata": {},
   "outputs": [],
   "source": [
    "check.to_excel('CHECK PAGOS PAYCLIP TRAD.xlsx',index=False)"
   ]
  },
  {
   "cell_type": "code",
   "execution_count": null,
   "metadata": {},
   "outputs": [],
   "source": []
  }
 ],
 "metadata": {
  "kernelspec": {
   "display_name": "Python 3 (ipykernel)",
   "language": "python",
   "name": "python3"
  },
  "language_info": {
   "codemirror_mode": {
    "name": "ipython",
    "version": 3
   },
   "file_extension": ".py",
   "mimetype": "text/x-python",
   "name": "python",
   "nbconvert_exporter": "python",
   "pygments_lexer": "ipython3",
   "version": "3.8.13"
  }
 },
 "nbformat": 4,
 "nbformat_minor": 4
}
