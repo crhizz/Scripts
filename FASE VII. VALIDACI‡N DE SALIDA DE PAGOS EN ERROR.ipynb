{
 "cells": [
  {
   "cell_type": "code",
   "execution_count": null,
   "metadata": {},
   "outputs": [],
   "source": [
    "import pandas as pd\n",
    "import numpy as np\n",
    "import glob\n",
    "import os\n",
    "from openpyxl import load_workbook\n",
    "pd.options.display.float_format = '{:,.2f}'.format"
   ]
  },
  {
   "cell_type": "markdown",
   "metadata": {},
   "source": [
    "# MES AÑO DE CONCILIACIÓN"
   ]
  },
  {
   "cell_type": "code",
   "execution_count": null,
   "metadata": {},
   "outputs": [],
   "source": [
    "month_conc = 'August'\n",
    "year_conc = '2022'"
   ]
  },
  {
   "cell_type": "markdown",
   "metadata": {},
   "source": [
    "# RUTAS DE ACCESO"
   ]
  },
  {
   "cell_type": "markdown",
   "metadata": {},
   "source": [
    "### SWAP DEL DIA "
   ]
  },
  {
   "cell_type": "code",
   "execution_count": null,
   "metadata": {},
   "outputs": [],
   "source": [
    "allfiles_disp_trad = glob.glob(r'C:\\Users\\Cristian.Aparicio\\Documents\\DISPERSIONES\\2022\\08. AGOSTO\\ARCHIVO DISPERSIONES\\Dispersión*.xlsx', recursive=False)\n",
    "allfiles_disp_trad"
   ]
  },
  {
   "cell_type": "markdown",
   "metadata": {},
   "source": [
    "### FAST PAYMENTS"
   ]
  },
  {
   "cell_type": "code",
   "execution_count": null,
   "metadata": {},
   "outputs": [],
   "source": [
    "allfiles_fp = glob.glob(r'C:\\Users\\Cristian.Aparicio\\Documents\\FAST PAYMENTS\\2022\\08. AGOSTO\\ARCHIVO DISPERSIONES FP\\Dispersión-FP*.xlsx',recursive=False)\n",
    "allfiles_fp"
   ]
  },
  {
   "cell_type": "markdown",
   "metadata": {},
   "source": [
    "# SWAP DEL DIA"
   ]
  },
  {
   "cell_type": "code",
   "execution_count": null,
   "metadata": {},
   "outputs": [],
   "source": [
    "swap_dia_total = pd.concat([pd.read_excel(f,sheet_name = 'Swap del día')\n",
    "                            .assign(file_name=os.path.basename(f)) for f in allfiles_disp_trad])\n",
    "swap_dia_total['Date'] = swap_dia_total[\"file_name\"].str[-13:-5]\n",
    "swap_dia_total['Date']= pd.to_datetime(swap_dia_total['Date'], format='%Y%m%d').dt.date\n",
    "swap_dia_total['Date']= pd.to_datetime(swap_dia_total['Date'])\n",
    "swap_dia_total.sort_values(by=['Date'],ascending=True,inplace=True)\n",
    "swap_dia_total['report_date_local']= pd.to_datetime(swap_dia_total['report_date_local'])\n",
    "swap_dia_total['month_conc'] = month_conc\n",
    "swap_dia_total['year_conc'] = year_conc\n",
    "swap_dia_total['month_report'] = swap_dia_total['report_date_local'].dt.strftime('%B')\n",
    "swap_dia_total['year_report'] = swap_dia_total['report_date_local'].dt.year.astype(str)\n",
    "swap_dia_total.head()"
   ]
  },
  {
   "cell_type": "code",
   "execution_count": null,
   "metadata": {},
   "outputs": [],
   "source": [
    "swap_dia_total.shape"
   ]
  },
  {
   "cell_type": "code",
   "execution_count": null,
   "metadata": {},
   "outputs": [],
   "source": [
    "swap_dia_total.dtypes"
   ]
  },
  {
   "cell_type": "code",
   "execution_count": null,
   "metadata": {},
   "outputs": [],
   "source": [
    "pivot_total = pd.pivot_table(swap_dia_total,index=['Date'],values=['total_due'],aggfunc = ['sum', len],margins=True)\n",
    "pivot_total.reset_index(drop=False, inplace=True)\n",
    "pivot_total.head()"
   ]
  },
  {
   "cell_type": "code",
   "execution_count": null,
   "metadata": {},
   "outputs": [],
   "source": [
    "pivot_parcial = pd.pivot_table(swap_dia_total,index=['tipo','Date'],values=['total_due'],aggfunc = ['sum', len],margins=True)\n",
    "pivot_parcial.reset_index(drop=False, inplace=True)\n",
    "pivot_parcial.head()"
   ]
  },
  {
   "cell_type": "markdown",
   "metadata": {},
   "source": [
    "## CATEGORIZACIÓN DE REPROGRAMACIONES"
   ]
  },
  {
   "cell_type": "code",
   "execution_count": null,
   "metadata": {},
   "outputs": [],
   "source": [
    "swap_dia_total_repro = swap_dia_total[(swap_dia_total['tipo'] == 'Reprogramación')]\n",
    "swap_dia_total_repro.head()"
   ]
  },
  {
   "cell_type": "code",
   "execution_count": null,
   "metadata": {},
   "outputs": [],
   "source": [
    "swap_dia_total_repro.shape"
   ]
  },
  {
   "cell_type": "code",
   "execution_count": null,
   "metadata": {},
   "outputs": [],
   "source": [
    "swap_dia_total_repro.loc[(swap_dia_total_repro['tipo'] == 'Reprogramación')\n",
    "                   & (swap_dia_total_repro['month_report'] == month_conc) \n",
    "                   & (swap_dia_total_repro['year_report'] == year_conc),'tipo_reprogramacion'] = 'repro_mismo_mes'\n",
    "swap_dia_total_repro['tipo_reprogramacion'].fillna('repro_otro_mes',inplace=True)\n",
    "swap_dia_total_repro.head()"
   ]
  },
  {
   "cell_type": "code",
   "execution_count": null,
   "metadata": {},
   "outputs": [],
   "source": [
    "pivot_tipo_repro = pd.pivot_table(swap_dia_total_repro,index=['Date'],\n",
    "                                  columns=['tipo_reprogramacion'],\n",
    "                                  values=['total_due']\n",
    "                                  ,aggfunc = ['sum', len],margins=True)\n",
    "pivot_tipo_repro.reset_index(drop=False, inplace=True)\n",
    "pivot_tipo_repro.head()"
   ]
  },
  {
   "cell_type": "markdown",
   "metadata": {},
   "source": [
    "# FAST PAYMENTS"
   ]
  },
  {
   "cell_type": "code",
   "execution_count": null,
   "metadata": {},
   "outputs": [],
   "source": [
    "fp_dia_total = pd.concat([pd.read_excel(f,sheet_name='FAST PAYMENTS')\n",
    "                          .assign(file_name=os.path.basename(f)) for f in allfiles_fp])\n",
    "fp_dia_total['Date'] = fp_dia_total[\"file_name\"].str[-15:-5]\n",
    "fp_dia_total['Date']= pd.to_datetime(fp_dia_total['Date'])\n",
    "fp_dia_total['report_date_local']= pd.to_datetime(fp_dia_total['report_date_local'])\n",
    "fp_dia_total['month_conc'] = month_conc\n",
    "fp_dia_total['year_conc'] = year_conc\n",
    "fp_dia_total['month_report'] = fp_dia_total['report_date_local'].dt.strftime('%B')\n",
    "fp_dia_total['year_report'] = fp_dia_total['report_date_local'].dt.year.astype(str)\n",
    "fp_dia_total.head()"
   ]
  },
  {
   "cell_type": "code",
   "execution_count": null,
   "metadata": {},
   "outputs": [],
   "source": [
    "fp_dia_total.shape"
   ]
  },
  {
   "cell_type": "code",
   "execution_count": null,
   "metadata": {},
   "outputs": [],
   "source": [
    "fp_dia_total.dtypes"
   ]
  },
  {
   "cell_type": "code",
   "execution_count": null,
   "metadata": {},
   "outputs": [],
   "source": [
    "pivot_fp_total = pd.pivot_table(fp_dia_total,index=['Date'],values=['total_due'],aggfunc = ['sum', len],margins=True)\n",
    "pivot_fp_total.reset_index(drop=False, inplace=True)\n",
    "pivot_fp_total.head()"
   ]
  },
  {
   "cell_type": "code",
   "execution_count": null,
   "metadata": {},
   "outputs": [],
   "source": [
    "pivot_fp_parcial = pd.pivot_table(fp_dia_total,index=['tipo','Date'],values=['total_due'],aggfunc = ['sum', len],margins=True)\n",
    "pivot_fp_parcial.reset_index(drop=False, inplace=True)\n",
    "pivot_fp_parcial.head()"
   ]
  },
  {
   "cell_type": "markdown",
   "metadata": {},
   "source": [
    "## CATEGORIZACIÓN DE REPROGRAMACIONES - FAST PAYMENTS"
   ]
  },
  {
   "cell_type": "code",
   "execution_count": null,
   "metadata": {},
   "outputs": [],
   "source": [
    "fp_dia_total_repro = fp_dia_total[(fp_dia_total['tipo'] == 'Reprogramación')]\n",
    "fp_dia_total_repro.head()"
   ]
  },
  {
   "cell_type": "code",
   "execution_count": null,
   "metadata": {},
   "outputs": [],
   "source": [
    "fp_dia_total_repro.shape"
   ]
  },
  {
   "cell_type": "code",
   "execution_count": null,
   "metadata": {},
   "outputs": [],
   "source": [
    "fp_dia_total_repro.loc[(fp_dia_total_repro['tipo'] == 'Reprogramación')\n",
    "                   & (fp_dia_total_repro['month_report'] == month_conc) \n",
    "                   & (fp_dia_total_repro['year_report'] == year_conc),'tipo_reprogramacion'] = 'repro_mismo_mes'\n",
    "fp_dia_total_repro['tipo_reprogramacion'].fillna('repro_otro_mes',inplace=True)\n",
    "fp_dia_total_repro.head()"
   ]
  },
  {
   "cell_type": "code",
   "execution_count": null,
   "metadata": {},
   "outputs": [],
   "source": [
    "pivot_tipo_repro_fp = pd.pivot_table(fp_dia_total_repro,index=['Date'],\n",
    "                                  columns=['tipo_reprogramacion'],\n",
    "                                  values=['total_due']\n",
    "                                  ,aggfunc = ['sum', len],margins=True)\n",
    "pivot_tipo_repro_fp.reset_index(drop=False, inplace=True)\n",
    "pivot_tipo_repro_fp.head()"
   ]
  },
  {
   "cell_type": "markdown",
   "metadata": {},
   "source": [
    "# UNION REPROGRAMACIONES"
   ]
  },
  {
   "cell_type": "code",
   "execution_count": null,
   "metadata": {},
   "outputs": [],
   "source": [
    "union_repros = pd.concat([swap_dia_total_repro,fp_dia_total_repro])\n",
    "union_repros.head()"
   ]
  },
  {
   "cell_type": "code",
   "execution_count": null,
   "metadata": {},
   "outputs": [],
   "source": [
    "union_repros.shape"
   ]
  },
  {
   "cell_type": "markdown",
   "metadata": {},
   "source": [
    "# CUBETA ERROR"
   ]
  },
  {
   "cell_type": "code",
   "execution_count": null,
   "metadata": {},
   "outputs": [],
   "source": [
    "excel_error = pd.read_excel(r'C:\\Users\\Cristian.Aparicio\\Documents\\CUBETAS\\2022\\07. JULIO\\CUBETA ERROR JULIO 2022.xlsx',sheet_name='Cubeta ErrorLastMonth',converters={'report_id':str})\n",
    "excel_error.head()"
   ]
  },
  {
   "cell_type": "code",
   "execution_count": null,
   "metadata": {},
   "outputs": [],
   "source": [
    "excel_error.shape"
   ]
  },
  {
   "cell_type": "markdown",
   "metadata": {},
   "source": [
    "# CRUCE 1:  REPROGRAMACIONES VS CUBETA EN ERROR"
   ]
  },
  {
   "cell_type": "code",
   "execution_count": null,
   "metadata": {},
   "outputs": [],
   "source": [
    "cruce_1 = union_repros.merge(excel_error[['report_id','status_cubeta','esquema final']] ,on='report_id', how='left')\n",
    "cruce_1.head()\n"
   ]
  },
  {
   "cell_type": "code",
   "execution_count": null,
   "metadata": {},
   "outputs": [],
   "source": [
    "cruce_1.shape"
   ]
  },
  {
   "cell_type": "markdown",
   "metadata": {},
   "source": [
    "# CRUCE_2: CUBETA ERROR VS REPROGRAMACIONES"
   ]
  },
  {
   "cell_type": "code",
   "execution_count": null,
   "metadata": {},
   "outputs": [],
   "source": [
    "cruce_2 = excel_error.merge(union_repros[['report_id','report_date_local','tipo','tipo_reprogramacion',\n",
    "                                         'file_name','status']] ,on='report_id', how='left')\n",
    "cruce_2.head()"
   ]
  },
  {
   "cell_type": "code",
   "execution_count": null,
   "metadata": {},
   "outputs": [],
   "source": [
    "cruce_2.shape"
   ]
  },
  {
   "cell_type": "markdown",
   "metadata": {},
   "source": [
    "# EXCEL FINAL"
   ]
  },
  {
   "cell_type": "code",
   "execution_count": null,
   "metadata": {},
   "outputs": [],
   "source": [
    "writer = pd.ExcelWriter('VALIDACION SALIDA - CUBETAS.xlsx',\n",
    "                        engine='xlsxwriter',\n",
    "                        engine_kwargs={'options': {'encoding':'utf-8'}})\n",
    "cruce_1.to_excel(writer, sheet_name='DETALLE_1')\n",
    "cruce_2.to_excel(writer, sheet_name='DETALLE_2')\n",
    "writer.close()"
   ]
  },
  {
   "cell_type": "code",
   "execution_count": null,
   "metadata": {},
   "outputs": [],
   "source": []
  }
 ],
 "metadata": {
  "kernelspec": {
   "display_name": "Python 3 (ipykernel)",
   "language": "python",
   "name": "python3"
  },
  "language_info": {
   "codemirror_mode": {
    "name": "ipython",
    "version": 3
   },
   "file_extension": ".py",
   "mimetype": "text/x-python",
   "name": "python",
   "nbconvert_exporter": "python",
   "pygments_lexer": "ipython3",
   "version": "3.9.12"
  }
 },
 "nbformat": 4,
 "nbformat_minor": 4
}
