{
 "cells": [
  {
   "cell_type": "code",
   "execution_count": 1,
   "metadata": {},
   "outputs": [],
   "source": [
    "import pandas as pd\n",
    "import numpy as np\n",
    "import glob\n",
    "import os\n",
    "from openpyxl import load_workbook\n",
    "from functools import reduce\n",
    "pd.options.display.float_format = '{:,.2f}'.format"
   ]
  },
  {
   "cell_type": "markdown",
   "metadata": {},
   "source": [
    "#### ACUMULADO"
   ]
  },
  {
   "cell_type": "code",
   "execution_count": 2,
   "metadata": {},
   "outputs": [
    {
     "data": {
      "text/plain": [
       "['C:\\\\Users\\\\Cristian.Aparicio\\\\Documents\\\\DISPERSIONES\\\\2023\\\\10. OCTUBRE\\\\QUERIES\\\\SETTLEMENT 2023-10-01.csv',\n",
       " 'C:\\\\Users\\\\Cristian.Aparicio\\\\Documents\\\\DISPERSIONES\\\\2023\\\\10. OCTUBRE\\\\QUERIES\\\\SETTLEMENT 2023-10-02.csv',\n",
       " 'C:\\\\Users\\\\Cristian.Aparicio\\\\Documents\\\\DISPERSIONES\\\\2023\\\\10. OCTUBRE\\\\QUERIES\\\\SETTLEMENT 2023-10-03.csv',\n",
       " 'C:\\\\Users\\\\Cristian.Aparicio\\\\Documents\\\\DISPERSIONES\\\\2023\\\\10. OCTUBRE\\\\QUERIES\\\\SETTLEMENT 2023-10-04.csv',\n",
       " 'C:\\\\Users\\\\Cristian.Aparicio\\\\Documents\\\\DISPERSIONES\\\\2023\\\\10. OCTUBRE\\\\QUERIES\\\\SETTLEMENT 2023-10-05.csv',\n",
       " 'C:\\\\Users\\\\Cristian.Aparicio\\\\Documents\\\\DISPERSIONES\\\\2023\\\\10. OCTUBRE\\\\QUERIES\\\\SETTLEMENT 2023-10-06.csv',\n",
       " 'C:\\\\Users\\\\Cristian.Aparicio\\\\Documents\\\\DISPERSIONES\\\\2023\\\\10. OCTUBRE\\\\QUERIES\\\\SETTLEMENT 2023-10-07.csv',\n",
       " 'C:\\\\Users\\\\Cristian.Aparicio\\\\Documents\\\\DISPERSIONES\\\\2023\\\\10. OCTUBRE\\\\QUERIES\\\\SETTLEMENT 2023-10-08.csv',\n",
       " 'C:\\\\Users\\\\Cristian.Aparicio\\\\Documents\\\\DISPERSIONES\\\\2023\\\\10. OCTUBRE\\\\QUERIES\\\\SETTLEMENT 2023-10-09.csv',\n",
       " 'C:\\\\Users\\\\Cristian.Aparicio\\\\Documents\\\\DISPERSIONES\\\\2023\\\\10. OCTUBRE\\\\QUERIES\\\\SETTLEMENT 2023-10-10.csv',\n",
       " 'C:\\\\Users\\\\Cristian.Aparicio\\\\Documents\\\\DISPERSIONES\\\\2023\\\\10. OCTUBRE\\\\QUERIES\\\\SETTLEMENT 2023-10-11.csv',\n",
       " 'C:\\\\Users\\\\Cristian.Aparicio\\\\Documents\\\\DISPERSIONES\\\\2023\\\\10. OCTUBRE\\\\QUERIES\\\\SETTLEMENT 2023-10-12.csv',\n",
       " 'C:\\\\Users\\\\Cristian.Aparicio\\\\Documents\\\\DISPERSIONES\\\\2023\\\\10. OCTUBRE\\\\QUERIES\\\\SETTLEMENT 2023-10-13.csv',\n",
       " 'C:\\\\Users\\\\Cristian.Aparicio\\\\Documents\\\\DISPERSIONES\\\\2023\\\\10. OCTUBRE\\\\QUERIES\\\\SETTLEMENT 2023-10-14.csv',\n",
       " 'C:\\\\Users\\\\Cristian.Aparicio\\\\Documents\\\\DISPERSIONES\\\\2023\\\\10. OCTUBRE\\\\QUERIES\\\\SETTLEMENT 2023-10-15.csv',\n",
       " 'C:\\\\Users\\\\Cristian.Aparicio\\\\Documents\\\\DISPERSIONES\\\\2023\\\\10. OCTUBRE\\\\QUERIES\\\\SETTLEMENT 2023-10-16.csv',\n",
       " 'C:\\\\Users\\\\Cristian.Aparicio\\\\Documents\\\\DISPERSIONES\\\\2023\\\\10. OCTUBRE\\\\QUERIES\\\\SETTLEMENT 2023-10-17.csv',\n",
       " 'C:\\\\Users\\\\Cristian.Aparicio\\\\Documents\\\\DISPERSIONES\\\\2023\\\\10. OCTUBRE\\\\QUERIES\\\\SETTLEMENT 2023-10-18.csv',\n",
       " 'C:\\\\Users\\\\Cristian.Aparicio\\\\Documents\\\\DISPERSIONES\\\\2023\\\\10. OCTUBRE\\\\QUERIES\\\\SETTLEMENT 2023-10-19.csv',\n",
       " 'C:\\\\Users\\\\Cristian.Aparicio\\\\Documents\\\\DISPERSIONES\\\\2023\\\\10. OCTUBRE\\\\QUERIES\\\\SETTLEMENT 2023-10-20.csv',\n",
       " 'C:\\\\Users\\\\Cristian.Aparicio\\\\Documents\\\\DISPERSIONES\\\\2023\\\\10. OCTUBRE\\\\QUERIES\\\\SETTLEMENT 2023-10-21.csv',\n",
       " 'C:\\\\Users\\\\Cristian.Aparicio\\\\Documents\\\\DISPERSIONES\\\\2023\\\\10. OCTUBRE\\\\QUERIES\\\\SETTLEMENT 2023-10-22.csv',\n",
       " 'C:\\\\Users\\\\Cristian.Aparicio\\\\Documents\\\\DISPERSIONES\\\\2023\\\\10. OCTUBRE\\\\QUERIES\\\\SETTLEMENT 2023-10-23.csv',\n",
       " 'C:\\\\Users\\\\Cristian.Aparicio\\\\Documents\\\\DISPERSIONES\\\\2023\\\\10. OCTUBRE\\\\QUERIES\\\\SETTLEMENT 2023-10-24.csv',\n",
       " 'C:\\\\Users\\\\Cristian.Aparicio\\\\Documents\\\\DISPERSIONES\\\\2023\\\\10. OCTUBRE\\\\QUERIES\\\\SETTLEMENT 2023-10-25.csv',\n",
       " 'C:\\\\Users\\\\Cristian.Aparicio\\\\Documents\\\\DISPERSIONES\\\\2023\\\\10. OCTUBRE\\\\QUERIES\\\\SETTLEMENT 2023-10-26.csv',\n",
       " 'C:\\\\Users\\\\Cristian.Aparicio\\\\Documents\\\\DISPERSIONES\\\\2023\\\\10. OCTUBRE\\\\QUERIES\\\\SETTLEMENT 2023-10-27.csv',\n",
       " 'C:\\\\Users\\\\Cristian.Aparicio\\\\Documents\\\\DISPERSIONES\\\\2023\\\\10. OCTUBRE\\\\QUERIES\\\\SETTLEMENT 2023-10-28.csv',\n",
       " 'C:\\\\Users\\\\Cristian.Aparicio\\\\Documents\\\\DISPERSIONES\\\\2023\\\\10. OCTUBRE\\\\QUERIES\\\\SETTLEMENT 2023-10-29.csv',\n",
       " 'C:\\\\Users\\\\Cristian.Aparicio\\\\Documents\\\\DISPERSIONES\\\\2023\\\\10. OCTUBRE\\\\QUERIES\\\\SETTLEMENT 2023-10-30.csv',\n",
       " 'C:\\\\Users\\\\Cristian.Aparicio\\\\Documents\\\\DISPERSIONES\\\\2023\\\\10. OCTUBRE\\\\QUERIES\\\\SETTLEMENT 2023-10-31.csv']"
      ]
     },
     "execution_count": 2,
     "metadata": {},
     "output_type": "execute_result"
    }
   ],
   "source": [
    "cumfiles = glob.glob(r'C:\\Users\\Cristian.Aparicio\\Documents\\DISPERSIONES\\2023\\10. OCTUBRE\\QUERIES\\*.csv', recursive=False)\n",
    "cumfiles"
   ]
  },
  {
   "cell_type": "code",
   "execution_count": 3,
   "metadata": {},
   "outputs": [
    {
     "data": {
      "text/html": [
       "<div>\n",
       "<style scoped>\n",
       "    .dataframe tbody tr th:only-of-type {\n",
       "        vertical-align: middle;\n",
       "    }\n",
       "\n",
       "    .dataframe tbody tr th {\n",
       "        vertical-align: top;\n",
       "    }\n",
       "\n",
       "    .dataframe thead th {\n",
       "        text-align: right;\n",
       "    }\n",
       "</style>\n",
       "<table border=\"1\" class=\"dataframe\">\n",
       "  <thead>\n",
       "    <tr style=\"text-align: right;\">\n",
       "      <th></th>\n",
       "      <th>merchant_id</th>\n",
       "      <th>merchant_name</th>\n",
       "      <th>user_email</th>\n",
       "      <th>report_id</th>\n",
       "      <th>report_date_local</th>\n",
       "      <th>total_transactions</th>\n",
       "      <th>total_fees_charged</th>\n",
       "      <th>total_taxes</th>\n",
       "      <th>applied_fees_benefits</th>\n",
       "      <th>applied_taxes_benefits</th>\n",
       "      <th>...</th>\n",
       "      <th>total_released</th>\n",
       "      <th>total_retained</th>\n",
       "      <th>tipopago</th>\n",
       "      <th>total_due</th>\n",
       "      <th>type</th>\n",
       "      <th>created_date</th>\n",
       "      <th>created_time</th>\n",
       "      <th>updated_date</th>\n",
       "      <th>updated_time</th>\n",
       "      <th>file_name</th>\n",
       "    </tr>\n",
       "  </thead>\n",
       "  <tbody>\n",
       "  </tbody>\n",
       "</table>\n",
       "<p>0 rows × 26 columns</p>\n",
       "</div>"
      ],
      "text/plain": [
       "Empty DataFrame\n",
       "Columns: [merchant_id, merchant_name, user_email, report_id, report_date_local, total_transactions, total_fees_charged, total_taxes, applied_fees_benefits, applied_taxes_benefits, fee_direct_deposit, taxes_direct_deposit, total_adjustments, total_adjustment_fees_charged, total_adjustment_taxes, cobranza, total_released, total_retained, tipopago, total_due, type, created_date, created_time, updated_date, updated_time, file_name]\n",
       "Index: []\n",
       "\n",
       "[0 rows x 26 columns]"
      ]
     },
     "execution_count": 3,
     "metadata": {},
     "output_type": "execute_result"
    }
   ],
   "source": [
    "cum_1 = pd.concat([pd.read_csv(f).assign(file_name=os.path.basename(f)) for f in cumfiles])\n",
    "cum_1.columns = cum_1.columns.str.strip().str.lower() \n",
    "cum_1['report_date_local']= pd.to_datetime(cum_1['report_date_local']) \n",
    "cum_1.head()"
   ]
  },
  {
   "cell_type": "code",
   "execution_count": 4,
   "metadata": {},
   "outputs": [
    {
     "data": {
      "text/plain": [
       "(0, 26)"
      ]
     },
     "execution_count": 4,
     "metadata": {},
     "output_type": "execute_result"
    }
   ],
   "source": [
    "cum_1.shape"
   ]
  },
  {
   "cell_type": "code",
   "execution_count": 5,
   "metadata": {},
   "outputs": [
    {
     "data": {
      "text/html": [
       "<div>\n",
       "<style scoped>\n",
       "    .dataframe tbody tr th:only-of-type {\n",
       "        vertical-align: middle;\n",
       "    }\n",
       "\n",
       "    .dataframe tbody tr th {\n",
       "        vertical-align: top;\n",
       "    }\n",
       "\n",
       "    .dataframe thead th {\n",
       "        text-align: right;\n",
       "    }\n",
       "</style>\n",
       "<table border=\"1\" class=\"dataframe\">\n",
       "  <thead>\n",
       "    <tr style=\"text-align: right;\">\n",
       "      <th></th>\n",
       "      <th>merchant_id</th>\n",
       "      <th>merchant_name</th>\n",
       "      <th>user_email</th>\n",
       "      <th>report_id</th>\n",
       "      <th>report_date_local</th>\n",
       "      <th>total_transactions</th>\n",
       "      <th>total_fees_charged</th>\n",
       "      <th>total_taxes</th>\n",
       "      <th>applied_fees_benefits</th>\n",
       "      <th>applied_taxes_benefits</th>\n",
       "      <th>...</th>\n",
       "      <th>total_released</th>\n",
       "      <th>total_retained</th>\n",
       "      <th>tipopago</th>\n",
       "      <th>total_due</th>\n",
       "      <th>type</th>\n",
       "      <th>created_date</th>\n",
       "      <th>created_time</th>\n",
       "      <th>updated_date</th>\n",
       "      <th>updated_time</th>\n",
       "      <th>file_name</th>\n",
       "    </tr>\n",
       "  </thead>\n",
       "  <tbody>\n",
       "  </tbody>\n",
       "</table>\n",
       "<p>0 rows × 26 columns</p>\n",
       "</div>"
      ],
      "text/plain": [
       "Empty DataFrame\n",
       "Columns: [merchant_id, merchant_name, user_email, report_id, report_date_local, total_transactions, total_fees_charged, total_taxes, applied_fees_benefits, applied_taxes_benefits, fee_direct_deposit, taxes_direct_deposit, total_adjustments, total_adjustment_fees_charged, total_adjustment_taxes, cobranza, total_released, total_retained, tipopago, total_due, type, created_date, created_time, updated_date, updated_time, file_name]\n",
       "Index: []\n",
       "\n",
       "[0 rows x 26 columns]"
      ]
     },
     "execution_count": 5,
     "metadata": {},
     "output_type": "execute_result"
    }
   ],
   "source": [
    "cum_distinct_0 = cum_1[(cum_1['total_due'] != 0)]\n",
    "cum_distinct_0.head()"
   ]
  },
  {
   "cell_type": "code",
   "execution_count": 6,
   "metadata": {},
   "outputs": [
    {
     "data": {
      "text/plain": [
       "(0, 26)"
      ]
     },
     "execution_count": 6,
     "metadata": {},
     "output_type": "execute_result"
    }
   ],
   "source": [
    "cum_distinct_0.shape"
   ]
  },
  {
   "cell_type": "markdown",
   "metadata": {},
   "source": [
    "#### PAGOS DE DISPERSIONES"
   ]
  },
  {
   "cell_type": "code",
   "execution_count": 7,
   "metadata": {},
   "outputs": [
    {
     "data": {
      "text/plain": [
       "['C:\\\\Users\\\\Cristian.Aparicio\\\\Documents\\\\DISPERSIONES\\\\2023\\\\10. OCTUBRE\\\\ARCHIVO DISPERSIONES\\\\Dispersión-20231001.xlsx',\n",
       " 'C:\\\\Users\\\\Cristian.Aparicio\\\\Documents\\\\DISPERSIONES\\\\2023\\\\10. OCTUBRE\\\\ARCHIVO DISPERSIONES\\\\Dispersión-20231002.xlsx',\n",
       " 'C:\\\\Users\\\\Cristian.Aparicio\\\\Documents\\\\DISPERSIONES\\\\2023\\\\10. OCTUBRE\\\\ARCHIVO DISPERSIONES\\\\Dispersión-20231003.xlsx',\n",
       " 'C:\\\\Users\\\\Cristian.Aparicio\\\\Documents\\\\DISPERSIONES\\\\2023\\\\10. OCTUBRE\\\\ARCHIVO DISPERSIONES\\\\Dispersión-20231004.xlsx',\n",
       " 'C:\\\\Users\\\\Cristian.Aparicio\\\\Documents\\\\DISPERSIONES\\\\2023\\\\10. OCTUBRE\\\\ARCHIVO DISPERSIONES\\\\Dispersión-20231005.xlsx',\n",
       " 'C:\\\\Users\\\\Cristian.Aparicio\\\\Documents\\\\DISPERSIONES\\\\2023\\\\10. OCTUBRE\\\\ARCHIVO DISPERSIONES\\\\Dispersión-20231006.xlsx',\n",
       " 'C:\\\\Users\\\\Cristian.Aparicio\\\\Documents\\\\DISPERSIONES\\\\2023\\\\10. OCTUBRE\\\\ARCHIVO DISPERSIONES\\\\Dispersión-20231007.xlsx',\n",
       " 'C:\\\\Users\\\\Cristian.Aparicio\\\\Documents\\\\DISPERSIONES\\\\2023\\\\10. OCTUBRE\\\\ARCHIVO DISPERSIONES\\\\Dispersión-20231008.xlsx',\n",
       " 'C:\\\\Users\\\\Cristian.Aparicio\\\\Documents\\\\DISPERSIONES\\\\2023\\\\10. OCTUBRE\\\\ARCHIVO DISPERSIONES\\\\Dispersión-20231009.xlsx',\n",
       " 'C:\\\\Users\\\\Cristian.Aparicio\\\\Documents\\\\DISPERSIONES\\\\2023\\\\10. OCTUBRE\\\\ARCHIVO DISPERSIONES\\\\Dispersión-20231010.xlsx',\n",
       " 'C:\\\\Users\\\\Cristian.Aparicio\\\\Documents\\\\DISPERSIONES\\\\2023\\\\10. OCTUBRE\\\\ARCHIVO DISPERSIONES\\\\Dispersión-20231011.xlsx',\n",
       " 'C:\\\\Users\\\\Cristian.Aparicio\\\\Documents\\\\DISPERSIONES\\\\2023\\\\10. OCTUBRE\\\\ARCHIVO DISPERSIONES\\\\Dispersión-20231012.xlsx',\n",
       " 'C:\\\\Users\\\\Cristian.Aparicio\\\\Documents\\\\DISPERSIONES\\\\2023\\\\10. OCTUBRE\\\\ARCHIVO DISPERSIONES\\\\Dispersión-20231013.xlsx',\n",
       " 'C:\\\\Users\\\\Cristian.Aparicio\\\\Documents\\\\DISPERSIONES\\\\2023\\\\10. OCTUBRE\\\\ARCHIVO DISPERSIONES\\\\Dispersión-20231014.xlsx',\n",
       " 'C:\\\\Users\\\\Cristian.Aparicio\\\\Documents\\\\DISPERSIONES\\\\2023\\\\10. OCTUBRE\\\\ARCHIVO DISPERSIONES\\\\Dispersión-20231015.xlsx',\n",
       " 'C:\\\\Users\\\\Cristian.Aparicio\\\\Documents\\\\DISPERSIONES\\\\2023\\\\10. OCTUBRE\\\\ARCHIVO DISPERSIONES\\\\Dispersión-20231016.xlsx',\n",
       " 'C:\\\\Users\\\\Cristian.Aparicio\\\\Documents\\\\DISPERSIONES\\\\2023\\\\10. OCTUBRE\\\\ARCHIVO DISPERSIONES\\\\Dispersión-20231017.xlsx',\n",
       " 'C:\\\\Users\\\\Cristian.Aparicio\\\\Documents\\\\DISPERSIONES\\\\2023\\\\10. OCTUBRE\\\\ARCHIVO DISPERSIONES\\\\Dispersión-20231018.xlsx',\n",
       " 'C:\\\\Users\\\\Cristian.Aparicio\\\\Documents\\\\DISPERSIONES\\\\2023\\\\10. OCTUBRE\\\\ARCHIVO DISPERSIONES\\\\Dispersión-20231019.xlsx',\n",
       " 'C:\\\\Users\\\\Cristian.Aparicio\\\\Documents\\\\DISPERSIONES\\\\2023\\\\10. OCTUBRE\\\\ARCHIVO DISPERSIONES\\\\Dispersión-20231020.xlsx',\n",
       " 'C:\\\\Users\\\\Cristian.Aparicio\\\\Documents\\\\DISPERSIONES\\\\2023\\\\10. OCTUBRE\\\\ARCHIVO DISPERSIONES\\\\Dispersión-20231021.xlsx',\n",
       " 'C:\\\\Users\\\\Cristian.Aparicio\\\\Documents\\\\DISPERSIONES\\\\2023\\\\10. OCTUBRE\\\\ARCHIVO DISPERSIONES\\\\Dispersión-20231022.xlsx',\n",
       " 'C:\\\\Users\\\\Cristian.Aparicio\\\\Documents\\\\DISPERSIONES\\\\2023\\\\10. OCTUBRE\\\\ARCHIVO DISPERSIONES\\\\Dispersión-20231023.xlsx',\n",
       " 'C:\\\\Users\\\\Cristian.Aparicio\\\\Documents\\\\DISPERSIONES\\\\2023\\\\10. OCTUBRE\\\\ARCHIVO DISPERSIONES\\\\Dispersión-20231024.xlsx',\n",
       " 'C:\\\\Users\\\\Cristian.Aparicio\\\\Documents\\\\DISPERSIONES\\\\2023\\\\10. OCTUBRE\\\\ARCHIVO DISPERSIONES\\\\Dispersión-20231025.xlsx',\n",
       " 'C:\\\\Users\\\\Cristian.Aparicio\\\\Documents\\\\DISPERSIONES\\\\2023\\\\10. OCTUBRE\\\\ARCHIVO DISPERSIONES\\\\Dispersión-20231026.xlsx',\n",
       " 'C:\\\\Users\\\\Cristian.Aparicio\\\\Documents\\\\DISPERSIONES\\\\2023\\\\10. OCTUBRE\\\\ARCHIVO DISPERSIONES\\\\Dispersión-20231027.xlsx',\n",
       " 'C:\\\\Users\\\\Cristian.Aparicio\\\\Documents\\\\DISPERSIONES\\\\2023\\\\10. OCTUBRE\\\\ARCHIVO DISPERSIONES\\\\Dispersión-20231028.xlsx',\n",
       " 'C:\\\\Users\\\\Cristian.Aparicio\\\\Documents\\\\DISPERSIONES\\\\2023\\\\10. OCTUBRE\\\\ARCHIVO DISPERSIONES\\\\Dispersión-20231029.xlsx',\n",
       " 'C:\\\\Users\\\\Cristian.Aparicio\\\\Documents\\\\DISPERSIONES\\\\2023\\\\10. OCTUBRE\\\\ARCHIVO DISPERSIONES\\\\Dispersión-20231030.xlsx',\n",
       " 'C:\\\\Users\\\\Cristian.Aparicio\\\\Documents\\\\DISPERSIONES\\\\2023\\\\10. OCTUBRE\\\\ARCHIVO DISPERSIONES\\\\Dispersión-20231031.xlsx']"
      ]
     },
     "execution_count": 7,
     "metadata": {},
     "output_type": "execute_result"
    }
   ],
   "source": [
    "pagos_dia_files_1 = glob.glob(r'C:\\Users\\Cristian.Aparicio\\Documents\\DISPERSIONES\\2023\\10. OCTUBRE\\ARCHIVO DISPERSIONES\\Dispersión*.xlsx', recursive=False)\n",
    "pagos_dia_files_1"
   ]
  },
  {
   "cell_type": "code",
   "execution_count": 8,
   "metadata": {},
   "outputs": [
    {
     "data": {
      "text/html": [
       "<div>\n",
       "<style scoped>\n",
       "    .dataframe tbody tr th:only-of-type {\n",
       "        vertical-align: middle;\n",
       "    }\n",
       "\n",
       "    .dataframe tbody tr th {\n",
       "        vertical-align: top;\n",
       "    }\n",
       "\n",
       "    .dataframe thead th {\n",
       "        text-align: right;\n",
       "    }\n",
       "</style>\n",
       "<table border=\"1\" class=\"dataframe\">\n",
       "  <thead>\n",
       "    <tr style=\"text-align: right;\">\n",
       "      <th></th>\n",
       "      <th>type</th>\n",
       "      <th>merchant_id</th>\n",
       "      <th>merchant_name</th>\n",
       "      <th>user_email</th>\n",
       "      <th>report_id</th>\n",
       "      <th>report_date_local</th>\n",
       "      <th>total_due</th>\n",
       "      <th>tipo</th>\n",
       "      <th>bank</th>\n",
       "      <th>bank_account_owner_name</th>\n",
       "      <th>CLABE</th>\n",
       "      <th>status</th>\n",
       "      <th>LINEA CEP</th>\n",
       "      <th>Batch_time</th>\n",
       "      <th>Banco_emisor</th>\n",
       "      <th>file_name</th>\n",
       "      <th>date_file</th>\n",
       "    </tr>\n",
       "  </thead>\n",
       "  <tbody>\n",
       "    <tr>\n",
       "      <th>0</th>\n",
       "      <td>LEDGER_TRAD</td>\n",
       "      <td>03817645-41bf-4990-a393-e70062edacab</td>\n",
       "      <td>NaN</td>\n",
       "      <td>NaN</td>\n",
       "      <td>A4L8622LV</td>\n",
       "      <td>2023-10-01</td>\n",
       "      <td>52.70</td>\n",
       "      <td>Pago del día</td>\n",
       "      <td>CAJA POP MEXICA</td>\n",
       "      <td>Ana Sarahi Aguiar PePe</td>\n",
       "      <td>677560042220088759</td>\n",
       "      <td>ERROR</td>\n",
       "      <td>NaN</td>\n",
       "      <td>01. First_batch</td>\n",
       "      <td>BANORTE</td>\n",
       "      <td>Dispersión-20231001.xlsx</td>\n",
       "      <td>2023-10-01</td>\n",
       "    </tr>\n",
       "    <tr>\n",
       "      <th>75829</th>\n",
       "      <td>LEDGER_TRAD</td>\n",
       "      <td>aa30d809-dcb9-4408-9ffb-4834e2855886</td>\n",
       "      <td>NaN</td>\n",
       "      <td>NaN</td>\n",
       "      <td>A4Z4RQ5YF</td>\n",
       "      <td>2023-10-01</td>\n",
       "      <td>645.86</td>\n",
       "      <td>Pago del día</td>\n",
       "      <td>BBVA BANCOMER</td>\n",
       "      <td>Axely Magdalena Polanco Contreras</td>\n",
       "      <td>12180015636397909</td>\n",
       "      <td>PAID</td>\n",
       "      <td>2023-10-01,42644264202310012558909788,40072,40...</td>\n",
       "      <td>01. First_batch</td>\n",
       "      <td>BANORTE</td>\n",
       "      <td>Dispersión-20231001.xlsx</td>\n",
       "      <td>2023-10-01</td>\n",
       "    </tr>\n",
       "    <tr>\n",
       "      <th>75828</th>\n",
       "      <td>LEDGER_TRAD</td>\n",
       "      <td>aa3001a6-453d-48f5-98e7-97037185d5f5</td>\n",
       "      <td>NaN</td>\n",
       "      <td>NaN</td>\n",
       "      <td>AVGMQ89JX</td>\n",
       "      <td>2023-10-01</td>\n",
       "      <td>14,742.51</td>\n",
       "      <td>Pago del día</td>\n",
       "      <td>AZTECA</td>\n",
       "      <td>MARIA LUISA MIRANDA</td>\n",
       "      <td>127180013182134985</td>\n",
       "      <td>PAID</td>\n",
       "      <td>2023-10-01,42644264202310012558956103,40072,40...</td>\n",
       "      <td>01. First_batch</td>\n",
       "      <td>BANORTE</td>\n",
       "      <td>Dispersión-20231001.xlsx</td>\n",
       "      <td>2023-10-01</td>\n",
       "    </tr>\n",
       "    <tr>\n",
       "      <th>75827</th>\n",
       "      <td>LEDGER_TRAD</td>\n",
       "      <td>aa2fe9df-ec77-4854-a099-ddd2dc3a61c1</td>\n",
       "      <td>NaN</td>\n",
       "      <td>NaN</td>\n",
       "      <td>A8Q6FRQRW</td>\n",
       "      <td>2023-10-01</td>\n",
       "      <td>180.16</td>\n",
       "      <td>Pago del día</td>\n",
       "      <td>SANTANDER</td>\n",
       "      <td>MARIA SOLEDAD OROZCO CASTELLANOS</td>\n",
       "      <td>14090566470522616</td>\n",
       "      <td>PAID</td>\n",
       "      <td>2023-10-01,nan,40072,40014,014090566470522616,...</td>\n",
       "      <td>01. First_batch</td>\n",
       "      <td>BANORTE</td>\n",
       "      <td>Dispersión-20231001.xlsx</td>\n",
       "      <td>2023-10-01</td>\n",
       "    </tr>\n",
       "    <tr>\n",
       "      <th>75826</th>\n",
       "      <td>LEDGER_TRAD</td>\n",
       "      <td>aa2f8064-4372-44df-b1fa-7abddc5e690f</td>\n",
       "      <td>NaN</td>\n",
       "      <td>NaN</td>\n",
       "      <td>AP56RQQJD</td>\n",
       "      <td>2023-10-01</td>\n",
       "      <td>106.37</td>\n",
       "      <td>Pago del día</td>\n",
       "      <td>AZTECA</td>\n",
       "      <td>Beatriz Avila</td>\n",
       "      <td>127180013667935832</td>\n",
       "      <td>PAID</td>\n",
       "      <td>2023-10-01,42644264202310012558933955,40072,40...</td>\n",
       "      <td>01. First_batch</td>\n",
       "      <td>BANORTE</td>\n",
       "      <td>Dispersión-20231001.xlsx</td>\n",
       "      <td>2023-10-01</td>\n",
       "    </tr>\n",
       "  </tbody>\n",
       "</table>\n",
       "</div>"
      ],
      "text/plain": [
       "              type                           merchant_id merchant_name  \\\n",
       "0      LEDGER_TRAD  03817645-41bf-4990-a393-e70062edacab           NaN   \n",
       "75829  LEDGER_TRAD  aa30d809-dcb9-4408-9ffb-4834e2855886           NaN   \n",
       "75828  LEDGER_TRAD  aa3001a6-453d-48f5-98e7-97037185d5f5           NaN   \n",
       "75827  LEDGER_TRAD  aa2fe9df-ec77-4854-a099-ddd2dc3a61c1           NaN   \n",
       "75826  LEDGER_TRAD  aa2f8064-4372-44df-b1fa-7abddc5e690f           NaN   \n",
       "\n",
       "      user_email  report_id report_date_local  total_due          tipo  \\\n",
       "0            NaN  A4L8622LV        2023-10-01      52.70  Pago del día   \n",
       "75829        NaN  A4Z4RQ5YF        2023-10-01     645.86  Pago del día   \n",
       "75828        NaN  AVGMQ89JX        2023-10-01  14,742.51  Pago del día   \n",
       "75827        NaN  A8Q6FRQRW        2023-10-01     180.16  Pago del día   \n",
       "75826        NaN  AP56RQQJD        2023-10-01     106.37  Pago del día   \n",
       "\n",
       "                  bank            bank_account_owner_name               CLABE  \\\n",
       "0      CAJA POP MEXICA             Ana Sarahi Aguiar PePe  677560042220088759   \n",
       "75829    BBVA BANCOMER  Axely Magdalena Polanco Contreras   12180015636397909   \n",
       "75828           AZTECA                MARIA LUISA MIRANDA  127180013182134985   \n",
       "75827        SANTANDER   MARIA SOLEDAD OROZCO CASTELLANOS   14090566470522616   \n",
       "75826           AZTECA                      Beatriz Avila  127180013667935832   \n",
       "\n",
       "      status                                          LINEA CEP  \\\n",
       "0      ERROR                                                NaN   \n",
       "75829   PAID  2023-10-01,42644264202310012558909788,40072,40...   \n",
       "75828   PAID  2023-10-01,42644264202310012558956103,40072,40...   \n",
       "75827   PAID  2023-10-01,nan,40072,40014,014090566470522616,...   \n",
       "75826   PAID  2023-10-01,42644264202310012558933955,40072,40...   \n",
       "\n",
       "            Batch_time Banco_emisor                 file_name  date_file  \n",
       "0      01. First_batch      BANORTE  Dispersión-20231001.xlsx 2023-10-01  \n",
       "75829  01. First_batch      BANORTE  Dispersión-20231001.xlsx 2023-10-01  \n",
       "75828  01. First_batch      BANORTE  Dispersión-20231001.xlsx 2023-10-01  \n",
       "75827  01. First_batch      BANORTE  Dispersión-20231001.xlsx 2023-10-01  \n",
       "75826  01. First_batch      BANORTE  Dispersión-20231001.xlsx 2023-10-01  "
      ]
     },
     "execution_count": 8,
     "metadata": {},
     "output_type": "execute_result"
    }
   ],
   "source": [
    "pagos_1 = pd.concat([pd.read_excel(f,sheet_name='Swap del día').assign(file_name=os.path.basename(f)) for f in pagos_dia_files_1])\n",
    "pagos_1['date_file'] = pagos_1[\"file_name\"].str[-13:-5]\n",
    "pagos_1['date_file']= pd.to_datetime(pagos_1['date_file'], format='%Y%m%d').dt.date\n",
    "pagos_1['date_file']= pd.to_datetime(pagos_1['date_file'])\n",
    "pagos_1.sort_values(by=['date_file'],ascending=True,inplace=True)\n",
    "pagos_1['report_date_local']= pd.to_datetime(pagos_1['report_date_local']) \n",
    "pagos_1.head()"
   ]
  },
  {
   "cell_type": "code",
   "execution_count": 9,
   "metadata": {},
   "outputs": [
    {
     "data": {
      "text/plain": [
       "(3108565, 17)"
      ]
     },
     "execution_count": 9,
     "metadata": {},
     "output_type": "execute_result"
    }
   ],
   "source": [
    "pagos_1.shape"
   ]
  },
  {
   "cell_type": "code",
   "execution_count": 10,
   "metadata": {},
   "outputs": [
    {
     "data": {
      "text/plain": [
       "<DatetimeArray>\n",
       "['2023-10-01 00:00:00', '2023-09-07 00:00:00', '2023-09-29 00:00:00',\n",
       " '2023-09-11 00:00:00', '2023-08-24 00:00:00', '2023-09-28 00:00:00',\n",
       " '2023-09-30 00:00:00', '2023-09-27 00:00:00', '2023-09-25 00:00:00',\n",
       " '2023-09-23 00:00:00',\n",
       " ...\n",
       " '2021-01-14 00:00:00', '2023-10-30 00:00:00', '2022-02-13 00:00:00',\n",
       " '2023-10-31 00:00:00', '2021-11-04 00:00:00', '2022-01-07 00:00:00',\n",
       " '2021-08-17 00:00:00', '2021-06-07 00:00:00', '2020-11-17 00:00:00',\n",
       " '2022-01-06 00:00:00']\n",
       "Length: 688, dtype: datetime64[ns]"
      ]
     },
     "execution_count": 10,
     "metadata": {},
     "output_type": "execute_result"
    }
   ],
   "source": [
    "pagos_1['report_date_local'].unique()"
   ]
  },
  {
   "cell_type": "markdown",
   "metadata": {},
   "source": [
    "#### PAGOS DUPLICADOS TRADICIONAL"
   ]
  },
  {
   "cell_type": "code",
   "execution_count": 11,
   "metadata": {},
   "outputs": [
    {
     "name": "stderr",
     "output_type": "stream",
     "text": [
      "C:\\Users\\Cristian.Aparicio\\AppData\\Local\\Temp\\ipykernel_7712\\1112391532.py:2: SettingWithCopyWarning: \n",
      "A value is trying to be set on a copy of a slice from a DataFrame.\n",
      "Try using .loc[row_indexer,col_indexer] = value instead\n",
      "\n",
      "See the caveats in the documentation: https://pandas.pydata.org/pandas-docs/stable/user_guide/indexing.html#returning-a-view-versus-a-copy\n",
      "  duplicates_trad['INDEX'] = duplicates_trad['report_id'] + '_' + duplicates_trad['date_file'].astype('str')\n",
      "C:\\Users\\Cristian.Aparicio\\AppData\\Local\\Temp\\ipykernel_7712\\1112391532.py:3: SettingWithCopyWarning: \n",
      "A value is trying to be set on a copy of a slice from a DataFrame\n",
      "\n",
      "See the caveats in the documentation: https://pandas.pydata.org/pandas-docs/stable/user_guide/indexing.html#returning-a-view-versus-a-copy\n",
      "  duplicates_trad.sort_values(by=['date_file','report_id'],inplace=True)\n"
     ]
    },
    {
     "data": {
      "text/html": [
       "<div>\n",
       "<style scoped>\n",
       "    .dataframe tbody tr th:only-of-type {\n",
       "        vertical-align: middle;\n",
       "    }\n",
       "\n",
       "    .dataframe tbody tr th {\n",
       "        vertical-align: top;\n",
       "    }\n",
       "\n",
       "    .dataframe thead th {\n",
       "        text-align: right;\n",
       "    }\n",
       "</style>\n",
       "<table border=\"1\" class=\"dataframe\">\n",
       "  <thead>\n",
       "    <tr style=\"text-align: right;\">\n",
       "      <th></th>\n",
       "      <th>type</th>\n",
       "      <th>merchant_id</th>\n",
       "      <th>merchant_name</th>\n",
       "      <th>user_email</th>\n",
       "      <th>report_id</th>\n",
       "      <th>report_date_local</th>\n",
       "      <th>total_due</th>\n",
       "      <th>tipo</th>\n",
       "      <th>bank</th>\n",
       "      <th>bank_account_owner_name</th>\n",
       "      <th>CLABE</th>\n",
       "      <th>status</th>\n",
       "      <th>LINEA CEP</th>\n",
       "      <th>Batch_time</th>\n",
       "      <th>Banco_emisor</th>\n",
       "      <th>file_name</th>\n",
       "      <th>date_file</th>\n",
       "      <th>INDEX</th>\n",
       "    </tr>\n",
       "  </thead>\n",
       "  <tbody>\n",
       "    <tr>\n",
       "      <th>72</th>\n",
       "      <td>LEDGER_TRAD</td>\n",
       "      <td>948af594-2960-485c-80ae-7bb2fe33a054</td>\n",
       "      <td>NaN</td>\n",
       "      <td>NaN</td>\n",
       "      <td>A3WFRKXZ9</td>\n",
       "      <td>2023-10-02</td>\n",
       "      <td>1,149.88</td>\n",
       "      <td>Pago del día</td>\n",
       "      <td>BBVA BANCOMER</td>\n",
       "      <td>Paola Isabel Segovia Arredondo</td>\n",
       "      <td>12700004849995686</td>\n",
       "      <td>ERROR</td>\n",
       "      <td>NaN</td>\n",
       "      <td>02. Second_batch</td>\n",
       "      <td>BANORTE</td>\n",
       "      <td>Dispersión-20231002.xlsx</td>\n",
       "      <td>2023-10-02</td>\n",
       "      <td>A3WFRKXZ9_2023-10-02</td>\n",
       "    </tr>\n",
       "    <tr>\n",
       "      <th>37</th>\n",
       "      <td>LEDGER_TRAD</td>\n",
       "      <td>948af594-2960-485c-80ae-7bb2fe33a054</td>\n",
       "      <td>NaN</td>\n",
       "      <td>NaN</td>\n",
       "      <td>A3WFRKXZ9</td>\n",
       "      <td>2023-10-02</td>\n",
       "      <td>1,149.88</td>\n",
       "      <td>Pago del día</td>\n",
       "      <td>BBVA BANCOMER</td>\n",
       "      <td>Paola Isabel Segovia Arredondo</td>\n",
       "      <td>12700004849995686</td>\n",
       "      <td>ERROR</td>\n",
       "      <td>NaN</td>\n",
       "      <td>01. First_batch</td>\n",
       "      <td>SANTANDER</td>\n",
       "      <td>Dispersión-20231002.xlsx</td>\n",
       "      <td>2023-10-02</td>\n",
       "      <td>A3WFRKXZ9_2023-10-02</td>\n",
       "    </tr>\n",
       "    <tr>\n",
       "      <th>67</th>\n",
       "      <td>LEDGER_TRAD</td>\n",
       "      <td>fd97ea77-71f7-46a2-a41b-cf6370c13da6</td>\n",
       "      <td>NaN</td>\n",
       "      <td>NaN</td>\n",
       "      <td>AF59MWXQV</td>\n",
       "      <td>2023-10-02</td>\n",
       "      <td>28,396.48</td>\n",
       "      <td>Pago del día</td>\n",
       "      <td>AZTECA</td>\n",
       "      <td>Javier Manjarrez Olmos</td>\n",
       "      <td>127180016865626432</td>\n",
       "      <td>ERROR</td>\n",
       "      <td>NaN</td>\n",
       "      <td>01. First_batch</td>\n",
       "      <td>SANTANDER</td>\n",
       "      <td>Dispersión-20231002.xlsx</td>\n",
       "      <td>2023-10-02</td>\n",
       "      <td>AF59MWXQV_2023-10-02</td>\n",
       "    </tr>\n",
       "    <tr>\n",
       "      <th>74</th>\n",
       "      <td>LEDGER_TRAD</td>\n",
       "      <td>fd97ea77-71f7-46a2-a41b-cf6370c13da6</td>\n",
       "      <td>NaN</td>\n",
       "      <td>NaN</td>\n",
       "      <td>AF59MWXQV</td>\n",
       "      <td>2023-10-02</td>\n",
       "      <td>28,396.48</td>\n",
       "      <td>Pago del día</td>\n",
       "      <td>AZTECA</td>\n",
       "      <td>Javier Manjarrez Olmos</td>\n",
       "      <td>127180016865626432</td>\n",
       "      <td>ERROR</td>\n",
       "      <td>NaN</td>\n",
       "      <td>02. Second_batch</td>\n",
       "      <td>BANORTE</td>\n",
       "      <td>Dispersión-20231002.xlsx</td>\n",
       "      <td>2023-10-02</td>\n",
       "      <td>AF59MWXQV_2023-10-02</td>\n",
       "    </tr>\n",
       "    <tr>\n",
       "      <th>70</th>\n",
       "      <td>LEDGER_TRAD</td>\n",
       "      <td>59d49c92-85cb-4443-b0f8-d57730bfa313</td>\n",
       "      <td>NaN</td>\n",
       "      <td>NaN</td>\n",
       "      <td>ANQFV28VY</td>\n",
       "      <td>2023-10-02</td>\n",
       "      <td>17,727.44</td>\n",
       "      <td>Pago del día</td>\n",
       "      <td>BBVA BANCOMER</td>\n",
       "      <td>Brandon Iranh Sánchez Mancilla</td>\n",
       "      <td>12180015662060213</td>\n",
       "      <td>ERROR</td>\n",
       "      <td>NaN</td>\n",
       "      <td>02. Second_batch</td>\n",
       "      <td>BANORTE</td>\n",
       "      <td>Dispersión-20231002.xlsx</td>\n",
       "      <td>2023-10-02</td>\n",
       "      <td>ANQFV28VY_2023-10-02</td>\n",
       "    </tr>\n",
       "  </tbody>\n",
       "</table>\n",
       "</div>"
      ],
      "text/plain": [
       "           type                           merchant_id merchant_name  \\\n",
       "72  LEDGER_TRAD  948af594-2960-485c-80ae-7bb2fe33a054           NaN   \n",
       "37  LEDGER_TRAD  948af594-2960-485c-80ae-7bb2fe33a054           NaN   \n",
       "67  LEDGER_TRAD  fd97ea77-71f7-46a2-a41b-cf6370c13da6           NaN   \n",
       "74  LEDGER_TRAD  fd97ea77-71f7-46a2-a41b-cf6370c13da6           NaN   \n",
       "70  LEDGER_TRAD  59d49c92-85cb-4443-b0f8-d57730bfa313           NaN   \n",
       "\n",
       "   user_email  report_id report_date_local  total_due          tipo  \\\n",
       "72        NaN  A3WFRKXZ9        2023-10-02   1,149.88  Pago del día   \n",
       "37        NaN  A3WFRKXZ9        2023-10-02   1,149.88  Pago del día   \n",
       "67        NaN  AF59MWXQV        2023-10-02  28,396.48  Pago del día   \n",
       "74        NaN  AF59MWXQV        2023-10-02  28,396.48  Pago del día   \n",
       "70        NaN  ANQFV28VY        2023-10-02  17,727.44  Pago del día   \n",
       "\n",
       "             bank         bank_account_owner_name               CLABE status  \\\n",
       "72  BBVA BANCOMER  Paola Isabel Segovia Arredondo   12700004849995686  ERROR   \n",
       "37  BBVA BANCOMER  Paola Isabel Segovia Arredondo   12700004849995686  ERROR   \n",
       "67         AZTECA          Javier Manjarrez Olmos  127180016865626432  ERROR   \n",
       "74         AZTECA          Javier Manjarrez Olmos  127180016865626432  ERROR   \n",
       "70  BBVA BANCOMER  Brandon Iranh Sánchez Mancilla   12180015662060213  ERROR   \n",
       "\n",
       "   LINEA CEP        Batch_time Banco_emisor                 file_name  \\\n",
       "72       NaN  02. Second_batch      BANORTE  Dispersión-20231002.xlsx   \n",
       "37       NaN   01. First_batch    SANTANDER  Dispersión-20231002.xlsx   \n",
       "67       NaN   01. First_batch    SANTANDER  Dispersión-20231002.xlsx   \n",
       "74       NaN  02. Second_batch      BANORTE  Dispersión-20231002.xlsx   \n",
       "70       NaN  02. Second_batch      BANORTE  Dispersión-20231002.xlsx   \n",
       "\n",
       "    date_file                 INDEX  \n",
       "72 2023-10-02  A3WFRKXZ9_2023-10-02  \n",
       "37 2023-10-02  A3WFRKXZ9_2023-10-02  \n",
       "67 2023-10-02  AF59MWXQV_2023-10-02  \n",
       "74 2023-10-02  AF59MWXQV_2023-10-02  \n",
       "70 2023-10-02  ANQFV28VY_2023-10-02  "
      ]
     },
     "execution_count": 11,
     "metadata": {},
     "output_type": "execute_result"
    }
   ],
   "source": [
    "duplicates_trad = pagos_1[pagos_1.duplicated(['report_id','date_file'] , keep=False)]\n",
    "duplicates_trad['INDEX'] = duplicates_trad['report_id'] + '_' + duplicates_trad['date_file'].astype('str')\n",
    "duplicates_trad.sort_values(by=['date_file','report_id'],inplace=True)\n",
    "duplicates_trad.head()"
   ]
  },
  {
   "cell_type": "code",
   "execution_count": 12,
   "metadata": {},
   "outputs": [
    {
     "data": {
      "text/plain": [
       "(126, 18)"
      ]
     },
     "execution_count": 12,
     "metadata": {},
     "output_type": "execute_result"
    }
   ],
   "source": [
    "duplicates_trad.shape"
   ]
  },
  {
   "cell_type": "code",
   "execution_count": 13,
   "metadata": {},
   "outputs": [
    {
     "data": {
      "text/plain": [
       "array(['ERROR', 'PAID'], dtype=object)"
      ]
     },
     "execution_count": 13,
     "metadata": {},
     "output_type": "execute_result"
    }
   ],
   "source": [
    "duplicates_trad['status'].unique()"
   ]
  },
  {
   "cell_type": "code",
   "execution_count": 14,
   "metadata": {},
   "outputs": [
    {
     "name": "stderr",
     "output_type": "stream",
     "text": [
      "C:\\Users\\Cristian.Aparicio\\AppData\\Local\\Temp\\ipykernel_7712\\494774456.py:1: SettingWithCopyWarning: \n",
      "A value is trying to be set on a copy of a slice from a DataFrame\n",
      "\n",
      "See the caveats in the documentation: https://pandas.pydata.org/pandas-docs/stable/user_guide/indexing.html#returning-a-view-versus-a-copy\n",
      "  duplicates_trad.drop_duplicates(subset=\"INDEX\", keep='last', inplace=True)\n"
     ]
    }
   ],
   "source": [
    "duplicates_trad.drop_duplicates(subset=\"INDEX\", keep='last', inplace=True)"
   ]
  },
  {
   "cell_type": "code",
   "execution_count": 15,
   "metadata": {},
   "outputs": [
    {
     "data": {
      "text/html": [
       "<div>\n",
       "<style scoped>\n",
       "    .dataframe tbody tr th:only-of-type {\n",
       "        vertical-align: middle;\n",
       "    }\n",
       "\n",
       "    .dataframe tbody tr th {\n",
       "        vertical-align: top;\n",
       "    }\n",
       "\n",
       "    .dataframe thead th {\n",
       "        text-align: right;\n",
       "    }\n",
       "</style>\n",
       "<table border=\"1\" class=\"dataframe\">\n",
       "  <thead>\n",
       "    <tr style=\"text-align: right;\">\n",
       "      <th></th>\n",
       "      <th>type</th>\n",
       "      <th>merchant_id</th>\n",
       "      <th>merchant_name</th>\n",
       "      <th>user_email</th>\n",
       "      <th>report_id</th>\n",
       "      <th>report_date_local</th>\n",
       "      <th>total_due</th>\n",
       "      <th>tipo</th>\n",
       "      <th>bank</th>\n",
       "      <th>bank_account_owner_name</th>\n",
       "      <th>CLABE</th>\n",
       "      <th>status</th>\n",
       "      <th>LINEA CEP</th>\n",
       "      <th>Batch_time</th>\n",
       "      <th>Banco_emisor</th>\n",
       "      <th>file_name</th>\n",
       "      <th>date_file</th>\n",
       "      <th>INDEX</th>\n",
       "    </tr>\n",
       "  </thead>\n",
       "  <tbody>\n",
       "    <tr>\n",
       "      <th>37</th>\n",
       "      <td>LEDGER_TRAD</td>\n",
       "      <td>948af594-2960-485c-80ae-7bb2fe33a054</td>\n",
       "      <td>NaN</td>\n",
       "      <td>NaN</td>\n",
       "      <td>A3WFRKXZ9</td>\n",
       "      <td>2023-10-02</td>\n",
       "      <td>1,149.88</td>\n",
       "      <td>Pago del día</td>\n",
       "      <td>BBVA BANCOMER</td>\n",
       "      <td>Paola Isabel Segovia Arredondo</td>\n",
       "      <td>12700004849995686</td>\n",
       "      <td>ERROR</td>\n",
       "      <td>NaN</td>\n",
       "      <td>01. First_batch</td>\n",
       "      <td>SANTANDER</td>\n",
       "      <td>Dispersión-20231002.xlsx</td>\n",
       "      <td>2023-10-02</td>\n",
       "      <td>A3WFRKXZ9_2023-10-02</td>\n",
       "    </tr>\n",
       "    <tr>\n",
       "      <th>74</th>\n",
       "      <td>LEDGER_TRAD</td>\n",
       "      <td>fd97ea77-71f7-46a2-a41b-cf6370c13da6</td>\n",
       "      <td>NaN</td>\n",
       "      <td>NaN</td>\n",
       "      <td>AF59MWXQV</td>\n",
       "      <td>2023-10-02</td>\n",
       "      <td>28,396.48</td>\n",
       "      <td>Pago del día</td>\n",
       "      <td>AZTECA</td>\n",
       "      <td>Javier Manjarrez Olmos</td>\n",
       "      <td>127180016865626432</td>\n",
       "      <td>ERROR</td>\n",
       "      <td>NaN</td>\n",
       "      <td>02. Second_batch</td>\n",
       "      <td>BANORTE</td>\n",
       "      <td>Dispersión-20231002.xlsx</td>\n",
       "      <td>2023-10-02</td>\n",
       "      <td>AF59MWXQV_2023-10-02</td>\n",
       "    </tr>\n",
       "    <tr>\n",
       "      <th>21</th>\n",
       "      <td>LEDGER_TRAD</td>\n",
       "      <td>59d49c92-85cb-4443-b0f8-d57730bfa313</td>\n",
       "      <td>NaN</td>\n",
       "      <td>NaN</td>\n",
       "      <td>ANQFV28VY</td>\n",
       "      <td>2023-10-02</td>\n",
       "      <td>17,727.44</td>\n",
       "      <td>Pago del día</td>\n",
       "      <td>BBVA BANCOMER</td>\n",
       "      <td>Brandon Iranh Sánchez Mancilla</td>\n",
       "      <td>12180015662060213</td>\n",
       "      <td>ERROR</td>\n",
       "      <td>NaN</td>\n",
       "      <td>01. First_batch</td>\n",
       "      <td>SANTANDER</td>\n",
       "      <td>Dispersión-20231002.xlsx</td>\n",
       "      <td>2023-10-02</td>\n",
       "      <td>ANQFV28VY_2023-10-02</td>\n",
       "    </tr>\n",
       "    <tr>\n",
       "      <th>100</th>\n",
       "      <td>LEDGER_TRAD</td>\n",
       "      <td>9ba6aa99-be9c-4e05-b1b1-c5cdec8e7e01</td>\n",
       "      <td>NaN</td>\n",
       "      <td>NaN</td>\n",
       "      <td>A9C79MJ4C</td>\n",
       "      <td>2023-10-03</td>\n",
       "      <td>24,142.86</td>\n",
       "      <td>Pago del día</td>\n",
       "      <td>AKALA</td>\n",
       "      <td>Blanca Nayeli Aguilar Lopez</td>\n",
       "      <td>638180010190823042</td>\n",
       "      <td>ERROR</td>\n",
       "      <td>NaN</td>\n",
       "      <td>03. Third_batch</td>\n",
       "      <td>BANORTE</td>\n",
       "      <td>Dispersión-20231003.xlsx</td>\n",
       "      <td>2023-10-03</td>\n",
       "      <td>A9C79MJ4C_2023-10-03</td>\n",
       "    </tr>\n",
       "    <tr>\n",
       "      <th>102</th>\n",
       "      <td>LEDGER_TRAD</td>\n",
       "      <td>d812213d-85c3-47ce-b641-4fe239d1dd61</td>\n",
       "      <td>NaN</td>\n",
       "      <td>NaN</td>\n",
       "      <td>AWSWKCMQB</td>\n",
       "      <td>2023-10-03</td>\n",
       "      <td>59,890.00</td>\n",
       "      <td>Pago del día</td>\n",
       "      <td>SANTANDER</td>\n",
       "      <td>Mauricio Mora Chagoya</td>\n",
       "      <td>14225250164818746</td>\n",
       "      <td>ERROR</td>\n",
       "      <td>NaN</td>\n",
       "      <td>03. Third_batch</td>\n",
       "      <td>BANORTE</td>\n",
       "      <td>Dispersión-20231003.xlsx</td>\n",
       "      <td>2023-10-03</td>\n",
       "      <td>AWSWKCMQB_2023-10-03</td>\n",
       "    </tr>\n",
       "  </tbody>\n",
       "</table>\n",
       "</div>"
      ],
      "text/plain": [
       "            type                           merchant_id merchant_name  \\\n",
       "37   LEDGER_TRAD  948af594-2960-485c-80ae-7bb2fe33a054           NaN   \n",
       "74   LEDGER_TRAD  fd97ea77-71f7-46a2-a41b-cf6370c13da6           NaN   \n",
       "21   LEDGER_TRAD  59d49c92-85cb-4443-b0f8-d57730bfa313           NaN   \n",
       "100  LEDGER_TRAD  9ba6aa99-be9c-4e05-b1b1-c5cdec8e7e01           NaN   \n",
       "102  LEDGER_TRAD  d812213d-85c3-47ce-b641-4fe239d1dd61           NaN   \n",
       "\n",
       "    user_email  report_id report_date_local  total_due          tipo  \\\n",
       "37         NaN  A3WFRKXZ9        2023-10-02   1,149.88  Pago del día   \n",
       "74         NaN  AF59MWXQV        2023-10-02  28,396.48  Pago del día   \n",
       "21         NaN  ANQFV28VY        2023-10-02  17,727.44  Pago del día   \n",
       "100        NaN  A9C79MJ4C        2023-10-03  24,142.86  Pago del día   \n",
       "102        NaN  AWSWKCMQB        2023-10-03  59,890.00  Pago del día   \n",
       "\n",
       "              bank         bank_account_owner_name               CLABE status  \\\n",
       "37   BBVA BANCOMER  Paola Isabel Segovia Arredondo   12700004849995686  ERROR   \n",
       "74          AZTECA          Javier Manjarrez Olmos  127180016865626432  ERROR   \n",
       "21   BBVA BANCOMER  Brandon Iranh Sánchez Mancilla   12180015662060213  ERROR   \n",
       "100          AKALA     Blanca Nayeli Aguilar Lopez  638180010190823042  ERROR   \n",
       "102      SANTANDER           Mauricio Mora Chagoya   14225250164818746  ERROR   \n",
       "\n",
       "    LINEA CEP        Batch_time Banco_emisor                 file_name  \\\n",
       "37        NaN   01. First_batch    SANTANDER  Dispersión-20231002.xlsx   \n",
       "74        NaN  02. Second_batch      BANORTE  Dispersión-20231002.xlsx   \n",
       "21        NaN   01. First_batch    SANTANDER  Dispersión-20231002.xlsx   \n",
       "100       NaN   03. Third_batch      BANORTE  Dispersión-20231003.xlsx   \n",
       "102       NaN   03. Third_batch      BANORTE  Dispersión-20231003.xlsx   \n",
       "\n",
       "     date_file                 INDEX  \n",
       "37  2023-10-02  A3WFRKXZ9_2023-10-02  \n",
       "74  2023-10-02  AF59MWXQV_2023-10-02  \n",
       "21  2023-10-02  ANQFV28VY_2023-10-02  \n",
       "100 2023-10-03  A9C79MJ4C_2023-10-03  \n",
       "102 2023-10-03  AWSWKCMQB_2023-10-03  "
      ]
     },
     "execution_count": 15,
     "metadata": {},
     "output_type": "execute_result"
    }
   ],
   "source": [
    "duplicates_trad.head()"
   ]
  },
  {
   "cell_type": "code",
   "execution_count": 16,
   "metadata": {},
   "outputs": [
    {
     "data": {
      "text/plain": [
       "(63, 18)"
      ]
     },
     "execution_count": 16,
     "metadata": {},
     "output_type": "execute_result"
    }
   ],
   "source": [
    "duplicates_trad.shape"
   ]
  },
  {
   "cell_type": "code",
   "execution_count": 17,
   "metadata": {},
   "outputs": [
    {
     "data": {
      "text/html": [
       "<div>\n",
       "<style scoped>\n",
       "    .dataframe tbody tr th:only-of-type {\n",
       "        vertical-align: middle;\n",
       "    }\n",
       "\n",
       "    .dataframe tbody tr th {\n",
       "        vertical-align: top;\n",
       "    }\n",
       "\n",
       "    .dataframe thead tr th {\n",
       "        text-align: left;\n",
       "    }\n",
       "</style>\n",
       "<table border=\"1\" class=\"dataframe\">\n",
       "  <thead>\n",
       "    <tr>\n",
       "      <th></th>\n",
       "      <th>tipo</th>\n",
       "      <th>date_file</th>\n",
       "      <th colspan=\"2\" halign=\"left\">sum</th>\n",
       "      <th colspan=\"2\" halign=\"left\">len</th>\n",
       "    </tr>\n",
       "    <tr>\n",
       "      <th></th>\n",
       "      <th></th>\n",
       "      <th></th>\n",
       "      <th colspan=\"2\" halign=\"left\">total_due</th>\n",
       "      <th colspan=\"2\" halign=\"left\">total_due</th>\n",
       "    </tr>\n",
       "    <tr>\n",
       "      <th>type</th>\n",
       "      <th></th>\n",
       "      <th></th>\n",
       "      <th>LEDGER_TRAD</th>\n",
       "      <th>All</th>\n",
       "      <th>LEDGER_TRAD</th>\n",
       "      <th>All</th>\n",
       "    </tr>\n",
       "  </thead>\n",
       "  <tbody>\n",
       "    <tr>\n",
       "      <th>0</th>\n",
       "      <td>Pago del día</td>\n",
       "      <td>2023-10-02 00:00:00</td>\n",
       "      <td>47,273.80</td>\n",
       "      <td>47,273.80</td>\n",
       "      <td>3</td>\n",
       "      <td>3</td>\n",
       "    </tr>\n",
       "    <tr>\n",
       "      <th>1</th>\n",
       "      <td>Pago del día</td>\n",
       "      <td>2023-10-03 00:00:00</td>\n",
       "      <td>84,032.86</td>\n",
       "      <td>84,032.86</td>\n",
       "      <td>2</td>\n",
       "      <td>2</td>\n",
       "    </tr>\n",
       "    <tr>\n",
       "      <th>2</th>\n",
       "      <td>Pago del día</td>\n",
       "      <td>2023-10-04 00:00:00</td>\n",
       "      <td>38,552.86</td>\n",
       "      <td>38,552.86</td>\n",
       "      <td>2</td>\n",
       "      <td>2</td>\n",
       "    </tr>\n",
       "    <tr>\n",
       "      <th>3</th>\n",
       "      <td>Pago del día</td>\n",
       "      <td>2023-10-06 00:00:00</td>\n",
       "      <td>527.03</td>\n",
       "      <td>527.03</td>\n",
       "      <td>1</td>\n",
       "      <td>1</td>\n",
       "    </tr>\n",
       "    <tr>\n",
       "      <th>4</th>\n",
       "      <td>Pago del día</td>\n",
       "      <td>2023-10-09 00:00:00</td>\n",
       "      <td>21,617.89</td>\n",
       "      <td>21,617.89</td>\n",
       "      <td>2</td>\n",
       "      <td>2</td>\n",
       "    </tr>\n",
       "    <tr>\n",
       "      <th>5</th>\n",
       "      <td>Pago del día</td>\n",
       "      <td>2023-10-12 00:00:00</td>\n",
       "      <td>223,421.48</td>\n",
       "      <td>223,421.48</td>\n",
       "      <td>4</td>\n",
       "      <td>4</td>\n",
       "    </tr>\n",
       "    <tr>\n",
       "      <th>6</th>\n",
       "      <td>Pago del día</td>\n",
       "      <td>2023-10-13 00:00:00</td>\n",
       "      <td>2,970.54</td>\n",
       "      <td>2,970.54</td>\n",
       "      <td>1</td>\n",
       "      <td>1</td>\n",
       "    </tr>\n",
       "    <tr>\n",
       "      <th>7</th>\n",
       "      <td>Pago del día</td>\n",
       "      <td>2023-10-16 00:00:00</td>\n",
       "      <td>61,626.25</td>\n",
       "      <td>61,626.25</td>\n",
       "      <td>4</td>\n",
       "      <td>4</td>\n",
       "    </tr>\n",
       "    <tr>\n",
       "      <th>8</th>\n",
       "      <td>Pago del día</td>\n",
       "      <td>2023-10-17 00:00:00</td>\n",
       "      <td>161,827.32</td>\n",
       "      <td>161,827.32</td>\n",
       "      <td>5</td>\n",
       "      <td>5</td>\n",
       "    </tr>\n",
       "    <tr>\n",
       "      <th>9</th>\n",
       "      <td>Pago del día</td>\n",
       "      <td>2023-10-18 00:00:00</td>\n",
       "      <td>4,794.07</td>\n",
       "      <td>4,794.07</td>\n",
       "      <td>1</td>\n",
       "      <td>1</td>\n",
       "    </tr>\n",
       "  </tbody>\n",
       "</table>\n",
       "</div>"
      ],
      "text/plain": [
       "              tipo            date_file         sum                    len    \n",
       "                                          total_due              total_due    \n",
       "type                                    LEDGER_TRAD        All LEDGER_TRAD All\n",
       "0     Pago del día  2023-10-02 00:00:00   47,273.80  47,273.80           3   3\n",
       "1     Pago del día  2023-10-03 00:00:00   84,032.86  84,032.86           2   2\n",
       "2     Pago del día  2023-10-04 00:00:00   38,552.86  38,552.86           2   2\n",
       "3     Pago del día  2023-10-06 00:00:00      527.03     527.03           1   1\n",
       "4     Pago del día  2023-10-09 00:00:00   21,617.89  21,617.89           2   2\n",
       "5     Pago del día  2023-10-12 00:00:00  223,421.48 223,421.48           4   4\n",
       "6     Pago del día  2023-10-13 00:00:00    2,970.54   2,970.54           1   1\n",
       "7     Pago del día  2023-10-16 00:00:00   61,626.25  61,626.25           4   4\n",
       "8     Pago del día  2023-10-17 00:00:00  161,827.32 161,827.32           5   5\n",
       "9     Pago del día  2023-10-18 00:00:00    4,794.07   4,794.07           1   1"
      ]
     },
     "execution_count": 17,
     "metadata": {},
     "output_type": "execute_result"
    }
   ],
   "source": [
    "pivot_duplicates_trad = pd.pivot_table(duplicates_trad,index=['tipo','date_file'],\n",
    "                                       columns=['type'],\n",
    "                                  values=['total_due']\n",
    "                                  ,aggfunc = ['sum', len],margins=True)\n",
    "pivot_duplicates_trad.reset_index(drop=False, inplace=True)\n",
    "pivot_duplicates_trad.head(10)"
   ]
  },
  {
   "cell_type": "code",
   "execution_count": 18,
   "metadata": {},
   "outputs": [
    {
     "data": {
      "text/plain": [
       "(27, 6)"
      ]
     },
     "execution_count": 18,
     "metadata": {},
     "output_type": "execute_result"
    }
   ],
   "source": [
    "pivot_duplicates_trad.shape"
   ]
  },
  {
   "cell_type": "markdown",
   "metadata": {},
   "source": [
    "#### FAST PAYMENTS "
   ]
  },
  {
   "cell_type": "code",
   "execution_count": 19,
   "metadata": {},
   "outputs": [
    {
     "data": {
      "text/plain": [
       "['C:\\\\Users\\\\Cristian.Aparicio\\\\Documents\\\\FAST PAYMENTS\\\\2023\\\\10. OCTUBRE\\\\ARCHIVO DISPERSIONES FP\\\\Dispersión-FP 2023-10-01.xlsx',\n",
       " 'C:\\\\Users\\\\Cristian.Aparicio\\\\Documents\\\\FAST PAYMENTS\\\\2023\\\\10. OCTUBRE\\\\ARCHIVO DISPERSIONES FP\\\\Dispersión-FP 2023-10-02.xlsx',\n",
       " 'C:\\\\Users\\\\Cristian.Aparicio\\\\Documents\\\\FAST PAYMENTS\\\\2023\\\\10. OCTUBRE\\\\ARCHIVO DISPERSIONES FP\\\\Dispersión-FP 2023-10-03.xlsx',\n",
       " 'C:\\\\Users\\\\Cristian.Aparicio\\\\Documents\\\\FAST PAYMENTS\\\\2023\\\\10. OCTUBRE\\\\ARCHIVO DISPERSIONES FP\\\\Dispersión-FP 2023-10-04.xlsx',\n",
       " 'C:\\\\Users\\\\Cristian.Aparicio\\\\Documents\\\\FAST PAYMENTS\\\\2023\\\\10. OCTUBRE\\\\ARCHIVO DISPERSIONES FP\\\\Dispersión-FP 2023-10-05.xlsx',\n",
       " 'C:\\\\Users\\\\Cristian.Aparicio\\\\Documents\\\\FAST PAYMENTS\\\\2023\\\\10. OCTUBRE\\\\ARCHIVO DISPERSIONES FP\\\\Dispersión-FP 2023-10-06.xlsx',\n",
       " 'C:\\\\Users\\\\Cristian.Aparicio\\\\Documents\\\\FAST PAYMENTS\\\\2023\\\\10. OCTUBRE\\\\ARCHIVO DISPERSIONES FP\\\\Dispersión-FP 2023-10-07.xlsx',\n",
       " 'C:\\\\Users\\\\Cristian.Aparicio\\\\Documents\\\\FAST PAYMENTS\\\\2023\\\\10. OCTUBRE\\\\ARCHIVO DISPERSIONES FP\\\\Dispersión-FP 2023-10-08.xlsx',\n",
       " 'C:\\\\Users\\\\Cristian.Aparicio\\\\Documents\\\\FAST PAYMENTS\\\\2023\\\\10. OCTUBRE\\\\ARCHIVO DISPERSIONES FP\\\\Dispersión-FP 2023-10-09.xlsx',\n",
       " 'C:\\\\Users\\\\Cristian.Aparicio\\\\Documents\\\\FAST PAYMENTS\\\\2023\\\\10. OCTUBRE\\\\ARCHIVO DISPERSIONES FP\\\\Dispersión-FP 2023-10-10.xlsx',\n",
       " 'C:\\\\Users\\\\Cristian.Aparicio\\\\Documents\\\\FAST PAYMENTS\\\\2023\\\\10. OCTUBRE\\\\ARCHIVO DISPERSIONES FP\\\\Dispersión-FP 2023-10-11.xlsx',\n",
       " 'C:\\\\Users\\\\Cristian.Aparicio\\\\Documents\\\\FAST PAYMENTS\\\\2023\\\\10. OCTUBRE\\\\ARCHIVO DISPERSIONES FP\\\\Dispersión-FP 2023-10-12.xlsx',\n",
       " 'C:\\\\Users\\\\Cristian.Aparicio\\\\Documents\\\\FAST PAYMENTS\\\\2023\\\\10. OCTUBRE\\\\ARCHIVO DISPERSIONES FP\\\\Dispersión-FP 2023-10-13.xlsx',\n",
       " 'C:\\\\Users\\\\Cristian.Aparicio\\\\Documents\\\\FAST PAYMENTS\\\\2023\\\\10. OCTUBRE\\\\ARCHIVO DISPERSIONES FP\\\\Dispersión-FP 2023-10-14.xlsx',\n",
       " 'C:\\\\Users\\\\Cristian.Aparicio\\\\Documents\\\\FAST PAYMENTS\\\\2023\\\\10. OCTUBRE\\\\ARCHIVO DISPERSIONES FP\\\\Dispersión-FP 2023-10-15.xlsx',\n",
       " 'C:\\\\Users\\\\Cristian.Aparicio\\\\Documents\\\\FAST PAYMENTS\\\\2023\\\\10. OCTUBRE\\\\ARCHIVO DISPERSIONES FP\\\\Dispersión-FP 2023-10-16.xlsx',\n",
       " 'C:\\\\Users\\\\Cristian.Aparicio\\\\Documents\\\\FAST PAYMENTS\\\\2023\\\\10. OCTUBRE\\\\ARCHIVO DISPERSIONES FP\\\\Dispersión-FP 2023-10-17.xlsx',\n",
       " 'C:\\\\Users\\\\Cristian.Aparicio\\\\Documents\\\\FAST PAYMENTS\\\\2023\\\\10. OCTUBRE\\\\ARCHIVO DISPERSIONES FP\\\\Dispersión-FP 2023-10-18.xlsx',\n",
       " 'C:\\\\Users\\\\Cristian.Aparicio\\\\Documents\\\\FAST PAYMENTS\\\\2023\\\\10. OCTUBRE\\\\ARCHIVO DISPERSIONES FP\\\\Dispersión-FP 2023-10-19.xlsx',\n",
       " 'C:\\\\Users\\\\Cristian.Aparicio\\\\Documents\\\\FAST PAYMENTS\\\\2023\\\\10. OCTUBRE\\\\ARCHIVO DISPERSIONES FP\\\\Dispersión-FP 2023-10-20.xlsx',\n",
       " 'C:\\\\Users\\\\Cristian.Aparicio\\\\Documents\\\\FAST PAYMENTS\\\\2023\\\\10. OCTUBRE\\\\ARCHIVO DISPERSIONES FP\\\\Dispersión-FP 2023-10-21.xlsx',\n",
       " 'C:\\\\Users\\\\Cristian.Aparicio\\\\Documents\\\\FAST PAYMENTS\\\\2023\\\\10. OCTUBRE\\\\ARCHIVO DISPERSIONES FP\\\\Dispersión-FP 2023-10-22.xlsx',\n",
       " 'C:\\\\Users\\\\Cristian.Aparicio\\\\Documents\\\\FAST PAYMENTS\\\\2023\\\\10. OCTUBRE\\\\ARCHIVO DISPERSIONES FP\\\\Dispersión-FP 2023-10-23.xlsx',\n",
       " 'C:\\\\Users\\\\Cristian.Aparicio\\\\Documents\\\\FAST PAYMENTS\\\\2023\\\\10. OCTUBRE\\\\ARCHIVO DISPERSIONES FP\\\\Dispersión-FP 2023-10-24.xlsx',\n",
       " 'C:\\\\Users\\\\Cristian.Aparicio\\\\Documents\\\\FAST PAYMENTS\\\\2023\\\\10. OCTUBRE\\\\ARCHIVO DISPERSIONES FP\\\\Dispersión-FP 2023-10-25.xlsx',\n",
       " 'C:\\\\Users\\\\Cristian.Aparicio\\\\Documents\\\\FAST PAYMENTS\\\\2023\\\\10. OCTUBRE\\\\ARCHIVO DISPERSIONES FP\\\\Dispersión-FP 2023-10-26.xlsx',\n",
       " 'C:\\\\Users\\\\Cristian.Aparicio\\\\Documents\\\\FAST PAYMENTS\\\\2023\\\\10. OCTUBRE\\\\ARCHIVO DISPERSIONES FP\\\\Dispersión-FP 2023-10-27.xlsx',\n",
       " 'C:\\\\Users\\\\Cristian.Aparicio\\\\Documents\\\\FAST PAYMENTS\\\\2023\\\\10. OCTUBRE\\\\ARCHIVO DISPERSIONES FP\\\\Dispersión-FP 2023-10-28.xlsx',\n",
       " 'C:\\\\Users\\\\Cristian.Aparicio\\\\Documents\\\\FAST PAYMENTS\\\\2023\\\\10. OCTUBRE\\\\ARCHIVO DISPERSIONES FP\\\\Dispersión-FP 2023-10-29.xlsx',\n",
       " 'C:\\\\Users\\\\Cristian.Aparicio\\\\Documents\\\\FAST PAYMENTS\\\\2023\\\\10. OCTUBRE\\\\ARCHIVO DISPERSIONES FP\\\\Dispersión-FP 2023-10-30.xlsx',\n",
       " 'C:\\\\Users\\\\Cristian.Aparicio\\\\Documents\\\\FAST PAYMENTS\\\\2023\\\\10. OCTUBRE\\\\ARCHIVO DISPERSIONES FP\\\\Dispersión-FP 2023-10-31.xlsx']"
      ]
     },
     "execution_count": 19,
     "metadata": {},
     "output_type": "execute_result"
    }
   ],
   "source": [
    "fp_files_1 = glob.glob(r'C:\\Users\\Cristian.Aparicio\\Documents\\FAST PAYMENTS\\2023\\10. OCTUBRE\\ARCHIVO DISPERSIONES FP\\Dispersión-FP*.xlsx', recursive=False)\n",
    "fp_files_1"
   ]
  },
  {
   "cell_type": "code",
   "execution_count": 20,
   "metadata": {},
   "outputs": [
    {
     "data": {
      "text/html": [
       "<div>\n",
       "<style scoped>\n",
       "    .dataframe tbody tr th:only-of-type {\n",
       "        vertical-align: middle;\n",
       "    }\n",
       "\n",
       "    .dataframe tbody tr th {\n",
       "        vertical-align: top;\n",
       "    }\n",
       "\n",
       "    .dataframe thead th {\n",
       "        text-align: right;\n",
       "    }\n",
       "</style>\n",
       "<table border=\"1\" class=\"dataframe\">\n",
       "  <thead>\n",
       "    <tr style=\"text-align: right;\">\n",
       "      <th></th>\n",
       "      <th>type</th>\n",
       "      <th>merchant_id</th>\n",
       "      <th>merchant_name</th>\n",
       "      <th>user_email</th>\n",
       "      <th>report_id</th>\n",
       "      <th>report_date_local</th>\n",
       "      <th>total_due</th>\n",
       "      <th>tipo</th>\n",
       "      <th>bank</th>\n",
       "      <th>swap</th>\n",
       "      <th>CLABE</th>\n",
       "      <th>status</th>\n",
       "      <th>LINEA CEP</th>\n",
       "      <th>Batch_time</th>\n",
       "      <th>Banco_emisor</th>\n",
       "      <th>file_name</th>\n",
       "      <th>date_file</th>\n",
       "    </tr>\n",
       "  </thead>\n",
       "  <tbody>\n",
       "    <tr>\n",
       "      <th>0</th>\n",
       "      <td>LEDGER_FP</td>\n",
       "      <td>0bed913a-0ea1-4ac1-9497-f588b6246214</td>\n",
       "      <td>NaN</td>\n",
       "      <td>NaN</td>\n",
       "      <td>AZ34TN39C</td>\n",
       "      <td>2023-10-01</td>\n",
       "      <td>114.99</td>\n",
       "      <td>Pago del día</td>\n",
       "      <td>BANAMEX</td>\n",
       "      <td>Eva Mariana Pazos Solis</td>\n",
       "      <td>2700701813455928</td>\n",
       "      <td>ERROR</td>\n",
       "      <td>NaN</td>\n",
       "      <td>02. Second_batch</td>\n",
       "      <td>BANORTE</td>\n",
       "      <td>Dispersión-FP 2023-10-01.xlsx</td>\n",
       "      <td>2023-10-01</td>\n",
       "    </tr>\n",
       "    <tr>\n",
       "      <th>26829</th>\n",
       "      <td>LEDGER_FP</td>\n",
       "      <td>48de5664-2fb2-4085-bc43-d92b39c492b3</td>\n",
       "      <td>NaN</td>\n",
       "      <td>NaN</td>\n",
       "      <td>A6VRZXVYJ</td>\n",
       "      <td>2023-10-01</td>\n",
       "      <td>1,533.18</td>\n",
       "      <td>Pago del día</td>\n",
       "      <td>BBVA BANCOMER</td>\n",
       "      <td>Juan Carlos de la cruz rojas</td>\n",
       "      <td>12180026135032835</td>\n",
       "      <td>PAID</td>\n",
       "      <td>2023-10-01,42644264202310012559883805,40072,40...</td>\n",
       "      <td>05. Fifth_batch</td>\n",
       "      <td>BANORTE</td>\n",
       "      <td>Dispersión-FP 2023-10-01.xlsx</td>\n",
       "      <td>2023-10-01</td>\n",
       "    </tr>\n",
       "    <tr>\n",
       "      <th>26830</th>\n",
       "      <td>LEDGER_FP</td>\n",
       "      <td>48e07bc3-37a1-4aba-8a07-223facdb2819</td>\n",
       "      <td>NaN</td>\n",
       "      <td>NaN</td>\n",
       "      <td>AZ4G47LNP</td>\n",
       "      <td>2023-10-01</td>\n",
       "      <td>3,325.09</td>\n",
       "      <td>Pago del día</td>\n",
       "      <td>SCOTIABANK</td>\n",
       "      <td>Jaime Felipe Rayas Lazalde</td>\n",
       "      <td>44933202040133952</td>\n",
       "      <td>PAID</td>\n",
       "      <td>2023-10-01,42644264202310012559873010,40072,40...</td>\n",
       "      <td>05. Fifth_batch</td>\n",
       "      <td>BANORTE</td>\n",
       "      <td>Dispersión-FP 2023-10-01.xlsx</td>\n",
       "      <td>2023-10-01</td>\n",
       "    </tr>\n",
       "    <tr>\n",
       "      <th>26831</th>\n",
       "      <td>LEDGER_FP</td>\n",
       "      <td>48e24396-e931-489d-9852-3887816863ba</td>\n",
       "      <td>NaN</td>\n",
       "      <td>NaN</td>\n",
       "      <td>A224HJMZH</td>\n",
       "      <td>2023-10-01</td>\n",
       "      <td>622.86</td>\n",
       "      <td>Pago del día</td>\n",
       "      <td>HSBC</td>\n",
       "      <td>Jonathan Eduardo martinez duarte</td>\n",
       "      <td>21028065844819932</td>\n",
       "      <td>PAID</td>\n",
       "      <td>2023-10-01,42644264202310012559888748,40072,40...</td>\n",
       "      <td>05. Fifth_batch</td>\n",
       "      <td>BANORTE</td>\n",
       "      <td>Dispersión-FP 2023-10-01.xlsx</td>\n",
       "      <td>2023-10-01</td>\n",
       "    </tr>\n",
       "    <tr>\n",
       "      <th>26832</th>\n",
       "      <td>LEDGER_FP</td>\n",
       "      <td>48e66838-54af-498c-9d62-f290129fea16</td>\n",
       "      <td>NaN</td>\n",
       "      <td>NaN</td>\n",
       "      <td>AKXMQ2MX2</td>\n",
       "      <td>2023-10-01</td>\n",
       "      <td>4,791.20</td>\n",
       "      <td>Pago del día</td>\n",
       "      <td>SCOTIABANK</td>\n",
       "      <td>Marisol Noriega Ebel</td>\n",
       "      <td>44180001074237425</td>\n",
       "      <td>PAID</td>\n",
       "      <td>2023-10-01,42644264202310012559878495,40072,40...</td>\n",
       "      <td>05. Fifth_batch</td>\n",
       "      <td>BANORTE</td>\n",
       "      <td>Dispersión-FP 2023-10-01.xlsx</td>\n",
       "      <td>2023-10-01</td>\n",
       "    </tr>\n",
       "  </tbody>\n",
       "</table>\n",
       "</div>"
      ],
      "text/plain": [
       "            type                           merchant_id merchant_name  \\\n",
       "0      LEDGER_FP  0bed913a-0ea1-4ac1-9497-f588b6246214           NaN   \n",
       "26829  LEDGER_FP  48de5664-2fb2-4085-bc43-d92b39c492b3           NaN   \n",
       "26830  LEDGER_FP  48e07bc3-37a1-4aba-8a07-223facdb2819           NaN   \n",
       "26831  LEDGER_FP  48e24396-e931-489d-9852-3887816863ba           NaN   \n",
       "26832  LEDGER_FP  48e66838-54af-498c-9d62-f290129fea16           NaN   \n",
       "\n",
       "      user_email  report_id report_date_local  total_due          tipo  \\\n",
       "0            NaN  AZ34TN39C        2023-10-01     114.99  Pago del día   \n",
       "26829        NaN  A6VRZXVYJ        2023-10-01   1,533.18  Pago del día   \n",
       "26830        NaN  AZ4G47LNP        2023-10-01   3,325.09  Pago del día   \n",
       "26831        NaN  A224HJMZH        2023-10-01     622.86  Pago del día   \n",
       "26832        NaN  AKXMQ2MX2        2023-10-01   4,791.20  Pago del día   \n",
       "\n",
       "                bank                              swap              CLABE  \\\n",
       "0            BANAMEX           Eva Mariana Pazos Solis   2700701813455928   \n",
       "26829  BBVA BANCOMER      Juan Carlos de la cruz rojas  12180026135032835   \n",
       "26830     SCOTIABANK        Jaime Felipe Rayas Lazalde  44933202040133952   \n",
       "26831           HSBC  Jonathan Eduardo martinez duarte  21028065844819932   \n",
       "26832     SCOTIABANK              Marisol Noriega Ebel  44180001074237425   \n",
       "\n",
       "      status                                          LINEA CEP  \\\n",
       "0      ERROR                                                NaN   \n",
       "26829   PAID  2023-10-01,42644264202310012559883805,40072,40...   \n",
       "26830   PAID  2023-10-01,42644264202310012559873010,40072,40...   \n",
       "26831   PAID  2023-10-01,42644264202310012559888748,40072,40...   \n",
       "26832   PAID  2023-10-01,42644264202310012559878495,40072,40...   \n",
       "\n",
       "             Batch_time Banco_emisor                      file_name  date_file  \n",
       "0      02. Second_batch      BANORTE  Dispersión-FP 2023-10-01.xlsx 2023-10-01  \n",
       "26829   05. Fifth_batch      BANORTE  Dispersión-FP 2023-10-01.xlsx 2023-10-01  \n",
       "26830   05. Fifth_batch      BANORTE  Dispersión-FP 2023-10-01.xlsx 2023-10-01  \n",
       "26831   05. Fifth_batch      BANORTE  Dispersión-FP 2023-10-01.xlsx 2023-10-01  \n",
       "26832   05. Fifth_batch      BANORTE  Dispersión-FP 2023-10-01.xlsx 2023-10-01  "
      ]
     },
     "execution_count": 20,
     "metadata": {},
     "output_type": "execute_result"
    }
   ],
   "source": [
    "pagos_2 = pd.concat([pd.read_excel(f,sheet_name='FAST PAYMENTS').assign(file_name=os.path.basename(f)) for f in fp_files_1])\n",
    "pagos_2['date_file'] = pagos_2[\"file_name\"].str[-15:-4]\n",
    "pagos_2['date_file']= pd.to_datetime(pagos_2['date_file']) \n",
    "pagos_2.sort_values(by=['date_file'],ascending=True,inplace=True)\n",
    "pagos_2['report_date_local']= pd.to_datetime(pagos_2['report_date_local']) \n",
    "pagos_2.head()"
   ]
  },
  {
   "cell_type": "code",
   "execution_count": 21,
   "metadata": {},
   "outputs": [
    {
     "data": {
      "text/plain": [
       "(135419, 17)"
      ]
     },
     "execution_count": 21,
     "metadata": {},
     "output_type": "execute_result"
    }
   ],
   "source": [
    "pagos_2.shape"
   ]
  },
  {
   "cell_type": "markdown",
   "metadata": {},
   "source": [
    "#### PAGOS REPETIDOS FAST PAYMENTS"
   ]
  },
  {
   "cell_type": "code",
   "execution_count": 22,
   "metadata": {},
   "outputs": [
    {
     "name": "stderr",
     "output_type": "stream",
     "text": [
      "C:\\Users\\Cristian.Aparicio\\AppData\\Local\\Temp\\ipykernel_7712\\3928666323.py:2: SettingWithCopyWarning: \n",
      "A value is trying to be set on a copy of a slice from a DataFrame.\n",
      "Try using .loc[row_indexer,col_indexer] = value instead\n",
      "\n",
      "See the caveats in the documentation: https://pandas.pydata.org/pandas-docs/stable/user_guide/indexing.html#returning-a-view-versus-a-copy\n",
      "  duplicates_fp['INDEX'] = duplicates_fp['report_id'] + '_' + duplicates_fp['date_file'].astype('str')\n",
      "C:\\Users\\Cristian.Aparicio\\AppData\\Local\\Temp\\ipykernel_7712\\3928666323.py:3: SettingWithCopyWarning: \n",
      "A value is trying to be set on a copy of a slice from a DataFrame\n",
      "\n",
      "See the caveats in the documentation: https://pandas.pydata.org/pandas-docs/stable/user_guide/indexing.html#returning-a-view-versus-a-copy\n",
      "  duplicates_fp.sort_values(by=['date_file','report_id','Batch_time'],inplace=True)\n"
     ]
    },
    {
     "data": {
      "text/html": [
       "<div>\n",
       "<style scoped>\n",
       "    .dataframe tbody tr th:only-of-type {\n",
       "        vertical-align: middle;\n",
       "    }\n",
       "\n",
       "    .dataframe tbody tr th {\n",
       "        vertical-align: top;\n",
       "    }\n",
       "\n",
       "    .dataframe thead th {\n",
       "        text-align: right;\n",
       "    }\n",
       "</style>\n",
       "<table border=\"1\" class=\"dataframe\">\n",
       "  <thead>\n",
       "    <tr style=\"text-align: right;\">\n",
       "      <th></th>\n",
       "      <th>type</th>\n",
       "      <th>merchant_id</th>\n",
       "      <th>merchant_name</th>\n",
       "      <th>user_email</th>\n",
       "      <th>report_id</th>\n",
       "      <th>report_date_local</th>\n",
       "      <th>total_due</th>\n",
       "      <th>tipo</th>\n",
       "      <th>bank</th>\n",
       "      <th>swap</th>\n",
       "      <th>CLABE</th>\n",
       "      <th>status</th>\n",
       "      <th>LINEA CEP</th>\n",
       "      <th>Batch_time</th>\n",
       "      <th>Banco_emisor</th>\n",
       "      <th>file_name</th>\n",
       "      <th>date_file</th>\n",
       "      <th>INDEX</th>\n",
       "    </tr>\n",
       "  </thead>\n",
       "  <tbody>\n",
       "    <tr>\n",
       "      <th>19988</th>\n",
       "      <td>INSTANT</td>\n",
       "      <td>e5da6198-281e-4c26-a991-9a1c309aa2a9</td>\n",
       "      <td>La Ovejita</td>\n",
       "      <td>luis_mtz7810@hotmail.com</td>\n",
       "      <td>4SP56WS9N</td>\n",
       "      <td>2022-01-19</td>\n",
       "      <td>139.91</td>\n",
       "      <td>Reprogramación</td>\n",
       "      <td>ASP INTEGRA OPC</td>\n",
       "      <td>Jose Luis Martinez Jimenez</td>\n",
       "      <td>659802020000008932</td>\n",
       "      <td>PAID</td>\n",
       "      <td>NaN</td>\n",
       "      <td>03. Third_batch</td>\n",
       "      <td>BANORTE</td>\n",
       "      <td>Dispersión-FP 2023-10-01.xlsx</td>\n",
       "      <td>2023-10-01</td>\n",
       "      <td>4SP56WS9N_2023-10-01</td>\n",
       "    </tr>\n",
       "    <tr>\n",
       "      <th>39368</th>\n",
       "      <td>INSTANT</td>\n",
       "      <td>e5da6198-281e-4c26-a991-9a1c309aa2a9</td>\n",
       "      <td>La Ovejita</td>\n",
       "      <td>luis_mtz7810@hotmail.com</td>\n",
       "      <td>4SP56WS9N</td>\n",
       "      <td>2022-01-19</td>\n",
       "      <td>139.91</td>\n",
       "      <td>Reprogramación</td>\n",
       "      <td>ASP INTEGRA OPC</td>\n",
       "      <td>Jose Luis Martinez Jimenez</td>\n",
       "      <td>659802020000008932</td>\n",
       "      <td>PAID</td>\n",
       "      <td>2023-10-01,42644264202310012559893972,40072,90...</td>\n",
       "      <td>05. Fifth_batch</td>\n",
       "      <td>BANORTE</td>\n",
       "      <td>Dispersión-FP 2023-10-01.xlsx</td>\n",
       "      <td>2023-10-01</td>\n",
       "      <td>4SP56WS9N_2023-10-01</td>\n",
       "    </tr>\n",
       "    <tr>\n",
       "      <th>19987</th>\n",
       "      <td>INSTANT</td>\n",
       "      <td>e5da6198-281e-4c26-a991-9a1c309aa2a9</td>\n",
       "      <td>La Ovejita</td>\n",
       "      <td>luis_mtz7810@hotmail.com</td>\n",
       "      <td>7MLCZPHJN</td>\n",
       "      <td>2021-09-02</td>\n",
       "      <td>114.99</td>\n",
       "      <td>Reprogramación</td>\n",
       "      <td>ASP INTEGRA OPC</td>\n",
       "      <td>Jose Luis Martinez Jimenez</td>\n",
       "      <td>659802020000008932</td>\n",
       "      <td>PAID</td>\n",
       "      <td>NaN</td>\n",
       "      <td>03. Third_batch</td>\n",
       "      <td>BANORTE</td>\n",
       "      <td>Dispersión-FP 2023-10-01.xlsx</td>\n",
       "      <td>2023-10-01</td>\n",
       "      <td>7MLCZPHJN_2023-10-01</td>\n",
       "    </tr>\n",
       "    <tr>\n",
       "      <th>39367</th>\n",
       "      <td>INSTANT</td>\n",
       "      <td>e5da6198-281e-4c26-a991-9a1c309aa2a9</td>\n",
       "      <td>La Ovejita</td>\n",
       "      <td>luis_mtz7810@hotmail.com</td>\n",
       "      <td>7MLCZPHJN</td>\n",
       "      <td>2021-09-02</td>\n",
       "      <td>114.99</td>\n",
       "      <td>Reprogramación</td>\n",
       "      <td>ASP INTEGRA OPC</td>\n",
       "      <td>Jose Luis Martinez Jimenez</td>\n",
       "      <td>659802020000008932</td>\n",
       "      <td>PAID</td>\n",
       "      <td>2023-10-01,42644264202310012559878467,40072,90...</td>\n",
       "      <td>05. Fifth_batch</td>\n",
       "      <td>BANORTE</td>\n",
       "      <td>Dispersión-FP 2023-10-01.xlsx</td>\n",
       "      <td>2023-10-01</td>\n",
       "      <td>7MLCZPHJN_2023-10-01</td>\n",
       "    </tr>\n",
       "    <tr>\n",
       "      <th>20126</th>\n",
       "      <td>LEDGER_FP</td>\n",
       "      <td>face56d0-51aa-459e-b62a-f41c1fbfbebd</td>\n",
       "      <td>NaN</td>\n",
       "      <td>NaN</td>\n",
       "      <td>A223NGN95</td>\n",
       "      <td>2023-10-01</td>\n",
       "      <td>84.98</td>\n",
       "      <td>Pago del día</td>\n",
       "      <td>ASP INTEGRA OPC</td>\n",
       "      <td>Selene del rocio Garcia Gallegos</td>\n",
       "      <td>659802020000030243</td>\n",
       "      <td>PAID</td>\n",
       "      <td>NaN</td>\n",
       "      <td>03. Third_batch</td>\n",
       "      <td>BANORTE</td>\n",
       "      <td>Dispersión-FP 2023-10-01.xlsx</td>\n",
       "      <td>2023-10-01</td>\n",
       "      <td>A223NGN95_2023-10-01</td>\n",
       "    </tr>\n",
       "  </tbody>\n",
       "</table>\n",
       "</div>"
      ],
      "text/plain": [
       "            type                           merchant_id merchant_name  \\\n",
       "19988    INSTANT  e5da6198-281e-4c26-a991-9a1c309aa2a9    La Ovejita   \n",
       "39368    INSTANT  e5da6198-281e-4c26-a991-9a1c309aa2a9    La Ovejita   \n",
       "19987    INSTANT  e5da6198-281e-4c26-a991-9a1c309aa2a9    La Ovejita   \n",
       "39367    INSTANT  e5da6198-281e-4c26-a991-9a1c309aa2a9    La Ovejita   \n",
       "20126  LEDGER_FP  face56d0-51aa-459e-b62a-f41c1fbfbebd           NaN   \n",
       "\n",
       "                     user_email  report_id report_date_local  total_due  \\\n",
       "19988  luis_mtz7810@hotmail.com  4SP56WS9N        2022-01-19     139.91   \n",
       "39368  luis_mtz7810@hotmail.com  4SP56WS9N        2022-01-19     139.91   \n",
       "19987  luis_mtz7810@hotmail.com  7MLCZPHJN        2021-09-02     114.99   \n",
       "39367  luis_mtz7810@hotmail.com  7MLCZPHJN        2021-09-02     114.99   \n",
       "20126                       NaN  A223NGN95        2023-10-01      84.98   \n",
       "\n",
       "                 tipo             bank                              swap  \\\n",
       "19988  Reprogramación  ASP INTEGRA OPC        Jose Luis Martinez Jimenez   \n",
       "39368  Reprogramación  ASP INTEGRA OPC        Jose Luis Martinez Jimenez   \n",
       "19987  Reprogramación  ASP INTEGRA OPC        Jose Luis Martinez Jimenez   \n",
       "39367  Reprogramación  ASP INTEGRA OPC        Jose Luis Martinez Jimenez   \n",
       "20126    Pago del día  ASP INTEGRA OPC  Selene del rocio Garcia Gallegos   \n",
       "\n",
       "                    CLABE status  \\\n",
       "19988  659802020000008932   PAID   \n",
       "39368  659802020000008932   PAID   \n",
       "19987  659802020000008932   PAID   \n",
       "39367  659802020000008932   PAID   \n",
       "20126  659802020000030243   PAID   \n",
       "\n",
       "                                               LINEA CEP       Batch_time  \\\n",
       "19988                                                NaN  03. Third_batch   \n",
       "39368  2023-10-01,42644264202310012559893972,40072,90...  05. Fifth_batch   \n",
       "19987                                                NaN  03. Third_batch   \n",
       "39367  2023-10-01,42644264202310012559878467,40072,90...  05. Fifth_batch   \n",
       "20126                                                NaN  03. Third_batch   \n",
       "\n",
       "      Banco_emisor                      file_name  date_file  \\\n",
       "19988      BANORTE  Dispersión-FP 2023-10-01.xlsx 2023-10-01   \n",
       "39368      BANORTE  Dispersión-FP 2023-10-01.xlsx 2023-10-01   \n",
       "19987      BANORTE  Dispersión-FP 2023-10-01.xlsx 2023-10-01   \n",
       "39367      BANORTE  Dispersión-FP 2023-10-01.xlsx 2023-10-01   \n",
       "20126      BANORTE  Dispersión-FP 2023-10-01.xlsx 2023-10-01   \n",
       "\n",
       "                      INDEX  \n",
       "19988  4SP56WS9N_2023-10-01  \n",
       "39368  4SP56WS9N_2023-10-01  \n",
       "19987  7MLCZPHJN_2023-10-01  \n",
       "39367  7MLCZPHJN_2023-10-01  \n",
       "20126  A223NGN95_2023-10-01  "
      ]
     },
     "execution_count": 22,
     "metadata": {},
     "output_type": "execute_result"
    }
   ],
   "source": [
    "duplicates_fp = pagos_2[pagos_2.duplicated(['report_id','date_file'] , keep=False)]\n",
    "duplicates_fp['INDEX'] = duplicates_fp['report_id'] + '_' + duplicates_fp['date_file'].astype('str')\n",
    "duplicates_fp.sort_values(by=['date_file','report_id','Batch_time'],inplace=True)\n",
    "duplicates_fp.head()"
   ]
  },
  {
   "cell_type": "code",
   "execution_count": 23,
   "metadata": {},
   "outputs": [
    {
     "data": {
      "text/plain": [
       "(40837, 18)"
      ]
     },
     "execution_count": 23,
     "metadata": {},
     "output_type": "execute_result"
    }
   ],
   "source": [
    "duplicates_fp.shape"
   ]
  },
  {
   "cell_type": "code",
   "execution_count": 24,
   "metadata": {},
   "outputs": [
    {
     "name": "stderr",
     "output_type": "stream",
     "text": [
      "C:\\Users\\Cristian.Aparicio\\AppData\\Local\\Temp\\ipykernel_7712\\2218390481.py:1: SettingWithCopyWarning: \n",
      "A value is trying to be set on a copy of a slice from a DataFrame\n",
      "\n",
      "See the caveats in the documentation: https://pandas.pydata.org/pandas-docs/stable/user_guide/indexing.html#returning-a-view-versus-a-copy\n",
      "  duplicates_fp.drop_duplicates(subset=\"INDEX\", keep='last', inplace=True)\n"
     ]
    }
   ],
   "source": [
    "duplicates_fp.drop_duplicates(subset=\"INDEX\", keep='last', inplace=True)"
   ]
  },
  {
   "cell_type": "code",
   "execution_count": 25,
   "metadata": {},
   "outputs": [
    {
     "data": {
      "text/html": [
       "<div>\n",
       "<style scoped>\n",
       "    .dataframe tbody tr th:only-of-type {\n",
       "        vertical-align: middle;\n",
       "    }\n",
       "\n",
       "    .dataframe tbody tr th {\n",
       "        vertical-align: top;\n",
       "    }\n",
       "\n",
       "    .dataframe thead th {\n",
       "        text-align: right;\n",
       "    }\n",
       "</style>\n",
       "<table border=\"1\" class=\"dataframe\">\n",
       "  <thead>\n",
       "    <tr style=\"text-align: right;\">\n",
       "      <th></th>\n",
       "      <th>type</th>\n",
       "      <th>merchant_id</th>\n",
       "      <th>merchant_name</th>\n",
       "      <th>user_email</th>\n",
       "      <th>report_id</th>\n",
       "      <th>report_date_local</th>\n",
       "      <th>total_due</th>\n",
       "      <th>tipo</th>\n",
       "      <th>bank</th>\n",
       "      <th>swap</th>\n",
       "      <th>CLABE</th>\n",
       "      <th>status</th>\n",
       "      <th>LINEA CEP</th>\n",
       "      <th>Batch_time</th>\n",
       "      <th>Banco_emisor</th>\n",
       "      <th>file_name</th>\n",
       "      <th>date_file</th>\n",
       "      <th>INDEX</th>\n",
       "    </tr>\n",
       "  </thead>\n",
       "  <tbody>\n",
       "    <tr>\n",
       "      <th>39368</th>\n",
       "      <td>INSTANT</td>\n",
       "      <td>e5da6198-281e-4c26-a991-9a1c309aa2a9</td>\n",
       "      <td>La Ovejita</td>\n",
       "      <td>luis_mtz7810@hotmail.com</td>\n",
       "      <td>4SP56WS9N</td>\n",
       "      <td>2022-01-19</td>\n",
       "      <td>139.91</td>\n",
       "      <td>Reprogramación</td>\n",
       "      <td>ASP INTEGRA OPC</td>\n",
       "      <td>Jose Luis Martinez Jimenez</td>\n",
       "      <td>659802020000008932</td>\n",
       "      <td>PAID</td>\n",
       "      <td>2023-10-01,42644264202310012559893972,40072,90...</td>\n",
       "      <td>05. Fifth_batch</td>\n",
       "      <td>BANORTE</td>\n",
       "      <td>Dispersión-FP 2023-10-01.xlsx</td>\n",
       "      <td>2023-10-01</td>\n",
       "      <td>4SP56WS9N_2023-10-01</td>\n",
       "    </tr>\n",
       "    <tr>\n",
       "      <th>39367</th>\n",
       "      <td>INSTANT</td>\n",
       "      <td>e5da6198-281e-4c26-a991-9a1c309aa2a9</td>\n",
       "      <td>La Ovejita</td>\n",
       "      <td>luis_mtz7810@hotmail.com</td>\n",
       "      <td>7MLCZPHJN</td>\n",
       "      <td>2021-09-02</td>\n",
       "      <td>114.99</td>\n",
       "      <td>Reprogramación</td>\n",
       "      <td>ASP INTEGRA OPC</td>\n",
       "      <td>Jose Luis Martinez Jimenez</td>\n",
       "      <td>659802020000008932</td>\n",
       "      <td>PAID</td>\n",
       "      <td>2023-10-01,42644264202310012559878467,40072,90...</td>\n",
       "      <td>05. Fifth_batch</td>\n",
       "      <td>BANORTE</td>\n",
       "      <td>Dispersión-FP 2023-10-01.xlsx</td>\n",
       "      <td>2023-10-01</td>\n",
       "      <td>7MLCZPHJN_2023-10-01</td>\n",
       "    </tr>\n",
       "    <tr>\n",
       "      <th>39517</th>\n",
       "      <td>LEDGER_FP</td>\n",
       "      <td>face56d0-51aa-459e-b62a-f41c1fbfbebd</td>\n",
       "      <td>NaN</td>\n",
       "      <td>NaN</td>\n",
       "      <td>A223NGN95</td>\n",
       "      <td>2023-10-01</td>\n",
       "      <td>84.98</td>\n",
       "      <td>Pago del día</td>\n",
       "      <td>ASP INTEGRA OPC</td>\n",
       "      <td>Selene del rocio Garcia Gallegos</td>\n",
       "      <td>659802020000030243</td>\n",
       "      <td>PAID</td>\n",
       "      <td>2023-10-01,42644264202310012559894014,40072,90...</td>\n",
       "      <td>05. Fifth_batch</td>\n",
       "      <td>BANORTE</td>\n",
       "      <td>Dispersión-FP 2023-10-01.xlsx</td>\n",
       "      <td>2023-10-01</td>\n",
       "      <td>A223NGN95_2023-10-01</td>\n",
       "    </tr>\n",
       "    <tr>\n",
       "      <th>26831</th>\n",
       "      <td>LEDGER_FP</td>\n",
       "      <td>48e24396-e931-489d-9852-3887816863ba</td>\n",
       "      <td>NaN</td>\n",
       "      <td>NaN</td>\n",
       "      <td>A224HJMZH</td>\n",
       "      <td>2023-10-01</td>\n",
       "      <td>622.86</td>\n",
       "      <td>Pago del día</td>\n",
       "      <td>HSBC</td>\n",
       "      <td>Jonathan Eduardo martinez duarte</td>\n",
       "      <td>21028065844819932</td>\n",
       "      <td>PAID</td>\n",
       "      <td>2023-10-01,42644264202310012559888748,40072,40...</td>\n",
       "      <td>05. Fifth_batch</td>\n",
       "      <td>BANORTE</td>\n",
       "      <td>Dispersión-FP 2023-10-01.xlsx</td>\n",
       "      <td>2023-10-01</td>\n",
       "      <td>A224HJMZH_2023-10-01</td>\n",
       "    </tr>\n",
       "    <tr>\n",
       "      <th>21763</th>\n",
       "      <td>LEDGER_FP</td>\n",
       "      <td>0d74d91f-989b-4ee6-9a19-18ebfe9f02ac</td>\n",
       "      <td>NaN</td>\n",
       "      <td>NaN</td>\n",
       "      <td>A2252K8YW</td>\n",
       "      <td>2023-10-01</td>\n",
       "      <td>3,074.04</td>\n",
       "      <td>Pago del día</td>\n",
       "      <td>BANCOPPEL</td>\n",
       "      <td>Marcelo Meza Meza</td>\n",
       "      <td>137244104714639871</td>\n",
       "      <td>PAID</td>\n",
       "      <td>2023-10-01,42644264202310012559868879,40072,40...</td>\n",
       "      <td>05. Fifth_batch</td>\n",
       "      <td>BANORTE</td>\n",
       "      <td>Dispersión-FP 2023-10-01.xlsx</td>\n",
       "      <td>2023-10-01</td>\n",
       "      <td>A2252K8YW_2023-10-01</td>\n",
       "    </tr>\n",
       "  </tbody>\n",
       "</table>\n",
       "</div>"
      ],
      "text/plain": [
       "            type                           merchant_id merchant_name  \\\n",
       "39368    INSTANT  e5da6198-281e-4c26-a991-9a1c309aa2a9    La Ovejita   \n",
       "39367    INSTANT  e5da6198-281e-4c26-a991-9a1c309aa2a9    La Ovejita   \n",
       "39517  LEDGER_FP  face56d0-51aa-459e-b62a-f41c1fbfbebd           NaN   \n",
       "26831  LEDGER_FP  48e24396-e931-489d-9852-3887816863ba           NaN   \n",
       "21763  LEDGER_FP  0d74d91f-989b-4ee6-9a19-18ebfe9f02ac           NaN   \n",
       "\n",
       "                     user_email  report_id report_date_local  total_due  \\\n",
       "39368  luis_mtz7810@hotmail.com  4SP56WS9N        2022-01-19     139.91   \n",
       "39367  luis_mtz7810@hotmail.com  7MLCZPHJN        2021-09-02     114.99   \n",
       "39517                       NaN  A223NGN95        2023-10-01      84.98   \n",
       "26831                       NaN  A224HJMZH        2023-10-01     622.86   \n",
       "21763                       NaN  A2252K8YW        2023-10-01   3,074.04   \n",
       "\n",
       "                 tipo             bank                              swap  \\\n",
       "39368  Reprogramación  ASP INTEGRA OPC        Jose Luis Martinez Jimenez   \n",
       "39367  Reprogramación  ASP INTEGRA OPC        Jose Luis Martinez Jimenez   \n",
       "39517    Pago del día  ASP INTEGRA OPC  Selene del rocio Garcia Gallegos   \n",
       "26831    Pago del día             HSBC  Jonathan Eduardo martinez duarte   \n",
       "21763    Pago del día        BANCOPPEL                 Marcelo Meza Meza   \n",
       "\n",
       "                    CLABE status  \\\n",
       "39368  659802020000008932   PAID   \n",
       "39367  659802020000008932   PAID   \n",
       "39517  659802020000030243   PAID   \n",
       "26831   21028065844819932   PAID   \n",
       "21763  137244104714639871   PAID   \n",
       "\n",
       "                                               LINEA CEP       Batch_time  \\\n",
       "39368  2023-10-01,42644264202310012559893972,40072,90...  05. Fifth_batch   \n",
       "39367  2023-10-01,42644264202310012559878467,40072,90...  05. Fifth_batch   \n",
       "39517  2023-10-01,42644264202310012559894014,40072,90...  05. Fifth_batch   \n",
       "26831  2023-10-01,42644264202310012559888748,40072,40...  05. Fifth_batch   \n",
       "21763  2023-10-01,42644264202310012559868879,40072,40...  05. Fifth_batch   \n",
       "\n",
       "      Banco_emisor                      file_name  date_file  \\\n",
       "39368      BANORTE  Dispersión-FP 2023-10-01.xlsx 2023-10-01   \n",
       "39367      BANORTE  Dispersión-FP 2023-10-01.xlsx 2023-10-01   \n",
       "39517      BANORTE  Dispersión-FP 2023-10-01.xlsx 2023-10-01   \n",
       "26831      BANORTE  Dispersión-FP 2023-10-01.xlsx 2023-10-01   \n",
       "21763      BANORTE  Dispersión-FP 2023-10-01.xlsx 2023-10-01   \n",
       "\n",
       "                      INDEX  \n",
       "39368  4SP56WS9N_2023-10-01  \n",
       "39367  7MLCZPHJN_2023-10-01  \n",
       "39517  A223NGN95_2023-10-01  \n",
       "26831  A224HJMZH_2023-10-01  \n",
       "21763  A2252K8YW_2023-10-01  "
      ]
     },
     "execution_count": 25,
     "metadata": {},
     "output_type": "execute_result"
    }
   ],
   "source": [
    "duplicates_fp.head()"
   ]
  },
  {
   "cell_type": "code",
   "execution_count": 26,
   "metadata": {},
   "outputs": [
    {
     "data": {
      "text/plain": [
       "(19770, 18)"
      ]
     },
     "execution_count": 26,
     "metadata": {},
     "output_type": "execute_result"
    }
   ],
   "source": [
    "duplicates_fp.shape"
   ]
  },
  {
   "cell_type": "code",
   "execution_count": 27,
   "metadata": {},
   "outputs": [
    {
     "data": {
      "text/html": [
       "<div>\n",
       "<style scoped>\n",
       "    .dataframe tbody tr th:only-of-type {\n",
       "        vertical-align: middle;\n",
       "    }\n",
       "\n",
       "    .dataframe tbody tr th {\n",
       "        vertical-align: top;\n",
       "    }\n",
       "\n",
       "    .dataframe thead tr th {\n",
       "        text-align: left;\n",
       "    }\n",
       "</style>\n",
       "<table border=\"1\" class=\"dataframe\">\n",
       "  <thead>\n",
       "    <tr>\n",
       "      <th></th>\n",
       "      <th>tipo</th>\n",
       "      <th>date_file</th>\n",
       "      <th colspan=\"3\" halign=\"left\">sum</th>\n",
       "      <th colspan=\"3\" halign=\"left\">len</th>\n",
       "    </tr>\n",
       "    <tr>\n",
       "      <th></th>\n",
       "      <th></th>\n",
       "      <th></th>\n",
       "      <th colspan=\"3\" halign=\"left\">total_due</th>\n",
       "      <th colspan=\"3\" halign=\"left\">total_due</th>\n",
       "    </tr>\n",
       "    <tr>\n",
       "      <th>type</th>\n",
       "      <th></th>\n",
       "      <th></th>\n",
       "      <th>INSTANT</th>\n",
       "      <th>LEDGER_FP</th>\n",
       "      <th>All</th>\n",
       "      <th>INSTANT</th>\n",
       "      <th>LEDGER_FP</th>\n",
       "      <th>All</th>\n",
       "    </tr>\n",
       "  </thead>\n",
       "  <tbody>\n",
       "    <tr>\n",
       "      <th>0</th>\n",
       "      <td>Pago del día</td>\n",
       "      <td>2023-10-01 00:00:00</td>\n",
       "      <td>NaN</td>\n",
       "      <td>44,665,855.91</td>\n",
       "      <td>44,665,855.91</td>\n",
       "      <td>NaN</td>\n",
       "      <td>18,564.00</td>\n",
       "      <td>18564</td>\n",
       "    </tr>\n",
       "    <tr>\n",
       "      <th>1</th>\n",
       "      <td>Pago del día</td>\n",
       "      <td>2023-10-02 00:00:00</td>\n",
       "      <td>NaN</td>\n",
       "      <td>25,807.48</td>\n",
       "      <td>25,807.48</td>\n",
       "      <td>NaN</td>\n",
       "      <td>3.00</td>\n",
       "      <td>3</td>\n",
       "    </tr>\n",
       "    <tr>\n",
       "      <th>2</th>\n",
       "      <td>Pago del día</td>\n",
       "      <td>2023-10-03 00:00:00</td>\n",
       "      <td>NaN</td>\n",
       "      <td>98.08</td>\n",
       "      <td>98.08</td>\n",
       "      <td>NaN</td>\n",
       "      <td>1.00</td>\n",
       "      <td>1</td>\n",
       "    </tr>\n",
       "    <tr>\n",
       "      <th>3</th>\n",
       "      <td>Pago del día</td>\n",
       "      <td>2023-10-04 00:00:00</td>\n",
       "      <td>NaN</td>\n",
       "      <td>680.11</td>\n",
       "      <td>680.11</td>\n",
       "      <td>NaN</td>\n",
       "      <td>6.00</td>\n",
       "      <td>6</td>\n",
       "    </tr>\n",
       "    <tr>\n",
       "      <th>4</th>\n",
       "      <td>Pago del día</td>\n",
       "      <td>2023-10-05 00:00:00</td>\n",
       "      <td>NaN</td>\n",
       "      <td>551.94</td>\n",
       "      <td>551.94</td>\n",
       "      <td>NaN</td>\n",
       "      <td>2.00</td>\n",
       "      <td>2</td>\n",
       "    </tr>\n",
       "  </tbody>\n",
       "</table>\n",
       "</div>"
      ],
      "text/plain": [
       "              tipo            date_file       sum                              \\\n",
       "                                        total_due                               \n",
       "type                                      INSTANT     LEDGER_FP           All   \n",
       "0     Pago del día  2023-10-01 00:00:00       NaN 44,665,855.91 44,665,855.91   \n",
       "1     Pago del día  2023-10-02 00:00:00       NaN     25,807.48     25,807.48   \n",
       "2     Pago del día  2023-10-03 00:00:00       NaN         98.08         98.08   \n",
       "3     Pago del día  2023-10-04 00:00:00       NaN        680.11        680.11   \n",
       "4     Pago del día  2023-10-05 00:00:00       NaN        551.94        551.94   \n",
       "\n",
       "           len                   \n",
       "     total_due                   \n",
       "type   INSTANT LEDGER_FP    All  \n",
       "0          NaN 18,564.00  18564  \n",
       "1          NaN      3.00      3  \n",
       "2          NaN      1.00      1  \n",
       "3          NaN      6.00      6  \n",
       "4          NaN      2.00      2  "
      ]
     },
     "execution_count": 27,
     "metadata": {},
     "output_type": "execute_result"
    }
   ],
   "source": [
    "pivot_duplicates_fp = pd.pivot_table(duplicates_fp,index=['tipo','date_file'],\n",
    "                                     columns=['type'],\n",
    "                                  values=['total_due']\n",
    "                                  ,aggfunc = ['sum', len],margins=True)\n",
    "pivot_duplicates_fp.reset_index(drop=False, inplace=True)\n",
    "pivot_duplicates_fp.head()"
   ]
  },
  {
   "cell_type": "code",
   "execution_count": 28,
   "metadata": {},
   "outputs": [
    {
     "data": {
      "text/plain": [
       "(48, 8)"
      ]
     },
     "execution_count": 28,
     "metadata": {},
     "output_type": "execute_result"
    }
   ],
   "source": [
    "pivot_duplicates_fp.shape"
   ]
  },
  {
   "cell_type": "code",
   "execution_count": 29,
   "metadata": {},
   "outputs": [],
   "source": [
    "# pivot_duplicates_fp.to_excel('DUPLICADOS FP JUNIO 2021.xlsx',index=True)"
   ]
  },
  {
   "cell_type": "markdown",
   "metadata": {},
   "source": [
    "#### ALL PAGOS"
   ]
  },
  {
   "cell_type": "code",
   "execution_count": 30,
   "metadata": {},
   "outputs": [
    {
     "data": {
      "text/html": [
       "<div>\n",
       "<style scoped>\n",
       "    .dataframe tbody tr th:only-of-type {\n",
       "        vertical-align: middle;\n",
       "    }\n",
       "\n",
       "    .dataframe tbody tr th {\n",
       "        vertical-align: top;\n",
       "    }\n",
       "\n",
       "    .dataframe thead th {\n",
       "        text-align: right;\n",
       "    }\n",
       "</style>\n",
       "<table border=\"1\" class=\"dataframe\">\n",
       "  <thead>\n",
       "    <tr style=\"text-align: right;\">\n",
       "      <th></th>\n",
       "      <th>type</th>\n",
       "      <th>merchant_id</th>\n",
       "      <th>merchant_name</th>\n",
       "      <th>user_email</th>\n",
       "      <th>report_id</th>\n",
       "      <th>report_date_local</th>\n",
       "      <th>total_due</th>\n",
       "      <th>tipo</th>\n",
       "      <th>bank</th>\n",
       "      <th>bank_account_owner_name</th>\n",
       "      <th>CLABE</th>\n",
       "      <th>status</th>\n",
       "      <th>LINEA CEP</th>\n",
       "      <th>Batch_time</th>\n",
       "      <th>Banco_emisor</th>\n",
       "      <th>file_name</th>\n",
       "      <th>date_file</th>\n",
       "      <th>swap</th>\n",
       "    </tr>\n",
       "  </thead>\n",
       "  <tbody>\n",
       "    <tr>\n",
       "      <th>0</th>\n",
       "      <td>LEDGER_TRAD</td>\n",
       "      <td>03817645-41bf-4990-a393-e70062edacab</td>\n",
       "      <td>NaN</td>\n",
       "      <td>NaN</td>\n",
       "      <td>A4L8622LV</td>\n",
       "      <td>2023-10-01</td>\n",
       "      <td>52.70</td>\n",
       "      <td>Pago del día</td>\n",
       "      <td>CAJA POP MEXICA</td>\n",
       "      <td>Ana Sarahi Aguiar PePe</td>\n",
       "      <td>677560042220088759</td>\n",
       "      <td>ERROR</td>\n",
       "      <td>NaN</td>\n",
       "      <td>01. First_batch</td>\n",
       "      <td>BANORTE</td>\n",
       "      <td>Dispersión-20231001.xlsx</td>\n",
       "      <td>2023-10-01</td>\n",
       "      <td>NaN</td>\n",
       "    </tr>\n",
       "    <tr>\n",
       "      <th>75829</th>\n",
       "      <td>LEDGER_TRAD</td>\n",
       "      <td>aa30d809-dcb9-4408-9ffb-4834e2855886</td>\n",
       "      <td>NaN</td>\n",
       "      <td>NaN</td>\n",
       "      <td>A4Z4RQ5YF</td>\n",
       "      <td>2023-10-01</td>\n",
       "      <td>645.86</td>\n",
       "      <td>Pago del día</td>\n",
       "      <td>BBVA BANCOMER</td>\n",
       "      <td>Axely Magdalena Polanco Contreras</td>\n",
       "      <td>12180015636397909</td>\n",
       "      <td>PAID</td>\n",
       "      <td>2023-10-01,42644264202310012558909788,40072,40...</td>\n",
       "      <td>01. First_batch</td>\n",
       "      <td>BANORTE</td>\n",
       "      <td>Dispersión-20231001.xlsx</td>\n",
       "      <td>2023-10-01</td>\n",
       "      <td>NaN</td>\n",
       "    </tr>\n",
       "    <tr>\n",
       "      <th>75828</th>\n",
       "      <td>LEDGER_TRAD</td>\n",
       "      <td>aa3001a6-453d-48f5-98e7-97037185d5f5</td>\n",
       "      <td>NaN</td>\n",
       "      <td>NaN</td>\n",
       "      <td>AVGMQ89JX</td>\n",
       "      <td>2023-10-01</td>\n",
       "      <td>14,742.51</td>\n",
       "      <td>Pago del día</td>\n",
       "      <td>AZTECA</td>\n",
       "      <td>MARIA LUISA MIRANDA</td>\n",
       "      <td>127180013182134985</td>\n",
       "      <td>PAID</td>\n",
       "      <td>2023-10-01,42644264202310012558956103,40072,40...</td>\n",
       "      <td>01. First_batch</td>\n",
       "      <td>BANORTE</td>\n",
       "      <td>Dispersión-20231001.xlsx</td>\n",
       "      <td>2023-10-01</td>\n",
       "      <td>NaN</td>\n",
       "    </tr>\n",
       "    <tr>\n",
       "      <th>75827</th>\n",
       "      <td>LEDGER_TRAD</td>\n",
       "      <td>aa2fe9df-ec77-4854-a099-ddd2dc3a61c1</td>\n",
       "      <td>NaN</td>\n",
       "      <td>NaN</td>\n",
       "      <td>A8Q6FRQRW</td>\n",
       "      <td>2023-10-01</td>\n",
       "      <td>180.16</td>\n",
       "      <td>Pago del día</td>\n",
       "      <td>SANTANDER</td>\n",
       "      <td>MARIA SOLEDAD OROZCO CASTELLANOS</td>\n",
       "      <td>14090566470522616</td>\n",
       "      <td>PAID</td>\n",
       "      <td>2023-10-01,nan,40072,40014,014090566470522616,...</td>\n",
       "      <td>01. First_batch</td>\n",
       "      <td>BANORTE</td>\n",
       "      <td>Dispersión-20231001.xlsx</td>\n",
       "      <td>2023-10-01</td>\n",
       "      <td>NaN</td>\n",
       "    </tr>\n",
       "    <tr>\n",
       "      <th>75826</th>\n",
       "      <td>LEDGER_TRAD</td>\n",
       "      <td>aa2f8064-4372-44df-b1fa-7abddc5e690f</td>\n",
       "      <td>NaN</td>\n",
       "      <td>NaN</td>\n",
       "      <td>AP56RQQJD</td>\n",
       "      <td>2023-10-01</td>\n",
       "      <td>106.37</td>\n",
       "      <td>Pago del día</td>\n",
       "      <td>AZTECA</td>\n",
       "      <td>Beatriz Avila</td>\n",
       "      <td>127180013667935832</td>\n",
       "      <td>PAID</td>\n",
       "      <td>2023-10-01,42644264202310012558933955,40072,40...</td>\n",
       "      <td>01. First_batch</td>\n",
       "      <td>BANORTE</td>\n",
       "      <td>Dispersión-20231001.xlsx</td>\n",
       "      <td>2023-10-01</td>\n",
       "      <td>NaN</td>\n",
       "    </tr>\n",
       "  </tbody>\n",
       "</table>\n",
       "</div>"
      ],
      "text/plain": [
       "              type                           merchant_id merchant_name  \\\n",
       "0      LEDGER_TRAD  03817645-41bf-4990-a393-e70062edacab           NaN   \n",
       "75829  LEDGER_TRAD  aa30d809-dcb9-4408-9ffb-4834e2855886           NaN   \n",
       "75828  LEDGER_TRAD  aa3001a6-453d-48f5-98e7-97037185d5f5           NaN   \n",
       "75827  LEDGER_TRAD  aa2fe9df-ec77-4854-a099-ddd2dc3a61c1           NaN   \n",
       "75826  LEDGER_TRAD  aa2f8064-4372-44df-b1fa-7abddc5e690f           NaN   \n",
       "\n",
       "      user_email  report_id report_date_local  total_due          tipo  \\\n",
       "0            NaN  A4L8622LV        2023-10-01      52.70  Pago del día   \n",
       "75829        NaN  A4Z4RQ5YF        2023-10-01     645.86  Pago del día   \n",
       "75828        NaN  AVGMQ89JX        2023-10-01  14,742.51  Pago del día   \n",
       "75827        NaN  A8Q6FRQRW        2023-10-01     180.16  Pago del día   \n",
       "75826        NaN  AP56RQQJD        2023-10-01     106.37  Pago del día   \n",
       "\n",
       "                  bank            bank_account_owner_name               CLABE  \\\n",
       "0      CAJA POP MEXICA             Ana Sarahi Aguiar PePe  677560042220088759   \n",
       "75829    BBVA BANCOMER  Axely Magdalena Polanco Contreras   12180015636397909   \n",
       "75828           AZTECA                MARIA LUISA MIRANDA  127180013182134985   \n",
       "75827        SANTANDER   MARIA SOLEDAD OROZCO CASTELLANOS   14090566470522616   \n",
       "75826           AZTECA                      Beatriz Avila  127180013667935832   \n",
       "\n",
       "      status                                          LINEA CEP  \\\n",
       "0      ERROR                                                NaN   \n",
       "75829   PAID  2023-10-01,42644264202310012558909788,40072,40...   \n",
       "75828   PAID  2023-10-01,42644264202310012558956103,40072,40...   \n",
       "75827   PAID  2023-10-01,nan,40072,40014,014090566470522616,...   \n",
       "75826   PAID  2023-10-01,42644264202310012558933955,40072,40...   \n",
       "\n",
       "            Batch_time Banco_emisor                 file_name  date_file swap  \n",
       "0      01. First_batch      BANORTE  Dispersión-20231001.xlsx 2023-10-01  NaN  \n",
       "75829  01. First_batch      BANORTE  Dispersión-20231001.xlsx 2023-10-01  NaN  \n",
       "75828  01. First_batch      BANORTE  Dispersión-20231001.xlsx 2023-10-01  NaN  \n",
       "75827  01. First_batch      BANORTE  Dispersión-20231001.xlsx 2023-10-01  NaN  \n",
       "75826  01. First_batch      BANORTE  Dispersión-20231001.xlsx 2023-10-01  NaN  "
      ]
     },
     "execution_count": 30,
     "metadata": {},
     "output_type": "execute_result"
    }
   ],
   "source": [
    "allpagos = pd.concat([pagos_1,pagos_2])\n",
    "allpagos.head()"
   ]
  },
  {
   "cell_type": "code",
   "execution_count": 31,
   "metadata": {},
   "outputs": [
    {
     "data": {
      "text/plain": [
       "(3243984, 18)"
      ]
     },
     "execution_count": 31,
     "metadata": {},
     "output_type": "execute_result"
    }
   ],
   "source": [
    "allpagos.shape"
   ]
  },
  {
   "cell_type": "code",
   "execution_count": 32,
   "metadata": {},
   "outputs": [
    {
     "data": {
      "text/plain": [
       "array(['Pago del día', 'Reprogramación'], dtype=object)"
      ]
     },
     "execution_count": 32,
     "metadata": {},
     "output_type": "execute_result"
    }
   ],
   "source": [
    "allpagos['tipo'].unique()"
   ]
  },
  {
   "cell_type": "code",
   "execution_count": 33,
   "metadata": {},
   "outputs": [
    {
     "data": {
      "text/html": [
       "<div>\n",
       "<style scoped>\n",
       "    .dataframe tbody tr th:only-of-type {\n",
       "        vertical-align: middle;\n",
       "    }\n",
       "\n",
       "    .dataframe tbody tr th {\n",
       "        vertical-align: top;\n",
       "    }\n",
       "\n",
       "    .dataframe thead th {\n",
       "        text-align: right;\n",
       "    }\n",
       "</style>\n",
       "<table border=\"1\" class=\"dataframe\">\n",
       "  <thead>\n",
       "    <tr style=\"text-align: right;\">\n",
       "      <th></th>\n",
       "      <th>date_file</th>\n",
       "      <th>total_due</th>\n",
       "      <th>report_id</th>\n",
       "    </tr>\n",
       "  </thead>\n",
       "  <tbody>\n",
       "    <tr>\n",
       "      <th>0</th>\n",
       "      <td>2023-10-01</td>\n",
       "      <td>390,174,141.62</td>\n",
       "      <td>153983</td>\n",
       "    </tr>\n",
       "    <tr>\n",
       "      <th>1</th>\n",
       "      <td>2023-10-02</td>\n",
       "      <td>209,046,611.19</td>\n",
       "      <td>83455</td>\n",
       "    </tr>\n",
       "    <tr>\n",
       "      <th>2</th>\n",
       "      <td>2023-10-03</td>\n",
       "      <td>204,340,823.86</td>\n",
       "      <td>101235</td>\n",
       "    </tr>\n",
       "    <tr>\n",
       "      <th>3</th>\n",
       "      <td>2023-10-04</td>\n",
       "      <td>202,366,034.81</td>\n",
       "      <td>102467</td>\n",
       "    </tr>\n",
       "    <tr>\n",
       "      <th>4</th>\n",
       "      <td>2023-10-05</td>\n",
       "      <td>205,388,933.65</td>\n",
       "      <td>103895</td>\n",
       "    </tr>\n",
       "  </tbody>\n",
       "</table>\n",
       "</div>"
      ],
      "text/plain": [
       "   date_file      total_due  report_id\n",
       "0 2023-10-01 390,174,141.62     153983\n",
       "1 2023-10-02 209,046,611.19      83455\n",
       "2 2023-10-03 204,340,823.86     101235\n",
       "3 2023-10-04 202,366,034.81     102467\n",
       "4 2023-10-05 205,388,933.65     103895"
      ]
     },
     "execution_count": 33,
     "metadata": {},
     "output_type": "execute_result"
    }
   ],
   "source": [
    "group_allpagos = allpagos.groupby(['date_file']).agg({'total_due':sum,'report_id':'count'}).reset_index()\n",
    "group_allpagos.head()"
   ]
  },
  {
   "cell_type": "code",
   "execution_count": 34,
   "metadata": {},
   "outputs": [
    {
     "data": {
      "text/plain": [
       "(31, 3)"
      ]
     },
     "execution_count": 34,
     "metadata": {},
     "output_type": "execute_result"
    }
   ],
   "source": [
    "group_allpagos.shape"
   ]
  },
  {
   "cell_type": "markdown",
   "metadata": {},
   "source": [
    "#### PAGOS DEL DIA"
   ]
  },
  {
   "cell_type": "code",
   "execution_count": 35,
   "metadata": {},
   "outputs": [
    {
     "data": {
      "text/html": [
       "<div>\n",
       "<style scoped>\n",
       "    .dataframe tbody tr th:only-of-type {\n",
       "        vertical-align: middle;\n",
       "    }\n",
       "\n",
       "    .dataframe tbody tr th {\n",
       "        vertical-align: top;\n",
       "    }\n",
       "\n",
       "    .dataframe thead th {\n",
       "        text-align: right;\n",
       "    }\n",
       "</style>\n",
       "<table border=\"1\" class=\"dataframe\">\n",
       "  <thead>\n",
       "    <tr style=\"text-align: right;\">\n",
       "      <th></th>\n",
       "      <th>type</th>\n",
       "      <th>merchant_id</th>\n",
       "      <th>merchant_name</th>\n",
       "      <th>user_email</th>\n",
       "      <th>report_id</th>\n",
       "      <th>report_date_local</th>\n",
       "      <th>total_due</th>\n",
       "      <th>tipo</th>\n",
       "      <th>bank</th>\n",
       "      <th>bank_account_owner_name</th>\n",
       "      <th>CLABE</th>\n",
       "      <th>status</th>\n",
       "      <th>LINEA CEP</th>\n",
       "      <th>Batch_time</th>\n",
       "      <th>Banco_emisor</th>\n",
       "      <th>file_name</th>\n",
       "      <th>date_file</th>\n",
       "      <th>swap</th>\n",
       "    </tr>\n",
       "  </thead>\n",
       "  <tbody>\n",
       "    <tr>\n",
       "      <th>0</th>\n",
       "      <td>LEDGER_TRAD</td>\n",
       "      <td>03817645-41bf-4990-a393-e70062edacab</td>\n",
       "      <td>NaN</td>\n",
       "      <td>NaN</td>\n",
       "      <td>A4L8622LV</td>\n",
       "      <td>2023-10-01</td>\n",
       "      <td>52.70</td>\n",
       "      <td>Pago del día</td>\n",
       "      <td>CAJA POP MEXICA</td>\n",
       "      <td>Ana Sarahi Aguiar PePe</td>\n",
       "      <td>677560042220088759</td>\n",
       "      <td>ERROR</td>\n",
       "      <td>NaN</td>\n",
       "      <td>01. First_batch</td>\n",
       "      <td>BANORTE</td>\n",
       "      <td>Dispersión-20231001.xlsx</td>\n",
       "      <td>2023-10-01</td>\n",
       "      <td>NaN</td>\n",
       "    </tr>\n",
       "    <tr>\n",
       "      <th>75829</th>\n",
       "      <td>LEDGER_TRAD</td>\n",
       "      <td>aa30d809-dcb9-4408-9ffb-4834e2855886</td>\n",
       "      <td>NaN</td>\n",
       "      <td>NaN</td>\n",
       "      <td>A4Z4RQ5YF</td>\n",
       "      <td>2023-10-01</td>\n",
       "      <td>645.86</td>\n",
       "      <td>Pago del día</td>\n",
       "      <td>BBVA BANCOMER</td>\n",
       "      <td>Axely Magdalena Polanco Contreras</td>\n",
       "      <td>12180015636397909</td>\n",
       "      <td>PAID</td>\n",
       "      <td>2023-10-01,42644264202310012558909788,40072,40...</td>\n",
       "      <td>01. First_batch</td>\n",
       "      <td>BANORTE</td>\n",
       "      <td>Dispersión-20231001.xlsx</td>\n",
       "      <td>2023-10-01</td>\n",
       "      <td>NaN</td>\n",
       "    </tr>\n",
       "    <tr>\n",
       "      <th>75828</th>\n",
       "      <td>LEDGER_TRAD</td>\n",
       "      <td>aa3001a6-453d-48f5-98e7-97037185d5f5</td>\n",
       "      <td>NaN</td>\n",
       "      <td>NaN</td>\n",
       "      <td>AVGMQ89JX</td>\n",
       "      <td>2023-10-01</td>\n",
       "      <td>14,742.51</td>\n",
       "      <td>Pago del día</td>\n",
       "      <td>AZTECA</td>\n",
       "      <td>MARIA LUISA MIRANDA</td>\n",
       "      <td>127180013182134985</td>\n",
       "      <td>PAID</td>\n",
       "      <td>2023-10-01,42644264202310012558956103,40072,40...</td>\n",
       "      <td>01. First_batch</td>\n",
       "      <td>BANORTE</td>\n",
       "      <td>Dispersión-20231001.xlsx</td>\n",
       "      <td>2023-10-01</td>\n",
       "      <td>NaN</td>\n",
       "    </tr>\n",
       "    <tr>\n",
       "      <th>75827</th>\n",
       "      <td>LEDGER_TRAD</td>\n",
       "      <td>aa2fe9df-ec77-4854-a099-ddd2dc3a61c1</td>\n",
       "      <td>NaN</td>\n",
       "      <td>NaN</td>\n",
       "      <td>A8Q6FRQRW</td>\n",
       "      <td>2023-10-01</td>\n",
       "      <td>180.16</td>\n",
       "      <td>Pago del día</td>\n",
       "      <td>SANTANDER</td>\n",
       "      <td>MARIA SOLEDAD OROZCO CASTELLANOS</td>\n",
       "      <td>14090566470522616</td>\n",
       "      <td>PAID</td>\n",
       "      <td>2023-10-01,nan,40072,40014,014090566470522616,...</td>\n",
       "      <td>01. First_batch</td>\n",
       "      <td>BANORTE</td>\n",
       "      <td>Dispersión-20231001.xlsx</td>\n",
       "      <td>2023-10-01</td>\n",
       "      <td>NaN</td>\n",
       "    </tr>\n",
       "    <tr>\n",
       "      <th>75826</th>\n",
       "      <td>LEDGER_TRAD</td>\n",
       "      <td>aa2f8064-4372-44df-b1fa-7abddc5e690f</td>\n",
       "      <td>NaN</td>\n",
       "      <td>NaN</td>\n",
       "      <td>AP56RQQJD</td>\n",
       "      <td>2023-10-01</td>\n",
       "      <td>106.37</td>\n",
       "      <td>Pago del día</td>\n",
       "      <td>AZTECA</td>\n",
       "      <td>Beatriz Avila</td>\n",
       "      <td>127180013667935832</td>\n",
       "      <td>PAID</td>\n",
       "      <td>2023-10-01,42644264202310012558933955,40072,40...</td>\n",
       "      <td>01. First_batch</td>\n",
       "      <td>BANORTE</td>\n",
       "      <td>Dispersión-20231001.xlsx</td>\n",
       "      <td>2023-10-01</td>\n",
       "      <td>NaN</td>\n",
       "    </tr>\n",
       "  </tbody>\n",
       "</table>\n",
       "</div>"
      ],
      "text/plain": [
       "              type                           merchant_id merchant_name  \\\n",
       "0      LEDGER_TRAD  03817645-41bf-4990-a393-e70062edacab           NaN   \n",
       "75829  LEDGER_TRAD  aa30d809-dcb9-4408-9ffb-4834e2855886           NaN   \n",
       "75828  LEDGER_TRAD  aa3001a6-453d-48f5-98e7-97037185d5f5           NaN   \n",
       "75827  LEDGER_TRAD  aa2fe9df-ec77-4854-a099-ddd2dc3a61c1           NaN   \n",
       "75826  LEDGER_TRAD  aa2f8064-4372-44df-b1fa-7abddc5e690f           NaN   \n",
       "\n",
       "      user_email  report_id report_date_local  total_due          tipo  \\\n",
       "0            NaN  A4L8622LV        2023-10-01      52.70  Pago del día   \n",
       "75829        NaN  A4Z4RQ5YF        2023-10-01     645.86  Pago del día   \n",
       "75828        NaN  AVGMQ89JX        2023-10-01  14,742.51  Pago del día   \n",
       "75827        NaN  A8Q6FRQRW        2023-10-01     180.16  Pago del día   \n",
       "75826        NaN  AP56RQQJD        2023-10-01     106.37  Pago del día   \n",
       "\n",
       "                  bank            bank_account_owner_name               CLABE  \\\n",
       "0      CAJA POP MEXICA             Ana Sarahi Aguiar PePe  677560042220088759   \n",
       "75829    BBVA BANCOMER  Axely Magdalena Polanco Contreras   12180015636397909   \n",
       "75828           AZTECA                MARIA LUISA MIRANDA  127180013182134985   \n",
       "75827        SANTANDER   MARIA SOLEDAD OROZCO CASTELLANOS   14090566470522616   \n",
       "75826           AZTECA                      Beatriz Avila  127180013667935832   \n",
       "\n",
       "      status                                          LINEA CEP  \\\n",
       "0      ERROR                                                NaN   \n",
       "75829   PAID  2023-10-01,42644264202310012558909788,40072,40...   \n",
       "75828   PAID  2023-10-01,42644264202310012558956103,40072,40...   \n",
       "75827   PAID  2023-10-01,nan,40072,40014,014090566470522616,...   \n",
       "75826   PAID  2023-10-01,42644264202310012558933955,40072,40...   \n",
       "\n",
       "            Batch_time Banco_emisor                 file_name  date_file swap  \n",
       "0      01. First_batch      BANORTE  Dispersión-20231001.xlsx 2023-10-01  NaN  \n",
       "75829  01. First_batch      BANORTE  Dispersión-20231001.xlsx 2023-10-01  NaN  \n",
       "75828  01. First_batch      BANORTE  Dispersión-20231001.xlsx 2023-10-01  NaN  \n",
       "75827  01. First_batch      BANORTE  Dispersión-20231001.xlsx 2023-10-01  NaN  \n",
       "75826  01. First_batch      BANORTE  Dispersión-20231001.xlsx 2023-10-01  NaN  "
      ]
     },
     "execution_count": 35,
     "metadata": {},
     "output_type": "execute_result"
    }
   ],
   "source": [
    "pagosdia = allpagos[(allpagos['tipo'].isin(['Pago del día']))]\n",
    "pagosdia.head()"
   ]
  },
  {
   "cell_type": "code",
   "execution_count": 36,
   "metadata": {},
   "outputs": [
    {
     "data": {
      "text/plain": [
       "(3218839, 18)"
      ]
     },
     "execution_count": 36,
     "metadata": {},
     "output_type": "execute_result"
    }
   ],
   "source": [
    "pagosdia.shape"
   ]
  },
  {
   "cell_type": "code",
   "execution_count": 37,
   "metadata": {},
   "outputs": [
    {
     "data": {
      "text/html": [
       "<div>\n",
       "<style scoped>\n",
       "    .dataframe tbody tr th:only-of-type {\n",
       "        vertical-align: middle;\n",
       "    }\n",
       "\n",
       "    .dataframe tbody tr th {\n",
       "        vertical-align: top;\n",
       "    }\n",
       "\n",
       "    .dataframe thead th {\n",
       "        text-align: right;\n",
       "    }\n",
       "</style>\n",
       "<table border=\"1\" class=\"dataframe\">\n",
       "  <thead>\n",
       "    <tr style=\"text-align: right;\">\n",
       "      <th></th>\n",
       "      <th>date_file</th>\n",
       "      <th>total_due</th>\n",
       "      <th>report_id</th>\n",
       "    </tr>\n",
       "  </thead>\n",
       "  <tbody>\n",
       "    <tr>\n",
       "      <th>0</th>\n",
       "      <td>2023-10-01</td>\n",
       "      <td>388,542,452.83</td>\n",
       "      <td>152467</td>\n",
       "    </tr>\n",
       "    <tr>\n",
       "      <th>1</th>\n",
       "      <td>2023-10-02</td>\n",
       "      <td>206,621,474.78</td>\n",
       "      <td>82368</td>\n",
       "    </tr>\n",
       "    <tr>\n",
       "      <th>2</th>\n",
       "      <td>2023-10-03</td>\n",
       "      <td>202,609,513.28</td>\n",
       "      <td>100383</td>\n",
       "    </tr>\n",
       "    <tr>\n",
       "      <th>3</th>\n",
       "      <td>2023-10-04</td>\n",
       "      <td>201,198,218.65</td>\n",
       "      <td>101340</td>\n",
       "    </tr>\n",
       "    <tr>\n",
       "      <th>4</th>\n",
       "      <td>2023-10-05</td>\n",
       "      <td>204,574,633.09</td>\n",
       "      <td>103357</td>\n",
       "    </tr>\n",
       "  </tbody>\n",
       "</table>\n",
       "</div>"
      ],
      "text/plain": [
       "   date_file      total_due  report_id\n",
       "0 2023-10-01 388,542,452.83     152467\n",
       "1 2023-10-02 206,621,474.78      82368\n",
       "2 2023-10-03 202,609,513.28     100383\n",
       "3 2023-10-04 201,198,218.65     101340\n",
       "4 2023-10-05 204,574,633.09     103357"
      ]
     },
     "execution_count": 37,
     "metadata": {},
     "output_type": "execute_result"
    }
   ],
   "source": [
    "group_dia = pagosdia.groupby(['date_file']).agg({'total_due':sum,'report_id':'count'}).reset_index()\n",
    "group_dia.head()"
   ]
  },
  {
   "cell_type": "code",
   "execution_count": 38,
   "metadata": {},
   "outputs": [
    {
     "data": {
      "text/plain": [
       "(31, 3)"
      ]
     },
     "execution_count": 38,
     "metadata": {},
     "output_type": "execute_result"
    }
   ],
   "source": [
    "group_dia.shape"
   ]
  },
  {
   "cell_type": "markdown",
   "metadata": {},
   "source": [
    "# PRIMER MATCH (SETTLED VS PAGOS DEL DIA)"
   ]
  },
  {
   "cell_type": "code",
   "execution_count": 39,
   "metadata": {},
   "outputs": [
    {
     "data": {
      "text/html": [
       "<div>\n",
       "<style scoped>\n",
       "    .dataframe tbody tr th:only-of-type {\n",
       "        vertical-align: middle;\n",
       "    }\n",
       "\n",
       "    .dataframe tbody tr th {\n",
       "        vertical-align: top;\n",
       "    }\n",
       "\n",
       "    .dataframe thead th {\n",
       "        text-align: right;\n",
       "    }\n",
       "</style>\n",
       "<table border=\"1\" class=\"dataframe\">\n",
       "  <thead>\n",
       "    <tr style=\"text-align: right;\">\n",
       "      <th></th>\n",
       "      <th>merchant_id</th>\n",
       "      <th>merchant_name</th>\n",
       "      <th>user_email</th>\n",
       "      <th>report_date_local</th>\n",
       "      <th>total_transactions</th>\n",
       "      <th>total_fees_charged</th>\n",
       "      <th>total_taxes</th>\n",
       "      <th>applied_fees_benefits</th>\n",
       "      <th>applied_taxes_benefits</th>\n",
       "      <th>fee_direct_deposit</th>\n",
       "      <th>...</th>\n",
       "      <th>type</th>\n",
       "      <th>created_date</th>\n",
       "      <th>created_time</th>\n",
       "      <th>updated_date</th>\n",
       "      <th>updated_time</th>\n",
       "      <th>file_name_x</th>\n",
       "      <th>report_id</th>\n",
       "      <th>total_due_y</th>\n",
       "      <th>tipo</th>\n",
       "      <th>file_name_y</th>\n",
       "    </tr>\n",
       "  </thead>\n",
       "  <tbody>\n",
       "  </tbody>\n",
       "</table>\n",
       "<p>0 rows × 29 columns</p>\n",
       "</div>"
      ],
      "text/plain": [
       "Empty DataFrame\n",
       "Columns: [merchant_id, merchant_name, user_email, report_date_local, total_transactions, total_fees_charged, total_taxes, applied_fees_benefits, applied_taxes_benefits, fee_direct_deposit, taxes_direct_deposit, total_adjustments, total_adjustment_fees_charged, total_adjustment_taxes, cobranza, total_released, total_retained, tipopago, total_due_x, type, created_date, created_time, updated_date, updated_time, file_name_x, report_id, total_due_y, tipo, file_name_y]\n",
       "Index: []\n",
       "\n",
       "[0 rows x 29 columns]"
      ]
     },
     "execution_count": 39,
     "metadata": {},
     "output_type": "execute_result"
    }
   ],
   "source": [
    "check_1 = cum_1.merge(pagosdia[['report_id','total_due','tipo','file_name']] ,on='report_id', how='left')\n",
    "check_1['total_due_y'].fillna('NO ENCONTRADO')\n",
    "check_1['tipo'].fillna('NO ENCONTRADO',inplace=True)\n",
    "check_1['file_name_y'].fillna('NO ENCONTRADO',inplace=True)\n",
    "# check_1.fillna({'total_due_y':'NO ENCONTRADO', 'tipo':'NO ENCONTRADO', 'file_name_y':'NO ENCONTRADO'}, inplace=True)\n",
    "check_1.head()"
   ]
  },
  {
   "cell_type": "code",
   "execution_count": 40,
   "metadata": {},
   "outputs": [
    {
     "data": {
      "text/plain": [
       "array([], dtype=object)"
      ]
     },
     "execution_count": 40,
     "metadata": {},
     "output_type": "execute_result"
    }
   ],
   "source": [
    "check_1['file_name_y'].unique()"
   ]
  },
  {
   "cell_type": "code",
   "execution_count": 41,
   "metadata": {},
   "outputs": [
    {
     "data": {
      "text/html": [
       "<div>\n",
       "<style scoped>\n",
       "    .dataframe tbody tr th:only-of-type {\n",
       "        vertical-align: middle;\n",
       "    }\n",
       "\n",
       "    .dataframe tbody tr th {\n",
       "        vertical-align: top;\n",
       "    }\n",
       "\n",
       "    .dataframe thead th {\n",
       "        text-align: right;\n",
       "    }\n",
       "</style>\n",
       "<table border=\"1\" class=\"dataframe\">\n",
       "  <thead>\n",
       "    <tr style=\"text-align: right;\">\n",
       "      <th></th>\n",
       "      <th>merchant_id</th>\n",
       "      <th>merchant_name</th>\n",
       "      <th>user_email</th>\n",
       "      <th>report_date_local</th>\n",
       "      <th>total_transactions</th>\n",
       "      <th>total_fees_charged</th>\n",
       "      <th>total_taxes</th>\n",
       "      <th>applied_fees_benefits</th>\n",
       "      <th>applied_taxes_benefits</th>\n",
       "      <th>fee_direct_deposit</th>\n",
       "      <th>...</th>\n",
       "      <th>type</th>\n",
       "      <th>created_date</th>\n",
       "      <th>created_time</th>\n",
       "      <th>updated_date</th>\n",
       "      <th>updated_time</th>\n",
       "      <th>file_name_x</th>\n",
       "      <th>report_id</th>\n",
       "      <th>total_due_y</th>\n",
       "      <th>tipo</th>\n",
       "      <th>file_name_y</th>\n",
       "    </tr>\n",
       "  </thead>\n",
       "  <tbody>\n",
       "  </tbody>\n",
       "</table>\n",
       "<p>0 rows × 29 columns</p>\n",
       "</div>"
      ],
      "text/plain": [
       "Empty DataFrame\n",
       "Columns: [merchant_id, merchant_name, user_email, report_date_local, total_transactions, total_fees_charged, total_taxes, applied_fees_benefits, applied_taxes_benefits, fee_direct_deposit, taxes_direct_deposit, total_adjustments, total_adjustment_fees_charged, total_adjustment_taxes, cobranza, total_released, total_retained, tipopago, total_due_x, type, created_date, created_time, updated_date, updated_time, file_name_x, report_id, total_due_y, tipo, file_name_y]\n",
       "Index: []\n",
       "\n",
       "[0 rows x 29 columns]"
      ]
     },
     "execution_count": 41,
     "metadata": {},
     "output_type": "execute_result"
    }
   ],
   "source": [
    "not_found_1 = check_1[((check_1['file_name_y'].isnull()) | (check_1['file_name_y'].isin(['NO ENCONTRADO'])))\n",
    "                        & (check_1['total_due_x'] != 0)]\n",
    "not_found_1.head()"
   ]
  },
  {
   "cell_type": "code",
   "execution_count": 42,
   "metadata": {},
   "outputs": [
    {
     "data": {
      "text/plain": [
       "(0, 29)"
      ]
     },
     "execution_count": 42,
     "metadata": {},
     "output_type": "execute_result"
    }
   ],
   "source": [
    "not_found_1.shape"
   ]
  },
  {
   "cell_type": "code",
   "execution_count": 43,
   "metadata": {},
   "outputs": [
    {
     "data": {
      "text/html": [
       "<div>\n",
       "<style scoped>\n",
       "    .dataframe tbody tr th:only-of-type {\n",
       "        vertical-align: middle;\n",
       "    }\n",
       "\n",
       "    .dataframe tbody tr th {\n",
       "        vertical-align: top;\n",
       "    }\n",
       "\n",
       "    .dataframe thead th {\n",
       "        text-align: right;\n",
       "    }\n",
       "</style>\n",
       "<table border=\"1\" class=\"dataframe\">\n",
       "  <thead>\n",
       "    <tr style=\"text-align: right;\">\n",
       "      <th></th>\n",
       "      <th>date_file</th>\n",
       "      <th>total_due_x</th>\n",
       "      <th>report_id</th>\n",
       "    </tr>\n",
       "  </thead>\n",
       "  <tbody>\n",
       "  </tbody>\n",
       "</table>\n",
       "</div>"
      ],
      "text/plain": [
       "Empty DataFrame\n",
       "Columns: [date_file, total_due_x, report_id]\n",
       "Index: []"
      ]
     },
     "execution_count": 43,
     "metadata": {},
     "output_type": "execute_result"
    }
   ],
   "source": [
    "group_notfound = not_found_1.groupby(['report_date_local']).agg({'total_due_x':sum,'report_id':'count'}).reset_index()\n",
    "group_notfound.rename(columns={'report_date_local':'date_file'},inplace=True)\n",
    "group_notfound.head()"
   ]
  },
  {
   "cell_type": "code",
   "execution_count": 44,
   "metadata": {},
   "outputs": [
    {
     "data": {
      "text/plain": [
       "(0, 3)"
      ]
     },
     "execution_count": 44,
     "metadata": {},
     "output_type": "execute_result"
    }
   ],
   "source": [
    "group_notfound.shape"
   ]
  },
  {
   "cell_type": "markdown",
   "metadata": {},
   "source": [
    "#### REPROGRAMACIONES"
   ]
  },
  {
   "cell_type": "code",
   "execution_count": 45,
   "metadata": {},
   "outputs": [
    {
     "data": {
      "text/html": [
       "<div>\n",
       "<style scoped>\n",
       "    .dataframe tbody tr th:only-of-type {\n",
       "        vertical-align: middle;\n",
       "    }\n",
       "\n",
       "    .dataframe tbody tr th {\n",
       "        vertical-align: top;\n",
       "    }\n",
       "\n",
       "    .dataframe thead th {\n",
       "        text-align: right;\n",
       "    }\n",
       "</style>\n",
       "<table border=\"1\" class=\"dataframe\">\n",
       "  <thead>\n",
       "    <tr style=\"text-align: right;\">\n",
       "      <th></th>\n",
       "      <th>type</th>\n",
       "      <th>merchant_id</th>\n",
       "      <th>merchant_name</th>\n",
       "      <th>user_email</th>\n",
       "      <th>report_id</th>\n",
       "      <th>report_date_local</th>\n",
       "      <th>total_due</th>\n",
       "      <th>tipo</th>\n",
       "      <th>bank</th>\n",
       "      <th>bank_account_owner_name</th>\n",
       "      <th>CLABE</th>\n",
       "      <th>status</th>\n",
       "      <th>LINEA CEP</th>\n",
       "      <th>Batch_time</th>\n",
       "      <th>Banco_emisor</th>\n",
       "      <th>file_name</th>\n",
       "      <th>date_file</th>\n",
       "      <th>swap</th>\n",
       "    </tr>\n",
       "  </thead>\n",
       "  <tbody>\n",
       "    <tr>\n",
       "      <th>75414</th>\n",
       "      <td>LEDGER_TRAD</td>\n",
       "      <td>a93f1c28-6837-426e-ad01-854887a8a266</td>\n",
       "      <td>NaN</td>\n",
       "      <td>NaN</td>\n",
       "      <td>A7KPDN43T</td>\n",
       "      <td>2023-09-07</td>\n",
       "      <td>3.84</td>\n",
       "      <td>Reprogramación</td>\n",
       "      <td>BANCOPPEL</td>\n",
       "      <td>MARIA INES MATA ROMERO</td>\n",
       "      <td>137164101147322443</td>\n",
       "      <td>PAID</td>\n",
       "      <td>2023-10-01,42644264202310012558909482,40072,40...</td>\n",
       "      <td>01. First_batch</td>\n",
       "      <td>BANORTE</td>\n",
       "      <td>Dispersión-20231001.xlsx</td>\n",
       "      <td>2023-10-01</td>\n",
       "      <td>NaN</td>\n",
       "    </tr>\n",
       "    <tr>\n",
       "      <th>77424</th>\n",
       "      <td>LEDGER_TRAD</td>\n",
       "      <td>adc64e9f-506a-4604-a5cc-309c245e8f6b</td>\n",
       "      <td>NaN</td>\n",
       "      <td>NaN</td>\n",
       "      <td>AKXDYBRSL</td>\n",
       "      <td>2023-09-29</td>\n",
       "      <td>958.24</td>\n",
       "      <td>Reprogramación</td>\n",
       "      <td>SANTANDER</td>\n",
       "      <td>Luis Javier Torres cazares</td>\n",
       "      <td>14222566338382805</td>\n",
       "      <td>PAID</td>\n",
       "      <td>2023-10-01,42644264202310012558910991,40072,40...</td>\n",
       "      <td>01. First_batch</td>\n",
       "      <td>BANORTE</td>\n",
       "      <td>Dispersión-20231001.xlsx</td>\n",
       "      <td>2023-10-01</td>\n",
       "      <td>NaN</td>\n",
       "    </tr>\n",
       "    <tr>\n",
       "      <th>78181</th>\n",
       "      <td>LEDGER_TRAD</td>\n",
       "      <td>af6fd199-15b2-439d-abee-d92c4c6341f0</td>\n",
       "      <td>NaN</td>\n",
       "      <td>NaN</td>\n",
       "      <td>AY7BJW7F4</td>\n",
       "      <td>2023-09-11</td>\n",
       "      <td>0.97</td>\n",
       "      <td>Reprogramación</td>\n",
       "      <td>BBVA BANCOMER</td>\n",
       "      <td>Maricruz Salazar Frias</td>\n",
       "      <td>12180015416196540</td>\n",
       "      <td>PAID</td>\n",
       "      <td>2023-10-01,42644264202310012558957878,40072,40...</td>\n",
       "      <td>01. First_batch</td>\n",
       "      <td>BANORTE</td>\n",
       "      <td>Dispersión-20231001.xlsx</td>\n",
       "      <td>2023-10-01</td>\n",
       "      <td>NaN</td>\n",
       "    </tr>\n",
       "    <tr>\n",
       "      <th>78180</th>\n",
       "      <td>LEDGER_TRAD</td>\n",
       "      <td>af6fd199-15b2-439d-abee-d92c4c6341f0</td>\n",
       "      <td>NaN</td>\n",
       "      <td>NaN</td>\n",
       "      <td>ARVQXMM7L</td>\n",
       "      <td>2023-08-24</td>\n",
       "      <td>0.95</td>\n",
       "      <td>Reprogramación</td>\n",
       "      <td>BBVA BANCOMER</td>\n",
       "      <td>Maricruz Salazar Frias</td>\n",
       "      <td>12180015416196540</td>\n",
       "      <td>PAID</td>\n",
       "      <td>2023-10-01,nan,40072,40012,012180015416196540,...</td>\n",
       "      <td>01. First_batch</td>\n",
       "      <td>BANORTE</td>\n",
       "      <td>Dispersión-20231001.xlsx</td>\n",
       "      <td>2023-10-01</td>\n",
       "      <td>NaN</td>\n",
       "    </tr>\n",
       "    <tr>\n",
       "      <th>77838</th>\n",
       "      <td>LEDGER_TRAD</td>\n",
       "      <td>aebd36f0-e2f6-4f88-bed7-3227c26b178f</td>\n",
       "      <td>NaN</td>\n",
       "      <td>NaN</td>\n",
       "      <td>AFSD7CWCC</td>\n",
       "      <td>2023-09-28</td>\n",
       "      <td>19.16</td>\n",
       "      <td>Reprogramación</td>\n",
       "      <td>BBVA BANCOMER</td>\n",
       "      <td>Bertha Adriana Carmona Velazquez</td>\n",
       "      <td>12041015548522529</td>\n",
       "      <td>PAID</td>\n",
       "      <td>2023-10-01,42644264202310012558957635,40072,40...</td>\n",
       "      <td>01. First_batch</td>\n",
       "      <td>BANORTE</td>\n",
       "      <td>Dispersión-20231001.xlsx</td>\n",
       "      <td>2023-10-01</td>\n",
       "      <td>NaN</td>\n",
       "    </tr>\n",
       "  </tbody>\n",
       "</table>\n",
       "</div>"
      ],
      "text/plain": [
       "              type                           merchant_id merchant_name  \\\n",
       "75414  LEDGER_TRAD  a93f1c28-6837-426e-ad01-854887a8a266           NaN   \n",
       "77424  LEDGER_TRAD  adc64e9f-506a-4604-a5cc-309c245e8f6b           NaN   \n",
       "78181  LEDGER_TRAD  af6fd199-15b2-439d-abee-d92c4c6341f0           NaN   \n",
       "78180  LEDGER_TRAD  af6fd199-15b2-439d-abee-d92c4c6341f0           NaN   \n",
       "77838  LEDGER_TRAD  aebd36f0-e2f6-4f88-bed7-3227c26b178f           NaN   \n",
       "\n",
       "      user_email  report_id report_date_local  total_due            tipo  \\\n",
       "75414        NaN  A7KPDN43T        2023-09-07       3.84  Reprogramación   \n",
       "77424        NaN  AKXDYBRSL        2023-09-29     958.24  Reprogramación   \n",
       "78181        NaN  AY7BJW7F4        2023-09-11       0.97  Reprogramación   \n",
       "78180        NaN  ARVQXMM7L        2023-08-24       0.95  Reprogramación   \n",
       "77838        NaN  AFSD7CWCC        2023-09-28      19.16  Reprogramación   \n",
       "\n",
       "                bank           bank_account_owner_name               CLABE  \\\n",
       "75414      BANCOPPEL            MARIA INES MATA ROMERO  137164101147322443   \n",
       "77424      SANTANDER        Luis Javier Torres cazares   14222566338382805   \n",
       "78181  BBVA BANCOMER            Maricruz Salazar Frias   12180015416196540   \n",
       "78180  BBVA BANCOMER            Maricruz Salazar Frias   12180015416196540   \n",
       "77838  BBVA BANCOMER  Bertha Adriana Carmona Velazquez   12041015548522529   \n",
       "\n",
       "      status                                          LINEA CEP  \\\n",
       "75414   PAID  2023-10-01,42644264202310012558909482,40072,40...   \n",
       "77424   PAID  2023-10-01,42644264202310012558910991,40072,40...   \n",
       "78181   PAID  2023-10-01,42644264202310012558957878,40072,40...   \n",
       "78180   PAID  2023-10-01,nan,40072,40012,012180015416196540,...   \n",
       "77838   PAID  2023-10-01,42644264202310012558957635,40072,40...   \n",
       "\n",
       "            Batch_time Banco_emisor                 file_name  date_file swap  \n",
       "75414  01. First_batch      BANORTE  Dispersión-20231001.xlsx 2023-10-01  NaN  \n",
       "77424  01. First_batch      BANORTE  Dispersión-20231001.xlsx 2023-10-01  NaN  \n",
       "78181  01. First_batch      BANORTE  Dispersión-20231001.xlsx 2023-10-01  NaN  \n",
       "78180  01. First_batch      BANORTE  Dispersión-20231001.xlsx 2023-10-01  NaN  \n",
       "77838  01. First_batch      BANORTE  Dispersión-20231001.xlsx 2023-10-01  NaN  "
      ]
     },
     "execution_count": 45,
     "metadata": {},
     "output_type": "execute_result"
    }
   ],
   "source": [
    "repro = allpagos[(allpagos['tipo'].isin(['Reprogramación']))]\n",
    "repro.head()"
   ]
  },
  {
   "cell_type": "code",
   "execution_count": 46,
   "metadata": {},
   "outputs": [
    {
     "data": {
      "text/plain": [
       "(25145, 18)"
      ]
     },
     "execution_count": 46,
     "metadata": {},
     "output_type": "execute_result"
    }
   ],
   "source": [
    "repro.shape"
   ]
  },
  {
   "cell_type": "code",
   "execution_count": 47,
   "metadata": {},
   "outputs": [
    {
     "data": {
      "text/html": [
       "<div>\n",
       "<style scoped>\n",
       "    .dataframe tbody tr th:only-of-type {\n",
       "        vertical-align: middle;\n",
       "    }\n",
       "\n",
       "    .dataframe tbody tr th {\n",
       "        vertical-align: top;\n",
       "    }\n",
       "\n",
       "    .dataframe thead th {\n",
       "        text-align: right;\n",
       "    }\n",
       "</style>\n",
       "<table border=\"1\" class=\"dataframe\">\n",
       "  <thead>\n",
       "    <tr style=\"text-align: right;\">\n",
       "      <th></th>\n",
       "      <th>date_file</th>\n",
       "      <th>total_due</th>\n",
       "      <th>report_id</th>\n",
       "    </tr>\n",
       "  </thead>\n",
       "  <tbody>\n",
       "    <tr>\n",
       "      <th>0</th>\n",
       "      <td>2023-10-01</td>\n",
       "      <td>1,631,688.79</td>\n",
       "      <td>1516</td>\n",
       "    </tr>\n",
       "    <tr>\n",
       "      <th>1</th>\n",
       "      <td>2023-10-02</td>\n",
       "      <td>2,425,136.41</td>\n",
       "      <td>1087</td>\n",
       "    </tr>\n",
       "    <tr>\n",
       "      <th>2</th>\n",
       "      <td>2023-10-03</td>\n",
       "      <td>1,731,310.58</td>\n",
       "      <td>852</td>\n",
       "    </tr>\n",
       "    <tr>\n",
       "      <th>3</th>\n",
       "      <td>2023-10-04</td>\n",
       "      <td>1,167,816.16</td>\n",
       "      <td>1127</td>\n",
       "    </tr>\n",
       "    <tr>\n",
       "      <th>4</th>\n",
       "      <td>2023-10-05</td>\n",
       "      <td>814,300.56</td>\n",
       "      <td>538</td>\n",
       "    </tr>\n",
       "  </tbody>\n",
       "</table>\n",
       "</div>"
      ],
      "text/plain": [
       "   date_file    total_due  report_id\n",
       "0 2023-10-01 1,631,688.79       1516\n",
       "1 2023-10-02 2,425,136.41       1087\n",
       "2 2023-10-03 1,731,310.58        852\n",
       "3 2023-10-04 1,167,816.16       1127\n",
       "4 2023-10-05   814,300.56        538"
      ]
     },
     "execution_count": 47,
     "metadata": {},
     "output_type": "execute_result"
    }
   ],
   "source": [
    "group_repro = repro.groupby(['date_file']).agg({'total_due':sum,'report_id':'count'}).reset_index()\n",
    "group_repro.head()"
   ]
  },
  {
   "cell_type": "code",
   "execution_count": 48,
   "metadata": {},
   "outputs": [
    {
     "data": {
      "text/plain": [
       "(31, 3)"
      ]
     },
     "execution_count": 48,
     "metadata": {},
     "output_type": "execute_result"
    }
   ],
   "source": [
    "group_repro.shape"
   ]
  },
  {
   "cell_type": "markdown",
   "metadata": {},
   "source": [
    "# SEGUNDO MATCH (IDENTIFICACION DE REPROGRAMACIONES)"
   ]
  },
  {
   "cell_type": "code",
   "execution_count": 49,
   "metadata": {},
   "outputs": [
    {
     "data": {
      "text/html": [
       "<div>\n",
       "<style scoped>\n",
       "    .dataframe tbody tr th:only-of-type {\n",
       "        vertical-align: middle;\n",
       "    }\n",
       "\n",
       "    .dataframe tbody tr th {\n",
       "        vertical-align: top;\n",
       "    }\n",
       "\n",
       "    .dataframe thead th {\n",
       "        text-align: right;\n",
       "    }\n",
       "</style>\n",
       "<table border=\"1\" class=\"dataframe\">\n",
       "  <thead>\n",
       "    <tr style=\"text-align: right;\">\n",
       "      <th></th>\n",
       "      <th>merchant_id</th>\n",
       "      <th>merchant_name</th>\n",
       "      <th>user_email</th>\n",
       "      <th>report_date_local</th>\n",
       "      <th>total_transactions</th>\n",
       "      <th>total_fees_charged</th>\n",
       "      <th>total_taxes</th>\n",
       "      <th>applied_fees_benefits</th>\n",
       "      <th>applied_taxes_benefits</th>\n",
       "      <th>fee_direct_deposit</th>\n",
       "      <th>...</th>\n",
       "      <th>updated_date</th>\n",
       "      <th>updated_time</th>\n",
       "      <th>file_name_x</th>\n",
       "      <th>total_due_y</th>\n",
       "      <th>tipo_x</th>\n",
       "      <th>file_name_y</th>\n",
       "      <th>report_id</th>\n",
       "      <th>total_due</th>\n",
       "      <th>tipo_y</th>\n",
       "      <th>file_name</th>\n",
       "    </tr>\n",
       "  </thead>\n",
       "  <tbody>\n",
       "  </tbody>\n",
       "</table>\n",
       "<p>0 rows × 32 columns</p>\n",
       "</div>"
      ],
      "text/plain": [
       "Empty DataFrame\n",
       "Columns: [merchant_id, merchant_name, user_email, report_date_local, total_transactions, total_fees_charged, total_taxes, applied_fees_benefits, applied_taxes_benefits, fee_direct_deposit, taxes_direct_deposit, total_adjustments, total_adjustment_fees_charged, total_adjustment_taxes, cobranza, total_released, total_retained, tipopago, total_due_x, type, created_date, created_time, updated_date, updated_time, file_name_x, total_due_y, tipo_x, file_name_y, report_id, total_due, tipo_y, file_name]\n",
       "Index: []\n",
       "\n",
       "[0 rows x 32 columns]"
      ]
     },
     "execution_count": 49,
     "metadata": {},
     "output_type": "execute_result"
    }
   ],
   "source": [
    "check_2 = not_found_1.merge(repro[['report_id','total_due','tipo','file_name']] ,on='report_id', how='left')\n",
    "check_2.head()"
   ]
  },
  {
   "cell_type": "code",
   "execution_count": 50,
   "metadata": {},
   "outputs": [
    {
     "data": {
      "text/plain": [
       "(0, 32)"
      ]
     },
     "execution_count": 50,
     "metadata": {},
     "output_type": "execute_result"
    }
   ],
   "source": [
    "check_2.shape"
   ]
  },
  {
   "cell_type": "code",
   "execution_count": 51,
   "metadata": {},
   "outputs": [],
   "source": [
    "# writer = pd.ExcelWriter('REPROGRAMACIONES JUNIO 2021.xlsx', engine='xlsxwriter', options={'encoding':'utf-8'})\n",
    "# check_2.to_excel(writer, sheet_name='DETAIL REPROGRAMACIONES',index=False)\n",
    "# writer.save()\n",
    "# writer.close()"
   ]
  },
  {
   "cell_type": "markdown",
   "metadata": {},
   "source": [
    "# FECHA DE PAGOS (SETTLED VS PAGOS DEL DIA)"
   ]
  },
  {
   "cell_type": "code",
   "execution_count": 52,
   "metadata": {},
   "outputs": [
    {
     "data": {
      "text/html": [
       "<div>\n",
       "<style scoped>\n",
       "    .dataframe tbody tr th:only-of-type {\n",
       "        vertical-align: middle;\n",
       "    }\n",
       "\n",
       "    .dataframe tbody tr th {\n",
       "        vertical-align: top;\n",
       "    }\n",
       "\n",
       "    .dataframe thead th {\n",
       "        text-align: right;\n",
       "    }\n",
       "</style>\n",
       "<table border=\"1\" class=\"dataframe\">\n",
       "  <thead>\n",
       "    <tr style=\"text-align: right;\">\n",
       "      <th></th>\n",
       "      <th>merchant_id</th>\n",
       "      <th>merchant_name</th>\n",
       "      <th>user_email</th>\n",
       "      <th>report_date_local</th>\n",
       "      <th>total_transactions</th>\n",
       "      <th>total_fees_charged</th>\n",
       "      <th>total_taxes</th>\n",
       "      <th>applied_fees_benefits</th>\n",
       "      <th>applied_taxes_benefits</th>\n",
       "      <th>fee_direct_deposit</th>\n",
       "      <th>...</th>\n",
       "      <th>updated_time</th>\n",
       "      <th>file_name_x</th>\n",
       "      <th>total_due_y</th>\n",
       "      <th>tipo_x</th>\n",
       "      <th>file_name_y</th>\n",
       "      <th>report_id</th>\n",
       "      <th>date_file</th>\n",
       "      <th>tipo_y</th>\n",
       "      <th>status</th>\n",
       "      <th>file_name</th>\n",
       "    </tr>\n",
       "  </thead>\n",
       "  <tbody>\n",
       "  </tbody>\n",
       "</table>\n",
       "<p>0 rows × 33 columns</p>\n",
       "</div>"
      ],
      "text/plain": [
       "Empty DataFrame\n",
       "Columns: [merchant_id, merchant_name, user_email, report_date_local, total_transactions, total_fees_charged, total_taxes, applied_fees_benefits, applied_taxes_benefits, fee_direct_deposit, taxes_direct_deposit, total_adjustments, total_adjustment_fees_charged, total_adjustment_taxes, cobranza, total_released, total_retained, tipopago, total_due_x, type, created_date, created_time, updated_date, updated_time, file_name_x, total_due_y, tipo_x, file_name_y, report_id, date_file, tipo_y, status, file_name]\n",
       "Index: []\n",
       "\n",
       "[0 rows x 33 columns]"
      ]
     },
     "execution_count": 52,
     "metadata": {},
     "output_type": "execute_result"
    }
   ],
   "source": [
    "fecha_pago = not_found_1.merge(repro[['report_id','date_file','tipo','status','file_name']] ,on='report_id', how='left')\n",
    "fecha_pago.sort_values(by=['date_file'],ascending=True,inplace=True)\n",
    "fecha_pago.head()"
   ]
  },
  {
   "cell_type": "code",
   "execution_count": 53,
   "metadata": {},
   "outputs": [
    {
     "data": {
      "text/plain": [
       "(0, 33)"
      ]
     },
     "execution_count": 53,
     "metadata": {},
     "output_type": "execute_result"
    }
   ],
   "source": [
    "fecha_pago.shape"
   ]
  },
  {
   "cell_type": "code",
   "execution_count": 54,
   "metadata": {},
   "outputs": [
    {
     "data": {
      "text/html": [
       "<div>\n",
       "<style scoped>\n",
       "    .dataframe tbody tr th:only-of-type {\n",
       "        vertical-align: middle;\n",
       "    }\n",
       "\n",
       "    .dataframe tbody tr th {\n",
       "        vertical-align: top;\n",
       "    }\n",
       "\n",
       "    .dataframe thead th {\n",
       "        text-align: right;\n",
       "    }\n",
       "</style>\n",
       "<table border=\"1\" class=\"dataframe\">\n",
       "  <thead>\n",
       "    <tr style=\"text-align: right;\">\n",
       "      <th></th>\n",
       "      <th>merchant_id</th>\n",
       "      <th>merchant_name</th>\n",
       "      <th>user_email</th>\n",
       "      <th>report_date_local</th>\n",
       "      <th>total_transactions</th>\n",
       "      <th>total_fees_charged</th>\n",
       "      <th>total_taxes</th>\n",
       "      <th>applied_fees_benefits</th>\n",
       "      <th>applied_taxes_benefits</th>\n",
       "      <th>fee_direct_deposit</th>\n",
       "      <th>...</th>\n",
       "      <th>updated_time</th>\n",
       "      <th>file_name_x</th>\n",
       "      <th>total_due_y</th>\n",
       "      <th>tipo_x</th>\n",
       "      <th>file_name_y</th>\n",
       "      <th>report_id</th>\n",
       "      <th>date_file</th>\n",
       "      <th>tipo_y</th>\n",
       "      <th>status</th>\n",
       "      <th>file_name</th>\n",
       "    </tr>\n",
       "  </thead>\n",
       "  <tbody>\n",
       "  </tbody>\n",
       "</table>\n",
       "<p>0 rows × 33 columns</p>\n",
       "</div>"
      ],
      "text/plain": [
       "Empty DataFrame\n",
       "Columns: [merchant_id, merchant_name, user_email, report_date_local, total_transactions, total_fees_charged, total_taxes, applied_fees_benefits, applied_taxes_benefits, fee_direct_deposit, taxes_direct_deposit, total_adjustments, total_adjustment_fees_charged, total_adjustment_taxes, cobranza, total_released, total_retained, tipopago, total_due_x, type, created_date, created_time, updated_date, updated_time, file_name_x, total_due_y, tipo_x, file_name_y, report_id, date_file, tipo_y, status, file_name]\n",
       "Index: []\n",
       "\n",
       "[0 rows x 33 columns]"
      ]
     },
     "execution_count": 54,
     "metadata": {},
     "output_type": "execute_result"
    }
   ],
   "source": [
    "fecha_pago.drop_duplicates(subset ='report_id',keep='first',inplace=True) "
   ]
  },
  {
   "cell_type": "code",
   "execution_count": 55,
   "metadata": {},
   "outputs": [
    {
     "data": {
      "text/html": [
       "<div>\n",
       "<style scoped>\n",
       "    .dataframe tbody tr th:only-of-type {\n",
       "        vertical-align: middle;\n",
       "    }\n",
       "\n",
       "    .dataframe tbody tr th {\n",
       "        vertical-align: top;\n",
       "    }\n",
       "\n",
       "    .dataframe thead th {\n",
       "        text-align: right;\n",
       "    }\n",
       "</style>\n",
       "<table border=\"1\" class=\"dataframe\">\n",
       "  <thead>\n",
       "    <tr style=\"text-align: right;\">\n",
       "      <th></th>\n",
       "      <th>merchant_id</th>\n",
       "      <th>merchant_name</th>\n",
       "      <th>user_email</th>\n",
       "      <th>report_date_local</th>\n",
       "      <th>total_transactions</th>\n",
       "      <th>total_fees_charged</th>\n",
       "      <th>total_taxes</th>\n",
       "      <th>applied_fees_benefits</th>\n",
       "      <th>applied_taxes_benefits</th>\n",
       "      <th>fee_direct_deposit</th>\n",
       "      <th>...</th>\n",
       "      <th>updated_time</th>\n",
       "      <th>file_name_x</th>\n",
       "      <th>total_due_y</th>\n",
       "      <th>tipo_x</th>\n",
       "      <th>file_name_y</th>\n",
       "      <th>report_id</th>\n",
       "      <th>date_file</th>\n",
       "      <th>tipo_y</th>\n",
       "      <th>status</th>\n",
       "      <th>file_name</th>\n",
       "    </tr>\n",
       "  </thead>\n",
       "  <tbody>\n",
       "  </tbody>\n",
       "</table>\n",
       "<p>0 rows × 33 columns</p>\n",
       "</div>"
      ],
      "text/plain": [
       "Empty DataFrame\n",
       "Columns: [merchant_id, merchant_name, user_email, report_date_local, total_transactions, total_fees_charged, total_taxes, applied_fees_benefits, applied_taxes_benefits, fee_direct_deposit, taxes_direct_deposit, total_adjustments, total_adjustment_fees_charged, total_adjustment_taxes, cobranza, total_released, total_retained, tipopago, total_due_x, type, created_date, created_time, updated_date, updated_time, file_name_x, total_due_y, tipo_x, file_name_y, report_id, date_file, tipo_y, status, file_name]\n",
       "Index: []\n",
       "\n",
       "[0 rows x 33 columns]"
      ]
     },
     "execution_count": 55,
     "metadata": {},
     "output_type": "execute_result"
    }
   ],
   "source": [
    "fecha_pago.head()"
   ]
  },
  {
   "cell_type": "code",
   "execution_count": 56,
   "metadata": {},
   "outputs": [
    {
     "data": {
      "text/plain": [
       "(0, 33)"
      ]
     },
     "execution_count": 56,
     "metadata": {},
     "output_type": "execute_result"
    }
   ],
   "source": [
    "fecha_pago.shape"
   ]
  },
  {
   "cell_type": "markdown",
   "metadata": {},
   "source": [
    "### AGRUPADO POR DÍA"
   ]
  },
  {
   "cell_type": "code",
   "execution_count": 57,
   "metadata": {},
   "outputs": [
    {
     "data": {
      "text/html": [
       "<div>\n",
       "<style scoped>\n",
       "    .dataframe tbody tr th:only-of-type {\n",
       "        vertical-align: middle;\n",
       "    }\n",
       "\n",
       "    .dataframe tbody tr th {\n",
       "        vertical-align: top;\n",
       "    }\n",
       "\n",
       "    .dataframe thead tr th {\n",
       "        text-align: left;\n",
       "    }\n",
       "\n",
       "    .dataframe thead tr:last-of-type th {\n",
       "        text-align: right;\n",
       "    }\n",
       "</style>\n",
       "<table border=\"1\" class=\"dataframe\">\n",
       "  <thead>\n",
       "    <tr>\n",
       "      <th></th>\n",
       "      <th>sum</th>\n",
       "      <th>len</th>\n",
       "    </tr>\n",
       "    <tr>\n",
       "      <th></th>\n",
       "      <th>total_due_x</th>\n",
       "      <th>total_due_x</th>\n",
       "    </tr>\n",
       "    <tr>\n",
       "      <th>report_date_local</th>\n",
       "      <th></th>\n",
       "      <th></th>\n",
       "    </tr>\n",
       "  </thead>\n",
       "  <tbody>\n",
       "    <tr>\n",
       "      <th>All</th>\n",
       "      <td>0.00</td>\n",
       "      <td>0.00</td>\n",
       "    </tr>\n",
       "  </tbody>\n",
       "</table>\n",
       "</div>"
      ],
      "text/plain": [
       "                          sum         len\n",
       "                  total_due_x total_due_x\n",
       "report_date_local                        \n",
       "All                      0.00        0.00"
      ]
     },
     "execution_count": 57,
     "metadata": {},
     "output_type": "execute_result"
    }
   ],
   "source": [
    "pivot_fecha_pago = pd.pivot_table(fecha_pago,index=['report_date_local'],\n",
    "                                  values=['total_due_x'],aggfunc = ['sum', len],margins=True)\n",
    "pivot_fecha_pago.head()"
   ]
  },
  {
   "cell_type": "code",
   "execution_count": 58,
   "metadata": {},
   "outputs": [
    {
     "data": {
      "text/plain": [
       "(1, 2)"
      ]
     },
     "execution_count": 58,
     "metadata": {},
     "output_type": "execute_result"
    }
   ],
   "source": [
    "pivot_fecha_pago.shape"
   ]
  },
  {
   "cell_type": "markdown",
   "metadata": {},
   "source": [
    "# PAGOS MANUALES"
   ]
  },
  {
   "cell_type": "code",
   "execution_count": 59,
   "metadata": {},
   "outputs": [
    {
     "data": {
      "text/plain": [
       "['G:\\\\.shortcut-targets-by-id\\\\1Oe28Mf9uSidMamjllDen2gkNnC59eSUr\\\\3.-Settlement\\\\5.-HISTORICO FILES PAGOS\\\\01. TRADICIONAL\\\\2023\\\\10. OCTOBER\\\\MANUALES\\\\Manuales 2023.10.01 - 2023.10.31.xlsx']"
      ]
     },
     "execution_count": 59,
     "metadata": {},
     "output_type": "execute_result"
    }
   ],
   "source": [
    "file_manual = glob.glob(r'G:\\.shortcut-targets-by-id\\1Oe28Mf9uSidMamjllDen2gkNnC59eSUr\\3.-Settlement\\5.-HISTORICO FILES PAGOS\\01. TRADICIONAL\\2023\\10. OCTOBER\\MANUALES\\*.xlsx', recursive=False)\n",
    "file_manual"
   ]
  },
  {
   "cell_type": "code",
   "execution_count": 60,
   "metadata": {},
   "outputs": [],
   "source": [
    "manuales_all = pd.concat([pd.read_excel(f,sheet_name='Formato Pago Manual',skiprows=1\n",
    "                                      ,converters={'Cta. CLABE de depósito':str,'report_id':str})\n",
    "                          .assign(file_name=os.path.basename(f)) for f in file_manual])\n",
    "manuales_all['Date']= pd.to_datetime(manuales_all['Date'])  \n",
    "manuales_all['Tipo'] = 'MANUAL'"
   ]
  },
  {
   "cell_type": "code",
   "execution_count": 61,
   "metadata": {},
   "outputs": [
    {
     "data": {
      "text/html": [
       "<div>\n",
       "<style scoped>\n",
       "    .dataframe tbody tr th:only-of-type {\n",
       "        vertical-align: middle;\n",
       "    }\n",
       "\n",
       "    .dataframe tbody tr th {\n",
       "        vertical-align: top;\n",
       "    }\n",
       "\n",
       "    .dataframe thead th {\n",
       "        text-align: right;\n",
       "    }\n",
       "</style>\n",
       "<table border=\"1\" class=\"dataframe\">\n",
       "  <thead>\n",
       "    <tr style=\"text-align: right;\">\n",
       "      <th></th>\n",
       "      <th>Date</th>\n",
       "      <th>ME ID</th>\n",
       "      <th>ME NAME</th>\n",
       "      <th>(mxn)</th>\n",
       "      <th>Banco</th>\n",
       "      <th>Justificación para el pago</th>\n",
       "      <th>Tipo</th>\n",
       "      <th>Report ID</th>\n",
       "    </tr>\n",
       "  </thead>\n",
       "  <tbody>\n",
       "    <tr>\n",
       "      <th>0</th>\n",
       "      <td>2023-10-18</td>\n",
       "      <td>5fa2bbe0-69d1-49b7-aa9c-35fff21d64c9</td>\n",
       "      <td>NaN</td>\n",
       "      <td>3,149.50</td>\n",
       "      <td>Banco Nacional de Mexico, S.A.</td>\n",
       "      <td>Reembolso al 50%</td>\n",
       "      <td>MANUAL</td>\n",
       "      <td>na</td>\n",
       "    </tr>\n",
       "    <tr>\n",
       "      <th>1</th>\n",
       "      <td>2023-10-18</td>\n",
       "      <td>732b7e39-84a5-42e0-915f-7f2311b5747c</td>\n",
       "      <td>NaN</td>\n",
       "      <td>400.00</td>\n",
       "      <td>Banco Regional de Monterrey</td>\n",
       "      <td>Solicitud de reembolsos manuales</td>\n",
       "      <td>MANUAL</td>\n",
       "      <td>na</td>\n",
       "    </tr>\n",
       "    <tr>\n",
       "      <th>2</th>\n",
       "      <td>2023-10-18</td>\n",
       "      <td>d06f3829-ae30-4a67-8599-ea7becf784d6</td>\n",
       "      <td>NaN</td>\n",
       "      <td>400.00</td>\n",
       "      <td>BBVA Bancomer, S.A.</td>\n",
       "      <td>Solicitud de reembolsos manuales</td>\n",
       "      <td>MANUAL</td>\n",
       "      <td>na</td>\n",
       "    </tr>\n",
       "    <tr>\n",
       "      <th>3</th>\n",
       "      <td>2023-10-18</td>\n",
       "      <td>b22579df-58a9-4b8b-af1f-e686bfb447c4</td>\n",
       "      <td>NaN</td>\n",
       "      <td>3.00</td>\n",
       "      <td>Kuspit Casa de Bolsa, S.A. de C.V.</td>\n",
       "      <td>Solicitud de reembolsos manuales</td>\n",
       "      <td>MANUAL</td>\n",
       "      <td>na</td>\n",
       "    </tr>\n",
       "    <tr>\n",
       "      <th>4</th>\n",
       "      <td>2023-10-18</td>\n",
       "      <td>b22579df-58a9-4b8b-af1f-e686bfb447c4</td>\n",
       "      <td>NaN</td>\n",
       "      <td>17.50</td>\n",
       "      <td>Kuspit Casa de Bolsa, S.A. de C.V.</td>\n",
       "      <td>Solicitud de reembolsos manuales</td>\n",
       "      <td>MANUAL</td>\n",
       "      <td>na</td>\n",
       "    </tr>\n",
       "  </tbody>\n",
       "</table>\n",
       "</div>"
      ],
      "text/plain": [
       "        Date                                 ME ID  ME NAME    (mxn)  \\\n",
       "0 2023-10-18  5fa2bbe0-69d1-49b7-aa9c-35fff21d64c9      NaN 3,149.50   \n",
       "1 2023-10-18  732b7e39-84a5-42e0-915f-7f2311b5747c      NaN   400.00   \n",
       "2 2023-10-18  d06f3829-ae30-4a67-8599-ea7becf784d6      NaN   400.00   \n",
       "3 2023-10-18  b22579df-58a9-4b8b-af1f-e686bfb447c4      NaN     3.00   \n",
       "4 2023-10-18  b22579df-58a9-4b8b-af1f-e686bfb447c4      NaN    17.50   \n",
       "\n",
       "                                Banco        Justificación para el pago  \\\n",
       "0      Banco Nacional de Mexico, S.A.                  Reembolso al 50%   \n",
       "1         Banco Regional de Monterrey  Solicitud de reembolsos manuales   \n",
       "2                 BBVA Bancomer, S.A.  Solicitud de reembolsos manuales   \n",
       "3  Kuspit Casa de Bolsa, S.A. de C.V.  Solicitud de reembolsos manuales   \n",
       "4  Kuspit Casa de Bolsa, S.A. de C.V.  Solicitud de reembolsos manuales   \n",
       "\n",
       "     Tipo Report ID  \n",
       "0  MANUAL        na  \n",
       "1  MANUAL        na  \n",
       "2  MANUAL        na  \n",
       "3  MANUAL        na  \n",
       "4  MANUAL        na  "
      ]
     },
     "execution_count": 61,
     "metadata": {},
     "output_type": "execute_result"
    }
   ],
   "source": [
    "manuales_final = manuales_all[['Date','ME ID','ME NAME',' (mxn)','Banco','Justificación para el pago','Tipo','Report ID']]\n",
    "manuales_final.head()"
   ]
  },
  {
   "cell_type": "code",
   "execution_count": 62,
   "metadata": {},
   "outputs": [
    {
     "data": {
      "text/plain": [
       "(6, 8)"
      ]
     },
     "execution_count": 62,
     "metadata": {},
     "output_type": "execute_result"
    }
   ],
   "source": [
    "manuales_final.shape"
   ]
  },
  {
   "cell_type": "code",
   "execution_count": 63,
   "metadata": {},
   "outputs": [
    {
     "data": {
      "text/plain": [
       "Index(['Date', 'ME ID', 'ME NAME', ' (mxn)', 'Banco',\n",
       "       'Justificación para el pago', 'Tipo', 'Report ID'],\n",
       "      dtype='object')"
      ]
     },
     "execution_count": 63,
     "metadata": {},
     "output_type": "execute_result"
    }
   ],
   "source": [
    "manuales_final.columns"
   ]
  },
  {
   "cell_type": "code",
   "execution_count": 64,
   "metadata": {},
   "outputs": [
    {
     "data": {
      "text/html": [
       "<div>\n",
       "<style scoped>\n",
       "    .dataframe tbody tr th:only-of-type {\n",
       "        vertical-align: middle;\n",
       "    }\n",
       "\n",
       "    .dataframe tbody tr th {\n",
       "        vertical-align: top;\n",
       "    }\n",
       "\n",
       "    .dataframe thead th {\n",
       "        text-align: right;\n",
       "    }\n",
       "</style>\n",
       "<table border=\"1\" class=\"dataframe\">\n",
       "  <thead>\n",
       "    <tr style=\"text-align: right;\">\n",
       "      <th></th>\n",
       "      <th>date_file</th>\n",
       "      <th>(mxn)</th>\n",
       "      <th>report_id</th>\n",
       "    </tr>\n",
       "  </thead>\n",
       "  <tbody>\n",
       "    <tr>\n",
       "      <th>0</th>\n",
       "      <td>2023-10-18</td>\n",
       "      <td>3,988.00</td>\n",
       "      <td>6</td>\n",
       "    </tr>\n",
       "  </tbody>\n",
       "</table>\n",
       "</div>"
      ],
      "text/plain": [
       "   date_file    (mxn)  report_id\n",
       "0 2023-10-18 3,988.00          6"
      ]
     },
     "execution_count": 64,
     "metadata": {},
     "output_type": "execute_result"
    }
   ],
   "source": [
    "group_manual = manuales_final.groupby(['Date']).agg({' (mxn)':sum,'Report ID':'count'}).reset_index()\n",
    "group_manual.rename(columns={'Date':'date_file','Report ID':'report_id'},inplace=True)\n",
    "group_manual.head()"
   ]
  },
  {
   "cell_type": "code",
   "execution_count": 65,
   "metadata": {},
   "outputs": [
    {
     "data": {
      "text/plain": [
       "(1, 3)"
      ]
     },
     "execution_count": 65,
     "metadata": {},
     "output_type": "execute_result"
    }
   ],
   "source": [
    "group_manual.shape"
   ]
  },
  {
   "cell_type": "markdown",
   "metadata": {},
   "source": [
    "# ACUMULADOS SETTLEMENT"
   ]
  },
  {
   "cell_type": "code",
   "execution_count": 66,
   "metadata": {},
   "outputs": [
    {
     "data": {
      "text/html": [
       "<div>\n",
       "<style scoped>\n",
       "    .dataframe tbody tr th:only-of-type {\n",
       "        vertical-align: middle;\n",
       "    }\n",
       "\n",
       "    .dataframe tbody tr th {\n",
       "        vertical-align: top;\n",
       "    }\n",
       "\n",
       "    .dataframe thead th {\n",
       "        text-align: right;\n",
       "    }\n",
       "</style>\n",
       "<table border=\"1\" class=\"dataframe\">\n",
       "  <thead>\n",
       "    <tr style=\"text-align: right;\">\n",
       "      <th></th>\n",
       "      <th>date_file</th>\n",
       "      <th>total_due</th>\n",
       "      <th>report_id</th>\n",
       "    </tr>\n",
       "  </thead>\n",
       "  <tbody>\n",
       "  </tbody>\n",
       "</table>\n",
       "</div>"
      ],
      "text/plain": [
       "Empty DataFrame\n",
       "Columns: [date_file, total_due, report_id]\n",
       "Index: []"
      ]
     },
     "execution_count": 66,
     "metadata": {},
     "output_type": "execute_result"
    }
   ],
   "source": [
    "conc_disp = cum_distinct_0.groupby(['report_date_local']).agg({'total_due':sum,'report_id':'count'}).reset_index()\n",
    "conc_disp.rename(columns={'report_date_local':'date_file'}, inplace=True)\n",
    "conc_disp.head()"
   ]
  },
  {
   "cell_type": "code",
   "execution_count": 67,
   "metadata": {},
   "outputs": [
    {
     "data": {
      "text/plain": [
       "(0, 3)"
      ]
     },
     "execution_count": 67,
     "metadata": {},
     "output_type": "execute_result"
    }
   ],
   "source": [
    "conc_disp.shape"
   ]
  },
  {
   "cell_type": "markdown",
   "metadata": {},
   "source": [
    "# MERGING ALL DATA FRAMES"
   ]
  },
  {
   "cell_type": "code",
   "execution_count": 68,
   "metadata": {},
   "outputs": [
    {
     "data": {
      "text/html": [
       "<div>\n",
       "<style scoped>\n",
       "    .dataframe tbody tr th:only-of-type {\n",
       "        vertical-align: middle;\n",
       "    }\n",
       "\n",
       "    .dataframe tbody tr th {\n",
       "        vertical-align: top;\n",
       "    }\n",
       "\n",
       "    .dataframe thead th {\n",
       "        text-align: right;\n",
       "    }\n",
       "</style>\n",
       "<table border=\"1\" class=\"dataframe\">\n",
       "  <thead>\n",
       "    <tr style=\"text-align: right;\">\n",
       "      <th></th>\n",
       "      <th>total_due_x</th>\n",
       "      <th>report_id_x</th>\n",
       "      <th>total_due_y</th>\n",
       "      <th>report_id_y</th>\n",
       "      <th>date_file</th>\n",
       "      <th>(mxn)</th>\n",
       "      <th>report_id</th>\n",
       "    </tr>\n",
       "  </thead>\n",
       "  <tbody>\n",
       "  </tbody>\n",
       "</table>\n",
       "</div>"
      ],
      "text/plain": [
       "Empty DataFrame\n",
       "Columns: [total_due_x, report_id_x, total_due_y, report_id_y, date_file,  (mxn), report_id]\n",
       "Index: []"
      ]
     },
     "execution_count": 68,
     "metadata": {},
     "output_type": "execute_result"
    }
   ],
   "source": [
    "total_1 = conc_disp.merge(group_repro[['date_file','total_due','report_id']],on='date_file',how='left') \\\n",
    ".merge(group_manual,on='date_file',how='left')\n",
    "total_1[' (mxn)'].fillna(0,inplace=True)\n",
    "total_1['report_id'].fillna(0,inplace=True)\n",
    "total_1.head()\n"
   ]
  },
  {
   "cell_type": "code",
   "execution_count": 69,
   "metadata": {},
   "outputs": [],
   "source": [
    "total_1['count_total_pago_dia'] = total_1['report_id_x'] + total_1['report_id_y'] + total_1['report_id']\n",
    "total_1['sum_total_pago_dia'] = total_1['total_due_x'] + total_1['total_due_y'] + total_1[' (mxn)']\n"
   ]
  },
  {
   "cell_type": "code",
   "execution_count": 70,
   "metadata": {},
   "outputs": [
    {
     "data": {
      "text/html": [
       "<div>\n",
       "<style scoped>\n",
       "    .dataframe tbody tr th:only-of-type {\n",
       "        vertical-align: middle;\n",
       "    }\n",
       "\n",
       "    .dataframe tbody tr th {\n",
       "        vertical-align: top;\n",
       "    }\n",
       "\n",
       "    .dataframe thead th {\n",
       "        text-align: right;\n",
       "    }\n",
       "</style>\n",
       "<table border=\"1\" class=\"dataframe\">\n",
       "  <thead>\n",
       "    <tr style=\"text-align: right;\">\n",
       "      <th></th>\n",
       "      <th>total_due_x</th>\n",
       "      <th>report_id_x</th>\n",
       "      <th>total_due_y</th>\n",
       "      <th>report_id_y</th>\n",
       "      <th>date_file</th>\n",
       "      <th>(mxn)</th>\n",
       "      <th>report_id</th>\n",
       "      <th>count_total_pago_dia</th>\n",
       "      <th>sum_total_pago_dia</th>\n",
       "    </tr>\n",
       "  </thead>\n",
       "  <tbody>\n",
       "  </tbody>\n",
       "</table>\n",
       "</div>"
      ],
      "text/plain": [
       "Empty DataFrame\n",
       "Columns: [total_due_x, report_id_x, total_due_y, report_id_y, date_file,  (mxn), report_id, count_total_pago_dia, sum_total_pago_dia]\n",
       "Index: []"
      ]
     },
     "execution_count": 70,
     "metadata": {},
     "output_type": "execute_result"
    }
   ],
   "source": [
    "total_1"
   ]
  },
  {
   "cell_type": "markdown",
   "metadata": {},
   "source": [
    "# ACUMULADOS PAGO DEL DIA"
   ]
  },
  {
   "cell_type": "code",
   "execution_count": 71,
   "metadata": {},
   "outputs": [
    {
     "data": {
      "text/html": [
       "<div>\n",
       "<style scoped>\n",
       "    .dataframe tbody tr th:only-of-type {\n",
       "        vertical-align: middle;\n",
       "    }\n",
       "\n",
       "    .dataframe tbody tr th {\n",
       "        vertical-align: top;\n",
       "    }\n",
       "\n",
       "    .dataframe thead th {\n",
       "        text-align: right;\n",
       "    }\n",
       "</style>\n",
       "<table border=\"1\" class=\"dataframe\">\n",
       "  <thead>\n",
       "    <tr style=\"text-align: right;\">\n",
       "      <th></th>\n",
       "      <th>date_file</th>\n",
       "      <th>total_due</th>\n",
       "      <th>report_id_x</th>\n",
       "      <th>total_due_x</th>\n",
       "      <th>report_id_y</th>\n",
       "      <th>(mxn)</th>\n",
       "      <th>report_id</th>\n",
       "    </tr>\n",
       "  </thead>\n",
       "  <tbody>\n",
       "    <tr>\n",
       "      <th>0</th>\n",
       "      <td>2023-10-01</td>\n",
       "      <td>390,174,141.62</td>\n",
       "      <td>153983</td>\n",
       "      <td>0</td>\n",
       "      <td>0.00</td>\n",
       "      <td>0.00</td>\n",
       "      <td>0.00</td>\n",
       "    </tr>\n",
       "    <tr>\n",
       "      <th>1</th>\n",
       "      <td>2023-10-02</td>\n",
       "      <td>209,046,611.19</td>\n",
       "      <td>83455</td>\n",
       "      <td>0</td>\n",
       "      <td>0.00</td>\n",
       "      <td>0.00</td>\n",
       "      <td>0.00</td>\n",
       "    </tr>\n",
       "    <tr>\n",
       "      <th>2</th>\n",
       "      <td>2023-10-03</td>\n",
       "      <td>204,340,823.86</td>\n",
       "      <td>101235</td>\n",
       "      <td>0</td>\n",
       "      <td>0.00</td>\n",
       "      <td>0.00</td>\n",
       "      <td>0.00</td>\n",
       "    </tr>\n",
       "    <tr>\n",
       "      <th>3</th>\n",
       "      <td>2023-10-04</td>\n",
       "      <td>202,366,034.81</td>\n",
       "      <td>102467</td>\n",
       "      <td>0</td>\n",
       "      <td>0.00</td>\n",
       "      <td>0.00</td>\n",
       "      <td>0.00</td>\n",
       "    </tr>\n",
       "    <tr>\n",
       "      <th>4</th>\n",
       "      <td>2023-10-05</td>\n",
       "      <td>205,388,933.65</td>\n",
       "      <td>103895</td>\n",
       "      <td>0</td>\n",
       "      <td>0.00</td>\n",
       "      <td>0.00</td>\n",
       "      <td>0.00</td>\n",
       "    </tr>\n",
       "  </tbody>\n",
       "</table>\n",
       "</div>"
      ],
      "text/plain": [
       "   date_file      total_due  report_id_x  total_due_x  report_id_y   (mxn)  \\\n",
       "0 2023-10-01 390,174,141.62       153983            0         0.00    0.00   \n",
       "1 2023-10-02 209,046,611.19        83455            0         0.00    0.00   \n",
       "2 2023-10-03 204,340,823.86       101235            0         0.00    0.00   \n",
       "3 2023-10-04 202,366,034.81       102467            0         0.00    0.00   \n",
       "4 2023-10-05 205,388,933.65       103895            0         0.00    0.00   \n",
       "\n",
       "   report_id  \n",
       "0       0.00  \n",
       "1       0.00  \n",
       "2       0.00  \n",
       "3       0.00  \n",
       "4       0.00  "
      ]
     },
     "execution_count": 71,
     "metadata": {},
     "output_type": "execute_result"
    }
   ],
   "source": [
    "total_2 = group_allpagos.merge(group_notfound[['date_file','total_due_x','report_id']],on='date_file',how='left')\\\n",
    ".merge(group_manual,on='date_file',how='left')\n",
    "total_2[' (mxn)'].fillna(0,inplace=True)\n",
    "total_2['report_id'].fillna(0,inplace=True)\n",
    "total_2['total_due_x'].fillna(0,inplace=True)\n",
    "total_2['report_id_y'].fillna(0,inplace=True)\n",
    "total_2.head()"
   ]
  },
  {
   "cell_type": "code",
   "execution_count": 72,
   "metadata": {},
   "outputs": [],
   "source": [
    "total_2['count_swap_dia'] = total_2['report_id_x'] + total_2['report_id_y'] + total_2['report_id']\n",
    "total_2['sum_swap_dia'] = total_2['total_due'] + total_2['total_due_x'] + total_2[' (mxn)']"
   ]
  },
  {
   "cell_type": "code",
   "execution_count": 73,
   "metadata": {},
   "outputs": [
    {
     "data": {
      "text/html": [
       "<div>\n",
       "<style scoped>\n",
       "    .dataframe tbody tr th:only-of-type {\n",
       "        vertical-align: middle;\n",
       "    }\n",
       "\n",
       "    .dataframe tbody tr th {\n",
       "        vertical-align: top;\n",
       "    }\n",
       "\n",
       "    .dataframe thead th {\n",
       "        text-align: right;\n",
       "    }\n",
       "</style>\n",
       "<table border=\"1\" class=\"dataframe\">\n",
       "  <thead>\n",
       "    <tr style=\"text-align: right;\">\n",
       "      <th></th>\n",
       "      <th>date_file</th>\n",
       "      <th>total_due</th>\n",
       "      <th>report_id_x</th>\n",
       "      <th>total_due_x</th>\n",
       "      <th>report_id_y</th>\n",
       "      <th>(mxn)</th>\n",
       "      <th>report_id</th>\n",
       "      <th>count_swap_dia</th>\n",
       "      <th>sum_swap_dia</th>\n",
       "    </tr>\n",
       "  </thead>\n",
       "  <tbody>\n",
       "    <tr>\n",
       "      <th>0</th>\n",
       "      <td>2023-10-01</td>\n",
       "      <td>390,174,141.62</td>\n",
       "      <td>153983</td>\n",
       "      <td>0</td>\n",
       "      <td>0.00</td>\n",
       "      <td>0.00</td>\n",
       "      <td>0.00</td>\n",
       "      <td>153,983.00</td>\n",
       "      <td>390,174,141.62</td>\n",
       "    </tr>\n",
       "    <tr>\n",
       "      <th>1</th>\n",
       "      <td>2023-10-02</td>\n",
       "      <td>209,046,611.19</td>\n",
       "      <td>83455</td>\n",
       "      <td>0</td>\n",
       "      <td>0.00</td>\n",
       "      <td>0.00</td>\n",
       "      <td>0.00</td>\n",
       "      <td>83,455.00</td>\n",
       "      <td>209,046,611.19</td>\n",
       "    </tr>\n",
       "    <tr>\n",
       "      <th>2</th>\n",
       "      <td>2023-10-03</td>\n",
       "      <td>204,340,823.86</td>\n",
       "      <td>101235</td>\n",
       "      <td>0</td>\n",
       "      <td>0.00</td>\n",
       "      <td>0.00</td>\n",
       "      <td>0.00</td>\n",
       "      <td>101,235.00</td>\n",
       "      <td>204,340,823.86</td>\n",
       "    </tr>\n",
       "    <tr>\n",
       "      <th>3</th>\n",
       "      <td>2023-10-04</td>\n",
       "      <td>202,366,034.81</td>\n",
       "      <td>102467</td>\n",
       "      <td>0</td>\n",
       "      <td>0.00</td>\n",
       "      <td>0.00</td>\n",
       "      <td>0.00</td>\n",
       "      <td>102,467.00</td>\n",
       "      <td>202,366,034.81</td>\n",
       "    </tr>\n",
       "    <tr>\n",
       "      <th>4</th>\n",
       "      <td>2023-10-05</td>\n",
       "      <td>205,388,933.65</td>\n",
       "      <td>103895</td>\n",
       "      <td>0</td>\n",
       "      <td>0.00</td>\n",
       "      <td>0.00</td>\n",
       "      <td>0.00</td>\n",
       "      <td>103,895.00</td>\n",
       "      <td>205,388,933.65</td>\n",
       "    </tr>\n",
       "  </tbody>\n",
       "</table>\n",
       "</div>"
      ],
      "text/plain": [
       "   date_file      total_due  report_id_x  total_due_x  report_id_y   (mxn)  \\\n",
       "0 2023-10-01 390,174,141.62       153983            0         0.00    0.00   \n",
       "1 2023-10-02 209,046,611.19        83455            0         0.00    0.00   \n",
       "2 2023-10-03 204,340,823.86       101235            0         0.00    0.00   \n",
       "3 2023-10-04 202,366,034.81       102467            0         0.00    0.00   \n",
       "4 2023-10-05 205,388,933.65       103895            0         0.00    0.00   \n",
       "\n",
       "   report_id  count_swap_dia   sum_swap_dia  \n",
       "0       0.00      153,983.00 390,174,141.62  \n",
       "1       0.00       83,455.00 209,046,611.19  \n",
       "2       0.00      101,235.00 204,340,823.86  \n",
       "3       0.00      102,467.00 202,366,034.81  \n",
       "4       0.00      103,895.00 205,388,933.65  "
      ]
     },
     "execution_count": 73,
     "metadata": {},
     "output_type": "execute_result"
    }
   ],
   "source": [
    "total_2.head()"
   ]
  },
  {
   "cell_type": "code",
   "execution_count": 74,
   "metadata": {},
   "outputs": [
    {
     "data": {
      "text/plain": [
       "(31, 9)"
      ]
     },
     "execution_count": 74,
     "metadata": {},
     "output_type": "execute_result"
    }
   ],
   "source": [
    "total_2.shape"
   ]
  },
  {
   "cell_type": "markdown",
   "metadata": {},
   "source": [
    "# COMPARACION FINAL"
   ]
  },
  {
   "cell_type": "code",
   "execution_count": 75,
   "metadata": {},
   "outputs": [
    {
     "data": {
      "text/html": [
       "<div>\n",
       "<style scoped>\n",
       "    .dataframe tbody tr th:only-of-type {\n",
       "        vertical-align: middle;\n",
       "    }\n",
       "\n",
       "    .dataframe tbody tr th {\n",
       "        vertical-align: top;\n",
       "    }\n",
       "\n",
       "    .dataframe thead th {\n",
       "        text-align: right;\n",
       "    }\n",
       "</style>\n",
       "<table border=\"1\" class=\"dataframe\">\n",
       "  <thead>\n",
       "    <tr style=\"text-align: right;\">\n",
       "      <th></th>\n",
       "      <th>count_total_pago_dia</th>\n",
       "      <th>sum_total_pago_dia</th>\n",
       "      <th>date_file</th>\n",
       "      <th>count_swap_dia</th>\n",
       "      <th>sum_swap_dia</th>\n",
       "    </tr>\n",
       "  </thead>\n",
       "  <tbody>\n",
       "  </tbody>\n",
       "</table>\n",
       "</div>"
      ],
      "text/plain": [
       "Empty DataFrame\n",
       "Columns: [count_total_pago_dia, sum_total_pago_dia, date_file, count_swap_dia, sum_swap_dia]\n",
       "Index: []"
      ]
     },
     "execution_count": 75,
     "metadata": {},
     "output_type": "execute_result"
    }
   ],
   "source": [
    "final_comparacion = total_1[['date_file','count_total_pago_dia','sum_total_pago_dia']] \\\n",
    ".merge(total_2[['date_file','count_swap_dia','sum_swap_dia']],on='date_file',how='left')\n",
    "final_comparacion.head()"
   ]
  },
  {
   "cell_type": "code",
   "execution_count": 76,
   "metadata": {},
   "outputs": [],
   "source": [
    "final_comparacion['diff_count'] = final_comparacion['count_total_pago_dia'] - final_comparacion['count_swap_dia']\n",
    "final_comparacion['diff_sum'] = final_comparacion['sum_total_pago_dia'] - final_comparacion['sum_swap_dia']"
   ]
  },
  {
   "cell_type": "code",
   "execution_count": 77,
   "metadata": {
    "scrolled": true
   },
   "outputs": [
    {
     "data": {
      "text/html": [
       "<div>\n",
       "<style scoped>\n",
       "    .dataframe tbody tr th:only-of-type {\n",
       "        vertical-align: middle;\n",
       "    }\n",
       "\n",
       "    .dataframe tbody tr th {\n",
       "        vertical-align: top;\n",
       "    }\n",
       "\n",
       "    .dataframe thead th {\n",
       "        text-align: right;\n",
       "    }\n",
       "</style>\n",
       "<table border=\"1\" class=\"dataframe\">\n",
       "  <thead>\n",
       "    <tr style=\"text-align: right;\">\n",
       "      <th></th>\n",
       "      <th>count_total_pago_dia</th>\n",
       "      <th>sum_total_pago_dia</th>\n",
       "      <th>date_file</th>\n",
       "      <th>count_swap_dia</th>\n",
       "      <th>sum_swap_dia</th>\n",
       "      <th>diff_count</th>\n",
       "      <th>diff_sum</th>\n",
       "    </tr>\n",
       "  </thead>\n",
       "  <tbody>\n",
       "  </tbody>\n",
       "</table>\n",
       "</div>"
      ],
      "text/plain": [
       "Empty DataFrame\n",
       "Columns: [count_total_pago_dia, sum_total_pago_dia, date_file, count_swap_dia, sum_swap_dia, diff_count, diff_sum]\n",
       "Index: []"
      ]
     },
     "execution_count": 77,
     "metadata": {},
     "output_type": "execute_result"
    }
   ],
   "source": [
    "final_comparacion"
   ]
  },
  {
   "cell_type": "code",
   "execution_count": 78,
   "metadata": {},
   "outputs": [],
   "source": [
    "writer = pd.ExcelWriter('FASE III. SETTLED VS PAGO DIA OCTUBRE 2023.xlsx',\n",
    "                        engine='xlsxwriter',\n",
    "                        engine_kwargs={'options': {'encoding':'utf-8'}})\n",
    "pivot_fecha_pago.to_excel(writer, sheet_name='ENVIADOS POSTERIOR')\n",
    "fecha_pago.to_excel(writer, sheet_name='DETAIL NO ENCONTRADO',index=False)\n",
    "pivot_duplicates_trad.to_excel(writer, sheet_name='PAGOS DUPLICADOS')\n",
    "pivot_duplicates_fp.to_excel(writer, sheet_name='FP PAGOS DUPLICADOS')\n",
    "group_manual.to_excel(writer, sheet_name='PAGOS MANUALES')\n",
    "writer.close()"
   ]
  },
  {
   "cell_type": "code",
   "execution_count": null,
   "metadata": {},
   "outputs": [],
   "source": []
  }
 ],
 "metadata": {
  "kernelspec": {
   "display_name": "Python 3 (ipykernel)",
   "language": "python",
   "name": "python3"
  },
  "language_info": {
   "codemirror_mode": {
    "name": "ipython",
    "version": 3
   },
   "file_extension": ".py",
   "mimetype": "text/x-python",
   "name": "python",
   "nbconvert_exporter": "python",
   "pygments_lexer": "ipython3",
   "version": "3.9.18"
  }
 },
 "nbformat": 4,
 "nbformat_minor": 4
}
