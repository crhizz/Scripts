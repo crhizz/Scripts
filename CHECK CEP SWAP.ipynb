{
 "cells": [
  {
   "cell_type": "code",
   "execution_count": 1,
   "metadata": {},
   "outputs": [],
   "source": [
    "import pandas as pd\n",
    "import numpy as np\n",
    "from openpyxl import load_workbook\n",
    "import glob\n",
    "import os\n",
    "pd.options.display.float_format = '{:,.2f}'.format"
   ]
  },
  {
   "cell_type": "markdown",
   "metadata": {},
   "source": [
    "### NOVIEMBRE"
   ]
  },
  {
   "cell_type": "code",
   "execution_count": 2,
   "metadata": {},
   "outputs": [],
   "source": [
    "name_header = ['fecha_cep','clave_rastreo','clave_emisor','clave_receptor','clabe','monto']"
   ]
  },
  {
   "cell_type": "code",
   "execution_count": 7,
   "metadata": {},
   "outputs": [],
   "source": [
    "cep_files_txt = glob.glob(r'C:\\Users\\Cristian.Aparicio\\Documents\\DISPERSIONES\\2021\\0**\\CEP\\*.txt', recursive=False)"
   ]
  },
  {
   "cell_type": "code",
   "execution_count": 8,
   "metadata": {},
   "outputs": [
    {
     "data": {
      "text/html": [
       "<div>\n",
       "<style scoped>\n",
       "    .dataframe tbody tr th:only-of-type {\n",
       "        vertical-align: middle;\n",
       "    }\n",
       "\n",
       "    .dataframe tbody tr th {\n",
       "        vertical-align: top;\n",
       "    }\n",
       "\n",
       "    .dataframe thead th {\n",
       "        text-align: right;\n",
       "    }\n",
       "</style>\n",
       "<table border=\"1\" class=\"dataframe\">\n",
       "  <thead>\n",
       "    <tr style=\"text-align: right;\">\n",
       "      <th></th>\n",
       "      <th>fecha_cep</th>\n",
       "      <th>clave_rastreo</th>\n",
       "      <th>clave_emisor</th>\n",
       "      <th>clave_receptor</th>\n",
       "      <th>clabe</th>\n",
       "      <th>monto</th>\n",
       "    </tr>\n",
       "  </thead>\n",
       "  <tbody>\n",
       "    <tr>\n",
       "      <th>0</th>\n",
       "      <td>2020-01-04</td>\n",
       "      <td>2021010440014 BET0000447164320</td>\n",
       "      <td>40014</td>\n",
       "      <td>40002</td>\n",
       "      <td>002164701641371962</td>\n",
       "      <td>63.24</td>\n",
       "    </tr>\n",
       "    <tr>\n",
       "      <th>1</th>\n",
       "      <td>2020-01-04</td>\n",
       "      <td>2021010440014 BET0000447164350</td>\n",
       "      <td>40014</td>\n",
       "      <td>40012</td>\n",
       "      <td>012260001929754329</td>\n",
       "      <td>47.91</td>\n",
       "    </tr>\n",
       "    <tr>\n",
       "      <th>2</th>\n",
       "      <td>2020-01-04</td>\n",
       "      <td>2021010440014 BET0000447164370</td>\n",
       "      <td>40014</td>\n",
       "      <td>40002</td>\n",
       "      <td>002180700872579149</td>\n",
       "      <td>19,164.80</td>\n",
       "    </tr>\n",
       "    <tr>\n",
       "      <th>3</th>\n",
       "      <td>2020-01-04</td>\n",
       "      <td>2021010440014 BET0000447164420</td>\n",
       "      <td>40014</td>\n",
       "      <td>40072</td>\n",
       "      <td>072823002785209180</td>\n",
       "      <td>28.63</td>\n",
       "    </tr>\n",
       "    <tr>\n",
       "      <th>4</th>\n",
       "      <td>2020-01-04</td>\n",
       "      <td>2021010440014 BET0000447164460</td>\n",
       "      <td>40014</td>\n",
       "      <td>40012</td>\n",
       "      <td>012580015212500383</td>\n",
       "      <td>129.53</td>\n",
       "    </tr>\n",
       "  </tbody>\n",
       "</table>\n",
       "</div>"
      ],
      "text/plain": [
       "    fecha_cep                   clave_rastreo clave_emisor clave_receptor  \\\n",
       "0  2020-01-04  2021010440014 BET0000447164320        40014          40002   \n",
       "1  2020-01-04  2021010440014 BET0000447164350        40014          40012   \n",
       "2  2020-01-04  2021010440014 BET0000447164370        40014          40002   \n",
       "3  2020-01-04  2021010440014 BET0000447164420        40014          40072   \n",
       "4  2020-01-04  2021010440014 BET0000447164460        40014          40012   \n",
       "\n",
       "                clabe     monto  \n",
       "0  002164701641371962     63.24  \n",
       "1  012260001929754329     47.91  \n",
       "2  002180700872579149 19,164.80  \n",
       "3  072823002785209180     28.63  \n",
       "4  012580015212500383    129.53  "
      ]
     },
     "execution_count": 8,
     "metadata": {},
     "output_type": "execute_result"
    }
   ],
   "source": [
    "cep_files = pd.concat([pd.read_csv(f,names=name_header\n",
    "                                   ,dtype={'clave_rastreo':object,'clave_emisor':object,'clave_receptor':object,'clabe':object}) for f in cep_files_txt])\n",
    "cep_files.head()"
   ]
  },
  {
   "cell_type": "code",
   "execution_count": 9,
   "metadata": {},
   "outputs": [
    {
     "data": {
      "text/plain": [
       "(3927341, 6)"
      ]
     },
     "execution_count": 9,
     "metadata": {},
     "output_type": "execute_result"
    }
   ],
   "source": [
    "cep_files.shape"
   ]
  },
  {
   "cell_type": "markdown",
   "metadata": {},
   "source": [
    "### CHECK REPORT_ID"
   ]
  },
  {
   "cell_type": "code",
   "execution_count": 12,
   "metadata": {
    "scrolled": true
   },
   "outputs": [
    {
     "data": {
      "text/html": [
       "<div>\n",
       "<style scoped>\n",
       "    .dataframe tbody tr th:only-of-type {\n",
       "        vertical-align: middle;\n",
       "    }\n",
       "\n",
       "    .dataframe tbody tr th {\n",
       "        vertical-align: top;\n",
       "    }\n",
       "\n",
       "    .dataframe thead th {\n",
       "        text-align: right;\n",
       "    }\n",
       "</style>\n",
       "<table border=\"1\" class=\"dataframe\">\n",
       "  <thead>\n",
       "    <tr style=\"text-align: right;\">\n",
       "      <th></th>\n",
       "      <th>fecha_cep</th>\n",
       "      <th>clave_rastreo</th>\n",
       "      <th>clave_emisor</th>\n",
       "      <th>clave_receptor</th>\n",
       "      <th>clabe</th>\n",
       "      <th>monto</th>\n",
       "    </tr>\n",
       "  </thead>\n",
       "  <tbody>\n",
       "    <tr>\n",
       "      <th>54507</th>\n",
       "      <td>2021-03-24</td>\n",
       "      <td>178656EDE8441B83</td>\n",
       "      <td>40002</td>\n",
       "      <td>40659</td>\n",
       "      <td>659802020000076773</td>\n",
       "      <td>1,355.91</td>\n",
       "    </tr>\n",
       "    <tr>\n",
       "      <th>54561</th>\n",
       "      <td>2021-03-24</td>\n",
       "      <td>178656EDDEC3E110</td>\n",
       "      <td>40002</td>\n",
       "      <td>40659</td>\n",
       "      <td>659802027000226555</td>\n",
       "      <td>138.94</td>\n",
       "    </tr>\n",
       "  </tbody>\n",
       "</table>\n",
       "</div>"
      ],
      "text/plain": [
       "        fecha_cep     clave_rastreo clave_emisor clave_receptor  \\\n",
       "54507  2021-03-24  178656EDE8441B83        40002          40659   \n",
       "54561  2021-03-24  178656EDDEC3E110        40002          40659   \n",
       "\n",
       "                    clabe    monto  \n",
       "54507  659802020000076773 1,355.91  \n",
       "54561  659802027000226555   138.94  "
      ]
     },
     "execution_count": 12,
     "metadata": {},
     "output_type": "execute_result"
    }
   ],
   "source": [
    "check = cep_files[(cep_files['clave_rastreo'].isin(['178656EDDEC3E110','178656EDE8441B83']))]\n",
    "check"
   ]
  },
  {
   "cell_type": "code",
   "execution_count": 13,
   "metadata": {},
   "outputs": [],
   "source": [
    "check.to_csv('CEPS.csv',index=False)"
   ]
  },
  {
   "cell_type": "code",
   "execution_count": null,
   "metadata": {},
   "outputs": [],
   "source": []
  }
 ],
 "metadata": {
  "kernelspec": {
   "display_name": "Python 3",
   "language": "python",
   "name": "python3"
  },
  "language_info": {
   "codemirror_mode": {
    "name": "ipython",
    "version": 3
   },
   "file_extension": ".py",
   "mimetype": "text/x-python",
   "name": "python",
   "nbconvert_exporter": "python",
   "pygments_lexer": "ipython3",
   "version": "3.7.6"
  }
 },
 "nbformat": 4,
 "nbformat_minor": 4
}
