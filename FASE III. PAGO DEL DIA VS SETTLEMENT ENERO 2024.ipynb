{
 "cells": [
  {
   "cell_type": "code",
   "execution_count": 1,
   "metadata": {},
   "outputs": [],
   "source": [
    "import pandas as pd\n",
    "import numpy as np\n",
    "import glob\n",
    "import os\n",
    "from openpyxl import load_workbook\n",
    "from functools import reduce\n",
    "pd.options.display.float_format = '{:,.2f}'.format"
   ]
  },
  {
   "cell_type": "markdown",
   "metadata": {},
   "source": [
    "#### ACUMULADO"
   ]
  },
  {
   "cell_type": "code",
   "execution_count": 2,
   "metadata": {},
   "outputs": [
    {
     "data": {
      "text/plain": [
       "['C:\\\\Users\\\\Cristian.Aparicio\\\\Documents\\\\DISPERSIONES\\\\2024\\\\01. ENERO\\\\QUERIES\\\\SETTLEMENT 2024-01-01.csv',\n",
       " 'C:\\\\Users\\\\Cristian.Aparicio\\\\Documents\\\\DISPERSIONES\\\\2024\\\\01. ENERO\\\\QUERIES\\\\SETTLEMENT 2024-01-02.csv',\n",
       " 'C:\\\\Users\\\\Cristian.Aparicio\\\\Documents\\\\DISPERSIONES\\\\2024\\\\01. ENERO\\\\QUERIES\\\\SETTLEMENT 2024-01-03.csv',\n",
       " 'C:\\\\Users\\\\Cristian.Aparicio\\\\Documents\\\\DISPERSIONES\\\\2024\\\\01. ENERO\\\\QUERIES\\\\SETTLEMENT 2024-01-04.csv',\n",
       " 'C:\\\\Users\\\\Cristian.Aparicio\\\\Documents\\\\DISPERSIONES\\\\2024\\\\01. ENERO\\\\QUERIES\\\\SETTLEMENT 2024-01-05.csv',\n",
       " 'C:\\\\Users\\\\Cristian.Aparicio\\\\Documents\\\\DISPERSIONES\\\\2024\\\\01. ENERO\\\\QUERIES\\\\SETTLEMENT 2024-01-06.csv',\n",
       " 'C:\\\\Users\\\\Cristian.Aparicio\\\\Documents\\\\DISPERSIONES\\\\2024\\\\01. ENERO\\\\QUERIES\\\\SETTLEMENT 2024-01-07.csv',\n",
       " 'C:\\\\Users\\\\Cristian.Aparicio\\\\Documents\\\\DISPERSIONES\\\\2024\\\\01. ENERO\\\\QUERIES\\\\SETTLEMENT 2024-01-08.csv',\n",
       " 'C:\\\\Users\\\\Cristian.Aparicio\\\\Documents\\\\DISPERSIONES\\\\2024\\\\01. ENERO\\\\QUERIES\\\\SETTLEMENT 2024-01-09.csv',\n",
       " 'C:\\\\Users\\\\Cristian.Aparicio\\\\Documents\\\\DISPERSIONES\\\\2024\\\\01. ENERO\\\\QUERIES\\\\SETTLEMENT 2024-01-10.csv',\n",
       " 'C:\\\\Users\\\\Cristian.Aparicio\\\\Documents\\\\DISPERSIONES\\\\2024\\\\01. ENERO\\\\QUERIES\\\\SETTLEMENT 2024-01-11.csv',\n",
       " 'C:\\\\Users\\\\Cristian.Aparicio\\\\Documents\\\\DISPERSIONES\\\\2024\\\\01. ENERO\\\\QUERIES\\\\SETTLEMENT 2024-01-12.csv',\n",
       " 'C:\\\\Users\\\\Cristian.Aparicio\\\\Documents\\\\DISPERSIONES\\\\2024\\\\01. ENERO\\\\QUERIES\\\\SETTLEMENT 2024-01-13.csv',\n",
       " 'C:\\\\Users\\\\Cristian.Aparicio\\\\Documents\\\\DISPERSIONES\\\\2024\\\\01. ENERO\\\\QUERIES\\\\SETTLEMENT 2024-01-14.csv',\n",
       " 'C:\\\\Users\\\\Cristian.Aparicio\\\\Documents\\\\DISPERSIONES\\\\2024\\\\01. ENERO\\\\QUERIES\\\\SETTLEMENT 2024-01-15.csv',\n",
       " 'C:\\\\Users\\\\Cristian.Aparicio\\\\Documents\\\\DISPERSIONES\\\\2024\\\\01. ENERO\\\\QUERIES\\\\SETTLEMENT 2024-01-16.csv',\n",
       " 'C:\\\\Users\\\\Cristian.Aparicio\\\\Documents\\\\DISPERSIONES\\\\2024\\\\01. ENERO\\\\QUERIES\\\\SETTLEMENT 2024-01-17.csv',\n",
       " 'C:\\\\Users\\\\Cristian.Aparicio\\\\Documents\\\\DISPERSIONES\\\\2024\\\\01. ENERO\\\\QUERIES\\\\SETTLEMENT 2024-01-18.csv',\n",
       " 'C:\\\\Users\\\\Cristian.Aparicio\\\\Documents\\\\DISPERSIONES\\\\2024\\\\01. ENERO\\\\QUERIES\\\\SETTLEMENT 2024-01-19.csv',\n",
       " 'C:\\\\Users\\\\Cristian.Aparicio\\\\Documents\\\\DISPERSIONES\\\\2024\\\\01. ENERO\\\\QUERIES\\\\SETTLEMENT 2024-01-20.csv',\n",
       " 'C:\\\\Users\\\\Cristian.Aparicio\\\\Documents\\\\DISPERSIONES\\\\2024\\\\01. ENERO\\\\QUERIES\\\\SETTLEMENT 2024-01-21.csv',\n",
       " 'C:\\\\Users\\\\Cristian.Aparicio\\\\Documents\\\\DISPERSIONES\\\\2024\\\\01. ENERO\\\\QUERIES\\\\SETTLEMENT 2024-01-22.csv',\n",
       " 'C:\\\\Users\\\\Cristian.Aparicio\\\\Documents\\\\DISPERSIONES\\\\2024\\\\01. ENERO\\\\QUERIES\\\\SETTLEMENT 2024-01-23.csv',\n",
       " 'C:\\\\Users\\\\Cristian.Aparicio\\\\Documents\\\\DISPERSIONES\\\\2024\\\\01. ENERO\\\\QUERIES\\\\SETTLEMENT 2024-01-24.csv',\n",
       " 'C:\\\\Users\\\\Cristian.Aparicio\\\\Documents\\\\DISPERSIONES\\\\2024\\\\01. ENERO\\\\QUERIES\\\\SETTLEMENT 2024-01-25.csv',\n",
       " 'C:\\\\Users\\\\Cristian.Aparicio\\\\Documents\\\\DISPERSIONES\\\\2024\\\\01. ENERO\\\\QUERIES\\\\SETTLEMENT 2024-01-26.csv',\n",
       " 'C:\\\\Users\\\\Cristian.Aparicio\\\\Documents\\\\DISPERSIONES\\\\2024\\\\01. ENERO\\\\QUERIES\\\\SETTLEMENT 2024-01-27.csv',\n",
       " 'C:\\\\Users\\\\Cristian.Aparicio\\\\Documents\\\\DISPERSIONES\\\\2024\\\\01. ENERO\\\\QUERIES\\\\SETTLEMENT 2024-01-28.csv',\n",
       " 'C:\\\\Users\\\\Cristian.Aparicio\\\\Documents\\\\DISPERSIONES\\\\2024\\\\01. ENERO\\\\QUERIES\\\\SETTLEMENT 2024-01-29.csv',\n",
       " 'C:\\\\Users\\\\Cristian.Aparicio\\\\Documents\\\\DISPERSIONES\\\\2024\\\\01. ENERO\\\\QUERIES\\\\SETTLEMENT 2024-01-30.csv',\n",
       " 'C:\\\\Users\\\\Cristian.Aparicio\\\\Documents\\\\DISPERSIONES\\\\2024\\\\01. ENERO\\\\QUERIES\\\\SETTLEMENT 2024-01-31.csv']"
      ]
     },
     "execution_count": 2,
     "metadata": {},
     "output_type": "execute_result"
    }
   ],
   "source": [
    "cumfiles = glob.glob(r'C:\\Users\\Cristian.Aparicio\\Documents\\DISPERSIONES\\2024\\01. ENERO\\QUERIES\\*.csv', recursive=False)\n",
    "cumfiles"
   ]
  },
  {
   "cell_type": "code",
   "execution_count": 3,
   "metadata": {},
   "outputs": [
    {
     "data": {
      "text/html": [
       "<div>\n",
       "<style scoped>\n",
       "    .dataframe tbody tr th:only-of-type {\n",
       "        vertical-align: middle;\n",
       "    }\n",
       "\n",
       "    .dataframe tbody tr th {\n",
       "        vertical-align: top;\n",
       "    }\n",
       "\n",
       "    .dataframe thead th {\n",
       "        text-align: right;\n",
       "    }\n",
       "</style>\n",
       "<table border=\"1\" class=\"dataframe\">\n",
       "  <thead>\n",
       "    <tr style=\"text-align: right;\">\n",
       "      <th></th>\n",
       "      <th>merchant_id</th>\n",
       "      <th>merchant_name</th>\n",
       "      <th>user_email</th>\n",
       "      <th>report_id</th>\n",
       "      <th>report_date_local</th>\n",
       "      <th>total_transactions</th>\n",
       "      <th>total_fees_charged</th>\n",
       "      <th>total_taxes</th>\n",
       "      <th>applied_fees_benefits</th>\n",
       "      <th>applied_taxes_benefits</th>\n",
       "      <th>...</th>\n",
       "      <th>total_released</th>\n",
       "      <th>total_retained</th>\n",
       "      <th>tipopago</th>\n",
       "      <th>total_due</th>\n",
       "      <th>type</th>\n",
       "      <th>created_date</th>\n",
       "      <th>created_time</th>\n",
       "      <th>updated_date</th>\n",
       "      <th>updated_time</th>\n",
       "      <th>file_name</th>\n",
       "    </tr>\n",
       "  </thead>\n",
       "  <tbody>\n",
       "  </tbody>\n",
       "</table>\n",
       "<p>0 rows × 26 columns</p>\n",
       "</div>"
      ],
      "text/plain": [
       "Empty DataFrame\n",
       "Columns: [merchant_id, merchant_name, user_email, report_id, report_date_local, total_transactions, total_fees_charged, total_taxes, applied_fees_benefits, applied_taxes_benefits, fee_direct_deposit, taxes_direct_deposit, total_adjustments, total_adjustment_fees_charged, total_adjustment_taxes, cobranza, total_released, total_retained, tipopago, total_due, type, created_date, created_time, updated_date, updated_time, file_name]\n",
       "Index: []\n",
       "\n",
       "[0 rows x 26 columns]"
      ]
     },
     "execution_count": 3,
     "metadata": {},
     "output_type": "execute_result"
    }
   ],
   "source": [
    "cum_1 = pd.concat([pd.read_csv(f).assign(file_name=os.path.basename(f)) for f in cumfiles])\n",
    "cum_1.columns = cum_1.columns.str.strip().str.lower() \n",
    "cum_1['report_date_local']= pd.to_datetime(cum_1['report_date_local']) \n",
    "cum_1.head()"
   ]
  },
  {
   "cell_type": "code",
   "execution_count": 4,
   "metadata": {},
   "outputs": [
    {
     "data": {
      "text/plain": [
       "(0, 26)"
      ]
     },
     "execution_count": 4,
     "metadata": {},
     "output_type": "execute_result"
    }
   ],
   "source": [
    "cum_1.shape"
   ]
  },
  {
   "cell_type": "code",
   "execution_count": 5,
   "metadata": {},
   "outputs": [
    {
     "data": {
      "text/html": [
       "<div>\n",
       "<style scoped>\n",
       "    .dataframe tbody tr th:only-of-type {\n",
       "        vertical-align: middle;\n",
       "    }\n",
       "\n",
       "    .dataframe tbody tr th {\n",
       "        vertical-align: top;\n",
       "    }\n",
       "\n",
       "    .dataframe thead th {\n",
       "        text-align: right;\n",
       "    }\n",
       "</style>\n",
       "<table border=\"1\" class=\"dataframe\">\n",
       "  <thead>\n",
       "    <tr style=\"text-align: right;\">\n",
       "      <th></th>\n",
       "      <th>merchant_id</th>\n",
       "      <th>merchant_name</th>\n",
       "      <th>user_email</th>\n",
       "      <th>report_id</th>\n",
       "      <th>report_date_local</th>\n",
       "      <th>total_transactions</th>\n",
       "      <th>total_fees_charged</th>\n",
       "      <th>total_taxes</th>\n",
       "      <th>applied_fees_benefits</th>\n",
       "      <th>applied_taxes_benefits</th>\n",
       "      <th>...</th>\n",
       "      <th>total_released</th>\n",
       "      <th>total_retained</th>\n",
       "      <th>tipopago</th>\n",
       "      <th>total_due</th>\n",
       "      <th>type</th>\n",
       "      <th>created_date</th>\n",
       "      <th>created_time</th>\n",
       "      <th>updated_date</th>\n",
       "      <th>updated_time</th>\n",
       "      <th>file_name</th>\n",
       "    </tr>\n",
       "  </thead>\n",
       "  <tbody>\n",
       "  </tbody>\n",
       "</table>\n",
       "<p>0 rows × 26 columns</p>\n",
       "</div>"
      ],
      "text/plain": [
       "Empty DataFrame\n",
       "Columns: [merchant_id, merchant_name, user_email, report_id, report_date_local, total_transactions, total_fees_charged, total_taxes, applied_fees_benefits, applied_taxes_benefits, fee_direct_deposit, taxes_direct_deposit, total_adjustments, total_adjustment_fees_charged, total_adjustment_taxes, cobranza, total_released, total_retained, tipopago, total_due, type, created_date, created_time, updated_date, updated_time, file_name]\n",
       "Index: []\n",
       "\n",
       "[0 rows x 26 columns]"
      ]
     },
     "execution_count": 5,
     "metadata": {},
     "output_type": "execute_result"
    }
   ],
   "source": [
    "cum_distinct_0 = cum_1[(cum_1['total_due'] != 0)]\n",
    "cum_distinct_0.head()"
   ]
  },
  {
   "cell_type": "code",
   "execution_count": 6,
   "metadata": {},
   "outputs": [
    {
     "data": {
      "text/plain": [
       "(0, 26)"
      ]
     },
     "execution_count": 6,
     "metadata": {},
     "output_type": "execute_result"
    }
   ],
   "source": [
    "cum_distinct_0.shape"
   ]
  },
  {
   "cell_type": "markdown",
   "metadata": {},
   "source": [
    "#### PAGOS DE DISPERSIONES"
   ]
  },
  {
   "cell_type": "code",
   "execution_count": 7,
   "metadata": {},
   "outputs": [
    {
     "data": {
      "text/plain": [
       "['C:\\\\Users\\\\Cristian.Aparicio\\\\Documents\\\\DISPERSIONES\\\\2024\\\\01. ENERO\\\\ARCHIVO DISPERSIONES\\\\Dispersión-20240101.xlsx',\n",
       " 'C:\\\\Users\\\\Cristian.Aparicio\\\\Documents\\\\DISPERSIONES\\\\2024\\\\01. ENERO\\\\ARCHIVO DISPERSIONES\\\\Dispersión-20240102.xlsx',\n",
       " 'C:\\\\Users\\\\Cristian.Aparicio\\\\Documents\\\\DISPERSIONES\\\\2024\\\\01. ENERO\\\\ARCHIVO DISPERSIONES\\\\Dispersión-20240103.xlsx',\n",
       " 'C:\\\\Users\\\\Cristian.Aparicio\\\\Documents\\\\DISPERSIONES\\\\2024\\\\01. ENERO\\\\ARCHIVO DISPERSIONES\\\\Dispersión-20240104.xlsx',\n",
       " 'C:\\\\Users\\\\Cristian.Aparicio\\\\Documents\\\\DISPERSIONES\\\\2024\\\\01. ENERO\\\\ARCHIVO DISPERSIONES\\\\Dispersión-20240105.xlsx',\n",
       " 'C:\\\\Users\\\\Cristian.Aparicio\\\\Documents\\\\DISPERSIONES\\\\2024\\\\01. ENERO\\\\ARCHIVO DISPERSIONES\\\\Dispersión-20240106.xlsx',\n",
       " 'C:\\\\Users\\\\Cristian.Aparicio\\\\Documents\\\\DISPERSIONES\\\\2024\\\\01. ENERO\\\\ARCHIVO DISPERSIONES\\\\Dispersión-20240107.xlsx',\n",
       " 'C:\\\\Users\\\\Cristian.Aparicio\\\\Documents\\\\DISPERSIONES\\\\2024\\\\01. ENERO\\\\ARCHIVO DISPERSIONES\\\\Dispersión-20240108.xlsx',\n",
       " 'C:\\\\Users\\\\Cristian.Aparicio\\\\Documents\\\\DISPERSIONES\\\\2024\\\\01. ENERO\\\\ARCHIVO DISPERSIONES\\\\Dispersión-20240109.xlsx',\n",
       " 'C:\\\\Users\\\\Cristian.Aparicio\\\\Documents\\\\DISPERSIONES\\\\2024\\\\01. ENERO\\\\ARCHIVO DISPERSIONES\\\\Dispersión-20240110.xlsx',\n",
       " 'C:\\\\Users\\\\Cristian.Aparicio\\\\Documents\\\\DISPERSIONES\\\\2024\\\\01. ENERO\\\\ARCHIVO DISPERSIONES\\\\Dispersión-20240111.xlsx',\n",
       " 'C:\\\\Users\\\\Cristian.Aparicio\\\\Documents\\\\DISPERSIONES\\\\2024\\\\01. ENERO\\\\ARCHIVO DISPERSIONES\\\\Dispersión-20240112.xlsx',\n",
       " 'C:\\\\Users\\\\Cristian.Aparicio\\\\Documents\\\\DISPERSIONES\\\\2024\\\\01. ENERO\\\\ARCHIVO DISPERSIONES\\\\Dispersión-20240113.xlsx',\n",
       " 'C:\\\\Users\\\\Cristian.Aparicio\\\\Documents\\\\DISPERSIONES\\\\2024\\\\01. ENERO\\\\ARCHIVO DISPERSIONES\\\\Dispersión-20240114.xlsx',\n",
       " 'C:\\\\Users\\\\Cristian.Aparicio\\\\Documents\\\\DISPERSIONES\\\\2024\\\\01. ENERO\\\\ARCHIVO DISPERSIONES\\\\Dispersión-20240115.xlsx',\n",
       " 'C:\\\\Users\\\\Cristian.Aparicio\\\\Documents\\\\DISPERSIONES\\\\2024\\\\01. ENERO\\\\ARCHIVO DISPERSIONES\\\\Dispersión-20240116.xlsx',\n",
       " 'C:\\\\Users\\\\Cristian.Aparicio\\\\Documents\\\\DISPERSIONES\\\\2024\\\\01. ENERO\\\\ARCHIVO DISPERSIONES\\\\Dispersión-20240117.xlsx',\n",
       " 'C:\\\\Users\\\\Cristian.Aparicio\\\\Documents\\\\DISPERSIONES\\\\2024\\\\01. ENERO\\\\ARCHIVO DISPERSIONES\\\\Dispersión-20240118.xlsx',\n",
       " 'C:\\\\Users\\\\Cristian.Aparicio\\\\Documents\\\\DISPERSIONES\\\\2024\\\\01. ENERO\\\\ARCHIVO DISPERSIONES\\\\Dispersión-20240119.xlsx',\n",
       " 'C:\\\\Users\\\\Cristian.Aparicio\\\\Documents\\\\DISPERSIONES\\\\2024\\\\01. ENERO\\\\ARCHIVO DISPERSIONES\\\\Dispersión-20240120.xlsx',\n",
       " 'C:\\\\Users\\\\Cristian.Aparicio\\\\Documents\\\\DISPERSIONES\\\\2024\\\\01. ENERO\\\\ARCHIVO DISPERSIONES\\\\Dispersión-20240121.xlsx',\n",
       " 'C:\\\\Users\\\\Cristian.Aparicio\\\\Documents\\\\DISPERSIONES\\\\2024\\\\01. ENERO\\\\ARCHIVO DISPERSIONES\\\\Dispersión-20240122.xlsx',\n",
       " 'C:\\\\Users\\\\Cristian.Aparicio\\\\Documents\\\\DISPERSIONES\\\\2024\\\\01. ENERO\\\\ARCHIVO DISPERSIONES\\\\Dispersión-20240123.xlsx',\n",
       " 'C:\\\\Users\\\\Cristian.Aparicio\\\\Documents\\\\DISPERSIONES\\\\2024\\\\01. ENERO\\\\ARCHIVO DISPERSIONES\\\\Dispersión-20240124.xlsx',\n",
       " 'C:\\\\Users\\\\Cristian.Aparicio\\\\Documents\\\\DISPERSIONES\\\\2024\\\\01. ENERO\\\\ARCHIVO DISPERSIONES\\\\Dispersión-20240125.xlsx',\n",
       " 'C:\\\\Users\\\\Cristian.Aparicio\\\\Documents\\\\DISPERSIONES\\\\2024\\\\01. ENERO\\\\ARCHIVO DISPERSIONES\\\\Dispersión-20240126.xlsx',\n",
       " 'C:\\\\Users\\\\Cristian.Aparicio\\\\Documents\\\\DISPERSIONES\\\\2024\\\\01. ENERO\\\\ARCHIVO DISPERSIONES\\\\Dispersión-20240127.xlsx',\n",
       " 'C:\\\\Users\\\\Cristian.Aparicio\\\\Documents\\\\DISPERSIONES\\\\2024\\\\01. ENERO\\\\ARCHIVO DISPERSIONES\\\\Dispersión-20240128.xlsx',\n",
       " 'C:\\\\Users\\\\Cristian.Aparicio\\\\Documents\\\\DISPERSIONES\\\\2024\\\\01. ENERO\\\\ARCHIVO DISPERSIONES\\\\Dispersión-20240129.xlsx',\n",
       " 'C:\\\\Users\\\\Cristian.Aparicio\\\\Documents\\\\DISPERSIONES\\\\2024\\\\01. ENERO\\\\ARCHIVO DISPERSIONES\\\\Dispersión-20240130.xlsx',\n",
       " 'C:\\\\Users\\\\Cristian.Aparicio\\\\Documents\\\\DISPERSIONES\\\\2024\\\\01. ENERO\\\\ARCHIVO DISPERSIONES\\\\Dispersión-20240131.xlsx']"
      ]
     },
     "execution_count": 7,
     "metadata": {},
     "output_type": "execute_result"
    }
   ],
   "source": [
    "pagos_dia_files_1 = glob.glob(r'C:\\Users\\Cristian.Aparicio\\Documents\\DISPERSIONES\\2024\\01. ENERO\\ARCHIVO DISPERSIONES\\Dispersión*.xlsx', recursive=False)\n",
    "pagos_dia_files_1"
   ]
  },
  {
   "cell_type": "code",
   "execution_count": 8,
   "metadata": {},
   "outputs": [
    {
     "data": {
      "text/html": [
       "<div>\n",
       "<style scoped>\n",
       "    .dataframe tbody tr th:only-of-type {\n",
       "        vertical-align: middle;\n",
       "    }\n",
       "\n",
       "    .dataframe tbody tr th {\n",
       "        vertical-align: top;\n",
       "    }\n",
       "\n",
       "    .dataframe thead th {\n",
       "        text-align: right;\n",
       "    }\n",
       "</style>\n",
       "<table border=\"1\" class=\"dataframe\">\n",
       "  <thead>\n",
       "    <tr style=\"text-align: right;\">\n",
       "      <th></th>\n",
       "      <th>type</th>\n",
       "      <th>merchant_id</th>\n",
       "      <th>merchant_name</th>\n",
       "      <th>user_email</th>\n",
       "      <th>report_id</th>\n",
       "      <th>report_date_local</th>\n",
       "      <th>total_due</th>\n",
       "      <th>tipo</th>\n",
       "      <th>bank</th>\n",
       "      <th>bank_account_owner_name</th>\n",
       "      <th>CLABE</th>\n",
       "      <th>status</th>\n",
       "      <th>LINEA CEP</th>\n",
       "      <th>Batch_time</th>\n",
       "      <th>Banco_emisor</th>\n",
       "      <th>file_name</th>\n",
       "      <th>date_file</th>\n",
       "    </tr>\n",
       "  </thead>\n",
       "  <tbody>\n",
       "    <tr>\n",
       "      <th>0</th>\n",
       "      <td>LEDGER_TRAD</td>\n",
       "      <td>03c36e07-4550-4a03-addc-23932ed78f86</td>\n",
       "      <td>NaN</td>\n",
       "      <td>NaN</td>\n",
       "      <td>A935WHWRG</td>\n",
       "      <td>2024-01-01</td>\n",
       "      <td>267.34</td>\n",
       "      <td>Pago del día</td>\n",
       "      <td>BBVA BANCOMER</td>\n",
       "      <td>Flor Liliana Gonzalez Gonzalez</td>\n",
       "      <td>12500029618132855</td>\n",
       "      <td>ERROR</td>\n",
       "      <td>NaN</td>\n",
       "      <td>01. First_batch</td>\n",
       "      <td>BANORTE</td>\n",
       "      <td>Dispersión-20240101.xlsx</td>\n",
       "      <td>2024-01-01</td>\n",
       "    </tr>\n",
       "    <tr>\n",
       "      <th>48668</th>\n",
       "      <td>LEDGER_TRAD</td>\n",
       "      <td>ab530350-07a8-422f-bc9d-81aeaa89f1db</td>\n",
       "      <td>NaN</td>\n",
       "      <td>NaN</td>\n",
       "      <td>AC9DQF6CR</td>\n",
       "      <td>2024-01-01</td>\n",
       "      <td>1,629.01</td>\n",
       "      <td>Pago del día</td>\n",
       "      <td>HSBC</td>\n",
       "      <td>Alejandro Garcia Gomez</td>\n",
       "      <td>21290065927796690</td>\n",
       "      <td>PAID</td>\n",
       "      <td>2024-01-01,42644264202401012759773444,40072,40...</td>\n",
       "      <td>01. First_batch</td>\n",
       "      <td>BANORTE</td>\n",
       "      <td>Dispersión-20240101.xlsx</td>\n",
       "      <td>2024-01-01</td>\n",
       "    </tr>\n",
       "    <tr>\n",
       "      <th>48669</th>\n",
       "      <td>LEDGER_TRAD</td>\n",
       "      <td>ab5444dc-0e70-4ee7-9a28-e386d01bc928</td>\n",
       "      <td>NaN</td>\n",
       "      <td>NaN</td>\n",
       "      <td>A9RLJ33Q6</td>\n",
       "      <td>2024-01-01</td>\n",
       "      <td>57,446.48</td>\n",
       "      <td>Pago del día</td>\n",
       "      <td>BAJIO</td>\n",
       "      <td>Hugo Javier Lopez Bonifaz</td>\n",
       "      <td>30320900004894431</td>\n",
       "      <td>PAID</td>\n",
       "      <td>2024-01-01,42644264202401012759744087,40072,40...</td>\n",
       "      <td>01. First_batch</td>\n",
       "      <td>BANORTE</td>\n",
       "      <td>Dispersión-20240101.xlsx</td>\n",
       "      <td>2024-01-01</td>\n",
       "    </tr>\n",
       "    <tr>\n",
       "      <th>48670</th>\n",
       "      <td>LEDGER_TRAD</td>\n",
       "      <td>ab549ce9-08c3-434b-b208-58bd270c8f8c</td>\n",
       "      <td>NaN</td>\n",
       "      <td>NaN</td>\n",
       "      <td>A3Z2D3SK2</td>\n",
       "      <td>2024-01-01</td>\n",
       "      <td>172.48</td>\n",
       "      <td>Pago del día</td>\n",
       "      <td>SANTANDER</td>\n",
       "      <td>Guadalupe Rosales Jimenez</td>\n",
       "      <td>14180605766810447</td>\n",
       "      <td>PAID</td>\n",
       "      <td>2024-01-01,42644264202401012759714239,40072,40...</td>\n",
       "      <td>01. First_batch</td>\n",
       "      <td>BANORTE</td>\n",
       "      <td>Dispersión-20240101.xlsx</td>\n",
       "      <td>2024-01-01</td>\n",
       "    </tr>\n",
       "    <tr>\n",
       "      <th>48671</th>\n",
       "      <td>LEDGER_TRAD</td>\n",
       "      <td>ab562636-b3ef-4a85-b9b6-1b3fc661ada0</td>\n",
       "      <td>NaN</td>\n",
       "      <td>NaN</td>\n",
       "      <td>ASNVFSMS5</td>\n",
       "      <td>2024-01-01</td>\n",
       "      <td>10,166.03</td>\n",
       "      <td>Pago del día</td>\n",
       "      <td>BBVA BANCOMER</td>\n",
       "      <td>Felipe David Valerio Aguilar</td>\n",
       "      <td>12930011521559909</td>\n",
       "      <td>PAID</td>\n",
       "      <td>2024-01-01,42644264202401012759758846,40072,40...</td>\n",
       "      <td>01. First_batch</td>\n",
       "      <td>BANORTE</td>\n",
       "      <td>Dispersión-20240101.xlsx</td>\n",
       "      <td>2024-01-01</td>\n",
       "    </tr>\n",
       "  </tbody>\n",
       "</table>\n",
       "</div>"
      ],
      "text/plain": [
       "              type                           merchant_id merchant_name  \\\n",
       "0      LEDGER_TRAD  03c36e07-4550-4a03-addc-23932ed78f86           NaN   \n",
       "48668  LEDGER_TRAD  ab530350-07a8-422f-bc9d-81aeaa89f1db           NaN   \n",
       "48669  LEDGER_TRAD  ab5444dc-0e70-4ee7-9a28-e386d01bc928           NaN   \n",
       "48670  LEDGER_TRAD  ab549ce9-08c3-434b-b208-58bd270c8f8c           NaN   \n",
       "48671  LEDGER_TRAD  ab562636-b3ef-4a85-b9b6-1b3fc661ada0           NaN   \n",
       "\n",
       "      user_email  report_id report_date_local  total_due          tipo  \\\n",
       "0            NaN  A935WHWRG        2024-01-01     267.34  Pago del día   \n",
       "48668        NaN  AC9DQF6CR        2024-01-01   1,629.01  Pago del día   \n",
       "48669        NaN  A9RLJ33Q6        2024-01-01  57,446.48  Pago del día   \n",
       "48670        NaN  A3Z2D3SK2        2024-01-01     172.48  Pago del día   \n",
       "48671        NaN  ASNVFSMS5        2024-01-01  10,166.03  Pago del día   \n",
       "\n",
       "                bank         bank_account_owner_name              CLABE  \\\n",
       "0      BBVA BANCOMER  Flor Liliana Gonzalez Gonzalez  12500029618132855   \n",
       "48668           HSBC          Alejandro Garcia Gomez  21290065927796690   \n",
       "48669          BAJIO       Hugo Javier Lopez Bonifaz  30320900004894431   \n",
       "48670      SANTANDER       Guadalupe Rosales Jimenez  14180605766810447   \n",
       "48671  BBVA BANCOMER   Felipe David Valerio Aguilar   12930011521559909   \n",
       "\n",
       "      status                                          LINEA CEP  \\\n",
       "0      ERROR                                                NaN   \n",
       "48668   PAID  2024-01-01,42644264202401012759773444,40072,40...   \n",
       "48669   PAID  2024-01-01,42644264202401012759744087,40072,40...   \n",
       "48670   PAID  2024-01-01,42644264202401012759714239,40072,40...   \n",
       "48671   PAID  2024-01-01,42644264202401012759758846,40072,40...   \n",
       "\n",
       "            Batch_time Banco_emisor                 file_name  date_file  \n",
       "0      01. First_batch      BANORTE  Dispersión-20240101.xlsx 2024-01-01  \n",
       "48668  01. First_batch      BANORTE  Dispersión-20240101.xlsx 2024-01-01  \n",
       "48669  01. First_batch      BANORTE  Dispersión-20240101.xlsx 2024-01-01  \n",
       "48670  01. First_batch      BANORTE  Dispersión-20240101.xlsx 2024-01-01  \n",
       "48671  01. First_batch      BANORTE  Dispersión-20240101.xlsx 2024-01-01  "
      ]
     },
     "execution_count": 8,
     "metadata": {},
     "output_type": "execute_result"
    }
   ],
   "source": [
    "pagos_1 = pd.concat([pd.read_excel(f,sheet_name='Swap del día').assign(file_name=os.path.basename(f)) for f in pagos_dia_files_1])\n",
    "pagos_1['date_file'] = pagos_1[\"file_name\"].str[-13:-5]\n",
    "pagos_1['date_file']= pd.to_datetime(pagos_1['date_file'], format='%Y%m%d').dt.date\n",
    "pagos_1['date_file']= pd.to_datetime(pagos_1['date_file'])\n",
    "pagos_1.sort_values(by=['date_file'],ascending=True,inplace=True)\n",
    "pagos_1['report_date_local']= pd.to_datetime(pagos_1['report_date_local']) \n",
    "pagos_1.head()"
   ]
  },
  {
   "cell_type": "code",
   "execution_count": 9,
   "metadata": {},
   "outputs": [
    {
     "data": {
      "text/plain": [
       "(2974752, 17)"
      ]
     },
     "execution_count": 9,
     "metadata": {},
     "output_type": "execute_result"
    }
   ],
   "source": [
    "pagos_1.shape"
   ]
  },
  {
   "cell_type": "code",
   "execution_count": 10,
   "metadata": {},
   "outputs": [
    {
     "data": {
      "text/plain": [
       "<DatetimeArray>\n",
       "['2024-01-01 00:00:00', '2023-12-24 00:00:00', '2023-12-23 00:00:00',\n",
       " '2023-12-22 00:00:00', '2023-12-17 00:00:00', '2023-12-11 00:00:00',\n",
       " '2023-12-30 00:00:00', '2023-12-21 00:00:00', '2023-12-20 00:00:00',\n",
       " '2023-12-19 00:00:00',\n",
       " ...\n",
       " '2020-06-25 00:00:00', '2020-05-24 00:00:00', '2022-05-25 00:00:00',\n",
       " '2021-02-20 00:00:00', '2021-01-19 00:00:00', '2022-09-20 00:00:00',\n",
       " '2024-01-31 00:00:00', '2021-05-30 00:00:00', '2019-11-25 00:00:00',\n",
       " '2022-05-02 00:00:00']\n",
       "Length: 660, dtype: datetime64[ns]"
      ]
     },
     "execution_count": 10,
     "metadata": {},
     "output_type": "execute_result"
    }
   ],
   "source": [
    "pagos_1['report_date_local'].unique()"
   ]
  },
  {
   "cell_type": "markdown",
   "metadata": {},
   "source": [
    "#### PAGOS DUPLICADOS TRADICIONAL"
   ]
  },
  {
   "cell_type": "code",
   "execution_count": 11,
   "metadata": {},
   "outputs": [
    {
     "name": "stderr",
     "output_type": "stream",
     "text": [
      "C:\\Users\\Cristian.Aparicio\\AppData\\Local\\Temp\\ipykernel_2160\\1112391532.py:2: SettingWithCopyWarning: \n",
      "A value is trying to be set on a copy of a slice from a DataFrame.\n",
      "Try using .loc[row_indexer,col_indexer] = value instead\n",
      "\n",
      "See the caveats in the documentation: https://pandas.pydata.org/pandas-docs/stable/user_guide/indexing.html#returning-a-view-versus-a-copy\n",
      "  duplicates_trad['INDEX'] = duplicates_trad['report_id'] + '_' + duplicates_trad['date_file'].astype('str')\n",
      "C:\\Users\\Cristian.Aparicio\\AppData\\Local\\Temp\\ipykernel_2160\\1112391532.py:3: SettingWithCopyWarning: \n",
      "A value is trying to be set on a copy of a slice from a DataFrame\n",
      "\n",
      "See the caveats in the documentation: https://pandas.pydata.org/pandas-docs/stable/user_guide/indexing.html#returning-a-view-versus-a-copy\n",
      "  duplicates_trad.sort_values(by=['date_file','report_id'],inplace=True)\n"
     ]
    },
    {
     "data": {
      "text/html": [
       "<div>\n",
       "<style scoped>\n",
       "    .dataframe tbody tr th:only-of-type {\n",
       "        vertical-align: middle;\n",
       "    }\n",
       "\n",
       "    .dataframe tbody tr th {\n",
       "        vertical-align: top;\n",
       "    }\n",
       "\n",
       "    .dataframe thead th {\n",
       "        text-align: right;\n",
       "    }\n",
       "</style>\n",
       "<table border=\"1\" class=\"dataframe\">\n",
       "  <thead>\n",
       "    <tr style=\"text-align: right;\">\n",
       "      <th></th>\n",
       "      <th>type</th>\n",
       "      <th>merchant_id</th>\n",
       "      <th>merchant_name</th>\n",
       "      <th>user_email</th>\n",
       "      <th>report_id</th>\n",
       "      <th>report_date_local</th>\n",
       "      <th>total_due</th>\n",
       "      <th>tipo</th>\n",
       "      <th>bank</th>\n",
       "      <th>bank_account_owner_name</th>\n",
       "      <th>CLABE</th>\n",
       "      <th>status</th>\n",
       "      <th>LINEA CEP</th>\n",
       "      <th>Batch_time</th>\n",
       "      <th>Banco_emisor</th>\n",
       "      <th>file_name</th>\n",
       "      <th>date_file</th>\n",
       "      <th>INDEX</th>\n",
       "    </tr>\n",
       "  </thead>\n",
       "  <tbody>\n",
       "    <tr>\n",
       "      <th>49</th>\n",
       "      <td>LEDGER_TRAD</td>\n",
       "      <td>c31b42ff-5d34-4e39-8330-f7b50edbec50</td>\n",
       "      <td>NaN</td>\n",
       "      <td>NaN</td>\n",
       "      <td>A2FWF2R93</td>\n",
       "      <td>2024-01-01</td>\n",
       "      <td>13,951.03</td>\n",
       "      <td>Pago del día</td>\n",
       "      <td>CAJA POP MEXICA</td>\n",
       "      <td>Jacqueline Martínez Díaz</td>\n",
       "      <td>677690044356398744</td>\n",
       "      <td>ERROR</td>\n",
       "      <td>NaN</td>\n",
       "      <td>01. First_batch</td>\n",
       "      <td>BANORTE</td>\n",
       "      <td>Dispersión-20240101.xlsx</td>\n",
       "      <td>2024-01-01</td>\n",
       "      <td>A2FWF2R93_2024-01-01</td>\n",
       "    </tr>\n",
       "    <tr>\n",
       "      <th>75</th>\n",
       "      <td>LEDGER_TRAD</td>\n",
       "      <td>c31b42ff-5d34-4e39-8330-f7b50edbec50</td>\n",
       "      <td>NaN</td>\n",
       "      <td>NaN</td>\n",
       "      <td>A2FWF2R93</td>\n",
       "      <td>2024-01-01</td>\n",
       "      <td>13,951.03</td>\n",
       "      <td>Pago del día</td>\n",
       "      <td>CAJA POP MEXICA</td>\n",
       "      <td>Jacqueline Martínez Díaz</td>\n",
       "      <td>677690044356398744</td>\n",
       "      <td>ERROR</td>\n",
       "      <td>NaN</td>\n",
       "      <td>02. Second_batch</td>\n",
       "      <td>BANORTE</td>\n",
       "      <td>Dispersión-20240101.xlsx</td>\n",
       "      <td>2024-01-01</td>\n",
       "      <td>A2FWF2R93_2024-01-01</td>\n",
       "    </tr>\n",
       "    <tr>\n",
       "      <th>72963</th>\n",
       "      <td>LEDGER_TRAD</td>\n",
       "      <td>c90766f7-5477-46aa-a4f6-27f71bacd1fe</td>\n",
       "      <td>NaN</td>\n",
       "      <td>NaN</td>\n",
       "      <td>A34XW4PYZ</td>\n",
       "      <td>2024-01-01</td>\n",
       "      <td>693.77</td>\n",
       "      <td>Pago del día</td>\n",
       "      <td>CAJA POP MEXICA</td>\n",
       "      <td>MARCO ANTONIO AGUAYO PEREZ</td>\n",
       "      <td>677222042608722629</td>\n",
       "      <td>PAID</td>\n",
       "      <td>2024-01-01,nan,40072,90677,677222042608722629,...</td>\n",
       "      <td>02. Second_batch</td>\n",
       "      <td>BANORTE</td>\n",
       "      <td>Dispersión-20240101.xlsx</td>\n",
       "      <td>2024-01-01</td>\n",
       "      <td>A34XW4PYZ_2024-01-01</td>\n",
       "    </tr>\n",
       "    <tr>\n",
       "      <th>57191</th>\n",
       "      <td>LEDGER_TRAD</td>\n",
       "      <td>c90766f7-5477-46aa-a4f6-27f71bacd1fe</td>\n",
       "      <td>NaN</td>\n",
       "      <td>NaN</td>\n",
       "      <td>A34XW4PYZ</td>\n",
       "      <td>2024-01-01</td>\n",
       "      <td>693.77</td>\n",
       "      <td>Pago del día</td>\n",
       "      <td>CAJA POP MEXICA</td>\n",
       "      <td>MARCO ANTONIO AGUAYO PEREZ</td>\n",
       "      <td>677222042608722629</td>\n",
       "      <td>PAID</td>\n",
       "      <td>2024-01-01,nan,40072,90677,677222042608722629,...</td>\n",
       "      <td>01. First_batch</td>\n",
       "      <td>BANORTE</td>\n",
       "      <td>Dispersión-20240101.xlsx</td>\n",
       "      <td>2024-01-01</td>\n",
       "      <td>A34XW4PYZ_2024-01-01</td>\n",
       "    </tr>\n",
       "    <tr>\n",
       "      <th>54</th>\n",
       "      <td>LEDGER_TRAD</td>\n",
       "      <td>dc547d79-14b6-484f-9609-4426530da61b</td>\n",
       "      <td>NaN</td>\n",
       "      <td>NaN</td>\n",
       "      <td>A468GN4YV</td>\n",
       "      <td>2024-01-01</td>\n",
       "      <td>1,116.34</td>\n",
       "      <td>Pago del día</td>\n",
       "      <td>SANTANDER</td>\n",
       "      <td>Enrique Zuniga Acuna</td>\n",
       "      <td>14000606211754166</td>\n",
       "      <td>ERROR</td>\n",
       "      <td>NaN</td>\n",
       "      <td>01. First_batch</td>\n",
       "      <td>BANORTE</td>\n",
       "      <td>Dispersión-20240101.xlsx</td>\n",
       "      <td>2024-01-01</td>\n",
       "      <td>A468GN4YV_2024-01-01</td>\n",
       "    </tr>\n",
       "  </tbody>\n",
       "</table>\n",
       "</div>"
      ],
      "text/plain": [
       "              type                           merchant_id merchant_name  \\\n",
       "49     LEDGER_TRAD  c31b42ff-5d34-4e39-8330-f7b50edbec50           NaN   \n",
       "75     LEDGER_TRAD  c31b42ff-5d34-4e39-8330-f7b50edbec50           NaN   \n",
       "72963  LEDGER_TRAD  c90766f7-5477-46aa-a4f6-27f71bacd1fe           NaN   \n",
       "57191  LEDGER_TRAD  c90766f7-5477-46aa-a4f6-27f71bacd1fe           NaN   \n",
       "54     LEDGER_TRAD  dc547d79-14b6-484f-9609-4426530da61b           NaN   \n",
       "\n",
       "      user_email  report_id report_date_local  total_due          tipo  \\\n",
       "49           NaN  A2FWF2R93        2024-01-01  13,951.03  Pago del día   \n",
       "75           NaN  A2FWF2R93        2024-01-01  13,951.03  Pago del día   \n",
       "72963        NaN  A34XW4PYZ        2024-01-01     693.77  Pago del día   \n",
       "57191        NaN  A34XW4PYZ        2024-01-01     693.77  Pago del día   \n",
       "54           NaN  A468GN4YV        2024-01-01   1,116.34  Pago del día   \n",
       "\n",
       "                  bank     bank_account_owner_name               CLABE status  \\\n",
       "49     CAJA POP MEXICA    Jacqueline Martínez Díaz  677690044356398744  ERROR   \n",
       "75     CAJA POP MEXICA    Jacqueline Martínez Díaz  677690044356398744  ERROR   \n",
       "72963  CAJA POP MEXICA  MARCO ANTONIO AGUAYO PEREZ  677222042608722629   PAID   \n",
       "57191  CAJA POP MEXICA  MARCO ANTONIO AGUAYO PEREZ  677222042608722629   PAID   \n",
       "54           SANTANDER       Enrique Zuniga Acuna    14000606211754166  ERROR   \n",
       "\n",
       "                                               LINEA CEP        Batch_time  \\\n",
       "49                                                   NaN   01. First_batch   \n",
       "75                                                   NaN  02. Second_batch   \n",
       "72963  2024-01-01,nan,40072,90677,677222042608722629,...  02. Second_batch   \n",
       "57191  2024-01-01,nan,40072,90677,677222042608722629,...   01. First_batch   \n",
       "54                                                   NaN   01. First_batch   \n",
       "\n",
       "      Banco_emisor                 file_name  date_file                 INDEX  \n",
       "49         BANORTE  Dispersión-20240101.xlsx 2024-01-01  A2FWF2R93_2024-01-01  \n",
       "75         BANORTE  Dispersión-20240101.xlsx 2024-01-01  A2FWF2R93_2024-01-01  \n",
       "72963      BANORTE  Dispersión-20240101.xlsx 2024-01-01  A34XW4PYZ_2024-01-01  \n",
       "57191      BANORTE  Dispersión-20240101.xlsx 2024-01-01  A34XW4PYZ_2024-01-01  \n",
       "54         BANORTE  Dispersión-20240101.xlsx 2024-01-01  A468GN4YV_2024-01-01  "
      ]
     },
     "execution_count": 11,
     "metadata": {},
     "output_type": "execute_result"
    }
   ],
   "source": [
    "duplicates_trad = pagos_1[pagos_1.duplicated(['report_id','date_file'] , keep=False)]\n",
    "duplicates_trad['INDEX'] = duplicates_trad['report_id'] + '_' + duplicates_trad['date_file'].astype('str')\n",
    "duplicates_trad.sort_values(by=['date_file','report_id'],inplace=True)\n",
    "duplicates_trad.head()"
   ]
  },
  {
   "cell_type": "code",
   "execution_count": 12,
   "metadata": {},
   "outputs": [
    {
     "data": {
      "text/plain": [
       "(108, 18)"
      ]
     },
     "execution_count": 12,
     "metadata": {},
     "output_type": "execute_result"
    }
   ],
   "source": [
    "duplicates_trad.shape"
   ]
  },
  {
   "cell_type": "code",
   "execution_count": 13,
   "metadata": {},
   "outputs": [
    {
     "data": {
      "text/plain": [
       "array(['ERROR', 'PAID'], dtype=object)"
      ]
     },
     "execution_count": 13,
     "metadata": {},
     "output_type": "execute_result"
    }
   ],
   "source": [
    "duplicates_trad['status'].unique()"
   ]
  },
  {
   "cell_type": "code",
   "execution_count": 14,
   "metadata": {},
   "outputs": [
    {
     "name": "stderr",
     "output_type": "stream",
     "text": [
      "C:\\Users\\Cristian.Aparicio\\AppData\\Local\\Temp\\ipykernel_2160\\494774456.py:1: SettingWithCopyWarning: \n",
      "A value is trying to be set on a copy of a slice from a DataFrame\n",
      "\n",
      "See the caveats in the documentation: https://pandas.pydata.org/pandas-docs/stable/user_guide/indexing.html#returning-a-view-versus-a-copy\n",
      "  duplicates_trad.drop_duplicates(subset=\"INDEX\", keep='last', inplace=True)\n"
     ]
    }
   ],
   "source": [
    "duplicates_trad.drop_duplicates(subset=\"INDEX\", keep='last', inplace=True)"
   ]
  },
  {
   "cell_type": "code",
   "execution_count": 15,
   "metadata": {},
   "outputs": [
    {
     "data": {
      "text/html": [
       "<div>\n",
       "<style scoped>\n",
       "    .dataframe tbody tr th:only-of-type {\n",
       "        vertical-align: middle;\n",
       "    }\n",
       "\n",
       "    .dataframe tbody tr th {\n",
       "        vertical-align: top;\n",
       "    }\n",
       "\n",
       "    .dataframe thead th {\n",
       "        text-align: right;\n",
       "    }\n",
       "</style>\n",
       "<table border=\"1\" class=\"dataframe\">\n",
       "  <thead>\n",
       "    <tr style=\"text-align: right;\">\n",
       "      <th></th>\n",
       "      <th>type</th>\n",
       "      <th>merchant_id</th>\n",
       "      <th>merchant_name</th>\n",
       "      <th>user_email</th>\n",
       "      <th>report_id</th>\n",
       "      <th>report_date_local</th>\n",
       "      <th>total_due</th>\n",
       "      <th>tipo</th>\n",
       "      <th>bank</th>\n",
       "      <th>bank_account_owner_name</th>\n",
       "      <th>CLABE</th>\n",
       "      <th>status</th>\n",
       "      <th>LINEA CEP</th>\n",
       "      <th>Batch_time</th>\n",
       "      <th>Banco_emisor</th>\n",
       "      <th>file_name</th>\n",
       "      <th>date_file</th>\n",
       "      <th>INDEX</th>\n",
       "    </tr>\n",
       "  </thead>\n",
       "  <tbody>\n",
       "    <tr>\n",
       "      <th>75</th>\n",
       "      <td>LEDGER_TRAD</td>\n",
       "      <td>c31b42ff-5d34-4e39-8330-f7b50edbec50</td>\n",
       "      <td>NaN</td>\n",
       "      <td>NaN</td>\n",
       "      <td>A2FWF2R93</td>\n",
       "      <td>2024-01-01</td>\n",
       "      <td>13,951.03</td>\n",
       "      <td>Pago del día</td>\n",
       "      <td>CAJA POP MEXICA</td>\n",
       "      <td>Jacqueline Martínez Díaz</td>\n",
       "      <td>677690044356398744</td>\n",
       "      <td>ERROR</td>\n",
       "      <td>NaN</td>\n",
       "      <td>02. Second_batch</td>\n",
       "      <td>BANORTE</td>\n",
       "      <td>Dispersión-20240101.xlsx</td>\n",
       "      <td>2024-01-01</td>\n",
       "      <td>A2FWF2R93_2024-01-01</td>\n",
       "    </tr>\n",
       "    <tr>\n",
       "      <th>57191</th>\n",
       "      <td>LEDGER_TRAD</td>\n",
       "      <td>c90766f7-5477-46aa-a4f6-27f71bacd1fe</td>\n",
       "      <td>NaN</td>\n",
       "      <td>NaN</td>\n",
       "      <td>A34XW4PYZ</td>\n",
       "      <td>2024-01-01</td>\n",
       "      <td>693.77</td>\n",
       "      <td>Pago del día</td>\n",
       "      <td>CAJA POP MEXICA</td>\n",
       "      <td>MARCO ANTONIO AGUAYO PEREZ</td>\n",
       "      <td>677222042608722629</td>\n",
       "      <td>PAID</td>\n",
       "      <td>2024-01-01,nan,40072,90677,677222042608722629,...</td>\n",
       "      <td>01. First_batch</td>\n",
       "      <td>BANORTE</td>\n",
       "      <td>Dispersión-20240101.xlsx</td>\n",
       "      <td>2024-01-01</td>\n",
       "      <td>A34XW4PYZ_2024-01-01</td>\n",
       "    </tr>\n",
       "    <tr>\n",
       "      <th>77</th>\n",
       "      <td>LEDGER_TRAD</td>\n",
       "      <td>dc547d79-14b6-484f-9609-4426530da61b</td>\n",
       "      <td>NaN</td>\n",
       "      <td>NaN</td>\n",
       "      <td>A468GN4YV</td>\n",
       "      <td>2024-01-01</td>\n",
       "      <td>1,116.34</td>\n",
       "      <td>Pago del día</td>\n",
       "      <td>SANTANDER</td>\n",
       "      <td>Enrique Zuniga Acuna</td>\n",
       "      <td>14000606211754166</td>\n",
       "      <td>ERROR</td>\n",
       "      <td>NaN</td>\n",
       "      <td>02. Second_batch</td>\n",
       "      <td>BANORTE</td>\n",
       "      <td>Dispersión-20240101.xlsx</td>\n",
       "      <td>2024-01-01</td>\n",
       "      <td>A468GN4YV_2024-01-01</td>\n",
       "    </tr>\n",
       "    <tr>\n",
       "      <th>23085</th>\n",
       "      <td>LEDGER_TRAD</td>\n",
       "      <td>5150c3c4-6b3c-4e16-b544-13ef4548d26c</td>\n",
       "      <td>NaN</td>\n",
       "      <td>NaN</td>\n",
       "      <td>A787S7QYG</td>\n",
       "      <td>2024-01-01</td>\n",
       "      <td>2.00</td>\n",
       "      <td>Pago del día</td>\n",
       "      <td>CAJA POP MEXICA</td>\n",
       "      <td>Ramon Olmos Mrquez</td>\n",
       "      <td>677180044278399195</td>\n",
       "      <td>PAID</td>\n",
       "      <td>2024-01-01,nan,40072,90677,677180044278399195,2.0</td>\n",
       "      <td>01. First_batch</td>\n",
       "      <td>BANORTE</td>\n",
       "      <td>Dispersión-20240101.xlsx</td>\n",
       "      <td>2024-01-01</td>\n",
       "      <td>A787S7QYG_2024-01-01</td>\n",
       "    </tr>\n",
       "    <tr>\n",
       "      <th>5</th>\n",
       "      <td>LEDGER_TRAD</td>\n",
       "      <td>0f8187da-2201-47a4-a080-c3fd0c295845</td>\n",
       "      <td>NaN</td>\n",
       "      <td>NaN</td>\n",
       "      <td>A95HMQCJ8</td>\n",
       "      <td>2024-01-01</td>\n",
       "      <td>924.70</td>\n",
       "      <td>Pago del día</td>\n",
       "      <td>CAJA POP MEXICA</td>\n",
       "      <td>Claudia Horalia Rivera Reyes</td>\n",
       "      <td>677010042278353012</td>\n",
       "      <td>ERROR</td>\n",
       "      <td>NaN</td>\n",
       "      <td>01. First_batch</td>\n",
       "      <td>BANORTE</td>\n",
       "      <td>Dispersión-20240101.xlsx</td>\n",
       "      <td>2024-01-01</td>\n",
       "      <td>A95HMQCJ8_2024-01-01</td>\n",
       "    </tr>\n",
       "  </tbody>\n",
       "</table>\n",
       "</div>"
      ],
      "text/plain": [
       "              type                           merchant_id merchant_name  \\\n",
       "75     LEDGER_TRAD  c31b42ff-5d34-4e39-8330-f7b50edbec50           NaN   \n",
       "57191  LEDGER_TRAD  c90766f7-5477-46aa-a4f6-27f71bacd1fe           NaN   \n",
       "77     LEDGER_TRAD  dc547d79-14b6-484f-9609-4426530da61b           NaN   \n",
       "23085  LEDGER_TRAD  5150c3c4-6b3c-4e16-b544-13ef4548d26c           NaN   \n",
       "5      LEDGER_TRAD  0f8187da-2201-47a4-a080-c3fd0c295845           NaN   \n",
       "\n",
       "      user_email  report_id report_date_local  total_due          tipo  \\\n",
       "75           NaN  A2FWF2R93        2024-01-01  13,951.03  Pago del día   \n",
       "57191        NaN  A34XW4PYZ        2024-01-01     693.77  Pago del día   \n",
       "77           NaN  A468GN4YV        2024-01-01   1,116.34  Pago del día   \n",
       "23085        NaN  A787S7QYG        2024-01-01       2.00  Pago del día   \n",
       "5            NaN  A95HMQCJ8        2024-01-01     924.70  Pago del día   \n",
       "\n",
       "                  bank       bank_account_owner_name               CLABE  \\\n",
       "75     CAJA POP MEXICA      Jacqueline Martínez Díaz  677690044356398744   \n",
       "57191  CAJA POP MEXICA    MARCO ANTONIO AGUAYO PEREZ  677222042608722629   \n",
       "77           SANTANDER         Enrique Zuniga Acuna    14000606211754166   \n",
       "23085  CAJA POP MEXICA            Ramon Olmos Mrquez  677180044278399195   \n",
       "5      CAJA POP MEXICA  Claudia Horalia Rivera Reyes  677010042278353012   \n",
       "\n",
       "      status                                          LINEA CEP  \\\n",
       "75     ERROR                                                NaN   \n",
       "57191   PAID  2024-01-01,nan,40072,90677,677222042608722629,...   \n",
       "77     ERROR                                                NaN   \n",
       "23085   PAID  2024-01-01,nan,40072,90677,677180044278399195,2.0   \n",
       "5      ERROR                                                NaN   \n",
       "\n",
       "             Batch_time Banco_emisor                 file_name  date_file  \\\n",
       "75     02. Second_batch      BANORTE  Dispersión-20240101.xlsx 2024-01-01   \n",
       "57191   01. First_batch      BANORTE  Dispersión-20240101.xlsx 2024-01-01   \n",
       "77     02. Second_batch      BANORTE  Dispersión-20240101.xlsx 2024-01-01   \n",
       "23085   01. First_batch      BANORTE  Dispersión-20240101.xlsx 2024-01-01   \n",
       "5       01. First_batch      BANORTE  Dispersión-20240101.xlsx 2024-01-01   \n",
       "\n",
       "                      INDEX  \n",
       "75     A2FWF2R93_2024-01-01  \n",
       "57191  A34XW4PYZ_2024-01-01  \n",
       "77     A468GN4YV_2024-01-01  \n",
       "23085  A787S7QYG_2024-01-01  \n",
       "5      A95HMQCJ8_2024-01-01  "
      ]
     },
     "execution_count": 15,
     "metadata": {},
     "output_type": "execute_result"
    }
   ],
   "source": [
    "duplicates_trad.head()"
   ]
  },
  {
   "cell_type": "code",
   "execution_count": 16,
   "metadata": {},
   "outputs": [
    {
     "data": {
      "text/plain": [
       "(54, 18)"
      ]
     },
     "execution_count": 16,
     "metadata": {},
     "output_type": "execute_result"
    }
   ],
   "source": [
    "duplicates_trad.shape"
   ]
  },
  {
   "cell_type": "code",
   "execution_count": 17,
   "metadata": {},
   "outputs": [
    {
     "data": {
      "text/html": [
       "<div>\n",
       "<style scoped>\n",
       "    .dataframe tbody tr th:only-of-type {\n",
       "        vertical-align: middle;\n",
       "    }\n",
       "\n",
       "    .dataframe tbody tr th {\n",
       "        vertical-align: top;\n",
       "    }\n",
       "\n",
       "    .dataframe thead tr th {\n",
       "        text-align: left;\n",
       "    }\n",
       "</style>\n",
       "<table border=\"1\" class=\"dataframe\">\n",
       "  <thead>\n",
       "    <tr>\n",
       "      <th></th>\n",
       "      <th>tipo</th>\n",
       "      <th>date_file</th>\n",
       "      <th colspan=\"2\" halign=\"left\">sum</th>\n",
       "      <th colspan=\"2\" halign=\"left\">len</th>\n",
       "    </tr>\n",
       "    <tr>\n",
       "      <th></th>\n",
       "      <th></th>\n",
       "      <th></th>\n",
       "      <th colspan=\"2\" halign=\"left\">total_due</th>\n",
       "      <th colspan=\"2\" halign=\"left\">total_due</th>\n",
       "    </tr>\n",
       "    <tr>\n",
       "      <th>type</th>\n",
       "      <th></th>\n",
       "      <th></th>\n",
       "      <th>LEDGER_TRAD</th>\n",
       "      <th>All</th>\n",
       "      <th>LEDGER_TRAD</th>\n",
       "      <th>All</th>\n",
       "    </tr>\n",
       "  </thead>\n",
       "  <tbody>\n",
       "    <tr>\n",
       "      <th>0</th>\n",
       "      <td>Pago del día</td>\n",
       "      <td>2024-01-01 00:00:00</td>\n",
       "      <td>160,906.30</td>\n",
       "      <td>160,906.30</td>\n",
       "      <td>17</td>\n",
       "      <td>17</td>\n",
       "    </tr>\n",
       "    <tr>\n",
       "      <th>1</th>\n",
       "      <td>Pago del día</td>\n",
       "      <td>2024-01-03 00:00:00</td>\n",
       "      <td>33,538.40</td>\n",
       "      <td>33,538.40</td>\n",
       "      <td>1</td>\n",
       "      <td>1</td>\n",
       "    </tr>\n",
       "    <tr>\n",
       "      <th>2</th>\n",
       "      <td>Pago del día</td>\n",
       "      <td>2024-01-04 00:00:00</td>\n",
       "      <td>1,927.20</td>\n",
       "      <td>1,927.20</td>\n",
       "      <td>1</td>\n",
       "      <td>1</td>\n",
       "    </tr>\n",
       "    <tr>\n",
       "      <th>3</th>\n",
       "      <td>Pago del día</td>\n",
       "      <td>2024-01-08 00:00:00</td>\n",
       "      <td>3,066.37</td>\n",
       "      <td>3,066.37</td>\n",
       "      <td>1</td>\n",
       "      <td>1</td>\n",
       "    </tr>\n",
       "    <tr>\n",
       "      <th>4</th>\n",
       "      <td>Pago del día</td>\n",
       "      <td>2024-01-11 00:00:00</td>\n",
       "      <td>56,048.41</td>\n",
       "      <td>56,048.41</td>\n",
       "      <td>1</td>\n",
       "      <td>1</td>\n",
       "    </tr>\n",
       "    <tr>\n",
       "      <th>5</th>\n",
       "      <td>Pago del día</td>\n",
       "      <td>2024-01-12 00:00:00</td>\n",
       "      <td>1,130.72</td>\n",
       "      <td>1,130.72</td>\n",
       "      <td>1</td>\n",
       "      <td>1</td>\n",
       "    </tr>\n",
       "    <tr>\n",
       "      <th>6</th>\n",
       "      <td>Pago del día</td>\n",
       "      <td>2024-01-15 00:00:00</td>\n",
       "      <td>2,924.82</td>\n",
       "      <td>2,924.82</td>\n",
       "      <td>2</td>\n",
       "      <td>2</td>\n",
       "    </tr>\n",
       "    <tr>\n",
       "      <th>7</th>\n",
       "      <td>Pago del día</td>\n",
       "      <td>2024-01-16 00:00:00</td>\n",
       "      <td>1,561.93</td>\n",
       "      <td>1,561.93</td>\n",
       "      <td>2</td>\n",
       "      <td>2</td>\n",
       "    </tr>\n",
       "    <tr>\n",
       "      <th>8</th>\n",
       "      <td>Pago del día</td>\n",
       "      <td>2024-01-17 00:00:00</td>\n",
       "      <td>7,706.07</td>\n",
       "      <td>7,706.07</td>\n",
       "      <td>2</td>\n",
       "      <td>2</td>\n",
       "    </tr>\n",
       "    <tr>\n",
       "      <th>9</th>\n",
       "      <td>Pago del día</td>\n",
       "      <td>2024-01-18 00:00:00</td>\n",
       "      <td>6,184.48</td>\n",
       "      <td>6,184.48</td>\n",
       "      <td>2</td>\n",
       "      <td>2</td>\n",
       "    </tr>\n",
       "  </tbody>\n",
       "</table>\n",
       "</div>"
      ],
      "text/plain": [
       "              tipo            date_file         sum                    len    \n",
       "                                          total_due              total_due    \n",
       "type                                    LEDGER_TRAD        All LEDGER_TRAD All\n",
       "0     Pago del día  2024-01-01 00:00:00  160,906.30 160,906.30          17  17\n",
       "1     Pago del día  2024-01-03 00:00:00   33,538.40  33,538.40           1   1\n",
       "2     Pago del día  2024-01-04 00:00:00    1,927.20   1,927.20           1   1\n",
       "3     Pago del día  2024-01-08 00:00:00    3,066.37   3,066.37           1   1\n",
       "4     Pago del día  2024-01-11 00:00:00   56,048.41  56,048.41           1   1\n",
       "5     Pago del día  2024-01-12 00:00:00    1,130.72   1,130.72           1   1\n",
       "6     Pago del día  2024-01-15 00:00:00    2,924.82   2,924.82           2   2\n",
       "7     Pago del día  2024-01-16 00:00:00    1,561.93   1,561.93           2   2\n",
       "8     Pago del día  2024-01-17 00:00:00    7,706.07   7,706.07           2   2\n",
       "9     Pago del día  2024-01-18 00:00:00    6,184.48   6,184.48           2   2"
      ]
     },
     "execution_count": 17,
     "metadata": {},
     "output_type": "execute_result"
    }
   ],
   "source": [
    "pivot_duplicates_trad = pd.pivot_table(duplicates_trad,index=['tipo','date_file'],\n",
    "                                       columns=['type'],\n",
    "                                  values=['total_due']\n",
    "                                  ,aggfunc = ['sum', len],margins=True)\n",
    "pivot_duplicates_trad.reset_index(drop=False, inplace=True)\n",
    "pivot_duplicates_trad.head(10)"
   ]
  },
  {
   "cell_type": "code",
   "execution_count": 18,
   "metadata": {},
   "outputs": [
    {
     "data": {
      "text/plain": [
       "(20, 6)"
      ]
     },
     "execution_count": 18,
     "metadata": {},
     "output_type": "execute_result"
    }
   ],
   "source": [
    "pivot_duplicates_trad.shape"
   ]
  },
  {
   "cell_type": "markdown",
   "metadata": {},
   "source": [
    "#### FAST PAYMENTS "
   ]
  },
  {
   "cell_type": "code",
   "execution_count": 19,
   "metadata": {},
   "outputs": [
    {
     "data": {
      "text/plain": [
       "['C:\\\\Users\\\\Cristian.Aparicio\\\\Documents\\\\FAST PAYMENTS\\\\2024\\\\01. ENERO\\\\ARCHIVO DISPERSIONES FP\\\\Dispersión-FP 2024-01-01.xlsx',\n",
       " 'C:\\\\Users\\\\Cristian.Aparicio\\\\Documents\\\\FAST PAYMENTS\\\\2024\\\\01. ENERO\\\\ARCHIVO DISPERSIONES FP\\\\Dispersión-FP 2024-01-02.xlsx',\n",
       " 'C:\\\\Users\\\\Cristian.Aparicio\\\\Documents\\\\FAST PAYMENTS\\\\2024\\\\01. ENERO\\\\ARCHIVO DISPERSIONES FP\\\\Dispersión-FP 2024-01-03.xlsx',\n",
       " 'C:\\\\Users\\\\Cristian.Aparicio\\\\Documents\\\\FAST PAYMENTS\\\\2024\\\\01. ENERO\\\\ARCHIVO DISPERSIONES FP\\\\Dispersión-FP 2024-01-04.xlsx',\n",
       " 'C:\\\\Users\\\\Cristian.Aparicio\\\\Documents\\\\FAST PAYMENTS\\\\2024\\\\01. ENERO\\\\ARCHIVO DISPERSIONES FP\\\\Dispersión-FP 2024-01-05.xlsx',\n",
       " 'C:\\\\Users\\\\Cristian.Aparicio\\\\Documents\\\\FAST PAYMENTS\\\\2024\\\\01. ENERO\\\\ARCHIVO DISPERSIONES FP\\\\Dispersión-FP 2024-01-06.xlsx',\n",
       " 'C:\\\\Users\\\\Cristian.Aparicio\\\\Documents\\\\FAST PAYMENTS\\\\2024\\\\01. ENERO\\\\ARCHIVO DISPERSIONES FP\\\\Dispersión-FP 2024-01-07.xlsx',\n",
       " 'C:\\\\Users\\\\Cristian.Aparicio\\\\Documents\\\\FAST PAYMENTS\\\\2024\\\\01. ENERO\\\\ARCHIVO DISPERSIONES FP\\\\Dispersión-FP 2024-01-08.xlsx',\n",
       " 'C:\\\\Users\\\\Cristian.Aparicio\\\\Documents\\\\FAST PAYMENTS\\\\2024\\\\01. ENERO\\\\ARCHIVO DISPERSIONES FP\\\\Dispersión-FP 2024-01-09.xlsx',\n",
       " 'C:\\\\Users\\\\Cristian.Aparicio\\\\Documents\\\\FAST PAYMENTS\\\\2024\\\\01. ENERO\\\\ARCHIVO DISPERSIONES FP\\\\Dispersión-FP 2024-01-10.xlsx',\n",
       " 'C:\\\\Users\\\\Cristian.Aparicio\\\\Documents\\\\FAST PAYMENTS\\\\2024\\\\01. ENERO\\\\ARCHIVO DISPERSIONES FP\\\\Dispersión-FP 2024-01-11.xlsx',\n",
       " 'C:\\\\Users\\\\Cristian.Aparicio\\\\Documents\\\\FAST PAYMENTS\\\\2024\\\\01. ENERO\\\\ARCHIVO DISPERSIONES FP\\\\Dispersión-FP 2024-01-12.xlsx',\n",
       " 'C:\\\\Users\\\\Cristian.Aparicio\\\\Documents\\\\FAST PAYMENTS\\\\2024\\\\01. ENERO\\\\ARCHIVO DISPERSIONES FP\\\\Dispersión-FP 2024-01-13.xlsx',\n",
       " 'C:\\\\Users\\\\Cristian.Aparicio\\\\Documents\\\\FAST PAYMENTS\\\\2024\\\\01. ENERO\\\\ARCHIVO DISPERSIONES FP\\\\Dispersión-FP 2024-01-14.xlsx',\n",
       " 'C:\\\\Users\\\\Cristian.Aparicio\\\\Documents\\\\FAST PAYMENTS\\\\2024\\\\01. ENERO\\\\ARCHIVO DISPERSIONES FP\\\\Dispersión-FP 2024-01-15.xlsx',\n",
       " 'C:\\\\Users\\\\Cristian.Aparicio\\\\Documents\\\\FAST PAYMENTS\\\\2024\\\\01. ENERO\\\\ARCHIVO DISPERSIONES FP\\\\Dispersión-FP 2024-01-16.xlsx',\n",
       " 'C:\\\\Users\\\\Cristian.Aparicio\\\\Documents\\\\FAST PAYMENTS\\\\2024\\\\01. ENERO\\\\ARCHIVO DISPERSIONES FP\\\\Dispersión-FP 2024-01-17.xlsx',\n",
       " 'C:\\\\Users\\\\Cristian.Aparicio\\\\Documents\\\\FAST PAYMENTS\\\\2024\\\\01. ENERO\\\\ARCHIVO DISPERSIONES FP\\\\Dispersión-FP 2024-01-18.xlsx',\n",
       " 'C:\\\\Users\\\\Cristian.Aparicio\\\\Documents\\\\FAST PAYMENTS\\\\2024\\\\01. ENERO\\\\ARCHIVO DISPERSIONES FP\\\\Dispersión-FP 2024-01-19.xlsx',\n",
       " 'C:\\\\Users\\\\Cristian.Aparicio\\\\Documents\\\\FAST PAYMENTS\\\\2024\\\\01. ENERO\\\\ARCHIVO DISPERSIONES FP\\\\Dispersión-FP 2024-01-20.xlsx',\n",
       " 'C:\\\\Users\\\\Cristian.Aparicio\\\\Documents\\\\FAST PAYMENTS\\\\2024\\\\01. ENERO\\\\ARCHIVO DISPERSIONES FP\\\\Dispersión-FP 2024-01-21.xlsx',\n",
       " 'C:\\\\Users\\\\Cristian.Aparicio\\\\Documents\\\\FAST PAYMENTS\\\\2024\\\\01. ENERO\\\\ARCHIVO DISPERSIONES FP\\\\Dispersión-FP 2024-01-22.xlsx',\n",
       " 'C:\\\\Users\\\\Cristian.Aparicio\\\\Documents\\\\FAST PAYMENTS\\\\2024\\\\01. ENERO\\\\ARCHIVO DISPERSIONES FP\\\\Dispersión-FP 2024-01-23.xlsx',\n",
       " 'C:\\\\Users\\\\Cristian.Aparicio\\\\Documents\\\\FAST PAYMENTS\\\\2024\\\\01. ENERO\\\\ARCHIVO DISPERSIONES FP\\\\Dispersión-FP 2024-01-24.xlsx',\n",
       " 'C:\\\\Users\\\\Cristian.Aparicio\\\\Documents\\\\FAST PAYMENTS\\\\2024\\\\01. ENERO\\\\ARCHIVO DISPERSIONES FP\\\\Dispersión-FP 2024-01-25.xlsx',\n",
       " 'C:\\\\Users\\\\Cristian.Aparicio\\\\Documents\\\\FAST PAYMENTS\\\\2024\\\\01. ENERO\\\\ARCHIVO DISPERSIONES FP\\\\Dispersión-FP 2024-01-26.xlsx',\n",
       " 'C:\\\\Users\\\\Cristian.Aparicio\\\\Documents\\\\FAST PAYMENTS\\\\2024\\\\01. ENERO\\\\ARCHIVO DISPERSIONES FP\\\\Dispersión-FP 2024-01-27.xlsx',\n",
       " 'C:\\\\Users\\\\Cristian.Aparicio\\\\Documents\\\\FAST PAYMENTS\\\\2024\\\\01. ENERO\\\\ARCHIVO DISPERSIONES FP\\\\Dispersión-FP 2024-01-28.xlsx',\n",
       " 'C:\\\\Users\\\\Cristian.Aparicio\\\\Documents\\\\FAST PAYMENTS\\\\2024\\\\01. ENERO\\\\ARCHIVO DISPERSIONES FP\\\\Dispersión-FP 2024-01-29.xlsx',\n",
       " 'C:\\\\Users\\\\Cristian.Aparicio\\\\Documents\\\\FAST PAYMENTS\\\\2024\\\\01. ENERO\\\\ARCHIVO DISPERSIONES FP\\\\Dispersión-FP 2024-01-30.xlsx',\n",
       " 'C:\\\\Users\\\\Cristian.Aparicio\\\\Documents\\\\FAST PAYMENTS\\\\2024\\\\01. ENERO\\\\ARCHIVO DISPERSIONES FP\\\\Dispersión-FP 2024-01-31.xlsx']"
      ]
     },
     "execution_count": 19,
     "metadata": {},
     "output_type": "execute_result"
    }
   ],
   "source": [
    "fp_files_1 = glob.glob(r'C:\\Users\\Cristian.Aparicio\\Documents\\FAST PAYMENTS\\2024\\01. ENERO\\ARCHIVO DISPERSIONES FP\\Dispersión-FP*.xlsx', recursive=False)\n",
    "fp_files_1"
   ]
  },
  {
   "cell_type": "code",
   "execution_count": 20,
   "metadata": {},
   "outputs": [
    {
     "data": {
      "text/html": [
       "<div>\n",
       "<style scoped>\n",
       "    .dataframe tbody tr th:only-of-type {\n",
       "        vertical-align: middle;\n",
       "    }\n",
       "\n",
       "    .dataframe tbody tr th {\n",
       "        vertical-align: top;\n",
       "    }\n",
       "\n",
       "    .dataframe thead th {\n",
       "        text-align: right;\n",
       "    }\n",
       "</style>\n",
       "<table border=\"1\" class=\"dataframe\">\n",
       "  <thead>\n",
       "    <tr style=\"text-align: right;\">\n",
       "      <th></th>\n",
       "      <th>type</th>\n",
       "      <th>merchant_id</th>\n",
       "      <th>merchant_name</th>\n",
       "      <th>user_email</th>\n",
       "      <th>report_id</th>\n",
       "      <th>report_date_local</th>\n",
       "      <th>total_due</th>\n",
       "      <th>tipo</th>\n",
       "      <th>bank</th>\n",
       "      <th>swap</th>\n",
       "      <th>CLABE</th>\n",
       "      <th>status</th>\n",
       "      <th>LINEA CEP</th>\n",
       "      <th>Batch_time</th>\n",
       "      <th>Banco_emisor</th>\n",
       "      <th>file_name</th>\n",
       "      <th>date_file</th>\n",
       "    </tr>\n",
       "  </thead>\n",
       "  <tbody>\n",
       "    <tr>\n",
       "      <th>0</th>\n",
       "      <td>LEDGER_FP</td>\n",
       "      <td>0a00f802-ff5a-49c6-8ad6-693c5b544f3f</td>\n",
       "      <td>NaN</td>\n",
       "      <td>NaN</td>\n",
       "      <td>AR3LJGSXN</td>\n",
       "      <td>2024-01-01</td>\n",
       "      <td>1,612.24</td>\n",
       "      <td>Pago del día</td>\n",
       "      <td>CAJA POP MEXICA</td>\n",
       "      <td>Juan Pablo Cruz Martinez</td>\n",
       "      <td>677248044011352464</td>\n",
       "      <td>ERROR</td>\n",
       "      <td>NaN</td>\n",
       "      <td>02. Second_batch</td>\n",
       "      <td>BANORTE</td>\n",
       "      <td>Dispersión-FP 2024-01-01.xlsx</td>\n",
       "      <td>2024-01-01</td>\n",
       "    </tr>\n",
       "    <tr>\n",
       "      <th>787</th>\n",
       "      <td>LEDGER_FP</td>\n",
       "      <td>9b399b8b-630f-42e1-9fc9-ea7b0439be4d</td>\n",
       "      <td>NaN</td>\n",
       "      <td>NaN</td>\n",
       "      <td>AKRJLD95T</td>\n",
       "      <td>2024-01-01</td>\n",
       "      <td>63.33</td>\n",
       "      <td>Pago del día</td>\n",
       "      <td>ASP INTEGRA OPC</td>\n",
       "      <td>Omar Hernandez Hernandez</td>\n",
       "      <td>659802020000454201</td>\n",
       "      <td>PAID</td>\n",
       "      <td>2024-01-01,42644264202401012760286209,40072,90...</td>\n",
       "      <td>05. Fifth_batch</td>\n",
       "      <td>BANORTE</td>\n",
       "      <td>Dispersión-FP 2024-01-01.xlsx</td>\n",
       "      <td>2024-01-01</td>\n",
       "    </tr>\n",
       "    <tr>\n",
       "      <th>786</th>\n",
       "      <td>LEDGER_FP</td>\n",
       "      <td>9a40e51f-d104-4408-af72-93cdf3ea291f</td>\n",
       "      <td>NaN</td>\n",
       "      <td>NaN</td>\n",
       "      <td>AY5D6Y8LL</td>\n",
       "      <td>2024-01-01</td>\n",
       "      <td>353.24</td>\n",
       "      <td>Pago del día</td>\n",
       "      <td>ASP INTEGRA OPC</td>\n",
       "      <td>Beatriz Gómez Francisco</td>\n",
       "      <td>659802020000352552</td>\n",
       "      <td>PAID</td>\n",
       "      <td>2024-01-01,42644264202401012760286044,40072,90...</td>\n",
       "      <td>05. Fifth_batch</td>\n",
       "      <td>BANORTE</td>\n",
       "      <td>Dispersión-FP 2024-01-01.xlsx</td>\n",
       "      <td>2024-01-01</td>\n",
       "    </tr>\n",
       "    <tr>\n",
       "      <th>785</th>\n",
       "      <td>LEDGER_FP</td>\n",
       "      <td>99e565d9-6467-4767-a2a6-27306360294e</td>\n",
       "      <td>NaN</td>\n",
       "      <td>NaN</td>\n",
       "      <td>AN3V27VSB</td>\n",
       "      <td>2024-01-01</td>\n",
       "      <td>61.33</td>\n",
       "      <td>Pago del día</td>\n",
       "      <td>ASP INTEGRA OPC</td>\n",
       "      <td>Yolanda Mota Enciso</td>\n",
       "      <td>659802020000177591</td>\n",
       "      <td>PAID</td>\n",
       "      <td>2024-01-01,42644264202401012760286157,40072,90...</td>\n",
       "      <td>05. Fifth_batch</td>\n",
       "      <td>BANORTE</td>\n",
       "      <td>Dispersión-FP 2024-01-01.xlsx</td>\n",
       "      <td>2024-01-01</td>\n",
       "    </tr>\n",
       "    <tr>\n",
       "      <th>784</th>\n",
       "      <td>LEDGER_FP</td>\n",
       "      <td>990c091b-8f05-48ae-9ca5-fb14c646b35f</td>\n",
       "      <td>NaN</td>\n",
       "      <td>NaN</td>\n",
       "      <td>AB9BRNC2J</td>\n",
       "      <td>2024-01-01</td>\n",
       "      <td>3.60</td>\n",
       "      <td>Pago del día</td>\n",
       "      <td>ASP INTEGRA OPC</td>\n",
       "      <td>Alejandro Israel Lugo Mejia</td>\n",
       "      <td>659802020000155102</td>\n",
       "      <td>PAID</td>\n",
       "      <td>2024-01-01,42644264202401012760285987,40072,90...</td>\n",
       "      <td>05. Fifth_batch</td>\n",
       "      <td>BANORTE</td>\n",
       "      <td>Dispersión-FP 2024-01-01.xlsx</td>\n",
       "      <td>2024-01-01</td>\n",
       "    </tr>\n",
       "  </tbody>\n",
       "</table>\n",
       "</div>"
      ],
      "text/plain": [
       "          type                           merchant_id merchant_name user_email  \\\n",
       "0    LEDGER_FP  0a00f802-ff5a-49c6-8ad6-693c5b544f3f           NaN        NaN   \n",
       "787  LEDGER_FP  9b399b8b-630f-42e1-9fc9-ea7b0439be4d           NaN        NaN   \n",
       "786  LEDGER_FP  9a40e51f-d104-4408-af72-93cdf3ea291f           NaN        NaN   \n",
       "785  LEDGER_FP  99e565d9-6467-4767-a2a6-27306360294e           NaN        NaN   \n",
       "784  LEDGER_FP  990c091b-8f05-48ae-9ca5-fb14c646b35f           NaN        NaN   \n",
       "\n",
       "     report_id report_date_local  total_due          tipo             bank  \\\n",
       "0    AR3LJGSXN        2024-01-01   1,612.24  Pago del día  CAJA POP MEXICA   \n",
       "787  AKRJLD95T        2024-01-01      63.33  Pago del día  ASP INTEGRA OPC   \n",
       "786  AY5D6Y8LL        2024-01-01     353.24  Pago del día  ASP INTEGRA OPC   \n",
       "785  AN3V27VSB        2024-01-01      61.33  Pago del día  ASP INTEGRA OPC   \n",
       "784  AB9BRNC2J        2024-01-01       3.60  Pago del día  ASP INTEGRA OPC   \n",
       "\n",
       "                            swap               CLABE status  \\\n",
       "0       Juan Pablo Cruz Martinez  677248044011352464  ERROR   \n",
       "787     Omar Hernandez Hernandez  659802020000454201   PAID   \n",
       "786      Beatriz Gómez Francisco  659802020000352552   PAID   \n",
       "785          Yolanda Mota Enciso  659802020000177591   PAID   \n",
       "784  Alejandro Israel Lugo Mejia  659802020000155102   PAID   \n",
       "\n",
       "                                             LINEA CEP        Batch_time  \\\n",
       "0                                                  NaN  02. Second_batch   \n",
       "787  2024-01-01,42644264202401012760286209,40072,90...   05. Fifth_batch   \n",
       "786  2024-01-01,42644264202401012760286044,40072,90...   05. Fifth_batch   \n",
       "785  2024-01-01,42644264202401012760286157,40072,90...   05. Fifth_batch   \n",
       "784  2024-01-01,42644264202401012760285987,40072,90...   05. Fifth_batch   \n",
       "\n",
       "    Banco_emisor                      file_name  date_file  \n",
       "0        BANORTE  Dispersión-FP 2024-01-01.xlsx 2024-01-01  \n",
       "787      BANORTE  Dispersión-FP 2024-01-01.xlsx 2024-01-01  \n",
       "786      BANORTE  Dispersión-FP 2024-01-01.xlsx 2024-01-01  \n",
       "785      BANORTE  Dispersión-FP 2024-01-01.xlsx 2024-01-01  \n",
       "784      BANORTE  Dispersión-FP 2024-01-01.xlsx 2024-01-01  "
      ]
     },
     "execution_count": 20,
     "metadata": {},
     "output_type": "execute_result"
    }
   ],
   "source": [
    "pagos_2 = pd.concat([pd.read_excel(f,sheet_name='FAST PAYMENTS').assign(file_name=os.path.basename(f)) for f in fp_files_1])\n",
    "pagos_2['date_file'] = pagos_2[\"file_name\"].str[-15:-4]\n",
    "pagos_2['date_file']= pd.to_datetime(pagos_2['date_file']) \n",
    "pagos_2.sort_values(by=['date_file'],ascending=True,inplace=True)\n",
    "pagos_2['report_date_local']= pd.to_datetime(pagos_2['report_date_local']) \n",
    "pagos_2.head()"
   ]
  },
  {
   "cell_type": "code",
   "execution_count": 21,
   "metadata": {},
   "outputs": [
    {
     "data": {
      "text/plain": [
       "(74601, 17)"
      ]
     },
     "execution_count": 21,
     "metadata": {},
     "output_type": "execute_result"
    }
   ],
   "source": [
    "pagos_2.shape"
   ]
  },
  {
   "cell_type": "markdown",
   "metadata": {},
   "source": [
    "#### PAGOS REPETIDOS FAST PAYMENTS"
   ]
  },
  {
   "cell_type": "code",
   "execution_count": 22,
   "metadata": {},
   "outputs": [
    {
     "name": "stderr",
     "output_type": "stream",
     "text": [
      "C:\\Users\\Cristian.Aparicio\\AppData\\Local\\Temp\\ipykernel_2160\\3928666323.py:2: SettingWithCopyWarning: \n",
      "A value is trying to be set on a copy of a slice from a DataFrame.\n",
      "Try using .loc[row_indexer,col_indexer] = value instead\n",
      "\n",
      "See the caveats in the documentation: https://pandas.pydata.org/pandas-docs/stable/user_guide/indexing.html#returning-a-view-versus-a-copy\n",
      "  duplicates_fp['INDEX'] = duplicates_fp['report_id'] + '_' + duplicates_fp['date_file'].astype('str')\n",
      "C:\\Users\\Cristian.Aparicio\\AppData\\Local\\Temp\\ipykernel_2160\\3928666323.py:3: SettingWithCopyWarning: \n",
      "A value is trying to be set on a copy of a slice from a DataFrame\n",
      "\n",
      "See the caveats in the documentation: https://pandas.pydata.org/pandas-docs/stable/user_guide/indexing.html#returning-a-view-versus-a-copy\n",
      "  duplicates_fp.sort_values(by=['date_file','report_id','Batch_time'],inplace=True)\n"
     ]
    },
    {
     "data": {
      "text/html": [
       "<div>\n",
       "<style scoped>\n",
       "    .dataframe tbody tr th:only-of-type {\n",
       "        vertical-align: middle;\n",
       "    }\n",
       "\n",
       "    .dataframe tbody tr th {\n",
       "        vertical-align: top;\n",
       "    }\n",
       "\n",
       "    .dataframe thead th {\n",
       "        text-align: right;\n",
       "    }\n",
       "</style>\n",
       "<table border=\"1\" class=\"dataframe\">\n",
       "  <thead>\n",
       "    <tr style=\"text-align: right;\">\n",
       "      <th></th>\n",
       "      <th>type</th>\n",
       "      <th>merchant_id</th>\n",
       "      <th>merchant_name</th>\n",
       "      <th>user_email</th>\n",
       "      <th>report_id</th>\n",
       "      <th>report_date_local</th>\n",
       "      <th>total_due</th>\n",
       "      <th>tipo</th>\n",
       "      <th>bank</th>\n",
       "      <th>swap</th>\n",
       "      <th>CLABE</th>\n",
       "      <th>status</th>\n",
       "      <th>LINEA CEP</th>\n",
       "      <th>Batch_time</th>\n",
       "      <th>Banco_emisor</th>\n",
       "      <th>file_name</th>\n",
       "      <th>date_file</th>\n",
       "      <th>INDEX</th>\n",
       "    </tr>\n",
       "  </thead>\n",
       "  <tbody>\n",
       "    <tr>\n",
       "      <th>10</th>\n",
       "      <td>LEDGER_FP</td>\n",
       "      <td>c31b42ff-5d34-4e39-8330-f7b50edbec50</td>\n",
       "      <td>NaN</td>\n",
       "      <td>NaN</td>\n",
       "      <td>A2FWF2R93</td>\n",
       "      <td>2024-01-01</td>\n",
       "      <td>13,951.03</td>\n",
       "      <td>Pago del día</td>\n",
       "      <td>CAJA POP MEXICA</td>\n",
       "      <td>Jacqueline Martínez Díaz</td>\n",
       "      <td>677690044356398744</td>\n",
       "      <td>ERROR</td>\n",
       "      <td>NaN</td>\n",
       "      <td>02. Second_batch</td>\n",
       "      <td>BANORTE</td>\n",
       "      <td>Dispersión-FP 2024-01-01.xlsx</td>\n",
       "      <td>2024-01-01</td>\n",
       "      <td>A2FWF2R93_2024-01-01</td>\n",
       "    </tr>\n",
       "    <tr>\n",
       "      <th>23</th>\n",
       "      <td>LEDGER_FP</td>\n",
       "      <td>c31b42ff-5d34-4e39-8330-f7b50edbec50</td>\n",
       "      <td>NaN</td>\n",
       "      <td>NaN</td>\n",
       "      <td>A2FWF2R93</td>\n",
       "      <td>2024-01-01</td>\n",
       "      <td>13,951.03</td>\n",
       "      <td>Pago del día</td>\n",
       "      <td>CAJA POP MEXICA</td>\n",
       "      <td>Jacqueline Martínez Díaz</td>\n",
       "      <td>677690044356398744</td>\n",
       "      <td>ERROR</td>\n",
       "      <td>NaN</td>\n",
       "      <td>04. Fourth_batch</td>\n",
       "      <td>BANORTE</td>\n",
       "      <td>Dispersión-FP 2024-01-01.xlsx</td>\n",
       "      <td>2024-01-01</td>\n",
       "      <td>A2FWF2R93_2024-01-01</td>\n",
       "    </tr>\n",
       "    <tr>\n",
       "      <th>327</th>\n",
       "      <td>LEDGER_FP</td>\n",
       "      <td>c90766f7-5477-46aa-a4f6-27f71bacd1fe</td>\n",
       "      <td>NaN</td>\n",
       "      <td>NaN</td>\n",
       "      <td>A34XW4PYZ</td>\n",
       "      <td>2024-01-01</td>\n",
       "      <td>693.77</td>\n",
       "      <td>Pago del día</td>\n",
       "      <td>CAJA POP MEXICA</td>\n",
       "      <td>MARCO ANTONIO AGUAYO PEREZ</td>\n",
       "      <td>677222042608722629</td>\n",
       "      <td>PAID</td>\n",
       "      <td>NaN</td>\n",
       "      <td>02. Second_batch</td>\n",
       "      <td>BANORTE</td>\n",
       "      <td>Dispersión-FP 2024-01-01.xlsx</td>\n",
       "      <td>2024-01-01</td>\n",
       "      <td>A34XW4PYZ_2024-01-01</td>\n",
       "    </tr>\n",
       "    <tr>\n",
       "      <th>598</th>\n",
       "      <td>LEDGER_FP</td>\n",
       "      <td>c90766f7-5477-46aa-a4f6-27f71bacd1fe</td>\n",
       "      <td>NaN</td>\n",
       "      <td>NaN</td>\n",
       "      <td>A34XW4PYZ</td>\n",
       "      <td>2024-01-01</td>\n",
       "      <td>693.77</td>\n",
       "      <td>Pago del día</td>\n",
       "      <td>CAJA POP MEXICA</td>\n",
       "      <td>MARCO ANTONIO AGUAYO PEREZ</td>\n",
       "      <td>677222042608722629</td>\n",
       "      <td>PAID</td>\n",
       "      <td>NaN</td>\n",
       "      <td>04. Fourth_batch</td>\n",
       "      <td>BANORTE</td>\n",
       "      <td>Dispersión-FP 2024-01-01.xlsx</td>\n",
       "      <td>2024-01-01</td>\n",
       "      <td>A34XW4PYZ_2024-01-01</td>\n",
       "    </tr>\n",
       "    <tr>\n",
       "      <th>12</th>\n",
       "      <td>LEDGER_FP</td>\n",
       "      <td>dc547d79-14b6-484f-9609-4426530da61b</td>\n",
       "      <td>NaN</td>\n",
       "      <td>NaN</td>\n",
       "      <td>A468GN4YV</td>\n",
       "      <td>2024-01-01</td>\n",
       "      <td>1,116.34</td>\n",
       "      <td>Pago del día</td>\n",
       "      <td>SANTANDER</td>\n",
       "      <td>Enrique Zuniga Acuna</td>\n",
       "      <td>14000606211754166</td>\n",
       "      <td>ERROR</td>\n",
       "      <td>NaN</td>\n",
       "      <td>02. Second_batch</td>\n",
       "      <td>BANORTE</td>\n",
       "      <td>Dispersión-FP 2024-01-01.xlsx</td>\n",
       "      <td>2024-01-01</td>\n",
       "      <td>A468GN4YV_2024-01-01</td>\n",
       "    </tr>\n",
       "  </tbody>\n",
       "</table>\n",
       "</div>"
      ],
      "text/plain": [
       "          type                           merchant_id merchant_name user_email  \\\n",
       "10   LEDGER_FP  c31b42ff-5d34-4e39-8330-f7b50edbec50           NaN        NaN   \n",
       "23   LEDGER_FP  c31b42ff-5d34-4e39-8330-f7b50edbec50           NaN        NaN   \n",
       "327  LEDGER_FP  c90766f7-5477-46aa-a4f6-27f71bacd1fe           NaN        NaN   \n",
       "598  LEDGER_FP  c90766f7-5477-46aa-a4f6-27f71bacd1fe           NaN        NaN   \n",
       "12   LEDGER_FP  dc547d79-14b6-484f-9609-4426530da61b           NaN        NaN   \n",
       "\n",
       "     report_id report_date_local  total_due          tipo             bank  \\\n",
       "10   A2FWF2R93        2024-01-01  13,951.03  Pago del día  CAJA POP MEXICA   \n",
       "23   A2FWF2R93        2024-01-01  13,951.03  Pago del día  CAJA POP MEXICA   \n",
       "327  A34XW4PYZ        2024-01-01     693.77  Pago del día  CAJA POP MEXICA   \n",
       "598  A34XW4PYZ        2024-01-01     693.77  Pago del día  CAJA POP MEXICA   \n",
       "12   A468GN4YV        2024-01-01   1,116.34  Pago del día        SANTANDER   \n",
       "\n",
       "                           swap               CLABE status LINEA CEP  \\\n",
       "10     Jacqueline Martínez Díaz  677690044356398744  ERROR       NaN   \n",
       "23     Jacqueline Martínez Díaz  677690044356398744  ERROR       NaN   \n",
       "327  MARCO ANTONIO AGUAYO PEREZ  677222042608722629   PAID       NaN   \n",
       "598  MARCO ANTONIO AGUAYO PEREZ  677222042608722629   PAID       NaN   \n",
       "12        Enrique Zuniga Acuna    14000606211754166  ERROR       NaN   \n",
       "\n",
       "           Batch_time Banco_emisor                      file_name  date_file  \\\n",
       "10   02. Second_batch      BANORTE  Dispersión-FP 2024-01-01.xlsx 2024-01-01   \n",
       "23   04. Fourth_batch      BANORTE  Dispersión-FP 2024-01-01.xlsx 2024-01-01   \n",
       "327  02. Second_batch      BANORTE  Dispersión-FP 2024-01-01.xlsx 2024-01-01   \n",
       "598  04. Fourth_batch      BANORTE  Dispersión-FP 2024-01-01.xlsx 2024-01-01   \n",
       "12   02. Second_batch      BANORTE  Dispersión-FP 2024-01-01.xlsx 2024-01-01   \n",
       "\n",
       "                    INDEX  \n",
       "10   A2FWF2R93_2024-01-01  \n",
       "23   A2FWF2R93_2024-01-01  \n",
       "327  A34XW4PYZ_2024-01-01  \n",
       "598  A34XW4PYZ_2024-01-01  \n",
       "12   A468GN4YV_2024-01-01  "
      ]
     },
     "execution_count": 22,
     "metadata": {},
     "output_type": "execute_result"
    }
   ],
   "source": [
    "duplicates_fp = pagos_2[pagos_2.duplicated(['report_id','date_file'] , keep=False)]\n",
    "duplicates_fp['INDEX'] = duplicates_fp['report_id'] + '_' + duplicates_fp['date_file'].astype('str')\n",
    "duplicates_fp.sort_values(by=['date_file','report_id','Batch_time'],inplace=True)\n",
    "duplicates_fp.head()"
   ]
  },
  {
   "cell_type": "code",
   "execution_count": 23,
   "metadata": {},
   "outputs": [
    {
     "data": {
      "text/plain": [
       "(1479, 18)"
      ]
     },
     "execution_count": 23,
     "metadata": {},
     "output_type": "execute_result"
    }
   ],
   "source": [
    "duplicates_fp.shape"
   ]
  },
  {
   "cell_type": "code",
   "execution_count": 24,
   "metadata": {},
   "outputs": [
    {
     "name": "stderr",
     "output_type": "stream",
     "text": [
      "C:\\Users\\Cristian.Aparicio\\AppData\\Local\\Temp\\ipykernel_2160\\2218390481.py:1: SettingWithCopyWarning: \n",
      "A value is trying to be set on a copy of a slice from a DataFrame\n",
      "\n",
      "See the caveats in the documentation: https://pandas.pydata.org/pandas-docs/stable/user_guide/indexing.html#returning-a-view-versus-a-copy\n",
      "  duplicates_fp.drop_duplicates(subset=\"INDEX\", keep='last', inplace=True)\n"
     ]
    }
   ],
   "source": [
    "duplicates_fp.drop_duplicates(subset=\"INDEX\", keep='last', inplace=True)"
   ]
  },
  {
   "cell_type": "code",
   "execution_count": 25,
   "metadata": {},
   "outputs": [
    {
     "data": {
      "text/html": [
       "<div>\n",
       "<style scoped>\n",
       "    .dataframe tbody tr th:only-of-type {\n",
       "        vertical-align: middle;\n",
       "    }\n",
       "\n",
       "    .dataframe tbody tr th {\n",
       "        vertical-align: top;\n",
       "    }\n",
       "\n",
       "    .dataframe thead th {\n",
       "        text-align: right;\n",
       "    }\n",
       "</style>\n",
       "<table border=\"1\" class=\"dataframe\">\n",
       "  <thead>\n",
       "    <tr style=\"text-align: right;\">\n",
       "      <th></th>\n",
       "      <th>type</th>\n",
       "      <th>merchant_id</th>\n",
       "      <th>merchant_name</th>\n",
       "      <th>user_email</th>\n",
       "      <th>report_id</th>\n",
       "      <th>report_date_local</th>\n",
       "      <th>total_due</th>\n",
       "      <th>tipo</th>\n",
       "      <th>bank</th>\n",
       "      <th>swap</th>\n",
       "      <th>CLABE</th>\n",
       "      <th>status</th>\n",
       "      <th>LINEA CEP</th>\n",
       "      <th>Batch_time</th>\n",
       "      <th>Banco_emisor</th>\n",
       "      <th>file_name</th>\n",
       "      <th>date_file</th>\n",
       "      <th>INDEX</th>\n",
       "    </tr>\n",
       "  </thead>\n",
       "  <tbody>\n",
       "    <tr>\n",
       "      <th>23</th>\n",
       "      <td>LEDGER_FP</td>\n",
       "      <td>c31b42ff-5d34-4e39-8330-f7b50edbec50</td>\n",
       "      <td>NaN</td>\n",
       "      <td>NaN</td>\n",
       "      <td>A2FWF2R93</td>\n",
       "      <td>2024-01-01</td>\n",
       "      <td>13,951.03</td>\n",
       "      <td>Pago del día</td>\n",
       "      <td>CAJA POP MEXICA</td>\n",
       "      <td>Jacqueline Martínez Díaz</td>\n",
       "      <td>677690044356398744</td>\n",
       "      <td>ERROR</td>\n",
       "      <td>NaN</td>\n",
       "      <td>04. Fourth_batch</td>\n",
       "      <td>BANORTE</td>\n",
       "      <td>Dispersión-FP 2024-01-01.xlsx</td>\n",
       "      <td>2024-01-01</td>\n",
       "      <td>A2FWF2R93_2024-01-01</td>\n",
       "    </tr>\n",
       "    <tr>\n",
       "      <th>598</th>\n",
       "      <td>LEDGER_FP</td>\n",
       "      <td>c90766f7-5477-46aa-a4f6-27f71bacd1fe</td>\n",
       "      <td>NaN</td>\n",
       "      <td>NaN</td>\n",
       "      <td>A34XW4PYZ</td>\n",
       "      <td>2024-01-01</td>\n",
       "      <td>693.77</td>\n",
       "      <td>Pago del día</td>\n",
       "      <td>CAJA POP MEXICA</td>\n",
       "      <td>MARCO ANTONIO AGUAYO PEREZ</td>\n",
       "      <td>677222042608722629</td>\n",
       "      <td>PAID</td>\n",
       "      <td>NaN</td>\n",
       "      <td>04. Fourth_batch</td>\n",
       "      <td>BANORTE</td>\n",
       "      <td>Dispersión-FP 2024-01-01.xlsx</td>\n",
       "      <td>2024-01-01</td>\n",
       "      <td>A34XW4PYZ_2024-01-01</td>\n",
       "    </tr>\n",
       "    <tr>\n",
       "      <th>26</th>\n",
       "      <td>LEDGER_FP</td>\n",
       "      <td>dc547d79-14b6-484f-9609-4426530da61b</td>\n",
       "      <td>NaN</td>\n",
       "      <td>NaN</td>\n",
       "      <td>A468GN4YV</td>\n",
       "      <td>2024-01-01</td>\n",
       "      <td>1,116.34</td>\n",
       "      <td>Pago del día</td>\n",
       "      <td>SANTANDER</td>\n",
       "      <td>Enrique Zuniga Acuna</td>\n",
       "      <td>14000606211754166</td>\n",
       "      <td>ERROR</td>\n",
       "      <td>NaN</td>\n",
       "      <td>04. Fourth_batch</td>\n",
       "      <td>BANORTE</td>\n",
       "      <td>Dispersión-FP 2024-01-01.xlsx</td>\n",
       "      <td>2024-01-01</td>\n",
       "      <td>A468GN4YV_2024-01-01</td>\n",
       "    </tr>\n",
       "    <tr>\n",
       "      <th>493</th>\n",
       "      <td>LEDGER_FP</td>\n",
       "      <td>5150c3c4-6b3c-4e16-b544-13ef4548d26c</td>\n",
       "      <td>NaN</td>\n",
       "      <td>NaN</td>\n",
       "      <td>A787S7QYG</td>\n",
       "      <td>2024-01-01</td>\n",
       "      <td>2.00</td>\n",
       "      <td>Pago del día</td>\n",
       "      <td>CAJA POP MEXICA</td>\n",
       "      <td>Ramon Olmos Mrquez</td>\n",
       "      <td>677180044278399195</td>\n",
       "      <td>PAID</td>\n",
       "      <td>NaN</td>\n",
       "      <td>04. Fourth_batch</td>\n",
       "      <td>BANORTE</td>\n",
       "      <td>Dispersión-FP 2024-01-01.xlsx</td>\n",
       "      <td>2024-01-01</td>\n",
       "      <td>A787S7QYG_2024-01-01</td>\n",
       "    </tr>\n",
       "    <tr>\n",
       "      <th>16</th>\n",
       "      <td>LEDGER_FP</td>\n",
       "      <td>0f8187da-2201-47a4-a080-c3fd0c295845</td>\n",
       "      <td>NaN</td>\n",
       "      <td>NaN</td>\n",
       "      <td>A95HMQCJ8</td>\n",
       "      <td>2024-01-01</td>\n",
       "      <td>924.70</td>\n",
       "      <td>Pago del día</td>\n",
       "      <td>CAJA POP MEXICA</td>\n",
       "      <td>Claudia Horalia Rivera Reyes</td>\n",
       "      <td>677010042278353012</td>\n",
       "      <td>ERROR</td>\n",
       "      <td>NaN</td>\n",
       "      <td>04. Fourth_batch</td>\n",
       "      <td>BANORTE</td>\n",
       "      <td>Dispersión-FP 2024-01-01.xlsx</td>\n",
       "      <td>2024-01-01</td>\n",
       "      <td>A95HMQCJ8_2024-01-01</td>\n",
       "    </tr>\n",
       "  </tbody>\n",
       "</table>\n",
       "</div>"
      ],
      "text/plain": [
       "          type                           merchant_id merchant_name user_email  \\\n",
       "23   LEDGER_FP  c31b42ff-5d34-4e39-8330-f7b50edbec50           NaN        NaN   \n",
       "598  LEDGER_FP  c90766f7-5477-46aa-a4f6-27f71bacd1fe           NaN        NaN   \n",
       "26   LEDGER_FP  dc547d79-14b6-484f-9609-4426530da61b           NaN        NaN   \n",
       "493  LEDGER_FP  5150c3c4-6b3c-4e16-b544-13ef4548d26c           NaN        NaN   \n",
       "16   LEDGER_FP  0f8187da-2201-47a4-a080-c3fd0c295845           NaN        NaN   \n",
       "\n",
       "     report_id report_date_local  total_due          tipo             bank  \\\n",
       "23   A2FWF2R93        2024-01-01  13,951.03  Pago del día  CAJA POP MEXICA   \n",
       "598  A34XW4PYZ        2024-01-01     693.77  Pago del día  CAJA POP MEXICA   \n",
       "26   A468GN4YV        2024-01-01   1,116.34  Pago del día        SANTANDER   \n",
       "493  A787S7QYG        2024-01-01       2.00  Pago del día  CAJA POP MEXICA   \n",
       "16   A95HMQCJ8        2024-01-01     924.70  Pago del día  CAJA POP MEXICA   \n",
       "\n",
       "                             swap               CLABE status LINEA CEP  \\\n",
       "23       Jacqueline Martínez Díaz  677690044356398744  ERROR       NaN   \n",
       "598    MARCO ANTONIO AGUAYO PEREZ  677222042608722629   PAID       NaN   \n",
       "26          Enrique Zuniga Acuna    14000606211754166  ERROR       NaN   \n",
       "493            Ramon Olmos Mrquez  677180044278399195   PAID       NaN   \n",
       "16   Claudia Horalia Rivera Reyes  677010042278353012  ERROR       NaN   \n",
       "\n",
       "           Batch_time Banco_emisor                      file_name  date_file  \\\n",
       "23   04. Fourth_batch      BANORTE  Dispersión-FP 2024-01-01.xlsx 2024-01-01   \n",
       "598  04. Fourth_batch      BANORTE  Dispersión-FP 2024-01-01.xlsx 2024-01-01   \n",
       "26   04. Fourth_batch      BANORTE  Dispersión-FP 2024-01-01.xlsx 2024-01-01   \n",
       "493  04. Fourth_batch      BANORTE  Dispersión-FP 2024-01-01.xlsx 2024-01-01   \n",
       "16   04. Fourth_batch      BANORTE  Dispersión-FP 2024-01-01.xlsx 2024-01-01   \n",
       "\n",
       "                    INDEX  \n",
       "23   A2FWF2R93_2024-01-01  \n",
       "598  A34XW4PYZ_2024-01-01  \n",
       "26   A468GN4YV_2024-01-01  \n",
       "493  A787S7QYG_2024-01-01  \n",
       "16   A95HMQCJ8_2024-01-01  "
      ]
     },
     "execution_count": 25,
     "metadata": {},
     "output_type": "execute_result"
    }
   ],
   "source": [
    "duplicates_fp.head()"
   ]
  },
  {
   "cell_type": "code",
   "execution_count": 26,
   "metadata": {},
   "outputs": [
    {
     "data": {
      "text/plain": [
       "(655, 18)"
      ]
     },
     "execution_count": 26,
     "metadata": {},
     "output_type": "execute_result"
    }
   ],
   "source": [
    "duplicates_fp.shape"
   ]
  },
  {
   "cell_type": "code",
   "execution_count": 27,
   "metadata": {},
   "outputs": [
    {
     "data": {
      "text/html": [
       "<div>\n",
       "<style scoped>\n",
       "    .dataframe tbody tr th:only-of-type {\n",
       "        vertical-align: middle;\n",
       "    }\n",
       "\n",
       "    .dataframe tbody tr th {\n",
       "        vertical-align: top;\n",
       "    }\n",
       "\n",
       "    .dataframe thead tr th {\n",
       "        text-align: left;\n",
       "    }\n",
       "</style>\n",
       "<table border=\"1\" class=\"dataframe\">\n",
       "  <thead>\n",
       "    <tr>\n",
       "      <th></th>\n",
       "      <th>tipo</th>\n",
       "      <th>date_file</th>\n",
       "      <th colspan=\"3\" halign=\"left\">sum</th>\n",
       "      <th colspan=\"3\" halign=\"left\">len</th>\n",
       "    </tr>\n",
       "    <tr>\n",
       "      <th></th>\n",
       "      <th></th>\n",
       "      <th></th>\n",
       "      <th colspan=\"3\" halign=\"left\">total_due</th>\n",
       "      <th colspan=\"3\" halign=\"left\">total_due</th>\n",
       "    </tr>\n",
       "    <tr>\n",
       "      <th>type</th>\n",
       "      <th></th>\n",
       "      <th></th>\n",
       "      <th>INSTANT</th>\n",
       "      <th>LEDGER_FP</th>\n",
       "      <th>All</th>\n",
       "      <th>INSTANT</th>\n",
       "      <th>LEDGER_FP</th>\n",
       "      <th>All</th>\n",
       "    </tr>\n",
       "  </thead>\n",
       "  <tbody>\n",
       "    <tr>\n",
       "      <th>0</th>\n",
       "      <td>Pago del día</td>\n",
       "      <td>2024-01-01 00:00:00</td>\n",
       "      <td>NaN</td>\n",
       "      <td>160,906.30</td>\n",
       "      <td>160,906.30</td>\n",
       "      <td>NaN</td>\n",
       "      <td>17.00</td>\n",
       "      <td>17</td>\n",
       "    </tr>\n",
       "    <tr>\n",
       "      <th>1</th>\n",
       "      <td>Pago del día</td>\n",
       "      <td>2024-01-02 00:00:00</td>\n",
       "      <td>NaN</td>\n",
       "      <td>47,816.60</td>\n",
       "      <td>47,816.60</td>\n",
       "      <td>NaN</td>\n",
       "      <td>5.00</td>\n",
       "      <td>5</td>\n",
       "    </tr>\n",
       "    <tr>\n",
       "      <th>2</th>\n",
       "      <td>Pago del día</td>\n",
       "      <td>2024-01-03 00:00:00</td>\n",
       "      <td>NaN</td>\n",
       "      <td>64.20</td>\n",
       "      <td>64.20</td>\n",
       "      <td>NaN</td>\n",
       "      <td>1.00</td>\n",
       "      <td>1</td>\n",
       "    </tr>\n",
       "    <tr>\n",
       "      <th>3</th>\n",
       "      <td>Pago del día</td>\n",
       "      <td>2024-01-04 00:00:00</td>\n",
       "      <td>NaN</td>\n",
       "      <td>32,043.39</td>\n",
       "      <td>32,043.39</td>\n",
       "      <td>NaN</td>\n",
       "      <td>3.00</td>\n",
       "      <td>3</td>\n",
       "    </tr>\n",
       "    <tr>\n",
       "      <th>4</th>\n",
       "      <td>Pago del día</td>\n",
       "      <td>2024-01-05 00:00:00</td>\n",
       "      <td>NaN</td>\n",
       "      <td>9,957.27</td>\n",
       "      <td>9,957.27</td>\n",
       "      <td>NaN</td>\n",
       "      <td>6.00</td>\n",
       "      <td>6</td>\n",
       "    </tr>\n",
       "  </tbody>\n",
       "</table>\n",
       "</div>"
      ],
      "text/plain": [
       "              tipo            date_file       sum                        \\\n",
       "                                        total_due                         \n",
       "type                                      INSTANT  LEDGER_FP        All   \n",
       "0     Pago del día  2024-01-01 00:00:00       NaN 160,906.30 160,906.30   \n",
       "1     Pago del día  2024-01-02 00:00:00       NaN  47,816.60  47,816.60   \n",
       "2     Pago del día  2024-01-03 00:00:00       NaN      64.20      64.20   \n",
       "3     Pago del día  2024-01-04 00:00:00       NaN  32,043.39  32,043.39   \n",
       "4     Pago del día  2024-01-05 00:00:00       NaN   9,957.27   9,957.27   \n",
       "\n",
       "           len                \n",
       "     total_due                \n",
       "type   INSTANT LEDGER_FP All  \n",
       "0          NaN     17.00  17  \n",
       "1          NaN      5.00   5  \n",
       "2          NaN      1.00   1  \n",
       "3          NaN      3.00   3  \n",
       "4          NaN      6.00   6  "
      ]
     },
     "execution_count": 27,
     "metadata": {},
     "output_type": "execute_result"
    }
   ],
   "source": [
    "pivot_duplicates_fp = pd.pivot_table(duplicates_fp,index=['tipo','date_file'],\n",
    "                                     columns=['type'],\n",
    "                                  values=['total_due']\n",
    "                                  ,aggfunc = ['sum', len],margins=True)\n",
    "pivot_duplicates_fp.reset_index(drop=False, inplace=True)\n",
    "pivot_duplicates_fp.head()"
   ]
  },
  {
   "cell_type": "code",
   "execution_count": 28,
   "metadata": {},
   "outputs": [
    {
     "data": {
      "text/plain": [
       "(49, 8)"
      ]
     },
     "execution_count": 28,
     "metadata": {},
     "output_type": "execute_result"
    }
   ],
   "source": [
    "pivot_duplicates_fp.shape"
   ]
  },
  {
   "cell_type": "code",
   "execution_count": 29,
   "metadata": {},
   "outputs": [],
   "source": [
    "# pivot_duplicates_fp.to_excel('DUPLICADOS FP JUNIO 2021.xlsx',index=True)"
   ]
  },
  {
   "cell_type": "markdown",
   "metadata": {},
   "source": [
    "#### ALL PAGOS"
   ]
  },
  {
   "cell_type": "code",
   "execution_count": 30,
   "metadata": {},
   "outputs": [
    {
     "data": {
      "text/html": [
       "<div>\n",
       "<style scoped>\n",
       "    .dataframe tbody tr th:only-of-type {\n",
       "        vertical-align: middle;\n",
       "    }\n",
       "\n",
       "    .dataframe tbody tr th {\n",
       "        vertical-align: top;\n",
       "    }\n",
       "\n",
       "    .dataframe thead th {\n",
       "        text-align: right;\n",
       "    }\n",
       "</style>\n",
       "<table border=\"1\" class=\"dataframe\">\n",
       "  <thead>\n",
       "    <tr style=\"text-align: right;\">\n",
       "      <th></th>\n",
       "      <th>type</th>\n",
       "      <th>merchant_id</th>\n",
       "      <th>merchant_name</th>\n",
       "      <th>user_email</th>\n",
       "      <th>report_id</th>\n",
       "      <th>report_date_local</th>\n",
       "      <th>total_due</th>\n",
       "      <th>tipo</th>\n",
       "      <th>bank</th>\n",
       "      <th>bank_account_owner_name</th>\n",
       "      <th>CLABE</th>\n",
       "      <th>status</th>\n",
       "      <th>LINEA CEP</th>\n",
       "      <th>Batch_time</th>\n",
       "      <th>Banco_emisor</th>\n",
       "      <th>file_name</th>\n",
       "      <th>date_file</th>\n",
       "      <th>swap</th>\n",
       "    </tr>\n",
       "  </thead>\n",
       "  <tbody>\n",
       "    <tr>\n",
       "      <th>0</th>\n",
       "      <td>LEDGER_TRAD</td>\n",
       "      <td>03c36e07-4550-4a03-addc-23932ed78f86</td>\n",
       "      <td>NaN</td>\n",
       "      <td>NaN</td>\n",
       "      <td>A935WHWRG</td>\n",
       "      <td>2024-01-01</td>\n",
       "      <td>267.34</td>\n",
       "      <td>Pago del día</td>\n",
       "      <td>BBVA BANCOMER</td>\n",
       "      <td>Flor Liliana Gonzalez Gonzalez</td>\n",
       "      <td>12500029618132855</td>\n",
       "      <td>ERROR</td>\n",
       "      <td>NaN</td>\n",
       "      <td>01. First_batch</td>\n",
       "      <td>BANORTE</td>\n",
       "      <td>Dispersión-20240101.xlsx</td>\n",
       "      <td>2024-01-01</td>\n",
       "      <td>NaN</td>\n",
       "    </tr>\n",
       "    <tr>\n",
       "      <th>48668</th>\n",
       "      <td>LEDGER_TRAD</td>\n",
       "      <td>ab530350-07a8-422f-bc9d-81aeaa89f1db</td>\n",
       "      <td>NaN</td>\n",
       "      <td>NaN</td>\n",
       "      <td>AC9DQF6CR</td>\n",
       "      <td>2024-01-01</td>\n",
       "      <td>1,629.01</td>\n",
       "      <td>Pago del día</td>\n",
       "      <td>HSBC</td>\n",
       "      <td>Alejandro Garcia Gomez</td>\n",
       "      <td>21290065927796690</td>\n",
       "      <td>PAID</td>\n",
       "      <td>2024-01-01,42644264202401012759773444,40072,40...</td>\n",
       "      <td>01. First_batch</td>\n",
       "      <td>BANORTE</td>\n",
       "      <td>Dispersión-20240101.xlsx</td>\n",
       "      <td>2024-01-01</td>\n",
       "      <td>NaN</td>\n",
       "    </tr>\n",
       "    <tr>\n",
       "      <th>48669</th>\n",
       "      <td>LEDGER_TRAD</td>\n",
       "      <td>ab5444dc-0e70-4ee7-9a28-e386d01bc928</td>\n",
       "      <td>NaN</td>\n",
       "      <td>NaN</td>\n",
       "      <td>A9RLJ33Q6</td>\n",
       "      <td>2024-01-01</td>\n",
       "      <td>57,446.48</td>\n",
       "      <td>Pago del día</td>\n",
       "      <td>BAJIO</td>\n",
       "      <td>Hugo Javier Lopez Bonifaz</td>\n",
       "      <td>30320900004894431</td>\n",
       "      <td>PAID</td>\n",
       "      <td>2024-01-01,42644264202401012759744087,40072,40...</td>\n",
       "      <td>01. First_batch</td>\n",
       "      <td>BANORTE</td>\n",
       "      <td>Dispersión-20240101.xlsx</td>\n",
       "      <td>2024-01-01</td>\n",
       "      <td>NaN</td>\n",
       "    </tr>\n",
       "    <tr>\n",
       "      <th>48670</th>\n",
       "      <td>LEDGER_TRAD</td>\n",
       "      <td>ab549ce9-08c3-434b-b208-58bd270c8f8c</td>\n",
       "      <td>NaN</td>\n",
       "      <td>NaN</td>\n",
       "      <td>A3Z2D3SK2</td>\n",
       "      <td>2024-01-01</td>\n",
       "      <td>172.48</td>\n",
       "      <td>Pago del día</td>\n",
       "      <td>SANTANDER</td>\n",
       "      <td>Guadalupe Rosales Jimenez</td>\n",
       "      <td>14180605766810447</td>\n",
       "      <td>PAID</td>\n",
       "      <td>2024-01-01,42644264202401012759714239,40072,40...</td>\n",
       "      <td>01. First_batch</td>\n",
       "      <td>BANORTE</td>\n",
       "      <td>Dispersión-20240101.xlsx</td>\n",
       "      <td>2024-01-01</td>\n",
       "      <td>NaN</td>\n",
       "    </tr>\n",
       "    <tr>\n",
       "      <th>48671</th>\n",
       "      <td>LEDGER_TRAD</td>\n",
       "      <td>ab562636-b3ef-4a85-b9b6-1b3fc661ada0</td>\n",
       "      <td>NaN</td>\n",
       "      <td>NaN</td>\n",
       "      <td>ASNVFSMS5</td>\n",
       "      <td>2024-01-01</td>\n",
       "      <td>10,166.03</td>\n",
       "      <td>Pago del día</td>\n",
       "      <td>BBVA BANCOMER</td>\n",
       "      <td>Felipe David Valerio Aguilar</td>\n",
       "      <td>12930011521559909</td>\n",
       "      <td>PAID</td>\n",
       "      <td>2024-01-01,42644264202401012759758846,40072,40...</td>\n",
       "      <td>01. First_batch</td>\n",
       "      <td>BANORTE</td>\n",
       "      <td>Dispersión-20240101.xlsx</td>\n",
       "      <td>2024-01-01</td>\n",
       "      <td>NaN</td>\n",
       "    </tr>\n",
       "  </tbody>\n",
       "</table>\n",
       "</div>"
      ],
      "text/plain": [
       "              type                           merchant_id merchant_name  \\\n",
       "0      LEDGER_TRAD  03c36e07-4550-4a03-addc-23932ed78f86           NaN   \n",
       "48668  LEDGER_TRAD  ab530350-07a8-422f-bc9d-81aeaa89f1db           NaN   \n",
       "48669  LEDGER_TRAD  ab5444dc-0e70-4ee7-9a28-e386d01bc928           NaN   \n",
       "48670  LEDGER_TRAD  ab549ce9-08c3-434b-b208-58bd270c8f8c           NaN   \n",
       "48671  LEDGER_TRAD  ab562636-b3ef-4a85-b9b6-1b3fc661ada0           NaN   \n",
       "\n",
       "      user_email  report_id report_date_local  total_due          tipo  \\\n",
       "0            NaN  A935WHWRG        2024-01-01     267.34  Pago del día   \n",
       "48668        NaN  AC9DQF6CR        2024-01-01   1,629.01  Pago del día   \n",
       "48669        NaN  A9RLJ33Q6        2024-01-01  57,446.48  Pago del día   \n",
       "48670        NaN  A3Z2D3SK2        2024-01-01     172.48  Pago del día   \n",
       "48671        NaN  ASNVFSMS5        2024-01-01  10,166.03  Pago del día   \n",
       "\n",
       "                bank         bank_account_owner_name              CLABE  \\\n",
       "0      BBVA BANCOMER  Flor Liliana Gonzalez Gonzalez  12500029618132855   \n",
       "48668           HSBC          Alejandro Garcia Gomez  21290065927796690   \n",
       "48669          BAJIO       Hugo Javier Lopez Bonifaz  30320900004894431   \n",
       "48670      SANTANDER       Guadalupe Rosales Jimenez  14180605766810447   \n",
       "48671  BBVA BANCOMER   Felipe David Valerio Aguilar   12930011521559909   \n",
       "\n",
       "      status                                          LINEA CEP  \\\n",
       "0      ERROR                                                NaN   \n",
       "48668   PAID  2024-01-01,42644264202401012759773444,40072,40...   \n",
       "48669   PAID  2024-01-01,42644264202401012759744087,40072,40...   \n",
       "48670   PAID  2024-01-01,42644264202401012759714239,40072,40...   \n",
       "48671   PAID  2024-01-01,42644264202401012759758846,40072,40...   \n",
       "\n",
       "            Batch_time Banco_emisor                 file_name  date_file swap  \n",
       "0      01. First_batch      BANORTE  Dispersión-20240101.xlsx 2024-01-01  NaN  \n",
       "48668  01. First_batch      BANORTE  Dispersión-20240101.xlsx 2024-01-01  NaN  \n",
       "48669  01. First_batch      BANORTE  Dispersión-20240101.xlsx 2024-01-01  NaN  \n",
       "48670  01. First_batch      BANORTE  Dispersión-20240101.xlsx 2024-01-01  NaN  \n",
       "48671  01. First_batch      BANORTE  Dispersión-20240101.xlsx 2024-01-01  NaN  "
      ]
     },
     "execution_count": 30,
     "metadata": {},
     "output_type": "execute_result"
    }
   ],
   "source": [
    "allpagos = pd.concat([pagos_1,pagos_2])\n",
    "allpagos.head()"
   ]
  },
  {
   "cell_type": "code",
   "execution_count": 31,
   "metadata": {},
   "outputs": [
    {
     "data": {
      "text/plain": [
       "(3049353, 18)"
      ]
     },
     "execution_count": 31,
     "metadata": {},
     "output_type": "execute_result"
    }
   ],
   "source": [
    "allpagos.shape"
   ]
  },
  {
   "cell_type": "code",
   "execution_count": 32,
   "metadata": {},
   "outputs": [
    {
     "data": {
      "text/plain": [
       "array(['Pago del día', 'Reprogramación'], dtype=object)"
      ]
     },
     "execution_count": 32,
     "metadata": {},
     "output_type": "execute_result"
    }
   ],
   "source": [
    "allpagos['tipo'].unique()"
   ]
  },
  {
   "cell_type": "code",
   "execution_count": 33,
   "metadata": {},
   "outputs": [
    {
     "name": "stderr",
     "output_type": "stream",
     "text": [
      "C:\\Users\\Cristian.Aparicio\\AppData\\Local\\Temp\\ipykernel_2160\\3072073980.py:1: FutureWarning: The provided callable <built-in function sum> is currently using SeriesGroupBy.sum. In a future version of pandas, the provided callable will be used directly. To keep current behavior pass the string \"sum\" instead.\n",
      "  group_allpagos = allpagos.groupby(['date_file']).agg({'total_due':sum,'report_id':'count'}).reset_index()\n"
     ]
    },
    {
     "data": {
      "text/html": [
       "<div>\n",
       "<style scoped>\n",
       "    .dataframe tbody tr th:only-of-type {\n",
       "        vertical-align: middle;\n",
       "    }\n",
       "\n",
       "    .dataframe tbody tr th {\n",
       "        vertical-align: top;\n",
       "    }\n",
       "\n",
       "    .dataframe thead th {\n",
       "        text-align: right;\n",
       "    }\n",
       "</style>\n",
       "<table border=\"1\" class=\"dataframe\">\n",
       "  <thead>\n",
       "    <tr style=\"text-align: right;\">\n",
       "      <th></th>\n",
       "      <th>date_file</th>\n",
       "      <th>total_due</th>\n",
       "      <th>report_id</th>\n",
       "    </tr>\n",
       "  </thead>\n",
       "  <tbody>\n",
       "    <tr>\n",
       "      <th>0</th>\n",
       "      <td>2024-01-01</td>\n",
       "      <td>236,237,714.90</td>\n",
       "      <td>74190</td>\n",
       "    </tr>\n",
       "    <tr>\n",
       "      <th>1</th>\n",
       "      <td>2024-01-02</td>\n",
       "      <td>130,823,715.11</td>\n",
       "      <td>38879</td>\n",
       "    </tr>\n",
       "    <tr>\n",
       "      <th>2</th>\n",
       "      <td>2024-01-03</td>\n",
       "      <td>235,162,100.38</td>\n",
       "      <td>92001</td>\n",
       "    </tr>\n",
       "    <tr>\n",
       "      <th>3</th>\n",
       "      <td>2024-01-04</td>\n",
       "      <td>247,827,537.61</td>\n",
       "      <td>99981</td>\n",
       "    </tr>\n",
       "    <tr>\n",
       "      <th>4</th>\n",
       "      <td>2024-01-05</td>\n",
       "      <td>256,205,736.07</td>\n",
       "      <td>104750</td>\n",
       "    </tr>\n",
       "  </tbody>\n",
       "</table>\n",
       "</div>"
      ],
      "text/plain": [
       "   date_file      total_due  report_id\n",
       "0 2024-01-01 236,237,714.90      74190\n",
       "1 2024-01-02 130,823,715.11      38879\n",
       "2 2024-01-03 235,162,100.38      92001\n",
       "3 2024-01-04 247,827,537.61      99981\n",
       "4 2024-01-05 256,205,736.07     104750"
      ]
     },
     "execution_count": 33,
     "metadata": {},
     "output_type": "execute_result"
    }
   ],
   "source": [
    "group_allpagos = allpagos.groupby(['date_file']).agg({'total_due':sum,'report_id':'count'}).reset_index()\n",
    "group_allpagos.head()"
   ]
  },
  {
   "cell_type": "code",
   "execution_count": 34,
   "metadata": {},
   "outputs": [
    {
     "data": {
      "text/plain": [
       "(31, 3)"
      ]
     },
     "execution_count": 34,
     "metadata": {},
     "output_type": "execute_result"
    }
   ],
   "source": [
    "group_allpagos.shape"
   ]
  },
  {
   "cell_type": "markdown",
   "metadata": {},
   "source": [
    "#### PAGOS DEL DIA"
   ]
  },
  {
   "cell_type": "code",
   "execution_count": 35,
   "metadata": {},
   "outputs": [
    {
     "data": {
      "text/html": [
       "<div>\n",
       "<style scoped>\n",
       "    .dataframe tbody tr th:only-of-type {\n",
       "        vertical-align: middle;\n",
       "    }\n",
       "\n",
       "    .dataframe tbody tr th {\n",
       "        vertical-align: top;\n",
       "    }\n",
       "\n",
       "    .dataframe thead th {\n",
       "        text-align: right;\n",
       "    }\n",
       "</style>\n",
       "<table border=\"1\" class=\"dataframe\">\n",
       "  <thead>\n",
       "    <tr style=\"text-align: right;\">\n",
       "      <th></th>\n",
       "      <th>type</th>\n",
       "      <th>merchant_id</th>\n",
       "      <th>merchant_name</th>\n",
       "      <th>user_email</th>\n",
       "      <th>report_id</th>\n",
       "      <th>report_date_local</th>\n",
       "      <th>total_due</th>\n",
       "      <th>tipo</th>\n",
       "      <th>bank</th>\n",
       "      <th>bank_account_owner_name</th>\n",
       "      <th>CLABE</th>\n",
       "      <th>status</th>\n",
       "      <th>LINEA CEP</th>\n",
       "      <th>Batch_time</th>\n",
       "      <th>Banco_emisor</th>\n",
       "      <th>file_name</th>\n",
       "      <th>date_file</th>\n",
       "      <th>swap</th>\n",
       "    </tr>\n",
       "  </thead>\n",
       "  <tbody>\n",
       "    <tr>\n",
       "      <th>0</th>\n",
       "      <td>LEDGER_TRAD</td>\n",
       "      <td>03c36e07-4550-4a03-addc-23932ed78f86</td>\n",
       "      <td>NaN</td>\n",
       "      <td>NaN</td>\n",
       "      <td>A935WHWRG</td>\n",
       "      <td>2024-01-01</td>\n",
       "      <td>267.34</td>\n",
       "      <td>Pago del día</td>\n",
       "      <td>BBVA BANCOMER</td>\n",
       "      <td>Flor Liliana Gonzalez Gonzalez</td>\n",
       "      <td>12500029618132855</td>\n",
       "      <td>ERROR</td>\n",
       "      <td>NaN</td>\n",
       "      <td>01. First_batch</td>\n",
       "      <td>BANORTE</td>\n",
       "      <td>Dispersión-20240101.xlsx</td>\n",
       "      <td>2024-01-01</td>\n",
       "      <td>NaN</td>\n",
       "    </tr>\n",
       "    <tr>\n",
       "      <th>48668</th>\n",
       "      <td>LEDGER_TRAD</td>\n",
       "      <td>ab530350-07a8-422f-bc9d-81aeaa89f1db</td>\n",
       "      <td>NaN</td>\n",
       "      <td>NaN</td>\n",
       "      <td>AC9DQF6CR</td>\n",
       "      <td>2024-01-01</td>\n",
       "      <td>1,629.01</td>\n",
       "      <td>Pago del día</td>\n",
       "      <td>HSBC</td>\n",
       "      <td>Alejandro Garcia Gomez</td>\n",
       "      <td>21290065927796690</td>\n",
       "      <td>PAID</td>\n",
       "      <td>2024-01-01,42644264202401012759773444,40072,40...</td>\n",
       "      <td>01. First_batch</td>\n",
       "      <td>BANORTE</td>\n",
       "      <td>Dispersión-20240101.xlsx</td>\n",
       "      <td>2024-01-01</td>\n",
       "      <td>NaN</td>\n",
       "    </tr>\n",
       "    <tr>\n",
       "      <th>48669</th>\n",
       "      <td>LEDGER_TRAD</td>\n",
       "      <td>ab5444dc-0e70-4ee7-9a28-e386d01bc928</td>\n",
       "      <td>NaN</td>\n",
       "      <td>NaN</td>\n",
       "      <td>A9RLJ33Q6</td>\n",
       "      <td>2024-01-01</td>\n",
       "      <td>57,446.48</td>\n",
       "      <td>Pago del día</td>\n",
       "      <td>BAJIO</td>\n",
       "      <td>Hugo Javier Lopez Bonifaz</td>\n",
       "      <td>30320900004894431</td>\n",
       "      <td>PAID</td>\n",
       "      <td>2024-01-01,42644264202401012759744087,40072,40...</td>\n",
       "      <td>01. First_batch</td>\n",
       "      <td>BANORTE</td>\n",
       "      <td>Dispersión-20240101.xlsx</td>\n",
       "      <td>2024-01-01</td>\n",
       "      <td>NaN</td>\n",
       "    </tr>\n",
       "    <tr>\n",
       "      <th>48670</th>\n",
       "      <td>LEDGER_TRAD</td>\n",
       "      <td>ab549ce9-08c3-434b-b208-58bd270c8f8c</td>\n",
       "      <td>NaN</td>\n",
       "      <td>NaN</td>\n",
       "      <td>A3Z2D3SK2</td>\n",
       "      <td>2024-01-01</td>\n",
       "      <td>172.48</td>\n",
       "      <td>Pago del día</td>\n",
       "      <td>SANTANDER</td>\n",
       "      <td>Guadalupe Rosales Jimenez</td>\n",
       "      <td>14180605766810447</td>\n",
       "      <td>PAID</td>\n",
       "      <td>2024-01-01,42644264202401012759714239,40072,40...</td>\n",
       "      <td>01. First_batch</td>\n",
       "      <td>BANORTE</td>\n",
       "      <td>Dispersión-20240101.xlsx</td>\n",
       "      <td>2024-01-01</td>\n",
       "      <td>NaN</td>\n",
       "    </tr>\n",
       "    <tr>\n",
       "      <th>48671</th>\n",
       "      <td>LEDGER_TRAD</td>\n",
       "      <td>ab562636-b3ef-4a85-b9b6-1b3fc661ada0</td>\n",
       "      <td>NaN</td>\n",
       "      <td>NaN</td>\n",
       "      <td>ASNVFSMS5</td>\n",
       "      <td>2024-01-01</td>\n",
       "      <td>10,166.03</td>\n",
       "      <td>Pago del día</td>\n",
       "      <td>BBVA BANCOMER</td>\n",
       "      <td>Felipe David Valerio Aguilar</td>\n",
       "      <td>12930011521559909</td>\n",
       "      <td>PAID</td>\n",
       "      <td>2024-01-01,42644264202401012759758846,40072,40...</td>\n",
       "      <td>01. First_batch</td>\n",
       "      <td>BANORTE</td>\n",
       "      <td>Dispersión-20240101.xlsx</td>\n",
       "      <td>2024-01-01</td>\n",
       "      <td>NaN</td>\n",
       "    </tr>\n",
       "  </tbody>\n",
       "</table>\n",
       "</div>"
      ],
      "text/plain": [
       "              type                           merchant_id merchant_name  \\\n",
       "0      LEDGER_TRAD  03c36e07-4550-4a03-addc-23932ed78f86           NaN   \n",
       "48668  LEDGER_TRAD  ab530350-07a8-422f-bc9d-81aeaa89f1db           NaN   \n",
       "48669  LEDGER_TRAD  ab5444dc-0e70-4ee7-9a28-e386d01bc928           NaN   \n",
       "48670  LEDGER_TRAD  ab549ce9-08c3-434b-b208-58bd270c8f8c           NaN   \n",
       "48671  LEDGER_TRAD  ab562636-b3ef-4a85-b9b6-1b3fc661ada0           NaN   \n",
       "\n",
       "      user_email  report_id report_date_local  total_due          tipo  \\\n",
       "0            NaN  A935WHWRG        2024-01-01     267.34  Pago del día   \n",
       "48668        NaN  AC9DQF6CR        2024-01-01   1,629.01  Pago del día   \n",
       "48669        NaN  A9RLJ33Q6        2024-01-01  57,446.48  Pago del día   \n",
       "48670        NaN  A3Z2D3SK2        2024-01-01     172.48  Pago del día   \n",
       "48671        NaN  ASNVFSMS5        2024-01-01  10,166.03  Pago del día   \n",
       "\n",
       "                bank         bank_account_owner_name              CLABE  \\\n",
       "0      BBVA BANCOMER  Flor Liliana Gonzalez Gonzalez  12500029618132855   \n",
       "48668           HSBC          Alejandro Garcia Gomez  21290065927796690   \n",
       "48669          BAJIO       Hugo Javier Lopez Bonifaz  30320900004894431   \n",
       "48670      SANTANDER       Guadalupe Rosales Jimenez  14180605766810447   \n",
       "48671  BBVA BANCOMER   Felipe David Valerio Aguilar   12930011521559909   \n",
       "\n",
       "      status                                          LINEA CEP  \\\n",
       "0      ERROR                                                NaN   \n",
       "48668   PAID  2024-01-01,42644264202401012759773444,40072,40...   \n",
       "48669   PAID  2024-01-01,42644264202401012759744087,40072,40...   \n",
       "48670   PAID  2024-01-01,42644264202401012759714239,40072,40...   \n",
       "48671   PAID  2024-01-01,42644264202401012759758846,40072,40...   \n",
       "\n",
       "            Batch_time Banco_emisor                 file_name  date_file swap  \n",
       "0      01. First_batch      BANORTE  Dispersión-20240101.xlsx 2024-01-01  NaN  \n",
       "48668  01. First_batch      BANORTE  Dispersión-20240101.xlsx 2024-01-01  NaN  \n",
       "48669  01. First_batch      BANORTE  Dispersión-20240101.xlsx 2024-01-01  NaN  \n",
       "48670  01. First_batch      BANORTE  Dispersión-20240101.xlsx 2024-01-01  NaN  \n",
       "48671  01. First_batch      BANORTE  Dispersión-20240101.xlsx 2024-01-01  NaN  "
      ]
     },
     "execution_count": 35,
     "metadata": {},
     "output_type": "execute_result"
    }
   ],
   "source": [
    "pagosdia = allpagos[(allpagos['tipo'].isin(['Pago del día']))]\n",
    "pagosdia.head()"
   ]
  },
  {
   "cell_type": "code",
   "execution_count": 36,
   "metadata": {},
   "outputs": [
    {
     "data": {
      "text/plain": [
       "(3035101, 18)"
      ]
     },
     "execution_count": 36,
     "metadata": {},
     "output_type": "execute_result"
    }
   ],
   "source": [
    "pagosdia.shape"
   ]
  },
  {
   "cell_type": "code",
   "execution_count": 37,
   "metadata": {},
   "outputs": [
    {
     "name": "stderr",
     "output_type": "stream",
     "text": [
      "C:\\Users\\Cristian.Aparicio\\AppData\\Local\\Temp\\ipykernel_2160\\1000930482.py:1: FutureWarning: The provided callable <built-in function sum> is currently using SeriesGroupBy.sum. In a future version of pandas, the provided callable will be used directly. To keep current behavior pass the string \"sum\" instead.\n",
      "  group_dia = pagosdia.groupby(['date_file']).agg({'total_due':sum,'report_id':'count'}).reset_index()\n"
     ]
    },
    {
     "data": {
      "text/html": [
       "<div>\n",
       "<style scoped>\n",
       "    .dataframe tbody tr th:only-of-type {\n",
       "        vertical-align: middle;\n",
       "    }\n",
       "\n",
       "    .dataframe tbody tr th {\n",
       "        vertical-align: top;\n",
       "    }\n",
       "\n",
       "    .dataframe thead th {\n",
       "        text-align: right;\n",
       "    }\n",
       "</style>\n",
       "<table border=\"1\" class=\"dataframe\">\n",
       "  <thead>\n",
       "    <tr style=\"text-align: right;\">\n",
       "      <th></th>\n",
       "      <th>date_file</th>\n",
       "      <th>total_due</th>\n",
       "      <th>report_id</th>\n",
       "    </tr>\n",
       "  </thead>\n",
       "  <tbody>\n",
       "    <tr>\n",
       "      <th>0</th>\n",
       "      <td>2024-01-01</td>\n",
       "      <td>234,946,040.83</td>\n",
       "      <td>73647</td>\n",
       "    </tr>\n",
       "    <tr>\n",
       "      <th>1</th>\n",
       "      <td>2024-01-02</td>\n",
       "      <td>128,024,896.44</td>\n",
       "      <td>37342</td>\n",
       "    </tr>\n",
       "    <tr>\n",
       "      <th>2</th>\n",
       "      <td>2024-01-03</td>\n",
       "      <td>233,256,567.72</td>\n",
       "      <td>91129</td>\n",
       "    </tr>\n",
       "    <tr>\n",
       "      <th>3</th>\n",
       "      <td>2024-01-04</td>\n",
       "      <td>245,207,003.17</td>\n",
       "      <td>99111</td>\n",
       "    </tr>\n",
       "    <tr>\n",
       "      <th>4</th>\n",
       "      <td>2024-01-05</td>\n",
       "      <td>253,672,758.80</td>\n",
       "      <td>104225</td>\n",
       "    </tr>\n",
       "  </tbody>\n",
       "</table>\n",
       "</div>"
      ],
      "text/plain": [
       "   date_file      total_due  report_id\n",
       "0 2024-01-01 234,946,040.83      73647\n",
       "1 2024-01-02 128,024,896.44      37342\n",
       "2 2024-01-03 233,256,567.72      91129\n",
       "3 2024-01-04 245,207,003.17      99111\n",
       "4 2024-01-05 253,672,758.80     104225"
      ]
     },
     "execution_count": 37,
     "metadata": {},
     "output_type": "execute_result"
    }
   ],
   "source": [
    "group_dia = pagosdia.groupby(['date_file']).agg({'total_due':sum,'report_id':'count'}).reset_index()\n",
    "group_dia.head()"
   ]
  },
  {
   "cell_type": "code",
   "execution_count": 38,
   "metadata": {},
   "outputs": [
    {
     "data": {
      "text/plain": [
       "(31, 3)"
      ]
     },
     "execution_count": 38,
     "metadata": {},
     "output_type": "execute_result"
    }
   ],
   "source": [
    "group_dia.shape"
   ]
  },
  {
   "cell_type": "markdown",
   "metadata": {},
   "source": [
    "# PRIMER MATCH (SETTLED VS PAGOS DEL DIA)"
   ]
  },
  {
   "cell_type": "code",
   "execution_count": 39,
   "metadata": {},
   "outputs": [
    {
     "data": {
      "text/html": [
       "<div>\n",
       "<style scoped>\n",
       "    .dataframe tbody tr th:only-of-type {\n",
       "        vertical-align: middle;\n",
       "    }\n",
       "\n",
       "    .dataframe tbody tr th {\n",
       "        vertical-align: top;\n",
       "    }\n",
       "\n",
       "    .dataframe thead th {\n",
       "        text-align: right;\n",
       "    }\n",
       "</style>\n",
       "<table border=\"1\" class=\"dataframe\">\n",
       "  <thead>\n",
       "    <tr style=\"text-align: right;\">\n",
       "      <th></th>\n",
       "      <th>merchant_id</th>\n",
       "      <th>merchant_name</th>\n",
       "      <th>user_email</th>\n",
       "      <th>report_date_local</th>\n",
       "      <th>total_transactions</th>\n",
       "      <th>total_fees_charged</th>\n",
       "      <th>total_taxes</th>\n",
       "      <th>applied_fees_benefits</th>\n",
       "      <th>applied_taxes_benefits</th>\n",
       "      <th>fee_direct_deposit</th>\n",
       "      <th>...</th>\n",
       "      <th>type</th>\n",
       "      <th>created_date</th>\n",
       "      <th>created_time</th>\n",
       "      <th>updated_date</th>\n",
       "      <th>updated_time</th>\n",
       "      <th>file_name_x</th>\n",
       "      <th>report_id</th>\n",
       "      <th>total_due_y</th>\n",
       "      <th>tipo</th>\n",
       "      <th>file_name_y</th>\n",
       "    </tr>\n",
       "  </thead>\n",
       "  <tbody>\n",
       "  </tbody>\n",
       "</table>\n",
       "<p>0 rows × 29 columns</p>\n",
       "</div>"
      ],
      "text/plain": [
       "Empty DataFrame\n",
       "Columns: [merchant_id, merchant_name, user_email, report_date_local, total_transactions, total_fees_charged, total_taxes, applied_fees_benefits, applied_taxes_benefits, fee_direct_deposit, taxes_direct_deposit, total_adjustments, total_adjustment_fees_charged, total_adjustment_taxes, cobranza, total_released, total_retained, tipopago, total_due_x, type, created_date, created_time, updated_date, updated_time, file_name_x, report_id, total_due_y, tipo, file_name_y]\n",
       "Index: []\n",
       "\n",
       "[0 rows x 29 columns]"
      ]
     },
     "execution_count": 39,
     "metadata": {},
     "output_type": "execute_result"
    }
   ],
   "source": [
    "check_1 = cum_1.merge(pagosdia[['report_id','total_due','tipo','file_name']] ,on='report_id', how='left')\n",
    "check_1['total_due_y'].fillna('NO ENCONTRADO')\n",
    "check_1['tipo'].fillna('NO ENCONTRADO',inplace=True)\n",
    "check_1['file_name_y'].fillna('NO ENCONTRADO',inplace=True)\n",
    "# check_1.fillna({'total_due_y':'NO ENCONTRADO', 'tipo':'NO ENCONTRADO', 'file_name_y':'NO ENCONTRADO'}, inplace=True)\n",
    "check_1.head()"
   ]
  },
  {
   "cell_type": "code",
   "execution_count": 40,
   "metadata": {},
   "outputs": [
    {
     "data": {
      "text/plain": [
       "array([], dtype=object)"
      ]
     },
     "execution_count": 40,
     "metadata": {},
     "output_type": "execute_result"
    }
   ],
   "source": [
    "check_1['file_name_y'].unique()"
   ]
  },
  {
   "cell_type": "code",
   "execution_count": 41,
   "metadata": {},
   "outputs": [
    {
     "data": {
      "text/html": [
       "<div>\n",
       "<style scoped>\n",
       "    .dataframe tbody tr th:only-of-type {\n",
       "        vertical-align: middle;\n",
       "    }\n",
       "\n",
       "    .dataframe tbody tr th {\n",
       "        vertical-align: top;\n",
       "    }\n",
       "\n",
       "    .dataframe thead th {\n",
       "        text-align: right;\n",
       "    }\n",
       "</style>\n",
       "<table border=\"1\" class=\"dataframe\">\n",
       "  <thead>\n",
       "    <tr style=\"text-align: right;\">\n",
       "      <th></th>\n",
       "      <th>merchant_id</th>\n",
       "      <th>merchant_name</th>\n",
       "      <th>user_email</th>\n",
       "      <th>report_date_local</th>\n",
       "      <th>total_transactions</th>\n",
       "      <th>total_fees_charged</th>\n",
       "      <th>total_taxes</th>\n",
       "      <th>applied_fees_benefits</th>\n",
       "      <th>applied_taxes_benefits</th>\n",
       "      <th>fee_direct_deposit</th>\n",
       "      <th>...</th>\n",
       "      <th>type</th>\n",
       "      <th>created_date</th>\n",
       "      <th>created_time</th>\n",
       "      <th>updated_date</th>\n",
       "      <th>updated_time</th>\n",
       "      <th>file_name_x</th>\n",
       "      <th>report_id</th>\n",
       "      <th>total_due_y</th>\n",
       "      <th>tipo</th>\n",
       "      <th>file_name_y</th>\n",
       "    </tr>\n",
       "  </thead>\n",
       "  <tbody>\n",
       "  </tbody>\n",
       "</table>\n",
       "<p>0 rows × 29 columns</p>\n",
       "</div>"
      ],
      "text/plain": [
       "Empty DataFrame\n",
       "Columns: [merchant_id, merchant_name, user_email, report_date_local, total_transactions, total_fees_charged, total_taxes, applied_fees_benefits, applied_taxes_benefits, fee_direct_deposit, taxes_direct_deposit, total_adjustments, total_adjustment_fees_charged, total_adjustment_taxes, cobranza, total_released, total_retained, tipopago, total_due_x, type, created_date, created_time, updated_date, updated_time, file_name_x, report_id, total_due_y, tipo, file_name_y]\n",
       "Index: []\n",
       "\n",
       "[0 rows x 29 columns]"
      ]
     },
     "execution_count": 41,
     "metadata": {},
     "output_type": "execute_result"
    }
   ],
   "source": [
    "not_found_1 = check_1[((check_1['file_name_y'].isnull()) | (check_1['file_name_y'].isin(['NO ENCONTRADO'])))\n",
    "                        & (check_1['total_due_x'] != 0)]\n",
    "not_found_1.head()"
   ]
  },
  {
   "cell_type": "code",
   "execution_count": 42,
   "metadata": {},
   "outputs": [
    {
     "data": {
      "text/plain": [
       "(0, 29)"
      ]
     },
     "execution_count": 42,
     "metadata": {},
     "output_type": "execute_result"
    }
   ],
   "source": [
    "not_found_1.shape"
   ]
  },
  {
   "cell_type": "code",
   "execution_count": 43,
   "metadata": {},
   "outputs": [
    {
     "name": "stderr",
     "output_type": "stream",
     "text": [
      "C:\\Users\\Cristian.Aparicio\\AppData\\Local\\Temp\\ipykernel_2160\\212403241.py:1: FutureWarning: The provided callable <built-in function sum> is currently using SeriesGroupBy.sum. In a future version of pandas, the provided callable will be used directly. To keep current behavior pass the string \"sum\" instead.\n",
      "  group_notfound = not_found_1.groupby(['report_date_local']).agg({'total_due_x':sum,'report_id':'count'}).reset_index()\n"
     ]
    },
    {
     "data": {
      "text/html": [
       "<div>\n",
       "<style scoped>\n",
       "    .dataframe tbody tr th:only-of-type {\n",
       "        vertical-align: middle;\n",
       "    }\n",
       "\n",
       "    .dataframe tbody tr th {\n",
       "        vertical-align: top;\n",
       "    }\n",
       "\n",
       "    .dataframe thead th {\n",
       "        text-align: right;\n",
       "    }\n",
       "</style>\n",
       "<table border=\"1\" class=\"dataframe\">\n",
       "  <thead>\n",
       "    <tr style=\"text-align: right;\">\n",
       "      <th></th>\n",
       "      <th>date_file</th>\n",
       "      <th>total_due_x</th>\n",
       "      <th>report_id</th>\n",
       "    </tr>\n",
       "  </thead>\n",
       "  <tbody>\n",
       "  </tbody>\n",
       "</table>\n",
       "</div>"
      ],
      "text/plain": [
       "Empty DataFrame\n",
       "Columns: [date_file, total_due_x, report_id]\n",
       "Index: []"
      ]
     },
     "execution_count": 43,
     "metadata": {},
     "output_type": "execute_result"
    }
   ],
   "source": [
    "group_notfound = not_found_1.groupby(['report_date_local']).agg({'total_due_x':sum,'report_id':'count'}).reset_index()\n",
    "group_notfound.rename(columns={'report_date_local':'date_file'},inplace=True)\n",
    "group_notfound.head()"
   ]
  },
  {
   "cell_type": "code",
   "execution_count": 44,
   "metadata": {},
   "outputs": [
    {
     "data": {
      "text/plain": [
       "(0, 3)"
      ]
     },
     "execution_count": 44,
     "metadata": {},
     "output_type": "execute_result"
    }
   ],
   "source": [
    "group_notfound.shape"
   ]
  },
  {
   "cell_type": "markdown",
   "metadata": {},
   "source": [
    "#### REPROGRAMACIONES"
   ]
  },
  {
   "cell_type": "code",
   "execution_count": 45,
   "metadata": {},
   "outputs": [
    {
     "data": {
      "text/html": [
       "<div>\n",
       "<style scoped>\n",
       "    .dataframe tbody tr th:only-of-type {\n",
       "        vertical-align: middle;\n",
       "    }\n",
       "\n",
       "    .dataframe tbody tr th {\n",
       "        vertical-align: top;\n",
       "    }\n",
       "\n",
       "    .dataframe thead th {\n",
       "        text-align: right;\n",
       "    }\n",
       "</style>\n",
       "<table border=\"1\" class=\"dataframe\">\n",
       "  <thead>\n",
       "    <tr style=\"text-align: right;\">\n",
       "      <th></th>\n",
       "      <th>type</th>\n",
       "      <th>merchant_id</th>\n",
       "      <th>merchant_name</th>\n",
       "      <th>user_email</th>\n",
       "      <th>report_id</th>\n",
       "      <th>report_date_local</th>\n",
       "      <th>total_due</th>\n",
       "      <th>tipo</th>\n",
       "      <th>bank</th>\n",
       "      <th>bank_account_owner_name</th>\n",
       "      <th>CLABE</th>\n",
       "      <th>status</th>\n",
       "      <th>LINEA CEP</th>\n",
       "      <th>Batch_time</th>\n",
       "      <th>Banco_emisor</th>\n",
       "      <th>file_name</th>\n",
       "      <th>date_file</th>\n",
       "      <th>swap</th>\n",
       "    </tr>\n",
       "  </thead>\n",
       "  <tbody>\n",
       "    <tr>\n",
       "      <th>48629</th>\n",
       "      <td>LEDGER_TRAD</td>\n",
       "      <td>ab350613-f8be-4064-b760-d8e74e42b3ac</td>\n",
       "      <td>NaN</td>\n",
       "      <td>NaN</td>\n",
       "      <td>AKZY6FTWJ</td>\n",
       "      <td>2023-12-24</td>\n",
       "      <td>251.54</td>\n",
       "      <td>Reprogramación</td>\n",
       "      <td>BANORTE/IXE</td>\n",
       "      <td>Karla Lopez</td>\n",
       "      <td>72580012142528122</td>\n",
       "      <td>PAID</td>\n",
       "      <td>COMPROBANTE MISMO BANCO BANORTE</td>\n",
       "      <td>01. First_batch</td>\n",
       "      <td>BANORTE</td>\n",
       "      <td>Dispersión-20240101.xlsx</td>\n",
       "      <td>2024-01-01</td>\n",
       "      <td>NaN</td>\n",
       "    </tr>\n",
       "    <tr>\n",
       "      <th>48628</th>\n",
       "      <td>LEDGER_TRAD</td>\n",
       "      <td>ab350613-f8be-4064-b760-d8e74e42b3ac</td>\n",
       "      <td>NaN</td>\n",
       "      <td>NaN</td>\n",
       "      <td>A5ZMKS96D</td>\n",
       "      <td>2023-12-23</td>\n",
       "      <td>281.73</td>\n",
       "      <td>Reprogramación</td>\n",
       "      <td>BANORTE/IXE</td>\n",
       "      <td>Karla Lopez</td>\n",
       "      <td>72580012142528122</td>\n",
       "      <td>PAID</td>\n",
       "      <td>COMPROBANTE MISMO BANCO BANORTE</td>\n",
       "      <td>01. First_batch</td>\n",
       "      <td>BANORTE</td>\n",
       "      <td>Dispersión-20240101.xlsx</td>\n",
       "      <td>2024-01-01</td>\n",
       "      <td>NaN</td>\n",
       "    </tr>\n",
       "    <tr>\n",
       "      <th>48627</th>\n",
       "      <td>LEDGER_TRAD</td>\n",
       "      <td>ab350613-f8be-4064-b760-d8e74e42b3ac</td>\n",
       "      <td>NaN</td>\n",
       "      <td>NaN</td>\n",
       "      <td>A89S45LLS</td>\n",
       "      <td>2023-12-22</td>\n",
       "      <td>321.96</td>\n",
       "      <td>Reprogramación</td>\n",
       "      <td>BANORTE/IXE</td>\n",
       "      <td>Karla Lopez</td>\n",
       "      <td>72580012142528122</td>\n",
       "      <td>PAID</td>\n",
       "      <td>COMPROBANTE MISMO BANCO BANORTE</td>\n",
       "      <td>01. First_batch</td>\n",
       "      <td>BANORTE</td>\n",
       "      <td>Dispersión-20240101.xlsx</td>\n",
       "      <td>2024-01-01</td>\n",
       "      <td>NaN</td>\n",
       "    </tr>\n",
       "    <tr>\n",
       "      <th>48626</th>\n",
       "      <td>LEDGER_TRAD</td>\n",
       "      <td>ab350613-f8be-4064-b760-d8e74e42b3ac</td>\n",
       "      <td>NaN</td>\n",
       "      <td>NaN</td>\n",
       "      <td>ACWY9SYVK</td>\n",
       "      <td>2023-12-17</td>\n",
       "      <td>533.74</td>\n",
       "      <td>Reprogramación</td>\n",
       "      <td>BANORTE/IXE</td>\n",
       "      <td>Karla Lopez</td>\n",
       "      <td>72580012142528122</td>\n",
       "      <td>PAID</td>\n",
       "      <td>COMPROBANTE MISMO BANCO BANORTE</td>\n",
       "      <td>01. First_batch</td>\n",
       "      <td>BANORTE</td>\n",
       "      <td>Dispersión-20240101.xlsx</td>\n",
       "      <td>2024-01-01</td>\n",
       "      <td>NaN</td>\n",
       "    </tr>\n",
       "    <tr>\n",
       "      <th>48625</th>\n",
       "      <td>LEDGER_TRAD</td>\n",
       "      <td>ab350613-f8be-4064-b760-d8e74e42b3ac</td>\n",
       "      <td>NaN</td>\n",
       "      <td>NaN</td>\n",
       "      <td>AJXX94F4K</td>\n",
       "      <td>2023-12-11</td>\n",
       "      <td>271.17</td>\n",
       "      <td>Reprogramación</td>\n",
       "      <td>BANORTE/IXE</td>\n",
       "      <td>Karla Lopez</td>\n",
       "      <td>72580012142528122</td>\n",
       "      <td>PAID</td>\n",
       "      <td>COMPROBANTE MISMO BANCO BANORTE</td>\n",
       "      <td>01. First_batch</td>\n",
       "      <td>BANORTE</td>\n",
       "      <td>Dispersión-20240101.xlsx</td>\n",
       "      <td>2024-01-01</td>\n",
       "      <td>NaN</td>\n",
       "    </tr>\n",
       "  </tbody>\n",
       "</table>\n",
       "</div>"
      ],
      "text/plain": [
       "              type                           merchant_id merchant_name  \\\n",
       "48629  LEDGER_TRAD  ab350613-f8be-4064-b760-d8e74e42b3ac           NaN   \n",
       "48628  LEDGER_TRAD  ab350613-f8be-4064-b760-d8e74e42b3ac           NaN   \n",
       "48627  LEDGER_TRAD  ab350613-f8be-4064-b760-d8e74e42b3ac           NaN   \n",
       "48626  LEDGER_TRAD  ab350613-f8be-4064-b760-d8e74e42b3ac           NaN   \n",
       "48625  LEDGER_TRAD  ab350613-f8be-4064-b760-d8e74e42b3ac           NaN   \n",
       "\n",
       "      user_email  report_id report_date_local  total_due            tipo  \\\n",
       "48629        NaN  AKZY6FTWJ        2023-12-24     251.54  Reprogramación   \n",
       "48628        NaN  A5ZMKS96D        2023-12-23     281.73  Reprogramación   \n",
       "48627        NaN  A89S45LLS        2023-12-22     321.96  Reprogramación   \n",
       "48626        NaN  ACWY9SYVK        2023-12-17     533.74  Reprogramación   \n",
       "48625        NaN  AJXX94F4K        2023-12-11     271.17  Reprogramación   \n",
       "\n",
       "              bank bank_account_owner_name              CLABE status  \\\n",
       "48629  BANORTE/IXE             Karla Lopez  72580012142528122   PAID   \n",
       "48628  BANORTE/IXE             Karla Lopez  72580012142528122   PAID   \n",
       "48627  BANORTE/IXE             Karla Lopez  72580012142528122   PAID   \n",
       "48626  BANORTE/IXE             Karla Lopez  72580012142528122   PAID   \n",
       "48625  BANORTE/IXE             Karla Lopez  72580012142528122   PAID   \n",
       "\n",
       "                             LINEA CEP       Batch_time Banco_emisor  \\\n",
       "48629  COMPROBANTE MISMO BANCO BANORTE  01. First_batch      BANORTE   \n",
       "48628  COMPROBANTE MISMO BANCO BANORTE  01. First_batch      BANORTE   \n",
       "48627  COMPROBANTE MISMO BANCO BANORTE  01. First_batch      BANORTE   \n",
       "48626  COMPROBANTE MISMO BANCO BANORTE  01. First_batch      BANORTE   \n",
       "48625  COMPROBANTE MISMO BANCO BANORTE  01. First_batch      BANORTE   \n",
       "\n",
       "                      file_name  date_file swap  \n",
       "48629  Dispersión-20240101.xlsx 2024-01-01  NaN  \n",
       "48628  Dispersión-20240101.xlsx 2024-01-01  NaN  \n",
       "48627  Dispersión-20240101.xlsx 2024-01-01  NaN  \n",
       "48626  Dispersión-20240101.xlsx 2024-01-01  NaN  \n",
       "48625  Dispersión-20240101.xlsx 2024-01-01  NaN  "
      ]
     },
     "execution_count": 45,
     "metadata": {},
     "output_type": "execute_result"
    }
   ],
   "source": [
    "repro = allpagos[(allpagos['tipo'].isin(['Reprogramación']))]\n",
    "repro.head()"
   ]
  },
  {
   "cell_type": "code",
   "execution_count": 46,
   "metadata": {},
   "outputs": [
    {
     "data": {
      "text/plain": [
       "(14252, 18)"
      ]
     },
     "execution_count": 46,
     "metadata": {},
     "output_type": "execute_result"
    }
   ],
   "source": [
    "repro.shape"
   ]
  },
  {
   "cell_type": "code",
   "execution_count": 47,
   "metadata": {},
   "outputs": [
    {
     "name": "stderr",
     "output_type": "stream",
     "text": [
      "C:\\Users\\Cristian.Aparicio\\AppData\\Local\\Temp\\ipykernel_2160\\257574048.py:1: FutureWarning: The provided callable <built-in function sum> is currently using SeriesGroupBy.sum. In a future version of pandas, the provided callable will be used directly. To keep current behavior pass the string \"sum\" instead.\n",
      "  group_repro = repro.groupby(['date_file']).agg({'total_due':sum,'report_id':'count'}).reset_index()\n"
     ]
    },
    {
     "data": {
      "text/html": [
       "<div>\n",
       "<style scoped>\n",
       "    .dataframe tbody tr th:only-of-type {\n",
       "        vertical-align: middle;\n",
       "    }\n",
       "\n",
       "    .dataframe tbody tr th {\n",
       "        vertical-align: top;\n",
       "    }\n",
       "\n",
       "    .dataframe thead th {\n",
       "        text-align: right;\n",
       "    }\n",
       "</style>\n",
       "<table border=\"1\" class=\"dataframe\">\n",
       "  <thead>\n",
       "    <tr style=\"text-align: right;\">\n",
       "      <th></th>\n",
       "      <th>date_file</th>\n",
       "      <th>total_due</th>\n",
       "      <th>report_id</th>\n",
       "    </tr>\n",
       "  </thead>\n",
       "  <tbody>\n",
       "    <tr>\n",
       "      <th>0</th>\n",
       "      <td>2024-01-01</td>\n",
       "      <td>1,291,674.07</td>\n",
       "      <td>543</td>\n",
       "    </tr>\n",
       "    <tr>\n",
       "      <th>1</th>\n",
       "      <td>2024-01-02</td>\n",
       "      <td>2,798,818.67</td>\n",
       "      <td>1537</td>\n",
       "    </tr>\n",
       "    <tr>\n",
       "      <th>2</th>\n",
       "      <td>2024-01-03</td>\n",
       "      <td>1,905,532.66</td>\n",
       "      <td>872</td>\n",
       "    </tr>\n",
       "    <tr>\n",
       "      <th>3</th>\n",
       "      <td>2024-01-04</td>\n",
       "      <td>2,620,534.44</td>\n",
       "      <td>870</td>\n",
       "    </tr>\n",
       "    <tr>\n",
       "      <th>4</th>\n",
       "      <td>2024-01-05</td>\n",
       "      <td>2,532,977.27</td>\n",
       "      <td>525</td>\n",
       "    </tr>\n",
       "  </tbody>\n",
       "</table>\n",
       "</div>"
      ],
      "text/plain": [
       "   date_file    total_due  report_id\n",
       "0 2024-01-01 1,291,674.07        543\n",
       "1 2024-01-02 2,798,818.67       1537\n",
       "2 2024-01-03 1,905,532.66        872\n",
       "3 2024-01-04 2,620,534.44        870\n",
       "4 2024-01-05 2,532,977.27        525"
      ]
     },
     "execution_count": 47,
     "metadata": {},
     "output_type": "execute_result"
    }
   ],
   "source": [
    "group_repro = repro.groupby(['date_file']).agg({'total_due':sum,'report_id':'count'}).reset_index()\n",
    "group_repro.head()"
   ]
  },
  {
   "cell_type": "code",
   "execution_count": 48,
   "metadata": {},
   "outputs": [
    {
     "data": {
      "text/plain": [
       "(31, 3)"
      ]
     },
     "execution_count": 48,
     "metadata": {},
     "output_type": "execute_result"
    }
   ],
   "source": [
    "group_repro.shape"
   ]
  },
  {
   "cell_type": "markdown",
   "metadata": {},
   "source": [
    "# SEGUNDO MATCH (IDENTIFICACION DE REPROGRAMACIONES)"
   ]
  },
  {
   "cell_type": "code",
   "execution_count": 49,
   "metadata": {},
   "outputs": [
    {
     "data": {
      "text/html": [
       "<div>\n",
       "<style scoped>\n",
       "    .dataframe tbody tr th:only-of-type {\n",
       "        vertical-align: middle;\n",
       "    }\n",
       "\n",
       "    .dataframe tbody tr th {\n",
       "        vertical-align: top;\n",
       "    }\n",
       "\n",
       "    .dataframe thead th {\n",
       "        text-align: right;\n",
       "    }\n",
       "</style>\n",
       "<table border=\"1\" class=\"dataframe\">\n",
       "  <thead>\n",
       "    <tr style=\"text-align: right;\">\n",
       "      <th></th>\n",
       "      <th>merchant_id</th>\n",
       "      <th>merchant_name</th>\n",
       "      <th>user_email</th>\n",
       "      <th>report_date_local</th>\n",
       "      <th>total_transactions</th>\n",
       "      <th>total_fees_charged</th>\n",
       "      <th>total_taxes</th>\n",
       "      <th>applied_fees_benefits</th>\n",
       "      <th>applied_taxes_benefits</th>\n",
       "      <th>fee_direct_deposit</th>\n",
       "      <th>...</th>\n",
       "      <th>updated_date</th>\n",
       "      <th>updated_time</th>\n",
       "      <th>file_name_x</th>\n",
       "      <th>total_due_y</th>\n",
       "      <th>tipo_x</th>\n",
       "      <th>file_name_y</th>\n",
       "      <th>report_id</th>\n",
       "      <th>total_due</th>\n",
       "      <th>tipo_y</th>\n",
       "      <th>file_name</th>\n",
       "    </tr>\n",
       "  </thead>\n",
       "  <tbody>\n",
       "  </tbody>\n",
       "</table>\n",
       "<p>0 rows × 32 columns</p>\n",
       "</div>"
      ],
      "text/plain": [
       "Empty DataFrame\n",
       "Columns: [merchant_id, merchant_name, user_email, report_date_local, total_transactions, total_fees_charged, total_taxes, applied_fees_benefits, applied_taxes_benefits, fee_direct_deposit, taxes_direct_deposit, total_adjustments, total_adjustment_fees_charged, total_adjustment_taxes, cobranza, total_released, total_retained, tipopago, total_due_x, type, created_date, created_time, updated_date, updated_time, file_name_x, total_due_y, tipo_x, file_name_y, report_id, total_due, tipo_y, file_name]\n",
       "Index: []\n",
       "\n",
       "[0 rows x 32 columns]"
      ]
     },
     "execution_count": 49,
     "metadata": {},
     "output_type": "execute_result"
    }
   ],
   "source": [
    "check_2 = not_found_1.merge(repro[['report_id','total_due','tipo','file_name']] ,on='report_id', how='left')\n",
    "check_2.head()"
   ]
  },
  {
   "cell_type": "code",
   "execution_count": 50,
   "metadata": {},
   "outputs": [
    {
     "data": {
      "text/plain": [
       "(0, 32)"
      ]
     },
     "execution_count": 50,
     "metadata": {},
     "output_type": "execute_result"
    }
   ],
   "source": [
    "check_2.shape"
   ]
  },
  {
   "cell_type": "code",
   "execution_count": 51,
   "metadata": {},
   "outputs": [],
   "source": [
    "# writer = pd.ExcelWriter('REPROGRAMACIONES JUNIO 2021.xlsx', engine='xlsxwriter', options={'encoding':'utf-8'})\n",
    "# check_2.to_excel(writer, sheet_name='DETAIL REPROGRAMACIONES',index=False)\n",
    "# writer.save()\n",
    "# writer.close()"
   ]
  },
  {
   "cell_type": "markdown",
   "metadata": {},
   "source": [
    "# FECHA DE PAGOS (SETTLED VS PAGOS DEL DIA)"
   ]
  },
  {
   "cell_type": "code",
   "execution_count": 52,
   "metadata": {},
   "outputs": [
    {
     "data": {
      "text/html": [
       "<div>\n",
       "<style scoped>\n",
       "    .dataframe tbody tr th:only-of-type {\n",
       "        vertical-align: middle;\n",
       "    }\n",
       "\n",
       "    .dataframe tbody tr th {\n",
       "        vertical-align: top;\n",
       "    }\n",
       "\n",
       "    .dataframe thead th {\n",
       "        text-align: right;\n",
       "    }\n",
       "</style>\n",
       "<table border=\"1\" class=\"dataframe\">\n",
       "  <thead>\n",
       "    <tr style=\"text-align: right;\">\n",
       "      <th></th>\n",
       "      <th>merchant_id</th>\n",
       "      <th>merchant_name</th>\n",
       "      <th>user_email</th>\n",
       "      <th>report_date_local</th>\n",
       "      <th>total_transactions</th>\n",
       "      <th>total_fees_charged</th>\n",
       "      <th>total_taxes</th>\n",
       "      <th>applied_fees_benefits</th>\n",
       "      <th>applied_taxes_benefits</th>\n",
       "      <th>fee_direct_deposit</th>\n",
       "      <th>...</th>\n",
       "      <th>updated_time</th>\n",
       "      <th>file_name_x</th>\n",
       "      <th>total_due_y</th>\n",
       "      <th>tipo_x</th>\n",
       "      <th>file_name_y</th>\n",
       "      <th>report_id</th>\n",
       "      <th>date_file</th>\n",
       "      <th>tipo_y</th>\n",
       "      <th>status</th>\n",
       "      <th>file_name</th>\n",
       "    </tr>\n",
       "  </thead>\n",
       "  <tbody>\n",
       "  </tbody>\n",
       "</table>\n",
       "<p>0 rows × 33 columns</p>\n",
       "</div>"
      ],
      "text/plain": [
       "Empty DataFrame\n",
       "Columns: [merchant_id, merchant_name, user_email, report_date_local, total_transactions, total_fees_charged, total_taxes, applied_fees_benefits, applied_taxes_benefits, fee_direct_deposit, taxes_direct_deposit, total_adjustments, total_adjustment_fees_charged, total_adjustment_taxes, cobranza, total_released, total_retained, tipopago, total_due_x, type, created_date, created_time, updated_date, updated_time, file_name_x, total_due_y, tipo_x, file_name_y, report_id, date_file, tipo_y, status, file_name]\n",
       "Index: []\n",
       "\n",
       "[0 rows x 33 columns]"
      ]
     },
     "execution_count": 52,
     "metadata": {},
     "output_type": "execute_result"
    }
   ],
   "source": [
    "fecha_pago = not_found_1.merge(repro[['report_id','date_file','tipo','status','file_name']] ,on='report_id', how='left')\n",
    "fecha_pago.sort_values(by=['date_file'],ascending=True,inplace=True)\n",
    "fecha_pago.head()"
   ]
  },
  {
   "cell_type": "code",
   "execution_count": 53,
   "metadata": {},
   "outputs": [
    {
     "data": {
      "text/plain": [
       "(0, 33)"
      ]
     },
     "execution_count": 53,
     "metadata": {},
     "output_type": "execute_result"
    }
   ],
   "source": [
    "fecha_pago.shape"
   ]
  },
  {
   "cell_type": "code",
   "execution_count": 54,
   "metadata": {},
   "outputs": [
    {
     "data": {
      "text/html": [
       "<div>\n",
       "<style scoped>\n",
       "    .dataframe tbody tr th:only-of-type {\n",
       "        vertical-align: middle;\n",
       "    }\n",
       "\n",
       "    .dataframe tbody tr th {\n",
       "        vertical-align: top;\n",
       "    }\n",
       "\n",
       "    .dataframe thead th {\n",
       "        text-align: right;\n",
       "    }\n",
       "</style>\n",
       "<table border=\"1\" class=\"dataframe\">\n",
       "  <thead>\n",
       "    <tr style=\"text-align: right;\">\n",
       "      <th></th>\n",
       "      <th>merchant_id</th>\n",
       "      <th>merchant_name</th>\n",
       "      <th>user_email</th>\n",
       "      <th>report_date_local</th>\n",
       "      <th>total_transactions</th>\n",
       "      <th>total_fees_charged</th>\n",
       "      <th>total_taxes</th>\n",
       "      <th>applied_fees_benefits</th>\n",
       "      <th>applied_taxes_benefits</th>\n",
       "      <th>fee_direct_deposit</th>\n",
       "      <th>...</th>\n",
       "      <th>updated_time</th>\n",
       "      <th>file_name_x</th>\n",
       "      <th>total_due_y</th>\n",
       "      <th>tipo_x</th>\n",
       "      <th>file_name_y</th>\n",
       "      <th>report_id</th>\n",
       "      <th>date_file</th>\n",
       "      <th>tipo_y</th>\n",
       "      <th>status</th>\n",
       "      <th>file_name</th>\n",
       "    </tr>\n",
       "  </thead>\n",
       "  <tbody>\n",
       "  </tbody>\n",
       "</table>\n",
       "<p>0 rows × 33 columns</p>\n",
       "</div>"
      ],
      "text/plain": [
       "Empty DataFrame\n",
       "Columns: [merchant_id, merchant_name, user_email, report_date_local, total_transactions, total_fees_charged, total_taxes, applied_fees_benefits, applied_taxes_benefits, fee_direct_deposit, taxes_direct_deposit, total_adjustments, total_adjustment_fees_charged, total_adjustment_taxes, cobranza, total_released, total_retained, tipopago, total_due_x, type, created_date, created_time, updated_date, updated_time, file_name_x, total_due_y, tipo_x, file_name_y, report_id, date_file, tipo_y, status, file_name]\n",
       "Index: []\n",
       "\n",
       "[0 rows x 33 columns]"
      ]
     },
     "execution_count": 54,
     "metadata": {},
     "output_type": "execute_result"
    }
   ],
   "source": [
    "fecha_pago.drop_duplicates(subset ='report_id',keep='first',inplace=True) "
   ]
  },
  {
   "cell_type": "code",
   "execution_count": 55,
   "metadata": {},
   "outputs": [
    {
     "data": {
      "text/html": [
       "<div>\n",
       "<style scoped>\n",
       "    .dataframe tbody tr th:only-of-type {\n",
       "        vertical-align: middle;\n",
       "    }\n",
       "\n",
       "    .dataframe tbody tr th {\n",
       "        vertical-align: top;\n",
       "    }\n",
       "\n",
       "    .dataframe thead th {\n",
       "        text-align: right;\n",
       "    }\n",
       "</style>\n",
       "<table border=\"1\" class=\"dataframe\">\n",
       "  <thead>\n",
       "    <tr style=\"text-align: right;\">\n",
       "      <th></th>\n",
       "      <th>merchant_id</th>\n",
       "      <th>merchant_name</th>\n",
       "      <th>user_email</th>\n",
       "      <th>report_date_local</th>\n",
       "      <th>total_transactions</th>\n",
       "      <th>total_fees_charged</th>\n",
       "      <th>total_taxes</th>\n",
       "      <th>applied_fees_benefits</th>\n",
       "      <th>applied_taxes_benefits</th>\n",
       "      <th>fee_direct_deposit</th>\n",
       "      <th>...</th>\n",
       "      <th>updated_time</th>\n",
       "      <th>file_name_x</th>\n",
       "      <th>total_due_y</th>\n",
       "      <th>tipo_x</th>\n",
       "      <th>file_name_y</th>\n",
       "      <th>report_id</th>\n",
       "      <th>date_file</th>\n",
       "      <th>tipo_y</th>\n",
       "      <th>status</th>\n",
       "      <th>file_name</th>\n",
       "    </tr>\n",
       "  </thead>\n",
       "  <tbody>\n",
       "  </tbody>\n",
       "</table>\n",
       "<p>0 rows × 33 columns</p>\n",
       "</div>"
      ],
      "text/plain": [
       "Empty DataFrame\n",
       "Columns: [merchant_id, merchant_name, user_email, report_date_local, total_transactions, total_fees_charged, total_taxes, applied_fees_benefits, applied_taxes_benefits, fee_direct_deposit, taxes_direct_deposit, total_adjustments, total_adjustment_fees_charged, total_adjustment_taxes, cobranza, total_released, total_retained, tipopago, total_due_x, type, created_date, created_time, updated_date, updated_time, file_name_x, total_due_y, tipo_x, file_name_y, report_id, date_file, tipo_y, status, file_name]\n",
       "Index: []\n",
       "\n",
       "[0 rows x 33 columns]"
      ]
     },
     "execution_count": 55,
     "metadata": {},
     "output_type": "execute_result"
    }
   ],
   "source": [
    "fecha_pago.head()"
   ]
  },
  {
   "cell_type": "code",
   "execution_count": 56,
   "metadata": {},
   "outputs": [
    {
     "data": {
      "text/plain": [
       "(0, 33)"
      ]
     },
     "execution_count": 56,
     "metadata": {},
     "output_type": "execute_result"
    }
   ],
   "source": [
    "fecha_pago.shape"
   ]
  },
  {
   "cell_type": "markdown",
   "metadata": {},
   "source": [
    "### AGRUPADO POR DÍA"
   ]
  },
  {
   "cell_type": "code",
   "execution_count": 57,
   "metadata": {},
   "outputs": [
    {
     "name": "stderr",
     "output_type": "stream",
     "text": [
      "C:\\Users\\Cristian.Aparicio\\AppData\\Local\\Temp\\ipykernel_2160\\898092038.py:1: FutureWarning: The behavior of DataFrame concatenation with empty or all-NA entries is deprecated. In a future version, this will no longer exclude empty or all-NA columns when determining the result dtypes. To retain the old behavior, exclude the relevant entries before the concat operation.\n",
      "  pivot_fecha_pago = pd.pivot_table(fecha_pago,index=['report_date_local'],\n",
      "C:\\Users\\Cristian.Aparicio\\AppData\\Local\\Temp\\ipykernel_2160\\898092038.py:1: FutureWarning: The behavior of DataFrame concatenation with empty or all-NA entries is deprecated. In a future version, this will no longer exclude empty or all-NA columns when determining the result dtypes. To retain the old behavior, exclude the relevant entries before the concat operation.\n",
      "  pivot_fecha_pago = pd.pivot_table(fecha_pago,index=['report_date_local'],\n"
     ]
    },
    {
     "data": {
      "text/html": [
       "<div>\n",
       "<style scoped>\n",
       "    .dataframe tbody tr th:only-of-type {\n",
       "        vertical-align: middle;\n",
       "    }\n",
       "\n",
       "    .dataframe tbody tr th {\n",
       "        vertical-align: top;\n",
       "    }\n",
       "\n",
       "    .dataframe thead tr th {\n",
       "        text-align: left;\n",
       "    }\n",
       "\n",
       "    .dataframe thead tr:last-of-type th {\n",
       "        text-align: right;\n",
       "    }\n",
       "</style>\n",
       "<table border=\"1\" class=\"dataframe\">\n",
       "  <thead>\n",
       "    <tr>\n",
       "      <th></th>\n",
       "      <th>sum</th>\n",
       "      <th>len</th>\n",
       "    </tr>\n",
       "    <tr>\n",
       "      <th></th>\n",
       "      <th>total_due_x</th>\n",
       "      <th>total_due_x</th>\n",
       "    </tr>\n",
       "    <tr>\n",
       "      <th>report_date_local</th>\n",
       "      <th></th>\n",
       "      <th></th>\n",
       "    </tr>\n",
       "  </thead>\n",
       "  <tbody>\n",
       "    <tr>\n",
       "      <th>All</th>\n",
       "      <td>0.00</td>\n",
       "      <td>0.00</td>\n",
       "    </tr>\n",
       "  </tbody>\n",
       "</table>\n",
       "</div>"
      ],
      "text/plain": [
       "                          sum         len\n",
       "                  total_due_x total_due_x\n",
       "report_date_local                        \n",
       "All                      0.00        0.00"
      ]
     },
     "execution_count": 57,
     "metadata": {},
     "output_type": "execute_result"
    }
   ],
   "source": [
    "pivot_fecha_pago = pd.pivot_table(fecha_pago,index=['report_date_local'],\n",
    "                                  values=['total_due_x'],aggfunc = ['sum', len],margins=True)\n",
    "pivot_fecha_pago.head()"
   ]
  },
  {
   "cell_type": "code",
   "execution_count": 58,
   "metadata": {},
   "outputs": [
    {
     "data": {
      "text/plain": [
       "(1, 2)"
      ]
     },
     "execution_count": 58,
     "metadata": {},
     "output_type": "execute_result"
    }
   ],
   "source": [
    "pivot_fecha_pago.shape"
   ]
  },
  {
   "cell_type": "markdown",
   "metadata": {},
   "source": [
    "# PAGOS MANUALES"
   ]
  },
  {
   "cell_type": "code",
   "execution_count": 59,
   "metadata": {},
   "outputs": [
    {
     "data": {
      "text/plain": [
       "['G:\\\\.shortcut-targets-by-id\\\\1Oe28Mf9uSidMamjllDen2gkNnC59eSUr\\\\3.-Settlement\\\\5.-HISTORICO FILES PAGOS\\\\01. TRADICIONAL\\\\2024\\\\01. JANUARY\\\\MANUALES\\\\Manuales 2024.01.01 - 2024.01.31.xlsx']"
      ]
     },
     "execution_count": 59,
     "metadata": {},
     "output_type": "execute_result"
    }
   ],
   "source": [
    "file_manual = glob.glob(r'G:\\.shortcut-targets-by-id\\1Oe28Mf9uSidMamjllDen2gkNnC59eSUr\\3.-Settlement\\5.-HISTORICO FILES PAGOS\\01. TRADICIONAL\\2024\\01. JANUARY\\MANUALES\\*.xlsx', recursive=False)\n",
    "file_manual"
   ]
  },
  {
   "cell_type": "code",
   "execution_count": 60,
   "metadata": {},
   "outputs": [],
   "source": [
    "manuales_all = pd.concat([pd.read_excel(f,sheet_name='Formato Pago Manual',skiprows=1\n",
    "                                      ,converters={'Cta. CLABE de depósito':str,'report_id':str})\n",
    "                          .assign(file_name=os.path.basename(f)) for f in file_manual])\n",
    "manuales_all['Date']= pd.to_datetime(manuales_all['Date'])  \n",
    "manuales_all['Tipo'] = 'MANUAL'"
   ]
  },
  {
   "cell_type": "code",
   "execution_count": 61,
   "metadata": {},
   "outputs": [
    {
     "data": {
      "text/html": [
       "<div>\n",
       "<style scoped>\n",
       "    .dataframe tbody tr th:only-of-type {\n",
       "        vertical-align: middle;\n",
       "    }\n",
       "\n",
       "    .dataframe tbody tr th {\n",
       "        vertical-align: top;\n",
       "    }\n",
       "\n",
       "    .dataframe thead th {\n",
       "        text-align: right;\n",
       "    }\n",
       "</style>\n",
       "<table border=\"1\" class=\"dataframe\">\n",
       "  <thead>\n",
       "    <tr style=\"text-align: right;\">\n",
       "      <th></th>\n",
       "      <th>Date</th>\n",
       "      <th>ME ID</th>\n",
       "      <th>ME NAME</th>\n",
       "      <th>(mxn)</th>\n",
       "      <th>Banco</th>\n",
       "      <th>Justificación para el pago</th>\n",
       "      <th>Tipo</th>\n",
       "      <th>Report ID</th>\n",
       "    </tr>\n",
       "  </thead>\n",
       "  <tbody>\n",
       "    <tr>\n",
       "      <th>0</th>\n",
       "      <td>2024-01-17</td>\n",
       "      <td>60276b7d-9523-4d28-9268-29655ab55d98</td>\n",
       "      <td>NaN</td>\n",
       "      <td>2,122.74</td>\n",
       "      <td>Kuspit Casa de Bolsa</td>\n",
       "      <td>Re: SOP-SOP-15735 / SOP-15729 || Solicitud de ...</td>\n",
       "      <td>MANUAL</td>\n",
       "      <td>NaN</td>\n",
       "    </tr>\n",
       "    <tr>\n",
       "      <th>1</th>\n",
       "      <td>2024-01-17</td>\n",
       "      <td>dc1c1ba2-0bff-40c6-82e1-405f9f0ee8d8</td>\n",
       "      <td>NaN</td>\n",
       "      <td>2,899.08</td>\n",
       "      <td>Opciones Empresariales Del Noreste</td>\n",
       "      <td>Re: SOP-SOP-15735 / SOP-15729 || Solicitud de ...</td>\n",
       "      <td>MANUAL</td>\n",
       "      <td>NaN</td>\n",
       "    </tr>\n",
       "    <tr>\n",
       "      <th>2</th>\n",
       "      <td>2024-01-18</td>\n",
       "      <td>60276b7d-9523-4d28-9268-29655ab55d98</td>\n",
       "      <td>NaN</td>\n",
       "      <td>485.15</td>\n",
       "      <td>Kuspit Casa de Bolsa</td>\n",
       "      <td>Re: SOP-SOP-15735 / SOP-15729 || Solicitud de ...</td>\n",
       "      <td>MANUAL</td>\n",
       "      <td>NaN</td>\n",
       "    </tr>\n",
       "    <tr>\n",
       "      <th>3</th>\n",
       "      <td>2024-01-25</td>\n",
       "      <td>588ed3b3-d64a-4f01-998e-a819bb2dd1eb</td>\n",
       "      <td>NaN</td>\n",
       "      <td>283.64</td>\n",
       "      <td>BBVA Bancomer, S.A.</td>\n",
       "      <td>2384796</td>\n",
       "      <td>MANUAL</td>\n",
       "      <td>QE8TGPF</td>\n",
       "    </tr>\n",
       "    <tr>\n",
       "      <th>4</th>\n",
       "      <td>2024-01-25</td>\n",
       "      <td>588ed3b3-d64a-4f01-998e-a819bb2dd1eb</td>\n",
       "      <td>NaN</td>\n",
       "      <td>881.58</td>\n",
       "      <td>BBVA Bancomer, S.A.</td>\n",
       "      <td>2384796</td>\n",
       "      <td>MANUAL</td>\n",
       "      <td>K7S0VRZ</td>\n",
       "    </tr>\n",
       "  </tbody>\n",
       "</table>\n",
       "</div>"
      ],
      "text/plain": [
       "        Date                                 ME ID  ME NAME    (mxn)  \\\n",
       "0 2024-01-17  60276b7d-9523-4d28-9268-29655ab55d98      NaN 2,122.74   \n",
       "1 2024-01-17  dc1c1ba2-0bff-40c6-82e1-405f9f0ee8d8      NaN 2,899.08   \n",
       "2 2024-01-18  60276b7d-9523-4d28-9268-29655ab55d98      NaN   485.15   \n",
       "3 2024-01-25  588ed3b3-d64a-4f01-998e-a819bb2dd1eb      NaN   283.64   \n",
       "4 2024-01-25  588ed3b3-d64a-4f01-998e-a819bb2dd1eb      NaN   881.58   \n",
       "\n",
       "                                Banco  \\\n",
       "0                Kuspit Casa de Bolsa   \n",
       "1  Opciones Empresariales Del Noreste   \n",
       "2                Kuspit Casa de Bolsa   \n",
       "3                 BBVA Bancomer, S.A.   \n",
       "4                 BBVA Bancomer, S.A.   \n",
       "\n",
       "                          Justificación para el pago    Tipo Report ID  \n",
       "0  Re: SOP-SOP-15735 / SOP-15729 || Solicitud de ...  MANUAL       NaN  \n",
       "1  Re: SOP-SOP-15735 / SOP-15729 || Solicitud de ...  MANUAL       NaN  \n",
       "2  Re: SOP-SOP-15735 / SOP-15729 || Solicitud de ...  MANUAL       NaN  \n",
       "3                                            2384796  MANUAL   QE8TGPF  \n",
       "4                                            2384796  MANUAL   K7S0VRZ  "
      ]
     },
     "execution_count": 61,
     "metadata": {},
     "output_type": "execute_result"
    }
   ],
   "source": [
    "manuales_final = manuales_all[['Date','ME ID','ME NAME',' (mxn)','Banco','Justificación para el pago','Tipo','Report ID']]\n",
    "manuales_final.head()"
   ]
  },
  {
   "cell_type": "code",
   "execution_count": 62,
   "metadata": {},
   "outputs": [
    {
     "data": {
      "text/plain": [
       "(29, 8)"
      ]
     },
     "execution_count": 62,
     "metadata": {},
     "output_type": "execute_result"
    }
   ],
   "source": [
    "manuales_final.shape"
   ]
  },
  {
   "cell_type": "code",
   "execution_count": 63,
   "metadata": {},
   "outputs": [
    {
     "data": {
      "text/plain": [
       "Index(['Date', 'ME ID', 'ME NAME', ' (mxn)', 'Banco',\n",
       "       'Justificación para el pago', 'Tipo', 'Report ID'],\n",
       "      dtype='object')"
      ]
     },
     "execution_count": 63,
     "metadata": {},
     "output_type": "execute_result"
    }
   ],
   "source": [
    "manuales_final.columns"
   ]
  },
  {
   "cell_type": "code",
   "execution_count": 64,
   "metadata": {},
   "outputs": [
    {
     "name": "stderr",
     "output_type": "stream",
     "text": [
      "C:\\Users\\Cristian.Aparicio\\AppData\\Local\\Temp\\ipykernel_2160\\3325178319.py:1: FutureWarning: The provided callable <built-in function sum> is currently using SeriesGroupBy.sum. In a future version of pandas, the provided callable will be used directly. To keep current behavior pass the string \"sum\" instead.\n",
      "  group_manual = manuales_final.groupby(['Date']).agg({' (mxn)':sum,'Report ID':'count'}).reset_index()\n"
     ]
    },
    {
     "data": {
      "text/html": [
       "<div>\n",
       "<style scoped>\n",
       "    .dataframe tbody tr th:only-of-type {\n",
       "        vertical-align: middle;\n",
       "    }\n",
       "\n",
       "    .dataframe tbody tr th {\n",
       "        vertical-align: top;\n",
       "    }\n",
       "\n",
       "    .dataframe thead th {\n",
       "        text-align: right;\n",
       "    }\n",
       "</style>\n",
       "<table border=\"1\" class=\"dataframe\">\n",
       "  <thead>\n",
       "    <tr style=\"text-align: right;\">\n",
       "      <th></th>\n",
       "      <th>date_file</th>\n",
       "      <th>(mxn)</th>\n",
       "      <th>report_id</th>\n",
       "    </tr>\n",
       "  </thead>\n",
       "  <tbody>\n",
       "    <tr>\n",
       "      <th>0</th>\n",
       "      <td>2024-01-17</td>\n",
       "      <td>5,021.82</td>\n",
       "      <td>0</td>\n",
       "    </tr>\n",
       "    <tr>\n",
       "      <th>1</th>\n",
       "      <td>2024-01-18</td>\n",
       "      <td>485.15</td>\n",
       "      <td>0</td>\n",
       "    </tr>\n",
       "    <tr>\n",
       "      <th>2</th>\n",
       "      <td>2024-01-25</td>\n",
       "      <td>7,397.23</td>\n",
       "      <td>15</td>\n",
       "    </tr>\n",
       "    <tr>\n",
       "      <th>3</th>\n",
       "      <td>2024-01-31</td>\n",
       "      <td>21,926.11</td>\n",
       "      <td>11</td>\n",
       "    </tr>\n",
       "  </tbody>\n",
       "</table>\n",
       "</div>"
      ],
      "text/plain": [
       "   date_file     (mxn)  report_id\n",
       "0 2024-01-17  5,021.82          0\n",
       "1 2024-01-18    485.15          0\n",
       "2 2024-01-25  7,397.23         15\n",
       "3 2024-01-31 21,926.11         11"
      ]
     },
     "execution_count": 64,
     "metadata": {},
     "output_type": "execute_result"
    }
   ],
   "source": [
    "group_manual = manuales_final.groupby(['Date']).agg({' (mxn)':sum,'Report ID':'count'}).reset_index()\n",
    "group_manual.rename(columns={'Date':'date_file','Report ID':'report_id'},inplace=True)\n",
    "group_manual.head()"
   ]
  },
  {
   "cell_type": "code",
   "execution_count": 65,
   "metadata": {},
   "outputs": [
    {
     "data": {
      "text/plain": [
       "(4, 3)"
      ]
     },
     "execution_count": 65,
     "metadata": {},
     "output_type": "execute_result"
    }
   ],
   "source": [
    "group_manual.shape"
   ]
  },
  {
   "cell_type": "markdown",
   "metadata": {},
   "source": [
    "# ACUMULADOS SETTLEMENT"
   ]
  },
  {
   "cell_type": "code",
   "execution_count": 66,
   "metadata": {},
   "outputs": [
    {
     "name": "stderr",
     "output_type": "stream",
     "text": [
      "C:\\Users\\Cristian.Aparicio\\AppData\\Local\\Temp\\ipykernel_2160\\691643010.py:1: FutureWarning: The provided callable <built-in function sum> is currently using SeriesGroupBy.sum. In a future version of pandas, the provided callable will be used directly. To keep current behavior pass the string \"sum\" instead.\n",
      "  conc_disp = cum_distinct_0.groupby(['report_date_local']).agg({'total_due':sum,'report_id':'count'}).reset_index()\n"
     ]
    },
    {
     "data": {
      "text/html": [
       "<div>\n",
       "<style scoped>\n",
       "    .dataframe tbody tr th:only-of-type {\n",
       "        vertical-align: middle;\n",
       "    }\n",
       "\n",
       "    .dataframe tbody tr th {\n",
       "        vertical-align: top;\n",
       "    }\n",
       "\n",
       "    .dataframe thead th {\n",
       "        text-align: right;\n",
       "    }\n",
       "</style>\n",
       "<table border=\"1\" class=\"dataframe\">\n",
       "  <thead>\n",
       "    <tr style=\"text-align: right;\">\n",
       "      <th></th>\n",
       "      <th>date_file</th>\n",
       "      <th>total_due</th>\n",
       "      <th>report_id</th>\n",
       "    </tr>\n",
       "  </thead>\n",
       "  <tbody>\n",
       "  </tbody>\n",
       "</table>\n",
       "</div>"
      ],
      "text/plain": [
       "Empty DataFrame\n",
       "Columns: [date_file, total_due, report_id]\n",
       "Index: []"
      ]
     },
     "execution_count": 66,
     "metadata": {},
     "output_type": "execute_result"
    }
   ],
   "source": [
    "conc_disp = cum_distinct_0.groupby(['report_date_local']).agg({'total_due':sum,'report_id':'count'}).reset_index()\n",
    "conc_disp.rename(columns={'report_date_local':'date_file'}, inplace=True)\n",
    "conc_disp.head()"
   ]
  },
  {
   "cell_type": "code",
   "execution_count": 67,
   "metadata": {},
   "outputs": [
    {
     "data": {
      "text/plain": [
       "(0, 3)"
      ]
     },
     "execution_count": 67,
     "metadata": {},
     "output_type": "execute_result"
    }
   ],
   "source": [
    "conc_disp.shape"
   ]
  },
  {
   "cell_type": "markdown",
   "metadata": {},
   "source": [
    "# MERGING ALL DATA FRAMES"
   ]
  },
  {
   "cell_type": "code",
   "execution_count": 68,
   "metadata": {},
   "outputs": [
    {
     "data": {
      "text/html": [
       "<div>\n",
       "<style scoped>\n",
       "    .dataframe tbody tr th:only-of-type {\n",
       "        vertical-align: middle;\n",
       "    }\n",
       "\n",
       "    .dataframe tbody tr th {\n",
       "        vertical-align: top;\n",
       "    }\n",
       "\n",
       "    .dataframe thead th {\n",
       "        text-align: right;\n",
       "    }\n",
       "</style>\n",
       "<table border=\"1\" class=\"dataframe\">\n",
       "  <thead>\n",
       "    <tr style=\"text-align: right;\">\n",
       "      <th></th>\n",
       "      <th>total_due_x</th>\n",
       "      <th>report_id_x</th>\n",
       "      <th>total_due_y</th>\n",
       "      <th>report_id_y</th>\n",
       "      <th>date_file</th>\n",
       "      <th>(mxn)</th>\n",
       "      <th>report_id</th>\n",
       "    </tr>\n",
       "  </thead>\n",
       "  <tbody>\n",
       "  </tbody>\n",
       "</table>\n",
       "</div>"
      ],
      "text/plain": [
       "Empty DataFrame\n",
       "Columns: [total_due_x, report_id_x, total_due_y, report_id_y, date_file,  (mxn), report_id]\n",
       "Index: []"
      ]
     },
     "execution_count": 68,
     "metadata": {},
     "output_type": "execute_result"
    }
   ],
   "source": [
    "total_1 = conc_disp.merge(group_repro[['date_file','total_due','report_id']],on='date_file',how='left') \\\n",
    ".merge(group_manual,on='date_file',how='left')\n",
    "total_1[' (mxn)'].fillna(0,inplace=True)\n",
    "total_1['report_id'].fillna(0,inplace=True)\n",
    "total_1.head()"
   ]
  },
  {
   "cell_type": "code",
   "execution_count": 69,
   "metadata": {},
   "outputs": [],
   "source": [
    "total_1['count_total_pago_dia'] = total_1['report_id_x'] + total_1['report_id_y'] + total_1['report_id']\n",
    "total_1['sum_total_pago_dia'] = total_1['total_due_x'] + total_1['total_due_y'] + total_1[' (mxn)']\n"
   ]
  },
  {
   "cell_type": "code",
   "execution_count": 70,
   "metadata": {},
   "outputs": [
    {
     "data": {
      "text/html": [
       "<div>\n",
       "<style scoped>\n",
       "    .dataframe tbody tr th:only-of-type {\n",
       "        vertical-align: middle;\n",
       "    }\n",
       "\n",
       "    .dataframe tbody tr th {\n",
       "        vertical-align: top;\n",
       "    }\n",
       "\n",
       "    .dataframe thead th {\n",
       "        text-align: right;\n",
       "    }\n",
       "</style>\n",
       "<table border=\"1\" class=\"dataframe\">\n",
       "  <thead>\n",
       "    <tr style=\"text-align: right;\">\n",
       "      <th></th>\n",
       "      <th>total_due_x</th>\n",
       "      <th>report_id_x</th>\n",
       "      <th>total_due_y</th>\n",
       "      <th>report_id_y</th>\n",
       "      <th>date_file</th>\n",
       "      <th>(mxn)</th>\n",
       "      <th>report_id</th>\n",
       "      <th>count_total_pago_dia</th>\n",
       "      <th>sum_total_pago_dia</th>\n",
       "    </tr>\n",
       "  </thead>\n",
       "  <tbody>\n",
       "  </tbody>\n",
       "</table>\n",
       "</div>"
      ],
      "text/plain": [
       "Empty DataFrame\n",
       "Columns: [total_due_x, report_id_x, total_due_y, report_id_y, date_file,  (mxn), report_id, count_total_pago_dia, sum_total_pago_dia]\n",
       "Index: []"
      ]
     },
     "execution_count": 70,
     "metadata": {},
     "output_type": "execute_result"
    }
   ],
   "source": [
    "total_1"
   ]
  },
  {
   "cell_type": "markdown",
   "metadata": {},
   "source": [
    "# ACUMULADOS PAGO DEL DIA"
   ]
  },
  {
   "cell_type": "code",
   "execution_count": 71,
   "metadata": {},
   "outputs": [
    {
     "data": {
      "text/html": [
       "<div>\n",
       "<style scoped>\n",
       "    .dataframe tbody tr th:only-of-type {\n",
       "        vertical-align: middle;\n",
       "    }\n",
       "\n",
       "    .dataframe tbody tr th {\n",
       "        vertical-align: top;\n",
       "    }\n",
       "\n",
       "    .dataframe thead th {\n",
       "        text-align: right;\n",
       "    }\n",
       "</style>\n",
       "<table border=\"1\" class=\"dataframe\">\n",
       "  <thead>\n",
       "    <tr style=\"text-align: right;\">\n",
       "      <th></th>\n",
       "      <th>date_file</th>\n",
       "      <th>total_due</th>\n",
       "      <th>report_id_x</th>\n",
       "      <th>total_due_x</th>\n",
       "      <th>report_id_y</th>\n",
       "      <th>(mxn)</th>\n",
       "      <th>report_id</th>\n",
       "    </tr>\n",
       "  </thead>\n",
       "  <tbody>\n",
       "    <tr>\n",
       "      <th>0</th>\n",
       "      <td>2024-01-01</td>\n",
       "      <td>236,237,714.90</td>\n",
       "      <td>74190</td>\n",
       "      <td>0</td>\n",
       "      <td>0.00</td>\n",
       "      <td>0.00</td>\n",
       "      <td>0.00</td>\n",
       "    </tr>\n",
       "    <tr>\n",
       "      <th>1</th>\n",
       "      <td>2024-01-02</td>\n",
       "      <td>130,823,715.11</td>\n",
       "      <td>38879</td>\n",
       "      <td>0</td>\n",
       "      <td>0.00</td>\n",
       "      <td>0.00</td>\n",
       "      <td>0.00</td>\n",
       "    </tr>\n",
       "    <tr>\n",
       "      <th>2</th>\n",
       "      <td>2024-01-03</td>\n",
       "      <td>235,162,100.38</td>\n",
       "      <td>92001</td>\n",
       "      <td>0</td>\n",
       "      <td>0.00</td>\n",
       "      <td>0.00</td>\n",
       "      <td>0.00</td>\n",
       "    </tr>\n",
       "    <tr>\n",
       "      <th>3</th>\n",
       "      <td>2024-01-04</td>\n",
       "      <td>247,827,537.61</td>\n",
       "      <td>99981</td>\n",
       "      <td>0</td>\n",
       "      <td>0.00</td>\n",
       "      <td>0.00</td>\n",
       "      <td>0.00</td>\n",
       "    </tr>\n",
       "    <tr>\n",
       "      <th>4</th>\n",
       "      <td>2024-01-05</td>\n",
       "      <td>256,205,736.07</td>\n",
       "      <td>104750</td>\n",
       "      <td>0</td>\n",
       "      <td>0.00</td>\n",
       "      <td>0.00</td>\n",
       "      <td>0.00</td>\n",
       "    </tr>\n",
       "  </tbody>\n",
       "</table>\n",
       "</div>"
      ],
      "text/plain": [
       "   date_file      total_due  report_id_x  total_due_x  report_id_y   (mxn)  \\\n",
       "0 2024-01-01 236,237,714.90        74190            0         0.00    0.00   \n",
       "1 2024-01-02 130,823,715.11        38879            0         0.00    0.00   \n",
       "2 2024-01-03 235,162,100.38        92001            0         0.00    0.00   \n",
       "3 2024-01-04 247,827,537.61        99981            0         0.00    0.00   \n",
       "4 2024-01-05 256,205,736.07       104750            0         0.00    0.00   \n",
       "\n",
       "   report_id  \n",
       "0       0.00  \n",
       "1       0.00  \n",
       "2       0.00  \n",
       "3       0.00  \n",
       "4       0.00  "
      ]
     },
     "execution_count": 71,
     "metadata": {},
     "output_type": "execute_result"
    }
   ],
   "source": [
    "total_2 = group_allpagos.merge(group_notfound[['date_file','total_due_x','report_id']],on='date_file',how='left')\\\n",
    ".merge(group_manual,on='date_file',how='left')\n",
    "total_2[' (mxn)'].fillna(0,inplace=True)\n",
    "total_2['report_id'].fillna(0,inplace=True)\n",
    "total_2['total_due_x'].fillna(0,inplace=True)\n",
    "total_2['report_id_y'].fillna(0,inplace=True)\n",
    "total_2.head()"
   ]
  },
  {
   "cell_type": "code",
   "execution_count": 72,
   "metadata": {},
   "outputs": [],
   "source": [
    "total_2['count_swap_dia'] = total_2['report_id_x'] + total_2['report_id_y'] + total_2['report_id']\n",
    "total_2['sum_swap_dia'] = total_2['total_due'] + total_2['total_due_x'] + total_2[' (mxn)']"
   ]
  },
  {
   "cell_type": "code",
   "execution_count": 73,
   "metadata": {},
   "outputs": [
    {
     "data": {
      "text/html": [
       "<div>\n",
       "<style scoped>\n",
       "    .dataframe tbody tr th:only-of-type {\n",
       "        vertical-align: middle;\n",
       "    }\n",
       "\n",
       "    .dataframe tbody tr th {\n",
       "        vertical-align: top;\n",
       "    }\n",
       "\n",
       "    .dataframe thead th {\n",
       "        text-align: right;\n",
       "    }\n",
       "</style>\n",
       "<table border=\"1\" class=\"dataframe\">\n",
       "  <thead>\n",
       "    <tr style=\"text-align: right;\">\n",
       "      <th></th>\n",
       "      <th>date_file</th>\n",
       "      <th>total_due</th>\n",
       "      <th>report_id_x</th>\n",
       "      <th>total_due_x</th>\n",
       "      <th>report_id_y</th>\n",
       "      <th>(mxn)</th>\n",
       "      <th>report_id</th>\n",
       "      <th>count_swap_dia</th>\n",
       "      <th>sum_swap_dia</th>\n",
       "    </tr>\n",
       "  </thead>\n",
       "  <tbody>\n",
       "    <tr>\n",
       "      <th>0</th>\n",
       "      <td>2024-01-01</td>\n",
       "      <td>236,237,714.90</td>\n",
       "      <td>74190</td>\n",
       "      <td>0</td>\n",
       "      <td>0.00</td>\n",
       "      <td>0.00</td>\n",
       "      <td>0.00</td>\n",
       "      <td>74,190.00</td>\n",
       "      <td>236,237,714.90</td>\n",
       "    </tr>\n",
       "    <tr>\n",
       "      <th>1</th>\n",
       "      <td>2024-01-02</td>\n",
       "      <td>130,823,715.11</td>\n",
       "      <td>38879</td>\n",
       "      <td>0</td>\n",
       "      <td>0.00</td>\n",
       "      <td>0.00</td>\n",
       "      <td>0.00</td>\n",
       "      <td>38,879.00</td>\n",
       "      <td>130,823,715.11</td>\n",
       "    </tr>\n",
       "    <tr>\n",
       "      <th>2</th>\n",
       "      <td>2024-01-03</td>\n",
       "      <td>235,162,100.38</td>\n",
       "      <td>92001</td>\n",
       "      <td>0</td>\n",
       "      <td>0.00</td>\n",
       "      <td>0.00</td>\n",
       "      <td>0.00</td>\n",
       "      <td>92,001.00</td>\n",
       "      <td>235,162,100.38</td>\n",
       "    </tr>\n",
       "    <tr>\n",
       "      <th>3</th>\n",
       "      <td>2024-01-04</td>\n",
       "      <td>247,827,537.61</td>\n",
       "      <td>99981</td>\n",
       "      <td>0</td>\n",
       "      <td>0.00</td>\n",
       "      <td>0.00</td>\n",
       "      <td>0.00</td>\n",
       "      <td>99,981.00</td>\n",
       "      <td>247,827,537.61</td>\n",
       "    </tr>\n",
       "    <tr>\n",
       "      <th>4</th>\n",
       "      <td>2024-01-05</td>\n",
       "      <td>256,205,736.07</td>\n",
       "      <td>104750</td>\n",
       "      <td>0</td>\n",
       "      <td>0.00</td>\n",
       "      <td>0.00</td>\n",
       "      <td>0.00</td>\n",
       "      <td>104,750.00</td>\n",
       "      <td>256,205,736.07</td>\n",
       "    </tr>\n",
       "  </tbody>\n",
       "</table>\n",
       "</div>"
      ],
      "text/plain": [
       "   date_file      total_due  report_id_x  total_due_x  report_id_y   (mxn)  \\\n",
       "0 2024-01-01 236,237,714.90        74190            0         0.00    0.00   \n",
       "1 2024-01-02 130,823,715.11        38879            0         0.00    0.00   \n",
       "2 2024-01-03 235,162,100.38        92001            0         0.00    0.00   \n",
       "3 2024-01-04 247,827,537.61        99981            0         0.00    0.00   \n",
       "4 2024-01-05 256,205,736.07       104750            0         0.00    0.00   \n",
       "\n",
       "   report_id  count_swap_dia   sum_swap_dia  \n",
       "0       0.00       74,190.00 236,237,714.90  \n",
       "1       0.00       38,879.00 130,823,715.11  \n",
       "2       0.00       92,001.00 235,162,100.38  \n",
       "3       0.00       99,981.00 247,827,537.61  \n",
       "4       0.00      104,750.00 256,205,736.07  "
      ]
     },
     "execution_count": 73,
     "metadata": {},
     "output_type": "execute_result"
    }
   ],
   "source": [
    "total_2.head()"
   ]
  },
  {
   "cell_type": "code",
   "execution_count": 74,
   "metadata": {},
   "outputs": [
    {
     "data": {
      "text/plain": [
       "(31, 9)"
      ]
     },
     "execution_count": 74,
     "metadata": {},
     "output_type": "execute_result"
    }
   ],
   "source": [
    "total_2.shape"
   ]
  },
  {
   "cell_type": "markdown",
   "metadata": {},
   "source": [
    "# COMPARACION FINAL"
   ]
  },
  {
   "cell_type": "code",
   "execution_count": 75,
   "metadata": {},
   "outputs": [
    {
     "data": {
      "text/html": [
       "<div>\n",
       "<style scoped>\n",
       "    .dataframe tbody tr th:only-of-type {\n",
       "        vertical-align: middle;\n",
       "    }\n",
       "\n",
       "    .dataframe tbody tr th {\n",
       "        vertical-align: top;\n",
       "    }\n",
       "\n",
       "    .dataframe thead th {\n",
       "        text-align: right;\n",
       "    }\n",
       "</style>\n",
       "<table border=\"1\" class=\"dataframe\">\n",
       "  <thead>\n",
       "    <tr style=\"text-align: right;\">\n",
       "      <th></th>\n",
       "      <th>count_total_pago_dia</th>\n",
       "      <th>sum_total_pago_dia</th>\n",
       "      <th>date_file</th>\n",
       "      <th>count_swap_dia</th>\n",
       "      <th>sum_swap_dia</th>\n",
       "    </tr>\n",
       "  </thead>\n",
       "  <tbody>\n",
       "  </tbody>\n",
       "</table>\n",
       "</div>"
      ],
      "text/plain": [
       "Empty DataFrame\n",
       "Columns: [count_total_pago_dia, sum_total_pago_dia, date_file, count_swap_dia, sum_swap_dia]\n",
       "Index: []"
      ]
     },
     "execution_count": 75,
     "metadata": {},
     "output_type": "execute_result"
    }
   ],
   "source": [
    "final_comparacion = total_1[['date_file','count_total_pago_dia','sum_total_pago_dia']] \\\n",
    ".merge(total_2[['date_file','count_swap_dia','sum_swap_dia']],on='date_file',how='left')\n",
    "final_comparacion.head()"
   ]
  },
  {
   "cell_type": "code",
   "execution_count": 76,
   "metadata": {},
   "outputs": [],
   "source": [
    "final_comparacion['diff_count'] = final_comparacion['count_total_pago_dia'] - final_comparacion['count_swap_dia']\n",
    "final_comparacion['diff_sum'] = final_comparacion['sum_total_pago_dia'] - final_comparacion['sum_swap_dia']"
   ]
  },
  {
   "cell_type": "code",
   "execution_count": 77,
   "metadata": {
    "scrolled": true
   },
   "outputs": [
    {
     "data": {
      "text/html": [
       "<div>\n",
       "<style scoped>\n",
       "    .dataframe tbody tr th:only-of-type {\n",
       "        vertical-align: middle;\n",
       "    }\n",
       "\n",
       "    .dataframe tbody tr th {\n",
       "        vertical-align: top;\n",
       "    }\n",
       "\n",
       "    .dataframe thead th {\n",
       "        text-align: right;\n",
       "    }\n",
       "</style>\n",
       "<table border=\"1\" class=\"dataframe\">\n",
       "  <thead>\n",
       "    <tr style=\"text-align: right;\">\n",
       "      <th></th>\n",
       "      <th>count_total_pago_dia</th>\n",
       "      <th>sum_total_pago_dia</th>\n",
       "      <th>date_file</th>\n",
       "      <th>count_swap_dia</th>\n",
       "      <th>sum_swap_dia</th>\n",
       "      <th>diff_count</th>\n",
       "      <th>diff_sum</th>\n",
       "    </tr>\n",
       "  </thead>\n",
       "  <tbody>\n",
       "  </tbody>\n",
       "</table>\n",
       "</div>"
      ],
      "text/plain": [
       "Empty DataFrame\n",
       "Columns: [count_total_pago_dia, sum_total_pago_dia, date_file, count_swap_dia, sum_swap_dia, diff_count, diff_sum]\n",
       "Index: []"
      ]
     },
     "execution_count": 77,
     "metadata": {},
     "output_type": "execute_result"
    }
   ],
   "source": [
    "final_comparacion"
   ]
  },
  {
   "cell_type": "code",
   "execution_count": 78,
   "metadata": {},
   "outputs": [],
   "source": [
    "writer = pd.ExcelWriter('FASE III. SETTLED VS PAGO DIA ENERO 2024.xlsx',\n",
    "                        engine='xlsxwriter',\n",
    "                        engine_kwargs={'options': {'encoding':'utf-8'}})\n",
    "pivot_fecha_pago.to_excel(writer, sheet_name='ENVIADOS POSTERIOR')\n",
    "fecha_pago.to_excel(writer, sheet_name='DETAIL NO ENCONTRADO',index=False)\n",
    "pivot_duplicates_trad.to_excel(writer, sheet_name='PAGOS DUPLICADOS')\n",
    "pivot_duplicates_fp.to_excel(writer, sheet_name='FP PAGOS DUPLICADOS')\n",
    "group_manual.to_excel(writer, sheet_name='PAGOS MANUALES')\n",
    "writer.close()"
   ]
  },
  {
   "cell_type": "code",
   "execution_count": null,
   "metadata": {},
   "outputs": [],
   "source": []
  }
 ],
 "metadata": {
  "kernelspec": {
   "display_name": "Python 3 (ipykernel)",
   "language": "python",
   "name": "python3"
  },
  "language_info": {
   "codemirror_mode": {
    "name": "ipython",
    "version": 3
   },
   "file_extension": ".py",
   "mimetype": "text/x-python",
   "name": "python",
   "nbconvert_exporter": "python",
   "pygments_lexer": "ipython3",
   "version": "3.9.18"
  }
 },
 "nbformat": 4,
 "nbformat_minor": 4
}
