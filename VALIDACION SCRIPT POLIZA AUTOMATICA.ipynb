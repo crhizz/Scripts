{
 "cells": [
  {
   "cell_type": "code",
   "execution_count": 1,
   "id": "b2808bbb",
   "metadata": {},
   "outputs": [],
   "source": [
    "import pandas as pd\n",
    "import numpy as np\n",
    "import glob\n",
    "import os\n",
    "from openpyxl import load_workbook\n",
    "pd.options.display.float_format = '{:,.2f}'.format"
   ]
  },
  {
   "cell_type": "code",
   "execution_count": 2,
   "id": "8a7826e5",
   "metadata": {},
   "outputs": [
    {
     "data": {
      "text/plain": [
       "['C:\\\\Users\\\\Cristian.Aparicio\\\\Documents\\\\POLIZAS\\\\2022\\\\VALIDACIONES\\\\20220717\\\\SCRIPT PRODUCTO\\\\20220701_poliza.csv',\n",
       " 'C:\\\\Users\\\\Cristian.Aparicio\\\\Documents\\\\POLIZAS\\\\2022\\\\VALIDACIONES\\\\20220717\\\\SCRIPT PRODUCTO\\\\20220702_poliza.csv',\n",
       " 'C:\\\\Users\\\\Cristian.Aparicio\\\\Documents\\\\POLIZAS\\\\2022\\\\VALIDACIONES\\\\20220717\\\\SCRIPT PRODUCTO\\\\20220703_poliza.csv',\n",
       " 'C:\\\\Users\\\\Cristian.Aparicio\\\\Documents\\\\POLIZAS\\\\2022\\\\VALIDACIONES\\\\20220717\\\\SCRIPT PRODUCTO\\\\20220704_poliza.csv',\n",
       " 'C:\\\\Users\\\\Cristian.Aparicio\\\\Documents\\\\POLIZAS\\\\2022\\\\VALIDACIONES\\\\20220717\\\\SCRIPT PRODUCTO\\\\20220705_poliza.csv',\n",
       " 'C:\\\\Users\\\\Cristian.Aparicio\\\\Documents\\\\POLIZAS\\\\2022\\\\VALIDACIONES\\\\20220717\\\\SCRIPT PRODUCTO\\\\20220706_poliza.csv',\n",
       " 'C:\\\\Users\\\\Cristian.Aparicio\\\\Documents\\\\POLIZAS\\\\2022\\\\VALIDACIONES\\\\20220717\\\\SCRIPT PRODUCTO\\\\20220707_poliza.csv',\n",
       " 'C:\\\\Users\\\\Cristian.Aparicio\\\\Documents\\\\POLIZAS\\\\2022\\\\VALIDACIONES\\\\20220717\\\\SCRIPT PRODUCTO\\\\20220708_poliza.csv',\n",
       " 'C:\\\\Users\\\\Cristian.Aparicio\\\\Documents\\\\POLIZAS\\\\2022\\\\VALIDACIONES\\\\20220717\\\\SCRIPT PRODUCTO\\\\20220709_poliza.csv',\n",
       " 'C:\\\\Users\\\\Cristian.Aparicio\\\\Documents\\\\POLIZAS\\\\2022\\\\VALIDACIONES\\\\20220717\\\\SCRIPT PRODUCTO\\\\20220710_poliza.csv',\n",
       " 'C:\\\\Users\\\\Cristian.Aparicio\\\\Documents\\\\POLIZAS\\\\2022\\\\VALIDACIONES\\\\20220717\\\\SCRIPT PRODUCTO\\\\20220711_poliza.csv',\n",
       " 'C:\\\\Users\\\\Cristian.Aparicio\\\\Documents\\\\POLIZAS\\\\2022\\\\VALIDACIONES\\\\20220717\\\\SCRIPT PRODUCTO\\\\20220712_poliza.csv',\n",
       " 'C:\\\\Users\\\\Cristian.Aparicio\\\\Documents\\\\POLIZAS\\\\2022\\\\VALIDACIONES\\\\20220717\\\\SCRIPT PRODUCTO\\\\20220713_poliza.csv',\n",
       " 'C:\\\\Users\\\\Cristian.Aparicio\\\\Documents\\\\POLIZAS\\\\2022\\\\VALIDACIONES\\\\20220717\\\\SCRIPT PRODUCTO\\\\20220714_poliza.csv',\n",
       " 'C:\\\\Users\\\\Cristian.Aparicio\\\\Documents\\\\POLIZAS\\\\2022\\\\VALIDACIONES\\\\20220717\\\\SCRIPT PRODUCTO\\\\20220715_poliza.csv',\n",
       " 'C:\\\\Users\\\\Cristian.Aparicio\\\\Documents\\\\POLIZAS\\\\2022\\\\VALIDACIONES\\\\20220717\\\\SCRIPT PRODUCTO\\\\20220716_poliza.csv',\n",
       " 'C:\\\\Users\\\\Cristian.Aparicio\\\\Documents\\\\POLIZAS\\\\2022\\\\VALIDACIONES\\\\20220717\\\\SCRIPT PRODUCTO\\\\20220717_poliza.csv']"
      ]
     },
     "execution_count": 2,
     "metadata": {},
     "output_type": "execute_result"
    }
   ],
   "source": [
    "poliza_producto_files = glob.glob(r'C:\\Users\\Cristian.Aparicio\\Documents\\POLIZAS\\2022\\VALIDACIONES\\20220717\\SCRIPT PRODUCTO\\*.csv', recursive=False)\n",
    "poliza_producto_files"
   ]
  },
  {
   "cell_type": "code",
   "execution_count": 3,
   "id": "23a893a9",
   "metadata": {},
   "outputs": [
    {
     "data": {
      "text/html": [
       "<div>\n",
       "<style scoped>\n",
       "    .dataframe tbody tr th:only-of-type {\n",
       "        vertical-align: middle;\n",
       "    }\n",
       "\n",
       "    .dataframe tbody tr th {\n",
       "        vertical-align: top;\n",
       "    }\n",
       "\n",
       "    .dataframe thead th {\n",
       "        text-align: right;\n",
       "    }\n",
       "</style>\n",
       "<table border=\"1\" class=\"dataframe\">\n",
       "  <thead>\n",
       "    <tr style=\"text-align: right;\">\n",
       "      <th></th>\n",
       "      <th>date</th>\n",
       "      <th>concept</th>\n",
       "      <th>type</th>\n",
       "      <th>key</th>\n",
       "      <th>amount</th>\n",
       "      <th>file_name</th>\n",
       "    </tr>\n",
       "  </thead>\n",
       "  <tbody>\n",
       "    <tr>\n",
       "      <th>8</th>\n",
       "      <td>2022-07-01</td>\n",
       "      <td>Adj Loans Lenders</td>\n",
       "      <td>credit</td>\n",
       "      <td>AdjLoansLenders</td>\n",
       "      <td>1,392,956.93</td>\n",
       "      <td>20220701_poliza.csv</td>\n",
       "    </tr>\n",
       "    <tr>\n",
       "      <th>2</th>\n",
       "      <td>2022-07-01</td>\n",
       "      <td>Adjustments Cancelaciones</td>\n",
       "      <td>credit</td>\n",
       "      <td>AdjustmentsCancelaciones</td>\n",
       "      <td>92,500.00</td>\n",
       "      <td>20220701_poliza.csv</td>\n",
       "    </tr>\n",
       "    <tr>\n",
       "      <th>0</th>\n",
       "      <td>2022-07-01</td>\n",
       "      <td>Adjustments Cancelaciones Fees</td>\n",
       "      <td>debit</td>\n",
       "      <td>AdjustmentsCancelacionesFees</td>\n",
       "      <td>3,330.00</td>\n",
       "      <td>20220701_poliza.csv</td>\n",
       "    </tr>\n",
       "    <tr>\n",
       "      <th>19</th>\n",
       "      <td>2022-07-01</td>\n",
       "      <td>Adjustments Cancelaciones Taxes</td>\n",
       "      <td>debit</td>\n",
       "      <td>AdjustmentsCancelacionesTaxes</td>\n",
       "      <td>532.80</td>\n",
       "      <td>20220701_poliza.csv</td>\n",
       "    </tr>\n",
       "    <tr>\n",
       "      <th>9</th>\n",
       "      <td>2022-07-01</td>\n",
       "      <td>Cobranza</td>\n",
       "      <td>credit</td>\n",
       "      <td>Cobranza</td>\n",
       "      <td>12,144.75</td>\n",
       "      <td>20220701_poliza.csv</td>\n",
       "    </tr>\n",
       "  </tbody>\n",
       "</table>\n",
       "</div>"
      ],
      "text/plain": [
       "         date                          concept    type  \\\n",
       "8  2022-07-01                Adj Loans Lenders  credit   \n",
       "2  2022-07-01        Adjustments Cancelaciones  credit   \n",
       "0  2022-07-01   Adjustments Cancelaciones Fees   debit   \n",
       "19 2022-07-01  Adjustments Cancelaciones Taxes   debit   \n",
       "9  2022-07-01                         Cobranza  credit   \n",
       "\n",
       "                              key       amount            file_name  \n",
       "8                 AdjLoansLenders 1,392,956.93  20220701_poliza.csv  \n",
       "2        AdjustmentsCancelaciones    92,500.00  20220701_poliza.csv  \n",
       "0    AdjustmentsCancelacionesFees     3,330.00  20220701_poliza.csv  \n",
       "19  AdjustmentsCancelacionesTaxes       532.80  20220701_poliza.csv  \n",
       "9                        Cobranza    12,144.75  20220701_poliza.csv  "
      ]
     },
     "execution_count": 3,
     "metadata": {},
     "output_type": "execute_result"
    }
   ],
   "source": [
    "poliza_producto = pd.concat([pd.read_csv(f).assign(file_name=os.path.basename(f)) for f in poliza_producto_files])\n",
    "poliza_producto['date']= pd.to_datetime(poliza_producto['date'])\n",
    "poliza_producto.sort_values(by=['date','key'],inplace=True)\n",
    "poliza_producto.head()"
   ]
  },
  {
   "cell_type": "code",
   "execution_count": 4,
   "id": "2afcb7ef",
   "metadata": {},
   "outputs": [
    {
     "data": {
      "text/plain": [
       "(459, 6)"
      ]
     },
     "execution_count": 4,
     "metadata": {},
     "output_type": "execute_result"
    }
   ],
   "source": [
    "poliza_producto.shape"
   ]
  },
  {
   "cell_type": "code",
   "execution_count": 5,
   "id": "1bb1d153",
   "metadata": {},
   "outputs": [
    {
     "data": {
      "text/plain": [
       "['20220701_poliza.csv',\n",
       " '20220702_poliza.csv',\n",
       " '20220703_poliza.csv',\n",
       " '20220704_poliza.csv',\n",
       " '20220705_poliza.csv',\n",
       " '20220706_poliza.csv',\n",
       " '20220707_poliza.csv',\n",
       " '20220708_poliza.csv',\n",
       " '20220709_poliza.csv',\n",
       " '20220710_poliza.csv',\n",
       " '20220711_poliza.csv',\n",
       " '20220712_poliza.csv',\n",
       " '20220713_poliza.csv',\n",
       " '20220714_poliza.csv',\n",
       " '20220715_poliza.csv',\n",
       " '20220716_poliza.csv',\n",
       " '20220717_poliza.csv']"
      ]
     },
     "execution_count": 5,
     "metadata": {},
     "output_type": "execute_result"
    }
   ],
   "source": [
    "sorted(poliza_producto['file_name'].unique())"
   ]
  },
  {
   "cell_type": "code",
   "execution_count": 6,
   "id": "af166c52",
   "metadata": {},
   "outputs": [],
   "source": [
    "grouped = poliza_producto.groupby(poliza_producto.file_name)"
   ]
  },
  {
   "cell_type": "code",
   "execution_count": 7,
   "id": "2580145c",
   "metadata": {},
   "outputs": [],
   "source": [
    "group_1 = grouped.get_group('20220701_poliza.csv')\n",
    "group_2 = grouped.get_group('20220702_poliza.csv')\n",
    "group_3 = grouped.get_group('20220703_poliza.csv')\n",
    "group_4 = grouped.get_group('20220704_poliza.csv')\n",
    "group_5 = grouped.get_group('20220705_poliza.csv')\n",
    "group_6 = grouped.get_group('20220706_poliza.csv')\n",
    "group_7 = grouped.get_group('20220707_poliza.csv')\n",
    "group_8 = grouped.get_group('20220708_poliza.csv')\n",
    "group_9 = grouped.get_group('20220709_poliza.csv')\n",
    "group_10 = grouped.get_group('20220710_poliza.csv')\n",
    "group_11 = grouped.get_group('20220711_poliza.csv')\n",
    "group_12 = grouped.get_group('20220712_poliza.csv')\n",
    "group_13 = grouped.get_group('20220713_poliza.csv')\n",
    "group_14 = grouped.get_group('20220714_poliza.csv')\n",
    "group_15 = grouped.get_group('20220715_poliza.csv')\n",
    "group_16 = grouped.get_group('20220716_poliza.csv')\n",
    "group_17 = grouped.get_group('20220717_poliza.csv')"
   ]
  },
  {
   "cell_type": "code",
   "execution_count": 8,
   "id": "6102505a",
   "metadata": {},
   "outputs": [],
   "source": [
    "writer = pd.ExcelWriter('validacion_poliza_julio_20220718.xlsx',\n",
    "                        engine='xlsxwriter',\n",
    "                        engine_kwargs={'options': {'encoding':'utf-8'}})\n",
    "group_1.to_excel(writer, sheet_name='2022.07.01', index=False)\n",
    "group_2.to_excel(writer, sheet_name='2022.07.02', index=False)\n",
    "group_3.to_excel(writer, sheet_name='2022.07.03', index=False)\n",
    "group_4.to_excel(writer, sheet_name='2022.07.04', index=False)\n",
    "group_5.to_excel(writer, sheet_name='2022.07.05', index=False)\n",
    "group_6.to_excel(writer, sheet_name='2022.07.06', index=False)\n",
    "group_7.to_excel(writer, sheet_name='2022.07.07', index=False)\n",
    "group_8.to_excel(writer, sheet_name='2022.07.08', index=False)\n",
    "group_9.to_excel(writer, sheet_name='2022.07.09', index=False)\n",
    "group_10.to_excel(writer, sheet_name='2022.07.10', index=False)\n",
    "group_11.to_excel(writer, sheet_name='2022.07.11', index=False)\n",
    "group_12.to_excel(writer, sheet_name='2022.07.12', index=False)\n",
    "group_13.to_excel(writer, sheet_name='2022.07.13', index=False)\n",
    "group_14.to_excel(writer, sheet_name='2022.07.14', index=False)\n",
    "group_15.to_excel(writer, sheet_name='2022.07.15', index=False)\n",
    "group_16.to_excel(writer, sheet_name='2022.07.16', index=False)\n",
    "group_17.to_excel(writer, sheet_name='2022.07.17', index=False)\n",
    "# group_18.to_excel(writer, sheet_name='2022.03.24', index=False)\n",
    "# group_19.to_excel(writer, sheet_name='2022.03.25', index=False)\n",
    "# group_20.to_excel(writer, sheet_name='2022.03.27', index=False)\n",
    "# group_21.to_excel(writer, sheet_name='2022.03.28', index=False)\n",
    "# group_22.to_excel(writer, sheet_name='2022.03.29', index=False)\n",
    "# group_23.to_excel(writer, sheet_name='2022.03.30', index=False)\n",
    "# group_24.to_excel(writer, sheet_name='2022.03.31', index=False)\n",
    "writer.close()"
   ]
  },
  {
   "cell_type": "code",
   "execution_count": null,
   "id": "7fb7e6ef",
   "metadata": {},
   "outputs": [],
   "source": []
  }
 ],
 "metadata": {
  "kernelspec": {
   "display_name": "Python 3 (ipykernel)",
   "language": "python",
   "name": "python3"
  },
  "language_info": {
   "codemirror_mode": {
    "name": "ipython",
    "version": 3
   },
   "file_extension": ".py",
   "mimetype": "text/x-python",
   "name": "python",
   "nbconvert_exporter": "python",
   "pygments_lexer": "ipython3",
   "version": "3.9.12"
  }
 },
 "nbformat": 4,
 "nbformat_minor": 5
}
