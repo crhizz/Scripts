{
 "cells": [
  {
   "cell_type": "code",
   "execution_count": 1,
   "metadata": {},
   "outputs": [],
   "source": [
    "import pandas as pd\n",
    "import numpy as np\n",
    "import glob\n",
    "import os\n",
    "from openpyxl import load_workbook\n",
    "pd.options.display.float_format = '{:,.2f}'.format"
   ]
  },
  {
   "cell_type": "markdown",
   "metadata": {},
   "source": [
    "# MES AÑO DE CONCILIACIÓN"
   ]
  },
  {
   "cell_type": "code",
   "execution_count": 2,
   "metadata": {},
   "outputs": [],
   "source": [
    "month_conc = 'April'\n",
    "year_conc = '2022'"
   ]
  },
  {
   "cell_type": "markdown",
   "metadata": {},
   "source": [
    "# RUTAS DE ACCESO"
   ]
  },
  {
   "cell_type": "markdown",
   "metadata": {},
   "source": [
    "### SWAP DEL DIA "
   ]
  },
  {
   "cell_type": "code",
   "execution_count": 3,
   "metadata": {},
   "outputs": [
    {
     "data": {
      "text/plain": [
       "['C:\\\\Users\\\\Cristian.Aparicio\\\\Documents\\\\DISPERSIONES\\\\2022\\\\04. ABRIL\\\\ARCHIVO DISPERSIONES\\\\Dispersión-2-20220424.xlsx',\n",
       " 'C:\\\\Users\\\\Cristian.Aparicio\\\\Documents\\\\DISPERSIONES\\\\2022\\\\04. ABRIL\\\\ARCHIVO DISPERSIONES\\\\Dispersión-20220401.xlsx',\n",
       " 'C:\\\\Users\\\\Cristian.Aparicio\\\\Documents\\\\DISPERSIONES\\\\2022\\\\04. ABRIL\\\\ARCHIVO DISPERSIONES\\\\Dispersión-20220402.xlsx',\n",
       " 'C:\\\\Users\\\\Cristian.Aparicio\\\\Documents\\\\DISPERSIONES\\\\2022\\\\04. ABRIL\\\\ARCHIVO DISPERSIONES\\\\Dispersión-20220403.xlsx',\n",
       " 'C:\\\\Users\\\\Cristian.Aparicio\\\\Documents\\\\DISPERSIONES\\\\2022\\\\04. ABRIL\\\\ARCHIVO DISPERSIONES\\\\Dispersión-20220404.xlsx',\n",
       " 'C:\\\\Users\\\\Cristian.Aparicio\\\\Documents\\\\DISPERSIONES\\\\2022\\\\04. ABRIL\\\\ARCHIVO DISPERSIONES\\\\Dispersión-20220405.xlsx',\n",
       " 'C:\\\\Users\\\\Cristian.Aparicio\\\\Documents\\\\DISPERSIONES\\\\2022\\\\04. ABRIL\\\\ARCHIVO DISPERSIONES\\\\Dispersión-20220406.xlsx',\n",
       " 'C:\\\\Users\\\\Cristian.Aparicio\\\\Documents\\\\DISPERSIONES\\\\2022\\\\04. ABRIL\\\\ARCHIVO DISPERSIONES\\\\Dispersión-20220407.xlsx',\n",
       " 'C:\\\\Users\\\\Cristian.Aparicio\\\\Documents\\\\DISPERSIONES\\\\2022\\\\04. ABRIL\\\\ARCHIVO DISPERSIONES\\\\Dispersión-20220408.xlsx',\n",
       " 'C:\\\\Users\\\\Cristian.Aparicio\\\\Documents\\\\DISPERSIONES\\\\2022\\\\04. ABRIL\\\\ARCHIVO DISPERSIONES\\\\Dispersión-20220409.xlsx',\n",
       " 'C:\\\\Users\\\\Cristian.Aparicio\\\\Documents\\\\DISPERSIONES\\\\2022\\\\04. ABRIL\\\\ARCHIVO DISPERSIONES\\\\Dispersión-20220410.xlsx',\n",
       " 'C:\\\\Users\\\\Cristian.Aparicio\\\\Documents\\\\DISPERSIONES\\\\2022\\\\04. ABRIL\\\\ARCHIVO DISPERSIONES\\\\Dispersión-20220411.xlsx',\n",
       " 'C:\\\\Users\\\\Cristian.Aparicio\\\\Documents\\\\DISPERSIONES\\\\2022\\\\04. ABRIL\\\\ARCHIVO DISPERSIONES\\\\Dispersión-20220412.xlsx',\n",
       " 'C:\\\\Users\\\\Cristian.Aparicio\\\\Documents\\\\DISPERSIONES\\\\2022\\\\04. ABRIL\\\\ARCHIVO DISPERSIONES\\\\Dispersión-20220413.xlsx',\n",
       " 'C:\\\\Users\\\\Cristian.Aparicio\\\\Documents\\\\DISPERSIONES\\\\2022\\\\04. ABRIL\\\\ARCHIVO DISPERSIONES\\\\Dispersión-20220414.xlsx',\n",
       " 'C:\\\\Users\\\\Cristian.Aparicio\\\\Documents\\\\DISPERSIONES\\\\2022\\\\04. ABRIL\\\\ARCHIVO DISPERSIONES\\\\Dispersión-20220415.xlsx',\n",
       " 'C:\\\\Users\\\\Cristian.Aparicio\\\\Documents\\\\DISPERSIONES\\\\2022\\\\04. ABRIL\\\\ARCHIVO DISPERSIONES\\\\Dispersión-20220416.xlsx',\n",
       " 'C:\\\\Users\\\\Cristian.Aparicio\\\\Documents\\\\DISPERSIONES\\\\2022\\\\04. ABRIL\\\\ARCHIVO DISPERSIONES\\\\Dispersión-20220417.xlsx',\n",
       " 'C:\\\\Users\\\\Cristian.Aparicio\\\\Documents\\\\DISPERSIONES\\\\2022\\\\04. ABRIL\\\\ARCHIVO DISPERSIONES\\\\Dispersión-20220418.xlsx',\n",
       " 'C:\\\\Users\\\\Cristian.Aparicio\\\\Documents\\\\DISPERSIONES\\\\2022\\\\04. ABRIL\\\\ARCHIVO DISPERSIONES\\\\Dispersión-20220419.xlsx',\n",
       " 'C:\\\\Users\\\\Cristian.Aparicio\\\\Documents\\\\DISPERSIONES\\\\2022\\\\04. ABRIL\\\\ARCHIVO DISPERSIONES\\\\Dispersión-20220420.xlsx',\n",
       " 'C:\\\\Users\\\\Cristian.Aparicio\\\\Documents\\\\DISPERSIONES\\\\2022\\\\04. ABRIL\\\\ARCHIVO DISPERSIONES\\\\Dispersión-20220421.xlsx',\n",
       " 'C:\\\\Users\\\\Cristian.Aparicio\\\\Documents\\\\DISPERSIONES\\\\2022\\\\04. ABRIL\\\\ARCHIVO DISPERSIONES\\\\Dispersión-20220422.xlsx',\n",
       " 'C:\\\\Users\\\\Cristian.Aparicio\\\\Documents\\\\DISPERSIONES\\\\2022\\\\04. ABRIL\\\\ARCHIVO DISPERSIONES\\\\Dispersión-20220423.xlsx',\n",
       " 'C:\\\\Users\\\\Cristian.Aparicio\\\\Documents\\\\DISPERSIONES\\\\2022\\\\04. ABRIL\\\\ARCHIVO DISPERSIONES\\\\Dispersión-20220424.xlsx',\n",
       " 'C:\\\\Users\\\\Cristian.Aparicio\\\\Documents\\\\DISPERSIONES\\\\2022\\\\04. ABRIL\\\\ARCHIVO DISPERSIONES\\\\Dispersión-20220425.xlsx',\n",
       " 'C:\\\\Users\\\\Cristian.Aparicio\\\\Documents\\\\DISPERSIONES\\\\2022\\\\04. ABRIL\\\\ARCHIVO DISPERSIONES\\\\Dispersión-20220426.xlsx',\n",
       " 'C:\\\\Users\\\\Cristian.Aparicio\\\\Documents\\\\DISPERSIONES\\\\2022\\\\04. ABRIL\\\\ARCHIVO DISPERSIONES\\\\Dispersión-20220427.xlsx',\n",
       " 'C:\\\\Users\\\\Cristian.Aparicio\\\\Documents\\\\DISPERSIONES\\\\2022\\\\04. ABRIL\\\\ARCHIVO DISPERSIONES\\\\Dispersión-20220428.xlsx',\n",
       " 'C:\\\\Users\\\\Cristian.Aparicio\\\\Documents\\\\DISPERSIONES\\\\2022\\\\04. ABRIL\\\\ARCHIVO DISPERSIONES\\\\Dispersión-20220429.xlsx']"
      ]
     },
     "execution_count": 3,
     "metadata": {},
     "output_type": "execute_result"
    }
   ],
   "source": [
    "allfiles_disp_trad = glob.glob(r'C:\\Users\\Cristian.Aparicio\\Documents\\DISPERSIONES\\2022\\04. ABRIL\\ARCHIVO DISPERSIONES\\Dispersión*.xlsx', recursive=False)\n",
    "allfiles_disp_trad"
   ]
  },
  {
   "cell_type": "markdown",
   "metadata": {},
   "source": [
    "### FAST PAYMENTS"
   ]
  },
  {
   "cell_type": "code",
   "execution_count": 4,
   "metadata": {},
   "outputs": [
    {
     "data": {
      "text/plain": [
       "['C:\\\\Users\\\\Cristian.Aparicio\\\\Documents\\\\FAST PAYMENTS\\\\2022\\\\04. ABRIL\\\\ARCHIVO DISPERSIONES FP\\\\Dispersión-FP 2022-04-01.xlsx',\n",
       " 'C:\\\\Users\\\\Cristian.Aparicio\\\\Documents\\\\FAST PAYMENTS\\\\2022\\\\04. ABRIL\\\\ARCHIVO DISPERSIONES FP\\\\Dispersión-FP 2022-04-02.xlsx',\n",
       " 'C:\\\\Users\\\\Cristian.Aparicio\\\\Documents\\\\FAST PAYMENTS\\\\2022\\\\04. ABRIL\\\\ARCHIVO DISPERSIONES FP\\\\Dispersión-FP 2022-04-03.xlsx',\n",
       " 'C:\\\\Users\\\\Cristian.Aparicio\\\\Documents\\\\FAST PAYMENTS\\\\2022\\\\04. ABRIL\\\\ARCHIVO DISPERSIONES FP\\\\Dispersión-FP 2022-04-04.xlsx',\n",
       " 'C:\\\\Users\\\\Cristian.Aparicio\\\\Documents\\\\FAST PAYMENTS\\\\2022\\\\04. ABRIL\\\\ARCHIVO DISPERSIONES FP\\\\Dispersión-FP 2022-04-05.xlsx',\n",
       " 'C:\\\\Users\\\\Cristian.Aparicio\\\\Documents\\\\FAST PAYMENTS\\\\2022\\\\04. ABRIL\\\\ARCHIVO DISPERSIONES FP\\\\Dispersión-FP 2022-04-06.xlsx',\n",
       " 'C:\\\\Users\\\\Cristian.Aparicio\\\\Documents\\\\FAST PAYMENTS\\\\2022\\\\04. ABRIL\\\\ARCHIVO DISPERSIONES FP\\\\Dispersión-FP 2022-04-07.xlsx',\n",
       " 'C:\\\\Users\\\\Cristian.Aparicio\\\\Documents\\\\FAST PAYMENTS\\\\2022\\\\04. ABRIL\\\\ARCHIVO DISPERSIONES FP\\\\Dispersión-FP 2022-04-08.xlsx',\n",
       " 'C:\\\\Users\\\\Cristian.Aparicio\\\\Documents\\\\FAST PAYMENTS\\\\2022\\\\04. ABRIL\\\\ARCHIVO DISPERSIONES FP\\\\Dispersión-FP 2022-04-09.xlsx',\n",
       " 'C:\\\\Users\\\\Cristian.Aparicio\\\\Documents\\\\FAST PAYMENTS\\\\2022\\\\04. ABRIL\\\\ARCHIVO DISPERSIONES FP\\\\Dispersión-FP 2022-04-10.xlsx',\n",
       " 'C:\\\\Users\\\\Cristian.Aparicio\\\\Documents\\\\FAST PAYMENTS\\\\2022\\\\04. ABRIL\\\\ARCHIVO DISPERSIONES FP\\\\Dispersión-FP 2022-04-11.xlsx',\n",
       " 'C:\\\\Users\\\\Cristian.Aparicio\\\\Documents\\\\FAST PAYMENTS\\\\2022\\\\04. ABRIL\\\\ARCHIVO DISPERSIONES FP\\\\Dispersión-FP 2022-04-12.xlsx',\n",
       " 'C:\\\\Users\\\\Cristian.Aparicio\\\\Documents\\\\FAST PAYMENTS\\\\2022\\\\04. ABRIL\\\\ARCHIVO DISPERSIONES FP\\\\Dispersión-FP 2022-04-13.xlsx',\n",
       " 'C:\\\\Users\\\\Cristian.Aparicio\\\\Documents\\\\FAST PAYMENTS\\\\2022\\\\04. ABRIL\\\\ARCHIVO DISPERSIONES FP\\\\Dispersión-FP 2022-04-14.xlsx',\n",
       " 'C:\\\\Users\\\\Cristian.Aparicio\\\\Documents\\\\FAST PAYMENTS\\\\2022\\\\04. ABRIL\\\\ARCHIVO DISPERSIONES FP\\\\Dispersión-FP 2022-04-15.xlsx',\n",
       " 'C:\\\\Users\\\\Cristian.Aparicio\\\\Documents\\\\FAST PAYMENTS\\\\2022\\\\04. ABRIL\\\\ARCHIVO DISPERSIONES FP\\\\Dispersión-FP 2022-04-16.xlsx',\n",
       " 'C:\\\\Users\\\\Cristian.Aparicio\\\\Documents\\\\FAST PAYMENTS\\\\2022\\\\04. ABRIL\\\\ARCHIVO DISPERSIONES FP\\\\Dispersión-FP 2022-04-17.xlsx',\n",
       " 'C:\\\\Users\\\\Cristian.Aparicio\\\\Documents\\\\FAST PAYMENTS\\\\2022\\\\04. ABRIL\\\\ARCHIVO DISPERSIONES FP\\\\Dispersión-FP 2022-04-18.xlsx',\n",
       " 'C:\\\\Users\\\\Cristian.Aparicio\\\\Documents\\\\FAST PAYMENTS\\\\2022\\\\04. ABRIL\\\\ARCHIVO DISPERSIONES FP\\\\Dispersión-FP 2022-04-19.xlsx',\n",
       " 'C:\\\\Users\\\\Cristian.Aparicio\\\\Documents\\\\FAST PAYMENTS\\\\2022\\\\04. ABRIL\\\\ARCHIVO DISPERSIONES FP\\\\Dispersión-FP 2022-04-20.xlsx',\n",
       " 'C:\\\\Users\\\\Cristian.Aparicio\\\\Documents\\\\FAST PAYMENTS\\\\2022\\\\04. ABRIL\\\\ARCHIVO DISPERSIONES FP\\\\Dispersión-FP 2022-04-21.xlsx',\n",
       " 'C:\\\\Users\\\\Cristian.Aparicio\\\\Documents\\\\FAST PAYMENTS\\\\2022\\\\04. ABRIL\\\\ARCHIVO DISPERSIONES FP\\\\Dispersión-FP 2022-04-22.xlsx',\n",
       " 'C:\\\\Users\\\\Cristian.Aparicio\\\\Documents\\\\FAST PAYMENTS\\\\2022\\\\04. ABRIL\\\\ARCHIVO DISPERSIONES FP\\\\Dispersión-FP 2022-04-23.xlsx',\n",
       " 'C:\\\\Users\\\\Cristian.Aparicio\\\\Documents\\\\FAST PAYMENTS\\\\2022\\\\04. ABRIL\\\\ARCHIVO DISPERSIONES FP\\\\Dispersión-FP 2022-04-24.xlsx',\n",
       " 'C:\\\\Users\\\\Cristian.Aparicio\\\\Documents\\\\FAST PAYMENTS\\\\2022\\\\04. ABRIL\\\\ARCHIVO DISPERSIONES FP\\\\Dispersión-FP 2022-04-25.xlsx',\n",
       " 'C:\\\\Users\\\\Cristian.Aparicio\\\\Documents\\\\FAST PAYMENTS\\\\2022\\\\04. ABRIL\\\\ARCHIVO DISPERSIONES FP\\\\Dispersión-FP 2022-04-26.xlsx',\n",
       " 'C:\\\\Users\\\\Cristian.Aparicio\\\\Documents\\\\FAST PAYMENTS\\\\2022\\\\04. ABRIL\\\\ARCHIVO DISPERSIONES FP\\\\Dispersión-FP 2022-04-27.xlsx',\n",
       " 'C:\\\\Users\\\\Cristian.Aparicio\\\\Documents\\\\FAST PAYMENTS\\\\2022\\\\04. ABRIL\\\\ARCHIVO DISPERSIONES FP\\\\Dispersión-FP 2022-04-28.xlsx',\n",
       " 'C:\\\\Users\\\\Cristian.Aparicio\\\\Documents\\\\FAST PAYMENTS\\\\2022\\\\04. ABRIL\\\\ARCHIVO DISPERSIONES FP\\\\Dispersión-FP 2022-04-29.xlsx']"
      ]
     },
     "execution_count": 4,
     "metadata": {},
     "output_type": "execute_result"
    }
   ],
   "source": [
    "allfiles_fp = glob.glob(r'C:\\Users\\Cristian.Aparicio\\Documents\\FAST PAYMENTS\\2022\\04. ABRIL\\ARCHIVO DISPERSIONES FP\\Dispersión-FP*.xlsx',recursive=False)\n",
    "allfiles_fp"
   ]
  },
  {
   "cell_type": "markdown",
   "metadata": {},
   "source": [
    "# SWAP DEL DIA"
   ]
  },
  {
   "cell_type": "code",
   "execution_count": null,
   "metadata": {},
   "outputs": [],
   "source": [
    "swap_dia_total = pd.concat([pd.read_excel(f,sheet_name = 'Swap del día')\n",
    "                            .assign(file_name=os.path.basename(f)) for f in allfiles_disp_trad])\n",
    "swap_dia_total['Date'] = swap_dia_total[\"file_name\"].str[-13:-5]\n",
    "swap_dia_total['Date']= pd.to_datetime(swap_dia_total['Date'], format='%Y%m%d').dt.date\n",
    "swap_dia_total['Date']= pd.to_datetime(swap_dia_total['Date'])\n",
    "swap_dia_total.sort_values(by=['Date'],ascending=True,inplace=True)\n",
    "swap_dia_total['report_date_local']= pd.to_datetime(swap_dia_total['report_date_local'])\n",
    "swap_dia_total['month_conc'] = month_conc\n",
    "swap_dia_total['year_conc'] = year_conc\n",
    "swap_dia_total['month_report'] = swap_dia_total['report_date_local'].dt.strftime('%B')\n",
    "swap_dia_total['year_report'] = swap_dia_total['report_date_local'].dt.year.astype(str)\n",
    "swap_dia_total.head()"
   ]
  },
  {
   "cell_type": "code",
   "execution_count": null,
   "metadata": {},
   "outputs": [],
   "source": [
    "swap_dia_total.shape"
   ]
  },
  {
   "cell_type": "code",
   "execution_count": null,
   "metadata": {},
   "outputs": [],
   "source": [
    "swap_dia_total.dtypes"
   ]
  },
  {
   "cell_type": "code",
   "execution_count": null,
   "metadata": {},
   "outputs": [],
   "source": [
    "pivot_total = pd.pivot_table(swap_dia_total,index=['Date'],values=['total_due'],aggfunc = ['sum', len],margins=True)\n",
    "pivot_total.reset_index(drop=False, inplace=True)\n",
    "pivot_total.head()"
   ]
  },
  {
   "cell_type": "code",
   "execution_count": null,
   "metadata": {},
   "outputs": [],
   "source": [
    "pivot_parcial = pd.pivot_table(swap_dia_total,index=['tipo','Date'],values=['total_due'],aggfunc = ['sum', len],margins=True)\n",
    "pivot_parcial.reset_index(drop=False, inplace=True)\n",
    "pivot_parcial.head()"
   ]
  },
  {
   "cell_type": "markdown",
   "metadata": {},
   "source": [
    "## CATEGORIZACIÓN DE REPROGRAMACIONES"
   ]
  },
  {
   "cell_type": "code",
   "execution_count": null,
   "metadata": {},
   "outputs": [],
   "source": [
    "swap_dia_total_repro = swap_dia_total[(swap_dia_total['tipo'] == 'Reprogramación')]\n",
    "swap_dia_total_repro.head()"
   ]
  },
  {
   "cell_type": "code",
   "execution_count": null,
   "metadata": {},
   "outputs": [],
   "source": [
    "swap_dia_total_repro.shape"
   ]
  },
  {
   "cell_type": "code",
   "execution_count": null,
   "metadata": {},
   "outputs": [],
   "source": [
    "swap_dia_total_repro.loc[(swap_dia_total_repro['tipo'] == 'Reprogramación')\n",
    "                   & (swap_dia_total_repro['month_report'] == month_conc) \n",
    "                   & (swap_dia_total_repro['year_report'] == year_conc),'tipo_reprogramacion'] = 'repro_mismo_mes'\n",
    "swap_dia_total_repro['tipo_reprogramacion'].fillna('repro_otro_mes',inplace=True)\n",
    "swap_dia_total_repro.head()"
   ]
  },
  {
   "cell_type": "code",
   "execution_count": null,
   "metadata": {},
   "outputs": [],
   "source": [
    "pivot_tipo_repro = pd.pivot_table(swap_dia_total_repro,index=['Date'],\n",
    "                                  columns=['tipo_reprogramacion'],\n",
    "                                  values=['total_due']\n",
    "                                  ,aggfunc = ['sum', len],margins=True)\n",
    "pivot_tipo_repro.reset_index(drop=False, inplace=True)\n",
    "pivot_tipo_repro.head()"
   ]
  },
  {
   "cell_type": "markdown",
   "metadata": {},
   "source": [
    "# FAST PAYMENTS"
   ]
  },
  {
   "cell_type": "code",
   "execution_count": null,
   "metadata": {},
   "outputs": [],
   "source": [
    "fp_dia_total = pd.concat([pd.read_excel(f,sheet_name='FAST PAYMENTS')\n",
    "                          .assign(file_name=os.path.basename(f)) for f in allfiles_fp])\n",
    "fp_dia_total['Date'] = fp_dia_total[\"file_name\"].str[-15:-5]\n",
    "fp_dia_total['Date']= pd.to_datetime(fp_dia_total['Date'])\n",
    "fp_dia_total['report_date_local']= pd.to_datetime(fp_dia_total['report_date_local'])\n",
    "fp_dia_total['month_conc'] = month_conc\n",
    "fp_dia_total['year_conc'] = year_conc\n",
    "fp_dia_total['month_report'] = fp_dia_total['report_date_local'].dt.strftime('%B')\n",
    "fp_dia_total['year_report'] = fp_dia_total['report_date_local'].dt.year.astype(str)\n",
    "fp_dia_total.head()"
   ]
  },
  {
   "cell_type": "code",
   "execution_count": null,
   "metadata": {},
   "outputs": [],
   "source": [
    "fp_dia_total.shape"
   ]
  },
  {
   "cell_type": "code",
   "execution_count": null,
   "metadata": {},
   "outputs": [],
   "source": [
    "fp_dia_total.dtypes"
   ]
  },
  {
   "cell_type": "code",
   "execution_count": null,
   "metadata": {},
   "outputs": [],
   "source": [
    "pivot_fp_total = pd.pivot_table(fp_dia_total,index=['Date'],values=['total_due'],aggfunc = ['sum', len],margins=True)\n",
    "pivot_fp_total.reset_index(drop=False, inplace=True)\n",
    "pivot_fp_total.head()"
   ]
  },
  {
   "cell_type": "code",
   "execution_count": null,
   "metadata": {},
   "outputs": [],
   "source": [
    "pivot_fp_parcial = pd.pivot_table(fp_dia_total,index=['tipo','Date'],values=['total_due'],aggfunc = ['sum', len],margins=True)\n",
    "pivot_fp_parcial.reset_index(drop=False, inplace=True)\n",
    "pivot_fp_parcial.head()"
   ]
  },
  {
   "cell_type": "markdown",
   "metadata": {},
   "source": [
    "## CATEGORIZACIÓN DE REPROGRAMACIONES - FAST PAYMENTS"
   ]
  },
  {
   "cell_type": "code",
   "execution_count": null,
   "metadata": {},
   "outputs": [],
   "source": [
    "fp_dia_total_repro = fp_dia_total[(fp_dia_total['tipo'] == 'Reprogramación')]\n",
    "fp_dia_total_repro.head()"
   ]
  },
  {
   "cell_type": "code",
   "execution_count": null,
   "metadata": {},
   "outputs": [],
   "source": [
    "fp_dia_total_repro.shape"
   ]
  },
  {
   "cell_type": "code",
   "execution_count": null,
   "metadata": {},
   "outputs": [],
   "source": [
    "fp_dia_total_repro.loc[(fp_dia_total_repro['tipo'] == 'Reprogramación')\n",
    "                   & (fp_dia_total_repro['month_report'] == month_conc) \n",
    "                   & (fp_dia_total_repro['year_report'] == year_conc),'tipo_reprogramacion'] = 'repro_mismo_mes'\n",
    "fp_dia_total_repro['tipo_reprogramacion'].fillna('repro_otro_mes',inplace=True)\n",
    "fp_dia_total_repro.head()"
   ]
  },
  {
   "cell_type": "code",
   "execution_count": null,
   "metadata": {},
   "outputs": [],
   "source": [
    "pivot_tipo_repro_fp = pd.pivot_table(fp_dia_total_repro,index=['Date'],\n",
    "                                  columns=['tipo_reprogramacion'],\n",
    "                                  values=['total_due']\n",
    "                                  ,aggfunc = ['sum', len],margins=True)\n",
    "pivot_tipo_repro_fp.reset_index(drop=False, inplace=True)\n",
    "pivot_tipo_repro_fp.head()"
   ]
  },
  {
   "cell_type": "markdown",
   "metadata": {},
   "source": [
    "# EXCEL FINAL"
   ]
  },
  {
   "cell_type": "code",
   "execution_count": null,
   "metadata": {},
   "outputs": [],
   "source": [
    "writer = pd.ExcelWriter('FASE IV. REPROGRAMACIONES ABRIL 2022.xlsx',\n",
    "                        engine='xlsxwriter',\n",
    "                        engine_kwargs={'options': {'encoding':'utf-8'}})\n",
    "pivot_total.to_excel(writer, sheet_name='SWAP DIA TOTAL')\n",
    "pivot_parcial.to_excel(writer, sheet_name='SWAP DIA PARCIAL')\n",
    "pivot_fp_total.to_excel(writer, sheet_name='FP TOTAL')\n",
    "pivot_fp_parcial.to_excel(writer, sheet_name='FP PARCIAL')\n",
    "pivot_tipo_repro.to_excel(writer, sheet_name='CATEGORIZACION REPRO')\n",
    "pivot_tipo_repro_fp.to_excel(writer, sheet_name='CATEGORIZACION FP-REPRO')\n",
    "writer.close()"
   ]
  },
  {
   "cell_type": "code",
   "execution_count": null,
   "metadata": {},
   "outputs": [],
   "source": []
  }
 ],
 "metadata": {
  "kernelspec": {
   "display_name": "Python 3 (ipykernel)",
   "language": "python",
   "name": "python3"
  },
  "language_info": {
   "codemirror_mode": {
    "name": "ipython",
    "version": 3
   },
   "file_extension": ".py",
   "mimetype": "text/x-python",
   "name": "python",
   "nbconvert_exporter": "python",
   "pygments_lexer": "ipython3",
   "version": "3.8.13"
  }
 },
 "nbformat": 4,
 "nbformat_minor": 4
}
