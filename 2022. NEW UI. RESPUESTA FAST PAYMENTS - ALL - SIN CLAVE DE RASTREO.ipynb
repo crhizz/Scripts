{
 "cells": [
  {
   "cell_type": "code",
   "execution_count": null,
   "metadata": {},
   "outputs": [],
   "source": [
    "import pandas as pd\n",
    "import numpy as np\n",
    "import openpyxl\n",
    "from openpyxl import load_workbook\n",
    "import xlsxwriter\n",
    "import glob\n",
    "import os\n",
    "from datetime import datetime\n",
    "pd.options.display.float_format = '{:,.2f}'.format"
   ]
  },
  {
   "cell_type": "markdown",
   "metadata": {},
   "source": [
    "# READING FILES"
   ]
  },
  {
   "cell_type": "code",
   "execution_count": null,
   "metadata": {},
   "outputs": [],
   "source": [
    "date_respuesta = '2022-07-07'\n",
    "date_respuesta = pd.to_datetime(date_respuesta)"
   ]
  },
  {
   "cell_type": "markdown",
   "metadata": {},
   "source": [
    "## RESPUESTAS FP SIN CLAVES DE RASTREO"
   ]
  },
  {
   "cell_type": "code",
   "execution_count": null,
   "metadata": {},
   "outputs": [],
   "source": [
    "names_resp = ['report_id','status','report_date_local','amount','disbursement_batch_id','merchant_id','bank_account_number',\n",
    "             'bank_name','bank_account_owner_name','execution_date','aplication_date','disbursement_tracking_key',\n",
    "             'error_description','reference_number','cep']"
   ]
  },
  {
   "cell_type": "code",
   "execution_count": null,
   "metadata": {},
   "outputs": [],
   "source": [
    "rs_previo = glob.glob(r'C:\\Users\\Cristian.Aparicio\\Documents\\FAST PAYMENTS\\2022\\07. JULIO\\Respuesta-FP*.xlsx', recursive=False)\n",
    "rs_previo"
   ]
  },
  {
   "cell_type": "code",
   "execution_count": null,
   "metadata": {},
   "outputs": [],
   "source": [
    "rs_concat_previo = pd.concat([pd.read_excel(f,sheet_name='Report',names=names_resp,\n",
    "                                     converters={'bank_account_number':str,'disbursement_tracking_key':str,'report_id':str})\n",
    "                       .assign(file_name=os.path.basename(f)) for f in rs_previo])\n",
    "rs_concat_previo.loc[rs_concat_previo['file_name'].str.contains('-1'), 'Time_rs'] = '09:00'\n",
    "rs_concat_previo.loc[rs_concat_previo['file_name'].str.contains('-2'), 'Time_rs'] = '11:00'\n",
    "rs_concat_previo.loc[rs_concat_previo['file_name'].str.contains('-3'), 'Time_rs'] = '14:00'\n",
    "rs_concat_previo.loc[rs_concat_previo['file_name'].str.contains('-4'), 'Time_rs'] = '16:00'\n",
    "rs_concat_previo.loc[rs_concat_previo['file_name'].str.contains('-5'), 'Time_rs'] = '18:00'\n",
    "rs_concat_previo.loc[rs_concat_previo['file_name'].str.contains('-6'), 'Time_rs'] = '20:00'\n",
    "rs_concat_previo.loc[rs_concat_previo['file_name'].str.contains('CITI'), \"Banco_emisor\"] = 'BANAMEX'\n",
    "rs_concat_previo.loc[rs_concat_previo['file_name'].str.contains('BNTE'), \"Banco_emisor\"] = 'BANORTE'\n",
    "rs_concat_previo.loc[rs_concat_previo['file_name'].str.contains('SANT'), \"Banco_emisor\"] = 'SANTANDER'\n",
    "rs_concat_previo.loc[rs_concat_previo['Banco_emisor'] == 'BANAMEX', \"Banco emisor\"] = '40002'\n",
    "rs_concat_previo.loc[rs_concat_previo['Banco_emisor'] == 'BANORTE', \"Banco emisor\"] = '40072'\n",
    "rs_concat_previo.loc[rs_concat_previo['Banco_emisor'] == 'SANTANDER', \"Banco emisor\"] = '40014'\n",
    "rs_concat_previo['INDEX'] = (rs_concat_previo['report_id'].astype(str).replace(' ', '',regex=True)+'_'\n",
    "                       +rs_concat_previo['Time_rs'].astype(str).replace(' ', '',regex=True))\n",
    "rs_concat_previo.sort_values(by=['Time_rs'], ascending=True, inplace=True)\n",
    "rs_concat_previo.head()"
   ]
  },
  {
   "cell_type": "code",
   "execution_count": null,
   "metadata": {},
   "outputs": [],
   "source": [
    "rs_concat_previo.shape"
   ]
  },
  {
   "cell_type": "code",
   "execution_count": null,
   "metadata": {},
   "outputs": [],
   "source": [
    "rs_concat_previo.columns"
   ]
  },
  {
   "cell_type": "code",
   "execution_count": null,
   "metadata": {},
   "outputs": [],
   "source": [
    "duplicates = rs_concat_previo[rs_concat_previo.duplicated(['report_id'] , keep=False)]\n",
    "duplicates.head()"
   ]
  },
  {
   "cell_type": "code",
   "execution_count": null,
   "metadata": {},
   "outputs": [],
   "source": [
    "duplicates.shape"
   ]
  },
  {
   "cell_type": "code",
   "execution_count": null,
   "metadata": {},
   "outputs": [],
   "source": [
    "rs_concat_previo.to_excel(r'C:\\Users\\Cristian.Aparicio\\Documents\\FAST PAYMENTS\\2022\\07. JULIO\\ARCHIVO RESPUESTAS FP SIN CLAVE RASTREO\\Respuesta-FP-previa 2022-07-07.xlsx',index=False)"
   ]
  },
  {
   "cell_type": "markdown",
   "metadata": {},
   "source": [
    "# RESPUESTA FP COMPLETA"
   ]
  },
  {
   "cell_type": "code",
   "execution_count": null,
   "metadata": {},
   "outputs": [],
   "source": [
    "rs = glob.glob(r'C:\\Users\\Cristian.Aparicio\\Documents\\FAST PAYMENTS\\2022\\07. JULIO\\ARCHIVO RESPUESTAS FP SIN CLAVE RASTREO\\Respuesta-FP-previa 2022-07-07*.xlsx', recursive=False)\n",
    "rs"
   ]
  },
  {
   "cell_type": "code",
   "execution_count": null,
   "metadata": {},
   "outputs": [],
   "source": [
    "rs_concat = pd.concat([pd.read_excel(f,sheet_name='Sheet1',\n",
    "                                     converters={'bank_account_number':str,'disbursement_tracking_key':str,'report_id':str})\n",
    "                       .assign(file_name=os.path.basename(f)) for f in rs])\n",
    "rs_concat.head()"
   ]
  },
  {
   "cell_type": "code",
   "execution_count": null,
   "metadata": {},
   "outputs": [],
   "source": [
    "rs_concat.shape"
   ]
  },
  {
   "cell_type": "markdown",
   "metadata": {},
   "source": [
    "## QUERY PAYMENTS"
   ]
  },
  {
   "cell_type": "code",
   "execution_count": null,
   "metadata": {},
   "outputs": [],
   "source": [
    "query = pd.read_csv(r'G:\\My Drive\\3.-Settlement\\5.-HISTORICO FILES PAGOS\\02. FAST PAYMENTS\\2022\\07. JULIO\\FP-ALL 2022-07-07.csv')\n",
    "query['batch_created_date'] = pd.to_datetime(query['batch_created_date'])\n",
    "query.set_index('batch_created_date',inplace=True)\n",
    "query.head()"
   ]
  },
  {
   "cell_type": "code",
   "execution_count": null,
   "metadata": {},
   "outputs": [],
   "source": [
    "query.shape"
   ]
  },
  {
   "cell_type": "code",
   "execution_count": null,
   "metadata": {},
   "outputs": [],
   "source": [
    "hour1 = query.between_time('08:00','10:59')\n",
    "hour1['Time'] = '09:00'\n",
    "hour2 = query.between_time('11:00','13:59')\n",
    "hour2['Time'] = '11:00'\n",
    "hour3 = query.between_time('14:00','15:59')\n",
    "hour3['Time'] = '14:00'\n",
    "hour4 = query.between_time('16:00','17:59')\n",
    "hour4['Time'] = '16:00'\n",
    "hour5 = query.between_time('18:00','19:59')\n",
    "hour5['Time'] = '18:00'\n",
    "hour6 = query.between_time('20:00','23:59')\n",
    "hour6['Time'] = '20:00'"
   ]
  },
  {
   "cell_type": "code",
   "execution_count": null,
   "metadata": {},
   "outputs": [],
   "source": [
    "disp1 = pd.concat([hour1,hour2,hour3,hour4,hour5,hour6])\n",
    "disp1['INDEX'] = (disp1['report_id'].astype(str).replace(' ', '',regex=True)+'_'\n",
    "                       +disp1['Time'].astype(str).replace(' ', '',regex=True))\n",
    "disp1.head()"
   ]
  },
  {
   "cell_type": "code",
   "execution_count": null,
   "metadata": {},
   "outputs": [],
   "source": [
    "disp1.shape"
   ]
  },
  {
   "cell_type": "markdown",
   "metadata": {},
   "source": [
    "## BIN"
   ]
  },
  {
   "cell_type": "code",
   "execution_count": null,
   "metadata": {},
   "outputs": [],
   "source": [
    "bin1 = pd.read_csv(r'C:\\Users\\Cristian.Aparicio\\Documents\\DISPERSIONES\\Catalogo_Bancos.csv'\n",
    "                  ,dtype={'BIN':str,'Clave de la institución':str,'Nombre de la institución':str})\n"
   ]
  },
  {
   "cell_type": "code",
   "execution_count": null,
   "metadata": {},
   "outputs": [],
   "source": [
    "bin1.head()"
   ]
  },
  {
   "cell_type": "code",
   "execution_count": null,
   "metadata": {},
   "outputs": [],
   "source": [
    "bin1.shape"
   ]
  },
  {
   "cell_type": "markdown",
   "metadata": {},
   "source": [
    "# ARCHIVO RESPUESTA"
   ]
  },
  {
   "cell_type": "code",
   "execution_count": null,
   "metadata": {},
   "outputs": [],
   "source": [
    "rs_concat['Date_respuesta'] = date_respuesta\n",
    "rs_concat.rename(columns ={'bank_account_number':'CLABE'}, inplace=True)\n",
    "rs_concat['BIN'] = rs_concat['CLABE'].str[:3].replace(' ', '',regex=True)\n",
    "rs_concat.head()"
   ]
  },
  {
   "cell_type": "code",
   "execution_count": null,
   "metadata": {},
   "outputs": [],
   "source": [
    "rs_concat.shape"
   ]
  },
  {
   "cell_type": "code",
   "execution_count": null,
   "metadata": {},
   "outputs": [],
   "source": [
    "rs_concat_2 = rs_concat.merge(bin1[['BIN','Clave de la institución','Nombre de la institución']] ,on='BIN', how='left')\n",
    "rs_concat_2['LINEA CEP'] = (rs_concat_2['Date_respuesta'].astype(str).replace(' ', '',regex=True)+','\n",
    "                            +rs_concat_2['disbursement_tracking_key'].astype(str).replace(' ', '',regex=True)+','\n",
    "                            +rs_concat_2['Banco emisor'].astype(str).replace(' ', '',regex=True)+','\n",
    "                            +rs_concat_2['Clave de la institución'].astype(str).replace(' ', '',regex=True)+','\n",
    "                            +rs_concat_2['CLABE'].astype(str).replace(' ', '',regex=True)+','\n",
    "                            +rs_concat_2['amount'].astype(str).replace(' ', '',regex=True))\n",
    "rs_concat_2.head()"
   ]
  },
  {
   "cell_type": "code",
   "execution_count": null,
   "metadata": {},
   "outputs": [],
   "source": [
    "rs_concat_2.shape"
   ]
  },
  {
   "cell_type": "markdown",
   "metadata": {},
   "source": [
    "# ARCHIVO DISPERSION"
   ]
  },
  {
   "cell_type": "code",
   "execution_count": null,
   "metadata": {},
   "outputs": [],
   "source": [
    "disp1.head()"
   ]
  },
  {
   "cell_type": "code",
   "execution_count": null,
   "metadata": {},
   "outputs": [],
   "source": [
    "disp1['report_date_local'] = pd.to_datetime(disp1['report_date_local'])"
   ]
  },
  {
   "cell_type": "code",
   "execution_count": null,
   "metadata": {},
   "outputs": [],
   "source": [
    "split = disp1[\"swap\"].str.split(\",\",n=7,expand=True)\n",
    "split.head()"
   ]
  },
  {
   "cell_type": "code",
   "execution_count": null,
   "metadata": {},
   "outputs": [],
   "source": [
    "disp1[\"swap\"] = split[0] \n",
    "disp1[\"CLABE\"] = split[3]"
   ]
  },
  {
   "cell_type": "code",
   "execution_count": null,
   "metadata": {},
   "outputs": [],
   "source": [
    "disp1.head()"
   ]
  },
  {
   "cell_type": "code",
   "execution_count": null,
   "metadata": {},
   "outputs": [],
   "source": [
    "disp1.loc[disp1['report_date_local'] == date_respuesta, 'tipo'] = 'Pago del día'\n",
    "disp1.loc[disp1['report_date_local'] != date_respuesta, 'tipo'] = 'Reprogramación'\n",
    "disp1.drop(['bank_name','CLABE','status'],axis=1,inplace=True)\n",
    "disp1.head()"
   ]
  },
  {
   "cell_type": "code",
   "execution_count": null,
   "metadata": {},
   "outputs": [],
   "source": [
    "disp_2 = disp1.merge(rs_concat_2[['report_id','status','Nombre de la institución','CLABE','LINEA CEP','Time_rs','Banco_emisor']]\n",
    "                     ,on='report_id', how='left')\n",
    "disp_2.sort_values(by=['status'])\n",
    "disp_2[\"Time\"].fillna('NO TIME',inplace=True)\n",
    "disp_2.loc[disp_2['Time'] == 'NO TIME', 'status'] = 'ERROR'\n",
    "disp_2.loc[(disp_2['LINEA CEP'].str.contains('nan')) & (['Nombre de la institución'] == 'BANAMEX'), 'status'] = 'ERROR'\n",
    "# disp_2.loc[pd.notnull(disp_2['error_description']), 'status'] = 'ERROR'\n",
    "disp_2.head()"
   ]
  },
  {
   "cell_type": "code",
   "execution_count": null,
   "metadata": {},
   "outputs": [],
   "source": [
    "disp_2.loc[((disp_2['Banco_emisor'] == 'BANAMEX') &\n",
    "            (disp_2['Nombre de la institución'] == 'BANAMEX')), 'LINEA CEP'] = 'COMPROBANTE MISMO BANCO BANAMEX'\n",
    "disp_2.loc[((disp_2['Banco_emisor'] == 'SANTANDER') &\n",
    "            (disp_2['Nombre de la institución'] == 'SANTANDER')), 'LINEA CEP'] = 'COMPROBANTE MISMO BANCO SANTANDER'\n",
    "disp_2.loc[((disp_2['Banco_emisor'] == 'BANORTE') &\n",
    "            (disp_2['Nombre de la institución'] == 'BANORTE')), 'LINEA CEP'] = 'COMPROBANTE MISMO BANCO BANORTE'\n",
    "disp_2.loc[disp_2['status'] == 'ERROR', 'LINEA CEP'] = ''"
   ]
  },
  {
   "cell_type": "code",
   "execution_count": null,
   "metadata": {},
   "outputs": [],
   "source": [
    "for col in disp_2.columns: \n",
    "    print(col) "
   ]
  },
  {
   "cell_type": "code",
   "execution_count": null,
   "metadata": {},
   "outputs": [],
   "source": [
    "disp_final = disp_2[['merchant_id','merchant_name','user_email','report_id','report_date_local','amount','tipo'\n",
    "                    ,'Nombre de la institución','swap','CLABE','status','LINEA CEP','Time','Banco_emisor']]\n",
    "disp_final.rename(columns ={'Nombre de la institución':'bank','amount':'total_due','LINEA CEP':'CEP'}, inplace=True)\n",
    "disp_final.sort_values(by=['status','Time'], ascending=True, inplace=True)\n",
    "disp_final.drop_duplicates(subset =['report_id','Time'], keep ='first', inplace=True)\n",
    "disp_final.head()"
   ]
  },
  {
   "cell_type": "code",
   "execution_count": null,
   "metadata": {},
   "outputs": [],
   "source": [
    "disp_final.shape"
   ]
  },
  {
   "cell_type": "markdown",
   "metadata": {},
   "source": [
    "# ERROR"
   ]
  },
  {
   "cell_type": "code",
   "execution_count": null,
   "metadata": {},
   "outputs": [],
   "source": [
    "error = disp_final[(disp_final['status'] != 'PAID')]\n",
    "error.head()"
   ]
  },
  {
   "cell_type": "code",
   "execution_count": null,
   "metadata": {},
   "outputs": [],
   "source": [
    "error.shape"
   ]
  },
  {
   "cell_type": "code",
   "execution_count": null,
   "metadata": {},
   "outputs": [],
   "source": [
    "error.drop(['swap','CLABE','status','CEP','Banco_emisor'],axis=1,inplace=True)"
   ]
  },
  {
   "cell_type": "code",
   "execution_count": null,
   "metadata": {},
   "outputs": [],
   "source": [
    "error_final = error\n",
    "error_final.head()"
   ]
  },
  {
   "cell_type": "code",
   "execution_count": null,
   "metadata": {},
   "outputs": [],
   "source": [
    "error.loc[error['bank'] == 'BANAMEX', 'Check'] = 'SPEI DEVUELTO MISMO BANCO'\n",
    "error.loc[error['bank'] != 'BANAMEX', 'Check'] = 'SPEI DEVUELTO'"
   ]
  },
  {
   "cell_type": "code",
   "execution_count": null,
   "metadata": {},
   "outputs": [],
   "source": [
    "error.shape"
   ]
  },
  {
   "cell_type": "code",
   "execution_count": null,
   "metadata": {},
   "outputs": [],
   "source": [
    "error_final = error.merge(rs_concat_2[['report_id','error_description']],on='report_id',how='left')\n",
    "error_final.head()"
   ]
  },
  {
   "cell_type": "code",
   "execution_count": null,
   "metadata": {},
   "outputs": [],
   "source": [
    "error_final.shape"
   ]
  },
  {
   "cell_type": "markdown",
   "metadata": {},
   "source": [
    "# ARCHIVOS FINALES"
   ]
  },
  {
   "cell_type": "markdown",
   "metadata": {},
   "source": [
    "### ARCHIVO DISPERSION"
   ]
  },
  {
   "cell_type": "code",
   "execution_count": null,
   "metadata": {},
   "outputs": [],
   "source": [
    "writer = pd.ExcelWriter(r'C:\\Users\\Cristian.Aparicio\\Documents\\FAST PAYMENTS\\2022\\07. JULIO\\ARCHIVO DISPERSIONES FP\\Dispersión-FP 2022-07-07.xlsx',\n",
    "                        engine='xlsxwriter', engine_kwargs={'options': {'encoding':'utf-8'}})\n",
    "disp_final.to_excel(writer, sheet_name='FAST PAYMENTS',index=False)\n",
    "error_final.to_excel(writer, sheet_name='ERROR',index=False)\n",
    "writer.close()"
   ]
  },
  {
   "cell_type": "markdown",
   "metadata": {},
   "source": [
    "### ARCHIVO RESPUESTA  "
   ]
  },
  {
   "cell_type": "code",
   "execution_count": null,
   "metadata": {},
   "outputs": [],
   "source": [
    "rs_concat.to_csv(r'C:\\Users\\Cristian.Aparicio\\Documents\\FAST PAYMENTS\\2022\\07. JULIO\\ARCHIVO RESPUESTAS FINALES\\Respuesta-FP-ALL 2022-07-07.csv',index=False)"
   ]
  },
  {
   "cell_type": "code",
   "execution_count": null,
   "metadata": {},
   "outputs": [],
   "source": [
    "# book = load_workbook('Dispersión-FP 2020-07-20.xlsx')\n",
    "# writer = pd.ExcelWriter('Dispersión-FP 2020-07-20.xlsx', engine='openpyxl', options={'encoding':'utf-8'})\n",
    "# writer.book = book\n",
    "# match_final.to_excel(writer, sheet_name='FP-2 2020-07-20', index=False)\n",
    "# writer.save()\n",
    "# writer.close()"
   ]
  },
  {
   "cell_type": "code",
   "execution_count": null,
   "metadata": {},
   "outputs": [],
   "source": []
  }
 ],
 "metadata": {
  "kernelspec": {
   "display_name": "Python 3 (ipykernel)",
   "language": "python",
   "name": "python3"
  },
  "language_info": {
   "codemirror_mode": {
    "name": "ipython",
    "version": 3
   },
   "file_extension": ".py",
   "mimetype": "text/x-python",
   "name": "python",
   "nbconvert_exporter": "python",
   "pygments_lexer": "ipython3",
   "version": "3.9.12"
  }
 },
 "nbformat": 4,
 "nbformat_minor": 4
}
