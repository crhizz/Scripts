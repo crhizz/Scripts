{
 "cells": [
  {
   "cell_type": "code",
   "execution_count": 1,
   "metadata": {},
   "outputs": [],
   "source": [
    "import pandas as pd\n",
    "import numpy as np\n",
    "from openpyxl import load_workbook\n",
    "import glob\n",
    "import os\n",
    "pd.options.display.float_format = '{:,.2f}'.format"
   ]
  },
  {
   "cell_type": "code",
   "execution_count": 2,
   "metadata": {},
   "outputs": [],
   "source": [
    "date_envio = '2022-04-20'\n",
    "monto_me_mail = 148638292.13\n",
    "comision_swap_mail = 146525.55\n",
    "iva_swap_mail = 23444.09\n",
    "monto_fondear_mail = 148808261.77\n",
    "date_envio = pd.to_datetime(date_envio)"
   ]
  },
  {
   "cell_type": "markdown",
   "metadata": {},
   "source": [
    "# READING FILES"
   ]
  },
  {
   "cell_type": "markdown",
   "metadata": {},
   "source": [
    "## SWAP"
   ]
  },
  {
   "cell_type": "code",
   "execution_count": 3,
   "metadata": {},
   "outputs": [],
   "source": [
    "bin1 = pd.read_csv(r'C:\\Users\\Cristian.Aparicio\\Documents\\DISPERSIONES\\Catalogo_Bancos.csv'\n",
    "                  ,dtype={'BIN':object,'Clave de la institución':object,'Nombre de la institución':object})"
   ]
  },
  {
   "cell_type": "code",
   "execution_count": 4,
   "metadata": {},
   "outputs": [
    {
     "data": {
      "text/plain": [
       "['G:\\\\My Drive\\\\3.-Settlement\\\\5.-HISTORICO FILES PAGOS\\\\01. TRADICIONAL\\\\2022\\\\04. APRIL\\\\SWAP 2022-04-20.csv']"
      ]
     },
     "execution_count": 4,
     "metadata": {},
     "output_type": "execute_result"
    }
   ],
   "source": [
    "query_1 = glob.glob(r'G:\\My Drive\\3.-Settlement\\5.-HISTORICO FILES PAGOS\\01. TRADICIONAL\\2022\\04. APRIL\\SWAP 20*.csv', recursive=False)\n",
    "query_1"
   ]
  },
  {
   "cell_type": "code",
   "execution_count": 5,
   "metadata": {},
   "outputs": [],
   "source": [
    "query = pd.concat([pd.read_csv(f,dtype={'bank_account_number':object,'report_id':object})\n",
    "                   .assign(file_name=os.path.basename(f)) for f in query_1])                     \n",
    "query['CLABE'] = query['bank_account_number'].str[1:]\n",
    "query['BIN'] = query['bank_account_number'].str[1:4].replace(' ', '',regex=True)\n",
    "query['date_disbursement'] = date_envio"
   ]
  },
  {
   "cell_type": "code",
   "execution_count": 6,
   "metadata": {},
   "outputs": [],
   "source": [
    "query['CLABE'] = query['bank_account_number'].str[1:]\n",
    "query['BIN'] = query['bank_account_number'].str[1:4].replace(' ', '',regex=True)\n",
    "query['date_disbursement'] = date_envio"
   ]
  },
  {
   "cell_type": "code",
   "execution_count": 7,
   "metadata": {},
   "outputs": [
    {
     "data": {
      "text/html": [
       "<div>\n",
       "<style scoped>\n",
       "    .dataframe tbody tr th:only-of-type {\n",
       "        vertical-align: middle;\n",
       "    }\n",
       "\n",
       "    .dataframe tbody tr th {\n",
       "        vertical-align: top;\n",
       "    }\n",
       "\n",
       "    .dataframe thead th {\n",
       "        text-align: right;\n",
       "    }\n",
       "</style>\n",
       "<table border=\"1\" class=\"dataframe\">\n",
       "  <thead>\n",
       "    <tr style=\"text-align: right;\">\n",
       "      <th></th>\n",
       "      <th>merchant_id</th>\n",
       "      <th>merchant_name</th>\n",
       "      <th>user_email</th>\n",
       "      <th>report_id</th>\n",
       "      <th>report_date_local</th>\n",
       "      <th>amount</th>\n",
       "      <th>status</th>\n",
       "      <th>bank_name</th>\n",
       "      <th>payment_date_local</th>\n",
       "      <th>bank_account_owner_name</th>\n",
       "      <th>bank_account_number</th>\n",
       "      <th>batch_created_date</th>\n",
       "      <th>disbursement_method</th>\n",
       "      <th>swap</th>\n",
       "      <th>file_name</th>\n",
       "      <th>CLABE</th>\n",
       "      <th>BIN</th>\n",
       "      <th>date_disbursement</th>\n",
       "      <th>Clave de la institución</th>\n",
       "      <th>Nombre de la institución</th>\n",
       "    </tr>\n",
       "  </thead>\n",
       "  <tbody>\n",
       "    <tr>\n",
       "      <th>0</th>\n",
       "      <td>00008884-ca93-4758-8aa7-b10f57145850</td>\n",
       "      <td>Dra Abryl</td>\n",
       "      <td>maah25@hotmail.com</td>\n",
       "      <td>VN76SZYZ3</td>\n",
       "      <td>2022-04-20 00:00:00</td>\n",
       "      <td>1,149.89</td>\n",
       "      <td>PENDING</td>\n",
       "      <td>SANTANDER</td>\n",
       "      <td>2022-04-20 08:15:57</td>\n",
       "      <td>Abryl Mariana Avitia Herrera</td>\n",
       "      <td>'014078567364065679</td>\n",
       "      <td>2022-04-20 08:03:18</td>\n",
       "      <td>SWAP</td>\n",
       "      <td>Abryl Mariana Avitia Herrera,,1149.89,01407856...</td>\n",
       "      <td>SWAP 2022-04-20.csv</td>\n",
       "      <td>014078567364065679</td>\n",
       "      <td>014</td>\n",
       "      <td>2022-04-20</td>\n",
       "      <td>40014</td>\n",
       "      <td>SANTANDER</td>\n",
       "    </tr>\n",
       "    <tr>\n",
       "      <th>1</th>\n",
       "      <td>0000b65a-c2a2-4993-8f4c-05e5b7cbd7c0</td>\n",
       "      <td>Ruvalcaba Peleteros S.A. de C.V.</td>\n",
       "      <td>ruvalcabapeleteros@hotmail.com</td>\n",
       "      <td>VJDSB5MVH</td>\n",
       "      <td>2022-04-20 00:00:00</td>\n",
       "      <td>1,041.41</td>\n",
       "      <td>PENDING</td>\n",
       "      <td>Banco Mercantil del Norte, S.A.</td>\n",
       "      <td>2022-04-20 08:16:28</td>\n",
       "      <td>Ruvalcaba Peleteros SA de CV</td>\n",
       "      <td>'072225010863381552</td>\n",
       "      <td>2022-04-20 08:03:18</td>\n",
       "      <td>SWAP</td>\n",
       "      <td>Ruvalcaba Peleteros SA de CV,,1041.41,07222501...</td>\n",
       "      <td>SWAP 2022-04-20.csv</td>\n",
       "      <td>072225010863381552</td>\n",
       "      <td>072</td>\n",
       "      <td>2022-04-20</td>\n",
       "      <td>40072</td>\n",
       "      <td>BANORTE/IXE</td>\n",
       "    </tr>\n",
       "    <tr>\n",
       "      <th>2</th>\n",
       "      <td>0000d758-84b4-4cb0-a165-4f0d3c44864d</td>\n",
       "      <td>MAHARISHI PANTJALI SA DE CV</td>\n",
       "      <td>maharishiclip@gmail.com</td>\n",
       "      <td>78KN95CWP</td>\n",
       "      <td>2022-04-20 00:00:00</td>\n",
       "      <td>26,631.71</td>\n",
       "      <td>PENDING</td>\n",
       "      <td>Banco Regional de Monterrey, S.A.</td>\n",
       "      <td>2022-04-20 08:16:28</td>\n",
       "      <td>MAHARISHI PANTJALI S.A. DE C.V.</td>\n",
       "      <td>'058375000003160831</td>\n",
       "      <td>2022-04-20 08:03:18</td>\n",
       "      <td>SWAP</td>\n",
       "      <td>MAHARISHI PANTJALI S.A. DE C.V.,,26631.71,0583...</td>\n",
       "      <td>SWAP 2022-04-20.csv</td>\n",
       "      <td>058375000003160831</td>\n",
       "      <td>058</td>\n",
       "      <td>2022-04-20</td>\n",
       "      <td>40058</td>\n",
       "      <td>BANREGIO</td>\n",
       "    </tr>\n",
       "    <tr>\n",
       "      <th>3</th>\n",
       "      <td>0000e953-6b2c-44d0-a798-9dac1abf24ea</td>\n",
       "      <td>Super Kandy</td>\n",
       "      <td>yanellysegovia18@gmail.com</td>\n",
       "      <td>JZM3R2ZN5</td>\n",
       "      <td>2022-04-20 00:00:00</td>\n",
       "      <td>755.76</td>\n",
       "      <td>PENDING</td>\n",
       "      <td>Banco Nacional de México, S.A.</td>\n",
       "      <td>2022-04-20 08:15:57</td>\n",
       "      <td>Ana Yanelly Puente Gutierrez</td>\n",
       "      <td>'002580701334955664</td>\n",
       "      <td>2022-04-20 08:03:18</td>\n",
       "      <td>SWAP</td>\n",
       "      <td>Ana Yanelly Puente Gutierrez,,755.76,002580701...</td>\n",
       "      <td>SWAP 2022-04-20.csv</td>\n",
       "      <td>002580701334955664</td>\n",
       "      <td>002</td>\n",
       "      <td>2022-04-20</td>\n",
       "      <td>40002</td>\n",
       "      <td>BANAMEX</td>\n",
       "    </tr>\n",
       "    <tr>\n",
       "      <th>4</th>\n",
       "      <td>00016126-0052-402d-ba8a-95e5e1a1c673</td>\n",
       "      <td>Seguridad Industrial OM</td>\n",
       "      <td>jocabetolan@gmail.com</td>\n",
       "      <td>ZTJJXKZRG</td>\n",
       "      <td>2022-04-20 00:00:00</td>\n",
       "      <td>861.46</td>\n",
       "      <td>PENDING</td>\n",
       "      <td>Banco Nacional de México, S.A.</td>\n",
       "      <td>2022-04-20 08:15:25</td>\n",
       "      <td>CYNTHIA JOCABET OLAN RODRIGUEZ</td>\n",
       "      <td>'002045701331339825</td>\n",
       "      <td>2022-04-20 08:03:18</td>\n",
       "      <td>SWAP</td>\n",
       "      <td>CYNTHIA JOCABET OLAN RODRIGUEZ,,861.46,0020457...</td>\n",
       "      <td>SWAP 2022-04-20.csv</td>\n",
       "      <td>002045701331339825</td>\n",
       "      <td>002</td>\n",
       "      <td>2022-04-20</td>\n",
       "      <td>40002</td>\n",
       "      <td>BANAMEX</td>\n",
       "    </tr>\n",
       "  </tbody>\n",
       "</table>\n",
       "</div>"
      ],
      "text/plain": [
       "                            merchant_id                     merchant_name  \\\n",
       "0  00008884-ca93-4758-8aa7-b10f57145850                         Dra Abryl   \n",
       "1  0000b65a-c2a2-4993-8f4c-05e5b7cbd7c0  Ruvalcaba Peleteros S.A. de C.V.   \n",
       "2  0000d758-84b4-4cb0-a165-4f0d3c44864d       MAHARISHI PANTJALI SA DE CV   \n",
       "3  0000e953-6b2c-44d0-a798-9dac1abf24ea                       Super Kandy   \n",
       "4  00016126-0052-402d-ba8a-95e5e1a1c673           Seguridad Industrial OM   \n",
       "\n",
       "                       user_email  report_id    report_date_local    amount  \\\n",
       "0              maah25@hotmail.com  VN76SZYZ3  2022-04-20 00:00:00  1,149.89   \n",
       "1  ruvalcabapeleteros@hotmail.com  VJDSB5MVH  2022-04-20 00:00:00  1,041.41   \n",
       "2         maharishiclip@gmail.com  78KN95CWP  2022-04-20 00:00:00 26,631.71   \n",
       "3      yanellysegovia18@gmail.com  JZM3R2ZN5  2022-04-20 00:00:00    755.76   \n",
       "4           jocabetolan@gmail.com  ZTJJXKZRG  2022-04-20 00:00:00    861.46   \n",
       "\n",
       "    status                          bank_name   payment_date_local  \\\n",
       "0  PENDING                          SANTANDER  2022-04-20 08:15:57   \n",
       "1  PENDING    Banco Mercantil del Norte, S.A.  2022-04-20 08:16:28   \n",
       "2  PENDING  Banco Regional de Monterrey, S.A.  2022-04-20 08:16:28   \n",
       "3  PENDING     Banco Nacional de México, S.A.  2022-04-20 08:15:57   \n",
       "4  PENDING     Banco Nacional de México, S.A.  2022-04-20 08:15:25   \n",
       "\n",
       "           bank_account_owner_name  bank_account_number   batch_created_date  \\\n",
       "0     Abryl Mariana Avitia Herrera  '014078567364065679  2022-04-20 08:03:18   \n",
       "1     Ruvalcaba Peleteros SA de CV  '072225010863381552  2022-04-20 08:03:18   \n",
       "2  MAHARISHI PANTJALI S.A. DE C.V.  '058375000003160831  2022-04-20 08:03:18   \n",
       "3     Ana Yanelly Puente Gutierrez  '002580701334955664  2022-04-20 08:03:18   \n",
       "4   CYNTHIA JOCABET OLAN RODRIGUEZ  '002045701331339825  2022-04-20 08:03:18   \n",
       "\n",
       "  disbursement_method                                               swap  \\\n",
       "0                SWAP  Abryl Mariana Avitia Herrera,,1149.89,01407856...   \n",
       "1                SWAP  Ruvalcaba Peleteros SA de CV,,1041.41,07222501...   \n",
       "2                SWAP  MAHARISHI PANTJALI S.A. DE C.V.,,26631.71,0583...   \n",
       "3                SWAP  Ana Yanelly Puente Gutierrez,,755.76,002580701...   \n",
       "4                SWAP  CYNTHIA JOCABET OLAN RODRIGUEZ,,861.46,0020457...   \n",
       "\n",
       "             file_name               CLABE  BIN date_disbursement  \\\n",
       "0  SWAP 2022-04-20.csv  014078567364065679  014        2022-04-20   \n",
       "1  SWAP 2022-04-20.csv  072225010863381552  072        2022-04-20   \n",
       "2  SWAP 2022-04-20.csv  058375000003160831  058        2022-04-20   \n",
       "3  SWAP 2022-04-20.csv  002580701334955664  002        2022-04-20   \n",
       "4  SWAP 2022-04-20.csv  002045701331339825  002        2022-04-20   \n",
       "\n",
       "  Clave de la institución Nombre de la institución  \n",
       "0                   40014                SANTANDER  \n",
       "1                   40072              BANORTE/IXE  \n",
       "2                   40058                 BANREGIO  \n",
       "3                   40002                  BANAMEX  \n",
       "4                   40002                  BANAMEX  "
      ]
     },
     "execution_count": 7,
     "metadata": {},
     "output_type": "execute_result"
    }
   ],
   "source": [
    "query_final = query.merge(bin1[['BIN','Clave de la institución','Nombre de la institución']] ,on='BIN', how='left')\n",
    "query_final.head()"
   ]
  },
  {
   "cell_type": "code",
   "execution_count": 8,
   "metadata": {},
   "outputs": [
    {
     "data": {
      "text/plain": [
       "(79203, 20)"
      ]
     },
     "execution_count": 8,
     "metadata": {},
     "output_type": "execute_result"
    }
   ],
   "source": [
    "query_final.shape"
   ]
  },
  {
   "cell_type": "markdown",
   "metadata": {},
   "source": [
    "# PAGOS DUPLICADOS"
   ]
  },
  {
   "cell_type": "code",
   "execution_count": 9,
   "metadata": {},
   "outputs": [
    {
     "data": {
      "text/html": [
       "<div>\n",
       "<style scoped>\n",
       "    .dataframe tbody tr th:only-of-type {\n",
       "        vertical-align: middle;\n",
       "    }\n",
       "\n",
       "    .dataframe tbody tr th {\n",
       "        vertical-align: top;\n",
       "    }\n",
       "\n",
       "    .dataframe thead th {\n",
       "        text-align: right;\n",
       "    }\n",
       "</style>\n",
       "<table border=\"1\" class=\"dataframe\">\n",
       "  <thead>\n",
       "    <tr style=\"text-align: right;\">\n",
       "      <th></th>\n",
       "      <th>merchant_id</th>\n",
       "      <th>merchant_name</th>\n",
       "      <th>user_email</th>\n",
       "      <th>report_id</th>\n",
       "      <th>report_date_local</th>\n",
       "      <th>amount</th>\n",
       "      <th>status</th>\n",
       "      <th>bank_name</th>\n",
       "      <th>payment_date_local</th>\n",
       "      <th>bank_account_owner_name</th>\n",
       "      <th>bank_account_number</th>\n",
       "      <th>batch_created_date</th>\n",
       "      <th>disbursement_method</th>\n",
       "      <th>swap</th>\n",
       "      <th>file_name</th>\n",
       "      <th>CLABE</th>\n",
       "      <th>BIN</th>\n",
       "      <th>date_disbursement</th>\n",
       "      <th>Clave de la institución</th>\n",
       "      <th>Nombre de la institución</th>\n",
       "    </tr>\n",
       "  </thead>\n",
       "  <tbody>\n",
       "  </tbody>\n",
       "</table>\n",
       "</div>"
      ],
      "text/plain": [
       "Empty DataFrame\n",
       "Columns: [merchant_id, merchant_name, user_email, report_id, report_date_local, amount, status, bank_name, payment_date_local, bank_account_owner_name, bank_account_number, batch_created_date, disbursement_method, swap, file_name, CLABE, BIN, date_disbursement, Clave de la institución, Nombre de la institución]\n",
       "Index: []"
      ]
     },
     "execution_count": 9,
     "metadata": {},
     "output_type": "execute_result"
    }
   ],
   "source": [
    "duplicates_query = query_final[query_final.duplicated(['report_id'],keep=False)]\n",
    "duplicates_query.head()"
   ]
  },
  {
   "cell_type": "code",
   "execution_count": 10,
   "metadata": {},
   "outputs": [
    {
     "data": {
      "text/plain": [
       "(0, 20)"
      ]
     },
     "execution_count": 10,
     "metadata": {},
     "output_type": "execute_result"
    }
   ],
   "source": [
    "duplicates_query.shape"
   ]
  },
  {
   "cell_type": "markdown",
   "metadata": {},
   "source": [
    "# VALIDACION MONTO A DISPERSAR"
   ]
  },
  {
   "cell_type": "code",
   "execution_count": 11,
   "metadata": {},
   "outputs": [
    {
     "data": {
      "text/html": [
       "<div>\n",
       "<style scoped>\n",
       "    .dataframe tbody tr th:only-of-type {\n",
       "        vertical-align: middle;\n",
       "    }\n",
       "\n",
       "    .dataframe tbody tr th {\n",
       "        vertical-align: top;\n",
       "    }\n",
       "\n",
       "    .dataframe thead th {\n",
       "        text-align: right;\n",
       "    }\n",
       "</style>\n",
       "<table border=\"1\" class=\"dataframe\">\n",
       "  <thead>\n",
       "    <tr style=\"text-align: right;\">\n",
       "      <th></th>\n",
       "      <th>date_disbursement</th>\n",
       "      <th>amount</th>\n",
       "      <th>payments_number</th>\n",
       "      <th>valor_comision</th>\n",
       "      <th>valor_iva</th>\n",
       "      <th>comision_dsp</th>\n",
       "      <th>iva_dsp</th>\n",
       "      <th>comision + iva</th>\n",
       "      <th>total_fondeo</th>\n",
       "      <th>monto_mail</th>\n",
       "      <th>comision_mail</th>\n",
       "      <th>iva_mail</th>\n",
       "      <th>monto_fondeo_mail</th>\n",
       "      <th>check_monto</th>\n",
       "      <th>check_comision</th>\n",
       "      <th>check_iva</th>\n",
       "      <th>check_fondeo</th>\n",
       "      <th>dsp</th>\n",
       "    </tr>\n",
       "  </thead>\n",
       "  <tbody>\n",
       "    <tr>\n",
       "      <th>0</th>\n",
       "      <td>2022-04-20</td>\n",
       "      <td>148,638,292.13</td>\n",
       "      <td>79203</td>\n",
       "      <td>1.85</td>\n",
       "      <td>0.30</td>\n",
       "      <td>146,525.55</td>\n",
       "      <td>23,444.09</td>\n",
       "      <td>169,969.64</td>\n",
       "      <td>148,808,261.77</td>\n",
       "      <td>148,638,292.13</td>\n",
       "      <td>146,525.55</td>\n",
       "      <td>23,444.09</td>\n",
       "      <td>148,808,261.77</td>\n",
       "      <td>0.00</td>\n",
       "      <td>0.00</td>\n",
       "      <td>-0.00</td>\n",
       "      <td>-0.00</td>\n",
       "      <td>SWAP</td>\n",
       "    </tr>\n",
       "  </tbody>\n",
       "</table>\n",
       "</div>"
      ],
      "text/plain": [
       "  date_disbursement         amount  payments_number  valor_comision  \\\n",
       "0        2022-04-20 148,638,292.13            79203            1.85   \n",
       "\n",
       "   valor_iva  comision_dsp   iva_dsp  comision + iva   total_fondeo  \\\n",
       "0       0.30    146,525.55 23,444.09      169,969.64 148,808,261.77   \n",
       "\n",
       "      monto_mail  comision_mail  iva_mail  monto_fondeo_mail  check_monto  \\\n",
       "0 148,638,292.13     146,525.55 23,444.09     148,808,261.77         0.00   \n",
       "\n",
       "   check_comision  check_iva  check_fondeo   dsp  \n",
       "0            0.00      -0.00         -0.00  SWAP  "
      ]
     },
     "execution_count": 11,
     "metadata": {},
     "output_type": "execute_result"
    }
   ],
   "source": [
    "valid_1 = query.groupby(['date_disbursement']).agg({'amount':sum,'report_id':'count'}).reset_index()\n",
    "valid_1.rename(columns={'report_id':'payments_number'},inplace=True)\n",
    "valid_1['valor_comision'] = 1.85\n",
    "valid_1['valor_iva'] = valid_1['valor_comision']*0.1600\n",
    "valid_1['comision_dsp'] = valid_1['payments_number'] * valid_1['valor_comision']\n",
    "valid_1['iva_dsp'] = valid_1['comision_dsp'] * 0.1600\n",
    "valid_1['comision + iva'] = valid_1['comision_dsp'] + valid_1['iva_dsp']\n",
    "valid_1['total_fondeo'] = valid_1['amount'] + valid_1['comision + iva']\n",
    "valid_1['monto_mail'] = monto_me_mail\n",
    "valid_1['comision_mail'] = comision_swap_mail\n",
    "valid_1['iva_mail'] = iva_swap_mail\n",
    "valid_1['monto_fondeo_mail'] = monto_fondear_mail\n",
    "valid_1['check_monto'] = valid_1['amount'] - valid_1['monto_mail']\n",
    "valid_1['check_comision'] = valid_1['comision_dsp'] - valid_1['comision_mail']\n",
    "valid_1['check_iva'] = valid_1['iva_dsp'] - valid_1['iva_mail']\n",
    "valid_1['check_fondeo'] = valid_1['total_fondeo'] - valid_1['monto_fondeo_mail']\n",
    "valid_1['dsp'] = 'SWAP'\n",
    "valid_1.head()"
   ]
  },
  {
   "cell_type": "code",
   "execution_count": 12,
   "metadata": {},
   "outputs": [
    {
     "data": {
      "text/html": [
       "<div>\n",
       "<style scoped>\n",
       "    .dataframe tbody tr th:only-of-type {\n",
       "        vertical-align: middle;\n",
       "    }\n",
       "\n",
       "    .dataframe tbody tr th {\n",
       "        vertical-align: top;\n",
       "    }\n",
       "\n",
       "    .dataframe thead th {\n",
       "        text-align: right;\n",
       "    }\n",
       "</style>\n",
       "<table border=\"1\" class=\"dataframe\">\n",
       "  <thead>\n",
       "    <tr style=\"text-align: right;\">\n",
       "      <th></th>\n",
       "      <th>date_disbursement</th>\n",
       "      <th>dsp</th>\n",
       "      <th>payments_number</th>\n",
       "      <th>amount</th>\n",
       "      <th>comision_dsp</th>\n",
       "      <th>iva_dsp</th>\n",
       "      <th>comision + iva</th>\n",
       "      <th>total_fondeo</th>\n",
       "    </tr>\n",
       "  </thead>\n",
       "  <tbody>\n",
       "    <tr>\n",
       "      <th>0</th>\n",
       "      <td>2022-04-20</td>\n",
       "      <td>SWAP</td>\n",
       "      <td>79203</td>\n",
       "      <td>148,638,292.13</td>\n",
       "      <td>146,525.55</td>\n",
       "      <td>23,444.09</td>\n",
       "      <td>169,969.64</td>\n",
       "      <td>148,808,261.77</td>\n",
       "    </tr>\n",
       "  </tbody>\n",
       "</table>\n",
       "</div>"
      ],
      "text/plain": [
       "  date_disbursement   dsp  payments_number         amount  comision_dsp  \\\n",
       "0        2022-04-20  SWAP            79203 148,638,292.13    146,525.55   \n",
       "\n",
       "    iva_dsp  comision + iva   total_fondeo  \n",
       "0 23,444.09      169,969.64 148,808,261.77  "
      ]
     },
     "execution_count": 12,
     "metadata": {},
     "output_type": "execute_result"
    }
   ],
   "source": [
    "valid_2 = valid_1[['date_disbursement','dsp','payments_number','amount','comision_dsp','iva_dsp','comision + iva','total_fondeo']]\n",
    "valid_2.head()"
   ]
  },
  {
   "cell_type": "code",
   "execution_count": 13,
   "metadata": {},
   "outputs": [
    {
     "data": {
      "text/html": [
       "<div>\n",
       "<style scoped>\n",
       "    .dataframe tbody tr th:only-of-type {\n",
       "        vertical-align: middle;\n",
       "    }\n",
       "\n",
       "    .dataframe tbody tr th {\n",
       "        vertical-align: top;\n",
       "    }\n",
       "\n",
       "    .dataframe thead th {\n",
       "        text-align: right;\n",
       "    }\n",
       "</style>\n",
       "<table border=\"1\" class=\"dataframe\">\n",
       "  <thead>\n",
       "    <tr style=\"text-align: right;\">\n",
       "      <th></th>\n",
       "      <th>concept</th>\n",
       "      <th>data</th>\n",
       "    </tr>\n",
       "  </thead>\n",
       "  <tbody>\n",
       "    <tr>\n",
       "      <th>0</th>\n",
       "      <td>date_disbursement</td>\n",
       "      <td>2022-04-20 00:00:00</td>\n",
       "    </tr>\n",
       "    <tr>\n",
       "      <th>0</th>\n",
       "      <td>dsp</td>\n",
       "      <td>SWAP</td>\n",
       "    </tr>\n",
       "    <tr>\n",
       "      <th>0</th>\n",
       "      <td>payments_number</td>\n",
       "      <td>79203</td>\n",
       "    </tr>\n",
       "    <tr>\n",
       "      <th>0</th>\n",
       "      <td>amount</td>\n",
       "      <td>148,638,292.13</td>\n",
       "    </tr>\n",
       "    <tr>\n",
       "      <th>0</th>\n",
       "      <td>comision_dsp</td>\n",
       "      <td>146,525.55</td>\n",
       "    </tr>\n",
       "    <tr>\n",
       "      <th>0</th>\n",
       "      <td>iva_dsp</td>\n",
       "      <td>23,444.09</td>\n",
       "    </tr>\n",
       "    <tr>\n",
       "      <th>0</th>\n",
       "      <td>comision + iva</td>\n",
       "      <td>169,969.64</td>\n",
       "    </tr>\n",
       "    <tr>\n",
       "      <th>0</th>\n",
       "      <td>total_fondeo</td>\n",
       "      <td>148,808,261.77</td>\n",
       "    </tr>\n",
       "  </tbody>\n",
       "</table>\n",
       "</div>"
      ],
      "text/plain": [
       "             concept                 data\n",
       "0  date_disbursement  2022-04-20 00:00:00\n",
       "0                dsp                 SWAP\n",
       "0    payments_number                79203\n",
       "0             amount       148,638,292.13\n",
       "0       comision_dsp           146,525.55\n",
       "0            iva_dsp            23,444.09\n",
       "0     comision + iva           169,969.64\n",
       "0       total_fondeo       148,808,261.77"
      ]
     },
     "execution_count": 13,
     "metadata": {},
     "output_type": "execute_result"
    }
   ],
   "source": [
    "valid_montos_final = valid_2.stack().reset_index(1)\n",
    "valid_montos_final.rename(columns={'level_1':'concept',0:'data'},inplace=True)\n",
    "valid_montos_final"
   ]
  },
  {
   "cell_type": "markdown",
   "metadata": {},
   "source": [
    "# EXCEL"
   ]
  },
  {
   "cell_type": "code",
   "execution_count": 14,
   "metadata": {},
   "outputs": [],
   "source": [
    "writer = pd.ExcelWriter(r'G:\\My Drive\\3.-Settlement\\5.-HISTORICO FILES PAGOS\\01. TRADICIONAL\\2022\\04. APRIL\\VALIDATION\\VALIDATION 2022-04-20.xlsx',\n",
    "                        engine='xlsxwriter',\n",
    "                        engine_kwargs={'options': {'encoding':'utf-8'}})\n",
    "query.to_excel(writer, sheet_name='DATA QUERY',index=False)\n",
    "valid_montos_final.to_excel(writer, sheet_name='MONTOS',index=False)\n",
    "valid_1.to_excel(writer, sheet_name='DIFF MONTOS',index=False)\n",
    "duplicates_query.to_excel(writer, sheet_name='PAGOS DUPLICADOS',index=False)\n",
    "writer.close()"
   ]
  },
  {
   "cell_type": "code",
   "execution_count": 15,
   "metadata": {},
   "outputs": [],
   "source": [
    "valid_1.to_csv(r'G:\\My Drive\\3.-Settlement\\5.-HISTORICO FILES PAGOS\\01. TRADICIONAL\\2022\\04. APRIL\\MONTOS EMAIL\\DIFF MONTOS 2022-04-20.csv',index=False)"
   ]
  },
  {
   "cell_type": "code",
   "execution_count": 16,
   "metadata": {},
   "outputs": [],
   "source": [
    "valid_2.to_csv(r'G:\\My Drive\\3.-Settlement\\5.-HISTORICO FILES PAGOS\\01. TRADICIONAL\\2022\\04. APRIL\\VALIDATION\\total_disbursement 2022-04-20.csv',index=False)"
   ]
  },
  {
   "cell_type": "code",
   "execution_count": 17,
   "metadata": {},
   "outputs": [],
   "source": [
    "duplicates_query.to_csv(r'G:\\My Drive\\3.-Settlement\\5.-HISTORICO FILES PAGOS\\01. TRADICIONAL\\2022\\04. APRIL\\VALIDATION\\Duplicados 2022-04-20.csv',index=False)"
   ]
  },
  {
   "cell_type": "code",
   "execution_count": null,
   "metadata": {},
   "outputs": [],
   "source": []
  }
 ],
 "metadata": {
  "kernelspec": {
   "display_name": "Python 3 (ipykernel)",
   "language": "python",
   "name": "python3"
  },
  "language_info": {
   "codemirror_mode": {
    "name": "ipython",
    "version": 3
   },
   "file_extension": ".py",
   "mimetype": "text/x-python",
   "name": "python",
   "nbconvert_exporter": "python",
   "pygments_lexer": "ipython3",
   "version": "3.9.13"
  }
 },
 "nbformat": 4,
 "nbformat_minor": 4
}
