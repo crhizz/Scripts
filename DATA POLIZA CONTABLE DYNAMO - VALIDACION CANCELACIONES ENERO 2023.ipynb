{
 "cells": [
  {
   "cell_type": "code",
   "execution_count": 1,
   "id": "21c1c747",
   "metadata": {},
   "outputs": [],
   "source": [
    "import pandas as pd\n",
    "import numpy as np\n",
    "import glob\n",
    "import os\n",
    "from openpyxl import load_workbook\n",
    "pd.options.display.float_format = '{:,.2f}'.format"
   ]
  },
  {
   "cell_type": "code",
   "execution_count": 2,
   "id": "e9787e6a",
   "metadata": {},
   "outputs": [],
   "source": [
    "start_date = '2023-01-01'\n",
    "final_date = '2023-01-31'\n",
    "\n",
    "final_date_1 = '2023-01-15'\n",
    "start_date_1 = '2023-01-16'"
   ]
  },
  {
   "cell_type": "markdown",
   "id": "9df44613",
   "metadata": {},
   "source": [
    "# RUTAS"
   ]
  },
  {
   "cell_type": "markdown",
   "id": "cef36c0e",
   "metadata": {},
   "source": [
    "### SETTLEMENT MASTER LOG"
   ]
  },
  {
   "cell_type": "code",
   "execution_count": 3,
   "id": "38321533",
   "metadata": {},
   "outputs": [
    {
     "data": {
      "text/plain": [
       "['G:\\\\My Drive\\\\RESPALDO-PC\\\\DYNAMO\\\\2023\\\\01. ENERO\\\\SETTLEMENT MASTER LOG\\\\V2\\\\SETTLEMENT_MASTER_LOG_DATE (1).csv',\n",
       " 'G:\\\\My Drive\\\\RESPALDO-PC\\\\DYNAMO\\\\2023\\\\01. ENERO\\\\SETTLEMENT MASTER LOG\\\\V2\\\\SETTLEMENT_MASTER_LOG_DATE.csv',\n",
       " 'G:\\\\My Drive\\\\RESPALDO-PC\\\\DYNAMO\\\\2023\\\\01. ENERO\\\\SETTLEMENT MASTER LOG\\\\V2\\\\SETTLEMENT_MASTER_LOG_DATE (3).csv',\n",
       " 'G:\\\\My Drive\\\\RESPALDO-PC\\\\DYNAMO\\\\2023\\\\01. ENERO\\\\SETTLEMENT MASTER LOG\\\\V2\\\\SETTLEMENT_MASTER_LOG_DATE (2).csv']"
      ]
     },
     "execution_count": 3,
     "metadata": {},
     "output_type": "execute_result"
    }
   ],
   "source": [
    "sml_files = glob.glob(r'G:\\My Drive\\RESPALDO-PC\\DYNAMO\\2023\\01. ENERO\\SETTLEMENT MASTER LOG\\V2\\*.csv', recursive=False)\n",
    "sml_files"
   ]
  },
  {
   "cell_type": "markdown",
   "id": "baf7556d",
   "metadata": {},
   "source": [
    "### AP JOURNAL"
   ]
  },
  {
   "cell_type": "code",
   "execution_count": 4,
   "id": "932c2ffa",
   "metadata": {},
   "outputs": [
    {
     "data": {
      "text/plain": [
       "['G:\\\\My Drive\\\\RESPALDO-PC\\\\DYNAMO\\\\2023\\\\01. ENERO\\\\AP JOURNAL\\\\V2\\\\AP-JOURNAL_DATE (3).csv',\n",
       " 'G:\\\\My Drive\\\\RESPALDO-PC\\\\DYNAMO\\\\2023\\\\01. ENERO\\\\AP JOURNAL\\\\V2\\\\AP-JOURNAL_DATE (2).csv',\n",
       " 'G:\\\\My Drive\\\\RESPALDO-PC\\\\DYNAMO\\\\2023\\\\01. ENERO\\\\AP JOURNAL\\\\V2\\\\AP-JOURNAL_DATE (1).csv',\n",
       " 'G:\\\\My Drive\\\\RESPALDO-PC\\\\DYNAMO\\\\2023\\\\01. ENERO\\\\AP JOURNAL\\\\V2\\\\AP-JOURNAL_DATE.csv']"
      ]
     },
     "execution_count": 4,
     "metadata": {},
     "output_type": "execute_result"
    }
   ],
   "source": [
    "ap_files = glob.glob(r'G:\\My Drive\\RESPALDO-PC\\DYNAMO\\2023\\01. ENERO\\AP JOURNAL\\V2\\*.csv', recursive=False)\n",
    "ap_files"
   ]
  },
  {
   "cell_type": "markdown",
   "id": "bf9da3cf",
   "metadata": {},
   "source": [
    "# DATA SETTLEMENT MASTER LOG"
   ]
  },
  {
   "cell_type": "code",
   "execution_count": 5,
   "id": "27c65ab3",
   "metadata": {},
   "outputs": [
    {
     "data": {
      "text/html": [
       "<div>\n",
       "<style scoped>\n",
       "    .dataframe tbody tr th:only-of-type {\n",
       "        vertical-align: middle;\n",
       "    }\n",
       "\n",
       "    .dataframe tbody tr th {\n",
       "        vertical-align: top;\n",
       "    }\n",
       "\n",
       "    .dataframe thead th {\n",
       "        text-align: right;\n",
       "    }\n",
       "</style>\n",
       "<table border=\"1\" class=\"dataframe\">\n",
       "  <thead>\n",
       "    <tr style=\"text-align: right;\">\n",
       "      <th></th>\n",
       "      <th>RECORD_UUID</th>\n",
       "      <th>MVNT_ID</th>\n",
       "      <th>CREATED_AT</th>\n",
       "      <th>EFF_DT</th>\n",
       "      <th>EFF_DT_2</th>\n",
       "      <th>GROSS_AMOUNT</th>\n",
       "      <th>FEES</th>\n",
       "      <th>TAXES</th>\n",
       "      <th>NET_AMOUNT</th>\n",
       "      <th>MDR</th>\n",
       "      <th>MSI</th>\n",
       "      <th>MVNT_TYPE</th>\n",
       "      <th>MERCHANT_ID</th>\n",
       "      <th>PYMT_PRG</th>\n",
       "      <th>TRANSACTION_ID</th>\n",
       "      <th>STATUS_CODE</th>\n",
       "      <th>file_name</th>\n",
       "    </tr>\n",
       "  </thead>\n",
       "  <tbody>\n",
       "    <tr>\n",
       "      <th>0</th>\n",
       "      <td>8cf02455-e0b5-5c51-ba1a-a3c5f3a75ae7</td>\n",
       "      <td>520d0434-3862-477c-9f9b-3f0d46247eec</td>\n",
       "      <td>2023-01-10 14:07:43</td>\n",
       "      <td>2023-01-11 01:30:00</td>\n",
       "      <td>2023-01-11</td>\n",
       "      <td>738.00</td>\n",
       "      <td>26.57</td>\n",
       "      <td>4.25</td>\n",
       "      <td>707.18</td>\n",
       "      <td>0.04</td>\n",
       "      <td>0.00</td>\n",
       "      <td>STL_PCS_RQ</td>\n",
       "      <td>0000d758-84b4-4cb0-a165-4f0d3c44864d</td>\n",
       "      <td>REGULAR_PAYMENT</td>\n",
       "      <td>520d0434-3862-477c-9f9b-3f0d46247eec</td>\n",
       "      <td>1</td>\n",
       "      <td>SETTLEMENT_MASTER_LOG_DATE (1).csv</td>\n",
       "    </tr>\n",
       "    <tr>\n",
       "      <th>1</th>\n",
       "      <td>c444f644-8990-563d-be3c-293612a85517</td>\n",
       "      <td>e34b060b-a5fc-4ece-91e5-9aed44773cb0</td>\n",
       "      <td>2023-01-10 18:46:43</td>\n",
       "      <td>2023-01-11 02:00:00</td>\n",
       "      <td>2023-01-11</td>\n",
       "      <td>751.00</td>\n",
       "      <td>27.04</td>\n",
       "      <td>4.33</td>\n",
       "      <td>719.63</td>\n",
       "      <td>0.04</td>\n",
       "      <td>0.00</td>\n",
       "      <td>STL_PCS_RQ</td>\n",
       "      <td>0000d758-84b4-4cb0-a165-4f0d3c44864d</td>\n",
       "      <td>REGULAR_PAYMENT</td>\n",
       "      <td>e34b060b-a5fc-4ece-91e5-9aed44773cb0</td>\n",
       "      <td>1</td>\n",
       "      <td>SETTLEMENT_MASTER_LOG_DATE (1).csv</td>\n",
       "    </tr>\n",
       "    <tr>\n",
       "      <th>2</th>\n",
       "      <td>8b0b14ed-2e51-5a83-9ba0-79a3e7035eb5</td>\n",
       "      <td>b0a2ad95-c41b-4537-b0d7-b90d024be3e4</td>\n",
       "      <td>2023-01-11 16:18:17</td>\n",
       "      <td>2023-01-12 02:00:00</td>\n",
       "      <td>2023-01-12</td>\n",
       "      <td>2,091.00</td>\n",
       "      <td>75.28</td>\n",
       "      <td>12.04</td>\n",
       "      <td>2,003.68</td>\n",
       "      <td>0.04</td>\n",
       "      <td>0.00</td>\n",
       "      <td>STL_PCS_RQ</td>\n",
       "      <td>0000d758-84b4-4cb0-a165-4f0d3c44864d</td>\n",
       "      <td>REGULAR_PAYMENT</td>\n",
       "      <td>b0a2ad95-c41b-4537-b0d7-b90d024be3e4</td>\n",
       "      <td>1</td>\n",
       "      <td>SETTLEMENT_MASTER_LOG_DATE (1).csv</td>\n",
       "    </tr>\n",
       "    <tr>\n",
       "      <th>3</th>\n",
       "      <td>1f0dfcfe-d2a8-5b82-ae70-60ac826abd74</td>\n",
       "      <td>76abd247-5ec2-473b-a183-58395440e92b</td>\n",
       "      <td>2023-01-11 16:10:59</td>\n",
       "      <td>2023-01-12 02:00:00</td>\n",
       "      <td>2023-01-12</td>\n",
       "      <td>255.00</td>\n",
       "      <td>9.18</td>\n",
       "      <td>1.47</td>\n",
       "      <td>244.35</td>\n",
       "      <td>0.04</td>\n",
       "      <td>0.00</td>\n",
       "      <td>STL_PCS_RQ</td>\n",
       "      <td>0000d758-84b4-4cb0-a165-4f0d3c44864d</td>\n",
       "      <td>REGULAR_PAYMENT</td>\n",
       "      <td>76abd247-5ec2-473b-a183-58395440e92b</td>\n",
       "      <td>1</td>\n",
       "      <td>SETTLEMENT_MASTER_LOG_DATE (1).csv</td>\n",
       "    </tr>\n",
       "    <tr>\n",
       "      <th>4</th>\n",
       "      <td>c148e17c-f614-5ed9-80af-83bc904ff28d</td>\n",
       "      <td>da78bc07-14ef-41c8-b790-8aeae605bb46</td>\n",
       "      <td>2023-01-11 20:19:43</td>\n",
       "      <td>2023-01-12 02:30:00</td>\n",
       "      <td>2023-01-12</td>\n",
       "      <td>2,119.00</td>\n",
       "      <td>76.28</td>\n",
       "      <td>12.20</td>\n",
       "      <td>2,030.52</td>\n",
       "      <td>0.04</td>\n",
       "      <td>0.00</td>\n",
       "      <td>STL_PCS_RQ</td>\n",
       "      <td>0000d758-84b4-4cb0-a165-4f0d3c44864d</td>\n",
       "      <td>REGULAR_PAYMENT</td>\n",
       "      <td>da78bc07-14ef-41c8-b790-8aeae605bb46</td>\n",
       "      <td>1</td>\n",
       "      <td>SETTLEMENT_MASTER_LOG_DATE (1).csv</td>\n",
       "    </tr>\n",
       "  </tbody>\n",
       "</table>\n",
       "</div>"
      ],
      "text/plain": [
       "                            RECORD_UUID                               MVNT_ID  \\\n",
       "0  8cf02455-e0b5-5c51-ba1a-a3c5f3a75ae7  520d0434-3862-477c-9f9b-3f0d46247eec   \n",
       "1  c444f644-8990-563d-be3c-293612a85517  e34b060b-a5fc-4ece-91e5-9aed44773cb0   \n",
       "2  8b0b14ed-2e51-5a83-9ba0-79a3e7035eb5  b0a2ad95-c41b-4537-b0d7-b90d024be3e4   \n",
       "3  1f0dfcfe-d2a8-5b82-ae70-60ac826abd74  76abd247-5ec2-473b-a183-58395440e92b   \n",
       "4  c148e17c-f614-5ed9-80af-83bc904ff28d  da78bc07-14ef-41c8-b790-8aeae605bb46   \n",
       "\n",
       "           CREATED_AT              EFF_DT    EFF_DT_2  GROSS_AMOUNT  FEES  \\\n",
       "0 2023-01-10 14:07:43 2023-01-11 01:30:00  2023-01-11        738.00 26.57   \n",
       "1 2023-01-10 18:46:43 2023-01-11 02:00:00  2023-01-11        751.00 27.04   \n",
       "2 2023-01-11 16:18:17 2023-01-12 02:00:00  2023-01-12      2,091.00 75.28   \n",
       "3 2023-01-11 16:10:59 2023-01-12 02:00:00  2023-01-12        255.00  9.18   \n",
       "4 2023-01-11 20:19:43 2023-01-12 02:30:00  2023-01-12      2,119.00 76.28   \n",
       "\n",
       "   TAXES  NET_AMOUNT  MDR  MSI   MVNT_TYPE  \\\n",
       "0   4.25      707.18 0.04 0.00  STL_PCS_RQ   \n",
       "1   4.33      719.63 0.04 0.00  STL_PCS_RQ   \n",
       "2  12.04    2,003.68 0.04 0.00  STL_PCS_RQ   \n",
       "3   1.47      244.35 0.04 0.00  STL_PCS_RQ   \n",
       "4  12.20    2,030.52 0.04 0.00  STL_PCS_RQ   \n",
       "\n",
       "                            MERCHANT_ID         PYMT_PRG  \\\n",
       "0  0000d758-84b4-4cb0-a165-4f0d3c44864d  REGULAR_PAYMENT   \n",
       "1  0000d758-84b4-4cb0-a165-4f0d3c44864d  REGULAR_PAYMENT   \n",
       "2  0000d758-84b4-4cb0-a165-4f0d3c44864d  REGULAR_PAYMENT   \n",
       "3  0000d758-84b4-4cb0-a165-4f0d3c44864d  REGULAR_PAYMENT   \n",
       "4  0000d758-84b4-4cb0-a165-4f0d3c44864d  REGULAR_PAYMENT   \n",
       "\n",
       "                         TRANSACTION_ID  STATUS_CODE  \\\n",
       "0  520d0434-3862-477c-9f9b-3f0d46247eec            1   \n",
       "1  e34b060b-a5fc-4ece-91e5-9aed44773cb0            1   \n",
       "2  b0a2ad95-c41b-4537-b0d7-b90d024be3e4            1   \n",
       "3  76abd247-5ec2-473b-a183-58395440e92b            1   \n",
       "4  da78bc07-14ef-41c8-b790-8aeae605bb46            1   \n",
       "\n",
       "                            file_name  \n",
       "0  SETTLEMENT_MASTER_LOG_DATE (1).csv  \n",
       "1  SETTLEMENT_MASTER_LOG_DATE (1).csv  \n",
       "2  SETTLEMENT_MASTER_LOG_DATE (1).csv  \n",
       "3  SETTLEMENT_MASTER_LOG_DATE (1).csv  \n",
       "4  SETTLEMENT_MASTER_LOG_DATE (1).csv  "
      ]
     },
     "execution_count": 5,
     "metadata": {},
     "output_type": "execute_result"
    }
   ],
   "source": [
    "sml = pd.concat([pd.read_csv(f).assign(file_name=os.path.basename(f)) for f in sml_files])\n",
    "sml.replace('\"\"','', regex=True, inplace=True)\n",
    "sml['CREATED_AT'] = pd.to_datetime(sml['CREATED_AT']).dt.tz_localize(None)\n",
    "sml['EFF_DT'] = pd.to_datetime(sml['EFF_DT']).dt.tz_localize(None)\n",
    "sml.rename(columns={'REF_ID':'TRANSACTION_ID'},inplace=True)\n",
    "#sml['PK'] = sml['PK'].replace('M#','',inplace=True)\n",
    "sml.head()"
   ]
  },
  {
   "cell_type": "code",
   "execution_count": 6,
   "id": "bb5c429d",
   "metadata": {},
   "outputs": [
    {
     "data": {
      "text/plain": [
       "(2320583, 17)"
      ]
     },
     "execution_count": 6,
     "metadata": {},
     "output_type": "execute_result"
    }
   ],
   "source": [
    "sml.shape"
   ]
  },
  {
   "cell_type": "code",
   "execution_count": 7,
   "id": "aae153e9",
   "metadata": {},
   "outputs": [
    {
     "data": {
      "text/plain": [
       "RECORD_UUID               object\n",
       "MVNT_ID                   object\n",
       "CREATED_AT        datetime64[ns]\n",
       "EFF_DT            datetime64[ns]\n",
       "EFF_DT_2                  object\n",
       "GROSS_AMOUNT             float64\n",
       "FEES                     float64\n",
       "TAXES                    float64\n",
       "NET_AMOUNT               float64\n",
       "MDR                      float64\n",
       "MSI                      float64\n",
       "MVNT_TYPE                 object\n",
       "MERCHANT_ID               object\n",
       "PYMT_PRG                  object\n",
       "TRANSACTION_ID            object\n",
       "STATUS_CODE                int64\n",
       "file_name                 object\n",
       "dtype: object"
      ]
     },
     "execution_count": 7,
     "metadata": {},
     "output_type": "execute_result"
    }
   ],
   "source": [
    "sml.dtypes"
   ]
  },
  {
   "cell_type": "code",
   "execution_count": 8,
   "id": "0aee293f",
   "metadata": {},
   "outputs": [
    {
     "data": {
      "text/html": [
       "<div>\n",
       "<style scoped>\n",
       "    .dataframe tbody tr th:only-of-type {\n",
       "        vertical-align: middle;\n",
       "    }\n",
       "\n",
       "    .dataframe tbody tr th {\n",
       "        vertical-align: top;\n",
       "    }\n",
       "\n",
       "    .dataframe thead th {\n",
       "        text-align: right;\n",
       "    }\n",
       "</style>\n",
       "<table border=\"1\" class=\"dataframe\">\n",
       "  <thead>\n",
       "    <tr style=\"text-align: right;\">\n",
       "      <th></th>\n",
       "      <th>RECORD_UUID</th>\n",
       "      <th>MVNT_ID</th>\n",
       "      <th>CREATED_AT</th>\n",
       "      <th>EFF_DT</th>\n",
       "      <th>EFF_DT_2</th>\n",
       "      <th>GROSS_AMOUNT</th>\n",
       "      <th>FEES</th>\n",
       "      <th>TAXES</th>\n",
       "      <th>NET_AMOUNT</th>\n",
       "      <th>MDR</th>\n",
       "      <th>MSI</th>\n",
       "      <th>MVNT_TYPE</th>\n",
       "      <th>MERCHANT_ID</th>\n",
       "      <th>PYMT_PRG</th>\n",
       "      <th>TRANSACTION_ID</th>\n",
       "      <th>STATUS_CODE</th>\n",
       "      <th>file_name</th>\n",
       "    </tr>\n",
       "  </thead>\n",
       "  <tbody>\n",
       "    <tr>\n",
       "      <th>0</th>\n",
       "      <td>8cf02455-e0b5-5c51-ba1a-a3c5f3a75ae7</td>\n",
       "      <td>520d0434-3862-477c-9f9b-3f0d46247eec</td>\n",
       "      <td>2023-01-10 14:07:43</td>\n",
       "      <td>2023-01-11 01:30:00</td>\n",
       "      <td>2023-01-11</td>\n",
       "      <td>738.00</td>\n",
       "      <td>26.57</td>\n",
       "      <td>4.25</td>\n",
       "      <td>707.18</td>\n",
       "      <td>0.04</td>\n",
       "      <td>0.00</td>\n",
       "      <td>STL_PCS_RQ</td>\n",
       "      <td>0000d758-84b4-4cb0-a165-4f0d3c44864d</td>\n",
       "      <td>REGULAR_PAYMENT</td>\n",
       "      <td>520d0434-3862-477c-9f9b-3f0d46247eec</td>\n",
       "      <td>1</td>\n",
       "      <td>SETTLEMENT_MASTER_LOG_DATE (1).csv</td>\n",
       "    </tr>\n",
       "    <tr>\n",
       "      <th>1</th>\n",
       "      <td>c444f644-8990-563d-be3c-293612a85517</td>\n",
       "      <td>e34b060b-a5fc-4ece-91e5-9aed44773cb0</td>\n",
       "      <td>2023-01-10 18:46:43</td>\n",
       "      <td>2023-01-11 02:00:00</td>\n",
       "      <td>2023-01-11</td>\n",
       "      <td>751.00</td>\n",
       "      <td>27.04</td>\n",
       "      <td>4.33</td>\n",
       "      <td>719.63</td>\n",
       "      <td>0.04</td>\n",
       "      <td>0.00</td>\n",
       "      <td>STL_PCS_RQ</td>\n",
       "      <td>0000d758-84b4-4cb0-a165-4f0d3c44864d</td>\n",
       "      <td>REGULAR_PAYMENT</td>\n",
       "      <td>e34b060b-a5fc-4ece-91e5-9aed44773cb0</td>\n",
       "      <td>1</td>\n",
       "      <td>SETTLEMENT_MASTER_LOG_DATE (1).csv</td>\n",
       "    </tr>\n",
       "    <tr>\n",
       "      <th>2</th>\n",
       "      <td>8b0b14ed-2e51-5a83-9ba0-79a3e7035eb5</td>\n",
       "      <td>b0a2ad95-c41b-4537-b0d7-b90d024be3e4</td>\n",
       "      <td>2023-01-11 16:18:17</td>\n",
       "      <td>2023-01-12 02:00:00</td>\n",
       "      <td>2023-01-12</td>\n",
       "      <td>2,091.00</td>\n",
       "      <td>75.28</td>\n",
       "      <td>12.04</td>\n",
       "      <td>2,003.68</td>\n",
       "      <td>0.04</td>\n",
       "      <td>0.00</td>\n",
       "      <td>STL_PCS_RQ</td>\n",
       "      <td>0000d758-84b4-4cb0-a165-4f0d3c44864d</td>\n",
       "      <td>REGULAR_PAYMENT</td>\n",
       "      <td>b0a2ad95-c41b-4537-b0d7-b90d024be3e4</td>\n",
       "      <td>1</td>\n",
       "      <td>SETTLEMENT_MASTER_LOG_DATE (1).csv</td>\n",
       "    </tr>\n",
       "    <tr>\n",
       "      <th>3</th>\n",
       "      <td>1f0dfcfe-d2a8-5b82-ae70-60ac826abd74</td>\n",
       "      <td>76abd247-5ec2-473b-a183-58395440e92b</td>\n",
       "      <td>2023-01-11 16:10:59</td>\n",
       "      <td>2023-01-12 02:00:00</td>\n",
       "      <td>2023-01-12</td>\n",
       "      <td>255.00</td>\n",
       "      <td>9.18</td>\n",
       "      <td>1.47</td>\n",
       "      <td>244.35</td>\n",
       "      <td>0.04</td>\n",
       "      <td>0.00</td>\n",
       "      <td>STL_PCS_RQ</td>\n",
       "      <td>0000d758-84b4-4cb0-a165-4f0d3c44864d</td>\n",
       "      <td>REGULAR_PAYMENT</td>\n",
       "      <td>76abd247-5ec2-473b-a183-58395440e92b</td>\n",
       "      <td>1</td>\n",
       "      <td>SETTLEMENT_MASTER_LOG_DATE (1).csv</td>\n",
       "    </tr>\n",
       "    <tr>\n",
       "      <th>4</th>\n",
       "      <td>c148e17c-f614-5ed9-80af-83bc904ff28d</td>\n",
       "      <td>da78bc07-14ef-41c8-b790-8aeae605bb46</td>\n",
       "      <td>2023-01-11 20:19:43</td>\n",
       "      <td>2023-01-12 02:30:00</td>\n",
       "      <td>2023-01-12</td>\n",
       "      <td>2,119.00</td>\n",
       "      <td>76.28</td>\n",
       "      <td>12.20</td>\n",
       "      <td>2,030.52</td>\n",
       "      <td>0.04</td>\n",
       "      <td>0.00</td>\n",
       "      <td>STL_PCS_RQ</td>\n",
       "      <td>0000d758-84b4-4cb0-a165-4f0d3c44864d</td>\n",
       "      <td>REGULAR_PAYMENT</td>\n",
       "      <td>da78bc07-14ef-41c8-b790-8aeae605bb46</td>\n",
       "      <td>1</td>\n",
       "      <td>SETTLEMENT_MASTER_LOG_DATE (1).csv</td>\n",
       "    </tr>\n",
       "  </tbody>\n",
       "</table>\n",
       "</div>"
      ],
      "text/plain": [
       "                            RECORD_UUID                               MVNT_ID  \\\n",
       "0  8cf02455-e0b5-5c51-ba1a-a3c5f3a75ae7  520d0434-3862-477c-9f9b-3f0d46247eec   \n",
       "1  c444f644-8990-563d-be3c-293612a85517  e34b060b-a5fc-4ece-91e5-9aed44773cb0   \n",
       "2  8b0b14ed-2e51-5a83-9ba0-79a3e7035eb5  b0a2ad95-c41b-4537-b0d7-b90d024be3e4   \n",
       "3  1f0dfcfe-d2a8-5b82-ae70-60ac826abd74  76abd247-5ec2-473b-a183-58395440e92b   \n",
       "4  c148e17c-f614-5ed9-80af-83bc904ff28d  da78bc07-14ef-41c8-b790-8aeae605bb46   \n",
       "\n",
       "           CREATED_AT              EFF_DT    EFF_DT_2  GROSS_AMOUNT  FEES  \\\n",
       "0 2023-01-10 14:07:43 2023-01-11 01:30:00  2023-01-11        738.00 26.57   \n",
       "1 2023-01-10 18:46:43 2023-01-11 02:00:00  2023-01-11        751.00 27.04   \n",
       "2 2023-01-11 16:18:17 2023-01-12 02:00:00  2023-01-12      2,091.00 75.28   \n",
       "3 2023-01-11 16:10:59 2023-01-12 02:00:00  2023-01-12        255.00  9.18   \n",
       "4 2023-01-11 20:19:43 2023-01-12 02:30:00  2023-01-12      2,119.00 76.28   \n",
       "\n",
       "   TAXES  NET_AMOUNT  MDR  MSI   MVNT_TYPE  \\\n",
       "0   4.25      707.18 0.04 0.00  STL_PCS_RQ   \n",
       "1   4.33      719.63 0.04 0.00  STL_PCS_RQ   \n",
       "2  12.04    2,003.68 0.04 0.00  STL_PCS_RQ   \n",
       "3   1.47      244.35 0.04 0.00  STL_PCS_RQ   \n",
       "4  12.20    2,030.52 0.04 0.00  STL_PCS_RQ   \n",
       "\n",
       "                            MERCHANT_ID         PYMT_PRG  \\\n",
       "0  0000d758-84b4-4cb0-a165-4f0d3c44864d  REGULAR_PAYMENT   \n",
       "1  0000d758-84b4-4cb0-a165-4f0d3c44864d  REGULAR_PAYMENT   \n",
       "2  0000d758-84b4-4cb0-a165-4f0d3c44864d  REGULAR_PAYMENT   \n",
       "3  0000d758-84b4-4cb0-a165-4f0d3c44864d  REGULAR_PAYMENT   \n",
       "4  0000d758-84b4-4cb0-a165-4f0d3c44864d  REGULAR_PAYMENT   \n",
       "\n",
       "                         TRANSACTION_ID  STATUS_CODE  \\\n",
       "0  520d0434-3862-477c-9f9b-3f0d46247eec            1   \n",
       "1  e34b060b-a5fc-4ece-91e5-9aed44773cb0            1   \n",
       "2  b0a2ad95-c41b-4537-b0d7-b90d024be3e4            1   \n",
       "3  76abd247-5ec2-473b-a183-58395440e92b            1   \n",
       "4  da78bc07-14ef-41c8-b790-8aeae605bb46            1   \n",
       "\n",
       "                            file_name  \n",
       "0  SETTLEMENT_MASTER_LOG_DATE (1).csv  \n",
       "1  SETTLEMENT_MASTER_LOG_DATE (1).csv  \n",
       "2  SETTLEMENT_MASTER_LOG_DATE (1).csv  \n",
       "3  SETTLEMENT_MASTER_LOG_DATE (1).csv  \n",
       "4  SETTLEMENT_MASTER_LOG_DATE (1).csv  "
      ]
     },
     "execution_count": 8,
     "metadata": {},
     "output_type": "execute_result"
    }
   ],
   "source": [
    "sml_final = sml[(sml['MVNT_TYPE'] == 'STL_PCS_RQ')]\n",
    "sml_final.head()"
   ]
  },
  {
   "cell_type": "code",
   "execution_count": 9,
   "id": "f0afff80",
   "metadata": {},
   "outputs": [
    {
     "data": {
      "text/plain": [
       "(2320583, 17)"
      ]
     },
     "execution_count": 9,
     "metadata": {},
     "output_type": "execute_result"
    }
   ],
   "source": [
    "sml_final.shape"
   ]
  },
  {
   "cell_type": "markdown",
   "id": "05244115",
   "metadata": {},
   "source": [
    "# DATA AP JOURNAL"
   ]
  },
  {
   "cell_type": "code",
   "execution_count": 10,
   "id": "2ab36c04",
   "metadata": {},
   "outputs": [
    {
     "data": {
      "text/html": [
       "<div>\n",
       "<style scoped>\n",
       "    .dataframe tbody tr th:only-of-type {\n",
       "        vertical-align: middle;\n",
       "    }\n",
       "\n",
       "    .dataframe tbody tr th {\n",
       "        vertical-align: top;\n",
       "    }\n",
       "\n",
       "    .dataframe thead th {\n",
       "        text-align: right;\n",
       "    }\n",
       "</style>\n",
       "<table border=\"1\" class=\"dataframe\">\n",
       "  <thead>\n",
       "    <tr style=\"text-align: right;\">\n",
       "      <th></th>\n",
       "      <th>MERCHANT_ID</th>\n",
       "      <th>AMOUNT</th>\n",
       "      <th>CREATED_AT</th>\n",
       "      <th>CURRENCY</th>\n",
       "      <th>TYPE_REQUEST</th>\n",
       "      <th>EFF_DT</th>\n",
       "      <th>MOVEMENT_DAY</th>\n",
       "      <th>MVNT_ID</th>\n",
       "      <th>MOVEMENT_TYPE</th>\n",
       "      <th>REQUEST_EFFECTIVE_DATE</th>\n",
       "      <th>SLOT_DATE</th>\n",
       "      <th>SOURCE_TYPE</th>\n",
       "      <th>file_name</th>\n",
       "      <th>EFF_DT_DATE</th>\n",
       "      <th>EFF_DT_TIME</th>\n",
       "      <th>IDENTIFIER</th>\n",
       "      <th>INDEX</th>\n",
       "    </tr>\n",
       "  </thead>\n",
       "  <tbody>\n",
       "    <tr>\n",
       "      <th>31</th>\n",
       "      <td>0000d758-84b4-4cb0-a165-4f0d3c44864d</td>\n",
       "      <td>-13,021.43</td>\n",
       "      <td>2023-01-30 07:07:16</td>\n",
       "      <td>MXN</td>\n",
       "      <td>AXTK3CVKV</td>\n",
       "      <td>2023-01-30 07:07:21</td>\n",
       "      <td>2023-01-30 07:07:13</td>\n",
       "      <td>c88cdb8d-17a8-438d-93c8-ddd972a9f0be</td>\n",
       "      <td>DISB_RQ</td>\n",
       "      <td>2023-01-30 07:05:35</td>\n",
       "      <td>1969-12-31 18:00:00</td>\n",
       "      <td>DISB</td>\n",
       "      <td>AP-JOURNAL_DATE (2).csv</td>\n",
       "      <td>2023-01-30</td>\n",
       "      <td>07:07:21</td>\n",
       "      <td>D</td>\n",
       "      <td>2023-01-30-D-07:07:21</td>\n",
       "    </tr>\n",
       "    <tr>\n",
       "      <th>29</th>\n",
       "      <td>0000d758-84b4-4cb0-a165-4f0d3c44864d</td>\n",
       "      <td>661.19</td>\n",
       "      <td>2023-01-29 20:01:05</td>\n",
       "      <td>MXN</td>\n",
       "      <td>settlement processor regular payment request</td>\n",
       "      <td>2023-01-30 03:00:00</td>\n",
       "      <td>2023-01-29 20:01:05</td>\n",
       "      <td>8e6a8dea-b92d-4e64-a22e-1be970585299</td>\n",
       "      <td>REGULAR_PYMT_RQ</td>\n",
       "      <td>2023-01-30 02:30:00</td>\n",
       "      <td>2023-01-30 03:00:00</td>\n",
       "      <td>SETT</td>\n",
       "      <td>AP-JOURNAL_DATE (2).csv</td>\n",
       "      <td>2023-01-30</td>\n",
       "      <td>03:00:00</td>\n",
       "      <td>S</td>\n",
       "      <td>2023-01-30-S-03:00:00</td>\n",
       "    </tr>\n",
       "    <tr>\n",
       "      <th>30</th>\n",
       "      <td>0000d758-84b4-4cb0-a165-4f0d3c44864d</td>\n",
       "      <td>1,363.57</td>\n",
       "      <td>2023-01-29 21:11:26</td>\n",
       "      <td>MXN</td>\n",
       "      <td>settlement processor regular payment request</td>\n",
       "      <td>2023-01-30 03:00:00</td>\n",
       "      <td>2023-01-29 21:11:26</td>\n",
       "      <td>a2d04702-000e-44d3-8fe3-708a2f5f6b9f</td>\n",
       "      <td>REGULAR_PYMT_RQ</td>\n",
       "      <td>2023-01-30 02:30:00</td>\n",
       "      <td>2023-01-30 03:00:00</td>\n",
       "      <td>SETT</td>\n",
       "      <td>AP-JOURNAL_DATE (2).csv</td>\n",
       "      <td>2023-01-30</td>\n",
       "      <td>03:00:00</td>\n",
       "      <td>S</td>\n",
       "      <td>2023-01-30-S-03:00:00</td>\n",
       "    </tr>\n",
       "    <tr>\n",
       "      <th>25</th>\n",
       "      <td>0000d758-84b4-4cb0-a165-4f0d3c44864d</td>\n",
       "      <td>2,682.97</td>\n",
       "      <td>2023-01-29 15:46:35</td>\n",
       "      <td>MXN</td>\n",
       "      <td>settlement processor regular payment request</td>\n",
       "      <td>2023-01-30 02:00:00</td>\n",
       "      <td>2023-01-29 15:46:35</td>\n",
       "      <td>ec8138f4-6ea4-4bf7-8123-9b67e7f5c9be</td>\n",
       "      <td>REGULAR_PYMT_RQ</td>\n",
       "      <td>2023-01-30 01:30:00</td>\n",
       "      <td>2023-01-30 02:00:00</td>\n",
       "      <td>SETT</td>\n",
       "      <td>AP-JOURNAL_DATE (2).csv</td>\n",
       "      <td>2023-01-30</td>\n",
       "      <td>02:00:00</td>\n",
       "      <td>S</td>\n",
       "      <td>2023-01-30-S-02:00:00</td>\n",
       "    </tr>\n",
       "    <tr>\n",
       "      <th>26</th>\n",
       "      <td>0000d758-84b4-4cb0-a165-4f0d3c44864d</td>\n",
       "      <td>3,974.78</td>\n",
       "      <td>2023-01-29 15:37:27</td>\n",
       "      <td>MXN</td>\n",
       "      <td>settlement processor regular payment request</td>\n",
       "      <td>2023-01-30 02:00:00</td>\n",
       "      <td>2023-01-29 15:37:27</td>\n",
       "      <td>55b49069-5960-4369-a17d-065bf6d7daab</td>\n",
       "      <td>REGULAR_PYMT_RQ</td>\n",
       "      <td>2023-01-30 01:30:00</td>\n",
       "      <td>2023-01-30 02:00:00</td>\n",
       "      <td>SETT</td>\n",
       "      <td>AP-JOURNAL_DATE (2).csv</td>\n",
       "      <td>2023-01-30</td>\n",
       "      <td>02:00:00</td>\n",
       "      <td>S</td>\n",
       "      <td>2023-01-30-S-02:00:00</td>\n",
       "    </tr>\n",
       "  </tbody>\n",
       "</table>\n",
       "</div>"
      ],
      "text/plain": [
       "                             MERCHANT_ID     AMOUNT          CREATED_AT  \\\n",
       "31  0000d758-84b4-4cb0-a165-4f0d3c44864d -13,021.43 2023-01-30 07:07:16   \n",
       "29  0000d758-84b4-4cb0-a165-4f0d3c44864d     661.19 2023-01-29 20:01:05   \n",
       "30  0000d758-84b4-4cb0-a165-4f0d3c44864d   1,363.57 2023-01-29 21:11:26   \n",
       "25  0000d758-84b4-4cb0-a165-4f0d3c44864d   2,682.97 2023-01-29 15:46:35   \n",
       "26  0000d758-84b4-4cb0-a165-4f0d3c44864d   3,974.78 2023-01-29 15:37:27   \n",
       "\n",
       "   CURRENCY                                  TYPE_REQUEST              EFF_DT  \\\n",
       "31      MXN                                     AXTK3CVKV 2023-01-30 07:07:21   \n",
       "29      MXN  settlement processor regular payment request 2023-01-30 03:00:00   \n",
       "30      MXN  settlement processor regular payment request 2023-01-30 03:00:00   \n",
       "25      MXN  settlement processor regular payment request 2023-01-30 02:00:00   \n",
       "26      MXN  settlement processor regular payment request 2023-01-30 02:00:00   \n",
       "\n",
       "          MOVEMENT_DAY                               MVNT_ID    MOVEMENT_TYPE  \\\n",
       "31 2023-01-30 07:07:13  c88cdb8d-17a8-438d-93c8-ddd972a9f0be          DISB_RQ   \n",
       "29 2023-01-29 20:01:05  8e6a8dea-b92d-4e64-a22e-1be970585299  REGULAR_PYMT_RQ   \n",
       "30 2023-01-29 21:11:26  a2d04702-000e-44d3-8fe3-708a2f5f6b9f  REGULAR_PYMT_RQ   \n",
       "25 2023-01-29 15:46:35  ec8138f4-6ea4-4bf7-8123-9b67e7f5c9be  REGULAR_PYMT_RQ   \n",
       "26 2023-01-29 15:37:27  55b49069-5960-4369-a17d-065bf6d7daab  REGULAR_PYMT_RQ   \n",
       "\n",
       "   REQUEST_EFFECTIVE_DATE           SLOT_DATE SOURCE_TYPE  \\\n",
       "31    2023-01-30 07:05:35 1969-12-31 18:00:00        DISB   \n",
       "29    2023-01-30 02:30:00 2023-01-30 03:00:00        SETT   \n",
       "30    2023-01-30 02:30:00 2023-01-30 03:00:00        SETT   \n",
       "25    2023-01-30 01:30:00 2023-01-30 02:00:00        SETT   \n",
       "26    2023-01-30 01:30:00 2023-01-30 02:00:00        SETT   \n",
       "\n",
       "                  file_name EFF_DT_DATE EFF_DT_TIME IDENTIFIER  \\\n",
       "31  AP-JOURNAL_DATE (2).csv  2023-01-30    07:07:21          D   \n",
       "29  AP-JOURNAL_DATE (2).csv  2023-01-30    03:00:00          S   \n",
       "30  AP-JOURNAL_DATE (2).csv  2023-01-30    03:00:00          S   \n",
       "25  AP-JOURNAL_DATE (2).csv  2023-01-30    02:00:00          S   \n",
       "26  AP-JOURNAL_DATE (2).csv  2023-01-30    02:00:00          S   \n",
       "\n",
       "                    INDEX  \n",
       "31  2023-01-30-D-07:07:21  \n",
       "29  2023-01-30-S-03:00:00  \n",
       "30  2023-01-30-S-03:00:00  \n",
       "25  2023-01-30-S-02:00:00  \n",
       "26  2023-01-30-S-02:00:00  "
      ]
     },
     "execution_count": 10,
     "metadata": {},
     "output_type": "execute_result"
    }
   ],
   "source": [
    "ap = pd.concat([pd.read_csv(f).assign(file_name=os.path.basename(f)) for f in ap_files])\n",
    "ap.replace('\"\"','', regex=True, inplace=True)\n",
    "ap['EFF_DT'] =  pd.to_datetime(ap['EFF_DT']).dt.tz_localize(None)\n",
    "ap['EFF_DT_DATE'] =  pd.to_datetime(ap['EFF_DT']).dt.date\n",
    "ap['EFF_DT_DATE'] =  pd.to_datetime(ap['EFF_DT_DATE']).dt.tz_localize(None)\n",
    "ap['EFF_DT_TIME'] =  pd.to_datetime(ap['EFF_DT']).dt.time\n",
    "ap['MOVEMENT_DAY'] = pd.to_datetime(ap['MOVEMENT_DAY']).dt.tz_localize(None)\n",
    "ap['CREATED_AT'] = pd.to_datetime(ap['CREATED_AT']).dt.tz_localize(None)\n",
    "ap['REQUEST_EFFECTIVE_DATE'] = pd.to_datetime(ap['REQUEST_EFFECTIVE_DATE']).dt.tz_localize(None)\n",
    "ap['SLOT_DATE'] = pd.to_datetime(ap['SLOT_DATE']).dt.tz_localize(None)\n",
    "ap['IDENTIFIER'] = ap['SOURCE_TYPE'].str[:1].astype(str)\n",
    "ap['INDEX'] = (ap['EFF_DT_DATE'].astype(str).replace(' ', '',regex=True)+'-'+\n",
    "               ap['IDENTIFIER'].astype(str).replace(' ', '',regex=True)+'-'+\n",
    "               ap['EFF_DT_TIME'].astype(str).replace(' ', '',regex=True))\n",
    "ap.sort_values(by=(['MERCHANT_ID','EFF_DT']), ascending=[True,False], inplace=True)\n",
    "ap.head()"
   ]
  },
  {
   "cell_type": "code",
   "execution_count": 11,
   "id": "cfdd51e2",
   "metadata": {},
   "outputs": [
    {
     "data": {
      "text/plain": [
       "(2977776, 17)"
      ]
     },
     "execution_count": 11,
     "metadata": {},
     "output_type": "execute_result"
    }
   ],
   "source": [
    "ap.shape"
   ]
  },
  {
   "cell_type": "code",
   "execution_count": 12,
   "id": "533505bb",
   "metadata": {},
   "outputs": [
    {
     "data": {
      "text/plain": [
       "array(['DISB', 'SETT', 'RISK', 'TOPUPS', 'PYMT', 'LOAN'], dtype=object)"
      ]
     },
     "execution_count": 12,
     "metadata": {},
     "output_type": "execute_result"
    }
   ],
   "source": [
    "ap['SOURCE_TYPE'].unique()"
   ]
  },
  {
   "cell_type": "code",
   "execution_count": 13,
   "id": "cdc577ee",
   "metadata": {},
   "outputs": [
    {
     "data": {
      "text/plain": [
       "MERCHANT_ID                       object\n",
       "AMOUNT                           float64\n",
       "CREATED_AT                datetime64[ns]\n",
       "CURRENCY                          object\n",
       "TYPE_REQUEST                      object\n",
       "EFF_DT                    datetime64[ns]\n",
       "MOVEMENT_DAY              datetime64[ns]\n",
       "MVNT_ID                           object\n",
       "MOVEMENT_TYPE                     object\n",
       "REQUEST_EFFECTIVE_DATE    datetime64[ns]\n",
       "SLOT_DATE                 datetime64[ns]\n",
       "SOURCE_TYPE                       object\n",
       "file_name                         object\n",
       "EFF_DT_DATE               datetime64[ns]\n",
       "EFF_DT_TIME                       object\n",
       "IDENTIFIER                        object\n",
       "INDEX                             object\n",
       "dtype: object"
      ]
     },
     "execution_count": 13,
     "metadata": {},
     "output_type": "execute_result"
    }
   ],
   "source": [
    "ap.dtypes"
   ]
  },
  {
   "cell_type": "code",
   "execution_count": 14,
   "id": "d1b7efd9",
   "metadata": {},
   "outputs": [],
   "source": [
    "ap_range_1 = ap[(ap['EFF_DT_DATE'] >= '2023-01-01') & (ap['EFF_DT_DATE'] <= '2023-01-10')]\n",
    "ap_range_2 = ap[(ap['EFF_DT_DATE'] >= '2023-01-11') & (ap['EFF_DT_DATE'] <= '2023-01-20')]\n",
    "ap_range_3 = ap[(ap['EFF_DT_DATE'] >= '2023-01-21') & (ap['EFF_DT_DATE'] <= '2023-01-30')]\n",
    "ap_range_4 = ap[(ap['EFF_DT_DATE'] >= '2023-01-31') & (ap['EFF_DT_DATE'] <= '2023-01-31')]"
   ]
  },
  {
   "cell_type": "code",
   "execution_count": 15,
   "id": "69470a08",
   "metadata": {},
   "outputs": [
    {
     "data": {
      "text/plain": [
       "(902255, 17)"
      ]
     },
     "execution_count": 15,
     "metadata": {},
     "output_type": "execute_result"
    }
   ],
   "source": [
    "ap_range_1.shape"
   ]
  },
  {
   "cell_type": "code",
   "execution_count": 16,
   "id": "446c3f76",
   "metadata": {},
   "outputs": [
    {
     "data": {
      "text/plain": [
       "(977589, 17)"
      ]
     },
     "execution_count": 16,
     "metadata": {},
     "output_type": "execute_result"
    }
   ],
   "source": [
    "ap_range_2.shape"
   ]
  },
  {
   "cell_type": "code",
   "execution_count": 17,
   "id": "083f37c7",
   "metadata": {},
   "outputs": [
    {
     "data": {
      "text/plain": [
       "(1000326, 17)"
      ]
     },
     "execution_count": 17,
     "metadata": {},
     "output_type": "execute_result"
    }
   ],
   "source": [
    "ap_range_3.shape"
   ]
  },
  {
   "cell_type": "code",
   "execution_count": 18,
   "id": "f4c9b4a5",
   "metadata": {},
   "outputs": [
    {
     "data": {
      "text/plain": [
       "(97606, 17)"
      ]
     },
     "execution_count": 18,
     "metadata": {},
     "output_type": "execute_result"
    }
   ],
   "source": [
    "ap_range_4.shape"
   ]
  },
  {
   "cell_type": "code",
   "execution_count": 19,
   "id": "acebd4f7",
   "metadata": {},
   "outputs": [],
   "source": [
    "ap_sett = ap[(ap['SOURCE_TYPE'] == 'SETT')]\n",
    "ap_topups = ap[(ap['SOURCE_TYPE'] == 'TOPUPS')]\n",
    "ap_disb = ap[(ap['SOURCE_TYPE'] == 'DISB')]\n",
    "ap_loan = ap[(ap['SOURCE_TYPE'] == 'LOAN')]\n",
    "ap_pymt = ap[(ap['SOURCE_TYPE'] == 'PYMT')]\n",
    "ap_risk = ap[(ap['SOURCE_TYPE'] == 'RISK')]"
   ]
  },
  {
   "cell_type": "markdown",
   "id": "9dbfd1fe",
   "metadata": {},
   "source": [
    "# CRUCE_1: DATA AP(SETT) VS. DATA SETTLEMENT MASTER LOG"
   ]
  },
  {
   "cell_type": "code",
   "execution_count": 20,
   "id": "5cde7cd5",
   "metadata": {},
   "outputs": [
    {
     "data": {
      "text/html": [
       "<div>\n",
       "<style scoped>\n",
       "    .dataframe tbody tr th:only-of-type {\n",
       "        vertical-align: middle;\n",
       "    }\n",
       "\n",
       "    .dataframe tbody tr th {\n",
       "        vertical-align: top;\n",
       "    }\n",
       "\n",
       "    .dataframe thead th {\n",
       "        text-align: right;\n",
       "    }\n",
       "</style>\n",
       "<table border=\"1\" class=\"dataframe\">\n",
       "  <thead>\n",
       "    <tr style=\"text-align: right;\">\n",
       "      <th></th>\n",
       "      <th>MERCHANT_ID</th>\n",
       "      <th>AMOUNT</th>\n",
       "      <th>CREATED_AT</th>\n",
       "      <th>CURRENCY</th>\n",
       "      <th>TYPE_REQUEST</th>\n",
       "      <th>EFF_DT</th>\n",
       "      <th>MOVEMENT_DAY</th>\n",
       "      <th>MVNT_ID</th>\n",
       "      <th>MOVEMENT_TYPE</th>\n",
       "      <th>REQUEST_EFFECTIVE_DATE</th>\n",
       "      <th>SLOT_DATE</th>\n",
       "      <th>SOURCE_TYPE</th>\n",
       "      <th>file_name</th>\n",
       "      <th>EFF_DT_DATE</th>\n",
       "      <th>EFF_DT_TIME</th>\n",
       "      <th>IDENTIFIER</th>\n",
       "      <th>INDEX</th>\n",
       "    </tr>\n",
       "  </thead>\n",
       "  <tbody>\n",
       "    <tr>\n",
       "      <th>29</th>\n",
       "      <td>0000d758-84b4-4cb0-a165-4f0d3c44864d</td>\n",
       "      <td>661.19</td>\n",
       "      <td>2023-01-29 20:01:05</td>\n",
       "      <td>MXN</td>\n",
       "      <td>settlement processor regular payment request</td>\n",
       "      <td>2023-01-30 03:00:00</td>\n",
       "      <td>2023-01-29 20:01:05</td>\n",
       "      <td>8e6a8dea-b92d-4e64-a22e-1be970585299</td>\n",
       "      <td>REGULAR_PYMT_RQ</td>\n",
       "      <td>2023-01-30 02:30:00</td>\n",
       "      <td>2023-01-30 03:00:00</td>\n",
       "      <td>SETT</td>\n",
       "      <td>AP-JOURNAL_DATE (2).csv</td>\n",
       "      <td>2023-01-30</td>\n",
       "      <td>03:00:00</td>\n",
       "      <td>S</td>\n",
       "      <td>2023-01-30-S-03:00:00</td>\n",
       "    </tr>\n",
       "    <tr>\n",
       "      <th>30</th>\n",
       "      <td>0000d758-84b4-4cb0-a165-4f0d3c44864d</td>\n",
       "      <td>1,363.57</td>\n",
       "      <td>2023-01-29 21:11:26</td>\n",
       "      <td>MXN</td>\n",
       "      <td>settlement processor regular payment request</td>\n",
       "      <td>2023-01-30 03:00:00</td>\n",
       "      <td>2023-01-29 21:11:26</td>\n",
       "      <td>a2d04702-000e-44d3-8fe3-708a2f5f6b9f</td>\n",
       "      <td>REGULAR_PYMT_RQ</td>\n",
       "      <td>2023-01-30 02:30:00</td>\n",
       "      <td>2023-01-30 03:00:00</td>\n",
       "      <td>SETT</td>\n",
       "      <td>AP-JOURNAL_DATE (2).csv</td>\n",
       "      <td>2023-01-30</td>\n",
       "      <td>03:00:00</td>\n",
       "      <td>S</td>\n",
       "      <td>2023-01-30-S-03:00:00</td>\n",
       "    </tr>\n",
       "    <tr>\n",
       "      <th>25</th>\n",
       "      <td>0000d758-84b4-4cb0-a165-4f0d3c44864d</td>\n",
       "      <td>2,682.97</td>\n",
       "      <td>2023-01-29 15:46:35</td>\n",
       "      <td>MXN</td>\n",
       "      <td>settlement processor regular payment request</td>\n",
       "      <td>2023-01-30 02:00:00</td>\n",
       "      <td>2023-01-29 15:46:35</td>\n",
       "      <td>ec8138f4-6ea4-4bf7-8123-9b67e7f5c9be</td>\n",
       "      <td>REGULAR_PYMT_RQ</td>\n",
       "      <td>2023-01-30 01:30:00</td>\n",
       "      <td>2023-01-30 02:00:00</td>\n",
       "      <td>SETT</td>\n",
       "      <td>AP-JOURNAL_DATE (2).csv</td>\n",
       "      <td>2023-01-30</td>\n",
       "      <td>02:00:00</td>\n",
       "      <td>S</td>\n",
       "      <td>2023-01-30-S-02:00:00</td>\n",
       "    </tr>\n",
       "    <tr>\n",
       "      <th>26</th>\n",
       "      <td>0000d758-84b4-4cb0-a165-4f0d3c44864d</td>\n",
       "      <td>3,974.78</td>\n",
       "      <td>2023-01-29 15:37:27</td>\n",
       "      <td>MXN</td>\n",
       "      <td>settlement processor regular payment request</td>\n",
       "      <td>2023-01-30 02:00:00</td>\n",
       "      <td>2023-01-29 15:37:27</td>\n",
       "      <td>55b49069-5960-4369-a17d-065bf6d7daab</td>\n",
       "      <td>REGULAR_PYMT_RQ</td>\n",
       "      <td>2023-01-30 01:30:00</td>\n",
       "      <td>2023-01-30 02:00:00</td>\n",
       "      <td>SETT</td>\n",
       "      <td>AP-JOURNAL_DATE (2).csv</td>\n",
       "      <td>2023-01-30</td>\n",
       "      <td>02:00:00</td>\n",
       "      <td>S</td>\n",
       "      <td>2023-01-30-S-02:00:00</td>\n",
       "    </tr>\n",
       "    <tr>\n",
       "      <th>27</th>\n",
       "      <td>0000d758-84b4-4cb0-a165-4f0d3c44864d</td>\n",
       "      <td>3,406.54</td>\n",
       "      <td>2023-01-29 13:45:12</td>\n",
       "      <td>MXN</td>\n",
       "      <td>settlement processor regular payment request</td>\n",
       "      <td>2023-01-30 02:00:00</td>\n",
       "      <td>2023-01-29 13:45:12</td>\n",
       "      <td>944d9078-be08-4fd5-9311-3403e71b26b1</td>\n",
       "      <td>REGULAR_PYMT_RQ</td>\n",
       "      <td>2023-01-30 01:30:00</td>\n",
       "      <td>2023-01-30 02:00:00</td>\n",
       "      <td>SETT</td>\n",
       "      <td>AP-JOURNAL_DATE (2).csv</td>\n",
       "      <td>2023-01-30</td>\n",
       "      <td>02:00:00</td>\n",
       "      <td>S</td>\n",
       "      <td>2023-01-30-S-02:00:00</td>\n",
       "    </tr>\n",
       "  </tbody>\n",
       "</table>\n",
       "</div>"
      ],
      "text/plain": [
       "                             MERCHANT_ID   AMOUNT          CREATED_AT  \\\n",
       "29  0000d758-84b4-4cb0-a165-4f0d3c44864d   661.19 2023-01-29 20:01:05   \n",
       "30  0000d758-84b4-4cb0-a165-4f0d3c44864d 1,363.57 2023-01-29 21:11:26   \n",
       "25  0000d758-84b4-4cb0-a165-4f0d3c44864d 2,682.97 2023-01-29 15:46:35   \n",
       "26  0000d758-84b4-4cb0-a165-4f0d3c44864d 3,974.78 2023-01-29 15:37:27   \n",
       "27  0000d758-84b4-4cb0-a165-4f0d3c44864d 3,406.54 2023-01-29 13:45:12   \n",
       "\n",
       "   CURRENCY                                  TYPE_REQUEST              EFF_DT  \\\n",
       "29      MXN  settlement processor regular payment request 2023-01-30 03:00:00   \n",
       "30      MXN  settlement processor regular payment request 2023-01-30 03:00:00   \n",
       "25      MXN  settlement processor regular payment request 2023-01-30 02:00:00   \n",
       "26      MXN  settlement processor regular payment request 2023-01-30 02:00:00   \n",
       "27      MXN  settlement processor regular payment request 2023-01-30 02:00:00   \n",
       "\n",
       "          MOVEMENT_DAY                               MVNT_ID    MOVEMENT_TYPE  \\\n",
       "29 2023-01-29 20:01:05  8e6a8dea-b92d-4e64-a22e-1be970585299  REGULAR_PYMT_RQ   \n",
       "30 2023-01-29 21:11:26  a2d04702-000e-44d3-8fe3-708a2f5f6b9f  REGULAR_PYMT_RQ   \n",
       "25 2023-01-29 15:46:35  ec8138f4-6ea4-4bf7-8123-9b67e7f5c9be  REGULAR_PYMT_RQ   \n",
       "26 2023-01-29 15:37:27  55b49069-5960-4369-a17d-065bf6d7daab  REGULAR_PYMT_RQ   \n",
       "27 2023-01-29 13:45:12  944d9078-be08-4fd5-9311-3403e71b26b1  REGULAR_PYMT_RQ   \n",
       "\n",
       "   REQUEST_EFFECTIVE_DATE           SLOT_DATE SOURCE_TYPE  \\\n",
       "29    2023-01-30 02:30:00 2023-01-30 03:00:00        SETT   \n",
       "30    2023-01-30 02:30:00 2023-01-30 03:00:00        SETT   \n",
       "25    2023-01-30 01:30:00 2023-01-30 02:00:00        SETT   \n",
       "26    2023-01-30 01:30:00 2023-01-30 02:00:00        SETT   \n",
       "27    2023-01-30 01:30:00 2023-01-30 02:00:00        SETT   \n",
       "\n",
       "                  file_name EFF_DT_DATE EFF_DT_TIME IDENTIFIER  \\\n",
       "29  AP-JOURNAL_DATE (2).csv  2023-01-30    03:00:00          S   \n",
       "30  AP-JOURNAL_DATE (2).csv  2023-01-30    03:00:00          S   \n",
       "25  AP-JOURNAL_DATE (2).csv  2023-01-30    02:00:00          S   \n",
       "26  AP-JOURNAL_DATE (2).csv  2023-01-30    02:00:00          S   \n",
       "27  AP-JOURNAL_DATE (2).csv  2023-01-30    02:00:00          S   \n",
       "\n",
       "                    INDEX  \n",
       "29  2023-01-30-S-03:00:00  \n",
       "30  2023-01-30-S-03:00:00  \n",
       "25  2023-01-30-S-02:00:00  \n",
       "26  2023-01-30-S-02:00:00  \n",
       "27  2023-01-30-S-02:00:00  "
      ]
     },
     "execution_count": 20,
     "metadata": {},
     "output_type": "execute_result"
    }
   ],
   "source": [
    "ap_sett.head()"
   ]
  },
  {
   "cell_type": "code",
   "execution_count": 21,
   "id": "97484b76",
   "metadata": {},
   "outputs": [
    {
     "data": {
      "text/plain": [
       "(2320660, 17)"
      ]
     },
     "execution_count": 21,
     "metadata": {},
     "output_type": "execute_result"
    }
   ],
   "source": [
    "ap_sett.shape"
   ]
  },
  {
   "cell_type": "code",
   "execution_count": 22,
   "id": "97623558",
   "metadata": {},
   "outputs": [
    {
     "data": {
      "text/html": [
       "<div>\n",
       "<style scoped>\n",
       "    .dataframe tbody tr th:only-of-type {\n",
       "        vertical-align: middle;\n",
       "    }\n",
       "\n",
       "    .dataframe tbody tr th {\n",
       "        vertical-align: top;\n",
       "    }\n",
       "\n",
       "    .dataframe thead th {\n",
       "        text-align: right;\n",
       "    }\n",
       "</style>\n",
       "<table border=\"1\" class=\"dataframe\">\n",
       "  <thead>\n",
       "    <tr style=\"text-align: right;\">\n",
       "      <th></th>\n",
       "      <th>MERCHANT_ID</th>\n",
       "      <th>AMOUNT</th>\n",
       "      <th>CREATED_AT</th>\n",
       "      <th>CURRENCY</th>\n",
       "      <th>TYPE_REQUEST</th>\n",
       "      <th>EFF_DT</th>\n",
       "      <th>MOVEMENT_DAY</th>\n",
       "      <th>MVNT_ID</th>\n",
       "      <th>MOVEMENT_TYPE</th>\n",
       "      <th>REQUEST_EFFECTIVE_DATE</th>\n",
       "      <th>...</th>\n",
       "      <th>EFF_DT_DATE</th>\n",
       "      <th>EFF_DT_TIME</th>\n",
       "      <th>IDENTIFIER</th>\n",
       "      <th>INDEX</th>\n",
       "      <th>GROSS_AMOUNT</th>\n",
       "      <th>FEES</th>\n",
       "      <th>TAXES</th>\n",
       "      <th>NET_AMOUNT</th>\n",
       "      <th>MDR</th>\n",
       "      <th>MSI</th>\n",
       "    </tr>\n",
       "  </thead>\n",
       "  <tbody>\n",
       "    <tr>\n",
       "      <th>0</th>\n",
       "      <td>0000d758-84b4-4cb0-a165-4f0d3c44864d</td>\n",
       "      <td>661.19</td>\n",
       "      <td>2023-01-29 20:01:05</td>\n",
       "      <td>MXN</td>\n",
       "      <td>settlement processor regular payment request</td>\n",
       "      <td>2023-01-30 03:00:00</td>\n",
       "      <td>2023-01-29 20:01:05</td>\n",
       "      <td>8e6a8dea-b92d-4e64-a22e-1be970585299</td>\n",
       "      <td>REGULAR_PYMT_RQ</td>\n",
       "      <td>2023-01-30 02:30:00</td>\n",
       "      <td>...</td>\n",
       "      <td>2023-01-30</td>\n",
       "      <td>03:00:00</td>\n",
       "      <td>S</td>\n",
       "      <td>2023-01-30-S-03:00:00</td>\n",
       "      <td>690.00</td>\n",
       "      <td>24.84</td>\n",
       "      <td>3.97</td>\n",
       "      <td>661.19</td>\n",
       "      <td>0.04</td>\n",
       "      <td>0.00</td>\n",
       "    </tr>\n",
       "    <tr>\n",
       "      <th>1</th>\n",
       "      <td>0000d758-84b4-4cb0-a165-4f0d3c44864d</td>\n",
       "      <td>1,363.57</td>\n",
       "      <td>2023-01-29 21:11:26</td>\n",
       "      <td>MXN</td>\n",
       "      <td>settlement processor regular payment request</td>\n",
       "      <td>2023-01-30 03:00:00</td>\n",
       "      <td>2023-01-29 21:11:26</td>\n",
       "      <td>a2d04702-000e-44d3-8fe3-708a2f5f6b9f</td>\n",
       "      <td>REGULAR_PYMT_RQ</td>\n",
       "      <td>2023-01-30 02:30:00</td>\n",
       "      <td>...</td>\n",
       "      <td>2023-01-30</td>\n",
       "      <td>03:00:00</td>\n",
       "      <td>S</td>\n",
       "      <td>2023-01-30-S-03:00:00</td>\n",
       "      <td>1,423.00</td>\n",
       "      <td>51.23</td>\n",
       "      <td>8.20</td>\n",
       "      <td>1,363.57</td>\n",
       "      <td>0.04</td>\n",
       "      <td>0.00</td>\n",
       "    </tr>\n",
       "    <tr>\n",
       "      <th>2</th>\n",
       "      <td>0000d758-84b4-4cb0-a165-4f0d3c44864d</td>\n",
       "      <td>2,682.97</td>\n",
       "      <td>2023-01-29 15:46:35</td>\n",
       "      <td>MXN</td>\n",
       "      <td>settlement processor regular payment request</td>\n",
       "      <td>2023-01-30 02:00:00</td>\n",
       "      <td>2023-01-29 15:46:35</td>\n",
       "      <td>ec8138f4-6ea4-4bf7-8123-9b67e7f5c9be</td>\n",
       "      <td>REGULAR_PYMT_RQ</td>\n",
       "      <td>2023-01-30 01:30:00</td>\n",
       "      <td>...</td>\n",
       "      <td>2023-01-30</td>\n",
       "      <td>02:00:00</td>\n",
       "      <td>S</td>\n",
       "      <td>2023-01-30-S-02:00:00</td>\n",
       "      <td>2,799.90</td>\n",
       "      <td>100.80</td>\n",
       "      <td>16.13</td>\n",
       "      <td>2,682.97</td>\n",
       "      <td>0.04</td>\n",
       "      <td>0.00</td>\n",
       "    </tr>\n",
       "    <tr>\n",
       "      <th>3</th>\n",
       "      <td>0000d758-84b4-4cb0-a165-4f0d3c44864d</td>\n",
       "      <td>3,974.78</td>\n",
       "      <td>2023-01-29 15:37:27</td>\n",
       "      <td>MXN</td>\n",
       "      <td>settlement processor regular payment request</td>\n",
       "      <td>2023-01-30 02:00:00</td>\n",
       "      <td>2023-01-29 15:37:27</td>\n",
       "      <td>55b49069-5960-4369-a17d-065bf6d7daab</td>\n",
       "      <td>REGULAR_PYMT_RQ</td>\n",
       "      <td>2023-01-30 01:30:00</td>\n",
       "      <td>...</td>\n",
       "      <td>2023-01-30</td>\n",
       "      <td>02:00:00</td>\n",
       "      <td>S</td>\n",
       "      <td>2023-01-30-S-02:00:00</td>\n",
       "      <td>4,148.00</td>\n",
       "      <td>149.33</td>\n",
       "      <td>23.89</td>\n",
       "      <td>3,974.78</td>\n",
       "      <td>0.04</td>\n",
       "      <td>0.00</td>\n",
       "    </tr>\n",
       "    <tr>\n",
       "      <th>4</th>\n",
       "      <td>0000d758-84b4-4cb0-a165-4f0d3c44864d</td>\n",
       "      <td>3,406.54</td>\n",
       "      <td>2023-01-29 13:45:12</td>\n",
       "      <td>MXN</td>\n",
       "      <td>settlement processor regular payment request</td>\n",
       "      <td>2023-01-30 02:00:00</td>\n",
       "      <td>2023-01-29 13:45:12</td>\n",
       "      <td>944d9078-be08-4fd5-9311-3403e71b26b1</td>\n",
       "      <td>REGULAR_PYMT_RQ</td>\n",
       "      <td>2023-01-30 01:30:00</td>\n",
       "      <td>...</td>\n",
       "      <td>2023-01-30</td>\n",
       "      <td>02:00:00</td>\n",
       "      <td>S</td>\n",
       "      <td>2023-01-30-S-02:00:00</td>\n",
       "      <td>3,555.00</td>\n",
       "      <td>127.98</td>\n",
       "      <td>20.48</td>\n",
       "      <td>3,406.54</td>\n",
       "      <td>0.04</td>\n",
       "      <td>0.00</td>\n",
       "    </tr>\n",
       "  </tbody>\n",
       "</table>\n",
       "<p>5 rows × 23 columns</p>\n",
       "</div>"
      ],
      "text/plain": [
       "                            MERCHANT_ID   AMOUNT          CREATED_AT CURRENCY  \\\n",
       "0  0000d758-84b4-4cb0-a165-4f0d3c44864d   661.19 2023-01-29 20:01:05      MXN   \n",
       "1  0000d758-84b4-4cb0-a165-4f0d3c44864d 1,363.57 2023-01-29 21:11:26      MXN   \n",
       "2  0000d758-84b4-4cb0-a165-4f0d3c44864d 2,682.97 2023-01-29 15:46:35      MXN   \n",
       "3  0000d758-84b4-4cb0-a165-4f0d3c44864d 3,974.78 2023-01-29 15:37:27      MXN   \n",
       "4  0000d758-84b4-4cb0-a165-4f0d3c44864d 3,406.54 2023-01-29 13:45:12      MXN   \n",
       "\n",
       "                                   TYPE_REQUEST              EFF_DT  \\\n",
       "0  settlement processor regular payment request 2023-01-30 03:00:00   \n",
       "1  settlement processor regular payment request 2023-01-30 03:00:00   \n",
       "2  settlement processor regular payment request 2023-01-30 02:00:00   \n",
       "3  settlement processor regular payment request 2023-01-30 02:00:00   \n",
       "4  settlement processor regular payment request 2023-01-30 02:00:00   \n",
       "\n",
       "         MOVEMENT_DAY                               MVNT_ID    MOVEMENT_TYPE  \\\n",
       "0 2023-01-29 20:01:05  8e6a8dea-b92d-4e64-a22e-1be970585299  REGULAR_PYMT_RQ   \n",
       "1 2023-01-29 21:11:26  a2d04702-000e-44d3-8fe3-708a2f5f6b9f  REGULAR_PYMT_RQ   \n",
       "2 2023-01-29 15:46:35  ec8138f4-6ea4-4bf7-8123-9b67e7f5c9be  REGULAR_PYMT_RQ   \n",
       "3 2023-01-29 15:37:27  55b49069-5960-4369-a17d-065bf6d7daab  REGULAR_PYMT_RQ   \n",
       "4 2023-01-29 13:45:12  944d9078-be08-4fd5-9311-3403e71b26b1  REGULAR_PYMT_RQ   \n",
       "\n",
       "  REQUEST_EFFECTIVE_DATE  ... EFF_DT_DATE EFF_DT_TIME IDENTIFIER  \\\n",
       "0    2023-01-30 02:30:00  ...  2023-01-30    03:00:00          S   \n",
       "1    2023-01-30 02:30:00  ...  2023-01-30    03:00:00          S   \n",
       "2    2023-01-30 01:30:00  ...  2023-01-30    02:00:00          S   \n",
       "3    2023-01-30 01:30:00  ...  2023-01-30    02:00:00          S   \n",
       "4    2023-01-30 01:30:00  ...  2023-01-30    02:00:00          S   \n",
       "\n",
       "                   INDEX GROSS_AMOUNT   FEES TAXES  NET_AMOUNT  MDR  MSI  \n",
       "0  2023-01-30-S-03:00:00       690.00  24.84  3.97      661.19 0.04 0.00  \n",
       "1  2023-01-30-S-03:00:00     1,423.00  51.23  8.20    1,363.57 0.04 0.00  \n",
       "2  2023-01-30-S-02:00:00     2,799.90 100.80 16.13    2,682.97 0.04 0.00  \n",
       "3  2023-01-30-S-02:00:00     4,148.00 149.33 23.89    3,974.78 0.04 0.00  \n",
       "4  2023-01-30-S-02:00:00     3,555.00 127.98 20.48    3,406.54 0.04 0.00  \n",
       "\n",
       "[5 rows x 23 columns]"
      ]
     },
     "execution_count": 22,
     "metadata": {},
     "output_type": "execute_result"
    }
   ],
   "source": [
    "cruce_1 = ap_sett.merge(sml_final[['MVNT_ID','GROSS_AMOUNT','FEES','TAXES','NET_AMOUNT','MDR','MSI']],\n",
    "                            on='MVNT_ID',how='left')\n",
    "cruce_1.head()"
   ]
  },
  {
   "cell_type": "code",
   "execution_count": 23,
   "id": "976c9a63",
   "metadata": {},
   "outputs": [
    {
     "data": {
      "text/plain": [
       "(2320660, 23)"
      ]
     },
     "execution_count": 23,
     "metadata": {},
     "output_type": "execute_result"
    }
   ],
   "source": [
    "cruce_1.shape"
   ]
  },
  {
   "cell_type": "code",
   "execution_count": 24,
   "id": "59f28667",
   "metadata": {},
   "outputs": [],
   "source": [
    "cruce_1_range = cruce_1[(cruce_1['EFF_DT_DATE'] >= '2023-01-01') & (cruce_1['EFF_DT_DATE'] <= '2023-01-10')]\n",
    "cruce_2_range = cruce_1[(cruce_1['EFF_DT_DATE'] >= '2023-01-11') & (cruce_1['EFF_DT_DATE'] <= '2023-01-20')]\n",
    "cruce_3_range = cruce_1[(cruce_1['EFF_DT_DATE'] >= '2023-01-21') & (cruce_1['EFF_DT_DATE'] <= '2023-01-31')]"
   ]
  },
  {
   "cell_type": "code",
   "execution_count": 25,
   "id": "50087933",
   "metadata": {},
   "outputs": [
    {
     "data": {
      "text/plain": [
       "(707802, 23)"
      ]
     },
     "execution_count": 25,
     "metadata": {},
     "output_type": "execute_result"
    }
   ],
   "source": [
    "cruce_1_range.shape"
   ]
  },
  {
   "cell_type": "code",
   "execution_count": 26,
   "id": "bfee182d",
   "metadata": {},
   "outputs": [
    {
     "data": {
      "text/plain": [
       "(759263, 23)"
      ]
     },
     "execution_count": 26,
     "metadata": {},
     "output_type": "execute_result"
    }
   ],
   "source": [
    "cruce_2_range.shape"
   ]
  },
  {
   "cell_type": "code",
   "execution_count": 27,
   "id": "24b4ddcb",
   "metadata": {},
   "outputs": [
    {
     "data": {
      "text/plain": [
       "(853595, 23)"
      ]
     },
     "execution_count": 27,
     "metadata": {},
     "output_type": "execute_result"
    }
   ],
   "source": [
    "cruce_3_range.shape"
   ]
  },
  {
   "cell_type": "code",
   "execution_count": 28,
   "id": "60cda870",
   "metadata": {},
   "outputs": [
    {
     "data": {
      "text/html": [
       "<div>\n",
       "<style scoped>\n",
       "    .dataframe tbody tr th:only-of-type {\n",
       "        vertical-align: middle;\n",
       "    }\n",
       "\n",
       "    .dataframe tbody tr th {\n",
       "        vertical-align: top;\n",
       "    }\n",
       "\n",
       "    .dataframe thead th {\n",
       "        text-align: right;\n",
       "    }\n",
       "</style>\n",
       "<table border=\"1\" class=\"dataframe\">\n",
       "  <thead>\n",
       "    <tr style=\"text-align: right;\">\n",
       "      <th></th>\n",
       "      <th>EFF_DT_DATE</th>\n",
       "      <th>MOVEMENT_TYPE</th>\n",
       "      <th>MVNT_ID</th>\n",
       "      <th>GROSS_AMOUNT</th>\n",
       "      <th>FEES</th>\n",
       "      <th>TAXES</th>\n",
       "      <th>NET_AMOUNT</th>\n",
       "      <th>AMOUNT</th>\n",
       "    </tr>\n",
       "  </thead>\n",
       "  <tbody>\n",
       "    <tr>\n",
       "      <th>0</th>\n",
       "      <td>2023-01-01</td>\n",
       "      <td>FAST_PYMT_RQ</td>\n",
       "      <td>3087</td>\n",
       "      <td>1,192,034.63</td>\n",
       "      <td>46,937.57</td>\n",
       "      <td>7,509.89</td>\n",
       "      <td>1,137,587.17</td>\n",
       "      <td>1,137,587.17</td>\n",
       "    </tr>\n",
       "    <tr>\n",
       "      <th>1</th>\n",
       "      <td>2023-01-01</td>\n",
       "      <td>REGULAR_PYMT_RQ</td>\n",
       "      <td>78001</td>\n",
       "      <td>27,754,820.01</td>\n",
       "      <td>1,027,707.90</td>\n",
       "      <td>164,433.52</td>\n",
       "      <td>26,562,678.59</td>\n",
       "      <td>26,562,678.59</td>\n",
       "    </tr>\n",
       "    <tr>\n",
       "      <th>2</th>\n",
       "      <td>2023-01-02</td>\n",
       "      <td>FAST_PYMT_RQ</td>\n",
       "      <td>5019</td>\n",
       "      <td>2,294,690.64</td>\n",
       "      <td>88,801.35</td>\n",
       "      <td>14,208.13</td>\n",
       "      <td>2,191,681.16</td>\n",
       "      <td>2,191,681.16</td>\n",
       "    </tr>\n",
       "    <tr>\n",
       "      <th>3</th>\n",
       "      <td>2023-01-02</td>\n",
       "      <td>REGULAR_PYMT_RQ</td>\n",
       "      <td>33845</td>\n",
       "      <td>12,899,718.17</td>\n",
       "      <td>464,681.87</td>\n",
       "      <td>74,350.01</td>\n",
       "      <td>12,360,686.29</td>\n",
       "      <td>12,360,686.29</td>\n",
       "    </tr>\n",
       "    <tr>\n",
       "      <th>4</th>\n",
       "      <td>2023-01-03</td>\n",
       "      <td>FAST_PYMT_RQ</td>\n",
       "      <td>5653</td>\n",
       "      <td>2,388,346.68</td>\n",
       "      <td>95,150.96</td>\n",
       "      <td>15,224.26</td>\n",
       "      <td>2,277,971.46</td>\n",
       "      <td>2,277,971.46</td>\n",
       "    </tr>\n",
       "  </tbody>\n",
       "</table>\n",
       "</div>"
      ],
      "text/plain": [
       "  EFF_DT_DATE    MOVEMENT_TYPE  MVNT_ID  GROSS_AMOUNT         FEES      TAXES  \\\n",
       "0  2023-01-01     FAST_PYMT_RQ     3087  1,192,034.63    46,937.57   7,509.89   \n",
       "1  2023-01-01  REGULAR_PYMT_RQ    78001 27,754,820.01 1,027,707.90 164,433.52   \n",
       "2  2023-01-02     FAST_PYMT_RQ     5019  2,294,690.64    88,801.35  14,208.13   \n",
       "3  2023-01-02  REGULAR_PYMT_RQ    33845 12,899,718.17   464,681.87  74,350.01   \n",
       "4  2023-01-03     FAST_PYMT_RQ     5653  2,388,346.68    95,150.96  15,224.26   \n",
       "\n",
       "     NET_AMOUNT        AMOUNT  \n",
       "0  1,137,587.17  1,137,587.17  \n",
       "1 26,562,678.59 26,562,678.59  \n",
       "2  2,191,681.16  2,191,681.16  \n",
       "3 12,360,686.29 12,360,686.29  \n",
       "4  2,277,971.46  2,277,971.46  "
      ]
     },
     "execution_count": 28,
     "metadata": {},
     "output_type": "execute_result"
    }
   ],
   "source": [
    "cruce_1_group = cruce_1.groupby(['EFF_DT_DATE','MOVEMENT_TYPE']).agg({'MVNT_ID':'count',\n",
    "                                                                      'GROSS_AMOUNT':sum,\n",
    "                                                                      'FEES':sum,\n",
    "                                                                      'TAXES':sum,\n",
    "                                                                      'NET_AMOUNT':sum,\n",
    "                                                                      'AMOUNT':sum}).reset_index()\n",
    "cruce_1_group.head()"
   ]
  },
  {
   "cell_type": "code",
   "execution_count": 29,
   "id": "7da4da3f",
   "metadata": {},
   "outputs": [
    {
     "data": {
      "text/plain": [
       "(63, 8)"
      ]
     },
     "execution_count": 29,
     "metadata": {},
     "output_type": "execute_result"
    }
   ],
   "source": [
    "cruce_1_group.shape"
   ]
  },
  {
   "cell_type": "markdown",
   "id": "e3d351fa",
   "metadata": {},
   "source": [
    "# CRUCE_2: DATA AP(PYMT) VS. SETTLEMENT MASTER LOG"
   ]
  },
  {
   "cell_type": "code",
   "execution_count": 30,
   "id": "360a3f4f",
   "metadata": {},
   "outputs": [
    {
     "data": {
      "text/html": [
       "<div>\n",
       "<style scoped>\n",
       "    .dataframe tbody tr th:only-of-type {\n",
       "        vertical-align: middle;\n",
       "    }\n",
       "\n",
       "    .dataframe tbody tr th {\n",
       "        vertical-align: top;\n",
       "    }\n",
       "\n",
       "    .dataframe thead th {\n",
       "        text-align: right;\n",
       "    }\n",
       "</style>\n",
       "<table border=\"1\" class=\"dataframe\">\n",
       "  <thead>\n",
       "    <tr style=\"text-align: right;\">\n",
       "      <th></th>\n",
       "      <th>MERCHANT_ID</th>\n",
       "      <th>AMOUNT</th>\n",
       "      <th>CREATED_AT</th>\n",
       "      <th>CURRENCY</th>\n",
       "      <th>TYPE_REQUEST</th>\n",
       "      <th>EFF_DT</th>\n",
       "      <th>MOVEMENT_DAY</th>\n",
       "      <th>MVNT_ID</th>\n",
       "      <th>MOVEMENT_TYPE</th>\n",
       "      <th>REQUEST_EFFECTIVE_DATE</th>\n",
       "      <th>SLOT_DATE</th>\n",
       "      <th>SOURCE_TYPE</th>\n",
       "      <th>file_name</th>\n",
       "      <th>EFF_DT_DATE</th>\n",
       "      <th>EFF_DT_TIME</th>\n",
       "      <th>IDENTIFIER</th>\n",
       "      <th>INDEX</th>\n",
       "    </tr>\n",
       "  </thead>\n",
       "  <tbody>\n",
       "    <tr>\n",
       "      <th>534</th>\n",
       "      <td>00305d8a-7a5f-4c09-ac22-0ed11a028f11</td>\n",
       "      <td>-695.68</td>\n",
       "      <td>2023-01-18 14:32:27</td>\n",
       "      <td>MXN</td>\n",
       "      <td>cancel request</td>\n",
       "      <td>2023-01-18 14:32:32</td>\n",
       "      <td>2023-01-18 14:32:27</td>\n",
       "      <td>dc943294-1a9d-4869-83fa-a79ddf419844</td>\n",
       "      <td>CANCEL_RQ</td>\n",
       "      <td>2023-01-19 01:30:00</td>\n",
       "      <td>1969-12-31 18:00:00</td>\n",
       "      <td>PYMT</td>\n",
       "      <td>AP-JOURNAL_DATE (1).csv</td>\n",
       "      <td>2023-01-18</td>\n",
       "      <td>14:32:32</td>\n",
       "      <td>P</td>\n",
       "      <td>2023-01-18-P-14:32:32</td>\n",
       "    </tr>\n",
       "    <tr>\n",
       "      <th>533</th>\n",
       "      <td>00305d8a-7a5f-4c09-ac22-0ed11a028f11</td>\n",
       "      <td>-695.68</td>\n",
       "      <td>2023-01-18 14:32:00</td>\n",
       "      <td>MXN</td>\n",
       "      <td>cancel request</td>\n",
       "      <td>2023-01-18 14:32:05</td>\n",
       "      <td>2023-01-18 14:32:00</td>\n",
       "      <td>c5a1cf95-ff9a-4cc1-a7a4-311bad1b5ff9</td>\n",
       "      <td>CANCEL_RQ</td>\n",
       "      <td>2023-01-19 01:30:00</td>\n",
       "      <td>1969-12-31 18:00:00</td>\n",
       "      <td>PYMT</td>\n",
       "      <td>AP-JOURNAL_DATE (1).csv</td>\n",
       "      <td>2023-01-18</td>\n",
       "      <td>14:32:05</td>\n",
       "      <td>P</td>\n",
       "      <td>2023-01-18-P-14:32:05</td>\n",
       "    </tr>\n",
       "    <tr>\n",
       "      <th>551</th>\n",
       "      <td>0034ffbb-02e4-4bad-88a3-afc4390fbe4f</td>\n",
       "      <td>-110.20</td>\n",
       "      <td>2023-01-02 10:41:30</td>\n",
       "      <td>MXN</td>\n",
       "      <td>cancel request</td>\n",
       "      <td>2023-01-02 10:41:35</td>\n",
       "      <td>2023-01-02 10:41:30</td>\n",
       "      <td>ac165201-9cdc-4e38-abe7-5b3e53600c40</td>\n",
       "      <td>CANCEL_RQ</td>\n",
       "      <td>2023-01-03 01:00:00</td>\n",
       "      <td>1969-12-31 18:00:00</td>\n",
       "      <td>PYMT</td>\n",
       "      <td>AP-JOURNAL_DATE.csv</td>\n",
       "      <td>2023-01-02</td>\n",
       "      <td>10:41:35</td>\n",
       "      <td>P</td>\n",
       "      <td>2023-01-02-P-10:41:35</td>\n",
       "    </tr>\n",
       "    <tr>\n",
       "      <th>1204</th>\n",
       "      <td>0044d3ee-12be-4e64-8ead-0da88d54d42f</td>\n",
       "      <td>-71.87</td>\n",
       "      <td>2023-01-11 16:09:01</td>\n",
       "      <td>MXN</td>\n",
       "      <td>cancel request</td>\n",
       "      <td>2023-01-11 16:09:06</td>\n",
       "      <td>2023-01-11 16:09:01</td>\n",
       "      <td>680f3b25-3855-4d34-9955-466e8e344e95</td>\n",
       "      <td>CANCEL_RQ</td>\n",
       "      <td>2023-01-12 02:00:00</td>\n",
       "      <td>1969-12-31 18:00:00</td>\n",
       "      <td>PYMT</td>\n",
       "      <td>AP-JOURNAL_DATE (1).csv</td>\n",
       "      <td>2023-01-11</td>\n",
       "      <td>16:09:06</td>\n",
       "      <td>P</td>\n",
       "      <td>2023-01-11-P-16:09:06</td>\n",
       "    </tr>\n",
       "    <tr>\n",
       "      <th>1753</th>\n",
       "      <td>006e4ca1-d992-4f38-a512-8cb4bc6f9e21</td>\n",
       "      <td>-1,341.54</td>\n",
       "      <td>2023-01-11 11:57:42</td>\n",
       "      <td>MXN</td>\n",
       "      <td>cancel request</td>\n",
       "      <td>2023-01-11 11:57:47</td>\n",
       "      <td>2023-01-11 11:57:42</td>\n",
       "      <td>3e1d9e44-4df0-4ded-964b-b1c896d6ab3d</td>\n",
       "      <td>CANCEL_RQ</td>\n",
       "      <td>2023-01-12 01:00:00</td>\n",
       "      <td>1969-12-31 18:00:00</td>\n",
       "      <td>PYMT</td>\n",
       "      <td>AP-JOURNAL_DATE (1).csv</td>\n",
       "      <td>2023-01-11</td>\n",
       "      <td>11:57:47</td>\n",
       "      <td>P</td>\n",
       "      <td>2023-01-11-P-11:57:47</td>\n",
       "    </tr>\n",
       "  </tbody>\n",
       "</table>\n",
       "</div>"
      ],
      "text/plain": [
       "                               MERCHANT_ID    AMOUNT          CREATED_AT  \\\n",
       "534   00305d8a-7a5f-4c09-ac22-0ed11a028f11   -695.68 2023-01-18 14:32:27   \n",
       "533   00305d8a-7a5f-4c09-ac22-0ed11a028f11   -695.68 2023-01-18 14:32:00   \n",
       "551   0034ffbb-02e4-4bad-88a3-afc4390fbe4f   -110.20 2023-01-02 10:41:30   \n",
       "1204  0044d3ee-12be-4e64-8ead-0da88d54d42f    -71.87 2023-01-11 16:09:01   \n",
       "1753  006e4ca1-d992-4f38-a512-8cb4bc6f9e21 -1,341.54 2023-01-11 11:57:42   \n",
       "\n",
       "     CURRENCY    TYPE_REQUEST              EFF_DT        MOVEMENT_DAY  \\\n",
       "534       MXN  cancel request 2023-01-18 14:32:32 2023-01-18 14:32:27   \n",
       "533       MXN  cancel request 2023-01-18 14:32:05 2023-01-18 14:32:00   \n",
       "551       MXN  cancel request 2023-01-02 10:41:35 2023-01-02 10:41:30   \n",
       "1204      MXN  cancel request 2023-01-11 16:09:06 2023-01-11 16:09:01   \n",
       "1753      MXN  cancel request 2023-01-11 11:57:47 2023-01-11 11:57:42   \n",
       "\n",
       "                                   MVNT_ID MOVEMENT_TYPE  \\\n",
       "534   dc943294-1a9d-4869-83fa-a79ddf419844     CANCEL_RQ   \n",
       "533   c5a1cf95-ff9a-4cc1-a7a4-311bad1b5ff9     CANCEL_RQ   \n",
       "551   ac165201-9cdc-4e38-abe7-5b3e53600c40     CANCEL_RQ   \n",
       "1204  680f3b25-3855-4d34-9955-466e8e344e95     CANCEL_RQ   \n",
       "1753  3e1d9e44-4df0-4ded-964b-b1c896d6ab3d     CANCEL_RQ   \n",
       "\n",
       "     REQUEST_EFFECTIVE_DATE           SLOT_DATE SOURCE_TYPE  \\\n",
       "534     2023-01-19 01:30:00 1969-12-31 18:00:00        PYMT   \n",
       "533     2023-01-19 01:30:00 1969-12-31 18:00:00        PYMT   \n",
       "551     2023-01-03 01:00:00 1969-12-31 18:00:00        PYMT   \n",
       "1204    2023-01-12 02:00:00 1969-12-31 18:00:00        PYMT   \n",
       "1753    2023-01-12 01:00:00 1969-12-31 18:00:00        PYMT   \n",
       "\n",
       "                    file_name EFF_DT_DATE EFF_DT_TIME IDENTIFIER  \\\n",
       "534   AP-JOURNAL_DATE (1).csv  2023-01-18    14:32:32          P   \n",
       "533   AP-JOURNAL_DATE (1).csv  2023-01-18    14:32:05          P   \n",
       "551       AP-JOURNAL_DATE.csv  2023-01-02    10:41:35          P   \n",
       "1204  AP-JOURNAL_DATE (1).csv  2023-01-11    16:09:06          P   \n",
       "1753  AP-JOURNAL_DATE (1).csv  2023-01-11    11:57:47          P   \n",
       "\n",
       "                      INDEX  \n",
       "534   2023-01-18-P-14:32:32  \n",
       "533   2023-01-18-P-14:32:05  \n",
       "551   2023-01-02-P-10:41:35  \n",
       "1204  2023-01-11-P-16:09:06  \n",
       "1753  2023-01-11-P-11:57:47  "
      ]
     },
     "execution_count": 30,
     "metadata": {},
     "output_type": "execute_result"
    }
   ],
   "source": [
    "ap_pymt.head()"
   ]
  },
  {
   "cell_type": "code",
   "execution_count": 31,
   "id": "4283dee3",
   "metadata": {},
   "outputs": [
    {
     "data": {
      "text/plain": [
       "(2685, 17)"
      ]
     },
     "execution_count": 31,
     "metadata": {},
     "output_type": "execute_result"
    }
   ],
   "source": [
    "ap_pymt.shape"
   ]
  },
  {
   "cell_type": "code",
   "execution_count": 32,
   "id": "62ae225f",
   "metadata": {},
   "outputs": [
    {
     "data": {
      "text/html": [
       "<div>\n",
       "<style scoped>\n",
       "    .dataframe tbody tr th:only-of-type {\n",
       "        vertical-align: middle;\n",
       "    }\n",
       "\n",
       "    .dataframe tbody tr th {\n",
       "        vertical-align: top;\n",
       "    }\n",
       "\n",
       "    .dataframe thead th {\n",
       "        text-align: right;\n",
       "    }\n",
       "</style>\n",
       "<table border=\"1\" class=\"dataframe\">\n",
       "  <thead>\n",
       "    <tr style=\"text-align: right;\">\n",
       "      <th></th>\n",
       "      <th>MERCHANT_ID</th>\n",
       "      <th>AMOUNT</th>\n",
       "      <th>CREATED_AT</th>\n",
       "      <th>CURRENCY</th>\n",
       "      <th>TYPE_REQUEST</th>\n",
       "      <th>EFF_DT</th>\n",
       "      <th>MOVEMENT_DAY</th>\n",
       "      <th>MVNT_ID</th>\n",
       "      <th>MOVEMENT_TYPE</th>\n",
       "      <th>REQUEST_EFFECTIVE_DATE</th>\n",
       "      <th>...</th>\n",
       "      <th>EFF_DT_DATE</th>\n",
       "      <th>EFF_DT_TIME</th>\n",
       "      <th>IDENTIFIER</th>\n",
       "      <th>INDEX</th>\n",
       "      <th>GROSS_AMOUNT</th>\n",
       "      <th>FEES</th>\n",
       "      <th>TAXES</th>\n",
       "      <th>NET_AMOUNT</th>\n",
       "      <th>MDR</th>\n",
       "      <th>MSI</th>\n",
       "    </tr>\n",
       "  </thead>\n",
       "  <tbody>\n",
       "    <tr>\n",
       "      <th>0</th>\n",
       "      <td>00305d8a-7a5f-4c09-ac22-0ed11a028f11</td>\n",
       "      <td>-695.68</td>\n",
       "      <td>2023-01-18 14:32:27</td>\n",
       "      <td>MXN</td>\n",
       "      <td>cancel request</td>\n",
       "      <td>2023-01-18 14:32:32</td>\n",
       "      <td>2023-01-18 14:32:27</td>\n",
       "      <td>dc943294-1a9d-4869-83fa-a79ddf419844</td>\n",
       "      <td>CANCEL_RQ</td>\n",
       "      <td>2023-01-19 01:30:00</td>\n",
       "      <td>...</td>\n",
       "      <td>2023-01-18</td>\n",
       "      <td>14:32:32</td>\n",
       "      <td>P</td>\n",
       "      <td>2023-01-18-P-14:32:32</td>\n",
       "      <td>726.00</td>\n",
       "      <td>26.14</td>\n",
       "      <td>4.18</td>\n",
       "      <td>695.68</td>\n",
       "      <td>0.04</td>\n",
       "      <td>0.00</td>\n",
       "    </tr>\n",
       "    <tr>\n",
       "      <th>1</th>\n",
       "      <td>00305d8a-7a5f-4c09-ac22-0ed11a028f11</td>\n",
       "      <td>-695.68</td>\n",
       "      <td>2023-01-18 14:32:00</td>\n",
       "      <td>MXN</td>\n",
       "      <td>cancel request</td>\n",
       "      <td>2023-01-18 14:32:05</td>\n",
       "      <td>2023-01-18 14:32:00</td>\n",
       "      <td>c5a1cf95-ff9a-4cc1-a7a4-311bad1b5ff9</td>\n",
       "      <td>CANCEL_RQ</td>\n",
       "      <td>2023-01-19 01:30:00</td>\n",
       "      <td>...</td>\n",
       "      <td>2023-01-18</td>\n",
       "      <td>14:32:05</td>\n",
       "      <td>P</td>\n",
       "      <td>2023-01-18-P-14:32:05</td>\n",
       "      <td>726.00</td>\n",
       "      <td>26.14</td>\n",
       "      <td>4.18</td>\n",
       "      <td>695.68</td>\n",
       "      <td>0.04</td>\n",
       "      <td>0.00</td>\n",
       "    </tr>\n",
       "    <tr>\n",
       "      <th>2</th>\n",
       "      <td>0034ffbb-02e4-4bad-88a3-afc4390fbe4f</td>\n",
       "      <td>-110.20</td>\n",
       "      <td>2023-01-02 10:41:30</td>\n",
       "      <td>MXN</td>\n",
       "      <td>cancel request</td>\n",
       "      <td>2023-01-02 10:41:35</td>\n",
       "      <td>2023-01-02 10:41:30</td>\n",
       "      <td>ac165201-9cdc-4e38-abe7-5b3e53600c40</td>\n",
       "      <td>CANCEL_RQ</td>\n",
       "      <td>2023-01-03 01:00:00</td>\n",
       "      <td>...</td>\n",
       "      <td>2023-01-02</td>\n",
       "      <td>10:41:35</td>\n",
       "      <td>P</td>\n",
       "      <td>2023-01-02-P-10:41:35</td>\n",
       "      <td>115.00</td>\n",
       "      <td>4.14</td>\n",
       "      <td>0.66</td>\n",
       "      <td>110.20</td>\n",
       "      <td>0.04</td>\n",
       "      <td>0.00</td>\n",
       "    </tr>\n",
       "    <tr>\n",
       "      <th>3</th>\n",
       "      <td>0044d3ee-12be-4e64-8ead-0da88d54d42f</td>\n",
       "      <td>-71.87</td>\n",
       "      <td>2023-01-11 16:09:01</td>\n",
       "      <td>MXN</td>\n",
       "      <td>cancel request</td>\n",
       "      <td>2023-01-11 16:09:06</td>\n",
       "      <td>2023-01-11 16:09:01</td>\n",
       "      <td>680f3b25-3855-4d34-9955-466e8e344e95</td>\n",
       "      <td>CANCEL_RQ</td>\n",
       "      <td>2023-01-12 02:00:00</td>\n",
       "      <td>...</td>\n",
       "      <td>2023-01-11</td>\n",
       "      <td>16:09:06</td>\n",
       "      <td>P</td>\n",
       "      <td>2023-01-11-P-16:09:06</td>\n",
       "      <td>75.00</td>\n",
       "      <td>2.70</td>\n",
       "      <td>0.43</td>\n",
       "      <td>71.87</td>\n",
       "      <td>0.04</td>\n",
       "      <td>0.00</td>\n",
       "    </tr>\n",
       "    <tr>\n",
       "      <th>4</th>\n",
       "      <td>006e4ca1-d992-4f38-a512-8cb4bc6f9e21</td>\n",
       "      <td>-1,341.54</td>\n",
       "      <td>2023-01-11 11:57:42</td>\n",
       "      <td>MXN</td>\n",
       "      <td>cancel request</td>\n",
       "      <td>2023-01-11 11:57:47</td>\n",
       "      <td>2023-01-11 11:57:42</td>\n",
       "      <td>3e1d9e44-4df0-4ded-964b-b1c896d6ab3d</td>\n",
       "      <td>CANCEL_RQ</td>\n",
       "      <td>2023-01-12 01:00:00</td>\n",
       "      <td>...</td>\n",
       "      <td>2023-01-11</td>\n",
       "      <td>11:57:47</td>\n",
       "      <td>P</td>\n",
       "      <td>2023-01-11-P-11:57:47</td>\n",
       "      <td>1,400.00</td>\n",
       "      <td>50.40</td>\n",
       "      <td>8.06</td>\n",
       "      <td>1,341.54</td>\n",
       "      <td>0.04</td>\n",
       "      <td>0.00</td>\n",
       "    </tr>\n",
       "  </tbody>\n",
       "</table>\n",
       "<p>5 rows × 23 columns</p>\n",
       "</div>"
      ],
      "text/plain": [
       "                            MERCHANT_ID    AMOUNT          CREATED_AT  \\\n",
       "0  00305d8a-7a5f-4c09-ac22-0ed11a028f11   -695.68 2023-01-18 14:32:27   \n",
       "1  00305d8a-7a5f-4c09-ac22-0ed11a028f11   -695.68 2023-01-18 14:32:00   \n",
       "2  0034ffbb-02e4-4bad-88a3-afc4390fbe4f   -110.20 2023-01-02 10:41:30   \n",
       "3  0044d3ee-12be-4e64-8ead-0da88d54d42f    -71.87 2023-01-11 16:09:01   \n",
       "4  006e4ca1-d992-4f38-a512-8cb4bc6f9e21 -1,341.54 2023-01-11 11:57:42   \n",
       "\n",
       "  CURRENCY    TYPE_REQUEST              EFF_DT        MOVEMENT_DAY  \\\n",
       "0      MXN  cancel request 2023-01-18 14:32:32 2023-01-18 14:32:27   \n",
       "1      MXN  cancel request 2023-01-18 14:32:05 2023-01-18 14:32:00   \n",
       "2      MXN  cancel request 2023-01-02 10:41:35 2023-01-02 10:41:30   \n",
       "3      MXN  cancel request 2023-01-11 16:09:06 2023-01-11 16:09:01   \n",
       "4      MXN  cancel request 2023-01-11 11:57:47 2023-01-11 11:57:42   \n",
       "\n",
       "                                MVNT_ID MOVEMENT_TYPE REQUEST_EFFECTIVE_DATE  \\\n",
       "0  dc943294-1a9d-4869-83fa-a79ddf419844     CANCEL_RQ    2023-01-19 01:30:00   \n",
       "1  c5a1cf95-ff9a-4cc1-a7a4-311bad1b5ff9     CANCEL_RQ    2023-01-19 01:30:00   \n",
       "2  ac165201-9cdc-4e38-abe7-5b3e53600c40     CANCEL_RQ    2023-01-03 01:00:00   \n",
       "3  680f3b25-3855-4d34-9955-466e8e344e95     CANCEL_RQ    2023-01-12 02:00:00   \n",
       "4  3e1d9e44-4df0-4ded-964b-b1c896d6ab3d     CANCEL_RQ    2023-01-12 01:00:00   \n",
       "\n",
       "   ... EFF_DT_DATE EFF_DT_TIME IDENTIFIER                  INDEX GROSS_AMOUNT  \\\n",
       "0  ...  2023-01-18    14:32:32          P  2023-01-18-P-14:32:32       726.00   \n",
       "1  ...  2023-01-18    14:32:05          P  2023-01-18-P-14:32:05       726.00   \n",
       "2  ...  2023-01-02    10:41:35          P  2023-01-02-P-10:41:35       115.00   \n",
       "3  ...  2023-01-11    16:09:06          P  2023-01-11-P-16:09:06        75.00   \n",
       "4  ...  2023-01-11    11:57:47          P  2023-01-11-P-11:57:47     1,400.00   \n",
       "\n",
       "   FEES TAXES  NET_AMOUNT  MDR  MSI  \n",
       "0 26.14  4.18      695.68 0.04 0.00  \n",
       "1 26.14  4.18      695.68 0.04 0.00  \n",
       "2  4.14  0.66      110.20 0.04 0.00  \n",
       "3  2.70  0.43       71.87 0.04 0.00  \n",
       "4 50.40  8.06    1,341.54 0.04 0.00  \n",
       "\n",
       "[5 rows x 23 columns]"
      ]
     },
     "execution_count": 32,
     "metadata": {},
     "output_type": "execute_result"
    }
   ],
   "source": [
    "cruce_2 = ap_pymt.merge(sml_final[['MVNT_ID','GROSS_AMOUNT','FEES','TAXES','NET_AMOUNT','MDR','MSI']],\n",
    "                            on='MVNT_ID',how='left')\n",
    "cruce_2.head()"
   ]
  },
  {
   "cell_type": "code",
   "execution_count": 33,
   "id": "d670204d",
   "metadata": {},
   "outputs": [
    {
     "data": {
      "text/plain": [
       "(2685, 23)"
      ]
     },
     "execution_count": 33,
     "metadata": {},
     "output_type": "execute_result"
    }
   ],
   "source": [
    "cruce_2.shape"
   ]
  },
  {
   "cell_type": "code",
   "execution_count": 38,
   "id": "8f4716b1",
   "metadata": {},
   "outputs": [],
   "source": [
    "cruce_2.to_excel('Cancelaciones_detalle_enero_2023_v2.xlsx',index=False)"
   ]
  },
  {
   "cell_type": "code",
   "execution_count": 34,
   "id": "ae8e1778",
   "metadata": {},
   "outputs": [
    {
     "data": {
      "text/html": [
       "<div>\n",
       "<style scoped>\n",
       "    .dataframe tbody tr th:only-of-type {\n",
       "        vertical-align: middle;\n",
       "    }\n",
       "\n",
       "    .dataframe tbody tr th {\n",
       "        vertical-align: top;\n",
       "    }\n",
       "\n",
       "    .dataframe thead th {\n",
       "        text-align: right;\n",
       "    }\n",
       "</style>\n",
       "<table border=\"1\" class=\"dataframe\">\n",
       "  <thead>\n",
       "    <tr style=\"text-align: right;\">\n",
       "      <th></th>\n",
       "      <th>EFF_DT_DATE</th>\n",
       "      <th>MVNT_ID</th>\n",
       "      <th>GROSS_AMOUNT</th>\n",
       "      <th>FEES</th>\n",
       "      <th>TAXES</th>\n",
       "      <th>NET_AMOUNT</th>\n",
       "      <th>AMOUNT</th>\n",
       "    </tr>\n",
       "  </thead>\n",
       "  <tbody>\n",
       "    <tr>\n",
       "      <th>0</th>\n",
       "      <td>2023-01-01</td>\n",
       "      <td>44</td>\n",
       "      <td>27,020.44</td>\n",
       "      <td>954.27</td>\n",
       "      <td>152.70</td>\n",
       "      <td>25,913.47</td>\n",
       "      <td>-25,913.47</td>\n",
       "    </tr>\n",
       "    <tr>\n",
       "      <th>1</th>\n",
       "      <td>2023-01-02</td>\n",
       "      <td>112</td>\n",
       "      <td>53,986.42</td>\n",
       "      <td>1,942.88</td>\n",
       "      <td>310.84</td>\n",
       "      <td>51,732.70</td>\n",
       "      <td>-51,732.70</td>\n",
       "    </tr>\n",
       "    <tr>\n",
       "      <th>2</th>\n",
       "      <td>2023-01-03</td>\n",
       "      <td>90</td>\n",
       "      <td>36,389.88</td>\n",
       "      <td>1,306.92</td>\n",
       "      <td>209.07</td>\n",
       "      <td>34,873.89</td>\n",
       "      <td>-34,873.89</td>\n",
       "    </tr>\n",
       "    <tr>\n",
       "      <th>3</th>\n",
       "      <td>2023-01-04</td>\n",
       "      <td>85</td>\n",
       "      <td>99,641.82</td>\n",
       "      <td>3,995.45</td>\n",
       "      <td>639.30</td>\n",
       "      <td>95,007.07</td>\n",
       "      <td>-95,007.07</td>\n",
       "    </tr>\n",
       "    <tr>\n",
       "      <th>4</th>\n",
       "      <td>2023-01-05</td>\n",
       "      <td>99</td>\n",
       "      <td>59,866.14</td>\n",
       "      <td>2,232.18</td>\n",
       "      <td>357.20</td>\n",
       "      <td>57,276.76</td>\n",
       "      <td>-57,276.76</td>\n",
       "    </tr>\n",
       "  </tbody>\n",
       "</table>\n",
       "</div>"
      ],
      "text/plain": [
       "  EFF_DT_DATE  MVNT_ID  GROSS_AMOUNT     FEES  TAXES  NET_AMOUNT     AMOUNT\n",
       "0  2023-01-01       44     27,020.44   954.27 152.70   25,913.47 -25,913.47\n",
       "1  2023-01-02      112     53,986.42 1,942.88 310.84   51,732.70 -51,732.70\n",
       "2  2023-01-03       90     36,389.88 1,306.92 209.07   34,873.89 -34,873.89\n",
       "3  2023-01-04       85     99,641.82 3,995.45 639.30   95,007.07 -95,007.07\n",
       "4  2023-01-05       99     59,866.14 2,232.18 357.20   57,276.76 -57,276.76"
      ]
     },
     "execution_count": 34,
     "metadata": {},
     "output_type": "execute_result"
    }
   ],
   "source": [
    "cruce_2_group = cruce_2.groupby(['EFF_DT_DATE']).agg({'MVNT_ID':'count',\n",
    "                                                 'GROSS_AMOUNT':sum,\n",
    "                                                 'FEES':sum,\n",
    "                                                 'TAXES':sum,\n",
    "                                                 'NET_AMOUNT':sum,\n",
    "                                                 'AMOUNT':sum}).reset_index()\n",
    "cruce_2_group.head()"
   ]
  },
  {
   "cell_type": "code",
   "execution_count": 35,
   "id": "e0408761",
   "metadata": {},
   "outputs": [
    {
     "data": {
      "text/plain": [
       "(31, 7)"
      ]
     },
     "execution_count": 35,
     "metadata": {},
     "output_type": "execute_result"
    }
   ],
   "source": [
    "cruce_2_group.shape"
   ]
  },
  {
   "cell_type": "code",
   "execution_count": 36,
   "id": "dc61d9b5",
   "metadata": {},
   "outputs": [],
   "source": [
    "cruce_2_group.to_excel('Cancelaciones_enero_2023_v2.xlsx')"
   ]
  },
  {
   "cell_type": "markdown",
   "id": "1dfa318d",
   "metadata": {},
   "source": [
    "# PIVOTS AP JOURNAL"
   ]
  },
  {
   "cell_type": "markdown",
   "id": "1b2c6c2e",
   "metadata": {},
   "source": [
    "### TOPUPS"
   ]
  },
  {
   "cell_type": "code",
   "execution_count": null,
   "id": "7b4fe220",
   "metadata": {},
   "outputs": [],
   "source": [
    "ap_topups['TOPUPS_LEDGER'] = ap_topups['AMOUNT'] / 1.16\n",
    "ap_topups['IVA_TOPUPS_LEDGER'] = ap_topups['TOPUPS_LEDGER'] * 0.16\n",
    "ap_topups.head()"
   ]
  },
  {
   "cell_type": "code",
   "execution_count": null,
   "id": "e72f5438",
   "metadata": {},
   "outputs": [],
   "source": [
    "ap_topups.shape"
   ]
  },
  {
   "cell_type": "code",
   "execution_count": null,
   "id": "7571ca7f",
   "metadata": {},
   "outputs": [],
   "source": [
    "ap_topups_group = ap_topups.groupby(['EFF_DT_DATE']).agg({'MVNT_ID':'count',\n",
    "                                                     'TOPUPS_LEDGER':sum,\n",
    "                                                     'IVA_TOPUPS_LEDGER':sum,\n",
    "                                                     'AMOUNT':sum}).reset_index()\n",
    "ap_topups_group.head()"
   ]
  },
  {
   "cell_type": "code",
   "execution_count": null,
   "id": "4ad86066",
   "metadata": {},
   "outputs": [],
   "source": [
    "ap_topups_group.shape"
   ]
  },
  {
   "cell_type": "markdown",
   "id": "d2b75027",
   "metadata": {},
   "source": [
    "### LOANS"
   ]
  },
  {
   "cell_type": "code",
   "execution_count": null,
   "id": "805e3fd8",
   "metadata": {},
   "outputs": [],
   "source": [
    "ap_loan.head()"
   ]
  },
  {
   "cell_type": "code",
   "execution_count": null,
   "id": "cb14b6da",
   "metadata": {},
   "outputs": [],
   "source": [
    "ap_loan.shape"
   ]
  },
  {
   "cell_type": "code",
   "execution_count": null,
   "id": "1d2fd2bb",
   "metadata": {},
   "outputs": [],
   "source": [
    "ap_loan_group = ap_loan.groupby(['EFF_DT_DATE']).agg({'MVNT_ID':'count',\n",
    "                                                     'AMOUNT':sum}).reset_index()\n",
    "ap_loan_group.head()"
   ]
  },
  {
   "cell_type": "code",
   "execution_count": null,
   "id": "15f295be",
   "metadata": {},
   "outputs": [],
   "source": [
    "ap_loan_group.shape"
   ]
  },
  {
   "cell_type": "markdown",
   "id": "ff4fa18a",
   "metadata": {},
   "source": [
    "### RIESGO "
   ]
  },
  {
   "cell_type": "code",
   "execution_count": null,
   "id": "f8743b64",
   "metadata": {},
   "outputs": [],
   "source": [
    "ap_risk.head()"
   ]
  },
  {
   "cell_type": "code",
   "execution_count": null,
   "id": "5d4096af",
   "metadata": {},
   "outputs": [],
   "source": [
    "ap_risk.shape"
   ]
  },
  {
   "cell_type": "code",
   "execution_count": null,
   "id": "8a7b008d",
   "metadata": {},
   "outputs": [],
   "source": [
    "ap_risk['MOVEMENT_TYPE'].unique()"
   ]
  },
  {
   "cell_type": "code",
   "execution_count": null,
   "id": "d2962a95",
   "metadata": {},
   "outputs": [],
   "source": [
    "ap_risk_group = pd.pivot_table(ap_risk,index=['EFF_DT_DATE'],\n",
    "                                  columns=['MOVEMENT_TYPE'],\n",
    "                                  values=['MVNT_ID','AMOUNT']\n",
    "                                  ,aggfunc = ['sum'],margins=True).reset_index()\n",
    "ap_risk_group.fillna(0,inplace=True)\n",
    "#ap_risk_group.drop(columns=['B', 'C'])\n",
    "ap_risk_group.head()"
   ]
  },
  {
   "cell_type": "code",
   "execution_count": null,
   "id": "96fb6a96",
   "metadata": {},
   "outputs": [],
   "source": [
    "ap_risk_group.shape"
   ]
  },
  {
   "cell_type": "markdown",
   "id": "4e4040f9",
   "metadata": {},
   "source": [
    "### DISBURSEMENT"
   ]
  },
  {
   "cell_type": "code",
   "execution_count": null,
   "id": "643939bd",
   "metadata": {},
   "outputs": [],
   "source": [
    "ap_disb.head()"
   ]
  },
  {
   "cell_type": "code",
   "execution_count": null,
   "id": "8fdec47f",
   "metadata": {},
   "outputs": [],
   "source": [
    "ap_disb.shape"
   ]
  },
  {
   "cell_type": "code",
   "execution_count": null,
   "id": "1f9aa63f",
   "metadata": {},
   "outputs": [],
   "source": [
    "ap_disb_group = ap_disb.groupby(['EFF_DT_DATE','MOVEMENT_TYPE']).agg({'MVNT_ID':'count',\n",
    "                                                     'AMOUNT':sum}).reset_index()\n",
    "ap_disb_group.head()"
   ]
  },
  {
   "cell_type": "code",
   "execution_count": null,
   "id": "d8cdda98",
   "metadata": {},
   "outputs": [],
   "source": [
    "ap_disb_group.shape"
   ]
  },
  {
   "cell_type": "markdown",
   "id": "8a8b8212",
   "metadata": {},
   "source": [
    "# EXCEL PIVOT DYNAMO"
   ]
  },
  {
   "cell_type": "code",
   "execution_count": null,
   "id": "7ed96783",
   "metadata": {},
   "outputs": [],
   "source": [
    "writer = pd.ExcelWriter('AGRUPACION-FECHA DYNAMO ENERO 2023.xlsx',\n",
    "                        engine='xlsxwriter',\n",
    "                        engine_kwargs={'options': {'encoding':'utf-8'}})\n",
    "cruce_1_group.to_excel(writer, sheet_name='SETT',index=False)\n",
    "ap_topups_group.to_excel(writer, sheet_name='TOPUPS',index=False)\n",
    "ap_disb_group.to_excel(writer, sheet_name='DISB',index=False)\n",
    "ap_loan_group.to_excel(writer, sheet_name='LOANS',index=False)\n",
    "cruce_2_group.to_excel(writer, sheet_name='PYMT',index=False)\n",
    "ap_risk_group.to_excel(writer, sheet_name='RISK')\n",
    "writer.close()"
   ]
  },
  {
   "cell_type": "markdown",
   "id": "4efa32bd",
   "metadata": {},
   "source": [
    "# EXCEL AP-JOURNAL"
   ]
  },
  {
   "cell_type": "code",
   "execution_count": null,
   "id": "cca4224f",
   "metadata": {},
   "outputs": [],
   "source": [
    "writer = pd.ExcelWriter('DETALLE AP-JOURNAL ENERO 2023.xlsx',\n",
    "                        engine='xlsxwriter',\n",
    "                        engine_kwargs={'options': {'encoding':'utf-8'}})\n",
    "ap_range_1.to_excel(writer, sheet_name='2023.01.01 - 2023.01.10',index=False)\n",
    "ap_range_2.to_excel(writer, sheet_name='2023.01.11 - 2023.01.20',index=False)\n",
    "ap_range_3.to_excel(writer, sheet_name='2023.01.21 - 2023.01.30',index=False)\n",
    "ap_range_4.to_excel(writer, sheet_name='2023.01.31',index=False)\n",
    "writer.close()"
   ]
  },
  {
   "cell_type": "markdown",
   "id": "ec0a40f0",
   "metadata": {},
   "source": [
    "# EXCEL DETALLE DYNAMO"
   ]
  },
  {
   "cell_type": "code",
   "execution_count": null,
   "id": "7debfecd",
   "metadata": {},
   "outputs": [],
   "source": [
    "writer = pd.ExcelWriter('DETALLE DYNAMO ENERO 2023.xlsx',\n",
    "                        engine='xlsxwriter',\n",
    "                        engine_kwargs={'options': {'encoding':'utf-8'}})\n",
    "cruce_1_range.to_excel(writer, sheet_name='SETT_1',index=False)\n",
    "cruce_2_range.to_excel(writer, sheet_name='SETT_2',index=False)\n",
    "cruce_3_range.to_excel(writer, sheet_name='SETT_3',index=False)\n",
    "ap_topups.to_excel(writer, sheet_name='TOPUPS',index=False)\n",
    "ap_disb.to_excel(writer, sheet_name='DISB',index=False)\n",
    "ap_loan.to_excel(writer, sheet_name='LOANS',index=False)\n",
    "cruce_2.to_excel(writer, sheet_name='PYMT',index=False)\n",
    "ap_risk.to_excel(writer, sheet_name='RISK',index=False)\n",
    "writer.close()"
   ]
  },
  {
   "cell_type": "code",
   "execution_count": null,
   "id": "a3b7f8be",
   "metadata": {},
   "outputs": [],
   "source": []
  }
 ],
 "metadata": {
  "kernelspec": {
   "display_name": "Python 3 (ipykernel)",
   "language": "python",
   "name": "python3"
  },
  "language_info": {
   "codemirror_mode": {
    "name": "ipython",
    "version": 3
   },
   "file_extension": ".py",
   "mimetype": "text/x-python",
   "name": "python",
   "nbconvert_exporter": "python",
   "pygments_lexer": "ipython3",
   "version": "3.9.13"
  }
 },
 "nbformat": 4,
 "nbformat_minor": 5
}
