{
 "cells": [
  {
   "cell_type": "code",
   "execution_count": 1,
   "metadata": {},
   "outputs": [
    {
     "data": {
      "text/plain": [
       "datetime.timedelta(days=1)"
      ]
     },
     "execution_count": 1,
     "metadata": {},
     "output_type": "execute_result"
    }
   ],
   "source": [
    "import pandas as pd\n",
    "import numpy as np\n",
    "from openpyxl import load_workbook\n",
    "import glob\n",
    "import os\n",
    "import datetime\n",
    "pd.options.display.float_format = '{:,.2f}'.format\n",
    "datetime.timedelta(days=1)\n",
    "datetime.timedelta(1)"
   ]
  },
  {
   "cell_type": "code",
   "execution_count": 2,
   "metadata": {},
   "outputs": [
    {
     "data": {
      "text/plain": [
       "['C:\\\\Users\\\\Cristian.Aparicio\\\\Documents\\\\POLIZAS\\\\2023\\\\04. ABRIL\\\\DATA\\\\ADJUSTMENTS ABRIL 2023.csv']"
      ]
     },
     "execution_count": 2,
     "metadata": {},
     "output_type": "execute_result"
    }
   ],
   "source": [
    "allfiles_adj = glob.glob(r'C:\\Users\\Cristian.Aparicio\\Documents\\POLIZAS\\2023\\04. ABRIL\\DATA\\ADJ*.csv', recursive=False)\n",
    "allfiles_adj"
   ]
  },
  {
   "cell_type": "code",
   "execution_count": 3,
   "metadata": {},
   "outputs": [
    {
     "data": {
      "text/plain": [
       "['C:\\\\Users\\\\Cristian.Aparicio\\\\Documents\\\\POLIZAS\\\\2023\\\\04. ABRIL\\\\DATA\\\\RETENCIONES ABRIL 2023.csv']"
      ]
     },
     "execution_count": 3,
     "metadata": {},
     "output_type": "execute_result"
    }
   ],
   "source": [
    "allfiles_ret = glob.glob(r'C:\\Users\\Cristian.Aparicio\\Documents\\POLIZAS\\2023\\04. ABRIL\\DATA\\RET*.csv', recursive=False)\n",
    "allfiles_ret"
   ]
  },
  {
   "cell_type": "code",
   "execution_count": 4,
   "metadata": {},
   "outputs": [
    {
     "data": {
      "text/plain": [
       "['C:\\\\Users\\\\Cristian.Aparicio\\\\Documents\\\\POLIZAS\\\\2023\\\\04. ABRIL\\\\DATA\\\\LIBERACIONES ABRIL 2023.csv']"
      ]
     },
     "execution_count": 4,
     "metadata": {},
     "output_type": "execute_result"
    }
   ],
   "source": [
    "allfiles_lib = glob.glob(r'C:\\Users\\Cristian.Aparicio\\Documents\\POLIZAS\\2023\\04. ABRIL\\DATA\\LIB*.csv', recursive=False)\n",
    "allfiles_lib"
   ]
  },
  {
   "cell_type": "code",
   "execution_count": 5,
   "metadata": {},
   "outputs": [
    {
     "data": {
      "text/plain": [
       "['G:\\\\.shortcut-targets-by-id\\\\1Oe28Mf9uSidMamjllDen2gkNnC59eSUr\\\\3.-Settlement\\\\5.-HISTORICO FILES PAGOS\\\\01. TRADICIONAL\\\\2023\\\\04. APRIL\\\\MONTOS EMAIL\\\\DIFF MONTOS-BNTE-1 2023-04-01.csv',\n",
       " 'G:\\\\.shortcut-targets-by-id\\\\1Oe28Mf9uSidMamjllDen2gkNnC59eSUr\\\\3.-Settlement\\\\5.-HISTORICO FILES PAGOS\\\\01. TRADICIONAL\\\\2023\\\\04. APRIL\\\\MONTOS EMAIL\\\\DIFF MONTOS-BNTE-1 2023-04-02.csv',\n",
       " 'G:\\\\.shortcut-targets-by-id\\\\1Oe28Mf9uSidMamjllDen2gkNnC59eSUr\\\\3.-Settlement\\\\5.-HISTORICO FILES PAGOS\\\\01. TRADICIONAL\\\\2023\\\\04. APRIL\\\\MONTOS EMAIL\\\\DIFF MONTOS-BNTE-1 2023-04-06.csv',\n",
       " 'G:\\\\.shortcut-targets-by-id\\\\1Oe28Mf9uSidMamjllDen2gkNnC59eSUr\\\\3.-Settlement\\\\5.-HISTORICO FILES PAGOS\\\\01. TRADICIONAL\\\\2023\\\\04. APRIL\\\\MONTOS EMAIL\\\\DIFF MONTOS-BNTE-1 2023-04-07.csv',\n",
       " 'G:\\\\.shortcut-targets-by-id\\\\1Oe28Mf9uSidMamjllDen2gkNnC59eSUr\\\\3.-Settlement\\\\5.-HISTORICO FILES PAGOS\\\\01. TRADICIONAL\\\\2023\\\\04. APRIL\\\\MONTOS EMAIL\\\\DIFF MONTOS-BNTE-1 2023-04-08.csv',\n",
       " 'G:\\\\.shortcut-targets-by-id\\\\1Oe28Mf9uSidMamjllDen2gkNnC59eSUr\\\\3.-Settlement\\\\5.-HISTORICO FILES PAGOS\\\\01. TRADICIONAL\\\\2023\\\\04. APRIL\\\\MONTOS EMAIL\\\\DIFF MONTOS-BNTE-1 2023-04-09.csv',\n",
       " 'G:\\\\.shortcut-targets-by-id\\\\1Oe28Mf9uSidMamjllDen2gkNnC59eSUr\\\\3.-Settlement\\\\5.-HISTORICO FILES PAGOS\\\\01. TRADICIONAL\\\\2023\\\\04. APRIL\\\\MONTOS EMAIL\\\\DIFF MONTOS-BNTE-1 2023-04-15.csv',\n",
       " 'G:\\\\.shortcut-targets-by-id\\\\1Oe28Mf9uSidMamjllDen2gkNnC59eSUr\\\\3.-Settlement\\\\5.-HISTORICO FILES PAGOS\\\\01. TRADICIONAL\\\\2023\\\\04. APRIL\\\\MONTOS EMAIL\\\\DIFF MONTOS-BNTE-1 2023-04-16.csv',\n",
       " 'G:\\\\.shortcut-targets-by-id\\\\1Oe28Mf9uSidMamjllDen2gkNnC59eSUr\\\\3.-Settlement\\\\5.-HISTORICO FILES PAGOS\\\\01. TRADICIONAL\\\\2023\\\\04. APRIL\\\\MONTOS EMAIL\\\\DIFF MONTOS-BNTE-1 2023-04-22.csv',\n",
       " 'G:\\\\.shortcut-targets-by-id\\\\1Oe28Mf9uSidMamjllDen2gkNnC59eSUr\\\\3.-Settlement\\\\5.-HISTORICO FILES PAGOS\\\\01. TRADICIONAL\\\\2023\\\\04. APRIL\\\\MONTOS EMAIL\\\\DIFF MONTOS-BNTE-1 2023-04-23.csv',\n",
       " 'G:\\\\.shortcut-targets-by-id\\\\1Oe28Mf9uSidMamjllDen2gkNnC59eSUr\\\\3.-Settlement\\\\5.-HISTORICO FILES PAGOS\\\\01. TRADICIONAL\\\\2023\\\\04. APRIL\\\\MONTOS EMAIL\\\\DIFF MONTOS-BNTE-1 2023-04-24.csv',\n",
       " 'G:\\\\.shortcut-targets-by-id\\\\1Oe28Mf9uSidMamjllDen2gkNnC59eSUr\\\\3.-Settlement\\\\5.-HISTORICO FILES PAGOS\\\\01. TRADICIONAL\\\\2023\\\\04. APRIL\\\\MONTOS EMAIL\\\\DIFF MONTOS-BNTE-1 2023-04-25.csv',\n",
       " 'G:\\\\.shortcut-targets-by-id\\\\1Oe28Mf9uSidMamjllDen2gkNnC59eSUr\\\\3.-Settlement\\\\5.-HISTORICO FILES PAGOS\\\\01. TRADICIONAL\\\\2023\\\\04. APRIL\\\\MONTOS EMAIL\\\\DIFF MONTOS-BNTE-1 2023-04-26.csv',\n",
       " 'G:\\\\.shortcut-targets-by-id\\\\1Oe28Mf9uSidMamjllDen2gkNnC59eSUr\\\\3.-Settlement\\\\5.-HISTORICO FILES PAGOS\\\\01. TRADICIONAL\\\\2023\\\\04. APRIL\\\\MONTOS EMAIL\\\\DIFF MONTOS-BNTE-1 2023-04-27.csv',\n",
       " 'G:\\\\.shortcut-targets-by-id\\\\1Oe28Mf9uSidMamjllDen2gkNnC59eSUr\\\\3.-Settlement\\\\5.-HISTORICO FILES PAGOS\\\\01. TRADICIONAL\\\\2023\\\\04. APRIL\\\\MONTOS EMAIL\\\\DIFF MONTOS-BNTE-1 2023-04-28.csv',\n",
       " 'G:\\\\.shortcut-targets-by-id\\\\1Oe28Mf9uSidMamjllDen2gkNnC59eSUr\\\\3.-Settlement\\\\5.-HISTORICO FILES PAGOS\\\\01. TRADICIONAL\\\\2023\\\\04. APRIL\\\\MONTOS EMAIL\\\\DIFF MONTOS-BNTE-1 2023-04-29.csv',\n",
       " 'G:\\\\.shortcut-targets-by-id\\\\1Oe28Mf9uSidMamjllDen2gkNnC59eSUr\\\\3.-Settlement\\\\5.-HISTORICO FILES PAGOS\\\\01. TRADICIONAL\\\\2023\\\\04. APRIL\\\\MONTOS EMAIL\\\\DIFF MONTOS-BNTE-1 2023-04-30.csv',\n",
       " 'G:\\\\.shortcut-targets-by-id\\\\1Oe28Mf9uSidMamjllDen2gkNnC59eSUr\\\\3.-Settlement\\\\5.-HISTORICO FILES PAGOS\\\\01. TRADICIONAL\\\\2023\\\\04. APRIL\\\\MONTOS EMAIL\\\\DIFF MONTOS-BNTE-2 2023-04-01.csv',\n",
       " 'G:\\\\.shortcut-targets-by-id\\\\1Oe28Mf9uSidMamjllDen2gkNnC59eSUr\\\\3.-Settlement\\\\5.-HISTORICO FILES PAGOS\\\\01. TRADICIONAL\\\\2023\\\\04. APRIL\\\\MONTOS EMAIL\\\\DIFF MONTOS-BNTE-2 2023-04-02.csv',\n",
       " 'G:\\\\.shortcut-targets-by-id\\\\1Oe28Mf9uSidMamjllDen2gkNnC59eSUr\\\\3.-Settlement\\\\5.-HISTORICO FILES PAGOS\\\\01. TRADICIONAL\\\\2023\\\\04. APRIL\\\\MONTOS EMAIL\\\\DIFF MONTOS-BNTE-2 2023-04-03.csv',\n",
       " 'G:\\\\.shortcut-targets-by-id\\\\1Oe28Mf9uSidMamjllDen2gkNnC59eSUr\\\\3.-Settlement\\\\5.-HISTORICO FILES PAGOS\\\\01. TRADICIONAL\\\\2023\\\\04. APRIL\\\\MONTOS EMAIL\\\\DIFF MONTOS-BNTE-2 2023-04-06.csv',\n",
       " 'G:\\\\.shortcut-targets-by-id\\\\1Oe28Mf9uSidMamjllDen2gkNnC59eSUr\\\\3.-Settlement\\\\5.-HISTORICO FILES PAGOS\\\\01. TRADICIONAL\\\\2023\\\\04. APRIL\\\\MONTOS EMAIL\\\\DIFF MONTOS-BNTE-2 2023-04-10.csv',\n",
       " 'G:\\\\.shortcut-targets-by-id\\\\1Oe28Mf9uSidMamjllDen2gkNnC59eSUr\\\\3.-Settlement\\\\5.-HISTORICO FILES PAGOS\\\\01. TRADICIONAL\\\\2023\\\\04. APRIL\\\\MONTOS EMAIL\\\\DIFF MONTOS-BNTE-2 2023-04-11.csv',\n",
       " 'G:\\\\.shortcut-targets-by-id\\\\1Oe28Mf9uSidMamjllDen2gkNnC59eSUr\\\\3.-Settlement\\\\5.-HISTORICO FILES PAGOS\\\\01. TRADICIONAL\\\\2023\\\\04. APRIL\\\\MONTOS EMAIL\\\\DIFF MONTOS-BNTE-2 2023-04-15.csv',\n",
       " 'G:\\\\.shortcut-targets-by-id\\\\1Oe28Mf9uSidMamjllDen2gkNnC59eSUr\\\\3.-Settlement\\\\5.-HISTORICO FILES PAGOS\\\\01. TRADICIONAL\\\\2023\\\\04. APRIL\\\\MONTOS EMAIL\\\\DIFF MONTOS-BNTE-2 2023-04-16.csv',\n",
       " 'G:\\\\.shortcut-targets-by-id\\\\1Oe28Mf9uSidMamjllDen2gkNnC59eSUr\\\\3.-Settlement\\\\5.-HISTORICO FILES PAGOS\\\\01. TRADICIONAL\\\\2023\\\\04. APRIL\\\\MONTOS EMAIL\\\\DIFF MONTOS-BNTE-2 2023-04-17.csv',\n",
       " 'G:\\\\.shortcut-targets-by-id\\\\1Oe28Mf9uSidMamjllDen2gkNnC59eSUr\\\\3.-Settlement\\\\5.-HISTORICO FILES PAGOS\\\\01. TRADICIONAL\\\\2023\\\\04. APRIL\\\\MONTOS EMAIL\\\\DIFF MONTOS-BNTE-2 2023-04-22.csv',\n",
       " 'G:\\\\.shortcut-targets-by-id\\\\1Oe28Mf9uSidMamjllDen2gkNnC59eSUr\\\\3.-Settlement\\\\5.-HISTORICO FILES PAGOS\\\\01. TRADICIONAL\\\\2023\\\\04. APRIL\\\\MONTOS EMAIL\\\\DIFF MONTOS-BNTE-2 2023-04-23.csv',\n",
       " 'G:\\\\.shortcut-targets-by-id\\\\1Oe28Mf9uSidMamjllDen2gkNnC59eSUr\\\\3.-Settlement\\\\5.-HISTORICO FILES PAGOS\\\\01. TRADICIONAL\\\\2023\\\\04. APRIL\\\\MONTOS EMAIL\\\\DIFF MONTOS-BNTE-2 2023-04-24.csv',\n",
       " 'G:\\\\.shortcut-targets-by-id\\\\1Oe28Mf9uSidMamjllDen2gkNnC59eSUr\\\\3.-Settlement\\\\5.-HISTORICO FILES PAGOS\\\\01. TRADICIONAL\\\\2023\\\\04. APRIL\\\\MONTOS EMAIL\\\\DIFF MONTOS-BNTE-2 2023-04-25.csv',\n",
       " 'G:\\\\.shortcut-targets-by-id\\\\1Oe28Mf9uSidMamjllDen2gkNnC59eSUr\\\\3.-Settlement\\\\5.-HISTORICO FILES PAGOS\\\\01. TRADICIONAL\\\\2023\\\\04. APRIL\\\\MONTOS EMAIL\\\\DIFF MONTOS-BNTE-2 2023-04-26.csv',\n",
       " 'G:\\\\.shortcut-targets-by-id\\\\1Oe28Mf9uSidMamjllDen2gkNnC59eSUr\\\\3.-Settlement\\\\5.-HISTORICO FILES PAGOS\\\\01. TRADICIONAL\\\\2023\\\\04. APRIL\\\\MONTOS EMAIL\\\\DIFF MONTOS-BNTE-2 2023-04-27.csv',\n",
       " 'G:\\\\.shortcut-targets-by-id\\\\1Oe28Mf9uSidMamjllDen2gkNnC59eSUr\\\\3.-Settlement\\\\5.-HISTORICO FILES PAGOS\\\\01. TRADICIONAL\\\\2023\\\\04. APRIL\\\\MONTOS EMAIL\\\\DIFF MONTOS-BNTE-2 2023-04-28.csv',\n",
       " 'G:\\\\.shortcut-targets-by-id\\\\1Oe28Mf9uSidMamjllDen2gkNnC59eSUr\\\\3.-Settlement\\\\5.-HISTORICO FILES PAGOS\\\\01. TRADICIONAL\\\\2023\\\\04. APRIL\\\\MONTOS EMAIL\\\\DIFF MONTOS-BNTE-2 2023-04-29.csv',\n",
       " 'G:\\\\.shortcut-targets-by-id\\\\1Oe28Mf9uSidMamjllDen2gkNnC59eSUr\\\\3.-Settlement\\\\5.-HISTORICO FILES PAGOS\\\\01. TRADICIONAL\\\\2023\\\\04. APRIL\\\\MONTOS EMAIL\\\\DIFF MONTOS-BNTE-2 2023-04-30.csv',\n",
       " 'G:\\\\.shortcut-targets-by-id\\\\1Oe28Mf9uSidMamjllDen2gkNnC59eSUr\\\\3.-Settlement\\\\5.-HISTORICO FILES PAGOS\\\\01. TRADICIONAL\\\\2023\\\\04. APRIL\\\\MONTOS EMAIL\\\\DIFF MONTOS-BNTE-3 2023-04-04.csv',\n",
       " 'G:\\\\.shortcut-targets-by-id\\\\1Oe28Mf9uSidMamjllDen2gkNnC59eSUr\\\\3.-Settlement\\\\5.-HISTORICO FILES PAGOS\\\\01. TRADICIONAL\\\\2023\\\\04. APRIL\\\\MONTOS EMAIL\\\\DIFF MONTOS-BNTE-3 2023-04-13.csv',\n",
       " 'G:\\\\.shortcut-targets-by-id\\\\1Oe28Mf9uSidMamjllDen2gkNnC59eSUr\\\\3.-Settlement\\\\5.-HISTORICO FILES PAGOS\\\\01. TRADICIONAL\\\\2023\\\\04. APRIL\\\\MONTOS EMAIL\\\\DIFF MONTOS-BNTE-3 2023-04-14.csv',\n",
       " 'G:\\\\.shortcut-targets-by-id\\\\1Oe28Mf9uSidMamjllDen2gkNnC59eSUr\\\\3.-Settlement\\\\5.-HISTORICO FILES PAGOS\\\\01. TRADICIONAL\\\\2023\\\\04. APRIL\\\\MONTOS EMAIL\\\\DIFF MONTOS-BNTE-3 2023-04-18.csv',\n",
       " 'G:\\\\.shortcut-targets-by-id\\\\1Oe28Mf9uSidMamjllDen2gkNnC59eSUr\\\\3.-Settlement\\\\5.-HISTORICO FILES PAGOS\\\\01. TRADICIONAL\\\\2023\\\\04. APRIL\\\\MONTOS EMAIL\\\\DIFF MONTOS-BNTE-3 2023-04-19.csv',\n",
       " 'G:\\\\.shortcut-targets-by-id\\\\1Oe28Mf9uSidMamjllDen2gkNnC59eSUr\\\\3.-Settlement\\\\5.-HISTORICO FILES PAGOS\\\\01. TRADICIONAL\\\\2023\\\\04. APRIL\\\\MONTOS EMAIL\\\\DIFF MONTOS-BNTE-3 2023-04-21.csv',\n",
       " 'G:\\\\.shortcut-targets-by-id\\\\1Oe28Mf9uSidMamjllDen2gkNnC59eSUr\\\\3.-Settlement\\\\5.-HISTORICO FILES PAGOS\\\\01. TRADICIONAL\\\\2023\\\\04. APRIL\\\\MONTOS EMAIL\\\\DIFF MONTOS-BNTE-3 2023-04-25.csv',\n",
       " 'G:\\\\.shortcut-targets-by-id\\\\1Oe28Mf9uSidMamjllDen2gkNnC59eSUr\\\\3.-Settlement\\\\5.-HISTORICO FILES PAGOS\\\\01. TRADICIONAL\\\\2023\\\\04. APRIL\\\\MONTOS EMAIL\\\\DIFF MONTOS-BNTE-3 2023-04-26.csv',\n",
       " 'G:\\\\.shortcut-targets-by-id\\\\1Oe28Mf9uSidMamjllDen2gkNnC59eSUr\\\\3.-Settlement\\\\5.-HISTORICO FILES PAGOS\\\\01. TRADICIONAL\\\\2023\\\\04. APRIL\\\\MONTOS EMAIL\\\\DIFF MONTOS-BNTE-3 2023-04-27.csv',\n",
       " 'G:\\\\.shortcut-targets-by-id\\\\1Oe28Mf9uSidMamjllDen2gkNnC59eSUr\\\\3.-Settlement\\\\5.-HISTORICO FILES PAGOS\\\\01. TRADICIONAL\\\\2023\\\\04. APRIL\\\\MONTOS EMAIL\\\\DIFF MONTOS-BNTE-3 2023-04-28.csv',\n",
       " 'G:\\\\.shortcut-targets-by-id\\\\1Oe28Mf9uSidMamjllDen2gkNnC59eSUr\\\\3.-Settlement\\\\5.-HISTORICO FILES PAGOS\\\\01. TRADICIONAL\\\\2023\\\\04. APRIL\\\\MONTOS EMAIL\\\\DIFF MONTOS-SANT-1 2023-04-03.csv',\n",
       " 'G:\\\\.shortcut-targets-by-id\\\\1Oe28Mf9uSidMamjllDen2gkNnC59eSUr\\\\3.-Settlement\\\\5.-HISTORICO FILES PAGOS\\\\01. TRADICIONAL\\\\2023\\\\04. APRIL\\\\MONTOS EMAIL\\\\DIFF MONTOS-SANT-1 2023-04-04.csv',\n",
       " 'G:\\\\.shortcut-targets-by-id\\\\1Oe28Mf9uSidMamjllDen2gkNnC59eSUr\\\\3.-Settlement\\\\5.-HISTORICO FILES PAGOS\\\\01. TRADICIONAL\\\\2023\\\\04. APRIL\\\\MONTOS EMAIL\\\\DIFF MONTOS-SANT-1 2023-04-05.csv',\n",
       " 'G:\\\\.shortcut-targets-by-id\\\\1Oe28Mf9uSidMamjllDen2gkNnC59eSUr\\\\3.-Settlement\\\\5.-HISTORICO FILES PAGOS\\\\01. TRADICIONAL\\\\2023\\\\04. APRIL\\\\MONTOS EMAIL\\\\DIFF MONTOS-SANT-1 2023-04-10.csv',\n",
       " 'G:\\\\.shortcut-targets-by-id\\\\1Oe28Mf9uSidMamjllDen2gkNnC59eSUr\\\\3.-Settlement\\\\5.-HISTORICO FILES PAGOS\\\\01. TRADICIONAL\\\\2023\\\\04. APRIL\\\\MONTOS EMAIL\\\\DIFF MONTOS-SANT-1 2023-04-11.csv',\n",
       " 'G:\\\\.shortcut-targets-by-id\\\\1Oe28Mf9uSidMamjllDen2gkNnC59eSUr\\\\3.-Settlement\\\\5.-HISTORICO FILES PAGOS\\\\01. TRADICIONAL\\\\2023\\\\04. APRIL\\\\MONTOS EMAIL\\\\DIFF MONTOS-SANT-1 2023-04-12.csv',\n",
       " 'G:\\\\.shortcut-targets-by-id\\\\1Oe28Mf9uSidMamjllDen2gkNnC59eSUr\\\\3.-Settlement\\\\5.-HISTORICO FILES PAGOS\\\\01. TRADICIONAL\\\\2023\\\\04. APRIL\\\\MONTOS EMAIL\\\\DIFF MONTOS-SANT-1 2023-04-13.csv',\n",
       " 'G:\\\\.shortcut-targets-by-id\\\\1Oe28Mf9uSidMamjllDen2gkNnC59eSUr\\\\3.-Settlement\\\\5.-HISTORICO FILES PAGOS\\\\01. TRADICIONAL\\\\2023\\\\04. APRIL\\\\MONTOS EMAIL\\\\DIFF MONTOS-SANT-1 2023-04-14.csv',\n",
       " 'G:\\\\.shortcut-targets-by-id\\\\1Oe28Mf9uSidMamjllDen2gkNnC59eSUr\\\\3.-Settlement\\\\5.-HISTORICO FILES PAGOS\\\\01. TRADICIONAL\\\\2023\\\\04. APRIL\\\\MONTOS EMAIL\\\\DIFF MONTOS-SANT-1 2023-04-17.csv',\n",
       " 'G:\\\\.shortcut-targets-by-id\\\\1Oe28Mf9uSidMamjllDen2gkNnC59eSUr\\\\3.-Settlement\\\\5.-HISTORICO FILES PAGOS\\\\01. TRADICIONAL\\\\2023\\\\04. APRIL\\\\MONTOS EMAIL\\\\DIFF MONTOS-SANT-1 2023-04-18.csv',\n",
       " 'G:\\\\.shortcut-targets-by-id\\\\1Oe28Mf9uSidMamjllDen2gkNnC59eSUr\\\\3.-Settlement\\\\5.-HISTORICO FILES PAGOS\\\\01. TRADICIONAL\\\\2023\\\\04. APRIL\\\\MONTOS EMAIL\\\\DIFF MONTOS-SANT-1 2023-04-19.csv',\n",
       " 'G:\\\\.shortcut-targets-by-id\\\\1Oe28Mf9uSidMamjllDen2gkNnC59eSUr\\\\3.-Settlement\\\\5.-HISTORICO FILES PAGOS\\\\01. TRADICIONAL\\\\2023\\\\04. APRIL\\\\MONTOS EMAIL\\\\DIFF MONTOS-SANT-1 2023-04-20.csv',\n",
       " 'G:\\\\.shortcut-targets-by-id\\\\1Oe28Mf9uSidMamjllDen2gkNnC59eSUr\\\\3.-Settlement\\\\5.-HISTORICO FILES PAGOS\\\\01. TRADICIONAL\\\\2023\\\\04. APRIL\\\\MONTOS EMAIL\\\\DIFF MONTOS-SANT-1 2023-04-21.csv',\n",
       " 'G:\\\\.shortcut-targets-by-id\\\\1Oe28Mf9uSidMamjllDen2gkNnC59eSUr\\\\3.-Settlement\\\\5.-HISTORICO FILES PAGOS\\\\01. TRADICIONAL\\\\2023\\\\04. APRIL\\\\MONTOS EMAIL\\\\DIFF MONTOS-SANT-2 2023-04-04.csv',\n",
       " 'G:\\\\.shortcut-targets-by-id\\\\1Oe28Mf9uSidMamjllDen2gkNnC59eSUr\\\\3.-Settlement\\\\5.-HISTORICO FILES PAGOS\\\\01. TRADICIONAL\\\\2023\\\\04. APRIL\\\\MONTOS EMAIL\\\\DIFF MONTOS-SANT-2 2023-04-05.csv',\n",
       " 'G:\\\\.shortcut-targets-by-id\\\\1Oe28Mf9uSidMamjllDen2gkNnC59eSUr\\\\3.-Settlement\\\\5.-HISTORICO FILES PAGOS\\\\01. TRADICIONAL\\\\2023\\\\04. APRIL\\\\MONTOS EMAIL\\\\DIFF MONTOS-SANT-2 2023-04-12.csv',\n",
       " 'G:\\\\.shortcut-targets-by-id\\\\1Oe28Mf9uSidMamjllDen2gkNnC59eSUr\\\\3.-Settlement\\\\5.-HISTORICO FILES PAGOS\\\\01. TRADICIONAL\\\\2023\\\\04. APRIL\\\\MONTOS EMAIL\\\\DIFF MONTOS-SANT-2 2023-04-13.csv',\n",
       " 'G:\\\\.shortcut-targets-by-id\\\\1Oe28Mf9uSidMamjllDen2gkNnC59eSUr\\\\3.-Settlement\\\\5.-HISTORICO FILES PAGOS\\\\01. TRADICIONAL\\\\2023\\\\04. APRIL\\\\MONTOS EMAIL\\\\DIFF MONTOS-SANT-2 2023-04-14.csv',\n",
       " 'G:\\\\.shortcut-targets-by-id\\\\1Oe28Mf9uSidMamjllDen2gkNnC59eSUr\\\\3.-Settlement\\\\5.-HISTORICO FILES PAGOS\\\\01. TRADICIONAL\\\\2023\\\\04. APRIL\\\\MONTOS EMAIL\\\\DIFF MONTOS-SANT-2 2023-04-18.csv',\n",
       " 'G:\\\\.shortcut-targets-by-id\\\\1Oe28Mf9uSidMamjllDen2gkNnC59eSUr\\\\3.-Settlement\\\\5.-HISTORICO FILES PAGOS\\\\01. TRADICIONAL\\\\2023\\\\04. APRIL\\\\MONTOS EMAIL\\\\DIFF MONTOS-SANT-2 2023-04-19.csv',\n",
       " 'G:\\\\.shortcut-targets-by-id\\\\1Oe28Mf9uSidMamjllDen2gkNnC59eSUr\\\\3.-Settlement\\\\5.-HISTORICO FILES PAGOS\\\\01. TRADICIONAL\\\\2023\\\\04. APRIL\\\\MONTOS EMAIL\\\\DIFF MONTOS-SANT-2 2023-04-20.csv',\n",
       " 'G:\\\\.shortcut-targets-by-id\\\\1Oe28Mf9uSidMamjllDen2gkNnC59eSUr\\\\3.-Settlement\\\\5.-HISTORICO FILES PAGOS\\\\01. TRADICIONAL\\\\2023\\\\04. APRIL\\\\MONTOS EMAIL\\\\DIFF MONTOS-SANT-2 2023-04-21.csv']"
      ]
     },
     "execution_count": 5,
     "metadata": {},
     "output_type": "execute_result"
    }
   ],
   "source": [
    "allfiles_com = sorted(glob.glob(r'G:\\.shortcut-targets-by-id\\1Oe28Mf9uSidMamjllDen2gkNnC59eSUr\\3.-Settlement\\5.-HISTORICO FILES PAGOS\\01. TRADICIONAL\\2023\\04. APRIL\\MONTOS EMAIL\\*.csv', recursive=False))\n",
    "allfiles_com"
   ]
  },
  {
   "cell_type": "code",
   "execution_count": 6,
   "metadata": {},
   "outputs": [
    {
     "data": {
      "text/plain": [
       "['G:\\\\My Drive\\\\RESPALDO-PC\\\\LENDERS\\\\2023\\\\DB\\\\LENDERS DB ENERO 2023.csv',\n",
       " 'G:\\\\My Drive\\\\RESPALDO-PC\\\\LENDERS\\\\2023\\\\DB\\\\LENDERS DB FEBRERO 2023.csv',\n",
       " 'G:\\\\My Drive\\\\RESPALDO-PC\\\\LENDERS\\\\2023\\\\DB\\\\LENDERS DB MARZO 2023.csv',\n",
       " 'G:\\\\My Drive\\\\RESPALDO-PC\\\\LENDERS\\\\2023\\\\DB\\\\LENDERS DB ABRIL 2023.csv']"
      ]
     },
     "execution_count": 6,
     "metadata": {},
     "output_type": "execute_result"
    }
   ],
   "source": [
    "allfiles_lender = glob.glob(r'G:\\My Drive\\RESPALDO-PC\\LENDERS\\2023\\DB\\LEN*.csv', recursive=False)\n",
    "allfiles_lender"
   ]
  },
  {
   "cell_type": "code",
   "execution_count": 7,
   "metadata": {},
   "outputs": [],
   "source": [
    "start_date = '2023-04-01'\n",
    "final_date = '2023-04-30'"
   ]
  },
  {
   "cell_type": "markdown",
   "metadata": {},
   "source": [
    "# ADJUSTMENTS"
   ]
  },
  {
   "cell_type": "code",
   "execution_count": 8,
   "metadata": {},
   "outputs": [
    {
     "data": {
      "text/html": [
       "<div>\n",
       "<style scoped>\n",
       "    .dataframe tbody tr th:only-of-type {\n",
       "        vertical-align: middle;\n",
       "    }\n",
       "\n",
       "    .dataframe tbody tr th {\n",
       "        vertical-align: top;\n",
       "    }\n",
       "\n",
       "    .dataframe thead th {\n",
       "        text-align: right;\n",
       "    }\n",
       "</style>\n",
       "<table border=\"1\" class=\"dataframe\">\n",
       "  <thead>\n",
       "    <tr style=\"text-align: right;\">\n",
       "      <th></th>\n",
       "      <th>report_id</th>\n",
       "      <th>report_date_local</th>\n",
       "      <th>adjustment_date_local</th>\n",
       "      <th>adjustment_type</th>\n",
       "      <th>adjustment_amount</th>\n",
       "      <th>fees_charged</th>\n",
       "      <th>taxes</th>\n",
       "      <th>amount_due</th>\n",
       "      <th>type</th>\n",
       "      <th>date</th>\n",
       "      <th>file_name</th>\n",
       "    </tr>\n",
       "  </thead>\n",
       "  <tbody>\n",
       "    <tr>\n",
       "      <th>0</th>\n",
       "      <td>629C29RCB</td>\n",
       "      <td>2023-04-01</td>\n",
       "      <td>2023-04-01</td>\n",
       "      <td>LOAN</td>\n",
       "      <td>-0.64</td>\n",
       "      <td>0.00</td>\n",
       "      <td>0.00</td>\n",
       "      <td>-0.64</td>\n",
       "      <td>DAILY</td>\n",
       "      <td>2023-04-01</td>\n",
       "      <td>ADJUSTMENTS ABRIL 2023.csv</td>\n",
       "    </tr>\n",
       "    <tr>\n",
       "      <th>1</th>\n",
       "      <td>C6WZLTLVL</td>\n",
       "      <td>2023-04-01</td>\n",
       "      <td>2023-04-01</td>\n",
       "      <td>LOAN</td>\n",
       "      <td>-3.70</td>\n",
       "      <td>0.00</td>\n",
       "      <td>0.00</td>\n",
       "      <td>-3.70</td>\n",
       "      <td>DAILY</td>\n",
       "      <td>2023-04-01</td>\n",
       "      <td>ADJUSTMENTS ABRIL 2023.csv</td>\n",
       "    </tr>\n",
       "    <tr>\n",
       "      <th>2</th>\n",
       "      <td>QP9DSF56Q</td>\n",
       "      <td>2023-04-01</td>\n",
       "      <td>2023-04-01</td>\n",
       "      <td>LOAN</td>\n",
       "      <td>-0.14</td>\n",
       "      <td>0.00</td>\n",
       "      <td>0.00</td>\n",
       "      <td>-0.14</td>\n",
       "      <td>DAILY</td>\n",
       "      <td>2023-04-01</td>\n",
       "      <td>ADJUSTMENTS ABRIL 2023.csv</td>\n",
       "    </tr>\n",
       "    <tr>\n",
       "      <th>3</th>\n",
       "      <td>ND36SL6XS</td>\n",
       "      <td>2023-04-01</td>\n",
       "      <td>2023-04-01</td>\n",
       "      <td>LOAN</td>\n",
       "      <td>-1.36</td>\n",
       "      <td>0.00</td>\n",
       "      <td>0.00</td>\n",
       "      <td>-1.36</td>\n",
       "      <td>DAILY</td>\n",
       "      <td>2023-04-01</td>\n",
       "      <td>ADJUSTMENTS ABRIL 2023.csv</td>\n",
       "    </tr>\n",
       "    <tr>\n",
       "      <th>4</th>\n",
       "      <td>5BRF74VML</td>\n",
       "      <td>2023-04-01</td>\n",
       "      <td>2023-04-01</td>\n",
       "      <td>LOAN</td>\n",
       "      <td>-2.20</td>\n",
       "      <td>0.00</td>\n",
       "      <td>0.00</td>\n",
       "      <td>-2.20</td>\n",
       "      <td>DAILY</td>\n",
       "      <td>2023-04-01</td>\n",
       "      <td>ADJUSTMENTS ABRIL 2023.csv</td>\n",
       "    </tr>\n",
       "  </tbody>\n",
       "</table>\n",
       "</div>"
      ],
      "text/plain": [
       "   report_id report_date_local adjustment_date_local adjustment_type  \\\n",
       "0  629C29RCB        2023-04-01            2023-04-01            LOAN   \n",
       "1  C6WZLTLVL        2023-04-01            2023-04-01            LOAN   \n",
       "2  QP9DSF56Q        2023-04-01            2023-04-01            LOAN   \n",
       "3  ND36SL6XS        2023-04-01            2023-04-01            LOAN   \n",
       "4  5BRF74VML        2023-04-01            2023-04-01            LOAN   \n",
       "\n",
       "   adjustment_amount  fees_charged  taxes  amount_due   type        date  \\\n",
       "0              -0.64          0.00   0.00       -0.64  DAILY  2023-04-01   \n",
       "1              -3.70          0.00   0.00       -3.70  DAILY  2023-04-01   \n",
       "2              -0.14          0.00   0.00       -0.14  DAILY  2023-04-01   \n",
       "3              -1.36          0.00   0.00       -1.36  DAILY  2023-04-01   \n",
       "4              -2.20          0.00   0.00       -2.20  DAILY  2023-04-01   \n",
       "\n",
       "                    file_name  \n",
       "0  ADJUSTMENTS ABRIL 2023.csv  \n",
       "1  ADJUSTMENTS ABRIL 2023.csv  \n",
       "2  ADJUSTMENTS ABRIL 2023.csv  \n",
       "3  ADJUSTMENTS ABRIL 2023.csv  \n",
       "4  ADJUSTMENTS ABRIL 2023.csv  "
      ]
     },
     "execution_count": 8,
     "metadata": {},
     "output_type": "execute_result"
    }
   ],
   "source": [
    "adj_1 = pd.concat([pd.read_csv(f).assign(file_name=os.path.basename(f)) for f in allfiles_adj])\n",
    "adj_1.head()"
   ]
  },
  {
   "cell_type": "code",
   "execution_count": 9,
   "metadata": {},
   "outputs": [
    {
     "data": {
      "text/plain": [
       "(1795, 11)"
      ]
     },
     "execution_count": 9,
     "metadata": {},
     "output_type": "execute_result"
    }
   ],
   "source": [
    "adj_1.shape"
   ]
  },
  {
   "cell_type": "markdown",
   "metadata": {},
   "source": [
    "### CURRENT DATES"
   ]
  },
  {
   "cell_type": "code",
   "execution_count": 10,
   "metadata": {},
   "outputs": [
    {
     "data": {
      "text/html": [
       "<div>\n",
       "<style scoped>\n",
       "    .dataframe tbody tr th:only-of-type {\n",
       "        vertical-align: middle;\n",
       "    }\n",
       "\n",
       "    .dataframe tbody tr th {\n",
       "        vertical-align: top;\n",
       "    }\n",
       "\n",
       "    .dataframe thead th {\n",
       "        text-align: right;\n",
       "    }\n",
       "</style>\n",
       "<table border=\"1\" class=\"dataframe\">\n",
       "  <thead>\n",
       "    <tr style=\"text-align: right;\">\n",
       "      <th></th>\n",
       "      <th>report_id</th>\n",
       "      <th>report_date_local</th>\n",
       "      <th>adjustment_date_local</th>\n",
       "      <th>adjustment_type</th>\n",
       "      <th>adjustment_amount</th>\n",
       "      <th>fees_charged</th>\n",
       "      <th>taxes</th>\n",
       "      <th>amount_due</th>\n",
       "      <th>type</th>\n",
       "      <th>date</th>\n",
       "      <th>file_name</th>\n",
       "    </tr>\n",
       "  </thead>\n",
       "  <tbody>\n",
       "    <tr>\n",
       "      <th>0</th>\n",
       "      <td>629C29RCB</td>\n",
       "      <td>2023-04-01</td>\n",
       "      <td>2023-04-01</td>\n",
       "      <td>LOAN</td>\n",
       "      <td>-0.64</td>\n",
       "      <td>0.00</td>\n",
       "      <td>0.00</td>\n",
       "      <td>-0.64</td>\n",
       "      <td>DAILY</td>\n",
       "      <td>2023-04-01</td>\n",
       "      <td>ADJUSTMENTS ABRIL 2023.csv</td>\n",
       "    </tr>\n",
       "    <tr>\n",
       "      <th>1</th>\n",
       "      <td>C6WZLTLVL</td>\n",
       "      <td>2023-04-01</td>\n",
       "      <td>2023-04-01</td>\n",
       "      <td>LOAN</td>\n",
       "      <td>-3.70</td>\n",
       "      <td>0.00</td>\n",
       "      <td>0.00</td>\n",
       "      <td>-3.70</td>\n",
       "      <td>DAILY</td>\n",
       "      <td>2023-04-01</td>\n",
       "      <td>ADJUSTMENTS ABRIL 2023.csv</td>\n",
       "    </tr>\n",
       "    <tr>\n",
       "      <th>2</th>\n",
       "      <td>QP9DSF56Q</td>\n",
       "      <td>2023-04-01</td>\n",
       "      <td>2023-04-01</td>\n",
       "      <td>LOAN</td>\n",
       "      <td>-0.14</td>\n",
       "      <td>0.00</td>\n",
       "      <td>0.00</td>\n",
       "      <td>-0.14</td>\n",
       "      <td>DAILY</td>\n",
       "      <td>2023-04-01</td>\n",
       "      <td>ADJUSTMENTS ABRIL 2023.csv</td>\n",
       "    </tr>\n",
       "    <tr>\n",
       "      <th>3</th>\n",
       "      <td>ND36SL6XS</td>\n",
       "      <td>2023-04-01</td>\n",
       "      <td>2023-04-01</td>\n",
       "      <td>LOAN</td>\n",
       "      <td>-1.36</td>\n",
       "      <td>0.00</td>\n",
       "      <td>0.00</td>\n",
       "      <td>-1.36</td>\n",
       "      <td>DAILY</td>\n",
       "      <td>2023-04-01</td>\n",
       "      <td>ADJUSTMENTS ABRIL 2023.csv</td>\n",
       "    </tr>\n",
       "    <tr>\n",
       "      <th>4</th>\n",
       "      <td>5BRF74VML</td>\n",
       "      <td>2023-04-01</td>\n",
       "      <td>2023-04-01</td>\n",
       "      <td>LOAN</td>\n",
       "      <td>-2.20</td>\n",
       "      <td>0.00</td>\n",
       "      <td>0.00</td>\n",
       "      <td>-2.20</td>\n",
       "      <td>DAILY</td>\n",
       "      <td>2023-04-01</td>\n",
       "      <td>ADJUSTMENTS ABRIL 2023.csv</td>\n",
       "    </tr>\n",
       "  </tbody>\n",
       "</table>\n",
       "</div>"
      ],
      "text/plain": [
       "   report_id report_date_local adjustment_date_local adjustment_type  \\\n",
       "0  629C29RCB        2023-04-01            2023-04-01            LOAN   \n",
       "1  C6WZLTLVL        2023-04-01            2023-04-01            LOAN   \n",
       "2  QP9DSF56Q        2023-04-01            2023-04-01            LOAN   \n",
       "3  ND36SL6XS        2023-04-01            2023-04-01            LOAN   \n",
       "4  5BRF74VML        2023-04-01            2023-04-01            LOAN   \n",
       "\n",
       "   adjustment_amount  fees_charged  taxes  amount_due   type        date  \\\n",
       "0              -0.64          0.00   0.00       -0.64  DAILY  2023-04-01   \n",
       "1              -3.70          0.00   0.00       -3.70  DAILY  2023-04-01   \n",
       "2              -0.14          0.00   0.00       -0.14  DAILY  2023-04-01   \n",
       "3              -1.36          0.00   0.00       -1.36  DAILY  2023-04-01   \n",
       "4              -2.20          0.00   0.00       -2.20  DAILY  2023-04-01   \n",
       "\n",
       "                    file_name  \n",
       "0  ADJUSTMENTS ABRIL 2023.csv  \n",
       "1  ADJUSTMENTS ABRIL 2023.csv  \n",
       "2  ADJUSTMENTS ABRIL 2023.csv  \n",
       "3  ADJUSTMENTS ABRIL 2023.csv  \n",
       "4  ADJUSTMENTS ABRIL 2023.csv  "
      ]
     },
     "execution_count": 10,
     "metadata": {},
     "output_type": "execute_result"
    }
   ],
   "source": [
    "adj_current_month = adj_1[(adj_1['date'] >= start_date) & (adj_1['date'] <= final_date)]\n",
    "adj_current_month.head()"
   ]
  },
  {
   "cell_type": "code",
   "execution_count": 11,
   "metadata": {},
   "outputs": [
    {
     "data": {
      "text/plain": [
       "(1795, 11)"
      ]
     },
     "execution_count": 11,
     "metadata": {},
     "output_type": "execute_result"
    }
   ],
   "source": [
    "adj_current_month.shape"
   ]
  },
  {
   "cell_type": "markdown",
   "metadata": {},
   "source": [
    "### PIVOT"
   ]
  },
  {
   "cell_type": "code",
   "execution_count": 12,
   "metadata": {},
   "outputs": [
    {
     "data": {
      "text/html": [
       "<div>\n",
       "<style scoped>\n",
       "    .dataframe tbody tr th:only-of-type {\n",
       "        vertical-align: middle;\n",
       "    }\n",
       "\n",
       "    .dataframe tbody tr th {\n",
       "        vertical-align: top;\n",
       "    }\n",
       "\n",
       "    .dataframe thead th {\n",
       "        text-align: right;\n",
       "    }\n",
       "</style>\n",
       "<table border=\"1\" class=\"dataframe\">\n",
       "  <thead>\n",
       "    <tr style=\"text-align: right;\">\n",
       "      <th></th>\n",
       "      <th>type</th>\n",
       "      <th>adjustment_type</th>\n",
       "      <th>date</th>\n",
       "      <th>adjustment_amount</th>\n",
       "      <th>fees_charged</th>\n",
       "      <th>taxes</th>\n",
       "      <th>amount_due</th>\n",
       "    </tr>\n",
       "  </thead>\n",
       "  <tbody>\n",
       "    <tr>\n",
       "      <th>0</th>\n",
       "      <td>DAILY</td>\n",
       "      <td>LOAN</td>\n",
       "      <td>2023-04-01</td>\n",
       "      <td>57.72</td>\n",
       "      <td>-0.00</td>\n",
       "      <td>-0.00</td>\n",
       "      <td>57.72</td>\n",
       "    </tr>\n",
       "    <tr>\n",
       "      <th>1</th>\n",
       "      <td>DAILY</td>\n",
       "      <td>LOAN</td>\n",
       "      <td>2023-04-02</td>\n",
       "      <td>47.59</td>\n",
       "      <td>-0.00</td>\n",
       "      <td>-0.00</td>\n",
       "      <td>47.59</td>\n",
       "    </tr>\n",
       "    <tr>\n",
       "      <th>2</th>\n",
       "      <td>DAILY</td>\n",
       "      <td>LOAN</td>\n",
       "      <td>2023-04-03</td>\n",
       "      <td>26.10</td>\n",
       "      <td>-0.00</td>\n",
       "      <td>-0.00</td>\n",
       "      <td>26.10</td>\n",
       "    </tr>\n",
       "    <tr>\n",
       "      <th>3</th>\n",
       "      <td>DAILY</td>\n",
       "      <td>LOAN</td>\n",
       "      <td>2023-04-04</td>\n",
       "      <td>43.78</td>\n",
       "      <td>-0.00</td>\n",
       "      <td>-0.00</td>\n",
       "      <td>43.78</td>\n",
       "    </tr>\n",
       "    <tr>\n",
       "      <th>4</th>\n",
       "      <td>DAILY</td>\n",
       "      <td>LOAN</td>\n",
       "      <td>2023-04-05</td>\n",
       "      <td>45.13</td>\n",
       "      <td>-0.00</td>\n",
       "      <td>-0.00</td>\n",
       "      <td>45.13</td>\n",
       "    </tr>\n",
       "  </tbody>\n",
       "</table>\n",
       "</div>"
      ],
      "text/plain": [
       "    type adjustment_type        date  adjustment_amount  fees_charged  taxes  \\\n",
       "0  DAILY            LOAN  2023-04-01              57.72         -0.00  -0.00   \n",
       "1  DAILY            LOAN  2023-04-02              47.59         -0.00  -0.00   \n",
       "2  DAILY            LOAN  2023-04-03              26.10         -0.00  -0.00   \n",
       "3  DAILY            LOAN  2023-04-04              43.78         -0.00  -0.00   \n",
       "4  DAILY            LOAN  2023-04-05              45.13         -0.00  -0.00   \n",
       "\n",
       "   amount_due  \n",
       "0       57.72  \n",
       "1       47.59  \n",
       "2       26.10  \n",
       "3       43.78  \n",
       "4       45.13  "
      ]
     },
     "execution_count": 12,
     "metadata": {},
     "output_type": "execute_result"
    }
   ],
   "source": [
    "adj_pivot = adj_current_month.groupby(['type','adjustment_type','date']).agg({'adjustment_amount':sum\n",
    "                                                                                ,'fees_charged':sum \n",
    "                                                                                ,'taxes':sum\n",
    "                                                                                ,'amount_due':sum}).reset_index()\n",
    "adj_pivot['adjustment_amount'] = adj_pivot['adjustment_amount']*-1 \n",
    "adj_pivot['fees_charged'] = adj_pivot['fees_charged']*-1\n",
    "adj_pivot['taxes'] = adj_pivot['taxes']*-1 \n",
    "adj_pivot['amount_due'] = adj_pivot['amount_due']*-1 \n",
    "adj_pivot.head()"
   ]
  },
  {
   "cell_type": "code",
   "execution_count": 13,
   "metadata": {},
   "outputs": [
    {
     "data": {
      "text/html": [
       "<div>\n",
       "<style scoped>\n",
       "    .dataframe tbody tr th:only-of-type {\n",
       "        vertical-align: middle;\n",
       "    }\n",
       "\n",
       "    .dataframe tbody tr th {\n",
       "        vertical-align: top;\n",
       "    }\n",
       "\n",
       "    .dataframe thead tr th {\n",
       "        text-align: left;\n",
       "    }\n",
       "\n",
       "    .dataframe thead tr:last-of-type th {\n",
       "        text-align: right;\n",
       "    }\n",
       "</style>\n",
       "<table border=\"1\" class=\"dataframe\">\n",
       "  <thead>\n",
       "    <tr>\n",
       "      <th></th>\n",
       "      <th></th>\n",
       "      <th colspan=\"3\" halign=\"left\">adjustment_amount</th>\n",
       "      <th colspan=\"3\" halign=\"left\">amount_due</th>\n",
       "      <th colspan=\"3\" halign=\"left\">fees_charged</th>\n",
       "      <th colspan=\"3\" halign=\"left\">taxes</th>\n",
       "    </tr>\n",
       "    <tr>\n",
       "      <th></th>\n",
       "      <th>adjustment_type</th>\n",
       "      <th>LOAN</th>\n",
       "      <th>PROMO</th>\n",
       "      <th>All</th>\n",
       "      <th>LOAN</th>\n",
       "      <th>PROMO</th>\n",
       "      <th>All</th>\n",
       "      <th>LOAN</th>\n",
       "      <th>PROMO</th>\n",
       "      <th>All</th>\n",
       "      <th>LOAN</th>\n",
       "      <th>PROMO</th>\n",
       "      <th>All</th>\n",
       "    </tr>\n",
       "    <tr>\n",
       "      <th>type</th>\n",
       "      <th>date</th>\n",
       "      <th></th>\n",
       "      <th></th>\n",
       "      <th></th>\n",
       "      <th></th>\n",
       "      <th></th>\n",
       "      <th></th>\n",
       "      <th></th>\n",
       "      <th></th>\n",
       "      <th></th>\n",
       "      <th></th>\n",
       "      <th></th>\n",
       "      <th></th>\n",
       "    </tr>\n",
       "  </thead>\n",
       "  <tbody>\n",
       "    <tr>\n",
       "      <th rowspan=\"5\" valign=\"top\">DAILY</th>\n",
       "      <th>2023-04-01</th>\n",
       "      <td>-57.72</td>\n",
       "      <td>NaN</td>\n",
       "      <td>-57.72</td>\n",
       "      <td>-57.72</td>\n",
       "      <td>NaN</td>\n",
       "      <td>-57.72</td>\n",
       "      <td>0.00</td>\n",
       "      <td>NaN</td>\n",
       "      <td>0.00</td>\n",
       "      <td>0.00</td>\n",
       "      <td>NaN</td>\n",
       "      <td>0.00</td>\n",
       "    </tr>\n",
       "    <tr>\n",
       "      <th>2023-04-02</th>\n",
       "      <td>-47.59</td>\n",
       "      <td>NaN</td>\n",
       "      <td>-47.59</td>\n",
       "      <td>-47.59</td>\n",
       "      <td>NaN</td>\n",
       "      <td>-47.59</td>\n",
       "      <td>0.00</td>\n",
       "      <td>NaN</td>\n",
       "      <td>0.00</td>\n",
       "      <td>0.00</td>\n",
       "      <td>NaN</td>\n",
       "      <td>0.00</td>\n",
       "    </tr>\n",
       "    <tr>\n",
       "      <th>2023-04-03</th>\n",
       "      <td>-26.10</td>\n",
       "      <td>NaN</td>\n",
       "      <td>-26.10</td>\n",
       "      <td>-26.10</td>\n",
       "      <td>NaN</td>\n",
       "      <td>-26.10</td>\n",
       "      <td>0.00</td>\n",
       "      <td>NaN</td>\n",
       "      <td>0.00</td>\n",
       "      <td>0.00</td>\n",
       "      <td>NaN</td>\n",
       "      <td>0.00</td>\n",
       "    </tr>\n",
       "    <tr>\n",
       "      <th>2023-04-04</th>\n",
       "      <td>-43.78</td>\n",
       "      <td>33,223.20</td>\n",
       "      <td>33,179.42</td>\n",
       "      <td>-43.78</td>\n",
       "      <td>33,223.20</td>\n",
       "      <td>33,179.42</td>\n",
       "      <td>0.00</td>\n",
       "      <td>0.00</td>\n",
       "      <td>0.00</td>\n",
       "      <td>0.00</td>\n",
       "      <td>0.00</td>\n",
       "      <td>0.00</td>\n",
       "    </tr>\n",
       "    <tr>\n",
       "      <th>2023-04-05</th>\n",
       "      <td>-45.13</td>\n",
       "      <td>NaN</td>\n",
       "      <td>-45.13</td>\n",
       "      <td>-45.13</td>\n",
       "      <td>NaN</td>\n",
       "      <td>-45.13</td>\n",
       "      <td>0.00</td>\n",
       "      <td>NaN</td>\n",
       "      <td>0.00</td>\n",
       "      <td>0.00</td>\n",
       "      <td>NaN</td>\n",
       "      <td>0.00</td>\n",
       "    </tr>\n",
       "  </tbody>\n",
       "</table>\n",
       "</div>"
      ],
      "text/plain": [
       "                 adjustment_amount                     amount_due            \\\n",
       "adjustment_type               LOAN     PROMO       All       LOAN     PROMO   \n",
       "type  date                                                                    \n",
       "DAILY 2023-04-01            -57.72       NaN    -57.72     -57.72       NaN   \n",
       "      2023-04-02            -47.59       NaN    -47.59     -47.59       NaN   \n",
       "      2023-04-03            -26.10       NaN    -26.10     -26.10       NaN   \n",
       "      2023-04-04            -43.78 33,223.20 33,179.42     -43.78 33,223.20   \n",
       "      2023-04-05            -45.13       NaN    -45.13     -45.13       NaN   \n",
       "\n",
       "                           fees_charged            taxes             \n",
       "adjustment_type        All         LOAN PROMO  All  LOAN PROMO  All  \n",
       "type  date                                                           \n",
       "DAILY 2023-04-01    -57.72         0.00   NaN 0.00  0.00   NaN 0.00  \n",
       "      2023-04-02    -47.59         0.00   NaN 0.00  0.00   NaN 0.00  \n",
       "      2023-04-03    -26.10         0.00   NaN 0.00  0.00   NaN 0.00  \n",
       "      2023-04-04 33,179.42         0.00  0.00 0.00  0.00  0.00 0.00  \n",
       "      2023-04-05    -45.13         0.00   NaN 0.00  0.00   NaN 0.00  "
      ]
     },
     "execution_count": 13,
     "metadata": {},
     "output_type": "execute_result"
    }
   ],
   "source": [
    "adj_pivot_v2 = pd.pivot_table(adj_current_month,index=['type','date']\n",
    "                              ,columns=['adjustment_type']\n",
    "                              ,values=['adjustment_amount','fees_charged','taxes','amount_due']\n",
    "                              ,aggfunc=np.sum,margins=True)\n",
    "adj_pivot_v2.head()"
   ]
  },
  {
   "cell_type": "markdown",
   "metadata": {},
   "source": [
    "# LIBERACIONES"
   ]
  },
  {
   "cell_type": "code",
   "execution_count": 14,
   "metadata": {},
   "outputs": [
    {
     "data": {
      "text/html": [
       "<div>\n",
       "<style scoped>\n",
       "    .dataframe tbody tr th:only-of-type {\n",
       "        vertical-align: middle;\n",
       "    }\n",
       "\n",
       "    .dataframe tbody tr th {\n",
       "        vertical-align: top;\n",
       "    }\n",
       "\n",
       "    .dataframe thead th {\n",
       "        text-align: right;\n",
       "    }\n",
       "</style>\n",
       "<table border=\"1\" class=\"dataframe\">\n",
       "  <thead>\n",
       "    <tr style=\"text-align: right;\">\n",
       "      <th></th>\n",
       "      <th>date_release</th>\n",
       "      <th>report_date_local</th>\n",
       "      <th>retained_date_local</th>\n",
       "      <th>report_id</th>\n",
       "      <th>entry_type</th>\n",
       "      <th>amount</th>\n",
       "      <th>type</th>\n",
       "      <th>file_name</th>\n",
       "    </tr>\n",
       "  </thead>\n",
       "  <tbody>\n",
       "    <tr>\n",
       "      <th>0</th>\n",
       "      <td>2023-04-01</td>\n",
       "      <td>2023-04-01</td>\n",
       "      <td>2022-12-01</td>\n",
       "      <td>68HZDNW3M</td>\n",
       "      <td>LIEN</td>\n",
       "      <td>4,109.90</td>\n",
       "      <td>DAILY</td>\n",
       "      <td>LIBERACIONES ABRIL 2023.csv</td>\n",
       "    </tr>\n",
       "    <tr>\n",
       "      <th>1</th>\n",
       "      <td>2023-04-01</td>\n",
       "      <td>2023-04-01</td>\n",
       "      <td>2022-11-30</td>\n",
       "      <td>Y2F8CQR39</td>\n",
       "      <td>LIEN</td>\n",
       "      <td>470.49</td>\n",
       "      <td>DAILY</td>\n",
       "      <td>LIBERACIONES ABRIL 2023.csv</td>\n",
       "    </tr>\n",
       "    <tr>\n",
       "      <th>2</th>\n",
       "      <td>2023-04-01</td>\n",
       "      <td>2023-04-01</td>\n",
       "      <td>2022-11-30</td>\n",
       "      <td>NJ3PBPNBV</td>\n",
       "      <td>LIEN</td>\n",
       "      <td>479.12</td>\n",
       "      <td>DAILY</td>\n",
       "      <td>LIBERACIONES ABRIL 2023.csv</td>\n",
       "    </tr>\n",
       "    <tr>\n",
       "      <th>3</th>\n",
       "      <td>2023-04-01</td>\n",
       "      <td>2023-04-01</td>\n",
       "      <td>2022-12-20</td>\n",
       "      <td>SWDCZJKYM</td>\n",
       "      <td>LIEN</td>\n",
       "      <td>4,024.61</td>\n",
       "      <td>DAILY</td>\n",
       "      <td>LIBERACIONES ABRIL 2023.csv</td>\n",
       "    </tr>\n",
       "    <tr>\n",
       "      <th>4</th>\n",
       "      <td>2023-04-01</td>\n",
       "      <td>2023-04-01</td>\n",
       "      <td>2023-03-23</td>\n",
       "      <td>D9JD56LM2</td>\n",
       "      <td>LIEN</td>\n",
       "      <td>4,791.20</td>\n",
       "      <td>DAILY</td>\n",
       "      <td>LIBERACIONES ABRIL 2023.csv</td>\n",
       "    </tr>\n",
       "  </tbody>\n",
       "</table>\n",
       "</div>"
      ],
      "text/plain": [
       "  date_release report_date_local retained_date_local  report_id entry_type  \\\n",
       "0   2023-04-01        2023-04-01          2022-12-01  68HZDNW3M       LIEN   \n",
       "1   2023-04-01        2023-04-01          2022-11-30  Y2F8CQR39       LIEN   \n",
       "2   2023-04-01        2023-04-01          2022-11-30  NJ3PBPNBV       LIEN   \n",
       "3   2023-04-01        2023-04-01          2022-12-20  SWDCZJKYM       LIEN   \n",
       "4   2023-04-01        2023-04-01          2023-03-23  D9JD56LM2       LIEN   \n",
       "\n",
       "    amount   type                    file_name  \n",
       "0 4,109.90  DAILY  LIBERACIONES ABRIL 2023.csv  \n",
       "1   470.49  DAILY  LIBERACIONES ABRIL 2023.csv  \n",
       "2   479.12  DAILY  LIBERACIONES ABRIL 2023.csv  \n",
       "3 4,024.61  DAILY  LIBERACIONES ABRIL 2023.csv  \n",
       "4 4,791.20  DAILY  LIBERACIONES ABRIL 2023.csv  "
      ]
     },
     "execution_count": 14,
     "metadata": {},
     "output_type": "execute_result"
    }
   ],
   "source": [
    "lib_1 = pd.concat([pd.read_csv(f).assign(file_name=os.path.basename(f)) for f in allfiles_lib])\n",
    "lib_1.head()"
   ]
  },
  {
   "cell_type": "markdown",
   "metadata": {},
   "source": [
    "### CURRENT DATES"
   ]
  },
  {
   "cell_type": "code",
   "execution_count": 15,
   "metadata": {},
   "outputs": [
    {
     "data": {
      "text/html": [
       "<div>\n",
       "<style scoped>\n",
       "    .dataframe tbody tr th:only-of-type {\n",
       "        vertical-align: middle;\n",
       "    }\n",
       "\n",
       "    .dataframe tbody tr th {\n",
       "        vertical-align: top;\n",
       "    }\n",
       "\n",
       "    .dataframe thead th {\n",
       "        text-align: right;\n",
       "    }\n",
       "</style>\n",
       "<table border=\"1\" class=\"dataframe\">\n",
       "  <thead>\n",
       "    <tr style=\"text-align: right;\">\n",
       "      <th></th>\n",
       "      <th>date_release</th>\n",
       "      <th>report_date_local</th>\n",
       "      <th>retained_date_local</th>\n",
       "      <th>report_id</th>\n",
       "      <th>entry_type</th>\n",
       "      <th>amount</th>\n",
       "      <th>type</th>\n",
       "      <th>file_name</th>\n",
       "    </tr>\n",
       "  </thead>\n",
       "  <tbody>\n",
       "    <tr>\n",
       "      <th>0</th>\n",
       "      <td>2023-04-01</td>\n",
       "      <td>2023-04-01</td>\n",
       "      <td>2022-12-01</td>\n",
       "      <td>68HZDNW3M</td>\n",
       "      <td>LIEN</td>\n",
       "      <td>4,109.90</td>\n",
       "      <td>DAILY</td>\n",
       "      <td>LIBERACIONES ABRIL 2023.csv</td>\n",
       "    </tr>\n",
       "    <tr>\n",
       "      <th>1</th>\n",
       "      <td>2023-04-01</td>\n",
       "      <td>2023-04-01</td>\n",
       "      <td>2022-11-30</td>\n",
       "      <td>Y2F8CQR39</td>\n",
       "      <td>LIEN</td>\n",
       "      <td>470.49</td>\n",
       "      <td>DAILY</td>\n",
       "      <td>LIBERACIONES ABRIL 2023.csv</td>\n",
       "    </tr>\n",
       "    <tr>\n",
       "      <th>2</th>\n",
       "      <td>2023-04-01</td>\n",
       "      <td>2023-04-01</td>\n",
       "      <td>2022-11-30</td>\n",
       "      <td>NJ3PBPNBV</td>\n",
       "      <td>LIEN</td>\n",
       "      <td>479.12</td>\n",
       "      <td>DAILY</td>\n",
       "      <td>LIBERACIONES ABRIL 2023.csv</td>\n",
       "    </tr>\n",
       "    <tr>\n",
       "      <th>3</th>\n",
       "      <td>2023-04-01</td>\n",
       "      <td>2023-04-01</td>\n",
       "      <td>2022-12-20</td>\n",
       "      <td>SWDCZJKYM</td>\n",
       "      <td>LIEN</td>\n",
       "      <td>4,024.61</td>\n",
       "      <td>DAILY</td>\n",
       "      <td>LIBERACIONES ABRIL 2023.csv</td>\n",
       "    </tr>\n",
       "    <tr>\n",
       "      <th>4</th>\n",
       "      <td>2023-04-01</td>\n",
       "      <td>2023-04-01</td>\n",
       "      <td>2023-03-23</td>\n",
       "      <td>D9JD56LM2</td>\n",
       "      <td>LIEN</td>\n",
       "      <td>4,791.20</td>\n",
       "      <td>DAILY</td>\n",
       "      <td>LIBERACIONES ABRIL 2023.csv</td>\n",
       "    </tr>\n",
       "  </tbody>\n",
       "</table>\n",
       "</div>"
      ],
      "text/plain": [
       "  date_release report_date_local retained_date_local  report_id entry_type  \\\n",
       "0   2023-04-01        2023-04-01          2022-12-01  68HZDNW3M       LIEN   \n",
       "1   2023-04-01        2023-04-01          2022-11-30  Y2F8CQR39       LIEN   \n",
       "2   2023-04-01        2023-04-01          2022-11-30  NJ3PBPNBV       LIEN   \n",
       "3   2023-04-01        2023-04-01          2022-12-20  SWDCZJKYM       LIEN   \n",
       "4   2023-04-01        2023-04-01          2023-03-23  D9JD56LM2       LIEN   \n",
       "\n",
       "    amount   type                    file_name  \n",
       "0 4,109.90  DAILY  LIBERACIONES ABRIL 2023.csv  \n",
       "1   470.49  DAILY  LIBERACIONES ABRIL 2023.csv  \n",
       "2   479.12  DAILY  LIBERACIONES ABRIL 2023.csv  \n",
       "3 4,024.61  DAILY  LIBERACIONES ABRIL 2023.csv  \n",
       "4 4,791.20  DAILY  LIBERACIONES ABRIL 2023.csv  "
      ]
     },
     "execution_count": 15,
     "metadata": {},
     "output_type": "execute_result"
    }
   ],
   "source": [
    "lib_current_month = lib_1[(lib_1['report_date_local'] >= start_date) & (lib_1['report_date_local'] <= final_date)]\n",
    "lib_current_month.head()"
   ]
  },
  {
   "cell_type": "code",
   "execution_count": 16,
   "metadata": {},
   "outputs": [
    {
     "data": {
      "text/plain": [
       "(324, 8)"
      ]
     },
     "execution_count": 16,
     "metadata": {},
     "output_type": "execute_result"
    }
   ],
   "source": [
    "lib_current_month.shape"
   ]
  },
  {
   "cell_type": "markdown",
   "metadata": {},
   "source": [
    "### PIVOT"
   ]
  },
  {
   "cell_type": "code",
   "execution_count": 17,
   "metadata": {},
   "outputs": [
    {
     "data": {
      "text/html": [
       "<div>\n",
       "<style scoped>\n",
       "    .dataframe tbody tr th:only-of-type {\n",
       "        vertical-align: middle;\n",
       "    }\n",
       "\n",
       "    .dataframe tbody tr th {\n",
       "        vertical-align: top;\n",
       "    }\n",
       "\n",
       "    .dataframe thead th {\n",
       "        text-align: right;\n",
       "    }\n",
       "</style>\n",
       "<table border=\"1\" class=\"dataframe\">\n",
       "  <thead>\n",
       "    <tr style=\"text-align: right;\">\n",
       "      <th></th>\n",
       "      <th>type</th>\n",
       "      <th>entry_type</th>\n",
       "      <th>report_date_local</th>\n",
       "      <th>amount</th>\n",
       "    </tr>\n",
       "  </thead>\n",
       "  <tbody>\n",
       "    <tr>\n",
       "      <th>0</th>\n",
       "      <td>DAILY</td>\n",
       "      <td>LIEN</td>\n",
       "      <td>2023-04-01</td>\n",
       "      <td>142,577.34</td>\n",
       "    </tr>\n",
       "    <tr>\n",
       "      <th>1</th>\n",
       "      <td>DAILY</td>\n",
       "      <td>LIEN</td>\n",
       "      <td>2023-04-02</td>\n",
       "      <td>762,442.19</td>\n",
       "    </tr>\n",
       "    <tr>\n",
       "      <th>2</th>\n",
       "      <td>DAILY</td>\n",
       "      <td>LIEN</td>\n",
       "      <td>2023-04-03</td>\n",
       "      <td>247,175.35</td>\n",
       "    </tr>\n",
       "    <tr>\n",
       "      <th>3</th>\n",
       "      <td>DAILY</td>\n",
       "      <td>LIEN</td>\n",
       "      <td>2023-04-04</td>\n",
       "      <td>22,413.98</td>\n",
       "    </tr>\n",
       "    <tr>\n",
       "      <th>4</th>\n",
       "      <td>DAILY</td>\n",
       "      <td>LIEN</td>\n",
       "      <td>2023-04-05</td>\n",
       "      <td>196,008.61</td>\n",
       "    </tr>\n",
       "  </tbody>\n",
       "</table>\n",
       "</div>"
      ],
      "text/plain": [
       "    type entry_type report_date_local     amount\n",
       "0  DAILY       LIEN        2023-04-01 142,577.34\n",
       "1  DAILY       LIEN        2023-04-02 762,442.19\n",
       "2  DAILY       LIEN        2023-04-03 247,175.35\n",
       "3  DAILY       LIEN        2023-04-04  22,413.98\n",
       "4  DAILY       LIEN        2023-04-05 196,008.61"
      ]
     },
     "execution_count": 17,
     "metadata": {},
     "output_type": "execute_result"
    }
   ],
   "source": [
    "lib_pivot = lib_current_month.groupby(['type','entry_type','report_date_local']).agg({'amount':sum}).reset_index()\n",
    "lib_pivot.head()"
   ]
  },
  {
   "cell_type": "code",
   "execution_count": 18,
   "metadata": {},
   "outputs": [
    {
     "data": {
      "text/plain": [
       "(30, 4)"
      ]
     },
     "execution_count": 18,
     "metadata": {},
     "output_type": "execute_result"
    }
   ],
   "source": [
    "lib_pivot.shape"
   ]
  },
  {
   "cell_type": "code",
   "execution_count": 19,
   "metadata": {},
   "outputs": [
    {
     "data": {
      "text/html": [
       "<div>\n",
       "<style scoped>\n",
       "    .dataframe tbody tr th:only-of-type {\n",
       "        vertical-align: middle;\n",
       "    }\n",
       "\n",
       "    .dataframe tbody tr th {\n",
       "        vertical-align: top;\n",
       "    }\n",
       "\n",
       "    .dataframe thead tr th {\n",
       "        text-align: left;\n",
       "    }\n",
       "\n",
       "    .dataframe thead tr:last-of-type th {\n",
       "        text-align: right;\n",
       "    }\n",
       "</style>\n",
       "<table border=\"1\" class=\"dataframe\">\n",
       "  <thead>\n",
       "    <tr>\n",
       "      <th></th>\n",
       "      <th></th>\n",
       "      <th colspan=\"2\" halign=\"left\">amount</th>\n",
       "    </tr>\n",
       "    <tr>\n",
       "      <th></th>\n",
       "      <th>entry_type</th>\n",
       "      <th>LIEN</th>\n",
       "      <th>All</th>\n",
       "    </tr>\n",
       "    <tr>\n",
       "      <th>type</th>\n",
       "      <th>report_date_local</th>\n",
       "      <th></th>\n",
       "      <th></th>\n",
       "    </tr>\n",
       "  </thead>\n",
       "  <tbody>\n",
       "    <tr>\n",
       "      <th rowspan=\"5\" valign=\"top\">DAILY</th>\n",
       "      <th>2023-04-01</th>\n",
       "      <td>142,577.34</td>\n",
       "      <td>142,577.34</td>\n",
       "    </tr>\n",
       "    <tr>\n",
       "      <th>2023-04-02</th>\n",
       "      <td>762,442.19</td>\n",
       "      <td>762,442.19</td>\n",
       "    </tr>\n",
       "    <tr>\n",
       "      <th>2023-04-03</th>\n",
       "      <td>247,175.35</td>\n",
       "      <td>247,175.35</td>\n",
       "    </tr>\n",
       "    <tr>\n",
       "      <th>2023-04-04</th>\n",
       "      <td>22,413.98</td>\n",
       "      <td>22,413.98</td>\n",
       "    </tr>\n",
       "    <tr>\n",
       "      <th>2023-04-05</th>\n",
       "      <td>196,008.61</td>\n",
       "      <td>196,008.61</td>\n",
       "    </tr>\n",
       "  </tbody>\n",
       "</table>\n",
       "</div>"
      ],
      "text/plain": [
       "                            amount           \n",
       "entry_type                    LIEN        All\n",
       "type  report_date_local                      \n",
       "DAILY 2023-04-01        142,577.34 142,577.34\n",
       "      2023-04-02        762,442.19 762,442.19\n",
       "      2023-04-03        247,175.35 247,175.35\n",
       "      2023-04-04         22,413.98  22,413.98\n",
       "      2023-04-05        196,008.61 196,008.61"
      ]
     },
     "execution_count": 19,
     "metadata": {},
     "output_type": "execute_result"
    }
   ],
   "source": [
    "lib_pivot_v2 = pd.pivot_table(lib_current_month,index=['type','report_date_local']\n",
    "                              ,columns=['entry_type']\n",
    "                              ,values=['amount']\n",
    "                              ,aggfunc=np.sum,margins=True)\n",
    "lib_pivot_v2.head()"
   ]
  },
  {
   "cell_type": "code",
   "execution_count": 20,
   "metadata": {},
   "outputs": [
    {
     "data": {
      "text/plain": [
       "(31, 2)"
      ]
     },
     "execution_count": 20,
     "metadata": {},
     "output_type": "execute_result"
    }
   ],
   "source": [
    "lib_pivot_v2.shape"
   ]
  },
  {
   "cell_type": "markdown",
   "metadata": {},
   "source": [
    "# RETENCIONES"
   ]
  },
  {
   "cell_type": "code",
   "execution_count": 21,
   "metadata": {},
   "outputs": [
    {
     "data": {
      "text/html": [
       "<div>\n",
       "<style scoped>\n",
       "    .dataframe tbody tr th:only-of-type {\n",
       "        vertical-align: middle;\n",
       "    }\n",
       "\n",
       "    .dataframe tbody tr th {\n",
       "        vertical-align: top;\n",
       "    }\n",
       "\n",
       "    .dataframe thead th {\n",
       "        text-align: right;\n",
       "    }\n",
       "</style>\n",
       "<table border=\"1\" class=\"dataframe\">\n",
       "  <thead>\n",
       "    <tr style=\"text-align: right;\">\n",
       "      <th></th>\n",
       "      <th>date_retainment</th>\n",
       "      <th>report_date_local</th>\n",
       "      <th>report_id</th>\n",
       "      <th>entry_type</th>\n",
       "      <th>amount</th>\n",
       "      <th>type</th>\n",
       "      <th>file_name</th>\n",
       "    </tr>\n",
       "  </thead>\n",
       "  <tbody>\n",
       "    <tr>\n",
       "      <th>0</th>\n",
       "      <td>2023-04-06</td>\n",
       "      <td>2023-04-06</td>\n",
       "      <td>QMNCLQPGP</td>\n",
       "      <td>LIEN</td>\n",
       "      <td>1,068.44</td>\n",
       "      <td>DAILY</td>\n",
       "      <td>RETENCIONES ABRIL 2023.csv</td>\n",
       "    </tr>\n",
       "    <tr>\n",
       "      <th>1</th>\n",
       "      <td>2023-04-11</td>\n",
       "      <td>2023-04-11</td>\n",
       "      <td>NPBW84N9G</td>\n",
       "      <td>LIEN</td>\n",
       "      <td>108.00</td>\n",
       "      <td>DAILY</td>\n",
       "      <td>RETENCIONES ABRIL 2023.csv</td>\n",
       "    </tr>\n",
       "    <tr>\n",
       "      <th>2</th>\n",
       "      <td>2023-04-13</td>\n",
       "      <td>2023-04-13</td>\n",
       "      <td>XHCJWK92V</td>\n",
       "      <td>LIEN</td>\n",
       "      <td>8.00</td>\n",
       "      <td>DAILY</td>\n",
       "      <td>RETENCIONES ABRIL 2023.csv</td>\n",
       "    </tr>\n",
       "  </tbody>\n",
       "</table>\n",
       "</div>"
      ],
      "text/plain": [
       "  date_retainment report_date_local  report_id entry_type   amount   type  \\\n",
       "0      2023-04-06        2023-04-06  QMNCLQPGP       LIEN 1,068.44  DAILY   \n",
       "1      2023-04-11        2023-04-11  NPBW84N9G       LIEN   108.00  DAILY   \n",
       "2      2023-04-13        2023-04-13  XHCJWK92V       LIEN     8.00  DAILY   \n",
       "\n",
       "                    file_name  \n",
       "0  RETENCIONES ABRIL 2023.csv  \n",
       "1  RETENCIONES ABRIL 2023.csv  \n",
       "2  RETENCIONES ABRIL 2023.csv  "
      ]
     },
     "execution_count": 21,
     "metadata": {},
     "output_type": "execute_result"
    }
   ],
   "source": [
    "ret_1 = pd.concat([pd.read_csv(f).assign(file_name=os.path.basename(f)) for f in allfiles_ret])\n",
    "ret_1.head()"
   ]
  },
  {
   "cell_type": "markdown",
   "metadata": {},
   "source": [
    "### CURRENT DATES"
   ]
  },
  {
   "cell_type": "code",
   "execution_count": 22,
   "metadata": {},
   "outputs": [
    {
     "data": {
      "text/html": [
       "<div>\n",
       "<style scoped>\n",
       "    .dataframe tbody tr th:only-of-type {\n",
       "        vertical-align: middle;\n",
       "    }\n",
       "\n",
       "    .dataframe tbody tr th {\n",
       "        vertical-align: top;\n",
       "    }\n",
       "\n",
       "    .dataframe thead th {\n",
       "        text-align: right;\n",
       "    }\n",
       "</style>\n",
       "<table border=\"1\" class=\"dataframe\">\n",
       "  <thead>\n",
       "    <tr style=\"text-align: right;\">\n",
       "      <th></th>\n",
       "      <th>date_retainment</th>\n",
       "      <th>report_date_local</th>\n",
       "      <th>report_id</th>\n",
       "      <th>entry_type</th>\n",
       "      <th>amount</th>\n",
       "      <th>type</th>\n",
       "      <th>file_name</th>\n",
       "    </tr>\n",
       "  </thead>\n",
       "  <tbody>\n",
       "    <tr>\n",
       "      <th>0</th>\n",
       "      <td>2023-04-06</td>\n",
       "      <td>2023-04-06</td>\n",
       "      <td>QMNCLQPGP</td>\n",
       "      <td>LIEN</td>\n",
       "      <td>1,068.44</td>\n",
       "      <td>DAILY</td>\n",
       "      <td>RETENCIONES ABRIL 2023.csv</td>\n",
       "    </tr>\n",
       "    <tr>\n",
       "      <th>1</th>\n",
       "      <td>2023-04-11</td>\n",
       "      <td>2023-04-11</td>\n",
       "      <td>NPBW84N9G</td>\n",
       "      <td>LIEN</td>\n",
       "      <td>108.00</td>\n",
       "      <td>DAILY</td>\n",
       "      <td>RETENCIONES ABRIL 2023.csv</td>\n",
       "    </tr>\n",
       "    <tr>\n",
       "      <th>2</th>\n",
       "      <td>2023-04-13</td>\n",
       "      <td>2023-04-13</td>\n",
       "      <td>XHCJWK92V</td>\n",
       "      <td>LIEN</td>\n",
       "      <td>8.00</td>\n",
       "      <td>DAILY</td>\n",
       "      <td>RETENCIONES ABRIL 2023.csv</td>\n",
       "    </tr>\n",
       "  </tbody>\n",
       "</table>\n",
       "</div>"
      ],
      "text/plain": [
       "  date_retainment report_date_local  report_id entry_type   amount   type  \\\n",
       "0      2023-04-06        2023-04-06  QMNCLQPGP       LIEN 1,068.44  DAILY   \n",
       "1      2023-04-11        2023-04-11  NPBW84N9G       LIEN   108.00  DAILY   \n",
       "2      2023-04-13        2023-04-13  XHCJWK92V       LIEN     8.00  DAILY   \n",
       "\n",
       "                    file_name  \n",
       "0  RETENCIONES ABRIL 2023.csv  \n",
       "1  RETENCIONES ABRIL 2023.csv  \n",
       "2  RETENCIONES ABRIL 2023.csv  "
      ]
     },
     "execution_count": 22,
     "metadata": {},
     "output_type": "execute_result"
    }
   ],
   "source": [
    "ret_current_month = ret_1[(ret_1['report_date_local'] >= start_date) & (ret_1['report_date_local'] <= final_date)]\n",
    "ret_current_month.head()"
   ]
  },
  {
   "cell_type": "code",
   "execution_count": 23,
   "metadata": {},
   "outputs": [
    {
     "data": {
      "text/plain": [
       "(3, 7)"
      ]
     },
     "execution_count": 23,
     "metadata": {},
     "output_type": "execute_result"
    }
   ],
   "source": [
    "ret_current_month.shape"
   ]
  },
  {
   "cell_type": "markdown",
   "metadata": {},
   "source": [
    "### PIVOT"
   ]
  },
  {
   "cell_type": "code",
   "execution_count": 24,
   "metadata": {},
   "outputs": [
    {
     "data": {
      "text/html": [
       "<div>\n",
       "<style scoped>\n",
       "    .dataframe tbody tr th:only-of-type {\n",
       "        vertical-align: middle;\n",
       "    }\n",
       "\n",
       "    .dataframe tbody tr th {\n",
       "        vertical-align: top;\n",
       "    }\n",
       "\n",
       "    .dataframe thead th {\n",
       "        text-align: right;\n",
       "    }\n",
       "</style>\n",
       "<table border=\"1\" class=\"dataframe\">\n",
       "  <thead>\n",
       "    <tr style=\"text-align: right;\">\n",
       "      <th></th>\n",
       "      <th>type</th>\n",
       "      <th>entry_type</th>\n",
       "      <th>report_date_local</th>\n",
       "      <th>amount</th>\n",
       "    </tr>\n",
       "  </thead>\n",
       "  <tbody>\n",
       "    <tr>\n",
       "      <th>0</th>\n",
       "      <td>DAILY</td>\n",
       "      <td>LIEN</td>\n",
       "      <td>2023-04-06</td>\n",
       "      <td>1,068.44</td>\n",
       "    </tr>\n",
       "    <tr>\n",
       "      <th>1</th>\n",
       "      <td>DAILY</td>\n",
       "      <td>LIEN</td>\n",
       "      <td>2023-04-11</td>\n",
       "      <td>108.00</td>\n",
       "    </tr>\n",
       "    <tr>\n",
       "      <th>2</th>\n",
       "      <td>DAILY</td>\n",
       "      <td>LIEN</td>\n",
       "      <td>2023-04-13</td>\n",
       "      <td>8.00</td>\n",
       "    </tr>\n",
       "  </tbody>\n",
       "</table>\n",
       "</div>"
      ],
      "text/plain": [
       "    type entry_type report_date_local   amount\n",
       "0  DAILY       LIEN        2023-04-06 1,068.44\n",
       "1  DAILY       LIEN        2023-04-11   108.00\n",
       "2  DAILY       LIEN        2023-04-13     8.00"
      ]
     },
     "execution_count": 24,
     "metadata": {},
     "output_type": "execute_result"
    }
   ],
   "source": [
    "ret_pivot = ret_current_month.groupby(['type','entry_type','report_date_local']).agg({'amount':sum}).reset_index()\n",
    "ret_pivot.head()"
   ]
  },
  {
   "cell_type": "code",
   "execution_count": 25,
   "metadata": {},
   "outputs": [
    {
     "data": {
      "text/plain": [
       "(3, 4)"
      ]
     },
     "execution_count": 25,
     "metadata": {},
     "output_type": "execute_result"
    }
   ],
   "source": [
    "ret_pivot.shape"
   ]
  },
  {
   "cell_type": "code",
   "execution_count": 26,
   "metadata": {},
   "outputs": [
    {
     "data": {
      "text/html": [
       "<div>\n",
       "<style scoped>\n",
       "    .dataframe tbody tr th:only-of-type {\n",
       "        vertical-align: middle;\n",
       "    }\n",
       "\n",
       "    .dataframe tbody tr th {\n",
       "        vertical-align: top;\n",
       "    }\n",
       "\n",
       "    .dataframe thead tr th {\n",
       "        text-align: left;\n",
       "    }\n",
       "\n",
       "    .dataframe thead tr:last-of-type th {\n",
       "        text-align: right;\n",
       "    }\n",
       "</style>\n",
       "<table border=\"1\" class=\"dataframe\">\n",
       "  <thead>\n",
       "    <tr>\n",
       "      <th></th>\n",
       "      <th></th>\n",
       "      <th colspan=\"2\" halign=\"left\">amount</th>\n",
       "    </tr>\n",
       "    <tr>\n",
       "      <th></th>\n",
       "      <th>entry_type</th>\n",
       "      <th>LIEN</th>\n",
       "      <th>All</th>\n",
       "    </tr>\n",
       "    <tr>\n",
       "      <th>type</th>\n",
       "      <th>report_date_local</th>\n",
       "      <th></th>\n",
       "      <th></th>\n",
       "    </tr>\n",
       "  </thead>\n",
       "  <tbody>\n",
       "    <tr>\n",
       "      <th rowspan=\"3\" valign=\"top\">DAILY</th>\n",
       "      <th>2023-04-06</th>\n",
       "      <td>1,068.44</td>\n",
       "      <td>1,068.44</td>\n",
       "    </tr>\n",
       "    <tr>\n",
       "      <th>2023-04-11</th>\n",
       "      <td>108.00</td>\n",
       "      <td>108.00</td>\n",
       "    </tr>\n",
       "    <tr>\n",
       "      <th>2023-04-13</th>\n",
       "      <td>8.00</td>\n",
       "      <td>8.00</td>\n",
       "    </tr>\n",
       "    <tr>\n",
       "      <th>All</th>\n",
       "      <th></th>\n",
       "      <td>1,184.44</td>\n",
       "      <td>1,184.44</td>\n",
       "    </tr>\n",
       "  </tbody>\n",
       "</table>\n",
       "</div>"
      ],
      "text/plain": [
       "                          amount         \n",
       "entry_type                  LIEN      All\n",
       "type  report_date_local                  \n",
       "DAILY 2023-04-06        1,068.44 1,068.44\n",
       "      2023-04-11          108.00   108.00\n",
       "      2023-04-13            8.00     8.00\n",
       "All                     1,184.44 1,184.44"
      ]
     },
     "execution_count": 26,
     "metadata": {},
     "output_type": "execute_result"
    }
   ],
   "source": [
    "ret_pivot_v2 = pd.pivot_table(ret_current_month,index=['type','report_date_local']\n",
    "                              ,columns=['entry_type']\n",
    "                              ,values=['amount']\n",
    "                              ,aggfunc=np.sum,margins=True)\n",
    "ret_pivot_v2.head()"
   ]
  },
  {
   "cell_type": "code",
   "execution_count": 27,
   "metadata": {},
   "outputs": [
    {
     "data": {
      "text/plain": [
       "(4, 2)"
      ]
     },
     "execution_count": 27,
     "metadata": {},
     "output_type": "execute_result"
    }
   ],
   "source": [
    "ret_pivot_v2.shape"
   ]
  },
  {
   "cell_type": "markdown",
   "metadata": {},
   "source": [
    "# COMISIONES SWAP / BNTE"
   ]
  },
  {
   "cell_type": "code",
   "execution_count": 28,
   "metadata": {},
   "outputs": [
    {
     "data": {
      "text/html": [
       "<div>\n",
       "<style scoped>\n",
       "    .dataframe tbody tr th:only-of-type {\n",
       "        vertical-align: middle;\n",
       "    }\n",
       "\n",
       "    .dataframe tbody tr th {\n",
       "        vertical-align: top;\n",
       "    }\n",
       "\n",
       "    .dataframe thead th {\n",
       "        text-align: right;\n",
       "    }\n",
       "</style>\n",
       "<table border=\"1\" class=\"dataframe\">\n",
       "  <thead>\n",
       "    <tr style=\"text-align: right;\">\n",
       "      <th></th>\n",
       "      <th>date_disbursement</th>\n",
       "      <th>amount</th>\n",
       "      <th>payments_number</th>\n",
       "      <th>comision_dsp</th>\n",
       "      <th>iva_dsp</th>\n",
       "      <th>comision + iva</th>\n",
       "      <th>total_fondeo</th>\n",
       "      <th>monto_mail</th>\n",
       "      <th>comision_mail</th>\n",
       "      <th>iva_mail</th>\n",
       "      <th>monto_fondeo_mail</th>\n",
       "      <th>check_monto</th>\n",
       "      <th>check_comision</th>\n",
       "      <th>check_iva</th>\n",
       "      <th>check_fondeo</th>\n",
       "      <th>dsp</th>\n",
       "      <th>file_name</th>\n",
       "    </tr>\n",
       "  </thead>\n",
       "  <tbody>\n",
       "    <tr>\n",
       "      <th>0</th>\n",
       "      <td>2023-04-01</td>\n",
       "      <td>227,062,280.92</td>\n",
       "      <td>94688</td>\n",
       "      <td>164,724.90</td>\n",
       "      <td>26,355.98</td>\n",
       "      <td>191,080.88</td>\n",
       "      <td>227,253,361.80</td>\n",
       "      <td>227,062,280.92</td>\n",
       "      <td>164,724.90</td>\n",
       "      <td>26,355.98</td>\n",
       "      <td>227,253,361.80</td>\n",
       "      <td>0.00</td>\n",
       "      <td>0.00</td>\n",
       "      <td>0.00</td>\n",
       "      <td>0.00</td>\n",
       "      <td>BNTE</td>\n",
       "      <td>DIFF MONTOS-BNTE-1 2023-04-01.csv</td>\n",
       "    </tr>\n",
       "    <tr>\n",
       "      <th>0</th>\n",
       "      <td>2023-04-02</td>\n",
       "      <td>236,606,399.40</td>\n",
       "      <td>94680</td>\n",
       "      <td>164,931.00</td>\n",
       "      <td>26,388.96</td>\n",
       "      <td>191,319.96</td>\n",
       "      <td>236,797,719.36</td>\n",
       "      <td>236,606,399.40</td>\n",
       "      <td>164,931.00</td>\n",
       "      <td>26,388.96</td>\n",
       "      <td>236,797,719.36</td>\n",
       "      <td>0.00</td>\n",
       "      <td>0.00</td>\n",
       "      <td>0.00</td>\n",
       "      <td>0.00</td>\n",
       "      <td>BNTE</td>\n",
       "      <td>DIFF MONTOS-BNTE-1 2023-04-02.csv</td>\n",
       "    </tr>\n",
       "    <tr>\n",
       "      <th>0</th>\n",
       "      <td>2023-04-06</td>\n",
       "      <td>202,454,854.78</td>\n",
       "      <td>94706</td>\n",
       "      <td>164,749.80</td>\n",
       "      <td>26,359.97</td>\n",
       "      <td>191,109.77</td>\n",
       "      <td>202,645,964.55</td>\n",
       "      <td>202,454,854.78</td>\n",
       "      <td>164,749.80</td>\n",
       "      <td>26,359.97</td>\n",
       "      <td>202,645,964.55</td>\n",
       "      <td>0.00</td>\n",
       "      <td>0.00</td>\n",
       "      <td>-0.00</td>\n",
       "      <td>-0.00</td>\n",
       "      <td>BNTE</td>\n",
       "      <td>DIFF MONTOS-BNTE-1 2023-04-06.csv</td>\n",
       "    </tr>\n",
       "    <tr>\n",
       "      <th>0</th>\n",
       "      <td>2023-04-07</td>\n",
       "      <td>211,601,079.81</td>\n",
       "      <td>89809</td>\n",
       "      <td>156,637.20</td>\n",
       "      <td>25,061.95</td>\n",
       "      <td>181,699.15</td>\n",
       "      <td>211,782,778.96</td>\n",
       "      <td>211,601,079.81</td>\n",
       "      <td>156,637.20</td>\n",
       "      <td>25,061.95</td>\n",
       "      <td>211,782,778.96</td>\n",
       "      <td>0.00</td>\n",
       "      <td>0.00</td>\n",
       "      <td>0.00</td>\n",
       "      <td>0.00</td>\n",
       "      <td>BNTE</td>\n",
       "      <td>DIFF MONTOS-BNTE-1 2023-04-07.csv</td>\n",
       "    </tr>\n",
       "    <tr>\n",
       "      <th>0</th>\n",
       "      <td>2023-04-08</td>\n",
       "      <td>175,938,164.91</td>\n",
       "      <td>64398</td>\n",
       "      <td>112,371.90</td>\n",
       "      <td>17,979.50</td>\n",
       "      <td>130,351.40</td>\n",
       "      <td>176,068,516.31</td>\n",
       "      <td>175,938,164.91</td>\n",
       "      <td>112,371.90</td>\n",
       "      <td>17,979.50</td>\n",
       "      <td>176,068,516.31</td>\n",
       "      <td>0.00</td>\n",
       "      <td>0.00</td>\n",
       "      <td>0.00</td>\n",
       "      <td>0.00</td>\n",
       "      <td>BNTE</td>\n",
       "      <td>DIFF MONTOS-BNTE-1 2023-04-08.csv</td>\n",
       "    </tr>\n",
       "  </tbody>\n",
       "</table>\n",
       "</div>"
      ],
      "text/plain": [
       "  date_disbursement         amount  payments_number  comision_dsp   iva_dsp  \\\n",
       "0        2023-04-01 227,062,280.92            94688    164,724.90 26,355.98   \n",
       "0        2023-04-02 236,606,399.40            94680    164,931.00 26,388.96   \n",
       "0        2023-04-06 202,454,854.78            94706    164,749.80 26,359.97   \n",
       "0        2023-04-07 211,601,079.81            89809    156,637.20 25,061.95   \n",
       "0        2023-04-08 175,938,164.91            64398    112,371.90 17,979.50   \n",
       "\n",
       "   comision + iva   total_fondeo     monto_mail  comision_mail  iva_mail  \\\n",
       "0      191,080.88 227,253,361.80 227,062,280.92     164,724.90 26,355.98   \n",
       "0      191,319.96 236,797,719.36 236,606,399.40     164,931.00 26,388.96   \n",
       "0      191,109.77 202,645,964.55 202,454,854.78     164,749.80 26,359.97   \n",
       "0      181,699.15 211,782,778.96 211,601,079.81     156,637.20 25,061.95   \n",
       "0      130,351.40 176,068,516.31 175,938,164.91     112,371.90 17,979.50   \n",
       "\n",
       "   monto_fondeo_mail  check_monto  check_comision  check_iva  check_fondeo  \\\n",
       "0     227,253,361.80         0.00            0.00       0.00          0.00   \n",
       "0     236,797,719.36         0.00            0.00       0.00          0.00   \n",
       "0     202,645,964.55         0.00            0.00      -0.00         -0.00   \n",
       "0     211,782,778.96         0.00            0.00       0.00          0.00   \n",
       "0     176,068,516.31         0.00            0.00       0.00          0.00   \n",
       "\n",
       "    dsp                          file_name  \n",
       "0  BNTE  DIFF MONTOS-BNTE-1 2023-04-01.csv  \n",
       "0  BNTE  DIFF MONTOS-BNTE-1 2023-04-02.csv  \n",
       "0  BNTE  DIFF MONTOS-BNTE-1 2023-04-06.csv  \n",
       "0  BNTE  DIFF MONTOS-BNTE-1 2023-04-07.csv  \n",
       "0  BNTE  DIFF MONTOS-BNTE-1 2023-04-08.csv  "
      ]
     },
     "execution_count": 28,
     "metadata": {},
     "output_type": "execute_result"
    }
   ],
   "source": [
    "com_1 = pd.concat([pd.read_csv(f).assign(file_name=os.path.basename(f)) for f in allfiles_com])\n",
    "com_1.head()"
   ]
  },
  {
   "cell_type": "code",
   "execution_count": 29,
   "metadata": {},
   "outputs": [
    {
     "data": {
      "text/plain": [
       "(67, 17)"
      ]
     },
     "execution_count": 29,
     "metadata": {},
     "output_type": "execute_result"
    }
   ],
   "source": [
    "com_1.shape"
   ]
  },
  {
   "cell_type": "markdown",
   "metadata": {},
   "source": [
    "### CURRENT DATES"
   ]
  },
  {
   "cell_type": "code",
   "execution_count": 30,
   "metadata": {},
   "outputs": [
    {
     "data": {
      "text/html": [
       "<div>\n",
       "<style scoped>\n",
       "    .dataframe tbody tr th:only-of-type {\n",
       "        vertical-align: middle;\n",
       "    }\n",
       "\n",
       "    .dataframe tbody tr th {\n",
       "        vertical-align: top;\n",
       "    }\n",
       "\n",
       "    .dataframe thead th {\n",
       "        text-align: right;\n",
       "    }\n",
       "</style>\n",
       "<table border=\"1\" class=\"dataframe\">\n",
       "  <thead>\n",
       "    <tr style=\"text-align: right;\">\n",
       "      <th></th>\n",
       "      <th>date_disbursement</th>\n",
       "      <th>amount</th>\n",
       "      <th>payments_number</th>\n",
       "      <th>comision_dsp</th>\n",
       "      <th>iva_dsp</th>\n",
       "      <th>comision + iva</th>\n",
       "      <th>total_fondeo</th>\n",
       "      <th>monto_mail</th>\n",
       "      <th>comision_mail</th>\n",
       "      <th>iva_mail</th>\n",
       "      <th>monto_fondeo_mail</th>\n",
       "      <th>check_monto</th>\n",
       "      <th>check_comision</th>\n",
       "      <th>check_iva</th>\n",
       "      <th>check_fondeo</th>\n",
       "      <th>dsp</th>\n",
       "      <th>file_name</th>\n",
       "    </tr>\n",
       "  </thead>\n",
       "  <tbody>\n",
       "    <tr>\n",
       "      <th>0</th>\n",
       "      <td>2023-04-01</td>\n",
       "      <td>227,062,280.92</td>\n",
       "      <td>94688</td>\n",
       "      <td>164,724.90</td>\n",
       "      <td>26,355.98</td>\n",
       "      <td>191,080.88</td>\n",
       "      <td>227,253,361.80</td>\n",
       "      <td>227,062,280.92</td>\n",
       "      <td>164,724.90</td>\n",
       "      <td>26,355.98</td>\n",
       "      <td>227,253,361.80</td>\n",
       "      <td>0.00</td>\n",
       "      <td>0.00</td>\n",
       "      <td>0.00</td>\n",
       "      <td>0.00</td>\n",
       "      <td>BNTE</td>\n",
       "      <td>DIFF MONTOS-BNTE-1 2023-04-01.csv</td>\n",
       "    </tr>\n",
       "    <tr>\n",
       "      <th>0</th>\n",
       "      <td>2023-04-02</td>\n",
       "      <td>236,606,399.40</td>\n",
       "      <td>94680</td>\n",
       "      <td>164,931.00</td>\n",
       "      <td>26,388.96</td>\n",
       "      <td>191,319.96</td>\n",
       "      <td>236,797,719.36</td>\n",
       "      <td>236,606,399.40</td>\n",
       "      <td>164,931.00</td>\n",
       "      <td>26,388.96</td>\n",
       "      <td>236,797,719.36</td>\n",
       "      <td>0.00</td>\n",
       "      <td>0.00</td>\n",
       "      <td>0.00</td>\n",
       "      <td>0.00</td>\n",
       "      <td>BNTE</td>\n",
       "      <td>DIFF MONTOS-BNTE-1 2023-04-02.csv</td>\n",
       "    </tr>\n",
       "    <tr>\n",
       "      <th>0</th>\n",
       "      <td>2023-04-06</td>\n",
       "      <td>202,454,854.78</td>\n",
       "      <td>94706</td>\n",
       "      <td>164,749.80</td>\n",
       "      <td>26,359.97</td>\n",
       "      <td>191,109.77</td>\n",
       "      <td>202,645,964.55</td>\n",
       "      <td>202,454,854.78</td>\n",
       "      <td>164,749.80</td>\n",
       "      <td>26,359.97</td>\n",
       "      <td>202,645,964.55</td>\n",
       "      <td>0.00</td>\n",
       "      <td>0.00</td>\n",
       "      <td>-0.00</td>\n",
       "      <td>-0.00</td>\n",
       "      <td>BNTE</td>\n",
       "      <td>DIFF MONTOS-BNTE-1 2023-04-06.csv</td>\n",
       "    </tr>\n",
       "    <tr>\n",
       "      <th>0</th>\n",
       "      <td>2023-04-07</td>\n",
       "      <td>211,601,079.81</td>\n",
       "      <td>89809</td>\n",
       "      <td>156,637.20</td>\n",
       "      <td>25,061.95</td>\n",
       "      <td>181,699.15</td>\n",
       "      <td>211,782,778.96</td>\n",
       "      <td>211,601,079.81</td>\n",
       "      <td>156,637.20</td>\n",
       "      <td>25,061.95</td>\n",
       "      <td>211,782,778.96</td>\n",
       "      <td>0.00</td>\n",
       "      <td>0.00</td>\n",
       "      <td>0.00</td>\n",
       "      <td>0.00</td>\n",
       "      <td>BNTE</td>\n",
       "      <td>DIFF MONTOS-BNTE-1 2023-04-07.csv</td>\n",
       "    </tr>\n",
       "    <tr>\n",
       "      <th>0</th>\n",
       "      <td>2023-04-08</td>\n",
       "      <td>175,938,164.91</td>\n",
       "      <td>64398</td>\n",
       "      <td>112,371.90</td>\n",
       "      <td>17,979.50</td>\n",
       "      <td>130,351.40</td>\n",
       "      <td>176,068,516.31</td>\n",
       "      <td>175,938,164.91</td>\n",
       "      <td>112,371.90</td>\n",
       "      <td>17,979.50</td>\n",
       "      <td>176,068,516.31</td>\n",
       "      <td>0.00</td>\n",
       "      <td>0.00</td>\n",
       "      <td>0.00</td>\n",
       "      <td>0.00</td>\n",
       "      <td>BNTE</td>\n",
       "      <td>DIFF MONTOS-BNTE-1 2023-04-08.csv</td>\n",
       "    </tr>\n",
       "  </tbody>\n",
       "</table>\n",
       "</div>"
      ],
      "text/plain": [
       "  date_disbursement         amount  payments_number  comision_dsp   iva_dsp  \\\n",
       "0        2023-04-01 227,062,280.92            94688    164,724.90 26,355.98   \n",
       "0        2023-04-02 236,606,399.40            94680    164,931.00 26,388.96   \n",
       "0        2023-04-06 202,454,854.78            94706    164,749.80 26,359.97   \n",
       "0        2023-04-07 211,601,079.81            89809    156,637.20 25,061.95   \n",
       "0        2023-04-08 175,938,164.91            64398    112,371.90 17,979.50   \n",
       "\n",
       "   comision + iva   total_fondeo     monto_mail  comision_mail  iva_mail  \\\n",
       "0      191,080.88 227,253,361.80 227,062,280.92     164,724.90 26,355.98   \n",
       "0      191,319.96 236,797,719.36 236,606,399.40     164,931.00 26,388.96   \n",
       "0      191,109.77 202,645,964.55 202,454,854.78     164,749.80 26,359.97   \n",
       "0      181,699.15 211,782,778.96 211,601,079.81     156,637.20 25,061.95   \n",
       "0      130,351.40 176,068,516.31 175,938,164.91     112,371.90 17,979.50   \n",
       "\n",
       "   monto_fondeo_mail  check_monto  check_comision  check_iva  check_fondeo  \\\n",
       "0     227,253,361.80         0.00            0.00       0.00          0.00   \n",
       "0     236,797,719.36         0.00            0.00       0.00          0.00   \n",
       "0     202,645,964.55         0.00            0.00      -0.00         -0.00   \n",
       "0     211,782,778.96         0.00            0.00       0.00          0.00   \n",
       "0     176,068,516.31         0.00            0.00       0.00          0.00   \n",
       "\n",
       "    dsp                          file_name  \n",
       "0  BNTE  DIFF MONTOS-BNTE-1 2023-04-01.csv  \n",
       "0  BNTE  DIFF MONTOS-BNTE-1 2023-04-02.csv  \n",
       "0  BNTE  DIFF MONTOS-BNTE-1 2023-04-06.csv  \n",
       "0  BNTE  DIFF MONTOS-BNTE-1 2023-04-07.csv  \n",
       "0  BNTE  DIFF MONTOS-BNTE-1 2023-04-08.csv  "
      ]
     },
     "execution_count": 30,
     "metadata": {},
     "output_type": "execute_result"
    }
   ],
   "source": [
    "com_current_month = com_1[(com_1['date_disbursement'] >= start_date) & (com_1['date_disbursement'] <= final_date)]\n",
    "com_current_month.head()"
   ]
  },
  {
   "cell_type": "code",
   "execution_count": 31,
   "metadata": {},
   "outputs": [
    {
     "data": {
      "text/plain": [
       "(67, 17)"
      ]
     },
     "execution_count": 31,
     "metadata": {},
     "output_type": "execute_result"
    }
   ],
   "source": [
    "com_current_month.shape"
   ]
  },
  {
   "cell_type": "code",
   "execution_count": 32,
   "metadata": {},
   "outputs": [
    {
     "data": {
      "text/plain": [
       "Index(['date_disbursement', 'amount', 'payments_number', 'comision_dsp',\n",
       "       'iva_dsp', 'comision + iva', 'total_fondeo', 'monto_mail',\n",
       "       'comision_mail', 'iva_mail', 'monto_fondeo_mail', 'check_monto',\n",
       "       'check_comision', 'check_iva', 'check_fondeo', 'dsp', 'file_name'],\n",
       "      dtype='object')"
      ]
     },
     "execution_count": 32,
     "metadata": {},
     "output_type": "execute_result"
    }
   ],
   "source": [
    "com_current_month.columns"
   ]
  },
  {
   "cell_type": "code",
   "execution_count": 33,
   "metadata": {},
   "outputs": [
    {
     "data": {
      "text/html": [
       "<div>\n",
       "<style scoped>\n",
       "    .dataframe tbody tr th:only-of-type {\n",
       "        vertical-align: middle;\n",
       "    }\n",
       "\n",
       "    .dataframe tbody tr th {\n",
       "        vertical-align: top;\n",
       "    }\n",
       "\n",
       "    .dataframe thead th {\n",
       "        text-align: right;\n",
       "    }\n",
       "</style>\n",
       "<table border=\"1\" class=\"dataframe\">\n",
       "  <thead>\n",
       "    <tr style=\"text-align: right;\">\n",
       "      <th></th>\n",
       "      <th>date_disbursement</th>\n",
       "      <th>payments_number</th>\n",
       "      <th>amount</th>\n",
       "      <th>comision_dsp</th>\n",
       "      <th>iva_dsp</th>\n",
       "      <th>comision + iva</th>\n",
       "      <th>total_fondeo</th>\n",
       "      <th>monto_mail</th>\n",
       "      <th>comision_mail</th>\n",
       "      <th>iva_mail</th>\n",
       "      <th>monto_fondeo_mail</th>\n",
       "      <th>check_monto</th>\n",
       "      <th>check_comision</th>\n",
       "      <th>check_iva</th>\n",
       "      <th>check_fondeo</th>\n",
       "    </tr>\n",
       "  </thead>\n",
       "  <tbody>\n",
       "    <tr>\n",
       "      <th>0</th>\n",
       "      <td>2023-04-01</td>\n",
       "      <td>115662</td>\n",
       "      <td>276,900,031.77</td>\n",
       "      <td>201,202.35</td>\n",
       "      <td>32,192.38</td>\n",
       "      <td>233,394.73</td>\n",
       "      <td>277,133,426.50</td>\n",
       "      <td>276,900,031.77</td>\n",
       "      <td>201,202.35</td>\n",
       "      <td>32,192.37</td>\n",
       "      <td>277,133,426.49</td>\n",
       "      <td>0.00</td>\n",
       "      <td>0.00</td>\n",
       "      <td>0.01</td>\n",
       "      <td>0.01</td>\n",
       "    </tr>\n",
       "    <tr>\n",
       "      <th>1</th>\n",
       "      <td>2023-04-02</td>\n",
       "      <td>113329</td>\n",
       "      <td>285,325,480.21</td>\n",
       "      <td>197,435.70</td>\n",
       "      <td>31,589.71</td>\n",
       "      <td>229,025.41</td>\n",
       "      <td>285,554,505.62</td>\n",
       "      <td>285,325,480.21</td>\n",
       "      <td>197,435.70</td>\n",
       "      <td>31,589.71</td>\n",
       "      <td>285,554,505.62</td>\n",
       "      <td>0.00</td>\n",
       "      <td>0.00</td>\n",
       "      <td>0.00</td>\n",
       "      <td>0.00</td>\n",
       "    </tr>\n",
       "    <tr>\n",
       "      <th>2</th>\n",
       "      <td>2023-04-03</td>\n",
       "      <td>79132</td>\n",
       "      <td>202,397,275.13</td>\n",
       "      <td>39,572.50</td>\n",
       "      <td>6,331.60</td>\n",
       "      <td>45,904.10</td>\n",
       "      <td>202,443,179.23</td>\n",
       "      <td>202,397,275.13</td>\n",
       "      <td>39,572.50</td>\n",
       "      <td>6,331.60</td>\n",
       "      <td>202,443,179.23</td>\n",
       "      <td>0.00</td>\n",
       "      <td>0.00</td>\n",
       "      <td>0.00</td>\n",
       "      <td>-0.00</td>\n",
       "    </tr>\n",
       "    <tr>\n",
       "      <th>3</th>\n",
       "      <td>2023-04-04</td>\n",
       "      <td>99056</td>\n",
       "      <td>209,926,050.77</td>\n",
       "      <td>49,530.60</td>\n",
       "      <td>7,924.90</td>\n",
       "      <td>57,455.50</td>\n",
       "      <td>209,983,506.27</td>\n",
       "      <td>209,926,050.77</td>\n",
       "      <td>49,530.60</td>\n",
       "      <td>7,924.90</td>\n",
       "      <td>209,983,506.27</td>\n",
       "      <td>0.00</td>\n",
       "      <td>0.00</td>\n",
       "      <td>-0.00</td>\n",
       "      <td>-0.00</td>\n",
       "    </tr>\n",
       "    <tr>\n",
       "      <th>4</th>\n",
       "      <td>2023-04-05</td>\n",
       "      <td>99909</td>\n",
       "      <td>211,879,308.93</td>\n",
       "      <td>49,954.50</td>\n",
       "      <td>7,992.72</td>\n",
       "      <td>57,947.22</td>\n",
       "      <td>211,937,256.15</td>\n",
       "      <td>211,879,308.93</td>\n",
       "      <td>49,954.50</td>\n",
       "      <td>7,992.72</td>\n",
       "      <td>211,937,256.15</td>\n",
       "      <td>0.00</td>\n",
       "      <td>0.00</td>\n",
       "      <td>0.00</td>\n",
       "      <td>0.00</td>\n",
       "    </tr>\n",
       "  </tbody>\n",
       "</table>\n",
       "</div>"
      ],
      "text/plain": [
       "  date_disbursement  payments_number         amount  comision_dsp   iva_dsp  \\\n",
       "0        2023-04-01           115662 276,900,031.77    201,202.35 32,192.38   \n",
       "1        2023-04-02           113329 285,325,480.21    197,435.70 31,589.71   \n",
       "2        2023-04-03            79132 202,397,275.13     39,572.50  6,331.60   \n",
       "3        2023-04-04            99056 209,926,050.77     49,530.60  7,924.90   \n",
       "4        2023-04-05            99909 211,879,308.93     49,954.50  7,992.72   \n",
       "\n",
       "   comision + iva   total_fondeo     monto_mail  comision_mail  iva_mail  \\\n",
       "0      233,394.73 277,133,426.50 276,900,031.77     201,202.35 32,192.37   \n",
       "1      229,025.41 285,554,505.62 285,325,480.21     197,435.70 31,589.71   \n",
       "2       45,904.10 202,443,179.23 202,397,275.13      39,572.50  6,331.60   \n",
       "3       57,455.50 209,983,506.27 209,926,050.77      49,530.60  7,924.90   \n",
       "4       57,947.22 211,937,256.15 211,879,308.93      49,954.50  7,992.72   \n",
       "\n",
       "   monto_fondeo_mail  check_monto  check_comision  check_iva  check_fondeo  \n",
       "0     277,133,426.49         0.00            0.00       0.01          0.01  \n",
       "1     285,554,505.62         0.00            0.00       0.00          0.00  \n",
       "2     202,443,179.23         0.00            0.00       0.00         -0.00  \n",
       "3     209,983,506.27         0.00            0.00      -0.00         -0.00  \n",
       "4     211,937,256.15         0.00            0.00       0.00          0.00  "
      ]
     },
     "execution_count": 33,
     "metadata": {},
     "output_type": "execute_result"
    }
   ],
   "source": [
    "com_final = com_current_month.groupby(['date_disbursement']).agg({'payments_number':sum,'amount':sum,'comision_dsp':sum,\n",
    "                                                                  'iva_dsp':sum,'comision + iva':sum,'total_fondeo':sum,\n",
    "                                                                 'monto_mail':sum,'comision_mail':sum,'iva_mail':sum,\n",
    "                                                                 'monto_fondeo_mail':sum,'check_monto':sum,'check_comision':sum,\n",
    "                                                                 'check_iva':sum,'check_fondeo':sum}).reset_index()\n",
    "com_final.head()"
   ]
  },
  {
   "cell_type": "markdown",
   "metadata": {},
   "source": [
    "# LENDERS"
   ]
  },
  {
   "cell_type": "code",
   "execution_count": 34,
   "metadata": {},
   "outputs": [
    {
     "data": {
      "text/html": [
       "<div>\n",
       "<style scoped>\n",
       "    .dataframe tbody tr th:only-of-type {\n",
       "        vertical-align: middle;\n",
       "    }\n",
       "\n",
       "    .dataframe tbody tr th {\n",
       "        vertical-align: top;\n",
       "    }\n",
       "\n",
       "    .dataframe thead th {\n",
       "        text-align: right;\n",
       "    }\n",
       "</style>\n",
       "<table border=\"1\" class=\"dataframe\">\n",
       "  <thead>\n",
       "    <tr style=\"text-align: right;\">\n",
       "      <th></th>\n",
       "      <th>collection_date_local</th>\n",
       "      <th>merchant_token</th>\n",
       "      <th>merchant_id</th>\n",
       "      <th>loan_id</th>\n",
       "      <th>provider_code</th>\n",
       "      <th>collection_origin</th>\n",
       "      <th>source</th>\n",
       "      <th>amount</th>\n",
       "      <th>capital</th>\n",
       "      <th>interest</th>\n",
       "      <th>tax</th>\n",
       "      <th>file_name</th>\n",
       "    </tr>\n",
       "  </thead>\n",
       "  <tbody>\n",
       "    <tr>\n",
       "      <th>0</th>\n",
       "      <td>2023-01-01</td>\n",
       "      <td>d8d8f9b2-0585-48e0-8d1f-e3bbf4766fbe</td>\n",
       "      <td>30a435af-3c57-4063-bf36-735f5731b179</td>\n",
       "      <td>df0ca1c8-0193-426c-8a32-c164b5ca715e</td>\n",
       "      <td>MRP</td>\n",
       "      <td>SETTLEMENT</td>\n",
       "      <td>LEDGER</td>\n",
       "      <td>23.05</td>\n",
       "      <td>16.60</td>\n",
       "      <td>6.45</td>\n",
       "      <td>0.00</td>\n",
       "      <td>LENDERS DB ENERO 2023.csv</td>\n",
       "    </tr>\n",
       "    <tr>\n",
       "      <th>1</th>\n",
       "      <td>2023-01-01</td>\n",
       "      <td>c4bad384-1718-4f7f-980e-910738bf4c79</td>\n",
       "      <td>0ace4fbe-6ab7-4e7f-a6b0-2a1bb8d6171a</td>\n",
       "      <td>45e17b07-8134-4e21-8aa8-2f90b4df9f37</td>\n",
       "      <td>CTO</td>\n",
       "      <td>SETTLEMENT</td>\n",
       "      <td>LEDGER</td>\n",
       "      <td>18.66</td>\n",
       "      <td>12.74</td>\n",
       "      <td>5.10</td>\n",
       "      <td>0.82</td>\n",
       "      <td>LENDERS DB ENERO 2023.csv</td>\n",
       "    </tr>\n",
       "    <tr>\n",
       "      <th>2</th>\n",
       "      <td>2023-01-01</td>\n",
       "      <td>1592f594-8416-447e-a316-ffc57ea7596f</td>\n",
       "      <td>0614af35-a0b4-4774-ae6f-4eef4238b915</td>\n",
       "      <td>2df0924e-4f58-46c5-8ec1-32a1beec4d49</td>\n",
       "      <td>MRP</td>\n",
       "      <td>SETTLEMENT</td>\n",
       "      <td>LEDGER</td>\n",
       "      <td>98.65</td>\n",
       "      <td>71.03</td>\n",
       "      <td>27.62</td>\n",
       "      <td>0.00</td>\n",
       "      <td>LENDERS DB ENERO 2023.csv</td>\n",
       "    </tr>\n",
       "    <tr>\n",
       "      <th>3</th>\n",
       "      <td>2023-01-01</td>\n",
       "      <td>fa8ee41a-394c-4506-b450-9f8a048a3cfc</td>\n",
       "      <td>789ef894-8d9d-48cb-a20a-0860a44d4a1e</td>\n",
       "      <td>935289b5-6689-4a98-af7f-d91e1a399533</td>\n",
       "      <td>MRP</td>\n",
       "      <td>SETTLEMENT</td>\n",
       "      <td>LEDGER</td>\n",
       "      <td>55.43</td>\n",
       "      <td>41.57</td>\n",
       "      <td>13.86</td>\n",
       "      <td>0.00</td>\n",
       "      <td>LENDERS DB ENERO 2023.csv</td>\n",
       "    </tr>\n",
       "    <tr>\n",
       "      <th>4</th>\n",
       "      <td>2023-01-01</td>\n",
       "      <td>41d8b68d-d496-48bd-9d2e-d3bfe8a4628e</td>\n",
       "      <td>5fab90f8-faf0-48a8-9065-e67b2cde2abe</td>\n",
       "      <td>d4ee526d-2a99-406b-95d3-309ee8d7f84b</td>\n",
       "      <td>MRP</td>\n",
       "      <td>SETTLEMENT</td>\n",
       "      <td>LEDGER</td>\n",
       "      <td>16.44</td>\n",
       "      <td>13.48</td>\n",
       "      <td>2.96</td>\n",
       "      <td>0.00</td>\n",
       "      <td>LENDERS DB ENERO 2023.csv</td>\n",
       "    </tr>\n",
       "  </tbody>\n",
       "</table>\n",
       "</div>"
      ],
      "text/plain": [
       "  collection_date_local                        merchant_token  \\\n",
       "0            2023-01-01  d8d8f9b2-0585-48e0-8d1f-e3bbf4766fbe   \n",
       "1            2023-01-01  c4bad384-1718-4f7f-980e-910738bf4c79   \n",
       "2            2023-01-01  1592f594-8416-447e-a316-ffc57ea7596f   \n",
       "3            2023-01-01  fa8ee41a-394c-4506-b450-9f8a048a3cfc   \n",
       "4            2023-01-01  41d8b68d-d496-48bd-9d2e-d3bfe8a4628e   \n",
       "\n",
       "                            merchant_id                               loan_id  \\\n",
       "0  30a435af-3c57-4063-bf36-735f5731b179  df0ca1c8-0193-426c-8a32-c164b5ca715e   \n",
       "1  0ace4fbe-6ab7-4e7f-a6b0-2a1bb8d6171a  45e17b07-8134-4e21-8aa8-2f90b4df9f37   \n",
       "2  0614af35-a0b4-4774-ae6f-4eef4238b915  2df0924e-4f58-46c5-8ec1-32a1beec4d49   \n",
       "3  789ef894-8d9d-48cb-a20a-0860a44d4a1e  935289b5-6689-4a98-af7f-d91e1a399533   \n",
       "4  5fab90f8-faf0-48a8-9065-e67b2cde2abe  d4ee526d-2a99-406b-95d3-309ee8d7f84b   \n",
       "\n",
       "  provider_code collection_origin  source  amount  capital  interest  tax  \\\n",
       "0           MRP        SETTLEMENT  LEDGER   23.05    16.60      6.45 0.00   \n",
       "1           CTO        SETTLEMENT  LEDGER   18.66    12.74      5.10 0.82   \n",
       "2           MRP        SETTLEMENT  LEDGER   98.65    71.03     27.62 0.00   \n",
       "3           MRP        SETTLEMENT  LEDGER   55.43    41.57     13.86 0.00   \n",
       "4           MRP        SETTLEMENT  LEDGER   16.44    13.48      2.96 0.00   \n",
       "\n",
       "                   file_name  \n",
       "0  LENDERS DB ENERO 2023.csv  \n",
       "1  LENDERS DB ENERO 2023.csv  \n",
       "2  LENDERS DB ENERO 2023.csv  \n",
       "3  LENDERS DB ENERO 2023.csv  \n",
       "4  LENDERS DB ENERO 2023.csv  "
      ]
     },
     "execution_count": 34,
     "metadata": {},
     "output_type": "execute_result"
    }
   ],
   "source": [
    "lender_1 = pd.concat([pd.read_csv(f).assign(file_name=os.path.basename(f)) for f in allfiles_lender])\n",
    "lender_1.columns = lender_1.columns.str.strip().str.lower() \n",
    "lender_1.head()"
   ]
  },
  {
   "cell_type": "code",
   "execution_count": 35,
   "metadata": {},
   "outputs": [
    {
     "data": {
      "text/plain": [
       "(1967838, 12)"
      ]
     },
     "execution_count": 35,
     "metadata": {},
     "output_type": "execute_result"
    }
   ],
   "source": [
    "lender_1.shape"
   ]
  },
  {
   "cell_type": "code",
   "execution_count": 36,
   "metadata": {},
   "outputs": [
    {
     "data": {
      "text/plain": [
       "array(['LEDGER', 'REGULAR', 'FAST_PAYMENT'], dtype=object)"
      ]
     },
     "execution_count": 36,
     "metadata": {},
     "output_type": "execute_result"
    }
   ],
   "source": [
    "lender_1['source'].unique()"
   ]
  },
  {
   "cell_type": "markdown",
   "metadata": {},
   "source": [
    "### CURRENT DATES"
   ]
  },
  {
   "cell_type": "code",
   "execution_count": 37,
   "metadata": {},
   "outputs": [
    {
     "data": {
      "text/html": [
       "<div>\n",
       "<style scoped>\n",
       "    .dataframe tbody tr th:only-of-type {\n",
       "        vertical-align: middle;\n",
       "    }\n",
       "\n",
       "    .dataframe tbody tr th {\n",
       "        vertical-align: top;\n",
       "    }\n",
       "\n",
       "    .dataframe thead th {\n",
       "        text-align: right;\n",
       "    }\n",
       "</style>\n",
       "<table border=\"1\" class=\"dataframe\">\n",
       "  <thead>\n",
       "    <tr style=\"text-align: right;\">\n",
       "      <th></th>\n",
       "      <th>collection_date_local</th>\n",
       "      <th>merchant_token</th>\n",
       "      <th>merchant_id</th>\n",
       "      <th>loan_id</th>\n",
       "      <th>provider_code</th>\n",
       "      <th>collection_origin</th>\n",
       "      <th>source</th>\n",
       "      <th>amount</th>\n",
       "      <th>capital</th>\n",
       "      <th>interest</th>\n",
       "      <th>tax</th>\n",
       "      <th>file_name</th>\n",
       "    </tr>\n",
       "  </thead>\n",
       "  <tbody>\n",
       "    <tr>\n",
       "      <th>0</th>\n",
       "      <td>2023-04-01</td>\n",
       "      <td>a32441c6-e981-4792-a902-22604ff28f12</td>\n",
       "      <td>b1320d8a-4f74-40ba-81e3-994b258d473e</td>\n",
       "      <td>2eed14a7-9fb6-4442-9f8d-a283c59390f0</td>\n",
       "      <td>MRP</td>\n",
       "      <td>SETTLEMENT</td>\n",
       "      <td>LEDGER</td>\n",
       "      <td>201.23</td>\n",
       "      <td>176.83</td>\n",
       "      <td>21.03</td>\n",
       "      <td>3.37</td>\n",
       "      <td>LENDERS DB ABRIL 2023.csv</td>\n",
       "    </tr>\n",
       "    <tr>\n",
       "      <th>1</th>\n",
       "      <td>2023-04-01</td>\n",
       "      <td>a32441c6-e981-4792-a902-22604ff28f12</td>\n",
       "      <td>b1320d8a-4f74-40ba-81e3-994b258d473e</td>\n",
       "      <td>2eed14a7-9fb6-4442-9f8d-a283c59390f0</td>\n",
       "      <td>MRP</td>\n",
       "      <td>SETTLEMENT</td>\n",
       "      <td>LEDGER</td>\n",
       "      <td>89.26</td>\n",
       "      <td>78.44</td>\n",
       "      <td>9.33</td>\n",
       "      <td>1.49</td>\n",
       "      <td>LENDERS DB ABRIL 2023.csv</td>\n",
       "    </tr>\n",
       "    <tr>\n",
       "      <th>2</th>\n",
       "      <td>2023-04-01</td>\n",
       "      <td>a32441c6-e981-4792-a902-22604ff28f12</td>\n",
       "      <td>b1320d8a-4f74-40ba-81e3-994b258d473e</td>\n",
       "      <td>2eed14a7-9fb6-4442-9f8d-a283c59390f0</td>\n",
       "      <td>MRP</td>\n",
       "      <td>SETTLEMENT</td>\n",
       "      <td>LEDGER</td>\n",
       "      <td>43.12</td>\n",
       "      <td>37.89</td>\n",
       "      <td>4.51</td>\n",
       "      <td>0.72</td>\n",
       "      <td>LENDERS DB ABRIL 2023.csv</td>\n",
       "    </tr>\n",
       "    <tr>\n",
       "      <th>3</th>\n",
       "      <td>2023-04-01</td>\n",
       "      <td>a32441c6-e981-4792-a902-22604ff28f12</td>\n",
       "      <td>b1320d8a-4f74-40ba-81e3-994b258d473e</td>\n",
       "      <td>2eed14a7-9fb6-4442-9f8d-a283c59390f0</td>\n",
       "      <td>MRP</td>\n",
       "      <td>SETTLEMENT</td>\n",
       "      <td>LEDGER</td>\n",
       "      <td>89.26</td>\n",
       "      <td>78.44</td>\n",
       "      <td>9.33</td>\n",
       "      <td>1.49</td>\n",
       "      <td>LENDERS DB ABRIL 2023.csv</td>\n",
       "    </tr>\n",
       "    <tr>\n",
       "      <th>4</th>\n",
       "      <td>2023-04-01</td>\n",
       "      <td>a32441c6-e981-4792-a902-22604ff28f12</td>\n",
       "      <td>b1320d8a-4f74-40ba-81e3-994b258d473e</td>\n",
       "      <td>2eed14a7-9fb6-4442-9f8d-a283c59390f0</td>\n",
       "      <td>MRP</td>\n",
       "      <td>SETTLEMENT</td>\n",
       "      <td>LEDGER</td>\n",
       "      <td>105.36</td>\n",
       "      <td>92.59</td>\n",
       "      <td>11.01</td>\n",
       "      <td>1.76</td>\n",
       "      <td>LENDERS DB ABRIL 2023.csv</td>\n",
       "    </tr>\n",
       "  </tbody>\n",
       "</table>\n",
       "</div>"
      ],
      "text/plain": [
       "  collection_date_local                        merchant_token  \\\n",
       "0            2023-04-01  a32441c6-e981-4792-a902-22604ff28f12   \n",
       "1            2023-04-01  a32441c6-e981-4792-a902-22604ff28f12   \n",
       "2            2023-04-01  a32441c6-e981-4792-a902-22604ff28f12   \n",
       "3            2023-04-01  a32441c6-e981-4792-a902-22604ff28f12   \n",
       "4            2023-04-01  a32441c6-e981-4792-a902-22604ff28f12   \n",
       "\n",
       "                            merchant_id                               loan_id  \\\n",
       "0  b1320d8a-4f74-40ba-81e3-994b258d473e  2eed14a7-9fb6-4442-9f8d-a283c59390f0   \n",
       "1  b1320d8a-4f74-40ba-81e3-994b258d473e  2eed14a7-9fb6-4442-9f8d-a283c59390f0   \n",
       "2  b1320d8a-4f74-40ba-81e3-994b258d473e  2eed14a7-9fb6-4442-9f8d-a283c59390f0   \n",
       "3  b1320d8a-4f74-40ba-81e3-994b258d473e  2eed14a7-9fb6-4442-9f8d-a283c59390f0   \n",
       "4  b1320d8a-4f74-40ba-81e3-994b258d473e  2eed14a7-9fb6-4442-9f8d-a283c59390f0   \n",
       "\n",
       "  provider_code collection_origin  source  amount  capital  interest  tax  \\\n",
       "0           MRP        SETTLEMENT  LEDGER  201.23   176.83     21.03 3.37   \n",
       "1           MRP        SETTLEMENT  LEDGER   89.26    78.44      9.33 1.49   \n",
       "2           MRP        SETTLEMENT  LEDGER   43.12    37.89      4.51 0.72   \n",
       "3           MRP        SETTLEMENT  LEDGER   89.26    78.44      9.33 1.49   \n",
       "4           MRP        SETTLEMENT  LEDGER  105.36    92.59     11.01 1.76   \n",
       "\n",
       "                   file_name  \n",
       "0  LENDERS DB ABRIL 2023.csv  \n",
       "1  LENDERS DB ABRIL 2023.csv  \n",
       "2  LENDERS DB ABRIL 2023.csv  \n",
       "3  LENDERS DB ABRIL 2023.csv  \n",
       "4  LENDERS DB ABRIL 2023.csv  "
      ]
     },
     "execution_count": 37,
     "metadata": {},
     "output_type": "execute_result"
    }
   ],
   "source": [
    "lender_current_month = lender_1[(lender_1['collection_date_local'] >= start_date) &\n",
    "                                (lender_1['collection_date_local'] <= final_date)]\n",
    "lender_current_month.head()"
   ]
  },
  {
   "cell_type": "code",
   "execution_count": 38,
   "metadata": {},
   "outputs": [
    {
     "data": {
      "text/plain": [
       "(796031, 12)"
      ]
     },
     "execution_count": 38,
     "metadata": {},
     "output_type": "execute_result"
    }
   ],
   "source": [
    "lender_current_month.shape"
   ]
  },
  {
   "cell_type": "code",
   "execution_count": 39,
   "metadata": {},
   "outputs": [
    {
     "data": {
      "text/plain": [
       "array(['MRP', 'CTO', 'R2', 'APH', 'AVL'], dtype=object)"
      ]
     },
     "execution_count": 39,
     "metadata": {},
     "output_type": "execute_result"
    }
   ],
   "source": [
    "lender_current_month['provider_code'].unique()"
   ]
  },
  {
   "cell_type": "markdown",
   "metadata": {},
   "source": [
    "### PIVOT CLIP"
   ]
  },
  {
   "cell_type": "code",
   "execution_count": 40,
   "metadata": {},
   "outputs": [],
   "source": [
    "lender_clip = lender_current_month[(lender_current_month['provider_code'] == 'CLIP')]"
   ]
  },
  {
   "cell_type": "code",
   "execution_count": 41,
   "metadata": {},
   "outputs": [],
   "source": [
    "# lender_pivot_clip_1 = lender_clip.groupby(['Creation Date','Date']).agg({'Collected today':sum,'Capital today':sum\n",
    "#                                                                        ,'Interests today':sum,'IVA Interests today':sum\n",
    "#                                                                        ,'Overdue Interest today':sum,'Total today':sum\n",
    "#                                                                        ,'CLIP Revenue today':sum}).reset_index()\n",
    "# lender_pivot_clip_1.head()"
   ]
  },
  {
   "cell_type": "code",
   "execution_count": 42,
   "metadata": {},
   "outputs": [],
   "source": [
    "# lender_pivot_clip_1.shape"
   ]
  },
  {
   "cell_type": "code",
   "execution_count": 43,
   "metadata": {},
   "outputs": [
    {
     "data": {
      "text/html": [
       "<div>\n",
       "<style scoped>\n",
       "    .dataframe tbody tr th:only-of-type {\n",
       "        vertical-align: middle;\n",
       "    }\n",
       "\n",
       "    .dataframe tbody tr th {\n",
       "        vertical-align: top;\n",
       "    }\n",
       "\n",
       "    .dataframe thead th {\n",
       "        text-align: right;\n",
       "    }\n",
       "</style>\n",
       "<table border=\"1\" class=\"dataframe\">\n",
       "  <thead>\n",
       "    <tr style=\"text-align: right;\">\n",
       "      <th></th>\n",
       "      <th>collection_date_local</th>\n",
       "      <th>amount</th>\n",
       "      <th>capital</th>\n",
       "      <th>interest</th>\n",
       "      <th>tax</th>\n",
       "    </tr>\n",
       "  </thead>\n",
       "  <tbody>\n",
       "  </tbody>\n",
       "</table>\n",
       "</div>"
      ],
      "text/plain": [
       "Empty DataFrame\n",
       "Columns: [collection_date_local, amount, capital, interest, tax]\n",
       "Index: []"
      ]
     },
     "execution_count": 43,
     "metadata": {},
     "output_type": "execute_result"
    }
   ],
   "source": [
    "lender_pivot_clip_2 = lender_clip.groupby(['collection_date_local']).agg({'amount':sum,'capital':sum,'interest':sum\n",
    "                                                 ,'tax':sum}).reset_index()\n",
    "lender_pivot_clip_2.head()"
   ]
  },
  {
   "cell_type": "code",
   "execution_count": 44,
   "metadata": {},
   "outputs": [
    {
     "data": {
      "text/plain": [
       "(0, 5)"
      ]
     },
     "execution_count": 44,
     "metadata": {},
     "output_type": "execute_result"
    }
   ],
   "source": [
    "lender_pivot_clip_2.shape"
   ]
  },
  {
   "cell_type": "markdown",
   "metadata": {},
   "source": [
    "### PIVOT OTHERS"
   ]
  },
  {
   "cell_type": "code",
   "execution_count": 45,
   "metadata": {},
   "outputs": [],
   "source": [
    "lender_others = lender_current_month[(lender_current_month['provider_code'] != 'CLIP')]"
   ]
  },
  {
   "cell_type": "code",
   "execution_count": 46,
   "metadata": {},
   "outputs": [
    {
     "data": {
      "text/html": [
       "<div>\n",
       "<style scoped>\n",
       "    .dataframe tbody tr th:only-of-type {\n",
       "        vertical-align: middle;\n",
       "    }\n",
       "\n",
       "    .dataframe tbody tr th {\n",
       "        vertical-align: top;\n",
       "    }\n",
       "\n",
       "    .dataframe thead th {\n",
       "        text-align: right;\n",
       "    }\n",
       "</style>\n",
       "<table border=\"1\" class=\"dataframe\">\n",
       "  <thead>\n",
       "    <tr style=\"text-align: right;\">\n",
       "      <th></th>\n",
       "      <th>collection_date_local</th>\n",
       "      <th>amount</th>\n",
       "      <th>capital</th>\n",
       "      <th>interest</th>\n",
       "      <th>tax</th>\n",
       "    </tr>\n",
       "  </thead>\n",
       "  <tbody>\n",
       "    <tr>\n",
       "      <th>0</th>\n",
       "      <td>2023-04-01</td>\n",
       "      <td>2,407,698.02</td>\n",
       "      <td>1,776,383.81</td>\n",
       "      <td>554,172.66</td>\n",
       "      <td>77,141.55</td>\n",
       "    </tr>\n",
       "    <tr>\n",
       "      <th>1</th>\n",
       "      <td>2023-04-02</td>\n",
       "      <td>1,734,630.56</td>\n",
       "      <td>1,283,112.97</td>\n",
       "      <td>396,180.59</td>\n",
       "      <td>55,337.00</td>\n",
       "    </tr>\n",
       "    <tr>\n",
       "      <th>2</th>\n",
       "      <td>2023-04-03</td>\n",
       "      <td>1,435,566.18</td>\n",
       "      <td>1,061,909.25</td>\n",
       "      <td>328,188.64</td>\n",
       "      <td>45,468.29</td>\n",
       "    </tr>\n",
       "    <tr>\n",
       "      <th>3</th>\n",
       "      <td>2023-04-04</td>\n",
       "      <td>1,506,317.92</td>\n",
       "      <td>1,114,121.02</td>\n",
       "      <td>343,656.34</td>\n",
       "      <td>48,540.56</td>\n",
       "    </tr>\n",
       "    <tr>\n",
       "      <th>4</th>\n",
       "      <td>2023-04-05</td>\n",
       "      <td>1,763,300.93</td>\n",
       "      <td>1,307,563.12</td>\n",
       "      <td>399,749.86</td>\n",
       "      <td>55,987.95</td>\n",
       "    </tr>\n",
       "  </tbody>\n",
       "</table>\n",
       "</div>"
      ],
      "text/plain": [
       "  collection_date_local       amount      capital   interest       tax\n",
       "0            2023-04-01 2,407,698.02 1,776,383.81 554,172.66 77,141.55\n",
       "1            2023-04-02 1,734,630.56 1,283,112.97 396,180.59 55,337.00\n",
       "2            2023-04-03 1,435,566.18 1,061,909.25 328,188.64 45,468.29\n",
       "3            2023-04-04 1,506,317.92 1,114,121.02 343,656.34 48,540.56\n",
       "4            2023-04-05 1,763,300.93 1,307,563.12 399,749.86 55,987.95"
      ]
     },
     "execution_count": 46,
     "metadata": {},
     "output_type": "execute_result"
    }
   ],
   "source": [
    "lender_pivot_others = lender_others.groupby(['collection_date_local']).agg({'amount':sum,'capital':sum,'interest':sum\n",
    "                                                 ,'tax':sum}).reset_index()\n",
    "lender_pivot_others.head()"
   ]
  },
  {
   "cell_type": "code",
   "execution_count": 47,
   "metadata": {},
   "outputs": [
    {
     "data": {
      "text/plain": [
       "(30, 5)"
      ]
     },
     "execution_count": 47,
     "metadata": {},
     "output_type": "execute_result"
    }
   ],
   "source": [
    "lender_pivot_others.shape"
   ]
  },
  {
   "cell_type": "markdown",
   "metadata": {},
   "source": [
    "# EXCEL FINAL"
   ]
  },
  {
   "cell_type": "code",
   "execution_count": 48,
   "metadata": {},
   "outputs": [],
   "source": [
    "writer = pd.ExcelWriter('FASE II. DATA POLIZA ABRIL 2023.xlsx',\n",
    "                        engine='xlsxwriter',\n",
    "                        engine_kwargs={'options': {'encoding':'utf-8'}})\n",
    "lender_pivot_clip_2.to_excel(writer, sheet_name='DATA LENDER CLIP',index=False)\n",
    "# lender_pivot_clip_1.to_excel(writer, sheet_name='DATA LENDER CLIP CREATION DATE',index=False)\n",
    "lender_pivot_others.to_excel(writer, sheet_name='DATA LENDER OTHERS',index=False)\n",
    "adj_pivot.to_excel(writer, sheet_name='DATA ADJUSTMENTS',index=False)\n",
    "lib_pivot_v2.to_excel(writer, sheet_name='DATA LIBERACIONES')\n",
    "ret_pivot_v2.to_excel(writer, sheet_name='DATA RETENCIONES')\n",
    "com_final.to_excel(writer, sheet_name='DATA COMISIONES',index=False)\n",
    "writer.close()"
   ]
  },
  {
   "cell_type": "code",
   "execution_count": null,
   "metadata": {},
   "outputs": [],
   "source": []
  }
 ],
 "metadata": {
  "kernelspec": {
   "display_name": "Python 3 (ipykernel)",
   "language": "python",
   "name": "python3"
  },
  "language_info": {
   "codemirror_mode": {
    "name": "ipython",
    "version": 3
   },
   "file_extension": ".py",
   "mimetype": "text/x-python",
   "name": "python",
   "nbconvert_exporter": "python",
   "pygments_lexer": "ipython3",
   "version": "3.9.13"
  }
 },
 "nbformat": 4,
 "nbformat_minor": 4
}
