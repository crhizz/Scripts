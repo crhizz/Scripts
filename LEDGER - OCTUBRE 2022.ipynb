{
 "cells": [
  {
   "cell_type": "code",
   "execution_count": 1,
   "id": "b2808bbb",
   "metadata": {},
   "outputs": [],
   "source": [
    "import pandas as pd\n",
    "import numpy as np\n",
    "import glob\n",
    "import os\n",
    "from openpyxl import load_workbook\n",
    "pd.options.display.float_format = '{:,.2f}'.format"
   ]
  },
  {
   "cell_type": "code",
   "execution_count": 2,
   "id": "8a7826e5",
   "metadata": {},
   "outputs": [
    {
     "data": {
      "text/plain": [
       "['C:\\\\Users\\\\Cristian.Aparicio\\\\Documents\\\\POLIZAS\\\\2022\\\\10. OCTUBRE\\\\LEDGER\\\\SCRIPT - ONLY LEDGER\\\\ledger_2022-09-30.csv',\n",
       " 'C:\\\\Users\\\\Cristian.Aparicio\\\\Documents\\\\POLIZAS\\\\2022\\\\10. OCTUBRE\\\\LEDGER\\\\SCRIPT - ONLY LEDGER\\\\ledger_2022-10-01.csv',\n",
       " 'C:\\\\Users\\\\Cristian.Aparicio\\\\Documents\\\\POLIZAS\\\\2022\\\\10. OCTUBRE\\\\LEDGER\\\\SCRIPT - ONLY LEDGER\\\\ledger_2022-10-02.csv',\n",
       " 'C:\\\\Users\\\\Cristian.Aparicio\\\\Documents\\\\POLIZAS\\\\2022\\\\10. OCTUBRE\\\\LEDGER\\\\SCRIPT - ONLY LEDGER\\\\ledger_2022-10-03.csv',\n",
       " 'C:\\\\Users\\\\Cristian.Aparicio\\\\Documents\\\\POLIZAS\\\\2022\\\\10. OCTUBRE\\\\LEDGER\\\\SCRIPT - ONLY LEDGER\\\\ledger_2022-10-04.csv',\n",
       " 'C:\\\\Users\\\\Cristian.Aparicio\\\\Documents\\\\POLIZAS\\\\2022\\\\10. OCTUBRE\\\\LEDGER\\\\SCRIPT - ONLY LEDGER\\\\ledger_2022-10-05.csv',\n",
       " 'C:\\\\Users\\\\Cristian.Aparicio\\\\Documents\\\\POLIZAS\\\\2022\\\\10. OCTUBRE\\\\LEDGER\\\\SCRIPT - ONLY LEDGER\\\\ledger_2022-10-06.csv',\n",
       " 'C:\\\\Users\\\\Cristian.Aparicio\\\\Documents\\\\POLIZAS\\\\2022\\\\10. OCTUBRE\\\\LEDGER\\\\SCRIPT - ONLY LEDGER\\\\ledger_2022-10-07.csv',\n",
       " 'C:\\\\Users\\\\Cristian.Aparicio\\\\Documents\\\\POLIZAS\\\\2022\\\\10. OCTUBRE\\\\LEDGER\\\\SCRIPT - ONLY LEDGER\\\\ledger_2022-10-08.csv',\n",
       " 'C:\\\\Users\\\\Cristian.Aparicio\\\\Documents\\\\POLIZAS\\\\2022\\\\10. OCTUBRE\\\\LEDGER\\\\SCRIPT - ONLY LEDGER\\\\ledger_2022-10-09.csv',\n",
       " 'C:\\\\Users\\\\Cristian.Aparicio\\\\Documents\\\\POLIZAS\\\\2022\\\\10. OCTUBRE\\\\LEDGER\\\\SCRIPT - ONLY LEDGER\\\\ledger_2022-10-10.csv',\n",
       " 'C:\\\\Users\\\\Cristian.Aparicio\\\\Documents\\\\POLIZAS\\\\2022\\\\10. OCTUBRE\\\\LEDGER\\\\SCRIPT - ONLY LEDGER\\\\ledger_2022-10-11.csv',\n",
       " 'C:\\\\Users\\\\Cristian.Aparicio\\\\Documents\\\\POLIZAS\\\\2022\\\\10. OCTUBRE\\\\LEDGER\\\\SCRIPT - ONLY LEDGER\\\\ledger_2022-10-12.csv',\n",
       " 'C:\\\\Users\\\\Cristian.Aparicio\\\\Documents\\\\POLIZAS\\\\2022\\\\10. OCTUBRE\\\\LEDGER\\\\SCRIPT - ONLY LEDGER\\\\ledger_2022-10-13.csv',\n",
       " 'C:\\\\Users\\\\Cristian.Aparicio\\\\Documents\\\\POLIZAS\\\\2022\\\\10. OCTUBRE\\\\LEDGER\\\\SCRIPT - ONLY LEDGER\\\\ledger_2022-10-14.csv',\n",
       " 'C:\\\\Users\\\\Cristian.Aparicio\\\\Documents\\\\POLIZAS\\\\2022\\\\10. OCTUBRE\\\\LEDGER\\\\SCRIPT - ONLY LEDGER\\\\ledger_2022-10-15.csv',\n",
       " 'C:\\\\Users\\\\Cristian.Aparicio\\\\Documents\\\\POLIZAS\\\\2022\\\\10. OCTUBRE\\\\LEDGER\\\\SCRIPT - ONLY LEDGER\\\\ledger_2022-10-16.csv',\n",
       " 'C:\\\\Users\\\\Cristian.Aparicio\\\\Documents\\\\POLIZAS\\\\2022\\\\10. OCTUBRE\\\\LEDGER\\\\SCRIPT - ONLY LEDGER\\\\ledger_2022-10-17.csv',\n",
       " 'C:\\\\Users\\\\Cristian.Aparicio\\\\Documents\\\\POLIZAS\\\\2022\\\\10. OCTUBRE\\\\LEDGER\\\\SCRIPT - ONLY LEDGER\\\\ledger_2022-10-18.csv',\n",
       " 'C:\\\\Users\\\\Cristian.Aparicio\\\\Documents\\\\POLIZAS\\\\2022\\\\10. OCTUBRE\\\\LEDGER\\\\SCRIPT - ONLY LEDGER\\\\ledger_2022-10-19.csv',\n",
       " 'C:\\\\Users\\\\Cristian.Aparicio\\\\Documents\\\\POLIZAS\\\\2022\\\\10. OCTUBRE\\\\LEDGER\\\\SCRIPT - ONLY LEDGER\\\\ledger_2022-10-20.csv',\n",
       " 'C:\\\\Users\\\\Cristian.Aparicio\\\\Documents\\\\POLIZAS\\\\2022\\\\10. OCTUBRE\\\\LEDGER\\\\SCRIPT - ONLY LEDGER\\\\ledger_2022-10-21.csv',\n",
       " 'C:\\\\Users\\\\Cristian.Aparicio\\\\Documents\\\\POLIZAS\\\\2022\\\\10. OCTUBRE\\\\LEDGER\\\\SCRIPT - ONLY LEDGER\\\\ledger_2022-10-22.csv',\n",
       " 'C:\\\\Users\\\\Cristian.Aparicio\\\\Documents\\\\POLIZAS\\\\2022\\\\10. OCTUBRE\\\\LEDGER\\\\SCRIPT - ONLY LEDGER\\\\ledger_2022-10-23.csv',\n",
       " 'C:\\\\Users\\\\Cristian.Aparicio\\\\Documents\\\\POLIZAS\\\\2022\\\\10. OCTUBRE\\\\LEDGER\\\\SCRIPT - ONLY LEDGER\\\\ledger_2022-10-24.csv',\n",
       " 'C:\\\\Users\\\\Cristian.Aparicio\\\\Documents\\\\POLIZAS\\\\2022\\\\10. OCTUBRE\\\\LEDGER\\\\SCRIPT - ONLY LEDGER\\\\ledger_2022-10-25.csv',\n",
       " 'C:\\\\Users\\\\Cristian.Aparicio\\\\Documents\\\\POLIZAS\\\\2022\\\\10. OCTUBRE\\\\LEDGER\\\\SCRIPT - ONLY LEDGER\\\\ledger_2022-10-26.csv',\n",
       " 'C:\\\\Users\\\\Cristian.Aparicio\\\\Documents\\\\POLIZAS\\\\2022\\\\10. OCTUBRE\\\\LEDGER\\\\SCRIPT - ONLY LEDGER\\\\ledger_2022-10-27.csv',\n",
       " 'C:\\\\Users\\\\Cristian.Aparicio\\\\Documents\\\\POLIZAS\\\\2022\\\\10. OCTUBRE\\\\LEDGER\\\\SCRIPT - ONLY LEDGER\\\\ledger_2022-10-28.csv',\n",
       " 'C:\\\\Users\\\\Cristian.Aparicio\\\\Documents\\\\POLIZAS\\\\2022\\\\10. OCTUBRE\\\\LEDGER\\\\SCRIPT - ONLY LEDGER\\\\ledger_2022-10-29.csv',\n",
       " 'C:\\\\Users\\\\Cristian.Aparicio\\\\Documents\\\\POLIZAS\\\\2022\\\\10. OCTUBRE\\\\LEDGER\\\\SCRIPT - ONLY LEDGER\\\\ledger_2022-10-30.csv',\n",
       " 'C:\\\\Users\\\\Cristian.Aparicio\\\\Documents\\\\POLIZAS\\\\2022\\\\10. OCTUBRE\\\\LEDGER\\\\SCRIPT - ONLY LEDGER\\\\ledger_2022-10-31.csv']"
      ]
     },
     "execution_count": 2,
     "metadata": {},
     "output_type": "execute_result"
    }
   ],
   "source": [
    "poliza_producto_files = glob.glob(r'C:\\Users\\Cristian.Aparicio\\Documents\\POLIZAS\\2022\\10. OCTUBRE\\LEDGER\\SCRIPT - ONLY LEDGER\\*.csv', recursive=False)\n",
    "poliza_producto_files"
   ]
  },
  {
   "cell_type": "code",
   "execution_count": 3,
   "id": "23a893a9",
   "metadata": {},
   "outputs": [
    {
     "data": {
      "text/html": [
       "<div>\n",
       "<style scoped>\n",
       "    .dataframe tbody tr th:only-of-type {\n",
       "        vertical-align: middle;\n",
       "    }\n",
       "\n",
       "    .dataframe tbody tr th {\n",
       "        vertical-align: top;\n",
       "    }\n",
       "\n",
       "    .dataframe thead th {\n",
       "        text-align: right;\n",
       "    }\n",
       "</style>\n",
       "<table border=\"1\" class=\"dataframe\">\n",
       "  <thead>\n",
       "    <tr style=\"text-align: right;\">\n",
       "      <th></th>\n",
       "      <th>date</th>\n",
       "      <th>concept</th>\n",
       "      <th>type</th>\n",
       "      <th>key</th>\n",
       "      <th>amount</th>\n",
       "      <th>file_name</th>\n",
       "    </tr>\n",
       "  </thead>\n",
       "  <tbody>\n",
       "    <tr>\n",
       "      <th>22</th>\n",
       "      <td>2022-09-30</td>\n",
       "      <td>Adj Loans Lenders</td>\n",
       "      <td>credit</td>\n",
       "      <td>AdjLoansLenders</td>\n",
       "      <td>1,574,546.47</td>\n",
       "      <td>ledger_2022-09-30.csv</td>\n",
       "    </tr>\n",
       "    <tr>\n",
       "      <th>5</th>\n",
       "      <td>2022-09-30</td>\n",
       "      <td>Adjustments Cancelaciones</td>\n",
       "      <td>credit</td>\n",
       "      <td>AdjustmentsCancelaciones</td>\n",
       "      <td>0.00</td>\n",
       "      <td>ledger_2022-09-30.csv</td>\n",
       "    </tr>\n",
       "    <tr>\n",
       "      <th>24</th>\n",
       "      <td>2022-09-30</td>\n",
       "      <td>Adjustments Cancelaciones Fees</td>\n",
       "      <td>debit</td>\n",
       "      <td>AdjustmentsCancelacionesFees</td>\n",
       "      <td>0.00</td>\n",
       "      <td>ledger_2022-09-30.csv</td>\n",
       "    </tr>\n",
       "    <tr>\n",
       "      <th>19</th>\n",
       "      <td>2022-09-30</td>\n",
       "      <td>Adjustments Cancelaciones Taxes</td>\n",
       "      <td>debit</td>\n",
       "      <td>AdjustmentsCancelacionesTaxes</td>\n",
       "      <td>0.00</td>\n",
       "      <td>ledger_2022-09-30.csv</td>\n",
       "    </tr>\n",
       "    <tr>\n",
       "      <th>8</th>\n",
       "      <td>2022-09-30</td>\n",
       "      <td>Cobranza</td>\n",
       "      <td>credit</td>\n",
       "      <td>Cobranza</td>\n",
       "      <td>0.00</td>\n",
       "      <td>ledger_2022-09-30.csv</td>\n",
       "    </tr>\n",
       "  </tbody>\n",
       "</table>\n",
       "</div>"
      ],
      "text/plain": [
       "         date                          concept    type  \\\n",
       "22 2022-09-30                Adj Loans Lenders  credit   \n",
       "5  2022-09-30        Adjustments Cancelaciones  credit   \n",
       "24 2022-09-30   Adjustments Cancelaciones Fees   debit   \n",
       "19 2022-09-30  Adjustments Cancelaciones Taxes   debit   \n",
       "8  2022-09-30                         Cobranza  credit   \n",
       "\n",
       "                              key       amount              file_name  \n",
       "22                AdjLoansLenders 1,574,546.47  ledger_2022-09-30.csv  \n",
       "5        AdjustmentsCancelaciones         0.00  ledger_2022-09-30.csv  \n",
       "24   AdjustmentsCancelacionesFees         0.00  ledger_2022-09-30.csv  \n",
       "19  AdjustmentsCancelacionesTaxes         0.00  ledger_2022-09-30.csv  \n",
       "8                        Cobranza         0.00  ledger_2022-09-30.csv  "
      ]
     },
     "execution_count": 3,
     "metadata": {},
     "output_type": "execute_result"
    }
   ],
   "source": [
    "poliza_producto = pd.concat([pd.read_csv(f).assign(file_name=os.path.basename(f)) for f in poliza_producto_files])\n",
    "poliza_producto['date']= pd.to_datetime(poliza_producto['date'])\n",
    "poliza_producto.sort_values(by=['date','key'],inplace=True)\n",
    "poliza_producto.head()"
   ]
  },
  {
   "cell_type": "code",
   "execution_count": 4,
   "id": "2afcb7ef",
   "metadata": {},
   "outputs": [
    {
     "data": {
      "text/plain": [
       "(803, 6)"
      ]
     },
     "execution_count": 4,
     "metadata": {},
     "output_type": "execute_result"
    }
   ],
   "source": [
    "poliza_producto.shape"
   ]
  },
  {
   "cell_type": "code",
   "execution_count": 5,
   "id": "1bb1d153",
   "metadata": {},
   "outputs": [
    {
     "data": {
      "text/plain": [
       "['ledger_2022-09-30.csv',\n",
       " 'ledger_2022-10-01.csv',\n",
       " 'ledger_2022-10-02.csv',\n",
       " 'ledger_2022-10-03.csv',\n",
       " 'ledger_2022-10-04.csv',\n",
       " 'ledger_2022-10-05.csv',\n",
       " 'ledger_2022-10-06.csv',\n",
       " 'ledger_2022-10-07.csv',\n",
       " 'ledger_2022-10-08.csv',\n",
       " 'ledger_2022-10-09.csv',\n",
       " 'ledger_2022-10-10.csv',\n",
       " 'ledger_2022-10-11.csv',\n",
       " 'ledger_2022-10-12.csv',\n",
       " 'ledger_2022-10-13.csv',\n",
       " 'ledger_2022-10-14.csv',\n",
       " 'ledger_2022-10-15.csv',\n",
       " 'ledger_2022-10-16.csv',\n",
       " 'ledger_2022-10-17.csv',\n",
       " 'ledger_2022-10-18.csv',\n",
       " 'ledger_2022-10-19.csv',\n",
       " 'ledger_2022-10-20.csv',\n",
       " 'ledger_2022-10-21.csv',\n",
       " 'ledger_2022-10-22.csv',\n",
       " 'ledger_2022-10-23.csv',\n",
       " 'ledger_2022-10-24.csv',\n",
       " 'ledger_2022-10-25.csv',\n",
       " 'ledger_2022-10-26.csv',\n",
       " 'ledger_2022-10-27.csv',\n",
       " 'ledger_2022-10-28.csv',\n",
       " 'ledger_2022-10-29.csv',\n",
       " 'ledger_2022-10-30.csv',\n",
       " 'ledger_2022-10-31.csv']"
      ]
     },
     "execution_count": 5,
     "metadata": {},
     "output_type": "execute_result"
    }
   ],
   "source": [
    "sorted(poliza_producto['file_name'].unique())"
   ]
  },
  {
   "cell_type": "code",
   "execution_count": 7,
   "id": "6102505a",
   "metadata": {},
   "outputs": [],
   "source": [
    "writer = pd.ExcelWriter('Ledger-only-octubre 2022.xlsx',\n",
    "                        engine='xlsxwriter',\n",
    "                        engine_kwargs={'options': {'encoding':'utf-8'}})\n",
    "poliza_producto.to_excel(writer, sheet_name='Detalle script', index=False)\n",
    "writer.close()"
   ]
  },
  {
   "cell_type": "code",
   "execution_count": null,
   "id": "7fb7e6ef",
   "metadata": {},
   "outputs": [],
   "source": []
  }
 ],
 "metadata": {
  "kernelspec": {
   "display_name": "Python 3 (ipykernel)",
   "language": "python",
   "name": "python3"
  },
  "language_info": {
   "codemirror_mode": {
    "name": "ipython",
    "version": 3
   },
   "file_extension": ".py",
   "mimetype": "text/x-python",
   "name": "python",
   "nbconvert_exporter": "python",
   "pygments_lexer": "ipython3",
   "version": "3.9.13"
  }
 },
 "nbformat": 4,
 "nbformat_minor": 5
}
