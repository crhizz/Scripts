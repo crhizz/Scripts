{
 "cells": [
  {
   "cell_type": "code",
   "execution_count": null,
   "metadata": {},
   "outputs": [],
   "source": [
    "import pandas as pd\n",
    "import numpy as np\n",
    "from openpyxl import load_workbook\n",
    "import glob\n",
    "import os\n",
    "pd.options.display.float_format = '{:,.2f}'.format"
   ]
  },
  {
   "cell_type": "markdown",
   "metadata": {},
   "source": [
    "# DATA SIMETRIK"
   ]
  },
  {
   "cell_type": "code",
   "execution_count": null,
   "metadata": {},
   "outputs": [],
   "source": [
    "allfiles_sim = glob.glob(r'C:\\Users\\Cristian.Aparicio\\Documents\\PROVISIONES\\2021\\07. JULIO\\DATA SIMETRIK - ADQ NO CLIP\\*.csv', recursive=True)"
   ]
  },
  {
   "cell_type": "code",
   "execution_count": null,
   "metadata": {},
   "outputs": [],
   "source": [
    "df_all_files_sim = pd.concat([pd.read_csv(f,dtype={'TRANSACTION_REFERENCE':object,'COD_AUTORIZACION':object,'BIN':object\n",
    "                                                  ,'ULTIMOS_4':object,'REFERENCIA_PAYWORKS':object,'MONTO':float})\n",
    "                              .assign(file_name_tableros=os.path.basename(f)) for f in allfiles_sim])\n",
    "df_all_files_sim.columns = df_all_files_sim.columns.str.strip().str.lower()\n",
    "df_all_files_sim.reset_index(inplace=True)\n",
    "df_all_files_sim.loc[pd.notnull(df_all_files_sim['transaction_reference']),'order_id'] = df_all_files_sim['transaction_reference']\n",
    "df_all_files_sim.loc[pd.notnull(df_all_files_sim['referencia_payworks']),'order_id'] = df_all_files_sim['referencia_payworks']\n",
    "df_all_files_sim.loc[pd.notnull(df_all_files_sim['fecha_deposito_banorte']),'fecha_deposito'] = df_all_files_sim['fecha_deposito_banorte']\n",
    "df_all_files_sim.loc[pd.notnull(df_all_files_sim['fecha_deposito_amex']),'fecha_deposito'] = df_all_files_sim['fecha_deposito_amex']\n",
    "df_all_files_sim.loc[pd.notnull(df_all_files_sim['fecha_trx_amex']),'fecha_transaccion'] = df_all_files_sim['fecha_trx_amex']\n",
    "df_all_files_sim.loc[pd.notnull(df_all_files_sim['fecha_trx_banorte']),'fecha_transaccion'] = df_all_files_sim['fecha_trx_banorte']\n",
    "df_all_files_sim['order_id'] = df_all_files_sim['order_id'].str.upper()\n",
    "df_all_files_sim['order_id'] = df_all_files_sim['order_id'].str.strip()\n",
    "df_all_files_sim['order_id'].fillna('Sin order_id simetrik',inplace=True)\n",
    "df_all_files_sim.head()"
   ]
  },
  {
   "cell_type": "code",
   "execution_count": null,
   "metadata": {},
   "outputs": [],
   "source": [
    "df_all_files_sim.shape"
   ]
  },
  {
   "cell_type": "code",
   "execution_count": null,
   "metadata": {},
   "outputs": [],
   "source": [
    "df_all_files_sim.columns"
   ]
  },
  {
   "cell_type": "code",
   "execution_count": null,
   "metadata": {},
   "outputs": [],
   "source": [
    "df_all_files_sim_final = df_all_files_sim[['nombre_tablero','fecha_transaccion','fecha_deposito','order_id'\n",
    "                                         ,'cod_autorizacion','bin','ultimos_4','msi','id_comercio','caso_uso','monto'\n",
    "                                           ,'file_name_tableros']]\n",
    "df_all_files_sim_final.head()"
   ]
  },
  {
   "cell_type": "code",
   "execution_count": null,
   "metadata": {},
   "outputs": [],
   "source": [
    "df_all_files_sim_final.shape"
   ]
  },
  {
   "cell_type": "code",
   "execution_count": null,
   "metadata": {},
   "outputs": [],
   "source": [
    "# df_all_files_sim_final.to_excel('DATA QUERY ANC.xlsx')"
   ]
  },
  {
   "cell_type": "code",
   "execution_count": null,
   "metadata": {},
   "outputs": [],
   "source": [
    "df_all_files_sim_final_amex = df_all_files_sim_final[df_all_files_sim_final['file_name_tableros'].str.contains('AMEX')]\n",
    "df_all_files_sim_final_grrcn = df_all_files_sim_final[df_all_files_sim_final['file_name_tableros'].str.contains('GRRCN')]\n",
    "df_all_files_sim_final_bnte = df_all_files_sim_final[df_all_files_sim_final['file_name_tableros'].str.contains('BNTE')]\n",
    "df_all_files_sim_final_ecom = df_all_files_sim_final[df_all_files_sim_final['file_name_tableros'].str.contains('ECOM')]"
   ]
  },
  {
   "cell_type": "markdown",
   "metadata": {},
   "source": [
    "### PIVOT FECHA DE DEPOSITO"
   ]
  },
  {
   "cell_type": "code",
   "execution_count": null,
   "metadata": {},
   "outputs": [],
   "source": [
    "pivot_fecha_deposito = pd.pivot_table(df_all_files_sim_final,index=['file_name_tableros','fecha_transaccion']\n",
    "                                              ,columns=['fecha_deposito'],values=['monto']\n",
    "                                              ,aggfunc=np.sum,margins=True).reset_index(1)\n",
    "pivot_fecha_deposito.fillna(0,inplace=True)\n",
    "pivot_fecha_deposito.head()"
   ]
  },
  {
   "cell_type": "code",
   "execution_count": null,
   "metadata": {},
   "outputs": [],
   "source": [
    "pivot_fecha_deposito.shape"
   ]
  },
  {
   "cell_type": "code",
   "execution_count": null,
   "metadata": {},
   "outputs": [],
   "source": [
    "writer = pd.ExcelWriter('ADQUIRIENTE NO CLIP JULIO 2021.xlsx', engine='openpyxl', options={'encoding':'utf-8'})\n",
    "pivot_fecha_deposito.to_excel(writer, sheet_name='RESUMEN')\n",
    "df_all_files_sim_final_amex.to_excel(writer, sheet_name='AMEX', index=False)\n",
    "df_all_files_sim_final_grrcn.to_excel(writer, sheet_name='GRRCN', index=False)\n",
    "df_all_files_sim_final_bnte.to_excel(writer, sheet_name='BNTE', index=False)\n",
    "df_all_files_sim_final_ecom.to_excel(writer, sheet_name='E-COMMERCE', index=False)\n",
    "writer.save()\n",
    "writer.close()"
   ]
  },
  {
   "cell_type": "code",
   "execution_count": null,
   "metadata": {},
   "outputs": [],
   "source": []
  }
 ],
 "metadata": {
  "kernelspec": {
   "display_name": "Python 3",
   "language": "python",
   "name": "python3"
  },
  "language_info": {
   "codemirror_mode": {
    "name": "ipython",
    "version": 3
   },
   "file_extension": ".py",
   "mimetype": "text/x-python",
   "name": "python",
   "nbconvert_exporter": "python",
   "pygments_lexer": "ipython3",
   "version": "3.7.6"
  }
 },
 "nbformat": 4,
 "nbformat_minor": 2
}
