{
 "cells": [
  {
   "cell_type": "markdown",
   "id": "48e27082",
   "metadata": {},
   "source": [
    "# RANGO DE FECHAS SISENSE"
   ]
  },
  {
   "cell_type": "markdown",
   "id": "efaa1ec7",
   "metadata": {},
   "source": [
    "### 1. ABRIR DENTRO DE WIDGET \"BLOX\""
   ]
  },
  {
   "cell_type": "markdown",
   "id": "f920f9a0",
   "metadata": {},
   "source": [
    "### 2. EN EL APARTADO EDITOR, PONER EL SIGUIENTE CODIGO"
   ]
  },
  {
   "cell_type": "raw",
   "id": "ab7f972d",
   "metadata": {},
   "source": [
    "var from_ = document.getElementById('data.filters[0].filterJaql.from_01').value;\n",
    "var to_ = document.getElementById('data.filters[0].filterJaql.to_01').value;\n",
    "\n",
    "if (to_ == \"\") {\n",
    "    let today = new Date()\n",
    "    to_ = today.toISOString().split('T')[0]\n",
    "}\n",
    "\n",
    "for (let i = 0; i < prism.activeDashboard.filters.$$items.length; i++) {\n",
    "    let substring = prism.activeDashboard.filters.$$items[i].jaql.title;\n",
    "\n",
    "    if (substring.includes(\"date_01_\")) {\n",
    "        prism.activeDashboard.filters.$$items[i].jaql.filter.from = from_;\n",
    "        prism.activeDashboard.filters.$$items[i].jaql.filter.to = to_;\n",
    "    }\n",
    "}\n",
    "\n",
    "var widgets = []\n",
    "for (let i = 0; i < prism.activeDashboard.widgets.$$widgets.length; i++) {\n",
    "\n",
    "    if (prism.activeDashboard.widgets.$$widgets[i].subtype == \"BloX\") { continue; }\n",
    "    else {\n",
    "        widgets.push(prism.activeDashboard.widgets.$$widgets[i].oid);\n",
    "    }\n",
    "}\n",
    "\n",
    "widgets.forEach(myfunction);\n",
    "function myfunction(item) {\n",
    "    var widgetfindid = prism.activeDashboard.widgets.$$widgets.find(w => w.oid === item)\n",
    "    widgetfindid.changesMade() //apply changes to MongoDB - the application database\n",
    "    widgetfindid.refresh() //refresh the widget\n",
    "};"
   ]
  },
  {
   "cell_type": "code",
   "execution_count": null,
   "id": "5d69a9f2",
   "metadata": {},
   "outputs": [],
   "source": []
  },
  {
   "cell_type": "code",
   "execution_count": null,
   "id": "046d91eb",
   "metadata": {},
   "outputs": [],
   "source": []
  }
 ],
 "metadata": {
  "kernelspec": {
   "display_name": "Python 3 (ipykernel)",
   "language": "python",
   "name": "python3"
  },
  "language_info": {
   "codemirror_mode": {
    "name": "ipython",
    "version": 3
   },
   "file_extension": ".py",
   "mimetype": "text/x-python",
   "name": "python",
   "nbconvert_exporter": "python",
   "pygments_lexer": "ipython3",
   "version": "3.9.18"
  }
 },
 "nbformat": 4,
 "nbformat_minor": 5
}
