{
 "cells": [
  {
   "cell_type": "code",
   "execution_count": 1,
   "metadata": {},
   "outputs": [],
   "source": [
    "import pandas as pd\n",
    "import numpy as np\n",
    "from openpyxl import load_workbook\n",
    "import glob\n",
    "import os\n",
    "pd.options.display.float_format = '{:,.2f}'.format"
   ]
  },
  {
   "cell_type": "markdown",
   "metadata": {},
   "source": [
    "# DATA SIMETRIK"
   ]
  },
  {
   "cell_type": "code",
   "execution_count": 2,
   "metadata": {},
   "outputs": [],
   "source": [
    "allfiles_sim = glob.glob(r'C:\\Users\\Cristian.Aparicio\\Documents\\PROVISIONES\\2021\\07. JULIO\\DATA SIMETRIK - POSIBLES DISPUTAS\\*.csv', recursive=True)"
   ]
  },
  {
   "cell_type": "code",
   "execution_count": 4,
   "metadata": {},
   "outputs": [
    {
     "data": {
      "text/html": [
       "<div>\n",
       "<style scoped>\n",
       "    .dataframe tbody tr th:only-of-type {\n",
       "        vertical-align: middle;\n",
       "    }\n",
       "\n",
       "    .dataframe tbody tr th {\n",
       "        vertical-align: top;\n",
       "    }\n",
       "\n",
       "    .dataframe thead th {\n",
       "        text-align: right;\n",
       "    }\n",
       "</style>\n",
       "<table border=\"1\" class=\"dataframe\">\n",
       "  <thead>\n",
       "    <tr style=\"text-align: right;\">\n",
       "      <th></th>\n",
       "      <th>index</th>\n",
       "      <th>nombre_tablero</th>\n",
       "      <th>fecha_deposito_clip</th>\n",
       "      <th>fecha_trx_amex</th>\n",
       "      <th>fecha_trx_clip</th>\n",
       "      <th>fecha_conciliacion</th>\n",
       "      <th>nombre_archivo_amex</th>\n",
       "      <th>nombre_archivo_clip</th>\n",
       "      <th>order_id</th>\n",
       "      <th>cod_autorizacion_amex</th>\n",
       "      <th>...</th>\n",
       "      <th>caso_uso</th>\n",
       "      <th>ref_lote_prosa</th>\n",
       "      <th>referencia_payworks</th>\n",
       "      <th>num_control</th>\n",
       "      <th>cod_autorizacion_banorte</th>\n",
       "      <th>fecha_trx_grrcn</th>\n",
       "      <th>nombre_archivo_amex_grrcn</th>\n",
       "      <th>cod_autorizacion_grrcn</th>\n",
       "      <th>fecha_deposito</th>\n",
       "      <th>fecha_transaccion</th>\n",
       "    </tr>\n",
       "  </thead>\n",
       "  <tbody>\n",
       "    <tr>\n",
       "      <th>0</th>\n",
       "      <td>0</td>\n",
       "      <td>AMEX TRX: Posibles Disputas Conciliadas</td>\n",
       "      <td>2021-07-31 00:00:00</td>\n",
       "      <td>2021-07-30 00:00:00</td>\n",
       "      <td>2021-07-30 00:00:00</td>\n",
       "      <td>2021-08-02 00:00:00</td>\n",
       "      <td>2021-08-02_EPA_P64LH210320DEO.csv</td>\n",
       "      <td>2021_07_30_transactions_18.csv</td>\n",
       "      <td>KWZA0ECCG7HV</td>\n",
       "      <td>841.00</td>\n",
       "      <td>...</td>\n",
       "      <td>NaN</td>\n",
       "      <td>NaN</td>\n",
       "      <td>nan</td>\n",
       "      <td>nan</td>\n",
       "      <td>nan</td>\n",
       "      <td>NaN</td>\n",
       "      <td>NaN</td>\n",
       "      <td>nan</td>\n",
       "      <td>NaN</td>\n",
       "      <td>2021-07-30 00:00:00</td>\n",
       "    </tr>\n",
       "    <tr>\n",
       "      <th>1</th>\n",
       "      <td>1</td>\n",
       "      <td>AMEX TRX: Posibles Disputas Conciliadas</td>\n",
       "      <td>2021-07-31 00:00:00</td>\n",
       "      <td>2021-07-30 00:00:00</td>\n",
       "      <td>2021-07-30 00:00:00</td>\n",
       "      <td>2021-08-02 00:00:00</td>\n",
       "      <td>2021-08-02_EPA_P64LH210320DEO.csv</td>\n",
       "      <td>2021_07_30_transactions_26.csv</td>\n",
       "      <td>4IYFFWRQNPGG</td>\n",
       "      <td>880.00</td>\n",
       "      <td>...</td>\n",
       "      <td>NaN</td>\n",
       "      <td>NaN</td>\n",
       "      <td>nan</td>\n",
       "      <td>nan</td>\n",
       "      <td>nan</td>\n",
       "      <td>NaN</td>\n",
       "      <td>NaN</td>\n",
       "      <td>nan</td>\n",
       "      <td>NaN</td>\n",
       "      <td>2021-07-30 00:00:00</td>\n",
       "    </tr>\n",
       "    <tr>\n",
       "      <th>2</th>\n",
       "      <td>2</td>\n",
       "      <td>AMEX TRX: Posibles Disputas Conciliadas</td>\n",
       "      <td>2021-07-31 00:00:00</td>\n",
       "      <td>2021-07-30 00:00:00</td>\n",
       "      <td>2021-07-30 00:00:00</td>\n",
       "      <td>2021-08-02 00:00:00</td>\n",
       "      <td>2021-08-02_EPA_P64LH210320DEO.csv</td>\n",
       "      <td>2021_07_30_transactions_28.csv</td>\n",
       "      <td>QKIVZZ4PTNFV</td>\n",
       "      <td>806.00</td>\n",
       "      <td>...</td>\n",
       "      <td>NaN</td>\n",
       "      <td>NaN</td>\n",
       "      <td>nan</td>\n",
       "      <td>nan</td>\n",
       "      <td>nan</td>\n",
       "      <td>NaN</td>\n",
       "      <td>NaN</td>\n",
       "      <td>nan</td>\n",
       "      <td>NaN</td>\n",
       "      <td>2021-07-30 00:00:00</td>\n",
       "    </tr>\n",
       "    <tr>\n",
       "      <th>3</th>\n",
       "      <td>3</td>\n",
       "      <td>AMEX TRX: Posibles Disputas Conciliadas</td>\n",
       "      <td>2021-07-31 00:00:00</td>\n",
       "      <td>2021-07-30 00:00:00</td>\n",
       "      <td>2021-07-30 00:00:00</td>\n",
       "      <td>2021-08-02 00:00:00</td>\n",
       "      <td>2021-08-02_EPA_P64LH210320DEO.csv</td>\n",
       "      <td>2021_07_30_transactions_29.csv</td>\n",
       "      <td>IMLAJPUVWLPX</td>\n",
       "      <td>819.00</td>\n",
       "      <td>...</td>\n",
       "      <td>NaN</td>\n",
       "      <td>NaN</td>\n",
       "      <td>nan</td>\n",
       "      <td>nan</td>\n",
       "      <td>nan</td>\n",
       "      <td>NaN</td>\n",
       "      <td>NaN</td>\n",
       "      <td>nan</td>\n",
       "      <td>NaN</td>\n",
       "      <td>2021-07-30 00:00:00</td>\n",
       "    </tr>\n",
       "    <tr>\n",
       "      <th>4</th>\n",
       "      <td>4</td>\n",
       "      <td>AMEX TRX: Posibles Disputas Conciliadas</td>\n",
       "      <td>2021-07-31 00:00:00</td>\n",
       "      <td>2021-07-30 00:00:00</td>\n",
       "      <td>2021-07-30 00:00:00</td>\n",
       "      <td>2021-08-02 00:00:00</td>\n",
       "      <td>2021-08-02_EPA_P64LH210320DEO.csv</td>\n",
       "      <td>2021_07_30_transactions_35.csv</td>\n",
       "      <td>MV6JKAA55V5E</td>\n",
       "      <td>828.00</td>\n",
       "      <td>...</td>\n",
       "      <td>NaN</td>\n",
       "      <td>NaN</td>\n",
       "      <td>nan</td>\n",
       "      <td>nan</td>\n",
       "      <td>nan</td>\n",
       "      <td>NaN</td>\n",
       "      <td>NaN</td>\n",
       "      <td>nan</td>\n",
       "      <td>NaN</td>\n",
       "      <td>2021-07-30 00:00:00</td>\n",
       "    </tr>\n",
       "  </tbody>\n",
       "</table>\n",
       "<p>5 rows × 35 columns</p>\n",
       "</div>"
      ],
      "text/plain": [
       "   index                           nombre_tablero  fecha_deposito_clip  \\\n",
       "0      0  AMEX TRX: Posibles Disputas Conciliadas  2021-07-31 00:00:00   \n",
       "1      1  AMEX TRX: Posibles Disputas Conciliadas  2021-07-31 00:00:00   \n",
       "2      2  AMEX TRX: Posibles Disputas Conciliadas  2021-07-31 00:00:00   \n",
       "3      3  AMEX TRX: Posibles Disputas Conciliadas  2021-07-31 00:00:00   \n",
       "4      4  AMEX TRX: Posibles Disputas Conciliadas  2021-07-31 00:00:00   \n",
       "\n",
       "        fecha_trx_amex       fecha_trx_clip   fecha_conciliacion  \\\n",
       "0  2021-07-30 00:00:00  2021-07-30 00:00:00  2021-08-02 00:00:00   \n",
       "1  2021-07-30 00:00:00  2021-07-30 00:00:00  2021-08-02 00:00:00   \n",
       "2  2021-07-30 00:00:00  2021-07-30 00:00:00  2021-08-02 00:00:00   \n",
       "3  2021-07-30 00:00:00  2021-07-30 00:00:00  2021-08-02 00:00:00   \n",
       "4  2021-07-30 00:00:00  2021-07-30 00:00:00  2021-08-02 00:00:00   \n",
       "\n",
       "                 nombre_archivo_amex             nombre_archivo_clip  \\\n",
       "0  2021-08-02_EPA_P64LH210320DEO.csv  2021_07_30_transactions_18.csv   \n",
       "1  2021-08-02_EPA_P64LH210320DEO.csv  2021_07_30_transactions_26.csv   \n",
       "2  2021-08-02_EPA_P64LH210320DEO.csv  2021_07_30_transactions_28.csv   \n",
       "3  2021-08-02_EPA_P64LH210320DEO.csv  2021_07_30_transactions_29.csv   \n",
       "4  2021-08-02_EPA_P64LH210320DEO.csv  2021_07_30_transactions_35.csv   \n",
       "\n",
       "       order_id  cod_autorizacion_amex  ...  caso_uso ref_lote_prosa  \\\n",
       "0  KWZA0ECCG7HV                 841.00  ...       NaN            NaN   \n",
       "1  4IYFFWRQNPGG                 880.00  ...       NaN            NaN   \n",
       "2  QKIVZZ4PTNFV                 806.00  ...       NaN            NaN   \n",
       "3  IMLAJPUVWLPX                 819.00  ...       NaN            NaN   \n",
       "4  MV6JKAA55V5E                 828.00  ...       NaN            NaN   \n",
       "\n",
       "  referencia_payworks  num_control  cod_autorizacion_banorte fecha_trx_grrcn  \\\n",
       "0                 nan          nan                       nan             NaN   \n",
       "1                 nan          nan                       nan             NaN   \n",
       "2                 nan          nan                       nan             NaN   \n",
       "3                 nan          nan                       nan             NaN   \n",
       "4                 nan          nan                       nan             NaN   \n",
       "\n",
       "   nombre_archivo_amex_grrcn  cod_autorizacion_grrcn fecha_deposito  \\\n",
       "0                        NaN                     nan            NaN   \n",
       "1                        NaN                     nan            NaN   \n",
       "2                        NaN                     nan            NaN   \n",
       "3                        NaN                     nan            NaN   \n",
       "4                        NaN                     nan            NaN   \n",
       "\n",
       "     fecha_transaccion  \n",
       "0  2021-07-30 00:00:00  \n",
       "1  2021-07-30 00:00:00  \n",
       "2  2021-07-30 00:00:00  \n",
       "3  2021-07-30 00:00:00  \n",
       "4  2021-07-30 00:00:00  \n",
       "\n",
       "[5 rows x 35 columns]"
      ]
     },
     "execution_count": 4,
     "metadata": {},
     "output_type": "execute_result"
    }
   ],
   "source": [
    "df_all_files_sim = pd.concat([pd.read_csv(f,dtype={'MONTO':float,'COD_AUTORIZACION': object,'BIN':object,'ULTIMOS_4':object,'ORDER_ID':object})\n",
    "                              .assign(file_name_tableros=os.path.basename(f)) for f in allfiles_sim])\n",
    "df_all_files_sim.columns = df_all_files_sim.columns.str.strip().str.lower()\n",
    "df_all_files_sim.reset_index(inplace=True)\n",
    "df_all_files_sim['order_id'] = df_all_files_sim['order_id'].str.upper()\n",
    "df_all_files_sim['order_id'] = df_all_files_sim['order_id'].str.strip()\n",
    "df_all_files_sim['order_id'].fillna('Sin order_id simetrik',inplace=True)\n",
    "df_all_files_sim.loc[pd.notnull(df_all_files_sim['fecha_deposito_banorte']),'fecha_deposito'] = df_all_files_sim['fecha_deposito_banorte']\n",
    "# df_all_files_sim.loc[pd.notnull(df_all_files_sim['fecha_deposito_amex']),'fecha_deposito'] = df_all_files_sim['fecha_deposito_amex']\n",
    "df_all_files_sim.loc[pd.notnull(df_all_files_sim['fecha_trx_amex']),'fecha_transaccion'] = df_all_files_sim['fecha_trx_amex']\n",
    "df_all_files_sim.loc[pd.notnull(df_all_files_sim['fecha_trx_banorte']),'fecha_transaccion'] = df_all_files_sim['fecha_trx_banorte']\n",
    "df_all_files_sim.head()"
   ]
  },
  {
   "cell_type": "code",
   "execution_count": 5,
   "metadata": {},
   "outputs": [
    {
     "data": {
      "text/plain": [
       "(347, 35)"
      ]
     },
     "execution_count": 5,
     "metadata": {},
     "output_type": "execute_result"
    }
   ],
   "source": [
    "df_all_files_sim.shape"
   ]
  },
  {
   "cell_type": "code",
   "execution_count": 6,
   "metadata": {},
   "outputs": [
    {
     "data": {
      "text/plain": [
       "Index(['index', 'nombre_tablero', 'fecha_deposito_clip', 'fecha_trx_amex',\n",
       "       'fecha_trx_clip', 'fecha_conciliacion', 'nombre_archivo_amex',\n",
       "       'nombre_archivo_clip', 'order_id', 'cod_autorizacion_amex',\n",
       "       'cod_autorizacion_clip', 'bin', 'ultimos_4', 'status_code', 'msi',\n",
       "       'psp', 'monto', 'recuento', 'file_name_tableros',\n",
       "       'fecha_deposito_banorte', 'fecha_trx_banorte', 'nombre_archivo_banorte',\n",
       "       'cod_autorizacion', 'proceso', 'id_comercio', 'caso_uso',\n",
       "       'ref_lote_prosa', 'referencia_payworks', 'num_control',\n",
       "       'cod_autorizacion_banorte', 'fecha_trx_grrcn',\n",
       "       'nombre_archivo_amex_grrcn', 'cod_autorizacion_grrcn', 'fecha_deposito',\n",
       "       'fecha_transaccion'],\n",
       "      dtype='object')"
      ]
     },
     "execution_count": 6,
     "metadata": {},
     "output_type": "execute_result"
    }
   ],
   "source": [
    "df_all_files_sim.columns"
   ]
  },
  {
   "cell_type": "code",
   "execution_count": 7,
   "metadata": {},
   "outputs": [],
   "source": [
    "df_all_files_sim.to_excel('DATA POSIBLES DISPUTAS MAYO 2021.xlsx',index=False)"
   ]
  },
  {
   "cell_type": "code",
   "execution_count": 8,
   "metadata": {},
   "outputs": [
    {
     "data": {
      "text/plain": [
       "(347, 35)"
      ]
     },
     "execution_count": 8,
     "metadata": {},
     "output_type": "execute_result"
    }
   ],
   "source": [
    "df_all_files_sim.shape"
   ]
  },
  {
   "cell_type": "code",
   "execution_count": 9,
   "metadata": {},
   "outputs": [
    {
     "data": {
      "text/html": [
       "<div>\n",
       "<style scoped>\n",
       "    .dataframe tbody tr th:only-of-type {\n",
       "        vertical-align: middle;\n",
       "    }\n",
       "\n",
       "    .dataframe tbody tr th {\n",
       "        vertical-align: top;\n",
       "    }\n",
       "\n",
       "    .dataframe thead th {\n",
       "        text-align: right;\n",
       "    }\n",
       "</style>\n",
       "<table border=\"1\" class=\"dataframe\">\n",
       "  <thead>\n",
       "    <tr style=\"text-align: right;\">\n",
       "      <th></th>\n",
       "      <th>index</th>\n",
       "      <th>nombre_tablero</th>\n",
       "      <th>fecha_deposito_clip</th>\n",
       "      <th>fecha_trx_amex</th>\n",
       "      <th>fecha_trx_clip</th>\n",
       "      <th>fecha_conciliacion</th>\n",
       "      <th>nombre_archivo_amex</th>\n",
       "      <th>nombre_archivo_clip</th>\n",
       "      <th>order_id</th>\n",
       "      <th>cod_autorizacion_amex</th>\n",
       "      <th>...</th>\n",
       "      <th>caso_uso</th>\n",
       "      <th>ref_lote_prosa</th>\n",
       "      <th>referencia_payworks</th>\n",
       "      <th>num_control</th>\n",
       "      <th>cod_autorizacion_banorte</th>\n",
       "      <th>fecha_trx_grrcn</th>\n",
       "      <th>nombre_archivo_amex_grrcn</th>\n",
       "      <th>cod_autorizacion_grrcn</th>\n",
       "      <th>fecha_deposito</th>\n",
       "      <th>fecha_transaccion</th>\n",
       "    </tr>\n",
       "  </thead>\n",
       "  <tbody>\n",
       "    <tr>\n",
       "      <th>0</th>\n",
       "      <td>0</td>\n",
       "      <td>AMEX TRX: Posibles Disputas Conciliadas</td>\n",
       "      <td>2021-07-31 00:00:00</td>\n",
       "      <td>2021-07-30 00:00:00</td>\n",
       "      <td>2021-07-30 00:00:00</td>\n",
       "      <td>2021-08-02 00:00:00</td>\n",
       "      <td>2021-08-02_EPA_P64LH210320DEO.csv</td>\n",
       "      <td>2021_07_30_transactions_18.csv</td>\n",
       "      <td>KWZA0ECCG7HV</td>\n",
       "      <td>841.00</td>\n",
       "      <td>...</td>\n",
       "      <td>NaN</td>\n",
       "      <td>NaN</td>\n",
       "      <td>nan</td>\n",
       "      <td>nan</td>\n",
       "      <td>nan</td>\n",
       "      <td>NaN</td>\n",
       "      <td>NaN</td>\n",
       "      <td>nan</td>\n",
       "      <td>NaN</td>\n",
       "      <td>2021-07-30 00:00:00</td>\n",
       "    </tr>\n",
       "    <tr>\n",
       "      <th>1</th>\n",
       "      <td>1</td>\n",
       "      <td>AMEX TRX: Posibles Disputas Conciliadas</td>\n",
       "      <td>2021-07-31 00:00:00</td>\n",
       "      <td>2021-07-30 00:00:00</td>\n",
       "      <td>2021-07-30 00:00:00</td>\n",
       "      <td>2021-08-02 00:00:00</td>\n",
       "      <td>2021-08-02_EPA_P64LH210320DEO.csv</td>\n",
       "      <td>2021_07_30_transactions_26.csv</td>\n",
       "      <td>4IYFFWRQNPGG</td>\n",
       "      <td>880.00</td>\n",
       "      <td>...</td>\n",
       "      <td>NaN</td>\n",
       "      <td>NaN</td>\n",
       "      <td>nan</td>\n",
       "      <td>nan</td>\n",
       "      <td>nan</td>\n",
       "      <td>NaN</td>\n",
       "      <td>NaN</td>\n",
       "      <td>nan</td>\n",
       "      <td>NaN</td>\n",
       "      <td>2021-07-30 00:00:00</td>\n",
       "    </tr>\n",
       "    <tr>\n",
       "      <th>2</th>\n",
       "      <td>2</td>\n",
       "      <td>AMEX TRX: Posibles Disputas Conciliadas</td>\n",
       "      <td>2021-07-31 00:00:00</td>\n",
       "      <td>2021-07-30 00:00:00</td>\n",
       "      <td>2021-07-30 00:00:00</td>\n",
       "      <td>2021-08-02 00:00:00</td>\n",
       "      <td>2021-08-02_EPA_P64LH210320DEO.csv</td>\n",
       "      <td>2021_07_30_transactions_28.csv</td>\n",
       "      <td>QKIVZZ4PTNFV</td>\n",
       "      <td>806.00</td>\n",
       "      <td>...</td>\n",
       "      <td>NaN</td>\n",
       "      <td>NaN</td>\n",
       "      <td>nan</td>\n",
       "      <td>nan</td>\n",
       "      <td>nan</td>\n",
       "      <td>NaN</td>\n",
       "      <td>NaN</td>\n",
       "      <td>nan</td>\n",
       "      <td>NaN</td>\n",
       "      <td>2021-07-30 00:00:00</td>\n",
       "    </tr>\n",
       "    <tr>\n",
       "      <th>3</th>\n",
       "      <td>3</td>\n",
       "      <td>AMEX TRX: Posibles Disputas Conciliadas</td>\n",
       "      <td>2021-07-31 00:00:00</td>\n",
       "      <td>2021-07-30 00:00:00</td>\n",
       "      <td>2021-07-30 00:00:00</td>\n",
       "      <td>2021-08-02 00:00:00</td>\n",
       "      <td>2021-08-02_EPA_P64LH210320DEO.csv</td>\n",
       "      <td>2021_07_30_transactions_29.csv</td>\n",
       "      <td>IMLAJPUVWLPX</td>\n",
       "      <td>819.00</td>\n",
       "      <td>...</td>\n",
       "      <td>NaN</td>\n",
       "      <td>NaN</td>\n",
       "      <td>nan</td>\n",
       "      <td>nan</td>\n",
       "      <td>nan</td>\n",
       "      <td>NaN</td>\n",
       "      <td>NaN</td>\n",
       "      <td>nan</td>\n",
       "      <td>NaN</td>\n",
       "      <td>2021-07-30 00:00:00</td>\n",
       "    </tr>\n",
       "    <tr>\n",
       "      <th>4</th>\n",
       "      <td>4</td>\n",
       "      <td>AMEX TRX: Posibles Disputas Conciliadas</td>\n",
       "      <td>2021-07-31 00:00:00</td>\n",
       "      <td>2021-07-30 00:00:00</td>\n",
       "      <td>2021-07-30 00:00:00</td>\n",
       "      <td>2021-08-02 00:00:00</td>\n",
       "      <td>2021-08-02_EPA_P64LH210320DEO.csv</td>\n",
       "      <td>2021_07_30_transactions_35.csv</td>\n",
       "      <td>MV6JKAA55V5E</td>\n",
       "      <td>828.00</td>\n",
       "      <td>...</td>\n",
       "      <td>NaN</td>\n",
       "      <td>NaN</td>\n",
       "      <td>nan</td>\n",
       "      <td>nan</td>\n",
       "      <td>nan</td>\n",
       "      <td>NaN</td>\n",
       "      <td>NaN</td>\n",
       "      <td>nan</td>\n",
       "      <td>NaN</td>\n",
       "      <td>2021-07-30 00:00:00</td>\n",
       "    </tr>\n",
       "  </tbody>\n",
       "</table>\n",
       "<p>5 rows × 35 columns</p>\n",
       "</div>"
      ],
      "text/plain": [
       "   index                           nombre_tablero  fecha_deposito_clip  \\\n",
       "0      0  AMEX TRX: Posibles Disputas Conciliadas  2021-07-31 00:00:00   \n",
       "1      1  AMEX TRX: Posibles Disputas Conciliadas  2021-07-31 00:00:00   \n",
       "2      2  AMEX TRX: Posibles Disputas Conciliadas  2021-07-31 00:00:00   \n",
       "3      3  AMEX TRX: Posibles Disputas Conciliadas  2021-07-31 00:00:00   \n",
       "4      4  AMEX TRX: Posibles Disputas Conciliadas  2021-07-31 00:00:00   \n",
       "\n",
       "        fecha_trx_amex       fecha_trx_clip   fecha_conciliacion  \\\n",
       "0  2021-07-30 00:00:00  2021-07-30 00:00:00  2021-08-02 00:00:00   \n",
       "1  2021-07-30 00:00:00  2021-07-30 00:00:00  2021-08-02 00:00:00   \n",
       "2  2021-07-30 00:00:00  2021-07-30 00:00:00  2021-08-02 00:00:00   \n",
       "3  2021-07-30 00:00:00  2021-07-30 00:00:00  2021-08-02 00:00:00   \n",
       "4  2021-07-30 00:00:00  2021-07-30 00:00:00  2021-08-02 00:00:00   \n",
       "\n",
       "                 nombre_archivo_amex             nombre_archivo_clip  \\\n",
       "0  2021-08-02_EPA_P64LH210320DEO.csv  2021_07_30_transactions_18.csv   \n",
       "1  2021-08-02_EPA_P64LH210320DEO.csv  2021_07_30_transactions_26.csv   \n",
       "2  2021-08-02_EPA_P64LH210320DEO.csv  2021_07_30_transactions_28.csv   \n",
       "3  2021-08-02_EPA_P64LH210320DEO.csv  2021_07_30_transactions_29.csv   \n",
       "4  2021-08-02_EPA_P64LH210320DEO.csv  2021_07_30_transactions_35.csv   \n",
       "\n",
       "       order_id  cod_autorizacion_amex  ...  caso_uso ref_lote_prosa  \\\n",
       "0  KWZA0ECCG7HV                 841.00  ...       NaN            NaN   \n",
       "1  4IYFFWRQNPGG                 880.00  ...       NaN            NaN   \n",
       "2  QKIVZZ4PTNFV                 806.00  ...       NaN            NaN   \n",
       "3  IMLAJPUVWLPX                 819.00  ...       NaN            NaN   \n",
       "4  MV6JKAA55V5E                 828.00  ...       NaN            NaN   \n",
       "\n",
       "  referencia_payworks  num_control  cod_autorizacion_banorte fecha_trx_grrcn  \\\n",
       "0                 nan          nan                       nan             NaN   \n",
       "1                 nan          nan                       nan             NaN   \n",
       "2                 nan          nan                       nan             NaN   \n",
       "3                 nan          nan                       nan             NaN   \n",
       "4                 nan          nan                       nan             NaN   \n",
       "\n",
       "   nombre_archivo_amex_grrcn  cod_autorizacion_grrcn fecha_deposito  \\\n",
       "0                        NaN                     nan            NaN   \n",
       "1                        NaN                     nan            NaN   \n",
       "2                        NaN                     nan            NaN   \n",
       "3                        NaN                     nan            NaN   \n",
       "4                        NaN                     nan            NaN   \n",
       "\n",
       "     fecha_transaccion  \n",
       "0  2021-07-30 00:00:00  \n",
       "1  2021-07-30 00:00:00  \n",
       "2  2021-07-30 00:00:00  \n",
       "3  2021-07-30 00:00:00  \n",
       "4  2021-07-30 00:00:00  \n",
       "\n",
       "[5 rows x 35 columns]"
      ]
     },
     "execution_count": 9,
     "metadata": {},
     "output_type": "execute_result"
    }
   ],
   "source": [
    "df_all_files_sim_notempty = df_all_files_sim[(df_all_files_sim['order_id'] != 'Sin order_id simetrik')]\n",
    "df_all_files_sim_notempty.head()"
   ]
  },
  {
   "cell_type": "code",
   "execution_count": 10,
   "metadata": {},
   "outputs": [
    {
     "data": {
      "text/plain": [
       "(347, 35)"
      ]
     },
     "execution_count": 10,
     "metadata": {},
     "output_type": "execute_result"
    }
   ],
   "source": [
    "df_all_files_sim_notempty.shape"
   ]
  },
  {
   "cell_type": "code",
   "execution_count": 11,
   "metadata": {},
   "outputs": [],
   "source": [
    "# df_all_files_sim_notempty.to_excel('DATA QUERY.xlsx',index=False)"
   ]
  },
  {
   "cell_type": "markdown",
   "metadata": {},
   "source": [
    "# DATA QUERY "
   ]
  },
  {
   "cell_type": "code",
   "execution_count": 12,
   "metadata": {},
   "outputs": [],
   "source": [
    "allfiles_query_1 = glob.glob(r'C:\\Users\\Cristian.Aparicio\\Documents\\PROVISIONES\\2021\\04. ABRIL\\DATA QUERIES - POSIBLES DISPUTAS\\POSIBLES*.csv', recursive=True)\n",
    "allfiles_query_2 = glob.glob(r'C:\\Users\\Cristian.Aparicio\\Documents\\PROVISIONES\\2021\\04. ABRIL\\DATA QUERIES - POSIBLES DISPUTAS\\PD -*.csv', recursive=True)"
   ]
  },
  {
   "cell_type": "code",
   "execution_count": 13,
   "metadata": {},
   "outputs": [
    {
     "ename": "ValueError",
     "evalue": "No objects to concatenate",
     "output_type": "error",
     "traceback": [
      "\u001b[1;31m---------------------------------------------------------------------------\u001b[0m",
      "\u001b[1;31mValueError\u001b[0m                                Traceback (most recent call last)",
      "\u001b[1;32m<ipython-input-13-60903a89a118>\u001b[0m in \u001b[0;36m<module>\u001b[1;34m\u001b[0m\n\u001b[1;32m----> 1\u001b[1;33m \u001b[0mdata_query_1\u001b[0m \u001b[1;33m=\u001b[0m \u001b[0mpd\u001b[0m\u001b[1;33m.\u001b[0m\u001b[0mconcat\u001b[0m\u001b[1;33m(\u001b[0m\u001b[1;33m[\u001b[0m\u001b[0mpd\u001b[0m\u001b[1;33m.\u001b[0m\u001b[0mread_csv\u001b[0m\u001b[1;33m(\u001b[0m\u001b[0mf\u001b[0m\u001b[1;33m,\u001b[0m\u001b[0msep\u001b[0m\u001b[1;33m=\u001b[0m\u001b[1;34m','\u001b[0m \u001b[1;33m,\u001b[0m\u001b[0mdtype\u001b[0m\u001b[1;33m=\u001b[0m\u001b[1;33m{\u001b[0m\u001b[1;34m'order_id'\u001b[0m\u001b[1;33m:\u001b[0m\u001b[0mobject\u001b[0m\u001b[1;33m}\u001b[0m\u001b[1;33m)\u001b[0m \u001b[1;32mfor\u001b[0m \u001b[0mf\u001b[0m \u001b[1;32min\u001b[0m \u001b[0mallfiles_query_1\u001b[0m\u001b[1;33m]\u001b[0m\u001b[1;33m)\u001b[0m\u001b[1;33m\u001b[0m\u001b[1;33m\u001b[0m\u001b[0m\n\u001b[0m\u001b[0;32m      2\u001b[0m \u001b[0mdata_query_1\u001b[0m\u001b[1;33m.\u001b[0m\u001b[0mhead\u001b[0m\u001b[1;33m(\u001b[0m\u001b[1;33m)\u001b[0m\u001b[1;33m\u001b[0m\u001b[1;33m\u001b[0m\u001b[0m\n",
      "\u001b[1;32m~\\anaconda3\\lib\\site-packages\\pandas\\core\\reshape\\concat.py\u001b[0m in \u001b[0;36mconcat\u001b[1;34m(objs, axis, join, ignore_index, keys, levels, names, verify_integrity, sort, copy)\u001b[0m\n\u001b[0;32m    279\u001b[0m         \u001b[0mverify_integrity\u001b[0m\u001b[1;33m=\u001b[0m\u001b[0mverify_integrity\u001b[0m\u001b[1;33m,\u001b[0m\u001b[1;33m\u001b[0m\u001b[1;33m\u001b[0m\u001b[0m\n\u001b[0;32m    280\u001b[0m         \u001b[0mcopy\u001b[0m\u001b[1;33m=\u001b[0m\u001b[0mcopy\u001b[0m\u001b[1;33m,\u001b[0m\u001b[1;33m\u001b[0m\u001b[1;33m\u001b[0m\u001b[0m\n\u001b[1;32m--> 281\u001b[1;33m         \u001b[0msort\u001b[0m\u001b[1;33m=\u001b[0m\u001b[0msort\u001b[0m\u001b[1;33m,\u001b[0m\u001b[1;33m\u001b[0m\u001b[1;33m\u001b[0m\u001b[0m\n\u001b[0m\u001b[0;32m    282\u001b[0m     )\n\u001b[0;32m    283\u001b[0m \u001b[1;33m\u001b[0m\u001b[0m\n",
      "\u001b[1;32m~\\anaconda3\\lib\\site-packages\\pandas\\core\\reshape\\concat.py\u001b[0m in \u001b[0;36m__init__\u001b[1;34m(self, objs, axis, join, keys, levels, names, ignore_index, verify_integrity, copy, sort)\u001b[0m\n\u001b[0;32m    327\u001b[0m \u001b[1;33m\u001b[0m\u001b[0m\n\u001b[0;32m    328\u001b[0m         \u001b[1;32mif\u001b[0m \u001b[0mlen\u001b[0m\u001b[1;33m(\u001b[0m\u001b[0mobjs\u001b[0m\u001b[1;33m)\u001b[0m \u001b[1;33m==\u001b[0m \u001b[1;36m0\u001b[0m\u001b[1;33m:\u001b[0m\u001b[1;33m\u001b[0m\u001b[1;33m\u001b[0m\u001b[0m\n\u001b[1;32m--> 329\u001b[1;33m             \u001b[1;32mraise\u001b[0m \u001b[0mValueError\u001b[0m\u001b[1;33m(\u001b[0m\u001b[1;34m\"No objects to concatenate\"\u001b[0m\u001b[1;33m)\u001b[0m\u001b[1;33m\u001b[0m\u001b[1;33m\u001b[0m\u001b[0m\n\u001b[0m\u001b[0;32m    330\u001b[0m \u001b[1;33m\u001b[0m\u001b[0m\n\u001b[0;32m    331\u001b[0m         \u001b[1;32mif\u001b[0m \u001b[0mkeys\u001b[0m \u001b[1;32mis\u001b[0m \u001b[1;32mNone\u001b[0m\u001b[1;33m:\u001b[0m\u001b[1;33m\u001b[0m\u001b[1;33m\u001b[0m\u001b[0m\n",
      "\u001b[1;31mValueError\u001b[0m: No objects to concatenate"
     ]
    }
   ],
   "source": [
    "data_query_1 = pd.concat([pd.read_csv(f,sep=',' ,dtype={'order_id':object}) for f in allfiles_query_1])\n",
    "data_query_1.head()"
   ]
  },
  {
   "cell_type": "code",
   "execution_count": 14,
   "metadata": {},
   "outputs": [
    {
     "ename": "NameError",
     "evalue": "name 'data_query_1' is not defined",
     "output_type": "error",
     "traceback": [
      "\u001b[1;31m---------------------------------------------------------------------------\u001b[0m",
      "\u001b[1;31mNameError\u001b[0m                                 Traceback (most recent call last)",
      "\u001b[1;32m<ipython-input-14-310115c37521>\u001b[0m in \u001b[0;36m<module>\u001b[1;34m\u001b[0m\n\u001b[1;32m----> 1\u001b[1;33m \u001b[0mdata_query_1\u001b[0m\u001b[1;33m.\u001b[0m\u001b[0mshape\u001b[0m\u001b[1;33m\u001b[0m\u001b[1;33m\u001b[0m\u001b[0m\n\u001b[0m",
      "\u001b[1;31mNameError\u001b[0m: name 'data_query_1' is not defined"
     ]
    }
   ],
   "source": [
    "data_query_1.shape"
   ]
  },
  {
   "cell_type": "code",
   "execution_count": 15,
   "metadata": {},
   "outputs": [
    {
     "ename": "ValueError",
     "evalue": "No objects to concatenate",
     "output_type": "error",
     "traceback": [
      "\u001b[1;31m---------------------------------------------------------------------------\u001b[0m",
      "\u001b[1;31mValueError\u001b[0m                                Traceback (most recent call last)",
      "\u001b[1;32m<ipython-input-15-2e2228de7069>\u001b[0m in \u001b[0;36m<module>\u001b[1;34m\u001b[0m\n\u001b[1;32m----> 1\u001b[1;33m \u001b[0mdata_query_2\u001b[0m \u001b[1;33m=\u001b[0m \u001b[0mpd\u001b[0m\u001b[1;33m.\u001b[0m\u001b[0mconcat\u001b[0m\u001b[1;33m(\u001b[0m\u001b[1;33m[\u001b[0m\u001b[0mpd\u001b[0m\u001b[1;33m.\u001b[0m\u001b[0mread_csv\u001b[0m\u001b[1;33m(\u001b[0m\u001b[0mf\u001b[0m\u001b[1;33m,\u001b[0m\u001b[0msep\u001b[0m\u001b[1;33m=\u001b[0m\u001b[1;34m','\u001b[0m \u001b[1;33m,\u001b[0m\u001b[0mdtype\u001b[0m\u001b[1;33m=\u001b[0m\u001b[1;33m{\u001b[0m\u001b[1;34m'order_id'\u001b[0m\u001b[1;33m:\u001b[0m\u001b[0mobject\u001b[0m\u001b[1;33m}\u001b[0m\u001b[1;33m)\u001b[0m \u001b[1;32mfor\u001b[0m \u001b[0mf\u001b[0m \u001b[1;32min\u001b[0m \u001b[0mallfiles_query_2\u001b[0m\u001b[1;33m]\u001b[0m\u001b[1;33m)\u001b[0m\u001b[1;33m\u001b[0m\u001b[1;33m\u001b[0m\u001b[0m\n\u001b[0m\u001b[0;32m      2\u001b[0m \u001b[0mdata_query_2\u001b[0m\u001b[1;33m.\u001b[0m\u001b[0mhead\u001b[0m\u001b[1;33m(\u001b[0m\u001b[1;33m)\u001b[0m\u001b[1;33m\u001b[0m\u001b[1;33m\u001b[0m\u001b[0m\n",
      "\u001b[1;32m~\\anaconda3\\lib\\site-packages\\pandas\\core\\reshape\\concat.py\u001b[0m in \u001b[0;36mconcat\u001b[1;34m(objs, axis, join, ignore_index, keys, levels, names, verify_integrity, sort, copy)\u001b[0m\n\u001b[0;32m    279\u001b[0m         \u001b[0mverify_integrity\u001b[0m\u001b[1;33m=\u001b[0m\u001b[0mverify_integrity\u001b[0m\u001b[1;33m,\u001b[0m\u001b[1;33m\u001b[0m\u001b[1;33m\u001b[0m\u001b[0m\n\u001b[0;32m    280\u001b[0m         \u001b[0mcopy\u001b[0m\u001b[1;33m=\u001b[0m\u001b[0mcopy\u001b[0m\u001b[1;33m,\u001b[0m\u001b[1;33m\u001b[0m\u001b[1;33m\u001b[0m\u001b[0m\n\u001b[1;32m--> 281\u001b[1;33m         \u001b[0msort\u001b[0m\u001b[1;33m=\u001b[0m\u001b[0msort\u001b[0m\u001b[1;33m,\u001b[0m\u001b[1;33m\u001b[0m\u001b[1;33m\u001b[0m\u001b[0m\n\u001b[0m\u001b[0;32m    282\u001b[0m     )\n\u001b[0;32m    283\u001b[0m \u001b[1;33m\u001b[0m\u001b[0m\n",
      "\u001b[1;32m~\\anaconda3\\lib\\site-packages\\pandas\\core\\reshape\\concat.py\u001b[0m in \u001b[0;36m__init__\u001b[1;34m(self, objs, axis, join, keys, levels, names, ignore_index, verify_integrity, copy, sort)\u001b[0m\n\u001b[0;32m    327\u001b[0m \u001b[1;33m\u001b[0m\u001b[0m\n\u001b[0;32m    328\u001b[0m         \u001b[1;32mif\u001b[0m \u001b[0mlen\u001b[0m\u001b[1;33m(\u001b[0m\u001b[0mobjs\u001b[0m\u001b[1;33m)\u001b[0m \u001b[1;33m==\u001b[0m \u001b[1;36m0\u001b[0m\u001b[1;33m:\u001b[0m\u001b[1;33m\u001b[0m\u001b[1;33m\u001b[0m\u001b[0m\n\u001b[1;32m--> 329\u001b[1;33m             \u001b[1;32mraise\u001b[0m \u001b[0mValueError\u001b[0m\u001b[1;33m(\u001b[0m\u001b[1;34m\"No objects to concatenate\"\u001b[0m\u001b[1;33m)\u001b[0m\u001b[1;33m\u001b[0m\u001b[1;33m\u001b[0m\u001b[0m\n\u001b[0m\u001b[0;32m    330\u001b[0m \u001b[1;33m\u001b[0m\u001b[0m\n\u001b[0;32m    331\u001b[0m         \u001b[1;32mif\u001b[0m \u001b[0mkeys\u001b[0m \u001b[1;32mis\u001b[0m \u001b[1;32mNone\u001b[0m\u001b[1;33m:\u001b[0m\u001b[1;33m\u001b[0m\u001b[1;33m\u001b[0m\u001b[0m\n",
      "\u001b[1;31mValueError\u001b[0m: No objects to concatenate"
     ]
    }
   ],
   "source": [
    "data_query_2 = pd.concat([pd.read_csv(f,sep=',' ,dtype={'order_id':object}) for f in allfiles_query_2])\n",
    "data_query_2.head()"
   ]
  },
  {
   "cell_type": "code",
   "execution_count": null,
   "metadata": {},
   "outputs": [],
   "source": [
    "data_query_2.shape"
   ]
  },
  {
   "cell_type": "markdown",
   "metadata": {},
   "source": [
    "### CRUCE ENTRE QUERIES (OBTENCION DEL CLIP READER)"
   ]
  },
  {
   "cell_type": "code",
   "execution_count": null,
   "metadata": {},
   "outputs": [],
   "source": [
    "data_query_final = data_query_2.merge(data_query_1[['order_id','clip_reader']],on='order_id',how='left')\n",
    "data_query_final.head()"
   ]
  },
  {
   "cell_type": "code",
   "execution_count": null,
   "metadata": {},
   "outputs": [],
   "source": [
    "data_query_final.shape"
   ]
  },
  {
   "cell_type": "markdown",
   "metadata": {},
   "source": [
    "# CRUCE"
   ]
  },
  {
   "cell_type": "code",
   "execution_count": null,
   "metadata": {},
   "outputs": [],
   "source": [
    "cruce_1 = df_all_files_sim.merge(data_query_final[['order_id','transaction_id','report_id','report_date_local','transaction_date_local'\n",
    "                                       ,'transaction_amount','status_disbursement','status_msg','clip_reader']],on='order_id',how='left')\n",
    "cruce_1['report_id'].fillna('Not found',inplace=True)\n",
    "cruce_1['report_date_local'].fillna('Not found',inplace=True)\n",
    "cruce_1['transaction_date_local'].fillna('Not found',inplace=True)\n",
    "cruce_1['clip_reader'].fillna('Not found',inplace=True)\n",
    "cruce_1['transaction_amount'].fillna(0,inplace=True)\n",
    "cruce_1.head()"
   ]
  },
  {
   "cell_type": "code",
   "execution_count": null,
   "metadata": {},
   "outputs": [],
   "source": [
    "cruce_1.shape"
   ]
  },
  {
   "cell_type": "code",
   "execution_count": null,
   "metadata": {},
   "outputs": [],
   "source": [
    "cruce_1_amex = cruce_1[cruce_1['file_name_tableros'].str.contains('AMEX')]\n",
    "cruce_1_grrcn = cruce_1[cruce_1['file_name_tableros'].str.contains('GRRCN')]\n",
    "cruce_1_bnte = cruce_1[cruce_1['file_name_tableros'].str.contains('BNTE')]\n",
    "cruce_1_ecom = cruce_1[cruce_1['file_name_tableros'].str.contains('ECOM')]"
   ]
  },
  {
   "cell_type": "markdown",
   "metadata": {},
   "source": [
    "### PIVOT FECHA DE DEPOSITO"
   ]
  },
  {
   "cell_type": "code",
   "execution_count": null,
   "metadata": {},
   "outputs": [],
   "source": [
    "pivot_fecha_deposito = pd.pivot_table(cruce_1,index=['file_name_tableros','fecha_trx_clip']\n",
    "                                              ,columns=['fecha_deposito_clip'],values=['monto']\n",
    "                                              ,aggfunc=np.sum,margins=True).reset_index(1)\n",
    "pivot_fecha_deposito.fillna(0,inplace=True)\n",
    "pivot_fecha_deposito.head()"
   ]
  },
  {
   "cell_type": "code",
   "execution_count": null,
   "metadata": {},
   "outputs": [],
   "source": [
    "pivot_fecha_deposito.shape"
   ]
  },
  {
   "cell_type": "markdown",
   "metadata": {},
   "source": [
    "### PIVOT REPORT_DATE_LOCAL"
   ]
  },
  {
   "cell_type": "code",
   "execution_count": null,
   "metadata": {},
   "outputs": [],
   "source": [
    "pivot_report_date_local = pd.pivot_table(cruce_1,index=['file_name_tableros','fecha_trx_clip']\n",
    "                                              ,columns=['report_date_local'],values=['monto']\n",
    "                                              ,aggfunc=np.sum,margins=True).reset_index(1)\n",
    "pivot_report_date_local.fillna(0,inplace=True)\n",
    "pivot_report_date_local.head()"
   ]
  },
  {
   "cell_type": "code",
   "execution_count": null,
   "metadata": {},
   "outputs": [],
   "source": [
    "pivot_report_date_local.shape"
   ]
  },
  {
   "cell_type": "markdown",
   "metadata": {},
   "source": [
    "### PIVOT COMPLETA"
   ]
  },
  {
   "cell_type": "code",
   "execution_count": null,
   "metadata": {},
   "outputs": [],
   "source": [
    "pivot_full = pd.pivot_table(cruce_1,index=['file_name_tableros','fecha_trx_clip']\n",
    "                                              ,columns=['fecha_deposito_clip','report_date_local'],values=['monto']\n",
    "                                              ,aggfunc=np.sum,margins=True).reset_index(1)\n",
    "pivot_full.fillna(0,inplace=True)\n",
    "pivot_full.head()"
   ]
  },
  {
   "cell_type": "code",
   "execution_count": null,
   "metadata": {},
   "outputs": [],
   "source": [
    "pivot_full.shape"
   ]
  },
  {
   "cell_type": "code",
   "execution_count": null,
   "metadata": {},
   "outputs": [],
   "source": [
    "writer = pd.ExcelWriter('POSIBLES DISPUTAS JULIO 2021.xlsx', engine='openpyxl', options={'encoding':'utf-8'})\n",
    "pivot_fecha_deposito.to_excel(writer, sheet_name='RESUMEN FECHA DEPOSITO')\n",
    "pivot_report_date_local.to_excel(writer, sheet_name='RESUMEN REPORT DATE LOCAL')\n",
    "pivot_full.to_excel(writer, sheet_name='RESUMEN PROVISION')\n",
    "cruce_1_amex.to_excel(writer, sheet_name='AMEX', index=False)\n",
    "cruce_1_grrcn.to_excel(writer, sheet_name='GRRCN', index=False)\n",
    "cruce_1_bnte.to_excel(writer, sheet_name='BNTE', index=False)\n",
    "cruce_1_ecom.to_excel(writer, sheet_name='E-COMMERCE', index=False)\n",
    "writer.save()\n",
    "writer.close()"
   ]
  },
  {
   "cell_type": "code",
   "execution_count": null,
   "metadata": {},
   "outputs": [],
   "source": []
  }
 ],
 "metadata": {
  "kernelspec": {
   "display_name": "Python 3",
   "language": "python",
   "name": "python3"
  },
  "language_info": {
   "codemirror_mode": {
    "name": "ipython",
    "version": 3
   },
   "file_extension": ".py",
   "mimetype": "text/x-python",
   "name": "python",
   "nbconvert_exporter": "python",
   "pygments_lexer": "ipython3",
   "version": "3.7.6"
  }
 },
 "nbformat": 4,
 "nbformat_minor": 2
}
