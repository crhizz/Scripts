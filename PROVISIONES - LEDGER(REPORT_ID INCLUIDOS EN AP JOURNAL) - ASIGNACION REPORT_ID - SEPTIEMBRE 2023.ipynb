{
 "cells": [
  {
   "cell_type": "code",
   "execution_count": 1,
   "id": "21c1c747",
   "metadata": {},
   "outputs": [],
   "source": [
    "import pandas as pd\n",
    "import numpy as np\n",
    "import glob\n",
    "import os\n",
    "from openpyxl import load_workbook\n",
    "pd.options.display.float_format = '{:,.2f}'.format"
   ]
  },
  {
   "cell_type": "markdown",
   "id": "9df44613",
   "metadata": {},
   "source": [
    "# RUTAS"
   ]
  },
  {
   "cell_type": "markdown",
   "id": "cef36c0e",
   "metadata": {},
   "source": [
    "### SETTLEMENT MASTER LOG"
   ]
  },
  {
   "cell_type": "code",
   "execution_count": 2,
   "id": "38321533",
   "metadata": {},
   "outputs": [
    {
     "data": {
      "text/plain": [
       "['G:\\\\My Drive\\\\RESPALDO-PC\\\\DYNAMO\\\\2023\\\\09. SEPTIEMBRE\\\\Z. PROVISION\\\\PROVISIONES - SETTLEMENT_MASTER_LOG_DATE SEPTIEMBRE 2023.tsv']"
      ]
     },
     "execution_count": 2,
     "metadata": {},
     "output_type": "execute_result"
    }
   ],
   "source": [
    "sml_files = glob.glob(r'G:\\My Drive\\RESPALDO-PC\\DYNAMO\\2023\\09. SEPTIEMBRE\\Z. PROVISION\\PROVISIONES - SET*.tsv', recursive=False)\n",
    "sml_files"
   ]
  },
  {
   "cell_type": "code",
   "execution_count": 3,
   "id": "7ac8262d",
   "metadata": {},
   "outputs": [],
   "source": [
    "use_cols_sml = ['MVNT_ID','PSP_AMOUNT','GROSS_AMOUNT','FEES','TAXES','NET_AMOUNT','MDR','MSI','NUMBER_MSI','RECEIPT_NO',\n",
    "                'STATUS_CODE']"
   ]
  },
  {
   "cell_type": "markdown",
   "id": "baf7556d",
   "metadata": {},
   "source": [
    "### AP JOURNAL"
   ]
  },
  {
   "cell_type": "code",
   "execution_count": 4,
   "id": "55a8252c",
   "metadata": {},
   "outputs": [
    {
     "data": {
      "text/plain": [
       "['G:\\\\My Drive\\\\RESPALDO-PC\\\\DYNAMO\\\\2023\\\\09. SEPTIEMBRE\\\\Z. PROVISION\\\\PROVISIONES - LEDGER SEPTIEMBRE 2023.tsv']"
      ]
     },
     "execution_count": 4,
     "metadata": {},
     "output_type": "execute_result"
    }
   ],
   "source": [
    "ap_provision_files = glob.glob(r'G:\\My Drive\\RESPALDO-PC\\DYNAMO\\2023\\09. SEPTIEMBRE\\Z. PROVISION\\PROVISIONES - LED*.tsv', recursive=False)\n",
    "ap_provision_files"
   ]
  },
  {
   "cell_type": "code",
   "execution_count": 5,
   "id": "2d3e37fd",
   "metadata": {},
   "outputs": [],
   "source": [
    "use_cols_approv = ['MERCHANT_ID','MVNT_ID','TYPE_REQUEST','MOVEMENT_TYPE','SOURCE_TYPE','CREATED_AT','EFF_DT','REPORT_DATE_LOCAL',\n",
    "                  'PAYMENT_DATE_LOCAL','STATUS']"
   ]
  },
  {
   "cell_type": "markdown",
   "id": "bf9da3cf",
   "metadata": {},
   "source": [
    "# DATA SETTLEMENT MASTER LOG"
   ]
  },
  {
   "cell_type": "code",
   "execution_count": 6,
   "id": "27c65ab3",
   "metadata": {},
   "outputs": [
    {
     "data": {
      "text/html": [
       "<div>\n",
       "<style scoped>\n",
       "    .dataframe tbody tr th:only-of-type {\n",
       "        vertical-align: middle;\n",
       "    }\n",
       "\n",
       "    .dataframe tbody tr th {\n",
       "        vertical-align: top;\n",
       "    }\n",
       "\n",
       "    .dataframe thead th {\n",
       "        text-align: right;\n",
       "    }\n",
       "</style>\n",
       "<table border=\"1\" class=\"dataframe\">\n",
       "  <thead>\n",
       "    <tr style=\"text-align: right;\">\n",
       "      <th></th>\n",
       "      <th>mvnt_id</th>\n",
       "      <th>psp_amount</th>\n",
       "      <th>gross_amount</th>\n",
       "      <th>fees</th>\n",
       "      <th>taxes</th>\n",
       "      <th>net_amount</th>\n",
       "      <th>mdr</th>\n",
       "      <th>msi</th>\n",
       "      <th>number_msi</th>\n",
       "      <th>status_code</th>\n",
       "      <th>receipt_no</th>\n",
       "      <th>file_name</th>\n",
       "    </tr>\n",
       "  </thead>\n",
       "  <tbody>\n",
       "    <tr>\n",
       "      <th>0</th>\n",
       "      <td>a85f5145-8e6e-4926-8541-cc6dcfb94f13</td>\n",
       "      <td>286.00</td>\n",
       "      <td>286.00</td>\n",
       "      <td>10.30</td>\n",
       "      <td>1.65</td>\n",
       "      <td>274.05</td>\n",
       "      <td>0.04</td>\n",
       "      <td>0.00</td>\n",
       "      <td>0.00</td>\n",
       "      <td>1</td>\n",
       "      <td>ggRTM9n</td>\n",
       "      <td>PROVISIONES - SETTLEMENT_MASTER_LOG_DATE SEPTI...</td>\n",
       "    </tr>\n",
       "    <tr>\n",
       "      <th>1</th>\n",
       "      <td>3319f31c-83ec-4770-967d-b797626ea520</td>\n",
       "      <td>264.00</td>\n",
       "      <td>264.00</td>\n",
       "      <td>9.50</td>\n",
       "      <td>1.52</td>\n",
       "      <td>252.98</td>\n",
       "      <td>0.04</td>\n",
       "      <td>0.00</td>\n",
       "      <td>0.00</td>\n",
       "      <td>1</td>\n",
       "      <td>uUA5dTz</td>\n",
       "      <td>PROVISIONES - SETTLEMENT_MASTER_LOG_DATE SEPTI...</td>\n",
       "    </tr>\n",
       "    <tr>\n",
       "      <th>2</th>\n",
       "      <td>d10b7b1e-96dc-44d9-badd-a76c8fe40025</td>\n",
       "      <td>253.00</td>\n",
       "      <td>253.00</td>\n",
       "      <td>9.11</td>\n",
       "      <td>1.46</td>\n",
       "      <td>242.43</td>\n",
       "      <td>0.04</td>\n",
       "      <td>0.00</td>\n",
       "      <td>0.00</td>\n",
       "      <td>1</td>\n",
       "      <td>H5wCk3c</td>\n",
       "      <td>PROVISIONES - SETTLEMENT_MASTER_LOG_DATE SEPTI...</td>\n",
       "    </tr>\n",
       "    <tr>\n",
       "      <th>3</th>\n",
       "      <td>946ca70e-9526-454a-ab8c-ad338c9ebb4c</td>\n",
       "      <td>362.25</td>\n",
       "      <td>362.25</td>\n",
       "      <td>13.04</td>\n",
       "      <td>2.09</td>\n",
       "      <td>347.12</td>\n",
       "      <td>0.04</td>\n",
       "      <td>0.00</td>\n",
       "      <td>0.00</td>\n",
       "      <td>1</td>\n",
       "      <td>gvtOJT4</td>\n",
       "      <td>PROVISIONES - SETTLEMENT_MASTER_LOG_DATE SEPTI...</td>\n",
       "    </tr>\n",
       "    <tr>\n",
       "      <th>4</th>\n",
       "      <td>ac818541-9601-4f8d-b0fe-8fe593b85dd4</td>\n",
       "      <td>1,093.00</td>\n",
       "      <td>1,093.00</td>\n",
       "      <td>39.35</td>\n",
       "      <td>6.30</td>\n",
       "      <td>1,047.35</td>\n",
       "      <td>0.04</td>\n",
       "      <td>0.00</td>\n",
       "      <td>0.00</td>\n",
       "      <td>1</td>\n",
       "      <td>lWuforA</td>\n",
       "      <td>PROVISIONES - SETTLEMENT_MASTER_LOG_DATE SEPTI...</td>\n",
       "    </tr>\n",
       "  </tbody>\n",
       "</table>\n",
       "</div>"
      ],
      "text/plain": [
       "                                mvnt_id  psp_amount  gross_amount  fees  \\\n",
       "0  a85f5145-8e6e-4926-8541-cc6dcfb94f13      286.00        286.00 10.30   \n",
       "1  3319f31c-83ec-4770-967d-b797626ea520      264.00        264.00  9.50   \n",
       "2  d10b7b1e-96dc-44d9-badd-a76c8fe40025      253.00        253.00  9.11   \n",
       "3  946ca70e-9526-454a-ab8c-ad338c9ebb4c      362.25        362.25 13.04   \n",
       "4  ac818541-9601-4f8d-b0fe-8fe593b85dd4    1,093.00      1,093.00 39.35   \n",
       "\n",
       "   taxes  net_amount  mdr  msi  number_msi  status_code receipt_no  \\\n",
       "0   1.65      274.05 0.04 0.00        0.00            1    ggRTM9n   \n",
       "1   1.52      252.98 0.04 0.00        0.00            1    uUA5dTz   \n",
       "2   1.46      242.43 0.04 0.00        0.00            1    H5wCk3c   \n",
       "3   2.09      347.12 0.04 0.00        0.00            1    gvtOJT4   \n",
       "4   6.30    1,047.35 0.04 0.00        0.00            1    lWuforA   \n",
       "\n",
       "                                           file_name  \n",
       "0  PROVISIONES - SETTLEMENT_MASTER_LOG_DATE SEPTI...  \n",
       "1  PROVISIONES - SETTLEMENT_MASTER_LOG_DATE SEPTI...  \n",
       "2  PROVISIONES - SETTLEMENT_MASTER_LOG_DATE SEPTI...  \n",
       "3  PROVISIONES - SETTLEMENT_MASTER_LOG_DATE SEPTI...  \n",
       "4  PROVISIONES - SETTLEMENT_MASTER_LOG_DATE SEPTI...  "
      ]
     },
     "execution_count": 6,
     "metadata": {},
     "output_type": "execute_result"
    }
   ],
   "source": [
    "sml = pd.concat([pd.read_csv(f,sep='\\t',usecols=use_cols_sml).assign(file_name=os.path.basename(f)) for f in sml_files])\n",
    "sml.columns = sml.columns.str.strip().str.lower()\n",
    "sml.replace('\"\"','', regex=True, inplace=True)\n",
    "# sml['created_at'] = pd.to_datetime(sml['created_at']).dt.tz_localize(None)\n",
    "# sml['created_at_date'] =  pd.to_datetime(sml['created_at']).dt.date\n",
    "# sml['created_at_date'] =  pd.to_datetime(sml['created_at_date'])\n",
    "# sml['eff_dt'] = pd.to_datetime(sml['eff_dt']).dt.tz_localize(None)\n",
    "# sml['eff_dt_date'] =  pd.to_datetime(sml['eff_dt']).dt.date\n",
    "# sml['eff_dt_date'] =  pd.to_datetime(sml['eff_dt_date'])\n",
    "# sml.rename(columns={'ref_id':'transaction_id'},inplace=True)\n",
    "#sml['PK'] = sml['PK'].replace('M#','',inplace=True)\n",
    "sml.head()"
   ]
  },
  {
   "cell_type": "code",
   "execution_count": 7,
   "id": "bb5c429d",
   "metadata": {},
   "outputs": [
    {
     "data": {
      "text/plain": [
       "(7698867, 12)"
      ]
     },
     "execution_count": 7,
     "metadata": {},
     "output_type": "execute_result"
    }
   ],
   "source": [
    "sml.shape"
   ]
  },
  {
   "cell_type": "code",
   "execution_count": 8,
   "id": "aae153e9",
   "metadata": {},
   "outputs": [
    {
     "data": {
      "text/plain": [
       "mvnt_id          object\n",
       "psp_amount      float64\n",
       "gross_amount    float64\n",
       "fees            float64\n",
       "taxes           float64\n",
       "net_amount      float64\n",
       "mdr             float64\n",
       "msi             float64\n",
       "number_msi      float64\n",
       "status_code       int64\n",
       "receipt_no       object\n",
       "file_name        object\n",
       "dtype: object"
      ]
     },
     "execution_count": 8,
     "metadata": {},
     "output_type": "execute_result"
    }
   ],
   "source": [
    "sml.dtypes"
   ]
  },
  {
   "cell_type": "code",
   "execution_count": 9,
   "id": "0aee293f",
   "metadata": {},
   "outputs": [
    {
     "data": {
      "text/html": [
       "<div>\n",
       "<style scoped>\n",
       "    .dataframe tbody tr th:only-of-type {\n",
       "        vertical-align: middle;\n",
       "    }\n",
       "\n",
       "    .dataframe tbody tr th {\n",
       "        vertical-align: top;\n",
       "    }\n",
       "\n",
       "    .dataframe thead th {\n",
       "        text-align: right;\n",
       "    }\n",
       "</style>\n",
       "<table border=\"1\" class=\"dataframe\">\n",
       "  <thead>\n",
       "    <tr style=\"text-align: right;\">\n",
       "      <th></th>\n",
       "      <th>mvnt_id</th>\n",
       "      <th>psp_amount</th>\n",
       "      <th>gross_amount</th>\n",
       "      <th>fees</th>\n",
       "      <th>taxes</th>\n",
       "      <th>net_amount</th>\n",
       "      <th>mdr</th>\n",
       "      <th>msi</th>\n",
       "      <th>number_msi</th>\n",
       "      <th>status_code</th>\n",
       "      <th>receipt_no</th>\n",
       "      <th>file_name</th>\n",
       "    </tr>\n",
       "  </thead>\n",
       "  <tbody>\n",
       "    <tr>\n",
       "      <th>0</th>\n",
       "      <td>a85f5145-8e6e-4926-8541-cc6dcfb94f13</td>\n",
       "      <td>286.00</td>\n",
       "      <td>286.00</td>\n",
       "      <td>10.30</td>\n",
       "      <td>1.65</td>\n",
       "      <td>274.05</td>\n",
       "      <td>0.04</td>\n",
       "      <td>0.00</td>\n",
       "      <td>0.00</td>\n",
       "      <td>1</td>\n",
       "      <td>ggRTM9n</td>\n",
       "      <td>PROVISIONES - SETTLEMENT_MASTER_LOG_DATE SEPTI...</td>\n",
       "    </tr>\n",
       "    <tr>\n",
       "      <th>1</th>\n",
       "      <td>3319f31c-83ec-4770-967d-b797626ea520</td>\n",
       "      <td>264.00</td>\n",
       "      <td>264.00</td>\n",
       "      <td>9.50</td>\n",
       "      <td>1.52</td>\n",
       "      <td>252.98</td>\n",
       "      <td>0.04</td>\n",
       "      <td>0.00</td>\n",
       "      <td>0.00</td>\n",
       "      <td>1</td>\n",
       "      <td>uUA5dTz</td>\n",
       "      <td>PROVISIONES - SETTLEMENT_MASTER_LOG_DATE SEPTI...</td>\n",
       "    </tr>\n",
       "    <tr>\n",
       "      <th>2</th>\n",
       "      <td>d10b7b1e-96dc-44d9-badd-a76c8fe40025</td>\n",
       "      <td>253.00</td>\n",
       "      <td>253.00</td>\n",
       "      <td>9.11</td>\n",
       "      <td>1.46</td>\n",
       "      <td>242.43</td>\n",
       "      <td>0.04</td>\n",
       "      <td>0.00</td>\n",
       "      <td>0.00</td>\n",
       "      <td>1</td>\n",
       "      <td>H5wCk3c</td>\n",
       "      <td>PROVISIONES - SETTLEMENT_MASTER_LOG_DATE SEPTI...</td>\n",
       "    </tr>\n",
       "    <tr>\n",
       "      <th>3</th>\n",
       "      <td>946ca70e-9526-454a-ab8c-ad338c9ebb4c</td>\n",
       "      <td>362.25</td>\n",
       "      <td>362.25</td>\n",
       "      <td>13.04</td>\n",
       "      <td>2.09</td>\n",
       "      <td>347.12</td>\n",
       "      <td>0.04</td>\n",
       "      <td>0.00</td>\n",
       "      <td>0.00</td>\n",
       "      <td>1</td>\n",
       "      <td>gvtOJT4</td>\n",
       "      <td>PROVISIONES - SETTLEMENT_MASTER_LOG_DATE SEPTI...</td>\n",
       "    </tr>\n",
       "    <tr>\n",
       "      <th>4</th>\n",
       "      <td>ac818541-9601-4f8d-b0fe-8fe593b85dd4</td>\n",
       "      <td>1,093.00</td>\n",
       "      <td>1,093.00</td>\n",
       "      <td>39.35</td>\n",
       "      <td>6.30</td>\n",
       "      <td>1,047.35</td>\n",
       "      <td>0.04</td>\n",
       "      <td>0.00</td>\n",
       "      <td>0.00</td>\n",
       "      <td>1</td>\n",
       "      <td>lWuforA</td>\n",
       "      <td>PROVISIONES - SETTLEMENT_MASTER_LOG_DATE SEPTI...</td>\n",
       "    </tr>\n",
       "  </tbody>\n",
       "</table>\n",
       "</div>"
      ],
      "text/plain": [
       "                                mvnt_id  psp_amount  gross_amount  fees  \\\n",
       "0  a85f5145-8e6e-4926-8541-cc6dcfb94f13      286.00        286.00 10.30   \n",
       "1  3319f31c-83ec-4770-967d-b797626ea520      264.00        264.00  9.50   \n",
       "2  d10b7b1e-96dc-44d9-badd-a76c8fe40025      253.00        253.00  9.11   \n",
       "3  946ca70e-9526-454a-ab8c-ad338c9ebb4c      362.25        362.25 13.04   \n",
       "4  ac818541-9601-4f8d-b0fe-8fe593b85dd4    1,093.00      1,093.00 39.35   \n",
       "\n",
       "   taxes  net_amount  mdr  msi  number_msi  status_code receipt_no  \\\n",
       "0   1.65      274.05 0.04 0.00        0.00            1    ggRTM9n   \n",
       "1   1.52      252.98 0.04 0.00        0.00            1    uUA5dTz   \n",
       "2   1.46      242.43 0.04 0.00        0.00            1    H5wCk3c   \n",
       "3   2.09      347.12 0.04 0.00        0.00            1    gvtOJT4   \n",
       "4   6.30    1,047.35 0.04 0.00        0.00            1    lWuforA   \n",
       "\n",
       "                                           file_name  \n",
       "0  PROVISIONES - SETTLEMENT_MASTER_LOG_DATE SEPTI...  \n",
       "1  PROVISIONES - SETTLEMENT_MASTER_LOG_DATE SEPTI...  \n",
       "2  PROVISIONES - SETTLEMENT_MASTER_LOG_DATE SEPTI...  \n",
       "3  PROVISIONES - SETTLEMENT_MASTER_LOG_DATE SEPTI...  \n",
       "4  PROVISIONES - SETTLEMENT_MASTER_LOG_DATE SEPTI...  "
      ]
     },
     "execution_count": 9,
     "metadata": {},
     "output_type": "execute_result"
    }
   ],
   "source": [
    "sml_final = sml\n",
    "sml_final.head()"
   ]
  },
  {
   "cell_type": "code",
   "execution_count": 10,
   "id": "f0afff80",
   "metadata": {},
   "outputs": [
    {
     "data": {
      "text/plain": [
       "(7698867, 12)"
      ]
     },
     "execution_count": 10,
     "metadata": {},
     "output_type": "execute_result"
    }
   ],
   "source": [
    "sml_final.shape"
   ]
  },
  {
   "cell_type": "markdown",
   "id": "05244115",
   "metadata": {},
   "source": [
    "# DATA AP JOURNAL"
   ]
  },
  {
   "cell_type": "code",
   "execution_count": 11,
   "id": "2ab36c04",
   "metadata": {},
   "outputs": [],
   "source": [
    "ap = pd.concat([pd.read_csv(f, sep='\\t',usecols=use_cols_approv).assign(file_name=os.path.basename(f)) for f in ap_provision_files])\n",
    "ap.columns = ap.columns.str.strip().str.lower()\n",
    "ap.replace('\"\"','', regex=True, inplace=True)\n",
    "ap['eff_dt'] =  pd.to_datetime(ap['eff_dt']).dt.tz_localize(None)\n",
    "ap['eff_dt_date'] =  pd.to_datetime(ap['eff_dt']).dt.date\n",
    "ap['eff_dt_date'] =  pd.to_datetime(ap['eff_dt_date'])\n",
    "ap['eff_dt_time'] =  pd.to_datetime(ap['eff_dt']).dt.time\n",
    "# ap['movement_day'] = pd.to_datetime(ap['movement_day']).dt.tz_localize(None)\n",
    "ap['created_at'] = pd.to_datetime(ap['created_at']).dt.tz_localize(None)\n",
    "ap['created_at_date'] =  pd.to_datetime(ap['created_at']).dt.date\n",
    "ap['created_at_date'] =  pd.to_datetime(ap['created_at_date'])\n",
    "ap['payment_date_local'] = pd.to_datetime(ap['payment_date_local']).dt.tz_localize(None)\n",
    "ap['payment_date_local'] =  pd.to_datetime(ap['payment_date_local']).dt.date\n",
    "ap['payment_date_local'] =  pd.to_datetime(ap['payment_date_local'])\n",
    "# ap['request_effective_date'] = pd.to_datetime(ap['request_effective_date']).dt.tz_localize(None)\n",
    "# ap['slot_date'] = pd.to_datetime(ap['slot_date']).dt.tz_localize(None)\n",
    "# ap['identifier'] = ap['source_type'].str[:1].astype(str)\n",
    "# ap['INDEX'] = (ap['eff_dt_date'].astype(str).replace(' ', '',regex=True)+'-'+\n",
    "#                ap['identifier'].astype(str).replace(' ', '',regex=True)+'-'+\n",
    "#                ap['eff_dt_time'].astype(str).replace(' ', '',regex=True))\n",
    "ap.sort_values(by=(['merchant_id','eff_dt']), ascending=[True,False], inplace=True)"
   ]
  },
  {
   "cell_type": "code",
   "execution_count": 12,
   "id": "f999693d",
   "metadata": {},
   "outputs": [],
   "source": [
    "ap.reset_index(inplace=True)"
   ]
  },
  {
   "cell_type": "code",
   "execution_count": 13,
   "id": "8319eeeb",
   "metadata": {},
   "outputs": [
    {
     "data": {
      "text/html": [
       "<div>\n",
       "<style scoped>\n",
       "    .dataframe tbody tr th:only-of-type {\n",
       "        vertical-align: middle;\n",
       "    }\n",
       "\n",
       "    .dataframe tbody tr th {\n",
       "        vertical-align: top;\n",
       "    }\n",
       "\n",
       "    .dataframe thead th {\n",
       "        text-align: right;\n",
       "    }\n",
       "</style>\n",
       "<table border=\"1\" class=\"dataframe\">\n",
       "  <thead>\n",
       "    <tr style=\"text-align: right;\">\n",
       "      <th></th>\n",
       "      <th>index</th>\n",
       "      <th>merchant_id</th>\n",
       "      <th>type_request</th>\n",
       "      <th>mvnt_id</th>\n",
       "      <th>movement_type</th>\n",
       "      <th>source_type</th>\n",
       "      <th>created_at</th>\n",
       "      <th>eff_dt</th>\n",
       "      <th>report_date_local</th>\n",
       "      <th>payment_date_local</th>\n",
       "      <th>status</th>\n",
       "      <th>file_name</th>\n",
       "      <th>eff_dt_date</th>\n",
       "      <th>eff_dt_time</th>\n",
       "      <th>created_at_date</th>\n",
       "      <th>report_id</th>\n",
       "      <th>report_date_local_final</th>\n",
       "      <th>payment_date_local_final</th>\n",
       "      <th>status_final</th>\n",
       "    </tr>\n",
       "  </thead>\n",
       "  <tbody>\n",
       "    <tr>\n",
       "      <th>0</th>\n",
       "      <td>8569503</td>\n",
       "      <td>00004998-66f3-4c36-9096-4f64f971d19b</td>\n",
       "      <td>A3RGGLWQL</td>\n",
       "      <td>75cecc66-88bf-3ab0-bdd1-97029cb5e962</td>\n",
       "      <td>DISB_RQ</td>\n",
       "      <td>DISB</td>\n",
       "      <td>2023-10-02 07:24:59</td>\n",
       "      <td>2023-10-02 07:25:04</td>\n",
       "      <td>2023-10-02</td>\n",
       "      <td>2023-10-02</td>\n",
       "      <td>PAID</td>\n",
       "      <td>PROVISIONES - LEDGER SEPTIEMBRE 2023.tsv</td>\n",
       "      <td>2023-10-02</td>\n",
       "      <td>07:25:04</td>\n",
       "      <td>2023-10-02</td>\n",
       "      <td>A3RGGLWQL</td>\n",
       "      <td>2023-10-02</td>\n",
       "      <td>2023-10-02</td>\n",
       "      <td>PAID</td>\n",
       "    </tr>\n",
       "    <tr>\n",
       "      <th>1</th>\n",
       "      <td>683013</td>\n",
       "      <td>00004998-66f3-4c36-9096-4f64f971d19b</td>\n",
       "      <td>settlement processor regular payment request</td>\n",
       "      <td>761b9e69-6843-4c11-9642-e93511ca0e08</td>\n",
       "      <td>REGULAR_PYMT_RQ</td>\n",
       "      <td>SETT</td>\n",
       "      <td>2023-10-01 18:12:40</td>\n",
       "      <td>2023-10-02 05:00:00</td>\n",
       "      <td>NaN</td>\n",
       "      <td>NaT</td>\n",
       "      <td>NaN</td>\n",
       "      <td>PROVISIONES - LEDGER SEPTIEMBRE 2023.tsv</td>\n",
       "      <td>2023-10-02</td>\n",
       "      <td>05:00:00</td>\n",
       "      <td>2023-10-01</td>\n",
       "      <td>A3RGGLWQL</td>\n",
       "      <td>2023-10-02</td>\n",
       "      <td>2023-10-02</td>\n",
       "      <td>PAID</td>\n",
       "    </tr>\n",
       "    <tr>\n",
       "      <th>2</th>\n",
       "      <td>683014</td>\n",
       "      <td>00004998-66f3-4c36-9096-4f64f971d19b</td>\n",
       "      <td>settlement processor regular payment request</td>\n",
       "      <td>aaf37e01-4fcf-4b96-a259-713cf27b15a3</td>\n",
       "      <td>REGULAR_PYMT_RQ</td>\n",
       "      <td>SETT</td>\n",
       "      <td>2023-10-01 18:55:17</td>\n",
       "      <td>2023-10-02 05:00:00</td>\n",
       "      <td>NaN</td>\n",
       "      <td>NaT</td>\n",
       "      <td>NaN</td>\n",
       "      <td>PROVISIONES - LEDGER SEPTIEMBRE 2023.tsv</td>\n",
       "      <td>2023-10-02</td>\n",
       "      <td>05:00:00</td>\n",
       "      <td>2023-10-01</td>\n",
       "      <td>A3RGGLWQL</td>\n",
       "      <td>2023-10-02</td>\n",
       "      <td>2023-10-02</td>\n",
       "      <td>PAID</td>\n",
       "    </tr>\n",
       "    <tr>\n",
       "      <th>3</th>\n",
       "      <td>683015</td>\n",
       "      <td>00004998-66f3-4c36-9096-4f64f971d19b</td>\n",
       "      <td>settlement processor regular payment request</td>\n",
       "      <td>53414338-2ddd-4b3f-887e-d2b79cf79ae1</td>\n",
       "      <td>REGULAR_PYMT_RQ</td>\n",
       "      <td>SETT</td>\n",
       "      <td>2023-10-01 19:27:09</td>\n",
       "      <td>2023-10-02 05:00:00</td>\n",
       "      <td>NaN</td>\n",
       "      <td>NaT</td>\n",
       "      <td>NaN</td>\n",
       "      <td>PROVISIONES - LEDGER SEPTIEMBRE 2023.tsv</td>\n",
       "      <td>2023-10-02</td>\n",
       "      <td>05:00:00</td>\n",
       "      <td>2023-10-01</td>\n",
       "      <td>A3RGGLWQL</td>\n",
       "      <td>2023-10-02</td>\n",
       "      <td>2023-10-02</td>\n",
       "      <td>PAID</td>\n",
       "    </tr>\n",
       "    <tr>\n",
       "      <th>4</th>\n",
       "      <td>683011</td>\n",
       "      <td>00004998-66f3-4c36-9096-4f64f971d19b</td>\n",
       "      <td>settlement processor regular payment request</td>\n",
       "      <td>e5c3a677-88f1-46e7-bf69-653dcb366090</td>\n",
       "      <td>REGULAR_PYMT_RQ</td>\n",
       "      <td>SETT</td>\n",
       "      <td>2023-10-01 17:24:52</td>\n",
       "      <td>2023-10-02 04:30:00</td>\n",
       "      <td>NaN</td>\n",
       "      <td>NaT</td>\n",
       "      <td>NaN</td>\n",
       "      <td>PROVISIONES - LEDGER SEPTIEMBRE 2023.tsv</td>\n",
       "      <td>2023-10-02</td>\n",
       "      <td>04:30:00</td>\n",
       "      <td>2023-10-01</td>\n",
       "      <td>A3RGGLWQL</td>\n",
       "      <td>2023-10-02</td>\n",
       "      <td>2023-10-02</td>\n",
       "      <td>PAID</td>\n",
       "    </tr>\n",
       "  </tbody>\n",
       "</table>\n",
       "</div>"
      ],
      "text/plain": [
       "     index                           merchant_id  \\\n",
       "0  8569503  00004998-66f3-4c36-9096-4f64f971d19b   \n",
       "1   683013  00004998-66f3-4c36-9096-4f64f971d19b   \n",
       "2   683014  00004998-66f3-4c36-9096-4f64f971d19b   \n",
       "3   683015  00004998-66f3-4c36-9096-4f64f971d19b   \n",
       "4   683011  00004998-66f3-4c36-9096-4f64f971d19b   \n",
       "\n",
       "                                   type_request  \\\n",
       "0                                     A3RGGLWQL   \n",
       "1  settlement processor regular payment request   \n",
       "2  settlement processor regular payment request   \n",
       "3  settlement processor regular payment request   \n",
       "4  settlement processor regular payment request   \n",
       "\n",
       "                                mvnt_id    movement_type source_type  \\\n",
       "0  75cecc66-88bf-3ab0-bdd1-97029cb5e962          DISB_RQ        DISB   \n",
       "1  761b9e69-6843-4c11-9642-e93511ca0e08  REGULAR_PYMT_RQ        SETT   \n",
       "2  aaf37e01-4fcf-4b96-a259-713cf27b15a3  REGULAR_PYMT_RQ        SETT   \n",
       "3  53414338-2ddd-4b3f-887e-d2b79cf79ae1  REGULAR_PYMT_RQ        SETT   \n",
       "4  e5c3a677-88f1-46e7-bf69-653dcb366090  REGULAR_PYMT_RQ        SETT   \n",
       "\n",
       "           created_at              eff_dt report_date_local  \\\n",
       "0 2023-10-02 07:24:59 2023-10-02 07:25:04        2023-10-02   \n",
       "1 2023-10-01 18:12:40 2023-10-02 05:00:00               NaN   \n",
       "2 2023-10-01 18:55:17 2023-10-02 05:00:00               NaN   \n",
       "3 2023-10-01 19:27:09 2023-10-02 05:00:00               NaN   \n",
       "4 2023-10-01 17:24:52 2023-10-02 04:30:00               NaN   \n",
       "\n",
       "  payment_date_local status                                 file_name  \\\n",
       "0         2023-10-02   PAID  PROVISIONES - LEDGER SEPTIEMBRE 2023.tsv   \n",
       "1                NaT    NaN  PROVISIONES - LEDGER SEPTIEMBRE 2023.tsv   \n",
       "2                NaT    NaN  PROVISIONES - LEDGER SEPTIEMBRE 2023.tsv   \n",
       "3                NaT    NaN  PROVISIONES - LEDGER SEPTIEMBRE 2023.tsv   \n",
       "4                NaT    NaN  PROVISIONES - LEDGER SEPTIEMBRE 2023.tsv   \n",
       "\n",
       "  eff_dt_date eff_dt_time created_at_date  report_id report_date_local_final  \\\n",
       "0  2023-10-02    07:25:04      2023-10-02  A3RGGLWQL              2023-10-02   \n",
       "1  2023-10-02    05:00:00      2023-10-01  A3RGGLWQL              2023-10-02   \n",
       "2  2023-10-02    05:00:00      2023-10-01  A3RGGLWQL              2023-10-02   \n",
       "3  2023-10-02    05:00:00      2023-10-01  A3RGGLWQL              2023-10-02   \n",
       "4  2023-10-02    04:30:00      2023-10-01  A3RGGLWQL              2023-10-02   \n",
       "\n",
       "  payment_date_local_final status_final  \n",
       "0               2023-10-02         PAID  \n",
       "1               2023-10-02         PAID  \n",
       "2               2023-10-02         PAID  \n",
       "3               2023-10-02         PAID  \n",
       "4               2023-10-02         PAID  "
      ]
     },
     "execution_count": 13,
     "metadata": {},
     "output_type": "execute_result"
    }
   ],
   "source": [
    "ap.loc[ap['source_type'] == 'DISB', 'report_id'] = ap['type_request']\n",
    "ap['report_id'] = ap['report_id'].groupby(ap['merchant_id']).fillna(method='ffill')\n",
    "ap['report_date_local_final'] = ap['report_date_local'].groupby(ap['merchant_id']).fillna(method='ffill')\n",
    "ap['payment_date_local_final'] = ap['payment_date_local'].groupby(ap['merchant_id']).fillna(method='ffill')\n",
    "ap['status_final'] = ap['status'].groupby(ap['merchant_id']).fillna(method='ffill')\n",
    "ap.head()"
   ]
  },
  {
   "cell_type": "code",
   "execution_count": 14,
   "id": "cfdd51e2",
   "metadata": {},
   "outputs": [
    {
     "data": {
      "text/plain": [
       "(9726564, 19)"
      ]
     },
     "execution_count": 14,
     "metadata": {},
     "output_type": "execute_result"
    }
   ],
   "source": [
    "ap.shape"
   ]
  },
  {
   "cell_type": "code",
   "execution_count": 15,
   "id": "b34aaf44",
   "metadata": {},
   "outputs": [
    {
     "data": {
      "text/plain": [
       "index                                int64\n",
       "merchant_id                         object\n",
       "type_request                        object\n",
       "mvnt_id                             object\n",
       "movement_type                       object\n",
       "source_type                         object\n",
       "created_at                  datetime64[ns]\n",
       "eff_dt                      datetime64[ns]\n",
       "report_date_local                   object\n",
       "payment_date_local          datetime64[ns]\n",
       "status                              object\n",
       "file_name                           object\n",
       "eff_dt_date                 datetime64[ns]\n",
       "eff_dt_time                         object\n",
       "created_at_date             datetime64[ns]\n",
       "report_id                           object\n",
       "report_date_local_final             object\n",
       "payment_date_local_final    datetime64[ns]\n",
       "status_final                        object\n",
       "dtype: object"
      ]
     },
     "execution_count": 15,
     "metadata": {},
     "output_type": "execute_result"
    }
   ],
   "source": [
    "ap.dtypes"
   ]
  },
  {
   "cell_type": "code",
   "execution_count": 18,
   "id": "533505bb",
   "metadata": {},
   "outputs": [
    {
     "data": {
      "text/plain": [
       "['BILL_PYMNT',\n",
       " 'CAAL',\n",
       " 'DATA',\n",
       " 'DISB',\n",
       " 'LOAN',\n",
       " 'PROMO',\n",
       " 'PYMT',\n",
       " 'REFUNDS',\n",
       " 'RISK',\n",
       " 'SETT',\n",
       " 'TAXES',\n",
       " 'TOPUPS']"
      ]
     },
     "execution_count": 18,
     "metadata": {},
     "output_type": "execute_result"
    }
   ],
   "source": [
    "sorted(list(ap['source_type'].unique()))"
   ]
  },
  {
   "cell_type": "code",
   "execution_count": 17,
   "id": "57a30c53",
   "metadata": {},
   "outputs": [
    {
     "data": {
      "text/plain": [
       "array(['A3RGGLWQL', nan, 'AJV28LGJJ', ..., 'AWRYSYQ88', 'AB2B5TNMD',\n",
       "       'A468K6B4G'], dtype=object)"
      ]
     },
     "execution_count": 17,
     "metadata": {},
     "output_type": "execute_result"
    }
   ],
   "source": [
    "ap['report_id'].unique()"
   ]
  },
  {
   "cell_type": "code",
   "execution_count": 19,
   "id": "acebd4f7",
   "metadata": {},
   "outputs": [],
   "source": [
    "ap_bill_pymnt = ap[(ap['source_type'] == 'BILL_PYMNT')]\n",
    "ap_caal = ap[(ap['source_type'] == 'CAAL')]\n",
    "ap_data = ap[(ap['source_type'] == 'DATA')]\n",
    "ap_disb = ap[(ap['source_type'] == 'DISB')]\n",
    "ap_fee_refunds = ap[(ap['source_type'] == 'FEE_REFUNDS')]\n",
    "ap_loan = ap[(ap['source_type'] == 'LOAN')]\n",
    "ap_promo = ap[(ap['source_type'] == 'PROMO')]\n",
    "ap_pymt = ap[(ap['source_type'] == 'PYMT')]\n",
    "ap_refunds = ap[(ap['source_type'] == 'REFUNDS')]\n",
    "ap_risk = ap[(ap['source_type'] == 'RISK')]\n",
    "ap_sett = ap[(ap['source_type'] == 'SETT')]\n",
    "ap_sett_adptr = ap[(ap['source_type'] == 'SETT_ADPTR')]\n",
    "ap_taxes = ap[(ap['source_type'] == 'TAXES')]\n",
    "ap_topups = ap[(ap['source_type'] == 'TOPUPS')]"
   ]
  },
  {
   "cell_type": "markdown",
   "id": "d101324c",
   "metadata": {},
   "source": [
    "# CRUCE 1: AP JOURNAL VS SETTLEMENT MASTER LOG"
   ]
  },
  {
   "cell_type": "code",
   "execution_count": 20,
   "id": "1754a0b8",
   "metadata": {},
   "outputs": [
    {
     "data": {
      "text/html": [
       "<div>\n",
       "<style scoped>\n",
       "    .dataframe tbody tr th:only-of-type {\n",
       "        vertical-align: middle;\n",
       "    }\n",
       "\n",
       "    .dataframe tbody tr th {\n",
       "        vertical-align: top;\n",
       "    }\n",
       "\n",
       "    .dataframe thead th {\n",
       "        text-align: right;\n",
       "    }\n",
       "</style>\n",
       "<table border=\"1\" class=\"dataframe\">\n",
       "  <thead>\n",
       "    <tr style=\"text-align: right;\">\n",
       "      <th></th>\n",
       "      <th>index</th>\n",
       "      <th>merchant_id</th>\n",
       "      <th>type_request</th>\n",
       "      <th>mvnt_id</th>\n",
       "      <th>movement_type</th>\n",
       "      <th>source_type</th>\n",
       "      <th>created_at</th>\n",
       "      <th>eff_dt</th>\n",
       "      <th>report_date_local</th>\n",
       "      <th>payment_date_local</th>\n",
       "      <th>...</th>\n",
       "      <th>gross_amount</th>\n",
       "      <th>fees</th>\n",
       "      <th>taxes</th>\n",
       "      <th>net_amount</th>\n",
       "      <th>mdr</th>\n",
       "      <th>msi</th>\n",
       "      <th>number_msi</th>\n",
       "      <th>receipt_no</th>\n",
       "      <th>status_code</th>\n",
       "      <th>transaction_id</th>\n",
       "    </tr>\n",
       "  </thead>\n",
       "  <tbody>\n",
       "    <tr>\n",
       "      <th>0</th>\n",
       "      <td>8569503</td>\n",
       "      <td>00004998-66f3-4c36-9096-4f64f971d19b</td>\n",
       "      <td>A3RGGLWQL</td>\n",
       "      <td>75cecc66-88bf-3ab0-bdd1-97029cb5e962</td>\n",
       "      <td>DISB_RQ</td>\n",
       "      <td>DISB</td>\n",
       "      <td>2023-10-02 07:24:59</td>\n",
       "      <td>2023-10-02 07:25:04</td>\n",
       "      <td>2023-10-02</td>\n",
       "      <td>2023-10-02</td>\n",
       "      <td>...</td>\n",
       "      <td>NaN</td>\n",
       "      <td>NaN</td>\n",
       "      <td>NaN</td>\n",
       "      <td>NaN</td>\n",
       "      <td>NaN</td>\n",
       "      <td>NaN</td>\n",
       "      <td>NaN</td>\n",
       "      <td>NaN</td>\n",
       "      <td>NaN</td>\n",
       "      <td>75cecc66-88bf-3ab0-bdd1-97029cb5e962</td>\n",
       "    </tr>\n",
       "    <tr>\n",
       "      <th>1</th>\n",
       "      <td>683013</td>\n",
       "      <td>00004998-66f3-4c36-9096-4f64f971d19b</td>\n",
       "      <td>settlement processor regular payment request</td>\n",
       "      <td>761b9e69-6843-4c11-9642-e93511ca0e08</td>\n",
       "      <td>REGULAR_PYMT_RQ</td>\n",
       "      <td>SETT</td>\n",
       "      <td>2023-10-01 18:12:40</td>\n",
       "      <td>2023-10-02 05:00:00</td>\n",
       "      <td>NaN</td>\n",
       "      <td>NaT</td>\n",
       "      <td>...</td>\n",
       "      <td>667.00</td>\n",
       "      <td>24.01</td>\n",
       "      <td>3.84</td>\n",
       "      <td>639.15</td>\n",
       "      <td>0.04</td>\n",
       "      <td>0.00</td>\n",
       "      <td>0.00</td>\n",
       "      <td>R4KOj5c</td>\n",
       "      <td>1.00</td>\n",
       "      <td>761b9e69-6843-4c11-9642-e93511ca0e08</td>\n",
       "    </tr>\n",
       "    <tr>\n",
       "      <th>2</th>\n",
       "      <td>683014</td>\n",
       "      <td>00004998-66f3-4c36-9096-4f64f971d19b</td>\n",
       "      <td>settlement processor regular payment request</td>\n",
       "      <td>aaf37e01-4fcf-4b96-a259-713cf27b15a3</td>\n",
       "      <td>REGULAR_PYMT_RQ</td>\n",
       "      <td>SETT</td>\n",
       "      <td>2023-10-01 18:55:17</td>\n",
       "      <td>2023-10-02 05:00:00</td>\n",
       "      <td>NaN</td>\n",
       "      <td>NaT</td>\n",
       "      <td>...</td>\n",
       "      <td>179.00</td>\n",
       "      <td>6.44</td>\n",
       "      <td>1.03</td>\n",
       "      <td>171.53</td>\n",
       "      <td>0.04</td>\n",
       "      <td>0.00</td>\n",
       "      <td>0.00</td>\n",
       "      <td>cYOlcbT</td>\n",
       "      <td>1.00</td>\n",
       "      <td>aaf37e01-4fcf-4b96-a259-713cf27b15a3</td>\n",
       "    </tr>\n",
       "    <tr>\n",
       "      <th>3</th>\n",
       "      <td>683015</td>\n",
       "      <td>00004998-66f3-4c36-9096-4f64f971d19b</td>\n",
       "      <td>settlement processor regular payment request</td>\n",
       "      <td>53414338-2ddd-4b3f-887e-d2b79cf79ae1</td>\n",
       "      <td>REGULAR_PYMT_RQ</td>\n",
       "      <td>SETT</td>\n",
       "      <td>2023-10-01 19:27:09</td>\n",
       "      <td>2023-10-02 05:00:00</td>\n",
       "      <td>NaN</td>\n",
       "      <td>NaT</td>\n",
       "      <td>...</td>\n",
       "      <td>179.00</td>\n",
       "      <td>6.44</td>\n",
       "      <td>1.03</td>\n",
       "      <td>171.53</td>\n",
       "      <td>0.04</td>\n",
       "      <td>0.00</td>\n",
       "      <td>0.00</td>\n",
       "      <td>bLwMXQu</td>\n",
       "      <td>1.00</td>\n",
       "      <td>53414338-2ddd-4b3f-887e-d2b79cf79ae1</td>\n",
       "    </tr>\n",
       "    <tr>\n",
       "      <th>4</th>\n",
       "      <td>683011</td>\n",
       "      <td>00004998-66f3-4c36-9096-4f64f971d19b</td>\n",
       "      <td>settlement processor regular payment request</td>\n",
       "      <td>e5c3a677-88f1-46e7-bf69-653dcb366090</td>\n",
       "      <td>REGULAR_PYMT_RQ</td>\n",
       "      <td>SETT</td>\n",
       "      <td>2023-10-01 17:24:52</td>\n",
       "      <td>2023-10-02 04:30:00</td>\n",
       "      <td>NaN</td>\n",
       "      <td>NaT</td>\n",
       "      <td>...</td>\n",
       "      <td>229.00</td>\n",
       "      <td>8.24</td>\n",
       "      <td>1.32</td>\n",
       "      <td>219.44</td>\n",
       "      <td>0.04</td>\n",
       "      <td>0.00</td>\n",
       "      <td>0.00</td>\n",
       "      <td>j9EasD1</td>\n",
       "      <td>1.00</td>\n",
       "      <td>e5c3a677-88f1-46e7-bf69-653dcb366090</td>\n",
       "    </tr>\n",
       "  </tbody>\n",
       "</table>\n",
       "<p>5 rows × 30 columns</p>\n",
       "</div>"
      ],
      "text/plain": [
       "     index                           merchant_id  \\\n",
       "0  8569503  00004998-66f3-4c36-9096-4f64f971d19b   \n",
       "1   683013  00004998-66f3-4c36-9096-4f64f971d19b   \n",
       "2   683014  00004998-66f3-4c36-9096-4f64f971d19b   \n",
       "3   683015  00004998-66f3-4c36-9096-4f64f971d19b   \n",
       "4   683011  00004998-66f3-4c36-9096-4f64f971d19b   \n",
       "\n",
       "                                   type_request  \\\n",
       "0                                     A3RGGLWQL   \n",
       "1  settlement processor regular payment request   \n",
       "2  settlement processor regular payment request   \n",
       "3  settlement processor regular payment request   \n",
       "4  settlement processor regular payment request   \n",
       "\n",
       "                                mvnt_id    movement_type source_type  \\\n",
       "0  75cecc66-88bf-3ab0-bdd1-97029cb5e962          DISB_RQ        DISB   \n",
       "1  761b9e69-6843-4c11-9642-e93511ca0e08  REGULAR_PYMT_RQ        SETT   \n",
       "2  aaf37e01-4fcf-4b96-a259-713cf27b15a3  REGULAR_PYMT_RQ        SETT   \n",
       "3  53414338-2ddd-4b3f-887e-d2b79cf79ae1  REGULAR_PYMT_RQ        SETT   \n",
       "4  e5c3a677-88f1-46e7-bf69-653dcb366090  REGULAR_PYMT_RQ        SETT   \n",
       "\n",
       "           created_at              eff_dt report_date_local  \\\n",
       "0 2023-10-02 07:24:59 2023-10-02 07:25:04        2023-10-02   \n",
       "1 2023-10-01 18:12:40 2023-10-02 05:00:00               NaN   \n",
       "2 2023-10-01 18:55:17 2023-10-02 05:00:00               NaN   \n",
       "3 2023-10-01 19:27:09 2023-10-02 05:00:00               NaN   \n",
       "4 2023-10-01 17:24:52 2023-10-02 04:30:00               NaN   \n",
       "\n",
       "  payment_date_local  ... gross_amount  fees taxes net_amount  mdr  msi  \\\n",
       "0         2023-10-02  ...          NaN   NaN   NaN        NaN  NaN  NaN   \n",
       "1                NaT  ...       667.00 24.01  3.84     639.15 0.04 0.00   \n",
       "2                NaT  ...       179.00  6.44  1.03     171.53 0.04 0.00   \n",
       "3                NaT  ...       179.00  6.44  1.03     171.53 0.04 0.00   \n",
       "4                NaT  ...       229.00  8.24  1.32     219.44 0.04 0.00   \n",
       "\n",
       "  number_msi receipt_no status_code                        transaction_id  \n",
       "0        NaN        NaN         NaN  75cecc66-88bf-3ab0-bdd1-97029cb5e962  \n",
       "1       0.00    R4KOj5c        1.00  761b9e69-6843-4c11-9642-e93511ca0e08  \n",
       "2       0.00    cYOlcbT        1.00  aaf37e01-4fcf-4b96-a259-713cf27b15a3  \n",
       "3       0.00    bLwMXQu        1.00  53414338-2ddd-4b3f-887e-d2b79cf79ae1  \n",
       "4       0.00    j9EasD1        1.00  e5c3a677-88f1-46e7-bf69-653dcb366090  \n",
       "\n",
       "[5 rows x 30 columns]"
      ]
     },
     "execution_count": 20,
     "metadata": {},
     "output_type": "execute_result"
    }
   ],
   "source": [
    "cruce_1 = ap.merge(sml_final[['mvnt_id','psp_amount','gross_amount','fees','taxes','net_amount','mdr','msi','number_msi',\n",
    "                             'receipt_no','status_code']],on='mvnt_id',how='left')\n",
    "cruce_1['transaction_id'] = cruce_1['mvnt_id']\n",
    "cruce_1.head()"
   ]
  },
  {
   "cell_type": "code",
   "execution_count": 21,
   "id": "db61f0bb",
   "metadata": {},
   "outputs": [
    {
     "data": {
      "text/plain": [
       "(9726564, 30)"
      ]
     },
     "execution_count": 21,
     "metadata": {},
     "output_type": "execute_result"
    }
   ],
   "source": [
    "cruce_1.shape"
   ]
  },
  {
   "cell_type": "code",
   "execution_count": 22,
   "id": "4ab2db38",
   "metadata": {},
   "outputs": [
    {
     "data": {
      "text/plain": [
       "Index(['index', 'merchant_id', 'type_request', 'mvnt_id', 'movement_type',\n",
       "       'source_type', 'created_at', 'eff_dt', 'report_date_local',\n",
       "       'payment_date_local', 'status', 'file_name', 'eff_dt_date',\n",
       "       'eff_dt_time', 'created_at_date', 'report_id',\n",
       "       'report_date_local_final', 'payment_date_local_final', 'status_final',\n",
       "       'psp_amount', 'gross_amount', 'fees', 'taxes', 'net_amount', 'mdr',\n",
       "       'msi', 'number_msi', 'receipt_no', 'status_code', 'transaction_id'],\n",
       "      dtype='object')"
      ]
     },
     "execution_count": 22,
     "metadata": {},
     "output_type": "execute_result"
    }
   ],
   "source": [
    "cruce_1.columns"
   ]
  },
  {
   "cell_type": "markdown",
   "id": "052a992b",
   "metadata": {},
   "source": [
    "# DATA PROVISION"
   ]
  },
  {
   "cell_type": "code",
   "execution_count": 23,
   "id": "f328149e",
   "metadata": {},
   "outputs": [],
   "source": [
    "url = r'C:\\Users\\Cristian.Aparicio\\Documents\\PROVISIONES\\2023\\09. SEPTIEMBRE\\Provision Septiembre 2023 V1.xlsx'"
   ]
  },
  {
   "cell_type": "code",
   "execution_count": 24,
   "id": "ac57d3a8",
   "metadata": {},
   "outputs": [
    {
     "data": {
      "text/plain": [
       "<pandas.io.excel._base.ExcelFile at 0x21514a731f0>"
      ]
     },
     "execution_count": 24,
     "metadata": {},
     "output_type": "execute_result"
    }
   ],
   "source": [
    "provision_file = pd.ExcelFile(url)\n",
    "provision_file"
   ]
  },
  {
   "cell_type": "code",
   "execution_count": 25,
   "id": "dfa8ac1b",
   "metadata": {},
   "outputs": [
    {
     "data": {
      "text/plain": [
       "['RESUMEN',\n",
       " 'BANORTE 27,28,29',\n",
       " 'BANORTE 30 ',\n",
       " 'BANORTE 1',\n",
       " 'ECOMMERCE',\n",
       " 'GRRCN',\n",
       " 'EPA']"
      ]
     },
     "execution_count": 25,
     "metadata": {},
     "output_type": "execute_result"
    }
   ],
   "source": [
    "provision_file.sheet_names"
   ]
  },
  {
   "cell_type": "code",
   "execution_count": 26,
   "id": "71c2ab8a",
   "metadata": {},
   "outputs": [],
   "source": [
    "all_sheets = pd.read_excel(url, sheet_name=[1,2,3,4,5],\n",
    "                           converters={'AFFILIATION':str,'SUB_AFFILIATION':str,'ORDER_ID':str,'COD_AUTORIZACION':str,\n",
    "                                       'BIN':str,'ULTIMOS_4':str})"
   ]
  },
  {
   "cell_type": "code",
   "execution_count": 27,
   "id": "31a04b3f",
   "metadata": {},
   "outputs": [
    {
     "data": {
      "text/plain": [
       "dict_keys([1, 2, 3, 4, 5])"
      ]
     },
     "execution_count": 27,
     "metadata": {},
     "output_type": "execute_result"
    }
   ],
   "source": [
    "all_sheets.keys()"
   ]
  },
  {
   "cell_type": "code",
   "execution_count": 28,
   "id": "76866b7e",
   "metadata": {},
   "outputs": [
    {
     "data": {
      "text/html": [
       "<div>\n",
       "<style scoped>\n",
       "    .dataframe tbody tr th:only-of-type {\n",
       "        vertical-align: middle;\n",
       "    }\n",
       "\n",
       "    .dataframe tbody tr th {\n",
       "        vertical-align: top;\n",
       "    }\n",
       "\n",
       "    .dataframe thead th {\n",
       "        text-align: right;\n",
       "    }\n",
       "</style>\n",
       "<table border=\"1\" class=\"dataframe\">\n",
       "  <thead>\n",
       "    <tr style=\"text-align: right;\">\n",
       "      <th></th>\n",
       "      <th>level_0</th>\n",
       "      <th>level_1</th>\n",
       "      <th>tablero</th>\n",
       "      <th>fecha_deposito_clip</th>\n",
       "      <th>fecha_trx_clip</th>\n",
       "      <th>affiliation</th>\n",
       "      <th>sub_affiliation</th>\n",
       "      <th>fecha_recepción</th>\n",
       "      <th>nombre_archivo</th>\n",
       "      <th>order_id</th>\n",
       "      <th>...</th>\n",
       "      <th>ultimos_4</th>\n",
       "      <th>status_code</th>\n",
       "      <th>msi</th>\n",
       "      <th>psp</th>\n",
       "      <th>proceso</th>\n",
       "      <th>monto</th>\n",
       "      <th>recuento</th>\n",
       "      <th>adquiriente</th>\n",
       "      <th>transaction_id</th>\n",
       "      <th>nombre_tablero</th>\n",
       "    </tr>\n",
       "  </thead>\n",
       "  <tbody>\n",
       "    <tr>\n",
       "      <th>0</th>\n",
       "      <td>1</td>\n",
       "      <td>0</td>\n",
       "      <td>PAGOS CONCILIADOS</td>\n",
       "      <td>2023-10-02</td>\n",
       "      <td>2023-09-28</td>\n",
       "      <td>7927517</td>\n",
       "      <td>N500W543622</td>\n",
       "      <td>2023-10-03</td>\n",
       "      <td>PAYCLIP_Settlement_03102023_V1.csv</td>\n",
       "      <td>522156778123</td>\n",
       "      <td>...</td>\n",
       "      <td>61</td>\n",
       "      <td>1</td>\n",
       "      <td>0</td>\n",
       "      <td>PAYWORKS-BANORTE-CP</td>\n",
       "      <td>AGREGADOR</td>\n",
       "      <td>40.00</td>\n",
       "      <td>1</td>\n",
       "      <td>BANORTE</td>\n",
       "      <td>e4abe973-749e-43d9-ac39-100779323938</td>\n",
       "      <td>NaN</td>\n",
       "    </tr>\n",
       "    <tr>\n",
       "      <th>1</th>\n",
       "      <td>1</td>\n",
       "      <td>1</td>\n",
       "      <td>PAGOS CONCILIADOS</td>\n",
       "      <td>2023-10-02</td>\n",
       "      <td>2023-09-28</td>\n",
       "      <td>7927515</td>\n",
       "      <td>7927515</td>\n",
       "      <td>2023-10-03</td>\n",
       "      <td>PAYCLIP_Settlement_03102023_V1.csv</td>\n",
       "      <td>628883598105</td>\n",
       "      <td>...</td>\n",
       "      <td>61</td>\n",
       "      <td>1</td>\n",
       "      <td>0</td>\n",
       "      <td>PAYWORKS-BANORTE-CP</td>\n",
       "      <td>AGREGADOR</td>\n",
       "      <td>33.00</td>\n",
       "      <td>1</td>\n",
       "      <td>BANORTE</td>\n",
       "      <td>618a7bcc-29dc-4e0c-9301-ed60c50784f8</td>\n",
       "      <td>NaN</td>\n",
       "    </tr>\n",
       "    <tr>\n",
       "      <th>2</th>\n",
       "      <td>1</td>\n",
       "      <td>2</td>\n",
       "      <td>PAGOS CONCILIADOS</td>\n",
       "      <td>2023-10-02</td>\n",
       "      <td>2023-09-28</td>\n",
       "      <td>7927517</td>\n",
       "      <td>N500W4N4765</td>\n",
       "      <td>2023-10-03</td>\n",
       "      <td>PAYCLIP_Settlement_03102023_V1.csv</td>\n",
       "      <td>219270260537</td>\n",
       "      <td>...</td>\n",
       "      <td>16</td>\n",
       "      <td>1</td>\n",
       "      <td>0</td>\n",
       "      <td>PAYWORKS-BANORTE-CP</td>\n",
       "      <td>AGREGADOR</td>\n",
       "      <td>500.00</td>\n",
       "      <td>1</td>\n",
       "      <td>BANORTE</td>\n",
       "      <td>2beb2e2d-be54-4aaa-955e-ed8dc2cc1e64</td>\n",
       "      <td>NaN</td>\n",
       "    </tr>\n",
       "    <tr>\n",
       "      <th>3</th>\n",
       "      <td>1</td>\n",
       "      <td>3</td>\n",
       "      <td>PAGOS CONCILIADOS</td>\n",
       "      <td>2023-10-02</td>\n",
       "      <td>2023-09-28</td>\n",
       "      <td>7927517</td>\n",
       "      <td>A36804912400E93F</td>\n",
       "      <td>2023-10-03</td>\n",
       "      <td>PAYCLIP_Settlement_03102023_V1.csv</td>\n",
       "      <td>974841784001</td>\n",
       "      <td>...</td>\n",
       "      <td>11</td>\n",
       "      <td>1</td>\n",
       "      <td>0</td>\n",
       "      <td>PAYWORKS-BANORTE-CP</td>\n",
       "      <td>AGREGADOR</td>\n",
       "      <td>400.50</td>\n",
       "      <td>1</td>\n",
       "      <td>BANORTE</td>\n",
       "      <td>17920193-885b-40c3-b30e-735a8d048d1a</td>\n",
       "      <td>NaN</td>\n",
       "    </tr>\n",
       "    <tr>\n",
       "      <th>4</th>\n",
       "      <td>1</td>\n",
       "      <td>4</td>\n",
       "      <td>PAGOS CONCILIADOS</td>\n",
       "      <td>2023-10-02</td>\n",
       "      <td>2023-09-28</td>\n",
       "      <td>7927517</td>\n",
       "      <td>N500W4C6539</td>\n",
       "      <td>2023-10-03</td>\n",
       "      <td>PAYCLIP_Settlement_03102023_V1.csv</td>\n",
       "      <td>29217199466</td>\n",
       "      <td>...</td>\n",
       "      <td>26</td>\n",
       "      <td>1</td>\n",
       "      <td>0</td>\n",
       "      <td>PAYWORKS-BANORTE-CP</td>\n",
       "      <td>AGREGADOR</td>\n",
       "      <td>195.00</td>\n",
       "      <td>1</td>\n",
       "      <td>BANORTE</td>\n",
       "      <td>c60426aa-423c-4afe-81e1-361fb808300b</td>\n",
       "      <td>NaN</td>\n",
       "    </tr>\n",
       "  </tbody>\n",
       "</table>\n",
       "<p>5 rows × 22 columns</p>\n",
       "</div>"
      ],
      "text/plain": [
       "   level_0  level_1            tablero fecha_deposito_clip fecha_trx_clip  \\\n",
       "0        1        0  PAGOS CONCILIADOS          2023-10-02     2023-09-28   \n",
       "1        1        1  PAGOS CONCILIADOS          2023-10-02     2023-09-28   \n",
       "2        1        2  PAGOS CONCILIADOS          2023-10-02     2023-09-28   \n",
       "3        1        3  PAGOS CONCILIADOS          2023-10-02     2023-09-28   \n",
       "4        1        4  PAGOS CONCILIADOS          2023-10-02     2023-09-28   \n",
       "\n",
       "  affiliation   sub_affiliation fecha_recepción  \\\n",
       "0     7927517  N500W543622           2023-10-03   \n",
       "1     7927515           7927515      2023-10-03   \n",
       "2     7927517  N500W4N4765           2023-10-03   \n",
       "3     7927517  A36804912400E93F      2023-10-03   \n",
       "4     7927517  N500W4C6539           2023-10-03   \n",
       "\n",
       "                       nombre_archivo      order_id  ... ultimos_4  \\\n",
       "0  PAYCLIP_Settlement_03102023_V1.csv  522156778123  ...        61   \n",
       "1  PAYCLIP_Settlement_03102023_V1.csv  628883598105  ...        61   \n",
       "2  PAYCLIP_Settlement_03102023_V1.csv  219270260537  ...        16   \n",
       "3  PAYCLIP_Settlement_03102023_V1.csv  974841784001  ...        11   \n",
       "4  PAYCLIP_Settlement_03102023_V1.csv   29217199466  ...        26   \n",
       "\n",
       "  status_code msi                  psp    proceso  monto recuento  \\\n",
       "0           1   0  PAYWORKS-BANORTE-CP  AGREGADOR  40.00        1   \n",
       "1           1   0  PAYWORKS-BANORTE-CP  AGREGADOR  33.00        1   \n",
       "2           1   0  PAYWORKS-BANORTE-CP  AGREGADOR 500.00        1   \n",
       "3           1   0  PAYWORKS-BANORTE-CP  AGREGADOR 400.50        1   \n",
       "4           1   0  PAYWORKS-BANORTE-CP  AGREGADOR 195.00        1   \n",
       "\n",
       "   adquiriente                        transaction_id nombre_tablero  \n",
       "0      BANORTE  e4abe973-749e-43d9-ac39-100779323938            NaN  \n",
       "1      BANORTE  618a7bcc-29dc-4e0c-9301-ed60c50784f8            NaN  \n",
       "2      BANORTE  2beb2e2d-be54-4aaa-955e-ed8dc2cc1e64            NaN  \n",
       "3      BANORTE  17920193-885b-40c3-b30e-735a8d048d1a            NaN  \n",
       "4      BANORTE  c60426aa-423c-4afe-81e1-361fb808300b            NaN  \n",
       "\n",
       "[5 rows x 22 columns]"
      ]
     },
     "execution_count": 28,
     "metadata": {},
     "output_type": "execute_result"
    }
   ],
   "source": [
    "provision = pd.concat(all_sheets).reset_index()\n",
    "provision.columns = provision.columns.str.strip().str.lower() \n",
    "provision.head()"
   ]
  },
  {
   "cell_type": "code",
   "execution_count": 29,
   "id": "f3f765ef",
   "metadata": {},
   "outputs": [
    {
     "data": {
      "text/plain": [
       "(1757537, 22)"
      ]
     },
     "execution_count": 29,
     "metadata": {},
     "output_type": "execute_result"
    }
   ],
   "source": [
    "provision.shape"
   ]
  },
  {
   "cell_type": "markdown",
   "id": "c337bb22",
   "metadata": {},
   "source": [
    "# CRUCE 2: DATA PROVISION VS CRUCE 1"
   ]
  },
  {
   "cell_type": "code",
   "execution_count": 30,
   "id": "55a73310",
   "metadata": {},
   "outputs": [
    {
     "data": {
      "text/html": [
       "<div>\n",
       "<style scoped>\n",
       "    .dataframe tbody tr th:only-of-type {\n",
       "        vertical-align: middle;\n",
       "    }\n",
       "\n",
       "    .dataframe tbody tr th {\n",
       "        vertical-align: top;\n",
       "    }\n",
       "\n",
       "    .dataframe thead th {\n",
       "        text-align: right;\n",
       "    }\n",
       "</style>\n",
       "<table border=\"1\" class=\"dataframe\">\n",
       "  <thead>\n",
       "    <tr style=\"text-align: right;\">\n",
       "      <th></th>\n",
       "      <th>level_0</th>\n",
       "      <th>level_1</th>\n",
       "      <th>tablero</th>\n",
       "      <th>fecha_deposito_clip</th>\n",
       "      <th>fecha_trx_clip</th>\n",
       "      <th>affiliation</th>\n",
       "      <th>sub_affiliation</th>\n",
       "      <th>fecha_recepción</th>\n",
       "      <th>nombre_archivo</th>\n",
       "      <th>order_id</th>\n",
       "      <th>...</th>\n",
       "      <th>mvnt_id</th>\n",
       "      <th>report_id</th>\n",
       "      <th>report_date_local_final</th>\n",
       "      <th>payment_date_local_final</th>\n",
       "      <th>status_final</th>\n",
       "      <th>fees</th>\n",
       "      <th>taxes</th>\n",
       "      <th>eff_dt_date</th>\n",
       "      <th>movement_type</th>\n",
       "      <th>source_type</th>\n",
       "    </tr>\n",
       "  </thead>\n",
       "  <tbody>\n",
       "    <tr>\n",
       "      <th>0</th>\n",
       "      <td>1</td>\n",
       "      <td>0</td>\n",
       "      <td>PAGOS CONCILIADOS</td>\n",
       "      <td>2023-10-02</td>\n",
       "      <td>2023-09-28</td>\n",
       "      <td>7927517</td>\n",
       "      <td>N500W543622</td>\n",
       "      <td>2023-10-03</td>\n",
       "      <td>PAYCLIP_Settlement_03102023_V1.csv</td>\n",
       "      <td>522156778123</td>\n",
       "      <td>...</td>\n",
       "      <td>e4abe973-749e-43d9-ac39-100779323938</td>\n",
       "      <td>AJHNHTCLG</td>\n",
       "      <td>2023-09-29</td>\n",
       "      <td>2023-09-29</td>\n",
       "      <td>PAID</td>\n",
       "      <td>1.44</td>\n",
       "      <td>0.23</td>\n",
       "      <td>2023-09-29</td>\n",
       "      <td>REGULAR_PYMT_RQ</td>\n",
       "      <td>SETT</td>\n",
       "    </tr>\n",
       "    <tr>\n",
       "      <th>1</th>\n",
       "      <td>1</td>\n",
       "      <td>1</td>\n",
       "      <td>PAGOS CONCILIADOS</td>\n",
       "      <td>2023-10-02</td>\n",
       "      <td>2023-09-28</td>\n",
       "      <td>7927515</td>\n",
       "      <td>7927515</td>\n",
       "      <td>2023-10-03</td>\n",
       "      <td>PAYCLIP_Settlement_03102023_V1.csv</td>\n",
       "      <td>628883598105</td>\n",
       "      <td>...</td>\n",
       "      <td>618a7bcc-29dc-4e0c-9301-ed60c50784f8</td>\n",
       "      <td>AMGYK2X3B</td>\n",
       "      <td>2023-09-29</td>\n",
       "      <td>2023-09-29</td>\n",
       "      <td>PAID</td>\n",
       "      <td>1.19</td>\n",
       "      <td>0.19</td>\n",
       "      <td>2023-09-29</td>\n",
       "      <td>REGULAR_PYMT_RQ</td>\n",
       "      <td>SETT</td>\n",
       "    </tr>\n",
       "    <tr>\n",
       "      <th>2</th>\n",
       "      <td>1</td>\n",
       "      <td>2</td>\n",
       "      <td>PAGOS CONCILIADOS</td>\n",
       "      <td>2023-10-02</td>\n",
       "      <td>2023-09-28</td>\n",
       "      <td>7927517</td>\n",
       "      <td>N500W4N4765</td>\n",
       "      <td>2023-10-03</td>\n",
       "      <td>PAYCLIP_Settlement_03102023_V1.csv</td>\n",
       "      <td>219270260537</td>\n",
       "      <td>...</td>\n",
       "      <td>2beb2e2d-be54-4aaa-955e-ed8dc2cc1e64</td>\n",
       "      <td>AYX7DXD7X</td>\n",
       "      <td>2023-09-29</td>\n",
       "      <td>2023-09-29</td>\n",
       "      <td>PAID</td>\n",
       "      <td>18.00</td>\n",
       "      <td>2.88</td>\n",
       "      <td>2023-09-29</td>\n",
       "      <td>REGULAR_PYMT_RQ</td>\n",
       "      <td>SETT</td>\n",
       "    </tr>\n",
       "    <tr>\n",
       "      <th>3</th>\n",
       "      <td>1</td>\n",
       "      <td>3</td>\n",
       "      <td>PAGOS CONCILIADOS</td>\n",
       "      <td>2023-10-02</td>\n",
       "      <td>2023-09-28</td>\n",
       "      <td>7927517</td>\n",
       "      <td>A36804912400E93F</td>\n",
       "      <td>2023-10-03</td>\n",
       "      <td>PAYCLIP_Settlement_03102023_V1.csv</td>\n",
       "      <td>974841784001</td>\n",
       "      <td>...</td>\n",
       "      <td>17920193-885b-40c3-b30e-735a8d048d1a</td>\n",
       "      <td>AW7B58H6D</td>\n",
       "      <td>2023-09-29</td>\n",
       "      <td>2023-09-29</td>\n",
       "      <td>PAID</td>\n",
       "      <td>14.42</td>\n",
       "      <td>2.31</td>\n",
       "      <td>2023-09-29</td>\n",
       "      <td>REGULAR_PYMT_RQ</td>\n",
       "      <td>SETT</td>\n",
       "    </tr>\n",
       "    <tr>\n",
       "      <th>4</th>\n",
       "      <td>1</td>\n",
       "      <td>4</td>\n",
       "      <td>PAGOS CONCILIADOS</td>\n",
       "      <td>2023-10-02</td>\n",
       "      <td>2023-09-28</td>\n",
       "      <td>7927517</td>\n",
       "      <td>N500W4C6539</td>\n",
       "      <td>2023-10-03</td>\n",
       "      <td>PAYCLIP_Settlement_03102023_V1.csv</td>\n",
       "      <td>29217199466</td>\n",
       "      <td>...</td>\n",
       "      <td>c60426aa-423c-4afe-81e1-361fb808300b</td>\n",
       "      <td>AT4XLV9R3</td>\n",
       "      <td>2023-09-29</td>\n",
       "      <td>2023-09-29</td>\n",
       "      <td>PAID</td>\n",
       "      <td>7.02</td>\n",
       "      <td>1.12</td>\n",
       "      <td>2023-09-29</td>\n",
       "      <td>REGULAR_PYMT_RQ</td>\n",
       "      <td>SETT</td>\n",
       "    </tr>\n",
       "  </tbody>\n",
       "</table>\n",
       "<p>5 rows × 32 columns</p>\n",
       "</div>"
      ],
      "text/plain": [
       "   level_0  level_1            tablero fecha_deposito_clip fecha_trx_clip  \\\n",
       "0        1        0  PAGOS CONCILIADOS          2023-10-02     2023-09-28   \n",
       "1        1        1  PAGOS CONCILIADOS          2023-10-02     2023-09-28   \n",
       "2        1        2  PAGOS CONCILIADOS          2023-10-02     2023-09-28   \n",
       "3        1        3  PAGOS CONCILIADOS          2023-10-02     2023-09-28   \n",
       "4        1        4  PAGOS CONCILIADOS          2023-10-02     2023-09-28   \n",
       "\n",
       "  affiliation   sub_affiliation fecha_recepción  \\\n",
       "0     7927517  N500W543622           2023-10-03   \n",
       "1     7927515           7927515      2023-10-03   \n",
       "2     7927517  N500W4N4765           2023-10-03   \n",
       "3     7927517  A36804912400E93F      2023-10-03   \n",
       "4     7927517  N500W4C6539           2023-10-03   \n",
       "\n",
       "                       nombre_archivo      order_id  ...  \\\n",
       "0  PAYCLIP_Settlement_03102023_V1.csv  522156778123  ...   \n",
       "1  PAYCLIP_Settlement_03102023_V1.csv  628883598105  ...   \n",
       "2  PAYCLIP_Settlement_03102023_V1.csv  219270260537  ...   \n",
       "3  PAYCLIP_Settlement_03102023_V1.csv  974841784001  ...   \n",
       "4  PAYCLIP_Settlement_03102023_V1.csv   29217199466  ...   \n",
       "\n",
       "                                mvnt_id  report_id report_date_local_final  \\\n",
       "0  e4abe973-749e-43d9-ac39-100779323938  AJHNHTCLG              2023-09-29   \n",
       "1  618a7bcc-29dc-4e0c-9301-ed60c50784f8  AMGYK2X3B              2023-09-29   \n",
       "2  2beb2e2d-be54-4aaa-955e-ed8dc2cc1e64  AYX7DXD7X              2023-09-29   \n",
       "3  17920193-885b-40c3-b30e-735a8d048d1a  AW7B58H6D              2023-09-29   \n",
       "4  c60426aa-423c-4afe-81e1-361fb808300b  AT4XLV9R3              2023-09-29   \n",
       "\n",
       "  payment_date_local_final  status_final  fees taxes  eff_dt_date  \\\n",
       "0               2023-09-29          PAID  1.44  0.23   2023-09-29   \n",
       "1               2023-09-29          PAID  1.19  0.19   2023-09-29   \n",
       "2               2023-09-29          PAID 18.00  2.88   2023-09-29   \n",
       "3               2023-09-29          PAID 14.42  2.31   2023-09-29   \n",
       "4               2023-09-29          PAID  7.02  1.12   2023-09-29   \n",
       "\n",
       "     movement_type source_type  \n",
       "0  REGULAR_PYMT_RQ        SETT  \n",
       "1  REGULAR_PYMT_RQ        SETT  \n",
       "2  REGULAR_PYMT_RQ        SETT  \n",
       "3  REGULAR_PYMT_RQ        SETT  \n",
       "4  REGULAR_PYMT_RQ        SETT  \n",
       "\n",
       "[5 rows x 32 columns]"
      ]
     },
     "execution_count": 30,
     "metadata": {},
     "output_type": "execute_result"
    }
   ],
   "source": [
    "cruce_2 = provision.merge(cruce_1[['transaction_id','mvnt_id','report_id','report_date_local_final','payment_date_local_final',\n",
    "                                   'status_final','fees','taxes','eff_dt_date','movement_type','source_type']],\n",
    "                          on='transaction_id',how='left')\n",
    "cruce_2['report_id'].fillna('not_found',inplace=True)\n",
    "cruce_2['movement_type'].fillna('not_found',inplace=True)\n",
    "cruce_2['source_type'].fillna('not_found',inplace=True)\n",
    "cruce_2['status_final'].fillna('not_found',inplace=True)\n",
    "cruce_2['report_date_local_final'].fillna('1990-01-01',inplace=True)\n",
    "cruce_2['payment_date_local_final'].fillna('1990-01-01',inplace=True)\n",
    "cruce_2['report_date_local_final'] =  pd.to_datetime(cruce_2['report_date_local_final'])\n",
    "cruce_2['payment_date_local_final'] =  pd.to_datetime(cruce_2['payment_date_local_final'])\n",
    "cruce_2.head()"
   ]
  },
  {
   "cell_type": "code",
   "execution_count": 31,
   "id": "8fdfba12",
   "metadata": {},
   "outputs": [
    {
     "data": {
      "text/plain": [
       "(1757541, 32)"
      ]
     },
     "execution_count": 31,
     "metadata": {},
     "output_type": "execute_result"
    }
   ],
   "source": [
    "cruce_2.shape"
   ]
  },
  {
   "cell_type": "code",
   "execution_count": 32,
   "id": "bafecb0a",
   "metadata": {},
   "outputs": [
    {
     "data": {
      "text/plain": [
       "array(['REGULAR_PYMT_RQ', 'FAST_PYMT_RQ', 'not_found',\n",
       "       'DEFERRED_REGULAR_PYMNT_RQ', 'DEFERRED_FAST_PYMNT_RQ', 'CANCEL_RQ'],\n",
       "      dtype=object)"
      ]
     },
     "execution_count": 32,
     "metadata": {},
     "output_type": "execute_result"
    }
   ],
   "source": [
    "cruce_2['movement_type'].unique()"
   ]
  },
  {
   "cell_type": "code",
   "execution_count": 33,
   "id": "64aeba02",
   "metadata": {},
   "outputs": [
    {
     "data": {
      "text/plain": [
       "array(['SETT', 'not_found', 'PYMT'], dtype=object)"
      ]
     },
     "execution_count": 33,
     "metadata": {},
     "output_type": "execute_result"
    }
   ],
   "source": [
    "cruce_2['source_type'].unique()"
   ]
  },
  {
   "cell_type": "code",
   "execution_count": 34,
   "id": "ceeab129",
   "metadata": {},
   "outputs": [
    {
     "data": {
      "text/plain": [
       "array([1, 2, 3, 4, 5], dtype=int64)"
      ]
     },
     "execution_count": 34,
     "metadata": {},
     "output_type": "execute_result"
    }
   ],
   "source": [
    "cruce_2['level_0'].unique()"
   ]
  },
  {
   "cell_type": "markdown",
   "id": "6a0638a4",
   "metadata": {},
   "source": [
    "# EXCEL FINAL"
   ]
  },
  {
   "cell_type": "code",
   "execution_count": 35,
   "id": "f51e5a8e",
   "metadata": {},
   "outputs": [],
   "source": [
    "grouped = cruce_2.groupby(cruce_2.level_0)"
   ]
  },
  {
   "cell_type": "code",
   "execution_count": 36,
   "id": "e7abd354",
   "metadata": {},
   "outputs": [],
   "source": [
    "group_1 = grouped.get_group(1)\n",
    "group_2 = grouped.get_group(2)\n",
    "group_3 = grouped.get_group(3)\n",
    "group_4 = grouped.get_group(4)\n",
    "group_5 = grouped.get_group(5)\n",
    "# group_6 = grouped.get_group(6)\n",
    "# group_7 = grouped.get_group(7)"
   ]
  },
  {
   "cell_type": "code",
   "execution_count": 37,
   "id": "dc6029be",
   "metadata": {},
   "outputs": [],
   "source": [
    "group_1.to_csv('1.csv',index=False)\n",
    "group_2.to_csv('2.csv',index=False)\n",
    "group_3.to_csv('3.csv',index=False)\n",
    "group_4.to_csv('4.csv',index=False)\n",
    "group_5.to_csv('5.csv',index=False)\n",
    "# group_6.to_csv('6.csv',index=False)\n",
    "# group_7.to_csv('7.csv',index=False)"
   ]
  },
  {
   "cell_type": "code",
   "execution_count": 38,
   "id": "90ede6ce",
   "metadata": {},
   "outputs": [],
   "source": [
    "writer = pd.ExcelWriter('Data_final_provision_septiembre_2023.xlsx',\n",
    "                        engine='xlsxwriter',\n",
    "                        engine_kwargs={'options': {'encoding':'utf-8'}})\n",
    "group_1.to_excel(writer, sheet_name='1', index=False)\n",
    "group_2.to_excel(writer, sheet_name='2', index=False)\n",
    "group_3.to_excel(writer, sheet_name='3', index=False)\n",
    "group_4.to_excel(writer, sheet_name='4', index=False)\n",
    "group_5.to_excel(writer, sheet_name='5', index=False)\n",
    "# group_6.to_excel(writer, sheet_name='6', index=False)\n",
    "# group_7.to_excel(writer, sheet_name='7', index=False)\n",
    "writer.close()"
   ]
  },
  {
   "cell_type": "code",
   "execution_count": null,
   "id": "3b20b16b",
   "metadata": {},
   "outputs": [],
   "source": []
  }
 ],
 "metadata": {
  "kernelspec": {
   "display_name": "Python 3 (ipykernel)",
   "language": "python",
   "name": "python3"
  },
  "language_info": {
   "codemirror_mode": {
    "name": "ipython",
    "version": 3
   },
   "file_extension": ".py",
   "mimetype": "text/x-python",
   "name": "python",
   "nbconvert_exporter": "python",
   "pygments_lexer": "ipython3",
   "version": "3.9.18"
  }
 },
 "nbformat": 4,
 "nbformat_minor": 5
}
