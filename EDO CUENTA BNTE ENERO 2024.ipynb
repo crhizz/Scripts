{
 "cells": [
  {
   "cell_type": "code",
   "execution_count": 1,
   "metadata": {},
   "outputs": [],
   "source": [
    "import pandas as pd\n",
    "import numpy as np\n",
    "from openpyxl import load_workbook\n",
    "import functools\n",
    "import glob\n",
    "import os\n",
    "pd.options.display.float_format = '{:,.2f}'.format"
   ]
  },
  {
   "cell_type": "code",
   "execution_count": 2,
   "metadata": {},
   "outputs": [],
   "source": [
    "start_date = '2024-01-31'\n",
    "final_date = '2024-01-31'"
   ]
  },
  {
   "cell_type": "markdown",
   "metadata": {},
   "source": [
    "# READING FILES"
   ]
  },
  {
   "cell_type": "markdown",
   "metadata": {},
   "source": [
    "### EDO DE CUENTA"
   ]
  },
  {
   "cell_type": "code",
   "execution_count": 3,
   "metadata": {},
   "outputs": [
    {
     "data": {
      "text/plain": [
       "['C:\\\\Users\\\\Cristian.Aparicio\\\\Documents\\\\CONCILIACIONES\\\\2024\\\\01. ENERO\\\\EDO CTA BNTE\\\\BNTE 2024.01.02 PT1.txt',\n",
       " 'C:\\\\Users\\\\Cristian.Aparicio\\\\Documents\\\\CONCILIACIONES\\\\2024\\\\01. ENERO\\\\EDO CTA BNTE\\\\BNTE 2024.01.02 PT10.txt',\n",
       " 'C:\\\\Users\\\\Cristian.Aparicio\\\\Documents\\\\CONCILIACIONES\\\\2024\\\\01. ENERO\\\\EDO CTA BNTE\\\\BNTE 2024.01.02 PT11.txt',\n",
       " 'C:\\\\Users\\\\Cristian.Aparicio\\\\Documents\\\\CONCILIACIONES\\\\2024\\\\01. ENERO\\\\EDO CTA BNTE\\\\BNTE 2024.01.02 PT12.txt',\n",
       " 'C:\\\\Users\\\\Cristian.Aparicio\\\\Documents\\\\CONCILIACIONES\\\\2024\\\\01. ENERO\\\\EDO CTA BNTE\\\\BNTE 2024.01.02 PT13.txt',\n",
       " 'C:\\\\Users\\\\Cristian.Aparicio\\\\Documents\\\\CONCILIACIONES\\\\2024\\\\01. ENERO\\\\EDO CTA BNTE\\\\BNTE 2024.01.02 PT14.txt',\n",
       " 'C:\\\\Users\\\\Cristian.Aparicio\\\\Documents\\\\CONCILIACIONES\\\\2024\\\\01. ENERO\\\\EDO CTA BNTE\\\\BNTE 2024.01.02 PT15.txt',\n",
       " 'C:\\\\Users\\\\Cristian.Aparicio\\\\Documents\\\\CONCILIACIONES\\\\2024\\\\01. ENERO\\\\EDO CTA BNTE\\\\BNTE 2024.01.02 PT16.txt',\n",
       " 'C:\\\\Users\\\\Cristian.Aparicio\\\\Documents\\\\CONCILIACIONES\\\\2024\\\\01. ENERO\\\\EDO CTA BNTE\\\\BNTE 2024.01.02 PT17.txt',\n",
       " 'C:\\\\Users\\\\Cristian.Aparicio\\\\Documents\\\\CONCILIACIONES\\\\2024\\\\01. ENERO\\\\EDO CTA BNTE\\\\BNTE 2024.01.02 PT18.txt',\n",
       " 'C:\\\\Users\\\\Cristian.Aparicio\\\\Documents\\\\CONCILIACIONES\\\\2024\\\\01. ENERO\\\\EDO CTA BNTE\\\\BNTE 2024.01.02 PT19.txt',\n",
       " 'C:\\\\Users\\\\Cristian.Aparicio\\\\Documents\\\\CONCILIACIONES\\\\2024\\\\01. ENERO\\\\EDO CTA BNTE\\\\BNTE 2024.01.02 PT2.txt',\n",
       " 'C:\\\\Users\\\\Cristian.Aparicio\\\\Documents\\\\CONCILIACIONES\\\\2024\\\\01. ENERO\\\\EDO CTA BNTE\\\\BNTE 2024.01.02 PT20.txt',\n",
       " 'C:\\\\Users\\\\Cristian.Aparicio\\\\Documents\\\\CONCILIACIONES\\\\2024\\\\01. ENERO\\\\EDO CTA BNTE\\\\BNTE 2024.01.02 PT21.txt',\n",
       " 'C:\\\\Users\\\\Cristian.Aparicio\\\\Documents\\\\CONCILIACIONES\\\\2024\\\\01. ENERO\\\\EDO CTA BNTE\\\\BNTE 2024.01.02 PT22.txt',\n",
       " 'C:\\\\Users\\\\Cristian.Aparicio\\\\Documents\\\\CONCILIACIONES\\\\2024\\\\01. ENERO\\\\EDO CTA BNTE\\\\BNTE 2024.01.02 PT23.txt',\n",
       " 'C:\\\\Users\\\\Cristian.Aparicio\\\\Documents\\\\CONCILIACIONES\\\\2024\\\\01. ENERO\\\\EDO CTA BNTE\\\\BNTE 2024.01.02 PT24.txt',\n",
       " 'C:\\\\Users\\\\Cristian.Aparicio\\\\Documents\\\\CONCILIACIONES\\\\2024\\\\01. ENERO\\\\EDO CTA BNTE\\\\BNTE 2024.01.02 PT25.txt',\n",
       " 'C:\\\\Users\\\\Cristian.Aparicio\\\\Documents\\\\CONCILIACIONES\\\\2024\\\\01. ENERO\\\\EDO CTA BNTE\\\\BNTE 2024.01.02 PT26.txt',\n",
       " 'C:\\\\Users\\\\Cristian.Aparicio\\\\Documents\\\\CONCILIACIONES\\\\2024\\\\01. ENERO\\\\EDO CTA BNTE\\\\BNTE 2024.01.02 PT27.txt',\n",
       " 'C:\\\\Users\\\\Cristian.Aparicio\\\\Documents\\\\CONCILIACIONES\\\\2024\\\\01. ENERO\\\\EDO CTA BNTE\\\\BNTE 2024.01.02 PT28.txt',\n",
       " 'C:\\\\Users\\\\Cristian.Aparicio\\\\Documents\\\\CONCILIACIONES\\\\2024\\\\01. ENERO\\\\EDO CTA BNTE\\\\BNTE 2024.01.02 PT29.txt',\n",
       " 'C:\\\\Users\\\\Cristian.Aparicio\\\\Documents\\\\CONCILIACIONES\\\\2024\\\\01. ENERO\\\\EDO CTA BNTE\\\\BNTE 2024.01.02 PT3.txt',\n",
       " 'C:\\\\Users\\\\Cristian.Aparicio\\\\Documents\\\\CONCILIACIONES\\\\2024\\\\01. ENERO\\\\EDO CTA BNTE\\\\BNTE 2024.01.02 PT30.txt',\n",
       " 'C:\\\\Users\\\\Cristian.Aparicio\\\\Documents\\\\CONCILIACIONES\\\\2024\\\\01. ENERO\\\\EDO CTA BNTE\\\\BNTE 2024.01.02 PT31.txt',\n",
       " 'C:\\\\Users\\\\Cristian.Aparicio\\\\Documents\\\\CONCILIACIONES\\\\2024\\\\01. ENERO\\\\EDO CTA BNTE\\\\BNTE 2024.01.02 PT32.txt',\n",
       " 'C:\\\\Users\\\\Cristian.Aparicio\\\\Documents\\\\CONCILIACIONES\\\\2024\\\\01. ENERO\\\\EDO CTA BNTE\\\\BNTE 2024.01.02 PT33.txt',\n",
       " 'C:\\\\Users\\\\Cristian.Aparicio\\\\Documents\\\\CONCILIACIONES\\\\2024\\\\01. ENERO\\\\EDO CTA BNTE\\\\BNTE 2024.01.02 PT34.txt',\n",
       " 'C:\\\\Users\\\\Cristian.Aparicio\\\\Documents\\\\CONCILIACIONES\\\\2024\\\\01. ENERO\\\\EDO CTA BNTE\\\\BNTE 2024.01.02 PT35.txt',\n",
       " 'C:\\\\Users\\\\Cristian.Aparicio\\\\Documents\\\\CONCILIACIONES\\\\2024\\\\01. ENERO\\\\EDO CTA BNTE\\\\BNTE 2024.01.02 PT36.txt',\n",
       " 'C:\\\\Users\\\\Cristian.Aparicio\\\\Documents\\\\CONCILIACIONES\\\\2024\\\\01. ENERO\\\\EDO CTA BNTE\\\\BNTE 2024.01.02 PT37.txt',\n",
       " 'C:\\\\Users\\\\Cristian.Aparicio\\\\Documents\\\\CONCILIACIONES\\\\2024\\\\01. ENERO\\\\EDO CTA BNTE\\\\BNTE 2024.01.02 PT38.txt',\n",
       " 'C:\\\\Users\\\\Cristian.Aparicio\\\\Documents\\\\CONCILIACIONES\\\\2024\\\\01. ENERO\\\\EDO CTA BNTE\\\\BNTE 2024.01.02 PT39.txt',\n",
       " 'C:\\\\Users\\\\Cristian.Aparicio\\\\Documents\\\\CONCILIACIONES\\\\2024\\\\01. ENERO\\\\EDO CTA BNTE\\\\BNTE 2024.01.02 PT4.txt',\n",
       " 'C:\\\\Users\\\\Cristian.Aparicio\\\\Documents\\\\CONCILIACIONES\\\\2024\\\\01. ENERO\\\\EDO CTA BNTE\\\\BNTE 2024.01.02 PT40.txt',\n",
       " 'C:\\\\Users\\\\Cristian.Aparicio\\\\Documents\\\\CONCILIACIONES\\\\2024\\\\01. ENERO\\\\EDO CTA BNTE\\\\BNTE 2024.01.02 PT41.txt',\n",
       " 'C:\\\\Users\\\\Cristian.Aparicio\\\\Documents\\\\CONCILIACIONES\\\\2024\\\\01. ENERO\\\\EDO CTA BNTE\\\\BNTE 2024.01.02 PT42.txt',\n",
       " 'C:\\\\Users\\\\Cristian.Aparicio\\\\Documents\\\\CONCILIACIONES\\\\2024\\\\01. ENERO\\\\EDO CTA BNTE\\\\BNTE 2024.01.02 PT43.txt',\n",
       " 'C:\\\\Users\\\\Cristian.Aparicio\\\\Documents\\\\CONCILIACIONES\\\\2024\\\\01. ENERO\\\\EDO CTA BNTE\\\\BNTE 2024.01.02 PT44.txt',\n",
       " 'C:\\\\Users\\\\Cristian.Aparicio\\\\Documents\\\\CONCILIACIONES\\\\2024\\\\01. ENERO\\\\EDO CTA BNTE\\\\BNTE 2024.01.02 PT45.txt',\n",
       " 'C:\\\\Users\\\\Cristian.Aparicio\\\\Documents\\\\CONCILIACIONES\\\\2024\\\\01. ENERO\\\\EDO CTA BNTE\\\\BNTE 2024.01.02 PT46.txt',\n",
       " 'C:\\\\Users\\\\Cristian.Aparicio\\\\Documents\\\\CONCILIACIONES\\\\2024\\\\01. ENERO\\\\EDO CTA BNTE\\\\BNTE 2024.01.02 PT47.txt',\n",
       " 'C:\\\\Users\\\\Cristian.Aparicio\\\\Documents\\\\CONCILIACIONES\\\\2024\\\\01. ENERO\\\\EDO CTA BNTE\\\\BNTE 2024.01.02 PT48.txt',\n",
       " 'C:\\\\Users\\\\Cristian.Aparicio\\\\Documents\\\\CONCILIACIONES\\\\2024\\\\01. ENERO\\\\EDO CTA BNTE\\\\BNTE 2024.01.02 PT49.txt',\n",
       " 'C:\\\\Users\\\\Cristian.Aparicio\\\\Documents\\\\CONCILIACIONES\\\\2024\\\\01. ENERO\\\\EDO CTA BNTE\\\\BNTE 2024.01.02 PT5.txt',\n",
       " 'C:\\\\Users\\\\Cristian.Aparicio\\\\Documents\\\\CONCILIACIONES\\\\2024\\\\01. ENERO\\\\EDO CTA BNTE\\\\BNTE 2024.01.02 PT50.txt',\n",
       " 'C:\\\\Users\\\\Cristian.Aparicio\\\\Documents\\\\CONCILIACIONES\\\\2024\\\\01. ENERO\\\\EDO CTA BNTE\\\\BNTE 2024.01.02 PT51.txt',\n",
       " 'C:\\\\Users\\\\Cristian.Aparicio\\\\Documents\\\\CONCILIACIONES\\\\2024\\\\01. ENERO\\\\EDO CTA BNTE\\\\BNTE 2024.01.02 PT52.txt',\n",
       " 'C:\\\\Users\\\\Cristian.Aparicio\\\\Documents\\\\CONCILIACIONES\\\\2024\\\\01. ENERO\\\\EDO CTA BNTE\\\\BNTE 2024.01.02 PT53.txt',\n",
       " 'C:\\\\Users\\\\Cristian.Aparicio\\\\Documents\\\\CONCILIACIONES\\\\2024\\\\01. ENERO\\\\EDO CTA BNTE\\\\BNTE 2024.01.02 PT54.txt',\n",
       " 'C:\\\\Users\\\\Cristian.Aparicio\\\\Documents\\\\CONCILIACIONES\\\\2024\\\\01. ENERO\\\\EDO CTA BNTE\\\\BNTE 2024.01.02 PT55.txt',\n",
       " 'C:\\\\Users\\\\Cristian.Aparicio\\\\Documents\\\\CONCILIACIONES\\\\2024\\\\01. ENERO\\\\EDO CTA BNTE\\\\BNTE 2024.01.02 PT56.txt',\n",
       " 'C:\\\\Users\\\\Cristian.Aparicio\\\\Documents\\\\CONCILIACIONES\\\\2024\\\\01. ENERO\\\\EDO CTA BNTE\\\\BNTE 2024.01.02 PT57.txt',\n",
       " 'C:\\\\Users\\\\Cristian.Aparicio\\\\Documents\\\\CONCILIACIONES\\\\2024\\\\01. ENERO\\\\EDO CTA BNTE\\\\BNTE 2024.01.02 PT58.txt',\n",
       " 'C:\\\\Users\\\\Cristian.Aparicio\\\\Documents\\\\CONCILIACIONES\\\\2024\\\\01. ENERO\\\\EDO CTA BNTE\\\\BNTE 2024.01.02 PT59.txt',\n",
       " 'C:\\\\Users\\\\Cristian.Aparicio\\\\Documents\\\\CONCILIACIONES\\\\2024\\\\01. ENERO\\\\EDO CTA BNTE\\\\BNTE 2024.01.02 PT6.txt',\n",
       " 'C:\\\\Users\\\\Cristian.Aparicio\\\\Documents\\\\CONCILIACIONES\\\\2024\\\\01. ENERO\\\\EDO CTA BNTE\\\\BNTE 2024.01.02 PT7.txt',\n",
       " 'C:\\\\Users\\\\Cristian.Aparicio\\\\Documents\\\\CONCILIACIONES\\\\2024\\\\01. ENERO\\\\EDO CTA BNTE\\\\BNTE 2024.01.02 PT8.txt',\n",
       " 'C:\\\\Users\\\\Cristian.Aparicio\\\\Documents\\\\CONCILIACIONES\\\\2024\\\\01. ENERO\\\\EDO CTA BNTE\\\\BNTE 2024.01.02 PT9.txt',\n",
       " 'C:\\\\Users\\\\Cristian.Aparicio\\\\Documents\\\\CONCILIACIONES\\\\2024\\\\01. ENERO\\\\EDO CTA BNTE\\\\BNTE 2024.01.03.txt',\n",
       " 'C:\\\\Users\\\\Cristian.Aparicio\\\\Documents\\\\CONCILIACIONES\\\\2024\\\\01. ENERO\\\\EDO CTA BNTE\\\\BNTE 2024.01.04.txt',\n",
       " 'C:\\\\Users\\\\Cristian.Aparicio\\\\Documents\\\\CONCILIACIONES\\\\2024\\\\01. ENERO\\\\EDO CTA BNTE\\\\BNTE 2024.01.05.txt',\n",
       " 'C:\\\\Users\\\\Cristian.Aparicio\\\\Documents\\\\CONCILIACIONES\\\\2024\\\\01. ENERO\\\\EDO CTA BNTE\\\\BNTE 2024.01.08 PT1.txt',\n",
       " 'C:\\\\Users\\\\Cristian.Aparicio\\\\Documents\\\\CONCILIACIONES\\\\2024\\\\01. ENERO\\\\EDO CTA BNTE\\\\BNTE 2024.01.08 PT10.txt',\n",
       " 'C:\\\\Users\\\\Cristian.Aparicio\\\\Documents\\\\CONCILIACIONES\\\\2024\\\\01. ENERO\\\\EDO CTA BNTE\\\\BNTE 2024.01.08 PT11.txt',\n",
       " 'C:\\\\Users\\\\Cristian.Aparicio\\\\Documents\\\\CONCILIACIONES\\\\2024\\\\01. ENERO\\\\EDO CTA BNTE\\\\BNTE 2024.01.08 PT12.txt',\n",
       " 'C:\\\\Users\\\\Cristian.Aparicio\\\\Documents\\\\CONCILIACIONES\\\\2024\\\\01. ENERO\\\\EDO CTA BNTE\\\\BNTE 2024.01.08 PT13.txt',\n",
       " 'C:\\\\Users\\\\Cristian.Aparicio\\\\Documents\\\\CONCILIACIONES\\\\2024\\\\01. ENERO\\\\EDO CTA BNTE\\\\BNTE 2024.01.08 PT14.txt',\n",
       " 'C:\\\\Users\\\\Cristian.Aparicio\\\\Documents\\\\CONCILIACIONES\\\\2024\\\\01. ENERO\\\\EDO CTA BNTE\\\\BNTE 2024.01.08 PT15.txt',\n",
       " 'C:\\\\Users\\\\Cristian.Aparicio\\\\Documents\\\\CONCILIACIONES\\\\2024\\\\01. ENERO\\\\EDO CTA BNTE\\\\BNTE 2024.01.08 PT16.txt',\n",
       " 'C:\\\\Users\\\\Cristian.Aparicio\\\\Documents\\\\CONCILIACIONES\\\\2024\\\\01. ENERO\\\\EDO CTA BNTE\\\\BNTE 2024.01.08 PT17.txt',\n",
       " 'C:\\\\Users\\\\Cristian.Aparicio\\\\Documents\\\\CONCILIACIONES\\\\2024\\\\01. ENERO\\\\EDO CTA BNTE\\\\BNTE 2024.01.08 PT18.txt',\n",
       " 'C:\\\\Users\\\\Cristian.Aparicio\\\\Documents\\\\CONCILIACIONES\\\\2024\\\\01. ENERO\\\\EDO CTA BNTE\\\\BNTE 2024.01.08 PT19.txt',\n",
       " 'C:\\\\Users\\\\Cristian.Aparicio\\\\Documents\\\\CONCILIACIONES\\\\2024\\\\01. ENERO\\\\EDO CTA BNTE\\\\BNTE 2024.01.08 PT2.txt',\n",
       " 'C:\\\\Users\\\\Cristian.Aparicio\\\\Documents\\\\CONCILIACIONES\\\\2024\\\\01. ENERO\\\\EDO CTA BNTE\\\\BNTE 2024.01.08 PT20.txt',\n",
       " 'C:\\\\Users\\\\Cristian.Aparicio\\\\Documents\\\\CONCILIACIONES\\\\2024\\\\01. ENERO\\\\EDO CTA BNTE\\\\BNTE 2024.01.08 PT21.txt',\n",
       " 'C:\\\\Users\\\\Cristian.Aparicio\\\\Documents\\\\CONCILIACIONES\\\\2024\\\\01. ENERO\\\\EDO CTA BNTE\\\\BNTE 2024.01.08 PT22.txt',\n",
       " 'C:\\\\Users\\\\Cristian.Aparicio\\\\Documents\\\\CONCILIACIONES\\\\2024\\\\01. ENERO\\\\EDO CTA BNTE\\\\BNTE 2024.01.08 PT23.txt',\n",
       " 'C:\\\\Users\\\\Cristian.Aparicio\\\\Documents\\\\CONCILIACIONES\\\\2024\\\\01. ENERO\\\\EDO CTA BNTE\\\\BNTE 2024.01.08 PT24.txt',\n",
       " 'C:\\\\Users\\\\Cristian.Aparicio\\\\Documents\\\\CONCILIACIONES\\\\2024\\\\01. ENERO\\\\EDO CTA BNTE\\\\BNTE 2024.01.08 PT25.txt',\n",
       " 'C:\\\\Users\\\\Cristian.Aparicio\\\\Documents\\\\CONCILIACIONES\\\\2024\\\\01. ENERO\\\\EDO CTA BNTE\\\\BNTE 2024.01.08 PT26.txt',\n",
       " 'C:\\\\Users\\\\Cristian.Aparicio\\\\Documents\\\\CONCILIACIONES\\\\2024\\\\01. ENERO\\\\EDO CTA BNTE\\\\BNTE 2024.01.08 PT27.txt',\n",
       " 'C:\\\\Users\\\\Cristian.Aparicio\\\\Documents\\\\CONCILIACIONES\\\\2024\\\\01. ENERO\\\\EDO CTA BNTE\\\\BNTE 2024.01.08 PT28.txt',\n",
       " 'C:\\\\Users\\\\Cristian.Aparicio\\\\Documents\\\\CONCILIACIONES\\\\2024\\\\01. ENERO\\\\EDO CTA BNTE\\\\BNTE 2024.01.08 PT29.txt',\n",
       " 'C:\\\\Users\\\\Cristian.Aparicio\\\\Documents\\\\CONCILIACIONES\\\\2024\\\\01. ENERO\\\\EDO CTA BNTE\\\\BNTE 2024.01.08 PT3.txt',\n",
       " 'C:\\\\Users\\\\Cristian.Aparicio\\\\Documents\\\\CONCILIACIONES\\\\2024\\\\01. ENERO\\\\EDO CTA BNTE\\\\BNTE 2024.01.08 PT30.txt',\n",
       " 'C:\\\\Users\\\\Cristian.Aparicio\\\\Documents\\\\CONCILIACIONES\\\\2024\\\\01. ENERO\\\\EDO CTA BNTE\\\\BNTE 2024.01.08 PT31.txt',\n",
       " 'C:\\\\Users\\\\Cristian.Aparicio\\\\Documents\\\\CONCILIACIONES\\\\2024\\\\01. ENERO\\\\EDO CTA BNTE\\\\BNTE 2024.01.08 PT32.txt',\n",
       " 'C:\\\\Users\\\\Cristian.Aparicio\\\\Documents\\\\CONCILIACIONES\\\\2024\\\\01. ENERO\\\\EDO CTA BNTE\\\\BNTE 2024.01.08 PT33.txt',\n",
       " 'C:\\\\Users\\\\Cristian.Aparicio\\\\Documents\\\\CONCILIACIONES\\\\2024\\\\01. ENERO\\\\EDO CTA BNTE\\\\BNTE 2024.01.08 PT34.txt',\n",
       " 'C:\\\\Users\\\\Cristian.Aparicio\\\\Documents\\\\CONCILIACIONES\\\\2024\\\\01. ENERO\\\\EDO CTA BNTE\\\\BNTE 2024.01.08 PT35.txt',\n",
       " 'C:\\\\Users\\\\Cristian.Aparicio\\\\Documents\\\\CONCILIACIONES\\\\2024\\\\01. ENERO\\\\EDO CTA BNTE\\\\BNTE 2024.01.08 PT36.txt',\n",
       " 'C:\\\\Users\\\\Cristian.Aparicio\\\\Documents\\\\CONCILIACIONES\\\\2024\\\\01. ENERO\\\\EDO CTA BNTE\\\\BNTE 2024.01.08 PT37.txt',\n",
       " 'C:\\\\Users\\\\Cristian.Aparicio\\\\Documents\\\\CONCILIACIONES\\\\2024\\\\01. ENERO\\\\EDO CTA BNTE\\\\BNTE 2024.01.08 PT38.txt',\n",
       " 'C:\\\\Users\\\\Cristian.Aparicio\\\\Documents\\\\CONCILIACIONES\\\\2024\\\\01. ENERO\\\\EDO CTA BNTE\\\\BNTE 2024.01.08 PT39.txt',\n",
       " 'C:\\\\Users\\\\Cristian.Aparicio\\\\Documents\\\\CONCILIACIONES\\\\2024\\\\01. ENERO\\\\EDO CTA BNTE\\\\BNTE 2024.01.08 PT4.txt',\n",
       " 'C:\\\\Users\\\\Cristian.Aparicio\\\\Documents\\\\CONCILIACIONES\\\\2024\\\\01. ENERO\\\\EDO CTA BNTE\\\\BNTE 2024.01.08 PT40.txt',\n",
       " 'C:\\\\Users\\\\Cristian.Aparicio\\\\Documents\\\\CONCILIACIONES\\\\2024\\\\01. ENERO\\\\EDO CTA BNTE\\\\BNTE 2024.01.08 PT41.txt',\n",
       " 'C:\\\\Users\\\\Cristian.Aparicio\\\\Documents\\\\CONCILIACIONES\\\\2024\\\\01. ENERO\\\\EDO CTA BNTE\\\\BNTE 2024.01.08 PT42.txt',\n",
       " 'C:\\\\Users\\\\Cristian.Aparicio\\\\Documents\\\\CONCILIACIONES\\\\2024\\\\01. ENERO\\\\EDO CTA BNTE\\\\BNTE 2024.01.08 PT43.txt',\n",
       " 'C:\\\\Users\\\\Cristian.Aparicio\\\\Documents\\\\CONCILIACIONES\\\\2024\\\\01. ENERO\\\\EDO CTA BNTE\\\\BNTE 2024.01.08 PT44.txt',\n",
       " 'C:\\\\Users\\\\Cristian.Aparicio\\\\Documents\\\\CONCILIACIONES\\\\2024\\\\01. ENERO\\\\EDO CTA BNTE\\\\BNTE 2024.01.08 PT5.txt',\n",
       " 'C:\\\\Users\\\\Cristian.Aparicio\\\\Documents\\\\CONCILIACIONES\\\\2024\\\\01. ENERO\\\\EDO CTA BNTE\\\\BNTE 2024.01.08 PT6.txt',\n",
       " 'C:\\\\Users\\\\Cristian.Aparicio\\\\Documents\\\\CONCILIACIONES\\\\2024\\\\01. ENERO\\\\EDO CTA BNTE\\\\BNTE 2024.01.08 PT7.txt',\n",
       " 'C:\\\\Users\\\\Cristian.Aparicio\\\\Documents\\\\CONCILIACIONES\\\\2024\\\\01. ENERO\\\\EDO CTA BNTE\\\\BNTE 2024.01.08 PT8.txt',\n",
       " 'C:\\\\Users\\\\Cristian.Aparicio\\\\Documents\\\\CONCILIACIONES\\\\2024\\\\01. ENERO\\\\EDO CTA BNTE\\\\BNTE 2024.01.08 PT9.txt',\n",
       " 'C:\\\\Users\\\\Cristian.Aparicio\\\\Documents\\\\CONCILIACIONES\\\\2024\\\\01. ENERO\\\\EDO CTA BNTE\\\\BNTE 2024.01.09.txt',\n",
       " 'C:\\\\Users\\\\Cristian.Aparicio\\\\Documents\\\\CONCILIACIONES\\\\2024\\\\01. ENERO\\\\EDO CTA BNTE\\\\BNTE 2024.01.10.txt',\n",
       " 'C:\\\\Users\\\\Cristian.Aparicio\\\\Documents\\\\CONCILIACIONES\\\\2024\\\\01. ENERO\\\\EDO CTA BNTE\\\\BNTE 2024.01.11.txt',\n",
       " 'C:\\\\Users\\\\Cristian.Aparicio\\\\Documents\\\\CONCILIACIONES\\\\2024\\\\01. ENERO\\\\EDO CTA BNTE\\\\BNTE 2024.01.12.txt',\n",
       " 'C:\\\\Users\\\\Cristian.Aparicio\\\\Documents\\\\CONCILIACIONES\\\\2024\\\\01. ENERO\\\\EDO CTA BNTE\\\\BNTE 2024.01.15 PT1.txt',\n",
       " 'C:\\\\Users\\\\Cristian.Aparicio\\\\Documents\\\\CONCILIACIONES\\\\2024\\\\01. ENERO\\\\EDO CTA BNTE\\\\BNTE 2024.01.15 PT10.txt',\n",
       " 'C:\\\\Users\\\\Cristian.Aparicio\\\\Documents\\\\CONCILIACIONES\\\\2024\\\\01. ENERO\\\\EDO CTA BNTE\\\\BNTE 2024.01.15 PT11.txt',\n",
       " 'C:\\\\Users\\\\Cristian.Aparicio\\\\Documents\\\\CONCILIACIONES\\\\2024\\\\01. ENERO\\\\EDO CTA BNTE\\\\BNTE 2024.01.15 PT12.txt',\n",
       " 'C:\\\\Users\\\\Cristian.Aparicio\\\\Documents\\\\CONCILIACIONES\\\\2024\\\\01. ENERO\\\\EDO CTA BNTE\\\\BNTE 2024.01.15 PT13.txt',\n",
       " 'C:\\\\Users\\\\Cristian.Aparicio\\\\Documents\\\\CONCILIACIONES\\\\2024\\\\01. ENERO\\\\EDO CTA BNTE\\\\BNTE 2024.01.15 PT14.txt',\n",
       " 'C:\\\\Users\\\\Cristian.Aparicio\\\\Documents\\\\CONCILIACIONES\\\\2024\\\\01. ENERO\\\\EDO CTA BNTE\\\\BNTE 2024.01.15 PT15.txt',\n",
       " 'C:\\\\Users\\\\Cristian.Aparicio\\\\Documents\\\\CONCILIACIONES\\\\2024\\\\01. ENERO\\\\EDO CTA BNTE\\\\BNTE 2024.01.15 PT16.txt',\n",
       " 'C:\\\\Users\\\\Cristian.Aparicio\\\\Documents\\\\CONCILIACIONES\\\\2024\\\\01. ENERO\\\\EDO CTA BNTE\\\\BNTE 2024.01.15 PT17.txt',\n",
       " 'C:\\\\Users\\\\Cristian.Aparicio\\\\Documents\\\\CONCILIACIONES\\\\2024\\\\01. ENERO\\\\EDO CTA BNTE\\\\BNTE 2024.01.15 PT18.txt',\n",
       " 'C:\\\\Users\\\\Cristian.Aparicio\\\\Documents\\\\CONCILIACIONES\\\\2024\\\\01. ENERO\\\\EDO CTA BNTE\\\\BNTE 2024.01.15 PT19.txt',\n",
       " 'C:\\\\Users\\\\Cristian.Aparicio\\\\Documents\\\\CONCILIACIONES\\\\2024\\\\01. ENERO\\\\EDO CTA BNTE\\\\BNTE 2024.01.15 PT2.txt',\n",
       " 'C:\\\\Users\\\\Cristian.Aparicio\\\\Documents\\\\CONCILIACIONES\\\\2024\\\\01. ENERO\\\\EDO CTA BNTE\\\\BNTE 2024.01.15 PT20.txt',\n",
       " 'C:\\\\Users\\\\Cristian.Aparicio\\\\Documents\\\\CONCILIACIONES\\\\2024\\\\01. ENERO\\\\EDO CTA BNTE\\\\BNTE 2024.01.15 PT21.txt',\n",
       " 'C:\\\\Users\\\\Cristian.Aparicio\\\\Documents\\\\CONCILIACIONES\\\\2024\\\\01. ENERO\\\\EDO CTA BNTE\\\\BNTE 2024.01.15 PT22.txt',\n",
       " 'C:\\\\Users\\\\Cristian.Aparicio\\\\Documents\\\\CONCILIACIONES\\\\2024\\\\01. ENERO\\\\EDO CTA BNTE\\\\BNTE 2024.01.15 PT23.txt',\n",
       " 'C:\\\\Users\\\\Cristian.Aparicio\\\\Documents\\\\CONCILIACIONES\\\\2024\\\\01. ENERO\\\\EDO CTA BNTE\\\\BNTE 2024.01.15 PT24.txt',\n",
       " 'C:\\\\Users\\\\Cristian.Aparicio\\\\Documents\\\\CONCILIACIONES\\\\2024\\\\01. ENERO\\\\EDO CTA BNTE\\\\BNTE 2024.01.15 PT25.txt',\n",
       " 'C:\\\\Users\\\\Cristian.Aparicio\\\\Documents\\\\CONCILIACIONES\\\\2024\\\\01. ENERO\\\\EDO CTA BNTE\\\\BNTE 2024.01.15 PT26.txt',\n",
       " 'C:\\\\Users\\\\Cristian.Aparicio\\\\Documents\\\\CONCILIACIONES\\\\2024\\\\01. ENERO\\\\EDO CTA BNTE\\\\BNTE 2024.01.15 PT27.txt',\n",
       " 'C:\\\\Users\\\\Cristian.Aparicio\\\\Documents\\\\CONCILIACIONES\\\\2024\\\\01. ENERO\\\\EDO CTA BNTE\\\\BNTE 2024.01.15 PT28.txt',\n",
       " 'C:\\\\Users\\\\Cristian.Aparicio\\\\Documents\\\\CONCILIACIONES\\\\2024\\\\01. ENERO\\\\EDO CTA BNTE\\\\BNTE 2024.01.15 PT29.txt',\n",
       " 'C:\\\\Users\\\\Cristian.Aparicio\\\\Documents\\\\CONCILIACIONES\\\\2024\\\\01. ENERO\\\\EDO CTA BNTE\\\\BNTE 2024.01.15 PT3.txt',\n",
       " 'C:\\\\Users\\\\Cristian.Aparicio\\\\Documents\\\\CONCILIACIONES\\\\2024\\\\01. ENERO\\\\EDO CTA BNTE\\\\BNTE 2024.01.15 PT30.txt',\n",
       " 'C:\\\\Users\\\\Cristian.Aparicio\\\\Documents\\\\CONCILIACIONES\\\\2024\\\\01. ENERO\\\\EDO CTA BNTE\\\\BNTE 2024.01.15 PT31.txt',\n",
       " 'C:\\\\Users\\\\Cristian.Aparicio\\\\Documents\\\\CONCILIACIONES\\\\2024\\\\01. ENERO\\\\EDO CTA BNTE\\\\BNTE 2024.01.15 PT32.txt',\n",
       " 'C:\\\\Users\\\\Cristian.Aparicio\\\\Documents\\\\CONCILIACIONES\\\\2024\\\\01. ENERO\\\\EDO CTA BNTE\\\\BNTE 2024.01.15 PT33.txt',\n",
       " 'C:\\\\Users\\\\Cristian.Aparicio\\\\Documents\\\\CONCILIACIONES\\\\2024\\\\01. ENERO\\\\EDO CTA BNTE\\\\BNTE 2024.01.15 PT34.txt',\n",
       " 'C:\\\\Users\\\\Cristian.Aparicio\\\\Documents\\\\CONCILIACIONES\\\\2024\\\\01. ENERO\\\\EDO CTA BNTE\\\\BNTE 2024.01.15 PT35.txt',\n",
       " 'C:\\\\Users\\\\Cristian.Aparicio\\\\Documents\\\\CONCILIACIONES\\\\2024\\\\01. ENERO\\\\EDO CTA BNTE\\\\BNTE 2024.01.15 PT36.txt',\n",
       " 'C:\\\\Users\\\\Cristian.Aparicio\\\\Documents\\\\CONCILIACIONES\\\\2024\\\\01. ENERO\\\\EDO CTA BNTE\\\\BNTE 2024.01.15 PT37.txt',\n",
       " 'C:\\\\Users\\\\Cristian.Aparicio\\\\Documents\\\\CONCILIACIONES\\\\2024\\\\01. ENERO\\\\EDO CTA BNTE\\\\BNTE 2024.01.15 PT38.txt',\n",
       " 'C:\\\\Users\\\\Cristian.Aparicio\\\\Documents\\\\CONCILIACIONES\\\\2024\\\\01. ENERO\\\\EDO CTA BNTE\\\\BNTE 2024.01.15 PT39.txt',\n",
       " 'C:\\\\Users\\\\Cristian.Aparicio\\\\Documents\\\\CONCILIACIONES\\\\2024\\\\01. ENERO\\\\EDO CTA BNTE\\\\BNTE 2024.01.15 PT4.txt',\n",
       " 'C:\\\\Users\\\\Cristian.Aparicio\\\\Documents\\\\CONCILIACIONES\\\\2024\\\\01. ENERO\\\\EDO CTA BNTE\\\\BNTE 2024.01.15 PT40.txt',\n",
       " 'C:\\\\Users\\\\Cristian.Aparicio\\\\Documents\\\\CONCILIACIONES\\\\2024\\\\01. ENERO\\\\EDO CTA BNTE\\\\BNTE 2024.01.15 PT41.txt',\n",
       " 'C:\\\\Users\\\\Cristian.Aparicio\\\\Documents\\\\CONCILIACIONES\\\\2024\\\\01. ENERO\\\\EDO CTA BNTE\\\\BNTE 2024.01.15 PT42.txt',\n",
       " 'C:\\\\Users\\\\Cristian.Aparicio\\\\Documents\\\\CONCILIACIONES\\\\2024\\\\01. ENERO\\\\EDO CTA BNTE\\\\BNTE 2024.01.15 PT43.txt',\n",
       " 'C:\\\\Users\\\\Cristian.Aparicio\\\\Documents\\\\CONCILIACIONES\\\\2024\\\\01. ENERO\\\\EDO CTA BNTE\\\\BNTE 2024.01.15 PT44.txt',\n",
       " 'C:\\\\Users\\\\Cristian.Aparicio\\\\Documents\\\\CONCILIACIONES\\\\2024\\\\01. ENERO\\\\EDO CTA BNTE\\\\BNTE 2024.01.15 PT45.txt',\n",
       " 'C:\\\\Users\\\\Cristian.Aparicio\\\\Documents\\\\CONCILIACIONES\\\\2024\\\\01. ENERO\\\\EDO CTA BNTE\\\\BNTE 2024.01.15 PT46.txt',\n",
       " 'C:\\\\Users\\\\Cristian.Aparicio\\\\Documents\\\\CONCILIACIONES\\\\2024\\\\01. ENERO\\\\EDO CTA BNTE\\\\BNTE 2024.01.15 PT5.txt',\n",
       " 'C:\\\\Users\\\\Cristian.Aparicio\\\\Documents\\\\CONCILIACIONES\\\\2024\\\\01. ENERO\\\\EDO CTA BNTE\\\\BNTE 2024.01.15 PT6.txt',\n",
       " 'C:\\\\Users\\\\Cristian.Aparicio\\\\Documents\\\\CONCILIACIONES\\\\2024\\\\01. ENERO\\\\EDO CTA BNTE\\\\BNTE 2024.01.15 PT7.txt',\n",
       " 'C:\\\\Users\\\\Cristian.Aparicio\\\\Documents\\\\CONCILIACIONES\\\\2024\\\\01. ENERO\\\\EDO CTA BNTE\\\\BNTE 2024.01.15 PT8.txt',\n",
       " 'C:\\\\Users\\\\Cristian.Aparicio\\\\Documents\\\\CONCILIACIONES\\\\2024\\\\01. ENERO\\\\EDO CTA BNTE\\\\BNTE 2024.01.15 PT9.txt',\n",
       " 'C:\\\\Users\\\\Cristian.Aparicio\\\\Documents\\\\CONCILIACIONES\\\\2024\\\\01. ENERO\\\\EDO CTA BNTE\\\\BNTE 2024.01.16.txt',\n",
       " 'C:\\\\Users\\\\Cristian.Aparicio\\\\Documents\\\\CONCILIACIONES\\\\2024\\\\01. ENERO\\\\EDO CTA BNTE\\\\BNTE 2024.01.17.txt',\n",
       " 'C:\\\\Users\\\\Cristian.Aparicio\\\\Documents\\\\CONCILIACIONES\\\\2024\\\\01. ENERO\\\\EDO CTA BNTE\\\\BNTE 2024.01.18.txt',\n",
       " 'C:\\\\Users\\\\Cristian.Aparicio\\\\Documents\\\\CONCILIACIONES\\\\2024\\\\01. ENERO\\\\EDO CTA BNTE\\\\BNTE 2024.01.19.txt',\n",
       " 'C:\\\\Users\\\\Cristian.Aparicio\\\\Documents\\\\CONCILIACIONES\\\\2024\\\\01. ENERO\\\\EDO CTA BNTE\\\\BNTE 2024.01.22 PT1.txt',\n",
       " 'C:\\\\Users\\\\Cristian.Aparicio\\\\Documents\\\\CONCILIACIONES\\\\2024\\\\01. ENERO\\\\EDO CTA BNTE\\\\BNTE 2024.01.22 PT10.txt',\n",
       " 'C:\\\\Users\\\\Cristian.Aparicio\\\\Documents\\\\CONCILIACIONES\\\\2024\\\\01. ENERO\\\\EDO CTA BNTE\\\\BNTE 2024.01.22 PT11.txt',\n",
       " 'C:\\\\Users\\\\Cristian.Aparicio\\\\Documents\\\\CONCILIACIONES\\\\2024\\\\01. ENERO\\\\EDO CTA BNTE\\\\BNTE 2024.01.22 PT12.txt',\n",
       " 'C:\\\\Users\\\\Cristian.Aparicio\\\\Documents\\\\CONCILIACIONES\\\\2024\\\\01. ENERO\\\\EDO CTA BNTE\\\\BNTE 2024.01.22 PT13.txt',\n",
       " 'C:\\\\Users\\\\Cristian.Aparicio\\\\Documents\\\\CONCILIACIONES\\\\2024\\\\01. ENERO\\\\EDO CTA BNTE\\\\BNTE 2024.01.22 PT14.txt',\n",
       " 'C:\\\\Users\\\\Cristian.Aparicio\\\\Documents\\\\CONCILIACIONES\\\\2024\\\\01. ENERO\\\\EDO CTA BNTE\\\\BNTE 2024.01.22 PT15.txt',\n",
       " 'C:\\\\Users\\\\Cristian.Aparicio\\\\Documents\\\\CONCILIACIONES\\\\2024\\\\01. ENERO\\\\EDO CTA BNTE\\\\BNTE 2024.01.22 PT16.txt',\n",
       " 'C:\\\\Users\\\\Cristian.Aparicio\\\\Documents\\\\CONCILIACIONES\\\\2024\\\\01. ENERO\\\\EDO CTA BNTE\\\\BNTE 2024.01.22 PT17.txt',\n",
       " 'C:\\\\Users\\\\Cristian.Aparicio\\\\Documents\\\\CONCILIACIONES\\\\2024\\\\01. ENERO\\\\EDO CTA BNTE\\\\BNTE 2024.01.22 PT18.txt',\n",
       " 'C:\\\\Users\\\\Cristian.Aparicio\\\\Documents\\\\CONCILIACIONES\\\\2024\\\\01. ENERO\\\\EDO CTA BNTE\\\\BNTE 2024.01.22 PT19.txt',\n",
       " 'C:\\\\Users\\\\Cristian.Aparicio\\\\Documents\\\\CONCILIACIONES\\\\2024\\\\01. ENERO\\\\EDO CTA BNTE\\\\BNTE 2024.01.22 PT2.txt',\n",
       " 'C:\\\\Users\\\\Cristian.Aparicio\\\\Documents\\\\CONCILIACIONES\\\\2024\\\\01. ENERO\\\\EDO CTA BNTE\\\\BNTE 2024.01.22 PT20.txt',\n",
       " 'C:\\\\Users\\\\Cristian.Aparicio\\\\Documents\\\\CONCILIACIONES\\\\2024\\\\01. ENERO\\\\EDO CTA BNTE\\\\BNTE 2024.01.22 PT21.txt',\n",
       " 'C:\\\\Users\\\\Cristian.Aparicio\\\\Documents\\\\CONCILIACIONES\\\\2024\\\\01. ENERO\\\\EDO CTA BNTE\\\\BNTE 2024.01.22 PT22.txt',\n",
       " 'C:\\\\Users\\\\Cristian.Aparicio\\\\Documents\\\\CONCILIACIONES\\\\2024\\\\01. ENERO\\\\EDO CTA BNTE\\\\BNTE 2024.01.22 PT23.txt',\n",
       " 'C:\\\\Users\\\\Cristian.Aparicio\\\\Documents\\\\CONCILIACIONES\\\\2024\\\\01. ENERO\\\\EDO CTA BNTE\\\\BNTE 2024.01.22 PT24.txt',\n",
       " 'C:\\\\Users\\\\Cristian.Aparicio\\\\Documents\\\\CONCILIACIONES\\\\2024\\\\01. ENERO\\\\EDO CTA BNTE\\\\BNTE 2024.01.22 PT25.txt',\n",
       " 'C:\\\\Users\\\\Cristian.Aparicio\\\\Documents\\\\CONCILIACIONES\\\\2024\\\\01. ENERO\\\\EDO CTA BNTE\\\\BNTE 2024.01.22 PT26.txt',\n",
       " 'C:\\\\Users\\\\Cristian.Aparicio\\\\Documents\\\\CONCILIACIONES\\\\2024\\\\01. ENERO\\\\EDO CTA BNTE\\\\BNTE 2024.01.22 PT27.txt',\n",
       " 'C:\\\\Users\\\\Cristian.Aparicio\\\\Documents\\\\CONCILIACIONES\\\\2024\\\\01. ENERO\\\\EDO CTA BNTE\\\\BNTE 2024.01.22 PT28.txt',\n",
       " 'C:\\\\Users\\\\Cristian.Aparicio\\\\Documents\\\\CONCILIACIONES\\\\2024\\\\01. ENERO\\\\EDO CTA BNTE\\\\BNTE 2024.01.22 PT29.txt',\n",
       " 'C:\\\\Users\\\\Cristian.Aparicio\\\\Documents\\\\CONCILIACIONES\\\\2024\\\\01. ENERO\\\\EDO CTA BNTE\\\\BNTE 2024.01.22 PT3.txt',\n",
       " 'C:\\\\Users\\\\Cristian.Aparicio\\\\Documents\\\\CONCILIACIONES\\\\2024\\\\01. ENERO\\\\EDO CTA BNTE\\\\BNTE 2024.01.22 PT30.txt',\n",
       " 'C:\\\\Users\\\\Cristian.Aparicio\\\\Documents\\\\CONCILIACIONES\\\\2024\\\\01. ENERO\\\\EDO CTA BNTE\\\\BNTE 2024.01.22 PT31.txt',\n",
       " 'C:\\\\Users\\\\Cristian.Aparicio\\\\Documents\\\\CONCILIACIONES\\\\2024\\\\01. ENERO\\\\EDO CTA BNTE\\\\BNTE 2024.01.22 PT32.txt',\n",
       " 'C:\\\\Users\\\\Cristian.Aparicio\\\\Documents\\\\CONCILIACIONES\\\\2024\\\\01. ENERO\\\\EDO CTA BNTE\\\\BNTE 2024.01.22 PT33.txt',\n",
       " 'C:\\\\Users\\\\Cristian.Aparicio\\\\Documents\\\\CONCILIACIONES\\\\2024\\\\01. ENERO\\\\EDO CTA BNTE\\\\BNTE 2024.01.22 PT34.txt',\n",
       " 'C:\\\\Users\\\\Cristian.Aparicio\\\\Documents\\\\CONCILIACIONES\\\\2024\\\\01. ENERO\\\\EDO CTA BNTE\\\\BNTE 2024.01.22 PT35.txt',\n",
       " 'C:\\\\Users\\\\Cristian.Aparicio\\\\Documents\\\\CONCILIACIONES\\\\2024\\\\01. ENERO\\\\EDO CTA BNTE\\\\BNTE 2024.01.22 PT36.txt',\n",
       " 'C:\\\\Users\\\\Cristian.Aparicio\\\\Documents\\\\CONCILIACIONES\\\\2024\\\\01. ENERO\\\\EDO CTA BNTE\\\\BNTE 2024.01.22 PT37.txt',\n",
       " 'C:\\\\Users\\\\Cristian.Aparicio\\\\Documents\\\\CONCILIACIONES\\\\2024\\\\01. ENERO\\\\EDO CTA BNTE\\\\BNTE 2024.01.22 PT38.txt',\n",
       " 'C:\\\\Users\\\\Cristian.Aparicio\\\\Documents\\\\CONCILIACIONES\\\\2024\\\\01. ENERO\\\\EDO CTA BNTE\\\\BNTE 2024.01.22 PT39.txt',\n",
       " 'C:\\\\Users\\\\Cristian.Aparicio\\\\Documents\\\\CONCILIACIONES\\\\2024\\\\01. ENERO\\\\EDO CTA BNTE\\\\BNTE 2024.01.22 PT4.txt',\n",
       " 'C:\\\\Users\\\\Cristian.Aparicio\\\\Documents\\\\CONCILIACIONES\\\\2024\\\\01. ENERO\\\\EDO CTA BNTE\\\\BNTE 2024.01.22 PT40.txt',\n",
       " 'C:\\\\Users\\\\Cristian.Aparicio\\\\Documents\\\\CONCILIACIONES\\\\2024\\\\01. ENERO\\\\EDO CTA BNTE\\\\BNTE 2024.01.22 PT41.txt',\n",
       " 'C:\\\\Users\\\\Cristian.Aparicio\\\\Documents\\\\CONCILIACIONES\\\\2024\\\\01. ENERO\\\\EDO CTA BNTE\\\\BNTE 2024.01.22 PT42.txt',\n",
       " 'C:\\\\Users\\\\Cristian.Aparicio\\\\Documents\\\\CONCILIACIONES\\\\2024\\\\01. ENERO\\\\EDO CTA BNTE\\\\BNTE 2024.01.22 PT43.txt',\n",
       " 'C:\\\\Users\\\\Cristian.Aparicio\\\\Documents\\\\CONCILIACIONES\\\\2024\\\\01. ENERO\\\\EDO CTA BNTE\\\\BNTE 2024.01.22 PT44.txt',\n",
       " 'C:\\\\Users\\\\Cristian.Aparicio\\\\Documents\\\\CONCILIACIONES\\\\2024\\\\01. ENERO\\\\EDO CTA BNTE\\\\BNTE 2024.01.22 PT45.txt',\n",
       " 'C:\\\\Users\\\\Cristian.Aparicio\\\\Documents\\\\CONCILIACIONES\\\\2024\\\\01. ENERO\\\\EDO CTA BNTE\\\\BNTE 2024.01.22 PT46.txt',\n",
       " 'C:\\\\Users\\\\Cristian.Aparicio\\\\Documents\\\\CONCILIACIONES\\\\2024\\\\01. ENERO\\\\EDO CTA BNTE\\\\BNTE 2024.01.22 PT5.txt',\n",
       " 'C:\\\\Users\\\\Cristian.Aparicio\\\\Documents\\\\CONCILIACIONES\\\\2024\\\\01. ENERO\\\\EDO CTA BNTE\\\\BNTE 2024.01.22 PT6.txt',\n",
       " 'C:\\\\Users\\\\Cristian.Aparicio\\\\Documents\\\\CONCILIACIONES\\\\2024\\\\01. ENERO\\\\EDO CTA BNTE\\\\BNTE 2024.01.22 PT7.txt',\n",
       " 'C:\\\\Users\\\\Cristian.Aparicio\\\\Documents\\\\CONCILIACIONES\\\\2024\\\\01. ENERO\\\\EDO CTA BNTE\\\\BNTE 2024.01.22 PT8.txt',\n",
       " 'C:\\\\Users\\\\Cristian.Aparicio\\\\Documents\\\\CONCILIACIONES\\\\2024\\\\01. ENERO\\\\EDO CTA BNTE\\\\BNTE 2024.01.22 PT9.txt',\n",
       " 'C:\\\\Users\\\\Cristian.Aparicio\\\\Documents\\\\CONCILIACIONES\\\\2024\\\\01. ENERO\\\\EDO CTA BNTE\\\\BNTE 2024.01.23.txt',\n",
       " 'C:\\\\Users\\\\Cristian.Aparicio\\\\Documents\\\\CONCILIACIONES\\\\2024\\\\01. ENERO\\\\EDO CTA BNTE\\\\BNTE 2024.01.24.txt',\n",
       " 'C:\\\\Users\\\\Cristian.Aparicio\\\\Documents\\\\CONCILIACIONES\\\\2024\\\\01. ENERO\\\\EDO CTA BNTE\\\\BNTE 2024.01.25.txt',\n",
       " 'C:\\\\Users\\\\Cristian.Aparicio\\\\Documents\\\\CONCILIACIONES\\\\2024\\\\01. ENERO\\\\EDO CTA BNTE\\\\BNTE 2024.01.26.txt',\n",
       " 'C:\\\\Users\\\\Cristian.Aparicio\\\\Documents\\\\CONCILIACIONES\\\\2024\\\\01. ENERO\\\\EDO CTA BNTE\\\\BNTE 2024.01.29 PT1.txt',\n",
       " 'C:\\\\Users\\\\Cristian.Aparicio\\\\Documents\\\\CONCILIACIONES\\\\2024\\\\01. ENERO\\\\EDO CTA BNTE\\\\BNTE 2024.01.29 PT10.txt',\n",
       " 'C:\\\\Users\\\\Cristian.Aparicio\\\\Documents\\\\CONCILIACIONES\\\\2024\\\\01. ENERO\\\\EDO CTA BNTE\\\\BNTE 2024.01.29 PT11.txt',\n",
       " 'C:\\\\Users\\\\Cristian.Aparicio\\\\Documents\\\\CONCILIACIONES\\\\2024\\\\01. ENERO\\\\EDO CTA BNTE\\\\BNTE 2024.01.29 PT12.txt',\n",
       " 'C:\\\\Users\\\\Cristian.Aparicio\\\\Documents\\\\CONCILIACIONES\\\\2024\\\\01. ENERO\\\\EDO CTA BNTE\\\\BNTE 2024.01.29 PT13.txt',\n",
       " 'C:\\\\Users\\\\Cristian.Aparicio\\\\Documents\\\\CONCILIACIONES\\\\2024\\\\01. ENERO\\\\EDO CTA BNTE\\\\BNTE 2024.01.29 PT14.txt',\n",
       " 'C:\\\\Users\\\\Cristian.Aparicio\\\\Documents\\\\CONCILIACIONES\\\\2024\\\\01. ENERO\\\\EDO CTA BNTE\\\\BNTE 2024.01.29 PT15.txt',\n",
       " 'C:\\\\Users\\\\Cristian.Aparicio\\\\Documents\\\\CONCILIACIONES\\\\2024\\\\01. ENERO\\\\EDO CTA BNTE\\\\BNTE 2024.01.29 PT16.txt',\n",
       " 'C:\\\\Users\\\\Cristian.Aparicio\\\\Documents\\\\CONCILIACIONES\\\\2024\\\\01. ENERO\\\\EDO CTA BNTE\\\\BNTE 2024.01.29 PT17.txt',\n",
       " 'C:\\\\Users\\\\Cristian.Aparicio\\\\Documents\\\\CONCILIACIONES\\\\2024\\\\01. ENERO\\\\EDO CTA BNTE\\\\BNTE 2024.01.29 PT18.txt',\n",
       " 'C:\\\\Users\\\\Cristian.Aparicio\\\\Documents\\\\CONCILIACIONES\\\\2024\\\\01. ENERO\\\\EDO CTA BNTE\\\\BNTE 2024.01.29 PT19.txt',\n",
       " 'C:\\\\Users\\\\Cristian.Aparicio\\\\Documents\\\\CONCILIACIONES\\\\2024\\\\01. ENERO\\\\EDO CTA BNTE\\\\BNTE 2024.01.29 PT2.txt',\n",
       " 'C:\\\\Users\\\\Cristian.Aparicio\\\\Documents\\\\CONCILIACIONES\\\\2024\\\\01. ENERO\\\\EDO CTA BNTE\\\\BNTE 2024.01.29 PT20.txt',\n",
       " 'C:\\\\Users\\\\Cristian.Aparicio\\\\Documents\\\\CONCILIACIONES\\\\2024\\\\01. ENERO\\\\EDO CTA BNTE\\\\BNTE 2024.01.29 PT21.txt',\n",
       " 'C:\\\\Users\\\\Cristian.Aparicio\\\\Documents\\\\CONCILIACIONES\\\\2024\\\\01. ENERO\\\\EDO CTA BNTE\\\\BNTE 2024.01.29 PT22.txt',\n",
       " 'C:\\\\Users\\\\Cristian.Aparicio\\\\Documents\\\\CONCILIACIONES\\\\2024\\\\01. ENERO\\\\EDO CTA BNTE\\\\BNTE 2024.01.29 PT23.txt',\n",
       " 'C:\\\\Users\\\\Cristian.Aparicio\\\\Documents\\\\CONCILIACIONES\\\\2024\\\\01. ENERO\\\\EDO CTA BNTE\\\\BNTE 2024.01.29 PT24.txt',\n",
       " 'C:\\\\Users\\\\Cristian.Aparicio\\\\Documents\\\\CONCILIACIONES\\\\2024\\\\01. ENERO\\\\EDO CTA BNTE\\\\BNTE 2024.01.29 PT25.txt',\n",
       " 'C:\\\\Users\\\\Cristian.Aparicio\\\\Documents\\\\CONCILIACIONES\\\\2024\\\\01. ENERO\\\\EDO CTA BNTE\\\\BNTE 2024.01.29 PT26.txt',\n",
       " 'C:\\\\Users\\\\Cristian.Aparicio\\\\Documents\\\\CONCILIACIONES\\\\2024\\\\01. ENERO\\\\EDO CTA BNTE\\\\BNTE 2024.01.29 PT27.txt',\n",
       " 'C:\\\\Users\\\\Cristian.Aparicio\\\\Documents\\\\CONCILIACIONES\\\\2024\\\\01. ENERO\\\\EDO CTA BNTE\\\\BNTE 2024.01.29 PT28.txt',\n",
       " 'C:\\\\Users\\\\Cristian.Aparicio\\\\Documents\\\\CONCILIACIONES\\\\2024\\\\01. ENERO\\\\EDO CTA BNTE\\\\BNTE 2024.01.29 PT29.txt',\n",
       " 'C:\\\\Users\\\\Cristian.Aparicio\\\\Documents\\\\CONCILIACIONES\\\\2024\\\\01. ENERO\\\\EDO CTA BNTE\\\\BNTE 2024.01.29 PT3.txt',\n",
       " 'C:\\\\Users\\\\Cristian.Aparicio\\\\Documents\\\\CONCILIACIONES\\\\2024\\\\01. ENERO\\\\EDO CTA BNTE\\\\BNTE 2024.01.29 PT30.txt',\n",
       " 'C:\\\\Users\\\\Cristian.Aparicio\\\\Documents\\\\CONCILIACIONES\\\\2024\\\\01. ENERO\\\\EDO CTA BNTE\\\\BNTE 2024.01.29 PT31.txt',\n",
       " 'C:\\\\Users\\\\Cristian.Aparicio\\\\Documents\\\\CONCILIACIONES\\\\2024\\\\01. ENERO\\\\EDO CTA BNTE\\\\BNTE 2024.01.29 PT32.txt',\n",
       " 'C:\\\\Users\\\\Cristian.Aparicio\\\\Documents\\\\CONCILIACIONES\\\\2024\\\\01. ENERO\\\\EDO CTA BNTE\\\\BNTE 2024.01.29 PT33.txt',\n",
       " 'C:\\\\Users\\\\Cristian.Aparicio\\\\Documents\\\\CONCILIACIONES\\\\2024\\\\01. ENERO\\\\EDO CTA BNTE\\\\BNTE 2024.01.29 PT34.txt',\n",
       " 'C:\\\\Users\\\\Cristian.Aparicio\\\\Documents\\\\CONCILIACIONES\\\\2024\\\\01. ENERO\\\\EDO CTA BNTE\\\\BNTE 2024.01.29 PT35.txt',\n",
       " 'C:\\\\Users\\\\Cristian.Aparicio\\\\Documents\\\\CONCILIACIONES\\\\2024\\\\01. ENERO\\\\EDO CTA BNTE\\\\BNTE 2024.01.29 PT36.txt',\n",
       " 'C:\\\\Users\\\\Cristian.Aparicio\\\\Documents\\\\CONCILIACIONES\\\\2024\\\\01. ENERO\\\\EDO CTA BNTE\\\\BNTE 2024.01.29 PT37.txt',\n",
       " 'C:\\\\Users\\\\Cristian.Aparicio\\\\Documents\\\\CONCILIACIONES\\\\2024\\\\01. ENERO\\\\EDO CTA BNTE\\\\BNTE 2024.01.29 PT38.txt',\n",
       " 'C:\\\\Users\\\\Cristian.Aparicio\\\\Documents\\\\CONCILIACIONES\\\\2024\\\\01. ENERO\\\\EDO CTA BNTE\\\\BNTE 2024.01.29 PT39.txt',\n",
       " 'C:\\\\Users\\\\Cristian.Aparicio\\\\Documents\\\\CONCILIACIONES\\\\2024\\\\01. ENERO\\\\EDO CTA BNTE\\\\BNTE 2024.01.29 PT4.txt',\n",
       " 'C:\\\\Users\\\\Cristian.Aparicio\\\\Documents\\\\CONCILIACIONES\\\\2024\\\\01. ENERO\\\\EDO CTA BNTE\\\\BNTE 2024.01.29 PT40.txt',\n",
       " 'C:\\\\Users\\\\Cristian.Aparicio\\\\Documents\\\\CONCILIACIONES\\\\2024\\\\01. ENERO\\\\EDO CTA BNTE\\\\BNTE 2024.01.29 PT41.txt',\n",
       " 'C:\\\\Users\\\\Cristian.Aparicio\\\\Documents\\\\CONCILIACIONES\\\\2024\\\\01. ENERO\\\\EDO CTA BNTE\\\\BNTE 2024.01.29 PT42.txt',\n",
       " 'C:\\\\Users\\\\Cristian.Aparicio\\\\Documents\\\\CONCILIACIONES\\\\2024\\\\01. ENERO\\\\EDO CTA BNTE\\\\BNTE 2024.01.29 PT43.txt',\n",
       " 'C:\\\\Users\\\\Cristian.Aparicio\\\\Documents\\\\CONCILIACIONES\\\\2024\\\\01. ENERO\\\\EDO CTA BNTE\\\\BNTE 2024.01.29 PT44.txt',\n",
       " 'C:\\\\Users\\\\Cristian.Aparicio\\\\Documents\\\\CONCILIACIONES\\\\2024\\\\01. ENERO\\\\EDO CTA BNTE\\\\BNTE 2024.01.29 PT45.txt',\n",
       " 'C:\\\\Users\\\\Cristian.Aparicio\\\\Documents\\\\CONCILIACIONES\\\\2024\\\\01. ENERO\\\\EDO CTA BNTE\\\\BNTE 2024.01.29 PT46.txt',\n",
       " 'C:\\\\Users\\\\Cristian.Aparicio\\\\Documents\\\\CONCILIACIONES\\\\2024\\\\01. ENERO\\\\EDO CTA BNTE\\\\BNTE 2024.01.29 PT47.txt',\n",
       " 'C:\\\\Users\\\\Cristian.Aparicio\\\\Documents\\\\CONCILIACIONES\\\\2024\\\\01. ENERO\\\\EDO CTA BNTE\\\\BNTE 2024.01.29 PT5.txt',\n",
       " 'C:\\\\Users\\\\Cristian.Aparicio\\\\Documents\\\\CONCILIACIONES\\\\2024\\\\01. ENERO\\\\EDO CTA BNTE\\\\BNTE 2024.01.29 PT6.txt',\n",
       " 'C:\\\\Users\\\\Cristian.Aparicio\\\\Documents\\\\CONCILIACIONES\\\\2024\\\\01. ENERO\\\\EDO CTA BNTE\\\\BNTE 2024.01.29 PT7.txt',\n",
       " 'C:\\\\Users\\\\Cristian.Aparicio\\\\Documents\\\\CONCILIACIONES\\\\2024\\\\01. ENERO\\\\EDO CTA BNTE\\\\BNTE 2024.01.29 PT8.txt',\n",
       " 'C:\\\\Users\\\\Cristian.Aparicio\\\\Documents\\\\CONCILIACIONES\\\\2024\\\\01. ENERO\\\\EDO CTA BNTE\\\\BNTE 2024.01.29 PT9.txt',\n",
       " 'C:\\\\Users\\\\Cristian.Aparicio\\\\Documents\\\\CONCILIACIONES\\\\2024\\\\01. ENERO\\\\EDO CTA BNTE\\\\BNTE 2024.01.30.txt',\n",
       " 'C:\\\\Users\\\\Cristian.Aparicio\\\\Documents\\\\CONCILIACIONES\\\\2024\\\\01. ENERO\\\\EDO CTA BNTE\\\\BNTE 2024.01.31.txt']"
      ]
     },
     "execution_count": 3,
     "metadata": {},
     "output_type": "execute_result"
    }
   ],
   "source": [
    "all_mov = glob.glob(r'C:\\Users\\Cristian.Aparicio\\Documents\\CONCILIACIONES\\2024\\01. ENERO\\EDO CTA BNTE\\*.txt', recursive=False)\n",
    "all_mov"
   ]
  },
  {
   "cell_type": "markdown",
   "metadata": {},
   "source": [
    "# EDO CUENTA COMPLETO"
   ]
  },
  {
   "cell_type": "code",
   "execution_count": 4,
   "metadata": {
    "scrolled": true
   },
   "outputs": [
    {
     "data": {
      "text/html": [
       "<div>\n",
       "<style scoped>\n",
       "    .dataframe tbody tr th:only-of-type {\n",
       "        vertical-align: middle;\n",
       "    }\n",
       "\n",
       "    .dataframe tbody tr th {\n",
       "        vertical-align: top;\n",
       "    }\n",
       "\n",
       "    .dataframe thead th {\n",
       "        text-align: right;\n",
       "    }\n",
       "</style>\n",
       "<table border=\"1\" class=\"dataframe\">\n",
       "  <thead>\n",
       "    <tr style=\"text-align: right;\">\n",
       "      <th></th>\n",
       "      <th>Cuenta</th>\n",
       "      <th>Fecha De Operación</th>\n",
       "      <th>Fecha</th>\n",
       "      <th>Referencia</th>\n",
       "      <th>Descripción</th>\n",
       "      <th>Cod. Transac</th>\n",
       "      <th>Sucursal</th>\n",
       "      <th>Depósitos</th>\n",
       "      <th>Retiros</th>\n",
       "      <th>Saldo</th>\n",
       "      <th>Movimiento</th>\n",
       "      <th>Descripción Detallada</th>\n",
       "      <th>Cheque</th>\n",
       "      <th>file_name</th>\n",
       "      <th>ID</th>\n",
       "      <th>TYPE</th>\n",
       "    </tr>\n",
       "  </thead>\n",
       "  <tbody>\n",
       "    <tr>\n",
       "      <th>0</th>\n",
       "      <td>'0239650517</td>\n",
       "      <td>30/12/2023</td>\n",
       "      <td>02/01/2024</td>\n",
       "      <td>0300001</td>\n",
       "      <td>COMPRA ORDEN DE PAGO SPEI</td>\n",
       "      <td>511</td>\n",
       "      <td>4264</td>\n",
       "      <td>$0.00</td>\n",
       "      <td>$934.28</td>\n",
       "      <td>$501,321,740.73</td>\n",
       "      <td>41507057</td>\n",
       "      <td>CTA/CLABE:002760701768361110 ,CB SPEI, BCO: 00...</td>\n",
       "      <td>NaN</td>\n",
       "      <td>BNTE 2024.01.02 PT1.txt</td>\n",
       "      <td></td>\n",
       "      <td></td>\n",
       "    </tr>\n",
       "    <tr>\n",
       "      <th>1</th>\n",
       "      <td>'0239650517</td>\n",
       "      <td>30/12/2023</td>\n",
       "      <td>02/01/2024</td>\n",
       "      <td>0363373</td>\n",
       "      <td>COMPRA ORDEN DE PAGO SPEI</td>\n",
       "      <td>511</td>\n",
       "      <td>4264</td>\n",
       "      <td>$0.00</td>\n",
       "      <td>$635.32</td>\n",
       "      <td>$501,321,105.41</td>\n",
       "      <td>41507058</td>\n",
       "      <td>CTA/CLABE:014700230013272347 ,CB SPEI, BCO: 01...</td>\n",
       "      <td>NaN</td>\n",
       "      <td>BNTE 2024.01.02 PT1.txt</td>\n",
       "      <td></td>\n",
       "      <td></td>\n",
       "    </tr>\n",
       "    <tr>\n",
       "      <th>2</th>\n",
       "      <td>'0239650517</td>\n",
       "      <td>30/12/2023</td>\n",
       "      <td>02/01/2024</td>\n",
       "      <td>0331988</td>\n",
       "      <td>COMPRA ORDEN DE PAGO SPEI</td>\n",
       "      <td>511</td>\n",
       "      <td>4264</td>\n",
       "      <td>$0.00</td>\n",
       "      <td>$2,108.14</td>\n",
       "      <td>$501,318,997.27</td>\n",
       "      <td>41507059</td>\n",
       "      <td>CTA/CLABE:012180004693203856 ,CB SPEI, BCO: 01...</td>\n",
       "      <td>NaN</td>\n",
       "      <td>BNTE 2024.01.02 PT1.txt</td>\n",
       "      <td></td>\n",
       "      <td></td>\n",
       "    </tr>\n",
       "    <tr>\n",
       "      <th>3</th>\n",
       "      <td>'0239650517</td>\n",
       "      <td>30/12/2023</td>\n",
       "      <td>02/01/2024</td>\n",
       "      <td>0300006</td>\n",
       "      <td>COMPRA ORDEN DE PAGO SPEI</td>\n",
       "      <td>511</td>\n",
       "      <td>4264</td>\n",
       "      <td>$0.00</td>\n",
       "      <td>$527.03</td>\n",
       "      <td>$501,318,470.24</td>\n",
       "      <td>41507060</td>\n",
       "      <td>CTA/CLABE:044010256029105948 ,CB SPEI, BCO: 04...</td>\n",
       "      <td>NaN</td>\n",
       "      <td>BNTE 2024.01.02 PT1.txt</td>\n",
       "      <td></td>\n",
       "      <td></td>\n",
       "    </tr>\n",
       "    <tr>\n",
       "      <th>4</th>\n",
       "      <td>'0239650517</td>\n",
       "      <td>30/12/2023</td>\n",
       "      <td>02/01/2024</td>\n",
       "      <td>0363378</td>\n",
       "      <td>COMPRA ORDEN DE PAGO SPEI</td>\n",
       "      <td>511</td>\n",
       "      <td>4264</td>\n",
       "      <td>$0.00</td>\n",
       "      <td>$2,801.91</td>\n",
       "      <td>$501,315,668.33</td>\n",
       "      <td>41507061</td>\n",
       "      <td>CTA/CLABE:021694064625716414 ,CB SPEI, BCO: 02...</td>\n",
       "      <td>NaN</td>\n",
       "      <td>BNTE 2024.01.02 PT1.txt</td>\n",
       "      <td></td>\n",
       "      <td></td>\n",
       "    </tr>\n",
       "  </tbody>\n",
       "</table>\n",
       "</div>"
      ],
      "text/plain": [
       "        Cuenta Fecha De Operación       Fecha Referencia  \\\n",
       "0  '0239650517         30/12/2023  02/01/2024    0300001   \n",
       "1  '0239650517         30/12/2023  02/01/2024    0363373   \n",
       "2  '0239650517         30/12/2023  02/01/2024    0331988   \n",
       "3  '0239650517         30/12/2023  02/01/2024    0300006   \n",
       "4  '0239650517         30/12/2023  02/01/2024    0363378   \n",
       "\n",
       "                 Descripción Cod. Transac  Sucursal Depósitos    Retiros  \\\n",
       "0  COMPRA ORDEN DE PAGO SPEI          511      4264     $0.00    $934.28   \n",
       "1  COMPRA ORDEN DE PAGO SPEI          511      4264     $0.00    $635.32   \n",
       "2  COMPRA ORDEN DE PAGO SPEI          511      4264     $0.00  $2,108.14   \n",
       "3  COMPRA ORDEN DE PAGO SPEI          511      4264     $0.00    $527.03   \n",
       "4  COMPRA ORDEN DE PAGO SPEI          511      4264     $0.00  $2,801.91   \n",
       "\n",
       "             Saldo  Movimiento  \\\n",
       "0  $501,321,740.73    41507057   \n",
       "1  $501,321,105.41    41507058   \n",
       "2  $501,318,997.27    41507059   \n",
       "3  $501,318,470.24    41507060   \n",
       "4  $501,315,668.33    41507061   \n",
       "\n",
       "                               Descripción Detallada  Cheque  \\\n",
       "0  CTA/CLABE:002760701768361110 ,CB SPEI, BCO: 00...     NaN   \n",
       "1  CTA/CLABE:014700230013272347 ,CB SPEI, BCO: 01...     NaN   \n",
       "2  CTA/CLABE:012180004693203856 ,CB SPEI, BCO: 01...     NaN   \n",
       "3  CTA/CLABE:044010256029105948 ,CB SPEI, BCO: 04...     NaN   \n",
       "4  CTA/CLABE:021694064625716414 ,CB SPEI, BCO: 02...     NaN   \n",
       "\n",
       "                 file_name ID TYPE  \n",
       "0  BNTE 2024.01.02 PT1.txt          \n",
       "1  BNTE 2024.01.02 PT1.txt          \n",
       "2  BNTE 2024.01.02 PT1.txt          \n",
       "3  BNTE 2024.01.02 PT1.txt          \n",
       "4  BNTE 2024.01.02 PT1.txt          "
      ]
     },
     "execution_count": 4,
     "metadata": {},
     "output_type": "execute_result"
    }
   ],
   "source": [
    "edo_cta = pd.concat([pd.read_csv(f,sep='|',dtype={'Cuenta': object,'Cod. Transac':object,'Referencia':object})\n",
    "                     .assign(file_name=os.path.basename(f)) for f in all_mov])\n",
    "edo_cta.reset_index(inplace=True)\n",
    "del edo_cta['index']\n",
    "edo_cta.sort_values(by=['Movimiento'],inplace=True)\n",
    "edo_cta['Cuenta'] = \"'\"+edo_cta['Cuenta']\n",
    "edo_cta['ID'] = ''\n",
    "edo_cta['TYPE'] = ''\n",
    "edo_cta['Descripción'].fillna('SIN DESCRIPCION',inplace=True)\n",
    "edo_cta.head()"
   ]
  },
  {
   "cell_type": "code",
   "execution_count": 5,
   "metadata": {},
   "outputs": [
    {
     "data": {
      "text/plain": [
       "(1230196, 16)"
      ]
     },
     "execution_count": 5,
     "metadata": {},
     "output_type": "execute_result"
    }
   ],
   "source": [
    "edo_cta.shape"
   ]
  },
  {
   "cell_type": "code",
   "execution_count": 6,
   "metadata": {},
   "outputs": [
    {
     "data": {
      "text/html": [
       "<div>\n",
       "<style scoped>\n",
       "    .dataframe tbody tr th:only-of-type {\n",
       "        vertical-align: middle;\n",
       "    }\n",
       "\n",
       "    .dataframe tbody tr th {\n",
       "        vertical-align: top;\n",
       "    }\n",
       "\n",
       "    .dataframe thead th {\n",
       "        text-align: right;\n",
       "    }\n",
       "</style>\n",
       "<table border=\"1\" class=\"dataframe\">\n",
       "  <thead>\n",
       "    <tr style=\"text-align: right;\">\n",
       "      <th></th>\n",
       "      <th>Cuenta</th>\n",
       "      <th>Fecha De Operación</th>\n",
       "      <th>Fecha</th>\n",
       "      <th>Referencia</th>\n",
       "      <th>Descripción</th>\n",
       "      <th>Cod. Transac</th>\n",
       "      <th>Sucursal</th>\n",
       "      <th>Depósitos</th>\n",
       "      <th>Retiros</th>\n",
       "      <th>Saldo</th>\n",
       "      <th>Movimiento</th>\n",
       "      <th>Descripción Detallada</th>\n",
       "      <th>Cheque</th>\n",
       "      <th>file_name</th>\n",
       "      <th>ID</th>\n",
       "      <th>TYPE</th>\n",
       "    </tr>\n",
       "  </thead>\n",
       "  <tbody>\n",
       "  </tbody>\n",
       "</table>\n",
       "</div>"
      ],
      "text/plain": [
       "Empty DataFrame\n",
       "Columns: [Cuenta, Fecha De Operación, Fecha, Referencia, Descripción, Cod. Transac, Sucursal, Depósitos, Retiros, Saldo, Movimiento, Descripción Detallada, Cheque, file_name, ID, TYPE]\n",
       "Index: []"
      ]
     },
     "execution_count": 6,
     "metadata": {},
     "output_type": "execute_result"
    }
   ],
   "source": [
    "duplicates_edo_cta = edo_cta[edo_cta.duplicated(['Movimiento'] , keep=False)]\n",
    "duplicates_edo_cta.head()"
   ]
  },
  {
   "cell_type": "code",
   "execution_count": 7,
   "metadata": {},
   "outputs": [
    {
     "data": {
      "text/plain": [
       "(0, 16)"
      ]
     },
     "execution_count": 7,
     "metadata": {},
     "output_type": "execute_result"
    }
   ],
   "source": [
    "duplicates_edo_cta.shape"
   ]
  },
  {
   "cell_type": "code",
   "execution_count": 8,
   "metadata": {},
   "outputs": [
    {
     "data": {
      "text/html": [
       "<div>\n",
       "<style scoped>\n",
       "    .dataframe tbody tr th:only-of-type {\n",
       "        vertical-align: middle;\n",
       "    }\n",
       "\n",
       "    .dataframe tbody tr th {\n",
       "        vertical-align: top;\n",
       "    }\n",
       "\n",
       "    .dataframe thead th {\n",
       "        text-align: right;\n",
       "    }\n",
       "</style>\n",
       "<table border=\"1\" class=\"dataframe\">\n",
       "  <thead>\n",
       "    <tr style=\"text-align: right;\">\n",
       "      <th></th>\n",
       "      <th>0</th>\n",
       "      <th>1</th>\n",
       "      <th>2</th>\n",
       "    </tr>\n",
       "  </thead>\n",
       "  <tbody>\n",
       "    <tr>\n",
       "      <th>0</th>\n",
       "      <td>30</td>\n",
       "      <td>12</td>\n",
       "      <td>2023</td>\n",
       "    </tr>\n",
       "    <tr>\n",
       "      <th>1</th>\n",
       "      <td>30</td>\n",
       "      <td>12</td>\n",
       "      <td>2023</td>\n",
       "    </tr>\n",
       "    <tr>\n",
       "      <th>2</th>\n",
       "      <td>30</td>\n",
       "      <td>12</td>\n",
       "      <td>2023</td>\n",
       "    </tr>\n",
       "    <tr>\n",
       "      <th>3</th>\n",
       "      <td>30</td>\n",
       "      <td>12</td>\n",
       "      <td>2023</td>\n",
       "    </tr>\n",
       "    <tr>\n",
       "      <th>4</th>\n",
       "      <td>30</td>\n",
       "      <td>12</td>\n",
       "      <td>2023</td>\n",
       "    </tr>\n",
       "  </tbody>\n",
       "</table>\n",
       "</div>"
      ],
      "text/plain": [
       "    0   1     2\n",
       "0  30  12  2023\n",
       "1  30  12  2023\n",
       "2  30  12  2023\n",
       "3  30  12  2023\n",
       "4  30  12  2023"
      ]
     },
     "execution_count": 8,
     "metadata": {},
     "output_type": "execute_result"
    }
   ],
   "source": [
    "split_fecha_operacion = edo_cta[\"Fecha De Operación\"].str.split(\"/\",n=3,expand=True)\n",
    "split_fecha_operacion.head()"
   ]
  },
  {
   "cell_type": "code",
   "execution_count": 9,
   "metadata": {},
   "outputs": [],
   "source": [
    "edo_cta[\"Day_operacion\"] = split_fecha_operacion[0] \n",
    "edo_cta[\"Month_operacion\"] = split_fecha_operacion[1]\n",
    "edo_cta['Year_operacion'] = split_fecha_operacion[2]"
   ]
  },
  {
   "cell_type": "code",
   "execution_count": 10,
   "metadata": {},
   "outputs": [
    {
     "data": {
      "text/html": [
       "<div>\n",
       "<style scoped>\n",
       "    .dataframe tbody tr th:only-of-type {\n",
       "        vertical-align: middle;\n",
       "    }\n",
       "\n",
       "    .dataframe tbody tr th {\n",
       "        vertical-align: top;\n",
       "    }\n",
       "\n",
       "    .dataframe thead th {\n",
       "        text-align: right;\n",
       "    }\n",
       "</style>\n",
       "<table border=\"1\" class=\"dataframe\">\n",
       "  <thead>\n",
       "    <tr style=\"text-align: right;\">\n",
       "      <th></th>\n",
       "      <th>0</th>\n",
       "      <th>1</th>\n",
       "      <th>2</th>\n",
       "    </tr>\n",
       "  </thead>\n",
       "  <tbody>\n",
       "    <tr>\n",
       "      <th>0</th>\n",
       "      <td>02</td>\n",
       "      <td>01</td>\n",
       "      <td>2024</td>\n",
       "    </tr>\n",
       "    <tr>\n",
       "      <th>1</th>\n",
       "      <td>02</td>\n",
       "      <td>01</td>\n",
       "      <td>2024</td>\n",
       "    </tr>\n",
       "    <tr>\n",
       "      <th>2</th>\n",
       "      <td>02</td>\n",
       "      <td>01</td>\n",
       "      <td>2024</td>\n",
       "    </tr>\n",
       "    <tr>\n",
       "      <th>3</th>\n",
       "      <td>02</td>\n",
       "      <td>01</td>\n",
       "      <td>2024</td>\n",
       "    </tr>\n",
       "    <tr>\n",
       "      <th>4</th>\n",
       "      <td>02</td>\n",
       "      <td>01</td>\n",
       "      <td>2024</td>\n",
       "    </tr>\n",
       "  </tbody>\n",
       "</table>\n",
       "</div>"
      ],
      "text/plain": [
       "    0   1     2\n",
       "0  02  01  2024\n",
       "1  02  01  2024\n",
       "2  02  01  2024\n",
       "3  02  01  2024\n",
       "4  02  01  2024"
      ]
     },
     "execution_count": 10,
     "metadata": {},
     "output_type": "execute_result"
    }
   ],
   "source": [
    "split_fecha_banco = edo_cta[\"Fecha\"].str.split(\"/\",n=3,expand=True)\n",
    "split_fecha_banco.head()"
   ]
  },
  {
   "cell_type": "code",
   "execution_count": 11,
   "metadata": {},
   "outputs": [],
   "source": [
    "edo_cta[\"Day_banco\"] = split_fecha_banco[0] \n",
    "edo_cta[\"Month_banco\"] = split_fecha_banco[1]\n",
    "edo_cta['Year_banco'] = split_fecha_banco[2]"
   ]
  },
  {
   "cell_type": "code",
   "execution_count": 12,
   "metadata": {},
   "outputs": [],
   "source": [
    "edo_cta['Fecha_operacion'] = edo_cta['Year_operacion']+'-'+edo_cta['Month_operacion']+'-'+edo_cta['Day_operacion']\n",
    "edo_cta['Fecha_banco'] = edo_cta['Year_banco']+'-'+edo_cta['Month_banco']+'-'+edo_cta['Day_banco']"
   ]
  },
  {
   "cell_type": "code",
   "execution_count": 13,
   "metadata": {},
   "outputs": [],
   "source": [
    "edo_cta['Fecha_operacion'] = pd.to_datetime(edo_cta['Fecha_operacion'])\n",
    "edo_cta['Fecha_banco'] = pd.to_datetime(edo_cta['Fecha_banco'])"
   ]
  },
  {
   "cell_type": "markdown",
   "metadata": {},
   "source": [
    "### AFILIACIONES AGREGADOR"
   ]
  },
  {
   "cell_type": "code",
   "execution_count": 14,
   "metadata": {},
   "outputs": [],
   "source": [
    "searchfor = ['07668673',\n",
    "'07927479',\n",
    "'07927482',\n",
    "'07927484',\n",
    "'07927489',\n",
    "'07927492',\n",
    "'07927496',\n",
    "'07927500',\n",
    "'07927504',\n",
    "'07927514',\n",
    "'07927515',\n",
    "'07927516',\n",
    "'07927517',\n",
    "'07927518',\n",
    "'07927519',\n",
    "'07927520',\n",
    "'08382645',\n",
    "'08382648']"
   ]
  },
  {
   "cell_type": "code",
   "execution_count": 15,
   "metadata": {},
   "outputs": [],
   "source": [
    "edo_cta.loc[edo_cta['Descripción'].str.contains('08343798'), \"Tipo\"] = 'XPAY'\n",
    "edo_cta.loc[edo_cta['Descripción'].str.contains('08672604'), \"Tipo\"] = 'XPAY'\n",
    "edo_cta.loc[edo_cta['Descripción'].str.contains('08380402'), \"Tipo\"] = 'MIT-3DS'\n",
    "edo_cta.loc[edo_cta['Descripción'].str.contains('|'.join(searchfor)), \"Tipo\"] = 'REGULAR TXN'\n",
    "edo_cta.loc[(~edo_cta['Descripción'].str.contains('08343798'))\n",
    "            & (~edo_cta['Descripción'].str.contains('08380402'))\n",
    "            & (~edo_cta['Descripción'].str.contains('08672604'))\n",
    "            & (~edo_cta['Descripción'].str.contains('|'.join(searchfor))), \"Tipo\"] = 'TASA_NATURAL'"
   ]
  },
  {
   "cell_type": "code",
   "execution_count": 16,
   "metadata": {},
   "outputs": [],
   "source": [
    "# edo_cta.loc[edo_cta['Descripción'].str.contains('08343798'), \"Tipo\"] = 'XPAY'\n",
    "# edo_cta.loc[edo_cta['Descripción'].str.contains('08380402'), \"Tipo\"] = 'MIT-3DS'\n",
    "# edo_cta.loc[edo_cta['Descripción'].str.contains('08672604'), \"Tipo\"] = 'XPAY'\n",
    "# edo_cta.loc[edo_cta['Descripción'].str.contains('08548664'), \"Tipo\"] = 'TASA_NATURAL'\n",
    "# edo_cta.loc[edo_cta['Descripción'].str.contains('08536735'), \"Tipo\"] = 'TASA_NATURAL'\n",
    "# edo_cta.loc[(~edo_cta['Descripción'].str.contains('08343798')) & (~edo_cta['Descripción'].str.contains('08380402'))\n",
    "#             & (~edo_cta['Descripción'].str.contains('08548668')) & (~edo_cta['Descripción'].str.contains('08548664'))\n",
    "#             & (~edo_cta['Descripción'].str.contains('08536735')) , \"Tipo\"] = 'REGULAR TXN'\n"
   ]
  },
  {
   "cell_type": "code",
   "execution_count": 17,
   "metadata": {},
   "outputs": [],
   "source": [
    "edo_cta.Depósitos = [x.strip('$') for x in edo_cta.Depósitos]\n",
    "edo_cta.Retiros = [x.strip('$') for x in edo_cta.Retiros]\n",
    "# edo_cta.Saldo = [x.strip('(') for x in edo_cta.Saldo]\n",
    "# edo_cta.Saldo = [x.strip(')') for x in edo_cta.Saldo]\n",
    "edo_cta.Saldo = [x.strip('$') for x in edo_cta.Saldo]"
   ]
  },
  {
   "cell_type": "code",
   "execution_count": 18,
   "metadata": {},
   "outputs": [],
   "source": [
    "edo_cta['Depósitos'] = edo_cta['Depósitos'].str.replace(',','').astype(float)\n",
    "edo_cta['Retiros'] = edo_cta['Retiros'].str.replace(',','').astype(float)\n",
    "# edo_cta['Saldo'] = edo_cta['Saldo'].str.replace(',','').astype(float)"
   ]
  },
  {
   "cell_type": "code",
   "execution_count": 19,
   "metadata": {},
   "outputs": [
    {
     "data": {
      "text/html": [
       "<div>\n",
       "<style scoped>\n",
       "    .dataframe tbody tr th:only-of-type {\n",
       "        vertical-align: middle;\n",
       "    }\n",
       "\n",
       "    .dataframe tbody tr th {\n",
       "        vertical-align: top;\n",
       "    }\n",
       "\n",
       "    .dataframe thead th {\n",
       "        text-align: right;\n",
       "    }\n",
       "</style>\n",
       "<table border=\"1\" class=\"dataframe\">\n",
       "  <thead>\n",
       "    <tr style=\"text-align: right;\">\n",
       "      <th></th>\n",
       "      <th>Cuenta</th>\n",
       "      <th>Fecha De Operación</th>\n",
       "      <th>Fecha</th>\n",
       "      <th>Referencia</th>\n",
       "      <th>Descripción</th>\n",
       "      <th>Cod. Transac</th>\n",
       "      <th>Sucursal</th>\n",
       "      <th>Depósitos</th>\n",
       "      <th>Retiros</th>\n",
       "      <th>Saldo</th>\n",
       "      <th>...</th>\n",
       "      <th>Day_banco</th>\n",
       "      <th>Month_banco</th>\n",
       "      <th>Year_banco</th>\n",
       "      <th>Fecha_operacion</th>\n",
       "      <th>Fecha_banco</th>\n",
       "      <th>Tipo</th>\n",
       "      <th>Afiliacion_1</th>\n",
       "      <th>len</th>\n",
       "      <th>Afiliacion_final</th>\n",
       "      <th>Tipo_operacion</th>\n",
       "    </tr>\n",
       "  </thead>\n",
       "  <tbody>\n",
       "    <tr>\n",
       "      <th>0</th>\n",
       "      <td>'0239650517</td>\n",
       "      <td>30/12/2023</td>\n",
       "      <td>02/01/2024</td>\n",
       "      <td>0300001</td>\n",
       "      <td>COMPRA ORDEN DE PAGO SPEI</td>\n",
       "      <td>511</td>\n",
       "      <td>4264</td>\n",
       "      <td>0.00</td>\n",
       "      <td>934.28</td>\n",
       "      <td>501,321,740.73</td>\n",
       "      <td>...</td>\n",
       "      <td>02</td>\n",
       "      <td>01</td>\n",
       "      <td>2024</td>\n",
       "      <td>2023-12-30</td>\n",
       "      <td>2024-01-02</td>\n",
       "      <td></td>\n",
       "      <td>NaN</td>\n",
       "      <td>NaN</td>\n",
       "      <td>NaN</td>\n",
       "      <td>NaN</td>\n",
       "    </tr>\n",
       "    <tr>\n",
       "      <th>1</th>\n",
       "      <td>'0239650517</td>\n",
       "      <td>30/12/2023</td>\n",
       "      <td>02/01/2024</td>\n",
       "      <td>0363373</td>\n",
       "      <td>COMPRA ORDEN DE PAGO SPEI</td>\n",
       "      <td>511</td>\n",
       "      <td>4264</td>\n",
       "      <td>0.00</td>\n",
       "      <td>635.32</td>\n",
       "      <td>501,321,105.41</td>\n",
       "      <td>...</td>\n",
       "      <td>02</td>\n",
       "      <td>01</td>\n",
       "      <td>2024</td>\n",
       "      <td>2023-12-30</td>\n",
       "      <td>2024-01-02</td>\n",
       "      <td></td>\n",
       "      <td>NaN</td>\n",
       "      <td>NaN</td>\n",
       "      <td>NaN</td>\n",
       "      <td>NaN</td>\n",
       "    </tr>\n",
       "    <tr>\n",
       "      <th>2</th>\n",
       "      <td>'0239650517</td>\n",
       "      <td>30/12/2023</td>\n",
       "      <td>02/01/2024</td>\n",
       "      <td>0331988</td>\n",
       "      <td>COMPRA ORDEN DE PAGO SPEI</td>\n",
       "      <td>511</td>\n",
       "      <td>4264</td>\n",
       "      <td>0.00</td>\n",
       "      <td>2,108.14</td>\n",
       "      <td>501,318,997.27</td>\n",
       "      <td>...</td>\n",
       "      <td>02</td>\n",
       "      <td>01</td>\n",
       "      <td>2024</td>\n",
       "      <td>2023-12-30</td>\n",
       "      <td>2024-01-02</td>\n",
       "      <td></td>\n",
       "      <td>NaN</td>\n",
       "      <td>NaN</td>\n",
       "      <td>NaN</td>\n",
       "      <td>NaN</td>\n",
       "    </tr>\n",
       "    <tr>\n",
       "      <th>3</th>\n",
       "      <td>'0239650517</td>\n",
       "      <td>30/12/2023</td>\n",
       "      <td>02/01/2024</td>\n",
       "      <td>0300006</td>\n",
       "      <td>COMPRA ORDEN DE PAGO SPEI</td>\n",
       "      <td>511</td>\n",
       "      <td>4264</td>\n",
       "      <td>0.00</td>\n",
       "      <td>527.03</td>\n",
       "      <td>501,318,470.24</td>\n",
       "      <td>...</td>\n",
       "      <td>02</td>\n",
       "      <td>01</td>\n",
       "      <td>2024</td>\n",
       "      <td>2023-12-30</td>\n",
       "      <td>2024-01-02</td>\n",
       "      <td></td>\n",
       "      <td>NaN</td>\n",
       "      <td>NaN</td>\n",
       "      <td>NaN</td>\n",
       "      <td>NaN</td>\n",
       "    </tr>\n",
       "    <tr>\n",
       "      <th>4</th>\n",
       "      <td>'0239650517</td>\n",
       "      <td>30/12/2023</td>\n",
       "      <td>02/01/2024</td>\n",
       "      <td>0363378</td>\n",
       "      <td>COMPRA ORDEN DE PAGO SPEI</td>\n",
       "      <td>511</td>\n",
       "      <td>4264</td>\n",
       "      <td>0.00</td>\n",
       "      <td>2,801.91</td>\n",
       "      <td>501,315,668.33</td>\n",
       "      <td>...</td>\n",
       "      <td>02</td>\n",
       "      <td>01</td>\n",
       "      <td>2024</td>\n",
       "      <td>2023-12-30</td>\n",
       "      <td>2024-01-02</td>\n",
       "      <td></td>\n",
       "      <td>NaN</td>\n",
       "      <td>NaN</td>\n",
       "      <td>NaN</td>\n",
       "      <td>NaN</td>\n",
       "    </tr>\n",
       "  </tbody>\n",
       "</table>\n",
       "<p>5 rows × 29 columns</p>\n",
       "</div>"
      ],
      "text/plain": [
       "        Cuenta Fecha De Operación       Fecha Referencia  \\\n",
       "0  '0239650517         30/12/2023  02/01/2024    0300001   \n",
       "1  '0239650517         30/12/2023  02/01/2024    0363373   \n",
       "2  '0239650517         30/12/2023  02/01/2024    0331988   \n",
       "3  '0239650517         30/12/2023  02/01/2024    0300006   \n",
       "4  '0239650517         30/12/2023  02/01/2024    0363378   \n",
       "\n",
       "                 Descripción Cod. Transac  Sucursal  Depósitos  Retiros  \\\n",
       "0  COMPRA ORDEN DE PAGO SPEI          511      4264       0.00   934.28   \n",
       "1  COMPRA ORDEN DE PAGO SPEI          511      4264       0.00   635.32   \n",
       "2  COMPRA ORDEN DE PAGO SPEI          511      4264       0.00 2,108.14   \n",
       "3  COMPRA ORDEN DE PAGO SPEI          511      4264       0.00   527.03   \n",
       "4  COMPRA ORDEN DE PAGO SPEI          511      4264       0.00 2,801.91   \n",
       "\n",
       "            Saldo  ...  Day_banco Month_banco  Year_banco Fecha_operacion  \\\n",
       "0  501,321,740.73  ...         02          01        2024      2023-12-30   \n",
       "1  501,321,105.41  ...         02          01        2024      2023-12-30   \n",
       "2  501,318,997.27  ...         02          01        2024      2023-12-30   \n",
       "3  501,318,470.24  ...         02          01        2024      2023-12-30   \n",
       "4  501,315,668.33  ...         02          01        2024      2023-12-30   \n",
       "\n",
       "  Fecha_banco Tipo Afiliacion_1 len Afiliacion_final Tipo_operacion  \n",
       "0  2024-01-02               NaN NaN              NaN            NaN  \n",
       "1  2024-01-02               NaN NaN              NaN            NaN  \n",
       "2  2024-01-02               NaN NaN              NaN            NaN  \n",
       "3  2024-01-02               NaN NaN              NaN            NaN  \n",
       "4  2024-01-02               NaN NaN              NaN            NaN  \n",
       "\n",
       "[5 rows x 29 columns]"
      ]
     },
     "execution_count": 19,
     "metadata": {},
     "output_type": "execute_result"
    }
   ],
   "source": [
    "edo_cta.loc[edo_cta['Cod. Transac'] == '060', 'Afiliacion_1'] = edo_cta['Descripción'].str[-9:]\n",
    "edo_cta.loc[edo_cta['Cod. Transac'] == '061', 'Afiliacion_1'] = edo_cta['Descripción'].str[-9:]\n",
    "edo_cta.loc[edo_cta['Cod. Transac'] == '062', 'Afiliacion_1'] = edo_cta['Descripción'].str[-9:]\n",
    "edo_cta.loc[edo_cta['Cod. Transac'] == '600', 'Afiliacion_1'] = edo_cta['Descripción'].str[-9:]\n",
    "edo_cta.loc[edo_cta['Cod. Transac'] == '601', 'Afiliacion_1'] = edo_cta['Descripción'].str[-9:]\n",
    "edo_cta.loc[edo_cta['Cod. Transac'] == '602', 'Afiliacion_1'] = edo_cta['Descripción'].str[-9:]\n",
    "edo_cta.loc[(edo_cta['Cod. Transac'] == '602') & (edo_cta['Descripción Detallada'].str.contains('CONTRACARGO')), 'Afiliacion_1'] = edo_cta['Descripción'].str[-8:]\n",
    "edo_cta['len'] = edo_cta['Afiliacion_1'].str.len() \n",
    "edo_cta.loc[edo_cta['len'] == 9, 'Afiliacion_final'] = edo_cta['Afiliacion_1'].str[-8:-1]\n",
    "edo_cta.loc[edo_cta['len'] == 8, 'Afiliacion_final'] = edo_cta['Afiliacion_1'].str[-7:]\n",
    "edo_cta.loc[edo_cta['len'] == 9, 'Tipo_operacion'] = edo_cta['Afiliacion_1'].str[-1:]\n",
    "edo_cta.loc[edo_cta['Afiliacion_1'].isnull(), 'Tipo'] = ''\n",
    "edo_cta.head()"
   ]
  },
  {
   "cell_type": "code",
   "execution_count": 20,
   "metadata": {},
   "outputs": [
    {
     "data": {
      "text/plain": [
       "(1230196, 29)"
      ]
     },
     "execution_count": 20,
     "metadata": {},
     "output_type": "execute_result"
    }
   ],
   "source": [
    "edo_cta.shape"
   ]
  },
  {
   "cell_type": "code",
   "execution_count": 21,
   "metadata": {},
   "outputs": [
    {
     "data": {
      "text/html": [
       "<div>\n",
       "<style scoped>\n",
       "    .dataframe tbody tr th:only-of-type {\n",
       "        vertical-align: middle;\n",
       "    }\n",
       "\n",
       "    .dataframe tbody tr th {\n",
       "        vertical-align: top;\n",
       "    }\n",
       "\n",
       "    .dataframe thead th {\n",
       "        text-align: right;\n",
       "    }\n",
       "</style>\n",
       "<table border=\"1\" class=\"dataframe\">\n",
       "  <thead>\n",
       "    <tr style=\"text-align: right;\">\n",
       "      <th></th>\n",
       "      <th>Cuenta</th>\n",
       "      <th>Fecha_operacion</th>\n",
       "      <th>Fecha_banco</th>\n",
       "      <th>Referencia</th>\n",
       "      <th>Descripción</th>\n",
       "      <th>Cod. Transac</th>\n",
       "      <th>Sucursal</th>\n",
       "      <th>Depósitos</th>\n",
       "      <th>Retiros</th>\n",
       "      <th>Saldo</th>\n",
       "      <th>Movimiento</th>\n",
       "      <th>Descripción Detallada</th>\n",
       "      <th>Cheque</th>\n",
       "      <th>Tipo</th>\n",
       "      <th>Afiliacion_1</th>\n",
       "      <th>Afiliacion_final</th>\n",
       "      <th>Tipo_operacion</th>\n",
       "    </tr>\n",
       "  </thead>\n",
       "  <tbody>\n",
       "    <tr>\n",
       "      <th>0</th>\n",
       "      <td>'0239650517</td>\n",
       "      <td>2023-12-30</td>\n",
       "      <td>2024-01-02</td>\n",
       "      <td>0300001</td>\n",
       "      <td>COMPRA ORDEN DE PAGO SPEI</td>\n",
       "      <td>511</td>\n",
       "      <td>4264</td>\n",
       "      <td>0.00</td>\n",
       "      <td>934.28</td>\n",
       "      <td>501,321,740.73</td>\n",
       "      <td>41507057</td>\n",
       "      <td>CTA/CLABE:002760701768361110 ,CB SPEI, BCO: 00...</td>\n",
       "      <td>NaN</td>\n",
       "      <td></td>\n",
       "      <td>NaN</td>\n",
       "      <td>NaN</td>\n",
       "      <td>NaN</td>\n",
       "    </tr>\n",
       "    <tr>\n",
       "      <th>1</th>\n",
       "      <td>'0239650517</td>\n",
       "      <td>2023-12-30</td>\n",
       "      <td>2024-01-02</td>\n",
       "      <td>0363373</td>\n",
       "      <td>COMPRA ORDEN DE PAGO SPEI</td>\n",
       "      <td>511</td>\n",
       "      <td>4264</td>\n",
       "      <td>0.00</td>\n",
       "      <td>635.32</td>\n",
       "      <td>501,321,105.41</td>\n",
       "      <td>41507058</td>\n",
       "      <td>CTA/CLABE:014700230013272347 ,CB SPEI, BCO: 01...</td>\n",
       "      <td>NaN</td>\n",
       "      <td></td>\n",
       "      <td>NaN</td>\n",
       "      <td>NaN</td>\n",
       "      <td>NaN</td>\n",
       "    </tr>\n",
       "    <tr>\n",
       "      <th>2</th>\n",
       "      <td>'0239650517</td>\n",
       "      <td>2023-12-30</td>\n",
       "      <td>2024-01-02</td>\n",
       "      <td>0331988</td>\n",
       "      <td>COMPRA ORDEN DE PAGO SPEI</td>\n",
       "      <td>511</td>\n",
       "      <td>4264</td>\n",
       "      <td>0.00</td>\n",
       "      <td>2,108.14</td>\n",
       "      <td>501,318,997.27</td>\n",
       "      <td>41507059</td>\n",
       "      <td>CTA/CLABE:012180004693203856 ,CB SPEI, BCO: 01...</td>\n",
       "      <td>NaN</td>\n",
       "      <td></td>\n",
       "      <td>NaN</td>\n",
       "      <td>NaN</td>\n",
       "      <td>NaN</td>\n",
       "    </tr>\n",
       "    <tr>\n",
       "      <th>3</th>\n",
       "      <td>'0239650517</td>\n",
       "      <td>2023-12-30</td>\n",
       "      <td>2024-01-02</td>\n",
       "      <td>0300006</td>\n",
       "      <td>COMPRA ORDEN DE PAGO SPEI</td>\n",
       "      <td>511</td>\n",
       "      <td>4264</td>\n",
       "      <td>0.00</td>\n",
       "      <td>527.03</td>\n",
       "      <td>501,318,470.24</td>\n",
       "      <td>41507060</td>\n",
       "      <td>CTA/CLABE:044010256029105948 ,CB SPEI, BCO: 04...</td>\n",
       "      <td>NaN</td>\n",
       "      <td></td>\n",
       "      <td>NaN</td>\n",
       "      <td>NaN</td>\n",
       "      <td>NaN</td>\n",
       "    </tr>\n",
       "    <tr>\n",
       "      <th>4</th>\n",
       "      <td>'0239650517</td>\n",
       "      <td>2023-12-30</td>\n",
       "      <td>2024-01-02</td>\n",
       "      <td>0363378</td>\n",
       "      <td>COMPRA ORDEN DE PAGO SPEI</td>\n",
       "      <td>511</td>\n",
       "      <td>4264</td>\n",
       "      <td>0.00</td>\n",
       "      <td>2,801.91</td>\n",
       "      <td>501,315,668.33</td>\n",
       "      <td>41507061</td>\n",
       "      <td>CTA/CLABE:021694064625716414 ,CB SPEI, BCO: 02...</td>\n",
       "      <td>NaN</td>\n",
       "      <td></td>\n",
       "      <td>NaN</td>\n",
       "      <td>NaN</td>\n",
       "      <td>NaN</td>\n",
       "    </tr>\n",
       "  </tbody>\n",
       "</table>\n",
       "</div>"
      ],
      "text/plain": [
       "        Cuenta Fecha_operacion Fecha_banco Referencia  \\\n",
       "0  '0239650517      2023-12-30  2024-01-02    0300001   \n",
       "1  '0239650517      2023-12-30  2024-01-02    0363373   \n",
       "2  '0239650517      2023-12-30  2024-01-02    0331988   \n",
       "3  '0239650517      2023-12-30  2024-01-02    0300006   \n",
       "4  '0239650517      2023-12-30  2024-01-02    0363378   \n",
       "\n",
       "                 Descripción Cod. Transac  Sucursal  Depósitos  Retiros  \\\n",
       "0  COMPRA ORDEN DE PAGO SPEI          511      4264       0.00   934.28   \n",
       "1  COMPRA ORDEN DE PAGO SPEI          511      4264       0.00   635.32   \n",
       "2  COMPRA ORDEN DE PAGO SPEI          511      4264       0.00 2,108.14   \n",
       "3  COMPRA ORDEN DE PAGO SPEI          511      4264       0.00   527.03   \n",
       "4  COMPRA ORDEN DE PAGO SPEI          511      4264       0.00 2,801.91   \n",
       "\n",
       "            Saldo  Movimiento  \\\n",
       "0  501,321,740.73    41507057   \n",
       "1  501,321,105.41    41507058   \n",
       "2  501,318,997.27    41507059   \n",
       "3  501,318,470.24    41507060   \n",
       "4  501,315,668.33    41507061   \n",
       "\n",
       "                               Descripción Detallada  Cheque Tipo  \\\n",
       "0  CTA/CLABE:002760701768361110 ,CB SPEI, BCO: 00...     NaN        \n",
       "1  CTA/CLABE:014700230013272347 ,CB SPEI, BCO: 01...     NaN        \n",
       "2  CTA/CLABE:012180004693203856 ,CB SPEI, BCO: 01...     NaN        \n",
       "3  CTA/CLABE:044010256029105948 ,CB SPEI, BCO: 04...     NaN        \n",
       "4  CTA/CLABE:021694064625716414 ,CB SPEI, BCO: 02...     NaN        \n",
       "\n",
       "  Afiliacion_1 Afiliacion_final Tipo_operacion  \n",
       "0          NaN              NaN            NaN  \n",
       "1          NaN              NaN            NaN  \n",
       "2          NaN              NaN            NaN  \n",
       "3          NaN              NaN            NaN  \n",
       "4          NaN              NaN            NaN  "
      ]
     },
     "execution_count": 21,
     "metadata": {},
     "output_type": "execute_result"
    }
   ],
   "source": [
    "all_edo = edo_cta[['Cuenta','Fecha_operacion','Fecha_banco','Referencia','Descripción','Cod. Transac','Sucursal','Depósitos'\n",
    "                   ,'Retiros','Saldo','Movimiento','Descripción Detallada','Cheque','Tipo','Afiliacion_1','Afiliacion_final'\n",
    "                   ,'Tipo_operacion']]\n",
    "all_edo.head()"
   ]
  },
  {
   "cell_type": "code",
   "execution_count": 22,
   "metadata": {},
   "outputs": [
    {
     "data": {
      "text/plain": [
       "(1230196, 17)"
      ]
     },
     "execution_count": 22,
     "metadata": {},
     "output_type": "execute_result"
    }
   ],
   "source": [
    "all_edo.shape"
   ]
  },
  {
   "cell_type": "code",
   "execution_count": 23,
   "metadata": {},
   "outputs": [
    {
     "data": {
      "text/plain": [
       "<DatetimeArray>\n",
       "['2024-01-01 00:00:00', '2024-01-02 00:00:00', '2024-01-03 00:00:00',\n",
       " '2024-01-04 00:00:00', '2024-01-05 00:00:00', '2024-01-06 00:00:00',\n",
       " '2024-01-07 00:00:00', '2024-01-08 00:00:00', '2024-01-09 00:00:00',\n",
       " '2024-01-10 00:00:00', '2024-01-11 00:00:00', '2024-01-12 00:00:00',\n",
       " '2024-01-13 00:00:00', '2024-01-14 00:00:00', '2024-01-15 00:00:00',\n",
       " '2024-01-16 00:00:00', '2024-01-17 00:00:00', '2024-01-18 00:00:00',\n",
       " '2024-01-19 00:00:00', '2024-01-20 00:00:00']\n",
       "Length: 20, dtype: datetime64[ns]"
      ]
     },
     "execution_count": 23,
     "metadata": {},
     "output_type": "execute_result"
    }
   ],
   "source": [
    "all_edo_1 = all_edo[(all_edo['Fecha_operacion'] >= '2024-01-01') & (all_edo['Fecha_operacion'] <= '2024-01-20')]\n",
    "all_edo_1['Fecha_operacion'].unique()"
   ]
  },
  {
   "cell_type": "code",
   "execution_count": 24,
   "metadata": {},
   "outputs": [
    {
     "data": {
      "text/plain": [
       "(656462, 17)"
      ]
     },
     "execution_count": 24,
     "metadata": {},
     "output_type": "execute_result"
    }
   ],
   "source": [
    "all_edo_1.shape"
   ]
  },
  {
   "cell_type": "code",
   "execution_count": 25,
   "metadata": {},
   "outputs": [
    {
     "data": {
      "text/plain": [
       "<DatetimeArray>\n",
       "['2024-01-21 00:00:00', '2024-01-22 00:00:00', '2024-01-23 00:00:00',\n",
       " '2024-01-24 00:00:00', '2024-01-25 00:00:00', '2024-01-26 00:00:00',\n",
       " '2024-01-27 00:00:00', '2024-01-28 00:00:00', '2024-01-29 00:00:00',\n",
       " '2024-01-30 00:00:00', '2024-01-31 00:00:00']\n",
       "Length: 11, dtype: datetime64[ns]"
      ]
     },
     "execution_count": 25,
     "metadata": {},
     "output_type": "execute_result"
    }
   ],
   "source": [
    "all_edo_2 = all_edo[(all_edo['Fecha_operacion'] >= '2024-01-21') & (all_edo['Fecha_operacion'] <= '2024-01-31')]\n",
    "all_edo_2['Fecha_operacion'].unique()"
   ]
  },
  {
   "cell_type": "code",
   "execution_count": 26,
   "metadata": {},
   "outputs": [
    {
     "data": {
      "text/plain": [
       "(354938, 17)"
      ]
     },
     "execution_count": 26,
     "metadata": {},
     "output_type": "execute_result"
    }
   ],
   "source": [
    "all_edo_2.shape"
   ]
  },
  {
   "cell_type": "markdown",
   "metadata": {},
   "source": [
    "# ESTADO DE CUENTA ALL"
   ]
  },
  {
   "cell_type": "code",
   "execution_count": 27,
   "metadata": {},
   "outputs": [],
   "source": [
    "writer = pd.ExcelWriter('EDO CUENTA DICIEMBRE 2023.xlsx',\n",
    "                        engine='xlsxwriter',\n",
    "                        engine_kwargs={'options': {'encoding':'utf-8'}})\n",
    "# all_edo.to_excel(writer, sheet_name='2023.08.01 - 2023.08.31',index=False)\n",
    "all_edo_1.to_excel(writer, sheet_name='2023.12.01 - 2023-12-20',index=False)\n",
    "all_edo_2.to_excel(writer, sheet_name='2023.12.21 - 2023-12-31',index=False)\n",
    "writer.close()"
   ]
  },
  {
   "cell_type": "code",
   "execution_count": 28,
   "metadata": {},
   "outputs": [],
   "source": [
    "# all_edo.to_excel('EDO CUENTA ABRIL 2023.xlsx',index=False)"
   ]
  },
  {
   "cell_type": "markdown",
   "metadata": {},
   "source": [
    "# ESTADO DE CUENTA POR SEMANA"
   ]
  },
  {
   "cell_type": "code",
   "execution_count": 29,
   "metadata": {},
   "outputs": [
    {
     "data": {
      "text/plain": [
       "<DatetimeArray>\n",
       "['2024-01-31 00:00:00']\n",
       "Length: 1, dtype: datetime64[ns]"
      ]
     },
     "execution_count": 29,
     "metadata": {},
     "output_type": "execute_result"
    }
   ],
   "source": [
    "edo_cta_weekly = edo_cta[(edo_cta['Fecha_operacion'] >= start_date) & (edo_cta['Fecha_operacion'] <= final_date)]\n",
    "edo_cta_weekly['Fecha_operacion'].unique()"
   ]
  },
  {
   "cell_type": "code",
   "execution_count": 30,
   "metadata": {},
   "outputs": [
    {
     "name": "stderr",
     "output_type": "stream",
     "text": [
      "C:\\Users\\Cristian.Aparicio\\AppData\\Local\\Temp\\ipykernel_19688\\2641352024.py:5: FutureWarning: Setting an item of incompatible dtype is deprecated and will raise in a future error of pandas. Value 'nan' has dtype incompatible with float64, please explicitly cast to a compatible dtype first.\n",
      "  edo_cta_weekly_final.fillna('nan',inplace=True)\n",
      "C:\\Users\\Cristian.Aparicio\\AppData\\Local\\Temp\\ipykernel_19688\\2641352024.py:5: SettingWithCopyWarning: \n",
      "A value is trying to be set on a copy of a slice from a DataFrame\n",
      "\n",
      "See the caveats in the documentation: https://pandas.pydata.org/pandas-docs/stable/user_guide/indexing.html#returning-a-view-versus-a-copy\n",
      "  edo_cta_weekly_final.fillna('nan',inplace=True)\n",
      "C:\\Users\\Cristian.Aparicio\\AppData\\Local\\Temp\\ipykernel_19688\\2641352024.py:6: SettingWithCopyWarning: \n",
      "A value is trying to be set on a copy of a slice from a DataFrame.\n",
      "Try using .loc[row_indexer,col_indexer] = value instead\n",
      "\n",
      "See the caveats in the documentation: https://pandas.pydata.org/pandas-docs/stable/user_guide/indexing.html#returning-a-view-versus-a-copy\n",
      "  edo_cta_weekly_final['ID'] = 'nan'\n",
      "C:\\Users\\Cristian.Aparicio\\AppData\\Local\\Temp\\ipykernel_19688\\2641352024.py:7: SettingWithCopyWarning: \n",
      "A value is trying to be set on a copy of a slice from a DataFrame.\n",
      "Try using .loc[row_indexer,col_indexer] = value instead\n",
      "\n",
      "See the caveats in the documentation: https://pandas.pydata.org/pandas-docs/stable/user_guide/indexing.html#returning-a-view-versus-a-copy\n",
      "  edo_cta_weekly_final['TYPE'] = 'nan'\n",
      "C:\\Users\\Cristian.Aparicio\\AppData\\Local\\Temp\\ipykernel_19688\\2641352024.py:8: SettingWithCopyWarning: \n",
      "A value is trying to be set on a copy of a slice from a DataFrame.\n",
      "Try using .loc[row_indexer,col_indexer] = value instead\n",
      "\n",
      "See the caveats in the documentation: https://pandas.pydata.org/pandas-docs/stable/user_guide/indexing.html#returning-a-view-versus-a-copy\n",
      "  edo_cta_weekly_final['limit'] = 'nan'\n",
      "C:\\Users\\Cristian.Aparicio\\AppData\\Local\\Temp\\ipykernel_19688\\2641352024.py:9: SettingWithCopyWarning: \n",
      "A value is trying to be set on a copy of a slice from a DataFrame.\n",
      "Try using .loc[row_indexer,col_indexer] = value instead\n",
      "\n",
      "See the caveats in the documentation: https://pandas.pydata.org/pandas-docs/stable/user_guide/indexing.html#returning-a-view-versus-a-copy\n",
      "  edo_cta_weekly_final['dev_column'] = 'nan'\n"
     ]
    },
    {
     "data": {
      "text/html": [
       "<div>\n",
       "<style scoped>\n",
       "    .dataframe tbody tr th:only-of-type {\n",
       "        vertical-align: middle;\n",
       "    }\n",
       "\n",
       "    .dataframe tbody tr th {\n",
       "        vertical-align: top;\n",
       "    }\n",
       "\n",
       "    .dataframe thead th {\n",
       "        text-align: right;\n",
       "    }\n",
       "</style>\n",
       "<table border=\"1\" class=\"dataframe\">\n",
       "  <thead>\n",
       "    <tr style=\"text-align: right;\">\n",
       "      <th></th>\n",
       "      <th>ID</th>\n",
       "      <th>Cuenta</th>\n",
       "      <th>Fecha_operacion</th>\n",
       "      <th>Fecha_banco</th>\n",
       "      <th>Referencia</th>\n",
       "      <th>Descripción</th>\n",
       "      <th>TYPE</th>\n",
       "      <th>Cod. Transac</th>\n",
       "      <th>Sucursal</th>\n",
       "      <th>Depósitos</th>\n",
       "      <th>...</th>\n",
       "      <th>Saldo</th>\n",
       "      <th>Movimiento</th>\n",
       "      <th>Descripción Detallada</th>\n",
       "      <th>Cheque</th>\n",
       "      <th>Tipo</th>\n",
       "      <th>Afiliacion_1</th>\n",
       "      <th>Afiliacion_final</th>\n",
       "      <th>Tipo_operacion</th>\n",
       "      <th>limit</th>\n",
       "      <th>dev_column</th>\n",
       "    </tr>\n",
       "  </thead>\n",
       "  <tbody>\n",
       "    <tr>\n",
       "      <th>1228505</th>\n",
       "      <td>nan</td>\n",
       "      <td>'0239650517</td>\n",
       "      <td>2024-01-31</td>\n",
       "      <td>2024-01-31</td>\n",
       "      <td>0020240130</td>\n",
       "      <td>COMISION X OPERACION CB</td>\n",
       "      <td>nan</td>\n",
       "      <td>537</td>\n",
       "      <td>4264</td>\n",
       "      <td>0.00</td>\n",
       "      <td>...</td>\n",
       "      <td>139,056,242.95</td>\n",
       "      <td>42735562</td>\n",
       "      <td>OPERACIONES CONEXION BANORTE, OP 02: 000000001...</td>\n",
       "      <td>nan</td>\n",
       "      <td></td>\n",
       "      <td>nan</td>\n",
       "      <td>nan</td>\n",
       "      <td>nan</td>\n",
       "      <td>nan</td>\n",
       "      <td>nan</td>\n",
       "    </tr>\n",
       "    <tr>\n",
       "      <th>1228506</th>\n",
       "      <td>nan</td>\n",
       "      <td>'0239650517</td>\n",
       "      <td>2024-01-31</td>\n",
       "      <td>2024-01-31</td>\n",
       "      <td>0000000000</td>\n",
       "      <td>IVA DE COMISION X OPERACION CB</td>\n",
       "      <td>nan</td>\n",
       "      <td>517</td>\n",
       "      <td>4264</td>\n",
       "      <td>0.00</td>\n",
       "      <td>...</td>\n",
       "      <td>139,056,210.15</td>\n",
       "      <td>42735563</td>\n",
       "      <td>nan</td>\n",
       "      <td>nan</td>\n",
       "      <td></td>\n",
       "      <td>nan</td>\n",
       "      <td>nan</td>\n",
       "      <td>nan</td>\n",
       "      <td>nan</td>\n",
       "      <td>nan</td>\n",
       "    </tr>\n",
       "    <tr>\n",
       "      <th>1228507</th>\n",
       "      <td>nan</td>\n",
       "      <td>'0239650517</td>\n",
       "      <td>2024-01-31</td>\n",
       "      <td>2024-01-31</td>\n",
       "      <td>0000000000</td>\n",
       "      <td>CLIP MX*KASSEL HOME  08584266D</td>\n",
       "      <td>nan</td>\n",
       "      <td>060</td>\n",
       "      <td>302</td>\n",
       "      <td>0.01</td>\n",
       "      <td>...</td>\n",
       "      <td>139,056,210.16</td>\n",
       "      <td>42735564</td>\n",
       "      <td>nan</td>\n",
       "      <td>nan</td>\n",
       "      <td>TASA_NATURAL</td>\n",
       "      <td>08584266D</td>\n",
       "      <td>8584266</td>\n",
       "      <td>D</td>\n",
       "      <td>nan</td>\n",
       "      <td>nan</td>\n",
       "    </tr>\n",
       "    <tr>\n",
       "      <th>1228508</th>\n",
       "      <td>nan</td>\n",
       "      <td>'0239650517</td>\n",
       "      <td>2024-01-31</td>\n",
       "      <td>2024-01-31</td>\n",
       "      <td>0000000000</td>\n",
       "      <td>CLIPMX*AGREGADOR     07927482C</td>\n",
       "      <td>nan</td>\n",
       "      <td>060</td>\n",
       "      <td>302</td>\n",
       "      <td>33,124.36</td>\n",
       "      <td>...</td>\n",
       "      <td>139,089,334.52</td>\n",
       "      <td>42735565</td>\n",
       "      <td>No. de Pagos 12     Tipo de Plan 03    Periodo...</td>\n",
       "      <td>nan</td>\n",
       "      <td>REGULAR TXN</td>\n",
       "      <td>07927482C</td>\n",
       "      <td>7927482</td>\n",
       "      <td>C</td>\n",
       "      <td>nan</td>\n",
       "      <td>nan</td>\n",
       "    </tr>\n",
       "    <tr>\n",
       "      <th>1228509</th>\n",
       "      <td>nan</td>\n",
       "      <td>'0239650517</td>\n",
       "      <td>2024-01-31</td>\n",
       "      <td>2024-01-31</td>\n",
       "      <td>0000000000</td>\n",
       "      <td>COMISION             07927482C</td>\n",
       "      <td>nan</td>\n",
       "      <td>600</td>\n",
       "      <td>302</td>\n",
       "      <td>0.00</td>\n",
       "      <td>...</td>\n",
       "      <td>139,088,721.72</td>\n",
       "      <td>42735566</td>\n",
       "      <td>No. de Pagos 12     Tipo de Plan 03    Periodo...</td>\n",
       "      <td>nan</td>\n",
       "      <td>REGULAR TXN</td>\n",
       "      <td>07927482C</td>\n",
       "      <td>7927482</td>\n",
       "      <td>C</td>\n",
       "      <td>nan</td>\n",
       "      <td>nan</td>\n",
       "    </tr>\n",
       "  </tbody>\n",
       "</table>\n",
       "<p>5 rows × 21 columns</p>\n",
       "</div>"
      ],
      "text/plain": [
       "          ID       Cuenta Fecha_operacion Fecha_banco  Referencia  \\\n",
       "1228505  nan  '0239650517      2024-01-31  2024-01-31  0020240130   \n",
       "1228506  nan  '0239650517      2024-01-31  2024-01-31  0000000000   \n",
       "1228507  nan  '0239650517      2024-01-31  2024-01-31  0000000000   \n",
       "1228508  nan  '0239650517      2024-01-31  2024-01-31  0000000000   \n",
       "1228509  nan  '0239650517      2024-01-31  2024-01-31  0000000000   \n",
       "\n",
       "                            Descripción TYPE Cod. Transac  Sucursal  \\\n",
       "1228505         COMISION X OPERACION CB  nan          537      4264   \n",
       "1228506  IVA DE COMISION X OPERACION CB  nan          517      4264   \n",
       "1228507  CLIP MX*KASSEL HOME  08584266D  nan          060       302   \n",
       "1228508  CLIPMX*AGREGADOR     07927482C  nan          060       302   \n",
       "1228509  COMISION             07927482C  nan          600       302   \n",
       "\n",
       "         Depósitos  ...           Saldo Movimiento  \\\n",
       "1228505       0.00  ...  139,056,242.95   42735562   \n",
       "1228506       0.00  ...  139,056,210.15   42735563   \n",
       "1228507       0.01  ...  139,056,210.16   42735564   \n",
       "1228508  33,124.36  ...  139,089,334.52   42735565   \n",
       "1228509       0.00  ...  139,088,721.72   42735566   \n",
       "\n",
       "                                     Descripción Detallada Cheque  \\\n",
       "1228505  OPERACIONES CONEXION BANORTE, OP 02: 000000001...    nan   \n",
       "1228506                                                nan    nan   \n",
       "1228507                                                nan    nan   \n",
       "1228508  No. de Pagos 12     Tipo de Plan 03    Periodo...    nan   \n",
       "1228509  No. de Pagos 12     Tipo de Plan 03    Periodo...    nan   \n",
       "\n",
       "                 Tipo Afiliacion_1 Afiliacion_final Tipo_operacion limit  \\\n",
       "1228505                        nan              nan            nan   nan   \n",
       "1228506                        nan              nan            nan   nan   \n",
       "1228507  TASA_NATURAL    08584266D          8584266              D   nan   \n",
       "1228508   REGULAR TXN    07927482C          7927482              C   nan   \n",
       "1228509   REGULAR TXN    07927482C          7927482              C   nan   \n",
       "\n",
       "        dev_column  \n",
       "1228505        nan  \n",
       "1228506        nan  \n",
       "1228507        nan  \n",
       "1228508        nan  \n",
       "1228509        nan  \n",
       "\n",
       "[5 rows x 21 columns]"
      ]
     },
     "execution_count": 30,
     "metadata": {},
     "output_type": "execute_result"
    }
   ],
   "source": [
    "edo_cta_weekly_final = edo_cta_weekly[['ID','Cuenta','Fecha_operacion','Fecha_banco','Referencia','Descripción','TYPE'\n",
    "                                       ,'Cod. Transac','Sucursal','Depósitos','Retiros','Saldo','Movimiento'\n",
    "                                       ,'Descripción Detallada','Cheque','Tipo','Afiliacion_1','Afiliacion_final'\n",
    "                                       ,'Tipo_operacion']]\n",
    "edo_cta_weekly_final.fillna('nan',inplace=True)\n",
    "edo_cta_weekly_final['ID'] = 'nan'\n",
    "edo_cta_weekly_final['TYPE'] = 'nan'\n",
    "edo_cta_weekly_final['limit'] = 'nan'\n",
    "edo_cta_weekly_final['dev_column'] = 'nan'\n",
    "edo_cta_weekly_final.head()"
   ]
  },
  {
   "cell_type": "code",
   "execution_count": 31,
   "metadata": {},
   "outputs": [
    {
     "data": {
      "text/plain": [
       "(1691, 21)"
      ]
     },
     "execution_count": 31,
     "metadata": {},
     "output_type": "execute_result"
    }
   ],
   "source": [
    "edo_cta_weekly_final.shape"
   ]
  },
  {
   "cell_type": "markdown",
   "metadata": {},
   "source": [
    "### CONCILIACION"
   ]
  },
  {
   "cell_type": "code",
   "execution_count": 32,
   "metadata": {},
   "outputs": [
    {
     "data": {
      "text/plain": [
       "array([0.00000000e+00, 1.00000000e-02, 3.31243600e+04, 1.52500000e+04,\n",
       "       1.96088000e+04, 1.10782240e+05, 6.36032600e+05, 3.93480090e+05,\n",
       "       1.55000000e+03, 5.45680000e+04, 4.01090690e+05, 1.19494960e+05,\n",
       "       4.92254210e+05, 5.93526050e+05, 4.06334150e+06, 2.89406128e+06,\n",
       "       1.69050000e+04, 3.98589400e+04, 2.03384680e+05, 1.30680830e+05,\n",
       "       3.59332220e+05, 3.29151990e+05, 1.26619759e+07, 2.32038750e+07,\n",
       "       3.41371510e+05, 5.00870000e+04, 1.12233400e+05, 5.49973800e+04,\n",
       "       1.08588589e+06, 5.72279260e+05, 2.57102300e+04, 3.24134000e+04,\n",
       "       5.47552000e+04, 1.57500000e+04, 6.73500000e+03, 2.45300000e+03,\n",
       "       3.81100000e+03, 5.00000000e+02, 2.87000000e+03, 7.00000000e+03,\n",
       "       1.39312000e+03, 2.28400000e+03, 4.92300000e+03, 1.09178200e+04,\n",
       "       3.07604500e+04, 4.82784500e+04, 1.56786100e+04, 2.98000000e+03,\n",
       "       3.00000000e+02, 3.00000000e+03, 2.87800000e+03, 2.22456000e+04,\n",
       "       6.42296400e+04, 8.12872670e+05, 3.34789630e+05, 1.16955182e+06,\n",
       "       1.25735358e+06, 1.48634152e+07, 9.11105808e+06, 7.88700000e+03,\n",
       "       2.40600000e+03, 1.80000000e+04, 6.69850290e+05, 2.32986000e+05,\n",
       "       3.65596470e+05, 3.45213550e+05, 6.97660219e+06, 1.25196935e+07,\n",
       "       3.55600000e+03, 3.87000000e+03, 7.03542200e+04, 6.35360000e+04,\n",
       "       1.22771013e+06, 2.19616250e+05, 1.14175413e+06, 1.38475875e+06,\n",
       "       7.06755308e+06, 1.66454637e+06, 2.54500000e+03, 3.54600000e+03,\n",
       "       8.55000000e+03, 2.90000000e+04, 6.85111000e+04, 1.92636000e+04,\n",
       "       7.30800000e+03, 5.32096000e+03, 1.67970000e+04, 2.69900000e+03,\n",
       "       2.00000000e+01, 8.97000000e+02, 3.24254000e+03, 4.22940000e+03,\n",
       "       2.10000000e+03, 1.16725000e+03, 4.95017600e+04, 4.36556000e+03,\n",
       "       1.16000000e+02, 1.50000000e+03, 8.15000000e+02, 6.60000000e+04,\n",
       "       1.70111100e+04, 9.40000000e+03, 2.90151450e+05, 2.75973100e+05,\n",
       "       2.68431000e+04, 1.86261200e+04, 5.42956400e+04, 4.11548400e+04,\n",
       "       2.62500000e+03, 3.17100000e+03, 1.41600000e+03, 3.11300000e+03,\n",
       "       8.03330000e+03, 2.64000000e+05, 2.88965440e+05, 7.35691600e+04,\n",
       "       3.82270850e+05, 4.77262230e+05, 7.59575572e+06, 1.75825084e+07,\n",
       "       1.69000000e+03, 2.75840000e+03, 7.10700000e+03, 9.38901000e+03,\n",
       "       4.35819800e+04, 7.42680000e+03, 2.00760000e+03, 2.58000000e+02,\n",
       "       1.15000000e+02, 2.26100000e+03, 1.99500000e+03, 2.49482400e+04,\n",
       "       2.99000000e+02, 1.87640000e+04, 7.74400000e+03, 4.10536000e+04,\n",
       "       1.17880000e+04, 8.33471400e+04, 4.87000000e+03, 2.49600000e+03,\n",
       "       1.90000000e+01, 2.92150000e+03, 3.05200000e+03, 4.37900000e+03,\n",
       "       6.06000000e+02, 1.39480000e+04, 1.25000000e+03, 3.24500000e+02,\n",
       "       3.60600000e+03, 2.18000000e+02, 3.28500000e+02, 1.11150000e+03,\n",
       "       1.18360000e+04, 4.20000000e+02, 7.90000000e+02, 8.00000000e+02,\n",
       "       6.20250000e+03, 1.22200000e+04, 2.26500000e+03, 2.33600000e+03,\n",
       "       1.68380000e+04, 2.46000000e+03, 4.11539800e+04, 1.32805000e+03,\n",
       "       3.61800000e+03, 2.71200000e+03, 1.77350000e+03, 1.00200000e+03,\n",
       "       3.97640000e+03, 1.54900000e+03, 2.73800000e+03, 1.54959000e+04,\n",
       "       6.07010500e+04, 3.12301300e+04, 9.54223000e+03, 1.89125000e+03,\n",
       "       3.74950000e+04, 9.45755390e+05, 1.83468670e+05, 3.77406980e+05,\n",
       "       2.88459030e+05, 3.05447036e+06, 1.52461144e+06, 8.00000000e+01,\n",
       "       1.76000000e+03, 3.50000000e+02, 1.09400000e+03, 9.72000000e+02,\n",
       "       1.14200000e+03, 1.48685000e+03, 5.33000000e+03, 2.35400000e+03,\n",
       "       2.47869210e+05, 2.87500000e+03, 8.17900000e+03, 5.09250000e+03,\n",
       "       1.69250000e+04, 1.72000000e+03, 2.63780000e+03, 2.45100000e+03,\n",
       "       1.59700000e+03, 7.28500000e+03, 2.36627000e+03, 4.35269000e+03,\n",
       "       3.29060000e+02, 5.58070000e+02, 1.21316000e+05, 1.67591930e+05,\n",
       "       7.81182200e+04, 1.15360999e+06, 7.07059010e+05, 7.98140000e+04,\n",
       "       1.16000000e+04, 1.18062150e+05, 1.35618680e+05, 1.82974846e+06,\n",
       "       1.26673981e+06, 2.79900550e+05, 6.46270000e+04, 1.68761240e+05,\n",
       "       1.23810160e+05, 2.09439885e+06, 1.47863103e+06, 8.67770000e+03,\n",
       "       5.04883140e+05, 7.19058460e+05, 6.99950000e+04, 3.69702000e+03,\n",
       "       1.75349000e+04, 3.14638300e+04, 1.39055000e+04, 9.86700000e+03,\n",
       "       5.38000000e+03, 1.06160000e+04, 1.97200000e+03, 9.00000000e+02,\n",
       "       1.19800000e+03, 1.36800000e+03, 2.31360000e+04, 2.50000000e+02,\n",
       "       3.18800000e+03, 3.65420000e+03, 1.17802200e+04, 3.07153100e+04,\n",
       "       2.26100000e+04, 8.07000000e+03, 1.16387530e+05, 8.20000000e+02,\n",
       "       1.08000000e+03, 9.75000000e+02, 1.68000000e+02, 2.76140000e+02,\n",
       "       7.49680000e+02, 1.57150000e+03, 1.76450000e+03, 2.70000000e+03,\n",
       "       3.80000000e+03, 4.60000000e+03, 4.89184300e+04, 2.64616900e+05,\n",
       "       1.61165490e+05, 2.57819000e+05, 6.58360850e+05, 6.61926750e+06,\n",
       "       4.58236178e+06, 3.25500000e+03, 7.84160000e+04, 7.56098800e+04,\n",
       "       1.41210940e+05, 7.17547800e+05, 2.39248280e+05, 5.48000000e+02,\n",
       "       2.61910000e+04, 1.54223250e+05, 1.33540000e+04, 9.34171100e+04,\n",
       "       1.86019190e+05, 1.69968557e+06, 1.18277804e+06, 2.80000000e+02,\n",
       "       2.45780000e+04, 3.06350000e+04, 4.10500000e+04, 1.16546900e+05,\n",
       "       2.40775900e+04, 9.16083550e+05, 1.58254440e+05, 3.63458000e+03,\n",
       "       6.56371000e+03, 8.34000000e+02, 7.36000000e+02, 3.45500000e+03,\n",
       "       3.83100000e+03, 2.42765000e+03, 2.02630000e+03, 1.67575600e+04,\n",
       "       1.90800000e+03, 1.02400000e+04, 1.57950000e+04, 5.51360000e+03,\n",
       "       5.54400000e+03, 9.25000000e+02, 7.60800000e+03, 1.05130000e+04,\n",
       "       6.39300000e+03, 9.69200000e+03, 1.74000000e+03, 1.70000000e+02,\n",
       "       1.84000000e+03, 2.49900000e+03, 2.10000000e+02, 4.51500000e+02,\n",
       "       3.90000000e+03, 1.39300000e+04, 4.75000000e+02, 5.00000000e+03,\n",
       "       1.00000000e+00, 9.55311000e+03, 1.30273100e+04, 6.19500000e+02,\n",
       "       9.24000000e+02, 4.80000000e+02, 6.21000000e+02, 2.20610000e+03,\n",
       "       6.30000000e+02, 3.83500000e+03, 1.60001000e+03, 1.29225000e+03,\n",
       "       2.16800000e+03, 8.51000000e+02, 8.88080000e+02, 7.14900000e+03,\n",
       "       1.83099046e+07, 1.23000000e+08, 1.32692000e+04, 1.00534000e+04,\n",
       "       6.80000000e+02, 1.44800000e+04, 1.28626630e+05, 3.61230000e+04,\n",
       "       6.12698000e+03, 1.00615200e+04, 4.69540000e+02, 2.98971000e+03,\n",
       "       8.24090000e+02, 2.33320000e+02, 7.66600000e+01, 5.54629000e+03,\n",
       "       2.87472000e+03, 1.16890000e+02, 6.86100000e+02, 3.49183000e+03,\n",
       "       3.16219000e+03, 3.43433000e+03, 2.29500000e+02, 2.08890000e+02,\n",
       "       6.22900000e+01, 2.20390000e+02, 1.38944800e+04, 1.02520000e+02,\n",
       "       1.77280000e+02, 6.56390000e+02, 1.76320000e+02, 1.81001900e+04,\n",
       "       2.05592000e+03, 1.57248000e+03, 5.74944000e+03, 2.83690000e+02,\n",
       "       2.92260000e+02, 1.43736000e+03, 2.29980000e+02, 5.74940000e+02,\n",
       "       4.02500000e+01, 1.72480000e+02, 8.14500000e+01, 4.05330000e+02,\n",
       "       5.17400000e+01, 1.60510000e+02, 2.61510000e+02, 3.25800000e+01,\n",
       "       4.79120000e+02, 1.84940000e+02, 2.25190000e+02, 7.57100000e+01,\n",
       "       2.03730000e+02, 2.00000000e+07, 5.04698235e+06])"
      ]
     },
     "execution_count": 32,
     "metadata": {},
     "output_type": "execute_result"
    }
   ],
   "source": [
    "edo_cta_weekly_final['Depósitos'].unique()"
   ]
  },
  {
   "cell_type": "code",
   "execution_count": 33,
   "metadata": {},
   "outputs": [
    {
     "data": {
      "text/plain": [
       "dtype('float64')"
      ]
     },
     "execution_count": 33,
     "metadata": {},
     "output_type": "execute_result"
    }
   ],
   "source": [
    "edo_cta_weekly_final['Depósitos'].dtypes"
   ]
  },
  {
   "cell_type": "code",
   "execution_count": 34,
   "metadata": {},
   "outputs": [
    {
     "data": {
      "text/plain": [
       "dtype('float64')"
      ]
     },
     "execution_count": 34,
     "metadata": {},
     "output_type": "execute_result"
    }
   ],
   "source": [
    "edo_cta_weekly_final['Retiros'].dtypes"
   ]
  },
  {
   "cell_type": "code",
   "execution_count": 35,
   "metadata": {},
   "outputs": [
    {
     "data": {
      "text/plain": [
       "dtype('O')"
      ]
     },
     "execution_count": 35,
     "metadata": {},
     "output_type": "execute_result"
    }
   ],
   "source": [
    "edo_cta_weekly_final['Saldo'].dtypes"
   ]
  },
  {
   "cell_type": "code",
   "execution_count": 36,
   "metadata": {},
   "outputs": [
    {
     "name": "stderr",
     "output_type": "stream",
     "text": [
      "C:\\Users\\Cristian.Aparicio\\AppData\\Local\\Temp\\ipykernel_19688\\392704393.py:1: SettingWithCopyWarning: \n",
      "A value is trying to be set on a copy of a slice from a DataFrame.\n",
      "Try using .loc[row_indexer,col_indexer] = value instead\n",
      "\n",
      "See the caveats in the documentation: https://pandas.pydata.org/pandas-docs/stable/user_guide/indexing.html#returning-a-view-versus-a-copy\n",
      "  edo_cta_weekly_final['TYPE'] = edo_cta_weekly_final['Descripción Detallada'].str[13:15].replace(' ', '',regex=True)\n"
     ]
    }
   ],
   "source": [
    "edo_cta_weekly_final['TYPE'] = edo_cta_weekly_final['Descripción Detallada'].str[13:15].replace(' ', '',regex=True)"
   ]
  },
  {
   "cell_type": "code",
   "execution_count": 37,
   "metadata": {},
   "outputs": [],
   "source": [
    "edo_cta_weekly_final.loc[edo_cta_weekly_final['TYPE'] == '', 'TYPE'] = edo_cta_weekly_final['Descripción'].str[29:30].replace(' ', '',regex=True)"
   ]
  },
  {
   "cell_type": "code",
   "execution_count": 38,
   "metadata": {},
   "outputs": [
    {
     "data": {
      "text/plain": [
       "array(['ON', 'B', 'D', '12', '09', '06', '03', 'C', '24', '18', ',', 'PL',\n",
       "       '00', '45', '80', '15', '02', '10', '76', '58', '88', '85', '69',\n",
       "       '19', '32', '68', '59', '05', '29', '66', '91', '43', '81', '27',\n",
       "       '54', '70', '16', 'CT', '40', '04'], dtype=object)"
      ]
     },
     "execution_count": 38,
     "metadata": {},
     "output_type": "execute_result"
    }
   ],
   "source": [
    " edo_cta_weekly_final['TYPE'].unique()"
   ]
  },
  {
   "cell_type": "code",
   "execution_count": 39,
   "metadata": {},
   "outputs": [],
   "source": [
    "edo_cta_weekly_final.loc[edo_cta_weekly_final['Depósitos'] != 0, 'ID'] = 1\n",
    "edo_cta_weekly_final.loc[(edo_cta_weekly_final['Descripción'].str.contains('IVA COMISION') & (edo_cta_weekly_final['ID'] != 1)), 'ID'] = 2\n",
    "edo_cta_weekly_final.loc[edo_cta_weekly_final['Descripción'].str[:8] == 'COMISION' , 'ID'] = 1\n",
    "edo_cta_weekly_final.loc[edo_cta_weekly_final['ID'] == '' , 'ID'] = 'nan'"
   ]
  },
  {
   "cell_type": "code",
   "execution_count": 40,
   "metadata": {},
   "outputs": [],
   "source": [
    "edo_cta_weekly_final.loc[edo_cta_weekly_final['Descripción'].str.contains('COMISION ORDEN DE PAGO SPEI'), 'ID'] = 11\n",
    "edo_cta_weekly_final.loc[edo_cta_weekly_final['Descripción'].str.contains('I.V.A. ORDEN DE PAGO SPEI') , 'ID'] = 22\n",
    "edo_cta_weekly_final.loc[edo_cta_weekly_final['Descripción'].str.contains('COMPRA ORDEN DE PAGO SPEI') &\n",
    "                         edo_cta_weekly_final['Descripción Detallada'].str.contains('TRASPASO MERCHANT'), 'ID'] = 'FS'\n",
    "edo_cta_weekly_final.loc[edo_cta_weekly_final['Descripción Detallada'].str.contains('TRASPASO BANAMEX MSI'), 'TYPE'] = 'BAN'\n",
    "edo_cta_weekly_final.loc[edo_cta_weekly_final['Descripción Detallada'].str.contains('TIPO DE PLAN 20') &\n",
    "                         edo_cta_weekly_final['Cod. Transac'] == '060', 'TYPE'] = 'PLAN20'\n",
    "edo_cta_weekly_final.loc[edo_cta_weekly_final['Descripción'].str.contains('COMPRA ORDEN DE PAGO SPEI') &\n",
    "                         edo_cta_weekly_final['Descripción Detallada'].str.contains('TRASPASO MERCHANT'), 'TYPE'] = 'nan'"
   ]
  },
  {
   "cell_type": "code",
   "execution_count": 41,
   "metadata": {},
   "outputs": [
    {
     "name": "stderr",
     "output_type": "stream",
     "text": [
      "C:\\Users\\Cristian.Aparicio\\AppData\\Local\\Temp\\ipykernel_19688\\3673321521.py:4: SettingWithCopyWarning: \n",
      "A value is trying to be set on a copy of a slice from a DataFrame.\n",
      "Try using .loc[row_indexer,col_indexer] = value instead\n",
      "\n",
      "See the caveats in the documentation: https://pandas.pydata.org/pandas-docs/stable/user_guide/indexing.html#returning-a-view-versus-a-copy\n",
      "  edo_cta_weekly_final['Referencia'] = 0\n"
     ]
    }
   ],
   "source": [
    "edo_cta_weekly_final.loc[edo_cta_weekly_final['Descripción Detallada'].str.contains('AMERICAN EXPRESS'), 'TYPE'] = 'AMEX'\n",
    "edo_cta_weekly_final.loc[edo_cta_weekly_final['Descripción Detallada'].str.contains('OPENPAY'), 'TYPE'] = 'OP'\n",
    "edo_cta_weekly_final.loc[edo_cta_weekly_final['Cod. Transac'] == '602', 'TYPE'] = 'CC'\n",
    "edo_cta_weekly_final['Referencia'] = 0\n"
   ]
  },
  {
   "cell_type": "code",
   "execution_count": 42,
   "metadata": {},
   "outputs": [],
   "source": [
    "edo_cta_weekly_final.loc[edo_cta_weekly_final['Cod. Transac'] == '504', 'TYPE'] = 'H2H'\n",
    "edo_cta_weekly_final.loc[(edo_cta_weekly_final['Cod. Transac'] == '511') & \n",
    "                         ~edo_cta_weekly_final['Descripción Detallada'].str.contains('=REFERENCIA'), 'TYPE'] = 'H2H'\n",
    "edo_cta_weekly_final.loc[(edo_cta_weekly_final['Cod. Transac'] == '001'), 'TYPE'] = 'DEV H2H'\n",
    "edo_cta_weekly_final.loc[(edo_cta_weekly_final['Cod. Transac'] == '003') & \n",
    "                          edo_cta_weekly_final['Descripción'].str.contains('RETORNO SPEI'), 'TYPE'] = 'DEV H2H'\n",
    "edo_cta_weekly_final.loc[(edo_cta_weekly_final['Cod. Transac'] == '003') & \n",
    "                          edo_cta_weekly_final['Descripción'].str.contains('DEV'), 'TYPE'] = 'DEV H2H'\n",
    "edo_cta_weekly_final.loc[(edo_cta_weekly_final['Cod. Transac'] == '003') & \n",
    "                          edo_cta_weekly_final['Descripción Detallada'].str.contains('ANUL SPEI'), 'TYPE'] = 'DEV H2H'"
   ]
  },
  {
   "cell_type": "code",
   "execution_count": 43,
   "metadata": {},
   "outputs": [],
   "source": [
    "edo_cta_weekly_final.loc[edo_cta_weekly_final['Descripción'].str.contains('COMISION X OPERACION') , 'TYPE'] = 'COMCB'\n",
    "edo_cta_weekly_final.loc[edo_cta_weekly_final['Descripción'].str.contains('IVA DE COMISION X OPERACION') , 'TYPE'] = 'IVACOMCB'\n",
    "edo_cta_weekly_final.loc[edo_cta_weekly_final['Descripción'].str.contains('COM CONEXI') , 'TYPE'] = 'COMCB'\n",
    "edo_cta_weekly_final.loc[edo_cta_weekly_final['Descripción'].str.contains('IVA COMISION CXB') , 'TYPE'] = 'IVACOMCB'"
   ]
  },
  {
   "cell_type": "code",
   "execution_count": 44,
   "metadata": {},
   "outputs": [],
   "source": [
    "edo_cta_weekly_final.loc[edo_cta_weekly_final['Tipo'].str.contains('XPAY') &\n",
    "                         edo_cta_weekly_final['Tipo_operacion'].str.contains('D'), 'TYPE'] = 'ECOMD'"
   ]
  },
  {
   "cell_type": "code",
   "execution_count": 45,
   "metadata": {},
   "outputs": [],
   "source": [
    "edo_cta_weekly_final.loc[edo_cta_weekly_final['Tipo'].str.contains('XPAY') &\n",
    "                         edo_cta_weekly_final['Tipo_operacion'].str.contains('C'), 'TYPE'] = 'ECOMC'"
   ]
  },
  {
   "cell_type": "code",
   "execution_count": 46,
   "metadata": {},
   "outputs": [],
   "source": [
    "edo_cta_weekly_final.loc[edo_cta_weekly_final['Tipo'].str.contains('TASA_NATURAL') &\n",
    "                         edo_cta_weekly_final['Tipo_operacion'].str.contains('D'), 'TYPE'] = 'TNATD'"
   ]
  },
  {
   "cell_type": "code",
   "execution_count": 47,
   "metadata": {},
   "outputs": [],
   "source": [
    "edo_cta_weekly_final.loc[edo_cta_weekly_final['Tipo'].str.contains('TASA_NATURAL') &\n",
    "                         edo_cta_weekly_final['Tipo_operacion'].str.contains('C'), 'TYPE'] = 'TNATC'"
   ]
  },
  {
   "cell_type": "code",
   "execution_count": 48,
   "metadata": {},
   "outputs": [],
   "source": [
    "edo_cta_weekly_final.loc[edo_cta_weekly_final['Descripción Detallada'].str.contains('TARJ No') &\n",
    "                         ((edo_cta_weekly_final['Descripción'].str.contains('CLIP MX')) |\n",
    "                          (edo_cta_weekly_final['Descripción'].str.contains('PAYCLIP')) |\n",
    "                         (edo_cta_weekly_final['Descripción'].str.contains('COMISION')) |\n",
    "                         (edo_cta_weekly_final['Descripción'].str.contains('IVA COMISION'))), 'TYPE'] = edo_cta_weekly_final['Tipo_operacion']"
   ]
  },
  {
   "cell_type": "code",
   "execution_count": 49,
   "metadata": {},
   "outputs": [],
   "source": [
    "edo_cta_weekly_final.loc[edo_cta_weekly_final['Tipo'].str.contains('XPAY') &\n",
    "                         edo_cta_weekly_final['Descripción Detallada'].str.contains('CONTRACARGO'), 'TYPE'] = 'CC'"
   ]
  },
  {
   "cell_type": "code",
   "execution_count": 50,
   "metadata": {},
   "outputs": [],
   "source": [
    "edo_cta_weekly_final.loc[edo_cta_weekly_final['Descripción'].str.contains('TRASPASO A CUENTA PROPIA') &\n",
    "                         edo_cta_weekly_final['Descripción Detallada'].str.contains('4204'), 'TYPE'] = 'TRAS4204'\n",
    "edo_cta_weekly_final.loc[edo_cta_weekly_final['Descripción'].str.contains('TRASPASO A CUENTA PROPIA') &\n",
    "                         edo_cta_weekly_final['Descripción Detallada'].str.contains('7640'), 'TYPE'] = 'TRAS7640'\n",
    "edo_cta_weekly_final.loc[edo_cta_weekly_final['Descripción'].str.contains('TRASPASO A CUENTA PROPIA') &\n",
    "                         edo_cta_weekly_final['Descripción Detallada'].str.contains('7490'), 'TYPE'] = 'TRAS7490'\n",
    "edo_cta_weekly_final.loc[edo_cta_weekly_final['Descripción'].str.contains('DEPOSITO DE CUENTA PROPIA') &\n",
    "                         edo_cta_weekly_final['Descripción Detallada'].str.contains('4204'), 'TYPE'] = 'CTA4204'\n",
    "edo_cta_weekly_final.loc[edo_cta_weekly_final['Descripción'].str.contains('DEPOSITO DE CUENTA PROPIA') &\n",
    "                         edo_cta_weekly_final['Descripción Detallada'].str.contains('7640'), 'TYPE'] = 'CTA7640'\n",
    "edo_cta_weekly_final.loc[edo_cta_weekly_final['Descripción'].str.contains('DEPOSITO DE CUENTA PROPIA') &\n",
    "                         edo_cta_weekly_final['Descripción Detallada'].str.contains('9335'), 'TYPE'] = 'CTA9335'\n",
    "edo_cta_weekly_final.loc[edo_cta_weekly_final['Descripción'].str.contains('DEPOSITO DE CUENTA PROPIA') &\n",
    "                         edo_cta_weekly_final['Descripción Detallada'].str.contains('7490'), 'TYPE'] = 'CTA7490'"
   ]
  },
  {
   "cell_type": "code",
   "execution_count": 51,
   "metadata": {},
   "outputs": [],
   "source": [
    "\n",
    "edo_cta_weekly_final.loc[edo_cta_weekly_final['Descripción'].str.contains('REV VTA'), 'dev_column'] = 'DEV'\n",
    "edo_cta_weekly_final.loc[edo_cta_weekly_final['Descripción'].str.contains('REV CLIP'), 'dev_column'] = 'DEV'\n",
    "edo_cta_weekly_final.loc[((edo_cta_weekly_final['Descripción'].str.contains('CLIP MX')) &\n",
    "                         (edo_cta_weekly_final['Depósitos'] == '0.00') &\n",
    "                          (~edo_cta_weekly_final['Descripción Detallada'].str.contains('CONTRACARGO'))), 'dev_column'] = 'DEV'\n",
    "edo_cta_weekly_final.loc[((edo_cta_weekly_final['Descripción'].str.contains('CLIPCOM')) &\n",
    "                         (edo_cta_weekly_final['Depósitos'] == '0.00') &\n",
    "                          (~edo_cta_weekly_final['Descripción Detallada'].str.contains('CONTRACARGO'))), 'dev_column'] = 'DEV'\n",
    "edo_cta_weekly_final.loc[edo_cta_weekly_final['Descripción'].str.contains('COMISION') &\n",
    "                         edo_cta_weekly_final['Descripción Detallada'].str.contains('COMISION'), 'dev_column'] = 'DEV'\n",
    "edo_cta_weekly_final.loc[edo_cta_weekly_final['Descripción'].str.contains('IVA') &\n",
    "                         edo_cta_weekly_final['Descripción Detallada'].str.contains('COMISION'), 'dev_column'] = 'DEV'"
   ]
  },
  {
   "cell_type": "code",
   "execution_count": 52,
   "metadata": {},
   "outputs": [],
   "source": [
    "edo_cta_weekly_final.loc[edo_cta_weekly_final['Descripción'].str.contains('COMISION ENVIO MT940'), 'TYPE'] = 'MT940'\n",
    "edo_cta_weekly_final.loc[edo_cta_weekly_final['Descripción'].str.contains('IVA DE COMISION ENVIO MT940'), 'TYPE'] = 'IVAMT940'\n",
    "edo_cta_weekly_final.loc[edo_cta_weekly_final['Descripción'].str.contains('COMISION ENVIO MT940'), 'dev_column'] = ''\n",
    "edo_cta_weekly_final.loc[edo_cta_weekly_final['Descripción'].str.contains('IVA DE COMISION ENVIO MT940'), 'dev_column'] = ''"
   ]
  },
  {
   "cell_type": "code",
   "execution_count": 53,
   "metadata": {},
   "outputs": [],
   "source": [
    "edo_cta_weekly_final.loc[edo_cta_weekly_final['Descripción'].str.contains('COBRO VISA'), 'TYPE'] = 'COBROVISA'\n",
    "edo_cta_weekly_final.loc[edo_cta_weekly_final['Descripción'].isin(['CERTVISA','CERTIFICACISN VISA']), 'TYPE'] = 'CERTVISA'\n",
    "edo_cta_weekly_final.loc[edo_cta_weekly_final['Descripción'].str.contains('NONCOMPLIANCEFEE'), 'TYPE'] = 'NONCOMPFEE'\n",
    "edo_cta_weekly_final.loc[edo_cta_weekly_final['Descripción'].str.contains('INVERSION MDD'), 'TYPE'] = 'INV'\n",
    "edo_cta_weekly_final.loc[edo_cta_weekly_final['Descripción'].str.contains('VENC. CAP. MDD'), 'TYPE'] = 'VENCCAPMDD'\n",
    "edo_cta_weekly_final.loc[edo_cta_weekly_final['Descripción'].str.contains('INTERES MDD'), 'TYPE'] = 'INTMDD'\n",
    "edo_cta_weekly_final.loc[edo_cta_weekly_final['Descripción'].str.contains('Impuesto Sobre la Renta'), 'TYPE'] = 'ISR'"
   ]
  },
  {
   "cell_type": "code",
   "execution_count": 54,
   "metadata": {},
   "outputs": [],
   "source": [
    "edo_cta_weekly_final.loc[edo_cta_weekly_final['Descripción Detallada'].str.contains('DE LA CLABE 014180655095310419'), 'TYPE'] = 'TRAS0419'\n",
    "edo_cta_weekly_final.loc[edo_cta_weekly_final['Descripción Detallada'].str.contains('DE LA CLABE 012180001953705822'), 'TYPE'] = 'CTA582'\n",
    "edo_cta_weekly_final.loc[edo_cta_weekly_final['Descripción Detallada'].str.contains('DE LA CLABE 110180000776461644'), 'TYPE'] = 'CTA164'\n",
    "edo_cta_weekly_final.loc[edo_cta_weekly_final['Descripción Detallada'].str.contains('DE LA CLABE 002180700815061818'), 'TYPE'] = 'CTA1818'\n",
    "edo_cta_weekly_final.loc[edo_cta_weekly_final['Descripción Detallada'].str.contains('DE LA CLABE 002180700475932617'), 'TYPE'] = 'CTA2617'\n",
    "edo_cta_weekly_final.loc[edo_cta_weekly_final['Descripción Detallada'].str.contains('DE LA CLABE 014180655068329767'), 'TYPE'] = 'CTA9767'\n",
    "edo_cta_weekly_final.loc[edo_cta_weekly_final['Descripción Detallada'].str.contains('DE LA CLABE 014180655081499454'), 'TYPE'] = 'DEP SWAP'\n",
    "edo_cta_weekly_final.loc[edo_cta_weekly_final['Descripción Detallada'].str.contains('DE LA CLABE 646180202711900005'), 'TYPE'] = 'DEP SWAP'"
   ]
  },
  {
   "cell_type": "code",
   "execution_count": 55,
   "metadata": {},
   "outputs": [],
   "source": [
    "edo_cta_weekly_final.loc[edo_cta_weekly_final['Cod. Transac'].str.contains('003') &\n",
    "                         edo_cta_weekly_final['Descripción Detallada'].str.contains('CACAO PAYCARD SOLUTIONS'), 'TYPE'] = 'DEVCACAO'"
   ]
  },
  {
   "cell_type": "code",
   "execution_count": 56,
   "metadata": {},
   "outputs": [],
   "source": [
    "edo_cta_weekly_final.loc[edo_cta_weekly_final['Descripción'].str.contains('CC CORRECCION CARGO'), 'TYPE'] = 'COR.CARGO'"
   ]
  },
  {
   "cell_type": "code",
   "execution_count": 57,
   "metadata": {},
   "outputs": [],
   "source": [
    "edo_cta_weekly_final.loc[edo_cta_weekly_final['Descripción Detallada'].str.contains('REVERSO CONTRACARGO'), 'TYPE'] = 'RCC'"
   ]
  },
  {
   "cell_type": "code",
   "execution_count": 58,
   "metadata": {},
   "outputs": [],
   "source": [
    "edo_cta_weekly_final.loc[edo_cta_weekly_final['Descripción Detallada'].str.contains('COM.ESTADO CTA'), 'TYPE'] = 'COMEDOCTA'\n",
    "edo_cta_weekly_final.loc[edo_cta_weekly_final['Descripción Detallada'].str.contains('IVA COM.EDO.CTA'), 'TYPE'] = 'IVACOMEDOCTA'"
   ]
  },
  {
   "cell_type": "code",
   "execution_count": 59,
   "metadata": {},
   "outputs": [],
   "source": [
    "edo_cta_weekly_final.loc[edo_cta_weekly_final['Descripción Detallada'].str.contains('COMPENSACION SPEI'), 'TYPE'] = 'COMPSPEI'\n",
    "edo_cta_weekly_final.loc[edo_cta_weekly_final['Descripción Detallada'].str.contains('COMPENSACION DESFASE'), 'TYPE'] = 'COMPSPEI'"
   ]
  },
  {
   "cell_type": "code",
   "execution_count": 60,
   "metadata": {},
   "outputs": [
    {
     "name": "stderr",
     "output_type": "stream",
     "text": [
      "C:\\Users\\Cristian.Aparicio\\AppData\\Local\\Temp\\ipykernel_19688\\2531087657.py:1: SettingWithCopyWarning: \n",
      "A value is trying to be set on a copy of a slice from a DataFrame.\n",
      "Try using .loc[row_indexer,col_indexer] = value instead\n",
      "\n",
      "See the caveats in the documentation: https://pandas.pydata.org/pandas-docs/stable/user_guide/indexing.html#returning-a-view-versus-a-copy\n",
      "  edo_cta_weekly_final['limit'] = edo_cta_weekly_final.groupby('Fecha_operacion')['Cuenta'].shift(-1)\n",
      "C:\\Users\\Cristian.Aparicio\\AppData\\Local\\Temp\\ipykernel_19688\\2531087657.py:2: SettingWithCopyWarning: \n",
      "A value is trying to be set on a copy of a slice from a DataFrame\n",
      "\n",
      "See the caveats in the documentation: https://pandas.pydata.org/pandas-docs/stable/user_guide/indexing.html#returning-a-view-versus-a-copy\n",
      "  edo_cta_weekly_final['limit'].fillna('LIMIT',inplace=True)\n",
      "C:\\Users\\Cristian.Aparicio\\AppData\\Local\\Temp\\ipykernel_19688\\2531087657.py:3: SettingWithCopyWarning: \n",
      "A value is trying to be set on a copy of a slice from a DataFrame\n",
      "\n",
      "See the caveats in the documentation: https://pandas.pydata.org/pandas-docs/stable/user_guide/indexing.html#returning-a-view-versus-a-copy\n",
      "  edo_cta_weekly_final['limit'].replace(\"'0239650517\",'',inplace=True)\n"
     ]
    }
   ],
   "source": [
    "edo_cta_weekly_final['limit'] = edo_cta_weekly_final.groupby('Fecha_operacion')['Cuenta'].shift(-1)\n",
    "edo_cta_weekly_final['limit'].fillna('LIMIT',inplace=True)\n",
    "edo_cta_weekly_final['limit'].replace(\"'0239650517\",'',inplace=True)\n"
   ]
  },
  {
   "cell_type": "code",
   "execution_count": 61,
   "metadata": {},
   "outputs": [
    {
     "name": "stderr",
     "output_type": "stream",
     "text": [
      "C:\\Users\\Cristian.Aparicio\\AppData\\Local\\Temp\\ipykernel_19688\\934645789.py:1: SettingWithCopyWarning: \n",
      "A value is trying to be set on a copy of a slice from a DataFrame\n",
      "\n",
      "See the caveats in the documentation: https://pandas.pydata.org/pandas-docs/stable/user_guide/indexing.html#returning-a-view-versus-a-copy\n",
      "  edo_cta_weekly_final.replace('nan','',inplace=True)\n"
     ]
    }
   ],
   "source": [
    "edo_cta_weekly_final.replace('nan','',inplace=True)"
   ]
  },
  {
   "cell_type": "code",
   "execution_count": 62,
   "metadata": {},
   "outputs": [
    {
     "data": {
      "text/html": [
       "<div>\n",
       "<style scoped>\n",
       "    .dataframe tbody tr th:only-of-type {\n",
       "        vertical-align: middle;\n",
       "    }\n",
       "\n",
       "    .dataframe tbody tr th {\n",
       "        vertical-align: top;\n",
       "    }\n",
       "\n",
       "    .dataframe thead th {\n",
       "        text-align: right;\n",
       "    }\n",
       "</style>\n",
       "<table border=\"1\" class=\"dataframe\">\n",
       "  <thead>\n",
       "    <tr style=\"text-align: right;\">\n",
       "      <th></th>\n",
       "      <th>ID</th>\n",
       "      <th>Cuenta</th>\n",
       "      <th>Fecha_operacion</th>\n",
       "      <th>Fecha_banco</th>\n",
       "      <th>Referencia</th>\n",
       "      <th>Descripción</th>\n",
       "      <th>TYPE</th>\n",
       "      <th>Cod. Transac</th>\n",
       "      <th>Sucursal</th>\n",
       "      <th>Depósitos</th>\n",
       "      <th>...</th>\n",
       "      <th>Saldo</th>\n",
       "      <th>Movimiento</th>\n",
       "      <th>Descripción Detallada</th>\n",
       "      <th>Cheque</th>\n",
       "      <th>Tipo</th>\n",
       "      <th>Afiliacion_1</th>\n",
       "      <th>Afiliacion_final</th>\n",
       "      <th>Tipo_operacion</th>\n",
       "      <th>limit</th>\n",
       "      <th>dev_column</th>\n",
       "    </tr>\n",
       "  </thead>\n",
       "  <tbody>\n",
       "    <tr>\n",
       "      <th>1228505</th>\n",
       "      <td>1</td>\n",
       "      <td>'0239650517</td>\n",
       "      <td>2024-01-31</td>\n",
       "      <td>2024-01-31</td>\n",
       "      <td>0</td>\n",
       "      <td>COMISION X OPERACION CB</td>\n",
       "      <td>COMCB</td>\n",
       "      <td>537</td>\n",
       "      <td>4264</td>\n",
       "      <td>0.00</td>\n",
       "      <td>...</td>\n",
       "      <td>139,056,242.95</td>\n",
       "      <td>42735562</td>\n",
       "      <td>OPERACIONES CONEXION BANORTE, OP 02: 000000001...</td>\n",
       "      <td></td>\n",
       "      <td></td>\n",
       "      <td></td>\n",
       "      <td></td>\n",
       "      <td></td>\n",
       "      <td></td>\n",
       "      <td></td>\n",
       "    </tr>\n",
       "    <tr>\n",
       "      <th>1228506</th>\n",
       "      <td></td>\n",
       "      <td>'0239650517</td>\n",
       "      <td>2024-01-31</td>\n",
       "      <td>2024-01-31</td>\n",
       "      <td>0</td>\n",
       "      <td>IVA DE COMISION X OPERACION CB</td>\n",
       "      <td>IVACOMCB</td>\n",
       "      <td>517</td>\n",
       "      <td>4264</td>\n",
       "      <td>0.00</td>\n",
       "      <td>...</td>\n",
       "      <td>139,056,210.15</td>\n",
       "      <td>42735563</td>\n",
       "      <td></td>\n",
       "      <td></td>\n",
       "      <td></td>\n",
       "      <td></td>\n",
       "      <td></td>\n",
       "      <td></td>\n",
       "      <td></td>\n",
       "      <td></td>\n",
       "    </tr>\n",
       "    <tr>\n",
       "      <th>1228507</th>\n",
       "      <td>1</td>\n",
       "      <td>'0239650517</td>\n",
       "      <td>2024-01-31</td>\n",
       "      <td>2024-01-31</td>\n",
       "      <td>0</td>\n",
       "      <td>CLIP MX*KASSEL HOME  08584266D</td>\n",
       "      <td>TNATD</td>\n",
       "      <td>060</td>\n",
       "      <td>302</td>\n",
       "      <td>0.01</td>\n",
       "      <td>...</td>\n",
       "      <td>139,056,210.16</td>\n",
       "      <td>42735564</td>\n",
       "      <td></td>\n",
       "      <td></td>\n",
       "      <td>TASA_NATURAL</td>\n",
       "      <td>08584266D</td>\n",
       "      <td>8584266</td>\n",
       "      <td>D</td>\n",
       "      <td></td>\n",
       "      <td></td>\n",
       "    </tr>\n",
       "    <tr>\n",
       "      <th>1228508</th>\n",
       "      <td>1</td>\n",
       "      <td>'0239650517</td>\n",
       "      <td>2024-01-31</td>\n",
       "      <td>2024-01-31</td>\n",
       "      <td>0</td>\n",
       "      <td>CLIPMX*AGREGADOR     07927482C</td>\n",
       "      <td>12</td>\n",
       "      <td>060</td>\n",
       "      <td>302</td>\n",
       "      <td>33,124.36</td>\n",
       "      <td>...</td>\n",
       "      <td>139,089,334.52</td>\n",
       "      <td>42735565</td>\n",
       "      <td>No. de Pagos 12     Tipo de Plan 03    Periodo...</td>\n",
       "      <td></td>\n",
       "      <td>REGULAR TXN</td>\n",
       "      <td>07927482C</td>\n",
       "      <td>7927482</td>\n",
       "      <td>C</td>\n",
       "      <td></td>\n",
       "      <td></td>\n",
       "    </tr>\n",
       "    <tr>\n",
       "      <th>1228509</th>\n",
       "      <td>1</td>\n",
       "      <td>'0239650517</td>\n",
       "      <td>2024-01-31</td>\n",
       "      <td>2024-01-31</td>\n",
       "      <td>0</td>\n",
       "      <td>COMISION             07927482C</td>\n",
       "      <td>12</td>\n",
       "      <td>600</td>\n",
       "      <td>302</td>\n",
       "      <td>0.00</td>\n",
       "      <td>...</td>\n",
       "      <td>139,088,721.72</td>\n",
       "      <td>42735566</td>\n",
       "      <td>No. de Pagos 12     Tipo de Plan 03    Periodo...</td>\n",
       "      <td></td>\n",
       "      <td>REGULAR TXN</td>\n",
       "      <td>07927482C</td>\n",
       "      <td>7927482</td>\n",
       "      <td>C</td>\n",
       "      <td></td>\n",
       "      <td></td>\n",
       "    </tr>\n",
       "  </tbody>\n",
       "</table>\n",
       "<p>5 rows × 21 columns</p>\n",
       "</div>"
      ],
      "text/plain": [
       "        ID       Cuenta Fecha_operacion Fecha_banco  Referencia  \\\n",
       "1228505  1  '0239650517      2024-01-31  2024-01-31           0   \n",
       "1228506     '0239650517      2024-01-31  2024-01-31           0   \n",
       "1228507  1  '0239650517      2024-01-31  2024-01-31           0   \n",
       "1228508  1  '0239650517      2024-01-31  2024-01-31           0   \n",
       "1228509  1  '0239650517      2024-01-31  2024-01-31           0   \n",
       "\n",
       "                            Descripción      TYPE Cod. Transac  Sucursal  \\\n",
       "1228505         COMISION X OPERACION CB     COMCB          537      4264   \n",
       "1228506  IVA DE COMISION X OPERACION CB  IVACOMCB          517      4264   \n",
       "1228507  CLIP MX*KASSEL HOME  08584266D     TNATD          060       302   \n",
       "1228508  CLIPMX*AGREGADOR     07927482C        12          060       302   \n",
       "1228509  COMISION             07927482C        12          600       302   \n",
       "\n",
       "         Depósitos  ...           Saldo Movimiento  \\\n",
       "1228505       0.00  ...  139,056,242.95   42735562   \n",
       "1228506       0.00  ...  139,056,210.15   42735563   \n",
       "1228507       0.01  ...  139,056,210.16   42735564   \n",
       "1228508  33,124.36  ...  139,089,334.52   42735565   \n",
       "1228509       0.00  ...  139,088,721.72   42735566   \n",
       "\n",
       "                                     Descripción Detallada Cheque  \\\n",
       "1228505  OPERACIONES CONEXION BANORTE, OP 02: 000000001...          \n",
       "1228506                                                             \n",
       "1228507                                                             \n",
       "1228508  No. de Pagos 12     Tipo de Plan 03    Periodo...          \n",
       "1228509  No. de Pagos 12     Tipo de Plan 03    Periodo...          \n",
       "\n",
       "                 Tipo Afiliacion_1 Afiliacion_final Tipo_operacion limit  \\\n",
       "1228505                                                                    \n",
       "1228506                                                                    \n",
       "1228507  TASA_NATURAL    08584266D          8584266              D         \n",
       "1228508   REGULAR TXN    07927482C          7927482              C         \n",
       "1228509   REGULAR TXN    07927482C          7927482              C         \n",
       "\n",
       "        dev_column  \n",
       "1228505             \n",
       "1228506             \n",
       "1228507             \n",
       "1228508             \n",
       "1228509             \n",
       "\n",
       "[5 rows x 21 columns]"
      ]
     },
     "execution_count": 62,
     "metadata": {},
     "output_type": "execute_result"
    }
   ],
   "source": [
    "edo_cta_weekly_final.head()"
   ]
  },
  {
   "cell_type": "code",
   "execution_count": 63,
   "metadata": {},
   "outputs": [
    {
     "data": {
      "text/plain": [
       "(1691, 21)"
      ]
     },
     "execution_count": 63,
     "metadata": {},
     "output_type": "execute_result"
    }
   ],
   "source": [
    "edo_cta_weekly_final.shape"
   ]
  },
  {
   "cell_type": "code",
   "execution_count": 64,
   "metadata": {},
   "outputs": [
    {
     "data": {
      "text/plain": [
       "array(['COMCB', 'IVACOMCB', 'TNATD', '12', '09', '06', '03', 'C', 'D',\n",
       "       '24', '18', 'TNATC', 'ECOMC', 'ECOMD', 'AMEX', 'H2H', 'CC',\n",
       "       'CTA9767', 'DEV H2H', 'CT', '40', 'CTA4204', 'TRAS0419'],\n",
       "      dtype=object)"
      ]
     },
     "execution_count": 64,
     "metadata": {},
     "output_type": "execute_result"
    }
   ],
   "source": [
    "edo_cta_weekly_final['TYPE'].unique()"
   ]
  },
  {
   "cell_type": "code",
   "execution_count": 65,
   "metadata": {},
   "outputs": [
    {
     "data": {
      "text/plain": [
       "array([1, '', 2, 11, 22], dtype=object)"
      ]
     },
     "execution_count": 65,
     "metadata": {},
     "output_type": "execute_result"
    }
   ],
   "source": [
    "edo_cta_weekly_final['ID'].unique()"
   ]
  },
  {
   "cell_type": "code",
   "execution_count": 66,
   "metadata": {},
   "outputs": [],
   "source": [
    "edo_cta_weekly_final.to_csv('EDO CUENTA ENERO 31.csv',index=False)"
   ]
  },
  {
   "cell_type": "code",
   "execution_count": null,
   "metadata": {},
   "outputs": [],
   "source": []
  }
 ],
 "metadata": {
  "kernelspec": {
   "display_name": "Python 3 (ipykernel)",
   "language": "python",
   "name": "python3"
  },
  "language_info": {
   "codemirror_mode": {
    "name": "ipython",
    "version": 3
   },
   "file_extension": ".py",
   "mimetype": "text/x-python",
   "name": "python",
   "nbconvert_exporter": "python",
   "pygments_lexer": "ipython3",
   "version": "3.9.18"
  }
 },
 "nbformat": 4,
 "nbformat_minor": 4
}
