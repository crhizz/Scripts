{
 "cells": [
  {
   "cell_type": "code",
   "execution_count": 1,
   "metadata": {},
   "outputs": [],
   "source": [
    "import pandas as pd\n",
    "import numpy as np\n",
    "from openpyxl import load_workbook\n",
    "import glob\n",
    "import os\n",
    "pd.options.display.float_format = '{:,.2f}'.format"
   ]
  },
  {
   "cell_type": "code",
   "execution_count": 2,
   "metadata": {},
   "outputs": [],
   "source": [
    "date_envio = '2024-01-31'\n",
    "monto_me_mail = 416929.49\n",
    "comision_bnte_mail = 823.50\n",
    "iva_bnte_mail = 131.76\n",
    "monto_fondear_mail = 417884.75\n",
    "date_envio = pd.to_datetime(date_envio)"
   ]
  },
  {
   "cell_type": "markdown",
   "metadata": {},
   "source": [
    "# READING FILES"
   ]
  },
  {
   "cell_type": "markdown",
   "metadata": {},
   "source": [
    "## BNTE"
   ]
  },
  {
   "cell_type": "code",
   "execution_count": 3,
   "metadata": {},
   "outputs": [],
   "source": [
    "bin1 = pd.read_csv(r'C:\\Users\\Cristian.Aparicio\\Documents\\DISPERSIONES\\Catalogo_Bancos.csv'\n",
    "                  ,dtype={'BIN':object,'Clave de la institución':object,'Nombre de la institución':object})"
   ]
  },
  {
   "cell_type": "code",
   "execution_count": 4,
   "metadata": {},
   "outputs": [],
   "source": [
    "name_header = ['merchant_id','merchant_name','user_email','report_id','report_date_local','amount','status','bank_name'\n",
    "               ,'payment_date_local','bank_account_owner_name','bank_account_number','swap']"
   ]
  },
  {
   "cell_type": "code",
   "execution_count": 5,
   "metadata": {},
   "outputs": [
    {
     "data": {
      "text/plain": [
       "['G:\\\\.shortcut-targets-by-id\\\\1Oe28Mf9uSidMamjllDen2gkNnC59eSUr\\\\3.-Settlement\\\\5.-HISTORICO FILES PAGOS\\\\01. TRADICIONAL\\\\2024\\\\01. JANUARY\\\\BNTE-3 2024-01-31.csv']"
      ]
     },
     "execution_count": 5,
     "metadata": {},
     "output_type": "execute_result"
    }
   ],
   "source": [
    "query_1 = glob.glob(r'G:\\.shortcut-targets-by-id\\1Oe28Mf9uSidMamjllDen2gkNnC59eSUr\\3.-Settlement\\5.-HISTORICO FILES PAGOS\\01. TRADICIONAL\\2024\\01. JANUARY\\BNTE-3 20*.csv', recursive=False)\n",
    "query_1"
   ]
  },
  {
   "cell_type": "code",
   "execution_count": 6,
   "metadata": {},
   "outputs": [],
   "source": [
    "query = pd.concat([pd.read_csv(f,dtype={'bank_account_number':object,'report_id':object})\n",
    "                   .assign(file_name=os.path.basename(f)) for f in query_1])\n",
    "query.columns = query.columns.str.strip().str.lower() \n",
    "query['CLABE'] = query['bank_account_number'].str[1:]\n",
    "query['BIN'] = query['bank_account_number'].str[1:4].replace(' ', '',regex=True)\n",
    "query['date_disbursement'] = date_envio"
   ]
  },
  {
   "cell_type": "code",
   "execution_count": 7,
   "metadata": {},
   "outputs": [
    {
     "data": {
      "text/html": [
       "<div>\n",
       "<style scoped>\n",
       "    .dataframe tbody tr th:only-of-type {\n",
       "        vertical-align: middle;\n",
       "    }\n",
       "\n",
       "    .dataframe tbody tr th {\n",
       "        vertical-align: top;\n",
       "    }\n",
       "\n",
       "    .dataframe thead th {\n",
       "        text-align: right;\n",
       "    }\n",
       "</style>\n",
       "<table border=\"1\" class=\"dataframe\">\n",
       "  <thead>\n",
       "    <tr style=\"text-align: right;\">\n",
       "      <th></th>\n",
       "      <th>type</th>\n",
       "      <th>merchant_id</th>\n",
       "      <th>merchant_token</th>\n",
       "      <th>merchant_name</th>\n",
       "      <th>user_email</th>\n",
       "      <th>report_id</th>\n",
       "      <th>report_date_local</th>\n",
       "      <th>amount</th>\n",
       "      <th>status</th>\n",
       "      <th>bank_name</th>\n",
       "      <th>...</th>\n",
       "      <th>bank_account_number</th>\n",
       "      <th>batch_created_date</th>\n",
       "      <th>disbursement_method</th>\n",
       "      <th>swap</th>\n",
       "      <th>file_name</th>\n",
       "      <th>CLABE</th>\n",
       "      <th>BIN</th>\n",
       "      <th>date_disbursement</th>\n",
       "      <th>Clave de la institución</th>\n",
       "      <th>Nombre de la institución</th>\n",
       "    </tr>\n",
       "  </thead>\n",
       "  <tbody>\n",
       "    <tr>\n",
       "      <th>0</th>\n",
       "      <td>NaN</td>\n",
       "      <td>00bf0fb9-405a-4b41-9ace-14dfe8e0b471</td>\n",
       "      <td>NaN</td>\n",
       "      <td>NaN</td>\n",
       "      <td>NaN</td>\n",
       "      <td>AHN3VLNX6</td>\n",
       "      <td>2024-01-31</td>\n",
       "      <td>324.85</td>\n",
       "      <td>PAID</td>\n",
       "      <td>AZTECA</td>\n",
       "      <td>...</td>\n",
       "      <td>'127456013890994028</td>\n",
       "      <td>2024-01-31T14:00:16Z</td>\n",
       "      <td>BANORTE</td>\n",
       "      <td>Omar Polo Ochoa,,324.85,127456013890994028,CLI...</td>\n",
       "      <td>BNTE-3 2024-01-31.csv</td>\n",
       "      <td>127456013890994028</td>\n",
       "      <td>127</td>\n",
       "      <td>2024-01-31</td>\n",
       "      <td>40127</td>\n",
       "      <td>AZTECA</td>\n",
       "    </tr>\n",
       "    <tr>\n",
       "      <th>1</th>\n",
       "      <td>NaN</td>\n",
       "      <td>0194010b-f10f-48fd-9b19-5fb77fea13ea</td>\n",
       "      <td>NaN</td>\n",
       "      <td>NaN</td>\n",
       "      <td>NaN</td>\n",
       "      <td>ASSKDM3KS</td>\n",
       "      <td>2024-01-31</td>\n",
       "      <td>711.39</td>\n",
       "      <td>PAID</td>\n",
       "      <td>Opciones Empresariales del Noreste, S.A. de C....</td>\n",
       "      <td>...</td>\n",
       "      <td>'659802020000196080</td>\n",
       "      <td>2024-01-31T14:00:16Z</td>\n",
       "      <td>BANORTE</td>\n",
       "      <td>Alan Orlando Gonzalez Rodriguez,,711.39,659802...</td>\n",
       "      <td>BNTE-3 2024-01-31.csv</td>\n",
       "      <td>659802020000196080</td>\n",
       "      <td>659</td>\n",
       "      <td>2024-01-31</td>\n",
       "      <td>90659</td>\n",
       "      <td>ASP INTEGRA OPC</td>\n",
       "    </tr>\n",
       "    <tr>\n",
       "      <th>2</th>\n",
       "      <td>NaN</td>\n",
       "      <td>019d425c-787f-4b39-99bd-e6641505ee39</td>\n",
       "      <td>NaN</td>\n",
       "      <td>NaN</td>\n",
       "      <td>NaN</td>\n",
       "      <td>ASC8GPZ5Q</td>\n",
       "      <td>2024-01-31</td>\n",
       "      <td>1,500.61</td>\n",
       "      <td>PAID</td>\n",
       "      <td>Opciones Empresariales del Noreste, S.A. de C....</td>\n",
       "      <td>...</td>\n",
       "      <td>'659802020000267294</td>\n",
       "      <td>2024-01-31T14:00:16Z</td>\n",
       "      <td>BANORTE</td>\n",
       "      <td>Jose Guadalupe Herrera Acosta,,1500.61,6598020...</td>\n",
       "      <td>BNTE-3 2024-01-31.csv</td>\n",
       "      <td>659802020000267294</td>\n",
       "      <td>659</td>\n",
       "      <td>2024-01-31</td>\n",
       "      <td>90659</td>\n",
       "      <td>ASP INTEGRA OPC</td>\n",
       "    </tr>\n",
       "    <tr>\n",
       "      <th>3</th>\n",
       "      <td>NaN</td>\n",
       "      <td>023aeb3b-712b-4472-a8c6-17a42db36c6f</td>\n",
       "      <td>NaN</td>\n",
       "      <td>NaN</td>\n",
       "      <td>NaN</td>\n",
       "      <td>AMHFXR2F7</td>\n",
       "      <td>2024-01-31</td>\n",
       "      <td>179.19</td>\n",
       "      <td>PAID</td>\n",
       "      <td>Opciones Empresariales del Noreste, S.A. de C....</td>\n",
       "      <td>...</td>\n",
       "      <td>'659802020000208334</td>\n",
       "      <td>2024-01-31T14:00:16Z</td>\n",
       "      <td>BANORTE</td>\n",
       "      <td>Alejandro Ponce Estrada,,179.19,65980202000020...</td>\n",
       "      <td>BNTE-3 2024-01-31.csv</td>\n",
       "      <td>659802020000208334</td>\n",
       "      <td>659</td>\n",
       "      <td>2024-01-31</td>\n",
       "      <td>90659</td>\n",
       "      <td>ASP INTEGRA OPC</td>\n",
       "    </tr>\n",
       "    <tr>\n",
       "      <th>4</th>\n",
       "      <td>NaN</td>\n",
       "      <td>04bc1b25-2e2c-4389-a017-d6a39cc67204</td>\n",
       "      <td>NaN</td>\n",
       "      <td>NaN</td>\n",
       "      <td>NaN</td>\n",
       "      <td>A9TNVMKB3</td>\n",
       "      <td>2024-01-31</td>\n",
       "      <td>1,002.80</td>\n",
       "      <td>PAID</td>\n",
       "      <td>BBVA Bancomer, S.A.</td>\n",
       "      <td>...</td>\n",
       "      <td>'012760001859288342</td>\n",
       "      <td>2024-01-31T14:00:17Z</td>\n",
       "      <td>BANORTE</td>\n",
       "      <td>Tersesita Rivas ,,1002.8,012760001859288342,CL...</td>\n",
       "      <td>BNTE-3 2024-01-31.csv</td>\n",
       "      <td>012760001859288342</td>\n",
       "      <td>012</td>\n",
       "      <td>2024-01-31</td>\n",
       "      <td>40012</td>\n",
       "      <td>BBVA BANCOMER</td>\n",
       "    </tr>\n",
       "  </tbody>\n",
       "</table>\n",
       "<p>5 rows × 22 columns</p>\n",
       "</div>"
      ],
      "text/plain": [
       "  type                           merchant_id merchant_token merchant_name  \\\n",
       "0  NaN  00bf0fb9-405a-4b41-9ace-14dfe8e0b471            NaN           NaN   \n",
       "1  NaN  0194010b-f10f-48fd-9b19-5fb77fea13ea            NaN           NaN   \n",
       "2  NaN  019d425c-787f-4b39-99bd-e6641505ee39            NaN           NaN   \n",
       "3  NaN  023aeb3b-712b-4472-a8c6-17a42db36c6f            NaN           NaN   \n",
       "4  NaN  04bc1b25-2e2c-4389-a017-d6a39cc67204            NaN           NaN   \n",
       "\n",
       "  user_email  report_id report_date_local   amount status  \\\n",
       "0        NaN  AHN3VLNX6        2024-01-31   324.85   PAID   \n",
       "1        NaN  ASSKDM3KS        2024-01-31   711.39   PAID   \n",
       "2        NaN  ASC8GPZ5Q        2024-01-31 1,500.61   PAID   \n",
       "3        NaN  AMHFXR2F7        2024-01-31   179.19   PAID   \n",
       "4        NaN  A9TNVMKB3        2024-01-31 1,002.80   PAID   \n",
       "\n",
       "                                           bank_name  ...  \\\n",
       "0                                             AZTECA  ...   \n",
       "1  Opciones Empresariales del Noreste, S.A. de C....  ...   \n",
       "2  Opciones Empresariales del Noreste, S.A. de C....  ...   \n",
       "3  Opciones Empresariales del Noreste, S.A. de C....  ...   \n",
       "4                                BBVA Bancomer, S.A.  ...   \n",
       "\n",
       "   bank_account_number    batch_created_date disbursement_method  \\\n",
       "0  '127456013890994028  2024-01-31T14:00:16Z             BANORTE   \n",
       "1  '659802020000196080  2024-01-31T14:00:16Z             BANORTE   \n",
       "2  '659802020000267294  2024-01-31T14:00:16Z             BANORTE   \n",
       "3  '659802020000208334  2024-01-31T14:00:16Z             BANORTE   \n",
       "4  '012760001859288342  2024-01-31T14:00:17Z             BANORTE   \n",
       "\n",
       "                                                swap              file_name  \\\n",
       "0  Omar Polo Ochoa,,324.85,127456013890994028,CLI...  BNTE-3 2024-01-31.csv   \n",
       "1  Alan Orlando Gonzalez Rodriguez,,711.39,659802...  BNTE-3 2024-01-31.csv   \n",
       "2  Jose Guadalupe Herrera Acosta,,1500.61,6598020...  BNTE-3 2024-01-31.csv   \n",
       "3  Alejandro Ponce Estrada,,179.19,65980202000020...  BNTE-3 2024-01-31.csv   \n",
       "4  Tersesita Rivas ,,1002.8,012760001859288342,CL...  BNTE-3 2024-01-31.csv   \n",
       "\n",
       "                CLABE  BIN date_disbursement Clave de la institución  \\\n",
       "0  127456013890994028  127        2024-01-31                   40127   \n",
       "1  659802020000196080  659        2024-01-31                   90659   \n",
       "2  659802020000267294  659        2024-01-31                   90659   \n",
       "3  659802020000208334  659        2024-01-31                   90659   \n",
       "4  012760001859288342  012        2024-01-31                   40012   \n",
       "\n",
       "  Nombre de la institución  \n",
       "0                   AZTECA  \n",
       "1          ASP INTEGRA OPC  \n",
       "2          ASP INTEGRA OPC  \n",
       "3          ASP INTEGRA OPC  \n",
       "4            BBVA BANCOMER  \n",
       "\n",
       "[5 rows x 22 columns]"
      ]
     },
     "execution_count": 7,
     "metadata": {},
     "output_type": "execute_result"
    }
   ],
   "source": [
    "query_final = query.merge(bin1[['BIN','Clave de la institución','Nombre de la institución']] ,on='BIN', how='left')\n",
    "query_final.head()"
   ]
  },
  {
   "cell_type": "code",
   "execution_count": 8,
   "metadata": {},
   "outputs": [
    {
     "data": {
      "text/plain": [
       "(460, 22)"
      ]
     },
     "execution_count": 8,
     "metadata": {},
     "output_type": "execute_result"
    }
   ],
   "source": [
    "query_final.shape"
   ]
  },
  {
   "cell_type": "markdown",
   "metadata": {},
   "source": [
    "# PAGOS DUPLICADOS "
   ]
  },
  {
   "cell_type": "code",
   "execution_count": 9,
   "metadata": {},
   "outputs": [
    {
     "data": {
      "text/html": [
       "<div>\n",
       "<style scoped>\n",
       "    .dataframe tbody tr th:only-of-type {\n",
       "        vertical-align: middle;\n",
       "    }\n",
       "\n",
       "    .dataframe tbody tr th {\n",
       "        vertical-align: top;\n",
       "    }\n",
       "\n",
       "    .dataframe thead th {\n",
       "        text-align: right;\n",
       "    }\n",
       "</style>\n",
       "<table border=\"1\" class=\"dataframe\">\n",
       "  <thead>\n",
       "    <tr style=\"text-align: right;\">\n",
       "      <th></th>\n",
       "      <th>type</th>\n",
       "      <th>merchant_id</th>\n",
       "      <th>merchant_token</th>\n",
       "      <th>merchant_name</th>\n",
       "      <th>user_email</th>\n",
       "      <th>report_id</th>\n",
       "      <th>report_date_local</th>\n",
       "      <th>amount</th>\n",
       "      <th>status</th>\n",
       "      <th>bank_name</th>\n",
       "      <th>...</th>\n",
       "      <th>bank_account_number</th>\n",
       "      <th>batch_created_date</th>\n",
       "      <th>disbursement_method</th>\n",
       "      <th>swap</th>\n",
       "      <th>file_name</th>\n",
       "      <th>CLABE</th>\n",
       "      <th>BIN</th>\n",
       "      <th>date_disbursement</th>\n",
       "      <th>Clave de la institución</th>\n",
       "      <th>Nombre de la institución</th>\n",
       "    </tr>\n",
       "  </thead>\n",
       "  <tbody>\n",
       "  </tbody>\n",
       "</table>\n",
       "<p>0 rows × 22 columns</p>\n",
       "</div>"
      ],
      "text/plain": [
       "Empty DataFrame\n",
       "Columns: [type, merchant_id, merchant_token, merchant_name, user_email, report_id, report_date_local, amount, status, bank_name, payment_date_local, bank_account_owner_name, bank_account_number, batch_created_date, disbursement_method, swap, file_name, CLABE, BIN, date_disbursement, Clave de la institución, Nombre de la institución]\n",
       "Index: []\n",
       "\n",
       "[0 rows x 22 columns]"
      ]
     },
     "execution_count": 9,
     "metadata": {},
     "output_type": "execute_result"
    }
   ],
   "source": [
    "duplicates_query = query_final[query_final.duplicated(['report_id'],keep=False)]\n",
    "duplicates_query.head()"
   ]
  },
  {
   "cell_type": "code",
   "execution_count": 10,
   "metadata": {},
   "outputs": [
    {
     "data": {
      "text/plain": [
       "(0, 22)"
      ]
     },
     "execution_count": 10,
     "metadata": {},
     "output_type": "execute_result"
    }
   ],
   "source": [
    "duplicates_query.shape"
   ]
  },
  {
   "cell_type": "markdown",
   "metadata": {},
   "source": [
    "# VALIDACION MONTO A DISPERSAR"
   ]
  },
  {
   "cell_type": "code",
   "execution_count": 11,
   "metadata": {},
   "outputs": [],
   "source": [
    "valid_0 = query_final\n",
    "valid_0.loc[valid_0['Nombre de la institución'].str.contains('BANORTE/IXE'), 'comision_dsp'] = 1.05\n",
    "valid_0.loc[~valid_0['Nombre de la institución'].str.contains('BANORTE/IXE'), 'comision_dsp'] = 1.80\n",
    "valid_0['iva_dsp'] = valid_0['comision_dsp']*0.1600"
   ]
  },
  {
   "cell_type": "code",
   "execution_count": 12,
   "metadata": {},
   "outputs": [
    {
     "name": "stderr",
     "output_type": "stream",
     "text": [
      "C:\\Users\\Cristian.Aparicio\\AppData\\Local\\Temp\\ipykernel_8760\\507955033.py:1: FutureWarning: The provided callable <built-in function sum> is currently using SeriesGroupBy.sum. In a future version of pandas, the provided callable will be used directly. To keep current behavior pass the string \"sum\" instead.\n",
      "  valid_1 = valid_0.groupby(['date_disbursement']).agg({'amount':sum,'report_id':'count','comision_dsp':sum\n"
     ]
    },
    {
     "data": {
      "text/html": [
       "<div>\n",
       "<style scoped>\n",
       "    .dataframe tbody tr th:only-of-type {\n",
       "        vertical-align: middle;\n",
       "    }\n",
       "\n",
       "    .dataframe tbody tr th {\n",
       "        vertical-align: top;\n",
       "    }\n",
       "\n",
       "    .dataframe thead th {\n",
       "        text-align: right;\n",
       "    }\n",
       "</style>\n",
       "<table border=\"1\" class=\"dataframe\">\n",
       "  <thead>\n",
       "    <tr style=\"text-align: right;\">\n",
       "      <th></th>\n",
       "      <th>date_disbursement</th>\n",
       "      <th>amount</th>\n",
       "      <th>payments_number</th>\n",
       "      <th>comision_dsp</th>\n",
       "      <th>iva_dsp</th>\n",
       "      <th>comision + iva</th>\n",
       "      <th>total_fondeo</th>\n",
       "      <th>monto_mail</th>\n",
       "      <th>comision_mail</th>\n",
       "      <th>iva_mail</th>\n",
       "      <th>monto_fondeo_mail</th>\n",
       "      <th>check_monto</th>\n",
       "      <th>check_comision</th>\n",
       "      <th>check_iva</th>\n",
       "      <th>check_fondeo</th>\n",
       "      <th>dsp</th>\n",
       "    </tr>\n",
       "  </thead>\n",
       "  <tbody>\n",
       "    <tr>\n",
       "      <th>0</th>\n",
       "      <td>2024-01-31</td>\n",
       "      <td>416,929.49</td>\n",
       "      <td>460</td>\n",
       "      <td>823.50</td>\n",
       "      <td>131.76</td>\n",
       "      <td>955.26</td>\n",
       "      <td>417,884.75</td>\n",
       "      <td>416,929.49</td>\n",
       "      <td>823.50</td>\n",
       "      <td>131.76</td>\n",
       "      <td>417,884.75</td>\n",
       "      <td>0.00</td>\n",
       "      <td>0.00</td>\n",
       "      <td>0.00</td>\n",
       "      <td>0.00</td>\n",
       "      <td>BNTE</td>\n",
       "    </tr>\n",
       "  </tbody>\n",
       "</table>\n",
       "</div>"
      ],
      "text/plain": [
       "  date_disbursement     amount  payments_number  comision_dsp  iva_dsp  \\\n",
       "0        2024-01-31 416,929.49              460        823.50   131.76   \n",
       "\n",
       "   comision + iva  total_fondeo  monto_mail  comision_mail  iva_mail  \\\n",
       "0          955.26    417,884.75  416,929.49         823.50    131.76   \n",
       "\n",
       "   monto_fondeo_mail  check_monto  check_comision  check_iva  check_fondeo  \\\n",
       "0         417,884.75         0.00            0.00       0.00          0.00   \n",
       "\n",
       "    dsp  \n",
       "0  BNTE  "
      ]
     },
     "execution_count": 12,
     "metadata": {},
     "output_type": "execute_result"
    }
   ],
   "source": [
    "valid_1 = valid_0.groupby(['date_disbursement']).agg({'amount':sum,'report_id':'count','comision_dsp':sum\n",
    "                                                      ,'iva_dsp':sum}).reset_index()\n",
    "valid_1.rename(columns={'report_id':'payments_number'},inplace=True)\n",
    "valid_1['comision + iva'] = valid_1['comision_dsp'] + valid_1['iva_dsp']\n",
    "valid_1['total_fondeo'] = valid_1['amount'] + valid_1['comision + iva']\n",
    "valid_1['monto_mail'] = monto_me_mail\n",
    "valid_1['comision_mail'] = comision_bnte_mail\n",
    "valid_1['iva_mail'] = iva_bnte_mail\n",
    "valid_1['monto_fondeo_mail'] = monto_fondear_mail\n",
    "valid_1['check_monto'] = valid_1['amount'] - valid_1['monto_mail']\n",
    "valid_1['check_comision'] = valid_1['comision_dsp'] - valid_1['comision_mail']\n",
    "valid_1['check_iva'] = valid_1['iva_dsp'] - valid_1['iva_mail']\n",
    "valid_1['check_fondeo'] = valid_1['total_fondeo'] - valid_1['monto_fondeo_mail']\n",
    "valid_1['dsp'] = 'BNTE'\n",
    "valid_1.head()"
   ]
  },
  {
   "cell_type": "code",
   "execution_count": 13,
   "metadata": {},
   "outputs": [
    {
     "data": {
      "text/html": [
       "<div>\n",
       "<style scoped>\n",
       "    .dataframe tbody tr th:only-of-type {\n",
       "        vertical-align: middle;\n",
       "    }\n",
       "\n",
       "    .dataframe tbody tr th {\n",
       "        vertical-align: top;\n",
       "    }\n",
       "\n",
       "    .dataframe thead th {\n",
       "        text-align: right;\n",
       "    }\n",
       "</style>\n",
       "<table border=\"1\" class=\"dataframe\">\n",
       "  <thead>\n",
       "    <tr style=\"text-align: right;\">\n",
       "      <th></th>\n",
       "      <th>date_disbursement</th>\n",
       "      <th>dsp</th>\n",
       "      <th>payments_number</th>\n",
       "      <th>amount</th>\n",
       "      <th>comision_dsp</th>\n",
       "      <th>iva_dsp</th>\n",
       "      <th>comision + iva</th>\n",
       "      <th>total_fondeo</th>\n",
       "    </tr>\n",
       "  </thead>\n",
       "  <tbody>\n",
       "    <tr>\n",
       "      <th>0</th>\n",
       "      <td>2024-01-31</td>\n",
       "      <td>BNTE</td>\n",
       "      <td>460</td>\n",
       "      <td>416,929.49</td>\n",
       "      <td>823.50</td>\n",
       "      <td>131.76</td>\n",
       "      <td>955.26</td>\n",
       "      <td>417,884.75</td>\n",
       "    </tr>\n",
       "  </tbody>\n",
       "</table>\n",
       "</div>"
      ],
      "text/plain": [
       "  date_disbursement   dsp  payments_number     amount  comision_dsp  iva_dsp  \\\n",
       "0        2024-01-31  BNTE              460 416,929.49        823.50   131.76   \n",
       "\n",
       "   comision + iva  total_fondeo  \n",
       "0          955.26    417,884.75  "
      ]
     },
     "execution_count": 13,
     "metadata": {},
     "output_type": "execute_result"
    }
   ],
   "source": [
    "valid_2 = valid_1[['date_disbursement','dsp','payments_number','amount','comision_dsp','iva_dsp','comision + iva','total_fondeo']]\n",
    "valid_2.head()"
   ]
  },
  {
   "cell_type": "code",
   "execution_count": 14,
   "metadata": {
    "scrolled": true
   },
   "outputs": [
    {
     "data": {
      "text/html": [
       "<div>\n",
       "<style scoped>\n",
       "    .dataframe tbody tr th:only-of-type {\n",
       "        vertical-align: middle;\n",
       "    }\n",
       "\n",
       "    .dataframe tbody tr th {\n",
       "        vertical-align: top;\n",
       "    }\n",
       "\n",
       "    .dataframe thead th {\n",
       "        text-align: right;\n",
       "    }\n",
       "</style>\n",
       "<table border=\"1\" class=\"dataframe\">\n",
       "  <thead>\n",
       "    <tr style=\"text-align: right;\">\n",
       "      <th></th>\n",
       "      <th>concept</th>\n",
       "      <th>data</th>\n",
       "    </tr>\n",
       "  </thead>\n",
       "  <tbody>\n",
       "    <tr>\n",
       "      <th>0</th>\n",
       "      <td>date_disbursement</td>\n",
       "      <td>2024-01-31 00:00:00</td>\n",
       "    </tr>\n",
       "    <tr>\n",
       "      <th>0</th>\n",
       "      <td>dsp</td>\n",
       "      <td>BNTE</td>\n",
       "    </tr>\n",
       "    <tr>\n",
       "      <th>0</th>\n",
       "      <td>payments_number</td>\n",
       "      <td>460</td>\n",
       "    </tr>\n",
       "    <tr>\n",
       "      <th>0</th>\n",
       "      <td>amount</td>\n",
       "      <td>416,929.49</td>\n",
       "    </tr>\n",
       "    <tr>\n",
       "      <th>0</th>\n",
       "      <td>comision_dsp</td>\n",
       "      <td>823.50</td>\n",
       "    </tr>\n",
       "    <tr>\n",
       "      <th>0</th>\n",
       "      <td>iva_dsp</td>\n",
       "      <td>131.76</td>\n",
       "    </tr>\n",
       "    <tr>\n",
       "      <th>0</th>\n",
       "      <td>comision + iva</td>\n",
       "      <td>955.26</td>\n",
       "    </tr>\n",
       "    <tr>\n",
       "      <th>0</th>\n",
       "      <td>total_fondeo</td>\n",
       "      <td>417,884.75</td>\n",
       "    </tr>\n",
       "  </tbody>\n",
       "</table>\n",
       "</div>"
      ],
      "text/plain": [
       "             concept                 data\n",
       "0  date_disbursement  2024-01-31 00:00:00\n",
       "0                dsp                 BNTE\n",
       "0    payments_number                  460\n",
       "0             amount           416,929.49\n",
       "0       comision_dsp               823.50\n",
       "0            iva_dsp               131.76\n",
       "0     comision + iva               955.26\n",
       "0       total_fondeo           417,884.75"
      ]
     },
     "execution_count": 14,
     "metadata": {},
     "output_type": "execute_result"
    }
   ],
   "source": [
    "valid_montos_final = valid_2.stack().reset_index(1)\n",
    "valid_montos_final.rename(columns={'level_1':'concept',0:'data'},inplace=True)\n",
    "valid_montos_final"
   ]
  },
  {
   "cell_type": "markdown",
   "metadata": {},
   "source": [
    "# EXCEL"
   ]
  },
  {
   "cell_type": "code",
   "execution_count": 15,
   "metadata": {},
   "outputs": [],
   "source": [
    "writer = pd.ExcelWriter(r'G:\\.shortcut-targets-by-id\\1Oe28Mf9uSidMamjllDen2gkNnC59eSUr\\3.-Settlement\\5.-HISTORICO FILES PAGOS\\01. TRADICIONAL\\2024\\01. JANUARY\\VALIDATION\\VALIDATION-BNTE-3 2024-01-31.xlsx',\n",
    "                        engine='xlsxwriter',\n",
    "                        engine_kwargs={'options': {'encoding':'utf-8'}})\n",
    "query.to_excel(writer, sheet_name='DATA QUERY',index=False)\n",
    "valid_montos_final.to_excel(writer, sheet_name='MONTOS',index=False)\n",
    "valid_1.to_excel(writer, sheet_name='DIFF MONTOS',index=False)\n",
    "duplicates_query.to_excel(writer, sheet_name='PAGOS DUPLICADOS',index=False)\n",
    "writer.close()"
   ]
  },
  {
   "cell_type": "code",
   "execution_count": 16,
   "metadata": {},
   "outputs": [],
   "source": [
    "valid_1.to_csv(r'G:\\.shortcut-targets-by-id\\1Oe28Mf9uSidMamjllDen2gkNnC59eSUr\\3.-Settlement\\5.-HISTORICO FILES PAGOS\\01. TRADICIONAL\\2024\\01. JANUARY\\MONTOS EMAIL\\DIFF MONTOS-BNTE-3 2024-01-31.csv',index=False)"
   ]
  },
  {
   "cell_type": "code",
   "execution_count": 17,
   "metadata": {},
   "outputs": [],
   "source": [
    "valid_2.to_csv(r'G:\\.shortcut-targets-by-id\\1Oe28Mf9uSidMamjllDen2gkNnC59eSUr\\3.-Settlement\\5.-HISTORICO FILES PAGOS\\01. TRADICIONAL\\2024\\01. JANUARY\\VALIDATION\\total_disbursement-BNTE-3 2024-01-31.csv',index=False)"
   ]
  },
  {
   "cell_type": "code",
   "execution_count": 18,
   "metadata": {},
   "outputs": [],
   "source": [
    "duplicates_query.to_csv(r'G:\\.shortcut-targets-by-id\\1Oe28Mf9uSidMamjllDen2gkNnC59eSUr\\3.-Settlement\\5.-HISTORICO FILES PAGOS\\01. TRADICIONAL\\2024\\01. JANUARY\\VALIDATION\\Duplicados-BNTE-3 2024-01-31.csv',index=False)"
   ]
  },
  {
   "cell_type": "code",
   "execution_count": null,
   "metadata": {},
   "outputs": [],
   "source": []
  }
 ],
 "metadata": {
  "kernelspec": {
   "display_name": "Python 3 (ipykernel)",
   "language": "python",
   "name": "python3"
  },
  "language_info": {
   "codemirror_mode": {
    "name": "ipython",
    "version": 3
   },
   "file_extension": ".py",
   "mimetype": "text/x-python",
   "name": "python",
   "nbconvert_exporter": "python",
   "pygments_lexer": "ipython3",
   "version": "3.9.18"
  }
 },
 "nbformat": 4,
 "nbformat_minor": 4
}
