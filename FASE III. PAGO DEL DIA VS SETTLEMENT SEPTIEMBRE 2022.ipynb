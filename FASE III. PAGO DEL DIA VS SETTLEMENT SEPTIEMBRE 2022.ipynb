{
 "cells": [
  {
   "cell_type": "code",
   "execution_count": 1,
   "metadata": {},
   "outputs": [],
   "source": [
    "import pandas as pd\n",
    "import numpy as np\n",
    "import glob\n",
    "import os\n",
    "from openpyxl import load_workbook\n",
    "from functools import reduce\n",
    "pd.options.display.float_format = '{:,.2f}'.format"
   ]
  },
  {
   "cell_type": "markdown",
   "metadata": {},
   "source": [
    "#### ACUMULADO"
   ]
  },
  {
   "cell_type": "code",
   "execution_count": 2,
   "metadata": {},
   "outputs": [
    {
     "data": {
      "text/plain": [
       "['C:\\\\Users\\\\Cristian.Aparicio\\\\Documents\\\\DISPERSIONES\\\\2022\\\\09. SEPTIEMBRE\\\\QUERIES\\\\SETTLEMENT 2022-09-01.csv',\n",
       " 'C:\\\\Users\\\\Cristian.Aparicio\\\\Documents\\\\DISPERSIONES\\\\2022\\\\09. SEPTIEMBRE\\\\QUERIES\\\\SETTLEMENT 2022-09-02.csv',\n",
       " 'C:\\\\Users\\\\Cristian.Aparicio\\\\Documents\\\\DISPERSIONES\\\\2022\\\\09. SEPTIEMBRE\\\\QUERIES\\\\SETTLEMENT 2022-09-03.csv',\n",
       " 'C:\\\\Users\\\\Cristian.Aparicio\\\\Documents\\\\DISPERSIONES\\\\2022\\\\09. SEPTIEMBRE\\\\QUERIES\\\\SETTLEMENT 2022-09-04.csv',\n",
       " 'C:\\\\Users\\\\Cristian.Aparicio\\\\Documents\\\\DISPERSIONES\\\\2022\\\\09. SEPTIEMBRE\\\\QUERIES\\\\SETTLEMENT 2022-09-05.csv',\n",
       " 'C:\\\\Users\\\\Cristian.Aparicio\\\\Documents\\\\DISPERSIONES\\\\2022\\\\09. SEPTIEMBRE\\\\QUERIES\\\\SETTLEMENT 2022-09-06.csv',\n",
       " 'C:\\\\Users\\\\Cristian.Aparicio\\\\Documents\\\\DISPERSIONES\\\\2022\\\\09. SEPTIEMBRE\\\\QUERIES\\\\SETTLEMENT 2022-09-07.csv',\n",
       " 'C:\\\\Users\\\\Cristian.Aparicio\\\\Documents\\\\DISPERSIONES\\\\2022\\\\09. SEPTIEMBRE\\\\QUERIES\\\\SETTLEMENT 2022-09-08.csv',\n",
       " 'C:\\\\Users\\\\Cristian.Aparicio\\\\Documents\\\\DISPERSIONES\\\\2022\\\\09. SEPTIEMBRE\\\\QUERIES\\\\SETTLEMENT 2022-09-09.csv',\n",
       " 'C:\\\\Users\\\\Cristian.Aparicio\\\\Documents\\\\DISPERSIONES\\\\2022\\\\09. SEPTIEMBRE\\\\QUERIES\\\\SETTLEMENT 2022-09-10.csv',\n",
       " 'C:\\\\Users\\\\Cristian.Aparicio\\\\Documents\\\\DISPERSIONES\\\\2022\\\\09. SEPTIEMBRE\\\\QUERIES\\\\SETTLEMENT 2022-09-11.csv',\n",
       " 'C:\\\\Users\\\\Cristian.Aparicio\\\\Documents\\\\DISPERSIONES\\\\2022\\\\09. SEPTIEMBRE\\\\QUERIES\\\\SETTLEMENT 2022-09-12.csv',\n",
       " 'C:\\\\Users\\\\Cristian.Aparicio\\\\Documents\\\\DISPERSIONES\\\\2022\\\\09. SEPTIEMBRE\\\\QUERIES\\\\SETTLEMENT 2022-09-13.csv',\n",
       " 'C:\\\\Users\\\\Cristian.Aparicio\\\\Documents\\\\DISPERSIONES\\\\2022\\\\09. SEPTIEMBRE\\\\QUERIES\\\\SETTLEMENT 2022-09-14.csv',\n",
       " 'C:\\\\Users\\\\Cristian.Aparicio\\\\Documents\\\\DISPERSIONES\\\\2022\\\\09. SEPTIEMBRE\\\\QUERIES\\\\SETTLEMENT 2022-09-15.csv',\n",
       " 'C:\\\\Users\\\\Cristian.Aparicio\\\\Documents\\\\DISPERSIONES\\\\2022\\\\09. SEPTIEMBRE\\\\QUERIES\\\\SETTLEMENT 2022-09-16.csv',\n",
       " 'C:\\\\Users\\\\Cristian.Aparicio\\\\Documents\\\\DISPERSIONES\\\\2022\\\\09. SEPTIEMBRE\\\\QUERIES\\\\SETTLEMENT 2022-09-17.csv',\n",
       " 'C:\\\\Users\\\\Cristian.Aparicio\\\\Documents\\\\DISPERSIONES\\\\2022\\\\09. SEPTIEMBRE\\\\QUERIES\\\\SETTLEMENT 2022-09-18.csv',\n",
       " 'C:\\\\Users\\\\Cristian.Aparicio\\\\Documents\\\\DISPERSIONES\\\\2022\\\\09. SEPTIEMBRE\\\\QUERIES\\\\SETTLEMENT 2022-09-19.csv',\n",
       " 'C:\\\\Users\\\\Cristian.Aparicio\\\\Documents\\\\DISPERSIONES\\\\2022\\\\09. SEPTIEMBRE\\\\QUERIES\\\\SETTLEMENT 2022-09-20.csv',\n",
       " 'C:\\\\Users\\\\Cristian.Aparicio\\\\Documents\\\\DISPERSIONES\\\\2022\\\\09. SEPTIEMBRE\\\\QUERIES\\\\SETTLEMENT 2022-09-21.csv',\n",
       " 'C:\\\\Users\\\\Cristian.Aparicio\\\\Documents\\\\DISPERSIONES\\\\2022\\\\09. SEPTIEMBRE\\\\QUERIES\\\\SETTLEMENT 2022-09-22.csv',\n",
       " 'C:\\\\Users\\\\Cristian.Aparicio\\\\Documents\\\\DISPERSIONES\\\\2022\\\\09. SEPTIEMBRE\\\\QUERIES\\\\SETTLEMENT 2022-09-23.csv',\n",
       " 'C:\\\\Users\\\\Cristian.Aparicio\\\\Documents\\\\DISPERSIONES\\\\2022\\\\09. SEPTIEMBRE\\\\QUERIES\\\\SETTLEMENT 2022-09-24.csv',\n",
       " 'C:\\\\Users\\\\Cristian.Aparicio\\\\Documents\\\\DISPERSIONES\\\\2022\\\\09. SEPTIEMBRE\\\\QUERIES\\\\SETTLEMENT 2022-09-25.csv',\n",
       " 'C:\\\\Users\\\\Cristian.Aparicio\\\\Documents\\\\DISPERSIONES\\\\2022\\\\09. SEPTIEMBRE\\\\QUERIES\\\\SETTLEMENT 2022-09-26.csv',\n",
       " 'C:\\\\Users\\\\Cristian.Aparicio\\\\Documents\\\\DISPERSIONES\\\\2022\\\\09. SEPTIEMBRE\\\\QUERIES\\\\SETTLEMENT 2022-09-27.csv',\n",
       " 'C:\\\\Users\\\\Cristian.Aparicio\\\\Documents\\\\DISPERSIONES\\\\2022\\\\09. SEPTIEMBRE\\\\QUERIES\\\\SETTLEMENT 2022-09-28.csv',\n",
       " 'C:\\\\Users\\\\Cristian.Aparicio\\\\Documents\\\\DISPERSIONES\\\\2022\\\\09. SEPTIEMBRE\\\\QUERIES\\\\SETTLEMENT 2022-09-29.csv',\n",
       " 'C:\\\\Users\\\\Cristian.Aparicio\\\\Documents\\\\DISPERSIONES\\\\2022\\\\09. SEPTIEMBRE\\\\QUERIES\\\\SETTLEMENT 2022-09-30.csv']"
      ]
     },
     "execution_count": 2,
     "metadata": {},
     "output_type": "execute_result"
    }
   ],
   "source": [
    "cumfiles = glob.glob(r'C:\\Users\\Cristian.Aparicio\\Documents\\DISPERSIONES\\2022\\09. SEPTIEMBRE\\QUERIES\\*.csv', recursive=False)\n",
    "cumfiles"
   ]
  },
  {
   "cell_type": "code",
   "execution_count": 3,
   "metadata": {},
   "outputs": [
    {
     "name": "stderr",
     "output_type": "stream",
     "text": [
      "C:\\Users\\Cristian.Aparicio\\AppData\\Local\\Temp\\ipykernel_2040\\2603350484.py:1: DtypeWarning: Columns (18) have mixed types. Specify dtype option on import or set low_memory=False.\n",
      "  cum_1 = pd.concat([pd.read_csv(f).assign(file_name=os.path.basename(f)) for f in cumfiles])\n",
      "C:\\Users\\Cristian.Aparicio\\AppData\\Local\\Temp\\ipykernel_2040\\2603350484.py:1: DtypeWarning: Columns (18) have mixed types. Specify dtype option on import or set low_memory=False.\n",
      "  cum_1 = pd.concat([pd.read_csv(f).assign(file_name=os.path.basename(f)) for f in cumfiles])\n",
      "C:\\Users\\Cristian.Aparicio\\AppData\\Local\\Temp\\ipykernel_2040\\2603350484.py:1: DtypeWarning: Columns (18) have mixed types. Specify dtype option on import or set low_memory=False.\n",
      "  cum_1 = pd.concat([pd.read_csv(f).assign(file_name=os.path.basename(f)) for f in cumfiles])\n",
      "C:\\Users\\Cristian.Aparicio\\AppData\\Local\\Temp\\ipykernel_2040\\2603350484.py:1: DtypeWarning: Columns (18) have mixed types. Specify dtype option on import or set low_memory=False.\n",
      "  cum_1 = pd.concat([pd.read_csv(f).assign(file_name=os.path.basename(f)) for f in cumfiles])\n",
      "C:\\Users\\Cristian.Aparicio\\AppData\\Local\\Temp\\ipykernel_2040\\2603350484.py:1: DtypeWarning: Columns (18) have mixed types. Specify dtype option on import or set low_memory=False.\n",
      "  cum_1 = pd.concat([pd.read_csv(f).assign(file_name=os.path.basename(f)) for f in cumfiles])\n",
      "C:\\Users\\Cristian.Aparicio\\AppData\\Local\\Temp\\ipykernel_2040\\2603350484.py:1: DtypeWarning: Columns (18) have mixed types. Specify dtype option on import or set low_memory=False.\n",
      "  cum_1 = pd.concat([pd.read_csv(f).assign(file_name=os.path.basename(f)) for f in cumfiles])\n",
      "C:\\Users\\Cristian.Aparicio\\AppData\\Local\\Temp\\ipykernel_2040\\2603350484.py:1: DtypeWarning: Columns (18) have mixed types. Specify dtype option on import or set low_memory=False.\n",
      "  cum_1 = pd.concat([pd.read_csv(f).assign(file_name=os.path.basename(f)) for f in cumfiles])\n",
      "C:\\Users\\Cristian.Aparicio\\AppData\\Local\\Temp\\ipykernel_2040\\2603350484.py:1: DtypeWarning: Columns (18) have mixed types. Specify dtype option on import or set low_memory=False.\n",
      "  cum_1 = pd.concat([pd.read_csv(f).assign(file_name=os.path.basename(f)) for f in cumfiles])\n",
      "C:\\Users\\Cristian.Aparicio\\AppData\\Local\\Temp\\ipykernel_2040\\2603350484.py:1: DtypeWarning: Columns (18) have mixed types. Specify dtype option on import or set low_memory=False.\n",
      "  cum_1 = pd.concat([pd.read_csv(f).assign(file_name=os.path.basename(f)) for f in cumfiles])\n",
      "C:\\Users\\Cristian.Aparicio\\AppData\\Local\\Temp\\ipykernel_2040\\2603350484.py:1: DtypeWarning: Columns (18) have mixed types. Specify dtype option on import or set low_memory=False.\n",
      "  cum_1 = pd.concat([pd.read_csv(f).assign(file_name=os.path.basename(f)) for f in cumfiles])\n"
     ]
    },
    {
     "data": {
      "text/html": [
       "<div>\n",
       "<style scoped>\n",
       "    .dataframe tbody tr th:only-of-type {\n",
       "        vertical-align: middle;\n",
       "    }\n",
       "\n",
       "    .dataframe tbody tr th {\n",
       "        vertical-align: top;\n",
       "    }\n",
       "\n",
       "    .dataframe thead th {\n",
       "        text-align: right;\n",
       "    }\n",
       "</style>\n",
       "<table border=\"1\" class=\"dataframe\">\n",
       "  <thead>\n",
       "    <tr style=\"text-align: right;\">\n",
       "      <th></th>\n",
       "      <th>merchant_id</th>\n",
       "      <th>merchant_name</th>\n",
       "      <th>user_email</th>\n",
       "      <th>report_id</th>\n",
       "      <th>report_date_local</th>\n",
       "      <th>total_transactions</th>\n",
       "      <th>total_fees_charged</th>\n",
       "      <th>total_taxes</th>\n",
       "      <th>applied_fees_benefits</th>\n",
       "      <th>applied_taxes_benefits</th>\n",
       "      <th>...</th>\n",
       "      <th>total_released</th>\n",
       "      <th>total_retained</th>\n",
       "      <th>tipopago</th>\n",
       "      <th>total_due</th>\n",
       "      <th>type</th>\n",
       "      <th>created_date</th>\n",
       "      <th>created_time</th>\n",
       "      <th>updated_date</th>\n",
       "      <th>updated_time</th>\n",
       "      <th>file_name</th>\n",
       "    </tr>\n",
       "  </thead>\n",
       "  <tbody>\n",
       "    <tr>\n",
       "      <th>0</th>\n",
       "      <td>fb7b00dc-34fd-4315-a707-f2f2cc0af11c</td>\n",
       "      <td>CASA MANCINAS</td>\n",
       "      <td>luis.albertomancinas@gmail.com</td>\n",
       "      <td>FLNH3RSW3</td>\n",
       "      <td>2022-09-01</td>\n",
       "      <td>3,000.00</td>\n",
       "      <td>108.00</td>\n",
       "      <td>17.28</td>\n",
       "      <td>0.00</td>\n",
       "      <td>0.00</td>\n",
       "      <td>...</td>\n",
       "      <td>0.00</td>\n",
       "      <td>0.00</td>\n",
       "      <td>NaN</td>\n",
       "      <td>2,874.72</td>\n",
       "      <td>DAILY</td>\n",
       "      <td>2022-09-01</td>\n",
       "      <td>02:00:34</td>\n",
       "      <td>2022-09-01</td>\n",
       "      <td>02:00:34</td>\n",
       "      <td>SETTLEMENT 2022-09-01.csv</td>\n",
       "    </tr>\n",
       "    <tr>\n",
       "      <th>1</th>\n",
       "      <td>82d8f28f-82ce-48fb-ad7d-1a05633356a5</td>\n",
       "      <td>TRAGONA FONDA</td>\n",
       "      <td>j_mizael26@hotmail.com</td>\n",
       "      <td>G9KZZ3CV6</td>\n",
       "      <td>2022-09-01</td>\n",
       "      <td>138.00</td>\n",
       "      <td>4.97</td>\n",
       "      <td>0.80</td>\n",
       "      <td>0.00</td>\n",
       "      <td>0.00</td>\n",
       "      <td>...</td>\n",
       "      <td>0.00</td>\n",
       "      <td>0.00</td>\n",
       "      <td>NaN</td>\n",
       "      <td>132.23</td>\n",
       "      <td>DAILY</td>\n",
       "      <td>2022-09-01</td>\n",
       "      <td>02:00:34</td>\n",
       "      <td>2022-09-01</td>\n",
       "      <td>02:00:34</td>\n",
       "      <td>SETTLEMENT 2022-09-01.csv</td>\n",
       "    </tr>\n",
       "    <tr>\n",
       "      <th>2</th>\n",
       "      <td>60bee498-10da-4461-9993-8d583fcc512e</td>\n",
       "      <td>MAS VERDE</td>\n",
       "      <td>hectorfk7@gmail.com</td>\n",
       "      <td>K5VBHL3BH</td>\n",
       "      <td>2022-09-01</td>\n",
       "      <td>22,501.45</td>\n",
       "      <td>810.05</td>\n",
       "      <td>129.61</td>\n",
       "      <td>0.00</td>\n",
       "      <td>0.00</td>\n",
       "      <td>...</td>\n",
       "      <td>0.00</td>\n",
       "      <td>0.00</td>\n",
       "      <td>NaN</td>\n",
       "      <td>21,561.79</td>\n",
       "      <td>DAILY</td>\n",
       "      <td>2022-09-01</td>\n",
       "      <td>02:00:34</td>\n",
       "      <td>2022-09-01</td>\n",
       "      <td>02:00:34</td>\n",
       "      <td>SETTLEMENT 2022-09-01.csv</td>\n",
       "    </tr>\n",
       "    <tr>\n",
       "      <th>3</th>\n",
       "      <td>98cfac80-6c04-4478-a933-c54c3efaff52</td>\n",
       "      <td>ABARROTES ABY</td>\n",
       "      <td>samuel041267@gmail.com</td>\n",
       "      <td>QTYXZJ54K</td>\n",
       "      <td>2022-09-01</td>\n",
       "      <td>542.00</td>\n",
       "      <td>19.51</td>\n",
       "      <td>3.12</td>\n",
       "      <td>0.00</td>\n",
       "      <td>0.00</td>\n",
       "      <td>...</td>\n",
       "      <td>0.00</td>\n",
       "      <td>0.00</td>\n",
       "      <td>NaN</td>\n",
       "      <td>519.37</td>\n",
       "      <td>DAILY</td>\n",
       "      <td>2022-09-01</td>\n",
       "      <td>02:00:34</td>\n",
       "      <td>2022-09-01</td>\n",
       "      <td>02:00:34</td>\n",
       "      <td>SETTLEMENT 2022-09-01.csv</td>\n",
       "    </tr>\n",
       "    <tr>\n",
       "      <th>4</th>\n",
       "      <td>6f9fe7c6-ad24-4b3e-b1dd-99cb24b6e375</td>\n",
       "      <td>PROCACE</td>\n",
       "      <td>procaceterminal@hotmail.com</td>\n",
       "      <td>43TBBGXDH</td>\n",
       "      <td>2022-09-01</td>\n",
       "      <td>650.00</td>\n",
       "      <td>23.40</td>\n",
       "      <td>3.74</td>\n",
       "      <td>0.00</td>\n",
       "      <td>0.00</td>\n",
       "      <td>...</td>\n",
       "      <td>0.00</td>\n",
       "      <td>0.00</td>\n",
       "      <td>NaN</td>\n",
       "      <td>622.86</td>\n",
       "      <td>DAILY</td>\n",
       "      <td>2022-09-01</td>\n",
       "      <td>02:00:35</td>\n",
       "      <td>2022-09-01</td>\n",
       "      <td>02:00:35</td>\n",
       "      <td>SETTLEMENT 2022-09-01.csv</td>\n",
       "    </tr>\n",
       "  </tbody>\n",
       "</table>\n",
       "<p>5 rows × 26 columns</p>\n",
       "</div>"
      ],
      "text/plain": [
       "                            merchant_id  merchant_name  \\\n",
       "0  fb7b00dc-34fd-4315-a707-f2f2cc0af11c  CASA MANCINAS   \n",
       "1  82d8f28f-82ce-48fb-ad7d-1a05633356a5  TRAGONA FONDA   \n",
       "2  60bee498-10da-4461-9993-8d583fcc512e      MAS VERDE   \n",
       "3  98cfac80-6c04-4478-a933-c54c3efaff52  ABARROTES ABY   \n",
       "4  6f9fe7c6-ad24-4b3e-b1dd-99cb24b6e375        PROCACE   \n",
       "\n",
       "                       user_email  report_id report_date_local  \\\n",
       "0  luis.albertomancinas@gmail.com  FLNH3RSW3        2022-09-01   \n",
       "1          j_mizael26@hotmail.com  G9KZZ3CV6        2022-09-01   \n",
       "2             hectorfk7@gmail.com  K5VBHL3BH        2022-09-01   \n",
       "3          samuel041267@gmail.com  QTYXZJ54K        2022-09-01   \n",
       "4     procaceterminal@hotmail.com  43TBBGXDH        2022-09-01   \n",
       "\n",
       "   total_transactions  total_fees_charged  total_taxes  applied_fees_benefits  \\\n",
       "0            3,000.00              108.00        17.28                   0.00   \n",
       "1              138.00                4.97         0.80                   0.00   \n",
       "2           22,501.45              810.05       129.61                   0.00   \n",
       "3              542.00               19.51         3.12                   0.00   \n",
       "4              650.00               23.40         3.74                   0.00   \n",
       "\n",
       "   applied_taxes_benefits  ...  total_released  total_retained  tipopago  \\\n",
       "0                    0.00  ...            0.00            0.00       NaN   \n",
       "1                    0.00  ...            0.00            0.00       NaN   \n",
       "2                    0.00  ...            0.00            0.00       NaN   \n",
       "3                    0.00  ...            0.00            0.00       NaN   \n",
       "4                    0.00  ...            0.00            0.00       NaN   \n",
       "\n",
       "   total_due   type  created_date  created_time  updated_date updated_time  \\\n",
       "0   2,874.72  DAILY    2022-09-01      02:00:34    2022-09-01     02:00:34   \n",
       "1     132.23  DAILY    2022-09-01      02:00:34    2022-09-01     02:00:34   \n",
       "2  21,561.79  DAILY    2022-09-01      02:00:34    2022-09-01     02:00:34   \n",
       "3     519.37  DAILY    2022-09-01      02:00:34    2022-09-01     02:00:34   \n",
       "4     622.86  DAILY    2022-09-01      02:00:35    2022-09-01     02:00:35   \n",
       "\n",
       "                   file_name  \n",
       "0  SETTLEMENT 2022-09-01.csv  \n",
       "1  SETTLEMENT 2022-09-01.csv  \n",
       "2  SETTLEMENT 2022-09-01.csv  \n",
       "3  SETTLEMENT 2022-09-01.csv  \n",
       "4  SETTLEMENT 2022-09-01.csv  \n",
       "\n",
       "[5 rows x 26 columns]"
      ]
     },
     "execution_count": 3,
     "metadata": {},
     "output_type": "execute_result"
    }
   ],
   "source": [
    "cum_1 = pd.concat([pd.read_csv(f).assign(file_name=os.path.basename(f)) for f in cumfiles])\n",
    "cum_1.columns = cum_1.columns.str.strip().str.lower() \n",
    "cum_1['report_date_local']= pd.to_datetime(cum_1['report_date_local']) \n",
    "cum_1.head()"
   ]
  },
  {
   "cell_type": "code",
   "execution_count": 4,
   "metadata": {},
   "outputs": [
    {
     "data": {
      "text/plain": [
       "(2692613, 26)"
      ]
     },
     "execution_count": 4,
     "metadata": {},
     "output_type": "execute_result"
    }
   ],
   "source": [
    "cum_1.shape"
   ]
  },
  {
   "cell_type": "code",
   "execution_count": 5,
   "metadata": {},
   "outputs": [
    {
     "data": {
      "text/html": [
       "<div>\n",
       "<style scoped>\n",
       "    .dataframe tbody tr th:only-of-type {\n",
       "        vertical-align: middle;\n",
       "    }\n",
       "\n",
       "    .dataframe tbody tr th {\n",
       "        vertical-align: top;\n",
       "    }\n",
       "\n",
       "    .dataframe thead th {\n",
       "        text-align: right;\n",
       "    }\n",
       "</style>\n",
       "<table border=\"1\" class=\"dataframe\">\n",
       "  <thead>\n",
       "    <tr style=\"text-align: right;\">\n",
       "      <th></th>\n",
       "      <th>merchant_id</th>\n",
       "      <th>merchant_name</th>\n",
       "      <th>user_email</th>\n",
       "      <th>report_id</th>\n",
       "      <th>report_date_local</th>\n",
       "      <th>total_transactions</th>\n",
       "      <th>total_fees_charged</th>\n",
       "      <th>total_taxes</th>\n",
       "      <th>applied_fees_benefits</th>\n",
       "      <th>applied_taxes_benefits</th>\n",
       "      <th>...</th>\n",
       "      <th>total_released</th>\n",
       "      <th>total_retained</th>\n",
       "      <th>tipopago</th>\n",
       "      <th>total_due</th>\n",
       "      <th>type</th>\n",
       "      <th>created_date</th>\n",
       "      <th>created_time</th>\n",
       "      <th>updated_date</th>\n",
       "      <th>updated_time</th>\n",
       "      <th>file_name</th>\n",
       "    </tr>\n",
       "  </thead>\n",
       "  <tbody>\n",
       "    <tr>\n",
       "      <th>0</th>\n",
       "      <td>fb7b00dc-34fd-4315-a707-f2f2cc0af11c</td>\n",
       "      <td>CASA MANCINAS</td>\n",
       "      <td>luis.albertomancinas@gmail.com</td>\n",
       "      <td>FLNH3RSW3</td>\n",
       "      <td>2022-09-01</td>\n",
       "      <td>3,000.00</td>\n",
       "      <td>108.00</td>\n",
       "      <td>17.28</td>\n",
       "      <td>0.00</td>\n",
       "      <td>0.00</td>\n",
       "      <td>...</td>\n",
       "      <td>0.00</td>\n",
       "      <td>0.00</td>\n",
       "      <td>NaN</td>\n",
       "      <td>2,874.72</td>\n",
       "      <td>DAILY</td>\n",
       "      <td>2022-09-01</td>\n",
       "      <td>02:00:34</td>\n",
       "      <td>2022-09-01</td>\n",
       "      <td>02:00:34</td>\n",
       "      <td>SETTLEMENT 2022-09-01.csv</td>\n",
       "    </tr>\n",
       "    <tr>\n",
       "      <th>1</th>\n",
       "      <td>82d8f28f-82ce-48fb-ad7d-1a05633356a5</td>\n",
       "      <td>TRAGONA FONDA</td>\n",
       "      <td>j_mizael26@hotmail.com</td>\n",
       "      <td>G9KZZ3CV6</td>\n",
       "      <td>2022-09-01</td>\n",
       "      <td>138.00</td>\n",
       "      <td>4.97</td>\n",
       "      <td>0.80</td>\n",
       "      <td>0.00</td>\n",
       "      <td>0.00</td>\n",
       "      <td>...</td>\n",
       "      <td>0.00</td>\n",
       "      <td>0.00</td>\n",
       "      <td>NaN</td>\n",
       "      <td>132.23</td>\n",
       "      <td>DAILY</td>\n",
       "      <td>2022-09-01</td>\n",
       "      <td>02:00:34</td>\n",
       "      <td>2022-09-01</td>\n",
       "      <td>02:00:34</td>\n",
       "      <td>SETTLEMENT 2022-09-01.csv</td>\n",
       "    </tr>\n",
       "    <tr>\n",
       "      <th>2</th>\n",
       "      <td>60bee498-10da-4461-9993-8d583fcc512e</td>\n",
       "      <td>MAS VERDE</td>\n",
       "      <td>hectorfk7@gmail.com</td>\n",
       "      <td>K5VBHL3BH</td>\n",
       "      <td>2022-09-01</td>\n",
       "      <td>22,501.45</td>\n",
       "      <td>810.05</td>\n",
       "      <td>129.61</td>\n",
       "      <td>0.00</td>\n",
       "      <td>0.00</td>\n",
       "      <td>...</td>\n",
       "      <td>0.00</td>\n",
       "      <td>0.00</td>\n",
       "      <td>NaN</td>\n",
       "      <td>21,561.79</td>\n",
       "      <td>DAILY</td>\n",
       "      <td>2022-09-01</td>\n",
       "      <td>02:00:34</td>\n",
       "      <td>2022-09-01</td>\n",
       "      <td>02:00:34</td>\n",
       "      <td>SETTLEMENT 2022-09-01.csv</td>\n",
       "    </tr>\n",
       "    <tr>\n",
       "      <th>3</th>\n",
       "      <td>98cfac80-6c04-4478-a933-c54c3efaff52</td>\n",
       "      <td>ABARROTES ABY</td>\n",
       "      <td>samuel041267@gmail.com</td>\n",
       "      <td>QTYXZJ54K</td>\n",
       "      <td>2022-09-01</td>\n",
       "      <td>542.00</td>\n",
       "      <td>19.51</td>\n",
       "      <td>3.12</td>\n",
       "      <td>0.00</td>\n",
       "      <td>0.00</td>\n",
       "      <td>...</td>\n",
       "      <td>0.00</td>\n",
       "      <td>0.00</td>\n",
       "      <td>NaN</td>\n",
       "      <td>519.37</td>\n",
       "      <td>DAILY</td>\n",
       "      <td>2022-09-01</td>\n",
       "      <td>02:00:34</td>\n",
       "      <td>2022-09-01</td>\n",
       "      <td>02:00:34</td>\n",
       "      <td>SETTLEMENT 2022-09-01.csv</td>\n",
       "    </tr>\n",
       "    <tr>\n",
       "      <th>4</th>\n",
       "      <td>6f9fe7c6-ad24-4b3e-b1dd-99cb24b6e375</td>\n",
       "      <td>PROCACE</td>\n",
       "      <td>procaceterminal@hotmail.com</td>\n",
       "      <td>43TBBGXDH</td>\n",
       "      <td>2022-09-01</td>\n",
       "      <td>650.00</td>\n",
       "      <td>23.40</td>\n",
       "      <td>3.74</td>\n",
       "      <td>0.00</td>\n",
       "      <td>0.00</td>\n",
       "      <td>...</td>\n",
       "      <td>0.00</td>\n",
       "      <td>0.00</td>\n",
       "      <td>NaN</td>\n",
       "      <td>622.86</td>\n",
       "      <td>DAILY</td>\n",
       "      <td>2022-09-01</td>\n",
       "      <td>02:00:35</td>\n",
       "      <td>2022-09-01</td>\n",
       "      <td>02:00:35</td>\n",
       "      <td>SETTLEMENT 2022-09-01.csv</td>\n",
       "    </tr>\n",
       "  </tbody>\n",
       "</table>\n",
       "<p>5 rows × 26 columns</p>\n",
       "</div>"
      ],
      "text/plain": [
       "                            merchant_id  merchant_name  \\\n",
       "0  fb7b00dc-34fd-4315-a707-f2f2cc0af11c  CASA MANCINAS   \n",
       "1  82d8f28f-82ce-48fb-ad7d-1a05633356a5  TRAGONA FONDA   \n",
       "2  60bee498-10da-4461-9993-8d583fcc512e      MAS VERDE   \n",
       "3  98cfac80-6c04-4478-a933-c54c3efaff52  ABARROTES ABY   \n",
       "4  6f9fe7c6-ad24-4b3e-b1dd-99cb24b6e375        PROCACE   \n",
       "\n",
       "                       user_email  report_id report_date_local  \\\n",
       "0  luis.albertomancinas@gmail.com  FLNH3RSW3        2022-09-01   \n",
       "1          j_mizael26@hotmail.com  G9KZZ3CV6        2022-09-01   \n",
       "2             hectorfk7@gmail.com  K5VBHL3BH        2022-09-01   \n",
       "3          samuel041267@gmail.com  QTYXZJ54K        2022-09-01   \n",
       "4     procaceterminal@hotmail.com  43TBBGXDH        2022-09-01   \n",
       "\n",
       "   total_transactions  total_fees_charged  total_taxes  applied_fees_benefits  \\\n",
       "0            3,000.00              108.00        17.28                   0.00   \n",
       "1              138.00                4.97         0.80                   0.00   \n",
       "2           22,501.45              810.05       129.61                   0.00   \n",
       "3              542.00               19.51         3.12                   0.00   \n",
       "4              650.00               23.40         3.74                   0.00   \n",
       "\n",
       "   applied_taxes_benefits  ...  total_released  total_retained  tipopago  \\\n",
       "0                    0.00  ...            0.00            0.00       NaN   \n",
       "1                    0.00  ...            0.00            0.00       NaN   \n",
       "2                    0.00  ...            0.00            0.00       NaN   \n",
       "3                    0.00  ...            0.00            0.00       NaN   \n",
       "4                    0.00  ...            0.00            0.00       NaN   \n",
       "\n",
       "   total_due   type  created_date  created_time  updated_date updated_time  \\\n",
       "0   2,874.72  DAILY    2022-09-01      02:00:34    2022-09-01     02:00:34   \n",
       "1     132.23  DAILY    2022-09-01      02:00:34    2022-09-01     02:00:34   \n",
       "2  21,561.79  DAILY    2022-09-01      02:00:34    2022-09-01     02:00:34   \n",
       "3     519.37  DAILY    2022-09-01      02:00:34    2022-09-01     02:00:34   \n",
       "4     622.86  DAILY    2022-09-01      02:00:35    2022-09-01     02:00:35   \n",
       "\n",
       "                   file_name  \n",
       "0  SETTLEMENT 2022-09-01.csv  \n",
       "1  SETTLEMENT 2022-09-01.csv  \n",
       "2  SETTLEMENT 2022-09-01.csv  \n",
       "3  SETTLEMENT 2022-09-01.csv  \n",
       "4  SETTLEMENT 2022-09-01.csv  \n",
       "\n",
       "[5 rows x 26 columns]"
      ]
     },
     "execution_count": 5,
     "metadata": {},
     "output_type": "execute_result"
    }
   ],
   "source": [
    "cum_distinct_0 = cum_1[(cum_1['total_due'] != 0)]\n",
    "cum_distinct_0.head()"
   ]
  },
  {
   "cell_type": "code",
   "execution_count": 6,
   "metadata": {},
   "outputs": [
    {
     "data": {
      "text/plain": [
       "(2691552, 26)"
      ]
     },
     "execution_count": 6,
     "metadata": {},
     "output_type": "execute_result"
    }
   ],
   "source": [
    "cum_distinct_0.shape"
   ]
  },
  {
   "cell_type": "markdown",
   "metadata": {},
   "source": [
    "#### PAGOS DE DISPERSIONES"
   ]
  },
  {
   "cell_type": "code",
   "execution_count": 7,
   "metadata": {},
   "outputs": [
    {
     "data": {
      "text/plain": [
       "['C:\\\\Users\\\\Cristian.Aparicio\\\\Documents\\\\DISPERSIONES\\\\2022\\\\09. SEPTIEMBRE\\\\ARCHIVO DISPERSIONES\\\\Dispersión-20220901.xlsx',\n",
       " 'C:\\\\Users\\\\Cristian.Aparicio\\\\Documents\\\\DISPERSIONES\\\\2022\\\\09. SEPTIEMBRE\\\\ARCHIVO DISPERSIONES\\\\Dispersión-20220902.xlsx',\n",
       " 'C:\\\\Users\\\\Cristian.Aparicio\\\\Documents\\\\DISPERSIONES\\\\2022\\\\09. SEPTIEMBRE\\\\ARCHIVO DISPERSIONES\\\\Dispersión-20220903.xlsx',\n",
       " 'C:\\\\Users\\\\Cristian.Aparicio\\\\Documents\\\\DISPERSIONES\\\\2022\\\\09. SEPTIEMBRE\\\\ARCHIVO DISPERSIONES\\\\Dispersión-20220904.xlsx',\n",
       " 'C:\\\\Users\\\\Cristian.Aparicio\\\\Documents\\\\DISPERSIONES\\\\2022\\\\09. SEPTIEMBRE\\\\ARCHIVO DISPERSIONES\\\\Dispersión-20220905.xlsx',\n",
       " 'C:\\\\Users\\\\Cristian.Aparicio\\\\Documents\\\\DISPERSIONES\\\\2022\\\\09. SEPTIEMBRE\\\\ARCHIVO DISPERSIONES\\\\Dispersión-20220906.xlsx',\n",
       " 'C:\\\\Users\\\\Cristian.Aparicio\\\\Documents\\\\DISPERSIONES\\\\2022\\\\09. SEPTIEMBRE\\\\ARCHIVO DISPERSIONES\\\\Dispersión-20220907.xlsx',\n",
       " 'C:\\\\Users\\\\Cristian.Aparicio\\\\Documents\\\\DISPERSIONES\\\\2022\\\\09. SEPTIEMBRE\\\\ARCHIVO DISPERSIONES\\\\Dispersión-20220908.xlsx',\n",
       " 'C:\\\\Users\\\\Cristian.Aparicio\\\\Documents\\\\DISPERSIONES\\\\2022\\\\09. SEPTIEMBRE\\\\ARCHIVO DISPERSIONES\\\\Dispersión-20220909.xlsx',\n",
       " 'C:\\\\Users\\\\Cristian.Aparicio\\\\Documents\\\\DISPERSIONES\\\\2022\\\\09. SEPTIEMBRE\\\\ARCHIVO DISPERSIONES\\\\Dispersión-20220910.xlsx',\n",
       " 'C:\\\\Users\\\\Cristian.Aparicio\\\\Documents\\\\DISPERSIONES\\\\2022\\\\09. SEPTIEMBRE\\\\ARCHIVO DISPERSIONES\\\\Dispersión-20220911.xlsx',\n",
       " 'C:\\\\Users\\\\Cristian.Aparicio\\\\Documents\\\\DISPERSIONES\\\\2022\\\\09. SEPTIEMBRE\\\\ARCHIVO DISPERSIONES\\\\Dispersión-20220912.xlsx',\n",
       " 'C:\\\\Users\\\\Cristian.Aparicio\\\\Documents\\\\DISPERSIONES\\\\2022\\\\09. SEPTIEMBRE\\\\ARCHIVO DISPERSIONES\\\\Dispersión-20220913.xlsx',\n",
       " 'C:\\\\Users\\\\Cristian.Aparicio\\\\Documents\\\\DISPERSIONES\\\\2022\\\\09. SEPTIEMBRE\\\\ARCHIVO DISPERSIONES\\\\Dispersión-20220914.xlsx',\n",
       " 'C:\\\\Users\\\\Cristian.Aparicio\\\\Documents\\\\DISPERSIONES\\\\2022\\\\09. SEPTIEMBRE\\\\ARCHIVO DISPERSIONES\\\\Dispersión-20220915.xlsx',\n",
       " 'C:\\\\Users\\\\Cristian.Aparicio\\\\Documents\\\\DISPERSIONES\\\\2022\\\\09. SEPTIEMBRE\\\\ARCHIVO DISPERSIONES\\\\Dispersión-20220916.xlsx',\n",
       " 'C:\\\\Users\\\\Cristian.Aparicio\\\\Documents\\\\DISPERSIONES\\\\2022\\\\09. SEPTIEMBRE\\\\ARCHIVO DISPERSIONES\\\\Dispersión-20220917.xlsx',\n",
       " 'C:\\\\Users\\\\Cristian.Aparicio\\\\Documents\\\\DISPERSIONES\\\\2022\\\\09. SEPTIEMBRE\\\\ARCHIVO DISPERSIONES\\\\Dispersión-20220918.xlsx',\n",
       " 'C:\\\\Users\\\\Cristian.Aparicio\\\\Documents\\\\DISPERSIONES\\\\2022\\\\09. SEPTIEMBRE\\\\ARCHIVO DISPERSIONES\\\\Dispersión-20220919.xlsx',\n",
       " 'C:\\\\Users\\\\Cristian.Aparicio\\\\Documents\\\\DISPERSIONES\\\\2022\\\\09. SEPTIEMBRE\\\\ARCHIVO DISPERSIONES\\\\Dispersión-20220920.xlsx',\n",
       " 'C:\\\\Users\\\\Cristian.Aparicio\\\\Documents\\\\DISPERSIONES\\\\2022\\\\09. SEPTIEMBRE\\\\ARCHIVO DISPERSIONES\\\\Dispersión-20220921.xlsx',\n",
       " 'C:\\\\Users\\\\Cristian.Aparicio\\\\Documents\\\\DISPERSIONES\\\\2022\\\\09. SEPTIEMBRE\\\\ARCHIVO DISPERSIONES\\\\Dispersión-20220922.xlsx',\n",
       " 'C:\\\\Users\\\\Cristian.Aparicio\\\\Documents\\\\DISPERSIONES\\\\2022\\\\09. SEPTIEMBRE\\\\ARCHIVO DISPERSIONES\\\\Dispersión-20220923.xlsx',\n",
       " 'C:\\\\Users\\\\Cristian.Aparicio\\\\Documents\\\\DISPERSIONES\\\\2022\\\\09. SEPTIEMBRE\\\\ARCHIVO DISPERSIONES\\\\Dispersión-20220924.xlsx',\n",
       " 'C:\\\\Users\\\\Cristian.Aparicio\\\\Documents\\\\DISPERSIONES\\\\2022\\\\09. SEPTIEMBRE\\\\ARCHIVO DISPERSIONES\\\\Dispersión-20220925.xlsx',\n",
       " 'C:\\\\Users\\\\Cristian.Aparicio\\\\Documents\\\\DISPERSIONES\\\\2022\\\\09. SEPTIEMBRE\\\\ARCHIVO DISPERSIONES\\\\Dispersión-20220926.xlsx',\n",
       " 'C:\\\\Users\\\\Cristian.Aparicio\\\\Documents\\\\DISPERSIONES\\\\2022\\\\09. SEPTIEMBRE\\\\ARCHIVO DISPERSIONES\\\\Dispersión-20220927.xlsx',\n",
       " 'C:\\\\Users\\\\Cristian.Aparicio\\\\Documents\\\\DISPERSIONES\\\\2022\\\\09. SEPTIEMBRE\\\\ARCHIVO DISPERSIONES\\\\Dispersión-20220928.xlsx',\n",
       " 'C:\\\\Users\\\\Cristian.Aparicio\\\\Documents\\\\DISPERSIONES\\\\2022\\\\09. SEPTIEMBRE\\\\ARCHIVO DISPERSIONES\\\\Dispersión-20220929.xlsx',\n",
       " 'C:\\\\Users\\\\Cristian.Aparicio\\\\Documents\\\\DISPERSIONES\\\\2022\\\\09. SEPTIEMBRE\\\\ARCHIVO DISPERSIONES\\\\Dispersión-20220930.xlsx']"
      ]
     },
     "execution_count": 7,
     "metadata": {},
     "output_type": "execute_result"
    }
   ],
   "source": [
    "pagos_dia_files_1 = glob.glob(r'C:\\Users\\Cristian.Aparicio\\Documents\\DISPERSIONES\\2022\\09. SEPTIEMBRE\\ARCHIVO DISPERSIONES\\Dispersión*.xlsx', recursive=False)\n",
    "pagos_dia_files_1"
   ]
  },
  {
   "cell_type": "code",
   "execution_count": 8,
   "metadata": {},
   "outputs": [
    {
     "data": {
      "text/html": [
       "<div>\n",
       "<style scoped>\n",
       "    .dataframe tbody tr th:only-of-type {\n",
       "        vertical-align: middle;\n",
       "    }\n",
       "\n",
       "    .dataframe tbody tr th {\n",
       "        vertical-align: top;\n",
       "    }\n",
       "\n",
       "    .dataframe thead th {\n",
       "        text-align: right;\n",
       "    }\n",
       "</style>\n",
       "<table border=\"1\" class=\"dataframe\">\n",
       "  <thead>\n",
       "    <tr style=\"text-align: right;\">\n",
       "      <th></th>\n",
       "      <th>type</th>\n",
       "      <th>merchant_id</th>\n",
       "      <th>merchant_name</th>\n",
       "      <th>user_email</th>\n",
       "      <th>report_id</th>\n",
       "      <th>report_date_local</th>\n",
       "      <th>total_due</th>\n",
       "      <th>tipo</th>\n",
       "      <th>bank</th>\n",
       "      <th>bank_account_owner_name</th>\n",
       "      <th>CLABE</th>\n",
       "      <th>status</th>\n",
       "      <th>LINEA CEP</th>\n",
       "      <th>Batch_time</th>\n",
       "      <th>Banco_emisor</th>\n",
       "      <th>file_name</th>\n",
       "      <th>date_file</th>\n",
       "    </tr>\n",
       "  </thead>\n",
       "  <tbody>\n",
       "    <tr>\n",
       "      <th>0</th>\n",
       "      <td>DAILY</td>\n",
       "      <td>dcc38821-11da-428e-a5dc-50a1b26240f5</td>\n",
       "      <td>Taller estetica automotriz</td>\n",
       "      <td>kruztygarage@gmail.com</td>\n",
       "      <td>JNHJBGF66</td>\n",
       "      <td>2022-09-01</td>\n",
       "      <td>38,329.60</td>\n",
       "      <td>Pago del día</td>\n",
       "      <td>BBVA BANCOMER</td>\n",
       "      <td>Jose Isaias Reyna Cosgalla</td>\n",
       "      <td>12180015650006506</td>\n",
       "      <td>ERROR</td>\n",
       "      <td>NaN</td>\n",
       "      <td>First_batch</td>\n",
       "      <td>SANTANDER</td>\n",
       "      <td>Dispersión-20220901.xlsx</td>\n",
       "      <td>2022-09-01</td>\n",
       "    </tr>\n",
       "    <tr>\n",
       "      <th>59315</th>\n",
       "      <td>DAILY</td>\n",
       "      <td>001efb79-23cf-450a-91a4-26286d49ca2a</td>\n",
       "      <td>Local 7</td>\n",
       "      <td>habita.uniformes@gmail.com</td>\n",
       "      <td>WCBSGNH7M</td>\n",
       "      <td>2022-09-01</td>\n",
       "      <td>33.54</td>\n",
       "      <td>Pago del día</td>\n",
       "      <td>BBVA BANCOMER</td>\n",
       "      <td>Daniela Vara</td>\n",
       "      <td>12691015599486718</td>\n",
       "      <td>PAID</td>\n",
       "      <td>2022-09-01,2022090140014HDH0001497735760,40014...</td>\n",
       "      <td>First_batch</td>\n",
       "      <td>SANTANDER</td>\n",
       "      <td>Dispersión-20220901.xlsx</td>\n",
       "      <td>2022-09-01</td>\n",
       "    </tr>\n",
       "    <tr>\n",
       "      <th>59314</th>\n",
       "      <td>DAILY</td>\n",
       "      <td>001f23c8-938e-45e2-8d34-e13f34a65c43</td>\n",
       "      <td>El Bacano</td>\n",
       "      <td>yerli.santos23@gmail.com</td>\n",
       "      <td>LT8Q7L6SM</td>\n",
       "      <td>2022-09-01</td>\n",
       "      <td>435.37</td>\n",
       "      <td>Pago del día</td>\n",
       "      <td>BBVA BANCOMER</td>\n",
       "      <td>Yerli Carmensa Santos Bernal</td>\n",
       "      <td>12790015694265557</td>\n",
       "      <td>PAID</td>\n",
       "      <td>2022-09-01,2022090140014HDH0001497735750,40014...</td>\n",
       "      <td>First_batch</td>\n",
       "      <td>SANTANDER</td>\n",
       "      <td>Dispersión-20220901.xlsx</td>\n",
       "      <td>2022-09-01</td>\n",
       "    </tr>\n",
       "    <tr>\n",
       "      <th>59313</th>\n",
       "      <td>DAILY</td>\n",
       "      <td>0021834c-e002-4efc-ba4c-ae7c656d5ffa</td>\n",
       "      <td>Asesores Especializados Laboratorio</td>\n",
       "      <td>as.direccion@hotmail.com</td>\n",
       "      <td>QDCWVXPXF</td>\n",
       "      <td>2022-09-01</td>\n",
       "      <td>3,821.46</td>\n",
       "      <td>Pago del día</td>\n",
       "      <td>BBVA BANCOMER</td>\n",
       "      <td>ASESORES ESPECIALIZADOS EN LABORATORIOS SA DE CV</td>\n",
       "      <td>12650004493646761</td>\n",
       "      <td>PAID</td>\n",
       "      <td>2022-09-01,2022090140014HDH0001497735770,40014...</td>\n",
       "      <td>First_batch</td>\n",
       "      <td>SANTANDER</td>\n",
       "      <td>Dispersión-20220901.xlsx</td>\n",
       "      <td>2022-09-01</td>\n",
       "    </tr>\n",
       "    <tr>\n",
       "      <th>59312</th>\n",
       "      <td>DAILY</td>\n",
       "      <td>003fb9f8-39c9-4ed5-87d7-b55c3ef7162f</td>\n",
       "      <td>Arreglalo Plaza Polanco</td>\n",
       "      <td>arreglaloplazapolanco@gmail.com</td>\n",
       "      <td>6X49CN5V4</td>\n",
       "      <td>2022-09-01</td>\n",
       "      <td>335.38</td>\n",
       "      <td>Pago del día</td>\n",
       "      <td>BBVA BANCOMER</td>\n",
       "      <td>Ana Belen Sanz Abbud</td>\n",
       "      <td>12180015507205829</td>\n",
       "      <td>PAID</td>\n",
       "      <td>2022-09-01,2022090140014HDH0001497736160,40014...</td>\n",
       "      <td>First_batch</td>\n",
       "      <td>SANTANDER</td>\n",
       "      <td>Dispersión-20220901.xlsx</td>\n",
       "      <td>2022-09-01</td>\n",
       "    </tr>\n",
       "  </tbody>\n",
       "</table>\n",
       "</div>"
      ],
      "text/plain": [
       "        type                           merchant_id  \\\n",
       "0      DAILY  dcc38821-11da-428e-a5dc-50a1b26240f5   \n",
       "59315  DAILY  001efb79-23cf-450a-91a4-26286d49ca2a   \n",
       "59314  DAILY  001f23c8-938e-45e2-8d34-e13f34a65c43   \n",
       "59313  DAILY  0021834c-e002-4efc-ba4c-ae7c656d5ffa   \n",
       "59312  DAILY  003fb9f8-39c9-4ed5-87d7-b55c3ef7162f   \n",
       "\n",
       "                             merchant_name                       user_email  \\\n",
       "0               Taller estetica automotriz           kruztygarage@gmail.com   \n",
       "59315                              Local 7       habita.uniformes@gmail.com   \n",
       "59314                            El Bacano         yerli.santos23@gmail.com   \n",
       "59313  Asesores Especializados Laboratorio         as.direccion@hotmail.com   \n",
       "59312              Arreglalo Plaza Polanco  arreglaloplazapolanco@gmail.com   \n",
       "\n",
       "       report_id report_date_local  total_due          tipo           bank  \\\n",
       "0      JNHJBGF66        2022-09-01  38,329.60  Pago del día  BBVA BANCOMER   \n",
       "59315  WCBSGNH7M        2022-09-01      33.54  Pago del día  BBVA BANCOMER   \n",
       "59314  LT8Q7L6SM        2022-09-01     435.37  Pago del día  BBVA BANCOMER   \n",
       "59313  QDCWVXPXF        2022-09-01   3,821.46  Pago del día  BBVA BANCOMER   \n",
       "59312  6X49CN5V4        2022-09-01     335.38  Pago del día  BBVA BANCOMER   \n",
       "\n",
       "                                bank_account_owner_name              CLABE  \\\n",
       "0                            Jose Isaias Reyna Cosgalla  12180015650006506   \n",
       "59315                                      Daniela Vara  12691015599486718   \n",
       "59314                     Yerli Carmensa Santos Bernal   12790015694265557   \n",
       "59313  ASESORES ESPECIALIZADOS EN LABORATORIOS SA DE CV  12650004493646761   \n",
       "59312                              Ana Belen Sanz Abbud  12180015507205829   \n",
       "\n",
       "      status                                          LINEA CEP   Batch_time  \\\n",
       "0      ERROR                                                NaN  First_batch   \n",
       "59315   PAID  2022-09-01,2022090140014HDH0001497735760,40014...  First_batch   \n",
       "59314   PAID  2022-09-01,2022090140014HDH0001497735750,40014...  First_batch   \n",
       "59313   PAID  2022-09-01,2022090140014HDH0001497735770,40014...  First_batch   \n",
       "59312   PAID  2022-09-01,2022090140014HDH0001497736160,40014...  First_batch   \n",
       "\n",
       "      Banco_emisor                 file_name  date_file  \n",
       "0        SANTANDER  Dispersión-20220901.xlsx 2022-09-01  \n",
       "59315    SANTANDER  Dispersión-20220901.xlsx 2022-09-01  \n",
       "59314    SANTANDER  Dispersión-20220901.xlsx 2022-09-01  \n",
       "59313    SANTANDER  Dispersión-20220901.xlsx 2022-09-01  \n",
       "59312    SANTANDER  Dispersión-20220901.xlsx 2022-09-01  "
      ]
     },
     "execution_count": 8,
     "metadata": {},
     "output_type": "execute_result"
    }
   ],
   "source": [
    "pagos_1 = pd.concat([pd.read_excel(f,sheet_name='Swap del día').assign(file_name=os.path.basename(f)) for f in pagos_dia_files_1])\n",
    "pagos_1['date_file'] = pagos_1[\"file_name\"].str[-13:-5]\n",
    "pagos_1['date_file']= pd.to_datetime(pagos_1['date_file'], format='%Y%m%d').dt.date\n",
    "pagos_1['date_file']= pd.to_datetime(pagos_1['date_file'])\n",
    "pagos_1.sort_values(by=['date_file'],ascending=True,inplace=True)\n",
    "pagos_1['report_date_local']= pd.to_datetime(pagos_1['report_date_local']) \n",
    "pagos_1.head()"
   ]
  },
  {
   "cell_type": "code",
   "execution_count": 9,
   "metadata": {},
   "outputs": [
    {
     "data": {
      "text/plain": [
       "(2568881, 17)"
      ]
     },
     "execution_count": 9,
     "metadata": {},
     "output_type": "execute_result"
    }
   ],
   "source": [
    "pagos_1.shape"
   ]
  },
  {
   "cell_type": "code",
   "execution_count": 10,
   "metadata": {},
   "outputs": [
    {
     "data": {
      "text/plain": [
       "array(['2022-09-01T00:00:00.000000000', '2022-08-31T00:00:00.000000000',\n",
       "       '2022-08-25T00:00:00.000000000', '2022-08-27T00:00:00.000000000',\n",
       "       '2022-08-28T00:00:00.000000000', '2022-08-29T00:00:00.000000000',\n",
       "       '2022-08-30T00:00:00.000000000', '2021-12-25T00:00:00.000000000',\n",
       "       '2021-12-24T00:00:00.000000000', '2021-11-20T00:00:00.000000000',\n",
       "       '2022-08-14T00:00:00.000000000', '2022-08-18T00:00:00.000000000',\n",
       "       '2022-08-12T00:00:00.000000000', '2022-08-23T00:00:00.000000000',\n",
       "       '2022-04-23T00:00:00.000000000', '2022-07-22T00:00:00.000000000',\n",
       "       '2022-05-03T00:00:00.000000000', '2022-05-06T00:00:00.000000000',\n",
       "       '2022-05-13T00:00:00.000000000', '2022-05-28T00:00:00.000000000',\n",
       "       '2022-06-07T00:00:00.000000000', '2022-07-05T00:00:00.000000000',\n",
       "       '2022-07-06T00:00:00.000000000', '2022-07-26T00:00:00.000000000',\n",
       "       '2022-08-03T00:00:00.000000000', '2022-08-19T00:00:00.000000000',\n",
       "       '2022-07-01T00:00:00.000000000', '2022-04-29T00:00:00.000000000',\n",
       "       '2022-03-12T00:00:00.000000000', '2022-08-26T00:00:00.000000000',\n",
       "       '2022-08-24T00:00:00.000000000', '2022-08-20T00:00:00.000000000',\n",
       "       '2022-08-21T00:00:00.000000000', '2021-07-22T00:00:00.000000000',\n",
       "       '2022-08-16T00:00:00.000000000', '2022-07-27T00:00:00.000000000',\n",
       "       '2022-08-11T00:00:00.000000000', '2022-08-17T00:00:00.000000000',\n",
       "       '2022-08-22T00:00:00.000000000', '2022-08-05T00:00:00.000000000',\n",
       "       '2022-05-29T00:00:00.000000000', '2022-06-08T00:00:00.000000000',\n",
       "       '2022-06-28T00:00:00.000000000', '2022-07-23T00:00:00.000000000',\n",
       "       '2022-08-07T00:00:00.000000000', '2021-05-09T00:00:00.000000000',\n",
       "       '2022-07-31T00:00:00.000000000', '2022-01-17T00:00:00.000000000',\n",
       "       '2022-08-13T00:00:00.000000000', '2022-08-10T00:00:00.000000000',\n",
       "       '2022-08-04T00:00:00.000000000', '2022-08-06T00:00:00.000000000',\n",
       "       '2022-08-15T00:00:00.000000000', '2022-08-09T00:00:00.000000000',\n",
       "       '2022-08-08T00:00:00.000000000', '2022-08-02T00:00:00.000000000',\n",
       "       '2022-07-29T00:00:00.000000000', '2022-07-24T00:00:00.000000000',\n",
       "       '2022-07-25T00:00:00.000000000', '2022-07-28T00:00:00.000000000',\n",
       "       '2022-07-30T00:00:00.000000000', '2022-08-01T00:00:00.000000000',\n",
       "       '2022-05-24T00:00:00.000000000', '2022-02-05T00:00:00.000000000',\n",
       "       '2022-07-09T00:00:00.000000000', '2022-02-13T00:00:00.000000000',\n",
       "       '2022-02-22T00:00:00.000000000', '2022-02-27T00:00:00.000000000',\n",
       "       '2022-03-06T00:00:00.000000000', '2022-03-15T00:00:00.000000000',\n",
       "       '2022-03-28T00:00:00.000000000', '2022-06-03T00:00:00.000000000',\n",
       "       '2022-07-15T00:00:00.000000000', '2022-07-18T00:00:00.000000000',\n",
       "       '2021-11-06T00:00:00.000000000', '2022-06-16T00:00:00.000000000',\n",
       "       '2022-06-30T00:00:00.000000000', '2022-06-11T00:00:00.000000000',\n",
       "       '2022-01-04T00:00:00.000000000', '2022-07-08T00:00:00.000000000',\n",
       "       '2022-07-07T00:00:00.000000000', '2022-04-28T00:00:00.000000000',\n",
       "       '2022-07-16T00:00:00.000000000', '2022-07-17T00:00:00.000000000',\n",
       "       '2022-07-19T00:00:00.000000000', '2022-06-24T00:00:00.000000000',\n",
       "       '2022-05-12T00:00:00.000000000', '2022-09-02T00:00:00.000000000',\n",
       "       '2022-07-03T00:00:00.000000000', '2021-12-29T00:00:00.000000000',\n",
       "       '2022-04-30T00:00:00.000000000', '2022-03-27T00:00:00.000000000',\n",
       "       '2022-04-07T00:00:00.000000000', '2022-07-21T00:00:00.000000000',\n",
       "       '2022-07-10T00:00:00.000000000', '2022-06-17T00:00:00.000000000',\n",
       "       '2022-06-09T00:00:00.000000000', '2022-04-08T00:00:00.000000000',\n",
       "       '2022-05-14T00:00:00.000000000', '2022-04-21T00:00:00.000000000',\n",
       "       '2022-04-26T00:00:00.000000000', '2022-05-01T00:00:00.000000000',\n",
       "       '2022-05-02T00:00:00.000000000', '2022-05-07T00:00:00.000000000',\n",
       "       '2022-05-08T00:00:00.000000000', '2022-05-09T00:00:00.000000000',\n",
       "       '2022-05-16T00:00:00.000000000', '2022-07-12T00:00:00.000000000',\n",
       "       '2022-05-17T00:00:00.000000000', '2022-05-22T00:00:00.000000000',\n",
       "       '2022-05-23T00:00:00.000000000', '2022-05-25T00:00:00.000000000',\n",
       "       '2022-05-27T00:00:00.000000000', '2022-03-07T00:00:00.000000000',\n",
       "       '2021-10-30T00:00:00.000000000', '2022-05-18T00:00:00.000000000',\n",
       "       '2022-05-19T00:00:00.000000000', '2022-07-14T00:00:00.000000000',\n",
       "       '2022-07-20T00:00:00.000000000', '2022-05-10T00:00:00.000000000',\n",
       "       '2022-05-11T00:00:00.000000000', '2022-05-15T00:00:00.000000000',\n",
       "       '2021-09-07T00:00:00.000000000', '2021-04-30T00:00:00.000000000',\n",
       "       '2021-01-09T00:00:00.000000000', '2020-11-16T00:00:00.000000000',\n",
       "       '2021-02-21T00:00:00.000000000', '2021-11-30T00:00:00.000000000',\n",
       "       '2021-12-02T00:00:00.000000000', '2022-03-02T00:00:00.000000000',\n",
       "       '2022-06-25T00:00:00.000000000', '2021-01-27T00:00:00.000000000',\n",
       "       '2022-09-03T00:00:00.000000000', '2021-02-27T00:00:00.000000000',\n",
       "       '2022-01-27T00:00:00.000000000', '2022-05-31T00:00:00.000000000',\n",
       "       '2022-06-29T00:00:00.000000000', '2022-02-16T00:00:00.000000000',\n",
       "       '2021-08-28T00:00:00.000000000', '2021-08-29T00:00:00.000000000',\n",
       "       '2021-12-23T00:00:00.000000000', '2022-06-04T00:00:00.000000000',\n",
       "       '2022-07-13T00:00:00.000000000', '2022-04-18T00:00:00.000000000',\n",
       "       '2022-06-06T00:00:00.000000000', '2022-06-12T00:00:00.000000000',\n",
       "       '2021-11-29T00:00:00.000000000', '2021-11-28T00:00:00.000000000',\n",
       "       '2021-09-26T00:00:00.000000000', '2021-09-27T00:00:00.000000000',\n",
       "       '2022-06-15T00:00:00.000000000', '2022-03-30T00:00:00.000000000',\n",
       "       '2022-04-24T00:00:00.000000000', '2022-09-04T00:00:00.000000000',\n",
       "       '2022-02-04T00:00:00.000000000', '2022-01-25T00:00:00.000000000',\n",
       "       '2022-04-03T00:00:00.000000000', '2022-02-18T00:00:00.000000000',\n",
       "       '2022-02-21T00:00:00.000000000', '2022-05-05T00:00:00.000000000',\n",
       "       '2022-02-15T00:00:00.000000000', '2022-02-11T00:00:00.000000000',\n",
       "       '2020-08-15T00:00:00.000000000', '2022-03-26T00:00:00.000000000',\n",
       "       '2021-02-15T00:00:00.000000000', '2021-02-16T00:00:00.000000000',\n",
       "       '2021-02-23T00:00:00.000000000', '2021-02-07T00:00:00.000000000',\n",
       "       '2021-02-09T00:00:00.000000000', '2021-12-07T00:00:00.000000000',\n",
       "       '2022-01-03T00:00:00.000000000', '2021-11-23T00:00:00.000000000',\n",
       "       '2021-11-22T00:00:00.000000000', '2021-08-04T00:00:00.000000000',\n",
       "       '2021-07-05T00:00:00.000000000', '2021-04-12T00:00:00.000000000',\n",
       "       '2021-08-09T00:00:00.000000000', '2021-04-27T00:00:00.000000000',\n",
       "       '2021-05-04T00:00:00.000000000', '2021-05-10T00:00:00.000000000',\n",
       "       '2021-05-11T00:00:00.000000000', '2021-05-17T00:00:00.000000000',\n",
       "       '2021-05-18T00:00:00.000000000', '2021-06-08T00:00:00.000000000',\n",
       "       '2021-07-13T00:00:00.000000000', '2021-07-18T00:00:00.000000000',\n",
       "       '2021-05-03T00:00:00.000000000', '2021-03-08T00:00:00.000000000',\n",
       "       '2022-01-29T00:00:00.000000000', '2022-09-05T00:00:00.000000000',\n",
       "       '2022-06-18T00:00:00.000000000', '2022-06-14T00:00:00.000000000',\n",
       "       '2021-12-20T00:00:00.000000000', '2021-04-15T00:00:00.000000000',\n",
       "       '2021-04-16T00:00:00.000000000', '2022-04-06T00:00:00.000000000',\n",
       "       '2021-10-01T00:00:00.000000000', '2021-10-06T00:00:00.000000000',\n",
       "       '2021-10-15T00:00:00.000000000', '2021-10-19T00:00:00.000000000',\n",
       "       '2022-03-31T00:00:00.000000000', '2022-09-06T00:00:00.000000000',\n",
       "       '2022-03-24T00:00:00.000000000', '2021-11-17T00:00:00.000000000',\n",
       "       '2022-06-13T00:00:00.000000000', '2022-06-05T00:00:00.000000000',\n",
       "       '2021-11-02T00:00:00.000000000', '2022-04-13T00:00:00.000000000',\n",
       "       '2022-04-14T00:00:00.000000000', '2022-04-15T00:00:00.000000000',\n",
       "       '2022-04-16T00:00:00.000000000', '2022-04-17T00:00:00.000000000',\n",
       "       '2022-04-19T00:00:00.000000000', '2022-06-20T00:00:00.000000000',\n",
       "       '2022-05-04T00:00:00.000000000', '2022-04-22T00:00:00.000000000',\n",
       "       '2022-04-20T00:00:00.000000000', '2022-06-10T00:00:00.000000000',\n",
       "       '2022-06-02T00:00:00.000000000', '2022-05-26T00:00:00.000000000',\n",
       "       '2022-05-30T00:00:00.000000000', '2022-05-21T00:00:00.000000000',\n",
       "       '2022-06-19T00:00:00.000000000', '2022-06-01T00:00:00.000000000',\n",
       "       '2022-05-20T00:00:00.000000000', '2022-07-04T00:00:00.000000000',\n",
       "       '2022-07-02T00:00:00.000000000', '2022-07-11T00:00:00.000000000',\n",
       "       '2022-06-26T00:00:00.000000000', '2022-06-27T00:00:00.000000000',\n",
       "       '2022-06-23T00:00:00.000000000', '2022-06-21T00:00:00.000000000',\n",
       "       '2022-04-25T00:00:00.000000000', '2022-04-27T00:00:00.000000000',\n",
       "       '2022-06-22T00:00:00.000000000', '2021-10-03T00:00:00.000000000',\n",
       "       '2021-09-25T00:00:00.000000000', '2019-08-08T00:00:00.000000000',\n",
       "       '2019-08-05T00:00:00.000000000', '2019-08-06T00:00:00.000000000',\n",
       "       '2019-08-07T00:00:00.000000000', '2019-08-12T00:00:00.000000000',\n",
       "       '2019-08-14T00:00:00.000000000', '2019-08-09T00:00:00.000000000',\n",
       "       '2019-08-15T00:00:00.000000000', '2019-08-16T00:00:00.000000000',\n",
       "       '2022-09-07T00:00:00.000000000', '2021-11-10T00:00:00.000000000',\n",
       "       '2021-12-21T00:00:00.000000000', '2022-02-26T00:00:00.000000000',\n",
       "       '2020-09-16T00:00:00.000000000', '2020-09-20T00:00:00.000000000',\n",
       "       '2020-10-04T00:00:00.000000000', '2020-11-15T00:00:00.000000000',\n",
       "       '2022-04-11T00:00:00.000000000', '2022-03-17T00:00:00.000000000',\n",
       "       '2022-03-16T00:00:00.000000000', '2022-03-04T00:00:00.000000000',\n",
       "       '2022-09-08T00:00:00.000000000', '2022-01-20T00:00:00.000000000',\n",
       "       '2022-02-23T00:00:00.000000000', '2022-03-01T00:00:00.000000000',\n",
       "       '2021-09-29T00:00:00.000000000', '2021-10-28T00:00:00.000000000',\n",
       "       '2021-11-03T00:00:00.000000000', '2022-04-01T00:00:00.000000000',\n",
       "       '2021-10-26T00:00:00.000000000', '2021-12-05T00:00:00.000000000',\n",
       "       '2021-12-06T00:00:00.000000000', '2021-12-08T00:00:00.000000000',\n",
       "       '2021-12-13T00:00:00.000000000', '2021-12-19T00:00:00.000000000',\n",
       "       '2022-01-07T00:00:00.000000000', '2022-01-11T00:00:00.000000000',\n",
       "       '2022-01-14T00:00:00.000000000', '2022-03-08T00:00:00.000000000',\n",
       "       '2022-03-19T00:00:00.000000000', '2021-12-14T00:00:00.000000000',\n",
       "       '2022-02-24T00:00:00.000000000', '2022-03-25T00:00:00.000000000',\n",
       "       '2022-09-09T00:00:00.000000000', '2021-04-17T00:00:00.000000000',\n",
       "       '2021-04-18T00:00:00.000000000', '2021-11-27T00:00:00.000000000',\n",
       "       '2021-11-09T00:00:00.000000000', '2021-09-30T00:00:00.000000000',\n",
       "       '2022-03-13T00:00:00.000000000', '2022-09-10T00:00:00.000000000',\n",
       "       '2022-02-08T00:00:00.000000000', '2022-03-23T00:00:00.000000000',\n",
       "       '2022-09-11T00:00:00.000000000', '2020-12-17T00:00:00.000000000',\n",
       "       '2022-02-17T00:00:00.000000000', '2021-02-26T00:00:00.000000000',\n",
       "       '2020-12-12T00:00:00.000000000', '2020-12-20T00:00:00.000000000',\n",
       "       '2020-12-23T00:00:00.000000000', '2021-01-06T00:00:00.000000000',\n",
       "       '2021-03-16T00:00:00.000000000', '2021-03-20T00:00:00.000000000',\n",
       "       '2021-04-03T00:00:00.000000000', '2021-04-06T00:00:00.000000000',\n",
       "       '2021-04-07T00:00:00.000000000', '2021-04-22T00:00:00.000000000',\n",
       "       '2021-05-19T00:00:00.000000000', '2021-10-07T00:00:00.000000000',\n",
       "       '2021-12-09T00:00:00.000000000', '2021-12-28T00:00:00.000000000',\n",
       "       '2018-07-24T00:00:00.000000000', '2022-09-12T00:00:00.000000000',\n",
       "       '2021-11-19T00:00:00.000000000', '2021-11-21T00:00:00.000000000',\n",
       "       '2022-09-13T00:00:00.000000000', '2020-07-04T00:00:00.000000000',\n",
       "       '2020-07-05T00:00:00.000000000', '2020-07-13T00:00:00.000000000',\n",
       "       '2021-12-18T00:00:00.000000000', '2021-02-08T00:00:00.000000000',\n",
       "       '2020-07-24T00:00:00.000000000', '2022-01-24T00:00:00.000000000',\n",
       "       '2021-02-20T00:00:00.000000000', '2021-02-22T00:00:00.000000000',\n",
       "       '2022-03-05T00:00:00.000000000', '2022-04-10T00:00:00.000000000',\n",
       "       '2022-04-12T00:00:00.000000000', '2022-03-29T00:00:00.000000000',\n",
       "       '2022-09-14T00:00:00.000000000', '2022-03-18T00:00:00.000000000',\n",
       "       '2021-10-08T00:00:00.000000000', '2022-01-01T00:00:00.000000000',\n",
       "       '2021-09-10T00:00:00.000000000', '2021-09-13T00:00:00.000000000',\n",
       "       '2021-11-26T00:00:00.000000000', '2022-01-16T00:00:00.000000000',\n",
       "       '2022-01-23T00:00:00.000000000', '2022-02-06T00:00:00.000000000',\n",
       "       '2022-02-07T00:00:00.000000000', '2022-02-25T00:00:00.000000000',\n",
       "       '2022-04-09T00:00:00.000000000', '2022-01-21T00:00:00.000000000',\n",
       "       '2022-03-10T00:00:00.000000000', '2022-02-20T00:00:00.000000000',\n",
       "       '2022-03-03T00:00:00.000000000', '2022-02-02T00:00:00.000000000',\n",
       "       '2022-01-28T00:00:00.000000000', '2022-02-09T00:00:00.000000000',\n",
       "       '2022-02-01T00:00:00.000000000', '2022-09-15T00:00:00.000000000',\n",
       "       '2021-10-22T00:00:00.000000000', '2021-11-12T00:00:00.000000000',\n",
       "       '2021-09-12T00:00:00.000000000', '2022-03-11T00:00:00.000000000',\n",
       "       '2021-06-29T00:00:00.000000000', '2021-10-02T00:00:00.000000000',\n",
       "       '2022-02-14T00:00:00.000000000', '2022-09-16T00:00:00.000000000',\n",
       "       '2022-04-05T00:00:00.000000000', '2022-09-17T00:00:00.000000000',\n",
       "       '2022-09-18T00:00:00.000000000', '2021-09-18T00:00:00.000000000',\n",
       "       '2021-09-19T00:00:00.000000000', '2021-10-04T00:00:00.000000000',\n",
       "       '2021-10-12T00:00:00.000000000', '2021-10-14T00:00:00.000000000',\n",
       "       '2021-10-18T00:00:00.000000000', '2021-10-21T00:00:00.000000000',\n",
       "       '2021-10-25T00:00:00.000000000', '2021-10-29T00:00:00.000000000',\n",
       "       '2021-11-08T00:00:00.000000000', '2021-11-13T00:00:00.000000000',\n",
       "       '2021-11-07T00:00:00.000000000', '2021-09-11T00:00:00.000000000',\n",
       "       '2021-12-04T00:00:00.000000000', '2021-12-11T00:00:00.000000000',\n",
       "       '2022-01-08T00:00:00.000000000', '2022-01-15T00:00:00.000000000',\n",
       "       '2022-03-14T00:00:00.000000000', '2021-12-26T00:00:00.000000000',\n",
       "       '2021-12-17T00:00:00.000000000', '2022-09-19T00:00:00.000000000',\n",
       "       '2021-10-20T00:00:00.000000000', '2022-09-20T00:00:00.000000000',\n",
       "       '2022-01-26T00:00:00.000000000', '2022-01-19T00:00:00.000000000',\n",
       "       '2021-12-10T00:00:00.000000000', '2021-12-03T00:00:00.000000000',\n",
       "       '2021-11-18T00:00:00.000000000', '2021-11-14T00:00:00.000000000',\n",
       "       '2021-10-24T00:00:00.000000000', '2022-02-03T00:00:00.000000000',\n",
       "       '2022-02-19T00:00:00.000000000', '2022-09-21T00:00:00.000000000',\n",
       "       '2022-09-22T00:00:00.000000000', '2022-09-23T00:00:00.000000000',\n",
       "       '2021-12-12T00:00:00.000000000', '2021-12-30T00:00:00.000000000',\n",
       "       '2021-10-17T00:00:00.000000000', '2020-11-07T00:00:00.000000000',\n",
       "       '2020-11-10T00:00:00.000000000', '2021-09-14T00:00:00.000000000',\n",
       "       '2019-05-22T00:00:00.000000000', '2022-01-22T00:00:00.000000000',\n",
       "       '2021-11-24T00:00:00.000000000', '2021-12-22T00:00:00.000000000',\n",
       "       '2022-09-24T00:00:00.000000000', '2022-04-04T00:00:00.000000000',\n",
       "       '2022-01-12T00:00:00.000000000', '2022-09-25T00:00:00.000000000',\n",
       "       '2022-01-02T00:00:00.000000000', '2021-01-20T00:00:00.000000000',\n",
       "       '2019-04-26T00:00:00.000000000', '2019-06-20T00:00:00.000000000',\n",
       "       '2022-01-09T00:00:00.000000000', '2022-02-12T00:00:00.000000000',\n",
       "       '2020-02-13T00:00:00.000000000', '2021-01-31T00:00:00.000000000',\n",
       "       '2022-09-26T00:00:00.000000000', '2022-03-21T00:00:00.000000000',\n",
       "       '2022-03-22T00:00:00.000000000', '2022-04-02T00:00:00.000000000',\n",
       "       '2021-07-23T00:00:00.000000000', '2022-09-27T00:00:00.000000000',\n",
       "       '2020-12-28T00:00:00.000000000', '2022-09-28T00:00:00.000000000',\n",
       "       '2022-09-29T00:00:00.000000000', '2021-10-09T00:00:00.000000000',\n",
       "       '2021-09-23T00:00:00.000000000', '2021-10-27T00:00:00.000000000',\n",
       "       '2021-11-05T00:00:00.000000000', '2021-12-16T00:00:00.000000000',\n",
       "       '2022-02-28T00:00:00.000000000', '2021-11-15T00:00:00.000000000',\n",
       "       '2021-09-08T00:00:00.000000000', '2022-01-06T00:00:00.000000000',\n",
       "       '2022-09-30T00:00:00.000000000', '2021-07-30T00:00:00.000000000',\n",
       "       '2022-03-20T00:00:00.000000000', '2019-12-30T00:00:00.000000000',\n",
       "       '2021-12-01T00:00:00.000000000', '2022-01-05T00:00:00.000000000'],\n",
       "      dtype='datetime64[ns]')"
      ]
     },
     "execution_count": 10,
     "metadata": {},
     "output_type": "execute_result"
    }
   ],
   "source": [
    "pagos_1['report_date_local'].unique()"
   ]
  },
  {
   "cell_type": "markdown",
   "metadata": {},
   "source": [
    "#### PAGOS DUPLICADOS TRADICIONAL"
   ]
  },
  {
   "cell_type": "code",
   "execution_count": 22,
   "metadata": {},
   "outputs": [
    {
     "name": "stderr",
     "output_type": "stream",
     "text": [
      "C:\\Users\\Cristian.Aparicio\\AppData\\Local\\Temp\\ipykernel_2040\\189612330.py:2: SettingWithCopyWarning: \n",
      "A value is trying to be set on a copy of a slice from a DataFrame\n",
      "\n",
      "See the caveats in the documentation: https://pandas.pydata.org/pandas-docs/stable/user_guide/indexing.html#returning-a-view-versus-a-copy\n",
      "  duplicates_trad.sort_values(by=['date_file','report_id'],inplace=True)\n"
     ]
    },
    {
     "data": {
      "text/html": [
       "<div>\n",
       "<style scoped>\n",
       "    .dataframe tbody tr th:only-of-type {\n",
       "        vertical-align: middle;\n",
       "    }\n",
       "\n",
       "    .dataframe tbody tr th {\n",
       "        vertical-align: top;\n",
       "    }\n",
       "\n",
       "    .dataframe thead th {\n",
       "        text-align: right;\n",
       "    }\n",
       "</style>\n",
       "<table border=\"1\" class=\"dataframe\">\n",
       "  <thead>\n",
       "    <tr style=\"text-align: right;\">\n",
       "      <th></th>\n",
       "      <th>type</th>\n",
       "      <th>merchant_id</th>\n",
       "      <th>merchant_name</th>\n",
       "      <th>user_email</th>\n",
       "      <th>report_id</th>\n",
       "      <th>report_date_local</th>\n",
       "      <th>total_due</th>\n",
       "      <th>tipo</th>\n",
       "      <th>bank</th>\n",
       "      <th>bank_account_owner_name</th>\n",
       "      <th>CLABE</th>\n",
       "      <th>status</th>\n",
       "      <th>LINEA CEP</th>\n",
       "      <th>Batch_time</th>\n",
       "      <th>Banco_emisor</th>\n",
       "      <th>file_name</th>\n",
       "      <th>date_file</th>\n",
       "    </tr>\n",
       "  </thead>\n",
       "  <tbody>\n",
       "    <tr>\n",
       "      <th>70438</th>\n",
       "      <td>DAILY</td>\n",
       "      <td>6e8912a2-3105-43e6-aace-ca28d58b30a2</td>\n",
       "      <td>La Esquinita</td>\n",
       "      <td>marvi0116@gmail.com</td>\n",
       "      <td>2JJJYTNTC</td>\n",
       "      <td>2022-09-02</td>\n",
       "      <td>150.77</td>\n",
       "      <td>Pago del día</td>\n",
       "      <td>COMPARTAMOS</td>\n",
       "      <td>Ana Maria Cisneros Tellez</td>\n",
       "      <td>130308001676200423</td>\n",
       "      <td>PAID</td>\n",
       "      <td>2022-09-02,2022090240014HDH0001431756630,40014...</td>\n",
       "      <td>First_batch</td>\n",
       "      <td>SANTANDER</td>\n",
       "      <td>Dispersión-20220902.xlsx</td>\n",
       "      <td>2022-09-02</td>\n",
       "    </tr>\n",
       "    <tr>\n",
       "      <th>30630</th>\n",
       "      <td>DAILY</td>\n",
       "      <td>6e8912a2-3105-43e6-aace-ca28d58b30a2</td>\n",
       "      <td>La Esquinita</td>\n",
       "      <td>marvi0116@gmail.com</td>\n",
       "      <td>2JJJYTNTC</td>\n",
       "      <td>2022-09-02</td>\n",
       "      <td>150.77</td>\n",
       "      <td>Pago del día</td>\n",
       "      <td>COMPARTAMOS</td>\n",
       "      <td>Ana Maria Cisneros Tellez</td>\n",
       "      <td>130308001676200423</td>\n",
       "      <td>PAID</td>\n",
       "      <td>2022-09-02,2022090240014HDH0001431756630,40072...</td>\n",
       "      <td>Second_batch</td>\n",
       "      <td>BANORTE</td>\n",
       "      <td>Dispersión-20220902.xlsx</td>\n",
       "      <td>2022-09-02</td>\n",
       "    </tr>\n",
       "    <tr>\n",
       "      <th>1142</th>\n",
       "      <td>DAILY</td>\n",
       "      <td>aa465a55-34d5-41f0-98e9-af9cbf1ba34f</td>\n",
       "      <td>Minisuper garbel</td>\n",
       "      <td>lh857656@gmail.com</td>\n",
       "      <td>8F5YKSVY8</td>\n",
       "      <td>2022-08-28</td>\n",
       "      <td>7,132.14</td>\n",
       "      <td>Reprogramación</td>\n",
       "      <td>BBVA BANCOMER</td>\n",
       "      <td>Luis Raul</td>\n",
       "      <td>12180015274170504</td>\n",
       "      <td>PAID</td>\n",
       "      <td>2022-09-02,2022090240014HDH0001430748810,40014...</td>\n",
       "      <td>First_batch</td>\n",
       "      <td>SANTANDER</td>\n",
       "      <td>Dispersión-20220902.xlsx</td>\n",
       "      <td>2022-09-02</td>\n",
       "    </tr>\n",
       "    <tr>\n",
       "      <th>30639</th>\n",
       "      <td>DAILY</td>\n",
       "      <td>aa465a55-34d5-41f0-98e9-af9cbf1ba34f</td>\n",
       "      <td>Minisuper garbel</td>\n",
       "      <td>lh857656@gmail.com</td>\n",
       "      <td>8F5YKSVY8</td>\n",
       "      <td>2022-08-28</td>\n",
       "      <td>7,132.14</td>\n",
       "      <td>Reprogramación</td>\n",
       "      <td>BBVA BANCOMER</td>\n",
       "      <td>Luis Raul</td>\n",
       "      <td>12180015274170504</td>\n",
       "      <td>PAID</td>\n",
       "      <td>2022-09-02,2022090240014HDH0001430748810,40072...</td>\n",
       "      <td>Second_batch</td>\n",
       "      <td>BANORTE</td>\n",
       "      <td>Dispersión-20220902.xlsx</td>\n",
       "      <td>2022-09-02</td>\n",
       "    </tr>\n",
       "    <tr>\n",
       "      <th>58745</th>\n",
       "      <td>DAILY</td>\n",
       "      <td>f63f38d3-a5e0-47fe-9b34-c05fff32af1c</td>\n",
       "      <td>Grupo Marea</td>\n",
       "      <td>grupo.marea1@gmail.com</td>\n",
       "      <td>JYBM4X5CR</td>\n",
       "      <td>2022-09-05</td>\n",
       "      <td>7,347.73</td>\n",
       "      <td>Pago del día</td>\n",
       "      <td>BANREGIO</td>\n",
       "      <td>Daniel Alonso Burgos Salazar</td>\n",
       "      <td>58597000014512667</td>\n",
       "      <td>PAID</td>\n",
       "      <td>2022-09-05,2022090540014HDH0001471793190,40072...</td>\n",
       "      <td>Second_batch</td>\n",
       "      <td>BANORTE</td>\n",
       "      <td>Dispersión-20220905.xlsx</td>\n",
       "      <td>2022-09-05</td>\n",
       "    </tr>\n",
       "  </tbody>\n",
       "</table>\n",
       "</div>"
      ],
      "text/plain": [
       "        type                           merchant_id     merchant_name  \\\n",
       "70438  DAILY  6e8912a2-3105-43e6-aace-ca28d58b30a2      La Esquinita   \n",
       "30630  DAILY  6e8912a2-3105-43e6-aace-ca28d58b30a2      La Esquinita   \n",
       "1142   DAILY  aa465a55-34d5-41f0-98e9-af9cbf1ba34f  Minisuper garbel   \n",
       "30639  DAILY  aa465a55-34d5-41f0-98e9-af9cbf1ba34f  Minisuper garbel   \n",
       "58745  DAILY  f63f38d3-a5e0-47fe-9b34-c05fff32af1c       Grupo Marea   \n",
       "\n",
       "                   user_email  report_id report_date_local  total_due  \\\n",
       "70438     marvi0116@gmail.com  2JJJYTNTC        2022-09-02     150.77   \n",
       "30630     marvi0116@gmail.com  2JJJYTNTC        2022-09-02     150.77   \n",
       "1142       lh857656@gmail.com  8F5YKSVY8        2022-08-28   7,132.14   \n",
       "30639      lh857656@gmail.com  8F5YKSVY8        2022-08-28   7,132.14   \n",
       "58745  grupo.marea1@gmail.com  JYBM4X5CR        2022-09-05   7,347.73   \n",
       "\n",
       "                 tipo           bank       bank_account_owner_name  \\\n",
       "70438    Pago del día    COMPARTAMOS     Ana Maria Cisneros Tellez   \n",
       "30630    Pago del día    COMPARTAMOS     Ana Maria Cisneros Tellez   \n",
       "1142   Reprogramación  BBVA BANCOMER                     Luis Raul   \n",
       "30639  Reprogramación  BBVA BANCOMER                     Luis Raul   \n",
       "58745    Pago del día       BANREGIO  Daniel Alonso Burgos Salazar   \n",
       "\n",
       "                    CLABE status  \\\n",
       "70438  130308001676200423   PAID   \n",
       "30630  130308001676200423   PAID   \n",
       "1142    12180015274170504   PAID   \n",
       "30639   12180015274170504   PAID   \n",
       "58745   58597000014512667   PAID   \n",
       "\n",
       "                                               LINEA CEP    Batch_time  \\\n",
       "70438  2022-09-02,2022090240014HDH0001431756630,40014...   First_batch   \n",
       "30630  2022-09-02,2022090240014HDH0001431756630,40072...  Second_batch   \n",
       "1142   2022-09-02,2022090240014HDH0001430748810,40014...   First_batch   \n",
       "30639  2022-09-02,2022090240014HDH0001430748810,40072...  Second_batch   \n",
       "58745  2022-09-05,2022090540014HDH0001471793190,40072...  Second_batch   \n",
       "\n",
       "      Banco_emisor                 file_name  date_file  \n",
       "70438    SANTANDER  Dispersión-20220902.xlsx 2022-09-02  \n",
       "30630      BANORTE  Dispersión-20220902.xlsx 2022-09-02  \n",
       "1142     SANTANDER  Dispersión-20220902.xlsx 2022-09-02  \n",
       "30639      BANORTE  Dispersión-20220902.xlsx 2022-09-02  \n",
       "58745      BANORTE  Dispersión-20220905.xlsx 2022-09-05  "
      ]
     },
     "execution_count": 22,
     "metadata": {},
     "output_type": "execute_result"
    }
   ],
   "source": [
    "duplicates_trad = pagos_1[pagos_1.duplicated(['report_id','date_file'] , keep=False)]\n",
    "duplicates_trad.sort_values(by=['date_file','report_id'],inplace=True)\n",
    "duplicates_trad.head()"
   ]
  },
  {
   "cell_type": "code",
   "execution_count": 23,
   "metadata": {},
   "outputs": [
    {
     "data": {
      "text/plain": [
       "(400, 17)"
      ]
     },
     "execution_count": 23,
     "metadata": {},
     "output_type": "execute_result"
    }
   ],
   "source": [
    "duplicates_trad.shape"
   ]
  },
  {
   "cell_type": "code",
   "execution_count": 24,
   "metadata": {},
   "outputs": [
    {
     "data": {
      "text/plain": [
       "array(['PAID', 'ERROR'], dtype=object)"
      ]
     },
     "execution_count": 24,
     "metadata": {},
     "output_type": "execute_result"
    }
   ],
   "source": [
    "duplicates_trad['status'].unique()"
   ]
  },
  {
   "cell_type": "code",
   "execution_count": 13,
   "metadata": {},
   "outputs": [
    {
     "name": "stderr",
     "output_type": "stream",
     "text": [
      "C:\\Users\\Cristian.Aparicio\\AppData\\Local\\Temp\\ipykernel_2040\\1645077070.py:1: SettingWithCopyWarning: \n",
      "A value is trying to be set on a copy of a slice from a DataFrame\n",
      "\n",
      "See the caveats in the documentation: https://pandas.pydata.org/pandas-docs/stable/user_guide/indexing.html#returning-a-view-versus-a-copy\n",
      "  duplicates_trad.drop_duplicates(subset=\"report_id\", keep='last', inplace=True)\n"
     ]
    }
   ],
   "source": [
    "duplicates_trad.drop_duplicates(subset=\"report_id\", keep='last', inplace=True)"
   ]
  },
  {
   "cell_type": "code",
   "execution_count": 14,
   "metadata": {},
   "outputs": [
    {
     "data": {
      "text/html": [
       "<div>\n",
       "<style scoped>\n",
       "    .dataframe tbody tr th:only-of-type {\n",
       "        vertical-align: middle;\n",
       "    }\n",
       "\n",
       "    .dataframe tbody tr th {\n",
       "        vertical-align: top;\n",
       "    }\n",
       "\n",
       "    .dataframe thead th {\n",
       "        text-align: right;\n",
       "    }\n",
       "</style>\n",
       "<table border=\"1\" class=\"dataframe\">\n",
       "  <thead>\n",
       "    <tr style=\"text-align: right;\">\n",
       "      <th></th>\n",
       "      <th>type</th>\n",
       "      <th>merchant_id</th>\n",
       "      <th>merchant_name</th>\n",
       "      <th>user_email</th>\n",
       "      <th>report_id</th>\n",
       "      <th>report_date_local</th>\n",
       "      <th>total_due</th>\n",
       "      <th>tipo</th>\n",
       "      <th>bank</th>\n",
       "      <th>bank_account_owner_name</th>\n",
       "      <th>CLABE</th>\n",
       "      <th>status</th>\n",
       "      <th>LINEA CEP</th>\n",
       "      <th>Batch_time</th>\n",
       "      <th>Banco_emisor</th>\n",
       "      <th>file_name</th>\n",
       "      <th>date_file</th>\n",
       "    </tr>\n",
       "  </thead>\n",
       "  <tbody>\n",
       "    <tr>\n",
       "      <th>30630</th>\n",
       "      <td>DAILY</td>\n",
       "      <td>6e8912a2-3105-43e6-aace-ca28d58b30a2</td>\n",
       "      <td>La Esquinita</td>\n",
       "      <td>marvi0116@gmail.com</td>\n",
       "      <td>2JJJYTNTC</td>\n",
       "      <td>2022-09-02</td>\n",
       "      <td>150.77</td>\n",
       "      <td>Pago del día</td>\n",
       "      <td>COMPARTAMOS</td>\n",
       "      <td>Ana Maria Cisneros Tellez</td>\n",
       "      <td>130308001676200423</td>\n",
       "      <td>PAID</td>\n",
       "      <td>2022-09-02,2022090240014HDH0001431756630,40072...</td>\n",
       "      <td>Second_batch</td>\n",
       "      <td>BANORTE</td>\n",
       "      <td>Dispersión-20220902.xlsx</td>\n",
       "      <td>2022-09-02</td>\n",
       "    </tr>\n",
       "    <tr>\n",
       "      <th>30639</th>\n",
       "      <td>DAILY</td>\n",
       "      <td>aa465a55-34d5-41f0-98e9-af9cbf1ba34f</td>\n",
       "      <td>Minisuper garbel</td>\n",
       "      <td>lh857656@gmail.com</td>\n",
       "      <td>8F5YKSVY8</td>\n",
       "      <td>2022-08-28</td>\n",
       "      <td>7,132.14</td>\n",
       "      <td>Reprogramación</td>\n",
       "      <td>BBVA BANCOMER</td>\n",
       "      <td>Luis Raul</td>\n",
       "      <td>12180015274170504</td>\n",
       "      <td>PAID</td>\n",
       "      <td>2022-09-02,2022090240014HDH0001430748810,40072...</td>\n",
       "      <td>Second_batch</td>\n",
       "      <td>BANORTE</td>\n",
       "      <td>Dispersión-20220902.xlsx</td>\n",
       "      <td>2022-09-02</td>\n",
       "    </tr>\n",
       "    <tr>\n",
       "      <th>25531</th>\n",
       "      <td>DAILY</td>\n",
       "      <td>f63f38d3-a5e0-47fe-9b34-c05fff32af1c</td>\n",
       "      <td>Grupo Marea</td>\n",
       "      <td>grupo.marea1@gmail.com</td>\n",
       "      <td>JYBM4X5CR</td>\n",
       "      <td>2022-09-05</td>\n",
       "      <td>7,347.73</td>\n",
       "      <td>Pago del día</td>\n",
       "      <td>BANREGIO</td>\n",
       "      <td>Daniel Alonso Burgos Salazar</td>\n",
       "      <td>58597000014512667</td>\n",
       "      <td>PAID</td>\n",
       "      <td>2022-09-05,2022090540014HDH0001471793190,40014...</td>\n",
       "      <td>First_batch</td>\n",
       "      <td>SANTANDER</td>\n",
       "      <td>Dispersión-20220905.xlsx</td>\n",
       "      <td>2022-09-05</td>\n",
       "    </tr>\n",
       "    <tr>\n",
       "      <th>34614</th>\n",
       "      <td>DAILY</td>\n",
       "      <td>f3e30e6f-fd29-4c7f-abea-fe3633dcbef4</td>\n",
       "      <td>Comercializadora Castillo</td>\n",
       "      <td>ricardoacv.mrc@hotmail.com</td>\n",
       "      <td>3DGSZCVQ9</td>\n",
       "      <td>2022-09-15</td>\n",
       "      <td>19.16</td>\n",
       "      <td>Pago del día</td>\n",
       "      <td>COMPARTAMOS</td>\n",
       "      <td>Ricardo Antonio Castillo Villanueva</td>\n",
       "      <td>130580001620605009</td>\n",
       "      <td>PAID</td>\n",
       "      <td>2022-09-15,nan,40014,40130,130580001620605009,...</td>\n",
       "      <td>First_batch</td>\n",
       "      <td>SANTANDER</td>\n",
       "      <td>Dispersión-20220915.xlsx</td>\n",
       "      <td>2022-09-15</td>\n",
       "    </tr>\n",
       "    <tr>\n",
       "      <th>19374</th>\n",
       "      <td>DAILY</td>\n",
       "      <td>9f8a3d4f-2909-4764-8561-a1a62d611fa7</td>\n",
       "      <td>Racomsa</td>\n",
       "      <td>racomsa_sh@hotmail.com</td>\n",
       "      <td>BXB5288P4</td>\n",
       "      <td>2022-09-15</td>\n",
       "      <td>150.92</td>\n",
       "      <td>Pago del día</td>\n",
       "      <td>COMPARTAMOS</td>\n",
       "      <td>ARTURO ANCIRA MONTEMAYOR</td>\n",
       "      <td>130580001572259338</td>\n",
       "      <td>PAID</td>\n",
       "      <td>2022-09-15,nan,40014,40130,130580001572259338,...</td>\n",
       "      <td>First_batch</td>\n",
       "      <td>SANTANDER</td>\n",
       "      <td>Dispersión-20220915.xlsx</td>\n",
       "      <td>2022-09-15</td>\n",
       "    </tr>\n",
       "  </tbody>\n",
       "</table>\n",
       "</div>"
      ],
      "text/plain": [
       "        type                           merchant_id              merchant_name  \\\n",
       "30630  DAILY  6e8912a2-3105-43e6-aace-ca28d58b30a2               La Esquinita   \n",
       "30639  DAILY  aa465a55-34d5-41f0-98e9-af9cbf1ba34f           Minisuper garbel   \n",
       "25531  DAILY  f63f38d3-a5e0-47fe-9b34-c05fff32af1c                Grupo Marea   \n",
       "34614  DAILY  f3e30e6f-fd29-4c7f-abea-fe3633dcbef4  Comercializadora Castillo   \n",
       "19374  DAILY  9f8a3d4f-2909-4764-8561-a1a62d611fa7                    Racomsa   \n",
       "\n",
       "                       user_email  report_id report_date_local  total_due  \\\n",
       "30630         marvi0116@gmail.com  2JJJYTNTC        2022-09-02     150.77   \n",
       "30639          lh857656@gmail.com  8F5YKSVY8        2022-08-28   7,132.14   \n",
       "25531      grupo.marea1@gmail.com  JYBM4X5CR        2022-09-05   7,347.73   \n",
       "34614  ricardoacv.mrc@hotmail.com  3DGSZCVQ9        2022-09-15      19.16   \n",
       "19374      racomsa_sh@hotmail.com  BXB5288P4        2022-09-15     150.92   \n",
       "\n",
       "                 tipo           bank              bank_account_owner_name  \\\n",
       "30630    Pago del día    COMPARTAMOS            Ana Maria Cisneros Tellez   \n",
       "30639  Reprogramación  BBVA BANCOMER                            Luis Raul   \n",
       "25531    Pago del día       BANREGIO         Daniel Alonso Burgos Salazar   \n",
       "34614    Pago del día    COMPARTAMOS  Ricardo Antonio Castillo Villanueva   \n",
       "19374    Pago del día    COMPARTAMOS             ARTURO ANCIRA MONTEMAYOR   \n",
       "\n",
       "                    CLABE status  \\\n",
       "30630  130308001676200423   PAID   \n",
       "30639   12180015274170504   PAID   \n",
       "25531   58597000014512667   PAID   \n",
       "34614  130580001620605009   PAID   \n",
       "19374  130580001572259338   PAID   \n",
       "\n",
       "                                               LINEA CEP    Batch_time  \\\n",
       "30630  2022-09-02,2022090240014HDH0001431756630,40072...  Second_batch   \n",
       "30639  2022-09-02,2022090240014HDH0001430748810,40072...  Second_batch   \n",
       "25531  2022-09-05,2022090540014HDH0001471793190,40014...   First_batch   \n",
       "34614  2022-09-15,nan,40014,40130,130580001620605009,...   First_batch   \n",
       "19374  2022-09-15,nan,40014,40130,130580001572259338,...   First_batch   \n",
       "\n",
       "      Banco_emisor                 file_name  date_file  \n",
       "30630      BANORTE  Dispersión-20220902.xlsx 2022-09-02  \n",
       "30639      BANORTE  Dispersión-20220902.xlsx 2022-09-02  \n",
       "25531    SANTANDER  Dispersión-20220905.xlsx 2022-09-05  \n",
       "34614    SANTANDER  Dispersión-20220915.xlsx 2022-09-15  \n",
       "19374    SANTANDER  Dispersión-20220915.xlsx 2022-09-15  "
      ]
     },
     "execution_count": 14,
     "metadata": {},
     "output_type": "execute_result"
    }
   ],
   "source": [
    "duplicates_trad.head()"
   ]
  },
  {
   "cell_type": "code",
   "execution_count": 15,
   "metadata": {},
   "outputs": [
    {
     "data": {
      "text/plain": [
       "(160, 17)"
      ]
     },
     "execution_count": 15,
     "metadata": {},
     "output_type": "execute_result"
    }
   ],
   "source": [
    "duplicates_trad.shape"
   ]
  },
  {
   "cell_type": "code",
   "execution_count": 18,
   "metadata": {},
   "outputs": [
    {
     "name": "stderr",
     "output_type": "stream",
     "text": [
      "C:\\Users\\Cristian.Aparicio\\AppData\\Local\\Temp\\ipykernel_2040\\739626261.py:1: FutureWarning: Inferring datetime64[ns] from data containing strings is deprecated and will be removed in a future version. To retain the old behavior explicitly pass Series(data, dtype=datetime64[ns])\n",
      "  pivot_duplicates_trad = pd.pivot_table(duplicates_trad,index=['tipo','date_file'],\n",
      "C:\\Users\\Cristian.Aparicio\\AppData\\Local\\Temp\\ipykernel_2040\\739626261.py:1: FutureWarning: Inferring datetime64[ns] from data containing strings is deprecated and will be removed in a future version. To retain the old behavior explicitly pass Series(data, dtype=datetime64[ns])\n",
      "  pivot_duplicates_trad = pd.pivot_table(duplicates_trad,index=['tipo','date_file'],\n"
     ]
    },
    {
     "data": {
      "text/html": [
       "<div>\n",
       "<style scoped>\n",
       "    .dataframe tbody tr th:only-of-type {\n",
       "        vertical-align: middle;\n",
       "    }\n",
       "\n",
       "    .dataframe tbody tr th {\n",
       "        vertical-align: top;\n",
       "    }\n",
       "\n",
       "    .dataframe thead tr th {\n",
       "        text-align: left;\n",
       "    }\n",
       "</style>\n",
       "<table border=\"1\" class=\"dataframe\">\n",
       "  <thead>\n",
       "    <tr>\n",
       "      <th></th>\n",
       "      <th>tipo</th>\n",
       "      <th>date_file</th>\n",
       "      <th>sum</th>\n",
       "      <th>len</th>\n",
       "    </tr>\n",
       "    <tr>\n",
       "      <th></th>\n",
       "      <th></th>\n",
       "      <th></th>\n",
       "      <th>total_due</th>\n",
       "      <th>total_due</th>\n",
       "    </tr>\n",
       "  </thead>\n",
       "  <tbody>\n",
       "    <tr>\n",
       "      <th>0</th>\n",
       "      <td>Pago del día</td>\n",
       "      <td>2022-09-02</td>\n",
       "      <td>150.77</td>\n",
       "      <td>1</td>\n",
       "    </tr>\n",
       "    <tr>\n",
       "      <th>1</th>\n",
       "      <td>Pago del día</td>\n",
       "      <td>2022-09-05</td>\n",
       "      <td>7,347.73</td>\n",
       "      <td>1</td>\n",
       "    </tr>\n",
       "    <tr>\n",
       "      <th>2</th>\n",
       "      <td>Pago del día</td>\n",
       "      <td>2022-09-15</td>\n",
       "      <td>170.08</td>\n",
       "      <td>2</td>\n",
       "    </tr>\n",
       "    <tr>\n",
       "      <th>3</th>\n",
       "      <td>Pago del día</td>\n",
       "      <td>2022-09-16</td>\n",
       "      <td>6,791.18</td>\n",
       "      <td>3</td>\n",
       "    </tr>\n",
       "    <tr>\n",
       "      <th>4</th>\n",
       "      <td>Pago del día</td>\n",
       "      <td>2022-09-23</td>\n",
       "      <td>6,241.02</td>\n",
       "      <td>1</td>\n",
       "    </tr>\n",
       "    <tr>\n",
       "      <th>5</th>\n",
       "      <td>Pago del día</td>\n",
       "      <td>2022-09-26</td>\n",
       "      <td>2,012.30</td>\n",
       "      <td>1</td>\n",
       "    </tr>\n",
       "    <tr>\n",
       "      <th>6</th>\n",
       "      <td>Pago del día</td>\n",
       "      <td>2022-09-27</td>\n",
       "      <td>2,074.30</td>\n",
       "      <td>2</td>\n",
       "    </tr>\n",
       "    <tr>\n",
       "      <th>7</th>\n",
       "      <td>Pago del día</td>\n",
       "      <td>2022-09-28</td>\n",
       "      <td>14,753.16</td>\n",
       "      <td>1</td>\n",
       "    </tr>\n",
       "    <tr>\n",
       "      <th>8</th>\n",
       "      <td>Pago del día</td>\n",
       "      <td>2022-09-29</td>\n",
       "      <td>114,551.16</td>\n",
       "      <td>41</td>\n",
       "    </tr>\n",
       "    <tr>\n",
       "      <th>9</th>\n",
       "      <td>Pago del día</td>\n",
       "      <td>2022-09-30</td>\n",
       "      <td>84,513.99</td>\n",
       "      <td>51</td>\n",
       "    </tr>\n",
       "  </tbody>\n",
       "</table>\n",
       "</div>"
      ],
      "text/plain": [
       "           tipo  date_file        sum       len\n",
       "                            total_due total_due\n",
       "0  Pago del día 2022-09-02     150.77         1\n",
       "1  Pago del día 2022-09-05   7,347.73         1\n",
       "2  Pago del día 2022-09-15     170.08         2\n",
       "3  Pago del día 2022-09-16   6,791.18         3\n",
       "4  Pago del día 2022-09-23   6,241.02         1\n",
       "5  Pago del día 2022-09-26   2,012.30         1\n",
       "6  Pago del día 2022-09-27   2,074.30         2\n",
       "7  Pago del día 2022-09-28  14,753.16         1\n",
       "8  Pago del día 2022-09-29 114,551.16        41\n",
       "9  Pago del día 2022-09-30  84,513.99        51"
      ]
     },
     "execution_count": 18,
     "metadata": {},
     "output_type": "execute_result"
    }
   ],
   "source": [
    "pivot_duplicates_trad = pd.pivot_table(duplicates_trad,index=['tipo','date_file'],\n",
    "                                  values=['total_due']\n",
    "                                  ,aggfunc = ['sum', len],margins=True)\n",
    "pivot_duplicates_trad.reset_index(drop=False, inplace=True)\n",
    "pivot_duplicates_trad.head(10)"
   ]
  },
  {
   "cell_type": "code",
   "execution_count": 17,
   "metadata": {},
   "outputs": [
    {
     "data": {
      "text/plain": [
       "(16, 4)"
      ]
     },
     "execution_count": 17,
     "metadata": {},
     "output_type": "execute_result"
    }
   ],
   "source": [
    "pivot_duplicates_trad.shape"
   ]
  },
  {
   "cell_type": "markdown",
   "metadata": {},
   "source": [
    "#### FAST PAYMENTS "
   ]
  },
  {
   "cell_type": "code",
   "execution_count": null,
   "metadata": {},
   "outputs": [],
   "source": [
    "fp_files_1 = glob.glob(r'C:\\Users\\Cristian.Aparicio\\Documents\\FAST PAYMENTS\\2022\\09. SEPTIEMBRE\\ARCHIVO DISPERSIONES FP\\Dispersión-FP*.xlsx', recursive=False)\n",
    "fp_files_1"
   ]
  },
  {
   "cell_type": "code",
   "execution_count": null,
   "metadata": {},
   "outputs": [],
   "source": [
    "pagos_2 = pd.concat([pd.read_excel(f,sheet_name='FAST PAYMENTS').assign(file_name=os.path.basename(f)) for f in fp_files_1])\n",
    "pagos_2['date_file'] = pagos_2[\"file_name\"].str[-15:-4]\n",
    "pagos_2['date_file']= pd.to_datetime(pagos_2['date_file']) \n",
    "pagos_2.sort_values(by=['date_file'],ascending=True,inplace=True)\n",
    "pagos_2['report_date_local']= pd.to_datetime(pagos_2['report_date_local']) \n",
    "pagos_2.head()"
   ]
  },
  {
   "cell_type": "code",
   "execution_count": null,
   "metadata": {},
   "outputs": [],
   "source": [
    "pagos_2.shape"
   ]
  },
  {
   "cell_type": "markdown",
   "metadata": {},
   "source": [
    "#### PAGOS REPETIDOS FAST PAYMENTS"
   ]
  },
  {
   "cell_type": "code",
   "execution_count": null,
   "metadata": {},
   "outputs": [],
   "source": [
    "duplicates_fp = pagos_2[pagos_2.duplicated(['report_id','date_file'] , keep=False)]\n",
    "duplicates_fp.sort_values(by=['date_file','report_id','Time'],inplace=True)\n",
    "duplicates_fp.head()"
   ]
  },
  {
   "cell_type": "code",
   "execution_count": null,
   "metadata": {},
   "outputs": [],
   "source": [
    "duplicates_fp.shape"
   ]
  },
  {
   "cell_type": "code",
   "execution_count": null,
   "metadata": {},
   "outputs": [],
   "source": [
    "duplicates_fp.drop_duplicates(subset=\"report_id\", keep='last', inplace=True)"
   ]
  },
  {
   "cell_type": "code",
   "execution_count": null,
   "metadata": {},
   "outputs": [],
   "source": [
    "duplicates_fp.head()"
   ]
  },
  {
   "cell_type": "code",
   "execution_count": null,
   "metadata": {},
   "outputs": [],
   "source": [
    "duplicates_fp.shape"
   ]
  },
  {
   "cell_type": "code",
   "execution_count": null,
   "metadata": {},
   "outputs": [],
   "source": [
    "pivot_duplicates_fp = pd.pivot_table(duplicates_fp,index=['tipo','date_file'],\n",
    "                                  values=['total_due']\n",
    "                                  ,aggfunc = ['sum', len],margins=True)\n",
    "pivot_duplicates_fp.reset_index(drop=False, inplace=True)\n",
    "pivot_duplicates_fp.head()"
   ]
  },
  {
   "cell_type": "code",
   "execution_count": null,
   "metadata": {},
   "outputs": [],
   "source": [
    "pivot_duplicates_fp.shape"
   ]
  },
  {
   "cell_type": "code",
   "execution_count": null,
   "metadata": {},
   "outputs": [],
   "source": [
    "# pivot_duplicates_fp.to_excel('DUPLICADOS FP JUNIO 2021.xlsx',index=True)"
   ]
  },
  {
   "cell_type": "markdown",
   "metadata": {},
   "source": [
    "#### ALL PAGOS"
   ]
  },
  {
   "cell_type": "code",
   "execution_count": null,
   "metadata": {},
   "outputs": [],
   "source": [
    "allpagos = pd.concat([pagos_1,pagos_2])\n",
    "allpagos.head()"
   ]
  },
  {
   "cell_type": "code",
   "execution_count": null,
   "metadata": {},
   "outputs": [],
   "source": [
    "allpagos.shape"
   ]
  },
  {
   "cell_type": "code",
   "execution_count": null,
   "metadata": {},
   "outputs": [],
   "source": [
    "allpagos['tipo'].unique()"
   ]
  },
  {
   "cell_type": "code",
   "execution_count": null,
   "metadata": {},
   "outputs": [],
   "source": [
    "group_allpagos = allpagos.groupby(['date_file']).agg({'total_due':sum,'report_id':'count'}).reset_index()\n",
    "group_allpagos.head()"
   ]
  },
  {
   "cell_type": "code",
   "execution_count": null,
   "metadata": {},
   "outputs": [],
   "source": [
    "group_allpagos.shape"
   ]
  },
  {
   "cell_type": "markdown",
   "metadata": {},
   "source": [
    "#### PAGOS DEL DIA"
   ]
  },
  {
   "cell_type": "code",
   "execution_count": null,
   "metadata": {},
   "outputs": [],
   "source": [
    "pagosdia = allpagos[(allpagos['tipo'].isin(['Pago del día']))]\n",
    "pagosdia.head()"
   ]
  },
  {
   "cell_type": "code",
   "execution_count": null,
   "metadata": {},
   "outputs": [],
   "source": [
    "pagosdia.shape"
   ]
  },
  {
   "cell_type": "code",
   "execution_count": null,
   "metadata": {},
   "outputs": [],
   "source": [
    "group_dia = pagosdia.groupby(['date_file']).agg({'total_due':sum,'report_id':'count'}).reset_index()\n",
    "group_dia.head()"
   ]
  },
  {
   "cell_type": "code",
   "execution_count": null,
   "metadata": {},
   "outputs": [],
   "source": [
    "group_dia.shape"
   ]
  },
  {
   "cell_type": "markdown",
   "metadata": {},
   "source": [
    "# PRIMER MATCH (SETTLED VS PAGOS DEL DIA)"
   ]
  },
  {
   "cell_type": "code",
   "execution_count": null,
   "metadata": {},
   "outputs": [],
   "source": [
    "check_1 = cum_1.merge(pagosdia[['report_id','total_due','tipo','file_name']] ,on='report_id', how='left')\n",
    "check_1['total_due_y'].fillna('NO ENCONTRADO')\n",
    "check_1['tipo'].fillna('NO ENCONTRADO',inplace=True)\n",
    "check_1['file_name_y'].fillna('NO ENCONTRADO',inplace=True)\n",
    "# check_1.fillna({'total_due_y':'NO ENCONTRADO', 'tipo':'NO ENCONTRADO', 'file_name_y':'NO ENCONTRADO'}, inplace=True)\n",
    "check_1.head()"
   ]
  },
  {
   "cell_type": "code",
   "execution_count": null,
   "metadata": {},
   "outputs": [],
   "source": [
    "check_1['file_name_y'].unique()"
   ]
  },
  {
   "cell_type": "code",
   "execution_count": null,
   "metadata": {},
   "outputs": [],
   "source": [
    "not_found_1 = check_1[((check_1['file_name_y'].isnull()) | (check_1['file_name_y'].isin(['NO ENCONTRADO'])))\n",
    "                        & (check_1['total_due_x'] != 0)]\n",
    "not_found_1.head()"
   ]
  },
  {
   "cell_type": "code",
   "execution_count": null,
   "metadata": {},
   "outputs": [],
   "source": [
    "not_found_1.shape"
   ]
  },
  {
   "cell_type": "code",
   "execution_count": null,
   "metadata": {},
   "outputs": [],
   "source": [
    "group_notfound = not_found_1.groupby(['report_date_local']).agg({'total_due_x':sum,'report_id':'count'}).reset_index()\n",
    "group_notfound.rename(columns={'report_date_local':'date_file'},inplace=True)\n",
    "group_notfound.head()"
   ]
  },
  {
   "cell_type": "code",
   "execution_count": null,
   "metadata": {},
   "outputs": [],
   "source": [
    "group_notfound.shape"
   ]
  },
  {
   "cell_type": "markdown",
   "metadata": {},
   "source": [
    "#### REPROGRAMACIONES"
   ]
  },
  {
   "cell_type": "code",
   "execution_count": null,
   "metadata": {},
   "outputs": [],
   "source": [
    "repro = allpagos[(allpagos['tipo'].isin(['Reprogramación']))]\n",
    "repro.head()"
   ]
  },
  {
   "cell_type": "code",
   "execution_count": null,
   "metadata": {},
   "outputs": [],
   "source": [
    "repro.shape"
   ]
  },
  {
   "cell_type": "code",
   "execution_count": null,
   "metadata": {},
   "outputs": [],
   "source": [
    "group_repro = repro.groupby(['date_file']).agg({'total_due':sum,'report_id':'count'}).reset_index()\n",
    "group_repro.head()"
   ]
  },
  {
   "cell_type": "code",
   "execution_count": null,
   "metadata": {},
   "outputs": [],
   "source": [
    "group_repro.shape"
   ]
  },
  {
   "cell_type": "markdown",
   "metadata": {},
   "source": [
    "# SEGUNDO MATCH (IDENTIFICACION DE REPROGRAMACIONES)"
   ]
  },
  {
   "cell_type": "code",
   "execution_count": null,
   "metadata": {},
   "outputs": [],
   "source": [
    "check_2 = not_found_1.merge(repro[['report_id','total_due','tipo','file_name']] ,on='report_id', how='left')\n",
    "check_2.head()"
   ]
  },
  {
   "cell_type": "code",
   "execution_count": null,
   "metadata": {},
   "outputs": [],
   "source": [
    "check_2.shape"
   ]
  },
  {
   "cell_type": "code",
   "execution_count": null,
   "metadata": {},
   "outputs": [],
   "source": [
    "# writer = pd.ExcelWriter('REPROGRAMACIONES JUNIO 2021.xlsx', engine='xlsxwriter', options={'encoding':'utf-8'})\n",
    "# check_2.to_excel(writer, sheet_name='DETAIL REPROGRAMACIONES',index=False)\n",
    "# writer.save()\n",
    "# writer.close()"
   ]
  },
  {
   "cell_type": "markdown",
   "metadata": {},
   "source": [
    "# FECHA DE PAGOS (SETTLED VS PAGOS DEL DIA)"
   ]
  },
  {
   "cell_type": "code",
   "execution_count": null,
   "metadata": {},
   "outputs": [],
   "source": [
    "fecha_pago = not_found_1.merge(repro[['report_id','date_file','tipo','status','file_name']] ,on='report_id', how='left')\n",
    "fecha_pago.sort_values(by=['date_file'],ascending=True,inplace=True)\n",
    "fecha_pago.head()"
   ]
  },
  {
   "cell_type": "code",
   "execution_count": null,
   "metadata": {},
   "outputs": [],
   "source": [
    "fecha_pago.shape"
   ]
  },
  {
   "cell_type": "code",
   "execution_count": null,
   "metadata": {},
   "outputs": [],
   "source": [
    "fecha_pago.drop_duplicates(subset ='report_id',keep='first',inplace=True) "
   ]
  },
  {
   "cell_type": "code",
   "execution_count": null,
   "metadata": {},
   "outputs": [],
   "source": [
    "fecha_pago.head()"
   ]
  },
  {
   "cell_type": "code",
   "execution_count": null,
   "metadata": {},
   "outputs": [],
   "source": [
    "fecha_pago.shape"
   ]
  },
  {
   "cell_type": "markdown",
   "metadata": {},
   "source": [
    "### AGRUPADO POR DÍA"
   ]
  },
  {
   "cell_type": "code",
   "execution_count": null,
   "metadata": {},
   "outputs": [],
   "source": [
    "pivot_fecha_pago = pd.pivot_table(fecha_pago,index=['report_date_local'],\n",
    "                                  values=['total_due_x'],aggfunc = ['sum', len],margins=True)\n",
    "pivot_fecha_pago.head()"
   ]
  },
  {
   "cell_type": "code",
   "execution_count": null,
   "metadata": {},
   "outputs": [],
   "source": [
    "pivot_fecha_pago.shape"
   ]
  },
  {
   "cell_type": "markdown",
   "metadata": {},
   "source": [
    "# PAGOS MANUALES"
   ]
  },
  {
   "cell_type": "code",
   "execution_count": null,
   "metadata": {},
   "outputs": [],
   "source": [
    "file_manual = glob.glob(r'G:\\.shortcut-targets-by-id\\1Oe28Mf9uSidMamjllDen2gkNnC59eSUr\\3.-Settlement\\5.-HISTORICO FILES PAGOS\\01. TRADICIONAL\\2022\\09. SEPTEMBER\\MANUALES\\*.xlsx', recursive=False)\n",
    "file_manual"
   ]
  },
  {
   "cell_type": "code",
   "execution_count": null,
   "metadata": {},
   "outputs": [],
   "source": [
    "manuales_all = pd.concat([pd.read_excel(f,sheet_name='Formato Pago Manual',skiprows=1\n",
    "                                      ,converters={'Cta. CLABE de depósito':str,'report_id':str})\n",
    "                          .assign(file_name=os.path.basename(f)) for f in file_manual])\n",
    "manuales_all['Date']= pd.to_datetime(manuales_all['Date'])  \n",
    "manuales_all['Tipo'] = 'MANUAL'"
   ]
  },
  {
   "cell_type": "code",
   "execution_count": null,
   "metadata": {},
   "outputs": [],
   "source": [
    "manuales_final = manuales_all[['Date','ME ID','ME NAME',' (mxn)','Banco','Justificación para el pago','Tipo','Report ID']]\n",
    "manuales_final.head()"
   ]
  },
  {
   "cell_type": "code",
   "execution_count": null,
   "metadata": {},
   "outputs": [],
   "source": [
    "manuales_final.shape"
   ]
  },
  {
   "cell_type": "code",
   "execution_count": null,
   "metadata": {},
   "outputs": [],
   "source": [
    "manuales_final.columns"
   ]
  },
  {
   "cell_type": "code",
   "execution_count": null,
   "metadata": {},
   "outputs": [],
   "source": [
    "group_manual = manuales_final.groupby(['Date']).agg({' (mxn)':sum,'Report ID':'count'}).reset_index()\n",
    "group_manual.rename(columns={'Date':'date_file','Report ID':'report_id'},inplace=True)\n",
    "group_manual.head()"
   ]
  },
  {
   "cell_type": "code",
   "execution_count": null,
   "metadata": {},
   "outputs": [],
   "source": [
    "group_manual.shape"
   ]
  },
  {
   "cell_type": "markdown",
   "metadata": {},
   "source": [
    "# ACUMULADOS SETTLEMENT"
   ]
  },
  {
   "cell_type": "code",
   "execution_count": null,
   "metadata": {},
   "outputs": [],
   "source": [
    "conc_disp = cum_distinct_0.groupby(['report_date_local']).agg({'total_due':sum,'report_id':'count'}).reset_index()\n",
    "conc_disp.rename(columns={'report_date_local':'date_file'}, inplace=True)\n",
    "conc_disp.head()"
   ]
  },
  {
   "cell_type": "code",
   "execution_count": null,
   "metadata": {},
   "outputs": [],
   "source": [
    "conc_disp.shape"
   ]
  },
  {
   "cell_type": "markdown",
   "metadata": {},
   "source": [
    "# MERGING ALL DATA FRAMES"
   ]
  },
  {
   "cell_type": "code",
   "execution_count": null,
   "metadata": {},
   "outputs": [],
   "source": [
    "total_1 = conc_disp.merge(group_repro[['date_file','total_due','report_id']],on='date_file',how='left') \\\n",
    ".merge(group_manual,on='date_file',how='left')\n",
    "total_1[' (mxn)'].fillna(0,inplace=True)\n",
    "total_1['report_id'].fillna(0,inplace=True)\n",
    "total_1.head()\n"
   ]
  },
  {
   "cell_type": "code",
   "execution_count": null,
   "metadata": {},
   "outputs": [],
   "source": [
    "total_1['count_total_pago_dia'] = total_1['report_id_x'] + total_1['report_id_y'] + total_1['report_id']\n",
    "total_1['sum_total_pago_dia'] = total_1['total_due_x'] + total_1['total_due_y'] + total_1[' (mxn)']\n"
   ]
  },
  {
   "cell_type": "code",
   "execution_count": null,
   "metadata": {},
   "outputs": [],
   "source": [
    "total_1"
   ]
  },
  {
   "cell_type": "markdown",
   "metadata": {},
   "source": [
    "# ACUMULADOS PAGO DEL DIA"
   ]
  },
  {
   "cell_type": "code",
   "execution_count": null,
   "metadata": {},
   "outputs": [],
   "source": [
    "total_2 = group_allpagos.merge(group_notfound[['date_file','total_due_x','report_id']],on='date_file',how='left')\\\n",
    ".merge(group_manual,on='date_file',how='left')\n",
    "total_2[' (mxn)'].fillna(0,inplace=True)\n",
    "total_2['report_id'].fillna(0,inplace=True)\n",
    "total_2['total_due_x'].fillna(0,inplace=True)\n",
    "total_2['report_id_y'].fillna(0,inplace=True)\n",
    "total_2.head()"
   ]
  },
  {
   "cell_type": "code",
   "execution_count": null,
   "metadata": {},
   "outputs": [],
   "source": [
    "total_2['count_swap_dia'] = total_2['report_id_x'] + total_2['report_id_y'] + total_2['report_id']\n",
    "total_2['sum_swap_dia'] = total_2['total_due'] + total_2['total_due_x'] + total_2[' (mxn)']"
   ]
  },
  {
   "cell_type": "code",
   "execution_count": null,
   "metadata": {},
   "outputs": [],
   "source": [
    "total_2.head()"
   ]
  },
  {
   "cell_type": "code",
   "execution_count": null,
   "metadata": {},
   "outputs": [],
   "source": [
    "total_2.shape"
   ]
  },
  {
   "cell_type": "markdown",
   "metadata": {},
   "source": [
    "# COMPARACION FINAL"
   ]
  },
  {
   "cell_type": "code",
   "execution_count": null,
   "metadata": {},
   "outputs": [],
   "source": [
    "final_comparacion = total_1[['date_file','count_total_pago_dia','sum_total_pago_dia']] \\\n",
    ".merge(total_2[['date_file','count_swap_dia','sum_swap_dia']],on='date_file',how='left')\n",
    "final_comparacion.head()"
   ]
  },
  {
   "cell_type": "code",
   "execution_count": null,
   "metadata": {},
   "outputs": [],
   "source": [
    "final_comparacion['diff_count'] = final_comparacion['count_total_pago_dia'] - final_comparacion['count_swap_dia']\n",
    "final_comparacion['diff_sum'] = final_comparacion['sum_total_pago_dia'] - final_comparacion['sum_swap_dia']"
   ]
  },
  {
   "cell_type": "code",
   "execution_count": null,
   "metadata": {
    "scrolled": true
   },
   "outputs": [],
   "source": [
    "final_comparacion"
   ]
  },
  {
   "cell_type": "code",
   "execution_count": null,
   "metadata": {},
   "outputs": [],
   "source": [
    "writer = pd.ExcelWriter('FASE III. SETTLED VS PAGO DIA SEPTIEMBRE 2022.xlsx',\n",
    "                        engine='xlsxwriter',\n",
    "                        engine_kwargs={'options': {'encoding':'utf-8'}})\n",
    "pivot_fecha_pago.to_excel(writer, sheet_name='ENVIADOS POSTERIOR')\n",
    "fecha_pago.to_excel(writer, sheet_name='DETAIL NO ENCONTRADO',index=False)\n",
    "pivot_duplicates_trad.to_excel(writer, sheet_name='PAGOS DUPLICADOS')\n",
    "pivot_duplicates_fp.to_excel(writer, sheet_name='FP PAGOS DUPLICADOS')\n",
    "group_manual.to_excel(writer, sheet_name='PAGOS MANUALES')\n",
    "writer.close()"
   ]
  },
  {
   "cell_type": "code",
   "execution_count": null,
   "metadata": {},
   "outputs": [],
   "source": []
  }
 ],
 "metadata": {
  "kernelspec": {
   "display_name": "Python 3 (ipykernel)",
   "language": "python",
   "name": "python3"
  },
  "language_info": {
   "codemirror_mode": {
    "name": "ipython",
    "version": 3
   },
   "file_extension": ".py",
   "mimetype": "text/x-python",
   "name": "python",
   "nbconvert_exporter": "python",
   "pygments_lexer": "ipython3",
   "version": "3.9.13"
  }
 },
 "nbformat": 4,
 "nbformat_minor": 4
}
