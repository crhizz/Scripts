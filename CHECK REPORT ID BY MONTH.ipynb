{
 "cells": [
  {
   "cell_type": "code",
   "execution_count": 1,
   "metadata": {},
   "outputs": [],
   "source": [
    "import pandas as pd\n",
    "import numpy as np\n",
    "from openpyxl import load_workbook\n",
    "import glob\n",
    "import os\n",
    "pd.options.display.float_format = '{:,.2f}'.format"
   ]
  },
  {
   "cell_type": "code",
   "execution_count": 2,
   "metadata": {},
   "outputs": [],
   "source": [
    "name_header = ['merchant_id','merchant_name','user_email','report_id','report_date_local','amount','status','bank_name'\n",
    "               ,'payment_date_local','bank_account_owner_name','bank_account_number','swap']"
   ]
  },
  {
   "cell_type": "markdown",
   "metadata": {},
   "source": [
    "### 2021"
   ]
  },
  {
   "cell_type": "markdown",
   "metadata": {},
   "source": [
    "#### ABRIL "
   ]
  },
  {
   "cell_type": "code",
   "execution_count": 3,
   "metadata": {},
   "outputs": [],
   "source": [
    "# TRADICIONAL\n",
    "trad_files_csv_2021_apr = glob.glob(r'G:\\My Drive\\Settlement\\5.-HISTORICO FILES PAGOS\\2021\\04. APRIL\\QUERIES\\*.csv', recursive=False)\n",
    "# trad_files_txt_2021_apr = glob.glob(r'G:\\My Drive\\Settlement\\5.-HISTORICO FILES PAGOS\\2021\\04. APRIL\\QUERIES\\*.txt', recursive=False)\n",
    "# FAST PAYMENTS\n",
    "fp_files_csv_2021_apr = glob.glob(r'C:\\Users\\Cristian.Aparicio\\Documents\\FAST PAYMENTS\\2021\\04. ABRIL\\QUERIES\\*.csv', recursive=False)"
   ]
  },
  {
   "cell_type": "code",
   "execution_count": 4,
   "metadata": {},
   "outputs": [],
   "source": [
    "disp_files_csv_2021_apr = pd.concat([pd.read_csv(f,dtype={'bank_account_number':object,'report_id':object})\n",
    "                            .assign(file_name=os.path.basename(f)) for f in trad_files_csv_2021_apr])\n",
    "disp_files_csv_2021_apr['date_query'] = disp_files_csv_2021_apr[\"file_name\"].str[-14:-4]\n",
    "disp_files_csv_2021_apr['date_query']= pd.to_datetime(disp_files_csv_2021_apr['date_query'])"
   ]
  },
  {
   "cell_type": "code",
   "execution_count": 5,
   "metadata": {},
   "outputs": [],
   "source": [
    "# disp_files_txt_2021_apr = pd.concat([pd.read_csv(f,sep='\\t',names=name_header,dtype={'bank_account_number':object,'report_id':object})\n",
    "#                             .assign(file_name=os.path.basename(f)) for f in trad_files_txt_2021_apr])\n",
    "# disp_files_txt_2021_apr['date_query'] = disp_files_txt_2021_apr[\"file_name\"].str[-14:-4]\n",
    "# disp_files_txt_2021_apr['date_query']= pd.to_datetime(disp_files_txt_2021_apr['date_query']) "
   ]
  },
  {
   "cell_type": "code",
   "execution_count": 6,
   "metadata": {},
   "outputs": [],
   "source": [
    "fp_disp_files_csv_2021_apr = pd.concat([pd.read_csv(f,dtype={'bank_account_number':object,'report_id':object})\n",
    "                            .assign(file_name=os.path.basename(f)) for f in fp_files_csv_2021_apr])\n",
    "fp_disp_files_csv_2021_apr['date_query'] = fp_disp_files_csv_2021_apr[\"file_name\"].str[-14:-4]\n",
    "fp_disp_files_csv_2021_apr['date_query']= pd.to_datetime(fp_disp_files_csv_2021_apr['date_query']) "
   ]
  },
  {
   "cell_type": "markdown",
   "metadata": {},
   "source": [
    "#### MARZO"
   ]
  },
  {
   "cell_type": "code",
   "execution_count": null,
   "metadata": {},
   "outputs": [],
   "source": [
    "# TRADICIONAL\n",
    "trad_files_csv_2021_mar = glob.glob(r'G:\\My Drive\\Settlement\\5.-HISTORICO FILES PAGOS\\2021\\03. MARCH\\QUERIES\\*.csv', recursive=False)\n",
    "trad_files_txt_2021_mar = glob.glob(r'G:\\My Drive\\Settlement\\5.-HISTORICO FILES PAGOS\\2021\\03. MARCH\\QUERIES\\*.txt', recursive=False)\n",
    "# FAST PAYMENTS\n",
    "fp_files_csv_2021_mar = glob.glob(r'C:\\Users\\Cristian.Aparicio\\Documents\\FAST PAYMENTS\\2021\\03. MARZO\\QUERIES\\*.csv', recursive=False)"
   ]
  },
  {
   "cell_type": "code",
   "execution_count": null,
   "metadata": {},
   "outputs": [],
   "source": [
    "disp_files_csv_2021_mar = pd.concat([pd.read_csv(f,dtype={'bank_account_number':object,'report_id':object})\n",
    "                            .assign(file_name=os.path.basename(f)) for f in trad_files_csv_2021_mar])\n",
    "disp_files_csv_2021_mar['date_query'] = disp_files_csv_2021_mar[\"file_name\"].str[-14:-4]\n",
    "disp_files_csv_2021_mar['date_query']= pd.to_datetime(disp_files_csv_2021_mar['date_query'])"
   ]
  },
  {
   "cell_type": "code",
   "execution_count": null,
   "metadata": {},
   "outputs": [],
   "source": [
    "disp_files_txt_2021_mar = pd.concat([pd.read_csv(f,sep='\\t',names=name_header,dtype={'bank_account_number':object,'report_id':object})\n",
    "                            .assign(file_name=os.path.basename(f)) for f in trad_files_txt_2021_mar])\n",
    "disp_files_txt_2021_mar['date_query'] = disp_files_txt_2021_mar[\"file_name\"].str[-14:-4]\n",
    "disp_files_txt_2021_mar['date_query']= pd.to_datetime(disp_files_txt_2021_mar['date_query']) "
   ]
  },
  {
   "cell_type": "code",
   "execution_count": null,
   "metadata": {},
   "outputs": [],
   "source": [
    "fp_disp_files_csv_2021_mar = pd.concat([pd.read_csv(f,dtype={'bank_account_number':object,'report_id':object})\n",
    "                            .assign(file_name=os.path.basename(f)) for f in fp_files_csv_2021_mar])\n",
    "fp_disp_files_csv_2021_mar['date_query'] = fp_disp_files_csv_2021_mar[\"file_name\"].str[-14:-4]\n",
    "fp_disp_files_csv_2021_mar['date_query']= pd.to_datetime(fp_disp_files_csv_2021_mar['date_query']) "
   ]
  },
  {
   "cell_type": "markdown",
   "metadata": {},
   "source": [
    "#### FEBRERO"
   ]
  },
  {
   "cell_type": "code",
   "execution_count": null,
   "metadata": {},
   "outputs": [],
   "source": [
    "# TRADICIONAL\n",
    "trad_files_csv_2021_feb = glob.glob(r'G:\\My Drive\\Settlement\\5.-HISTORICO FILES PAGOS\\2021\\02. FEBRUARY\\QUERIES\\*.csv', recursive=False)\n",
    "trad_files_txt_2021_feb = glob.glob(r'G:\\My Drive\\Settlement\\5.-HISTORICO FILES PAGOS\\2021\\02. FEBRUARY\\QUERIES\\*.txt', recursive=False)\n",
    "# FAST PAYMENTS\n",
    "fp_files_csv_2021_feb = glob.glob(r'C:\\Users\\Cristian.Aparicio\\Documents\\FAST PAYMENTS\\2021\\02. FEBRERO\\QUERIES\\*.csv', recursive=False)"
   ]
  },
  {
   "cell_type": "code",
   "execution_count": null,
   "metadata": {},
   "outputs": [],
   "source": [
    "disp_files_csv_2021_feb = pd.concat([pd.read_csv(f,dtype={'bank_account_number':object,'report_id':object})\n",
    "                            .assign(file_name=os.path.basename(f)) for f in trad_files_csv_2021_feb])\n",
    "disp_files_csv_2021_feb['date_query'] = disp_files_csv_2021_feb[\"file_name\"].str[-14:-4]\n",
    "disp_files_csv_2021_feb['date_query']= pd.to_datetime(disp_files_csv_2021_feb['date_query'])"
   ]
  },
  {
   "cell_type": "code",
   "execution_count": null,
   "metadata": {},
   "outputs": [],
   "source": [
    "disp_files_txt_2021_feb = pd.concat([pd.read_csv(f,sep='\\t',names=name_header,dtype={'bank_account_number':object,'report_id':object})\n",
    "                            .assign(file_name=os.path.basename(f)) for f in trad_files_txt_2021_feb])\n",
    "disp_files_txt_2021_feb['date_query'] = disp_files_txt_2021_feb[\"file_name\"].str[-14:-4]\n",
    "disp_files_txt_2021_feb['date_query']= pd.to_datetime(disp_files_txt_2021_feb['date_query']) "
   ]
  },
  {
   "cell_type": "code",
   "execution_count": null,
   "metadata": {},
   "outputs": [],
   "source": [
    "fp_disp_files_csv_2021_feb = pd.concat([pd.read_csv(f,dtype={'bank_account_number':object,'report_id':object})\n",
    "                            .assign(file_name=os.path.basename(f)) for f in fp_files_csv_2021_feb])\n",
    "fp_disp_files_csv_2021_feb['date_query'] = fp_disp_files_csv_2021_feb[\"file_name\"].str[-14:-4]\n",
    "fp_disp_files_csv_2021_feb['date_query']= pd.to_datetime(fp_disp_files_csv_2021_feb['date_query']) "
   ]
  },
  {
   "cell_type": "markdown",
   "metadata": {},
   "source": [
    "#### ENERO"
   ]
  },
  {
   "cell_type": "code",
   "execution_count": null,
   "metadata": {},
   "outputs": [],
   "source": [
    "# TRADICIONAL\n",
    "trad_files_csv_2021_jan = glob.glob(r'G:\\My Drive\\Settlement\\5.-HISTORICO FILES PAGOS\\2021\\01. JANUARY\\QUERIES\\*.csv', recursive=False)\n",
    "trad_files_txt_2021_jan = glob.glob(r'G:\\My Drive\\Settlement\\5.-HISTORICO FILES PAGOS\\2021\\01. JANUARY\\QUERIES\\*.txt', recursive=False)\n",
    "# FAST PAYMENTS\n",
    "fp_files_csv_2021_jan = glob.glob(r'C:\\Users\\Cristian.Aparicio\\Documents\\FAST PAYMENTS\\2021\\01. ENERO\\QUERIES\\*.csv', recursive=False)"
   ]
  },
  {
   "cell_type": "code",
   "execution_count": null,
   "metadata": {},
   "outputs": [],
   "source": [
    "disp_files_csv_2021_jan = pd.concat([pd.read_csv(f,dtype={'bank_account_number':object,'report_id':object})\n",
    "                            .assign(file_name=os.path.basename(f)) for f in trad_files_csv_2021_jan])\n",
    "disp_files_csv_2021_jan['date_query'] = disp_files_csv_2021_jan[\"file_name\"].str[-14:-4]\n",
    "disp_files_csv_2021_jan['date_query']= pd.to_datetime(disp_files_csv_2021_jan['date_query'])"
   ]
  },
  {
   "cell_type": "code",
   "execution_count": null,
   "metadata": {},
   "outputs": [],
   "source": [
    "disp_files_txt_2021_jan = pd.concat([pd.read_csv(f,sep='\\t',names=name_header,dtype={'bank_account_number':object,'report_id':object})\n",
    "                            .assign(file_name=os.path.basename(f)) for f in trad_files_txt_2021_jan])\n",
    "disp_files_txt_2021_jan['date_query'] = disp_files_txt_2021_jan[\"file_name\"].str[-14:-4]\n",
    "disp_files_txt_2021_jan['date_query']= pd.to_datetime(disp_files_txt_2021_jan['date_query']) "
   ]
  },
  {
   "cell_type": "code",
   "execution_count": null,
   "metadata": {},
   "outputs": [],
   "source": [
    "fp_disp_files_csv_2021_jan = pd.concat([pd.read_csv(f,dtype={'bank_account_number':object,'report_id':object})\n",
    "                            .assign(file_name=os.path.basename(f)) for f in fp_files_csv_2021_jan])\n",
    "fp_disp_files_csv_2021_jan['date_query'] = fp_disp_files_csv_2021_jan[\"file_name\"].str[-14:-4]\n",
    "fp_disp_files_csv_2021_jan['date_query']= pd.to_datetime(fp_disp_files_csv_2021_jan['date_query']) "
   ]
  },
  {
   "cell_type": "markdown",
   "metadata": {},
   "source": [
    "### 2020"
   ]
  },
  {
   "cell_type": "markdown",
   "metadata": {},
   "source": [
    "#### DICIEMBRE"
   ]
  },
  {
   "cell_type": "code",
   "execution_count": null,
   "metadata": {},
   "outputs": [],
   "source": [
    "# TRADICIONAL\n",
    "trad_files_csv_2020_dec = glob.glob(r'G:\\My Drive\\Settlement\\5.-HISTORICO FILES PAGOS\\2020\\12. DECEMBER\\QUERIES\\*.csv', recursive=False)\n",
    "trad_files_txt_2020_dec = glob.glob(r'G:\\My Drive\\Settlement\\5.-HISTORICO FILES PAGOS\\2020\\12. DECEMBER\\QUERIES\\*.txt', recursive=False)\n",
    "# FAST PAYMENTS\n",
    "fp_files_csv_2020_dec = glob.glob(r'C:\\Users\\Cristian.Aparicio\\Documents\\FAST PAYMENTS\\2020\\12. DICIEMBRE\\QUERIES\\*.csv', recursive=False)"
   ]
  },
  {
   "cell_type": "code",
   "execution_count": null,
   "metadata": {},
   "outputs": [],
   "source": [
    "disp_files_csv_2020_dec = pd.concat([pd.read_csv(f,dtype={'bank_account_number':object,'report_id':object})\n",
    "                            .assign(file_name=os.path.basename(f)) for f in trad_files_csv_2020_dec])\n",
    "disp_files_csv_2020_dec['date_query'] = disp_files_csv_2020_dec[\"file_name\"].str[-14:-4]\n",
    "disp_files_csv_2020_dec['date_query']= pd.to_datetime(disp_files_csv_2020_dec['date_query'])"
   ]
  },
  {
   "cell_type": "code",
   "execution_count": null,
   "metadata": {},
   "outputs": [],
   "source": [
    "disp_files_txt_2020_dec = pd.concat([pd.read_csv(f,sep='\\t',names=name_header,dtype={'bank_account_number':object,'report_id':object})\n",
    "                            .assign(file_name=os.path.basename(f)) for f in trad_files_txt_2020_dec])\n",
    "disp_files_txt_2020_dec['date_query'] = disp_files_txt_2020_dec[\"file_name\"].str[-14:-4]\n",
    "disp_files_txt_2020_dec['date_query']= pd.to_datetime(disp_files_txt_2020_dec['date_query']) "
   ]
  },
  {
   "cell_type": "code",
   "execution_count": null,
   "metadata": {},
   "outputs": [],
   "source": [
    "fp_disp_files_csv_2020_dec = pd.concat([pd.read_csv(f,dtype={'bank_account_number':object,'report_id':object})\n",
    "                            .assign(file_name=os.path.basename(f)) for f in fp_files_csv_2020_dec])\n",
    "fp_disp_files_csv_2020_dec['date_query'] = fp_disp_files_csv_2020_dec[\"file_name\"].str[-14:-4]\n",
    "fp_disp_files_csv_2020_dec['date_query']= pd.to_datetime(fp_disp_files_csv_2020_dec['date_query']) "
   ]
  },
  {
   "cell_type": "markdown",
   "metadata": {},
   "source": [
    "### ALL FILES"
   ]
  },
  {
   "cell_type": "code",
   "execution_count": 7,
   "metadata": {},
   "outputs": [
    {
     "data": {
      "text/html": [
       "<div>\n",
       "<style scoped>\n",
       "    .dataframe tbody tr th:only-of-type {\n",
       "        vertical-align: middle;\n",
       "    }\n",
       "\n",
       "    .dataframe tbody tr th {\n",
       "        vertical-align: top;\n",
       "    }\n",
       "\n",
       "    .dataframe thead th {\n",
       "        text-align: right;\n",
       "    }\n",
       "</style>\n",
       "<table border=\"1\" class=\"dataframe\">\n",
       "  <thead>\n",
       "    <tr style=\"text-align: right;\">\n",
       "      <th></th>\n",
       "      <th>merchant_id</th>\n",
       "      <th>merchant_name</th>\n",
       "      <th>user_email</th>\n",
       "      <th>report_id</th>\n",
       "      <th>report_date_local</th>\n",
       "      <th>amount</th>\n",
       "      <th>bank_name</th>\n",
       "      <th>payment_date_local</th>\n",
       "      <th>bank_account_owner_name</th>\n",
       "      <th>bank_account_number</th>\n",
       "      <th>swap</th>\n",
       "      <th>file_name</th>\n",
       "      <th>date_query</th>\n",
       "    </tr>\n",
       "  </thead>\n",
       "  <tbody>\n",
       "    <tr>\n",
       "      <th>20846</th>\n",
       "      <td>5315701a-a2dd-40c8-8d0e-65bd60728b7f</td>\n",
       "      <td>Accesorios silvia ortega</td>\n",
       "      <td>Nayobremer@hotmail.com</td>\n",
       "      <td>222LPWS9G</td>\n",
       "      <td>2021-04-01 00:00:00</td>\n",
       "      <td>191.65</td>\n",
       "      <td>Banco Nacional de MÃ©xico, S.A.</td>\n",
       "      <td>2021-04-01 00:00:00</td>\n",
       "      <td>Juan Ignacio Bremer Hernandez</td>\n",
       "      <td>'002028401900434038</td>\n",
       "      <td>Juan Ignacio Bremer Hernandez ,,191.65,0020284...</td>\n",
       "      <td>BNTE 2021-04-01.csv</td>\n",
       "      <td>2021-04-01</td>\n",
       "    </tr>\n",
       "    <tr>\n",
       "      <th>10298</th>\n",
       "      <td>296c5569-2df3-4407-9fa0-bccdb80c4cfe</td>\n",
       "      <td>SbeltClinic Coatza</td>\n",
       "      <td>selina69736@hotmail.com</td>\n",
       "      <td>222X52CRC</td>\n",
       "      <td>2021-04-01 00:00:00</td>\n",
       "      <td>881.58</td>\n",
       "      <td>SANTANDER</td>\n",
       "      <td>2021-04-01 00:00:00</td>\n",
       "      <td>Muriel Alejandra Sánchez avila</td>\n",
       "      <td>'014877605826047256</td>\n",
       "      <td>Muriel Alejandra Sánchez avila,,881.58,0148776...</td>\n",
       "      <td>BNTE 2021-04-01.csv</td>\n",
       "      <td>2021-04-01</td>\n",
       "    </tr>\n",
       "    <tr>\n",
       "      <th>29672</th>\n",
       "      <td>76aa83d4-d796-4e2e-a771-a3df3ca20d55</td>\n",
       "      <td>Abarrotes Gonzalez</td>\n",
       "      <td>al221710036@gmail.com</td>\n",
       "      <td>2237VM5R2</td>\n",
       "      <td>2021-04-01 00:00:00</td>\n",
       "      <td>102.64</td>\n",
       "      <td>Banco Azteca, S.A.</td>\n",
       "      <td>2021-04-01 00:00:00</td>\n",
       "      <td>Eruviel Gonzalez Alejandro</td>\n",
       "      <td>'127449013568831174</td>\n",
       "      <td>Eruviel Gonzalez Alejandro,,102.64,12744901356...</td>\n",
       "      <td>BNTE 2021-04-01.csv</td>\n",
       "      <td>2021-04-01</td>\n",
       "    </tr>\n",
       "    <tr>\n",
       "      <th>59460</th>\n",
       "      <td>ed8169d4-7e40-4e10-96e2-76319f532cae</td>\n",
       "      <td>La Calandria</td>\n",
       "      <td>Paez_05@hotmail.com</td>\n",
       "      <td>223GZMM5P</td>\n",
       "      <td>2021-04-01 00:00:00</td>\n",
       "      <td>1,389.44</td>\n",
       "      <td>BANCOPPEL</td>\n",
       "      <td>2021-04-01 00:00:00</td>\n",
       "      <td>José Lizárraga Páez</td>\n",
       "      <td>'137744102549364606</td>\n",
       "      <td>José Lizárraga Páez,,1389.44,13774410254936460...</td>\n",
       "      <td>BNTE 2021-04-01.csv</td>\n",
       "      <td>2021-04-01</td>\n",
       "    </tr>\n",
       "    <tr>\n",
       "      <th>30725</th>\n",
       "      <td>7acbd86c-7a2a-4055-aa70-c87c63f7ca19</td>\n",
       "      <td>Radio Taxi Platino</td>\n",
       "      <td>ricardocordova506@gmail.com</td>\n",
       "      <td>223NPVCQL</td>\n",
       "      <td>2021-04-01 00:00:00</td>\n",
       "      <td>38.33</td>\n",
       "      <td>BANAMEX</td>\n",
       "      <td>2021-04-01 00:00:00</td>\n",
       "      <td>Ricardo Cordova Jimenez</td>\n",
       "      <td>'002073560176106549</td>\n",
       "      <td>Ricardo Cordova Jimenez,,38.33,002073560176106...</td>\n",
       "      <td>BNTE 2021-04-01.csv</td>\n",
       "      <td>2021-04-01</td>\n",
       "    </tr>\n",
       "  </tbody>\n",
       "</table>\n",
       "</div>"
      ],
      "text/plain": [
       "                                merchant_id             merchant_name  \\\n",
       "20846  5315701a-a2dd-40c8-8d0e-65bd60728b7f  Accesorios silvia ortega   \n",
       "10298  296c5569-2df3-4407-9fa0-bccdb80c4cfe        SbeltClinic Coatza   \n",
       "29672  76aa83d4-d796-4e2e-a771-a3df3ca20d55        Abarrotes Gonzalez   \n",
       "59460  ed8169d4-7e40-4e10-96e2-76319f532cae              La Calandria   \n",
       "30725  7acbd86c-7a2a-4055-aa70-c87c63f7ca19        Radio Taxi Platino   \n",
       "\n",
       "                        user_email  report_id    report_date_local   amount  \\\n",
       "20846       Nayobremer@hotmail.com  222LPWS9G  2021-04-01 00:00:00   191.65   \n",
       "10298      selina69736@hotmail.com  222X52CRC  2021-04-01 00:00:00   881.58   \n",
       "29672        al221710036@gmail.com  2237VM5R2  2021-04-01 00:00:00   102.64   \n",
       "59460          Paez_05@hotmail.com  223GZMM5P  2021-04-01 00:00:00 1,389.44   \n",
       "30725  ricardocordova506@gmail.com  223NPVCQL  2021-04-01 00:00:00    38.33   \n",
       "\n",
       "                             bank_name   payment_date_local  \\\n",
       "20846  Banco Nacional de MÃ©xico, S.A.  2021-04-01 00:00:00   \n",
       "10298                        SANTANDER  2021-04-01 00:00:00   \n",
       "29672               Banco Azteca, S.A.  2021-04-01 00:00:00   \n",
       "59460                        BANCOPPEL  2021-04-01 00:00:00   \n",
       "30725                          BANAMEX  2021-04-01 00:00:00   \n",
       "\n",
       "              bank_account_owner_name  bank_account_number  \\\n",
       "20846  Juan Ignacio Bremer Hernandez   '002028401900434038   \n",
       "10298  Muriel Alejandra Sánchez avila  '014877605826047256   \n",
       "29672      Eruviel Gonzalez Alejandro  '127449013568831174   \n",
       "59460             José Lizárraga Páez  '137744102549364606   \n",
       "30725         Ricardo Cordova Jimenez  '002073560176106549   \n",
       "\n",
       "                                                    swap            file_name  \\\n",
       "20846  Juan Ignacio Bremer Hernandez ,,191.65,0020284...  BNTE 2021-04-01.csv   \n",
       "10298  Muriel Alejandra Sánchez avila,,881.58,0148776...  BNTE 2021-04-01.csv   \n",
       "29672  Eruviel Gonzalez Alejandro,,102.64,12744901356...  BNTE 2021-04-01.csv   \n",
       "59460  José Lizárraga Páez,,1389.44,13774410254936460...  BNTE 2021-04-01.csv   \n",
       "30725  Ricardo Cordova Jimenez,,38.33,002073560176106...  BNTE 2021-04-01.csv   \n",
       "\n",
       "      date_query  \n",
       "20846 2021-04-01  \n",
       "10298 2021-04-01  \n",
       "29672 2021-04-01  \n",
       "59460 2021-04-01  \n",
       "30725 2021-04-01  "
      ]
     },
     "execution_count": 7,
     "metadata": {},
     "output_type": "execute_result"
    }
   ],
   "source": [
    "allfiles = pd.concat([disp_files_csv_2021_apr,fp_disp_files_csv_2021_apr])\n",
    "allfiles.fillna('BLANK',inplace=True)\n",
    "allfiles['date_query']= pd.to_datetime(allfiles['date_query'])\n",
    "allfiles.sort_values(by=['date_query','report_id'],inplace=True)\n",
    "allfiles.drop(['status'],axis=1,inplace=True)\n",
    "allfiles.head()"
   ]
  },
  {
   "cell_type": "code",
   "execution_count": 8,
   "metadata": {},
   "outputs": [
    {
     "data": {
      "text/plain": [
       "(1693268, 13)"
      ]
     },
     "execution_count": 8,
     "metadata": {},
     "output_type": "execute_result"
    }
   ],
   "source": [
    "allfiles.shape"
   ]
  },
  {
   "cell_type": "markdown",
   "metadata": {},
   "source": [
    "### CHECK REPORT_ID"
   ]
  },
  {
   "cell_type": "code",
   "execution_count": 11,
   "metadata": {},
   "outputs": [
    {
     "name": "stderr",
     "output_type": "stream",
     "text": [
      "C:\\Users\\Cristian.Aparicio\\anaconda3\\lib\\site-packages\\ipykernel_launcher.py:2: SettingWithCopyWarning: \n",
      "A value is trying to be set on a copy of a slice from a DataFrame\n",
      "\n",
      "See the caveats in the documentation: https://pandas.pydata.org/pandas-docs/stable/user_guide/indexing.html#returning-a-view-versus-a-copy\n",
      "  \n"
     ]
    },
    {
     "data": {
      "text/html": [
       "<div>\n",
       "<style scoped>\n",
       "    .dataframe tbody tr th:only-of-type {\n",
       "        vertical-align: middle;\n",
       "    }\n",
       "\n",
       "    .dataframe tbody tr th {\n",
       "        vertical-align: top;\n",
       "    }\n",
       "\n",
       "    .dataframe thead th {\n",
       "        text-align: right;\n",
       "    }\n",
       "</style>\n",
       "<table border=\"1\" class=\"dataframe\">\n",
       "  <thead>\n",
       "    <tr style=\"text-align: right;\">\n",
       "      <th></th>\n",
       "      <th>merchant_id</th>\n",
       "      <th>merchant_name</th>\n",
       "      <th>user_email</th>\n",
       "      <th>report_id</th>\n",
       "      <th>report_date_local</th>\n",
       "      <th>amount</th>\n",
       "      <th>bank_name</th>\n",
       "      <th>payment_date_local</th>\n",
       "      <th>bank_account_owner_name</th>\n",
       "      <th>bank_account_number</th>\n",
       "      <th>swap</th>\n",
       "      <th>file_name</th>\n",
       "      <th>date_query</th>\n",
       "    </tr>\n",
       "  </thead>\n",
       "  <tbody>\n",
       "    <tr>\n",
       "      <th>413</th>\n",
       "      <td>3472d6ae-0a24-4acd-a42b-99909899fcb3</td>\n",
       "      <td>Fonda La Candelaria</td>\n",
       "      <td>violeta_3@hotmail.com</td>\n",
       "      <td>HHK4KDYWG</td>\n",
       "      <td>2021-04-27 00:00:00</td>\n",
       "      <td>6,599.39</td>\n",
       "      <td>Opciones Empresariales del Noreste, S.A. de C....</td>\n",
       "      <td>2021-04-27 00:00:00</td>\n",
       "      <td>Violeta Del Carmen Munoz Ballinas</td>\n",
       "      <td>'659802020000128210</td>\n",
       "      <td>Violeta Del Carmen Munoz Ballinas,,6599.39,659...</td>\n",
       "      <td>FP 2021-04-27.csv</td>\n",
       "      <td>2021-04-27</td>\n",
       "    </tr>\n",
       "  </tbody>\n",
       "</table>\n",
       "</div>"
      ],
      "text/plain": [
       "                              merchant_id        merchant_name  \\\n",
       "413  3472d6ae-0a24-4acd-a42b-99909899fcb3  Fonda La Candelaria   \n",
       "\n",
       "                user_email  report_id    report_date_local   amount  \\\n",
       "413  violeta_3@hotmail.com  HHK4KDYWG  2021-04-27 00:00:00 6,599.39   \n",
       "\n",
       "                                             bank_name   payment_date_local  \\\n",
       "413  Opciones Empresariales del Noreste, S.A. de C....  2021-04-27 00:00:00   \n",
       "\n",
       "               bank_account_owner_name  bank_account_number  \\\n",
       "413  Violeta Del Carmen Munoz Ballinas  '659802020000128210   \n",
       "\n",
       "                                                  swap          file_name  \\\n",
       "413  Violeta Del Carmen Munoz Ballinas,,6599.39,659...  FP 2021-04-27.csv   \n",
       "\n",
       "    date_query  \n",
       "413 2021-04-27  "
      ]
     },
     "execution_count": 11,
     "metadata": {},
     "output_type": "execute_result"
    }
   ],
   "source": [
    "check = allfiles[(allfiles['report_id'].isin(['HHK4KDYWG']))]\n",
    "check.sort_values(by=['date_query','report_id'],ascending=False,inplace=True)\n",
    "check"
   ]
  },
  {
   "cell_type": "code",
   "execution_count": 10,
   "metadata": {},
   "outputs": [
    {
     "data": {
      "text/plain": [
       "(2, 13)"
      ]
     },
     "execution_count": 10,
     "metadata": {},
     "output_type": "execute_result"
    }
   ],
   "source": [
    "check.shape"
   ]
  },
  {
   "cell_type": "code",
   "execution_count": null,
   "metadata": {},
   "outputs": [],
   "source": []
  }
 ],
 "metadata": {
  "kernelspec": {
   "display_name": "Python 3",
   "language": "python",
   "name": "python3"
  },
  "language_info": {
   "codemirror_mode": {
    "name": "ipython",
    "version": 3
   },
   "file_extension": ".py",
   "mimetype": "text/x-python",
   "name": "python",
   "nbconvert_exporter": "python",
   "pygments_lexer": "ipython3",
   "version": "3.7.6"
  }
 },
 "nbformat": 4,
 "nbformat_minor": 4
}
