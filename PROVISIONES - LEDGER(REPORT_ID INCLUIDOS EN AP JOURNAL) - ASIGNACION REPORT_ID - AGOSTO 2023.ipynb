{
 "cells": [
  {
   "cell_type": "code",
   "execution_count": 10,
   "id": "21c1c747",
   "metadata": {},
   "outputs": [],
   "source": [
    "import pandas as pd\n",
    "import numpy as np\n",
    "import glob\n",
    "import os\n",
    "from openpyxl import load_workbook\n",
    "pd.options.display.float_format = '{:,.2f}'.format"
   ]
  },
  {
   "cell_type": "markdown",
   "id": "9df44613",
   "metadata": {},
   "source": [
    "# RUTAS"
   ]
  },
  {
   "cell_type": "markdown",
   "id": "cef36c0e",
   "metadata": {},
   "source": [
    "### SETTLEMENT MASTER LOG"
   ]
  },
  {
   "cell_type": "code",
   "execution_count": 11,
   "id": "38321533",
   "metadata": {},
   "outputs": [
    {
     "data": {
      "text/plain": [
       "['G:\\\\My Drive\\\\RESPALDO-PC\\\\DYNAMO\\\\2023\\\\08. AGOSTO\\\\Z. PROVISION\\\\PROVISIONES - SETTLEMENT_MASTER_LOG_DATE AGOSTO 2023.tsv']"
      ]
     },
     "execution_count": 11,
     "metadata": {},
     "output_type": "execute_result"
    }
   ],
   "source": [
    "sml_files = glob.glob(r'G:\\My Drive\\RESPALDO-PC\\DYNAMO\\2023\\08. AGOSTO\\Z. PROVISION\\PROVISIONES - SET*.tsv', recursive=False)\n",
    "sml_files"
   ]
  },
  {
   "cell_type": "code",
   "execution_count": 12,
   "id": "7ac8262d",
   "metadata": {},
   "outputs": [],
   "source": [
    "use_cols_sml = ['MVNT_ID','PSP_AMOUNT','GROSS_AMOUNT','FEES','TAXES','NET_AMOUNT','MDR','MSI','NUMBER_MSI','RECEIPT_NO',\n",
    "                'STATUS_CODE']"
   ]
  },
  {
   "cell_type": "markdown",
   "id": "baf7556d",
   "metadata": {},
   "source": [
    "### AP JOURNAL"
   ]
  },
  {
   "cell_type": "code",
   "execution_count": 18,
   "id": "55a8252c",
   "metadata": {},
   "outputs": [
    {
     "data": {
      "text/plain": [
       "['G:\\\\My Drive\\\\RESPALDO-PC\\\\DYNAMO\\\\2023\\\\08. AGOSTO\\\\Z. PROVISION\\\\PROVISIONES - LEDGER AGOSTO 2023.tsv']"
      ]
     },
     "execution_count": 18,
     "metadata": {},
     "output_type": "execute_result"
    }
   ],
   "source": [
    "ap_provision_files = glob.glob(r'G:\\My Drive\\RESPALDO-PC\\DYNAMO\\2023\\08. AGOSTO\\Z. PROVISION\\PROVISIONES - LED*.tsv', recursive=False)\n",
    "ap_provision_files"
   ]
  },
  {
   "cell_type": "code",
   "execution_count": 19,
   "id": "2d3e37fd",
   "metadata": {},
   "outputs": [],
   "source": [
    "use_cols_approv = ['MERCHANT_ID','MVNT_ID','TYPE_REQUEST','MOVEMENT_TYPE','SOURCE_TYPE','CREATED_AT','EFF_DT','REPORT_DATE_LOCAL',\n",
    "                  'PAYMENT_DATE_LOCAL','STATUS']"
   ]
  },
  {
   "cell_type": "markdown",
   "id": "bf9da3cf",
   "metadata": {},
   "source": [
    "# DATA SETTLEMENT MASTER LOG"
   ]
  },
  {
   "cell_type": "code",
   "execution_count": 13,
   "id": "27c65ab3",
   "metadata": {},
   "outputs": [
    {
     "data": {
      "text/html": [
       "<div>\n",
       "<style scoped>\n",
       "    .dataframe tbody tr th:only-of-type {\n",
       "        vertical-align: middle;\n",
       "    }\n",
       "\n",
       "    .dataframe tbody tr th {\n",
       "        vertical-align: top;\n",
       "    }\n",
       "\n",
       "    .dataframe thead th {\n",
       "        text-align: right;\n",
       "    }\n",
       "</style>\n",
       "<table border=\"1\" class=\"dataframe\">\n",
       "  <thead>\n",
       "    <tr style=\"text-align: right;\">\n",
       "      <th></th>\n",
       "      <th>mvnt_id</th>\n",
       "      <th>psp_amount</th>\n",
       "      <th>gross_amount</th>\n",
       "      <th>fees</th>\n",
       "      <th>taxes</th>\n",
       "      <th>net_amount</th>\n",
       "      <th>mdr</th>\n",
       "      <th>msi</th>\n",
       "      <th>number_msi</th>\n",
       "      <th>status_code</th>\n",
       "      <th>receipt_no</th>\n",
       "      <th>file_name</th>\n",
       "    </tr>\n",
       "  </thead>\n",
       "  <tbody>\n",
       "    <tr>\n",
       "      <th>0</th>\n",
       "      <td>4a47956b-37b1-4d50-8410-b244c426c984</td>\n",
       "      <td>3,000.00</td>\n",
       "      <td>3,000.00</td>\n",
       "      <td>108.00</td>\n",
       "      <td>17.28</td>\n",
       "      <td>2,874.72</td>\n",
       "      <td>0.04</td>\n",
       "      <td>0.00</td>\n",
       "      <td>0.00</td>\n",
       "      <td>1.00</td>\n",
       "      <td>UYN0tWX</td>\n",
       "      <td>PROVISIONES - SETTLEMENT_MASTER_LOG_DATE AGOST...</td>\n",
       "    </tr>\n",
       "    <tr>\n",
       "      <th>1</th>\n",
       "      <td>81a7dc63-f38c-4903-9008-1e13054b402b</td>\n",
       "      <td>99.00</td>\n",
       "      <td>99.00</td>\n",
       "      <td>3.56</td>\n",
       "      <td>0.57</td>\n",
       "      <td>94.87</td>\n",
       "      <td>0.04</td>\n",
       "      <td>0.00</td>\n",
       "      <td>0.00</td>\n",
       "      <td>1.00</td>\n",
       "      <td>zAivOYq</td>\n",
       "      <td>PROVISIONES - SETTLEMENT_MASTER_LOG_DATE AGOST...</td>\n",
       "    </tr>\n",
       "    <tr>\n",
       "      <th>2</th>\n",
       "      <td>230de455-0943-4a74-84b2-891fe6b2dd63</td>\n",
       "      <td>477.50</td>\n",
       "      <td>477.50</td>\n",
       "      <td>17.19</td>\n",
       "      <td>2.75</td>\n",
       "      <td>457.56</td>\n",
       "      <td>0.04</td>\n",
       "      <td>0.00</td>\n",
       "      <td>0.00</td>\n",
       "      <td>1.00</td>\n",
       "      <td>b0Gbgpi</td>\n",
       "      <td>PROVISIONES - SETTLEMENT_MASTER_LOG_DATE AGOST...</td>\n",
       "    </tr>\n",
       "    <tr>\n",
       "      <th>3</th>\n",
       "      <td>a67e216a-b4c1-4b16-80c4-b89498c47620</td>\n",
       "      <td>62.00</td>\n",
       "      <td>62.00</td>\n",
       "      <td>2.23</td>\n",
       "      <td>0.36</td>\n",
       "      <td>59.41</td>\n",
       "      <td>0.04</td>\n",
       "      <td>0.00</td>\n",
       "      <td>0.00</td>\n",
       "      <td>1.00</td>\n",
       "      <td>owPrJHC</td>\n",
       "      <td>PROVISIONES - SETTLEMENT_MASTER_LOG_DATE AGOST...</td>\n",
       "    </tr>\n",
       "    <tr>\n",
       "      <th>4</th>\n",
       "      <td>c5aa1523-13fb-4fa7-a994-4eeab47758dd</td>\n",
       "      <td>720.00</td>\n",
       "      <td>720.00</td>\n",
       "      <td>25.92</td>\n",
       "      <td>4.15</td>\n",
       "      <td>689.93</td>\n",
       "      <td>0.04</td>\n",
       "      <td>0.00</td>\n",
       "      <td>0.00</td>\n",
       "      <td>1.00</td>\n",
       "      <td>aWuc5JR</td>\n",
       "      <td>PROVISIONES - SETTLEMENT_MASTER_LOG_DATE AGOST...</td>\n",
       "    </tr>\n",
       "  </tbody>\n",
       "</table>\n",
       "</div>"
      ],
      "text/plain": [
       "                                mvnt_id  psp_amount  gross_amount   fees  \\\n",
       "0  4a47956b-37b1-4d50-8410-b244c426c984    3,000.00      3,000.00 108.00   \n",
       "1  81a7dc63-f38c-4903-9008-1e13054b402b       99.00         99.00   3.56   \n",
       "2  230de455-0943-4a74-84b2-891fe6b2dd63      477.50        477.50  17.19   \n",
       "3  a67e216a-b4c1-4b16-80c4-b89498c47620       62.00         62.00   2.23   \n",
       "4  c5aa1523-13fb-4fa7-a994-4eeab47758dd      720.00        720.00  25.92   \n",
       "\n",
       "   taxes  net_amount  mdr  msi  number_msi  status_code receipt_no  \\\n",
       "0  17.28    2,874.72 0.04 0.00        0.00         1.00    UYN0tWX   \n",
       "1   0.57       94.87 0.04 0.00        0.00         1.00    zAivOYq   \n",
       "2   2.75      457.56 0.04 0.00        0.00         1.00    b0Gbgpi   \n",
       "3   0.36       59.41 0.04 0.00        0.00         1.00    owPrJHC   \n",
       "4   4.15      689.93 0.04 0.00        0.00         1.00    aWuc5JR   \n",
       "\n",
       "                                           file_name  \n",
       "0  PROVISIONES - SETTLEMENT_MASTER_LOG_DATE AGOST...  \n",
       "1  PROVISIONES - SETTLEMENT_MASTER_LOG_DATE AGOST...  \n",
       "2  PROVISIONES - SETTLEMENT_MASTER_LOG_DATE AGOST...  \n",
       "3  PROVISIONES - SETTLEMENT_MASTER_LOG_DATE AGOST...  \n",
       "4  PROVISIONES - SETTLEMENT_MASTER_LOG_DATE AGOST...  "
      ]
     },
     "execution_count": 13,
     "metadata": {},
     "output_type": "execute_result"
    }
   ],
   "source": [
    "sml = pd.concat([pd.read_csv(f,sep='\\t',usecols=use_cols_sml).assign(file_name=os.path.basename(f)) for f in sml_files])\n",
    "sml.columns = sml.columns.str.strip().str.lower()\n",
    "sml.replace('\"\"','', regex=True, inplace=True)\n",
    "# sml['created_at'] = pd.to_datetime(sml['created_at']).dt.tz_localize(None)\n",
    "# sml['created_at_date'] =  pd.to_datetime(sml['created_at']).dt.date\n",
    "# sml['created_at_date'] =  pd.to_datetime(sml['created_at_date'])\n",
    "# sml['eff_dt'] = pd.to_datetime(sml['eff_dt']).dt.tz_localize(None)\n",
    "# sml['eff_dt_date'] =  pd.to_datetime(sml['eff_dt']).dt.date\n",
    "# sml['eff_dt_date'] =  pd.to_datetime(sml['eff_dt_date'])\n",
    "# sml.rename(columns={'ref_id':'transaction_id'},inplace=True)\n",
    "#sml['PK'] = sml['PK'].replace('M#','',inplace=True)\n",
    "sml.head()"
   ]
  },
  {
   "cell_type": "code",
   "execution_count": 14,
   "id": "bb5c429d",
   "metadata": {},
   "outputs": [
    {
     "data": {
      "text/plain": [
       "(8415083, 12)"
      ]
     },
     "execution_count": 14,
     "metadata": {},
     "output_type": "execute_result"
    }
   ],
   "source": [
    "sml.shape"
   ]
  },
  {
   "cell_type": "code",
   "execution_count": 15,
   "id": "aae153e9",
   "metadata": {},
   "outputs": [
    {
     "data": {
      "text/plain": [
       "mvnt_id          object\n",
       "psp_amount      float64\n",
       "gross_amount    float64\n",
       "fees            float64\n",
       "taxes           float64\n",
       "net_amount      float64\n",
       "mdr             float64\n",
       "msi             float64\n",
       "number_msi      float64\n",
       "status_code     float64\n",
       "receipt_no       object\n",
       "file_name        object\n",
       "dtype: object"
      ]
     },
     "execution_count": 15,
     "metadata": {},
     "output_type": "execute_result"
    }
   ],
   "source": [
    "sml.dtypes"
   ]
  },
  {
   "cell_type": "code",
   "execution_count": 16,
   "id": "0aee293f",
   "metadata": {},
   "outputs": [
    {
     "data": {
      "text/html": [
       "<div>\n",
       "<style scoped>\n",
       "    .dataframe tbody tr th:only-of-type {\n",
       "        vertical-align: middle;\n",
       "    }\n",
       "\n",
       "    .dataframe tbody tr th {\n",
       "        vertical-align: top;\n",
       "    }\n",
       "\n",
       "    .dataframe thead th {\n",
       "        text-align: right;\n",
       "    }\n",
       "</style>\n",
       "<table border=\"1\" class=\"dataframe\">\n",
       "  <thead>\n",
       "    <tr style=\"text-align: right;\">\n",
       "      <th></th>\n",
       "      <th>mvnt_id</th>\n",
       "      <th>psp_amount</th>\n",
       "      <th>gross_amount</th>\n",
       "      <th>fees</th>\n",
       "      <th>taxes</th>\n",
       "      <th>net_amount</th>\n",
       "      <th>mdr</th>\n",
       "      <th>msi</th>\n",
       "      <th>number_msi</th>\n",
       "      <th>status_code</th>\n",
       "      <th>receipt_no</th>\n",
       "      <th>file_name</th>\n",
       "    </tr>\n",
       "  </thead>\n",
       "  <tbody>\n",
       "    <tr>\n",
       "      <th>0</th>\n",
       "      <td>4a47956b-37b1-4d50-8410-b244c426c984</td>\n",
       "      <td>3,000.00</td>\n",
       "      <td>3,000.00</td>\n",
       "      <td>108.00</td>\n",
       "      <td>17.28</td>\n",
       "      <td>2,874.72</td>\n",
       "      <td>0.04</td>\n",
       "      <td>0.00</td>\n",
       "      <td>0.00</td>\n",
       "      <td>1.00</td>\n",
       "      <td>UYN0tWX</td>\n",
       "      <td>PROVISIONES - SETTLEMENT_MASTER_LOG_DATE AGOST...</td>\n",
       "    </tr>\n",
       "    <tr>\n",
       "      <th>1</th>\n",
       "      <td>81a7dc63-f38c-4903-9008-1e13054b402b</td>\n",
       "      <td>99.00</td>\n",
       "      <td>99.00</td>\n",
       "      <td>3.56</td>\n",
       "      <td>0.57</td>\n",
       "      <td>94.87</td>\n",
       "      <td>0.04</td>\n",
       "      <td>0.00</td>\n",
       "      <td>0.00</td>\n",
       "      <td>1.00</td>\n",
       "      <td>zAivOYq</td>\n",
       "      <td>PROVISIONES - SETTLEMENT_MASTER_LOG_DATE AGOST...</td>\n",
       "    </tr>\n",
       "    <tr>\n",
       "      <th>2</th>\n",
       "      <td>230de455-0943-4a74-84b2-891fe6b2dd63</td>\n",
       "      <td>477.50</td>\n",
       "      <td>477.50</td>\n",
       "      <td>17.19</td>\n",
       "      <td>2.75</td>\n",
       "      <td>457.56</td>\n",
       "      <td>0.04</td>\n",
       "      <td>0.00</td>\n",
       "      <td>0.00</td>\n",
       "      <td>1.00</td>\n",
       "      <td>b0Gbgpi</td>\n",
       "      <td>PROVISIONES - SETTLEMENT_MASTER_LOG_DATE AGOST...</td>\n",
       "    </tr>\n",
       "    <tr>\n",
       "      <th>3</th>\n",
       "      <td>a67e216a-b4c1-4b16-80c4-b89498c47620</td>\n",
       "      <td>62.00</td>\n",
       "      <td>62.00</td>\n",
       "      <td>2.23</td>\n",
       "      <td>0.36</td>\n",
       "      <td>59.41</td>\n",
       "      <td>0.04</td>\n",
       "      <td>0.00</td>\n",
       "      <td>0.00</td>\n",
       "      <td>1.00</td>\n",
       "      <td>owPrJHC</td>\n",
       "      <td>PROVISIONES - SETTLEMENT_MASTER_LOG_DATE AGOST...</td>\n",
       "    </tr>\n",
       "    <tr>\n",
       "      <th>4</th>\n",
       "      <td>c5aa1523-13fb-4fa7-a994-4eeab47758dd</td>\n",
       "      <td>720.00</td>\n",
       "      <td>720.00</td>\n",
       "      <td>25.92</td>\n",
       "      <td>4.15</td>\n",
       "      <td>689.93</td>\n",
       "      <td>0.04</td>\n",
       "      <td>0.00</td>\n",
       "      <td>0.00</td>\n",
       "      <td>1.00</td>\n",
       "      <td>aWuc5JR</td>\n",
       "      <td>PROVISIONES - SETTLEMENT_MASTER_LOG_DATE AGOST...</td>\n",
       "    </tr>\n",
       "  </tbody>\n",
       "</table>\n",
       "</div>"
      ],
      "text/plain": [
       "                                mvnt_id  psp_amount  gross_amount   fees  \\\n",
       "0  4a47956b-37b1-4d50-8410-b244c426c984    3,000.00      3,000.00 108.00   \n",
       "1  81a7dc63-f38c-4903-9008-1e13054b402b       99.00         99.00   3.56   \n",
       "2  230de455-0943-4a74-84b2-891fe6b2dd63      477.50        477.50  17.19   \n",
       "3  a67e216a-b4c1-4b16-80c4-b89498c47620       62.00         62.00   2.23   \n",
       "4  c5aa1523-13fb-4fa7-a994-4eeab47758dd      720.00        720.00  25.92   \n",
       "\n",
       "   taxes  net_amount  mdr  msi  number_msi  status_code receipt_no  \\\n",
       "0  17.28    2,874.72 0.04 0.00        0.00         1.00    UYN0tWX   \n",
       "1   0.57       94.87 0.04 0.00        0.00         1.00    zAivOYq   \n",
       "2   2.75      457.56 0.04 0.00        0.00         1.00    b0Gbgpi   \n",
       "3   0.36       59.41 0.04 0.00        0.00         1.00    owPrJHC   \n",
       "4   4.15      689.93 0.04 0.00        0.00         1.00    aWuc5JR   \n",
       "\n",
       "                                           file_name  \n",
       "0  PROVISIONES - SETTLEMENT_MASTER_LOG_DATE AGOST...  \n",
       "1  PROVISIONES - SETTLEMENT_MASTER_LOG_DATE AGOST...  \n",
       "2  PROVISIONES - SETTLEMENT_MASTER_LOG_DATE AGOST...  \n",
       "3  PROVISIONES - SETTLEMENT_MASTER_LOG_DATE AGOST...  \n",
       "4  PROVISIONES - SETTLEMENT_MASTER_LOG_DATE AGOST...  "
      ]
     },
     "execution_count": 16,
     "metadata": {},
     "output_type": "execute_result"
    }
   ],
   "source": [
    "sml_final = sml\n",
    "sml_final.head()"
   ]
  },
  {
   "cell_type": "code",
   "execution_count": 17,
   "id": "f0afff80",
   "metadata": {},
   "outputs": [
    {
     "data": {
      "text/plain": [
       "(8415083, 12)"
      ]
     },
     "execution_count": 17,
     "metadata": {},
     "output_type": "execute_result"
    }
   ],
   "source": [
    "sml_final.shape"
   ]
  },
  {
   "cell_type": "markdown",
   "id": "05244115",
   "metadata": {},
   "source": [
    "# DATA AP JOURNAL"
   ]
  },
  {
   "cell_type": "code",
   "execution_count": 20,
   "id": "2ab36c04",
   "metadata": {},
   "outputs": [],
   "source": [
    "ap = pd.concat([pd.read_csv(f, sep='\\t',usecols=use_cols_approv).assign(file_name=os.path.basename(f)) for f in ap_provision_files])\n",
    "ap.columns = ap.columns.str.strip().str.lower()\n",
    "ap.replace('\"\"','', regex=True, inplace=True)\n",
    "ap['eff_dt'] =  pd.to_datetime(ap['eff_dt']).dt.tz_localize(None)\n",
    "ap['eff_dt_date'] =  pd.to_datetime(ap['eff_dt']).dt.date\n",
    "ap['eff_dt_date'] =  pd.to_datetime(ap['eff_dt_date'])\n",
    "ap['eff_dt_time'] =  pd.to_datetime(ap['eff_dt']).dt.time\n",
    "# ap['movement_day'] = pd.to_datetime(ap['movement_day']).dt.tz_localize(None)\n",
    "ap['created_at'] = pd.to_datetime(ap['created_at']).dt.tz_localize(None)\n",
    "ap['created_at_date'] =  pd.to_datetime(ap['created_at']).dt.date\n",
    "ap['created_at_date'] =  pd.to_datetime(ap['created_at_date'])\n",
    "ap['payment_date_local'] = pd.to_datetime(ap['payment_date_local']).dt.tz_localize(None)\n",
    "ap['payment_date_local'] =  pd.to_datetime(ap['payment_date_local']).dt.date\n",
    "ap['payment_date_local'] =  pd.to_datetime(ap['payment_date_local'])\n",
    "# ap['request_effective_date'] = pd.to_datetime(ap['request_effective_date']).dt.tz_localize(None)\n",
    "# ap['slot_date'] = pd.to_datetime(ap['slot_date']).dt.tz_localize(None)\n",
    "# ap['identifier'] = ap['source_type'].str[:1].astype(str)\n",
    "# ap['INDEX'] = (ap['eff_dt_date'].astype(str).replace(' ', '',regex=True)+'-'+\n",
    "#                ap['identifier'].astype(str).replace(' ', '',regex=True)+'-'+\n",
    "#                ap['eff_dt_time'].astype(str).replace(' ', '',regex=True))\n",
    "ap.sort_values(by=(['merchant_id','eff_dt']), ascending=[True,False], inplace=True)"
   ]
  },
  {
   "cell_type": "code",
   "execution_count": 21,
   "id": "f999693d",
   "metadata": {},
   "outputs": [],
   "source": [
    "ap.reset_index(inplace=True)"
   ]
  },
  {
   "cell_type": "code",
   "execution_count": 22,
   "id": "8319eeeb",
   "metadata": {},
   "outputs": [
    {
     "data": {
      "text/html": [
       "<div>\n",
       "<style scoped>\n",
       "    .dataframe tbody tr th:only-of-type {\n",
       "        vertical-align: middle;\n",
       "    }\n",
       "\n",
       "    .dataframe tbody tr th {\n",
       "        vertical-align: top;\n",
       "    }\n",
       "\n",
       "    .dataframe thead th {\n",
       "        text-align: right;\n",
       "    }\n",
       "</style>\n",
       "<table border=\"1\" class=\"dataframe\">\n",
       "  <thead>\n",
       "    <tr style=\"text-align: right;\">\n",
       "      <th></th>\n",
       "      <th>index</th>\n",
       "      <th>merchant_id</th>\n",
       "      <th>type_request</th>\n",
       "      <th>mvnt_id</th>\n",
       "      <th>movement_type</th>\n",
       "      <th>source_type</th>\n",
       "      <th>created_at</th>\n",
       "      <th>eff_dt</th>\n",
       "      <th>report_date_local</th>\n",
       "      <th>payment_date_local</th>\n",
       "      <th>status</th>\n",
       "      <th>file_name</th>\n",
       "      <th>eff_dt_date</th>\n",
       "      <th>eff_dt_time</th>\n",
       "      <th>created_at_date</th>\n",
       "      <th>report_id</th>\n",
       "      <th>report_date_local_final</th>\n",
       "      <th>payment_date_local_final</th>\n",
       "      <th>status_final</th>\n",
       "    </tr>\n",
       "  </thead>\n",
       "  <tbody>\n",
       "    <tr>\n",
       "      <th>0</th>\n",
       "      <td>10372442</td>\n",
       "      <td>00009e28-0a2f-439a-ab47-70a36689efc9</td>\n",
       "      <td>A4ZHQBW94</td>\n",
       "      <td>33dc1e91-7776-3f17-871a-b44246a5957a</td>\n",
       "      <td>DISB_RQ</td>\n",
       "      <td>DISB</td>\n",
       "      <td>2023-09-01 07:27:22</td>\n",
       "      <td>2023-09-01 07:27:27</td>\n",
       "      <td>2023-09-01</td>\n",
       "      <td>2023-09-01</td>\n",
       "      <td>PAID</td>\n",
       "      <td>PROVISIONES - LEDGER AGOSTO 2023.tsv</td>\n",
       "      <td>2023-09-01</td>\n",
       "      <td>07:27:27</td>\n",
       "      <td>2023-09-01</td>\n",
       "      <td>A4ZHQBW94</td>\n",
       "      <td>2023-09-01</td>\n",
       "      <td>2023-09-01</td>\n",
       "      <td>PAID</td>\n",
       "    </tr>\n",
       "    <tr>\n",
       "      <th>1</th>\n",
       "      <td>729675</td>\n",
       "      <td>00009e28-0a2f-439a-ab47-70a36689efc9</td>\n",
       "      <td>settlement processor regular payment request</td>\n",
       "      <td>94cd6d8f-a12e-4382-bf84-3f00dd24829f</td>\n",
       "      <td>REGULAR_PYMT_RQ</td>\n",
       "      <td>SETT</td>\n",
       "      <td>2023-08-31 16:01:54</td>\n",
       "      <td>2023-09-01 04:30:00</td>\n",
       "      <td>NaN</td>\n",
       "      <td>NaT</td>\n",
       "      <td>NaN</td>\n",
       "      <td>PROVISIONES - LEDGER AGOSTO 2023.tsv</td>\n",
       "      <td>2023-09-01</td>\n",
       "      <td>04:30:00</td>\n",
       "      <td>2023-08-31</td>\n",
       "      <td>A4ZHQBW94</td>\n",
       "      <td>2023-09-01</td>\n",
       "      <td>2023-09-01</td>\n",
       "      <td>PAID</td>\n",
       "    </tr>\n",
       "    <tr>\n",
       "      <th>2</th>\n",
       "      <td>729697</td>\n",
       "      <td>0000b65a-c2a2-4993-8f4c-05e5b7cbd7c0</td>\n",
       "      <td>settlement processor regular payment request</td>\n",
       "      <td>87cd4778-ec57-46fd-864c-cfd21a436638</td>\n",
       "      <td>REGULAR_PYMT_RQ</td>\n",
       "      <td>SETT</td>\n",
       "      <td>2023-09-04 12:56:07</td>\n",
       "      <td>2023-09-05 03:30:00</td>\n",
       "      <td>NaN</td>\n",
       "      <td>NaT</td>\n",
       "      <td>NaN</td>\n",
       "      <td>PROVISIONES - LEDGER AGOSTO 2023.tsv</td>\n",
       "      <td>2023-09-05</td>\n",
       "      <td>03:30:00</td>\n",
       "      <td>2023-09-04</td>\n",
       "      <td>NaN</td>\n",
       "      <td>NaN</td>\n",
       "      <td>NaT</td>\n",
       "      <td>NaN</td>\n",
       "    </tr>\n",
       "    <tr>\n",
       "      <th>3</th>\n",
       "      <td>5506511</td>\n",
       "      <td>0000b65a-c2a2-4993-8f4c-05e5b7cbd7c0</td>\n",
       "      <td>A36TF8W8N</td>\n",
       "      <td>429b8c95-191c-372e-8e60-7a5b5053e579</td>\n",
       "      <td>DISB_RQ</td>\n",
       "      <td>DISB</td>\n",
       "      <td>2023-09-03 07:31:19</td>\n",
       "      <td>2023-09-03 07:31:24</td>\n",
       "      <td>2023-09-03</td>\n",
       "      <td>2023-09-03</td>\n",
       "      <td>PAID</td>\n",
       "      <td>PROVISIONES - LEDGER AGOSTO 2023.tsv</td>\n",
       "      <td>2023-09-03</td>\n",
       "      <td>07:31:24</td>\n",
       "      <td>2023-09-03</td>\n",
       "      <td>A36TF8W8N</td>\n",
       "      <td>2023-09-03</td>\n",
       "      <td>2023-09-03</td>\n",
       "      <td>PAID</td>\n",
       "    </tr>\n",
       "    <tr>\n",
       "      <th>4</th>\n",
       "      <td>729696</td>\n",
       "      <td>0000b65a-c2a2-4993-8f4c-05e5b7cbd7c0</td>\n",
       "      <td>settlement processor regular payment request</td>\n",
       "      <td>eed1bede-1718-43c3-a60a-77edc99c9c53</td>\n",
       "      <td>REGULAR_PYMT_RQ</td>\n",
       "      <td>SETT</td>\n",
       "      <td>2023-09-02 10:59:25</td>\n",
       "      <td>2023-09-03 03:00:00</td>\n",
       "      <td>NaN</td>\n",
       "      <td>NaT</td>\n",
       "      <td>NaN</td>\n",
       "      <td>PROVISIONES - LEDGER AGOSTO 2023.tsv</td>\n",
       "      <td>2023-09-03</td>\n",
       "      <td>03:00:00</td>\n",
       "      <td>2023-09-02</td>\n",
       "      <td>A36TF8W8N</td>\n",
       "      <td>2023-09-03</td>\n",
       "      <td>2023-09-03</td>\n",
       "      <td>PAID</td>\n",
       "    </tr>\n",
       "  </tbody>\n",
       "</table>\n",
       "</div>"
      ],
      "text/plain": [
       "      index                           merchant_id  \\\n",
       "0  10372442  00009e28-0a2f-439a-ab47-70a36689efc9   \n",
       "1    729675  00009e28-0a2f-439a-ab47-70a36689efc9   \n",
       "2    729697  0000b65a-c2a2-4993-8f4c-05e5b7cbd7c0   \n",
       "3   5506511  0000b65a-c2a2-4993-8f4c-05e5b7cbd7c0   \n",
       "4    729696  0000b65a-c2a2-4993-8f4c-05e5b7cbd7c0   \n",
       "\n",
       "                                   type_request  \\\n",
       "0                                     A4ZHQBW94   \n",
       "1  settlement processor regular payment request   \n",
       "2  settlement processor regular payment request   \n",
       "3                                     A36TF8W8N   \n",
       "4  settlement processor regular payment request   \n",
       "\n",
       "                                mvnt_id    movement_type source_type  \\\n",
       "0  33dc1e91-7776-3f17-871a-b44246a5957a          DISB_RQ        DISB   \n",
       "1  94cd6d8f-a12e-4382-bf84-3f00dd24829f  REGULAR_PYMT_RQ        SETT   \n",
       "2  87cd4778-ec57-46fd-864c-cfd21a436638  REGULAR_PYMT_RQ        SETT   \n",
       "3  429b8c95-191c-372e-8e60-7a5b5053e579          DISB_RQ        DISB   \n",
       "4  eed1bede-1718-43c3-a60a-77edc99c9c53  REGULAR_PYMT_RQ        SETT   \n",
       "\n",
       "           created_at              eff_dt report_date_local  \\\n",
       "0 2023-09-01 07:27:22 2023-09-01 07:27:27        2023-09-01   \n",
       "1 2023-08-31 16:01:54 2023-09-01 04:30:00               NaN   \n",
       "2 2023-09-04 12:56:07 2023-09-05 03:30:00               NaN   \n",
       "3 2023-09-03 07:31:19 2023-09-03 07:31:24        2023-09-03   \n",
       "4 2023-09-02 10:59:25 2023-09-03 03:00:00               NaN   \n",
       "\n",
       "  payment_date_local status                             file_name eff_dt_date  \\\n",
       "0         2023-09-01   PAID  PROVISIONES - LEDGER AGOSTO 2023.tsv  2023-09-01   \n",
       "1                NaT    NaN  PROVISIONES - LEDGER AGOSTO 2023.tsv  2023-09-01   \n",
       "2                NaT    NaN  PROVISIONES - LEDGER AGOSTO 2023.tsv  2023-09-05   \n",
       "3         2023-09-03   PAID  PROVISIONES - LEDGER AGOSTO 2023.tsv  2023-09-03   \n",
       "4                NaT    NaN  PROVISIONES - LEDGER AGOSTO 2023.tsv  2023-09-03   \n",
       "\n",
       "  eff_dt_time created_at_date  report_id report_date_local_final  \\\n",
       "0    07:27:27      2023-09-01  A4ZHQBW94              2023-09-01   \n",
       "1    04:30:00      2023-08-31  A4ZHQBW94              2023-09-01   \n",
       "2    03:30:00      2023-09-04        NaN                     NaN   \n",
       "3    07:31:24      2023-09-03  A36TF8W8N              2023-09-03   \n",
       "4    03:00:00      2023-09-02  A36TF8W8N              2023-09-03   \n",
       "\n",
       "  payment_date_local_final status_final  \n",
       "0               2023-09-01         PAID  \n",
       "1               2023-09-01         PAID  \n",
       "2                      NaT          NaN  \n",
       "3               2023-09-03         PAID  \n",
       "4               2023-09-03         PAID  "
      ]
     },
     "execution_count": 22,
     "metadata": {},
     "output_type": "execute_result"
    }
   ],
   "source": [
    "ap.loc[ap['source_type'] == 'DISB', 'report_id'] = ap['type_request']\n",
    "ap['report_id'] = ap['report_id'].groupby(ap['merchant_id']).fillna(method='ffill')\n",
    "ap['report_date_local_final'] = ap['report_date_local'].groupby(ap['merchant_id']).fillna(method='ffill')\n",
    "ap['payment_date_local_final'] = ap['payment_date_local'].groupby(ap['merchant_id']).fillna(method='ffill')\n",
    "ap['status_final'] = ap['status'].groupby(ap['merchant_id']).fillna(method='ffill')\n",
    "ap.head()"
   ]
  },
  {
   "cell_type": "code",
   "execution_count": 23,
   "id": "cfdd51e2",
   "metadata": {},
   "outputs": [
    {
     "data": {
      "text/plain": [
       "(10671490, 19)"
      ]
     },
     "execution_count": 23,
     "metadata": {},
     "output_type": "execute_result"
    }
   ],
   "source": [
    "ap.shape"
   ]
  },
  {
   "cell_type": "code",
   "execution_count": 24,
   "id": "b34aaf44",
   "metadata": {},
   "outputs": [
    {
     "data": {
      "text/plain": [
       "index                                int64\n",
       "merchant_id                         object\n",
       "type_request                        object\n",
       "mvnt_id                             object\n",
       "movement_type                       object\n",
       "source_type                         object\n",
       "created_at                  datetime64[ns]\n",
       "eff_dt                      datetime64[ns]\n",
       "report_date_local                   object\n",
       "payment_date_local          datetime64[ns]\n",
       "status                              object\n",
       "file_name                           object\n",
       "eff_dt_date                 datetime64[ns]\n",
       "eff_dt_time                         object\n",
       "created_at_date             datetime64[ns]\n",
       "report_id                           object\n",
       "report_date_local_final             object\n",
       "payment_date_local_final    datetime64[ns]\n",
       "status_final                        object\n",
       "dtype: object"
      ]
     },
     "execution_count": 24,
     "metadata": {},
     "output_type": "execute_result"
    }
   ],
   "source": [
    "ap.dtypes"
   ]
  },
  {
   "cell_type": "code",
   "execution_count": 25,
   "id": "533505bb",
   "metadata": {},
   "outputs": [
    {
     "data": {
      "text/plain": [
       "array(['DISB', 'SETT', 'PYMT', 'TOPUPS', 'LOAN', 'RISK', 'BILL_PYMNT',\n",
       "       'FEE_REFUNDS', 'REFUNDS', 'TAXES', 'CAAL'], dtype=object)"
      ]
     },
     "execution_count": 25,
     "metadata": {},
     "output_type": "execute_result"
    }
   ],
   "source": [
    "ap['source_type'].unique()"
   ]
  },
  {
   "cell_type": "code",
   "execution_count": 26,
   "id": "57a30c53",
   "metadata": {},
   "outputs": [
    {
     "data": {
      "text/plain": [
       "array(['A4ZHQBW94', nan, 'A36TF8W8N', ..., 'AW9YR4XBN', 'A522LLJZ8',\n",
       "       'ABKKS7V4Z'], dtype=object)"
      ]
     },
     "execution_count": 26,
     "metadata": {},
     "output_type": "execute_result"
    }
   ],
   "source": [
    "ap['report_id'].unique()"
   ]
  },
  {
   "cell_type": "code",
   "execution_count": 27,
   "id": "acebd4f7",
   "metadata": {},
   "outputs": [],
   "source": [
    "ap_bill_pymnt = ap[(ap['source_type'] == 'BILL_PYMNT')]\n",
    "ap_caal = ap[(ap['source_type'] == 'CAAL')]\n",
    "ap_disb = ap[(ap['source_type'] == 'DISB')]\n",
    "ap_fee_refunds = ap[(ap['source_type'] == 'FEE_REFUNDS')]\n",
    "ap_loan = ap[(ap['source_type'] == 'LOAN')]\n",
    "ap_promo = ap[(ap['source_type'] == 'PROMO')]\n",
    "ap_pymt = ap[(ap['source_type'] == 'PYMT')]\n",
    "ap_refunds = ap[(ap['source_type'] == 'REFUNDS')]\n",
    "ap_risk = ap[(ap['source_type'] == 'RISK')]\n",
    "ap_sett = ap[(ap['source_type'] == 'SETT')]\n",
    "ap_sett_adptr = ap[(ap['source_type'] == 'SETT_ADPTR')]\n",
    "ap_taxes = ap[(ap['source_type'] == 'TAXES')]\n",
    "ap_topups = ap[(ap['source_type'] == 'TOPUPS')]"
   ]
  },
  {
   "cell_type": "markdown",
   "id": "d101324c",
   "metadata": {},
   "source": [
    "# CRUCE 1: AP JOURNAL VS SETTLEMENT MASTER LOG"
   ]
  },
  {
   "cell_type": "code",
   "execution_count": 28,
   "id": "1754a0b8",
   "metadata": {},
   "outputs": [
    {
     "data": {
      "text/html": [
       "<div>\n",
       "<style scoped>\n",
       "    .dataframe tbody tr th:only-of-type {\n",
       "        vertical-align: middle;\n",
       "    }\n",
       "\n",
       "    .dataframe tbody tr th {\n",
       "        vertical-align: top;\n",
       "    }\n",
       "\n",
       "    .dataframe thead th {\n",
       "        text-align: right;\n",
       "    }\n",
       "</style>\n",
       "<table border=\"1\" class=\"dataframe\">\n",
       "  <thead>\n",
       "    <tr style=\"text-align: right;\">\n",
       "      <th></th>\n",
       "      <th>index</th>\n",
       "      <th>merchant_id</th>\n",
       "      <th>type_request</th>\n",
       "      <th>mvnt_id</th>\n",
       "      <th>movement_type</th>\n",
       "      <th>source_type</th>\n",
       "      <th>created_at</th>\n",
       "      <th>eff_dt</th>\n",
       "      <th>report_date_local</th>\n",
       "      <th>payment_date_local</th>\n",
       "      <th>...</th>\n",
       "      <th>gross_amount</th>\n",
       "      <th>fees</th>\n",
       "      <th>taxes</th>\n",
       "      <th>net_amount</th>\n",
       "      <th>mdr</th>\n",
       "      <th>msi</th>\n",
       "      <th>number_msi</th>\n",
       "      <th>receipt_no</th>\n",
       "      <th>status_code</th>\n",
       "      <th>transaction_id</th>\n",
       "    </tr>\n",
       "  </thead>\n",
       "  <tbody>\n",
       "    <tr>\n",
       "      <th>0</th>\n",
       "      <td>10372442</td>\n",
       "      <td>00009e28-0a2f-439a-ab47-70a36689efc9</td>\n",
       "      <td>A4ZHQBW94</td>\n",
       "      <td>33dc1e91-7776-3f17-871a-b44246a5957a</td>\n",
       "      <td>DISB_RQ</td>\n",
       "      <td>DISB</td>\n",
       "      <td>2023-09-01 07:27:22</td>\n",
       "      <td>2023-09-01 07:27:27</td>\n",
       "      <td>2023-09-01</td>\n",
       "      <td>2023-09-01</td>\n",
       "      <td>...</td>\n",
       "      <td>NaN</td>\n",
       "      <td>NaN</td>\n",
       "      <td>NaN</td>\n",
       "      <td>NaN</td>\n",
       "      <td>NaN</td>\n",
       "      <td>NaN</td>\n",
       "      <td>NaN</td>\n",
       "      <td>NaN</td>\n",
       "      <td>NaN</td>\n",
       "      <td>33dc1e91-7776-3f17-871a-b44246a5957a</td>\n",
       "    </tr>\n",
       "    <tr>\n",
       "      <th>1</th>\n",
       "      <td>729675</td>\n",
       "      <td>00009e28-0a2f-439a-ab47-70a36689efc9</td>\n",
       "      <td>settlement processor regular payment request</td>\n",
       "      <td>94cd6d8f-a12e-4382-bf84-3f00dd24829f</td>\n",
       "      <td>REGULAR_PYMT_RQ</td>\n",
       "      <td>SETT</td>\n",
       "      <td>2023-08-31 16:01:54</td>\n",
       "      <td>2023-09-01 04:30:00</td>\n",
       "      <td>NaN</td>\n",
       "      <td>NaT</td>\n",
       "      <td>...</td>\n",
       "      <td>6,000.00</td>\n",
       "      <td>216.00</td>\n",
       "      <td>34.56</td>\n",
       "      <td>5,749.44</td>\n",
       "      <td>0.04</td>\n",
       "      <td>0.00</td>\n",
       "      <td>0.00</td>\n",
       "      <td>Z306T5M</td>\n",
       "      <td>1.00</td>\n",
       "      <td>94cd6d8f-a12e-4382-bf84-3f00dd24829f</td>\n",
       "    </tr>\n",
       "    <tr>\n",
       "      <th>2</th>\n",
       "      <td>729697</td>\n",
       "      <td>0000b65a-c2a2-4993-8f4c-05e5b7cbd7c0</td>\n",
       "      <td>settlement processor regular payment request</td>\n",
       "      <td>87cd4778-ec57-46fd-864c-cfd21a436638</td>\n",
       "      <td>REGULAR_PYMT_RQ</td>\n",
       "      <td>SETT</td>\n",
       "      <td>2023-09-04 12:56:07</td>\n",
       "      <td>2023-09-05 03:30:00</td>\n",
       "      <td>NaN</td>\n",
       "      <td>NaT</td>\n",
       "      <td>...</td>\n",
       "      <td>5,593.31</td>\n",
       "      <td>201.36</td>\n",
       "      <td>32.22</td>\n",
       "      <td>5,359.73</td>\n",
       "      <td>0.04</td>\n",
       "      <td>0.00</td>\n",
       "      <td>0.00</td>\n",
       "      <td>Qr4KDlm</td>\n",
       "      <td>1.00</td>\n",
       "      <td>87cd4778-ec57-46fd-864c-cfd21a436638</td>\n",
       "    </tr>\n",
       "    <tr>\n",
       "      <th>3</th>\n",
       "      <td>5506511</td>\n",
       "      <td>0000b65a-c2a2-4993-8f4c-05e5b7cbd7c0</td>\n",
       "      <td>A36TF8W8N</td>\n",
       "      <td>429b8c95-191c-372e-8e60-7a5b5053e579</td>\n",
       "      <td>DISB_RQ</td>\n",
       "      <td>DISB</td>\n",
       "      <td>2023-09-03 07:31:19</td>\n",
       "      <td>2023-09-03 07:31:24</td>\n",
       "      <td>2023-09-03</td>\n",
       "      <td>2023-09-03</td>\n",
       "      <td>...</td>\n",
       "      <td>NaN</td>\n",
       "      <td>NaN</td>\n",
       "      <td>NaN</td>\n",
       "      <td>NaN</td>\n",
       "      <td>NaN</td>\n",
       "      <td>NaN</td>\n",
       "      <td>NaN</td>\n",
       "      <td>NaN</td>\n",
       "      <td>NaN</td>\n",
       "      <td>429b8c95-191c-372e-8e60-7a5b5053e579</td>\n",
       "    </tr>\n",
       "    <tr>\n",
       "      <th>4</th>\n",
       "      <td>729696</td>\n",
       "      <td>0000b65a-c2a2-4993-8f4c-05e5b7cbd7c0</td>\n",
       "      <td>settlement processor regular payment request</td>\n",
       "      <td>eed1bede-1718-43c3-a60a-77edc99c9c53</td>\n",
       "      <td>REGULAR_PYMT_RQ</td>\n",
       "      <td>SETT</td>\n",
       "      <td>2023-09-02 10:59:25</td>\n",
       "      <td>2023-09-03 03:00:00</td>\n",
       "      <td>NaN</td>\n",
       "      <td>NaT</td>\n",
       "      <td>...</td>\n",
       "      <td>57.48</td>\n",
       "      <td>2.07</td>\n",
       "      <td>0.33</td>\n",
       "      <td>55.08</td>\n",
       "      <td>0.04</td>\n",
       "      <td>0.00</td>\n",
       "      <td>0.00</td>\n",
       "      <td>9wym8Pk</td>\n",
       "      <td>1.00</td>\n",
       "      <td>eed1bede-1718-43c3-a60a-77edc99c9c53</td>\n",
       "    </tr>\n",
       "  </tbody>\n",
       "</table>\n",
       "<p>5 rows × 30 columns</p>\n",
       "</div>"
      ],
      "text/plain": [
       "      index                           merchant_id  \\\n",
       "0  10372442  00009e28-0a2f-439a-ab47-70a36689efc9   \n",
       "1    729675  00009e28-0a2f-439a-ab47-70a36689efc9   \n",
       "2    729697  0000b65a-c2a2-4993-8f4c-05e5b7cbd7c0   \n",
       "3   5506511  0000b65a-c2a2-4993-8f4c-05e5b7cbd7c0   \n",
       "4    729696  0000b65a-c2a2-4993-8f4c-05e5b7cbd7c0   \n",
       "\n",
       "                                   type_request  \\\n",
       "0                                     A4ZHQBW94   \n",
       "1  settlement processor regular payment request   \n",
       "2  settlement processor regular payment request   \n",
       "3                                     A36TF8W8N   \n",
       "4  settlement processor regular payment request   \n",
       "\n",
       "                                mvnt_id    movement_type source_type  \\\n",
       "0  33dc1e91-7776-3f17-871a-b44246a5957a          DISB_RQ        DISB   \n",
       "1  94cd6d8f-a12e-4382-bf84-3f00dd24829f  REGULAR_PYMT_RQ        SETT   \n",
       "2  87cd4778-ec57-46fd-864c-cfd21a436638  REGULAR_PYMT_RQ        SETT   \n",
       "3  429b8c95-191c-372e-8e60-7a5b5053e579          DISB_RQ        DISB   \n",
       "4  eed1bede-1718-43c3-a60a-77edc99c9c53  REGULAR_PYMT_RQ        SETT   \n",
       "\n",
       "           created_at              eff_dt report_date_local  \\\n",
       "0 2023-09-01 07:27:22 2023-09-01 07:27:27        2023-09-01   \n",
       "1 2023-08-31 16:01:54 2023-09-01 04:30:00               NaN   \n",
       "2 2023-09-04 12:56:07 2023-09-05 03:30:00               NaN   \n",
       "3 2023-09-03 07:31:19 2023-09-03 07:31:24        2023-09-03   \n",
       "4 2023-09-02 10:59:25 2023-09-03 03:00:00               NaN   \n",
       "\n",
       "  payment_date_local  ... gross_amount   fees taxes net_amount  mdr  msi  \\\n",
       "0         2023-09-01  ...          NaN    NaN   NaN        NaN  NaN  NaN   \n",
       "1                NaT  ...     6,000.00 216.00 34.56   5,749.44 0.04 0.00   \n",
       "2                NaT  ...     5,593.31 201.36 32.22   5,359.73 0.04 0.00   \n",
       "3         2023-09-03  ...          NaN    NaN   NaN        NaN  NaN  NaN   \n",
       "4                NaT  ...        57.48   2.07  0.33      55.08 0.04 0.00   \n",
       "\n",
       "  number_msi receipt_no status_code                        transaction_id  \n",
       "0        NaN        NaN         NaN  33dc1e91-7776-3f17-871a-b44246a5957a  \n",
       "1       0.00    Z306T5M        1.00  94cd6d8f-a12e-4382-bf84-3f00dd24829f  \n",
       "2       0.00    Qr4KDlm        1.00  87cd4778-ec57-46fd-864c-cfd21a436638  \n",
       "3        NaN        NaN         NaN  429b8c95-191c-372e-8e60-7a5b5053e579  \n",
       "4       0.00    9wym8Pk        1.00  eed1bede-1718-43c3-a60a-77edc99c9c53  \n",
       "\n",
       "[5 rows x 30 columns]"
      ]
     },
     "execution_count": 28,
     "metadata": {},
     "output_type": "execute_result"
    }
   ],
   "source": [
    "cruce_1 = ap.merge(sml_final[['mvnt_id','psp_amount','gross_amount','fees','taxes','net_amount','mdr','msi','number_msi',\n",
    "                             'receipt_no','status_code']],on='mvnt_id',how='left')\n",
    "cruce_1['transaction_id'] = cruce_1['mvnt_id']\n",
    "cruce_1.head()"
   ]
  },
  {
   "cell_type": "code",
   "execution_count": 29,
   "id": "db61f0bb",
   "metadata": {},
   "outputs": [
    {
     "data": {
      "text/plain": [
       "(10671490, 30)"
      ]
     },
     "execution_count": 29,
     "metadata": {},
     "output_type": "execute_result"
    }
   ],
   "source": [
    "cruce_1.shape"
   ]
  },
  {
   "cell_type": "code",
   "execution_count": 30,
   "id": "4ab2db38",
   "metadata": {},
   "outputs": [
    {
     "data": {
      "text/plain": [
       "Index(['index', 'merchant_id', 'type_request', 'mvnt_id', 'movement_type',\n",
       "       'source_type', 'created_at', 'eff_dt', 'report_date_local',\n",
       "       'payment_date_local', 'status', 'file_name', 'eff_dt_date',\n",
       "       'eff_dt_time', 'created_at_date', 'report_id',\n",
       "       'report_date_local_final', 'payment_date_local_final', 'status_final',\n",
       "       'psp_amount', 'gross_amount', 'fees', 'taxes', 'net_amount', 'mdr',\n",
       "       'msi', 'number_msi', 'receipt_no', 'status_code', 'transaction_id'],\n",
       "      dtype='object')"
      ]
     },
     "execution_count": 30,
     "metadata": {},
     "output_type": "execute_result"
    }
   ],
   "source": [
    "cruce_1.columns"
   ]
  },
  {
   "cell_type": "markdown",
   "id": "052a992b",
   "metadata": {},
   "source": [
    "# DATA PROVISION"
   ]
  },
  {
   "cell_type": "code",
   "execution_count": 3,
   "id": "f328149e",
   "metadata": {},
   "outputs": [],
   "source": [
    "url = r'C:\\Users\\Cristian.Aparicio\\Documents\\PROVISIONES\\2023\\08. AGOSTO\\Provision Agosto 2023 V1.xlsx'"
   ]
  },
  {
   "cell_type": "code",
   "execution_count": 4,
   "id": "ac57d3a8",
   "metadata": {},
   "outputs": [
    {
     "data": {
      "text/plain": [
       "<pandas.io.excel._base.ExcelFile at 0x16643ffaa60>"
      ]
     },
     "execution_count": 4,
     "metadata": {},
     "output_type": "execute_result"
    }
   ],
   "source": [
    "provision_file = pd.ExcelFile(url)\n",
    "provision_file"
   ]
  },
  {
   "cell_type": "code",
   "execution_count": 5,
   "id": "dfa8ac1b",
   "metadata": {},
   "outputs": [
    {
     "data": {
      "text/plain": [
       "['RESUMEN', 'BANORTE', 'ECOMMERCE', 'GRRCN', 'EPA']"
      ]
     },
     "execution_count": 5,
     "metadata": {},
     "output_type": "execute_result"
    }
   ],
   "source": [
    "provision_file.sheet_names"
   ]
  },
  {
   "cell_type": "code",
   "execution_count": 6,
   "id": "71c2ab8a",
   "metadata": {},
   "outputs": [],
   "source": [
    "all_sheets = pd.read_excel(url, sheet_name=[1,2,3,4],\n",
    "                           converters={'AFFILIATION':str,'SUB_AFFILIATION':str,'ORDER_ID':str,'COD_AUTORIZACION':str,\n",
    "                                       'BIN':str,'ULTIMOS_4':str})"
   ]
  },
  {
   "cell_type": "code",
   "execution_count": 7,
   "id": "31a04b3f",
   "metadata": {},
   "outputs": [
    {
     "data": {
      "text/plain": [
       "dict_keys([1, 2, 3, 4])"
      ]
     },
     "execution_count": 7,
     "metadata": {},
     "output_type": "execute_result"
    }
   ],
   "source": [
    "all_sheets.keys()"
   ]
  },
  {
   "cell_type": "code",
   "execution_count": 8,
   "id": "76866b7e",
   "metadata": {},
   "outputs": [
    {
     "data": {
      "text/html": [
       "<div>\n",
       "<style scoped>\n",
       "    .dataframe tbody tr th:only-of-type {\n",
       "        vertical-align: middle;\n",
       "    }\n",
       "\n",
       "    .dataframe tbody tr th {\n",
       "        vertical-align: top;\n",
       "    }\n",
       "\n",
       "    .dataframe thead th {\n",
       "        text-align: right;\n",
       "    }\n",
       "</style>\n",
       "<table border=\"1\" class=\"dataframe\">\n",
       "  <thead>\n",
       "    <tr style=\"text-align: right;\">\n",
       "      <th></th>\n",
       "      <th>level_0</th>\n",
       "      <th>level_1</th>\n",
       "      <th>tablero</th>\n",
       "      <th>fecha_deposito_clip</th>\n",
       "      <th>fecha_trx_clip</th>\n",
       "      <th>affiliation</th>\n",
       "      <th>sub_affiliation</th>\n",
       "      <th>fecha_recepción</th>\n",
       "      <th>nombre_archivo</th>\n",
       "      <th>order_id</th>\n",
       "      <th>...</th>\n",
       "      <th>ultimos_4</th>\n",
       "      <th>status_code</th>\n",
       "      <th>msi</th>\n",
       "      <th>psp</th>\n",
       "      <th>proceso</th>\n",
       "      <th>monto</th>\n",
       "      <th>recuento</th>\n",
       "      <th>adquiriente</th>\n",
       "      <th>transaction_id</th>\n",
       "      <th>nombre_tablero</th>\n",
       "    </tr>\n",
       "  </thead>\n",
       "  <tbody>\n",
       "    <tr>\n",
       "      <th>0</th>\n",
       "      <td>1</td>\n",
       "      <td>0</td>\n",
       "      <td>Missings Banorte Regular</td>\n",
       "      <td>2023-09-01</td>\n",
       "      <td>2023-08-31</td>\n",
       "      <td>7668673</td>\n",
       "      <td>7668673</td>\n",
       "      <td>2023-09-02</td>\n",
       "      <td>PAYCLIP_Settlement_02092023_V1.csv</td>\n",
       "      <td>000000000000</td>\n",
       "      <td>...</td>\n",
       "      <td>84</td>\n",
       "      <td>SETTLED</td>\n",
       "      <td>0</td>\n",
       "      <td>PROSA</td>\n",
       "      <td>AGREGADOR</td>\n",
       "      <td>3,016.00</td>\n",
       "      <td>1</td>\n",
       "      <td>BANORTE</td>\n",
       "      <td>NaN</td>\n",
       "      <td>NaN</td>\n",
       "    </tr>\n",
       "    <tr>\n",
       "      <th>1</th>\n",
       "      <td>1</td>\n",
       "      <td>1</td>\n",
       "      <td>Missings Banorte Regular</td>\n",
       "      <td>2023-09-01</td>\n",
       "      <td>2023-08-31</td>\n",
       "      <td>7927500</td>\n",
       "      <td>7927500</td>\n",
       "      <td>2023-09-02</td>\n",
       "      <td>PAYCLIP_Settlement_02092023_V1.csv</td>\n",
       "      <td>000000000000</td>\n",
       "      <td>...</td>\n",
       "      <td>17</td>\n",
       "      <td>SETTLED</td>\n",
       "      <td>0</td>\n",
       "      <td>PROSA</td>\n",
       "      <td>AGREGADOR</td>\n",
       "      <td>275.00</td>\n",
       "      <td>1</td>\n",
       "      <td>BANORTE</td>\n",
       "      <td>NaN</td>\n",
       "      <td>NaN</td>\n",
       "    </tr>\n",
       "    <tr>\n",
       "      <th>2</th>\n",
       "      <td>1</td>\n",
       "      <td>2</td>\n",
       "      <td>Missings Banorte Regular</td>\n",
       "      <td>2023-09-01</td>\n",
       "      <td>2023-08-31</td>\n",
       "      <td>7927520</td>\n",
       "      <td>7927520</td>\n",
       "      <td>2023-09-02</td>\n",
       "      <td>PAYCLIP_Settlement_02092023_V1.csv</td>\n",
       "      <td>000000000000</td>\n",
       "      <td>...</td>\n",
       "      <td>85</td>\n",
       "      <td>SETTLED</td>\n",
       "      <td>0</td>\n",
       "      <td>PROSA</td>\n",
       "      <td>AGREGADOR</td>\n",
       "      <td>1,447.00</td>\n",
       "      <td>1</td>\n",
       "      <td>BANORTE</td>\n",
       "      <td>NaN</td>\n",
       "      <td>NaN</td>\n",
       "    </tr>\n",
       "    <tr>\n",
       "      <th>3</th>\n",
       "      <td>1</td>\n",
       "      <td>3</td>\n",
       "      <td>Missings Banorte Regular</td>\n",
       "      <td>2023-09-01</td>\n",
       "      <td>2023-08-31</td>\n",
       "      <td>7927482</td>\n",
       "      <td>7927482</td>\n",
       "      <td>2023-09-02</td>\n",
       "      <td>PAYCLIP_Settlement_02092023_V1.csv</td>\n",
       "      <td>000000000000</td>\n",
       "      <td>...</td>\n",
       "      <td>93</td>\n",
       "      <td>SETTLED</td>\n",
       "      <td>0</td>\n",
       "      <td>PROSA</td>\n",
       "      <td>AGREGADOR</td>\n",
       "      <td>794.00</td>\n",
       "      <td>1</td>\n",
       "      <td>BANORTE</td>\n",
       "      <td>NaN</td>\n",
       "      <td>NaN</td>\n",
       "    </tr>\n",
       "    <tr>\n",
       "      <th>4</th>\n",
       "      <td>1</td>\n",
       "      <td>4</td>\n",
       "      <td>Missings Banorte Regular</td>\n",
       "      <td>2023-09-01</td>\n",
       "      <td>2023-08-31</td>\n",
       "      <td>7927500</td>\n",
       "      <td>7927500</td>\n",
       "      <td>2023-09-02</td>\n",
       "      <td>PAYCLIP_Settlement_02092023_V1.csv</td>\n",
       "      <td>000000000000</td>\n",
       "      <td>...</td>\n",
       "      <td>78</td>\n",
       "      <td>SETTLED</td>\n",
       "      <td>0</td>\n",
       "      <td>PROSA</td>\n",
       "      <td>AGREGADOR</td>\n",
       "      <td>301.00</td>\n",
       "      <td>1</td>\n",
       "      <td>BANORTE</td>\n",
       "      <td>NaN</td>\n",
       "      <td>NaN</td>\n",
       "    </tr>\n",
       "  </tbody>\n",
       "</table>\n",
       "<p>5 rows × 22 columns</p>\n",
       "</div>"
      ],
      "text/plain": [
       "   level_0  level_1                   tablero fecha_deposito_clip  \\\n",
       "0        1        0  Missings Banorte Regular          2023-09-01   \n",
       "1        1        1  Missings Banorte Regular          2023-09-01   \n",
       "2        1        2  Missings Banorte Regular          2023-09-01   \n",
       "3        1        3  Missings Banorte Regular          2023-09-01   \n",
       "4        1        4  Missings Banorte Regular          2023-09-01   \n",
       "\n",
       "  fecha_trx_clip affiliation sub_affiliation fecha_recepción  \\\n",
       "0     2023-08-31     7668673         7668673      2023-09-02   \n",
       "1     2023-08-31     7927500         7927500      2023-09-02   \n",
       "2     2023-08-31     7927520         7927520      2023-09-02   \n",
       "3     2023-08-31     7927482         7927482      2023-09-02   \n",
       "4     2023-08-31     7927500         7927500      2023-09-02   \n",
       "\n",
       "                       nombre_archivo      order_id  ... ultimos_4  \\\n",
       "0  PAYCLIP_Settlement_02092023_V1.csv  000000000000  ...        84   \n",
       "1  PAYCLIP_Settlement_02092023_V1.csv  000000000000  ...        17   \n",
       "2  PAYCLIP_Settlement_02092023_V1.csv  000000000000  ...        85   \n",
       "3  PAYCLIP_Settlement_02092023_V1.csv  000000000000  ...        93   \n",
       "4  PAYCLIP_Settlement_02092023_V1.csv  000000000000  ...        78   \n",
       "\n",
       "  status_code msi    psp    proceso    monto recuento  adquiriente  \\\n",
       "0     SETTLED   0  PROSA  AGREGADOR 3,016.00        1      BANORTE   \n",
       "1     SETTLED   0  PROSA  AGREGADOR   275.00        1      BANORTE   \n",
       "2     SETTLED   0  PROSA  AGREGADOR 1,447.00        1      BANORTE   \n",
       "3     SETTLED   0  PROSA  AGREGADOR   794.00        1      BANORTE   \n",
       "4     SETTLED   0  PROSA  AGREGADOR   301.00        1      BANORTE   \n",
       "\n",
       "   transaction_id nombre_tablero  \n",
       "0             NaN            NaN  \n",
       "1             NaN            NaN  \n",
       "2             NaN            NaN  \n",
       "3             NaN            NaN  \n",
       "4             NaN            NaN  \n",
       "\n",
       "[5 rows x 22 columns]"
      ]
     },
     "execution_count": 8,
     "metadata": {},
     "output_type": "execute_result"
    }
   ],
   "source": [
    "provision = pd.concat(all_sheets).reset_index()\n",
    "provision.columns = provision.columns.str.strip().str.lower() \n",
    "provision.head()"
   ]
  },
  {
   "cell_type": "code",
   "execution_count": 9,
   "id": "f3f765ef",
   "metadata": {},
   "outputs": [
    {
     "data": {
      "text/plain": [
       "(526016, 22)"
      ]
     },
     "execution_count": 9,
     "metadata": {},
     "output_type": "execute_result"
    }
   ],
   "source": [
    "provision.shape"
   ]
  },
  {
   "cell_type": "markdown",
   "id": "c337bb22",
   "metadata": {},
   "source": [
    "# CRUCE 2: DATA PROVISION VS CRUCE 1"
   ]
  },
  {
   "cell_type": "code",
   "execution_count": 31,
   "id": "55a73310",
   "metadata": {},
   "outputs": [
    {
     "data": {
      "text/html": [
       "<div>\n",
       "<style scoped>\n",
       "    .dataframe tbody tr th:only-of-type {\n",
       "        vertical-align: middle;\n",
       "    }\n",
       "\n",
       "    .dataframe tbody tr th {\n",
       "        vertical-align: top;\n",
       "    }\n",
       "\n",
       "    .dataframe thead th {\n",
       "        text-align: right;\n",
       "    }\n",
       "</style>\n",
       "<table border=\"1\" class=\"dataframe\">\n",
       "  <thead>\n",
       "    <tr style=\"text-align: right;\">\n",
       "      <th></th>\n",
       "      <th>level_0</th>\n",
       "      <th>level_1</th>\n",
       "      <th>tablero</th>\n",
       "      <th>fecha_deposito_clip</th>\n",
       "      <th>fecha_trx_clip</th>\n",
       "      <th>affiliation</th>\n",
       "      <th>sub_affiliation</th>\n",
       "      <th>fecha_recepción</th>\n",
       "      <th>nombre_archivo</th>\n",
       "      <th>order_id</th>\n",
       "      <th>...</th>\n",
       "      <th>mvnt_id</th>\n",
       "      <th>report_id</th>\n",
       "      <th>report_date_local_final</th>\n",
       "      <th>payment_date_local_final</th>\n",
       "      <th>status_final</th>\n",
       "      <th>fees</th>\n",
       "      <th>taxes</th>\n",
       "      <th>eff_dt_date</th>\n",
       "      <th>movement_type</th>\n",
       "      <th>source_type</th>\n",
       "    </tr>\n",
       "  </thead>\n",
       "  <tbody>\n",
       "    <tr>\n",
       "      <th>0</th>\n",
       "      <td>1</td>\n",
       "      <td>0</td>\n",
       "      <td>Missings Banorte Regular</td>\n",
       "      <td>2023-09-01</td>\n",
       "      <td>2023-08-31</td>\n",
       "      <td>7668673</td>\n",
       "      <td>7668673</td>\n",
       "      <td>2023-09-02</td>\n",
       "      <td>PAYCLIP_Settlement_02092023_V1.csv</td>\n",
       "      <td>000000000000</td>\n",
       "      <td>...</td>\n",
       "      <td>NaN</td>\n",
       "      <td>not_found</td>\n",
       "      <td>1990-01-01</td>\n",
       "      <td>1990-01-01</td>\n",
       "      <td>not_found</td>\n",
       "      <td>NaN</td>\n",
       "      <td>NaN</td>\n",
       "      <td>NaT</td>\n",
       "      <td>not_found</td>\n",
       "      <td>not_found</td>\n",
       "    </tr>\n",
       "    <tr>\n",
       "      <th>1</th>\n",
       "      <td>1</td>\n",
       "      <td>1</td>\n",
       "      <td>Missings Banorte Regular</td>\n",
       "      <td>2023-09-01</td>\n",
       "      <td>2023-08-31</td>\n",
       "      <td>7927500</td>\n",
       "      <td>7927500</td>\n",
       "      <td>2023-09-02</td>\n",
       "      <td>PAYCLIP_Settlement_02092023_V1.csv</td>\n",
       "      <td>000000000000</td>\n",
       "      <td>...</td>\n",
       "      <td>NaN</td>\n",
       "      <td>not_found</td>\n",
       "      <td>1990-01-01</td>\n",
       "      <td>1990-01-01</td>\n",
       "      <td>not_found</td>\n",
       "      <td>NaN</td>\n",
       "      <td>NaN</td>\n",
       "      <td>NaT</td>\n",
       "      <td>not_found</td>\n",
       "      <td>not_found</td>\n",
       "    </tr>\n",
       "    <tr>\n",
       "      <th>2</th>\n",
       "      <td>1</td>\n",
       "      <td>2</td>\n",
       "      <td>Missings Banorte Regular</td>\n",
       "      <td>2023-09-01</td>\n",
       "      <td>2023-08-31</td>\n",
       "      <td>7927520</td>\n",
       "      <td>7927520</td>\n",
       "      <td>2023-09-02</td>\n",
       "      <td>PAYCLIP_Settlement_02092023_V1.csv</td>\n",
       "      <td>000000000000</td>\n",
       "      <td>...</td>\n",
       "      <td>NaN</td>\n",
       "      <td>not_found</td>\n",
       "      <td>1990-01-01</td>\n",
       "      <td>1990-01-01</td>\n",
       "      <td>not_found</td>\n",
       "      <td>NaN</td>\n",
       "      <td>NaN</td>\n",
       "      <td>NaT</td>\n",
       "      <td>not_found</td>\n",
       "      <td>not_found</td>\n",
       "    </tr>\n",
       "    <tr>\n",
       "      <th>3</th>\n",
       "      <td>1</td>\n",
       "      <td>3</td>\n",
       "      <td>Missings Banorte Regular</td>\n",
       "      <td>2023-09-01</td>\n",
       "      <td>2023-08-31</td>\n",
       "      <td>7927482</td>\n",
       "      <td>7927482</td>\n",
       "      <td>2023-09-02</td>\n",
       "      <td>PAYCLIP_Settlement_02092023_V1.csv</td>\n",
       "      <td>000000000000</td>\n",
       "      <td>...</td>\n",
       "      <td>NaN</td>\n",
       "      <td>not_found</td>\n",
       "      <td>1990-01-01</td>\n",
       "      <td>1990-01-01</td>\n",
       "      <td>not_found</td>\n",
       "      <td>NaN</td>\n",
       "      <td>NaN</td>\n",
       "      <td>NaT</td>\n",
       "      <td>not_found</td>\n",
       "      <td>not_found</td>\n",
       "    </tr>\n",
       "    <tr>\n",
       "      <th>4</th>\n",
       "      <td>1</td>\n",
       "      <td>4</td>\n",
       "      <td>Missings Banorte Regular</td>\n",
       "      <td>2023-09-01</td>\n",
       "      <td>2023-08-31</td>\n",
       "      <td>7927500</td>\n",
       "      <td>7927500</td>\n",
       "      <td>2023-09-02</td>\n",
       "      <td>PAYCLIP_Settlement_02092023_V1.csv</td>\n",
       "      <td>000000000000</td>\n",
       "      <td>...</td>\n",
       "      <td>NaN</td>\n",
       "      <td>not_found</td>\n",
       "      <td>1990-01-01</td>\n",
       "      <td>1990-01-01</td>\n",
       "      <td>not_found</td>\n",
       "      <td>NaN</td>\n",
       "      <td>NaN</td>\n",
       "      <td>NaT</td>\n",
       "      <td>not_found</td>\n",
       "      <td>not_found</td>\n",
       "    </tr>\n",
       "  </tbody>\n",
       "</table>\n",
       "<p>5 rows × 32 columns</p>\n",
       "</div>"
      ],
      "text/plain": [
       "   level_0  level_1                   tablero fecha_deposito_clip  \\\n",
       "0        1        0  Missings Banorte Regular          2023-09-01   \n",
       "1        1        1  Missings Banorte Regular          2023-09-01   \n",
       "2        1        2  Missings Banorte Regular          2023-09-01   \n",
       "3        1        3  Missings Banorte Regular          2023-09-01   \n",
       "4        1        4  Missings Banorte Regular          2023-09-01   \n",
       "\n",
       "  fecha_trx_clip affiliation sub_affiliation fecha_recepción  \\\n",
       "0     2023-08-31     7668673         7668673      2023-09-02   \n",
       "1     2023-08-31     7927500         7927500      2023-09-02   \n",
       "2     2023-08-31     7927520         7927520      2023-09-02   \n",
       "3     2023-08-31     7927482         7927482      2023-09-02   \n",
       "4     2023-08-31     7927500         7927500      2023-09-02   \n",
       "\n",
       "                       nombre_archivo      order_id  ... mvnt_id  report_id  \\\n",
       "0  PAYCLIP_Settlement_02092023_V1.csv  000000000000  ...     NaN  not_found   \n",
       "1  PAYCLIP_Settlement_02092023_V1.csv  000000000000  ...     NaN  not_found   \n",
       "2  PAYCLIP_Settlement_02092023_V1.csv  000000000000  ...     NaN  not_found   \n",
       "3  PAYCLIP_Settlement_02092023_V1.csv  000000000000  ...     NaN  not_found   \n",
       "4  PAYCLIP_Settlement_02092023_V1.csv  000000000000  ...     NaN  not_found   \n",
       "\n",
       "  report_date_local_final payment_date_local_final  status_final fees taxes  \\\n",
       "0              1990-01-01               1990-01-01     not_found  NaN   NaN   \n",
       "1              1990-01-01               1990-01-01     not_found  NaN   NaN   \n",
       "2              1990-01-01               1990-01-01     not_found  NaN   NaN   \n",
       "3              1990-01-01               1990-01-01     not_found  NaN   NaN   \n",
       "4              1990-01-01               1990-01-01     not_found  NaN   NaN   \n",
       "\n",
       "   eff_dt_date  movement_type source_type  \n",
       "0          NaT      not_found   not_found  \n",
       "1          NaT      not_found   not_found  \n",
       "2          NaT      not_found   not_found  \n",
       "3          NaT      not_found   not_found  \n",
       "4          NaT      not_found   not_found  \n",
       "\n",
       "[5 rows x 32 columns]"
      ]
     },
     "execution_count": 31,
     "metadata": {},
     "output_type": "execute_result"
    }
   ],
   "source": [
    "cruce_2 = provision.merge(cruce_1[['transaction_id','mvnt_id','report_id','report_date_local_final','payment_date_local_final',\n",
    "                                   'status_final','fees','taxes','eff_dt_date','movement_type','source_type']],\n",
    "                          on='transaction_id',how='left')\n",
    "cruce_2['report_id'].fillna('not_found',inplace=True)\n",
    "cruce_2['movement_type'].fillna('not_found',inplace=True)\n",
    "cruce_2['source_type'].fillna('not_found',inplace=True)\n",
    "cruce_2['status_final'].fillna('not_found',inplace=True)\n",
    "cruce_2['report_date_local_final'].fillna('1990-01-01',inplace=True)\n",
    "cruce_2['payment_date_local_final'].fillna('1990-01-01',inplace=True)\n",
    "cruce_2['report_date_local_final'] =  pd.to_datetime(cruce_2['report_date_local_final'])\n",
    "cruce_2['payment_date_local_final'] =  pd.to_datetime(cruce_2['payment_date_local_final'])\n",
    "cruce_2.head()"
   ]
  },
  {
   "cell_type": "code",
   "execution_count": 32,
   "id": "8fdfba12",
   "metadata": {},
   "outputs": [
    {
     "data": {
      "text/plain": [
       "(526018, 32)"
      ]
     },
     "execution_count": 32,
     "metadata": {},
     "output_type": "execute_result"
    }
   ],
   "source": [
    "cruce_2.shape"
   ]
  },
  {
   "cell_type": "code",
   "execution_count": 33,
   "id": "bafecb0a",
   "metadata": {},
   "outputs": [
    {
     "data": {
      "text/plain": [
       "array(['not_found', 'REGULAR_PYMT_RQ', 'FAST_PYMT_RQ',\n",
       "       'DEFERRED_REGULAR_PYMNT_RQ', 'DEFERRED_FAST_PYMNT_RQ', 'CANCEL_RQ'],\n",
       "      dtype=object)"
      ]
     },
     "execution_count": 33,
     "metadata": {},
     "output_type": "execute_result"
    }
   ],
   "source": [
    "cruce_2['movement_type'].unique()"
   ]
  },
  {
   "cell_type": "code",
   "execution_count": 34,
   "id": "64aeba02",
   "metadata": {},
   "outputs": [
    {
     "data": {
      "text/plain": [
       "array(['not_found', 'SETT', 'PYMT'], dtype=object)"
      ]
     },
     "execution_count": 34,
     "metadata": {},
     "output_type": "execute_result"
    }
   ],
   "source": [
    "cruce_2['source_type'].unique()"
   ]
  },
  {
   "cell_type": "code",
   "execution_count": 35,
   "id": "ceeab129",
   "metadata": {},
   "outputs": [
    {
     "data": {
      "text/plain": [
       "array([1, 2, 3, 4], dtype=int64)"
      ]
     },
     "execution_count": 35,
     "metadata": {},
     "output_type": "execute_result"
    }
   ],
   "source": [
    "cruce_2['level_0'].unique()"
   ]
  },
  {
   "cell_type": "markdown",
   "id": "6a0638a4",
   "metadata": {},
   "source": [
    "# EXCEL FINAL"
   ]
  },
  {
   "cell_type": "code",
   "execution_count": 36,
   "id": "f51e5a8e",
   "metadata": {},
   "outputs": [],
   "source": [
    "grouped = cruce_2.groupby(cruce_2.level_0)"
   ]
  },
  {
   "cell_type": "code",
   "execution_count": 37,
   "id": "e7abd354",
   "metadata": {},
   "outputs": [],
   "source": [
    "group_1 = grouped.get_group(1)\n",
    "group_2 = grouped.get_group(2)\n",
    "group_3 = grouped.get_group(3)\n",
    "group_4 = grouped.get_group(4)\n",
    "# group_5 = grouped.get_group(5)\n",
    "# group_6 = grouped.get_group(6)\n",
    "# group_7 = grouped.get_group(7)"
   ]
  },
  {
   "cell_type": "code",
   "execution_count": 38,
   "id": "dc6029be",
   "metadata": {},
   "outputs": [],
   "source": [
    "group_1.to_csv('1.csv',index=False)\n",
    "group_2.to_csv('2.csv',index=False)\n",
    "group_3.to_csv('3.csv',index=False)\n",
    "group_4.to_csv('4.csv',index=False)\n",
    "# group_5.to_csv('5.csv',index=False)\n",
    "# group_6.to_csv('6.csv',index=False)\n",
    "# group_7.to_csv('7.csv',index=False)"
   ]
  },
  {
   "cell_type": "code",
   "execution_count": 39,
   "id": "90ede6ce",
   "metadata": {},
   "outputs": [],
   "source": [
    "writer = pd.ExcelWriter('Data_final_provision_agosto_2023.xlsx',\n",
    "                        engine='xlsxwriter',\n",
    "                        engine_kwargs={'options': {'encoding':'utf-8'}})\n",
    "group_1.to_excel(writer, sheet_name='1', index=False)\n",
    "group_2.to_excel(writer, sheet_name='2', index=False)\n",
    "group_3.to_excel(writer, sheet_name='3', index=False)\n",
    "group_4.to_excel(writer, sheet_name='4', index=False)\n",
    "# group_5.to_excel(writer, sheet_name='5', index=False)\n",
    "# group_6.to_excel(writer, sheet_name='6', index=False)\n",
    "# group_7.to_excel(writer, sheet_name='7', index=False)\n",
    "writer.close()"
   ]
  },
  {
   "cell_type": "code",
   "execution_count": null,
   "id": "3b20b16b",
   "metadata": {},
   "outputs": [],
   "source": []
  }
 ],
 "metadata": {
  "kernelspec": {
   "display_name": "Python 3 (ipykernel)",
   "language": "python",
   "name": "python3"
  },
  "language_info": {
   "codemirror_mode": {
    "name": "ipython",
    "version": 3
   },
   "file_extension": ".py",
   "mimetype": "text/x-python",
   "name": "python",
   "nbconvert_exporter": "python",
   "pygments_lexer": "ipython3",
   "version": "3.9.17"
  }
 },
 "nbformat": 4,
 "nbformat_minor": 5
}
