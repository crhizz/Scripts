{
 "cells": [
  {
   "cell_type": "code",
   "execution_count": 1,
   "metadata": {},
   "outputs": [
    {
     "data": {
      "text/plain": [
       "datetime.timedelta(days=1)"
      ]
     },
     "execution_count": 1,
     "metadata": {},
     "output_type": "execute_result"
    }
   ],
   "source": [
    "import pandas as pd\n",
    "import numpy as np\n",
    "from openpyxl import load_workbook\n",
    "import glob\n",
    "import os\n",
    "import datetime\n",
    "pd.options.display.float_format = '{:,.2f}'.format\n",
    "datetime.timedelta(days=1)\n",
    "datetime.timedelta(1)"
   ]
  },
  {
   "cell_type": "markdown",
   "metadata": {},
   "source": [
    "# SETTLEMENT"
   ]
  },
  {
   "cell_type": "code",
   "execution_count": 2,
   "metadata": {},
   "outputs": [],
   "source": [
    "start_date = '2023-11-01'\n",
    "final_date = '2023-11-30'"
   ]
  },
  {
   "cell_type": "code",
   "execution_count": 3,
   "metadata": {},
   "outputs": [
    {
     "data": {
      "text/plain": [
       "['C:\\\\Users\\\\Cristian.Aparicio\\\\Documents\\\\DISPERSIONES\\\\2023\\\\11. NOVIEMBRE\\\\QUERIES\\\\SETTLEMENT 2023-11-01.csv',\n",
       " 'C:\\\\Users\\\\Cristian.Aparicio\\\\Documents\\\\DISPERSIONES\\\\2023\\\\11. NOVIEMBRE\\\\QUERIES\\\\SETTLEMENT 2023-11-02.csv',\n",
       " 'C:\\\\Users\\\\Cristian.Aparicio\\\\Documents\\\\DISPERSIONES\\\\2023\\\\11. NOVIEMBRE\\\\QUERIES\\\\SETTLEMENT 2023-11-03.csv',\n",
       " 'C:\\\\Users\\\\Cristian.Aparicio\\\\Documents\\\\DISPERSIONES\\\\2023\\\\11. NOVIEMBRE\\\\QUERIES\\\\SETTLEMENT 2023-11-04.csv',\n",
       " 'C:\\\\Users\\\\Cristian.Aparicio\\\\Documents\\\\DISPERSIONES\\\\2023\\\\11. NOVIEMBRE\\\\QUERIES\\\\SETTLEMENT 2023-11-05.csv',\n",
       " 'C:\\\\Users\\\\Cristian.Aparicio\\\\Documents\\\\DISPERSIONES\\\\2023\\\\11. NOVIEMBRE\\\\QUERIES\\\\SETTLEMENT 2023-11-06.csv',\n",
       " 'C:\\\\Users\\\\Cristian.Aparicio\\\\Documents\\\\DISPERSIONES\\\\2023\\\\11. NOVIEMBRE\\\\QUERIES\\\\SETTLEMENT 2023-11-07.csv',\n",
       " 'C:\\\\Users\\\\Cristian.Aparicio\\\\Documents\\\\DISPERSIONES\\\\2023\\\\11. NOVIEMBRE\\\\QUERIES\\\\SETTLEMENT 2023-11-08.csv',\n",
       " 'C:\\\\Users\\\\Cristian.Aparicio\\\\Documents\\\\DISPERSIONES\\\\2023\\\\11. NOVIEMBRE\\\\QUERIES\\\\SETTLEMENT 2023-11-09.csv',\n",
       " 'C:\\\\Users\\\\Cristian.Aparicio\\\\Documents\\\\DISPERSIONES\\\\2023\\\\11. NOVIEMBRE\\\\QUERIES\\\\SETTLEMENT 2023-11-10.csv',\n",
       " 'C:\\\\Users\\\\Cristian.Aparicio\\\\Documents\\\\DISPERSIONES\\\\2023\\\\11. NOVIEMBRE\\\\QUERIES\\\\SETTLEMENT 2023-11-11.csv',\n",
       " 'C:\\\\Users\\\\Cristian.Aparicio\\\\Documents\\\\DISPERSIONES\\\\2023\\\\11. NOVIEMBRE\\\\QUERIES\\\\SETTLEMENT 2023-11-12.csv',\n",
       " 'C:\\\\Users\\\\Cristian.Aparicio\\\\Documents\\\\DISPERSIONES\\\\2023\\\\11. NOVIEMBRE\\\\QUERIES\\\\SETTLEMENT 2023-11-13.csv',\n",
       " 'C:\\\\Users\\\\Cristian.Aparicio\\\\Documents\\\\DISPERSIONES\\\\2023\\\\11. NOVIEMBRE\\\\QUERIES\\\\SETTLEMENT 2023-11-14.csv',\n",
       " 'C:\\\\Users\\\\Cristian.Aparicio\\\\Documents\\\\DISPERSIONES\\\\2023\\\\11. NOVIEMBRE\\\\QUERIES\\\\SETTLEMENT 2023-11-15.csv',\n",
       " 'C:\\\\Users\\\\Cristian.Aparicio\\\\Documents\\\\DISPERSIONES\\\\2023\\\\11. NOVIEMBRE\\\\QUERIES\\\\SETTLEMENT 2023-11-16.csv',\n",
       " 'C:\\\\Users\\\\Cristian.Aparicio\\\\Documents\\\\DISPERSIONES\\\\2023\\\\11. NOVIEMBRE\\\\QUERIES\\\\SETTLEMENT 2023-11-17.csv',\n",
       " 'C:\\\\Users\\\\Cristian.Aparicio\\\\Documents\\\\DISPERSIONES\\\\2023\\\\11. NOVIEMBRE\\\\QUERIES\\\\SETTLEMENT 2023-11-18.csv',\n",
       " 'C:\\\\Users\\\\Cristian.Aparicio\\\\Documents\\\\DISPERSIONES\\\\2023\\\\11. NOVIEMBRE\\\\QUERIES\\\\SETTLEMENT 2023-11-19.csv',\n",
       " 'C:\\\\Users\\\\Cristian.Aparicio\\\\Documents\\\\DISPERSIONES\\\\2023\\\\11. NOVIEMBRE\\\\QUERIES\\\\SETTLEMENT 2023-11-20.csv',\n",
       " 'C:\\\\Users\\\\Cristian.Aparicio\\\\Documents\\\\DISPERSIONES\\\\2023\\\\11. NOVIEMBRE\\\\QUERIES\\\\SETTLEMENT 2023-11-21.csv',\n",
       " 'C:\\\\Users\\\\Cristian.Aparicio\\\\Documents\\\\DISPERSIONES\\\\2023\\\\11. NOVIEMBRE\\\\QUERIES\\\\SETTLEMENT 2023-11-22.csv',\n",
       " 'C:\\\\Users\\\\Cristian.Aparicio\\\\Documents\\\\DISPERSIONES\\\\2023\\\\11. NOVIEMBRE\\\\QUERIES\\\\SETTLEMENT 2023-11-23.csv',\n",
       " 'C:\\\\Users\\\\Cristian.Aparicio\\\\Documents\\\\DISPERSIONES\\\\2023\\\\11. NOVIEMBRE\\\\QUERIES\\\\SETTLEMENT 2023-11-24.csv',\n",
       " 'C:\\\\Users\\\\Cristian.Aparicio\\\\Documents\\\\DISPERSIONES\\\\2023\\\\11. NOVIEMBRE\\\\QUERIES\\\\SETTLEMENT 2023-11-25.csv',\n",
       " 'C:\\\\Users\\\\Cristian.Aparicio\\\\Documents\\\\DISPERSIONES\\\\2023\\\\11. NOVIEMBRE\\\\QUERIES\\\\SETTLEMENT 2023-11-26.csv',\n",
       " 'C:\\\\Users\\\\Cristian.Aparicio\\\\Documents\\\\DISPERSIONES\\\\2023\\\\11. NOVIEMBRE\\\\QUERIES\\\\SETTLEMENT 2023-11-27.csv',\n",
       " 'C:\\\\Users\\\\Cristian.Aparicio\\\\Documents\\\\DISPERSIONES\\\\2023\\\\11. NOVIEMBRE\\\\QUERIES\\\\SETTLEMENT 2023-11-28.csv',\n",
       " 'C:\\\\Users\\\\Cristian.Aparicio\\\\Documents\\\\DISPERSIONES\\\\2023\\\\11. NOVIEMBRE\\\\QUERIES\\\\SETTLEMENT 2023-11-29.csv',\n",
       " 'C:\\\\Users\\\\Cristian.Aparicio\\\\Documents\\\\DISPERSIONES\\\\2023\\\\11. NOVIEMBRE\\\\QUERIES\\\\SETTLEMENT 2023-11-30.csv']"
      ]
     },
     "execution_count": 3,
     "metadata": {},
     "output_type": "execute_result"
    }
   ],
   "source": [
    "allfiles_settled = glob.glob(r'C:\\Users\\Cristian.Aparicio\\Documents\\DISPERSIONES\\2023\\11. NOVIEMBRE\\QUERIES\\*.csv', recursive=False)\n",
    "allfiles_settled"
   ]
  },
  {
   "cell_type": "code",
   "execution_count": 4,
   "metadata": {},
   "outputs": [],
   "source": [
    "settled = pd.concat([pd.read_csv(f).assign(file_name=os.path.basename(f)) for f in allfiles_settled])\n",
    "settled['Date_file'] = settled[\"file_name\"].str[-14:-4]\n",
    "settled['Date_file']= pd.to_datetime(settled['Date_file'])\n",
    "settled['report_date_local']= pd.to_datetime(settled['report_date_local'])"
   ]
  },
  {
   "cell_type": "code",
   "execution_count": 5,
   "metadata": {},
   "outputs": [
    {
     "data": {
      "text/html": [
       "<div>\n",
       "<style scoped>\n",
       "    .dataframe tbody tr th:only-of-type {\n",
       "        vertical-align: middle;\n",
       "    }\n",
       "\n",
       "    .dataframe tbody tr th {\n",
       "        vertical-align: top;\n",
       "    }\n",
       "\n",
       "    .dataframe thead th {\n",
       "        text-align: right;\n",
       "    }\n",
       "</style>\n",
       "<table border=\"1\" class=\"dataframe\">\n",
       "  <thead>\n",
       "    <tr style=\"text-align: right;\">\n",
       "      <th></th>\n",
       "      <th>merchant_id</th>\n",
       "      <th>merchant_name</th>\n",
       "      <th>user_email</th>\n",
       "      <th>report_id</th>\n",
       "      <th>report_date_local</th>\n",
       "      <th>total_transactions</th>\n",
       "      <th>total_fees_charged</th>\n",
       "      <th>total_taxes</th>\n",
       "      <th>applied_fees_benefits</th>\n",
       "      <th>applied_taxes_benefits</th>\n",
       "      <th>...</th>\n",
       "      <th>total_retained</th>\n",
       "      <th>tipopago</th>\n",
       "      <th>total_due</th>\n",
       "      <th>type</th>\n",
       "      <th>created_date</th>\n",
       "      <th>created_time</th>\n",
       "      <th>updated_date</th>\n",
       "      <th>updated_time</th>\n",
       "      <th>file_name</th>\n",
       "      <th>Date_file</th>\n",
       "    </tr>\n",
       "  </thead>\n",
       "  <tbody>\n",
       "  </tbody>\n",
       "</table>\n",
       "<p>0 rows × 27 columns</p>\n",
       "</div>"
      ],
      "text/plain": [
       "Empty DataFrame\n",
       "Columns: [merchant_id, merchant_name, user_email, report_id, report_date_local, total_transactions, total_fees_charged, total_taxes, applied_fees_benefits, applied_taxes_benefits, fee_direct_deposit, taxes_direct_deposit, total_adjustments, total_adjustment_fees_charged, total_adjustment_taxes, cobranza, total_released, total_retained, tipopago, total_due, type, created_date, created_time, updated_date, updated_time, file_name, Date_file]\n",
       "Index: []\n",
       "\n",
       "[0 rows x 27 columns]"
      ]
     },
     "execution_count": 5,
     "metadata": {},
     "output_type": "execute_result"
    }
   ],
   "source": [
    "settled.reset_index(inplace=True)\n",
    "settled.drop(['index'],axis=1,inplace=True)\n",
    "settled.head()"
   ]
  },
  {
   "cell_type": "code",
   "execution_count": 6,
   "metadata": {},
   "outputs": [
    {
     "data": {
      "text/plain": [
       "(0, 27)"
      ]
     },
     "execution_count": 6,
     "metadata": {},
     "output_type": "execute_result"
    }
   ],
   "source": [
    "settled.shape"
   ]
  },
  {
   "cell_type": "markdown",
   "metadata": {},
   "source": [
    "### CURRENT MONTH"
   ]
  },
  {
   "cell_type": "code",
   "execution_count": 7,
   "metadata": {},
   "outputs": [
    {
     "data": {
      "text/html": [
       "<div>\n",
       "<style scoped>\n",
       "    .dataframe tbody tr th:only-of-type {\n",
       "        vertical-align: middle;\n",
       "    }\n",
       "\n",
       "    .dataframe tbody tr th {\n",
       "        vertical-align: top;\n",
       "    }\n",
       "\n",
       "    .dataframe thead th {\n",
       "        text-align: right;\n",
       "    }\n",
       "</style>\n",
       "<table border=\"1\" class=\"dataframe\">\n",
       "  <thead>\n",
       "    <tr style=\"text-align: right;\">\n",
       "      <th></th>\n",
       "      <th>merchant_id</th>\n",
       "      <th>merchant_name</th>\n",
       "      <th>user_email</th>\n",
       "      <th>report_id</th>\n",
       "      <th>report_date_local</th>\n",
       "      <th>total_transactions</th>\n",
       "      <th>total_fees_charged</th>\n",
       "      <th>total_taxes</th>\n",
       "      <th>applied_fees_benefits</th>\n",
       "      <th>applied_taxes_benefits</th>\n",
       "      <th>...</th>\n",
       "      <th>total_retained</th>\n",
       "      <th>tipopago</th>\n",
       "      <th>total_due</th>\n",
       "      <th>type</th>\n",
       "      <th>created_date</th>\n",
       "      <th>created_time</th>\n",
       "      <th>updated_date</th>\n",
       "      <th>updated_time</th>\n",
       "      <th>file_name</th>\n",
       "      <th>Date_file</th>\n",
       "    </tr>\n",
       "  </thead>\n",
       "  <tbody>\n",
       "  </tbody>\n",
       "</table>\n",
       "<p>0 rows × 27 columns</p>\n",
       "</div>"
      ],
      "text/plain": [
       "Empty DataFrame\n",
       "Columns: [merchant_id, merchant_name, user_email, report_id, report_date_local, total_transactions, total_fees_charged, total_taxes, applied_fees_benefits, applied_taxes_benefits, fee_direct_deposit, taxes_direct_deposit, total_adjustments, total_adjustment_fees_charged, total_adjustment_taxes, cobranza, total_released, total_retained, tipopago, total_due, type, created_date, created_time, updated_date, updated_time, file_name, Date_file]\n",
       "Index: []\n",
       "\n",
       "[0 rows x 27 columns]"
      ]
     },
     "execution_count": 7,
     "metadata": {},
     "output_type": "execute_result"
    }
   ],
   "source": [
    "settled_current_month = settled[(settled['report_date_local'] >= start_date) & (settled['report_date_local'] <= final_date)]\n",
    "settled_current_month.head()"
   ]
  },
  {
   "cell_type": "code",
   "execution_count": 8,
   "metadata": {},
   "outputs": [
    {
     "data": {
      "text/plain": [
       "(0, 27)"
      ]
     },
     "execution_count": 8,
     "metadata": {},
     "output_type": "execute_result"
    }
   ],
   "source": [
    "settled_current_month.shape"
   ]
  },
  {
   "cell_type": "code",
   "execution_count": 9,
   "metadata": {},
   "outputs": [
    {
     "data": {
      "text/plain": [
       "merchant_id                              object\n",
       "merchant_name                            object\n",
       "user_email                               object\n",
       "report_id                                object\n",
       "report_date_local                datetime64[ns]\n",
       "total_transactions                       object\n",
       "total_fees_charged                       object\n",
       "total_taxes                              object\n",
       "applied_fees_benefits                    object\n",
       "applied_taxes_benefits                   object\n",
       "fee_direct_deposit                       object\n",
       "taxes_direct_deposit                     object\n",
       "total_adjustments                        object\n",
       "total_adjustment_fees_charged            object\n",
       "total_adjustment_taxes                   object\n",
       "cobranza                                 object\n",
       "total_released                           object\n",
       "total_retained                           object\n",
       "tipopago                                 object\n",
       "total_due                                object\n",
       "type                                     object\n",
       "created_date                             object\n",
       "created_time                             object\n",
       "updated_date                             object\n",
       "updated_time                             object\n",
       "file_name                                object\n",
       "Date_file                        datetime64[ns]\n",
       "dtype: object"
      ]
     },
     "execution_count": 9,
     "metadata": {},
     "output_type": "execute_result"
    }
   ],
   "source": [
    "settled_current_month.dtypes"
   ]
  },
  {
   "cell_type": "code",
   "execution_count": 10,
   "metadata": {},
   "outputs": [],
   "source": [
    "# def next_date(settled_current_month):\n",
    "#     if settled_current_month['updated_time'] >= '20:00:00':\n",
    "#         return settled_current_month['report_date_local'] + datetime.timedelta(days=1)\n",
    "#     else:\n",
    "#         return settled_current_month['report_date_local']\n",
    "    \n",
    "# settled_current_month['poliza_date'] = settled_current_month.apply(next_date, axis=1)"
   ]
  },
  {
   "cell_type": "code",
   "execution_count": 11,
   "metadata": {},
   "outputs": [],
   "source": [
    "# settled_current_month.head()"
   ]
  },
  {
   "cell_type": "code",
   "execution_count": 12,
   "metadata": {},
   "outputs": [],
   "source": [
    "# settled_current_month.shape"
   ]
  },
  {
   "cell_type": "code",
   "execution_count": 13,
   "metadata": {},
   "outputs": [],
   "source": [
    "# settled_current_month['poliza_date'].unique()"
   ]
  },
  {
   "cell_type": "markdown",
   "metadata": {},
   "source": [
    "### CANCELACIONES"
   ]
  },
  {
   "cell_type": "code",
   "execution_count": 14,
   "metadata": {},
   "outputs": [],
   "source": [
    "settled_current_month.loc[(settled_current_month['total_released'] > 0)\n",
    "                          & (settled_current_month['total_adjustments'] < 0),'canc_1'] = settled_current_month['total_adjustments']\n",
    "settled_current_month['canc_1'].fillna(0,inplace=True)"
   ]
  },
  {
   "cell_type": "code",
   "execution_count": 15,
   "metadata": {},
   "outputs": [],
   "source": [
    "settled_current_month.loc[(settled_current_month['total_released'] > 0)\n",
    "                          & (settled_current_month['total_adjustments'] < 0),'canc_2'] = settled_current_month['total_released']\n",
    "settled_current_month['canc_2'].fillna(0,inplace=True)"
   ]
  },
  {
   "cell_type": "code",
   "execution_count": 16,
   "metadata": {},
   "outputs": [
    {
     "data": {
      "text/html": [
       "<div>\n",
       "<style scoped>\n",
       "    .dataframe tbody tr th:only-of-type {\n",
       "        vertical-align: middle;\n",
       "    }\n",
       "\n",
       "    .dataframe tbody tr th {\n",
       "        vertical-align: top;\n",
       "    }\n",
       "\n",
       "    .dataframe thead th {\n",
       "        text-align: right;\n",
       "    }\n",
       "</style>\n",
       "<table border=\"1\" class=\"dataframe\">\n",
       "  <thead>\n",
       "    <tr style=\"text-align: right;\">\n",
       "      <th></th>\n",
       "      <th>merchant_id</th>\n",
       "      <th>merchant_name</th>\n",
       "      <th>user_email</th>\n",
       "      <th>report_id</th>\n",
       "      <th>report_date_local</th>\n",
       "      <th>total_transactions</th>\n",
       "      <th>total_fees_charged</th>\n",
       "      <th>total_taxes</th>\n",
       "      <th>applied_fees_benefits</th>\n",
       "      <th>applied_taxes_benefits</th>\n",
       "      <th>...</th>\n",
       "      <th>type</th>\n",
       "      <th>created_date</th>\n",
       "      <th>created_time</th>\n",
       "      <th>updated_date</th>\n",
       "      <th>updated_time</th>\n",
       "      <th>file_name</th>\n",
       "      <th>Date_file</th>\n",
       "      <th>canc_1</th>\n",
       "      <th>canc_2</th>\n",
       "      <th>cancelaciones</th>\n",
       "    </tr>\n",
       "  </thead>\n",
       "  <tbody>\n",
       "  </tbody>\n",
       "</table>\n",
       "<p>0 rows × 30 columns</p>\n",
       "</div>"
      ],
      "text/plain": [
       "Empty DataFrame\n",
       "Columns: [merchant_id, merchant_name, user_email, report_id, report_date_local, total_transactions, total_fees_charged, total_taxes, applied_fees_benefits, applied_taxes_benefits, fee_direct_deposit, taxes_direct_deposit, total_adjustments, total_adjustment_fees_charged, total_adjustment_taxes, cobranza, total_released, total_retained, tipopago, total_due, type, created_date, created_time, updated_date, updated_time, file_name, Date_file, canc_1, canc_2, cancelaciones]\n",
       "Index: []\n",
       "\n",
       "[0 rows x 30 columns]"
      ]
     },
     "execution_count": 16,
     "metadata": {},
     "output_type": "execute_result"
    }
   ],
   "source": [
    "settled_current_month['cancelaciones'] = (-settled_current_month['canc_1']) - (settled_current_month['canc_2'])\n",
    "settled_current_month.head()"
   ]
  },
  {
   "cell_type": "code",
   "execution_count": 17,
   "metadata": {},
   "outputs": [
    {
     "data": {
      "text/plain": [
       "(0, 30)"
      ]
     },
     "execution_count": 17,
     "metadata": {},
     "output_type": "execute_result"
    }
   ],
   "source": [
    "settled_current_month.shape"
   ]
  },
  {
   "cell_type": "code",
   "execution_count": 18,
   "metadata": {},
   "outputs": [
    {
     "data": {
      "text/html": [
       "<div>\n",
       "<style scoped>\n",
       "    .dataframe tbody tr th:only-of-type {\n",
       "        vertical-align: middle;\n",
       "    }\n",
       "\n",
       "    .dataframe tbody tr th {\n",
       "        vertical-align: top;\n",
       "    }\n",
       "\n",
       "    .dataframe thead th {\n",
       "        text-align: right;\n",
       "    }\n",
       "</style>\n",
       "<table border=\"1\" class=\"dataframe\">\n",
       "  <thead>\n",
       "    <tr style=\"text-align: right;\">\n",
       "      <th></th>\n",
       "      <th>merchant_id</th>\n",
       "      <th>merchant_name</th>\n",
       "      <th>user_email</th>\n",
       "      <th>report_id</th>\n",
       "      <th>report_date_local</th>\n",
       "      <th>total_transactions</th>\n",
       "      <th>total_fees_charged</th>\n",
       "      <th>total_taxes</th>\n",
       "      <th>applied_fees_benefits</th>\n",
       "      <th>applied_taxes_benefits</th>\n",
       "      <th>...</th>\n",
       "      <th>type</th>\n",
       "      <th>created_date</th>\n",
       "      <th>created_time</th>\n",
       "      <th>updated_date</th>\n",
       "      <th>updated_time</th>\n",
       "      <th>file_name</th>\n",
       "      <th>Date_file</th>\n",
       "      <th>canc_1</th>\n",
       "      <th>canc_2</th>\n",
       "      <th>cancelaciones</th>\n",
       "    </tr>\n",
       "  </thead>\n",
       "  <tbody>\n",
       "  </tbody>\n",
       "</table>\n",
       "<p>0 rows × 30 columns</p>\n",
       "</div>"
      ],
      "text/plain": [
       "Empty DataFrame\n",
       "Columns: [merchant_id, merchant_name, user_email, report_id, report_date_local, total_transactions, total_fees_charged, total_taxes, applied_fees_benefits, applied_taxes_benefits, fee_direct_deposit, taxes_direct_deposit, total_adjustments, total_adjustment_fees_charged, total_adjustment_taxes, cobranza, total_released, total_retained, tipopago, total_due, type, created_date, created_time, updated_date, updated_time, file_name, Date_file, canc_1, canc_2, cancelaciones]\n",
       "Index: []\n",
       "\n",
       "[0 rows x 30 columns]"
      ]
     },
     "execution_count": 18,
     "metadata": {},
     "output_type": "execute_result"
    }
   ],
   "source": [
    "settled_current_month_final = settled_current_month\n",
    "settled_current_month_final.head()"
   ]
  },
  {
   "cell_type": "code",
   "execution_count": 19,
   "metadata": {},
   "outputs": [
    {
     "data": {
      "text/plain": [
       "(0, 30)"
      ]
     },
     "execution_count": 19,
     "metadata": {},
     "output_type": "execute_result"
    }
   ],
   "source": [
    "settled_current_month_final.shape"
   ]
  },
  {
   "cell_type": "markdown",
   "metadata": {},
   "source": [
    "### TOTAL DUE CALCULADO"
   ]
  },
  {
   "cell_type": "code",
   "execution_count": 20,
   "metadata": {},
   "outputs": [
    {
     "data": {
      "text/html": [
       "<div>\n",
       "<style scoped>\n",
       "    .dataframe tbody tr th:only-of-type {\n",
       "        vertical-align: middle;\n",
       "    }\n",
       "\n",
       "    .dataframe tbody tr th {\n",
       "        vertical-align: top;\n",
       "    }\n",
       "\n",
       "    .dataframe thead th {\n",
       "        text-align: right;\n",
       "    }\n",
       "</style>\n",
       "<table border=\"1\" class=\"dataframe\">\n",
       "  <thead>\n",
       "    <tr style=\"text-align: right;\">\n",
       "      <th></th>\n",
       "      <th>merchant_id</th>\n",
       "      <th>merchant_name</th>\n",
       "      <th>user_email</th>\n",
       "      <th>report_id</th>\n",
       "      <th>report_date_local</th>\n",
       "      <th>total_transactions</th>\n",
       "      <th>total_fees_charged</th>\n",
       "      <th>total_taxes</th>\n",
       "      <th>applied_fees_benefits</th>\n",
       "      <th>applied_taxes_benefits</th>\n",
       "      <th>...</th>\n",
       "      <th>created_time</th>\n",
       "      <th>updated_date</th>\n",
       "      <th>updated_time</th>\n",
       "      <th>file_name</th>\n",
       "      <th>Date_file</th>\n",
       "      <th>canc_1</th>\n",
       "      <th>canc_2</th>\n",
       "      <th>cancelaciones</th>\n",
       "      <th>total_due_calculado</th>\n",
       "      <th>diferencias</th>\n",
       "    </tr>\n",
       "  </thead>\n",
       "  <tbody>\n",
       "  </tbody>\n",
       "</table>\n",
       "<p>0 rows × 32 columns</p>\n",
       "</div>"
      ],
      "text/plain": [
       "Empty DataFrame\n",
       "Columns: [merchant_id, merchant_name, user_email, report_id, report_date_local, total_transactions, total_fees_charged, total_taxes, applied_fees_benefits, applied_taxes_benefits, fee_direct_deposit, taxes_direct_deposit, total_adjustments, total_adjustment_fees_charged, total_adjustment_taxes, cobranza, total_released, total_retained, tipopago, total_due, type, created_date, created_time, updated_date, updated_time, file_name, Date_file, canc_1, canc_2, cancelaciones, total_due_calculado, diferencias]\n",
       "Index: []\n",
       "\n",
       "[0 rows x 32 columns]"
      ]
     },
     "execution_count": 20,
     "metadata": {},
     "output_type": "execute_result"
    }
   ],
   "source": [
    "settled_current_month_final['total_due_calculado'] = (settled_current_month_final['total_transactions']\n",
    "                                                - settled_current_month_final['total_fees_charged']\n",
    "                                                - settled_current_month_final['total_taxes']\n",
    "                                                + settled_current_month_final['applied_fees_benefits']\n",
    "                                                + settled_current_month_final['applied_taxes_benefits']\n",
    "                                                + settled_current_month_final['fee_direct_deposit']\n",
    "                                                + settled_current_month_final['taxes_direct_deposit']\n",
    "                                                - (-settled_current_month_final['total_adjustments'])\n",
    "                                                + (-settled_current_month_final['total_adjustment_fees_charged'])\n",
    "                                                + (-settled_current_month_final['total_adjustment_taxes'])\n",
    "                                                - settled_current_month_final['cobranza']\n",
    "                                                + settled_current_month_final['total_released']\n",
    "                                                - settled_current_month_final['total_retained'])\n",
    "settled_current_month_final['diferencias'] = settled_current_month_final['total_due_calculado'] - settled_current_month_final['total_due']\n",
    "settled_current_month_final.head()"
   ]
  },
  {
   "cell_type": "code",
   "execution_count": 21,
   "metadata": {},
   "outputs": [
    {
     "data": {
      "text/plain": [
       "(0, 32)"
      ]
     },
     "execution_count": 21,
     "metadata": {},
     "output_type": "execute_result"
    }
   ],
   "source": [
    "settled_current_month_final.shape"
   ]
  },
  {
   "cell_type": "markdown",
   "metadata": {},
   "source": [
    "### CONCILIACION TPV"
   ]
  },
  {
   "cell_type": "code",
   "execution_count": 22,
   "metadata": {},
   "outputs": [
    {
     "name": "stderr",
     "output_type": "stream",
     "text": [
      "C:\\Users\\Cristian.Aparicio\\AppData\\Local\\Temp\\ipykernel_18156\\263022504.py:1: FutureWarning: The provided callable <built-in function sum> is currently using SeriesGroupBy.sum. In a future version of pandas, the provided callable will be used directly. To keep current behavior pass the string \"sum\" instead.\n",
      "  conc_1 = settled_current_month_final.groupby(['report_date_local']).agg({'total_transactions':sum,\n"
     ]
    },
    {
     "data": {
      "text/html": [
       "<div>\n",
       "<style scoped>\n",
       "    .dataframe tbody tr th:only-of-type {\n",
       "        vertical-align: middle;\n",
       "    }\n",
       "\n",
       "    .dataframe tbody tr th {\n",
       "        vertical-align: top;\n",
       "    }\n",
       "\n",
       "    .dataframe thead th {\n",
       "        text-align: right;\n",
       "    }\n",
       "</style>\n",
       "<table border=\"1\" class=\"dataframe\">\n",
       "  <thead>\n",
       "    <tr style=\"text-align: right;\">\n",
       "      <th></th>\n",
       "      <th>report_date_local</th>\n",
       "      <th>total_transactions</th>\n",
       "      <th>total_fees_charged</th>\n",
       "      <th>total_taxes</th>\n",
       "      <th>applied_fees_benefits</th>\n",
       "      <th>applied_taxes_benefits</th>\n",
       "      <th>fee_direct_deposit</th>\n",
       "      <th>taxes_direct_deposit</th>\n",
       "      <th>total_adjustments</th>\n",
       "      <th>total_adjustment_fees_charged</th>\n",
       "      <th>total_adjustment_taxes</th>\n",
       "      <th>cobranza</th>\n",
       "      <th>total_released</th>\n",
       "      <th>total_retained</th>\n",
       "      <th>cancelaciones</th>\n",
       "      <th>total_due_calculado</th>\n",
       "      <th>total_due</th>\n",
       "      <th>diferencias</th>\n",
       "    </tr>\n",
       "  </thead>\n",
       "  <tbody>\n",
       "  </tbody>\n",
       "</table>\n",
       "</div>"
      ],
      "text/plain": [
       "Empty DataFrame\n",
       "Columns: [report_date_local, total_transactions, total_fees_charged, total_taxes, applied_fees_benefits, applied_taxes_benefits, fee_direct_deposit, taxes_direct_deposit, total_adjustments, total_adjustment_fees_charged, total_adjustment_taxes, cobranza, total_released, total_retained, cancelaciones, total_due_calculado, total_due, diferencias]\n",
       "Index: []"
      ]
     },
     "execution_count": 22,
     "metadata": {},
     "output_type": "execute_result"
    }
   ],
   "source": [
    "conc_1 = settled_current_month_final.groupby(['report_date_local']).agg({'total_transactions':sum,\n",
    "                                                                         'total_fees_charged':sum,'total_taxes':sum,\n",
    "                                                                         'applied_fees_benefits':sum,\n",
    "                                                                         'applied_taxes_benefits':sum,'fee_direct_deposit':sum,\n",
    "                                                                         'taxes_direct_deposit':sum,'total_adjustments':sum,\n",
    "                                                                         'total_adjustment_fees_charged':sum,\n",
    "                                                                         'total_adjustment_taxes':sum ,\n",
    "                                                                         'cobranza':sum,'total_released':sum,\n",
    "                                                                         'total_retained':sum,'cancelaciones':sum,\n",
    "                                                                         'total_due_calculado':sum,'total_due':sum,\n",
    "                                                                         'diferencias':sum}).reset_index()\n",
    "conc_1['total_adjustments'] = conc_1['total_adjustments']*-1 \n",
    "conc_1['total_adjustment_fees_charged'] = conc_1['total_adjustment_fees_charged']*-1\n",
    "conc_1['total_adjustment_taxes'] = conc_1['total_adjustment_taxes']*-1 \n",
    "conc_1.head()"
   ]
  },
  {
   "cell_type": "code",
   "execution_count": 23,
   "metadata": {},
   "outputs": [
    {
     "data": {
      "text/plain": [
       "(0, 18)"
      ]
     },
     "execution_count": 23,
     "metadata": {},
     "output_type": "execute_result"
    }
   ],
   "source": [
    "conc_1.shape"
   ]
  },
  {
   "cell_type": "code",
   "execution_count": 24,
   "metadata": {},
   "outputs": [
    {
     "name": "stderr",
     "output_type": "stream",
     "text": [
      "C:\\Users\\Cristian.Aparicio\\AppData\\Local\\Temp\\ipykernel_18156\\163913591.py:1: FutureWarning: The provided callable <built-in function sum> is currently using SeriesGroupBy.sum. In a future version of pandas, the provided callable will be used directly. To keep current behavior pass the string \"sum\" instead.\n",
      "  conc_3 = settled_current_month_final.groupby(['report_date_local','type']).agg({'total_transactions':sum,\n",
      "C:\\Users\\Cristian.Aparicio\\AppData\\Local\\Temp\\ipykernel_18156\\163913591.py:1: FutureWarning: The provided callable <built-in function sum> is currently using SeriesGroupBy.sum. In a future version of pandas, the provided callable will be used directly. To keep current behavior pass the string \"sum\" instead.\n",
      "  conc_3 = settled_current_month_final.groupby(['report_date_local','type']).agg({'total_transactions':sum,\n"
     ]
    },
    {
     "data": {
      "text/html": [
       "<div>\n",
       "<style scoped>\n",
       "    .dataframe tbody tr th:only-of-type {\n",
       "        vertical-align: middle;\n",
       "    }\n",
       "\n",
       "    .dataframe tbody tr th {\n",
       "        vertical-align: top;\n",
       "    }\n",
       "\n",
       "    .dataframe thead th {\n",
       "        text-align: right;\n",
       "    }\n",
       "</style>\n",
       "<table border=\"1\" class=\"dataframe\">\n",
       "  <thead>\n",
       "    <tr style=\"text-align: right;\">\n",
       "      <th></th>\n",
       "      <th>report_date_local</th>\n",
       "      <th>type</th>\n",
       "      <th>total_transactions</th>\n",
       "      <th>total_fees_charged</th>\n",
       "      <th>total_taxes</th>\n",
       "      <th>applied_fees_benefits</th>\n",
       "      <th>applied_taxes_benefits</th>\n",
       "      <th>fee_direct_deposit</th>\n",
       "      <th>taxes_direct_deposit</th>\n",
       "      <th>total_adjustments</th>\n",
       "      <th>total_adjustment_fees_charged</th>\n",
       "      <th>total_adjustment_taxes</th>\n",
       "      <th>cobranza</th>\n",
       "      <th>total_released</th>\n",
       "      <th>total_retained</th>\n",
       "      <th>cancelaciones</th>\n",
       "      <th>total_due_calculado</th>\n",
       "      <th>total_due</th>\n",
       "      <th>diferencias</th>\n",
       "    </tr>\n",
       "  </thead>\n",
       "  <tbody>\n",
       "  </tbody>\n",
       "</table>\n",
       "</div>"
      ],
      "text/plain": [
       "Empty DataFrame\n",
       "Columns: [report_date_local, type, total_transactions, total_fees_charged, total_taxes, applied_fees_benefits, applied_taxes_benefits, fee_direct_deposit, taxes_direct_deposit, total_adjustments, total_adjustment_fees_charged, total_adjustment_taxes, cobranza, total_released, total_retained, cancelaciones, total_due_calculado, total_due, diferencias]\n",
       "Index: []"
      ]
     },
     "execution_count": 24,
     "metadata": {},
     "output_type": "execute_result"
    }
   ],
   "source": [
    "conc_3 = settled_current_month_final.groupby(['report_date_local','type']).agg({'total_transactions':sum,\n",
    "                                                                                'total_fees_charged':sum,'total_taxes':sum,\n",
    "                                                                                'applied_fees_benefits':sum,\n",
    "                                                                                'applied_taxes_benefits':sum,\n",
    "                                                                                'fee_direct_deposit':sum,\n",
    "                                                                                'taxes_direct_deposit':sum,\n",
    "                                                                                'total_adjustments':sum,\n",
    "                                                                                'total_adjustment_fees_charged':sum,\n",
    "                                                                                'total_adjustment_taxes':sum ,\n",
    "                                                                                'cobranza':sum,'total_released':sum,\n",
    "                                                                                'total_retained':sum,'cancelaciones':sum,\n",
    "                                                                                'total_due_calculado':sum,'total_due':sum,\n",
    "                                                                                'diferencias':sum}).reset_index()\n",
    "conc_3['total_adjustments'] = conc_3['total_adjustments']*-1 \n",
    "conc_3['total_adjustment_fees_charged'] = conc_3['total_adjustment_fees_charged']*-1\n",
    "conc_3['total_adjustment_taxes'] = conc_3['total_adjustment_taxes']*-1 \n",
    "conc_3.head()"
   ]
  },
  {
   "cell_type": "code",
   "execution_count": 25,
   "metadata": {},
   "outputs": [
    {
     "data": {
      "text/plain": [
       "(0, 19)"
      ]
     },
     "execution_count": 25,
     "metadata": {},
     "output_type": "execute_result"
    }
   ],
   "source": [
    "conc_3.shape"
   ]
  },
  {
   "cell_type": "code",
   "execution_count": 26,
   "metadata": {},
   "outputs": [
    {
     "data": {
      "text/plain": [
       "array([], dtype=object)"
      ]
     },
     "execution_count": 26,
     "metadata": {},
     "output_type": "execute_result"
    }
   ],
   "source": [
    "conc_3['type'].unique()"
   ]
  },
  {
   "cell_type": "code",
   "execution_count": 27,
   "metadata": {},
   "outputs": [
    {
     "data": {
      "text/html": [
       "<div>\n",
       "<style scoped>\n",
       "    .dataframe tbody tr th:only-of-type {\n",
       "        vertical-align: middle;\n",
       "    }\n",
       "\n",
       "    .dataframe tbody tr th {\n",
       "        vertical-align: top;\n",
       "    }\n",
       "\n",
       "    .dataframe thead th {\n",
       "        text-align: right;\n",
       "    }\n",
       "</style>\n",
       "<table border=\"1\" class=\"dataframe\">\n",
       "  <thead>\n",
       "    <tr style=\"text-align: right;\">\n",
       "      <th></th>\n",
       "      <th>report_date_local</th>\n",
       "      <th>type</th>\n",
       "      <th>total_transactions</th>\n",
       "      <th>total_fees_charged</th>\n",
       "      <th>total_taxes</th>\n",
       "      <th>applied_fees_benefits</th>\n",
       "      <th>applied_taxes_benefits</th>\n",
       "      <th>fee_direct_deposit</th>\n",
       "      <th>taxes_direct_deposit</th>\n",
       "      <th>total_adjustments</th>\n",
       "      <th>total_adjustment_fees_charged</th>\n",
       "      <th>total_adjustment_taxes</th>\n",
       "      <th>cobranza</th>\n",
       "      <th>total_released</th>\n",
       "      <th>total_retained</th>\n",
       "      <th>cancelaciones</th>\n",
       "      <th>total_due_calculado</th>\n",
       "      <th>total_due</th>\n",
       "      <th>diferencias</th>\n",
       "    </tr>\n",
       "  </thead>\n",
       "  <tbody>\n",
       "  </tbody>\n",
       "</table>\n",
       "</div>"
      ],
      "text/plain": [
       "Empty DataFrame\n",
       "Columns: [report_date_local, type, total_transactions, total_fees_charged, total_taxes, applied_fees_benefits, applied_taxes_benefits, fee_direct_deposit, taxes_direct_deposit, total_adjustments, total_adjustment_fees_charged, total_adjustment_taxes, cobranza, total_released, total_retained, cancelaciones, total_due_calculado, total_due, diferencias]\n",
       "Index: []"
      ]
     },
     "execution_count": 27,
     "metadata": {},
     "output_type": "execute_result"
    }
   ],
   "source": [
    "data_daily = conc_3[(conc_3['type'] == 'DAILY')]\n",
    "data_daily.head()"
   ]
  },
  {
   "cell_type": "code",
   "execution_count": 28,
   "metadata": {},
   "outputs": [
    {
     "data": {
      "text/plain": [
       "(0, 19)"
      ]
     },
     "execution_count": 28,
     "metadata": {},
     "output_type": "execute_result"
    }
   ],
   "source": [
    "data_daily.shape"
   ]
  },
  {
   "cell_type": "code",
   "execution_count": 29,
   "metadata": {},
   "outputs": [
    {
     "data": {
      "text/html": [
       "<div>\n",
       "<style scoped>\n",
       "    .dataframe tbody tr th:only-of-type {\n",
       "        vertical-align: middle;\n",
       "    }\n",
       "\n",
       "    .dataframe tbody tr th {\n",
       "        vertical-align: top;\n",
       "    }\n",
       "\n",
       "    .dataframe thead th {\n",
       "        text-align: right;\n",
       "    }\n",
       "</style>\n",
       "<table border=\"1\" class=\"dataframe\">\n",
       "  <thead>\n",
       "    <tr style=\"text-align: right;\">\n",
       "      <th></th>\n",
       "      <th>report_date_local</th>\n",
       "      <th>type</th>\n",
       "      <th>total_transactions</th>\n",
       "      <th>total_fees_charged</th>\n",
       "      <th>total_taxes</th>\n",
       "      <th>applied_fees_benefits</th>\n",
       "      <th>applied_taxes_benefits</th>\n",
       "      <th>fee_direct_deposit</th>\n",
       "      <th>taxes_direct_deposit</th>\n",
       "      <th>total_adjustments</th>\n",
       "      <th>total_adjustment_fees_charged</th>\n",
       "      <th>total_adjustment_taxes</th>\n",
       "      <th>cobranza</th>\n",
       "      <th>total_released</th>\n",
       "      <th>total_retained</th>\n",
       "      <th>cancelaciones</th>\n",
       "      <th>total_due_calculado</th>\n",
       "      <th>total_due</th>\n",
       "      <th>diferencias</th>\n",
       "    </tr>\n",
       "  </thead>\n",
       "  <tbody>\n",
       "  </tbody>\n",
       "</table>\n",
       "</div>"
      ],
      "text/plain": [
       "Empty DataFrame\n",
       "Columns: [report_date_local, type, total_transactions, total_fees_charged, total_taxes, applied_fees_benefits, applied_taxes_benefits, fee_direct_deposit, taxes_direct_deposit, total_adjustments, total_adjustment_fees_charged, total_adjustment_taxes, cobranza, total_released, total_retained, cancelaciones, total_due_calculado, total_due, diferencias]\n",
       "Index: []"
      ]
     },
     "execution_count": 29,
     "metadata": {},
     "output_type": "execute_result"
    }
   ],
   "source": [
    "data_instant = conc_3[(conc_3['type'] == 'INSTANT')]\n",
    "data_instant.head()"
   ]
  },
  {
   "cell_type": "code",
   "execution_count": 30,
   "metadata": {},
   "outputs": [
    {
     "data": {
      "text/plain": [
       "(0, 19)"
      ]
     },
     "execution_count": 30,
     "metadata": {},
     "output_type": "execute_result"
    }
   ],
   "source": [
    "data_instant.shape"
   ]
  },
  {
   "cell_type": "markdown",
   "metadata": {},
   "source": [
    "### RELEASED SIN CLABE"
   ]
  },
  {
   "cell_type": "code",
   "execution_count": 31,
   "metadata": {},
   "outputs": [
    {
     "data": {
      "text/html": [
       "<div>\n",
       "<style scoped>\n",
       "    .dataframe tbody tr th:only-of-type {\n",
       "        vertical-align: middle;\n",
       "    }\n",
       "\n",
       "    .dataframe tbody tr th {\n",
       "        vertical-align: top;\n",
       "    }\n",
       "\n",
       "    .dataframe thead th {\n",
       "        text-align: right;\n",
       "    }\n",
       "</style>\n",
       "<table border=\"1\" class=\"dataframe\">\n",
       "  <thead>\n",
       "    <tr style=\"text-align: right;\">\n",
       "      <th></th>\n",
       "      <th>merchant_id</th>\n",
       "      <th>merchant_name</th>\n",
       "      <th>user_email</th>\n",
       "      <th>report_id</th>\n",
       "      <th>report_date_local</th>\n",
       "      <th>total_transactions</th>\n",
       "      <th>total_fees_charged</th>\n",
       "      <th>total_taxes</th>\n",
       "      <th>applied_fees_benefits</th>\n",
       "      <th>applied_taxes_benefits</th>\n",
       "      <th>...</th>\n",
       "      <th>created_time</th>\n",
       "      <th>updated_date</th>\n",
       "      <th>updated_time</th>\n",
       "      <th>file_name</th>\n",
       "      <th>Date_file</th>\n",
       "      <th>canc_1</th>\n",
       "      <th>canc_2</th>\n",
       "      <th>cancelaciones</th>\n",
       "      <th>total_due_calculado</th>\n",
       "      <th>diferencias</th>\n",
       "    </tr>\n",
       "  </thead>\n",
       "  <tbody>\n",
       "  </tbody>\n",
       "</table>\n",
       "<p>0 rows × 32 columns</p>\n",
       "</div>"
      ],
      "text/plain": [
       "Empty DataFrame\n",
       "Columns: [merchant_id, merchant_name, user_email, report_id, report_date_local, total_transactions, total_fees_charged, total_taxes, applied_fees_benefits, applied_taxes_benefits, fee_direct_deposit, taxes_direct_deposit, total_adjustments, total_adjustment_fees_charged, total_adjustment_taxes, cobranza, total_released, total_retained, tipopago, total_due, type, created_date, created_time, updated_date, updated_time, file_name, Date_file, canc_1, canc_2, cancelaciones, total_due_calculado, diferencias]\n",
       "Index: []\n",
       "\n",
       "[0 rows x 32 columns]"
      ]
     },
     "execution_count": 31,
     "metadata": {},
     "output_type": "execute_result"
    }
   ],
   "source": [
    "released_sinclabe = settled_current_month[(settled_current_month['tipopago'] == 'sin CLABE')]\n",
    "released_sinclabe.head()"
   ]
  },
  {
   "cell_type": "code",
   "execution_count": 32,
   "metadata": {},
   "outputs": [
    {
     "data": {
      "text/plain": [
       "(0, 32)"
      ]
     },
     "execution_count": 32,
     "metadata": {},
     "output_type": "execute_result"
    }
   ],
   "source": [
    "released_sinclabe.shape"
   ]
  },
  {
   "cell_type": "code",
   "execution_count": 33,
   "metadata": {},
   "outputs": [
    {
     "name": "stderr",
     "output_type": "stream",
     "text": [
      "C:\\Users\\Cristian.Aparicio\\AppData\\Local\\Temp\\ipykernel_18156\\2187439585.py:1: FutureWarning: The provided callable <built-in function sum> is currently using SeriesGroupBy.sum. In a future version of pandas, the provided callable will be used directly. To keep current behavior pass the string \"sum\" instead.\n",
      "  released_1 = released_sinclabe.groupby(['report_date_local']).agg({'total_released':sum}).reset_index()\n"
     ]
    },
    {
     "data": {
      "text/html": [
       "<div>\n",
       "<style scoped>\n",
       "    .dataframe tbody tr th:only-of-type {\n",
       "        vertical-align: middle;\n",
       "    }\n",
       "\n",
       "    .dataframe tbody tr th {\n",
       "        vertical-align: top;\n",
       "    }\n",
       "\n",
       "    .dataframe thead th {\n",
       "        text-align: right;\n",
       "    }\n",
       "</style>\n",
       "<table border=\"1\" class=\"dataframe\">\n",
       "  <thead>\n",
       "    <tr style=\"text-align: right;\">\n",
       "      <th></th>\n",
       "      <th>report_date_local</th>\n",
       "      <th>total_released</th>\n",
       "    </tr>\n",
       "  </thead>\n",
       "  <tbody>\n",
       "  </tbody>\n",
       "</table>\n",
       "</div>"
      ],
      "text/plain": [
       "Empty DataFrame\n",
       "Columns: [report_date_local, total_released]\n",
       "Index: []"
      ]
     },
     "execution_count": 33,
     "metadata": {},
     "output_type": "execute_result"
    }
   ],
   "source": [
    "released_1 = released_sinclabe.groupby(['report_date_local']).agg({'total_released':sum}).reset_index()\n",
    "released_1.head()"
   ]
  },
  {
   "cell_type": "code",
   "execution_count": 34,
   "metadata": {},
   "outputs": [
    {
     "data": {
      "text/plain": [
       "(0, 2)"
      ]
     },
     "execution_count": 34,
     "metadata": {},
     "output_type": "execute_result"
    }
   ],
   "source": [
    "released_1.shape"
   ]
  },
  {
   "cell_type": "code",
   "execution_count": 35,
   "metadata": {},
   "outputs": [
    {
     "name": "stderr",
     "output_type": "stream",
     "text": [
      "C:\\Users\\Cristian.Aparicio\\AppData\\Local\\Temp\\ipykernel_18156\\4291723621.py:1: FutureWarning: The provided callable <built-in function sum> is currently using SeriesGroupBy.sum. In a future version of pandas, the provided callable will be used directly. To keep current behavior pass the string \"sum\" instead.\n",
      "  released_3 = released_sinclabe.groupby(['report_date_local','type']).agg({'total_released':sum}).reset_index()\n"
     ]
    },
    {
     "data": {
      "text/html": [
       "<div>\n",
       "<style scoped>\n",
       "    .dataframe tbody tr th:only-of-type {\n",
       "        vertical-align: middle;\n",
       "    }\n",
       "\n",
       "    .dataframe tbody tr th {\n",
       "        vertical-align: top;\n",
       "    }\n",
       "\n",
       "    .dataframe thead th {\n",
       "        text-align: right;\n",
       "    }\n",
       "</style>\n",
       "<table border=\"1\" class=\"dataframe\">\n",
       "  <thead>\n",
       "    <tr style=\"text-align: right;\">\n",
       "      <th></th>\n",
       "      <th>report_date_local</th>\n",
       "      <th>type</th>\n",
       "      <th>total_released</th>\n",
       "    </tr>\n",
       "  </thead>\n",
       "  <tbody>\n",
       "  </tbody>\n",
       "</table>\n",
       "</div>"
      ],
      "text/plain": [
       "Empty DataFrame\n",
       "Columns: [report_date_local, type, total_released]\n",
       "Index: []"
      ]
     },
     "execution_count": 35,
     "metadata": {},
     "output_type": "execute_result"
    }
   ],
   "source": [
    "released_3 = released_sinclabe.groupby(['report_date_local','type']).agg({'total_released':sum}).reset_index()\n",
    "released_3.head()"
   ]
  },
  {
   "cell_type": "code",
   "execution_count": 36,
   "metadata": {},
   "outputs": [
    {
     "data": {
      "text/plain": [
       "(0, 3)"
      ]
     },
     "execution_count": 36,
     "metadata": {},
     "output_type": "execute_result"
    }
   ],
   "source": [
    "released_3.shape"
   ]
  },
  {
   "cell_type": "code",
   "execution_count": 37,
   "metadata": {},
   "outputs": [
    {
     "data": {
      "text/plain": [
       "array([], dtype=object)"
      ]
     },
     "execution_count": 37,
     "metadata": {},
     "output_type": "execute_result"
    }
   ],
   "source": [
    "released_3['type'].unique()"
   ]
  },
  {
   "cell_type": "code",
   "execution_count": 38,
   "metadata": {},
   "outputs": [
    {
     "data": {
      "text/html": [
       "<div>\n",
       "<style scoped>\n",
       "    .dataframe tbody tr th:only-of-type {\n",
       "        vertical-align: middle;\n",
       "    }\n",
       "\n",
       "    .dataframe tbody tr th {\n",
       "        vertical-align: top;\n",
       "    }\n",
       "\n",
       "    .dataframe thead th {\n",
       "        text-align: right;\n",
       "    }\n",
       "</style>\n",
       "<table border=\"1\" class=\"dataframe\">\n",
       "  <thead>\n",
       "    <tr style=\"text-align: right;\">\n",
       "      <th></th>\n",
       "      <th>report_date_local</th>\n",
       "      <th>type</th>\n",
       "      <th>total_released</th>\n",
       "    </tr>\n",
       "  </thead>\n",
       "  <tbody>\n",
       "  </tbody>\n",
       "</table>\n",
       "</div>"
      ],
      "text/plain": [
       "Empty DataFrame\n",
       "Columns: [report_date_local, type, total_released]\n",
       "Index: []"
      ]
     },
     "execution_count": 38,
     "metadata": {},
     "output_type": "execute_result"
    }
   ],
   "source": [
    "released_daily = released_3[(released_3['type'] == 'DAILY')]\n",
    "released_daily.head()"
   ]
  },
  {
   "cell_type": "code",
   "execution_count": 39,
   "metadata": {},
   "outputs": [
    {
     "data": {
      "text/plain": [
       "(0, 3)"
      ]
     },
     "execution_count": 39,
     "metadata": {},
     "output_type": "execute_result"
    }
   ],
   "source": [
    "released_daily.shape"
   ]
  },
  {
   "cell_type": "code",
   "execution_count": 40,
   "metadata": {},
   "outputs": [
    {
     "data": {
      "text/html": [
       "<div>\n",
       "<style scoped>\n",
       "    .dataframe tbody tr th:only-of-type {\n",
       "        vertical-align: middle;\n",
       "    }\n",
       "\n",
       "    .dataframe tbody tr th {\n",
       "        vertical-align: top;\n",
       "    }\n",
       "\n",
       "    .dataframe thead th {\n",
       "        text-align: right;\n",
       "    }\n",
       "</style>\n",
       "<table border=\"1\" class=\"dataframe\">\n",
       "  <thead>\n",
       "    <tr style=\"text-align: right;\">\n",
       "      <th></th>\n",
       "      <th>report_date_local</th>\n",
       "      <th>type</th>\n",
       "      <th>total_released</th>\n",
       "    </tr>\n",
       "  </thead>\n",
       "  <tbody>\n",
       "  </tbody>\n",
       "</table>\n",
       "</div>"
      ],
      "text/plain": [
       "Empty DataFrame\n",
       "Columns: [report_date_local, type, total_released]\n",
       "Index: []"
      ]
     },
     "execution_count": 40,
     "metadata": {},
     "output_type": "execute_result"
    }
   ],
   "source": [
    "released_instant = released_3[(released_3['type'] == 'INSTANT')]\n",
    "released_instant.head()"
   ]
  },
  {
   "cell_type": "code",
   "execution_count": 41,
   "metadata": {},
   "outputs": [
    {
     "data": {
      "text/plain": [
       "(0, 3)"
      ]
     },
     "execution_count": 41,
     "metadata": {},
     "output_type": "execute_result"
    }
   ],
   "source": [
    "released_instant.shape"
   ]
  },
  {
   "cell_type": "markdown",
   "metadata": {},
   "source": [
    "# INFO CUPONES"
   ]
  },
  {
   "cell_type": "code",
   "execution_count": 42,
   "metadata": {},
   "outputs": [
    {
     "data": {
      "text/plain": [
       "['C:\\\\Users\\\\Cristian.Aparicio\\\\Documents\\\\FACTURACION\\\\2023\\\\11. NOVIEMBRE\\\\Cupones_mm.csv']"
      ]
     },
     "execution_count": 42,
     "metadata": {},
     "output_type": "execute_result"
    }
   ],
   "source": [
    "allcupon_fact = glob.glob(r'C:\\Users\\Cristian.Aparicio\\Documents\\FACTURACION\\2023\\11. NOVIEMBRE\\Cupones*.csv', recursive=False)\n",
    "allcupon_fact"
   ]
  },
  {
   "cell_type": "code",
   "execution_count": 43,
   "metadata": {},
   "outputs": [
    {
     "data": {
      "text/html": [
       "<div>\n",
       "<style scoped>\n",
       "    .dataframe tbody tr th:only-of-type {\n",
       "        vertical-align: middle;\n",
       "    }\n",
       "\n",
       "    .dataframe tbody tr th {\n",
       "        vertical-align: top;\n",
       "    }\n",
       "\n",
       "    .dataframe thead th {\n",
       "        text-align: right;\n",
       "    }\n",
       "</style>\n",
       "<table border=\"1\" class=\"dataframe\">\n",
       "  <thead>\n",
       "    <tr style=\"text-align: right;\">\n",
       "      <th></th>\n",
       "      <th>merchant_id</th>\n",
       "      <th>merchant_token</th>\n",
       "      <th>fee_refund_id</th>\n",
       "      <th>report_id</th>\n",
       "      <th>number_transactions</th>\n",
       "      <th>total_refunded</th>\n",
       "      <th>amount</th>\n",
       "      <th>pending</th>\n",
       "      <th>source</th>\n",
       "      <th>created_at</th>\n",
       "      <th>file_name</th>\n",
       "    </tr>\n",
       "  </thead>\n",
       "  <tbody>\n",
       "    <tr>\n",
       "      <th>0</th>\n",
       "      <td>40dda9f3-518e-423f-8b04-1572ba44a0d7</td>\n",
       "      <td>fbafce7d-82d6-470f-b76a-151332042ddd</td>\n",
       "      <td>5ac1dd9f-221b-4943-bd46-ec4aa4ae749b</td>\n",
       "      <td>228LCKGVL</td>\n",
       "      <td>2</td>\n",
       "      <td>76.42</td>\n",
       "      <td>108.00</td>\n",
       "      <td>31.58</td>\n",
       "      <td>LOYALTY</td>\n",
       "      <td>2022-10-06 11:39:28</td>\n",
       "      <td>Cupones_mm.csv</td>\n",
       "    </tr>\n",
       "    <tr>\n",
       "      <th>1</th>\n",
       "      <td>a2760683-129f-4de4-98e3-7e7a08d44e30</td>\n",
       "      <td>95e02cc8-864b-4249-83c6-6a41b7d39b0f</td>\n",
       "      <td>f7acbad2-452a-4fca-a143-b790ca5df741</td>\n",
       "      <td>228TQD63W</td>\n",
       "      <td>1</td>\n",
       "      <td>1.67</td>\n",
       "      <td>108.00</td>\n",
       "      <td>106.33</td>\n",
       "      <td>LOYALTY</td>\n",
       "      <td>2022-11-30 10:43:51</td>\n",
       "      <td>Cupones_mm.csv</td>\n",
       "    </tr>\n",
       "    <tr>\n",
       "      <th>2</th>\n",
       "      <td>9f7384ad-a017-4e15-81f9-1a77eee62f5d</td>\n",
       "      <td>b4c82681-754a-4932-9d1e-11c116df2bb4</td>\n",
       "      <td>8ba3cd55-d8ac-46a8-939f-0fe124c2d08a</td>\n",
       "      <td>22BZKF2BX</td>\n",
       "      <td>2</td>\n",
       "      <td>141.40</td>\n",
       "      <td>292.00</td>\n",
       "      <td>150.60</td>\n",
       "      <td>LOYALTY</td>\n",
       "      <td>2021-11-13 11:05:44</td>\n",
       "      <td>Cupones_mm.csv</td>\n",
       "    </tr>\n",
       "    <tr>\n",
       "      <th>3</th>\n",
       "      <td>6856f295-75c8-4a35-8728-531630c3e0a2</td>\n",
       "      <td>5d5bff5a-e49a-4a09-95b0-0b6a19bfaf6f</td>\n",
       "      <td>31a3d5f0-b8b1-417d-83eb-03715535ebf9</td>\n",
       "      <td>22G2FKHG7</td>\n",
       "      <td>1</td>\n",
       "      <td>108.00</td>\n",
       "      <td>108.00</td>\n",
       "      <td>0.00</td>\n",
       "      <td>LOYALTY</td>\n",
       "      <td>2022-12-16 10:22:56</td>\n",
       "      <td>Cupones_mm.csv</td>\n",
       "    </tr>\n",
       "    <tr>\n",
       "      <th>4</th>\n",
       "      <td>738de109-77df-4182-9643-e436bb893a38</td>\n",
       "      <td>343c2a67-5c80-4779-8ede-c2e51ddd8436</td>\n",
       "      <td>0714eca4-db00-42a5-8208-c383324b096d</td>\n",
       "      <td>22R67MKYL</td>\n",
       "      <td>1</td>\n",
       "      <td>108.00</td>\n",
       "      <td>108.00</td>\n",
       "      <td>0.00</td>\n",
       "      <td>LOYALTY</td>\n",
       "      <td>2022-07-21 07:56:43</td>\n",
       "      <td>Cupones_mm.csv</td>\n",
       "    </tr>\n",
       "  </tbody>\n",
       "</table>\n",
       "</div>"
      ],
      "text/plain": [
       "                            merchant_id                        merchant_token  \\\n",
       "0  40dda9f3-518e-423f-8b04-1572ba44a0d7  fbafce7d-82d6-470f-b76a-151332042ddd   \n",
       "1  a2760683-129f-4de4-98e3-7e7a08d44e30  95e02cc8-864b-4249-83c6-6a41b7d39b0f   \n",
       "2  9f7384ad-a017-4e15-81f9-1a77eee62f5d  b4c82681-754a-4932-9d1e-11c116df2bb4   \n",
       "3  6856f295-75c8-4a35-8728-531630c3e0a2  5d5bff5a-e49a-4a09-95b0-0b6a19bfaf6f   \n",
       "4  738de109-77df-4182-9643-e436bb893a38  343c2a67-5c80-4779-8ede-c2e51ddd8436   \n",
       "\n",
       "                          fee_refund_id  report_id  number_transactions  \\\n",
       "0  5ac1dd9f-221b-4943-bd46-ec4aa4ae749b  228LCKGVL                    2   \n",
       "1  f7acbad2-452a-4fca-a143-b790ca5df741  228TQD63W                    1   \n",
       "2  8ba3cd55-d8ac-46a8-939f-0fe124c2d08a  22BZKF2BX                    2   \n",
       "3  31a3d5f0-b8b1-417d-83eb-03715535ebf9  22G2FKHG7                    1   \n",
       "4  0714eca4-db00-42a5-8208-c383324b096d  22R67MKYL                    1   \n",
       "\n",
       "   total_refunded  amount  pending   source           created_at  \\\n",
       "0           76.42  108.00    31.58  LOYALTY  2022-10-06 11:39:28   \n",
       "1            1.67  108.00   106.33  LOYALTY  2022-11-30 10:43:51   \n",
       "2          141.40  292.00   150.60  LOYALTY  2021-11-13 11:05:44   \n",
       "3          108.00  108.00     0.00  LOYALTY  2022-12-16 10:22:56   \n",
       "4          108.00  108.00     0.00  LOYALTY  2022-07-21 07:56:43   \n",
       "\n",
       "        file_name  \n",
       "0  Cupones_mm.csv  \n",
       "1  Cupones_mm.csv  \n",
       "2  Cupones_mm.csv  \n",
       "3  Cupones_mm.csv  \n",
       "4  Cupones_mm.csv  "
      ]
     },
     "execution_count": 43,
     "metadata": {},
     "output_type": "execute_result"
    }
   ],
   "source": [
    "cupon_current_month = pd.concat([pd.read_csv(f,dtype={'report_id':object})\n",
    "                                 .assign(file_name=os.path.basename(f)) for f in allcupon_fact])\n",
    "cupon_current_month.head()"
   ]
  },
  {
   "cell_type": "code",
   "execution_count": 44,
   "metadata": {},
   "outputs": [
    {
     "data": {
      "text/plain": [
       "(2924, 11)"
      ]
     },
     "execution_count": 44,
     "metadata": {},
     "output_type": "execute_result"
    }
   ],
   "source": [
    "cupon_current_month.shape"
   ]
  },
  {
   "cell_type": "code",
   "execution_count": 45,
   "metadata": {},
   "outputs": [
    {
     "data": {
      "text/html": [
       "<div>\n",
       "<style scoped>\n",
       "    .dataframe tbody tr th:only-of-type {\n",
       "        vertical-align: middle;\n",
       "    }\n",
       "\n",
       "    .dataframe tbody tr th {\n",
       "        vertical-align: top;\n",
       "    }\n",
       "\n",
       "    .dataframe thead th {\n",
       "        text-align: right;\n",
       "    }\n",
       "</style>\n",
       "<table border=\"1\" class=\"dataframe\">\n",
       "  <thead>\n",
       "    <tr style=\"text-align: right;\">\n",
       "      <th></th>\n",
       "      <th>merchant_id</th>\n",
       "      <th>merchant_name</th>\n",
       "      <th>user_email</th>\n",
       "      <th>report_date_local</th>\n",
       "      <th>total_transactions</th>\n",
       "      <th>total_fees_charged</th>\n",
       "      <th>total_taxes</th>\n",
       "      <th>applied_fees_benefits</th>\n",
       "      <th>applied_taxes_benefits</th>\n",
       "      <th>fee_direct_deposit</th>\n",
       "      <th>...</th>\n",
       "      <th>canc_2</th>\n",
       "      <th>cancelaciones</th>\n",
       "      <th>total_due_calculado</th>\n",
       "      <th>diferencias</th>\n",
       "      <th>report_id</th>\n",
       "      <th>total_refunded</th>\n",
       "      <th>pending</th>\n",
       "      <th>amount</th>\n",
       "      <th>source</th>\n",
       "      <th>total_benefits</th>\n",
       "    </tr>\n",
       "  </thead>\n",
       "  <tbody>\n",
       "  </tbody>\n",
       "</table>\n",
       "<p>0 rows × 37 columns</p>\n",
       "</div>"
      ],
      "text/plain": [
       "Empty DataFrame\n",
       "Columns: [merchant_id, merchant_name, user_email, report_date_local, total_transactions, total_fees_charged, total_taxes, applied_fees_benefits, applied_taxes_benefits, fee_direct_deposit, taxes_direct_deposit, total_adjustments, total_adjustment_fees_charged, total_adjustment_taxes, cobranza, total_released, total_retained, tipopago, total_due, type, created_date, created_time, updated_date, updated_time, file_name, Date_file, canc_1, canc_2, cancelaciones, total_due_calculado, diferencias, report_id, total_refunded, pending, amount, source, total_benefits]\n",
       "Index: []\n",
       "\n",
       "[0 rows x 37 columns]"
      ]
     },
     "execution_count": 45,
     "metadata": {},
     "output_type": "execute_result"
    }
   ],
   "source": [
    "cupones_data = settled_current_month.merge(cupon_current_month[['report_id','total_refunded','pending','amount',\n",
    "                                              'source']] ,on='report_id', how='left')\n",
    "cupones_data['total_benefits'] = cupones_data['applied_fees_benefits'] + cupones_data['applied_taxes_benefits']\n",
    "cupones_data.loc[(cupones_data['applied_fees_benefits'] != 0) & (cupones_data['source']!= 'LOYALTY'), 'source'] = 'TOP_UPS'\n",
    "cupones_data.head()"
   ]
  },
  {
   "cell_type": "code",
   "execution_count": 46,
   "metadata": {},
   "outputs": [
    {
     "data": {
      "text/plain": [
       "array([], dtype=object)"
      ]
     },
     "execution_count": 46,
     "metadata": {},
     "output_type": "execute_result"
    }
   ],
   "source": [
    "cupones_data['source'].unique()"
   ]
  },
  {
   "cell_type": "code",
   "execution_count": 47,
   "metadata": {},
   "outputs": [
    {
     "data": {
      "text/plain": [
       "(0, 37)"
      ]
     },
     "execution_count": 47,
     "metadata": {},
     "output_type": "execute_result"
    }
   ],
   "source": [
    "cupones_data.shape"
   ]
  },
  {
   "cell_type": "markdown",
   "metadata": {},
   "source": [
    "### TOPUPS "
   ]
  },
  {
   "cell_type": "code",
   "execution_count": 48,
   "metadata": {},
   "outputs": [
    {
     "data": {
      "text/html": [
       "<div>\n",
       "<style scoped>\n",
       "    .dataframe tbody tr th:only-of-type {\n",
       "        vertical-align: middle;\n",
       "    }\n",
       "\n",
       "    .dataframe tbody tr th {\n",
       "        vertical-align: top;\n",
       "    }\n",
       "\n",
       "    .dataframe thead th {\n",
       "        text-align: right;\n",
       "    }\n",
       "</style>\n",
       "<table border=\"1\" class=\"dataframe\">\n",
       "  <thead>\n",
       "    <tr style=\"text-align: right;\">\n",
       "      <th></th>\n",
       "      <th>merchant_id</th>\n",
       "      <th>merchant_name</th>\n",
       "      <th>user_email</th>\n",
       "      <th>report_date_local</th>\n",
       "      <th>total_transactions</th>\n",
       "      <th>total_fees_charged</th>\n",
       "      <th>total_taxes</th>\n",
       "      <th>applied_fees_benefits</th>\n",
       "      <th>applied_taxes_benefits</th>\n",
       "      <th>fee_direct_deposit</th>\n",
       "      <th>...</th>\n",
       "      <th>canc_2</th>\n",
       "      <th>cancelaciones</th>\n",
       "      <th>total_due_calculado</th>\n",
       "      <th>diferencias</th>\n",
       "      <th>report_id</th>\n",
       "      <th>total_refunded</th>\n",
       "      <th>pending</th>\n",
       "      <th>amount</th>\n",
       "      <th>source</th>\n",
       "      <th>total_benefits</th>\n",
       "    </tr>\n",
       "  </thead>\n",
       "  <tbody>\n",
       "  </tbody>\n",
       "</table>\n",
       "<p>0 rows × 37 columns</p>\n",
       "</div>"
      ],
      "text/plain": [
       "Empty DataFrame\n",
       "Columns: [merchant_id, merchant_name, user_email, report_date_local, total_transactions, total_fees_charged, total_taxes, applied_fees_benefits, applied_taxes_benefits, fee_direct_deposit, taxes_direct_deposit, total_adjustments, total_adjustment_fees_charged, total_adjustment_taxes, cobranza, total_released, total_retained, tipopago, total_due, type, created_date, created_time, updated_date, updated_time, file_name, Date_file, canc_1, canc_2, cancelaciones, total_due_calculado, diferencias, report_id, total_refunded, pending, amount, source, total_benefits]\n",
       "Index: []\n",
       "\n",
       "[0 rows x 37 columns]"
      ]
     },
     "execution_count": 48,
     "metadata": {},
     "output_type": "execute_result"
    }
   ],
   "source": [
    "topups_benefits = cupones_data[(cupones_data['source'] == 'TOP_UPS')]\n",
    "topups_benefits.head()"
   ]
  },
  {
   "cell_type": "code",
   "execution_count": 49,
   "metadata": {},
   "outputs": [
    {
     "data": {
      "text/plain": [
       "(0, 37)"
      ]
     },
     "execution_count": 49,
     "metadata": {},
     "output_type": "execute_result"
    }
   ],
   "source": [
    "topups_benefits.shape"
   ]
  },
  {
   "cell_type": "code",
   "execution_count": 50,
   "metadata": {},
   "outputs": [
    {
     "name": "stderr",
     "output_type": "stream",
     "text": [
      "C:\\Users\\Cristian.Aparicio\\AppData\\Local\\Temp\\ipykernel_18156\\1333910541.py:1: FutureWarning: The provided callable <function sum at 0x00000274AA75F1F0> is currently using DataFrameGroupBy.sum. In a future version of pandas, the provided callable will be used directly. To keep current behavior pass the string \"sum\" instead.\n",
      "  pivot_topups_benefits = pd.pivot_table(topups_benefits,index=['report_date_local'],values=['applied_fees_benefits',\n"
     ]
    },
    {
     "data": {
      "text/html": [
       "<div>\n",
       "<style scoped>\n",
       "    .dataframe tbody tr th:only-of-type {\n",
       "        vertical-align: middle;\n",
       "    }\n",
       "\n",
       "    .dataframe tbody tr th {\n",
       "        vertical-align: top;\n",
       "    }\n",
       "\n",
       "    .dataframe thead th {\n",
       "        text-align: right;\n",
       "    }\n",
       "</style>\n",
       "<table border=\"1\" class=\"dataframe\">\n",
       "  <thead>\n",
       "    <tr style=\"text-align: right;\">\n",
       "      <th></th>\n",
       "      <th>report_date_local</th>\n",
       "    </tr>\n",
       "  </thead>\n",
       "  <tbody>\n",
       "  </tbody>\n",
       "</table>\n",
       "</div>"
      ],
      "text/plain": [
       "Empty DataFrame\n",
       "Columns: [report_date_local]\n",
       "Index: []"
      ]
     },
     "execution_count": 50,
     "metadata": {},
     "output_type": "execute_result"
    }
   ],
   "source": [
    "pivot_topups_benefits = pd.pivot_table(topups_benefits,index=['report_date_local'],values=['applied_fees_benefits',\n",
    "                                                                                        'applied_taxes_benefits'],\n",
    "                                       aggfunc=np.sum,margins=False).reset_index()\n",
    "pivot_topups_benefits.rename(columns ={'applied_fees_benefits':'applied_fees_benefits_topups',\n",
    "                                      'applied_taxes_benefits':'applied_taxes_benefits_topups'},inplace=True)\n",
    "pivot_topups_benefits.head()"
   ]
  },
  {
   "cell_type": "code",
   "execution_count": 51,
   "metadata": {},
   "outputs": [
    {
     "data": {
      "text/plain": [
       "(0, 1)"
      ]
     },
     "execution_count": 51,
     "metadata": {},
     "output_type": "execute_result"
    }
   ],
   "source": [
    "pivot_topups_benefits.shape"
   ]
  },
  {
   "cell_type": "markdown",
   "metadata": {},
   "source": [
    "### CUPONES"
   ]
  },
  {
   "cell_type": "code",
   "execution_count": 52,
   "metadata": {},
   "outputs": [
    {
     "data": {
      "text/html": [
       "<div>\n",
       "<style scoped>\n",
       "    .dataframe tbody tr th:only-of-type {\n",
       "        vertical-align: middle;\n",
       "    }\n",
       "\n",
       "    .dataframe tbody tr th {\n",
       "        vertical-align: top;\n",
       "    }\n",
       "\n",
       "    .dataframe thead th {\n",
       "        text-align: right;\n",
       "    }\n",
       "</style>\n",
       "<table border=\"1\" class=\"dataframe\">\n",
       "  <thead>\n",
       "    <tr style=\"text-align: right;\">\n",
       "      <th></th>\n",
       "      <th>merchant_id</th>\n",
       "      <th>merchant_name</th>\n",
       "      <th>user_email</th>\n",
       "      <th>report_date_local</th>\n",
       "      <th>total_transactions</th>\n",
       "      <th>total_fees_charged</th>\n",
       "      <th>total_taxes</th>\n",
       "      <th>applied_fees_benefits</th>\n",
       "      <th>applied_taxes_benefits</th>\n",
       "      <th>fee_direct_deposit</th>\n",
       "      <th>...</th>\n",
       "      <th>canc_2</th>\n",
       "      <th>cancelaciones</th>\n",
       "      <th>total_due_calculado</th>\n",
       "      <th>diferencias</th>\n",
       "      <th>report_id</th>\n",
       "      <th>total_refunded</th>\n",
       "      <th>pending</th>\n",
       "      <th>amount</th>\n",
       "      <th>source</th>\n",
       "      <th>total_benefits</th>\n",
       "    </tr>\n",
       "  </thead>\n",
       "  <tbody>\n",
       "  </tbody>\n",
       "</table>\n",
       "<p>0 rows × 37 columns</p>\n",
       "</div>"
      ],
      "text/plain": [
       "Empty DataFrame\n",
       "Columns: [merchant_id, merchant_name, user_email, report_date_local, total_transactions, total_fees_charged, total_taxes, applied_fees_benefits, applied_taxes_benefits, fee_direct_deposit, taxes_direct_deposit, total_adjustments, total_adjustment_fees_charged, total_adjustment_taxes, cobranza, total_released, total_retained, tipopago, total_due, type, created_date, created_time, updated_date, updated_time, file_name, Date_file, canc_1, canc_2, cancelaciones, total_due_calculado, diferencias, report_id, total_refunded, pending, amount, source, total_benefits]\n",
       "Index: []\n",
       "\n",
       "[0 rows x 37 columns]"
      ]
     },
     "execution_count": 52,
     "metadata": {},
     "output_type": "execute_result"
    }
   ],
   "source": [
    "coupons_benefits = cupones_data[(cupones_data['source'] == 'LOYALTY')]\n",
    "coupons_benefits.head()"
   ]
  },
  {
   "cell_type": "code",
   "execution_count": 53,
   "metadata": {},
   "outputs": [
    {
     "data": {
      "text/plain": [
       "(0, 37)"
      ]
     },
     "execution_count": 53,
     "metadata": {},
     "output_type": "execute_result"
    }
   ],
   "source": [
    "coupons_benefits.shape"
   ]
  },
  {
   "cell_type": "code",
   "execution_count": 54,
   "metadata": {},
   "outputs": [
    {
     "name": "stderr",
     "output_type": "stream",
     "text": [
      "C:\\Users\\Cristian.Aparicio\\AppData\\Local\\Temp\\ipykernel_18156\\935166532.py:1: FutureWarning: The provided callable <function sum at 0x00000274AA75F1F0> is currently using DataFrameGroupBy.sum. In a future version of pandas, the provided callable will be used directly. To keep current behavior pass the string \"sum\" instead.\n",
      "  pivot_coupons_benefits = pd.pivot_table(coupons_benefits,index=['report_date_local'],values=['applied_fees_benefits',\n"
     ]
    },
    {
     "data": {
      "text/html": [
       "<div>\n",
       "<style scoped>\n",
       "    .dataframe tbody tr th:only-of-type {\n",
       "        vertical-align: middle;\n",
       "    }\n",
       "\n",
       "    .dataframe tbody tr th {\n",
       "        vertical-align: top;\n",
       "    }\n",
       "\n",
       "    .dataframe thead th {\n",
       "        text-align: right;\n",
       "    }\n",
       "</style>\n",
       "<table border=\"1\" class=\"dataframe\">\n",
       "  <thead>\n",
       "    <tr style=\"text-align: right;\">\n",
       "      <th></th>\n",
       "      <th>report_date_local</th>\n",
       "    </tr>\n",
       "  </thead>\n",
       "  <tbody>\n",
       "  </tbody>\n",
       "</table>\n",
       "</div>"
      ],
      "text/plain": [
       "Empty DataFrame\n",
       "Columns: [report_date_local]\n",
       "Index: []"
      ]
     },
     "execution_count": 54,
     "metadata": {},
     "output_type": "execute_result"
    }
   ],
   "source": [
    "pivot_coupons_benefits = pd.pivot_table(coupons_benefits,index=['report_date_local'],values=['applied_fees_benefits',\n",
    "                                                                                        'applied_taxes_benefits'],\n",
    "                                       aggfunc=np.sum,margins=False).reset_index()\n",
    "pivot_coupons_benefits.rename(columns ={'applied_fees_benefits':'applied_fees_benefits_coupons',\n",
    "                                      'applied_taxes_benefits':'applied_taxes_benefits_coupons'},inplace=True)\n",
    "pivot_coupons_benefits.head()"
   ]
  },
  {
   "cell_type": "code",
   "execution_count": 55,
   "metadata": {},
   "outputs": [
    {
     "data": {
      "text/plain": [
       "(0, 1)"
      ]
     },
     "execution_count": 55,
     "metadata": {},
     "output_type": "execute_result"
    }
   ],
   "source": [
    "pivot_coupons_benefits.shape"
   ]
  },
  {
   "cell_type": "markdown",
   "metadata": {},
   "source": [
    "# EXCEL FINAL"
   ]
  },
  {
   "cell_type": "code",
   "execution_count": 56,
   "metadata": {},
   "outputs": [],
   "source": [
    "writer = pd.ExcelWriter('FASE I. DATA POLIZA NOVIEMBRE 2023.xlsx',\n",
    "                        engine='xlsxwriter',\n",
    "                        engine_kwargs={'options': {'encoding':'utf-8'}})\n",
    "conc_1.to_excel(writer, sheet_name='MONTOS REPORT_DATE',index=False)\n",
    "data_daily.to_excel(writer, sheet_name='MONTOS_DAILY',index=False)\n",
    "data_instant.to_excel(writer, sheet_name='MONTOS_INSTANT',index=False)\n",
    "pivot_topups_benefits.to_excel(writer, sheet_name='TOPUPS',index=False)\n",
    "pivot_coupons_benefits.to_excel(writer, sheet_name='COUPONS',index=False)\n",
    "released_1.to_excel(writer, sheet_name='RELEASED REPORT_DATE',index=False)\n",
    "released_daily.to_excel(writer, sheet_name='RELEASED_DAILY',index=False)\n",
    "released_instant.to_excel(writer, sheet_name='RELEASED_INSTANT',index=False)\n",
    "writer.close()"
   ]
  },
  {
   "cell_type": "code",
   "execution_count": null,
   "metadata": {},
   "outputs": [],
   "source": []
  }
 ],
 "metadata": {
  "kernelspec": {
   "display_name": "Python 3 (ipykernel)",
   "language": "python",
   "name": "python3"
  },
  "language_info": {
   "codemirror_mode": {
    "name": "ipython",
    "version": 3
   },
   "file_extension": ".py",
   "mimetype": "text/x-python",
   "name": "python",
   "nbconvert_exporter": "python",
   "pygments_lexer": "ipython3",
   "version": "3.9.18"
  }
 },
 "nbformat": 4,
 "nbformat_minor": 4
}
