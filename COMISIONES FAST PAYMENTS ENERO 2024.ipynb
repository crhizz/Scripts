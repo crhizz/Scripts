{
 "cells": [
  {
   "cell_type": "code",
   "execution_count": 1,
   "metadata": {},
   "outputs": [],
   "source": [
    "import pandas as pd\n",
    "import numpy as np\n",
    "import glob\n",
    "import os\n",
    "from openpyxl import load_workbook\n",
    "pd.options.display.float_format = '{:,.2f}'.format"
   ]
  },
  {
   "cell_type": "markdown",
   "metadata": {},
   "source": [
    "# READING FILES"
   ]
  },
  {
   "cell_type": "markdown",
   "metadata": {},
   "source": [
    "### EDO DE CUENTA"
   ]
  },
  {
   "cell_type": "code",
   "execution_count": 2,
   "metadata": {},
   "outputs": [],
   "source": [
    "# edo_cta = pd.read_csv(r'C:\\Users\\Cristian.Aparicio\\Documents\\CONCILIACIONES\\2020\\12. DICIEMBRE\\EDO CUENTA DICIEMBRE 2020.csv',dtype={'Cuenta': object})\n",
    "# edo_cta.Depósitos = [x.strip('$') for x in edo_cta.Depósitos]\n",
    "# edo_cta.Retiros = [x.strip('$') for x in edo_cta.Retiros]\n",
    "# edo_cta.Saldo = [x.strip('$') for x in edo_cta.Saldo]\n",
    "# edo_cta.head()"
   ]
  },
  {
   "cell_type": "code",
   "execution_count": 3,
   "metadata": {},
   "outputs": [],
   "source": [
    "# edo_cta.shape"
   ]
  },
  {
   "cell_type": "code",
   "execution_count": 4,
   "metadata": {},
   "outputs": [],
   "source": [
    "# edo_cta.dtypes"
   ]
  },
  {
   "cell_type": "markdown",
   "metadata": {},
   "source": [
    "### INTERBANCARIOS"
   ]
  },
  {
   "cell_type": "code",
   "execution_count": 5,
   "metadata": {},
   "outputs": [],
   "source": [
    "# inter_h2h = edo_cta[(edo_cta['Descripción']=='COMPRA ORDEN DE PAGO SPEI')][['Fecha_operacion','Fecha_banco','Descripción','Depósitos','Retiros','Descripción Detallada','Movimiento']]\n",
    "# inter_h2h.head()"
   ]
  },
  {
   "cell_type": "code",
   "execution_count": 6,
   "metadata": {},
   "outputs": [],
   "source": [
    "# inter_h2h.shape"
   ]
  },
  {
   "cell_type": "code",
   "execution_count": 7,
   "metadata": {},
   "outputs": [],
   "source": [
    "# split_inter = inter_h2h[\"Descripción Detallada\"].str.split(\",\",n=7,expand=True)\n",
    "# split_inter.head()"
   ]
  },
  {
   "cell_type": "code",
   "execution_count": 8,
   "metadata": {},
   "outputs": [],
   "source": [
    "# split_inter.shape"
   ]
  },
  {
   "cell_type": "code",
   "execution_count": 9,
   "metadata": {},
   "outputs": [],
   "source": [
    "# inter_h2h[\"CTA/CLABE\"] = split_inter[0] \n",
    "# inter_h2h['beneficiario'] = split_inter[3]\n",
    "# inter_h2h['cve_rastreo'] = split_inter[5]\n",
    "# inter_h2h['time'] = split_inter[6]"
   ]
  },
  {
   "cell_type": "code",
   "execution_count": 10,
   "metadata": {},
   "outputs": [],
   "source": [
    "# inter_h2h[['cve_rastreo']].head()"
   ]
  },
  {
   "cell_type": "code",
   "execution_count": 11,
   "metadata": {},
   "outputs": [],
   "source": [
    "# split_inter_2 = inter_h2h['cve_rastreo'].str.split(' ',n=7,expand=True).astype(str).replace(' ', '',regex=True)\n",
    "# split_inter_2.head()"
   ]
  },
  {
   "cell_type": "code",
   "execution_count": 12,
   "metadata": {},
   "outputs": [],
   "source": [
    "# inter_h2h['clave_rastreo'] = split_inter_2[4]"
   ]
  },
  {
   "cell_type": "code",
   "execution_count": 13,
   "metadata": {},
   "outputs": [],
   "source": [
    "# split_inter_3 = inter_h2h['time'].str.split(' ',n=7,expand=True).astype(str).replace(' ', '',regex=True)\n",
    "# split_inter_3.head()"
   ]
  },
  {
   "cell_type": "code",
   "execution_count": 14,
   "metadata": {},
   "outputs": [],
   "source": [
    "# inter_h2h['time_deposito'] = split_inter_3[5]"
   ]
  },
  {
   "cell_type": "code",
   "execution_count": 15,
   "metadata": {},
   "outputs": [],
   "source": [
    "# split_inter_4 = inter_h2h['CTA/CLABE'].str.split(':',n=7,expand=True).astype(str).replace(' ', '',regex=True)\n",
    "# split_inter_4.head()"
   ]
  },
  {
   "cell_type": "code",
   "execution_count": 16,
   "metadata": {},
   "outputs": [],
   "source": [
    "# inter_h2h['cuenta_clabe'] = split_inter_4[1]"
   ]
  },
  {
   "cell_type": "code",
   "execution_count": 17,
   "metadata": {},
   "outputs": [],
   "source": [
    "# inter_h2h.head()"
   ]
  },
  {
   "cell_type": "code",
   "execution_count": 18,
   "metadata": {},
   "outputs": [],
   "source": [
    "# inter_h2h.columns"
   ]
  },
  {
   "cell_type": "code",
   "execution_count": 19,
   "metadata": {},
   "outputs": [],
   "source": [
    "# inter_h2h_final = inter_h2h[['Fecha_operacion', 'Fecha_banco', 'Descripción', 'Depósitos', 'Retiros','Descripción Detallada'\n",
    "#                              ,'cuenta_clabe','clave_rastreo', 'time_deposito','Movimiento']]\n",
    "# inter_h2h_final.head()"
   ]
  },
  {
   "cell_type": "code",
   "execution_count": 20,
   "metadata": {},
   "outputs": [],
   "source": [
    "# inter_h2h_final.shape"
   ]
  },
  {
   "cell_type": "markdown",
   "metadata": {},
   "source": [
    "### MISMO BANCO"
   ]
  },
  {
   "cell_type": "code",
   "execution_count": 21,
   "metadata": {},
   "outputs": [],
   "source": [
    "# mban_h2h = edo_cta[(edo_cta['Descripción'].str.contains('TRASPASO'))][['Fecha_operacion','Fecha_banco','Descripción','Depósitos','Retiros','Descripción Detallada','Movimiento']]\n",
    "# mban_h2h.head()"
   ]
  },
  {
   "cell_type": "code",
   "execution_count": 22,
   "metadata": {},
   "outputs": [],
   "source": [
    "# mban_h2h.shape"
   ]
  },
  {
   "cell_type": "code",
   "execution_count": 23,
   "metadata": {},
   "outputs": [],
   "source": [
    "# split_mban = mban_h2h[\"Descripción\"].str.split(\":\",n=7,expand=True).replace(' ', '',regex=True)\n",
    "# split_mban.head()"
   ]
  },
  {
   "cell_type": "code",
   "execution_count": 24,
   "metadata": {},
   "outputs": [],
   "source": [
    "# split_mban.shape"
   ]
  },
  {
   "cell_type": "code",
   "execution_count": 25,
   "metadata": {},
   "outputs": [],
   "source": [
    "# mban_h2h[\"cuenta_clabe\"] = split_mban[1]"
   ]
  },
  {
   "cell_type": "code",
   "execution_count": 26,
   "metadata": {},
   "outputs": [],
   "source": [
    "# mban_h2h.head()"
   ]
  },
  {
   "cell_type": "code",
   "execution_count": 27,
   "metadata": {},
   "outputs": [],
   "source": [
    "# mban_h2h.shape"
   ]
  },
  {
   "cell_type": "code",
   "execution_count": 28,
   "metadata": {},
   "outputs": [],
   "source": [
    "# mban_h2h['clave_rastreo'] = 'COMPROBANTE BANORTE'\n",
    "# mban_h2h['time_deposito'] = 'TIME NO REPORTADO'"
   ]
  },
  {
   "cell_type": "code",
   "execution_count": 29,
   "metadata": {},
   "outputs": [],
   "source": [
    "# mban_h2h_final = mban_h2h[['Fecha_operacion', 'Fecha_banco', 'Descripción', 'Depósitos', 'Retiros','Descripción Detallada'\n",
    "#                              ,'cuenta_clabe','clave_rastreo', 'time_deposito','Movimiento']]\n",
    "# mban_h2h_final.head()"
   ]
  },
  {
   "cell_type": "code",
   "execution_count": 30,
   "metadata": {},
   "outputs": [],
   "source": [
    "# mban_h2h_final.shape"
   ]
  },
  {
   "cell_type": "markdown",
   "metadata": {},
   "source": [
    "### COMISIONES E IVA"
   ]
  },
  {
   "cell_type": "code",
   "execution_count": 31,
   "metadata": {},
   "outputs": [],
   "source": [
    "# comi_h2h = edo_cta[(edo_cta['Descripción'].str.contains('COMISION X OPERACION CB'))][['Fecha_operacion','Fecha_banco','Descripción','Depósitos','Retiros','Descripción Detallada','Movimiento']]\n",
    "# comi_h2h.sort_values(by=['Movimiento'],ascending=True,inplace=True)\n",
    "# comi_h2h.head()"
   ]
  },
  {
   "cell_type": "code",
   "execution_count": 32,
   "metadata": {},
   "outputs": [],
   "source": [
    "# comi_h2h.shape"
   ]
  },
  {
   "cell_type": "code",
   "execution_count": 33,
   "metadata": {},
   "outputs": [],
   "source": [
    "# comi_h2h['cuenta_clabe'] = ''\n",
    "# comi_h2h['clave_rastreo'] = ''\n",
    "# comi_h2h['time_deposito'] = ''"
   ]
  },
  {
   "cell_type": "code",
   "execution_count": 34,
   "metadata": {},
   "outputs": [],
   "source": [
    "# comi_h2h_final = comi_h2h[['Fecha_operacion', 'Fecha_banco', 'Descripción', 'Depósitos', 'Retiros','Descripción Detallada'\n",
    "#                              ,'cuenta_clabe','clave_rastreo', 'time_deposito','Movimiento']]\n",
    "# comi_h2h_final['fecha_envio'] = pd.DatetimeIndex(comi_h2h_final['Fecha_operacion']) - pd.DateOffset(1)"
   ]
  },
  {
   "cell_type": "code",
   "execution_count": 35,
   "metadata": {},
   "outputs": [],
   "source": [
    "# comi_h2h_final.loc[comi_h2h_final['Descripción'].str.contains('COMISION'), \"concepto\"] = 'comision'\n",
    "# comi_h2h_final.loc[comi_h2h_final['Descripción'].str.contains('IVA'), \"concepto\"] = 'iva'"
   ]
  },
  {
   "cell_type": "code",
   "execution_count": 36,
   "metadata": {},
   "outputs": [],
   "source": [
    "# comi_h2h_final.sort_values(by=['concepto','fecha_envio'],ascending=True,inplace=True)\n",
    "# comi_h2h_final['Depósitos'] = comi_h2h_final['Depósitos'].str.replace(',', '').str.replace('$', '').astype(float)\n",
    "# comi_h2h_final['Retiros'] = comi_h2h_final['Retiros'].str.replace(',', '').str.replace('$', '').astype(float)\n",
    "# comi_h2h_final.head()"
   ]
  },
  {
   "cell_type": "code",
   "execution_count": 37,
   "metadata": {},
   "outputs": [],
   "source": [
    "# comi_h2h_final.shape"
   ]
  },
  {
   "cell_type": "code",
   "execution_count": 38,
   "metadata": {},
   "outputs": [],
   "source": [
    "# comi_h2h_final.dtypes"
   ]
  },
  {
   "cell_type": "markdown",
   "metadata": {},
   "source": [
    "### CONSOLIDADO H2H"
   ]
  },
  {
   "cell_type": "code",
   "execution_count": 39,
   "metadata": {},
   "outputs": [],
   "source": [
    "# h2h_final = pd.concat([inter_h2h_final,mban_h2h_final,comi_h2h_final])\n",
    "# h2h_final.head()"
   ]
  },
  {
   "cell_type": "code",
   "execution_count": 40,
   "metadata": {},
   "outputs": [],
   "source": [
    "# h2h_final.shape"
   ]
  },
  {
   "cell_type": "markdown",
   "metadata": {},
   "source": [
    "### BIN"
   ]
  },
  {
   "cell_type": "code",
   "execution_count": 41,
   "metadata": {},
   "outputs": [
    {
     "data": {
      "text/html": [
       "<div>\n",
       "<style scoped>\n",
       "    .dataframe tbody tr th:only-of-type {\n",
       "        vertical-align: middle;\n",
       "    }\n",
       "\n",
       "    .dataframe tbody tr th {\n",
       "        vertical-align: top;\n",
       "    }\n",
       "\n",
       "    .dataframe thead th {\n",
       "        text-align: right;\n",
       "    }\n",
       "</style>\n",
       "<table border=\"1\" class=\"dataframe\">\n",
       "  <thead>\n",
       "    <tr style=\"text-align: right;\">\n",
       "      <th></th>\n",
       "      <th>BIN</th>\n",
       "      <th>Clave de la institución</th>\n",
       "      <th>Nombre de la institución</th>\n",
       "    </tr>\n",
       "  </thead>\n",
       "  <tbody>\n",
       "    <tr>\n",
       "      <th>0</th>\n",
       "      <td>138</td>\n",
       "      <td>40138</td>\n",
       "      <td>ABC CAPITAL</td>\n",
       "    </tr>\n",
       "    <tr>\n",
       "      <th>1</th>\n",
       "      <td>102</td>\n",
       "      <td>40102</td>\n",
       "      <td>ACCENDO BANCO</td>\n",
       "    </tr>\n",
       "    <tr>\n",
       "      <th>2</th>\n",
       "      <td>133</td>\n",
       "      <td>40133</td>\n",
       "      <td>ACTINVER</td>\n",
       "    </tr>\n",
       "    <tr>\n",
       "      <th>3</th>\n",
       "      <td>062</td>\n",
       "      <td>40062</td>\n",
       "      <td>AFIRME</td>\n",
       "    </tr>\n",
       "    <tr>\n",
       "      <th>4</th>\n",
       "      <td>638</td>\n",
       "      <td>90638</td>\n",
       "      <td>AKALA</td>\n",
       "    </tr>\n",
       "  </tbody>\n",
       "</table>\n",
       "</div>"
      ],
      "text/plain": [
       "   BIN Clave de la institución Nombre de la institución\n",
       "0  138                   40138              ABC CAPITAL\n",
       "1  102                   40102            ACCENDO BANCO\n",
       "2  133                   40133                 ACTINVER\n",
       "3  062                   40062                   AFIRME\n",
       "4  638                   90638                    AKALA"
      ]
     },
     "execution_count": 41,
     "metadata": {},
     "output_type": "execute_result"
    }
   ],
   "source": [
    "bin1 = pd.read_csv(r'C:\\Users\\Cristian.Aparicio\\Documents\\DISPERSIONES\\Catalogo_Bancos.csv'\n",
    "                   ,dtype={'BIN':str,'Clave de la institución':str,'Nombre de la institución':str})\n",
    "bin1.head()"
   ]
  },
  {
   "cell_type": "code",
   "execution_count": 42,
   "metadata": {},
   "outputs": [
    {
     "data": {
      "text/plain": [
       "(94, 3)"
      ]
     },
     "execution_count": 42,
     "metadata": {},
     "output_type": "execute_result"
    }
   ],
   "source": [
    "bin1.shape"
   ]
  },
  {
   "cell_type": "markdown",
   "metadata": {},
   "source": [
    "### ARCHIVO RESPUESTAS FAST PAYMENTS"
   ]
  },
  {
   "cell_type": "code",
   "execution_count": 43,
   "metadata": {},
   "outputs": [
    {
     "data": {
      "text/plain": [
       "['G:\\\\.shortcut-targets-by-id\\\\1Oe28Mf9uSidMamjllDen2gkNnC59eSUr\\\\3.-Settlement\\\\5.-HISTORICO FILES PAGOS\\\\02. FAST PAYMENTS\\\\2024\\\\01. ENERO\\\\QUERIES\\\\FP-ALL 2024-01-01.csv',\n",
       " 'G:\\\\.shortcut-targets-by-id\\\\1Oe28Mf9uSidMamjllDen2gkNnC59eSUr\\\\3.-Settlement\\\\5.-HISTORICO FILES PAGOS\\\\02. FAST PAYMENTS\\\\2024\\\\01. ENERO\\\\QUERIES\\\\FP-ALL 2024-01-02.csv',\n",
       " 'G:\\\\.shortcut-targets-by-id\\\\1Oe28Mf9uSidMamjllDen2gkNnC59eSUr\\\\3.-Settlement\\\\5.-HISTORICO FILES PAGOS\\\\02. FAST PAYMENTS\\\\2024\\\\01. ENERO\\\\QUERIES\\\\FP-ALL 2024-01-03.csv',\n",
       " 'G:\\\\.shortcut-targets-by-id\\\\1Oe28Mf9uSidMamjllDen2gkNnC59eSUr\\\\3.-Settlement\\\\5.-HISTORICO FILES PAGOS\\\\02. FAST PAYMENTS\\\\2024\\\\01. ENERO\\\\QUERIES\\\\FP-ALL 2024-01-04.csv',\n",
       " 'G:\\\\.shortcut-targets-by-id\\\\1Oe28Mf9uSidMamjllDen2gkNnC59eSUr\\\\3.-Settlement\\\\5.-HISTORICO FILES PAGOS\\\\02. FAST PAYMENTS\\\\2024\\\\01. ENERO\\\\QUERIES\\\\FP-ALL 2024-01-05.csv',\n",
       " 'G:\\\\.shortcut-targets-by-id\\\\1Oe28Mf9uSidMamjllDen2gkNnC59eSUr\\\\3.-Settlement\\\\5.-HISTORICO FILES PAGOS\\\\02. FAST PAYMENTS\\\\2024\\\\01. ENERO\\\\QUERIES\\\\FP-ALL 2024-01-06.csv',\n",
       " 'G:\\\\.shortcut-targets-by-id\\\\1Oe28Mf9uSidMamjllDen2gkNnC59eSUr\\\\3.-Settlement\\\\5.-HISTORICO FILES PAGOS\\\\02. FAST PAYMENTS\\\\2024\\\\01. ENERO\\\\QUERIES\\\\FP-ALL 2024-01-07.csv',\n",
       " 'G:\\\\.shortcut-targets-by-id\\\\1Oe28Mf9uSidMamjllDen2gkNnC59eSUr\\\\3.-Settlement\\\\5.-HISTORICO FILES PAGOS\\\\02. FAST PAYMENTS\\\\2024\\\\01. ENERO\\\\QUERIES\\\\FP-ALL 2024-01-08.csv',\n",
       " 'G:\\\\.shortcut-targets-by-id\\\\1Oe28Mf9uSidMamjllDen2gkNnC59eSUr\\\\3.-Settlement\\\\5.-HISTORICO FILES PAGOS\\\\02. FAST PAYMENTS\\\\2024\\\\01. ENERO\\\\QUERIES\\\\FP-ALL 2024-01-09.csv',\n",
       " 'G:\\\\.shortcut-targets-by-id\\\\1Oe28Mf9uSidMamjllDen2gkNnC59eSUr\\\\3.-Settlement\\\\5.-HISTORICO FILES PAGOS\\\\02. FAST PAYMENTS\\\\2024\\\\01. ENERO\\\\QUERIES\\\\FP-ALL 2024-01-10.csv',\n",
       " 'G:\\\\.shortcut-targets-by-id\\\\1Oe28Mf9uSidMamjllDen2gkNnC59eSUr\\\\3.-Settlement\\\\5.-HISTORICO FILES PAGOS\\\\02. FAST PAYMENTS\\\\2024\\\\01. ENERO\\\\QUERIES\\\\FP-ALL 2024-01-11.csv',\n",
       " 'G:\\\\.shortcut-targets-by-id\\\\1Oe28Mf9uSidMamjllDen2gkNnC59eSUr\\\\3.-Settlement\\\\5.-HISTORICO FILES PAGOS\\\\02. FAST PAYMENTS\\\\2024\\\\01. ENERO\\\\QUERIES\\\\FP-ALL 2024-01-12.csv',\n",
       " 'G:\\\\.shortcut-targets-by-id\\\\1Oe28Mf9uSidMamjllDen2gkNnC59eSUr\\\\3.-Settlement\\\\5.-HISTORICO FILES PAGOS\\\\02. FAST PAYMENTS\\\\2024\\\\01. ENERO\\\\QUERIES\\\\FP-ALL 2024-01-13.csv',\n",
       " 'G:\\\\.shortcut-targets-by-id\\\\1Oe28Mf9uSidMamjllDen2gkNnC59eSUr\\\\3.-Settlement\\\\5.-HISTORICO FILES PAGOS\\\\02. FAST PAYMENTS\\\\2024\\\\01. ENERO\\\\QUERIES\\\\FP-ALL 2024-01-14.csv',\n",
       " 'G:\\\\.shortcut-targets-by-id\\\\1Oe28Mf9uSidMamjllDen2gkNnC59eSUr\\\\3.-Settlement\\\\5.-HISTORICO FILES PAGOS\\\\02. FAST PAYMENTS\\\\2024\\\\01. ENERO\\\\QUERIES\\\\FP-ALL 2024-01-15.csv',\n",
       " 'G:\\\\.shortcut-targets-by-id\\\\1Oe28Mf9uSidMamjllDen2gkNnC59eSUr\\\\3.-Settlement\\\\5.-HISTORICO FILES PAGOS\\\\02. FAST PAYMENTS\\\\2024\\\\01. ENERO\\\\QUERIES\\\\FP-ALL 2024-01-16.csv',\n",
       " 'G:\\\\.shortcut-targets-by-id\\\\1Oe28Mf9uSidMamjllDen2gkNnC59eSUr\\\\3.-Settlement\\\\5.-HISTORICO FILES PAGOS\\\\02. FAST PAYMENTS\\\\2024\\\\01. ENERO\\\\QUERIES\\\\FP-ALL 2024-01-17.csv',\n",
       " 'G:\\\\.shortcut-targets-by-id\\\\1Oe28Mf9uSidMamjllDen2gkNnC59eSUr\\\\3.-Settlement\\\\5.-HISTORICO FILES PAGOS\\\\02. FAST PAYMENTS\\\\2024\\\\01. ENERO\\\\QUERIES\\\\FP-ALL 2024-01-18.csv',\n",
       " 'G:\\\\.shortcut-targets-by-id\\\\1Oe28Mf9uSidMamjllDen2gkNnC59eSUr\\\\3.-Settlement\\\\5.-HISTORICO FILES PAGOS\\\\02. FAST PAYMENTS\\\\2024\\\\01. ENERO\\\\QUERIES\\\\FP-ALL 2024-01-19.csv',\n",
       " 'G:\\\\.shortcut-targets-by-id\\\\1Oe28Mf9uSidMamjllDen2gkNnC59eSUr\\\\3.-Settlement\\\\5.-HISTORICO FILES PAGOS\\\\02. FAST PAYMENTS\\\\2024\\\\01. ENERO\\\\QUERIES\\\\FP-ALL 2024-01-20.csv',\n",
       " 'G:\\\\.shortcut-targets-by-id\\\\1Oe28Mf9uSidMamjllDen2gkNnC59eSUr\\\\3.-Settlement\\\\5.-HISTORICO FILES PAGOS\\\\02. FAST PAYMENTS\\\\2024\\\\01. ENERO\\\\QUERIES\\\\FP-ALL 2024-01-21.csv',\n",
       " 'G:\\\\.shortcut-targets-by-id\\\\1Oe28Mf9uSidMamjllDen2gkNnC59eSUr\\\\3.-Settlement\\\\5.-HISTORICO FILES PAGOS\\\\02. FAST PAYMENTS\\\\2024\\\\01. ENERO\\\\QUERIES\\\\FP-ALL 2024-01-22.csv',\n",
       " 'G:\\\\.shortcut-targets-by-id\\\\1Oe28Mf9uSidMamjllDen2gkNnC59eSUr\\\\3.-Settlement\\\\5.-HISTORICO FILES PAGOS\\\\02. FAST PAYMENTS\\\\2024\\\\01. ENERO\\\\QUERIES\\\\FP-ALL 2024-01-23.csv',\n",
       " 'G:\\\\.shortcut-targets-by-id\\\\1Oe28Mf9uSidMamjllDen2gkNnC59eSUr\\\\3.-Settlement\\\\5.-HISTORICO FILES PAGOS\\\\02. FAST PAYMENTS\\\\2024\\\\01. ENERO\\\\QUERIES\\\\FP-ALL 2024-01-24.csv',\n",
       " 'G:\\\\.shortcut-targets-by-id\\\\1Oe28Mf9uSidMamjllDen2gkNnC59eSUr\\\\3.-Settlement\\\\5.-HISTORICO FILES PAGOS\\\\02. FAST PAYMENTS\\\\2024\\\\01. ENERO\\\\QUERIES\\\\FP-ALL 2024-01-25.csv',\n",
       " 'G:\\\\.shortcut-targets-by-id\\\\1Oe28Mf9uSidMamjllDen2gkNnC59eSUr\\\\3.-Settlement\\\\5.-HISTORICO FILES PAGOS\\\\02. FAST PAYMENTS\\\\2024\\\\01. ENERO\\\\QUERIES\\\\FP-ALL 2024-01-26.csv',\n",
       " 'G:\\\\.shortcut-targets-by-id\\\\1Oe28Mf9uSidMamjllDen2gkNnC59eSUr\\\\3.-Settlement\\\\5.-HISTORICO FILES PAGOS\\\\02. FAST PAYMENTS\\\\2024\\\\01. ENERO\\\\QUERIES\\\\FP-ALL 2024-01-27.csv',\n",
       " 'G:\\\\.shortcut-targets-by-id\\\\1Oe28Mf9uSidMamjllDen2gkNnC59eSUr\\\\3.-Settlement\\\\5.-HISTORICO FILES PAGOS\\\\02. FAST PAYMENTS\\\\2024\\\\01. ENERO\\\\QUERIES\\\\FP-ALL 2024-01-28.csv',\n",
       " 'G:\\\\.shortcut-targets-by-id\\\\1Oe28Mf9uSidMamjllDen2gkNnC59eSUr\\\\3.-Settlement\\\\5.-HISTORICO FILES PAGOS\\\\02. FAST PAYMENTS\\\\2024\\\\01. ENERO\\\\QUERIES\\\\FP-ALL 2024-01-29.csv',\n",
       " 'G:\\\\.shortcut-targets-by-id\\\\1Oe28Mf9uSidMamjllDen2gkNnC59eSUr\\\\3.-Settlement\\\\5.-HISTORICO FILES PAGOS\\\\02. FAST PAYMENTS\\\\2024\\\\01. ENERO\\\\QUERIES\\\\FP-ALL 2024-01-30.csv',\n",
       " 'G:\\\\.shortcut-targets-by-id\\\\1Oe28Mf9uSidMamjllDen2gkNnC59eSUr\\\\3.-Settlement\\\\5.-HISTORICO FILES PAGOS\\\\02. FAST PAYMENTS\\\\2024\\\\01. ENERO\\\\QUERIES\\\\FP-ALL 2024-01-31.csv']"
      ]
     },
     "execution_count": 43,
     "metadata": {},
     "output_type": "execute_result"
    }
   ],
   "source": [
    "fp_1 = glob.glob(r'G:\\.shortcut-targets-by-id\\1Oe28Mf9uSidMamjllDen2gkNnC59eSUr\\3.-Settlement\\5.-HISTORICO FILES PAGOS\\02. FAST PAYMENTS\\2024\\01. ENERO\\QUERIES\\*.csv', recursive=False)\n",
    "fp_1"
   ]
  },
  {
   "cell_type": "code",
   "execution_count": 44,
   "metadata": {},
   "outputs": [
    {
     "data": {
      "text/html": [
       "<div>\n",
       "<style scoped>\n",
       "    .dataframe tbody tr th:only-of-type {\n",
       "        vertical-align: middle;\n",
       "    }\n",
       "\n",
       "    .dataframe tbody tr th {\n",
       "        vertical-align: top;\n",
       "    }\n",
       "\n",
       "    .dataframe thead th {\n",
       "        text-align: right;\n",
       "    }\n",
       "</style>\n",
       "<table border=\"1\" class=\"dataframe\">\n",
       "  <thead>\n",
       "    <tr style=\"text-align: right;\">\n",
       "      <th></th>\n",
       "      <th>type</th>\n",
       "      <th>merchant_id</th>\n",
       "      <th>merchant_token</th>\n",
       "      <th>merchant_name</th>\n",
       "      <th>user_email</th>\n",
       "      <th>report_id</th>\n",
       "      <th>report_date_local</th>\n",
       "      <th>amount</th>\n",
       "      <th>status</th>\n",
       "      <th>bank_name</th>\n",
       "      <th>payment_date_local</th>\n",
       "      <th>bank_account_owner_name</th>\n",
       "      <th>bank_account_number</th>\n",
       "      <th>batch_created_date</th>\n",
       "      <th>disbursement_method</th>\n",
       "      <th>swap</th>\n",
       "      <th>file_name</th>\n",
       "      <th>date_envio</th>\n",
       "    </tr>\n",
       "  </thead>\n",
       "  <tbody>\n",
       "    <tr>\n",
       "      <th>2684</th>\n",
       "      <td>NaN</td>\n",
       "      <td>ff7cd248-8746-4f20-a7bf-68c53f67f751</td>\n",
       "      <td>NaN</td>\n",
       "      <td>NaN</td>\n",
       "      <td>NaN</td>\n",
       "      <td>AMHJ8KWCD</td>\n",
       "      <td>2024-01-31</td>\n",
       "      <td>71.87</td>\n",
       "      <td>PAID</td>\n",
       "      <td>Opciones Empresariales del Noreste, S.A. de C....</td>\n",
       "      <td>2024-01-31</td>\n",
       "      <td>Alfonso Nieto Barbosa</td>\n",
       "      <td>'659802020000068105</td>\n",
       "      <td>2024-01-31</td>\n",
       "      <td>SANTANDER</td>\n",
       "      <td>Alfonso Nieto Barbosa,,71.87,65980202000006810...</td>\n",
       "      <td>FP-ALL 2024-01-31.csv</td>\n",
       "      <td>2024-01-31</td>\n",
       "    </tr>\n",
       "    <tr>\n",
       "      <th>2685</th>\n",
       "      <td>NaN</td>\n",
       "      <td>ff8f3a93-ab04-4e3c-b672-4e210afe844e</td>\n",
       "      <td>NaN</td>\n",
       "      <td>NaN</td>\n",
       "      <td>NaN</td>\n",
       "      <td>A97V8HPNP</td>\n",
       "      <td>2024-01-31</td>\n",
       "      <td>186.86</td>\n",
       "      <td>PAID</td>\n",
       "      <td>BBVA Bancomer, S.A.</td>\n",
       "      <td>2024-01-31</td>\n",
       "      <td>Daniela Yessenia Cruz Herbert</td>\n",
       "      <td>'012158015486793989</td>\n",
       "      <td>2024-01-31</td>\n",
       "      <td>SANTANDER</td>\n",
       "      <td>Daniela Yessenia Cruz Herbert,,186.86,01215801...</td>\n",
       "      <td>FP-ALL 2024-01-31.csv</td>\n",
       "      <td>2024-01-31</td>\n",
       "    </tr>\n",
       "    <tr>\n",
       "      <th>2686</th>\n",
       "      <td>NaN</td>\n",
       "      <td>ff8f3a93-ab04-4e3c-b672-4e210afe844e</td>\n",
       "      <td>NaN</td>\n",
       "      <td>NaN</td>\n",
       "      <td>NaN</td>\n",
       "      <td>A8QFM5DPN</td>\n",
       "      <td>2024-01-31</td>\n",
       "      <td>321.01</td>\n",
       "      <td>PAID</td>\n",
       "      <td>BBVA Bancomer, S.A.</td>\n",
       "      <td>2024-01-31</td>\n",
       "      <td>Daniela Yessenia Cruz Herbert</td>\n",
       "      <td>'012158015486793989</td>\n",
       "      <td>2024-01-31</td>\n",
       "      <td>SANTANDER</td>\n",
       "      <td>Daniela Yessenia Cruz Herbert,,321.01,01215801...</td>\n",
       "      <td>FP-ALL 2024-01-31.csv</td>\n",
       "      <td>2024-01-31</td>\n",
       "    </tr>\n",
       "    <tr>\n",
       "      <th>2687</th>\n",
       "      <td>NaN</td>\n",
       "      <td>ff8f3a93-ab04-4e3c-b672-4e210afe844e</td>\n",
       "      <td>NaN</td>\n",
       "      <td>NaN</td>\n",
       "      <td>NaN</td>\n",
       "      <td>APQ32XVLK</td>\n",
       "      <td>2024-01-31</td>\n",
       "      <td>105.41</td>\n",
       "      <td>PAID</td>\n",
       "      <td>BBVA Bancomer, S.A.</td>\n",
       "      <td>2024-01-31</td>\n",
       "      <td>Daniela Yessenia Cruz Herbert</td>\n",
       "      <td>'012158015486793989</td>\n",
       "      <td>2024-01-31</td>\n",
       "      <td>CITI</td>\n",
       "      <td>Daniela Yessenia Cruz Herbert,,105.41,01215801...</td>\n",
       "      <td>FP-ALL 2024-01-31.csv</td>\n",
       "      <td>2024-01-31</td>\n",
       "    </tr>\n",
       "    <tr>\n",
       "      <th>2688</th>\n",
       "      <td>NaN</td>\n",
       "      <td>ffd8bb53-ffb9-4dde-a005-cc74be75fe1e</td>\n",
       "      <td>NaN</td>\n",
       "      <td>NaN</td>\n",
       "      <td>NaN</td>\n",
       "      <td>AWG8NSCCV</td>\n",
       "      <td>2024-01-31</td>\n",
       "      <td>271.18</td>\n",
       "      <td>ERROR</td>\n",
       "      <td>BBVA Bancomer</td>\n",
       "      <td>2024-01-31</td>\n",
       "      <td>Ester Lucero Aragon</td>\n",
       "      <td>'012180015379647039</td>\n",
       "      <td>2024-01-31</td>\n",
       "      <td>CITI</td>\n",
       "      <td>Ester Lucero Aragon,,271.18,012180015379647039...</td>\n",
       "      <td>FP-ALL 2024-01-31.csv</td>\n",
       "      <td>2024-01-31</td>\n",
       "    </tr>\n",
       "  </tbody>\n",
       "</table>\n",
       "</div>"
      ],
      "text/plain": [
       "     type                           merchant_id merchant_token merchant_name  \\\n",
       "2684  NaN  ff7cd248-8746-4f20-a7bf-68c53f67f751            NaN           NaN   \n",
       "2685  NaN  ff8f3a93-ab04-4e3c-b672-4e210afe844e            NaN           NaN   \n",
       "2686  NaN  ff8f3a93-ab04-4e3c-b672-4e210afe844e            NaN           NaN   \n",
       "2687  NaN  ff8f3a93-ab04-4e3c-b672-4e210afe844e            NaN           NaN   \n",
       "2688  NaN  ffd8bb53-ffb9-4dde-a005-cc74be75fe1e            NaN           NaN   \n",
       "\n",
       "     user_email  report_id report_date_local  amount status  \\\n",
       "2684        NaN  AMHJ8KWCD        2024-01-31   71.87   PAID   \n",
       "2685        NaN  A97V8HPNP        2024-01-31  186.86   PAID   \n",
       "2686        NaN  A8QFM5DPN        2024-01-31  321.01   PAID   \n",
       "2687        NaN  APQ32XVLK        2024-01-31  105.41   PAID   \n",
       "2688        NaN  AWG8NSCCV        2024-01-31  271.18  ERROR   \n",
       "\n",
       "                                              bank_name payment_date_local  \\\n",
       "2684  Opciones Empresariales del Noreste, S.A. de C....         2024-01-31   \n",
       "2685                                BBVA Bancomer, S.A.         2024-01-31   \n",
       "2686                                BBVA Bancomer, S.A.         2024-01-31   \n",
       "2687                                BBVA Bancomer, S.A.         2024-01-31   \n",
       "2688                                      BBVA Bancomer         2024-01-31   \n",
       "\n",
       "            bank_account_owner_name  bank_account_number batch_created_date  \\\n",
       "2684          Alfonso Nieto Barbosa  '659802020000068105         2024-01-31   \n",
       "2685  Daniela Yessenia Cruz Herbert  '012158015486793989         2024-01-31   \n",
       "2686  Daniela Yessenia Cruz Herbert  '012158015486793989         2024-01-31   \n",
       "2687  Daniela Yessenia Cruz Herbert  '012158015486793989         2024-01-31   \n",
       "2688            Ester Lucero Aragon  '012180015379647039         2024-01-31   \n",
       "\n",
       "     disbursement_method                                               swap  \\\n",
       "2684           SANTANDER  Alfonso Nieto Barbosa,,71.87,65980202000006810...   \n",
       "2685           SANTANDER  Daniela Yessenia Cruz Herbert,,186.86,01215801...   \n",
       "2686           SANTANDER  Daniela Yessenia Cruz Herbert,,321.01,01215801...   \n",
       "2687                CITI  Daniela Yessenia Cruz Herbert,,105.41,01215801...   \n",
       "2688                CITI  Ester Lucero Aragon,,271.18,012180015379647039...   \n",
       "\n",
       "                  file_name date_envio  \n",
       "2684  FP-ALL 2024-01-31.csv 2024-01-31  \n",
       "2685  FP-ALL 2024-01-31.csv 2024-01-31  \n",
       "2686  FP-ALL 2024-01-31.csv 2024-01-31  \n",
       "2687  FP-ALL 2024-01-31.csv 2024-01-31  \n",
       "2688  FP-ALL 2024-01-31.csv 2024-01-31  "
      ]
     },
     "execution_count": 44,
     "metadata": {},
     "output_type": "execute_result"
    }
   ],
   "source": [
    "fp_total = pd.concat([pd.read_csv(f,dtype={'report_id':object}).assign(file_name=os.path.basename(f)) for f in fp_1])\n",
    "fp_total['date_envio'] = fp_total[\"file_name\"].str[-14:-4]\n",
    "fp_total['payment_date_local'] = fp_total[\"payment_date_local\"].str[:10]\n",
    "fp_total['batch_created_date'] = fp_total[\"batch_created_date\"].str[:10]\n",
    "fp_total['date_envio'] = pd.to_datetime(fp_total['date_envio'])\n",
    "fp_total['report_date_local'] = pd.to_datetime(fp_total['report_date_local']) \n",
    "fp_total['payment_date_local'] = pd.to_datetime(fp_total[\"payment_date_local\"])\n",
    "fp_total['batch_created_date'] = pd.to_datetime(fp_total['batch_created_date'])\n",
    "fp_total.tail()"
   ]
  },
  {
   "cell_type": "code",
   "execution_count": 45,
   "metadata": {},
   "outputs": [
    {
     "data": {
      "text/plain": [
       "(74601, 18)"
      ]
     },
     "execution_count": 45,
     "metadata": {},
     "output_type": "execute_result"
    }
   ],
   "source": [
    "fp_total.shape"
   ]
  },
  {
   "cell_type": "code",
   "execution_count": 46,
   "metadata": {},
   "outputs": [
    {
     "data": {
      "text/plain": [
       "type                               object\n",
       "merchant_id                        object\n",
       "merchant_token                     object\n",
       "merchant_name                      object\n",
       "user_email                         object\n",
       "report_id                          object\n",
       "report_date_local          datetime64[ns]\n",
       "amount                            float64\n",
       "status                             object\n",
       "bank_name                          object\n",
       "payment_date_local         datetime64[ns]\n",
       "bank_account_owner_name            object\n",
       "bank_account_number                object\n",
       "batch_created_date         datetime64[ns]\n",
       "disbursement_method                object\n",
       "swap                               object\n",
       "file_name                          object\n",
       "date_envio                 datetime64[ns]\n",
       "dtype: object"
      ]
     },
     "execution_count": 46,
     "metadata": {},
     "output_type": "execute_result"
    }
   ],
   "source": [
    "fp_total.dtypes"
   ]
  },
  {
   "cell_type": "code",
   "execution_count": 47,
   "metadata": {},
   "outputs": [
    {
     "data": {
      "text/html": [
       "<div>\n",
       "<style scoped>\n",
       "    .dataframe tbody tr th:only-of-type {\n",
       "        vertical-align: middle;\n",
       "    }\n",
       "\n",
       "    .dataframe tbody tr th {\n",
       "        vertical-align: top;\n",
       "    }\n",
       "\n",
       "    .dataframe thead th {\n",
       "        text-align: right;\n",
       "    }\n",
       "</style>\n",
       "<table border=\"1\" class=\"dataframe\">\n",
       "  <thead>\n",
       "    <tr style=\"text-align: right;\">\n",
       "      <th></th>\n",
       "      <th>0</th>\n",
       "      <th>1</th>\n",
       "      <th>2</th>\n",
       "      <th>3</th>\n",
       "      <th>4</th>\n",
       "    </tr>\n",
       "  </thead>\n",
       "  <tbody>\n",
       "    <tr>\n",
       "      <th>0</th>\n",
       "      <td>Guadalupe Carmen Villa Vazquez</td>\n",
       "      <td></td>\n",
       "      <td>19.16</td>\n",
       "      <td>659802020000471271</td>\n",
       "      <td>CLIP-ANWBMZHND</td>\n",
       "    </tr>\n",
       "    <tr>\n",
       "      <th>1</th>\n",
       "      <td>Omar Polo Ochoa</td>\n",
       "      <td></td>\n",
       "      <td>565.36</td>\n",
       "      <td>127456013890994028</td>\n",
       "      <td>CLIP-A5LLH3TWL</td>\n",
       "    </tr>\n",
       "    <tr>\n",
       "      <th>2</th>\n",
       "      <td>Omar Polo Ochoa</td>\n",
       "      <td></td>\n",
       "      <td>340.18</td>\n",
       "      <td>127456013890994028</td>\n",
       "      <td>CLIP-A9VMKFLT9</td>\n",
       "    </tr>\n",
       "    <tr>\n",
       "      <th>3</th>\n",
       "      <td>Omar Polo Ochoa</td>\n",
       "      <td></td>\n",
       "      <td>730.18</td>\n",
       "      <td>127456013890994028</td>\n",
       "      <td>CLIP-AL636FYCJ</td>\n",
       "    </tr>\n",
       "    <tr>\n",
       "      <th>4</th>\n",
       "      <td>Omar Polo Ochoa</td>\n",
       "      <td></td>\n",
       "      <td>259.68</td>\n",
       "      <td>127456013890994028</td>\n",
       "      <td>CLIP-AJS284JFN</td>\n",
       "    </tr>\n",
       "  </tbody>\n",
       "</table>\n",
       "</div>"
      ],
      "text/plain": [
       "                                0 1       2                   3  \\\n",
       "0  Guadalupe Carmen Villa Vazquez     19.16  659802020000471271   \n",
       "1                 Omar Polo Ochoa    565.36  127456013890994028   \n",
       "2                 Omar Polo Ochoa    340.18  127456013890994028   \n",
       "3                 Omar Polo Ochoa    730.18  127456013890994028   \n",
       "4                 Omar Polo Ochoa    259.68  127456013890994028   \n",
       "\n",
       "                4  \n",
       "0  CLIP-ANWBMZHND  \n",
       "1  CLIP-A5LLH3TWL  \n",
       "2  CLIP-A9VMKFLT9  \n",
       "3  CLIP-AL636FYCJ  \n",
       "4  CLIP-AJS284JFN  "
      ]
     },
     "execution_count": 47,
     "metadata": {},
     "output_type": "execute_result"
    }
   ],
   "source": [
    "split_fp = fp_total[\"swap\"].str.split(\",\",n=7,expand=True)\n",
    "split_fp.head()"
   ]
  },
  {
   "cell_type": "code",
   "execution_count": 48,
   "metadata": {},
   "outputs": [],
   "source": [
    "fp_total[\"beneficiario\"] = split_fp[0]\n",
    "fp_total[\"CLABE\"] = split_fp[3]\n",
    "fp_total['BIN'] = fp_total['CLABE'].str[:3].replace(' ', '',regex=True)"
   ]
  },
  {
   "cell_type": "code",
   "execution_count": 49,
   "metadata": {},
   "outputs": [
    {
     "data": {
      "text/html": [
       "<div>\n",
       "<style scoped>\n",
       "    .dataframe tbody tr th:only-of-type {\n",
       "        vertical-align: middle;\n",
       "    }\n",
       "\n",
       "    .dataframe tbody tr th {\n",
       "        vertical-align: top;\n",
       "    }\n",
       "\n",
       "    .dataframe thead th {\n",
       "        text-align: right;\n",
       "    }\n",
       "</style>\n",
       "<table border=\"1\" class=\"dataframe\">\n",
       "  <thead>\n",
       "    <tr style=\"text-align: right;\">\n",
       "      <th></th>\n",
       "      <th>type</th>\n",
       "      <th>merchant_id</th>\n",
       "      <th>merchant_token</th>\n",
       "      <th>merchant_name</th>\n",
       "      <th>user_email</th>\n",
       "      <th>report_id</th>\n",
       "      <th>report_date_local</th>\n",
       "      <th>amount</th>\n",
       "      <th>status</th>\n",
       "      <th>bank_name</th>\n",
       "      <th>...</th>\n",
       "      <th>bank_account_owner_name</th>\n",
       "      <th>bank_account_number</th>\n",
       "      <th>batch_created_date</th>\n",
       "      <th>disbursement_method</th>\n",
       "      <th>swap</th>\n",
       "      <th>file_name</th>\n",
       "      <th>date_envio</th>\n",
       "      <th>beneficiario</th>\n",
       "      <th>CLABE</th>\n",
       "      <th>BIN</th>\n",
       "    </tr>\n",
       "  </thead>\n",
       "  <tbody>\n",
       "    <tr>\n",
       "      <th>0</th>\n",
       "      <td>NaN</td>\n",
       "      <td>00094c06-2b54-4569-9314-00c3c213297c</td>\n",
       "      <td>NaN</td>\n",
       "      <td>NaN</td>\n",
       "      <td>NaN</td>\n",
       "      <td>ANWBMZHND</td>\n",
       "      <td>2024-01-01</td>\n",
       "      <td>19.16</td>\n",
       "      <td>PAID</td>\n",
       "      <td>Opciones Empresariales del Noreste, S.A. de C....</td>\n",
       "      <td>...</td>\n",
       "      <td>Guadalupe Carmen Villa Vazquez</td>\n",
       "      <td>'659802020000471271</td>\n",
       "      <td>2024-01-01</td>\n",
       "      <td>BANORTE</td>\n",
       "      <td>Guadalupe Carmen Villa Vazquez,,19.16,65980202...</td>\n",
       "      <td>FP-ALL 2024-01-01.csv</td>\n",
       "      <td>2024-01-01</td>\n",
       "      <td>Guadalupe Carmen Villa Vazquez</td>\n",
       "      <td>659802020000471271</td>\n",
       "      <td>659</td>\n",
       "    </tr>\n",
       "    <tr>\n",
       "      <th>1</th>\n",
       "      <td>NaN</td>\n",
       "      <td>00bf0fb9-405a-4b41-9ace-14dfe8e0b471</td>\n",
       "      <td>NaN</td>\n",
       "      <td>NaN</td>\n",
       "      <td>NaN</td>\n",
       "      <td>A5LLH3TWL</td>\n",
       "      <td>2024-01-01</td>\n",
       "      <td>565.36</td>\n",
       "      <td>PAID</td>\n",
       "      <td>AZTECA</td>\n",
       "      <td>...</td>\n",
       "      <td>Omar Polo Ochoa</td>\n",
       "      <td>'127456013890994028</td>\n",
       "      <td>2024-01-01</td>\n",
       "      <td>BANORTE</td>\n",
       "      <td>Omar Polo Ochoa,,565.36,127456013890994028,CLI...</td>\n",
       "      <td>FP-ALL 2024-01-01.csv</td>\n",
       "      <td>2024-01-01</td>\n",
       "      <td>Omar Polo Ochoa</td>\n",
       "      <td>127456013890994028</td>\n",
       "      <td>127</td>\n",
       "    </tr>\n",
       "    <tr>\n",
       "      <th>2</th>\n",
       "      <td>NaN</td>\n",
       "      <td>00bf0fb9-405a-4b41-9ace-14dfe8e0b471</td>\n",
       "      <td>NaN</td>\n",
       "      <td>NaN</td>\n",
       "      <td>NaN</td>\n",
       "      <td>A9VMKFLT9</td>\n",
       "      <td>2024-01-01</td>\n",
       "      <td>340.18</td>\n",
       "      <td>PAID</td>\n",
       "      <td>AZTECA</td>\n",
       "      <td>...</td>\n",
       "      <td>Omar Polo Ochoa</td>\n",
       "      <td>'127456013890994028</td>\n",
       "      <td>2024-01-01</td>\n",
       "      <td>BANORTE</td>\n",
       "      <td>Omar Polo Ochoa,,340.18,127456013890994028,CLI...</td>\n",
       "      <td>FP-ALL 2024-01-01.csv</td>\n",
       "      <td>2024-01-01</td>\n",
       "      <td>Omar Polo Ochoa</td>\n",
       "      <td>127456013890994028</td>\n",
       "      <td>127</td>\n",
       "    </tr>\n",
       "    <tr>\n",
       "      <th>3</th>\n",
       "      <td>NaN</td>\n",
       "      <td>00bf0fb9-405a-4b41-9ace-14dfe8e0b471</td>\n",
       "      <td>NaN</td>\n",
       "      <td>NaN</td>\n",
       "      <td>NaN</td>\n",
       "      <td>AL636FYCJ</td>\n",
       "      <td>2024-01-01</td>\n",
       "      <td>730.18</td>\n",
       "      <td>PAID</td>\n",
       "      <td>AZTECA</td>\n",
       "      <td>...</td>\n",
       "      <td>Omar Polo Ochoa</td>\n",
       "      <td>'127456013890994028</td>\n",
       "      <td>2024-01-01</td>\n",
       "      <td>BANORTE</td>\n",
       "      <td>Omar Polo Ochoa,,730.18,127456013890994028,CLI...</td>\n",
       "      <td>FP-ALL 2024-01-01.csv</td>\n",
       "      <td>2024-01-01</td>\n",
       "      <td>Omar Polo Ochoa</td>\n",
       "      <td>127456013890994028</td>\n",
       "      <td>127</td>\n",
       "    </tr>\n",
       "    <tr>\n",
       "      <th>4</th>\n",
       "      <td>NaN</td>\n",
       "      <td>00bf0fb9-405a-4b41-9ace-14dfe8e0b471</td>\n",
       "      <td>NaN</td>\n",
       "      <td>NaN</td>\n",
       "      <td>NaN</td>\n",
       "      <td>AJS284JFN</td>\n",
       "      <td>2024-01-01</td>\n",
       "      <td>259.68</td>\n",
       "      <td>PAID</td>\n",
       "      <td>AZTECA</td>\n",
       "      <td>...</td>\n",
       "      <td>Omar Polo Ochoa</td>\n",
       "      <td>'127456013890994028</td>\n",
       "      <td>2024-01-01</td>\n",
       "      <td>BANORTE</td>\n",
       "      <td>Omar Polo Ochoa,,259.68,127456013890994028,CLI...</td>\n",
       "      <td>FP-ALL 2024-01-01.csv</td>\n",
       "      <td>2024-01-01</td>\n",
       "      <td>Omar Polo Ochoa</td>\n",
       "      <td>127456013890994028</td>\n",
       "      <td>127</td>\n",
       "    </tr>\n",
       "  </tbody>\n",
       "</table>\n",
       "<p>5 rows × 21 columns</p>\n",
       "</div>"
      ],
      "text/plain": [
       "  type                           merchant_id merchant_token merchant_name  \\\n",
       "0  NaN  00094c06-2b54-4569-9314-00c3c213297c            NaN           NaN   \n",
       "1  NaN  00bf0fb9-405a-4b41-9ace-14dfe8e0b471            NaN           NaN   \n",
       "2  NaN  00bf0fb9-405a-4b41-9ace-14dfe8e0b471            NaN           NaN   \n",
       "3  NaN  00bf0fb9-405a-4b41-9ace-14dfe8e0b471            NaN           NaN   \n",
       "4  NaN  00bf0fb9-405a-4b41-9ace-14dfe8e0b471            NaN           NaN   \n",
       "\n",
       "  user_email  report_id report_date_local  amount status  \\\n",
       "0        NaN  ANWBMZHND        2024-01-01   19.16   PAID   \n",
       "1        NaN  A5LLH3TWL        2024-01-01  565.36   PAID   \n",
       "2        NaN  A9VMKFLT9        2024-01-01  340.18   PAID   \n",
       "3        NaN  AL636FYCJ        2024-01-01  730.18   PAID   \n",
       "4        NaN  AJS284JFN        2024-01-01  259.68   PAID   \n",
       "\n",
       "                                           bank_name  ...  \\\n",
       "0  Opciones Empresariales del Noreste, S.A. de C....  ...   \n",
       "1                                             AZTECA  ...   \n",
       "2                                             AZTECA  ...   \n",
       "3                                             AZTECA  ...   \n",
       "4                                             AZTECA  ...   \n",
       "\n",
       "          bank_account_owner_name  bank_account_number batch_created_date  \\\n",
       "0  Guadalupe Carmen Villa Vazquez  '659802020000471271         2024-01-01   \n",
       "1                 Omar Polo Ochoa  '127456013890994028         2024-01-01   \n",
       "2                 Omar Polo Ochoa  '127456013890994028         2024-01-01   \n",
       "3                 Omar Polo Ochoa  '127456013890994028         2024-01-01   \n",
       "4                 Omar Polo Ochoa  '127456013890994028         2024-01-01   \n",
       "\n",
       "  disbursement_method                                               swap  \\\n",
       "0             BANORTE  Guadalupe Carmen Villa Vazquez,,19.16,65980202...   \n",
       "1             BANORTE  Omar Polo Ochoa,,565.36,127456013890994028,CLI...   \n",
       "2             BANORTE  Omar Polo Ochoa,,340.18,127456013890994028,CLI...   \n",
       "3             BANORTE  Omar Polo Ochoa,,730.18,127456013890994028,CLI...   \n",
       "4             BANORTE  Omar Polo Ochoa,,259.68,127456013890994028,CLI...   \n",
       "\n",
       "               file_name date_envio                    beneficiario  \\\n",
       "0  FP-ALL 2024-01-01.csv 2024-01-01  Guadalupe Carmen Villa Vazquez   \n",
       "1  FP-ALL 2024-01-01.csv 2024-01-01                 Omar Polo Ochoa   \n",
       "2  FP-ALL 2024-01-01.csv 2024-01-01                 Omar Polo Ochoa   \n",
       "3  FP-ALL 2024-01-01.csv 2024-01-01                 Omar Polo Ochoa   \n",
       "4  FP-ALL 2024-01-01.csv 2024-01-01                 Omar Polo Ochoa   \n",
       "\n",
       "                CLABE  BIN  \n",
       "0  659802020000471271  659  \n",
       "1  127456013890994028  127  \n",
       "2  127456013890994028  127  \n",
       "3  127456013890994028  127  \n",
       "4  127456013890994028  127  \n",
       "\n",
       "[5 rows x 21 columns]"
      ]
     },
     "execution_count": 49,
     "metadata": {},
     "output_type": "execute_result"
    }
   ],
   "source": [
    "fp_total.head()"
   ]
  },
  {
   "cell_type": "code",
   "execution_count": 50,
   "metadata": {},
   "outputs": [
    {
     "data": {
      "text/plain": [
       "(74601, 21)"
      ]
     },
     "execution_count": 50,
     "metadata": {},
     "output_type": "execute_result"
    }
   ],
   "source": [
    "fp_total.shape"
   ]
  },
  {
   "cell_type": "code",
   "execution_count": 51,
   "metadata": {},
   "outputs": [
    {
     "data": {
      "text/html": [
       "<div>\n",
       "<style scoped>\n",
       "    .dataframe tbody tr th:only-of-type {\n",
       "        vertical-align: middle;\n",
       "    }\n",
       "\n",
       "    .dataframe tbody tr th {\n",
       "        vertical-align: top;\n",
       "    }\n",
       "\n",
       "    .dataframe thead th {\n",
       "        text-align: right;\n",
       "    }\n",
       "</style>\n",
       "<table border=\"1\" class=\"dataframe\">\n",
       "  <thead>\n",
       "    <tr style=\"text-align: right;\">\n",
       "      <th></th>\n",
       "      <th>type</th>\n",
       "      <th>merchant_id</th>\n",
       "      <th>merchant_token</th>\n",
       "      <th>merchant_name</th>\n",
       "      <th>user_email</th>\n",
       "      <th>report_id</th>\n",
       "      <th>report_date_local</th>\n",
       "      <th>amount</th>\n",
       "      <th>status</th>\n",
       "      <th>bank_name</th>\n",
       "      <th>...</th>\n",
       "      <th>bank_account_number</th>\n",
       "      <th>batch_created_date</th>\n",
       "      <th>disbursement_method</th>\n",
       "      <th>swap</th>\n",
       "      <th>file_name</th>\n",
       "      <th>date_envio</th>\n",
       "      <th>beneficiario</th>\n",
       "      <th>CLABE</th>\n",
       "      <th>BIN</th>\n",
       "      <th>bank</th>\n",
       "    </tr>\n",
       "  </thead>\n",
       "  <tbody>\n",
       "    <tr>\n",
       "      <th>0</th>\n",
       "      <td>NaN</td>\n",
       "      <td>00094c06-2b54-4569-9314-00c3c213297c</td>\n",
       "      <td>NaN</td>\n",
       "      <td>NaN</td>\n",
       "      <td>NaN</td>\n",
       "      <td>ANWBMZHND</td>\n",
       "      <td>2024-01-01</td>\n",
       "      <td>19.16</td>\n",
       "      <td>PAID</td>\n",
       "      <td>Opciones Empresariales del Noreste, S.A. de C....</td>\n",
       "      <td>...</td>\n",
       "      <td>'659802020000471271</td>\n",
       "      <td>2024-01-01</td>\n",
       "      <td>BANORTE</td>\n",
       "      <td>Guadalupe Carmen Villa Vazquez,,19.16,65980202...</td>\n",
       "      <td>FP-ALL 2024-01-01.csv</td>\n",
       "      <td>2024-01-01</td>\n",
       "      <td>Guadalupe Carmen Villa Vazquez</td>\n",
       "      <td>659802020000471271</td>\n",
       "      <td>659</td>\n",
       "      <td>ASP INTEGRA OPC</td>\n",
       "    </tr>\n",
       "    <tr>\n",
       "      <th>1</th>\n",
       "      <td>NaN</td>\n",
       "      <td>00bf0fb9-405a-4b41-9ace-14dfe8e0b471</td>\n",
       "      <td>NaN</td>\n",
       "      <td>NaN</td>\n",
       "      <td>NaN</td>\n",
       "      <td>A5LLH3TWL</td>\n",
       "      <td>2024-01-01</td>\n",
       "      <td>565.36</td>\n",
       "      <td>PAID</td>\n",
       "      <td>AZTECA</td>\n",
       "      <td>...</td>\n",
       "      <td>'127456013890994028</td>\n",
       "      <td>2024-01-01</td>\n",
       "      <td>BANORTE</td>\n",
       "      <td>Omar Polo Ochoa,,565.36,127456013890994028,CLI...</td>\n",
       "      <td>FP-ALL 2024-01-01.csv</td>\n",
       "      <td>2024-01-01</td>\n",
       "      <td>Omar Polo Ochoa</td>\n",
       "      <td>127456013890994028</td>\n",
       "      <td>127</td>\n",
       "      <td>AZTECA</td>\n",
       "    </tr>\n",
       "    <tr>\n",
       "      <th>2</th>\n",
       "      <td>NaN</td>\n",
       "      <td>00bf0fb9-405a-4b41-9ace-14dfe8e0b471</td>\n",
       "      <td>NaN</td>\n",
       "      <td>NaN</td>\n",
       "      <td>NaN</td>\n",
       "      <td>A9VMKFLT9</td>\n",
       "      <td>2024-01-01</td>\n",
       "      <td>340.18</td>\n",
       "      <td>PAID</td>\n",
       "      <td>AZTECA</td>\n",
       "      <td>...</td>\n",
       "      <td>'127456013890994028</td>\n",
       "      <td>2024-01-01</td>\n",
       "      <td>BANORTE</td>\n",
       "      <td>Omar Polo Ochoa,,340.18,127456013890994028,CLI...</td>\n",
       "      <td>FP-ALL 2024-01-01.csv</td>\n",
       "      <td>2024-01-01</td>\n",
       "      <td>Omar Polo Ochoa</td>\n",
       "      <td>127456013890994028</td>\n",
       "      <td>127</td>\n",
       "      <td>AZTECA</td>\n",
       "    </tr>\n",
       "    <tr>\n",
       "      <th>3</th>\n",
       "      <td>NaN</td>\n",
       "      <td>00bf0fb9-405a-4b41-9ace-14dfe8e0b471</td>\n",
       "      <td>NaN</td>\n",
       "      <td>NaN</td>\n",
       "      <td>NaN</td>\n",
       "      <td>AL636FYCJ</td>\n",
       "      <td>2024-01-01</td>\n",
       "      <td>730.18</td>\n",
       "      <td>PAID</td>\n",
       "      <td>AZTECA</td>\n",
       "      <td>...</td>\n",
       "      <td>'127456013890994028</td>\n",
       "      <td>2024-01-01</td>\n",
       "      <td>BANORTE</td>\n",
       "      <td>Omar Polo Ochoa,,730.18,127456013890994028,CLI...</td>\n",
       "      <td>FP-ALL 2024-01-01.csv</td>\n",
       "      <td>2024-01-01</td>\n",
       "      <td>Omar Polo Ochoa</td>\n",
       "      <td>127456013890994028</td>\n",
       "      <td>127</td>\n",
       "      <td>AZTECA</td>\n",
       "    </tr>\n",
       "    <tr>\n",
       "      <th>4</th>\n",
       "      <td>NaN</td>\n",
       "      <td>00bf0fb9-405a-4b41-9ace-14dfe8e0b471</td>\n",
       "      <td>NaN</td>\n",
       "      <td>NaN</td>\n",
       "      <td>NaN</td>\n",
       "      <td>AJS284JFN</td>\n",
       "      <td>2024-01-01</td>\n",
       "      <td>259.68</td>\n",
       "      <td>PAID</td>\n",
       "      <td>AZTECA</td>\n",
       "      <td>...</td>\n",
       "      <td>'127456013890994028</td>\n",
       "      <td>2024-01-01</td>\n",
       "      <td>BANORTE</td>\n",
       "      <td>Omar Polo Ochoa,,259.68,127456013890994028,CLI...</td>\n",
       "      <td>FP-ALL 2024-01-01.csv</td>\n",
       "      <td>2024-01-01</td>\n",
       "      <td>Omar Polo Ochoa</td>\n",
       "      <td>127456013890994028</td>\n",
       "      <td>127</td>\n",
       "      <td>AZTECA</td>\n",
       "    </tr>\n",
       "  </tbody>\n",
       "</table>\n",
       "<p>5 rows × 22 columns</p>\n",
       "</div>"
      ],
      "text/plain": [
       "  type                           merchant_id merchant_token merchant_name  \\\n",
       "0  NaN  00094c06-2b54-4569-9314-00c3c213297c            NaN           NaN   \n",
       "1  NaN  00bf0fb9-405a-4b41-9ace-14dfe8e0b471            NaN           NaN   \n",
       "2  NaN  00bf0fb9-405a-4b41-9ace-14dfe8e0b471            NaN           NaN   \n",
       "3  NaN  00bf0fb9-405a-4b41-9ace-14dfe8e0b471            NaN           NaN   \n",
       "4  NaN  00bf0fb9-405a-4b41-9ace-14dfe8e0b471            NaN           NaN   \n",
       "\n",
       "  user_email  report_id report_date_local  amount status  \\\n",
       "0        NaN  ANWBMZHND        2024-01-01   19.16   PAID   \n",
       "1        NaN  A5LLH3TWL        2024-01-01  565.36   PAID   \n",
       "2        NaN  A9VMKFLT9        2024-01-01  340.18   PAID   \n",
       "3        NaN  AL636FYCJ        2024-01-01  730.18   PAID   \n",
       "4        NaN  AJS284JFN        2024-01-01  259.68   PAID   \n",
       "\n",
       "                                           bank_name  ...  \\\n",
       "0  Opciones Empresariales del Noreste, S.A. de C....  ...   \n",
       "1                                             AZTECA  ...   \n",
       "2                                             AZTECA  ...   \n",
       "3                                             AZTECA  ...   \n",
       "4                                             AZTECA  ...   \n",
       "\n",
       "   bank_account_number batch_created_date disbursement_method  \\\n",
       "0  '659802020000471271         2024-01-01             BANORTE   \n",
       "1  '127456013890994028         2024-01-01             BANORTE   \n",
       "2  '127456013890994028         2024-01-01             BANORTE   \n",
       "3  '127456013890994028         2024-01-01             BANORTE   \n",
       "4  '127456013890994028         2024-01-01             BANORTE   \n",
       "\n",
       "                                                swap              file_name  \\\n",
       "0  Guadalupe Carmen Villa Vazquez,,19.16,65980202...  FP-ALL 2024-01-01.csv   \n",
       "1  Omar Polo Ochoa,,565.36,127456013890994028,CLI...  FP-ALL 2024-01-01.csv   \n",
       "2  Omar Polo Ochoa,,340.18,127456013890994028,CLI...  FP-ALL 2024-01-01.csv   \n",
       "3  Omar Polo Ochoa,,730.18,127456013890994028,CLI...  FP-ALL 2024-01-01.csv   \n",
       "4  Omar Polo Ochoa,,259.68,127456013890994028,CLI...  FP-ALL 2024-01-01.csv   \n",
       "\n",
       "  date_envio                    beneficiario               CLABE  BIN  \\\n",
       "0 2024-01-01  Guadalupe Carmen Villa Vazquez  659802020000471271  659   \n",
       "1 2024-01-01                 Omar Polo Ochoa  127456013890994028  127   \n",
       "2 2024-01-01                 Omar Polo Ochoa  127456013890994028  127   \n",
       "3 2024-01-01                 Omar Polo Ochoa  127456013890994028  127   \n",
       "4 2024-01-01                 Omar Polo Ochoa  127456013890994028  127   \n",
       "\n",
       "              bank  \n",
       "0  ASP INTEGRA OPC  \n",
       "1           AZTECA  \n",
       "2           AZTECA  \n",
       "3           AZTECA  \n",
       "4           AZTECA  \n",
       "\n",
       "[5 rows x 22 columns]"
      ]
     },
     "execution_count": 51,
     "metadata": {},
     "output_type": "execute_result"
    }
   ],
   "source": [
    "fp_2 = fp_total.merge(bin1[['BIN','Nombre de la institución']] ,on='BIN', how='left')\n",
    "fp_2.rename(columns ={'Nombre de la institución': 'bank'},inplace=True)\n",
    "fp_2.head()"
   ]
  },
  {
   "cell_type": "code",
   "execution_count": 52,
   "metadata": {},
   "outputs": [
    {
     "data": {
      "text/plain": [
       "(74601, 22)"
      ]
     },
     "execution_count": 52,
     "metadata": {},
     "output_type": "execute_result"
    }
   ],
   "source": [
    "fp_2.shape"
   ]
  },
  {
   "cell_type": "code",
   "execution_count": 53,
   "metadata": {},
   "outputs": [],
   "source": [
    "fp_2.loc[fp_2['BIN'] == '072', 'cuenta_clabe'] = fp_2['CLABE'].str[-11:-1].replace(' ', '',regex=True)\n",
    "fp_2.loc[fp_2['BIN'] != '072', 'cuenta_clabe'] = fp_2['CLABE'].replace(' ', '',regex=True)"
   ]
  },
  {
   "cell_type": "code",
   "execution_count": 54,
   "metadata": {},
   "outputs": [
    {
     "data": {
      "text/html": [
       "<div>\n",
       "<style scoped>\n",
       "    .dataframe tbody tr th:only-of-type {\n",
       "        vertical-align: middle;\n",
       "    }\n",
       "\n",
       "    .dataframe tbody tr th {\n",
       "        vertical-align: top;\n",
       "    }\n",
       "\n",
       "    .dataframe thead th {\n",
       "        text-align: right;\n",
       "    }\n",
       "</style>\n",
       "<table border=\"1\" class=\"dataframe\">\n",
       "  <thead>\n",
       "    <tr style=\"text-align: right;\">\n",
       "      <th></th>\n",
       "      <th>type</th>\n",
       "      <th>merchant_id</th>\n",
       "      <th>merchant_token</th>\n",
       "      <th>merchant_name</th>\n",
       "      <th>user_email</th>\n",
       "      <th>report_id</th>\n",
       "      <th>report_date_local</th>\n",
       "      <th>amount</th>\n",
       "      <th>status</th>\n",
       "      <th>bank_name</th>\n",
       "      <th>...</th>\n",
       "      <th>batch_created_date</th>\n",
       "      <th>disbursement_method</th>\n",
       "      <th>swap</th>\n",
       "      <th>file_name</th>\n",
       "      <th>date_envio</th>\n",
       "      <th>beneficiario</th>\n",
       "      <th>CLABE</th>\n",
       "      <th>BIN</th>\n",
       "      <th>bank</th>\n",
       "      <th>cuenta_clabe</th>\n",
       "    </tr>\n",
       "  </thead>\n",
       "  <tbody>\n",
       "    <tr>\n",
       "      <th>0</th>\n",
       "      <td>NaN</td>\n",
       "      <td>00094c06-2b54-4569-9314-00c3c213297c</td>\n",
       "      <td>NaN</td>\n",
       "      <td>NaN</td>\n",
       "      <td>NaN</td>\n",
       "      <td>ANWBMZHND</td>\n",
       "      <td>2024-01-01</td>\n",
       "      <td>19.16</td>\n",
       "      <td>PAID</td>\n",
       "      <td>Opciones Empresariales del Noreste, S.A. de C....</td>\n",
       "      <td>...</td>\n",
       "      <td>2024-01-01</td>\n",
       "      <td>BANORTE</td>\n",
       "      <td>Guadalupe Carmen Villa Vazquez,,19.16,65980202...</td>\n",
       "      <td>FP-ALL 2024-01-01.csv</td>\n",
       "      <td>2024-01-01</td>\n",
       "      <td>Guadalupe Carmen Villa Vazquez</td>\n",
       "      <td>659802020000471271</td>\n",
       "      <td>659</td>\n",
       "      <td>ASP INTEGRA OPC</td>\n",
       "      <td>659802020000471271</td>\n",
       "    </tr>\n",
       "    <tr>\n",
       "      <th>1</th>\n",
       "      <td>NaN</td>\n",
       "      <td>00bf0fb9-405a-4b41-9ace-14dfe8e0b471</td>\n",
       "      <td>NaN</td>\n",
       "      <td>NaN</td>\n",
       "      <td>NaN</td>\n",
       "      <td>A5LLH3TWL</td>\n",
       "      <td>2024-01-01</td>\n",
       "      <td>565.36</td>\n",
       "      <td>PAID</td>\n",
       "      <td>AZTECA</td>\n",
       "      <td>...</td>\n",
       "      <td>2024-01-01</td>\n",
       "      <td>BANORTE</td>\n",
       "      <td>Omar Polo Ochoa,,565.36,127456013890994028,CLI...</td>\n",
       "      <td>FP-ALL 2024-01-01.csv</td>\n",
       "      <td>2024-01-01</td>\n",
       "      <td>Omar Polo Ochoa</td>\n",
       "      <td>127456013890994028</td>\n",
       "      <td>127</td>\n",
       "      <td>AZTECA</td>\n",
       "      <td>127456013890994028</td>\n",
       "    </tr>\n",
       "    <tr>\n",
       "      <th>2</th>\n",
       "      <td>NaN</td>\n",
       "      <td>00bf0fb9-405a-4b41-9ace-14dfe8e0b471</td>\n",
       "      <td>NaN</td>\n",
       "      <td>NaN</td>\n",
       "      <td>NaN</td>\n",
       "      <td>A9VMKFLT9</td>\n",
       "      <td>2024-01-01</td>\n",
       "      <td>340.18</td>\n",
       "      <td>PAID</td>\n",
       "      <td>AZTECA</td>\n",
       "      <td>...</td>\n",
       "      <td>2024-01-01</td>\n",
       "      <td>BANORTE</td>\n",
       "      <td>Omar Polo Ochoa,,340.18,127456013890994028,CLI...</td>\n",
       "      <td>FP-ALL 2024-01-01.csv</td>\n",
       "      <td>2024-01-01</td>\n",
       "      <td>Omar Polo Ochoa</td>\n",
       "      <td>127456013890994028</td>\n",
       "      <td>127</td>\n",
       "      <td>AZTECA</td>\n",
       "      <td>127456013890994028</td>\n",
       "    </tr>\n",
       "    <tr>\n",
       "      <th>3</th>\n",
       "      <td>NaN</td>\n",
       "      <td>00bf0fb9-405a-4b41-9ace-14dfe8e0b471</td>\n",
       "      <td>NaN</td>\n",
       "      <td>NaN</td>\n",
       "      <td>NaN</td>\n",
       "      <td>AL636FYCJ</td>\n",
       "      <td>2024-01-01</td>\n",
       "      <td>730.18</td>\n",
       "      <td>PAID</td>\n",
       "      <td>AZTECA</td>\n",
       "      <td>...</td>\n",
       "      <td>2024-01-01</td>\n",
       "      <td>BANORTE</td>\n",
       "      <td>Omar Polo Ochoa,,730.18,127456013890994028,CLI...</td>\n",
       "      <td>FP-ALL 2024-01-01.csv</td>\n",
       "      <td>2024-01-01</td>\n",
       "      <td>Omar Polo Ochoa</td>\n",
       "      <td>127456013890994028</td>\n",
       "      <td>127</td>\n",
       "      <td>AZTECA</td>\n",
       "      <td>127456013890994028</td>\n",
       "    </tr>\n",
       "    <tr>\n",
       "      <th>4</th>\n",
       "      <td>NaN</td>\n",
       "      <td>00bf0fb9-405a-4b41-9ace-14dfe8e0b471</td>\n",
       "      <td>NaN</td>\n",
       "      <td>NaN</td>\n",
       "      <td>NaN</td>\n",
       "      <td>AJS284JFN</td>\n",
       "      <td>2024-01-01</td>\n",
       "      <td>259.68</td>\n",
       "      <td>PAID</td>\n",
       "      <td>AZTECA</td>\n",
       "      <td>...</td>\n",
       "      <td>2024-01-01</td>\n",
       "      <td>BANORTE</td>\n",
       "      <td>Omar Polo Ochoa,,259.68,127456013890994028,CLI...</td>\n",
       "      <td>FP-ALL 2024-01-01.csv</td>\n",
       "      <td>2024-01-01</td>\n",
       "      <td>Omar Polo Ochoa</td>\n",
       "      <td>127456013890994028</td>\n",
       "      <td>127</td>\n",
       "      <td>AZTECA</td>\n",
       "      <td>127456013890994028</td>\n",
       "    </tr>\n",
       "  </tbody>\n",
       "</table>\n",
       "<p>5 rows × 23 columns</p>\n",
       "</div>"
      ],
      "text/plain": [
       "  type                           merchant_id merchant_token merchant_name  \\\n",
       "0  NaN  00094c06-2b54-4569-9314-00c3c213297c            NaN           NaN   \n",
       "1  NaN  00bf0fb9-405a-4b41-9ace-14dfe8e0b471            NaN           NaN   \n",
       "2  NaN  00bf0fb9-405a-4b41-9ace-14dfe8e0b471            NaN           NaN   \n",
       "3  NaN  00bf0fb9-405a-4b41-9ace-14dfe8e0b471            NaN           NaN   \n",
       "4  NaN  00bf0fb9-405a-4b41-9ace-14dfe8e0b471            NaN           NaN   \n",
       "\n",
       "  user_email  report_id report_date_local  amount status  \\\n",
       "0        NaN  ANWBMZHND        2024-01-01   19.16   PAID   \n",
       "1        NaN  A5LLH3TWL        2024-01-01  565.36   PAID   \n",
       "2        NaN  A9VMKFLT9        2024-01-01  340.18   PAID   \n",
       "3        NaN  AL636FYCJ        2024-01-01  730.18   PAID   \n",
       "4        NaN  AJS284JFN        2024-01-01  259.68   PAID   \n",
       "\n",
       "                                           bank_name  ... batch_created_date  \\\n",
       "0  Opciones Empresariales del Noreste, S.A. de C....  ...         2024-01-01   \n",
       "1                                             AZTECA  ...         2024-01-01   \n",
       "2                                             AZTECA  ...         2024-01-01   \n",
       "3                                             AZTECA  ...         2024-01-01   \n",
       "4                                             AZTECA  ...         2024-01-01   \n",
       "\n",
       "  disbursement_method                                               swap  \\\n",
       "0             BANORTE  Guadalupe Carmen Villa Vazquez,,19.16,65980202...   \n",
       "1             BANORTE  Omar Polo Ochoa,,565.36,127456013890994028,CLI...   \n",
       "2             BANORTE  Omar Polo Ochoa,,340.18,127456013890994028,CLI...   \n",
       "3             BANORTE  Omar Polo Ochoa,,730.18,127456013890994028,CLI...   \n",
       "4             BANORTE  Omar Polo Ochoa,,259.68,127456013890994028,CLI...   \n",
       "\n",
       "               file_name date_envio                    beneficiario  \\\n",
       "0  FP-ALL 2024-01-01.csv 2024-01-01  Guadalupe Carmen Villa Vazquez   \n",
       "1  FP-ALL 2024-01-01.csv 2024-01-01                 Omar Polo Ochoa   \n",
       "2  FP-ALL 2024-01-01.csv 2024-01-01                 Omar Polo Ochoa   \n",
       "3  FP-ALL 2024-01-01.csv 2024-01-01                 Omar Polo Ochoa   \n",
       "4  FP-ALL 2024-01-01.csv 2024-01-01                 Omar Polo Ochoa   \n",
       "\n",
       "                CLABE  BIN             bank        cuenta_clabe  \n",
       "0  659802020000471271  659  ASP INTEGRA OPC  659802020000471271  \n",
       "1  127456013890994028  127           AZTECA  127456013890994028  \n",
       "2  127456013890994028  127           AZTECA  127456013890994028  \n",
       "3  127456013890994028  127           AZTECA  127456013890994028  \n",
       "4  127456013890994028  127           AZTECA  127456013890994028  \n",
       "\n",
       "[5 rows x 23 columns]"
      ]
     },
     "execution_count": 54,
     "metadata": {},
     "output_type": "execute_result"
    }
   ],
   "source": [
    "fp_2.head()"
   ]
  },
  {
   "cell_type": "code",
   "execution_count": 55,
   "metadata": {},
   "outputs": [
    {
     "data": {
      "text/plain": [
       "(74601, 23)"
      ]
     },
     "execution_count": 55,
     "metadata": {},
     "output_type": "execute_result"
    }
   ],
   "source": [
    "fp_2.shape"
   ]
  },
  {
   "cell_type": "code",
   "execution_count": 56,
   "metadata": {},
   "outputs": [
    {
     "data": {
      "text/html": [
       "<div>\n",
       "<style scoped>\n",
       "    .dataframe tbody tr th:only-of-type {\n",
       "        vertical-align: middle;\n",
       "    }\n",
       "\n",
       "    .dataframe tbody tr th {\n",
       "        vertical-align: top;\n",
       "    }\n",
       "\n",
       "    .dataframe thead th {\n",
       "        text-align: right;\n",
       "    }\n",
       "</style>\n",
       "<table border=\"1\" class=\"dataframe\">\n",
       "  <thead>\n",
       "    <tr style=\"text-align: right;\">\n",
       "      <th></th>\n",
       "      <th>type</th>\n",
       "      <th>merchant_id</th>\n",
       "      <th>merchant_token</th>\n",
       "      <th>merchant_name</th>\n",
       "      <th>user_email</th>\n",
       "      <th>report_id</th>\n",
       "      <th>report_date_local</th>\n",
       "      <th>amount</th>\n",
       "      <th>status</th>\n",
       "      <th>bank_name</th>\n",
       "      <th>...</th>\n",
       "      <th>file_name</th>\n",
       "      <th>date_envio</th>\n",
       "      <th>beneficiario</th>\n",
       "      <th>CLABE</th>\n",
       "      <th>BIN</th>\n",
       "      <th>bank</th>\n",
       "      <th>cuenta_clabe</th>\n",
       "      <th>comision_sin_iva</th>\n",
       "      <th>iva</th>\n",
       "      <th>comision</th>\n",
       "    </tr>\n",
       "  </thead>\n",
       "  <tbody>\n",
       "    <tr>\n",
       "      <th>0</th>\n",
       "      <td>NaN</td>\n",
       "      <td>00094c06-2b54-4569-9314-00c3c213297c</td>\n",
       "      <td>NaN</td>\n",
       "      <td>NaN</td>\n",
       "      <td>NaN</td>\n",
       "      <td>ANWBMZHND</td>\n",
       "      <td>2024-01-01</td>\n",
       "      <td>19.16</td>\n",
       "      <td>PAID</td>\n",
       "      <td>Opciones Empresariales del Noreste, S.A. de C....</td>\n",
       "      <td>...</td>\n",
       "      <td>FP-ALL 2024-01-01.csv</td>\n",
       "      <td>2024-01-01</td>\n",
       "      <td>Guadalupe Carmen Villa Vazquez</td>\n",
       "      <td>659802020000471271</td>\n",
       "      <td>659</td>\n",
       "      <td>ASP INTEGRA OPC</td>\n",
       "      <td>659802020000471271</td>\n",
       "      <td>1.80</td>\n",
       "      <td>0.29</td>\n",
       "      <td>2.09</td>\n",
       "    </tr>\n",
       "    <tr>\n",
       "      <th>1</th>\n",
       "      <td>NaN</td>\n",
       "      <td>00bf0fb9-405a-4b41-9ace-14dfe8e0b471</td>\n",
       "      <td>NaN</td>\n",
       "      <td>NaN</td>\n",
       "      <td>NaN</td>\n",
       "      <td>A5LLH3TWL</td>\n",
       "      <td>2024-01-01</td>\n",
       "      <td>565.36</td>\n",
       "      <td>PAID</td>\n",
       "      <td>AZTECA</td>\n",
       "      <td>...</td>\n",
       "      <td>FP-ALL 2024-01-01.csv</td>\n",
       "      <td>2024-01-01</td>\n",
       "      <td>Omar Polo Ochoa</td>\n",
       "      <td>127456013890994028</td>\n",
       "      <td>127</td>\n",
       "      <td>AZTECA</td>\n",
       "      <td>127456013890994028</td>\n",
       "      <td>1.80</td>\n",
       "      <td>0.29</td>\n",
       "      <td>2.09</td>\n",
       "    </tr>\n",
       "    <tr>\n",
       "      <th>2</th>\n",
       "      <td>NaN</td>\n",
       "      <td>00bf0fb9-405a-4b41-9ace-14dfe8e0b471</td>\n",
       "      <td>NaN</td>\n",
       "      <td>NaN</td>\n",
       "      <td>NaN</td>\n",
       "      <td>A9VMKFLT9</td>\n",
       "      <td>2024-01-01</td>\n",
       "      <td>340.18</td>\n",
       "      <td>PAID</td>\n",
       "      <td>AZTECA</td>\n",
       "      <td>...</td>\n",
       "      <td>FP-ALL 2024-01-01.csv</td>\n",
       "      <td>2024-01-01</td>\n",
       "      <td>Omar Polo Ochoa</td>\n",
       "      <td>127456013890994028</td>\n",
       "      <td>127</td>\n",
       "      <td>AZTECA</td>\n",
       "      <td>127456013890994028</td>\n",
       "      <td>1.80</td>\n",
       "      <td>0.29</td>\n",
       "      <td>2.09</td>\n",
       "    </tr>\n",
       "    <tr>\n",
       "      <th>3</th>\n",
       "      <td>NaN</td>\n",
       "      <td>00bf0fb9-405a-4b41-9ace-14dfe8e0b471</td>\n",
       "      <td>NaN</td>\n",
       "      <td>NaN</td>\n",
       "      <td>NaN</td>\n",
       "      <td>AL636FYCJ</td>\n",
       "      <td>2024-01-01</td>\n",
       "      <td>730.18</td>\n",
       "      <td>PAID</td>\n",
       "      <td>AZTECA</td>\n",
       "      <td>...</td>\n",
       "      <td>FP-ALL 2024-01-01.csv</td>\n",
       "      <td>2024-01-01</td>\n",
       "      <td>Omar Polo Ochoa</td>\n",
       "      <td>127456013890994028</td>\n",
       "      <td>127</td>\n",
       "      <td>AZTECA</td>\n",
       "      <td>127456013890994028</td>\n",
       "      <td>1.80</td>\n",
       "      <td>0.29</td>\n",
       "      <td>2.09</td>\n",
       "    </tr>\n",
       "    <tr>\n",
       "      <th>4</th>\n",
       "      <td>NaN</td>\n",
       "      <td>00bf0fb9-405a-4b41-9ace-14dfe8e0b471</td>\n",
       "      <td>NaN</td>\n",
       "      <td>NaN</td>\n",
       "      <td>NaN</td>\n",
       "      <td>AJS284JFN</td>\n",
       "      <td>2024-01-01</td>\n",
       "      <td>259.68</td>\n",
       "      <td>PAID</td>\n",
       "      <td>AZTECA</td>\n",
       "      <td>...</td>\n",
       "      <td>FP-ALL 2024-01-01.csv</td>\n",
       "      <td>2024-01-01</td>\n",
       "      <td>Omar Polo Ochoa</td>\n",
       "      <td>127456013890994028</td>\n",
       "      <td>127</td>\n",
       "      <td>AZTECA</td>\n",
       "      <td>127456013890994028</td>\n",
       "      <td>1.80</td>\n",
       "      <td>0.29</td>\n",
       "      <td>2.09</td>\n",
       "    </tr>\n",
       "  </tbody>\n",
       "</table>\n",
       "<p>5 rows × 26 columns</p>\n",
       "</div>"
      ],
      "text/plain": [
       "  type                           merchant_id merchant_token merchant_name  \\\n",
       "0  NaN  00094c06-2b54-4569-9314-00c3c213297c            NaN           NaN   \n",
       "1  NaN  00bf0fb9-405a-4b41-9ace-14dfe8e0b471            NaN           NaN   \n",
       "2  NaN  00bf0fb9-405a-4b41-9ace-14dfe8e0b471            NaN           NaN   \n",
       "3  NaN  00bf0fb9-405a-4b41-9ace-14dfe8e0b471            NaN           NaN   \n",
       "4  NaN  00bf0fb9-405a-4b41-9ace-14dfe8e0b471            NaN           NaN   \n",
       "\n",
       "  user_email  report_id report_date_local  amount status  \\\n",
       "0        NaN  ANWBMZHND        2024-01-01   19.16   PAID   \n",
       "1        NaN  A5LLH3TWL        2024-01-01  565.36   PAID   \n",
       "2        NaN  A9VMKFLT9        2024-01-01  340.18   PAID   \n",
       "3        NaN  AL636FYCJ        2024-01-01  730.18   PAID   \n",
       "4        NaN  AJS284JFN        2024-01-01  259.68   PAID   \n",
       "\n",
       "                                           bank_name  ...  \\\n",
       "0  Opciones Empresariales del Noreste, S.A. de C....  ...   \n",
       "1                                             AZTECA  ...   \n",
       "2                                             AZTECA  ...   \n",
       "3                                             AZTECA  ...   \n",
       "4                                             AZTECA  ...   \n",
       "\n",
       "               file_name date_envio                    beneficiario  \\\n",
       "0  FP-ALL 2024-01-01.csv 2024-01-01  Guadalupe Carmen Villa Vazquez   \n",
       "1  FP-ALL 2024-01-01.csv 2024-01-01                 Omar Polo Ochoa   \n",
       "2  FP-ALL 2024-01-01.csv 2024-01-01                 Omar Polo Ochoa   \n",
       "3  FP-ALL 2024-01-01.csv 2024-01-01                 Omar Polo Ochoa   \n",
       "4  FP-ALL 2024-01-01.csv 2024-01-01                 Omar Polo Ochoa   \n",
       "\n",
       "                CLABE  BIN             bank        cuenta_clabe  \\\n",
       "0  659802020000471271  659  ASP INTEGRA OPC  659802020000471271   \n",
       "1  127456013890994028  127           AZTECA  127456013890994028   \n",
       "2  127456013890994028  127           AZTECA  127456013890994028   \n",
       "3  127456013890994028  127           AZTECA  127456013890994028   \n",
       "4  127456013890994028  127           AZTECA  127456013890994028   \n",
       "\n",
       "  comision_sin_iva  iva comision  \n",
       "0             1.80 0.29     2.09  \n",
       "1             1.80 0.29     2.09  \n",
       "2             1.80 0.29     2.09  \n",
       "3             1.80 0.29     2.09  \n",
       "4             1.80 0.29     2.09  \n",
       "\n",
       "[5 rows x 26 columns]"
      ]
     },
     "execution_count": 56,
     "metadata": {},
     "output_type": "execute_result"
    }
   ],
   "source": [
    "fp_2.loc[fp_2['BIN'] == '072', \"comision_sin_iva\"] = 1.05\n",
    "fp_2.loc[fp_2['BIN'] != '072', \"comision_sin_iva\"] = 1.80\n",
    "fp_2['iva'] = fp_2['comision_sin_iva'] * 0.16\n",
    "fp_2['comision'] = fp_2['comision_sin_iva'] + fp_2['iva']\n",
    "fp_2['iva'].round(decimals=2)\n",
    "fp_2['comision'].round(decimals=2)\n",
    "fp_2.head()"
   ]
  },
  {
   "cell_type": "code",
   "execution_count": 57,
   "metadata": {},
   "outputs": [
    {
     "data": {
      "text/plain": [
       "(74601, 26)"
      ]
     },
     "execution_count": 57,
     "metadata": {},
     "output_type": "execute_result"
    }
   ],
   "source": [
    "fp_2.shape"
   ]
  },
  {
   "cell_type": "markdown",
   "metadata": {},
   "source": [
    "### AGRUPAR POR FECHA DE ENVIO"
   ]
  },
  {
   "cell_type": "code",
   "execution_count": 58,
   "metadata": {},
   "outputs": [
    {
     "name": "stderr",
     "output_type": "stream",
     "text": [
      "C:\\Users\\Cristian.Aparicio\\AppData\\Local\\Temp\\ipykernel_14444\\1413538699.py:1: FutureWarning: The provided callable <built-in function sum> is currently using SeriesGroupBy.sum. In a future version of pandas, the provided callable will be used directly. To keep current behavior pass the string \"sum\" instead.\n",
      "  fp_fecha_envio = fp_2.groupby(['date_envio']).agg({'report_id':'count','amount':sum,'comision_sin_iva':sum,'iva':sum,'comision':sum}).reset_index()\n"
     ]
    },
    {
     "data": {
      "text/html": [
       "<div>\n",
       "<style scoped>\n",
       "    .dataframe tbody tr th:only-of-type {\n",
       "        vertical-align: middle;\n",
       "    }\n",
       "\n",
       "    .dataframe tbody tr th {\n",
       "        vertical-align: top;\n",
       "    }\n",
       "\n",
       "    .dataframe thead th {\n",
       "        text-align: right;\n",
       "    }\n",
       "</style>\n",
       "<table border=\"1\" class=\"dataframe\">\n",
       "  <thead>\n",
       "    <tr style=\"text-align: right;\">\n",
       "      <th></th>\n",
       "      <th>date_envio</th>\n",
       "      <th>no_pagos</th>\n",
       "      <th>amount</th>\n",
       "      <th>comision_sin_iva</th>\n",
       "      <th>iva</th>\n",
       "      <th>comision</th>\n",
       "    </tr>\n",
       "  </thead>\n",
       "  <tbody>\n",
       "    <tr>\n",
       "      <th>0</th>\n",
       "      <td>2024-01-01</td>\n",
       "      <td>1176</td>\n",
       "      <td>1,677,947.06</td>\n",
       "      <td>2,104.80</td>\n",
       "      <td>336.77</td>\n",
       "      <td>2,441.57</td>\n",
       "    </tr>\n",
       "    <tr>\n",
       "      <th>1</th>\n",
       "      <td>2024-01-02</td>\n",
       "      <td>2636</td>\n",
       "      <td>2,900,343.26</td>\n",
       "      <td>4,709.55</td>\n",
       "      <td>753.53</td>\n",
       "      <td>5,463.08</td>\n",
       "    </tr>\n",
       "    <tr>\n",
       "      <th>2</th>\n",
       "      <td>2024-01-03</td>\n",
       "      <td>2385</td>\n",
       "      <td>1,749,042.46</td>\n",
       "      <td>4,273.50</td>\n",
       "      <td>683.76</td>\n",
       "      <td>4,957.26</td>\n",
       "    </tr>\n",
       "    <tr>\n",
       "      <th>3</th>\n",
       "      <td>2024-01-04</td>\n",
       "      <td>2609</td>\n",
       "      <td>2,717,041.63</td>\n",
       "      <td>4,676.70</td>\n",
       "      <td>748.27</td>\n",
       "      <td>5,424.97</td>\n",
       "    </tr>\n",
       "    <tr>\n",
       "      <th>4</th>\n",
       "      <td>2024-01-05</td>\n",
       "      <td>2451</td>\n",
       "      <td>1,968,067.50</td>\n",
       "      <td>4,390.80</td>\n",
       "      <td>702.53</td>\n",
       "      <td>5,093.33</td>\n",
       "    </tr>\n",
       "  </tbody>\n",
       "</table>\n",
       "</div>"
      ],
      "text/plain": [
       "  date_envio  no_pagos       amount  comision_sin_iva    iva  comision\n",
       "0 2024-01-01      1176 1,677,947.06          2,104.80 336.77  2,441.57\n",
       "1 2024-01-02      2636 2,900,343.26          4,709.55 753.53  5,463.08\n",
       "2 2024-01-03      2385 1,749,042.46          4,273.50 683.76  4,957.26\n",
       "3 2024-01-04      2609 2,717,041.63          4,676.70 748.27  5,424.97\n",
       "4 2024-01-05      2451 1,968,067.50          4,390.80 702.53  5,093.33"
      ]
     },
     "execution_count": 58,
     "metadata": {},
     "output_type": "execute_result"
    }
   ],
   "source": [
    "fp_fecha_envio = fp_2.groupby(['date_envio']).agg({'report_id':'count','amount':sum,'comision_sin_iva':sum,'iva':sum,'comision':sum}).reset_index()\n",
    "fp_fecha_envio.rename(columns ={'report_id': 'no_pagos'},inplace=True)\n",
    "fp_fecha_envio.head()"
   ]
  },
  {
   "cell_type": "code",
   "execution_count": 59,
   "metadata": {},
   "outputs": [
    {
     "data": {
      "text/plain": [
       "(31, 6)"
      ]
     },
     "execution_count": 59,
     "metadata": {},
     "output_type": "execute_result"
    }
   ],
   "source": [
    "fp_fecha_envio.shape"
   ]
  },
  {
   "cell_type": "markdown",
   "metadata": {},
   "source": [
    "# EXCEL"
   ]
  },
  {
   "cell_type": "code",
   "execution_count": 60,
   "metadata": {},
   "outputs": [],
   "source": [
    "writer = pd.ExcelWriter('FP COMISIONES ENERO 2024.xlsx',\n",
    "                        engine='xlsxwriter',\n",
    "                        engine_kwargs={'options': {'encoding':'utf-8'}})\n",
    "fp_fecha_envio.to_excel(writer, sheet_name='COMISION CALCULADA', index=False)\n",
    "writer.close()"
   ]
  },
  {
   "cell_type": "code",
   "execution_count": null,
   "metadata": {},
   "outputs": [],
   "source": []
  }
 ],
 "metadata": {
  "kernelspec": {
   "display_name": "Python 3 (ipykernel)",
   "language": "python",
   "name": "python3"
  },
  "language_info": {
   "codemirror_mode": {
    "name": "ipython",
    "version": 3
   },
   "file_extension": ".py",
   "mimetype": "text/x-python",
   "name": "python",
   "nbconvert_exporter": "python",
   "pygments_lexer": "ipython3",
   "version": "3.9.18"
  }
 },
 "nbformat": 4,
 "nbformat_minor": 4
}
