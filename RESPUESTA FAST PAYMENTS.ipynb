{
 "cells": [
  {
   "cell_type": "code",
   "execution_count": null,
   "metadata": {},
   "outputs": [],
   "source": [
    "import pandas as pd\n",
    "import numpy as np\n",
    "from openpyxl import load_workbook\n",
    "import glob\n",
    "import os\n",
    "pd.options.display.float_format = '{:,.2f}'.format"
   ]
  },
  {
   "cell_type": "markdown",
   "metadata": {},
   "source": [
    "# READING FILES"
   ]
  },
  {
   "cell_type": "code",
   "execution_count": null,
   "metadata": {},
   "outputs": [],
   "source": [
    "date_respuesta = '2021-04-29'\n",
    "date_respuesta = pd.to_datetime(date_respuesta)"
   ]
  },
  {
   "cell_type": "markdown",
   "metadata": {},
   "source": [
    "## FP DOWNLOAD "
   ]
  },
  {
   "cell_type": "code",
   "execution_count": null,
   "metadata": {},
   "outputs": [],
   "source": [
    "name_header=['Nombre','Blank','amount','CLABE','report_id']"
   ]
  },
  {
   "cell_type": "code",
   "execution_count": null,
   "metadata": {},
   "outputs": [],
   "source": [
    "ae = glob.glob(r'C:\\Users\\Cristian.Aparicio\\Documents\\FAST PAYMENTS\\2021\\04. ABRIL\\FPDOWNLOAD*.csv', recursive=False)\n",
    "ae"
   ]
  },
  {
   "cell_type": "code",
   "execution_count": null,
   "metadata": {},
   "outputs": [],
   "source": [
    "ae_concat = pd.concat([pd.read_csv(f,names=name_header,dtype={'CLABE':str,'report_id':str}\n",
    "                            ,skiprows=[0]).assign(file_name=os.path.basename(f)) for f in ae])\n",
    "ae_concat.loc[ae_concat['file_name'].str.contains('FPDOWNLOAD-1'), 'Time'] = '09:00'\n",
    "ae_concat.loc[ae_concat['file_name'].str.contains('FPDOWNLOAD-2'), 'Time'] = '12:00'\n",
    "ae_concat.loc[ae_concat['file_name'].str.contains('FPDOWNLOAD-3'), 'Time'] = '16:00'\n",
    "ae_concat.loc[ae_concat['file_name'].str.contains('FPDOWNLOAD-4'), 'Time'] = '21:00'\n",
    "ae_concat.head()"
   ]
  },
  {
   "cell_type": "code",
   "execution_count": null,
   "metadata": {},
   "outputs": [],
   "source": [
    "ae_concat.shape"
   ]
  },
  {
   "cell_type": "code",
   "execution_count": null,
   "metadata": {
    "scrolled": true
   },
   "outputs": [],
   "source": [
    "ae_concat['query'] = \"'\"+ae_concat['report_id'].str[5:].replace(' ', '',regex=True)+\"',\"\n",
    "print (ae_concat['query'].to_string(index=False))"
   ]
  },
  {
   "cell_type": "markdown",
   "metadata": {},
   "source": [
    "## BIN"
   ]
  },
  {
   "cell_type": "code",
   "execution_count": null,
   "metadata": {},
   "outputs": [],
   "source": [
    "bin1 = pd.read_csv(r'C:\\Users\\Cristian.Aparicio\\Documents\\DISPERSIONES\\Catalogo_Bancos.csv'\n",
    "                  ,dtype={'BIN':str,'Clave de la institución':str,'Nombre de la institución':str})\n"
   ]
  },
  {
   "cell_type": "code",
   "execution_count": null,
   "metadata": {},
   "outputs": [],
   "source": [
    "bin1.head()"
   ]
  },
  {
   "cell_type": "code",
   "execution_count": null,
   "metadata": {},
   "outputs": [],
   "source": [
    "bin1.shape"
   ]
  },
  {
   "cell_type": "markdown",
   "metadata": {},
   "source": [
    "## RESPUESTAS FP"
   ]
  },
  {
   "cell_type": "code",
   "execution_count": null,
   "metadata": {},
   "outputs": [],
   "source": [
    "rs = glob.glob(r'C:\\Users\\Cristian.Aparicio\\Documents\\FAST PAYMENTS\\2021\\04. ABRIL\\Respuesta-FP*.xlsx', recursive=False)\n",
    "rs"
   ]
  },
  {
   "cell_type": "code",
   "execution_count": null,
   "metadata": {},
   "outputs": [],
   "source": [
    "rs_concat = pd.concat([pd.read_excel(f,sheet_name='Sheet1',converters={'dsp_reference_id':str,'bank_account_number':str\n",
    "                                                                     ,'disbursement_tracking_key':str,'report_id':str})\n",
    "                       .assign(file_name=os.path.basename(f)) for f in rs])\n",
    "rs_concat['CLABE'] = rs_concat['bank_account_number']\n",
    "rs_concat.loc[rs_concat['file_name'].str.contains('FP-1'), 'Time'] = '09:00'\n",
    "rs_concat.loc[rs_concat['file_name'].str.contains('FP-2'), 'Time'] = '12:00'\n",
    "rs_concat.loc[rs_concat['file_name'].str.contains('FP-3'), 'Time'] = '16:00'\n",
    "rs_concat.loc[rs_concat['file_name'].str.contains('FP-4'), 'Time'] = '21:00'\n",
    "rs_concat['BIN'] = rs_concat['bank_account_number'].str[:3].replace(' ', '',regex=True)\n",
    "rs_concat.head()"
   ]
  },
  {
   "cell_type": "code",
   "execution_count": null,
   "metadata": {},
   "outputs": [],
   "source": [
    "rs_concat.shape"
   ]
  },
  {
   "cell_type": "code",
   "execution_count": null,
   "metadata": {},
   "outputs": [],
   "source": [
    "duplicates = rs_concat[rs_concat.duplicated(['report_id'] , keep=False)]\n",
    "duplicates.head()"
   ]
  },
  {
   "cell_type": "code",
   "execution_count": null,
   "metadata": {},
   "outputs": [],
   "source": [
    "duplicates.shape"
   ]
  },
  {
   "cell_type": "code",
   "execution_count": null,
   "metadata": {},
   "outputs": [],
   "source": [
    "rs_concat_2 = rs_concat.merge(bin1[['BIN','Clave de la institución','Nombre de la institución']] ,on='BIN', how='left')\n",
    "rs_concat_2.head()"
   ]
  },
  {
   "cell_type": "code",
   "execution_count": null,
   "metadata": {},
   "outputs": [],
   "source": [
    "rs_concat.shape"
   ]
  },
  {
   "cell_type": "markdown",
   "metadata": {},
   "source": [
    "## QUERY PAYMENTS"
   ]
  },
  {
   "cell_type": "code",
   "execution_count": null,
   "metadata": {},
   "outputs": [],
   "source": [
    "disp1 = pd.read_csv(r'C:\\Users\\Cristian.Aparicio\\Documents\\FAST PAYMENTS\\2021\\04. ABRIL\\FP 2021-04-29.csv')\n",
    "disp1.head()"
   ]
  },
  {
   "cell_type": "code",
   "execution_count": null,
   "metadata": {},
   "outputs": [],
   "source": [
    "disp1.shape"
   ]
  },
  {
   "cell_type": "markdown",
   "metadata": {},
   "source": [
    "# ARCHIVO RESPUESTA"
   ]
  },
  {
   "cell_type": "code",
   "execution_count": null,
   "metadata": {},
   "outputs": [],
   "source": [
    "rs_concat_2['Date_respuesta'] = date_respuesta\n",
    "rs_concat_2['Metodo de dispersion'] = 'BANORTE'\n",
    "rs_concat_2.head()"
   ]
  },
  {
   "cell_type": "code",
   "execution_count": null,
   "metadata": {},
   "outputs": [],
   "source": [
    "rs_concat.shape"
   ]
  },
  {
   "cell_type": "code",
   "execution_count": null,
   "metadata": {},
   "outputs": [],
   "source": [
    "rs_concat_2['Banco emisor'] = '40072'\n",
    "rs_concat_2['Comision'] = ''\n",
    "rs_concat_2['LINEA CEP'] = rs_concat_2['Date_respuesta'].astype(str).replace(' ', '',regex=True)+','+rs_concat_2['disbursement_tracking_key'].astype(str).replace(' ', '',regex=True)+','+rs_concat_2['Banco emisor'].astype(str).replace(' ', '',regex=True)+','+rs_concat_2['Clave de la institución'].astype(str).replace(' ', '',regex=True)+','+rs_concat_2['bank_account_number'].astype(str).replace(' ', '',regex=True)+','+rs_concat_2['amount'].astype(str).replace(' ', '',regex=True)\n",
    "rs_concat_2.head()"
   ]
  },
  {
   "cell_type": "code",
   "execution_count": null,
   "metadata": {},
   "outputs": [],
   "source": [
    "rs_concat_2.shape"
   ]
  },
  {
   "cell_type": "markdown",
   "metadata": {},
   "source": [
    "# ARCHIVO DISPERSION"
   ]
  },
  {
   "cell_type": "code",
   "execution_count": null,
   "metadata": {},
   "outputs": [],
   "source": [
    "disp1.head()"
   ]
  },
  {
   "cell_type": "code",
   "execution_count": null,
   "metadata": {},
   "outputs": [],
   "source": [
    "disp1['report_date_local'] = pd.to_datetime(disp1['report_date_local'])"
   ]
  },
  {
   "cell_type": "code",
   "execution_count": null,
   "metadata": {},
   "outputs": [],
   "source": [
    "split = disp1[\"swap\"].str.split(\",\",n=7,expand=True)\n",
    "split.head()"
   ]
  },
  {
   "cell_type": "code",
   "execution_count": null,
   "metadata": {},
   "outputs": [],
   "source": [
    "disp1[\"swap\"] = split[0] \n",
    "disp1[\"CLABE\"] = split[3]"
   ]
  },
  {
   "cell_type": "code",
   "execution_count": null,
   "metadata": {},
   "outputs": [],
   "source": [
    "disp1.head()"
   ]
  },
  {
   "cell_type": "code",
   "execution_count": null,
   "metadata": {},
   "outputs": [],
   "source": [
    "disp1.loc[disp1['report_date_local'] == date_respuesta, 'tipo'] = 'Pago del día'\n",
    "disp1.loc[disp1['report_date_local'] != date_respuesta, 'tipo'] = 'Reprogramación'\n",
    "disp1.drop(['bank_name','CLABE','status'],axis=1,inplace=True)\n",
    "disp1.head()"
   ]
  },
  {
   "cell_type": "code",
   "execution_count": null,
   "metadata": {},
   "outputs": [],
   "source": [
    "disp_2 = disp1.merge(rs_concat_2[['report_id','CLABE','status','Nombre de la institución','LINEA CEP','Time']]\n",
    "                     ,on='report_id', how='left')\n",
    "disp_2.sort_values(by=['status'])\n",
    "disp_2[\"Time\"].fillna('NO TIME',inplace=True)\n",
    "disp_2.loc[disp_2['Time'] == 'NO TIME', 'status'] = 'ERROR'\n",
    "disp_2.head()"
   ]
  },
  {
   "cell_type": "code",
   "execution_count": null,
   "metadata": {},
   "outputs": [],
   "source": [
    "disp_2.loc[disp_2['Nombre de la institución'] == 'BANORTE/IXE', 'LINEA CEP'] = 'COMPROBANTE MISMO BANCO BANORTE'\n",
    "disp_2.loc[disp_2['status'] == 'ERROR', 'LINEA CEP'] = ''"
   ]
  },
  {
   "cell_type": "code",
   "execution_count": null,
   "metadata": {},
   "outputs": [],
   "source": [
    "for col in disp_2.columns: \n",
    "    print(col) "
   ]
  },
  {
   "cell_type": "code",
   "execution_count": null,
   "metadata": {},
   "outputs": [],
   "source": [
    "disp_final = disp_2[['merchant_id','merchant_name','user_email','report_id','report_date_local','amount','tipo'\n",
    "                    ,'Nombre de la institución','swap','CLABE','status','LINEA CEP','Time']]\n",
    "disp_final.rename(columns ={'Nombre de la institución':'bank','amount':'total_due','LINEA CEP':'CEP'}, inplace=True)\n",
    "disp_final.sort_values(by=['status','Time'], ascending=True, inplace=True)\n",
    "disp_final.drop_duplicates(subset =['report_id','Time'], keep ='first', inplace=True)\n",
    "disp_final.head()"
   ]
  },
  {
   "cell_type": "code",
   "execution_count": null,
   "metadata": {},
   "outputs": [],
   "source": [
    "disp_final.shape"
   ]
  },
  {
   "cell_type": "markdown",
   "metadata": {},
   "source": [
    "# ERROR"
   ]
  },
  {
   "cell_type": "code",
   "execution_count": null,
   "metadata": {},
   "outputs": [],
   "source": [
    "error = disp_final[(disp_final['status'] != 'PAID')]\n",
    "error.head()"
   ]
  },
  {
   "cell_type": "code",
   "execution_count": null,
   "metadata": {},
   "outputs": [],
   "source": [
    "error.shape"
   ]
  },
  {
   "cell_type": "code",
   "execution_count": null,
   "metadata": {},
   "outputs": [],
   "source": [
    "error.drop(['swap','CLABE','status','CEP'],axis=1,inplace=True)"
   ]
  },
  {
   "cell_type": "code",
   "execution_count": null,
   "metadata": {},
   "outputs": [],
   "source": [
    "error_final = error\n",
    "error_final.head()"
   ]
  },
  {
   "cell_type": "code",
   "execution_count": null,
   "metadata": {},
   "outputs": [],
   "source": [
    "error.loc[error['bank'] == 'BANORTE/IXE', 'Check'] = 'SPEI DEVUELTO MISMO BANCO'\n",
    "error.loc[error['bank'] != 'BANORTE/IXE', 'Check'] = 'SPEI DEVUELTO'"
   ]
  },
  {
   "cell_type": "code",
   "execution_count": null,
   "metadata": {},
   "outputs": [],
   "source": [
    "error.shape"
   ]
  },
  {
   "cell_type": "code",
   "execution_count": null,
   "metadata": {},
   "outputs": [],
   "source": [
    "error_final = error.merge(rs_concat_2[['report_id','error_description']],on='report_id',how='left')\n",
    "error_final.head()"
   ]
  },
  {
   "cell_type": "code",
   "execution_count": null,
   "metadata": {},
   "outputs": [],
   "source": [
    "error_final.shape"
   ]
  },
  {
   "cell_type": "markdown",
   "metadata": {},
   "source": [
    "# ARCHIVOS FINALES"
   ]
  },
  {
   "cell_type": "markdown",
   "metadata": {},
   "source": [
    "### ARCHIVO DISPERSION"
   ]
  },
  {
   "cell_type": "code",
   "execution_count": null,
   "metadata": {},
   "outputs": [],
   "source": [
    "writer = pd.ExcelWriter(r'C:\\Users\\Cristian.Aparicio\\Documents\\FAST PAYMENTS\\2021\\04. ABRIL\\ARCHIVO DISPERSIONES FP\\Dispersión-FP 2021-04-29.xlsx', engine='xlsxwriter', options={'encoding':'utf-8'})\n",
    "disp_final.to_excel(writer, sheet_name='FAST PAYMENTS',index=False)\n",
    "error_final.to_excel(writer, sheet_name='ERROR',index=False)\n",
    "writer.save()\n",
    "writer.close()"
   ]
  },
  {
   "cell_type": "markdown",
   "metadata": {},
   "source": [
    "### ARCHIVO RESPUESTA "
   ]
  },
  {
   "cell_type": "code",
   "execution_count": null,
   "metadata": {},
   "outputs": [],
   "source": [
    "rs_concat.to_csv(r'C:\\Users\\Cristian.Aparicio\\Documents\\FAST PAYMENTS\\2021\\04. ABRIL\\ARCHIVO RESPUESTAS FINALES\\Respuesta-FP 2021-04-29.csv',index=False)"
   ]
  },
  {
   "cell_type": "code",
   "execution_count": null,
   "metadata": {},
   "outputs": [],
   "source": [
    "# book = load_workbook('Dispersión-FP 2020-07-20.xlsx')\n",
    "# writer = pd.ExcelWriter('Dispersión-FP 2020-07-20.xlsx', engine='openpyxl', options={'encoding':'utf-8'})\n",
    "# writer.book = book\n",
    "# match_final.to_excel(writer, sheet_name='FP-2 2020-07-20', index=False)\n",
    "# writer.save()\n",
    "# writer.close()"
   ]
  },
  {
   "cell_type": "code",
   "execution_count": null,
   "metadata": {},
   "outputs": [],
   "source": []
  }
 ],
 "metadata": {
  "kernelspec": {
   "display_name": "Python 3",
   "language": "python",
   "name": "python3"
  },
  "language_info": {
   "codemirror_mode": {
    "name": "ipython",
    "version": 3
   },
   "file_extension": ".py",
   "mimetype": "text/x-python",
   "name": "python",
   "nbconvert_exporter": "python",
   "pygments_lexer": "ipython3",
   "version": "3.7.6"
  }
 },
 "nbformat": 4,
 "nbformat_minor": 4
}
