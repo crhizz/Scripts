{
 "cells": [
  {
   "cell_type": "code",
   "execution_count": 1,
   "metadata": {},
   "outputs": [],
   "source": [
    "import pandas as pd\n",
    "import numpy as np\n",
    "import glob\n",
    "import os\n",
    "from openpyxl import load_workbook\n",
    "pd.options.display.float_format = '{:,.2f}'.format"
   ]
  },
  {
   "cell_type": "markdown",
   "metadata": {},
   "source": [
    "# READING FILES"
   ]
  },
  {
   "cell_type": "markdown",
   "metadata": {},
   "source": [
    "# DATA EDO DE CUENTA"
   ]
  },
  {
   "cell_type": "code",
   "execution_count": 2,
   "metadata": {},
   "outputs": [
    {
     "data": {
      "text/plain": [
       "['G:\\\\My Drive\\\\RESPALDO-PC\\\\DEVOLUCIONES BANAMEX\\\\2021\\\\07. JULIO\\\\EDO CTA\\\\Payclip_3261_02_Julio_04_Julio_2021.csv',\n",
       " 'G:\\\\My Drive\\\\RESPALDO-PC\\\\DEVOLUCIONES BANAMEX\\\\2021\\\\07. JULIO\\\\EDO CTA\\\\Payclip_3261_01_Julio_2021.csv',\n",
       " 'G:\\\\My Drive\\\\RESPALDO-PC\\\\DEVOLUCIONES BANAMEX\\\\2021\\\\07. JULIO\\\\EDO CTA\\\\Payclip_3261_15_Julio_2021.csv',\n",
       " 'G:\\\\My Drive\\\\RESPALDO-PC\\\\DEVOLUCIONES BANAMEX\\\\2021\\\\07. JULIO\\\\EDO CTA\\\\Payclip_3261_13_Julio_2021.csv',\n",
       " 'G:\\\\My Drive\\\\RESPALDO-PC\\\\DEVOLUCIONES BANAMEX\\\\2021\\\\07. JULIO\\\\EDO CTA\\\\Payclip_3261_14_Julio_2021.csv',\n",
       " 'G:\\\\My Drive\\\\RESPALDO-PC\\\\DEVOLUCIONES BANAMEX\\\\2021\\\\07. JULIO\\\\EDO CTA\\\\Payclip_3261_12_Julio_2021.csv',\n",
       " 'G:\\\\My Drive\\\\RESPALDO-PC\\\\DEVOLUCIONES BANAMEX\\\\2021\\\\07. JULIO\\\\EDO CTA\\\\Payclip_3261_16_Julio_18_Julio_2021.csv',\n",
       " 'G:\\\\My Drive\\\\RESPALDO-PC\\\\DEVOLUCIONES BANAMEX\\\\2021\\\\07. JULIO\\\\EDO CTA\\\\Payclip_3261_09_Julio_11_Julio_2021.csv',\n",
       " 'G:\\\\My Drive\\\\RESPALDO-PC\\\\DEVOLUCIONES BANAMEX\\\\2021\\\\07. JULIO\\\\EDO CTA\\\\Payclip_3261_08_Julio_2021.csv',\n",
       " 'G:\\\\My Drive\\\\RESPALDO-PC\\\\DEVOLUCIONES BANAMEX\\\\2021\\\\07. JULIO\\\\EDO CTA\\\\Payclip_3261_07_Julio_2021.csv',\n",
       " 'G:\\\\My Drive\\\\RESPALDO-PC\\\\DEVOLUCIONES BANAMEX\\\\2021\\\\07. JULIO\\\\EDO CTA\\\\Payclip_3261_06_Julio_2021.csv',\n",
       " 'G:\\\\My Drive\\\\RESPALDO-PC\\\\DEVOLUCIONES BANAMEX\\\\2021\\\\07. JULIO\\\\EDO CTA\\\\Payclip_3261_05_Julio_2021.csv',\n",
       " 'G:\\\\My Drive\\\\RESPALDO-PC\\\\DEVOLUCIONES BANAMEX\\\\2021\\\\06. JUNIO\\\\EDO CTA\\\\Payclip_3261_30_Junio.csv',\n",
       " 'G:\\\\My Drive\\\\RESPALDO-PC\\\\DEVOLUCIONES BANAMEX\\\\2021\\\\06. JUNIO\\\\EDO CTA\\\\Payclip_3261_25_Junio.csv',\n",
       " 'G:\\\\My Drive\\\\RESPALDO-PC\\\\DEVOLUCIONES BANAMEX\\\\2021\\\\06. JUNIO\\\\EDO CTA\\\\Payclip_3261_23_Junio.csv',\n",
       " 'G:\\\\My Drive\\\\RESPALDO-PC\\\\DEVOLUCIONES BANAMEX\\\\2021\\\\06. JUNIO\\\\EDO CTA\\\\Payclip_3261_29_Junio.csv',\n",
       " 'G:\\\\My Drive\\\\RESPALDO-PC\\\\DEVOLUCIONES BANAMEX\\\\2021\\\\06. JUNIO\\\\EDO CTA\\\\Payclip_3261_28_Junio.csv',\n",
       " 'G:\\\\My Drive\\\\RESPALDO-PC\\\\DEVOLUCIONES BANAMEX\\\\2021\\\\06. JUNIO\\\\EDO CTA\\\\Payclip_3261_22_Junio.csv',\n",
       " 'G:\\\\My Drive\\\\RESPALDO-PC\\\\DEVOLUCIONES BANAMEX\\\\2021\\\\06. JUNIO\\\\EDO CTA\\\\Payclip_3261_21_Junio.csv',\n",
       " 'G:\\\\My Drive\\\\RESPALDO-PC\\\\DEVOLUCIONES BANAMEX\\\\2021\\\\06. JUNIO\\\\EDO CTA\\\\Payclip_3261_18_Junio.csv',\n",
       " 'G:\\\\My Drive\\\\RESPALDO-PC\\\\DEVOLUCIONES BANAMEX\\\\2021\\\\06. JUNIO\\\\EDO CTA\\\\Payclip_3261_17_Junio.csv',\n",
       " 'G:\\\\My Drive\\\\RESPALDO-PC\\\\DEVOLUCIONES BANAMEX\\\\2021\\\\06. JUNIO\\\\EDO CTA\\\\Payclip_3261_16_Junio.csv',\n",
       " 'G:\\\\My Drive\\\\RESPALDO-PC\\\\DEVOLUCIONES BANAMEX\\\\2021\\\\06. JUNIO\\\\EDO CTA\\\\Payclip_3261_15_Junio.csv',\n",
       " 'G:\\\\My Drive\\\\RESPALDO-PC\\\\DEVOLUCIONES BANAMEX\\\\2021\\\\06. JUNIO\\\\EDO CTA\\\\Payclip_3261_14_Junio.csv',\n",
       " 'G:\\\\My Drive\\\\RESPALDO-PC\\\\DEVOLUCIONES BANAMEX\\\\2021\\\\06. JUNIO\\\\EDO CTA\\\\Payclip_3261_07_Junio_11_Junio.csv',\n",
       " 'G:\\\\My Drive\\\\RESPALDO-PC\\\\DEVOLUCIONES BANAMEX\\\\2021\\\\06. JUNIO\\\\EDO CTA\\\\Payclip_3261_02_Junio_03_Junio.csv',\n",
       " 'G:\\\\My Drive\\\\RESPALDO-PC\\\\DEVOLUCIONES BANAMEX\\\\2021\\\\08. AGOSTO\\\\EDO CTA\\\\Payclip_3261_02_Agosto_2021.csv']"
      ]
     },
     "execution_count": 2,
     "metadata": {},
     "output_type": "execute_result"
    }
   ],
   "source": [
    "all_mov_2021 = glob.glob(r'G:\\My Drive\\RESPALDO-PC\\DEVOLUCIONES BANAMEX\\2021\\**\\EDO CTA\\P*.csv', recursive=False)\n",
    "all_mov_2021"
   ]
  },
  {
   "cell_type": "code",
   "execution_count": 3,
   "metadata": {},
   "outputs": [
    {
     "data": {
      "text/html": [
       "<div>\n",
       "<style scoped>\n",
       "    .dataframe tbody tr th:only-of-type {\n",
       "        vertical-align: middle;\n",
       "    }\n",
       "\n",
       "    .dataframe tbody tr th {\n",
       "        vertical-align: top;\n",
       "    }\n",
       "\n",
       "    .dataframe thead th {\n",
       "        text-align: right;\n",
       "    }\n",
       "</style>\n",
       "<table border=\"1\" class=\"dataframe\">\n",
       "  <thead>\n",
       "    <tr style=\"text-align: right;\">\n",
       "      <th></th>\n",
       "      <th>index</th>\n",
       "      <th>Fecha</th>\n",
       "      <th>Descripción</th>\n",
       "      <th>Depósitos</th>\n",
       "      <th>Retiros</th>\n",
       "      <th>Saldo</th>\n",
       "      <th>file_name</th>\n",
       "    </tr>\n",
       "  </thead>\n",
       "  <tbody>\n",
       "    <tr>\n",
       "      <th>0</th>\n",
       "      <td>0</td>\n",
       "      <td>02/07/2021</td>\n",
       "      <td>Pago a terceros Sucursal: 870 Referencia Númer...</td>\n",
       "      <td>-</td>\n",
       "      <td>574.94</td>\n",
       "      <td></td>\n",
       "      <td>Payclip_3261_02_Julio_04_Julio_2021.csv</td>\n",
       "    </tr>\n",
       "    <tr>\n",
       "      <th>1</th>\n",
       "      <td>1</td>\n",
       "      <td>02/07/2021</td>\n",
       "      <td>Pago Interbancario Sucursal: 870 Referencia Nú...</td>\n",
       "      <td>-</td>\n",
       "      <td>25.15</td>\n",
       "      <td></td>\n",
       "      <td>Payclip_3261_02_Julio_04_Julio_2021.csv</td>\n",
       "    </tr>\n",
       "    <tr>\n",
       "      <th>2</th>\n",
       "      <td>2</td>\n",
       "      <td>02/07/2021</td>\n",
       "      <td>Pago Interbancario Sucursal: 870 Referencia Nú...</td>\n",
       "      <td>-</td>\n",
       "      <td>187.82</td>\n",
       "      <td></td>\n",
       "      <td>Payclip_3261_02_Julio_04_Julio_2021.csv</td>\n",
       "    </tr>\n",
       "    <tr>\n",
       "      <th>3</th>\n",
       "      <td>3</td>\n",
       "      <td>02/07/2021</td>\n",
       "      <td>Pago Interbancario Sucursal: 870 Referencia Nú...</td>\n",
       "      <td>-</td>\n",
       "      <td>323.88</td>\n",
       "      <td></td>\n",
       "      <td>Payclip_3261_02_Julio_04_Julio_2021.csv</td>\n",
       "    </tr>\n",
       "    <tr>\n",
       "      <th>4</th>\n",
       "      <td>4</td>\n",
       "      <td>02/07/2021</td>\n",
       "      <td>Pago Interbancario Sucursal: 870 Referencia Nú...</td>\n",
       "      <td>-</td>\n",
       "      <td>188.78</td>\n",
       "      <td></td>\n",
       "      <td>Payclip_3261_02_Julio_04_Julio_2021.csv</td>\n",
       "    </tr>\n",
       "  </tbody>\n",
       "</table>\n",
       "</div>"
      ],
      "text/plain": [
       "   index       Fecha                                        Descripción  \\\n",
       "0      0  02/07/2021  Pago a terceros Sucursal: 870 Referencia Númer...   \n",
       "1      1  02/07/2021  Pago Interbancario Sucursal: 870 Referencia Nú...   \n",
       "2      2  02/07/2021  Pago Interbancario Sucursal: 870 Referencia Nú...   \n",
       "3      3  02/07/2021  Pago Interbancario Sucursal: 870 Referencia Nú...   \n",
       "4      4  02/07/2021  Pago Interbancario Sucursal: 870 Referencia Nú...   \n",
       "\n",
       "  Depósitos Retiros Saldo                                file_name  \n",
       "0         -  574.94        Payclip_3261_02_Julio_04_Julio_2021.csv  \n",
       "1         -   25.15        Payclip_3261_02_Julio_04_Julio_2021.csv  \n",
       "2         -  187.82        Payclip_3261_02_Julio_04_Julio_2021.csv  \n",
       "3         -  323.88        Payclip_3261_02_Julio_04_Julio_2021.csv  \n",
       "4         -  188.78        Payclip_3261_02_Julio_04_Julio_2021.csv  "
      ]
     },
     "execution_count": 3,
     "metadata": {},
     "output_type": "execute_result"
    }
   ],
   "source": [
    "edo_cta_2021 = pd.concat([pd.read_csv(f,skiprows=12)\n",
    "                     .assign(file_name=os.path.basename(f)) for f in all_mov_2021])\n",
    "edo_cta_2021.reset_index(inplace=True)\n",
    "edo_cta_2021.head()"
   ]
  },
  {
   "cell_type": "code",
   "execution_count": 4,
   "metadata": {},
   "outputs": [
    {
     "data": {
      "text/plain": [
       "(84853, 7)"
      ]
     },
     "execution_count": 4,
     "metadata": {},
     "output_type": "execute_result"
    }
   ],
   "source": [
    "edo_cta_2021.shape"
   ]
  },
  {
   "cell_type": "code",
   "execution_count": 5,
   "metadata": {},
   "outputs": [
    {
     "data": {
      "text/html": [
       "<div>\n",
       "<style scoped>\n",
       "    .dataframe tbody tr th:only-of-type {\n",
       "        vertical-align: middle;\n",
       "    }\n",
       "\n",
       "    .dataframe tbody tr th {\n",
       "        vertical-align: top;\n",
       "    }\n",
       "\n",
       "    .dataframe thead th {\n",
       "        text-align: right;\n",
       "    }\n",
       "</style>\n",
       "<table border=\"1\" class=\"dataframe\">\n",
       "  <thead>\n",
       "    <tr style=\"text-align: right;\">\n",
       "      <th></th>\n",
       "      <th>index</th>\n",
       "      <th>Fecha</th>\n",
       "      <th>Descripción</th>\n",
       "      <th>Depósitos</th>\n",
       "      <th>Retiros</th>\n",
       "      <th>Saldo</th>\n",
       "      <th>file_name</th>\n",
       "    </tr>\n",
       "  </thead>\n",
       "  <tbody>\n",
       "    <tr>\n",
       "      <th>0</th>\n",
       "      <td>0</td>\n",
       "      <td>02/07/2021</td>\n",
       "      <td>Pago a terceros Sucursal: 870 Referencia Númer...</td>\n",
       "      <td>-</td>\n",
       "      <td>574.94</td>\n",
       "      <td></td>\n",
       "      <td>Payclip_3261_02_Julio_04_Julio_2021.csv</td>\n",
       "    </tr>\n",
       "    <tr>\n",
       "      <th>1</th>\n",
       "      <td>1</td>\n",
       "      <td>02/07/2021</td>\n",
       "      <td>Pago Interbancario Sucursal: 870 Referencia Nú...</td>\n",
       "      <td>-</td>\n",
       "      <td>25.15</td>\n",
       "      <td></td>\n",
       "      <td>Payclip_3261_02_Julio_04_Julio_2021.csv</td>\n",
       "    </tr>\n",
       "    <tr>\n",
       "      <th>2</th>\n",
       "      <td>2</td>\n",
       "      <td>02/07/2021</td>\n",
       "      <td>Pago Interbancario Sucursal: 870 Referencia Nú...</td>\n",
       "      <td>-</td>\n",
       "      <td>187.82</td>\n",
       "      <td></td>\n",
       "      <td>Payclip_3261_02_Julio_04_Julio_2021.csv</td>\n",
       "    </tr>\n",
       "    <tr>\n",
       "      <th>3</th>\n",
       "      <td>3</td>\n",
       "      <td>02/07/2021</td>\n",
       "      <td>Pago Interbancario Sucursal: 870 Referencia Nú...</td>\n",
       "      <td>-</td>\n",
       "      <td>323.88</td>\n",
       "      <td></td>\n",
       "      <td>Payclip_3261_02_Julio_04_Julio_2021.csv</td>\n",
       "    </tr>\n",
       "    <tr>\n",
       "      <th>4</th>\n",
       "      <td>4</td>\n",
       "      <td>02/07/2021</td>\n",
       "      <td>Pago Interbancario Sucursal: 870 Referencia Nú...</td>\n",
       "      <td>-</td>\n",
       "      <td>188.78</td>\n",
       "      <td></td>\n",
       "      <td>Payclip_3261_02_Julio_04_Julio_2021.csv</td>\n",
       "    </tr>\n",
       "  </tbody>\n",
       "</table>\n",
       "</div>"
      ],
      "text/plain": [
       "   index       Fecha                                        Descripción  \\\n",
       "0      0  02/07/2021  Pago a terceros Sucursal: 870 Referencia Númer...   \n",
       "1      1  02/07/2021  Pago Interbancario Sucursal: 870 Referencia Nú...   \n",
       "2      2  02/07/2021  Pago Interbancario Sucursal: 870 Referencia Nú...   \n",
       "3      3  02/07/2021  Pago Interbancario Sucursal: 870 Referencia Nú...   \n",
       "4      4  02/07/2021  Pago Interbancario Sucursal: 870 Referencia Nú...   \n",
       "\n",
       "  Depósitos Retiros Saldo                                file_name  \n",
       "0         -  574.94        Payclip_3261_02_Julio_04_Julio_2021.csv  \n",
       "1         -   25.15        Payclip_3261_02_Julio_04_Julio_2021.csv  \n",
       "2         -  187.82        Payclip_3261_02_Julio_04_Julio_2021.csv  \n",
       "3         -  323.88        Payclip_3261_02_Julio_04_Julio_2021.csv  \n",
       "4         -  188.78        Payclip_3261_02_Julio_04_Julio_2021.csv  "
      ]
     },
     "execution_count": 5,
     "metadata": {},
     "output_type": "execute_result"
    }
   ],
   "source": [
    "edo_cta = pd.concat([edo_cta_2021])\n",
    "edo_cta.head()"
   ]
  },
  {
   "cell_type": "code",
   "execution_count": 6,
   "metadata": {},
   "outputs": [
    {
     "data": {
      "text/plain": [
       "(84853, 7)"
      ]
     },
     "execution_count": 6,
     "metadata": {},
     "output_type": "execute_result"
    }
   ],
   "source": [
    "edo_cta.shape"
   ]
  },
  {
   "cell_type": "code",
   "execution_count": 7,
   "metadata": {},
   "outputs": [
    {
     "data": {
      "text/plain": [
       "array(['Payclip_3261_02_Julio_04_Julio_2021.csv',\n",
       "       'Payclip_3261_01_Julio_2021.csv', 'Payclip_3261_15_Julio_2021.csv',\n",
       "       'Payclip_3261_13_Julio_2021.csv', 'Payclip_3261_14_Julio_2021.csv',\n",
       "       'Payclip_3261_12_Julio_2021.csv',\n",
       "       'Payclip_3261_16_Julio_18_Julio_2021.csv',\n",
       "       'Payclip_3261_09_Julio_11_Julio_2021.csv',\n",
       "       'Payclip_3261_08_Julio_2021.csv', 'Payclip_3261_07_Julio_2021.csv',\n",
       "       'Payclip_3261_06_Julio_2021.csv', 'Payclip_3261_05_Julio_2021.csv',\n",
       "       'Payclip_3261_30_Junio.csv', 'Payclip_3261_25_Junio.csv',\n",
       "       'Payclip_3261_23_Junio.csv', 'Payclip_3261_29_Junio.csv',\n",
       "       'Payclip_3261_28_Junio.csv', 'Payclip_3261_22_Junio.csv',\n",
       "       'Payclip_3261_21_Junio.csv', 'Payclip_3261_18_Junio.csv',\n",
       "       'Payclip_3261_17_Junio.csv', 'Payclip_3261_16_Junio.csv',\n",
       "       'Payclip_3261_15_Junio.csv', 'Payclip_3261_14_Junio.csv',\n",
       "       'Payclip_3261_07_Junio_11_Junio.csv',\n",
       "       'Payclip_3261_02_Junio_03_Junio.csv',\n",
       "       'Payclip_3261_02_Agosto_2021.csv'], dtype=object)"
      ]
     },
     "execution_count": 7,
     "metadata": {},
     "output_type": "execute_result"
    }
   ],
   "source": [
    "edo_cta['file_name'].unique()"
   ]
  },
  {
   "cell_type": "markdown",
   "metadata": {},
   "source": [
    "### CHECK DEVOLUCIONES"
   ]
  },
  {
   "cell_type": "code",
   "execution_count": 8,
   "metadata": {},
   "outputs": [
    {
     "data": {
      "text/html": [
       "<div>\n",
       "<style scoped>\n",
       "    .dataframe tbody tr th:only-of-type {\n",
       "        vertical-align: middle;\n",
       "    }\n",
       "\n",
       "    .dataframe tbody tr th {\n",
       "        vertical-align: top;\n",
       "    }\n",
       "\n",
       "    .dataframe thead th {\n",
       "        text-align: right;\n",
       "    }\n",
       "</style>\n",
       "<table border=\"1\" class=\"dataframe\">\n",
       "  <thead>\n",
       "    <tr style=\"text-align: right;\">\n",
       "      <th></th>\n",
       "      <th>index</th>\n",
       "      <th>Fecha</th>\n",
       "      <th>Descripción</th>\n",
       "      <th>Depósitos</th>\n",
       "      <th>Retiros</th>\n",
       "      <th>Saldo</th>\n",
       "      <th>file_name</th>\n",
       "    </tr>\n",
       "  </thead>\n",
       "  <tbody>\n",
       "    <tr>\n",
       "      <th>83274</th>\n",
       "      <td>2256</td>\n",
       "      <td>02/08/2021</td>\n",
       "      <td>Pago Interbancario Sucursal: 870 Referencia Nú...</td>\n",
       "      <td>-</td>\n",
       "      <td>143.74</td>\n",
       "      <td></td>\n",
       "      <td>Payclip_3261_02_Agosto_2021.csv</td>\n",
       "    </tr>\n",
       "    <tr>\n",
       "      <th>84802</th>\n",
       "      <td>3784</td>\n",
       "      <td>02/08/2021</td>\n",
       "      <td>Abono por devolucion Sucursal: 859 Referencia ...</td>\n",
       "      <td>143.74</td>\n",
       "      <td>-</td>\n",
       "      <td></td>\n",
       "      <td>Payclip_3261_02_Agosto_2021.csv</td>\n",
       "    </tr>\n",
       "  </tbody>\n",
       "</table>\n",
       "</div>"
      ],
      "text/plain": [
       "       index       Fecha                                        Descripción  \\\n",
       "83274   2256  02/08/2021  Pago Interbancario Sucursal: 870 Referencia Nú...   \n",
       "84802   3784  02/08/2021  Abono por devolucion Sucursal: 859 Referencia ...   \n",
       "\n",
       "      Depósitos Retiros Saldo                        file_name  \n",
       "83274         -  143.74        Payclip_3261_02_Agosto_2021.csv  \n",
       "84802    143.74       -        Payclip_3261_02_Agosto_2021.csv  "
      ]
     },
     "execution_count": 8,
     "metadata": {},
     "output_type": "execute_result"
    }
   ],
   "source": [
    "check = edo_cta[(edo_cta['Descripción'].str.contains('82293'))]\n",
    "check"
   ]
  },
  {
   "cell_type": "code",
   "execution_count": null,
   "metadata": {},
   "outputs": [],
   "source": []
  }
 ],
 "metadata": {
  "kernelspec": {
   "display_name": "Python 3",
   "language": "python",
   "name": "python3"
  },
  "language_info": {
   "codemirror_mode": {
    "name": "ipython",
    "version": 3
   },
   "file_extension": ".py",
   "mimetype": "text/x-python",
   "name": "python",
   "nbconvert_exporter": "python",
   "pygments_lexer": "ipython3",
   "version": "3.7.6"
  }
 },
 "nbformat": 4,
 "nbformat_minor": 4
}
