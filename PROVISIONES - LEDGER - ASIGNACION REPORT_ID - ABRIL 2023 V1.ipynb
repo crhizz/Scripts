{
 "cells": [
  {
   "cell_type": "code",
   "execution_count": 1,
   "id": "21c1c747",
   "metadata": {},
   "outputs": [],
   "source": [
    "import pandas as pd\n",
    "import numpy as np\n",
    "import glob\n",
    "import os\n",
    "from openpyxl import load_workbook\n",
    "pd.options.display.float_format = '{:,.2f}'.format"
   ]
  },
  {
   "cell_type": "markdown",
   "id": "9df44613",
   "metadata": {},
   "source": [
    "# RUTAS"
   ]
  },
  {
   "cell_type": "markdown",
   "id": "cef36c0e",
   "metadata": {},
   "source": [
    "### SETTLEMENT MASTER LOG"
   ]
  },
  {
   "cell_type": "code",
   "execution_count": null,
   "id": "38321533",
   "metadata": {},
   "outputs": [],
   "source": [
    "sml_files = glob.glob(r'G:\\My Drive\\RESPALDO-PC\\DYNAMO\\2023\\04. ABRIL\\SETTLEMENT MASTER LOG\\*.tsv', recursive=False)\n",
    "sml_files"
   ]
  },
  {
   "cell_type": "code",
   "execution_count": null,
   "id": "7ac8262d",
   "metadata": {},
   "outputs": [],
   "source": [
    "use_cols_sml = ['MVNT_ID','PSP_AMOUNT','GROSS_AMOUNT','FEES','TAXES','NET_AMOUNT','MDR','MSI','NUMBER_MSI','RECEIPT_NO',\n",
    "                'STATUS_CODE']"
   ]
  },
  {
   "cell_type": "markdown",
   "id": "baf7556d",
   "metadata": {},
   "source": [
    "### AP JOURNAL"
   ]
  },
  {
   "cell_type": "code",
   "execution_count": null,
   "id": "932c2ffa",
   "metadata": {},
   "outputs": [],
   "source": [
    "ap_files = glob.glob(r'G:\\My Drive\\RESPALDO-PC\\DYNAMO\\2023\\04. ABRIL\\AP JOURNAL\\*.tsv', recursive=False)\n",
    "ap_files"
   ]
  },
  {
   "cell_type": "markdown",
   "id": "bf9da3cf",
   "metadata": {},
   "source": [
    "# DATA SETTLEMENT MASTER LOG"
   ]
  },
  {
   "cell_type": "code",
   "execution_count": null,
   "id": "27c65ab3",
   "metadata": {},
   "outputs": [],
   "source": [
    "sml = pd.concat([pd.read_csv(f,sep='\\t',usecols=use_cols_sml).assign(file_name=os.path.basename(f)) for f in sml_files])\n",
    "sml.columns = sml.columns.str.strip().str.lower()\n",
    "sml.replace('\"\"','', regex=True, inplace=True)\n",
    "# sml['created_at'] = pd.to_datetime(sml['created_at']).dt.tz_localize(None)\n",
    "# sml['created_at_date'] =  pd.to_datetime(sml['created_at']).dt.date\n",
    "# sml['created_at_date'] =  pd.to_datetime(sml['created_at_date'])\n",
    "# sml['eff_dt'] = pd.to_datetime(sml['eff_dt']).dt.tz_localize(None)\n",
    "# sml['eff_dt_date'] =  pd.to_datetime(sml['eff_dt']).dt.date\n",
    "# sml['eff_dt_date'] =  pd.to_datetime(sml['eff_dt_date'])\n",
    "# sml.rename(columns={'ref_id':'transaction_id'},inplace=True)\n",
    "#sml['PK'] = sml['PK'].replace('M#','',inplace=True)\n",
    "sml.head()"
   ]
  },
  {
   "cell_type": "code",
   "execution_count": null,
   "id": "bb5c429d",
   "metadata": {},
   "outputs": [],
   "source": [
    "sml.shape"
   ]
  },
  {
   "cell_type": "code",
   "execution_count": null,
   "id": "aae153e9",
   "metadata": {},
   "outputs": [],
   "source": [
    "sml.dtypes"
   ]
  },
  {
   "cell_type": "code",
   "execution_count": null,
   "id": "0aee293f",
   "metadata": {},
   "outputs": [],
   "source": [
    "sml_final = sml\n",
    "sml_final.head()"
   ]
  },
  {
   "cell_type": "code",
   "execution_count": null,
   "id": "f0afff80",
   "metadata": {},
   "outputs": [],
   "source": [
    "sml_final.shape"
   ]
  },
  {
   "cell_type": "markdown",
   "id": "05244115",
   "metadata": {},
   "source": [
    "# DATA AP JOURNAL"
   ]
  },
  {
   "cell_type": "code",
   "execution_count": null,
   "id": "2ab36c04",
   "metadata": {},
   "outputs": [],
   "source": [
    "ap = pd.concat([pd.read_csv(f, sep='\\t').assign(file_name=os.path.basename(f)) for f in ap_files])\n",
    "ap.columns = ap.columns.str.strip().str.lower()\n",
    "ap.replace('\"\"','', regex=True, inplace=True)\n",
    "ap['eff_dt'] =  pd.to_datetime(ap['eff_dt']).dt.tz_localize(None)\n",
    "ap['eff_dt_date'] =  pd.to_datetime(ap['eff_dt']).dt.date\n",
    "ap['eff_dt_date'] =  pd.to_datetime(ap['eff_dt_date'])\n",
    "ap['eff_dt_time'] =  pd.to_datetime(ap['eff_dt']).dt.time\n",
    "ap['movement_day'] = pd.to_datetime(ap['movement_day']).dt.tz_localize(None)\n",
    "ap['created_at'] = pd.to_datetime(ap['created_at']).dt.tz_localize(None)\n",
    "ap['created_at_date'] =  pd.to_datetime(ap['created_at']).dt.date\n",
    "ap['created_at_date'] =  pd.to_datetime(ap['created_at_date'])\n",
    "ap['request_effective_date'] = pd.to_datetime(ap['request_effective_date']).dt.tz_localize(None)\n",
    "ap['slot_date'] = pd.to_datetime(ap['slot_date']).dt.tz_localize(None)\n",
    "ap['identifier'] = ap['source_type'].str[:1].astype(str)\n",
    "ap['INDEX'] = (ap['eff_dt_date'].astype(str).replace(' ', '',regex=True)+'-'+\n",
    "               ap['identifier'].astype(str).replace(' ', '',regex=True)+'-'+\n",
    "               ap['eff_dt_time'].astype(str).replace(' ', '',regex=True))\n",
    "ap.sort_values(by=(['merchant_id','eff_dt']), ascending=[True,False], inplace=True)"
   ]
  },
  {
   "cell_type": "code",
   "execution_count": null,
   "id": "f999693d",
   "metadata": {},
   "outputs": [],
   "source": [
    "ap.reset_index(inplace=True)"
   ]
  },
  {
   "cell_type": "code",
   "execution_count": null,
   "id": "8319eeeb",
   "metadata": {},
   "outputs": [],
   "source": [
    "ap.loc[ap['source_type'] == 'DISB', 'report_id'] = ap['type_request']\n",
    "ap['report_id'] = ap['report_id'].groupby(ap['merchant_id']).fillna(method='ffill')\n",
    "ap.head()"
   ]
  },
  {
   "cell_type": "code",
   "execution_count": null,
   "id": "cfdd51e2",
   "metadata": {},
   "outputs": [],
   "source": [
    "ap.shape"
   ]
  },
  {
   "cell_type": "code",
   "execution_count": null,
   "id": "b34aaf44",
   "metadata": {},
   "outputs": [],
   "source": [
    "ap.dtypes"
   ]
  },
  {
   "cell_type": "code",
   "execution_count": null,
   "id": "533505bb",
   "metadata": {},
   "outputs": [],
   "source": [
    "ap['source_type'].unique()"
   ]
  },
  {
   "cell_type": "code",
   "execution_count": null,
   "id": "57a30c53",
   "metadata": {},
   "outputs": [],
   "source": [
    "ap['report_id'].unique()"
   ]
  },
  {
   "cell_type": "code",
   "execution_count": null,
   "id": "acebd4f7",
   "metadata": {},
   "outputs": [],
   "source": [
    "ap_sett = ap[(ap['source_type'] == 'SETT')]\n",
    "ap_topups = ap[(ap['source_type'] == 'TOPUPS')]\n",
    "ap_disb = ap[(ap['source_type'] == 'DISB')]\n",
    "ap_loan = ap[(ap['source_type'] == 'LOAN')]\n",
    "ap_pymt = ap[(ap['source_type'] == 'PYMT')]\n",
    "ap_risk = ap[(ap['source_type'] == 'RISK')]\n",
    "ap_sett_adptr = ap[(ap['source_type'] == 'SETT_ADPTR')]\n",
    "ap_taxes = ap[(ap['source_type'] == 'TAXES')]\n",
    "ap_refunds = ap[(ap['source_type'] == 'REFUNDS')]\n",
    "ap_bill_pymnt = ap[(ap['source_type'] == 'BILL_PYMNT')]"
   ]
  },
  {
   "cell_type": "markdown",
   "id": "d101324c",
   "metadata": {},
   "source": [
    "# CRUCE 1: AP JOURNAL VS SETTLEMENT MASTER LOG"
   ]
  },
  {
   "cell_type": "code",
   "execution_count": null,
   "id": "1754a0b8",
   "metadata": {},
   "outputs": [],
   "source": [
    "cruce_1 = ap.merge(sml_final[['mvnt_id','psp_amount','gross_amount','fees','taxes','net_amount','mdr','msi','number_msi',\n",
    "                             'receipt_no','status_code']],on='mvnt_id',how='left')\n",
    "cruce_1['transaction_id'] = cruce_1['mvnt_id']\n",
    "cruce_1.head()"
   ]
  },
  {
   "cell_type": "code",
   "execution_count": null,
   "id": "db61f0bb",
   "metadata": {},
   "outputs": [],
   "source": [
    "cruce_1.shape"
   ]
  },
  {
   "cell_type": "code",
   "execution_count": null,
   "id": "4ab2db38",
   "metadata": {},
   "outputs": [],
   "source": [
    "cruce_1.columns"
   ]
  },
  {
   "cell_type": "markdown",
   "id": "052a992b",
   "metadata": {},
   "source": [
    "# DATA PROVISION"
   ]
  },
  {
   "cell_type": "code",
   "execution_count": null,
   "id": "6fa4b3d4",
   "metadata": {},
   "outputs": [],
   "source": [
    "provision = pd.read_excel(r'C:\\Users\\Cristian.Aparicio\\Documents\\PROVISIONES\\2023\\04. ABRIL\\Provision Abril 2023 vf.xlsx',\n",
    "                          sheet_name='ECOMMERCE',\n",
    "                          converters={'AFFILIATION':str,'SUB_AFFILIATION':str,'ORDER_ID':str,'COD_AUTORIZACION':str,\n",
    "                                     'BIN':str,'ULTIMOS_4':str})\n",
    "provision.columns = provision.columns.str.strip().str.lower() \n",
    "provision.head()"
   ]
  },
  {
   "cell_type": "code",
   "execution_count": null,
   "id": "5d4270ca",
   "metadata": {},
   "outputs": [],
   "source": [
    "provision.shape"
   ]
  },
  {
   "cell_type": "markdown",
   "id": "c337bb22",
   "metadata": {},
   "source": [
    "# CRUCE 2: DATA PROVISION VS CRUCE 1"
   ]
  },
  {
   "cell_type": "code",
   "execution_count": null,
   "id": "55a73310",
   "metadata": {},
   "outputs": [],
   "source": [
    "cruce_2 = provision.merge(cruce_1[['transaction_id','mvnt_id','report_id','fees','taxes','eff_dt_date','movement_type',\n",
    "                                  'source_type']],on='transaction_id',how='left')\n",
    "cruce_2['report_id'].fillna('not_found',inplace=True)\n",
    "cruce_2['movement_type'].fillna('not_found',inplace=True)\n",
    "cruce_2['source_type'].fillna('not_found',inplace=True)\n",
    "cruce_2.head()"
   ]
  },
  {
   "cell_type": "code",
   "execution_count": null,
   "id": "8fdfba12",
   "metadata": {},
   "outputs": [],
   "source": [
    "cruce_2.shape"
   ]
  },
  {
   "cell_type": "code",
   "execution_count": null,
   "id": "bafecb0a",
   "metadata": {},
   "outputs": [],
   "source": [
    "cruce_2['movement_type'].unique()"
   ]
  },
  {
   "cell_type": "code",
   "execution_count": null,
   "id": "64aeba02",
   "metadata": {},
   "outputs": [],
   "source": [
    "cruce_2['source_type'].unique()"
   ]
  },
  {
   "cell_type": "code",
   "execution_count": null,
   "id": "21be4ad9",
   "metadata": {},
   "outputs": [],
   "source": [
    "cruce_2.to_excel('ECOMMERCE_ABRIL_2023.xlsx',index=False)"
   ]
  },
  {
   "cell_type": "markdown",
   "id": "48338820",
   "metadata": {},
   "source": [
    "###### CON EL ARCHIVO GENERADO BUSCAR LOS REPORT_ID EN EL ESCRITORIO REMOTO"
   ]
  },
  {
   "cell_type": "markdown",
   "id": "e8fefd10",
   "metadata": {},
   "source": [
    "# DATA PAGOS"
   ]
  },
  {
   "cell_type": "code",
   "execution_count": null,
   "id": "76298bce",
   "metadata": {},
   "outputs": [],
   "source": [
    "pagos = pd.read_csv(r'C:\\Users\\Cristian.Aparicio\\Documents\\PROVISIONES\\2023\\04. ABRIL\\0. DATA PAGOS\\Pagos_grrcn_abril_2023.csv')\n",
    "pagos.columns = pagos.columns.str.strip().str.lower() \n",
    "pagos['report_date_local'] =  pd.to_datetime(pagos['report_date_local'])\n",
    "pagos['payment_date_local'] =  pd.to_datetime(pagos['payment_date_local'])\n",
    "pagos['batch_created_date'] =  pd.to_datetime(pagos['batch_created_date'])\n",
    "pagos.sort_values(by=(['report_id','batch_created_date']), ascending=[True,False], inplace=True)\n",
    "pagos.head()"
   ]
  },
  {
   "cell_type": "code",
   "execution_count": null,
   "id": "0f623394",
   "metadata": {},
   "outputs": [],
   "source": [
    "pagos.shape"
   ]
  },
  {
   "cell_type": "code",
   "execution_count": null,
   "id": "2c77c291",
   "metadata": {},
   "outputs": [],
   "source": [
    "pagos_duplicates = pagos[pagos.duplicated(['report_id'] , keep=False)]\n",
    "pagos_duplicates.head()"
   ]
  },
  {
   "cell_type": "code",
   "execution_count": null,
   "id": "26a3f673",
   "metadata": {},
   "outputs": [],
   "source": [
    "pagos_duplicates.shape"
   ]
  },
  {
   "cell_type": "code",
   "execution_count": null,
   "id": "b5a019d8",
   "metadata": {},
   "outputs": [],
   "source": [
    "pagos.drop_duplicates(subset='report_id', keep='first', inplace=True) "
   ]
  },
  {
   "cell_type": "code",
   "execution_count": null,
   "id": "a0a661e7",
   "metadata": {},
   "outputs": [],
   "source": [
    "pagos.head()"
   ]
  },
  {
   "cell_type": "code",
   "execution_count": null,
   "id": "b6e17511",
   "metadata": {},
   "outputs": [],
   "source": [
    "pagos.shape"
   ]
  },
  {
   "cell_type": "markdown",
   "id": "8a3bf27a",
   "metadata": {},
   "source": [
    "# CRUCE 3: DATA PAGOS VS CRUCE 2"
   ]
  },
  {
   "cell_type": "code",
   "execution_count": null,
   "id": "7ef3d977",
   "metadata": {},
   "outputs": [],
   "source": [
    "cruce_3 = cruce_2.merge(pagos[['report_id','report_date_local','payment_date_local','batch_created_date','status']],\n",
    "                        on='report_id',how='left')\n",
    "cruce_3['status'].fillna('not_found',inplace=True)\n",
    "cruce_3.head()"
   ]
  },
  {
   "cell_type": "code",
   "execution_count": null,
   "id": "12f31f6b",
   "metadata": {},
   "outputs": [],
   "source": [
    "cruce_3.shape"
   ]
  },
  {
   "cell_type": "code",
   "execution_count": null,
   "id": "90639ac5",
   "metadata": {},
   "outputs": [],
   "source": [
    "cruce_3.to_excel('GRRCN_ABRIL_2023_FINAL.xlsx',index=False)"
   ]
  },
  {
   "cell_type": "code",
   "execution_count": null,
   "id": "3b20b16b",
   "metadata": {},
   "outputs": [],
   "source": []
  }
 ],
 "metadata": {
  "kernelspec": {
   "display_name": "Python 3 (ipykernel)",
   "language": "python",
   "name": "python3"
  },
  "language_info": {
   "codemirror_mode": {
    "name": "ipython",
    "version": 3
   },
   "file_extension": ".py",
   "mimetype": "text/x-python",
   "name": "python",
   "nbconvert_exporter": "python",
   "pygments_lexer": "ipython3",
   "version": "3.9.13"
  }
 },
 "nbformat": 4,
 "nbformat_minor": 5
}
