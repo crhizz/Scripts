{
 "cells": [
  {
   "cell_type": "code",
   "execution_count": null,
   "metadata": {},
   "outputs": [],
   "source": [
    "import numpy as np\n",
    "import pandas as pd\n",
    "import zipfile\n",
    "from zipfile import ZipFile\n",
    "import glob\n",
    "from openpyxl import load_workbook\n",
    "pd.options.display.float_format = '{:,.2f}'.format"
   ]
  },
  {
   "cell_type": "markdown",
   "metadata": {},
   "source": [
    "# PERIODO"
   ]
  },
  {
   "cell_type": "code",
   "execution_count": null,
   "metadata": {},
   "outputs": [],
   "source": [
    "start_date = '2022-07-01'\n",
    "final_date = '2022-07-29'"
   ]
  },
  {
   "cell_type": "markdown",
   "metadata": {},
   "source": [
    "# DB"
   ]
  },
  {
   "cell_type": "code",
   "execution_count": null,
   "metadata": {},
   "outputs": [],
   "source": [
    "db_1 = pd.read_csv(r'G:\\My Drive\\RESPALDO-PC\\AMEX\\HISTORICO QUERIES\\2022\\AMEX JULIO 2022.csv'\n",
    "                   ,dtype={'STATUS_CODE':object,'MSI':object,'CLAVE_AUTORIZACION':object,'BIN':object\n",
    "                           ,'LAST4':object,'ORDER_ID':object,'AFFILIATION':object,'SUB_AFFILIATION':object\n",
    "                           ,'MCC':object})\n"
   ]
  },
  {
   "cell_type": "code",
   "execution_count": null,
   "metadata": {},
   "outputs": [],
   "source": [
    "db = pd.concat([db_1])\n",
    "db.columns = db.columns.str.strip().str.lower() \n",
    "db['order_id'] = db['order_id'].str.strip()\n",
    "db['order_id'] = db['order_id'].str.upper()\n",
    "db['date_transaction'] = pd.to_datetime(db['date_transaction'])\n",
    "db['INDEX_TOTAL'] = (db['bin'].astype(str).replace(' ', '',regex=True)+'_'\n",
    "                       +db['last4'].astype(str).replace(' ', '',regex=True)+'_'\n",
    "                       +db['order_id'].astype(str).replace(' ', '',regex=True)+'_'\n",
    "                       +db['amount'].astype(str).replace(' ', '',regex=True))\n",
    "db['INDEX_PARCIAL'] = (db['bin'].astype(str).replace(' ', '',regex=True)+'_'\n",
    "                       +db['last4'].astype(str).replace(' ', '',regex=True)+'_'\n",
    "                       +db['clave_autorizacion'].astype(str).replace(' ', '',regex=True)+'_'\n",
    "                       +db['amount'].astype(str).replace(' ', '',regex=True))\n",
    "db['index_comisiones'] = (db['affiliation_type'].astype(str).replace(' ', '',regex=True)+'_'\n",
    "                       +db['msi'].str[:-6].astype(str).replace(' ', '',regex=True))\n",
    "db['order_id'].fillna('SIN ORDER_ID EN DB',inplace=True)\n",
    "db.head()"
   ]
  },
  {
   "cell_type": "code",
   "execution_count": null,
   "metadata": {},
   "outputs": [],
   "source": [
    "db.shape"
   ]
  },
  {
   "cell_type": "markdown",
   "metadata": {},
   "source": [
    "# EPA"
   ]
  },
  {
   "cell_type": "code",
   "execution_count": null,
   "metadata": {},
   "outputs": [],
   "source": [
    "allfiles = glob.glob(r'G:\\My Drive\\EPA\\EPA files\\2022*\\**\\*.txt', recursive=True)\n",
    "allfiles"
   ]
  },
  {
   "cell_type": "code",
   "execution_count": null,
   "metadata": {},
   "outputs": [],
   "source": [
    "names_header=[\"1\",\"2\",\"3\",\"4\",\"5\",\"6\",\"7\",\"8\",\"9\",\"10\",\"A\",\"12\",\"13\",\"14\",\"15\",\"16\",\"17\",\"18\",\"19\",\"order_id\",\n",
    "              \"21\",\"22\",\"23\",\"24\",\"25\",\"26\",\"27\",\"28\"]"
   ]
  },
  {
   "cell_type": "code",
   "execution_count": null,
   "metadata": {},
   "outputs": [],
   "source": [
    "epa = pd.concat([pd.read_csv(f,names=names_header, sep=',',dtype=object) for f in allfiles])\n",
    "epa['order_id'] = epa['order_id'].str.strip()\n",
    "epa.head()"
   ]
  },
  {
   "cell_type": "code",
   "execution_count": null,
   "metadata": {},
   "outputs": [],
   "source": [
    "epa.shape"
   ]
  },
  {
   "cell_type": "code",
   "execution_count": null,
   "metadata": {},
   "outputs": [],
   "source": [
    "epa['6'].unique()"
   ]
  },
  {
   "cell_type": "code",
   "execution_count": null,
   "metadata": {},
   "outputs": [],
   "source": [
    "epa_0 = epa[(epa['6'] == '0')]\n",
    "epa_1 = epa[(epa['6'] == '1')]\n",
    "epa_3 = epa[(epa['6'] == '3')]\n",
    "epa_4 = epa[(epa['6'] == '4')]\n",
    "epa_5 = epa[(epa['6'] == '5')]\n",
    "epa_9 = epa[(epa['6'] == '9')]"
   ]
  },
  {
   "cell_type": "markdown",
   "metadata": {},
   "source": [
    "## EPA 0"
   ]
  },
  {
   "cell_type": "code",
   "execution_count": null,
   "metadata": {},
   "outputs": [],
   "source": [
    "epa_0.head()"
   ]
  },
  {
   "cell_type": "code",
   "execution_count": null,
   "metadata": {},
   "outputs": [],
   "source": [
    "epa_0.shape"
   ]
  },
  {
   "cell_type": "markdown",
   "metadata": {},
   "source": [
    "## EPA 1"
   ]
  },
  {
   "cell_type": "code",
   "execution_count": null,
   "metadata": {},
   "outputs": [],
   "source": [
    "epa_1['2'] = pd.to_datetime(epa_1['2'], format='%Y%m%d').dt.date\n",
    "epa_1['2'] = pd.to_datetime(epa_1['2'])\n",
    "epa_1.sort_values(by=['2'],inplace=True)\n",
    "epa_1.head()"
   ]
  },
  {
   "cell_type": "code",
   "execution_count": null,
   "metadata": {},
   "outputs": [],
   "source": [
    "epa_1.shape"
   ]
  },
  {
   "cell_type": "code",
   "execution_count": null,
   "metadata": {},
   "outputs": [],
   "source": [
    "epa_1_final = epa_1[['6','2','8','15','16','17','18','19']]\n",
    "epa_1_final.head()"
   ]
  },
  {
   "cell_type": "code",
   "execution_count": null,
   "metadata": {},
   "outputs": [],
   "source": [
    "epa_1_final['8'] = epa_1_final['8'].astype(float)\n",
    "epa_1_final['15'] = epa_1_final['15'].astype(float)\n",
    "epa_1_final['16'] = epa_1_final['16'].astype(float)\n",
    "epa_1_final['17'] = epa_1_final['17'].astype(float)\n",
    "epa_1_final['18'] = epa_1_final['18'].astype(float)\n",
    "epa_1_final['19'] = epa_1_final['19'].astype(float)"
   ]
  },
  {
   "cell_type": "code",
   "execution_count": null,
   "metadata": {},
   "outputs": [],
   "source": [
    "epa_1_final.rename(columns ={'6':'Type','2':'Payment_date'},inplace=True)"
   ]
  },
  {
   "cell_type": "code",
   "execution_count": null,
   "metadata": {},
   "outputs": [],
   "source": [
    "epa_1_final['Payment_amount'] = epa_1_final['8']/100\n",
    "epa_1_final['Gross_amount'] = epa_1_final['15']/100\n",
    "epa_1_final['Discount_amount'] = epa_1_final['16']/100\n",
    "epa_1_final['Taxes_amount'] = epa_1_final['17']/100\n",
    "epa_1_final['Discount_aceleration_amount'] = epa_1_final['18']/100\n",
    "epa_1_final['Net_amount'] = epa_1_final['19']/100\n",
    "epa_1_final.head()"
   ]
  },
  {
   "cell_type": "code",
   "execution_count": null,
   "metadata": {},
   "outputs": [],
   "source": [
    "epa_1_excel = epa_1_final[(epa_1_final['Payment_date'] >= start_date) & (epa_1_final['Payment_date'] <= final_date)]"
   ]
  },
  {
   "cell_type": "code",
   "execution_count": null,
   "metadata": {},
   "outputs": [],
   "source": [
    "epa_1_excel_final = epa_1_excel.groupby(['Payment_date']).agg({'Payment_amount':sum,'Gross_amount':sum,'Discount_amount':sum\n",
    "                                                        ,'Taxes_amount':sum,'Discount_aceleration_amount':sum\n",
    "                                                        ,'Net_amount':sum}).reset_index()\n",
    "epa_1_excel_final.head()"
   ]
  },
  {
   "cell_type": "code",
   "execution_count": null,
   "metadata": {},
   "outputs": [],
   "source": [
    "epa_1_excel.shape"
   ]
  },
  {
   "cell_type": "markdown",
   "metadata": {},
   "source": [
    "## EPA 3"
   ]
  },
  {
   "cell_type": "code",
   "execution_count": null,
   "metadata": {},
   "outputs": [],
   "source": [
    "epa_3['2'] = pd.to_datetime(epa_3['2'], format='%Y%m%d').dt.date\n",
    "epa_3['2'] = pd.to_datetime(epa_3['2'])\n",
    "epa_3.sort_values(by=['2'],inplace=True)\n",
    "epa_3.head()"
   ]
  },
  {
   "cell_type": "code",
   "execution_count": null,
   "metadata": {},
   "outputs": [],
   "source": [
    "epa_3.shape"
   ]
  },
  {
   "cell_type": "code",
   "execution_count": null,
   "metadata": {},
   "outputs": [],
   "source": [
    "epa_3_final = epa_3[['6','2','10','A','12','13','14','15','16','25','26','27','28']]\n",
    "epa_3_final.reset_index(drop=True, inplace=True)\n",
    "epa_3_final.head()"
   ]
  },
  {
   "cell_type": "code",
   "execution_count": null,
   "metadata": {},
   "outputs": [],
   "source": [
    "epa_3_final['10'] = epa_3_final['10'].astype(float)\n",
    "epa_3_final['A'] = epa_3_final['A'].astype(float)\n",
    "epa_3_final['12'] = epa_3_final['12'].astype(float)\n",
    "epa_3_final['13'] = epa_3_final['13'].astype(float)\n",
    "epa_3_final['14'] = epa_3_final['14'].astype(float)\n",
    "epa_3_final['15'] = epa_3_final['15'].astype(float)\n",
    "epa_3_final['16'] = epa_3_final['16'].astype(float)\n",
    "epa_3_final['25'] = epa_3_final['25'].astype(float)\n",
    "epa_3_final['26'] = epa_3_final['26'].astype(float)\n",
    "epa_3_final['27'] = epa_3_final['27'].astype(float)\n",
    "epa_3_final['28'] = epa_3_final['28'].astype(float)"
   ]
  },
  {
   "cell_type": "code",
   "execution_count": null,
   "metadata": {},
   "outputs": [],
   "source": [
    "epa_3_final.rename(columns ={'6':'Type','2':'Payment_date','16':'Register_number'},inplace=True)"
   ]
  },
  {
   "cell_type": "code",
   "execution_count": null,
   "metadata": {},
   "outputs": [],
   "source": [
    "epa_3_final['Gross_amount'] = epa_3_final['10']/100\n",
    "epa_3_final['Gross_amount_amex'] = epa_3_final['A']/100\n",
    "epa_3_final['Discount_amount'] = epa_3_final['12']/100\n",
    "epa_3_final['Taxes_amount'] = epa_3_final['13']/100\n",
    "epa_3_final['Discount_aceleration_amount'] = epa_3_final['14']/100\n",
    "epa_3_final['Net_amount'] = epa_3_final['15']/100\n",
    "epa_3_final['Aceleration_net_amount'] = epa_3_final['25']/100\n",
    "epa_3_final['Gross_amount_trans_cambio'] = epa_3_final['26']/100\n",
    "epa_3_final['Credit_gross_amount'] = epa_3_final['27']/100\n",
    "epa_3_final['Unknown'] = epa_3_final['28']/100\n",
    "epa_3_final.head()"
   ]
  },
  {
   "cell_type": "code",
   "execution_count": null,
   "metadata": {},
   "outputs": [],
   "source": [
    "epa_3_excel = epa_3_final[(epa_3_final['Payment_date'] >= start_date) & (epa_3_final['Payment_date'] <= final_date)]"
   ]
  },
  {
   "cell_type": "code",
   "execution_count": null,
   "metadata": {},
   "outputs": [],
   "source": [
    "epa_3_excel_final = epa_3_excel.groupby(['Payment_date']).agg({'Register_number':sum,'Gross_amount':sum,'Gross_amount_amex':sum\n",
    "                                                               ,'Discount_amount':sum,'Taxes_amount':sum\n",
    "                                                               ,'Discount_aceleration_amount':sum,'Net_amount':sum\n",
    "                                                               ,'Aceleration_net_amount':sum\n",
    "                                                               ,'Gross_amount_trans_cambio':sum,'Credit_gross_amount':sum\n",
    "                                                               ,'Unknown':sum}).reset_index()\n",
    "epa_3_excel_final.head()"
   ]
  },
  {
   "cell_type": "code",
   "execution_count": null,
   "metadata": {},
   "outputs": [],
   "source": [
    "epa_3_excel_final.shape"
   ]
  },
  {
   "cell_type": "markdown",
   "metadata": {},
   "source": [
    "## EPA 4"
   ]
  },
  {
   "cell_type": "code",
   "execution_count": null,
   "metadata": {},
   "outputs": [],
   "source": [
    "epa_4['8'] = pd.to_datetime(epa_4['8'], format='%Y%m%d').dt.date\n",
    "epa_4['2'] = pd.to_datetime(epa_4['2'], format='%Y%m%d').dt.date"
   ]
  },
  {
   "cell_type": "code",
   "execution_count": null,
   "metadata": {},
   "outputs": [],
   "source": [
    "epa_4['8'] = pd.to_datetime(epa_4['8'])\n",
    "epa_4['2'] = pd.to_datetime(epa_4['2'])"
   ]
  },
  {
   "cell_type": "code",
   "execution_count": null,
   "metadata": {},
   "outputs": [],
   "source": [
    "epa_4.head()"
   ]
  },
  {
   "cell_type": "code",
   "execution_count": null,
   "metadata": {},
   "outputs": [],
   "source": [
    "epa_4.shape"
   ]
  },
  {
   "cell_type": "code",
   "execution_count": null,
   "metadata": {},
   "outputs": [],
   "source": [
    "txn_epa = epa_4[['order_id','6','8','A','12','22','23','2','15']]\n",
    "txn_epa[\"12\"] = txn_epa['12'].astype(float)\n",
    "txn_epa[\"22\"] = txn_epa['22'].astype(float)\n",
    "txn_epa[\"23\"] = txn_epa['23'].astype(float)\n"
   ]
  },
  {
   "cell_type": "code",
   "execution_count": null,
   "metadata": {},
   "outputs": [],
   "source": [
    "txn_epa['total_amount_bruto'] = txn_epa['12']/100\n",
    "txn_epa['fee_amount_mdr'] = -(txn_epa['total_amount_bruto']*0.0240)\n",
    "txn_epa['fee_amount_msi'] = txn_epa['22']/100\n",
    "txn_epa['iva_msi'] = txn_epa['fee_amount_msi']*0.1600\n",
    "txn_epa['iva_mdr'] = txn_epa['fee_amount_mdr']*0.1600\n",
    "txn_epa['bin_bank'] = txn_epa['A'].str[:6].astype(str)\n",
    "txn_epa['last4_bank'] = txn_epa['A'].str[-8:-4].astype(str)"
   ]
  },
  {
   "cell_type": "code",
   "execution_count": null,
   "metadata": {},
   "outputs": [],
   "source": [
    "txn_epa.rename(columns ={'6':'Type','8':'Date_process_roc','12':'Total_amount_charge_roc',\n",
    "                         '22':'Svc_fee_amount_roc','23':'Svc_fee_amount_accel_roc','2':'roc_deposit_date'},inplace=True)\n",
    "txn_epa['INDEX_TOTAL'] = (txn_epa['bin_bank'].astype(str).replace(' ', '',regex=True)+'_'\n",
    "                            +txn_epa['last4_bank'].astype(str).replace(' ', '',regex=True)+'_'\n",
    "                            +txn_epa['order_id'].astype(str).replace(' ', '',regex=True)+'_'\n",
    "                            +txn_epa['total_amount_bruto'].astype(str).replace(' ', '',regex=True))\n",
    "# txn_epa['INDEX_PARCIAL'] = (txn_epa['bin_bank'].astype(str).replace(' ', '',regex=True)+'_'\n",
    "#                             +txn_epa['last4_bank'].astype(str).replace(' ', '',regex=True)+'_'\n",
    "#                             +txn_epa['codigo_aprobacion'].astype(str).replace(' ', '',regex=True)+'_'\n",
    "#                             +txn_epa['total_amount_bruto'].astype(str).replace(' ', '',regex=True))\n",
    "txn_epa.fillna('SIN ORDER_ID EN EPA',inplace=True)\n",
    "txn_epa.head()"
   ]
  },
  {
   "cell_type": "code",
   "execution_count": null,
   "metadata": {},
   "outputs": [],
   "source": [
    "txn_epa.shape"
   ]
  },
  {
   "cell_type": "markdown",
   "metadata": {},
   "source": [
    "## EPA 5"
   ]
  },
  {
   "cell_type": "code",
   "execution_count": null,
   "metadata": {},
   "outputs": [],
   "source": [
    "epa_5['2'] = pd.to_datetime(epa_5['2'], format='%Y%m%d').dt.date"
   ]
  },
  {
   "cell_type": "code",
   "execution_count": null,
   "metadata": {},
   "outputs": [],
   "source": [
    "epa_5['2'] = pd.to_datetime(epa_5['2'])"
   ]
  },
  {
   "cell_type": "code",
   "execution_count": null,
   "metadata": {},
   "outputs": [],
   "source": [
    "epa_5.head()"
   ]
  },
  {
   "cell_type": "code",
   "execution_count": null,
   "metadata": {},
   "outputs": [],
   "source": [
    "epa_5.shape"
   ]
  },
  {
   "cell_type": "code",
   "execution_count": null,
   "metadata": {},
   "outputs": [],
   "source": [
    "txn_epa_adj = epa_5[['2','8','9','10','A','12','13','14','15','16','18']]\n",
    "txn_epa_adj.rename(columns ={'2':'roc_deposit_date','8':'clave_autorizacion','14':'no_tarjeta','15':'adj_id','16':'motivo_adj'},inplace=True) \n",
    "txn_epa_adj[\"9\"] = txn_epa_adj['9'].astype(float)\n",
    "txn_epa_adj[\"10\"] = txn_epa_adj['10'].astype(float)\n",
    "txn_epa_adj[\"A\"] = txn_epa_adj['A'].astype(float)\n",
    "txn_epa_adj[\"12\"] = txn_epa_adj['12'].astype(float)\n",
    "txn_epa_adj[\"13\"] = txn_epa_adj['13'].astype(float)\n"
   ]
  },
  {
   "cell_type": "code",
   "execution_count": null,
   "metadata": {},
   "outputs": [],
   "source": [
    "txn_epa_adj['importe_adj_bruto'] = txn_epa_adj['9']/100\n",
    "txn_epa_adj['tasa_adj'] = txn_epa_adj['10']/100\n",
    "txn_epa_adj['importe_impuesto'] = txn_epa_adj['A']/100\n",
    "txn_epa_adj['tasa_servicio_plan_n'] = txn_epa_adj['12']/100\n",
    "txn_epa_adj['importe_adj_neto'] = txn_epa_adj['13']/100\n",
    "txn_epa_adj['bin_bank'] = txn_epa_adj['no_tarjeta'].str[:6].astype(str)\n",
    "txn_epa_adj['last4_bank'] = txn_epa_adj['no_tarjeta'].str[-8:-4].astype(str)\n"
   ]
  },
  {
   "cell_type": "code",
   "execution_count": null,
   "metadata": {},
   "outputs": [],
   "source": [
    "txn_epa_adj.head()"
   ]
  },
  {
   "cell_type": "code",
   "execution_count": null,
   "metadata": {},
   "outputs": [],
   "source": [
    "txn_epa_adj.shape"
   ]
  },
  {
   "cell_type": "code",
   "execution_count": null,
   "metadata": {},
   "outputs": [],
   "source": [
    "txn_epa_adj_final = txn_epa_adj[(txn_epa_adj['roc_deposit_date'] >= start_date) & (txn_epa_adj['roc_deposit_date'] <= final_date)]"
   ]
  },
  {
   "cell_type": "markdown",
   "metadata": {},
   "source": [
    "## EPA 9"
   ]
  },
  {
   "cell_type": "code",
   "execution_count": null,
   "metadata": {},
   "outputs": [],
   "source": [
    "epa_9.head()"
   ]
  },
  {
   "cell_type": "code",
   "execution_count": null,
   "metadata": {},
   "outputs": [],
   "source": [
    "epa_9.shape"
   ]
  },
  {
   "cell_type": "markdown",
   "metadata": {},
   "source": [
    "# CONCILIACION ALL"
   ]
  },
  {
   "cell_type": "code",
   "execution_count": null,
   "metadata": {},
   "outputs": [],
   "source": [
    "txn_epa.columns"
   ]
  },
  {
   "cell_type": "code",
   "execution_count": null,
   "metadata": {},
   "outputs": [],
   "source": [
    "cruce_2 = db.merge(txn_epa[['order_id','total_amount_bruto','fee_amount_mdr','fee_amount_msi','iva_msi','iva_mdr'\n",
    "                           ,'Date_process_roc','roc_deposit_date']],on='order_id',how='left')\n",
    "cruce_2['Date_process_roc'].fillna('NO ENCONTRADO',inplace=True)\n",
    "cruce_2['roc_deposit_date'].fillna('NO ENCONTRADO',inplace=True)\n",
    "cruce_2['total_amount_bruto'].fillna(0,inplace=True)\n",
    "cruce_2['fee_amount_mdr'].fillna(0,inplace=True)\n",
    "cruce_2['fee_amount_msi'].fillna(0,inplace=True)\n",
    "cruce_2['iva_msi'].fillna(0,inplace=True)\n",
    "cruce_2['iva_mdr'].fillna(0,inplace=True)\n",
    "cruce_2.loc[~cruce_2['status_code'].str.contains('3'),'amount_new'] = cruce_2['amount']\n",
    "cruce_2.loc[cruce_2['status_code'].str.contains('3'),'amount_new'] = cruce_2['amount']*-1\n",
    "cruce_2['comparison'] = cruce_2['total_amount_bruto'] == cruce_2['amount_new']\n",
    "cruce_2.head()"
   ]
  },
  {
   "cell_type": "code",
   "execution_count": null,
   "metadata": {},
   "outputs": [],
   "source": [
    "cruce_2.shape"
   ]
  },
  {
   "cell_type": "code",
   "execution_count": null,
   "metadata": {},
   "outputs": [],
   "source": [
    "# cruce_2.to_csv('CLIP-AMEX_junio_2022.csv')"
   ]
  },
  {
   "cell_type": "markdown",
   "metadata": {},
   "source": [
    "# TRANSACTIONS CLIP - AMEX"
   ]
  },
  {
   "cell_type": "code",
   "execution_count": null,
   "metadata": {},
   "outputs": [],
   "source": [
    "txn_epa_txn_c_a = cruce_2[(cruce_2['date_transaction'] >= start_date) & (cruce_2['date_transaction'] <= final_date)]\n",
    "txn_epa_txn_c_a.sort_values(by=['date_transaction','order_id'],inplace=True)\n",
    "txn_epa_txn_c_a.head()"
   ]
  },
  {
   "cell_type": "code",
   "execution_count": null,
   "metadata": {},
   "outputs": [],
   "source": [
    "txn_epa_txn_c_a.shape"
   ]
  },
  {
   "cell_type": "code",
   "execution_count": null,
   "metadata": {},
   "outputs": [],
   "source": [
    "duplicates_2_c_a = txn_epa_txn_c_a[txn_epa_txn_c_a.duplicated(['order_id'] , keep=False)]\n",
    "duplicates_2_c_a.sort_values(by=['order_id','date_transaction'],inplace=True)\n",
    "duplicates_2_c_a.head()\n"
   ]
  },
  {
   "cell_type": "code",
   "execution_count": null,
   "metadata": {},
   "outputs": [],
   "source": [
    "duplicates_2_c_a.shape"
   ]
  },
  {
   "cell_type": "code",
   "execution_count": null,
   "metadata": {},
   "outputs": [],
   "source": [
    "txn_epa_txn_c_a.drop_duplicates(subset ='order_id', keep='last', inplace=True)\n",
    "txn_epa_txn_c_a.shape"
   ]
  },
  {
   "cell_type": "code",
   "execution_count": null,
   "metadata": {},
   "outputs": [],
   "source": [
    "comparison_2_c_a = txn_epa_txn_c_a[(txn_epa_txn_c_a['comparison'] == False)]\n",
    "comparison_2_c_a.head()"
   ]
  },
  {
   "cell_type": "code",
   "execution_count": null,
   "metadata": {},
   "outputs": [],
   "source": [
    "comparison_2_c_a.shape"
   ]
  },
  {
   "cell_type": "markdown",
   "metadata": {},
   "source": [
    "# GROUP BY TRANSACTION DATE"
   ]
  },
  {
   "cell_type": "code",
   "execution_count": null,
   "metadata": {},
   "outputs": [],
   "source": [
    "txn_txn_date_cruce_2_c_a = txn_epa_txn_c_a.groupby(['date_transaction']).agg({'amount':sum,'total_amount_bruto':sum\n",
    "                                                                              ,'fee_amount_mdr':sum,'fee_amount_msi':sum\n",
    "                                                                              ,'iva_mdr':sum,'iva_msi':sum,'amount_new':sum\n",
    "                                                                              ,'order_id':'count'}).reset_index()\n",
    "txn_txn_date_cruce_2_c_a.rename(columns ={'order_id':'number_transactions'}, inplace=True)\n",
    "txn_txn_date_cruce_2_c_a['diff'] = txn_txn_date_cruce_2_c_a['total_amount_bruto'] - txn_txn_date_cruce_2_c_a['amount_new']\n",
    "txn_txn_date_cruce_2_c_a.head()\n"
   ]
  },
  {
   "cell_type": "code",
   "execution_count": null,
   "metadata": {},
   "outputs": [],
   "source": [
    "txn_txn_date_cruce_2_c_a.shape"
   ]
  },
  {
   "cell_type": "markdown",
   "metadata": {},
   "source": [
    "# GROUP BY TRANSACTION DATE AND STATUS CODE"
   ]
  },
  {
   "cell_type": "code",
   "execution_count": null,
   "metadata": {},
   "outputs": [],
   "source": [
    "txn_txn_status_cruce_2_c_a = txn_epa_txn_c_a.groupby(['affiliation_type','date_transaction','status_code']).agg({'amount':sum\n",
    "                                                                                              ,'total_amount_bruto':sum\n",
    "                                                                                              ,'fee_amount_mdr':sum\n",
    "                                                                                              ,'fee_amount_msi':sum\n",
    "                                                                                              ,'iva_mdr':sum,'iva_msi':sum\n",
    "                                                                                              ,'amount_new':sum,'order_id':'count'}).reset_index()\n",
    "txn_txn_status_cruce_2_c_a.rename(columns ={'order_id':'number_transactions'}, inplace=True)\n",
    "txn_txn_status_cruce_2_c_a['diff'] = txn_txn_status_cruce_2_c_a['total_amount_bruto'] - txn_txn_status_cruce_2_c_a['amount_new']\n",
    "txn_txn_status_cruce_2_c_a.head()\n"
   ]
  },
  {
   "cell_type": "code",
   "execution_count": null,
   "metadata": {},
   "outputs": [],
   "source": [
    "txn_txn_status_cruce_2_c_a.shape"
   ]
  },
  {
   "cell_type": "markdown",
   "metadata": {},
   "source": [
    "### STATUS 1"
   ]
  },
  {
   "cell_type": "code",
   "execution_count": null,
   "metadata": {},
   "outputs": [],
   "source": [
    "txn_txn_status_cruce_1_status_1_c_a = txn_txn_status_cruce_2_c_a[(txn_txn_status_cruce_2_c_a['status_code'] == '1')]\n",
    "txn_txn_status_cruce_1_status_1_c_a.head()"
   ]
  },
  {
   "cell_type": "code",
   "execution_count": null,
   "metadata": {},
   "outputs": [],
   "source": [
    "txn_txn_status_cruce_1_status_1_c_a.shape"
   ]
  },
  {
   "cell_type": "markdown",
   "metadata": {},
   "source": [
    "### STATUS 3"
   ]
  },
  {
   "cell_type": "code",
   "execution_count": null,
   "metadata": {},
   "outputs": [],
   "source": [
    "txn_txn_status_cruce_1_status_3_c_a = txn_txn_status_cruce_2_c_a[(txn_txn_status_cruce_2_c_a['status_code'] == '3')]\n",
    "txn_txn_status_cruce_1_status_3_c_a.head()"
   ]
  },
  {
   "cell_type": "code",
   "execution_count": null,
   "metadata": {},
   "outputs": [],
   "source": [
    "txn_txn_status_cruce_1_status_3_c_a.shape"
   ]
  },
  {
   "cell_type": "markdown",
   "metadata": {},
   "source": [
    "# POSIBLES DISPUTAS"
   ]
  },
  {
   "cell_type": "code",
   "execution_count": null,
   "metadata": {
    "scrolled": true
   },
   "outputs": [],
   "source": [
    "posibles_disputas = txn_epa_txn_c_a[(txn_epa_txn_c_a['status_code'] != '1') & (txn_epa_txn_c_a['status_code'] != '3')]\n",
    "posibles_disputas.head()\n"
   ]
  },
  {
   "cell_type": "code",
   "execution_count": null,
   "metadata": {},
   "outputs": [],
   "source": [
    "posibles_disputas.shape"
   ]
  },
  {
   "cell_type": "markdown",
   "metadata": {},
   "source": [
    "# EXCEL FINAL"
   ]
  },
  {
   "cell_type": "code",
   "execution_count": null,
   "metadata": {},
   "outputs": [],
   "source": [
    "writer = pd.ExcelWriter('CLIP-AMEX JULIO 2021.xlsx', engine='xlsxwriter', options={'encoding':'utf-8'})\n",
    "txn_epa_txn_c_a.to_excel(writer, sheet_name='TRANSACTIONS DETAIL',index=False)\n",
    "duplicates_2_c_a.to_excel(writer, sheet_name='DUPLICATES',index=False)\n",
    "comparison_2_c_a.to_excel(writer, sheet_name='TRANSACTIONS COMPARISON',index=False)\n",
    "txn_txn_date_cruce_2_c_a.to_excel(writer, sheet_name='TXN DATE',index=False)\n",
    "txn_txn_status_cruce_2_c_a.to_excel(writer, sheet_name='TXN DATE AND STATUS',index=False)\n",
    "txn_txn_status_cruce_1_status_1_c_a.to_excel(writer, sheet_name='STATUS 1',index=False)\n",
    "txn_txn_status_cruce_1_status_3_c_a.to_excel(writer, sheet_name='STATUS 3',index=False)\n",
    "posibles_disputas.to_excel(writer, sheet_name='POSIBLES DISPUTAS',index=False)\n",
    "writer.save()\n",
    "writer.close()"
   ]
  },
  {
   "cell_type": "code",
   "execution_count": null,
   "metadata": {},
   "outputs": [],
   "source": []
  }
 ],
 "metadata": {
  "kernelspec": {
   "display_name": "Python 3 (ipykernel)",
   "language": "python",
   "name": "python3"
  },
  "language_info": {
   "codemirror_mode": {
    "name": "ipython",
    "version": 3
   },
   "file_extension": ".py",
   "mimetype": "text/x-python",
   "name": "python",
   "nbconvert_exporter": "python",
   "pygments_lexer": "ipython3",
   "version": "3.9.12"
  }
 },
 "nbformat": 4,
 "nbformat_minor": 4
}
