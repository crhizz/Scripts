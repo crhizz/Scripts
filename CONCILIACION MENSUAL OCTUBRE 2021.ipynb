{
 "cells": [
  {
   "cell_type": "code",
   "execution_count": null,
   "metadata": {},
   "outputs": [],
   "source": [
    "import numpy as np\n",
    "import pandas as pd\n",
    "import zipfile\n",
    "from zipfile import ZipFile\n",
    "import glob\n",
    "from openpyxl import load_workbook\n",
    "pd.options.display.float_format = '{:,.2f}'.format"
   ]
  },
  {
   "cell_type": "markdown",
   "metadata": {},
   "source": [
    "# PERIODO"
   ]
  },
  {
   "cell_type": "code",
   "execution_count": null,
   "metadata": {},
   "outputs": [],
   "source": [
    "start_date = '2021-10-01'\n",
    "final_date = '2021-10-29'"
   ]
  },
  {
   "cell_type": "markdown",
   "metadata": {},
   "source": [
    "# PARAMETRÍA COMISIONES"
   ]
  },
  {
   "cell_type": "code",
   "execution_count": null,
   "metadata": {},
   "outputs": [],
   "source": [
    "parametria_comisiones = pd.read_csv(r'G:\\My Drive\\RESPALDO-PC\\AMEX\\PARAMETRIA AMEX.csv',dtype={'meses_msi':object,\n",
    "                                                                                              'comision_porcentaje':float})\n",
    "parametria_comisiones['inicio'] = pd.to_datetime(parametria_comisiones['inicio'])\n",
    "#parametria_comisiones['fin'] = pd.to_datetime(parametria_comisiones['fin'])\n",
    "parametria_comisiones['comision_porcentaje_mdr'] = -0.0240\n",
    "parametria_comisiones['comision_porcentaje_msi'] = -parametria_comisiones['comision_porcentaje']/100\n",
    "parametria_comisiones.loc[parametria_comisiones['fuente'].str.contains('EPA'), \"affiliation_type\"] = 'AGGREGATOR'\n",
    "parametria_comisiones.loc[parametria_comisiones['fuente'].str.contains('GRRCN'), \"affiliation_type\"] = 'OPTBLUE'\n",
    "parametria_comisiones.loc[parametria_comisiones['meses_msi'].str.contains('99'),'meses_msi'] = '0'\n",
    "parametria_comisiones.loc[parametria_comisiones['meses_msi'].str.contains('0'),'comision_porcentaje_msi'] = 0\n",
    "parametria_comisiones['comision_porcentaje_final'] = (parametria_comisiones['comision_porcentaje_mdr'] +\n",
    "                                                      parametria_comisiones['comision_porcentaje_msi'])\n",
    "parametria_comisiones['index_comisiones'] = (parametria_comisiones['affiliation_type'].astype(str).replace(' ', '',regex=True)+'_'+\n",
    "                                             parametria_comisiones['meses_msi'].astype(str).replace(' ', '',regex=True))\n",
    "\n",
    "parametria_comisiones.head()"
   ]
  },
  {
   "cell_type": "code",
   "execution_count": null,
   "metadata": {},
   "outputs": [],
   "source": [
    "parametria_comisiones.shape"
   ]
  },
  {
   "cell_type": "code",
   "execution_count": null,
   "metadata": {},
   "outputs": [],
   "source": [
    "parametria_comisiones['fuente'].unique()"
   ]
  },
  {
   "cell_type": "code",
   "execution_count": null,
   "metadata": {},
   "outputs": [],
   "source": [
    "parametria_comisiones['meses_msi'].unique()"
   ]
  },
  {
   "cell_type": "markdown",
   "metadata": {},
   "source": [
    "# COMISIONES EPA COBRADAS"
   ]
  },
  {
   "cell_type": "code",
   "execution_count": null,
   "metadata": {},
   "outputs": [],
   "source": [
    "comisiones_epa = parametria_comisiones[(parametria_comisiones['fuente'] == 'EPA') &\n",
    "                                       ((parametria_comisiones['status'].str.contains('TERMINADA')) & (parametria_comisiones['comentario'].str.contains('Sobre tasa'))) |\n",
    "                                       (parametria_comisiones['comentario'].str.contains('Agregador General'))]\n",
    "comisiones_epa"
   ]
  },
  {
   "cell_type": "code",
   "execution_count": null,
   "metadata": {},
   "outputs": [],
   "source": [
    "comisiones_epa.shape"
   ]
  },
  {
   "cell_type": "markdown",
   "metadata": {},
   "source": [
    "# DB"
   ]
  },
  {
   "cell_type": "code",
   "execution_count": null,
   "metadata": {},
   "outputs": [],
   "source": [
    "# db_1 = pd.read_csv(r'G:\\My Drive\\RESPALDO-PC\\AMEX\\HISTORICO QUERIES\\2021\\AMEX SEPTIEMBRE 2021.csv'\n",
    "#                    ,dtype={'status_code':object,'msi':object,'clave_autorizacion':object,'bin':object\n",
    "#                            ,'last4':object,'order_id':object,'affiliation':object,'sub_affiliation':object\n",
    "#                            ,'mcc':object})\n",
    "# db_2 = pd.read_csv(r'G:\\My Drive\\RESPALDO-PC\\AMEX\\HISTORICO QUERIES\\2021\\AMEX AGOSTO 2021.csv'\n",
    "#                    ,dtype={'status_code':object,'msi':object,'clave_autorizacion':object,'bin':object\n",
    "#                            ,'last4':object,'order_id':object,'affiliation':object,'sub_affiliation':object\n",
    "#                            ,'mcc':object})\n",
    "db_1 = pd.read_csv(r'G:\\My Drive\\RESPALDO-PC\\AMEX\\HISTORICO QUERIES\\2021\\QUERIES CONSOLIDADO\\AMEX AGOSTO-SEPTIEMBRE 2021.csv'\n",
    "                   ,dtype={'STATUS_CODE':object,'MSI':object,'CLAVE_AUTORIZACION':object,'BIN':object\n",
    "                           ,'LAST4':object,'ORDER_ID':object,'AFFILIATION':object,'SUB_AFFILIATION':object\n",
    "                           ,'MCC':object})\n",
    "db_2 = pd.read_csv(r'G:\\My Drive\\RESPALDO-PC\\AMEX\\HISTORICO QUERIES\\2021\\QUERIES CONSOLIDADO\\AMEX OCTUBRE 2021.csv'\n",
    "                   ,dtype={'STATUS_CODE':object,'MSI':object,'CLAVE_AUTORIZACION':object,'BIN':object\n",
    "                           ,'LAST4':object,'ORDER_ID':object,'AFFILIATION':object,'SUB_AFFILIATION':object\n",
    "                           ,'MCC':object})\n",
    "# db_3 = pd.read_csv(r'G:\\My Drive\\RESPALDO-PC\\AMEX\\HISTORICO QUERIES\\2021\\QUERIES CONSOLIDADO\\AMEX JUNIO-JULIO 2021.csv'\n",
    "#                    ,dtype={'STATUS_CODE':object,'MSI':object,'CLAVE_AUTORIZACION':object,'BIN':object\n",
    "#                            ,'LAST4':object,'ORDER_ID':object,'AFFILIATION':object,'SUB_AFFILIATION':object\n",
    "#                            ,'MCC':object})\n",
    "# db_4 = pd.read_csv(r'G:\\My Drive\\RESPALDO-PC\\AMEX\\HISTORICO QUERIES\\2021\\QUERIES CONSOLIDADO\\AMEX AGOSTO-SEPTIEMBRE 2021.csv'\n",
    "#                    ,dtype={'STATUS_CODE':object,'MSI':object,'CLAVE_AUTORIZACION':object,'BIN':object\n",
    "#                            ,'LAST4':object,'ORDER_ID':object,'AFFILIATION':object,'SUB_AFFILIATION':object\n",
    "#                            ,'MCC':object})"
   ]
  },
  {
   "cell_type": "code",
   "execution_count": null,
   "metadata": {},
   "outputs": [],
   "source": [
    "db = pd.concat([db_1,db_2])\n",
    "db.columns = db.columns.str.strip().str.lower() \n",
    "db['order_id'] = db['order_id'].str.strip()\n",
    "db['order_id'] = db['order_id'].str.upper()\n",
    "db['date_transaction'] = pd.to_datetime(db['date_transaction'])\n",
    "db['INDEX_TOTAL'] = (db['bin'].astype(str).replace(' ', '',regex=True)+'_'\n",
    "                       +db['last4'].astype(str).replace(' ', '',regex=True)+'_'\n",
    "                       +db['order_id'].astype(str).replace(' ', '',regex=True)+'_'\n",
    "                       +db['amount'].astype(str).replace(' ', '',regex=True))\n",
    "db['INDEX_PARCIAL'] = (db['bin'].astype(str).replace(' ', '',regex=True)+'_'\n",
    "                       +db['last4'].astype(str).replace(' ', '',regex=True)+'_'\n",
    "                       +db['clave_autorizacion'].astype(str).replace(' ', '',regex=True)+'_'\n",
    "                       +db['amount'].astype(str).replace(' ', '',regex=True))\n",
    "db['index_comisiones'] = (db['affiliation_type'].astype(str).replace(' ', '',regex=True)+'_'\n",
    "                       +db['msi'].str[:-6].astype(str).replace(' ', '',regex=True))\n",
    "db['order_id'].fillna('SIN ORDER_ID EN DB',inplace=True)\n",
    "db.head()"
   ]
  },
  {
   "cell_type": "code",
   "execution_count": null,
   "metadata": {},
   "outputs": [],
   "source": [
    "db.shape"
   ]
  },
  {
   "cell_type": "code",
   "execution_count": null,
   "metadata": {},
   "outputs": [],
   "source": [
    "db['msi'].unique()"
   ]
  },
  {
   "cell_type": "code",
   "execution_count": null,
   "metadata": {},
   "outputs": [],
   "source": [
    "db['index_comisiones'].unique()"
   ]
  },
  {
   "cell_type": "code",
   "execution_count": null,
   "metadata": {},
   "outputs": [],
   "source": [
    "db.dtypes"
   ]
  },
  {
   "cell_type": "code",
   "execution_count": null,
   "metadata": {},
   "outputs": [],
   "source": [
    "duplicates = db[db.duplicated(['transaction_id'] , keep=False)]\n",
    "duplicates.head()"
   ]
  },
  {
   "cell_type": "code",
   "execution_count": null,
   "metadata": {},
   "outputs": [],
   "source": [
    "duplicates.shape"
   ]
  },
  {
   "cell_type": "markdown",
   "metadata": {},
   "source": [
    "# DB CON COMISIONES"
   ]
  },
  {
   "cell_type": "code",
   "execution_count": null,
   "metadata": {},
   "outputs": [],
   "source": [
    "db_final = db.merge(comisiones_epa[['index_comisiones','comision_porcentaje_mdr',\n",
    "                                   'comision_porcentaje_msi','comision_porcentaje_final']],on='index_comisiones',how='left')\n",
    "db_final['comision_porcentaje_final'].fillna(0,inplace=True)\n",
    "db_final['comision_mdr_db'] = db_final['amount'] * db_final['comision_porcentaje_mdr']\n",
    "db_final['iva_comision_mdr_db'] = db_final['comision_mdr_db'] * 0.1600\n",
    "db_final['comision_msi_db'] = db_final['amount'] * db_final['comision_porcentaje_msi']\n",
    "db_final['iva_comision_msi_db'] = db_final['comision_msi_db'] * 0.1600\n",
    "db_final.head()"
   ]
  },
  {
   "cell_type": "code",
   "execution_count": null,
   "metadata": {},
   "outputs": [],
   "source": [
    "db_final.shape"
   ]
  },
  {
   "cell_type": "markdown",
   "metadata": {},
   "source": [
    "# EPA"
   ]
  },
  {
   "cell_type": "code",
   "execution_count": null,
   "metadata": {},
   "outputs": [],
   "source": [
    "allfiles = glob.glob(r'G:\\My Drive\\EPA\\EPA files\\2021 EPA Amex\\**\\*.txt', recursive=True)\n",
    "allfiles"
   ]
  },
  {
   "cell_type": "code",
   "execution_count": null,
   "metadata": {},
   "outputs": [],
   "source": [
    "names_header=[\"1\",\"2\",\"3\",\"4\",\"5\",\"6\",\"7\",\"8\",\"9\",\"10\",\"A\",\"12\",\"13\",\"14\",\"15\",\"16\",\"17\",\"18\",\"19\",\"order_id\",\n",
    "              \"21\",\"22\",\"23\",\"24\",\"25\",\"26\",\"27\",\"28\"]"
   ]
  },
  {
   "cell_type": "code",
   "execution_count": null,
   "metadata": {},
   "outputs": [],
   "source": [
    "epa = pd.concat([pd.read_csv(f,names=names_header, sep=',',dtype=object) for f in allfiles])\n",
    "epa['order_id'] = epa['order_id'].str.strip()\n",
    "epa.head()"
   ]
  },
  {
   "cell_type": "code",
   "execution_count": null,
   "metadata": {},
   "outputs": [],
   "source": [
    "epa.shape"
   ]
  },
  {
   "cell_type": "code",
   "execution_count": null,
   "metadata": {},
   "outputs": [],
   "source": [
    "epa['6'].unique()"
   ]
  },
  {
   "cell_type": "code",
   "execution_count": null,
   "metadata": {},
   "outputs": [],
   "source": [
    "epa_0 = epa[(epa['6'] == '0')]\n",
    "epa_1 = epa[(epa['6'] == '1')]\n",
    "epa_3 = epa[(epa['6'] == '3')]\n",
    "epa_4 = epa[(epa['6'] == '4')]\n",
    "epa_5 = epa[(epa['6'] == '5')]\n",
    "epa_9 = epa[(epa['6'] == '9')]"
   ]
  },
  {
   "cell_type": "markdown",
   "metadata": {},
   "source": [
    "## EPA 0"
   ]
  },
  {
   "cell_type": "code",
   "execution_count": null,
   "metadata": {},
   "outputs": [],
   "source": [
    "epa_0.head()"
   ]
  },
  {
   "cell_type": "code",
   "execution_count": null,
   "metadata": {},
   "outputs": [],
   "source": [
    "epa_0.shape"
   ]
  },
  {
   "cell_type": "markdown",
   "metadata": {},
   "source": [
    "## EPA 1"
   ]
  },
  {
   "cell_type": "code",
   "execution_count": null,
   "metadata": {},
   "outputs": [],
   "source": [
    "epa_1['2'] = pd.to_datetime(epa_1['2'], format='%Y%m%d').dt.date\n",
    "epa_1['2'] = pd.to_datetime(epa_1['2'])\n",
    "epa_1.sort_values(by=['2'],inplace=True)\n",
    "epa_1.head()"
   ]
  },
  {
   "cell_type": "code",
   "execution_count": null,
   "metadata": {},
   "outputs": [],
   "source": [
    "epa_1.shape"
   ]
  },
  {
   "cell_type": "code",
   "execution_count": null,
   "metadata": {},
   "outputs": [],
   "source": [
    "epa_1_final = epa_1[['6','2','8','15','16','17','18','19']]\n",
    "epa_1_final.head()"
   ]
  },
  {
   "cell_type": "code",
   "execution_count": null,
   "metadata": {},
   "outputs": [],
   "source": [
    "epa_1_final['8'] = epa_1_final['8'].astype(float)\n",
    "epa_1_final['15'] = epa_1_final['15'].astype(float)\n",
    "epa_1_final['16'] = epa_1_final['16'].astype(float)\n",
    "epa_1_final['17'] = epa_1_final['17'].astype(float)\n",
    "epa_1_final['18'] = epa_1_final['18'].astype(float)\n",
    "epa_1_final['19'] = epa_1_final['19'].astype(float)"
   ]
  },
  {
   "cell_type": "code",
   "execution_count": null,
   "metadata": {},
   "outputs": [],
   "source": [
    "epa_1_final.rename(columns ={'6':'Type','2':'Payment_date'},inplace=True)"
   ]
  },
  {
   "cell_type": "code",
   "execution_count": null,
   "metadata": {},
   "outputs": [],
   "source": [
    "epa_1_final['Payment_amount'] = epa_1_final['8']/100\n",
    "epa_1_final['Gross_amount'] = epa_1_final['15']/100\n",
    "epa_1_final['Discount_amount'] = epa_1_final['16']/100\n",
    "epa_1_final['Taxes_amount'] = epa_1_final['17']/100\n",
    "epa_1_final['Discount_aceleration_amount'] = epa_1_final['18']/100\n",
    "epa_1_final['Net_amount'] = epa_1_final['19']/100\n",
    "epa_1_final.head()"
   ]
  },
  {
   "cell_type": "code",
   "execution_count": null,
   "metadata": {},
   "outputs": [],
   "source": [
    "epa_1_excel = epa_1_final[(epa_1_final['Payment_date'] >= start_date) & (epa_1_final['Payment_date'] <= final_date)]"
   ]
  },
  {
   "cell_type": "code",
   "execution_count": null,
   "metadata": {},
   "outputs": [],
   "source": [
    "epa_1_excel_final = epa_1_excel.groupby(['Payment_date']).agg({'Payment_amount':sum,'Gross_amount':sum,'Discount_amount':sum\n",
    "                                                        ,'Taxes_amount':sum,'Discount_aceleration_amount':sum\n",
    "                                                        ,'Net_amount':sum}).reset_index()\n",
    "epa_1_excel_final.head()"
   ]
  },
  {
   "cell_type": "code",
   "execution_count": null,
   "metadata": {},
   "outputs": [],
   "source": [
    "epa_1_excel_final.shape"
   ]
  },
  {
   "cell_type": "code",
   "execution_count": null,
   "metadata": {},
   "outputs": [],
   "source": [
    "epa_1_excel_final.to_excel('EPA_1.xlsx')"
   ]
  },
  {
   "cell_type": "markdown",
   "metadata": {},
   "source": [
    "## EPA 3"
   ]
  },
  {
   "cell_type": "code",
   "execution_count": null,
   "metadata": {},
   "outputs": [],
   "source": [
    "epa_3['2'] = pd.to_datetime(epa_3['2'], format='%Y%m%d').dt.date\n",
    "epa_3['2'] = pd.to_datetime(epa_3['2'])\n",
    "epa_3.sort_values(by=['2'],inplace=True)\n",
    "epa_3.head()"
   ]
  },
  {
   "cell_type": "code",
   "execution_count": null,
   "metadata": {},
   "outputs": [],
   "source": [
    "epa_3.shape"
   ]
  },
  {
   "cell_type": "code",
   "execution_count": null,
   "metadata": {},
   "outputs": [],
   "source": []
  },
  {
   "cell_type": "code",
   "execution_count": null,
   "metadata": {},
   "outputs": [],
   "source": [
    "epa_3_final = epa_3[['6','2','10','A','12','13','14','15','16','25','26','27','28']]\n",
    "epa_3_final.reset_index(drop=True, inplace=True)\n",
    "epa_3_final.head()"
   ]
  },
  {
   "cell_type": "code",
   "execution_count": null,
   "metadata": {},
   "outputs": [],
   "source": [
    "epa_3_final['10'] = epa_3_final['10'].astype(float)\n",
    "epa_3_final['A'] = epa_3_final['A'].astype(float)\n",
    "epa_3_final['12'] = epa_3_final['12'].astype(float)\n",
    "epa_3_final['13'] = epa_3_final['13'].astype(float)\n",
    "epa_3_final['14'] = epa_3_final['14'].astype(float)\n",
    "epa_3_final['15'] = epa_3_final['15'].astype(float)\n",
    "epa_3_final['16'] = epa_3_final['16'].astype(float)\n",
    "epa_3_final['25'] = epa_3_final['25'].astype(float)\n",
    "epa_3_final['26'] = epa_3_final['26'].astype(float)\n",
    "epa_3_final['27'] = epa_3_final['27'].astype(float)\n",
    "epa_3_final['28'] = epa_3_final['28'].astype(float)"
   ]
  },
  {
   "cell_type": "code",
   "execution_count": null,
   "metadata": {},
   "outputs": [],
   "source": [
    "epa_3_final.rename(columns ={'6':'Type','2':'Payment_date','16':'Register_number'},inplace=True)"
   ]
  },
  {
   "cell_type": "code",
   "execution_count": null,
   "metadata": {},
   "outputs": [],
   "source": [
    "epa_3_final['Gross_amount'] = epa_3_final['10']/100\n",
    "epa_3_final['Gross_amount_amex'] = epa_3_final['A']/100\n",
    "epa_3_final['Discount_amount'] = epa_3_final['12']/100\n",
    "epa_3_final['Taxes_amount'] = epa_3_final['13']/100\n",
    "epa_3_final['Discount_aceleration_amount'] = epa_3_final['14']/100\n",
    "epa_3_final['Net_amount'] = epa_3_final['15']/100\n",
    "epa_3_final['Aceleration_net_amount'] = epa_3_final['25']/100\n",
    "epa_3_final['Gross_amount_trans_cambio'] = epa_3_final['26']/100\n",
    "epa_3_final['Credit_gross_amount'] = epa_3_final['27']/100\n",
    "epa_3_final['Unknown'] = epa_3_final['28']/100\n",
    "epa_3_final.head()"
   ]
  },
  {
   "cell_type": "code",
   "execution_count": null,
   "metadata": {},
   "outputs": [],
   "source": [
    "epa_3_excel = epa_3_final[(epa_3_final['Payment_date'] >= start_date) & (epa_3_final['Payment_date'] <= final_date)]"
   ]
  },
  {
   "cell_type": "code",
   "execution_count": null,
   "metadata": {},
   "outputs": [],
   "source": [
    "epa_3_excel_final = epa_3_excel.groupby(['Payment_date']).agg({'Register_number':sum,'Gross_amount':sum,'Gross_amount_amex':sum\n",
    "                                                               ,'Discount_amount':sum,'Taxes_amount':sum\n",
    "                                                               ,'Discount_aceleration_amount':sum,'Net_amount':sum\n",
    "                                                               ,'Aceleration_net_amount':sum\n",
    "                                                               ,'Gross_amount_trans_cambio':sum,'Credit_gross_amount':sum\n",
    "                                                               ,'Unknown':sum}).reset_index()\n",
    "epa_3_excel_final.head()"
   ]
  },
  {
   "cell_type": "code",
   "execution_count": null,
   "metadata": {},
   "outputs": [],
   "source": [
    "epa_3_excel_final.shape"
   ]
  },
  {
   "cell_type": "code",
   "execution_count": null,
   "metadata": {},
   "outputs": [],
   "source": [
    "epa_3_excel_final.to_csv('EPA_3.csv')"
   ]
  },
  {
   "cell_type": "markdown",
   "metadata": {},
   "source": [
    "## EPA 4"
   ]
  },
  {
   "cell_type": "code",
   "execution_count": null,
   "metadata": {},
   "outputs": [],
   "source": [
    "epa_4['8'] = pd.to_datetime(epa_4['8'], format='%Y%m%d').dt.date\n",
    "epa_4['2'] = pd.to_datetime(epa_4['2'], format='%Y%m%d').dt.date"
   ]
  },
  {
   "cell_type": "code",
   "execution_count": null,
   "metadata": {},
   "outputs": [],
   "source": [
    "epa_4['8'] = pd.to_datetime(epa_4['8'])\n",
    "epa_4['2'] = pd.to_datetime(epa_4['2'])"
   ]
  },
  {
   "cell_type": "code",
   "execution_count": null,
   "metadata": {},
   "outputs": [],
   "source": [
    "epa_4.head()"
   ]
  },
  {
   "cell_type": "code",
   "execution_count": null,
   "metadata": {},
   "outputs": [],
   "source": [
    "epa_4.shape"
   ]
  },
  {
   "cell_type": "code",
   "execution_count": null,
   "metadata": {},
   "outputs": [],
   "source": [
    "epa_4.to_csv('EPA_4.csv',index=False)"
   ]
  },
  {
   "cell_type": "code",
   "execution_count": null,
   "metadata": {},
   "outputs": [],
   "source": [
    "txn_epa = epa_4[['order_id','6','8','A','12','22','23','2','15']]\n",
    "txn_epa[\"12\"] = txn_epa['12'].astype(float)\n",
    "txn_epa[\"22\"] = txn_epa['22'].astype(float)\n",
    "txn_epa[\"23\"] = txn_epa['23'].astype(float)\n"
   ]
  },
  {
   "cell_type": "code",
   "execution_count": null,
   "metadata": {},
   "outputs": [],
   "source": [
    "txn_epa['total_amount_bruto'] = txn_epa['12']/100\n",
    "txn_epa['fee_amount_mdr'] = -(txn_epa['total_amount_bruto']*0.0240)\n",
    "txn_epa['fee_amount_msi'] = txn_epa['22']/100\n",
    "txn_epa['iva_msi'] = txn_epa['fee_amount_msi']*0.1600\n",
    "txn_epa['iva_mdr'] = txn_epa['fee_amount_mdr']*0.1600\n",
    "txn_epa['bin_bank'] = txn_epa['A'].str[:6].astype(str)\n",
    "txn_epa['last4_bank'] = txn_epa['A'].str[-8:-4].astype(str)"
   ]
  },
  {
   "cell_type": "code",
   "execution_count": null,
   "metadata": {},
   "outputs": [],
   "source": [
    "txn_epa.rename(columns ={'6':'Type','8':'Date_process_roc','12':'Total_amount_charge_roc',\n",
    "                         '22':'Svc_fee_amount_roc','23':'Svc_fee_amount_accel_roc','2':'roc_deposit_date'},inplace=True)\n",
    "txn_epa['INDEX_TOTAL'] = (txn_epa['bin_bank'].astype(str).replace(' ', '',regex=True)+'_'\n",
    "                            +txn_epa['last4_bank'].astype(str).replace(' ', '',regex=True)+'_'\n",
    "                            +txn_epa['order_id'].astype(str).replace(' ', '',regex=True)+'_'\n",
    "                            +txn_epa['total_amount_bruto'].astype(str).replace(' ', '',regex=True))\n",
    "# txn_epa['INDEX_PARCIAL'] = (txn_epa['bin_bank'].astype(str).replace(' ', '',regex=True)+'_'\n",
    "#                             +txn_epa['last4_bank'].astype(str).replace(' ', '',regex=True)+'_'\n",
    "#                             +txn_epa['codigo_aprobacion'].astype(str).replace(' ', '',regex=True)+'_'\n",
    "#                             +txn_epa['total_amount_bruto'].astype(str).replace(' ', '',regex=True))\n",
    "txn_epa.fillna('SIN ORDER_ID EN EPA',inplace=True)\n",
    "txn_epa.head()"
   ]
  },
  {
   "cell_type": "code",
   "execution_count": null,
   "metadata": {},
   "outputs": [],
   "source": [
    "txn_epa.shape"
   ]
  },
  {
   "cell_type": "code",
   "execution_count": null,
   "metadata": {},
   "outputs": [],
   "source": [
    "# txn_epa.to_excel('EPA CONSOLIDADO.xlsx',index=False)"
   ]
  },
  {
   "cell_type": "markdown",
   "metadata": {},
   "source": [
    "### DATA PARA PROVISION"
   ]
  },
  {
   "cell_type": "code",
   "execution_count": null,
   "metadata": {},
   "outputs": [],
   "source": [
    "start_date_prov = '2021-10-25'"
   ]
  },
  {
   "cell_type": "code",
   "execution_count": null,
   "metadata": {},
   "outputs": [],
   "source": [
    "txn_epa_prov = txn_epa[(txn_epa['Date_process_roc'] >= start_date_prov)]\n",
    "txn_epa_prov.head()"
   ]
  },
  {
   "cell_type": "code",
   "execution_count": null,
   "metadata": {},
   "outputs": [],
   "source": [
    "txn_epa_prov.shape"
   ]
  },
  {
   "cell_type": "code",
   "execution_count": null,
   "metadata": {},
   "outputs": [],
   "source": [
    "txn_epa_prov.to_csv('AMEX PROVISION EPA OCTUBRE 2021.csv',index=False)"
   ]
  },
  {
   "cell_type": "markdown",
   "metadata": {},
   "source": [
    "## EPA 5"
   ]
  },
  {
   "cell_type": "code",
   "execution_count": null,
   "metadata": {},
   "outputs": [],
   "source": [
    "epa_5['2'] = pd.to_datetime(epa_5['2'], format='%Y%m%d').dt.date"
   ]
  },
  {
   "cell_type": "code",
   "execution_count": null,
   "metadata": {},
   "outputs": [],
   "source": [
    "epa_5['2'] = pd.to_datetime(epa_5['2'])"
   ]
  },
  {
   "cell_type": "code",
   "execution_count": null,
   "metadata": {},
   "outputs": [],
   "source": [
    "epa_5.head()"
   ]
  },
  {
   "cell_type": "code",
   "execution_count": null,
   "metadata": {},
   "outputs": [],
   "source": [
    "epa_5.shape"
   ]
  },
  {
   "cell_type": "code",
   "execution_count": null,
   "metadata": {},
   "outputs": [],
   "source": [
    "txn_epa_adj = epa_5[['2','8','9','10','A','12','13','14','15','16','18']]\n",
    "txn_epa_adj.rename(columns ={'2':'roc_deposit_date','8':'clave_autorizacion','14':'no_tarjeta','15':'adj_id','16':'motivo_adj'},inplace=True) \n",
    "txn_epa_adj[\"9\"] = txn_epa_adj['9'].astype(float)\n",
    "txn_epa_adj[\"10\"] = txn_epa_adj['10'].astype(float)\n",
    "txn_epa_adj[\"A\"] = txn_epa_adj['A'].astype(float)\n",
    "txn_epa_adj[\"12\"] = txn_epa_adj['12'].astype(float)\n",
    "txn_epa_adj[\"13\"] = txn_epa_adj['13'].astype(float)\n"
   ]
  },
  {
   "cell_type": "code",
   "execution_count": null,
   "metadata": {},
   "outputs": [],
   "source": [
    "txn_epa_adj['importe_adj_bruto'] = txn_epa_adj['9']/100\n",
    "txn_epa_adj['tasa_adj'] = txn_epa_adj['10']/100\n",
    "txn_epa_adj['importe_impuesto'] = txn_epa_adj['A']/100\n",
    "txn_epa_adj['tasa_servicio_plan_n'] = txn_epa_adj['12']/100\n",
    "txn_epa_adj['importe_adj_neto'] = txn_epa_adj['13']/100\n",
    "txn_epa_adj['bin_bank'] = txn_epa_adj['no_tarjeta'].str[:6].astype(str)\n",
    "txn_epa_adj['last4_bank'] = txn_epa_adj['no_tarjeta'].str[-8:-4].astype(str)"
   ]
  },
  {
   "cell_type": "code",
   "execution_count": null,
   "metadata": {},
   "outputs": [],
   "source": [
    "txn_epa_adj.head()"
   ]
  },
  {
   "cell_type": "code",
   "execution_count": null,
   "metadata": {},
   "outputs": [],
   "source": [
    "txn_epa_adj.shape"
   ]
  },
  {
   "cell_type": "code",
   "execution_count": null,
   "metadata": {},
   "outputs": [],
   "source": [
    "txn_epa_adj.to_excel(r'ADJ CONSOLIDADO.xlsx',index=False)"
   ]
  },
  {
   "cell_type": "code",
   "execution_count": null,
   "metadata": {},
   "outputs": [],
   "source": [
    "txn_epa_adj_final = txn_epa_adj[(txn_epa_adj['roc_deposit_date'] >= start_date) & (txn_epa_adj['roc_deposit_date'] <= final_date)]"
   ]
  },
  {
   "cell_type": "markdown",
   "metadata": {},
   "source": [
    "## EPA 9"
   ]
  },
  {
   "cell_type": "code",
   "execution_count": null,
   "metadata": {},
   "outputs": [],
   "source": [
    "epa_9.head()"
   ]
  },
  {
   "cell_type": "code",
   "execution_count": null,
   "metadata": {},
   "outputs": [],
   "source": [
    "epa_9.shape"
   ]
  },
  {
   "cell_type": "markdown",
   "metadata": {},
   "source": [
    "# CONCILIACION ALL"
   ]
  },
  {
   "cell_type": "code",
   "execution_count": null,
   "metadata": {},
   "outputs": [],
   "source": [
    "cruce_1 = txn_epa.merge(db_final[['order_id','transaction_id','date_transaction','amount','status_code','msi','bin','last4',\n",
    "                                  'clave_autorizacion','comision_porcentaje_mdr','comision_porcentaje_msi',\n",
    "                                  'comision_porcentaje_final','comision_mdr_db','iva_comision_mdr_db',\n",
    "                                  'comision_msi_db','iva_comision_msi_db']],on='order_id',how='left')\n",
    "cruce_1[['transaction_id','status_code','msi']].fillna('NO ENCONTRADO',inplace=True)\n",
    "cruce_1['amount'].fillna(0,inplace=True)\n",
    "cruce_1['status_code'].fillna('NO ENCONTRADO',inplace=True)\n",
    "cruce_1.loc[~cruce_1['status_code'].str.contains('3'),'amount_new'] = cruce_1['amount']\n",
    "cruce_1.loc[cruce_1['status_code'].str.contains('3'),'amount_new'] = cruce_1['amount']*-1\n",
    "cruce_1['comparison'] = cruce_1['total_amount_bruto'] == cruce_1['amount_new']\n",
    "cruce_1.head()"
   ]
  },
  {
   "cell_type": "code",
   "execution_count": null,
   "metadata": {},
   "outputs": [],
   "source": [
    "cruce_1.shape"
   ]
  },
  {
   "cell_type": "code",
   "execution_count": null,
   "metadata": {},
   "outputs": [],
   "source": [
    "cruce_1['status_code'].unique()"
   ]
  },
  {
   "cell_type": "markdown",
   "metadata": {},
   "source": [
    "# PAYMENTS CRUCE AMEX VS CLIP"
   ]
  },
  {
   "cell_type": "code",
   "execution_count": null,
   "metadata": {},
   "outputs": [],
   "source": [
    "txn_epa_deposit = cruce_1[(cruce_1['roc_deposit_date'] >= start_date) & (cruce_1['roc_deposit_date'] <= final_date)]\n",
    "txn_epa_deposit.head()"
   ]
  },
  {
   "cell_type": "code",
   "execution_count": null,
   "metadata": {},
   "outputs": [],
   "source": [
    "txn_epa_deposit.shape"
   ]
  },
  {
   "cell_type": "code",
   "execution_count": null,
   "metadata": {},
   "outputs": [],
   "source": [
    "txn_epa_deposit['roc_deposit_date'].unique()"
   ]
  },
  {
   "cell_type": "code",
   "execution_count": null,
   "metadata": {},
   "outputs": [],
   "source": [
    "duplicates_1 = txn_epa_deposit[txn_epa_deposit.duplicated(['order_id'] , keep=False)]\n",
    "duplicates_1.sort_values(by=['order_id','Date_process_roc'],inplace=True)\n",
    "duplicates_1.head()\n"
   ]
  },
  {
   "cell_type": "code",
   "execution_count": null,
   "metadata": {},
   "outputs": [],
   "source": [
    "duplicates_1.shape"
   ]
  },
  {
   "cell_type": "code",
   "execution_count": null,
   "metadata": {},
   "outputs": [],
   "source": [
    "txn_epa_deposit.to_csv('EJEMPLO COMISIONES.csv')"
   ]
  },
  {
   "cell_type": "markdown",
   "metadata": {},
   "source": [
    "### COMPARISON"
   ]
  },
  {
   "cell_type": "code",
   "execution_count": null,
   "metadata": {},
   "outputs": [],
   "source": [
    "comparison_1 = txn_epa_deposit[(txn_epa_deposit['comparison'] == False)]\n",
    "comparison_1.head()"
   ]
  },
  {
   "cell_type": "code",
   "execution_count": null,
   "metadata": {},
   "outputs": [],
   "source": [
    "comparison_1.shape"
   ]
  },
  {
   "cell_type": "markdown",
   "metadata": {},
   "source": [
    "### ADJUSTMENTS"
   ]
  },
  {
   "cell_type": "code",
   "execution_count": null,
   "metadata": {},
   "outputs": [],
   "source": [
    "txn_epa_adj_trunc = txn_epa_adj[(txn_epa_adj['roc_deposit_date'] >= start_date) &\n",
    "                                (txn_epa_adj['roc_deposit_date'] <= final_date)]"
   ]
  },
  {
   "cell_type": "code",
   "execution_count": null,
   "metadata": {},
   "outputs": [],
   "source": [
    "adj_montos = txn_epa_adj_trunc[(txn_epa_adj_trunc['motivo_adj'] != 'MONTO DE SERVICIO')]\n",
    "adj_montos.head()"
   ]
  },
  {
   "cell_type": "code",
   "execution_count": null,
   "metadata": {},
   "outputs": [],
   "source": [
    "adj_montos.shape"
   ]
  },
  {
   "cell_type": "code",
   "execution_count": null,
   "metadata": {},
   "outputs": [],
   "source": [
    "deposit_date_adj = adj_montos.groupby(['roc_deposit_date']).agg({'importe_adj_bruto':sum,'tasa_adj':sum\n",
    "                                                                 ,'importe_impuesto':sum,'tasa_servicio_plan_n':sum\n",
    "                                                                 ,'importe_adj_neto':sum}).reset_index()\n",
    "deposit_date_adj.head()"
   ]
  },
  {
   "cell_type": "code",
   "execution_count": null,
   "metadata": {},
   "outputs": [],
   "source": [
    "deposit_date_adj.shape"
   ]
  },
  {
   "cell_type": "code",
   "execution_count": null,
   "metadata": {},
   "outputs": [],
   "source": [
    "adj_monto_servicio = txn_epa_adj_trunc[(txn_epa_adj_trunc['motivo_adj'] == 'MONTO DE SERVICIO')]\n",
    "adj_monto_servicio.head()"
   ]
  },
  {
   "cell_type": "code",
   "execution_count": null,
   "metadata": {},
   "outputs": [],
   "source": [
    "adj_monto_servicio.shape"
   ]
  },
  {
   "cell_type": "code",
   "execution_count": null,
   "metadata": {},
   "outputs": [],
   "source": [
    "pivot_monto_servicio = adj_monto_servicio.groupby(['roc_deposit_date']).agg({'importe_adj_bruto':sum,'tasa_adj':sum\n",
    "                                                                 ,'importe_impuesto':sum,'tasa_servicio_plan_n':sum\n",
    "                                                                 ,'importe_adj_neto':sum}).reset_index()\n",
    "pivot_monto_servicio.head()"
   ]
  },
  {
   "cell_type": "code",
   "execution_count": null,
   "metadata": {},
   "outputs": [],
   "source": [
    "pivot_monto_servicio.shape"
   ]
  },
  {
   "cell_type": "markdown",
   "metadata": {},
   "source": [
    "#### ADJUSTMENTS POSITIVOS"
   ]
  },
  {
   "cell_type": "code",
   "execution_count": null,
   "metadata": {},
   "outputs": [],
   "source": [
    "adj_montos_positivos = adj_montos[(adj_montos['importe_adj_bruto'] >= 0)]"
   ]
  },
  {
   "cell_type": "code",
   "execution_count": null,
   "metadata": {},
   "outputs": [],
   "source": [
    "deposit_date_adj_positivos = adj_montos_positivos.groupby(['roc_deposit_date']).agg({'importe_adj_bruto':sum,'tasa_adj':sum\n",
    "                                                                 ,'importe_impuesto':sum,'tasa_servicio_plan_n':sum\n",
    "                                                                 ,'importe_adj_neto':sum}).reset_index()\n",
    "deposit_date_adj_positivos.head()"
   ]
  },
  {
   "cell_type": "code",
   "execution_count": null,
   "metadata": {},
   "outputs": [],
   "source": [
    "deposit_date_adj_positivos.shape"
   ]
  },
  {
   "cell_type": "code",
   "execution_count": null,
   "metadata": {},
   "outputs": [],
   "source": [
    "adj_monto_servicio_positivos = adj_monto_servicio[(adj_monto_servicio['importe_adj_neto'] >= 0)]\n",
    "adj_monto_servicio_positivos.head()"
   ]
  },
  {
   "cell_type": "code",
   "execution_count": null,
   "metadata": {},
   "outputs": [],
   "source": [
    "adj_monto_servicio_positivos.shape"
   ]
  },
  {
   "cell_type": "code",
   "execution_count": null,
   "metadata": {},
   "outputs": [],
   "source": [
    "pivot_monto_servicio_positivos = adj_monto_servicio_positivos.groupby(['roc_deposit_date']).agg({'importe_adj_bruto':sum,\n",
    "                                                                                                 'tasa_adj':sum,\n",
    "                                                                                                 'importe_impuesto':sum,\n",
    "                                                                                                 'tasa_servicio_plan_n':sum,\n",
    "                                                                                                 'importe_adj_neto':sum}).reset_index()\n",
    "pivot_monto_servicio_positivos.head()"
   ]
  },
  {
   "cell_type": "code",
   "execution_count": null,
   "metadata": {},
   "outputs": [],
   "source": [
    "pivot_monto_servicio_positivos.shape"
   ]
  },
  {
   "cell_type": "markdown",
   "metadata": {},
   "source": [
    "#### ADJUSTMENTS NEGATIVOS"
   ]
  },
  {
   "cell_type": "code",
   "execution_count": null,
   "metadata": {},
   "outputs": [],
   "source": [
    "adj_montos_negativos = adj_montos[(adj_montos['importe_adj_bruto'] < 0)]"
   ]
  },
  {
   "cell_type": "code",
   "execution_count": null,
   "metadata": {},
   "outputs": [],
   "source": [
    "deposit_date_adj_negativos = adj_montos_negativos.groupby(['roc_deposit_date']).agg({'importe_adj_bruto':sum,\n",
    "                                                                                     'tasa_adj':sum,\n",
    "                                                                                     'importe_impuesto':sum,\n",
    "                                                                                     'tasa_servicio_plan_n':sum,\n",
    "                                                                                     'importe_adj_neto':sum}).reset_index()\n",
    "deposit_date_adj_negativos.head()"
   ]
  },
  {
   "cell_type": "code",
   "execution_count": null,
   "metadata": {},
   "outputs": [],
   "source": [
    "deposit_date_adj_negativos.shape"
   ]
  },
  {
   "cell_type": "code",
   "execution_count": null,
   "metadata": {},
   "outputs": [],
   "source": [
    "adj_monto_servicio_negativos = adj_monto_servicio[(adj_monto_servicio['importe_adj_neto'] < 0)]\n",
    "adj_monto_servicio_negativos.head()"
   ]
  },
  {
   "cell_type": "code",
   "execution_count": null,
   "metadata": {},
   "outputs": [],
   "source": [
    "adj_monto_servicio_negativos.shape"
   ]
  },
  {
   "cell_type": "code",
   "execution_count": null,
   "metadata": {},
   "outputs": [],
   "source": [
    "pivot_monto_servicio_negativos = adj_monto_servicio_negativos.groupby(['roc_deposit_date']).agg({'importe_adj_bruto':sum,\n",
    "                                                                                                 'tasa_adj':sum,\n",
    "                                                                                                 'importe_impuesto':sum,\n",
    "                                                                                                 'tasa_servicio_plan_n':sum,\n",
    "                                                                                                 'importe_adj_neto':sum}).reset_index()\n",
    "pivot_monto_servicio_negativos.head()"
   ]
  },
  {
   "cell_type": "code",
   "execution_count": null,
   "metadata": {},
   "outputs": [],
   "source": [
    "pivot_monto_servicio_negativos.shape"
   ]
  },
  {
   "cell_type": "markdown",
   "metadata": {},
   "source": [
    "### TRANSACCIONES POSITIVAS"
   ]
  },
  {
   "cell_type": "code",
   "execution_count": null,
   "metadata": {},
   "outputs": [],
   "source": [
    "deposit_success_txn = txn_epa_deposit[(txn_epa_deposit['total_amount_bruto'] >= 0)]"
   ]
  },
  {
   "cell_type": "code",
   "execution_count": null,
   "metadata": {},
   "outputs": [],
   "source": [
    "deposit_success_cruce_1 = deposit_success_txn.groupby(['roc_deposit_date']).agg({'total_amount_bruto':sum,\n",
    "                                                                                 'fee_amount_mdr':sum,\n",
    "                                                                                 'fee_amount_msi':sum,\n",
    "                                                                                 'iva_mdr':sum,\n",
    "                                                                                 'iva_msi':sum,'comision_mdr_db':sum,\n",
    "                                                                                 'iva_comision_mdr_db':sum,\n",
    "                                                                                 'comision_msi_db':sum,\n",
    "                                                                                 'iva_comision_msi_db':sum}).reset_index()\n",
    "deposit_success_cruce_1.head()"
   ]
  },
  {
   "cell_type": "code",
   "execution_count": null,
   "metadata": {},
   "outputs": [],
   "source": [
    "deposit_success_cruce_1.shape"
   ]
  },
  {
   "cell_type": "code",
   "execution_count": null,
   "metadata": {},
   "outputs": [],
   "source": [
    "deposit_success_cruce_2 = deposit_success_cruce_1.merge(deposit_date_adj_positivos[['roc_deposit_date','importe_adj_bruto',\n",
    "                                                                                    'tasa_adj','importe_impuesto',\n",
    "                                                                                    'tasa_servicio_plan_n','importe_adj_neto']]\n",
    "                                                  ,on='roc_deposit_date',how='left')\n",
    "deposit_success_cruce_2['importe_adj_bruto'].fillna(0,inplace=True)\n",
    "deposit_success_cruce_2['tasa_adj'].fillna(0,inplace=True)\n",
    "deposit_success_cruce_2['importe_impuesto'].fillna(0,inplace=True)\n",
    "deposit_success_cruce_2['tasa_servicio_plan_n'].fillna(0,inplace=True)\n",
    "deposit_success_cruce_2['importe_adj_neto'].fillna(0,inplace=True)\n",
    "deposit_success_cruce_2['deposit_amount'] = (deposit_success_cruce_2['total_amount_bruto']\n",
    "                                             + deposit_success_cruce_2['fee_amount_mdr']\n",
    "                                             + deposit_success_cruce_2['fee_amount_msi']\n",
    "                                             + deposit_success_cruce_2['iva_mdr']\n",
    "                                             + deposit_success_cruce_2['iva_msi']\n",
    "                                             + deposit_success_cruce_2['importe_adj_bruto']\n",
    "                                             + deposit_success_cruce_2['tasa_adj']\n",
    "                                             + deposit_success_cruce_2['importe_impuesto']\n",
    "                                             + deposit_success_cruce_2['tasa_servicio_plan_n'])\n",
    "    \n",
    "deposit_success_cruce_2.head()"
   ]
  },
  {
   "cell_type": "code",
   "execution_count": null,
   "metadata": {},
   "outputs": [],
   "source": [
    "deposit_success_cruce_2.shape"
   ]
  },
  {
   "cell_type": "code",
   "execution_count": null,
   "metadata": {},
   "outputs": [],
   "source": [
    "deposit_success_cruce_final = deposit_success_cruce_2[['roc_deposit_date','total_amount_bruto','fee_amount_mdr',\n",
    "                                                       'fee_amount_msi','iva_mdr','iva_msi','comision_mdr_db',\n",
    "                                                       'iva_comision_mdr_db','comision_msi_db','iva_comision_msi_db',\n",
    "                                                       'importe_adj_bruto','tasa_adj','importe_impuesto','tasa_servicio_plan_n',\n",
    "                                                       'deposit_amount']]\n",
    "deposit_success_cruce_final.head()"
   ]
  },
  {
   "cell_type": "code",
   "execution_count": null,
   "metadata": {},
   "outputs": [],
   "source": [
    "deposit_success_cruce_final.shape"
   ]
  },
  {
   "cell_type": "code",
   "execution_count": null,
   "metadata": {},
   "outputs": [],
   "source": [
    "deposit_success_cruce_final.to_excel('DEPOSITOS POSITIVOS.xlsx')"
   ]
  },
  {
   "cell_type": "markdown",
   "metadata": {},
   "source": [
    "### CANCELACIONES"
   ]
  },
  {
   "cell_type": "code",
   "execution_count": null,
   "metadata": {},
   "outputs": [],
   "source": [
    "deposit_refunded_txn = txn_epa_deposit[(txn_epa_deposit['total_amount_bruto'] < 0)]"
   ]
  },
  {
   "cell_type": "code",
   "execution_count": null,
   "metadata": {},
   "outputs": [],
   "source": [
    "deposit_refunded_cruce_1 = deposit_refunded_txn.groupby(['roc_deposit_date']).agg({'total_amount_bruto':sum,\n",
    "                                                                                   'fee_amount_mdr':sum,\n",
    "                                                                                   'fee_amount_msi':sum,\n",
    "                                                                                   'iva_mdr':sum,\n",
    "                                                                                   'iva_msi':sum,'comision_mdr_db':sum,\n",
    "                                                                                   'iva_comision_mdr_db':sum,\n",
    "                                                                                   'comision_msi_db':sum,\n",
    "                                                                                   'iva_comision_msi_db':sum}).reset_index()\n",
    "deposit_refunded_cruce_1.head()"
   ]
  },
  {
   "cell_type": "code",
   "execution_count": null,
   "metadata": {},
   "outputs": [],
   "source": [
    "deposit_refunded_cruce_1.shape"
   ]
  },
  {
   "cell_type": "code",
   "execution_count": null,
   "metadata": {},
   "outputs": [],
   "source": [
    "deposit_refunded_cruce_2 = deposit_refunded_cruce_1.merge(deposit_date_adj_negativos[['roc_deposit_date','importe_adj_bruto',\n",
    "                                                                                      'tasa_adj','importe_impuesto',\n",
    "                                                                                      'tasa_servicio_plan_n',\n",
    "                                                                                      'importe_adj_neto']],\n",
    "                                                          on='roc_deposit_date',how='right')\n",
    "deposit_refunded_cruce_2.sort_values(by=['roc_deposit_date'],inplace=True)\n",
    "deposit_refunded_cruce_2['total_amount_bruto'].fillna(0,inplace=True)\n",
    "deposit_refunded_cruce_2['fee_amount_mdr'].fillna(0,inplace=True)\n",
    "deposit_refunded_cruce_2['fee_amount_msi'].fillna(0,inplace=True)\n",
    "deposit_refunded_cruce_2['iva_mdr'].fillna(0,inplace=True)\n",
    "deposit_refunded_cruce_2['iva_msi'].fillna(0,inplace=True)\n",
    "deposit_refunded_cruce_2['importe_adj_bruto'].fillna(0,inplace=True)\n",
    "deposit_refunded_cruce_2['tasa_adj'].fillna(0,inplace=True)\n",
    "deposit_refunded_cruce_2['importe_impuesto'].fillna(0,inplace=True)\n",
    "deposit_refunded_cruce_2['tasa_servicio_plan_n'].fillna(0,inplace=True)\n",
    "deposit_refunded_cruce_2['importe_adj_neto'].fillna(0,inplace=True)\n",
    "deposit_refunded_cruce_2['comision_mdr_db'].fillna(0,inplace=True)\n",
    "deposit_refunded_cruce_2['iva_comision_mdr_db'].fillna(0,inplace=True)\n",
    "deposit_refunded_cruce_2['comision_msi_db'].fillna(0,inplace=True)\n",
    "deposit_refunded_cruce_2['iva_comision_mdr_db'].fillna(0,inplace=True)\n",
    "deposit_refunded_cruce_2['deposit_amount'] = (deposit_refunded_cruce_2['total_amount_bruto']\n",
    "                                             + deposit_refunded_cruce_2['fee_amount_mdr']\n",
    "                                             + deposit_refunded_cruce_2['fee_amount_msi']\n",
    "                                             + deposit_refunded_cruce_2['iva_mdr']\n",
    "                                             + deposit_refunded_cruce_2['iva_msi']\n",
    "                                             + deposit_refunded_cruce_2['importe_adj_bruto']\n",
    "                                             + deposit_refunded_cruce_2['tasa_adj']\n",
    "                                             + deposit_refunded_cruce_2['importe_impuesto']\n",
    "                                             + deposit_refunded_cruce_2['tasa_servicio_plan_n'])\n",
    "    \n",
    "deposit_refunded_cruce_2.head()"
   ]
  },
  {
   "cell_type": "code",
   "execution_count": null,
   "metadata": {},
   "outputs": [],
   "source": [
    "deposit_refunded_cruce_2.shape"
   ]
  },
  {
   "cell_type": "code",
   "execution_count": null,
   "metadata": {},
   "outputs": [],
   "source": [
    "deposit_refunded_cruce_final = deposit_refunded_cruce_2[['roc_deposit_date','total_amount_bruto','fee_amount_mdr',\n",
    "                                                         'fee_amount_msi','iva_mdr','iva_msi','comision_mdr_db',\n",
    "                                                         'iva_comision_mdr_db','comision_msi_db','iva_comision_msi_db',\n",
    "                                                         'importe_adj_bruto','tasa_adj','importe_impuesto',\n",
    "                                                         'tasa_servicio_plan_n','deposit_amount']]\n",
    "deposit_refunded_cruce_final.head()"
   ]
  },
  {
   "cell_type": "code",
   "execution_count": null,
   "metadata": {},
   "outputs": [],
   "source": [
    "deposit_refunded_cruce_final.shape"
   ]
  },
  {
   "cell_type": "code",
   "execution_count": null,
   "metadata": {},
   "outputs": [],
   "source": [
    "deposit_refunded_cruce_final.to_excel('DEPOSITOS NEGATIVOS.xlsx')"
   ]
  },
  {
   "cell_type": "markdown",
   "metadata": {},
   "source": [
    "### DEPOSITOS FINALES"
   ]
  },
  {
   "cell_type": "code",
   "execution_count": null,
   "metadata": {},
   "outputs": [],
   "source": [
    "deposit_date_cruce_1 = txn_epa_deposit.groupby(['roc_deposit_date']).agg({'total_amount_bruto':sum,\n",
    "                                                                          'fee_amount_mdr':sum,\n",
    "                                                                          'fee_amount_msi':sum,\n",
    "                                                                          'iva_mdr':sum,\n",
    "                                                                          'iva_msi':sum,\n",
    "                                                                          'comision_mdr_db':sum,\n",
    "                                                                          'iva_comision_mdr_db':sum,\n",
    "                                                                          'comision_msi_db':sum,\n",
    "                                                                          'iva_comision_msi_db':sum}).reset_index()\n",
    "deposit_date_cruce_1.head()"
   ]
  },
  {
   "cell_type": "code",
   "execution_count": null,
   "metadata": {},
   "outputs": [],
   "source": [
    "deposit_date_cruce_1.shape"
   ]
  },
  {
   "cell_type": "code",
   "execution_count": null,
   "metadata": {},
   "outputs": [],
   "source": [
    "deposit_date_cruce_2 = deposit_date_cruce_1.merge(deposit_date_adj[['roc_deposit_date','importe_adj_bruto','tasa_adj',\n",
    "                                                                    'importe_impuesto','tasa_servicio_plan_n',\n",
    "                                                                    'importe_adj_neto']],\n",
    "                                                  on='roc_deposit_date',how='left')\n",
    "deposit_date_cruce_2['importe_adj_bruto'].fillna(0,inplace=True)\n",
    "deposit_date_cruce_2['tasa_adj'].fillna(0,inplace=True)\n",
    "deposit_date_cruce_2['importe_impuesto'].fillna(0,inplace=True)\n",
    "deposit_date_cruce_2['tasa_servicio_plan_n'].fillna(0,inplace=True)\n",
    "deposit_date_cruce_2['importe_adj_neto'].fillna(0,inplace=True)\n",
    "deposit_date_cruce_2['deposit_amount'] = (deposit_date_cruce_2['total_amount_bruto'] + deposit_date_cruce_2['fee_amount_mdr']\n",
    "                                          + deposit_date_cruce_2['fee_amount_msi'] + deposit_date_cruce_2['iva_mdr']\n",
    "                                          + deposit_date_cruce_2['iva_msi'] + deposit_date_cruce_2['importe_adj_bruto']\n",
    "                                          + deposit_date_cruce_2['tasa_adj'] + deposit_date_cruce_2['importe_impuesto']\n",
    "                                          + deposit_date_cruce_2['tasa_servicio_plan_n'])\n",
    "    \n",
    "deposit_date_cruce_2.head()"
   ]
  },
  {
   "cell_type": "code",
   "execution_count": null,
   "metadata": {},
   "outputs": [],
   "source": [
    "deposit_date_cruce_final = deposit_date_cruce_2[['roc_deposit_date','total_amount_bruto','fee_amount_mdr','fee_amount_msi',\n",
    "                                                 'iva_mdr','iva_msi','comision_mdr_db','iva_comision_mdr_db','comision_msi_db',\n",
    "                                                 'iva_comision_msi_db','importe_adj_bruto','tasa_adj','importe_impuesto',\n",
    "                                                 'tasa_servicio_plan_n','deposit_amount']]\n",
    "deposit_date_cruce_final.head()"
   ]
  },
  {
   "cell_type": "code",
   "execution_count": null,
   "metadata": {},
   "outputs": [],
   "source": [
    "deposit_date_cruce_final.shape"
   ]
  },
  {
   "cell_type": "markdown",
   "metadata": {},
   "source": [
    "# TRANSACTIONS AMEX - CLIP"
   ]
  },
  {
   "cell_type": "code",
   "execution_count": null,
   "metadata": {},
   "outputs": [],
   "source": [
    "txn_epa_txn = cruce_1[(cruce_1['Date_process_roc'] >= start_date) & (cruce_1['Date_process_roc'] <= final_date)]\n",
    "txn_epa_txn.sort_values(by=['Date_process_roc','order_id'],inplace=True)\n",
    "txn_epa_txn.head()"
   ]
  },
  {
   "cell_type": "code",
   "execution_count": null,
   "metadata": {},
   "outputs": [],
   "source": [
    "txn_epa_txn.shape"
   ]
  },
  {
   "cell_type": "code",
   "execution_count": null,
   "metadata": {},
   "outputs": [],
   "source": [
    "duplicates_2 = txn_epa_txn[txn_epa_txn.duplicated(['order_id'] , keep=False)]\n",
    "duplicates_2.sort_values(by=['order_id','Date_process_roc'],inplace=True)\n",
    "duplicates_2.head()\n"
   ]
  },
  {
   "cell_type": "code",
   "execution_count": null,
   "metadata": {},
   "outputs": [],
   "source": [
    "duplicates_2.shape"
   ]
  },
  {
   "cell_type": "code",
   "execution_count": null,
   "metadata": {},
   "outputs": [],
   "source": [
    "txn_epa_txn.drop_duplicates(subset ='order_id', keep='last', inplace=True)\n",
    "txn_epa_txn.shape"
   ]
  },
  {
   "cell_type": "code",
   "execution_count": null,
   "metadata": {},
   "outputs": [],
   "source": [
    "comparison_2 = txn_epa_txn[(txn_epa_txn['comparison'] == False)]\n",
    "comparison_2.head()"
   ]
  },
  {
   "cell_type": "code",
   "execution_count": null,
   "metadata": {},
   "outputs": [],
   "source": [
    "comparison_2.shape"
   ]
  },
  {
   "cell_type": "markdown",
   "metadata": {},
   "source": [
    "# GROUP BY TRANSACTION DATE"
   ]
  },
  {
   "cell_type": "code",
   "execution_count": null,
   "metadata": {},
   "outputs": [],
   "source": [
    "txn_txn_date_cruce_1 = txn_epa_txn.groupby(['Date_process_roc']).agg({'total_amount_bruto':sum,\n",
    "                                                                      'fee_amount_mdr':sum,\n",
    "                                                                      'fee_amount_msi':sum,\n",
    "                                                                      'iva_mdr':sum,\n",
    "                                                                      'iva_msi':sum,\n",
    "                                                                      'comision_mdr_db':sum,\n",
    "                                                                      'iva_comision_mdr_db':sum,\n",
    "                                                                      'comision_msi_db':sum,\n",
    "                                                                      'iva_comision_msi_db':sum,\n",
    "                                                                      'amount_new':sum,\n",
    "                                                                      'order_id':'count'}).reset_index()\n",
    "txn_txn_date_cruce_1.rename(columns ={'order_id':'number_transactions'}, inplace=True)\n",
    "txn_txn_date_cruce_1['diff'] = txn_txn_date_cruce_1['total_amount_bruto'] - txn_txn_date_cruce_1['amount_new']\n",
    "txn_txn_date_cruce_1.head()\n"
   ]
  },
  {
   "cell_type": "code",
   "execution_count": null,
   "metadata": {},
   "outputs": [],
   "source": [
    "txn_txn_date_cruce_1.shape"
   ]
  },
  {
   "cell_type": "markdown",
   "metadata": {},
   "source": [
    "# GROUP BY TRANSACTION DATE AND STATUS CODE"
   ]
  },
  {
   "cell_type": "code",
   "execution_count": null,
   "metadata": {},
   "outputs": [],
   "source": [
    "txn_txn_status_cruce_1 = txn_epa_txn.groupby(['Date_process_roc','status_code']).agg({'total_amount_bruto':sum,\n",
    "                                                                                      'fee_amount_mdr':sum,\n",
    "                                                                                      'fee_amount_msi':sum,\n",
    "                                                                                      'iva_mdr':sum,\n",
    "                                                                                      'iva_msi':sum,\n",
    "                                                                                      'comision_mdr_db':sum,\n",
    "                                                                                      'iva_comision_mdr_db':sum,\n",
    "                                                                                      'comision_msi_db':sum,\n",
    "                                                                                      'iva_comision_msi_db':sum,\n",
    "                                                                                      'amount_new':sum,\n",
    "                                                                                      'order_id':'count'}).reset_index()\n",
    "txn_txn_status_cruce_1.rename(columns ={'order_id':'number_transactions'}, inplace=True)\n",
    "txn_txn_status_cruce_1['diff'] = txn_txn_status_cruce_1['total_amount_bruto'] - txn_txn_status_cruce_1['amount_new']\n",
    "txn_txn_status_cruce_1.head()\n"
   ]
  },
  {
   "cell_type": "code",
   "execution_count": null,
   "metadata": {},
   "outputs": [],
   "source": [
    "txn_txn_status_cruce_1.dtypes"
   ]
  },
  {
   "cell_type": "code",
   "execution_count": null,
   "metadata": {},
   "outputs": [],
   "source": [
    "txn_txn_status_cruce_1.shape"
   ]
  },
  {
   "cell_type": "markdown",
   "metadata": {},
   "source": [
    "### STATUS 1"
   ]
  },
  {
   "cell_type": "code",
   "execution_count": null,
   "metadata": {},
   "outputs": [],
   "source": [
    "txn_txn_status_cruce_1_status_1 = txn_txn_status_cruce_1[(txn_txn_status_cruce_1['status_code'] == '1')]\n",
    "txn_txn_status_cruce_1_status_1.head()"
   ]
  },
  {
   "cell_type": "code",
   "execution_count": null,
   "metadata": {},
   "outputs": [],
   "source": [
    "txn_txn_status_cruce_1_status_1.shape"
   ]
  },
  {
   "cell_type": "markdown",
   "metadata": {},
   "source": [
    "### STATUS 3"
   ]
  },
  {
   "cell_type": "code",
   "execution_count": null,
   "metadata": {},
   "outputs": [],
   "source": [
    "txn_txn_status_cruce_1_status_3 = txn_txn_status_cruce_1[(txn_txn_status_cruce_1['status_code'] == '3')]\n",
    "txn_txn_status_cruce_1_status_3.head()"
   ]
  },
  {
   "cell_type": "code",
   "execution_count": null,
   "metadata": {},
   "outputs": [],
   "source": [
    "txn_txn_status_cruce_1_status_3.shape"
   ]
  },
  {
   "cell_type": "markdown",
   "metadata": {},
   "source": [
    "# POSIBLES DISPUTAS"
   ]
  },
  {
   "cell_type": "code",
   "execution_count": null,
   "metadata": {},
   "outputs": [],
   "source": [
    "posibles_disputas = txn_epa_txn[(txn_epa_txn['status_code'] != '1') & (txn_epa_txn['status_code'] != '3')]\n",
    "posibles_disputas.head()\n"
   ]
  },
  {
   "cell_type": "code",
   "execution_count": null,
   "metadata": {},
   "outputs": [],
   "source": [
    "posibles_disputas.shape"
   ]
  },
  {
   "cell_type": "markdown",
   "metadata": {},
   "source": [
    "### POSIBLES DISPUTAS BY DATE"
   ]
  },
  {
   "cell_type": "code",
   "execution_count": null,
   "metadata": {},
   "outputs": [],
   "source": [
    "txn_txn_status_cruce_1_posibles_disputas = posibles_disputas.groupby(['Date_process_roc']).agg({'total_amount_bruto':sum,\n",
    "                                                                                                'fee_amount_mdr':sum,\n",
    "                                                                                                'fee_amount_msi':sum,\n",
    "                                                                                                'iva_mdr':sum,'iva_msi':sum,\n",
    "                                                                                                'amount_new':sum,\n",
    "                                                                                                'comision_mdr_db':sum,\n",
    "                                                                                                'iva_comision_mdr_db':sum,\n",
    "                                                                                                'comision_msi_db':sum,\n",
    "                                                                                                'iva_comision_msi_db':sum,\n",
    "                                                                                                'order_id':'count'}).reset_index()\n",
    "txn_txn_status_cruce_1_posibles_disputas.head()"
   ]
  },
  {
   "cell_type": "code",
   "execution_count": null,
   "metadata": {},
   "outputs": [],
   "source": [
    "txn_txn_status_cruce_1_posibles_disputas.shape"
   ]
  },
  {
   "cell_type": "markdown",
   "metadata": {},
   "source": [
    "# EXCEL"
   ]
  },
  {
   "cell_type": "markdown",
   "metadata": {},
   "source": [
    "## PAYOUTS"
   ]
  },
  {
   "cell_type": "code",
   "execution_count": null,
   "metadata": {},
   "outputs": [],
   "source": [
    "writer = pd.ExcelWriter('EPA PAYOUTS OCTUBRE CON COMISIONES 2021.xlsx', engine='xlsxwriter', options={'encoding':'UTF-8'})\n",
    "deposit_date_cruce_final.to_excel(writer, sheet_name='PAYOUTS',index=False)\n",
    "deposit_success_cruce_1.to_excel(writer, sheet_name='PAYOUTS SUCCESS TXN',index=False)\n",
    "deposit_refunded_cruce_1.to_excel(writer, sheet_name='PAYOUTS REFUNDED TXN',index=False)\n",
    "epa_1_excel_final.to_excel(writer, sheet_name='EPA PAYMENT RECORD',index=False)\n",
    "epa_3_excel_final.to_excel(writer, sheet_name='EPA SUM OF CHARGE',index=False)\n",
    "txn_epa_deposit.to_excel(writer, sheet_name='PAYOUTS DETAIL',index=False)\n",
    "duplicates_1.to_excel(writer, sheet_name='PAYOUTS DUPLICATES',index=False)\n",
    "comparison_1.to_excel(writer, sheet_name='PAYOUTS COMPARISON',index=False)\n",
    "txn_epa_adj_final.to_excel(writer, sheet_name='ADJUSTMENS DETAIL',index=False)\n",
    "deposit_date_adj_positivos.to_excel(writer, sheet_name='ADJUSTMENTS POSITIVOS',index=False)\n",
    "pivot_monto_servicio_positivos.to_excel(writer, sheet_name='MONTO SERVICIO POSIVOS',index=False)\n",
    "deposit_date_adj_negativos.to_excel(writer, sheet_name='ADJUSTMENTS NEGATIVOS',index=False)\n",
    "pivot_monto_servicio_negativos.to_excel(writer, sheet_name='MONTO SERVICIO NEGATIVOS',index=False)\n",
    "writer.save()\n",
    "writer.close()"
   ]
  },
  {
   "cell_type": "markdown",
   "metadata": {},
   "source": [
    "## TRANSACCIONES"
   ]
  },
  {
   "cell_type": "code",
   "execution_count": null,
   "metadata": {},
   "outputs": [],
   "source": [
    "writer = pd.ExcelWriter('EPA TRANSACCIONES CON COMISIONES OCTUBRE 2021.xlsx', engine='xlsxwriter', options={'encoding':'UTF-8'})\n",
    "txn_epa_txn.to_excel(writer, sheet_name='TRANSACTIONS DETAIL',index=False)\n",
    "duplicates_2.to_excel(writer, sheet_name='TRANSACTIONS DUPLICATES',index=False)\n",
    "comparison_2.to_excel(writer, sheet_name='TRANSACTIONS COMPARISON',index=False)\n",
    "txn_txn_date_cruce_1.to_excel(writer, sheet_name='TXN DATE',index=False)\n",
    "txn_txn_status_cruce_1.to_excel(writer, sheet_name='TXN DATE AND STATUS',index=False)\n",
    "txn_txn_status_cruce_1_status_1.to_excel(writer, sheet_name='STATUS 1',index=False)\n",
    "txn_txn_status_cruce_1_status_3.to_excel(writer, sheet_name='STATUS 3',index=False)\n",
    "txn_txn_status_cruce_1_posibles_disputas.to_excel(writer, sheet_name='POSIBLES DISPUTAS BY DATE',index=False)\n",
    "posibles_disputas.to_excel(writer, sheet_name='POSIBLES DISPUTAS',index=False)\n",
    "writer.save()\n",
    "writer.close()"
   ]
  },
  {
   "cell_type": "code",
   "execution_count": null,
   "metadata": {},
   "outputs": [],
   "source": []
  }
 ],
 "metadata": {
  "kernelspec": {
   "display_name": "Python 3 (ipykernel)",
   "language": "python",
   "name": "python3"
  },
  "language_info": {
   "codemirror_mode": {
    "name": "ipython",
    "version": 3
   },
   "file_extension": ".py",
   "mimetype": "text/x-python",
   "name": "python",
   "nbconvert_exporter": "python",
   "pygments_lexer": "ipython3",
   "version": "3.8.12"
  }
 },
 "nbformat": 4,
 "nbformat_minor": 4
}
