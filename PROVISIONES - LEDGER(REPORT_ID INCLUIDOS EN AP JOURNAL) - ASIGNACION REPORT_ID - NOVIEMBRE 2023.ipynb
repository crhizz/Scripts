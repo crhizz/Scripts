{
 "cells": [
  {
   "cell_type": "code",
   "execution_count": 1,
   "id": "21c1c747",
   "metadata": {},
   "outputs": [],
   "source": [
    "import pandas as pd\n",
    "import numpy as np\n",
    "import glob\n",
    "import os\n",
    "from openpyxl import load_workbook\n",
    "pd.options.display.float_format = '{:,.2f}'.format"
   ]
  },
  {
   "cell_type": "markdown",
   "id": "9df44613",
   "metadata": {},
   "source": [
    "# RUTAS"
   ]
  },
  {
   "cell_type": "markdown",
   "id": "cef36c0e",
   "metadata": {},
   "source": [
    "### SETTLEMENT MASTER LOG"
   ]
  },
  {
   "cell_type": "code",
   "execution_count": 2,
   "id": "38321533",
   "metadata": {},
   "outputs": [
    {
     "data": {
      "text/plain": [
       "['G:\\\\My Drive\\\\RESPALDO-PC\\\\DYNAMO\\\\2023\\\\11. NOVIEMBRE\\\\Z. PROVISION\\\\PROVISIONES - SETTLEMENT_MASTER_LOG_DATE NOVIEMBRE 2023.tsv']"
      ]
     },
     "execution_count": 2,
     "metadata": {},
     "output_type": "execute_result"
    }
   ],
   "source": [
    "sml_files = glob.glob(r'G:\\My Drive\\RESPALDO-PC\\DYNAMO\\2023\\11. NOVIEMBRE\\Z. PROVISION\\PROVISIONES - SET*.tsv', recursive=False)\n",
    "sml_files"
   ]
  },
  {
   "cell_type": "code",
   "execution_count": 3,
   "id": "7ac8262d",
   "metadata": {},
   "outputs": [],
   "source": [
    "use_cols_sml = ['MVNT_ID','PSP_AMOUNT','GROSS_AMOUNT','FEES','TAXES','NET_AMOUNT','MDR','MSI','NUMBER_MSI','RECEIPT_NO',\n",
    "                'STATUS_CODE']"
   ]
  },
  {
   "cell_type": "markdown",
   "id": "baf7556d",
   "metadata": {},
   "source": [
    "### AP JOURNAL"
   ]
  },
  {
   "cell_type": "code",
   "execution_count": 4,
   "id": "55a8252c",
   "metadata": {},
   "outputs": [
    {
     "data": {
      "text/plain": [
       "['G:\\\\My Drive\\\\RESPALDO-PC\\\\DYNAMO\\\\2023\\\\11. NOVIEMBRE\\\\Z. PROVISION\\\\PROVISIONES - LEDGER NOVIEMBRE 2023.tsv']"
      ]
     },
     "execution_count": 4,
     "metadata": {},
     "output_type": "execute_result"
    }
   ],
   "source": [
    "ap_provision_files = glob.glob(r'G:\\My Drive\\RESPALDO-PC\\DYNAMO\\2023\\11. NOVIEMBRE\\Z. PROVISION\\PROVISIONES - LED*.tsv', recursive=False)\n",
    "ap_provision_files"
   ]
  },
  {
   "cell_type": "code",
   "execution_count": 5,
   "id": "2d3e37fd",
   "metadata": {},
   "outputs": [],
   "source": [
    "use_cols_approv = ['MERCHANT_ID','MVNT_ID','TYPE_REQUEST','MOVEMENT_TYPE','SOURCE_TYPE','CREATED_AT','EFF_DT','REPORT_DATE_LOCAL',\n",
    "                  'PAYMENT_DATE_LOCAL','STATUS']"
   ]
  },
  {
   "cell_type": "markdown",
   "id": "bf9da3cf",
   "metadata": {},
   "source": [
    "# DATA SETTLEMENT MASTER LOG"
   ]
  },
  {
   "cell_type": "code",
   "execution_count": 6,
   "id": "27c65ab3",
   "metadata": {},
   "outputs": [
    {
     "data": {
      "text/html": [
       "<div>\n",
       "<style scoped>\n",
       "    .dataframe tbody tr th:only-of-type {\n",
       "        vertical-align: middle;\n",
       "    }\n",
       "\n",
       "    .dataframe tbody tr th {\n",
       "        vertical-align: top;\n",
       "    }\n",
       "\n",
       "    .dataframe thead th {\n",
       "        text-align: right;\n",
       "    }\n",
       "</style>\n",
       "<table border=\"1\" class=\"dataframe\">\n",
       "  <thead>\n",
       "    <tr style=\"text-align: right;\">\n",
       "      <th></th>\n",
       "      <th>mvnt_id</th>\n",
       "      <th>psp_amount</th>\n",
       "      <th>gross_amount</th>\n",
       "      <th>fees</th>\n",
       "      <th>taxes</th>\n",
       "      <th>net_amount</th>\n",
       "      <th>mdr</th>\n",
       "      <th>msi</th>\n",
       "      <th>number_msi</th>\n",
       "      <th>status_code</th>\n",
       "      <th>receipt_no</th>\n",
       "      <th>file_name</th>\n",
       "    </tr>\n",
       "  </thead>\n",
       "  <tbody>\n",
       "    <tr>\n",
       "      <th>0</th>\n",
       "      <td>2164b348-3222-4dc8-9011-d8cec72e877f</td>\n",
       "      <td>152.00</td>\n",
       "      <td>152.00</td>\n",
       "      <td>5.47</td>\n",
       "      <td>0.88</td>\n",
       "      <td>145.65</td>\n",
       "      <td>0.04</td>\n",
       "      <td>0.00</td>\n",
       "      <td>0.00</td>\n",
       "      <td>1</td>\n",
       "      <td>q80BI8R</td>\n",
       "      <td>PROVISIONES - SETTLEMENT_MASTER_LOG_DATE NOVIE...</td>\n",
       "    </tr>\n",
       "    <tr>\n",
       "      <th>1</th>\n",
       "      <td>b3991ed2-292d-4f11-b045-03624472e8cd</td>\n",
       "      <td>30.00</td>\n",
       "      <td>30.00</td>\n",
       "      <td>1.08</td>\n",
       "      <td>0.17</td>\n",
       "      <td>28.75</td>\n",
       "      <td>0.04</td>\n",
       "      <td>0.00</td>\n",
       "      <td>0.00</td>\n",
       "      <td>1</td>\n",
       "      <td>nzztWGB</td>\n",
       "      <td>PROVISIONES - SETTLEMENT_MASTER_LOG_DATE NOVIE...</td>\n",
       "    </tr>\n",
       "    <tr>\n",
       "      <th>2</th>\n",
       "      <td>074e6ab2-cee6-4b65-ac19-59a559007dc4</td>\n",
       "      <td>116.00</td>\n",
       "      <td>116.00</td>\n",
       "      <td>4.18</td>\n",
       "      <td>0.67</td>\n",
       "      <td>111.15</td>\n",
       "      <td>0.04</td>\n",
       "      <td>0.00</td>\n",
       "      <td>0.00</td>\n",
       "      <td>1</td>\n",
       "      <td>ALbHm2H</td>\n",
       "      <td>PROVISIONES - SETTLEMENT_MASTER_LOG_DATE NOVIE...</td>\n",
       "    </tr>\n",
       "    <tr>\n",
       "      <th>3</th>\n",
       "      <td>6aca202f-ef65-4a38-b741-6450dd55e920</td>\n",
       "      <td>20.00</td>\n",
       "      <td>20.00</td>\n",
       "      <td>0.72</td>\n",
       "      <td>0.12</td>\n",
       "      <td>19.16</td>\n",
       "      <td>0.04</td>\n",
       "      <td>0.00</td>\n",
       "      <td>0.00</td>\n",
       "      <td>1</td>\n",
       "      <td>gIFwEgj</td>\n",
       "      <td>PROVISIONES - SETTLEMENT_MASTER_LOG_DATE NOVIE...</td>\n",
       "    </tr>\n",
       "    <tr>\n",
       "      <th>4</th>\n",
       "      <td>bb4513fe-4484-4cbd-9cae-fac2adb10f26</td>\n",
       "      <td>74.00</td>\n",
       "      <td>74.00</td>\n",
       "      <td>2.66</td>\n",
       "      <td>0.43</td>\n",
       "      <td>70.91</td>\n",
       "      <td>0.04</td>\n",
       "      <td>0.00</td>\n",
       "      <td>0.00</td>\n",
       "      <td>1</td>\n",
       "      <td>047jSt4</td>\n",
       "      <td>PROVISIONES - SETTLEMENT_MASTER_LOG_DATE NOVIE...</td>\n",
       "    </tr>\n",
       "  </tbody>\n",
       "</table>\n",
       "</div>"
      ],
      "text/plain": [
       "                                mvnt_id  psp_amount  gross_amount  fees  \\\n",
       "0  2164b348-3222-4dc8-9011-d8cec72e877f      152.00        152.00  5.47   \n",
       "1  b3991ed2-292d-4f11-b045-03624472e8cd       30.00         30.00  1.08   \n",
       "2  074e6ab2-cee6-4b65-ac19-59a559007dc4      116.00        116.00  4.18   \n",
       "3  6aca202f-ef65-4a38-b741-6450dd55e920       20.00         20.00  0.72   \n",
       "4  bb4513fe-4484-4cbd-9cae-fac2adb10f26       74.00         74.00  2.66   \n",
       "\n",
       "   taxes  net_amount  mdr  msi  number_msi  status_code receipt_no  \\\n",
       "0   0.88      145.65 0.04 0.00        0.00            1    q80BI8R   \n",
       "1   0.17       28.75 0.04 0.00        0.00            1    nzztWGB   \n",
       "2   0.67      111.15 0.04 0.00        0.00            1    ALbHm2H   \n",
       "3   0.12       19.16 0.04 0.00        0.00            1    gIFwEgj   \n",
       "4   0.43       70.91 0.04 0.00        0.00            1    047jSt4   \n",
       "\n",
       "                                           file_name  \n",
       "0  PROVISIONES - SETTLEMENT_MASTER_LOG_DATE NOVIE...  \n",
       "1  PROVISIONES - SETTLEMENT_MASTER_LOG_DATE NOVIE...  \n",
       "2  PROVISIONES - SETTLEMENT_MASTER_LOG_DATE NOVIE...  \n",
       "3  PROVISIONES - SETTLEMENT_MASTER_LOG_DATE NOVIE...  \n",
       "4  PROVISIONES - SETTLEMENT_MASTER_LOG_DATE NOVIE...  "
      ]
     },
     "execution_count": 6,
     "metadata": {},
     "output_type": "execute_result"
    }
   ],
   "source": [
    "sml = pd.concat([pd.read_csv(f,sep='\\t',usecols=use_cols_sml).assign(file_name=os.path.basename(f)) for f in sml_files])\n",
    "sml.columns = sml.columns.str.strip().str.lower()\n",
    "sml.replace('\"\"','', regex=True, inplace=True)\n",
    "# sml['created_at'] = pd.to_datetime(sml['created_at']).dt.tz_localize(None)\n",
    "# sml['created_at_date'] =  pd.to_datetime(sml['created_at']).dt.date\n",
    "# sml['created_at_date'] =  pd.to_datetime(sml['created_at_date'])\n",
    "# sml['eff_dt'] = pd.to_datetime(sml['eff_dt']).dt.tz_localize(None)\n",
    "# sml['eff_dt_date'] =  pd.to_datetime(sml['eff_dt']).dt.date\n",
    "# sml['eff_dt_date'] =  pd.to_datetime(sml['eff_dt_date'])\n",
    "# sml.rename(columns={'ref_id':'transaction_id'},inplace=True)\n",
    "#sml['PK'] = sml['PK'].replace('M#','',inplace=True)\n",
    "sml.head()"
   ]
  },
  {
   "cell_type": "code",
   "execution_count": 7,
   "id": "bb5c429d",
   "metadata": {},
   "outputs": [
    {
     "data": {
      "text/plain": [
       "(5779357, 12)"
      ]
     },
     "execution_count": 7,
     "metadata": {},
     "output_type": "execute_result"
    }
   ],
   "source": [
    "sml.shape"
   ]
  },
  {
   "cell_type": "code",
   "execution_count": 8,
   "id": "aae153e9",
   "metadata": {},
   "outputs": [
    {
     "data": {
      "text/plain": [
       "mvnt_id          object\n",
       "psp_amount      float64\n",
       "gross_amount    float64\n",
       "fees            float64\n",
       "taxes           float64\n",
       "net_amount      float64\n",
       "mdr             float64\n",
       "msi             float64\n",
       "number_msi      float64\n",
       "status_code       int64\n",
       "receipt_no       object\n",
       "file_name        object\n",
       "dtype: object"
      ]
     },
     "execution_count": 8,
     "metadata": {},
     "output_type": "execute_result"
    }
   ],
   "source": [
    "sml.dtypes"
   ]
  },
  {
   "cell_type": "code",
   "execution_count": 9,
   "id": "0aee293f",
   "metadata": {},
   "outputs": [
    {
     "data": {
      "text/html": [
       "<div>\n",
       "<style scoped>\n",
       "    .dataframe tbody tr th:only-of-type {\n",
       "        vertical-align: middle;\n",
       "    }\n",
       "\n",
       "    .dataframe tbody tr th {\n",
       "        vertical-align: top;\n",
       "    }\n",
       "\n",
       "    .dataframe thead th {\n",
       "        text-align: right;\n",
       "    }\n",
       "</style>\n",
       "<table border=\"1\" class=\"dataframe\">\n",
       "  <thead>\n",
       "    <tr style=\"text-align: right;\">\n",
       "      <th></th>\n",
       "      <th>mvnt_id</th>\n",
       "      <th>psp_amount</th>\n",
       "      <th>gross_amount</th>\n",
       "      <th>fees</th>\n",
       "      <th>taxes</th>\n",
       "      <th>net_amount</th>\n",
       "      <th>mdr</th>\n",
       "      <th>msi</th>\n",
       "      <th>number_msi</th>\n",
       "      <th>status_code</th>\n",
       "      <th>receipt_no</th>\n",
       "      <th>file_name</th>\n",
       "    </tr>\n",
       "  </thead>\n",
       "  <tbody>\n",
       "    <tr>\n",
       "      <th>0</th>\n",
       "      <td>2164b348-3222-4dc8-9011-d8cec72e877f</td>\n",
       "      <td>152.00</td>\n",
       "      <td>152.00</td>\n",
       "      <td>5.47</td>\n",
       "      <td>0.88</td>\n",
       "      <td>145.65</td>\n",
       "      <td>0.04</td>\n",
       "      <td>0.00</td>\n",
       "      <td>0.00</td>\n",
       "      <td>1</td>\n",
       "      <td>q80BI8R</td>\n",
       "      <td>PROVISIONES - SETTLEMENT_MASTER_LOG_DATE NOVIE...</td>\n",
       "    </tr>\n",
       "    <tr>\n",
       "      <th>1</th>\n",
       "      <td>b3991ed2-292d-4f11-b045-03624472e8cd</td>\n",
       "      <td>30.00</td>\n",
       "      <td>30.00</td>\n",
       "      <td>1.08</td>\n",
       "      <td>0.17</td>\n",
       "      <td>28.75</td>\n",
       "      <td>0.04</td>\n",
       "      <td>0.00</td>\n",
       "      <td>0.00</td>\n",
       "      <td>1</td>\n",
       "      <td>nzztWGB</td>\n",
       "      <td>PROVISIONES - SETTLEMENT_MASTER_LOG_DATE NOVIE...</td>\n",
       "    </tr>\n",
       "    <tr>\n",
       "      <th>2</th>\n",
       "      <td>074e6ab2-cee6-4b65-ac19-59a559007dc4</td>\n",
       "      <td>116.00</td>\n",
       "      <td>116.00</td>\n",
       "      <td>4.18</td>\n",
       "      <td>0.67</td>\n",
       "      <td>111.15</td>\n",
       "      <td>0.04</td>\n",
       "      <td>0.00</td>\n",
       "      <td>0.00</td>\n",
       "      <td>1</td>\n",
       "      <td>ALbHm2H</td>\n",
       "      <td>PROVISIONES - SETTLEMENT_MASTER_LOG_DATE NOVIE...</td>\n",
       "    </tr>\n",
       "    <tr>\n",
       "      <th>3</th>\n",
       "      <td>6aca202f-ef65-4a38-b741-6450dd55e920</td>\n",
       "      <td>20.00</td>\n",
       "      <td>20.00</td>\n",
       "      <td>0.72</td>\n",
       "      <td>0.12</td>\n",
       "      <td>19.16</td>\n",
       "      <td>0.04</td>\n",
       "      <td>0.00</td>\n",
       "      <td>0.00</td>\n",
       "      <td>1</td>\n",
       "      <td>gIFwEgj</td>\n",
       "      <td>PROVISIONES - SETTLEMENT_MASTER_LOG_DATE NOVIE...</td>\n",
       "    </tr>\n",
       "    <tr>\n",
       "      <th>4</th>\n",
       "      <td>bb4513fe-4484-4cbd-9cae-fac2adb10f26</td>\n",
       "      <td>74.00</td>\n",
       "      <td>74.00</td>\n",
       "      <td>2.66</td>\n",
       "      <td>0.43</td>\n",
       "      <td>70.91</td>\n",
       "      <td>0.04</td>\n",
       "      <td>0.00</td>\n",
       "      <td>0.00</td>\n",
       "      <td>1</td>\n",
       "      <td>047jSt4</td>\n",
       "      <td>PROVISIONES - SETTLEMENT_MASTER_LOG_DATE NOVIE...</td>\n",
       "    </tr>\n",
       "  </tbody>\n",
       "</table>\n",
       "</div>"
      ],
      "text/plain": [
       "                                mvnt_id  psp_amount  gross_amount  fees  \\\n",
       "0  2164b348-3222-4dc8-9011-d8cec72e877f      152.00        152.00  5.47   \n",
       "1  b3991ed2-292d-4f11-b045-03624472e8cd       30.00         30.00  1.08   \n",
       "2  074e6ab2-cee6-4b65-ac19-59a559007dc4      116.00        116.00  4.18   \n",
       "3  6aca202f-ef65-4a38-b741-6450dd55e920       20.00         20.00  0.72   \n",
       "4  bb4513fe-4484-4cbd-9cae-fac2adb10f26       74.00         74.00  2.66   \n",
       "\n",
       "   taxes  net_amount  mdr  msi  number_msi  status_code receipt_no  \\\n",
       "0   0.88      145.65 0.04 0.00        0.00            1    q80BI8R   \n",
       "1   0.17       28.75 0.04 0.00        0.00            1    nzztWGB   \n",
       "2   0.67      111.15 0.04 0.00        0.00            1    ALbHm2H   \n",
       "3   0.12       19.16 0.04 0.00        0.00            1    gIFwEgj   \n",
       "4   0.43       70.91 0.04 0.00        0.00            1    047jSt4   \n",
       "\n",
       "                                           file_name  \n",
       "0  PROVISIONES - SETTLEMENT_MASTER_LOG_DATE NOVIE...  \n",
       "1  PROVISIONES - SETTLEMENT_MASTER_LOG_DATE NOVIE...  \n",
       "2  PROVISIONES - SETTLEMENT_MASTER_LOG_DATE NOVIE...  \n",
       "3  PROVISIONES - SETTLEMENT_MASTER_LOG_DATE NOVIE...  \n",
       "4  PROVISIONES - SETTLEMENT_MASTER_LOG_DATE NOVIE...  "
      ]
     },
     "execution_count": 9,
     "metadata": {},
     "output_type": "execute_result"
    }
   ],
   "source": [
    "sml_final = sml\n",
    "sml_final.head()"
   ]
  },
  {
   "cell_type": "code",
   "execution_count": 10,
   "id": "f0afff80",
   "metadata": {},
   "outputs": [
    {
     "data": {
      "text/plain": [
       "(5779357, 12)"
      ]
     },
     "execution_count": 10,
     "metadata": {},
     "output_type": "execute_result"
    }
   ],
   "source": [
    "sml_final.shape"
   ]
  },
  {
   "cell_type": "markdown",
   "id": "05244115",
   "metadata": {},
   "source": [
    "# DATA AP JOURNAL"
   ]
  },
  {
   "cell_type": "code",
   "execution_count": 11,
   "id": "2ab36c04",
   "metadata": {},
   "outputs": [],
   "source": [
    "ap = pd.concat([pd.read_csv(f, sep='\\t',usecols=use_cols_approv).assign(file_name=os.path.basename(f)) for f in ap_provision_files])\n",
    "ap.columns = ap.columns.str.strip().str.lower()\n",
    "ap.replace('\"\"','', regex=True, inplace=True)\n",
    "ap['eff_dt'] =  pd.to_datetime(ap['eff_dt']).dt.tz_localize(None)\n",
    "ap['eff_dt_date'] =  pd.to_datetime(ap['eff_dt']).dt.date\n",
    "ap['eff_dt_date'] =  pd.to_datetime(ap['eff_dt_date'])\n",
    "ap['eff_dt_time'] =  pd.to_datetime(ap['eff_dt']).dt.time\n",
    "# ap['movement_day'] = pd.to_datetime(ap['movement_day']).dt.tz_localize(None)\n",
    "ap['created_at'] = pd.to_datetime(ap['created_at']).dt.tz_localize(None)\n",
    "ap['created_at_date'] =  pd.to_datetime(ap['created_at']).dt.date\n",
    "ap['created_at_date'] =  pd.to_datetime(ap['created_at_date'])\n",
    "ap['payment_date_local'] = pd.to_datetime(ap['payment_date_local']).dt.tz_localize(None)\n",
    "ap['payment_date_local'] =  pd.to_datetime(ap['payment_date_local']).dt.date\n",
    "ap['payment_date_local'] =  pd.to_datetime(ap['payment_date_local'])\n",
    "# ap['request_effective_date'] = pd.to_datetime(ap['request_effective_date']).dt.tz_localize(None)\n",
    "# ap['slot_date'] = pd.to_datetime(ap['slot_date']).dt.tz_localize(None)\n",
    "# ap['identifier'] = ap['source_type'].str[:1].astype(str)\n",
    "# ap['INDEX'] = (ap['eff_dt_date'].astype(str).replace(' ', '',regex=True)+'-'+\n",
    "#                ap['identifier'].astype(str).replace(' ', '',regex=True)+'-'+\n",
    "#                ap['eff_dt_time'].astype(str).replace(' ', '',regex=True))\n",
    "ap.sort_values(by=(['merchant_id','eff_dt']), ascending=[True,False], inplace=True)"
   ]
  },
  {
   "cell_type": "code",
   "execution_count": 12,
   "id": "f999693d",
   "metadata": {},
   "outputs": [],
   "source": [
    "ap.reset_index(inplace=True)"
   ]
  },
  {
   "cell_type": "code",
   "execution_count": 13,
   "id": "8319eeeb",
   "metadata": {},
   "outputs": [
    {
     "data": {
      "text/html": [
       "<div>\n",
       "<style scoped>\n",
       "    .dataframe tbody tr th:only-of-type {\n",
       "        vertical-align: middle;\n",
       "    }\n",
       "\n",
       "    .dataframe tbody tr th {\n",
       "        vertical-align: top;\n",
       "    }\n",
       "\n",
       "    .dataframe thead th {\n",
       "        text-align: right;\n",
       "    }\n",
       "</style>\n",
       "<table border=\"1\" class=\"dataframe\">\n",
       "  <thead>\n",
       "    <tr style=\"text-align: right;\">\n",
       "      <th></th>\n",
       "      <th>index</th>\n",
       "      <th>merchant_id</th>\n",
       "      <th>type_request</th>\n",
       "      <th>mvnt_id</th>\n",
       "      <th>movement_type</th>\n",
       "      <th>source_type</th>\n",
       "      <th>created_at</th>\n",
       "      <th>eff_dt</th>\n",
       "      <th>report_date_local</th>\n",
       "      <th>payment_date_local</th>\n",
       "      <th>status</th>\n",
       "      <th>file_name</th>\n",
       "      <th>eff_dt_date</th>\n",
       "      <th>eff_dt_time</th>\n",
       "      <th>created_at_date</th>\n",
       "      <th>report_id</th>\n",
       "      <th>report_date_local_final</th>\n",
       "      <th>payment_date_local_final</th>\n",
       "      <th>status_final</th>\n",
       "    </tr>\n",
       "  </thead>\n",
       "  <tbody>\n",
       "    <tr>\n",
       "      <th>0</th>\n",
       "      <td>4121578</td>\n",
       "      <td>00004998-66f3-4c36-9096-4f64f971d19b</td>\n",
       "      <td>A3YQW59PJ</td>\n",
       "      <td>ae4b1e4a-b4bb-3c64-90ce-c7dd7e0becd9</td>\n",
       "      <td>DISB_RQ</td>\n",
       "      <td>DISB</td>\n",
       "      <td>2023-12-04 07:22:36</td>\n",
       "      <td>2023-12-04 07:22:41</td>\n",
       "      <td>2023-12-04</td>\n",
       "      <td>2023-12-04</td>\n",
       "      <td>PAID</td>\n",
       "      <td>PROVISIONES - LEDGER NOVIEMBRE 2023.tsv</td>\n",
       "      <td>2023-12-04</td>\n",
       "      <td>07:22:41</td>\n",
       "      <td>2023-12-04</td>\n",
       "      <td>A3YQW59PJ</td>\n",
       "      <td>2023-12-04</td>\n",
       "      <td>2023-12-04</td>\n",
       "      <td>PAID</td>\n",
       "    </tr>\n",
       "    <tr>\n",
       "      <th>1</th>\n",
       "      <td>907890</td>\n",
       "      <td>00004998-66f3-4c36-9096-4f64f971d19b</td>\n",
       "      <td>settlement processor regular payment request</td>\n",
       "      <td>58e3a202-b7dd-4fac-88c3-064d66eb9cb7</td>\n",
       "      <td>REGULAR_PYMT_RQ</td>\n",
       "      <td>SETT</td>\n",
       "      <td>2023-12-03 20:48:52</td>\n",
       "      <td>2023-12-04 05:30:00</td>\n",
       "      <td>NaN</td>\n",
       "      <td>NaT</td>\n",
       "      <td>NaN</td>\n",
       "      <td>PROVISIONES - LEDGER NOVIEMBRE 2023.tsv</td>\n",
       "      <td>2023-12-04</td>\n",
       "      <td>05:30:00</td>\n",
       "      <td>2023-12-03</td>\n",
       "      <td>A3YQW59PJ</td>\n",
       "      <td>2023-12-04</td>\n",
       "      <td>2023-12-04</td>\n",
       "      <td>PAID</td>\n",
       "    </tr>\n",
       "    <tr>\n",
       "      <th>2</th>\n",
       "      <td>907888</td>\n",
       "      <td>00004998-66f3-4c36-9096-4f64f971d19b</td>\n",
       "      <td>settlement processor regular payment request</td>\n",
       "      <td>6b3f0784-0dda-4982-a9dd-9815784efe75</td>\n",
       "      <td>REGULAR_PYMT_RQ</td>\n",
       "      <td>SETT</td>\n",
       "      <td>2023-12-03 18:27:05</td>\n",
       "      <td>2023-12-04 05:00:00</td>\n",
       "      <td>NaN</td>\n",
       "      <td>NaT</td>\n",
       "      <td>NaN</td>\n",
       "      <td>PROVISIONES - LEDGER NOVIEMBRE 2023.tsv</td>\n",
       "      <td>2023-12-04</td>\n",
       "      <td>05:00:00</td>\n",
       "      <td>2023-12-03</td>\n",
       "      <td>A3YQW59PJ</td>\n",
       "      <td>2023-12-04</td>\n",
       "      <td>2023-12-04</td>\n",
       "      <td>PAID</td>\n",
       "    </tr>\n",
       "    <tr>\n",
       "      <th>3</th>\n",
       "      <td>907889</td>\n",
       "      <td>00004998-66f3-4c36-9096-4f64f971d19b</td>\n",
       "      <td>settlement processor regular payment request</td>\n",
       "      <td>1456961e-4cd8-4f53-ab60-2e61a8d43080</td>\n",
       "      <td>REGULAR_PYMT_RQ</td>\n",
       "      <td>SETT</td>\n",
       "      <td>2023-12-03 19:07:07</td>\n",
       "      <td>2023-12-04 05:00:00</td>\n",
       "      <td>NaN</td>\n",
       "      <td>NaT</td>\n",
       "      <td>NaN</td>\n",
       "      <td>PROVISIONES - LEDGER NOVIEMBRE 2023.tsv</td>\n",
       "      <td>2023-12-04</td>\n",
       "      <td>05:00:00</td>\n",
       "      <td>2023-12-03</td>\n",
       "      <td>A3YQW59PJ</td>\n",
       "      <td>2023-12-04</td>\n",
       "      <td>2023-12-04</td>\n",
       "      <td>PAID</td>\n",
       "    </tr>\n",
       "    <tr>\n",
       "      <th>4</th>\n",
       "      <td>907887</td>\n",
       "      <td>00004998-66f3-4c36-9096-4f64f971d19b</td>\n",
       "      <td>settlement processor regular payment request</td>\n",
       "      <td>7c954fd2-5464-4ea6-ac89-8c7b5a09e5e6</td>\n",
       "      <td>REGULAR_PYMT_RQ</td>\n",
       "      <td>SETT</td>\n",
       "      <td>2023-12-03 16:03:31</td>\n",
       "      <td>2023-12-04 04:30:00</td>\n",
       "      <td>NaN</td>\n",
       "      <td>NaT</td>\n",
       "      <td>NaN</td>\n",
       "      <td>PROVISIONES - LEDGER NOVIEMBRE 2023.tsv</td>\n",
       "      <td>2023-12-04</td>\n",
       "      <td>04:30:00</td>\n",
       "      <td>2023-12-03</td>\n",
       "      <td>A3YQW59PJ</td>\n",
       "      <td>2023-12-04</td>\n",
       "      <td>2023-12-04</td>\n",
       "      <td>PAID</td>\n",
       "    </tr>\n",
       "  </tbody>\n",
       "</table>\n",
       "</div>"
      ],
      "text/plain": [
       "     index                           merchant_id  \\\n",
       "0  4121578  00004998-66f3-4c36-9096-4f64f971d19b   \n",
       "1   907890  00004998-66f3-4c36-9096-4f64f971d19b   \n",
       "2   907888  00004998-66f3-4c36-9096-4f64f971d19b   \n",
       "3   907889  00004998-66f3-4c36-9096-4f64f971d19b   \n",
       "4   907887  00004998-66f3-4c36-9096-4f64f971d19b   \n",
       "\n",
       "                                   type_request  \\\n",
       "0                                     A3YQW59PJ   \n",
       "1  settlement processor regular payment request   \n",
       "2  settlement processor regular payment request   \n",
       "3  settlement processor regular payment request   \n",
       "4  settlement processor regular payment request   \n",
       "\n",
       "                                mvnt_id    movement_type source_type  \\\n",
       "0  ae4b1e4a-b4bb-3c64-90ce-c7dd7e0becd9          DISB_RQ        DISB   \n",
       "1  58e3a202-b7dd-4fac-88c3-064d66eb9cb7  REGULAR_PYMT_RQ        SETT   \n",
       "2  6b3f0784-0dda-4982-a9dd-9815784efe75  REGULAR_PYMT_RQ        SETT   \n",
       "3  1456961e-4cd8-4f53-ab60-2e61a8d43080  REGULAR_PYMT_RQ        SETT   \n",
       "4  7c954fd2-5464-4ea6-ac89-8c7b5a09e5e6  REGULAR_PYMT_RQ        SETT   \n",
       "\n",
       "           created_at              eff_dt report_date_local  \\\n",
       "0 2023-12-04 07:22:36 2023-12-04 07:22:41        2023-12-04   \n",
       "1 2023-12-03 20:48:52 2023-12-04 05:30:00               NaN   \n",
       "2 2023-12-03 18:27:05 2023-12-04 05:00:00               NaN   \n",
       "3 2023-12-03 19:07:07 2023-12-04 05:00:00               NaN   \n",
       "4 2023-12-03 16:03:31 2023-12-04 04:30:00               NaN   \n",
       "\n",
       "  payment_date_local status                                file_name  \\\n",
       "0         2023-12-04   PAID  PROVISIONES - LEDGER NOVIEMBRE 2023.tsv   \n",
       "1                NaT    NaN  PROVISIONES - LEDGER NOVIEMBRE 2023.tsv   \n",
       "2                NaT    NaN  PROVISIONES - LEDGER NOVIEMBRE 2023.tsv   \n",
       "3                NaT    NaN  PROVISIONES - LEDGER NOVIEMBRE 2023.tsv   \n",
       "4                NaT    NaN  PROVISIONES - LEDGER NOVIEMBRE 2023.tsv   \n",
       "\n",
       "  eff_dt_date eff_dt_time created_at_date  report_id report_date_local_final  \\\n",
       "0  2023-12-04    07:22:41      2023-12-04  A3YQW59PJ              2023-12-04   \n",
       "1  2023-12-04    05:30:00      2023-12-03  A3YQW59PJ              2023-12-04   \n",
       "2  2023-12-04    05:00:00      2023-12-03  A3YQW59PJ              2023-12-04   \n",
       "3  2023-12-04    05:00:00      2023-12-03  A3YQW59PJ              2023-12-04   \n",
       "4  2023-12-04    04:30:00      2023-12-03  A3YQW59PJ              2023-12-04   \n",
       "\n",
       "  payment_date_local_final status_final  \n",
       "0               2023-12-04         PAID  \n",
       "1               2023-12-04         PAID  \n",
       "2               2023-12-04         PAID  \n",
       "3               2023-12-04         PAID  \n",
       "4               2023-12-04         PAID  "
      ]
     },
     "execution_count": 13,
     "metadata": {},
     "output_type": "execute_result"
    }
   ],
   "source": [
    "ap.loc[ap['source_type'] == 'DISB', 'report_id'] = ap['type_request']\n",
    "ap['report_id'] = ap['report_id'].groupby(ap['merchant_id']).ffill()\n",
    "ap['report_date_local_final'] = ap['report_date_local'].groupby(ap['merchant_id']).ffill()\n",
    "ap['payment_date_local_final'] = ap['payment_date_local'].groupby(ap['merchant_id']).ffill()\n",
    "ap['status_final'] = ap['status'].groupby(ap['merchant_id']).ffill()\n",
    "ap.head()"
   ]
  },
  {
   "cell_type": "code",
   "execution_count": 14,
   "id": "cfdd51e2",
   "metadata": {},
   "outputs": [
    {
     "data": {
      "text/plain": [
       "(7284818, 19)"
      ]
     },
     "execution_count": 14,
     "metadata": {},
     "output_type": "execute_result"
    }
   ],
   "source": [
    "ap.shape"
   ]
  },
  {
   "cell_type": "code",
   "execution_count": 15,
   "id": "b34aaf44",
   "metadata": {},
   "outputs": [
    {
     "data": {
      "text/plain": [
       "index                                int64\n",
       "merchant_id                         object\n",
       "type_request                        object\n",
       "mvnt_id                             object\n",
       "movement_type                       object\n",
       "source_type                         object\n",
       "created_at                  datetime64[ns]\n",
       "eff_dt                      datetime64[ns]\n",
       "report_date_local                   object\n",
       "payment_date_local          datetime64[ns]\n",
       "status                              object\n",
       "file_name                           object\n",
       "eff_dt_date                 datetime64[ns]\n",
       "eff_dt_time                         object\n",
       "created_at_date             datetime64[ns]\n",
       "report_id                           object\n",
       "report_date_local_final             object\n",
       "payment_date_local_final    datetime64[ns]\n",
       "status_final                        object\n",
       "dtype: object"
      ]
     },
     "execution_count": 15,
     "metadata": {},
     "output_type": "execute_result"
    }
   ],
   "source": [
    "ap.dtypes"
   ]
  },
  {
   "cell_type": "code",
   "execution_count": 16,
   "id": "533505bb",
   "metadata": {},
   "outputs": [
    {
     "data": {
      "text/plain": [
       "['BILL_PYMNT',\n",
       " 'CAAL',\n",
       " 'DATA',\n",
       " 'DIG_ACC',\n",
       " 'DISB',\n",
       " 'LOAN',\n",
       " 'PROMO',\n",
       " 'PYMT',\n",
       " 'REFUNDS',\n",
       " 'RISK',\n",
       " 'SETT',\n",
       " 'TAXES',\n",
       " 'TOPUPS']"
      ]
     },
     "execution_count": 16,
     "metadata": {},
     "output_type": "execute_result"
    }
   ],
   "source": [
    "sorted(list(ap['source_type'].unique()))"
   ]
  },
  {
   "cell_type": "code",
   "execution_count": 17,
   "id": "57a30c53",
   "metadata": {},
   "outputs": [
    {
     "data": {
      "text/plain": [
       "array(['A3YQW59PJ', 'AXNP7LBWZ', 'AX9PLBKPL', ..., 'ARZT8SQVY',\n",
       "       'AKP3Y7CRS', 'ALS4BZVWJ'], dtype=object)"
      ]
     },
     "execution_count": 17,
     "metadata": {},
     "output_type": "execute_result"
    }
   ],
   "source": [
    "ap['report_id'].unique()"
   ]
  },
  {
   "cell_type": "markdown",
   "id": "d101324c",
   "metadata": {},
   "source": [
    "# CRUCE 1: AP JOURNAL VS SETTLEMENT MASTER LOG"
   ]
  },
  {
   "cell_type": "code",
   "execution_count": 18,
   "id": "1754a0b8",
   "metadata": {},
   "outputs": [
    {
     "data": {
      "text/html": [
       "<div>\n",
       "<style scoped>\n",
       "    .dataframe tbody tr th:only-of-type {\n",
       "        vertical-align: middle;\n",
       "    }\n",
       "\n",
       "    .dataframe tbody tr th {\n",
       "        vertical-align: top;\n",
       "    }\n",
       "\n",
       "    .dataframe thead th {\n",
       "        text-align: right;\n",
       "    }\n",
       "</style>\n",
       "<table border=\"1\" class=\"dataframe\">\n",
       "  <thead>\n",
       "    <tr style=\"text-align: right;\">\n",
       "      <th></th>\n",
       "      <th>index</th>\n",
       "      <th>merchant_id</th>\n",
       "      <th>type_request</th>\n",
       "      <th>mvnt_id</th>\n",
       "      <th>movement_type</th>\n",
       "      <th>source_type</th>\n",
       "      <th>created_at</th>\n",
       "      <th>eff_dt</th>\n",
       "      <th>report_date_local</th>\n",
       "      <th>payment_date_local</th>\n",
       "      <th>...</th>\n",
       "      <th>gross_amount</th>\n",
       "      <th>fees</th>\n",
       "      <th>taxes</th>\n",
       "      <th>net_amount</th>\n",
       "      <th>mdr</th>\n",
       "      <th>msi</th>\n",
       "      <th>number_msi</th>\n",
       "      <th>receipt_no</th>\n",
       "      <th>status_code</th>\n",
       "      <th>transaction_id</th>\n",
       "    </tr>\n",
       "  </thead>\n",
       "  <tbody>\n",
       "    <tr>\n",
       "      <th>0</th>\n",
       "      <td>4121578</td>\n",
       "      <td>00004998-66f3-4c36-9096-4f64f971d19b</td>\n",
       "      <td>A3YQW59PJ</td>\n",
       "      <td>ae4b1e4a-b4bb-3c64-90ce-c7dd7e0becd9</td>\n",
       "      <td>DISB_RQ</td>\n",
       "      <td>DISB</td>\n",
       "      <td>2023-12-04 07:22:36</td>\n",
       "      <td>2023-12-04 07:22:41</td>\n",
       "      <td>2023-12-04</td>\n",
       "      <td>2023-12-04</td>\n",
       "      <td>...</td>\n",
       "      <td>NaN</td>\n",
       "      <td>NaN</td>\n",
       "      <td>NaN</td>\n",
       "      <td>NaN</td>\n",
       "      <td>NaN</td>\n",
       "      <td>NaN</td>\n",
       "      <td>NaN</td>\n",
       "      <td>NaN</td>\n",
       "      <td>NaN</td>\n",
       "      <td>ae4b1e4a-b4bb-3c64-90ce-c7dd7e0becd9</td>\n",
       "    </tr>\n",
       "    <tr>\n",
       "      <th>1</th>\n",
       "      <td>907890</td>\n",
       "      <td>00004998-66f3-4c36-9096-4f64f971d19b</td>\n",
       "      <td>settlement processor regular payment request</td>\n",
       "      <td>58e3a202-b7dd-4fac-88c3-064d66eb9cb7</td>\n",
       "      <td>REGULAR_PYMT_RQ</td>\n",
       "      <td>SETT</td>\n",
       "      <td>2023-12-03 20:48:52</td>\n",
       "      <td>2023-12-04 05:30:00</td>\n",
       "      <td>NaN</td>\n",
       "      <td>NaT</td>\n",
       "      <td>...</td>\n",
       "      <td>179.00</td>\n",
       "      <td>6.44</td>\n",
       "      <td>1.03</td>\n",
       "      <td>171.53</td>\n",
       "      <td>0.04</td>\n",
       "      <td>0.00</td>\n",
       "      <td>0.00</td>\n",
       "      <td>R8yXTCl</td>\n",
       "      <td>1.00</td>\n",
       "      <td>58e3a202-b7dd-4fac-88c3-064d66eb9cb7</td>\n",
       "    </tr>\n",
       "    <tr>\n",
       "      <th>2</th>\n",
       "      <td>907888</td>\n",
       "      <td>00004998-66f3-4c36-9096-4f64f971d19b</td>\n",
       "      <td>settlement processor regular payment request</td>\n",
       "      <td>6b3f0784-0dda-4982-a9dd-9815784efe75</td>\n",
       "      <td>REGULAR_PYMT_RQ</td>\n",
       "      <td>SETT</td>\n",
       "      <td>2023-12-03 18:27:05</td>\n",
       "      <td>2023-12-04 05:00:00</td>\n",
       "      <td>NaN</td>\n",
       "      <td>NaT</td>\n",
       "      <td>...</td>\n",
       "      <td>649.00</td>\n",
       "      <td>23.36</td>\n",
       "      <td>3.74</td>\n",
       "      <td>621.90</td>\n",
       "      <td>0.04</td>\n",
       "      <td>0.00</td>\n",
       "      <td>0.00</td>\n",
       "      <td>5rCasXA</td>\n",
       "      <td>1.00</td>\n",
       "      <td>6b3f0784-0dda-4982-a9dd-9815784efe75</td>\n",
       "    </tr>\n",
       "    <tr>\n",
       "      <th>3</th>\n",
       "      <td>907889</td>\n",
       "      <td>00004998-66f3-4c36-9096-4f64f971d19b</td>\n",
       "      <td>settlement processor regular payment request</td>\n",
       "      <td>1456961e-4cd8-4f53-ab60-2e61a8d43080</td>\n",
       "      <td>REGULAR_PYMT_RQ</td>\n",
       "      <td>SETT</td>\n",
       "      <td>2023-12-03 19:07:07</td>\n",
       "      <td>2023-12-04 05:00:00</td>\n",
       "      <td>NaN</td>\n",
       "      <td>NaT</td>\n",
       "      <td>...</td>\n",
       "      <td>738.00</td>\n",
       "      <td>26.57</td>\n",
       "      <td>4.25</td>\n",
       "      <td>707.18</td>\n",
       "      <td>0.04</td>\n",
       "      <td>0.00</td>\n",
       "      <td>0.00</td>\n",
       "      <td>gOQGPFT</td>\n",
       "      <td>1.00</td>\n",
       "      <td>1456961e-4cd8-4f53-ab60-2e61a8d43080</td>\n",
       "    </tr>\n",
       "    <tr>\n",
       "      <th>4</th>\n",
       "      <td>907887</td>\n",
       "      <td>00004998-66f3-4c36-9096-4f64f971d19b</td>\n",
       "      <td>settlement processor regular payment request</td>\n",
       "      <td>7c954fd2-5464-4ea6-ac89-8c7b5a09e5e6</td>\n",
       "      <td>REGULAR_PYMT_RQ</td>\n",
       "      <td>SETT</td>\n",
       "      <td>2023-12-03 16:03:31</td>\n",
       "      <td>2023-12-04 04:30:00</td>\n",
       "      <td>NaN</td>\n",
       "      <td>NaT</td>\n",
       "      <td>...</td>\n",
       "      <td>249.00</td>\n",
       "      <td>8.96</td>\n",
       "      <td>1.43</td>\n",
       "      <td>238.61</td>\n",
       "      <td>0.04</td>\n",
       "      <td>0.00</td>\n",
       "      <td>0.00</td>\n",
       "      <td>4sdCsOI</td>\n",
       "      <td>1.00</td>\n",
       "      <td>7c954fd2-5464-4ea6-ac89-8c7b5a09e5e6</td>\n",
       "    </tr>\n",
       "  </tbody>\n",
       "</table>\n",
       "<p>5 rows × 30 columns</p>\n",
       "</div>"
      ],
      "text/plain": [
       "     index                           merchant_id  \\\n",
       "0  4121578  00004998-66f3-4c36-9096-4f64f971d19b   \n",
       "1   907890  00004998-66f3-4c36-9096-4f64f971d19b   \n",
       "2   907888  00004998-66f3-4c36-9096-4f64f971d19b   \n",
       "3   907889  00004998-66f3-4c36-9096-4f64f971d19b   \n",
       "4   907887  00004998-66f3-4c36-9096-4f64f971d19b   \n",
       "\n",
       "                                   type_request  \\\n",
       "0                                     A3YQW59PJ   \n",
       "1  settlement processor regular payment request   \n",
       "2  settlement processor regular payment request   \n",
       "3  settlement processor regular payment request   \n",
       "4  settlement processor regular payment request   \n",
       "\n",
       "                                mvnt_id    movement_type source_type  \\\n",
       "0  ae4b1e4a-b4bb-3c64-90ce-c7dd7e0becd9          DISB_RQ        DISB   \n",
       "1  58e3a202-b7dd-4fac-88c3-064d66eb9cb7  REGULAR_PYMT_RQ        SETT   \n",
       "2  6b3f0784-0dda-4982-a9dd-9815784efe75  REGULAR_PYMT_RQ        SETT   \n",
       "3  1456961e-4cd8-4f53-ab60-2e61a8d43080  REGULAR_PYMT_RQ        SETT   \n",
       "4  7c954fd2-5464-4ea6-ac89-8c7b5a09e5e6  REGULAR_PYMT_RQ        SETT   \n",
       "\n",
       "           created_at              eff_dt report_date_local  \\\n",
       "0 2023-12-04 07:22:36 2023-12-04 07:22:41        2023-12-04   \n",
       "1 2023-12-03 20:48:52 2023-12-04 05:30:00               NaN   \n",
       "2 2023-12-03 18:27:05 2023-12-04 05:00:00               NaN   \n",
       "3 2023-12-03 19:07:07 2023-12-04 05:00:00               NaN   \n",
       "4 2023-12-03 16:03:31 2023-12-04 04:30:00               NaN   \n",
       "\n",
       "  payment_date_local  ... gross_amount  fees taxes net_amount  mdr  msi  \\\n",
       "0         2023-12-04  ...          NaN   NaN   NaN        NaN  NaN  NaN   \n",
       "1                NaT  ...       179.00  6.44  1.03     171.53 0.04 0.00   \n",
       "2                NaT  ...       649.00 23.36  3.74     621.90 0.04 0.00   \n",
       "3                NaT  ...       738.00 26.57  4.25     707.18 0.04 0.00   \n",
       "4                NaT  ...       249.00  8.96  1.43     238.61 0.04 0.00   \n",
       "\n",
       "  number_msi receipt_no status_code                        transaction_id  \n",
       "0        NaN        NaN         NaN  ae4b1e4a-b4bb-3c64-90ce-c7dd7e0becd9  \n",
       "1       0.00    R8yXTCl        1.00  58e3a202-b7dd-4fac-88c3-064d66eb9cb7  \n",
       "2       0.00    5rCasXA        1.00  6b3f0784-0dda-4982-a9dd-9815784efe75  \n",
       "3       0.00    gOQGPFT        1.00  1456961e-4cd8-4f53-ab60-2e61a8d43080  \n",
       "4       0.00    4sdCsOI        1.00  7c954fd2-5464-4ea6-ac89-8c7b5a09e5e6  \n",
       "\n",
       "[5 rows x 30 columns]"
      ]
     },
     "execution_count": 18,
     "metadata": {},
     "output_type": "execute_result"
    }
   ],
   "source": [
    "cruce_1 = ap.merge(sml_final[['mvnt_id','psp_amount','gross_amount','fees','taxes','net_amount','mdr','msi','number_msi',\n",
    "                             'receipt_no','status_code']],on='mvnt_id',how='left')\n",
    "cruce_1['transaction_id'] = cruce_1['mvnt_id']\n",
    "cruce_1.head()"
   ]
  },
  {
   "cell_type": "code",
   "execution_count": 19,
   "id": "db61f0bb",
   "metadata": {},
   "outputs": [
    {
     "data": {
      "text/plain": [
       "(7284818, 30)"
      ]
     },
     "execution_count": 19,
     "metadata": {},
     "output_type": "execute_result"
    }
   ],
   "source": [
    "cruce_1.shape"
   ]
  },
  {
   "cell_type": "code",
   "execution_count": 20,
   "id": "4ab2db38",
   "metadata": {},
   "outputs": [
    {
     "data": {
      "text/plain": [
       "Index(['index', 'merchant_id', 'type_request', 'mvnt_id', 'movement_type',\n",
       "       'source_type', 'created_at', 'eff_dt', 'report_date_local',\n",
       "       'payment_date_local', 'status', 'file_name', 'eff_dt_date',\n",
       "       'eff_dt_time', 'created_at_date', 'report_id',\n",
       "       'report_date_local_final', 'payment_date_local_final', 'status_final',\n",
       "       'psp_amount', 'gross_amount', 'fees', 'taxes', 'net_amount', 'mdr',\n",
       "       'msi', 'number_msi', 'receipt_no', 'status_code', 'transaction_id'],\n",
       "      dtype='object')"
      ]
     },
     "execution_count": 20,
     "metadata": {},
     "output_type": "execute_result"
    }
   ],
   "source": [
    "cruce_1.columns"
   ]
  },
  {
   "cell_type": "markdown",
   "id": "052a992b",
   "metadata": {},
   "source": [
    "# DATA PROVISION"
   ]
  },
  {
   "cell_type": "code",
   "execution_count": 21,
   "id": "f328149e",
   "metadata": {},
   "outputs": [],
   "source": [
    "url = r'C:\\Users\\Cristian.Aparicio\\Documents\\PROVISIONES\\2023\\11. NOVIEMBRE\\Provision Noviembre 2023 V1.xlsx'"
   ]
  },
  {
   "cell_type": "code",
   "execution_count": 22,
   "id": "ac57d3a8",
   "metadata": {},
   "outputs": [
    {
     "data": {
      "text/plain": [
       "<pandas.io.excel._base.ExcelFile at 0x18af7af8220>"
      ]
     },
     "execution_count": 22,
     "metadata": {},
     "output_type": "execute_result"
    }
   ],
   "source": [
    "provision_file = pd.ExcelFile(url)\n",
    "provision_file"
   ]
  },
  {
   "cell_type": "code",
   "execution_count": 23,
   "id": "dfa8ac1b",
   "metadata": {},
   "outputs": [
    {
     "data": {
      "text/plain": [
       "['RESUMEN', 'BANORTE ', 'ECOMMERCE', 'GRRCN', 'EPA']"
      ]
     },
     "execution_count": 23,
     "metadata": {},
     "output_type": "execute_result"
    }
   ],
   "source": [
    "provision_file.sheet_names"
   ]
  },
  {
   "cell_type": "code",
   "execution_count": 24,
   "id": "71c2ab8a",
   "metadata": {},
   "outputs": [],
   "source": [
    "all_sheets = pd.read_excel(url, sheet_name=[1,2,3,4],\n",
    "                           converters={'AFFILIATION':str,'SUB_AFFILIATION':str,'ORDER_ID':str,'COD_AUTORIZACION':str,\n",
    "                                       'BIN':str,'ULTIMOS_4':str})"
   ]
  },
  {
   "cell_type": "code",
   "execution_count": 25,
   "id": "31a04b3f",
   "metadata": {},
   "outputs": [
    {
     "data": {
      "text/plain": [
       "dict_keys([1, 2, 3, 4])"
      ]
     },
     "execution_count": 25,
     "metadata": {},
     "output_type": "execute_result"
    }
   ],
   "source": [
    "all_sheets.keys()"
   ]
  },
  {
   "cell_type": "code",
   "execution_count": 26,
   "id": "76866b7e",
   "metadata": {},
   "outputs": [
    {
     "data": {
      "text/html": [
       "<div>\n",
       "<style scoped>\n",
       "    .dataframe tbody tr th:only-of-type {\n",
       "        vertical-align: middle;\n",
       "    }\n",
       "\n",
       "    .dataframe tbody tr th {\n",
       "        vertical-align: top;\n",
       "    }\n",
       "\n",
       "    .dataframe thead th {\n",
       "        text-align: right;\n",
       "    }\n",
       "</style>\n",
       "<table border=\"1\" class=\"dataframe\">\n",
       "  <thead>\n",
       "    <tr style=\"text-align: right;\">\n",
       "      <th></th>\n",
       "      <th>level_0</th>\n",
       "      <th>level_1</th>\n",
       "      <th>tablero</th>\n",
       "      <th>fecha_deposito_clip</th>\n",
       "      <th>fecha_trx_clip</th>\n",
       "      <th>affiliation</th>\n",
       "      <th>sub_affiliation</th>\n",
       "      <th>fecha_recepción</th>\n",
       "      <th>nombre_archivo</th>\n",
       "      <th>order_id</th>\n",
       "      <th>...</th>\n",
       "      <th>ultimos_4</th>\n",
       "      <th>status_code</th>\n",
       "      <th>msi</th>\n",
       "      <th>psp</th>\n",
       "      <th>proceso</th>\n",
       "      <th>monto</th>\n",
       "      <th>recuento</th>\n",
       "      <th>adquiriente</th>\n",
       "      <th>transaction_id</th>\n",
       "      <th>nombre_tablero</th>\n",
       "    </tr>\n",
       "  </thead>\n",
       "  <tbody>\n",
       "    <tr>\n",
       "      <th>0</th>\n",
       "      <td>1</td>\n",
       "      <td>0</td>\n",
       "      <td>PAGOS CONCILIADOS</td>\n",
       "      <td>2023-12-01 00:00:00</td>\n",
       "      <td>2023-11-30 00:00:00</td>\n",
       "      <td>7927515</td>\n",
       "      <td>7927515</td>\n",
       "      <td>2023-12-02 00:00:00</td>\n",
       "      <td>PAYCLIP_Settlement_02122023_V1.csv</td>\n",
       "      <td>268753590692</td>\n",
       "      <td>...</td>\n",
       "      <td>82</td>\n",
       "      <td>1</td>\n",
       "      <td>0</td>\n",
       "      <td>PAYWORKS-BANORTE-CP</td>\n",
       "      <td>AGREGADOR</td>\n",
       "      <td>10.00</td>\n",
       "      <td>1</td>\n",
       "      <td>BANORTE</td>\n",
       "      <td>ebacb946-7eac-4a4f-9e44-b00abf6fc9c1</td>\n",
       "      <td>NaN</td>\n",
       "    </tr>\n",
       "    <tr>\n",
       "      <th>1</th>\n",
       "      <td>1</td>\n",
       "      <td>1</td>\n",
       "      <td>PAGOS CONCILIADOS</td>\n",
       "      <td>2023-12-01 00:00:00</td>\n",
       "      <td>2023-11-30 00:00:00</td>\n",
       "      <td>7927517</td>\n",
       "      <td>PP36812115002413</td>\n",
       "      <td>2023-12-02 00:00:00</td>\n",
       "      <td>PAYCLIP_Settlement_02122023_V1.csv</td>\n",
       "      <td>713714994688</td>\n",
       "      <td>...</td>\n",
       "      <td>55</td>\n",
       "      <td>1</td>\n",
       "      <td>0</td>\n",
       "      <td>PAYWORKS-BANORTE-CP</td>\n",
       "      <td>AGREGADOR</td>\n",
       "      <td>40.00</td>\n",
       "      <td>1</td>\n",
       "      <td>BANORTE</td>\n",
       "      <td>0ec9938d-1a6f-4179-9921-7ec6cf65c3b3</td>\n",
       "      <td>NaN</td>\n",
       "    </tr>\n",
       "    <tr>\n",
       "      <th>2</th>\n",
       "      <td>1</td>\n",
       "      <td>2</td>\n",
       "      <td>PAGOS CONCILIADOS</td>\n",
       "      <td>2023-12-01 00:00:00</td>\n",
       "      <td>2023-11-30 00:00:00</td>\n",
       "      <td>7927515</td>\n",
       "      <td>7927515</td>\n",
       "      <td>2023-12-02 00:00:00</td>\n",
       "      <td>PAYCLIP_Settlement_02122023_V1.csv</td>\n",
       "      <td>397273831896</td>\n",
       "      <td>...</td>\n",
       "      <td>4</td>\n",
       "      <td>1</td>\n",
       "      <td>0</td>\n",
       "      <td>PAYWORKS-BANORTE-CP</td>\n",
       "      <td>AGREGADOR</td>\n",
       "      <td>107.00</td>\n",
       "      <td>1</td>\n",
       "      <td>BANORTE</td>\n",
       "      <td>c3fc87bc-a581-4b2a-a848-ca65117431b2</td>\n",
       "      <td>NaN</td>\n",
       "    </tr>\n",
       "    <tr>\n",
       "      <th>3</th>\n",
       "      <td>1</td>\n",
       "      <td>3</td>\n",
       "      <td>PAGOS CONCILIADOS</td>\n",
       "      <td>2023-12-01 00:00:00</td>\n",
       "      <td>2023-11-30 00:00:00</td>\n",
       "      <td>7927517</td>\n",
       "      <td>P5220314003502</td>\n",
       "      <td>2023-12-02 00:00:00</td>\n",
       "      <td>PAYCLIP_Settlement_02122023_V1.csv</td>\n",
       "      <td>329955457467</td>\n",
       "      <td>...</td>\n",
       "      <td>55</td>\n",
       "      <td>1</td>\n",
       "      <td>0</td>\n",
       "      <td>PAYWORKS-BANORTE-CP</td>\n",
       "      <td>AGREGADOR</td>\n",
       "      <td>40.00</td>\n",
       "      <td>1</td>\n",
       "      <td>BANORTE</td>\n",
       "      <td>f1c1b717-5810-4998-8a0b-c32c56f16e6c</td>\n",
       "      <td>NaN</td>\n",
       "    </tr>\n",
       "    <tr>\n",
       "      <th>4</th>\n",
       "      <td>1</td>\n",
       "      <td>4</td>\n",
       "      <td>PAGOS CONCILIADOS</td>\n",
       "      <td>2023-12-01 00:00:00</td>\n",
       "      <td>2023-11-30 00:00:00</td>\n",
       "      <td>7927500</td>\n",
       "      <td>7927500</td>\n",
       "      <td>2023-12-02 00:00:00</td>\n",
       "      <td>PAYCLIP_Settlement_02122023_V1.csv</td>\n",
       "      <td>657266002700</td>\n",
       "      <td>...</td>\n",
       "      <td>63</td>\n",
       "      <td>1</td>\n",
       "      <td>0</td>\n",
       "      <td>PAYWORKS-BANORTE-CP</td>\n",
       "      <td>AGREGADOR</td>\n",
       "      <td>175.00</td>\n",
       "      <td>1</td>\n",
       "      <td>BANORTE</td>\n",
       "      <td>28583fec-f996-487b-bac7-eb2dd434d189</td>\n",
       "      <td>NaN</td>\n",
       "    </tr>\n",
       "  </tbody>\n",
       "</table>\n",
       "<p>5 rows × 22 columns</p>\n",
       "</div>"
      ],
      "text/plain": [
       "   level_0  level_1            tablero  fecha_deposito_clip  \\\n",
       "0        1        0  PAGOS CONCILIADOS  2023-12-01 00:00:00   \n",
       "1        1        1  PAGOS CONCILIADOS  2023-12-01 00:00:00   \n",
       "2        1        2  PAGOS CONCILIADOS  2023-12-01 00:00:00   \n",
       "3        1        3  PAGOS CONCILIADOS  2023-12-01 00:00:00   \n",
       "4        1        4  PAGOS CONCILIADOS  2023-12-01 00:00:00   \n",
       "\n",
       "        fecha_trx_clip affiliation   sub_affiliation      fecha_recepción  \\\n",
       "0  2023-11-30 00:00:00     7927515           7927515  2023-12-02 00:00:00   \n",
       "1  2023-11-30 00:00:00     7927517  PP36812115002413  2023-12-02 00:00:00   \n",
       "2  2023-11-30 00:00:00     7927515           7927515  2023-12-02 00:00:00   \n",
       "3  2023-11-30 00:00:00     7927517  P5220314003502    2023-12-02 00:00:00   \n",
       "4  2023-11-30 00:00:00     7927500           7927500  2023-12-02 00:00:00   \n",
       "\n",
       "                       nombre_archivo      order_id  ... ultimos_4  \\\n",
       "0  PAYCLIP_Settlement_02122023_V1.csv  268753590692  ...        82   \n",
       "1  PAYCLIP_Settlement_02122023_V1.csv  713714994688  ...        55   \n",
       "2  PAYCLIP_Settlement_02122023_V1.csv  397273831896  ...         4   \n",
       "3  PAYCLIP_Settlement_02122023_V1.csv  329955457467  ...        55   \n",
       "4  PAYCLIP_Settlement_02122023_V1.csv  657266002700  ...        63   \n",
       "\n",
       "  status_code msi                  psp    proceso  monto recuento  \\\n",
       "0           1   0  PAYWORKS-BANORTE-CP  AGREGADOR  10.00        1   \n",
       "1           1   0  PAYWORKS-BANORTE-CP  AGREGADOR  40.00        1   \n",
       "2           1   0  PAYWORKS-BANORTE-CP  AGREGADOR 107.00        1   \n",
       "3           1   0  PAYWORKS-BANORTE-CP  AGREGADOR  40.00        1   \n",
       "4           1   0  PAYWORKS-BANORTE-CP  AGREGADOR 175.00        1   \n",
       "\n",
       "   adquiriente                        transaction_id nombre_tablero  \n",
       "0      BANORTE  ebacb946-7eac-4a4f-9e44-b00abf6fc9c1            NaN  \n",
       "1      BANORTE  0ec9938d-1a6f-4179-9921-7ec6cf65c3b3            NaN  \n",
       "2      BANORTE  c3fc87bc-a581-4b2a-a848-ca65117431b2            NaN  \n",
       "3      BANORTE  f1c1b717-5810-4998-8a0b-c32c56f16e6c            NaN  \n",
       "4      BANORTE  28583fec-f996-487b-bac7-eb2dd434d189            NaN  \n",
       "\n",
       "[5 rows x 22 columns]"
      ]
     },
     "execution_count": 26,
     "metadata": {},
     "output_type": "execute_result"
    }
   ],
   "source": [
    "provision = pd.concat(all_sheets).reset_index()\n",
    "provision.columns = provision.columns.str.strip().str.lower() \n",
    "provision.head()"
   ]
  },
  {
   "cell_type": "code",
   "execution_count": 27,
   "id": "f3f765ef",
   "metadata": {},
   "outputs": [
    {
     "data": {
      "text/plain": [
       "(576023, 22)"
      ]
     },
     "execution_count": 27,
     "metadata": {},
     "output_type": "execute_result"
    }
   ],
   "source": [
    "provision.shape"
   ]
  },
  {
   "cell_type": "markdown",
   "id": "c337bb22",
   "metadata": {},
   "source": [
    "# CRUCE 2: DATA PROVISION VS CRUCE 1"
   ]
  },
  {
   "cell_type": "code",
   "execution_count": 28,
   "id": "55a73310",
   "metadata": {},
   "outputs": [
    {
     "data": {
      "text/html": [
       "<div>\n",
       "<style scoped>\n",
       "    .dataframe tbody tr th:only-of-type {\n",
       "        vertical-align: middle;\n",
       "    }\n",
       "\n",
       "    .dataframe tbody tr th {\n",
       "        vertical-align: top;\n",
       "    }\n",
       "\n",
       "    .dataframe thead th {\n",
       "        text-align: right;\n",
       "    }\n",
       "</style>\n",
       "<table border=\"1\" class=\"dataframe\">\n",
       "  <thead>\n",
       "    <tr style=\"text-align: right;\">\n",
       "      <th></th>\n",
       "      <th>level_0</th>\n",
       "      <th>level_1</th>\n",
       "      <th>tablero</th>\n",
       "      <th>fecha_deposito_clip</th>\n",
       "      <th>fecha_trx_clip</th>\n",
       "      <th>affiliation</th>\n",
       "      <th>sub_affiliation</th>\n",
       "      <th>fecha_recepción</th>\n",
       "      <th>nombre_archivo</th>\n",
       "      <th>order_id</th>\n",
       "      <th>...</th>\n",
       "      <th>mvnt_id</th>\n",
       "      <th>report_id</th>\n",
       "      <th>report_date_local_final</th>\n",
       "      <th>payment_date_local_final</th>\n",
       "      <th>status_final</th>\n",
       "      <th>fees</th>\n",
       "      <th>taxes</th>\n",
       "      <th>eff_dt_date</th>\n",
       "      <th>movement_type</th>\n",
       "      <th>source_type</th>\n",
       "    </tr>\n",
       "  </thead>\n",
       "  <tbody>\n",
       "    <tr>\n",
       "      <th>0</th>\n",
       "      <td>1</td>\n",
       "      <td>0</td>\n",
       "      <td>PAGOS CONCILIADOS</td>\n",
       "      <td>2023-12-01 00:00:00</td>\n",
       "      <td>2023-11-30 00:00:00</td>\n",
       "      <td>7927515</td>\n",
       "      <td>7927515</td>\n",
       "      <td>2023-12-02 00:00:00</td>\n",
       "      <td>PAYCLIP_Settlement_02122023_V1.csv</td>\n",
       "      <td>268753590692</td>\n",
       "      <td>...</td>\n",
       "      <td>ebacb946-7eac-4a4f-9e44-b00abf6fc9c1</td>\n",
       "      <td>AYFV7N2LS</td>\n",
       "      <td>2023-12-01</td>\n",
       "      <td>2023-12-01</td>\n",
       "      <td>PAID</td>\n",
       "      <td>0.36</td>\n",
       "      <td>0.06</td>\n",
       "      <td>2023-12-01</td>\n",
       "      <td>REGULAR_PYMT_RQ</td>\n",
       "      <td>SETT</td>\n",
       "    </tr>\n",
       "    <tr>\n",
       "      <th>1</th>\n",
       "      <td>1</td>\n",
       "      <td>1</td>\n",
       "      <td>PAGOS CONCILIADOS</td>\n",
       "      <td>2023-12-01 00:00:00</td>\n",
       "      <td>2023-11-30 00:00:00</td>\n",
       "      <td>7927517</td>\n",
       "      <td>PP36812115002413</td>\n",
       "      <td>2023-12-02 00:00:00</td>\n",
       "      <td>PAYCLIP_Settlement_02122023_V1.csv</td>\n",
       "      <td>713714994688</td>\n",
       "      <td>...</td>\n",
       "      <td>0ec9938d-1a6f-4179-9921-7ec6cf65c3b3</td>\n",
       "      <td>ADHT25B7S</td>\n",
       "      <td>2023-12-01</td>\n",
       "      <td>2023-12-01</td>\n",
       "      <td>PAID</td>\n",
       "      <td>1.44</td>\n",
       "      <td>0.23</td>\n",
       "      <td>2023-12-01</td>\n",
       "      <td>REGULAR_PYMT_RQ</td>\n",
       "      <td>SETT</td>\n",
       "    </tr>\n",
       "    <tr>\n",
       "      <th>2</th>\n",
       "      <td>1</td>\n",
       "      <td>2</td>\n",
       "      <td>PAGOS CONCILIADOS</td>\n",
       "      <td>2023-12-01 00:00:00</td>\n",
       "      <td>2023-11-30 00:00:00</td>\n",
       "      <td>7927515</td>\n",
       "      <td>7927515</td>\n",
       "      <td>2023-12-02 00:00:00</td>\n",
       "      <td>PAYCLIP_Settlement_02122023_V1.csv</td>\n",
       "      <td>397273831896</td>\n",
       "      <td>...</td>\n",
       "      <td>c3fc87bc-a581-4b2a-a848-ca65117431b2</td>\n",
       "      <td>ACVV8MH8V</td>\n",
       "      <td>2023-12-01</td>\n",
       "      <td>2023-12-01</td>\n",
       "      <td>PAID</td>\n",
       "      <td>3.85</td>\n",
       "      <td>0.62</td>\n",
       "      <td>2023-12-01</td>\n",
       "      <td>REGULAR_PYMT_RQ</td>\n",
       "      <td>SETT</td>\n",
       "    </tr>\n",
       "    <tr>\n",
       "      <th>3</th>\n",
       "      <td>1</td>\n",
       "      <td>3</td>\n",
       "      <td>PAGOS CONCILIADOS</td>\n",
       "      <td>2023-12-01 00:00:00</td>\n",
       "      <td>2023-11-30 00:00:00</td>\n",
       "      <td>7927517</td>\n",
       "      <td>P5220314003502</td>\n",
       "      <td>2023-12-02 00:00:00</td>\n",
       "      <td>PAYCLIP_Settlement_02122023_V1.csv</td>\n",
       "      <td>329955457467</td>\n",
       "      <td>...</td>\n",
       "      <td>f1c1b717-5810-4998-8a0b-c32c56f16e6c</td>\n",
       "      <td>AS8WJPHGT</td>\n",
       "      <td>2023-12-01</td>\n",
       "      <td>2023-12-01</td>\n",
       "      <td>PAID</td>\n",
       "      <td>1.44</td>\n",
       "      <td>0.23</td>\n",
       "      <td>2023-12-01</td>\n",
       "      <td>REGULAR_PYMT_RQ</td>\n",
       "      <td>SETT</td>\n",
       "    </tr>\n",
       "    <tr>\n",
       "      <th>4</th>\n",
       "      <td>1</td>\n",
       "      <td>4</td>\n",
       "      <td>PAGOS CONCILIADOS</td>\n",
       "      <td>2023-12-01 00:00:00</td>\n",
       "      <td>2023-11-30 00:00:00</td>\n",
       "      <td>7927500</td>\n",
       "      <td>7927500</td>\n",
       "      <td>2023-12-02 00:00:00</td>\n",
       "      <td>PAYCLIP_Settlement_02122023_V1.csv</td>\n",
       "      <td>657266002700</td>\n",
       "      <td>...</td>\n",
       "      <td>28583fec-f996-487b-bac7-eb2dd434d189</td>\n",
       "      <td>A692M468P</td>\n",
       "      <td>2023-12-01</td>\n",
       "      <td>2023-12-01</td>\n",
       "      <td>PAID</td>\n",
       "      <td>6.30</td>\n",
       "      <td>1.01</td>\n",
       "      <td>2023-12-01</td>\n",
       "      <td>REGULAR_PYMT_RQ</td>\n",
       "      <td>SETT</td>\n",
       "    </tr>\n",
       "  </tbody>\n",
       "</table>\n",
       "<p>5 rows × 32 columns</p>\n",
       "</div>"
      ],
      "text/plain": [
       "   level_0  level_1            tablero  fecha_deposito_clip  \\\n",
       "0        1        0  PAGOS CONCILIADOS  2023-12-01 00:00:00   \n",
       "1        1        1  PAGOS CONCILIADOS  2023-12-01 00:00:00   \n",
       "2        1        2  PAGOS CONCILIADOS  2023-12-01 00:00:00   \n",
       "3        1        3  PAGOS CONCILIADOS  2023-12-01 00:00:00   \n",
       "4        1        4  PAGOS CONCILIADOS  2023-12-01 00:00:00   \n",
       "\n",
       "        fecha_trx_clip affiliation   sub_affiliation      fecha_recepción  \\\n",
       "0  2023-11-30 00:00:00     7927515           7927515  2023-12-02 00:00:00   \n",
       "1  2023-11-30 00:00:00     7927517  PP36812115002413  2023-12-02 00:00:00   \n",
       "2  2023-11-30 00:00:00     7927515           7927515  2023-12-02 00:00:00   \n",
       "3  2023-11-30 00:00:00     7927517  P5220314003502    2023-12-02 00:00:00   \n",
       "4  2023-11-30 00:00:00     7927500           7927500  2023-12-02 00:00:00   \n",
       "\n",
       "                       nombre_archivo      order_id  ...  \\\n",
       "0  PAYCLIP_Settlement_02122023_V1.csv  268753590692  ...   \n",
       "1  PAYCLIP_Settlement_02122023_V1.csv  713714994688  ...   \n",
       "2  PAYCLIP_Settlement_02122023_V1.csv  397273831896  ...   \n",
       "3  PAYCLIP_Settlement_02122023_V1.csv  329955457467  ...   \n",
       "4  PAYCLIP_Settlement_02122023_V1.csv  657266002700  ...   \n",
       "\n",
       "                                mvnt_id  report_id report_date_local_final  \\\n",
       "0  ebacb946-7eac-4a4f-9e44-b00abf6fc9c1  AYFV7N2LS              2023-12-01   \n",
       "1  0ec9938d-1a6f-4179-9921-7ec6cf65c3b3  ADHT25B7S              2023-12-01   \n",
       "2  c3fc87bc-a581-4b2a-a848-ca65117431b2  ACVV8MH8V              2023-12-01   \n",
       "3  f1c1b717-5810-4998-8a0b-c32c56f16e6c  AS8WJPHGT              2023-12-01   \n",
       "4  28583fec-f996-487b-bac7-eb2dd434d189  A692M468P              2023-12-01   \n",
       "\n",
       "  payment_date_local_final  status_final fees taxes  eff_dt_date  \\\n",
       "0               2023-12-01          PAID 0.36  0.06   2023-12-01   \n",
       "1               2023-12-01          PAID 1.44  0.23   2023-12-01   \n",
       "2               2023-12-01          PAID 3.85  0.62   2023-12-01   \n",
       "3               2023-12-01          PAID 1.44  0.23   2023-12-01   \n",
       "4               2023-12-01          PAID 6.30  1.01   2023-12-01   \n",
       "\n",
       "     movement_type source_type  \n",
       "0  REGULAR_PYMT_RQ        SETT  \n",
       "1  REGULAR_PYMT_RQ        SETT  \n",
       "2  REGULAR_PYMT_RQ        SETT  \n",
       "3  REGULAR_PYMT_RQ        SETT  \n",
       "4  REGULAR_PYMT_RQ        SETT  \n",
       "\n",
       "[5 rows x 32 columns]"
      ]
     },
     "execution_count": 28,
     "metadata": {},
     "output_type": "execute_result"
    }
   ],
   "source": [
    "cruce_2 = provision.merge(cruce_1[['transaction_id','mvnt_id','report_id','report_date_local_final','payment_date_local_final',\n",
    "                                   'status_final','fees','taxes','eff_dt_date','movement_type','source_type']],\n",
    "                          on='transaction_id',how='left')\n",
    "cruce_2['report_id'].fillna('not_found',inplace=True)\n",
    "cruce_2['movement_type'].fillna('not_found',inplace=True)\n",
    "cruce_2['source_type'].fillna('not_found',inplace=True)\n",
    "cruce_2['status_final'].fillna('not_found',inplace=True)\n",
    "cruce_2['report_date_local_final'].fillna('1990-01-01',inplace=True)\n",
    "cruce_2['payment_date_local_final'].fillna('1990-01-01',inplace=True)\n",
    "cruce_2['report_date_local_final'] =  pd.to_datetime(cruce_2['report_date_local_final'])\n",
    "cruce_2['payment_date_local_final'] =  pd.to_datetime(cruce_2['payment_date_local_final'])\n",
    "cruce_2.head()"
   ]
  },
  {
   "cell_type": "code",
   "execution_count": 29,
   "id": "8fdfba12",
   "metadata": {},
   "outputs": [
    {
     "data": {
      "text/plain": [
       "(576031, 32)"
      ]
     },
     "execution_count": 29,
     "metadata": {},
     "output_type": "execute_result"
    }
   ],
   "source": [
    "cruce_2.shape"
   ]
  },
  {
   "cell_type": "code",
   "execution_count": 30,
   "id": "bafecb0a",
   "metadata": {},
   "outputs": [
    {
     "data": {
      "text/plain": [
       "array(['REGULAR_PYMT_RQ', 'FAST_PYMT_RQ', 'DEFERRED_REGULAR_PYMNT_RQ',\n",
       "       'not_found', 'CANCEL_RQ', 'DEFERRED_FAST_PYMNT_RQ'], dtype=object)"
      ]
     },
     "execution_count": 30,
     "metadata": {},
     "output_type": "execute_result"
    }
   ],
   "source": [
    "cruce_2['movement_type'].unique()"
   ]
  },
  {
   "cell_type": "code",
   "execution_count": 31,
   "id": "64aeba02",
   "metadata": {},
   "outputs": [
    {
     "data": {
      "text/plain": [
       "array(['SETT', 'not_found', 'PYMT'], dtype=object)"
      ]
     },
     "execution_count": 31,
     "metadata": {},
     "output_type": "execute_result"
    }
   ],
   "source": [
    "cruce_2['source_type'].unique()"
   ]
  },
  {
   "cell_type": "code",
   "execution_count": 32,
   "id": "ceeab129",
   "metadata": {},
   "outputs": [
    {
     "data": {
      "text/plain": [
       "array([1, 2, 3, 4], dtype=int64)"
      ]
     },
     "execution_count": 32,
     "metadata": {},
     "output_type": "execute_result"
    }
   ],
   "source": [
    "cruce_2['level_0'].unique()"
   ]
  },
  {
   "cell_type": "markdown",
   "id": "6a0638a4",
   "metadata": {},
   "source": [
    "# EXCEL FINAL"
   ]
  },
  {
   "cell_type": "code",
   "execution_count": 33,
   "id": "f51e5a8e",
   "metadata": {},
   "outputs": [],
   "source": [
    "grouped = cruce_2.groupby(cruce_2.level_0)"
   ]
  },
  {
   "cell_type": "code",
   "execution_count": 34,
   "id": "e7abd354",
   "metadata": {},
   "outputs": [],
   "source": [
    "group_1 = grouped.get_group(1)\n",
    "group_2 = grouped.get_group(2)\n",
    "group_3 = grouped.get_group(3)\n",
    "group_4 = grouped.get_group(4)\n",
    "# group_5 = grouped.get_group(5)\n",
    "# group_6 = grouped.get_group(6)\n",
    "# group_7 = grouped.get_group(7)"
   ]
  },
  {
   "cell_type": "code",
   "execution_count": 35,
   "id": "dc6029be",
   "metadata": {},
   "outputs": [],
   "source": [
    "group_1.to_csv('1.csv',index=False)\n",
    "group_2.to_csv('2.csv',index=False)\n",
    "group_3.to_csv('3.csv',index=False)\n",
    "group_4.to_csv('4.csv',index=False)\n",
    "# group_5.to_csv('5.csv',index=False)\n",
    "# group_6.to_csv('6.csv',index=False)\n",
    "# group_7.to_csv('7.csv',index=False)"
   ]
  },
  {
   "cell_type": "code",
   "execution_count": 36,
   "id": "90ede6ce",
   "metadata": {},
   "outputs": [],
   "source": [
    "writer = pd.ExcelWriter('Data_final_provision_noviembre_2023.xlsx',\n",
    "                        engine='xlsxwriter',\n",
    "                        engine_kwargs={'options': {'encoding':'utf-8'}})\n",
    "group_1.to_excel(writer, sheet_name='1', index=False)\n",
    "group_2.to_excel(writer, sheet_name='2', index=False)\n",
    "group_3.to_excel(writer, sheet_name='3', index=False)\n",
    "group_4.to_excel(writer, sheet_name='4', index=False)\n",
    "# group_5.to_excel(writer, sheet_name='5', index=False)\n",
    "# group_6.to_excel(writer, sheet_name='6', index=False)\n",
    "# group_7.to_excel(writer, sheet_name='7', index=False)\n",
    "writer.close()"
   ]
  },
  {
   "cell_type": "code",
   "execution_count": null,
   "id": "3b20b16b",
   "metadata": {},
   "outputs": [],
   "source": []
  }
 ],
 "metadata": {
  "kernelspec": {
   "display_name": "Python 3 (ipykernel)",
   "language": "python",
   "name": "python3"
  },
  "language_info": {
   "codemirror_mode": {
    "name": "ipython",
    "version": 3
   },
   "file_extension": ".py",
   "mimetype": "text/x-python",
   "name": "python",
   "nbconvert_exporter": "python",
   "pygments_lexer": "ipython3",
   "version": "3.9.18"
  }
 },
 "nbformat": 4,
 "nbformat_minor": 5
}
