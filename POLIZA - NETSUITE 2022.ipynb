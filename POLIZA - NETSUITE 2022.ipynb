{
 "cells": [
  {
   "cell_type": "code",
   "execution_count": 1,
   "metadata": {},
   "outputs": [],
   "source": [
    "import numpy as np\n",
    "import pandas as pd\n",
    "import zipfile\n",
    "from zipfile import ZipFile\n",
    "import glob\n",
    "import os\n",
    "from openpyxl import load_workbook\n",
    "pd.options.display.float_format = '{:,.2f}'.format"
   ]
  },
  {
   "cell_type": "markdown",
   "metadata": {},
   "source": [
    "# FILES AUDITORIA"
   ]
  },
  {
   "cell_type": "code",
   "execution_count": 2,
   "metadata": {},
   "outputs": [],
   "source": [
    "url = r'C:\\Users\\Cristian.Aparicio\\Documents\\POLIZAS NETSUITE\\NETSUITE\\2022\\06. JUNIO\\Revision_poliza_ns_junio_2022_V2.xlsx'"
   ]
  },
  {
   "cell_type": "code",
   "execution_count": 3,
   "metadata": {},
   "outputs": [
    {
     "data": {
      "text/plain": [
       "<pandas.io.excel._base.ExcelFile at 0x2608ee0c790>"
      ]
     },
     "execution_count": 3,
     "metadata": {},
     "output_type": "execute_result"
    }
   ],
   "source": [
    "pol_netsuite = pd.ExcelFile(url)\n",
    "pol_netsuite"
   ]
  },
  {
   "cell_type": "code",
   "execution_count": 4,
   "metadata": {},
   "outputs": [
    {
     "data": {
      "text/plain": [
       "['2022.06.30',\n",
       " '2022.06.29',\n",
       " '2022.06.28',\n",
       " '2022.06.27',\n",
       " '2022.06.26',\n",
       " '2022.06.25',\n",
       " '2022.06.24',\n",
       " '2022.06.23',\n",
       " '2022.06.22',\n",
       " '2022.06.21',\n",
       " '2022.06.20',\n",
       " '2022.06.19',\n",
       " '2022.06.18',\n",
       " '2022.06.17',\n",
       " '2022.06.16',\n",
       " '2022.06.15',\n",
       " '2022.06.14',\n",
       " '2022.06.13',\n",
       " '2022.06.12',\n",
       " '2022.06.11',\n",
       " '2022.06.10',\n",
       " '2022.06.09',\n",
       " '2022.06.08',\n",
       " '2022.06.07',\n",
       " '2022.06.06',\n",
       " '2022.06.05',\n",
       " '2022.06.04',\n",
       " '2022.06.03',\n",
       " '2022.06.02',\n",
       " '2022.06.01']"
      ]
     },
     "execution_count": 4,
     "metadata": {},
     "output_type": "execute_result"
    }
   ],
   "source": [
    "pol_netsuite.sheet_names"
   ]
  },
  {
   "cell_type": "code",
   "execution_count": 5,
   "metadata": {},
   "outputs": [],
   "source": [
    "# df1 = auditoria.parse(('Dep 05-08-2022 Afil 7927518 '),converters={'ORDER_ID':str,'COD_AUTORIZACION': str,'BIN':str,'ULTIMOS_4':str})\n",
    "# df1.head()"
   ]
  },
  {
   "cell_type": "code",
   "execution_count": 6,
   "metadata": {},
   "outputs": [],
   "source": [
    "# auditoria.head()"
   ]
  },
  {
   "cell_type": "code",
   "execution_count": 7,
   "metadata": {},
   "outputs": [],
   "source": [
    "all_sheets = pd.read_excel(url, sheet_name=[0,1,2,3,4,5,6,7,8,9,10,11,12,13,14,15,16,17,18,19,20,21,22,23,24,25,26,27,28,29])"
   ]
  },
  {
   "cell_type": "code",
   "execution_count": 8,
   "metadata": {},
   "outputs": [
    {
     "data": {
      "text/plain": [
       "dict_keys([0, 1, 2, 3, 4, 5, 6, 7, 8, 9, 10, 11, 12, 13, 14, 15, 16, 17, 18, 19, 20, 21, 22, 23, 24, 25, 26, 27, 28, 29])"
      ]
     },
     "execution_count": 8,
     "metadata": {},
     "output_type": "execute_result"
    }
   ],
   "source": [
    "all_sheets.keys()"
   ]
  },
  {
   "cell_type": "code",
   "execution_count": 9,
   "metadata": {},
   "outputs": [
    {
     "data": {
      "text/html": [
       "<div>\n",
       "<style scoped>\n",
       "    .dataframe tbody tr th:only-of-type {\n",
       "        vertical-align: middle;\n",
       "    }\n",
       "\n",
       "    .dataframe tbody tr th {\n",
       "        vertical-align: top;\n",
       "    }\n",
       "\n",
       "    .dataframe thead th {\n",
       "        text-align: right;\n",
       "    }\n",
       "</style>\n",
       "<table border=\"1\" class=\"dataframe\">\n",
       "  <thead>\n",
       "    <tr style=\"text-align: right;\">\n",
       "      <th></th>\n",
       "      <th>level_0</th>\n",
       "      <th>level_1</th>\n",
       "      <th>cuenta</th>\n",
       "      <th>débito</th>\n",
       "      <th>crédito</th>\n",
       "      <th>nota</th>\n",
       "      <th>pbc account type</th>\n",
       "      <th>manual</th>\n",
       "      <th>diff</th>\n",
       "    </tr>\n",
       "  </thead>\n",
       "  <tbody>\n",
       "    <tr>\n",
       "      <th>0</th>\n",
       "      <td>0</td>\n",
       "      <td>0</td>\n",
       "      <td>219-05-00 settlement process CXP : CxP Loans T...</td>\n",
       "      <td>NaN</td>\n",
       "      <td>1,255,648.14</td>\n",
       "      <td>Adj Loans Lenders</td>\n",
       "      <td>Cuentas por pagar</td>\n",
       "      <td>1,255,648.14</td>\n",
       "      <td>0.00</td>\n",
       "    </tr>\n",
       "    <tr>\n",
       "      <th>1</th>\n",
       "      <td>0</td>\n",
       "      <td>1</td>\n",
       "      <td>219-01-00 settlement process CXP : Depósitos p...</td>\n",
       "      <td>NaN</td>\n",
       "      <td>2,900.00</td>\n",
       "      <td>Adjustments Cancelaciones</td>\n",
       "      <td>Cuentas por pagar</td>\n",
       "      <td>2,900.00</td>\n",
       "      <td>0.00</td>\n",
       "    </tr>\n",
       "    <tr>\n",
       "      <th>2</th>\n",
       "      <td>0</td>\n",
       "      <td>2</td>\n",
       "      <td>219-01-00 settlement process CXP : Depósitos p...</td>\n",
       "      <td>104.40</td>\n",
       "      <td>NaN</td>\n",
       "      <td>Adjustments Cancelaciones Fees</td>\n",
       "      <td>Cuentas por pagar</td>\n",
       "      <td>104.40</td>\n",
       "      <td>0.00</td>\n",
       "    </tr>\n",
       "    <tr>\n",
       "      <th>3</th>\n",
       "      <td>0</td>\n",
       "      <td>3</td>\n",
       "      <td>219-01-00 settlement process CXP : Depósitos p...</td>\n",
       "      <td>16.70</td>\n",
       "      <td>NaN</td>\n",
       "      <td>Adjustments Cancelaciones Taxes</td>\n",
       "      <td>Cuentas por pagar</td>\n",
       "      <td>16.70</td>\n",
       "      <td>0.00</td>\n",
       "    </tr>\n",
       "    <tr>\n",
       "      <th>4</th>\n",
       "      <td>0</td>\n",
       "      <td>4</td>\n",
       "      <td>192-05-00 Settlement process CXC : CXC Contrac...</td>\n",
       "      <td>NaN</td>\n",
       "      <td>6,831.88</td>\n",
       "      <td>Cobranza</td>\n",
       "      <td>Cuentas por cobrar</td>\n",
       "      <td>6,831.88</td>\n",
       "      <td>0.00</td>\n",
       "    </tr>\n",
       "  </tbody>\n",
       "</table>\n",
       "</div>"
      ],
      "text/plain": [
       "   level_0  level_1                                             cuenta  \\\n",
       "0        0        0  219-05-00 settlement process CXP : CxP Loans T...   \n",
       "1        0        1  219-01-00 settlement process CXP : Depósitos p...   \n",
       "2        0        2  219-01-00 settlement process CXP : Depósitos p...   \n",
       "3        0        3  219-01-00 settlement process CXP : Depósitos p...   \n",
       "4        0        4  192-05-00 Settlement process CXC : CXC Contrac...   \n",
       "\n",
       "   débito      crédito                             nota    pbc account type  \\\n",
       "0     NaN 1,255,648.14                Adj Loans Lenders   Cuentas por pagar   \n",
       "1     NaN     2,900.00        Adjustments Cancelaciones   Cuentas por pagar   \n",
       "2  104.40          NaN   Adjustments Cancelaciones Fees   Cuentas por pagar   \n",
       "3   16.70          NaN  Adjustments Cancelaciones Taxes   Cuentas por pagar   \n",
       "4     NaN     6,831.88                         Cobranza  Cuentas por cobrar   \n",
       "\n",
       "        manual  diff  \n",
       "0 1,255,648.14  0.00  \n",
       "1     2,900.00  0.00  \n",
       "2       104.40  0.00  \n",
       "3        16.70  0.00  \n",
       "4     6,831.88  0.00  "
      ]
     },
     "execution_count": 9,
     "metadata": {},
     "output_type": "execute_result"
    }
   ],
   "source": [
    "audit_1 = pd.concat(all_sheets).reset_index()\n",
    "audit_1.columns = audit_1.columns.str.strip().str.lower()\n",
    "audit_1.head()"
   ]
  },
  {
   "cell_type": "code",
   "execution_count": 10,
   "metadata": {},
   "outputs": [
    {
     "data": {
      "text/plain": [
       "level_0               int64\n",
       "level_1               int64\n",
       "cuenta               object\n",
       "débito              float64\n",
       "crédito             float64\n",
       "nota                 object\n",
       "pbc account type     object\n",
       "manual              float64\n",
       "diff                float64\n",
       "dtype: object"
      ]
     },
     "execution_count": 10,
     "metadata": {},
     "output_type": "execute_result"
    }
   ],
   "source": [
    "audit_1.dtypes"
   ]
  },
  {
   "cell_type": "code",
   "execution_count": 11,
   "metadata": {},
   "outputs": [
    {
     "data": {
      "text/plain": [
       "(960, 9)"
      ]
     },
     "execution_count": 11,
     "metadata": {},
     "output_type": "execute_result"
    }
   ],
   "source": [
    "audit_1.shape"
   ]
  },
  {
   "cell_type": "code",
   "execution_count": 12,
   "metadata": {},
   "outputs": [
    {
     "name": "stderr",
     "output_type": "stream",
     "text": [
      "C:\\Users\\Cristian.Aparicio\\AppData\\Local\\Temp\\ipykernel_1564\\1526520708.py:2: SettingWithCopyWarning: \n",
      "A value is trying to be set on a copy of a slice from a DataFrame\n",
      "\n",
      "See the caveats in the documentation: https://pandas.pydata.org/pandas-docs/stable/user_guide/indexing.html#returning-a-view-versus-a-copy\n",
      "  audit_final['débito'].fillna(0,inplace=True)\n",
      "C:\\Users\\Cristian.Aparicio\\AppData\\Local\\Temp\\ipykernel_1564\\1526520708.py:3: SettingWithCopyWarning: \n",
      "A value is trying to be set on a copy of a slice from a DataFrame\n",
      "\n",
      "See the caveats in the documentation: https://pandas.pydata.org/pandas-docs/stable/user_guide/indexing.html#returning-a-view-versus-a-copy\n",
      "  audit_final['crédito'].fillna(0,inplace=True)\n"
     ]
    },
    {
     "data": {
      "text/html": [
       "<div>\n",
       "<style scoped>\n",
       "    .dataframe tbody tr th:only-of-type {\n",
       "        vertical-align: middle;\n",
       "    }\n",
       "\n",
       "    .dataframe tbody tr th {\n",
       "        vertical-align: top;\n",
       "    }\n",
       "\n",
       "    .dataframe thead th {\n",
       "        text-align: right;\n",
       "    }\n",
       "</style>\n",
       "<table border=\"1\" class=\"dataframe\">\n",
       "  <thead>\n",
       "    <tr style=\"text-align: right;\">\n",
       "      <th></th>\n",
       "      <th>cuenta</th>\n",
       "      <th>débito</th>\n",
       "      <th>crédito</th>\n",
       "      <th>nota</th>\n",
       "      <th>pbc account type</th>\n",
       "    </tr>\n",
       "  </thead>\n",
       "  <tbody>\n",
       "    <tr>\n",
       "      <th>0</th>\n",
       "      <td>219-05-00 settlement process CXP : CxP Loans T...</td>\n",
       "      <td>0.00</td>\n",
       "      <td>1,255,648.14</td>\n",
       "      <td>Adj Loans Lenders</td>\n",
       "      <td>Cuentas por pagar</td>\n",
       "    </tr>\n",
       "    <tr>\n",
       "      <th>1</th>\n",
       "      <td>219-01-00 settlement process CXP : Depósitos p...</td>\n",
       "      <td>0.00</td>\n",
       "      <td>2,900.00</td>\n",
       "      <td>Adjustments Cancelaciones</td>\n",
       "      <td>Cuentas por pagar</td>\n",
       "    </tr>\n",
       "    <tr>\n",
       "      <th>2</th>\n",
       "      <td>219-01-00 settlement process CXP : Depósitos p...</td>\n",
       "      <td>104.40</td>\n",
       "      <td>0.00</td>\n",
       "      <td>Adjustments Cancelaciones Fees</td>\n",
       "      <td>Cuentas por pagar</td>\n",
       "    </tr>\n",
       "    <tr>\n",
       "      <th>3</th>\n",
       "      <td>219-01-00 settlement process CXP : Depósitos p...</td>\n",
       "      <td>16.70</td>\n",
       "      <td>0.00</td>\n",
       "      <td>Adjustments Cancelaciones Taxes</td>\n",
       "      <td>Cuentas por pagar</td>\n",
       "    </tr>\n",
       "    <tr>\n",
       "      <th>4</th>\n",
       "      <td>192-05-00 Settlement process CXC : CXC Contrac...</td>\n",
       "      <td>0.00</td>\n",
       "      <td>6,831.88</td>\n",
       "      <td>Cobranza</td>\n",
       "      <td>Cuentas por cobrar</td>\n",
       "    </tr>\n",
       "  </tbody>\n",
       "</table>\n",
       "</div>"
      ],
      "text/plain": [
       "                                              cuenta  débito      crédito  \\\n",
       "0  219-05-00 settlement process CXP : CxP Loans T...    0.00 1,255,648.14   \n",
       "1  219-01-00 settlement process CXP : Depósitos p...    0.00     2,900.00   \n",
       "2  219-01-00 settlement process CXP : Depósitos p...  104.40         0.00   \n",
       "3  219-01-00 settlement process CXP : Depósitos p...   16.70         0.00   \n",
       "4  192-05-00 Settlement process CXC : CXC Contrac...    0.00     6,831.88   \n",
       "\n",
       "                              nota    pbc account type  \n",
       "0                Adj Loans Lenders   Cuentas por pagar  \n",
       "1        Adjustments Cancelaciones   Cuentas por pagar  \n",
       "2   Adjustments Cancelaciones Fees   Cuentas por pagar  \n",
       "3  Adjustments Cancelaciones Taxes   Cuentas por pagar  \n",
       "4                         Cobranza  Cuentas por cobrar  "
      ]
     },
     "execution_count": 12,
     "metadata": {},
     "output_type": "execute_result"
    }
   ],
   "source": [
    "audit_final = audit_1[['cuenta','débito','crédito','nota','pbc account type']]\n",
    "audit_final['débito'].fillna(0,inplace=True)\n",
    "audit_final['crédito'].fillna(0,inplace=True)\n",
    "audit_final.head()"
   ]
  },
  {
   "cell_type": "code",
   "execution_count": 13,
   "metadata": {},
   "outputs": [
    {
     "data": {
      "text/plain": [
       "(960, 5)"
      ]
     },
     "execution_count": 13,
     "metadata": {},
     "output_type": "execute_result"
    }
   ],
   "source": [
    "audit_final.shape"
   ]
  },
  {
   "cell_type": "markdown",
   "metadata": {},
   "source": [
    "### GROUP ALL JUNIO 2022"
   ]
  },
  {
   "cell_type": "code",
   "execution_count": 14,
   "metadata": {},
   "outputs": [
    {
     "data": {
      "text/html": [
       "<div>\n",
       "<style scoped>\n",
       "    .dataframe tbody tr th:only-of-type {\n",
       "        vertical-align: middle;\n",
       "    }\n",
       "\n",
       "    .dataframe tbody tr th {\n",
       "        vertical-align: top;\n",
       "    }\n",
       "\n",
       "    .dataframe thead th {\n",
       "        text-align: right;\n",
       "    }\n",
       "</style>\n",
       "<table border=\"1\" class=\"dataframe\">\n",
       "  <thead>\n",
       "    <tr style=\"text-align: right;\">\n",
       "      <th></th>\n",
       "      <th>nota</th>\n",
       "      <th>cuenta</th>\n",
       "      <th>débito</th>\n",
       "      <th>crédito</th>\n",
       "    </tr>\n",
       "  </thead>\n",
       "  <tbody>\n",
       "    <tr>\n",
       "      <th>0</th>\n",
       "      <td>-1.92</td>\n",
       "      <td>DIFERENCIA</td>\n",
       "      <td>0.00</td>\n",
       "      <td>0.00</td>\n",
       "    </tr>\n",
       "    <tr>\n",
       "      <th>1</th>\n",
       "      <td>-0.00</td>\n",
       "      <td>DIFERENCIA</td>\n",
       "      <td>0.00</td>\n",
       "      <td>0.00</td>\n",
       "    </tr>\n",
       "    <tr>\n",
       "      <th>2</th>\n",
       "      <td>0</td>\n",
       "      <td>DIFERENCIA</td>\n",
       "      <td>0.00</td>\n",
       "      <td>0.00</td>\n",
       "    </tr>\n",
       "    <tr>\n",
       "      <th>3</th>\n",
       "      <td>0.95</td>\n",
       "      <td>DIFERENCIA</td>\n",
       "      <td>0.00</td>\n",
       "      <td>0.00</td>\n",
       "    </tr>\n",
       "    <tr>\n",
       "      <th>4</th>\n",
       "      <td>291.31</td>\n",
       "      <td>DIFERENCIA</td>\n",
       "      <td>0.00</td>\n",
       "      <td>0.00</td>\n",
       "    </tr>\n",
       "  </tbody>\n",
       "</table>\n",
       "</div>"
      ],
      "text/plain": [
       "    nota      cuenta  débito  crédito\n",
       "0  -1.92  DIFERENCIA    0.00     0.00\n",
       "1  -0.00  DIFERENCIA    0.00     0.00\n",
       "2      0  DIFERENCIA    0.00     0.00\n",
       "3   0.95  DIFERENCIA    0.00     0.00\n",
       "4 291.31  DIFERENCIA    0.00     0.00"
      ]
     },
     "execution_count": 14,
     "metadata": {},
     "output_type": "execute_result"
    }
   ],
   "source": [
    "group_poliza = audit_final.groupby(['nota','cuenta']).sum().reset_index()\n",
    "group_poliza.head()"
   ]
  },
  {
   "cell_type": "code",
   "execution_count": 15,
   "metadata": {},
   "outputs": [
    {
     "data": {
      "text/plain": [
       "(92, 4)"
      ]
     },
     "execution_count": 15,
     "metadata": {},
     "output_type": "execute_result"
    }
   ],
   "source": [
    "group_poliza.shape"
   ]
  },
  {
   "cell_type": "markdown",
   "metadata": {},
   "source": [
    "### GROUP 30-31 JULIO 2022"
   ]
  },
  {
   "cell_type": "code",
   "execution_count": null,
   "metadata": {},
   "outputs": [],
   "source": [
    "sheets_30_31 = pd.read_excel(url, sheet_name=[0,1])"
   ]
  },
  {
   "cell_type": "code",
   "execution_count": null,
   "metadata": {},
   "outputs": [],
   "source": [
    "sheets_30_31.keys()"
   ]
  },
  {
   "cell_type": "code",
   "execution_count": null,
   "metadata": {},
   "outputs": [],
   "source": [
    "audit_2 = pd.concat(sheets_30_31).reset_index()\n",
    "audit_2.columns = audit_2.columns.str.strip().str.lower()\n",
    "audit_2.head()"
   ]
  },
  {
   "cell_type": "code",
   "execution_count": null,
   "metadata": {},
   "outputs": [],
   "source": [
    "audit_2.shape"
   ]
  },
  {
   "cell_type": "code",
   "execution_count": null,
   "metadata": {},
   "outputs": [],
   "source": [
    "audit_2.dtypes"
   ]
  },
  {
   "cell_type": "code",
   "execution_count": null,
   "metadata": {},
   "outputs": [],
   "source": [
    "audit_final_30_31 = audit_2[['cuenta','débito','crédito','nota','pbc account type']]\n",
    "audit_final_30_31['débito'].fillna(0,inplace=True)\n",
    "audit_final_30_31['crédito'].fillna(0,inplace=True)\n",
    "audit_final_30_31.head()"
   ]
  },
  {
   "cell_type": "code",
   "execution_count": null,
   "metadata": {},
   "outputs": [],
   "source": [
    "audit_final_30_31.shape"
   ]
  },
  {
   "cell_type": "code",
   "execution_count": null,
   "metadata": {},
   "outputs": [],
   "source": [
    "group_poliza_30_31 = audit_final_30_31.groupby(['nota','cuenta']).sum().reset_index()\n",
    "group_poliza_30_31.head()"
   ]
  },
  {
   "cell_type": "code",
   "execution_count": null,
   "metadata": {},
   "outputs": [],
   "source": [
    "group_poliza_30_31.shape"
   ]
  },
  {
   "cell_type": "markdown",
   "metadata": {},
   "source": [
    "### GROUP 01-29 JULIO 2022"
   ]
  },
  {
   "cell_type": "code",
   "execution_count": null,
   "metadata": {},
   "outputs": [],
   "source": [
    "sheets_01_29 = pd.read_excel(url, sheet_name=[2,3,4,5,6,7,8,9,10,11,12,13,14,15,16,17,18,19,20,21,22,23,24,25,26,27,28,29,30])"
   ]
  },
  {
   "cell_type": "code",
   "execution_count": null,
   "metadata": {},
   "outputs": [],
   "source": [
    "sheets_01_29.keys()"
   ]
  },
  {
   "cell_type": "code",
   "execution_count": null,
   "metadata": {},
   "outputs": [],
   "source": [
    "audit_3 = pd.concat(sheets_01_29).reset_index()\n",
    "audit_3.columns = audit_3.columns.str.strip().str.lower()\n",
    "audit_3.head()"
   ]
  },
  {
   "cell_type": "code",
   "execution_count": null,
   "metadata": {},
   "outputs": [],
   "source": [
    "audit_3.shape"
   ]
  },
  {
   "cell_type": "code",
   "execution_count": null,
   "metadata": {},
   "outputs": [],
   "source": [
    "audit_3.dtypes"
   ]
  },
  {
   "cell_type": "code",
   "execution_count": null,
   "metadata": {},
   "outputs": [],
   "source": [
    "audit_final_01_29 = audit_3[['cuenta','débito','crédito','nota','pbc account type']]\n",
    "audit_final_01_29['débito'].fillna(0,inplace=True)\n",
    "audit_final_01_29['crédito'].fillna(0,inplace=True)\n",
    "audit_final_01_29.head()"
   ]
  },
  {
   "cell_type": "code",
   "execution_count": null,
   "metadata": {},
   "outputs": [],
   "source": [
    "audit_final_01_29.shape"
   ]
  },
  {
   "cell_type": "code",
   "execution_count": null,
   "metadata": {},
   "outputs": [],
   "source": [
    "group_poliza_01_29 = audit_final_01_29.groupby(['nota','cuenta']).sum().reset_index()\n",
    "group_poliza_01_29.head()"
   ]
  },
  {
   "cell_type": "code",
   "execution_count": null,
   "metadata": {},
   "outputs": [],
   "source": [
    "group_poliza_01_29.shape"
   ]
  },
  {
   "cell_type": "markdown",
   "metadata": {},
   "source": [
    "# EXCEL FINAL"
   ]
  },
  {
   "cell_type": "code",
   "execution_count": 16,
   "metadata": {},
   "outputs": [],
   "source": [
    "writer = pd.ExcelWriter('Revision_poliza_ns_junio_2022_vf.xlsx',\n",
    "                        engine='xlsxwriter',\n",
    "                        engine_kwargs={'options': {'encoding':'utf-8'}})\n",
    "audit_final.to_excel(writer, sheet_name='Informacion_completa', index=False)\n",
    "group_poliza.to_excel(writer, sheet_name='Group_all_junio', index=False)\n",
    "# group_poliza_30_31.to_excel(writer, sheet_name='Group_30_31_julio', index=False)\n",
    "# group_poliza_01_29.to_excel(writer, sheet_name='Group_01_29_julio', index=False)\n",
    "writer.close()"
   ]
  },
  {
   "cell_type": "code",
   "execution_count": null,
   "metadata": {},
   "outputs": [],
   "source": []
  }
 ],
 "metadata": {
  "kernelspec": {
   "display_name": "Python 3 (ipykernel)",
   "language": "python",
   "name": "python3"
  },
  "language_info": {
   "codemirror_mode": {
    "name": "ipython",
    "version": 3
   },
   "file_extension": ".py",
   "mimetype": "text/x-python",
   "name": "python",
   "nbconvert_exporter": "python",
   "pygments_lexer": "ipython3",
   "version": "3.9.12"
  }
 },
 "nbformat": 4,
 "nbformat_minor": 2
}
