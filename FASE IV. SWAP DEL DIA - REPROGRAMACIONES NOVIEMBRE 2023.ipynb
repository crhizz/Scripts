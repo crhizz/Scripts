{
 "cells": [
  {
   "cell_type": "code",
   "execution_count": 1,
   "metadata": {},
   "outputs": [],
   "source": [
    "import pandas as pd\n",
    "import numpy as np\n",
    "import glob\n",
    "import os\n",
    "from openpyxl import load_workbook\n",
    "pd.options.display.float_format = '{:,.2f}'.format"
   ]
  },
  {
   "cell_type": "markdown",
   "metadata": {},
   "source": [
    "# MES AÑO DE CONCILIACIÓN"
   ]
  },
  {
   "cell_type": "code",
   "execution_count": 2,
   "metadata": {},
   "outputs": [],
   "source": [
    "month_conc = 'November'\n",
    "year_conc = '2023'"
   ]
  },
  {
   "cell_type": "markdown",
   "metadata": {},
   "source": [
    "# RUTAS DE ACCESO"
   ]
  },
  {
   "cell_type": "markdown",
   "metadata": {},
   "source": [
    "### SWAP DEL DIA "
   ]
  },
  {
   "cell_type": "code",
   "execution_count": 3,
   "metadata": {},
   "outputs": [
    {
     "data": {
      "text/plain": [
       "['C:\\\\Users\\\\Cristian.Aparicio\\\\Documents\\\\DISPERSIONES\\\\2023\\\\11. NOVIEMBRE\\\\ARCHIVO DISPERSIONES\\\\Dispersión-20231101.xlsx',\n",
       " 'C:\\\\Users\\\\Cristian.Aparicio\\\\Documents\\\\DISPERSIONES\\\\2023\\\\11. NOVIEMBRE\\\\ARCHIVO DISPERSIONES\\\\Dispersión-20231102.xlsx',\n",
       " 'C:\\\\Users\\\\Cristian.Aparicio\\\\Documents\\\\DISPERSIONES\\\\2023\\\\11. NOVIEMBRE\\\\ARCHIVO DISPERSIONES\\\\Dispersión-20231103.xlsx',\n",
       " 'C:\\\\Users\\\\Cristian.Aparicio\\\\Documents\\\\DISPERSIONES\\\\2023\\\\11. NOVIEMBRE\\\\ARCHIVO DISPERSIONES\\\\Dispersión-20231104.xlsx',\n",
       " 'C:\\\\Users\\\\Cristian.Aparicio\\\\Documents\\\\DISPERSIONES\\\\2023\\\\11. NOVIEMBRE\\\\ARCHIVO DISPERSIONES\\\\Dispersión-20231105.xlsx',\n",
       " 'C:\\\\Users\\\\Cristian.Aparicio\\\\Documents\\\\DISPERSIONES\\\\2023\\\\11. NOVIEMBRE\\\\ARCHIVO DISPERSIONES\\\\Dispersión-20231106.xlsx',\n",
       " 'C:\\\\Users\\\\Cristian.Aparicio\\\\Documents\\\\DISPERSIONES\\\\2023\\\\11. NOVIEMBRE\\\\ARCHIVO DISPERSIONES\\\\Dispersión-20231107.xlsx',\n",
       " 'C:\\\\Users\\\\Cristian.Aparicio\\\\Documents\\\\DISPERSIONES\\\\2023\\\\11. NOVIEMBRE\\\\ARCHIVO DISPERSIONES\\\\Dispersión-20231108.xlsx',\n",
       " 'C:\\\\Users\\\\Cristian.Aparicio\\\\Documents\\\\DISPERSIONES\\\\2023\\\\11. NOVIEMBRE\\\\ARCHIVO DISPERSIONES\\\\Dispersión-20231109.xlsx',\n",
       " 'C:\\\\Users\\\\Cristian.Aparicio\\\\Documents\\\\DISPERSIONES\\\\2023\\\\11. NOVIEMBRE\\\\ARCHIVO DISPERSIONES\\\\Dispersión-20231110.xlsx',\n",
       " 'C:\\\\Users\\\\Cristian.Aparicio\\\\Documents\\\\DISPERSIONES\\\\2023\\\\11. NOVIEMBRE\\\\ARCHIVO DISPERSIONES\\\\Dispersión-20231111.xlsx',\n",
       " 'C:\\\\Users\\\\Cristian.Aparicio\\\\Documents\\\\DISPERSIONES\\\\2023\\\\11. NOVIEMBRE\\\\ARCHIVO DISPERSIONES\\\\Dispersión-20231112.xlsx',\n",
       " 'C:\\\\Users\\\\Cristian.Aparicio\\\\Documents\\\\DISPERSIONES\\\\2023\\\\11. NOVIEMBRE\\\\ARCHIVO DISPERSIONES\\\\Dispersión-20231113.xlsx',\n",
       " 'C:\\\\Users\\\\Cristian.Aparicio\\\\Documents\\\\DISPERSIONES\\\\2023\\\\11. NOVIEMBRE\\\\ARCHIVO DISPERSIONES\\\\Dispersión-20231114.xlsx',\n",
       " 'C:\\\\Users\\\\Cristian.Aparicio\\\\Documents\\\\DISPERSIONES\\\\2023\\\\11. NOVIEMBRE\\\\ARCHIVO DISPERSIONES\\\\Dispersión-20231115.xlsx',\n",
       " 'C:\\\\Users\\\\Cristian.Aparicio\\\\Documents\\\\DISPERSIONES\\\\2023\\\\11. NOVIEMBRE\\\\ARCHIVO DISPERSIONES\\\\Dispersión-20231116.xlsx',\n",
       " 'C:\\\\Users\\\\Cristian.Aparicio\\\\Documents\\\\DISPERSIONES\\\\2023\\\\11. NOVIEMBRE\\\\ARCHIVO DISPERSIONES\\\\Dispersión-20231117.xlsx',\n",
       " 'C:\\\\Users\\\\Cristian.Aparicio\\\\Documents\\\\DISPERSIONES\\\\2023\\\\11. NOVIEMBRE\\\\ARCHIVO DISPERSIONES\\\\Dispersión-20231118.xlsx',\n",
       " 'C:\\\\Users\\\\Cristian.Aparicio\\\\Documents\\\\DISPERSIONES\\\\2023\\\\11. NOVIEMBRE\\\\ARCHIVO DISPERSIONES\\\\Dispersión-20231119.xlsx',\n",
       " 'C:\\\\Users\\\\Cristian.Aparicio\\\\Documents\\\\DISPERSIONES\\\\2023\\\\11. NOVIEMBRE\\\\ARCHIVO DISPERSIONES\\\\Dispersión-20231120.xlsx',\n",
       " 'C:\\\\Users\\\\Cristian.Aparicio\\\\Documents\\\\DISPERSIONES\\\\2023\\\\11. NOVIEMBRE\\\\ARCHIVO DISPERSIONES\\\\Dispersión-20231121.xlsx',\n",
       " 'C:\\\\Users\\\\Cristian.Aparicio\\\\Documents\\\\DISPERSIONES\\\\2023\\\\11. NOVIEMBRE\\\\ARCHIVO DISPERSIONES\\\\Dispersión-20231122.xlsx',\n",
       " 'C:\\\\Users\\\\Cristian.Aparicio\\\\Documents\\\\DISPERSIONES\\\\2023\\\\11. NOVIEMBRE\\\\ARCHIVO DISPERSIONES\\\\Dispersión-20231123.xlsx',\n",
       " 'C:\\\\Users\\\\Cristian.Aparicio\\\\Documents\\\\DISPERSIONES\\\\2023\\\\11. NOVIEMBRE\\\\ARCHIVO DISPERSIONES\\\\Dispersión-20231124.xlsx',\n",
       " 'C:\\\\Users\\\\Cristian.Aparicio\\\\Documents\\\\DISPERSIONES\\\\2023\\\\11. NOVIEMBRE\\\\ARCHIVO DISPERSIONES\\\\Dispersión-20231125.xlsx',\n",
       " 'C:\\\\Users\\\\Cristian.Aparicio\\\\Documents\\\\DISPERSIONES\\\\2023\\\\11. NOVIEMBRE\\\\ARCHIVO DISPERSIONES\\\\Dispersión-20231126.xlsx',\n",
       " 'C:\\\\Users\\\\Cristian.Aparicio\\\\Documents\\\\DISPERSIONES\\\\2023\\\\11. NOVIEMBRE\\\\ARCHIVO DISPERSIONES\\\\Dispersión-20231127.xlsx',\n",
       " 'C:\\\\Users\\\\Cristian.Aparicio\\\\Documents\\\\DISPERSIONES\\\\2023\\\\11. NOVIEMBRE\\\\ARCHIVO DISPERSIONES\\\\Dispersión-20231128.xlsx',\n",
       " 'C:\\\\Users\\\\Cristian.Aparicio\\\\Documents\\\\DISPERSIONES\\\\2023\\\\11. NOVIEMBRE\\\\ARCHIVO DISPERSIONES\\\\Dispersión-20231129.xlsx',\n",
       " 'C:\\\\Users\\\\Cristian.Aparicio\\\\Documents\\\\DISPERSIONES\\\\2023\\\\11. NOVIEMBRE\\\\ARCHIVO DISPERSIONES\\\\Dispersión-20231130.xlsx']"
      ]
     },
     "execution_count": 3,
     "metadata": {},
     "output_type": "execute_result"
    }
   ],
   "source": [
    "allfiles_disp_trad = glob.glob(r'C:\\Users\\Cristian.Aparicio\\Documents\\DISPERSIONES\\2023\\11. NOVIEMBRE\\ARCHIVO DISPERSIONES\\Dispersión*.xlsx', recursive=False)\n",
    "allfiles_disp_trad"
   ]
  },
  {
   "cell_type": "markdown",
   "metadata": {},
   "source": [
    "### FAST PAYMENTS"
   ]
  },
  {
   "cell_type": "code",
   "execution_count": 4,
   "metadata": {},
   "outputs": [
    {
     "data": {
      "text/plain": [
       "['C:\\\\Users\\\\Cristian.Aparicio\\\\Documents\\\\FAST PAYMENTS\\\\2023\\\\11. NOVIEMBRE\\\\ARCHIVO DISPERSIONES FP\\\\Dispersión-FP 2023-11-01.xlsx',\n",
       " 'C:\\\\Users\\\\Cristian.Aparicio\\\\Documents\\\\FAST PAYMENTS\\\\2023\\\\11. NOVIEMBRE\\\\ARCHIVO DISPERSIONES FP\\\\Dispersión-FP 2023-11-02.xlsx',\n",
       " 'C:\\\\Users\\\\Cristian.Aparicio\\\\Documents\\\\FAST PAYMENTS\\\\2023\\\\11. NOVIEMBRE\\\\ARCHIVO DISPERSIONES FP\\\\Dispersión-FP 2023-11-03.xlsx',\n",
       " 'C:\\\\Users\\\\Cristian.Aparicio\\\\Documents\\\\FAST PAYMENTS\\\\2023\\\\11. NOVIEMBRE\\\\ARCHIVO DISPERSIONES FP\\\\Dispersión-FP 2023-11-04.xlsx',\n",
       " 'C:\\\\Users\\\\Cristian.Aparicio\\\\Documents\\\\FAST PAYMENTS\\\\2023\\\\11. NOVIEMBRE\\\\ARCHIVO DISPERSIONES FP\\\\Dispersión-FP 2023-11-05.xlsx',\n",
       " 'C:\\\\Users\\\\Cristian.Aparicio\\\\Documents\\\\FAST PAYMENTS\\\\2023\\\\11. NOVIEMBRE\\\\ARCHIVO DISPERSIONES FP\\\\Dispersión-FP 2023-11-06.xlsx',\n",
       " 'C:\\\\Users\\\\Cristian.Aparicio\\\\Documents\\\\FAST PAYMENTS\\\\2023\\\\11. NOVIEMBRE\\\\ARCHIVO DISPERSIONES FP\\\\Dispersión-FP 2023-11-07.xlsx',\n",
       " 'C:\\\\Users\\\\Cristian.Aparicio\\\\Documents\\\\FAST PAYMENTS\\\\2023\\\\11. NOVIEMBRE\\\\ARCHIVO DISPERSIONES FP\\\\Dispersión-FP 2023-11-08.xlsx',\n",
       " 'C:\\\\Users\\\\Cristian.Aparicio\\\\Documents\\\\FAST PAYMENTS\\\\2023\\\\11. NOVIEMBRE\\\\ARCHIVO DISPERSIONES FP\\\\Dispersión-FP 2023-11-09.xlsx',\n",
       " 'C:\\\\Users\\\\Cristian.Aparicio\\\\Documents\\\\FAST PAYMENTS\\\\2023\\\\11. NOVIEMBRE\\\\ARCHIVO DISPERSIONES FP\\\\Dispersión-FP 2023-11-10.xlsx',\n",
       " 'C:\\\\Users\\\\Cristian.Aparicio\\\\Documents\\\\FAST PAYMENTS\\\\2023\\\\11. NOVIEMBRE\\\\ARCHIVO DISPERSIONES FP\\\\Dispersión-FP 2023-11-11.xlsx',\n",
       " 'C:\\\\Users\\\\Cristian.Aparicio\\\\Documents\\\\FAST PAYMENTS\\\\2023\\\\11. NOVIEMBRE\\\\ARCHIVO DISPERSIONES FP\\\\Dispersión-FP 2023-11-12.xlsx',\n",
       " 'C:\\\\Users\\\\Cristian.Aparicio\\\\Documents\\\\FAST PAYMENTS\\\\2023\\\\11. NOVIEMBRE\\\\ARCHIVO DISPERSIONES FP\\\\Dispersión-FP 2023-11-13.xlsx',\n",
       " 'C:\\\\Users\\\\Cristian.Aparicio\\\\Documents\\\\FAST PAYMENTS\\\\2023\\\\11. NOVIEMBRE\\\\ARCHIVO DISPERSIONES FP\\\\Dispersión-FP 2023-11-14.xlsx',\n",
       " 'C:\\\\Users\\\\Cristian.Aparicio\\\\Documents\\\\FAST PAYMENTS\\\\2023\\\\11. NOVIEMBRE\\\\ARCHIVO DISPERSIONES FP\\\\Dispersión-FP 2023-11-15.xlsx',\n",
       " 'C:\\\\Users\\\\Cristian.Aparicio\\\\Documents\\\\FAST PAYMENTS\\\\2023\\\\11. NOVIEMBRE\\\\ARCHIVO DISPERSIONES FP\\\\Dispersión-FP 2023-11-16.xlsx',\n",
       " 'C:\\\\Users\\\\Cristian.Aparicio\\\\Documents\\\\FAST PAYMENTS\\\\2023\\\\11. NOVIEMBRE\\\\ARCHIVO DISPERSIONES FP\\\\Dispersión-FP 2023-11-17.xlsx',\n",
       " 'C:\\\\Users\\\\Cristian.Aparicio\\\\Documents\\\\FAST PAYMENTS\\\\2023\\\\11. NOVIEMBRE\\\\ARCHIVO DISPERSIONES FP\\\\Dispersión-FP 2023-11-18.xlsx',\n",
       " 'C:\\\\Users\\\\Cristian.Aparicio\\\\Documents\\\\FAST PAYMENTS\\\\2023\\\\11. NOVIEMBRE\\\\ARCHIVO DISPERSIONES FP\\\\Dispersión-FP 2023-11-19.xlsx',\n",
       " 'C:\\\\Users\\\\Cristian.Aparicio\\\\Documents\\\\FAST PAYMENTS\\\\2023\\\\11. NOVIEMBRE\\\\ARCHIVO DISPERSIONES FP\\\\Dispersión-FP 2023-11-20.xlsx',\n",
       " 'C:\\\\Users\\\\Cristian.Aparicio\\\\Documents\\\\FAST PAYMENTS\\\\2023\\\\11. NOVIEMBRE\\\\ARCHIVO DISPERSIONES FP\\\\Dispersión-FP 2023-11-21.xlsx',\n",
       " 'C:\\\\Users\\\\Cristian.Aparicio\\\\Documents\\\\FAST PAYMENTS\\\\2023\\\\11. NOVIEMBRE\\\\ARCHIVO DISPERSIONES FP\\\\Dispersión-FP 2023-11-22.xlsx',\n",
       " 'C:\\\\Users\\\\Cristian.Aparicio\\\\Documents\\\\FAST PAYMENTS\\\\2023\\\\11. NOVIEMBRE\\\\ARCHIVO DISPERSIONES FP\\\\Dispersión-FP 2023-11-23.xlsx',\n",
       " 'C:\\\\Users\\\\Cristian.Aparicio\\\\Documents\\\\FAST PAYMENTS\\\\2023\\\\11. NOVIEMBRE\\\\ARCHIVO DISPERSIONES FP\\\\Dispersión-FP 2023-11-24.xlsx',\n",
       " 'C:\\\\Users\\\\Cristian.Aparicio\\\\Documents\\\\FAST PAYMENTS\\\\2023\\\\11. NOVIEMBRE\\\\ARCHIVO DISPERSIONES FP\\\\Dispersión-FP 2023-11-25.xlsx',\n",
       " 'C:\\\\Users\\\\Cristian.Aparicio\\\\Documents\\\\FAST PAYMENTS\\\\2023\\\\11. NOVIEMBRE\\\\ARCHIVO DISPERSIONES FP\\\\Dispersión-FP 2023-11-26.xlsx',\n",
       " 'C:\\\\Users\\\\Cristian.Aparicio\\\\Documents\\\\FAST PAYMENTS\\\\2023\\\\11. NOVIEMBRE\\\\ARCHIVO DISPERSIONES FP\\\\Dispersión-FP 2023-11-27.xlsx',\n",
       " 'C:\\\\Users\\\\Cristian.Aparicio\\\\Documents\\\\FAST PAYMENTS\\\\2023\\\\11. NOVIEMBRE\\\\ARCHIVO DISPERSIONES FP\\\\Dispersión-FP 2023-11-28.xlsx',\n",
       " 'C:\\\\Users\\\\Cristian.Aparicio\\\\Documents\\\\FAST PAYMENTS\\\\2023\\\\11. NOVIEMBRE\\\\ARCHIVO DISPERSIONES FP\\\\Dispersión-FP 2023-11-29.xlsx',\n",
       " 'C:\\\\Users\\\\Cristian.Aparicio\\\\Documents\\\\FAST PAYMENTS\\\\2023\\\\11. NOVIEMBRE\\\\ARCHIVO DISPERSIONES FP\\\\Dispersión-FP 2023-11-30.xlsx']"
      ]
     },
     "execution_count": 4,
     "metadata": {},
     "output_type": "execute_result"
    }
   ],
   "source": [
    "allfiles_fp = glob.glob(r'C:\\Users\\Cristian.Aparicio\\Documents\\FAST PAYMENTS\\2023\\11. NOVIEMBRE\\ARCHIVO DISPERSIONES FP\\Dispersión-FP*.xlsx',recursive=False)\n",
    "allfiles_fp"
   ]
  },
  {
   "cell_type": "markdown",
   "metadata": {},
   "source": [
    "# SWAP DEL DIA"
   ]
  },
  {
   "cell_type": "code",
   "execution_count": null,
   "metadata": {},
   "outputs": [],
   "source": [
    "swap_dia_total = pd.concat([pd.read_excel(f,sheet_name = 'Swap del día')\n",
    "                            .assign(file_name=os.path.basename(f)) for f in allfiles_disp_trad])\n",
    "swap_dia_total['Date'] = swap_dia_total[\"file_name\"].str[-13:-5]\n",
    "swap_dia_total['Date']= pd.to_datetime(swap_dia_total['Date'], format='%Y%m%d').dt.date\n",
    "swap_dia_total['Date']= pd.to_datetime(swap_dia_total['Date'])\n",
    "swap_dia_total.sort_values(by=['Date'],ascending=True,inplace=True)\n",
    "swap_dia_total['report_date_local']= pd.to_datetime(swap_dia_total['report_date_local'])\n",
    "swap_dia_total['month_conc'] = month_conc\n",
    "swap_dia_total['year_conc'] = year_conc\n",
    "swap_dia_total['month_report'] = swap_dia_total['report_date_local'].dt.strftime('%B')\n",
    "swap_dia_total['year_report'] = swap_dia_total['report_date_local'].dt.year.astype(str)\n",
    "swap_dia_total.head()"
   ]
  },
  {
   "cell_type": "code",
   "execution_count": null,
   "metadata": {},
   "outputs": [],
   "source": [
    "swap_dia_total.shape"
   ]
  },
  {
   "cell_type": "code",
   "execution_count": null,
   "metadata": {},
   "outputs": [],
   "source": [
    "swap_dia_total.dtypes"
   ]
  },
  {
   "cell_type": "markdown",
   "metadata": {},
   "source": [
    "# FAST PAYMENTS"
   ]
  },
  {
   "cell_type": "code",
   "execution_count": null,
   "metadata": {},
   "outputs": [],
   "source": [
    "fp_dia_total = pd.concat([pd.read_excel(f,sheet_name='FAST PAYMENTS')\n",
    "                          .assign(file_name=os.path.basename(f)) for f in allfiles_fp])\n",
    "fp_dia_total['Date'] = fp_dia_total[\"file_name\"].str[-15:-5]\n",
    "fp_dia_total['Date']= pd.to_datetime(fp_dia_total['Date'])\n",
    "fp_dia_total['report_date_local']= pd.to_datetime(fp_dia_total['report_date_local'])\n",
    "fp_dia_total['month_conc'] = month_conc\n",
    "fp_dia_total['year_conc'] = year_conc\n",
    "fp_dia_total['month_report'] = fp_dia_total['report_date_local'].dt.strftime('%B')\n",
    "fp_dia_total['year_report'] = fp_dia_total['report_date_local'].dt.year.astype(str)\n",
    "fp_dia_total.head()"
   ]
  },
  {
   "cell_type": "code",
   "execution_count": null,
   "metadata": {},
   "outputs": [],
   "source": [
    "fp_dia_total.shape"
   ]
  },
  {
   "cell_type": "code",
   "execution_count": null,
   "metadata": {},
   "outputs": [],
   "source": [
    "fp_dia_total.dtypes"
   ]
  },
  {
   "cell_type": "markdown",
   "metadata": {},
   "source": [
    "# ALL DISPERSIONES"
   ]
  },
  {
   "cell_type": "code",
   "execution_count": null,
   "metadata": {},
   "outputs": [],
   "source": [
    "all_disp = pd.concat([swap_dia_total,fp_dia_total])\n",
    "all_disp.loc[all_disp['type'].str.contains('LEDGER'), 'type'] = 'LEDGER'\n",
    "all_disp.head()"
   ]
  },
  {
   "cell_type": "code",
   "execution_count": null,
   "metadata": {},
   "outputs": [],
   "source": [
    "all_disp.shape"
   ]
  },
  {
   "cell_type": "code",
   "execution_count": null,
   "metadata": {},
   "outputs": [],
   "source": [
    "all_disp['type'].unique()"
   ]
  },
  {
   "cell_type": "markdown",
   "metadata": {},
   "source": [
    "# TRADICIONAL"
   ]
  },
  {
   "cell_type": "code",
   "execution_count": null,
   "metadata": {},
   "outputs": [],
   "source": [
    "all_disp_trad = all_disp[(all_disp['type'] == 'DAILY')]\n",
    "all_disp_trad.head()"
   ]
  },
  {
   "cell_type": "code",
   "execution_count": null,
   "metadata": {},
   "outputs": [],
   "source": [
    "all_disp_trad.shape"
   ]
  },
  {
   "cell_type": "code",
   "execution_count": null,
   "metadata": {},
   "outputs": [],
   "source": [
    "pivot_total_trad = pd.pivot_table(all_disp_trad,index=['type','Date'],values=['total_due'],\n",
    "                                  aggfunc = ['sum', len],\n",
    "                                  margins=True)\n",
    "pivot_total_trad.reset_index(drop=False, inplace=True)\n",
    "pivot_total_trad.head()"
   ]
  },
  {
   "cell_type": "code",
   "execution_count": null,
   "metadata": {},
   "outputs": [],
   "source": [
    "pivot_parcial_trad = pd.pivot_table(all_disp_trad,index=['type','tipo','Date'],\n",
    "                               columns=['status'],values=['total_due'],aggfunc = ['sum', len],margins=True)\n",
    "pivot_parcial_trad.reset_index(drop=False, inplace=True)\n",
    "pivot_parcial_trad.head()"
   ]
  },
  {
   "cell_type": "markdown",
   "metadata": {},
   "source": [
    "## CATEGORIZACIÓN DE REPROGRAMACIONES"
   ]
  },
  {
   "cell_type": "code",
   "execution_count": null,
   "metadata": {},
   "outputs": [],
   "source": [
    "swap_dia_total_repro = all_disp_trad[(all_disp_trad['tipo'] == 'Reprogramación')]\n",
    "swap_dia_total_repro.head()"
   ]
  },
  {
   "cell_type": "code",
   "execution_count": null,
   "metadata": {},
   "outputs": [],
   "source": [
    "swap_dia_total_repro.shape"
   ]
  },
  {
   "cell_type": "code",
   "execution_count": null,
   "metadata": {},
   "outputs": [],
   "source": [
    "swap_dia_total_repro.to_excel('Reprogramaciones_daily.xlsx',index=False)"
   ]
  },
  {
   "cell_type": "code",
   "execution_count": null,
   "metadata": {},
   "outputs": [],
   "source": [
    "swap_dia_total_repro.loc[(swap_dia_total_repro['tipo'] == 'Reprogramación')\n",
    "                   & (swap_dia_total_repro['month_report'] == month_conc) \n",
    "                   & (swap_dia_total_repro['year_report'] == year_conc),'tipo_reprogramacion'] = 'repro_mismo_mes'\n",
    "swap_dia_total_repro['tipo_reprogramacion'].fillna('repro_otro_mes',inplace=True)\n",
    "swap_dia_total_repro.head()"
   ]
  },
  {
   "cell_type": "code",
   "execution_count": null,
   "metadata": {},
   "outputs": [],
   "source": [
    "pivot_tipo_repro = pd.pivot_table(swap_dia_total_repro,index=['type','Date'],\n",
    "                                  columns=['tipo_reprogramacion'],\n",
    "                                  values=['total_due']\n",
    "                                  ,aggfunc = ['sum', len],margins=True)\n",
    "pivot_tipo_repro.reset_index(drop=False, inplace=True)\n",
    "pivot_tipo_repro.head()"
   ]
  },
  {
   "cell_type": "markdown",
   "metadata": {},
   "source": [
    "# FAST PAYMENTS"
   ]
  },
  {
   "cell_type": "code",
   "execution_count": null,
   "metadata": {},
   "outputs": [],
   "source": [
    "all_disp_fp = all_disp[(all_disp['type'] == 'INSTANT')]\n",
    "all_disp_fp.head()"
   ]
  },
  {
   "cell_type": "code",
   "execution_count": null,
   "metadata": {},
   "outputs": [],
   "source": [
    "all_disp_fp.shape"
   ]
  },
  {
   "cell_type": "code",
   "execution_count": null,
   "metadata": {},
   "outputs": [],
   "source": [
    "pivot_total_fp = pd.pivot_table(all_disp_fp,index=['type','Date'],values=['total_due'],\n",
    "                                  aggfunc = ['sum', len],\n",
    "                                  margins=True)\n",
    "pivot_total_fp.reset_index(drop=False, inplace=True)\n",
    "pivot_total_fp.head()"
   ]
  },
  {
   "cell_type": "code",
   "execution_count": null,
   "metadata": {},
   "outputs": [],
   "source": [
    "pivot_parcial_fp = pd.pivot_table(all_disp_fp,index=['type','tipo','Date'],\n",
    "                               columns=['status'],values=['total_due'],aggfunc = ['sum', len],margins=True)\n",
    "pivot_parcial_fp.reset_index(drop=False, inplace=True)\n",
    "pivot_parcial_fp.head()"
   ]
  },
  {
   "cell_type": "markdown",
   "metadata": {},
   "source": [
    "## CATEGORIZACIÓN DE REPROGRAMACIONES - FAST PAYMENTS"
   ]
  },
  {
   "cell_type": "code",
   "execution_count": null,
   "metadata": {},
   "outputs": [],
   "source": [
    "fp_dia_total_repro = all_disp_fp[(all_disp_fp['tipo'] == 'Reprogramación')]\n",
    "fp_dia_total_repro.head()"
   ]
  },
  {
   "cell_type": "code",
   "execution_count": null,
   "metadata": {},
   "outputs": [],
   "source": [
    "fp_dia_total_repro.shape"
   ]
  },
  {
   "cell_type": "code",
   "execution_count": null,
   "metadata": {},
   "outputs": [],
   "source": [
    "fp_dia_total_repro.to_excel('Reprogramaciones_instant.xlsx',index=False)"
   ]
  },
  {
   "cell_type": "code",
   "execution_count": null,
   "metadata": {},
   "outputs": [],
   "source": [
    "fp_dia_total_repro.loc[(fp_dia_total_repro['tipo'] == 'Reprogramación')\n",
    "                   & (fp_dia_total_repro['month_report'] == month_conc) \n",
    "                   & (fp_dia_total_repro['year_report'] == year_conc),'tipo_reprogramacion'] = 'repro_mismo_mes'\n",
    "fp_dia_total_repro['tipo_reprogramacion'].fillna('repro_otro_mes',inplace=True)\n",
    "fp_dia_total_repro.head()"
   ]
  },
  {
   "cell_type": "code",
   "execution_count": null,
   "metadata": {},
   "outputs": [],
   "source": [
    "pivot_tipo_repro_fp = pd.pivot_table(fp_dia_total_repro,index=['type','Date'],\n",
    "                                  columns=['tipo_reprogramacion'],\n",
    "                                  values=['total_due']\n",
    "                                  ,aggfunc = ['sum', len],margins=True)\n",
    "pivot_tipo_repro_fp.fillna(0,inplace=True)\n",
    "pivot_tipo_repro_fp.reset_index(drop=False, inplace=True)\n",
    "pivot_tipo_repro_fp.head()"
   ]
  },
  {
   "cell_type": "markdown",
   "metadata": {},
   "source": [
    "# LEDGER"
   ]
  },
  {
   "cell_type": "code",
   "execution_count": null,
   "metadata": {},
   "outputs": [],
   "source": [
    "all_disp_ledger = all_disp[(all_disp['type'] == 'LEDGER')]\n",
    "all_disp_ledger.head()"
   ]
  },
  {
   "cell_type": "code",
   "execution_count": null,
   "metadata": {},
   "outputs": [],
   "source": [
    "all_disp_ledger.shape"
   ]
  },
  {
   "cell_type": "code",
   "execution_count": null,
   "metadata": {},
   "outputs": [],
   "source": [
    "pivot_total_ledger = pd.pivot_table(all_disp_ledger,index=['type','Date'],values=['total_due'],\n",
    "                                  aggfunc = ['sum', len],\n",
    "                                  margins=True)\n",
    "pivot_total_ledger.reset_index(drop=False, inplace=True)\n",
    "pivot_total_ledger.head()"
   ]
  },
  {
   "cell_type": "code",
   "execution_count": null,
   "metadata": {},
   "outputs": [],
   "source": [
    "pivot_total_ledger.shape"
   ]
  },
  {
   "cell_type": "code",
   "execution_count": null,
   "metadata": {},
   "outputs": [],
   "source": [
    "pivot_parcial_ledger = pd.pivot_table(all_disp_ledger,index=['type','tipo','Date'],\n",
    "                               columns=['status'],values=['total_due'],aggfunc = ['sum', len],margins=True)\n",
    "pivot_parcial_ledger.reset_index(drop=False, inplace=True)\n",
    "pivot_parcial_ledger.head()"
   ]
  },
  {
   "cell_type": "markdown",
   "metadata": {},
   "source": [
    "## CATEGORIZACION DE REPROGRAMACIONES - LEDGER "
   ]
  },
  {
   "cell_type": "code",
   "execution_count": null,
   "metadata": {},
   "outputs": [],
   "source": [
    "ledger_dia_total_repro = all_disp_ledger[(all_disp_ledger['tipo'] == 'Reprogramación')]\n",
    "ledger_dia_total_repro.head()"
   ]
  },
  {
   "cell_type": "code",
   "execution_count": null,
   "metadata": {},
   "outputs": [],
   "source": [
    "ledger_dia_total_repro.shape"
   ]
  },
  {
   "cell_type": "code",
   "execution_count": null,
   "metadata": {},
   "outputs": [],
   "source": [
    "ledger_dia_total_repro.to_excel('Reprogramaciones_ledger.xlsx',index=False)"
   ]
  },
  {
   "cell_type": "code",
   "execution_count": null,
   "metadata": {},
   "outputs": [],
   "source": [
    "ledger_dia_total_repro.loc[(ledger_dia_total_repro['tipo'] == 'Reprogramación')\n",
    "                   & (ledger_dia_total_repro['month_report'] == month_conc) \n",
    "                   & (ledger_dia_total_repro['year_report'] == year_conc),'tipo_reprogramacion'] = 'repro_mismo_mes'\n",
    "ledger_dia_total_repro['tipo_reprogramacion'].fillna('repro_otro_mes',inplace=True)\n",
    "ledger_dia_total_repro.head()"
   ]
  },
  {
   "cell_type": "code",
   "execution_count": null,
   "metadata": {},
   "outputs": [],
   "source": [
    "pivot_tipo_repro_ledger = pd.pivot_table(ledger_dia_total_repro,index=['type','Date'],\n",
    "                                  columns=['tipo_reprogramacion'],\n",
    "                                  values=['total_due']\n",
    "                                  ,aggfunc = ['sum', len],margins=True)\n",
    "pivot_tipo_repro_ledger.fillna(0,inplace=True)\n",
    "pivot_tipo_repro_ledger.reset_index(drop=False, inplace=True)\n",
    "pivot_tipo_repro_ledger.head()"
   ]
  },
  {
   "cell_type": "code",
   "execution_count": null,
   "metadata": {},
   "outputs": [],
   "source": [
    "pivot_tipo_repro_ledger.shape"
   ]
  },
  {
   "cell_type": "markdown",
   "metadata": {},
   "source": [
    "# EXCEL FINAL"
   ]
  },
  {
   "cell_type": "code",
   "execution_count": null,
   "metadata": {},
   "outputs": [],
   "source": [
    "writer = pd.ExcelWriter('FASE IV. REPROGRAMACIONES NOVIEMBRE 2023.xlsx',\n",
    "                        engine='xlsxwriter',\n",
    "                        engine_kwargs={'options': {'encoding':'utf-8'}})\n",
    "pivot_total_trad.to_excel(writer, sheet_name='TRADICIONAL TOTAL')\n",
    "pivot_parcial_trad.to_excel(writer, sheet_name='TRADICIONAL PARCIAL')\n",
    "pivot_total_fp.to_excel(writer, sheet_name='FP TOTAL')\n",
    "pivot_parcial_fp.to_excel(writer, sheet_name='FP PARCIAL')\n",
    "pivot_total_ledger.to_excel(writer, sheet_name='LEDGER TOTAL')\n",
    "pivot_parcial_ledger.to_excel(writer, sheet_name='LEDGER PARCIAL')\n",
    "pivot_tipo_repro.to_excel(writer, sheet_name='CATEGORIZACION REPRO TRAD')\n",
    "pivot_tipo_repro_fp.to_excel(writer, sheet_name='CATEGORIZACION REPRO FP')\n",
    "pivot_tipo_repro_ledger.to_excel(writer, sheet_name='CATEGORIZACION REPRO LEDGER')\n",
    "writer.close()"
   ]
  },
  {
   "cell_type": "code",
   "execution_count": null,
   "metadata": {},
   "outputs": [],
   "source": []
  }
 ],
 "metadata": {
  "kernelspec": {
   "display_name": "Python 3 (ipykernel)",
   "language": "python",
   "name": "python3"
  },
  "language_info": {
   "codemirror_mode": {
    "name": "ipython",
    "version": 3
   },
   "file_extension": ".py",
   "mimetype": "text/x-python",
   "name": "python",
   "nbconvert_exporter": "python",
   "pygments_lexer": "ipython3",
   "version": "3.9.18"
  }
 },
 "nbformat": 4,
 "nbformat_minor": 4
}
