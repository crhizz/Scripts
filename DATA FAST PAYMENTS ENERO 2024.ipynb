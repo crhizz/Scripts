{
 "cells": [
  {
   "cell_type": "code",
   "execution_count": 1,
   "metadata": {},
   "outputs": [],
   "source": [
    "import pandas as pd\n",
    "import numpy as np\n",
    "from openpyxl import load_workbook\n",
    "import glob\n",
    "import os\n",
    "pd.options.display.float_format = '{:,.2f}'.format"
   ]
  },
  {
   "cell_type": "code",
   "execution_count": 2,
   "metadata": {},
   "outputs": [],
   "source": [
    "start_date = '2024-01-01'\n",
    "final_date = '2024-01-31'"
   ]
  },
  {
   "cell_type": "markdown",
   "metadata": {},
   "source": [
    "# RESPUESTAS FP"
   ]
  },
  {
   "cell_type": "code",
   "execution_count": 3,
   "metadata": {},
   "outputs": [],
   "source": [
    "bin1 = pd.read_csv(r'C:\\Users\\Cristian.Aparicio\\Documents\\DISPERSIONES\\Catalogo_Bancos.csv'\n",
    "                   ,dtype={'BIN':str,'Clave de la institución':str,'Nombre de la institución':str})"
   ]
  },
  {
   "cell_type": "code",
   "execution_count": 4,
   "metadata": {},
   "outputs": [
    {
     "data": {
      "text/html": [
       "<div>\n",
       "<style scoped>\n",
       "    .dataframe tbody tr th:only-of-type {\n",
       "        vertical-align: middle;\n",
       "    }\n",
       "\n",
       "    .dataframe tbody tr th {\n",
       "        vertical-align: top;\n",
       "    }\n",
       "\n",
       "    .dataframe thead th {\n",
       "        text-align: right;\n",
       "    }\n",
       "</style>\n",
       "<table border=\"1\" class=\"dataframe\">\n",
       "  <thead>\n",
       "    <tr style=\"text-align: right;\">\n",
       "      <th></th>\n",
       "      <th>BIN</th>\n",
       "      <th>Clave de la institución</th>\n",
       "      <th>Nombre de la institución</th>\n",
       "    </tr>\n",
       "  </thead>\n",
       "  <tbody>\n",
       "    <tr>\n",
       "      <th>0</th>\n",
       "      <td>138</td>\n",
       "      <td>40138</td>\n",
       "      <td>ABC CAPITAL</td>\n",
       "    </tr>\n",
       "    <tr>\n",
       "      <th>1</th>\n",
       "      <td>102</td>\n",
       "      <td>40102</td>\n",
       "      <td>ACCENDO BANCO</td>\n",
       "    </tr>\n",
       "    <tr>\n",
       "      <th>2</th>\n",
       "      <td>133</td>\n",
       "      <td>40133</td>\n",
       "      <td>ACTINVER</td>\n",
       "    </tr>\n",
       "    <tr>\n",
       "      <th>3</th>\n",
       "      <td>062</td>\n",
       "      <td>40062</td>\n",
       "      <td>AFIRME</td>\n",
       "    </tr>\n",
       "    <tr>\n",
       "      <th>4</th>\n",
       "      <td>638</td>\n",
       "      <td>90638</td>\n",
       "      <td>AKALA</td>\n",
       "    </tr>\n",
       "  </tbody>\n",
       "</table>\n",
       "</div>"
      ],
      "text/plain": [
       "   BIN Clave de la institución Nombre de la institución\n",
       "0  138                   40138              ABC CAPITAL\n",
       "1  102                   40102            ACCENDO BANCO\n",
       "2  133                   40133                 ACTINVER\n",
       "3  062                   40062                   AFIRME\n",
       "4  638                   90638                    AKALA"
      ]
     },
     "execution_count": 4,
     "metadata": {},
     "output_type": "execute_result"
    }
   ],
   "source": [
    "bin1.head()"
   ]
  },
  {
   "cell_type": "code",
   "execution_count": 5,
   "metadata": {},
   "outputs": [
    {
     "data": {
      "text/plain": [
       "['C:\\\\Users\\\\Cristian.Aparicio\\\\Documents\\\\FAST PAYMENTS\\\\2024\\\\01. ENERO\\\\ARCHIVO RESPUESTAS FINALES\\\\Respuesta-FP-ALL 2024-01-01.csv',\n",
       " 'C:\\\\Users\\\\Cristian.Aparicio\\\\Documents\\\\FAST PAYMENTS\\\\2024\\\\01. ENERO\\\\ARCHIVO RESPUESTAS FINALES\\\\Respuesta-FP-ALL 2024-01-02.csv',\n",
       " 'C:\\\\Users\\\\Cristian.Aparicio\\\\Documents\\\\FAST PAYMENTS\\\\2024\\\\01. ENERO\\\\ARCHIVO RESPUESTAS FINALES\\\\Respuesta-FP-ALL 2024-01-03.csv',\n",
       " 'C:\\\\Users\\\\Cristian.Aparicio\\\\Documents\\\\FAST PAYMENTS\\\\2024\\\\01. ENERO\\\\ARCHIVO RESPUESTAS FINALES\\\\Respuesta-FP-ALL 2024-01-04.csv',\n",
       " 'C:\\\\Users\\\\Cristian.Aparicio\\\\Documents\\\\FAST PAYMENTS\\\\2024\\\\01. ENERO\\\\ARCHIVO RESPUESTAS FINALES\\\\Respuesta-FP-ALL 2024-01-05.csv',\n",
       " 'C:\\\\Users\\\\Cristian.Aparicio\\\\Documents\\\\FAST PAYMENTS\\\\2024\\\\01. ENERO\\\\ARCHIVO RESPUESTAS FINALES\\\\Respuesta-FP-ALL 2024-01-06.csv',\n",
       " 'C:\\\\Users\\\\Cristian.Aparicio\\\\Documents\\\\FAST PAYMENTS\\\\2024\\\\01. ENERO\\\\ARCHIVO RESPUESTAS FINALES\\\\Respuesta-FP-ALL 2024-01-07.csv',\n",
       " 'C:\\\\Users\\\\Cristian.Aparicio\\\\Documents\\\\FAST PAYMENTS\\\\2024\\\\01. ENERO\\\\ARCHIVO RESPUESTAS FINALES\\\\Respuesta-FP-ALL 2024-01-08.csv',\n",
       " 'C:\\\\Users\\\\Cristian.Aparicio\\\\Documents\\\\FAST PAYMENTS\\\\2024\\\\01. ENERO\\\\ARCHIVO RESPUESTAS FINALES\\\\Respuesta-FP-ALL 2024-01-09.csv',\n",
       " 'C:\\\\Users\\\\Cristian.Aparicio\\\\Documents\\\\FAST PAYMENTS\\\\2024\\\\01. ENERO\\\\ARCHIVO RESPUESTAS FINALES\\\\Respuesta-FP-ALL 2024-01-10.csv',\n",
       " 'C:\\\\Users\\\\Cristian.Aparicio\\\\Documents\\\\FAST PAYMENTS\\\\2024\\\\01. ENERO\\\\ARCHIVO RESPUESTAS FINALES\\\\Respuesta-FP-ALL 2024-01-11.csv',\n",
       " 'C:\\\\Users\\\\Cristian.Aparicio\\\\Documents\\\\FAST PAYMENTS\\\\2024\\\\01. ENERO\\\\ARCHIVO RESPUESTAS FINALES\\\\Respuesta-FP-ALL 2024-01-12.csv',\n",
       " 'C:\\\\Users\\\\Cristian.Aparicio\\\\Documents\\\\FAST PAYMENTS\\\\2024\\\\01. ENERO\\\\ARCHIVO RESPUESTAS FINALES\\\\Respuesta-FP-ALL 2024-01-13.csv',\n",
       " 'C:\\\\Users\\\\Cristian.Aparicio\\\\Documents\\\\FAST PAYMENTS\\\\2024\\\\01. ENERO\\\\ARCHIVO RESPUESTAS FINALES\\\\Respuesta-FP-ALL 2024-01-14.csv',\n",
       " 'C:\\\\Users\\\\Cristian.Aparicio\\\\Documents\\\\FAST PAYMENTS\\\\2024\\\\01. ENERO\\\\ARCHIVO RESPUESTAS FINALES\\\\Respuesta-FP-ALL 2024-01-15.csv',\n",
       " 'C:\\\\Users\\\\Cristian.Aparicio\\\\Documents\\\\FAST PAYMENTS\\\\2024\\\\01. ENERO\\\\ARCHIVO RESPUESTAS FINALES\\\\Respuesta-FP-ALL 2024-01-16.csv',\n",
       " 'C:\\\\Users\\\\Cristian.Aparicio\\\\Documents\\\\FAST PAYMENTS\\\\2024\\\\01. ENERO\\\\ARCHIVO RESPUESTAS FINALES\\\\Respuesta-FP-ALL 2024-01-17.csv',\n",
       " 'C:\\\\Users\\\\Cristian.Aparicio\\\\Documents\\\\FAST PAYMENTS\\\\2024\\\\01. ENERO\\\\ARCHIVO RESPUESTAS FINALES\\\\Respuesta-FP-ALL 2024-01-18.csv',\n",
       " 'C:\\\\Users\\\\Cristian.Aparicio\\\\Documents\\\\FAST PAYMENTS\\\\2024\\\\01. ENERO\\\\ARCHIVO RESPUESTAS FINALES\\\\Respuesta-FP-ALL 2024-01-19.csv',\n",
       " 'C:\\\\Users\\\\Cristian.Aparicio\\\\Documents\\\\FAST PAYMENTS\\\\2024\\\\01. ENERO\\\\ARCHIVO RESPUESTAS FINALES\\\\Respuesta-FP-ALL 2024-01-20.csv',\n",
       " 'C:\\\\Users\\\\Cristian.Aparicio\\\\Documents\\\\FAST PAYMENTS\\\\2024\\\\01. ENERO\\\\ARCHIVO RESPUESTAS FINALES\\\\Respuesta-FP-ALL 2024-01-21.csv',\n",
       " 'C:\\\\Users\\\\Cristian.Aparicio\\\\Documents\\\\FAST PAYMENTS\\\\2024\\\\01. ENERO\\\\ARCHIVO RESPUESTAS FINALES\\\\Respuesta-FP-ALL 2024-01-22.csv',\n",
       " 'C:\\\\Users\\\\Cristian.Aparicio\\\\Documents\\\\FAST PAYMENTS\\\\2024\\\\01. ENERO\\\\ARCHIVO RESPUESTAS FINALES\\\\Respuesta-FP-ALL 2024-01-23.csv',\n",
       " 'C:\\\\Users\\\\Cristian.Aparicio\\\\Documents\\\\FAST PAYMENTS\\\\2024\\\\01. ENERO\\\\ARCHIVO RESPUESTAS FINALES\\\\Respuesta-FP-ALL 2024-01-24.csv',\n",
       " 'C:\\\\Users\\\\Cristian.Aparicio\\\\Documents\\\\FAST PAYMENTS\\\\2024\\\\01. ENERO\\\\ARCHIVO RESPUESTAS FINALES\\\\Respuesta-FP-ALL 2024-01-25.csv',\n",
       " 'C:\\\\Users\\\\Cristian.Aparicio\\\\Documents\\\\FAST PAYMENTS\\\\2024\\\\01. ENERO\\\\ARCHIVO RESPUESTAS FINALES\\\\Respuesta-FP-ALL 2024-01-26.csv',\n",
       " 'C:\\\\Users\\\\Cristian.Aparicio\\\\Documents\\\\FAST PAYMENTS\\\\2024\\\\01. ENERO\\\\ARCHIVO RESPUESTAS FINALES\\\\Respuesta-FP-ALL 2024-01-27.csv',\n",
       " 'C:\\\\Users\\\\Cristian.Aparicio\\\\Documents\\\\FAST PAYMENTS\\\\2024\\\\01. ENERO\\\\ARCHIVO RESPUESTAS FINALES\\\\Respuesta-FP-ALL 2024-01-28.csv',\n",
       " 'C:\\\\Users\\\\Cristian.Aparicio\\\\Documents\\\\FAST PAYMENTS\\\\2024\\\\01. ENERO\\\\ARCHIVO RESPUESTAS FINALES\\\\Respuesta-FP-ALL 2024-01-29.csv',\n",
       " 'C:\\\\Users\\\\Cristian.Aparicio\\\\Documents\\\\FAST PAYMENTS\\\\2024\\\\01. ENERO\\\\ARCHIVO RESPUESTAS FINALES\\\\Respuesta-FP-ALL 2024-01-30.csv',\n",
       " 'C:\\\\Users\\\\Cristian.Aparicio\\\\Documents\\\\FAST PAYMENTS\\\\2024\\\\01. ENERO\\\\ARCHIVO RESPUESTAS FINALES\\\\Respuesta-FP-ALL 2024-01-31.csv']"
      ]
     },
     "execution_count": 5,
     "metadata": {},
     "output_type": "execute_result"
    }
   ],
   "source": [
    "rfp_1 = glob.glob(r'C:\\Users\\Cristian.Aparicio\\Documents\\FAST PAYMENTS\\2024\\01. ENERO\\ARCHIVO RESPUESTAS FINALES\\*.csv', recursive=False)\n",
    "rfp_1"
   ]
  },
  {
   "cell_type": "code",
   "execution_count": 6,
   "metadata": {},
   "outputs": [
    {
     "data": {
      "text/html": [
       "<div>\n",
       "<style scoped>\n",
       "    .dataframe tbody tr th:only-of-type {\n",
       "        vertical-align: middle;\n",
       "    }\n",
       "\n",
       "    .dataframe tbody tr th {\n",
       "        vertical-align: top;\n",
       "    }\n",
       "\n",
       "    .dataframe thead th {\n",
       "        text-align: right;\n",
       "    }\n",
       "</style>\n",
       "<table border=\"1\" class=\"dataframe\">\n",
       "  <thead>\n",
       "    <tr style=\"text-align: right;\">\n",
       "      <th></th>\n",
       "      <th>report_id</th>\n",
       "      <th>status</th>\n",
       "      <th>report_date_local</th>\n",
       "      <th>amount</th>\n",
       "      <th>disbursement_batch_id</th>\n",
       "      <th>merchant_id</th>\n",
       "      <th>CLABE</th>\n",
       "      <th>bank_name</th>\n",
       "      <th>bank_account_owner_name</th>\n",
       "      <th>execution_date</th>\n",
       "      <th>...</th>\n",
       "      <th>reference_number</th>\n",
       "      <th>cep</th>\n",
       "      <th>file_name</th>\n",
       "      <th>Batch_time</th>\n",
       "      <th>Banco_emisor</th>\n",
       "      <th>Banco emisor</th>\n",
       "      <th>INDEX</th>\n",
       "      <th>Date_respuesta</th>\n",
       "      <th>BIN</th>\n",
       "      <th>date_envio</th>\n",
       "    </tr>\n",
       "  </thead>\n",
       "  <tbody>\n",
       "    <tr>\n",
       "      <th>0</th>\n",
       "      <td>A5LLH3TWL</td>\n",
       "      <td>PAID</td>\n",
       "      <td>2024-01-01T17:40:13</td>\n",
       "      <td>565.36</td>\n",
       "      <td>95871322-c555-47b9-976a-d4b2f58efeed</td>\n",
       "      <td>00bf0fb9-405a-4b41-9ace-14dfe8e0b471</td>\n",
       "      <td>127456013890994028</td>\n",
       "      <td>AZTECA</td>\n",
       "      <td>Omar Polo Ochoa</td>\n",
       "      <td>2024-01-01T00:00</td>\n",
       "      <td>...</td>\n",
       "      <td>400001</td>\n",
       "      <td>2024-01-01,42644264202401012759868669,40072,40...</td>\n",
       "      <td>Respuesta-FP-ALL 2024-01-01.csv</td>\n",
       "      <td>02. Second_batch</td>\n",
       "      <td>BANORTE</td>\n",
       "      <td>40072</td>\n",
       "      <td>A5LLH3TWL_02.Second_batch</td>\n",
       "      <td>2024-01-01</td>\n",
       "      <td>127</td>\n",
       "      <td>2024-01-01</td>\n",
       "    </tr>\n",
       "    <tr>\n",
       "      <th>1</th>\n",
       "      <td>AQC8LSXPP</td>\n",
       "      <td>PAID</td>\n",
       "      <td>2023-12-27T13:05:46</td>\n",
       "      <td>6,707.68</td>\n",
       "      <td>95871322-c555-47b9-976a-d4b2f58efeed</td>\n",
       "      <td>012c539f-c3e7-47e0-8f0a-17d8c3c5ad85</td>\n",
       "      <td>058597000021452105</td>\n",
       "      <td>Banco Regional de Monterrey</td>\n",
       "      <td>Enrique Villafuerte</td>\n",
       "      <td>2024-01-01T00:00</td>\n",
       "      <td>...</td>\n",
       "      <td>400002</td>\n",
       "      <td>2024-01-01,42644264202401012759868932,40072,40...</td>\n",
       "      <td>Respuesta-FP-ALL 2024-01-01.csv</td>\n",
       "      <td>02. Second_batch</td>\n",
       "      <td>BANORTE</td>\n",
       "      <td>40072</td>\n",
       "      <td>AQC8LSXPP_02.Second_batch</td>\n",
       "      <td>2024-01-01</td>\n",
       "      <td>058</td>\n",
       "      <td>2024-01-01</td>\n",
       "    </tr>\n",
       "    <tr>\n",
       "      <th>2</th>\n",
       "      <td>AN4WCDXMG</td>\n",
       "      <td>PAID</td>\n",
       "      <td>2024-01-01T17:40:11</td>\n",
       "      <td>1,145.10</td>\n",
       "      <td>95871322-c555-47b9-976a-d4b2f58efeed</td>\n",
       "      <td>019d425c-787f-4b39-99bd-e6641505ee39</td>\n",
       "      <td>659802020000267294</td>\n",
       "      <td>Opciones Empresariales del Noreste, S.A. de C....</td>\n",
       "      <td>Jose Guadalupe Herrera Acosta</td>\n",
       "      <td>2024-01-01T00:00</td>\n",
       "      <td>...</td>\n",
       "      <td>400003</td>\n",
       "      <td>2024-01-01,42644264202401012759868749,40072,90...</td>\n",
       "      <td>Respuesta-FP-ALL 2024-01-01.csv</td>\n",
       "      <td>02. Second_batch</td>\n",
       "      <td>BANORTE</td>\n",
       "      <td>40072</td>\n",
       "      <td>AN4WCDXMG_02.Second_batch</td>\n",
       "      <td>2024-01-01</td>\n",
       "      <td>659</td>\n",
       "      <td>2024-01-01</td>\n",
       "    </tr>\n",
       "    <tr>\n",
       "      <th>3</th>\n",
       "      <td>A6K44SCY7</td>\n",
       "      <td>PAID</td>\n",
       "      <td>2024-01-01T17:40:16</td>\n",
       "      <td>1,092.39</td>\n",
       "      <td>95871322-c555-47b9-976a-d4b2f58efeed</td>\n",
       "      <td>0309b87e-4422-4fb4-9eb6-f6a437c863d9</td>\n",
       "      <td>659802020000008903</td>\n",
       "      <td>ASP INTEGRA OPC</td>\n",
       "      <td>Angela Vargas Albino</td>\n",
       "      <td>2024-01-01T00:00</td>\n",
       "      <td>...</td>\n",
       "      <td>400004</td>\n",
       "      <td>2024-01-01,42644264202401012759868995,40072,90...</td>\n",
       "      <td>Respuesta-FP-ALL 2024-01-01.csv</td>\n",
       "      <td>02. Second_batch</td>\n",
       "      <td>BANORTE</td>\n",
       "      <td>40072</td>\n",
       "      <td>A6K44SCY7_02.Second_batch</td>\n",
       "      <td>2024-01-01</td>\n",
       "      <td>659</td>\n",
       "      <td>2024-01-01</td>\n",
       "    </tr>\n",
       "    <tr>\n",
       "      <th>4</th>\n",
       "      <td>AFHCGM26B</td>\n",
       "      <td>PAID</td>\n",
       "      <td>2024-01-01T17:40:17</td>\n",
       "      <td>766.59</td>\n",
       "      <td>95871322-c555-47b9-976a-d4b2f58efeed</td>\n",
       "      <td>0312be20-d0d4-480c-b877-3fcc640f95e7</td>\n",
       "      <td>659802020000065302</td>\n",
       "      <td>Opciones Empresariales del Noreste, S.A. de C....</td>\n",
       "      <td>David Aaron Fuentes Granados</td>\n",
       "      <td>2024-01-01T00:00</td>\n",
       "      <td>...</td>\n",
       "      <td>400005</td>\n",
       "      <td>2024-01-01,42644264202401012759868827,40072,90...</td>\n",
       "      <td>Respuesta-FP-ALL 2024-01-01.csv</td>\n",
       "      <td>02. Second_batch</td>\n",
       "      <td>BANORTE</td>\n",
       "      <td>40072</td>\n",
       "      <td>AFHCGM26B_02.Second_batch</td>\n",
       "      <td>2024-01-01</td>\n",
       "      <td>659</td>\n",
       "      <td>2024-01-01</td>\n",
       "    </tr>\n",
       "  </tbody>\n",
       "</table>\n",
       "<p>5 rows × 23 columns</p>\n",
       "</div>"
      ],
      "text/plain": [
       "   report_id status    report_date_local   amount  \\\n",
       "0  A5LLH3TWL   PAID  2024-01-01T17:40:13   565.36   \n",
       "1  AQC8LSXPP   PAID  2023-12-27T13:05:46 6,707.68   \n",
       "2  AN4WCDXMG   PAID  2024-01-01T17:40:11 1,145.10   \n",
       "3  A6K44SCY7   PAID  2024-01-01T17:40:16 1,092.39   \n",
       "4  AFHCGM26B   PAID  2024-01-01T17:40:17   766.59   \n",
       "\n",
       "                  disbursement_batch_id                           merchant_id  \\\n",
       "0  95871322-c555-47b9-976a-d4b2f58efeed  00bf0fb9-405a-4b41-9ace-14dfe8e0b471   \n",
       "1  95871322-c555-47b9-976a-d4b2f58efeed  012c539f-c3e7-47e0-8f0a-17d8c3c5ad85   \n",
       "2  95871322-c555-47b9-976a-d4b2f58efeed  019d425c-787f-4b39-99bd-e6641505ee39   \n",
       "3  95871322-c555-47b9-976a-d4b2f58efeed  0309b87e-4422-4fb4-9eb6-f6a437c863d9   \n",
       "4  95871322-c555-47b9-976a-d4b2f58efeed  0312be20-d0d4-480c-b877-3fcc640f95e7   \n",
       "\n",
       "                CLABE                                          bank_name  \\\n",
       "0  127456013890994028                                             AZTECA   \n",
       "1  058597000021452105                        Banco Regional de Monterrey   \n",
       "2  659802020000267294  Opciones Empresariales del Noreste, S.A. de C....   \n",
       "3  659802020000008903                                    ASP INTEGRA OPC   \n",
       "4  659802020000065302  Opciones Empresariales del Noreste, S.A. de C....   \n",
       "\n",
       "         bank_account_owner_name    execution_date  ... reference_number  \\\n",
       "0                Omar Polo Ochoa  2024-01-01T00:00  ...           400001   \n",
       "1            Enrique Villafuerte  2024-01-01T00:00  ...           400002   \n",
       "2  Jose Guadalupe Herrera Acosta  2024-01-01T00:00  ...           400003   \n",
       "3           Angela Vargas Albino  2024-01-01T00:00  ...           400004   \n",
       "4   David Aaron Fuentes Granados  2024-01-01T00:00  ...           400005   \n",
       "\n",
       "                                                 cep  \\\n",
       "0  2024-01-01,42644264202401012759868669,40072,40...   \n",
       "1  2024-01-01,42644264202401012759868932,40072,40...   \n",
       "2  2024-01-01,42644264202401012759868749,40072,90...   \n",
       "3  2024-01-01,42644264202401012759868995,40072,90...   \n",
       "4  2024-01-01,42644264202401012759868827,40072,90...   \n",
       "\n",
       "                         file_name        Batch_time Banco_emisor  \\\n",
       "0  Respuesta-FP-ALL 2024-01-01.csv  02. Second_batch      BANORTE   \n",
       "1  Respuesta-FP-ALL 2024-01-01.csv  02. Second_batch      BANORTE   \n",
       "2  Respuesta-FP-ALL 2024-01-01.csv  02. Second_batch      BANORTE   \n",
       "3  Respuesta-FP-ALL 2024-01-01.csv  02. Second_batch      BANORTE   \n",
       "4  Respuesta-FP-ALL 2024-01-01.csv  02. Second_batch      BANORTE   \n",
       "\n",
       "  Banco emisor                      INDEX Date_respuesta  BIN date_envio  \n",
       "0        40072  A5LLH3TWL_02.Second_batch     2024-01-01  127 2024-01-01  \n",
       "1        40072  AQC8LSXPP_02.Second_batch     2024-01-01  058 2024-01-01  \n",
       "2        40072  AN4WCDXMG_02.Second_batch     2024-01-01  659 2024-01-01  \n",
       "3        40072  A6K44SCY7_02.Second_batch     2024-01-01  659 2024-01-01  \n",
       "4        40072  AFHCGM26B_02.Second_batch     2024-01-01  659 2024-01-01  \n",
       "\n",
       "[5 rows x 23 columns]"
      ]
     },
     "execution_count": 6,
     "metadata": {},
     "output_type": "execute_result"
    }
   ],
   "source": [
    "rfp_cons = pd.concat([pd.read_csv(f,dtype={'report_id':object,'disbursement_tracking_key':object,'CLABE':object})\n",
    "                      .assign(file_name=os.path.basename(f)) for f in rfp_1])\n",
    "rfp_cons['date_envio'] = rfp_cons[\"file_name\"].str[-14:-4]\n",
    "rfp_cons['date_envio']= pd.to_datetime(rfp_cons['date_envio'])\n",
    "rfp_cons['BIN'] = rfp_cons['CLABE'].str[:3].replace(' ', '',regex=True)\n",
    "rfp_cons.head()"
   ]
  },
  {
   "cell_type": "code",
   "execution_count": 7,
   "metadata": {},
   "outputs": [
    {
     "data": {
      "text/plain": [
       "(74601, 23)"
      ]
     },
     "execution_count": 7,
     "metadata": {},
     "output_type": "execute_result"
    }
   ],
   "source": [
    "rfp_cons.shape"
   ]
  },
  {
   "cell_type": "code",
   "execution_count": 8,
   "metadata": {},
   "outputs": [
    {
     "data": {
      "text/html": [
       "<div>\n",
       "<style scoped>\n",
       "    .dataframe tbody tr th:only-of-type {\n",
       "        vertical-align: middle;\n",
       "    }\n",
       "\n",
       "    .dataframe tbody tr th {\n",
       "        vertical-align: top;\n",
       "    }\n",
       "\n",
       "    .dataframe thead th {\n",
       "        text-align: right;\n",
       "    }\n",
       "</style>\n",
       "<table border=\"1\" class=\"dataframe\">\n",
       "  <thead>\n",
       "    <tr style=\"text-align: right;\">\n",
       "      <th></th>\n",
       "      <th>report_id</th>\n",
       "      <th>status</th>\n",
       "      <th>report_date_local</th>\n",
       "      <th>amount</th>\n",
       "      <th>disbursement_batch_id</th>\n",
       "      <th>merchant_id</th>\n",
       "      <th>CLABE</th>\n",
       "      <th>bank_name</th>\n",
       "      <th>bank_account_owner_name</th>\n",
       "      <th>execution_date</th>\n",
       "      <th>...</th>\n",
       "      <th>reference_number</th>\n",
       "      <th>cep</th>\n",
       "      <th>file_name</th>\n",
       "      <th>Batch_time</th>\n",
       "      <th>Banco_emisor</th>\n",
       "      <th>Banco emisor</th>\n",
       "      <th>INDEX</th>\n",
       "      <th>Date_respuesta</th>\n",
       "      <th>BIN</th>\n",
       "      <th>date_envio</th>\n",
       "    </tr>\n",
       "  </thead>\n",
       "  <tbody>\n",
       "    <tr>\n",
       "      <th>0</th>\n",
       "      <td>A5LLH3TWL</td>\n",
       "      <td>PAID</td>\n",
       "      <td>2024-01-01T17:40:13</td>\n",
       "      <td>565.36</td>\n",
       "      <td>95871322-c555-47b9-976a-d4b2f58efeed</td>\n",
       "      <td>00bf0fb9-405a-4b41-9ace-14dfe8e0b471</td>\n",
       "      <td>127456013890994028</td>\n",
       "      <td>AZTECA</td>\n",
       "      <td>Omar Polo Ochoa</td>\n",
       "      <td>2024-01-01T00:00</td>\n",
       "      <td>...</td>\n",
       "      <td>400001</td>\n",
       "      <td>2024-01-01,42644264202401012759868669,40072,40...</td>\n",
       "      <td>Respuesta-FP-ALL 2024-01-01.csv</td>\n",
       "      <td>02. Second_batch</td>\n",
       "      <td>BANORTE</td>\n",
       "      <td>40072</td>\n",
       "      <td>A5LLH3TWL_02.Second_batch</td>\n",
       "      <td>2024-01-01</td>\n",
       "      <td>127</td>\n",
       "      <td>2024-01-01</td>\n",
       "    </tr>\n",
       "    <tr>\n",
       "      <th>1</th>\n",
       "      <td>AQC8LSXPP</td>\n",
       "      <td>PAID</td>\n",
       "      <td>2023-12-27T13:05:46</td>\n",
       "      <td>6,707.68</td>\n",
       "      <td>95871322-c555-47b9-976a-d4b2f58efeed</td>\n",
       "      <td>012c539f-c3e7-47e0-8f0a-17d8c3c5ad85</td>\n",
       "      <td>058597000021452105</td>\n",
       "      <td>Banco Regional de Monterrey</td>\n",
       "      <td>Enrique Villafuerte</td>\n",
       "      <td>2024-01-01T00:00</td>\n",
       "      <td>...</td>\n",
       "      <td>400002</td>\n",
       "      <td>2024-01-01,42644264202401012759868932,40072,40...</td>\n",
       "      <td>Respuesta-FP-ALL 2024-01-01.csv</td>\n",
       "      <td>02. Second_batch</td>\n",
       "      <td>BANORTE</td>\n",
       "      <td>40072</td>\n",
       "      <td>AQC8LSXPP_02.Second_batch</td>\n",
       "      <td>2024-01-01</td>\n",
       "      <td>058</td>\n",
       "      <td>2024-01-01</td>\n",
       "    </tr>\n",
       "    <tr>\n",
       "      <th>2</th>\n",
       "      <td>AN4WCDXMG</td>\n",
       "      <td>PAID</td>\n",
       "      <td>2024-01-01T17:40:11</td>\n",
       "      <td>1,145.10</td>\n",
       "      <td>95871322-c555-47b9-976a-d4b2f58efeed</td>\n",
       "      <td>019d425c-787f-4b39-99bd-e6641505ee39</td>\n",
       "      <td>659802020000267294</td>\n",
       "      <td>Opciones Empresariales del Noreste, S.A. de C....</td>\n",
       "      <td>Jose Guadalupe Herrera Acosta</td>\n",
       "      <td>2024-01-01T00:00</td>\n",
       "      <td>...</td>\n",
       "      <td>400003</td>\n",
       "      <td>2024-01-01,42644264202401012759868749,40072,90...</td>\n",
       "      <td>Respuesta-FP-ALL 2024-01-01.csv</td>\n",
       "      <td>02. Second_batch</td>\n",
       "      <td>BANORTE</td>\n",
       "      <td>40072</td>\n",
       "      <td>AN4WCDXMG_02.Second_batch</td>\n",
       "      <td>2024-01-01</td>\n",
       "      <td>659</td>\n",
       "      <td>2024-01-01</td>\n",
       "    </tr>\n",
       "    <tr>\n",
       "      <th>3</th>\n",
       "      <td>A6K44SCY7</td>\n",
       "      <td>PAID</td>\n",
       "      <td>2024-01-01T17:40:16</td>\n",
       "      <td>1,092.39</td>\n",
       "      <td>95871322-c555-47b9-976a-d4b2f58efeed</td>\n",
       "      <td>0309b87e-4422-4fb4-9eb6-f6a437c863d9</td>\n",
       "      <td>659802020000008903</td>\n",
       "      <td>ASP INTEGRA OPC</td>\n",
       "      <td>Angela Vargas Albino</td>\n",
       "      <td>2024-01-01T00:00</td>\n",
       "      <td>...</td>\n",
       "      <td>400004</td>\n",
       "      <td>2024-01-01,42644264202401012759868995,40072,90...</td>\n",
       "      <td>Respuesta-FP-ALL 2024-01-01.csv</td>\n",
       "      <td>02. Second_batch</td>\n",
       "      <td>BANORTE</td>\n",
       "      <td>40072</td>\n",
       "      <td>A6K44SCY7_02.Second_batch</td>\n",
       "      <td>2024-01-01</td>\n",
       "      <td>659</td>\n",
       "      <td>2024-01-01</td>\n",
       "    </tr>\n",
       "    <tr>\n",
       "      <th>4</th>\n",
       "      <td>AFHCGM26B</td>\n",
       "      <td>PAID</td>\n",
       "      <td>2024-01-01T17:40:17</td>\n",
       "      <td>766.59</td>\n",
       "      <td>95871322-c555-47b9-976a-d4b2f58efeed</td>\n",
       "      <td>0312be20-d0d4-480c-b877-3fcc640f95e7</td>\n",
       "      <td>659802020000065302</td>\n",
       "      <td>Opciones Empresariales del Noreste, S.A. de C....</td>\n",
       "      <td>David Aaron Fuentes Granados</td>\n",
       "      <td>2024-01-01T00:00</td>\n",
       "      <td>...</td>\n",
       "      <td>400005</td>\n",
       "      <td>2024-01-01,42644264202401012759868827,40072,90...</td>\n",
       "      <td>Respuesta-FP-ALL 2024-01-01.csv</td>\n",
       "      <td>02. Second_batch</td>\n",
       "      <td>BANORTE</td>\n",
       "      <td>40072</td>\n",
       "      <td>AFHCGM26B_02.Second_batch</td>\n",
       "      <td>2024-01-01</td>\n",
       "      <td>659</td>\n",
       "      <td>2024-01-01</td>\n",
       "    </tr>\n",
       "  </tbody>\n",
       "</table>\n",
       "<p>5 rows × 23 columns</p>\n",
       "</div>"
      ],
      "text/plain": [
       "   report_id status    report_date_local   amount  \\\n",
       "0  A5LLH3TWL   PAID  2024-01-01T17:40:13   565.36   \n",
       "1  AQC8LSXPP   PAID  2023-12-27T13:05:46 6,707.68   \n",
       "2  AN4WCDXMG   PAID  2024-01-01T17:40:11 1,145.10   \n",
       "3  A6K44SCY7   PAID  2024-01-01T17:40:16 1,092.39   \n",
       "4  AFHCGM26B   PAID  2024-01-01T17:40:17   766.59   \n",
       "\n",
       "                  disbursement_batch_id                           merchant_id  \\\n",
       "0  95871322-c555-47b9-976a-d4b2f58efeed  00bf0fb9-405a-4b41-9ace-14dfe8e0b471   \n",
       "1  95871322-c555-47b9-976a-d4b2f58efeed  012c539f-c3e7-47e0-8f0a-17d8c3c5ad85   \n",
       "2  95871322-c555-47b9-976a-d4b2f58efeed  019d425c-787f-4b39-99bd-e6641505ee39   \n",
       "3  95871322-c555-47b9-976a-d4b2f58efeed  0309b87e-4422-4fb4-9eb6-f6a437c863d9   \n",
       "4  95871322-c555-47b9-976a-d4b2f58efeed  0312be20-d0d4-480c-b877-3fcc640f95e7   \n",
       "\n",
       "                CLABE                                          bank_name  \\\n",
       "0  127456013890994028                                             AZTECA   \n",
       "1  058597000021452105                        Banco Regional de Monterrey   \n",
       "2  659802020000267294  Opciones Empresariales del Noreste, S.A. de C....   \n",
       "3  659802020000008903                                    ASP INTEGRA OPC   \n",
       "4  659802020000065302  Opciones Empresariales del Noreste, S.A. de C....   \n",
       "\n",
       "         bank_account_owner_name    execution_date  ... reference_number  \\\n",
       "0                Omar Polo Ochoa  2024-01-01T00:00  ...           400001   \n",
       "1            Enrique Villafuerte  2024-01-01T00:00  ...           400002   \n",
       "2  Jose Guadalupe Herrera Acosta  2024-01-01T00:00  ...           400003   \n",
       "3           Angela Vargas Albino  2024-01-01T00:00  ...           400004   \n",
       "4   David Aaron Fuentes Granados  2024-01-01T00:00  ...           400005   \n",
       "\n",
       "                                                 cep  \\\n",
       "0  2024-01-01,42644264202401012759868669,40072,40...   \n",
       "1  2024-01-01,42644264202401012759868932,40072,40...   \n",
       "2  2024-01-01,42644264202401012759868749,40072,90...   \n",
       "3  2024-01-01,42644264202401012759868995,40072,90...   \n",
       "4  2024-01-01,42644264202401012759868827,40072,90...   \n",
       "\n",
       "                         file_name        Batch_time Banco_emisor  \\\n",
       "0  Respuesta-FP-ALL 2024-01-01.csv  02. Second_batch      BANORTE   \n",
       "1  Respuesta-FP-ALL 2024-01-01.csv  02. Second_batch      BANORTE   \n",
       "2  Respuesta-FP-ALL 2024-01-01.csv  02. Second_batch      BANORTE   \n",
       "3  Respuesta-FP-ALL 2024-01-01.csv  02. Second_batch      BANORTE   \n",
       "4  Respuesta-FP-ALL 2024-01-01.csv  02. Second_batch      BANORTE   \n",
       "\n",
       "  Banco emisor                      INDEX Date_respuesta  BIN date_envio  \n",
       "0        40072  A5LLH3TWL_02.Second_batch     2024-01-01  127 2024-01-01  \n",
       "1        40072  AQC8LSXPP_02.Second_batch     2024-01-01  058 2024-01-01  \n",
       "2        40072  AN4WCDXMG_02.Second_batch     2024-01-01  659 2024-01-01  \n",
       "3        40072  A6K44SCY7_02.Second_batch     2024-01-01  659 2024-01-01  \n",
       "4        40072  AFHCGM26B_02.Second_batch     2024-01-01  659 2024-01-01  \n",
       "\n",
       "[5 rows x 23 columns]"
      ]
     },
     "execution_count": 8,
     "metadata": {},
     "output_type": "execute_result"
    }
   ],
   "source": [
    "rfp_total = rfp_cons[(rfp_cons['date_envio'] >= start_date) & (rfp_cons['date_envio'] <= final_date)]\n",
    "rfp_total.head()"
   ]
  },
  {
   "cell_type": "code",
   "execution_count": 9,
   "metadata": {},
   "outputs": [
    {
     "data": {
      "text/plain": [
       "(74601, 23)"
      ]
     },
     "execution_count": 9,
     "metadata": {},
     "output_type": "execute_result"
    }
   ],
   "source": [
    "rfp_total.shape"
   ]
  },
  {
   "cell_type": "code",
   "execution_count": 10,
   "metadata": {},
   "outputs": [
    {
     "data": {
      "text/plain": [
       "<DatetimeArray>\n",
       "['2024-01-01 00:00:00', '2024-01-02 00:00:00', '2024-01-03 00:00:00',\n",
       " '2024-01-04 00:00:00', '2024-01-05 00:00:00', '2024-01-06 00:00:00',\n",
       " '2024-01-07 00:00:00', '2024-01-08 00:00:00', '2024-01-09 00:00:00',\n",
       " '2024-01-10 00:00:00', '2024-01-11 00:00:00', '2024-01-12 00:00:00',\n",
       " '2024-01-13 00:00:00', '2024-01-14 00:00:00', '2024-01-15 00:00:00',\n",
       " '2024-01-16 00:00:00', '2024-01-17 00:00:00', '2024-01-18 00:00:00',\n",
       " '2024-01-19 00:00:00', '2024-01-20 00:00:00', '2024-01-21 00:00:00',\n",
       " '2024-01-22 00:00:00', '2024-01-23 00:00:00', '2024-01-24 00:00:00',\n",
       " '2024-01-25 00:00:00', '2024-01-26 00:00:00', '2024-01-27 00:00:00',\n",
       " '2024-01-28 00:00:00', '2024-01-29 00:00:00', '2024-01-30 00:00:00',\n",
       " '2024-01-31 00:00:00']\n",
       "Length: 31, dtype: datetime64[ns]"
      ]
     },
     "execution_count": 10,
     "metadata": {},
     "output_type": "execute_result"
    }
   ],
   "source": [
    "rfp_total['date_envio'].unique()"
   ]
  },
  {
   "cell_type": "code",
   "execution_count": 11,
   "metadata": {},
   "outputs": [
    {
     "data": {
      "text/html": [
       "<div>\n",
       "<style scoped>\n",
       "    .dataframe tbody tr th:only-of-type {\n",
       "        vertical-align: middle;\n",
       "    }\n",
       "\n",
       "    .dataframe tbody tr th {\n",
       "        vertical-align: top;\n",
       "    }\n",
       "\n",
       "    .dataframe thead th {\n",
       "        text-align: right;\n",
       "    }\n",
       "</style>\n",
       "<table border=\"1\" class=\"dataframe\">\n",
       "  <thead>\n",
       "    <tr style=\"text-align: right;\">\n",
       "      <th></th>\n",
       "      <th>report_id</th>\n",
       "      <th>status</th>\n",
       "      <th>report_date_local</th>\n",
       "      <th>amount</th>\n",
       "      <th>disbursement_batch_id</th>\n",
       "      <th>merchant_id</th>\n",
       "      <th>CLABE</th>\n",
       "      <th>bank_name</th>\n",
       "      <th>bank_account_owner_name</th>\n",
       "      <th>execution_date</th>\n",
       "      <th>...</th>\n",
       "      <th>Banco emisor</th>\n",
       "      <th>INDEX</th>\n",
       "      <th>Date_respuesta</th>\n",
       "      <th>BIN</th>\n",
       "      <th>date_envio</th>\n",
       "      <th>Clave de la institución</th>\n",
       "      <th>Nombre de la institución</th>\n",
       "      <th>COMISION SIN IVA</th>\n",
       "      <th>IVA</th>\n",
       "      <th>COMISION</th>\n",
       "    </tr>\n",
       "  </thead>\n",
       "  <tbody>\n",
       "    <tr>\n",
       "      <th>0</th>\n",
       "      <td>A5LLH3TWL</td>\n",
       "      <td>PAID</td>\n",
       "      <td>2024-01-01T17:40:13</td>\n",
       "      <td>565.36</td>\n",
       "      <td>95871322-c555-47b9-976a-d4b2f58efeed</td>\n",
       "      <td>00bf0fb9-405a-4b41-9ace-14dfe8e0b471</td>\n",
       "      <td>127456013890994028</td>\n",
       "      <td>AZTECA</td>\n",
       "      <td>Omar Polo Ochoa</td>\n",
       "      <td>2024-01-01T00:00</td>\n",
       "      <td>...</td>\n",
       "      <td>40072</td>\n",
       "      <td>A5LLH3TWL_02.Second_batch</td>\n",
       "      <td>2024-01-01</td>\n",
       "      <td>127</td>\n",
       "      <td>2024-01-01</td>\n",
       "      <td>40127</td>\n",
       "      <td>AZTECA</td>\n",
       "      <td>1.80</td>\n",
       "      <td>0.29</td>\n",
       "      <td>2.09</td>\n",
       "    </tr>\n",
       "    <tr>\n",
       "      <th>1</th>\n",
       "      <td>AQC8LSXPP</td>\n",
       "      <td>PAID</td>\n",
       "      <td>2023-12-27T13:05:46</td>\n",
       "      <td>6,707.68</td>\n",
       "      <td>95871322-c555-47b9-976a-d4b2f58efeed</td>\n",
       "      <td>012c539f-c3e7-47e0-8f0a-17d8c3c5ad85</td>\n",
       "      <td>058597000021452105</td>\n",
       "      <td>Banco Regional de Monterrey</td>\n",
       "      <td>Enrique Villafuerte</td>\n",
       "      <td>2024-01-01T00:00</td>\n",
       "      <td>...</td>\n",
       "      <td>40072</td>\n",
       "      <td>AQC8LSXPP_02.Second_batch</td>\n",
       "      <td>2024-01-01</td>\n",
       "      <td>058</td>\n",
       "      <td>2024-01-01</td>\n",
       "      <td>40058</td>\n",
       "      <td>BANREGIO</td>\n",
       "      <td>1.80</td>\n",
       "      <td>0.29</td>\n",
       "      <td>2.09</td>\n",
       "    </tr>\n",
       "    <tr>\n",
       "      <th>2</th>\n",
       "      <td>AN4WCDXMG</td>\n",
       "      <td>PAID</td>\n",
       "      <td>2024-01-01T17:40:11</td>\n",
       "      <td>1,145.10</td>\n",
       "      <td>95871322-c555-47b9-976a-d4b2f58efeed</td>\n",
       "      <td>019d425c-787f-4b39-99bd-e6641505ee39</td>\n",
       "      <td>659802020000267294</td>\n",
       "      <td>Opciones Empresariales del Noreste, S.A. de C....</td>\n",
       "      <td>Jose Guadalupe Herrera Acosta</td>\n",
       "      <td>2024-01-01T00:00</td>\n",
       "      <td>...</td>\n",
       "      <td>40072</td>\n",
       "      <td>AN4WCDXMG_02.Second_batch</td>\n",
       "      <td>2024-01-01</td>\n",
       "      <td>659</td>\n",
       "      <td>2024-01-01</td>\n",
       "      <td>90659</td>\n",
       "      <td>ASP INTEGRA OPC</td>\n",
       "      <td>1.80</td>\n",
       "      <td>0.29</td>\n",
       "      <td>2.09</td>\n",
       "    </tr>\n",
       "    <tr>\n",
       "      <th>3</th>\n",
       "      <td>A6K44SCY7</td>\n",
       "      <td>PAID</td>\n",
       "      <td>2024-01-01T17:40:16</td>\n",
       "      <td>1,092.39</td>\n",
       "      <td>95871322-c555-47b9-976a-d4b2f58efeed</td>\n",
       "      <td>0309b87e-4422-4fb4-9eb6-f6a437c863d9</td>\n",
       "      <td>659802020000008903</td>\n",
       "      <td>ASP INTEGRA OPC</td>\n",
       "      <td>Angela Vargas Albino</td>\n",
       "      <td>2024-01-01T00:00</td>\n",
       "      <td>...</td>\n",
       "      <td>40072</td>\n",
       "      <td>A6K44SCY7_02.Second_batch</td>\n",
       "      <td>2024-01-01</td>\n",
       "      <td>659</td>\n",
       "      <td>2024-01-01</td>\n",
       "      <td>90659</td>\n",
       "      <td>ASP INTEGRA OPC</td>\n",
       "      <td>1.80</td>\n",
       "      <td>0.29</td>\n",
       "      <td>2.09</td>\n",
       "    </tr>\n",
       "    <tr>\n",
       "      <th>4</th>\n",
       "      <td>AFHCGM26B</td>\n",
       "      <td>PAID</td>\n",
       "      <td>2024-01-01T17:40:17</td>\n",
       "      <td>766.59</td>\n",
       "      <td>95871322-c555-47b9-976a-d4b2f58efeed</td>\n",
       "      <td>0312be20-d0d4-480c-b877-3fcc640f95e7</td>\n",
       "      <td>659802020000065302</td>\n",
       "      <td>Opciones Empresariales del Noreste, S.A. de C....</td>\n",
       "      <td>David Aaron Fuentes Granados</td>\n",
       "      <td>2024-01-01T00:00</td>\n",
       "      <td>...</td>\n",
       "      <td>40072</td>\n",
       "      <td>AFHCGM26B_02.Second_batch</td>\n",
       "      <td>2024-01-01</td>\n",
       "      <td>659</td>\n",
       "      <td>2024-01-01</td>\n",
       "      <td>90659</td>\n",
       "      <td>ASP INTEGRA OPC</td>\n",
       "      <td>1.80</td>\n",
       "      <td>0.29</td>\n",
       "      <td>2.09</td>\n",
       "    </tr>\n",
       "  </tbody>\n",
       "</table>\n",
       "<p>5 rows × 28 columns</p>\n",
       "</div>"
      ],
      "text/plain": [
       "   report_id status    report_date_local   amount  \\\n",
       "0  A5LLH3TWL   PAID  2024-01-01T17:40:13   565.36   \n",
       "1  AQC8LSXPP   PAID  2023-12-27T13:05:46 6,707.68   \n",
       "2  AN4WCDXMG   PAID  2024-01-01T17:40:11 1,145.10   \n",
       "3  A6K44SCY7   PAID  2024-01-01T17:40:16 1,092.39   \n",
       "4  AFHCGM26B   PAID  2024-01-01T17:40:17   766.59   \n",
       "\n",
       "                  disbursement_batch_id                           merchant_id  \\\n",
       "0  95871322-c555-47b9-976a-d4b2f58efeed  00bf0fb9-405a-4b41-9ace-14dfe8e0b471   \n",
       "1  95871322-c555-47b9-976a-d4b2f58efeed  012c539f-c3e7-47e0-8f0a-17d8c3c5ad85   \n",
       "2  95871322-c555-47b9-976a-d4b2f58efeed  019d425c-787f-4b39-99bd-e6641505ee39   \n",
       "3  95871322-c555-47b9-976a-d4b2f58efeed  0309b87e-4422-4fb4-9eb6-f6a437c863d9   \n",
       "4  95871322-c555-47b9-976a-d4b2f58efeed  0312be20-d0d4-480c-b877-3fcc640f95e7   \n",
       "\n",
       "                CLABE                                          bank_name  \\\n",
       "0  127456013890994028                                             AZTECA   \n",
       "1  058597000021452105                        Banco Regional de Monterrey   \n",
       "2  659802020000267294  Opciones Empresariales del Noreste, S.A. de C....   \n",
       "3  659802020000008903                                    ASP INTEGRA OPC   \n",
       "4  659802020000065302  Opciones Empresariales del Noreste, S.A. de C....   \n",
       "\n",
       "         bank_account_owner_name    execution_date  ... Banco emisor  \\\n",
       "0                Omar Polo Ochoa  2024-01-01T00:00  ...        40072   \n",
       "1            Enrique Villafuerte  2024-01-01T00:00  ...        40072   \n",
       "2  Jose Guadalupe Herrera Acosta  2024-01-01T00:00  ...        40072   \n",
       "3           Angela Vargas Albino  2024-01-01T00:00  ...        40072   \n",
       "4   David Aaron Fuentes Granados  2024-01-01T00:00  ...        40072   \n",
       "\n",
       "                       INDEX Date_respuesta  BIN date_envio  \\\n",
       "0  A5LLH3TWL_02.Second_batch     2024-01-01  127 2024-01-01   \n",
       "1  AQC8LSXPP_02.Second_batch     2024-01-01  058 2024-01-01   \n",
       "2  AN4WCDXMG_02.Second_batch     2024-01-01  659 2024-01-01   \n",
       "3  A6K44SCY7_02.Second_batch     2024-01-01  659 2024-01-01   \n",
       "4  AFHCGM26B_02.Second_batch     2024-01-01  659 2024-01-01   \n",
       "\n",
       "  Clave de la institución Nombre de la institución COMISION SIN IVA  IVA  \\\n",
       "0                   40127                   AZTECA             1.80 0.29   \n",
       "1                   40058                 BANREGIO             1.80 0.29   \n",
       "2                   90659          ASP INTEGRA OPC             1.80 0.29   \n",
       "3                   90659          ASP INTEGRA OPC             1.80 0.29   \n",
       "4                   90659          ASP INTEGRA OPC             1.80 0.29   \n",
       "\n",
       "  COMISION  \n",
       "0     2.09  \n",
       "1     2.09  \n",
       "2     2.09  \n",
       "3     2.09  \n",
       "4     2.09  \n",
       "\n",
       "[5 rows x 28 columns]"
      ]
     },
     "execution_count": 11,
     "metadata": {},
     "output_type": "execute_result"
    }
   ],
   "source": [
    "rfp_total_2 = rfp_total.merge(bin1[['BIN','Clave de la institución','Nombre de la institución']] ,on='BIN', how='left')\n",
    "rfp_total_2.loc[rfp_total_2['Nombre de la institución'] == 'BANORTE/IXE', \"COMISION SIN IVA\"] = 1.05\n",
    "rfp_total_2.loc[rfp_total_2['Nombre de la institución'] != 'BANORTE/IXE', \"COMISION SIN IVA\"] = 1.80\n",
    "rfp_total_2['IVA'] = rfp_total_2['COMISION SIN IVA'] * 0.16\n",
    "rfp_total_2['COMISION'] = rfp_total_2['COMISION SIN IVA'] + rfp_total_2['IVA']\n",
    "rfp_total_2.head()"
   ]
  },
  {
   "cell_type": "code",
   "execution_count": 12,
   "metadata": {},
   "outputs": [
    {
     "data": {
      "text/plain": [
       "(74601, 28)"
      ]
     },
     "execution_count": 12,
     "metadata": {},
     "output_type": "execute_result"
    }
   ],
   "source": [
    "rfp_total_2.shape"
   ]
  },
  {
   "cell_type": "code",
   "execution_count": 13,
   "metadata": {},
   "outputs": [],
   "source": [
    "rfp_final = rfp_total_2[['Date_respuesta','report_date_local','report_id','CLABE','amount','COMISION SIN IVA','IVA',\n",
    "                         'COMISION','status','Nombre de la institución']]\n",
    "# rfp_final['error_description'].fillna('NO ERROR',inplace=True)"
   ]
  },
  {
   "cell_type": "code",
   "execution_count": 14,
   "metadata": {},
   "outputs": [],
   "source": [
    "# rfp_final.loc[~rfp_final['error_description'].str.contains('NO ERROR'), 'status'] = 'ERROR'"
   ]
  },
  {
   "cell_type": "code",
   "execution_count": 15,
   "metadata": {},
   "outputs": [
    {
     "name": "stderr",
     "output_type": "stream",
     "text": [
      "C:\\Users\\Cristian.Aparicio\\AppData\\Local\\Temp\\ipykernel_9608\\128289944.py:1: SettingWithCopyWarning: \n",
      "A value is trying to be set on a copy of a slice from a DataFrame\n",
      "\n",
      "See the caveats in the documentation: https://pandas.pydata.org/pandas-docs/stable/user_guide/indexing.html#returning-a-view-versus-a-copy\n",
      "  rfp_final.sort_values(['Date_respuesta','status'], inplace=True)\n"
     ]
    },
    {
     "data": {
      "text/html": [
       "<div>\n",
       "<style scoped>\n",
       "    .dataframe tbody tr th:only-of-type {\n",
       "        vertical-align: middle;\n",
       "    }\n",
       "\n",
       "    .dataframe tbody tr th {\n",
       "        vertical-align: top;\n",
       "    }\n",
       "\n",
       "    .dataframe thead th {\n",
       "        text-align: right;\n",
       "    }\n",
       "</style>\n",
       "<table border=\"1\" class=\"dataframe\">\n",
       "  <thead>\n",
       "    <tr style=\"text-align: right;\">\n",
       "      <th></th>\n",
       "      <th>Date_respuesta</th>\n",
       "      <th>report_date_local</th>\n",
       "      <th>report_id</th>\n",
       "      <th>CLABE</th>\n",
       "      <th>amount</th>\n",
       "      <th>COMISION SIN IVA</th>\n",
       "      <th>IVA</th>\n",
       "      <th>COMISION</th>\n",
       "      <th>status</th>\n",
       "      <th>Nombre de la institución</th>\n",
       "    </tr>\n",
       "  </thead>\n",
       "  <tbody>\n",
       "    <tr>\n",
       "      <th>18</th>\n",
       "      <td>2024-01-01</td>\n",
       "      <td>2024-01-01T13:05:20</td>\n",
       "      <td>AR3LJGSXN</td>\n",
       "      <td>677248044011352464</td>\n",
       "      <td>1,612.24</td>\n",
       "      <td>1.80</td>\n",
       "      <td>0.29</td>\n",
       "      <td>2.09</td>\n",
       "      <td>ERROR</td>\n",
       "      <td>CAJA POP MEXICA</td>\n",
       "    </tr>\n",
       "    <tr>\n",
       "      <th>23</th>\n",
       "      <td>2024-01-01</td>\n",
       "      <td>2024-01-01T13:05:13</td>\n",
       "      <td>ARHPK56L6</td>\n",
       "      <td>677225043224574231</td>\n",
       "      <td>670.76</td>\n",
       "      <td>1.80</td>\n",
       "      <td>0.29</td>\n",
       "      <td>2.09</td>\n",
       "      <td>ERROR</td>\n",
       "      <td>CAJA POP MEXICA</td>\n",
       "    </tr>\n",
       "    <tr>\n",
       "      <th>25</th>\n",
       "      <td>2024-01-01</td>\n",
       "      <td>2024-01-01T13:05:21</td>\n",
       "      <td>A95HMQCJ8</td>\n",
       "      <td>677010042278353012</td>\n",
       "      <td>924.70</td>\n",
       "      <td>1.80</td>\n",
       "      <td>0.29</td>\n",
       "      <td>2.09</td>\n",
       "      <td>ERROR</td>\n",
       "      <td>CAJA POP MEXICA</td>\n",
       "    </tr>\n",
       "    <tr>\n",
       "      <th>112</th>\n",
       "      <td>2024-01-01</td>\n",
       "      <td>2024-01-01T17:40:11</td>\n",
       "      <td>ATJ5WYZKZ</td>\n",
       "      <td>659802020000577065</td>\n",
       "      <td>9,582.40</td>\n",
       "      <td>1.80</td>\n",
       "      <td>0.29</td>\n",
       "      <td>2.09</td>\n",
       "      <td>ERROR</td>\n",
       "      <td>ASP INTEGRA OPC</td>\n",
       "    </tr>\n",
       "    <tr>\n",
       "      <th>120</th>\n",
       "      <td>2024-01-01</td>\n",
       "      <td>2024-01-01T13:05:08</td>\n",
       "      <td>ANGQHNPVT</td>\n",
       "      <td>677245044147354368</td>\n",
       "      <td>383.30</td>\n",
       "      <td>1.80</td>\n",
       "      <td>0.29</td>\n",
       "      <td>2.09</td>\n",
       "      <td>ERROR</td>\n",
       "      <td>CAJA POP MEXICA</td>\n",
       "    </tr>\n",
       "  </tbody>\n",
       "</table>\n",
       "</div>"
      ],
      "text/plain": [
       "    Date_respuesta    report_date_local  report_id               CLABE  \\\n",
       "18      2024-01-01  2024-01-01T13:05:20  AR3LJGSXN  677248044011352464   \n",
       "23      2024-01-01  2024-01-01T13:05:13  ARHPK56L6  677225043224574231   \n",
       "25      2024-01-01  2024-01-01T13:05:21  A95HMQCJ8  677010042278353012   \n",
       "112     2024-01-01  2024-01-01T17:40:11  ATJ5WYZKZ  659802020000577065   \n",
       "120     2024-01-01  2024-01-01T13:05:08  ANGQHNPVT  677245044147354368   \n",
       "\n",
       "      amount  COMISION SIN IVA  IVA  COMISION status Nombre de la institución  \n",
       "18  1,612.24              1.80 0.29      2.09  ERROR          CAJA POP MEXICA  \n",
       "23    670.76              1.80 0.29      2.09  ERROR          CAJA POP MEXICA  \n",
       "25    924.70              1.80 0.29      2.09  ERROR          CAJA POP MEXICA  \n",
       "112 9,582.40              1.80 0.29      2.09  ERROR          ASP INTEGRA OPC  \n",
       "120   383.30              1.80 0.29      2.09  ERROR          CAJA POP MEXICA  "
      ]
     },
     "execution_count": 15,
     "metadata": {},
     "output_type": "execute_result"
    }
   ],
   "source": [
    "rfp_final.sort_values(['Date_respuesta','status'], inplace=True)\n",
    "rfp_final.head()"
   ]
  },
  {
   "cell_type": "code",
   "execution_count": 16,
   "metadata": {},
   "outputs": [
    {
     "data": {
      "text/plain": [
       "(74601, 10)"
      ]
     },
     "execution_count": 16,
     "metadata": {},
     "output_type": "execute_result"
    }
   ],
   "source": [
    "rfp_final.shape"
   ]
  },
  {
   "cell_type": "code",
   "execution_count": 17,
   "metadata": {},
   "outputs": [],
   "source": [
    "# rfp_final_paid = rfp_final[(rfp_final['status'] == 'PAID')]\n",
    "# rfp_final_paid.head()"
   ]
  },
  {
   "cell_type": "code",
   "execution_count": 18,
   "metadata": {},
   "outputs": [],
   "source": [
    "# rfp_final_paid.shape"
   ]
  },
  {
   "cell_type": "code",
   "execution_count": 19,
   "metadata": {},
   "outputs": [
    {
     "name": "stderr",
     "output_type": "stream",
     "text": [
      "C:\\Users\\Cristian.Aparicio\\AppData\\Local\\Temp\\ipykernel_9608\\3572161389.py:1: FutureWarning: The provided callable <function sum at 0x000002C8C78CA0D0> is currently using DataFrameGroupBy.sum. In a future version of pandas, the provided callable will be used directly. To keep current behavior pass the string \"sum\" instead.\n",
      "  rfp_final_payment = pd.pivot_table(rfp_final,index=[\"Date_respuesta\"],values=[\"amount\",'COMISION SIN IVA','IVA','COMISION']\n"
     ]
    }
   ],
   "source": [
    "rfp_final_payment = pd.pivot_table(rfp_final,index=[\"Date_respuesta\"],values=[\"amount\",'COMISION SIN IVA','IVA','COMISION']\n",
    "                                      ,aggfunc=np.sum,margins=True)\n",
    "rfp_final_payment = rfp_final_payment.reset_index(drop=False)\n"
   ]
  },
  {
   "cell_type": "code",
   "execution_count": 20,
   "metadata": {},
   "outputs": [
    {
     "data": {
      "text/html": [
       "<div>\n",
       "<style scoped>\n",
       "    .dataframe tbody tr th:only-of-type {\n",
       "        vertical-align: middle;\n",
       "    }\n",
       "\n",
       "    .dataframe tbody tr th {\n",
       "        vertical-align: top;\n",
       "    }\n",
       "\n",
       "    .dataframe thead th {\n",
       "        text-align: right;\n",
       "    }\n",
       "</style>\n",
       "<table border=\"1\" class=\"dataframe\">\n",
       "  <thead>\n",
       "    <tr style=\"text-align: right;\">\n",
       "      <th></th>\n",
       "      <th>Date_respuesta</th>\n",
       "      <th>amount</th>\n",
       "      <th>COMISION SIN IVA</th>\n",
       "      <th>IVA</th>\n",
       "      <th>COMISION</th>\n",
       "    </tr>\n",
       "  </thead>\n",
       "  <tbody>\n",
       "    <tr>\n",
       "      <th>0</th>\n",
       "      <td>2024-01-01</td>\n",
       "      <td>1,677,947.06</td>\n",
       "      <td>2,104.80</td>\n",
       "      <td>336.77</td>\n",
       "      <td>2,441.57</td>\n",
       "    </tr>\n",
       "    <tr>\n",
       "      <th>1</th>\n",
       "      <td>2024-01-02</td>\n",
       "      <td>2,900,343.26</td>\n",
       "      <td>4,709.55</td>\n",
       "      <td>753.53</td>\n",
       "      <td>5,463.08</td>\n",
       "    </tr>\n",
       "    <tr>\n",
       "      <th>2</th>\n",
       "      <td>2024-01-03</td>\n",
       "      <td>1,749,042.46</td>\n",
       "      <td>4,273.50</td>\n",
       "      <td>683.76</td>\n",
       "      <td>4,957.26</td>\n",
       "    </tr>\n",
       "    <tr>\n",
       "      <th>3</th>\n",
       "      <td>2024-01-04</td>\n",
       "      <td>2,717,041.63</td>\n",
       "      <td>4,676.70</td>\n",
       "      <td>748.27</td>\n",
       "      <td>5,424.97</td>\n",
       "    </tr>\n",
       "    <tr>\n",
       "      <th>4</th>\n",
       "      <td>2024-01-05</td>\n",
       "      <td>1,968,067.50</td>\n",
       "      <td>4,390.80</td>\n",
       "      <td>702.53</td>\n",
       "      <td>5,093.33</td>\n",
       "    </tr>\n",
       "  </tbody>\n",
       "</table>\n",
       "</div>"
      ],
      "text/plain": [
       "  Date_respuesta       amount  COMISION SIN IVA    IVA  COMISION\n",
       "0     2024-01-01 1,677,947.06          2,104.80 336.77  2,441.57\n",
       "1     2024-01-02 2,900,343.26          4,709.55 753.53  5,463.08\n",
       "2     2024-01-03 1,749,042.46          4,273.50 683.76  4,957.26\n",
       "3     2024-01-04 2,717,041.63          4,676.70 748.27  5,424.97\n",
       "4     2024-01-05 1,968,067.50          4,390.80 702.53  5,093.33"
      ]
     },
     "execution_count": 20,
     "metadata": {},
     "output_type": "execute_result"
    }
   ],
   "source": [
    "rfp_final_payment_pivot = rfp_final_payment[['Date_respuesta','amount','COMISION SIN IVA','IVA','COMISION']]\n",
    "rfp_final_payment_pivot.head()"
   ]
  },
  {
   "cell_type": "code",
   "execution_count": 21,
   "metadata": {},
   "outputs": [
    {
     "data": {
      "text/plain": [
       "(32, 5)"
      ]
     },
     "execution_count": 21,
     "metadata": {},
     "output_type": "execute_result"
    }
   ],
   "source": [
    "rfp_final_payment_pivot.shape"
   ]
  },
  {
   "cell_type": "code",
   "execution_count": 22,
   "metadata": {},
   "outputs": [
    {
     "name": "stderr",
     "output_type": "stream",
     "text": [
      "C:\\Users\\Cristian.Aparicio\\AppData\\Local\\Temp\\ipykernel_9608\\2992343940.py:1: FutureWarning: The provided callable <function sum at 0x000002C8C78CA0D0> is currently using DataFrameGroupBy.sum. In a future version of pandas, the provided callable will be used directly. To keep current behavior pass the string \"sum\" instead.\n",
      "  rfp_final_date_res = pd.pivot_table(rfp_final,index=[\"Date_respuesta\"],values=[\"amount\",'COMISION SIN IVA','IVA','COMISION']\n"
     ]
    }
   ],
   "source": [
    "rfp_final_date_res = pd.pivot_table(rfp_final,index=[\"Date_respuesta\"],values=[\"amount\",'COMISION SIN IVA','IVA','COMISION']\n",
    "                                      ,aggfunc=np.sum,margins=True)\n",
    "rfp_final_date_res = rfp_final_date_res.reset_index(drop=False)\n"
   ]
  },
  {
   "cell_type": "code",
   "execution_count": 23,
   "metadata": {},
   "outputs": [
    {
     "data": {
      "text/html": [
       "<div>\n",
       "<style scoped>\n",
       "    .dataframe tbody tr th:only-of-type {\n",
       "        vertical-align: middle;\n",
       "    }\n",
       "\n",
       "    .dataframe tbody tr th {\n",
       "        vertical-align: top;\n",
       "    }\n",
       "\n",
       "    .dataframe thead th {\n",
       "        text-align: right;\n",
       "    }\n",
       "</style>\n",
       "<table border=\"1\" class=\"dataframe\">\n",
       "  <thead>\n",
       "    <tr style=\"text-align: right;\">\n",
       "      <th></th>\n",
       "      <th>Date_respuesta</th>\n",
       "      <th>amount</th>\n",
       "      <th>COMISION SIN IVA</th>\n",
       "      <th>IVA</th>\n",
       "      <th>COMISION</th>\n",
       "    </tr>\n",
       "  </thead>\n",
       "  <tbody>\n",
       "    <tr>\n",
       "      <th>0</th>\n",
       "      <td>2024-01-01</td>\n",
       "      <td>1,677,947.06</td>\n",
       "      <td>2,104.80</td>\n",
       "      <td>336.77</td>\n",
       "      <td>2,441.57</td>\n",
       "    </tr>\n",
       "    <tr>\n",
       "      <th>1</th>\n",
       "      <td>2024-01-02</td>\n",
       "      <td>2,900,343.26</td>\n",
       "      <td>4,709.55</td>\n",
       "      <td>753.53</td>\n",
       "      <td>5,463.08</td>\n",
       "    </tr>\n",
       "    <tr>\n",
       "      <th>2</th>\n",
       "      <td>2024-01-03</td>\n",
       "      <td>1,749,042.46</td>\n",
       "      <td>4,273.50</td>\n",
       "      <td>683.76</td>\n",
       "      <td>4,957.26</td>\n",
       "    </tr>\n",
       "    <tr>\n",
       "      <th>3</th>\n",
       "      <td>2024-01-04</td>\n",
       "      <td>2,717,041.63</td>\n",
       "      <td>4,676.70</td>\n",
       "      <td>748.27</td>\n",
       "      <td>5,424.97</td>\n",
       "    </tr>\n",
       "    <tr>\n",
       "      <th>4</th>\n",
       "      <td>2024-01-05</td>\n",
       "      <td>1,968,067.50</td>\n",
       "      <td>4,390.80</td>\n",
       "      <td>702.53</td>\n",
       "      <td>5,093.33</td>\n",
       "    </tr>\n",
       "  </tbody>\n",
       "</table>\n",
       "</div>"
      ],
      "text/plain": [
       "  Date_respuesta       amount  COMISION SIN IVA    IVA  COMISION\n",
       "0     2024-01-01 1,677,947.06          2,104.80 336.77  2,441.57\n",
       "1     2024-01-02 2,900,343.26          4,709.55 753.53  5,463.08\n",
       "2     2024-01-03 1,749,042.46          4,273.50 683.76  4,957.26\n",
       "3     2024-01-04 2,717,041.63          4,676.70 748.27  5,424.97\n",
       "4     2024-01-05 1,968,067.50          4,390.80 702.53  5,093.33"
      ]
     },
     "execution_count": 23,
     "metadata": {},
     "output_type": "execute_result"
    }
   ],
   "source": [
    "rfp_final_date_res_pivot = rfp_final_date_res[['Date_respuesta','amount','COMISION SIN IVA','IVA','COMISION']]\n",
    "rfp_final_date_res_pivot.head()"
   ]
  },
  {
   "cell_type": "code",
   "execution_count": 24,
   "metadata": {},
   "outputs": [
    {
     "data": {
      "text/plain": [
       "(32, 5)"
      ]
     },
     "execution_count": 24,
     "metadata": {},
     "output_type": "execute_result"
    }
   ],
   "source": [
    "rfp_final_date_res_pivot.shape"
   ]
  },
  {
   "cell_type": "code",
   "execution_count": 25,
   "metadata": {},
   "outputs": [
    {
     "name": "stderr",
     "output_type": "stream",
     "text": [
      "C:\\Users\\Cristian.Aparicio\\AppData\\Local\\Temp\\ipykernel_9608\\102650674.py:1: FutureWarning: The provided callable <function sum at 0x000002C8C78CA0D0> is currently using DataFrameGroupBy.sum. In a future version of pandas, the provided callable will be used directly. To keep current behavior pass the string \"sum\" instead.\n",
      "  rfp_final_status = pd.pivot_table(rfp_final,index=[\"Date_respuesta\",'status'],values=[\"amount\",'COMISION SIN IVA','IVA','COMISION']\n"
     ]
    }
   ],
   "source": [
    "rfp_final_status = pd.pivot_table(rfp_final,index=[\"Date_respuesta\",'status'],values=[\"amount\",'COMISION SIN IVA','IVA','COMISION']\n",
    "                                      ,aggfunc=np.sum,margins=True)\n",
    "rfp_final_status = rfp_final_status.reset_index(drop=False)\n"
   ]
  },
  {
   "cell_type": "code",
   "execution_count": 26,
   "metadata": {},
   "outputs": [
    {
     "data": {
      "text/html": [
       "<div>\n",
       "<style scoped>\n",
       "    .dataframe tbody tr th:only-of-type {\n",
       "        vertical-align: middle;\n",
       "    }\n",
       "\n",
       "    .dataframe tbody tr th {\n",
       "        vertical-align: top;\n",
       "    }\n",
       "\n",
       "    .dataframe thead th {\n",
       "        text-align: right;\n",
       "    }\n",
       "</style>\n",
       "<table border=\"1\" class=\"dataframe\">\n",
       "  <thead>\n",
       "    <tr style=\"text-align: right;\">\n",
       "      <th></th>\n",
       "      <th>Date_respuesta</th>\n",
       "      <th>status</th>\n",
       "      <th>amount</th>\n",
       "      <th>COMISION SIN IVA</th>\n",
       "      <th>IVA</th>\n",
       "      <th>COMISION</th>\n",
       "    </tr>\n",
       "  </thead>\n",
       "  <tbody>\n",
       "    <tr>\n",
       "      <th>0</th>\n",
       "      <td>2024-01-01</td>\n",
       "      <td>ERROR</td>\n",
       "      <td>356,957.18</td>\n",
       "      <td>63.00</td>\n",
       "      <td>10.08</td>\n",
       "      <td>73.08</td>\n",
       "    </tr>\n",
       "    <tr>\n",
       "      <th>1</th>\n",
       "      <td>2024-01-01</td>\n",
       "      <td>PAID</td>\n",
       "      <td>1,320,989.88</td>\n",
       "      <td>2,041.80</td>\n",
       "      <td>326.69</td>\n",
       "      <td>2,368.49</td>\n",
       "    </tr>\n",
       "    <tr>\n",
       "      <th>2</th>\n",
       "      <td>2024-01-02</td>\n",
       "      <td>ERROR</td>\n",
       "      <td>385,732.19</td>\n",
       "      <td>182.85</td>\n",
       "      <td>29.26</td>\n",
       "      <td>212.11</td>\n",
       "    </tr>\n",
       "    <tr>\n",
       "      <th>3</th>\n",
       "      <td>2024-01-02</td>\n",
       "      <td>ERROR_TV</td>\n",
       "      <td>18,478.71</td>\n",
       "      <td>41.40</td>\n",
       "      <td>6.62</td>\n",
       "      <td>48.02</td>\n",
       "    </tr>\n",
       "    <tr>\n",
       "      <th>4</th>\n",
       "      <td>2024-01-02</td>\n",
       "      <td>NEW</td>\n",
       "      <td>172,375.74</td>\n",
       "      <td>106.20</td>\n",
       "      <td>16.99</td>\n",
       "      <td>123.19</td>\n",
       "    </tr>\n",
       "  </tbody>\n",
       "</table>\n",
       "</div>"
      ],
      "text/plain": [
       "  Date_respuesta    status       amount  COMISION SIN IVA    IVA  COMISION\n",
       "0     2024-01-01     ERROR   356,957.18             63.00  10.08     73.08\n",
       "1     2024-01-01      PAID 1,320,989.88          2,041.80 326.69  2,368.49\n",
       "2     2024-01-02     ERROR   385,732.19            182.85  29.26    212.11\n",
       "3     2024-01-02  ERROR_TV    18,478.71             41.40   6.62     48.02\n",
       "4     2024-01-02       NEW   172,375.74            106.20  16.99    123.19"
      ]
     },
     "execution_count": 26,
     "metadata": {},
     "output_type": "execute_result"
    }
   ],
   "source": [
    "rfp_final_status_pivot = rfp_final_status[['Date_respuesta','status','amount','COMISION SIN IVA','IVA','COMISION']]\n",
    "rfp_final_status_pivot.head()"
   ]
  },
  {
   "cell_type": "code",
   "execution_count": 27,
   "metadata": {},
   "outputs": [
    {
     "data": {
      "text/plain": [
       "(91, 6)"
      ]
     },
     "execution_count": 27,
     "metadata": {},
     "output_type": "execute_result"
    }
   ],
   "source": [
    "rfp_final_status_pivot.shape"
   ]
  },
  {
   "cell_type": "code",
   "execution_count": 28,
   "metadata": {},
   "outputs": [],
   "source": [
    "writer = pd.ExcelWriter('FP RESPUESTA ENERO 2024.xlsx',\n",
    "                        engine='xlsxwriter',\n",
    "                        engine_kwargs={'options': {'encoding':'utf-8'}})\n",
    "rfp_final.to_excel(writer, sheet_name='DATA DETALLE',index=False)\n",
    "rfp_final_payment_pivot.to_excel(writer, sheet_name='DATA BY PAYMENT DATE',index=False)\n",
    "rfp_final_date_res_pivot.to_excel(writer, sheet_name='DATA BY DATE RESPUESTA',index=False)\n",
    "rfp_final_status_pivot.to_excel(writer, sheet_name='DATA BY STATUS',index=False)\n",
    "writer.close()"
   ]
  },
  {
   "cell_type": "markdown",
   "metadata": {},
   "source": [
    "# DEVOLUCIONES FAST PAYMENTS"
   ]
  },
  {
   "cell_type": "code",
   "execution_count": 29,
   "metadata": {},
   "outputs": [
    {
     "data": {
      "text/plain": [
       "['C:\\\\Users\\\\Cristian.Aparicio\\\\Documents\\\\FAST PAYMENTS\\\\2024\\\\01. ENERO\\\\ARCHIVO DISPERSIONES FP\\\\Dispersión-FP 2024-01-01.xlsx',\n",
       " 'C:\\\\Users\\\\Cristian.Aparicio\\\\Documents\\\\FAST PAYMENTS\\\\2024\\\\01. ENERO\\\\ARCHIVO DISPERSIONES FP\\\\Dispersión-FP 2024-01-02.xlsx',\n",
       " 'C:\\\\Users\\\\Cristian.Aparicio\\\\Documents\\\\FAST PAYMENTS\\\\2024\\\\01. ENERO\\\\ARCHIVO DISPERSIONES FP\\\\Dispersión-FP 2024-01-03.xlsx',\n",
       " 'C:\\\\Users\\\\Cristian.Aparicio\\\\Documents\\\\FAST PAYMENTS\\\\2024\\\\01. ENERO\\\\ARCHIVO DISPERSIONES FP\\\\Dispersión-FP 2024-01-04.xlsx',\n",
       " 'C:\\\\Users\\\\Cristian.Aparicio\\\\Documents\\\\FAST PAYMENTS\\\\2024\\\\01. ENERO\\\\ARCHIVO DISPERSIONES FP\\\\Dispersión-FP 2024-01-05.xlsx',\n",
       " 'C:\\\\Users\\\\Cristian.Aparicio\\\\Documents\\\\FAST PAYMENTS\\\\2024\\\\01. ENERO\\\\ARCHIVO DISPERSIONES FP\\\\Dispersión-FP 2024-01-06.xlsx',\n",
       " 'C:\\\\Users\\\\Cristian.Aparicio\\\\Documents\\\\FAST PAYMENTS\\\\2024\\\\01. ENERO\\\\ARCHIVO DISPERSIONES FP\\\\Dispersión-FP 2024-01-07.xlsx',\n",
       " 'C:\\\\Users\\\\Cristian.Aparicio\\\\Documents\\\\FAST PAYMENTS\\\\2024\\\\01. ENERO\\\\ARCHIVO DISPERSIONES FP\\\\Dispersión-FP 2024-01-08.xlsx',\n",
       " 'C:\\\\Users\\\\Cristian.Aparicio\\\\Documents\\\\FAST PAYMENTS\\\\2024\\\\01. ENERO\\\\ARCHIVO DISPERSIONES FP\\\\Dispersión-FP 2024-01-09.xlsx',\n",
       " 'C:\\\\Users\\\\Cristian.Aparicio\\\\Documents\\\\FAST PAYMENTS\\\\2024\\\\01. ENERO\\\\ARCHIVO DISPERSIONES FP\\\\Dispersión-FP 2024-01-10.xlsx',\n",
       " 'C:\\\\Users\\\\Cristian.Aparicio\\\\Documents\\\\FAST PAYMENTS\\\\2024\\\\01. ENERO\\\\ARCHIVO DISPERSIONES FP\\\\Dispersión-FP 2024-01-11.xlsx',\n",
       " 'C:\\\\Users\\\\Cristian.Aparicio\\\\Documents\\\\FAST PAYMENTS\\\\2024\\\\01. ENERO\\\\ARCHIVO DISPERSIONES FP\\\\Dispersión-FP 2024-01-12.xlsx',\n",
       " 'C:\\\\Users\\\\Cristian.Aparicio\\\\Documents\\\\FAST PAYMENTS\\\\2024\\\\01. ENERO\\\\ARCHIVO DISPERSIONES FP\\\\Dispersión-FP 2024-01-13.xlsx',\n",
       " 'C:\\\\Users\\\\Cristian.Aparicio\\\\Documents\\\\FAST PAYMENTS\\\\2024\\\\01. ENERO\\\\ARCHIVO DISPERSIONES FP\\\\Dispersión-FP 2024-01-14.xlsx',\n",
       " 'C:\\\\Users\\\\Cristian.Aparicio\\\\Documents\\\\FAST PAYMENTS\\\\2024\\\\01. ENERO\\\\ARCHIVO DISPERSIONES FP\\\\Dispersión-FP 2024-01-15.xlsx',\n",
       " 'C:\\\\Users\\\\Cristian.Aparicio\\\\Documents\\\\FAST PAYMENTS\\\\2024\\\\01. ENERO\\\\ARCHIVO DISPERSIONES FP\\\\Dispersión-FP 2024-01-16.xlsx',\n",
       " 'C:\\\\Users\\\\Cristian.Aparicio\\\\Documents\\\\FAST PAYMENTS\\\\2024\\\\01. ENERO\\\\ARCHIVO DISPERSIONES FP\\\\Dispersión-FP 2024-01-17.xlsx',\n",
       " 'C:\\\\Users\\\\Cristian.Aparicio\\\\Documents\\\\FAST PAYMENTS\\\\2024\\\\01. ENERO\\\\ARCHIVO DISPERSIONES FP\\\\Dispersión-FP 2024-01-18.xlsx',\n",
       " 'C:\\\\Users\\\\Cristian.Aparicio\\\\Documents\\\\FAST PAYMENTS\\\\2024\\\\01. ENERO\\\\ARCHIVO DISPERSIONES FP\\\\Dispersión-FP 2024-01-19.xlsx',\n",
       " 'C:\\\\Users\\\\Cristian.Aparicio\\\\Documents\\\\FAST PAYMENTS\\\\2024\\\\01. ENERO\\\\ARCHIVO DISPERSIONES FP\\\\Dispersión-FP 2024-01-20.xlsx',\n",
       " 'C:\\\\Users\\\\Cristian.Aparicio\\\\Documents\\\\FAST PAYMENTS\\\\2024\\\\01. ENERO\\\\ARCHIVO DISPERSIONES FP\\\\Dispersión-FP 2024-01-21.xlsx',\n",
       " 'C:\\\\Users\\\\Cristian.Aparicio\\\\Documents\\\\FAST PAYMENTS\\\\2024\\\\01. ENERO\\\\ARCHIVO DISPERSIONES FP\\\\Dispersión-FP 2024-01-22.xlsx',\n",
       " 'C:\\\\Users\\\\Cristian.Aparicio\\\\Documents\\\\FAST PAYMENTS\\\\2024\\\\01. ENERO\\\\ARCHIVO DISPERSIONES FP\\\\Dispersión-FP 2024-01-23.xlsx',\n",
       " 'C:\\\\Users\\\\Cristian.Aparicio\\\\Documents\\\\FAST PAYMENTS\\\\2024\\\\01. ENERO\\\\ARCHIVO DISPERSIONES FP\\\\Dispersión-FP 2024-01-24.xlsx',\n",
       " 'C:\\\\Users\\\\Cristian.Aparicio\\\\Documents\\\\FAST PAYMENTS\\\\2024\\\\01. ENERO\\\\ARCHIVO DISPERSIONES FP\\\\Dispersión-FP 2024-01-25.xlsx',\n",
       " 'C:\\\\Users\\\\Cristian.Aparicio\\\\Documents\\\\FAST PAYMENTS\\\\2024\\\\01. ENERO\\\\ARCHIVO DISPERSIONES FP\\\\Dispersión-FP 2024-01-26.xlsx',\n",
       " 'C:\\\\Users\\\\Cristian.Aparicio\\\\Documents\\\\FAST PAYMENTS\\\\2024\\\\01. ENERO\\\\ARCHIVO DISPERSIONES FP\\\\Dispersión-FP 2024-01-27.xlsx',\n",
       " 'C:\\\\Users\\\\Cristian.Aparicio\\\\Documents\\\\FAST PAYMENTS\\\\2024\\\\01. ENERO\\\\ARCHIVO DISPERSIONES FP\\\\Dispersión-FP 2024-01-28.xlsx',\n",
       " 'C:\\\\Users\\\\Cristian.Aparicio\\\\Documents\\\\FAST PAYMENTS\\\\2024\\\\01. ENERO\\\\ARCHIVO DISPERSIONES FP\\\\Dispersión-FP 2024-01-29.xlsx',\n",
       " 'C:\\\\Users\\\\Cristian.Aparicio\\\\Documents\\\\FAST PAYMENTS\\\\2024\\\\01. ENERO\\\\ARCHIVO DISPERSIONES FP\\\\Dispersión-FP 2024-01-30.xlsx',\n",
       " 'C:\\\\Users\\\\Cristian.Aparicio\\\\Documents\\\\FAST PAYMENTS\\\\2024\\\\01. ENERO\\\\ARCHIVO DISPERSIONES FP\\\\Dispersión-FP 2024-01-31.xlsx']"
      ]
     },
     "execution_count": 29,
     "metadata": {},
     "output_type": "execute_result"
    }
   ],
   "source": [
    "dev_files = glob.glob(r'C:\\Users\\Cristian.Aparicio\\Documents\\FAST PAYMENTS\\2024\\01. ENERO\\ARCHIVO DISPERSIONES FP\\Dispersión-FP*.xlsx', recursive=False)\n",
    "dev_files"
   ]
  },
  {
   "cell_type": "code",
   "execution_count": 30,
   "metadata": {},
   "outputs": [
    {
     "data": {
      "text/html": [
       "<div>\n",
       "<style scoped>\n",
       "    .dataframe tbody tr th:only-of-type {\n",
       "        vertical-align: middle;\n",
       "    }\n",
       "\n",
       "    .dataframe tbody tr th {\n",
       "        vertical-align: top;\n",
       "    }\n",
       "\n",
       "    .dataframe thead th {\n",
       "        text-align: right;\n",
       "    }\n",
       "</style>\n",
       "<table border=\"1\" class=\"dataframe\">\n",
       "  <thead>\n",
       "    <tr style=\"text-align: right;\">\n",
       "      <th></th>\n",
       "      <th>type</th>\n",
       "      <th>merchant_id</th>\n",
       "      <th>merchant_name</th>\n",
       "      <th>user_email</th>\n",
       "      <th>report_id</th>\n",
       "      <th>report_date_local</th>\n",
       "      <th>total_due</th>\n",
       "      <th>tipo</th>\n",
       "      <th>bank</th>\n",
       "      <th>batch_time</th>\n",
       "      <th>check</th>\n",
       "      <th>error_description</th>\n",
       "      <th>file_name</th>\n",
       "      <th>date_file</th>\n",
       "    </tr>\n",
       "  </thead>\n",
       "  <tbody>\n",
       "    <tr>\n",
       "      <th>0</th>\n",
       "      <td>LEDGER_FP</td>\n",
       "      <td>0a00f802-ff5a-49c6-8ad6-693c5b544f3f</td>\n",
       "      <td>NaN</td>\n",
       "      <td>NaN</td>\n",
       "      <td>AR3LJGSXN</td>\n",
       "      <td>2024-01-01</td>\n",
       "      <td>1,612.24</td>\n",
       "      <td>Pago del día</td>\n",
       "      <td>CAJA POP MEXICA</td>\n",
       "      <td>02. Second_batch</td>\n",
       "      <td>SPEI DEVUELTO</td>\n",
       "      <td>BANCO RECEPTOR ESTA DESCONECTADO</td>\n",
       "      <td>Dispersión-FP 2024-01-01.xlsx</td>\n",
       "      <td>2024-01-01</td>\n",
       "    </tr>\n",
       "    <tr>\n",
       "      <th>1</th>\n",
       "      <td>LEDGER_FP</td>\n",
       "      <td>0db5a402-c0ef-4efa-ba81-f5ded327b01b</td>\n",
       "      <td>NaN</td>\n",
       "      <td>NaN</td>\n",
       "      <td>ARHPK56L6</td>\n",
       "      <td>2024-01-01</td>\n",
       "      <td>670.76</td>\n",
       "      <td>Pago del día</td>\n",
       "      <td>CAJA POP MEXICA</td>\n",
       "      <td>02. Second_batch</td>\n",
       "      <td>SPEI DEVUELTO</td>\n",
       "      <td>/21/CB Return m.BNMX_RET_98 (BNMX_RET_98) /SBS...</td>\n",
       "      <td>Dispersión-FP 2024-01-01.xlsx</td>\n",
       "      <td>2024-01-01</td>\n",
       "    </tr>\n",
       "    <tr>\n",
       "      <th>2</th>\n",
       "      <td>LEDGER_FP</td>\n",
       "      <td>0f8187da-2201-47a4-a080-c3fd0c295845</td>\n",
       "      <td>NaN</td>\n",
       "      <td>NaN</td>\n",
       "      <td>A95HMQCJ8</td>\n",
       "      <td>2024-01-01</td>\n",
       "      <td>924.70</td>\n",
       "      <td>Pago del día</td>\n",
       "      <td>CAJA POP MEXICA</td>\n",
       "      <td>02. Second_batch</td>\n",
       "      <td>SPEI DEVUELTO</td>\n",
       "      <td>BANCO RECEPTOR ESTA DESCONECTADO</td>\n",
       "      <td>Dispersión-FP 2024-01-01.xlsx</td>\n",
       "      <td>2024-01-01</td>\n",
       "    </tr>\n",
       "    <tr>\n",
       "      <th>3</th>\n",
       "      <td>LEDGER_FP</td>\n",
       "      <td>4fd8ff57-a301-4dd5-8af6-e92038329134</td>\n",
       "      <td>NaN</td>\n",
       "      <td>NaN</td>\n",
       "      <td>ATJ5WYZKZ</td>\n",
       "      <td>2024-01-01</td>\n",
       "      <td>9,582.40</td>\n",
       "      <td>Pago del día</td>\n",
       "      <td>ASP INTEGRA OPC</td>\n",
       "      <td>02. Second_batch</td>\n",
       "      <td>SPEI DEVUELTO</td>\n",
       "      <td>DEV.SPEITIPO DE CUENTA NO CORR</td>\n",
       "      <td>Dispersión-FP 2024-01-01.xlsx</td>\n",
       "      <td>2024-01-01</td>\n",
       "    </tr>\n",
       "    <tr>\n",
       "      <th>4</th>\n",
       "      <td>LEDGER_FP</td>\n",
       "      <td>5516a3c0-cb46-4649-8859-4d2143583f03</td>\n",
       "      <td>NaN</td>\n",
       "      <td>NaN</td>\n",
       "      <td>ANGQHNPVT</td>\n",
       "      <td>2024-01-01</td>\n",
       "      <td>383.30</td>\n",
       "      <td>Pago del día</td>\n",
       "      <td>CAJA POP MEXICA</td>\n",
       "      <td>02. Second_batch</td>\n",
       "      <td>SPEI DEVUELTO</td>\n",
       "      <td>BANCO RECEPTOR ESTA DESCONECTADO</td>\n",
       "      <td>Dispersión-FP 2024-01-01.xlsx</td>\n",
       "      <td>2024-01-01</td>\n",
       "    </tr>\n",
       "  </tbody>\n",
       "</table>\n",
       "</div>"
      ],
      "text/plain": [
       "        type                           merchant_id merchant_name user_email  \\\n",
       "0  LEDGER_FP  0a00f802-ff5a-49c6-8ad6-693c5b544f3f           NaN        NaN   \n",
       "1  LEDGER_FP  0db5a402-c0ef-4efa-ba81-f5ded327b01b           NaN        NaN   \n",
       "2  LEDGER_FP  0f8187da-2201-47a4-a080-c3fd0c295845           NaN        NaN   \n",
       "3  LEDGER_FP  4fd8ff57-a301-4dd5-8af6-e92038329134           NaN        NaN   \n",
       "4  LEDGER_FP  5516a3c0-cb46-4649-8859-4d2143583f03           NaN        NaN   \n",
       "\n",
       "   report_id report_date_local  total_due          tipo             bank  \\\n",
       "0  AR3LJGSXN        2024-01-01   1,612.24  Pago del día  CAJA POP MEXICA   \n",
       "1  ARHPK56L6        2024-01-01     670.76  Pago del día  CAJA POP MEXICA   \n",
       "2  A95HMQCJ8        2024-01-01     924.70  Pago del día  CAJA POP MEXICA   \n",
       "3  ATJ5WYZKZ        2024-01-01   9,582.40  Pago del día  ASP INTEGRA OPC   \n",
       "4  ANGQHNPVT        2024-01-01     383.30  Pago del día  CAJA POP MEXICA   \n",
       "\n",
       "         batch_time          check  \\\n",
       "0  02. Second_batch  SPEI DEVUELTO   \n",
       "1  02. Second_batch  SPEI DEVUELTO   \n",
       "2  02. Second_batch  SPEI DEVUELTO   \n",
       "3  02. Second_batch  SPEI DEVUELTO   \n",
       "4  02. Second_batch  SPEI DEVUELTO   \n",
       "\n",
       "                                   error_description  \\\n",
       "0                   BANCO RECEPTOR ESTA DESCONECTADO   \n",
       "1  /21/CB Return m.BNMX_RET_98 (BNMX_RET_98) /SBS...   \n",
       "2                   BANCO RECEPTOR ESTA DESCONECTADO   \n",
       "3                     DEV.SPEITIPO DE CUENTA NO CORR   \n",
       "4                   BANCO RECEPTOR ESTA DESCONECTADO   \n",
       "\n",
       "                       file_name  date_file  \n",
       "0  Dispersión-FP 2024-01-01.xlsx 2024-01-01  \n",
       "1  Dispersión-FP 2024-01-01.xlsx 2024-01-01  \n",
       "2  Dispersión-FP 2024-01-01.xlsx 2024-01-01  \n",
       "3  Dispersión-FP 2024-01-01.xlsx 2024-01-01  \n",
       "4  Dispersión-FP 2024-01-01.xlsx 2024-01-01  "
      ]
     },
     "execution_count": 30,
     "metadata": {},
     "output_type": "execute_result"
    }
   ],
   "source": [
    "dev_1 = pd.concat([pd.read_excel(f,sheet_name='ERROR',converters={'report_id':str})\n",
    "                      .assign(file_name=os.path.basename(f)) for f in dev_files])\n",
    "dev_1.columns = dev_1.columns.str.strip().str.lower() \n",
    "dev_1['date_file'] = dev_1[\"file_name\"].str[-15:-5]\n",
    "dev_1['date_file']= pd.to_datetime(dev_1['date_file'])\n",
    "dev_1['report_date_local'] = pd.to_datetime(dev_1['report_date_local'])\n",
    "dev_1.head()"
   ]
  },
  {
   "cell_type": "code",
   "execution_count": 31,
   "metadata": {},
   "outputs": [
    {
     "data": {
      "text/plain": [
       "(4060, 14)"
      ]
     },
     "execution_count": 31,
     "metadata": {},
     "output_type": "execute_result"
    }
   ],
   "source": [
    "dev_1.shape"
   ]
  },
  {
   "cell_type": "code",
   "execution_count": 32,
   "metadata": {},
   "outputs": [
    {
     "data": {
      "text/plain": [
       "array(['Pago del día', 'Reprogramación'], dtype=object)"
      ]
     },
     "execution_count": 32,
     "metadata": {},
     "output_type": "execute_result"
    }
   ],
   "source": [
    "dev_1['tipo'].unique()"
   ]
  },
  {
   "cell_type": "markdown",
   "metadata": {},
   "source": [
    "### DEVOLUCIONES TOTALES"
   ]
  },
  {
   "cell_type": "code",
   "execution_count": 33,
   "metadata": {},
   "outputs": [
    {
     "data": {
      "text/html": [
       "<div>\n",
       "<style scoped>\n",
       "    .dataframe tbody tr th:only-of-type {\n",
       "        vertical-align: middle;\n",
       "    }\n",
       "\n",
       "    .dataframe tbody tr th {\n",
       "        vertical-align: top;\n",
       "    }\n",
       "\n",
       "    .dataframe thead tr th {\n",
       "        text-align: left;\n",
       "    }\n",
       "</style>\n",
       "<table border=\"1\" class=\"dataframe\">\n",
       "  <thead>\n",
       "    <tr>\n",
       "      <th></th>\n",
       "      <th>date_file</th>\n",
       "      <th>sum</th>\n",
       "      <th>len</th>\n",
       "    </tr>\n",
       "    <tr>\n",
       "      <th></th>\n",
       "      <th></th>\n",
       "      <th>total_due</th>\n",
       "      <th>total_due</th>\n",
       "    </tr>\n",
       "  </thead>\n",
       "  <tbody>\n",
       "    <tr>\n",
       "      <th>0</th>\n",
       "      <td>2024-01-01 00:00:00</td>\n",
       "      <td>356,957.18</td>\n",
       "      <td>35</td>\n",
       "    </tr>\n",
       "    <tr>\n",
       "      <th>1</th>\n",
       "      <td>2024-01-02 00:00:00</td>\n",
       "      <td>576,586.64</td>\n",
       "      <td>184</td>\n",
       "    </tr>\n",
       "    <tr>\n",
       "      <th>2</th>\n",
       "      <td>2024-01-03 00:00:00</td>\n",
       "      <td>60,155.79</td>\n",
       "      <td>31</td>\n",
       "    </tr>\n",
       "    <tr>\n",
       "      <th>3</th>\n",
       "      <td>2024-01-04 00:00:00</td>\n",
       "      <td>714,697.12</td>\n",
       "      <td>109</td>\n",
       "    </tr>\n",
       "    <tr>\n",
       "      <th>4</th>\n",
       "      <td>2024-01-05 00:00:00</td>\n",
       "      <td>188,786.73</td>\n",
       "      <td>48</td>\n",
       "    </tr>\n",
       "  </tbody>\n",
       "</table>\n",
       "</div>"
      ],
      "text/plain": [
       "             date_file        sum       len\n",
       "                        total_due total_due\n",
       "0  2024-01-01 00:00:00 356,957.18        35\n",
       "1  2024-01-02 00:00:00 576,586.64       184\n",
       "2  2024-01-03 00:00:00  60,155.79        31\n",
       "3  2024-01-04 00:00:00 714,697.12       109\n",
       "4  2024-01-05 00:00:00 188,786.73        48"
      ]
     },
     "execution_count": 33,
     "metadata": {},
     "output_type": "execute_result"
    }
   ],
   "source": [
    "dev_total_pivot = pd.pivot_table(dev_1,index=[\"date_file\"],values=['total_due'],aggfunc = ['sum',len],margins=True)\n",
    "dev_total_pivot.reset_index(drop=False, inplace=True)\n",
    "dev_total_pivot.head()"
   ]
  },
  {
   "cell_type": "code",
   "execution_count": 34,
   "metadata": {},
   "outputs": [
    {
     "data": {
      "text/plain": [
       "(32, 3)"
      ]
     },
     "execution_count": 34,
     "metadata": {},
     "output_type": "execute_result"
    }
   ],
   "source": [
    "dev_total_pivot.shape"
   ]
  },
  {
   "cell_type": "markdown",
   "metadata": {},
   "source": [
    "### DEVOLUCIONES PAGO DEL DIA"
   ]
  },
  {
   "cell_type": "code",
   "execution_count": 35,
   "metadata": {},
   "outputs": [],
   "source": [
    "dev_dia = dev_1[(dev_1['tipo'] == 'Pago del día')]"
   ]
  },
  {
   "cell_type": "code",
   "execution_count": 36,
   "metadata": {},
   "outputs": [
    {
     "data": {
      "text/html": [
       "<div>\n",
       "<style scoped>\n",
       "    .dataframe tbody tr th:only-of-type {\n",
       "        vertical-align: middle;\n",
       "    }\n",
       "\n",
       "    .dataframe tbody tr th {\n",
       "        vertical-align: top;\n",
       "    }\n",
       "\n",
       "    .dataframe thead tr th {\n",
       "        text-align: left;\n",
       "    }\n",
       "</style>\n",
       "<table border=\"1\" class=\"dataframe\">\n",
       "  <thead>\n",
       "    <tr>\n",
       "      <th></th>\n",
       "      <th>date_file</th>\n",
       "      <th>sum</th>\n",
       "      <th>len</th>\n",
       "    </tr>\n",
       "    <tr>\n",
       "      <th></th>\n",
       "      <th></th>\n",
       "      <th>total_due</th>\n",
       "      <th>total_due</th>\n",
       "    </tr>\n",
       "  </thead>\n",
       "  <tbody>\n",
       "    <tr>\n",
       "      <th>0</th>\n",
       "      <td>2024-01-01 00:00:00</td>\n",
       "      <td>327,922.52</td>\n",
       "      <td>28</td>\n",
       "    </tr>\n",
       "    <tr>\n",
       "      <th>1</th>\n",
       "      <td>2024-01-02 00:00:00</td>\n",
       "      <td>164,470.87</td>\n",
       "      <td>34</td>\n",
       "    </tr>\n",
       "    <tr>\n",
       "      <th>2</th>\n",
       "      <td>2024-01-03 00:00:00</td>\n",
       "      <td>53,055.23</td>\n",
       "      <td>27</td>\n",
       "    </tr>\n",
       "    <tr>\n",
       "      <th>3</th>\n",
       "      <td>2024-01-04 00:00:00</td>\n",
       "      <td>99,199.00</td>\n",
       "      <td>36</td>\n",
       "    </tr>\n",
       "    <tr>\n",
       "      <th>4</th>\n",
       "      <td>2024-01-05 00:00:00</td>\n",
       "      <td>141,402.72</td>\n",
       "      <td>45</td>\n",
       "    </tr>\n",
       "  </tbody>\n",
       "</table>\n",
       "</div>"
      ],
      "text/plain": [
       "             date_file        sum       len\n",
       "                        total_due total_due\n",
       "0  2024-01-01 00:00:00 327,922.52        28\n",
       "1  2024-01-02 00:00:00 164,470.87        34\n",
       "2  2024-01-03 00:00:00  53,055.23        27\n",
       "3  2024-01-04 00:00:00  99,199.00        36\n",
       "4  2024-01-05 00:00:00 141,402.72        45"
      ]
     },
     "execution_count": 36,
     "metadata": {},
     "output_type": "execute_result"
    }
   ],
   "source": [
    "dev_dia_pivot = pd.pivot_table(dev_dia,index=[\"date_file\"],values=['total_due'],aggfunc = ['sum', len],margins=True)\n",
    "dev_dia_pivot.reset_index(drop=False, inplace=True)\n",
    "dev_dia_pivot.head()"
   ]
  },
  {
   "cell_type": "code",
   "execution_count": 37,
   "metadata": {},
   "outputs": [
    {
     "data": {
      "text/plain": [
       "(32, 3)"
      ]
     },
     "execution_count": 37,
     "metadata": {},
     "output_type": "execute_result"
    }
   ],
   "source": [
    "dev_dia_pivot.shape"
   ]
  },
  {
   "cell_type": "markdown",
   "metadata": {},
   "source": [
    "### DEVOLUCIONES REPROGRAMACION"
   ]
  },
  {
   "cell_type": "code",
   "execution_count": 38,
   "metadata": {},
   "outputs": [],
   "source": [
    "dev_repro = dev_1[(dev_1['tipo'] == 'Reprogramación')]"
   ]
  },
  {
   "cell_type": "code",
   "execution_count": 39,
   "metadata": {},
   "outputs": [
    {
     "data": {
      "text/html": [
       "<div>\n",
       "<style scoped>\n",
       "    .dataframe tbody tr th:only-of-type {\n",
       "        vertical-align: middle;\n",
       "    }\n",
       "\n",
       "    .dataframe tbody tr th {\n",
       "        vertical-align: top;\n",
       "    }\n",
       "\n",
       "    .dataframe thead tr th {\n",
       "        text-align: left;\n",
       "    }\n",
       "</style>\n",
       "<table border=\"1\" class=\"dataframe\">\n",
       "  <thead>\n",
       "    <tr>\n",
       "      <th></th>\n",
       "      <th>date_file</th>\n",
       "      <th>sum</th>\n",
       "      <th>len</th>\n",
       "    </tr>\n",
       "    <tr>\n",
       "      <th></th>\n",
       "      <th></th>\n",
       "      <th>total_due</th>\n",
       "      <th>total_due</th>\n",
       "    </tr>\n",
       "  </thead>\n",
       "  <tbody>\n",
       "    <tr>\n",
       "      <th>0</th>\n",
       "      <td>2024-01-01 00:00:00</td>\n",
       "      <td>29,034.66</td>\n",
       "      <td>7</td>\n",
       "    </tr>\n",
       "    <tr>\n",
       "      <th>1</th>\n",
       "      <td>2024-01-02 00:00:00</td>\n",
       "      <td>412,115.77</td>\n",
       "      <td>150</td>\n",
       "    </tr>\n",
       "    <tr>\n",
       "      <th>2</th>\n",
       "      <td>2024-01-03 00:00:00</td>\n",
       "      <td>7,100.56</td>\n",
       "      <td>4</td>\n",
       "    </tr>\n",
       "    <tr>\n",
       "      <th>3</th>\n",
       "      <td>2024-01-04 00:00:00</td>\n",
       "      <td>615,498.12</td>\n",
       "      <td>73</td>\n",
       "    </tr>\n",
       "    <tr>\n",
       "      <th>4</th>\n",
       "      <td>2024-01-05 00:00:00</td>\n",
       "      <td>47,384.01</td>\n",
       "      <td>3</td>\n",
       "    </tr>\n",
       "  </tbody>\n",
       "</table>\n",
       "</div>"
      ],
      "text/plain": [
       "             date_file        sum       len\n",
       "                        total_due total_due\n",
       "0  2024-01-01 00:00:00  29,034.66         7\n",
       "1  2024-01-02 00:00:00 412,115.77       150\n",
       "2  2024-01-03 00:00:00   7,100.56         4\n",
       "3  2024-01-04 00:00:00 615,498.12        73\n",
       "4  2024-01-05 00:00:00  47,384.01         3"
      ]
     },
     "execution_count": 39,
     "metadata": {},
     "output_type": "execute_result"
    }
   ],
   "source": [
    "dev_repro_pivot = pd.pivot_table(dev_repro,index=[\"date_file\"],values=['total_due'],aggfunc = ['sum', len],margins=True)\n",
    "dev_repro_pivot.reset_index(drop=False, inplace=True)\n",
    "dev_repro_pivot.head()"
   ]
  },
  {
   "cell_type": "code",
   "execution_count": 40,
   "metadata": {},
   "outputs": [
    {
     "data": {
      "text/plain": [
       "(31, 3)"
      ]
     },
     "execution_count": 40,
     "metadata": {},
     "output_type": "execute_result"
    }
   ],
   "source": [
    "dev_repro_pivot.shape"
   ]
  },
  {
   "cell_type": "markdown",
   "metadata": {},
   "source": [
    "# EXCEL DEVOLUCIONES"
   ]
  },
  {
   "cell_type": "code",
   "execution_count": 41,
   "metadata": {},
   "outputs": [],
   "source": [
    "writer = pd.ExcelWriter('FP ERROR ENERO 2024.xlsx',\n",
    "                        engine='xlsxwriter',\n",
    "                        engine_kwargs={'options': {'encoding':'utf-8'}})\n",
    "dev_total_pivot.to_excel(writer, sheet_name='TOTAL ERROR')\n",
    "dev_dia_pivot.to_excel(writer, sheet_name='PAGO DEL DIA')\n",
    "dev_repro_pivot.to_excel(writer, sheet_name='REPROGRAMACION')\n",
    "writer.close()"
   ]
  },
  {
   "cell_type": "markdown",
   "metadata": {},
   "source": [
    "# MONTOS BY DAY"
   ]
  },
  {
   "cell_type": "code",
   "execution_count": 42,
   "metadata": {},
   "outputs": [
    {
     "data": {
      "text/plain": [
       "['C:\\\\Users\\\\Cristian.Aparicio\\\\Documents\\\\FAST PAYMENTS\\\\2024\\\\01. ENERO\\\\ARCHIVO DISPERSIONES FP\\\\Dispersión-FP 2024-01-01.xlsx',\n",
       " 'C:\\\\Users\\\\Cristian.Aparicio\\\\Documents\\\\FAST PAYMENTS\\\\2024\\\\01. ENERO\\\\ARCHIVO DISPERSIONES FP\\\\Dispersión-FP 2024-01-02.xlsx',\n",
       " 'C:\\\\Users\\\\Cristian.Aparicio\\\\Documents\\\\FAST PAYMENTS\\\\2024\\\\01. ENERO\\\\ARCHIVO DISPERSIONES FP\\\\Dispersión-FP 2024-01-03.xlsx',\n",
       " 'C:\\\\Users\\\\Cristian.Aparicio\\\\Documents\\\\FAST PAYMENTS\\\\2024\\\\01. ENERO\\\\ARCHIVO DISPERSIONES FP\\\\Dispersión-FP 2024-01-04.xlsx',\n",
       " 'C:\\\\Users\\\\Cristian.Aparicio\\\\Documents\\\\FAST PAYMENTS\\\\2024\\\\01. ENERO\\\\ARCHIVO DISPERSIONES FP\\\\Dispersión-FP 2024-01-05.xlsx',\n",
       " 'C:\\\\Users\\\\Cristian.Aparicio\\\\Documents\\\\FAST PAYMENTS\\\\2024\\\\01. ENERO\\\\ARCHIVO DISPERSIONES FP\\\\Dispersión-FP 2024-01-06.xlsx',\n",
       " 'C:\\\\Users\\\\Cristian.Aparicio\\\\Documents\\\\FAST PAYMENTS\\\\2024\\\\01. ENERO\\\\ARCHIVO DISPERSIONES FP\\\\Dispersión-FP 2024-01-07.xlsx',\n",
       " 'C:\\\\Users\\\\Cristian.Aparicio\\\\Documents\\\\FAST PAYMENTS\\\\2024\\\\01. ENERO\\\\ARCHIVO DISPERSIONES FP\\\\Dispersión-FP 2024-01-08.xlsx',\n",
       " 'C:\\\\Users\\\\Cristian.Aparicio\\\\Documents\\\\FAST PAYMENTS\\\\2024\\\\01. ENERO\\\\ARCHIVO DISPERSIONES FP\\\\Dispersión-FP 2024-01-09.xlsx',\n",
       " 'C:\\\\Users\\\\Cristian.Aparicio\\\\Documents\\\\FAST PAYMENTS\\\\2024\\\\01. ENERO\\\\ARCHIVO DISPERSIONES FP\\\\Dispersión-FP 2024-01-10.xlsx',\n",
       " 'C:\\\\Users\\\\Cristian.Aparicio\\\\Documents\\\\FAST PAYMENTS\\\\2024\\\\01. ENERO\\\\ARCHIVO DISPERSIONES FP\\\\Dispersión-FP 2024-01-11.xlsx',\n",
       " 'C:\\\\Users\\\\Cristian.Aparicio\\\\Documents\\\\FAST PAYMENTS\\\\2024\\\\01. ENERO\\\\ARCHIVO DISPERSIONES FP\\\\Dispersión-FP 2024-01-12.xlsx',\n",
       " 'C:\\\\Users\\\\Cristian.Aparicio\\\\Documents\\\\FAST PAYMENTS\\\\2024\\\\01. ENERO\\\\ARCHIVO DISPERSIONES FP\\\\Dispersión-FP 2024-01-13.xlsx',\n",
       " 'C:\\\\Users\\\\Cristian.Aparicio\\\\Documents\\\\FAST PAYMENTS\\\\2024\\\\01. ENERO\\\\ARCHIVO DISPERSIONES FP\\\\Dispersión-FP 2024-01-14.xlsx',\n",
       " 'C:\\\\Users\\\\Cristian.Aparicio\\\\Documents\\\\FAST PAYMENTS\\\\2024\\\\01. ENERO\\\\ARCHIVO DISPERSIONES FP\\\\Dispersión-FP 2024-01-15.xlsx',\n",
       " 'C:\\\\Users\\\\Cristian.Aparicio\\\\Documents\\\\FAST PAYMENTS\\\\2024\\\\01. ENERO\\\\ARCHIVO DISPERSIONES FP\\\\Dispersión-FP 2024-01-16.xlsx',\n",
       " 'C:\\\\Users\\\\Cristian.Aparicio\\\\Documents\\\\FAST PAYMENTS\\\\2024\\\\01. ENERO\\\\ARCHIVO DISPERSIONES FP\\\\Dispersión-FP 2024-01-17.xlsx',\n",
       " 'C:\\\\Users\\\\Cristian.Aparicio\\\\Documents\\\\FAST PAYMENTS\\\\2024\\\\01. ENERO\\\\ARCHIVO DISPERSIONES FP\\\\Dispersión-FP 2024-01-18.xlsx',\n",
       " 'C:\\\\Users\\\\Cristian.Aparicio\\\\Documents\\\\FAST PAYMENTS\\\\2024\\\\01. ENERO\\\\ARCHIVO DISPERSIONES FP\\\\Dispersión-FP 2024-01-19.xlsx',\n",
       " 'C:\\\\Users\\\\Cristian.Aparicio\\\\Documents\\\\FAST PAYMENTS\\\\2024\\\\01. ENERO\\\\ARCHIVO DISPERSIONES FP\\\\Dispersión-FP 2024-01-20.xlsx',\n",
       " 'C:\\\\Users\\\\Cristian.Aparicio\\\\Documents\\\\FAST PAYMENTS\\\\2024\\\\01. ENERO\\\\ARCHIVO DISPERSIONES FP\\\\Dispersión-FP 2024-01-21.xlsx',\n",
       " 'C:\\\\Users\\\\Cristian.Aparicio\\\\Documents\\\\FAST PAYMENTS\\\\2024\\\\01. ENERO\\\\ARCHIVO DISPERSIONES FP\\\\Dispersión-FP 2024-01-22.xlsx',\n",
       " 'C:\\\\Users\\\\Cristian.Aparicio\\\\Documents\\\\FAST PAYMENTS\\\\2024\\\\01. ENERO\\\\ARCHIVO DISPERSIONES FP\\\\Dispersión-FP 2024-01-23.xlsx',\n",
       " 'C:\\\\Users\\\\Cristian.Aparicio\\\\Documents\\\\FAST PAYMENTS\\\\2024\\\\01. ENERO\\\\ARCHIVO DISPERSIONES FP\\\\Dispersión-FP 2024-01-24.xlsx',\n",
       " 'C:\\\\Users\\\\Cristian.Aparicio\\\\Documents\\\\FAST PAYMENTS\\\\2024\\\\01. ENERO\\\\ARCHIVO DISPERSIONES FP\\\\Dispersión-FP 2024-01-25.xlsx',\n",
       " 'C:\\\\Users\\\\Cristian.Aparicio\\\\Documents\\\\FAST PAYMENTS\\\\2024\\\\01. ENERO\\\\ARCHIVO DISPERSIONES FP\\\\Dispersión-FP 2024-01-26.xlsx',\n",
       " 'C:\\\\Users\\\\Cristian.Aparicio\\\\Documents\\\\FAST PAYMENTS\\\\2024\\\\01. ENERO\\\\ARCHIVO DISPERSIONES FP\\\\Dispersión-FP 2024-01-27.xlsx',\n",
       " 'C:\\\\Users\\\\Cristian.Aparicio\\\\Documents\\\\FAST PAYMENTS\\\\2024\\\\01. ENERO\\\\ARCHIVO DISPERSIONES FP\\\\Dispersión-FP 2024-01-28.xlsx',\n",
       " 'C:\\\\Users\\\\Cristian.Aparicio\\\\Documents\\\\FAST PAYMENTS\\\\2024\\\\01. ENERO\\\\ARCHIVO DISPERSIONES FP\\\\Dispersión-FP 2024-01-29.xlsx',\n",
       " 'C:\\\\Users\\\\Cristian.Aparicio\\\\Documents\\\\FAST PAYMENTS\\\\2024\\\\01. ENERO\\\\ARCHIVO DISPERSIONES FP\\\\Dispersión-FP 2024-01-30.xlsx',\n",
       " 'C:\\\\Users\\\\Cristian.Aparicio\\\\Documents\\\\FAST PAYMENTS\\\\2024\\\\01. ENERO\\\\ARCHIVO DISPERSIONES FP\\\\Dispersión-FP 2024-01-31.xlsx']"
      ]
     },
     "execution_count": 42,
     "metadata": {},
     "output_type": "execute_result"
    }
   ],
   "source": [
    "qu_1 = glob.glob(r'C:\\Users\\Cristian.Aparicio\\Documents\\FAST PAYMENTS\\2024\\01. ENERO\\ARCHIVO DISPERSIONES FP\\Dispersión-FP*.xlsx', recursive=False)\n",
    "qu_1"
   ]
  },
  {
   "cell_type": "code",
   "execution_count": 43,
   "metadata": {},
   "outputs": [
    {
     "data": {
      "text/html": [
       "<div>\n",
       "<style scoped>\n",
       "    .dataframe tbody tr th:only-of-type {\n",
       "        vertical-align: middle;\n",
       "    }\n",
       "\n",
       "    .dataframe tbody tr th {\n",
       "        vertical-align: top;\n",
       "    }\n",
       "\n",
       "    .dataframe thead th {\n",
       "        text-align: right;\n",
       "    }\n",
       "</style>\n",
       "<table border=\"1\" class=\"dataframe\">\n",
       "  <thead>\n",
       "    <tr style=\"text-align: right;\">\n",
       "      <th></th>\n",
       "      <th>merchant_id</th>\n",
       "      <th>merchant_name</th>\n",
       "      <th>user_email</th>\n",
       "      <th>report_id</th>\n",
       "      <th>report_date_local</th>\n",
       "      <th>total_transactions</th>\n",
       "      <th>total_fees_charged</th>\n",
       "      <th>total_taxes</th>\n",
       "      <th>applied_fees_benefits</th>\n",
       "      <th>applied_taxes_benefits</th>\n",
       "      <th>...</th>\n",
       "      <th>total_retained</th>\n",
       "      <th>tipopago</th>\n",
       "      <th>total_due</th>\n",
       "      <th>type</th>\n",
       "      <th>created_date</th>\n",
       "      <th>created_time</th>\n",
       "      <th>updated_date</th>\n",
       "      <th>updated_time</th>\n",
       "      <th>file_name</th>\n",
       "      <th>date_envio</th>\n",
       "    </tr>\n",
       "  </thead>\n",
       "  <tbody>\n",
       "  </tbody>\n",
       "</table>\n",
       "<p>0 rows × 25 columns</p>\n",
       "</div>"
      ],
      "text/plain": [
       "Empty DataFrame\n",
       "Columns: [merchant_id, merchant_name, user_email, report_id, report_date_local, total_transactions, total_fees_charged, total_taxes, applied_fees_benefits, applied_taxes_benefits, fee_direct_deposit, taxes_direct_deposit, total_adjustments, cobranza, total_released, total_retained, tipopago, total_due, type, created_date, created_time, updated_date, updated_time, file_name, date_envio]\n",
       "Index: []\n",
       "\n",
       "[0 rows x 25 columns]"
      ]
     },
     "execution_count": 43,
     "metadata": {},
     "output_type": "execute_result"
    }
   ],
   "source": [
    "fp_settled = pd.concat([pd.read_excel(f,sheet_name='SETTLEMENT',converters={'report_id':str,'disbursement_tracking_key':str,'CLABE':str})\n",
    "                      .assign(file_name=os.path.basename(f)) for f in qu_1])\n",
    "fp_settled.columns = fp_settled.columns.str.strip().str.lower() \n",
    "fp_settled['date_envio'] = fp_settled[\"file_name\"].str[-15:-5]\n",
    "fp_settled['date_envio']= pd.to_datetime(fp_settled['date_envio'])\n",
    "fp_settled['report_date_local'] = pd.to_datetime(fp_settled['report_date_local'])\n",
    "fp_settled.head()"
   ]
  },
  {
   "cell_type": "code",
   "execution_count": 44,
   "metadata": {},
   "outputs": [
    {
     "data": {
      "text/plain": [
       "(0, 25)"
      ]
     },
     "execution_count": 44,
     "metadata": {},
     "output_type": "execute_result"
    }
   ],
   "source": [
    "fp_settled.shape"
   ]
  },
  {
   "cell_type": "code",
   "execution_count": 45,
   "metadata": {},
   "outputs": [
    {
     "data": {
      "text/html": [
       "<div>\n",
       "<style scoped>\n",
       "    .dataframe tbody tr th:only-of-type {\n",
       "        vertical-align: middle;\n",
       "    }\n",
       "\n",
       "    .dataframe tbody tr th {\n",
       "        vertical-align: top;\n",
       "    }\n",
       "\n",
       "    .dataframe thead th {\n",
       "        text-align: right;\n",
       "    }\n",
       "</style>\n",
       "<table border=\"1\" class=\"dataframe\">\n",
       "  <thead>\n",
       "    <tr style=\"text-align: right;\">\n",
       "      <th></th>\n",
       "      <th>merchant_id</th>\n",
       "      <th>merchant_name</th>\n",
       "      <th>user_email</th>\n",
       "      <th>report_id</th>\n",
       "      <th>report_date_local</th>\n",
       "      <th>total_transactions</th>\n",
       "      <th>total_fees_charged</th>\n",
       "      <th>total_taxes</th>\n",
       "      <th>applied_fees_benefits</th>\n",
       "      <th>applied_taxes_benefits</th>\n",
       "      <th>...</th>\n",
       "      <th>total_retained</th>\n",
       "      <th>tipopago</th>\n",
       "      <th>total_due</th>\n",
       "      <th>type</th>\n",
       "      <th>created_date</th>\n",
       "      <th>created_time</th>\n",
       "      <th>updated_date</th>\n",
       "      <th>updated_time</th>\n",
       "      <th>file_name</th>\n",
       "      <th>date_envio</th>\n",
       "    </tr>\n",
       "  </thead>\n",
       "  <tbody>\n",
       "  </tbody>\n",
       "</table>\n",
       "<p>0 rows × 25 columns</p>\n",
       "</div>"
      ],
      "text/plain": [
       "Empty DataFrame\n",
       "Columns: [merchant_id, merchant_name, user_email, report_id, report_date_local, total_transactions, total_fees_charged, total_taxes, applied_fees_benefits, applied_taxes_benefits, fee_direct_deposit, taxes_direct_deposit, total_adjustments, cobranza, total_released, total_retained, tipopago, total_due, type, created_date, created_time, updated_date, updated_time, file_name, date_envio]\n",
       "Index: []\n",
       "\n",
       "[0 rows x 25 columns]"
      ]
     },
     "execution_count": 45,
     "metadata": {},
     "output_type": "execute_result"
    }
   ],
   "source": [
    "duplicates = fp_settled[fp_settled.duplicated(['report_id'] , keep=False)]\n",
    "duplicates.head()"
   ]
  },
  {
   "cell_type": "code",
   "execution_count": 46,
   "metadata": {},
   "outputs": [
    {
     "data": {
      "text/plain": [
       "(0, 25)"
      ]
     },
     "execution_count": 46,
     "metadata": {},
     "output_type": "execute_result"
    }
   ],
   "source": [
    "duplicates.shape"
   ]
  },
  {
   "cell_type": "code",
   "execution_count": 47,
   "metadata": {},
   "outputs": [],
   "source": [
    "# fp_settled.to_csv('FP SETTLEMENT FEBRERO 2021.csv',index=False)"
   ]
  },
  {
   "cell_type": "code",
   "execution_count": 48,
   "metadata": {},
   "outputs": [
    {
     "name": "stderr",
     "output_type": "stream",
     "text": [
      "C:\\Users\\Cristian.Aparicio\\AppData\\Local\\Temp\\ipykernel_9608\\1753704878.py:1: FutureWarning: The provided callable <built-in function sum> is currently using SeriesGroupBy.sum. In a future version of pandas, the provided callable will be used directly. To keep current behavior pass the string \"sum\" instead.\n",
      "  fp_settled_2 = fp_settled.groupby(['report_date_local']).agg({'total_transactions':sum,'total_fees_charged':sum,'total_taxes':sum\n"
     ]
    },
    {
     "data": {
      "text/html": [
       "<div>\n",
       "<style scoped>\n",
       "    .dataframe tbody tr th:only-of-type {\n",
       "        vertical-align: middle;\n",
       "    }\n",
       "\n",
       "    .dataframe tbody tr th {\n",
       "        vertical-align: top;\n",
       "    }\n",
       "\n",
       "    .dataframe thead th {\n",
       "        text-align: right;\n",
       "    }\n",
       "</style>\n",
       "<table border=\"1\" class=\"dataframe\">\n",
       "  <thead>\n",
       "    <tr style=\"text-align: right;\">\n",
       "      <th></th>\n",
       "      <th>report_date_local</th>\n",
       "      <th>total_transactions</th>\n",
       "      <th>total_fees_charged</th>\n",
       "      <th>total_taxes</th>\n",
       "      <th>applied_fees_benefits</th>\n",
       "      <th>applied_taxes_benefits</th>\n",
       "      <th>fee_direct_deposit</th>\n",
       "      <th>taxes_direct_deposit</th>\n",
       "      <th>total_adjustments</th>\n",
       "      <th>cobranza</th>\n",
       "      <th>total_released</th>\n",
       "      <th>total_retained</th>\n",
       "      <th>total_due</th>\n",
       "    </tr>\n",
       "  </thead>\n",
       "  <tbody>\n",
       "  </tbody>\n",
       "</table>\n",
       "</div>"
      ],
      "text/plain": [
       "Empty DataFrame\n",
       "Columns: [report_date_local, total_transactions, total_fees_charged, total_taxes, applied_fees_benefits, applied_taxes_benefits, fee_direct_deposit, taxes_direct_deposit, total_adjustments, cobranza, total_released, total_retained, total_due]\n",
       "Index: []"
      ]
     },
     "execution_count": 48,
     "metadata": {},
     "output_type": "execute_result"
    }
   ],
   "source": [
    "fp_settled_2 = fp_settled.groupby(['report_date_local']).agg({'total_transactions':sum,'total_fees_charged':sum,'total_taxes':sum\n",
    "                                                     ,'applied_fees_benefits':sum,'applied_taxes_benefits':sum\n",
    "                                                     ,'fee_direct_deposit':sum,'taxes_direct_deposit':sum\n",
    "                                                     ,'total_adjustments':sum,'cobranza':sum,'total_released':sum\n",
    "                                                     ,'total_retained':sum,'total_due':sum}).reset_index()\n",
    "fp_settled_2.head()\n"
   ]
  },
  {
   "cell_type": "code",
   "execution_count": 49,
   "metadata": {},
   "outputs": [
    {
     "data": {
      "text/plain": [
       "(0, 13)"
      ]
     },
     "execution_count": 49,
     "metadata": {},
     "output_type": "execute_result"
    }
   ],
   "source": [
    "fp_settled_2.shape"
   ]
  },
  {
   "cell_type": "code",
   "execution_count": 50,
   "metadata": {},
   "outputs": [],
   "source": [
    "# fp_settled_2.to_csv('FP MONTOS BY DAY FEBRERO.csv',index=False)"
   ]
  },
  {
   "cell_type": "markdown",
   "metadata": {},
   "source": [
    "# TIPOS DE PAGO"
   ]
  },
  {
   "cell_type": "code",
   "execution_count": 51,
   "metadata": {},
   "outputs": [
    {
     "data": {
      "text/html": [
       "<div>\n",
       "<style scoped>\n",
       "    .dataframe tbody tr th:only-of-type {\n",
       "        vertical-align: middle;\n",
       "    }\n",
       "\n",
       "    .dataframe tbody tr th {\n",
       "        vertical-align: top;\n",
       "    }\n",
       "\n",
       "    .dataframe thead th {\n",
       "        text-align: right;\n",
       "    }\n",
       "</style>\n",
       "<table border=\"1\" class=\"dataframe\">\n",
       "  <thead>\n",
       "    <tr style=\"text-align: right;\">\n",
       "      <th></th>\n",
       "      <th>type</th>\n",
       "      <th>merchant_id</th>\n",
       "      <th>merchant_name</th>\n",
       "      <th>user_email</th>\n",
       "      <th>report_id</th>\n",
       "      <th>report_date_local</th>\n",
       "      <th>total_due</th>\n",
       "      <th>tipo</th>\n",
       "      <th>bank</th>\n",
       "      <th>swap</th>\n",
       "      <th>CLABE</th>\n",
       "      <th>status</th>\n",
       "      <th>LINEA CEP</th>\n",
       "      <th>Batch_time</th>\n",
       "      <th>Banco_emisor</th>\n",
       "      <th>file_name</th>\n",
       "      <th>date_envio</th>\n",
       "    </tr>\n",
       "  </thead>\n",
       "  <tbody>\n",
       "    <tr>\n",
       "      <th>0</th>\n",
       "      <td>LEDGER_FP</td>\n",
       "      <td>0a00f802-ff5a-49c6-8ad6-693c5b544f3f</td>\n",
       "      <td>NaN</td>\n",
       "      <td>NaN</td>\n",
       "      <td>AR3LJGSXN</td>\n",
       "      <td>2024-01-01</td>\n",
       "      <td>1,612.24</td>\n",
       "      <td>Pago del día</td>\n",
       "      <td>CAJA POP MEXICA</td>\n",
       "      <td>Juan Pablo Cruz Martinez</td>\n",
       "      <td>677248044011352464</td>\n",
       "      <td>ERROR</td>\n",
       "      <td>NaN</td>\n",
       "      <td>02. Second_batch</td>\n",
       "      <td>BANORTE</td>\n",
       "      <td>Dispersión-FP 2024-01-01.xlsx</td>\n",
       "      <td>2024-01-01</td>\n",
       "    </tr>\n",
       "    <tr>\n",
       "      <th>1</th>\n",
       "      <td>LEDGER_FP</td>\n",
       "      <td>0db5a402-c0ef-4efa-ba81-f5ded327b01b</td>\n",
       "      <td>NaN</td>\n",
       "      <td>NaN</td>\n",
       "      <td>ARHPK56L6</td>\n",
       "      <td>2024-01-01</td>\n",
       "      <td>670.76</td>\n",
       "      <td>Pago del día</td>\n",
       "      <td>CAJA POP MEXICA</td>\n",
       "      <td>Juan Alberto Lopez Gomez</td>\n",
       "      <td>677225043224574231</td>\n",
       "      <td>ERROR</td>\n",
       "      <td>NaN</td>\n",
       "      <td>02. Second_batch</td>\n",
       "      <td>BANORTE</td>\n",
       "      <td>Dispersión-FP 2024-01-01.xlsx</td>\n",
       "      <td>2024-01-01</td>\n",
       "    </tr>\n",
       "    <tr>\n",
       "      <th>2</th>\n",
       "      <td>LEDGER_FP</td>\n",
       "      <td>0f8187da-2201-47a4-a080-c3fd0c295845</td>\n",
       "      <td>NaN</td>\n",
       "      <td>NaN</td>\n",
       "      <td>A95HMQCJ8</td>\n",
       "      <td>2024-01-01</td>\n",
       "      <td>924.70</td>\n",
       "      <td>Pago del día</td>\n",
       "      <td>CAJA POP MEXICA</td>\n",
       "      <td>Claudia Horalia Rivera Reyes</td>\n",
       "      <td>677010042278353012</td>\n",
       "      <td>ERROR</td>\n",
       "      <td>NaN</td>\n",
       "      <td>02. Second_batch</td>\n",
       "      <td>BANORTE</td>\n",
       "      <td>Dispersión-FP 2024-01-01.xlsx</td>\n",
       "      <td>2024-01-01</td>\n",
       "    </tr>\n",
       "    <tr>\n",
       "      <th>3</th>\n",
       "      <td>LEDGER_FP</td>\n",
       "      <td>4fd8ff57-a301-4dd5-8af6-e92038329134</td>\n",
       "      <td>NaN</td>\n",
       "      <td>NaN</td>\n",
       "      <td>ATJ5WYZKZ</td>\n",
       "      <td>2024-01-01</td>\n",
       "      <td>9,582.40</td>\n",
       "      <td>Pago del día</td>\n",
       "      <td>ASP INTEGRA OPC</td>\n",
       "      <td>Alejandra Rodriguez Guzman</td>\n",
       "      <td>659802020000577065</td>\n",
       "      <td>ERROR</td>\n",
       "      <td>NaN</td>\n",
       "      <td>02. Second_batch</td>\n",
       "      <td>BANORTE</td>\n",
       "      <td>Dispersión-FP 2024-01-01.xlsx</td>\n",
       "      <td>2024-01-01</td>\n",
       "    </tr>\n",
       "    <tr>\n",
       "      <th>4</th>\n",
       "      <td>LEDGER_FP</td>\n",
       "      <td>5516a3c0-cb46-4649-8859-4d2143583f03</td>\n",
       "      <td>NaN</td>\n",
       "      <td>NaN</td>\n",
       "      <td>ANGQHNPVT</td>\n",
       "      <td>2024-01-01</td>\n",
       "      <td>383.30</td>\n",
       "      <td>Pago del día</td>\n",
       "      <td>CAJA POP MEXICA</td>\n",
       "      <td>Marco Antonio Bello Serrano</td>\n",
       "      <td>677245044147354368</td>\n",
       "      <td>ERROR</td>\n",
       "      <td>NaN</td>\n",
       "      <td>02. Second_batch</td>\n",
       "      <td>BANORTE</td>\n",
       "      <td>Dispersión-FP 2024-01-01.xlsx</td>\n",
       "      <td>2024-01-01</td>\n",
       "    </tr>\n",
       "  </tbody>\n",
       "</table>\n",
       "</div>"
      ],
      "text/plain": [
       "        type                           merchant_id merchant_name user_email  \\\n",
       "0  LEDGER_FP  0a00f802-ff5a-49c6-8ad6-693c5b544f3f           NaN        NaN   \n",
       "1  LEDGER_FP  0db5a402-c0ef-4efa-ba81-f5ded327b01b           NaN        NaN   \n",
       "2  LEDGER_FP  0f8187da-2201-47a4-a080-c3fd0c295845           NaN        NaN   \n",
       "3  LEDGER_FP  4fd8ff57-a301-4dd5-8af6-e92038329134           NaN        NaN   \n",
       "4  LEDGER_FP  5516a3c0-cb46-4649-8859-4d2143583f03           NaN        NaN   \n",
       "\n",
       "   report_id report_date_local  total_due          tipo             bank  \\\n",
       "0  AR3LJGSXN        2024-01-01   1,612.24  Pago del día  CAJA POP MEXICA   \n",
       "1  ARHPK56L6        2024-01-01     670.76  Pago del día  CAJA POP MEXICA   \n",
       "2  A95HMQCJ8        2024-01-01     924.70  Pago del día  CAJA POP MEXICA   \n",
       "3  ATJ5WYZKZ        2024-01-01   9,582.40  Pago del día  ASP INTEGRA OPC   \n",
       "4  ANGQHNPVT        2024-01-01     383.30  Pago del día  CAJA POP MEXICA   \n",
       "\n",
       "                           swap               CLABE status LINEA CEP  \\\n",
       "0      Juan Pablo Cruz Martinez  677248044011352464  ERROR       NaN   \n",
       "1      Juan Alberto Lopez Gomez  677225043224574231  ERROR       NaN   \n",
       "2  Claudia Horalia Rivera Reyes  677010042278353012  ERROR       NaN   \n",
       "3    Alejandra Rodriguez Guzman  659802020000577065  ERROR       NaN   \n",
       "4   Marco Antonio Bello Serrano  677245044147354368  ERROR       NaN   \n",
       "\n",
       "         Batch_time Banco_emisor                      file_name date_envio  \n",
       "0  02. Second_batch      BANORTE  Dispersión-FP 2024-01-01.xlsx 2024-01-01  \n",
       "1  02. Second_batch      BANORTE  Dispersión-FP 2024-01-01.xlsx 2024-01-01  \n",
       "2  02. Second_batch      BANORTE  Dispersión-FP 2024-01-01.xlsx 2024-01-01  \n",
       "3  02. Second_batch      BANORTE  Dispersión-FP 2024-01-01.xlsx 2024-01-01  \n",
       "4  02. Second_batch      BANORTE  Dispersión-FP 2024-01-01.xlsx 2024-01-01  "
      ]
     },
     "execution_count": 51,
     "metadata": {},
     "output_type": "execute_result"
    }
   ],
   "source": [
    "disp_fp = pd.concat([pd.read_excel(f,sheet_name='FAST PAYMENTS',converters={'report_id':str,'disbursement_tracking_key':str,'CLABE':str})\n",
    "                      .assign(file_name=os.path.basename(f)) for f in qu_1])\n",
    "disp_fp['date_envio'] = disp_fp[\"file_name\"].str[-15:-5]\n",
    "disp_fp['date_envio']= pd.to_datetime(disp_fp['date_envio'])\n",
    "disp_fp['report_date_local'] = pd.to_datetime(disp_fp['report_date_local'])\n",
    "disp_fp.head()"
   ]
  },
  {
   "cell_type": "code",
   "execution_count": 52,
   "metadata": {},
   "outputs": [
    {
     "data": {
      "text/plain": [
       "(74601, 17)"
      ]
     },
     "execution_count": 52,
     "metadata": {},
     "output_type": "execute_result"
    }
   ],
   "source": [
    "disp_fp.shape"
   ]
  },
  {
   "cell_type": "code",
   "execution_count": 53,
   "metadata": {},
   "outputs": [
    {
     "name": "stderr",
     "output_type": "stream",
     "text": [
      "C:\\Users\\Cristian.Aparicio\\AppData\\Local\\Temp\\ipykernel_9608\\1447511370.py:1: FutureWarning: The provided callable <built-in function sum> is currently using SeriesGroupBy.sum. In a future version of pandas, the provided callable will be used directly. To keep current behavior pass the string \"sum\" instead.\n",
      "  pivot_total = disp_fp.groupby(['date_envio']).agg({'total_due':sum}).reset_index()\n"
     ]
    },
    {
     "data": {
      "text/html": [
       "<div>\n",
       "<style scoped>\n",
       "    .dataframe tbody tr th:only-of-type {\n",
       "        vertical-align: middle;\n",
       "    }\n",
       "\n",
       "    .dataframe tbody tr th {\n",
       "        vertical-align: top;\n",
       "    }\n",
       "\n",
       "    .dataframe thead th {\n",
       "        text-align: right;\n",
       "    }\n",
       "</style>\n",
       "<table border=\"1\" class=\"dataframe\">\n",
       "  <thead>\n",
       "    <tr style=\"text-align: right;\">\n",
       "      <th></th>\n",
       "      <th>date_envio</th>\n",
       "      <th>total_due</th>\n",
       "    </tr>\n",
       "  </thead>\n",
       "  <tbody>\n",
       "    <tr>\n",
       "      <th>0</th>\n",
       "      <td>2024-01-01</td>\n",
       "      <td>1,677,947.06</td>\n",
       "    </tr>\n",
       "    <tr>\n",
       "      <th>1</th>\n",
       "      <td>2024-01-02</td>\n",
       "      <td>2,900,343.26</td>\n",
       "    </tr>\n",
       "    <tr>\n",
       "      <th>2</th>\n",
       "      <td>2024-01-03</td>\n",
       "      <td>1,749,042.46</td>\n",
       "    </tr>\n",
       "    <tr>\n",
       "      <th>3</th>\n",
       "      <td>2024-01-04</td>\n",
       "      <td>2,717,041.63</td>\n",
       "    </tr>\n",
       "    <tr>\n",
       "      <th>4</th>\n",
       "      <td>2024-01-05</td>\n",
       "      <td>1,968,067.50</td>\n",
       "    </tr>\n",
       "  </tbody>\n",
       "</table>\n",
       "</div>"
      ],
      "text/plain": [
       "  date_envio    total_due\n",
       "0 2024-01-01 1,677,947.06\n",
       "1 2024-01-02 2,900,343.26\n",
       "2 2024-01-03 1,749,042.46\n",
       "3 2024-01-04 2,717,041.63\n",
       "4 2024-01-05 1,968,067.50"
      ]
     },
     "execution_count": 53,
     "metadata": {},
     "output_type": "execute_result"
    }
   ],
   "source": [
    "pivot_total = disp_fp.groupby(['date_envio']).agg({'total_due':sum}).reset_index()\n",
    "pivot_total.head()"
   ]
  },
  {
   "cell_type": "code",
   "execution_count": 54,
   "metadata": {},
   "outputs": [
    {
     "data": {
      "text/plain": [
       "(31, 2)"
      ]
     },
     "execution_count": 54,
     "metadata": {},
     "output_type": "execute_result"
    }
   ],
   "source": [
    "pivot_total.shape"
   ]
  },
  {
   "cell_type": "code",
   "execution_count": 55,
   "metadata": {},
   "outputs": [
    {
     "name": "stderr",
     "output_type": "stream",
     "text": [
      "C:\\Users\\Cristian.Aparicio\\AppData\\Local\\Temp\\ipykernel_9608\\1288342160.py:1: FutureWarning: The provided callable <built-in function sum> is currently using SeriesGroupBy.sum. In a future version of pandas, the provided callable will be used directly. To keep current behavior pass the string \"sum\" instead.\n",
      "  pivot_parcial = disp_fp.groupby(['tipo','date_envio']).agg({'total_due':sum}).reset_index()\n"
     ]
    },
    {
     "data": {
      "text/html": [
       "<div>\n",
       "<style scoped>\n",
       "    .dataframe tbody tr th:only-of-type {\n",
       "        vertical-align: middle;\n",
       "    }\n",
       "\n",
       "    .dataframe tbody tr th {\n",
       "        vertical-align: top;\n",
       "    }\n",
       "\n",
       "    .dataframe thead th {\n",
       "        text-align: right;\n",
       "    }\n",
       "</style>\n",
       "<table border=\"1\" class=\"dataframe\">\n",
       "  <thead>\n",
       "    <tr style=\"text-align: right;\">\n",
       "      <th></th>\n",
       "      <th>tipo</th>\n",
       "      <th>date_envio</th>\n",
       "      <th>total_due</th>\n",
       "    </tr>\n",
       "  </thead>\n",
       "  <tbody>\n",
       "    <tr>\n",
       "      <th>0</th>\n",
       "      <td>Pago del día</td>\n",
       "      <td>2024-01-01</td>\n",
       "      <td>919,393.73</td>\n",
       "    </tr>\n",
       "    <tr>\n",
       "      <th>1</th>\n",
       "      <td>Pago del día</td>\n",
       "      <td>2024-01-02</td>\n",
       "      <td>1,403,802.12</td>\n",
       "    </tr>\n",
       "    <tr>\n",
       "      <th>2</th>\n",
       "      <td>Pago del día</td>\n",
       "      <td>2024-01-03</td>\n",
       "      <td>1,213,483.69</td>\n",
       "    </tr>\n",
       "    <tr>\n",
       "      <th>3</th>\n",
       "      <td>Pago del día</td>\n",
       "      <td>2024-01-04</td>\n",
       "      <td>1,435,718.16</td>\n",
       "    </tr>\n",
       "    <tr>\n",
       "      <th>4</th>\n",
       "      <td>Pago del día</td>\n",
       "      <td>2024-01-05</td>\n",
       "      <td>1,558,952.34</td>\n",
       "    </tr>\n",
       "  </tbody>\n",
       "</table>\n",
       "</div>"
      ],
      "text/plain": [
       "           tipo date_envio    total_due\n",
       "0  Pago del día 2024-01-01   919,393.73\n",
       "1  Pago del día 2024-01-02 1,403,802.12\n",
       "2  Pago del día 2024-01-03 1,213,483.69\n",
       "3  Pago del día 2024-01-04 1,435,718.16\n",
       "4  Pago del día 2024-01-05 1,558,952.34"
      ]
     },
     "execution_count": 55,
     "metadata": {},
     "output_type": "execute_result"
    }
   ],
   "source": [
    "pivot_parcial = disp_fp.groupby(['tipo','date_envio']).agg({'total_due':sum}).reset_index()\n",
    "pivot_parcial.head()\n"
   ]
  },
  {
   "cell_type": "code",
   "execution_count": 56,
   "metadata": {},
   "outputs": [
    {
     "data": {
      "text/plain": [
       "(62, 3)"
      ]
     },
     "execution_count": 56,
     "metadata": {},
     "output_type": "execute_result"
    }
   ],
   "source": [
    "pivot_parcial.shape"
   ]
  },
  {
   "cell_type": "code",
   "execution_count": 57,
   "metadata": {},
   "outputs": [],
   "source": [
    "writer = pd.ExcelWriter('FP TIPO DE PAGO ENERO 2024.xlsx',\n",
    "                        engine='xlsxwriter',\n",
    "                        engine_kwargs={'options': {'encoding':'utf-8'}})\n",
    "pivot_total.to_excel(writer, sheet_name='FP TOTAL')\n",
    "pivot_parcial.to_excel(writer, sheet_name='FP PARCIAL')\n",
    "writer.close()"
   ]
  },
  {
   "cell_type": "code",
   "execution_count": null,
   "metadata": {},
   "outputs": [],
   "source": []
  }
 ],
 "metadata": {
  "kernelspec": {
   "display_name": "Python 3 (ipykernel)",
   "language": "python",
   "name": "python3"
  },
  "language_info": {
   "codemirror_mode": {
    "name": "ipython",
    "version": 3
   },
   "file_extension": ".py",
   "mimetype": "text/x-python",
   "name": "python",
   "nbconvert_exporter": "python",
   "pygments_lexer": "ipython3",
   "version": "3.9.18"
  }
 },
 "nbformat": 4,
 "nbformat_minor": 4
}
