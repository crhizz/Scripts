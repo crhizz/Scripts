{
 "cells": [
  {
   "cell_type": "code",
   "execution_count": 1,
   "metadata": {},
   "outputs": [
    {
     "data": {
      "text/plain": [
       "datetime.timedelta(days=1)"
      ]
     },
     "execution_count": 1,
     "metadata": {},
     "output_type": "execute_result"
    }
   ],
   "source": [
    "import pandas as pd\n",
    "import numpy as np\n",
    "from openpyxl import load_workbook\n",
    "import glob\n",
    "import os\n",
    "import datetime\n",
    "pd.options.display.float_format = '{:,.2f}'.format\n",
    "datetime.timedelta(days=1)\n",
    "datetime.timedelta(1)"
   ]
  },
  {
   "cell_type": "code",
   "execution_count": 2,
   "metadata": {},
   "outputs": [
    {
     "data": {
      "text/plain": [
       "['C:\\\\Users\\\\Cristian.Aparicio\\\\Documents\\\\POLIZAS\\\\2023\\\\09. SEPTIEMBRE\\\\DATA\\\\ADJUSTMENTS - TEMPLATE - NULL.csv']"
      ]
     },
     "execution_count": 2,
     "metadata": {},
     "output_type": "execute_result"
    }
   ],
   "source": [
    "allfiles_adj = glob.glob(r'C:\\Users\\Cristian.Aparicio\\Documents\\POLIZAS\\2023\\09. SEPTIEMBRE\\DATA\\ADJ*.csv', recursive=False)\n",
    "allfiles_adj"
   ]
  },
  {
   "cell_type": "code",
   "execution_count": 3,
   "metadata": {},
   "outputs": [
    {
     "data": {
      "text/plain": [
       "['C:\\\\Users\\\\Cristian.Aparicio\\\\Documents\\\\POLIZAS\\\\2023\\\\09. SEPTIEMBRE\\\\DATA\\\\RETENCIONES - TEMPLATE - NULL.csv']"
      ]
     },
     "execution_count": 3,
     "metadata": {},
     "output_type": "execute_result"
    }
   ],
   "source": [
    "allfiles_ret = glob.glob(r'C:\\Users\\Cristian.Aparicio\\Documents\\POLIZAS\\2023\\09. SEPTIEMBRE\\DATA\\RET*.csv', recursive=False)\n",
    "allfiles_ret"
   ]
  },
  {
   "cell_type": "code",
   "execution_count": 4,
   "metadata": {},
   "outputs": [
    {
     "data": {
      "text/plain": [
       "['C:\\\\Users\\\\Cristian.Aparicio\\\\Documents\\\\POLIZAS\\\\2023\\\\09. SEPTIEMBRE\\\\DATA\\\\LIBERACIONES - TEMPLATE - NULL.csv']"
      ]
     },
     "execution_count": 4,
     "metadata": {},
     "output_type": "execute_result"
    }
   ],
   "source": [
    "allfiles_lib = glob.glob(r'C:\\Users\\Cristian.Aparicio\\Documents\\POLIZAS\\2023\\09. SEPTIEMBRE\\DATA\\LIB*.csv', recursive=False)\n",
    "allfiles_lib"
   ]
  },
  {
   "cell_type": "code",
   "execution_count": 5,
   "metadata": {},
   "outputs": [
    {
     "data": {
      "text/plain": [
       "['G:\\\\.shortcut-targets-by-id\\\\1Oe28Mf9uSidMamjllDen2gkNnC59eSUr\\\\3.-Settlement\\\\5.-HISTORICO FILES PAGOS\\\\01. TRADICIONAL\\\\2023\\\\09. SEPTEMBER\\\\MONTOS EMAIL\\\\DIFF MONTOS-BNTE-1 2023-09-02.csv',\n",
       " 'G:\\\\.shortcut-targets-by-id\\\\1Oe28Mf9uSidMamjllDen2gkNnC59eSUr\\\\3.-Settlement\\\\5.-HISTORICO FILES PAGOS\\\\01. TRADICIONAL\\\\2023\\\\09. SEPTEMBER\\\\MONTOS EMAIL\\\\DIFF MONTOS-BNTE-1 2023-09-03.csv',\n",
       " 'G:\\\\.shortcut-targets-by-id\\\\1Oe28Mf9uSidMamjllDen2gkNnC59eSUr\\\\3.-Settlement\\\\5.-HISTORICO FILES PAGOS\\\\01. TRADICIONAL\\\\2023\\\\09. SEPTEMBER\\\\MONTOS EMAIL\\\\DIFF MONTOS-BNTE-1 2023-09-09.csv',\n",
       " 'G:\\\\.shortcut-targets-by-id\\\\1Oe28Mf9uSidMamjllDen2gkNnC59eSUr\\\\3.-Settlement\\\\5.-HISTORICO FILES PAGOS\\\\01. TRADICIONAL\\\\2023\\\\09. SEPTEMBER\\\\MONTOS EMAIL\\\\DIFF MONTOS-BNTE-1 2023-09-10.csv',\n",
       " 'G:\\\\.shortcut-targets-by-id\\\\1Oe28Mf9uSidMamjllDen2gkNnC59eSUr\\\\3.-Settlement\\\\5.-HISTORICO FILES PAGOS\\\\01. TRADICIONAL\\\\2023\\\\09. SEPTEMBER\\\\MONTOS EMAIL\\\\DIFF MONTOS-BNTE-1 2023-09-16.csv',\n",
       " 'G:\\\\.shortcut-targets-by-id\\\\1Oe28Mf9uSidMamjllDen2gkNnC59eSUr\\\\3.-Settlement\\\\5.-HISTORICO FILES PAGOS\\\\01. TRADICIONAL\\\\2023\\\\09. SEPTEMBER\\\\MONTOS EMAIL\\\\DIFF MONTOS-BNTE-1 2023-09-17.csv',\n",
       " 'G:\\\\.shortcut-targets-by-id\\\\1Oe28Mf9uSidMamjllDen2gkNnC59eSUr\\\\3.-Settlement\\\\5.-HISTORICO FILES PAGOS\\\\01. TRADICIONAL\\\\2023\\\\09. SEPTEMBER\\\\MONTOS EMAIL\\\\DIFF MONTOS-BNTE-1 2023-09-23.csv',\n",
       " 'G:\\\\.shortcut-targets-by-id\\\\1Oe28Mf9uSidMamjllDen2gkNnC59eSUr\\\\3.-Settlement\\\\5.-HISTORICO FILES PAGOS\\\\01. TRADICIONAL\\\\2023\\\\09. SEPTEMBER\\\\MONTOS EMAIL\\\\DIFF MONTOS-BNTE-1 2023-09-24.csv',\n",
       " 'G:\\\\.shortcut-targets-by-id\\\\1Oe28Mf9uSidMamjllDen2gkNnC59eSUr\\\\3.-Settlement\\\\5.-HISTORICO FILES PAGOS\\\\01. TRADICIONAL\\\\2023\\\\09. SEPTEMBER\\\\MONTOS EMAIL\\\\DIFF MONTOS-BNTE-1 2023-09-30.csv',\n",
       " 'G:\\\\.shortcut-targets-by-id\\\\1Oe28Mf9uSidMamjllDen2gkNnC59eSUr\\\\3.-Settlement\\\\5.-HISTORICO FILES PAGOS\\\\01. TRADICIONAL\\\\2023\\\\09. SEPTEMBER\\\\MONTOS EMAIL\\\\DIFF MONTOS-BNTE-2 2023-09-02.csv',\n",
       " 'G:\\\\.shortcut-targets-by-id\\\\1Oe28Mf9uSidMamjllDen2gkNnC59eSUr\\\\3.-Settlement\\\\5.-HISTORICO FILES PAGOS\\\\01. TRADICIONAL\\\\2023\\\\09. SEPTEMBER\\\\MONTOS EMAIL\\\\DIFF MONTOS-BNTE-2 2023-09-03.csv',\n",
       " 'G:\\\\.shortcut-targets-by-id\\\\1Oe28Mf9uSidMamjllDen2gkNnC59eSUr\\\\3.-Settlement\\\\5.-HISTORICO FILES PAGOS\\\\01. TRADICIONAL\\\\2023\\\\09. SEPTEMBER\\\\MONTOS EMAIL\\\\DIFF MONTOS-BNTE-2 2023-09-04.csv',\n",
       " 'G:\\\\.shortcut-targets-by-id\\\\1Oe28Mf9uSidMamjllDen2gkNnC59eSUr\\\\3.-Settlement\\\\5.-HISTORICO FILES PAGOS\\\\01. TRADICIONAL\\\\2023\\\\09. SEPTEMBER\\\\MONTOS EMAIL\\\\DIFF MONTOS-BNTE-2 2023-09-09.csv',\n",
       " 'G:\\\\.shortcut-targets-by-id\\\\1Oe28Mf9uSidMamjllDen2gkNnC59eSUr\\\\3.-Settlement\\\\5.-HISTORICO FILES PAGOS\\\\01. TRADICIONAL\\\\2023\\\\09. SEPTEMBER\\\\MONTOS EMAIL\\\\DIFF MONTOS-BNTE-2 2023-09-10.csv',\n",
       " 'G:\\\\.shortcut-targets-by-id\\\\1Oe28Mf9uSidMamjllDen2gkNnC59eSUr\\\\3.-Settlement\\\\5.-HISTORICO FILES PAGOS\\\\01. TRADICIONAL\\\\2023\\\\09. SEPTEMBER\\\\MONTOS EMAIL\\\\DIFF MONTOS-BNTE-2 2023-09-11.csv',\n",
       " 'G:\\\\.shortcut-targets-by-id\\\\1Oe28Mf9uSidMamjllDen2gkNnC59eSUr\\\\3.-Settlement\\\\5.-HISTORICO FILES PAGOS\\\\01. TRADICIONAL\\\\2023\\\\09. SEPTEMBER\\\\MONTOS EMAIL\\\\DIFF MONTOS-BNTE-2 2023-09-16.csv',\n",
       " 'G:\\\\.shortcut-targets-by-id\\\\1Oe28Mf9uSidMamjllDen2gkNnC59eSUr\\\\3.-Settlement\\\\5.-HISTORICO FILES PAGOS\\\\01. TRADICIONAL\\\\2023\\\\09. SEPTEMBER\\\\MONTOS EMAIL\\\\DIFF MONTOS-BNTE-2 2023-09-18.csv',\n",
       " 'G:\\\\.shortcut-targets-by-id\\\\1Oe28Mf9uSidMamjllDen2gkNnC59eSUr\\\\3.-Settlement\\\\5.-HISTORICO FILES PAGOS\\\\01. TRADICIONAL\\\\2023\\\\09. SEPTEMBER\\\\MONTOS EMAIL\\\\DIFF MONTOS-BNTE-2 2023-09-19.csv',\n",
       " 'G:\\\\.shortcut-targets-by-id\\\\1Oe28Mf9uSidMamjllDen2gkNnC59eSUr\\\\3.-Settlement\\\\5.-HISTORICO FILES PAGOS\\\\01. TRADICIONAL\\\\2023\\\\09. SEPTEMBER\\\\MONTOS EMAIL\\\\DIFF MONTOS-BNTE-2 2023-09-23.csv',\n",
       " 'G:\\\\.shortcut-targets-by-id\\\\1Oe28Mf9uSidMamjllDen2gkNnC59eSUr\\\\3.-Settlement\\\\5.-HISTORICO FILES PAGOS\\\\01. TRADICIONAL\\\\2023\\\\09. SEPTEMBER\\\\MONTOS EMAIL\\\\DIFF MONTOS-BNTE-2 2023-09-24.csv',\n",
       " 'G:\\\\.shortcut-targets-by-id\\\\1Oe28Mf9uSidMamjllDen2gkNnC59eSUr\\\\3.-Settlement\\\\5.-HISTORICO FILES PAGOS\\\\01. TRADICIONAL\\\\2023\\\\09. SEPTEMBER\\\\MONTOS EMAIL\\\\DIFF MONTOS-BNTE-2 2023-09-25.csv',\n",
       " 'G:\\\\.shortcut-targets-by-id\\\\1Oe28Mf9uSidMamjllDen2gkNnC59eSUr\\\\3.-Settlement\\\\5.-HISTORICO FILES PAGOS\\\\01. TRADICIONAL\\\\2023\\\\09. SEPTEMBER\\\\MONTOS EMAIL\\\\DIFF MONTOS-BNTE-2 2023-09-26.csv',\n",
       " 'G:\\\\.shortcut-targets-by-id\\\\1Oe28Mf9uSidMamjllDen2gkNnC59eSUr\\\\3.-Settlement\\\\5.-HISTORICO FILES PAGOS\\\\01. TRADICIONAL\\\\2023\\\\09. SEPTEMBER\\\\MONTOS EMAIL\\\\DIFF MONTOS-BNTE-2 2023-09-30.csv',\n",
       " 'G:\\\\.shortcut-targets-by-id\\\\1Oe28Mf9uSidMamjllDen2gkNnC59eSUr\\\\3.-Settlement\\\\5.-HISTORICO FILES PAGOS\\\\01. TRADICIONAL\\\\2023\\\\09. SEPTEMBER\\\\MONTOS EMAIL\\\\DIFF MONTOS-BNTE-3 2023-09-01.csv',\n",
       " 'G:\\\\.shortcut-targets-by-id\\\\1Oe28Mf9uSidMamjllDen2gkNnC59eSUr\\\\3.-Settlement\\\\5.-HISTORICO FILES PAGOS\\\\01. TRADICIONAL\\\\2023\\\\09. SEPTEMBER\\\\MONTOS EMAIL\\\\DIFF MONTOS-BNTE-3 2023-09-05.csv',\n",
       " 'G:\\\\.shortcut-targets-by-id\\\\1Oe28Mf9uSidMamjllDen2gkNnC59eSUr\\\\3.-Settlement\\\\5.-HISTORICO FILES PAGOS\\\\01. TRADICIONAL\\\\2023\\\\09. SEPTEMBER\\\\MONTOS EMAIL\\\\DIFF MONTOS-BNTE-3 2023-09-06.csv',\n",
       " 'G:\\\\.shortcut-targets-by-id\\\\1Oe28Mf9uSidMamjllDen2gkNnC59eSUr\\\\3.-Settlement\\\\5.-HISTORICO FILES PAGOS\\\\01. TRADICIONAL\\\\2023\\\\09. SEPTEMBER\\\\MONTOS EMAIL\\\\DIFF MONTOS-BNTE-3 2023-09-07.csv',\n",
       " 'G:\\\\.shortcut-targets-by-id\\\\1Oe28Mf9uSidMamjllDen2gkNnC59eSUr\\\\3.-Settlement\\\\5.-HISTORICO FILES PAGOS\\\\01. TRADICIONAL\\\\2023\\\\09. SEPTEMBER\\\\MONTOS EMAIL\\\\DIFF MONTOS-BNTE-3 2023-09-08.csv',\n",
       " 'G:\\\\.shortcut-targets-by-id\\\\1Oe28Mf9uSidMamjllDen2gkNnC59eSUr\\\\3.-Settlement\\\\5.-HISTORICO FILES PAGOS\\\\01. TRADICIONAL\\\\2023\\\\09. SEPTEMBER\\\\MONTOS EMAIL\\\\DIFF MONTOS-BNTE-3 2023-09-12.csv',\n",
       " 'G:\\\\.shortcut-targets-by-id\\\\1Oe28Mf9uSidMamjllDen2gkNnC59eSUr\\\\3.-Settlement\\\\5.-HISTORICO FILES PAGOS\\\\01. TRADICIONAL\\\\2023\\\\09. SEPTEMBER\\\\MONTOS EMAIL\\\\DIFF MONTOS-BNTE-3 2023-09-13.csv',\n",
       " 'G:\\\\.shortcut-targets-by-id\\\\1Oe28Mf9uSidMamjllDen2gkNnC59eSUr\\\\3.-Settlement\\\\5.-HISTORICO FILES PAGOS\\\\01. TRADICIONAL\\\\2023\\\\09. SEPTEMBER\\\\MONTOS EMAIL\\\\DIFF MONTOS-BNTE-3 2023-09-14.csv',\n",
       " 'G:\\\\.shortcut-targets-by-id\\\\1Oe28Mf9uSidMamjllDen2gkNnC59eSUr\\\\3.-Settlement\\\\5.-HISTORICO FILES PAGOS\\\\01. TRADICIONAL\\\\2023\\\\09. SEPTEMBER\\\\MONTOS EMAIL\\\\DIFF MONTOS-BNTE-3 2023-09-15.csv',\n",
       " 'G:\\\\.shortcut-targets-by-id\\\\1Oe28Mf9uSidMamjllDen2gkNnC59eSUr\\\\3.-Settlement\\\\5.-HISTORICO FILES PAGOS\\\\01. TRADICIONAL\\\\2023\\\\09. SEPTEMBER\\\\MONTOS EMAIL\\\\DIFF MONTOS-BNTE-3 2023-09-20.csv',\n",
       " 'G:\\\\.shortcut-targets-by-id\\\\1Oe28Mf9uSidMamjllDen2gkNnC59eSUr\\\\3.-Settlement\\\\5.-HISTORICO FILES PAGOS\\\\01. TRADICIONAL\\\\2023\\\\09. SEPTEMBER\\\\MONTOS EMAIL\\\\DIFF MONTOS-BNTE-3 2023-09-21.csv',\n",
       " 'G:\\\\.shortcut-targets-by-id\\\\1Oe28Mf9uSidMamjllDen2gkNnC59eSUr\\\\3.-Settlement\\\\5.-HISTORICO FILES PAGOS\\\\01. TRADICIONAL\\\\2023\\\\09. SEPTEMBER\\\\MONTOS EMAIL\\\\DIFF MONTOS-BNTE-3 2023-09-22.csv',\n",
       " 'G:\\\\.shortcut-targets-by-id\\\\1Oe28Mf9uSidMamjllDen2gkNnC59eSUr\\\\3.-Settlement\\\\5.-HISTORICO FILES PAGOS\\\\01. TRADICIONAL\\\\2023\\\\09. SEPTEMBER\\\\MONTOS EMAIL\\\\DIFF MONTOS-BNTE-3 2023-09-27.csv',\n",
       " 'G:\\\\.shortcut-targets-by-id\\\\1Oe28Mf9uSidMamjllDen2gkNnC59eSUr\\\\3.-Settlement\\\\5.-HISTORICO FILES PAGOS\\\\01. TRADICIONAL\\\\2023\\\\09. SEPTEMBER\\\\MONTOS EMAIL\\\\DIFF MONTOS-BNTE-3 2023-09-28.csv',\n",
       " 'G:\\\\.shortcut-targets-by-id\\\\1Oe28Mf9uSidMamjllDen2gkNnC59eSUr\\\\3.-Settlement\\\\5.-HISTORICO FILES PAGOS\\\\01. TRADICIONAL\\\\2023\\\\09. SEPTEMBER\\\\MONTOS EMAIL\\\\DIFF MONTOS-BNTE-3 2023-09-29.csv',\n",
       " 'G:\\\\.shortcut-targets-by-id\\\\1Oe28Mf9uSidMamjllDen2gkNnC59eSUr\\\\3.-Settlement\\\\5.-HISTORICO FILES PAGOS\\\\01. TRADICIONAL\\\\2023\\\\09. SEPTEMBER\\\\MONTOS EMAIL\\\\DIFF MONTOS-SANT-1 2023-09-01.csv',\n",
       " 'G:\\\\.shortcut-targets-by-id\\\\1Oe28Mf9uSidMamjllDen2gkNnC59eSUr\\\\3.-Settlement\\\\5.-HISTORICO FILES PAGOS\\\\01. TRADICIONAL\\\\2023\\\\09. SEPTEMBER\\\\MONTOS EMAIL\\\\DIFF MONTOS-SANT-1 2023-09-04.csv',\n",
       " 'G:\\\\.shortcut-targets-by-id\\\\1Oe28Mf9uSidMamjllDen2gkNnC59eSUr\\\\3.-Settlement\\\\5.-HISTORICO FILES PAGOS\\\\01. TRADICIONAL\\\\2023\\\\09. SEPTEMBER\\\\MONTOS EMAIL\\\\DIFF MONTOS-SANT-1 2023-09-05.csv',\n",
       " 'G:\\\\.shortcut-targets-by-id\\\\1Oe28Mf9uSidMamjllDen2gkNnC59eSUr\\\\3.-Settlement\\\\5.-HISTORICO FILES PAGOS\\\\01. TRADICIONAL\\\\2023\\\\09. SEPTEMBER\\\\MONTOS EMAIL\\\\DIFF MONTOS-SANT-1 2023-09-06.csv',\n",
       " 'G:\\\\.shortcut-targets-by-id\\\\1Oe28Mf9uSidMamjllDen2gkNnC59eSUr\\\\3.-Settlement\\\\5.-HISTORICO FILES PAGOS\\\\01. TRADICIONAL\\\\2023\\\\09. SEPTEMBER\\\\MONTOS EMAIL\\\\DIFF MONTOS-SANT-1 2023-09-07.csv',\n",
       " 'G:\\\\.shortcut-targets-by-id\\\\1Oe28Mf9uSidMamjllDen2gkNnC59eSUr\\\\3.-Settlement\\\\5.-HISTORICO FILES PAGOS\\\\01. TRADICIONAL\\\\2023\\\\09. SEPTEMBER\\\\MONTOS EMAIL\\\\DIFF MONTOS-SANT-1 2023-09-08.csv',\n",
       " 'G:\\\\.shortcut-targets-by-id\\\\1Oe28Mf9uSidMamjllDen2gkNnC59eSUr\\\\3.-Settlement\\\\5.-HISTORICO FILES PAGOS\\\\01. TRADICIONAL\\\\2023\\\\09. SEPTEMBER\\\\MONTOS EMAIL\\\\DIFF MONTOS-SANT-1 2023-09-11.csv',\n",
       " 'G:\\\\.shortcut-targets-by-id\\\\1Oe28Mf9uSidMamjllDen2gkNnC59eSUr\\\\3.-Settlement\\\\5.-HISTORICO FILES PAGOS\\\\01. TRADICIONAL\\\\2023\\\\09. SEPTEMBER\\\\MONTOS EMAIL\\\\DIFF MONTOS-SANT-1 2023-09-12.csv',\n",
       " 'G:\\\\.shortcut-targets-by-id\\\\1Oe28Mf9uSidMamjllDen2gkNnC59eSUr\\\\3.-Settlement\\\\5.-HISTORICO FILES PAGOS\\\\01. TRADICIONAL\\\\2023\\\\09. SEPTEMBER\\\\MONTOS EMAIL\\\\DIFF MONTOS-SANT-1 2023-09-13.csv',\n",
       " 'G:\\\\.shortcut-targets-by-id\\\\1Oe28Mf9uSidMamjllDen2gkNnC59eSUr\\\\3.-Settlement\\\\5.-HISTORICO FILES PAGOS\\\\01. TRADICIONAL\\\\2023\\\\09. SEPTEMBER\\\\MONTOS EMAIL\\\\DIFF MONTOS-SANT-1 2023-09-14.csv',\n",
       " 'G:\\\\.shortcut-targets-by-id\\\\1Oe28Mf9uSidMamjllDen2gkNnC59eSUr\\\\3.-Settlement\\\\5.-HISTORICO FILES PAGOS\\\\01. TRADICIONAL\\\\2023\\\\09. SEPTEMBER\\\\MONTOS EMAIL\\\\DIFF MONTOS-SANT-1 2023-09-15.csv',\n",
       " 'G:\\\\.shortcut-targets-by-id\\\\1Oe28Mf9uSidMamjllDen2gkNnC59eSUr\\\\3.-Settlement\\\\5.-HISTORICO FILES PAGOS\\\\01. TRADICIONAL\\\\2023\\\\09. SEPTEMBER\\\\MONTOS EMAIL\\\\DIFF MONTOS-SANT-1 2023-09-18.csv',\n",
       " 'G:\\\\.shortcut-targets-by-id\\\\1Oe28Mf9uSidMamjllDen2gkNnC59eSUr\\\\3.-Settlement\\\\5.-HISTORICO FILES PAGOS\\\\01. TRADICIONAL\\\\2023\\\\09. SEPTEMBER\\\\MONTOS EMAIL\\\\DIFF MONTOS-SANT-1 2023-09-19.csv',\n",
       " 'G:\\\\.shortcut-targets-by-id\\\\1Oe28Mf9uSidMamjllDen2gkNnC59eSUr\\\\3.-Settlement\\\\5.-HISTORICO FILES PAGOS\\\\01. TRADICIONAL\\\\2023\\\\09. SEPTEMBER\\\\MONTOS EMAIL\\\\DIFF MONTOS-SANT-1 2023-09-20.csv',\n",
       " 'G:\\\\.shortcut-targets-by-id\\\\1Oe28Mf9uSidMamjllDen2gkNnC59eSUr\\\\3.-Settlement\\\\5.-HISTORICO FILES PAGOS\\\\01. TRADICIONAL\\\\2023\\\\09. SEPTEMBER\\\\MONTOS EMAIL\\\\DIFF MONTOS-SANT-1 2023-09-21.csv',\n",
       " 'G:\\\\.shortcut-targets-by-id\\\\1Oe28Mf9uSidMamjllDen2gkNnC59eSUr\\\\3.-Settlement\\\\5.-HISTORICO FILES PAGOS\\\\01. TRADICIONAL\\\\2023\\\\09. SEPTEMBER\\\\MONTOS EMAIL\\\\DIFF MONTOS-SANT-1 2023-09-22.csv',\n",
       " 'G:\\\\.shortcut-targets-by-id\\\\1Oe28Mf9uSidMamjllDen2gkNnC59eSUr\\\\3.-Settlement\\\\5.-HISTORICO FILES PAGOS\\\\01. TRADICIONAL\\\\2023\\\\09. SEPTEMBER\\\\MONTOS EMAIL\\\\DIFF MONTOS-SANT-1 2023-09-25.csv',\n",
       " 'G:\\\\.shortcut-targets-by-id\\\\1Oe28Mf9uSidMamjllDen2gkNnC59eSUr\\\\3.-Settlement\\\\5.-HISTORICO FILES PAGOS\\\\01. TRADICIONAL\\\\2023\\\\09. SEPTEMBER\\\\MONTOS EMAIL\\\\DIFF MONTOS-SANT-1 2023-09-26.csv',\n",
       " 'G:\\\\.shortcut-targets-by-id\\\\1Oe28Mf9uSidMamjllDen2gkNnC59eSUr\\\\3.-Settlement\\\\5.-HISTORICO FILES PAGOS\\\\01. TRADICIONAL\\\\2023\\\\09. SEPTEMBER\\\\MONTOS EMAIL\\\\DIFF MONTOS-SANT-1 2023-09-27.csv',\n",
       " 'G:\\\\.shortcut-targets-by-id\\\\1Oe28Mf9uSidMamjllDen2gkNnC59eSUr\\\\3.-Settlement\\\\5.-HISTORICO FILES PAGOS\\\\01. TRADICIONAL\\\\2023\\\\09. SEPTEMBER\\\\MONTOS EMAIL\\\\DIFF MONTOS-SANT-1 2023-09-28.csv',\n",
       " 'G:\\\\.shortcut-targets-by-id\\\\1Oe28Mf9uSidMamjllDen2gkNnC59eSUr\\\\3.-Settlement\\\\5.-HISTORICO FILES PAGOS\\\\01. TRADICIONAL\\\\2023\\\\09. SEPTEMBER\\\\MONTOS EMAIL\\\\DIFF MONTOS-SANT-1 2023-09-29.csv',\n",
       " 'G:\\\\.shortcut-targets-by-id\\\\1Oe28Mf9uSidMamjllDen2gkNnC59eSUr\\\\3.-Settlement\\\\5.-HISTORICO FILES PAGOS\\\\01. TRADICIONAL\\\\2023\\\\09. SEPTEMBER\\\\MONTOS EMAIL\\\\DIFF MONTOS-SANT-2 2023-09-01.csv',\n",
       " 'G:\\\\.shortcut-targets-by-id\\\\1Oe28Mf9uSidMamjllDen2gkNnC59eSUr\\\\3.-Settlement\\\\5.-HISTORICO FILES PAGOS\\\\01. TRADICIONAL\\\\2023\\\\09. SEPTEMBER\\\\MONTOS EMAIL\\\\DIFF MONTOS-SANT-2 2023-09-05.csv',\n",
       " 'G:\\\\.shortcut-targets-by-id\\\\1Oe28Mf9uSidMamjllDen2gkNnC59eSUr\\\\3.-Settlement\\\\5.-HISTORICO FILES PAGOS\\\\01. TRADICIONAL\\\\2023\\\\09. SEPTEMBER\\\\MONTOS EMAIL\\\\DIFF MONTOS-SANT-2 2023-09-06.csv',\n",
       " 'G:\\\\.shortcut-targets-by-id\\\\1Oe28Mf9uSidMamjllDen2gkNnC59eSUr\\\\3.-Settlement\\\\5.-HISTORICO FILES PAGOS\\\\01. TRADICIONAL\\\\2023\\\\09. SEPTEMBER\\\\MONTOS EMAIL\\\\DIFF MONTOS-SANT-2 2023-09-07.csv',\n",
       " 'G:\\\\.shortcut-targets-by-id\\\\1Oe28Mf9uSidMamjllDen2gkNnC59eSUr\\\\3.-Settlement\\\\5.-HISTORICO FILES PAGOS\\\\01. TRADICIONAL\\\\2023\\\\09. SEPTEMBER\\\\MONTOS EMAIL\\\\DIFF MONTOS-SANT-2 2023-09-08.csv',\n",
       " 'G:\\\\.shortcut-targets-by-id\\\\1Oe28Mf9uSidMamjllDen2gkNnC59eSUr\\\\3.-Settlement\\\\5.-HISTORICO FILES PAGOS\\\\01. TRADICIONAL\\\\2023\\\\09. SEPTEMBER\\\\MONTOS EMAIL\\\\DIFF MONTOS-SANT-2 2023-09-12.csv',\n",
       " 'G:\\\\.shortcut-targets-by-id\\\\1Oe28Mf9uSidMamjllDen2gkNnC59eSUr\\\\3.-Settlement\\\\5.-HISTORICO FILES PAGOS\\\\01. TRADICIONAL\\\\2023\\\\09. SEPTEMBER\\\\MONTOS EMAIL\\\\DIFF MONTOS-SANT-2 2023-09-13.csv',\n",
       " 'G:\\\\.shortcut-targets-by-id\\\\1Oe28Mf9uSidMamjllDen2gkNnC59eSUr\\\\3.-Settlement\\\\5.-HISTORICO FILES PAGOS\\\\01. TRADICIONAL\\\\2023\\\\09. SEPTEMBER\\\\MONTOS EMAIL\\\\DIFF MONTOS-SANT-2 2023-09-14.csv',\n",
       " 'G:\\\\.shortcut-targets-by-id\\\\1Oe28Mf9uSidMamjllDen2gkNnC59eSUr\\\\3.-Settlement\\\\5.-HISTORICO FILES PAGOS\\\\01. TRADICIONAL\\\\2023\\\\09. SEPTEMBER\\\\MONTOS EMAIL\\\\DIFF MONTOS-SANT-2 2023-09-15.csv',\n",
       " 'G:\\\\.shortcut-targets-by-id\\\\1Oe28Mf9uSidMamjllDen2gkNnC59eSUr\\\\3.-Settlement\\\\5.-HISTORICO FILES PAGOS\\\\01. TRADICIONAL\\\\2023\\\\09. SEPTEMBER\\\\MONTOS EMAIL\\\\DIFF MONTOS-SANT-2 2023-09-20.csv',\n",
       " 'G:\\\\.shortcut-targets-by-id\\\\1Oe28Mf9uSidMamjllDen2gkNnC59eSUr\\\\3.-Settlement\\\\5.-HISTORICO FILES PAGOS\\\\01. TRADICIONAL\\\\2023\\\\09. SEPTEMBER\\\\MONTOS EMAIL\\\\DIFF MONTOS-SANT-2 2023-09-21.csv',\n",
       " 'G:\\\\.shortcut-targets-by-id\\\\1Oe28Mf9uSidMamjllDen2gkNnC59eSUr\\\\3.-Settlement\\\\5.-HISTORICO FILES PAGOS\\\\01. TRADICIONAL\\\\2023\\\\09. SEPTEMBER\\\\MONTOS EMAIL\\\\DIFF MONTOS-SANT-2 2023-09-22.csv',\n",
       " 'G:\\\\.shortcut-targets-by-id\\\\1Oe28Mf9uSidMamjllDen2gkNnC59eSUr\\\\3.-Settlement\\\\5.-HISTORICO FILES PAGOS\\\\01. TRADICIONAL\\\\2023\\\\09. SEPTEMBER\\\\MONTOS EMAIL\\\\DIFF MONTOS-SANT-2 2023-09-27.csv',\n",
       " 'G:\\\\.shortcut-targets-by-id\\\\1Oe28Mf9uSidMamjllDen2gkNnC59eSUr\\\\3.-Settlement\\\\5.-HISTORICO FILES PAGOS\\\\01. TRADICIONAL\\\\2023\\\\09. SEPTEMBER\\\\MONTOS EMAIL\\\\DIFF MONTOS-SANT-2 2023-09-28.csv',\n",
       " 'G:\\\\.shortcut-targets-by-id\\\\1Oe28Mf9uSidMamjllDen2gkNnC59eSUr\\\\3.-Settlement\\\\5.-HISTORICO FILES PAGOS\\\\01. TRADICIONAL\\\\2023\\\\09. SEPTEMBER\\\\MONTOS EMAIL\\\\DIFF MONTOS-SANT-2 2023-09-29.csv']"
      ]
     },
     "execution_count": 5,
     "metadata": {},
     "output_type": "execute_result"
    }
   ],
   "source": [
    "allfiles_com = sorted(glob.glob(r'G:\\.shortcut-targets-by-id\\1Oe28Mf9uSidMamjllDen2gkNnC59eSUr\\3.-Settlement\\5.-HISTORICO FILES PAGOS\\01. TRADICIONAL\\2023\\09. SEPTEMBER\\MONTOS EMAIL\\*.csv', recursive=False))\n",
    "allfiles_com"
   ]
  },
  {
   "cell_type": "code",
   "execution_count": 6,
   "metadata": {},
   "outputs": [
    {
     "data": {
      "text/plain": [
       "['G:\\\\My Drive\\\\RESPALDO-PC\\\\LENDERS\\\\2023\\\\DB\\\\LENDERS DB ENERO 2023.csv',\n",
       " 'G:\\\\My Drive\\\\RESPALDO-PC\\\\LENDERS\\\\2023\\\\DB\\\\LENDERS DB FEBRERO 2023.csv',\n",
       " 'G:\\\\My Drive\\\\RESPALDO-PC\\\\LENDERS\\\\2023\\\\DB\\\\LENDERS DB MARZO 2023.csv',\n",
       " 'G:\\\\My Drive\\\\RESPALDO-PC\\\\LENDERS\\\\2023\\\\DB\\\\LENDERS DB ABRIL 2023.csv',\n",
       " 'G:\\\\My Drive\\\\RESPALDO-PC\\\\LENDERS\\\\2023\\\\DB\\\\LENDERS DB MAYO 2023.csv',\n",
       " 'G:\\\\My Drive\\\\RESPALDO-PC\\\\LENDERS\\\\2023\\\\DB\\\\LENDERS DB JUNIO 2023.csv',\n",
       " 'G:\\\\My Drive\\\\RESPALDO-PC\\\\LENDERS\\\\2023\\\\DB\\\\LENDERS DB JULIO 2023.csv',\n",
       " 'G:\\\\My Drive\\\\RESPALDO-PC\\\\LENDERS\\\\2023\\\\DB\\\\LENDERS DB AGOSTO 2023.csv',\n",
       " 'G:\\\\My Drive\\\\RESPALDO-PC\\\\LENDERS\\\\2023\\\\DB\\\\LENDERS DB SEPTIEMBRE 2023.csv']"
      ]
     },
     "execution_count": 6,
     "metadata": {},
     "output_type": "execute_result"
    }
   ],
   "source": [
    "allfiles_lender = glob.glob(r'G:\\My Drive\\RESPALDO-PC\\LENDERS\\2023\\DB\\LEN*.csv', recursive=False)\n",
    "allfiles_lender"
   ]
  },
  {
   "cell_type": "code",
   "execution_count": 7,
   "metadata": {},
   "outputs": [],
   "source": [
    "start_date = '2023-09-01'\n",
    "final_date = '2023-09-30'"
   ]
  },
  {
   "cell_type": "markdown",
   "metadata": {},
   "source": [
    "# ADJUSTMENTS"
   ]
  },
  {
   "cell_type": "code",
   "execution_count": 8,
   "metadata": {},
   "outputs": [
    {
     "data": {
      "text/html": [
       "<div>\n",
       "<style scoped>\n",
       "    .dataframe tbody tr th:only-of-type {\n",
       "        vertical-align: middle;\n",
       "    }\n",
       "\n",
       "    .dataframe tbody tr th {\n",
       "        vertical-align: top;\n",
       "    }\n",
       "\n",
       "    .dataframe thead th {\n",
       "        text-align: right;\n",
       "    }\n",
       "</style>\n",
       "<table border=\"1\" class=\"dataframe\">\n",
       "  <thead>\n",
       "    <tr style=\"text-align: right;\">\n",
       "      <th></th>\n",
       "      <th>report_id</th>\n",
       "      <th>report_date_local</th>\n",
       "      <th>adjustment_date_local</th>\n",
       "      <th>adjustment_type</th>\n",
       "      <th>adjustment_amount</th>\n",
       "      <th>fees_charged</th>\n",
       "      <th>taxes</th>\n",
       "      <th>amount_due</th>\n",
       "      <th>type</th>\n",
       "      <th>date</th>\n",
       "      <th>file_name</th>\n",
       "    </tr>\n",
       "  </thead>\n",
       "  <tbody>\n",
       "  </tbody>\n",
       "</table>\n",
       "</div>"
      ],
      "text/plain": [
       "Empty DataFrame\n",
       "Columns: [report_id, report_date_local, adjustment_date_local, adjustment_type, adjustment_amount, fees_charged, taxes, amount_due, type, date, file_name]\n",
       "Index: []"
      ]
     },
     "execution_count": 8,
     "metadata": {},
     "output_type": "execute_result"
    }
   ],
   "source": [
    "adj_1 = pd.concat([pd.read_csv(f).assign(file_name=os.path.basename(f)) for f in allfiles_adj])\n",
    "adj_1.head()"
   ]
  },
  {
   "cell_type": "code",
   "execution_count": 9,
   "metadata": {},
   "outputs": [
    {
     "data": {
      "text/plain": [
       "(0, 11)"
      ]
     },
     "execution_count": 9,
     "metadata": {},
     "output_type": "execute_result"
    }
   ],
   "source": [
    "adj_1.shape"
   ]
  },
  {
   "cell_type": "markdown",
   "metadata": {},
   "source": [
    "### CURRENT DATES"
   ]
  },
  {
   "cell_type": "code",
   "execution_count": 10,
   "metadata": {},
   "outputs": [
    {
     "data": {
      "text/html": [
       "<div>\n",
       "<style scoped>\n",
       "    .dataframe tbody tr th:only-of-type {\n",
       "        vertical-align: middle;\n",
       "    }\n",
       "\n",
       "    .dataframe tbody tr th {\n",
       "        vertical-align: top;\n",
       "    }\n",
       "\n",
       "    .dataframe thead th {\n",
       "        text-align: right;\n",
       "    }\n",
       "</style>\n",
       "<table border=\"1\" class=\"dataframe\">\n",
       "  <thead>\n",
       "    <tr style=\"text-align: right;\">\n",
       "      <th></th>\n",
       "      <th>report_id</th>\n",
       "      <th>report_date_local</th>\n",
       "      <th>adjustment_date_local</th>\n",
       "      <th>adjustment_type</th>\n",
       "      <th>adjustment_amount</th>\n",
       "      <th>fees_charged</th>\n",
       "      <th>taxes</th>\n",
       "      <th>amount_due</th>\n",
       "      <th>type</th>\n",
       "      <th>date</th>\n",
       "      <th>file_name</th>\n",
       "    </tr>\n",
       "  </thead>\n",
       "  <tbody>\n",
       "  </tbody>\n",
       "</table>\n",
       "</div>"
      ],
      "text/plain": [
       "Empty DataFrame\n",
       "Columns: [report_id, report_date_local, adjustment_date_local, adjustment_type, adjustment_amount, fees_charged, taxes, amount_due, type, date, file_name]\n",
       "Index: []"
      ]
     },
     "execution_count": 10,
     "metadata": {},
     "output_type": "execute_result"
    }
   ],
   "source": [
    "adj_current_month = adj_1[(adj_1['date'] >= start_date) & (adj_1['date'] <= final_date)]\n",
    "adj_current_month.head()"
   ]
  },
  {
   "cell_type": "code",
   "execution_count": 11,
   "metadata": {},
   "outputs": [
    {
     "data": {
      "text/plain": [
       "(0, 11)"
      ]
     },
     "execution_count": 11,
     "metadata": {},
     "output_type": "execute_result"
    }
   ],
   "source": [
    "adj_current_month.shape"
   ]
  },
  {
   "cell_type": "markdown",
   "metadata": {},
   "source": [
    "### PIVOT"
   ]
  },
  {
   "cell_type": "code",
   "execution_count": 12,
   "metadata": {},
   "outputs": [
    {
     "data": {
      "text/html": [
       "<div>\n",
       "<style scoped>\n",
       "    .dataframe tbody tr th:only-of-type {\n",
       "        vertical-align: middle;\n",
       "    }\n",
       "\n",
       "    .dataframe tbody tr th {\n",
       "        vertical-align: top;\n",
       "    }\n",
       "\n",
       "    .dataframe thead th {\n",
       "        text-align: right;\n",
       "    }\n",
       "</style>\n",
       "<table border=\"1\" class=\"dataframe\">\n",
       "  <thead>\n",
       "    <tr style=\"text-align: right;\">\n",
       "      <th></th>\n",
       "      <th>type</th>\n",
       "      <th>adjustment_type</th>\n",
       "      <th>date</th>\n",
       "      <th>adjustment_amount</th>\n",
       "      <th>fees_charged</th>\n",
       "      <th>taxes</th>\n",
       "      <th>amount_due</th>\n",
       "    </tr>\n",
       "  </thead>\n",
       "  <tbody>\n",
       "  </tbody>\n",
       "</table>\n",
       "</div>"
      ],
      "text/plain": [
       "Empty DataFrame\n",
       "Columns: [type, adjustment_type, date, adjustment_amount, fees_charged, taxes, amount_due]\n",
       "Index: []"
      ]
     },
     "execution_count": 12,
     "metadata": {},
     "output_type": "execute_result"
    }
   ],
   "source": [
    "adj_pivot = adj_current_month.groupby(['type','adjustment_type','date']).agg({'adjustment_amount':sum\n",
    "                                                                                ,'fees_charged':sum \n",
    "                                                                                ,'taxes':sum\n",
    "                                                                                ,'amount_due':sum}).reset_index()\n",
    "adj_pivot['adjustment_amount'] = adj_pivot['adjustment_amount']*-1 \n",
    "adj_pivot['fees_charged'] = adj_pivot['fees_charged']*-1\n",
    "adj_pivot['taxes'] = adj_pivot['taxes']*-1 \n",
    "adj_pivot['amount_due'] = adj_pivot['amount_due']*-1 \n",
    "adj_pivot.head()"
   ]
  },
  {
   "cell_type": "code",
   "execution_count": 13,
   "metadata": {},
   "outputs": [
    {
     "data": {
      "text/html": [
       "<div>\n",
       "<style scoped>\n",
       "    .dataframe tbody tr th:only-of-type {\n",
       "        vertical-align: middle;\n",
       "    }\n",
       "\n",
       "    .dataframe tbody tr th {\n",
       "        vertical-align: top;\n",
       "    }\n",
       "\n",
       "    .dataframe thead tr th {\n",
       "        text-align: left;\n",
       "    }\n",
       "\n",
       "    .dataframe thead tr:last-of-type th {\n",
       "        text-align: right;\n",
       "    }\n",
       "</style>\n",
       "<table border=\"1\" class=\"dataframe\">\n",
       "  <thead>\n",
       "    <tr>\n",
       "      <th>type</th>\n",
       "      <th>date</th>\n",
       "    </tr>\n",
       "  </thead>\n",
       "  <tbody>\n",
       "  </tbody>\n",
       "</table>\n",
       "</div>"
      ],
      "text/plain": [
       "Empty DataFrame\n",
       "Columns: []\n",
       "Index: []"
      ]
     },
     "execution_count": 13,
     "metadata": {},
     "output_type": "execute_result"
    }
   ],
   "source": [
    "adj_pivot_v2 = pd.pivot_table(adj_current_month,index=['type','date']\n",
    "                              ,columns=['adjustment_type']\n",
    "                              ,values=['adjustment_amount','fees_charged','taxes','amount_due']\n",
    "                              ,aggfunc=np.sum,margins=True)\n",
    "adj_pivot_v2.head()"
   ]
  },
  {
   "cell_type": "markdown",
   "metadata": {},
   "source": [
    "# LIBERACIONES"
   ]
  },
  {
   "cell_type": "code",
   "execution_count": 14,
   "metadata": {},
   "outputs": [
    {
     "data": {
      "text/html": [
       "<div>\n",
       "<style scoped>\n",
       "    .dataframe tbody tr th:only-of-type {\n",
       "        vertical-align: middle;\n",
       "    }\n",
       "\n",
       "    .dataframe tbody tr th {\n",
       "        vertical-align: top;\n",
       "    }\n",
       "\n",
       "    .dataframe thead th {\n",
       "        text-align: right;\n",
       "    }\n",
       "</style>\n",
       "<table border=\"1\" class=\"dataframe\">\n",
       "  <thead>\n",
       "    <tr style=\"text-align: right;\">\n",
       "      <th></th>\n",
       "      <th>date_release</th>\n",
       "      <th>report_date_local</th>\n",
       "      <th>retained_date_local</th>\n",
       "      <th>report_id</th>\n",
       "      <th>entry_type</th>\n",
       "      <th>amount</th>\n",
       "      <th>type</th>\n",
       "      <th>file_name</th>\n",
       "    </tr>\n",
       "  </thead>\n",
       "  <tbody>\n",
       "  </tbody>\n",
       "</table>\n",
       "</div>"
      ],
      "text/plain": [
       "Empty DataFrame\n",
       "Columns: [date_release, report_date_local, retained_date_local, report_id, entry_type, amount, type, file_name]\n",
       "Index: []"
      ]
     },
     "execution_count": 14,
     "metadata": {},
     "output_type": "execute_result"
    }
   ],
   "source": [
    "lib_1 = pd.concat([pd.read_csv(f).assign(file_name=os.path.basename(f)) for f in allfiles_lib])\n",
    "lib_1.head()"
   ]
  },
  {
   "cell_type": "markdown",
   "metadata": {},
   "source": [
    "### CURRENT DATES"
   ]
  },
  {
   "cell_type": "code",
   "execution_count": 15,
   "metadata": {},
   "outputs": [
    {
     "data": {
      "text/html": [
       "<div>\n",
       "<style scoped>\n",
       "    .dataframe tbody tr th:only-of-type {\n",
       "        vertical-align: middle;\n",
       "    }\n",
       "\n",
       "    .dataframe tbody tr th {\n",
       "        vertical-align: top;\n",
       "    }\n",
       "\n",
       "    .dataframe thead th {\n",
       "        text-align: right;\n",
       "    }\n",
       "</style>\n",
       "<table border=\"1\" class=\"dataframe\">\n",
       "  <thead>\n",
       "    <tr style=\"text-align: right;\">\n",
       "      <th></th>\n",
       "      <th>date_release</th>\n",
       "      <th>report_date_local</th>\n",
       "      <th>retained_date_local</th>\n",
       "      <th>report_id</th>\n",
       "      <th>entry_type</th>\n",
       "      <th>amount</th>\n",
       "      <th>type</th>\n",
       "      <th>file_name</th>\n",
       "    </tr>\n",
       "  </thead>\n",
       "  <tbody>\n",
       "  </tbody>\n",
       "</table>\n",
       "</div>"
      ],
      "text/plain": [
       "Empty DataFrame\n",
       "Columns: [date_release, report_date_local, retained_date_local, report_id, entry_type, amount, type, file_name]\n",
       "Index: []"
      ]
     },
     "execution_count": 15,
     "metadata": {},
     "output_type": "execute_result"
    }
   ],
   "source": [
    "lib_current_month = lib_1[(lib_1['report_date_local'] >= start_date) & (lib_1['report_date_local'] <= final_date)]\n",
    "lib_current_month.head()"
   ]
  },
  {
   "cell_type": "code",
   "execution_count": 16,
   "metadata": {},
   "outputs": [
    {
     "data": {
      "text/plain": [
       "(0, 8)"
      ]
     },
     "execution_count": 16,
     "metadata": {},
     "output_type": "execute_result"
    }
   ],
   "source": [
    "lib_current_month.shape"
   ]
  },
  {
   "cell_type": "markdown",
   "metadata": {},
   "source": [
    "### PIVOT"
   ]
  },
  {
   "cell_type": "code",
   "execution_count": 17,
   "metadata": {},
   "outputs": [
    {
     "data": {
      "text/html": [
       "<div>\n",
       "<style scoped>\n",
       "    .dataframe tbody tr th:only-of-type {\n",
       "        vertical-align: middle;\n",
       "    }\n",
       "\n",
       "    .dataframe tbody tr th {\n",
       "        vertical-align: top;\n",
       "    }\n",
       "\n",
       "    .dataframe thead th {\n",
       "        text-align: right;\n",
       "    }\n",
       "</style>\n",
       "<table border=\"1\" class=\"dataframe\">\n",
       "  <thead>\n",
       "    <tr style=\"text-align: right;\">\n",
       "      <th></th>\n",
       "      <th>type</th>\n",
       "      <th>entry_type</th>\n",
       "      <th>report_date_local</th>\n",
       "      <th>amount</th>\n",
       "    </tr>\n",
       "  </thead>\n",
       "  <tbody>\n",
       "  </tbody>\n",
       "</table>\n",
       "</div>"
      ],
      "text/plain": [
       "Empty DataFrame\n",
       "Columns: [type, entry_type, report_date_local, amount]\n",
       "Index: []"
      ]
     },
     "execution_count": 17,
     "metadata": {},
     "output_type": "execute_result"
    }
   ],
   "source": [
    "lib_pivot = lib_current_month.groupby(['type','entry_type','report_date_local']).agg({'amount':sum}).reset_index()\n",
    "lib_pivot.head()"
   ]
  },
  {
   "cell_type": "code",
   "execution_count": 18,
   "metadata": {},
   "outputs": [
    {
     "data": {
      "text/plain": [
       "(0, 4)"
      ]
     },
     "execution_count": 18,
     "metadata": {},
     "output_type": "execute_result"
    }
   ],
   "source": [
    "lib_pivot.shape"
   ]
  },
  {
   "cell_type": "code",
   "execution_count": 19,
   "metadata": {},
   "outputs": [
    {
     "data": {
      "text/html": [
       "<div>\n",
       "<style scoped>\n",
       "    .dataframe tbody tr th:only-of-type {\n",
       "        vertical-align: middle;\n",
       "    }\n",
       "\n",
       "    .dataframe tbody tr th {\n",
       "        vertical-align: top;\n",
       "    }\n",
       "\n",
       "    .dataframe thead tr th {\n",
       "        text-align: left;\n",
       "    }\n",
       "\n",
       "    .dataframe thead tr:last-of-type th {\n",
       "        text-align: right;\n",
       "    }\n",
       "</style>\n",
       "<table border=\"1\" class=\"dataframe\">\n",
       "  <thead>\n",
       "    <tr>\n",
       "      <th>type</th>\n",
       "      <th>report_date_local</th>\n",
       "    </tr>\n",
       "  </thead>\n",
       "  <tbody>\n",
       "  </tbody>\n",
       "</table>\n",
       "</div>"
      ],
      "text/plain": [
       "Empty DataFrame\n",
       "Columns: []\n",
       "Index: []"
      ]
     },
     "execution_count": 19,
     "metadata": {},
     "output_type": "execute_result"
    }
   ],
   "source": [
    "lib_pivot_v2 = pd.pivot_table(lib_current_month,index=['type','report_date_local']\n",
    "                              ,columns=['entry_type']\n",
    "                              ,values=['amount']\n",
    "                              ,aggfunc=np.sum,margins=True)\n",
    "lib_pivot_v2.head()"
   ]
  },
  {
   "cell_type": "code",
   "execution_count": 20,
   "metadata": {},
   "outputs": [
    {
     "data": {
      "text/plain": [
       "(0, 0)"
      ]
     },
     "execution_count": 20,
     "metadata": {},
     "output_type": "execute_result"
    }
   ],
   "source": [
    "lib_pivot_v2.shape"
   ]
  },
  {
   "cell_type": "markdown",
   "metadata": {},
   "source": [
    "# RETENCIONES"
   ]
  },
  {
   "cell_type": "code",
   "execution_count": 21,
   "metadata": {},
   "outputs": [
    {
     "data": {
      "text/html": [
       "<div>\n",
       "<style scoped>\n",
       "    .dataframe tbody tr th:only-of-type {\n",
       "        vertical-align: middle;\n",
       "    }\n",
       "\n",
       "    .dataframe tbody tr th {\n",
       "        vertical-align: top;\n",
       "    }\n",
       "\n",
       "    .dataframe thead th {\n",
       "        text-align: right;\n",
       "    }\n",
       "</style>\n",
       "<table border=\"1\" class=\"dataframe\">\n",
       "  <thead>\n",
       "    <tr style=\"text-align: right;\">\n",
       "      <th></th>\n",
       "      <th>date_retainment</th>\n",
       "      <th>report_date_local</th>\n",
       "      <th>report_id</th>\n",
       "      <th>entry_type</th>\n",
       "      <th>amount</th>\n",
       "      <th>type</th>\n",
       "      <th>file_name</th>\n",
       "    </tr>\n",
       "  </thead>\n",
       "  <tbody>\n",
       "  </tbody>\n",
       "</table>\n",
       "</div>"
      ],
      "text/plain": [
       "Empty DataFrame\n",
       "Columns: [date_retainment, report_date_local, report_id, entry_type, amount, type, file_name]\n",
       "Index: []"
      ]
     },
     "execution_count": 21,
     "metadata": {},
     "output_type": "execute_result"
    }
   ],
   "source": [
    "ret_1 = pd.concat([pd.read_csv(f).assign(file_name=os.path.basename(f)) for f in allfiles_ret])\n",
    "ret_1.head()"
   ]
  },
  {
   "cell_type": "markdown",
   "metadata": {},
   "source": [
    "### CURRENT DATES"
   ]
  },
  {
   "cell_type": "code",
   "execution_count": 22,
   "metadata": {},
   "outputs": [
    {
     "data": {
      "text/html": [
       "<div>\n",
       "<style scoped>\n",
       "    .dataframe tbody tr th:only-of-type {\n",
       "        vertical-align: middle;\n",
       "    }\n",
       "\n",
       "    .dataframe tbody tr th {\n",
       "        vertical-align: top;\n",
       "    }\n",
       "\n",
       "    .dataframe thead th {\n",
       "        text-align: right;\n",
       "    }\n",
       "</style>\n",
       "<table border=\"1\" class=\"dataframe\">\n",
       "  <thead>\n",
       "    <tr style=\"text-align: right;\">\n",
       "      <th></th>\n",
       "      <th>date_retainment</th>\n",
       "      <th>report_date_local</th>\n",
       "      <th>report_id</th>\n",
       "      <th>entry_type</th>\n",
       "      <th>amount</th>\n",
       "      <th>type</th>\n",
       "      <th>file_name</th>\n",
       "    </tr>\n",
       "  </thead>\n",
       "  <tbody>\n",
       "  </tbody>\n",
       "</table>\n",
       "</div>"
      ],
      "text/plain": [
       "Empty DataFrame\n",
       "Columns: [date_retainment, report_date_local, report_id, entry_type, amount, type, file_name]\n",
       "Index: []"
      ]
     },
     "execution_count": 22,
     "metadata": {},
     "output_type": "execute_result"
    }
   ],
   "source": [
    "ret_current_month = ret_1[(ret_1['report_date_local'] >= start_date) & (ret_1['report_date_local'] <= final_date)]\n",
    "ret_current_month.head()"
   ]
  },
  {
   "cell_type": "code",
   "execution_count": 23,
   "metadata": {},
   "outputs": [
    {
     "data": {
      "text/plain": [
       "(0, 7)"
      ]
     },
     "execution_count": 23,
     "metadata": {},
     "output_type": "execute_result"
    }
   ],
   "source": [
    "ret_current_month.shape"
   ]
  },
  {
   "cell_type": "markdown",
   "metadata": {},
   "source": [
    "### PIVOT"
   ]
  },
  {
   "cell_type": "code",
   "execution_count": 24,
   "metadata": {},
   "outputs": [
    {
     "data": {
      "text/html": [
       "<div>\n",
       "<style scoped>\n",
       "    .dataframe tbody tr th:only-of-type {\n",
       "        vertical-align: middle;\n",
       "    }\n",
       "\n",
       "    .dataframe tbody tr th {\n",
       "        vertical-align: top;\n",
       "    }\n",
       "\n",
       "    .dataframe thead th {\n",
       "        text-align: right;\n",
       "    }\n",
       "</style>\n",
       "<table border=\"1\" class=\"dataframe\">\n",
       "  <thead>\n",
       "    <tr style=\"text-align: right;\">\n",
       "      <th></th>\n",
       "      <th>type</th>\n",
       "      <th>entry_type</th>\n",
       "      <th>report_date_local</th>\n",
       "      <th>amount</th>\n",
       "    </tr>\n",
       "  </thead>\n",
       "  <tbody>\n",
       "  </tbody>\n",
       "</table>\n",
       "</div>"
      ],
      "text/plain": [
       "Empty DataFrame\n",
       "Columns: [type, entry_type, report_date_local, amount]\n",
       "Index: []"
      ]
     },
     "execution_count": 24,
     "metadata": {},
     "output_type": "execute_result"
    }
   ],
   "source": [
    "ret_pivot = ret_current_month.groupby(['type','entry_type','report_date_local']).agg({'amount':sum}).reset_index()\n",
    "ret_pivot.head()"
   ]
  },
  {
   "cell_type": "code",
   "execution_count": 25,
   "metadata": {},
   "outputs": [
    {
     "data": {
      "text/plain": [
       "(0, 4)"
      ]
     },
     "execution_count": 25,
     "metadata": {},
     "output_type": "execute_result"
    }
   ],
   "source": [
    "ret_pivot.shape"
   ]
  },
  {
   "cell_type": "code",
   "execution_count": 26,
   "metadata": {},
   "outputs": [
    {
     "data": {
      "text/html": [
       "<div>\n",
       "<style scoped>\n",
       "    .dataframe tbody tr th:only-of-type {\n",
       "        vertical-align: middle;\n",
       "    }\n",
       "\n",
       "    .dataframe tbody tr th {\n",
       "        vertical-align: top;\n",
       "    }\n",
       "\n",
       "    .dataframe thead tr th {\n",
       "        text-align: left;\n",
       "    }\n",
       "\n",
       "    .dataframe thead tr:last-of-type th {\n",
       "        text-align: right;\n",
       "    }\n",
       "</style>\n",
       "<table border=\"1\" class=\"dataframe\">\n",
       "  <thead>\n",
       "    <tr>\n",
       "      <th>type</th>\n",
       "      <th>report_date_local</th>\n",
       "    </tr>\n",
       "  </thead>\n",
       "  <tbody>\n",
       "  </tbody>\n",
       "</table>\n",
       "</div>"
      ],
      "text/plain": [
       "Empty DataFrame\n",
       "Columns: []\n",
       "Index: []"
      ]
     },
     "execution_count": 26,
     "metadata": {},
     "output_type": "execute_result"
    }
   ],
   "source": [
    "ret_pivot_v2 = pd.pivot_table(ret_current_month,index=['type','report_date_local']\n",
    "                              ,columns=['entry_type']\n",
    "                              ,values=['amount']\n",
    "                              ,aggfunc=np.sum,margins=True)\n",
    "ret_pivot_v2.head()"
   ]
  },
  {
   "cell_type": "code",
   "execution_count": 27,
   "metadata": {},
   "outputs": [
    {
     "data": {
      "text/plain": [
       "(0, 0)"
      ]
     },
     "execution_count": 27,
     "metadata": {},
     "output_type": "execute_result"
    }
   ],
   "source": [
    "ret_pivot_v2.shape"
   ]
  },
  {
   "cell_type": "markdown",
   "metadata": {},
   "source": [
    "# COMISIONES SWAP / BNTE"
   ]
  },
  {
   "cell_type": "code",
   "execution_count": 28,
   "metadata": {},
   "outputs": [
    {
     "data": {
      "text/html": [
       "<div>\n",
       "<style scoped>\n",
       "    .dataframe tbody tr th:only-of-type {\n",
       "        vertical-align: middle;\n",
       "    }\n",
       "\n",
       "    .dataframe tbody tr th {\n",
       "        vertical-align: top;\n",
       "    }\n",
       "\n",
       "    .dataframe thead th {\n",
       "        text-align: right;\n",
       "    }\n",
       "</style>\n",
       "<table border=\"1\" class=\"dataframe\">\n",
       "  <thead>\n",
       "    <tr style=\"text-align: right;\">\n",
       "      <th></th>\n",
       "      <th>date_disbursement</th>\n",
       "      <th>amount</th>\n",
       "      <th>payments_number</th>\n",
       "      <th>comision_dsp</th>\n",
       "      <th>iva_dsp</th>\n",
       "      <th>comision + iva</th>\n",
       "      <th>total_fondeo</th>\n",
       "      <th>monto_mail</th>\n",
       "      <th>comision_mail</th>\n",
       "      <th>iva_mail</th>\n",
       "      <th>monto_fondeo_mail</th>\n",
       "      <th>check_monto</th>\n",
       "      <th>check_comision</th>\n",
       "      <th>check_iva</th>\n",
       "      <th>check_fondeo</th>\n",
       "      <th>dsp</th>\n",
       "      <th>file_name</th>\n",
       "    </tr>\n",
       "  </thead>\n",
       "  <tbody>\n",
       "    <tr>\n",
       "      <th>0</th>\n",
       "      <td>2023-09-02</td>\n",
       "      <td>215,813,429.44</td>\n",
       "      <td>94705</td>\n",
       "      <td>164,641.50</td>\n",
       "      <td>26,342.64</td>\n",
       "      <td>190,984.14</td>\n",
       "      <td>216,004,413.58</td>\n",
       "      <td>215,813,429.44</td>\n",
       "      <td>164,641.50</td>\n",
       "      <td>26,342.64</td>\n",
       "      <td>216,004,413.58</td>\n",
       "      <td>0.00</td>\n",
       "      <td>0.00</td>\n",
       "      <td>0.00</td>\n",
       "      <td>-0.00</td>\n",
       "      <td>BNTE</td>\n",
       "      <td>DIFF MONTOS-BNTE-1 2023-09-02.csv</td>\n",
       "    </tr>\n",
       "    <tr>\n",
       "      <th>0</th>\n",
       "      <td>2023-09-03</td>\n",
       "      <td>241,038,769.01</td>\n",
       "      <td>94688</td>\n",
       "      <td>164,758.65</td>\n",
       "      <td>26,361.38</td>\n",
       "      <td>191,120.03</td>\n",
       "      <td>241,229,889.04</td>\n",
       "      <td>241,038,769.01</td>\n",
       "      <td>164,758.65</td>\n",
       "      <td>26,361.38</td>\n",
       "      <td>241,229,889.04</td>\n",
       "      <td>0.00</td>\n",
       "      <td>0.00</td>\n",
       "      <td>0.00</td>\n",
       "      <td>0.00</td>\n",
       "      <td>BNTE</td>\n",
       "      <td>DIFF MONTOS-BNTE-1 2023-09-03.csv</td>\n",
       "    </tr>\n",
       "    <tr>\n",
       "      <th>0</th>\n",
       "      <td>2023-09-09</td>\n",
       "      <td>210,460,153.06</td>\n",
       "      <td>94706</td>\n",
       "      <td>164,642.55</td>\n",
       "      <td>26,342.81</td>\n",
       "      <td>190,985.36</td>\n",
       "      <td>210,651,138.42</td>\n",
       "      <td>210,460,153.06</td>\n",
       "      <td>164,642.55</td>\n",
       "      <td>26,342.81</td>\n",
       "      <td>210,651,138.42</td>\n",
       "      <td>0.00</td>\n",
       "      <td>0.00</td>\n",
       "      <td>-0.00</td>\n",
       "      <td>-0.00</td>\n",
       "      <td>BNTE</td>\n",
       "      <td>DIFF MONTOS-BNTE-1 2023-09-09.csv</td>\n",
       "    </tr>\n",
       "    <tr>\n",
       "      <th>0</th>\n",
       "      <td>2023-09-10</td>\n",
       "      <td>236,493,609.08</td>\n",
       "      <td>94710</td>\n",
       "      <td>164,735.25</td>\n",
       "      <td>26,357.64</td>\n",
       "      <td>191,092.89</td>\n",
       "      <td>236,684,701.97</td>\n",
       "      <td>236,493,609.08</td>\n",
       "      <td>164,735.25</td>\n",
       "      <td>26,357.64</td>\n",
       "      <td>236,684,701.97</td>\n",
       "      <td>0.00</td>\n",
       "      <td>0.00</td>\n",
       "      <td>0.00</td>\n",
       "      <td>0.00</td>\n",
       "      <td>BNTE</td>\n",
       "      <td>DIFF MONTOS-BNTE-1 2023-09-10.csv</td>\n",
       "    </tr>\n",
       "    <tr>\n",
       "      <th>0</th>\n",
       "      <td>2023-09-16</td>\n",
       "      <td>217,031,271.13</td>\n",
       "      <td>94725</td>\n",
       "      <td>164,660.25</td>\n",
       "      <td>26,345.64</td>\n",
       "      <td>191,005.89</td>\n",
       "      <td>217,222,277.02</td>\n",
       "      <td>217,031,271.13</td>\n",
       "      <td>164,660.25</td>\n",
       "      <td>26,345.64</td>\n",
       "      <td>217,222,277.02</td>\n",
       "      <td>0.00</td>\n",
       "      <td>0.00</td>\n",
       "      <td>0.00</td>\n",
       "      <td>-0.00</td>\n",
       "      <td>BNTE</td>\n",
       "      <td>DIFF MONTOS-BNTE-1 2023-09-16.csv</td>\n",
       "    </tr>\n",
       "  </tbody>\n",
       "</table>\n",
       "</div>"
      ],
      "text/plain": [
       "  date_disbursement         amount  payments_number  comision_dsp   iva_dsp  \\\n",
       "0        2023-09-02 215,813,429.44            94705    164,641.50 26,342.64   \n",
       "0        2023-09-03 241,038,769.01            94688    164,758.65 26,361.38   \n",
       "0        2023-09-09 210,460,153.06            94706    164,642.55 26,342.81   \n",
       "0        2023-09-10 236,493,609.08            94710    164,735.25 26,357.64   \n",
       "0        2023-09-16 217,031,271.13            94725    164,660.25 26,345.64   \n",
       "\n",
       "   comision + iva   total_fondeo     monto_mail  comision_mail  iva_mail  \\\n",
       "0      190,984.14 216,004,413.58 215,813,429.44     164,641.50 26,342.64   \n",
       "0      191,120.03 241,229,889.04 241,038,769.01     164,758.65 26,361.38   \n",
       "0      190,985.36 210,651,138.42 210,460,153.06     164,642.55 26,342.81   \n",
       "0      191,092.89 236,684,701.97 236,493,609.08     164,735.25 26,357.64   \n",
       "0      191,005.89 217,222,277.02 217,031,271.13     164,660.25 26,345.64   \n",
       "\n",
       "   monto_fondeo_mail  check_monto  check_comision  check_iva  check_fondeo  \\\n",
       "0     216,004,413.58         0.00            0.00       0.00         -0.00   \n",
       "0     241,229,889.04         0.00            0.00       0.00          0.00   \n",
       "0     210,651,138.42         0.00            0.00      -0.00         -0.00   \n",
       "0     236,684,701.97         0.00            0.00       0.00          0.00   \n",
       "0     217,222,277.02         0.00            0.00       0.00         -0.00   \n",
       "\n",
       "    dsp                          file_name  \n",
       "0  BNTE  DIFF MONTOS-BNTE-1 2023-09-02.csv  \n",
       "0  BNTE  DIFF MONTOS-BNTE-1 2023-09-03.csv  \n",
       "0  BNTE  DIFF MONTOS-BNTE-1 2023-09-09.csv  \n",
       "0  BNTE  DIFF MONTOS-BNTE-1 2023-09-10.csv  \n",
       "0  BNTE  DIFF MONTOS-BNTE-1 2023-09-16.csv  "
      ]
     },
     "execution_count": 28,
     "metadata": {},
     "output_type": "execute_result"
    }
   ],
   "source": [
    "com_1 = pd.concat([pd.read_csv(f).assign(file_name=os.path.basename(f)) for f in allfiles_com])\n",
    "com_1.head()"
   ]
  },
  {
   "cell_type": "code",
   "execution_count": 29,
   "metadata": {},
   "outputs": [
    {
     "data": {
      "text/plain": [
       "(74, 17)"
      ]
     },
     "execution_count": 29,
     "metadata": {},
     "output_type": "execute_result"
    }
   ],
   "source": [
    "com_1.shape"
   ]
  },
  {
   "cell_type": "markdown",
   "metadata": {},
   "source": [
    "### CURRENT DATES"
   ]
  },
  {
   "cell_type": "code",
   "execution_count": 30,
   "metadata": {},
   "outputs": [
    {
     "data": {
      "text/html": [
       "<div>\n",
       "<style scoped>\n",
       "    .dataframe tbody tr th:only-of-type {\n",
       "        vertical-align: middle;\n",
       "    }\n",
       "\n",
       "    .dataframe tbody tr th {\n",
       "        vertical-align: top;\n",
       "    }\n",
       "\n",
       "    .dataframe thead th {\n",
       "        text-align: right;\n",
       "    }\n",
       "</style>\n",
       "<table border=\"1\" class=\"dataframe\">\n",
       "  <thead>\n",
       "    <tr style=\"text-align: right;\">\n",
       "      <th></th>\n",
       "      <th>date_disbursement</th>\n",
       "      <th>amount</th>\n",
       "      <th>payments_number</th>\n",
       "      <th>comision_dsp</th>\n",
       "      <th>iva_dsp</th>\n",
       "      <th>comision + iva</th>\n",
       "      <th>total_fondeo</th>\n",
       "      <th>monto_mail</th>\n",
       "      <th>comision_mail</th>\n",
       "      <th>iva_mail</th>\n",
       "      <th>monto_fondeo_mail</th>\n",
       "      <th>check_monto</th>\n",
       "      <th>check_comision</th>\n",
       "      <th>check_iva</th>\n",
       "      <th>check_fondeo</th>\n",
       "      <th>dsp</th>\n",
       "      <th>file_name</th>\n",
       "    </tr>\n",
       "  </thead>\n",
       "  <tbody>\n",
       "    <tr>\n",
       "      <th>0</th>\n",
       "      <td>2023-09-02</td>\n",
       "      <td>215,813,429.44</td>\n",
       "      <td>94705</td>\n",
       "      <td>164,641.50</td>\n",
       "      <td>26,342.64</td>\n",
       "      <td>190,984.14</td>\n",
       "      <td>216,004,413.58</td>\n",
       "      <td>215,813,429.44</td>\n",
       "      <td>164,641.50</td>\n",
       "      <td>26,342.64</td>\n",
       "      <td>216,004,413.58</td>\n",
       "      <td>0.00</td>\n",
       "      <td>0.00</td>\n",
       "      <td>0.00</td>\n",
       "      <td>-0.00</td>\n",
       "      <td>BNTE</td>\n",
       "      <td>DIFF MONTOS-BNTE-1 2023-09-02.csv</td>\n",
       "    </tr>\n",
       "    <tr>\n",
       "      <th>0</th>\n",
       "      <td>2023-09-03</td>\n",
       "      <td>241,038,769.01</td>\n",
       "      <td>94688</td>\n",
       "      <td>164,758.65</td>\n",
       "      <td>26,361.38</td>\n",
       "      <td>191,120.03</td>\n",
       "      <td>241,229,889.04</td>\n",
       "      <td>241,038,769.01</td>\n",
       "      <td>164,758.65</td>\n",
       "      <td>26,361.38</td>\n",
       "      <td>241,229,889.04</td>\n",
       "      <td>0.00</td>\n",
       "      <td>0.00</td>\n",
       "      <td>0.00</td>\n",
       "      <td>0.00</td>\n",
       "      <td>BNTE</td>\n",
       "      <td>DIFF MONTOS-BNTE-1 2023-09-03.csv</td>\n",
       "    </tr>\n",
       "    <tr>\n",
       "      <th>0</th>\n",
       "      <td>2023-09-09</td>\n",
       "      <td>210,460,153.06</td>\n",
       "      <td>94706</td>\n",
       "      <td>164,642.55</td>\n",
       "      <td>26,342.81</td>\n",
       "      <td>190,985.36</td>\n",
       "      <td>210,651,138.42</td>\n",
       "      <td>210,460,153.06</td>\n",
       "      <td>164,642.55</td>\n",
       "      <td>26,342.81</td>\n",
       "      <td>210,651,138.42</td>\n",
       "      <td>0.00</td>\n",
       "      <td>0.00</td>\n",
       "      <td>-0.00</td>\n",
       "      <td>-0.00</td>\n",
       "      <td>BNTE</td>\n",
       "      <td>DIFF MONTOS-BNTE-1 2023-09-09.csv</td>\n",
       "    </tr>\n",
       "    <tr>\n",
       "      <th>0</th>\n",
       "      <td>2023-09-10</td>\n",
       "      <td>236,493,609.08</td>\n",
       "      <td>94710</td>\n",
       "      <td>164,735.25</td>\n",
       "      <td>26,357.64</td>\n",
       "      <td>191,092.89</td>\n",
       "      <td>236,684,701.97</td>\n",
       "      <td>236,493,609.08</td>\n",
       "      <td>164,735.25</td>\n",
       "      <td>26,357.64</td>\n",
       "      <td>236,684,701.97</td>\n",
       "      <td>0.00</td>\n",
       "      <td>0.00</td>\n",
       "      <td>0.00</td>\n",
       "      <td>0.00</td>\n",
       "      <td>BNTE</td>\n",
       "      <td>DIFF MONTOS-BNTE-1 2023-09-10.csv</td>\n",
       "    </tr>\n",
       "    <tr>\n",
       "      <th>0</th>\n",
       "      <td>2023-09-16</td>\n",
       "      <td>217,031,271.13</td>\n",
       "      <td>94725</td>\n",
       "      <td>164,660.25</td>\n",
       "      <td>26,345.64</td>\n",
       "      <td>191,005.89</td>\n",
       "      <td>217,222,277.02</td>\n",
       "      <td>217,031,271.13</td>\n",
       "      <td>164,660.25</td>\n",
       "      <td>26,345.64</td>\n",
       "      <td>217,222,277.02</td>\n",
       "      <td>0.00</td>\n",
       "      <td>0.00</td>\n",
       "      <td>0.00</td>\n",
       "      <td>-0.00</td>\n",
       "      <td>BNTE</td>\n",
       "      <td>DIFF MONTOS-BNTE-1 2023-09-16.csv</td>\n",
       "    </tr>\n",
       "  </tbody>\n",
       "</table>\n",
       "</div>"
      ],
      "text/plain": [
       "  date_disbursement         amount  payments_number  comision_dsp   iva_dsp  \\\n",
       "0        2023-09-02 215,813,429.44            94705    164,641.50 26,342.64   \n",
       "0        2023-09-03 241,038,769.01            94688    164,758.65 26,361.38   \n",
       "0        2023-09-09 210,460,153.06            94706    164,642.55 26,342.81   \n",
       "0        2023-09-10 236,493,609.08            94710    164,735.25 26,357.64   \n",
       "0        2023-09-16 217,031,271.13            94725    164,660.25 26,345.64   \n",
       "\n",
       "   comision + iva   total_fondeo     monto_mail  comision_mail  iva_mail  \\\n",
       "0      190,984.14 216,004,413.58 215,813,429.44     164,641.50 26,342.64   \n",
       "0      191,120.03 241,229,889.04 241,038,769.01     164,758.65 26,361.38   \n",
       "0      190,985.36 210,651,138.42 210,460,153.06     164,642.55 26,342.81   \n",
       "0      191,092.89 236,684,701.97 236,493,609.08     164,735.25 26,357.64   \n",
       "0      191,005.89 217,222,277.02 217,031,271.13     164,660.25 26,345.64   \n",
       "\n",
       "   monto_fondeo_mail  check_monto  check_comision  check_iva  check_fondeo  \\\n",
       "0     216,004,413.58         0.00            0.00       0.00         -0.00   \n",
       "0     241,229,889.04         0.00            0.00       0.00          0.00   \n",
       "0     210,651,138.42         0.00            0.00      -0.00         -0.00   \n",
       "0     236,684,701.97         0.00            0.00       0.00          0.00   \n",
       "0     217,222,277.02         0.00            0.00       0.00         -0.00   \n",
       "\n",
       "    dsp                          file_name  \n",
       "0  BNTE  DIFF MONTOS-BNTE-1 2023-09-02.csv  \n",
       "0  BNTE  DIFF MONTOS-BNTE-1 2023-09-03.csv  \n",
       "0  BNTE  DIFF MONTOS-BNTE-1 2023-09-09.csv  \n",
       "0  BNTE  DIFF MONTOS-BNTE-1 2023-09-10.csv  \n",
       "0  BNTE  DIFF MONTOS-BNTE-1 2023-09-16.csv  "
      ]
     },
     "execution_count": 30,
     "metadata": {},
     "output_type": "execute_result"
    }
   ],
   "source": [
    "com_current_month = com_1[(com_1['date_disbursement'] >= start_date) & (com_1['date_disbursement'] <= final_date)]\n",
    "com_current_month.head()"
   ]
  },
  {
   "cell_type": "code",
   "execution_count": 31,
   "metadata": {},
   "outputs": [
    {
     "data": {
      "text/plain": [
       "(74, 17)"
      ]
     },
     "execution_count": 31,
     "metadata": {},
     "output_type": "execute_result"
    }
   ],
   "source": [
    "com_current_month.shape"
   ]
  },
  {
   "cell_type": "code",
   "execution_count": 32,
   "metadata": {},
   "outputs": [
    {
     "data": {
      "text/plain": [
       "Index(['date_disbursement', 'amount', 'payments_number', 'comision_dsp',\n",
       "       'iva_dsp', 'comision + iva', 'total_fondeo', 'monto_mail',\n",
       "       'comision_mail', 'iva_mail', 'monto_fondeo_mail', 'check_monto',\n",
       "       'check_comision', 'check_iva', 'check_fondeo', 'dsp', 'file_name'],\n",
       "      dtype='object')"
      ]
     },
     "execution_count": 32,
     "metadata": {},
     "output_type": "execute_result"
    }
   ],
   "source": [
    "com_current_month.columns"
   ]
  },
  {
   "cell_type": "code",
   "execution_count": 33,
   "metadata": {},
   "outputs": [
    {
     "data": {
      "text/html": [
       "<div>\n",
       "<style scoped>\n",
       "    .dataframe tbody tr th:only-of-type {\n",
       "        vertical-align: middle;\n",
       "    }\n",
       "\n",
       "    .dataframe tbody tr th {\n",
       "        vertical-align: top;\n",
       "    }\n",
       "\n",
       "    .dataframe thead th {\n",
       "        text-align: right;\n",
       "    }\n",
       "</style>\n",
       "<table border=\"1\" class=\"dataframe\">\n",
       "  <thead>\n",
       "    <tr style=\"text-align: right;\">\n",
       "      <th></th>\n",
       "      <th>date_disbursement</th>\n",
       "      <th>payments_number</th>\n",
       "      <th>amount</th>\n",
       "      <th>comision_dsp</th>\n",
       "      <th>iva_dsp</th>\n",
       "      <th>comision + iva</th>\n",
       "      <th>total_fondeo</th>\n",
       "      <th>monto_mail</th>\n",
       "      <th>comision_mail</th>\n",
       "      <th>iva_mail</th>\n",
       "      <th>monto_fondeo_mail</th>\n",
       "      <th>check_monto</th>\n",
       "      <th>check_comision</th>\n",
       "      <th>check_iva</th>\n",
       "      <th>check_fondeo</th>\n",
       "    </tr>\n",
       "  </thead>\n",
       "  <tbody>\n",
       "    <tr>\n",
       "      <th>0</th>\n",
       "      <td>2023-09-01</td>\n",
       "      <td>107524</td>\n",
       "      <td>233,385,520.82</td>\n",
       "      <td>54,743.20</td>\n",
       "      <td>8,758.91</td>\n",
       "      <td>63,502.11</td>\n",
       "      <td>233,449,022.93</td>\n",
       "      <td>233,385,520.82</td>\n",
       "      <td>54,743.20</td>\n",
       "      <td>8,758.91</td>\n",
       "      <td>233,449,022.93</td>\n",
       "      <td>0.00</td>\n",
       "      <td>0.00</td>\n",
       "      <td>0.00</td>\n",
       "      <td>0.00</td>\n",
       "    </tr>\n",
       "    <tr>\n",
       "      <th>1</th>\n",
       "      <td>2023-09-02</td>\n",
       "      <td>112989</td>\n",
       "      <td>258,890,877.78</td>\n",
       "      <td>196,465.95</td>\n",
       "      <td>31,434.55</td>\n",
       "      <td>227,900.50</td>\n",
       "      <td>259,118,778.28</td>\n",
       "      <td>258,890,877.78</td>\n",
       "      <td>196,465.95</td>\n",
       "      <td>31,434.55</td>\n",
       "      <td>259,118,778.28</td>\n",
       "      <td>0.00</td>\n",
       "      <td>0.00</td>\n",
       "      <td>0.00</td>\n",
       "      <td>0.00</td>\n",
       "    </tr>\n",
       "    <tr>\n",
       "      <th>2</th>\n",
       "      <td>2023-09-03</td>\n",
       "      <td>112221</td>\n",
       "      <td>284,738,207.63</td>\n",
       "      <td>195,235.80</td>\n",
       "      <td>31,237.73</td>\n",
       "      <td>226,473.53</td>\n",
       "      <td>284,964,681.16</td>\n",
       "      <td>284,738,207.63</td>\n",
       "      <td>195,235.80</td>\n",
       "      <td>31,237.72</td>\n",
       "      <td>284,964,681.15</td>\n",
       "      <td>0.00</td>\n",
       "      <td>0.00</td>\n",
       "      <td>0.01</td>\n",
       "      <td>0.01</td>\n",
       "    </tr>\n",
       "    <tr>\n",
       "      <th>3</th>\n",
       "      <td>2023-09-04</td>\n",
       "      <td>79643</td>\n",
       "      <td>198,406,489.78</td>\n",
       "      <td>40,620.05</td>\n",
       "      <td>6,499.21</td>\n",
       "      <td>47,119.26</td>\n",
       "      <td>198,453,609.04</td>\n",
       "      <td>198,406,489.78</td>\n",
       "      <td>40,620.05</td>\n",
       "      <td>6,499.21</td>\n",
       "      <td>198,453,609.04</td>\n",
       "      <td>0.00</td>\n",
       "      <td>0.00</td>\n",
       "      <td>-0.00</td>\n",
       "      <td>-0.00</td>\n",
       "    </tr>\n",
       "    <tr>\n",
       "      <th>4</th>\n",
       "      <td>2023-09-05</td>\n",
       "      <td>98012</td>\n",
       "      <td>199,434,152.88</td>\n",
       "      <td>49,653.20</td>\n",
       "      <td>7,944.51</td>\n",
       "      <td>57,597.71</td>\n",
       "      <td>199,491,750.59</td>\n",
       "      <td>199,434,152.88</td>\n",
       "      <td>49,653.20</td>\n",
       "      <td>7,944.51</td>\n",
       "      <td>199,491,750.59</td>\n",
       "      <td>-0.00</td>\n",
       "      <td>0.00</td>\n",
       "      <td>0.00</td>\n",
       "      <td>0.00</td>\n",
       "    </tr>\n",
       "  </tbody>\n",
       "</table>\n",
       "</div>"
      ],
      "text/plain": [
       "  date_disbursement  payments_number         amount  comision_dsp   iva_dsp  \\\n",
       "0        2023-09-01           107524 233,385,520.82     54,743.20  8,758.91   \n",
       "1        2023-09-02           112989 258,890,877.78    196,465.95 31,434.55   \n",
       "2        2023-09-03           112221 284,738,207.63    195,235.80 31,237.73   \n",
       "3        2023-09-04            79643 198,406,489.78     40,620.05  6,499.21   \n",
       "4        2023-09-05            98012 199,434,152.88     49,653.20  7,944.51   \n",
       "\n",
       "   comision + iva   total_fondeo     monto_mail  comision_mail  iva_mail  \\\n",
       "0       63,502.11 233,449,022.93 233,385,520.82      54,743.20  8,758.91   \n",
       "1      227,900.50 259,118,778.28 258,890,877.78     196,465.95 31,434.55   \n",
       "2      226,473.53 284,964,681.16 284,738,207.63     195,235.80 31,237.72   \n",
       "3       47,119.26 198,453,609.04 198,406,489.78      40,620.05  6,499.21   \n",
       "4       57,597.71 199,491,750.59 199,434,152.88      49,653.20  7,944.51   \n",
       "\n",
       "   monto_fondeo_mail  check_monto  check_comision  check_iva  check_fondeo  \n",
       "0     233,449,022.93         0.00            0.00       0.00          0.00  \n",
       "1     259,118,778.28         0.00            0.00       0.00          0.00  \n",
       "2     284,964,681.15         0.00            0.00       0.01          0.01  \n",
       "3     198,453,609.04         0.00            0.00      -0.00         -0.00  \n",
       "4     199,491,750.59        -0.00            0.00       0.00          0.00  "
      ]
     },
     "execution_count": 33,
     "metadata": {},
     "output_type": "execute_result"
    }
   ],
   "source": [
    "com_final = com_current_month.groupby(['date_disbursement']).agg({'payments_number':sum,'amount':sum,'comision_dsp':sum,\n",
    "                                                                  'iva_dsp':sum,'comision + iva':sum,'total_fondeo':sum,\n",
    "                                                                 'monto_mail':sum,'comision_mail':sum,'iva_mail':sum,\n",
    "                                                                 'monto_fondeo_mail':sum,'check_monto':sum,'check_comision':sum,\n",
    "                                                                 'check_iva':sum,'check_fondeo':sum}).reset_index()\n",
    "com_final.head()"
   ]
  },
  {
   "cell_type": "markdown",
   "metadata": {},
   "source": [
    "# LENDERS"
   ]
  },
  {
   "cell_type": "code",
   "execution_count": 34,
   "metadata": {},
   "outputs": [
    {
     "data": {
      "text/html": [
       "<div>\n",
       "<style scoped>\n",
       "    .dataframe tbody tr th:only-of-type {\n",
       "        vertical-align: middle;\n",
       "    }\n",
       "\n",
       "    .dataframe tbody tr th {\n",
       "        vertical-align: top;\n",
       "    }\n",
       "\n",
       "    .dataframe thead th {\n",
       "        text-align: right;\n",
       "    }\n",
       "</style>\n",
       "<table border=\"1\" class=\"dataframe\">\n",
       "  <thead>\n",
       "    <tr style=\"text-align: right;\">\n",
       "      <th></th>\n",
       "      <th>collection_date_local</th>\n",
       "      <th>merchant_token</th>\n",
       "      <th>merchant_id</th>\n",
       "      <th>loan_id</th>\n",
       "      <th>provider_code</th>\n",
       "      <th>collection_origin</th>\n",
       "      <th>source</th>\n",
       "      <th>amount</th>\n",
       "      <th>capital</th>\n",
       "      <th>interest</th>\n",
       "      <th>tax</th>\n",
       "      <th>file_name</th>\n",
       "    </tr>\n",
       "  </thead>\n",
       "  <tbody>\n",
       "    <tr>\n",
       "      <th>0</th>\n",
       "      <td>2023-01-01</td>\n",
       "      <td>d8d8f9b2-0585-48e0-8d1f-e3bbf4766fbe</td>\n",
       "      <td>30a435af-3c57-4063-bf36-735f5731b179</td>\n",
       "      <td>df0ca1c8-0193-426c-8a32-c164b5ca715e</td>\n",
       "      <td>MRP</td>\n",
       "      <td>SETTLEMENT</td>\n",
       "      <td>LEDGER</td>\n",
       "      <td>23.05</td>\n",
       "      <td>16.60</td>\n",
       "      <td>6.45</td>\n",
       "      <td>0.00</td>\n",
       "      <td>LENDERS DB ENERO 2023.csv</td>\n",
       "    </tr>\n",
       "    <tr>\n",
       "      <th>1</th>\n",
       "      <td>2023-01-01</td>\n",
       "      <td>c4bad384-1718-4f7f-980e-910738bf4c79</td>\n",
       "      <td>0ace4fbe-6ab7-4e7f-a6b0-2a1bb8d6171a</td>\n",
       "      <td>45e17b07-8134-4e21-8aa8-2f90b4df9f37</td>\n",
       "      <td>CTO</td>\n",
       "      <td>SETTLEMENT</td>\n",
       "      <td>LEDGER</td>\n",
       "      <td>18.66</td>\n",
       "      <td>12.74</td>\n",
       "      <td>5.10</td>\n",
       "      <td>0.82</td>\n",
       "      <td>LENDERS DB ENERO 2023.csv</td>\n",
       "    </tr>\n",
       "    <tr>\n",
       "      <th>2</th>\n",
       "      <td>2023-01-01</td>\n",
       "      <td>1592f594-8416-447e-a316-ffc57ea7596f</td>\n",
       "      <td>0614af35-a0b4-4774-ae6f-4eef4238b915</td>\n",
       "      <td>2df0924e-4f58-46c5-8ec1-32a1beec4d49</td>\n",
       "      <td>MRP</td>\n",
       "      <td>SETTLEMENT</td>\n",
       "      <td>LEDGER</td>\n",
       "      <td>98.65</td>\n",
       "      <td>71.03</td>\n",
       "      <td>27.62</td>\n",
       "      <td>0.00</td>\n",
       "      <td>LENDERS DB ENERO 2023.csv</td>\n",
       "    </tr>\n",
       "    <tr>\n",
       "      <th>3</th>\n",
       "      <td>2023-01-01</td>\n",
       "      <td>fa8ee41a-394c-4506-b450-9f8a048a3cfc</td>\n",
       "      <td>789ef894-8d9d-48cb-a20a-0860a44d4a1e</td>\n",
       "      <td>935289b5-6689-4a98-af7f-d91e1a399533</td>\n",
       "      <td>MRP</td>\n",
       "      <td>SETTLEMENT</td>\n",
       "      <td>LEDGER</td>\n",
       "      <td>55.43</td>\n",
       "      <td>41.57</td>\n",
       "      <td>13.86</td>\n",
       "      <td>0.00</td>\n",
       "      <td>LENDERS DB ENERO 2023.csv</td>\n",
       "    </tr>\n",
       "    <tr>\n",
       "      <th>4</th>\n",
       "      <td>2023-01-01</td>\n",
       "      <td>41d8b68d-d496-48bd-9d2e-d3bfe8a4628e</td>\n",
       "      <td>5fab90f8-faf0-48a8-9065-e67b2cde2abe</td>\n",
       "      <td>d4ee526d-2a99-406b-95d3-309ee8d7f84b</td>\n",
       "      <td>MRP</td>\n",
       "      <td>SETTLEMENT</td>\n",
       "      <td>LEDGER</td>\n",
       "      <td>16.44</td>\n",
       "      <td>13.48</td>\n",
       "      <td>2.96</td>\n",
       "      <td>0.00</td>\n",
       "      <td>LENDERS DB ENERO 2023.csv</td>\n",
       "    </tr>\n",
       "  </tbody>\n",
       "</table>\n",
       "</div>"
      ],
      "text/plain": [
       "  collection_date_local                        merchant_token  \\\n",
       "0            2023-01-01  d8d8f9b2-0585-48e0-8d1f-e3bbf4766fbe   \n",
       "1            2023-01-01  c4bad384-1718-4f7f-980e-910738bf4c79   \n",
       "2            2023-01-01  1592f594-8416-447e-a316-ffc57ea7596f   \n",
       "3            2023-01-01  fa8ee41a-394c-4506-b450-9f8a048a3cfc   \n",
       "4            2023-01-01  41d8b68d-d496-48bd-9d2e-d3bfe8a4628e   \n",
       "\n",
       "                            merchant_id                               loan_id  \\\n",
       "0  30a435af-3c57-4063-bf36-735f5731b179  df0ca1c8-0193-426c-8a32-c164b5ca715e   \n",
       "1  0ace4fbe-6ab7-4e7f-a6b0-2a1bb8d6171a  45e17b07-8134-4e21-8aa8-2f90b4df9f37   \n",
       "2  0614af35-a0b4-4774-ae6f-4eef4238b915  2df0924e-4f58-46c5-8ec1-32a1beec4d49   \n",
       "3  789ef894-8d9d-48cb-a20a-0860a44d4a1e  935289b5-6689-4a98-af7f-d91e1a399533   \n",
       "4  5fab90f8-faf0-48a8-9065-e67b2cde2abe  d4ee526d-2a99-406b-95d3-309ee8d7f84b   \n",
       "\n",
       "  provider_code collection_origin  source  amount  capital  interest  tax  \\\n",
       "0           MRP        SETTLEMENT  LEDGER   23.05    16.60      6.45 0.00   \n",
       "1           CTO        SETTLEMENT  LEDGER   18.66    12.74      5.10 0.82   \n",
       "2           MRP        SETTLEMENT  LEDGER   98.65    71.03     27.62 0.00   \n",
       "3           MRP        SETTLEMENT  LEDGER   55.43    41.57     13.86 0.00   \n",
       "4           MRP        SETTLEMENT  LEDGER   16.44    13.48      2.96 0.00   \n",
       "\n",
       "                   file_name  \n",
       "0  LENDERS DB ENERO 2023.csv  \n",
       "1  LENDERS DB ENERO 2023.csv  \n",
       "2  LENDERS DB ENERO 2023.csv  \n",
       "3  LENDERS DB ENERO 2023.csv  \n",
       "4  LENDERS DB ENERO 2023.csv  "
      ]
     },
     "execution_count": 34,
     "metadata": {},
     "output_type": "execute_result"
    }
   ],
   "source": [
    "lender_1 = pd.concat([pd.read_csv(f).assign(file_name=os.path.basename(f)) for f in allfiles_lender])\n",
    "lender_1.columns = lender_1.columns.str.strip().str.lower() \n",
    "lender_1.head()"
   ]
  },
  {
   "cell_type": "code",
   "execution_count": 35,
   "metadata": {},
   "outputs": [
    {
     "data": {
      "text/plain": [
       "(6417299, 12)"
      ]
     },
     "execution_count": 35,
     "metadata": {},
     "output_type": "execute_result"
    }
   ],
   "source": [
    "lender_1.shape"
   ]
  },
  {
   "cell_type": "code",
   "execution_count": 36,
   "metadata": {},
   "outputs": [
    {
     "data": {
      "text/plain": [
       "array(['LEDGER', 'REGULAR', 'FAST_PAYMENT'], dtype=object)"
      ]
     },
     "execution_count": 36,
     "metadata": {},
     "output_type": "execute_result"
    }
   ],
   "source": [
    "lender_1['source'].unique()"
   ]
  },
  {
   "cell_type": "markdown",
   "metadata": {},
   "source": [
    "### CURRENT DATES"
   ]
  },
  {
   "cell_type": "code",
   "execution_count": 37,
   "metadata": {},
   "outputs": [
    {
     "data": {
      "text/html": [
       "<div>\n",
       "<style scoped>\n",
       "    .dataframe tbody tr th:only-of-type {\n",
       "        vertical-align: middle;\n",
       "    }\n",
       "\n",
       "    .dataframe tbody tr th {\n",
       "        vertical-align: top;\n",
       "    }\n",
       "\n",
       "    .dataframe thead th {\n",
       "        text-align: right;\n",
       "    }\n",
       "</style>\n",
       "<table border=\"1\" class=\"dataframe\">\n",
       "  <thead>\n",
       "    <tr style=\"text-align: right;\">\n",
       "      <th></th>\n",
       "      <th>collection_date_local</th>\n",
       "      <th>merchant_token</th>\n",
       "      <th>merchant_id</th>\n",
       "      <th>loan_id</th>\n",
       "      <th>provider_code</th>\n",
       "      <th>collection_origin</th>\n",
       "      <th>source</th>\n",
       "      <th>amount</th>\n",
       "      <th>capital</th>\n",
       "      <th>interest</th>\n",
       "      <th>tax</th>\n",
       "      <th>file_name</th>\n",
       "    </tr>\n",
       "  </thead>\n",
       "  <tbody>\n",
       "    <tr>\n",
       "      <th>0</th>\n",
       "      <td>2023-09-01</td>\n",
       "      <td>77b6c0f5-625b-42bc-8566-7513ab957821</td>\n",
       "      <td>2233514e-a2d8-4229-9e3d-ce80b88c0d44</td>\n",
       "      <td>219d9bf7-9007-4dc3-bc79-57930602c410</td>\n",
       "      <td>MRP</td>\n",
       "      <td>SETTLEMENT</td>\n",
       "      <td>LEDGER</td>\n",
       "      <td>34.86</td>\n",
       "      <td>24.95</td>\n",
       "      <td>9.91</td>\n",
       "      <td>0.00</td>\n",
       "      <td>LENDERS DB SEPTIEMBRE 2023.csv</td>\n",
       "    </tr>\n",
       "    <tr>\n",
       "      <th>1</th>\n",
       "      <td>2023-09-01</td>\n",
       "      <td>5c26033c-7764-48ba-b9be-4e185ce8e3a8</td>\n",
       "      <td>d2298275-76ff-4ed4-95e8-db0804e09cca</td>\n",
       "      <td>21c9dc53-0d9f-4e08-b369-49bf2a80125c</td>\n",
       "      <td>MRP</td>\n",
       "      <td>SETTLEMENT</td>\n",
       "      <td>LEDGER</td>\n",
       "      <td>12.27</td>\n",
       "      <td>8.37</td>\n",
       "      <td>3.36</td>\n",
       "      <td>0.54</td>\n",
       "      <td>LENDERS DB SEPTIEMBRE 2023.csv</td>\n",
       "    </tr>\n",
       "    <tr>\n",
       "      <th>2</th>\n",
       "      <td>2023-09-01</td>\n",
       "      <td>5c26033c-7764-48ba-b9be-4e185ce8e3a8</td>\n",
       "      <td>d2298275-76ff-4ed4-95e8-db0804e09cca</td>\n",
       "      <td>21c9dc53-0d9f-4e08-b369-49bf2a80125c</td>\n",
       "      <td>MRP</td>\n",
       "      <td>SETTLEMENT</td>\n",
       "      <td>LEDGER</td>\n",
       "      <td>11.59</td>\n",
       "      <td>7.91</td>\n",
       "      <td>3.17</td>\n",
       "      <td>0.51</td>\n",
       "      <td>LENDERS DB SEPTIEMBRE 2023.csv</td>\n",
       "    </tr>\n",
       "    <tr>\n",
       "      <th>3</th>\n",
       "      <td>2023-09-01</td>\n",
       "      <td>5c26033c-7764-48ba-b9be-4e185ce8e3a8</td>\n",
       "      <td>d2298275-76ff-4ed4-95e8-db0804e09cca</td>\n",
       "      <td>21c9dc53-0d9f-4e08-b369-49bf2a80125c</td>\n",
       "      <td>MRP</td>\n",
       "      <td>SETTLEMENT</td>\n",
       "      <td>LEDGER</td>\n",
       "      <td>11.59</td>\n",
       "      <td>7.91</td>\n",
       "      <td>3.17</td>\n",
       "      <td>0.51</td>\n",
       "      <td>LENDERS DB SEPTIEMBRE 2023.csv</td>\n",
       "    </tr>\n",
       "    <tr>\n",
       "      <th>4</th>\n",
       "      <td>2023-09-01</td>\n",
       "      <td>5c26033c-7764-48ba-b9be-4e185ce8e3a8</td>\n",
       "      <td>d2298275-76ff-4ed4-95e8-db0804e09cca</td>\n",
       "      <td>21c9dc53-0d9f-4e08-b369-49bf2a80125c</td>\n",
       "      <td>MRP</td>\n",
       "      <td>SETTLEMENT</td>\n",
       "      <td>LEDGER</td>\n",
       "      <td>27.60</td>\n",
       "      <td>18.84</td>\n",
       "      <td>7.55</td>\n",
       "      <td>1.21</td>\n",
       "      <td>LENDERS DB SEPTIEMBRE 2023.csv</td>\n",
       "    </tr>\n",
       "  </tbody>\n",
       "</table>\n",
       "</div>"
      ],
      "text/plain": [
       "  collection_date_local                        merchant_token  \\\n",
       "0            2023-09-01  77b6c0f5-625b-42bc-8566-7513ab957821   \n",
       "1            2023-09-01  5c26033c-7764-48ba-b9be-4e185ce8e3a8   \n",
       "2            2023-09-01  5c26033c-7764-48ba-b9be-4e185ce8e3a8   \n",
       "3            2023-09-01  5c26033c-7764-48ba-b9be-4e185ce8e3a8   \n",
       "4            2023-09-01  5c26033c-7764-48ba-b9be-4e185ce8e3a8   \n",
       "\n",
       "                            merchant_id                               loan_id  \\\n",
       "0  2233514e-a2d8-4229-9e3d-ce80b88c0d44  219d9bf7-9007-4dc3-bc79-57930602c410   \n",
       "1  d2298275-76ff-4ed4-95e8-db0804e09cca  21c9dc53-0d9f-4e08-b369-49bf2a80125c   \n",
       "2  d2298275-76ff-4ed4-95e8-db0804e09cca  21c9dc53-0d9f-4e08-b369-49bf2a80125c   \n",
       "3  d2298275-76ff-4ed4-95e8-db0804e09cca  21c9dc53-0d9f-4e08-b369-49bf2a80125c   \n",
       "4  d2298275-76ff-4ed4-95e8-db0804e09cca  21c9dc53-0d9f-4e08-b369-49bf2a80125c   \n",
       "\n",
       "  provider_code collection_origin  source  amount  capital  interest  tax  \\\n",
       "0           MRP        SETTLEMENT  LEDGER   34.86    24.95      9.91 0.00   \n",
       "1           MRP        SETTLEMENT  LEDGER   12.27     8.37      3.36 0.54   \n",
       "2           MRP        SETTLEMENT  LEDGER   11.59     7.91      3.17 0.51   \n",
       "3           MRP        SETTLEMENT  LEDGER   11.59     7.91      3.17 0.51   \n",
       "4           MRP        SETTLEMENT  LEDGER   27.60    18.84      7.55 1.21   \n",
       "\n",
       "                        file_name  \n",
       "0  LENDERS DB SEPTIEMBRE 2023.csv  \n",
       "1  LENDERS DB SEPTIEMBRE 2023.csv  \n",
       "2  LENDERS DB SEPTIEMBRE 2023.csv  \n",
       "3  LENDERS DB SEPTIEMBRE 2023.csv  \n",
       "4  LENDERS DB SEPTIEMBRE 2023.csv  "
      ]
     },
     "execution_count": 37,
     "metadata": {},
     "output_type": "execute_result"
    }
   ],
   "source": [
    "lender_current_month = lender_1[(lender_1['collection_date_local'] >= start_date) &\n",
    "                                (lender_1['collection_date_local'] <= final_date)]\n",
    "lender_current_month.head()"
   ]
  },
  {
   "cell_type": "code",
   "execution_count": 38,
   "metadata": {},
   "outputs": [
    {
     "data": {
      "text/plain": [
       "(940461, 12)"
      ]
     },
     "execution_count": 38,
     "metadata": {},
     "output_type": "execute_result"
    }
   ],
   "source": [
    "lender_current_month.shape"
   ]
  },
  {
   "cell_type": "code",
   "execution_count": 39,
   "metadata": {},
   "outputs": [
    {
     "data": {
      "text/plain": [
       "array(['MRP', 'R2', 'AVL', 'CLIP', 'APH', 'CTO'], dtype=object)"
      ]
     },
     "execution_count": 39,
     "metadata": {},
     "output_type": "execute_result"
    }
   ],
   "source": [
    "lender_current_month['provider_code'].unique()"
   ]
  },
  {
   "cell_type": "markdown",
   "metadata": {},
   "source": [
    "### PIVOT CLIP"
   ]
  },
  {
   "cell_type": "code",
   "execution_count": 40,
   "metadata": {},
   "outputs": [],
   "source": [
    "lender_clip = lender_current_month[(lender_current_month['provider_code'] == 'CLIP')]"
   ]
  },
  {
   "cell_type": "code",
   "execution_count": 41,
   "metadata": {},
   "outputs": [],
   "source": [
    "# lender_pivot_clip_1 = lender_clip.groupby(['Creation Date','Date']).agg({'Collected today':sum,'Capital today':sum\n",
    "#                                                                        ,'Interests today':sum,'IVA Interests today':sum\n",
    "#                                                                        ,'Overdue Interest today':sum,'Total today':sum\n",
    "#                                                                        ,'CLIP Revenue today':sum}).reset_index()\n",
    "# lender_pivot_clip_1.head()"
   ]
  },
  {
   "cell_type": "code",
   "execution_count": 42,
   "metadata": {},
   "outputs": [],
   "source": [
    "# lender_pivot_clip_1.shape"
   ]
  },
  {
   "cell_type": "code",
   "execution_count": 43,
   "metadata": {},
   "outputs": [
    {
     "data": {
      "text/html": [
       "<div>\n",
       "<style scoped>\n",
       "    .dataframe tbody tr th:only-of-type {\n",
       "        vertical-align: middle;\n",
       "    }\n",
       "\n",
       "    .dataframe tbody tr th {\n",
       "        vertical-align: top;\n",
       "    }\n",
       "\n",
       "    .dataframe thead th {\n",
       "        text-align: right;\n",
       "    }\n",
       "</style>\n",
       "<table border=\"1\" class=\"dataframe\">\n",
       "  <thead>\n",
       "    <tr style=\"text-align: right;\">\n",
       "      <th></th>\n",
       "      <th>collection_date_local</th>\n",
       "      <th>amount</th>\n",
       "      <th>capital</th>\n",
       "      <th>interest</th>\n",
       "      <th>tax</th>\n",
       "    </tr>\n",
       "  </thead>\n",
       "  <tbody>\n",
       "    <tr>\n",
       "      <th>0</th>\n",
       "      <td>2023-09-01</td>\n",
       "      <td>20,959.34</td>\n",
       "      <td>15,286.35</td>\n",
       "      <td>4,890.47</td>\n",
       "      <td>782.52</td>\n",
       "    </tr>\n",
       "    <tr>\n",
       "      <th>1</th>\n",
       "      <td>2023-09-02</td>\n",
       "      <td>21,028.73</td>\n",
       "      <td>15,525.98</td>\n",
       "      <td>4,743.71</td>\n",
       "      <td>759.04</td>\n",
       "    </tr>\n",
       "    <tr>\n",
       "      <th>2</th>\n",
       "      <td>2023-09-03</td>\n",
       "      <td>22,474.65</td>\n",
       "      <td>16,730.37</td>\n",
       "      <td>4,951.96</td>\n",
       "      <td>792.32</td>\n",
       "    </tr>\n",
       "    <tr>\n",
       "      <th>3</th>\n",
       "      <td>2023-09-04</td>\n",
       "      <td>22,885.96</td>\n",
       "      <td>17,092.98</td>\n",
       "      <td>4,993.87</td>\n",
       "      <td>799.11</td>\n",
       "    </tr>\n",
       "    <tr>\n",
       "      <th>4</th>\n",
       "      <td>2023-09-05</td>\n",
       "      <td>30,326.71</td>\n",
       "      <td>22,267.45</td>\n",
       "      <td>6,947.56</td>\n",
       "      <td>1,111.70</td>\n",
       "    </tr>\n",
       "  </tbody>\n",
       "</table>\n",
       "</div>"
      ],
      "text/plain": [
       "  collection_date_local    amount   capital  interest      tax\n",
       "0            2023-09-01 20,959.34 15,286.35  4,890.47   782.52\n",
       "1            2023-09-02 21,028.73 15,525.98  4,743.71   759.04\n",
       "2            2023-09-03 22,474.65 16,730.37  4,951.96   792.32\n",
       "3            2023-09-04 22,885.96 17,092.98  4,993.87   799.11\n",
       "4            2023-09-05 30,326.71 22,267.45  6,947.56 1,111.70"
      ]
     },
     "execution_count": 43,
     "metadata": {},
     "output_type": "execute_result"
    }
   ],
   "source": [
    "lender_pivot_clip_2 = lender_clip.groupby(['collection_date_local']).agg({'amount':sum,'capital':sum,'interest':sum\n",
    "                                                 ,'tax':sum}).reset_index()\n",
    "lender_pivot_clip_2.head()"
   ]
  },
  {
   "cell_type": "code",
   "execution_count": 44,
   "metadata": {},
   "outputs": [
    {
     "data": {
      "text/plain": [
       "(30, 5)"
      ]
     },
     "execution_count": 44,
     "metadata": {},
     "output_type": "execute_result"
    }
   ],
   "source": [
    "lender_pivot_clip_2.shape"
   ]
  },
  {
   "cell_type": "markdown",
   "metadata": {},
   "source": [
    "### PIVOT OTHERS"
   ]
  },
  {
   "cell_type": "code",
   "execution_count": 45,
   "metadata": {},
   "outputs": [],
   "source": [
    "lender_others = lender_current_month[(lender_current_month['provider_code'] != 'CLIP')]"
   ]
  },
  {
   "cell_type": "code",
   "execution_count": 46,
   "metadata": {},
   "outputs": [
    {
     "data": {
      "text/html": [
       "<div>\n",
       "<style scoped>\n",
       "    .dataframe tbody tr th:only-of-type {\n",
       "        vertical-align: middle;\n",
       "    }\n",
       "\n",
       "    .dataframe tbody tr th {\n",
       "        vertical-align: top;\n",
       "    }\n",
       "\n",
       "    .dataframe thead th {\n",
       "        text-align: right;\n",
       "    }\n",
       "</style>\n",
       "<table border=\"1\" class=\"dataframe\">\n",
       "  <thead>\n",
       "    <tr style=\"text-align: right;\">\n",
       "      <th></th>\n",
       "      <th>collection_date_local</th>\n",
       "      <th>amount</th>\n",
       "      <th>capital</th>\n",
       "      <th>interest</th>\n",
       "      <th>tax</th>\n",
       "    </tr>\n",
       "  </thead>\n",
       "  <tbody>\n",
       "    <tr>\n",
       "      <th>0</th>\n",
       "      <td>2023-09-01</td>\n",
       "      <td>2,248,350.82</td>\n",
       "      <td>1,668,991.42</td>\n",
       "      <td>500,532.81</td>\n",
       "      <td>78,826.59</td>\n",
       "    </tr>\n",
       "    <tr>\n",
       "      <th>1</th>\n",
       "      <td>2023-09-02</td>\n",
       "      <td>2,652,984.07</td>\n",
       "      <td>1,973,174.55</td>\n",
       "      <td>587,615.92</td>\n",
       "      <td>92,193.60</td>\n",
       "    </tr>\n",
       "    <tr>\n",
       "      <th>2</th>\n",
       "      <td>2023-09-03</td>\n",
       "      <td>1,888,682.49</td>\n",
       "      <td>1,406,909.22</td>\n",
       "      <td>416,487.38</td>\n",
       "      <td>65,285.89</td>\n",
       "    </tr>\n",
       "    <tr>\n",
       "      <th>3</th>\n",
       "      <td>2023-09-04</td>\n",
       "      <td>1,485,841.44</td>\n",
       "      <td>1,100,116.36</td>\n",
       "      <td>333,371.63</td>\n",
       "      <td>52,353.45</td>\n",
       "    </tr>\n",
       "    <tr>\n",
       "      <th>4</th>\n",
       "      <td>2023-09-05</td>\n",
       "      <td>1,516,397.82</td>\n",
       "      <td>1,124,756.15</td>\n",
       "      <td>338,258.90</td>\n",
       "      <td>53,382.77</td>\n",
       "    </tr>\n",
       "  </tbody>\n",
       "</table>\n",
       "</div>"
      ],
      "text/plain": [
       "  collection_date_local       amount      capital   interest       tax\n",
       "0            2023-09-01 2,248,350.82 1,668,991.42 500,532.81 78,826.59\n",
       "1            2023-09-02 2,652,984.07 1,973,174.55 587,615.92 92,193.60\n",
       "2            2023-09-03 1,888,682.49 1,406,909.22 416,487.38 65,285.89\n",
       "3            2023-09-04 1,485,841.44 1,100,116.36 333,371.63 52,353.45\n",
       "4            2023-09-05 1,516,397.82 1,124,756.15 338,258.90 53,382.77"
      ]
     },
     "execution_count": 46,
     "metadata": {},
     "output_type": "execute_result"
    }
   ],
   "source": [
    "lender_pivot_others = lender_others.groupby(['collection_date_local']).agg({'amount':sum,'capital':sum,'interest':sum\n",
    "                                                 ,'tax':sum}).reset_index()\n",
    "lender_pivot_others.head()"
   ]
  },
  {
   "cell_type": "code",
   "execution_count": 47,
   "metadata": {},
   "outputs": [
    {
     "data": {
      "text/plain": [
       "(30, 5)"
      ]
     },
     "execution_count": 47,
     "metadata": {},
     "output_type": "execute_result"
    }
   ],
   "source": [
    "lender_pivot_others.shape"
   ]
  },
  {
   "cell_type": "markdown",
   "metadata": {},
   "source": [
    "# EXCEL FINAL"
   ]
  },
  {
   "cell_type": "code",
   "execution_count": 48,
   "metadata": {},
   "outputs": [],
   "source": [
    "writer = pd.ExcelWriter('FASE II. DATA POLIZA SEPTIEMBRE 2023.xlsx',\n",
    "                        engine='xlsxwriter',\n",
    "                        engine_kwargs={'options': {'encoding':'utf-8'}})\n",
    "lender_pivot_clip_2.to_excel(writer, sheet_name='DATA LENDER CLIP',index=False)\n",
    "# lender_pivot_clip_1.to_excel(writer, sheet_name='DATA LENDER CLIP CREATION DATE',index=False)\n",
    "lender_pivot_others.to_excel(writer, sheet_name='DATA LENDER OTHERS',index=False)\n",
    "adj_pivot.to_excel(writer, sheet_name='DATA ADJUSTMENTS',index=False)\n",
    "# lib_pivot_v2.to_excel(writer, sheet_name='DATA LIBERACIONES')\n",
    "# ret_pivot_v2.to_excel(writer, sheet_name='DATA RETENCIONES')\n",
    "com_final.to_excel(writer, sheet_name='DATA COMISIONES',index=False)\n",
    "writer.close()"
   ]
  },
  {
   "cell_type": "code",
   "execution_count": null,
   "metadata": {},
   "outputs": [],
   "source": []
  }
 ],
 "metadata": {
  "kernelspec": {
   "display_name": "Python 3 (ipykernel)",
   "language": "python",
   "name": "python3"
  },
  "language_info": {
   "codemirror_mode": {
    "name": "ipython",
    "version": 3
   },
   "file_extension": ".py",
   "mimetype": "text/x-python",
   "name": "python",
   "nbconvert_exporter": "python",
   "pygments_lexer": "ipython3",
   "version": "3.9.18"
  }
 },
 "nbformat": 4,
 "nbformat_minor": 4
}
