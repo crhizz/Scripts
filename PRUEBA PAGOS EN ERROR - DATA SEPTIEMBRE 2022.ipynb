{
 "cells": [
  {
   "cell_type": "code",
   "execution_count": 1,
   "metadata": {},
   "outputs": [],
   "source": [
    "import pandas as pd\n",
    "import numpy as np\n",
    "import glob\n",
    "import os\n",
    "from openpyxl import load_workbook\n",
    "pd.options.display.float_format = '{:,.2f}'.format"
   ]
  },
  {
   "cell_type": "code",
   "execution_count": 2,
   "metadata": {},
   "outputs": [],
   "source": [
    "start_date = '2022-09-01'\n",
    "final_date = '2022-09-30'\n",
    "query_error_year = 2022\n",
    "query_error_month = 9"
   ]
  },
  {
   "cell_type": "code",
   "execution_count": 3,
   "metadata": {},
   "outputs": [
    {
     "data": {
      "text/plain": [
       "['C:\\\\Users\\\\Cristian.Aparicio\\\\Documents\\\\DISPERSIONES\\\\2022\\\\09. SEPTIEMBRE\\\\ARCHIVO DISPERSIONES\\\\Dispersión-20220901.xlsx',\n",
       " 'C:\\\\Users\\\\Cristian.Aparicio\\\\Documents\\\\DISPERSIONES\\\\2022\\\\09. SEPTIEMBRE\\\\ARCHIVO DISPERSIONES\\\\Dispersión-20220902.xlsx',\n",
       " 'C:\\\\Users\\\\Cristian.Aparicio\\\\Documents\\\\DISPERSIONES\\\\2022\\\\09. SEPTIEMBRE\\\\ARCHIVO DISPERSIONES\\\\Dispersión-20220903.xlsx',\n",
       " 'C:\\\\Users\\\\Cristian.Aparicio\\\\Documents\\\\DISPERSIONES\\\\2022\\\\09. SEPTIEMBRE\\\\ARCHIVO DISPERSIONES\\\\Dispersión-20220904.xlsx',\n",
       " 'C:\\\\Users\\\\Cristian.Aparicio\\\\Documents\\\\DISPERSIONES\\\\2022\\\\09. SEPTIEMBRE\\\\ARCHIVO DISPERSIONES\\\\Dispersión-20220905.xlsx',\n",
       " 'C:\\\\Users\\\\Cristian.Aparicio\\\\Documents\\\\DISPERSIONES\\\\2022\\\\09. SEPTIEMBRE\\\\ARCHIVO DISPERSIONES\\\\Dispersión-20220906.xlsx',\n",
       " 'C:\\\\Users\\\\Cristian.Aparicio\\\\Documents\\\\DISPERSIONES\\\\2022\\\\09. SEPTIEMBRE\\\\ARCHIVO DISPERSIONES\\\\Dispersión-20220907.xlsx',\n",
       " 'C:\\\\Users\\\\Cristian.Aparicio\\\\Documents\\\\DISPERSIONES\\\\2022\\\\09. SEPTIEMBRE\\\\ARCHIVO DISPERSIONES\\\\Dispersión-20220908.xlsx',\n",
       " 'C:\\\\Users\\\\Cristian.Aparicio\\\\Documents\\\\DISPERSIONES\\\\2022\\\\09. SEPTIEMBRE\\\\ARCHIVO DISPERSIONES\\\\Dispersión-20220909.xlsx',\n",
       " 'C:\\\\Users\\\\Cristian.Aparicio\\\\Documents\\\\DISPERSIONES\\\\2022\\\\09. SEPTIEMBRE\\\\ARCHIVO DISPERSIONES\\\\Dispersión-20220910.xlsx',\n",
       " 'C:\\\\Users\\\\Cristian.Aparicio\\\\Documents\\\\DISPERSIONES\\\\2022\\\\09. SEPTIEMBRE\\\\ARCHIVO DISPERSIONES\\\\Dispersión-20220911.xlsx',\n",
       " 'C:\\\\Users\\\\Cristian.Aparicio\\\\Documents\\\\DISPERSIONES\\\\2022\\\\09. SEPTIEMBRE\\\\ARCHIVO DISPERSIONES\\\\Dispersión-20220912.xlsx',\n",
       " 'C:\\\\Users\\\\Cristian.Aparicio\\\\Documents\\\\DISPERSIONES\\\\2022\\\\09. SEPTIEMBRE\\\\ARCHIVO DISPERSIONES\\\\Dispersión-20220913.xlsx',\n",
       " 'C:\\\\Users\\\\Cristian.Aparicio\\\\Documents\\\\DISPERSIONES\\\\2022\\\\09. SEPTIEMBRE\\\\ARCHIVO DISPERSIONES\\\\Dispersión-20220914.xlsx',\n",
       " 'C:\\\\Users\\\\Cristian.Aparicio\\\\Documents\\\\DISPERSIONES\\\\2022\\\\09. SEPTIEMBRE\\\\ARCHIVO DISPERSIONES\\\\Dispersión-20220915.xlsx',\n",
       " 'C:\\\\Users\\\\Cristian.Aparicio\\\\Documents\\\\DISPERSIONES\\\\2022\\\\09. SEPTIEMBRE\\\\ARCHIVO DISPERSIONES\\\\Dispersión-20220916.xlsx',\n",
       " 'C:\\\\Users\\\\Cristian.Aparicio\\\\Documents\\\\DISPERSIONES\\\\2022\\\\09. SEPTIEMBRE\\\\ARCHIVO DISPERSIONES\\\\Dispersión-20220917.xlsx',\n",
       " 'C:\\\\Users\\\\Cristian.Aparicio\\\\Documents\\\\DISPERSIONES\\\\2022\\\\09. SEPTIEMBRE\\\\ARCHIVO DISPERSIONES\\\\Dispersión-20220918.xlsx',\n",
       " 'C:\\\\Users\\\\Cristian.Aparicio\\\\Documents\\\\DISPERSIONES\\\\2022\\\\09. SEPTIEMBRE\\\\ARCHIVO DISPERSIONES\\\\Dispersión-20220919.xlsx',\n",
       " 'C:\\\\Users\\\\Cristian.Aparicio\\\\Documents\\\\DISPERSIONES\\\\2022\\\\09. SEPTIEMBRE\\\\ARCHIVO DISPERSIONES\\\\Dispersión-20220920.xlsx',\n",
       " 'C:\\\\Users\\\\Cristian.Aparicio\\\\Documents\\\\DISPERSIONES\\\\2022\\\\09. SEPTIEMBRE\\\\ARCHIVO DISPERSIONES\\\\Dispersión-20220921.xlsx',\n",
       " 'C:\\\\Users\\\\Cristian.Aparicio\\\\Documents\\\\DISPERSIONES\\\\2022\\\\09. SEPTIEMBRE\\\\ARCHIVO DISPERSIONES\\\\Dispersión-20220922.xlsx',\n",
       " 'C:\\\\Users\\\\Cristian.Aparicio\\\\Documents\\\\DISPERSIONES\\\\2022\\\\09. SEPTIEMBRE\\\\ARCHIVO DISPERSIONES\\\\Dispersión-20220923.xlsx',\n",
       " 'C:\\\\Users\\\\Cristian.Aparicio\\\\Documents\\\\DISPERSIONES\\\\2022\\\\09. SEPTIEMBRE\\\\ARCHIVO DISPERSIONES\\\\Dispersión-20220924.xlsx',\n",
       " 'C:\\\\Users\\\\Cristian.Aparicio\\\\Documents\\\\DISPERSIONES\\\\2022\\\\09. SEPTIEMBRE\\\\ARCHIVO DISPERSIONES\\\\Dispersión-20220925.xlsx',\n",
       " 'C:\\\\Users\\\\Cristian.Aparicio\\\\Documents\\\\DISPERSIONES\\\\2022\\\\09. SEPTIEMBRE\\\\ARCHIVO DISPERSIONES\\\\Dispersión-20220926.xlsx',\n",
       " 'C:\\\\Users\\\\Cristian.Aparicio\\\\Documents\\\\DISPERSIONES\\\\2022\\\\09. SEPTIEMBRE\\\\ARCHIVO DISPERSIONES\\\\Dispersión-20220927.xlsx',\n",
       " 'C:\\\\Users\\\\Cristian.Aparicio\\\\Documents\\\\DISPERSIONES\\\\2022\\\\09. SEPTIEMBRE\\\\ARCHIVO DISPERSIONES\\\\Dispersión-20220928.xlsx',\n",
       " 'C:\\\\Users\\\\Cristian.Aparicio\\\\Documents\\\\DISPERSIONES\\\\2022\\\\09. SEPTIEMBRE\\\\ARCHIVO DISPERSIONES\\\\Dispersión-20220929.xlsx',\n",
       " 'C:\\\\Users\\\\Cristian.Aparicio\\\\Documents\\\\DISPERSIONES\\\\2022\\\\09. SEPTIEMBRE\\\\ARCHIVO DISPERSIONES\\\\Dispersión-20220930.xlsx']"
      ]
     },
     "execution_count": 3,
     "metadata": {},
     "output_type": "execute_result"
    }
   ],
   "source": [
    "trad_files = glob.glob(r'C:\\Users\\Cristian.Aparicio\\Documents\\DISPERSIONES\\2022\\09. SEPTIEMBRE\\ARCHIVO DISPERSIONES\\Dispersión*.xlsx', recursive=False)\n",
    "trad_files"
   ]
  },
  {
   "cell_type": "code",
   "execution_count": 4,
   "metadata": {},
   "outputs": [
    {
     "data": {
      "text/plain": [
       "['C:\\\\Users\\\\Cristian.Aparicio\\\\Documents\\\\FAST PAYMENTS\\\\2022\\\\09. SEPTIEMBRE\\\\ARCHIVO DISPERSIONES FP\\\\Dispersión-FP 2022-09-01.xlsx',\n",
       " 'C:\\\\Users\\\\Cristian.Aparicio\\\\Documents\\\\FAST PAYMENTS\\\\2022\\\\09. SEPTIEMBRE\\\\ARCHIVO DISPERSIONES FP\\\\Dispersión-FP 2022-09-02.xlsx',\n",
       " 'C:\\\\Users\\\\Cristian.Aparicio\\\\Documents\\\\FAST PAYMENTS\\\\2022\\\\09. SEPTIEMBRE\\\\ARCHIVO DISPERSIONES FP\\\\Dispersión-FP 2022-09-03.xlsx',\n",
       " 'C:\\\\Users\\\\Cristian.Aparicio\\\\Documents\\\\FAST PAYMENTS\\\\2022\\\\09. SEPTIEMBRE\\\\ARCHIVO DISPERSIONES FP\\\\Dispersión-FP 2022-09-04.xlsx',\n",
       " 'C:\\\\Users\\\\Cristian.Aparicio\\\\Documents\\\\FAST PAYMENTS\\\\2022\\\\09. SEPTIEMBRE\\\\ARCHIVO DISPERSIONES FP\\\\Dispersión-FP 2022-09-05.xlsx',\n",
       " 'C:\\\\Users\\\\Cristian.Aparicio\\\\Documents\\\\FAST PAYMENTS\\\\2022\\\\09. SEPTIEMBRE\\\\ARCHIVO DISPERSIONES FP\\\\Dispersión-FP 2022-09-06.xlsx',\n",
       " 'C:\\\\Users\\\\Cristian.Aparicio\\\\Documents\\\\FAST PAYMENTS\\\\2022\\\\09. SEPTIEMBRE\\\\ARCHIVO DISPERSIONES FP\\\\Dispersión-FP 2022-09-07.xlsx',\n",
       " 'C:\\\\Users\\\\Cristian.Aparicio\\\\Documents\\\\FAST PAYMENTS\\\\2022\\\\09. SEPTIEMBRE\\\\ARCHIVO DISPERSIONES FP\\\\Dispersión-FP 2022-09-08.xlsx',\n",
       " 'C:\\\\Users\\\\Cristian.Aparicio\\\\Documents\\\\FAST PAYMENTS\\\\2022\\\\09. SEPTIEMBRE\\\\ARCHIVO DISPERSIONES FP\\\\Dispersión-FP 2022-09-09.xlsx',\n",
       " 'C:\\\\Users\\\\Cristian.Aparicio\\\\Documents\\\\FAST PAYMENTS\\\\2022\\\\09. SEPTIEMBRE\\\\ARCHIVO DISPERSIONES FP\\\\Dispersión-FP 2022-09-10.xlsx',\n",
       " 'C:\\\\Users\\\\Cristian.Aparicio\\\\Documents\\\\FAST PAYMENTS\\\\2022\\\\09. SEPTIEMBRE\\\\ARCHIVO DISPERSIONES FP\\\\Dispersión-FP 2022-09-11.xlsx',\n",
       " 'C:\\\\Users\\\\Cristian.Aparicio\\\\Documents\\\\FAST PAYMENTS\\\\2022\\\\09. SEPTIEMBRE\\\\ARCHIVO DISPERSIONES FP\\\\Dispersión-FP 2022-09-12.xlsx',\n",
       " 'C:\\\\Users\\\\Cristian.Aparicio\\\\Documents\\\\FAST PAYMENTS\\\\2022\\\\09. SEPTIEMBRE\\\\ARCHIVO DISPERSIONES FP\\\\Dispersión-FP 2022-09-13.xlsx',\n",
       " 'C:\\\\Users\\\\Cristian.Aparicio\\\\Documents\\\\FAST PAYMENTS\\\\2022\\\\09. SEPTIEMBRE\\\\ARCHIVO DISPERSIONES FP\\\\Dispersión-FP 2022-09-14.xlsx',\n",
       " 'C:\\\\Users\\\\Cristian.Aparicio\\\\Documents\\\\FAST PAYMENTS\\\\2022\\\\09. SEPTIEMBRE\\\\ARCHIVO DISPERSIONES FP\\\\Dispersión-FP 2022-09-15.xlsx',\n",
       " 'C:\\\\Users\\\\Cristian.Aparicio\\\\Documents\\\\FAST PAYMENTS\\\\2022\\\\09. SEPTIEMBRE\\\\ARCHIVO DISPERSIONES FP\\\\Dispersión-FP 2022-09-16.xlsx',\n",
       " 'C:\\\\Users\\\\Cristian.Aparicio\\\\Documents\\\\FAST PAYMENTS\\\\2022\\\\09. SEPTIEMBRE\\\\ARCHIVO DISPERSIONES FP\\\\Dispersión-FP 2022-09-17.xlsx',\n",
       " 'C:\\\\Users\\\\Cristian.Aparicio\\\\Documents\\\\FAST PAYMENTS\\\\2022\\\\09. SEPTIEMBRE\\\\ARCHIVO DISPERSIONES FP\\\\Dispersión-FP 2022-09-18.xlsx',\n",
       " 'C:\\\\Users\\\\Cristian.Aparicio\\\\Documents\\\\FAST PAYMENTS\\\\2022\\\\09. SEPTIEMBRE\\\\ARCHIVO DISPERSIONES FP\\\\Dispersión-FP 2022-09-19.xlsx',\n",
       " 'C:\\\\Users\\\\Cristian.Aparicio\\\\Documents\\\\FAST PAYMENTS\\\\2022\\\\09. SEPTIEMBRE\\\\ARCHIVO DISPERSIONES FP\\\\Dispersión-FP 2022-09-20.xlsx',\n",
       " 'C:\\\\Users\\\\Cristian.Aparicio\\\\Documents\\\\FAST PAYMENTS\\\\2022\\\\09. SEPTIEMBRE\\\\ARCHIVO DISPERSIONES FP\\\\Dispersión-FP 2022-09-21.xlsx',\n",
       " 'C:\\\\Users\\\\Cristian.Aparicio\\\\Documents\\\\FAST PAYMENTS\\\\2022\\\\09. SEPTIEMBRE\\\\ARCHIVO DISPERSIONES FP\\\\Dispersión-FP 2022-09-22.xlsx',\n",
       " 'C:\\\\Users\\\\Cristian.Aparicio\\\\Documents\\\\FAST PAYMENTS\\\\2022\\\\09. SEPTIEMBRE\\\\ARCHIVO DISPERSIONES FP\\\\Dispersión-FP 2022-09-23.xlsx',\n",
       " 'C:\\\\Users\\\\Cristian.Aparicio\\\\Documents\\\\FAST PAYMENTS\\\\2022\\\\09. SEPTIEMBRE\\\\ARCHIVO DISPERSIONES FP\\\\Dispersión-FP 2022-09-24.xlsx',\n",
       " 'C:\\\\Users\\\\Cristian.Aparicio\\\\Documents\\\\FAST PAYMENTS\\\\2022\\\\09. SEPTIEMBRE\\\\ARCHIVO DISPERSIONES FP\\\\Dispersión-FP 2022-09-25.xlsx',\n",
       " 'C:\\\\Users\\\\Cristian.Aparicio\\\\Documents\\\\FAST PAYMENTS\\\\2022\\\\09. SEPTIEMBRE\\\\ARCHIVO DISPERSIONES FP\\\\Dispersión-FP 2022-09-26.xlsx',\n",
       " 'C:\\\\Users\\\\Cristian.Aparicio\\\\Documents\\\\FAST PAYMENTS\\\\2022\\\\09. SEPTIEMBRE\\\\ARCHIVO DISPERSIONES FP\\\\Dispersión-FP 2022-09-27.xlsx',\n",
       " 'C:\\\\Users\\\\Cristian.Aparicio\\\\Documents\\\\FAST PAYMENTS\\\\2022\\\\09. SEPTIEMBRE\\\\ARCHIVO DISPERSIONES FP\\\\Dispersión-FP 2022-09-28.xlsx',\n",
       " 'C:\\\\Users\\\\Cristian.Aparicio\\\\Documents\\\\FAST PAYMENTS\\\\2022\\\\09. SEPTIEMBRE\\\\ARCHIVO DISPERSIONES FP\\\\Dispersión-FP 2022-09-29.xlsx',\n",
       " 'C:\\\\Users\\\\Cristian.Aparicio\\\\Documents\\\\FAST PAYMENTS\\\\2022\\\\09. SEPTIEMBRE\\\\ARCHIVO DISPERSIONES FP\\\\Dispersión-FP 2022-09-30.xlsx']"
      ]
     },
     "execution_count": 4,
     "metadata": {},
     "output_type": "execute_result"
    }
   ],
   "source": [
    "fp_files = glob.glob(r'C:\\Users\\Cristian.Aparicio\\Documents\\FAST PAYMENTS\\2022\\09. SEPTIEMBRE\\ARCHIVO DISPERSIONES FP\\Dispersión-FP*.xlsx', recursive=False)\n",
    "fp_files"
   ]
  },
  {
   "cell_type": "code",
   "execution_count": 5,
   "metadata": {},
   "outputs": [
    {
     "data": {
      "text/plain": [
       "['C:\\\\Users\\\\Cristian.Aparicio\\\\Documents\\\\POLIZAS NETSUITE\\\\Rescheduled.csv']"
      ]
     },
     "execution_count": 5,
     "metadata": {},
     "output_type": "execute_result"
    }
   ],
   "source": [
    "red_files = glob.glob(r'C:\\Users\\Cristian.Aparicio\\Documents\\POLIZAS NETSUITE\\Res*.csv', recursive=False)\n",
    "red_files"
   ]
  },
  {
   "cell_type": "markdown",
   "metadata": {},
   "source": [
    "# REPROGRAMACIONES DB"
   ]
  },
  {
   "cell_type": "code",
   "execution_count": 6,
   "metadata": {},
   "outputs": [
    {
     "data": {
      "text/html": [
       "<div>\n",
       "<style scoped>\n",
       "    .dataframe tbody tr th:only-of-type {\n",
       "        vertical-align: middle;\n",
       "    }\n",
       "\n",
       "    .dataframe tbody tr th {\n",
       "        vertical-align: top;\n",
       "    }\n",
       "\n",
       "    .dataframe thead th {\n",
       "        text-align: right;\n",
       "    }\n",
       "</style>\n",
       "<table border=\"1\" class=\"dataframe\">\n",
       "  <thead>\n",
       "    <tr style=\"text-align: right;\">\n",
       "      <th></th>\n",
       "      <th>rescheduled_errored_disbursements_id</th>\n",
       "      <th>disbursement_id</th>\n",
       "      <th>report_id</th>\n",
       "      <th>reason</th>\n",
       "      <th>modified_by</th>\n",
       "      <th>created_at</th>\n",
       "      <th>file_name</th>\n",
       "    </tr>\n",
       "  </thead>\n",
       "  <tbody>\n",
       "    <tr>\n",
       "      <th>181385</th>\n",
       "      <td>5a46dfeb-5c2a-11e9-99fa-06d3d062ef5c</td>\n",
       "      <td>fd430013-3f34-4d35-875f-c2a8b47c5b9c</td>\n",
       "      <td>93SDK7ZH2</td>\n",
       "      <td>CHANGED_CLABE</td>\n",
       "      <td>SYSTEM</td>\n",
       "      <td>2019-04-11</td>\n",
       "      <td>Rescheduled.csv</td>\n",
       "    </tr>\n",
       "    <tr>\n",
       "      <th>181357</th>\n",
       "      <td>5a4360a9-5c2a-11e9-99fa-06d3d062ef5c</td>\n",
       "      <td>11676b26-87e2-4be0-877a-029c6d60664c</td>\n",
       "      <td>89YGNXVZ3</td>\n",
       "      <td>CHANGED_CLABE</td>\n",
       "      <td>SYSTEM</td>\n",
       "      <td>2019-04-11</td>\n",
       "      <td>Rescheduled.csv</td>\n",
       "    </tr>\n",
       "    <tr>\n",
       "      <th>181363</th>\n",
       "      <td>5a445226-5c2a-11e9-99fa-06d3d062ef5c</td>\n",
       "      <td>5d943b01-b1a0-4105-8cd3-f835585db574</td>\n",
       "      <td>PRYJPBVDD</td>\n",
       "      <td>CHANGED_CLABE</td>\n",
       "      <td>SYSTEM</td>\n",
       "      <td>2019-04-11</td>\n",
       "      <td>Rescheduled.csv</td>\n",
       "    </tr>\n",
       "    <tr>\n",
       "      <th>181394</th>\n",
       "      <td>5a482dab-5c2a-11e9-99fa-06d3d062ef5c</td>\n",
       "      <td>753f64cb-4d5b-4062-b0ee-7a23a20d95dc</td>\n",
       "      <td>XWPVNWR98</td>\n",
       "      <td>CHANGED_CLABE</td>\n",
       "      <td>SYSTEM</td>\n",
       "      <td>2019-04-11</td>\n",
       "      <td>Rescheduled.csv</td>\n",
       "    </tr>\n",
       "    <tr>\n",
       "      <th>181370</th>\n",
       "      <td>5a451510-5c2a-11e9-99fa-06d3d062ef5c</td>\n",
       "      <td>63381fad-191a-44de-b479-f929cdf17692</td>\n",
       "      <td>BP4DJP2GM</td>\n",
       "      <td>CHANGED_CLABE</td>\n",
       "      <td>SYSTEM</td>\n",
       "      <td>2019-04-11</td>\n",
       "      <td>Rescheduled.csv</td>\n",
       "    </tr>\n",
       "  </tbody>\n",
       "</table>\n",
       "</div>"
      ],
      "text/plain": [
       "        rescheduled_errored_disbursements_id  \\\n",
       "181385  5a46dfeb-5c2a-11e9-99fa-06d3d062ef5c   \n",
       "181357  5a4360a9-5c2a-11e9-99fa-06d3d062ef5c   \n",
       "181363  5a445226-5c2a-11e9-99fa-06d3d062ef5c   \n",
       "181394  5a482dab-5c2a-11e9-99fa-06d3d062ef5c   \n",
       "181370  5a451510-5c2a-11e9-99fa-06d3d062ef5c   \n",
       "\n",
       "                             disbursement_id  report_id         reason  \\\n",
       "181385  fd430013-3f34-4d35-875f-c2a8b47c5b9c  93SDK7ZH2  CHANGED_CLABE   \n",
       "181357  11676b26-87e2-4be0-877a-029c6d60664c  89YGNXVZ3  CHANGED_CLABE   \n",
       "181363  5d943b01-b1a0-4105-8cd3-f835585db574  PRYJPBVDD  CHANGED_CLABE   \n",
       "181394  753f64cb-4d5b-4062-b0ee-7a23a20d95dc  XWPVNWR98  CHANGED_CLABE   \n",
       "181370  63381fad-191a-44de-b479-f929cdf17692  BP4DJP2GM  CHANGED_CLABE   \n",
       "\n",
       "       modified_by created_at        file_name  \n",
       "181385      SYSTEM 2019-04-11  Rescheduled.csv  \n",
       "181357      SYSTEM 2019-04-11  Rescheduled.csv  \n",
       "181363      SYSTEM 2019-04-11  Rescheduled.csv  \n",
       "181394      SYSTEM 2019-04-11  Rescheduled.csv  \n",
       "181370      SYSTEM 2019-04-11  Rescheduled.csv  "
      ]
     },
     "execution_count": 6,
     "metadata": {},
     "output_type": "execute_result"
    }
   ],
   "source": [
    "rescheduled = pd.concat([pd.read_csv(f).assign(file_name=os.path.basename(f)) for f in red_files])\n",
    "rescheduled['created_at']= pd.to_datetime(rescheduled['created_at'])\n",
    "rescheduled.sort_values(by=['created_at'],inplace=True)\n",
    "rescheduled.head()"
   ]
  },
  {
   "cell_type": "code",
   "execution_count": 7,
   "metadata": {},
   "outputs": [
    {
     "data": {
      "text/plain": [
       "(510585, 7)"
      ]
     },
     "execution_count": 7,
     "metadata": {},
     "output_type": "execute_result"
    }
   ],
   "source": [
    "rescheduled.shape"
   ]
  },
  {
   "cell_type": "code",
   "execution_count": 8,
   "metadata": {},
   "outputs": [
    {
     "data": {
      "text/html": [
       "<div>\n",
       "<style scoped>\n",
       "    .dataframe tbody tr th:only-of-type {\n",
       "        vertical-align: middle;\n",
       "    }\n",
       "\n",
       "    .dataframe tbody tr th {\n",
       "        vertical-align: top;\n",
       "    }\n",
       "\n",
       "    .dataframe thead th {\n",
       "        text-align: right;\n",
       "    }\n",
       "</style>\n",
       "<table border=\"1\" class=\"dataframe\">\n",
       "  <thead>\n",
       "    <tr style=\"text-align: right;\">\n",
       "      <th></th>\n",
       "      <th>report_id</th>\n",
       "      <th>no_intentos</th>\n",
       "    </tr>\n",
       "  </thead>\n",
       "  <tbody>\n",
       "    <tr>\n",
       "      <th>0</th>\n",
       "      <td>2222BNGCQ</td>\n",
       "      <td>1</td>\n",
       "    </tr>\n",
       "    <tr>\n",
       "      <th>1</th>\n",
       "      <td>2222NCJCZ</td>\n",
       "      <td>1</td>\n",
       "    </tr>\n",
       "    <tr>\n",
       "      <th>2</th>\n",
       "      <td>2224PSCTD</td>\n",
       "      <td>1</td>\n",
       "    </tr>\n",
       "    <tr>\n",
       "      <th>3</th>\n",
       "      <td>2225C9VD6</td>\n",
       "      <td>1</td>\n",
       "    </tr>\n",
       "    <tr>\n",
       "      <th>4</th>\n",
       "      <td>2226SCJM5</td>\n",
       "      <td>1</td>\n",
       "    </tr>\n",
       "  </tbody>\n",
       "</table>\n",
       "</div>"
      ],
      "text/plain": [
       "   report_id  no_intentos\n",
       "0  2222BNGCQ            1\n",
       "1  2222NCJCZ            1\n",
       "2  2224PSCTD            1\n",
       "3  2225C9VD6            1\n",
       "4  2226SCJM5            1"
      ]
     },
     "execution_count": 8,
     "metadata": {},
     "output_type": "execute_result"
    }
   ],
   "source": [
    "rescheduled_agrupado = rescheduled.groupby(['report_id']).agg({'disbursement_id':len}).reset_index()\n",
    "rescheduled_agrupado.rename(columns={'disbursement_id':'no_intentos'},inplace=True)\n",
    "rescheduled_agrupado.head()"
   ]
  },
  {
   "cell_type": "code",
   "execution_count": 9,
   "metadata": {},
   "outputs": [
    {
     "data": {
      "text/plain": [
       "(426137, 2)"
      ]
     },
     "execution_count": 9,
     "metadata": {},
     "output_type": "execute_result"
    }
   ],
   "source": [
    "rescheduled_agrupado.shape"
   ]
  },
  {
   "cell_type": "code",
   "execution_count": 10,
   "metadata": {},
   "outputs": [
    {
     "data": {
      "text/html": [
       "<div>\n",
       "<style scoped>\n",
       "    .dataframe tbody tr th:only-of-type {\n",
       "        vertical-align: middle;\n",
       "    }\n",
       "\n",
       "    .dataframe tbody tr th {\n",
       "        vertical-align: top;\n",
       "    }\n",
       "\n",
       "    .dataframe thead th {\n",
       "        text-align: right;\n",
       "    }\n",
       "</style>\n",
       "<table border=\"1\" class=\"dataframe\">\n",
       "  <thead>\n",
       "    <tr style=\"text-align: right;\">\n",
       "      <th></th>\n",
       "      <th>rescheduled_errored_disbursements_id</th>\n",
       "      <th>disbursement_id</th>\n",
       "      <th>report_id</th>\n",
       "      <th>reason</th>\n",
       "      <th>modified_by</th>\n",
       "      <th>created_at</th>\n",
       "      <th>file_name</th>\n",
       "    </tr>\n",
       "  </thead>\n",
       "  <tbody>\n",
       "    <tr>\n",
       "      <th>52242</th>\n",
       "      <td>1b0f4407-619b-11e9-99fa-06d3d062ef5c</td>\n",
       "      <td>4b716621-6379-4baa-bef1-a61beb6f1f0a</td>\n",
       "      <td>MGWQT9J2R</td>\n",
       "      <td>CHANGED_CLABE</td>\n",
       "      <td>SYSTEM</td>\n",
       "      <td>2019-04-18</td>\n",
       "      <td>Rescheduled.csv</td>\n",
       "    </tr>\n",
       "    <tr>\n",
       "      <th>52220</th>\n",
       "      <td>1b0d7c75-619b-11e9-99fa-06d3d062ef5c</td>\n",
       "      <td>0f21d7cc-3b06-420e-ade3-2c5f5c27c7ab</td>\n",
       "      <td>7KL2XRPQM</td>\n",
       "      <td>CHANGED_CLABE</td>\n",
       "      <td>SYSTEM</td>\n",
       "      <td>2019-04-18</td>\n",
       "      <td>Rescheduled.csv</td>\n",
       "    </tr>\n",
       "    <tr>\n",
       "      <th>52212</th>\n",
       "      <td>1b0cd32d-619b-11e9-99fa-06d3d062ef5c</td>\n",
       "      <td>89af19a8-1a15-4a03-a7a8-cfa4f91c6336</td>\n",
       "      <td>3RCFBWQJR</td>\n",
       "      <td>CHANGED_CLABE</td>\n",
       "      <td>SYSTEM</td>\n",
       "      <td>2019-04-18</td>\n",
       "      <td>Rescheduled.csv</td>\n",
       "    </tr>\n",
       "    <tr>\n",
       "      <th>134800</th>\n",
       "      <td>439215cf-671b-11e9-99fa-06d3d062ef5c</td>\n",
       "      <td>0f21d7cc-3b06-420e-ade3-2c5f5c27c7ab</td>\n",
       "      <td>7KL2XRPQM</td>\n",
       "      <td>CHANGED_CLABE</td>\n",
       "      <td>SYSTEM</td>\n",
       "      <td>2019-04-25</td>\n",
       "      <td>Rescheduled.csv</td>\n",
       "    </tr>\n",
       "    <tr>\n",
       "      <th>134795</th>\n",
       "      <td>439188e8-671b-11e9-99fa-06d3d062ef5c</td>\n",
       "      <td>89af19a8-1a15-4a03-a7a8-cfa4f91c6336</td>\n",
       "      <td>3RCFBWQJR</td>\n",
       "      <td>CHANGED_CLABE</td>\n",
       "      <td>SYSTEM</td>\n",
       "      <td>2019-04-25</td>\n",
       "      <td>Rescheduled.csv</td>\n",
       "    </tr>\n",
       "  </tbody>\n",
       "</table>\n",
       "</div>"
      ],
      "text/plain": [
       "        rescheduled_errored_disbursements_id  \\\n",
       "52242   1b0f4407-619b-11e9-99fa-06d3d062ef5c   \n",
       "52220   1b0d7c75-619b-11e9-99fa-06d3d062ef5c   \n",
       "52212   1b0cd32d-619b-11e9-99fa-06d3d062ef5c   \n",
       "134800  439215cf-671b-11e9-99fa-06d3d062ef5c   \n",
       "134795  439188e8-671b-11e9-99fa-06d3d062ef5c   \n",
       "\n",
       "                             disbursement_id  report_id         reason  \\\n",
       "52242   4b716621-6379-4baa-bef1-a61beb6f1f0a  MGWQT9J2R  CHANGED_CLABE   \n",
       "52220   0f21d7cc-3b06-420e-ade3-2c5f5c27c7ab  7KL2XRPQM  CHANGED_CLABE   \n",
       "52212   89af19a8-1a15-4a03-a7a8-cfa4f91c6336  3RCFBWQJR  CHANGED_CLABE   \n",
       "134800  0f21d7cc-3b06-420e-ade3-2c5f5c27c7ab  7KL2XRPQM  CHANGED_CLABE   \n",
       "134795  89af19a8-1a15-4a03-a7a8-cfa4f91c6336  3RCFBWQJR  CHANGED_CLABE   \n",
       "\n",
       "       modified_by created_at        file_name  \n",
       "52242       SYSTEM 2019-04-18  Rescheduled.csv  \n",
       "52220       SYSTEM 2019-04-18  Rescheduled.csv  \n",
       "52212       SYSTEM 2019-04-18  Rescheduled.csv  \n",
       "134800      SYSTEM 2019-04-25  Rescheduled.csv  \n",
       "134795      SYSTEM 2019-04-25  Rescheduled.csv  "
      ]
     },
     "execution_count": 10,
     "metadata": {},
     "output_type": "execute_result"
    }
   ],
   "source": [
    "duplicates_rescheduled = rescheduled[rescheduled.duplicated(['report_id'] , keep=False)]\n",
    "duplicates_rescheduled.head()"
   ]
  },
  {
   "cell_type": "code",
   "execution_count": 11,
   "metadata": {},
   "outputs": [
    {
     "data": {
      "text/plain": [
       "(148462, 7)"
      ]
     },
     "execution_count": 11,
     "metadata": {},
     "output_type": "execute_result"
    }
   ],
   "source": [
    "duplicates_rescheduled.shape"
   ]
  },
  {
   "cell_type": "markdown",
   "metadata": {},
   "source": [
    "# BORRAR ELIMINADOS DE LA BASE DE REPROGRAMACIONES"
   ]
  },
  {
   "cell_type": "code",
   "execution_count": 12,
   "metadata": {},
   "outputs": [
    {
     "data": {
      "text/html": [
       "<div>\n",
       "<style scoped>\n",
       "    .dataframe tbody tr th:only-of-type {\n",
       "        vertical-align: middle;\n",
       "    }\n",
       "\n",
       "    .dataframe tbody tr th {\n",
       "        vertical-align: top;\n",
       "    }\n",
       "\n",
       "    .dataframe thead th {\n",
       "        text-align: right;\n",
       "    }\n",
       "</style>\n",
       "<table border=\"1\" class=\"dataframe\">\n",
       "  <thead>\n",
       "    <tr style=\"text-align: right;\">\n",
       "      <th></th>\n",
       "      <th>rescheduled_errored_disbursements_id</th>\n",
       "      <th>disbursement_id</th>\n",
       "      <th>report_id</th>\n",
       "      <th>reason</th>\n",
       "      <th>modified_by</th>\n",
       "      <th>created_at</th>\n",
       "      <th>file_name</th>\n",
       "    </tr>\n",
       "  </thead>\n",
       "  <tbody>\n",
       "    <tr>\n",
       "      <th>181385</th>\n",
       "      <td>5a46dfeb-5c2a-11e9-99fa-06d3d062ef5c</td>\n",
       "      <td>fd430013-3f34-4d35-875f-c2a8b47c5b9c</td>\n",
       "      <td>93SDK7ZH2</td>\n",
       "      <td>CHANGED_CLABE</td>\n",
       "      <td>SYSTEM</td>\n",
       "      <td>2019-04-11</td>\n",
       "      <td>Rescheduled.csv</td>\n",
       "    </tr>\n",
       "    <tr>\n",
       "      <th>181357</th>\n",
       "      <td>5a4360a9-5c2a-11e9-99fa-06d3d062ef5c</td>\n",
       "      <td>11676b26-87e2-4be0-877a-029c6d60664c</td>\n",
       "      <td>89YGNXVZ3</td>\n",
       "      <td>CHANGED_CLABE</td>\n",
       "      <td>SYSTEM</td>\n",
       "      <td>2019-04-11</td>\n",
       "      <td>Rescheduled.csv</td>\n",
       "    </tr>\n",
       "    <tr>\n",
       "      <th>181363</th>\n",
       "      <td>5a445226-5c2a-11e9-99fa-06d3d062ef5c</td>\n",
       "      <td>5d943b01-b1a0-4105-8cd3-f835585db574</td>\n",
       "      <td>PRYJPBVDD</td>\n",
       "      <td>CHANGED_CLABE</td>\n",
       "      <td>SYSTEM</td>\n",
       "      <td>2019-04-11</td>\n",
       "      <td>Rescheduled.csv</td>\n",
       "    </tr>\n",
       "    <tr>\n",
       "      <th>181394</th>\n",
       "      <td>5a482dab-5c2a-11e9-99fa-06d3d062ef5c</td>\n",
       "      <td>753f64cb-4d5b-4062-b0ee-7a23a20d95dc</td>\n",
       "      <td>XWPVNWR98</td>\n",
       "      <td>CHANGED_CLABE</td>\n",
       "      <td>SYSTEM</td>\n",
       "      <td>2019-04-11</td>\n",
       "      <td>Rescheduled.csv</td>\n",
       "    </tr>\n",
       "    <tr>\n",
       "      <th>181370</th>\n",
       "      <td>5a451510-5c2a-11e9-99fa-06d3d062ef5c</td>\n",
       "      <td>63381fad-191a-44de-b479-f929cdf17692</td>\n",
       "      <td>BP4DJP2GM</td>\n",
       "      <td>CHANGED_CLABE</td>\n",
       "      <td>SYSTEM</td>\n",
       "      <td>2019-04-11</td>\n",
       "      <td>Rescheduled.csv</td>\n",
       "    </tr>\n",
       "  </tbody>\n",
       "</table>\n",
       "</div>"
      ],
      "text/plain": [
       "        rescheduled_errored_disbursements_id  \\\n",
       "181385  5a46dfeb-5c2a-11e9-99fa-06d3d062ef5c   \n",
       "181357  5a4360a9-5c2a-11e9-99fa-06d3d062ef5c   \n",
       "181363  5a445226-5c2a-11e9-99fa-06d3d062ef5c   \n",
       "181394  5a482dab-5c2a-11e9-99fa-06d3d062ef5c   \n",
       "181370  5a451510-5c2a-11e9-99fa-06d3d062ef5c   \n",
       "\n",
       "                             disbursement_id  report_id         reason  \\\n",
       "181385  fd430013-3f34-4d35-875f-c2a8b47c5b9c  93SDK7ZH2  CHANGED_CLABE   \n",
       "181357  11676b26-87e2-4be0-877a-029c6d60664c  89YGNXVZ3  CHANGED_CLABE   \n",
       "181363  5d943b01-b1a0-4105-8cd3-f835585db574  PRYJPBVDD  CHANGED_CLABE   \n",
       "181394  753f64cb-4d5b-4062-b0ee-7a23a20d95dc  XWPVNWR98  CHANGED_CLABE   \n",
       "181370  63381fad-191a-44de-b479-f929cdf17692  BP4DJP2GM  CHANGED_CLABE   \n",
       "\n",
       "       modified_by created_at        file_name  \n",
       "181385      SYSTEM 2019-04-11  Rescheduled.csv  \n",
       "181357      SYSTEM 2019-04-11  Rescheduled.csv  \n",
       "181363      SYSTEM 2019-04-11  Rescheduled.csv  \n",
       "181394      SYSTEM 2019-04-11  Rescheduled.csv  \n",
       "181370      SYSTEM 2019-04-11  Rescheduled.csv  "
      ]
     },
     "execution_count": 12,
     "metadata": {},
     "output_type": "execute_result"
    }
   ],
   "source": [
    "rescheduled.drop_duplicates(subset ='report_id', keep='last', inplace=True)\n",
    "rescheduled.head()"
   ]
  },
  {
   "cell_type": "code",
   "execution_count": 13,
   "metadata": {},
   "outputs": [
    {
     "data": {
      "text/plain": [
       "(426137, 7)"
      ]
     },
     "execution_count": 13,
     "metadata": {},
     "output_type": "execute_result"
    }
   ],
   "source": [
    "rescheduled.shape"
   ]
  },
  {
   "cell_type": "code",
   "execution_count": 14,
   "metadata": {},
   "outputs": [
    {
     "data": {
      "text/html": [
       "<div>\n",
       "<style scoped>\n",
       "    .dataframe tbody tr th:only-of-type {\n",
       "        vertical-align: middle;\n",
       "    }\n",
       "\n",
       "    .dataframe tbody tr th {\n",
       "        vertical-align: top;\n",
       "    }\n",
       "\n",
       "    .dataframe thead th {\n",
       "        text-align: right;\n",
       "    }\n",
       "</style>\n",
       "<table border=\"1\" class=\"dataframe\">\n",
       "  <thead>\n",
       "    <tr style=\"text-align: right;\">\n",
       "      <th></th>\n",
       "      <th>rescheduled_errored_disbursements_id</th>\n",
       "      <th>disbursement_id</th>\n",
       "      <th>report_id</th>\n",
       "      <th>reason</th>\n",
       "      <th>modified_by</th>\n",
       "      <th>created_at</th>\n",
       "      <th>file_name</th>\n",
       "      <th>no_intentos</th>\n",
       "    </tr>\n",
       "  </thead>\n",
       "  <tbody>\n",
       "    <tr>\n",
       "      <th>0</th>\n",
       "      <td>5a46dfeb-5c2a-11e9-99fa-06d3d062ef5c</td>\n",
       "      <td>fd430013-3f34-4d35-875f-c2a8b47c5b9c</td>\n",
       "      <td>93SDK7ZH2</td>\n",
       "      <td>CHANGED_CLABE</td>\n",
       "      <td>SYSTEM</td>\n",
       "      <td>2019-04-11</td>\n",
       "      <td>Rescheduled.csv</td>\n",
       "      <td>1</td>\n",
       "    </tr>\n",
       "    <tr>\n",
       "      <th>1</th>\n",
       "      <td>5a4360a9-5c2a-11e9-99fa-06d3d062ef5c</td>\n",
       "      <td>11676b26-87e2-4be0-877a-029c6d60664c</td>\n",
       "      <td>89YGNXVZ3</td>\n",
       "      <td>CHANGED_CLABE</td>\n",
       "      <td>SYSTEM</td>\n",
       "      <td>2019-04-11</td>\n",
       "      <td>Rescheduled.csv</td>\n",
       "      <td>1</td>\n",
       "    </tr>\n",
       "    <tr>\n",
       "      <th>2</th>\n",
       "      <td>5a445226-5c2a-11e9-99fa-06d3d062ef5c</td>\n",
       "      <td>5d943b01-b1a0-4105-8cd3-f835585db574</td>\n",
       "      <td>PRYJPBVDD</td>\n",
       "      <td>CHANGED_CLABE</td>\n",
       "      <td>SYSTEM</td>\n",
       "      <td>2019-04-11</td>\n",
       "      <td>Rescheduled.csv</td>\n",
       "      <td>1</td>\n",
       "    </tr>\n",
       "    <tr>\n",
       "      <th>3</th>\n",
       "      <td>5a482dab-5c2a-11e9-99fa-06d3d062ef5c</td>\n",
       "      <td>753f64cb-4d5b-4062-b0ee-7a23a20d95dc</td>\n",
       "      <td>XWPVNWR98</td>\n",
       "      <td>CHANGED_CLABE</td>\n",
       "      <td>SYSTEM</td>\n",
       "      <td>2019-04-11</td>\n",
       "      <td>Rescheduled.csv</td>\n",
       "      <td>1</td>\n",
       "    </tr>\n",
       "    <tr>\n",
       "      <th>4</th>\n",
       "      <td>5a451510-5c2a-11e9-99fa-06d3d062ef5c</td>\n",
       "      <td>63381fad-191a-44de-b479-f929cdf17692</td>\n",
       "      <td>BP4DJP2GM</td>\n",
       "      <td>CHANGED_CLABE</td>\n",
       "      <td>SYSTEM</td>\n",
       "      <td>2019-04-11</td>\n",
       "      <td>Rescheduled.csv</td>\n",
       "      <td>1</td>\n",
       "    </tr>\n",
       "  </tbody>\n",
       "</table>\n",
       "</div>"
      ],
      "text/plain": [
       "   rescheduled_errored_disbursements_id                       disbursement_id  \\\n",
       "0  5a46dfeb-5c2a-11e9-99fa-06d3d062ef5c  fd430013-3f34-4d35-875f-c2a8b47c5b9c   \n",
       "1  5a4360a9-5c2a-11e9-99fa-06d3d062ef5c  11676b26-87e2-4be0-877a-029c6d60664c   \n",
       "2  5a445226-5c2a-11e9-99fa-06d3d062ef5c  5d943b01-b1a0-4105-8cd3-f835585db574   \n",
       "3  5a482dab-5c2a-11e9-99fa-06d3d062ef5c  753f64cb-4d5b-4062-b0ee-7a23a20d95dc   \n",
       "4  5a451510-5c2a-11e9-99fa-06d3d062ef5c  63381fad-191a-44de-b479-f929cdf17692   \n",
       "\n",
       "   report_id         reason modified_by created_at        file_name  \\\n",
       "0  93SDK7ZH2  CHANGED_CLABE      SYSTEM 2019-04-11  Rescheduled.csv   \n",
       "1  89YGNXVZ3  CHANGED_CLABE      SYSTEM 2019-04-11  Rescheduled.csv   \n",
       "2  PRYJPBVDD  CHANGED_CLABE      SYSTEM 2019-04-11  Rescheduled.csv   \n",
       "3  XWPVNWR98  CHANGED_CLABE      SYSTEM 2019-04-11  Rescheduled.csv   \n",
       "4  BP4DJP2GM  CHANGED_CLABE      SYSTEM 2019-04-11  Rescheduled.csv   \n",
       "\n",
       "   no_intentos  \n",
       "0            1  \n",
       "1            1  \n",
       "2            1  \n",
       "3            1  \n",
       "4            1  "
      ]
     },
     "execution_count": 14,
     "metadata": {},
     "output_type": "execute_result"
    }
   ],
   "source": [
    "rescheduled_final = rescheduled.merge(rescheduled_agrupado[['report_id','no_intentos']],on='report_id',how='left')\n",
    "rescheduled_final.head()"
   ]
  },
  {
   "cell_type": "code",
   "execution_count": 15,
   "metadata": {},
   "outputs": [
    {
     "data": {
      "text/plain": [
       "(426137, 8)"
      ]
     },
     "execution_count": 15,
     "metadata": {},
     "output_type": "execute_result"
    }
   ],
   "source": [
    "rescheduled_final.shape"
   ]
  },
  {
   "cell_type": "markdown",
   "metadata": {},
   "source": [
    "# DEVOLUCIONES TRADICIONAL"
   ]
  },
  {
   "cell_type": "code",
   "execution_count": 16,
   "metadata": {},
   "outputs": [
    {
     "data": {
      "text/html": [
       "<div>\n",
       "<style scoped>\n",
       "    .dataframe tbody tr th:only-of-type {\n",
       "        vertical-align: middle;\n",
       "    }\n",
       "\n",
       "    .dataframe tbody tr th {\n",
       "        vertical-align: top;\n",
       "    }\n",
       "\n",
       "    .dataframe thead th {\n",
       "        text-align: right;\n",
       "    }\n",
       "</style>\n",
       "<table border=\"1\" class=\"dataframe\">\n",
       "  <thead>\n",
       "    <tr style=\"text-align: right;\">\n",
       "      <th></th>\n",
       "      <th>type</th>\n",
       "      <th>merchant_id</th>\n",
       "      <th>merchant_name</th>\n",
       "      <th>user_email</th>\n",
       "      <th>report_id</th>\n",
       "      <th>report_date_local</th>\n",
       "      <th>total_due</th>\n",
       "      <th>tipo</th>\n",
       "      <th>bank</th>\n",
       "      <th>Batch_time</th>\n",
       "      <th>Check</th>\n",
       "      <th>error_description</th>\n",
       "      <th>file_name</th>\n",
       "      <th>date_file</th>\n",
       "    </tr>\n",
       "  </thead>\n",
       "  <tbody>\n",
       "    <tr>\n",
       "      <th>0</th>\n",
       "      <td>DAILY</td>\n",
       "      <td>dcc38821-11da-428e-a5dc-50a1b26240f5</td>\n",
       "      <td>Taller estetica automotriz</td>\n",
       "      <td>kruztygarage@gmail.com</td>\n",
       "      <td>JNHJBGF66</td>\n",
       "      <td>2022-09-01</td>\n",
       "      <td>38,329.60</td>\n",
       "      <td>Pago del día</td>\n",
       "      <td>BBVA BANCOMER</td>\n",
       "      <td>First_batch</td>\n",
       "      <td>SPEI DEVUELTO</td>\n",
       "      <td>DN</td>\n",
       "      <td>Dispersión-20220901.xlsx</td>\n",
       "      <td>2022-09-01</td>\n",
       "    </tr>\n",
       "    <tr>\n",
       "      <th>1</th>\n",
       "      <td>DAILY</td>\n",
       "      <td>5482b244-5cc8-40b2-afba-7726045b7ebc</td>\n",
       "      <td>Leonardo Rosas</td>\n",
       "      <td>leonardorosas230@gmail.com</td>\n",
       "      <td>67GTP6K2V</td>\n",
       "      <td>2022-09-01</td>\n",
       "      <td>41.20</td>\n",
       "      <td>Pago del día</td>\n",
       "      <td>BBVA BANCOMER</td>\n",
       "      <td>First_batch</td>\n",
       "      <td>SPEI DEVUELTO</td>\n",
       "      <td>DB</td>\n",
       "      <td>Dispersión-20220901.xlsx</td>\n",
       "      <td>2022-09-01</td>\n",
       "    </tr>\n",
       "    <tr>\n",
       "      <th>2</th>\n",
       "      <td>DAILY</td>\n",
       "      <td>aa9cdd80-0892-4135-8e51-305844b4340f</td>\n",
       "      <td>Frutas y verduras CAMACHO</td>\n",
       "      <td>silvianavarrosanchez250895@gmail.com</td>\n",
       "      <td>LRS5TDNNH</td>\n",
       "      <td>2022-09-01</td>\n",
       "      <td>2.87</td>\n",
       "      <td>Pago del día</td>\n",
       "      <td>COMPARTAMOS</td>\n",
       "      <td>First_batch</td>\n",
       "      <td>SPEI DEVUELTO</td>\n",
       "      <td>DI</td>\n",
       "      <td>Dispersión-20220901.xlsx</td>\n",
       "      <td>2022-09-01</td>\n",
       "    </tr>\n",
       "    <tr>\n",
       "      <th>3</th>\n",
       "      <td>DAILY</td>\n",
       "      <td>ee8f9dc1-8433-490e-a29e-c7b617e7bc0e</td>\n",
       "      <td>Clip trabajo</td>\n",
       "      <td>gmoo534@gmail.com</td>\n",
       "      <td>R99JGNZGW</td>\n",
       "      <td>2022-09-01</td>\n",
       "      <td>0.01</td>\n",
       "      <td>Pago del día</td>\n",
       "      <td>SANTANDER</td>\n",
       "      <td>First_batch</td>\n",
       "      <td>SPEI DEVUELTO</td>\n",
       "      <td>X2</td>\n",
       "      <td>Dispersión-20220901.xlsx</td>\n",
       "      <td>2022-09-01</td>\n",
       "    </tr>\n",
       "    <tr>\n",
       "      <th>4</th>\n",
       "      <td>DAILY</td>\n",
       "      <td>fa6de1cb-d0cd-4908-9457-3f66f8d6a764</td>\n",
       "      <td>Cafe La Mision</td>\n",
       "      <td>karina@themissioninc.org</td>\n",
       "      <td>ZZPBB35X5</td>\n",
       "      <td>2022-09-01</td>\n",
       "      <td>195.49</td>\n",
       "      <td>Pago del día</td>\n",
       "      <td>BBVA BANCOMER</td>\n",
       "      <td>First_batch</td>\n",
       "      <td>SPEI DEVUELTO</td>\n",
       "      <td>DB</td>\n",
       "      <td>Dispersión-20220901.xlsx</td>\n",
       "      <td>2022-09-01</td>\n",
       "    </tr>\n",
       "  </tbody>\n",
       "</table>\n",
       "</div>"
      ],
      "text/plain": [
       "    type                           merchant_id               merchant_name  \\\n",
       "0  DAILY  dcc38821-11da-428e-a5dc-50a1b26240f5  Taller estetica automotriz   \n",
       "1  DAILY  5482b244-5cc8-40b2-afba-7726045b7ebc              Leonardo Rosas   \n",
       "2  DAILY  aa9cdd80-0892-4135-8e51-305844b4340f   Frutas y verduras CAMACHO   \n",
       "3  DAILY  ee8f9dc1-8433-490e-a29e-c7b617e7bc0e                Clip trabajo   \n",
       "4  DAILY  fa6de1cb-d0cd-4908-9457-3f66f8d6a764              Cafe La Mision   \n",
       "\n",
       "                             user_email  report_id report_date_local  \\\n",
       "0                kruztygarage@gmail.com  JNHJBGF66        2022-09-01   \n",
       "1            leonardorosas230@gmail.com  67GTP6K2V        2022-09-01   \n",
       "2  silvianavarrosanchez250895@gmail.com  LRS5TDNNH        2022-09-01   \n",
       "3                     gmoo534@gmail.com  R99JGNZGW        2022-09-01   \n",
       "4              karina@themissioninc.org  ZZPBB35X5        2022-09-01   \n",
       "\n",
       "   total_due          tipo           bank   Batch_time          Check  \\\n",
       "0  38,329.60  Pago del día  BBVA BANCOMER  First_batch  SPEI DEVUELTO   \n",
       "1      41.20  Pago del día  BBVA BANCOMER  First_batch  SPEI DEVUELTO   \n",
       "2       2.87  Pago del día    COMPARTAMOS  First_batch  SPEI DEVUELTO   \n",
       "3       0.01  Pago del día      SANTANDER  First_batch  SPEI DEVUELTO   \n",
       "4     195.49  Pago del día  BBVA BANCOMER  First_batch  SPEI DEVUELTO   \n",
       "\n",
       "  error_description                 file_name  date_file  \n",
       "0                DN  Dispersión-20220901.xlsx 2022-09-01  \n",
       "1                DB  Dispersión-20220901.xlsx 2022-09-01  \n",
       "2                DI  Dispersión-20220901.xlsx 2022-09-01  \n",
       "3                X2  Dispersión-20220901.xlsx 2022-09-01  \n",
       "4                DB  Dispersión-20220901.xlsx 2022-09-01  "
      ]
     },
     "execution_count": 16,
     "metadata": {},
     "output_type": "execute_result"
    }
   ],
   "source": [
    "dev_total = pd.concat([pd.read_excel(f,sheet_name='ERROR').assign(file_name=os.path.basename(f)) for f in trad_files])\n",
    "dev_total['date_file'] = dev_total[\"file_name\"].str[-13:-5]\n",
    "dev_total['date_file']= pd.to_datetime(dev_total['date_file'], format='%Y%m%d').dt.date\n",
    "dev_total['date_file']= pd.to_datetime(dev_total['date_file'])\n",
    "dev_total['report_date_local']= pd.to_datetime(dev_total['report_date_local'])\n",
    "dev_total.head()"
   ]
  },
  {
   "cell_type": "code",
   "execution_count": 17,
   "metadata": {},
   "outputs": [
    {
     "data": {
      "text/plain": [
       "(7051, 14)"
      ]
     },
     "execution_count": 17,
     "metadata": {},
     "output_type": "execute_result"
    }
   ],
   "source": [
    "dev_total.shape"
   ]
  },
  {
   "cell_type": "code",
   "execution_count": 18,
   "metadata": {},
   "outputs": [
    {
     "data": {
      "text/plain": [
       "array(['Pago del día', 'Reprogramación'], dtype=object)"
      ]
     },
     "execution_count": 18,
     "metadata": {},
     "output_type": "execute_result"
    }
   ],
   "source": [
    "dev_total['tipo'].unique()"
   ]
  },
  {
   "cell_type": "markdown",
   "metadata": {},
   "source": [
    "### DEVOLUCIONES TOTALES"
   ]
  },
  {
   "cell_type": "code",
   "execution_count": 19,
   "metadata": {},
   "outputs": [
    {
     "data": {
      "text/html": [
       "<div>\n",
       "<style scoped>\n",
       "    .dataframe tbody tr th:only-of-type {\n",
       "        vertical-align: middle;\n",
       "    }\n",
       "\n",
       "    .dataframe tbody tr th {\n",
       "        vertical-align: top;\n",
       "    }\n",
       "\n",
       "    .dataframe thead tr th {\n",
       "        text-align: left;\n",
       "    }\n",
       "</style>\n",
       "<table border=\"1\" class=\"dataframe\">\n",
       "  <thead>\n",
       "    <tr>\n",
       "      <th></th>\n",
       "      <th>date_file</th>\n",
       "      <th>sum</th>\n",
       "      <th>len</th>\n",
       "    </tr>\n",
       "    <tr>\n",
       "      <th></th>\n",
       "      <th></th>\n",
       "      <th>total_due</th>\n",
       "      <th>total_due</th>\n",
       "    </tr>\n",
       "  </thead>\n",
       "  <tbody>\n",
       "    <tr>\n",
       "      <th>0</th>\n",
       "      <td>2022-09-01 00:00:00</td>\n",
       "      <td>272,001.27</td>\n",
       "      <td>140</td>\n",
       "    </tr>\n",
       "    <tr>\n",
       "      <th>1</th>\n",
       "      <td>2022-09-02 00:00:00</td>\n",
       "      <td>273,897.04</td>\n",
       "      <td>125</td>\n",
       "    </tr>\n",
       "    <tr>\n",
       "      <th>2</th>\n",
       "      <td>2022-09-03 00:00:00</td>\n",
       "      <td>489,596.32</td>\n",
       "      <td>124</td>\n",
       "    </tr>\n",
       "    <tr>\n",
       "      <th>3</th>\n",
       "      <td>2022-09-04 00:00:00</td>\n",
       "      <td>299,537.96</td>\n",
       "      <td>134</td>\n",
       "    </tr>\n",
       "    <tr>\n",
       "      <th>4</th>\n",
       "      <td>2022-09-05 00:00:00</td>\n",
       "      <td>300,174.87</td>\n",
       "      <td>120</td>\n",
       "    </tr>\n",
       "  </tbody>\n",
       "</table>\n",
       "</div>"
      ],
      "text/plain": [
       "             date_file        sum       len\n",
       "                        total_due total_due\n",
       "0  2022-09-01 00:00:00 272,001.27       140\n",
       "1  2022-09-02 00:00:00 273,897.04       125\n",
       "2  2022-09-03 00:00:00 489,596.32       124\n",
       "3  2022-09-04 00:00:00 299,537.96       134\n",
       "4  2022-09-05 00:00:00 300,174.87       120"
      ]
     },
     "execution_count": 19,
     "metadata": {},
     "output_type": "execute_result"
    }
   ],
   "source": [
    "dev_total_pivot = pd.pivot_table(dev_total,index=[\"date_file\"],values=['total_due'],aggfunc = ['sum', len],margins=True)\n",
    "dev_total_pivot.reset_index(drop=False, inplace=True)\n",
    "dev_total_pivot.head()"
   ]
  },
  {
   "cell_type": "code",
   "execution_count": 20,
   "metadata": {},
   "outputs": [
    {
     "data": {
      "text/plain": [
       "(31, 3)"
      ]
     },
     "execution_count": 20,
     "metadata": {},
     "output_type": "execute_result"
    }
   ],
   "source": [
    "dev_total_pivot.shape"
   ]
  },
  {
   "cell_type": "markdown",
   "metadata": {},
   "source": [
    "### DEVOLUCIONES PAGO DEL DIA "
   ]
  },
  {
   "cell_type": "code",
   "execution_count": 21,
   "metadata": {},
   "outputs": [],
   "source": [
    "dev_dia = dev_total[(dev_total['tipo'] == 'Pago del día')]"
   ]
  },
  {
   "cell_type": "code",
   "execution_count": 22,
   "metadata": {},
   "outputs": [
    {
     "data": {
      "text/html": [
       "<div>\n",
       "<style scoped>\n",
       "    .dataframe tbody tr th:only-of-type {\n",
       "        vertical-align: middle;\n",
       "    }\n",
       "\n",
       "    .dataframe tbody tr th {\n",
       "        vertical-align: top;\n",
       "    }\n",
       "\n",
       "    .dataframe thead tr th {\n",
       "        text-align: left;\n",
       "    }\n",
       "</style>\n",
       "<table border=\"1\" class=\"dataframe\">\n",
       "  <thead>\n",
       "    <tr>\n",
       "      <th></th>\n",
       "      <th>date_file</th>\n",
       "      <th>sum</th>\n",
       "      <th>len</th>\n",
       "    </tr>\n",
       "    <tr>\n",
       "      <th></th>\n",
       "      <th></th>\n",
       "      <th>total_due</th>\n",
       "      <th>total_due</th>\n",
       "    </tr>\n",
       "  </thead>\n",
       "  <tbody>\n",
       "    <tr>\n",
       "      <th>0</th>\n",
       "      <td>2022-09-01 00:00:00</td>\n",
       "      <td>180,954.14</td>\n",
       "      <td>103</td>\n",
       "    </tr>\n",
       "    <tr>\n",
       "      <th>1</th>\n",
       "      <td>2022-09-02 00:00:00</td>\n",
       "      <td>150,945.59</td>\n",
       "      <td>92</td>\n",
       "    </tr>\n",
       "    <tr>\n",
       "      <th>2</th>\n",
       "      <td>2022-09-03 00:00:00</td>\n",
       "      <td>458,402.06</td>\n",
       "      <td>111</td>\n",
       "    </tr>\n",
       "    <tr>\n",
       "      <th>3</th>\n",
       "      <td>2022-09-04 00:00:00</td>\n",
       "      <td>263,856.29</td>\n",
       "      <td>121</td>\n",
       "    </tr>\n",
       "    <tr>\n",
       "      <th>4</th>\n",
       "      <td>2022-09-05 00:00:00</td>\n",
       "      <td>251,494.07</td>\n",
       "      <td>97</td>\n",
       "    </tr>\n",
       "  </tbody>\n",
       "</table>\n",
       "</div>"
      ],
      "text/plain": [
       "             date_file        sum       len\n",
       "                        total_due total_due\n",
       "0  2022-09-01 00:00:00 180,954.14       103\n",
       "1  2022-09-02 00:00:00 150,945.59        92\n",
       "2  2022-09-03 00:00:00 458,402.06       111\n",
       "3  2022-09-04 00:00:00 263,856.29       121\n",
       "4  2022-09-05 00:00:00 251,494.07        97"
      ]
     },
     "execution_count": 22,
     "metadata": {},
     "output_type": "execute_result"
    }
   ],
   "source": [
    "dev_dia_pivot = pd.pivot_table(dev_dia,index=[\"date_file\"],values=['total_due'],aggfunc = ['sum', len],margins=True)\n",
    "dev_dia_pivot.reset_index(drop=False, inplace=True)\n",
    "dev_dia_pivot.head()"
   ]
  },
  {
   "cell_type": "code",
   "execution_count": 23,
   "metadata": {},
   "outputs": [
    {
     "data": {
      "text/plain": [
       "(31, 3)"
      ]
     },
     "execution_count": 23,
     "metadata": {},
     "output_type": "execute_result"
    }
   ],
   "source": [
    "dev_dia_pivot.shape"
   ]
  },
  {
   "cell_type": "markdown",
   "metadata": {},
   "source": [
    "### DEVOLUCIONES REPROGRAMACION"
   ]
  },
  {
   "cell_type": "code",
   "execution_count": 24,
   "metadata": {},
   "outputs": [],
   "source": [
    "dev_repro = dev_total[(dev_total['tipo'] == 'Reprogramación')]"
   ]
  },
  {
   "cell_type": "code",
   "execution_count": 25,
   "metadata": {},
   "outputs": [
    {
     "data": {
      "text/html": [
       "<div>\n",
       "<style scoped>\n",
       "    .dataframe tbody tr th:only-of-type {\n",
       "        vertical-align: middle;\n",
       "    }\n",
       "\n",
       "    .dataframe tbody tr th {\n",
       "        vertical-align: top;\n",
       "    }\n",
       "\n",
       "    .dataframe thead tr th {\n",
       "        text-align: left;\n",
       "    }\n",
       "</style>\n",
       "<table border=\"1\" class=\"dataframe\">\n",
       "  <thead>\n",
       "    <tr>\n",
       "      <th></th>\n",
       "      <th>date_file</th>\n",
       "      <th>sum</th>\n",
       "      <th>len</th>\n",
       "    </tr>\n",
       "    <tr>\n",
       "      <th></th>\n",
       "      <th></th>\n",
       "      <th>total_due</th>\n",
       "      <th>total_due</th>\n",
       "    </tr>\n",
       "  </thead>\n",
       "  <tbody>\n",
       "    <tr>\n",
       "      <th>0</th>\n",
       "      <td>2022-09-01 00:00:00</td>\n",
       "      <td>91,047.13</td>\n",
       "      <td>37</td>\n",
       "    </tr>\n",
       "    <tr>\n",
       "      <th>1</th>\n",
       "      <td>2022-09-02 00:00:00</td>\n",
       "      <td>122,951.45</td>\n",
       "      <td>33</td>\n",
       "    </tr>\n",
       "    <tr>\n",
       "      <th>2</th>\n",
       "      <td>2022-09-03 00:00:00</td>\n",
       "      <td>31,194.26</td>\n",
       "      <td>13</td>\n",
       "    </tr>\n",
       "    <tr>\n",
       "      <th>3</th>\n",
       "      <td>2022-09-04 00:00:00</td>\n",
       "      <td>35,681.67</td>\n",
       "      <td>13</td>\n",
       "    </tr>\n",
       "    <tr>\n",
       "      <th>4</th>\n",
       "      <td>2022-09-05 00:00:00</td>\n",
       "      <td>48,680.80</td>\n",
       "      <td>23</td>\n",
       "    </tr>\n",
       "  </tbody>\n",
       "</table>\n",
       "</div>"
      ],
      "text/plain": [
       "             date_file        sum       len\n",
       "                        total_due total_due\n",
       "0  2022-09-01 00:00:00  91,047.13        37\n",
       "1  2022-09-02 00:00:00 122,951.45        33\n",
       "2  2022-09-03 00:00:00  31,194.26        13\n",
       "3  2022-09-04 00:00:00  35,681.67        13\n",
       "4  2022-09-05 00:00:00  48,680.80        23"
      ]
     },
     "execution_count": 25,
     "metadata": {},
     "output_type": "execute_result"
    }
   ],
   "source": [
    "dev_repro_pivot = pd.pivot_table(dev_repro,index=[\"date_file\"],values=['total_due'],aggfunc = ['sum', len],margins=True)\n",
    "dev_repro_pivot.reset_index(drop=False, inplace=True)\n",
    "dev_repro_pivot.head()"
   ]
  },
  {
   "cell_type": "code",
   "execution_count": 26,
   "metadata": {},
   "outputs": [
    {
     "data": {
      "text/plain": [
       "(31, 3)"
      ]
     },
     "execution_count": 26,
     "metadata": {},
     "output_type": "execute_result"
    }
   ],
   "source": [
    "dev_repro_pivot.shape"
   ]
  },
  {
   "cell_type": "markdown",
   "metadata": {},
   "source": [
    "# DEVOLUCIONES FAST PAYMENTS"
   ]
  },
  {
   "cell_type": "code",
   "execution_count": 27,
   "metadata": {},
   "outputs": [
    {
     "data": {
      "text/html": [
       "<div>\n",
       "<style scoped>\n",
       "    .dataframe tbody tr th:only-of-type {\n",
       "        vertical-align: middle;\n",
       "    }\n",
       "\n",
       "    .dataframe tbody tr th {\n",
       "        vertical-align: top;\n",
       "    }\n",
       "\n",
       "    .dataframe thead th {\n",
       "        text-align: right;\n",
       "    }\n",
       "</style>\n",
       "<table border=\"1\" class=\"dataframe\">\n",
       "  <thead>\n",
       "    <tr style=\"text-align: right;\">\n",
       "      <th></th>\n",
       "      <th>type</th>\n",
       "      <th>merchant_id</th>\n",
       "      <th>merchant_name</th>\n",
       "      <th>user_email</th>\n",
       "      <th>report_id</th>\n",
       "      <th>report_date_local</th>\n",
       "      <th>total_due</th>\n",
       "      <th>tipo</th>\n",
       "      <th>bank</th>\n",
       "      <th>Time</th>\n",
       "      <th>error_description</th>\n",
       "      <th>file_name</th>\n",
       "      <th>Check</th>\n",
       "      <th>date_file</th>\n",
       "    </tr>\n",
       "  </thead>\n",
       "  <tbody>\n",
       "    <tr>\n",
       "      <th>0</th>\n",
       "      <td>INSTANT</td>\n",
       "      <td>7175596b-a83b-4e72-acd2-d389d58b0114</td>\n",
       "      <td>Barber</td>\n",
       "      <td>danielriveragranados1@gmail.com</td>\n",
       "      <td>C88B5ZC5Y</td>\n",
       "      <td>2022-09-02</td>\n",
       "      <td>431.21</td>\n",
       "      <td>Pago del día</td>\n",
       "      <td>ASP INTEGRA OPC</td>\n",
       "      <td>20:00</td>\n",
       "      <td>/21/CB Return Exceeds the limit of credits all...</td>\n",
       "      <td>Dispersión-FP 2022-09-02.xlsx</td>\n",
       "      <td>SPEI DEVUELTO</td>\n",
       "      <td>2022-09-02</td>\n",
       "    </tr>\n",
       "    <tr>\n",
       "      <th>0</th>\n",
       "      <td>INSTANT</td>\n",
       "      <td>06c8935a-10db-4047-81bc-3195cf7dc185</td>\n",
       "      <td>Open24</td>\n",
       "      <td>E1up@hotmail.com</td>\n",
       "      <td>C9NPCCCJG</td>\n",
       "      <td>2022-09-03</td>\n",
       "      <td>1,116.82</td>\n",
       "      <td>Pago del día</td>\n",
       "      <td>ASP INTEGRA OPC</td>\n",
       "      <td>09:00</td>\n",
       "      <td>DEV.SPEIEXCEDE EL LNMITE DE AB</td>\n",
       "      <td>Dispersión-FP 2022-09-03.xlsx</td>\n",
       "      <td>SPEI DEVUELTO</td>\n",
       "      <td>2022-09-03</td>\n",
       "    </tr>\n",
       "    <tr>\n",
       "      <th>1</th>\n",
       "      <td>INSTANT</td>\n",
       "      <td>3fcd7bfc-a799-4d1c-af0b-4c9a7e670cc0</td>\n",
       "      <td>Corcega Restaurante</td>\n",
       "      <td>pigourmet.catering@gmail.com</td>\n",
       "      <td>C8PV8T954</td>\n",
       "      <td>2022-09-03</td>\n",
       "      <td>38,137.95</td>\n",
       "      <td>Pago del día</td>\n",
       "      <td>ASP INTEGRA OPC</td>\n",
       "      <td>09:00</td>\n",
       "      <td>DEV.SPEIEXCEDE EL LNMITE DE AB</td>\n",
       "      <td>Dispersión-FP 2022-09-03.xlsx</td>\n",
       "      <td>SPEI DEVUELTO</td>\n",
       "      <td>2022-09-03</td>\n",
       "    </tr>\n",
       "    <tr>\n",
       "      <th>2</th>\n",
       "      <td>INSTANT</td>\n",
       "      <td>7175596b-a83b-4e72-acd2-d389d58b0114</td>\n",
       "      <td>Barber</td>\n",
       "      <td>danielriveragranados1@gmail.com</td>\n",
       "      <td>KKZTTBSKN</td>\n",
       "      <td>2022-09-03</td>\n",
       "      <td>287.47</td>\n",
       "      <td>Pago del día</td>\n",
       "      <td>ASP INTEGRA OPC</td>\n",
       "      <td>09:00</td>\n",
       "      <td>DEV.SPEIEXCEDE EL LNMITE DE AB</td>\n",
       "      <td>Dispersión-FP 2022-09-03.xlsx</td>\n",
       "      <td>SPEI DEVUELTO</td>\n",
       "      <td>2022-09-03</td>\n",
       "    </tr>\n",
       "    <tr>\n",
       "      <th>3</th>\n",
       "      <td>INSTANT</td>\n",
       "      <td>835868c9-7ee3-4f4f-9366-79f8a58448e3</td>\n",
       "      <td>Tecate Six Sustaita</td>\n",
       "      <td>regio_1979@hotmail.com</td>\n",
       "      <td>546V7KFVG</td>\n",
       "      <td>2022-09-03</td>\n",
       "      <td>1,338.16</td>\n",
       "      <td>Pago del día</td>\n",
       "      <td>ASP INTEGRA OPC</td>\n",
       "      <td>09:00</td>\n",
       "      <td>DEV.SPEIEXCEDE EL LNMITE DE AB</td>\n",
       "      <td>Dispersión-FP 2022-09-03.xlsx</td>\n",
       "      <td>SPEI DEVUELTO</td>\n",
       "      <td>2022-09-03</td>\n",
       "    </tr>\n",
       "  </tbody>\n",
       "</table>\n",
       "</div>"
      ],
      "text/plain": [
       "      type                           merchant_id        merchant_name  \\\n",
       "0  INSTANT  7175596b-a83b-4e72-acd2-d389d58b0114               Barber   \n",
       "0  INSTANT  06c8935a-10db-4047-81bc-3195cf7dc185               Open24   \n",
       "1  INSTANT  3fcd7bfc-a799-4d1c-af0b-4c9a7e670cc0  Corcega Restaurante   \n",
       "2  INSTANT  7175596b-a83b-4e72-acd2-d389d58b0114               Barber   \n",
       "3  INSTANT  835868c9-7ee3-4f4f-9366-79f8a58448e3  Tecate Six Sustaita   \n",
       "\n",
       "                        user_email  report_id report_date_local  total_due  \\\n",
       "0  danielriveragranados1@gmail.com  C88B5ZC5Y        2022-09-02     431.21   \n",
       "0                 E1up@hotmail.com  C9NPCCCJG        2022-09-03   1,116.82   \n",
       "1     pigourmet.catering@gmail.com  C8PV8T954        2022-09-03  38,137.95   \n",
       "2  danielriveragranados1@gmail.com  KKZTTBSKN        2022-09-03     287.47   \n",
       "3           regio_1979@hotmail.com  546V7KFVG        2022-09-03   1,338.16   \n",
       "\n",
       "           tipo             bank   Time  \\\n",
       "0  Pago del día  ASP INTEGRA OPC  20:00   \n",
       "0  Pago del día  ASP INTEGRA OPC  09:00   \n",
       "1  Pago del día  ASP INTEGRA OPC  09:00   \n",
       "2  Pago del día  ASP INTEGRA OPC  09:00   \n",
       "3  Pago del día  ASP INTEGRA OPC  09:00   \n",
       "\n",
       "                                   error_description  \\\n",
       "0  /21/CB Return Exceeds the limit of credits all...   \n",
       "0                     DEV.SPEIEXCEDE EL LNMITE DE AB   \n",
       "1                     DEV.SPEIEXCEDE EL LNMITE DE AB   \n",
       "2                     DEV.SPEIEXCEDE EL LNMITE DE AB   \n",
       "3                     DEV.SPEIEXCEDE EL LNMITE DE AB   \n",
       "\n",
       "                       file_name          Check  date_file  \n",
       "0  Dispersión-FP 2022-09-02.xlsx  SPEI DEVUELTO 2022-09-02  \n",
       "0  Dispersión-FP 2022-09-03.xlsx  SPEI DEVUELTO 2022-09-03  \n",
       "1  Dispersión-FP 2022-09-03.xlsx  SPEI DEVUELTO 2022-09-03  \n",
       "2  Dispersión-FP 2022-09-03.xlsx  SPEI DEVUELTO 2022-09-03  \n",
       "3  Dispersión-FP 2022-09-03.xlsx  SPEI DEVUELTO 2022-09-03  "
      ]
     },
     "execution_count": 27,
     "metadata": {},
     "output_type": "execute_result"
    }
   ],
   "source": [
    "dev_total_fp = pd.concat([pd.read_excel(f,sheet_name='ERROR',converters={'report_id':str})\n",
    "                      .assign(file_name=os.path.basename(f)) for f in fp_files])\n",
    "dev_total_fp['date_file'] = dev_total_fp[\"file_name\"].str[-15:-5]\n",
    "dev_total_fp['date_file']= pd.to_datetime(dev_total_fp['date_file'])\n",
    "dev_total_fp['report_date_local'] = pd.to_datetime(dev_total_fp['report_date_local'])\n",
    "dev_total_fp.head()"
   ]
  },
  {
   "cell_type": "code",
   "execution_count": 28,
   "metadata": {},
   "outputs": [
    {
     "data": {
      "text/plain": [
       "(2371, 14)"
      ]
     },
     "execution_count": 28,
     "metadata": {},
     "output_type": "execute_result"
    }
   ],
   "source": [
    "dev_total_fp.shape"
   ]
  },
  {
   "cell_type": "code",
   "execution_count": 29,
   "metadata": {},
   "outputs": [
    {
     "data": {
      "text/plain": [
       "array(['Pago del día', 'Reprogramación'], dtype=object)"
      ]
     },
     "execution_count": 29,
     "metadata": {},
     "output_type": "execute_result"
    }
   ],
   "source": [
    "dev_total_fp['tipo'].unique()"
   ]
  },
  {
   "cell_type": "markdown",
   "metadata": {},
   "source": [
    "### DEVOLUCIONES TOTALES"
   ]
  },
  {
   "cell_type": "code",
   "execution_count": 30,
   "metadata": {},
   "outputs": [
    {
     "data": {
      "text/html": [
       "<div>\n",
       "<style scoped>\n",
       "    .dataframe tbody tr th:only-of-type {\n",
       "        vertical-align: middle;\n",
       "    }\n",
       "\n",
       "    .dataframe tbody tr th {\n",
       "        vertical-align: top;\n",
       "    }\n",
       "\n",
       "    .dataframe thead tr th {\n",
       "        text-align: left;\n",
       "    }\n",
       "</style>\n",
       "<table border=\"1\" class=\"dataframe\">\n",
       "  <thead>\n",
       "    <tr>\n",
       "      <th></th>\n",
       "      <th>date_file</th>\n",
       "      <th>sum</th>\n",
       "      <th>len</th>\n",
       "    </tr>\n",
       "    <tr>\n",
       "      <th></th>\n",
       "      <th></th>\n",
       "      <th>total_due</th>\n",
       "      <th>total_due</th>\n",
       "    </tr>\n",
       "  </thead>\n",
       "  <tbody>\n",
       "    <tr>\n",
       "      <th>0</th>\n",
       "      <td>2022-09-02 00:00:00</td>\n",
       "      <td>431.21</td>\n",
       "      <td>1</td>\n",
       "    </tr>\n",
       "    <tr>\n",
       "      <th>1</th>\n",
       "      <td>2022-09-03 00:00:00</td>\n",
       "      <td>58,791.55</td>\n",
       "      <td>13</td>\n",
       "    </tr>\n",
       "    <tr>\n",
       "      <th>2</th>\n",
       "      <td>2022-09-04 00:00:00</td>\n",
       "      <td>66,726.08</td>\n",
       "      <td>35</td>\n",
       "    </tr>\n",
       "    <tr>\n",
       "      <th>3</th>\n",
       "      <td>2022-09-05 00:00:00</td>\n",
       "      <td>57,924.99</td>\n",
       "      <td>14</td>\n",
       "    </tr>\n",
       "    <tr>\n",
       "      <th>4</th>\n",
       "      <td>2022-09-06 00:00:00</td>\n",
       "      <td>11,442.30</td>\n",
       "      <td>8</td>\n",
       "    </tr>\n",
       "  </tbody>\n",
       "</table>\n",
       "</div>"
      ],
      "text/plain": [
       "             date_file       sum       len\n",
       "                       total_due total_due\n",
       "0  2022-09-02 00:00:00    431.21         1\n",
       "1  2022-09-03 00:00:00 58,791.55        13\n",
       "2  2022-09-04 00:00:00 66,726.08        35\n",
       "3  2022-09-05 00:00:00 57,924.99        14\n",
       "4  2022-09-06 00:00:00 11,442.30         8"
      ]
     },
     "execution_count": 30,
     "metadata": {},
     "output_type": "execute_result"
    }
   ],
   "source": [
    "dev_total_fp_pivot = pd.pivot_table(dev_total_fp,index=[\"date_file\"],values=['total_due'],aggfunc = ['sum', len],margins=True)\n",
    "dev_total_fp_pivot.reset_index(drop=False, inplace=True)\n",
    "dev_total_fp_pivot.head()"
   ]
  },
  {
   "cell_type": "code",
   "execution_count": 31,
   "metadata": {},
   "outputs": [
    {
     "data": {
      "text/plain": [
       "(30, 3)"
      ]
     },
     "execution_count": 31,
     "metadata": {},
     "output_type": "execute_result"
    }
   ],
   "source": [
    "dev_total_fp_pivot.shape"
   ]
  },
  {
   "cell_type": "markdown",
   "metadata": {},
   "source": [
    "### DEVOLUCIONES PAGO DEL DIA"
   ]
  },
  {
   "cell_type": "code",
   "execution_count": 32,
   "metadata": {},
   "outputs": [],
   "source": [
    "dev_dia_fp = dev_total_fp[(dev_total_fp['tipo'] == 'Pago del día')]"
   ]
  },
  {
   "cell_type": "code",
   "execution_count": 33,
   "metadata": {},
   "outputs": [
    {
     "data": {
      "text/html": [
       "<div>\n",
       "<style scoped>\n",
       "    .dataframe tbody tr th:only-of-type {\n",
       "        vertical-align: middle;\n",
       "    }\n",
       "\n",
       "    .dataframe tbody tr th {\n",
       "        vertical-align: top;\n",
       "    }\n",
       "\n",
       "    .dataframe thead tr th {\n",
       "        text-align: left;\n",
       "    }\n",
       "</style>\n",
       "<table border=\"1\" class=\"dataframe\">\n",
       "  <thead>\n",
       "    <tr>\n",
       "      <th></th>\n",
       "      <th>date_file</th>\n",
       "      <th>sum</th>\n",
       "      <th>len</th>\n",
       "    </tr>\n",
       "    <tr>\n",
       "      <th></th>\n",
       "      <th></th>\n",
       "      <th>total_due</th>\n",
       "      <th>total_due</th>\n",
       "    </tr>\n",
       "  </thead>\n",
       "  <tbody>\n",
       "    <tr>\n",
       "      <th>0</th>\n",
       "      <td>2022-09-02 00:00:00</td>\n",
       "      <td>431.21</td>\n",
       "      <td>1</td>\n",
       "    </tr>\n",
       "    <tr>\n",
       "      <th>1</th>\n",
       "      <td>2022-09-03 00:00:00</td>\n",
       "      <td>46,533.82</td>\n",
       "      <td>7</td>\n",
       "    </tr>\n",
       "    <tr>\n",
       "      <th>2</th>\n",
       "      <td>2022-09-04 00:00:00</td>\n",
       "      <td>42,088.55</td>\n",
       "      <td>12</td>\n",
       "    </tr>\n",
       "    <tr>\n",
       "      <th>3</th>\n",
       "      <td>2022-09-05 00:00:00</td>\n",
       "      <td>55,649.18</td>\n",
       "      <td>8</td>\n",
       "    </tr>\n",
       "    <tr>\n",
       "      <th>4</th>\n",
       "      <td>2022-09-06 00:00:00</td>\n",
       "      <td>11,442.30</td>\n",
       "      <td>8</td>\n",
       "    </tr>\n",
       "  </tbody>\n",
       "</table>\n",
       "</div>"
      ],
      "text/plain": [
       "             date_file       sum       len\n",
       "                       total_due total_due\n",
       "0  2022-09-02 00:00:00    431.21         1\n",
       "1  2022-09-03 00:00:00 46,533.82         7\n",
       "2  2022-09-04 00:00:00 42,088.55        12\n",
       "3  2022-09-05 00:00:00 55,649.18         8\n",
       "4  2022-09-06 00:00:00 11,442.30         8"
      ]
     },
     "execution_count": 33,
     "metadata": {},
     "output_type": "execute_result"
    }
   ],
   "source": [
    "dev_dia_fp_pivot = pd.pivot_table(dev_dia_fp,index=[\"date_file\"],values=['total_due'],aggfunc = ['sum', len],margins=True)\n",
    "dev_dia_fp_pivot.reset_index(drop=False, inplace=True)\n",
    "dev_dia_fp_pivot.head()"
   ]
  },
  {
   "cell_type": "code",
   "execution_count": 34,
   "metadata": {},
   "outputs": [
    {
     "data": {
      "text/plain": [
       "(30, 3)"
      ]
     },
     "execution_count": 34,
     "metadata": {},
     "output_type": "execute_result"
    }
   ],
   "source": [
    "dev_dia_fp_pivot.shape"
   ]
  },
  {
   "cell_type": "markdown",
   "metadata": {},
   "source": [
    "### DEVOLUCIONES REPROGRAMACION"
   ]
  },
  {
   "cell_type": "code",
   "execution_count": 35,
   "metadata": {},
   "outputs": [],
   "source": [
    "dev_repro_fp = dev_total_fp[(dev_total_fp['tipo'] == 'Reprogramación')]"
   ]
  },
  {
   "cell_type": "code",
   "execution_count": 36,
   "metadata": {},
   "outputs": [
    {
     "data": {
      "text/html": [
       "<div>\n",
       "<style scoped>\n",
       "    .dataframe tbody tr th:only-of-type {\n",
       "        vertical-align: middle;\n",
       "    }\n",
       "\n",
       "    .dataframe tbody tr th {\n",
       "        vertical-align: top;\n",
       "    }\n",
       "\n",
       "    .dataframe thead tr th {\n",
       "        text-align: left;\n",
       "    }\n",
       "</style>\n",
       "<table border=\"1\" class=\"dataframe\">\n",
       "  <thead>\n",
       "    <tr>\n",
       "      <th></th>\n",
       "      <th>date_file</th>\n",
       "      <th>sum</th>\n",
       "      <th>len</th>\n",
       "    </tr>\n",
       "    <tr>\n",
       "      <th></th>\n",
       "      <th></th>\n",
       "      <th>total_due</th>\n",
       "      <th>total_due</th>\n",
       "    </tr>\n",
       "  </thead>\n",
       "  <tbody>\n",
       "    <tr>\n",
       "      <th>0</th>\n",
       "      <td>2022-09-03 00:00:00</td>\n",
       "      <td>12,257.73</td>\n",
       "      <td>6</td>\n",
       "    </tr>\n",
       "    <tr>\n",
       "      <th>1</th>\n",
       "      <td>2022-09-04 00:00:00</td>\n",
       "      <td>24,637.53</td>\n",
       "      <td>23</td>\n",
       "    </tr>\n",
       "    <tr>\n",
       "      <th>2</th>\n",
       "      <td>2022-09-05 00:00:00</td>\n",
       "      <td>2,275.81</td>\n",
       "      <td>6</td>\n",
       "    </tr>\n",
       "    <tr>\n",
       "      <th>3</th>\n",
       "      <td>2022-09-14 00:00:00</td>\n",
       "      <td>19,828.73</td>\n",
       "      <td>85</td>\n",
       "    </tr>\n",
       "    <tr>\n",
       "      <th>4</th>\n",
       "      <td>2022-09-16 00:00:00</td>\n",
       "      <td>5,246.36</td>\n",
       "      <td>6</td>\n",
       "    </tr>\n",
       "  </tbody>\n",
       "</table>\n",
       "</div>"
      ],
      "text/plain": [
       "             date_file       sum       len\n",
       "                       total_due total_due\n",
       "0  2022-09-03 00:00:00 12,257.73         6\n",
       "1  2022-09-04 00:00:00 24,637.53        23\n",
       "2  2022-09-05 00:00:00  2,275.81         6\n",
       "3  2022-09-14 00:00:00 19,828.73        85\n",
       "4  2022-09-16 00:00:00  5,246.36         6"
      ]
     },
     "execution_count": 36,
     "metadata": {},
     "output_type": "execute_result"
    }
   ],
   "source": [
    "dev_repro_fp_pivot = pd.pivot_table(dev_repro_fp,index=[\"date_file\"],values=['total_due'],aggfunc = ['sum', len],margins=True)\n",
    "dev_repro_fp_pivot.reset_index(drop=False, inplace=True)\n",
    "dev_repro_fp_pivot.head()"
   ]
  },
  {
   "cell_type": "code",
   "execution_count": 37,
   "metadata": {},
   "outputs": [
    {
     "data": {
      "text/plain": [
       "(14, 3)"
      ]
     },
     "execution_count": 37,
     "metadata": {},
     "output_type": "execute_result"
    }
   ],
   "source": [
    "dev_repro_fp_pivot.shape"
   ]
  },
  {
   "cell_type": "markdown",
   "metadata": {},
   "source": [
    "# TOTAL PAGOS EN ERROR "
   ]
  },
  {
   "cell_type": "code",
   "execution_count": 38,
   "metadata": {},
   "outputs": [
    {
     "data": {
      "text/html": [
       "<div>\n",
       "<style scoped>\n",
       "    .dataframe tbody tr th:only-of-type {\n",
       "        vertical-align: middle;\n",
       "    }\n",
       "\n",
       "    .dataframe tbody tr th {\n",
       "        vertical-align: top;\n",
       "    }\n",
       "\n",
       "    .dataframe thead th {\n",
       "        text-align: right;\n",
       "    }\n",
       "</style>\n",
       "<table border=\"1\" class=\"dataframe\">\n",
       "  <thead>\n",
       "    <tr style=\"text-align: right;\">\n",
       "      <th></th>\n",
       "      <th>type</th>\n",
       "      <th>merchant_id</th>\n",
       "      <th>merchant_name</th>\n",
       "      <th>user_email</th>\n",
       "      <th>report_id</th>\n",
       "      <th>report_date_local</th>\n",
       "      <th>total_due</th>\n",
       "      <th>tipo</th>\n",
       "      <th>bank</th>\n",
       "      <th>Batch_time</th>\n",
       "      <th>Check</th>\n",
       "      <th>error_description</th>\n",
       "      <th>file_name</th>\n",
       "      <th>date_file</th>\n",
       "      <th>Time</th>\n",
       "    </tr>\n",
       "  </thead>\n",
       "  <tbody>\n",
       "    <tr>\n",
       "      <th>0</th>\n",
       "      <td>DAILY</td>\n",
       "      <td>dcc38821-11da-428e-a5dc-50a1b26240f5</td>\n",
       "      <td>Taller estetica automotriz</td>\n",
       "      <td>kruztygarage@gmail.com</td>\n",
       "      <td>JNHJBGF66</td>\n",
       "      <td>2022-09-01</td>\n",
       "      <td>38,329.60</td>\n",
       "      <td>Pago del día</td>\n",
       "      <td>BBVA BANCOMER</td>\n",
       "      <td>First_batch</td>\n",
       "      <td>SPEI DEVUELTO</td>\n",
       "      <td>DN</td>\n",
       "      <td>Dispersión-20220901.xlsx</td>\n",
       "      <td>2022-09-01</td>\n",
       "      <td>NaN</td>\n",
       "    </tr>\n",
       "    <tr>\n",
       "      <th>1</th>\n",
       "      <td>DAILY</td>\n",
       "      <td>5482b244-5cc8-40b2-afba-7726045b7ebc</td>\n",
       "      <td>Leonardo Rosas</td>\n",
       "      <td>leonardorosas230@gmail.com</td>\n",
       "      <td>67GTP6K2V</td>\n",
       "      <td>2022-09-01</td>\n",
       "      <td>41.20</td>\n",
       "      <td>Pago del día</td>\n",
       "      <td>BBVA BANCOMER</td>\n",
       "      <td>First_batch</td>\n",
       "      <td>SPEI DEVUELTO</td>\n",
       "      <td>DB</td>\n",
       "      <td>Dispersión-20220901.xlsx</td>\n",
       "      <td>2022-09-01</td>\n",
       "      <td>NaN</td>\n",
       "    </tr>\n",
       "    <tr>\n",
       "      <th>2</th>\n",
       "      <td>DAILY</td>\n",
       "      <td>aa9cdd80-0892-4135-8e51-305844b4340f</td>\n",
       "      <td>Frutas y verduras CAMACHO</td>\n",
       "      <td>silvianavarrosanchez250895@gmail.com</td>\n",
       "      <td>LRS5TDNNH</td>\n",
       "      <td>2022-09-01</td>\n",
       "      <td>2.87</td>\n",
       "      <td>Pago del día</td>\n",
       "      <td>COMPARTAMOS</td>\n",
       "      <td>First_batch</td>\n",
       "      <td>SPEI DEVUELTO</td>\n",
       "      <td>DI</td>\n",
       "      <td>Dispersión-20220901.xlsx</td>\n",
       "      <td>2022-09-01</td>\n",
       "      <td>NaN</td>\n",
       "    </tr>\n",
       "    <tr>\n",
       "      <th>3</th>\n",
       "      <td>DAILY</td>\n",
       "      <td>ee8f9dc1-8433-490e-a29e-c7b617e7bc0e</td>\n",
       "      <td>Clip trabajo</td>\n",
       "      <td>gmoo534@gmail.com</td>\n",
       "      <td>R99JGNZGW</td>\n",
       "      <td>2022-09-01</td>\n",
       "      <td>0.01</td>\n",
       "      <td>Pago del día</td>\n",
       "      <td>SANTANDER</td>\n",
       "      <td>First_batch</td>\n",
       "      <td>SPEI DEVUELTO</td>\n",
       "      <td>X2</td>\n",
       "      <td>Dispersión-20220901.xlsx</td>\n",
       "      <td>2022-09-01</td>\n",
       "      <td>NaN</td>\n",
       "    </tr>\n",
       "    <tr>\n",
       "      <th>4</th>\n",
       "      <td>DAILY</td>\n",
       "      <td>fa6de1cb-d0cd-4908-9457-3f66f8d6a764</td>\n",
       "      <td>Cafe La Mision</td>\n",
       "      <td>karina@themissioninc.org</td>\n",
       "      <td>ZZPBB35X5</td>\n",
       "      <td>2022-09-01</td>\n",
       "      <td>195.49</td>\n",
       "      <td>Pago del día</td>\n",
       "      <td>BBVA BANCOMER</td>\n",
       "      <td>First_batch</td>\n",
       "      <td>SPEI DEVUELTO</td>\n",
       "      <td>DB</td>\n",
       "      <td>Dispersión-20220901.xlsx</td>\n",
       "      <td>2022-09-01</td>\n",
       "      <td>NaN</td>\n",
       "    </tr>\n",
       "  </tbody>\n",
       "</table>\n",
       "</div>"
      ],
      "text/plain": [
       "    type                           merchant_id               merchant_name  \\\n",
       "0  DAILY  dcc38821-11da-428e-a5dc-50a1b26240f5  Taller estetica automotriz   \n",
       "1  DAILY  5482b244-5cc8-40b2-afba-7726045b7ebc              Leonardo Rosas   \n",
       "2  DAILY  aa9cdd80-0892-4135-8e51-305844b4340f   Frutas y verduras CAMACHO   \n",
       "3  DAILY  ee8f9dc1-8433-490e-a29e-c7b617e7bc0e                Clip trabajo   \n",
       "4  DAILY  fa6de1cb-d0cd-4908-9457-3f66f8d6a764              Cafe La Mision   \n",
       "\n",
       "                             user_email  report_id report_date_local  \\\n",
       "0                kruztygarage@gmail.com  JNHJBGF66        2022-09-01   \n",
       "1            leonardorosas230@gmail.com  67GTP6K2V        2022-09-01   \n",
       "2  silvianavarrosanchez250895@gmail.com  LRS5TDNNH        2022-09-01   \n",
       "3                     gmoo534@gmail.com  R99JGNZGW        2022-09-01   \n",
       "4              karina@themissioninc.org  ZZPBB35X5        2022-09-01   \n",
       "\n",
       "   total_due          tipo           bank   Batch_time          Check  \\\n",
       "0  38,329.60  Pago del día  BBVA BANCOMER  First_batch  SPEI DEVUELTO   \n",
       "1      41.20  Pago del día  BBVA BANCOMER  First_batch  SPEI DEVUELTO   \n",
       "2       2.87  Pago del día    COMPARTAMOS  First_batch  SPEI DEVUELTO   \n",
       "3       0.01  Pago del día      SANTANDER  First_batch  SPEI DEVUELTO   \n",
       "4     195.49  Pago del día  BBVA BANCOMER  First_batch  SPEI DEVUELTO   \n",
       "\n",
       "  error_description                 file_name  date_file Time  \n",
       "0                DN  Dispersión-20220901.xlsx 2022-09-01  NaN  \n",
       "1                DB  Dispersión-20220901.xlsx 2022-09-01  NaN  \n",
       "2                DI  Dispersión-20220901.xlsx 2022-09-01  NaN  \n",
       "3                X2  Dispersión-20220901.xlsx 2022-09-01  NaN  \n",
       "4                DB  Dispersión-20220901.xlsx 2022-09-01  NaN  "
      ]
     },
     "execution_count": 38,
     "metadata": {},
     "output_type": "execute_result"
    }
   ],
   "source": [
    "all_pagos_error = pd.concat([dev_total,dev_total_fp])\n",
    "all_pagos_error.head()"
   ]
  },
  {
   "cell_type": "code",
   "execution_count": 39,
   "metadata": {},
   "outputs": [
    {
     "data": {
      "text/plain": [
       "(9422, 15)"
      ]
     },
     "execution_count": 39,
     "metadata": {},
     "output_type": "execute_result"
    }
   ],
   "source": [
    "all_pagos_error.shape"
   ]
  },
  {
   "cell_type": "code",
   "execution_count": 40,
   "metadata": {},
   "outputs": [
    {
     "data": {
      "text/html": [
       "<div>\n",
       "<style scoped>\n",
       "    .dataframe tbody tr th:only-of-type {\n",
       "        vertical-align: middle;\n",
       "    }\n",
       "\n",
       "    .dataframe tbody tr th {\n",
       "        vertical-align: top;\n",
       "    }\n",
       "\n",
       "    .dataframe thead th {\n",
       "        text-align: right;\n",
       "    }\n",
       "</style>\n",
       "<table border=\"1\" class=\"dataframe\">\n",
       "  <thead>\n",
       "    <tr style=\"text-align: right;\">\n",
       "      <th></th>\n",
       "      <th>type</th>\n",
       "      <th>merchant_id</th>\n",
       "      <th>merchant_name</th>\n",
       "      <th>user_email</th>\n",
       "      <th>report_id</th>\n",
       "      <th>report_date_local</th>\n",
       "      <th>total_due</th>\n",
       "      <th>tipo</th>\n",
       "      <th>bank</th>\n",
       "      <th>Batch_time</th>\n",
       "      <th>Check</th>\n",
       "      <th>error_description</th>\n",
       "      <th>file_name</th>\n",
       "      <th>date_file</th>\n",
       "      <th>Time</th>\n",
       "    </tr>\n",
       "  </thead>\n",
       "  <tbody>\n",
       "    <tr>\n",
       "      <th>0</th>\n",
       "      <td>DAILY</td>\n",
       "      <td>dcc38821-11da-428e-a5dc-50a1b26240f5</td>\n",
       "      <td>Taller estetica automotriz</td>\n",
       "      <td>kruztygarage@gmail.com</td>\n",
       "      <td>JNHJBGF66</td>\n",
       "      <td>2022-09-01</td>\n",
       "      <td>38,329.60</td>\n",
       "      <td>Pago del día</td>\n",
       "      <td>BBVA BANCOMER</td>\n",
       "      <td>First_batch</td>\n",
       "      <td>SPEI DEVUELTO</td>\n",
       "      <td>DN</td>\n",
       "      <td>Dispersión-20220901.xlsx</td>\n",
       "      <td>2022-09-01</td>\n",
       "      <td>NaN</td>\n",
       "    </tr>\n",
       "    <tr>\n",
       "      <th>9</th>\n",
       "      <td>DAILY</td>\n",
       "      <td>e7ca2fe0-3a5c-4203-8704-cc4ec1e060a3</td>\n",
       "      <td>MODA ACTUAL</td>\n",
       "      <td>conversemodaactual@live.com.mx</td>\n",
       "      <td>CGNGW5Y5P</td>\n",
       "      <td>2022-09-01</td>\n",
       "      <td>895.43</td>\n",
       "      <td>Pago del día</td>\n",
       "      <td>BANAMEX</td>\n",
       "      <td>First_batch</td>\n",
       "      <td>SPEI DEVUELTO</td>\n",
       "      <td>DB</td>\n",
       "      <td>Dispersión-20220901.xlsx</td>\n",
       "      <td>2022-09-01</td>\n",
       "      <td>NaN</td>\n",
       "    </tr>\n",
       "    <tr>\n",
       "      <th>11</th>\n",
       "      <td>DAILY</td>\n",
       "      <td>04d46dcd-745a-43fe-8fcb-ad9b0f71f2d8</td>\n",
       "      <td>Beijing</td>\n",
       "      <td>yongxingyou869@gmail.com</td>\n",
       "      <td>3KTXF9D7C</td>\n",
       "      <td>2022-09-01</td>\n",
       "      <td>1.90</td>\n",
       "      <td>Pago del día</td>\n",
       "      <td>BANAMEX</td>\n",
       "      <td>First_batch</td>\n",
       "      <td>SPEI DEVUELTO</td>\n",
       "      <td>DB</td>\n",
       "      <td>Dispersión-20220901.xlsx</td>\n",
       "      <td>2022-09-01</td>\n",
       "      <td>NaN</td>\n",
       "    </tr>\n",
       "    <tr>\n",
       "      <th>16</th>\n",
       "      <td>DAILY</td>\n",
       "      <td>8140cb35-dfa6-4b66-b020-72fb3a7df17d</td>\n",
       "      <td>Antojitos Naye</td>\n",
       "      <td>nayesaucedo05@gmail.com</td>\n",
       "      <td>MSXJSP5WM</td>\n",
       "      <td>2022-09-01</td>\n",
       "      <td>2,146.46</td>\n",
       "      <td>Pago del día</td>\n",
       "      <td>SANTANDER</td>\n",
       "      <td>First_batch</td>\n",
       "      <td>SPEI DEVUELTO</td>\n",
       "      <td>X2</td>\n",
       "      <td>Dispersión-20220901.xlsx</td>\n",
       "      <td>2022-09-01</td>\n",
       "      <td>NaN</td>\n",
       "    </tr>\n",
       "    <tr>\n",
       "      <th>55</th>\n",
       "      <td>DAILY</td>\n",
       "      <td>4e455be6-99cb-40ee-9283-8fb9f6283536</td>\n",
       "      <td>D peloz</td>\n",
       "      <td>diana.tg60@gmail.com</td>\n",
       "      <td>CST6YVB68</td>\n",
       "      <td>2022-08-30</td>\n",
       "      <td>268.31</td>\n",
       "      <td>Reprogramación</td>\n",
       "      <td>BANAMEX</td>\n",
       "      <td>First_batch</td>\n",
       "      <td>SPEI DEVUELTO</td>\n",
       "      <td>DB</td>\n",
       "      <td>Dispersión-20220901.xlsx</td>\n",
       "      <td>2022-09-01</td>\n",
       "      <td>NaN</td>\n",
       "    </tr>\n",
       "  </tbody>\n",
       "</table>\n",
       "</div>"
      ],
      "text/plain": [
       "     type                           merchant_id               merchant_name  \\\n",
       "0   DAILY  dcc38821-11da-428e-a5dc-50a1b26240f5  Taller estetica automotriz   \n",
       "9   DAILY  e7ca2fe0-3a5c-4203-8704-cc4ec1e060a3                 MODA ACTUAL   \n",
       "11  DAILY  04d46dcd-745a-43fe-8fcb-ad9b0f71f2d8                     Beijing   \n",
       "16  DAILY  8140cb35-dfa6-4b66-b020-72fb3a7df17d              Antojitos Naye   \n",
       "55  DAILY  4e455be6-99cb-40ee-9283-8fb9f6283536                     D peloz   \n",
       "\n",
       "                        user_email  report_id report_date_local  total_due  \\\n",
       "0           kruztygarage@gmail.com  JNHJBGF66        2022-09-01  38,329.60   \n",
       "9   conversemodaactual@live.com.mx  CGNGW5Y5P        2022-09-01     895.43   \n",
       "11        yongxingyou869@gmail.com  3KTXF9D7C        2022-09-01       1.90   \n",
       "16         nayesaucedo05@gmail.com  MSXJSP5WM        2022-09-01   2,146.46   \n",
       "55            diana.tg60@gmail.com  CST6YVB68        2022-08-30     268.31   \n",
       "\n",
       "              tipo           bank   Batch_time          Check  \\\n",
       "0     Pago del día  BBVA BANCOMER  First_batch  SPEI DEVUELTO   \n",
       "9     Pago del día        BANAMEX  First_batch  SPEI DEVUELTO   \n",
       "11    Pago del día        BANAMEX  First_batch  SPEI DEVUELTO   \n",
       "16    Pago del día      SANTANDER  First_batch  SPEI DEVUELTO   \n",
       "55  Reprogramación        BANAMEX  First_batch  SPEI DEVUELTO   \n",
       "\n",
       "   error_description                 file_name  date_file Time  \n",
       "0                 DN  Dispersión-20220901.xlsx 2022-09-01  NaN  \n",
       "9                 DB  Dispersión-20220901.xlsx 2022-09-01  NaN  \n",
       "11                DB  Dispersión-20220901.xlsx 2022-09-01  NaN  \n",
       "16                X2  Dispersión-20220901.xlsx 2022-09-01  NaN  \n",
       "55                DB  Dispersión-20220901.xlsx 2022-09-01  NaN  "
      ]
     },
     "execution_count": 40,
     "metadata": {},
     "output_type": "execute_result"
    }
   ],
   "source": [
    "duplicates_pagos_error = all_pagos_error[all_pagos_error.duplicated(['report_id'] , keep=False)]\n",
    "duplicates_pagos_error.head()"
   ]
  },
  {
   "cell_type": "code",
   "execution_count": 41,
   "metadata": {},
   "outputs": [
    {
     "data": {
      "text/plain": [
       "(1319, 15)"
      ]
     },
     "execution_count": 41,
     "metadata": {},
     "output_type": "execute_result"
    }
   ],
   "source": [
    "duplicates_pagos_error.shape"
   ]
  },
  {
   "cell_type": "markdown",
   "metadata": {},
   "source": [
    "# CRUCE PAGOS EN ERROR CON REPROGRAMACIONES"
   ]
  },
  {
   "cell_type": "code",
   "execution_count": 43,
   "metadata": {},
   "outputs": [
    {
     "data": {
      "text/html": [
       "<div>\n",
       "<style scoped>\n",
       "    .dataframe tbody tr th:only-of-type {\n",
       "        vertical-align: middle;\n",
       "    }\n",
       "\n",
       "    .dataframe tbody tr th {\n",
       "        vertical-align: top;\n",
       "    }\n",
       "\n",
       "    .dataframe thead th {\n",
       "        text-align: right;\n",
       "    }\n",
       "</style>\n",
       "<table border=\"1\" class=\"dataframe\">\n",
       "  <thead>\n",
       "    <tr style=\"text-align: right;\">\n",
       "      <th></th>\n",
       "      <th>type</th>\n",
       "      <th>merchant_id</th>\n",
       "      <th>merchant_name</th>\n",
       "      <th>user_email</th>\n",
       "      <th>report_id</th>\n",
       "      <th>report_date_local</th>\n",
       "      <th>total_due</th>\n",
       "      <th>tipo</th>\n",
       "      <th>bank</th>\n",
       "      <th>Batch_time</th>\n",
       "      <th>...</th>\n",
       "      <th>file_name_x</th>\n",
       "      <th>date_file</th>\n",
       "      <th>Time</th>\n",
       "      <th>disbursement_id</th>\n",
       "      <th>reason</th>\n",
       "      <th>modified_by</th>\n",
       "      <th>created_at</th>\n",
       "      <th>no_intentos</th>\n",
       "      <th>file_name_y</th>\n",
       "      <th>status_pago_error</th>\n",
       "    </tr>\n",
       "  </thead>\n",
       "  <tbody>\n",
       "    <tr>\n",
       "      <th>0</th>\n",
       "      <td>DAILY</td>\n",
       "      <td>dcc38821-11da-428e-a5dc-50a1b26240f5</td>\n",
       "      <td>Taller estetica automotriz</td>\n",
       "      <td>kruztygarage@gmail.com</td>\n",
       "      <td>JNHJBGF66</td>\n",
       "      <td>2022-09-01</td>\n",
       "      <td>38,329.60</td>\n",
       "      <td>Pago del día</td>\n",
       "      <td>BBVA BANCOMER</td>\n",
       "      <td>First_batch</td>\n",
       "      <td>...</td>\n",
       "      <td>Dispersión-20220901.xlsx</td>\n",
       "      <td>2022-09-01</td>\n",
       "      <td>NaN</td>\n",
       "      <td>d286ffdb-fa53-49eb-97bd-57aecc3aa80e</td>\n",
       "      <td>DM</td>\n",
       "      <td>hector.marquez@payclip.com</td>\n",
       "      <td>2022-09-06</td>\n",
       "      <td>2.00</td>\n",
       "      <td>Rescheduled.csv</td>\n",
       "      <td>NEW</td>\n",
       "    </tr>\n",
       "    <tr>\n",
       "      <th>1</th>\n",
       "      <td>DAILY</td>\n",
       "      <td>5482b244-5cc8-40b2-afba-7726045b7ebc</td>\n",
       "      <td>Leonardo Rosas</td>\n",
       "      <td>leonardorosas230@gmail.com</td>\n",
       "      <td>67GTP6K2V</td>\n",
       "      <td>2022-09-01</td>\n",
       "      <td>41.20</td>\n",
       "      <td>Pago del día</td>\n",
       "      <td>BBVA BANCOMER</td>\n",
       "      <td>First_batch</td>\n",
       "      <td>...</td>\n",
       "      <td>Dispersión-20220901.xlsx</td>\n",
       "      <td>2022-09-01</td>\n",
       "      <td>NaN</td>\n",
       "      <td>not_found</td>\n",
       "      <td>not_found</td>\n",
       "      <td>not_found</td>\n",
       "      <td>1990-12-31</td>\n",
       "      <td>0.00</td>\n",
       "      <td>not_found</td>\n",
       "      <td>NEW</td>\n",
       "    </tr>\n",
       "    <tr>\n",
       "      <th>2</th>\n",
       "      <td>DAILY</td>\n",
       "      <td>aa9cdd80-0892-4135-8e51-305844b4340f</td>\n",
       "      <td>Frutas y verduras CAMACHO</td>\n",
       "      <td>silvianavarrosanchez250895@gmail.com</td>\n",
       "      <td>LRS5TDNNH</td>\n",
       "      <td>2022-09-01</td>\n",
       "      <td>2.87</td>\n",
       "      <td>Pago del día</td>\n",
       "      <td>COMPARTAMOS</td>\n",
       "      <td>First_batch</td>\n",
       "      <td>...</td>\n",
       "      <td>Dispersión-20220901.xlsx</td>\n",
       "      <td>2022-09-01</td>\n",
       "      <td>NaN</td>\n",
       "      <td>not_found</td>\n",
       "      <td>not_found</td>\n",
       "      <td>not_found</td>\n",
       "      <td>1990-12-31</td>\n",
       "      <td>0.00</td>\n",
       "      <td>not_found</td>\n",
       "      <td>NEW</td>\n",
       "    </tr>\n",
       "    <tr>\n",
       "      <th>3</th>\n",
       "      <td>DAILY</td>\n",
       "      <td>ee8f9dc1-8433-490e-a29e-c7b617e7bc0e</td>\n",
       "      <td>Clip trabajo</td>\n",
       "      <td>gmoo534@gmail.com</td>\n",
       "      <td>R99JGNZGW</td>\n",
       "      <td>2022-09-01</td>\n",
       "      <td>0.01</td>\n",
       "      <td>Pago del día</td>\n",
       "      <td>SANTANDER</td>\n",
       "      <td>First_batch</td>\n",
       "      <td>...</td>\n",
       "      <td>Dispersión-20220901.xlsx</td>\n",
       "      <td>2022-09-01</td>\n",
       "      <td>NaN</td>\n",
       "      <td>not_found</td>\n",
       "      <td>not_found</td>\n",
       "      <td>not_found</td>\n",
       "      <td>1990-12-31</td>\n",
       "      <td>0.00</td>\n",
       "      <td>not_found</td>\n",
       "      <td>NEW</td>\n",
       "    </tr>\n",
       "    <tr>\n",
       "      <th>4</th>\n",
       "      <td>DAILY</td>\n",
       "      <td>fa6de1cb-d0cd-4908-9457-3f66f8d6a764</td>\n",
       "      <td>Cafe La Mision</td>\n",
       "      <td>karina@themissioninc.org</td>\n",
       "      <td>ZZPBB35X5</td>\n",
       "      <td>2022-09-01</td>\n",
       "      <td>195.49</td>\n",
       "      <td>Pago del día</td>\n",
       "      <td>BBVA BANCOMER</td>\n",
       "      <td>First_batch</td>\n",
       "      <td>...</td>\n",
       "      <td>Dispersión-20220901.xlsx</td>\n",
       "      <td>2022-09-01</td>\n",
       "      <td>NaN</td>\n",
       "      <td>not_found</td>\n",
       "      <td>not_found</td>\n",
       "      <td>not_found</td>\n",
       "      <td>1990-12-31</td>\n",
       "      <td>0.00</td>\n",
       "      <td>not_found</td>\n",
       "      <td>NEW</td>\n",
       "    </tr>\n",
       "  </tbody>\n",
       "</table>\n",
       "<p>5 rows × 22 columns</p>\n",
       "</div>"
      ],
      "text/plain": [
       "    type                           merchant_id               merchant_name  \\\n",
       "0  DAILY  dcc38821-11da-428e-a5dc-50a1b26240f5  Taller estetica automotriz   \n",
       "1  DAILY  5482b244-5cc8-40b2-afba-7726045b7ebc              Leonardo Rosas   \n",
       "2  DAILY  aa9cdd80-0892-4135-8e51-305844b4340f   Frutas y verduras CAMACHO   \n",
       "3  DAILY  ee8f9dc1-8433-490e-a29e-c7b617e7bc0e                Clip trabajo   \n",
       "4  DAILY  fa6de1cb-d0cd-4908-9457-3f66f8d6a764              Cafe La Mision   \n",
       "\n",
       "                             user_email  report_id report_date_local  \\\n",
       "0                kruztygarage@gmail.com  JNHJBGF66        2022-09-01   \n",
       "1            leonardorosas230@gmail.com  67GTP6K2V        2022-09-01   \n",
       "2  silvianavarrosanchez250895@gmail.com  LRS5TDNNH        2022-09-01   \n",
       "3                     gmoo534@gmail.com  R99JGNZGW        2022-09-01   \n",
       "4              karina@themissioninc.org  ZZPBB35X5        2022-09-01   \n",
       "\n",
       "   total_due          tipo           bank   Batch_time  ...  \\\n",
       "0  38,329.60  Pago del día  BBVA BANCOMER  First_batch  ...   \n",
       "1      41.20  Pago del día  BBVA BANCOMER  First_batch  ...   \n",
       "2       2.87  Pago del día    COMPARTAMOS  First_batch  ...   \n",
       "3       0.01  Pago del día      SANTANDER  First_batch  ...   \n",
       "4     195.49  Pago del día  BBVA BANCOMER  First_batch  ...   \n",
       "\n",
       "                file_name_x  date_file Time  \\\n",
       "0  Dispersión-20220901.xlsx 2022-09-01  NaN   \n",
       "1  Dispersión-20220901.xlsx 2022-09-01  NaN   \n",
       "2  Dispersión-20220901.xlsx 2022-09-01  NaN   \n",
       "3  Dispersión-20220901.xlsx 2022-09-01  NaN   \n",
       "4  Dispersión-20220901.xlsx 2022-09-01  NaN   \n",
       "\n",
       "                        disbursement_id     reason  \\\n",
       "0  d286ffdb-fa53-49eb-97bd-57aecc3aa80e         DM   \n",
       "1                             not_found  not_found   \n",
       "2                             not_found  not_found   \n",
       "3                             not_found  not_found   \n",
       "4                             not_found  not_found   \n",
       "\n",
       "                  modified_by created_at no_intentos      file_name_y  \\\n",
       "0  hector.marquez@payclip.com 2022-09-06        2.00  Rescheduled.csv   \n",
       "1                   not_found 1990-12-31        0.00        not_found   \n",
       "2                   not_found 1990-12-31        0.00        not_found   \n",
       "3                   not_found 1990-12-31        0.00        not_found   \n",
       "4                   not_found 1990-12-31        0.00        not_found   \n",
       "\n",
       "   status_pago_error  \n",
       "0                NEW  \n",
       "1                NEW  \n",
       "2                NEW  \n",
       "3                NEW  \n",
       "4                NEW  \n",
       "\n",
       "[5 rows x 22 columns]"
      ]
     },
     "execution_count": 43,
     "metadata": {},
     "output_type": "execute_result"
    }
   ],
   "source": [
    "cruce_1 = all_pagos_error.merge(rescheduled_final[['report_id','disbursement_id','reason','modified_by','created_at',\n",
    "                                             'no_intentos','file_name']],\n",
    "                                on='report_id',how='left')\n",
    "cruce_1['disbursement_id'].fillna('not_found',inplace=True)\n",
    "cruce_1['reason'].fillna('not_found',inplace=True)\n",
    "cruce_1['modified_by'].fillna('not_found',inplace=True)\n",
    "cruce_1['created_at'].fillna('1990-12-31',inplace=True)\n",
    "cruce_1['no_intentos'].fillna(0,inplace=True)\n",
    "cruce_1['file_name_y'].fillna('not_found',inplace=True)\n",
    "cruce_1['created_at'] = pd.to_datetime(cruce_1['created_at'])\n",
    "cruce_1.loc[(cruce_1['tipo'].str.contains('Pago del día')), 'status_pago_error'] = 'NEW'\n",
    "cruce_1.loc[(~cruce_1['tipo'].str.contains('Pago del día')), 'status_pago_error'] = 'ERROR'\n",
    "cruce_1.head()"
   ]
  },
  {
   "cell_type": "code",
   "execution_count": 44,
   "metadata": {},
   "outputs": [
    {
     "data": {
      "text/plain": [
       "(9422, 22)"
      ]
     },
     "execution_count": 44,
     "metadata": {},
     "output_type": "execute_result"
    }
   ],
   "source": [
    "cruce_1.shape"
   ]
  },
  {
   "cell_type": "code",
   "execution_count": 45,
   "metadata": {},
   "outputs": [
    {
     "data": {
      "text/plain": [
       "type                         object\n",
       "merchant_id                  object\n",
       "merchant_name                object\n",
       "user_email                   object\n",
       "report_id                    object\n",
       "report_date_local    datetime64[ns]\n",
       "total_due                   float64\n",
       "tipo                         object\n",
       "bank                         object\n",
       "Batch_time                   object\n",
       "Check                        object\n",
       "error_description            object\n",
       "file_name_x                  object\n",
       "date_file            datetime64[ns]\n",
       "Time                         object\n",
       "disbursement_id              object\n",
       "reason                       object\n",
       "modified_by                  object\n",
       "created_at           datetime64[ns]\n",
       "no_intentos                 float64\n",
       "file_name_y                  object\n",
       "status_pago_error            object\n",
       "dtype: object"
      ]
     },
     "execution_count": 45,
     "metadata": {},
     "output_type": "execute_result"
    }
   ],
   "source": [
    "cruce_1.dtypes"
   ]
  },
  {
   "cell_type": "code",
   "execution_count": 46,
   "metadata": {},
   "outputs": [
    {
     "data": {
      "text/html": [
       "<div>\n",
       "<style scoped>\n",
       "    .dataframe tbody tr th:only-of-type {\n",
       "        vertical-align: middle;\n",
       "    }\n",
       "\n",
       "    .dataframe tbody tr th {\n",
       "        vertical-align: top;\n",
       "    }\n",
       "\n",
       "    .dataframe thead tr th {\n",
       "        text-align: left;\n",
       "    }\n",
       "</style>\n",
       "<table border=\"1\" class=\"dataframe\">\n",
       "  <thead>\n",
       "    <tr>\n",
       "      <th></th>\n",
       "      <th>date_file</th>\n",
       "      <th colspan=\"5\" halign=\"left\">total_due</th>\n",
       "    </tr>\n",
       "    <tr>\n",
       "      <th>status_pago_error</th>\n",
       "      <th></th>\n",
       "      <th colspan=\"2\" halign=\"left\">ERROR</th>\n",
       "      <th colspan=\"2\" halign=\"left\">NEW</th>\n",
       "      <th>All</th>\n",
       "    </tr>\n",
       "    <tr>\n",
       "      <th>type</th>\n",
       "      <th></th>\n",
       "      <th>DAILY</th>\n",
       "      <th>INSTANT</th>\n",
       "      <th>DAILY</th>\n",
       "      <th>INSTANT</th>\n",
       "      <th></th>\n",
       "    </tr>\n",
       "    <tr>\n",
       "      <th>tipo</th>\n",
       "      <th></th>\n",
       "      <th>Reprogramación</th>\n",
       "      <th>Reprogramación</th>\n",
       "      <th>Pago del día</th>\n",
       "      <th>Pago del día</th>\n",
       "      <th></th>\n",
       "    </tr>\n",
       "  </thead>\n",
       "  <tbody>\n",
       "    <tr>\n",
       "      <th>0</th>\n",
       "      <td>2022-09-01 00:00:00</td>\n",
       "      <td>91,047.13</td>\n",
       "      <td>0.00</td>\n",
       "      <td>180,954.14</td>\n",
       "      <td>0.00</td>\n",
       "      <td>272,001.27</td>\n",
       "    </tr>\n",
       "    <tr>\n",
       "      <th>1</th>\n",
       "      <td>2022-09-02 00:00:00</td>\n",
       "      <td>122,951.45</td>\n",
       "      <td>0.00</td>\n",
       "      <td>150,945.59</td>\n",
       "      <td>431.21</td>\n",
       "      <td>274,328.25</td>\n",
       "    </tr>\n",
       "    <tr>\n",
       "      <th>2</th>\n",
       "      <td>2022-09-03 00:00:00</td>\n",
       "      <td>31,194.26</td>\n",
       "      <td>12,257.73</td>\n",
       "      <td>458,402.06</td>\n",
       "      <td>46,533.82</td>\n",
       "      <td>548,387.87</td>\n",
       "    </tr>\n",
       "    <tr>\n",
       "      <th>3</th>\n",
       "      <td>2022-09-04 00:00:00</td>\n",
       "      <td>35,681.67</td>\n",
       "      <td>24,637.53</td>\n",
       "      <td>263,856.29</td>\n",
       "      <td>42,088.55</td>\n",
       "      <td>366,264.04</td>\n",
       "    </tr>\n",
       "    <tr>\n",
       "      <th>4</th>\n",
       "      <td>2022-09-05 00:00:00</td>\n",
       "      <td>48,680.80</td>\n",
       "      <td>2,275.81</td>\n",
       "      <td>251,494.07</td>\n",
       "      <td>55,649.18</td>\n",
       "      <td>358,099.86</td>\n",
       "    </tr>\n",
       "  </tbody>\n",
       "</table>\n",
       "</div>"
      ],
      "text/plain": [
       "                             date_file      total_due                 \\\n",
       "status_pago_error                               ERROR                  \n",
       "type                                            DAILY        INSTANT   \n",
       "tipo                                   Reprogramación Reprogramación   \n",
       "0                  2022-09-01 00:00:00      91,047.13           0.00   \n",
       "1                  2022-09-02 00:00:00     122,951.45           0.00   \n",
       "2                  2022-09-03 00:00:00      31,194.26      12,257.73   \n",
       "3                  2022-09-04 00:00:00      35,681.67      24,637.53   \n",
       "4                  2022-09-05 00:00:00      48,680.80       2,275.81   \n",
       "\n",
       "                                                        \n",
       "status_pago_error          NEW                     All  \n",
       "type                     DAILY      INSTANT             \n",
       "tipo              Pago del día Pago del día             \n",
       "0                   180,954.14         0.00 272,001.27  \n",
       "1                   150,945.59       431.21 274,328.25  \n",
       "2                   458,402.06    46,533.82 548,387.87  \n",
       "3                   263,856.29    42,088.55 366,264.04  \n",
       "4                   251,494.07    55,649.18 358,099.86  "
      ]
     },
     "execution_count": 46,
     "metadata": {},
     "output_type": "execute_result"
    }
   ],
   "source": [
    "group_pagos_error = pd.pivot_table(cruce_1,index=['date_file'],\n",
    "                                   columns=['status_pago_error','type','tipo'],values=['total_due'],\n",
    "                                   aggfunc=np.sum,\n",
    "                                   margins=True).reset_index()\n",
    "group_pagos_error.fillna(0,inplace=True)\n",
    "group_pagos_error.head()"
   ]
  },
  {
   "cell_type": "code",
   "execution_count": 47,
   "metadata": {},
   "outputs": [
    {
     "data": {
      "text/plain": [
       "(31, 6)"
      ]
     },
     "execution_count": 47,
     "metadata": {},
     "output_type": "execute_result"
    }
   ],
   "source": [
    "group_pagos_error.shape"
   ]
  },
  {
   "cell_type": "markdown",
   "metadata": {},
   "source": [
    "## EXCEL DEVOLUCIONES"
   ]
  },
  {
   "cell_type": "code",
   "execution_count": 48,
   "metadata": {},
   "outputs": [],
   "source": [
    "writer = pd.ExcelWriter('PRUEBA ERROR SEPTIEMBRE 2022.xlsx',\n",
    "                        engine='xlsxwriter',\n",
    "                        engine_kwargs={'options': {'encoding':'utf-8'}})\n",
    "group_pagos_error.to_excel(writer, sheet_name='GROUP PAGOS ERROR')\n",
    "cruce_1.to_excel(writer, sheet_name='ALL PAGOS ERROR')\n",
    "dev_total.to_excel(writer, sheet_name='DETALLE TRAD')\n",
    "dev_total_pivot.to_excel(writer, sheet_name='TOTAL ERROR TRAD')\n",
    "dev_dia_pivot.to_excel(writer, sheet_name='PAGO DEL DIA TRAD')\n",
    "dev_repro_pivot.to_excel(writer, sheet_name='REPROGRAMACION TRAD')\n",
    "dev_total_fp.to_excel(writer, sheet_name='DETALLE FP')\n",
    "dev_total_fp_pivot.to_excel(writer, sheet_name='TOTAL ERROR FP')\n",
    "dev_dia_fp_pivot.to_excel(writer, sheet_name='PAGO DEL DIA FP')\n",
    "dev_repro_fp_pivot.to_excel(writer, sheet_name='REPROGRAMACION FP')\n",
    "writer.close()"
   ]
  },
  {
   "cell_type": "code",
   "execution_count": null,
   "metadata": {},
   "outputs": [],
   "source": []
  }
 ],
 "metadata": {
  "kernelspec": {
   "display_name": "Python 3 (ipykernel)",
   "language": "python",
   "name": "python3"
  },
  "language_info": {
   "codemirror_mode": {
    "name": "ipython",
    "version": 3
   },
   "file_extension": ".py",
   "mimetype": "text/x-python",
   "name": "python",
   "nbconvert_exporter": "python",
   "pygments_lexer": "ipython3",
   "version": "3.9.13"
  }
 },
 "nbformat": 4,
 "nbformat_minor": 2
}
