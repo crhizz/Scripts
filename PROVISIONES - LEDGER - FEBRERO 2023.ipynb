{
 "cells": [
  {
   "cell_type": "code",
   "execution_count": 1,
   "id": "21c1c747",
   "metadata": {},
   "outputs": [],
   "source": [
    "import pandas as pd\n",
    "import numpy as np\n",
    "import glob\n",
    "import os\n",
    "from openpyxl import load_workbook\n",
    "pd.options.display.float_format = '{:,.2f}'.format"
   ]
  },
  {
   "cell_type": "markdown",
   "id": "9df44613",
   "metadata": {},
   "source": [
    "# RUTAS"
   ]
  },
  {
   "cell_type": "markdown",
   "id": "cef36c0e",
   "metadata": {},
   "source": [
    "### SETTLEMENT MASTER LOG"
   ]
  },
  {
   "cell_type": "code",
   "execution_count": 2,
   "id": "38321533",
   "metadata": {},
   "outputs": [
    {
     "data": {
      "text/plain": [
       "['G:\\\\My Drive\\\\RESPALDO-PC\\\\DYNAMO\\\\2023\\\\02. FEBRERO\\\\PROVISION - LEDGER\\\\FEES TAXES\\\\SETTLEMENT_MASTER_LOG_MSI_DATE FEBRERO 2023 - FEES TAXES.tsv']"
      ]
     },
     "execution_count": 2,
     "metadata": {},
     "output_type": "execute_result"
    }
   ],
   "source": [
    "sml_files = glob.glob(r'G:\\My Drive\\RESPALDO-PC\\DYNAMO\\2023\\02. FEBRERO\\PROVISION - LEDGER\\FEES TAXES\\S*.tsv', recursive=False)\n",
    "sml_files"
   ]
  },
  {
   "cell_type": "code",
   "execution_count": 3,
   "id": "7ac8262d",
   "metadata": {},
   "outputs": [],
   "source": [
    "use_cols_sml = ['MVNT_ID','PSP_AMOUNT','GROSS_AMOUNT','FEES','TAXES','NET_AMOUNT','MDR','MSI','NUMBER_MSI','RECEIPT_NO',\n",
    "                'STATUS_CODE']"
   ]
  },
  {
   "cell_type": "markdown",
   "id": "baf7556d",
   "metadata": {},
   "source": [
    "### AP JOURNAL"
   ]
  },
  {
   "cell_type": "code",
   "execution_count": 4,
   "id": "55a8252c",
   "metadata": {},
   "outputs": [
    {
     "data": {
      "text/plain": [
       "['G:\\\\My Drive\\\\RESPALDO-PC\\\\DYNAMO\\\\2023\\\\02. FEBRERO\\\\PROVISION - LEDGER\\\\FEES TAXES\\\\PROVISIONES - LEDGER FEBRERO 2023 - FEES TAXES.tsv']"
      ]
     },
     "execution_count": 4,
     "metadata": {},
     "output_type": "execute_result"
    }
   ],
   "source": [
    "ap_provision_files = glob.glob(r'G:\\My Drive\\RESPALDO-PC\\DYNAMO\\2023\\02. FEBRERO\\PROVISION - LEDGER\\FEES TAXES\\P*.tsv', recursive=False)\n",
    "ap_provision_files"
   ]
  },
  {
   "cell_type": "code",
   "execution_count": 5,
   "id": "2d3e37fd",
   "metadata": {},
   "outputs": [],
   "source": [
    "use_cols_approv = ['MERCHANT_ID','MVNT_ID','TYPE_REQUEST','MOVEMENT_TYPE','SOURCE_TYPE','CREATED_AT','EFF_DT','REPORT_DATE_LOCAL',\n",
    "                  'PAYMENT_DATE_LOCAL','STATUS','AMOUNT']"
   ]
  },
  {
   "cell_type": "markdown",
   "id": "bf9da3cf",
   "metadata": {},
   "source": [
    "# DATA SETTLEMENT MASTER LOG"
   ]
  },
  {
   "cell_type": "code",
   "execution_count": 6,
   "id": "27c65ab3",
   "metadata": {},
   "outputs": [
    {
     "data": {
      "text/html": [
       "<div>\n",
       "<style scoped>\n",
       "    .dataframe tbody tr th:only-of-type {\n",
       "        vertical-align: middle;\n",
       "    }\n",
       "\n",
       "    .dataframe tbody tr th {\n",
       "        vertical-align: top;\n",
       "    }\n",
       "\n",
       "    .dataframe thead th {\n",
       "        text-align: right;\n",
       "    }\n",
       "</style>\n",
       "<table border=\"1\" class=\"dataframe\">\n",
       "  <thead>\n",
       "    <tr style=\"text-align: right;\">\n",
       "      <th></th>\n",
       "      <th>mvnt_id</th>\n",
       "      <th>psp_amount</th>\n",
       "      <th>gross_amount</th>\n",
       "      <th>fees</th>\n",
       "      <th>taxes</th>\n",
       "      <th>net_amount</th>\n",
       "      <th>mdr</th>\n",
       "      <th>msi</th>\n",
       "      <th>number_msi</th>\n",
       "      <th>status_code</th>\n",
       "      <th>receipt_no</th>\n",
       "      <th>file_name</th>\n",
       "    </tr>\n",
       "  </thead>\n",
       "  <tbody>\n",
       "    <tr>\n",
       "      <th>0</th>\n",
       "      <td>5778945a-8fff-4c3b-b393-4487c888997d</td>\n",
       "      <td>170.00</td>\n",
       "      <td>170.00</td>\n",
       "      <td>6.12</td>\n",
       "      <td>0.98</td>\n",
       "      <td>162.90</td>\n",
       "      <td>0.04</td>\n",
       "      <td>0.00</td>\n",
       "      <td>0.00</td>\n",
       "      <td>1</td>\n",
       "      <td>xxAstCw</td>\n",
       "      <td>SETTLEMENT_MASTER_LOG_MSI_DATE FEBRERO 2023 - ...</td>\n",
       "    </tr>\n",
       "    <tr>\n",
       "      <th>1</th>\n",
       "      <td>75e79d6d-d593-4f28-b384-975d2adc2c3f</td>\n",
       "      <td>85.00</td>\n",
       "      <td>85.00</td>\n",
       "      <td>3.06</td>\n",
       "      <td>0.49</td>\n",
       "      <td>81.45</td>\n",
       "      <td>0.04</td>\n",
       "      <td>0.00</td>\n",
       "      <td>0.00</td>\n",
       "      <td>1</td>\n",
       "      <td>CEvtyR2</td>\n",
       "      <td>SETTLEMENT_MASTER_LOG_MSI_DATE FEBRERO 2023 - ...</td>\n",
       "    </tr>\n",
       "    <tr>\n",
       "      <th>2</th>\n",
       "      <td>1d71f594-a390-44be-af6b-1ef8e363b7de</td>\n",
       "      <td>65.50</td>\n",
       "      <td>65.50</td>\n",
       "      <td>2.36</td>\n",
       "      <td>0.38</td>\n",
       "      <td>62.76</td>\n",
       "      <td>0.04</td>\n",
       "      <td>0.00</td>\n",
       "      <td>0.00</td>\n",
       "      <td>1</td>\n",
       "      <td>6xBsBe4</td>\n",
       "      <td>SETTLEMENT_MASTER_LOG_MSI_DATE FEBRERO 2023 - ...</td>\n",
       "    </tr>\n",
       "    <tr>\n",
       "      <th>3</th>\n",
       "      <td>566ae405-a060-4643-ba89-cfc860c6c9fd</td>\n",
       "      <td>324.00</td>\n",
       "      <td>324.00</td>\n",
       "      <td>11.66</td>\n",
       "      <td>1.87</td>\n",
       "      <td>310.47</td>\n",
       "      <td>0.04</td>\n",
       "      <td>0.00</td>\n",
       "      <td>0.00</td>\n",
       "      <td>1</td>\n",
       "      <td>vrogCW3</td>\n",
       "      <td>SETTLEMENT_MASTER_LOG_MSI_DATE FEBRERO 2023 - ...</td>\n",
       "    </tr>\n",
       "    <tr>\n",
       "      <th>4</th>\n",
       "      <td>f9f6ae1a-645b-4c39-8acf-ee5ddaf69acd</td>\n",
       "      <td>194.00</td>\n",
       "      <td>194.00</td>\n",
       "      <td>6.98</td>\n",
       "      <td>1.12</td>\n",
       "      <td>185.90</td>\n",
       "      <td>0.04</td>\n",
       "      <td>0.00</td>\n",
       "      <td>0.00</td>\n",
       "      <td>1</td>\n",
       "      <td>yU9iBuy</td>\n",
       "      <td>SETTLEMENT_MASTER_LOG_MSI_DATE FEBRERO 2023 - ...</td>\n",
       "    </tr>\n",
       "  </tbody>\n",
       "</table>\n",
       "</div>"
      ],
      "text/plain": [
       "                                mvnt_id  psp_amount  gross_amount  fees  \\\n",
       "0  5778945a-8fff-4c3b-b393-4487c888997d      170.00        170.00  6.12   \n",
       "1  75e79d6d-d593-4f28-b384-975d2adc2c3f       85.00         85.00  3.06   \n",
       "2  1d71f594-a390-44be-af6b-1ef8e363b7de       65.50         65.50  2.36   \n",
       "3  566ae405-a060-4643-ba89-cfc860c6c9fd      324.00        324.00 11.66   \n",
       "4  f9f6ae1a-645b-4c39-8acf-ee5ddaf69acd      194.00        194.00  6.98   \n",
       "\n",
       "   taxes  net_amount  mdr  msi  number_msi  status_code receipt_no  \\\n",
       "0   0.98      162.90 0.04 0.00        0.00            1    xxAstCw   \n",
       "1   0.49       81.45 0.04 0.00        0.00            1    CEvtyR2   \n",
       "2   0.38       62.76 0.04 0.00        0.00            1    6xBsBe4   \n",
       "3   1.87      310.47 0.04 0.00        0.00            1    vrogCW3   \n",
       "4   1.12      185.90 0.04 0.00        0.00            1    yU9iBuy   \n",
       "\n",
       "                                           file_name  \n",
       "0  SETTLEMENT_MASTER_LOG_MSI_DATE FEBRERO 2023 - ...  \n",
       "1  SETTLEMENT_MASTER_LOG_MSI_DATE FEBRERO 2023 - ...  \n",
       "2  SETTLEMENT_MASTER_LOG_MSI_DATE FEBRERO 2023 - ...  \n",
       "3  SETTLEMENT_MASTER_LOG_MSI_DATE FEBRERO 2023 - ...  \n",
       "4  SETTLEMENT_MASTER_LOG_MSI_DATE FEBRERO 2023 - ...  "
      ]
     },
     "execution_count": 6,
     "metadata": {},
     "output_type": "execute_result"
    }
   ],
   "source": [
    "sml = pd.concat([pd.read_csv(f,sep='\\t',usecols=use_cols_sml).assign(file_name=os.path.basename(f)) for f in sml_files])\n",
    "sml.columns = sml.columns.str.strip().str.lower()\n",
    "sml.replace('\"\"','', regex=True, inplace=True)\n",
    "# sml['created_at'] = pd.to_datetime(sml['created_at']).dt.tz_localize(None)\n",
    "# sml['created_at_date'] =  pd.to_datetime(sml['created_at']).dt.date\n",
    "# sml['created_at_date'] =  pd.to_datetime(sml['created_at_date'])\n",
    "# sml['eff_dt'] = pd.to_datetime(sml['eff_dt']).dt.tz_localize(None)\n",
    "# sml['eff_dt_date'] =  pd.to_datetime(sml['eff_dt']).dt.date\n",
    "# sml['eff_dt_date'] =  pd.to_datetime(sml['eff_dt_date'])\n",
    "# sml.rename(columns={'ref_id':'transaction_id'},inplace=True)\n",
    "#sml['PK'] = sml['PK'].replace('M#','',inplace=True)\n",
    "sml.head()"
   ]
  },
  {
   "cell_type": "code",
   "execution_count": 7,
   "id": "bb5c429d",
   "metadata": {},
   "outputs": [
    {
     "data": {
      "text/plain": [
       "(9513295, 12)"
      ]
     },
     "execution_count": 7,
     "metadata": {},
     "output_type": "execute_result"
    }
   ],
   "source": [
    "sml.shape"
   ]
  },
  {
   "cell_type": "code",
   "execution_count": 8,
   "id": "aae153e9",
   "metadata": {},
   "outputs": [
    {
     "data": {
      "text/plain": [
       "mvnt_id          object\n",
       "psp_amount      float64\n",
       "gross_amount    float64\n",
       "fees            float64\n",
       "taxes           float64\n",
       "net_amount      float64\n",
       "mdr             float64\n",
       "msi             float64\n",
       "number_msi      float64\n",
       "status_code       int64\n",
       "receipt_no       object\n",
       "file_name        object\n",
       "dtype: object"
      ]
     },
     "execution_count": 8,
     "metadata": {},
     "output_type": "execute_result"
    }
   ],
   "source": [
    "sml.dtypes"
   ]
  },
  {
   "cell_type": "code",
   "execution_count": 9,
   "id": "0aee293f",
   "metadata": {},
   "outputs": [
    {
     "data": {
      "text/html": [
       "<div>\n",
       "<style scoped>\n",
       "    .dataframe tbody tr th:only-of-type {\n",
       "        vertical-align: middle;\n",
       "    }\n",
       "\n",
       "    .dataframe tbody tr th {\n",
       "        vertical-align: top;\n",
       "    }\n",
       "\n",
       "    .dataframe thead th {\n",
       "        text-align: right;\n",
       "    }\n",
       "</style>\n",
       "<table border=\"1\" class=\"dataframe\">\n",
       "  <thead>\n",
       "    <tr style=\"text-align: right;\">\n",
       "      <th></th>\n",
       "      <th>mvnt_id</th>\n",
       "      <th>psp_amount</th>\n",
       "      <th>gross_amount</th>\n",
       "      <th>fees</th>\n",
       "      <th>taxes</th>\n",
       "      <th>net_amount</th>\n",
       "      <th>mdr</th>\n",
       "      <th>msi</th>\n",
       "      <th>number_msi</th>\n",
       "      <th>status_code</th>\n",
       "      <th>receipt_no</th>\n",
       "      <th>file_name</th>\n",
       "    </tr>\n",
       "  </thead>\n",
       "  <tbody>\n",
       "    <tr>\n",
       "      <th>0</th>\n",
       "      <td>5778945a-8fff-4c3b-b393-4487c888997d</td>\n",
       "      <td>170.00</td>\n",
       "      <td>170.00</td>\n",
       "      <td>6.12</td>\n",
       "      <td>0.98</td>\n",
       "      <td>162.90</td>\n",
       "      <td>0.04</td>\n",
       "      <td>0.00</td>\n",
       "      <td>0.00</td>\n",
       "      <td>1</td>\n",
       "      <td>xxAstCw</td>\n",
       "      <td>SETTLEMENT_MASTER_LOG_MSI_DATE FEBRERO 2023 - ...</td>\n",
       "    </tr>\n",
       "    <tr>\n",
       "      <th>1</th>\n",
       "      <td>75e79d6d-d593-4f28-b384-975d2adc2c3f</td>\n",
       "      <td>85.00</td>\n",
       "      <td>85.00</td>\n",
       "      <td>3.06</td>\n",
       "      <td>0.49</td>\n",
       "      <td>81.45</td>\n",
       "      <td>0.04</td>\n",
       "      <td>0.00</td>\n",
       "      <td>0.00</td>\n",
       "      <td>1</td>\n",
       "      <td>CEvtyR2</td>\n",
       "      <td>SETTLEMENT_MASTER_LOG_MSI_DATE FEBRERO 2023 - ...</td>\n",
       "    </tr>\n",
       "    <tr>\n",
       "      <th>2</th>\n",
       "      <td>1d71f594-a390-44be-af6b-1ef8e363b7de</td>\n",
       "      <td>65.50</td>\n",
       "      <td>65.50</td>\n",
       "      <td>2.36</td>\n",
       "      <td>0.38</td>\n",
       "      <td>62.76</td>\n",
       "      <td>0.04</td>\n",
       "      <td>0.00</td>\n",
       "      <td>0.00</td>\n",
       "      <td>1</td>\n",
       "      <td>6xBsBe4</td>\n",
       "      <td>SETTLEMENT_MASTER_LOG_MSI_DATE FEBRERO 2023 - ...</td>\n",
       "    </tr>\n",
       "    <tr>\n",
       "      <th>3</th>\n",
       "      <td>566ae405-a060-4643-ba89-cfc860c6c9fd</td>\n",
       "      <td>324.00</td>\n",
       "      <td>324.00</td>\n",
       "      <td>11.66</td>\n",
       "      <td>1.87</td>\n",
       "      <td>310.47</td>\n",
       "      <td>0.04</td>\n",
       "      <td>0.00</td>\n",
       "      <td>0.00</td>\n",
       "      <td>1</td>\n",
       "      <td>vrogCW3</td>\n",
       "      <td>SETTLEMENT_MASTER_LOG_MSI_DATE FEBRERO 2023 - ...</td>\n",
       "    </tr>\n",
       "    <tr>\n",
       "      <th>4</th>\n",
       "      <td>f9f6ae1a-645b-4c39-8acf-ee5ddaf69acd</td>\n",
       "      <td>194.00</td>\n",
       "      <td>194.00</td>\n",
       "      <td>6.98</td>\n",
       "      <td>1.12</td>\n",
       "      <td>185.90</td>\n",
       "      <td>0.04</td>\n",
       "      <td>0.00</td>\n",
       "      <td>0.00</td>\n",
       "      <td>1</td>\n",
       "      <td>yU9iBuy</td>\n",
       "      <td>SETTLEMENT_MASTER_LOG_MSI_DATE FEBRERO 2023 - ...</td>\n",
       "    </tr>\n",
       "  </tbody>\n",
       "</table>\n",
       "</div>"
      ],
      "text/plain": [
       "                                mvnt_id  psp_amount  gross_amount  fees  \\\n",
       "0  5778945a-8fff-4c3b-b393-4487c888997d      170.00        170.00  6.12   \n",
       "1  75e79d6d-d593-4f28-b384-975d2adc2c3f       85.00         85.00  3.06   \n",
       "2  1d71f594-a390-44be-af6b-1ef8e363b7de       65.50         65.50  2.36   \n",
       "3  566ae405-a060-4643-ba89-cfc860c6c9fd      324.00        324.00 11.66   \n",
       "4  f9f6ae1a-645b-4c39-8acf-ee5ddaf69acd      194.00        194.00  6.98   \n",
       "\n",
       "   taxes  net_amount  mdr  msi  number_msi  status_code receipt_no  \\\n",
       "0   0.98      162.90 0.04 0.00        0.00            1    xxAstCw   \n",
       "1   0.49       81.45 0.04 0.00        0.00            1    CEvtyR2   \n",
       "2   0.38       62.76 0.04 0.00        0.00            1    6xBsBe4   \n",
       "3   1.87      310.47 0.04 0.00        0.00            1    vrogCW3   \n",
       "4   1.12      185.90 0.04 0.00        0.00            1    yU9iBuy   \n",
       "\n",
       "                                           file_name  \n",
       "0  SETTLEMENT_MASTER_LOG_MSI_DATE FEBRERO 2023 - ...  \n",
       "1  SETTLEMENT_MASTER_LOG_MSI_DATE FEBRERO 2023 - ...  \n",
       "2  SETTLEMENT_MASTER_LOG_MSI_DATE FEBRERO 2023 - ...  \n",
       "3  SETTLEMENT_MASTER_LOG_MSI_DATE FEBRERO 2023 - ...  \n",
       "4  SETTLEMENT_MASTER_LOG_MSI_DATE FEBRERO 2023 - ...  "
      ]
     },
     "execution_count": 9,
     "metadata": {},
     "output_type": "execute_result"
    }
   ],
   "source": [
    "sml_final = sml\n",
    "sml_final.head()"
   ]
  },
  {
   "cell_type": "code",
   "execution_count": 10,
   "id": "f0afff80",
   "metadata": {},
   "outputs": [
    {
     "data": {
      "text/plain": [
       "(9513295, 12)"
      ]
     },
     "execution_count": 10,
     "metadata": {},
     "output_type": "execute_result"
    }
   ],
   "source": [
    "sml_final.shape"
   ]
  },
  {
   "cell_type": "markdown",
   "id": "05244115",
   "metadata": {},
   "source": [
    "# DATA AP JOURNAL"
   ]
  },
  {
   "cell_type": "code",
   "execution_count": 11,
   "id": "2ab36c04",
   "metadata": {},
   "outputs": [
    {
     "name": "stderr",
     "output_type": "stream",
     "text": [
      "C:\\Users\\Cristian.Aparicio\\AppData\\Local\\Temp\\ipykernel_5300\\2070668920.py:1: DtypeWarning: Columns (13,14,15) have mixed types. Specify dtype option on import or set low_memory=False.\n",
      "  ap = pd.concat([pd.read_csv(f, sep='\\t',usecols=use_cols_approv).assign(file_name=os.path.basename(f)) for f in ap_provision_files])\n"
     ]
    }
   ],
   "source": [
    "ap = pd.concat([pd.read_csv(f, sep='\\t',usecols=use_cols_approv).assign(file_name=os.path.basename(f)) for f in ap_provision_files])\n",
    "ap.columns = ap.columns.str.strip().str.lower()\n",
    "ap.replace('\"\"','', regex=True, inplace=True)\n",
    "ap['eff_dt'] =  pd.to_datetime(ap['eff_dt']).dt.tz_localize(None)\n",
    "ap['eff_dt_date'] =  pd.to_datetime(ap['eff_dt']).dt.date\n",
    "ap['eff_dt_date'] =  pd.to_datetime(ap['eff_dt_date'])\n",
    "ap['eff_dt_time'] =  pd.to_datetime(ap['eff_dt']).dt.time\n",
    "# ap['movement_day'] = pd.to_datetime(ap['movement_day']).dt.tz_localize(None)\n",
    "ap['created_at'] = pd.to_datetime(ap['created_at']).dt.tz_localize(None)\n",
    "ap['created_at_date'] =  pd.to_datetime(ap['created_at']).dt.date\n",
    "ap['created_at_date'] =  pd.to_datetime(ap['created_at_date'])\n",
    "ap['report_date_local'] =  pd.to_datetime(ap['report_date_local'])\n",
    "ap['payment_date_local'] = pd.to_datetime(ap['payment_date_local']).dt.tz_localize(None)\n",
    "ap['payment_date_local_prev'] =  pd.to_datetime(ap['payment_date_local']).dt.date\n",
    "ap['payment_date_local_prev'] =  pd.to_datetime(ap['payment_date_local_prev'])\n",
    "# ap['request_effective_date'] = pd.to_datetime(ap['request_effective_date']).dt.tz_localize(None)\n",
    "# ap['slot_date'] = pd.to_datetime(ap['slot_date']).dt.tz_localize(None)\n",
    "# ap['identifier'] = ap['source_type'].str[:1].astype(str)\n",
    "# ap['INDEX'] = (ap['eff_dt_date'].astype(str).replace(' ', '',regex=True)+'-'+\n",
    "#                ap['identifier'].astype(str).replace(' ', '',regex=True)+'-'+\n",
    "#                ap['eff_dt_time'].astype(str).replace(' ', '',regex=True))\n",
    "ap.sort_values(by=(['merchant_id','eff_dt']), ascending=[True,False], inplace=True)"
   ]
  },
  {
   "cell_type": "code",
   "execution_count": 12,
   "id": "f999693d",
   "metadata": {},
   "outputs": [],
   "source": [
    "ap.reset_index(inplace=True)"
   ]
  },
  {
   "cell_type": "code",
   "execution_count": 13,
   "id": "8319eeeb",
   "metadata": {},
   "outputs": [
    {
     "data": {
      "text/html": [
       "<div>\n",
       "<style scoped>\n",
       "    .dataframe tbody tr th:only-of-type {\n",
       "        vertical-align: middle;\n",
       "    }\n",
       "\n",
       "    .dataframe tbody tr th {\n",
       "        vertical-align: top;\n",
       "    }\n",
       "\n",
       "    .dataframe thead th {\n",
       "        text-align: right;\n",
       "    }\n",
       "</style>\n",
       "<table border=\"1\" class=\"dataframe\">\n",
       "  <thead>\n",
       "    <tr style=\"text-align: right;\">\n",
       "      <th></th>\n",
       "      <th>index</th>\n",
       "      <th>merchant_id</th>\n",
       "      <th>amount</th>\n",
       "      <th>type_request</th>\n",
       "      <th>mvnt_id</th>\n",
       "      <th>movement_type</th>\n",
       "      <th>source_type</th>\n",
       "      <th>created_at</th>\n",
       "      <th>eff_dt</th>\n",
       "      <th>report_date_local</th>\n",
       "      <th>...</th>\n",
       "      <th>status</th>\n",
       "      <th>file_name</th>\n",
       "      <th>eff_dt_date</th>\n",
       "      <th>eff_dt_time</th>\n",
       "      <th>created_at_date</th>\n",
       "      <th>payment_date_local_prev</th>\n",
       "      <th>report_id</th>\n",
       "      <th>report_date_local_final</th>\n",
       "      <th>payment_date_local_final</th>\n",
       "      <th>status_final</th>\n",
       "    </tr>\n",
       "  </thead>\n",
       "  <tbody>\n",
       "    <tr>\n",
       "      <th>0</th>\n",
       "      <td>974700</td>\n",
       "      <td>00003751-a43a-4dda-b26d-0e00360ada3a</td>\n",
       "      <td>-670.77</td>\n",
       "      <td>AL87YCZ3P</td>\n",
       "      <td>f2903920-a3da-4c51-9a33-f7c977c06294</td>\n",
       "      <td>DISB_RQ</td>\n",
       "      <td>DISB</td>\n",
       "      <td>2023-03-21 07:13:48</td>\n",
       "      <td>2023-03-21 07:13:53</td>\n",
       "      <td>2023-03-21</td>\n",
       "      <td>...</td>\n",
       "      <td>PAID</td>\n",
       "      <td>PROVISIONES - LEDGER FEBRERO 2023 - FEES TAXES...</td>\n",
       "      <td>2023-03-21</td>\n",
       "      <td>07:13:53</td>\n",
       "      <td>2023-03-21</td>\n",
       "      <td>2023-03-21</td>\n",
       "      <td>AL87YCZ3P</td>\n",
       "      <td>2023-03-21</td>\n",
       "      <td>2023-03-21</td>\n",
       "      <td>PAID</td>\n",
       "    </tr>\n",
       "    <tr>\n",
       "      <th>1</th>\n",
       "      <td>10832260</td>\n",
       "      <td>00003751-a43a-4dda-b26d-0e00360ada3a</td>\n",
       "      <td>670.77</td>\n",
       "      <td>settlement processor regular payment request</td>\n",
       "      <td>ecaf79f0-3b4c-4f83-89b3-e11e3bbe05e8</td>\n",
       "      <td>REGULAR_PYMT_RQ</td>\n",
       "      <td>SETT</td>\n",
       "      <td>2023-03-20 17:50:45</td>\n",
       "      <td>2023-03-21 04:30:00</td>\n",
       "      <td>NaT</td>\n",
       "      <td>...</td>\n",
       "      <td>NaN</td>\n",
       "      <td>PROVISIONES - LEDGER FEBRERO 2023 - FEES TAXES...</td>\n",
       "      <td>2023-03-21</td>\n",
       "      <td>04:30:00</td>\n",
       "      <td>2023-03-20</td>\n",
       "      <td>NaT</td>\n",
       "      <td>AL87YCZ3P</td>\n",
       "      <td>2023-03-21</td>\n",
       "      <td>2023-03-21</td>\n",
       "      <td>PAID</td>\n",
       "    </tr>\n",
       "    <tr>\n",
       "      <th>2</th>\n",
       "      <td>3092182</td>\n",
       "      <td>00003751-a43a-4dda-b26d-0e00360ada3a</td>\n",
       "      <td>-1,742.48</td>\n",
       "      <td>A5GGCS72L</td>\n",
       "      <td>b536be83-9b50-4581-ac31-cb68a5244941</td>\n",
       "      <td>DISB_RQ</td>\n",
       "      <td>DISB</td>\n",
       "      <td>2023-03-19 07:16:48</td>\n",
       "      <td>2023-03-19 07:16:53</td>\n",
       "      <td>2023-03-19</td>\n",
       "      <td>...</td>\n",
       "      <td>PAID</td>\n",
       "      <td>PROVISIONES - LEDGER FEBRERO 2023 - FEES TAXES...</td>\n",
       "      <td>2023-03-19</td>\n",
       "      <td>07:16:53</td>\n",
       "      <td>2023-03-19</td>\n",
       "      <td>2023-03-19</td>\n",
       "      <td>A5GGCS72L</td>\n",
       "      <td>2023-03-19</td>\n",
       "      <td>2023-03-19</td>\n",
       "      <td>PAID</td>\n",
       "    </tr>\n",
       "    <tr>\n",
       "      <th>3</th>\n",
       "      <td>10832259</td>\n",
       "      <td>00003751-a43a-4dda-b26d-0e00360ada3a</td>\n",
       "      <td>1,742.48</td>\n",
       "      <td>settlement processor regular payment request</td>\n",
       "      <td>dfb0cce8-4daa-4853-a1b1-6c39719b12be</td>\n",
       "      <td>REGULAR_PYMT_RQ</td>\n",
       "      <td>SETT</td>\n",
       "      <td>2023-03-18 19:27:02</td>\n",
       "      <td>2023-03-19 05:00:00</td>\n",
       "      <td>NaT</td>\n",
       "      <td>...</td>\n",
       "      <td>NaN</td>\n",
       "      <td>PROVISIONES - LEDGER FEBRERO 2023 - FEES TAXES...</td>\n",
       "      <td>2023-03-19</td>\n",
       "      <td>05:00:00</td>\n",
       "      <td>2023-03-18</td>\n",
       "      <td>NaT</td>\n",
       "      <td>A5GGCS72L</td>\n",
       "      <td>2023-03-19</td>\n",
       "      <td>2023-03-19</td>\n",
       "      <td>PAID</td>\n",
       "    </tr>\n",
       "    <tr>\n",
       "      <th>4</th>\n",
       "      <td>1817772</td>\n",
       "      <td>00004998-66f3-4c36-9096-4f64f971d19b</td>\n",
       "      <td>-219.44</td>\n",
       "      <td>AFDCWJ6N2</td>\n",
       "      <td>a824e1c2-8d3a-4660-9922-e7168ad72863</td>\n",
       "      <td>DISB_RQ</td>\n",
       "      <td>DISB</td>\n",
       "      <td>2023-03-20 07:15:37</td>\n",
       "      <td>2023-03-20 07:15:42</td>\n",
       "      <td>2023-03-20</td>\n",
       "      <td>...</td>\n",
       "      <td>PAID</td>\n",
       "      <td>PROVISIONES - LEDGER FEBRERO 2023 - FEES TAXES...</td>\n",
       "      <td>2023-03-20</td>\n",
       "      <td>07:15:42</td>\n",
       "      <td>2023-03-20</td>\n",
       "      <td>2023-03-20</td>\n",
       "      <td>AFDCWJ6N2</td>\n",
       "      <td>2023-03-20</td>\n",
       "      <td>2023-03-20</td>\n",
       "      <td>PAID</td>\n",
       "    </tr>\n",
       "  </tbody>\n",
       "</table>\n",
       "<p>5 rows × 21 columns</p>\n",
       "</div>"
      ],
      "text/plain": [
       "      index                           merchant_id    amount  \\\n",
       "0    974700  00003751-a43a-4dda-b26d-0e00360ada3a   -670.77   \n",
       "1  10832260  00003751-a43a-4dda-b26d-0e00360ada3a    670.77   \n",
       "2   3092182  00003751-a43a-4dda-b26d-0e00360ada3a -1,742.48   \n",
       "3  10832259  00003751-a43a-4dda-b26d-0e00360ada3a  1,742.48   \n",
       "4   1817772  00004998-66f3-4c36-9096-4f64f971d19b   -219.44   \n",
       "\n",
       "                                   type_request  \\\n",
       "0                                     AL87YCZ3P   \n",
       "1  settlement processor regular payment request   \n",
       "2                                     A5GGCS72L   \n",
       "3  settlement processor regular payment request   \n",
       "4                                     AFDCWJ6N2   \n",
       "\n",
       "                                mvnt_id    movement_type source_type  \\\n",
       "0  f2903920-a3da-4c51-9a33-f7c977c06294          DISB_RQ        DISB   \n",
       "1  ecaf79f0-3b4c-4f83-89b3-e11e3bbe05e8  REGULAR_PYMT_RQ        SETT   \n",
       "2  b536be83-9b50-4581-ac31-cb68a5244941          DISB_RQ        DISB   \n",
       "3  dfb0cce8-4daa-4853-a1b1-6c39719b12be  REGULAR_PYMT_RQ        SETT   \n",
       "4  a824e1c2-8d3a-4660-9922-e7168ad72863          DISB_RQ        DISB   \n",
       "\n",
       "           created_at              eff_dt report_date_local  ... status  \\\n",
       "0 2023-03-21 07:13:48 2023-03-21 07:13:53        2023-03-21  ...   PAID   \n",
       "1 2023-03-20 17:50:45 2023-03-21 04:30:00               NaT  ...    NaN   \n",
       "2 2023-03-19 07:16:48 2023-03-19 07:16:53        2023-03-19  ...   PAID   \n",
       "3 2023-03-18 19:27:02 2023-03-19 05:00:00               NaT  ...    NaN   \n",
       "4 2023-03-20 07:15:37 2023-03-20 07:15:42        2023-03-20  ...   PAID   \n",
       "\n",
       "                                           file_name eff_dt_date eff_dt_time  \\\n",
       "0  PROVISIONES - LEDGER FEBRERO 2023 - FEES TAXES...  2023-03-21    07:13:53   \n",
       "1  PROVISIONES - LEDGER FEBRERO 2023 - FEES TAXES...  2023-03-21    04:30:00   \n",
       "2  PROVISIONES - LEDGER FEBRERO 2023 - FEES TAXES...  2023-03-19    07:16:53   \n",
       "3  PROVISIONES - LEDGER FEBRERO 2023 - FEES TAXES...  2023-03-19    05:00:00   \n",
       "4  PROVISIONES - LEDGER FEBRERO 2023 - FEES TAXES...  2023-03-20    07:15:42   \n",
       "\n",
       "  created_at_date payment_date_local_prev  report_id report_date_local_final  \\\n",
       "0      2023-03-21              2023-03-21  AL87YCZ3P              2023-03-21   \n",
       "1      2023-03-20                     NaT  AL87YCZ3P              2023-03-21   \n",
       "2      2023-03-19              2023-03-19  A5GGCS72L              2023-03-19   \n",
       "3      2023-03-18                     NaT  A5GGCS72L              2023-03-19   \n",
       "4      2023-03-20              2023-03-20  AFDCWJ6N2              2023-03-20   \n",
       "\n",
       "  payment_date_local_final status_final  \n",
       "0               2023-03-21         PAID  \n",
       "1               2023-03-21         PAID  \n",
       "2               2023-03-19         PAID  \n",
       "3               2023-03-19         PAID  \n",
       "4               2023-03-20         PAID  \n",
       "\n",
       "[5 rows x 21 columns]"
      ]
     },
     "execution_count": 13,
     "metadata": {},
     "output_type": "execute_result"
    }
   ],
   "source": [
    "ap.loc[ap['source_type'] == 'DISB', 'report_id'] = ap['type_request']\n",
    "ap['report_id'] = ap['report_id'].groupby(ap['merchant_id']).fillna(method='ffill')\n",
    "ap['report_date_local_final'] = ap['report_date_local'].groupby(ap['merchant_id']).fillna(method='ffill')\n",
    "ap['payment_date_local_final'] = ap['payment_date_local_prev'].groupby(ap['merchant_id']).fillna(method='ffill')\n",
    "ap['status_final'] = ap['status'].groupby(ap['merchant_id']).fillna(method='ffill')\n",
    "ap.head()"
   ]
  },
  {
   "cell_type": "code",
   "execution_count": 14,
   "id": "cfdd51e2",
   "metadata": {},
   "outputs": [
    {
     "data": {
      "text/plain": [
       "(12414325, 21)"
      ]
     },
     "execution_count": 14,
     "metadata": {},
     "output_type": "execute_result"
    }
   ],
   "source": [
    "ap.shape"
   ]
  },
  {
   "cell_type": "code",
   "execution_count": 15,
   "id": "b34aaf44",
   "metadata": {},
   "outputs": [
    {
     "data": {
      "text/plain": [
       "index                                int64\n",
       "merchant_id                         object\n",
       "amount                             float64\n",
       "type_request                        object\n",
       "mvnt_id                             object\n",
       "movement_type                       object\n",
       "source_type                         object\n",
       "created_at                  datetime64[ns]\n",
       "eff_dt                      datetime64[ns]\n",
       "report_date_local           datetime64[ns]\n",
       "payment_date_local          datetime64[ns]\n",
       "status                              object\n",
       "file_name                           object\n",
       "eff_dt_date                 datetime64[ns]\n",
       "eff_dt_time                         object\n",
       "created_at_date             datetime64[ns]\n",
       "payment_date_local_prev     datetime64[ns]\n",
       "report_id                           object\n",
       "report_date_local_final     datetime64[ns]\n",
       "payment_date_local_final    datetime64[ns]\n",
       "status_final                        object\n",
       "dtype: object"
      ]
     },
     "execution_count": 15,
     "metadata": {},
     "output_type": "execute_result"
    }
   ],
   "source": [
    "ap.dtypes"
   ]
  },
  {
   "cell_type": "code",
   "execution_count": 16,
   "id": "533505bb",
   "metadata": {},
   "outputs": [
    {
     "data": {
      "text/plain": [
       "array(['DISB', 'SETT', 'RISK', 'PYMT', 'TOPUPS', 'LOAN', 'SETT_ADPTR',\n",
       "       'TAXES'], dtype=object)"
      ]
     },
     "execution_count": 16,
     "metadata": {},
     "output_type": "execute_result"
    }
   ],
   "source": [
    "ap['source_type'].unique()"
   ]
  },
  {
   "cell_type": "code",
   "execution_count": 17,
   "id": "57a30c53",
   "metadata": {},
   "outputs": [
    {
     "data": {
      "text/plain": [
       "array(['AL87YCZ3P', 'A5GGCS72L', 'AFDCWJ6N2', ..., 'AY8KG295Z',\n",
       "       'ABL9S383T', 'ADKRXTW8R'], dtype=object)"
      ]
     },
     "execution_count": 17,
     "metadata": {},
     "output_type": "execute_result"
    }
   ],
   "source": [
    "ap['report_id'].unique()"
   ]
  },
  {
   "cell_type": "code",
   "execution_count": 18,
   "id": "acebd4f7",
   "metadata": {},
   "outputs": [],
   "source": [
    "ap_sett = ap[(ap['source_type'] == 'SETT')]\n",
    "ap_topups = ap[(ap['source_type'] == 'TOPUPS')]\n",
    "ap_disb = ap[(ap['source_type'] == 'DISB')]\n",
    "ap_loan = ap[(ap['source_type'] == 'LOAN')]\n",
    "ap_pymt = ap[(ap['source_type'] == 'PYMT')]\n",
    "ap_risk = ap[(ap['source_type'] == 'RISK')]\n",
    "ap_sett_adptr = ap[(ap['source_type'] == 'SETT_ADPTR')]\n",
    "ap_taxes = ap[(ap['source_type'] == 'TAXES')]\n",
    "ap_refunds = ap[(ap['source_type'] == 'REFUNDS')]\n",
    "ap_bill_pymnt = ap[(ap['source_type'] == 'BILL_PYMNT')]"
   ]
  },
  {
   "cell_type": "markdown",
   "id": "d101324c",
   "metadata": {},
   "source": [
    "# CRUCE 1: AP JOURNAL VS SETTLEMENT MASTER LOG"
   ]
  },
  {
   "cell_type": "code",
   "execution_count": 19,
   "id": "1754a0b8",
   "metadata": {},
   "outputs": [
    {
     "data": {
      "text/html": [
       "<div>\n",
       "<style scoped>\n",
       "    .dataframe tbody tr th:only-of-type {\n",
       "        vertical-align: middle;\n",
       "    }\n",
       "\n",
       "    .dataframe tbody tr th {\n",
       "        vertical-align: top;\n",
       "    }\n",
       "\n",
       "    .dataframe thead th {\n",
       "        text-align: right;\n",
       "    }\n",
       "</style>\n",
       "<table border=\"1\" class=\"dataframe\">\n",
       "  <thead>\n",
       "    <tr style=\"text-align: right;\">\n",
       "      <th></th>\n",
       "      <th>index</th>\n",
       "      <th>merchant_id</th>\n",
       "      <th>amount</th>\n",
       "      <th>type_request</th>\n",
       "      <th>mvnt_id</th>\n",
       "      <th>movement_type</th>\n",
       "      <th>source_type</th>\n",
       "      <th>created_at</th>\n",
       "      <th>eff_dt</th>\n",
       "      <th>report_date_local</th>\n",
       "      <th>...</th>\n",
       "      <th>gross_amount</th>\n",
       "      <th>fees</th>\n",
       "      <th>taxes</th>\n",
       "      <th>net_amount</th>\n",
       "      <th>mdr</th>\n",
       "      <th>msi</th>\n",
       "      <th>number_msi</th>\n",
       "      <th>receipt_no</th>\n",
       "      <th>status_code</th>\n",
       "      <th>transaction_id</th>\n",
       "    </tr>\n",
       "  </thead>\n",
       "  <tbody>\n",
       "    <tr>\n",
       "      <th>0</th>\n",
       "      <td>974700</td>\n",
       "      <td>00003751-a43a-4dda-b26d-0e00360ada3a</td>\n",
       "      <td>-670.77</td>\n",
       "      <td>AL87YCZ3P</td>\n",
       "      <td>f2903920-a3da-4c51-9a33-f7c977c06294</td>\n",
       "      <td>DISB_RQ</td>\n",
       "      <td>DISB</td>\n",
       "      <td>2023-03-21 07:13:48</td>\n",
       "      <td>2023-03-21 07:13:53</td>\n",
       "      <td>2023-03-21</td>\n",
       "      <td>...</td>\n",
       "      <td>NaN</td>\n",
       "      <td>NaN</td>\n",
       "      <td>NaN</td>\n",
       "      <td>NaN</td>\n",
       "      <td>NaN</td>\n",
       "      <td>NaN</td>\n",
       "      <td>NaN</td>\n",
       "      <td>NaN</td>\n",
       "      <td>NaN</td>\n",
       "      <td>f2903920-a3da-4c51-9a33-f7c977c06294</td>\n",
       "    </tr>\n",
       "    <tr>\n",
       "      <th>1</th>\n",
       "      <td>10832260</td>\n",
       "      <td>00003751-a43a-4dda-b26d-0e00360ada3a</td>\n",
       "      <td>670.77</td>\n",
       "      <td>settlement processor regular payment request</td>\n",
       "      <td>ecaf79f0-3b4c-4f83-89b3-e11e3bbe05e8</td>\n",
       "      <td>REGULAR_PYMT_RQ</td>\n",
       "      <td>SETT</td>\n",
       "      <td>2023-03-20 17:50:45</td>\n",
       "      <td>2023-03-21 04:30:00</td>\n",
       "      <td>NaT</td>\n",
       "      <td>...</td>\n",
       "      <td>700.00</td>\n",
       "      <td>25.20</td>\n",
       "      <td>4.03</td>\n",
       "      <td>670.77</td>\n",
       "      <td>0.04</td>\n",
       "      <td>0.00</td>\n",
       "      <td>0.00</td>\n",
       "      <td>b5Q4rMk</td>\n",
       "      <td>1.00</td>\n",
       "      <td>ecaf79f0-3b4c-4f83-89b3-e11e3bbe05e8</td>\n",
       "    </tr>\n",
       "    <tr>\n",
       "      <th>2</th>\n",
       "      <td>3092182</td>\n",
       "      <td>00003751-a43a-4dda-b26d-0e00360ada3a</td>\n",
       "      <td>-1,742.48</td>\n",
       "      <td>A5GGCS72L</td>\n",
       "      <td>b536be83-9b50-4581-ac31-cb68a5244941</td>\n",
       "      <td>DISB_RQ</td>\n",
       "      <td>DISB</td>\n",
       "      <td>2023-03-19 07:16:48</td>\n",
       "      <td>2023-03-19 07:16:53</td>\n",
       "      <td>2023-03-19</td>\n",
       "      <td>...</td>\n",
       "      <td>NaN</td>\n",
       "      <td>NaN</td>\n",
       "      <td>NaN</td>\n",
       "      <td>NaN</td>\n",
       "      <td>NaN</td>\n",
       "      <td>NaN</td>\n",
       "      <td>NaN</td>\n",
       "      <td>NaN</td>\n",
       "      <td>NaN</td>\n",
       "      <td>b536be83-9b50-4581-ac31-cb68a5244941</td>\n",
       "    </tr>\n",
       "    <tr>\n",
       "      <th>3</th>\n",
       "      <td>10832259</td>\n",
       "      <td>00003751-a43a-4dda-b26d-0e00360ada3a</td>\n",
       "      <td>1,742.48</td>\n",
       "      <td>settlement processor regular payment request</td>\n",
       "      <td>dfb0cce8-4daa-4853-a1b1-6c39719b12be</td>\n",
       "      <td>REGULAR_PYMT_RQ</td>\n",
       "      <td>SETT</td>\n",
       "      <td>2023-03-18 19:27:02</td>\n",
       "      <td>2023-03-19 05:00:00</td>\n",
       "      <td>NaT</td>\n",
       "      <td>...</td>\n",
       "      <td>2,000.00</td>\n",
       "      <td>222.00</td>\n",
       "      <td>35.52</td>\n",
       "      <td>1,742.48</td>\n",
       "      <td>0.04</td>\n",
       "      <td>0.07</td>\n",
       "      <td>6.00</td>\n",
       "      <td>4NTGyCE</td>\n",
       "      <td>1.00</td>\n",
       "      <td>dfb0cce8-4daa-4853-a1b1-6c39719b12be</td>\n",
       "    </tr>\n",
       "    <tr>\n",
       "      <th>4</th>\n",
       "      <td>1817772</td>\n",
       "      <td>00004998-66f3-4c36-9096-4f64f971d19b</td>\n",
       "      <td>-219.44</td>\n",
       "      <td>AFDCWJ6N2</td>\n",
       "      <td>a824e1c2-8d3a-4660-9922-e7168ad72863</td>\n",
       "      <td>DISB_RQ</td>\n",
       "      <td>DISB</td>\n",
       "      <td>2023-03-20 07:15:37</td>\n",
       "      <td>2023-03-20 07:15:42</td>\n",
       "      <td>2023-03-20</td>\n",
       "      <td>...</td>\n",
       "      <td>NaN</td>\n",
       "      <td>NaN</td>\n",
       "      <td>NaN</td>\n",
       "      <td>NaN</td>\n",
       "      <td>NaN</td>\n",
       "      <td>NaN</td>\n",
       "      <td>NaN</td>\n",
       "      <td>NaN</td>\n",
       "      <td>NaN</td>\n",
       "      <td>a824e1c2-8d3a-4660-9922-e7168ad72863</td>\n",
       "    </tr>\n",
       "  </tbody>\n",
       "</table>\n",
       "<p>5 rows × 32 columns</p>\n",
       "</div>"
      ],
      "text/plain": [
       "      index                           merchant_id    amount  \\\n",
       "0    974700  00003751-a43a-4dda-b26d-0e00360ada3a   -670.77   \n",
       "1  10832260  00003751-a43a-4dda-b26d-0e00360ada3a    670.77   \n",
       "2   3092182  00003751-a43a-4dda-b26d-0e00360ada3a -1,742.48   \n",
       "3  10832259  00003751-a43a-4dda-b26d-0e00360ada3a  1,742.48   \n",
       "4   1817772  00004998-66f3-4c36-9096-4f64f971d19b   -219.44   \n",
       "\n",
       "                                   type_request  \\\n",
       "0                                     AL87YCZ3P   \n",
       "1  settlement processor regular payment request   \n",
       "2                                     A5GGCS72L   \n",
       "3  settlement processor regular payment request   \n",
       "4                                     AFDCWJ6N2   \n",
       "\n",
       "                                mvnt_id    movement_type source_type  \\\n",
       "0  f2903920-a3da-4c51-9a33-f7c977c06294          DISB_RQ        DISB   \n",
       "1  ecaf79f0-3b4c-4f83-89b3-e11e3bbe05e8  REGULAR_PYMT_RQ        SETT   \n",
       "2  b536be83-9b50-4581-ac31-cb68a5244941          DISB_RQ        DISB   \n",
       "3  dfb0cce8-4daa-4853-a1b1-6c39719b12be  REGULAR_PYMT_RQ        SETT   \n",
       "4  a824e1c2-8d3a-4660-9922-e7168ad72863          DISB_RQ        DISB   \n",
       "\n",
       "           created_at              eff_dt report_date_local  ... gross_amount  \\\n",
       "0 2023-03-21 07:13:48 2023-03-21 07:13:53        2023-03-21  ...          NaN   \n",
       "1 2023-03-20 17:50:45 2023-03-21 04:30:00               NaT  ...       700.00   \n",
       "2 2023-03-19 07:16:48 2023-03-19 07:16:53        2023-03-19  ...          NaN   \n",
       "3 2023-03-18 19:27:02 2023-03-19 05:00:00               NaT  ...     2,000.00   \n",
       "4 2023-03-20 07:15:37 2023-03-20 07:15:42        2023-03-20  ...          NaN   \n",
       "\n",
       "    fees taxes net_amount  mdr  msi number_msi receipt_no status_code  \\\n",
       "0    NaN   NaN        NaN  NaN  NaN        NaN        NaN         NaN   \n",
       "1  25.20  4.03     670.77 0.04 0.00       0.00    b5Q4rMk        1.00   \n",
       "2    NaN   NaN        NaN  NaN  NaN        NaN        NaN         NaN   \n",
       "3 222.00 35.52   1,742.48 0.04 0.07       6.00    4NTGyCE        1.00   \n",
       "4    NaN   NaN        NaN  NaN  NaN        NaN        NaN         NaN   \n",
       "\n",
       "                         transaction_id  \n",
       "0  f2903920-a3da-4c51-9a33-f7c977c06294  \n",
       "1  ecaf79f0-3b4c-4f83-89b3-e11e3bbe05e8  \n",
       "2  b536be83-9b50-4581-ac31-cb68a5244941  \n",
       "3  dfb0cce8-4daa-4853-a1b1-6c39719b12be  \n",
       "4  a824e1c2-8d3a-4660-9922-e7168ad72863  \n",
       "\n",
       "[5 rows x 32 columns]"
      ]
     },
     "execution_count": 19,
     "metadata": {},
     "output_type": "execute_result"
    }
   ],
   "source": [
    "cruce_1 = ap.merge(sml_final[['mvnt_id','psp_amount','gross_amount','fees','taxes','net_amount','mdr','msi','number_msi',\n",
    "                             'receipt_no','status_code']],on='mvnt_id',how='left')\n",
    "cruce_1['transaction_id'] = cruce_1['mvnt_id']\n",
    "cruce_1.head()"
   ]
  },
  {
   "cell_type": "code",
   "execution_count": 20,
   "id": "db61f0bb",
   "metadata": {},
   "outputs": [
    {
     "data": {
      "text/plain": [
       "(12414331, 32)"
      ]
     },
     "execution_count": 20,
     "metadata": {},
     "output_type": "execute_result"
    }
   ],
   "source": [
    "cruce_1.shape"
   ]
  },
  {
   "cell_type": "code",
   "execution_count": 21,
   "id": "4ab2db38",
   "metadata": {},
   "outputs": [
    {
     "data": {
      "text/plain": [
       "Index(['index', 'merchant_id', 'amount', 'type_request', 'mvnt_id',\n",
       "       'movement_type', 'source_type', 'created_at', 'eff_dt',\n",
       "       'report_date_local', 'payment_date_local', 'status', 'file_name',\n",
       "       'eff_dt_date', 'eff_dt_time', 'created_at_date',\n",
       "       'payment_date_local_prev', 'report_id', 'report_date_local_final',\n",
       "       'payment_date_local_final', 'status_final', 'psp_amount',\n",
       "       'gross_amount', 'fees', 'taxes', 'net_amount', 'mdr', 'msi',\n",
       "       'number_msi', 'receipt_no', 'status_code', 'transaction_id'],\n",
       "      dtype='object')"
      ]
     },
     "execution_count": 21,
     "metadata": {},
     "output_type": "execute_result"
    }
   ],
   "source": [
    "cruce_1.columns"
   ]
  },
  {
   "cell_type": "markdown",
   "id": "19a54f9c",
   "metadata": {},
   "source": [
    "### FILTRO DE FECHA"
   ]
  },
  {
   "cell_type": "code",
   "execution_count": 22,
   "id": "eb0b289d",
   "metadata": {},
   "outputs": [
    {
     "data": {
      "text/plain": [
       "array(['2023-03-01T00:00:00.000000000'], dtype='datetime64[ns]')"
      ]
     },
     "execution_count": 22,
     "metadata": {},
     "output_type": "execute_result"
    }
   ],
   "source": [
    "cruce_1_filtro = cruce_1[(cruce_1['eff_dt_date'] >= '2023-03-01') & (cruce_1['eff_dt_date'] <= '2023-03-01')]\n",
    "cruce_1_filtro['eff_dt_date'].unique()"
   ]
  },
  {
   "cell_type": "code",
   "execution_count": 23,
   "id": "88d0c28c",
   "metadata": {},
   "outputs": [
    {
     "data": {
      "text/html": [
       "<div>\n",
       "<style scoped>\n",
       "    .dataframe tbody tr th:only-of-type {\n",
       "        vertical-align: middle;\n",
       "    }\n",
       "\n",
       "    .dataframe tbody tr th {\n",
       "        vertical-align: top;\n",
       "    }\n",
       "\n",
       "    .dataframe thead th {\n",
       "        text-align: right;\n",
       "    }\n",
       "</style>\n",
       "<table border=\"1\" class=\"dataframe\">\n",
       "  <thead>\n",
       "    <tr style=\"text-align: right;\">\n",
       "      <th></th>\n",
       "      <th>index</th>\n",
       "      <th>merchant_id</th>\n",
       "      <th>amount</th>\n",
       "      <th>type_request</th>\n",
       "      <th>mvnt_id</th>\n",
       "      <th>movement_type</th>\n",
       "      <th>source_type</th>\n",
       "      <th>created_at</th>\n",
       "      <th>eff_dt</th>\n",
       "      <th>report_date_local</th>\n",
       "      <th>...</th>\n",
       "      <th>gross_amount</th>\n",
       "      <th>fees</th>\n",
       "      <th>taxes</th>\n",
       "      <th>net_amount</th>\n",
       "      <th>mdr</th>\n",
       "      <th>msi</th>\n",
       "      <th>number_msi</th>\n",
       "      <th>receipt_no</th>\n",
       "      <th>status_code</th>\n",
       "      <th>transaction_id</th>\n",
       "    </tr>\n",
       "  </thead>\n",
       "  <tbody>\n",
       "    <tr>\n",
       "      <th>1026</th>\n",
       "      <td>127496</td>\n",
       "      <td>000ea1f4-1df2-4c07-a720-80faec0c6c07</td>\n",
       "      <td>-835.59</td>\n",
       "      <td>A86G5R25M</td>\n",
       "      <td>fd1c3f2a-efe5-484c-9670-35c755cc4696</td>\n",
       "      <td>DISB_RQ</td>\n",
       "      <td>DISB</td>\n",
       "      <td>2023-03-01 07:07:29</td>\n",
       "      <td>2023-03-01 07:07:34</td>\n",
       "      <td>2023-03-01</td>\n",
       "      <td>...</td>\n",
       "      <td>NaN</td>\n",
       "      <td>NaN</td>\n",
       "      <td>NaN</td>\n",
       "      <td>NaN</td>\n",
       "      <td>NaN</td>\n",
       "      <td>NaN</td>\n",
       "      <td>NaN</td>\n",
       "      <td>NaN</td>\n",
       "      <td>NaN</td>\n",
       "      <td>fd1c3f2a-efe5-484c-9670-35c755cc4696</td>\n",
       "    </tr>\n",
       "    <tr>\n",
       "      <th>1027</th>\n",
       "      <td>10803080</td>\n",
       "      <td>000ea1f4-1df2-4c07-a720-80faec0c6c07</td>\n",
       "      <td>344.97</td>\n",
       "      <td>settlement processor regular payment request</td>\n",
       "      <td>f53e4c9c-974e-4bf3-bbcb-a3caf05bf8db</td>\n",
       "      <td>REGULAR_PYMT_RQ</td>\n",
       "      <td>SETT</td>\n",
       "      <td>2023-02-28 20:54:22</td>\n",
       "      <td>2023-03-01 03:00:00</td>\n",
       "      <td>NaT</td>\n",
       "      <td>...</td>\n",
       "      <td>360.00</td>\n",
       "      <td>12.96</td>\n",
       "      <td>2.07</td>\n",
       "      <td>344.97</td>\n",
       "      <td>0.04</td>\n",
       "      <td>0.00</td>\n",
       "      <td>0.00</td>\n",
       "      <td>aSfnGTV</td>\n",
       "      <td>1.00</td>\n",
       "      <td>f53e4c9c-974e-4bf3-bbcb-a3caf05bf8db</td>\n",
       "    </tr>\n",
       "    <tr>\n",
       "      <th>1028</th>\n",
       "      <td>10803081</td>\n",
       "      <td>000ea1f4-1df2-4c07-a720-80faec0c6c07</td>\n",
       "      <td>279.81</td>\n",
       "      <td>settlement processor regular payment request</td>\n",
       "      <td>8d39c6d9-0b63-4e2c-b29b-b303d3e4f73d</td>\n",
       "      <td>REGULAR_PYMT_RQ</td>\n",
       "      <td>SETT</td>\n",
       "      <td>2023-02-28 22:06:03</td>\n",
       "      <td>2023-03-01 03:00:00</td>\n",
       "      <td>NaT</td>\n",
       "      <td>...</td>\n",
       "      <td>292.00</td>\n",
       "      <td>10.51</td>\n",
       "      <td>1.68</td>\n",
       "      <td>279.81</td>\n",
       "      <td>0.04</td>\n",
       "      <td>0.00</td>\n",
       "      <td>0.00</td>\n",
       "      <td>Z4pdE87</td>\n",
       "      <td>1.00</td>\n",
       "      <td>8d39c6d9-0b63-4e2c-b29b-b303d3e4f73d</td>\n",
       "    </tr>\n",
       "    <tr>\n",
       "      <th>1029</th>\n",
       "      <td>10803079</td>\n",
       "      <td>000ea1f4-1df2-4c07-a720-80faec0c6c07</td>\n",
       "      <td>210.81</td>\n",
       "      <td>settlement processor regular payment request</td>\n",
       "      <td>1fa8fbec-836c-4077-a31c-50feffaa265e</td>\n",
       "      <td>REGULAR_PYMT_RQ</td>\n",
       "      <td>SETT</td>\n",
       "      <td>2023-02-28 15:33:33</td>\n",
       "      <td>2023-03-01 02:00:00</td>\n",
       "      <td>NaT</td>\n",
       "      <td>...</td>\n",
       "      <td>220.00</td>\n",
       "      <td>7.92</td>\n",
       "      <td>1.27</td>\n",
       "      <td>210.81</td>\n",
       "      <td>0.04</td>\n",
       "      <td>0.00</td>\n",
       "      <td>0.00</td>\n",
       "      <td>F9yyV55</td>\n",
       "      <td>1.00</td>\n",
       "      <td>1fa8fbec-836c-4077-a31c-50feffaa265e</td>\n",
       "    </tr>\n",
       "    <tr>\n",
       "      <th>1396</th>\n",
       "      <td>1833429</td>\n",
       "      <td>000f1601-f3b2-4f12-9254-bd7d7cc89849</td>\n",
       "      <td>-593.62</td>\n",
       "      <td>A3LJ79BCH</td>\n",
       "      <td>416b860f-4731-4b88-bd63-7aeea9d4b867</td>\n",
       "      <td>DISB_RQ</td>\n",
       "      <td>DISB</td>\n",
       "      <td>2023-03-01 07:07:51</td>\n",
       "      <td>2023-03-01 07:07:56</td>\n",
       "      <td>2023-03-01</td>\n",
       "      <td>...</td>\n",
       "      <td>NaN</td>\n",
       "      <td>NaN</td>\n",
       "      <td>NaN</td>\n",
       "      <td>NaN</td>\n",
       "      <td>NaN</td>\n",
       "      <td>NaN</td>\n",
       "      <td>NaN</td>\n",
       "      <td>NaN</td>\n",
       "      <td>NaN</td>\n",
       "      <td>416b860f-4731-4b88-bd63-7aeea9d4b867</td>\n",
       "    </tr>\n",
       "  </tbody>\n",
       "</table>\n",
       "<p>5 rows × 32 columns</p>\n",
       "</div>"
      ],
      "text/plain": [
       "         index                           merchant_id  amount  \\\n",
       "1026    127496  000ea1f4-1df2-4c07-a720-80faec0c6c07 -835.59   \n",
       "1027  10803080  000ea1f4-1df2-4c07-a720-80faec0c6c07  344.97   \n",
       "1028  10803081  000ea1f4-1df2-4c07-a720-80faec0c6c07  279.81   \n",
       "1029  10803079  000ea1f4-1df2-4c07-a720-80faec0c6c07  210.81   \n",
       "1396   1833429  000f1601-f3b2-4f12-9254-bd7d7cc89849 -593.62   \n",
       "\n",
       "                                      type_request  \\\n",
       "1026                                     A86G5R25M   \n",
       "1027  settlement processor regular payment request   \n",
       "1028  settlement processor regular payment request   \n",
       "1029  settlement processor regular payment request   \n",
       "1396                                     A3LJ79BCH   \n",
       "\n",
       "                                   mvnt_id    movement_type source_type  \\\n",
       "1026  fd1c3f2a-efe5-484c-9670-35c755cc4696          DISB_RQ        DISB   \n",
       "1027  f53e4c9c-974e-4bf3-bbcb-a3caf05bf8db  REGULAR_PYMT_RQ        SETT   \n",
       "1028  8d39c6d9-0b63-4e2c-b29b-b303d3e4f73d  REGULAR_PYMT_RQ        SETT   \n",
       "1029  1fa8fbec-836c-4077-a31c-50feffaa265e  REGULAR_PYMT_RQ        SETT   \n",
       "1396  416b860f-4731-4b88-bd63-7aeea9d4b867          DISB_RQ        DISB   \n",
       "\n",
       "              created_at              eff_dt report_date_local  ...  \\\n",
       "1026 2023-03-01 07:07:29 2023-03-01 07:07:34        2023-03-01  ...   \n",
       "1027 2023-02-28 20:54:22 2023-03-01 03:00:00               NaT  ...   \n",
       "1028 2023-02-28 22:06:03 2023-03-01 03:00:00               NaT  ...   \n",
       "1029 2023-02-28 15:33:33 2023-03-01 02:00:00               NaT  ...   \n",
       "1396 2023-03-01 07:07:51 2023-03-01 07:07:56        2023-03-01  ...   \n",
       "\n",
       "     gross_amount  fees taxes net_amount  mdr  msi number_msi receipt_no  \\\n",
       "1026          NaN   NaN   NaN        NaN  NaN  NaN        NaN        NaN   \n",
       "1027       360.00 12.96  2.07     344.97 0.04 0.00       0.00    aSfnGTV   \n",
       "1028       292.00 10.51  1.68     279.81 0.04 0.00       0.00    Z4pdE87   \n",
       "1029       220.00  7.92  1.27     210.81 0.04 0.00       0.00    F9yyV55   \n",
       "1396          NaN   NaN   NaN        NaN  NaN  NaN        NaN        NaN   \n",
       "\n",
       "     status_code                        transaction_id  \n",
       "1026         NaN  fd1c3f2a-efe5-484c-9670-35c755cc4696  \n",
       "1027        1.00  f53e4c9c-974e-4bf3-bbcb-a3caf05bf8db  \n",
       "1028        1.00  8d39c6d9-0b63-4e2c-b29b-b303d3e4f73d  \n",
       "1029        1.00  1fa8fbec-836c-4077-a31c-50feffaa265e  \n",
       "1396         NaN  416b860f-4731-4b88-bd63-7aeea9d4b867  \n",
       "\n",
       "[5 rows x 32 columns]"
      ]
     },
     "execution_count": 23,
     "metadata": {},
     "output_type": "execute_result"
    }
   ],
   "source": [
    "cruce_1_filtro.head()"
   ]
  },
  {
   "cell_type": "code",
   "execution_count": 24,
   "id": "4ba22716",
   "metadata": {},
   "outputs": [
    {
     "data": {
      "text/plain": [
       "(103484, 32)"
      ]
     },
     "execution_count": 24,
     "metadata": {},
     "output_type": "execute_result"
    }
   ],
   "source": [
    "cruce_1_filtro.shape"
   ]
  },
  {
   "cell_type": "code",
   "execution_count": 25,
   "id": "764e8d7f",
   "metadata": {},
   "outputs": [],
   "source": [
    "cruce_1_filtro.to_excel('Data_poliza_ledger_marzo_2023.xlsx',index=False)"
   ]
  },
  {
   "cell_type": "markdown",
   "id": "052a992b",
   "metadata": {},
   "source": [
    "# DATA PROVISION"
   ]
  },
  {
   "cell_type": "code",
   "execution_count": null,
   "id": "f328149e",
   "metadata": {},
   "outputs": [],
   "source": [
    "url = r'C:\\Users\\Cristian.Aparicio\\Documents\\PROVISIONES\\2023\\02. FEBRERO\\0. DATA\\Detalle_28-02-2023_ledger.xlsx'"
   ]
  },
  {
   "cell_type": "code",
   "execution_count": null,
   "id": "ac57d3a8",
   "metadata": {},
   "outputs": [],
   "source": [
    "provision_file = pd.ExcelFile(url)\n",
    "provision_file"
   ]
  },
  {
   "cell_type": "code",
   "execution_count": null,
   "id": "dfa8ac1b",
   "metadata": {},
   "outputs": [],
   "source": [
    "provision_file.sheet_names"
   ]
  },
  {
   "cell_type": "code",
   "execution_count": null,
   "id": "71c2ab8a",
   "metadata": {},
   "outputs": [],
   "source": [
    "all_sheets = pd.read_excel(url, sheet_name=[0],\n",
    "                           converters={'ORDER_ID':str,'LAST4':str,'AFFILIATION':str,'TRX_ID':str,\n",
    "                                     'DEVICE_ID':str,'ULTIMOS_4':str})"
   ]
  },
  {
   "cell_type": "code",
   "execution_count": null,
   "id": "31a04b3f",
   "metadata": {},
   "outputs": [],
   "source": [
    "all_sheets.keys()"
   ]
  },
  {
   "cell_type": "code",
   "execution_count": null,
   "id": "76866b7e",
   "metadata": {},
   "outputs": [],
   "source": [
    "provision = pd.concat(all_sheets).reset_index()\n",
    "provision.columns = provision.columns.str.strip().str.lower() \n",
    "provision.head()"
   ]
  },
  {
   "cell_type": "code",
   "execution_count": null,
   "id": "f3f765ef",
   "metadata": {},
   "outputs": [],
   "source": [
    "provision.shape"
   ]
  },
  {
   "cell_type": "markdown",
   "id": "c337bb22",
   "metadata": {},
   "source": [
    "# CRUCE 2: DATA PROVISION VS CRUCE 1"
   ]
  },
  {
   "cell_type": "code",
   "execution_count": null,
   "id": "55a73310",
   "metadata": {},
   "outputs": [],
   "source": [
    "cruce_2 = provision.merge(cruce_1[['transaction_id','mvnt_id','report_id','report_date_local_final','payment_date_local_final',\n",
    "                                   'status_final','fees','taxes','eff_dt_date','movement_type','source_type']],\n",
    "                          on='transaction_id',how='left')\n",
    "# cruce_2['report_id'].fillna('not_found',inplace=True)\n",
    "# cruce_2['movement_type'].fillna('not_found',inplace=True)\n",
    "# cruce_2['source_type'].fillna('not_found',inplace=True)\n",
    "# cruce_2['status_final'].fillna('not_found',inplace=True)\n",
    "# cruce_2['report_date_local_final'].fillna('1990-01-01',inplace=True)\n",
    "# cruce_2['payment_date_local_final'].fillna('1990-01-01',inplace=True)\n",
    "# cruce_2['report_date_local_final'] =  pd.to_datetime(cruce_2['report_date_local_final'])\n",
    "# cruce_2['payment_date_local_final'] =  pd.to_datetime(cruce_2['payment_date_local_final'])\n",
    "cruce_2['fees'].fillna('not_found',inplace=True)\n",
    "cruce_2['taxes'].fillna('not_found',inplace=True)\n",
    "cruce_2.head()"
   ]
  },
  {
   "cell_type": "code",
   "execution_count": null,
   "id": "8fdfba12",
   "metadata": {},
   "outputs": [],
   "source": [
    "cruce_2.shape"
   ]
  },
  {
   "cell_type": "code",
   "execution_count": null,
   "id": "bafecb0a",
   "metadata": {},
   "outputs": [],
   "source": [
    "cruce_2['movement_type'].unique()"
   ]
  },
  {
   "cell_type": "code",
   "execution_count": null,
   "id": "64aeba02",
   "metadata": {},
   "outputs": [],
   "source": [
    "cruce_2['source_type'].unique()"
   ]
  },
  {
   "cell_type": "markdown",
   "id": "6a0638a4",
   "metadata": {},
   "source": [
    "# EXCEL FINAL"
   ]
  },
  {
   "cell_type": "code",
   "execution_count": null,
   "id": "90ede6ce",
   "metadata": {},
   "outputs": [],
   "source": [
    "writer = pd.ExcelWriter('Data_febrero_ledger_2023 - FEES TAXES.xlsx',\n",
    "                        engine='xlsxwriter',\n",
    "                        engine_kwargs={'options': {'encoding':'utf-8'}})\n",
    "cruce_2.to_excel(writer, sheet_name='Detalle', index=False)\n",
    "writer.close()"
   ]
  },
  {
   "cell_type": "code",
   "execution_count": null,
   "id": "3b20b16b",
   "metadata": {},
   "outputs": [],
   "source": []
  }
 ],
 "metadata": {
  "kernelspec": {
   "display_name": "Python 3 (ipykernel)",
   "language": "python",
   "name": "python3"
  },
  "language_info": {
   "codemirror_mode": {
    "name": "ipython",
    "version": 3
   },
   "file_extension": ".py",
   "mimetype": "text/x-python",
   "name": "python",
   "nbconvert_exporter": "python",
   "pygments_lexer": "ipython3",
   "version": "3.9.13"
  }
 },
 "nbformat": 4,
 "nbformat_minor": 5
}
