{
 "cells": [
  {
   "cell_type": "code",
   "execution_count": null,
   "id": "21c1c747",
   "metadata": {},
   "outputs": [],
   "source": [
    "import pandas as pd\n",
    "import numpy as np\n",
    "import glob\n",
    "import os\n",
    "from openpyxl import load_workbook\n",
    "pd.options.display.float_format = '{:,.2f}'.format"
   ]
  },
  {
   "cell_type": "code",
   "execution_count": null,
   "id": "bac3cd3f",
   "metadata": {},
   "outputs": [],
   "source": [
    "start_date_fact = '2024-01-01'\n",
    "final_date_fact = '2024-01-31'"
   ]
  },
  {
   "cell_type": "markdown",
   "id": "9df44613",
   "metadata": {},
   "source": [
    "# RUTAS"
   ]
  },
  {
   "cell_type": "markdown",
   "id": "cef36c0e",
   "metadata": {},
   "source": [
    "### QUERY"
   ]
  },
  {
   "cell_type": "code",
   "execution_count": null,
   "id": "38321533",
   "metadata": {},
   "outputs": [],
   "source": [
    "query_files = glob.glob(r'G:\\My Drive\\RESPALDO-PC\\MONTO TRANSACCIONADO\\*.tsv', recursive=False)\n",
    "query_files"
   ]
  },
  {
   "cell_type": "markdown",
   "id": "05244115",
   "metadata": {},
   "source": [
    "# DATA QUERY"
   ]
  },
  {
   "cell_type": "code",
   "execution_count": null,
   "id": "2ab36c04",
   "metadata": {},
   "outputs": [],
   "source": [
    "query = pd.concat([pd.read_csv(f, sep='\\t').assign(file_name=os.path.basename(f)) for f in query_files])\n",
    "query.columns = query.columns.str.strip().str.lower()\n",
    "query.replace('\"\"','', regex=True, inplace=True)\n",
    "query['pymt_prg'].fillna('not_found',inplace=True)\n",
    "query['created_at_sml_cdmx'].fillna('1990-01-01',inplace=True)\n",
    "query['eff_dt_sml_cdmx'].fillna('1990-01-01',inplace=True)\n",
    "query['created_at_sml'].fillna('1990-01-01',inplace=True)\n",
    "query['eff_dt_sml'].fillna('1990-01-01',inplace=True) \n",
    "query['updated_at_cdmx'] =  pd.to_datetime(query['updated_at_cdmx'])\n",
    "query['created_at_cdmx'] =  pd.to_datetime(query['created_at_cdmx'])\n",
    "query['created_at'] =  pd.to_datetime(query['created_at'])\n",
    "query['updated_at'] =  pd.to_datetime(query['updated_at'])\n",
    "query['created_at_sml_cdmx'] =  pd.to_datetime(query['created_at_sml_cdmx'])\n",
    "query['eff_dt_sml_cdmx'] =  pd.to_datetime(query['eff_dt_sml_cdmx'])\n",
    "query['created_at_sml'] =  pd.to_datetime(query['created_at_sml'])\n",
    "query['eff_dt_sml'] =  pd.to_datetime(query['eff_dt_sml'])\n",
    "query.sort_values(by=(['created_at_cdmx']), inplace=True)\n",
    "query.head()"
   ]
  },
  {
   "cell_type": "code",
   "execution_count": null,
   "id": "cfdd51e2",
   "metadata": {},
   "outputs": [],
   "source": [
    "query.shape"
   ]
  },
  {
   "cell_type": "code",
   "execution_count": null,
   "id": "fbb26fd6-9982-487d-a71d-c37fa4f4d9b6",
   "metadata": {},
   "outputs": [],
   "source": [
    "query_not_found = "
   ]
  },
  {
   "cell_type": "code",
   "execution_count": null,
   "id": "a231e658-6c5c-419d-b931-177ebd95400e",
   "metadata": {},
   "outputs": [],
   "source": []
  },
  {
   "cell_type": "code",
   "execution_count": null,
   "id": "2f9b283e-a3d8-4a57-ba15-bbe408566d6e",
   "metadata": {},
   "outputs": [],
   "source": []
  },
  {
   "cell_type": "code",
   "execution_count": null,
   "id": "989cfc93-6d39-436f-8516-630e4aa8677f",
   "metadata": {},
   "outputs": [],
   "source": []
  },
  {
   "cell_type": "code",
   "execution_count": null,
   "id": "956c2b57-578c-4328-976f-4dac9ba0099e",
   "metadata": {},
   "outputs": [],
   "source": []
  },
  {
   "cell_type": "code",
   "execution_count": null,
   "id": "5fb6c3d6-7ec7-46b3-ab1b-e2fdfb12b4da",
   "metadata": {},
   "outputs": [],
   "source": [
    "query_group = query.groupby(df['date'].dt.to_period('M')).sum()\n",
    "query_group.head()"
   ]
  },
  {
   "cell_type": "code",
   "execution_count": null,
   "id": "bf68a1db-3566-472e-b933-6dc49b260c33",
   "metadata": {},
   "outputs": [],
   "source": []
  },
  {
   "cell_type": "code",
   "execution_count": null,
   "id": "c6c32519-1477-4504-a538-abd7f3f3e44f",
   "metadata": {},
   "outputs": [],
   "source": []
  },
  {
   "cell_type": "code",
   "execution_count": null,
   "id": "e88a5c7f-4a1d-4962-82bd-611f96beb166",
   "metadata": {},
   "outputs": [],
   "source": []
  },
  {
   "cell_type": "code",
   "execution_count": null,
   "id": "9ce9bcc5-573f-4b8b-a640-736a0ba56e6d",
   "metadata": {},
   "outputs": [],
   "source": []
  },
  {
   "cell_type": "code",
   "execution_count": null,
   "id": "feb9dcbb-92a2-4a4e-b28e-4e428a846eea",
   "metadata": {},
   "outputs": [],
   "source": []
  },
  {
   "cell_type": "code",
   "execution_count": null,
   "id": "be18b1d4-3cae-4c38-9972-fea8fdd19441",
   "metadata": {},
   "outputs": [],
   "source": []
  },
  {
   "cell_type": "code",
   "execution_count": null,
   "id": "4387f0fa-5bde-4bc5-aee5-a46829af1fce",
   "metadata": {},
   "outputs": [],
   "source": []
  },
  {
   "cell_type": "code",
   "execution_count": null,
   "id": "93555541-1699-4b3e-8c64-539b44a0084b",
   "metadata": {},
   "outputs": [],
   "source": []
  },
  {
   "cell_type": "code",
   "execution_count": null,
   "id": "90639ac5",
   "metadata": {},
   "outputs": [],
   "source": []
  }
 ],
 "metadata": {
  "kernelspec": {
   "display_name": "Python 3 (ipykernel)",
   "language": "python",
   "name": "python3"
  },
  "language_info": {
   "codemirror_mode": {
    "name": "ipython",
    "version": 3
   },
   "file_extension": ".py",
   "mimetype": "text/x-python",
   "name": "python",
   "nbconvert_exporter": "python",
   "pygments_lexer": "ipython3",
   "version": "3.9.18"
  }
 },
 "nbformat": 4,
 "nbformat_minor": 5
}
