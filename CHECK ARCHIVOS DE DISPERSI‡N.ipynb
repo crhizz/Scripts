{
 "cells": [
  {
   "cell_type": "code",
   "execution_count": 2,
   "metadata": {},
   "outputs": [],
   "source": [
    "import pandas as pd\n",
    "import numpy as np\n",
    "from openpyxl import load_workbook\n",
    "import glob\n",
    "import os\n",
    "pd.options.display.float_format = '{:,.2f}'.format"
   ]
  },
  {
   "cell_type": "code",
   "execution_count": null,
   "metadata": {},
   "outputs": [],
   "source": [
    "name_header = ['merchant_id','merchant_name','user_email','report_id','report_date_local','amount','status','bank_name'\n",
    "               ,'payment_date_local','bank_account_owner_name','bank_account_number','swap']"
   ]
  },
  {
   "cell_type": "markdown",
   "metadata": {},
   "source": [
    "### 2021"
   ]
  },
  {
   "cell_type": "markdown",
   "metadata": {},
   "source": [
    "### RESPUESTAS FAST PAYMENTS"
   ]
  },
  {
   "cell_type": "code",
   "execution_count": 3,
   "metadata": {},
   "outputs": [
    {
     "data": {
      "text/plain": [
       "['G:\\\\My Drive\\\\Settlement\\\\1.-Resultado-dispersión\\\\2021\\\\07.-JULIO\\\\Dispersión-FP 2021-07-01.xlsx',\n",
       " 'G:\\\\My Drive\\\\Settlement\\\\1.-Resultado-dispersión\\\\2021\\\\07.-JULIO\\\\Dispersión-FP 2021-07-02.xlsx',\n",
       " 'G:\\\\My Drive\\\\Settlement\\\\1.-Resultado-dispersión\\\\2021\\\\07.-JULIO\\\\Dispersión-FP 2021-07-03.xlsx',\n",
       " 'G:\\\\My Drive\\\\Settlement\\\\1.-Resultado-dispersión\\\\2021\\\\07.-JULIO\\\\Dispersión-FP 2021-07-04.xlsx',\n",
       " 'G:\\\\My Drive\\\\Settlement\\\\1.-Resultado-dispersión\\\\2021\\\\07.-JULIO\\\\Dispersión-FP 2021-07-05.xlsx',\n",
       " 'G:\\\\My Drive\\\\Settlement\\\\1.-Resultado-dispersión\\\\2021\\\\07.-JULIO\\\\Dispersión-FP 2021-07-06.xlsx',\n",
       " 'G:\\\\My Drive\\\\Settlement\\\\1.-Resultado-dispersión\\\\2021\\\\07.-JULIO\\\\Dispersión-FP 2021-07-07.xlsx',\n",
       " 'G:\\\\My Drive\\\\Settlement\\\\1.-Resultado-dispersión\\\\2021\\\\07.-JULIO\\\\Dispersión-FP 2021-07-08.xlsx',\n",
       " 'G:\\\\My Drive\\\\Settlement\\\\1.-Resultado-dispersión\\\\2021\\\\07.-JULIO\\\\Dispersión-FP 2021-07-09.xlsx',\n",
       " 'G:\\\\My Drive\\\\Settlement\\\\1.-Resultado-dispersión\\\\2021\\\\07.-JULIO\\\\Dispersión-FP 2021-07-11.xlsx',\n",
       " 'G:\\\\My Drive\\\\Settlement\\\\1.-Resultado-dispersión\\\\2021\\\\07.-JULIO\\\\Dispersión-FP 2021-07-10.xlsx',\n",
       " 'G:\\\\My Drive\\\\Settlement\\\\1.-Resultado-dispersión\\\\2021\\\\07.-JULIO\\\\Dispersión-FP 2021-07-12.xlsx',\n",
       " 'G:\\\\My Drive\\\\Settlement\\\\1.-Resultado-dispersión\\\\2021\\\\07.-JULIO\\\\Dispersión-FP 2021-07-13.xlsx',\n",
       " 'G:\\\\My Drive\\\\Settlement\\\\1.-Resultado-dispersión\\\\2021\\\\07.-JULIO\\\\Dispersión-FP 2021-07-14.xlsx',\n",
       " 'G:\\\\My Drive\\\\Settlement\\\\1.-Resultado-dispersión\\\\2021\\\\07.-JULIO\\\\Dispersión-FP 2021-07-15.xlsx',\n",
       " 'G:\\\\My Drive\\\\Settlement\\\\1.-Resultado-dispersión\\\\2021\\\\07.-JULIO\\\\Dispersión-FP 2021-07-16.xlsx',\n",
       " 'G:\\\\My Drive\\\\Settlement\\\\1.-Resultado-dispersión\\\\2021\\\\07.-JULIO\\\\Dispersión-FP 2021-07-17.xlsx',\n",
       " 'G:\\\\My Drive\\\\Settlement\\\\1.-Resultado-dispersión\\\\2021\\\\07.-JULIO\\\\Dispersión-FP 2021-07-18.xlsx',\n",
       " 'G:\\\\My Drive\\\\Settlement\\\\1.-Resultado-dispersión\\\\2021\\\\07.-JULIO\\\\Dispersión-FP 2021-07-19.xlsx',\n",
       " 'G:\\\\My Drive\\\\Settlement\\\\1.-Resultado-dispersión\\\\2021\\\\07.-JULIO\\\\Dispersión-FP 2021-07-20.xlsx',\n",
       " 'G:\\\\My Drive\\\\Settlement\\\\1.-Resultado-dispersión\\\\2021\\\\07.-JULIO\\\\Dispersión-FP 2021-07-21.xlsx']"
      ]
     },
     "execution_count": 3,
     "metadata": {},
     "output_type": "execute_result"
    }
   ],
   "source": [
    "allfiles_fp = glob.glob(r'G:\\My Drive\\Settlement\\1.-Resultado-dispersión\\2021\\07.-JULIO\\Dispersión-FP*.xlsx',recursive=False)\n",
    "allfiles_fp"
   ]
  },
  {
   "cell_type": "markdown",
   "metadata": {},
   "source": [
    "### RESPUESTAS TRADICIONAL"
   ]
  },
  {
   "cell_type": "code",
   "execution_count": null,
   "metadata": {},
   "outputs": [],
   "source": [
    "allfiles_disp_trad = glob.glob(r'G:\\My Drive\\Settlement\\Respuestas Swap\\2021\\**\\*.csv', recursive=False)\n",
    "allfiles_disp_trad"
   ]
  },
  {
   "cell_type": "markdown",
   "metadata": {},
   "source": [
    "### CONSOLIDADO RESPUESTAS FAST PAYMENTS"
   ]
  },
  {
   "cell_type": "code",
   "execution_count": 5,
   "metadata": {},
   "outputs": [
    {
     "data": {
      "text/html": [
       "<div>\n",
       "<style scoped>\n",
       "    .dataframe tbody tr th:only-of-type {\n",
       "        vertical-align: middle;\n",
       "    }\n",
       "\n",
       "    .dataframe tbody tr th {\n",
       "        vertical-align: top;\n",
       "    }\n",
       "\n",
       "    .dataframe thead th {\n",
       "        text-align: right;\n",
       "    }\n",
       "</style>\n",
       "<table border=\"1\" class=\"dataframe\">\n",
       "  <thead>\n",
       "    <tr style=\"text-align: right;\">\n",
       "      <th></th>\n",
       "      <th>merchant_id</th>\n",
       "      <th>merchant_name</th>\n",
       "      <th>user_email</th>\n",
       "      <th>report_id</th>\n",
       "      <th>report_date_local</th>\n",
       "      <th>total_due</th>\n",
       "      <th>tipo</th>\n",
       "      <th>bank</th>\n",
       "      <th>swap</th>\n",
       "      <th>CLABE</th>\n",
       "      <th>status</th>\n",
       "      <th>CEP</th>\n",
       "      <th>Time</th>\n",
       "      <th>Banco_emisor</th>\n",
       "      <th>file_name</th>\n",
       "      <th>date_query</th>\n",
       "    </tr>\n",
       "  </thead>\n",
       "  <tbody>\n",
       "    <tr>\n",
       "      <th>0</th>\n",
       "      <td>11a19ae1-4ac5-4a35-94dd-350311d02ab6</td>\n",
       "      <td>Consultores Juridicos Y Asociados</td>\n",
       "      <td>manuel.ariosto@outlook.com</td>\n",
       "      <td>33ZMZ26PY</td>\n",
       "      <td>2021-07-01</td>\n",
       "      <td>21,081.28</td>\n",
       "      <td>Pago del día</td>\n",
       "      <td>ASP INTEGRA OPC</td>\n",
       "      <td>Manuel Ariosto Flores Ayala</td>\n",
       "      <td>659802020000023454</td>\n",
       "      <td>ERROR</td>\n",
       "      <td>NaN</td>\n",
       "      <td>09:00</td>\n",
       "      <td>BANAMEX</td>\n",
       "      <td>Dispersión-FP 2021-07-01.xlsx</td>\n",
       "      <td>2021-07-01</td>\n",
       "    </tr>\n",
       "    <tr>\n",
       "      <th>1</th>\n",
       "      <td>a3ad3de6-46d0-4803-8d9f-dc9c64c6f908</td>\n",
       "      <td>CanepaTours</td>\n",
       "      <td>canepita16@gmail.com</td>\n",
       "      <td>CRNPX3XDT</td>\n",
       "      <td>2021-07-01</td>\n",
       "      <td>28,977.18</td>\n",
       "      <td>Pago del día</td>\n",
       "      <td>ASP INTEGRA OPC</td>\n",
       "      <td>Edwin Geovanny Martinez Espinoza</td>\n",
       "      <td>659802020000006947</td>\n",
       "      <td>ERROR</td>\n",
       "      <td>NaN</td>\n",
       "      <td>16:00</td>\n",
       "      <td>BANAMEX</td>\n",
       "      <td>Dispersión-FP 2021-07-01.xlsx</td>\n",
       "      <td>2021-07-01</td>\n",
       "    </tr>\n",
       "    <tr>\n",
       "      <th>2</th>\n",
       "      <td>0066923e-c6b1-4977-a46e-e23a67fab06e</td>\n",
       "      <td>POP FRIES</td>\n",
       "      <td>mispopfries@gmail.com</td>\n",
       "      <td>5PY7HGP8N</td>\n",
       "      <td>2021-07-01</td>\n",
       "      <td>0.94</td>\n",
       "      <td>Pago del día</td>\n",
       "      <td>ASP INTEGRA OPC</td>\n",
       "      <td>Manuel Guillermo Torres Fernandez</td>\n",
       "      <td>659802020000006659</td>\n",
       "      <td>PAID</td>\n",
       "      <td>2021-07-01,17A62B33682747FB,40002,90659,659802...</td>\n",
       "      <td>09:00</td>\n",
       "      <td>BANAMEX</td>\n",
       "      <td>Dispersión-FP 2021-07-01.xlsx</td>\n",
       "      <td>2021-07-01</td>\n",
       "    </tr>\n",
       "    <tr>\n",
       "      <th>3</th>\n",
       "      <td>0077e8c2-a5fb-4cd6-b373-1c61436b3a80</td>\n",
       "      <td>TRE FRATELLI</td>\n",
       "      <td>lunaqmauricio@icloud.com</td>\n",
       "      <td>4MDLWLZ4V</td>\n",
       "      <td>2021-07-01</td>\n",
       "      <td>305.68</td>\n",
       "      <td>Pago del día</td>\n",
       "      <td>ASP INTEGRA OPC</td>\n",
       "      <td>Mauricio Luna Quiroz</td>\n",
       "      <td>659802020000263706</td>\n",
       "      <td>PAID</td>\n",
       "      <td>2021-07-01,17A62B336FA337CC,40002,90659,659802...</td>\n",
       "      <td>09:00</td>\n",
       "      <td>BANAMEX</td>\n",
       "      <td>Dispersión-FP 2021-07-01.xlsx</td>\n",
       "      <td>2021-07-01</td>\n",
       "    </tr>\n",
       "    <tr>\n",
       "      <th>4</th>\n",
       "      <td>013021c7-dbc0-4eef-bcbd-a2a01454c2c8</td>\n",
       "      <td>Los Guzman</td>\n",
       "      <td>ozkar_8@yahoo.com.mx</td>\n",
       "      <td>55WY9S3KZ</td>\n",
       "      <td>2021-07-01</td>\n",
       "      <td>1,025.32</td>\n",
       "      <td>Pago del día</td>\n",
       "      <td>ASP INTEGRA OPC</td>\n",
       "      <td>Jesus Oscar Guzman Guzman</td>\n",
       "      <td>659802020000071480</td>\n",
       "      <td>PAID</td>\n",
       "      <td>2021-07-01,17A62B337186DC57,40002,90659,659802...</td>\n",
       "      <td>09:00</td>\n",
       "      <td>BANAMEX</td>\n",
       "      <td>Dispersión-FP 2021-07-01.xlsx</td>\n",
       "      <td>2021-07-01</td>\n",
       "    </tr>\n",
       "  </tbody>\n",
       "</table>\n",
       "</div>"
      ],
      "text/plain": [
       "                            merchant_id                      merchant_name  \\\n",
       "0  11a19ae1-4ac5-4a35-94dd-350311d02ab6  Consultores Juridicos Y Asociados   \n",
       "1  a3ad3de6-46d0-4803-8d9f-dc9c64c6f908                        CanepaTours   \n",
       "2  0066923e-c6b1-4977-a46e-e23a67fab06e                          POP FRIES   \n",
       "3  0077e8c2-a5fb-4cd6-b373-1c61436b3a80                       TRE FRATELLI   \n",
       "4  013021c7-dbc0-4eef-bcbd-a2a01454c2c8                         Los Guzman   \n",
       "\n",
       "                   user_email  report_id report_date_local  total_due  \\\n",
       "0  manuel.ariosto@outlook.com  33ZMZ26PY        2021-07-01  21,081.28   \n",
       "1        canepita16@gmail.com  CRNPX3XDT        2021-07-01  28,977.18   \n",
       "2       mispopfries@gmail.com  5PY7HGP8N        2021-07-01       0.94   \n",
       "3    lunaqmauricio@icloud.com  4MDLWLZ4V        2021-07-01     305.68   \n",
       "4        ozkar_8@yahoo.com.mx  55WY9S3KZ        2021-07-01   1,025.32   \n",
       "\n",
       "           tipo             bank                               swap  \\\n",
       "0  Pago del día  ASP INTEGRA OPC        Manuel Ariosto Flores Ayala   \n",
       "1  Pago del día  ASP INTEGRA OPC   Edwin Geovanny Martinez Espinoza   \n",
       "2  Pago del día  ASP INTEGRA OPC  Manuel Guillermo Torres Fernandez   \n",
       "3  Pago del día  ASP INTEGRA OPC               Mauricio Luna Quiroz   \n",
       "4  Pago del día  ASP INTEGRA OPC          Jesus Oscar Guzman Guzman   \n",
       "\n",
       "                CLABE status  \\\n",
       "0  659802020000023454  ERROR   \n",
       "1  659802020000006947  ERROR   \n",
       "2  659802020000006659   PAID   \n",
       "3  659802020000263706   PAID   \n",
       "4  659802020000071480   PAID   \n",
       "\n",
       "                                                 CEP   Time Banco_emisor  \\\n",
       "0                                                NaN  09:00      BANAMEX   \n",
       "1                                                NaN  16:00      BANAMEX   \n",
       "2  2021-07-01,17A62B33682747FB,40002,90659,659802...  09:00      BANAMEX   \n",
       "3  2021-07-01,17A62B336FA337CC,40002,90659,659802...  09:00      BANAMEX   \n",
       "4  2021-07-01,17A62B337186DC57,40002,90659,659802...  09:00      BANAMEX   \n",
       "\n",
       "                       file_name date_query  \n",
       "0  Dispersión-FP 2021-07-01.xlsx 2021-07-01  \n",
       "1  Dispersión-FP 2021-07-01.xlsx 2021-07-01  \n",
       "2  Dispersión-FP 2021-07-01.xlsx 2021-07-01  \n",
       "3  Dispersión-FP 2021-07-01.xlsx 2021-07-01  \n",
       "4  Dispersión-FP 2021-07-01.xlsx 2021-07-01  "
      ]
     },
     "execution_count": 5,
     "metadata": {},
     "output_type": "execute_result"
    }
   ],
   "source": [
    "fp_resp_files = pd.concat([pd.read_excel(f,sheet_name='FAST PAYMENTS',converters={'report_id':str})\n",
    "                            .assign(file_name=os.path.basename(f)) for f in allfiles_fp])\n",
    "fp_resp_files['date_query'] = fp_resp_files[\"file_name\"].str[-15:-5]\n",
    "fp_resp_files['date_query']= pd.to_datetime(fp_resp_files['date_query'])\n",
    "fp_resp_files.head()"
   ]
  },
  {
   "cell_type": "code",
   "execution_count": 6,
   "metadata": {},
   "outputs": [
    {
     "data": {
      "text/plain": [
       "(71376, 16)"
      ]
     },
     "execution_count": 6,
     "metadata": {},
     "output_type": "execute_result"
    }
   ],
   "source": [
    "fp_resp_files.shape"
   ]
  },
  {
   "cell_type": "markdown",
   "metadata": {},
   "source": [
    "### CONSOLIDADO TRADICIONAL "
   ]
  },
  {
   "cell_type": "code",
   "execution_count": null,
   "metadata": {},
   "outputs": [],
   "source": [
    "trad_resp_files = pd.concat([pd.read_csv(f,dtype={'Cuenta':object,'report_id':object})\n",
    "                            .assign(file_name=os.path.basename(f)) for f in allfiles_disp_trad])\n",
    "trad_resp_files['date_query'] = trad_resp_files[\"file_name\"].str[-14:-4]\n",
    "trad_resp_files['date_query']= pd.to_datetime(trad_resp_files['date_query'])\n",
    "trad_resp_files.head()"
   ]
  },
  {
   "cell_type": "code",
   "execution_count": null,
   "metadata": {},
   "outputs": [],
   "source": [
    "trad_resp_files.shape"
   ]
  },
  {
   "cell_type": "markdown",
   "metadata": {},
   "source": [
    "### ALL FILES"
   ]
  },
  {
   "cell_type": "code",
   "execution_count": 7,
   "metadata": {},
   "outputs": [
    {
     "data": {
      "text/html": [
       "<div>\n",
       "<style scoped>\n",
       "    .dataframe tbody tr th:only-of-type {\n",
       "        vertical-align: middle;\n",
       "    }\n",
       "\n",
       "    .dataframe tbody tr th {\n",
       "        vertical-align: top;\n",
       "    }\n",
       "\n",
       "    .dataframe thead th {\n",
       "        text-align: right;\n",
       "    }\n",
       "</style>\n",
       "<table border=\"1\" class=\"dataframe\">\n",
       "  <thead>\n",
       "    <tr style=\"text-align: right;\">\n",
       "      <th></th>\n",
       "      <th>merchant_id</th>\n",
       "      <th>merchant_name</th>\n",
       "      <th>user_email</th>\n",
       "      <th>report_id</th>\n",
       "      <th>report_date_local</th>\n",
       "      <th>total_due</th>\n",
       "      <th>tipo</th>\n",
       "      <th>bank</th>\n",
       "      <th>swap</th>\n",
       "      <th>CLABE</th>\n",
       "      <th>status</th>\n",
       "      <th>CEP</th>\n",
       "      <th>Time</th>\n",
       "      <th>Banco_emisor</th>\n",
       "      <th>file_name</th>\n",
       "      <th>date_query</th>\n",
       "    </tr>\n",
       "  </thead>\n",
       "  <tbody>\n",
       "    <tr>\n",
       "      <th>0</th>\n",
       "      <td>11a19ae1-4ac5-4a35-94dd-350311d02ab6</td>\n",
       "      <td>Consultores Juridicos Y Asociados</td>\n",
       "      <td>manuel.ariosto@outlook.com</td>\n",
       "      <td>33ZMZ26PY</td>\n",
       "      <td>2021-07-01</td>\n",
       "      <td>21,081.28</td>\n",
       "      <td>Pago del día</td>\n",
       "      <td>ASP INTEGRA OPC</td>\n",
       "      <td>Manuel Ariosto Flores Ayala</td>\n",
       "      <td>659802020000023454</td>\n",
       "      <td>ERROR</td>\n",
       "      <td>BLANK</td>\n",
       "      <td>09:00</td>\n",
       "      <td>BANAMEX</td>\n",
       "      <td>Dispersión-FP 2021-07-01.xlsx</td>\n",
       "      <td>2021-07-01</td>\n",
       "    </tr>\n",
       "    <tr>\n",
       "      <th>2407</th>\n",
       "      <td>45857132-585b-46fa-82b3-1e8910c8a077</td>\n",
       "      <td>Abarrotes Coronado</td>\n",
       "      <td>ely.hdez21@gmail.com</td>\n",
       "      <td>C38DV6DH4</td>\n",
       "      <td>2021-07-01</td>\n",
       "      <td>122.18</td>\n",
       "      <td>Pago del día</td>\n",
       "      <td>ASP INTEGRA OPC</td>\n",
       "      <td>Elizabeth Buitimea Hernandez</td>\n",
       "      <td>659802020000179845</td>\n",
       "      <td>PAID</td>\n",
       "      <td>2021-07-01,17A650FC5D408F0D,40002,90659,659802...</td>\n",
       "      <td>21:00</td>\n",
       "      <td>BANAMEX</td>\n",
       "      <td>Dispersión-FP 2021-07-01.xlsx</td>\n",
       "      <td>2021-07-01</td>\n",
       "    </tr>\n",
       "    <tr>\n",
       "      <th>2408</th>\n",
       "      <td>45a140de-d0bc-48cd-9e01-7a3426158447</td>\n",
       "      <td>abarrotes juany</td>\n",
       "      <td>j.garza67@hotmail.com</td>\n",
       "      <td>JSLR9XX4Y</td>\n",
       "      <td>2021-07-01</td>\n",
       "      <td>55.58</td>\n",
       "      <td>Pago del día</td>\n",
       "      <td>ASP INTEGRA OPC</td>\n",
       "      <td>juanita vina yebra</td>\n",
       "      <td>659802020000105961</td>\n",
       "      <td>PAID</td>\n",
       "      <td>2021-07-01,17A650FC30AE2A33,40002,90659,659802...</td>\n",
       "      <td>21:00</td>\n",
       "      <td>BANAMEX</td>\n",
       "      <td>Dispersión-FP 2021-07-01.xlsx</td>\n",
       "      <td>2021-07-01</td>\n",
       "    </tr>\n",
       "    <tr>\n",
       "      <th>2409</th>\n",
       "      <td>45b69f6c-2659-426b-94e2-35ccebc9dade</td>\n",
       "      <td>Abarrotes</td>\n",
       "      <td>mgdyana7@gmail.com</td>\n",
       "      <td>WBVSWZ9ZC</td>\n",
       "      <td>2021-07-01</td>\n",
       "      <td>41.20</td>\n",
       "      <td>Pago del día</td>\n",
       "      <td>ASP INTEGRA OPC</td>\n",
       "      <td>Diana guadalupe Martinez Garza</td>\n",
       "      <td>659802020000192576</td>\n",
       "      <td>PAID</td>\n",
       "      <td>2021-07-01,17A650FC47CFD9EC,40002,90659,659802...</td>\n",
       "      <td>21:00</td>\n",
       "      <td>BANAMEX</td>\n",
       "      <td>Dispersión-FP 2021-07-01.xlsx</td>\n",
       "      <td>2021-07-01</td>\n",
       "    </tr>\n",
       "    <tr>\n",
       "      <th>2410</th>\n",
       "      <td>45d6535c-26ce-4d5d-ab7d-b475d6555fe9</td>\n",
       "      <td>Carnicera la Pasadita</td>\n",
       "      <td>cesargiovanni25091987@gmail.com</td>\n",
       "      <td>B64YZNJSH</td>\n",
       "      <td>2021-07-01</td>\n",
       "      <td>437.92</td>\n",
       "      <td>Pago del día</td>\n",
       "      <td>ASP INTEGRA OPC</td>\n",
       "      <td>Cesar Giovanni Rodriguez Noriega</td>\n",
       "      <td>659802020000182845</td>\n",
       "      <td>PAID</td>\n",
       "      <td>2021-07-01,17A650FC3A8CA798,40002,90659,659802...</td>\n",
       "      <td>21:00</td>\n",
       "      <td>BANAMEX</td>\n",
       "      <td>Dispersión-FP 2021-07-01.xlsx</td>\n",
       "      <td>2021-07-01</td>\n",
       "    </tr>\n",
       "  </tbody>\n",
       "</table>\n",
       "</div>"
      ],
      "text/plain": [
       "                               merchant_id                      merchant_name  \\\n",
       "0     11a19ae1-4ac5-4a35-94dd-350311d02ab6  Consultores Juridicos Y Asociados   \n",
       "2407  45857132-585b-46fa-82b3-1e8910c8a077                 Abarrotes Coronado   \n",
       "2408  45a140de-d0bc-48cd-9e01-7a3426158447                    abarrotes juany   \n",
       "2409  45b69f6c-2659-426b-94e2-35ccebc9dade                          Abarrotes   \n",
       "2410  45d6535c-26ce-4d5d-ab7d-b475d6555fe9              Carnicera la Pasadita   \n",
       "\n",
       "                           user_email  report_id report_date_local  total_due  \\\n",
       "0          manuel.ariosto@outlook.com  33ZMZ26PY        2021-07-01  21,081.28   \n",
       "2407             ely.hdez21@gmail.com  C38DV6DH4        2021-07-01     122.18   \n",
       "2408            j.garza67@hotmail.com  JSLR9XX4Y        2021-07-01      55.58   \n",
       "2409               mgdyana7@gmail.com  WBVSWZ9ZC        2021-07-01      41.20   \n",
       "2410  cesargiovanni25091987@gmail.com  B64YZNJSH        2021-07-01     437.92   \n",
       "\n",
       "              tipo             bank                              swap  \\\n",
       "0     Pago del día  ASP INTEGRA OPC       Manuel Ariosto Flores Ayala   \n",
       "2407  Pago del día  ASP INTEGRA OPC      Elizabeth Buitimea Hernandez   \n",
       "2408  Pago del día  ASP INTEGRA OPC                juanita vina yebra   \n",
       "2409  Pago del día  ASP INTEGRA OPC    Diana guadalupe Martinez Garza   \n",
       "2410  Pago del día  ASP INTEGRA OPC  Cesar Giovanni Rodriguez Noriega   \n",
       "\n",
       "                   CLABE status  \\\n",
       "0     659802020000023454  ERROR   \n",
       "2407  659802020000179845   PAID   \n",
       "2408  659802020000105961   PAID   \n",
       "2409  659802020000192576   PAID   \n",
       "2410  659802020000182845   PAID   \n",
       "\n",
       "                                                    CEP   Time Banco_emisor  \\\n",
       "0                                                 BLANK  09:00      BANAMEX   \n",
       "2407  2021-07-01,17A650FC5D408F0D,40002,90659,659802...  21:00      BANAMEX   \n",
       "2408  2021-07-01,17A650FC30AE2A33,40002,90659,659802...  21:00      BANAMEX   \n",
       "2409  2021-07-01,17A650FC47CFD9EC,40002,90659,659802...  21:00      BANAMEX   \n",
       "2410  2021-07-01,17A650FC3A8CA798,40002,90659,659802...  21:00      BANAMEX   \n",
       "\n",
       "                          file_name date_query  \n",
       "0     Dispersión-FP 2021-07-01.xlsx 2021-07-01  \n",
       "2407  Dispersión-FP 2021-07-01.xlsx 2021-07-01  \n",
       "2408  Dispersión-FP 2021-07-01.xlsx 2021-07-01  \n",
       "2409  Dispersión-FP 2021-07-01.xlsx 2021-07-01  \n",
       "2410  Dispersión-FP 2021-07-01.xlsx 2021-07-01  "
      ]
     },
     "execution_count": 7,
     "metadata": {},
     "output_type": "execute_result"
    }
   ],
   "source": [
    "allfiles = pd.concat([fp_resp_files])\n",
    "allfiles.fillna('BLANK',inplace=True)\n",
    "allfiles['date_query']= pd.to_datetime(allfiles['date_query'])\n",
    "allfiles.sort_values(by=['date_query'],inplace=True)\n",
    "allfiles.head()"
   ]
  },
  {
   "cell_type": "code",
   "execution_count": 8,
   "metadata": {},
   "outputs": [
    {
     "data": {
      "text/plain": [
       "(71376, 16)"
      ]
     },
     "execution_count": 8,
     "metadata": {},
     "output_type": "execute_result"
    }
   ],
   "source": [
    "allfiles.shape"
   ]
  },
  {
   "cell_type": "markdown",
   "metadata": {},
   "source": [
    "### CHECK REPORT_ID"
   ]
  },
  {
   "cell_type": "code",
   "execution_count": 9,
   "metadata": {
    "scrolled": true
   },
   "outputs": [
    {
     "name": "stderr",
     "output_type": "stream",
     "text": [
      "C:\\Users\\Cristian.Aparicio\\anaconda3\\lib\\site-packages\\ipykernel_launcher.py:2: SettingWithCopyWarning: \n",
      "A value is trying to be set on a copy of a slice from a DataFrame\n",
      "\n",
      "See the caveats in the documentation: https://pandas.pydata.org/pandas-docs/stable/user_guide/indexing.html#returning-a-view-versus-a-copy\n",
      "  \n"
     ]
    },
    {
     "data": {
      "text/html": [
       "<div>\n",
       "<style scoped>\n",
       "    .dataframe tbody tr th:only-of-type {\n",
       "        vertical-align: middle;\n",
       "    }\n",
       "\n",
       "    .dataframe tbody tr th {\n",
       "        vertical-align: top;\n",
       "    }\n",
       "\n",
       "    .dataframe thead th {\n",
       "        text-align: right;\n",
       "    }\n",
       "</style>\n",
       "<table border=\"1\" class=\"dataframe\">\n",
       "  <thead>\n",
       "    <tr style=\"text-align: right;\">\n",
       "      <th></th>\n",
       "      <th>merchant_id</th>\n",
       "      <th>merchant_name</th>\n",
       "      <th>user_email</th>\n",
       "      <th>report_id</th>\n",
       "      <th>report_date_local</th>\n",
       "      <th>total_due</th>\n",
       "      <th>tipo</th>\n",
       "      <th>bank</th>\n",
       "      <th>swap</th>\n",
       "      <th>CLABE</th>\n",
       "      <th>status</th>\n",
       "      <th>CEP</th>\n",
       "      <th>Time</th>\n",
       "      <th>Banco_emisor</th>\n",
       "      <th>file_name</th>\n",
       "      <th>date_query</th>\n",
       "    </tr>\n",
       "  </thead>\n",
       "  <tbody>\n",
       "    <tr>\n",
       "      <th>907</th>\n",
       "      <td>29557d9b-4993-42ea-a60f-ccb843d5aec9</td>\n",
       "      <td>Green Cup</td>\n",
       "      <td>nslaurent89@outlook.com</td>\n",
       "      <td>LD566WSCK</td>\n",
       "      <td>2021-07-12</td>\n",
       "      <td>556.88</td>\n",
       "      <td>Pago del día</td>\n",
       "      <td>ASP INTEGRA OPC</td>\n",
       "      <td>Omar Francisco Robles Flores</td>\n",
       "      <td>659802020000277983</td>\n",
       "      <td>PAID</td>\n",
       "      <td>2021-07-12,17A9CA2022DB42AD,40002,90659,659802...</td>\n",
       "      <td>16:00</td>\n",
       "      <td>BANAMEX</td>\n",
       "      <td>Dispersión-FP 2021-07-12.xlsx</td>\n",
       "      <td>2021-07-12</td>\n",
       "    </tr>\n",
       "  </tbody>\n",
       "</table>\n",
       "</div>"
      ],
      "text/plain": [
       "                              merchant_id merchant_name  \\\n",
       "907  29557d9b-4993-42ea-a60f-ccb843d5aec9     Green Cup   \n",
       "\n",
       "                  user_email  report_id report_date_local  total_due  \\\n",
       "907  nslaurent89@outlook.com  LD566WSCK        2021-07-12     556.88   \n",
       "\n",
       "             tipo             bank                          swap  \\\n",
       "907  Pago del día  ASP INTEGRA OPC  Omar Francisco Robles Flores   \n",
       "\n",
       "                  CLABE status  \\\n",
       "907  659802020000277983   PAID   \n",
       "\n",
       "                                                   CEP   Time Banco_emisor  \\\n",
       "907  2021-07-12,17A9CA2022DB42AD,40002,90659,659802...  16:00      BANAMEX   \n",
       "\n",
       "                         file_name date_query  \n",
       "907  Dispersión-FP 2021-07-12.xlsx 2021-07-12  "
      ]
     },
     "execution_count": 9,
     "metadata": {},
     "output_type": "execute_result"
    }
   ],
   "source": [
    "check = allfiles[(allfiles['CEP'].str.contains('17A9CA2022DB42AD'))]\n",
    "check.sort_values(by=['date_query'],ascending=False,inplace=True)\n",
    "#check.drop_duplicates(subset =\"report_id\", keep = 'first', inplace = True)\n",
    "check.head()"
   ]
  },
  {
   "cell_type": "code",
   "execution_count": 20,
   "metadata": {},
   "outputs": [
    {
     "data": {
      "text/plain": [
       "(0, 28)"
      ]
     },
     "execution_count": 20,
     "metadata": {},
     "output_type": "execute_result"
    }
   ],
   "source": [
    "check.shape"
   ]
  },
  {
   "cell_type": "code",
   "execution_count": null,
   "metadata": {},
   "outputs": [],
   "source": []
  }
 ],
 "metadata": {
  "kernelspec": {
   "display_name": "Python 3",
   "language": "python",
   "name": "python3"
  },
  "language_info": {
   "codemirror_mode": {
    "name": "ipython",
    "version": 3
   },
   "file_extension": ".py",
   "mimetype": "text/x-python",
   "name": "python",
   "nbconvert_exporter": "python",
   "pygments_lexer": "ipython3",
   "version": "3.7.6"
  }
 },
 "nbformat": 4,
 "nbformat_minor": 4
}
