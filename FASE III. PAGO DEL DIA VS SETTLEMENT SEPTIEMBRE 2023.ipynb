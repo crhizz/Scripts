{
 "cells": [
  {
   "cell_type": "code",
   "execution_count": 1,
   "metadata": {},
   "outputs": [],
   "source": [
    "import pandas as pd\n",
    "import numpy as np\n",
    "import glob\n",
    "import os\n",
    "from openpyxl import load_workbook\n",
    "from functools import reduce\n",
    "pd.options.display.float_format = '{:,.2f}'.format"
   ]
  },
  {
   "cell_type": "markdown",
   "metadata": {},
   "source": [
    "#### ACUMULADO"
   ]
  },
  {
   "cell_type": "code",
   "execution_count": 2,
   "metadata": {},
   "outputs": [
    {
     "data": {
      "text/plain": [
       "['C:\\\\Users\\\\Cristian.Aparicio\\\\Documents\\\\DISPERSIONES\\\\2023\\\\09. SEPTIEMBRE\\\\QUERIES\\\\SETTLEMENT 2023-09-01.csv',\n",
       " 'C:\\\\Users\\\\Cristian.Aparicio\\\\Documents\\\\DISPERSIONES\\\\2023\\\\09. SEPTIEMBRE\\\\QUERIES\\\\SETTLEMENT 2023-09-02.csv',\n",
       " 'C:\\\\Users\\\\Cristian.Aparicio\\\\Documents\\\\DISPERSIONES\\\\2023\\\\09. SEPTIEMBRE\\\\QUERIES\\\\SETTLEMENT 2023-09-03.csv',\n",
       " 'C:\\\\Users\\\\Cristian.Aparicio\\\\Documents\\\\DISPERSIONES\\\\2023\\\\09. SEPTIEMBRE\\\\QUERIES\\\\SETTLEMENT 2023-09-04.csv',\n",
       " 'C:\\\\Users\\\\Cristian.Aparicio\\\\Documents\\\\DISPERSIONES\\\\2023\\\\09. SEPTIEMBRE\\\\QUERIES\\\\SETTLEMENT 2023-09-05.csv',\n",
       " 'C:\\\\Users\\\\Cristian.Aparicio\\\\Documents\\\\DISPERSIONES\\\\2023\\\\09. SEPTIEMBRE\\\\QUERIES\\\\SETTLEMENT 2023-09-06.csv',\n",
       " 'C:\\\\Users\\\\Cristian.Aparicio\\\\Documents\\\\DISPERSIONES\\\\2023\\\\09. SEPTIEMBRE\\\\QUERIES\\\\SETTLEMENT 2023-09-07.csv',\n",
       " 'C:\\\\Users\\\\Cristian.Aparicio\\\\Documents\\\\DISPERSIONES\\\\2023\\\\09. SEPTIEMBRE\\\\QUERIES\\\\SETTLEMENT 2023-09-08.csv',\n",
       " 'C:\\\\Users\\\\Cristian.Aparicio\\\\Documents\\\\DISPERSIONES\\\\2023\\\\09. SEPTIEMBRE\\\\QUERIES\\\\SETTLEMENT 2023-09-09.csv',\n",
       " 'C:\\\\Users\\\\Cristian.Aparicio\\\\Documents\\\\DISPERSIONES\\\\2023\\\\09. SEPTIEMBRE\\\\QUERIES\\\\SETTLEMENT 2023-09-10.csv',\n",
       " 'C:\\\\Users\\\\Cristian.Aparicio\\\\Documents\\\\DISPERSIONES\\\\2023\\\\09. SEPTIEMBRE\\\\QUERIES\\\\SETTLEMENT 2023-09-11.csv',\n",
       " 'C:\\\\Users\\\\Cristian.Aparicio\\\\Documents\\\\DISPERSIONES\\\\2023\\\\09. SEPTIEMBRE\\\\QUERIES\\\\SETTLEMENT 2023-09-12.csv',\n",
       " 'C:\\\\Users\\\\Cristian.Aparicio\\\\Documents\\\\DISPERSIONES\\\\2023\\\\09. SEPTIEMBRE\\\\QUERIES\\\\SETTLEMENT 2023-09-13.csv',\n",
       " 'C:\\\\Users\\\\Cristian.Aparicio\\\\Documents\\\\DISPERSIONES\\\\2023\\\\09. SEPTIEMBRE\\\\QUERIES\\\\SETTLEMENT 2023-09-14.csv',\n",
       " 'C:\\\\Users\\\\Cristian.Aparicio\\\\Documents\\\\DISPERSIONES\\\\2023\\\\09. SEPTIEMBRE\\\\QUERIES\\\\SETTLEMENT 2023-09-15.csv',\n",
       " 'C:\\\\Users\\\\Cristian.Aparicio\\\\Documents\\\\DISPERSIONES\\\\2023\\\\09. SEPTIEMBRE\\\\QUERIES\\\\SETTLEMENT 2023-09-16.csv',\n",
       " 'C:\\\\Users\\\\Cristian.Aparicio\\\\Documents\\\\DISPERSIONES\\\\2023\\\\09. SEPTIEMBRE\\\\QUERIES\\\\SETTLEMENT 2023-09-17.csv',\n",
       " 'C:\\\\Users\\\\Cristian.Aparicio\\\\Documents\\\\DISPERSIONES\\\\2023\\\\09. SEPTIEMBRE\\\\QUERIES\\\\SETTLEMENT 2023-09-18.csv',\n",
       " 'C:\\\\Users\\\\Cristian.Aparicio\\\\Documents\\\\DISPERSIONES\\\\2023\\\\09. SEPTIEMBRE\\\\QUERIES\\\\SETTLEMENT 2023-09-19.csv',\n",
       " 'C:\\\\Users\\\\Cristian.Aparicio\\\\Documents\\\\DISPERSIONES\\\\2023\\\\09. SEPTIEMBRE\\\\QUERIES\\\\SETTLEMENT 2023-09-20.csv',\n",
       " 'C:\\\\Users\\\\Cristian.Aparicio\\\\Documents\\\\DISPERSIONES\\\\2023\\\\09. SEPTIEMBRE\\\\QUERIES\\\\SETTLEMENT 2023-09-21.csv',\n",
       " 'C:\\\\Users\\\\Cristian.Aparicio\\\\Documents\\\\DISPERSIONES\\\\2023\\\\09. SEPTIEMBRE\\\\QUERIES\\\\SETTLEMENT 2023-09-22.csv',\n",
       " 'C:\\\\Users\\\\Cristian.Aparicio\\\\Documents\\\\DISPERSIONES\\\\2023\\\\09. SEPTIEMBRE\\\\QUERIES\\\\SETTLEMENT 2023-09-23.csv',\n",
       " 'C:\\\\Users\\\\Cristian.Aparicio\\\\Documents\\\\DISPERSIONES\\\\2023\\\\09. SEPTIEMBRE\\\\QUERIES\\\\SETTLEMENT 2023-09-24.csv',\n",
       " 'C:\\\\Users\\\\Cristian.Aparicio\\\\Documents\\\\DISPERSIONES\\\\2023\\\\09. SEPTIEMBRE\\\\QUERIES\\\\SETTLEMENT 2023-09-25.csv',\n",
       " 'C:\\\\Users\\\\Cristian.Aparicio\\\\Documents\\\\DISPERSIONES\\\\2023\\\\09. SEPTIEMBRE\\\\QUERIES\\\\SETTLEMENT 2023-09-26.csv',\n",
       " 'C:\\\\Users\\\\Cristian.Aparicio\\\\Documents\\\\DISPERSIONES\\\\2023\\\\09. SEPTIEMBRE\\\\QUERIES\\\\SETTLEMENT 2023-09-27.csv',\n",
       " 'C:\\\\Users\\\\Cristian.Aparicio\\\\Documents\\\\DISPERSIONES\\\\2023\\\\09. SEPTIEMBRE\\\\QUERIES\\\\SETTLEMENT 2023-09-28.csv',\n",
       " 'C:\\\\Users\\\\Cristian.Aparicio\\\\Documents\\\\DISPERSIONES\\\\2023\\\\09. SEPTIEMBRE\\\\QUERIES\\\\SETTLEMENT 2023-09-29.csv',\n",
       " 'C:\\\\Users\\\\Cristian.Aparicio\\\\Documents\\\\DISPERSIONES\\\\2023\\\\09. SEPTIEMBRE\\\\QUERIES\\\\SETTLEMENT 2023-09-30.csv']"
      ]
     },
     "execution_count": 2,
     "metadata": {},
     "output_type": "execute_result"
    }
   ],
   "source": [
    "cumfiles = glob.glob(r'C:\\Users\\Cristian.Aparicio\\Documents\\DISPERSIONES\\2023\\09. SEPTIEMBRE\\QUERIES\\*.csv', recursive=False)\n",
    "cumfiles"
   ]
  },
  {
   "cell_type": "code",
   "execution_count": 3,
   "metadata": {},
   "outputs": [
    {
     "data": {
      "text/html": [
       "<div>\n",
       "<style scoped>\n",
       "    .dataframe tbody tr th:only-of-type {\n",
       "        vertical-align: middle;\n",
       "    }\n",
       "\n",
       "    .dataframe tbody tr th {\n",
       "        vertical-align: top;\n",
       "    }\n",
       "\n",
       "    .dataframe thead th {\n",
       "        text-align: right;\n",
       "    }\n",
       "</style>\n",
       "<table border=\"1\" class=\"dataframe\">\n",
       "  <thead>\n",
       "    <tr style=\"text-align: right;\">\n",
       "      <th></th>\n",
       "      <th>merchant_id</th>\n",
       "      <th>merchant_name</th>\n",
       "      <th>user_email</th>\n",
       "      <th>report_id</th>\n",
       "      <th>report_date_local</th>\n",
       "      <th>total_transactions</th>\n",
       "      <th>total_fees_charged</th>\n",
       "      <th>total_taxes</th>\n",
       "      <th>applied_fees_benefits</th>\n",
       "      <th>applied_taxes_benefits</th>\n",
       "      <th>...</th>\n",
       "      <th>total_released</th>\n",
       "      <th>total_retained</th>\n",
       "      <th>tipopago</th>\n",
       "      <th>total_due</th>\n",
       "      <th>type</th>\n",
       "      <th>created_date</th>\n",
       "      <th>created_time</th>\n",
       "      <th>updated_date</th>\n",
       "      <th>updated_time</th>\n",
       "      <th>file_name</th>\n",
       "    </tr>\n",
       "  </thead>\n",
       "  <tbody>\n",
       "  </tbody>\n",
       "</table>\n",
       "<p>0 rows × 26 columns</p>\n",
       "</div>"
      ],
      "text/plain": [
       "Empty DataFrame\n",
       "Columns: [merchant_id, merchant_name, user_email, report_id, report_date_local, total_transactions, total_fees_charged, total_taxes, applied_fees_benefits, applied_taxes_benefits, fee_direct_deposit, taxes_direct_deposit, total_adjustments, total_adjustment_fees_charged, total_adjustment_taxes, cobranza, total_released, total_retained, tipopago, total_due, type, created_date, created_time, updated_date, updated_time, file_name]\n",
       "Index: []\n",
       "\n",
       "[0 rows x 26 columns]"
      ]
     },
     "execution_count": 3,
     "metadata": {},
     "output_type": "execute_result"
    }
   ],
   "source": [
    "cum_1 = pd.concat([pd.read_csv(f).assign(file_name=os.path.basename(f)) for f in cumfiles])\n",
    "cum_1.columns = cum_1.columns.str.strip().str.lower() \n",
    "cum_1['report_date_local']= pd.to_datetime(cum_1['report_date_local']) \n",
    "cum_1.head()"
   ]
  },
  {
   "cell_type": "code",
   "execution_count": 4,
   "metadata": {},
   "outputs": [
    {
     "data": {
      "text/plain": [
       "(0, 26)"
      ]
     },
     "execution_count": 4,
     "metadata": {},
     "output_type": "execute_result"
    }
   ],
   "source": [
    "cum_1.shape"
   ]
  },
  {
   "cell_type": "code",
   "execution_count": 5,
   "metadata": {},
   "outputs": [
    {
     "data": {
      "text/html": [
       "<div>\n",
       "<style scoped>\n",
       "    .dataframe tbody tr th:only-of-type {\n",
       "        vertical-align: middle;\n",
       "    }\n",
       "\n",
       "    .dataframe tbody tr th {\n",
       "        vertical-align: top;\n",
       "    }\n",
       "\n",
       "    .dataframe thead th {\n",
       "        text-align: right;\n",
       "    }\n",
       "</style>\n",
       "<table border=\"1\" class=\"dataframe\">\n",
       "  <thead>\n",
       "    <tr style=\"text-align: right;\">\n",
       "      <th></th>\n",
       "      <th>merchant_id</th>\n",
       "      <th>merchant_name</th>\n",
       "      <th>user_email</th>\n",
       "      <th>report_id</th>\n",
       "      <th>report_date_local</th>\n",
       "      <th>total_transactions</th>\n",
       "      <th>total_fees_charged</th>\n",
       "      <th>total_taxes</th>\n",
       "      <th>applied_fees_benefits</th>\n",
       "      <th>applied_taxes_benefits</th>\n",
       "      <th>...</th>\n",
       "      <th>total_released</th>\n",
       "      <th>total_retained</th>\n",
       "      <th>tipopago</th>\n",
       "      <th>total_due</th>\n",
       "      <th>type</th>\n",
       "      <th>created_date</th>\n",
       "      <th>created_time</th>\n",
       "      <th>updated_date</th>\n",
       "      <th>updated_time</th>\n",
       "      <th>file_name</th>\n",
       "    </tr>\n",
       "  </thead>\n",
       "  <tbody>\n",
       "  </tbody>\n",
       "</table>\n",
       "<p>0 rows × 26 columns</p>\n",
       "</div>"
      ],
      "text/plain": [
       "Empty DataFrame\n",
       "Columns: [merchant_id, merchant_name, user_email, report_id, report_date_local, total_transactions, total_fees_charged, total_taxes, applied_fees_benefits, applied_taxes_benefits, fee_direct_deposit, taxes_direct_deposit, total_adjustments, total_adjustment_fees_charged, total_adjustment_taxes, cobranza, total_released, total_retained, tipopago, total_due, type, created_date, created_time, updated_date, updated_time, file_name]\n",
       "Index: []\n",
       "\n",
       "[0 rows x 26 columns]"
      ]
     },
     "execution_count": 5,
     "metadata": {},
     "output_type": "execute_result"
    }
   ],
   "source": [
    "cum_distinct_0 = cum_1[(cum_1['total_due'] != 0)]\n",
    "cum_distinct_0.head()"
   ]
  },
  {
   "cell_type": "code",
   "execution_count": 6,
   "metadata": {},
   "outputs": [
    {
     "data": {
      "text/plain": [
       "(0, 26)"
      ]
     },
     "execution_count": 6,
     "metadata": {},
     "output_type": "execute_result"
    }
   ],
   "source": [
    "cum_distinct_0.shape"
   ]
  },
  {
   "cell_type": "markdown",
   "metadata": {},
   "source": [
    "#### PAGOS DE DISPERSIONES"
   ]
  },
  {
   "cell_type": "code",
   "execution_count": 7,
   "metadata": {},
   "outputs": [
    {
     "data": {
      "text/plain": [
       "['C:\\\\Users\\\\Cristian.Aparicio\\\\Documents\\\\DISPERSIONES\\\\2023\\\\09. SEPTIEMBRE\\\\ARCHIVO DISPERSIONES\\\\Dispersión-20230901.xlsx',\n",
       " 'C:\\\\Users\\\\Cristian.Aparicio\\\\Documents\\\\DISPERSIONES\\\\2023\\\\09. SEPTIEMBRE\\\\ARCHIVO DISPERSIONES\\\\Dispersión-20230902.xlsx',\n",
       " 'C:\\\\Users\\\\Cristian.Aparicio\\\\Documents\\\\DISPERSIONES\\\\2023\\\\09. SEPTIEMBRE\\\\ARCHIVO DISPERSIONES\\\\Dispersión-20230903.xlsx',\n",
       " 'C:\\\\Users\\\\Cristian.Aparicio\\\\Documents\\\\DISPERSIONES\\\\2023\\\\09. SEPTIEMBRE\\\\ARCHIVO DISPERSIONES\\\\Dispersión-20230904.xlsx',\n",
       " 'C:\\\\Users\\\\Cristian.Aparicio\\\\Documents\\\\DISPERSIONES\\\\2023\\\\09. SEPTIEMBRE\\\\ARCHIVO DISPERSIONES\\\\Dispersión-20230905.xlsx',\n",
       " 'C:\\\\Users\\\\Cristian.Aparicio\\\\Documents\\\\DISPERSIONES\\\\2023\\\\09. SEPTIEMBRE\\\\ARCHIVO DISPERSIONES\\\\Dispersión-20230906.xlsx',\n",
       " 'C:\\\\Users\\\\Cristian.Aparicio\\\\Documents\\\\DISPERSIONES\\\\2023\\\\09. SEPTIEMBRE\\\\ARCHIVO DISPERSIONES\\\\Dispersión-20230907.xlsx',\n",
       " 'C:\\\\Users\\\\Cristian.Aparicio\\\\Documents\\\\DISPERSIONES\\\\2023\\\\09. SEPTIEMBRE\\\\ARCHIVO DISPERSIONES\\\\Dispersión-20230908.xlsx',\n",
       " 'C:\\\\Users\\\\Cristian.Aparicio\\\\Documents\\\\DISPERSIONES\\\\2023\\\\09. SEPTIEMBRE\\\\ARCHIVO DISPERSIONES\\\\Dispersión-20230909.xlsx',\n",
       " 'C:\\\\Users\\\\Cristian.Aparicio\\\\Documents\\\\DISPERSIONES\\\\2023\\\\09. SEPTIEMBRE\\\\ARCHIVO DISPERSIONES\\\\Dispersión-20230910.xlsx',\n",
       " 'C:\\\\Users\\\\Cristian.Aparicio\\\\Documents\\\\DISPERSIONES\\\\2023\\\\09. SEPTIEMBRE\\\\ARCHIVO DISPERSIONES\\\\Dispersión-20230911.xlsx',\n",
       " 'C:\\\\Users\\\\Cristian.Aparicio\\\\Documents\\\\DISPERSIONES\\\\2023\\\\09. SEPTIEMBRE\\\\ARCHIVO DISPERSIONES\\\\Dispersión-20230912.xlsx',\n",
       " 'C:\\\\Users\\\\Cristian.Aparicio\\\\Documents\\\\DISPERSIONES\\\\2023\\\\09. SEPTIEMBRE\\\\ARCHIVO DISPERSIONES\\\\Dispersión-20230913.xlsx',\n",
       " 'C:\\\\Users\\\\Cristian.Aparicio\\\\Documents\\\\DISPERSIONES\\\\2023\\\\09. SEPTIEMBRE\\\\ARCHIVO DISPERSIONES\\\\Dispersión-20230914.xlsx',\n",
       " 'C:\\\\Users\\\\Cristian.Aparicio\\\\Documents\\\\DISPERSIONES\\\\2023\\\\09. SEPTIEMBRE\\\\ARCHIVO DISPERSIONES\\\\Dispersión-20230915.xlsx',\n",
       " 'C:\\\\Users\\\\Cristian.Aparicio\\\\Documents\\\\DISPERSIONES\\\\2023\\\\09. SEPTIEMBRE\\\\ARCHIVO DISPERSIONES\\\\Dispersión-20230916.xlsx',\n",
       " 'C:\\\\Users\\\\Cristian.Aparicio\\\\Documents\\\\DISPERSIONES\\\\2023\\\\09. SEPTIEMBRE\\\\ARCHIVO DISPERSIONES\\\\Dispersión-20230917.xlsx',\n",
       " 'C:\\\\Users\\\\Cristian.Aparicio\\\\Documents\\\\DISPERSIONES\\\\2023\\\\09. SEPTIEMBRE\\\\ARCHIVO DISPERSIONES\\\\Dispersión-20230918.xlsx',\n",
       " 'C:\\\\Users\\\\Cristian.Aparicio\\\\Documents\\\\DISPERSIONES\\\\2023\\\\09. SEPTIEMBRE\\\\ARCHIVO DISPERSIONES\\\\Dispersión-20230919.xlsx',\n",
       " 'C:\\\\Users\\\\Cristian.Aparicio\\\\Documents\\\\DISPERSIONES\\\\2023\\\\09. SEPTIEMBRE\\\\ARCHIVO DISPERSIONES\\\\Dispersión-20230920.xlsx',\n",
       " 'C:\\\\Users\\\\Cristian.Aparicio\\\\Documents\\\\DISPERSIONES\\\\2023\\\\09. SEPTIEMBRE\\\\ARCHIVO DISPERSIONES\\\\Dispersión-20230921.xlsx',\n",
       " 'C:\\\\Users\\\\Cristian.Aparicio\\\\Documents\\\\DISPERSIONES\\\\2023\\\\09. SEPTIEMBRE\\\\ARCHIVO DISPERSIONES\\\\Dispersión-20230922.xlsx',\n",
       " 'C:\\\\Users\\\\Cristian.Aparicio\\\\Documents\\\\DISPERSIONES\\\\2023\\\\09. SEPTIEMBRE\\\\ARCHIVO DISPERSIONES\\\\Dispersión-20230923.xlsx',\n",
       " 'C:\\\\Users\\\\Cristian.Aparicio\\\\Documents\\\\DISPERSIONES\\\\2023\\\\09. SEPTIEMBRE\\\\ARCHIVO DISPERSIONES\\\\Dispersión-20230924.xlsx',\n",
       " 'C:\\\\Users\\\\Cristian.Aparicio\\\\Documents\\\\DISPERSIONES\\\\2023\\\\09. SEPTIEMBRE\\\\ARCHIVO DISPERSIONES\\\\Dispersión-20230925.xlsx',\n",
       " 'C:\\\\Users\\\\Cristian.Aparicio\\\\Documents\\\\DISPERSIONES\\\\2023\\\\09. SEPTIEMBRE\\\\ARCHIVO DISPERSIONES\\\\Dispersión-20230926.xlsx',\n",
       " 'C:\\\\Users\\\\Cristian.Aparicio\\\\Documents\\\\DISPERSIONES\\\\2023\\\\09. SEPTIEMBRE\\\\ARCHIVO DISPERSIONES\\\\Dispersión-20230927.xlsx',\n",
       " 'C:\\\\Users\\\\Cristian.Aparicio\\\\Documents\\\\DISPERSIONES\\\\2023\\\\09. SEPTIEMBRE\\\\ARCHIVO DISPERSIONES\\\\Dispersión-20230928.xlsx',\n",
       " 'C:\\\\Users\\\\Cristian.Aparicio\\\\Documents\\\\DISPERSIONES\\\\2023\\\\09. SEPTIEMBRE\\\\ARCHIVO DISPERSIONES\\\\Dispersión-20230929.xlsx',\n",
       " 'C:\\\\Users\\\\Cristian.Aparicio\\\\Documents\\\\DISPERSIONES\\\\2023\\\\09. SEPTIEMBRE\\\\ARCHIVO DISPERSIONES\\\\Dispersión-20230930.xlsx']"
      ]
     },
     "execution_count": 7,
     "metadata": {},
     "output_type": "execute_result"
    }
   ],
   "source": [
    "pagos_dia_files_1 = glob.glob(r'C:\\Users\\Cristian.Aparicio\\Documents\\DISPERSIONES\\2023\\09. SEPTIEMBRE\\ARCHIVO DISPERSIONES\\Dispersión*.xlsx', recursive=False)\n",
    "pagos_dia_files_1"
   ]
  },
  {
   "cell_type": "code",
   "execution_count": 8,
   "metadata": {},
   "outputs": [
    {
     "data": {
      "text/html": [
       "<div>\n",
       "<style scoped>\n",
       "    .dataframe tbody tr th:only-of-type {\n",
       "        vertical-align: middle;\n",
       "    }\n",
       "\n",
       "    .dataframe tbody tr th {\n",
       "        vertical-align: top;\n",
       "    }\n",
       "\n",
       "    .dataframe thead th {\n",
       "        text-align: right;\n",
       "    }\n",
       "</style>\n",
       "<table border=\"1\" class=\"dataframe\">\n",
       "  <thead>\n",
       "    <tr style=\"text-align: right;\">\n",
       "      <th></th>\n",
       "      <th>type</th>\n",
       "      <th>merchant_id</th>\n",
       "      <th>merchant_name</th>\n",
       "      <th>user_email</th>\n",
       "      <th>report_id</th>\n",
       "      <th>report_date_local</th>\n",
       "      <th>total_due</th>\n",
       "      <th>tipo</th>\n",
       "      <th>bank</th>\n",
       "      <th>bank_account_owner_name</th>\n",
       "      <th>CLABE</th>\n",
       "      <th>status</th>\n",
       "      <th>LINEA CEP</th>\n",
       "      <th>Batch_time</th>\n",
       "      <th>Banco_emisor</th>\n",
       "      <th>file_name</th>\n",
       "      <th>date_file</th>\n",
       "    </tr>\n",
       "  </thead>\n",
       "  <tbody>\n",
       "    <tr>\n",
       "      <th>0</th>\n",
       "      <td>LEDGER_TRAD</td>\n",
       "      <td>00776a5d-ce34-4e34-9ede-fabe44d97163</td>\n",
       "      <td>NaN</td>\n",
       "      <td>NaN</td>\n",
       "      <td>AWDQT7GG5</td>\n",
       "      <td>2023-09-01</td>\n",
       "      <td>1,222.71</td>\n",
       "      <td>Pago del día</td>\n",
       "      <td>SCOTIABANK</td>\n",
       "      <td>Administradora General Rubio SA DE CV</td>\n",
       "      <td>44854256000101389</td>\n",
       "      <td>ERROR</td>\n",
       "      <td>NaN</td>\n",
       "      <td>01. First_batch</td>\n",
       "      <td>SANTANDER</td>\n",
       "      <td>Dispersión-20230901.xlsx</td>\n",
       "      <td>2023-09-01</td>\n",
       "    </tr>\n",
       "    <tr>\n",
       "      <th>71689</th>\n",
       "      <td>LEDGER_TRAD</td>\n",
       "      <td>ac071ac1-cdd9-422b-8c18-a3acf1478888</td>\n",
       "      <td>NaN</td>\n",
       "      <td>NaN</td>\n",
       "      <td>AXWQ3DFY5</td>\n",
       "      <td>2023-09-01</td>\n",
       "      <td>452.28</td>\n",
       "      <td>Pago del día</td>\n",
       "      <td>BBVA BANCOMER</td>\n",
       "      <td>Héctor Hugo Arredondo Ramírez</td>\n",
       "      <td>12215028738032875</td>\n",
       "      <td>PAID</td>\n",
       "      <td>2023-09-01,20230901400140HDH0001428319790,4001...</td>\n",
       "      <td>01. First_batch</td>\n",
       "      <td>SANTANDER</td>\n",
       "      <td>Dispersión-20230901.xlsx</td>\n",
       "      <td>2023-09-01</td>\n",
       "    </tr>\n",
       "    <tr>\n",
       "      <th>71688</th>\n",
       "      <td>LEDGER_TRAD</td>\n",
       "      <td>ac04ced4-e7b2-40b1-a399-a030998a0850</td>\n",
       "      <td>NaN</td>\n",
       "      <td>NaN</td>\n",
       "      <td>AVLVR986F</td>\n",
       "      <td>2023-09-01</td>\n",
       "      <td>3,641.31</td>\n",
       "      <td>Pago del día</td>\n",
       "      <td>BANORTE/IXE</td>\n",
       "      <td>Jesús cisneros valdes</td>\n",
       "      <td>72078011688553164</td>\n",
       "      <td>PAID</td>\n",
       "      <td>2023-09-01,20230901400140HDH0001428319710,4001...</td>\n",
       "      <td>01. First_batch</td>\n",
       "      <td>SANTANDER</td>\n",
       "      <td>Dispersión-20230901.xlsx</td>\n",
       "      <td>2023-09-01</td>\n",
       "    </tr>\n",
       "    <tr>\n",
       "      <th>71687</th>\n",
       "      <td>LEDGER_TRAD</td>\n",
       "      <td>ac044e7f-b743-4fad-aed6-ac304373c324</td>\n",
       "      <td>NaN</td>\n",
       "      <td>NaN</td>\n",
       "      <td>ALDJCF7JJ</td>\n",
       "      <td>2023-09-01</td>\n",
       "      <td>91.03</td>\n",
       "      <td>Pago del día</td>\n",
       "      <td>AZTECA</td>\n",
       "      <td>Erick Daniel Fuentes Enciso</td>\n",
       "      <td>127180013593832821</td>\n",
       "      <td>PAID</td>\n",
       "      <td>2023-09-01,20230901400140HDH0001428319610,4001...</td>\n",
       "      <td>01. First_batch</td>\n",
       "      <td>SANTANDER</td>\n",
       "      <td>Dispersión-20230901.xlsx</td>\n",
       "      <td>2023-09-01</td>\n",
       "    </tr>\n",
       "    <tr>\n",
       "      <th>71686</th>\n",
       "      <td>LEDGER_TRAD</td>\n",
       "      <td>ac03bd01-f909-4906-860e-6978fd6c0c68</td>\n",
       "      <td>NaN</td>\n",
       "      <td>NaN</td>\n",
       "      <td>ACH5KHNL3</td>\n",
       "      <td>2023-09-01</td>\n",
       "      <td>546.19</td>\n",
       "      <td>Pago del día</td>\n",
       "      <td>BBVA BANCOMER</td>\n",
       "      <td>Bernardo</td>\n",
       "      <td>12190015876353599</td>\n",
       "      <td>PAID</td>\n",
       "      <td>2023-09-01,20230901400140HDH0001428319480,4001...</td>\n",
       "      <td>01. First_batch</td>\n",
       "      <td>SANTANDER</td>\n",
       "      <td>Dispersión-20230901.xlsx</td>\n",
       "      <td>2023-09-01</td>\n",
       "    </tr>\n",
       "  </tbody>\n",
       "</table>\n",
       "</div>"
      ],
      "text/plain": [
       "              type                           merchant_id merchant_name  \\\n",
       "0      LEDGER_TRAD  00776a5d-ce34-4e34-9ede-fabe44d97163           NaN   \n",
       "71689  LEDGER_TRAD  ac071ac1-cdd9-422b-8c18-a3acf1478888           NaN   \n",
       "71688  LEDGER_TRAD  ac04ced4-e7b2-40b1-a399-a030998a0850           NaN   \n",
       "71687  LEDGER_TRAD  ac044e7f-b743-4fad-aed6-ac304373c324           NaN   \n",
       "71686  LEDGER_TRAD  ac03bd01-f909-4906-860e-6978fd6c0c68           NaN   \n",
       "\n",
       "      user_email  report_id report_date_local  total_due          tipo  \\\n",
       "0            NaN  AWDQT7GG5        2023-09-01   1,222.71  Pago del día   \n",
       "71689        NaN  AXWQ3DFY5        2023-09-01     452.28  Pago del día   \n",
       "71688        NaN  AVLVR986F        2023-09-01   3,641.31  Pago del día   \n",
       "71687        NaN  ALDJCF7JJ        2023-09-01      91.03  Pago del día   \n",
       "71686        NaN  ACH5KHNL3        2023-09-01     546.19  Pago del día   \n",
       "\n",
       "                bank                bank_account_owner_name  \\\n",
       "0         SCOTIABANK  Administradora General Rubio SA DE CV   \n",
       "71689  BBVA BANCOMER          Héctor Hugo Arredondo Ramírez   \n",
       "71688    BANORTE/IXE                  Jesús cisneros valdes   \n",
       "71687         AZTECA            Erick Daniel Fuentes Enciso   \n",
       "71686  BBVA BANCOMER                               Bernardo   \n",
       "\n",
       "                    CLABE status  \\\n",
       "0       44854256000101389  ERROR   \n",
       "71689   12215028738032875   PAID   \n",
       "71688   72078011688553164   PAID   \n",
       "71687  127180013593832821   PAID   \n",
       "71686   12190015876353599   PAID   \n",
       "\n",
       "                                               LINEA CEP       Batch_time  \\\n",
       "0                                                    NaN  01. First_batch   \n",
       "71689  2023-09-01,20230901400140HDH0001428319790,4001...  01. First_batch   \n",
       "71688  2023-09-01,20230901400140HDH0001428319710,4001...  01. First_batch   \n",
       "71687  2023-09-01,20230901400140HDH0001428319610,4001...  01. First_batch   \n",
       "71686  2023-09-01,20230901400140HDH0001428319480,4001...  01. First_batch   \n",
       "\n",
       "      Banco_emisor                 file_name  date_file  \n",
       "0        SANTANDER  Dispersión-20230901.xlsx 2023-09-01  \n",
       "71689    SANTANDER  Dispersión-20230901.xlsx 2023-09-01  \n",
       "71688    SANTANDER  Dispersión-20230901.xlsx 2023-09-01  \n",
       "71687    SANTANDER  Dispersión-20230901.xlsx 2023-09-01  \n",
       "71686    SANTANDER  Dispersión-20230901.xlsx 2023-09-01  "
      ]
     },
     "execution_count": 8,
     "metadata": {},
     "output_type": "execute_result"
    }
   ],
   "source": [
    "pagos_1 = pd.concat([pd.read_excel(f,sheet_name='Swap del día').assign(file_name=os.path.basename(f)) for f in pagos_dia_files_1])\n",
    "pagos_1['date_file'] = pagos_1[\"file_name\"].str[-13:-5]\n",
    "pagos_1['date_file']= pd.to_datetime(pagos_1['date_file'], format='%Y%m%d').dt.date\n",
    "pagos_1['date_file']= pd.to_datetime(pagos_1['date_file'])\n",
    "pagos_1.sort_values(by=['date_file'],ascending=True,inplace=True)\n",
    "pagos_1['report_date_local']= pd.to_datetime(pagos_1['report_date_local']) \n",
    "pagos_1.head()"
   ]
  },
  {
   "cell_type": "code",
   "execution_count": 9,
   "metadata": {},
   "outputs": [
    {
     "data": {
      "text/plain": [
       "(2978315, 17)"
      ]
     },
     "execution_count": 9,
     "metadata": {},
     "output_type": "execute_result"
    }
   ],
   "source": [
    "pagos_1.shape"
   ]
  },
  {
   "cell_type": "code",
   "execution_count": 10,
   "metadata": {},
   "outputs": [
    {
     "data": {
      "text/plain": [
       "<DatetimeArray>\n",
       "['2023-09-01 00:00:00', '2023-08-31 00:00:00', '2023-03-14 00:00:00',\n",
       " '2022-11-10 00:00:00', '2022-11-08 00:00:00', '2022-11-06 00:00:00',\n",
       " '2022-11-03 00:00:00', '2022-11-02 00:00:00', '2022-10-29 00:00:00',\n",
       " '2022-10-28 00:00:00',\n",
       " ...\n",
       " '2022-06-26 00:00:00', '2022-06-12 00:00:00', '2023-01-14 00:00:00',\n",
       " '2023-09-29 00:00:00', '2021-05-24 00:00:00', '2022-03-13 00:00:00',\n",
       " '2022-08-14 00:00:00', '2021-11-10 00:00:00', '2021-10-17 00:00:00',\n",
       " '2023-09-30 00:00:00']\n",
       "Length: 577, dtype: datetime64[ns]"
      ]
     },
     "execution_count": 10,
     "metadata": {},
     "output_type": "execute_result"
    }
   ],
   "source": [
    "pagos_1['report_date_local'].unique()"
   ]
  },
  {
   "cell_type": "markdown",
   "metadata": {},
   "source": [
    "#### PAGOS DUPLICADOS TRADICIONAL"
   ]
  },
  {
   "cell_type": "code",
   "execution_count": 11,
   "metadata": {},
   "outputs": [
    {
     "name": "stderr",
     "output_type": "stream",
     "text": [
      "C:\\Users\\Cristian.Aparicio\\AppData\\Local\\Temp\\ipykernel_15332\\1112391532.py:2: SettingWithCopyWarning: \n",
      "A value is trying to be set on a copy of a slice from a DataFrame.\n",
      "Try using .loc[row_indexer,col_indexer] = value instead\n",
      "\n",
      "See the caveats in the documentation: https://pandas.pydata.org/pandas-docs/stable/user_guide/indexing.html#returning-a-view-versus-a-copy\n",
      "  duplicates_trad['INDEX'] = duplicates_trad['report_id'] + '_' + duplicates_trad['date_file'].astype('str')\n",
      "C:\\Users\\Cristian.Aparicio\\AppData\\Local\\Temp\\ipykernel_15332\\1112391532.py:3: SettingWithCopyWarning: \n",
      "A value is trying to be set on a copy of a slice from a DataFrame\n",
      "\n",
      "See the caveats in the documentation: https://pandas.pydata.org/pandas-docs/stable/user_guide/indexing.html#returning-a-view-versus-a-copy\n",
      "  duplicates_trad.sort_values(by=['date_file','report_id'],inplace=True)\n"
     ]
    },
    {
     "data": {
      "text/html": [
       "<div>\n",
       "<style scoped>\n",
       "    .dataframe tbody tr th:only-of-type {\n",
       "        vertical-align: middle;\n",
       "    }\n",
       "\n",
       "    .dataframe tbody tr th {\n",
       "        vertical-align: top;\n",
       "    }\n",
       "\n",
       "    .dataframe thead th {\n",
       "        text-align: right;\n",
       "    }\n",
       "</style>\n",
       "<table border=\"1\" class=\"dataframe\">\n",
       "  <thead>\n",
       "    <tr style=\"text-align: right;\">\n",
       "      <th></th>\n",
       "      <th>type</th>\n",
       "      <th>merchant_id</th>\n",
       "      <th>merchant_name</th>\n",
       "      <th>user_email</th>\n",
       "      <th>report_id</th>\n",
       "      <th>report_date_local</th>\n",
       "      <th>total_due</th>\n",
       "      <th>tipo</th>\n",
       "      <th>bank</th>\n",
       "      <th>bank_account_owner_name</th>\n",
       "      <th>CLABE</th>\n",
       "      <th>status</th>\n",
       "      <th>LINEA CEP</th>\n",
       "      <th>Batch_time</th>\n",
       "      <th>Banco_emisor</th>\n",
       "      <th>file_name</th>\n",
       "      <th>date_file</th>\n",
       "      <th>INDEX</th>\n",
       "    </tr>\n",
       "  </thead>\n",
       "  <tbody>\n",
       "    <tr>\n",
       "      <th>104</th>\n",
       "      <td>LEDGER_TRAD</td>\n",
       "      <td>9e168ca6-39ec-4a57-91ed-ed2993c599f1</td>\n",
       "      <td>NaN</td>\n",
       "      <td>NaN</td>\n",
       "      <td>ADSRV9MRH</td>\n",
       "      <td>2023-09-01</td>\n",
       "      <td>1,992.19</td>\n",
       "      <td>Pago del día</td>\n",
       "      <td>BANAMEX</td>\n",
       "      <td>Cesar ivan enriquez campuzano</td>\n",
       "      <td>2164701821589312</td>\n",
       "      <td>ERROR</td>\n",
       "      <td>NaN</td>\n",
       "      <td>01. First_batch</td>\n",
       "      <td>SANTANDER</td>\n",
       "      <td>Dispersión-20230901.xlsx</td>\n",
       "      <td>2023-09-01</td>\n",
       "      <td>ADSRV9MRH_2023-09-01</td>\n",
       "    </tr>\n",
       "    <tr>\n",
       "      <th>139</th>\n",
       "      <td>LEDGER_TRAD</td>\n",
       "      <td>9e168ca6-39ec-4a57-91ed-ed2993c599f1</td>\n",
       "      <td>NaN</td>\n",
       "      <td>NaN</td>\n",
       "      <td>ADSRV9MRH</td>\n",
       "      <td>2023-09-01</td>\n",
       "      <td>1,992.19</td>\n",
       "      <td>Pago del día</td>\n",
       "      <td>BANAMEX</td>\n",
       "      <td>Cesar ivan enriquez campuzano</td>\n",
       "      <td>2164701821589312</td>\n",
       "      <td>ERROR</td>\n",
       "      <td>NaN</td>\n",
       "      <td>03. Third_batch</td>\n",
       "      <td>BANORTE</td>\n",
       "      <td>Dispersión-20230901.xlsx</td>\n",
       "      <td>2023-09-01</td>\n",
       "      <td>ADSRV9MRH_2023-09-01</td>\n",
       "    </tr>\n",
       "    <tr>\n",
       "      <th>6</th>\n",
       "      <td>LEDGER_TRAD</td>\n",
       "      <td>173eb5aa-64da-49d0-be43-25a4ffd638af</td>\n",
       "      <td>NaN</td>\n",
       "      <td>NaN</td>\n",
       "      <td>AWP6CZJV6</td>\n",
       "      <td>2023-09-04</td>\n",
       "      <td>2,520.16</td>\n",
       "      <td>Pago del día</td>\n",
       "      <td>BBVA BANCOMER</td>\n",
       "      <td>Emilia torres</td>\n",
       "      <td>12180015688092621</td>\n",
       "      <td>ERROR</td>\n",
       "      <td>NaN</td>\n",
       "      <td>01. First_batch</td>\n",
       "      <td>SANTANDER</td>\n",
       "      <td>Dispersión-20230904.xlsx</td>\n",
       "      <td>2023-09-04</td>\n",
       "      <td>AWP6CZJV6_2023-09-04</td>\n",
       "    </tr>\n",
       "    <tr>\n",
       "      <th>76</th>\n",
       "      <td>LEDGER_TRAD</td>\n",
       "      <td>173eb5aa-64da-49d0-be43-25a4ffd638af</td>\n",
       "      <td>NaN</td>\n",
       "      <td>NaN</td>\n",
       "      <td>AWP6CZJV6</td>\n",
       "      <td>2023-09-04</td>\n",
       "      <td>2,520.16</td>\n",
       "      <td>Pago del día</td>\n",
       "      <td>BBVA BANCOMER</td>\n",
       "      <td>Emilia torres</td>\n",
       "      <td>12180015688092621</td>\n",
       "      <td>ERROR</td>\n",
       "      <td>NaN</td>\n",
       "      <td>02. Second_batch</td>\n",
       "      <td>BANORTE</td>\n",
       "      <td>Dispersión-20230904.xlsx</td>\n",
       "      <td>2023-09-04</td>\n",
       "      <td>AWP6CZJV6_2023-09-04</td>\n",
       "    </tr>\n",
       "    <tr>\n",
       "      <th>82</th>\n",
       "      <td>LEDGER_TRAD</td>\n",
       "      <td>216bd0ba-d830-49cf-b333-0f0714c5ace1</td>\n",
       "      <td>NaN</td>\n",
       "      <td>NaN</td>\n",
       "      <td>ANNP2B8SW</td>\n",
       "      <td>2023-09-05</td>\n",
       "      <td>37,328.24</td>\n",
       "      <td>Pago del día</td>\n",
       "      <td>BBVA BANCOMER</td>\n",
       "      <td>Carmen Mendoza Marquez</td>\n",
       "      <td>12180015599192571</td>\n",
       "      <td>ERROR</td>\n",
       "      <td>NaN</td>\n",
       "      <td>03. Third_batch</td>\n",
       "      <td>BANORTE</td>\n",
       "      <td>Dispersión-20230905.xlsx</td>\n",
       "      <td>2023-09-05</td>\n",
       "      <td>ANNP2B8SW_2023-09-05</td>\n",
       "    </tr>\n",
       "  </tbody>\n",
       "</table>\n",
       "</div>"
      ],
      "text/plain": [
       "            type                           merchant_id merchant_name  \\\n",
       "104  LEDGER_TRAD  9e168ca6-39ec-4a57-91ed-ed2993c599f1           NaN   \n",
       "139  LEDGER_TRAD  9e168ca6-39ec-4a57-91ed-ed2993c599f1           NaN   \n",
       "6    LEDGER_TRAD  173eb5aa-64da-49d0-be43-25a4ffd638af           NaN   \n",
       "76   LEDGER_TRAD  173eb5aa-64da-49d0-be43-25a4ffd638af           NaN   \n",
       "82   LEDGER_TRAD  216bd0ba-d830-49cf-b333-0f0714c5ace1           NaN   \n",
       "\n",
       "    user_email  report_id report_date_local  total_due          tipo  \\\n",
       "104        NaN  ADSRV9MRH        2023-09-01   1,992.19  Pago del día   \n",
       "139        NaN  ADSRV9MRH        2023-09-01   1,992.19  Pago del día   \n",
       "6          NaN  AWP6CZJV6        2023-09-04   2,520.16  Pago del día   \n",
       "76         NaN  AWP6CZJV6        2023-09-04   2,520.16  Pago del día   \n",
       "82         NaN  ANNP2B8SW        2023-09-05  37,328.24  Pago del día   \n",
       "\n",
       "              bank        bank_account_owner_name              CLABE status  \\\n",
       "104        BANAMEX  Cesar ivan enriquez campuzano   2164701821589312  ERROR   \n",
       "139        BANAMEX  Cesar ivan enriquez campuzano   2164701821589312  ERROR   \n",
       "6    BBVA BANCOMER                  Emilia torres  12180015688092621  ERROR   \n",
       "76   BBVA BANCOMER                  Emilia torres  12180015688092621  ERROR   \n",
       "82   BBVA BANCOMER         Carmen Mendoza Marquez  12180015599192571  ERROR   \n",
       "\n",
       "    LINEA CEP        Batch_time Banco_emisor                 file_name  \\\n",
       "104       NaN   01. First_batch    SANTANDER  Dispersión-20230901.xlsx   \n",
       "139       NaN   03. Third_batch      BANORTE  Dispersión-20230901.xlsx   \n",
       "6         NaN   01. First_batch    SANTANDER  Dispersión-20230904.xlsx   \n",
       "76        NaN  02. Second_batch      BANORTE  Dispersión-20230904.xlsx   \n",
       "82        NaN   03. Third_batch      BANORTE  Dispersión-20230905.xlsx   \n",
       "\n",
       "     date_file                 INDEX  \n",
       "104 2023-09-01  ADSRV9MRH_2023-09-01  \n",
       "139 2023-09-01  ADSRV9MRH_2023-09-01  \n",
       "6   2023-09-04  AWP6CZJV6_2023-09-04  \n",
       "76  2023-09-04  AWP6CZJV6_2023-09-04  \n",
       "82  2023-09-05  ANNP2B8SW_2023-09-05  "
      ]
     },
     "execution_count": 11,
     "metadata": {},
     "output_type": "execute_result"
    }
   ],
   "source": [
    "duplicates_trad = pagos_1[pagos_1.duplicated(['report_id','date_file'] , keep=False)]\n",
    "duplicates_trad['INDEX'] = duplicates_trad['report_id'] + '_' + duplicates_trad['date_file'].astype('str')\n",
    "duplicates_trad.sort_values(by=['date_file','report_id'],inplace=True)\n",
    "duplicates_trad.head()"
   ]
  },
  {
   "cell_type": "code",
   "execution_count": 12,
   "metadata": {},
   "outputs": [
    {
     "data": {
      "text/plain": [
       "(74, 18)"
      ]
     },
     "execution_count": 12,
     "metadata": {},
     "output_type": "execute_result"
    }
   ],
   "source": [
    "duplicates_trad.shape"
   ]
  },
  {
   "cell_type": "code",
   "execution_count": 13,
   "metadata": {},
   "outputs": [
    {
     "data": {
      "text/plain": [
       "array(['ERROR', 'PAID'], dtype=object)"
      ]
     },
     "execution_count": 13,
     "metadata": {},
     "output_type": "execute_result"
    }
   ],
   "source": [
    "duplicates_trad['status'].unique()"
   ]
  },
  {
   "cell_type": "code",
   "execution_count": 14,
   "metadata": {},
   "outputs": [
    {
     "name": "stderr",
     "output_type": "stream",
     "text": [
      "C:\\Users\\Cristian.Aparicio\\AppData\\Local\\Temp\\ipykernel_15332\\494774456.py:1: SettingWithCopyWarning: \n",
      "A value is trying to be set on a copy of a slice from a DataFrame\n",
      "\n",
      "See the caveats in the documentation: https://pandas.pydata.org/pandas-docs/stable/user_guide/indexing.html#returning-a-view-versus-a-copy\n",
      "  duplicates_trad.drop_duplicates(subset=\"INDEX\", keep='last', inplace=True)\n"
     ]
    }
   ],
   "source": [
    "duplicates_trad.drop_duplicates(subset=\"INDEX\", keep='last', inplace=True)"
   ]
  },
  {
   "cell_type": "code",
   "execution_count": 15,
   "metadata": {},
   "outputs": [
    {
     "data": {
      "text/html": [
       "<div>\n",
       "<style scoped>\n",
       "    .dataframe tbody tr th:only-of-type {\n",
       "        vertical-align: middle;\n",
       "    }\n",
       "\n",
       "    .dataframe tbody tr th {\n",
       "        vertical-align: top;\n",
       "    }\n",
       "\n",
       "    .dataframe thead th {\n",
       "        text-align: right;\n",
       "    }\n",
       "</style>\n",
       "<table border=\"1\" class=\"dataframe\">\n",
       "  <thead>\n",
       "    <tr style=\"text-align: right;\">\n",
       "      <th></th>\n",
       "      <th>type</th>\n",
       "      <th>merchant_id</th>\n",
       "      <th>merchant_name</th>\n",
       "      <th>user_email</th>\n",
       "      <th>report_id</th>\n",
       "      <th>report_date_local</th>\n",
       "      <th>total_due</th>\n",
       "      <th>tipo</th>\n",
       "      <th>bank</th>\n",
       "      <th>bank_account_owner_name</th>\n",
       "      <th>CLABE</th>\n",
       "      <th>status</th>\n",
       "      <th>LINEA CEP</th>\n",
       "      <th>Batch_time</th>\n",
       "      <th>Banco_emisor</th>\n",
       "      <th>file_name</th>\n",
       "      <th>date_file</th>\n",
       "      <th>INDEX</th>\n",
       "    </tr>\n",
       "  </thead>\n",
       "  <tbody>\n",
       "    <tr>\n",
       "      <th>139</th>\n",
       "      <td>LEDGER_TRAD</td>\n",
       "      <td>9e168ca6-39ec-4a57-91ed-ed2993c599f1</td>\n",
       "      <td>NaN</td>\n",
       "      <td>NaN</td>\n",
       "      <td>ADSRV9MRH</td>\n",
       "      <td>2023-09-01</td>\n",
       "      <td>1,992.19</td>\n",
       "      <td>Pago del día</td>\n",
       "      <td>BANAMEX</td>\n",
       "      <td>Cesar ivan enriquez campuzano</td>\n",
       "      <td>2164701821589312</td>\n",
       "      <td>ERROR</td>\n",
       "      <td>NaN</td>\n",
       "      <td>03. Third_batch</td>\n",
       "      <td>BANORTE</td>\n",
       "      <td>Dispersión-20230901.xlsx</td>\n",
       "      <td>2023-09-01</td>\n",
       "      <td>ADSRV9MRH_2023-09-01</td>\n",
       "    </tr>\n",
       "    <tr>\n",
       "      <th>76</th>\n",
       "      <td>LEDGER_TRAD</td>\n",
       "      <td>173eb5aa-64da-49d0-be43-25a4ffd638af</td>\n",
       "      <td>NaN</td>\n",
       "      <td>NaN</td>\n",
       "      <td>AWP6CZJV6</td>\n",
       "      <td>2023-09-04</td>\n",
       "      <td>2,520.16</td>\n",
       "      <td>Pago del día</td>\n",
       "      <td>BBVA BANCOMER</td>\n",
       "      <td>Emilia torres</td>\n",
       "      <td>12180015688092621</td>\n",
       "      <td>ERROR</td>\n",
       "      <td>NaN</td>\n",
       "      <td>02. Second_batch</td>\n",
       "      <td>BANORTE</td>\n",
       "      <td>Dispersión-20230904.xlsx</td>\n",
       "      <td>2023-09-04</td>\n",
       "      <td>AWP6CZJV6_2023-09-04</td>\n",
       "    </tr>\n",
       "    <tr>\n",
       "      <th>9</th>\n",
       "      <td>LEDGER_TRAD</td>\n",
       "      <td>216bd0ba-d830-49cf-b333-0f0714c5ace1</td>\n",
       "      <td>NaN</td>\n",
       "      <td>NaN</td>\n",
       "      <td>ANNP2B8SW</td>\n",
       "      <td>2023-09-05</td>\n",
       "      <td>37,328.24</td>\n",
       "      <td>Pago del día</td>\n",
       "      <td>BBVA BANCOMER</td>\n",
       "      <td>Carmen Mendoza Marquez</td>\n",
       "      <td>12180015599192571</td>\n",
       "      <td>ERROR</td>\n",
       "      <td>NaN</td>\n",
       "      <td>01. First_batch</td>\n",
       "      <td>SANTANDER</td>\n",
       "      <td>Dispersión-20230905.xlsx</td>\n",
       "      <td>2023-09-05</td>\n",
       "      <td>ANNP2B8SW_2023-09-05</td>\n",
       "    </tr>\n",
       "    <tr>\n",
       "      <th>18</th>\n",
       "      <td>LEDGER_TRAD</td>\n",
       "      <td>2e612e1e-8eb4-4e68-849f-6df8ea4dab1f</td>\n",
       "      <td>NaN</td>\n",
       "      <td>NaN</td>\n",
       "      <td>AXF865Y97</td>\n",
       "      <td>2023-09-05</td>\n",
       "      <td>10,061.52</td>\n",
       "      <td>Pago del día</td>\n",
       "      <td>BBVA BANCOMER</td>\n",
       "      <td>Lisset pacheco amezquita</td>\n",
       "      <td>12180015484684660</td>\n",
       "      <td>ERROR</td>\n",
       "      <td>NaN</td>\n",
       "      <td>01. First_batch</td>\n",
       "      <td>SANTANDER</td>\n",
       "      <td>Dispersión-20230905.xlsx</td>\n",
       "      <td>2023-09-05</td>\n",
       "      <td>AXF865Y97_2023-09-05</td>\n",
       "    </tr>\n",
       "    <tr>\n",
       "      <th>124</th>\n",
       "      <td>LEDGER_TRAD</td>\n",
       "      <td>46ad555e-a2e7-4de3-b006-235785a98464</td>\n",
       "      <td>NaN</td>\n",
       "      <td>NaN</td>\n",
       "      <td>AKW7ZWVQN</td>\n",
       "      <td>2023-09-06</td>\n",
       "      <td>1,245.71</td>\n",
       "      <td>Pago del día</td>\n",
       "      <td>BANAMEX</td>\n",
       "      <td>Eduardo caro</td>\n",
       "      <td>2073560146127396</td>\n",
       "      <td>ERROR</td>\n",
       "      <td>NaN</td>\n",
       "      <td>03. Third_batch</td>\n",
       "      <td>BANORTE</td>\n",
       "      <td>Dispersión-20230906.xlsx</td>\n",
       "      <td>2023-09-06</td>\n",
       "      <td>AKW7ZWVQN_2023-09-06</td>\n",
       "    </tr>\n",
       "  </tbody>\n",
       "</table>\n",
       "</div>"
      ],
      "text/plain": [
       "            type                           merchant_id merchant_name  \\\n",
       "139  LEDGER_TRAD  9e168ca6-39ec-4a57-91ed-ed2993c599f1           NaN   \n",
       "76   LEDGER_TRAD  173eb5aa-64da-49d0-be43-25a4ffd638af           NaN   \n",
       "9    LEDGER_TRAD  216bd0ba-d830-49cf-b333-0f0714c5ace1           NaN   \n",
       "18   LEDGER_TRAD  2e612e1e-8eb4-4e68-849f-6df8ea4dab1f           NaN   \n",
       "124  LEDGER_TRAD  46ad555e-a2e7-4de3-b006-235785a98464           NaN   \n",
       "\n",
       "    user_email  report_id report_date_local  total_due          tipo  \\\n",
       "139        NaN  ADSRV9MRH        2023-09-01   1,992.19  Pago del día   \n",
       "76         NaN  AWP6CZJV6        2023-09-04   2,520.16  Pago del día   \n",
       "9          NaN  ANNP2B8SW        2023-09-05  37,328.24  Pago del día   \n",
       "18         NaN  AXF865Y97        2023-09-05  10,061.52  Pago del día   \n",
       "124        NaN  AKW7ZWVQN        2023-09-06   1,245.71  Pago del día   \n",
       "\n",
       "              bank        bank_account_owner_name              CLABE status  \\\n",
       "139        BANAMEX  Cesar ivan enriquez campuzano   2164701821589312  ERROR   \n",
       "76   BBVA BANCOMER                  Emilia torres  12180015688092621  ERROR   \n",
       "9    BBVA BANCOMER         Carmen Mendoza Marquez  12180015599192571  ERROR   \n",
       "18   BBVA BANCOMER       Lisset pacheco amezquita  12180015484684660  ERROR   \n",
       "124        BANAMEX                   Eduardo caro   2073560146127396  ERROR   \n",
       "\n",
       "    LINEA CEP        Batch_time Banco_emisor                 file_name  \\\n",
       "139       NaN   03. Third_batch      BANORTE  Dispersión-20230901.xlsx   \n",
       "76        NaN  02. Second_batch      BANORTE  Dispersión-20230904.xlsx   \n",
       "9         NaN   01. First_batch    SANTANDER  Dispersión-20230905.xlsx   \n",
       "18        NaN   01. First_batch    SANTANDER  Dispersión-20230905.xlsx   \n",
       "124       NaN   03. Third_batch      BANORTE  Dispersión-20230906.xlsx   \n",
       "\n",
       "     date_file                 INDEX  \n",
       "139 2023-09-01  ADSRV9MRH_2023-09-01  \n",
       "76  2023-09-04  AWP6CZJV6_2023-09-04  \n",
       "9   2023-09-05  ANNP2B8SW_2023-09-05  \n",
       "18  2023-09-05  AXF865Y97_2023-09-05  \n",
       "124 2023-09-06  AKW7ZWVQN_2023-09-06  "
      ]
     },
     "execution_count": 15,
     "metadata": {},
     "output_type": "execute_result"
    }
   ],
   "source": [
    "duplicates_trad.head()"
   ]
  },
  {
   "cell_type": "code",
   "execution_count": 16,
   "metadata": {},
   "outputs": [
    {
     "data": {
      "text/plain": [
       "(37, 18)"
      ]
     },
     "execution_count": 16,
     "metadata": {},
     "output_type": "execute_result"
    }
   ],
   "source": [
    "duplicates_trad.shape"
   ]
  },
  {
   "cell_type": "code",
   "execution_count": 17,
   "metadata": {},
   "outputs": [
    {
     "data": {
      "text/html": [
       "<div>\n",
       "<style scoped>\n",
       "    .dataframe tbody tr th:only-of-type {\n",
       "        vertical-align: middle;\n",
       "    }\n",
       "\n",
       "    .dataframe tbody tr th {\n",
       "        vertical-align: top;\n",
       "    }\n",
       "\n",
       "    .dataframe thead tr th {\n",
       "        text-align: left;\n",
       "    }\n",
       "</style>\n",
       "<table border=\"1\" class=\"dataframe\">\n",
       "  <thead>\n",
       "    <tr>\n",
       "      <th></th>\n",
       "      <th>tipo</th>\n",
       "      <th>date_file</th>\n",
       "      <th colspan=\"2\" halign=\"left\">sum</th>\n",
       "      <th colspan=\"2\" halign=\"left\">len</th>\n",
       "    </tr>\n",
       "    <tr>\n",
       "      <th></th>\n",
       "      <th></th>\n",
       "      <th></th>\n",
       "      <th colspan=\"2\" halign=\"left\">total_due</th>\n",
       "      <th colspan=\"2\" halign=\"left\">total_due</th>\n",
       "    </tr>\n",
       "    <tr>\n",
       "      <th>type</th>\n",
       "      <th></th>\n",
       "      <th></th>\n",
       "      <th>LEDGER_TRAD</th>\n",
       "      <th>All</th>\n",
       "      <th>LEDGER_TRAD</th>\n",
       "      <th>All</th>\n",
       "    </tr>\n",
       "  </thead>\n",
       "  <tbody>\n",
       "    <tr>\n",
       "      <th>0</th>\n",
       "      <td>Pago del día</td>\n",
       "      <td>2023-09-01 00:00:00</td>\n",
       "      <td>1,992.19</td>\n",
       "      <td>1,992.19</td>\n",
       "      <td>1</td>\n",
       "      <td>1</td>\n",
       "    </tr>\n",
       "    <tr>\n",
       "      <th>1</th>\n",
       "      <td>Pago del día</td>\n",
       "      <td>2023-09-04 00:00:00</td>\n",
       "      <td>2,520.16</td>\n",
       "      <td>2,520.16</td>\n",
       "      <td>1</td>\n",
       "      <td>1</td>\n",
       "    </tr>\n",
       "    <tr>\n",
       "      <th>2</th>\n",
       "      <td>Pago del día</td>\n",
       "      <td>2023-09-05 00:00:00</td>\n",
       "      <td>47,389.76</td>\n",
       "      <td>47,389.76</td>\n",
       "      <td>2</td>\n",
       "      <td>2</td>\n",
       "    </tr>\n",
       "    <tr>\n",
       "      <th>3</th>\n",
       "      <td>Pago del día</td>\n",
       "      <td>2023-09-06 00:00:00</td>\n",
       "      <td>5,941.09</td>\n",
       "      <td>5,941.09</td>\n",
       "      <td>2</td>\n",
       "      <td>2</td>\n",
       "    </tr>\n",
       "    <tr>\n",
       "      <th>4</th>\n",
       "      <td>Pago del día</td>\n",
       "      <td>2023-09-08 00:00:00</td>\n",
       "      <td>1,111.56</td>\n",
       "      <td>1,111.56</td>\n",
       "      <td>1</td>\n",
       "      <td>1</td>\n",
       "    </tr>\n",
       "    <tr>\n",
       "      <th>5</th>\n",
       "      <td>Pago del día</td>\n",
       "      <td>2023-09-11 00:00:00</td>\n",
       "      <td>4,248.65</td>\n",
       "      <td>4,248.65</td>\n",
       "      <td>1</td>\n",
       "      <td>1</td>\n",
       "    </tr>\n",
       "    <tr>\n",
       "      <th>6</th>\n",
       "      <td>Pago del día</td>\n",
       "      <td>2023-09-12 00:00:00</td>\n",
       "      <td>3,252.85</td>\n",
       "      <td>3,252.85</td>\n",
       "      <td>1</td>\n",
       "      <td>1</td>\n",
       "    </tr>\n",
       "    <tr>\n",
       "      <th>7</th>\n",
       "      <td>Pago del día</td>\n",
       "      <td>2023-09-13 00:00:00</td>\n",
       "      <td>19,553.84</td>\n",
       "      <td>19,553.84</td>\n",
       "      <td>4</td>\n",
       "      <td>4</td>\n",
       "    </tr>\n",
       "    <tr>\n",
       "      <th>8</th>\n",
       "      <td>Pago del día</td>\n",
       "      <td>2023-09-15 00:00:00</td>\n",
       "      <td>70,833.56</td>\n",
       "      <td>70,833.56</td>\n",
       "      <td>3</td>\n",
       "      <td>3</td>\n",
       "    </tr>\n",
       "    <tr>\n",
       "      <th>9</th>\n",
       "      <td>Pago del día</td>\n",
       "      <td>2023-09-19 00:00:00</td>\n",
       "      <td>7,665.92</td>\n",
       "      <td>7,665.92</td>\n",
       "      <td>1</td>\n",
       "      <td>1</td>\n",
       "    </tr>\n",
       "  </tbody>\n",
       "</table>\n",
       "</div>"
      ],
      "text/plain": [
       "              tipo            date_file         sum                   len    \n",
       "                                          total_due             total_due    \n",
       "type                                    LEDGER_TRAD       All LEDGER_TRAD All\n",
       "0     Pago del día  2023-09-01 00:00:00    1,992.19  1,992.19           1   1\n",
       "1     Pago del día  2023-09-04 00:00:00    2,520.16  2,520.16           1   1\n",
       "2     Pago del día  2023-09-05 00:00:00   47,389.76 47,389.76           2   2\n",
       "3     Pago del día  2023-09-06 00:00:00    5,941.09  5,941.09           2   2\n",
       "4     Pago del día  2023-09-08 00:00:00    1,111.56  1,111.56           1   1\n",
       "5     Pago del día  2023-09-11 00:00:00    4,248.65  4,248.65           1   1\n",
       "6     Pago del día  2023-09-12 00:00:00    3,252.85  3,252.85           1   1\n",
       "7     Pago del día  2023-09-13 00:00:00   19,553.84 19,553.84           4   4\n",
       "8     Pago del día  2023-09-15 00:00:00   70,833.56 70,833.56           3   3\n",
       "9     Pago del día  2023-09-19 00:00:00    7,665.92  7,665.92           1   1"
      ]
     },
     "execution_count": 17,
     "metadata": {},
     "output_type": "execute_result"
    }
   ],
   "source": [
    "pivot_duplicates_trad = pd.pivot_table(duplicates_trad,index=['tipo','date_file'],\n",
    "                                       columns=['type'],\n",
    "                                  values=['total_due']\n",
    "                                  ,aggfunc = ['sum', len],margins=True)\n",
    "pivot_duplicates_trad.reset_index(drop=False, inplace=True)\n",
    "pivot_duplicates_trad.head(10)"
   ]
  },
  {
   "cell_type": "code",
   "execution_count": 18,
   "metadata": {},
   "outputs": [
    {
     "data": {
      "text/plain": [
       "(18, 6)"
      ]
     },
     "execution_count": 18,
     "metadata": {},
     "output_type": "execute_result"
    }
   ],
   "source": [
    "pivot_duplicates_trad.shape"
   ]
  },
  {
   "cell_type": "markdown",
   "metadata": {},
   "source": [
    "#### FAST PAYMENTS "
   ]
  },
  {
   "cell_type": "code",
   "execution_count": 19,
   "metadata": {},
   "outputs": [
    {
     "data": {
      "text/plain": [
       "['C:\\\\Users\\\\Cristian.Aparicio\\\\Documents\\\\FAST PAYMENTS\\\\2023\\\\09. SEPTIEMBRE\\\\ARCHIVO DISPERSIONES FP\\\\Dispersión-FP 2023-09-01.xlsx',\n",
       " 'C:\\\\Users\\\\Cristian.Aparicio\\\\Documents\\\\FAST PAYMENTS\\\\2023\\\\09. SEPTIEMBRE\\\\ARCHIVO DISPERSIONES FP\\\\Dispersión-FP 2023-09-02.xlsx',\n",
       " 'C:\\\\Users\\\\Cristian.Aparicio\\\\Documents\\\\FAST PAYMENTS\\\\2023\\\\09. SEPTIEMBRE\\\\ARCHIVO DISPERSIONES FP\\\\Dispersión-FP 2023-09-03.xlsx',\n",
       " 'C:\\\\Users\\\\Cristian.Aparicio\\\\Documents\\\\FAST PAYMENTS\\\\2023\\\\09. SEPTIEMBRE\\\\ARCHIVO DISPERSIONES FP\\\\Dispersión-FP 2023-09-04.xlsx',\n",
       " 'C:\\\\Users\\\\Cristian.Aparicio\\\\Documents\\\\FAST PAYMENTS\\\\2023\\\\09. SEPTIEMBRE\\\\ARCHIVO DISPERSIONES FP\\\\Dispersión-FP 2023-09-05.xlsx',\n",
       " 'C:\\\\Users\\\\Cristian.Aparicio\\\\Documents\\\\FAST PAYMENTS\\\\2023\\\\09. SEPTIEMBRE\\\\ARCHIVO DISPERSIONES FP\\\\Dispersión-FP 2023-09-06.xlsx',\n",
       " 'C:\\\\Users\\\\Cristian.Aparicio\\\\Documents\\\\FAST PAYMENTS\\\\2023\\\\09. SEPTIEMBRE\\\\ARCHIVO DISPERSIONES FP\\\\Dispersión-FP 2023-09-07.xlsx',\n",
       " 'C:\\\\Users\\\\Cristian.Aparicio\\\\Documents\\\\FAST PAYMENTS\\\\2023\\\\09. SEPTIEMBRE\\\\ARCHIVO DISPERSIONES FP\\\\Dispersión-FP 2023-09-08.xlsx',\n",
       " 'C:\\\\Users\\\\Cristian.Aparicio\\\\Documents\\\\FAST PAYMENTS\\\\2023\\\\09. SEPTIEMBRE\\\\ARCHIVO DISPERSIONES FP\\\\Dispersión-FP 2023-09-09.xlsx',\n",
       " 'C:\\\\Users\\\\Cristian.Aparicio\\\\Documents\\\\FAST PAYMENTS\\\\2023\\\\09. SEPTIEMBRE\\\\ARCHIVO DISPERSIONES FP\\\\Dispersión-FP 2023-09-10.xlsx',\n",
       " 'C:\\\\Users\\\\Cristian.Aparicio\\\\Documents\\\\FAST PAYMENTS\\\\2023\\\\09. SEPTIEMBRE\\\\ARCHIVO DISPERSIONES FP\\\\Dispersión-FP 2023-09-11.xlsx',\n",
       " 'C:\\\\Users\\\\Cristian.Aparicio\\\\Documents\\\\FAST PAYMENTS\\\\2023\\\\09. SEPTIEMBRE\\\\ARCHIVO DISPERSIONES FP\\\\Dispersión-FP 2023-09-12.xlsx',\n",
       " 'C:\\\\Users\\\\Cristian.Aparicio\\\\Documents\\\\FAST PAYMENTS\\\\2023\\\\09. SEPTIEMBRE\\\\ARCHIVO DISPERSIONES FP\\\\Dispersión-FP 2023-09-13.xlsx',\n",
       " 'C:\\\\Users\\\\Cristian.Aparicio\\\\Documents\\\\FAST PAYMENTS\\\\2023\\\\09. SEPTIEMBRE\\\\ARCHIVO DISPERSIONES FP\\\\Dispersión-FP 2023-09-14.xlsx',\n",
       " 'C:\\\\Users\\\\Cristian.Aparicio\\\\Documents\\\\FAST PAYMENTS\\\\2023\\\\09. SEPTIEMBRE\\\\ARCHIVO DISPERSIONES FP\\\\Dispersión-FP 2023-09-15.xlsx',\n",
       " 'C:\\\\Users\\\\Cristian.Aparicio\\\\Documents\\\\FAST PAYMENTS\\\\2023\\\\09. SEPTIEMBRE\\\\ARCHIVO DISPERSIONES FP\\\\Dispersión-FP 2023-09-16.xlsx',\n",
       " 'C:\\\\Users\\\\Cristian.Aparicio\\\\Documents\\\\FAST PAYMENTS\\\\2023\\\\09. SEPTIEMBRE\\\\ARCHIVO DISPERSIONES FP\\\\Dispersión-FP 2023-09-17.xlsx',\n",
       " 'C:\\\\Users\\\\Cristian.Aparicio\\\\Documents\\\\FAST PAYMENTS\\\\2023\\\\09. SEPTIEMBRE\\\\ARCHIVO DISPERSIONES FP\\\\Dispersión-FP 2023-09-18.xlsx',\n",
       " 'C:\\\\Users\\\\Cristian.Aparicio\\\\Documents\\\\FAST PAYMENTS\\\\2023\\\\09. SEPTIEMBRE\\\\ARCHIVO DISPERSIONES FP\\\\Dispersión-FP 2023-09-19.xlsx',\n",
       " 'C:\\\\Users\\\\Cristian.Aparicio\\\\Documents\\\\FAST PAYMENTS\\\\2023\\\\09. SEPTIEMBRE\\\\ARCHIVO DISPERSIONES FP\\\\Dispersión-FP 2023-09-20.xlsx',\n",
       " 'C:\\\\Users\\\\Cristian.Aparicio\\\\Documents\\\\FAST PAYMENTS\\\\2023\\\\09. SEPTIEMBRE\\\\ARCHIVO DISPERSIONES FP\\\\Dispersión-FP 2023-09-21.xlsx',\n",
       " 'C:\\\\Users\\\\Cristian.Aparicio\\\\Documents\\\\FAST PAYMENTS\\\\2023\\\\09. SEPTIEMBRE\\\\ARCHIVO DISPERSIONES FP\\\\Dispersión-FP 2023-09-22.xlsx',\n",
       " 'C:\\\\Users\\\\Cristian.Aparicio\\\\Documents\\\\FAST PAYMENTS\\\\2023\\\\09. SEPTIEMBRE\\\\ARCHIVO DISPERSIONES FP\\\\Dispersión-FP 2023-09-23.xlsx',\n",
       " 'C:\\\\Users\\\\Cristian.Aparicio\\\\Documents\\\\FAST PAYMENTS\\\\2023\\\\09. SEPTIEMBRE\\\\ARCHIVO DISPERSIONES FP\\\\Dispersión-FP 2023-09-24.xlsx',\n",
       " 'C:\\\\Users\\\\Cristian.Aparicio\\\\Documents\\\\FAST PAYMENTS\\\\2023\\\\09. SEPTIEMBRE\\\\ARCHIVO DISPERSIONES FP\\\\Dispersión-FP 2023-09-25.xlsx',\n",
       " 'C:\\\\Users\\\\Cristian.Aparicio\\\\Documents\\\\FAST PAYMENTS\\\\2023\\\\09. SEPTIEMBRE\\\\ARCHIVO DISPERSIONES FP\\\\Dispersión-FP 2023-09-26.xlsx',\n",
       " 'C:\\\\Users\\\\Cristian.Aparicio\\\\Documents\\\\FAST PAYMENTS\\\\2023\\\\09. SEPTIEMBRE\\\\ARCHIVO DISPERSIONES FP\\\\Dispersión-FP 2023-09-27.xlsx',\n",
       " 'C:\\\\Users\\\\Cristian.Aparicio\\\\Documents\\\\FAST PAYMENTS\\\\2023\\\\09. SEPTIEMBRE\\\\ARCHIVO DISPERSIONES FP\\\\Dispersión-FP 2023-09-28.xlsx',\n",
       " 'C:\\\\Users\\\\Cristian.Aparicio\\\\Documents\\\\FAST PAYMENTS\\\\2023\\\\09. SEPTIEMBRE\\\\ARCHIVO DISPERSIONES FP\\\\Dispersión-FP 2023-09-29.xlsx',\n",
       " 'C:\\\\Users\\\\Cristian.Aparicio\\\\Documents\\\\FAST PAYMENTS\\\\2023\\\\09. SEPTIEMBRE\\\\ARCHIVO DISPERSIONES FP\\\\Dispersión-FP 2023-09-30.xlsx']"
      ]
     },
     "execution_count": 19,
     "metadata": {},
     "output_type": "execute_result"
    }
   ],
   "source": [
    "fp_files_1 = glob.glob(r'C:\\Users\\Cristian.Aparicio\\Documents\\FAST PAYMENTS\\2023\\09. SEPTIEMBRE\\ARCHIVO DISPERSIONES FP\\Dispersión-FP*.xlsx', recursive=False)\n",
    "fp_files_1"
   ]
  },
  {
   "cell_type": "code",
   "execution_count": 20,
   "metadata": {},
   "outputs": [
    {
     "data": {
      "text/html": [
       "<div>\n",
       "<style scoped>\n",
       "    .dataframe tbody tr th:only-of-type {\n",
       "        vertical-align: middle;\n",
       "    }\n",
       "\n",
       "    .dataframe tbody tr th {\n",
       "        vertical-align: top;\n",
       "    }\n",
       "\n",
       "    .dataframe thead th {\n",
       "        text-align: right;\n",
       "    }\n",
       "</style>\n",
       "<table border=\"1\" class=\"dataframe\">\n",
       "  <thead>\n",
       "    <tr style=\"text-align: right;\">\n",
       "      <th></th>\n",
       "      <th>type</th>\n",
       "      <th>merchant_id</th>\n",
       "      <th>merchant_name</th>\n",
       "      <th>user_email</th>\n",
       "      <th>report_id</th>\n",
       "      <th>report_date_local</th>\n",
       "      <th>total_due</th>\n",
       "      <th>tipo</th>\n",
       "      <th>bank</th>\n",
       "      <th>swap</th>\n",
       "      <th>CLABE</th>\n",
       "      <th>status</th>\n",
       "      <th>LINEA CEP</th>\n",
       "      <th>Batch_time</th>\n",
       "      <th>Banco_emisor</th>\n",
       "      <th>file_name</th>\n",
       "      <th>date_file</th>\n",
       "    </tr>\n",
       "  </thead>\n",
       "  <tbody>\n",
       "    <tr>\n",
       "      <th>0</th>\n",
       "      <td>LEDGER_FP</td>\n",
       "      <td>157a6174-e62e-4bc3-b9be-13a1d2629842</td>\n",
       "      <td>NaN</td>\n",
       "      <td>NaN</td>\n",
       "      <td>AZXPN7HK4</td>\n",
       "      <td>2023-08-25</td>\n",
       "      <td>1,795.75</td>\n",
       "      <td>Reprogramación</td>\n",
       "      <td>ABC CAPITAL</td>\n",
       "      <td>Agustin amador riveros</td>\n",
       "      <td>138580000007632818</td>\n",
       "      <td>ERROR</td>\n",
       "      <td>NaN</td>\n",
       "      <td>02. Second_batch</td>\n",
       "      <td>SANTANDER</td>\n",
       "      <td>Dispersión-FP 2023-09-01.xlsx</td>\n",
       "      <td>2023-09-01</td>\n",
       "    </tr>\n",
       "    <tr>\n",
       "      <th>2615</th>\n",
       "      <td>LEDGER_FP</td>\n",
       "      <td>3d024780-d673-4a93-80df-1a222e4b6c09</td>\n",
       "      <td>NaN</td>\n",
       "      <td>NaN</td>\n",
       "      <td>AWDB6WSYQ</td>\n",
       "      <td>2023-09-01</td>\n",
       "      <td>201.23</td>\n",
       "      <td>Pago del día</td>\n",
       "      <td>ASP INTEGRA OPC</td>\n",
       "      <td>Juan Carlos Ocotoxtle Ecatl</td>\n",
       "      <td>659802020000124489</td>\n",
       "      <td>PAID</td>\n",
       "      <td>2023-09-01,18A534D9D7C5B3E3,40002,90659,659802...</td>\n",
       "      <td>05. Fifth_batch</td>\n",
       "      <td>BANAMEX</td>\n",
       "      <td>Dispersión-FP 2023-09-01.xlsx</td>\n",
       "      <td>2023-09-01</td>\n",
       "    </tr>\n",
       "    <tr>\n",
       "      <th>2616</th>\n",
       "      <td>LEDGER_FP</td>\n",
       "      <td>3d2acb65-5131-4828-8d0d-eebbfde6b851</td>\n",
       "      <td>NaN</td>\n",
       "      <td>NaN</td>\n",
       "      <td>AZHY9ZWW4</td>\n",
       "      <td>2023-09-01</td>\n",
       "      <td>99.66</td>\n",
       "      <td>Pago del día</td>\n",
       "      <td>ASP INTEGRA OPC</td>\n",
       "      <td>Claudia vital Ortiz</td>\n",
       "      <td>659802020000168995</td>\n",
       "      <td>PAID</td>\n",
       "      <td>2023-09-01,18A534DB4C65F87D,40002,90659,659802...</td>\n",
       "      <td>05. Fifth_batch</td>\n",
       "      <td>BANAMEX</td>\n",
       "      <td>Dispersión-FP 2023-09-01.xlsx</td>\n",
       "      <td>2023-09-01</td>\n",
       "    </tr>\n",
       "    <tr>\n",
       "      <th>2617</th>\n",
       "      <td>LEDGER_FP</td>\n",
       "      <td>3d4ad1c3-814c-4874-b443-371f6ea7fc0e</td>\n",
       "      <td>NaN</td>\n",
       "      <td>NaN</td>\n",
       "      <td>AQC8ZQB6V</td>\n",
       "      <td>2023-09-01</td>\n",
       "      <td>60.37</td>\n",
       "      <td>Pago del día</td>\n",
       "      <td>ASP INTEGRA OPC</td>\n",
       "      <td>Juana Judith Santana Rocha</td>\n",
       "      <td>659802020000382470</td>\n",
       "      <td>PAID</td>\n",
       "      <td>2023-09-01,18A534D9B8B92D3E,40002,90659,659802...</td>\n",
       "      <td>05. Fifth_batch</td>\n",
       "      <td>BANAMEX</td>\n",
       "      <td>Dispersión-FP 2023-09-01.xlsx</td>\n",
       "      <td>2023-09-01</td>\n",
       "    </tr>\n",
       "    <tr>\n",
       "      <th>2618</th>\n",
       "      <td>LEDGER_FP</td>\n",
       "      <td>3dd60d2d-6f48-42a2-a88f-faa7c2197b7b</td>\n",
       "      <td>NaN</td>\n",
       "      <td>NaN</td>\n",
       "      <td>ANXQV4J4R</td>\n",
       "      <td>2023-09-01</td>\n",
       "      <td>191.65</td>\n",
       "      <td>Pago del día</td>\n",
       "      <td>ASP INTEGRA OPC</td>\n",
       "      <td>Jorge Javier Peregrina Cuellar</td>\n",
       "      <td>659802020000086488</td>\n",
       "      <td>PAID</td>\n",
       "      <td>2023-09-01,18A534DB2E2E9B5F,40002,90659,659802...</td>\n",
       "      <td>05. Fifth_batch</td>\n",
       "      <td>BANAMEX</td>\n",
       "      <td>Dispersión-FP 2023-09-01.xlsx</td>\n",
       "      <td>2023-09-01</td>\n",
       "    </tr>\n",
       "  </tbody>\n",
       "</table>\n",
       "</div>"
      ],
      "text/plain": [
       "           type                           merchant_id merchant_name  \\\n",
       "0     LEDGER_FP  157a6174-e62e-4bc3-b9be-13a1d2629842           NaN   \n",
       "2615  LEDGER_FP  3d024780-d673-4a93-80df-1a222e4b6c09           NaN   \n",
       "2616  LEDGER_FP  3d2acb65-5131-4828-8d0d-eebbfde6b851           NaN   \n",
       "2617  LEDGER_FP  3d4ad1c3-814c-4874-b443-371f6ea7fc0e           NaN   \n",
       "2618  LEDGER_FP  3dd60d2d-6f48-42a2-a88f-faa7c2197b7b           NaN   \n",
       "\n",
       "     user_email  report_id report_date_local  total_due            tipo  \\\n",
       "0           NaN  AZXPN7HK4        2023-08-25   1,795.75  Reprogramación   \n",
       "2615        NaN  AWDB6WSYQ        2023-09-01     201.23    Pago del día   \n",
       "2616        NaN  AZHY9ZWW4        2023-09-01      99.66    Pago del día   \n",
       "2617        NaN  AQC8ZQB6V        2023-09-01      60.37    Pago del día   \n",
       "2618        NaN  ANXQV4J4R        2023-09-01     191.65    Pago del día   \n",
       "\n",
       "                 bank                            swap               CLABE  \\\n",
       "0         ABC CAPITAL          Agustin amador riveros  138580000007632818   \n",
       "2615  ASP INTEGRA OPC     Juan Carlos Ocotoxtle Ecatl  659802020000124489   \n",
       "2616  ASP INTEGRA OPC             Claudia vital Ortiz  659802020000168995   \n",
       "2617  ASP INTEGRA OPC      Juana Judith Santana Rocha  659802020000382470   \n",
       "2618  ASP INTEGRA OPC  Jorge Javier Peregrina Cuellar  659802020000086488   \n",
       "\n",
       "     status                                          LINEA CEP  \\\n",
       "0     ERROR                                                NaN   \n",
       "2615   PAID  2023-09-01,18A534D9D7C5B3E3,40002,90659,659802...   \n",
       "2616   PAID  2023-09-01,18A534DB4C65F87D,40002,90659,659802...   \n",
       "2617   PAID  2023-09-01,18A534D9B8B92D3E,40002,90659,659802...   \n",
       "2618   PAID  2023-09-01,18A534DB2E2E9B5F,40002,90659,659802...   \n",
       "\n",
       "            Batch_time Banco_emisor                      file_name  date_file  \n",
       "0     02. Second_batch    SANTANDER  Dispersión-FP 2023-09-01.xlsx 2023-09-01  \n",
       "2615   05. Fifth_batch      BANAMEX  Dispersión-FP 2023-09-01.xlsx 2023-09-01  \n",
       "2616   05. Fifth_batch      BANAMEX  Dispersión-FP 2023-09-01.xlsx 2023-09-01  \n",
       "2617   05. Fifth_batch      BANAMEX  Dispersión-FP 2023-09-01.xlsx 2023-09-01  \n",
       "2618   05. Fifth_batch      BANAMEX  Dispersión-FP 2023-09-01.xlsx 2023-09-01  "
      ]
     },
     "execution_count": 20,
     "metadata": {},
     "output_type": "execute_result"
    }
   ],
   "source": [
    "pagos_2 = pd.concat([pd.read_excel(f,sheet_name='FAST PAYMENTS').assign(file_name=os.path.basename(f)) for f in fp_files_1])\n",
    "pagos_2['date_file'] = pagos_2[\"file_name\"].str[-15:-4]\n",
    "pagos_2['date_file']= pd.to_datetime(pagos_2['date_file']) \n",
    "pagos_2.sort_values(by=['date_file'],ascending=True,inplace=True)\n",
    "pagos_2['report_date_local']= pd.to_datetime(pagos_2['report_date_local']) \n",
    "pagos_2.head()"
   ]
  },
  {
   "cell_type": "code",
   "execution_count": 21,
   "metadata": {},
   "outputs": [
    {
     "data": {
      "text/plain": [
       "(91362, 17)"
      ]
     },
     "execution_count": 21,
     "metadata": {},
     "output_type": "execute_result"
    }
   ],
   "source": [
    "pagos_2.shape"
   ]
  },
  {
   "cell_type": "markdown",
   "metadata": {},
   "source": [
    "#### PAGOS REPETIDOS FAST PAYMENTS"
   ]
  },
  {
   "cell_type": "code",
   "execution_count": 22,
   "metadata": {},
   "outputs": [
    {
     "name": "stderr",
     "output_type": "stream",
     "text": [
      "C:\\Users\\Cristian.Aparicio\\AppData\\Local\\Temp\\ipykernel_15332\\3928666323.py:2: SettingWithCopyWarning: \n",
      "A value is trying to be set on a copy of a slice from a DataFrame.\n",
      "Try using .loc[row_indexer,col_indexer] = value instead\n",
      "\n",
      "See the caveats in the documentation: https://pandas.pydata.org/pandas-docs/stable/user_guide/indexing.html#returning-a-view-versus-a-copy\n",
      "  duplicates_fp['INDEX'] = duplicates_fp['report_id'] + '_' + duplicates_fp['date_file'].astype('str')\n",
      "C:\\Users\\Cristian.Aparicio\\AppData\\Local\\Temp\\ipykernel_15332\\3928666323.py:3: SettingWithCopyWarning: \n",
      "A value is trying to be set on a copy of a slice from a DataFrame\n",
      "\n",
      "See the caveats in the documentation: https://pandas.pydata.org/pandas-docs/stable/user_guide/indexing.html#returning-a-view-versus-a-copy\n",
      "  duplicates_fp.sort_values(by=['date_file','report_id','Batch_time'],inplace=True)\n"
     ]
    },
    {
     "data": {
      "text/html": [
       "<div>\n",
       "<style scoped>\n",
       "    .dataframe tbody tr th:only-of-type {\n",
       "        vertical-align: middle;\n",
       "    }\n",
       "\n",
       "    .dataframe tbody tr th {\n",
       "        vertical-align: top;\n",
       "    }\n",
       "\n",
       "    .dataframe thead th {\n",
       "        text-align: right;\n",
       "    }\n",
       "</style>\n",
       "<table border=\"1\" class=\"dataframe\">\n",
       "  <thead>\n",
       "    <tr style=\"text-align: right;\">\n",
       "      <th></th>\n",
       "      <th>type</th>\n",
       "      <th>merchant_id</th>\n",
       "      <th>merchant_name</th>\n",
       "      <th>user_email</th>\n",
       "      <th>report_id</th>\n",
       "      <th>report_date_local</th>\n",
       "      <th>total_due</th>\n",
       "      <th>tipo</th>\n",
       "      <th>bank</th>\n",
       "      <th>swap</th>\n",
       "      <th>CLABE</th>\n",
       "      <th>status</th>\n",
       "      <th>LINEA CEP</th>\n",
       "      <th>Batch_time</th>\n",
       "      <th>Banco_emisor</th>\n",
       "      <th>file_name</th>\n",
       "      <th>date_file</th>\n",
       "      <th>INDEX</th>\n",
       "    </tr>\n",
       "  </thead>\n",
       "  <tbody>\n",
       "    <tr>\n",
       "      <th>15</th>\n",
       "      <td>LEDGER_FP</td>\n",
       "      <td>31d8ef42-0da7-4e46-8b2b-63881eeef97b</td>\n",
       "      <td>NaN</td>\n",
       "      <td>NaN</td>\n",
       "      <td>A6GZG6MXP</td>\n",
       "      <td>2023-05-28</td>\n",
       "      <td>62.29</td>\n",
       "      <td>Reprogramación</td>\n",
       "      <td>ASP INTEGRA OPC</td>\n",
       "      <td>Blanca Estela Mapula Rabago</td>\n",
       "      <td>659802020000019918</td>\n",
       "      <td>ERROR</td>\n",
       "      <td>NaN</td>\n",
       "      <td>04. Fourth_batch</td>\n",
       "      <td>SANTANDER</td>\n",
       "      <td>Dispersión-FP 2023-09-01.xlsx</td>\n",
       "      <td>2023-09-01</td>\n",
       "      <td>A6GZG6MXP_2023-09-01</td>\n",
       "    </tr>\n",
       "    <tr>\n",
       "      <th>48</th>\n",
       "      <td>LEDGER_FP</td>\n",
       "      <td>31d8ef42-0da7-4e46-8b2b-63881eeef97b</td>\n",
       "      <td>NaN</td>\n",
       "      <td>NaN</td>\n",
       "      <td>A6GZG6MXP</td>\n",
       "      <td>2023-05-28</td>\n",
       "      <td>62.29</td>\n",
       "      <td>Reprogramación</td>\n",
       "      <td>ASP INTEGRA OPC</td>\n",
       "      <td>Blanca Estela Mapula Rabago</td>\n",
       "      <td>659802020000019918</td>\n",
       "      <td>ERROR</td>\n",
       "      <td>NaN</td>\n",
       "      <td>06. Sixth_batch</td>\n",
       "      <td>BANAMEX</td>\n",
       "      <td>Dispersión-FP 2023-09-01.xlsx</td>\n",
       "      <td>2023-09-01</td>\n",
       "      <td>A6GZG6MXP_2023-09-01</td>\n",
       "    </tr>\n",
       "    <tr>\n",
       "      <th>12</th>\n",
       "      <td>LEDGER_FP</td>\n",
       "      <td>31d8ef42-0da7-4e46-8b2b-63881eeef97b</td>\n",
       "      <td>NaN</td>\n",
       "      <td>NaN</td>\n",
       "      <td>A889RR9GV</td>\n",
       "      <td>2023-05-27</td>\n",
       "      <td>271.19</td>\n",
       "      <td>Reprogramación</td>\n",
       "      <td>ASP INTEGRA OPC</td>\n",
       "      <td>Blanca Estela Mapula Rabago</td>\n",
       "      <td>659802020000019918</td>\n",
       "      <td>ERROR</td>\n",
       "      <td>NaN</td>\n",
       "      <td>04. Fourth_batch</td>\n",
       "      <td>SANTANDER</td>\n",
       "      <td>Dispersión-FP 2023-09-01.xlsx</td>\n",
       "      <td>2023-09-01</td>\n",
       "      <td>A889RR9GV_2023-09-01</td>\n",
       "    </tr>\n",
       "    <tr>\n",
       "      <th>45</th>\n",
       "      <td>LEDGER_FP</td>\n",
       "      <td>31d8ef42-0da7-4e46-8b2b-63881eeef97b</td>\n",
       "      <td>NaN</td>\n",
       "      <td>NaN</td>\n",
       "      <td>A889RR9GV</td>\n",
       "      <td>2023-05-27</td>\n",
       "      <td>271.19</td>\n",
       "      <td>Reprogramación</td>\n",
       "      <td>ASP INTEGRA OPC</td>\n",
       "      <td>Blanca Estela Mapula Rabago</td>\n",
       "      <td>659802020000019918</td>\n",
       "      <td>ERROR</td>\n",
       "      <td>NaN</td>\n",
       "      <td>06. Sixth_batch</td>\n",
       "      <td>BANAMEX</td>\n",
       "      <td>Dispersión-FP 2023-09-01.xlsx</td>\n",
       "      <td>2023-09-01</td>\n",
       "      <td>A889RR9GV_2023-09-01</td>\n",
       "    </tr>\n",
       "    <tr>\n",
       "      <th>8</th>\n",
       "      <td>LEDGER_FP</td>\n",
       "      <td>4e4123d9-02b4-4217-a791-f3e4c83df092</td>\n",
       "      <td>NaN</td>\n",
       "      <td>NaN</td>\n",
       "      <td>AD6ZJ92BW</td>\n",
       "      <td>2023-08-31</td>\n",
       "      <td>5,829.46</td>\n",
       "      <td>Reprogramación</td>\n",
       "      <td>SCOTIABANK</td>\n",
       "      <td>Administradora General Rubio</td>\n",
       "      <td>44854256000101389</td>\n",
       "      <td>ERROR</td>\n",
       "      <td>NaN</td>\n",
       "      <td>02. Second_batch</td>\n",
       "      <td>SANTANDER</td>\n",
       "      <td>Dispersión-FP 2023-09-01.xlsx</td>\n",
       "      <td>2023-09-01</td>\n",
       "      <td>AD6ZJ92BW_2023-09-01</td>\n",
       "    </tr>\n",
       "  </tbody>\n",
       "</table>\n",
       "</div>"
      ],
      "text/plain": [
       "         type                           merchant_id merchant_name user_email  \\\n",
       "15  LEDGER_FP  31d8ef42-0da7-4e46-8b2b-63881eeef97b           NaN        NaN   \n",
       "48  LEDGER_FP  31d8ef42-0da7-4e46-8b2b-63881eeef97b           NaN        NaN   \n",
       "12  LEDGER_FP  31d8ef42-0da7-4e46-8b2b-63881eeef97b           NaN        NaN   \n",
       "45  LEDGER_FP  31d8ef42-0da7-4e46-8b2b-63881eeef97b           NaN        NaN   \n",
       "8   LEDGER_FP  4e4123d9-02b4-4217-a791-f3e4c83df092           NaN        NaN   \n",
       "\n",
       "    report_id report_date_local  total_due            tipo             bank  \\\n",
       "15  A6GZG6MXP        2023-05-28      62.29  Reprogramación  ASP INTEGRA OPC   \n",
       "48  A6GZG6MXP        2023-05-28      62.29  Reprogramación  ASP INTEGRA OPC   \n",
       "12  A889RR9GV        2023-05-27     271.19  Reprogramación  ASP INTEGRA OPC   \n",
       "45  A889RR9GV        2023-05-27     271.19  Reprogramación  ASP INTEGRA OPC   \n",
       "8   AD6ZJ92BW        2023-08-31   5,829.46  Reprogramación       SCOTIABANK   \n",
       "\n",
       "                            swap               CLABE status LINEA CEP  \\\n",
       "15   Blanca Estela Mapula Rabago  659802020000019918  ERROR       NaN   \n",
       "48   Blanca Estela Mapula Rabago  659802020000019918  ERROR       NaN   \n",
       "12   Blanca Estela Mapula Rabago  659802020000019918  ERROR       NaN   \n",
       "45   Blanca Estela Mapula Rabago  659802020000019918  ERROR       NaN   \n",
       "8   Administradora General Rubio   44854256000101389  ERROR       NaN   \n",
       "\n",
       "          Batch_time Banco_emisor                      file_name  date_file  \\\n",
       "15  04. Fourth_batch    SANTANDER  Dispersión-FP 2023-09-01.xlsx 2023-09-01   \n",
       "48   06. Sixth_batch      BANAMEX  Dispersión-FP 2023-09-01.xlsx 2023-09-01   \n",
       "12  04. Fourth_batch    SANTANDER  Dispersión-FP 2023-09-01.xlsx 2023-09-01   \n",
       "45   06. Sixth_batch      BANAMEX  Dispersión-FP 2023-09-01.xlsx 2023-09-01   \n",
       "8   02. Second_batch    SANTANDER  Dispersión-FP 2023-09-01.xlsx 2023-09-01   \n",
       "\n",
       "                   INDEX  \n",
       "15  A6GZG6MXP_2023-09-01  \n",
       "48  A6GZG6MXP_2023-09-01  \n",
       "12  A889RR9GV_2023-09-01  \n",
       "45  A889RR9GV_2023-09-01  \n",
       "8   AD6ZJ92BW_2023-09-01  "
      ]
     },
     "execution_count": 22,
     "metadata": {},
     "output_type": "execute_result"
    }
   ],
   "source": [
    "duplicates_fp = pagos_2[pagos_2.duplicated(['report_id','date_file'] , keep=False)]\n",
    "duplicates_fp['INDEX'] = duplicates_fp['report_id'] + '_' + duplicates_fp['date_file'].astype('str')\n",
    "duplicates_fp.sort_values(by=['date_file','report_id','Batch_time'],inplace=True)\n",
    "duplicates_fp.head()"
   ]
  },
  {
   "cell_type": "code",
   "execution_count": 23,
   "metadata": {},
   "outputs": [
    {
     "data": {
      "text/plain": [
       "(3074, 18)"
      ]
     },
     "execution_count": 23,
     "metadata": {},
     "output_type": "execute_result"
    }
   ],
   "source": [
    "duplicates_fp.shape"
   ]
  },
  {
   "cell_type": "code",
   "execution_count": 24,
   "metadata": {},
   "outputs": [
    {
     "name": "stderr",
     "output_type": "stream",
     "text": [
      "C:\\Users\\Cristian.Aparicio\\AppData\\Local\\Temp\\ipykernel_15332\\2218390481.py:1: SettingWithCopyWarning: \n",
      "A value is trying to be set on a copy of a slice from a DataFrame\n",
      "\n",
      "See the caveats in the documentation: https://pandas.pydata.org/pandas-docs/stable/user_guide/indexing.html#returning-a-view-versus-a-copy\n",
      "  duplicates_fp.drop_duplicates(subset=\"INDEX\", keep='last', inplace=True)\n"
     ]
    }
   ],
   "source": [
    "duplicates_fp.drop_duplicates(subset=\"INDEX\", keep='last', inplace=True)"
   ]
  },
  {
   "cell_type": "code",
   "execution_count": 25,
   "metadata": {},
   "outputs": [
    {
     "data": {
      "text/html": [
       "<div>\n",
       "<style scoped>\n",
       "    .dataframe tbody tr th:only-of-type {\n",
       "        vertical-align: middle;\n",
       "    }\n",
       "\n",
       "    .dataframe tbody tr th {\n",
       "        vertical-align: top;\n",
       "    }\n",
       "\n",
       "    .dataframe thead th {\n",
       "        text-align: right;\n",
       "    }\n",
       "</style>\n",
       "<table border=\"1\" class=\"dataframe\">\n",
       "  <thead>\n",
       "    <tr style=\"text-align: right;\">\n",
       "      <th></th>\n",
       "      <th>type</th>\n",
       "      <th>merchant_id</th>\n",
       "      <th>merchant_name</th>\n",
       "      <th>user_email</th>\n",
       "      <th>report_id</th>\n",
       "      <th>report_date_local</th>\n",
       "      <th>total_due</th>\n",
       "      <th>tipo</th>\n",
       "      <th>bank</th>\n",
       "      <th>swap</th>\n",
       "      <th>CLABE</th>\n",
       "      <th>status</th>\n",
       "      <th>LINEA CEP</th>\n",
       "      <th>Batch_time</th>\n",
       "      <th>Banco_emisor</th>\n",
       "      <th>file_name</th>\n",
       "      <th>date_file</th>\n",
       "      <th>INDEX</th>\n",
       "    </tr>\n",
       "  </thead>\n",
       "  <tbody>\n",
       "    <tr>\n",
       "      <th>48</th>\n",
       "      <td>LEDGER_FP</td>\n",
       "      <td>31d8ef42-0da7-4e46-8b2b-63881eeef97b</td>\n",
       "      <td>NaN</td>\n",
       "      <td>NaN</td>\n",
       "      <td>A6GZG6MXP</td>\n",
       "      <td>2023-05-28</td>\n",
       "      <td>62.29</td>\n",
       "      <td>Reprogramación</td>\n",
       "      <td>ASP INTEGRA OPC</td>\n",
       "      <td>Blanca Estela Mapula Rabago</td>\n",
       "      <td>659802020000019918</td>\n",
       "      <td>ERROR</td>\n",
       "      <td>NaN</td>\n",
       "      <td>06. Sixth_batch</td>\n",
       "      <td>BANAMEX</td>\n",
       "      <td>Dispersión-FP 2023-09-01.xlsx</td>\n",
       "      <td>2023-09-01</td>\n",
       "      <td>A6GZG6MXP_2023-09-01</td>\n",
       "    </tr>\n",
       "    <tr>\n",
       "      <th>45</th>\n",
       "      <td>LEDGER_FP</td>\n",
       "      <td>31d8ef42-0da7-4e46-8b2b-63881eeef97b</td>\n",
       "      <td>NaN</td>\n",
       "      <td>NaN</td>\n",
       "      <td>A889RR9GV</td>\n",
       "      <td>2023-05-27</td>\n",
       "      <td>271.19</td>\n",
       "      <td>Reprogramación</td>\n",
       "      <td>ASP INTEGRA OPC</td>\n",
       "      <td>Blanca Estela Mapula Rabago</td>\n",
       "      <td>659802020000019918</td>\n",
       "      <td>ERROR</td>\n",
       "      <td>NaN</td>\n",
       "      <td>06. Sixth_batch</td>\n",
       "      <td>BANAMEX</td>\n",
       "      <td>Dispersión-FP 2023-09-01.xlsx</td>\n",
       "      <td>2023-09-01</td>\n",
       "      <td>A889RR9GV_2023-09-01</td>\n",
       "    </tr>\n",
       "    <tr>\n",
       "      <th>57</th>\n",
       "      <td>LEDGER_FP</td>\n",
       "      <td>4e4123d9-02b4-4217-a791-f3e4c83df092</td>\n",
       "      <td>NaN</td>\n",
       "      <td>NaN</td>\n",
       "      <td>AD6ZJ92BW</td>\n",
       "      <td>2023-08-31</td>\n",
       "      <td>5,829.46</td>\n",
       "      <td>Reprogramación</td>\n",
       "      <td>SCOTIABANK</td>\n",
       "      <td>Administradora General Rubio</td>\n",
       "      <td>44854256000101389</td>\n",
       "      <td>ERROR</td>\n",
       "      <td>NaN</td>\n",
       "      <td>06. Sixth_batch</td>\n",
       "      <td>BANAMEX</td>\n",
       "      <td>Dispersión-FP 2023-09-01.xlsx</td>\n",
       "      <td>2023-09-01</td>\n",
       "      <td>AD6ZJ92BW_2023-09-01</td>\n",
       "    </tr>\n",
       "    <tr>\n",
       "      <th>47</th>\n",
       "      <td>LEDGER_FP</td>\n",
       "      <td>31d8ef42-0da7-4e46-8b2b-63881eeef97b</td>\n",
       "      <td>NaN</td>\n",
       "      <td>NaN</td>\n",
       "      <td>AGZ6K3HB3</td>\n",
       "      <td>2023-05-28</td>\n",
       "      <td>435.03</td>\n",
       "      <td>Reprogramación</td>\n",
       "      <td>ASP INTEGRA OPC</td>\n",
       "      <td>Blanca Estela Mapula Rabago</td>\n",
       "      <td>659802020000019918</td>\n",
       "      <td>ERROR</td>\n",
       "      <td>NaN</td>\n",
       "      <td>06. Sixth_batch</td>\n",
       "      <td>BANAMEX</td>\n",
       "      <td>Dispersión-FP 2023-09-01.xlsx</td>\n",
       "      <td>2023-09-01</td>\n",
       "      <td>AGZ6K3HB3_2023-09-01</td>\n",
       "    </tr>\n",
       "    <tr>\n",
       "      <th>56</th>\n",
       "      <td>LEDGER_FP</td>\n",
       "      <td>4e4123d9-02b4-4217-a791-f3e4c83df092</td>\n",
       "      <td>NaN</td>\n",
       "      <td>NaN</td>\n",
       "      <td>AHH5BMSJB</td>\n",
       "      <td>2023-08-30</td>\n",
       "      <td>3,296.33</td>\n",
       "      <td>Reprogramación</td>\n",
       "      <td>SCOTIABANK</td>\n",
       "      <td>Administradora General Rubio</td>\n",
       "      <td>44854256000101389</td>\n",
       "      <td>ERROR</td>\n",
       "      <td>NaN</td>\n",
       "      <td>06. Sixth_batch</td>\n",
       "      <td>BANAMEX</td>\n",
       "      <td>Dispersión-FP 2023-09-01.xlsx</td>\n",
       "      <td>2023-09-01</td>\n",
       "      <td>AHH5BMSJB_2023-09-01</td>\n",
       "    </tr>\n",
       "  </tbody>\n",
       "</table>\n",
       "</div>"
      ],
      "text/plain": [
       "         type                           merchant_id merchant_name user_email  \\\n",
       "48  LEDGER_FP  31d8ef42-0da7-4e46-8b2b-63881eeef97b           NaN        NaN   \n",
       "45  LEDGER_FP  31d8ef42-0da7-4e46-8b2b-63881eeef97b           NaN        NaN   \n",
       "57  LEDGER_FP  4e4123d9-02b4-4217-a791-f3e4c83df092           NaN        NaN   \n",
       "47  LEDGER_FP  31d8ef42-0da7-4e46-8b2b-63881eeef97b           NaN        NaN   \n",
       "56  LEDGER_FP  4e4123d9-02b4-4217-a791-f3e4c83df092           NaN        NaN   \n",
       "\n",
       "    report_id report_date_local  total_due            tipo             bank  \\\n",
       "48  A6GZG6MXP        2023-05-28      62.29  Reprogramación  ASP INTEGRA OPC   \n",
       "45  A889RR9GV        2023-05-27     271.19  Reprogramación  ASP INTEGRA OPC   \n",
       "57  AD6ZJ92BW        2023-08-31   5,829.46  Reprogramación       SCOTIABANK   \n",
       "47  AGZ6K3HB3        2023-05-28     435.03  Reprogramación  ASP INTEGRA OPC   \n",
       "56  AHH5BMSJB        2023-08-30   3,296.33  Reprogramación       SCOTIABANK   \n",
       "\n",
       "                            swap               CLABE status LINEA CEP  \\\n",
       "48   Blanca Estela Mapula Rabago  659802020000019918  ERROR       NaN   \n",
       "45   Blanca Estela Mapula Rabago  659802020000019918  ERROR       NaN   \n",
       "57  Administradora General Rubio   44854256000101389  ERROR       NaN   \n",
       "47   Blanca Estela Mapula Rabago  659802020000019918  ERROR       NaN   \n",
       "56  Administradora General Rubio   44854256000101389  ERROR       NaN   \n",
       "\n",
       "         Batch_time Banco_emisor                      file_name  date_file  \\\n",
       "48  06. Sixth_batch      BANAMEX  Dispersión-FP 2023-09-01.xlsx 2023-09-01   \n",
       "45  06. Sixth_batch      BANAMEX  Dispersión-FP 2023-09-01.xlsx 2023-09-01   \n",
       "57  06. Sixth_batch      BANAMEX  Dispersión-FP 2023-09-01.xlsx 2023-09-01   \n",
       "47  06. Sixth_batch      BANAMEX  Dispersión-FP 2023-09-01.xlsx 2023-09-01   \n",
       "56  06. Sixth_batch      BANAMEX  Dispersión-FP 2023-09-01.xlsx 2023-09-01   \n",
       "\n",
       "                   INDEX  \n",
       "48  A6GZG6MXP_2023-09-01  \n",
       "45  A889RR9GV_2023-09-01  \n",
       "57  AD6ZJ92BW_2023-09-01  \n",
       "47  AGZ6K3HB3_2023-09-01  \n",
       "56  AHH5BMSJB_2023-09-01  "
      ]
     },
     "execution_count": 25,
     "metadata": {},
     "output_type": "execute_result"
    }
   ],
   "source": [
    "duplicates_fp.head()"
   ]
  },
  {
   "cell_type": "code",
   "execution_count": 26,
   "metadata": {},
   "outputs": [
    {
     "data": {
      "text/plain": [
       "(1440, 18)"
      ]
     },
     "execution_count": 26,
     "metadata": {},
     "output_type": "execute_result"
    }
   ],
   "source": [
    "duplicates_fp.shape"
   ]
  },
  {
   "cell_type": "code",
   "execution_count": 27,
   "metadata": {},
   "outputs": [
    {
     "data": {
      "text/html": [
       "<div>\n",
       "<style scoped>\n",
       "    .dataframe tbody tr th:only-of-type {\n",
       "        vertical-align: middle;\n",
       "    }\n",
       "\n",
       "    .dataframe tbody tr th {\n",
       "        vertical-align: top;\n",
       "    }\n",
       "\n",
       "    .dataframe thead tr th {\n",
       "        text-align: left;\n",
       "    }\n",
       "</style>\n",
       "<table border=\"1\" class=\"dataframe\">\n",
       "  <thead>\n",
       "    <tr>\n",
       "      <th></th>\n",
       "      <th>tipo</th>\n",
       "      <th>date_file</th>\n",
       "      <th colspan=\"3\" halign=\"left\">sum</th>\n",
       "      <th colspan=\"3\" halign=\"left\">len</th>\n",
       "    </tr>\n",
       "    <tr>\n",
       "      <th></th>\n",
       "      <th></th>\n",
       "      <th></th>\n",
       "      <th colspan=\"3\" halign=\"left\">total_due</th>\n",
       "      <th colspan=\"3\" halign=\"left\">total_due</th>\n",
       "    </tr>\n",
       "    <tr>\n",
       "      <th>type</th>\n",
       "      <th></th>\n",
       "      <th></th>\n",
       "      <th>INSTANT</th>\n",
       "      <th>LEDGER_FP</th>\n",
       "      <th>All</th>\n",
       "      <th>INSTANT</th>\n",
       "      <th>LEDGER_FP</th>\n",
       "      <th>All</th>\n",
       "    </tr>\n",
       "  </thead>\n",
       "  <tbody>\n",
       "    <tr>\n",
       "      <th>0</th>\n",
       "      <td>Pago del día</td>\n",
       "      <td>2023-09-01 00:00:00</td>\n",
       "      <td>NaN</td>\n",
       "      <td>25,872.48</td>\n",
       "      <td>25,872.48</td>\n",
       "      <td>NaN</td>\n",
       "      <td>1.00</td>\n",
       "      <td>1</td>\n",
       "    </tr>\n",
       "    <tr>\n",
       "      <th>1</th>\n",
       "      <td>Pago del día</td>\n",
       "      <td>2023-09-02 00:00:00</td>\n",
       "      <td>NaN</td>\n",
       "      <td>93,658.31</td>\n",
       "      <td>93,658.31</td>\n",
       "      <td>NaN</td>\n",
       "      <td>33.00</td>\n",
       "      <td>33</td>\n",
       "    </tr>\n",
       "    <tr>\n",
       "      <th>2</th>\n",
       "      <td>Pago del día</td>\n",
       "      <td>2023-09-03 00:00:00</td>\n",
       "      <td>NaN</td>\n",
       "      <td>76,452.45</td>\n",
       "      <td>76,452.45</td>\n",
       "      <td>NaN</td>\n",
       "      <td>29.00</td>\n",
       "      <td>29</td>\n",
       "    </tr>\n",
       "    <tr>\n",
       "      <th>3</th>\n",
       "      <td>Pago del día</td>\n",
       "      <td>2023-09-05 00:00:00</td>\n",
       "      <td>NaN</td>\n",
       "      <td>24.12</td>\n",
       "      <td>24.12</td>\n",
       "      <td>NaN</td>\n",
       "      <td>1.00</td>\n",
       "      <td>1</td>\n",
       "    </tr>\n",
       "    <tr>\n",
       "      <th>4</th>\n",
       "      <td>Pago del día</td>\n",
       "      <td>2023-09-06 00:00:00</td>\n",
       "      <td>NaN</td>\n",
       "      <td>1,687.95</td>\n",
       "      <td>1,687.95</td>\n",
       "      <td>NaN</td>\n",
       "      <td>2.00</td>\n",
       "      <td>2</td>\n",
       "    </tr>\n",
       "  </tbody>\n",
       "</table>\n",
       "</div>"
      ],
      "text/plain": [
       "              tipo            date_file       sum                      \\\n",
       "                                        total_due                       \n",
       "type                                      INSTANT LEDGER_FP       All   \n",
       "0     Pago del día  2023-09-01 00:00:00       NaN 25,872.48 25,872.48   \n",
       "1     Pago del día  2023-09-02 00:00:00       NaN 93,658.31 93,658.31   \n",
       "2     Pago del día  2023-09-03 00:00:00       NaN 76,452.45 76,452.45   \n",
       "3     Pago del día  2023-09-05 00:00:00       NaN     24.12     24.12   \n",
       "4     Pago del día  2023-09-06 00:00:00       NaN  1,687.95  1,687.95   \n",
       "\n",
       "           len                \n",
       "     total_due                \n",
       "type   INSTANT LEDGER_FP All  \n",
       "0          NaN      1.00   1  \n",
       "1          NaN     33.00  33  \n",
       "2          NaN     29.00  29  \n",
       "3          NaN      1.00   1  \n",
       "4          NaN      2.00   2  "
      ]
     },
     "execution_count": 27,
     "metadata": {},
     "output_type": "execute_result"
    }
   ],
   "source": [
    "pivot_duplicates_fp = pd.pivot_table(duplicates_fp,index=['tipo','date_file'],\n",
    "                                     columns=['type'],\n",
    "                                  values=['total_due']\n",
    "                                  ,aggfunc = ['sum', len],margins=True)\n",
    "pivot_duplicates_fp.reset_index(drop=False, inplace=True)\n",
    "pivot_duplicates_fp.head()"
   ]
  },
  {
   "cell_type": "code",
   "execution_count": 28,
   "metadata": {},
   "outputs": [
    {
     "data": {
      "text/plain": [
       "(44, 8)"
      ]
     },
     "execution_count": 28,
     "metadata": {},
     "output_type": "execute_result"
    }
   ],
   "source": [
    "pivot_duplicates_fp.shape"
   ]
  },
  {
   "cell_type": "code",
   "execution_count": 29,
   "metadata": {},
   "outputs": [],
   "source": [
    "# pivot_duplicates_fp.to_excel('DUPLICADOS FP JUNIO 2021.xlsx',index=True)"
   ]
  },
  {
   "cell_type": "markdown",
   "metadata": {},
   "source": [
    "#### ALL PAGOS"
   ]
  },
  {
   "cell_type": "code",
   "execution_count": 30,
   "metadata": {},
   "outputs": [
    {
     "data": {
      "text/html": [
       "<div>\n",
       "<style scoped>\n",
       "    .dataframe tbody tr th:only-of-type {\n",
       "        vertical-align: middle;\n",
       "    }\n",
       "\n",
       "    .dataframe tbody tr th {\n",
       "        vertical-align: top;\n",
       "    }\n",
       "\n",
       "    .dataframe thead th {\n",
       "        text-align: right;\n",
       "    }\n",
       "</style>\n",
       "<table border=\"1\" class=\"dataframe\">\n",
       "  <thead>\n",
       "    <tr style=\"text-align: right;\">\n",
       "      <th></th>\n",
       "      <th>type</th>\n",
       "      <th>merchant_id</th>\n",
       "      <th>merchant_name</th>\n",
       "      <th>user_email</th>\n",
       "      <th>report_id</th>\n",
       "      <th>report_date_local</th>\n",
       "      <th>total_due</th>\n",
       "      <th>tipo</th>\n",
       "      <th>bank</th>\n",
       "      <th>bank_account_owner_name</th>\n",
       "      <th>CLABE</th>\n",
       "      <th>status</th>\n",
       "      <th>LINEA CEP</th>\n",
       "      <th>Batch_time</th>\n",
       "      <th>Banco_emisor</th>\n",
       "      <th>file_name</th>\n",
       "      <th>date_file</th>\n",
       "      <th>swap</th>\n",
       "    </tr>\n",
       "  </thead>\n",
       "  <tbody>\n",
       "    <tr>\n",
       "      <th>0</th>\n",
       "      <td>LEDGER_TRAD</td>\n",
       "      <td>00776a5d-ce34-4e34-9ede-fabe44d97163</td>\n",
       "      <td>NaN</td>\n",
       "      <td>NaN</td>\n",
       "      <td>AWDQT7GG5</td>\n",
       "      <td>2023-09-01</td>\n",
       "      <td>1,222.71</td>\n",
       "      <td>Pago del día</td>\n",
       "      <td>SCOTIABANK</td>\n",
       "      <td>Administradora General Rubio SA DE CV</td>\n",
       "      <td>44854256000101389</td>\n",
       "      <td>ERROR</td>\n",
       "      <td>NaN</td>\n",
       "      <td>01. First_batch</td>\n",
       "      <td>SANTANDER</td>\n",
       "      <td>Dispersión-20230901.xlsx</td>\n",
       "      <td>2023-09-01</td>\n",
       "      <td>NaN</td>\n",
       "    </tr>\n",
       "    <tr>\n",
       "      <th>71689</th>\n",
       "      <td>LEDGER_TRAD</td>\n",
       "      <td>ac071ac1-cdd9-422b-8c18-a3acf1478888</td>\n",
       "      <td>NaN</td>\n",
       "      <td>NaN</td>\n",
       "      <td>AXWQ3DFY5</td>\n",
       "      <td>2023-09-01</td>\n",
       "      <td>452.28</td>\n",
       "      <td>Pago del día</td>\n",
       "      <td>BBVA BANCOMER</td>\n",
       "      <td>Héctor Hugo Arredondo Ramírez</td>\n",
       "      <td>12215028738032875</td>\n",
       "      <td>PAID</td>\n",
       "      <td>2023-09-01,20230901400140HDH0001428319790,4001...</td>\n",
       "      <td>01. First_batch</td>\n",
       "      <td>SANTANDER</td>\n",
       "      <td>Dispersión-20230901.xlsx</td>\n",
       "      <td>2023-09-01</td>\n",
       "      <td>NaN</td>\n",
       "    </tr>\n",
       "    <tr>\n",
       "      <th>71688</th>\n",
       "      <td>LEDGER_TRAD</td>\n",
       "      <td>ac04ced4-e7b2-40b1-a399-a030998a0850</td>\n",
       "      <td>NaN</td>\n",
       "      <td>NaN</td>\n",
       "      <td>AVLVR986F</td>\n",
       "      <td>2023-09-01</td>\n",
       "      <td>3,641.31</td>\n",
       "      <td>Pago del día</td>\n",
       "      <td>BANORTE/IXE</td>\n",
       "      <td>Jesús cisneros valdes</td>\n",
       "      <td>72078011688553164</td>\n",
       "      <td>PAID</td>\n",
       "      <td>2023-09-01,20230901400140HDH0001428319710,4001...</td>\n",
       "      <td>01. First_batch</td>\n",
       "      <td>SANTANDER</td>\n",
       "      <td>Dispersión-20230901.xlsx</td>\n",
       "      <td>2023-09-01</td>\n",
       "      <td>NaN</td>\n",
       "    </tr>\n",
       "    <tr>\n",
       "      <th>71687</th>\n",
       "      <td>LEDGER_TRAD</td>\n",
       "      <td>ac044e7f-b743-4fad-aed6-ac304373c324</td>\n",
       "      <td>NaN</td>\n",
       "      <td>NaN</td>\n",
       "      <td>ALDJCF7JJ</td>\n",
       "      <td>2023-09-01</td>\n",
       "      <td>91.03</td>\n",
       "      <td>Pago del día</td>\n",
       "      <td>AZTECA</td>\n",
       "      <td>Erick Daniel Fuentes Enciso</td>\n",
       "      <td>127180013593832821</td>\n",
       "      <td>PAID</td>\n",
       "      <td>2023-09-01,20230901400140HDH0001428319610,4001...</td>\n",
       "      <td>01. First_batch</td>\n",
       "      <td>SANTANDER</td>\n",
       "      <td>Dispersión-20230901.xlsx</td>\n",
       "      <td>2023-09-01</td>\n",
       "      <td>NaN</td>\n",
       "    </tr>\n",
       "    <tr>\n",
       "      <th>71686</th>\n",
       "      <td>LEDGER_TRAD</td>\n",
       "      <td>ac03bd01-f909-4906-860e-6978fd6c0c68</td>\n",
       "      <td>NaN</td>\n",
       "      <td>NaN</td>\n",
       "      <td>ACH5KHNL3</td>\n",
       "      <td>2023-09-01</td>\n",
       "      <td>546.19</td>\n",
       "      <td>Pago del día</td>\n",
       "      <td>BBVA BANCOMER</td>\n",
       "      <td>Bernardo</td>\n",
       "      <td>12190015876353599</td>\n",
       "      <td>PAID</td>\n",
       "      <td>2023-09-01,20230901400140HDH0001428319480,4001...</td>\n",
       "      <td>01. First_batch</td>\n",
       "      <td>SANTANDER</td>\n",
       "      <td>Dispersión-20230901.xlsx</td>\n",
       "      <td>2023-09-01</td>\n",
       "      <td>NaN</td>\n",
       "    </tr>\n",
       "  </tbody>\n",
       "</table>\n",
       "</div>"
      ],
      "text/plain": [
       "              type                           merchant_id merchant_name  \\\n",
       "0      LEDGER_TRAD  00776a5d-ce34-4e34-9ede-fabe44d97163           NaN   \n",
       "71689  LEDGER_TRAD  ac071ac1-cdd9-422b-8c18-a3acf1478888           NaN   \n",
       "71688  LEDGER_TRAD  ac04ced4-e7b2-40b1-a399-a030998a0850           NaN   \n",
       "71687  LEDGER_TRAD  ac044e7f-b743-4fad-aed6-ac304373c324           NaN   \n",
       "71686  LEDGER_TRAD  ac03bd01-f909-4906-860e-6978fd6c0c68           NaN   \n",
       "\n",
       "      user_email  report_id report_date_local  total_due          tipo  \\\n",
       "0            NaN  AWDQT7GG5        2023-09-01   1,222.71  Pago del día   \n",
       "71689        NaN  AXWQ3DFY5        2023-09-01     452.28  Pago del día   \n",
       "71688        NaN  AVLVR986F        2023-09-01   3,641.31  Pago del día   \n",
       "71687        NaN  ALDJCF7JJ        2023-09-01      91.03  Pago del día   \n",
       "71686        NaN  ACH5KHNL3        2023-09-01     546.19  Pago del día   \n",
       "\n",
       "                bank                bank_account_owner_name  \\\n",
       "0         SCOTIABANK  Administradora General Rubio SA DE CV   \n",
       "71689  BBVA BANCOMER          Héctor Hugo Arredondo Ramírez   \n",
       "71688    BANORTE/IXE                  Jesús cisneros valdes   \n",
       "71687         AZTECA            Erick Daniel Fuentes Enciso   \n",
       "71686  BBVA BANCOMER                               Bernardo   \n",
       "\n",
       "                    CLABE status  \\\n",
       "0       44854256000101389  ERROR   \n",
       "71689   12215028738032875   PAID   \n",
       "71688   72078011688553164   PAID   \n",
       "71687  127180013593832821   PAID   \n",
       "71686   12190015876353599   PAID   \n",
       "\n",
       "                                               LINEA CEP       Batch_time  \\\n",
       "0                                                    NaN  01. First_batch   \n",
       "71689  2023-09-01,20230901400140HDH0001428319790,4001...  01. First_batch   \n",
       "71688  2023-09-01,20230901400140HDH0001428319710,4001...  01. First_batch   \n",
       "71687  2023-09-01,20230901400140HDH0001428319610,4001...  01. First_batch   \n",
       "71686  2023-09-01,20230901400140HDH0001428319480,4001...  01. First_batch   \n",
       "\n",
       "      Banco_emisor                 file_name  date_file swap  \n",
       "0        SANTANDER  Dispersión-20230901.xlsx 2023-09-01  NaN  \n",
       "71689    SANTANDER  Dispersión-20230901.xlsx 2023-09-01  NaN  \n",
       "71688    SANTANDER  Dispersión-20230901.xlsx 2023-09-01  NaN  \n",
       "71687    SANTANDER  Dispersión-20230901.xlsx 2023-09-01  NaN  \n",
       "71686    SANTANDER  Dispersión-20230901.xlsx 2023-09-01  NaN  "
      ]
     },
     "execution_count": 30,
     "metadata": {},
     "output_type": "execute_result"
    }
   ],
   "source": [
    "allpagos = pd.concat([pagos_1,pagos_2])\n",
    "allpagos.head()"
   ]
  },
  {
   "cell_type": "code",
   "execution_count": 31,
   "metadata": {},
   "outputs": [
    {
     "data": {
      "text/plain": [
       "(3069677, 18)"
      ]
     },
     "execution_count": 31,
     "metadata": {},
     "output_type": "execute_result"
    }
   ],
   "source": [
    "allpagos.shape"
   ]
  },
  {
   "cell_type": "code",
   "execution_count": 32,
   "metadata": {},
   "outputs": [
    {
     "data": {
      "text/plain": [
       "array(['Pago del día', 'Reprogramación'], dtype=object)"
      ]
     },
     "execution_count": 32,
     "metadata": {},
     "output_type": "execute_result"
    }
   ],
   "source": [
    "allpagos['tipo'].unique()"
   ]
  },
  {
   "cell_type": "code",
   "execution_count": 33,
   "metadata": {},
   "outputs": [
    {
     "data": {
      "text/html": [
       "<div>\n",
       "<style scoped>\n",
       "    .dataframe tbody tr th:only-of-type {\n",
       "        vertical-align: middle;\n",
       "    }\n",
       "\n",
       "    .dataframe tbody tr th {\n",
       "        vertical-align: top;\n",
       "    }\n",
       "\n",
       "    .dataframe thead th {\n",
       "        text-align: right;\n",
       "    }\n",
       "</style>\n",
       "<table border=\"1\" class=\"dataframe\">\n",
       "  <thead>\n",
       "    <tr style=\"text-align: right;\">\n",
       "      <th></th>\n",
       "      <th>date_file</th>\n",
       "      <th>total_due</th>\n",
       "      <th>report_id</th>\n",
       "    </tr>\n",
       "  </thead>\n",
       "  <tbody>\n",
       "    <tr>\n",
       "      <th>0</th>\n",
       "      <td>2023-09-01</td>\n",
       "      <td>237,100,937.16</td>\n",
       "      <td>111457</td>\n",
       "    </tr>\n",
       "    <tr>\n",
       "      <th>1</th>\n",
       "      <td>2023-09-02</td>\n",
       "      <td>262,484,441.11</td>\n",
       "      <td>117251</td>\n",
       "    </tr>\n",
       "    <tr>\n",
       "      <th>2</th>\n",
       "      <td>2023-09-03</td>\n",
       "      <td>286,664,949.70</td>\n",
       "      <td>114919</td>\n",
       "    </tr>\n",
       "    <tr>\n",
       "      <th>3</th>\n",
       "      <td>2023-09-04</td>\n",
       "      <td>199,877,884.93</td>\n",
       "      <td>81948</td>\n",
       "    </tr>\n",
       "    <tr>\n",
       "      <th>4</th>\n",
       "      <td>2023-09-05</td>\n",
       "      <td>201,496,729.41</td>\n",
       "      <td>100473</td>\n",
       "    </tr>\n",
       "  </tbody>\n",
       "</table>\n",
       "</div>"
      ],
      "text/plain": [
       "   date_file      total_due  report_id\n",
       "0 2023-09-01 237,100,937.16     111457\n",
       "1 2023-09-02 262,484,441.11     117251\n",
       "2 2023-09-03 286,664,949.70     114919\n",
       "3 2023-09-04 199,877,884.93      81948\n",
       "4 2023-09-05 201,496,729.41     100473"
      ]
     },
     "execution_count": 33,
     "metadata": {},
     "output_type": "execute_result"
    }
   ],
   "source": [
    "group_allpagos = allpagos.groupby(['date_file']).agg({'total_due':sum,'report_id':'count'}).reset_index()\n",
    "group_allpagos.head()"
   ]
  },
  {
   "cell_type": "code",
   "execution_count": 34,
   "metadata": {},
   "outputs": [
    {
     "data": {
      "text/plain": [
       "(30, 3)"
      ]
     },
     "execution_count": 34,
     "metadata": {},
     "output_type": "execute_result"
    }
   ],
   "source": [
    "group_allpagos.shape"
   ]
  },
  {
   "cell_type": "markdown",
   "metadata": {},
   "source": [
    "#### PAGOS DEL DIA"
   ]
  },
  {
   "cell_type": "code",
   "execution_count": 35,
   "metadata": {},
   "outputs": [
    {
     "data": {
      "text/html": [
       "<div>\n",
       "<style scoped>\n",
       "    .dataframe tbody tr th:only-of-type {\n",
       "        vertical-align: middle;\n",
       "    }\n",
       "\n",
       "    .dataframe tbody tr th {\n",
       "        vertical-align: top;\n",
       "    }\n",
       "\n",
       "    .dataframe thead th {\n",
       "        text-align: right;\n",
       "    }\n",
       "</style>\n",
       "<table border=\"1\" class=\"dataframe\">\n",
       "  <thead>\n",
       "    <tr style=\"text-align: right;\">\n",
       "      <th></th>\n",
       "      <th>type</th>\n",
       "      <th>merchant_id</th>\n",
       "      <th>merchant_name</th>\n",
       "      <th>user_email</th>\n",
       "      <th>report_id</th>\n",
       "      <th>report_date_local</th>\n",
       "      <th>total_due</th>\n",
       "      <th>tipo</th>\n",
       "      <th>bank</th>\n",
       "      <th>bank_account_owner_name</th>\n",
       "      <th>CLABE</th>\n",
       "      <th>status</th>\n",
       "      <th>LINEA CEP</th>\n",
       "      <th>Batch_time</th>\n",
       "      <th>Banco_emisor</th>\n",
       "      <th>file_name</th>\n",
       "      <th>date_file</th>\n",
       "      <th>swap</th>\n",
       "    </tr>\n",
       "  </thead>\n",
       "  <tbody>\n",
       "    <tr>\n",
       "      <th>0</th>\n",
       "      <td>LEDGER_TRAD</td>\n",
       "      <td>00776a5d-ce34-4e34-9ede-fabe44d97163</td>\n",
       "      <td>NaN</td>\n",
       "      <td>NaN</td>\n",
       "      <td>AWDQT7GG5</td>\n",
       "      <td>2023-09-01</td>\n",
       "      <td>1,222.71</td>\n",
       "      <td>Pago del día</td>\n",
       "      <td>SCOTIABANK</td>\n",
       "      <td>Administradora General Rubio SA DE CV</td>\n",
       "      <td>44854256000101389</td>\n",
       "      <td>ERROR</td>\n",
       "      <td>NaN</td>\n",
       "      <td>01. First_batch</td>\n",
       "      <td>SANTANDER</td>\n",
       "      <td>Dispersión-20230901.xlsx</td>\n",
       "      <td>2023-09-01</td>\n",
       "      <td>NaN</td>\n",
       "    </tr>\n",
       "    <tr>\n",
       "      <th>71689</th>\n",
       "      <td>LEDGER_TRAD</td>\n",
       "      <td>ac071ac1-cdd9-422b-8c18-a3acf1478888</td>\n",
       "      <td>NaN</td>\n",
       "      <td>NaN</td>\n",
       "      <td>AXWQ3DFY5</td>\n",
       "      <td>2023-09-01</td>\n",
       "      <td>452.28</td>\n",
       "      <td>Pago del día</td>\n",
       "      <td>BBVA BANCOMER</td>\n",
       "      <td>Héctor Hugo Arredondo Ramírez</td>\n",
       "      <td>12215028738032875</td>\n",
       "      <td>PAID</td>\n",
       "      <td>2023-09-01,20230901400140HDH0001428319790,4001...</td>\n",
       "      <td>01. First_batch</td>\n",
       "      <td>SANTANDER</td>\n",
       "      <td>Dispersión-20230901.xlsx</td>\n",
       "      <td>2023-09-01</td>\n",
       "      <td>NaN</td>\n",
       "    </tr>\n",
       "    <tr>\n",
       "      <th>71688</th>\n",
       "      <td>LEDGER_TRAD</td>\n",
       "      <td>ac04ced4-e7b2-40b1-a399-a030998a0850</td>\n",
       "      <td>NaN</td>\n",
       "      <td>NaN</td>\n",
       "      <td>AVLVR986F</td>\n",
       "      <td>2023-09-01</td>\n",
       "      <td>3,641.31</td>\n",
       "      <td>Pago del día</td>\n",
       "      <td>BANORTE/IXE</td>\n",
       "      <td>Jesús cisneros valdes</td>\n",
       "      <td>72078011688553164</td>\n",
       "      <td>PAID</td>\n",
       "      <td>2023-09-01,20230901400140HDH0001428319710,4001...</td>\n",
       "      <td>01. First_batch</td>\n",
       "      <td>SANTANDER</td>\n",
       "      <td>Dispersión-20230901.xlsx</td>\n",
       "      <td>2023-09-01</td>\n",
       "      <td>NaN</td>\n",
       "    </tr>\n",
       "    <tr>\n",
       "      <th>71687</th>\n",
       "      <td>LEDGER_TRAD</td>\n",
       "      <td>ac044e7f-b743-4fad-aed6-ac304373c324</td>\n",
       "      <td>NaN</td>\n",
       "      <td>NaN</td>\n",
       "      <td>ALDJCF7JJ</td>\n",
       "      <td>2023-09-01</td>\n",
       "      <td>91.03</td>\n",
       "      <td>Pago del día</td>\n",
       "      <td>AZTECA</td>\n",
       "      <td>Erick Daniel Fuentes Enciso</td>\n",
       "      <td>127180013593832821</td>\n",
       "      <td>PAID</td>\n",
       "      <td>2023-09-01,20230901400140HDH0001428319610,4001...</td>\n",
       "      <td>01. First_batch</td>\n",
       "      <td>SANTANDER</td>\n",
       "      <td>Dispersión-20230901.xlsx</td>\n",
       "      <td>2023-09-01</td>\n",
       "      <td>NaN</td>\n",
       "    </tr>\n",
       "    <tr>\n",
       "      <th>71686</th>\n",
       "      <td>LEDGER_TRAD</td>\n",
       "      <td>ac03bd01-f909-4906-860e-6978fd6c0c68</td>\n",
       "      <td>NaN</td>\n",
       "      <td>NaN</td>\n",
       "      <td>ACH5KHNL3</td>\n",
       "      <td>2023-09-01</td>\n",
       "      <td>546.19</td>\n",
       "      <td>Pago del día</td>\n",
       "      <td>BBVA BANCOMER</td>\n",
       "      <td>Bernardo</td>\n",
       "      <td>12190015876353599</td>\n",
       "      <td>PAID</td>\n",
       "      <td>2023-09-01,20230901400140HDH0001428319480,4001...</td>\n",
       "      <td>01. First_batch</td>\n",
       "      <td>SANTANDER</td>\n",
       "      <td>Dispersión-20230901.xlsx</td>\n",
       "      <td>2023-09-01</td>\n",
       "      <td>NaN</td>\n",
       "    </tr>\n",
       "  </tbody>\n",
       "</table>\n",
       "</div>"
      ],
      "text/plain": [
       "              type                           merchant_id merchant_name  \\\n",
       "0      LEDGER_TRAD  00776a5d-ce34-4e34-9ede-fabe44d97163           NaN   \n",
       "71689  LEDGER_TRAD  ac071ac1-cdd9-422b-8c18-a3acf1478888           NaN   \n",
       "71688  LEDGER_TRAD  ac04ced4-e7b2-40b1-a399-a030998a0850           NaN   \n",
       "71687  LEDGER_TRAD  ac044e7f-b743-4fad-aed6-ac304373c324           NaN   \n",
       "71686  LEDGER_TRAD  ac03bd01-f909-4906-860e-6978fd6c0c68           NaN   \n",
       "\n",
       "      user_email  report_id report_date_local  total_due          tipo  \\\n",
       "0            NaN  AWDQT7GG5        2023-09-01   1,222.71  Pago del día   \n",
       "71689        NaN  AXWQ3DFY5        2023-09-01     452.28  Pago del día   \n",
       "71688        NaN  AVLVR986F        2023-09-01   3,641.31  Pago del día   \n",
       "71687        NaN  ALDJCF7JJ        2023-09-01      91.03  Pago del día   \n",
       "71686        NaN  ACH5KHNL3        2023-09-01     546.19  Pago del día   \n",
       "\n",
       "                bank                bank_account_owner_name  \\\n",
       "0         SCOTIABANK  Administradora General Rubio SA DE CV   \n",
       "71689  BBVA BANCOMER          Héctor Hugo Arredondo Ramírez   \n",
       "71688    BANORTE/IXE                  Jesús cisneros valdes   \n",
       "71687         AZTECA            Erick Daniel Fuentes Enciso   \n",
       "71686  BBVA BANCOMER                               Bernardo   \n",
       "\n",
       "                    CLABE status  \\\n",
       "0       44854256000101389  ERROR   \n",
       "71689   12215028738032875   PAID   \n",
       "71688   72078011688553164   PAID   \n",
       "71687  127180013593832821   PAID   \n",
       "71686   12190015876353599   PAID   \n",
       "\n",
       "                                               LINEA CEP       Batch_time  \\\n",
       "0                                                    NaN  01. First_batch   \n",
       "71689  2023-09-01,20230901400140HDH0001428319790,4001...  01. First_batch   \n",
       "71688  2023-09-01,20230901400140HDH0001428319710,4001...  01. First_batch   \n",
       "71687  2023-09-01,20230901400140HDH0001428319610,4001...  01. First_batch   \n",
       "71686  2023-09-01,20230901400140HDH0001428319480,4001...  01. First_batch   \n",
       "\n",
       "      Banco_emisor                 file_name  date_file swap  \n",
       "0        SANTANDER  Dispersión-20230901.xlsx 2023-09-01  NaN  \n",
       "71689    SANTANDER  Dispersión-20230901.xlsx 2023-09-01  NaN  \n",
       "71688    SANTANDER  Dispersión-20230901.xlsx 2023-09-01  NaN  \n",
       "71687    SANTANDER  Dispersión-20230901.xlsx 2023-09-01  NaN  \n",
       "71686    SANTANDER  Dispersión-20230901.xlsx 2023-09-01  NaN  "
      ]
     },
     "execution_count": 35,
     "metadata": {},
     "output_type": "execute_result"
    }
   ],
   "source": [
    "pagosdia = allpagos[(allpagos['tipo'].isin(['Pago del día']))]\n",
    "pagosdia.head()"
   ]
  },
  {
   "cell_type": "code",
   "execution_count": 36,
   "metadata": {},
   "outputs": [
    {
     "data": {
      "text/plain": [
       "(3049148, 18)"
      ]
     },
     "execution_count": 36,
     "metadata": {},
     "output_type": "execute_result"
    }
   ],
   "source": [
    "pagosdia.shape"
   ]
  },
  {
   "cell_type": "code",
   "execution_count": 37,
   "metadata": {},
   "outputs": [
    {
     "data": {
      "text/html": [
       "<div>\n",
       "<style scoped>\n",
       "    .dataframe tbody tr th:only-of-type {\n",
       "        vertical-align: middle;\n",
       "    }\n",
       "\n",
       "    .dataframe tbody tr th {\n",
       "        vertical-align: top;\n",
       "    }\n",
       "\n",
       "    .dataframe thead th {\n",
       "        text-align: right;\n",
       "    }\n",
       "</style>\n",
       "<table border=\"1\" class=\"dataframe\">\n",
       "  <thead>\n",
       "    <tr style=\"text-align: right;\">\n",
       "      <th></th>\n",
       "      <th>date_file</th>\n",
       "      <th>total_due</th>\n",
       "      <th>report_id</th>\n",
       "    </tr>\n",
       "  </thead>\n",
       "  <tbody>\n",
       "    <tr>\n",
       "      <th>0</th>\n",
       "      <td>2023-09-01</td>\n",
       "      <td>234,565,244.71</td>\n",
       "      <td>109790</td>\n",
       "    </tr>\n",
       "    <tr>\n",
       "      <th>1</th>\n",
       "      <td>2023-09-02</td>\n",
       "      <td>261,100,505.60</td>\n",
       "      <td>116536</td>\n",
       "    </tr>\n",
       "    <tr>\n",
       "      <th>2</th>\n",
       "      <td>2023-09-03</td>\n",
       "      <td>285,839,933.25</td>\n",
       "      <td>114550</td>\n",
       "    </tr>\n",
       "    <tr>\n",
       "      <th>3</th>\n",
       "      <td>2023-09-04</td>\n",
       "      <td>198,474,799.31</td>\n",
       "      <td>81398</td>\n",
       "    </tr>\n",
       "    <tr>\n",
       "      <th>4</th>\n",
       "      <td>2023-09-05</td>\n",
       "      <td>200,303,270.86</td>\n",
       "      <td>99830</td>\n",
       "    </tr>\n",
       "  </tbody>\n",
       "</table>\n",
       "</div>"
      ],
      "text/plain": [
       "   date_file      total_due  report_id\n",
       "0 2023-09-01 234,565,244.71     109790\n",
       "1 2023-09-02 261,100,505.60     116536\n",
       "2 2023-09-03 285,839,933.25     114550\n",
       "3 2023-09-04 198,474,799.31      81398\n",
       "4 2023-09-05 200,303,270.86      99830"
      ]
     },
     "execution_count": 37,
     "metadata": {},
     "output_type": "execute_result"
    }
   ],
   "source": [
    "group_dia = pagosdia.groupby(['date_file']).agg({'total_due':sum,'report_id':'count'}).reset_index()\n",
    "group_dia.head()"
   ]
  },
  {
   "cell_type": "code",
   "execution_count": 38,
   "metadata": {},
   "outputs": [
    {
     "data": {
      "text/plain": [
       "(30, 3)"
      ]
     },
     "execution_count": 38,
     "metadata": {},
     "output_type": "execute_result"
    }
   ],
   "source": [
    "group_dia.shape"
   ]
  },
  {
   "cell_type": "markdown",
   "metadata": {},
   "source": [
    "# PRIMER MATCH (SETTLED VS PAGOS DEL DIA)"
   ]
  },
  {
   "cell_type": "code",
   "execution_count": 39,
   "metadata": {},
   "outputs": [
    {
     "data": {
      "text/html": [
       "<div>\n",
       "<style scoped>\n",
       "    .dataframe tbody tr th:only-of-type {\n",
       "        vertical-align: middle;\n",
       "    }\n",
       "\n",
       "    .dataframe tbody tr th {\n",
       "        vertical-align: top;\n",
       "    }\n",
       "\n",
       "    .dataframe thead th {\n",
       "        text-align: right;\n",
       "    }\n",
       "</style>\n",
       "<table border=\"1\" class=\"dataframe\">\n",
       "  <thead>\n",
       "    <tr style=\"text-align: right;\">\n",
       "      <th></th>\n",
       "      <th>merchant_id</th>\n",
       "      <th>merchant_name</th>\n",
       "      <th>user_email</th>\n",
       "      <th>report_date_local</th>\n",
       "      <th>total_transactions</th>\n",
       "      <th>total_fees_charged</th>\n",
       "      <th>total_taxes</th>\n",
       "      <th>applied_fees_benefits</th>\n",
       "      <th>applied_taxes_benefits</th>\n",
       "      <th>fee_direct_deposit</th>\n",
       "      <th>...</th>\n",
       "      <th>type</th>\n",
       "      <th>created_date</th>\n",
       "      <th>created_time</th>\n",
       "      <th>updated_date</th>\n",
       "      <th>updated_time</th>\n",
       "      <th>file_name_x</th>\n",
       "      <th>report_id</th>\n",
       "      <th>total_due_y</th>\n",
       "      <th>tipo</th>\n",
       "      <th>file_name_y</th>\n",
       "    </tr>\n",
       "  </thead>\n",
       "  <tbody>\n",
       "  </tbody>\n",
       "</table>\n",
       "<p>0 rows × 29 columns</p>\n",
       "</div>"
      ],
      "text/plain": [
       "Empty DataFrame\n",
       "Columns: [merchant_id, merchant_name, user_email, report_date_local, total_transactions, total_fees_charged, total_taxes, applied_fees_benefits, applied_taxes_benefits, fee_direct_deposit, taxes_direct_deposit, total_adjustments, total_adjustment_fees_charged, total_adjustment_taxes, cobranza, total_released, total_retained, tipopago, total_due_x, type, created_date, created_time, updated_date, updated_time, file_name_x, report_id, total_due_y, tipo, file_name_y]\n",
       "Index: []\n",
       "\n",
       "[0 rows x 29 columns]"
      ]
     },
     "execution_count": 39,
     "metadata": {},
     "output_type": "execute_result"
    }
   ],
   "source": [
    "check_1 = cum_1.merge(pagosdia[['report_id','total_due','tipo','file_name']] ,on='report_id', how='left')\n",
    "check_1['total_due_y'].fillna('NO ENCONTRADO')\n",
    "check_1['tipo'].fillna('NO ENCONTRADO',inplace=True)\n",
    "check_1['file_name_y'].fillna('NO ENCONTRADO',inplace=True)\n",
    "# check_1.fillna({'total_due_y':'NO ENCONTRADO', 'tipo':'NO ENCONTRADO', 'file_name_y':'NO ENCONTRADO'}, inplace=True)\n",
    "check_1.head()"
   ]
  },
  {
   "cell_type": "code",
   "execution_count": 40,
   "metadata": {},
   "outputs": [
    {
     "data": {
      "text/plain": [
       "array([], dtype=object)"
      ]
     },
     "execution_count": 40,
     "metadata": {},
     "output_type": "execute_result"
    }
   ],
   "source": [
    "check_1['file_name_y'].unique()"
   ]
  },
  {
   "cell_type": "code",
   "execution_count": 41,
   "metadata": {},
   "outputs": [
    {
     "data": {
      "text/html": [
       "<div>\n",
       "<style scoped>\n",
       "    .dataframe tbody tr th:only-of-type {\n",
       "        vertical-align: middle;\n",
       "    }\n",
       "\n",
       "    .dataframe tbody tr th {\n",
       "        vertical-align: top;\n",
       "    }\n",
       "\n",
       "    .dataframe thead th {\n",
       "        text-align: right;\n",
       "    }\n",
       "</style>\n",
       "<table border=\"1\" class=\"dataframe\">\n",
       "  <thead>\n",
       "    <tr style=\"text-align: right;\">\n",
       "      <th></th>\n",
       "      <th>merchant_id</th>\n",
       "      <th>merchant_name</th>\n",
       "      <th>user_email</th>\n",
       "      <th>report_date_local</th>\n",
       "      <th>total_transactions</th>\n",
       "      <th>total_fees_charged</th>\n",
       "      <th>total_taxes</th>\n",
       "      <th>applied_fees_benefits</th>\n",
       "      <th>applied_taxes_benefits</th>\n",
       "      <th>fee_direct_deposit</th>\n",
       "      <th>...</th>\n",
       "      <th>type</th>\n",
       "      <th>created_date</th>\n",
       "      <th>created_time</th>\n",
       "      <th>updated_date</th>\n",
       "      <th>updated_time</th>\n",
       "      <th>file_name_x</th>\n",
       "      <th>report_id</th>\n",
       "      <th>total_due_y</th>\n",
       "      <th>tipo</th>\n",
       "      <th>file_name_y</th>\n",
       "    </tr>\n",
       "  </thead>\n",
       "  <tbody>\n",
       "  </tbody>\n",
       "</table>\n",
       "<p>0 rows × 29 columns</p>\n",
       "</div>"
      ],
      "text/plain": [
       "Empty DataFrame\n",
       "Columns: [merchant_id, merchant_name, user_email, report_date_local, total_transactions, total_fees_charged, total_taxes, applied_fees_benefits, applied_taxes_benefits, fee_direct_deposit, taxes_direct_deposit, total_adjustments, total_adjustment_fees_charged, total_adjustment_taxes, cobranza, total_released, total_retained, tipopago, total_due_x, type, created_date, created_time, updated_date, updated_time, file_name_x, report_id, total_due_y, tipo, file_name_y]\n",
       "Index: []\n",
       "\n",
       "[0 rows x 29 columns]"
      ]
     },
     "execution_count": 41,
     "metadata": {},
     "output_type": "execute_result"
    }
   ],
   "source": [
    "not_found_1 = check_1[((check_1['file_name_y'].isnull()) | (check_1['file_name_y'].isin(['NO ENCONTRADO'])))\n",
    "                        & (check_1['total_due_x'] != 0)]\n",
    "not_found_1.head()"
   ]
  },
  {
   "cell_type": "code",
   "execution_count": 42,
   "metadata": {},
   "outputs": [
    {
     "data": {
      "text/plain": [
       "(0, 29)"
      ]
     },
     "execution_count": 42,
     "metadata": {},
     "output_type": "execute_result"
    }
   ],
   "source": [
    "not_found_1.shape"
   ]
  },
  {
   "cell_type": "code",
   "execution_count": 43,
   "metadata": {},
   "outputs": [
    {
     "data": {
      "text/html": [
       "<div>\n",
       "<style scoped>\n",
       "    .dataframe tbody tr th:only-of-type {\n",
       "        vertical-align: middle;\n",
       "    }\n",
       "\n",
       "    .dataframe tbody tr th {\n",
       "        vertical-align: top;\n",
       "    }\n",
       "\n",
       "    .dataframe thead th {\n",
       "        text-align: right;\n",
       "    }\n",
       "</style>\n",
       "<table border=\"1\" class=\"dataframe\">\n",
       "  <thead>\n",
       "    <tr style=\"text-align: right;\">\n",
       "      <th></th>\n",
       "      <th>date_file</th>\n",
       "      <th>total_due_x</th>\n",
       "      <th>report_id</th>\n",
       "    </tr>\n",
       "  </thead>\n",
       "  <tbody>\n",
       "  </tbody>\n",
       "</table>\n",
       "</div>"
      ],
      "text/plain": [
       "Empty DataFrame\n",
       "Columns: [date_file, total_due_x, report_id]\n",
       "Index: []"
      ]
     },
     "execution_count": 43,
     "metadata": {},
     "output_type": "execute_result"
    }
   ],
   "source": [
    "group_notfound = not_found_1.groupby(['report_date_local']).agg({'total_due_x':sum,'report_id':'count'}).reset_index()\n",
    "group_notfound.rename(columns={'report_date_local':'date_file'},inplace=True)\n",
    "group_notfound.head()"
   ]
  },
  {
   "cell_type": "code",
   "execution_count": 44,
   "metadata": {},
   "outputs": [
    {
     "data": {
      "text/plain": [
       "(0, 3)"
      ]
     },
     "execution_count": 44,
     "metadata": {},
     "output_type": "execute_result"
    }
   ],
   "source": [
    "group_notfound.shape"
   ]
  },
  {
   "cell_type": "markdown",
   "metadata": {},
   "source": [
    "#### REPROGRAMACIONES"
   ]
  },
  {
   "cell_type": "code",
   "execution_count": 45,
   "metadata": {},
   "outputs": [
    {
     "data": {
      "text/html": [
       "<div>\n",
       "<style scoped>\n",
       "    .dataframe tbody tr th:only-of-type {\n",
       "        vertical-align: middle;\n",
       "    }\n",
       "\n",
       "    .dataframe tbody tr th {\n",
       "        vertical-align: top;\n",
       "    }\n",
       "\n",
       "    .dataframe thead th {\n",
       "        text-align: right;\n",
       "    }\n",
       "</style>\n",
       "<table border=\"1\" class=\"dataframe\">\n",
       "  <thead>\n",
       "    <tr style=\"text-align: right;\">\n",
       "      <th></th>\n",
       "      <th>type</th>\n",
       "      <th>merchant_id</th>\n",
       "      <th>merchant_name</th>\n",
       "      <th>user_email</th>\n",
       "      <th>report_id</th>\n",
       "      <th>report_date_local</th>\n",
       "      <th>total_due</th>\n",
       "      <th>tipo</th>\n",
       "      <th>bank</th>\n",
       "      <th>bank_account_owner_name</th>\n",
       "      <th>CLABE</th>\n",
       "      <th>status</th>\n",
       "      <th>LINEA CEP</th>\n",
       "      <th>Batch_time</th>\n",
       "      <th>Banco_emisor</th>\n",
       "      <th>file_name</th>\n",
       "      <th>date_file</th>\n",
       "      <th>swap</th>\n",
       "    </tr>\n",
       "  </thead>\n",
       "  <tbody>\n",
       "    <tr>\n",
       "      <th>71480</th>\n",
       "      <td>LEDGER_TRAD</td>\n",
       "      <td>ab87c490-b01e-4eba-b8a3-2bcfe6b6591b</td>\n",
       "      <td>NaN</td>\n",
       "      <td>NaN</td>\n",
       "      <td>AHG9RYMDJ</td>\n",
       "      <td>2023-08-31</td>\n",
       "      <td>5,033.63</td>\n",
       "      <td>Reprogramación</td>\n",
       "      <td>AZTECA</td>\n",
       "      <td>FRANCISCO FIGUEROA VIAL</td>\n",
       "      <td>127180013865718408</td>\n",
       "      <td>PAID</td>\n",
       "      <td>2023-09-01,20230901400140HDH0001428300710,4001...</td>\n",
       "      <td>01. First_batch</td>\n",
       "      <td>SANTANDER</td>\n",
       "      <td>Dispersión-20230901.xlsx</td>\n",
       "      <td>2023-09-01</td>\n",
       "      <td>NaN</td>\n",
       "    </tr>\n",
       "    <tr>\n",
       "      <th>70771</th>\n",
       "      <td>LEDGER_TRAD</td>\n",
       "      <td>a9f134f5-220b-4786-94a8-6f956f1fc9ca</td>\n",
       "      <td>NaN</td>\n",
       "      <td>NaN</td>\n",
       "      <td>A87CSJHP9</td>\n",
       "      <td>2023-08-31</td>\n",
       "      <td>371.80</td>\n",
       "      <td>Reprogramación</td>\n",
       "      <td>ASP INTEGRA OPC</td>\n",
       "      <td>Juan Diego Gomez Cruces</td>\n",
       "      <td>659802020000191881</td>\n",
       "      <td>PAID</td>\n",
       "      <td>2023-09-01,20230901400140HDH0001428222600,4001...</td>\n",
       "      <td>01. First_batch</td>\n",
       "      <td>SANTANDER</td>\n",
       "      <td>Dispersión-20230901.xlsx</td>\n",
       "      <td>2023-09-01</td>\n",
       "      <td>NaN</td>\n",
       "    </tr>\n",
       "    <tr>\n",
       "      <th>73421</th>\n",
       "      <td>DAILY</td>\n",
       "      <td>b00baf35-1f68-4592-aad3-98d18e835366</td>\n",
       "      <td>Abarrotes Brissa</td>\n",
       "      <td>manavacampos@gmail.com</td>\n",
       "      <td>VTY8YF9DK</td>\n",
       "      <td>2023-03-14</td>\n",
       "      <td>841.33</td>\n",
       "      <td>Reprogramación</td>\n",
       "      <td>BANAMEX</td>\n",
       "      <td>Maria Guadalupe Nava Campos</td>\n",
       "      <td>2073560051940299</td>\n",
       "      <td>PAID</td>\n",
       "      <td>2023-09-01,20230901400140HDH0001428499150,4001...</td>\n",
       "      <td>01. First_batch</td>\n",
       "      <td>SANTANDER</td>\n",
       "      <td>Dispersión-20230901.xlsx</td>\n",
       "      <td>2023-09-01</td>\n",
       "      <td>NaN</td>\n",
       "    </tr>\n",
       "    <tr>\n",
       "      <th>73420</th>\n",
       "      <td>DAILY</td>\n",
       "      <td>b00baf35-1f68-4592-aad3-98d18e835366</td>\n",
       "      <td>Abarrotes Brissa</td>\n",
       "      <td>manavacampos@gmail.com</td>\n",
       "      <td>ZFQXH2HNZ</td>\n",
       "      <td>2022-11-10</td>\n",
       "      <td>795.32</td>\n",
       "      <td>Reprogramación</td>\n",
       "      <td>BANAMEX</td>\n",
       "      <td>Maria Guadalupe Nava Campos</td>\n",
       "      <td>2073560051940299</td>\n",
       "      <td>PAID</td>\n",
       "      <td>2023-09-01,20230901400140HDH0001428499000,4001...</td>\n",
       "      <td>01. First_batch</td>\n",
       "      <td>SANTANDER</td>\n",
       "      <td>Dispersión-20230901.xlsx</td>\n",
       "      <td>2023-09-01</td>\n",
       "      <td>NaN</td>\n",
       "    </tr>\n",
       "    <tr>\n",
       "      <th>73419</th>\n",
       "      <td>DAILY</td>\n",
       "      <td>b00baf35-1f68-4592-aad3-98d18e835366</td>\n",
       "      <td>Abarrotes Brissa</td>\n",
       "      <td>manavacampos@gmail.com</td>\n",
       "      <td>LHX99PLPX</td>\n",
       "      <td>2022-11-08</td>\n",
       "      <td>1,043.52</td>\n",
       "      <td>Reprogramación</td>\n",
       "      <td>BANAMEX</td>\n",
       "      <td>Maria Guadalupe Nava Campos</td>\n",
       "      <td>2073560051940299</td>\n",
       "      <td>PAID</td>\n",
       "      <td>2023-09-01,20230901400140HDH0001428498860,4001...</td>\n",
       "      <td>01. First_batch</td>\n",
       "      <td>SANTANDER</td>\n",
       "      <td>Dispersión-20230901.xlsx</td>\n",
       "      <td>2023-09-01</td>\n",
       "      <td>NaN</td>\n",
       "    </tr>\n",
       "  </tbody>\n",
       "</table>\n",
       "</div>"
      ],
      "text/plain": [
       "              type                           merchant_id     merchant_name  \\\n",
       "71480  LEDGER_TRAD  ab87c490-b01e-4eba-b8a3-2bcfe6b6591b               NaN   \n",
       "70771  LEDGER_TRAD  a9f134f5-220b-4786-94a8-6f956f1fc9ca               NaN   \n",
       "73421        DAILY  b00baf35-1f68-4592-aad3-98d18e835366  Abarrotes Brissa   \n",
       "73420        DAILY  b00baf35-1f68-4592-aad3-98d18e835366  Abarrotes Brissa   \n",
       "73419        DAILY  b00baf35-1f68-4592-aad3-98d18e835366  Abarrotes Brissa   \n",
       "\n",
       "                   user_email  report_id report_date_local  total_due  \\\n",
       "71480                     NaN  AHG9RYMDJ        2023-08-31   5,033.63   \n",
       "70771                     NaN  A87CSJHP9        2023-08-31     371.80   \n",
       "73421  manavacampos@gmail.com  VTY8YF9DK        2023-03-14     841.33   \n",
       "73420  manavacampos@gmail.com  ZFQXH2HNZ        2022-11-10     795.32   \n",
       "73419  manavacampos@gmail.com  LHX99PLPX        2022-11-08   1,043.52   \n",
       "\n",
       "                 tipo             bank      bank_account_owner_name  \\\n",
       "71480  Reprogramación           AZTECA      FRANCISCO FIGUEROA VIAL   \n",
       "70771  Reprogramación  ASP INTEGRA OPC      Juan Diego Gomez Cruces   \n",
       "73421  Reprogramación          BANAMEX  Maria Guadalupe Nava Campos   \n",
       "73420  Reprogramación          BANAMEX  Maria Guadalupe Nava Campos   \n",
       "73419  Reprogramación          BANAMEX  Maria Guadalupe Nava Campos   \n",
       "\n",
       "                    CLABE status  \\\n",
       "71480  127180013865718408   PAID   \n",
       "70771  659802020000191881   PAID   \n",
       "73421    2073560051940299   PAID   \n",
       "73420    2073560051940299   PAID   \n",
       "73419    2073560051940299   PAID   \n",
       "\n",
       "                                               LINEA CEP       Batch_time  \\\n",
       "71480  2023-09-01,20230901400140HDH0001428300710,4001...  01. First_batch   \n",
       "70771  2023-09-01,20230901400140HDH0001428222600,4001...  01. First_batch   \n",
       "73421  2023-09-01,20230901400140HDH0001428499150,4001...  01. First_batch   \n",
       "73420  2023-09-01,20230901400140HDH0001428499000,4001...  01. First_batch   \n",
       "73419  2023-09-01,20230901400140HDH0001428498860,4001...  01. First_batch   \n",
       "\n",
       "      Banco_emisor                 file_name  date_file swap  \n",
       "71480    SANTANDER  Dispersión-20230901.xlsx 2023-09-01  NaN  \n",
       "70771    SANTANDER  Dispersión-20230901.xlsx 2023-09-01  NaN  \n",
       "73421    SANTANDER  Dispersión-20230901.xlsx 2023-09-01  NaN  \n",
       "73420    SANTANDER  Dispersión-20230901.xlsx 2023-09-01  NaN  \n",
       "73419    SANTANDER  Dispersión-20230901.xlsx 2023-09-01  NaN  "
      ]
     },
     "execution_count": 45,
     "metadata": {},
     "output_type": "execute_result"
    }
   ],
   "source": [
    "repro = allpagos[(allpagos['tipo'].isin(['Reprogramación']))]\n",
    "repro.head()"
   ]
  },
  {
   "cell_type": "code",
   "execution_count": 46,
   "metadata": {},
   "outputs": [
    {
     "data": {
      "text/plain": [
       "(20529, 18)"
      ]
     },
     "execution_count": 46,
     "metadata": {},
     "output_type": "execute_result"
    }
   ],
   "source": [
    "repro.shape"
   ]
  },
  {
   "cell_type": "code",
   "execution_count": 47,
   "metadata": {},
   "outputs": [
    {
     "data": {
      "text/html": [
       "<div>\n",
       "<style scoped>\n",
       "    .dataframe tbody tr th:only-of-type {\n",
       "        vertical-align: middle;\n",
       "    }\n",
       "\n",
       "    .dataframe tbody tr th {\n",
       "        vertical-align: top;\n",
       "    }\n",
       "\n",
       "    .dataframe thead th {\n",
       "        text-align: right;\n",
       "    }\n",
       "</style>\n",
       "<table border=\"1\" class=\"dataframe\">\n",
       "  <thead>\n",
       "    <tr style=\"text-align: right;\">\n",
       "      <th></th>\n",
       "      <th>date_file</th>\n",
       "      <th>total_due</th>\n",
       "      <th>report_id</th>\n",
       "    </tr>\n",
       "  </thead>\n",
       "  <tbody>\n",
       "    <tr>\n",
       "      <th>0</th>\n",
       "      <td>2023-09-01</td>\n",
       "      <td>2,535,692.45</td>\n",
       "      <td>1667</td>\n",
       "    </tr>\n",
       "    <tr>\n",
       "      <th>1</th>\n",
       "      <td>2023-09-02</td>\n",
       "      <td>1,383,935.51</td>\n",
       "      <td>715</td>\n",
       "    </tr>\n",
       "    <tr>\n",
       "      <th>2</th>\n",
       "      <td>2023-09-03</td>\n",
       "      <td>825,016.45</td>\n",
       "      <td>369</td>\n",
       "    </tr>\n",
       "    <tr>\n",
       "      <th>3</th>\n",
       "      <td>2023-09-04</td>\n",
       "      <td>1,403,085.62</td>\n",
       "      <td>550</td>\n",
       "    </tr>\n",
       "    <tr>\n",
       "      <th>4</th>\n",
       "      <td>2023-09-05</td>\n",
       "      <td>1,193,458.55</td>\n",
       "      <td>643</td>\n",
       "    </tr>\n",
       "  </tbody>\n",
       "</table>\n",
       "</div>"
      ],
      "text/plain": [
       "   date_file    total_due  report_id\n",
       "0 2023-09-01 2,535,692.45       1667\n",
       "1 2023-09-02 1,383,935.51        715\n",
       "2 2023-09-03   825,016.45        369\n",
       "3 2023-09-04 1,403,085.62        550\n",
       "4 2023-09-05 1,193,458.55        643"
      ]
     },
     "execution_count": 47,
     "metadata": {},
     "output_type": "execute_result"
    }
   ],
   "source": [
    "group_repro = repro.groupby(['date_file']).agg({'total_due':sum,'report_id':'count'}).reset_index()\n",
    "group_repro.head()"
   ]
  },
  {
   "cell_type": "code",
   "execution_count": 48,
   "metadata": {},
   "outputs": [
    {
     "data": {
      "text/plain": [
       "(30, 3)"
      ]
     },
     "execution_count": 48,
     "metadata": {},
     "output_type": "execute_result"
    }
   ],
   "source": [
    "group_repro.shape"
   ]
  },
  {
   "cell_type": "markdown",
   "metadata": {},
   "source": [
    "# SEGUNDO MATCH (IDENTIFICACION DE REPROGRAMACIONES)"
   ]
  },
  {
   "cell_type": "code",
   "execution_count": 49,
   "metadata": {},
   "outputs": [
    {
     "data": {
      "text/html": [
       "<div>\n",
       "<style scoped>\n",
       "    .dataframe tbody tr th:only-of-type {\n",
       "        vertical-align: middle;\n",
       "    }\n",
       "\n",
       "    .dataframe tbody tr th {\n",
       "        vertical-align: top;\n",
       "    }\n",
       "\n",
       "    .dataframe thead th {\n",
       "        text-align: right;\n",
       "    }\n",
       "</style>\n",
       "<table border=\"1\" class=\"dataframe\">\n",
       "  <thead>\n",
       "    <tr style=\"text-align: right;\">\n",
       "      <th></th>\n",
       "      <th>merchant_id</th>\n",
       "      <th>merchant_name</th>\n",
       "      <th>user_email</th>\n",
       "      <th>report_date_local</th>\n",
       "      <th>total_transactions</th>\n",
       "      <th>total_fees_charged</th>\n",
       "      <th>total_taxes</th>\n",
       "      <th>applied_fees_benefits</th>\n",
       "      <th>applied_taxes_benefits</th>\n",
       "      <th>fee_direct_deposit</th>\n",
       "      <th>...</th>\n",
       "      <th>updated_date</th>\n",
       "      <th>updated_time</th>\n",
       "      <th>file_name_x</th>\n",
       "      <th>total_due_y</th>\n",
       "      <th>tipo_x</th>\n",
       "      <th>file_name_y</th>\n",
       "      <th>report_id</th>\n",
       "      <th>total_due</th>\n",
       "      <th>tipo_y</th>\n",
       "      <th>file_name</th>\n",
       "    </tr>\n",
       "  </thead>\n",
       "  <tbody>\n",
       "  </tbody>\n",
       "</table>\n",
       "<p>0 rows × 32 columns</p>\n",
       "</div>"
      ],
      "text/plain": [
       "Empty DataFrame\n",
       "Columns: [merchant_id, merchant_name, user_email, report_date_local, total_transactions, total_fees_charged, total_taxes, applied_fees_benefits, applied_taxes_benefits, fee_direct_deposit, taxes_direct_deposit, total_adjustments, total_adjustment_fees_charged, total_adjustment_taxes, cobranza, total_released, total_retained, tipopago, total_due_x, type, created_date, created_time, updated_date, updated_time, file_name_x, total_due_y, tipo_x, file_name_y, report_id, total_due, tipo_y, file_name]\n",
       "Index: []\n",
       "\n",
       "[0 rows x 32 columns]"
      ]
     },
     "execution_count": 49,
     "metadata": {},
     "output_type": "execute_result"
    }
   ],
   "source": [
    "check_2 = not_found_1.merge(repro[['report_id','total_due','tipo','file_name']] ,on='report_id', how='left')\n",
    "check_2.head()"
   ]
  },
  {
   "cell_type": "code",
   "execution_count": 50,
   "metadata": {},
   "outputs": [
    {
     "data": {
      "text/plain": [
       "(0, 32)"
      ]
     },
     "execution_count": 50,
     "metadata": {},
     "output_type": "execute_result"
    }
   ],
   "source": [
    "check_2.shape"
   ]
  },
  {
   "cell_type": "code",
   "execution_count": 51,
   "metadata": {},
   "outputs": [],
   "source": [
    "# writer = pd.ExcelWriter('REPROGRAMACIONES JUNIO 2021.xlsx', engine='xlsxwriter', options={'encoding':'utf-8'})\n",
    "# check_2.to_excel(writer, sheet_name='DETAIL REPROGRAMACIONES',index=False)\n",
    "# writer.save()\n",
    "# writer.close()"
   ]
  },
  {
   "cell_type": "markdown",
   "metadata": {},
   "source": [
    "# FECHA DE PAGOS (SETTLED VS PAGOS DEL DIA)"
   ]
  },
  {
   "cell_type": "code",
   "execution_count": 52,
   "metadata": {},
   "outputs": [
    {
     "data": {
      "text/html": [
       "<div>\n",
       "<style scoped>\n",
       "    .dataframe tbody tr th:only-of-type {\n",
       "        vertical-align: middle;\n",
       "    }\n",
       "\n",
       "    .dataframe tbody tr th {\n",
       "        vertical-align: top;\n",
       "    }\n",
       "\n",
       "    .dataframe thead th {\n",
       "        text-align: right;\n",
       "    }\n",
       "</style>\n",
       "<table border=\"1\" class=\"dataframe\">\n",
       "  <thead>\n",
       "    <tr style=\"text-align: right;\">\n",
       "      <th></th>\n",
       "      <th>merchant_id</th>\n",
       "      <th>merchant_name</th>\n",
       "      <th>user_email</th>\n",
       "      <th>report_date_local</th>\n",
       "      <th>total_transactions</th>\n",
       "      <th>total_fees_charged</th>\n",
       "      <th>total_taxes</th>\n",
       "      <th>applied_fees_benefits</th>\n",
       "      <th>applied_taxes_benefits</th>\n",
       "      <th>fee_direct_deposit</th>\n",
       "      <th>...</th>\n",
       "      <th>updated_time</th>\n",
       "      <th>file_name_x</th>\n",
       "      <th>total_due_y</th>\n",
       "      <th>tipo_x</th>\n",
       "      <th>file_name_y</th>\n",
       "      <th>report_id</th>\n",
       "      <th>date_file</th>\n",
       "      <th>tipo_y</th>\n",
       "      <th>status</th>\n",
       "      <th>file_name</th>\n",
       "    </tr>\n",
       "  </thead>\n",
       "  <tbody>\n",
       "  </tbody>\n",
       "</table>\n",
       "<p>0 rows × 33 columns</p>\n",
       "</div>"
      ],
      "text/plain": [
       "Empty DataFrame\n",
       "Columns: [merchant_id, merchant_name, user_email, report_date_local, total_transactions, total_fees_charged, total_taxes, applied_fees_benefits, applied_taxes_benefits, fee_direct_deposit, taxes_direct_deposit, total_adjustments, total_adjustment_fees_charged, total_adjustment_taxes, cobranza, total_released, total_retained, tipopago, total_due_x, type, created_date, created_time, updated_date, updated_time, file_name_x, total_due_y, tipo_x, file_name_y, report_id, date_file, tipo_y, status, file_name]\n",
       "Index: []\n",
       "\n",
       "[0 rows x 33 columns]"
      ]
     },
     "execution_count": 52,
     "metadata": {},
     "output_type": "execute_result"
    }
   ],
   "source": [
    "fecha_pago = not_found_1.merge(repro[['report_id','date_file','tipo','status','file_name']] ,on='report_id', how='left')\n",
    "fecha_pago.sort_values(by=['date_file'],ascending=True,inplace=True)\n",
    "fecha_pago.head()"
   ]
  },
  {
   "cell_type": "code",
   "execution_count": 53,
   "metadata": {},
   "outputs": [
    {
     "data": {
      "text/plain": [
       "(0, 33)"
      ]
     },
     "execution_count": 53,
     "metadata": {},
     "output_type": "execute_result"
    }
   ],
   "source": [
    "fecha_pago.shape"
   ]
  },
  {
   "cell_type": "code",
   "execution_count": 54,
   "metadata": {},
   "outputs": [
    {
     "data": {
      "text/html": [
       "<div>\n",
       "<style scoped>\n",
       "    .dataframe tbody tr th:only-of-type {\n",
       "        vertical-align: middle;\n",
       "    }\n",
       "\n",
       "    .dataframe tbody tr th {\n",
       "        vertical-align: top;\n",
       "    }\n",
       "\n",
       "    .dataframe thead th {\n",
       "        text-align: right;\n",
       "    }\n",
       "</style>\n",
       "<table border=\"1\" class=\"dataframe\">\n",
       "  <thead>\n",
       "    <tr style=\"text-align: right;\">\n",
       "      <th></th>\n",
       "      <th>merchant_id</th>\n",
       "      <th>merchant_name</th>\n",
       "      <th>user_email</th>\n",
       "      <th>report_date_local</th>\n",
       "      <th>total_transactions</th>\n",
       "      <th>total_fees_charged</th>\n",
       "      <th>total_taxes</th>\n",
       "      <th>applied_fees_benefits</th>\n",
       "      <th>applied_taxes_benefits</th>\n",
       "      <th>fee_direct_deposit</th>\n",
       "      <th>...</th>\n",
       "      <th>updated_time</th>\n",
       "      <th>file_name_x</th>\n",
       "      <th>total_due_y</th>\n",
       "      <th>tipo_x</th>\n",
       "      <th>file_name_y</th>\n",
       "      <th>report_id</th>\n",
       "      <th>date_file</th>\n",
       "      <th>tipo_y</th>\n",
       "      <th>status</th>\n",
       "      <th>file_name</th>\n",
       "    </tr>\n",
       "  </thead>\n",
       "  <tbody>\n",
       "  </tbody>\n",
       "</table>\n",
       "<p>0 rows × 33 columns</p>\n",
       "</div>"
      ],
      "text/plain": [
       "Empty DataFrame\n",
       "Columns: [merchant_id, merchant_name, user_email, report_date_local, total_transactions, total_fees_charged, total_taxes, applied_fees_benefits, applied_taxes_benefits, fee_direct_deposit, taxes_direct_deposit, total_adjustments, total_adjustment_fees_charged, total_adjustment_taxes, cobranza, total_released, total_retained, tipopago, total_due_x, type, created_date, created_time, updated_date, updated_time, file_name_x, total_due_y, tipo_x, file_name_y, report_id, date_file, tipo_y, status, file_name]\n",
       "Index: []\n",
       "\n",
       "[0 rows x 33 columns]"
      ]
     },
     "execution_count": 54,
     "metadata": {},
     "output_type": "execute_result"
    }
   ],
   "source": [
    "fecha_pago.drop_duplicates(subset ='report_id',keep='first',inplace=True) "
   ]
  },
  {
   "cell_type": "code",
   "execution_count": 55,
   "metadata": {},
   "outputs": [
    {
     "data": {
      "text/html": [
       "<div>\n",
       "<style scoped>\n",
       "    .dataframe tbody tr th:only-of-type {\n",
       "        vertical-align: middle;\n",
       "    }\n",
       "\n",
       "    .dataframe tbody tr th {\n",
       "        vertical-align: top;\n",
       "    }\n",
       "\n",
       "    .dataframe thead th {\n",
       "        text-align: right;\n",
       "    }\n",
       "</style>\n",
       "<table border=\"1\" class=\"dataframe\">\n",
       "  <thead>\n",
       "    <tr style=\"text-align: right;\">\n",
       "      <th></th>\n",
       "      <th>merchant_id</th>\n",
       "      <th>merchant_name</th>\n",
       "      <th>user_email</th>\n",
       "      <th>report_date_local</th>\n",
       "      <th>total_transactions</th>\n",
       "      <th>total_fees_charged</th>\n",
       "      <th>total_taxes</th>\n",
       "      <th>applied_fees_benefits</th>\n",
       "      <th>applied_taxes_benefits</th>\n",
       "      <th>fee_direct_deposit</th>\n",
       "      <th>...</th>\n",
       "      <th>updated_time</th>\n",
       "      <th>file_name_x</th>\n",
       "      <th>total_due_y</th>\n",
       "      <th>tipo_x</th>\n",
       "      <th>file_name_y</th>\n",
       "      <th>report_id</th>\n",
       "      <th>date_file</th>\n",
       "      <th>tipo_y</th>\n",
       "      <th>status</th>\n",
       "      <th>file_name</th>\n",
       "    </tr>\n",
       "  </thead>\n",
       "  <tbody>\n",
       "  </tbody>\n",
       "</table>\n",
       "<p>0 rows × 33 columns</p>\n",
       "</div>"
      ],
      "text/plain": [
       "Empty DataFrame\n",
       "Columns: [merchant_id, merchant_name, user_email, report_date_local, total_transactions, total_fees_charged, total_taxes, applied_fees_benefits, applied_taxes_benefits, fee_direct_deposit, taxes_direct_deposit, total_adjustments, total_adjustment_fees_charged, total_adjustment_taxes, cobranza, total_released, total_retained, tipopago, total_due_x, type, created_date, created_time, updated_date, updated_time, file_name_x, total_due_y, tipo_x, file_name_y, report_id, date_file, tipo_y, status, file_name]\n",
       "Index: []\n",
       "\n",
       "[0 rows x 33 columns]"
      ]
     },
     "execution_count": 55,
     "metadata": {},
     "output_type": "execute_result"
    }
   ],
   "source": [
    "fecha_pago.head()"
   ]
  },
  {
   "cell_type": "code",
   "execution_count": 56,
   "metadata": {},
   "outputs": [
    {
     "data": {
      "text/plain": [
       "(0, 33)"
      ]
     },
     "execution_count": 56,
     "metadata": {},
     "output_type": "execute_result"
    }
   ],
   "source": [
    "fecha_pago.shape"
   ]
  },
  {
   "cell_type": "markdown",
   "metadata": {},
   "source": [
    "### AGRUPADO POR DÍA"
   ]
  },
  {
   "cell_type": "code",
   "execution_count": 57,
   "metadata": {},
   "outputs": [
    {
     "data": {
      "text/html": [
       "<div>\n",
       "<style scoped>\n",
       "    .dataframe tbody tr th:only-of-type {\n",
       "        vertical-align: middle;\n",
       "    }\n",
       "\n",
       "    .dataframe tbody tr th {\n",
       "        vertical-align: top;\n",
       "    }\n",
       "\n",
       "    .dataframe thead tr th {\n",
       "        text-align: left;\n",
       "    }\n",
       "\n",
       "    .dataframe thead tr:last-of-type th {\n",
       "        text-align: right;\n",
       "    }\n",
       "</style>\n",
       "<table border=\"1\" class=\"dataframe\">\n",
       "  <thead>\n",
       "    <tr>\n",
       "      <th></th>\n",
       "      <th>sum</th>\n",
       "      <th>len</th>\n",
       "    </tr>\n",
       "    <tr>\n",
       "      <th></th>\n",
       "      <th>total_due_x</th>\n",
       "      <th>total_due_x</th>\n",
       "    </tr>\n",
       "    <tr>\n",
       "      <th>report_date_local</th>\n",
       "      <th></th>\n",
       "      <th></th>\n",
       "    </tr>\n",
       "  </thead>\n",
       "  <tbody>\n",
       "    <tr>\n",
       "      <th>All</th>\n",
       "      <td>0.00</td>\n",
       "      <td>0.00</td>\n",
       "    </tr>\n",
       "  </tbody>\n",
       "</table>\n",
       "</div>"
      ],
      "text/plain": [
       "                          sum         len\n",
       "                  total_due_x total_due_x\n",
       "report_date_local                        \n",
       "All                      0.00        0.00"
      ]
     },
     "execution_count": 57,
     "metadata": {},
     "output_type": "execute_result"
    }
   ],
   "source": [
    "pivot_fecha_pago = pd.pivot_table(fecha_pago,index=['report_date_local'],\n",
    "                                  values=['total_due_x'],aggfunc = ['sum', len],margins=True)\n",
    "pivot_fecha_pago.head()"
   ]
  },
  {
   "cell_type": "code",
   "execution_count": 58,
   "metadata": {},
   "outputs": [
    {
     "data": {
      "text/plain": [
       "(1, 2)"
      ]
     },
     "execution_count": 58,
     "metadata": {},
     "output_type": "execute_result"
    }
   ],
   "source": [
    "pivot_fecha_pago.shape"
   ]
  },
  {
   "cell_type": "markdown",
   "metadata": {},
   "source": [
    "# PAGOS MANUALES"
   ]
  },
  {
   "cell_type": "code",
   "execution_count": 59,
   "metadata": {},
   "outputs": [
    {
     "data": {
      "text/plain": [
       "['G:\\\\.shortcut-targets-by-id\\\\1Oe28Mf9uSidMamjllDen2gkNnC59eSUr\\\\3.-Settlement\\\\5.-HISTORICO FILES PAGOS\\\\01. TRADICIONAL\\\\2023\\\\09. SEPTEMBER\\\\MANUALES\\\\Manuales 2023.09.01 - 2023.09.30.xlsx']"
      ]
     },
     "execution_count": 59,
     "metadata": {},
     "output_type": "execute_result"
    }
   ],
   "source": [
    "file_manual = glob.glob(r'G:\\.shortcut-targets-by-id\\1Oe28Mf9uSidMamjllDen2gkNnC59eSUr\\3.-Settlement\\5.-HISTORICO FILES PAGOS\\01. TRADICIONAL\\2023\\09. SEPTEMBER\\MANUALES\\*.xlsx', recursive=False)\n",
    "file_manual"
   ]
  },
  {
   "cell_type": "code",
   "execution_count": 60,
   "metadata": {},
   "outputs": [],
   "source": [
    "manuales_all = pd.concat([pd.read_excel(f,sheet_name='Formato Pago Manual',skiprows=1\n",
    "                                      ,converters={'Cta. CLABE de depósito':str,'report_id':str})\n",
    "                          .assign(file_name=os.path.basename(f)) for f in file_manual])\n",
    "manuales_all['Date']= pd.to_datetime(manuales_all['Date'])  \n",
    "manuales_all['Tipo'] = 'MANUAL'"
   ]
  },
  {
   "cell_type": "code",
   "execution_count": 61,
   "metadata": {},
   "outputs": [
    {
     "data": {
      "text/html": [
       "<div>\n",
       "<style scoped>\n",
       "    .dataframe tbody tr th:only-of-type {\n",
       "        vertical-align: middle;\n",
       "    }\n",
       "\n",
       "    .dataframe tbody tr th {\n",
       "        vertical-align: top;\n",
       "    }\n",
       "\n",
       "    .dataframe thead th {\n",
       "        text-align: right;\n",
       "    }\n",
       "</style>\n",
       "<table border=\"1\" class=\"dataframe\">\n",
       "  <thead>\n",
       "    <tr style=\"text-align: right;\">\n",
       "      <th></th>\n",
       "      <th>Date</th>\n",
       "      <th>ME ID</th>\n",
       "      <th>ME NAME</th>\n",
       "      <th>(mxn)</th>\n",
       "      <th>Banco</th>\n",
       "      <th>Justificación para el pago</th>\n",
       "      <th>Tipo</th>\n",
       "      <th>Report ID</th>\n",
       "    </tr>\n",
       "  </thead>\n",
       "  <tbody>\n",
       "    <tr>\n",
       "      <th>0</th>\n",
       "      <td>2023-09-06</td>\n",
       "      <td>d40fc595-6064-4702-a7b3-5aa14a1e1765</td>\n",
       "      <td>NaN</td>\n",
       "      <td>294.91</td>\n",
       "      <td>BBVA BANCOMER</td>\n",
       "      <td>Reembolso Manual</td>\n",
       "      <td>MANUAL</td>\n",
       "      <td>NaN</td>\n",
       "    </tr>\n",
       "    <tr>\n",
       "      <th>1</th>\n",
       "      <td>2023-09-06</td>\n",
       "      <td>c5ae7e78-aef5-4716-a623-f9437f3d172f</td>\n",
       "      <td>NaN</td>\n",
       "      <td>916.99</td>\n",
       "      <td>Banco Azteca, S.A.</td>\n",
       "      <td>Reembolso Manual</td>\n",
       "      <td>MANUAL</td>\n",
       "      <td>NaN</td>\n",
       "    </tr>\n",
       "    <tr>\n",
       "      <th>2</th>\n",
       "      <td>2023-09-08</td>\n",
       "      <td>25144a22-39c0-4a07-a971-5e24de17e83c</td>\n",
       "      <td>NaN</td>\n",
       "      <td>199.00</td>\n",
       "      <td>BanCoppel</td>\n",
       "      <td>Reembolso 50%  lector</td>\n",
       "      <td>MANUAL</td>\n",
       "      <td>NaN</td>\n",
       "    </tr>\n",
       "    <tr>\n",
       "      <th>3</th>\n",
       "      <td>2023-09-08</td>\n",
       "      <td>1fc0b096-14a8-4223-ac66-98953e65e419</td>\n",
       "      <td>NaN</td>\n",
       "      <td>3,002.16</td>\n",
       "      <td>Banco Mercantil del Norte</td>\n",
       "      <td>Re: Pago Manual 30/08/202</td>\n",
       "      <td>MANUAL</td>\n",
       "      <td>NaN</td>\n",
       "    </tr>\n",
       "    <tr>\n",
       "      <th>4</th>\n",
       "      <td>2023-09-28</td>\n",
       "      <td>c291aa30-f5ae-4b6c-86d4-45c5bef308a3</td>\n",
       "      <td>NaN</td>\n",
       "      <td>1,946.00</td>\n",
       "      <td>BBVA Bancomer</td>\n",
       "      <td>Re: Reembolso urgente Coppel</td>\n",
       "      <td>MANUAL</td>\n",
       "      <td>NaN</td>\n",
       "    </tr>\n",
       "  </tbody>\n",
       "</table>\n",
       "</div>"
      ],
      "text/plain": [
       "        Date                                  ME ID  ME NAME    (mxn)  \\\n",
       "0 2023-09-06   d40fc595-6064-4702-a7b3-5aa14a1e1765      NaN   294.91   \n",
       "1 2023-09-06   c5ae7e78-aef5-4716-a623-f9437f3d172f      NaN   916.99   \n",
       "2 2023-09-08   25144a22-39c0-4a07-a971-5e24de17e83c      NaN   199.00   \n",
       "3 2023-09-08   1fc0b096-14a8-4223-ac66-98953e65e419      NaN 3,002.16   \n",
       "4 2023-09-28   c291aa30-f5ae-4b6c-86d4-45c5bef308a3      NaN 1,946.00   \n",
       "\n",
       "                       Banco    Justificación para el pago    Tipo  Report ID  \n",
       "0              BBVA BANCOMER              Reembolso Manual  MANUAL        NaN  \n",
       "1         Banco Azteca, S.A.              Reembolso Manual  MANUAL        NaN  \n",
       "2                  BanCoppel        Reembolso 50%  lector   MANUAL        NaN  \n",
       "3  Banco Mercantil del Norte     Re: Pago Manual 30/08/202  MANUAL        NaN  \n",
       "4              BBVA Bancomer  Re: Reembolso urgente Coppel  MANUAL        NaN  "
      ]
     },
     "execution_count": 61,
     "metadata": {},
     "output_type": "execute_result"
    }
   ],
   "source": [
    "manuales_final = manuales_all[['Date','ME ID','ME NAME',' (mxn)','Banco','Justificación para el pago','Tipo','Report ID']]\n",
    "manuales_final.head()"
   ]
  },
  {
   "cell_type": "code",
   "execution_count": 62,
   "metadata": {},
   "outputs": [
    {
     "data": {
      "text/plain": [
       "(5, 8)"
      ]
     },
     "execution_count": 62,
     "metadata": {},
     "output_type": "execute_result"
    }
   ],
   "source": [
    "manuales_final.shape"
   ]
  },
  {
   "cell_type": "code",
   "execution_count": 63,
   "metadata": {},
   "outputs": [
    {
     "data": {
      "text/plain": [
       "Index(['Date', 'ME ID', 'ME NAME', ' (mxn)', 'Banco',\n",
       "       'Justificación para el pago', 'Tipo', 'Report ID'],\n",
       "      dtype='object')"
      ]
     },
     "execution_count": 63,
     "metadata": {},
     "output_type": "execute_result"
    }
   ],
   "source": [
    "manuales_final.columns"
   ]
  },
  {
   "cell_type": "code",
   "execution_count": 64,
   "metadata": {},
   "outputs": [
    {
     "data": {
      "text/html": [
       "<div>\n",
       "<style scoped>\n",
       "    .dataframe tbody tr th:only-of-type {\n",
       "        vertical-align: middle;\n",
       "    }\n",
       "\n",
       "    .dataframe tbody tr th {\n",
       "        vertical-align: top;\n",
       "    }\n",
       "\n",
       "    .dataframe thead th {\n",
       "        text-align: right;\n",
       "    }\n",
       "</style>\n",
       "<table border=\"1\" class=\"dataframe\">\n",
       "  <thead>\n",
       "    <tr style=\"text-align: right;\">\n",
       "      <th></th>\n",
       "      <th>date_file</th>\n",
       "      <th>(mxn)</th>\n",
       "      <th>report_id</th>\n",
       "    </tr>\n",
       "  </thead>\n",
       "  <tbody>\n",
       "    <tr>\n",
       "      <th>0</th>\n",
       "      <td>2023-09-06</td>\n",
       "      <td>1,211.90</td>\n",
       "      <td>0</td>\n",
       "    </tr>\n",
       "    <tr>\n",
       "      <th>1</th>\n",
       "      <td>2023-09-08</td>\n",
       "      <td>3,201.16</td>\n",
       "      <td>0</td>\n",
       "    </tr>\n",
       "    <tr>\n",
       "      <th>2</th>\n",
       "      <td>2023-09-28</td>\n",
       "      <td>1,946.00</td>\n",
       "      <td>0</td>\n",
       "    </tr>\n",
       "  </tbody>\n",
       "</table>\n",
       "</div>"
      ],
      "text/plain": [
       "   date_file    (mxn)  report_id\n",
       "0 2023-09-06 1,211.90          0\n",
       "1 2023-09-08 3,201.16          0\n",
       "2 2023-09-28 1,946.00          0"
      ]
     },
     "execution_count": 64,
     "metadata": {},
     "output_type": "execute_result"
    }
   ],
   "source": [
    "group_manual = manuales_final.groupby(['Date']).agg({' (mxn)':sum,'Report ID':'count'}).reset_index()\n",
    "group_manual.rename(columns={'Date':'date_file','Report ID':'report_id'},inplace=True)\n",
    "group_manual.head()"
   ]
  },
  {
   "cell_type": "code",
   "execution_count": 65,
   "metadata": {},
   "outputs": [
    {
     "data": {
      "text/plain": [
       "(3, 3)"
      ]
     },
     "execution_count": 65,
     "metadata": {},
     "output_type": "execute_result"
    }
   ],
   "source": [
    "group_manual.shape"
   ]
  },
  {
   "cell_type": "markdown",
   "metadata": {},
   "source": [
    "# ACUMULADOS SETTLEMENT"
   ]
  },
  {
   "cell_type": "code",
   "execution_count": 66,
   "metadata": {},
   "outputs": [
    {
     "data": {
      "text/html": [
       "<div>\n",
       "<style scoped>\n",
       "    .dataframe tbody tr th:only-of-type {\n",
       "        vertical-align: middle;\n",
       "    }\n",
       "\n",
       "    .dataframe tbody tr th {\n",
       "        vertical-align: top;\n",
       "    }\n",
       "\n",
       "    .dataframe thead th {\n",
       "        text-align: right;\n",
       "    }\n",
       "</style>\n",
       "<table border=\"1\" class=\"dataframe\">\n",
       "  <thead>\n",
       "    <tr style=\"text-align: right;\">\n",
       "      <th></th>\n",
       "      <th>date_file</th>\n",
       "      <th>total_due</th>\n",
       "      <th>report_id</th>\n",
       "    </tr>\n",
       "  </thead>\n",
       "  <tbody>\n",
       "  </tbody>\n",
       "</table>\n",
       "</div>"
      ],
      "text/plain": [
       "Empty DataFrame\n",
       "Columns: [date_file, total_due, report_id]\n",
       "Index: []"
      ]
     },
     "execution_count": 66,
     "metadata": {},
     "output_type": "execute_result"
    }
   ],
   "source": [
    "conc_disp = cum_distinct_0.groupby(['report_date_local']).agg({'total_due':sum,'report_id':'count'}).reset_index()\n",
    "conc_disp.rename(columns={'report_date_local':'date_file'}, inplace=True)\n",
    "conc_disp.head()"
   ]
  },
  {
   "cell_type": "code",
   "execution_count": 67,
   "metadata": {},
   "outputs": [
    {
     "data": {
      "text/plain": [
       "(0, 3)"
      ]
     },
     "execution_count": 67,
     "metadata": {},
     "output_type": "execute_result"
    }
   ],
   "source": [
    "conc_disp.shape"
   ]
  },
  {
   "cell_type": "markdown",
   "metadata": {},
   "source": [
    "# MERGING ALL DATA FRAMES"
   ]
  },
  {
   "cell_type": "code",
   "execution_count": 68,
   "metadata": {},
   "outputs": [
    {
     "data": {
      "text/html": [
       "<div>\n",
       "<style scoped>\n",
       "    .dataframe tbody tr th:only-of-type {\n",
       "        vertical-align: middle;\n",
       "    }\n",
       "\n",
       "    .dataframe tbody tr th {\n",
       "        vertical-align: top;\n",
       "    }\n",
       "\n",
       "    .dataframe thead th {\n",
       "        text-align: right;\n",
       "    }\n",
       "</style>\n",
       "<table border=\"1\" class=\"dataframe\">\n",
       "  <thead>\n",
       "    <tr style=\"text-align: right;\">\n",
       "      <th></th>\n",
       "      <th>total_due_x</th>\n",
       "      <th>report_id_x</th>\n",
       "      <th>total_due_y</th>\n",
       "      <th>report_id_y</th>\n",
       "      <th>date_file</th>\n",
       "      <th>(mxn)</th>\n",
       "      <th>report_id</th>\n",
       "    </tr>\n",
       "  </thead>\n",
       "  <tbody>\n",
       "  </tbody>\n",
       "</table>\n",
       "</div>"
      ],
      "text/plain": [
       "Empty DataFrame\n",
       "Columns: [total_due_x, report_id_x, total_due_y, report_id_y, date_file,  (mxn), report_id]\n",
       "Index: []"
      ]
     },
     "execution_count": 68,
     "metadata": {},
     "output_type": "execute_result"
    }
   ],
   "source": [
    "total_1 = conc_disp.merge(group_repro[['date_file','total_due','report_id']],on='date_file',how='left') \\\n",
    ".merge(group_manual,on='date_file',how='left')\n",
    "total_1[' (mxn)'].fillna(0,inplace=True)\n",
    "total_1['report_id'].fillna(0,inplace=True)\n",
    "total_1.head()\n"
   ]
  },
  {
   "cell_type": "code",
   "execution_count": 69,
   "metadata": {},
   "outputs": [],
   "source": [
    "total_1['count_total_pago_dia'] = total_1['report_id_x'] + total_1['report_id_y'] + total_1['report_id']\n",
    "total_1['sum_total_pago_dia'] = total_1['total_due_x'] + total_1['total_due_y'] + total_1[' (mxn)']\n"
   ]
  },
  {
   "cell_type": "code",
   "execution_count": 70,
   "metadata": {},
   "outputs": [
    {
     "data": {
      "text/html": [
       "<div>\n",
       "<style scoped>\n",
       "    .dataframe tbody tr th:only-of-type {\n",
       "        vertical-align: middle;\n",
       "    }\n",
       "\n",
       "    .dataframe tbody tr th {\n",
       "        vertical-align: top;\n",
       "    }\n",
       "\n",
       "    .dataframe thead th {\n",
       "        text-align: right;\n",
       "    }\n",
       "</style>\n",
       "<table border=\"1\" class=\"dataframe\">\n",
       "  <thead>\n",
       "    <tr style=\"text-align: right;\">\n",
       "      <th></th>\n",
       "      <th>total_due_x</th>\n",
       "      <th>report_id_x</th>\n",
       "      <th>total_due_y</th>\n",
       "      <th>report_id_y</th>\n",
       "      <th>date_file</th>\n",
       "      <th>(mxn)</th>\n",
       "      <th>report_id</th>\n",
       "      <th>count_total_pago_dia</th>\n",
       "      <th>sum_total_pago_dia</th>\n",
       "    </tr>\n",
       "  </thead>\n",
       "  <tbody>\n",
       "  </tbody>\n",
       "</table>\n",
       "</div>"
      ],
      "text/plain": [
       "Empty DataFrame\n",
       "Columns: [total_due_x, report_id_x, total_due_y, report_id_y, date_file,  (mxn), report_id, count_total_pago_dia, sum_total_pago_dia]\n",
       "Index: []"
      ]
     },
     "execution_count": 70,
     "metadata": {},
     "output_type": "execute_result"
    }
   ],
   "source": [
    "total_1"
   ]
  },
  {
   "cell_type": "markdown",
   "metadata": {},
   "source": [
    "# ACUMULADOS PAGO DEL DIA"
   ]
  },
  {
   "cell_type": "code",
   "execution_count": 71,
   "metadata": {},
   "outputs": [
    {
     "data": {
      "text/html": [
       "<div>\n",
       "<style scoped>\n",
       "    .dataframe tbody tr th:only-of-type {\n",
       "        vertical-align: middle;\n",
       "    }\n",
       "\n",
       "    .dataframe tbody tr th {\n",
       "        vertical-align: top;\n",
       "    }\n",
       "\n",
       "    .dataframe thead th {\n",
       "        text-align: right;\n",
       "    }\n",
       "</style>\n",
       "<table border=\"1\" class=\"dataframe\">\n",
       "  <thead>\n",
       "    <tr style=\"text-align: right;\">\n",
       "      <th></th>\n",
       "      <th>date_file</th>\n",
       "      <th>total_due</th>\n",
       "      <th>report_id_x</th>\n",
       "      <th>total_due_x</th>\n",
       "      <th>report_id_y</th>\n",
       "      <th>(mxn)</th>\n",
       "      <th>report_id</th>\n",
       "    </tr>\n",
       "  </thead>\n",
       "  <tbody>\n",
       "    <tr>\n",
       "      <th>0</th>\n",
       "      <td>2023-09-01</td>\n",
       "      <td>237,100,937.16</td>\n",
       "      <td>111457</td>\n",
       "      <td>0</td>\n",
       "      <td>0.00</td>\n",
       "      <td>0.00</td>\n",
       "      <td>0.00</td>\n",
       "    </tr>\n",
       "    <tr>\n",
       "      <th>1</th>\n",
       "      <td>2023-09-02</td>\n",
       "      <td>262,484,441.11</td>\n",
       "      <td>117251</td>\n",
       "      <td>0</td>\n",
       "      <td>0.00</td>\n",
       "      <td>0.00</td>\n",
       "      <td>0.00</td>\n",
       "    </tr>\n",
       "    <tr>\n",
       "      <th>2</th>\n",
       "      <td>2023-09-03</td>\n",
       "      <td>286,664,949.70</td>\n",
       "      <td>114919</td>\n",
       "      <td>0</td>\n",
       "      <td>0.00</td>\n",
       "      <td>0.00</td>\n",
       "      <td>0.00</td>\n",
       "    </tr>\n",
       "    <tr>\n",
       "      <th>3</th>\n",
       "      <td>2023-09-04</td>\n",
       "      <td>199,877,884.93</td>\n",
       "      <td>81948</td>\n",
       "      <td>0</td>\n",
       "      <td>0.00</td>\n",
       "      <td>0.00</td>\n",
       "      <td>0.00</td>\n",
       "    </tr>\n",
       "    <tr>\n",
       "      <th>4</th>\n",
       "      <td>2023-09-05</td>\n",
       "      <td>201,496,729.41</td>\n",
       "      <td>100473</td>\n",
       "      <td>0</td>\n",
       "      <td>0.00</td>\n",
       "      <td>0.00</td>\n",
       "      <td>0.00</td>\n",
       "    </tr>\n",
       "  </tbody>\n",
       "</table>\n",
       "</div>"
      ],
      "text/plain": [
       "   date_file      total_due  report_id_x  total_due_x  report_id_y   (mxn)  \\\n",
       "0 2023-09-01 237,100,937.16       111457            0         0.00    0.00   \n",
       "1 2023-09-02 262,484,441.11       117251            0         0.00    0.00   \n",
       "2 2023-09-03 286,664,949.70       114919            0         0.00    0.00   \n",
       "3 2023-09-04 199,877,884.93        81948            0         0.00    0.00   \n",
       "4 2023-09-05 201,496,729.41       100473            0         0.00    0.00   \n",
       "\n",
       "   report_id  \n",
       "0       0.00  \n",
       "1       0.00  \n",
       "2       0.00  \n",
       "3       0.00  \n",
       "4       0.00  "
      ]
     },
     "execution_count": 71,
     "metadata": {},
     "output_type": "execute_result"
    }
   ],
   "source": [
    "total_2 = group_allpagos.merge(group_notfound[['date_file','total_due_x','report_id']],on='date_file',how='left')\\\n",
    ".merge(group_manual,on='date_file',how='left')\n",
    "total_2[' (mxn)'].fillna(0,inplace=True)\n",
    "total_2['report_id'].fillna(0,inplace=True)\n",
    "total_2['total_due_x'].fillna(0,inplace=True)\n",
    "total_2['report_id_y'].fillna(0,inplace=True)\n",
    "total_2.head()"
   ]
  },
  {
   "cell_type": "code",
   "execution_count": 72,
   "metadata": {},
   "outputs": [],
   "source": [
    "total_2['count_swap_dia'] = total_2['report_id_x'] + total_2['report_id_y'] + total_2['report_id']\n",
    "total_2['sum_swap_dia'] = total_2['total_due'] + total_2['total_due_x'] + total_2[' (mxn)']"
   ]
  },
  {
   "cell_type": "code",
   "execution_count": 73,
   "metadata": {},
   "outputs": [
    {
     "data": {
      "text/html": [
       "<div>\n",
       "<style scoped>\n",
       "    .dataframe tbody tr th:only-of-type {\n",
       "        vertical-align: middle;\n",
       "    }\n",
       "\n",
       "    .dataframe tbody tr th {\n",
       "        vertical-align: top;\n",
       "    }\n",
       "\n",
       "    .dataframe thead th {\n",
       "        text-align: right;\n",
       "    }\n",
       "</style>\n",
       "<table border=\"1\" class=\"dataframe\">\n",
       "  <thead>\n",
       "    <tr style=\"text-align: right;\">\n",
       "      <th></th>\n",
       "      <th>date_file</th>\n",
       "      <th>total_due</th>\n",
       "      <th>report_id_x</th>\n",
       "      <th>total_due_x</th>\n",
       "      <th>report_id_y</th>\n",
       "      <th>(mxn)</th>\n",
       "      <th>report_id</th>\n",
       "      <th>count_swap_dia</th>\n",
       "      <th>sum_swap_dia</th>\n",
       "    </tr>\n",
       "  </thead>\n",
       "  <tbody>\n",
       "    <tr>\n",
       "      <th>0</th>\n",
       "      <td>2023-09-01</td>\n",
       "      <td>237,100,937.16</td>\n",
       "      <td>111457</td>\n",
       "      <td>0</td>\n",
       "      <td>0.00</td>\n",
       "      <td>0.00</td>\n",
       "      <td>0.00</td>\n",
       "      <td>111,457.00</td>\n",
       "      <td>237,100,937.16</td>\n",
       "    </tr>\n",
       "    <tr>\n",
       "      <th>1</th>\n",
       "      <td>2023-09-02</td>\n",
       "      <td>262,484,441.11</td>\n",
       "      <td>117251</td>\n",
       "      <td>0</td>\n",
       "      <td>0.00</td>\n",
       "      <td>0.00</td>\n",
       "      <td>0.00</td>\n",
       "      <td>117,251.00</td>\n",
       "      <td>262,484,441.11</td>\n",
       "    </tr>\n",
       "    <tr>\n",
       "      <th>2</th>\n",
       "      <td>2023-09-03</td>\n",
       "      <td>286,664,949.70</td>\n",
       "      <td>114919</td>\n",
       "      <td>0</td>\n",
       "      <td>0.00</td>\n",
       "      <td>0.00</td>\n",
       "      <td>0.00</td>\n",
       "      <td>114,919.00</td>\n",
       "      <td>286,664,949.70</td>\n",
       "    </tr>\n",
       "    <tr>\n",
       "      <th>3</th>\n",
       "      <td>2023-09-04</td>\n",
       "      <td>199,877,884.93</td>\n",
       "      <td>81948</td>\n",
       "      <td>0</td>\n",
       "      <td>0.00</td>\n",
       "      <td>0.00</td>\n",
       "      <td>0.00</td>\n",
       "      <td>81,948.00</td>\n",
       "      <td>199,877,884.93</td>\n",
       "    </tr>\n",
       "    <tr>\n",
       "      <th>4</th>\n",
       "      <td>2023-09-05</td>\n",
       "      <td>201,496,729.41</td>\n",
       "      <td>100473</td>\n",
       "      <td>0</td>\n",
       "      <td>0.00</td>\n",
       "      <td>0.00</td>\n",
       "      <td>0.00</td>\n",
       "      <td>100,473.00</td>\n",
       "      <td>201,496,729.41</td>\n",
       "    </tr>\n",
       "  </tbody>\n",
       "</table>\n",
       "</div>"
      ],
      "text/plain": [
       "   date_file      total_due  report_id_x  total_due_x  report_id_y   (mxn)  \\\n",
       "0 2023-09-01 237,100,937.16       111457            0         0.00    0.00   \n",
       "1 2023-09-02 262,484,441.11       117251            0         0.00    0.00   \n",
       "2 2023-09-03 286,664,949.70       114919            0         0.00    0.00   \n",
       "3 2023-09-04 199,877,884.93        81948            0         0.00    0.00   \n",
       "4 2023-09-05 201,496,729.41       100473            0         0.00    0.00   \n",
       "\n",
       "   report_id  count_swap_dia   sum_swap_dia  \n",
       "0       0.00      111,457.00 237,100,937.16  \n",
       "1       0.00      117,251.00 262,484,441.11  \n",
       "2       0.00      114,919.00 286,664,949.70  \n",
       "3       0.00       81,948.00 199,877,884.93  \n",
       "4       0.00      100,473.00 201,496,729.41  "
      ]
     },
     "execution_count": 73,
     "metadata": {},
     "output_type": "execute_result"
    }
   ],
   "source": [
    "total_2.head()"
   ]
  },
  {
   "cell_type": "code",
   "execution_count": 74,
   "metadata": {},
   "outputs": [
    {
     "data": {
      "text/plain": [
       "(30, 9)"
      ]
     },
     "execution_count": 74,
     "metadata": {},
     "output_type": "execute_result"
    }
   ],
   "source": [
    "total_2.shape"
   ]
  },
  {
   "cell_type": "markdown",
   "metadata": {},
   "source": [
    "# COMPARACION FINAL"
   ]
  },
  {
   "cell_type": "code",
   "execution_count": 75,
   "metadata": {},
   "outputs": [
    {
     "data": {
      "text/html": [
       "<div>\n",
       "<style scoped>\n",
       "    .dataframe tbody tr th:only-of-type {\n",
       "        vertical-align: middle;\n",
       "    }\n",
       "\n",
       "    .dataframe tbody tr th {\n",
       "        vertical-align: top;\n",
       "    }\n",
       "\n",
       "    .dataframe thead th {\n",
       "        text-align: right;\n",
       "    }\n",
       "</style>\n",
       "<table border=\"1\" class=\"dataframe\">\n",
       "  <thead>\n",
       "    <tr style=\"text-align: right;\">\n",
       "      <th></th>\n",
       "      <th>count_total_pago_dia</th>\n",
       "      <th>sum_total_pago_dia</th>\n",
       "      <th>date_file</th>\n",
       "      <th>count_swap_dia</th>\n",
       "      <th>sum_swap_dia</th>\n",
       "    </tr>\n",
       "  </thead>\n",
       "  <tbody>\n",
       "  </tbody>\n",
       "</table>\n",
       "</div>"
      ],
      "text/plain": [
       "Empty DataFrame\n",
       "Columns: [count_total_pago_dia, sum_total_pago_dia, date_file, count_swap_dia, sum_swap_dia]\n",
       "Index: []"
      ]
     },
     "execution_count": 75,
     "metadata": {},
     "output_type": "execute_result"
    }
   ],
   "source": [
    "final_comparacion = total_1[['date_file','count_total_pago_dia','sum_total_pago_dia']] \\\n",
    ".merge(total_2[['date_file','count_swap_dia','sum_swap_dia']],on='date_file',how='left')\n",
    "final_comparacion.head()"
   ]
  },
  {
   "cell_type": "code",
   "execution_count": 76,
   "metadata": {},
   "outputs": [],
   "source": [
    "final_comparacion['diff_count'] = final_comparacion['count_total_pago_dia'] - final_comparacion['count_swap_dia']\n",
    "final_comparacion['diff_sum'] = final_comparacion['sum_total_pago_dia'] - final_comparacion['sum_swap_dia']"
   ]
  },
  {
   "cell_type": "code",
   "execution_count": 77,
   "metadata": {
    "scrolled": true
   },
   "outputs": [
    {
     "data": {
      "text/html": [
       "<div>\n",
       "<style scoped>\n",
       "    .dataframe tbody tr th:only-of-type {\n",
       "        vertical-align: middle;\n",
       "    }\n",
       "\n",
       "    .dataframe tbody tr th {\n",
       "        vertical-align: top;\n",
       "    }\n",
       "\n",
       "    .dataframe thead th {\n",
       "        text-align: right;\n",
       "    }\n",
       "</style>\n",
       "<table border=\"1\" class=\"dataframe\">\n",
       "  <thead>\n",
       "    <tr style=\"text-align: right;\">\n",
       "      <th></th>\n",
       "      <th>count_total_pago_dia</th>\n",
       "      <th>sum_total_pago_dia</th>\n",
       "      <th>date_file</th>\n",
       "      <th>count_swap_dia</th>\n",
       "      <th>sum_swap_dia</th>\n",
       "      <th>diff_count</th>\n",
       "      <th>diff_sum</th>\n",
       "    </tr>\n",
       "  </thead>\n",
       "  <tbody>\n",
       "  </tbody>\n",
       "</table>\n",
       "</div>"
      ],
      "text/plain": [
       "Empty DataFrame\n",
       "Columns: [count_total_pago_dia, sum_total_pago_dia, date_file, count_swap_dia, sum_swap_dia, diff_count, diff_sum]\n",
       "Index: []"
      ]
     },
     "execution_count": 77,
     "metadata": {},
     "output_type": "execute_result"
    }
   ],
   "source": [
    "final_comparacion"
   ]
  },
  {
   "cell_type": "code",
   "execution_count": 78,
   "metadata": {},
   "outputs": [],
   "source": [
    "writer = pd.ExcelWriter('FASE III. SETTLED VS PAGO DIA SEPTIEMBRE 2023.xlsx',\n",
    "                        engine='xlsxwriter',\n",
    "                        engine_kwargs={'options': {'encoding':'utf-8'}})\n",
    "pivot_fecha_pago.to_excel(writer, sheet_name='ENVIADOS POSTERIOR')\n",
    "fecha_pago.to_excel(writer, sheet_name='DETAIL NO ENCONTRADO',index=False)\n",
    "pivot_duplicates_trad.to_excel(writer, sheet_name='PAGOS DUPLICADOS')\n",
    "pivot_duplicates_fp.to_excel(writer, sheet_name='FP PAGOS DUPLICADOS')\n",
    "group_manual.to_excel(writer, sheet_name='PAGOS MANUALES')\n",
    "writer.close()"
   ]
  },
  {
   "cell_type": "code",
   "execution_count": null,
   "metadata": {},
   "outputs": [],
   "source": []
  }
 ],
 "metadata": {
  "kernelspec": {
   "display_name": "Python 3 (ipykernel)",
   "language": "python",
   "name": "python3"
  },
  "language_info": {
   "codemirror_mode": {
    "name": "ipython",
    "version": 3
   },
   "file_extension": ".py",
   "mimetype": "text/x-python",
   "name": "python",
   "nbconvert_exporter": "python",
   "pygments_lexer": "ipython3",
   "version": "3.9.18"
  }
 },
 "nbformat": 4,
 "nbformat_minor": 4
}
