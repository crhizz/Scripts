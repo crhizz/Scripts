{
 "cells": [
  {
   "cell_type": "code",
   "execution_count": 1,
   "metadata": {},
   "outputs": [],
   "source": [
    "import pandas as pd\n",
    "import numpy as np\n",
    "import glob\n",
    "import os\n",
    "from openpyxl import load_workbook\n",
    "pd.options.display.float_format = '{:,.2f}'.format\n",
    "import gc"
   ]
  },
  {
   "cell_type": "markdown",
   "metadata": {},
   "source": [
    "# RUTAS"
   ]
  },
  {
   "cell_type": "markdown",
   "metadata": {},
   "source": [
    "### JOURNAL - NETSUITE"
   ]
  },
  {
   "cell_type": "code",
   "execution_count": 7,
   "metadata": {},
   "outputs": [],
   "source": [
    "url = r'C:\\Users\\Cristian.Aparicio\\Documents\\POLIZAS\\2024\\01. ENERO\\Journal_netsuite ENERO 2024.xlsx'"
   ]
  },
  {
   "cell_type": "code",
   "execution_count": 8,
   "metadata": {},
   "outputs": [
    {
     "data": {
      "text/plain": [
       "<pandas.io.excel._base.ExcelFile at 0x1a5254e1c40>"
      ]
     },
     "execution_count": 8,
     "metadata": {},
     "output_type": "execute_result"
    }
   ],
   "source": [
    "poliza_ns_file = pd.ExcelFile(url)\n",
    "poliza_ns_file"
   ]
  },
  {
   "cell_type": "code",
   "execution_count": 9,
   "metadata": {},
   "outputs": [
    {
     "data": {
      "text/plain": [
       "['2024.01.01',\n",
       " '2024.01.02',\n",
       " '2024.01.03',\n",
       " '2024.01.04',\n",
       " '2024.01.05',\n",
       " '2024.01.06',\n",
       " '2024.01.07',\n",
       " '2024.01.08',\n",
       " '2024.01.09',\n",
       " '2024.01.10',\n",
       " '2024.01.11',\n",
       " '2024.01.12',\n",
       " '2024.01.13',\n",
       " '2024.01.14',\n",
       " '2024.01.15',\n",
       " '2024.01.16',\n",
       " '2024.01.17',\n",
       " '2024.01.18',\n",
       " '2024.01.19',\n",
       " '2024.01.20',\n",
       " '2024.01.21',\n",
       " '2024.01.22',\n",
       " '2024.01.23',\n",
       " '2024.01.24',\n",
       " '2024.01.25',\n",
       " '2024.01.26',\n",
       " '2024.01.27',\n",
       " '2024.01.28',\n",
       " '2024.01.29',\n",
       " '2024.01.30',\n",
       " '2024.01.31']"
      ]
     },
     "execution_count": 9,
     "metadata": {},
     "output_type": "execute_result"
    }
   ],
   "source": [
    "poliza_ns_file.sheet_names"
   ]
  },
  {
   "cell_type": "code",
   "execution_count": 10,
   "metadata": {},
   "outputs": [],
   "source": [
    "all_sheets = pd.read_excel(url, sheet_name=[0,1,2,3,4,5,6,7,8,9,10,11,12,13,14,15,16,17,18,19,20,21,22,23,24,25,26,27,28,29,30])"
   ]
  },
  {
   "cell_type": "code",
   "execution_count": 13,
   "metadata": {},
   "outputs": [
    {
     "data": {
      "text/html": [
       "<div>\n",
       "<style scoped>\n",
       "    .dataframe tbody tr th:only-of-type {\n",
       "        vertical-align: middle;\n",
       "    }\n",
       "\n",
       "    .dataframe tbody tr th {\n",
       "        vertical-align: top;\n",
       "    }\n",
       "\n",
       "    .dataframe thead th {\n",
       "        text-align: right;\n",
       "    }\n",
       "</style>\n",
       "<table border=\"1\" class=\"dataframe\">\n",
       "  <thead>\n",
       "    <tr style=\"text-align: right;\">\n",
       "      <th></th>\n",
       "      <th>level_0</th>\n",
       "      <th>level_1</th>\n",
       "      <th>cuenta</th>\n",
       "      <th>débito</th>\n",
       "      <th>crédito</th>\n",
       "      <th>nota</th>\n",
       "      <th>pbc account type</th>\n",
       "      <th>historial</th>\n",
       "      <th>sisense_new</th>\n",
       "      <th>diff</th>\n",
       "      <th>...</th>\n",
       "      <th>new_script</th>\n",
       "      <th>diff.1</th>\n",
       "      <th>sisense_new_version</th>\n",
       "      <th>date</th>\n",
       "      <th>concept</th>\n",
       "      <th>type</th>\n",
       "      <th>key</th>\n",
       "      <th>amount</th>\n",
       "      <th>unnamed: 18</th>\n",
       "      <th>unnamed: 16</th>\n",
       "    </tr>\n",
       "  </thead>\n",
       "  <tbody>\n",
       "    <tr>\n",
       "      <th>0</th>\n",
       "      <td>0</td>\n",
       "      <td>0</td>\n",
       "      <td>219-05-01 settlement process CXP : Loans : CxP...</td>\n",
       "      <td>NaN</td>\n",
       "      <td>621,817.82</td>\n",
       "      <td>Adj Loans Lenders</td>\n",
       "      <td>Cuentas a pagar</td>\n",
       "      <td>Historial</td>\n",
       "      <td>621,817.82</td>\n",
       "      <td>0.00</td>\n",
       "      <td>...</td>\n",
       "      <td>NaN</td>\n",
       "      <td>NaN</td>\n",
       "      <td>NaN</td>\n",
       "      <td>NaT</td>\n",
       "      <td>NaN</td>\n",
       "      <td>NaN</td>\n",
       "      <td>NaN</td>\n",
       "      <td>NaN</td>\n",
       "      <td>NaN</td>\n",
       "      <td>NaN</td>\n",
       "    </tr>\n",
       "    <tr>\n",
       "      <th>1</th>\n",
       "      <td>0</td>\n",
       "      <td>1</td>\n",
       "      <td>219-01-01 settlement process CXP : Settlement ...</td>\n",
       "      <td>0.00</td>\n",
       "      <td>0.00</td>\n",
       "      <td>Adjustments Cancelaciones</td>\n",
       "      <td>Cuentas a pagar</td>\n",
       "      <td>Historial</td>\n",
       "      <td>NaN</td>\n",
       "      <td>0.00</td>\n",
       "      <td>...</td>\n",
       "      <td>NaN</td>\n",
       "      <td>NaN</td>\n",
       "      <td>NaN</td>\n",
       "      <td>NaT</td>\n",
       "      <td>NaN</td>\n",
       "      <td>NaN</td>\n",
       "      <td>NaN</td>\n",
       "      <td>NaN</td>\n",
       "      <td>NaN</td>\n",
       "      <td>NaN</td>\n",
       "    </tr>\n",
       "    <tr>\n",
       "      <th>2</th>\n",
       "      <td>0</td>\n",
       "      <td>2</td>\n",
       "      <td>219-01-01 settlement process CXP : Settlement ...</td>\n",
       "      <td>0.00</td>\n",
       "      <td>0.00</td>\n",
       "      <td>Adjustments Cancelaciones Fees</td>\n",
       "      <td>Cuentas a pagar</td>\n",
       "      <td>Historial</td>\n",
       "      <td>NaN</td>\n",
       "      <td>0.00</td>\n",
       "      <td>...</td>\n",
       "      <td>NaN</td>\n",
       "      <td>NaN</td>\n",
       "      <td>NaN</td>\n",
       "      <td>NaT</td>\n",
       "      <td>NaN</td>\n",
       "      <td>NaN</td>\n",
       "      <td>NaN</td>\n",
       "      <td>NaN</td>\n",
       "      <td>NaN</td>\n",
       "      <td>NaN</td>\n",
       "    </tr>\n",
       "    <tr>\n",
       "      <th>3</th>\n",
       "      <td>0</td>\n",
       "      <td>3</td>\n",
       "      <td>219-01-01 settlement process CXP : Settlement ...</td>\n",
       "      <td>0.00</td>\n",
       "      <td>0.00</td>\n",
       "      <td>Adjustments Cancelaciones Taxes</td>\n",
       "      <td>Cuentas a pagar</td>\n",
       "      <td>Historial</td>\n",
       "      <td>NaN</td>\n",
       "      <td>0.00</td>\n",
       "      <td>...</td>\n",
       "      <td>NaN</td>\n",
       "      <td>NaN</td>\n",
       "      <td>NaN</td>\n",
       "      <td>NaT</td>\n",
       "      <td>NaN</td>\n",
       "      <td>NaN</td>\n",
       "      <td>NaN</td>\n",
       "      <td>NaN</td>\n",
       "      <td>NaN</td>\n",
       "      <td>NaN</td>\n",
       "    </tr>\n",
       "    <tr>\n",
       "      <th>4</th>\n",
       "      <td>0</td>\n",
       "      <td>4</td>\n",
       "      <td>603-85-01 Gastos de administración : Reserva d...</td>\n",
       "      <td>NaN</td>\n",
       "      <td>87,502.99</td>\n",
       "      <td>Cobranza</td>\n",
       "      <td>Gasto</td>\n",
       "      <td>Historial</td>\n",
       "      <td>87,502.99</td>\n",
       "      <td>0.00</td>\n",
       "      <td>...</td>\n",
       "      <td>NaN</td>\n",
       "      <td>NaN</td>\n",
       "      <td>NaN</td>\n",
       "      <td>NaT</td>\n",
       "      <td>NaN</td>\n",
       "      <td>NaN</td>\n",
       "      <td>NaN</td>\n",
       "      <td>NaN</td>\n",
       "      <td>NaN</td>\n",
       "      <td>NaN</td>\n",
       "    </tr>\n",
       "  </tbody>\n",
       "</table>\n",
       "<p>5 rows × 23 columns</p>\n",
       "</div>"
      ],
      "text/plain": [
       "   level_0  level_1                                             cuenta  \\\n",
       "0        0        0  219-05-01 settlement process CXP : Loans : CxP...   \n",
       "1        0        1  219-01-01 settlement process CXP : Settlement ...   \n",
       "2        0        2  219-01-01 settlement process CXP : Settlement ...   \n",
       "3        0        3  219-01-01 settlement process CXP : Settlement ...   \n",
       "4        0        4  603-85-01 Gastos de administración : Reserva d...   \n",
       "\n",
       "   débito    crédito                             nota pbc account type  \\\n",
       "0     NaN 621,817.82                Adj Loans Lenders  Cuentas a pagar   \n",
       "1    0.00       0.00        Adjustments Cancelaciones  Cuentas a pagar   \n",
       "2    0.00       0.00   Adjustments Cancelaciones Fees  Cuentas a pagar   \n",
       "3    0.00       0.00  Adjustments Cancelaciones Taxes  Cuentas a pagar   \n",
       "4     NaN  87,502.99                         Cobranza            Gasto   \n",
       "\n",
       "   historial  sisense_new  diff  ...  new_script  diff.1  sisense_new_version  \\\n",
       "0  Historial   621,817.82  0.00  ...         NaN     NaN                  NaN   \n",
       "1  Historial          NaN  0.00  ...         NaN     NaN                  NaN   \n",
       "2  Historial          NaN  0.00  ...         NaN     NaN                  NaN   \n",
       "3  Historial          NaN  0.00  ...         NaN     NaN                  NaN   \n",
       "4  Historial    87,502.99  0.00  ...         NaN     NaN                  NaN   \n",
       "\n",
       "   date  concept  type  key amount unnamed: 18 unnamed: 16  \n",
       "0   NaT      NaN   NaN  NaN    NaN         NaN         NaN  \n",
       "1   NaT      NaN   NaN  NaN    NaN         NaN         NaN  \n",
       "2   NaT      NaN   NaN  NaN    NaN         NaN         NaN  \n",
       "3   NaT      NaN   NaN  NaN    NaN         NaN         NaN  \n",
       "4   NaT      NaN   NaN  NaN    NaN         NaN         NaN  \n",
       "\n",
       "[5 rows x 23 columns]"
      ]
     },
     "execution_count": 13,
     "metadata": {},
     "output_type": "execute_result"
    }
   ],
   "source": [
    "poliza_ns = pd.concat(all_sheets).reset_index()\n",
    "poliza_ns.columns = poliza_ns.columns.str.strip().str.lower() \n",
    "poliza_ns.head()"
   ]
  },
  {
   "cell_type": "code",
   "execution_count": 14,
   "metadata": {},
   "outputs": [
    {
     "data": {
      "text/plain": [
       "(1395, 23)"
      ]
     },
     "execution_count": 14,
     "metadata": {},
     "output_type": "execute_result"
    }
   ],
   "source": [
    "poliza_ns.shape"
   ]
  },
  {
   "cell_type": "code",
   "execution_count": 15,
   "metadata": {},
   "outputs": [
    {
     "data": {
      "text/plain": [
       "array([ 0,  1,  2,  3,  4,  5,  6,  7,  8,  9, 10, 11, 12, 13, 14, 15, 16,\n",
       "       17, 18, 19, 20, 21, 22, 23, 24, 25, 26, 27, 28, 29, 30],\n",
       "      dtype=int64)"
      ]
     },
     "execution_count": 15,
     "metadata": {},
     "output_type": "execute_result"
    }
   ],
   "source": [
    "poliza_ns['level_0'].unique()"
   ]
  },
  {
   "cell_type": "code",
   "execution_count": 16,
   "metadata": {},
   "outputs": [
    {
     "data": {
      "text/html": [
       "<div>\n",
       "<style scoped>\n",
       "    .dataframe tbody tr th:only-of-type {\n",
       "        vertical-align: middle;\n",
       "    }\n",
       "\n",
       "    .dataframe tbody tr th {\n",
       "        vertical-align: top;\n",
       "    }\n",
       "\n",
       "    .dataframe thead th {\n",
       "        text-align: right;\n",
       "    }\n",
       "</style>\n",
       "<table border=\"1\" class=\"dataframe\">\n",
       "  <thead>\n",
       "    <tr style=\"text-align: right;\">\n",
       "      <th></th>\n",
       "      <th>level_0</th>\n",
       "      <th>cuenta</th>\n",
       "      <th>débito</th>\n",
       "      <th>crédito</th>\n",
       "      <th>nota</th>\n",
       "      <th>pbc account type</th>\n",
       "      <th>historial</th>\n",
       "    </tr>\n",
       "  </thead>\n",
       "  <tbody>\n",
       "    <tr>\n",
       "      <th>0</th>\n",
       "      <td>0</td>\n",
       "      <td>219-05-01 settlement process CXP : Loans : CxP...</td>\n",
       "      <td>NaN</td>\n",
       "      <td>621,817.82</td>\n",
       "      <td>Adj Loans Lenders</td>\n",
       "      <td>Cuentas a pagar</td>\n",
       "      <td>Historial</td>\n",
       "    </tr>\n",
       "    <tr>\n",
       "      <th>1</th>\n",
       "      <td>0</td>\n",
       "      <td>219-01-01 settlement process CXP : Settlement ...</td>\n",
       "      <td>0.00</td>\n",
       "      <td>0.00</td>\n",
       "      <td>Adjustments Cancelaciones</td>\n",
       "      <td>Cuentas a pagar</td>\n",
       "      <td>Historial</td>\n",
       "    </tr>\n",
       "    <tr>\n",
       "      <th>2</th>\n",
       "      <td>0</td>\n",
       "      <td>219-01-01 settlement process CXP : Settlement ...</td>\n",
       "      <td>0.00</td>\n",
       "      <td>0.00</td>\n",
       "      <td>Adjustments Cancelaciones Fees</td>\n",
       "      <td>Cuentas a pagar</td>\n",
       "      <td>Historial</td>\n",
       "    </tr>\n",
       "    <tr>\n",
       "      <th>3</th>\n",
       "      <td>0</td>\n",
       "      <td>219-01-01 settlement process CXP : Settlement ...</td>\n",
       "      <td>0.00</td>\n",
       "      <td>0.00</td>\n",
       "      <td>Adjustments Cancelaciones Taxes</td>\n",
       "      <td>Cuentas a pagar</td>\n",
       "      <td>Historial</td>\n",
       "    </tr>\n",
       "    <tr>\n",
       "      <th>4</th>\n",
       "      <td>0</td>\n",
       "      <td>603-85-01 Gastos de administración : Reserva d...</td>\n",
       "      <td>NaN</td>\n",
       "      <td>87,502.99</td>\n",
       "      <td>Cobranza</td>\n",
       "      <td>Gasto</td>\n",
       "      <td>Historial</td>\n",
       "    </tr>\n",
       "  </tbody>\n",
       "</table>\n",
       "</div>"
      ],
      "text/plain": [
       "   level_0                                             cuenta  débito  \\\n",
       "0        0  219-05-01 settlement process CXP : Loans : CxP...     NaN   \n",
       "1        0  219-01-01 settlement process CXP : Settlement ...    0.00   \n",
       "2        0  219-01-01 settlement process CXP : Settlement ...    0.00   \n",
       "3        0  219-01-01 settlement process CXP : Settlement ...    0.00   \n",
       "4        0  603-85-01 Gastos de administración : Reserva d...     NaN   \n",
       "\n",
       "     crédito                             nota pbc account type  historial  \n",
       "0 621,817.82                Adj Loans Lenders  Cuentas a pagar  Historial  \n",
       "1       0.00        Adjustments Cancelaciones  Cuentas a pagar  Historial  \n",
       "2       0.00   Adjustments Cancelaciones Fees  Cuentas a pagar  Historial  \n",
       "3       0.00  Adjustments Cancelaciones Taxes  Cuentas a pagar  Historial  \n",
       "4  87,502.99                         Cobranza            Gasto  Historial  "
      ]
     },
     "execution_count": 16,
     "metadata": {},
     "output_type": "execute_result"
    }
   ],
   "source": [
    "poliza_ns_final = poliza_ns[['level_0','cuenta','débito','crédito','nota','pbc account type','historial']]\n",
    "poliza_ns_final.head()"
   ]
  },
  {
   "cell_type": "code",
   "execution_count": 17,
   "metadata": {},
   "outputs": [
    {
     "data": {
      "text/plain": [
       "(1395, 7)"
      ]
     },
     "execution_count": 17,
     "metadata": {},
     "output_type": "execute_result"
    }
   ],
   "source": [
    "poliza_ns_final.shape"
   ]
  },
  {
   "cell_type": "code",
   "execution_count": 20,
   "metadata": {},
   "outputs": [],
   "source": [
    "poliza_ns_final.to_excel('Comparativo_netsuite ENERO 2024.xlsx',index=False)"
   ]
  },
  {
   "cell_type": "code",
   "execution_count": null,
   "metadata": {},
   "outputs": [],
   "source": []
  }
 ],
 "metadata": {
  "kernelspec": {
   "display_name": "Python 3 (ipykernel)",
   "language": "python",
   "name": "python3"
  },
  "language_info": {
   "codemirror_mode": {
    "name": "ipython",
    "version": 3
   },
   "file_extension": ".py",
   "mimetype": "text/x-python",
   "name": "python",
   "nbconvert_exporter": "python",
   "pygments_lexer": "ipython3",
   "version": "3.9.18"
  }
 },
 "nbformat": 4,
 "nbformat_minor": 4
}
