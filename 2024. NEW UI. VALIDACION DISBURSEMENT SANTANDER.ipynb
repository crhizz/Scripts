{
 "cells": [
  {
   "cell_type": "code",
   "execution_count": 1,
   "metadata": {},
   "outputs": [],
   "source": [
    "import pandas as pd\n",
    "import numpy as np\n",
    "from openpyxl import load_workbook\n",
    "import glob\n",
    "import os\n",
    "pd.options.display.float_format = '{:,.2f}'.format"
   ]
  },
  {
   "cell_type": "code",
   "execution_count": 2,
   "metadata": {},
   "outputs": [],
   "source": [
    "date_envio = '2024-01-31'\n",
    "monto_me_mail = 15241475.46\n",
    "comision_bnte_mail = 3497.50\n",
    "iva_bnte_mail = 559.60\n",
    "monto_fondear_mail = 15245532.56\n",
    "date_envio = pd.to_datetime(date_envio)"
   ]
  },
  {
   "cell_type": "markdown",
   "metadata": {},
   "source": [
    "# READING FILES"
   ]
  },
  {
   "cell_type": "markdown",
   "metadata": {},
   "source": [
    "## SANTANDER"
   ]
  },
  {
   "cell_type": "code",
   "execution_count": 3,
   "metadata": {},
   "outputs": [],
   "source": [
    "bin1 = pd.read_csv(r'C:\\Users\\Cristian.Aparicio\\Documents\\DISPERSIONES\\Catalogo_Bancos.csv'\n",
    "                  ,dtype={'BIN':object,'Clave de la institución':object,'Nombre de la institución':object})"
   ]
  },
  {
   "cell_type": "code",
   "execution_count": 4,
   "metadata": {},
   "outputs": [],
   "source": [
    "name_header = ['merchant_id','merchant_name','user_email','report_id','report_date_local','amount','status','bank_name'\n",
    "               ,'payment_date_local','bank_account_owner_name','bank_account_number','swap']"
   ]
  },
  {
   "cell_type": "code",
   "execution_count": 5,
   "metadata": {},
   "outputs": [
    {
     "data": {
      "text/plain": [
       "['G:\\\\.shortcut-targets-by-id\\\\1Oe28Mf9uSidMamjllDen2gkNnC59eSUr\\\\3.-Settlement\\\\5.-HISTORICO FILES PAGOS\\\\01. TRADICIONAL\\\\2024\\\\01. JANUARY\\\\SANT-2 2024-01-31.csv']"
      ]
     },
     "execution_count": 5,
     "metadata": {},
     "output_type": "execute_result"
    }
   ],
   "source": [
    "query_1 = glob.glob(r'G:\\.shortcut-targets-by-id\\1Oe28Mf9uSidMamjllDen2gkNnC59eSUr\\3.-Settlement\\5.-HISTORICO FILES PAGOS\\01. TRADICIONAL\\2024\\01. JANUARY\\SANT-2 20*.csv', recursive=False)\n",
    "query_1"
   ]
  },
  {
   "cell_type": "code",
   "execution_count": 6,
   "metadata": {},
   "outputs": [],
   "source": [
    "query = pd.concat([pd.read_csv(f,dtype={'bank_account_number':object,'report_id':object})\n",
    "                   .assign(file_name=os.path.basename(f)) for f in query_1])\n",
    "query.columns = query.columns.str.strip().str.lower() \n",
    "query['CLABE'] = query['bank_account_number'].str[1:]\n",
    "query['BIN'] = query['bank_account_number'].str[1:4].replace(' ', '',regex=True)\n",
    "query['date_disbursement'] = date_envio"
   ]
  },
  {
   "cell_type": "code",
   "execution_count": 7,
   "metadata": {},
   "outputs": [
    {
     "data": {
      "text/html": [
       "<div>\n",
       "<style scoped>\n",
       "    .dataframe tbody tr th:only-of-type {\n",
       "        vertical-align: middle;\n",
       "    }\n",
       "\n",
       "    .dataframe tbody tr th {\n",
       "        vertical-align: top;\n",
       "    }\n",
       "\n",
       "    .dataframe thead th {\n",
       "        text-align: right;\n",
       "    }\n",
       "</style>\n",
       "<table border=\"1\" class=\"dataframe\">\n",
       "  <thead>\n",
       "    <tr style=\"text-align: right;\">\n",
       "      <th></th>\n",
       "      <th>type</th>\n",
       "      <th>merchant_id</th>\n",
       "      <th>merchant_token</th>\n",
       "      <th>merchant_name</th>\n",
       "      <th>user_email</th>\n",
       "      <th>report_id</th>\n",
       "      <th>report_date_local</th>\n",
       "      <th>amount</th>\n",
       "      <th>status</th>\n",
       "      <th>bank_name</th>\n",
       "      <th>...</th>\n",
       "      <th>bank_account_number</th>\n",
       "      <th>batch_created_date</th>\n",
       "      <th>disbursement_method</th>\n",
       "      <th>swap</th>\n",
       "      <th>file_name</th>\n",
       "      <th>CLABE</th>\n",
       "      <th>BIN</th>\n",
       "      <th>date_disbursement</th>\n",
       "      <th>Clave de la institución</th>\n",
       "      <th>Nombre de la institución</th>\n",
       "    </tr>\n",
       "  </thead>\n",
       "  <tbody>\n",
       "    <tr>\n",
       "      <th>0</th>\n",
       "      <td>NaN</td>\n",
       "      <td>3df855dd-ffb0-4070-9fd3-353768283412</td>\n",
       "      <td>NaN</td>\n",
       "      <td>NaN</td>\n",
       "      <td>NaN</td>\n",
       "      <td>ADBQCVM4H</td>\n",
       "      <td>2024-01-28</td>\n",
       "      <td>7,053.60</td>\n",
       "      <td>PAID</td>\n",
       "      <td>Banco Santander, S.A.</td>\n",
       "      <td>...</td>\n",
       "      <td>'014180567990845339</td>\n",
       "      <td>2024-01-31T08:23:14Z</td>\n",
       "      <td>SANTANDER</td>\n",
       "      <td>Juan Manuel Meliton Medina,,7053.6,01418056799...</td>\n",
       "      <td>SANT-2 2024-01-31.csv</td>\n",
       "      <td>014180567990845339</td>\n",
       "      <td>014</td>\n",
       "      <td>2024-01-31</td>\n",
       "      <td>40014</td>\n",
       "      <td>SANTANDER</td>\n",
       "    </tr>\n",
       "    <tr>\n",
       "      <th>1</th>\n",
       "      <td>NaN</td>\n",
       "      <td>ee69a0d5-effc-459c-9bad-f103fe3cf399</td>\n",
       "      <td>NaN</td>\n",
       "      <td>NaN</td>\n",
       "      <td>NaN</td>\n",
       "      <td>AKR4JT5TN</td>\n",
       "      <td>2024-01-31</td>\n",
       "      <td>615.22</td>\n",
       "      <td>PAID</td>\n",
       "      <td>BBVA Bancomer</td>\n",
       "      <td>...</td>\n",
       "      <td>'012694015433491060</td>\n",
       "      <td>2024-01-31T08:23:14Z</td>\n",
       "      <td>SANTANDER</td>\n",
       "      <td>Farid Fregoso Velazque,,615.22,012694015433491...</td>\n",
       "      <td>SANT-2 2024-01-31.csv</td>\n",
       "      <td>012694015433491060</td>\n",
       "      <td>012</td>\n",
       "      <td>2024-01-31</td>\n",
       "      <td>40012</td>\n",
       "      <td>BBVA BANCOMER</td>\n",
       "    </tr>\n",
       "    <tr>\n",
       "      <th>2</th>\n",
       "      <td>NaN</td>\n",
       "      <td>ee6a9ee2-4599-4120-bdd5-cef65712004d</td>\n",
       "      <td>NaN</td>\n",
       "      <td>NaN</td>\n",
       "      <td>NaN</td>\n",
       "      <td>AFNDCT2LT</td>\n",
       "      <td>2024-01-31</td>\n",
       "      <td>798.34</td>\n",
       "      <td>PAID</td>\n",
       "      <td>BBVA Bancomer</td>\n",
       "      <td>...</td>\n",
       "      <td>'012180028688103031</td>\n",
       "      <td>2024-01-31T08:23:14Z</td>\n",
       "      <td>SANTANDER</td>\n",
       "      <td>SALVADOR PANTOJA PAZ,,798.34,01218002868810303...</td>\n",
       "      <td>SANT-2 2024-01-31.csv</td>\n",
       "      <td>012180028688103031</td>\n",
       "      <td>012</td>\n",
       "      <td>2024-01-31</td>\n",
       "      <td>40012</td>\n",
       "      <td>BBVA BANCOMER</td>\n",
       "    </tr>\n",
       "    <tr>\n",
       "      <th>3</th>\n",
       "      <td>NaN</td>\n",
       "      <td>ee6b04f2-4baf-437b-803c-19b95888f7fb</td>\n",
       "      <td>NaN</td>\n",
       "      <td>NaN</td>\n",
       "      <td>NaN</td>\n",
       "      <td>AQHTPZ9R5</td>\n",
       "      <td>2024-01-31</td>\n",
       "      <td>258.60</td>\n",
       "      <td>PAID</td>\n",
       "      <td>BanCoppel</td>\n",
       "      <td>...</td>\n",
       "      <td>'137691101057707029</td>\n",
       "      <td>2024-01-31T08:23:14Z</td>\n",
       "      <td>SANTANDER</td>\n",
       "      <td>Patricia Maria Lopez Alejandro,,258.6,13769110...</td>\n",
       "      <td>SANT-2 2024-01-31.csv</td>\n",
       "      <td>137691101057707029</td>\n",
       "      <td>137</td>\n",
       "      <td>2024-01-31</td>\n",
       "      <td>40137</td>\n",
       "      <td>BANCOPPEL</td>\n",
       "    </tr>\n",
       "    <tr>\n",
       "      <th>4</th>\n",
       "      <td>NaN</td>\n",
       "      <td>ee6b1ec9-5377-4f48-8b2e-d44ee8ade697</td>\n",
       "      <td>NaN</td>\n",
       "      <td>NaN</td>\n",
       "      <td>NaN</td>\n",
       "      <td>AM72587Q9</td>\n",
       "      <td>2024-01-31</td>\n",
       "      <td>11.50</td>\n",
       "      <td>PAID</td>\n",
       "      <td>Banco Nacional de México</td>\n",
       "      <td>...</td>\n",
       "      <td>'002420904824785722</td>\n",
       "      <td>2024-01-31T08:23:14Z</td>\n",
       "      <td>SANTANDER</td>\n",
       "      <td>Diego Armando Martinez Alcantara,,11.5,0024209...</td>\n",
       "      <td>SANT-2 2024-01-31.csv</td>\n",
       "      <td>002420904824785722</td>\n",
       "      <td>002</td>\n",
       "      <td>2024-01-31</td>\n",
       "      <td>40002</td>\n",
       "      <td>BANAMEX</td>\n",
       "    </tr>\n",
       "  </tbody>\n",
       "</table>\n",
       "<p>5 rows × 22 columns</p>\n",
       "</div>"
      ],
      "text/plain": [
       "   type                           merchant_id  merchant_token  merchant_name  \\\n",
       "0   NaN  3df855dd-ffb0-4070-9fd3-353768283412             NaN            NaN   \n",
       "1   NaN  ee69a0d5-effc-459c-9bad-f103fe3cf399             NaN            NaN   \n",
       "2   NaN  ee6a9ee2-4599-4120-bdd5-cef65712004d             NaN            NaN   \n",
       "3   NaN  ee6b04f2-4baf-437b-803c-19b95888f7fb             NaN            NaN   \n",
       "4   NaN  ee6b1ec9-5377-4f48-8b2e-d44ee8ade697             NaN            NaN   \n",
       "\n",
       "   user_email  report_id report_date_local   amount status  \\\n",
       "0         NaN  ADBQCVM4H        2024-01-28 7,053.60   PAID   \n",
       "1         NaN  AKR4JT5TN        2024-01-31   615.22   PAID   \n",
       "2         NaN  AFNDCT2LT        2024-01-31   798.34   PAID   \n",
       "3         NaN  AQHTPZ9R5        2024-01-31   258.60   PAID   \n",
       "4         NaN  AM72587Q9        2024-01-31    11.50   PAID   \n",
       "\n",
       "                  bank_name  ...  bank_account_number    batch_created_date  \\\n",
       "0     Banco Santander, S.A.  ...  '014180567990845339  2024-01-31T08:23:14Z   \n",
       "1             BBVA Bancomer  ...  '012694015433491060  2024-01-31T08:23:14Z   \n",
       "2             BBVA Bancomer  ...  '012180028688103031  2024-01-31T08:23:14Z   \n",
       "3                 BanCoppel  ...  '137691101057707029  2024-01-31T08:23:14Z   \n",
       "4  Banco Nacional de México  ...  '002420904824785722  2024-01-31T08:23:14Z   \n",
       "\n",
       "  disbursement_method                                               swap  \\\n",
       "0           SANTANDER  Juan Manuel Meliton Medina,,7053.6,01418056799...   \n",
       "1           SANTANDER  Farid Fregoso Velazque,,615.22,012694015433491...   \n",
       "2           SANTANDER  SALVADOR PANTOJA PAZ,,798.34,01218002868810303...   \n",
       "3           SANTANDER  Patricia Maria Lopez Alejandro,,258.6,13769110...   \n",
       "4           SANTANDER  Diego Armando Martinez Alcantara,,11.5,0024209...   \n",
       "\n",
       "               file_name               CLABE  BIN date_disbursement  \\\n",
       "0  SANT-2 2024-01-31.csv  014180567990845339  014        2024-01-31   \n",
       "1  SANT-2 2024-01-31.csv  012694015433491060  012        2024-01-31   \n",
       "2  SANT-2 2024-01-31.csv  012180028688103031  012        2024-01-31   \n",
       "3  SANT-2 2024-01-31.csv  137691101057707029  137        2024-01-31   \n",
       "4  SANT-2 2024-01-31.csv  002420904824785722  002        2024-01-31   \n",
       "\n",
       "  Clave de la institución Nombre de la institución  \n",
       "0                   40014                SANTANDER  \n",
       "1                   40012            BBVA BANCOMER  \n",
       "2                   40012            BBVA BANCOMER  \n",
       "3                   40137                BANCOPPEL  \n",
       "4                   40002                  BANAMEX  \n",
       "\n",
       "[5 rows x 22 columns]"
      ]
     },
     "execution_count": 7,
     "metadata": {},
     "output_type": "execute_result"
    }
   ],
   "source": [
    "query_final = query.merge(bin1[['BIN','Clave de la institución','Nombre de la institución']] ,on='BIN', how='left')\n",
    "query_final.head()"
   ]
  },
  {
   "cell_type": "code",
   "execution_count": 8,
   "metadata": {},
   "outputs": [
    {
     "data": {
      "text/plain": [
       "(6995, 22)"
      ]
     },
     "execution_count": 8,
     "metadata": {},
     "output_type": "execute_result"
    }
   ],
   "source": [
    "query_final.shape"
   ]
  },
  {
   "cell_type": "markdown",
   "metadata": {},
   "source": [
    "# PAGOS DUPLICADOS "
   ]
  },
  {
   "cell_type": "code",
   "execution_count": 9,
   "metadata": {},
   "outputs": [
    {
     "data": {
      "text/html": [
       "<div>\n",
       "<style scoped>\n",
       "    .dataframe tbody tr th:only-of-type {\n",
       "        vertical-align: middle;\n",
       "    }\n",
       "\n",
       "    .dataframe tbody tr th {\n",
       "        vertical-align: top;\n",
       "    }\n",
       "\n",
       "    .dataframe thead th {\n",
       "        text-align: right;\n",
       "    }\n",
       "</style>\n",
       "<table border=\"1\" class=\"dataframe\">\n",
       "  <thead>\n",
       "    <tr style=\"text-align: right;\">\n",
       "      <th></th>\n",
       "      <th>type</th>\n",
       "      <th>merchant_id</th>\n",
       "      <th>merchant_token</th>\n",
       "      <th>merchant_name</th>\n",
       "      <th>user_email</th>\n",
       "      <th>report_id</th>\n",
       "      <th>report_date_local</th>\n",
       "      <th>amount</th>\n",
       "      <th>status</th>\n",
       "      <th>bank_name</th>\n",
       "      <th>...</th>\n",
       "      <th>bank_account_number</th>\n",
       "      <th>batch_created_date</th>\n",
       "      <th>disbursement_method</th>\n",
       "      <th>swap</th>\n",
       "      <th>file_name</th>\n",
       "      <th>CLABE</th>\n",
       "      <th>BIN</th>\n",
       "      <th>date_disbursement</th>\n",
       "      <th>Clave de la institución</th>\n",
       "      <th>Nombre de la institución</th>\n",
       "    </tr>\n",
       "  </thead>\n",
       "  <tbody>\n",
       "  </tbody>\n",
       "</table>\n",
       "<p>0 rows × 22 columns</p>\n",
       "</div>"
      ],
      "text/plain": [
       "Empty DataFrame\n",
       "Columns: [type, merchant_id, merchant_token, merchant_name, user_email, report_id, report_date_local, amount, status, bank_name, payment_date_local, bank_account_owner_name, bank_account_number, batch_created_date, disbursement_method, swap, file_name, CLABE, BIN, date_disbursement, Clave de la institución, Nombre de la institución]\n",
       "Index: []\n",
       "\n",
       "[0 rows x 22 columns]"
      ]
     },
     "execution_count": 9,
     "metadata": {},
     "output_type": "execute_result"
    }
   ],
   "source": [
    "duplicates_query = query_final[query_final.duplicated(['report_id'],keep=False)]\n",
    "duplicates_query.head()"
   ]
  },
  {
   "cell_type": "code",
   "execution_count": 10,
   "metadata": {},
   "outputs": [
    {
     "data": {
      "text/plain": [
       "(0, 22)"
      ]
     },
     "execution_count": 10,
     "metadata": {},
     "output_type": "execute_result"
    }
   ],
   "source": [
    "duplicates_query.shape"
   ]
  },
  {
   "cell_type": "markdown",
   "metadata": {},
   "source": [
    "# VALIDACION MONTO A DISPERSAR"
   ]
  },
  {
   "cell_type": "code",
   "execution_count": 11,
   "metadata": {},
   "outputs": [],
   "source": [
    "valid_0 = query_final\n",
    "valid_0.loc[valid_0['Nombre de la institución'].str.contains('SANTANDER'), 'comision_dsp'] = 0.50\n",
    "valid_0.loc[~valid_0['Nombre de la institución'].str.contains('SANTANDER'), 'comision_dsp'] = 0.50\n",
    "valid_0['iva_dsp'] = valid_0['comision_dsp']*0.1600"
   ]
  },
  {
   "cell_type": "code",
   "execution_count": 12,
   "metadata": {},
   "outputs": [
    {
     "name": "stderr",
     "output_type": "stream",
     "text": [
      "C:\\Users\\Cristian.Aparicio\\AppData\\Local\\Temp\\ipykernel_15424\\3280025601.py:1: FutureWarning: The provided callable <built-in function sum> is currently using SeriesGroupBy.sum. In a future version of pandas, the provided callable will be used directly. To keep current behavior pass the string \"sum\" instead.\n",
      "  valid_1 = valid_0.groupby(['date_disbursement']).agg({'amount':sum,'report_id':'count','comision_dsp':sum\n"
     ]
    },
    {
     "data": {
      "text/html": [
       "<div>\n",
       "<style scoped>\n",
       "    .dataframe tbody tr th:only-of-type {\n",
       "        vertical-align: middle;\n",
       "    }\n",
       "\n",
       "    .dataframe tbody tr th {\n",
       "        vertical-align: top;\n",
       "    }\n",
       "\n",
       "    .dataframe thead th {\n",
       "        text-align: right;\n",
       "    }\n",
       "</style>\n",
       "<table border=\"1\" class=\"dataframe\">\n",
       "  <thead>\n",
       "    <tr style=\"text-align: right;\">\n",
       "      <th></th>\n",
       "      <th>date_disbursement</th>\n",
       "      <th>amount</th>\n",
       "      <th>payments_number</th>\n",
       "      <th>comision_dsp</th>\n",
       "      <th>iva_dsp</th>\n",
       "      <th>comision + iva</th>\n",
       "      <th>total_fondeo</th>\n",
       "      <th>monto_mail</th>\n",
       "      <th>comision_mail</th>\n",
       "      <th>iva_mail</th>\n",
       "      <th>monto_fondeo_mail</th>\n",
       "      <th>check_monto</th>\n",
       "      <th>check_comision</th>\n",
       "      <th>check_iva</th>\n",
       "      <th>check_fondeo</th>\n",
       "      <th>dsp</th>\n",
       "    </tr>\n",
       "  </thead>\n",
       "  <tbody>\n",
       "    <tr>\n",
       "      <th>0</th>\n",
       "      <td>2024-01-31</td>\n",
       "      <td>15,241,475.46</td>\n",
       "      <td>6995</td>\n",
       "      <td>3,497.50</td>\n",
       "      <td>559.60</td>\n",
       "      <td>4,057.10</td>\n",
       "      <td>15,245,532.56</td>\n",
       "      <td>15,241,475.46</td>\n",
       "      <td>3,497.50</td>\n",
       "      <td>559.60</td>\n",
       "      <td>15,245,532.56</td>\n",
       "      <td>-0.00</td>\n",
       "      <td>0.00</td>\n",
       "      <td>0.00</td>\n",
       "      <td>-0.00</td>\n",
       "      <td>SANT</td>\n",
       "    </tr>\n",
       "  </tbody>\n",
       "</table>\n",
       "</div>"
      ],
      "text/plain": [
       "  date_disbursement        amount  payments_number  comision_dsp  iva_dsp  \\\n",
       "0        2024-01-31 15,241,475.46             6995      3,497.50   559.60   \n",
       "\n",
       "   comision + iva  total_fondeo    monto_mail  comision_mail  iva_mail  \\\n",
       "0        4,057.10 15,245,532.56 15,241,475.46       3,497.50    559.60   \n",
       "\n",
       "   monto_fondeo_mail  check_monto  check_comision  check_iva  check_fondeo  \\\n",
       "0      15,245,532.56        -0.00            0.00       0.00         -0.00   \n",
       "\n",
       "    dsp  \n",
       "0  SANT  "
      ]
     },
     "execution_count": 12,
     "metadata": {},
     "output_type": "execute_result"
    }
   ],
   "source": [
    "valid_1 = valid_0.groupby(['date_disbursement']).agg({'amount':sum,'report_id':'count','comision_dsp':sum\n",
    "                                                      ,'iva_dsp':sum}).reset_index()\n",
    "valid_1.rename(columns={'report_id':'payments_number'},inplace=True)\n",
    "valid_1['comision + iva'] = valid_1['comision_dsp'] + valid_1['iva_dsp']\n",
    "valid_1['total_fondeo'] = valid_1['amount'] + valid_1['comision + iva']\n",
    "valid_1['monto_mail'] = monto_me_mail\n",
    "valid_1['comision_mail'] = comision_bnte_mail\n",
    "valid_1['iva_mail'] = iva_bnte_mail\n",
    "valid_1['monto_fondeo_mail'] = monto_fondear_mail\n",
    "valid_1['check_monto'] = valid_1['amount'] - valid_1['monto_mail']\n",
    "valid_1['check_comision'] = valid_1['comision_dsp'] - valid_1['comision_mail']\n",
    "valid_1['check_iva'] = valid_1['iva_dsp'] - valid_1['iva_mail']\n",
    "valid_1['check_fondeo'] = valid_1['total_fondeo'] - valid_1['monto_fondeo_mail']\n",
    "valid_1['dsp'] = 'SANT'\n",
    "valid_1.head()"
   ]
  },
  {
   "cell_type": "code",
   "execution_count": 13,
   "metadata": {},
   "outputs": [
    {
     "data": {
      "text/html": [
       "<div>\n",
       "<style scoped>\n",
       "    .dataframe tbody tr th:only-of-type {\n",
       "        vertical-align: middle;\n",
       "    }\n",
       "\n",
       "    .dataframe tbody tr th {\n",
       "        vertical-align: top;\n",
       "    }\n",
       "\n",
       "    .dataframe thead th {\n",
       "        text-align: right;\n",
       "    }\n",
       "</style>\n",
       "<table border=\"1\" class=\"dataframe\">\n",
       "  <thead>\n",
       "    <tr style=\"text-align: right;\">\n",
       "      <th></th>\n",
       "      <th>date_disbursement</th>\n",
       "      <th>dsp</th>\n",
       "      <th>payments_number</th>\n",
       "      <th>amount</th>\n",
       "      <th>comision_dsp</th>\n",
       "      <th>iva_dsp</th>\n",
       "      <th>comision + iva</th>\n",
       "      <th>total_fondeo</th>\n",
       "    </tr>\n",
       "  </thead>\n",
       "  <tbody>\n",
       "    <tr>\n",
       "      <th>0</th>\n",
       "      <td>2024-01-31</td>\n",
       "      <td>SANT</td>\n",
       "      <td>6995</td>\n",
       "      <td>15,241,475.46</td>\n",
       "      <td>3,497.50</td>\n",
       "      <td>559.60</td>\n",
       "      <td>4,057.10</td>\n",
       "      <td>15,245,532.56</td>\n",
       "    </tr>\n",
       "  </tbody>\n",
       "</table>\n",
       "</div>"
      ],
      "text/plain": [
       "  date_disbursement   dsp  payments_number        amount  comision_dsp  \\\n",
       "0        2024-01-31  SANT             6995 15,241,475.46      3,497.50   \n",
       "\n",
       "   iva_dsp  comision + iva  total_fondeo  \n",
       "0   559.60        4,057.10 15,245,532.56  "
      ]
     },
     "execution_count": 13,
     "metadata": {},
     "output_type": "execute_result"
    }
   ],
   "source": [
    "valid_2 = valid_1[['date_disbursement','dsp','payments_number','amount','comision_dsp','iva_dsp','comision + iva','total_fondeo']]\n",
    "valid_2.head()"
   ]
  },
  {
   "cell_type": "code",
   "execution_count": 14,
   "metadata": {},
   "outputs": [
    {
     "data": {
      "text/html": [
       "<div>\n",
       "<style scoped>\n",
       "    .dataframe tbody tr th:only-of-type {\n",
       "        vertical-align: middle;\n",
       "    }\n",
       "\n",
       "    .dataframe tbody tr th {\n",
       "        vertical-align: top;\n",
       "    }\n",
       "\n",
       "    .dataframe thead th {\n",
       "        text-align: right;\n",
       "    }\n",
       "</style>\n",
       "<table border=\"1\" class=\"dataframe\">\n",
       "  <thead>\n",
       "    <tr style=\"text-align: right;\">\n",
       "      <th></th>\n",
       "      <th>concept</th>\n",
       "      <th>data</th>\n",
       "    </tr>\n",
       "  </thead>\n",
       "  <tbody>\n",
       "    <tr>\n",
       "      <th>0</th>\n",
       "      <td>date_disbursement</td>\n",
       "      <td>2024-01-31 00:00:00</td>\n",
       "    </tr>\n",
       "    <tr>\n",
       "      <th>0</th>\n",
       "      <td>dsp</td>\n",
       "      <td>SANT</td>\n",
       "    </tr>\n",
       "    <tr>\n",
       "      <th>0</th>\n",
       "      <td>payments_number</td>\n",
       "      <td>6995</td>\n",
       "    </tr>\n",
       "    <tr>\n",
       "      <th>0</th>\n",
       "      <td>amount</td>\n",
       "      <td>15,241,475.46</td>\n",
       "    </tr>\n",
       "    <tr>\n",
       "      <th>0</th>\n",
       "      <td>comision_dsp</td>\n",
       "      <td>3,497.50</td>\n",
       "    </tr>\n",
       "    <tr>\n",
       "      <th>0</th>\n",
       "      <td>iva_dsp</td>\n",
       "      <td>559.60</td>\n",
       "    </tr>\n",
       "    <tr>\n",
       "      <th>0</th>\n",
       "      <td>comision + iva</td>\n",
       "      <td>4,057.10</td>\n",
       "    </tr>\n",
       "    <tr>\n",
       "      <th>0</th>\n",
       "      <td>total_fondeo</td>\n",
       "      <td>15,245,532.56</td>\n",
       "    </tr>\n",
       "  </tbody>\n",
       "</table>\n",
       "</div>"
      ],
      "text/plain": [
       "             concept                 data\n",
       "0  date_disbursement  2024-01-31 00:00:00\n",
       "0                dsp                 SANT\n",
       "0    payments_number                 6995\n",
       "0             amount        15,241,475.46\n",
       "0       comision_dsp             3,497.50\n",
       "0            iva_dsp               559.60\n",
       "0     comision + iva             4,057.10\n",
       "0       total_fondeo        15,245,532.56"
      ]
     },
     "execution_count": 14,
     "metadata": {},
     "output_type": "execute_result"
    }
   ],
   "source": [
    "valid_montos_final = valid_2.stack().reset_index(1)\n",
    "valid_montos_final.rename(columns={'level_1':'concept',0:'data'},inplace=True)\n",
    "valid_montos_final"
   ]
  },
  {
   "cell_type": "markdown",
   "metadata": {},
   "source": [
    "# EXCEL"
   ]
  },
  {
   "cell_type": "code",
   "execution_count": 15,
   "metadata": {},
   "outputs": [],
   "source": [
    "writer = pd.ExcelWriter(r'G:\\.shortcut-targets-by-id\\1Oe28Mf9uSidMamjllDen2gkNnC59eSUr\\3.-Settlement\\5.-HISTORICO FILES PAGOS\\01. TRADICIONAL\\2024\\01. JANUARY\\VALIDATION\\VALIDATION-SANT-2 2024-01-31.xlsx',\n",
    "                        engine='xlsxwriter',\n",
    "                        engine_kwargs={'options': {'encoding':'utf-8'}})\n",
    "query.to_excel(writer, sheet_name='DATA QUERY',index=False)\n",
    "valid_montos_final.to_excel(writer, sheet_name='MONTOS',index=False)\n",
    "valid_1.to_excel(writer, sheet_name='DIFF MONTOS',index=False)\n",
    "duplicates_query.to_excel(writer, sheet_name='PAGOS DUPLICADOS',index=False)\n",
    "writer.close()"
   ]
  },
  {
   "cell_type": "code",
   "execution_count": 16,
   "metadata": {},
   "outputs": [],
   "source": [
    "valid_1.to_csv(r'G:\\.shortcut-targets-by-id\\1Oe28Mf9uSidMamjllDen2gkNnC59eSUr\\3.-Settlement\\5.-HISTORICO FILES PAGOS\\01. TRADICIONAL\\2024\\01. JANUARY\\MONTOS EMAIL\\DIFF MONTOS-SANT-2 2024-01-31.csv',index=False)"
   ]
  },
  {
   "cell_type": "code",
   "execution_count": 17,
   "metadata": {},
   "outputs": [],
   "source": [
    "valid_2.to_csv(r'G:\\.shortcut-targets-by-id\\1Oe28Mf9uSidMamjllDen2gkNnC59eSUr\\3.-Settlement\\5.-HISTORICO FILES PAGOS\\01. TRADICIONAL\\2024\\01. JANUARY\\VALIDATION\\total_disbursement-SANT-2 2024-01-31.csv',index=False)"
   ]
  },
  {
   "cell_type": "code",
   "execution_count": 18,
   "metadata": {},
   "outputs": [],
   "source": [
    "duplicates_query.to_csv(r'G:\\.shortcut-targets-by-id\\1Oe28Mf9uSidMamjllDen2gkNnC59eSUr\\3.-Settlement\\5.-HISTORICO FILES PAGOS\\01. TRADICIONAL\\2024\\01. JANUARY\\VALIDATION\\Duplicados-SANT-2 2024-01-31.csv',index=False)"
   ]
  },
  {
   "cell_type": "code",
   "execution_count": null,
   "metadata": {},
   "outputs": [],
   "source": []
  }
 ],
 "metadata": {
  "kernelspec": {
   "display_name": "Python 3 (ipykernel)",
   "language": "python",
   "name": "python3"
  },
  "language_info": {
   "codemirror_mode": {
    "name": "ipython",
    "version": 3
   },
   "file_extension": ".py",
   "mimetype": "text/x-python",
   "name": "python",
   "nbconvert_exporter": "python",
   "pygments_lexer": "ipython3",
   "version": "3.9.18"
  }
 },
 "nbformat": 4,
 "nbformat_minor": 4
}
