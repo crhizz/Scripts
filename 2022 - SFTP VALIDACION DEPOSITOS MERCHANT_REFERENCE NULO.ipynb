{
 "cells": [
  {
   "cell_type": "code",
   "execution_count": 1,
   "metadata": {},
   "outputs": [],
   "source": [
    "import numpy as np\n",
    "import pandas as pd\n",
    "import zipfile\n",
    "from zipfile import ZipFile\n",
    "import glob\n",
    "import os\n",
    "from openpyxl import load_workbook\n",
    "pd.options.display.float_format = '{:,.2f}'.format"
   ]
  },
  {
   "cell_type": "markdown",
   "metadata": {},
   "source": [
    "# SFTP"
   ]
  },
  {
   "cell_type": "markdown",
   "metadata": {},
   "source": [
    "## HEADERS"
   ]
  },
  {
   "cell_type": "code",
   "execution_count": 2,
   "metadata": {},
   "outputs": [],
   "source": [
    "name_file=['column_type','affiliation_sftp','merchant_reference','card','settled_amount','commisions','transaction_date',\n",
    "           'gross_amount','currency','transaction_type','tax','installments_tax','iva_cashback_paid','iva_cashback_charged',\n",
    "          'cashback_fees_paid','cashback_fees_charged','installments_fees','cashback_amount','number_of_payments',\n",
    "           'initial_deferment','plan_type','auth_code','unknown.1','eci','interbank_reference','empty.1','unknown.2','empty.2',\n",
    "          'payworks_reference','card_type','transaction_source','prosa_reference','acquirer_commision','acquirer_tax',\n",
    "          'unknown.3','unknown.4','unknown.5']\n",
    "dtypes_file={'interbank_reference':object,'affiliation_sftp':object,'card':object,'number_of_payments':object,\n",
    "             'initial_deferment':object,'plan_type':object,'auth_code':object,'payworks_reference':object,'eci':object}"
   ]
  },
  {
   "cell_type": "code",
   "execution_count": 3,
   "metadata": {},
   "outputs": [],
   "source": [
    "use_cols = ['column_type','affiliation_sftp','merchant_reference','card','settled_amount','commisions','transaction_date',\n",
    "           'gross_amount','currency','transaction_type','tax','installments_tax','iva_cashback_paid','iva_cashback_charged',\n",
    "          'cashback_fees_paid','cashback_fees_charged','installments_fees','cashback_amount','number_of_payments',\n",
    "           'initial_deferment','plan_type','auth_code','unknown.1','eci','interbank_reference','empty.1','unknown.2','empty.2',\n",
    "          'payworks_reference','card_type','transaction_source','prosa_reference','acquirer_commision','acquirer_tax',\n",
    "          'unknown.3','unknown.4','unknown.5']"
   ]
  },
  {
   "cell_type": "markdown",
   "metadata": {},
   "source": [
    "### MAYO"
   ]
  },
  {
   "cell_type": "code",
   "execution_count": null,
   "metadata": {},
   "outputs": [],
   "source": [
    "sftp_may_1_22 = sorted(glob.glob(r'G:\\My Drive\\2.-CONCILIACIONES Y POLIZA\\SFTP BANORTE\\2022 SFTP Banorte\\05. MAYO\\**\\PAYCLIP_Settlement*.csv', recursive=False))\n",
    "sftp_may_1_22"
   ]
  },
  {
   "cell_type": "code",
   "execution_count": null,
   "metadata": {},
   "outputs": [],
   "source": [
    "sftp_may_22 = pd.concat([pd.read_csv(f,names=name_file,dtype=dtypes_file,usecols=use_cols)\n",
    "                         .assign(file_name=os.path.basename(f)) for f in sftp_may_1_22])\n",
    "sftp_may_22.rename(columns ={'interbank_reference':'order_id','auth_code':'codigo_autorizacion',\n",
    "                             'payworks_reference':'order_id_xpay'}, inplace=True)\n",
    "sftp_may_22['date_file'] = sftp_may_22[\"file_name\"].str[-15:-7]\n",
    "sftp_may_22['date_file']= pd.to_datetime(sftp_may_22['date_file'], format='%d%m%Y').dt.date\n",
    "sftp_may_22['date_file']= pd.to_datetime(sftp_may_22['date_file'])\n",
    "sftp_may_22.sort_values(by=['date_file'],ascending=True,inplace=True)\n",
    "sftp_may_22['month'] = sftp_may_22['date_file'].dt.strftime('%B')\n",
    "sftp_may_22.head()"
   ]
  },
  {
   "cell_type": "code",
   "execution_count": null,
   "metadata": {},
   "outputs": [],
   "source": [
    "sftp_may_22.shape"
   ]
  },
  {
   "cell_type": "markdown",
   "metadata": {},
   "source": [
    "### ABRIL"
   ]
  },
  {
   "cell_type": "code",
   "execution_count": null,
   "metadata": {},
   "outputs": [],
   "source": [
    "sftp_apr_1_22 = sorted(glob.glob(r'G:\\My Drive\\2.-CONCILIACIONES Y POLIZA\\SFTP BANORTE\\2022 SFTP Banorte\\04. ABRIL\\**\\PAYCLIP_Settlement*.csv', recursive=False))\n",
    "sftp_apr_1_22"
   ]
  },
  {
   "cell_type": "code",
   "execution_count": null,
   "metadata": {},
   "outputs": [],
   "source": [
    "sftp_apr_22 = pd.concat([pd.read_csv(f,names=name_file,dtype=dtypes_file,usecols=use_cols)\n",
    "                         .assign(file_name=os.path.basename(f)) for f in sftp_apr_1_22])\n",
    "sftp_apr_22.rename(columns ={'interbank_reference':'order_id','auth_code':'codigo_autorizacion',\n",
    "                             'payworks_reference':'order_id_xpay'}, inplace=True)\n",
    "sftp_apr_22['date_file'] = sftp_apr_22[\"file_name\"].str[-15:-7]\n",
    "sftp_apr_22['date_file']= pd.to_datetime(sftp_apr_22['date_file'], format='%d%m%Y').dt.date\n",
    "sftp_apr_22['date_file']= pd.to_datetime(sftp_apr_22['date_file'])\n",
    "sftp_apr_22.sort_values(by=['date_file'],ascending=True,inplace=True)\n",
    "sftp_apr_22['month'] = sftp_apr_22['date_file'].dt.strftime('%B')\n",
    "sftp_apr_22.head()"
   ]
  },
  {
   "cell_type": "code",
   "execution_count": null,
   "metadata": {},
   "outputs": [],
   "source": [
    "sftp_apr_22.shape"
   ]
  },
  {
   "cell_type": "markdown",
   "metadata": {},
   "source": [
    "### MARZO"
   ]
  },
  {
   "cell_type": "code",
   "execution_count": 4,
   "metadata": {},
   "outputs": [
    {
     "data": {
      "text/plain": [
       "['G:\\\\My Drive\\\\2.-CONCILIACIONES Y POLIZA\\\\SFTP BANORTE\\\\2022 SFTP Banorte\\\\03. MARZO\\\\01032022\\\\PAYCLIP_Settlement_01032022_V1.csv',\n",
       " 'G:\\\\My Drive\\\\2.-CONCILIACIONES Y POLIZA\\\\SFTP BANORTE\\\\2022 SFTP Banorte\\\\03. MARZO\\\\02032022\\\\PAYCLIP_Settlement_02032022_V1.csv',\n",
       " 'G:\\\\My Drive\\\\2.-CONCILIACIONES Y POLIZA\\\\SFTP BANORTE\\\\2022 SFTP Banorte\\\\03. MARZO\\\\03032022\\\\PAYCLIP_Settlement_03032022_V1.csv',\n",
       " 'G:\\\\My Drive\\\\2.-CONCILIACIONES Y POLIZA\\\\SFTP BANORTE\\\\2022 SFTP Banorte\\\\03. MARZO\\\\04032022\\\\PAYCLIP_Settlement_04032022_V1.csv',\n",
       " 'G:\\\\My Drive\\\\2.-CONCILIACIONES Y POLIZA\\\\SFTP BANORTE\\\\2022 SFTP Banorte\\\\03. MARZO\\\\05032022\\\\PAYCLIP_Settlement_05032022_V1.csv',\n",
       " 'G:\\\\My Drive\\\\2.-CONCILIACIONES Y POLIZA\\\\SFTP BANORTE\\\\2022 SFTP Banorte\\\\03. MARZO\\\\08032022\\\\PAYCLIP_Settlement_08032022_V1.csv',\n",
       " 'G:\\\\My Drive\\\\2.-CONCILIACIONES Y POLIZA\\\\SFTP BANORTE\\\\2022 SFTP Banorte\\\\03. MARZO\\\\09032022\\\\PAYCLIP_Settlement_09032022_V1.csv',\n",
       " 'G:\\\\My Drive\\\\2.-CONCILIACIONES Y POLIZA\\\\SFTP BANORTE\\\\2022 SFTP Banorte\\\\03. MARZO\\\\10032022\\\\PAYCLIP_Settlement_10032022_V1.csv',\n",
       " 'G:\\\\My Drive\\\\2.-CONCILIACIONES Y POLIZA\\\\SFTP BANORTE\\\\2022 SFTP Banorte\\\\03. MARZO\\\\11032022\\\\PAYCLIP_Settlement_11032022_V1.csv',\n",
       " 'G:\\\\My Drive\\\\2.-CONCILIACIONES Y POLIZA\\\\SFTP BANORTE\\\\2022 SFTP Banorte\\\\03. MARZO\\\\12032022\\\\PAYCLIP_Settlement_12032022_V1.csv',\n",
       " 'G:\\\\My Drive\\\\2.-CONCILIACIONES Y POLIZA\\\\SFTP BANORTE\\\\2022 SFTP Banorte\\\\03. MARZO\\\\15032022\\\\PAYCLIP_Settlement_15032022_V1.csv',\n",
       " 'G:\\\\My Drive\\\\2.-CONCILIACIONES Y POLIZA\\\\SFTP BANORTE\\\\2022 SFTP Banorte\\\\03. MARZO\\\\16032022\\\\PAYCLIP_Settlement_16032022_V1.csv',\n",
       " 'G:\\\\My Drive\\\\2.-CONCILIACIONES Y POLIZA\\\\SFTP BANORTE\\\\2022 SFTP Banorte\\\\03. MARZO\\\\17032022\\\\PAYCLIP_Settlement_17032022_V1.csv',\n",
       " 'G:\\\\My Drive\\\\2.-CONCILIACIONES Y POLIZA\\\\SFTP BANORTE\\\\2022 SFTP Banorte\\\\03. MARZO\\\\18032022\\\\PAYCLIP_Settlement_18032022_V1.csv',\n",
       " 'G:\\\\My Drive\\\\2.-CONCILIACIONES Y POLIZA\\\\SFTP BANORTE\\\\2022 SFTP Banorte\\\\03. MARZO\\\\19032022\\\\PAYCLIP_Settlement_19032022_V1.csv',\n",
       " 'G:\\\\My Drive\\\\2.-CONCILIACIONES Y POLIZA\\\\SFTP BANORTE\\\\2022 SFTP Banorte\\\\03. MARZO\\\\23032022\\\\PAYCLIP_Settlement_23032022_V1.csv',\n",
       " 'G:\\\\My Drive\\\\2.-CONCILIACIONES Y POLIZA\\\\SFTP BANORTE\\\\2022 SFTP Banorte\\\\03. MARZO\\\\24032022\\\\PAYCLIP_Settlement_24032022_V1.csv',\n",
       " 'G:\\\\My Drive\\\\2.-CONCILIACIONES Y POLIZA\\\\SFTP BANORTE\\\\2022 SFTP Banorte\\\\03. MARZO\\\\25032022\\\\PAYCLIP_Settlement_25032022_V1.csv',\n",
       " 'G:\\\\My Drive\\\\2.-CONCILIACIONES Y POLIZA\\\\SFTP BANORTE\\\\2022 SFTP Banorte\\\\03. MARZO\\\\26032022\\\\PAYCLIP_Settlement_26032022_V1.csv',\n",
       " 'G:\\\\My Drive\\\\2.-CONCILIACIONES Y POLIZA\\\\SFTP BANORTE\\\\2022 SFTP Banorte\\\\03. MARZO\\\\29032022\\\\PAYCLIP_Settlement_29032022_V1.csv',\n",
       " 'G:\\\\My Drive\\\\2.-CONCILIACIONES Y POLIZA\\\\SFTP BANORTE\\\\2022 SFTP Banorte\\\\03. MARZO\\\\30032022\\\\PAYCLIP_Settlement_30032022_V1.csv',\n",
       " 'G:\\\\My Drive\\\\2.-CONCILIACIONES Y POLIZA\\\\SFTP BANORTE\\\\2022 SFTP Banorte\\\\03. MARZO\\\\31032022\\\\PAYCLIP_Settlement_31032022_V1.csv']"
      ]
     },
     "execution_count": 4,
     "metadata": {},
     "output_type": "execute_result"
    }
   ],
   "source": [
    "sftp_mar_1_22 = sorted(glob.glob(r'G:\\My Drive\\2.-CONCILIACIONES Y POLIZA\\SFTP BANORTE\\2022 SFTP Banorte\\03. MARZO\\**\\PAYCLIP_Settlement*.csv', recursive=False))\n",
    "sftp_mar_1_22"
   ]
  },
  {
   "cell_type": "code",
   "execution_count": 5,
   "metadata": {},
   "outputs": [
    {
     "name": "stderr",
     "output_type": "stream",
     "text": [
      "C:\\Users\\Cristian.Aparicio\\AppData\\Local\\Temp\\ipykernel_1212\\3867596032.py:1: DtypeWarning: Columns (2) have mixed types. Specify dtype option on import or set low_memory=False.\n",
      "  sftp_mar_22 = pd.concat([pd.read_csv(f,names=name_file,dtype=dtypes_file,usecols=use_cols)\n"
     ]
    },
    {
     "data": {
      "text/html": [
       "<div>\n",
       "<style scoped>\n",
       "    .dataframe tbody tr th:only-of-type {\n",
       "        vertical-align: middle;\n",
       "    }\n",
       "\n",
       "    .dataframe tbody tr th {\n",
       "        vertical-align: top;\n",
       "    }\n",
       "\n",
       "    .dataframe thead th {\n",
       "        text-align: right;\n",
       "    }\n",
       "</style>\n",
       "<table border=\"1\" class=\"dataframe\">\n",
       "  <thead>\n",
       "    <tr style=\"text-align: right;\">\n",
       "      <th></th>\n",
       "      <th>column_type</th>\n",
       "      <th>affiliation_sftp</th>\n",
       "      <th>merchant_reference</th>\n",
       "      <th>card</th>\n",
       "      <th>settled_amount</th>\n",
       "      <th>commisions</th>\n",
       "      <th>transaction_date</th>\n",
       "      <th>gross_amount</th>\n",
       "      <th>currency</th>\n",
       "      <th>transaction_type</th>\n",
       "      <th>...</th>\n",
       "      <th>transaction_source</th>\n",
       "      <th>prosa_reference</th>\n",
       "      <th>acquirer_commision</th>\n",
       "      <th>acquirer_tax</th>\n",
       "      <th>unknown.3</th>\n",
       "      <th>unknown.4</th>\n",
       "      <th>unknown.5</th>\n",
       "      <th>file_name</th>\n",
       "      <th>date_file</th>\n",
       "      <th>month</th>\n",
       "    </tr>\n",
       "  </thead>\n",
       "  <tbody>\n",
       "    <tr>\n",
       "      <th>0</th>\n",
       "      <td>H</td>\n",
       "      <td>MXN</td>\n",
       "      <td>52,643,066,514.00</td>\n",
       "      <td>-923237110</td>\n",
       "      <td>0</td>\n",
       "      <td>1072741</td>\n",
       "      <td>2802221</td>\n",
       "      <td>20220228</td>\n",
       "      <td>NaN</td>\n",
       "      <td>BANORTE</td>\n",
       "      <td>...</td>\n",
       "      <td>NaN</td>\n",
       "      <td>NaN</td>\n",
       "      <td>NaN</td>\n",
       "      <td>NaN</td>\n",
       "      <td>NaN</td>\n",
       "      <td>NaN</td>\n",
       "      <td>NaN</td>\n",
       "      <td>PAYCLIP_Settlement_01032022_V1.csv</td>\n",
       "      <td>2022-03-01</td>\n",
       "      <td>March</td>\n",
       "    </tr>\n",
       "    <tr>\n",
       "      <th>715153</th>\n",
       "      <td>D</td>\n",
       "      <td>07927517</td>\n",
       "      <td>7,927,517.00</td>\n",
       "      <td>5546252887</td>\n",
       "      <td>12379</td>\n",
       "      <td>-234</td>\n",
       "      <td>20220225</td>\n",
       "      <td>12650</td>\n",
       "      <td>MXN</td>\n",
       "      <td>SETTLED</td>\n",
       "      <td>...</td>\n",
       "      <td>N</td>\n",
       "      <td>PP36811901002153</td>\n",
       "      <td>-234.00</td>\n",
       "      <td>-37.00</td>\n",
       "      <td>N</td>\n",
       "      <td>0.00</td>\n",
       "      <td>0.00</td>\n",
       "      <td>PAYCLIP_Settlement_01032022_V1.csv</td>\n",
       "      <td>2022-03-01</td>\n",
       "      <td>March</td>\n",
       "    </tr>\n",
       "    <tr>\n",
       "      <th>715154</th>\n",
       "      <td>D</td>\n",
       "      <td>07927517</td>\n",
       "      <td>7,927,517.00</td>\n",
       "      <td>4772140578</td>\n",
       "      <td>128678</td>\n",
       "      <td>-2433</td>\n",
       "      <td>20220225</td>\n",
       "      <td>131500</td>\n",
       "      <td>MXN</td>\n",
       "      <td>SETTLED</td>\n",
       "      <td>...</td>\n",
       "      <td>N</td>\n",
       "      <td>7duzA8LPrEJdPZzK</td>\n",
       "      <td>-2,433.00</td>\n",
       "      <td>-389.00</td>\n",
       "      <td>N</td>\n",
       "      <td>0.00</td>\n",
       "      <td>0.00</td>\n",
       "      <td>PAYCLIP_Settlement_01032022_V1.csv</td>\n",
       "      <td>2022-03-01</td>\n",
       "      <td>March</td>\n",
       "    </tr>\n",
       "    <tr>\n",
       "      <th>715155</th>\n",
       "      <td>D</td>\n",
       "      <td>07927517</td>\n",
       "      <td>7,927,517.00</td>\n",
       "      <td>5267776366</td>\n",
       "      <td>8121</td>\n",
       "      <td>-154</td>\n",
       "      <td>20220225</td>\n",
       "      <td>8300</td>\n",
       "      <td>MXN</td>\n",
       "      <td>SETTLED</td>\n",
       "      <td>...</td>\n",
       "      <td>NaN</td>\n",
       "      <td>bKYXDmDvMGQQ6XAx</td>\n",
       "      <td>-154.00</td>\n",
       "      <td>-25.00</td>\n",
       "      <td>N</td>\n",
       "      <td>0.00</td>\n",
       "      <td>0.00</td>\n",
       "      <td>PAYCLIP_Settlement_01032022_V1.csv</td>\n",
       "      <td>2022-03-01</td>\n",
       "      <td>March</td>\n",
       "    </tr>\n",
       "    <tr>\n",
       "      <th>715156</th>\n",
       "      <td>D</td>\n",
       "      <td>07927517</td>\n",
       "      <td>7,927,517.00</td>\n",
       "      <td>4213167593</td>\n",
       "      <td>30039</td>\n",
       "      <td>-397</td>\n",
       "      <td>20220225</td>\n",
       "      <td>30500</td>\n",
       "      <td>MXN</td>\n",
       "      <td>SETTLED</td>\n",
       "      <td>...</td>\n",
       "      <td>N</td>\n",
       "      <td>N500W4E1423</td>\n",
       "      <td>-397.00</td>\n",
       "      <td>-64.00</td>\n",
       "      <td>N</td>\n",
       "      <td>0.00</td>\n",
       "      <td>0.00</td>\n",
       "      <td>PAYCLIP_Settlement_01032022_V1.csv</td>\n",
       "      <td>2022-03-01</td>\n",
       "      <td>March</td>\n",
       "    </tr>\n",
       "  </tbody>\n",
       "</table>\n",
       "<p>5 rows × 40 columns</p>\n",
       "</div>"
      ],
      "text/plain": [
       "       column_type affiliation_sftp merchant_reference        card  \\\n",
       "0                H              MXN  52,643,066,514.00  -923237110   \n",
       "715153           D         07927517       7,927,517.00  5546252887   \n",
       "715154           D         07927517       7,927,517.00  4772140578   \n",
       "715155           D         07927517       7,927,517.00  5267776366   \n",
       "715156           D         07927517       7,927,517.00  4213167593   \n",
       "\n",
       "        settled_amount  commisions  transaction_date  gross_amount currency  \\\n",
       "0                    0     1072741           2802221      20220228      NaN   \n",
       "715153           12379        -234          20220225         12650      MXN   \n",
       "715154          128678       -2433          20220225        131500      MXN   \n",
       "715155            8121        -154          20220225          8300      MXN   \n",
       "715156           30039        -397          20220225         30500      MXN   \n",
       "\n",
       "       transaction_type  ...  transaction_source   prosa_reference  \\\n",
       "0               BANORTE  ...                 NaN               NaN   \n",
       "715153          SETTLED  ...                   N  PP36811901002153   \n",
       "715154          SETTLED  ...                   N  7duzA8LPrEJdPZzK   \n",
       "715155          SETTLED  ...                 NaN  bKYXDmDvMGQQ6XAx   \n",
       "715156          SETTLED  ...                   N  N500W4E1423        \n",
       "\n",
       "        acquirer_commision  acquirer_tax  unknown.3  unknown.4  unknown.5  \\\n",
       "0                      NaN           NaN        NaN        NaN        NaN   \n",
       "715153             -234.00        -37.00          N       0.00       0.00   \n",
       "715154           -2,433.00       -389.00          N       0.00       0.00   \n",
       "715155             -154.00        -25.00          N       0.00       0.00   \n",
       "715156             -397.00        -64.00          N       0.00       0.00   \n",
       "\n",
       "                                 file_name  date_file  month  \n",
       "0       PAYCLIP_Settlement_01032022_V1.csv 2022-03-01  March  \n",
       "715153  PAYCLIP_Settlement_01032022_V1.csv 2022-03-01  March  \n",
       "715154  PAYCLIP_Settlement_01032022_V1.csv 2022-03-01  March  \n",
       "715155  PAYCLIP_Settlement_01032022_V1.csv 2022-03-01  March  \n",
       "715156  PAYCLIP_Settlement_01032022_V1.csv 2022-03-01  March  \n",
       "\n",
       "[5 rows x 40 columns]"
      ]
     },
     "execution_count": 5,
     "metadata": {},
     "output_type": "execute_result"
    }
   ],
   "source": [
    "sftp_mar_22 = pd.concat([pd.read_csv(f,names=name_file,dtype=dtypes_file,usecols=use_cols)\n",
    "                         .assign(file_name=os.path.basename(f)) for f in sftp_mar_1_22])\n",
    "sftp_mar_22.rename(columns ={'interbank_reference':'order_id','auth_code':'codigo_autorizacion',\n",
    "                             'payworks_reference':'order_id_xpay'}, inplace=True)\n",
    "sftp_mar_22['date_file'] = sftp_mar_22[\"file_name\"].str[-15:-7]\n",
    "sftp_mar_22['date_file']= pd.to_datetime(sftp_mar_22['date_file'], format='%d%m%Y').dt.date\n",
    "sftp_mar_22['date_file']= pd.to_datetime(sftp_mar_22['date_file'])\n",
    "sftp_mar_22.sort_values(by=['date_file'],ascending=True,inplace=True)\n",
    "sftp_mar_22['month'] = sftp_mar_22['date_file'].dt.strftime('%B')\n",
    "sftp_mar_22.head()"
   ]
  },
  {
   "cell_type": "code",
   "execution_count": 6,
   "metadata": {},
   "outputs": [
    {
     "data": {
      "text/plain": [
       "(10389419, 40)"
      ]
     },
     "execution_count": 6,
     "metadata": {},
     "output_type": "execute_result"
    }
   ],
   "source": [
    "sftp_mar_22.shape"
   ]
  },
  {
   "cell_type": "markdown",
   "metadata": {},
   "source": [
    "### FEBRERO 2022"
   ]
  },
  {
   "cell_type": "code",
   "execution_count": null,
   "metadata": {},
   "outputs": [],
   "source": [
    "sftp_feb_1_22 = sorted(glob.glob(r'G:\\My Drive\\2.-CONCILIACIONES Y POLIZA\\SFTP BANORTE\\2022 SFTP Banorte\\02. FEBRERO\\**\\PAYCLIP_Settlement*.csv', recursive=False))\n",
    "sftp_feb_1_22"
   ]
  },
  {
   "cell_type": "code",
   "execution_count": null,
   "metadata": {},
   "outputs": [],
   "source": [
    "sftp_feb_22 = pd.concat([pd.read_csv(f,names=name_file,dtype=dtypes_file,usecols=use_cols)\n",
    "                         .assign(file_name=os.path.basename(f)) for f in sftp_feb_1_22])\n",
    "sftp_feb_22.rename(columns ={'interbank_reference':'order_id','auth_code':'codigo_autorizacion',\n",
    "                             'payworks_reference':'order_id_xpay'}, inplace=True)\n",
    "sftp_feb_22['date_file'] = sftp_feb_22[\"file_name\"].str[-15:-7]\n",
    "sftp_feb_22['date_file']= pd.to_datetime(sftp_feb_22['date_file'], format='%d%m%Y').dt.date\n",
    "sftp_feb_22['date_file']= pd.to_datetime(sftp_feb_22['date_file'])\n",
    "sftp_feb_22.sort_values(by=['date_file'],ascending=True,inplace=True)\n",
    "sftp_feb_22['month'] = sftp_feb_22['date_file'].dt.strftime('%B')\n",
    "sftp_feb_22.head()"
   ]
  },
  {
   "cell_type": "code",
   "execution_count": null,
   "metadata": {},
   "outputs": [],
   "source": [
    "sftp_feb_22.shape"
   ]
  },
  {
   "cell_type": "markdown",
   "metadata": {},
   "source": [
    "### ENERO 2022"
   ]
  },
  {
   "cell_type": "code",
   "execution_count": null,
   "metadata": {},
   "outputs": [],
   "source": [
    "sftp_jan_1_22 = glob.glob(r'G:\\My Drive\\2.-CONCILIACIONES Y POLIZA\\SFTP BANORTE\\2022 SFTP Banorte\\01. ENERO\\**\\PAYCLIP_Settlement*.csv', recursive=False)\n",
    "sftp_jan_1_22"
   ]
  },
  {
   "cell_type": "code",
   "execution_count": null,
   "metadata": {},
   "outputs": [],
   "source": [
    "sftp_jan_22 = pd.concat([pd.read_csv(f,names=name_file,dtype=dtypes_file)\n",
    "                         .assign(file_name=os.path.basename(f)) for f in sftp_jan_1_22])\n",
    "sftp_jan_22.rename(columns ={'interbank_reference':'order_id','auth_code':'codigo_autorizacion',\n",
    "                             'payworks_reference':'order_id_xpay'}, inplace=True)\n",
    "sftp_jan_22['date_file'] = sftp_jan_22[\"file_name\"].str[-15:-7]\n",
    "sftp_jan_22['date_file']= pd.to_datetime(sftp_jan_22['date_file'], format='%d%m%Y').dt.date\n",
    "sftp_jan_22['date_file']= pd.to_datetime(sftp_jan_22['date_file'])\n",
    "sftp_jan_22.sort_values(by=['date_file'],ascending=True,inplace=True)\n",
    "sftp_jan_22['month'] = sftp_jan_22['date_file'].dt.strftime('%B')\n",
    "sftp_jan_22.head()"
   ]
  },
  {
   "cell_type": "code",
   "execution_count": null,
   "metadata": {},
   "outputs": [],
   "source": [
    "sftp_jan_22.shape"
   ]
  },
  {
   "cell_type": "markdown",
   "metadata": {},
   "source": [
    "### DICIEMBRE 2021"
   ]
  },
  {
   "cell_type": "code",
   "execution_count": null,
   "metadata": {},
   "outputs": [],
   "source": [
    "sftp_dec_1_21 = glob.glob(r'G:\\My Drive\\2.-CONCILIACIONES Y POLIZA\\SFTP BANORTE\\2021 SFTP Banorte\\12. DICIEMBRE\\**\\PAYCLIP_Settlement*.csv', recursive=False)\n",
    "sftp_dec_1_21"
   ]
  },
  {
   "cell_type": "code",
   "execution_count": null,
   "metadata": {},
   "outputs": [],
   "source": [
    "sftp_dec_21 = pd.concat([pd.read_csv(f,names=name_file,dtype=dtypes_file)\n",
    "                         .assign(file_name=os.path.basename(f)) for f in sftp_dec_1_21])\n",
    "sftp_dec_21.rename(columns ={'interbank_reference':'order_id','auth_code':'codigo_autorizacion',\n",
    "                             'payworks_reference':'order_id_xpay'}, inplace=True)\n",
    "sftp_dec_21['date_file'] = sftp_dec_21[\"file_name\"].str[-15:-7]\n",
    "sftp_dec_21['date_file']= pd.to_datetime(sftp_dec_21['date_file'], format='%d%m%Y').dt.date\n",
    "sftp_dec_21['date_file']= pd.to_datetime(sftp_dec_21['date_file'])\n",
    "sftp_dec_21.sort_values(by=['date_file'],ascending=True,inplace=True)\n",
    "sftp_dec_21['month'] = sftp_dec_21['date_file'].dt.strftime('%B')\n",
    "sftp_dec_21.head()"
   ]
  },
  {
   "cell_type": "code",
   "execution_count": null,
   "metadata": {},
   "outputs": [],
   "source": [
    "sftp_dec_21.shape"
   ]
  },
  {
   "cell_type": "markdown",
   "metadata": {},
   "source": [
    "### NOVIEMBRE 2021"
   ]
  },
  {
   "cell_type": "code",
   "execution_count": null,
   "metadata": {},
   "outputs": [],
   "source": [
    "sftp_nov_1_21 = glob.glob(r'G:\\My Drive\\2.-CONCILIACIONES Y POLIZA\\SFTP BANORTE\\2021 SFTP Banorte\\11. NOVIEMBRE\\**\\PAYCLIP_Settlement*.csv', recursive=False)\n",
    "sftp_nov_1_21"
   ]
  },
  {
   "cell_type": "code",
   "execution_count": null,
   "metadata": {},
   "outputs": [],
   "source": [
    "sftp_nov_21 = pd.concat([pd.read_csv(f,names=name_file,dtype=dtypes_file)\n",
    "                         .assign(file_name=os.path.basename(f)) for f in sftp_nov_1_21])\n",
    "sftp_nov_21.rename(columns ={'interbank_reference':'order_id','auth_code':'codigo_autorizacion',\n",
    "                             'payworks_reference':'order_id_xpay'}, inplace=True)\n",
    "sftp_nov_21['date_file'] = sftp_nov_21[\"file_name\"].str[-15:-7]\n",
    "sftp_nov_21['date_file']= pd.to_datetime(sftp_nov_21['date_file'], format='%d%m%Y').dt.date\n",
    "sftp_nov_21['date_file']= pd.to_datetime(sftp_nov_21['date_file'])\n",
    "sftp_nov_21.sort_values(by=['date_file'],ascending=True,inplace=True)\n",
    "sftp_nov_21['month'] = sftp_nov_21['date_file'].dt.strftime('%B')\n",
    "sftp_nov_21.head()"
   ]
  },
  {
   "cell_type": "code",
   "execution_count": null,
   "metadata": {},
   "outputs": [],
   "source": [
    "sftp_nov_21.shape"
   ]
  },
  {
   "cell_type": "markdown",
   "metadata": {},
   "source": [
    "# ALL SFTP"
   ]
  },
  {
   "cell_type": "code",
   "execution_count": 7,
   "metadata": {},
   "outputs": [
    {
     "data": {
      "text/html": [
       "<div>\n",
       "<style scoped>\n",
       "    .dataframe tbody tr th:only-of-type {\n",
       "        vertical-align: middle;\n",
       "    }\n",
       "\n",
       "    .dataframe tbody tr th {\n",
       "        vertical-align: top;\n",
       "    }\n",
       "\n",
       "    .dataframe thead th {\n",
       "        text-align: right;\n",
       "    }\n",
       "</style>\n",
       "<table border=\"1\" class=\"dataframe\">\n",
       "  <thead>\n",
       "    <tr style=\"text-align: right;\">\n",
       "      <th></th>\n",
       "      <th>column_type</th>\n",
       "      <th>affiliation_sftp</th>\n",
       "      <th>merchant_reference</th>\n",
       "      <th>card</th>\n",
       "      <th>settled_amount</th>\n",
       "      <th>commisions</th>\n",
       "      <th>transaction_date</th>\n",
       "      <th>gross_amount</th>\n",
       "      <th>currency</th>\n",
       "      <th>transaction_type</th>\n",
       "      <th>...</th>\n",
       "      <th>transaction_source</th>\n",
       "      <th>prosa_reference</th>\n",
       "      <th>acquirer_commision</th>\n",
       "      <th>acquirer_tax</th>\n",
       "      <th>unknown.3</th>\n",
       "      <th>unknown.4</th>\n",
       "      <th>unknown.5</th>\n",
       "      <th>file_name</th>\n",
       "      <th>date_file</th>\n",
       "      <th>month</th>\n",
       "    </tr>\n",
       "  </thead>\n",
       "  <tbody>\n",
       "    <tr>\n",
       "      <th>0</th>\n",
       "      <td>H</td>\n",
       "      <td>MXN</td>\n",
       "      <td>52,643,066,514.00</td>\n",
       "      <td>-923237110</td>\n",
       "      <td>0</td>\n",
       "      <td>1072741</td>\n",
       "      <td>2802221</td>\n",
       "      <td>20220228</td>\n",
       "      <td>NaN</td>\n",
       "      <td>BANORTE</td>\n",
       "      <td>...</td>\n",
       "      <td>NaN</td>\n",
       "      <td>NaN</td>\n",
       "      <td>NaN</td>\n",
       "      <td>NaN</td>\n",
       "      <td>NaN</td>\n",
       "      <td>NaN</td>\n",
       "      <td>NaN</td>\n",
       "      <td>PAYCLIP_Settlement_01032022_V1.csv</td>\n",
       "      <td>2022-03-01</td>\n",
       "      <td>March</td>\n",
       "    </tr>\n",
       "    <tr>\n",
       "      <th>715153</th>\n",
       "      <td>D</td>\n",
       "      <td>07927517</td>\n",
       "      <td>7,927,517.00</td>\n",
       "      <td>5546252887</td>\n",
       "      <td>12379</td>\n",
       "      <td>-234</td>\n",
       "      <td>20220225</td>\n",
       "      <td>12650</td>\n",
       "      <td>MXN</td>\n",
       "      <td>SETTLED</td>\n",
       "      <td>...</td>\n",
       "      <td>N</td>\n",
       "      <td>PP36811901002153</td>\n",
       "      <td>-234.00</td>\n",
       "      <td>-37.00</td>\n",
       "      <td>N</td>\n",
       "      <td>0.00</td>\n",
       "      <td>0.00</td>\n",
       "      <td>PAYCLIP_Settlement_01032022_V1.csv</td>\n",
       "      <td>2022-03-01</td>\n",
       "      <td>March</td>\n",
       "    </tr>\n",
       "    <tr>\n",
       "      <th>715154</th>\n",
       "      <td>D</td>\n",
       "      <td>07927517</td>\n",
       "      <td>7,927,517.00</td>\n",
       "      <td>4772140578</td>\n",
       "      <td>128678</td>\n",
       "      <td>-2433</td>\n",
       "      <td>20220225</td>\n",
       "      <td>131500</td>\n",
       "      <td>MXN</td>\n",
       "      <td>SETTLED</td>\n",
       "      <td>...</td>\n",
       "      <td>N</td>\n",
       "      <td>7duzA8LPrEJdPZzK</td>\n",
       "      <td>-2,433.00</td>\n",
       "      <td>-389.00</td>\n",
       "      <td>N</td>\n",
       "      <td>0.00</td>\n",
       "      <td>0.00</td>\n",
       "      <td>PAYCLIP_Settlement_01032022_V1.csv</td>\n",
       "      <td>2022-03-01</td>\n",
       "      <td>March</td>\n",
       "    </tr>\n",
       "    <tr>\n",
       "      <th>715155</th>\n",
       "      <td>D</td>\n",
       "      <td>07927517</td>\n",
       "      <td>7,927,517.00</td>\n",
       "      <td>5267776366</td>\n",
       "      <td>8121</td>\n",
       "      <td>-154</td>\n",
       "      <td>20220225</td>\n",
       "      <td>8300</td>\n",
       "      <td>MXN</td>\n",
       "      <td>SETTLED</td>\n",
       "      <td>...</td>\n",
       "      <td>NaN</td>\n",
       "      <td>bKYXDmDvMGQQ6XAx</td>\n",
       "      <td>-154.00</td>\n",
       "      <td>-25.00</td>\n",
       "      <td>N</td>\n",
       "      <td>0.00</td>\n",
       "      <td>0.00</td>\n",
       "      <td>PAYCLIP_Settlement_01032022_V1.csv</td>\n",
       "      <td>2022-03-01</td>\n",
       "      <td>March</td>\n",
       "    </tr>\n",
       "    <tr>\n",
       "      <th>715156</th>\n",
       "      <td>D</td>\n",
       "      <td>07927517</td>\n",
       "      <td>7,927,517.00</td>\n",
       "      <td>4213167593</td>\n",
       "      <td>30039</td>\n",
       "      <td>-397</td>\n",
       "      <td>20220225</td>\n",
       "      <td>30500</td>\n",
       "      <td>MXN</td>\n",
       "      <td>SETTLED</td>\n",
       "      <td>...</td>\n",
       "      <td>N</td>\n",
       "      <td>N500W4E1423</td>\n",
       "      <td>-397.00</td>\n",
       "      <td>-64.00</td>\n",
       "      <td>N</td>\n",
       "      <td>0.00</td>\n",
       "      <td>0.00</td>\n",
       "      <td>PAYCLIP_Settlement_01032022_V1.csv</td>\n",
       "      <td>2022-03-01</td>\n",
       "      <td>March</td>\n",
       "    </tr>\n",
       "  </tbody>\n",
       "</table>\n",
       "<p>5 rows × 40 columns</p>\n",
       "</div>"
      ],
      "text/plain": [
       "       column_type affiliation_sftp merchant_reference        card  \\\n",
       "0                H              MXN  52,643,066,514.00  -923237110   \n",
       "715153           D         07927517       7,927,517.00  5546252887   \n",
       "715154           D         07927517       7,927,517.00  4772140578   \n",
       "715155           D         07927517       7,927,517.00  5267776366   \n",
       "715156           D         07927517       7,927,517.00  4213167593   \n",
       "\n",
       "        settled_amount  commisions  transaction_date  gross_amount currency  \\\n",
       "0                    0     1072741           2802221      20220228      NaN   \n",
       "715153           12379        -234          20220225         12650      MXN   \n",
       "715154          128678       -2433          20220225        131500      MXN   \n",
       "715155            8121        -154          20220225          8300      MXN   \n",
       "715156           30039        -397          20220225         30500      MXN   \n",
       "\n",
       "       transaction_type  ...  transaction_source   prosa_reference  \\\n",
       "0               BANORTE  ...                 NaN               NaN   \n",
       "715153          SETTLED  ...                   N  PP36811901002153   \n",
       "715154          SETTLED  ...                   N  7duzA8LPrEJdPZzK   \n",
       "715155          SETTLED  ...                 NaN  bKYXDmDvMGQQ6XAx   \n",
       "715156          SETTLED  ...                   N  N500W4E1423        \n",
       "\n",
       "        acquirer_commision  acquirer_tax  unknown.3  unknown.4  unknown.5  \\\n",
       "0                      NaN           NaN        NaN        NaN        NaN   \n",
       "715153             -234.00        -37.00          N       0.00       0.00   \n",
       "715154           -2,433.00       -389.00          N       0.00       0.00   \n",
       "715155             -154.00        -25.00          N       0.00       0.00   \n",
       "715156             -397.00        -64.00          N       0.00       0.00   \n",
       "\n",
       "                                 file_name  date_file  month  \n",
       "0       PAYCLIP_Settlement_01032022_V1.csv 2022-03-01  March  \n",
       "715153  PAYCLIP_Settlement_01032022_V1.csv 2022-03-01  March  \n",
       "715154  PAYCLIP_Settlement_01032022_V1.csv 2022-03-01  March  \n",
       "715155  PAYCLIP_Settlement_01032022_V1.csv 2022-03-01  March  \n",
       "715156  PAYCLIP_Settlement_01032022_V1.csv 2022-03-01  March  \n",
       "\n",
       "[5 rows x 40 columns]"
      ]
     },
     "execution_count": 7,
     "metadata": {},
     "output_type": "execute_result"
    }
   ],
   "source": [
    "sftp = pd.concat([sftp_mar_22])\n",
    "sftp.head()"
   ]
  },
  {
   "cell_type": "code",
   "execution_count": 8,
   "metadata": {},
   "outputs": [
    {
     "data": {
      "text/plain": [
       "(10389419, 40)"
      ]
     },
     "execution_count": 8,
     "metadata": {},
     "output_type": "execute_result"
    }
   ],
   "source": [
    "sftp.shape"
   ]
  },
  {
   "cell_type": "code",
   "execution_count": 9,
   "metadata": {},
   "outputs": [
    {
     "data": {
      "text/html": [
       "<div>\n",
       "<style scoped>\n",
       "    .dataframe tbody tr th:only-of-type {\n",
       "        vertical-align: middle;\n",
       "    }\n",
       "\n",
       "    .dataframe tbody tr th {\n",
       "        vertical-align: top;\n",
       "    }\n",
       "\n",
       "    .dataframe thead th {\n",
       "        text-align: right;\n",
       "    }\n",
       "</style>\n",
       "<table border=\"1\" class=\"dataframe\">\n",
       "  <thead>\n",
       "    <tr style=\"text-align: right;\">\n",
       "      <th></th>\n",
       "      <th>date_file</th>\n",
       "      <th>deposit_date</th>\n",
       "    </tr>\n",
       "  </thead>\n",
       "  <tbody>\n",
       "    <tr>\n",
       "      <th>0</th>\n",
       "      <td>2022-03-01</td>\n",
       "      <td>20220228</td>\n",
       "    </tr>\n",
       "    <tr>\n",
       "      <th>0</th>\n",
       "      <td>2022-03-02</td>\n",
       "      <td>20220301</td>\n",
       "    </tr>\n",
       "    <tr>\n",
       "      <th>0</th>\n",
       "      <td>2022-03-03</td>\n",
       "      <td>20220302</td>\n",
       "    </tr>\n",
       "    <tr>\n",
       "      <th>0</th>\n",
       "      <td>2022-03-04</td>\n",
       "      <td>20220303</td>\n",
       "    </tr>\n",
       "    <tr>\n",
       "      <th>0</th>\n",
       "      <td>2022-03-05</td>\n",
       "      <td>20220304</td>\n",
       "    </tr>\n",
       "  </tbody>\n",
       "</table>\n",
       "</div>"
      ],
      "text/plain": [
       "   date_file  deposit_date\n",
       "0 2022-03-01      20220228\n",
       "0 2022-03-02      20220301\n",
       "0 2022-03-03      20220302\n",
       "0 2022-03-04      20220303\n",
       "0 2022-03-05      20220304"
      ]
     },
     "execution_count": 9,
     "metadata": {},
     "output_type": "execute_result"
    }
   ],
   "source": [
    "sftp_fecha_deposito = sftp[(sftp['transaction_type'] == 'BANORTE')]\n",
    "sftp_fecha_deposito = sftp_fecha_deposito[['date_file', 'gross_amount']]\n",
    "sftp_fecha_deposito.rename(columns ={'gross_amount': 'deposit_date'},inplace=True)\n",
    "sftp_fecha_deposito.head()"
   ]
  },
  {
   "cell_type": "code",
   "execution_count": 10,
   "metadata": {},
   "outputs": [],
   "source": [
    "sftp = sftp[(sftp['transaction_type'] != 'BANORTE')]\n",
    "sftp = sftp.merge(sftp_fecha_deposito[['date_file', 'deposit_date']],on='date_file',how='left')"
   ]
  },
  {
   "cell_type": "code",
   "execution_count": 11,
   "metadata": {},
   "outputs": [
    {
     "data": {
      "text/html": [
       "<div>\n",
       "<style scoped>\n",
       "    .dataframe tbody tr th:only-of-type {\n",
       "        vertical-align: middle;\n",
       "    }\n",
       "\n",
       "    .dataframe tbody tr th {\n",
       "        vertical-align: top;\n",
       "    }\n",
       "\n",
       "    .dataframe thead th {\n",
       "        text-align: right;\n",
       "    }\n",
       "</style>\n",
       "<table border=\"1\" class=\"dataframe\">\n",
       "  <thead>\n",
       "    <tr style=\"text-align: right;\">\n",
       "      <th></th>\n",
       "      <th>column_type</th>\n",
       "      <th>affiliation_sftp</th>\n",
       "      <th>merchant_reference</th>\n",
       "      <th>card</th>\n",
       "      <th>settled_amount</th>\n",
       "      <th>commisions</th>\n",
       "      <th>transaction_date</th>\n",
       "      <th>gross_amount</th>\n",
       "      <th>currency</th>\n",
       "      <th>transaction_type</th>\n",
       "      <th>...</th>\n",
       "      <th>prosa_reference</th>\n",
       "      <th>acquirer_commision</th>\n",
       "      <th>acquirer_tax</th>\n",
       "      <th>unknown.3</th>\n",
       "      <th>unknown.4</th>\n",
       "      <th>unknown.5</th>\n",
       "      <th>file_name</th>\n",
       "      <th>date_file</th>\n",
       "      <th>month</th>\n",
       "      <th>deposit_date</th>\n",
       "    </tr>\n",
       "  </thead>\n",
       "  <tbody>\n",
       "    <tr>\n",
       "      <th>0</th>\n",
       "      <td>D</td>\n",
       "      <td>07927517</td>\n",
       "      <td>7,927,517.00</td>\n",
       "      <td>5546252887</td>\n",
       "      <td>12379</td>\n",
       "      <td>-234</td>\n",
       "      <td>20220225</td>\n",
       "      <td>12650</td>\n",
       "      <td>MXN</td>\n",
       "      <td>SETTLED</td>\n",
       "      <td>...</td>\n",
       "      <td>PP36811901002153</td>\n",
       "      <td>-234.00</td>\n",
       "      <td>-37.00</td>\n",
       "      <td>N</td>\n",
       "      <td>0.00</td>\n",
       "      <td>0.00</td>\n",
       "      <td>PAYCLIP_Settlement_01032022_V1.csv</td>\n",
       "      <td>2022-03-01</td>\n",
       "      <td>March</td>\n",
       "      <td>20220228</td>\n",
       "    </tr>\n",
       "    <tr>\n",
       "      <th>1</th>\n",
       "      <td>D</td>\n",
       "      <td>07927517</td>\n",
       "      <td>7,927,517.00</td>\n",
       "      <td>4772140578</td>\n",
       "      <td>128678</td>\n",
       "      <td>-2433</td>\n",
       "      <td>20220225</td>\n",
       "      <td>131500</td>\n",
       "      <td>MXN</td>\n",
       "      <td>SETTLED</td>\n",
       "      <td>...</td>\n",
       "      <td>7duzA8LPrEJdPZzK</td>\n",
       "      <td>-2,433.00</td>\n",
       "      <td>-389.00</td>\n",
       "      <td>N</td>\n",
       "      <td>0.00</td>\n",
       "      <td>0.00</td>\n",
       "      <td>PAYCLIP_Settlement_01032022_V1.csv</td>\n",
       "      <td>2022-03-01</td>\n",
       "      <td>March</td>\n",
       "      <td>20220228</td>\n",
       "    </tr>\n",
       "    <tr>\n",
       "      <th>2</th>\n",
       "      <td>D</td>\n",
       "      <td>07927517</td>\n",
       "      <td>7,927,517.00</td>\n",
       "      <td>5267776366</td>\n",
       "      <td>8121</td>\n",
       "      <td>-154</td>\n",
       "      <td>20220225</td>\n",
       "      <td>8300</td>\n",
       "      <td>MXN</td>\n",
       "      <td>SETTLED</td>\n",
       "      <td>...</td>\n",
       "      <td>bKYXDmDvMGQQ6XAx</td>\n",
       "      <td>-154.00</td>\n",
       "      <td>-25.00</td>\n",
       "      <td>N</td>\n",
       "      <td>0.00</td>\n",
       "      <td>0.00</td>\n",
       "      <td>PAYCLIP_Settlement_01032022_V1.csv</td>\n",
       "      <td>2022-03-01</td>\n",
       "      <td>March</td>\n",
       "      <td>20220228</td>\n",
       "    </tr>\n",
       "    <tr>\n",
       "      <th>3</th>\n",
       "      <td>D</td>\n",
       "      <td>07927517</td>\n",
       "      <td>7,927,517.00</td>\n",
       "      <td>4213167593</td>\n",
       "      <td>30039</td>\n",
       "      <td>-397</td>\n",
       "      <td>20220225</td>\n",
       "      <td>30500</td>\n",
       "      <td>MXN</td>\n",
       "      <td>SETTLED</td>\n",
       "      <td>...</td>\n",
       "      <td>N500W4E1423</td>\n",
       "      <td>-397.00</td>\n",
       "      <td>-64.00</td>\n",
       "      <td>N</td>\n",
       "      <td>0.00</td>\n",
       "      <td>0.00</td>\n",
       "      <td>PAYCLIP_Settlement_01032022_V1.csv</td>\n",
       "      <td>2022-03-01</td>\n",
       "      <td>March</td>\n",
       "      <td>20220228</td>\n",
       "    </tr>\n",
       "    <tr>\n",
       "      <th>4</th>\n",
       "      <td>D</td>\n",
       "      <td>07927517</td>\n",
       "      <td>7,927,517.00</td>\n",
       "      <td>5256780194</td>\n",
       "      <td>31616</td>\n",
       "      <td>-417</td>\n",
       "      <td>20220225</td>\n",
       "      <td>32100</td>\n",
       "      <td>MXN</td>\n",
       "      <td>SETTLED</td>\n",
       "      <td>...</td>\n",
       "      <td>N500W150352</td>\n",
       "      <td>-417.00</td>\n",
       "      <td>-67.00</td>\n",
       "      <td>N</td>\n",
       "      <td>0.00</td>\n",
       "      <td>0.00</td>\n",
       "      <td>PAYCLIP_Settlement_01032022_V1.csv</td>\n",
       "      <td>2022-03-01</td>\n",
       "      <td>March</td>\n",
       "      <td>20220228</td>\n",
       "    </tr>\n",
       "  </tbody>\n",
       "</table>\n",
       "<p>5 rows × 41 columns</p>\n",
       "</div>"
      ],
      "text/plain": [
       "  column_type affiliation_sftp merchant_reference        card  settled_amount  \\\n",
       "0           D         07927517       7,927,517.00  5546252887           12379   \n",
       "1           D         07927517       7,927,517.00  4772140578          128678   \n",
       "2           D         07927517       7,927,517.00  5267776366            8121   \n",
       "3           D         07927517       7,927,517.00  4213167593           30039   \n",
       "4           D         07927517       7,927,517.00  5256780194           31616   \n",
       "\n",
       "   commisions  transaction_date  gross_amount currency transaction_type  ...  \\\n",
       "0        -234          20220225         12650      MXN          SETTLED  ...   \n",
       "1       -2433          20220225        131500      MXN          SETTLED  ...   \n",
       "2        -154          20220225          8300      MXN          SETTLED  ...   \n",
       "3        -397          20220225         30500      MXN          SETTLED  ...   \n",
       "4        -417          20220225         32100      MXN          SETTLED  ...   \n",
       "\n",
       "    prosa_reference  acquirer_commision  acquirer_tax  unknown.3  unknown.4  \\\n",
       "0  PP36811901002153             -234.00        -37.00          N       0.00   \n",
       "1  7duzA8LPrEJdPZzK           -2,433.00       -389.00          N       0.00   \n",
       "2  bKYXDmDvMGQQ6XAx             -154.00        -25.00          N       0.00   \n",
       "3  N500W4E1423                  -397.00        -64.00          N       0.00   \n",
       "4  N500W150352                  -417.00        -67.00          N       0.00   \n",
       "\n",
       "   unknown.5                           file_name  date_file  month  \\\n",
       "0       0.00  PAYCLIP_Settlement_01032022_V1.csv 2022-03-01  March   \n",
       "1       0.00  PAYCLIP_Settlement_01032022_V1.csv 2022-03-01  March   \n",
       "2       0.00  PAYCLIP_Settlement_01032022_V1.csv 2022-03-01  March   \n",
       "3       0.00  PAYCLIP_Settlement_01032022_V1.csv 2022-03-01  March   \n",
       "4       0.00  PAYCLIP_Settlement_01032022_V1.csv 2022-03-01  March   \n",
       "\n",
       "  deposit_date  \n",
       "0     20220228  \n",
       "1     20220228  \n",
       "2     20220228  \n",
       "3     20220228  \n",
       "4     20220228  \n",
       "\n",
       "[5 rows x 41 columns]"
      ]
     },
     "execution_count": 11,
     "metadata": {},
     "output_type": "execute_result"
    }
   ],
   "source": [
    "sftp.head()"
   ]
  },
  {
   "cell_type": "code",
   "execution_count": 12,
   "metadata": {},
   "outputs": [
    {
     "data": {
      "text/plain": [
       "array(['SETTLED', 'REFUNDED', 'CHARGE_BACK'], dtype=object)"
      ]
     },
     "execution_count": 12,
     "metadata": {},
     "output_type": "execute_result"
    }
   ],
   "source": [
    "sftp['transaction_type'].unique()"
   ]
  },
  {
   "cell_type": "code",
   "execution_count": 13,
   "metadata": {},
   "outputs": [],
   "source": [
    "sftp['transaction_date'] = pd.to_datetime(sftp['transaction_date'], format='%Y%m%d').dt.date\n",
    "sftp['deposit_date'] = pd.to_datetime(sftp['deposit_date'], format='%Y%m%d').dt.date"
   ]
  },
  {
   "cell_type": "code",
   "execution_count": 14,
   "metadata": {},
   "outputs": [],
   "source": [
    "sftp['transaction_date'] = pd.to_datetime(sftp['transaction_date'])\n",
    "sftp['deposit_date'] = pd.to_datetime(sftp['deposit_date'])"
   ]
  },
  {
   "cell_type": "code",
   "execution_count": 15,
   "metadata": {},
   "outputs": [
    {
     "data": {
      "text/html": [
       "<div>\n",
       "<style scoped>\n",
       "    .dataframe tbody tr th:only-of-type {\n",
       "        vertical-align: middle;\n",
       "    }\n",
       "\n",
       "    .dataframe tbody tr th {\n",
       "        vertical-align: top;\n",
       "    }\n",
       "\n",
       "    .dataframe thead th {\n",
       "        text-align: right;\n",
       "    }\n",
       "</style>\n",
       "<table border=\"1\" class=\"dataframe\">\n",
       "  <thead>\n",
       "    <tr style=\"text-align: right;\">\n",
       "      <th></th>\n",
       "      <th>column_type</th>\n",
       "      <th>affiliation_sftp</th>\n",
       "      <th>merchant_reference</th>\n",
       "      <th>card</th>\n",
       "      <th>settled_amount</th>\n",
       "      <th>commisions</th>\n",
       "      <th>transaction_date</th>\n",
       "      <th>gross_amount</th>\n",
       "      <th>currency</th>\n",
       "      <th>transaction_type</th>\n",
       "      <th>...</th>\n",
       "      <th>unknown.5</th>\n",
       "      <th>file_name</th>\n",
       "      <th>date_file</th>\n",
       "      <th>month</th>\n",
       "      <th>deposit_date</th>\n",
       "      <th>LAST2_SFTP</th>\n",
       "      <th>BIN_SFTP</th>\n",
       "      <th>INDEX_TOTAL</th>\n",
       "      <th>INDEX_TOTAL_XPAY</th>\n",
       "      <th>INDEX_COD_AUTH</th>\n",
       "    </tr>\n",
       "  </thead>\n",
       "  <tbody>\n",
       "    <tr>\n",
       "      <th>0</th>\n",
       "      <td>D</td>\n",
       "      <td>07927517</td>\n",
       "      <td>7,927,517.00</td>\n",
       "      <td>5546252887</td>\n",
       "      <td>12379</td>\n",
       "      <td>-2.34</td>\n",
       "      <td>2022-02-25</td>\n",
       "      <td>126.50</td>\n",
       "      <td>MXN</td>\n",
       "      <td>SETTLED</td>\n",
       "      <td>...</td>\n",
       "      <td>0.00</td>\n",
       "      <td>PAYCLIP_Settlement_01032022_V1.csv</td>\n",
       "      <td>2022-03-01</td>\n",
       "      <td>March</td>\n",
       "      <td>2022-02-28</td>\n",
       "      <td>87</td>\n",
       "      <td>554625</td>\n",
       "      <td>554625_87_016985988715_126.5</td>\n",
       "      <td>554625_87_nan_126.5</td>\n",
       "      <td>554625_87_102387_126.5</td>\n",
       "    </tr>\n",
       "    <tr>\n",
       "      <th>1</th>\n",
       "      <td>D</td>\n",
       "      <td>07927517</td>\n",
       "      <td>7,927,517.00</td>\n",
       "      <td>4772140578</td>\n",
       "      <td>128678</td>\n",
       "      <td>-24.33</td>\n",
       "      <td>2022-02-25</td>\n",
       "      <td>1,315.00</td>\n",
       "      <td>MXN</td>\n",
       "      <td>SETTLED</td>\n",
       "      <td>...</td>\n",
       "      <td>0.00</td>\n",
       "      <td>PAYCLIP_Settlement_01032022_V1.csv</td>\n",
       "      <td>2022-03-01</td>\n",
       "      <td>March</td>\n",
       "      <td>2022-02-28</td>\n",
       "      <td>78</td>\n",
       "      <td>477214</td>\n",
       "      <td>477214_78_007512147352_1315.0</td>\n",
       "      <td>477214_78_nan_1315.0</td>\n",
       "      <td>477214_78_205438_1315.0</td>\n",
       "    </tr>\n",
       "    <tr>\n",
       "      <th>2</th>\n",
       "      <td>D</td>\n",
       "      <td>07927517</td>\n",
       "      <td>7,927,517.00</td>\n",
       "      <td>5267776366</td>\n",
       "      <td>8121</td>\n",
       "      <td>-1.54</td>\n",
       "      <td>2022-02-25</td>\n",
       "      <td>83.00</td>\n",
       "      <td>MXN</td>\n",
       "      <td>SETTLED</td>\n",
       "      <td>...</td>\n",
       "      <td>0.00</td>\n",
       "      <td>PAYCLIP_Settlement_01032022_V1.csv</td>\n",
       "      <td>2022-03-01</td>\n",
       "      <td>March</td>\n",
       "      <td>2022-02-28</td>\n",
       "      <td>66</td>\n",
       "      <td>526777</td>\n",
       "      <td>526777_66_291425921035_83.0</td>\n",
       "      <td>526777_66_nan_83.0</td>\n",
       "      <td>526777_66_718111_83.0</td>\n",
       "    </tr>\n",
       "    <tr>\n",
       "      <th>3</th>\n",
       "      <td>D</td>\n",
       "      <td>07927517</td>\n",
       "      <td>7,927,517.00</td>\n",
       "      <td>4213167593</td>\n",
       "      <td>30039</td>\n",
       "      <td>-3.97</td>\n",
       "      <td>2022-02-25</td>\n",
       "      <td>305.00</td>\n",
       "      <td>MXN</td>\n",
       "      <td>SETTLED</td>\n",
       "      <td>...</td>\n",
       "      <td>0.00</td>\n",
       "      <td>PAYCLIP_Settlement_01032022_V1.csv</td>\n",
       "      <td>2022-03-01</td>\n",
       "      <td>March</td>\n",
       "      <td>2022-02-28</td>\n",
       "      <td>93</td>\n",
       "      <td>421316</td>\n",
       "      <td>421316_93_771260171093_305.0</td>\n",
       "      <td>421316_93_nan_305.0</td>\n",
       "      <td>421316_93_043383_305.0</td>\n",
       "    </tr>\n",
       "    <tr>\n",
       "      <th>4</th>\n",
       "      <td>D</td>\n",
       "      <td>07927517</td>\n",
       "      <td>7,927,517.00</td>\n",
       "      <td>5256780194</td>\n",
       "      <td>31616</td>\n",
       "      <td>-4.17</td>\n",
       "      <td>2022-02-25</td>\n",
       "      <td>321.00</td>\n",
       "      <td>MXN</td>\n",
       "      <td>SETTLED</td>\n",
       "      <td>...</td>\n",
       "      <td>0.00</td>\n",
       "      <td>PAYCLIP_Settlement_01032022_V1.csv</td>\n",
       "      <td>2022-03-01</td>\n",
       "      <td>March</td>\n",
       "      <td>2022-02-28</td>\n",
       "      <td>94</td>\n",
       "      <td>525678</td>\n",
       "      <td>525678_94_764699883577_321.0</td>\n",
       "      <td>525678_94_nan_321.0</td>\n",
       "      <td>525678_94_031492_321.0</td>\n",
       "    </tr>\n",
       "  </tbody>\n",
       "</table>\n",
       "<p>5 rows × 46 columns</p>\n",
       "</div>"
      ],
      "text/plain": [
       "  column_type affiliation_sftp merchant_reference        card  settled_amount  \\\n",
       "0           D         07927517       7,927,517.00  5546252887           12379   \n",
       "1           D         07927517       7,927,517.00  4772140578          128678   \n",
       "2           D         07927517       7,927,517.00  5267776366            8121   \n",
       "3           D         07927517       7,927,517.00  4213167593           30039   \n",
       "4           D         07927517       7,927,517.00  5256780194           31616   \n",
       "\n",
       "   commisions transaction_date  gross_amount currency transaction_type  ...  \\\n",
       "0       -2.34       2022-02-25        126.50      MXN          SETTLED  ...   \n",
       "1      -24.33       2022-02-25      1,315.00      MXN          SETTLED  ...   \n",
       "2       -1.54       2022-02-25         83.00      MXN          SETTLED  ...   \n",
       "3       -3.97       2022-02-25        305.00      MXN          SETTLED  ...   \n",
       "4       -4.17       2022-02-25        321.00      MXN          SETTLED  ...   \n",
       "\n",
       "   unknown.5                           file_name  date_file  month  \\\n",
       "0       0.00  PAYCLIP_Settlement_01032022_V1.csv 2022-03-01  March   \n",
       "1       0.00  PAYCLIP_Settlement_01032022_V1.csv 2022-03-01  March   \n",
       "2       0.00  PAYCLIP_Settlement_01032022_V1.csv 2022-03-01  March   \n",
       "3       0.00  PAYCLIP_Settlement_01032022_V1.csv 2022-03-01  March   \n",
       "4       0.00  PAYCLIP_Settlement_01032022_V1.csv 2022-03-01  March   \n",
       "\n",
       "   deposit_date  LAST2_SFTP  BIN_SFTP                    INDEX_TOTAL  \\\n",
       "0    2022-02-28          87    554625   554625_87_016985988715_126.5   \n",
       "1    2022-02-28          78    477214  477214_78_007512147352_1315.0   \n",
       "2    2022-02-28          66    526777    526777_66_291425921035_83.0   \n",
       "3    2022-02-28          93    421316   421316_93_771260171093_305.0   \n",
       "4    2022-02-28          94    525678   525678_94_764699883577_321.0   \n",
       "\n",
       "       INDEX_TOTAL_XPAY           INDEX_COD_AUTH  \n",
       "0   554625_87_nan_126.5   554625_87_102387_126.5  \n",
       "1  477214_78_nan_1315.0  477214_78_205438_1315.0  \n",
       "2    526777_66_nan_83.0    526777_66_718111_83.0  \n",
       "3   421316_93_nan_305.0   421316_93_043383_305.0  \n",
       "4   525678_94_nan_321.0   525678_94_031492_321.0  \n",
       "\n",
       "[5 rows x 46 columns]"
      ]
     },
     "execution_count": 15,
     "metadata": {},
     "output_type": "execute_result"
    }
   ],
   "source": [
    "sftp['gross_amount'] = sftp['gross_amount']/100\n",
    "sftp['commisions'] = sftp['commisions']/100\n",
    "sftp['tax'] = sftp['tax']/100\n",
    "sftp['installments_fees'] = sftp['installments_fees']/100\n",
    "sftp['installments_tax'] = sftp['installments_tax']/100\n",
    "sftp['acquirer_commision'] = sftp['acquirer_commision']/100\n",
    "sftp['acquirer_tax'] = sftp['acquirer_tax']/100\n",
    "sftp.loc[sftp['transaction_type'] != 'SETTLED', 'gross_amount'] = sftp['gross_amount']*-1\n",
    "sftp['LAST2_SFTP'] = sftp['card'].str[-2:].astype(str)\n",
    "sftp['BIN_SFTP'] = sftp['card'].str[:6].astype(str)\n",
    "sftp['INDEX_TOTAL'] = (sftp['BIN_SFTP'].astype(str).replace(' ', '',regex=True)+'_'\n",
    "                       +sftp['LAST2_SFTP'].astype(str).replace(' ', '',regex=True)+'_'\n",
    "                       +sftp['order_id'].astype(str).replace(' ', '',regex=True)+'_'\n",
    "                       +sftp['gross_amount'].astype(str).replace(' ', '',regex=True))\n",
    "sftp['INDEX_TOTAL_XPAY'] = (sftp['BIN_SFTP'].astype(str).replace(' ', '',regex=True)+'_'\n",
    "                       +sftp['LAST2_SFTP'].astype(str).replace(' ', '',regex=True)+'_'\n",
    "                       +sftp['order_id_xpay'].astype(str).replace(' ', '',regex=True)+'_'\n",
    "                       +sftp['gross_amount'].astype(str).replace(' ', '',regex=True))\n",
    "sftp['INDEX_COD_AUTH'] = (sftp['BIN_SFTP'].astype(str).replace(' ', '',regex=True)+'_'\n",
    "                       +sftp['LAST2_SFTP'].astype(str).replace(' ', '',regex=True)+'_'\n",
    "                       +sftp['codigo_autorizacion'].astype(str).replace(' ', '',regex=True)+'_'\n",
    "                       +sftp['gross_amount'].astype(str).replace(' ', '',regex=True))\n",
    "sftp['order_id'].fillna('NO EXISTE EN SFTP',inplace=True)\n",
    "sftp.head()"
   ]
  },
  {
   "cell_type": "code",
   "execution_count": 16,
   "metadata": {},
   "outputs": [
    {
     "data": {
      "text/plain": [
       "(10389397, 46)"
      ]
     },
     "execution_count": 16,
     "metadata": {},
     "output_type": "execute_result"
    }
   ],
   "source": [
    "sftp.shape"
   ]
  },
  {
   "cell_type": "code",
   "execution_count": null,
   "metadata": {},
   "outputs": [],
   "source": [
    "sftp['affiliation_sftp'].fillna('NULL',inplace=True)"
   ]
  },
  {
   "cell_type": "markdown",
   "metadata": {},
   "source": [
    "# DATA POR AFILIACION"
   ]
  },
  {
   "cell_type": "code",
   "execution_count": 17,
   "metadata": {},
   "outputs": [
    {
     "data": {
      "text/html": [
       "<div>\n",
       "<style scoped>\n",
       "    .dataframe tbody tr th:only-of-type {\n",
       "        vertical-align: middle;\n",
       "    }\n",
       "\n",
       "    .dataframe tbody tr th {\n",
       "        vertical-align: top;\n",
       "    }\n",
       "\n",
       "    .dataframe thead th {\n",
       "        text-align: right;\n",
       "    }\n",
       "</style>\n",
       "<table border=\"1\" class=\"dataframe\">\n",
       "  <thead>\n",
       "    <tr style=\"text-align: right;\">\n",
       "      <th></th>\n",
       "      <th>column_type</th>\n",
       "      <th>affiliation_sftp</th>\n",
       "      <th>merchant_reference</th>\n",
       "      <th>card</th>\n",
       "      <th>settled_amount</th>\n",
       "      <th>commisions</th>\n",
       "      <th>transaction_date</th>\n",
       "      <th>gross_amount</th>\n",
       "      <th>currency</th>\n",
       "      <th>transaction_type</th>\n",
       "      <th>...</th>\n",
       "      <th>unknown.5</th>\n",
       "      <th>file_name</th>\n",
       "      <th>date_file</th>\n",
       "      <th>month</th>\n",
       "      <th>deposit_date</th>\n",
       "      <th>LAST2_SFTP</th>\n",
       "      <th>BIN_SFTP</th>\n",
       "      <th>INDEX_TOTAL</th>\n",
       "      <th>INDEX_TOTAL_XPAY</th>\n",
       "      <th>INDEX_COD_AUTH</th>\n",
       "    </tr>\n",
       "  </thead>\n",
       "  <tbody>\n",
       "    <tr>\n",
       "      <th>688709</th>\n",
       "      <td>D</td>\n",
       "      <td>07927482</td>\n",
       "      <td>NaN</td>\n",
       "      <td>5351995108</td>\n",
       "      <td>19534</td>\n",
       "      <td>-4.02</td>\n",
       "      <td>2022-02-25</td>\n",
       "      <td>200.00</td>\n",
       "      <td>MXN</td>\n",
       "      <td>SETTLED</td>\n",
       "      <td>...</td>\n",
       "      <td>0.00</td>\n",
       "      <td>PAYCLIP_Settlement_01032022_V1.csv</td>\n",
       "      <td>2022-03-01</td>\n",
       "      <td>March</td>\n",
       "      <td>2022-02-28</td>\n",
       "      <td>08</td>\n",
       "      <td>535199</td>\n",
       "      <td>535199_08_141916353343_200.0</td>\n",
       "      <td>535199_08_nan_200.0</td>\n",
       "      <td>535199_08_AGDAD3_200.0</td>\n",
       "    </tr>\n",
       "    <tr>\n",
       "      <th>688718</th>\n",
       "      <td>D</td>\n",
       "      <td>07927482</td>\n",
       "      <td>NaN</td>\n",
       "      <td>5256782792</td>\n",
       "      <td>35457</td>\n",
       "      <td>-4.68</td>\n",
       "      <td>2022-02-25</td>\n",
       "      <td>360.00</td>\n",
       "      <td>MXN</td>\n",
       "      <td>SETTLED</td>\n",
       "      <td>...</td>\n",
       "      <td>0.00</td>\n",
       "      <td>PAYCLIP_Settlement_01032022_V1.csv</td>\n",
       "      <td>2022-03-01</td>\n",
       "      <td>March</td>\n",
       "      <td>2022-02-28</td>\n",
       "      <td>92</td>\n",
       "      <td>525678</td>\n",
       "      <td>525678_92_244530539536_360.0</td>\n",
       "      <td>525678_92_nan_360.0</td>\n",
       "      <td>525678_92_024368_360.0</td>\n",
       "    </tr>\n",
       "    <tr>\n",
       "      <th>688981</th>\n",
       "      <td>D</td>\n",
       "      <td>07927482</td>\n",
       "      <td>NaN</td>\n",
       "      <td>4169161347</td>\n",
       "      <td>21472</td>\n",
       "      <td>-2.83</td>\n",
       "      <td>2022-02-25</td>\n",
       "      <td>218.00</td>\n",
       "      <td>MXN</td>\n",
       "      <td>SETTLED</td>\n",
       "      <td>...</td>\n",
       "      <td>0.00</td>\n",
       "      <td>PAYCLIP_Settlement_01032022_V1.csv</td>\n",
       "      <td>2022-03-01</td>\n",
       "      <td>March</td>\n",
       "      <td>2022-02-28</td>\n",
       "      <td>47</td>\n",
       "      <td>416916</td>\n",
       "      <td>416916_47_112105280897_218.0</td>\n",
       "      <td>416916_47_nan_218.0</td>\n",
       "      <td>416916_47_325130_218.0</td>\n",
       "    </tr>\n",
       "    <tr>\n",
       "      <th>689000</th>\n",
       "      <td>D</td>\n",
       "      <td>07927482</td>\n",
       "      <td>NaN</td>\n",
       "      <td>5227940560</td>\n",
       "      <td>97854</td>\n",
       "      <td>-18.50</td>\n",
       "      <td>2022-02-25</td>\n",
       "      <td>1,000.00</td>\n",
       "      <td>MXN</td>\n",
       "      <td>SETTLED</td>\n",
       "      <td>...</td>\n",
       "      <td>0.00</td>\n",
       "      <td>PAYCLIP_Settlement_01032022_V1.csv</td>\n",
       "      <td>2022-03-01</td>\n",
       "      <td>March</td>\n",
       "      <td>2022-02-28</td>\n",
       "      <td>60</td>\n",
       "      <td>522794</td>\n",
       "      <td>522794_60_326241361669_1000.0</td>\n",
       "      <td>522794_60_nan_1000.0</td>\n",
       "      <td>522794_60_939872_1000.0</td>\n",
       "    </tr>\n",
       "    <tr>\n",
       "      <th>941159</th>\n",
       "      <td>D</td>\n",
       "      <td>07927515</td>\n",
       "      <td>NaN</td>\n",
       "      <td>5256783699</td>\n",
       "      <td>8668</td>\n",
       "      <td>-1.14</td>\n",
       "      <td>2022-02-25</td>\n",
       "      <td>88.00</td>\n",
       "      <td>MXN</td>\n",
       "      <td>SETTLED</td>\n",
       "      <td>...</td>\n",
       "      <td>0.00</td>\n",
       "      <td>PAYCLIP_Settlement_01032022_V1.csv</td>\n",
       "      <td>2022-03-01</td>\n",
       "      <td>March</td>\n",
       "      <td>2022-02-28</td>\n",
       "      <td>99</td>\n",
       "      <td>525678</td>\n",
       "      <td>525678_99_553056032204_88.0</td>\n",
       "      <td>525678_99_nan_88.0</td>\n",
       "      <td>525678_99_022935_88.0</td>\n",
       "    </tr>\n",
       "  </tbody>\n",
       "</table>\n",
       "<p>5 rows × 46 columns</p>\n",
       "</div>"
      ],
      "text/plain": [
       "       column_type affiliation_sftp merchant_reference        card  \\\n",
       "688709           D         07927482                NaN  5351995108   \n",
       "688718           D         07927482                NaN  5256782792   \n",
       "688981           D         07927482                NaN  4169161347   \n",
       "689000           D         07927482                NaN  5227940560   \n",
       "941159           D         07927515                NaN  5256783699   \n",
       "\n",
       "        settled_amount  commisions transaction_date  gross_amount currency  \\\n",
       "688709           19534       -4.02       2022-02-25        200.00      MXN   \n",
       "688718           35457       -4.68       2022-02-25        360.00      MXN   \n",
       "688981           21472       -2.83       2022-02-25        218.00      MXN   \n",
       "689000           97854      -18.50       2022-02-25      1,000.00      MXN   \n",
       "941159            8668       -1.14       2022-02-25         88.00      MXN   \n",
       "\n",
       "       transaction_type  ...  unknown.5                           file_name  \\\n",
       "688709          SETTLED  ...       0.00  PAYCLIP_Settlement_01032022_V1.csv   \n",
       "688718          SETTLED  ...       0.00  PAYCLIP_Settlement_01032022_V1.csv   \n",
       "688981          SETTLED  ...       0.00  PAYCLIP_Settlement_01032022_V1.csv   \n",
       "689000          SETTLED  ...       0.00  PAYCLIP_Settlement_01032022_V1.csv   \n",
       "941159          SETTLED  ...       0.00  PAYCLIP_Settlement_01032022_V1.csv   \n",
       "\n",
       "        date_file  month  deposit_date  LAST2_SFTP  BIN_SFTP  \\\n",
       "688709 2022-03-01  March    2022-02-28          08    535199   \n",
       "688718 2022-03-01  March    2022-02-28          92    525678   \n",
       "688981 2022-03-01  March    2022-02-28          47    416916   \n",
       "689000 2022-03-01  March    2022-02-28          60    522794   \n",
       "941159 2022-03-01  March    2022-02-28          99    525678   \n",
       "\n",
       "                          INDEX_TOTAL      INDEX_TOTAL_XPAY  \\\n",
       "688709   535199_08_141916353343_200.0   535199_08_nan_200.0   \n",
       "688718   525678_92_244530539536_360.0   525678_92_nan_360.0   \n",
       "688981   416916_47_112105280897_218.0   416916_47_nan_218.0   \n",
       "689000  522794_60_326241361669_1000.0  522794_60_nan_1000.0   \n",
       "941159    525678_99_553056032204_88.0    525678_99_nan_88.0   \n",
       "\n",
       "                 INDEX_COD_AUTH  \n",
       "688709   535199_08_AGDAD3_200.0  \n",
       "688718   525678_92_024368_360.0  \n",
       "688981   416916_47_325130_218.0  \n",
       "689000  522794_60_939872_1000.0  \n",
       "941159    525678_99_022935_88.0  \n",
       "\n",
       "[5 rows x 46 columns]"
      ]
     },
     "execution_count": 17,
     "metadata": {},
     "output_type": "execute_result"
    }
   ],
   "source": [
    "sftp_por_afiliacion = sftp.loc[(sftp['merchant_reference'].isnull()) & (sftp['transaction_type'] != 'CHARGE_BACK')]\n",
    "sftp_por_afiliacion.head()"
   ]
  },
  {
   "cell_type": "code",
   "execution_count": 18,
   "metadata": {},
   "outputs": [
    {
     "data": {
      "text/plain": [
       "(123, 46)"
      ]
     },
     "execution_count": 18,
     "metadata": {},
     "output_type": "execute_result"
    }
   ],
   "source": [
    "sftp_por_afiliacion.shape"
   ]
  },
  {
   "cell_type": "code",
   "execution_count": 19,
   "metadata": {},
   "outputs": [],
   "source": [
    "sftp_por_afiliacion.to_excel('DATA MARZO 2022.xlsx',index=False)"
   ]
  },
  {
   "cell_type": "markdown",
   "metadata": {},
   "source": [
    "# CHECKS"
   ]
  },
  {
   "cell_type": "markdown",
   "metadata": {},
   "source": [
    "### QUERIES DB "
   ]
  },
  {
   "cell_type": "code",
   "execution_count": null,
   "metadata": {},
   "outputs": [],
   "source": [
    "ticket_zendesk = pd.read_csv('PeticionesPagare - 2022-05-06_2.csv',dtype={'FOLIO': object,'FOLIO UNICO':object\n",
    "                                                  ,'REFERENCIA':object,'AFILIACION':object,'CODIGO DE AUTORIZACION':object,\n",
    "                                                                         'TERMINALID':object})\n",
    "ticket_zendesk.columns = ticket_zendesk.columns.str.strip().str.lower()\n",
    "ticket_zendesk['last2'] = ticket_zendesk['numero de tarjeta'].str[-2:].astype(str)\n",
    "ticket_zendesk['bin'] = ticket_zendesk['numero de tarjeta'].str[:6].astype(str)\n",
    "ticket_zendesk['INDEX_COD_AUTH'] = (ticket_zendesk['bin'].astype(str).replace(' ', '',regex=True)+'_'\n",
    "                       +ticket_zendesk['last2'].astype(str).replace(' ', '',regex=True)+'_'\n",
    "                       +ticket_zendesk['codigo de autorizacion'].astype(str).replace(' ', '',regex=True)+'_'\n",
    "                       +ticket_zendesk['importe'].astype(str).replace(' ', '',regex=True))\n",
    "ticket_zendesk.head()"
   ]
  },
  {
   "cell_type": "code",
   "execution_count": null,
   "metadata": {},
   "outputs": [],
   "source": [
    "ticket_zendesk.shape"
   ]
  },
  {
   "cell_type": "code",
   "execution_count": null,
   "metadata": {},
   "outputs": [],
   "source": [
    "ticket_zendesk.columns"
   ]
  },
  {
   "cell_type": "code",
   "execution_count": null,
   "metadata": {},
   "outputs": [],
   "source": [
    "match = ticket_zendesk.merge(sftp[['INDEX_COD_AUTH','order_id','order_id_xpay','transaction_date','deposit_date','date_file',\n",
    "                                           'transaction_type']]\n",
    "                                 ,on='INDEX_COD_AUTH'\n",
    "                                 ,how='left')\n",
    "match.head()"
   ]
  },
  {
   "cell_type": "code",
   "execution_count": null,
   "metadata": {},
   "outputs": [],
   "source": [
    "match.shape"
   ]
  },
  {
   "cell_type": "code",
   "execution_count": null,
   "metadata": {},
   "outputs": [],
   "source": [
    "match.to_excel('PAGARE_SFTP_MARZO_2022.xlsx',index=False)"
   ]
  },
  {
   "cell_type": "code",
   "execution_count": null,
   "metadata": {},
   "outputs": [],
   "source": []
  },
  {
   "cell_type": "code",
   "execution_count": null,
   "metadata": {},
   "outputs": [],
   "source": []
  },
  {
   "cell_type": "code",
   "execution_count": null,
   "metadata": {},
   "outputs": [],
   "source": []
  },
  {
   "cell_type": "code",
   "execution_count": null,
   "metadata": {},
   "outputs": [],
   "source": []
  },
  {
   "cell_type": "code",
   "execution_count": null,
   "metadata": {},
   "outputs": [],
   "source": [
    "ticket_zendesk = pd.read_csv('DISPUTAS BNTE 2022.05.05.csv',dtype={'amount':float,'clave_autorizacion': object,'bin':object\n",
    "                                                  ,'last4':object,'order_id':object})\n",
    "ticket_zendesk.columns = ticket_zendesk.columns.str.strip().str.lower()\n",
    "ticket_zendesk['order_id_xpay'] = ticket_zendesk['order_id'] \n",
    "ticket_zendesk['INDEX_TOTAL'] = (ticket_zendesk['bin'].astype(str).replace(' ', '',regex=True)+'_'\n",
    "                       +ticket_zendesk['last4'].astype(str).replace(' ', '',regex=True)+'_'\n",
    "                       +ticket_zendesk['order_id'].astype(str).replace(' ', '',regex=True)+'_'\n",
    "                       +ticket_zendesk['amount'].astype(str).replace(' ', '',regex=True))\n",
    "ticket_zendesk['INDEX_TOTAL_XPAY'] = (ticket_zendesk['bin'].astype(str).replace(' ', '',regex=True)+'_'\n",
    "                       +ticket_zendesk['last4'].astype(str).replace(' ', '',regex=True)+'_'\n",
    "                       +ticket_zendesk['order_id'].astype(str).replace(' ', '',regex=True)+'_'\n",
    "                       +ticket_zendesk['amount'].astype(str).replace(' ', '',regex=True))\n",
    "ticket_zendesk.head()"
   ]
  },
  {
   "cell_type": "code",
   "execution_count": null,
   "metadata": {},
   "outputs": [],
   "source": [
    "ticket_zendesk.shape"
   ]
  },
  {
   "cell_type": "code",
   "execution_count": null,
   "metadata": {},
   "outputs": [],
   "source": [
    "ticket_zendesk.columns"
   ]
  },
  {
   "cell_type": "markdown",
   "metadata": {},
   "source": [
    "### FILES DE AUDITORIA"
   ]
  },
  {
   "cell_type": "code",
   "execution_count": null,
   "metadata": {},
   "outputs": [],
   "source": [
    "ticket_zendesk = pd.read_excel('AUDITORIA_DICIEMBRE_TXN_2021.xlsx',converters={'TRANSACTION_AMOUNT':float,'CLAVE_AUTORIZACION': str,\n",
    "                                                                                'BIN':str,'LAST4':str,'ORDER_ID':str})\n",
    "ticket_zendesk.columns = ticket_zendesk.columns.str.strip().str.lower() \n",
    "ticket_zendesk['INDEX_TOTAL'] = (ticket_zendesk['bin'].astype(str).replace(' ', '',regex=True)+'_'\n",
    "                       +ticket_zendesk['last4'].astype(str).replace(' ', '',regex=True)+'_'\n",
    "                       +ticket_zendesk['order_id'].astype(str).replace(' ', '',regex=True)+'_'\n",
    "                       +ticket_zendesk['transaction_amount'].astype(str).replace(' ', '',regex=True))\n",
    "ticket_zendesk['INDEX_TOTAL_XPAY'] = (ticket_zendesk['bin'].astype(str).replace(' ', '',regex=True)+'_'\n",
    "                       +ticket_zendesk['last4'].astype(str).replace(' ', '',regex=True)+'_'\n",
    "                       +ticket_zendesk['order_id'].astype(str).replace(' ', '',regex=True)+'_'\n",
    "                       +ticket_zendesk['transaction_amount'].astype(str).replace(' ', '',regex=True))\n",
    "ticket_zendesk.head()"
   ]
  },
  {
   "cell_type": "code",
   "execution_count": null,
   "metadata": {},
   "outputs": [],
   "source": [
    "ticket_zendesk.shape"
   ]
  },
  {
   "cell_type": "markdown",
   "metadata": {},
   "source": [
    "## EXTRACCIÓN DE ORDER_ID"
   ]
  },
  {
   "cell_type": "code",
   "execution_count": null,
   "metadata": {},
   "outputs": [],
   "source": [
    "ticket_zendesk['psp'].unique() "
   ]
  },
  {
   "cell_type": "code",
   "execution_count": null,
   "metadata": {},
   "outputs": [],
   "source": [
    "ticket_zendesk['status_code'].unique()"
   ]
  },
  {
   "cell_type": "code",
   "execution_count": null,
   "metadata": {},
   "outputs": [],
   "source": [
    "ticket_zendesk['order_id_busqueda'] = \"'\"+ticket_zendesk['order_id'].replace(' ', '',regex=True)+\"',\"\n",
    "print (ticket_zendesk['order_id_busqueda'].to_string(index=False))"
   ]
  },
  {
   "cell_type": "markdown",
   "metadata": {},
   "source": [
    "# IMPORTANTE: REVISAR A QUE PSP CORRESPONDE EL ORDER ID (PROSA O XPAY)"
   ]
  },
  {
   "cell_type": "code",
   "execution_count": null,
   "metadata": {},
   "outputs": [],
   "source": [
    "# select columns by name\n",
    "check_txn = sftp[(sftp['order_id'].isin(['629352244482'])) | (sftp['order_id_xpay'].isin(['629352244482']))]\n",
    "# check_txn = sftp[sftp['ECI'].isin(['74518990297102774892283'])]\n",
    "# check_txn = sftp[sftp['order_id'] == '082566136893']\n",
    "# check_txn = sftp[sftp['order_id_xpay'].isin(['223432604325'])]\n",
    "# check_txn = sftp[(sftp.order_id == ('470520706509')) | (sftp.order_id ==('684089225828'))]\n",
    "# check_txn = sftp[(sftp.CONCAT_2 == ('4388-2460.0')) | (sftp.CONCAT_2 == ('4388--2460.0'))]\n",
    "# check_txn = sftp[(sftp.CONCAT_3 == ('314771-2718-295.0')) | (sftp.CONCAT_3 == ('314771-2718--295.0'))]\n",
    "# check_txn = sftp[(sftp['LAST4'] == '7206')]\n",
    "# check_txn.sort_values(by=['order_id','Fecha txn'],inplace=True)\n",
    "check_txn.head()"
   ]
  },
  {
   "cell_type": "code",
   "execution_count": null,
   "metadata": {},
   "outputs": [],
   "source": [
    "check_txn.shape"
   ]
  },
  {
   "cell_type": "code",
   "execution_count": null,
   "metadata": {},
   "outputs": [],
   "source": [
    "# writer = pd.ExcelWriter('EXAMPLE_SFTP(2).xlsx', engine='openpyxl', options={'encoding':'utf-8'})\n",
    "# check_txn.to_excel(writer, sheet_name='MATCH TXN 1', index=False)\n",
    "# ticket_zendesk.to_excel(writer, sheet_name='TICKET', index=False)\n",
    "# writer.save()\n",
    "# writer.close()"
   ]
  },
  {
   "cell_type": "markdown",
   "metadata": {},
   "source": [
    "# MATCH DEPENDIENDO DEL PSP (INDEX_TOTAL O INDEX_TOTAL_XPAY)"
   ]
  },
  {
   "cell_type": "code",
   "execution_count": null,
   "metadata": {},
   "outputs": [],
   "source": [
    "match = ticket_zendesk.merge(check_txn[['order_id','affiliation_sftp','transaction_date','transaction_type','INDEX_TOTAL',\n",
    "                                        'order_id_xpay','deposit_date','gross_amount']],on='order_id',how='left')\n",
    "match_2 = ticket_zendesk.merge(check_txn[['order_id_xpay','affiliation_sftp','transaction_date','transaction_type','order_id',\n",
    "                                          'INDEX_TOTAL_XPAY','deposit_date','gross_amount']],on='order_id_xpay',how='left')\n",
    "# match = check_txn.merge(ticket_zendesk[['order_id','ISSUER','BRAND']],on='order_id',how='left')\n",
    "# match['transaction_id'].fillna('NO MATCH',inplace=True)\n",
    "# match['status_code'].fillna('NO MATCH',inplace=True)\n",
    "# match['status_msg'].fillna('NO MATCH',inplace=True)"
   ]
  },
  {
   "cell_type": "code",
   "execution_count": null,
   "metadata": {},
   "outputs": [],
   "source": [
    "match.head()"
   ]
  },
  {
   "cell_type": "code",
   "execution_count": null,
   "metadata": {},
   "outputs": [],
   "source": [
    "match_2.head()"
   ]
  },
  {
   "cell_type": "code",
   "execution_count": null,
   "metadata": {},
   "outputs": [],
   "source": [
    "match.shape"
   ]
  },
  {
   "cell_type": "code",
   "execution_count": null,
   "metadata": {},
   "outputs": [],
   "source": [
    "match_2.shape"
   ]
  },
  {
   "cell_type": "code",
   "execution_count": null,
   "metadata": {},
   "outputs": [],
   "source": [
    "match_final = match[['merchant_id','transaction_id','status_code','order_id','order_id_xpay_x',\n",
    "                     'affiliation_sftp','transaction_date','transaction_type','deposit_date','gross_amount']]"
   ]
  },
  {
   "cell_type": "code",
   "execution_count": null,
   "metadata": {},
   "outputs": [],
   "source": [
    "match_final_2 = match_2[['merchant_id','transaction_id','status_code','order_id_x','order_id_xpay',\n",
    "                     'affiliation_sftp','transaction_date','transaction_type','deposit_date','gross_amount']]"
   ]
  },
  {
   "cell_type": "code",
   "execution_count": null,
   "metadata": {},
   "outputs": [],
   "source": [
    "writer = pd.ExcelWriter('DATA FINAL DISPUTAS BNTE 2022.05.05.xlsx',\n",
    "                        engine='xlsxwriter',\n",
    "                        engine_kwargs={'options': {'encoding':'utf-8'}})\n",
    "match_final.to_excel(writer, sheet_name='MATCH_FINAL', index=False)\n",
    "match_final_2.to_excel(writer, sheet_name='MATCH_FINAL_2', index=False)\n",
    "match.to_excel(writer, sheet_name='MATCH', index=False)\n",
    "match_2.to_excel(writer, sheet_name='MATCH_2', index=False)\n",
    "writer.close()"
   ]
  },
  {
   "cell_type": "code",
   "execution_count": null,
   "metadata": {},
   "outputs": [],
   "source": []
  }
 ],
 "metadata": {
  "kernelspec": {
   "display_name": "Python 3 (ipykernel)",
   "language": "python",
   "name": "python3"
  },
  "language_info": {
   "codemirror_mode": {
    "name": "ipython",
    "version": 3
   },
   "file_extension": ".py",
   "mimetype": "text/x-python",
   "name": "python",
   "nbconvert_exporter": "python",
   "pygments_lexer": "ipython3",
   "version": "3.8.13"
  }
 },
 "nbformat": 4,
 "nbformat_minor": 2
}
