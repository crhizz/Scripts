{
 "cells": [
  {
   "cell_type": "code",
   "execution_count": 1,
   "metadata": {},
   "outputs": [],
   "source": [
    "import pandas as pd\n",
    "import numpy as np\n",
    "from openpyxl import load_workbook\n",
    "import glob\n",
    "import os\n",
    "pd.options.display.float_format = '{:,.2f}'.format"
   ]
  },
  {
   "cell_type": "code",
   "execution_count": 2,
   "metadata": {},
   "outputs": [],
   "source": [
    "query1 = pd.read_csv(r'C:\\Users\\Cristian.Aparicio\\Downloads\\BNTE1 2021-03-28.csv',dtype={'bank_account_number':object,'report_id':object})\n",
    "query2 = pd.read_csv(r'C:\\Users\\Cristian.Aparicio\\Downloads\\BNTE2 2021-03-28.csv',dtype={'bank_account_number':object,'report_id':object})"
   ]
  },
  {
   "cell_type": "code",
   "execution_count": 3,
   "metadata": {},
   "outputs": [
    {
     "data": {
      "text/html": [
       "<div>\n",
       "<style scoped>\n",
       "    .dataframe tbody tr th:only-of-type {\n",
       "        vertical-align: middle;\n",
       "    }\n",
       "\n",
       "    .dataframe tbody tr th {\n",
       "        vertical-align: top;\n",
       "    }\n",
       "\n",
       "    .dataframe thead th {\n",
       "        text-align: right;\n",
       "    }\n",
       "</style>\n",
       "<table border=\"1\" class=\"dataframe\">\n",
       "  <thead>\n",
       "    <tr style=\"text-align: right;\">\n",
       "      <th></th>\n",
       "      <th>merchant_id</th>\n",
       "      <th>merchant_name</th>\n",
       "      <th>user_email</th>\n",
       "      <th>report_id</th>\n",
       "      <th>report_date_local</th>\n",
       "      <th>amount</th>\n",
       "      <th>status</th>\n",
       "      <th>bank_name</th>\n",
       "      <th>payment_date_local</th>\n",
       "      <th>bank_account_owner_name</th>\n",
       "      <th>bank_account_number</th>\n",
       "      <th>swap</th>\n",
       "    </tr>\n",
       "  </thead>\n",
       "  <tbody>\n",
       "    <tr>\n",
       "      <th>0</th>\n",
       "      <td>0000d758-84b4-4cb0-a165-4f0d3c44864d</td>\n",
       "      <td>MAHARISHI PANTJALI SA DE CV</td>\n",
       "      <td>maharishiclip@gmail.com</td>\n",
       "      <td>6M29B9W92</td>\n",
       "      <td>2021-03-28 00:00:00</td>\n",
       "      <td>634.35</td>\n",
       "      <td>PAID</td>\n",
       "      <td>Banco Regional de Monterrey, S.A.</td>\n",
       "      <td>2021-03-28 00:00:00</td>\n",
       "      <td>MAHARISHI PANTJALI, S.A. DE C.V.</td>\n",
       "      <td>'058375000003160831</td>\n",
       "      <td>MAHARISHI PANTJALI S.A. DE C.V.,,634.35,058375...</td>\n",
       "    </tr>\n",
       "    <tr>\n",
       "      <th>1</th>\n",
       "      <td>00023bd5-6149-4ef9-95be-edb61d22588d</td>\n",
       "      <td>LAS PEKES</td>\n",
       "      <td>alebarradas1@hotmail.com</td>\n",
       "      <td>874T2B93Z</td>\n",
       "      <td>2021-03-28 00:00:00</td>\n",
       "      <td>102.54</td>\n",
       "      <td>PAID</td>\n",
       "      <td>BanCoppel, S.A.</td>\n",
       "      <td>2021-03-28 00:00:00</td>\n",
       "      <td>Virginia Alejandra Barradas Prez</td>\n",
       "      <td>'137463103868892825</td>\n",
       "      <td>Virginia Alejandra Barradas Prez,,102.54,13746...</td>\n",
       "    </tr>\n",
       "    <tr>\n",
       "      <th>2</th>\n",
       "      <td>0004501b-0a75-4ace-99fd-1047fb7c3c1c</td>\n",
       "      <td>Pelucan</td>\n",
       "      <td>mr1497989@gmail.com</td>\n",
       "      <td>SYCXNP9TR</td>\n",
       "      <td>2021-03-28 00:00:00</td>\n",
       "      <td>1,906.90</td>\n",
       "      <td>PAID</td>\n",
       "      <td>BanCoppel, S.A.</td>\n",
       "      <td>2021-03-28 00:00:00</td>\n",
       "      <td>Miguel Rojas</td>\n",
       "      <td>'137164103851095420</td>\n",
       "      <td>Miguel Rojas,,1906.90,137164103851095420,CLIP-...</td>\n",
       "    </tr>\n",
       "    <tr>\n",
       "      <th>3</th>\n",
       "      <td>000738b5-9715-4d0d-9d1e-2ae33f3ee74f</td>\n",
       "      <td>Manolos</td>\n",
       "      <td>takikardia25@gmail.com</td>\n",
       "      <td>TTPL7KN5C</td>\n",
       "      <td>2021-03-28 00:00:00</td>\n",
       "      <td>426.42</td>\n",
       "      <td>PAID</td>\n",
       "      <td>BBVA Bancomer, S.A.</td>\n",
       "      <td>2021-03-28 00:00:00</td>\n",
       "      <td>Majaira Maricela Villarreal Castillo</td>\n",
       "      <td>'012580015621499072</td>\n",
       "      <td>Majaira Maricela Villarreal Castillo,,426.42,0...</td>\n",
       "    </tr>\n",
       "    <tr>\n",
       "      <th>4</th>\n",
       "      <td>00094c06-2b54-4569-9314-00c3c213297c</td>\n",
       "      <td>5antas Alitas Dgo</td>\n",
       "      <td>lacosa0012@gmail.com</td>\n",
       "      <td>SN29XH9VF</td>\n",
       "      <td>2021-03-28 00:00:00</td>\n",
       "      <td>234.77</td>\n",
       "      <td>PAID</td>\n",
       "      <td>Banco Santander, S.A.</td>\n",
       "      <td>2021-03-28 00:00:00</td>\n",
       "      <td>Guadalupe Carmen Villa Vazquez</td>\n",
       "      <td>'014190567577517067</td>\n",
       "      <td>Guadalupe Carmen Villa Vazquez,,234.77,0141905...</td>\n",
       "    </tr>\n",
       "  </tbody>\n",
       "</table>\n",
       "</div>"
      ],
      "text/plain": [
       "                            merchant_id                merchant_name  \\\n",
       "0  0000d758-84b4-4cb0-a165-4f0d3c44864d  MAHARISHI PANTJALI SA DE CV   \n",
       "1  00023bd5-6149-4ef9-95be-edb61d22588d                    LAS PEKES   \n",
       "2  0004501b-0a75-4ace-99fd-1047fb7c3c1c                      Pelucan   \n",
       "3  000738b5-9715-4d0d-9d1e-2ae33f3ee74f                      Manolos   \n",
       "4  00094c06-2b54-4569-9314-00c3c213297c           5antas Alitas Dgo    \n",
       "\n",
       "                 user_email  report_id    report_date_local   amount status  \\\n",
       "0   maharishiclip@gmail.com  6M29B9W92  2021-03-28 00:00:00   634.35   PAID   \n",
       "1  alebarradas1@hotmail.com  874T2B93Z  2021-03-28 00:00:00   102.54   PAID   \n",
       "2       mr1497989@gmail.com  SYCXNP9TR  2021-03-28 00:00:00 1,906.90   PAID   \n",
       "3    takikardia25@gmail.com  TTPL7KN5C  2021-03-28 00:00:00   426.42   PAID   \n",
       "4      lacosa0012@gmail.com  SN29XH9VF  2021-03-28 00:00:00   234.77   PAID   \n",
       "\n",
       "                           bank_name   payment_date_local  \\\n",
       "0  Banco Regional de Monterrey, S.A.  2021-03-28 00:00:00   \n",
       "1                    BanCoppel, S.A.  2021-03-28 00:00:00   \n",
       "2                    BanCoppel, S.A.  2021-03-28 00:00:00   \n",
       "3                BBVA Bancomer, S.A.  2021-03-28 00:00:00   \n",
       "4              Banco Santander, S.A.  2021-03-28 00:00:00   \n",
       "\n",
       "                bank_account_owner_name  bank_account_number  \\\n",
       "0      MAHARISHI PANTJALI, S.A. DE C.V.  '058375000003160831   \n",
       "1      Virginia Alejandra Barradas Prez  '137463103868892825   \n",
       "2                          Miguel Rojas  '137164103851095420   \n",
       "3  Majaira Maricela Villarreal Castillo  '012580015621499072   \n",
       "4        Guadalupe Carmen Villa Vazquez  '014190567577517067   \n",
       "\n",
       "                                                swap  \n",
       "0  MAHARISHI PANTJALI S.A. DE C.V.,,634.35,058375...  \n",
       "1  Virginia Alejandra Barradas Prez,,102.54,13746...  \n",
       "2  Miguel Rojas,,1906.90,137164103851095420,CLIP-...  \n",
       "3  Majaira Maricela Villarreal Castillo,,426.42,0...  \n",
       "4  Guadalupe Carmen Villa Vazquez,,234.77,0141905...  "
      ]
     },
     "execution_count": 3,
     "metadata": {},
     "output_type": "execute_result"
    }
   ],
   "source": [
    "query = pd.concat([query1,query2])\n",
    "query.head()"
   ]
  },
  {
   "cell_type": "code",
   "execution_count": 4,
   "metadata": {},
   "outputs": [
    {
     "data": {
      "text/plain": [
       "(65325, 12)"
      ]
     },
     "execution_count": 4,
     "metadata": {},
     "output_type": "execute_result"
    }
   ],
   "source": [
    "query.shape"
   ]
  },
  {
   "cell_type": "code",
   "execution_count": 5,
   "metadata": {},
   "outputs": [
    {
     "data": {
      "text/html": [
       "<div>\n",
       "<style scoped>\n",
       "    .dataframe tbody tr th:only-of-type {\n",
       "        vertical-align: middle;\n",
       "    }\n",
       "\n",
       "    .dataframe tbody tr th {\n",
       "        vertical-align: top;\n",
       "    }\n",
       "\n",
       "    .dataframe thead th {\n",
       "        text-align: right;\n",
       "    }\n",
       "</style>\n",
       "<table border=\"1\" class=\"dataframe\">\n",
       "  <thead>\n",
       "    <tr style=\"text-align: right;\">\n",
       "      <th></th>\n",
       "      <th>merchant_id</th>\n",
       "      <th>merchant_name</th>\n",
       "      <th>user_email</th>\n",
       "      <th>report_id</th>\n",
       "      <th>report_date_local</th>\n",
       "      <th>amount</th>\n",
       "      <th>status</th>\n",
       "      <th>bank_name</th>\n",
       "      <th>payment_date_local</th>\n",
       "      <th>bank_account_owner_name</th>\n",
       "      <th>bank_account_number</th>\n",
       "      <th>swap</th>\n",
       "    </tr>\n",
       "  </thead>\n",
       "  <tbody>\n",
       "  </tbody>\n",
       "</table>\n",
       "</div>"
      ],
      "text/plain": [
       "Empty DataFrame\n",
       "Columns: [merchant_id, merchant_name, user_email, report_id, report_date_local, amount, status, bank_name, payment_date_local, bank_account_owner_name, bank_account_number, swap]\n",
       "Index: []"
      ]
     },
     "execution_count": 5,
     "metadata": {},
     "output_type": "execute_result"
    }
   ],
   "source": [
    "duplicates_query = query[query.duplicated(['report_id'],keep=False)]\n",
    "duplicates_query.head()"
   ]
  },
  {
   "cell_type": "code",
   "execution_count": 6,
   "metadata": {},
   "outputs": [],
   "source": [
    "query.to_csv(r'C:\\Users\\Cristian.Aparicio\\Downloads\\BNTE 2021-03-28.csv',index=False)"
   ]
  },
  {
   "cell_type": "code",
   "execution_count": null,
   "metadata": {},
   "outputs": [],
   "source": []
  }
 ],
 "metadata": {
  "kernelspec": {
   "display_name": "Python 3",
   "language": "python",
   "name": "python3"
  },
  "language_info": {
   "codemirror_mode": {
    "name": "ipython",
    "version": 3
   },
   "file_extension": ".py",
   "mimetype": "text/x-python",
   "name": "python",
   "nbconvert_exporter": "python",
   "pygments_lexer": "ipython3",
   "version": "3.7.6"
  }
 },
 "nbformat": 4,
 "nbformat_minor": 4
}
