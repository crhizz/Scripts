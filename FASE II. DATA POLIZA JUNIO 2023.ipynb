{
 "cells": [
  {
   "cell_type": "code",
   "execution_count": 1,
   "metadata": {},
   "outputs": [
    {
     "data": {
      "text/plain": [
       "datetime.timedelta(days=1)"
      ]
     },
     "execution_count": 1,
     "metadata": {},
     "output_type": "execute_result"
    }
   ],
   "source": [
    "import pandas as pd\n",
    "import numpy as np\n",
    "from openpyxl import load_workbook\n",
    "import glob\n",
    "import os\n",
    "import datetime\n",
    "pd.options.display.float_format = '{:,.2f}'.format\n",
    "datetime.timedelta(days=1)\n",
    "datetime.timedelta(1)"
   ]
  },
  {
   "cell_type": "code",
   "execution_count": 2,
   "metadata": {},
   "outputs": [
    {
     "data": {
      "text/plain": [
       "['C:\\\\Users\\\\Cristian.Aparicio\\\\Documents\\\\POLIZAS\\\\2023\\\\06. JUNIO\\\\DATA\\\\ADJUSTMENTS JUNIO 2023.csv']"
      ]
     },
     "execution_count": 2,
     "metadata": {},
     "output_type": "execute_result"
    }
   ],
   "source": [
    "allfiles_adj = glob.glob(r'C:\\Users\\Cristian.Aparicio\\Documents\\POLIZAS\\2023\\06. JUNIO\\DATA\\ADJ*.csv', recursive=False)\n",
    "allfiles_adj"
   ]
  },
  {
   "cell_type": "code",
   "execution_count": 3,
   "metadata": {},
   "outputs": [
    {
     "data": {
      "text/plain": [
       "['C:\\\\Users\\\\Cristian.Aparicio\\\\Documents\\\\POLIZAS\\\\2023\\\\06. JUNIO\\\\DATA\\\\RETENCIONES JUNIO 2023.csv']"
      ]
     },
     "execution_count": 3,
     "metadata": {},
     "output_type": "execute_result"
    }
   ],
   "source": [
    "allfiles_ret = glob.glob(r'C:\\Users\\Cristian.Aparicio\\Documents\\POLIZAS\\2023\\06. JUNIO\\DATA\\RET*.csv', recursive=False)\n",
    "allfiles_ret"
   ]
  },
  {
   "cell_type": "code",
   "execution_count": 4,
   "metadata": {},
   "outputs": [
    {
     "data": {
      "text/plain": [
       "['C:\\\\Users\\\\Cristian.Aparicio\\\\Documents\\\\POLIZAS\\\\2023\\\\06. JUNIO\\\\DATA\\\\LIBERACIONES JUNIO 2023.csv']"
      ]
     },
     "execution_count": 4,
     "metadata": {},
     "output_type": "execute_result"
    }
   ],
   "source": [
    "allfiles_lib = glob.glob(r'C:\\Users\\Cristian.Aparicio\\Documents\\POLIZAS\\2023\\06. JUNIO\\DATA\\LIB*.csv', recursive=False)\n",
    "allfiles_lib"
   ]
  },
  {
   "cell_type": "code",
   "execution_count": 5,
   "metadata": {},
   "outputs": [
    {
     "data": {
      "text/plain": [
       "['G:\\\\.shortcut-targets-by-id\\\\1Oe28Mf9uSidMamjllDen2gkNnC59eSUr\\\\3.-Settlement\\\\5.-HISTORICO FILES PAGOS\\\\01. TRADICIONAL\\\\2023\\\\06. JUNE\\\\MONTOS EMAIL\\\\DIFF MONTOS-BNTE-1 2023-06-03.csv',\n",
       " 'G:\\\\.shortcut-targets-by-id\\\\1Oe28Mf9uSidMamjllDen2gkNnC59eSUr\\\\3.-Settlement\\\\5.-HISTORICO FILES PAGOS\\\\01. TRADICIONAL\\\\2023\\\\06. JUNE\\\\MONTOS EMAIL\\\\DIFF MONTOS-BNTE-1 2023-06-04.csv',\n",
       " 'G:\\\\.shortcut-targets-by-id\\\\1Oe28Mf9uSidMamjllDen2gkNnC59eSUr\\\\3.-Settlement\\\\5.-HISTORICO FILES PAGOS\\\\01. TRADICIONAL\\\\2023\\\\06. JUNE\\\\MONTOS EMAIL\\\\DIFF MONTOS-BNTE-1 2023-06-10.csv',\n",
       " 'G:\\\\.shortcut-targets-by-id\\\\1Oe28Mf9uSidMamjllDen2gkNnC59eSUr\\\\3.-Settlement\\\\5.-HISTORICO FILES PAGOS\\\\01. TRADICIONAL\\\\2023\\\\06. JUNE\\\\MONTOS EMAIL\\\\DIFF MONTOS-BNTE-1 2023-06-11.csv',\n",
       " 'G:\\\\.shortcut-targets-by-id\\\\1Oe28Mf9uSidMamjllDen2gkNnC59eSUr\\\\3.-Settlement\\\\5.-HISTORICO FILES PAGOS\\\\01. TRADICIONAL\\\\2023\\\\06. JUNE\\\\MONTOS EMAIL\\\\DIFF MONTOS-BNTE-1 2023-06-17.csv',\n",
       " 'G:\\\\.shortcut-targets-by-id\\\\1Oe28Mf9uSidMamjllDen2gkNnC59eSUr\\\\3.-Settlement\\\\5.-HISTORICO FILES PAGOS\\\\01. TRADICIONAL\\\\2023\\\\06. JUNE\\\\MONTOS EMAIL\\\\DIFF MONTOS-BNTE-1 2023-06-18.csv',\n",
       " 'G:\\\\.shortcut-targets-by-id\\\\1Oe28Mf9uSidMamjllDen2gkNnC59eSUr\\\\3.-Settlement\\\\5.-HISTORICO FILES PAGOS\\\\01. TRADICIONAL\\\\2023\\\\06. JUNE\\\\MONTOS EMAIL\\\\DIFF MONTOS-BNTE-1 2023-06-24.csv',\n",
       " 'G:\\\\.shortcut-targets-by-id\\\\1Oe28Mf9uSidMamjllDen2gkNnC59eSUr\\\\3.-Settlement\\\\5.-HISTORICO FILES PAGOS\\\\01. TRADICIONAL\\\\2023\\\\06. JUNE\\\\MONTOS EMAIL\\\\DIFF MONTOS-BNTE-1 2023-06-25.csv',\n",
       " 'G:\\\\.shortcut-targets-by-id\\\\1Oe28Mf9uSidMamjllDen2gkNnC59eSUr\\\\3.-Settlement\\\\5.-HISTORICO FILES PAGOS\\\\01. TRADICIONAL\\\\2023\\\\06. JUNE\\\\MONTOS EMAIL\\\\DIFF MONTOS-BNTE-2 2023-06-03.csv',\n",
       " 'G:\\\\.shortcut-targets-by-id\\\\1Oe28Mf9uSidMamjllDen2gkNnC59eSUr\\\\3.-Settlement\\\\5.-HISTORICO FILES PAGOS\\\\01. TRADICIONAL\\\\2023\\\\06. JUNE\\\\MONTOS EMAIL\\\\DIFF MONTOS-BNTE-2 2023-06-04.csv',\n",
       " 'G:\\\\.shortcut-targets-by-id\\\\1Oe28Mf9uSidMamjllDen2gkNnC59eSUr\\\\3.-Settlement\\\\5.-HISTORICO FILES PAGOS\\\\01. TRADICIONAL\\\\2023\\\\06. JUNE\\\\MONTOS EMAIL\\\\DIFF MONTOS-BNTE-2 2023-06-05.csv',\n",
       " 'G:\\\\.shortcut-targets-by-id\\\\1Oe28Mf9uSidMamjllDen2gkNnC59eSUr\\\\3.-Settlement\\\\5.-HISTORICO FILES PAGOS\\\\01. TRADICIONAL\\\\2023\\\\06. JUNE\\\\MONTOS EMAIL\\\\DIFF MONTOS-BNTE-2 2023-06-06.csv',\n",
       " 'G:\\\\.shortcut-targets-by-id\\\\1Oe28Mf9uSidMamjllDen2gkNnC59eSUr\\\\3.-Settlement\\\\5.-HISTORICO FILES PAGOS\\\\01. TRADICIONAL\\\\2023\\\\06. JUNE\\\\MONTOS EMAIL\\\\DIFF MONTOS-BNTE-2 2023-06-10.csv',\n",
       " 'G:\\\\.shortcut-targets-by-id\\\\1Oe28Mf9uSidMamjllDen2gkNnC59eSUr\\\\3.-Settlement\\\\5.-HISTORICO FILES PAGOS\\\\01. TRADICIONAL\\\\2023\\\\06. JUNE\\\\MONTOS EMAIL\\\\DIFF MONTOS-BNTE-2 2023-06-11.csv',\n",
       " 'G:\\\\.shortcut-targets-by-id\\\\1Oe28Mf9uSidMamjllDen2gkNnC59eSUr\\\\3.-Settlement\\\\5.-HISTORICO FILES PAGOS\\\\01. TRADICIONAL\\\\2023\\\\06. JUNE\\\\MONTOS EMAIL\\\\DIFF MONTOS-BNTE-2 2023-06-12.csv',\n",
       " 'G:\\\\.shortcut-targets-by-id\\\\1Oe28Mf9uSidMamjllDen2gkNnC59eSUr\\\\3.-Settlement\\\\5.-HISTORICO FILES PAGOS\\\\01. TRADICIONAL\\\\2023\\\\06. JUNE\\\\MONTOS EMAIL\\\\DIFF MONTOS-BNTE-2 2023-06-13.csv',\n",
       " 'G:\\\\.shortcut-targets-by-id\\\\1Oe28Mf9uSidMamjllDen2gkNnC59eSUr\\\\3.-Settlement\\\\5.-HISTORICO FILES PAGOS\\\\01. TRADICIONAL\\\\2023\\\\06. JUNE\\\\MONTOS EMAIL\\\\DIFF MONTOS-BNTE-2 2023-06-17.csv',\n",
       " 'G:\\\\.shortcut-targets-by-id\\\\1Oe28Mf9uSidMamjllDen2gkNnC59eSUr\\\\3.-Settlement\\\\5.-HISTORICO FILES PAGOS\\\\01. TRADICIONAL\\\\2023\\\\06. JUNE\\\\MONTOS EMAIL\\\\DIFF MONTOS-BNTE-2 2023-06-18.csv',\n",
       " 'G:\\\\.shortcut-targets-by-id\\\\1Oe28Mf9uSidMamjllDen2gkNnC59eSUr\\\\3.-Settlement\\\\5.-HISTORICO FILES PAGOS\\\\01. TRADICIONAL\\\\2023\\\\06. JUNE\\\\MONTOS EMAIL\\\\DIFF MONTOS-BNTE-2 2023-06-19.csv',\n",
       " 'G:\\\\.shortcut-targets-by-id\\\\1Oe28Mf9uSidMamjllDen2gkNnC59eSUr\\\\3.-Settlement\\\\5.-HISTORICO FILES PAGOS\\\\01. TRADICIONAL\\\\2023\\\\06. JUNE\\\\MONTOS EMAIL\\\\DIFF MONTOS-BNTE-2 2023-06-20.csv',\n",
       " 'G:\\\\.shortcut-targets-by-id\\\\1Oe28Mf9uSidMamjllDen2gkNnC59eSUr\\\\3.-Settlement\\\\5.-HISTORICO FILES PAGOS\\\\01. TRADICIONAL\\\\2023\\\\06. JUNE\\\\MONTOS EMAIL\\\\DIFF MONTOS-BNTE-2 2023-06-24.csv',\n",
       " 'G:\\\\.shortcut-targets-by-id\\\\1Oe28Mf9uSidMamjllDen2gkNnC59eSUr\\\\3.-Settlement\\\\5.-HISTORICO FILES PAGOS\\\\01. TRADICIONAL\\\\2023\\\\06. JUNE\\\\MONTOS EMAIL\\\\DIFF MONTOS-BNTE-2 2023-06-25.csv',\n",
       " 'G:\\\\.shortcut-targets-by-id\\\\1Oe28Mf9uSidMamjllDen2gkNnC59eSUr\\\\3.-Settlement\\\\5.-HISTORICO FILES PAGOS\\\\01. TRADICIONAL\\\\2023\\\\06. JUNE\\\\MONTOS EMAIL\\\\DIFF MONTOS-BNTE-2 2023-06-26.csv',\n",
       " 'G:\\\\.shortcut-targets-by-id\\\\1Oe28Mf9uSidMamjllDen2gkNnC59eSUr\\\\3.-Settlement\\\\5.-HISTORICO FILES PAGOS\\\\01. TRADICIONAL\\\\2023\\\\06. JUNE\\\\MONTOS EMAIL\\\\DIFF MONTOS-BNTE-2 2023-06-27.csv',\n",
       " 'G:\\\\.shortcut-targets-by-id\\\\1Oe28Mf9uSidMamjllDen2gkNnC59eSUr\\\\3.-Settlement\\\\5.-HISTORICO FILES PAGOS\\\\01. TRADICIONAL\\\\2023\\\\06. JUNE\\\\MONTOS EMAIL\\\\DIFF MONTOS-BNTE-2 2023-06-28.csv',\n",
       " 'G:\\\\.shortcut-targets-by-id\\\\1Oe28Mf9uSidMamjllDen2gkNnC59eSUr\\\\3.-Settlement\\\\5.-HISTORICO FILES PAGOS\\\\01. TRADICIONAL\\\\2023\\\\06. JUNE\\\\MONTOS EMAIL\\\\DIFF MONTOS-BNTE-3 2023-06-01.csv',\n",
       " 'G:\\\\.shortcut-targets-by-id\\\\1Oe28Mf9uSidMamjllDen2gkNnC59eSUr\\\\3.-Settlement\\\\5.-HISTORICO FILES PAGOS\\\\01. TRADICIONAL\\\\2023\\\\06. JUNE\\\\MONTOS EMAIL\\\\DIFF MONTOS-BNTE-3 2023-06-02.csv',\n",
       " 'G:\\\\.shortcut-targets-by-id\\\\1Oe28Mf9uSidMamjllDen2gkNnC59eSUr\\\\3.-Settlement\\\\5.-HISTORICO FILES PAGOS\\\\01. TRADICIONAL\\\\2023\\\\06. JUNE\\\\MONTOS EMAIL\\\\DIFF MONTOS-BNTE-3 2023-06-07.csv',\n",
       " 'G:\\\\.shortcut-targets-by-id\\\\1Oe28Mf9uSidMamjllDen2gkNnC59eSUr\\\\3.-Settlement\\\\5.-HISTORICO FILES PAGOS\\\\01. TRADICIONAL\\\\2023\\\\06. JUNE\\\\MONTOS EMAIL\\\\DIFF MONTOS-BNTE-3 2023-06-08.csv',\n",
       " 'G:\\\\.shortcut-targets-by-id\\\\1Oe28Mf9uSidMamjllDen2gkNnC59eSUr\\\\3.-Settlement\\\\5.-HISTORICO FILES PAGOS\\\\01. TRADICIONAL\\\\2023\\\\06. JUNE\\\\MONTOS EMAIL\\\\DIFF MONTOS-BNTE-3 2023-06-09.csv',\n",
       " 'G:\\\\.shortcut-targets-by-id\\\\1Oe28Mf9uSidMamjllDen2gkNnC59eSUr\\\\3.-Settlement\\\\5.-HISTORICO FILES PAGOS\\\\01. TRADICIONAL\\\\2023\\\\06. JUNE\\\\MONTOS EMAIL\\\\DIFF MONTOS-BNTE-3 2023-06-14.csv',\n",
       " 'G:\\\\.shortcut-targets-by-id\\\\1Oe28Mf9uSidMamjllDen2gkNnC59eSUr\\\\3.-Settlement\\\\5.-HISTORICO FILES PAGOS\\\\01. TRADICIONAL\\\\2023\\\\06. JUNE\\\\MONTOS EMAIL\\\\DIFF MONTOS-BNTE-3 2023-06-15.csv',\n",
       " 'G:\\\\.shortcut-targets-by-id\\\\1Oe28Mf9uSidMamjllDen2gkNnC59eSUr\\\\3.-Settlement\\\\5.-HISTORICO FILES PAGOS\\\\01. TRADICIONAL\\\\2023\\\\06. JUNE\\\\MONTOS EMAIL\\\\DIFF MONTOS-BNTE-3 2023-06-16.csv',\n",
       " 'G:\\\\.shortcut-targets-by-id\\\\1Oe28Mf9uSidMamjllDen2gkNnC59eSUr\\\\3.-Settlement\\\\5.-HISTORICO FILES PAGOS\\\\01. TRADICIONAL\\\\2023\\\\06. JUNE\\\\MONTOS EMAIL\\\\DIFF MONTOS-BNTE-3 2023-06-21.csv',\n",
       " 'G:\\\\.shortcut-targets-by-id\\\\1Oe28Mf9uSidMamjllDen2gkNnC59eSUr\\\\3.-Settlement\\\\5.-HISTORICO FILES PAGOS\\\\01. TRADICIONAL\\\\2023\\\\06. JUNE\\\\MONTOS EMAIL\\\\DIFF MONTOS-BNTE-3 2023-06-22.csv',\n",
       " 'G:\\\\.shortcut-targets-by-id\\\\1Oe28Mf9uSidMamjllDen2gkNnC59eSUr\\\\3.-Settlement\\\\5.-HISTORICO FILES PAGOS\\\\01. TRADICIONAL\\\\2023\\\\06. JUNE\\\\MONTOS EMAIL\\\\DIFF MONTOS-BNTE-3 2023-06-23.csv',\n",
       " 'G:\\\\.shortcut-targets-by-id\\\\1Oe28Mf9uSidMamjllDen2gkNnC59eSUr\\\\3.-Settlement\\\\5.-HISTORICO FILES PAGOS\\\\01. TRADICIONAL\\\\2023\\\\06. JUNE\\\\MONTOS EMAIL\\\\DIFF MONTOS-BNTE-3 2023-06-29.csv',\n",
       " 'G:\\\\.shortcut-targets-by-id\\\\1Oe28Mf9uSidMamjllDen2gkNnC59eSUr\\\\3.-Settlement\\\\5.-HISTORICO FILES PAGOS\\\\01. TRADICIONAL\\\\2023\\\\06. JUNE\\\\MONTOS EMAIL\\\\DIFF MONTOS-BNTE-3 2023-06-30.csv',\n",
       " 'G:\\\\.shortcut-targets-by-id\\\\1Oe28Mf9uSidMamjllDen2gkNnC59eSUr\\\\3.-Settlement\\\\5.-HISTORICO FILES PAGOS\\\\01. TRADICIONAL\\\\2023\\\\06. JUNE\\\\MONTOS EMAIL\\\\DIFF MONTOS-SANT-1 2023-06-01.csv',\n",
       " 'G:\\\\.shortcut-targets-by-id\\\\1Oe28Mf9uSidMamjllDen2gkNnC59eSUr\\\\3.-Settlement\\\\5.-HISTORICO FILES PAGOS\\\\01. TRADICIONAL\\\\2023\\\\06. JUNE\\\\MONTOS EMAIL\\\\DIFF MONTOS-SANT-1 2023-06-02.csv',\n",
       " 'G:\\\\.shortcut-targets-by-id\\\\1Oe28Mf9uSidMamjllDen2gkNnC59eSUr\\\\3.-Settlement\\\\5.-HISTORICO FILES PAGOS\\\\01. TRADICIONAL\\\\2023\\\\06. JUNE\\\\MONTOS EMAIL\\\\DIFF MONTOS-SANT-1 2023-06-05.csv',\n",
       " 'G:\\\\.shortcut-targets-by-id\\\\1Oe28Mf9uSidMamjllDen2gkNnC59eSUr\\\\3.-Settlement\\\\5.-HISTORICO FILES PAGOS\\\\01. TRADICIONAL\\\\2023\\\\06. JUNE\\\\MONTOS EMAIL\\\\DIFF MONTOS-SANT-1 2023-06-06.csv',\n",
       " 'G:\\\\.shortcut-targets-by-id\\\\1Oe28Mf9uSidMamjllDen2gkNnC59eSUr\\\\3.-Settlement\\\\5.-HISTORICO FILES PAGOS\\\\01. TRADICIONAL\\\\2023\\\\06. JUNE\\\\MONTOS EMAIL\\\\DIFF MONTOS-SANT-1 2023-06-07.csv',\n",
       " 'G:\\\\.shortcut-targets-by-id\\\\1Oe28Mf9uSidMamjllDen2gkNnC59eSUr\\\\3.-Settlement\\\\5.-HISTORICO FILES PAGOS\\\\01. TRADICIONAL\\\\2023\\\\06. JUNE\\\\MONTOS EMAIL\\\\DIFF MONTOS-SANT-1 2023-06-08.csv',\n",
       " 'G:\\\\.shortcut-targets-by-id\\\\1Oe28Mf9uSidMamjllDen2gkNnC59eSUr\\\\3.-Settlement\\\\5.-HISTORICO FILES PAGOS\\\\01. TRADICIONAL\\\\2023\\\\06. JUNE\\\\MONTOS EMAIL\\\\DIFF MONTOS-SANT-1 2023-06-09.csv',\n",
       " 'G:\\\\.shortcut-targets-by-id\\\\1Oe28Mf9uSidMamjllDen2gkNnC59eSUr\\\\3.-Settlement\\\\5.-HISTORICO FILES PAGOS\\\\01. TRADICIONAL\\\\2023\\\\06. JUNE\\\\MONTOS EMAIL\\\\DIFF MONTOS-SANT-1 2023-06-12.csv',\n",
       " 'G:\\\\.shortcut-targets-by-id\\\\1Oe28Mf9uSidMamjllDen2gkNnC59eSUr\\\\3.-Settlement\\\\5.-HISTORICO FILES PAGOS\\\\01. TRADICIONAL\\\\2023\\\\06. JUNE\\\\MONTOS EMAIL\\\\DIFF MONTOS-SANT-1 2023-06-13.csv',\n",
       " 'G:\\\\.shortcut-targets-by-id\\\\1Oe28Mf9uSidMamjllDen2gkNnC59eSUr\\\\3.-Settlement\\\\5.-HISTORICO FILES PAGOS\\\\01. TRADICIONAL\\\\2023\\\\06. JUNE\\\\MONTOS EMAIL\\\\DIFF MONTOS-SANT-1 2023-06-14.csv',\n",
       " 'G:\\\\.shortcut-targets-by-id\\\\1Oe28Mf9uSidMamjllDen2gkNnC59eSUr\\\\3.-Settlement\\\\5.-HISTORICO FILES PAGOS\\\\01. TRADICIONAL\\\\2023\\\\06. JUNE\\\\MONTOS EMAIL\\\\DIFF MONTOS-SANT-1 2023-06-15.csv',\n",
       " 'G:\\\\.shortcut-targets-by-id\\\\1Oe28Mf9uSidMamjllDen2gkNnC59eSUr\\\\3.-Settlement\\\\5.-HISTORICO FILES PAGOS\\\\01. TRADICIONAL\\\\2023\\\\06. JUNE\\\\MONTOS EMAIL\\\\DIFF MONTOS-SANT-1 2023-06-16.csv',\n",
       " 'G:\\\\.shortcut-targets-by-id\\\\1Oe28Mf9uSidMamjllDen2gkNnC59eSUr\\\\3.-Settlement\\\\5.-HISTORICO FILES PAGOS\\\\01. TRADICIONAL\\\\2023\\\\06. JUNE\\\\MONTOS EMAIL\\\\DIFF MONTOS-SANT-1 2023-06-19.csv',\n",
       " 'G:\\\\.shortcut-targets-by-id\\\\1Oe28Mf9uSidMamjllDen2gkNnC59eSUr\\\\3.-Settlement\\\\5.-HISTORICO FILES PAGOS\\\\01. TRADICIONAL\\\\2023\\\\06. JUNE\\\\MONTOS EMAIL\\\\DIFF MONTOS-SANT-1 2023-06-20.csv',\n",
       " 'G:\\\\.shortcut-targets-by-id\\\\1Oe28Mf9uSidMamjllDen2gkNnC59eSUr\\\\3.-Settlement\\\\5.-HISTORICO FILES PAGOS\\\\01. TRADICIONAL\\\\2023\\\\06. JUNE\\\\MONTOS EMAIL\\\\DIFF MONTOS-SANT-1 2023-06-21.csv',\n",
       " 'G:\\\\.shortcut-targets-by-id\\\\1Oe28Mf9uSidMamjllDen2gkNnC59eSUr\\\\3.-Settlement\\\\5.-HISTORICO FILES PAGOS\\\\01. TRADICIONAL\\\\2023\\\\06. JUNE\\\\MONTOS EMAIL\\\\DIFF MONTOS-SANT-1 2023-06-22.csv',\n",
       " 'G:\\\\.shortcut-targets-by-id\\\\1Oe28Mf9uSidMamjllDen2gkNnC59eSUr\\\\3.-Settlement\\\\5.-HISTORICO FILES PAGOS\\\\01. TRADICIONAL\\\\2023\\\\06. JUNE\\\\MONTOS EMAIL\\\\DIFF MONTOS-SANT-1 2023-06-23.csv',\n",
       " 'G:\\\\.shortcut-targets-by-id\\\\1Oe28Mf9uSidMamjllDen2gkNnC59eSUr\\\\3.-Settlement\\\\5.-HISTORICO FILES PAGOS\\\\01. TRADICIONAL\\\\2023\\\\06. JUNE\\\\MONTOS EMAIL\\\\DIFF MONTOS-SANT-1 2023-06-26.csv',\n",
       " 'G:\\\\.shortcut-targets-by-id\\\\1Oe28Mf9uSidMamjllDen2gkNnC59eSUr\\\\3.-Settlement\\\\5.-HISTORICO FILES PAGOS\\\\01. TRADICIONAL\\\\2023\\\\06. JUNE\\\\MONTOS EMAIL\\\\DIFF MONTOS-SANT-1 2023-06-27.csv',\n",
       " 'G:\\\\.shortcut-targets-by-id\\\\1Oe28Mf9uSidMamjllDen2gkNnC59eSUr\\\\3.-Settlement\\\\5.-HISTORICO FILES PAGOS\\\\01. TRADICIONAL\\\\2023\\\\06. JUNE\\\\MONTOS EMAIL\\\\DIFF MONTOS-SANT-1 2023-06-28.csv',\n",
       " 'G:\\\\.shortcut-targets-by-id\\\\1Oe28Mf9uSidMamjllDen2gkNnC59eSUr\\\\3.-Settlement\\\\5.-HISTORICO FILES PAGOS\\\\01. TRADICIONAL\\\\2023\\\\06. JUNE\\\\MONTOS EMAIL\\\\DIFF MONTOS-SANT-1 2023-06-29.csv',\n",
       " 'G:\\\\.shortcut-targets-by-id\\\\1Oe28Mf9uSidMamjllDen2gkNnC59eSUr\\\\3.-Settlement\\\\5.-HISTORICO FILES PAGOS\\\\01. TRADICIONAL\\\\2023\\\\06. JUNE\\\\MONTOS EMAIL\\\\DIFF MONTOS-SANT-1 2023-06-30.csv',\n",
       " 'G:\\\\.shortcut-targets-by-id\\\\1Oe28Mf9uSidMamjllDen2gkNnC59eSUr\\\\3.-Settlement\\\\5.-HISTORICO FILES PAGOS\\\\01. TRADICIONAL\\\\2023\\\\06. JUNE\\\\MONTOS EMAIL\\\\DIFF MONTOS-SANT-2 2023-06-01.csv',\n",
       " 'G:\\\\.shortcut-targets-by-id\\\\1Oe28Mf9uSidMamjllDen2gkNnC59eSUr\\\\3.-Settlement\\\\5.-HISTORICO FILES PAGOS\\\\01. TRADICIONAL\\\\2023\\\\06. JUNE\\\\MONTOS EMAIL\\\\DIFF MONTOS-SANT-2 2023-06-02.csv',\n",
       " 'G:\\\\.shortcut-targets-by-id\\\\1Oe28Mf9uSidMamjllDen2gkNnC59eSUr\\\\3.-Settlement\\\\5.-HISTORICO FILES PAGOS\\\\01. TRADICIONAL\\\\2023\\\\06. JUNE\\\\MONTOS EMAIL\\\\DIFF MONTOS-SANT-2 2023-06-07.csv',\n",
       " 'G:\\\\.shortcut-targets-by-id\\\\1Oe28Mf9uSidMamjllDen2gkNnC59eSUr\\\\3.-Settlement\\\\5.-HISTORICO FILES PAGOS\\\\01. TRADICIONAL\\\\2023\\\\06. JUNE\\\\MONTOS EMAIL\\\\DIFF MONTOS-SANT-2 2023-06-08.csv',\n",
       " 'G:\\\\.shortcut-targets-by-id\\\\1Oe28Mf9uSidMamjllDen2gkNnC59eSUr\\\\3.-Settlement\\\\5.-HISTORICO FILES PAGOS\\\\01. TRADICIONAL\\\\2023\\\\06. JUNE\\\\MONTOS EMAIL\\\\DIFF MONTOS-SANT-2 2023-06-09.csv',\n",
       " 'G:\\\\.shortcut-targets-by-id\\\\1Oe28Mf9uSidMamjllDen2gkNnC59eSUr\\\\3.-Settlement\\\\5.-HISTORICO FILES PAGOS\\\\01. TRADICIONAL\\\\2023\\\\06. JUNE\\\\MONTOS EMAIL\\\\DIFF MONTOS-SANT-2 2023-06-14.csv',\n",
       " 'G:\\\\.shortcut-targets-by-id\\\\1Oe28Mf9uSidMamjllDen2gkNnC59eSUr\\\\3.-Settlement\\\\5.-HISTORICO FILES PAGOS\\\\01. TRADICIONAL\\\\2023\\\\06. JUNE\\\\MONTOS EMAIL\\\\DIFF MONTOS-SANT-2 2023-06-15.csv',\n",
       " 'G:\\\\.shortcut-targets-by-id\\\\1Oe28Mf9uSidMamjllDen2gkNnC59eSUr\\\\3.-Settlement\\\\5.-HISTORICO FILES PAGOS\\\\01. TRADICIONAL\\\\2023\\\\06. JUNE\\\\MONTOS EMAIL\\\\DIFF MONTOS-SANT-2 2023-06-16.csv',\n",
       " 'G:\\\\.shortcut-targets-by-id\\\\1Oe28Mf9uSidMamjllDen2gkNnC59eSUr\\\\3.-Settlement\\\\5.-HISTORICO FILES PAGOS\\\\01. TRADICIONAL\\\\2023\\\\06. JUNE\\\\MONTOS EMAIL\\\\DIFF MONTOS-SANT-2 2023-06-21.csv',\n",
       " 'G:\\\\.shortcut-targets-by-id\\\\1Oe28Mf9uSidMamjllDen2gkNnC59eSUr\\\\3.-Settlement\\\\5.-HISTORICO FILES PAGOS\\\\01. TRADICIONAL\\\\2023\\\\06. JUNE\\\\MONTOS EMAIL\\\\DIFF MONTOS-SANT-2 2023-06-22.csv',\n",
       " 'G:\\\\.shortcut-targets-by-id\\\\1Oe28Mf9uSidMamjllDen2gkNnC59eSUr\\\\3.-Settlement\\\\5.-HISTORICO FILES PAGOS\\\\01. TRADICIONAL\\\\2023\\\\06. JUNE\\\\MONTOS EMAIL\\\\DIFF MONTOS-SANT-2 2023-06-23.csv',\n",
       " 'G:\\\\.shortcut-targets-by-id\\\\1Oe28Mf9uSidMamjllDen2gkNnC59eSUr\\\\3.-Settlement\\\\5.-HISTORICO FILES PAGOS\\\\01. TRADICIONAL\\\\2023\\\\06. JUNE\\\\MONTOS EMAIL\\\\DIFF MONTOS-SANT-2 2023-06-29.csv',\n",
       " 'G:\\\\.shortcut-targets-by-id\\\\1Oe28Mf9uSidMamjllDen2gkNnC59eSUr\\\\3.-Settlement\\\\5.-HISTORICO FILES PAGOS\\\\01. TRADICIONAL\\\\2023\\\\06. JUNE\\\\MONTOS EMAIL\\\\DIFF MONTOS-SANT-2 2023-06-30.csv']"
      ]
     },
     "execution_count": 5,
     "metadata": {},
     "output_type": "execute_result"
    }
   ],
   "source": [
    "allfiles_com = sorted(glob.glob(r'G:\\.shortcut-targets-by-id\\1Oe28Mf9uSidMamjllDen2gkNnC59eSUr\\3.-Settlement\\5.-HISTORICO FILES PAGOS\\01. TRADICIONAL\\2023\\06. JUNE\\MONTOS EMAIL\\*.csv', recursive=False))\n",
    "allfiles_com"
   ]
  },
  {
   "cell_type": "code",
   "execution_count": 6,
   "metadata": {},
   "outputs": [
    {
     "data": {
      "text/plain": [
       "['G:\\\\My Drive\\\\RESPALDO-PC\\\\LENDERS\\\\2023\\\\DB\\\\LENDERS DB ENERO 2023.csv',\n",
       " 'G:\\\\My Drive\\\\RESPALDO-PC\\\\LENDERS\\\\2023\\\\DB\\\\LENDERS DB FEBRERO 2023.csv',\n",
       " 'G:\\\\My Drive\\\\RESPALDO-PC\\\\LENDERS\\\\2023\\\\DB\\\\LENDERS DB MARZO 2023.csv',\n",
       " 'G:\\\\My Drive\\\\RESPALDO-PC\\\\LENDERS\\\\2023\\\\DB\\\\LENDERS DB ABRIL 2023.csv',\n",
       " 'G:\\\\My Drive\\\\RESPALDO-PC\\\\LENDERS\\\\2023\\\\DB\\\\LENDERS DB MAYO 2023.csv',\n",
       " 'G:\\\\My Drive\\\\RESPALDO-PC\\\\LENDERS\\\\2023\\\\DB\\\\LENDERS DB JUNIO 2023.csv']"
      ]
     },
     "execution_count": 6,
     "metadata": {},
     "output_type": "execute_result"
    }
   ],
   "source": [
    "allfiles_lender = glob.glob(r'G:\\My Drive\\RESPALDO-PC\\LENDERS\\2023\\DB\\LEN*.csv', recursive=False)\n",
    "allfiles_lender"
   ]
  },
  {
   "cell_type": "code",
   "execution_count": 7,
   "metadata": {},
   "outputs": [],
   "source": [
    "start_date = '2023-06-01'\n",
    "final_date = '2023-06-30'"
   ]
  },
  {
   "cell_type": "markdown",
   "metadata": {},
   "source": [
    "# ADJUSTMENTS"
   ]
  },
  {
   "cell_type": "code",
   "execution_count": 8,
   "metadata": {},
   "outputs": [
    {
     "data": {
      "text/html": [
       "<div>\n",
       "<style scoped>\n",
       "    .dataframe tbody tr th:only-of-type {\n",
       "        vertical-align: middle;\n",
       "    }\n",
       "\n",
       "    .dataframe tbody tr th {\n",
       "        vertical-align: top;\n",
       "    }\n",
       "\n",
       "    .dataframe thead th {\n",
       "        text-align: right;\n",
       "    }\n",
       "</style>\n",
       "<table border=\"1\" class=\"dataframe\">\n",
       "  <thead>\n",
       "    <tr style=\"text-align: right;\">\n",
       "      <th></th>\n",
       "      <th>report_id</th>\n",
       "      <th>report_date_local</th>\n",
       "      <th>adjustment_date_local</th>\n",
       "      <th>adjustment_type</th>\n",
       "      <th>adjustment_amount</th>\n",
       "      <th>fees_charged</th>\n",
       "      <th>taxes</th>\n",
       "      <th>amount_due</th>\n",
       "      <th>type</th>\n",
       "      <th>date</th>\n",
       "      <th>file_name</th>\n",
       "    </tr>\n",
       "  </thead>\n",
       "  <tbody>\n",
       "  </tbody>\n",
       "</table>\n",
       "</div>"
      ],
      "text/plain": [
       "Empty DataFrame\n",
       "Columns: [report_id, report_date_local, adjustment_date_local, adjustment_type, adjustment_amount, fees_charged, taxes, amount_due, type, date, file_name]\n",
       "Index: []"
      ]
     },
     "execution_count": 8,
     "metadata": {},
     "output_type": "execute_result"
    }
   ],
   "source": [
    "adj_1 = pd.concat([pd.read_csv(f).assign(file_name=os.path.basename(f)) for f in allfiles_adj])\n",
    "adj_1.head()"
   ]
  },
  {
   "cell_type": "code",
   "execution_count": 9,
   "metadata": {},
   "outputs": [
    {
     "data": {
      "text/plain": [
       "(0, 11)"
      ]
     },
     "execution_count": 9,
     "metadata": {},
     "output_type": "execute_result"
    }
   ],
   "source": [
    "adj_1.shape"
   ]
  },
  {
   "cell_type": "markdown",
   "metadata": {},
   "source": [
    "### CURRENT DATES"
   ]
  },
  {
   "cell_type": "code",
   "execution_count": 10,
   "metadata": {},
   "outputs": [
    {
     "data": {
      "text/html": [
       "<div>\n",
       "<style scoped>\n",
       "    .dataframe tbody tr th:only-of-type {\n",
       "        vertical-align: middle;\n",
       "    }\n",
       "\n",
       "    .dataframe tbody tr th {\n",
       "        vertical-align: top;\n",
       "    }\n",
       "\n",
       "    .dataframe thead th {\n",
       "        text-align: right;\n",
       "    }\n",
       "</style>\n",
       "<table border=\"1\" class=\"dataframe\">\n",
       "  <thead>\n",
       "    <tr style=\"text-align: right;\">\n",
       "      <th></th>\n",
       "      <th>report_id</th>\n",
       "      <th>report_date_local</th>\n",
       "      <th>adjustment_date_local</th>\n",
       "      <th>adjustment_type</th>\n",
       "      <th>adjustment_amount</th>\n",
       "      <th>fees_charged</th>\n",
       "      <th>taxes</th>\n",
       "      <th>amount_due</th>\n",
       "      <th>type</th>\n",
       "      <th>date</th>\n",
       "      <th>file_name</th>\n",
       "    </tr>\n",
       "  </thead>\n",
       "  <tbody>\n",
       "  </tbody>\n",
       "</table>\n",
       "</div>"
      ],
      "text/plain": [
       "Empty DataFrame\n",
       "Columns: [report_id, report_date_local, adjustment_date_local, adjustment_type, adjustment_amount, fees_charged, taxes, amount_due, type, date, file_name]\n",
       "Index: []"
      ]
     },
     "execution_count": 10,
     "metadata": {},
     "output_type": "execute_result"
    }
   ],
   "source": [
    "adj_current_month = adj_1[(adj_1['date'] >= start_date) & (adj_1['date'] <= final_date)]\n",
    "adj_current_month.head()"
   ]
  },
  {
   "cell_type": "code",
   "execution_count": 11,
   "metadata": {},
   "outputs": [
    {
     "data": {
      "text/plain": [
       "(0, 11)"
      ]
     },
     "execution_count": 11,
     "metadata": {},
     "output_type": "execute_result"
    }
   ],
   "source": [
    "adj_current_month.shape"
   ]
  },
  {
   "cell_type": "markdown",
   "metadata": {},
   "source": [
    "### PIVOT"
   ]
  },
  {
   "cell_type": "code",
   "execution_count": 12,
   "metadata": {},
   "outputs": [
    {
     "data": {
      "text/html": [
       "<div>\n",
       "<style scoped>\n",
       "    .dataframe tbody tr th:only-of-type {\n",
       "        vertical-align: middle;\n",
       "    }\n",
       "\n",
       "    .dataframe tbody tr th {\n",
       "        vertical-align: top;\n",
       "    }\n",
       "\n",
       "    .dataframe thead th {\n",
       "        text-align: right;\n",
       "    }\n",
       "</style>\n",
       "<table border=\"1\" class=\"dataframe\">\n",
       "  <thead>\n",
       "    <tr style=\"text-align: right;\">\n",
       "      <th></th>\n",
       "      <th>type</th>\n",
       "      <th>adjustment_type</th>\n",
       "      <th>date</th>\n",
       "      <th>adjustment_amount</th>\n",
       "      <th>fees_charged</th>\n",
       "      <th>taxes</th>\n",
       "      <th>amount_due</th>\n",
       "    </tr>\n",
       "  </thead>\n",
       "  <tbody>\n",
       "  </tbody>\n",
       "</table>\n",
       "</div>"
      ],
      "text/plain": [
       "Empty DataFrame\n",
       "Columns: [type, adjustment_type, date, adjustment_amount, fees_charged, taxes, amount_due]\n",
       "Index: []"
      ]
     },
     "execution_count": 12,
     "metadata": {},
     "output_type": "execute_result"
    }
   ],
   "source": [
    "adj_pivot = adj_current_month.groupby(['type','adjustment_type','date']).agg({'adjustment_amount':sum\n",
    "                                                                                ,'fees_charged':sum \n",
    "                                                                                ,'taxes':sum\n",
    "                                                                                ,'amount_due':sum}).reset_index()\n",
    "adj_pivot['adjustment_amount'] = adj_pivot['adjustment_amount']*-1 \n",
    "adj_pivot['fees_charged'] = adj_pivot['fees_charged']*-1\n",
    "adj_pivot['taxes'] = adj_pivot['taxes']*-1 \n",
    "adj_pivot['amount_due'] = adj_pivot['amount_due']*-1 \n",
    "adj_pivot.head()"
   ]
  },
  {
   "cell_type": "code",
   "execution_count": 13,
   "metadata": {},
   "outputs": [
    {
     "name": "stderr",
     "output_type": "stream",
     "text": [
      "C:\\Users\\Cristian.Aparicio\\AppData\\Local\\Temp\\ipykernel_13480\\25903760.py:1: FutureWarning: The operation <function sum at 0x00000178B1907670> failed on a column. If any error is raised, this will raise an exception in a future version of pandas. Drop these columns to avoid this warning.\n",
      "  adj_pivot_v2 = pd.pivot_table(adj_current_month,index=['type','date']\n",
      "C:\\Users\\Cristian.Aparicio\\AppData\\Local\\Temp\\ipykernel_13480\\25903760.py:1: FutureWarning: The operation <function sum at 0x00000178B1907670> failed on a column. If any error is raised, this will raise an exception in a future version of pandas. Drop these columns to avoid this warning.\n",
      "  adj_pivot_v2 = pd.pivot_table(adj_current_month,index=['type','date']\n"
     ]
    },
    {
     "ename": "ValueError",
     "evalue": "No objects to concatenate",
     "output_type": "error",
     "traceback": [
      "\u001b[1;31m---------------------------------------------------------------------------\u001b[0m",
      "\u001b[1;31mValueError\u001b[0m                                Traceback (most recent call last)",
      "Cell \u001b[1;32mIn[13], line 1\u001b[0m\n\u001b[1;32m----> 1\u001b[0m adj_pivot_v2 \u001b[38;5;241m=\u001b[39m \u001b[43mpd\u001b[49m\u001b[38;5;241;43m.\u001b[39;49m\u001b[43mpivot_table\u001b[49m\u001b[43m(\u001b[49m\u001b[43madj_current_month\u001b[49m\u001b[43m,\u001b[49m\u001b[43mindex\u001b[49m\u001b[38;5;241;43m=\u001b[39;49m\u001b[43m[\u001b[49m\u001b[38;5;124;43m'\u001b[39;49m\u001b[38;5;124;43mtype\u001b[39;49m\u001b[38;5;124;43m'\u001b[39;49m\u001b[43m,\u001b[49m\u001b[38;5;124;43m'\u001b[39;49m\u001b[38;5;124;43mdate\u001b[39;49m\u001b[38;5;124;43m'\u001b[39;49m\u001b[43m]\u001b[49m\n\u001b[0;32m      2\u001b[0m \u001b[43m                              \u001b[49m\u001b[43m,\u001b[49m\u001b[43mcolumns\u001b[49m\u001b[38;5;241;43m=\u001b[39;49m\u001b[43m[\u001b[49m\u001b[38;5;124;43m'\u001b[39;49m\u001b[38;5;124;43madjustment_type\u001b[39;49m\u001b[38;5;124;43m'\u001b[39;49m\u001b[43m]\u001b[49m\n\u001b[0;32m      3\u001b[0m \u001b[43m                              \u001b[49m\u001b[43m,\u001b[49m\u001b[43mvalues\u001b[49m\u001b[38;5;241;43m=\u001b[39;49m\u001b[43m[\u001b[49m\u001b[38;5;124;43m'\u001b[39;49m\u001b[38;5;124;43madjustment_amount\u001b[39;49m\u001b[38;5;124;43m'\u001b[39;49m\u001b[43m,\u001b[49m\u001b[38;5;124;43m'\u001b[39;49m\u001b[38;5;124;43mfees_charged\u001b[39;49m\u001b[38;5;124;43m'\u001b[39;49m\u001b[43m,\u001b[49m\u001b[38;5;124;43m'\u001b[39;49m\u001b[38;5;124;43mtaxes\u001b[39;49m\u001b[38;5;124;43m'\u001b[39;49m\u001b[43m,\u001b[49m\u001b[38;5;124;43m'\u001b[39;49m\u001b[38;5;124;43mamount_due\u001b[39;49m\u001b[38;5;124;43m'\u001b[39;49m\u001b[43m]\u001b[49m\n\u001b[0;32m      4\u001b[0m \u001b[43m                              \u001b[49m\u001b[43m,\u001b[49m\u001b[43maggfunc\u001b[49m\u001b[38;5;241;43m=\u001b[39;49m\u001b[43mnp\u001b[49m\u001b[38;5;241;43m.\u001b[39;49m\u001b[43msum\u001b[49m\u001b[43m,\u001b[49m\u001b[43mmargins\u001b[49m\u001b[38;5;241;43m=\u001b[39;49m\u001b[38;5;28;43;01mTrue\u001b[39;49;00m\u001b[43m)\u001b[49m\n\u001b[0;32m      5\u001b[0m adj_pivot_v2\u001b[38;5;241m.\u001b[39mhead()\n",
      "File \u001b[1;32m~\\anaconda3\\lib\\site-packages\\pandas\\core\\reshape\\pivot.py:97\u001b[0m, in \u001b[0;36mpivot_table\u001b[1;34m(data, values, index, columns, aggfunc, fill_value, margins, dropna, margins_name, observed, sort)\u001b[0m\n\u001b[0;32m     94\u001b[0m     table \u001b[38;5;241m=\u001b[39m concat(pieces, keys\u001b[38;5;241m=\u001b[39mkeys, axis\u001b[38;5;241m=\u001b[39m\u001b[38;5;241m1\u001b[39m)\n\u001b[0;32m     95\u001b[0m     \u001b[38;5;28;01mreturn\u001b[39;00m table\u001b[38;5;241m.\u001b[39m__finalize__(data, method\u001b[38;5;241m=\u001b[39m\u001b[38;5;124m\"\u001b[39m\u001b[38;5;124mpivot_table\u001b[39m\u001b[38;5;124m\"\u001b[39m)\n\u001b[1;32m---> 97\u001b[0m table \u001b[38;5;241m=\u001b[39m \u001b[43m__internal_pivot_table\u001b[49m\u001b[43m(\u001b[49m\n\u001b[0;32m     98\u001b[0m \u001b[43m    \u001b[49m\u001b[43mdata\u001b[49m\u001b[43m,\u001b[49m\n\u001b[0;32m     99\u001b[0m \u001b[43m    \u001b[49m\u001b[43mvalues\u001b[49m\u001b[43m,\u001b[49m\n\u001b[0;32m    100\u001b[0m \u001b[43m    \u001b[49m\u001b[43mindex\u001b[49m\u001b[43m,\u001b[49m\n\u001b[0;32m    101\u001b[0m \u001b[43m    \u001b[49m\u001b[43mcolumns\u001b[49m\u001b[43m,\u001b[49m\n\u001b[0;32m    102\u001b[0m \u001b[43m    \u001b[49m\u001b[43maggfunc\u001b[49m\u001b[43m,\u001b[49m\n\u001b[0;32m    103\u001b[0m \u001b[43m    \u001b[49m\u001b[43mfill_value\u001b[49m\u001b[43m,\u001b[49m\n\u001b[0;32m    104\u001b[0m \u001b[43m    \u001b[49m\u001b[43mmargins\u001b[49m\u001b[43m,\u001b[49m\n\u001b[0;32m    105\u001b[0m \u001b[43m    \u001b[49m\u001b[43mdropna\u001b[49m\u001b[43m,\u001b[49m\n\u001b[0;32m    106\u001b[0m \u001b[43m    \u001b[49m\u001b[43mmargins_name\u001b[49m\u001b[43m,\u001b[49m\n\u001b[0;32m    107\u001b[0m \u001b[43m    \u001b[49m\u001b[43mobserved\u001b[49m\u001b[43m,\u001b[49m\n\u001b[0;32m    108\u001b[0m \u001b[43m    \u001b[49m\u001b[43msort\u001b[49m\u001b[43m,\u001b[49m\n\u001b[0;32m    109\u001b[0m \u001b[43m\u001b[49m\u001b[43m)\u001b[49m\n\u001b[0;32m    110\u001b[0m \u001b[38;5;28;01mreturn\u001b[39;00m table\u001b[38;5;241m.\u001b[39m__finalize__(data, method\u001b[38;5;241m=\u001b[39m\u001b[38;5;124m\"\u001b[39m\u001b[38;5;124mpivot_table\u001b[39m\u001b[38;5;124m\"\u001b[39m)\n",
      "File \u001b[1;32m~\\anaconda3\\lib\\site-packages\\pandas\\core\\reshape\\pivot.py:243\u001b[0m, in \u001b[0;36m__internal_pivot_table\u001b[1;34m(data, values, index, columns, aggfunc, fill_value, margins, dropna, margins_name, observed, sort)\u001b[0m\n\u001b[0;32m    241\u001b[0m     \u001b[38;5;28;01mif\u001b[39;00m dropna:\n\u001b[0;32m    242\u001b[0m         data \u001b[38;5;241m=\u001b[39m data[data\u001b[38;5;241m.\u001b[39mnotna()\u001b[38;5;241m.\u001b[39mall(axis\u001b[38;5;241m=\u001b[39m\u001b[38;5;241m1\u001b[39m)]\n\u001b[1;32m--> 243\u001b[0m     table \u001b[38;5;241m=\u001b[39m \u001b[43m_add_margins\u001b[49m\u001b[43m(\u001b[49m\n\u001b[0;32m    244\u001b[0m \u001b[43m        \u001b[49m\u001b[43mtable\u001b[49m\u001b[43m,\u001b[49m\n\u001b[0;32m    245\u001b[0m \u001b[43m        \u001b[49m\u001b[43mdata\u001b[49m\u001b[43m,\u001b[49m\n\u001b[0;32m    246\u001b[0m \u001b[43m        \u001b[49m\u001b[43mvalues\u001b[49m\u001b[43m,\u001b[49m\n\u001b[0;32m    247\u001b[0m \u001b[43m        \u001b[49m\u001b[43mrows\u001b[49m\u001b[38;5;241;43m=\u001b[39;49m\u001b[43mindex\u001b[49m\u001b[43m,\u001b[49m\n\u001b[0;32m    248\u001b[0m \u001b[43m        \u001b[49m\u001b[43mcols\u001b[49m\u001b[38;5;241;43m=\u001b[39;49m\u001b[43mcolumns\u001b[49m\u001b[43m,\u001b[49m\n\u001b[0;32m    249\u001b[0m \u001b[43m        \u001b[49m\u001b[43maggfunc\u001b[49m\u001b[38;5;241;43m=\u001b[39;49m\u001b[43maggfunc\u001b[49m\u001b[43m,\u001b[49m\n\u001b[0;32m    250\u001b[0m \u001b[43m        \u001b[49m\u001b[43mobserved\u001b[49m\u001b[38;5;241;43m=\u001b[39;49m\u001b[43mdropna\u001b[49m\u001b[43m,\u001b[49m\n\u001b[0;32m    251\u001b[0m \u001b[43m        \u001b[49m\u001b[43mmargins_name\u001b[49m\u001b[38;5;241;43m=\u001b[39;49m\u001b[43mmargins_name\u001b[49m\u001b[43m,\u001b[49m\n\u001b[0;32m    252\u001b[0m \u001b[43m        \u001b[49m\u001b[43mfill_value\u001b[49m\u001b[38;5;241;43m=\u001b[39;49m\u001b[43mfill_value\u001b[49m\u001b[43m,\u001b[49m\n\u001b[0;32m    253\u001b[0m \u001b[43m    \u001b[49m\u001b[43m)\u001b[49m\n\u001b[0;32m    255\u001b[0m \u001b[38;5;66;03m# discard the top level\u001b[39;00m\n\u001b[0;32m    256\u001b[0m \u001b[38;5;28;01mif\u001b[39;00m values_passed \u001b[38;5;129;01mand\u001b[39;00m \u001b[38;5;129;01mnot\u001b[39;00m values_multi \u001b[38;5;129;01mand\u001b[39;00m table\u001b[38;5;241m.\u001b[39mcolumns\u001b[38;5;241m.\u001b[39mnlevels \u001b[38;5;241m>\u001b[39m \u001b[38;5;241m1\u001b[39m:\n",
      "File \u001b[1;32m~\\anaconda3\\lib\\site-packages\\pandas\\core\\reshape\\pivot.py:307\u001b[0m, in \u001b[0;36m_add_margins\u001b[1;34m(table, data, values, rows, cols, aggfunc, observed, margins_name, fill_value)\u001b[0m\n\u001b[0;32m    304\u001b[0m     \u001b[38;5;28;01mreturn\u001b[39;00m table\u001b[38;5;241m.\u001b[39m_append(Series({key: grand_margin[margins_name]}))\n\u001b[0;32m    306\u001b[0m \u001b[38;5;28;01melif\u001b[39;00m values:\n\u001b[1;32m--> 307\u001b[0m     marginal_result_set \u001b[38;5;241m=\u001b[39m \u001b[43m_generate_marginal_results\u001b[49m\u001b[43m(\u001b[49m\n\u001b[0;32m    308\u001b[0m \u001b[43m        \u001b[49m\u001b[43mtable\u001b[49m\u001b[43m,\u001b[49m\u001b[43m \u001b[49m\u001b[43mdata\u001b[49m\u001b[43m,\u001b[49m\u001b[43m \u001b[49m\u001b[43mvalues\u001b[49m\u001b[43m,\u001b[49m\u001b[43m \u001b[49m\u001b[43mrows\u001b[49m\u001b[43m,\u001b[49m\u001b[43m \u001b[49m\u001b[43mcols\u001b[49m\u001b[43m,\u001b[49m\u001b[43m \u001b[49m\u001b[43maggfunc\u001b[49m\u001b[43m,\u001b[49m\u001b[43m \u001b[49m\u001b[43mobserved\u001b[49m\u001b[43m,\u001b[49m\u001b[43m \u001b[49m\u001b[43mmargins_name\u001b[49m\n\u001b[0;32m    309\u001b[0m \u001b[43m    \u001b[49m\u001b[43m)\u001b[49m\n\u001b[0;32m    310\u001b[0m     \u001b[38;5;28;01mif\u001b[39;00m \u001b[38;5;129;01mnot\u001b[39;00m \u001b[38;5;28misinstance\u001b[39m(marginal_result_set, \u001b[38;5;28mtuple\u001b[39m):\n\u001b[0;32m    311\u001b[0m         \u001b[38;5;28;01mreturn\u001b[39;00m marginal_result_set\n",
      "File \u001b[1;32m~\\anaconda3\\lib\\site-packages\\pandas\\core\\reshape\\pivot.py:413\u001b[0m, in \u001b[0;36m_generate_marginal_results\u001b[1;34m(table, data, values, rows, cols, aggfunc, observed, margins_name)\u001b[0m\n\u001b[0;32m    410\u001b[0m         table_pieces\u001b[38;5;241m.\u001b[39mappend(transformed_piece)\n\u001b[0;32m    411\u001b[0m         margin_keys\u001b[38;5;241m.\u001b[39mappend(all_key)\n\u001b[1;32m--> 413\u001b[0m result \u001b[38;5;241m=\u001b[39m \u001b[43mconcat\u001b[49m\u001b[43m(\u001b[49m\u001b[43mtable_pieces\u001b[49m\u001b[43m,\u001b[49m\u001b[43m \u001b[49m\u001b[43maxis\u001b[49m\u001b[38;5;241;43m=\u001b[39;49m\u001b[43mcat_axis\u001b[49m\u001b[43m)\u001b[49m\n\u001b[0;32m    415\u001b[0m \u001b[38;5;28;01mif\u001b[39;00m \u001b[38;5;28mlen\u001b[39m(rows) \u001b[38;5;241m==\u001b[39m \u001b[38;5;241m0\u001b[39m:\n\u001b[0;32m    416\u001b[0m     \u001b[38;5;28;01mreturn\u001b[39;00m result\n",
      "File \u001b[1;32m~\\anaconda3\\lib\\site-packages\\pandas\\util\\_decorators.py:331\u001b[0m, in \u001b[0;36mdeprecate_nonkeyword_arguments.<locals>.decorate.<locals>.wrapper\u001b[1;34m(*args, **kwargs)\u001b[0m\n\u001b[0;32m    325\u001b[0m \u001b[38;5;28;01mif\u001b[39;00m \u001b[38;5;28mlen\u001b[39m(args) \u001b[38;5;241m>\u001b[39m num_allow_args:\n\u001b[0;32m    326\u001b[0m     warnings\u001b[38;5;241m.\u001b[39mwarn(\n\u001b[0;32m    327\u001b[0m         msg\u001b[38;5;241m.\u001b[39mformat(arguments\u001b[38;5;241m=\u001b[39m_format_argument_list(allow_args)),\n\u001b[0;32m    328\u001b[0m         \u001b[38;5;167;01mFutureWarning\u001b[39;00m,\n\u001b[0;32m    329\u001b[0m         stacklevel\u001b[38;5;241m=\u001b[39mfind_stack_level(),\n\u001b[0;32m    330\u001b[0m     )\n\u001b[1;32m--> 331\u001b[0m \u001b[38;5;28;01mreturn\u001b[39;00m func(\u001b[38;5;241m*\u001b[39margs, \u001b[38;5;241m*\u001b[39m\u001b[38;5;241m*\u001b[39mkwargs)\n",
      "File \u001b[1;32m~\\anaconda3\\lib\\site-packages\\pandas\\core\\reshape\\concat.py:368\u001b[0m, in \u001b[0;36mconcat\u001b[1;34m(objs, axis, join, ignore_index, keys, levels, names, verify_integrity, sort, copy)\u001b[0m\n\u001b[0;32m    146\u001b[0m \u001b[38;5;129m@deprecate_nonkeyword_arguments\u001b[39m(version\u001b[38;5;241m=\u001b[39m\u001b[38;5;28;01mNone\u001b[39;00m, allowed_args\u001b[38;5;241m=\u001b[39m[\u001b[38;5;124m\"\u001b[39m\u001b[38;5;124mobjs\u001b[39m\u001b[38;5;124m\"\u001b[39m])\n\u001b[0;32m    147\u001b[0m \u001b[38;5;28;01mdef\u001b[39;00m \u001b[38;5;21mconcat\u001b[39m(\n\u001b[0;32m    148\u001b[0m     objs: Iterable[NDFrame] \u001b[38;5;241m|\u001b[39m Mapping[HashableT, NDFrame],\n\u001b[1;32m   (...)\u001b[0m\n\u001b[0;32m    157\u001b[0m     copy: \u001b[38;5;28mbool\u001b[39m \u001b[38;5;241m=\u001b[39m \u001b[38;5;28;01mTrue\u001b[39;00m,\n\u001b[0;32m    158\u001b[0m ) \u001b[38;5;241m-\u001b[39m\u001b[38;5;241m>\u001b[39m DataFrame \u001b[38;5;241m|\u001b[39m Series:\n\u001b[0;32m    159\u001b[0m \u001b[38;5;250m    \u001b[39m\u001b[38;5;124;03m\"\"\"\u001b[39;00m\n\u001b[0;32m    160\u001b[0m \u001b[38;5;124;03m    Concatenate pandas objects along a particular axis.\u001b[39;00m\n\u001b[0;32m    161\u001b[0m \n\u001b[1;32m   (...)\u001b[0m\n\u001b[0;32m    366\u001b[0m \u001b[38;5;124;03m    1   3   4\u001b[39;00m\n\u001b[0;32m    367\u001b[0m \u001b[38;5;124;03m    \"\"\"\u001b[39;00m\n\u001b[1;32m--> 368\u001b[0m     op \u001b[38;5;241m=\u001b[39m \u001b[43m_Concatenator\u001b[49m\u001b[43m(\u001b[49m\n\u001b[0;32m    369\u001b[0m \u001b[43m        \u001b[49m\u001b[43mobjs\u001b[49m\u001b[43m,\u001b[49m\n\u001b[0;32m    370\u001b[0m \u001b[43m        \u001b[49m\u001b[43maxis\u001b[49m\u001b[38;5;241;43m=\u001b[39;49m\u001b[43maxis\u001b[49m\u001b[43m,\u001b[49m\n\u001b[0;32m    371\u001b[0m \u001b[43m        \u001b[49m\u001b[43mignore_index\u001b[49m\u001b[38;5;241;43m=\u001b[39;49m\u001b[43mignore_index\u001b[49m\u001b[43m,\u001b[49m\n\u001b[0;32m    372\u001b[0m \u001b[43m        \u001b[49m\u001b[43mjoin\u001b[49m\u001b[38;5;241;43m=\u001b[39;49m\u001b[43mjoin\u001b[49m\u001b[43m,\u001b[49m\n\u001b[0;32m    373\u001b[0m \u001b[43m        \u001b[49m\u001b[43mkeys\u001b[49m\u001b[38;5;241;43m=\u001b[39;49m\u001b[43mkeys\u001b[49m\u001b[43m,\u001b[49m\n\u001b[0;32m    374\u001b[0m \u001b[43m        \u001b[49m\u001b[43mlevels\u001b[49m\u001b[38;5;241;43m=\u001b[39;49m\u001b[43mlevels\u001b[49m\u001b[43m,\u001b[49m\n\u001b[0;32m    375\u001b[0m \u001b[43m        \u001b[49m\u001b[43mnames\u001b[49m\u001b[38;5;241;43m=\u001b[39;49m\u001b[43mnames\u001b[49m\u001b[43m,\u001b[49m\n\u001b[0;32m    376\u001b[0m \u001b[43m        \u001b[49m\u001b[43mverify_integrity\u001b[49m\u001b[38;5;241;43m=\u001b[39;49m\u001b[43mverify_integrity\u001b[49m\u001b[43m,\u001b[49m\n\u001b[0;32m    377\u001b[0m \u001b[43m        \u001b[49m\u001b[43mcopy\u001b[49m\u001b[38;5;241;43m=\u001b[39;49m\u001b[43mcopy\u001b[49m\u001b[43m,\u001b[49m\n\u001b[0;32m    378\u001b[0m \u001b[43m        \u001b[49m\u001b[43msort\u001b[49m\u001b[38;5;241;43m=\u001b[39;49m\u001b[43msort\u001b[49m\u001b[43m,\u001b[49m\n\u001b[0;32m    379\u001b[0m \u001b[43m    \u001b[49m\u001b[43m)\u001b[49m\n\u001b[0;32m    381\u001b[0m     \u001b[38;5;28;01mreturn\u001b[39;00m op\u001b[38;5;241m.\u001b[39mget_result()\n",
      "File \u001b[1;32m~\\anaconda3\\lib\\site-packages\\pandas\\core\\reshape\\concat.py:425\u001b[0m, in \u001b[0;36m_Concatenator.__init__\u001b[1;34m(self, objs, axis, join, keys, levels, names, ignore_index, verify_integrity, copy, sort)\u001b[0m\n\u001b[0;32m    422\u001b[0m     objs \u001b[38;5;241m=\u001b[39m \u001b[38;5;28mlist\u001b[39m(objs)\n\u001b[0;32m    424\u001b[0m \u001b[38;5;28;01mif\u001b[39;00m \u001b[38;5;28mlen\u001b[39m(objs) \u001b[38;5;241m==\u001b[39m \u001b[38;5;241m0\u001b[39m:\n\u001b[1;32m--> 425\u001b[0m     \u001b[38;5;28;01mraise\u001b[39;00m \u001b[38;5;167;01mValueError\u001b[39;00m(\u001b[38;5;124m\"\u001b[39m\u001b[38;5;124mNo objects to concatenate\u001b[39m\u001b[38;5;124m\"\u001b[39m)\n\u001b[0;32m    427\u001b[0m \u001b[38;5;28;01mif\u001b[39;00m keys \u001b[38;5;129;01mis\u001b[39;00m \u001b[38;5;28;01mNone\u001b[39;00m:\n\u001b[0;32m    428\u001b[0m     objs \u001b[38;5;241m=\u001b[39m \u001b[38;5;28mlist\u001b[39m(com\u001b[38;5;241m.\u001b[39mnot_none(\u001b[38;5;241m*\u001b[39mobjs))\n",
      "\u001b[1;31mValueError\u001b[0m: No objects to concatenate"
     ]
    }
   ],
   "source": [
    "adj_pivot_v2 = pd.pivot_table(adj_current_month,index=['type','date']\n",
    "                              ,columns=['adjustment_type']\n",
    "                              ,values=['adjustment_amount','fees_charged','taxes','amount_due']\n",
    "                              ,aggfunc=np.sum,margins=True)\n",
    "adj_pivot_v2.head()"
   ]
  },
  {
   "cell_type": "markdown",
   "metadata": {},
   "source": [
    "# LIBERACIONES"
   ]
  },
  {
   "cell_type": "code",
   "execution_count": 14,
   "metadata": {},
   "outputs": [
    {
     "data": {
      "text/html": [
       "<div>\n",
       "<style scoped>\n",
       "    .dataframe tbody tr th:only-of-type {\n",
       "        vertical-align: middle;\n",
       "    }\n",
       "\n",
       "    .dataframe tbody tr th {\n",
       "        vertical-align: top;\n",
       "    }\n",
       "\n",
       "    .dataframe thead th {\n",
       "        text-align: right;\n",
       "    }\n",
       "</style>\n",
       "<table border=\"1\" class=\"dataframe\">\n",
       "  <thead>\n",
       "    <tr style=\"text-align: right;\">\n",
       "      <th></th>\n",
       "      <th>date_release</th>\n",
       "      <th>report_date_local</th>\n",
       "      <th>retained_date_local</th>\n",
       "      <th>report_id</th>\n",
       "      <th>entry_type</th>\n",
       "      <th>amount</th>\n",
       "      <th>type</th>\n",
       "      <th>file_name</th>\n",
       "    </tr>\n",
       "  </thead>\n",
       "  <tbody>\n",
       "    <tr>\n",
       "      <th>0</th>\n",
       "      <td>2023-06-01</td>\n",
       "      <td>2023-06-01</td>\n",
       "      <td>2023-01-31</td>\n",
       "      <td>DK5G262B7</td>\n",
       "      <td>LIEN</td>\n",
       "      <td>431.21</td>\n",
       "      <td>DAILY</td>\n",
       "      <td>LIBERACIONES JUNIO 2023.csv</td>\n",
       "    </tr>\n",
       "    <tr>\n",
       "      <th>1</th>\n",
       "      <td>2023-06-01</td>\n",
       "      <td>2023-06-01</td>\n",
       "      <td>2022-12-22</td>\n",
       "      <td>V68KNGMSH</td>\n",
       "      <td>LIEN</td>\n",
       "      <td>17,248.32</td>\n",
       "      <td>DAILY</td>\n",
       "      <td>LIBERACIONES JUNIO 2023.csv</td>\n",
       "    </tr>\n",
       "    <tr>\n",
       "      <th>2</th>\n",
       "      <td>2023-06-01</td>\n",
       "      <td>2023-06-01</td>\n",
       "      <td>2022-12-21</td>\n",
       "      <td>554NQF3H7</td>\n",
       "      <td>LIEN</td>\n",
       "      <td>54,205.63</td>\n",
       "      <td>DAILY</td>\n",
       "      <td>LIBERACIONES JUNIO 2023.csv</td>\n",
       "    </tr>\n",
       "    <tr>\n",
       "      <th>3</th>\n",
       "      <td>2023-06-01</td>\n",
       "      <td>2023-06-01</td>\n",
       "      <td>2023-01-31</td>\n",
       "      <td>GP6JLMT4Q</td>\n",
       "      <td>LIEN</td>\n",
       "      <td>10,540.64</td>\n",
       "      <td>DAILY</td>\n",
       "      <td>LIBERACIONES JUNIO 2023.csv</td>\n",
       "    </tr>\n",
       "    <tr>\n",
       "      <th>4</th>\n",
       "      <td>2023-06-01</td>\n",
       "      <td>2023-06-01</td>\n",
       "      <td>2023-01-31</td>\n",
       "      <td>MG3CNGFSY</td>\n",
       "      <td>LIEN</td>\n",
       "      <td>47.91</td>\n",
       "      <td>DAILY</td>\n",
       "      <td>LIBERACIONES JUNIO 2023.csv</td>\n",
       "    </tr>\n",
       "  </tbody>\n",
       "</table>\n",
       "</div>"
      ],
      "text/plain": [
       "  date_release report_date_local retained_date_local  report_id entry_type  \\\n",
       "0   2023-06-01        2023-06-01          2023-01-31  DK5G262B7       LIEN   \n",
       "1   2023-06-01        2023-06-01          2022-12-22  V68KNGMSH       LIEN   \n",
       "2   2023-06-01        2023-06-01          2022-12-21  554NQF3H7       LIEN   \n",
       "3   2023-06-01        2023-06-01          2023-01-31  GP6JLMT4Q       LIEN   \n",
       "4   2023-06-01        2023-06-01          2023-01-31  MG3CNGFSY       LIEN   \n",
       "\n",
       "     amount   type                    file_name  \n",
       "0    431.21  DAILY  LIBERACIONES JUNIO 2023.csv  \n",
       "1 17,248.32  DAILY  LIBERACIONES JUNIO 2023.csv  \n",
       "2 54,205.63  DAILY  LIBERACIONES JUNIO 2023.csv  \n",
       "3 10,540.64  DAILY  LIBERACIONES JUNIO 2023.csv  \n",
       "4     47.91  DAILY  LIBERACIONES JUNIO 2023.csv  "
      ]
     },
     "execution_count": 14,
     "metadata": {},
     "output_type": "execute_result"
    }
   ],
   "source": [
    "lib_1 = pd.concat([pd.read_csv(f).assign(file_name=os.path.basename(f)) for f in allfiles_lib])\n",
    "lib_1.head()"
   ]
  },
  {
   "cell_type": "markdown",
   "metadata": {},
   "source": [
    "### CURRENT DATES"
   ]
  },
  {
   "cell_type": "code",
   "execution_count": 15,
   "metadata": {},
   "outputs": [
    {
     "data": {
      "text/html": [
       "<div>\n",
       "<style scoped>\n",
       "    .dataframe tbody tr th:only-of-type {\n",
       "        vertical-align: middle;\n",
       "    }\n",
       "\n",
       "    .dataframe tbody tr th {\n",
       "        vertical-align: top;\n",
       "    }\n",
       "\n",
       "    .dataframe thead th {\n",
       "        text-align: right;\n",
       "    }\n",
       "</style>\n",
       "<table border=\"1\" class=\"dataframe\">\n",
       "  <thead>\n",
       "    <tr style=\"text-align: right;\">\n",
       "      <th></th>\n",
       "      <th>date_release</th>\n",
       "      <th>report_date_local</th>\n",
       "      <th>retained_date_local</th>\n",
       "      <th>report_id</th>\n",
       "      <th>entry_type</th>\n",
       "      <th>amount</th>\n",
       "      <th>type</th>\n",
       "      <th>file_name</th>\n",
       "    </tr>\n",
       "  </thead>\n",
       "  <tbody>\n",
       "    <tr>\n",
       "      <th>0</th>\n",
       "      <td>2023-06-01</td>\n",
       "      <td>2023-06-01</td>\n",
       "      <td>2023-01-31</td>\n",
       "      <td>DK5G262B7</td>\n",
       "      <td>LIEN</td>\n",
       "      <td>431.21</td>\n",
       "      <td>DAILY</td>\n",
       "      <td>LIBERACIONES JUNIO 2023.csv</td>\n",
       "    </tr>\n",
       "    <tr>\n",
       "      <th>1</th>\n",
       "      <td>2023-06-01</td>\n",
       "      <td>2023-06-01</td>\n",
       "      <td>2022-12-22</td>\n",
       "      <td>V68KNGMSH</td>\n",
       "      <td>LIEN</td>\n",
       "      <td>17,248.32</td>\n",
       "      <td>DAILY</td>\n",
       "      <td>LIBERACIONES JUNIO 2023.csv</td>\n",
       "    </tr>\n",
       "    <tr>\n",
       "      <th>2</th>\n",
       "      <td>2023-06-01</td>\n",
       "      <td>2023-06-01</td>\n",
       "      <td>2022-12-21</td>\n",
       "      <td>554NQF3H7</td>\n",
       "      <td>LIEN</td>\n",
       "      <td>54,205.63</td>\n",
       "      <td>DAILY</td>\n",
       "      <td>LIBERACIONES JUNIO 2023.csv</td>\n",
       "    </tr>\n",
       "    <tr>\n",
       "      <th>3</th>\n",
       "      <td>2023-06-01</td>\n",
       "      <td>2023-06-01</td>\n",
       "      <td>2023-01-31</td>\n",
       "      <td>GP6JLMT4Q</td>\n",
       "      <td>LIEN</td>\n",
       "      <td>10,540.64</td>\n",
       "      <td>DAILY</td>\n",
       "      <td>LIBERACIONES JUNIO 2023.csv</td>\n",
       "    </tr>\n",
       "    <tr>\n",
       "      <th>4</th>\n",
       "      <td>2023-06-01</td>\n",
       "      <td>2023-06-01</td>\n",
       "      <td>2023-01-31</td>\n",
       "      <td>MG3CNGFSY</td>\n",
       "      <td>LIEN</td>\n",
       "      <td>47.91</td>\n",
       "      <td>DAILY</td>\n",
       "      <td>LIBERACIONES JUNIO 2023.csv</td>\n",
       "    </tr>\n",
       "  </tbody>\n",
       "</table>\n",
       "</div>"
      ],
      "text/plain": [
       "  date_release report_date_local retained_date_local  report_id entry_type  \\\n",
       "0   2023-06-01        2023-06-01          2023-01-31  DK5G262B7       LIEN   \n",
       "1   2023-06-01        2023-06-01          2022-12-22  V68KNGMSH       LIEN   \n",
       "2   2023-06-01        2023-06-01          2022-12-21  554NQF3H7       LIEN   \n",
       "3   2023-06-01        2023-06-01          2023-01-31  GP6JLMT4Q       LIEN   \n",
       "4   2023-06-01        2023-06-01          2023-01-31  MG3CNGFSY       LIEN   \n",
       "\n",
       "     amount   type                    file_name  \n",
       "0    431.21  DAILY  LIBERACIONES JUNIO 2023.csv  \n",
       "1 17,248.32  DAILY  LIBERACIONES JUNIO 2023.csv  \n",
       "2 54,205.63  DAILY  LIBERACIONES JUNIO 2023.csv  \n",
       "3 10,540.64  DAILY  LIBERACIONES JUNIO 2023.csv  \n",
       "4     47.91  DAILY  LIBERACIONES JUNIO 2023.csv  "
      ]
     },
     "execution_count": 15,
     "metadata": {},
     "output_type": "execute_result"
    }
   ],
   "source": [
    "lib_current_month = lib_1[(lib_1['report_date_local'] >= start_date) & (lib_1['report_date_local'] <= final_date)]\n",
    "lib_current_month.head()"
   ]
  },
  {
   "cell_type": "code",
   "execution_count": 16,
   "metadata": {},
   "outputs": [
    {
     "data": {
      "text/plain": [
       "(385, 8)"
      ]
     },
     "execution_count": 16,
     "metadata": {},
     "output_type": "execute_result"
    }
   ],
   "source": [
    "lib_current_month.shape"
   ]
  },
  {
   "cell_type": "markdown",
   "metadata": {},
   "source": [
    "### PIVOT"
   ]
  },
  {
   "cell_type": "code",
   "execution_count": 17,
   "metadata": {},
   "outputs": [
    {
     "data": {
      "text/html": [
       "<div>\n",
       "<style scoped>\n",
       "    .dataframe tbody tr th:only-of-type {\n",
       "        vertical-align: middle;\n",
       "    }\n",
       "\n",
       "    .dataframe tbody tr th {\n",
       "        vertical-align: top;\n",
       "    }\n",
       "\n",
       "    .dataframe thead th {\n",
       "        text-align: right;\n",
       "    }\n",
       "</style>\n",
       "<table border=\"1\" class=\"dataframe\">\n",
       "  <thead>\n",
       "    <tr style=\"text-align: right;\">\n",
       "      <th></th>\n",
       "      <th>type</th>\n",
       "      <th>entry_type</th>\n",
       "      <th>report_date_local</th>\n",
       "      <th>amount</th>\n",
       "    </tr>\n",
       "  </thead>\n",
       "  <tbody>\n",
       "    <tr>\n",
       "      <th>0</th>\n",
       "      <td>DAILY</td>\n",
       "      <td>LIEN</td>\n",
       "      <td>2023-06-01</td>\n",
       "      <td>84,342.29</td>\n",
       "    </tr>\n",
       "    <tr>\n",
       "      <th>1</th>\n",
       "      <td>DAILY</td>\n",
       "      <td>LIEN</td>\n",
       "      <td>2023-06-02</td>\n",
       "      <td>496,723.61</td>\n",
       "    </tr>\n",
       "    <tr>\n",
       "      <th>2</th>\n",
       "      <td>DAILY</td>\n",
       "      <td>LIEN</td>\n",
       "      <td>2023-06-03</td>\n",
       "      <td>193,845.22</td>\n",
       "    </tr>\n",
       "    <tr>\n",
       "      <th>3</th>\n",
       "      <td>DAILY</td>\n",
       "      <td>LIEN</td>\n",
       "      <td>2023-06-04</td>\n",
       "      <td>243,899.00</td>\n",
       "    </tr>\n",
       "    <tr>\n",
       "      <th>4</th>\n",
       "      <td>DAILY</td>\n",
       "      <td>LIEN</td>\n",
       "      <td>2023-06-05</td>\n",
       "      <td>221,288.67</td>\n",
       "    </tr>\n",
       "  </tbody>\n",
       "</table>\n",
       "</div>"
      ],
      "text/plain": [
       "    type entry_type report_date_local     amount\n",
       "0  DAILY       LIEN        2023-06-01  84,342.29\n",
       "1  DAILY       LIEN        2023-06-02 496,723.61\n",
       "2  DAILY       LIEN        2023-06-03 193,845.22\n",
       "3  DAILY       LIEN        2023-06-04 243,899.00\n",
       "4  DAILY       LIEN        2023-06-05 221,288.67"
      ]
     },
     "execution_count": 17,
     "metadata": {},
     "output_type": "execute_result"
    }
   ],
   "source": [
    "lib_pivot = lib_current_month.groupby(['type','entry_type','report_date_local']).agg({'amount':sum}).reset_index()\n",
    "lib_pivot.head()"
   ]
  },
  {
   "cell_type": "code",
   "execution_count": 18,
   "metadata": {},
   "outputs": [
    {
     "data": {
      "text/plain": [
       "(30, 4)"
      ]
     },
     "execution_count": 18,
     "metadata": {},
     "output_type": "execute_result"
    }
   ],
   "source": [
    "lib_pivot.shape"
   ]
  },
  {
   "cell_type": "code",
   "execution_count": 19,
   "metadata": {},
   "outputs": [
    {
     "data": {
      "text/html": [
       "<div>\n",
       "<style scoped>\n",
       "    .dataframe tbody tr th:only-of-type {\n",
       "        vertical-align: middle;\n",
       "    }\n",
       "\n",
       "    .dataframe tbody tr th {\n",
       "        vertical-align: top;\n",
       "    }\n",
       "\n",
       "    .dataframe thead tr th {\n",
       "        text-align: left;\n",
       "    }\n",
       "\n",
       "    .dataframe thead tr:last-of-type th {\n",
       "        text-align: right;\n",
       "    }\n",
       "</style>\n",
       "<table border=\"1\" class=\"dataframe\">\n",
       "  <thead>\n",
       "    <tr>\n",
       "      <th></th>\n",
       "      <th></th>\n",
       "      <th colspan=\"2\" halign=\"left\">amount</th>\n",
       "    </tr>\n",
       "    <tr>\n",
       "      <th></th>\n",
       "      <th>entry_type</th>\n",
       "      <th>LIEN</th>\n",
       "      <th>All</th>\n",
       "    </tr>\n",
       "    <tr>\n",
       "      <th>type</th>\n",
       "      <th>report_date_local</th>\n",
       "      <th></th>\n",
       "      <th></th>\n",
       "    </tr>\n",
       "  </thead>\n",
       "  <tbody>\n",
       "    <tr>\n",
       "      <th rowspan=\"5\" valign=\"top\">DAILY</th>\n",
       "      <th>2023-06-01</th>\n",
       "      <td>84,342.29</td>\n",
       "      <td>84,342.29</td>\n",
       "    </tr>\n",
       "    <tr>\n",
       "      <th>2023-06-02</th>\n",
       "      <td>496,723.61</td>\n",
       "      <td>496,723.61</td>\n",
       "    </tr>\n",
       "    <tr>\n",
       "      <th>2023-06-03</th>\n",
       "      <td>193,845.22</td>\n",
       "      <td>193,845.22</td>\n",
       "    </tr>\n",
       "    <tr>\n",
       "      <th>2023-06-04</th>\n",
       "      <td>243,899.00</td>\n",
       "      <td>243,899.00</td>\n",
       "    </tr>\n",
       "    <tr>\n",
       "      <th>2023-06-05</th>\n",
       "      <td>221,288.67</td>\n",
       "      <td>221,288.67</td>\n",
       "    </tr>\n",
       "  </tbody>\n",
       "</table>\n",
       "</div>"
      ],
      "text/plain": [
       "                            amount           \n",
       "entry_type                    LIEN        All\n",
       "type  report_date_local                      \n",
       "DAILY 2023-06-01         84,342.29  84,342.29\n",
       "      2023-06-02        496,723.61 496,723.61\n",
       "      2023-06-03        193,845.22 193,845.22\n",
       "      2023-06-04        243,899.00 243,899.00\n",
       "      2023-06-05        221,288.67 221,288.67"
      ]
     },
     "execution_count": 19,
     "metadata": {},
     "output_type": "execute_result"
    }
   ],
   "source": [
    "lib_pivot_v2 = pd.pivot_table(lib_current_month,index=['type','report_date_local']\n",
    "                              ,columns=['entry_type']\n",
    "                              ,values=['amount']\n",
    "                              ,aggfunc=np.sum,margins=True)\n",
    "lib_pivot_v2.head()"
   ]
  },
  {
   "cell_type": "code",
   "execution_count": 20,
   "metadata": {},
   "outputs": [
    {
     "data": {
      "text/plain": [
       "(31, 2)"
      ]
     },
     "execution_count": 20,
     "metadata": {},
     "output_type": "execute_result"
    }
   ],
   "source": [
    "lib_pivot_v2.shape"
   ]
  },
  {
   "cell_type": "markdown",
   "metadata": {},
   "source": [
    "# RETENCIONES"
   ]
  },
  {
   "cell_type": "code",
   "execution_count": 21,
   "metadata": {},
   "outputs": [
    {
     "data": {
      "text/html": [
       "<div>\n",
       "<style scoped>\n",
       "    .dataframe tbody tr th:only-of-type {\n",
       "        vertical-align: middle;\n",
       "    }\n",
       "\n",
       "    .dataframe tbody tr th {\n",
       "        vertical-align: top;\n",
       "    }\n",
       "\n",
       "    .dataframe thead th {\n",
       "        text-align: right;\n",
       "    }\n",
       "</style>\n",
       "<table border=\"1\" class=\"dataframe\">\n",
       "  <thead>\n",
       "    <tr style=\"text-align: right;\">\n",
       "      <th></th>\n",
       "      <th>date_retainment</th>\n",
       "      <th>report_date_local</th>\n",
       "      <th>report_id</th>\n",
       "      <th>entry_type</th>\n",
       "      <th>amount</th>\n",
       "      <th>type</th>\n",
       "      <th>file_name</th>\n",
       "    </tr>\n",
       "  </thead>\n",
       "  <tbody>\n",
       "  </tbody>\n",
       "</table>\n",
       "</div>"
      ],
      "text/plain": [
       "Empty DataFrame\n",
       "Columns: [date_retainment, report_date_local, report_id, entry_type, amount, type, file_name]\n",
       "Index: []"
      ]
     },
     "execution_count": 21,
     "metadata": {},
     "output_type": "execute_result"
    }
   ],
   "source": [
    "ret_1 = pd.concat([pd.read_csv(f).assign(file_name=os.path.basename(f)) for f in allfiles_ret])\n",
    "ret_1.head()"
   ]
  },
  {
   "cell_type": "markdown",
   "metadata": {},
   "source": [
    "### CURRENT DATES"
   ]
  },
  {
   "cell_type": "code",
   "execution_count": 22,
   "metadata": {},
   "outputs": [
    {
     "data": {
      "text/html": [
       "<div>\n",
       "<style scoped>\n",
       "    .dataframe tbody tr th:only-of-type {\n",
       "        vertical-align: middle;\n",
       "    }\n",
       "\n",
       "    .dataframe tbody tr th {\n",
       "        vertical-align: top;\n",
       "    }\n",
       "\n",
       "    .dataframe thead th {\n",
       "        text-align: right;\n",
       "    }\n",
       "</style>\n",
       "<table border=\"1\" class=\"dataframe\">\n",
       "  <thead>\n",
       "    <tr style=\"text-align: right;\">\n",
       "      <th></th>\n",
       "      <th>date_retainment</th>\n",
       "      <th>report_date_local</th>\n",
       "      <th>report_id</th>\n",
       "      <th>entry_type</th>\n",
       "      <th>amount</th>\n",
       "      <th>type</th>\n",
       "      <th>file_name</th>\n",
       "    </tr>\n",
       "  </thead>\n",
       "  <tbody>\n",
       "  </tbody>\n",
       "</table>\n",
       "</div>"
      ],
      "text/plain": [
       "Empty DataFrame\n",
       "Columns: [date_retainment, report_date_local, report_id, entry_type, amount, type, file_name]\n",
       "Index: []"
      ]
     },
     "execution_count": 22,
     "metadata": {},
     "output_type": "execute_result"
    }
   ],
   "source": [
    "ret_current_month = ret_1[(ret_1['report_date_local'] >= start_date) & (ret_1['report_date_local'] <= final_date)]\n",
    "ret_current_month.head()"
   ]
  },
  {
   "cell_type": "code",
   "execution_count": 23,
   "metadata": {},
   "outputs": [
    {
     "data": {
      "text/plain": [
       "(0, 7)"
      ]
     },
     "execution_count": 23,
     "metadata": {},
     "output_type": "execute_result"
    }
   ],
   "source": [
    "ret_current_month.shape"
   ]
  },
  {
   "cell_type": "markdown",
   "metadata": {},
   "source": [
    "### PIVOT"
   ]
  },
  {
   "cell_type": "code",
   "execution_count": 24,
   "metadata": {},
   "outputs": [
    {
     "data": {
      "text/html": [
       "<div>\n",
       "<style scoped>\n",
       "    .dataframe tbody tr th:only-of-type {\n",
       "        vertical-align: middle;\n",
       "    }\n",
       "\n",
       "    .dataframe tbody tr th {\n",
       "        vertical-align: top;\n",
       "    }\n",
       "\n",
       "    .dataframe thead th {\n",
       "        text-align: right;\n",
       "    }\n",
       "</style>\n",
       "<table border=\"1\" class=\"dataframe\">\n",
       "  <thead>\n",
       "    <tr style=\"text-align: right;\">\n",
       "      <th></th>\n",
       "      <th>type</th>\n",
       "      <th>entry_type</th>\n",
       "      <th>report_date_local</th>\n",
       "      <th>amount</th>\n",
       "    </tr>\n",
       "  </thead>\n",
       "  <tbody>\n",
       "  </tbody>\n",
       "</table>\n",
       "</div>"
      ],
      "text/plain": [
       "Empty DataFrame\n",
       "Columns: [type, entry_type, report_date_local, amount]\n",
       "Index: []"
      ]
     },
     "execution_count": 24,
     "metadata": {},
     "output_type": "execute_result"
    }
   ],
   "source": [
    "ret_pivot = ret_current_month.groupby(['type','entry_type','report_date_local']).agg({'amount':sum}).reset_index()\n",
    "ret_pivot.head()"
   ]
  },
  {
   "cell_type": "code",
   "execution_count": 25,
   "metadata": {},
   "outputs": [
    {
     "data": {
      "text/plain": [
       "(0, 4)"
      ]
     },
     "execution_count": 25,
     "metadata": {},
     "output_type": "execute_result"
    }
   ],
   "source": [
    "ret_pivot.shape"
   ]
  },
  {
   "cell_type": "code",
   "execution_count": 26,
   "metadata": {},
   "outputs": [
    {
     "name": "stderr",
     "output_type": "stream",
     "text": [
      "C:\\Users\\Cristian.Aparicio\\AppData\\Local\\Temp\\ipykernel_13480\\19373298.py:1: FutureWarning: The operation <function sum at 0x00000178B1907670> failed on a column. If any error is raised, this will raise an exception in a future version of pandas. Drop these columns to avoid this warning.\n",
      "  ret_pivot_v2 = pd.pivot_table(ret_current_month,index=['type','report_date_local']\n",
      "C:\\Users\\Cristian.Aparicio\\AppData\\Local\\Temp\\ipykernel_13480\\19373298.py:1: FutureWarning: The operation <function sum at 0x00000178B1907670> failed on a column. If any error is raised, this will raise an exception in a future version of pandas. Drop these columns to avoid this warning.\n",
      "  ret_pivot_v2 = pd.pivot_table(ret_current_month,index=['type','report_date_local']\n"
     ]
    },
    {
     "ename": "ValueError",
     "evalue": "No objects to concatenate",
     "output_type": "error",
     "traceback": [
      "\u001b[1;31m---------------------------------------------------------------------------\u001b[0m",
      "\u001b[1;31mValueError\u001b[0m                                Traceback (most recent call last)",
      "Cell \u001b[1;32mIn[26], line 1\u001b[0m\n\u001b[1;32m----> 1\u001b[0m ret_pivot_v2 \u001b[38;5;241m=\u001b[39m \u001b[43mpd\u001b[49m\u001b[38;5;241;43m.\u001b[39;49m\u001b[43mpivot_table\u001b[49m\u001b[43m(\u001b[49m\u001b[43mret_current_month\u001b[49m\u001b[43m,\u001b[49m\u001b[43mindex\u001b[49m\u001b[38;5;241;43m=\u001b[39;49m\u001b[43m[\u001b[49m\u001b[38;5;124;43m'\u001b[39;49m\u001b[38;5;124;43mtype\u001b[39;49m\u001b[38;5;124;43m'\u001b[39;49m\u001b[43m,\u001b[49m\u001b[38;5;124;43m'\u001b[39;49m\u001b[38;5;124;43mreport_date_local\u001b[39;49m\u001b[38;5;124;43m'\u001b[39;49m\u001b[43m]\u001b[49m\n\u001b[0;32m      2\u001b[0m \u001b[43m                              \u001b[49m\u001b[43m,\u001b[49m\u001b[43mcolumns\u001b[49m\u001b[38;5;241;43m=\u001b[39;49m\u001b[43m[\u001b[49m\u001b[38;5;124;43m'\u001b[39;49m\u001b[38;5;124;43mentry_type\u001b[39;49m\u001b[38;5;124;43m'\u001b[39;49m\u001b[43m]\u001b[49m\n\u001b[0;32m      3\u001b[0m \u001b[43m                              \u001b[49m\u001b[43m,\u001b[49m\u001b[43mvalues\u001b[49m\u001b[38;5;241;43m=\u001b[39;49m\u001b[43m[\u001b[49m\u001b[38;5;124;43m'\u001b[39;49m\u001b[38;5;124;43mamount\u001b[39;49m\u001b[38;5;124;43m'\u001b[39;49m\u001b[43m]\u001b[49m\n\u001b[0;32m      4\u001b[0m \u001b[43m                              \u001b[49m\u001b[43m,\u001b[49m\u001b[43maggfunc\u001b[49m\u001b[38;5;241;43m=\u001b[39;49m\u001b[43mnp\u001b[49m\u001b[38;5;241;43m.\u001b[39;49m\u001b[43msum\u001b[49m\u001b[43m,\u001b[49m\u001b[43mmargins\u001b[49m\u001b[38;5;241;43m=\u001b[39;49m\u001b[38;5;28;43;01mTrue\u001b[39;49;00m\u001b[43m)\u001b[49m\n\u001b[0;32m      5\u001b[0m ret_pivot_v2\u001b[38;5;241m.\u001b[39mhead()\n",
      "File \u001b[1;32m~\\anaconda3\\lib\\site-packages\\pandas\\core\\reshape\\pivot.py:97\u001b[0m, in \u001b[0;36mpivot_table\u001b[1;34m(data, values, index, columns, aggfunc, fill_value, margins, dropna, margins_name, observed, sort)\u001b[0m\n\u001b[0;32m     94\u001b[0m     table \u001b[38;5;241m=\u001b[39m concat(pieces, keys\u001b[38;5;241m=\u001b[39mkeys, axis\u001b[38;5;241m=\u001b[39m\u001b[38;5;241m1\u001b[39m)\n\u001b[0;32m     95\u001b[0m     \u001b[38;5;28;01mreturn\u001b[39;00m table\u001b[38;5;241m.\u001b[39m__finalize__(data, method\u001b[38;5;241m=\u001b[39m\u001b[38;5;124m\"\u001b[39m\u001b[38;5;124mpivot_table\u001b[39m\u001b[38;5;124m\"\u001b[39m)\n\u001b[1;32m---> 97\u001b[0m table \u001b[38;5;241m=\u001b[39m \u001b[43m__internal_pivot_table\u001b[49m\u001b[43m(\u001b[49m\n\u001b[0;32m     98\u001b[0m \u001b[43m    \u001b[49m\u001b[43mdata\u001b[49m\u001b[43m,\u001b[49m\n\u001b[0;32m     99\u001b[0m \u001b[43m    \u001b[49m\u001b[43mvalues\u001b[49m\u001b[43m,\u001b[49m\n\u001b[0;32m    100\u001b[0m \u001b[43m    \u001b[49m\u001b[43mindex\u001b[49m\u001b[43m,\u001b[49m\n\u001b[0;32m    101\u001b[0m \u001b[43m    \u001b[49m\u001b[43mcolumns\u001b[49m\u001b[43m,\u001b[49m\n\u001b[0;32m    102\u001b[0m \u001b[43m    \u001b[49m\u001b[43maggfunc\u001b[49m\u001b[43m,\u001b[49m\n\u001b[0;32m    103\u001b[0m \u001b[43m    \u001b[49m\u001b[43mfill_value\u001b[49m\u001b[43m,\u001b[49m\n\u001b[0;32m    104\u001b[0m \u001b[43m    \u001b[49m\u001b[43mmargins\u001b[49m\u001b[43m,\u001b[49m\n\u001b[0;32m    105\u001b[0m \u001b[43m    \u001b[49m\u001b[43mdropna\u001b[49m\u001b[43m,\u001b[49m\n\u001b[0;32m    106\u001b[0m \u001b[43m    \u001b[49m\u001b[43mmargins_name\u001b[49m\u001b[43m,\u001b[49m\n\u001b[0;32m    107\u001b[0m \u001b[43m    \u001b[49m\u001b[43mobserved\u001b[49m\u001b[43m,\u001b[49m\n\u001b[0;32m    108\u001b[0m \u001b[43m    \u001b[49m\u001b[43msort\u001b[49m\u001b[43m,\u001b[49m\n\u001b[0;32m    109\u001b[0m \u001b[43m\u001b[49m\u001b[43m)\u001b[49m\n\u001b[0;32m    110\u001b[0m \u001b[38;5;28;01mreturn\u001b[39;00m table\u001b[38;5;241m.\u001b[39m__finalize__(data, method\u001b[38;5;241m=\u001b[39m\u001b[38;5;124m\"\u001b[39m\u001b[38;5;124mpivot_table\u001b[39m\u001b[38;5;124m\"\u001b[39m)\n",
      "File \u001b[1;32m~\\anaconda3\\lib\\site-packages\\pandas\\core\\reshape\\pivot.py:243\u001b[0m, in \u001b[0;36m__internal_pivot_table\u001b[1;34m(data, values, index, columns, aggfunc, fill_value, margins, dropna, margins_name, observed, sort)\u001b[0m\n\u001b[0;32m    241\u001b[0m     \u001b[38;5;28;01mif\u001b[39;00m dropna:\n\u001b[0;32m    242\u001b[0m         data \u001b[38;5;241m=\u001b[39m data[data\u001b[38;5;241m.\u001b[39mnotna()\u001b[38;5;241m.\u001b[39mall(axis\u001b[38;5;241m=\u001b[39m\u001b[38;5;241m1\u001b[39m)]\n\u001b[1;32m--> 243\u001b[0m     table \u001b[38;5;241m=\u001b[39m \u001b[43m_add_margins\u001b[49m\u001b[43m(\u001b[49m\n\u001b[0;32m    244\u001b[0m \u001b[43m        \u001b[49m\u001b[43mtable\u001b[49m\u001b[43m,\u001b[49m\n\u001b[0;32m    245\u001b[0m \u001b[43m        \u001b[49m\u001b[43mdata\u001b[49m\u001b[43m,\u001b[49m\n\u001b[0;32m    246\u001b[0m \u001b[43m        \u001b[49m\u001b[43mvalues\u001b[49m\u001b[43m,\u001b[49m\n\u001b[0;32m    247\u001b[0m \u001b[43m        \u001b[49m\u001b[43mrows\u001b[49m\u001b[38;5;241;43m=\u001b[39;49m\u001b[43mindex\u001b[49m\u001b[43m,\u001b[49m\n\u001b[0;32m    248\u001b[0m \u001b[43m        \u001b[49m\u001b[43mcols\u001b[49m\u001b[38;5;241;43m=\u001b[39;49m\u001b[43mcolumns\u001b[49m\u001b[43m,\u001b[49m\n\u001b[0;32m    249\u001b[0m \u001b[43m        \u001b[49m\u001b[43maggfunc\u001b[49m\u001b[38;5;241;43m=\u001b[39;49m\u001b[43maggfunc\u001b[49m\u001b[43m,\u001b[49m\n\u001b[0;32m    250\u001b[0m \u001b[43m        \u001b[49m\u001b[43mobserved\u001b[49m\u001b[38;5;241;43m=\u001b[39;49m\u001b[43mdropna\u001b[49m\u001b[43m,\u001b[49m\n\u001b[0;32m    251\u001b[0m \u001b[43m        \u001b[49m\u001b[43mmargins_name\u001b[49m\u001b[38;5;241;43m=\u001b[39;49m\u001b[43mmargins_name\u001b[49m\u001b[43m,\u001b[49m\n\u001b[0;32m    252\u001b[0m \u001b[43m        \u001b[49m\u001b[43mfill_value\u001b[49m\u001b[38;5;241;43m=\u001b[39;49m\u001b[43mfill_value\u001b[49m\u001b[43m,\u001b[49m\n\u001b[0;32m    253\u001b[0m \u001b[43m    \u001b[49m\u001b[43m)\u001b[49m\n\u001b[0;32m    255\u001b[0m \u001b[38;5;66;03m# discard the top level\u001b[39;00m\n\u001b[0;32m    256\u001b[0m \u001b[38;5;28;01mif\u001b[39;00m values_passed \u001b[38;5;129;01mand\u001b[39;00m \u001b[38;5;129;01mnot\u001b[39;00m values_multi \u001b[38;5;129;01mand\u001b[39;00m table\u001b[38;5;241m.\u001b[39mcolumns\u001b[38;5;241m.\u001b[39mnlevels \u001b[38;5;241m>\u001b[39m \u001b[38;5;241m1\u001b[39m:\n",
      "File \u001b[1;32m~\\anaconda3\\lib\\site-packages\\pandas\\core\\reshape\\pivot.py:307\u001b[0m, in \u001b[0;36m_add_margins\u001b[1;34m(table, data, values, rows, cols, aggfunc, observed, margins_name, fill_value)\u001b[0m\n\u001b[0;32m    304\u001b[0m     \u001b[38;5;28;01mreturn\u001b[39;00m table\u001b[38;5;241m.\u001b[39m_append(Series({key: grand_margin[margins_name]}))\n\u001b[0;32m    306\u001b[0m \u001b[38;5;28;01melif\u001b[39;00m values:\n\u001b[1;32m--> 307\u001b[0m     marginal_result_set \u001b[38;5;241m=\u001b[39m \u001b[43m_generate_marginal_results\u001b[49m\u001b[43m(\u001b[49m\n\u001b[0;32m    308\u001b[0m \u001b[43m        \u001b[49m\u001b[43mtable\u001b[49m\u001b[43m,\u001b[49m\u001b[43m \u001b[49m\u001b[43mdata\u001b[49m\u001b[43m,\u001b[49m\u001b[43m \u001b[49m\u001b[43mvalues\u001b[49m\u001b[43m,\u001b[49m\u001b[43m \u001b[49m\u001b[43mrows\u001b[49m\u001b[43m,\u001b[49m\u001b[43m \u001b[49m\u001b[43mcols\u001b[49m\u001b[43m,\u001b[49m\u001b[43m \u001b[49m\u001b[43maggfunc\u001b[49m\u001b[43m,\u001b[49m\u001b[43m \u001b[49m\u001b[43mobserved\u001b[49m\u001b[43m,\u001b[49m\u001b[43m \u001b[49m\u001b[43mmargins_name\u001b[49m\n\u001b[0;32m    309\u001b[0m \u001b[43m    \u001b[49m\u001b[43m)\u001b[49m\n\u001b[0;32m    310\u001b[0m     \u001b[38;5;28;01mif\u001b[39;00m \u001b[38;5;129;01mnot\u001b[39;00m \u001b[38;5;28misinstance\u001b[39m(marginal_result_set, \u001b[38;5;28mtuple\u001b[39m):\n\u001b[0;32m    311\u001b[0m         \u001b[38;5;28;01mreturn\u001b[39;00m marginal_result_set\n",
      "File \u001b[1;32m~\\anaconda3\\lib\\site-packages\\pandas\\core\\reshape\\pivot.py:413\u001b[0m, in \u001b[0;36m_generate_marginal_results\u001b[1;34m(table, data, values, rows, cols, aggfunc, observed, margins_name)\u001b[0m\n\u001b[0;32m    410\u001b[0m         table_pieces\u001b[38;5;241m.\u001b[39mappend(transformed_piece)\n\u001b[0;32m    411\u001b[0m         margin_keys\u001b[38;5;241m.\u001b[39mappend(all_key)\n\u001b[1;32m--> 413\u001b[0m result \u001b[38;5;241m=\u001b[39m \u001b[43mconcat\u001b[49m\u001b[43m(\u001b[49m\u001b[43mtable_pieces\u001b[49m\u001b[43m,\u001b[49m\u001b[43m \u001b[49m\u001b[43maxis\u001b[49m\u001b[38;5;241;43m=\u001b[39;49m\u001b[43mcat_axis\u001b[49m\u001b[43m)\u001b[49m\n\u001b[0;32m    415\u001b[0m \u001b[38;5;28;01mif\u001b[39;00m \u001b[38;5;28mlen\u001b[39m(rows) \u001b[38;5;241m==\u001b[39m \u001b[38;5;241m0\u001b[39m:\n\u001b[0;32m    416\u001b[0m     \u001b[38;5;28;01mreturn\u001b[39;00m result\n",
      "File \u001b[1;32m~\\anaconda3\\lib\\site-packages\\pandas\\util\\_decorators.py:331\u001b[0m, in \u001b[0;36mdeprecate_nonkeyword_arguments.<locals>.decorate.<locals>.wrapper\u001b[1;34m(*args, **kwargs)\u001b[0m\n\u001b[0;32m    325\u001b[0m \u001b[38;5;28;01mif\u001b[39;00m \u001b[38;5;28mlen\u001b[39m(args) \u001b[38;5;241m>\u001b[39m num_allow_args:\n\u001b[0;32m    326\u001b[0m     warnings\u001b[38;5;241m.\u001b[39mwarn(\n\u001b[0;32m    327\u001b[0m         msg\u001b[38;5;241m.\u001b[39mformat(arguments\u001b[38;5;241m=\u001b[39m_format_argument_list(allow_args)),\n\u001b[0;32m    328\u001b[0m         \u001b[38;5;167;01mFutureWarning\u001b[39;00m,\n\u001b[0;32m    329\u001b[0m         stacklevel\u001b[38;5;241m=\u001b[39mfind_stack_level(),\n\u001b[0;32m    330\u001b[0m     )\n\u001b[1;32m--> 331\u001b[0m \u001b[38;5;28;01mreturn\u001b[39;00m func(\u001b[38;5;241m*\u001b[39margs, \u001b[38;5;241m*\u001b[39m\u001b[38;5;241m*\u001b[39mkwargs)\n",
      "File \u001b[1;32m~\\anaconda3\\lib\\site-packages\\pandas\\core\\reshape\\concat.py:368\u001b[0m, in \u001b[0;36mconcat\u001b[1;34m(objs, axis, join, ignore_index, keys, levels, names, verify_integrity, sort, copy)\u001b[0m\n\u001b[0;32m    146\u001b[0m \u001b[38;5;129m@deprecate_nonkeyword_arguments\u001b[39m(version\u001b[38;5;241m=\u001b[39m\u001b[38;5;28;01mNone\u001b[39;00m, allowed_args\u001b[38;5;241m=\u001b[39m[\u001b[38;5;124m\"\u001b[39m\u001b[38;5;124mobjs\u001b[39m\u001b[38;5;124m\"\u001b[39m])\n\u001b[0;32m    147\u001b[0m \u001b[38;5;28;01mdef\u001b[39;00m \u001b[38;5;21mconcat\u001b[39m(\n\u001b[0;32m    148\u001b[0m     objs: Iterable[NDFrame] \u001b[38;5;241m|\u001b[39m Mapping[HashableT, NDFrame],\n\u001b[1;32m   (...)\u001b[0m\n\u001b[0;32m    157\u001b[0m     copy: \u001b[38;5;28mbool\u001b[39m \u001b[38;5;241m=\u001b[39m \u001b[38;5;28;01mTrue\u001b[39;00m,\n\u001b[0;32m    158\u001b[0m ) \u001b[38;5;241m-\u001b[39m\u001b[38;5;241m>\u001b[39m DataFrame \u001b[38;5;241m|\u001b[39m Series:\n\u001b[0;32m    159\u001b[0m \u001b[38;5;250m    \u001b[39m\u001b[38;5;124;03m\"\"\"\u001b[39;00m\n\u001b[0;32m    160\u001b[0m \u001b[38;5;124;03m    Concatenate pandas objects along a particular axis.\u001b[39;00m\n\u001b[0;32m    161\u001b[0m \n\u001b[1;32m   (...)\u001b[0m\n\u001b[0;32m    366\u001b[0m \u001b[38;5;124;03m    1   3   4\u001b[39;00m\n\u001b[0;32m    367\u001b[0m \u001b[38;5;124;03m    \"\"\"\u001b[39;00m\n\u001b[1;32m--> 368\u001b[0m     op \u001b[38;5;241m=\u001b[39m \u001b[43m_Concatenator\u001b[49m\u001b[43m(\u001b[49m\n\u001b[0;32m    369\u001b[0m \u001b[43m        \u001b[49m\u001b[43mobjs\u001b[49m\u001b[43m,\u001b[49m\n\u001b[0;32m    370\u001b[0m \u001b[43m        \u001b[49m\u001b[43maxis\u001b[49m\u001b[38;5;241;43m=\u001b[39;49m\u001b[43maxis\u001b[49m\u001b[43m,\u001b[49m\n\u001b[0;32m    371\u001b[0m \u001b[43m        \u001b[49m\u001b[43mignore_index\u001b[49m\u001b[38;5;241;43m=\u001b[39;49m\u001b[43mignore_index\u001b[49m\u001b[43m,\u001b[49m\n\u001b[0;32m    372\u001b[0m \u001b[43m        \u001b[49m\u001b[43mjoin\u001b[49m\u001b[38;5;241;43m=\u001b[39;49m\u001b[43mjoin\u001b[49m\u001b[43m,\u001b[49m\n\u001b[0;32m    373\u001b[0m \u001b[43m        \u001b[49m\u001b[43mkeys\u001b[49m\u001b[38;5;241;43m=\u001b[39;49m\u001b[43mkeys\u001b[49m\u001b[43m,\u001b[49m\n\u001b[0;32m    374\u001b[0m \u001b[43m        \u001b[49m\u001b[43mlevels\u001b[49m\u001b[38;5;241;43m=\u001b[39;49m\u001b[43mlevels\u001b[49m\u001b[43m,\u001b[49m\n\u001b[0;32m    375\u001b[0m \u001b[43m        \u001b[49m\u001b[43mnames\u001b[49m\u001b[38;5;241;43m=\u001b[39;49m\u001b[43mnames\u001b[49m\u001b[43m,\u001b[49m\n\u001b[0;32m    376\u001b[0m \u001b[43m        \u001b[49m\u001b[43mverify_integrity\u001b[49m\u001b[38;5;241;43m=\u001b[39;49m\u001b[43mverify_integrity\u001b[49m\u001b[43m,\u001b[49m\n\u001b[0;32m    377\u001b[0m \u001b[43m        \u001b[49m\u001b[43mcopy\u001b[49m\u001b[38;5;241;43m=\u001b[39;49m\u001b[43mcopy\u001b[49m\u001b[43m,\u001b[49m\n\u001b[0;32m    378\u001b[0m \u001b[43m        \u001b[49m\u001b[43msort\u001b[49m\u001b[38;5;241;43m=\u001b[39;49m\u001b[43msort\u001b[49m\u001b[43m,\u001b[49m\n\u001b[0;32m    379\u001b[0m \u001b[43m    \u001b[49m\u001b[43m)\u001b[49m\n\u001b[0;32m    381\u001b[0m     \u001b[38;5;28;01mreturn\u001b[39;00m op\u001b[38;5;241m.\u001b[39mget_result()\n",
      "File \u001b[1;32m~\\anaconda3\\lib\\site-packages\\pandas\\core\\reshape\\concat.py:425\u001b[0m, in \u001b[0;36m_Concatenator.__init__\u001b[1;34m(self, objs, axis, join, keys, levels, names, ignore_index, verify_integrity, copy, sort)\u001b[0m\n\u001b[0;32m    422\u001b[0m     objs \u001b[38;5;241m=\u001b[39m \u001b[38;5;28mlist\u001b[39m(objs)\n\u001b[0;32m    424\u001b[0m \u001b[38;5;28;01mif\u001b[39;00m \u001b[38;5;28mlen\u001b[39m(objs) \u001b[38;5;241m==\u001b[39m \u001b[38;5;241m0\u001b[39m:\n\u001b[1;32m--> 425\u001b[0m     \u001b[38;5;28;01mraise\u001b[39;00m \u001b[38;5;167;01mValueError\u001b[39;00m(\u001b[38;5;124m\"\u001b[39m\u001b[38;5;124mNo objects to concatenate\u001b[39m\u001b[38;5;124m\"\u001b[39m)\n\u001b[0;32m    427\u001b[0m \u001b[38;5;28;01mif\u001b[39;00m keys \u001b[38;5;129;01mis\u001b[39;00m \u001b[38;5;28;01mNone\u001b[39;00m:\n\u001b[0;32m    428\u001b[0m     objs \u001b[38;5;241m=\u001b[39m \u001b[38;5;28mlist\u001b[39m(com\u001b[38;5;241m.\u001b[39mnot_none(\u001b[38;5;241m*\u001b[39mobjs))\n",
      "\u001b[1;31mValueError\u001b[0m: No objects to concatenate"
     ]
    }
   ],
   "source": [
    "ret_pivot_v2 = pd.pivot_table(ret_current_month,index=['type','report_date_local']\n",
    "                              ,columns=['entry_type']\n",
    "                              ,values=['amount']\n",
    "                              ,aggfunc=np.sum,margins=True)\n",
    "ret_pivot_v2.head()"
   ]
  },
  {
   "cell_type": "code",
   "execution_count": 27,
   "metadata": {},
   "outputs": [
    {
     "ename": "NameError",
     "evalue": "name 'ret_pivot_v2' is not defined",
     "output_type": "error",
     "traceback": [
      "\u001b[1;31m---------------------------------------------------------------------------\u001b[0m",
      "\u001b[1;31mNameError\u001b[0m                                 Traceback (most recent call last)",
      "Cell \u001b[1;32mIn[27], line 1\u001b[0m\n\u001b[1;32m----> 1\u001b[0m \u001b[43mret_pivot_v2\u001b[49m\u001b[38;5;241m.\u001b[39mshape\n",
      "\u001b[1;31mNameError\u001b[0m: name 'ret_pivot_v2' is not defined"
     ]
    }
   ],
   "source": [
    "ret_pivot_v2.shape"
   ]
  },
  {
   "cell_type": "markdown",
   "metadata": {},
   "source": [
    "# COMISIONES SWAP / BNTE"
   ]
  },
  {
   "cell_type": "code",
   "execution_count": 28,
   "metadata": {},
   "outputs": [
    {
     "data": {
      "text/html": [
       "<div>\n",
       "<style scoped>\n",
       "    .dataframe tbody tr th:only-of-type {\n",
       "        vertical-align: middle;\n",
       "    }\n",
       "\n",
       "    .dataframe tbody tr th {\n",
       "        vertical-align: top;\n",
       "    }\n",
       "\n",
       "    .dataframe thead th {\n",
       "        text-align: right;\n",
       "    }\n",
       "</style>\n",
       "<table border=\"1\" class=\"dataframe\">\n",
       "  <thead>\n",
       "    <tr style=\"text-align: right;\">\n",
       "      <th></th>\n",
       "      <th>date_disbursement</th>\n",
       "      <th>amount</th>\n",
       "      <th>payments_number</th>\n",
       "      <th>comision_dsp</th>\n",
       "      <th>iva_dsp</th>\n",
       "      <th>comision + iva</th>\n",
       "      <th>total_fondeo</th>\n",
       "      <th>monto_mail</th>\n",
       "      <th>comision_mail</th>\n",
       "      <th>iva_mail</th>\n",
       "      <th>monto_fondeo_mail</th>\n",
       "      <th>check_monto</th>\n",
       "      <th>check_comision</th>\n",
       "      <th>check_iva</th>\n",
       "      <th>check_fondeo</th>\n",
       "      <th>dsp</th>\n",
       "      <th>file_name</th>\n",
       "    </tr>\n",
       "  </thead>\n",
       "  <tbody>\n",
       "    <tr>\n",
       "      <th>0</th>\n",
       "      <td>2023-06-03</td>\n",
       "      <td>210,644,374.98</td>\n",
       "      <td>94715</td>\n",
       "      <td>164,641.50</td>\n",
       "      <td>26,342.64</td>\n",
       "      <td>190,984.14</td>\n",
       "      <td>210,835,359.12</td>\n",
       "      <td>210,644,374.98</td>\n",
       "      <td>164,641.50</td>\n",
       "      <td>26,342.64</td>\n",
       "      <td>210,835,359.12</td>\n",
       "      <td>0.00</td>\n",
       "      <td>0.00</td>\n",
       "      <td>0.00</td>\n",
       "      <td>-0.00</td>\n",
       "      <td>BNTE</td>\n",
       "      <td>DIFF MONTOS-BNTE-1 2023-06-03.csv</td>\n",
       "    </tr>\n",
       "    <tr>\n",
       "      <th>0</th>\n",
       "      <td>2023-06-04</td>\n",
       "      <td>230,734,154.40</td>\n",
       "      <td>94690</td>\n",
       "      <td>164,674.50</td>\n",
       "      <td>26,347.92</td>\n",
       "      <td>191,022.42</td>\n",
       "      <td>230,925,176.82</td>\n",
       "      <td>230,734,154.40</td>\n",
       "      <td>164,674.50</td>\n",
       "      <td>26,347.92</td>\n",
       "      <td>230,925,176.82</td>\n",
       "      <td>0.00</td>\n",
       "      <td>0.00</td>\n",
       "      <td>0.00</td>\n",
       "      <td>0.00</td>\n",
       "      <td>BNTE</td>\n",
       "      <td>DIFF MONTOS-BNTE-1 2023-06-04.csv</td>\n",
       "    </tr>\n",
       "    <tr>\n",
       "      <th>0</th>\n",
       "      <td>2023-06-10</td>\n",
       "      <td>202,032,840.78</td>\n",
       "      <td>94671</td>\n",
       "      <td>164,505.30</td>\n",
       "      <td>26,320.85</td>\n",
       "      <td>190,826.15</td>\n",
       "      <td>202,223,666.93</td>\n",
       "      <td>202,032,840.78</td>\n",
       "      <td>164,505.30</td>\n",
       "      <td>26,320.85</td>\n",
       "      <td>202,223,666.93</td>\n",
       "      <td>0.00</td>\n",
       "      <td>0.00</td>\n",
       "      <td>-0.00</td>\n",
       "      <td>-0.00</td>\n",
       "      <td>BNTE</td>\n",
       "      <td>DIFF MONTOS-BNTE-1 2023-06-10.csv</td>\n",
       "    </tr>\n",
       "    <tr>\n",
       "      <th>0</th>\n",
       "      <td>2023-06-11</td>\n",
       "      <td>228,628,050.00</td>\n",
       "      <td>94703</td>\n",
       "      <td>164,753.40</td>\n",
       "      <td>26,360.54</td>\n",
       "      <td>191,113.94</td>\n",
       "      <td>228,819,163.94</td>\n",
       "      <td>228,628,050.00</td>\n",
       "      <td>164,753.40</td>\n",
       "      <td>26,360.54</td>\n",
       "      <td>228,819,163.94</td>\n",
       "      <td>0.00</td>\n",
       "      <td>0.00</td>\n",
       "      <td>0.00</td>\n",
       "      <td>0.00</td>\n",
       "      <td>BNTE</td>\n",
       "      <td>DIFF MONTOS-BNTE-1 2023-06-11.csv</td>\n",
       "    </tr>\n",
       "    <tr>\n",
       "      <th>0</th>\n",
       "      <td>2023-06-17</td>\n",
       "      <td>212,741,651.84</td>\n",
       "      <td>94677</td>\n",
       "      <td>164,582.85</td>\n",
       "      <td>26,333.26</td>\n",
       "      <td>190,916.11</td>\n",
       "      <td>212,932,567.95</td>\n",
       "      <td>212,741,651.84</td>\n",
       "      <td>164,582.85</td>\n",
       "      <td>26,333.26</td>\n",
       "      <td>212,932,567.95</td>\n",
       "      <td>0.00</td>\n",
       "      <td>0.00</td>\n",
       "      <td>-0.00</td>\n",
       "      <td>-0.00</td>\n",
       "      <td>BNTE</td>\n",
       "      <td>DIFF MONTOS-BNTE-1 2023-06-17.csv</td>\n",
       "    </tr>\n",
       "  </tbody>\n",
       "</table>\n",
       "</div>"
      ],
      "text/plain": [
       "  date_disbursement         amount  payments_number  comision_dsp   iva_dsp  \\\n",
       "0        2023-06-03 210,644,374.98            94715    164,641.50 26,342.64   \n",
       "0        2023-06-04 230,734,154.40            94690    164,674.50 26,347.92   \n",
       "0        2023-06-10 202,032,840.78            94671    164,505.30 26,320.85   \n",
       "0        2023-06-11 228,628,050.00            94703    164,753.40 26,360.54   \n",
       "0        2023-06-17 212,741,651.84            94677    164,582.85 26,333.26   \n",
       "\n",
       "   comision + iva   total_fondeo     monto_mail  comision_mail  iva_mail  \\\n",
       "0      190,984.14 210,835,359.12 210,644,374.98     164,641.50 26,342.64   \n",
       "0      191,022.42 230,925,176.82 230,734,154.40     164,674.50 26,347.92   \n",
       "0      190,826.15 202,223,666.93 202,032,840.78     164,505.30 26,320.85   \n",
       "0      191,113.94 228,819,163.94 228,628,050.00     164,753.40 26,360.54   \n",
       "0      190,916.11 212,932,567.95 212,741,651.84     164,582.85 26,333.26   \n",
       "\n",
       "   monto_fondeo_mail  check_monto  check_comision  check_iva  check_fondeo  \\\n",
       "0     210,835,359.12         0.00            0.00       0.00         -0.00   \n",
       "0     230,925,176.82         0.00            0.00       0.00          0.00   \n",
       "0     202,223,666.93         0.00            0.00      -0.00         -0.00   \n",
       "0     228,819,163.94         0.00            0.00       0.00          0.00   \n",
       "0     212,932,567.95         0.00            0.00      -0.00         -0.00   \n",
       "\n",
       "    dsp                          file_name  \n",
       "0  BNTE  DIFF MONTOS-BNTE-1 2023-06-03.csv  \n",
       "0  BNTE  DIFF MONTOS-BNTE-1 2023-06-04.csv  \n",
       "0  BNTE  DIFF MONTOS-BNTE-1 2023-06-10.csv  \n",
       "0  BNTE  DIFF MONTOS-BNTE-1 2023-06-11.csv  \n",
       "0  BNTE  DIFF MONTOS-BNTE-1 2023-06-17.csv  "
      ]
     },
     "execution_count": 28,
     "metadata": {},
     "output_type": "execute_result"
    }
   ],
   "source": [
    "com_1 = pd.concat([pd.read_csv(f).assign(file_name=os.path.basename(f)) for f in allfiles_com])\n",
    "com_1.head()"
   ]
  },
  {
   "cell_type": "code",
   "execution_count": 29,
   "metadata": {},
   "outputs": [
    {
     "data": {
      "text/plain": [
       "(73, 17)"
      ]
     },
     "execution_count": 29,
     "metadata": {},
     "output_type": "execute_result"
    }
   ],
   "source": [
    "com_1.shape"
   ]
  },
  {
   "cell_type": "markdown",
   "metadata": {},
   "source": [
    "### CURRENT DATES"
   ]
  },
  {
   "cell_type": "code",
   "execution_count": 30,
   "metadata": {},
   "outputs": [
    {
     "data": {
      "text/html": [
       "<div>\n",
       "<style scoped>\n",
       "    .dataframe tbody tr th:only-of-type {\n",
       "        vertical-align: middle;\n",
       "    }\n",
       "\n",
       "    .dataframe tbody tr th {\n",
       "        vertical-align: top;\n",
       "    }\n",
       "\n",
       "    .dataframe thead th {\n",
       "        text-align: right;\n",
       "    }\n",
       "</style>\n",
       "<table border=\"1\" class=\"dataframe\">\n",
       "  <thead>\n",
       "    <tr style=\"text-align: right;\">\n",
       "      <th></th>\n",
       "      <th>date_disbursement</th>\n",
       "      <th>amount</th>\n",
       "      <th>payments_number</th>\n",
       "      <th>comision_dsp</th>\n",
       "      <th>iva_dsp</th>\n",
       "      <th>comision + iva</th>\n",
       "      <th>total_fondeo</th>\n",
       "      <th>monto_mail</th>\n",
       "      <th>comision_mail</th>\n",
       "      <th>iva_mail</th>\n",
       "      <th>monto_fondeo_mail</th>\n",
       "      <th>check_monto</th>\n",
       "      <th>check_comision</th>\n",
       "      <th>check_iva</th>\n",
       "      <th>check_fondeo</th>\n",
       "      <th>dsp</th>\n",
       "      <th>file_name</th>\n",
       "    </tr>\n",
       "  </thead>\n",
       "  <tbody>\n",
       "    <tr>\n",
       "      <th>0</th>\n",
       "      <td>2023-06-03</td>\n",
       "      <td>210,644,374.98</td>\n",
       "      <td>94715</td>\n",
       "      <td>164,641.50</td>\n",
       "      <td>26,342.64</td>\n",
       "      <td>190,984.14</td>\n",
       "      <td>210,835,359.12</td>\n",
       "      <td>210,644,374.98</td>\n",
       "      <td>164,641.50</td>\n",
       "      <td>26,342.64</td>\n",
       "      <td>210,835,359.12</td>\n",
       "      <td>0.00</td>\n",
       "      <td>0.00</td>\n",
       "      <td>0.00</td>\n",
       "      <td>-0.00</td>\n",
       "      <td>BNTE</td>\n",
       "      <td>DIFF MONTOS-BNTE-1 2023-06-03.csv</td>\n",
       "    </tr>\n",
       "    <tr>\n",
       "      <th>0</th>\n",
       "      <td>2023-06-04</td>\n",
       "      <td>230,734,154.40</td>\n",
       "      <td>94690</td>\n",
       "      <td>164,674.50</td>\n",
       "      <td>26,347.92</td>\n",
       "      <td>191,022.42</td>\n",
       "      <td>230,925,176.82</td>\n",
       "      <td>230,734,154.40</td>\n",
       "      <td>164,674.50</td>\n",
       "      <td>26,347.92</td>\n",
       "      <td>230,925,176.82</td>\n",
       "      <td>0.00</td>\n",
       "      <td>0.00</td>\n",
       "      <td>0.00</td>\n",
       "      <td>0.00</td>\n",
       "      <td>BNTE</td>\n",
       "      <td>DIFF MONTOS-BNTE-1 2023-06-04.csv</td>\n",
       "    </tr>\n",
       "    <tr>\n",
       "      <th>0</th>\n",
       "      <td>2023-06-10</td>\n",
       "      <td>202,032,840.78</td>\n",
       "      <td>94671</td>\n",
       "      <td>164,505.30</td>\n",
       "      <td>26,320.85</td>\n",
       "      <td>190,826.15</td>\n",
       "      <td>202,223,666.93</td>\n",
       "      <td>202,032,840.78</td>\n",
       "      <td>164,505.30</td>\n",
       "      <td>26,320.85</td>\n",
       "      <td>202,223,666.93</td>\n",
       "      <td>0.00</td>\n",
       "      <td>0.00</td>\n",
       "      <td>-0.00</td>\n",
       "      <td>-0.00</td>\n",
       "      <td>BNTE</td>\n",
       "      <td>DIFF MONTOS-BNTE-1 2023-06-10.csv</td>\n",
       "    </tr>\n",
       "    <tr>\n",
       "      <th>0</th>\n",
       "      <td>2023-06-11</td>\n",
       "      <td>228,628,050.00</td>\n",
       "      <td>94703</td>\n",
       "      <td>164,753.40</td>\n",
       "      <td>26,360.54</td>\n",
       "      <td>191,113.94</td>\n",
       "      <td>228,819,163.94</td>\n",
       "      <td>228,628,050.00</td>\n",
       "      <td>164,753.40</td>\n",
       "      <td>26,360.54</td>\n",
       "      <td>228,819,163.94</td>\n",
       "      <td>0.00</td>\n",
       "      <td>0.00</td>\n",
       "      <td>0.00</td>\n",
       "      <td>0.00</td>\n",
       "      <td>BNTE</td>\n",
       "      <td>DIFF MONTOS-BNTE-1 2023-06-11.csv</td>\n",
       "    </tr>\n",
       "    <tr>\n",
       "      <th>0</th>\n",
       "      <td>2023-06-17</td>\n",
       "      <td>212,741,651.84</td>\n",
       "      <td>94677</td>\n",
       "      <td>164,582.85</td>\n",
       "      <td>26,333.26</td>\n",
       "      <td>190,916.11</td>\n",
       "      <td>212,932,567.95</td>\n",
       "      <td>212,741,651.84</td>\n",
       "      <td>164,582.85</td>\n",
       "      <td>26,333.26</td>\n",
       "      <td>212,932,567.95</td>\n",
       "      <td>0.00</td>\n",
       "      <td>0.00</td>\n",
       "      <td>-0.00</td>\n",
       "      <td>-0.00</td>\n",
       "      <td>BNTE</td>\n",
       "      <td>DIFF MONTOS-BNTE-1 2023-06-17.csv</td>\n",
       "    </tr>\n",
       "  </tbody>\n",
       "</table>\n",
       "</div>"
      ],
      "text/plain": [
       "  date_disbursement         amount  payments_number  comision_dsp   iva_dsp  \\\n",
       "0        2023-06-03 210,644,374.98            94715    164,641.50 26,342.64   \n",
       "0        2023-06-04 230,734,154.40            94690    164,674.50 26,347.92   \n",
       "0        2023-06-10 202,032,840.78            94671    164,505.30 26,320.85   \n",
       "0        2023-06-11 228,628,050.00            94703    164,753.40 26,360.54   \n",
       "0        2023-06-17 212,741,651.84            94677    164,582.85 26,333.26   \n",
       "\n",
       "   comision + iva   total_fondeo     monto_mail  comision_mail  iva_mail  \\\n",
       "0      190,984.14 210,835,359.12 210,644,374.98     164,641.50 26,342.64   \n",
       "0      191,022.42 230,925,176.82 230,734,154.40     164,674.50 26,347.92   \n",
       "0      190,826.15 202,223,666.93 202,032,840.78     164,505.30 26,320.85   \n",
       "0      191,113.94 228,819,163.94 228,628,050.00     164,753.40 26,360.54   \n",
       "0      190,916.11 212,932,567.95 212,741,651.84     164,582.85 26,333.26   \n",
       "\n",
       "   monto_fondeo_mail  check_monto  check_comision  check_iva  check_fondeo  \\\n",
       "0     210,835,359.12         0.00            0.00       0.00         -0.00   \n",
       "0     230,925,176.82         0.00            0.00       0.00          0.00   \n",
       "0     202,223,666.93         0.00            0.00      -0.00         -0.00   \n",
       "0     228,819,163.94         0.00            0.00       0.00          0.00   \n",
       "0     212,932,567.95         0.00            0.00      -0.00         -0.00   \n",
       "\n",
       "    dsp                          file_name  \n",
       "0  BNTE  DIFF MONTOS-BNTE-1 2023-06-03.csv  \n",
       "0  BNTE  DIFF MONTOS-BNTE-1 2023-06-04.csv  \n",
       "0  BNTE  DIFF MONTOS-BNTE-1 2023-06-10.csv  \n",
       "0  BNTE  DIFF MONTOS-BNTE-1 2023-06-11.csv  \n",
       "0  BNTE  DIFF MONTOS-BNTE-1 2023-06-17.csv  "
      ]
     },
     "execution_count": 30,
     "metadata": {},
     "output_type": "execute_result"
    }
   ],
   "source": [
    "com_current_month = com_1[(com_1['date_disbursement'] >= start_date) & (com_1['date_disbursement'] <= final_date)]\n",
    "com_current_month.head()"
   ]
  },
  {
   "cell_type": "code",
   "execution_count": 31,
   "metadata": {},
   "outputs": [
    {
     "data": {
      "text/plain": [
       "(73, 17)"
      ]
     },
     "execution_count": 31,
     "metadata": {},
     "output_type": "execute_result"
    }
   ],
   "source": [
    "com_current_month.shape"
   ]
  },
  {
   "cell_type": "code",
   "execution_count": 32,
   "metadata": {},
   "outputs": [
    {
     "data": {
      "text/plain": [
       "Index(['date_disbursement', 'amount', 'payments_number', 'comision_dsp',\n",
       "       'iva_dsp', 'comision + iva', 'total_fondeo', 'monto_mail',\n",
       "       'comision_mail', 'iva_mail', 'monto_fondeo_mail', 'check_monto',\n",
       "       'check_comision', 'check_iva', 'check_fondeo', 'dsp', 'file_name'],\n",
       "      dtype='object')"
      ]
     },
     "execution_count": 32,
     "metadata": {},
     "output_type": "execute_result"
    }
   ],
   "source": [
    "com_current_month.columns"
   ]
  },
  {
   "cell_type": "code",
   "execution_count": 33,
   "metadata": {},
   "outputs": [
    {
     "data": {
      "text/html": [
       "<div>\n",
       "<style scoped>\n",
       "    .dataframe tbody tr th:only-of-type {\n",
       "        vertical-align: middle;\n",
       "    }\n",
       "\n",
       "    .dataframe tbody tr th {\n",
       "        vertical-align: top;\n",
       "    }\n",
       "\n",
       "    .dataframe thead th {\n",
       "        text-align: right;\n",
       "    }\n",
       "</style>\n",
       "<table border=\"1\" class=\"dataframe\">\n",
       "  <thead>\n",
       "    <tr style=\"text-align: right;\">\n",
       "      <th></th>\n",
       "      <th>date_disbursement</th>\n",
       "      <th>payments_number</th>\n",
       "      <th>amount</th>\n",
       "      <th>comision_dsp</th>\n",
       "      <th>iva_dsp</th>\n",
       "      <th>comision + iva</th>\n",
       "      <th>total_fondeo</th>\n",
       "      <th>monto_mail</th>\n",
       "      <th>comision_mail</th>\n",
       "      <th>iva_mail</th>\n",
       "      <th>monto_fondeo_mail</th>\n",
       "      <th>check_monto</th>\n",
       "      <th>check_comision</th>\n",
       "      <th>check_iva</th>\n",
       "      <th>check_fondeo</th>\n",
       "    </tr>\n",
       "  </thead>\n",
       "  <tbody>\n",
       "    <tr>\n",
       "      <th>0</th>\n",
       "      <td>2023-06-01</td>\n",
       "      <td>103479</td>\n",
       "      <td>212,480,778.28</td>\n",
       "      <td>53,037.80</td>\n",
       "      <td>8,486.05</td>\n",
       "      <td>61,523.85</td>\n",
       "      <td>212,542,302.13</td>\n",
       "      <td>212,480,778.28</td>\n",
       "      <td>53,037.80</td>\n",
       "      <td>8,486.05</td>\n",
       "      <td>212,542,302.13</td>\n",
       "      <td>0.00</td>\n",
       "      <td>0.00</td>\n",
       "      <td>-0.00</td>\n",
       "      <td>-0.00</td>\n",
       "    </tr>\n",
       "    <tr>\n",
       "      <th>1</th>\n",
       "      <td>2023-06-02</td>\n",
       "      <td>106992</td>\n",
       "      <td>218,079,519.67</td>\n",
       "      <td>54,676.00</td>\n",
       "      <td>8,748.16</td>\n",
       "      <td>63,424.16</td>\n",
       "      <td>218,142,943.83</td>\n",
       "      <td>218,079,519.67</td>\n",
       "      <td>54,676.00</td>\n",
       "      <td>8,748.16</td>\n",
       "      <td>218,142,943.83</td>\n",
       "      <td>0.00</td>\n",
       "      <td>0.00</td>\n",
       "      <td>0.00</td>\n",
       "      <td>0.00</td>\n",
       "    </tr>\n",
       "    <tr>\n",
       "      <th>2</th>\n",
       "      <td>2023-06-03</td>\n",
       "      <td>110226</td>\n",
       "      <td>245,876,567.06</td>\n",
       "      <td>191,608.05</td>\n",
       "      <td>30,657.29</td>\n",
       "      <td>222,265.34</td>\n",
       "      <td>246,098,832.40</td>\n",
       "      <td>245,876,567.06</td>\n",
       "      <td>191,608.05</td>\n",
       "      <td>30,657.29</td>\n",
       "      <td>246,098,832.40</td>\n",
       "      <td>0.00</td>\n",
       "      <td>0.00</td>\n",
       "      <td>-0.00</td>\n",
       "      <td>-0.00</td>\n",
       "    </tr>\n",
       "    <tr>\n",
       "      <th>3</th>\n",
       "      <td>2023-06-04</td>\n",
       "      <td>107698</td>\n",
       "      <td>262,534,491.76</td>\n",
       "      <td>187,314.15</td>\n",
       "      <td>29,970.26</td>\n",
       "      <td>217,284.41</td>\n",
       "      <td>262,751,776.17</td>\n",
       "      <td>262,534,491.76</td>\n",
       "      <td>187,314.15</td>\n",
       "      <td>29,970.26</td>\n",
       "      <td>262,751,776.17</td>\n",
       "      <td>0.00</td>\n",
       "      <td>0.00</td>\n",
       "      <td>0.00</td>\n",
       "      <td>0.00</td>\n",
       "    </tr>\n",
       "    <tr>\n",
       "      <th>4</th>\n",
       "      <td>2023-06-05</td>\n",
       "      <td>75292</td>\n",
       "      <td>185,903,754.56</td>\n",
       "      <td>38,484.65</td>\n",
       "      <td>6,157.54</td>\n",
       "      <td>44,642.19</td>\n",
       "      <td>185,948,396.75</td>\n",
       "      <td>185,903,754.56</td>\n",
       "      <td>38,484.65</td>\n",
       "      <td>6,157.54</td>\n",
       "      <td>185,948,396.75</td>\n",
       "      <td>0.00</td>\n",
       "      <td>0.00</td>\n",
       "      <td>0.00</td>\n",
       "      <td>0.00</td>\n",
       "    </tr>\n",
       "  </tbody>\n",
       "</table>\n",
       "</div>"
      ],
      "text/plain": [
       "  date_disbursement  payments_number         amount  comision_dsp   iva_dsp  \\\n",
       "0        2023-06-01           103479 212,480,778.28     53,037.80  8,486.05   \n",
       "1        2023-06-02           106992 218,079,519.67     54,676.00  8,748.16   \n",
       "2        2023-06-03           110226 245,876,567.06    191,608.05 30,657.29   \n",
       "3        2023-06-04           107698 262,534,491.76    187,314.15 29,970.26   \n",
       "4        2023-06-05            75292 185,903,754.56     38,484.65  6,157.54   \n",
       "\n",
       "   comision + iva   total_fondeo     monto_mail  comision_mail  iva_mail  \\\n",
       "0       61,523.85 212,542,302.13 212,480,778.28      53,037.80  8,486.05   \n",
       "1       63,424.16 218,142,943.83 218,079,519.67      54,676.00  8,748.16   \n",
       "2      222,265.34 246,098,832.40 245,876,567.06     191,608.05 30,657.29   \n",
       "3      217,284.41 262,751,776.17 262,534,491.76     187,314.15 29,970.26   \n",
       "4       44,642.19 185,948,396.75 185,903,754.56      38,484.65  6,157.54   \n",
       "\n",
       "   monto_fondeo_mail  check_monto  check_comision  check_iva  check_fondeo  \n",
       "0     212,542,302.13         0.00            0.00      -0.00         -0.00  \n",
       "1     218,142,943.83         0.00            0.00       0.00          0.00  \n",
       "2     246,098,832.40         0.00            0.00      -0.00         -0.00  \n",
       "3     262,751,776.17         0.00            0.00       0.00          0.00  \n",
       "4     185,948,396.75         0.00            0.00       0.00          0.00  "
      ]
     },
     "execution_count": 33,
     "metadata": {},
     "output_type": "execute_result"
    }
   ],
   "source": [
    "com_final = com_current_month.groupby(['date_disbursement']).agg({'payments_number':sum,'amount':sum,'comision_dsp':sum,\n",
    "                                                                  'iva_dsp':sum,'comision + iva':sum,'total_fondeo':sum,\n",
    "                                                                 'monto_mail':sum,'comision_mail':sum,'iva_mail':sum,\n",
    "                                                                 'monto_fondeo_mail':sum,'check_monto':sum,'check_comision':sum,\n",
    "                                                                 'check_iva':sum,'check_fondeo':sum}).reset_index()\n",
    "com_final.head()"
   ]
  },
  {
   "cell_type": "markdown",
   "metadata": {},
   "source": [
    "# LENDERS"
   ]
  },
  {
   "cell_type": "code",
   "execution_count": 34,
   "metadata": {},
   "outputs": [
    {
     "data": {
      "text/html": [
       "<div>\n",
       "<style scoped>\n",
       "    .dataframe tbody tr th:only-of-type {\n",
       "        vertical-align: middle;\n",
       "    }\n",
       "\n",
       "    .dataframe tbody tr th {\n",
       "        vertical-align: top;\n",
       "    }\n",
       "\n",
       "    .dataframe thead th {\n",
       "        text-align: right;\n",
       "    }\n",
       "</style>\n",
       "<table border=\"1\" class=\"dataframe\">\n",
       "  <thead>\n",
       "    <tr style=\"text-align: right;\">\n",
       "      <th></th>\n",
       "      <th>collection_date_local</th>\n",
       "      <th>merchant_token</th>\n",
       "      <th>merchant_id</th>\n",
       "      <th>loan_id</th>\n",
       "      <th>provider_code</th>\n",
       "      <th>collection_origin</th>\n",
       "      <th>source</th>\n",
       "      <th>amount</th>\n",
       "      <th>capital</th>\n",
       "      <th>interest</th>\n",
       "      <th>tax</th>\n",
       "      <th>file_name</th>\n",
       "    </tr>\n",
       "  </thead>\n",
       "  <tbody>\n",
       "    <tr>\n",
       "      <th>0</th>\n",
       "      <td>2023-01-01</td>\n",
       "      <td>d8d8f9b2-0585-48e0-8d1f-e3bbf4766fbe</td>\n",
       "      <td>30a435af-3c57-4063-bf36-735f5731b179</td>\n",
       "      <td>df0ca1c8-0193-426c-8a32-c164b5ca715e</td>\n",
       "      <td>MRP</td>\n",
       "      <td>SETTLEMENT</td>\n",
       "      <td>LEDGER</td>\n",
       "      <td>23.05</td>\n",
       "      <td>16.60</td>\n",
       "      <td>6.45</td>\n",
       "      <td>0.00</td>\n",
       "      <td>LENDERS DB ENERO 2023.csv</td>\n",
       "    </tr>\n",
       "    <tr>\n",
       "      <th>1</th>\n",
       "      <td>2023-01-01</td>\n",
       "      <td>c4bad384-1718-4f7f-980e-910738bf4c79</td>\n",
       "      <td>0ace4fbe-6ab7-4e7f-a6b0-2a1bb8d6171a</td>\n",
       "      <td>45e17b07-8134-4e21-8aa8-2f90b4df9f37</td>\n",
       "      <td>CTO</td>\n",
       "      <td>SETTLEMENT</td>\n",
       "      <td>LEDGER</td>\n",
       "      <td>18.66</td>\n",
       "      <td>12.74</td>\n",
       "      <td>5.10</td>\n",
       "      <td>0.82</td>\n",
       "      <td>LENDERS DB ENERO 2023.csv</td>\n",
       "    </tr>\n",
       "    <tr>\n",
       "      <th>2</th>\n",
       "      <td>2023-01-01</td>\n",
       "      <td>1592f594-8416-447e-a316-ffc57ea7596f</td>\n",
       "      <td>0614af35-a0b4-4774-ae6f-4eef4238b915</td>\n",
       "      <td>2df0924e-4f58-46c5-8ec1-32a1beec4d49</td>\n",
       "      <td>MRP</td>\n",
       "      <td>SETTLEMENT</td>\n",
       "      <td>LEDGER</td>\n",
       "      <td>98.65</td>\n",
       "      <td>71.03</td>\n",
       "      <td>27.62</td>\n",
       "      <td>0.00</td>\n",
       "      <td>LENDERS DB ENERO 2023.csv</td>\n",
       "    </tr>\n",
       "    <tr>\n",
       "      <th>3</th>\n",
       "      <td>2023-01-01</td>\n",
       "      <td>fa8ee41a-394c-4506-b450-9f8a048a3cfc</td>\n",
       "      <td>789ef894-8d9d-48cb-a20a-0860a44d4a1e</td>\n",
       "      <td>935289b5-6689-4a98-af7f-d91e1a399533</td>\n",
       "      <td>MRP</td>\n",
       "      <td>SETTLEMENT</td>\n",
       "      <td>LEDGER</td>\n",
       "      <td>55.43</td>\n",
       "      <td>41.57</td>\n",
       "      <td>13.86</td>\n",
       "      <td>0.00</td>\n",
       "      <td>LENDERS DB ENERO 2023.csv</td>\n",
       "    </tr>\n",
       "    <tr>\n",
       "      <th>4</th>\n",
       "      <td>2023-01-01</td>\n",
       "      <td>41d8b68d-d496-48bd-9d2e-d3bfe8a4628e</td>\n",
       "      <td>5fab90f8-faf0-48a8-9065-e67b2cde2abe</td>\n",
       "      <td>d4ee526d-2a99-406b-95d3-309ee8d7f84b</td>\n",
       "      <td>MRP</td>\n",
       "      <td>SETTLEMENT</td>\n",
       "      <td>LEDGER</td>\n",
       "      <td>16.44</td>\n",
       "      <td>13.48</td>\n",
       "      <td>2.96</td>\n",
       "      <td>0.00</td>\n",
       "      <td>LENDERS DB ENERO 2023.csv</td>\n",
       "    </tr>\n",
       "  </tbody>\n",
       "</table>\n",
       "</div>"
      ],
      "text/plain": [
       "  collection_date_local                        merchant_token  \\\n",
       "0            2023-01-01  d8d8f9b2-0585-48e0-8d1f-e3bbf4766fbe   \n",
       "1            2023-01-01  c4bad384-1718-4f7f-980e-910738bf4c79   \n",
       "2            2023-01-01  1592f594-8416-447e-a316-ffc57ea7596f   \n",
       "3            2023-01-01  fa8ee41a-394c-4506-b450-9f8a048a3cfc   \n",
       "4            2023-01-01  41d8b68d-d496-48bd-9d2e-d3bfe8a4628e   \n",
       "\n",
       "                            merchant_id                               loan_id  \\\n",
       "0  30a435af-3c57-4063-bf36-735f5731b179  df0ca1c8-0193-426c-8a32-c164b5ca715e   \n",
       "1  0ace4fbe-6ab7-4e7f-a6b0-2a1bb8d6171a  45e17b07-8134-4e21-8aa8-2f90b4df9f37   \n",
       "2  0614af35-a0b4-4774-ae6f-4eef4238b915  2df0924e-4f58-46c5-8ec1-32a1beec4d49   \n",
       "3  789ef894-8d9d-48cb-a20a-0860a44d4a1e  935289b5-6689-4a98-af7f-d91e1a399533   \n",
       "4  5fab90f8-faf0-48a8-9065-e67b2cde2abe  d4ee526d-2a99-406b-95d3-309ee8d7f84b   \n",
       "\n",
       "  provider_code collection_origin  source  amount  capital  interest  tax  \\\n",
       "0           MRP        SETTLEMENT  LEDGER   23.05    16.60      6.45 0.00   \n",
       "1           CTO        SETTLEMENT  LEDGER   18.66    12.74      5.10 0.82   \n",
       "2           MRP        SETTLEMENT  LEDGER   98.65    71.03     27.62 0.00   \n",
       "3           MRP        SETTLEMENT  LEDGER   55.43    41.57     13.86 0.00   \n",
       "4           MRP        SETTLEMENT  LEDGER   16.44    13.48      2.96 0.00   \n",
       "\n",
       "                   file_name  \n",
       "0  LENDERS DB ENERO 2023.csv  \n",
       "1  LENDERS DB ENERO 2023.csv  \n",
       "2  LENDERS DB ENERO 2023.csv  \n",
       "3  LENDERS DB ENERO 2023.csv  \n",
       "4  LENDERS DB ENERO 2023.csv  "
      ]
     },
     "execution_count": 34,
     "metadata": {},
     "output_type": "execute_result"
    }
   ],
   "source": [
    "lender_1 = pd.concat([pd.read_csv(f).assign(file_name=os.path.basename(f)) for f in allfiles_lender])\n",
    "lender_1.columns = lender_1.columns.str.strip().str.lower() \n",
    "lender_1.head()"
   ]
  },
  {
   "cell_type": "code",
   "execution_count": 35,
   "metadata": {},
   "outputs": [
    {
     "data": {
      "text/plain": [
       "(3677990, 12)"
      ]
     },
     "execution_count": 35,
     "metadata": {},
     "output_type": "execute_result"
    }
   ],
   "source": [
    "lender_1.shape"
   ]
  },
  {
   "cell_type": "code",
   "execution_count": 36,
   "metadata": {},
   "outputs": [
    {
     "data": {
      "text/plain": [
       "array(['LEDGER', 'REGULAR', 'FAST_PAYMENT'], dtype=object)"
      ]
     },
     "execution_count": 36,
     "metadata": {},
     "output_type": "execute_result"
    }
   ],
   "source": [
    "lender_1['source'].unique()"
   ]
  },
  {
   "cell_type": "markdown",
   "metadata": {},
   "source": [
    "### CURRENT DATES"
   ]
  },
  {
   "cell_type": "code",
   "execution_count": 37,
   "metadata": {},
   "outputs": [
    {
     "data": {
      "text/html": [
       "<div>\n",
       "<style scoped>\n",
       "    .dataframe tbody tr th:only-of-type {\n",
       "        vertical-align: middle;\n",
       "    }\n",
       "\n",
       "    .dataframe tbody tr th {\n",
       "        vertical-align: top;\n",
       "    }\n",
       "\n",
       "    .dataframe thead th {\n",
       "        text-align: right;\n",
       "    }\n",
       "</style>\n",
       "<table border=\"1\" class=\"dataframe\">\n",
       "  <thead>\n",
       "    <tr style=\"text-align: right;\">\n",
       "      <th></th>\n",
       "      <th>collection_date_local</th>\n",
       "      <th>merchant_token</th>\n",
       "      <th>merchant_id</th>\n",
       "      <th>loan_id</th>\n",
       "      <th>provider_code</th>\n",
       "      <th>collection_origin</th>\n",
       "      <th>source</th>\n",
       "      <th>amount</th>\n",
       "      <th>capital</th>\n",
       "      <th>interest</th>\n",
       "      <th>tax</th>\n",
       "      <th>file_name</th>\n",
       "    </tr>\n",
       "  </thead>\n",
       "  <tbody>\n",
       "    <tr>\n",
       "      <th>0</th>\n",
       "      <td>2023-06-01</td>\n",
       "      <td>4aac41de-6c8b-4d95-8e9e-fe77ed5dd21a</td>\n",
       "      <td>c4c082df-7d14-4ad5-b798-dfef7068796a</td>\n",
       "      <td>b8a7f382-8bb1-4971-8a24-e5dc0a0c0e5c</td>\n",
       "      <td>MRP</td>\n",
       "      <td>SETTLEMENT</td>\n",
       "      <td>LEDGER</td>\n",
       "      <td>4.17</td>\n",
       "      <td>3.46</td>\n",
       "      <td>0.61</td>\n",
       "      <td>0.10</td>\n",
       "      <td>LENDERS DB JUNIO 2023.csv</td>\n",
       "    </tr>\n",
       "    <tr>\n",
       "      <th>1</th>\n",
       "      <td>2023-06-01</td>\n",
       "      <td>ef38619b-65aa-4456-b281-14946a48b7c4</td>\n",
       "      <td>1f276b10-d477-492d-a38e-0b0e95fb960d</td>\n",
       "      <td>37c9ae9a-7cbb-4fe0-a3a4-f3b7d06cbe79</td>\n",
       "      <td>MRP</td>\n",
       "      <td>SETTLEMENT</td>\n",
       "      <td>LEDGER</td>\n",
       "      <td>7.44</td>\n",
       "      <td>5.36</td>\n",
       "      <td>2.08</td>\n",
       "      <td>0.00</td>\n",
       "      <td>LENDERS DB JUNIO 2023.csv</td>\n",
       "    </tr>\n",
       "    <tr>\n",
       "      <th>2</th>\n",
       "      <td>2023-06-01</td>\n",
       "      <td>ef38619b-65aa-4456-b281-14946a48b7c4</td>\n",
       "      <td>1f276b10-d477-492d-a38e-0b0e95fb960d</td>\n",
       "      <td>37c9ae9a-7cbb-4fe0-a3a4-f3b7d06cbe79</td>\n",
       "      <td>MRP</td>\n",
       "      <td>SETTLEMENT</td>\n",
       "      <td>LEDGER</td>\n",
       "      <td>46.80</td>\n",
       "      <td>33.70</td>\n",
       "      <td>13.10</td>\n",
       "      <td>0.00</td>\n",
       "      <td>LENDERS DB JUNIO 2023.csv</td>\n",
       "    </tr>\n",
       "    <tr>\n",
       "      <th>3</th>\n",
       "      <td>2023-06-01</td>\n",
       "      <td>ef38619b-65aa-4456-b281-14946a48b7c4</td>\n",
       "      <td>1f276b10-d477-492d-a38e-0b0e95fb960d</td>\n",
       "      <td>37c9ae9a-7cbb-4fe0-a3a4-f3b7d06cbe79</td>\n",
       "      <td>MRP</td>\n",
       "      <td>SETTLEMENT</td>\n",
       "      <td>LEDGER</td>\n",
       "      <td>41.48</td>\n",
       "      <td>29.87</td>\n",
       "      <td>11.61</td>\n",
       "      <td>0.00</td>\n",
       "      <td>LENDERS DB JUNIO 2023.csv</td>\n",
       "    </tr>\n",
       "    <tr>\n",
       "      <th>4</th>\n",
       "      <td>2023-06-01</td>\n",
       "      <td>ef38619b-65aa-4456-b281-14946a48b7c4</td>\n",
       "      <td>1f276b10-d477-492d-a38e-0b0e95fb960d</td>\n",
       "      <td>37c9ae9a-7cbb-4fe0-a3a4-f3b7d06cbe79</td>\n",
       "      <td>MRP</td>\n",
       "      <td>SETTLEMENT</td>\n",
       "      <td>LEDGER</td>\n",
       "      <td>37.05</td>\n",
       "      <td>26.68</td>\n",
       "      <td>10.37</td>\n",
       "      <td>0.00</td>\n",
       "      <td>LENDERS DB JUNIO 2023.csv</td>\n",
       "    </tr>\n",
       "  </tbody>\n",
       "</table>\n",
       "</div>"
      ],
      "text/plain": [
       "  collection_date_local                        merchant_token  \\\n",
       "0            2023-06-01  4aac41de-6c8b-4d95-8e9e-fe77ed5dd21a   \n",
       "1            2023-06-01  ef38619b-65aa-4456-b281-14946a48b7c4   \n",
       "2            2023-06-01  ef38619b-65aa-4456-b281-14946a48b7c4   \n",
       "3            2023-06-01  ef38619b-65aa-4456-b281-14946a48b7c4   \n",
       "4            2023-06-01  ef38619b-65aa-4456-b281-14946a48b7c4   \n",
       "\n",
       "                            merchant_id                               loan_id  \\\n",
       "0  c4c082df-7d14-4ad5-b798-dfef7068796a  b8a7f382-8bb1-4971-8a24-e5dc0a0c0e5c   \n",
       "1  1f276b10-d477-492d-a38e-0b0e95fb960d  37c9ae9a-7cbb-4fe0-a3a4-f3b7d06cbe79   \n",
       "2  1f276b10-d477-492d-a38e-0b0e95fb960d  37c9ae9a-7cbb-4fe0-a3a4-f3b7d06cbe79   \n",
       "3  1f276b10-d477-492d-a38e-0b0e95fb960d  37c9ae9a-7cbb-4fe0-a3a4-f3b7d06cbe79   \n",
       "4  1f276b10-d477-492d-a38e-0b0e95fb960d  37c9ae9a-7cbb-4fe0-a3a4-f3b7d06cbe79   \n",
       "\n",
       "  provider_code collection_origin  source  amount  capital  interest  tax  \\\n",
       "0           MRP        SETTLEMENT  LEDGER    4.17     3.46      0.61 0.10   \n",
       "1           MRP        SETTLEMENT  LEDGER    7.44     5.36      2.08 0.00   \n",
       "2           MRP        SETTLEMENT  LEDGER   46.80    33.70     13.10 0.00   \n",
       "3           MRP        SETTLEMENT  LEDGER   41.48    29.87     11.61 0.00   \n",
       "4           MRP        SETTLEMENT  LEDGER   37.05    26.68     10.37 0.00   \n",
       "\n",
       "                   file_name  \n",
       "0  LENDERS DB JUNIO 2023.csv  \n",
       "1  LENDERS DB JUNIO 2023.csv  \n",
       "2  LENDERS DB JUNIO 2023.csv  \n",
       "3  LENDERS DB JUNIO 2023.csv  \n",
       "4  LENDERS DB JUNIO 2023.csv  "
      ]
     },
     "execution_count": 37,
     "metadata": {},
     "output_type": "execute_result"
    }
   ],
   "source": [
    "lender_current_month = lender_1[(lender_1['collection_date_local'] >= start_date) &\n",
    "                                (lender_1['collection_date_local'] <= final_date)]\n",
    "lender_current_month.head()"
   ]
  },
  {
   "cell_type": "code",
   "execution_count": 38,
   "metadata": {},
   "outputs": [
    {
     "data": {
      "text/plain": [
       "(848741, 12)"
      ]
     },
     "execution_count": 38,
     "metadata": {},
     "output_type": "execute_result"
    }
   ],
   "source": [
    "lender_current_month.shape"
   ]
  },
  {
   "cell_type": "code",
   "execution_count": 39,
   "metadata": {},
   "outputs": [
    {
     "data": {
      "text/plain": [
       "array(['MRP', 'R2', 'CTO', 'AVL', 'APH'], dtype=object)"
      ]
     },
     "execution_count": 39,
     "metadata": {},
     "output_type": "execute_result"
    }
   ],
   "source": [
    "lender_current_month['provider_code'].unique()"
   ]
  },
  {
   "cell_type": "markdown",
   "metadata": {},
   "source": [
    "### PIVOT CLIP"
   ]
  },
  {
   "cell_type": "code",
   "execution_count": 40,
   "metadata": {},
   "outputs": [],
   "source": [
    "lender_clip = lender_current_month[(lender_current_month['provider_code'] == 'CLIP')]"
   ]
  },
  {
   "cell_type": "code",
   "execution_count": 41,
   "metadata": {},
   "outputs": [],
   "source": [
    "# lender_pivot_clip_1 = lender_clip.groupby(['Creation Date','Date']).agg({'Collected today':sum,'Capital today':sum\n",
    "#                                                                        ,'Interests today':sum,'IVA Interests today':sum\n",
    "#                                                                        ,'Overdue Interest today':sum,'Total today':sum\n",
    "#                                                                        ,'CLIP Revenue today':sum}).reset_index()\n",
    "# lender_pivot_clip_1.head()"
   ]
  },
  {
   "cell_type": "code",
   "execution_count": 42,
   "metadata": {},
   "outputs": [],
   "source": [
    "# lender_pivot_clip_1.shape"
   ]
  },
  {
   "cell_type": "code",
   "execution_count": 43,
   "metadata": {},
   "outputs": [
    {
     "data": {
      "text/html": [
       "<div>\n",
       "<style scoped>\n",
       "    .dataframe tbody tr th:only-of-type {\n",
       "        vertical-align: middle;\n",
       "    }\n",
       "\n",
       "    .dataframe tbody tr th {\n",
       "        vertical-align: top;\n",
       "    }\n",
       "\n",
       "    .dataframe thead th {\n",
       "        text-align: right;\n",
       "    }\n",
       "</style>\n",
       "<table border=\"1\" class=\"dataframe\">\n",
       "  <thead>\n",
       "    <tr style=\"text-align: right;\">\n",
       "      <th></th>\n",
       "      <th>collection_date_local</th>\n",
       "      <th>amount</th>\n",
       "      <th>capital</th>\n",
       "      <th>interest</th>\n",
       "      <th>tax</th>\n",
       "    </tr>\n",
       "  </thead>\n",
       "  <tbody>\n",
       "  </tbody>\n",
       "</table>\n",
       "</div>"
      ],
      "text/plain": [
       "Empty DataFrame\n",
       "Columns: [collection_date_local, amount, capital, interest, tax]\n",
       "Index: []"
      ]
     },
     "execution_count": 43,
     "metadata": {},
     "output_type": "execute_result"
    }
   ],
   "source": [
    "lender_pivot_clip_2 = lender_clip.groupby(['collection_date_local']).agg({'amount':sum,'capital':sum,'interest':sum\n",
    "                                                 ,'tax':sum}).reset_index()\n",
    "lender_pivot_clip_2.head()"
   ]
  },
  {
   "cell_type": "code",
   "execution_count": 44,
   "metadata": {},
   "outputs": [
    {
     "data": {
      "text/plain": [
       "(0, 5)"
      ]
     },
     "execution_count": 44,
     "metadata": {},
     "output_type": "execute_result"
    }
   ],
   "source": [
    "lender_pivot_clip_2.shape"
   ]
  },
  {
   "cell_type": "markdown",
   "metadata": {},
   "source": [
    "### PIVOT OTHERS"
   ]
  },
  {
   "cell_type": "code",
   "execution_count": 45,
   "metadata": {},
   "outputs": [],
   "source": [
    "lender_others = lender_current_month[(lender_current_month['provider_code'] != 'CLIP')]"
   ]
  },
  {
   "cell_type": "code",
   "execution_count": 46,
   "metadata": {},
   "outputs": [
    {
     "data": {
      "text/html": [
       "<div>\n",
       "<style scoped>\n",
       "    .dataframe tbody tr th:only-of-type {\n",
       "        vertical-align: middle;\n",
       "    }\n",
       "\n",
       "    .dataframe tbody tr th {\n",
       "        vertical-align: top;\n",
       "    }\n",
       "\n",
       "    .dataframe thead th {\n",
       "        text-align: right;\n",
       "    }\n",
       "</style>\n",
       "<table border=\"1\" class=\"dataframe\">\n",
       "  <thead>\n",
       "    <tr style=\"text-align: right;\">\n",
       "      <th></th>\n",
       "      <th>collection_date_local</th>\n",
       "      <th>amount</th>\n",
       "      <th>capital</th>\n",
       "      <th>interest</th>\n",
       "      <th>tax</th>\n",
       "    </tr>\n",
       "  </thead>\n",
       "  <tbody>\n",
       "    <tr>\n",
       "      <th>0</th>\n",
       "      <td>2023-06-01</td>\n",
       "      <td>1,754,880.33</td>\n",
       "      <td>1,295,913.40</td>\n",
       "      <td>398,117.31</td>\n",
       "      <td>60,849.62</td>\n",
       "    </tr>\n",
       "    <tr>\n",
       "      <th>1</th>\n",
       "      <td>2023-06-02</td>\n",
       "      <td>2,183,626.10</td>\n",
       "      <td>1,617,505.20</td>\n",
       "      <td>490,985.33</td>\n",
       "      <td>75,135.57</td>\n",
       "    </tr>\n",
       "    <tr>\n",
       "      <th>2</th>\n",
       "      <td>2023-06-03</td>\n",
       "      <td>2,461,642.22</td>\n",
       "      <td>1,816,100.43</td>\n",
       "      <td>559,517.87</td>\n",
       "      <td>86,023.92</td>\n",
       "    </tr>\n",
       "    <tr>\n",
       "      <th>3</th>\n",
       "      <td>2023-06-04</td>\n",
       "      <td>1,766,068.49</td>\n",
       "      <td>1,307,470.34</td>\n",
       "      <td>397,495.16</td>\n",
       "      <td>61,102.99</td>\n",
       "    </tr>\n",
       "    <tr>\n",
       "      <th>4</th>\n",
       "      <td>2023-06-05</td>\n",
       "      <td>1,354,916.53</td>\n",
       "      <td>1,002,845.43</td>\n",
       "      <td>304,911.76</td>\n",
       "      <td>47,159.34</td>\n",
       "    </tr>\n",
       "  </tbody>\n",
       "</table>\n",
       "</div>"
      ],
      "text/plain": [
       "  collection_date_local       amount      capital   interest       tax\n",
       "0            2023-06-01 1,754,880.33 1,295,913.40 398,117.31 60,849.62\n",
       "1            2023-06-02 2,183,626.10 1,617,505.20 490,985.33 75,135.57\n",
       "2            2023-06-03 2,461,642.22 1,816,100.43 559,517.87 86,023.92\n",
       "3            2023-06-04 1,766,068.49 1,307,470.34 397,495.16 61,102.99\n",
       "4            2023-06-05 1,354,916.53 1,002,845.43 304,911.76 47,159.34"
      ]
     },
     "execution_count": 46,
     "metadata": {},
     "output_type": "execute_result"
    }
   ],
   "source": [
    "lender_pivot_others = lender_others.groupby(['collection_date_local']).agg({'amount':sum,'capital':sum,'interest':sum\n",
    "                                                 ,'tax':sum}).reset_index()\n",
    "lender_pivot_others.head()"
   ]
  },
  {
   "cell_type": "code",
   "execution_count": 47,
   "metadata": {},
   "outputs": [
    {
     "data": {
      "text/plain": [
       "(30, 5)"
      ]
     },
     "execution_count": 47,
     "metadata": {},
     "output_type": "execute_result"
    }
   ],
   "source": [
    "lender_pivot_others.shape"
   ]
  },
  {
   "cell_type": "markdown",
   "metadata": {},
   "source": [
    "# EXCEL FINAL"
   ]
  },
  {
   "cell_type": "code",
   "execution_count": 48,
   "metadata": {},
   "outputs": [],
   "source": [
    "writer = pd.ExcelWriter('FASE II. DATA POLIZA JUNIO 2023.xlsx',\n",
    "                        engine='xlsxwriter',\n",
    "                        engine_kwargs={'options': {'encoding':'utf-8'}})\n",
    "lender_pivot_clip_2.to_excel(writer, sheet_name='DATA LENDER CLIP',index=False)\n",
    "# lender_pivot_clip_1.to_excel(writer, sheet_name='DATA LENDER CLIP CREATION DATE',index=False)\n",
    "lender_pivot_others.to_excel(writer, sheet_name='DATA LENDER OTHERS',index=False)\n",
    "adj_pivot.to_excel(writer, sheet_name='DATA ADJUSTMENTS',index=False)\n",
    "lib_pivot_v2.to_excel(writer, sheet_name='DATA LIBERACIONES')\n",
    "# ret_pivot_v2.to_excel(writer, sheet_name='DATA RETENCIONES')\n",
    "com_final.to_excel(writer, sheet_name='DATA COMISIONES',index=False)\n",
    "writer.close()"
   ]
  },
  {
   "cell_type": "code",
   "execution_count": null,
   "metadata": {},
   "outputs": [],
   "source": []
  }
 ],
 "metadata": {
  "kernelspec": {
   "display_name": "Python 3 (ipykernel)",
   "language": "python",
   "name": "python3"
  },
  "language_info": {
   "codemirror_mode": {
    "name": "ipython",
    "version": 3
   },
   "file_extension": ".py",
   "mimetype": "text/x-python",
   "name": "python",
   "nbconvert_exporter": "python",
   "pygments_lexer": "ipython3",
   "version": "3.9.17"
  }
 },
 "nbformat": 4,
 "nbformat_minor": 4
}
